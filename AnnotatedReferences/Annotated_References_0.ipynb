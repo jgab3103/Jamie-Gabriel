{
 "cells": [
  {
   "cell_type": "markdown",
   "id": "00db5bd1-94df-4c29-95d2-0b10fc3cd474",
   "metadata": {},
   "source": [
    "Wildberger, N. J. (2020, March). The Mutation Game, Coxeter–Dynkin Graphs, and Generalized Root Systems. In Algebra Colloquium (Vol. 27, No. 01, pp. 55-78). World Scientific Publishing Company.\n",
    "\n",
    "<i>Summary</i><br/>\n",
    "This article covers ADE graphs and has really interesting overview"
   ]
  },
  {
   "cell_type": "code",
   "execution_count": null,
   "id": "7b8ca72b-4571-4ae6-93ce-e4e9d934c0b9",
   "metadata": {},
   "outputs": [],
   "source": []
  }
 ],
 "metadata": {
  "kernelspec": {
   "display_name": "Python 3",
   "language": "python",
   "name": "python3"
  },
  "language_info": {
   "codemirror_mode": {
    "name": "ipython",
    "version": 3
   },
   "file_extension": ".py",
   "mimetype": "text/x-python",
   "name": "python",
   "nbconvert_exporter": "python",
   "pygments_lexer": "ipython3",
   "version": "3.9.2"
  }
 },
 "nbformat": 4,
 "nbformat_minor": 5
}
