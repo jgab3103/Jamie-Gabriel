{
 "cells": [
  {
   "cell_type": "code",
   "execution_count": 389,
   "id": "6dd866d6-49eb-4efc-94c5-70044517bc26",
   "metadata": {},
   "outputs": [],
   "source": [
    "import numpy as np\n",
    "import sympy as sp\n",
    "import pickle\n",
    "from IPython.display import HTML\n",
    "import ipywidgets as widgets\n",
    "import matplotlib as mpl\n",
    "import matplotlib.pyplot as plt\n",
    "from mpl_toolkits.mplot3d import Axes3D\n",
    "import matplotlib.pyplot as plt\n",
    "mpl.rcParams['legend.fontsize'] = 10\n",
    "import pandas as pd\n",
    "import itertools\n",
    "pd.set_option('display.max_colwidth', None)\n",
    "from sympy.plotting import plot \n",
    "\n",
    "#\n",
    "\n",
    "# function to print latex\n",
    "def renderListToLatex(e):\n",
    "    latex_rendering = []\n",
    "\n",
    "    for i in range(len(e)):\n",
    "        latex_rendering.append(\"$$\" + sp.latex(e[i]) + \"$$<br/>\")\n",
    "    \n",
    "    return(HTML(\"\".join(latex_rendering[0:])))\n",
    "\n",
    "def RTL(e):\n",
    "    latex_rendering = []\n",
    "\n",
    "    for i in range(len(e)):\n",
    "        latex_rendering.append(\"$$\" + sp.latex(e[i]) + \"$$<br/>\")\n",
    "    \n",
    "    return(HTML(\"\".join(latex_rendering[0:])))"
   ]
  },
  {
   "cell_type": "markdown",
   "id": "59b98e4b-efa8-4da4-b542-86899b281550",
   "metadata": {},
   "source": [
    "$$ f^{\\prime\\prime}(x) + 2f^\\prime(x) = 3f(x)$$"
   ]
  },
  {
   "cell_type": "markdown",
   "id": "35137f10-3fc5-42a7-9885-03e25f679e85",
   "metadata": {},
   "source": [
    "Differential equation notes\n",
    "\n",
    "- ODE if unknonwn function depends on 1 independent var8iable\n",
    "- If depends on 2 or more, is PDE\n",
    "- Order is the highest derivative appearing  in the equatioi\n",
    "\n"
   ]
  },
  {
   "cell_type": "markdown",
   "id": "b9dca4ad-559e-480e-9606-d3c9047f439e",
   "metadata": {},
   "source": [
    "Chapter 4 gives some basics around terminology\n",
    "\n",
    "Standard form: \n",
    "\n",
    "\n",
    "$$ \\frac{dy}{dx} + Py = Q $$\n",
    "\n",
    "$$ y\\prime = f(x, y) $$\n",
    "\n",
    "Note the RHS can be writeen as a quoteint of 2 functions $M(x, y)$ and $-N(x, y)$ which becomes $ \\frac{dy}{dx} = \\frac{M(x, y)}{-N(x, y)} $ or: \n",
    "\n",
    "$$ M(x, y) dx + N(x, y) dy = 0 $$\n",
    "\n",
    "\n",
    "differential form: \n",
    "\n",
    "$$ dx B - dy C = 0 $$\n",
    "\n",
    "\n",
    "Linear Equations (if standard form can be written as): \n",
    "\n",
    "$$ y\\prime + p(x)y = q(x) $$\n",
    "\n",
    "Bernoulli Equations\n",
    "\n",
    "$$ y\\prime + p(x)y = q(x)y^n $$\n",
    "\n",
    "Where n is a real number. If n = 1 or n = 0, Bernoulli reduced to Linear\n",
    "\n",
    "These are just ways to write equations and group their characteristics\n",
    "\n",
    "Homogenous equations (meaning in first order only). There occur if it is the case that: \n",
    "\n",
    "$$ f(t \\times x, t \\times y) = f(x, y)$$\n",
    "\n",
    "Seperable - y and dy on one side, x and dx on other side\n",
    "\n",
    "exact - put into two x, y funcitons, then test if partial of first function with respect to y is equal to second function with respect to x\n",
    "\n",
    "$ \\frac{\\delta M(x, y)}{\\delta y} = \\frac{\\delta N(x, y)}{\\delta x} $"
   ]
  },
  {
   "cell_type": "markdown",
   "id": "7dd06cf7-e9f1-4d1d-8a95-85478b18a05b",
   "metadata": {},
   "source": [
    "To solve first order sepoeratble problem\n",
    "\n",
    "\n",
    "$$ A(x) dx + B(y) dy = 0$$\n",
    "\n",
    "$$ \\int A(x) dx + \\int B(y) dy = c $$ or in the initial value setting: \n",
    "\n",
    "\n",
    "\n",
    "$$ \\int^x_{x0} A(x) dx + \\int^y_{y0} B(y) dy = c $$"
   ]
  },
  {
   "cell_type": "markdown",
   "id": "5c63bad2-a875-4ab9-8b64-547cd3cf99f1",
   "metadata": {},
   "source": [
    "Reduction of homogenous equations - can be transformed into seperable equation by making the subsutition\n",
    "\n",
    "$$ y = xv $$\n",
    "\n",
    "and its derivative: \n",
    "\n",
    "$$ \\frac{dy}{dx} = v + x \\frac{dv}{dx} $$\n",
    "\n",
    "\n"
   ]
  },
  {
   "cell_type": "code",
   "execution_count": 204,
   "id": "4f4cc921-8040-45d1-989f-1b2d9169741e",
   "metadata": {},
   "outputs": [],
   "source": [
    "# 4.1\n",
    "x, y, y1,  m, b, a, c, c1, c2, t, dx, dy, ty, tx, k, v, dv, u, du = sp.symbols('x, y, y1,  m, b, a, c, c1, c2, t, dx, dy, ty, tx, k, v, dv, u, du')\n"
   ]
  },
  {
   "cell_type": "code",
   "execution_count": 100,
   "id": "35cd1d5e-21e4-427d-abb2-624179720bb4",
   "metadata": {},
   "outputs": [
    {
     "data": {
      "text/latex": [
       "$\\displaystyle dx x - dy y^{2} = 0$"
      ],
      "text/plain": [
       "Eq(dx*x - dy*y**2, 0)"
      ]
     },
     "execution_count": 100,
     "metadata": {},
     "output_type": "execute_result"
    }
   ],
   "source": [
    "E1 = sp.Eq(x * dx - y**2 * dy, 0)\n",
    "E1"
   ]
  },
  {
   "cell_type": "code",
   "execution_count": 101,
   "id": "5a7cc6fb-3cb2-4d7d-a279-6e6bfa245c52",
   "metadata": {},
   "outputs": [
    {
     "data": {
      "text/latex": [
       "$\\displaystyle \\frac{x^{2}}{2} - \\frac{y^{3}}{3} = c$"
      ],
      "text/plain": [
       "Eq(x**2/2 - y**3/3, c)"
      ]
     },
     "execution_count": 101,
     "metadata": {},
     "output_type": "execute_result"
    }
   ],
   "source": [
    "E2 = sp.Eq(sp.integrate(x, x) + sp.integrate(-y**2, y), c)\n",
    "E2"
   ]
  },
  {
   "cell_type": "code",
   "execution_count": 102,
   "id": "3397fedd-a8ca-4084-bfe9-31e53649780c",
   "metadata": {},
   "outputs": [
    {
     "data": {
      "text/latex": [
       "$\\displaystyle \\sqrt[3]{- 3 c + \\frac{3 x^{2}}{2}}$"
      ],
      "text/plain": [
       "(-3*c + 3*x**2/2)**(1/3)"
      ]
     },
     "execution_count": 102,
     "metadata": {},
     "output_type": "execute_result"
    }
   ],
   "source": [
    "sp.solve(E2, y)[0]"
   ]
  },
  {
   "cell_type": "code",
   "execution_count": 103,
   "id": "0871a931-fc45-4474-8c42-5ea407b65fcb",
   "metadata": {},
   "outputs": [
    {
     "data": {
      "text/latex": [
       "$\\displaystyle \\frac{dy}{dx} = x^{3} y^{2}$"
      ],
      "text/plain": [
       "Eq(dy/dx, x**3*y**2)"
      ]
     },
     "execution_count": 103,
     "metadata": {},
     "output_type": "execute_result"
    }
   ],
   "source": [
    "# 4.2\n",
    "\n",
    "E1 = sp.Eq(dy/dx, y**2 * x**3)\n",
    "E1"
   ]
  },
  {
   "cell_type": "code",
   "execution_count": 104,
   "id": "b71f1d57-37e2-487f-b325-d215f9491598",
   "metadata": {},
   "outputs": [
    {
     "data": {
      "text/latex": [
       "$\\displaystyle \\frac{dy}{y^{2}} = dx x^{3}$"
      ],
      "text/plain": [
       "Eq(dy/y**2, dx*x**3)"
      ]
     },
     "execution_count": 104,
     "metadata": {},
     "output_type": "execute_result"
    }
   ],
   "source": [
    "E2 = sp.Eq(dy/y**2, x**3 * dx)\n",
    "E2"
   ]
  },
  {
   "cell_type": "code",
   "execution_count": 105,
   "id": "9888cd20-520f-4b8a-984f-4a6d3c5bc29c",
   "metadata": {},
   "outputs": [
    {
     "data": {
      "text/latex": [
       "$\\displaystyle \\frac{x^{4}}{4} - \\frac{1}{y}$"
      ],
      "text/plain": [
       "x**4/4 - 1/y"
      ]
     },
     "execution_count": 105,
     "metadata": {},
     "output_type": "execute_result"
    }
   ],
   "source": [
    "E3 = sp.integrate(x**3, x) + sp.integrate(1 / y**2, y)\n",
    "E3"
   ]
  },
  {
   "cell_type": "code",
   "execution_count": 106,
   "id": "b6de3caf-c8a5-4e1b-8513-739f1127663c",
   "metadata": {},
   "outputs": [
    {
     "data": {
      "text/latex": [
       "$\\displaystyle \\frac{x^{4}}{4} - \\frac{1}{y} = c$"
      ],
      "text/plain": [
       "Eq(x**4/4 - 1/y, c)"
      ]
     },
     "execution_count": 106,
     "metadata": {},
     "output_type": "execute_result"
    }
   ],
   "source": [
    "E4 = sp.Eq(E3, c)\n",
    "E4"
   ]
  },
  {
   "cell_type": "code",
   "execution_count": 107,
   "id": "38202243-e7ad-4630-80c9-9aec85722dee",
   "metadata": {},
   "outputs": [
    {
     "data": {
      "text/latex": [
       "$\\displaystyle \\frac{4}{- 4 c + x^{4}}$"
      ],
      "text/plain": [
       "4/(-4*c + x**4)"
      ]
     },
     "execution_count": 107,
     "metadata": {},
     "output_type": "execute_result"
    }
   ],
   "source": [
    "sp.solve(E4, y)[0]"
   ]
  },
  {
   "cell_type": "code",
   "execution_count": 108,
   "id": "7fcf5498-7bf1-47b4-bdab-88e4642c6f14",
   "metadata": {},
   "outputs": [
    {
     "data": {
      "text/latex": [
       "$\\displaystyle dy y = dx \\left(x^{2} + 2\\right)$"
      ],
      "text/plain": [
       "Eq(dy*y, dx*(x**2 + 2))"
      ]
     },
     "execution_count": 108,
     "metadata": {},
     "output_type": "execute_result"
    }
   ],
   "source": [
    "# 4.3\n",
    "E1 = sp.Eq(dy * y, dx * (x**2 + 2))\n",
    "E1"
   ]
  },
  {
   "cell_type": "code",
   "execution_count": 109,
   "id": "4961f05c-a816-48a2-993a-320cdb3077ed",
   "metadata": {},
   "outputs": [
    {
     "data": {
      "text/latex": [
       "$\\displaystyle \\frac{x^{3}}{3} + 2 x + \\frac{y^{2}}{2} = c$"
      ],
      "text/plain": [
       "Eq(x**3/3 + 2*x + y**2/2, c)"
      ]
     },
     "execution_count": 109,
     "metadata": {},
     "output_type": "execute_result"
    }
   ],
   "source": [
    "E2 = sp.Eq(sp.integrate(x**2 + 2, x) + sp.integrate(y, y), c)\n",
    "E2"
   ]
  },
  {
   "cell_type": "code",
   "execution_count": 110,
   "id": "f0938c22-8e21-4ff6-8712-91bba90d2ee1",
   "metadata": {},
   "outputs": [
    {
     "data": {
      "text/html": [
       "$$- \\frac{\\sqrt{18 c - 6 x^{3} - 36 x}}{3}$$<br/>$$\\frac{\\sqrt{18 c - 6 x^{3} - 36 x}}{3}$$<br/>"
      ],
      "text/plain": [
       "<IPython.core.display.HTML object>"
      ]
     },
     "execution_count": 110,
     "metadata": {},
     "output_type": "execute_result"
    }
   ],
   "source": [
    "renderListToLatex(sp.solve(E2, y))"
   ]
  },
  {
   "cell_type": "code",
   "execution_count": 111,
   "id": "0af24383-27e9-4a31-af1a-95e8fd7ac51a",
   "metadata": {},
   "outputs": [
    {
     "data": {
      "text/latex": [
       "$\\displaystyle 5 x + \\log{\\left(y \\right)}$"
      ],
      "text/plain": [
       "5*x + log(y)"
      ]
     },
     "execution_count": 111,
     "metadata": {},
     "output_type": "execute_result"
    }
   ],
   "source": [
    "# 4.4\n",
    "E1 = sp.integrate(1/y, y) + sp.integrate(5, x)\n",
    "E1"
   ]
  },
  {
   "cell_type": "code",
   "execution_count": 112,
   "id": "a1fb7551-9a1e-45e7-9ee2-72f6596d42cd",
   "metadata": {},
   "outputs": [
    {
     "data": {
      "text/latex": [
       "$\\displaystyle 5 x + \\log{\\left(y \\right)} = c$"
      ],
      "text/plain": [
       "Eq(5*x + log(y), c)"
      ]
     },
     "execution_count": 112,
     "metadata": {},
     "output_type": "execute_result"
    }
   ],
   "source": [
    "E2 = sp.Eq(E1, c)\n",
    "E2"
   ]
  },
  {
   "cell_type": "code",
   "execution_count": 113,
   "id": "69f1da2f-9c07-4a98-aecb-11f7233817c0",
   "metadata": {},
   "outputs": [
    {
     "data": {
      "text/latex": [
       "$\\displaystyle e^{c - 5 x}$"
      ],
      "text/plain": [
       "exp(c - 5*x)"
      ]
     },
     "execution_count": 113,
     "metadata": {},
     "output_type": "execute_result"
    }
   ],
   "source": [
    "sp.solve(E2, y)[0]"
   ]
  },
  {
   "cell_type": "code",
   "execution_count": 114,
   "id": "12d1388b-76a1-40cc-a6ea-75a5da937a0c",
   "metadata": {},
   "outputs": [
    {
     "data": {
      "text/latex": [
       "$\\displaystyle dy \\left(y^{4} + 1\\right) = dx \\left(x + 1\\right)$"
      ],
      "text/plain": [
       "Eq(dy*(y**4 + 1), dx*(x + 1))"
      ]
     },
     "execution_count": 114,
     "metadata": {},
     "output_type": "execute_result"
    }
   ],
   "source": [
    "#4.5\n",
    "\n",
    "E1 = sp.Eq(dy * (y**4 + 1), dx * (x + 1))\n",
    "E1\n"
   ]
  },
  {
   "cell_type": "code",
   "execution_count": 115,
   "id": "a1a7fc42-4e98-4049-9fbe-e6263f4cd853",
   "metadata": {},
   "outputs": [
    {
     "data": {
      "text/latex": [
       "$\\displaystyle \\frac{x^{2}}{2} + x + \\frac{y^{5}}{5} + y = c$"
      ],
      "text/plain": [
       "Eq(x**2/2 + x + y**5/5 + y, c)"
      ]
     },
     "execution_count": 115,
     "metadata": {},
     "output_type": "execute_result"
    }
   ],
   "source": [
    "E2 = sp.Eq(sp.integrate(y**4 + 1, y) + sp.integrate(x + 1, x), c)\n",
    "E2"
   ]
  },
  {
   "cell_type": "code",
   "execution_count": 116,
   "id": "bb617672-92db-4350-8746-9c9a356d88ec",
   "metadata": {},
   "outputs": [
    {
     "data": {
      "text/latex": [
       "$\\displaystyle - t^{2} + \\frac{\\operatorname{atan}{\\left(\\frac{y}{3} \\right)}}{3} = c$"
      ],
      "text/plain": [
       "Eq(-t**2 + atan(y/3)/3, c)"
      ]
     },
     "execution_count": 116,
     "metadata": {},
     "output_type": "execute_result"
    }
   ],
   "source": [
    "# 4.6\n",
    "\n",
    "E1 = sp.integrate(1 / (y**2 + 9), y) + sp.integrate(-2 * t, t)\n",
    "E2 = sp.Eq(E1, c)\n",
    "E2"
   ]
  },
  {
   "cell_type": "code",
   "execution_count": 117,
   "id": "28d9357f-74ab-4f03-b46d-01688295e5cb",
   "metadata": {},
   "outputs": [
    {
     "data": {
      "text/latex": [
       "$\\displaystyle 3 \\tan{\\left(3 c + 3 t^{2} \\right)}$"
      ],
      "text/plain": [
       "3*tan(3*c + 3*t**2)"
      ]
     },
     "execution_count": 117,
     "metadata": {},
     "output_type": "execute_result"
    }
   ],
   "source": [
    "sp.solve(E2, y)[0]"
   ]
  },
  {
   "cell_type": "code",
   "execution_count": 118,
   "id": "c2277c05-1cf3-456b-91fb-696022ee3ca7",
   "metadata": {},
   "outputs": [
    {
     "data": {
      "text/latex": [
       "$\\displaystyle t + \\operatorname{atan}{\\left(x - 1 \\right)}$"
      ],
      "text/plain": [
       "t + atan(x - 1)"
      ]
     },
     "execution_count": 118,
     "metadata": {},
     "output_type": "execute_result"
    }
   ],
   "source": [
    "# 4.7\n",
    "\n",
    "E1 = sp.integrate(1 / (x**2 - 2 * x + 2), x) + sp.integrate(1, t)\n",
    "E1"
   ]
  },
  {
   "cell_type": "code",
   "execution_count": 119,
   "id": "9ca1ed5f-031f-4132-a6ed-1b6273a0abae",
   "metadata": {},
   "outputs": [
    {
     "data": {
      "text/latex": [
       "$\\displaystyle t + \\operatorname{atan}{\\left(x - 1 \\right)} = c$"
      ],
      "text/plain": [
       "Eq(t + atan(x - 1), c)"
      ]
     },
     "execution_count": 119,
     "metadata": {},
     "output_type": "execute_result"
    }
   ],
   "source": [
    "E2 = sp.Eq(E1, c)\n",
    "E2"
   ]
  },
  {
   "cell_type": "code",
   "execution_count": 120,
   "id": "73d92f9e-6385-4284-a5ae-a54e99060fdd",
   "metadata": {},
   "outputs": [
    {
     "data": {
      "text/html": [
       "$$\\tan{\\left(c - t \\right)} + 1$$<br/>"
      ],
      "text/plain": [
       "<IPython.core.display.HTML object>"
      ]
     },
     "execution_count": 120,
     "metadata": {},
     "output_type": "execute_result"
    }
   ],
   "source": [
    "renderListToLatex(sp.solve(E2, x))"
   ]
  },
  {
   "cell_type": "code",
   "execution_count": 121,
   "id": "654bf4eb-2d61-41a1-9e66-2c7a405e0133",
   "metadata": {},
   "outputs": [
    {
     "data": {
      "text/latex": [
       "$\\displaystyle - \\frac{y^{2}}{2} + e^{x} = c$"
      ],
      "text/plain": [
       "Eq(-y**2/2 + exp(x), c)"
      ]
     },
     "execution_count": 121,
     "metadata": {},
     "output_type": "execute_result"
    }
   ],
   "source": [
    "# 4.8\n",
    "\n",
    "E1 = sp.Eq(sp.integrate(sp.E**x, x) + sp.integrate(-y, y), c)\n",
    "E1"
   ]
  },
  {
   "cell_type": "code",
   "execution_count": 122,
   "id": "59c5cd15-9e39-4879-a9f0-facba21b9e47",
   "metadata": {},
   "outputs": [
    {
     "data": {
      "text/html": [
       "$$- \\sqrt{- 2 c + 2 e^{x}}$$<br/>$$\\sqrt{- 2 c + 2 e^{x}}$$<br/>"
      ],
      "text/plain": [
       "<IPython.core.display.HTML object>"
      ]
     },
     "execution_count": 122,
     "metadata": {},
     "output_type": "execute_result"
    }
   ],
   "source": [
    "E2 = sp.solve(E1, y)\n",
    "renderListToLatex(sp.solve(E1, y))"
   ]
  },
  {
   "cell_type": "code",
   "execution_count": 123,
   "id": "d2f845ec-e64a-4c3b-892d-fba683c921ed",
   "metadata": {},
   "outputs": [
    {
     "data": {
      "text/html": [
       "$$- \\sqrt{k + 2 e^{x}}$$<br/>$$\\sqrt{k + 2 e^{x}}$$<br/>"
      ],
      "text/plain": [
       "<IPython.core.display.HTML object>"
      ]
     },
     "execution_count": 123,
     "metadata": {},
     "output_type": "execute_result"
    }
   ],
   "source": [
    "E3 = E2[0].subs({c: k/-2}).simplify()\n",
    "E4 = E2[1].subs({c: k/-2}).simplify()\n",
    "renderListToLatex([E3, E4])"
   ]
  },
  {
   "cell_type": "code",
   "execution_count": 124,
   "id": "94149740-51b3-43e7-a29a-c0b239140382",
   "metadata": {},
   "outputs": [
    {
     "data": {
      "text/html": [
       "$$1 = - \\sqrt{k + 2}$$<br/>$$1 = \\sqrt{k + 2}$$<br/>"
      ],
      "text/plain": [
       "<IPython.core.display.HTML object>"
      ]
     },
     "execution_count": 124,
     "metadata": {},
     "output_type": "execute_result"
    }
   ],
   "source": [
    "E5 = sp.Eq(y, E3).subs({y: 1, x:0})\n",
    "E6 = sp.Eq(y, E4).subs({y: 1, x:0})\n",
    "renderListToLatex([E5, E6])"
   ]
  },
  {
   "cell_type": "code",
   "execution_count": 125,
   "id": "1d9723d7-153f-4b76-96dd-80c93caaa658",
   "metadata": {},
   "outputs": [
    {
     "data": {
      "text/plain": [
       "[-1]"
      ]
     },
     "execution_count": 125,
     "metadata": {},
     "output_type": "execute_result"
    }
   ],
   "source": [
    "sp.solve(E6, k)"
   ]
  },
  {
   "cell_type": "code",
   "execution_count": 126,
   "id": "cc3a3b8d-a923-4dc0-aca3-bb36ba27602c",
   "metadata": {},
   "outputs": [
    {
     "data": {
      "text/latex": [
       "$\\displaystyle 1 - e^{x}$"
      ],
      "text/plain": [
       "1 - exp(x)"
      ]
     },
     "execution_count": 126,
     "metadata": {},
     "output_type": "execute_result"
    }
   ],
   "source": [
    "# 4.9\n",
    "\n",
    "E1 = sp.integrate(sp.E**x, (x, x, 0))\n",
    "E1"
   ]
  },
  {
   "cell_type": "code",
   "execution_count": 127,
   "id": "757b8f85-027a-4d6a-85a3-bd7e8321ef72",
   "metadata": {},
   "outputs": [
    {
     "data": {
      "text/latex": [
       "$\\displaystyle \\frac{y^{2}}{2} - \\frac{1}{2}$"
      ],
      "text/plain": [
       "y**2/2 - 1/2"
      ]
     },
     "execution_count": 127,
     "metadata": {},
     "output_type": "execute_result"
    }
   ],
   "source": [
    "E2 = sp.integrate(-y, (y, y, 1))\n",
    "\n",
    "E2"
   ]
  },
  {
   "cell_type": "code",
   "execution_count": 128,
   "id": "87e7bf29-d003-4615-a344-d4431d2d8879",
   "metadata": {},
   "outputs": [
    {
     "data": {
      "text/latex": [
       "$\\displaystyle \\frac{y^{2}}{2} - e^{x} + \\frac{1}{2} = 0$"
      ],
      "text/plain": [
       "Eq(y**2/2 - exp(x) + 1/2, 0)"
      ]
     },
     "execution_count": 128,
     "metadata": {},
     "output_type": "execute_result"
    }
   ],
   "source": [
    "E3  = sp.Eq(E1 + E2, 0)\n",
    "E3"
   ]
  },
  {
   "cell_type": "code",
   "execution_count": 129,
   "id": "3b8b0ef0-8af5-4652-9dac-f90b366fea5a",
   "metadata": {},
   "outputs": [
    {
     "data": {
      "text/latex": [
       "$\\displaystyle \\sqrt{2 e^{x} - 1}$"
      ],
      "text/plain": [
       "sqrt(2*exp(x) - 1)"
      ]
     },
     "execution_count": 129,
     "metadata": {},
     "output_type": "execute_result"
    }
   ],
   "source": [
    "sp.solve(E3, y)[1]"
   ]
  },
  {
   "cell_type": "code",
   "execution_count": 130,
   "id": "3dbedfdf-1143-49f0-b892-e68e56fff5ee",
   "metadata": {},
   "outputs": [
    {
     "data": {
      "text/latex": [
       "$\\displaystyle - x \\sin{\\left(x \\right)} - \\cos{\\left(x \\right)} - 1$"
      ],
      "text/plain": [
       "-x*sin(x) - cos(x) - 1"
      ]
     },
     "execution_count": 130,
     "metadata": {},
     "output_type": "execute_result"
    }
   ],
   "source": [
    "# 4.10\n",
    "\n",
    "E1 = sp.integrate(x * sp.cos(x), (x, x, sp.pi))\n",
    "E1"
   ]
  },
  {
   "cell_type": "code",
   "execution_count": 131,
   "id": "7f9ab5ca-6585-4d24-aac1-9c352cac50cd",
   "metadata": {},
   "outputs": [
    {
     "data": {
      "text/latex": [
       "$\\displaystyle y^{6} - y$"
      ],
      "text/plain": [
       "y**6 - y"
      ]
     },
     "execution_count": 131,
     "metadata": {},
     "output_type": "execute_result"
    }
   ],
   "source": [
    "E2 = sp.integrate(1 - 6 * y**5, (y, y, 0))\n",
    "E2"
   ]
  },
  {
   "cell_type": "code",
   "execution_count": 132,
   "id": "08ef2e6d-ae9a-4a10-847d-1c75331d070a",
   "metadata": {},
   "outputs": [
    {
     "data": {
      "text/latex": [
       "$\\displaystyle - x \\sin{\\left(x \\right)} + y^{6} - y - \\cos{\\left(x \\right)} - 1 = 0$"
      ],
      "text/plain": [
       "Eq(-x*sin(x) + y**6 - y - cos(x) - 1, 0)"
      ]
     },
     "execution_count": 132,
     "metadata": {},
     "output_type": "execute_result"
    }
   ],
   "source": [
    "E3 = sp.Eq(E1 + E2, 0)\n",
    "E3"
   ]
  },
  {
   "cell_type": "code",
   "execution_count": 133,
   "id": "da44ed12-f28e-4c5e-95a2-a247f5e80299",
   "metadata": {},
   "outputs": [
    {
     "data": {
      "text/plain": [
       "[]"
      ]
     },
     "execution_count": 133,
     "metadata": {},
     "output_type": "execute_result"
    }
   ],
   "source": [
    "sp.solve(E3, y)"
   ]
  },
  {
   "cell_type": "markdown",
   "id": "b9ef90f1-633e-4377-a891-bc33d86833a2",
   "metadata": {},
   "source": [
    "Reduction of homogenous equations - can be transformed into seperable equation by making the subsutition\n",
    "\n",
    "$$ y = xv $$\n",
    "\n",
    "and its derivative: \n",
    "\n",
    "$$ \\frac{dy}{dx} = v + x \\frac{dv}{dx} $$\n",
    "\n",
    "If equation is homegenous you can do this\n",
    "\n"
   ]
  },
  {
   "cell_type": "code",
   "execution_count": 136,
   "id": "707b0fdb-f9b0-47dd-a66d-8ca3770dae3d",
   "metadata": {},
   "outputs": [
    {
     "data": {
      "text/latex": [
       "$\\displaystyle v + \\log{\\left(x \\right)} = c$"
      ],
      "text/plain": [
       "Eq(v + log(x), c)"
      ]
     },
     "execution_count": 136,
     "metadata": {},
     "output_type": "execute_result"
    }
   ],
   "source": [
    "# 4.11\n",
    "\n",
    "E1 = sp.Eq(sp.integrate(1/x, x) + sp.integrate(1, v), c)\n",
    "E1"
   ]
  },
  {
   "cell_type": "code",
   "execution_count": 138,
   "id": "1102c486-f545-44c0-b783-c7835142fbf6",
   "metadata": {},
   "outputs": [
    {
     "data": {
      "text/latex": [
       "$\\displaystyle y_{1} = \\frac{x^{4} + 2 y^{4}}{x y^{3}}$"
      ],
      "text/plain": [
       "Eq(y1, (x**4 + 2*y**4)/(x*y**3))"
      ]
     },
     "execution_count": 138,
     "metadata": {},
     "output_type": "execute_result"
    }
   ],
   "source": [
    "#4.12\n",
    "\n",
    "E1 = sp.Eq(y1, (2 * y**4 + x**4) / (x * y**3))\n",
    "E1"
   ]
  },
  {
   "cell_type": "code",
   "execution_count": 142,
   "id": "89f158f5-2f64-4a6c-ab5b-b315b3b00e16",
   "metadata": {},
   "outputs": [
    {
     "data": {
      "text/latex": [
       "$\\displaystyle y_{1} = \\frac{x^{3}}{y^{3}} + \\frac{2 y}{x}$"
      ],
      "text/plain": [
       "Eq(y1, x**3/y**3 + 2*y/x)"
      ]
     },
     "execution_count": 142,
     "metadata": {},
     "output_type": "execute_result"
    }
   ],
   "source": [
    "# check if homogenous\n",
    "\n",
    "E2 = E1.subs({x: t * x, y: t * y}).simplify()\n",
    "E2"
   ]
  },
  {
   "cell_type": "code",
   "execution_count": 146,
   "id": "1e24f0fb-c68e-4991-94d6-81eec845548a",
   "metadata": {},
   "outputs": [
    {
     "data": {
      "text/latex": [
       "$\\displaystyle 0$"
      ],
      "text/plain": [
       "0"
      ]
     },
     "execution_count": 146,
     "metadata": {},
     "output_type": "execute_result"
    }
   ],
   "source": [
    "# this is homegenous\n",
    "(E1.rhs - E2.rhs).simplify()"
   ]
  },
  {
   "cell_type": "code",
   "execution_count": 167,
   "id": "cd1bc43f-9549-493f-a093-78cb0cdb734b",
   "metadata": {},
   "outputs": [
    {
     "data": {
      "text/latex": [
       "$\\displaystyle y_{1} = \\frac{2 v^{4} x^{4} + x^{4}}{v^{3} x^{4}}$"
      ],
      "text/plain": [
       "Eq(y1, (2*v**4*x**4 + x**4)/(v**3*x**4))"
      ]
     },
     "execution_count": 167,
     "metadata": {},
     "output_type": "execute_result"
    }
   ],
   "source": [
    "E3 = E1.subs({y: x * v})\n",
    "E3"
   ]
  },
  {
   "cell_type": "code",
   "execution_count": 168,
   "id": "cfe49149-8299-44eb-9781-233d3617d19b",
   "metadata": {},
   "outputs": [
    {
     "data": {
      "text/latex": [
       "$\\displaystyle \\frac{dv x}{dx} + v = \\frac{2 v^{4} x^{4} + x^{4}}{v^{3} x^{4}}$"
      ],
      "text/plain": [
       "Eq(dv*x/dx + v, (2*v**4*x**4 + x**4)/(v**3*x**4))"
      ]
     },
     "execution_count": 168,
     "metadata": {},
     "output_type": "execute_result"
    }
   ],
   "source": [
    "E4 = E3.subs({y1: v + x * (dv/dx)})\n",
    "E4"
   ]
  },
  {
   "cell_type": "code",
   "execution_count": 173,
   "id": "5bed107e-e556-4cb9-9e00-002a688852c4",
   "metadata": {},
   "outputs": [
    {
     "data": {
      "text/latex": [
       "$\\displaystyle dv = \\frac{dx \\left(v^{4} + 1\\right)}{v^{3} x}$"
      ],
      "text/plain": [
       "Eq(dv, dx*(v**4 + 1)/(v**3*x))"
      ]
     },
     "execution_count": 173,
     "metadata": {},
     "output_type": "execute_result"
    }
   ],
   "source": [
    "E2 = sp.Eq(dv, sp.solve(E4, dv)[0])\n",
    "E2"
   ]
  },
  {
   "cell_type": "code",
   "execution_count": 174,
   "id": "78413f03-05b5-419b-afbc-7a3a939f8f17",
   "metadata": {},
   "outputs": [
    {
     "data": {
      "text/latex": [
       "$\\displaystyle \\frac{dv}{dx} = \\frac{v^{4} + 1}{v^{3} x}$"
      ],
      "text/plain": [
       "Eq(dv/dx, (v**4 + 1)/(v**3*x))"
      ]
     },
     "execution_count": 174,
     "metadata": {},
     "output_type": "execute_result"
    }
   ],
   "source": [
    "E3 = sp.Eq(E2.lhs/dx, E2.rhs/dx)\n",
    "E3"
   ]
  },
  {
   "cell_type": "code",
   "execution_count": 176,
   "id": "1eb3d45d-c766-4c01-854e-07bf8978742b",
   "metadata": {},
   "outputs": [
    {
     "data": {
      "text/latex": [
       "$\\displaystyle \\frac{dv x}{dx} = \\frac{v^{4} + 1}{v^{3}}$"
      ],
      "text/plain": [
       "Eq(dv*x/dx, (v**4 + 1)/v**3)"
      ]
     },
     "execution_count": 176,
     "metadata": {},
     "output_type": "execute_result"
    }
   ],
   "source": [
    "E4 = sp.Eq(E3.lhs * x, E3.rhs * x)\n",
    "E4"
   ]
  },
  {
   "cell_type": "code",
   "execution_count": 178,
   "id": "668d6b82-5727-48e0-8826-07020acee086",
   "metadata": {},
   "outputs": [
    {
     "data": {
      "text/latex": [
       "$\\displaystyle \\frac{x}{dx} = \\frac{v^{4} + 1}{dv v^{3}}$"
      ],
      "text/plain": [
       "Eq(x/dx, (v**4 + 1)/(dv*v**3))"
      ]
     },
     "execution_count": 178,
     "metadata": {},
     "output_type": "execute_result"
    }
   ],
   "source": [
    "E5 = sp.Eq(E4.lhs / dv, E4.rhs  / dv)\n",
    "E5"
   ]
  },
  {
   "cell_type": "code",
   "execution_count": 182,
   "id": "761e68d4-2444-4720-b035-3052f899f7a4",
   "metadata": {},
   "outputs": [
    {
     "data": {
      "text/latex": [
       "$\\displaystyle \\frac{dx}{x} = \\frac{dv v^{3}}{v^{4} + 1}$"
      ],
      "text/plain": [
       "Eq(dx/x, dv*v**3/(v**4 + 1))"
      ]
     },
     "execution_count": 182,
     "metadata": {},
     "output_type": "execute_result"
    }
   ],
   "source": [
    "E6 = sp.Eq(1 / E5.lhs, 1 / E5.rhs)\n",
    "E6"
   ]
  },
  {
   "cell_type": "code",
   "execution_count": 190,
   "id": "d215963f-e86d-4204-90c9-802043d52b21",
   "metadata": {},
   "outputs": [
    {
     "data": {
      "text/latex": [
       "$\\displaystyle \\log{\\left(x \\right)} - \\frac{\\log{\\left(v^{4} + 1 \\right)}}{4} = c$"
      ],
      "text/plain": [
       "Eq(log(x) - log(v**4 + 1)/4, c)"
      ]
     },
     "execution_count": 190,
     "metadata": {},
     "output_type": "execute_result"
    }
   ],
   "source": [
    "E7 = sp.Eq(sp.integrate(1 / x, x) - sp.integrate(v**3 / (v**4 + 1), v), c)\n",
    "E7"
   ]
  },
  {
   "cell_type": "code",
   "execution_count": 194,
   "id": "83193614-69ad-4eb3-bcc5-4b793deecb10",
   "metadata": {},
   "outputs": [
    {
     "data": {
      "text/latex": [
       "$\\displaystyle \\log{\\left(x \\right)} - \\frac{\\log{\\left(1 + \\frac{y^{4}}{x^{4}} \\right)}}{4} = c$"
      ],
      "text/plain": [
       "Eq(log(x) - log(1 + y**4/x**4)/4, c)"
      ]
     },
     "execution_count": 194,
     "metadata": {},
     "output_type": "execute_result"
    }
   ],
   "source": [
    "E8 =  E7.subs({v: y / x})\n",
    "E8"
   ]
  },
  {
   "cell_type": "code",
   "execution_count": 196,
   "id": "47dbbb0e-0b4c-4795-8366-7777f8cbbaf4",
   "metadata": {},
   "outputs": [
    {
     "data": {
      "text/html": [
       "$$- i \\sqrt[4]{x^{4} \\left(-1 + e^{- 4 \\left(c - \\log{\\left(x \\right)}\\right)}\\right)}$$<br/>$$i \\sqrt[4]{- x^{4} \\left(1 - x^{4} e^{- 4 c}\\right)}$$<br/>$$- \\sqrt[4]{x^{4} \\left(-1 + e^{- 4 \\left(c - \\log{\\left(x \\right)}\\right)}\\right)}$$<br/>$$\\sqrt[4]{- x^{4} \\left(1 - x^{4} e^{- 4 c}\\right)}$$<br/>"
      ],
      "text/plain": [
       "<IPython.core.display.HTML object>"
      ]
     },
     "execution_count": 196,
     "metadata": {},
     "output_type": "execute_result"
    }
   ],
   "source": [
    "renderListToLatex(sp.solve(E8, y))"
   ]
  },
  {
   "cell_type": "markdown",
   "id": "69b5e3f8-9e0f-4903-a543-e776e229dc6c",
   "metadata": {},
   "source": [
    "Reduction of homogenous equations - can be transformed into seperable equation by making the subsutition\n",
    "\n",
    "$$ y = xv $$\n",
    "\n",
    "and its derivative: \n",
    "\n",
    "$$ \\frac{dy}{dx} = v + x \\frac{dv}{dx} $$\n",
    "\n",
    "If equation is homegenous you can do this\n"
   ]
  },
  {
   "cell_type": "markdown",
   "id": "1c61c8ec-cf68-4c58-8793-d381315f5ffd",
   "metadata": {},
   "source": [
    "Another apporach is to rewrite the equation as: \n",
    "\n",
    "$$ \\frac{dx}{ dy} = \\frac{1}{f(x, y)} $$\n",
    "\n",
    "and then using the following solution: \n",
    "\n",
    "$$ x = yu $$\n",
    "\n",
    "With the corresponding derivative: \n",
    "\n",
    "$$ \\frac{dx}{dy} = u + y \\frac{du}{dy} $$"
   ]
  },
  {
   "cell_type": "code",
   "execution_count": 212,
   "id": "a33512e7-c254-4cfa-9e78-ee2900745d71",
   "metadata": {},
   "outputs": [
    {
     "data": {
      "text/latex": [
       "$\\displaystyle \\frac{dx}{dy} = \\frac{x y^{3}}{x^{4} + 2 y^{4}}$"
      ],
      "text/plain": [
       "Eq(dx/dy, x*y**3/(x**4 + 2*y**4))"
      ]
     },
     "execution_count": 212,
     "metadata": {},
     "output_type": "execute_result"
    }
   ],
   "source": [
    "# 4.13\n",
    "\n",
    "E1 = sp.Eq(dx / dy, (x * y**3) / (2 * y**4  + x**4))\n",
    "E1"
   ]
  },
  {
   "cell_type": "code",
   "execution_count": 213,
   "id": "58e44a7b-83d7-49ab-9984-9aeb4762ab35",
   "metadata": {},
   "outputs": [
    {
     "data": {
      "text/latex": [
       "$\\displaystyle \\frac{dx}{dy} = \\frac{u y^{4}}{u^{4} y^{4} + 2 y^{4}}$"
      ],
      "text/plain": [
       "Eq(dx/dy, u*y**4/(u**4*y**4 + 2*y**4))"
      ]
     },
     "execution_count": 213,
     "metadata": {},
     "output_type": "execute_result"
    }
   ],
   "source": [
    "E2 = E1.subs({x: y * u})\n",
    "E2"
   ]
  },
  {
   "cell_type": "code",
   "execution_count": 214,
   "id": "3b717a65-3d11-4c91-893a-57b28035e609",
   "metadata": {},
   "outputs": [
    {
     "data": {
      "text/latex": [
       "$\\displaystyle \\frac{du y}{dy} + u = \\frac{u y^{4}}{u^{4} y^{4} + 2 y^{4}}$"
      ],
      "text/plain": [
       "Eq(du*y/dy + u, u*y**4/(u**4*y**4 + 2*y**4))"
      ]
     },
     "execution_count": 214,
     "metadata": {},
     "output_type": "execute_result"
    }
   ],
   "source": [
    "E3 = sp.Eq(u + y * (du / dy), E2.rhs)\n",
    "E3"
   ]
  },
  {
   "cell_type": "code",
   "execution_count": 217,
   "id": "67959d12-6603-42fa-a7da-82c490c694de",
   "metadata": {},
   "outputs": [
    {
     "data": {
      "text/latex": [
       "$\\displaystyle dy = - \\frac{du y \\left(u^{4} + 2\\right)}{u \\left(u^{4} + 1\\right)}$"
      ],
      "text/plain": [
       "Eq(dy, -du*y*(u**4 + 2)/(u*(u**4 + 1)))"
      ]
     },
     "execution_count": 217,
     "metadata": {},
     "output_type": "execute_result"
    }
   ],
   "source": [
    "E4 = sp.Eq(dy, sp.solve(E3, dy)[0])\n",
    "E4"
   ]
  },
  {
   "cell_type": "code",
   "execution_count": 218,
   "id": "9868c8ae-c89a-4c42-9fb2-d66e57a66458",
   "metadata": {},
   "outputs": [
    {
     "data": {
      "text/latex": [
       "$\\displaystyle \\frac{dy}{y} = - \\frac{du \\left(u^{4} + 2\\right)}{u \\left(u^{4} + 1\\right)}$"
      ],
      "text/plain": [
       "Eq(dy/y, -du*(u**4 + 2)/(u*(u**4 + 1)))"
      ]
     },
     "execution_count": 218,
     "metadata": {},
     "output_type": "execute_result"
    }
   ],
   "source": [
    "E5 = sp.Eq(E4.lhs / y, E4.rhs / y)\n",
    "E5"
   ]
  },
  {
   "cell_type": "code",
   "execution_count": 223,
   "id": "37596e82-837b-4eae-9f15-9e6a21c3e950",
   "metadata": {},
   "outputs": [
    {
     "data": {
      "text/latex": [
       "$\\displaystyle 2 \\log{\\left(u \\right)} + \\log{\\left(y \\right)} - \\frac{\\log{\\left(u^{4} + 1 \\right)}}{4} = c$"
      ],
      "text/plain": [
       "Eq(2*log(u) + log(y) - log(u**4 + 1)/4, c)"
      ]
     },
     "execution_count": 223,
     "metadata": {},
     "output_type": "execute_result"
    }
   ],
   "source": [
    "E6 = sp.Eq(sp.integrate(1 / y, y) + sp.integrate((u**4 + 2) / (u * (u**4 + 1))), c)\n",
    "E6"
   ]
  },
  {
   "cell_type": "code",
   "execution_count": 225,
   "id": "1b602b22-d343-4b2c-9992-9eac2829201c",
   "metadata": {},
   "outputs": [
    {
     "data": {
      "text/latex": [
       "$\\displaystyle \\log{\\left(y \\right)} + 2 \\log{\\left(\\frac{x}{y} \\right)} - \\frac{\\log{\\left(\\frac{x^{4}}{y^{4}} + 1 \\right)}}{4} = c$"
      ],
      "text/plain": [
       "Eq(log(y) + 2*log(x/y) - log(x**4/y**4 + 1)/4, c)"
      ]
     },
     "execution_count": 225,
     "metadata": {},
     "output_type": "execute_result"
    }
   ],
   "source": [
    "E7 = E6.subs({u: x / y})\n",
    "E7"
   ]
  },
  {
   "cell_type": "code",
   "execution_count": 228,
   "id": "1e1f571a-b125-43a9-bb2e-91d6956f9043",
   "metadata": {},
   "outputs": [
    {
     "data": {
      "text/html": [
       "$$- i \\sqrt[4]{x^{8} e^{- 4 c} - x^{4}}$$<br/>$$i \\sqrt[4]{x^{8} e^{- 4 c} - x^{4}}$$<br/>$$- \\sqrt[4]{x^{8} e^{- 4 c} - x^{4}}$$<br/>$$\\sqrt[4]{x^{8} e^{- 4 c} - x^{4}}$$<br/>"
      ],
      "text/plain": [
       "<IPython.core.display.HTML object>"
      ]
     },
     "execution_count": 228,
     "metadata": {},
     "output_type": "execute_result"
    }
   ],
   "source": [
    "E8 = sp.solve(E7, y)\n",
    "renderListToLatex(E8)"
   ]
  },
  {
   "cell_type": "code",
   "execution_count": 238,
   "id": "0a5e08c7-3905-466a-9768-c4297cc64dae",
   "metadata": {},
   "outputs": [
    {
     "data": {
      "text/latex": [
       "$\\displaystyle \\frac{dy}{dx} = \\frac{2 x y}{x^{2} - y^{2}}$"
      ],
      "text/plain": [
       "Eq(dy/dx, 2*x*y/(x**2 - y**2))"
      ]
     },
     "execution_count": 238,
     "metadata": {},
     "output_type": "execute_result"
    }
   ],
   "source": [
    "# 4.14\n",
    "E1 = sp.Eq(dy/dx, (2 * x * y) / (x**2 - y**2))\n",
    "E1"
   ]
  },
  {
   "cell_type": "code",
   "execution_count": 239,
   "id": "15e59abf-acea-42f0-b13e-ed32e081512a",
   "metadata": {},
   "outputs": [
    {
     "data": {
      "text/latex": [
       "$\\displaystyle \\frac{2 x y}{x^{2} - y^{2}}$"
      ],
      "text/plain": [
       "2*x*y/(x**2 - y**2)"
      ]
     },
     "execution_count": 239,
     "metadata": {},
     "output_type": "execute_result"
    }
   ],
   "source": [
    "# This is not seperable. Check if homogenous\n",
    "\n",
    "E1.rhs.subs({x: x * t, y: y * t}).simplify()"
   ]
  },
  {
   "cell_type": "code",
   "execution_count": 240,
   "id": "6a108508-7301-4dcb-8975-56cc86491a4e",
   "metadata": {},
   "outputs": [],
   "source": [
    "# this is not seperable, but is homogenous"
   ]
  },
  {
   "cell_type": "markdown",
   "id": "d132649d-71b0-469c-af04-cab97b0ba402",
   "metadata": {},
   "source": [
    "Reduction of homogenous equations - can be transformed into seperable equation by making the subsutition\n",
    "\n",
    "$$ y = xv $$\n",
    "\n",
    "and its derivative: \n",
    "\n",
    "$$ \\frac{dy}{dx} = v + x \\frac{dv}{dx} $$\n",
    "\n",
    "If equation is homegenous you can do this"
   ]
  },
  {
   "cell_type": "code",
   "execution_count": 249,
   "id": "789bd945-6b5a-4ebb-97f9-7b9616d9bfdf",
   "metadata": {},
   "outputs": [
    {
     "data": {
      "text/latex": [
       "$\\displaystyle \\frac{dy}{dx} = \\frac{2 x y}{x^{2} - y^{2}}$"
      ],
      "text/plain": [
       "Eq(dy/dx, 2*x*y/(x**2 - y**2))"
      ]
     },
     "execution_count": 249,
     "metadata": {},
     "output_type": "execute_result"
    }
   ],
   "source": [
    "E1"
   ]
  },
  {
   "cell_type": "code",
   "execution_count": 250,
   "id": "a6ba1906-4f09-42b1-9137-c12a4c22e2ed",
   "metadata": {},
   "outputs": [
    {
     "data": {
      "text/latex": [
       "$\\displaystyle \\frac{dy}{dx} = \\frac{2 v x^{2}}{- v^{2} x^{2} + x^{2}}$"
      ],
      "text/plain": [
       "Eq(dy/dx, 2*v*x**2/(-v**2*x**2 + x**2))"
      ]
     },
     "execution_count": 250,
     "metadata": {},
     "output_type": "execute_result"
    }
   ],
   "source": [
    "E2 = E1.subs({y: x * v})\n",
    "E2"
   ]
  },
  {
   "cell_type": "code",
   "execution_count": 245,
   "id": "54f854ee-4d75-4add-8f32-70682239a188",
   "metadata": {},
   "outputs": [
    {
     "data": {
      "text/latex": [
       "$\\displaystyle \\frac{dv x}{dx} + v = \\frac{2 v x^{2}}{- v^{2} x^{2} + x^{2}}$"
      ],
      "text/plain": [
       "Eq(dv*x/dx + v, 2*v*x**2/(-v**2*x**2 + x**2))"
      ]
     },
     "execution_count": 245,
     "metadata": {},
     "output_type": "execute_result"
    }
   ],
   "source": [
    "E3 = sp.Eq(v + x * (dv / dx), E2.rhs)\n",
    "E3"
   ]
  },
  {
   "cell_type": "code",
   "execution_count": 251,
   "id": "6ec2cd7e-5a93-4598-9fd4-345f61faf489",
   "metadata": {},
   "outputs": [
    {
     "data": {
      "text/latex": [
       "$\\displaystyle dx = \\frac{dv x \\left(1 - v^{2}\\right)}{v \\left(v^{2} + 1\\right)}$"
      ],
      "text/plain": [
       "Eq(dx, dv*x*(1 - v**2)/(v*(v**2 + 1)))"
      ]
     },
     "execution_count": 251,
     "metadata": {},
     "output_type": "execute_result"
    }
   ],
   "source": [
    "E4 = sp.Eq(dx, sp.solve(E3, dx)[0])\n",
    "E4"
   ]
  },
  {
   "cell_type": "code",
   "execution_count": 253,
   "id": "ecaa87c4-a774-4d5f-bc11-71e5372638f3",
   "metadata": {},
   "outputs": [
    {
     "data": {
      "text/latex": [
       "$\\displaystyle \\frac{dx}{x} = \\frac{dv \\left(1 - v^{2}\\right)}{v \\left(v^{2} + 1\\right)}$"
      ],
      "text/plain": [
       "Eq(dx/x, dv*(1 - v**2)/(v*(v**2 + 1)))"
      ]
     },
     "execution_count": 253,
     "metadata": {},
     "output_type": "execute_result"
    }
   ],
   "source": [
    "E5 = sp.Eq(E4.lhs / x, E4.rhs / x )\n",
    "E5"
   ]
  },
  {
   "cell_type": "code",
   "execution_count": 259,
   "id": "87bfc208-677c-4f9a-bf02-40b6191d772c",
   "metadata": {},
   "outputs": [
    {
     "data": {
      "text/latex": [
       "$\\displaystyle c = - \\log{\\left(v \\right)} + \\log{\\left(x \\right)} + \\log{\\left(v^{2} + 1 \\right)}$"
      ],
      "text/plain": [
       "Eq(c, -log(v) + log(x) + log(v**2 + 1))"
      ]
     },
     "execution_count": 259,
     "metadata": {},
     "output_type": "execute_result"
    }
   ],
   "source": [
    "E6 = sp.Eq(c, sp.integrate(1 / x) - sp.integrate(E5.rhs / dv, v))\n",
    "E6"
   ]
  },
  {
   "cell_type": "code",
   "execution_count": 262,
   "id": "d5852e38-899d-4569-8275-6ae1f151fcf3",
   "metadata": {},
   "outputs": [
    {
     "data": {
      "text/latex": [
       "$\\displaystyle c = \\log{\\left(x \\right)} - \\log{\\left(\\frac{y}{x} \\right)} + \\log{\\left(1 + \\frac{y^{2}}{x^{2}} \\right)}$"
      ],
      "text/plain": [
       "Eq(c, log(x) - log(y/x) + log(1 + y**2/x**2))"
      ]
     },
     "execution_count": 262,
     "metadata": {},
     "output_type": "execute_result"
    }
   ],
   "source": [
    "E7 = E6.subs({v: y / x})\n",
    "E7"
   ]
  },
  {
   "cell_type": "code",
   "execution_count": 263,
   "id": "2e37cffd-3d4d-424b-9439-2a12c7ec17cb",
   "metadata": {},
   "outputs": [],
   "source": [
    "E8 = sp.solve(E7, y)"
   ]
  },
  {
   "cell_type": "code",
   "execution_count": 265,
   "id": "3cee17e7-1040-4507-acdb-0f9b44df7c25",
   "metadata": {},
   "outputs": [
    {
     "data": {
      "text/html": [
       "$$- \\frac{\\sqrt{- 4 x^{2} + e^{2 c}}}{2} + \\frac{e^{c}}{2}$$<br/>$$\\frac{\\sqrt{- 4 x^{2} + e^{2 c}}}{2} + \\frac{e^{c}}{2}$$<br/>"
      ],
      "text/plain": [
       "<IPython.core.display.HTML object>"
      ]
     },
     "execution_count": 265,
     "metadata": {},
     "output_type": "execute_result"
    }
   ],
   "source": [
    "renderListToLatex(E8)"
   ]
  },
  {
   "cell_type": "markdown",
   "id": "806e2abb-1882-440b-8b2e-28e37076a351",
   "metadata": {},
   "source": [
    "Reduction of homogenous equations - can be transformed into seperable equation by making the subsutition\n",
    "\n",
    "$$ y = xv $$\n",
    "\n",
    "and its derivative: \n",
    "\n",
    "$$ \\frac{dy}{dx} = v + x \\frac{dv}{dx} $$\n",
    "\n",
    "If equation is homegenous you can do this"
   ]
  },
  {
   "cell_type": "code",
   "execution_count": 275,
   "id": "11fdc9aa-77ea-43b8-9f8d-dee96593c656",
   "metadata": {},
   "outputs": [
    {
     "data": {
      "text/latex": [
       "$\\displaystyle \\frac{x^{2} + y^{2}}{x y}$"
      ],
      "text/plain": [
       "(x**2 + y**2)/(x*y)"
      ]
     },
     "execution_count": 275,
     "metadata": {},
     "output_type": "execute_result"
    }
   ],
   "source": [
    "# 4.15\n",
    "\n",
    "E1 = (x**2 + y**2) / (x * y)\n",
    "E1"
   ]
  },
  {
   "cell_type": "code",
   "execution_count": 276,
   "id": "fad52bb9-1c5f-4b99-8b4a-213a1c9630a4",
   "metadata": {},
   "outputs": [
    {
     "data": {
      "text/latex": [
       "$\\displaystyle \\frac{dv x}{dx} + v = \\frac{v^{2} x^{2} + x^{2}}{v x^{2}}$"
      ],
      "text/plain": [
       "Eq(dv*x/dx + v, (v**2*x**2 + x**2)/(v*x**2))"
      ]
     },
     "execution_count": 276,
     "metadata": {},
     "output_type": "execute_result"
    }
   ],
   "source": [
    "E2 = sp.Eq(v + (x * (dv / dx)), E1.subs({y: x * v}))\n",
    "E2"
   ]
  },
  {
   "cell_type": "code",
   "execution_count": 285,
   "id": "6065c58d-0076-4447-9a7d-ebb5d8f3a59b",
   "metadata": {},
   "outputs": [
    {
     "data": {
      "text/latex": [
       "$\\displaystyle dv = \\frac{dx}{v x}$"
      ],
      "text/plain": [
       "Eq(dv, dx/(v*x))"
      ]
     },
     "execution_count": 285,
     "metadata": {},
     "output_type": "execute_result"
    }
   ],
   "source": [
    "E4 = sp.Eq(dv, sp.solve(E2, dv)[0])\n",
    "E4"
   ]
  },
  {
   "cell_type": "code",
   "execution_count": 287,
   "id": "2488507a-f521-4073-bd8d-8b308ee1a2c9",
   "metadata": {},
   "outputs": [
    {
     "data": {
      "text/latex": [
       "$\\displaystyle dv v = \\frac{dx}{x}$"
      ],
      "text/plain": [
       "Eq(dv*v, dx/x)"
      ]
     },
     "execution_count": 287,
     "metadata": {},
     "output_type": "execute_result"
    }
   ],
   "source": [
    "E5 = sp.Eq(E4.lhs * v, E4.rhs * v)\n",
    "E5"
   ]
  },
  {
   "cell_type": "code",
   "execution_count": 289,
   "id": "392b3a52-7f30-457f-8f0b-502a86c6b246",
   "metadata": {},
   "outputs": [
    {
     "data": {
      "text/latex": [
       "$\\displaystyle - \\frac{v^{2}}{2} + \\log{\\left(x \\right)} = c$"
      ],
      "text/plain": [
       "Eq(-v**2/2 + log(x), c)"
      ]
     },
     "execution_count": 289,
     "metadata": {},
     "output_type": "execute_result"
    }
   ],
   "source": [
    "E6 = sp.Eq(sp.integrate(1 / x, x) - sp.integrate(v, v), c)\n",
    "E6"
   ]
  },
  {
   "cell_type": "code",
   "execution_count": 290,
   "id": "de6e417b-9ada-477a-be26-e3ceb90129b9",
   "metadata": {},
   "outputs": [
    {
     "data": {
      "text/latex": [
       "$\\displaystyle \\log{\\left(x \\right)} - \\frac{y^{2}}{2 x^{2}} = c$"
      ],
      "text/plain": [
       "Eq(log(x) - y**2/(2*x**2), c)"
      ]
     },
     "execution_count": 290,
     "metadata": {},
     "output_type": "execute_result"
    }
   ],
   "source": [
    "E7 = E6.subs({v: y / x})\n",
    "E7"
   ]
  },
  {
   "cell_type": "code",
   "execution_count": 292,
   "id": "afdec968-5c06-46a5-a418-8bc3a4e1a7a1",
   "metadata": {},
   "outputs": [
    {
     "data": {
      "text/html": [
       "$$- x \\sqrt{- 2 c + 2 \\log{\\left(x \\right)}}$$<br/>$$x \\sqrt{- 2 c + 2 \\log{\\left(x \\right)}}$$<br/>"
      ],
      "text/plain": [
       "<IPython.core.display.HTML object>"
      ]
     },
     "execution_count": 292,
     "metadata": {},
     "output_type": "execute_result"
    }
   ],
   "source": [
    "E8 = sp.solve(E7, y)\n",
    "renderListToLatex(E8)"
   ]
  },
  {
   "cell_type": "markdown",
   "id": "3d4758eb-1d47-46d6-b770-40e7aa1d3f48",
   "metadata": {},
   "source": [
    "Reduction of homogenous equations - can be transformed into seperable equation by making the subsutition\n",
    "\n",
    "$$ y = xv $$\n",
    "\n",
    "and its derivative: \n",
    "\n",
    "$$ \\frac{dy}{dx} = v + x \\frac{dv}{dx} $$\n",
    "\n",
    "If equation is homegenous you can do this"
   ]
  },
  {
   "cell_type": "code",
   "execution_count": 294,
   "id": "3202d3fe-b1b3-4f62-b0dd-fd0fd0f27ae8",
   "metadata": {},
   "outputs": [
    {
     "data": {
      "text/latex": [
       "$\\displaystyle x^{2} \\left(- 2 c + 2 \\log{\\left(x \\right)}\\right)$"
      ],
      "text/plain": [
       "x**2*(-2*c + 2*log(x))"
      ]
     },
     "execution_count": 294,
     "metadata": {},
     "output_type": "execute_result"
    }
   ],
   "source": [
    "#4.16"
   ]
  },
  {
   "cell_type": "code",
   "execution_count": 301,
   "id": "aba680b6-e461-4be1-aba8-45ebed276452",
   "metadata": {},
   "outputs": [
    {
     "data": {
      "text/latex": [
       "$\\displaystyle \\frac{x^{2} + y^{2}}{x y}$"
      ],
      "text/plain": [
       "(x**2 + y**2)/(x*y)"
      ]
     },
     "execution_count": 301,
     "metadata": {},
     "output_type": "execute_result"
    }
   ],
   "source": [
    "E1 = (x**2 + y**2) / (x * y)\n",
    "E1"
   ]
  },
  {
   "cell_type": "code",
   "execution_count": 302,
   "id": "de18d17a-da8d-4739-9117-2c90929d144d",
   "metadata": {},
   "outputs": [
    {
     "data": {
      "text/latex": [
       "$\\displaystyle \\frac{x}{y} + \\frac{y}{x}$"
      ],
      "text/plain": [
       "x/y + y/x"
      ]
     },
     "execution_count": 302,
     "metadata": {},
     "output_type": "execute_result"
    }
   ],
   "source": [
    "# Check if homgenous\n",
    "E2 = E1.subs({x: t * x, y: t * y}).simplify()\n",
    "E2"
   ]
  },
  {
   "cell_type": "code",
   "execution_count": 303,
   "id": "928e192a-503e-41e2-b665-786f8701eb3a",
   "metadata": {},
   "outputs": [
    {
     "data": {
      "text/plain": [
       "True"
      ]
     },
     "execution_count": 303,
     "metadata": {},
     "output_type": "execute_result"
    }
   ],
   "source": [
    "E1.simplify() == E2"
   ]
  },
  {
   "cell_type": "code",
   "execution_count": 308,
   "id": "2ab50887-0cdf-4472-9236-50bc739ebac5",
   "metadata": {},
   "outputs": [
    {
     "data": {
      "text/latex": [
       "$\\displaystyle \\frac{v^{2} x^{2} + x^{2}}{v x^{2}}$"
      ],
      "text/plain": [
       "(v**2*x**2 + x**2)/(v*x**2)"
      ]
     },
     "execution_count": 308,
     "metadata": {},
     "output_type": "execute_result"
    }
   ],
   "source": [
    "# these are homogenous, so a y = xv subsitution can bve used\n",
    "\n",
    "E3 = E1.subs({y: x * v})\n",
    "E3"
   ]
  },
  {
   "cell_type": "code",
   "execution_count": 310,
   "id": "0541f0a0-ff54-4211-a740-a0e6a6224a71",
   "metadata": {},
   "outputs": [
    {
     "data": {
      "text/latex": [
       "$\\displaystyle v + \\frac{1}{v} = \\frac{dv x}{dx} + v$"
      ],
      "text/plain": [
       "Eq(v + 1/v, dv*x/dx + v)"
      ]
     },
     "execution_count": 310,
     "metadata": {},
     "output_type": "execute_result"
    }
   ],
   "source": [
    "# Also change the dy/dx to use y = xv\n",
    "E4 = sp.Eq(v + x * (dv / dx), E3)\n",
    "E4 = E4.simplify()"
   ]
  },
  {
   "cell_type": "code",
   "execution_count": 315,
   "id": "ce3f28cc-abc1-47e2-beb1-26e4e5cba733",
   "metadata": {},
   "outputs": [
    {
     "data": {
      "text/latex": [
       "$\\displaystyle \\frac{1}{v} = \\frac{dv x}{dx}$"
      ],
      "text/plain": [
       "Eq(1/v, dv*x/dx)"
      ]
     },
     "execution_count": 315,
     "metadata": {},
     "output_type": "execute_result"
    }
   ],
   "source": [
    "# Transform into a seperable equation using dv, v and dx, x\n",
    "\n",
    "E5 = sp.Eq(E4.lhs - v, E4.rhs - v).simplify()\n",
    "E5\n"
   ]
  },
  {
   "cell_type": "code",
   "execution_count": 316,
   "id": "3fdf1264-5355-4f61-9529-9fc32500259d",
   "metadata": {},
   "outputs": [
    {
     "data": {
      "text/latex": [
       "$\\displaystyle dv x = \\frac{dx}{v}$"
      ],
      "text/plain": [
       "Eq(dv*x, dx/v)"
      ]
     },
     "execution_count": 316,
     "metadata": {},
     "output_type": "execute_result"
    }
   ],
   "source": [
    "E6 = sp.Eq(E5.lhs * dx, E5.rhs * dx).simplify()\n",
    "E6"
   ]
  },
  {
   "cell_type": "code",
   "execution_count": 317,
   "id": "3410d4ad-9bd3-4fca-8ad8-2a5fcadd90d8",
   "metadata": {},
   "outputs": [
    {
     "data": {
      "text/latex": [
       "$\\displaystyle dv v = \\frac{dx}{x}$"
      ],
      "text/plain": [
       "Eq(dv*v, dx/x)"
      ]
     },
     "execution_count": 317,
     "metadata": {},
     "output_type": "execute_result"
    }
   ],
   "source": [
    "E7 = sp.Eq(E6.lhs * v / x, E6.rhs * v / x).simplify()\n",
    "E7"
   ]
  },
  {
   "cell_type": "code",
   "execution_count": 318,
   "id": "817a13b3-fba0-4aa7-b754-0457c8f02c9a",
   "metadata": {},
   "outputs": [
    {
     "data": {
      "text/latex": [
       "$\\displaystyle - \\frac{v^{2}}{2} + \\log{\\left(x \\right)} = c$"
      ],
      "text/plain": [
       "Eq(-v**2/2 + log(x), c)"
      ]
     },
     "execution_count": 318,
     "metadata": {},
     "output_type": "execute_result"
    }
   ],
   "source": [
    "# It is no in a form to apply seperable formula\n",
    "E8 = sp.Eq(sp.integrate(1/x, x) - sp.integrate(v, v), c)\n",
    "E8"
   ]
  },
  {
   "cell_type": "code",
   "execution_count": 319,
   "id": "0030f2aa-81da-4e89-bd21-a3dcce5161a9",
   "metadata": {},
   "outputs": [
    {
     "data": {
      "text/latex": [
       "$\\displaystyle \\log{\\left(x \\right)} - \\frac{y^{2}}{2 x^{2}} = c$"
      ],
      "text/plain": [
       "Eq(log(x) - y**2/(2*x**2), c)"
      ]
     },
     "execution_count": 319,
     "metadata": {},
     "output_type": "execute_result"
    }
   ],
   "source": [
    "# subs v = y / x to return to orginal variables\n",
    "E9 = E8.subs({v: y/x})\n",
    "E9"
   ]
  },
  {
   "cell_type": "code",
   "execution_count": 321,
   "id": "c046f138-6418-4ed8-8d7b-ec148a8630df",
   "metadata": {},
   "outputs": [
    {
     "data": {
      "text/html": [
       "$$- x \\sqrt{- 2 c + 2 \\log{\\left(x \\right)}}$$<br/>$$x \\sqrt{- 2 c + 2 \\log{\\left(x \\right)}}$$<br/>"
      ],
      "text/plain": [
       "<IPython.core.display.HTML object>"
      ]
     },
     "execution_count": 321,
     "metadata": {},
     "output_type": "execute_result"
    }
   ],
   "source": [
    "# solve for y\n",
    "E10 = sp.solve(E9, y)\n",
    "renderListToLatex(E10)"
   ]
  },
  {
   "cell_type": "code",
   "execution_count": 324,
   "id": "9c2c8851-1904-42ec-810a-ba61e52e7a98",
   "metadata": {},
   "outputs": [
    {
     "data": {
      "text/plain": [
       "[-2]"
      ]
     },
     "execution_count": 324,
     "metadata": {},
     "output_type": "execute_result"
    }
   ],
   "source": [
    "# evaluate solutions to find a value for c\n",
    "E11 = sp.solve(sp.Eq(-2, E10[0].subs({x: 1}) ), c)\n",
    "E11"
   ]
  },
  {
   "cell_type": "code",
   "execution_count": 325,
   "id": "039c3ca9-83b5-4b35-8895-636381581090",
   "metadata": {},
   "outputs": [
    {
     "data": {
      "text/plain": [
       "[]"
      ]
     },
     "execution_count": 325,
     "metadata": {},
     "output_type": "execute_result"
    }
   ],
   "source": [
    "E12 = sp.solve(sp.Eq(-2, E10[1].subs({x: 1}) ), c)\n",
    "E12"
   ]
  },
  {
   "cell_type": "code",
   "execution_count": 327,
   "id": "b9afac2c-a12c-45fb-814f-c9c8f30bef89",
   "metadata": {},
   "outputs": [
    {
     "data": {
      "text/latex": [
       "$\\displaystyle \\log{\\left(x \\right)} - \\frac{y^{2}}{2 x^{2}} = -2$"
      ],
      "text/plain": [
       "Eq(log(x) - y**2/(2*x**2), -2)"
      ]
     },
     "execution_count": 327,
     "metadata": {},
     "output_type": "execute_result"
    }
   ],
   "source": [
    "# put value of c into equation\n",
    "E9.subs({c: -2})"
   ]
  },
  {
   "cell_type": "markdown",
   "id": "fa4176e4-84e2-41c3-8db0-b105e89ffce4",
   "metadata": {},
   "source": [
    "Reduction of homogenous equations - can be transformed into seperable equation by making the subsutition\n",
    "\n",
    "$$ y = xv $$\n",
    "\n",
    "and its derivative: \n",
    "\n",
    "$$ \\frac{dy}{dx} = v + x \\frac{dv}{dx} $$\n",
    "\n",
    "If equation is homegenous you can do this"
   ]
  },
  {
   "cell_type": "code",
   "execution_count": 450,
   "id": "a632903c-04e6-4431-9d34-e9c3a5babcf7",
   "metadata": {},
   "outputs": [
    {
     "data": {
      "text/latex": [
       "$\\displaystyle \\frac{dy}{dx} = \\frac{2 x y e^{\\frac{x^{2}}{y^{2}}}}{2 x^{2} e^{\\frac{x^{2}}{y^{2}}} + y^{2} e^{\\frac{x^{2}}{y^{2}}} + y^{2}}$"
      ],
      "text/plain": [
       "Eq(dy/dx, 2*x*y*exp(x**2/y**2)/(2*x**2*exp(x**2/y**2) + y**2*exp(x**2/y**2) + y**2))"
      ]
     },
     "execution_count": 450,
     "metadata": {},
     "output_type": "execute_result"
    }
   ],
   "source": [
    "# 4.17\n",
    "x, y, y1,  m, b, a, c, c1, c2, t, dx, dy, ty, tx, k, v, dv, u, du, dt = sp.symbols('x, y, y1,  m, b, a, c, c1, c2, t, dx, dy, ty, tx, k, v, dv, u, du, dt', real = True)\n",
    "E1 = sp.Eq(dy/dx, (2 * x * y * sp.E**(x / y)**2) / (y**2 + (y**2 * sp.E**(x / y)**2) + (2 * x**2 * sp.E**(x / y)**2)))\n",
    "E1"
   ]
  },
  {
   "cell_type": "code",
   "execution_count": 331,
   "id": "0baa6c5d-61ad-4988-865c-918cae87012d",
   "metadata": {},
   "outputs": [],
   "source": [
    "# Does not appear seperable, but it may be homogenous which would allow trying a y = xv subsiution"
   ]
  },
  {
   "cell_type": "code",
   "execution_count": 335,
   "id": "99fc9ca1-2417-4b85-a039-8d31b65bc1ff",
   "metadata": {},
   "outputs": [
    {
     "data": {
      "text/latex": [
       "$\\displaystyle \\frac{2 x y e^{\\frac{x^{2}}{y^{2}}}}{2 x^{2} e^{\\frac{x^{2}}{y^{2}}} + y^{2} e^{\\frac{x^{2}}{y^{2}}} + y^{2}}$"
      ],
      "text/plain": [
       "2*x*y*exp(x**2/y**2)/(2*x**2*exp(x**2/y**2) + y**2*exp(x**2/y**2) + y**2)"
      ]
     },
     "execution_count": 335,
     "metadata": {},
     "output_type": "execute_result"
    }
   ],
   "source": [
    "E2 = E1.rhs.subs({x: x * t, y: y * t}).simplify()\n",
    "E2"
   ]
  },
  {
   "cell_type": "code",
   "execution_count": 350,
   "id": "54ead652-5e06-4f90-b44e-ea37cc74a5a6",
   "metadata": {},
   "outputs": [
    {
     "data": {
      "text/latex": [
       "$\\displaystyle \\frac{dv x}{dx} + v = \\frac{2 x y e^{\\frac{x^{2}}{y^{2}}}}{2 x^{2} e^{\\frac{x^{2}}{y^{2}}} + y^{2} e^{\\frac{x^{2}}{y^{2}}} + y^{2}}$"
      ],
      "text/plain": [
       "Eq(dv*x/dx + v, 2*x*y*exp(x**2/y**2)/(2*x**2*exp(x**2/y**2) + y**2*exp(x**2/y**2) + y**2))"
      ]
     },
     "execution_count": 350,
     "metadata": {},
     "output_type": "execute_result"
    }
   ],
   "source": [
    "# They are homogenous so can try and transform them into seperable equations\n",
    "E3 = sp.Eq(v + x * (dv / dx), E1.rhs.subs({u: x /y}).simplify())\n",
    "E3"
   ]
  },
  {
   "cell_type": "code",
   "execution_count": 340,
   "id": "1f15b3bc-6e64-45be-bfb3-426e59d5234f",
   "metadata": {},
   "outputs": [
    {
     "data": {
      "text/latex": [
       "$\\displaystyle \\frac{dv x}{dx} = - \\frac{v^{3} \\left(e^{\\frac{1}{v^{2}}} + 1\\right)}{v^{2} e^{\\frac{1}{v^{2}}} + v^{2} + 2 e^{\\frac{1}{v^{2}}}}$"
      ],
      "text/plain": [
       "Eq(dv*x/dx, -v**3*(exp(v**(-2)) + 1)/(v**2*exp(v**(-2)) + v**2 + 2*exp(v**(-2))))"
      ]
     },
     "execution_count": 340,
     "metadata": {},
     "output_type": "execute_result"
    }
   ],
   "source": [
    "E4 = sp.Eq(E3.lhs - v, E3.rhs - v).simplify()\n",
    "E4"
   ]
  },
  {
   "cell_type": "code",
   "execution_count": 342,
   "id": "50dbed15-f8d6-4df9-9cc5-94f47e4ea856",
   "metadata": {},
   "outputs": [
    {
     "data": {
      "text/latex": [
       "$\\displaystyle \\frac{x}{dx} = - \\frac{v^{3} \\left(e^{\\frac{1}{v^{2}}} + 1\\right)}{dv \\left(v^{2} e^{\\frac{1}{v^{2}}} + v^{2} + 2 e^{\\frac{1}{v^{2}}}\\right)}$"
      ],
      "text/plain": [
       "Eq(x/dx, -v**3*(exp(v**(-2)) + 1)/(dv*(v**2*exp(v**(-2)) + v**2 + 2*exp(v**(-2)))))"
      ]
     },
     "execution_count": 342,
     "metadata": {},
     "output_type": "execute_result"
    }
   ],
   "source": [
    "E5 = sp.Eq(E4.lhs / dv, E4.rhs / dv).simplify()\n",
    "E5"
   ]
  },
  {
   "cell_type": "code",
   "execution_count": 344,
   "id": "7a994da6-5500-49a9-81b9-35028eb6ca1f",
   "metadata": {},
   "outputs": [],
   "source": [
    "# They are now seperated, apply integration. Create needed parts for integration"
   ]
  },
  {
   "cell_type": "code",
   "execution_count": 347,
   "id": "c4ab75e3-db1a-4abe-a658-679cb4ab168c",
   "metadata": {},
   "outputs": [
    {
     "data": {
      "text/latex": [
       "$\\displaystyle - \\frac{v^{3} \\left(e^{\\frac{1}{v^{2}}} + 1\\right)}{v^{2} e^{\\frac{1}{v^{2}}} + v^{2} + 2 e^{\\frac{1}{v^{2}}}}$"
      ],
      "text/plain": [
       "-v**3*(exp(v**(-2)) + 1)/(v**2*exp(v**(-2)) + v**2 + 2*exp(v**(-2)))"
      ]
     },
     "execution_count": 347,
     "metadata": {},
     "output_type": "execute_result"
    }
   ],
   "source": [
    "E6 = E5.rhs * dv\n",
    "E6"
   ]
  },
  {
   "cell_type": "code",
   "execution_count": 348,
   "id": "ab105b7d-6581-40fb-aad3-c5642c8724db",
   "metadata": {},
   "outputs": [
    {
     "data": {
      "text/latex": [
       "$\\displaystyle x$"
      ],
      "text/plain": [
       "x"
      ]
     },
     "execution_count": 348,
     "metadata": {},
     "output_type": "execute_result"
    }
   ],
   "source": [
    "E7 = E5.lhs * dx\n",
    "E7"
   ]
  },
  {
   "cell_type": "code",
   "execution_count": 349,
   "id": "e8b90988-1f9f-4ebe-8321-94d1891db26b",
   "metadata": {},
   "outputs": [
    {
     "data": {
      "text/latex": [
       "$\\displaystyle \\frac{x^{2}}{2} - \\int \\frac{v^{3}}{v^{2} e^{\\frac{1}{v^{2}}} + v^{2} + 2 e^{\\frac{1}{v^{2}}}}\\, dv - \\int \\frac{v^{3} e^{\\frac{1}{v^{2}}}}{v^{2} e^{\\frac{1}{v^{2}}} + v^{2} + 2 e^{\\frac{1}{v^{2}}}}\\, dv$"
      ],
      "text/plain": [
       "x**2/2 - Integral(v**3/(v**2*exp(v**(-2)) + v**2 + 2*exp(v**(-2))), v) - Integral(v**3*exp(v**(-2))/(v**2*exp(v**(-2)) + v**2 + 2*exp(v**(-2))), v)"
      ]
     },
     "execution_count": 349,
     "metadata": {},
     "output_type": "execute_result"
    }
   ],
   "source": [
    "E8 = sp.integrate(E7, x) + sp.integrate(E6, v)\n",
    "E8"
   ]
  },
  {
   "cell_type": "code",
   "execution_count": 351,
   "id": "651258f1-461a-4298-b60f-7682ebab82f5",
   "metadata": {},
   "outputs": [],
   "source": [
    "# 4.23"
   ]
  },
  {
   "cell_type": "code",
   "execution_count": 352,
   "id": "cdcb0d50-a697-4cf5-a21a-f59bebd7a840",
   "metadata": {},
   "outputs": [
    {
     "data": {
      "text/latex": [
       "$\\displaystyle \\frac{x^{2}}{2} + \\frac{y^{2}}{2} = c$"
      ],
      "text/plain": [
       "Eq(x**2/2 + y**2/2, c)"
      ]
     },
     "execution_count": 352,
     "metadata": {},
     "output_type": "execute_result"
    }
   ],
   "source": [
    "# this is seperable equation so can be solved using this formula\n",
    "\n",
    "E1 = sp.Eq(sp.integrate(x, x) + sp.integrate(y, y), c)\n",
    "E1"
   ]
  },
  {
   "cell_type": "code",
   "execution_count": 355,
   "id": "f02dbb89-2707-4c57-9fd2-9a2aec6d0d8f",
   "metadata": {},
   "outputs": [
    {
     "data": {
      "text/html": [
       "$$- \\sqrt{2 c - x^{2}}$$<br/>$$\\sqrt{2 c - x^{2}}$$<br/>"
      ],
      "text/plain": [
       "<IPython.core.display.HTML object>"
      ]
     },
     "execution_count": 355,
     "metadata": {},
     "output_type": "execute_result"
    }
   ],
   "source": [
    "E2 = sp.solve(E1, y)\n",
    "renderListToLatex(E2)"
   ]
  },
  {
   "cell_type": "code",
   "execution_count": 362,
   "id": "3e336554-f56e-42b5-b6f7-ea25f7409e04",
   "metadata": {},
   "outputs": [
    {
     "data": {
      "text/html": [
       "$$- \\sqrt{k - x^{2}}$$<br/>$$\\sqrt{k - x^{2}}$$<br/>"
      ],
      "text/plain": [
       "<IPython.core.display.HTML object>"
      ]
     },
     "execution_count": 362,
     "metadata": {},
     "output_type": "execute_result"
    }
   ],
   "source": [
    "# clean up the 2c with k\n",
    "renderListToLatex([E2[0].subs({c: k / 2}), E2[1].subs({c: k / 2})])"
   ]
  },
  {
   "cell_type": "code",
   "execution_count": 363,
   "id": "bee4563d-6a7b-447f-a779-0f9712eace0d",
   "metadata": {},
   "outputs": [
    {
     "data": {
      "text/latex": [
       "$\\displaystyle \\frac{x^{2}}{2} - \\frac{y^{4}}{4} = c$"
      ],
      "text/plain": [
       "Eq(x**2/2 - y**4/4, c)"
      ]
     },
     "execution_count": 363,
     "metadata": {},
     "output_type": "execute_result"
    }
   ],
   "source": [
    "# 4.24\n",
    "# this can be solved as a seperable equation \n",
    "E1 = sp.Eq(sp.integrate(x, x) - sp.integrate(y**3, y), c)\n",
    "E1"
   ]
  },
  {
   "cell_type": "code",
   "execution_count": 365,
   "id": "1ee4be09-50b8-4fac-b63c-7469459aa8ae",
   "metadata": {},
   "outputs": [
    {
     "data": {
      "text/html": [
       "$$- \\sqrt[4]{- 4 c + 2 x^{2}}$$<br/>$$\\sqrt[4]{- 4 c + 2 x^{2}}$$<br/>"
      ],
      "text/plain": [
       "<IPython.core.display.HTML object>"
      ]
     },
     "execution_count": 365,
     "metadata": {},
     "output_type": "execute_result"
    }
   ],
   "source": [
    "# sovle for y\n",
    "E2 = sp.solve(E1, y)\n",
    "renderListToLatex(E2)"
   ]
  },
  {
   "cell_type": "code",
   "execution_count": 368,
   "id": "74d576b4-ad0a-40ff-ab35-2fcb7d4c2312",
   "metadata": {},
   "outputs": [
    {
     "data": {
      "text/html": [
       "$$- \\sqrt[4]{k + 2 x^{2}}$$<br/>$$\\sqrt[4]{k + 2 x^{2}}$$<br/>"
      ],
      "text/plain": [
       "<IPython.core.display.HTML object>"
      ]
     },
     "execution_count": 368,
     "metadata": {},
     "output_type": "execute_result"
    }
   ],
   "source": [
    "# clean up the value of -4c\n",
    "E3 = [E2[i].subs({c: k / -4}) for i in range(len(E2))]\n",
    "renderListToLatex (E3)"
   ]
  },
  {
   "cell_type": "code",
   "execution_count": 369,
   "id": "14f45fbf-22a6-4987-9eae-c508b3e40a7c",
   "metadata": {},
   "outputs": [],
   "source": [
    "# where k == -4c"
   ]
  },
  {
   "cell_type": "code",
   "execution_count": 370,
   "id": "63244698-bb67-44c7-899c-dd32d1ca970f",
   "metadata": {},
   "outputs": [
    {
     "data": {
      "text/latex": [
       "$\\displaystyle x - \\frac{1}{3 y^{3}} = c$"
      ],
      "text/plain": [
       "Eq(x - 1/(3*y**3), c)"
      ]
     },
     "execution_count": 370,
     "metadata": {},
     "output_type": "execute_result"
    }
   ],
   "source": [
    "# 4.25\n",
    "# this can be solved as a seperable differential equation\n",
    "\n",
    "E1 = sp.Eq(sp.integrate(1, x) + sp.integrate(1 / y**4, y), c)\n",
    "E1"
   ]
  },
  {
   "cell_type": "code",
   "execution_count": 372,
   "id": "5d50bf22-62af-4eae-a736-a1dfd12f3698",
   "metadata": {},
   "outputs": [
    {
     "data": {
      "text/html": [
       "$$- \\frac{\\sqrt[3]{\\frac{1}{- 3 c + 3 x}}}{2} - \\frac{\\sqrt{3} i \\sqrt[3]{\\frac{1}{- 3 c + 3 x}}}{2}$$<br/>$$- \\frac{\\sqrt[3]{\\frac{1}{- 3 c + 3 x}}}{2} + \\frac{\\sqrt{3} i \\sqrt[3]{\\frac{1}{- 3 c + 3 x}}}{2}$$<br/>$$\\sqrt[3]{\\frac{1}{- 3 c + 3 x}}$$<br/>"
      ],
      "text/plain": [
       "<IPython.core.display.HTML object>"
      ]
     },
     "execution_count": 372,
     "metadata": {},
     "output_type": "execute_result"
    }
   ],
   "source": [
    "# Solve for y to find function that satifies diffential equation\n",
    "E2 = sp.solve(E1, y)\n",
    "renderListToLatex(E2)"
   ]
  },
  {
   "cell_type": "code",
   "execution_count": 374,
   "id": "cf48b188-be46-4978-bef7-93e6a1192acb",
   "metadata": {},
   "outputs": [
    {
     "data": {
      "text/latex": [
       "$\\displaystyle \\sqrt[3]{\\frac{1}{k + 3 x}}$"
      ],
      "text/plain": [
       "(1/(k + 3*x))**(1/3)"
      ]
     },
     "execution_count": 374,
     "metadata": {},
     "output_type": "execute_result"
    }
   ],
   "source": [
    "# There is only 1 real solution. Clean up the -3c\n",
    "E3 = E2[2]\n",
    "E4 = E3.subs({c: -k / 3})\n",
    "E4"
   ]
  },
  {
   "cell_type": "code",
   "execution_count": 375,
   "id": "25e8938a-42c9-48f0-805d-d09413856243",
   "metadata": {},
   "outputs": [],
   "source": [
    "# where k == -3c"
   ]
  },
  {
   "cell_type": "code",
   "execution_count": 376,
   "id": "5bb88b50-0d73-4110-a143-685e2bb436f8",
   "metadata": {},
   "outputs": [
    {
     "data": {
      "text/latex": [
       "$\\displaystyle \\frac{t^{2}}{2} + t + \\frac{1}{y} = c$"
      ],
      "text/plain": [
       "Eq(t**2/2 + t + 1/y, c)"
      ]
     },
     "execution_count": 376,
     "metadata": {},
     "output_type": "execute_result"
    }
   ],
   "source": [
    "# 4.26\n",
    "# this can be solvved as a seperable differential equation\n",
    "\n",
    "E1 = sp.Eq(sp.integrate(t + 1, t) - sp.integrate(1 / y**2, y), c)\n",
    "E1"
   ]
  },
  {
   "cell_type": "code",
   "execution_count": 378,
   "id": "24c8699f-ce15-478b-9bd9-0691d1859180",
   "metadata": {},
   "outputs": [
    {
     "data": {
      "text/html": [
       "$$- \\frac{2}{- 2 c + t^{2} + 2 t}$$<br/>"
      ],
      "text/plain": [
       "<IPython.core.display.HTML object>"
      ]
     },
     "execution_count": 378,
     "metadata": {},
     "output_type": "execute_result"
    }
   ],
   "source": [
    "# solve for y\n",
    "E2 = sp.solve(E1, y)\n",
    "renderListToLatex(E2)"
   ]
  },
  {
   "cell_type": "code",
   "execution_count": 380,
   "id": "2ba804a8-587a-472b-b8a1-ae928a34a3d9",
   "metadata": {},
   "outputs": [
    {
     "data": {
      "text/latex": [
       "$\\displaystyle - \\frac{2}{k + t^{2} + 2 t}$"
      ],
      "text/plain": [
       "-2/(k + t**2 + 2*t)"
      ]
     },
     "execution_count": 380,
     "metadata": {},
     "output_type": "execute_result"
    }
   ],
   "source": [
    "# clean up the -2c term\n",
    "E3 = E2[0].subs({ c: -k / 2})\n",
    "E3"
   ]
  },
  {
   "cell_type": "code",
   "execution_count": 381,
   "id": "1223f4fa-30af-4963-a86b-5112813c53bd",
   "metadata": {},
   "outputs": [],
   "source": [
    "# where k == -2c"
   ]
  },
  {
   "cell_type": "code",
   "execution_count": 382,
   "id": "600af083-0848-4675-994e-b9bbbb3cee64",
   "metadata": {},
   "outputs": [
    {
     "data": {
      "text/latex": [
       "$\\displaystyle \\log{\\left(x \\right)} + \\log{\\left(y \\right)} = c$"
      ],
      "text/plain": [
       "Eq(log(x) + log(y), c)"
      ]
     },
     "execution_count": 382,
     "metadata": {},
     "output_type": "execute_result"
    }
   ],
   "source": [
    "# 4.27\n",
    "# this can be solved as a seperable differential equation\n",
    "\n",
    "E1 = sp.Eq(sp.integrate(1 / x, x) + sp.integrate(1 / y, y), c)\n",
    "E1"
   ]
  },
  {
   "cell_type": "code",
   "execution_count": 386,
   "id": "0497d5ef-1429-4065-8d6a-dda2f4810505",
   "metadata": {},
   "outputs": [
    {
     "data": {
      "text/html": [
       "$$\\frac{e^{c}}{x}$$<br/>"
      ],
      "text/plain": [
       "<IPython.core.display.HTML object>"
      ]
     },
     "execution_count": 386,
     "metadata": {},
     "output_type": "execute_result"
    }
   ],
   "source": [
    "# solve for y\n",
    "E2 = sp.solve(E1, y)\n",
    "renderListToLatex(E2)"
   ]
  },
  {
   "cell_type": "code",
   "execution_count": 387,
   "id": "31b815fb-4918-46e5-adde-85f4d721616a",
   "metadata": {},
   "outputs": [],
   "source": [
    "# note you need to remove abs value in solving for y so will get 2 solutions"
   ]
  },
  {
   "cell_type": "code",
   "execution_count": 396,
   "id": "c0e245e8-7e6e-4183-8973-9ef2265788c5",
   "metadata": {},
   "outputs": [
    {
     "data": {
      "text/latex": [
       "$\\displaystyle y + \\log{\\left(x \\right)} = c$"
      ],
      "text/plain": [
       "Eq(y + log(x), c)"
      ]
     },
     "execution_count": 396,
     "metadata": {},
     "output_type": "execute_result"
    }
   ],
   "source": [
    "# 4.28\n",
    "\n",
    "# this can be solved as a sperable differential equation\n",
    "\n",
    "E1 = sp.Eq(sp.integrate(1 / x, x) + sp.integrate(1, y), c)\n",
    "E1"
   ]
  },
  {
   "cell_type": "code",
   "execution_count": 397,
   "id": "f4aff370-3995-42de-92b9-580285d7cbb5",
   "metadata": {},
   "outputs": [
    {
     "data": {
      "text/html": [
       "$$c - \\log{\\left(x \\right)}$$<br/>"
      ],
      "text/plain": [
       "<IPython.core.display.HTML object>"
      ]
     },
     "execution_count": 397,
     "metadata": {},
     "output_type": "execute_result"
    }
   ],
   "source": [
    "# solve for y\n",
    "E2 = sp.solve(E1, y)\n",
    "RTL(E2)"
   ]
  },
  {
   "cell_type": "code",
   "execution_count": 399,
   "id": "17ea5438-16a1-4cfc-80bd-2db79ab4cbd0",
   "metadata": {},
   "outputs": [
    {
     "data": {
      "text/latex": [
       "$\\displaystyle \\log{\\left(k \\right)} - \\log{\\left(x \\right)}$"
      ],
      "text/plain": [
       "log(k) - log(x)"
      ]
     },
     "execution_count": 399,
     "metadata": {},
     "output_type": "execute_result"
    }
   ],
   "source": [
    "E2[0].subs({c:sp.log(k)})"
   ]
  },
  {
   "cell_type": "code",
   "execution_count": 400,
   "id": "028cfe48-32c5-47b6-91d9-568dc55777ee",
   "metadata": {},
   "outputs": [
    {
     "data": {
      "text/latex": [
       "$\\displaystyle \\frac{x^{2}}{2} + \\log{\\left(y \\right)} = c$"
      ],
      "text/plain": [
       "Eq(x**2/2 + log(y), c)"
      ]
     },
     "execution_count": 400,
     "metadata": {},
     "output_type": "execute_result"
    }
   ],
   "source": [
    "# 4.29\n",
    "\n",
    "# this can be solved as a seperable differential equation\n",
    "E1 = sp.Eq(sp.integrate(x, x) + sp.integrate(1 / y, y), c)\n",
    "E1"
   ]
  },
  {
   "cell_type": "code",
   "execution_count": 403,
   "id": "1842e997-e992-4c00-af83-517ee2b564c2",
   "metadata": {},
   "outputs": [
    {
     "data": {
      "text/html": [
       "$$e^{c - \\frac{x^{2}}{2}}$$<br/>"
      ],
      "text/plain": [
       "<IPython.core.display.HTML object>"
      ]
     },
     "execution_count": 403,
     "metadata": {},
     "output_type": "execute_result"
    }
   ],
   "source": [
    "# solve for y, note y is an abs value\n",
    "E2 = sp.solve(E1, y)\n",
    "RTL(E2)"
   ]
  },
  {
   "cell_type": "code",
   "execution_count": 406,
   "id": "3273c2ab-fd0b-4236-8ff1-e056676a1ea8",
   "metadata": {},
   "outputs": [
    {
     "data": {
      "text/latex": [
       "$\\displaystyle k e^{- \\frac{x^{2}}{2}}$"
      ],
      "text/plain": [
       "k*exp(-x**2/2)"
      ]
     },
     "execution_count": 406,
     "metadata": {},
     "output_type": "execute_result"
    }
   ],
   "source": [
    "E2[0].subs({c: sp.log(k)})"
   ]
  },
  {
   "cell_type": "code",
   "execution_count": 407,
   "id": "659a9d6c-d500-4bbf-a1b0-448e9fbdfbf8",
   "metadata": {},
   "outputs": [
    {
     "data": {
      "text/latex": [
       "$\\displaystyle \\frac{t^{3}}{3} + t + \\frac{y^{3}}{3} + \\frac{y^{2}}{2} = c$"
      ],
      "text/plain": [
       "Eq(t**3/3 + t + y**3/3 + y**2/2, c)"
      ]
     },
     "execution_count": 407,
     "metadata": {},
     "output_type": "execute_result"
    }
   ],
   "source": [
    "# 4.30\n",
    "# this can be solved as a seperable differential equation\n",
    "\n",
    "E1 = sp.Eq(sp.integrate(t**2 + 1, t) + sp.integrate(y**2 + y, y), c)\n",
    "E1"
   ]
  },
  {
   "cell_type": "code",
   "execution_count": 412,
   "id": "2c08b11f-59d7-4f68-94f9-2bca9ff58ebb",
   "metadata": {},
   "outputs": [
    {
     "data": {
      "text/latex": [
       "$\\displaystyle - \\frac{\\sqrt[3]{- 12 c + 4 t^{3} + 12 t + \\sqrt{\\left(- 12 c + 4 t^{3} + 12 t + 1\\right)^{2} - 1} + 1}}{2} - \\frac{1}{2} - \\frac{1}{2 \\sqrt[3]{- 12 c + 4 t^{3} + 12 t + \\sqrt{\\left(- 12 c + 4 t^{3} + 12 t + 1\\right)^{2} - 1} + 1}}$"
      ],
      "text/plain": [
       "-(-12*c + 4*t**3 + 12*t + sqrt((-12*c + 4*t**3 + 12*t + 1)**2 - 1) + 1)**(1/3)/2 - 1/2 - 1/(2*(-12*c + 4*t**3 + 12*t + sqrt((-12*c + 4*t**3 + 12*t + 1)**2 - 1) + 1)**(1/3))"
      ]
     },
     "execution_count": 412,
     "metadata": {},
     "output_type": "execute_result"
    }
   ],
   "source": [
    "# solve for y\n",
    "E2 = sp.solve(E1, y)\n",
    "E2[2].simplify()"
   ]
  },
  {
   "cell_type": "code",
   "execution_count": 414,
   "id": "ccedff3c-fc38-4fd1-b556-4b7c703b549e",
   "metadata": {},
   "outputs": [
    {
     "data": {
      "text/latex": [
       "$\\displaystyle 2 t^{3} + 6 t + 2 y^{3} + 3 y^{2} = 6 c$"
      ],
      "text/plain": [
       "Eq(2*t**3 + 6*t + 2*y**3 + 3*y**2, 6*c)"
      ]
     },
     "execution_count": 414,
     "metadata": {},
     "output_type": "execute_result"
    }
   ],
   "source": [
    "# better to leave in implicity form. Remove the rationals\n",
    "\n",
    "E3 = sp.Eq(E1.lhs * 6, E1.rhs * 6)\n",
    "E3"
   ]
  },
  {
   "cell_type": "code",
   "execution_count": 415,
   "id": "0ee1578b-a5bc-4d70-8afc-327ddd6509eb",
   "metadata": {},
   "outputs": [
    {
     "data": {
      "text/latex": [
       "$\\displaystyle - y + 4 \\log{\\left(t \\right)} + 3 \\log{\\left(y \\right)} = c$"
      ],
      "text/plain": [
       "Eq(-y + 4*log(t) + 3*log(y), c)"
      ]
     },
     "execution_count": 415,
     "metadata": {},
     "output_type": "execute_result"
    }
   ],
   "source": [
    "# 4.31\n",
    "# this can be solved as a seperable differential equation\n",
    "\n",
    "E1 = sp.Eq(sp.integrate(4 / t, t) - sp.integrate((y - 3)/ y, y), c)\n",
    "E1"
   ]
  },
  {
   "cell_type": "code",
   "execution_count": 416,
   "id": "1be5757b-26ee-4334-8666-a6a2f55356d0",
   "metadata": {},
   "outputs": [
    {
     "data": {
      "text/html": [
       "$$- 3 W\\left(- \\frac{e^{\\frac{c}{3}}}{3 \\left|{t^{\\frac{4}{3}}}\\right|}\\right)$$<br/>$$- 3 W\\left(\\frac{\\left(1 - \\sqrt{3} i\\right) e^{\\frac{c}{3}}}{6 \\left|{t^{\\frac{4}{3}}}\\right|}\\right)$$<br/>$$- 3 W\\left(\\frac{\\left(1 + \\sqrt{3} i\\right) e^{\\frac{c}{3}}}{6 \\left|{t^{\\frac{4}{3}}}\\right|}\\right)$$<br/>"
      ],
      "text/plain": [
       "<IPython.core.display.HTML object>"
      ]
     },
     "execution_count": 416,
     "metadata": {},
     "output_type": "execute_result"
    }
   ],
   "source": [
    "# solve for y\n",
    "E2 = sp.solve(E1, y)\n",
    "RTL(E2)"
   ]
  },
  {
   "cell_type": "code",
   "execution_count": 417,
   "id": "0a93e1e2-2a6e-41ab-9448-16b26386fa45",
   "metadata": {},
   "outputs": [
    {
     "data": {
      "text/latex": [
       "$\\displaystyle x - \\operatorname{atan}{\\left(y \\right)} = c$"
      ],
      "text/plain": [
       "Eq(x - atan(y), c)"
      ]
     },
     "execution_count": 417,
     "metadata": {},
     "output_type": "execute_result"
    }
   ],
   "source": [
    "# 4.32\n",
    "\n",
    "# can be solved as seperable differential equation\n",
    "\n",
    "E1 = sp.Eq(sp.integrate(1, x) - sp.integrate(1 / (1 + y**2), y), c)\n",
    "E1"
   ]
  },
  {
   "cell_type": "code",
   "execution_count": 418,
   "id": "259544c8-cfa2-46c2-b08d-6fb64cf5aa31",
   "metadata": {},
   "outputs": [
    {
     "data": {
      "text/html": [
       "$$- \\tan{\\left(c - x \\right)}$$<br/>"
      ],
      "text/plain": [
       "<IPython.core.display.HTML object>"
      ]
     },
     "execution_count": 418,
     "metadata": {},
     "output_type": "execute_result"
    }
   ],
   "source": [
    "# solve for y\n",
    "E2 = sp.solve(E1, y)\n",
    "RTL(E2)"
   ]
  },
  {
   "cell_type": "code",
   "execution_count": 420,
   "id": "b8867632-f0f7-48cd-adf9-33318f48103a",
   "metadata": {},
   "outputs": [
    {
     "data": {
      "text/latex": [
       "$\\displaystyle x - \\frac{\\operatorname{atan}{\\left(\\frac{y}{2} - \\frac{3}{2} \\right)}}{2} = c$"
      ],
      "text/plain": [
       "Eq(x - atan(y/2 - 3/2)/2, c)"
      ]
     },
     "execution_count": 420,
     "metadata": {},
     "output_type": "execute_result"
    }
   ],
   "source": [
    "# 4.33\n",
    "# this can be solved as a seperable differential equation\n",
    "\n",
    "E1 = sp.Eq(sp.integrate(1, x) - sp.integrate(1 / (y**2 - 6 * y + 13)), c)\n",
    "E1"
   ]
  },
  {
   "cell_type": "code",
   "execution_count": 421,
   "id": "f0333a3e-e5d3-4fad-b9da-e69f209dffef",
   "metadata": {},
   "outputs": [
    {
     "data": {
      "text/html": [
       "$$3 - 2 \\tan{\\left(2 c - 2 x \\right)}$$<br/>"
      ],
      "text/plain": [
       "<IPython.core.display.HTML object>"
      ]
     },
     "execution_count": 421,
     "metadata": {},
     "output_type": "execute_result"
    }
   ],
   "source": [
    "# solve for y\n",
    "E2 = sp.solve(E1, y)\n",
    "RTL(E2)"
   ]
  },
  {
   "cell_type": "code",
   "execution_count": 424,
   "id": "62d0d184-4455-44e9-a7da-52193576b2b3",
   "metadata": {},
   "outputs": [
    {
     "data": {
      "text/latex": [
       "$\\displaystyle 2 \\tan{\\left(k + 2 x \\right)} + 3$"
      ],
      "text/plain": [
       "2*tan(k + 2*x) + 3"
      ]
     },
     "execution_count": 424,
     "metadata": {},
     "output_type": "execute_result"
    }
   ],
   "source": [
    "# clean up k\n",
    "E3 = E2[0].subs({c: -k / 2})\n",
    "E3"
   ]
  },
  {
   "cell_type": "code",
   "execution_count": 425,
   "id": "8c56fcaa-5cc8-4574-a8dc-6db651e1b338",
   "metadata": {},
   "outputs": [
    {
     "data": {
      "text/latex": [
       "$\\displaystyle \\frac{dy}{dx} = \\frac{y}{x^{2}}$"
      ],
      "text/plain": [
       "Eq(dy/dx, y/x**2)"
      ]
     },
     "execution_count": 425,
     "metadata": {},
     "output_type": "execute_result"
    }
   ],
   "source": [
    "# 4.34\n",
    "\n",
    "# This can be manipulated to be solved as a seperable differential equation\n",
    "\n",
    "E1 = sp.Eq(dy / dx, y / x**2)\n",
    "E1"
   ]
  },
  {
   "cell_type": "code",
   "execution_count": 426,
   "id": "19a0efb9-e3a7-4d10-9efb-257611882ac5",
   "metadata": {},
   "outputs": [
    {
     "data": {
      "text/latex": [
       "$\\displaystyle \\frac{x^{2}}{dx} = \\frac{y}{dy}$"
      ],
      "text/plain": [
       "Eq(x**2/dx, y/dy)"
      ]
     },
     "execution_count": 426,
     "metadata": {},
     "output_type": "execute_result"
    }
   ],
   "source": [
    "E2 = sp.Eq(E1.lhs / dy * x**2, E1.rhs / dy * x**2)\n",
    "E2"
   ]
  },
  {
   "cell_type": "code",
   "execution_count": 427,
   "id": "d8d061ca-f97b-40ba-8ef1-8f2a1611b98b",
   "metadata": {},
   "outputs": [
    {
     "data": {
      "text/latex": [
       "$\\displaystyle \\frac{dx}{x^{2}} = \\frac{dy}{y}$"
      ],
      "text/plain": [
       "Eq(dx/x**2, dy/y)"
      ]
     },
     "execution_count": 427,
     "metadata": {},
     "output_type": "execute_result"
    }
   ],
   "source": [
    "# take reciprical\n",
    "\n",
    "E3 = sp.Eq(dx / x**2, dy / y)\n",
    "E3"
   ]
  },
  {
   "cell_type": "code",
   "execution_count": 428,
   "id": "b6cb1195-2237-4e01-a018-7fab985f55e8",
   "metadata": {},
   "outputs": [
    {
     "data": {
      "text/latex": [
       "$\\displaystyle - \\log{\\left(y \\right)} - \\frac{1}{x} = c$"
      ],
      "text/plain": [
       "Eq(-log(y) - 1/x, c)"
      ]
     },
     "execution_count": 428,
     "metadata": {},
     "output_type": "execute_result"
    }
   ],
   "source": [
    "# solve as seperable equation\n",
    "E4 = sp.Eq(sp.integrate(1 / x**2, x) - sp.integrate(1 / y, y), c)\n",
    "E4"
   ]
  },
  {
   "cell_type": "code",
   "execution_count": 430,
   "id": "a7d36a05-bf12-48bc-bf3e-5c07c8c80f21",
   "metadata": {},
   "outputs": [
    {
     "data": {
      "text/html": [
       "$$e^{\\frac{- c x - 1}{x}}$$<br/>"
      ],
      "text/plain": [
       "<IPython.core.display.HTML object>"
      ]
     },
     "execution_count": 430,
     "metadata": {},
     "output_type": "execute_result"
    }
   ],
   "source": [
    "# sovle for y\n",
    "E5 = sp.solve(E4, y)\n",
    "RTL(E5)"
   ]
  },
  {
   "cell_type": "code",
   "execution_count": 433,
   "id": "8caa326a-8ff7-4373-9905-fe372db9caed",
   "metadata": {},
   "outputs": [
    {
     "data": {
      "text/latex": [
       "$\\displaystyle \\frac{e^{- \\frac{1}{x}}}{k}$"
      ],
      "text/plain": [
       "exp(-1/x)/k"
      ]
     },
     "execution_count": 433,
     "metadata": {},
     "output_type": "execute_result"
    }
   ],
   "source": [
    "E5[0].subs({c: sp.log(k)}).simplify()"
   ]
  },
  {
   "cell_type": "code",
   "execution_count": 434,
   "id": "60b7dd02-9fd8-462e-91ff-94bd2e0bb905",
   "metadata": {},
   "outputs": [
    {
     "data": {
      "text/latex": [
       "$\\displaystyle \\frac{dy}{dx} = \\frac{x e^{x}}{2 y}$"
      ],
      "text/plain": [
       "Eq(dy/dx, x*exp(x)/(2*y))"
      ]
     },
     "execution_count": 434,
     "metadata": {},
     "output_type": "execute_result"
    }
   ],
   "source": [
    "# 4.35\n",
    "# This can be transformed into a seperable differential equation\n",
    "\n",
    "E1 = sp.Eq(dy/ dx, (x * sp.E**x)/ (2 * y))\n",
    "E1"
   ]
  },
  {
   "cell_type": "code",
   "execution_count": 436,
   "id": "f4cd30f3-bdac-4fed-a1dc-d6264ac24f45",
   "metadata": {},
   "outputs": [
    {
     "data": {
      "text/latex": [
       "$\\displaystyle 2 dy y = dx x e^{x}$"
      ],
      "text/plain": [
       "Eq(2*dy*y, dx*x*exp(x))"
      ]
     },
     "execution_count": 436,
     "metadata": {},
     "output_type": "execute_result"
    }
   ],
   "source": [
    "# manipulate to the right form\n",
    "\n",
    "E2 = sp.Eq(E1.lhs * 2 * y * dx, E1.rhs * 2 * y * dx)\n",
    "E2"
   ]
  },
  {
   "cell_type": "code",
   "execution_count": 437,
   "id": "cbeef9c7-98c1-458c-860a-35b9a6eb9253",
   "metadata": {},
   "outputs": [
    {
     "data": {
      "text/latex": [
       "$\\displaystyle - y^{2} + \\left(x - 1\\right) e^{x} = c$"
      ],
      "text/plain": [
       "Eq(-y**2 + (x - 1)*exp(x), c)"
      ]
     },
     "execution_count": 437,
     "metadata": {},
     "output_type": "execute_result"
    }
   ],
   "source": [
    "# solve as a seperable differential equation\n",
    "\n",
    "E3 = sp.Eq(sp.integrate(x * sp.E**x, x) - sp.integrate(2 * y, y), c)\n",
    "E3"
   ]
  },
  {
   "cell_type": "code",
   "execution_count": 438,
   "id": "1bb28b50-4117-4453-8f7b-604e60a8a57d",
   "metadata": {},
   "outputs": [
    {
     "data": {
      "text/html": [
       "$$- \\sqrt{- c + x e^{x} - e^{x}}$$<br/>$$\\sqrt{- c + x e^{x} - e^{x}}$$<br/>"
      ],
      "text/plain": [
       "<IPython.core.display.HTML object>"
      ]
     },
     "execution_count": 438,
     "metadata": {},
     "output_type": "execute_result"
    }
   ],
   "source": [
    "# Solve for y\n",
    "E4 = sp.solve(E3, y)\n",
    "RTL(E4)"
   ]
  },
  {
   "cell_type": "code",
   "execution_count": 439,
   "id": "c7e057d0-f2cc-459a-8e14-948830c225b4",
   "metadata": {},
   "outputs": [
    {
     "data": {
      "text/latex": [
       "$\\displaystyle \\frac{dy}{dx} = \\frac{x + 1}{y}$"
      ],
      "text/plain": [
       "Eq(dy/dx, (x + 1)/y)"
      ]
     },
     "execution_count": 439,
     "metadata": {},
     "output_type": "execute_result"
    }
   ],
   "source": [
    "# 4.36\n",
    "# this can be transformed into a seperable differential equation\n",
    "\n",
    "E1 = sp.Eq(dy/ dx, (x + 1)/ y)\n",
    "E1"
   ]
  },
  {
   "cell_type": "code",
   "execution_count": 441,
   "id": "e2202ce4-b9f1-44f0-9004-6d96968aa67a",
   "metadata": {},
   "outputs": [
    {
     "data": {
      "text/latex": [
       "$\\displaystyle dy y = dx \\left(x + 1\\right)$"
      ],
      "text/plain": [
       "Eq(dy*y, dx*(x + 1))"
      ]
     },
     "execution_count": 441,
     "metadata": {},
     "output_type": "execute_result"
    }
   ],
   "source": [
    "E2 = sp.Eq(E1.lhs * dx * y, E1.rhs * dx * y)\n",
    "E2"
   ]
  },
  {
   "cell_type": "code",
   "execution_count": 442,
   "id": "e68b8abb-3771-4ff6-b707-f29216b3ee8f",
   "metadata": {},
   "outputs": [
    {
     "data": {
      "text/latex": [
       "$\\displaystyle \\frac{x^{2}}{2} + x - \\frac{y^{2}}{2} = c$"
      ],
      "text/plain": [
       "Eq(x**2/2 + x - y**2/2, c)"
      ]
     },
     "execution_count": 442,
     "metadata": {},
     "output_type": "execute_result"
    }
   ],
   "source": [
    "# Now solve as a seperable differential equation\n",
    "E3 = sp.Eq(sp.integrate(x + 1 , x) - sp.integrate(y, y), c)\n",
    "E3"
   ]
  },
  {
   "cell_type": "code",
   "execution_count": 443,
   "id": "3eff0abf-ce3a-4539-a639-637a5bf6d8e7",
   "metadata": {},
   "outputs": [
    {
     "data": {
      "text/html": [
       "$$- \\sqrt{- 2 c + x^{2} + 2 x}$$<br/>$$\\sqrt{- 2 c + x^{2} + 2 x}$$<br/>"
      ],
      "text/plain": [
       "<IPython.core.display.HTML object>"
      ]
     },
     "execution_count": 443,
     "metadata": {},
     "output_type": "execute_result"
    }
   ],
   "source": [
    "# solve for y\n",
    "E4 = sp.solve(E3, y)\n",
    "RTL(E4)"
   ]
  },
  {
   "cell_type": "code",
   "execution_count": 444,
   "id": "c801a41e-8a14-477f-ad45-b2b8140bc6ce",
   "metadata": {},
   "outputs": [
    {
     "data": {
      "text/latex": [
       "$\\displaystyle \\frac{dy}{dx} = y^{2}$"
      ],
      "text/plain": [
       "Eq(dy/dx, y**2)"
      ]
     },
     "execution_count": 444,
     "metadata": {},
     "output_type": "execute_result"
    }
   ],
   "source": [
    "# 4.37\n",
    "# this can  be transformed into a seperable differential equation\n",
    "E1 = sp.Eq(dy / dx, y**2)\n",
    "E1"
   ]
  },
  {
   "cell_type": "code",
   "execution_count": 446,
   "id": "2bc4759e-a24f-40d0-8169-df48da36ea6f",
   "metadata": {},
   "outputs": [
    {
     "data": {
      "text/latex": [
       "$\\displaystyle \\frac{dy}{y^{2}} = dx$"
      ],
      "text/plain": [
       "Eq(dy/y**2, dx)"
      ]
     },
     "execution_count": 446,
     "metadata": {},
     "output_type": "execute_result"
    }
   ],
   "source": [
    "# manipulate\n",
    "E2 = sp.Eq(E1.lhs * dx / y**2,  E1.rhs * dx / y**2)\n",
    "E2"
   ]
  },
  {
   "cell_type": "code",
   "execution_count": 447,
   "id": "97b362c3-7e05-474d-b6f8-5607f8deead2",
   "metadata": {},
   "outputs": [
    {
     "data": {
      "text/latex": [
       "$\\displaystyle x + \\frac{1}{y} = c$"
      ],
      "text/plain": [
       "Eq(x + 1/y, c)"
      ]
     },
     "execution_count": 447,
     "metadata": {},
     "output_type": "execute_result"
    }
   ],
   "source": [
    "# Now solve as seperable differential equation\n",
    "E3 = sp.Eq(sp.integrate(1, x) - sp.integrate(1 / y**2, y), c)\n",
    "E3"
   ]
  },
  {
   "cell_type": "code",
   "execution_count": 448,
   "id": "a41823d7-3d5e-4918-a27c-ac20aa9519ee",
   "metadata": {},
   "outputs": [
    {
     "data": {
      "text/html": [
       "$$\\frac{1}{c - x}$$<br/>"
      ],
      "text/plain": [
       "<IPython.core.display.HTML object>"
      ]
     },
     "execution_count": 448,
     "metadata": {},
     "output_type": "execute_result"
    }
   ],
   "source": [
    "# solve for y\n",
    "E4 = sp.solve(E3, y)\n",
    "RTL(E4)"
   ]
  },
  {
   "cell_type": "code",
   "execution_count": 451,
   "id": "09ffdb67-07ea-46d4-96d3-7c7ee7bb6d04",
   "metadata": {},
   "outputs": [
    {
     "data": {
      "text/latex": [
       "$\\displaystyle \\frac{dx}{dt} = t^{2} x^{2}$"
      ],
      "text/plain": [
       "Eq(dx/dt, t**2*x**2)"
      ]
     },
     "execution_count": 451,
     "metadata": {},
     "output_type": "execute_result"
    }
   ],
   "source": [
    "# 4.38\n",
    "# this can be transfored into a seperable differential equation\n",
    "E1 = sp.Eq(dx / dt, x**2 * t**2)\n",
    "E1"
   ]
  },
  {
   "cell_type": "code",
   "execution_count": 452,
   "id": "91296baa-3d1e-48e6-b16e-2df175a38f36",
   "metadata": {},
   "outputs": [
    {
     "data": {
      "text/latex": [
       "$\\displaystyle \\frac{dx}{x^{2}} = dt t^{2}$"
      ],
      "text/plain": [
       "Eq(dx/x**2, dt*t**2)"
      ]
     },
     "execution_count": 452,
     "metadata": {},
     "output_type": "execute_result"
    }
   ],
   "source": [
    "# manipulate\n",
    "E2 = sp.Eq(E1.lhs * dt / x**2, E1.rhs * dt / x**2)\n",
    "E2"
   ]
  },
  {
   "cell_type": "code",
   "execution_count": 453,
   "id": "9fbbe6a0-0752-4c88-ab45-981f6ca7bee6",
   "metadata": {},
   "outputs": [
    {
     "data": {
      "text/latex": [
       "$\\displaystyle \\frac{t^{3}}{3} + \\frac{1}{x} = c$"
      ],
      "text/plain": [
       "Eq(t**3/3 + 1/x, c)"
      ]
     },
     "execution_count": 453,
     "metadata": {},
     "output_type": "execute_result"
    }
   ],
   "source": [
    "# Now solve as a seperable differential equation\n",
    "E3 = sp.Eq(sp.integrate(t**2, t) - sp.integrate(1 / x**2), c)\n",
    "E3"
   ]
  },
  {
   "cell_type": "code",
   "execution_count": 454,
   "id": "3d9e66d0-e459-4026-9f52-788269986fc5",
   "metadata": {},
   "outputs": [
    {
     "data": {
      "text/html": [
       "$$\\frac{3}{3 c - t^{3}}$$<br/>"
      ],
      "text/plain": [
       "<IPython.core.display.HTML object>"
      ]
     },
     "execution_count": 454,
     "metadata": {},
     "output_type": "execute_result"
    }
   ],
   "source": [
    "# now solve for x\n",
    "E4 = sp.solve(E3, x)\n",
    "RTL(E4)"
   ]
  },
  {
   "cell_type": "code",
   "execution_count": 455,
   "id": "7a0f4ec7-b93f-462b-a77e-f34619e28355",
   "metadata": {},
   "outputs": [
    {
     "data": {
      "text/latex": [
       "$\\displaystyle \\frac{dx}{dt} = \\frac{x}{t}$"
      ],
      "text/plain": [
       "Eq(dx/dt, x/t)"
      ]
     },
     "execution_count": 455,
     "metadata": {},
     "output_type": "execute_result"
    }
   ],
   "source": [
    "# 4.39\n",
    "# this can be transformed into a seperable differential equation\n",
    "\n",
    "E1 = sp.Eq(dx / dt, x / t)\n",
    "E1"
   ]
  },
  {
   "cell_type": "code",
   "execution_count": 457,
   "id": "7fcfdefe-dad3-4e21-8597-8f24c321370b",
   "metadata": {},
   "outputs": [
    {
     "data": {
      "text/latex": [
       "$\\displaystyle \\frac{dx}{x} = \\frac{dt}{t}$"
      ],
      "text/plain": [
       "Eq(dx/x, dt/t)"
      ]
     },
     "execution_count": 457,
     "metadata": {},
     "output_type": "execute_result"
    }
   ],
   "source": [
    "# manipulate\n",
    "E2 = sp.Eq(E1.lhs * dt / x, E1.rhs * dt / x)\n",
    "E2"
   ]
  },
  {
   "cell_type": "code",
   "execution_count": 458,
   "id": "9f626304-624e-4452-97ec-03180054983a",
   "metadata": {},
   "outputs": [
    {
     "data": {
      "text/latex": [
       "$\\displaystyle \\log{\\left(t \\right)} - \\log{\\left(x \\right)} = c$"
      ],
      "text/plain": [
       "Eq(log(t) - log(x), c)"
      ]
     },
     "execution_count": 458,
     "metadata": {},
     "output_type": "execute_result"
    }
   ],
   "source": [
    "# No solve as a seperable differential equation\n",
    "E3 = sp.Eq(sp.integrate(1 / t, t ) - sp.integrate(1 / x, x), c)\n",
    "E3"
   ]
  },
  {
   "cell_type": "code",
   "execution_count": 459,
   "id": "4bb4d353-8881-42ab-a6dd-f10f0cd15ba1",
   "metadata": {},
   "outputs": [
    {
     "data": {
      "text/html": [
       "$$t e^{- c}$$<br/>"
      ],
      "text/plain": [
       "<IPython.core.display.HTML object>"
      ]
     },
     "execution_count": 459,
     "metadata": {},
     "output_type": "execute_result"
    }
   ],
   "source": [
    "# solve for x\n",
    "E4 = sp.solve(E3, x)\n",
    "RTL(E4)"
   ]
  },
  {
   "cell_type": "code",
   "execution_count": 460,
   "id": "fe7fb9ef-2ad2-4482-b8ef-38f43b7530c7",
   "metadata": {},
   "outputs": [
    {
     "data": {
      "text/latex": [
       "$\\displaystyle \\frac{dy}{dt} = 5 y + 3$"
      ],
      "text/plain": [
       "Eq(dy/dt, 5*y + 3)"
      ]
     },
     "execution_count": 460,
     "metadata": {},
     "output_type": "execute_result"
    }
   ],
   "source": [
    "# 4.40\n",
    "E1 = sp.Eq(dy/dt, 3 + 5 * y)\n",
    "E1"
   ]
  },
  {
   "cell_type": "code",
   "execution_count": 461,
   "id": "3878506a-9222-449f-89ec-52a112da0410",
   "metadata": {},
   "outputs": [
    {
     "data": {
      "text/latex": [
       "$\\displaystyle \\frac{dy}{5 y + 3} = dt$"
      ],
      "text/plain": [
       "Eq(dy/(5*y + 3), dt)"
      ]
     },
     "execution_count": 461,
     "metadata": {},
     "output_type": "execute_result"
    }
   ],
   "source": [
    "E2 = sp.Eq(E1.lhs * dt / (3 + 5 * y), E1.rhs * dt / (3 + 5 * y))\n",
    "E2"
   ]
  },
  {
   "cell_type": "code",
   "execution_count": 462,
   "id": "812c4c6a-67f7-45f0-82b0-93271a21137d",
   "metadata": {},
   "outputs": [
    {
     "data": {
      "text/latex": [
       "$\\displaystyle t - \\frac{\\log{\\left(5 y + 3 \\right)}}{5} = c$"
      ],
      "text/plain": [
       "Eq(t - log(5*y + 3)/5, c)"
      ]
     },
     "execution_count": 462,
     "metadata": {},
     "output_type": "execute_result"
    }
   ],
   "source": [
    "# Now solve as a seperable differential equation\n",
    "E3 = sp.Eq(sp.integrate(1, t) - sp.integrate(1 / (5 * y + 3)), c)\n",
    "E3"
   ]
  },
  {
   "cell_type": "code",
   "execution_count": 463,
   "id": "bebb83c2-1e12-4037-a5a9-6b7dc9874920",
   "metadata": {},
   "outputs": [
    {
     "data": {
      "text/html": [
       "$$\\frac{e^{- 5 c + 5 t}}{5} - \\frac{3}{5}$$<br/>"
      ],
      "text/plain": [
       "<IPython.core.display.HTML object>"
      ]
     },
     "execution_count": 463,
     "metadata": {},
     "output_type": "execute_result"
    }
   ],
   "source": [
    "# solve for y\n",
    "E4 = sp.solve(E3, y)\n",
    "RTL(E4)"
   ]
  },
  {
   "cell_type": "code",
   "execution_count": 464,
   "id": "bbae30cd-0794-4f18-85f2-b1f14e5125fb",
   "metadata": {},
   "outputs": [
    {
     "data": {
      "text/latex": [
       "$\\displaystyle \\frac{y^{2}}{2} - \\cos{\\left(x \\right)} = c$"
      ],
      "text/plain": [
       "Eq(y**2/2 - cos(x), c)"
      ]
     },
     "execution_count": 464,
     "metadata": {},
     "output_type": "execute_result"
    }
   ],
   "source": [
    "# 4.41\n",
    "\n",
    "# This can be solved as a seperable differntial equaltion, but note it has an intitial condition that must be satisfied\n",
    "\n",
    "E1 = sp.Eq(sp.integrate(sp.sin(x), x) + sp.integrate(y, y), c)\n",
    "E1"
   ]
  },
  {
   "cell_type": "code",
   "execution_count": 466,
   "id": "09432d90-1b5b-4aa0-9542-890de482670d",
   "metadata": {},
   "outputs": [
    {
     "data": {
      "text/html": [
       "$$- \\sqrt{2 c + 2 \\cos{\\left(x \\right)}}$$<br/>$$\\sqrt{2 c + 2 \\cos{\\left(x \\right)}}$$<br/>"
      ],
      "text/plain": [
       "<IPython.core.display.HTML object>"
      ]
     },
     "execution_count": 466,
     "metadata": {},
     "output_type": "execute_result"
    }
   ],
   "source": [
    "# solve for y\n",
    "E2 = sp.solve(E1, y)\n",
    "RTL(E2)"
   ]
  },
  {
   "cell_type": "code",
   "execution_count": 471,
   "id": "edf6f9e3-0e20-432d-93ed-22f69ab3cb8f",
   "metadata": {},
   "outputs": [
    {
     "data": {
      "text/latex": [
       "$\\displaystyle \\sqrt{2 c + 2} = 2$"
      ],
      "text/plain": [
       "Eq(sqrt(2*c + 2), 2)"
      ]
     },
     "execution_count": 471,
     "metadata": {},
     "output_type": "execute_result"
    }
   ],
   "source": [
    "# Noiw look at initial condition ()\n",
    "E3 = sp.Eq(y, E2[0]).subs({y: - 2, x: 0}).simplify()\n",
    "E3"
   ]
  },
  {
   "cell_type": "code",
   "execution_count": 470,
   "id": "f653d114-a7fa-484c-8399-e5c930f63106",
   "metadata": {},
   "outputs": [
    {
     "data": {
      "text/latex": [
       "$\\displaystyle \\sqrt{2 c + 2} = -2$"
      ],
      "text/plain": [
       "Eq(sqrt(2*c + 2), -2)"
      ]
     },
     "execution_count": 470,
     "metadata": {},
     "output_type": "execute_result"
    }
   ],
   "source": [
    "E4 = sp.Eq(y, E2[1]).subs({y: - 2, x: 0}).simplify()\n",
    "E4"
   ]
  },
  {
   "cell_type": "code",
   "execution_count": 473,
   "id": "735393ed-a901-4ee8-a2f1-7e7f5d140588",
   "metadata": {},
   "outputs": [
    {
     "data": {
      "text/plain": [
       "[1]"
      ]
     },
     "execution_count": 473,
     "metadata": {},
     "output_type": "execute_result"
    }
   ],
   "source": [
    "# solve for c\n",
    "E5 = sp.solve(E3, c)\n",
    "E5"
   ]
  },
  {
   "cell_type": "code",
   "execution_count": 474,
   "id": "791380ca-5293-41d1-b03c-e9a682ab8ad6",
   "metadata": {},
   "outputs": [
    {
     "data": {
      "text/plain": [
       "[]"
      ]
     },
     "execution_count": 474,
     "metadata": {},
     "output_type": "execute_result"
    }
   ],
   "source": [
    "E6 = sp.solve(E4, c)\n",
    "E6"
   ]
  },
  {
   "cell_type": "code",
   "execution_count": 475,
   "id": "ad9c4675-749c-4c8b-80d2-2f52315933cc",
   "metadata": {},
   "outputs": [],
   "source": [
    "# there is 1 solution, 1. Subs in for c\n"
   ]
  },
  {
   "cell_type": "code",
   "execution_count": 479,
   "id": "350e041e-35ff-46bd-a077-a762071e3c87",
   "metadata": {},
   "outputs": [
    {
     "data": {
      "text/latex": [
       "$\\displaystyle - \\sqrt{2 \\cos{\\left(x \\right)} + 2}$"
      ],
      "text/plain": [
       "-sqrt(2*cos(x) + 2)"
      ]
     },
     "execution_count": 479,
     "metadata": {},
     "output_type": "execute_result"
    }
   ],
   "source": [
    "E2[0].subs({c: 1})"
   ]
  },
  {
   "cell_type": "code",
   "execution_count": 480,
   "id": "a086141f-3c3d-4562-9764-1b060b19d589",
   "metadata": {},
   "outputs": [
    {
     "data": {
      "text/latex": [
       "$\\displaystyle \\sqrt{2 \\cos{\\left(x \\right)} + 2}$"
      ],
      "text/plain": [
       "sqrt(2*cos(x) + 2)"
      ]
     },
     "execution_count": 480,
     "metadata": {},
     "output_type": "execute_result"
    }
   ],
   "source": [
    "E2[1].subs({c: 1})"
   ]
  },
  {
   "cell_type": "code",
   "execution_count": 483,
   "id": "51c1afa0-3357-4d2c-85d5-2b70e4030ae4",
   "metadata": {},
   "outputs": [
    {
     "data": {
      "text/latex": [
       "$\\displaystyle \\frac{x^{3}}{3} + x + \\log{\\left(y \\right)} = c$"
      ],
      "text/plain": [
       "Eq(x**3/3 + x + log(y), c)"
      ]
     },
     "execution_count": 483,
     "metadata": {},
     "output_type": "execute_result"
    }
   ],
   "source": [
    "# 4.42\n",
    "# this can be solved as a seperable differential equation, noting it has an inital condition\n",
    "E1 = sp.Eq(sp.integrate(x**2 + 1, x) + sp.integrate(1 / y, y), c)\n",
    "E1"
   ]
  },
  {
   "cell_type": "code",
   "execution_count": 486,
   "id": "aa9c3de9-2fae-4106-9c86-37a6c9a7e905",
   "metadata": {},
   "outputs": [
    {
     "data": {
      "text/html": [
       "$$\\left\\{ c : \\frac{x^{3}}{3} + x + \\log{\\left(y \\right)}\\right\\}$$<br/>"
      ],
      "text/plain": [
       "<IPython.core.display.HTML object>"
      ]
     },
     "execution_count": 486,
     "metadata": {},
     "output_type": "execute_result"
    }
   ],
   "source": [
    "# solve for y\n",
    "E2 = sp.solve(E1)\n",
    "RTL(E2)"
   ]
  },
  {
   "cell_type": "code",
   "execution_count": 493,
   "id": "d1158379-e4cd-4164-a52b-2cf3922f772f",
   "metadata": {},
   "outputs": [
    {
     "data": {
      "text/latex": [
       "$\\displaystyle - \\frac{4}{3}$"
      ],
      "text/plain": [
       "-4/3"
      ]
     },
     "execution_count": 493,
     "metadata": {},
     "output_type": "execute_result"
    }
   ],
   "source": [
    "# find the value of c with inital conditions\n",
    "\n",
    "E3 = E2[0][c].subs({y: 1, x: -1})\n",
    "E3"
   ]
  },
  {
   "cell_type": "code",
   "execution_count": 494,
   "id": "44c52f2c-51f1-4268-ad85-4d425cb4e098",
   "metadata": {},
   "outputs": [
    {
     "data": {
      "text/latex": [
       "$\\displaystyle \\frac{x^{3}}{3} + x + \\log{\\left(y \\right)} = -1.33333333333333$"
      ],
      "text/plain": [
       "Eq(x**3/3 + x + log(y), -1.33333333333333)"
      ]
     },
     "execution_count": 494,
     "metadata": {},
     "output_type": "execute_result"
    }
   ],
   "source": [
    "E4 = E1.subs({c: -4/3})\n",
    "E4"
   ]
  },
  {
   "cell_type": "code",
   "execution_count": 499,
   "id": "a8978e47-1445-467c-b85e-1f890692c7d6",
   "metadata": {},
   "outputs": [
    {
     "data": {
      "text/html": [
       "$$e^{- 0.333333333333333 \\left(x + 1.0\\right) \\left(x^{2} - x + 4.0\\right)}$$<br/>"
      ],
      "text/plain": [
       "<IPython.core.display.HTML object>"
      ]
     },
     "execution_count": 499,
     "metadata": {},
     "output_type": "execute_result"
    }
   ],
   "source": [
    "E5 = sp.solve(E4, y)\n",
    "RTL(E5)"
   ]
  },
  {
   "cell_type": "code",
   "execution_count": 501,
   "id": "e439d49d-b110-482d-9f92-b2cea48f1df7",
   "metadata": {},
   "outputs": [
    {
     "data": {
      "text/latex": [
       "$\\displaystyle \\frac{y^{6}}{6} - y + \\frac{e^{x^{2}}}{2} = c$"
      ],
      "text/plain": [
       "Eq(y**6/6 - y + exp(x**2)/2, c)"
      ]
     },
     "execution_count": 501,
     "metadata": {},
     "output_type": "execute_result"
    }
   ],
   "source": [
    "# 4.43\n",
    "# This can be solved as a seperable differential equation, nothing it has an initial condition\n",
    "\n",
    "E1 = sp.Eq(sp.integrate(x * sp.E**x**2, x) + sp.integrate(y**5 - 1, y), c)\n",
    "E1"
   ]
  },
  {
   "cell_type": "code",
   "execution_count": 502,
   "id": "8ff03c21-f0f0-4ea0-9d3f-d7094651ddbf",
   "metadata": {},
   "outputs": [
    {
     "data": {
      "text/latex": [
       "$\\displaystyle \\frac{1}{2} = c$"
      ],
      "text/plain": [
       "Eq(1/2, c)"
      ]
     },
     "execution_count": 502,
     "metadata": {},
     "output_type": "execute_result"
    }
   ],
   "source": [
    "# Find the value of c with initial conditions\n",
    "E2 = E1.subs({y: 0, x: 0})\n",
    "E2"
   ]
  },
  {
   "cell_type": "code",
   "execution_count": 504,
   "id": "0b77d1b8-b89c-46d7-b929-0e40cf9ccc5a",
   "metadata": {},
   "outputs": [
    {
     "data": {
      "text/latex": [
       "$\\displaystyle \\frac{y^{6}}{6} - y + \\frac{e^{x^{2}}}{2} = 0.5$"
      ],
      "text/plain": [
       "Eq(y**6/6 - y + exp(x**2)/2, 0.5)"
      ]
     },
     "execution_count": 504,
     "metadata": {},
     "output_type": "execute_result"
    }
   ],
   "source": [
    "# subs in value of c to solution\n",
    "\n",
    "E3 = E1.subs({c: 1 / 2})\n",
    "E3"
   ]
  },
  {
   "cell_type": "code",
   "execution_count": 507,
   "id": "b69888b8-d216-4f4b-b232-282beee539cc",
   "metadata": {},
   "outputs": [],
   "source": [
    "# solve for y\n",
    "E4 = sp.solve(E3, y)\n"
   ]
  },
  {
   "cell_type": "code",
   "execution_count": 509,
   "id": "b1dc4895-13b7-4e9d-adf6-e0cea902b3fc",
   "metadata": {},
   "outputs": [],
   "source": [
    "# no explicity solution"
   ]
  },
  {
   "cell_type": "code",
   "execution_count": 512,
   "id": "a1734586-6e2b-4a4f-8fc4-e21ea50eff7a",
   "metadata": {},
   "outputs": [
    {
     "data": {
      "text/latex": [
       "$\\displaystyle \\frac{dy}{dx} = \\frac{y \\left(x^{2} - 1\\right)}{y + 1}$"
      ],
      "text/plain": [
       "Eq(dy/dx, y*(x**2 - 1)/(y + 1))"
      ]
     },
     "execution_count": 512,
     "metadata": {},
     "output_type": "execute_result"
    }
   ],
   "source": [
    "# 4.44\n",
    "# this can be transformed into a seperable differential equation\n",
    "\n",
    "E1 = sp.Eq(dy / dx, (y * (x**2 - 1))/ (y + 1))\n",
    "E1"
   ]
  },
  {
   "cell_type": "code",
   "execution_count": 514,
   "id": "91a75bfd-fca6-4c8c-ad86-e18aaa0bc147",
   "metadata": {},
   "outputs": [
    {
     "data": {
      "text/latex": [
       "$\\displaystyle \\frac{dx + dy y}{dx} = \\frac{y^{2} \\left(x^{2} - 1\\right) + y + 1}{y + 1}$"
      ],
      "text/plain": [
       "Eq((dx + dy*y)/dx, (y**2*(x**2 - 1) + y + 1)/(y + 1))"
      ]
     },
     "execution_count": 514,
     "metadata": {},
     "output_type": "execute_result"
    }
   ],
   "source": [
    "E2 = sp.Eq(E1.lhs * y + 1, E1.rhs * y + 1).simplify()\n",
    "E2"
   ]
  },
  {
   "cell_type": "code",
   "execution_count": 517,
   "id": "6c64986a-5179-4621-b602-68f1fe7ab607",
   "metadata": {},
   "outputs": [
    {
     "data": {
      "text/latex": [
       "$\\displaystyle \\frac{x^{3}}{3} - x - y - \\log{\\left(y \\right)} = c$"
      ],
      "text/plain": [
       "Eq(x**3/3 - x - y - log(y), c)"
      ]
     },
     "execution_count": 517,
     "metadata": {},
     "output_type": "execute_result"
    }
   ],
   "source": [
    "E3 = sp.Eq(sp.integrate(x**2 - 1, x) - sp.integrate((y + 1) / y, y), c)\n",
    "E3"
   ]
  },
  {
   "cell_type": "code",
   "execution_count": 525,
   "id": "af63c818-9a65-4e31-8769-aa3e8c7cd003",
   "metadata": {},
   "outputs": [
    {
     "data": {
      "text/latex": [
       "$\\displaystyle W\\left(e^{- c + \\frac{x^{3}}{3} - x}\\right)$"
      ],
      "text/plain": [
       "LambertW(exp(-c + x**3/3 - x))"
      ]
     },
     "execution_count": 525,
     "metadata": {},
     "output_type": "execute_result"
    }
   ],
   "source": [
    "# solve for y\n",
    "E4 = sp.solve(E3, y)\n",
    "E4[2]"
   ]
  },
  {
   "cell_type": "code",
   "execution_count": 526,
   "id": "4cbe4e9e-7a7c-4f21-bcdf-d215e905e819",
   "metadata": {},
   "outputs": [
    {
     "data": {
      "text/latex": [
       "$\\displaystyle \\frac{dx}{dt} = 8 - 3 x$"
      ],
      "text/plain": [
       "Eq(dx/dt, 8 - 3*x)"
      ]
     },
     "execution_count": 526,
     "metadata": {},
     "output_type": "execute_result"
    }
   ],
   "source": [
    "# 4.45\n",
    "E1 = sp.Eq(dx / dt, 8 - 3 *x)\n",
    "E1"
   ]
  },
  {
   "cell_type": "code",
   "execution_count": 527,
   "id": "36e0f4eb-b0e0-42ab-a4ab-b65df99252a6",
   "metadata": {},
   "outputs": [
    {
     "data": {
      "text/latex": [
       "$\\displaystyle \\frac{dx}{8 - 3 x} = dt$"
      ],
      "text/plain": [
       "Eq(dx/(8 - 3*x), dt)"
      ]
     },
     "execution_count": 527,
     "metadata": {},
     "output_type": "execute_result"
    }
   ],
   "source": [
    "E2 = sp.Eq(E1.lhs * dt / (8 - 3 * x), E1.rhs * dt / (8 - 3 * x))\n",
    "E2"
   ]
  },
  {
   "cell_type": "code",
   "execution_count": 528,
   "id": "2fd820d2-f957-4add-b0fb-f811d44e6980",
   "metadata": {},
   "outputs": [
    {
     "data": {
      "text/latex": [
       "$\\displaystyle t + \\frac{\\log{\\left(3 x - 8 \\right)}}{3} = c$"
      ],
      "text/plain": [
       "Eq(t + log(3*x - 8)/3, c)"
      ]
     },
     "execution_count": 528,
     "metadata": {},
     "output_type": "execute_result"
    }
   ],
   "source": [
    "E3 = sp.Eq(sp.integrate(1, t) - sp.integrate(1 / (8 - 3 * x), x), c)\n",
    "E3"
   ]
  },
  {
   "cell_type": "code",
   "execution_count": 530,
   "id": "c68c4089-9428-428b-ba0a-8e3f9419bd19",
   "metadata": {},
   "outputs": [
    {
     "data": {
      "text/html": [
       "$$\\frac{e^{3 c - 3 t}}{3} + \\frac{8}{3}$$<br/>"
      ],
      "text/plain": [
       "<IPython.core.display.HTML object>"
      ]
     },
     "execution_count": 530,
     "metadata": {},
     "output_type": "execute_result"
    }
   ],
   "source": [
    "E4 = sp.solve(E3, x)\n",
    "RTL(E4)"
   ]
  },
  {
   "cell_type": "code",
   "execution_count": 532,
   "id": "162ffc97-2537-4f9c-9a69-9769db2968a8",
   "metadata": {},
   "outputs": [
    {
     "data": {
      "text/latex": [
       "$\\displaystyle x = \\frac{e^{3 c - 3 t}}{3} + \\frac{8}{3}$"
      ],
      "text/plain": [
       "Eq(x, exp(3*c - 3*t)/3 + 8/3)"
      ]
     },
     "execution_count": 532,
     "metadata": {},
     "output_type": "execute_result"
    }
   ],
   "source": [
    "E5 = sp.Eq(x, E4[0])\n",
    "E5"
   ]
  },
  {
   "cell_type": "code",
   "execution_count": 533,
   "id": "5f645d79-573e-42f8-ac65-3a3c0d834bdf",
   "metadata": {},
   "outputs": [
    {
     "data": {
      "text/latex": [
       "$\\displaystyle 4 = \\frac{e^{3 c}}{3} + \\frac{8}{3}$"
      ],
      "text/plain": [
       "Eq(4, exp(3*c)/3 + 8/3)"
      ]
     },
     "execution_count": 533,
     "metadata": {},
     "output_type": "execute_result"
    }
   ],
   "source": [
    "E6 = E5.subs({x: 4, t: 0})\n",
    "E6"
   ]
  },
  {
   "cell_type": "code",
   "execution_count": 535,
   "id": "dd4fc1b2-2914-41bb-adb1-0cc94fbdda64",
   "metadata": {},
   "outputs": [
    {
     "data": {
      "text/html": [
       "$$\\log{\\left(2^{\\frac{2}{3}} \\right)}$$<br/>"
      ],
      "text/plain": [
       "<IPython.core.display.HTML object>"
      ]
     },
     "execution_count": 535,
     "metadata": {},
     "output_type": "execute_result"
    }
   ],
   "source": [
    "E7 = sp.solve(E6, c)\n",
    "RTL(E7)"
   ]
  },
  {
   "cell_type": "code",
   "execution_count": 536,
   "id": "33e7fbd4-161c-466b-a262-9503e430b0d2",
   "metadata": {},
   "outputs": [
    {
     "data": {
      "text/latex": [
       "$\\displaystyle x = \\frac{e^{3 c - 3 t}}{3} + \\frac{8}{3}$"
      ],
      "text/plain": [
       "Eq(x, exp(3*c - 3*t)/3 + 8/3)"
      ]
     },
     "execution_count": 536,
     "metadata": {},
     "output_type": "execute_result"
    }
   ],
   "source": [
    "E5"
   ]
  },
  {
   "cell_type": "code",
   "execution_count": 537,
   "id": "fcc12c76-5311-4741-b384-ae4a69feacc8",
   "metadata": {},
   "outputs": [],
   "source": [
    "E8 = E5.subs({c: E7[0]})"
   ]
  },
  {
   "cell_type": "code",
   "execution_count": 538,
   "id": "f5a78976-d867-449d-9090-4205d8300c02",
   "metadata": {},
   "outputs": [
    {
     "data": {
      "text/latex": [
       "$\\displaystyle x = \\frac{8}{3} + \\frac{4 e^{- 3 t}}{3}$"
      ],
      "text/plain": [
       "Eq(x, 8/3 + 4*exp(-3*t)/3)"
      ]
     },
     "execution_count": 538,
     "metadata": {},
     "output_type": "execute_result"
    }
   ],
   "source": [
    "E8"
   ]
  },
  {
   "cell_type": "markdown",
   "id": "c810ec10-37a0-4eaf-a02a-4fa074c42dd8",
   "metadata": {},
   "source": [
    "Reduction of homogenous equations - can be transformed into seperable equation by making the subsutition\n",
    "\n",
    "$$ y = xv $$\n",
    "\n",
    "and its derivative: \n",
    "\n",
    "$$ \\frac{dy}{dx} = v + x \\frac{dv}{dx} $$\n",
    "\n",
    "If equation is homegenous you can do this"
   ]
  },
  {
   "cell_type": "code",
   "execution_count": 540,
   "id": "3c8afc4e-9825-4bb5-8e72-f93f52642253",
   "metadata": {},
   "outputs": [
    {
     "data": {
      "text/latex": [
       "$\\displaystyle \\frac{dy}{dx} = \\frac{- x + y}{x}$"
      ],
      "text/plain": [
       "Eq(dy/dx, (-x + y)/x)"
      ]
     },
     "execution_count": 540,
     "metadata": {},
     "output_type": "execute_result"
    }
   ],
   "source": [
    "# 4.46\n",
    "\n",
    "E1 = sp.Eq(dy / dx, (y - x) / x)\n",
    "E1\n"
   ]
  },
  {
   "cell_type": "code",
   "execution_count": 541,
   "id": "3df309f2-b2c6-4a9d-985d-1d137d9a7c45",
   "metadata": {},
   "outputs": [
    {
     "data": {
      "text/latex": [
       "$\\displaystyle \\frac{- x + y}{x}$"
      ],
      "text/plain": [
       "(-x + y)/x"
      ]
     },
     "execution_count": 541,
     "metadata": {},
     "output_type": "execute_result"
    }
   ],
   "source": [
    "# test if this is homogenous\n",
    "\n",
    "E2 = E1.rhs.subs({x: t * x, y: t * y}).simplify()\n",
    "E2"
   ]
  },
  {
   "cell_type": "code",
   "execution_count": 543,
   "id": "22d5904e-454b-48a1-9581-555c83768229",
   "metadata": {},
   "outputs": [
    {
     "data": {
      "text/latex": [
       "$\\displaystyle \\frac{dv x}{dx} + v = \\frac{v x - x}{x}$"
      ],
      "text/plain": [
       "Eq(dv*x/dx + v, (v*x - x)/x)"
      ]
     },
     "execution_count": 543,
     "metadata": {},
     "output_type": "execute_result"
    }
   ],
   "source": [
    "# this is homogenous so apply xv subsution\n",
    "\n",
    "E3 = sp.Eq(v + x * (dv / dx), E1.rhs.subs({y: x * v}))\n",
    "E3"
   ]
  },
  {
   "cell_type": "code",
   "execution_count": 544,
   "id": "8613df5a-cf7a-445d-bc9a-1dff1f593612",
   "metadata": {},
   "outputs": [
    {
     "data": {
      "text/latex": [
       "$\\displaystyle \\frac{dv x}{dx} + v = v - 1$"
      ],
      "text/plain": [
       "Eq(dv*x/dx + v, v - 1)"
      ]
     },
     "execution_count": 544,
     "metadata": {},
     "output_type": "execute_result"
    }
   ],
   "source": [
    "E4 = sp.Eq(E3.lhs, (x * (v - 1)) / x)\n",
    "E4"
   ]
  },
  {
   "cell_type": "code",
   "execution_count": 547,
   "id": "65f20a09-0862-4a5d-9bcd-fdda6193754e",
   "metadata": {},
   "outputs": [
    {
     "data": {
      "text/latex": [
       "$\\displaystyle dx = \\frac{dv x + dx v}{v - 1}$"
      ],
      "text/plain": [
       "Eq(dx, (dv*x + dx*v)/(v - 1))"
      ]
     },
     "execution_count": 547,
     "metadata": {},
     "output_type": "execute_result"
    }
   ],
   "source": [
    "E5 = sp.Eq(E4.lhs * dx / (v - 1), E4.rhs * dx / (v - 1) ).simplify()\n",
    "E5"
   ]
  },
  {
   "cell_type": "code",
   "execution_count": 549,
   "id": "71ed4733-1e04-4f0c-8151-bcd436fd1eda",
   "metadata": {},
   "outputs": [
    {
     "data": {
      "text/latex": [
       "$\\displaystyle \\log{\\left(x \\right)} - \\log{\\left(v - 2 \\right)} = c$"
      ],
      "text/plain": [
       "Eq(log(x) - log(v - 2), c)"
      ]
     },
     "execution_count": 549,
     "metadata": {},
     "output_type": "execute_result"
    }
   ],
   "source": [
    "E6 = sp.Eq(sp.integrate(1 / x, x) - sp.integrate(1 / (v - 2), v), c)\n",
    "E6"
   ]
  },
  {
   "cell_type": "code",
   "execution_count": 550,
   "id": "cedda471-8081-46e6-b091-46ecdf347f61",
   "metadata": {},
   "outputs": [
    {
     "data": {
      "text/latex": [
       "$\\displaystyle \\log{\\left(x \\right)} - \\log{\\left(-2 + \\frac{y}{x} \\right)} = c$"
      ],
      "text/plain": [
       "Eq(log(x) - log(-2 + y/x), c)"
      ]
     },
     "execution_count": 550,
     "metadata": {},
     "output_type": "execute_result"
    }
   ],
   "source": [
    "E7 = E6.subs({v: y / x})\n",
    "E7"
   ]
  },
  {
   "cell_type": "code",
   "execution_count": 553,
   "id": "1c75c2d3-fcd7-4651-9834-7983c3f0be95",
   "metadata": {},
   "outputs": [
    {
     "data": {
      "text/html": [
       "$$x^{2} e^{- c} + 2 x$$<br/>"
      ],
      "text/plain": [
       "<IPython.core.display.HTML object>"
      ]
     },
     "execution_count": 553,
     "metadata": {},
     "output_type": "execute_result"
    }
   ],
   "source": [
    "E8 = sp.solve(E7, y)\n",
    "RTL(E8)"
   ]
  },
  {
   "cell_type": "code",
   "execution_count": 554,
   "id": "7a89f190-b0e0-4674-9890-46f597b1aa4d",
   "metadata": {},
   "outputs": [
    {
     "data": {
      "text/latex": [
       "$\\displaystyle \\frac{x + 2 y}{x}$"
      ],
      "text/plain": [
       "(x + 2*y)/x"
      ]
     },
     "execution_count": 554,
     "metadata": {},
     "output_type": "execute_result"
    }
   ],
   "source": [
    "# 4.47\n",
    "# check if homogenous, and if so can be solved as a seperable differential equation\n",
    "\n",
    "E1 = (2 * y + x) / x\n",
    "E1"
   ]
  },
  {
   "cell_type": "code",
   "execution_count": 555,
   "id": "d61bf3a9-afcb-4be9-b16a-c52c5b476288",
   "metadata": {},
   "outputs": [
    {
     "data": {
      "text/latex": [
       "$\\displaystyle \\frac{x + 2 y}{x}$"
      ],
      "text/plain": [
       "(x + 2*y)/x"
      ]
     },
     "execution_count": 555,
     "metadata": {},
     "output_type": "execute_result"
    }
   ],
   "source": [
    "E2 = E1.subs({x: t * x, y: t * y}).simplify()\n",
    "E2"
   ]
  },
  {
   "cell_type": "code",
   "execution_count": 556,
   "id": "9b8cd0c4-8b5d-4fb2-bc69-0eef58620bac",
   "metadata": {},
   "outputs": [
    {
     "data": {
      "text/latex": [
       "$\\displaystyle \\frac{2 v x + x}{x}$"
      ],
      "text/plain": [
       "(2*v*x + x)/x"
      ]
     },
     "execution_count": 556,
     "metadata": {},
     "output_type": "execute_result"
    }
   ],
   "source": [
    "# this is homogenous so we can use a subsituion \n",
    "\n",
    "E3 = E1.subs({y: x * v})\n",
    "E3"
   ]
  },
  {
   "cell_type": "code",
   "execution_count": 557,
   "id": "1e3b717c-3b9a-4482-8240-1ce0d4e027f1",
   "metadata": {},
   "outputs": [
    {
     "data": {
      "text/latex": [
       "$\\displaystyle 2 v + 1$"
      ],
      "text/plain": [
       "2*v + 1"
      ]
     },
     "execution_count": 557,
     "metadata": {},
     "output_type": "execute_result"
    }
   ],
   "source": [
    "# create a new explression\n",
    "\n",
    "E3.factor()"
   ]
  },
  {
   "cell_type": "code",
   "execution_count": 559,
   "id": "29dd97f8-3fb3-43fd-9289-4f74155d2237",
   "metadata": {},
   "outputs": [
    {
     "data": {
      "text/latex": [
       "$\\displaystyle \\frac{dv x}{dx} + v = 2 v + 1$"
      ],
      "text/plain": [
       "Eq(dv*x/dx + v, 2*v + 1)"
      ]
     },
     "execution_count": 559,
     "metadata": {},
     "output_type": "execute_result"
    }
   ],
   "source": [
    "E4 = sp.Eq(v + x * (dv / dx), E3.factor())\n",
    "E4"
   ]
  },
  {
   "cell_type": "code",
   "execution_count": 560,
   "id": "d85a52dd-aac9-449d-aa14-816d393de61f",
   "metadata": {},
   "outputs": [
    {
     "data": {
      "text/latex": [
       "$\\displaystyle \\frac{dv x}{dx} = v + 1$"
      ],
      "text/plain": [
       "Eq(dv*x/dx, v + 1)"
      ]
     },
     "execution_count": 560,
     "metadata": {},
     "output_type": "execute_result"
    }
   ],
   "source": [
    "E5 = sp.Eq(E4.lhs - v, E4.rhs - v)\n",
    "E5"
   ]
  },
  {
   "cell_type": "code",
   "execution_count": 561,
   "id": "3d5ca3d6-863b-4efb-9437-145b84a1a785",
   "metadata": {},
   "outputs": [
    {
     "data": {
      "text/latex": [
       "$\\displaystyle \\log{\\left(x \\right)} - \\log{\\left(v + 1 \\right)} = c$"
      ],
      "text/plain": [
       "Eq(log(x) - log(v + 1), c)"
      ]
     },
     "execution_count": 561,
     "metadata": {},
     "output_type": "execute_result"
    }
   ],
   "source": [
    "E6 = sp.Eq(sp.integrate(1 / x, x) - sp.integrate(1 / (v + 1), v), c)\n",
    "E6"
   ]
  },
  {
   "cell_type": "code",
   "execution_count": 562,
   "id": "c967b918-dc77-4acf-b49b-4066042766fd",
   "metadata": {},
   "outputs": [
    {
     "data": {
      "text/latex": [
       "$\\displaystyle \\log{\\left(x \\right)} - \\log{\\left(1 + \\frac{y}{x} \\right)} = c$"
      ],
      "text/plain": [
       "Eq(log(x) - log(1 + y/x), c)"
      ]
     },
     "execution_count": 562,
     "metadata": {},
     "output_type": "execute_result"
    }
   ],
   "source": [
    "E7 = E6.subs({v: y / x})\n",
    "E7"
   ]
  },
  {
   "cell_type": "code",
   "execution_count": 563,
   "id": "283c49e2-5a2c-4a4d-889c-b136d6e2fdac",
   "metadata": {},
   "outputs": [
    {
     "data": {
      "text/html": [
       "$$x^{2} e^{- c} - x$$<br/>"
      ],
      "text/plain": [
       "<IPython.core.display.HTML object>"
      ]
     },
     "execution_count": 563,
     "metadata": {},
     "output_type": "execute_result"
    }
   ],
   "source": [
    "E8 = sp.solve(E7, y)\n",
    "RTL(E8)"
   ]
  },
  {
   "cell_type": "code",
   "execution_count": 570,
   "id": "5cafea53-d08a-4b0a-bf8d-bb1ee82d01d3",
   "metadata": {},
   "outputs": [
    {
     "data": {
      "text/latex": [
       "$\\displaystyle \\frac{x^{2} + 2 y^{2}}{x y}$"
      ],
      "text/plain": [
       "(x**2 + 2*y**2)/(x*y)"
      ]
     },
     "execution_count": 570,
     "metadata": {},
     "output_type": "execute_result"
    }
   ],
   "source": [
    "# 4.48\n",
    "# check if homogenous\n",
    "E1 = (x**2 + 2 * y**2) / (x * y)\n",
    "E1"
   ]
  },
  {
   "cell_type": "code",
   "execution_count": 566,
   "id": "a5b45fc7-0b22-4ff7-8ed2-7a163bf0ddab",
   "metadata": {},
   "outputs": [
    {
     "data": {
      "text/latex": [
       "$\\displaystyle \\frac{x}{y} + \\frac{2 y}{x}$"
      ],
      "text/plain": [
       "x/y + 2*y/x"
      ]
     },
     "execution_count": 566,
     "metadata": {},
     "output_type": "execute_result"
    }
   ],
   "source": [
    "E2 = E1.subs({x: t * x, y: t * y}).simplify()\n",
    "E2"
   ]
  },
  {
   "cell_type": "code",
   "execution_count": 571,
   "id": "49091cfd-d6c0-4c59-89f9-45fff9643dce",
   "metadata": {},
   "outputs": [
    {
     "data": {
      "text/latex": [
       "$\\displaystyle 2 v + \\frac{1}{v}$"
      ],
      "text/plain": [
       "2*v + 1/v"
      ]
     },
     "execution_count": 571,
     "metadata": {},
     "output_type": "execute_result"
    }
   ],
   "source": [
    "# these are homogenous. USe subsution\n",
    "E3 = E1.subs({y: x * v}).simplify()\n",
    "E3\n",
    "\n"
   ]
  },
  {
   "cell_type": "code",
   "execution_count": 572,
   "id": "97f49909-2f36-4735-9655-881f26bf9f7e",
   "metadata": {},
   "outputs": [
    {
     "data": {
      "text/latex": [
       "$\\displaystyle \\frac{dv x}{dx} + v = 2 v + \\frac{1}{v}$"
      ],
      "text/plain": [
       "Eq(dv*x/dx + v, 2*v + 1/v)"
      ]
     },
     "execution_count": 572,
     "metadata": {},
     "output_type": "execute_result"
    }
   ],
   "source": [
    "E4 = sp.Eq(v + x * (dv / dx), E3)\n",
    "E4"
   ]
  },
  {
   "cell_type": "code",
   "execution_count": 573,
   "id": "241f8c7c-4ab1-41bc-9501-cf0b93ef4ba4",
   "metadata": {},
   "outputs": [
    {
     "data": {
      "text/latex": [
       "$\\displaystyle \\frac{dv x}{dx} = v + \\frac{1}{v}$"
      ],
      "text/plain": [
       "Eq(dv*x/dx, v + 1/v)"
      ]
     },
     "execution_count": 573,
     "metadata": {},
     "output_type": "execute_result"
    }
   ],
   "source": [
    "E5 = sp.Eq(E4.lhs - v, E4.rhs - v)\n",
    "E5"
   ]
  },
  {
   "cell_type": "code",
   "execution_count": 575,
   "id": "f0f94f2d-f500-45bd-8387-cfe707769726",
   "metadata": {},
   "outputs": [
    {
     "data": {
      "text/latex": [
       "$\\displaystyle \\frac{dx}{x} = \\frac{dv v}{v^{2} + 1}$"
      ],
      "text/plain": [
       "Eq(dx/x, dv*v/(v**2 + 1))"
      ]
     },
     "execution_count": 575,
     "metadata": {},
     "output_type": "execute_result"
    }
   ],
   "source": [
    "E6 = sp.Eq(E5.lhs * dx / x / (v + 1 / v), E5.rhs * dx / x / (v + 1 / v)).simplify()\n",
    "E6"
   ]
  },
  {
   "cell_type": "code",
   "execution_count": 576,
   "id": "37eb36bc-e275-4bba-a4c3-9a951b5ed9d0",
   "metadata": {},
   "outputs": [
    {
     "data": {
      "text/latex": [
       "$\\displaystyle \\log{\\left(x \\right)} - \\frac{\\log{\\left(v^{2} + 1 \\right)}}{2} = c$"
      ],
      "text/plain": [
       "Eq(log(x) - log(v**2 + 1)/2, c)"
      ]
     },
     "execution_count": 576,
     "metadata": {},
     "output_type": "execute_result"
    }
   ],
   "source": [
    "E7 = sp.Eq(sp.integrate(1 / x, x) - sp.integrate(v / (v**2 + 1), v), c)\n",
    "E7"
   ]
  },
  {
   "cell_type": "code",
   "execution_count": 579,
   "id": "0acb1d6a-3d88-4987-af25-71a497b9f3f2",
   "metadata": {},
   "outputs": [
    {
     "data": {
      "text/latex": [
       "$\\displaystyle \\log{\\left(x \\right)} - \\frac{\\log{\\left(1 + \\frac{y^{2}}{x^{2}} \\right)}}{2} = c$"
      ],
      "text/plain": [
       "Eq(log(x) - log(1 + y**2/x**2)/2, c)"
      ]
     },
     "execution_count": 579,
     "metadata": {},
     "output_type": "execute_result"
    }
   ],
   "source": [
    "# subs back in \n",
    "E8 = E7.subs({v: y / x})\n",
    "E8"
   ]
  },
  {
   "cell_type": "code",
   "execution_count": 582,
   "id": "1102abcf-235b-4851-a04d-83d9be6eeda0",
   "metadata": {},
   "outputs": [
    {
     "data": {
      "text/html": [
       "$$- x \\sqrt{x^{2} - e^{2 c}} e^{- c}$$<br/>$$x \\sqrt{x^{2} - e^{2 c}} e^{- c}$$<br/>"
      ],
      "text/plain": [
       "<IPython.core.display.HTML object>"
      ]
     },
     "execution_count": 582,
     "metadata": {},
     "output_type": "execute_result"
    }
   ],
   "source": [
    "E9 = sp.solve(E8, y)\n",
    "RTL(E9)"
   ]
  },
  {
   "cell_type": "code",
   "execution_count": 585,
   "id": "54e8e318-1ba1-4405-8c5b-c31db8be2be2",
   "metadata": {},
   "outputs": [],
   "source": [
    "E10 = E9[1]**2"
   ]
  },
  {
   "cell_type": "code",
   "execution_count": 587,
   "id": "74a7473e-6213-426f-b7a8-7c06b38c88e3",
   "metadata": {},
   "outputs": [
    {
     "data": {
      "text/latex": [
       "$\\displaystyle x^{4} e^{- 2 c} - x^{2}$"
      ],
      "text/plain": [
       "x**4*exp(-2*c) - x**2"
      ]
     },
     "execution_count": 587,
     "metadata": {},
     "output_type": "execute_result"
    }
   ],
   "source": [
    "E10.expand()"
   ]
  },
  {
   "cell_type": "code",
   "execution_count": 588,
   "id": "cea8f77f-236d-4d99-b5a3-3050b7939928",
   "metadata": {},
   "outputs": [],
   "source": [
    "# note that e^-2c is an arbitrary variable, so can be swapped out with k"
   ]
  },
  {
   "cell_type": "code",
   "execution_count": 597,
   "id": "323076fc-c9d2-4826-875d-facf1d8b1bae",
   "metadata": {},
   "outputs": [
    {
     "data": {
      "text/latex": [
       "$\\displaystyle \\frac{2}{y} + \\frac{y}{x}$"
      ],
      "text/plain": [
       "2/y + y/x"
      ]
     },
     "execution_count": 597,
     "metadata": {},
     "output_type": "execute_result"
    }
   ],
   "source": [
    "# 4.49\n",
    "# check if seperable equation \n",
    "E1 = (2 * x + y**2) / (x * y)\n",
    "E1.simplify()"
   ]
  },
  {
   "cell_type": "code",
   "execution_count": 596,
   "id": "1149de74-67a0-4b23-99aa-54a8051cf509",
   "metadata": {},
   "outputs": [
    {
     "data": {
      "text/latex": [
       "$\\displaystyle \\frac{y}{x} + \\frac{2}{t y}$"
      ],
      "text/plain": [
       "y/x + 2/(t*y)"
      ]
     },
     "execution_count": 596,
     "metadata": {},
     "output_type": "execute_result"
    }
   ],
   "source": [
    "E2 = E1.subs({x: t * x, y: t * y}).simplify()\n",
    "E2"
   ]
  },
  {
   "cell_type": "code",
   "execution_count": 598,
   "id": "7c64d5b0-b41e-48bb-82eb-a2a5103cfabc",
   "metadata": {},
   "outputs": [],
   "source": [
    "# not homogenous"
   ]
  },
  {
   "cell_type": "code",
   "execution_count": 602,
   "id": "2b042a17-70fb-4a04-8962-8b3c311df758",
   "metadata": {},
   "outputs": [
    {
     "data": {
      "text/latex": [
       "$\\displaystyle \\frac{x^{2} + y^{2}}{2 x y}$"
      ],
      "text/plain": [
       "(x**2 + y**2)/(2*x*y)"
      ]
     },
     "execution_count": 602,
     "metadata": {},
     "output_type": "execute_result"
    }
   ],
   "source": [
    "# 4.50\n",
    "# check if homogenous\n",
    "E1 = (x**2 + y**2) / (2 * x * y)\n",
    "E1"
   ]
  },
  {
   "cell_type": "code",
   "execution_count": 600,
   "id": "f37292e2-d74d-4fd8-b8a5-584bf3cd4b72",
   "metadata": {},
   "outputs": [
    {
     "data": {
      "text/latex": [
       "$\\displaystyle \\frac{x}{2 y} + \\frac{y}{2 x}$"
      ],
      "text/plain": [
       "x/(2*y) + y/(2*x)"
      ]
     },
     "execution_count": 600,
     "metadata": {},
     "output_type": "execute_result"
    }
   ],
   "source": [
    "E2 = E1.subs({x: t * x, y: t * y}).simplify()\n",
    "E2"
   ]
  },
  {
   "cell_type": "code",
   "execution_count": 603,
   "id": "737e24e5-450c-4c72-b9a9-5a121aa7f254",
   "metadata": {},
   "outputs": [],
   "source": [
    "# these are homogenous - use a subtition"
   ]
  },
  {
   "cell_type": "code",
   "execution_count": 604,
   "id": "009e861f-0856-4031-ba0e-6f16b8ed2eb8",
   "metadata": {},
   "outputs": [
    {
     "data": {
      "text/latex": [
       "$\\displaystyle \\frac{v^{2} + 1}{2 v}$"
      ],
      "text/plain": [
       "(v**2 + 1)/(2*v)"
      ]
     },
     "execution_count": 604,
     "metadata": {},
     "output_type": "execute_result"
    }
   ],
   "source": [
    "E3 = E1.subs({y: x * v}).simplify()\n",
    "E3"
   ]
  },
  {
   "cell_type": "code",
   "execution_count": 605,
   "id": "1f091170-98d8-4574-b186-2c2381a7568b",
   "metadata": {},
   "outputs": [
    {
     "data": {
      "text/latex": [
       "$\\displaystyle \\frac{dv x}{dx} + v = \\frac{v^{2} + 1}{2 v}$"
      ],
      "text/plain": [
       "Eq(dv*x/dx + v, (v**2 + 1)/(2*v))"
      ]
     },
     "execution_count": 605,
     "metadata": {},
     "output_type": "execute_result"
    }
   ],
   "source": [
    "E4 = sp.Eq(v + x * (dv / dx), E3)\n",
    "E4"
   ]
  },
  {
   "cell_type": "code",
   "execution_count": 607,
   "id": "7e81ccfe-fca0-475d-9b53-9cbda4e96ee1",
   "metadata": {},
   "outputs": [
    {
     "data": {
      "text/latex": [
       "$\\displaystyle \\frac{dv x}{dx} = - v + \\frac{v^{2} + 1}{2 v}$"
      ],
      "text/plain": [
       "Eq(dv*x/dx, -v + (v**2 + 1)/(2*v))"
      ]
     },
     "execution_count": 607,
     "metadata": {},
     "output_type": "execute_result"
    }
   ],
   "source": [
    "E5 = sp.Eq(E4.lhs - v, E4.rhs - v)\n",
    "E5"
   ]
  },
  {
   "cell_type": "code",
   "execution_count": 611,
   "id": "ad417cf0-ce8a-49c9-8d5b-99218921ac4b",
   "metadata": {},
   "outputs": [
    {
     "data": {
      "text/latex": [
       "$\\displaystyle \\frac{dx}{x} = - \\frac{2 dv v}{v^{2} - 1}$"
      ],
      "text/plain": [
       "Eq(dx/x, -2*dv*v/(v**2 - 1))"
      ]
     },
     "execution_count": 611,
     "metadata": {},
     "output_type": "execute_result"
    }
   ],
   "source": [
    "E6 = sp.Eq(E5.lhs * dx / x / E5.rhs, E5.rhs * dx / x / E5.rhs).simplify()\n",
    "E6"
   ]
  },
  {
   "cell_type": "code",
   "execution_count": 612,
   "id": "601b2da2-ee69-4942-a95c-9930f98a3e2a",
   "metadata": {},
   "outputs": [
    {
     "data": {
      "text/latex": [
       "$\\displaystyle \\log{\\left(x \\right)} + \\log{\\left(v^{2} - 1 \\right)} = c$"
      ],
      "text/plain": [
       "Eq(log(x) + log(v**2 - 1), c)"
      ]
     },
     "execution_count": 612,
     "metadata": {},
     "output_type": "execute_result"
    }
   ],
   "source": [
    "E7 = sp.Eq(sp.integrate(1 / x, x) + sp.integrate((2 * v)/ (v**2 - 1), v), c)\n",
    "E7"
   ]
  },
  {
   "cell_type": "code",
   "execution_count": 613,
   "id": "6dfca022-489d-4543-b772-419c39e8fcea",
   "metadata": {},
   "outputs": [
    {
     "data": {
      "text/latex": [
       "$\\displaystyle c = \\log{\\left(x \\right)} + \\log{\\left(-1 + \\frac{y^{2}}{x^{2}} \\right)}$"
      ],
      "text/plain": [
       "Eq(c, log(x) + log(-1 + y**2/x**2))"
      ]
     },
     "execution_count": 613,
     "metadata": {},
     "output_type": "execute_result"
    }
   ],
   "source": [
    "E8 = E7.subs({v: y / x}).simplify()\n",
    "E8"
   ]
  },
  {
   "cell_type": "code",
   "execution_count": 615,
   "id": "9a93036a-2d19-4a39-9b0b-a916ecab8599",
   "metadata": {},
   "outputs": [
    {
     "data": {
      "text/html": [
       "$$- x \\sqrt{\\frac{x + e^{c}}{x}}$$<br/>$$x \\sqrt{\\frac{x + e^{c}}{x}}$$<br/>"
      ],
      "text/plain": [
       "<IPython.core.display.HTML object>"
      ]
     },
     "execution_count": 615,
     "metadata": {},
     "output_type": "execute_result"
    }
   ],
   "source": [
    "# solve for y\n",
    "E9 = sp.solve(E8, y)\n",
    "RTL(E9)"
   ]
  },
  {
   "cell_type": "code",
   "execution_count": 617,
   "id": "ee09e309-4803-45ac-839a-0682117d05ba",
   "metadata": {},
   "outputs": [
    {
     "data": {
      "text/latex": [
       "$\\displaystyle x \\left(x + e^{c}\\right)$"
      ],
      "text/plain": [
       "x*(x + exp(c))"
      ]
     },
     "execution_count": 617,
     "metadata": {},
     "output_type": "execute_result"
    }
   ],
   "source": [
    "E9[0]**2"
   ]
  },
  {
   "cell_type": "code",
   "execution_count": 624,
   "id": "95bbe7a5-3fda-42af-b928-19ee51e308f8",
   "metadata": {},
   "outputs": [
    {
     "data": {
      "text/latex": [
       "$\\displaystyle - \\frac{2 x y}{x^{2} - y^{2}}$"
      ],
      "text/plain": [
       "-2*x*y/(x**2 - y**2)"
      ]
     },
     "execution_count": 624,
     "metadata": {},
     "output_type": "execute_result"
    }
   ],
   "source": [
    "# 4.51\n",
    "# check if homogenous\n",
    "\n",
    "E1 = (2 * x * y) / (y**2 - x**2)\n",
    "E1.simplify()"
   ]
  },
  {
   "cell_type": "code",
   "execution_count": 625,
   "id": "3e76eb6f-8a44-4893-9b06-40b72b2861a4",
   "metadata": {},
   "outputs": [
    {
     "data": {
      "text/latex": [
       "$\\displaystyle - \\frac{2 x y}{x^{2} - y^{2}}$"
      ],
      "text/plain": [
       "-2*x*y/(x**2 - y**2)"
      ]
     },
     "execution_count": 625,
     "metadata": {},
     "output_type": "execute_result"
    }
   ],
   "source": [
    "E2 = E1.subs({x: t * x, y: t * y}).simplify()\n",
    "E2"
   ]
  },
  {
   "cell_type": "code",
   "execution_count": 622,
   "id": "acec314a-66ec-4103-b7bf-444e6600ba32",
   "metadata": {},
   "outputs": [],
   "source": [
    "# is homogenous, use "
   ]
  },
  {
   "cell_type": "code",
   "execution_count": 627,
   "id": "239636af-1221-408e-9fb7-211db9665f06",
   "metadata": {},
   "outputs": [
    {
     "data": {
      "text/latex": [
       "$\\displaystyle \\frac{2 v}{v^{2} - 1}$"
      ],
      "text/plain": [
       "2*v/(v**2 - 1)"
      ]
     },
     "execution_count": 627,
     "metadata": {},
     "output_type": "execute_result"
    }
   ],
   "source": [
    "E3 = E1.subs({y: x * v}).simplify()\n",
    "E3"
   ]
  },
  {
   "cell_type": "code",
   "execution_count": 628,
   "id": "cdc83f43-c155-4151-9f49-d80cc197cd59",
   "metadata": {},
   "outputs": [
    {
     "data": {
      "text/latex": [
       "$\\displaystyle \\frac{dv x}{dx} + v = \\frac{2 v}{v^{2} - 1}$"
      ],
      "text/plain": [
       "Eq(dv*x/dx + v, 2*v/(v**2 - 1))"
      ]
     },
     "execution_count": 628,
     "metadata": {},
     "output_type": "execute_result"
    }
   ],
   "source": [
    "E4 = sp.Eq(v + x * (dv / dx), E3)\n",
    "E4"
   ]
  },
  {
   "cell_type": "code",
   "execution_count": 629,
   "id": "b0c71d8f-1a89-4cf5-a0af-20fb23cbb495",
   "metadata": {},
   "outputs": [
    {
     "data": {
      "text/latex": [
       "$\\displaystyle \\frac{dv x}{dx} = - v + \\frac{2 v}{v^{2} - 1}$"
      ],
      "text/plain": [
       "Eq(dv*x/dx, -v + 2*v/(v**2 - 1))"
      ]
     },
     "execution_count": 629,
     "metadata": {},
     "output_type": "execute_result"
    }
   ],
   "source": [
    "E5 = sp.Eq(E4.lhs - v, E4.rhs - v)\n",
    "E5"
   ]
  },
  {
   "cell_type": "code",
   "execution_count": 631,
   "id": "5edb349f-a9a0-4752-ad50-21127b4d8f4d",
   "metadata": {},
   "outputs": [
    {
     "data": {
      "text/latex": [
       "$\\displaystyle \\frac{dx}{x} = \\frac{dv \\left(1 - v^{2}\\right)}{v \\left(v^{2} - 3\\right)}$"
      ],
      "text/plain": [
       "Eq(dx/x, dv*(1 - v**2)/(v*(v**2 - 3)))"
      ]
     },
     "execution_count": 631,
     "metadata": {},
     "output_type": "execute_result"
    }
   ],
   "source": [
    "E6 = sp.Eq(E5.lhs * dx / x / E5.rhs, E5.rhs * dx / x / E5.rhs).simplify()\n",
    "E6"
   ]
  },
  {
   "cell_type": "code",
   "execution_count": 632,
   "id": "305a871f-27d9-4783-854b-456fc36273e1",
   "metadata": {},
   "outputs": [
    {
     "data": {
      "text/latex": [
       "$\\displaystyle \\log{\\left(x \\right)} - \\frac{\\log{\\left(v^{3} - 3 v \\right)}}{3} = c$"
      ],
      "text/plain": [
       "Eq(log(x) - log(v**3 - 3*v)/3, c)"
      ]
     },
     "execution_count": 632,
     "metadata": {},
     "output_type": "execute_result"
    }
   ],
   "source": [
    "E7 = sp.Eq(sp.integrate(1 / x, x) + sp.integrate((1 - v**2) / (v * (v**2 - 3)), v), c)\n",
    "E7"
   ]
  },
  {
   "cell_type": "code",
   "execution_count": 638,
   "id": "324d9a55-cbf4-46d6-8c44-06724bf03422",
   "metadata": {},
   "outputs": [
    {
     "data": {
      "text/latex": [
       "$\\displaystyle \\log{\\left(x \\right)} - \\frac{\\log{\\left(- \\frac{3 y}{x} + \\frac{y^{3}}{x^{3}} \\right)}}{3} = c$"
      ],
      "text/plain": [
       "Eq(log(x) - log(-3*y/x + y**3/x**3)/3, c)"
      ]
     },
     "execution_count": 638,
     "metadata": {},
     "output_type": "execute_result"
    }
   ],
   "source": [
    "# subs in \n",
    "E8 = E7.subs({v: y / x})\n",
    "E8"
   ]
  },
  {
   "cell_type": "code",
   "execution_count": null,
   "id": "1bdb45cc-53bb-49b0-9843-80b6722a4596",
   "metadata": {},
   "outputs": [],
   "source": [
    "# solve for y"
   ]
  },
  {
   "cell_type": "code",
   "execution_count": 640,
   "id": "671871b5-00fb-40b4-8adf-217a0129de48",
   "metadata": {},
   "outputs": [
    {
     "data": {
      "text/latex": [
       "$\\displaystyle 3 c = 3 \\log{\\left(x \\right)} - \\log{\\left(\\frac{y \\left(-3 + \\frac{y^{2}}{x^{2}}\\right)}{x} \\right)}$"
      ],
      "text/plain": [
       "Eq(3*c, 3*log(x) - log(y*(-3 + y**2/x**2)/x))"
      ]
     },
     "execution_count": 640,
     "metadata": {},
     "output_type": "execute_result"
    }
   ],
   "source": [
    "E9 = sp.Eq(E8.lhs * 3, E8.rhs * 3)\n",
    "E9.simplify()"
   ]
  },
  {
   "cell_type": "code",
   "execution_count": 646,
   "id": "e4f2e27f-5b7b-49c0-9896-b1c52671ec0f",
   "metadata": {},
   "outputs": [
    {
     "data": {
      "text/latex": [
       "$\\displaystyle \\frac{x^{4} + 3 x^{2} y^{2} + y^{4}}{x^{3} y}$"
      ],
      "text/plain": [
       "(x**4 + 3*x**2*y**2 + y**4)/(x**3*y)"
      ]
     },
     "execution_count": 646,
     "metadata": {},
     "output_type": "execute_result"
    }
   ],
   "source": [
    "# 4.54\n",
    "\n",
    "E1 = (x**4 + 3 * x**2 * y**2 + y**4) / (x**3 * y)\n",
    "E1"
   ]
  },
  {
   "cell_type": "code",
   "execution_count": 643,
   "id": "996548b1-e659-416b-bfd9-6fd6d0e515f7",
   "metadata": {},
   "outputs": [],
   "source": [
    "# check if homogenous"
   ]
  },
  {
   "cell_type": "code",
   "execution_count": 644,
   "id": "937d3060-1a58-4a56-9ece-023a33ae222f",
   "metadata": {},
   "outputs": [
    {
     "data": {
      "text/latex": [
       "$\\displaystyle \\frac{x}{y} + \\frac{3 y}{x} + \\frac{y^{3}}{x^{3}}$"
      ],
      "text/plain": [
       "x/y + 3*y/x + y**3/x**3"
      ]
     },
     "execution_count": 644,
     "metadata": {},
     "output_type": "execute_result"
    }
   ],
   "source": [
    "E2 = E1.subs({x: t * x, y: t * y}).simplify()\n",
    "E2"
   ]
  },
  {
   "cell_type": "code",
   "execution_count": 647,
   "id": "0bdbefd3-e652-48dd-aa81-6b4f0c6bb5c2",
   "metadata": {},
   "outputs": [
    {
     "data": {
      "text/latex": [
       "$\\displaystyle v^{3} + 3 v + \\frac{1}{v}$"
      ],
      "text/plain": [
       "v**3 + 3*v + 1/v"
      ]
     },
     "execution_count": 647,
     "metadata": {},
     "output_type": "execute_result"
    }
   ],
   "source": [
    "E3 = E1.subs({y: x * v}).simplify()\n",
    "E3"
   ]
  },
  {
   "cell_type": "code",
   "execution_count": 648,
   "id": "2476ea5f-7f8d-4898-963f-22e7c383824f",
   "metadata": {},
   "outputs": [
    {
     "data": {
      "text/latex": [
       "$\\displaystyle \\frac{dv x}{dx} + v = v^{3} + 3 v + \\frac{1}{v}$"
      ],
      "text/plain": [
       "Eq(dv*x/dx + v, v**3 + 3*v + 1/v)"
      ]
     },
     "execution_count": 648,
     "metadata": {},
     "output_type": "execute_result"
    }
   ],
   "source": [
    "E4 = sp.Eq(v + x * (dv / dx), E3)\n",
    "E4"
   ]
  },
  {
   "cell_type": "code",
   "execution_count": 649,
   "id": "8c47d42b-3c7d-45e2-bc8a-8456130c5678",
   "metadata": {},
   "outputs": [
    {
     "data": {
      "text/latex": [
       "$\\displaystyle \\frac{dv x}{dx} = v^{3} + 2 v + \\frac{1}{v}$"
      ],
      "text/plain": [
       "Eq(dv*x/dx, v**3 + 2*v + 1/v)"
      ]
     },
     "execution_count": 649,
     "metadata": {},
     "output_type": "execute_result"
    }
   ],
   "source": [
    "E5 = sp.Eq(E4.lhs - v, E4.rhs - v)\n",
    "E5"
   ]
  },
  {
   "cell_type": "code",
   "execution_count": 650,
   "id": "f20a8944-19ab-4c3e-b42d-93707a3dc1cf",
   "metadata": {},
   "outputs": [
    {
     "data": {
      "text/latex": [
       "$\\displaystyle \\frac{dx}{x} = \\frac{dv v}{v^{2} \\left(v^{2} + 2\\right) + 1}$"
      ],
      "text/plain": [
       "Eq(dx/x, dv*v/(v**2*(v**2 + 2) + 1))"
      ]
     },
     "execution_count": 650,
     "metadata": {},
     "output_type": "execute_result"
    }
   ],
   "source": [
    "E6 = sp.Eq(E5.lhs * dx / x / E5.rhs, E5.rhs * dx / x / E5.rhs).simplify()\n",
    "E6"
   ]
  },
  {
   "cell_type": "code",
   "execution_count": 651,
   "id": "141253b2-3915-494d-b62b-0aeee4a34f09",
   "metadata": {},
   "outputs": [
    {
     "data": {
      "text/latex": [
       "$\\displaystyle \\log{\\left(x \\right)} + \\frac{1}{2 v^{2} + 2} = c$"
      ],
      "text/plain": [
       "Eq(log(x) + 1/(2*v**2 + 2), c)"
      ]
     },
     "execution_count": 651,
     "metadata": {},
     "output_type": "execute_result"
    }
   ],
   "source": [
    "E7 = sp.Eq(sp.integrate(1 / x, x) - sp.integrate(v / (v**2 * (v**2 + 2) + 1), v), c)\n",
    "E7"
   ]
  },
  {
   "cell_type": "code",
   "execution_count": 654,
   "id": "1a7f835e-5d6e-4cc5-89f1-77f0c16ad41c",
   "metadata": {},
   "outputs": [
    {
     "data": {
      "text/latex": [
       "$\\displaystyle \\log{\\left(x \\right)} + \\frac{1}{2 + \\frac{2 y^{2}}{x^{2}}} = c$"
      ],
      "text/plain": [
       "Eq(log(x) + 1/(2 + 2*y**2/x**2), c)"
      ]
     },
     "execution_count": 654,
     "metadata": {},
     "output_type": "execute_result"
    }
   ],
   "source": [
    "E8 = E7.subs({v: y/x})\n",
    "E8"
   ]
  },
  {
   "cell_type": "code",
   "execution_count": 656,
   "id": "ef618490-1790-4b88-9199-d07bf49515e6",
   "metadata": {},
   "outputs": [
    {
     "data": {
      "text/html": [
       "$$- \\frac{\\sqrt{2} x \\sqrt{\\frac{- 2 c + 2 \\log{\\left(x \\right)} + 1}{c - \\log{\\left(x \\right)}}}}{2}$$<br/>$$\\frac{\\sqrt{2} x \\sqrt{\\frac{- 2 c + 2 \\log{\\left(x \\right)} + 1}{c - \\log{\\left(x \\right)}}}}{2}$$<br/>"
      ],
      "text/plain": [
       "<IPython.core.display.HTML object>"
      ]
     },
     "execution_count": 656,
     "metadata": {},
     "output_type": "execute_result"
    }
   ],
   "source": [
    "E9 = sp.solve(E8, y)\n",
    "RTL(E9)"
   ]
  },
  {
   "cell_type": "code",
   "execution_count": 659,
   "id": "177cebaf-ea24-4135-a4e2-4e292c968f40",
   "metadata": {},
   "outputs": [
    {
     "data": {
      "text/latex": [
       "$\\displaystyle \\frac{x^{2} \\left(- c + \\log{\\left(x \\right)} + \\frac{1}{2}\\right)}{c - \\log{\\left(x \\right)}}$"
      ],
      "text/plain": [
       "x**2*(-c + log(x) + 1/2)/(c - log(x))"
      ]
     },
     "execution_count": 659,
     "metadata": {},
     "output_type": "execute_result"
    }
   ],
   "source": [
    "E10 = E9[0]**2\n",
    "E10.simplify()"
   ]
  },
  {
   "cell_type": "code",
   "execution_count": null,
   "id": "6d34247d-ac93-413c-b61f-b477bcbc895e",
   "metadata": {},
   "outputs": [],
   "source": []
  }
 ],
 "metadata": {
  "kernelspec": {
   "display_name": "Python 3",
   "language": "python",
   "name": "python3"
  },
  "language_info": {
   "codemirror_mode": {
    "name": "ipython",
    "version": 3
   },
   "file_extension": ".py",
   "mimetype": "text/x-python",
   "name": "python",
   "nbconvert_exporter": "python",
   "pygments_lexer": "ipython3",
   "version": "3.9.2"
  }
 },
 "nbformat": 4,
 "nbformat_minor": 5
}
