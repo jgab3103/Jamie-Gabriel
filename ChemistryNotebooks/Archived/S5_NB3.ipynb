{
 "cells": [
  {
   "cell_type": "code",
   "execution_count": 2,
   "id": "6dd866d6-49eb-4efc-94c5-70044517bc26",
   "metadata": {},
   "outputs": [],
   "source": [
    "import numpy as np\n",
    "import sympy as sp\n",
    "import pickle\n",
    "from IPython.display import HTML\n",
    "import ipywidgets as widgets\n",
    "import matplotlib as mpl\n",
    "import matplotlib.pyplot as plt\n",
    "from mpl_toolkits.mplot3d import Axes3D\n",
    "import matplotlib.pyplot as plt\n",
    "mpl.rcParams['legend.fontsize'] = 10\n",
    "import pandas as pd\n",
    "import itertools\n",
    "pd.set_option('display.max_colwidth', None)\n",
    "from sympy.plotting import plot \n",
    "from IPython.display import Image\n",
    "\n",
    "\n",
    "# Render to Latex function \n",
    "def RTL(e):\n",
    "    latex_rendering = []\n",
    "\n",
    "    for i in range(len(e)):\n",
    "        latex_rendering.append(\"$$\" + sp.latex(e[i]) + \"$$<br/>\")\n",
    "    \n",
    "    return(HTML(\"\".join(latex_rendering[0:])))"
   ]
  },
  {
   "cell_type": "markdown",
   "id": "af2c1173-b24a-4dc7-8e8f-6ab2dfbcbd1d",
   "metadata": {},
   "source": [
    "#### Solving Exact Differential Equations \n",
    "\n",
    "\n",
    "If a differential equation is exact, it means that there is a form it can be written in the following form: \n",
    "\n",
    "$$ \\begin{equation} M\\left( {x,y} \\right) + N\\left( {x,y} \\right)\\frac{{dy}}{{dx}} = 0 \\label{eq:eq2} \\end{equation} $$\n",
    "\n",
    "\n",
    "Once it is in this form, if there exists some function, whereby\n",
    "\n",
    "$$ {\\Psi _x} = M\\left( {x,y} \\right)\\hspace{0.25in}\\,\\,\\,\\,\\,\\,\\,\\,\\,\\,\\,\\,{\\mbox{and }}\\,\\,\\hspace{0.25in}{\\Psi _y} = N\\left( {x,y} \\right) $$ \n",
    "\n",
    "then it means that the differential equation under investigation is <b>exact</b>. This means it can be written as: \n",
    "\n",
    "$$ \\begin{equation} {\\Psi _x} + {\\Psi _y}\\frac{{dy}}{{dx}} = 0 \\label{eq:eq3} \\end{equation} $$\n",
    "\n",
    "Using the chain rule this can be reduced to: \n",
    "\n",
    "$$ \\frac{d}{{dx}}\\left( {\\Psi \\left( {x,y\\left( x \\right)} \\right)} \\right) = 0 $$\n",
    "\n",
    "\n",
    "We can then get the implicity solution: \n",
    "\n",
    "$$\\begin{equation} \\Psi \\left( {x,y} \\right) = c \\label{eq:eq4} \\end{equation} $$\n",
    "\n",
    "Like most differential equation problems, the key to these is just working through some examples to establish the a list of steps that you will always need go through, and not making silly mistakes (such as having the equation in an correct form, or getting the substitutions wrong). All the examples below follow the same steps.  \n",
    "\n",
    "\n",
    "#### Some examples"
   ]
  },
  {
   "cell_type": "markdown",
   "id": "a1bb31e3-77bb-41ef-9ffa-85a7bc4a3716",
   "metadata": {},
   "source": [
    "<b>Example:</b>\n",
    "\n",
    "Solve the following IVP and find the interval of validity for the solution\n",
    "\n",
    "$$ 2xy - 9{x^2} + \\left( {2y + {x^2} + 1} \\right)\\frac{{dy}}{{dx}} = 0,\\hspace{0.25in}y\\left( 0 \\right) =  - 3 $$"
   ]
  },
  {
   "cell_type": "code",
   "execution_count": 73,
   "id": "8e112404-5e5a-478d-a580-a62c357c7a02",
   "metadata": {},
   "outputs": [],
   "source": [
    "# Create needed variables \n",
    "someFunctionInY, someFunctionInYPrime, someFunctionInX, psi, psiWRTY, psiWRTX, x, y, c, t, v, dy, dx = sp.symbols('someFunctionInY, someFunctionInYPrime, someFunctionInX, psi, psiWRTY, psiWRTX, x, y, c, t, v, dy, dx ')"
   ]
  },
  {
   "cell_type": "code",
   "execution_count": 59,
   "id": "7d5693f0-fcac-43e4-9663-001c716341ce",
   "metadata": {},
   "outputs": [
    {
     "data": {
      "text/latex": [
       "$\\displaystyle - 9 x^{2} + 2 x y + \\frac{dy \\left(x^{2} + 2 y + 1\\right)}{dx} = 0$"
      ],
      "text/plain": [
       "Eq(-9*x**2 + 2*x*y + dy*(x**2 + 2*y + 1)/dx, 0)"
      ]
     },
     "execution_count": 59,
     "metadata": {},
     "output_type": "execute_result"
    }
   ],
   "source": [
    "# Write equation in standard form\n",
    "E1 = sp.Eq(2 * x * y - 9 * x**2 + (2 * y + x**2 + 1) * dy/dx, 0)\n",
    "E1"
   ]
  },
  {
   "cell_type": "code",
   "execution_count": 84,
   "id": "9787010d-f59c-4a92-82d5-67766ecc69f3",
   "metadata": {},
   "outputs": [
    {
     "data": {
      "text/html": [
       "$$- 9 x^{2} + 2 x y$$<br/>$$x^{2} + 2 y + 1$$<br/>$$2 x$$<br/>$$2 x$$<br/>"
      ],
      "text/plain": [
       "<IPython.core.display.HTML object>"
      ]
     },
     "execution_count": 84,
     "metadata": {},
     "output_type": "execute_result"
    }
   ],
   "source": [
    "# Assign values for M and N\n",
    "M = 2 * x * y - 9 * x**2 \n",
    "N = 2 * y + x**2 + 1\n",
    "MWRTY = sp.diff(M, y)\n",
    "MWRTX = sp.diff(N, x)\n",
    "RTL([M, N, MWRTY, MWRTX])"
   ]
  },
  {
   "cell_type": "code",
   "execution_count": 61,
   "id": "8b8004a6-60ac-4ef8-8cac-83907de49d45",
   "metadata": {},
   "outputs": [
    {
     "data": {
      "text/plain": [
       "True"
      ]
     },
     "execution_count": 61,
     "metadata": {},
     "output_type": "execute_result"
    }
   ],
   "source": [
    "# Confim there is some function such that differntiation psi with respect to x is equal to psi with respect to y\n",
    "sp.diff(M, y) == sp.diff(N, x)"
   ]
  },
  {
   "cell_type": "code",
   "execution_count": 62,
   "id": "772de5b8-3e91-4273-b5d1-ae023bfa0c05",
   "metadata": {},
   "outputs": [
    {
     "data": {
      "text/latex": [
       "$\\displaystyle \\psi = someFunctionInY - 3 x^{3} + x^{2} y$"
      ],
      "text/plain": [
       "Eq(psi, someFunctionInY - 3*x**3 + x**2*y)"
      ]
     },
     "execution_count": 62,
     "metadata": {},
     "output_type": "execute_result"
    }
   ],
   "source": [
    "# Integrate M with respect to x to get a value for psi\n",
    "E2 = sp.Eq(psi, sp.integrate(M, x) + someFunctionInY)\n",
    "E2"
   ]
  },
  {
   "cell_type": "code",
   "execution_count": 63,
   "id": "70695728-c3b6-4de5-8a0e-61ae206f1052",
   "metadata": {},
   "outputs": [
    {
     "data": {
      "text/latex": [
       "$\\displaystyle psiWRTY = {someFunctionInY}' + x^{2}$"
      ],
      "text/plain": [
       "Eq(psiWRTY, someFunctionInYPrime + x**2)"
      ]
     },
     "execution_count": 63,
     "metadata": {},
     "output_type": "execute_result"
    }
   ],
   "source": [
    "# Differentiate psi with respect to y \n",
    "E3 = E2.subs({someFunctionInY: 0})\n",
    "E4 = sp.Eq(psiWRTY, sp.diff(E3.rhs, y) + someFunctionInYPrime)\n",
    "E4"
   ]
  },
  {
   "cell_type": "code",
   "execution_count": 64,
   "id": "c7f384ae-8e58-4ffc-af7a-984d4f84fae3",
   "metadata": {},
   "outputs": [
    {
     "data": {
      "text/latex": [
       "$\\displaystyle x^{2} + 2 y + 1 = {someFunctionInY}' + x^{2}$"
      ],
      "text/plain": [
       "Eq(x**2 + 2*y + 1, someFunctionInYPrime + x**2)"
      ]
     },
     "execution_count": 64,
     "metadata": {},
     "output_type": "execute_result"
    }
   ],
   "source": [
    "# Substitute psi with respect to y and N(x, Y). \n",
    "E5 = E4.subs({psiWRTY: N})\n",
    "E5"
   ]
  },
  {
   "cell_type": "code",
   "execution_count": 65,
   "id": "fce7fc83-3c14-4038-b500-492ec7902018",
   "metadata": {},
   "outputs": [
    {
     "data": {
      "text/latex": [
       "$\\displaystyle {someFunctionInY}' = 2 y + 1$"
      ],
      "text/plain": [
       "Eq(someFunctionInYPrime, 2*y + 1)"
      ]
     },
     "execution_count": 65,
     "metadata": {},
     "output_type": "execute_result"
    }
   ],
   "source": [
    "# Solve to find someFunctionInYPrime\n",
    "E6 = sp.Eq(someFunctionInYPrime, sp.solve(E5, someFunctionInYPrime)[0])\n",
    "E6"
   ]
  },
  {
   "cell_type": "code",
   "execution_count": 66,
   "id": "dcd2af3d-9db4-45dc-8034-d3c333d4c511",
   "metadata": {},
   "outputs": [
    {
     "data": {
      "text/latex": [
       "$\\displaystyle someFunctionInY = y^{2} + y$"
      ],
      "text/plain": [
       "Eq(someFunctionInY, y**2 + y)"
      ]
     },
     "execution_count": 66,
     "metadata": {},
     "output_type": "execute_result"
    }
   ],
   "source": [
    "# Integrate someFunctionInYPrime\n",
    "E7 = sp.Eq(someFunctionInY, sp.integrate(E6.rhs, y))\n",
    "E7"
   ]
  },
  {
   "cell_type": "code",
   "execution_count": 67,
   "id": "522d5e88-0ced-4305-9e29-96a367ba3e2c",
   "metadata": {},
   "outputs": [
    {
     "data": {
      "text/latex": [
       "$\\displaystyle c = - 3 x^{3} + x^{2} y + y^{2} + y$"
      ],
      "text/plain": [
       "Eq(c, -3*x**3 + x**2*y + y**2 + y)"
      ]
     },
     "execution_count": 67,
     "metadata": {},
     "output_type": "execute_result"
    }
   ],
   "source": [
    "# Subsitute someFunctionInY in the equatin for psi above\n",
    "E8 = E2.subs({someFunctionInY: E7.rhs, psi: c})\n",
    "E8"
   ]
  },
  {
   "cell_type": "code",
   "execution_count": 68,
   "id": "b25a606a-1e07-4d01-b27a-4317eea660d9",
   "metadata": {},
   "outputs": [],
   "source": [
    "# Find the value of c from initial conditions"
   ]
  },
  {
   "cell_type": "code",
   "execution_count": 69,
   "id": "793e025d-3436-4cb1-9bc1-4a246471991a",
   "metadata": {},
   "outputs": [
    {
     "data": {
      "text/latex": [
       "$\\displaystyle c = 6$"
      ],
      "text/plain": [
       "Eq(c, 6)"
      ]
     },
     "execution_count": 69,
     "metadata": {},
     "output_type": "execute_result"
    }
   ],
   "source": [
    "E9 = E8.subs({x: 0, y: -3})\n",
    "E9"
   ]
  },
  {
   "cell_type": "code",
   "execution_count": 70,
   "id": "40641603-e468-4aa4-8a24-7caca654a8d4",
   "metadata": {},
   "outputs": [
    {
     "data": {
      "text/latex": [
       "$\\displaystyle 6 = - 3 x^{3} + x^{2} y + y^{2} + y$"
      ],
      "text/plain": [
       "Eq(6, -3*x**3 + x**2*y + y**2 + y)"
      ]
     },
     "execution_count": 70,
     "metadata": {},
     "output_type": "execute_result"
    }
   ],
   "source": [
    "# Subsitute this value into the equation to the implicit solution\n",
    "E10 = E8.subs({c: 6})\n",
    "E10"
   ]
  },
  {
   "cell_type": "code",
   "execution_count": 71,
   "id": "040c8d2a-c21d-4e47-8cf7-61dd81b46486",
   "metadata": {},
   "outputs": [],
   "source": [
    "# Solve for an implicit solution\n",
    "E11 = sp.solve(E10, y)\n",
    "RTL(E11)"
   ]
  },
  {
   "cell_type": "code",
   "execution_count": 55,
   "id": "0af83dc1-85b2-4692-b07b-61ec4d6d0199",
   "metadata": {},
   "outputs": [
    {
     "data": {
      "text/html": [
       "$$-3$$<br/>$$2$$<br/>"
      ],
      "text/plain": [
       "<IPython.core.display.HTML object>"
      ]
     },
     "execution_count": 55,
     "metadata": {},
     "output_type": "execute_result"
    }
   ],
   "source": [
    "# Check if the initial condition if valid\n",
    "E12 = E11[0].subs({x: 0})\n",
    "E13 = E11[1].subs({x: 0})\n",
    "RTL([E12, E13])"
   ]
  },
  {
   "cell_type": "code",
   "execution_count": 57,
   "id": "4e08064d-69b7-4501-a792-83cd6479e865",
   "metadata": {},
   "outputs": [],
   "source": [
    "# Note that only the first solution is valid. Note that there is a condition in place around negative square roots"
   ]
  },
  {
   "cell_type": "markdown",
   "id": "c42eabb2-35da-40ae-9afc-21502cb8e9a6",
   "metadata": {},
   "source": [
    "<b>Example:</b>\n",
    "\n",
    "Solve the following IVP and find the interval of validity for the solution\n",
    "\n",
    "$$ 2x{y^2} + 4 = 2\\left( {3 - {x^2}y} \\right)y'\\hspace{0.25in}y\\left( { - 1} \\right) = 8 $$"
   ]
  },
  {
   "cell_type": "code",
   "execution_count": 99,
   "id": "7dfa7c8f-5945-48ad-8be0-d2224b826617",
   "metadata": {},
   "outputs": [],
   "source": [
    "# Create needed variables \n",
    "MWRTY, MWRTX, yPrime, someFunctionInY, someFunctionInYPrime, someFunctionInX, someFunctionInXPrime, someFunctionInX, psi, psiWRTY, psiWRTX, x, y, c, t, v, dy, dx = sp.symbols('MWRTY, MWRTX, yPrime, someFunctionInY, someFunctionInYPrime, someFunctionInX, someFunctionInXPrime, someFunctionInX, psi, psiWRTY, psiWRTX, x, y, c, t, v, dy, dx')"
   ]
  },
  {
   "cell_type": "code",
   "execution_count": 125,
   "id": "2d8d957c-95ae-41c7-924a-298e85e3e51e",
   "metadata": {},
   "outputs": [
    {
     "data": {
      "text/latex": [
       "$\\displaystyle 2 x y^{2} - {y}' \\left(- 2 x^{2} y + 6\\right) + 4 = 0$"
      ],
      "text/plain": [
       "Eq(2*x*y**2 - yPrime*(-2*x**2*y + 6) + 4, 0)"
      ]
     },
     "execution_count": 125,
     "metadata": {},
     "output_type": "execute_result"
    }
   ],
   "source": [
    "# Write equation in correct form\n",
    "E1 = sp.Eq(2 * x * y**2 + 4, 2 * (3 - x**2 * y) * yPrime)\n",
    "E2 = sp.Eq(E1.lhs - E1.rhs, E1.rhs - E1.rhs)\n",
    "E2"
   ]
  },
  {
   "cell_type": "code",
   "execution_count": 126,
   "id": "d57159a2-5f3c-4c67-b01d-185146d2366f",
   "metadata": {},
   "outputs": [
    {
     "data": {
      "text/html": [
       "$$2 x y^{2} + 4$$<br/>$$2 x^{2} y - 6$$<br/>$$4 x y$$<br/>$$4 x y$$<br/>"
      ],
      "text/plain": [
       "<IPython.core.display.HTML object>"
      ]
     },
     "execution_count": 126,
     "metadata": {},
     "output_type": "execute_result"
    }
   ],
   "source": [
    "# Assign values for M and N\n",
    "M = 2 * x * y**2 + 4\n",
    "N = - (2 * (3 - x**2 * y)) \n",
    "MWRTY = sp.diff(M, y)\n",
    "MWRTX = sp.diff(N, x)\n",
    "RTL([M, N, MWRTY, MWRTX])"
   ]
  },
  {
   "cell_type": "code",
   "execution_count": 129,
   "id": "42e46268-1c79-4326-91bd-434e55ed9148",
   "metadata": {},
   "outputs": [
    {
     "data": {
      "text/latex": [
       "$\\displaystyle \\psi = someFunctionInX + x^{2} y^{2} - 6 y$"
      ],
      "text/plain": [
       "Eq(psi, someFunctionInX + x**2*y**2 - 6*y)"
      ]
     },
     "execution_count": 129,
     "metadata": {},
     "output_type": "execute_result"
    }
   ],
   "source": [
    "# Integrate N with respect to y to get a value for psi\n",
    "E2 = sp.Eq(psi, sp.integrate(N, y) + someFunctionInX)\n",
    "E2"
   ]
  },
  {
   "cell_type": "code",
   "execution_count": 130,
   "id": "3b82c03d-2fff-479c-87c7-f703da944021",
   "metadata": {},
   "outputs": [
    {
     "data": {
      "text/latex": [
       "$\\displaystyle psiWRTX = {someFunctionInX}' + 2 x y^{2}$"
      ],
      "text/plain": [
       "Eq(psiWRTX, someFunctionInXPrime + 2*x*y**2)"
      ]
     },
     "execution_count": 130,
     "metadata": {},
     "output_type": "execute_result"
    }
   ],
   "source": [
    "# Differentiate psi with respect to x \n",
    "E3 = E2.subs({someFunctionInX: 0})\n",
    "E4 = sp.Eq(psiWRTX, sp.diff(E3.rhs, x) + someFunctionInXPrime)\n",
    "E4"
   ]
  },
  {
   "cell_type": "code",
   "execution_count": 131,
   "id": "e01ac4f4-c881-435b-94fd-587f3e2e72d6",
   "metadata": {},
   "outputs": [
    {
     "data": {
      "text/latex": [
       "$\\displaystyle 2 x y^{2} + 4 = {someFunctionInX}' + 2 x y^{2}$"
      ],
      "text/plain": [
       "Eq(2*x*y**2 + 4, someFunctionInXPrime + 2*x*y**2)"
      ]
     },
     "execution_count": 131,
     "metadata": {},
     "output_type": "execute_result"
    }
   ],
   "source": [
    "# Substitute psi with respect to y and N(x, Y). \n",
    "E5 = E4.subs({psiWRTX: M})\n",
    "E5"
   ]
  },
  {
   "cell_type": "code",
   "execution_count": 132,
   "id": "5d2444e4-d4a3-4f3f-a0ee-02b73460cff6",
   "metadata": {},
   "outputs": [
    {
     "data": {
      "text/latex": [
       "$\\displaystyle {someFunctionInX}' = 4$"
      ],
      "text/plain": [
       "Eq(someFunctionInXPrime, 4)"
      ]
     },
     "execution_count": 132,
     "metadata": {},
     "output_type": "execute_result"
    }
   ],
   "source": [
    "# Solve to find someFunctionInXPrime\n",
    "E6 = sp.Eq(someFunctionInXPrime, sp.solve(E5, someFunctionInXPrime)[0])\n",
    "E6"
   ]
  },
  {
   "cell_type": "code",
   "execution_count": 133,
   "id": "10c780ee-37b1-4bd0-962b-bf6051d127fe",
   "metadata": {},
   "outputs": [
    {
     "data": {
      "text/latex": [
       "$\\displaystyle someFunctionInX = 4 x$"
      ],
      "text/plain": [
       "Eq(someFunctionInX, 4*x)"
      ]
     },
     "execution_count": 133,
     "metadata": {},
     "output_type": "execute_result"
    }
   ],
   "source": [
    "# Integrate someFunctionInYPrime\n",
    "E7 = sp.Eq(someFunctionInX, sp.integrate(E6.rhs, x))\n",
    "E7"
   ]
  },
  {
   "cell_type": "code",
   "execution_count": 134,
   "id": "87449743-56b3-474b-b655-8681636d8a6d",
   "metadata": {},
   "outputs": [
    {
     "data": {
      "text/latex": [
       "$\\displaystyle c = x^{2} y^{2} + 4 x - 6 y$"
      ],
      "text/plain": [
       "Eq(c, x**2*y**2 + 4*x - 6*y)"
      ]
     },
     "execution_count": 134,
     "metadata": {},
     "output_type": "execute_result"
    }
   ],
   "source": [
    "# Subsitute someFunctionInY in the equatin for psi above\n",
    "E8 = E2.subs({someFunctionInX: E7.rhs, psi: c})\n",
    "E8"
   ]
  },
  {
   "cell_type": "code",
   "execution_count": 141,
   "id": "5ab41718-6ee2-45a3-bc78-7e96e52c0cb3",
   "metadata": {},
   "outputs": [
    {
     "data": {
      "text/latex": [
       "$\\displaystyle c = 12$"
      ],
      "text/plain": [
       "Eq(c, 12)"
      ]
     },
     "execution_count": 141,
     "metadata": {},
     "output_type": "execute_result"
    }
   ],
   "source": [
    "# Find value of c using initial condition\n",
    "E9 = E8.subs({x: -1, y: 8})\n",
    "E9"
   ]
  },
  {
   "cell_type": "code",
   "execution_count": 142,
   "id": "98f6dbb7-283f-46ac-adbd-090e6d7a0d1d",
   "metadata": {},
   "outputs": [
    {
     "data": {
      "text/latex": [
       "$\\displaystyle 12 = x^{2} y^{2} + 4 x - 6 y$"
      ],
      "text/plain": [
       "Eq(12, x**2*y**2 + 4*x - 6*y)"
      ]
     },
     "execution_count": 142,
     "metadata": {},
     "output_type": "execute_result"
    }
   ],
   "source": [
    "# Subsitute this value into the equation to the implicit solution\n",
    "E10 = E8.subs({c: 12})\n",
    "E10"
   ]
  },
  {
   "cell_type": "code",
   "execution_count": 145,
   "id": "bb7886fa-70c1-4285-b400-71496267711c",
   "metadata": {},
   "outputs": [
    {
     "data": {
      "text/html": [
       "$$\\frac{3 - \\sqrt{- 4 x^{3} + 12 x^{2} + 9}}{x^{2}}$$<br/>$$\\frac{\\sqrt{- 4 x^{3} + 12 x^{2} + 9} + 3}{x^{2}}$$<br/>"
      ],
      "text/plain": [
       "<IPython.core.display.HTML object>"
      ]
     },
     "execution_count": 145,
     "metadata": {},
     "output_type": "execute_result"
    }
   ],
   "source": [
    "# Solve explicitly for y\n",
    "E11 = sp.solve(E10, y)\n",
    "RTL(E11)"
   ]
  },
  {
   "cell_type": "code",
   "execution_count": 144,
   "id": "f5fef760-5b72-48fc-9e94-323d59036e9a",
   "metadata": {},
   "outputs": [
    {
     "data": {
      "text/html": [
       "$$8$$<br/>"
      ],
      "text/plain": [
       "<IPython.core.display.HTML object>"
      ]
     },
     "execution_count": 144,
     "metadata": {},
     "output_type": "execute_result"
    }
   ],
   "source": [
    "# Note only 1 solution will be valid, which can be checked with the initial conditions\n",
    "E12 = E11[1].subs({x: -1})\n",
    "RTL([E12])"
   ]
  },
  {
   "cell_type": "markdown",
   "id": "0543e839-a532-4bdb-a1cb-bab63e2567dc",
   "metadata": {},
   "source": [
    "<b>Example:</b>\n",
    "\n",
    "Solve the following IVP and find the interval of validity for the solution\n",
    "\n",
    "$$ \\frac{{2ty}}{{{t^2} + 1}} - 2t - \\left( {2 - \\ln \\left( {{t^2} + 1} \\right)} \\right)y' = 0\\hspace{0.25in}y\\left( 5 \\right) = 0 $$"
   ]
  },
  {
   "cell_type": "code",
   "execution_count": 150,
   "id": "3ef2f659-7688-4cbb-96f9-96fe72ca5f20",
   "metadata": {},
   "outputs": [],
   "source": [
    "# Create needed variables \n",
    "MWRTT , MWRTY, MWRTX, yPrime, someFunctionInY, someFunctionInYPrime, someFunctionInX, someFunctionInXPrime, someFunctionInX, psi, psiWRTY, psiWRTX, x, y, c, t, v, dy, dx = sp.symbols('MWRTT, MWRTY, MWRTX, yPrime, someFunctionInY, someFunctionInYPrime, someFunctionInX, someFunctionInXPrime, someFunctionInX, psi, psiWRTY, psiWRTX, x, y, c, t, v, dy, dx')"
   ]
  },
  {
   "cell_type": "code",
   "execution_count": 149,
   "id": "1781b7e7-9e1f-4b4a-9211-94285e18fed7",
   "metadata": {},
   "outputs": [
    {
     "data": {
      "text/latex": [
       "$\\displaystyle \\frac{2 t y}{t^{2} + 1} - 2 t - {y}' \\left(2 - \\log{\\left(t^{2} + 1 \\right)}\\right) = 0$"
      ],
      "text/plain": [
       "Eq(2*t*y/(t**2 + 1) - 2*t - yPrime*(2 - log(t**2 + 1)), 0)"
      ]
     },
     "execution_count": 149,
     "metadata": {},
     "output_type": "execute_result"
    }
   ],
   "source": [
    "# Write equation in correct form\n",
    "E1 = sp.Eq((2 * t * y / (t**2 + 1) - 2 * t - (2 - sp.log(t**2 + 1)) * yPrime), 0)\n",
    "E1\n"
   ]
  },
  {
   "cell_type": "code",
   "execution_count": 153,
   "id": "0aa0f21f-e889-4552-87d0-5ce7ea01e0ad",
   "metadata": {},
   "outputs": [
    {
     "data": {
      "text/html": [
       "$$\\frac{2 t y}{t^{2} + 1} - 2 t$$<br/>$$\\log{\\left(t^{2} + 1 \\right)} - 2$$<br/>$$\\frac{2 t}{t^{2} + 1}$$<br/>$$\\frac{2 t}{t^{2} + 1}$$<br/>"
      ],
      "text/plain": [
       "<IPython.core.display.HTML object>"
      ]
     },
     "execution_count": 153,
     "metadata": {},
     "output_type": "execute_result"
    }
   ],
   "source": [
    "# Assign values for M and N. \n",
    "M =2 * t * y / (t**2 + 1) - 2 * t \n",
    "N = - (2 - sp.log(t**2 + 1))\n",
    "MWRTY = sp.diff(M, y)\n",
    "MWRTT = sp.diff(N, t)\n",
    "RTL([M, N, MWRTY, MWRTT])"
   ]
  },
  {
   "cell_type": "code",
   "execution_count": 154,
   "id": "af635a83-d187-4b11-94f3-34fe6056b471",
   "metadata": {},
   "outputs": [
    {
     "data": {
      "text/latex": [
       "$\\displaystyle \\psi = someFunctionInY - t^{2} + y \\log{\\left(t^{2} + 1 \\right)}$"
      ],
      "text/plain": [
       "Eq(psi, someFunctionInY - t**2 + y*log(t**2 + 1))"
      ]
     },
     "execution_count": 154,
     "metadata": {},
     "output_type": "execute_result"
    }
   ],
   "source": [
    "# Integrate N with respect to y to get a value for psi\n",
    "E2 = sp.Eq(psi, sp.integrate(M, t) + someFunctionInY)\n",
    "E2"
   ]
  },
  {
   "cell_type": "code",
   "execution_count": 155,
   "id": "44f8cc7b-42ca-4037-b6ff-e4c2cf0cba3d",
   "metadata": {},
   "outputs": [
    {
     "data": {
      "text/latex": [
       "$\\displaystyle psiWRTY = {someFunctionInY}' + \\log{\\left(t^{2} + 1 \\right)}$"
      ],
      "text/plain": [
       "Eq(psiWRTY, someFunctionInYPrime + log(t**2 + 1))"
      ]
     },
     "execution_count": 155,
     "metadata": {},
     "output_type": "execute_result"
    }
   ],
   "source": [
    "# Differentiate psi with respect to x \n",
    "E3 = E2.subs({someFunctionInX: 0})\n",
    "E4 = sp.Eq(psiWRTY, sp.diff(E3.rhs, y) + someFunctionInYPrime)\n",
    "E4"
   ]
  },
  {
   "cell_type": "code",
   "execution_count": 157,
   "id": "ecd4904c-2210-488a-bd5e-414b7ad3e735",
   "metadata": {},
   "outputs": [
    {
     "data": {
      "text/latex": [
       "$\\displaystyle \\log{\\left(t^{2} + 1 \\right)} - 2 = {someFunctionInY}' + \\log{\\left(t^{2} + 1 \\right)}$"
      ],
      "text/plain": [
       "Eq(log(t**2 + 1) - 2, someFunctionInYPrime + log(t**2 + 1))"
      ]
     },
     "execution_count": 157,
     "metadata": {},
     "output_type": "execute_result"
    }
   ],
   "source": [
    "# Substitute psi with respect to y and N(x, Y). \n",
    "E5 = E4.subs({psiWRTY: N})\n",
    "E5"
   ]
  },
  {
   "cell_type": "code",
   "execution_count": 158,
   "id": "9b404377-c867-450f-af2a-253dee12d32f",
   "metadata": {},
   "outputs": [
    {
     "data": {
      "text/latex": [
       "$\\displaystyle {someFunctionInY}' = -2$"
      ],
      "text/plain": [
       "Eq(someFunctionInYPrime, -2)"
      ]
     },
     "execution_count": 158,
     "metadata": {},
     "output_type": "execute_result"
    }
   ],
   "source": [
    "# Solve to find someFunctionInYPrime\n",
    "E6 = sp.Eq(someFunctionInYPrime, sp.solve(E5, someFunctionInYPrime)[0])\n",
    "E6"
   ]
  },
  {
   "cell_type": "code",
   "execution_count": 159,
   "id": "027c565a-2777-4afe-831b-d0914ed3cd16",
   "metadata": {},
   "outputs": [
    {
     "data": {
      "text/latex": [
       "$\\displaystyle someFunctionInY = - 2 y$"
      ],
      "text/plain": [
       "Eq(someFunctionInY, -2*y)"
      ]
     },
     "execution_count": 159,
     "metadata": {},
     "output_type": "execute_result"
    }
   ],
   "source": [
    "# Integrate someFunctionInYPrime\n",
    "E7 = sp.Eq(someFunctionInY, sp.integrate(E6.rhs, y))\n",
    "E7"
   ]
  },
  {
   "cell_type": "code",
   "execution_count": 160,
   "id": "a420504e-35af-4f91-ae7d-7318789cb209",
   "metadata": {},
   "outputs": [
    {
     "data": {
      "text/latex": [
       "$\\displaystyle c = - t^{2} + y \\log{\\left(t^{2} + 1 \\right)} - 2 y$"
      ],
      "text/plain": [
       "Eq(c, -t**2 + y*log(t**2 + 1) - 2*y)"
      ]
     },
     "execution_count": 160,
     "metadata": {},
     "output_type": "execute_result"
    }
   ],
   "source": [
    "# Subsitute someFunctionInY in the equatin for psi above\n",
    "E8 = E2.subs({someFunctionInY: E7.rhs, psi: c})\n",
    "E8"
   ]
  },
  {
   "cell_type": "code",
   "execution_count": 162,
   "id": "912a4d54-2a23-493e-8151-9824f1e2b9d1",
   "metadata": {},
   "outputs": [
    {
     "data": {
      "text/latex": [
       "$\\displaystyle c = -25$"
      ],
      "text/plain": [
       "Eq(c, -25)"
      ]
     },
     "execution_count": 162,
     "metadata": {},
     "output_type": "execute_result"
    }
   ],
   "source": [
    "# Find value of c using initial condition\n",
    "E9 = E8.subs({t: 5, y: 0})\n",
    "E9"
   ]
  },
  {
   "cell_type": "code",
   "execution_count": 163,
   "id": "f18bdfc7-e571-4957-a1ed-0b7036d96130",
   "metadata": {},
   "outputs": [
    {
     "data": {
      "text/latex": [
       "$\\displaystyle -25 = - t^{2} + y \\log{\\left(t^{2} + 1 \\right)} - 2 y$"
      ],
      "text/plain": [
       "Eq(-25, -t**2 + y*log(t**2 + 1) - 2*y)"
      ]
     },
     "execution_count": 163,
     "metadata": {},
     "output_type": "execute_result"
    }
   ],
   "source": [
    "# Subsitute this value into the equation to the implicit solution\n",
    "E10 = E8.subs({c: E9.rhs})\n",
    "E10"
   ]
  },
  {
   "cell_type": "code",
   "execution_count": 164,
   "id": "cc9814af-6bda-492a-acca-a5100cf668c8",
   "metadata": {},
   "outputs": [
    {
     "data": {
      "text/html": [
       "$$\\frac{t^{2} - 25}{\\log{\\left(t^{2} + 1 \\right)} - 2}$$<br/>"
      ],
      "text/plain": [
       "<IPython.core.display.HTML object>"
      ]
     },
     "execution_count": 164,
     "metadata": {},
     "output_type": "execute_result"
    }
   ],
   "source": [
    "# Solve explicitly for y\n",
    "E11 = sp.solve(E10, y)\n",
    "RTL(E11)"
   ]
  },
  {
   "cell_type": "markdown",
   "id": "7fd839fc-bca5-4b84-9019-c14b3b561047",
   "metadata": {},
   "source": [
    "<b>Example:</b>\n",
    "\n",
    "Solve the following IVP and find the interval of validity for the solution\n",
    "\n",
    "$$ 3{y^3}{{\\bf{e}}^{3xy}} - 1 + \\left( {2y{{\\bf{e}}^{3xy}} + 3x{y^2}{{\\bf{e}}^{3xy}}} \\right)y' = 0\\hspace{0.25in}y\\left( 0 \\right) = 1$$"
   ]
  },
  {
   "cell_type": "code",
   "execution_count": 165,
   "id": "442bfb1e-54fd-4d52-91af-2028494303ee",
   "metadata": {},
   "outputs": [],
   "source": [
    "# Create needed variables \n",
    "MWRTT , MWRTY, MWRTX, yPrime, someFunctionInY, someFunctionInYPrime, someFunctionInX, someFunctionInXPrime, someFunctionInX, psi, psiWRTY, psiWRTX, x, y, c, t, v, dy, dx = sp.symbols('MWRTT, MWRTY, MWRTX, yPrime, someFunctionInY, someFunctionInYPrime, someFunctionInX, someFunctionInXPrime, someFunctionInX, psi, psiWRTY, psiWRTX, x, y, c, t, v, dy, dx')"
   ]
  },
  {
   "cell_type": "code",
   "execution_count": 167,
   "id": "d60a0338-4fe5-4c24-b9a2-7c3682e5aafd",
   "metadata": {},
   "outputs": [
    {
     "data": {
      "text/latex": [
       "$\\displaystyle 3 y^{3} e^{3 x y} + {y}' \\left(3 x y^{2} e^{3 x y} + 2 y e^{3 x y}\\right) - 1 = 0$"
      ],
      "text/plain": [
       "Eq(3*y**3*exp(3*x*y) + yPrime*(3*x*y**2*exp(3*x*y) + 2*y*exp(3*x*y)) - 1, 0)"
      ]
     },
     "execution_count": 167,
     "metadata": {},
     "output_type": "execute_result"
    }
   ],
   "source": [
    "# Write equation in correct form\n",
    "E1 = sp.Eq(3 * y**3 * sp.E**(3 * x * y) - 1 + (2 * y * sp.E**(3 * x * y) + 3 * x * y**2 * sp.E**(3 * x * y)) * yPrime, 0)\n",
    "E1\n"
   ]
  },
  {
   "cell_type": "code",
   "execution_count": 169,
   "id": "2dfb810b-c64d-4ba2-89d0-732783dca7a6",
   "metadata": {},
   "outputs": [
    {
     "data": {
      "text/html": [
       "$$3 y^{3} e^{3 x y} - 1$$<br/>$$3 x y^{2} e^{3 x y} + 2 y e^{3 x y}$$<br/>$$9 x y^{3} e^{3 x y} + 9 y^{2} e^{3 x y}$$<br/>$$9 x y^{3} e^{3 x y} + 9 y^{2} e^{3 x y}$$<br/>"
      ],
      "text/plain": [
       "<IPython.core.display.HTML object>"
      ]
     },
     "execution_count": 169,
     "metadata": {},
     "output_type": "execute_result"
    }
   ],
   "source": [
    "# Assign values for M and N. \n",
    "M = 3 * y**3 * sp.E**(3 * x * y) - 1 \n",
    "N = 2 * y * sp.E**(3 * x * y) + 3 * x * y**2 * sp.E**(3 * x * y)\n",
    "MWRTY = sp.diff(M, y)\n",
    "MWRTX = sp.diff(N, x)\n",
    "RTL([M, N, MWRTY, MWRTX])"
   ]
  },
  {
   "cell_type": "code",
   "execution_count": 170,
   "id": "8ac78f9f-4490-4399-90f2-cc5ebf21c08b",
   "metadata": {},
   "outputs": [
    {
     "data": {
      "text/latex": [
       "$\\displaystyle \\psi = someFunctionInY - x + y^{2} e^{3 x y}$"
      ],
      "text/plain": [
       "Eq(psi, someFunctionInY - x + y**2*exp(3*x*y))"
      ]
     },
     "execution_count": 170,
     "metadata": {},
     "output_type": "execute_result"
    }
   ],
   "source": [
    "# Integrate N with respect to y to get a value for psi\n",
    "E2 = sp.Eq(psi, sp.integrate(M, x) + someFunctionInY)\n",
    "E2"
   ]
  },
  {
   "cell_type": "code",
   "execution_count": 171,
   "id": "db04a44e-e236-4a38-85c5-79afa6396413",
   "metadata": {},
   "outputs": [
    {
     "data": {
      "text/latex": [
       "$\\displaystyle psiWRTY = {someFunctionInY}' + 3 x y^{2} e^{3 x y} + 2 y e^{3 x y}$"
      ],
      "text/plain": [
       "Eq(psiWRTY, someFunctionInYPrime + 3*x*y**2*exp(3*x*y) + 2*y*exp(3*x*y))"
      ]
     },
     "execution_count": 171,
     "metadata": {},
     "output_type": "execute_result"
    }
   ],
   "source": [
    "# Differentiate psi with respect to x \n",
    "E3 = E2.subs({someFunctionInX: 0})\n",
    "E4 = sp.Eq(psiWRTY, sp.diff(E3.rhs, y) + someFunctionInYPrime)\n",
    "E4"
   ]
  },
  {
   "cell_type": "code",
   "execution_count": 172,
   "id": "f1dfd09b-bb2f-42a6-bc1b-739565dea395",
   "metadata": {},
   "outputs": [
    {
     "data": {
      "text/latex": [
       "$\\displaystyle 3 x y^{2} e^{3 x y} + 2 y e^{3 x y} = {someFunctionInY}' + 3 x y^{2} e^{3 x y} + 2 y e^{3 x y}$"
      ],
      "text/plain": [
       "Eq(3*x*y**2*exp(3*x*y) + 2*y*exp(3*x*y), someFunctionInYPrime + 3*x*y**2*exp(3*x*y) + 2*y*exp(3*x*y))"
      ]
     },
     "execution_count": 172,
     "metadata": {},
     "output_type": "execute_result"
    }
   ],
   "source": [
    "# Substitute psi with respect to y and N(x, Y). \n",
    "E5 = E4.subs({psiWRTY: N})\n",
    "E5"
   ]
  },
  {
   "cell_type": "code",
   "execution_count": 173,
   "id": "ee627574-5893-4978-9ea0-bf0ea536de49",
   "metadata": {},
   "outputs": [
    {
     "data": {
      "text/latex": [
       "$\\displaystyle {someFunctionInY}' = 0$"
      ],
      "text/plain": [
       "Eq(someFunctionInYPrime, 0)"
      ]
     },
     "execution_count": 173,
     "metadata": {},
     "output_type": "execute_result"
    }
   ],
   "source": [
    "# Solve to find someFunctionInYPrime\n",
    "E6 = sp.Eq(someFunctionInYPrime, sp.solve(E5, someFunctionInYPrime)[0])\n",
    "E6"
   ]
  },
  {
   "cell_type": "code",
   "execution_count": 174,
   "id": "1cb41ba1-460a-4156-ac45-6c53a1cb51c3",
   "metadata": {},
   "outputs": [
    {
     "data": {
      "text/latex": [
       "$\\displaystyle someFunctionInY = 0$"
      ],
      "text/plain": [
       "Eq(someFunctionInY, 0)"
      ]
     },
     "execution_count": 174,
     "metadata": {},
     "output_type": "execute_result"
    }
   ],
   "source": [
    "# Integrate someFunctionInYPrime\n",
    "E7 = sp.Eq(someFunctionInY, sp.integrate(E6.rhs, y))\n",
    "E7"
   ]
  },
  {
   "cell_type": "code",
   "execution_count": 175,
   "id": "a52ccb5d-8563-4ce8-9591-2fdc201c7f75",
   "metadata": {},
   "outputs": [
    {
     "data": {
      "text/latex": [
       "$\\displaystyle c = - x + y^{2} e^{3 x y}$"
      ],
      "text/plain": [
       "Eq(c, -x + y**2*exp(3*x*y))"
      ]
     },
     "execution_count": 175,
     "metadata": {},
     "output_type": "execute_result"
    }
   ],
   "source": [
    "# Subsitute someFunctionInY in the equatin for psi above\n",
    "E8 = E2.subs({someFunctionInY: E7.rhs, psi: c})\n",
    "E8"
   ]
  },
  {
   "cell_type": "code",
   "execution_count": 178,
   "id": "633e224b-d4a9-401e-a932-3773d4082cf4",
   "metadata": {},
   "outputs": [
    {
     "data": {
      "text/latex": [
       "$\\displaystyle c = 1$"
      ],
      "text/plain": [
       "Eq(c, 1)"
      ]
     },
     "execution_count": 178,
     "metadata": {},
     "output_type": "execute_result"
    }
   ],
   "source": [
    "# Find value of c using initial condition\n",
    "E9 = E8.subs({x: 0, y: 1})\n",
    "E9"
   ]
  },
  {
   "cell_type": "code",
   "execution_count": 179,
   "id": "6562fbd7-7354-4756-9735-820c4312d2b9",
   "metadata": {},
   "outputs": [
    {
     "data": {
      "text/latex": [
       "$\\displaystyle 1 = - x + y^{2} e^{3 x y}$"
      ],
      "text/plain": [
       "Eq(1, -x + y**2*exp(3*x*y))"
      ]
     },
     "execution_count": 179,
     "metadata": {},
     "output_type": "execute_result"
    }
   ],
   "source": [
    "# Subsitute this value into the equation to the implicit solution\n",
    "E10 = E8.subs({c: E9.rhs})\n",
    "E10"
   ]
  },
  {
   "cell_type": "code",
   "execution_count": null,
   "id": "b7813033-2f4f-4218-8860-725b6c5165fe",
   "metadata": {},
   "outputs": [],
   "source": [
    "# No explicit solution is possible"
   ]
  }
 ],
 "metadata": {
  "kernelspec": {
   "display_name": "Python 3",
   "language": "python",
   "name": "python3"
  },
  "language_info": {
   "codemirror_mode": {
    "name": "ipython",
    "version": 3
   },
   "file_extension": ".py",
   "mimetype": "text/x-python",
   "name": "python",
   "nbconvert_exporter": "python",
   "pygments_lexer": "ipython3",
   "version": "3.9.2"
  }
 },
 "nbformat": 4,
 "nbformat_minor": 5
}
