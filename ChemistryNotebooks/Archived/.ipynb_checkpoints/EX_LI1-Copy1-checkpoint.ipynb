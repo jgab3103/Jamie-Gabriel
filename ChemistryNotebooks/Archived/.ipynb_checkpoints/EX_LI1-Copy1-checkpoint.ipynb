{
 "cells": [
  {
   "cell_type": "code",
   "execution_count": 1,
   "id": "6dd866d6-49eb-4efc-94c5-70044517bc26",
   "metadata": {},
   "outputs": [],
   "source": [
    "import numpy as np\n",
    "import sympy as sp\n",
    "import pickle\n",
    "from IPython.display import HTML\n",
    "import ipywidgets as widgets\n",
    "import matplotlib as mpl\n",
    "import matplotlib.pyplot as plt\n",
    "from mpl_toolkits.mplot3d import Axes3D\n",
    "import matplotlib.pyplot as plt\n",
    "mpl.rcParams['legend.fontsize'] = 10\n",
    "import pandas as pd\n",
    "import itertools\n",
    "pd.set_option('display.max_colwidth', None)\n",
    "from sympy.plotting import plot \n",
    "from IPython.display import Image"
   ]
  },
  {
   "cell_type": "code",
   "execution_count": 35,
   "id": "1e38dabb-8a53-46b1-995c-fb1f9132fe63",
   "metadata": {},
   "outputs": [],
   "source": [
    "# Render to Latex function \n",
    "def RTL(e):\n",
    "    latex_rendering = []\n",
    "\n",
    "    for i in range(len(e)):\n",
    "        latex_rendering.append(\"$\" + sp.latex(e[i]) + \"$ &nbsp;&nbsp;\")\n",
    "    \n",
    "    return(HTML(\"\".join(latex_rendering[0:])))\n",
    "\n",
    "\n",
    "# Plot vectors with customisation\n",
    "def PlotVectors(vectors = [], plotPointsAsShape = False, plotFromStandardPosition = False):\n",
    "\n",
    "    plt.scatter(0, 0)\n",
    "    plt.grid()\n",
    "    \n",
    "    xValues = [vectors[i][0] for i in range(len(vectors))]\n",
    "    yValues = [vectors[i][1] for i in range(len(vectors))]\n",
    "    \n",
    "    plt.scatter(xValues, yValues)\n",
    "    \n",
    "    \n",
    "    if plotPointsAsShape:\n",
    "        xValues.append(xValues[0])\n",
    "        yValues.append(yValues[0])\n",
    "\n",
    "        plt.plot(xValues, yValues)\n",
    "    \n",
    "    if plotFromStandardPosition:\n",
    "        for i in range(len(xValues)):\n",
    "            plt.plot([0, xValues[i]], [0,  yValues[i]])\n",
    "\n",
    "            \n",
    "# Apply transformation to multiple vectors\n",
    "def ApplyTransformationViaScaledIdentityMatrix(scaledIdentityMatrix, vectors):\n",
    "    transformedVectors = []\n",
    "    for i in vectors: \n",
    "        t = scaledIdentityMatrix * i\n",
    "        transformedVectors.append(t)\n",
    "        \n",
    "    return(transformedVectors)\n",
    "\n",
    "\n",
    "def ConvertSolutionToVectorForm(solutionList):\n",
    "    \n",
    "    SolutionsInVectorForm = []\n",
    "    NumberOfRows = len(solutionList)\n",
    "    FreeSymbols = list(solutionList.free_symbols)\n",
    "    SubsDict = {}\n",
    "    for i in FreeSymbols:\n",
    "        SubsDict[i] = 0\n",
    "    Constants = np.array(solutionList.subs(SubsDict))\n",
    "    SolutionsInVectorForm.append(Constants)\n",
    "\n",
    "    for i in range(len(SubsDict)): \n",
    "\n",
    "        TempDict = SubsDict.copy()\n",
    "        TempDict[list(SubsDict.keys())[i]] = 1\n",
    "        Variable =  (np.array(solutionList.subs(TempDict)) - Constants) * list(SubsDict.keys())[i]\n",
    "        SolutionsInVectorForm.append(Variable)\n",
    "      \n",
    "\n",
    "  \n",
    "    return(sp.Matrix(SolutionsInVectorForm).T)\n",
    "   \n",
    "def MatrixRowsToAtomic(Row):\n",
    "    \n",
    "    NumberOfRows = Row.shape[0]\n",
    "    \n",
    "    \n",
    "    ArgList = np.array([])\n",
    "    \n",
    "    for i in range(len(Row)):\n",
    "        if \" \" in str(Row[i]):\n",
    "            Args = np.array(Row[i].args)\n",
    "            \n",
    "            ArgList = np.append(ArgList, Args)\n",
    "            print('SIMP', ArgList)\n",
    "        else: \n",
    "            ArgList = np.append(ArgList, Row[i])\n",
    "            print('NO SIMP', ArgList)\n",
    "    SortedArgList = list(ArgList)\n",
    "    \n",
    "   # arr_3d = np. reshape(SortedArgList, (2, 2, 3))\n",
    "    \n",
    "    return(SortedArgList)\n",
    "    \n",
    "    "
   ]
  },
  {
   "cell_type": "code",
   "execution_count": 11,
   "id": "7c1fdcb2-22bf-4646-9a07-5e929f4ff39b",
   "metadata": {},
   "outputs": [
    {
     "data": {
      "text/latex": [
       "$\\displaystyle \\left[\\begin{matrix}1 & -1 & -1 & 2 & 1\\\\2 & -2 & -1 & 3 & 3\\\\-1 & 1 & -1 & 0 & -3\\end{matrix}\\right]$"
      ],
      "text/plain": [
       "Matrix([\n",
       "[ 1, -1, -1, 2,  1],\n",
       "[ 2, -2, -1, 3,  3],\n",
       "[-1,  1, -1, 0, -3]])"
      ]
     },
     "execution_count": 11,
     "metadata": {},
     "output_type": "execute_result"
    }
   ],
   "source": [
    "#EX 2.11\n",
    "# Let E1 be a augmented matrix\n",
    "E1 = sp.Matrix([[1, -1, -1 ,2, 1], [2, -2, -1 ,3, 3], [-1, 1, -1 ,0, -3]])\n",
    "E1"
   ]
  },
  {
   "cell_type": "code",
   "execution_count": 12,
   "id": "6fd9578a-293c-4e16-9bc3-3ca94843baed",
   "metadata": {},
   "outputs": [
    {
     "data": {
      "text/latex": [
       "$\\displaystyle \\left\\{\\left( x - z + 2, \\  x, \\  z + 1, \\  z\\right)\\right\\}$"
      ],
      "text/plain": [
       "FiniteSet((x - z + 2, x, z + 1, z))"
      ]
     },
     "execution_count": 12,
     "metadata": {},
     "output_type": "execute_result"
    }
   ],
   "source": [
    "# Create some variables \n",
    "w, x, y, z, s, t = sp.symbols('w, x, y, z, s, t')\n",
    "# Let E2 be a solution to augmented matrix\n",
    "E2 = sp.linsolve(E1, (w, x, y, z ))\n",
    "E2"
   ]
  },
  {
   "cell_type": "code",
   "execution_count": 13,
   "id": "5387e97f-a04d-4311-a1e4-16cd85109298",
   "metadata": {},
   "outputs": [],
   "source": [
    "# Note tht this answer can be converted into vector form"
   ]
  },
  {
   "cell_type": "code",
   "execution_count": 14,
   "id": "c29930c7-87fb-4b9d-93c6-964d85bc3a28",
   "metadata": {},
   "outputs": [
    {
     "data": {
      "text/latex": [
       "$\\displaystyle \\left[\\begin{matrix}2 & - z & x\\\\0 & 0 & x\\\\1 & z & 0\\\\0 & z & 0\\end{matrix}\\right]$"
      ],
      "text/plain": [
       "Matrix([\n",
       "[2, -z, x],\n",
       "[0,  0, x],\n",
       "[1,  z, 0],\n",
       "[0,  z, 0]])"
      ]
     },
     "execution_count": 14,
     "metadata": {},
     "output_type": "execute_result"
    }
   ],
   "source": [
    "# E3 = E2.subs({x: s, z: t})\n",
    "E4 = list(E2)[0]\n",
    "E5 = ConvertSolutionToVectorForm(E4)\n",
    "E5"
   ]
  },
  {
   "cell_type": "code",
   "execution_count": 15,
   "id": "5d35ed7c-50e6-4cab-bfea-c0ca67c8ae50",
   "metadata": {},
   "outputs": [
    {
     "data": {
      "text/latex": [
       "$\\displaystyle \\left[\\begin{matrix}1 & -1 & 0 & 1 & 2\\\\0 & 0 & 1 & -1 & 1\\\\0 & 0 & 0 & 0 & 0\\end{matrix}\\right]$"
      ],
      "text/plain": [
       "Matrix([\n",
       "[1, -1, 0,  1, 2],\n",
       "[0,  0, 1, -1, 1],\n",
       "[0,  0, 0,  0, 0]])"
      ]
     },
     "execution_count": 15,
     "metadata": {},
     "output_type": "execute_result"
    }
   ],
   "source": [
    "# Find the rank of the above matrix\n",
    "E1.rref()[0]"
   ]
  },
  {
   "cell_type": "code",
   "execution_count": 16,
   "id": "24689bd8-f23d-4173-a746-01b5031f9691",
   "metadata": {},
   "outputs": [
    {
     "data": {
      "text/plain": [
       "2"
      ]
     },
     "execution_count": 16,
     "metadata": {},
     "output_type": "execute_result"
    }
   ],
   "source": [
    "# Note rank is number of of non-zero rows\n",
    "E1.rank()"
   ]
  },
  {
   "cell_type": "code",
   "execution_count": 17,
   "id": "a20efa53-7845-474d-a3b6-2ed57d3b9330",
   "metadata": {},
   "outputs": [
    {
     "data": {
      "text/latex": [
       "$\\displaystyle \\left[\\begin{matrix}1 & -1 & 2 & 3\\\\1 & 2 & -1 & -3\\\\0 & 2 & -2 & 1\\end{matrix}\\right]$"
      ],
      "text/plain": [
       "Matrix([\n",
       "[1, -1,  2,  3],\n",
       "[1,  2, -1, -3],\n",
       "[0,  2, -2,  1]])"
      ]
     },
     "execution_count": 17,
     "metadata": {},
     "output_type": "execute_result"
    }
   ],
   "source": [
    "#EX 2.13\n",
    "\n",
    "E1 = sp.Matrix([[1, -1, 2, 3],\n",
    "               [1, 2, -1, -3],\n",
    "               [0, 2, -2, 1]])\n",
    "E1"
   ]
  },
  {
   "cell_type": "code",
   "execution_count": 18,
   "id": "ccec2e88-5109-4ded-acba-c38b3356d619",
   "metadata": {},
   "outputs": [
    {
     "data": {
      "text/latex": [
       "$\\displaystyle \\emptyset$"
      ],
      "text/plain": [
       "EmptySet"
      ]
     },
     "execution_count": 18,
     "metadata": {},
     "output_type": "execute_result"
    }
   ],
   "source": [
    "# Create some variables \n",
    "w, x, y, z, s, t = sp.symbols('w, x, y, z, s, t')\n",
    "# Let E2 be a solution to augmented matrix\n",
    "E2 = sp.linsolve(E1, (x, y, z ))\n",
    "E2"
   ]
  },
  {
   "cell_type": "code",
   "execution_count": 19,
   "id": "880665c8-b9c2-4049-b0fd-d8287bbdb51d",
   "metadata": {},
   "outputs": [
    {
     "data": {
      "text/latex": [
       "$\\displaystyle \\left[\\begin{matrix}1 & 0 & 1 & 0\\\\0 & 1 & -1 & 0\\\\0 & 0 & 0 & 1\\end{matrix}\\right]$"
      ],
      "text/plain": [
       "Matrix([\n",
       "[1, 0,  1, 0],\n",
       "[0, 1, -1, 0],\n",
       "[0, 0,  0, 1]])"
      ]
     },
     "execution_count": 19,
     "metadata": {},
     "output_type": "execute_result"
    }
   ],
   "source": [
    "# Note it has no solutions\n",
    "E1.rref()[0]"
   ]
  },
  {
   "cell_type": "code",
   "execution_count": 20,
   "id": "5968b235-074d-4370-9296-af12dfe088a1",
   "metadata": {},
   "outputs": [],
   "source": [
    "#EX 2.14\n",
    "E1 = sp.Matrix([[1, 2, -1, 3], \n",
    "               [2,3, 1, 1]])"
   ]
  },
  {
   "cell_type": "code",
   "execution_count": 21,
   "id": "0398666e-7204-4af9-8484-b84d84b71166",
   "metadata": {},
   "outputs": [
    {
     "data": {
      "text/latex": [
       "$\\displaystyle \\left\\{\\left( - 5 z - 7, \\  3 z + 5, \\  z\\right)\\right\\}$"
      ],
      "text/plain": [
       "FiniteSet((-5*z - 7, 3*z + 5, z))"
      ]
     },
     "execution_count": 21,
     "metadata": {},
     "output_type": "execute_result"
    }
   ],
   "source": [
    "# Create some variables \n",
    "w, x, y, z, s, t = sp.symbols('w, x, y, z, s, t')\n",
    "# Let E2 be a solution to augmented matrix\n",
    "E2 = sp.linsolve(E1, (x, y, z ))\n",
    "E2"
   ]
  },
  {
   "cell_type": "code",
   "execution_count": 22,
   "id": "0929826a-2078-4c20-9909-e79c860f7e42",
   "metadata": {},
   "outputs": [
    {
     "data": {
      "text/latex": [
       "$\\displaystyle \\left[\\begin{matrix}-7 & - 5 z\\\\5 & 3 z\\\\0 & z\\end{matrix}\\right]$"
      ],
      "text/plain": [
       "Matrix([\n",
       "[-7, -5*z],\n",
       "[ 5,  3*z],\n",
       "[ 0,    z]])"
      ]
     },
     "execution_count": 22,
     "metadata": {},
     "output_type": "execute_result"
    }
   ],
   "source": [
    "# Now put into vector form\n",
    "# E3 = E2.subs({x: s, z: t})\n",
    "E3 = list(E2)[0]\n",
    "E4 = ConvertSolutionToVectorForm(E3)\n",
    "E4"
   ]
  },
  {
   "cell_type": "code",
   "execution_count": 23,
   "id": "031318a1-9414-4bea-ae03-b97190e4fe49",
   "metadata": {},
   "outputs": [
    {
     "data": {
      "text/latex": [
       "$\\displaystyle \\left[\\begin{matrix}1 & 0 & 5 & -7\\\\0 & 1 & -3 & 5\\end{matrix}\\right]$"
      ],
      "text/plain": [
       "Matrix([\n",
       "[1, 0,  5, -7],\n",
       "[0, 1, -3,  5]])"
      ]
     },
     "execution_count": 23,
     "metadata": {},
     "output_type": "execute_result"
    }
   ],
   "source": [
    "# Check rref\n",
    "E1.rref()[0]"
   ]
  },
  {
   "cell_type": "code",
   "execution_count": 24,
   "id": "c291cc27-1a4d-4c56-b927-ae9938d4e26c",
   "metadata": {},
   "outputs": [],
   "source": [
    "# EX 2.15\n",
    "# Determine where the lines P + tU and Q + tV intersect"
   ]
  },
  {
   "cell_type": "code",
   "execution_count": 25,
   "id": "d6c56b29-83da-4544-a81d-58fb31161bab",
   "metadata": {},
   "outputs": [
    {
     "data": {
      "text/html": [
       "$\\left[\\begin{matrix}1\\\\0\\\\-1\\end{matrix}\\right]$ &nbsp;&nbsp;$\\left[\\begin{matrix}0\\\\2\\\\1\\end{matrix}\\right]$ &nbsp;&nbsp;$\\left[\\begin{matrix}1\\\\1\\\\1\\end{matrix}\\right]$ &nbsp;&nbsp;$\\left[\\begin{matrix}3\\\\-1\\\\-1\\end{matrix}\\right]$ &nbsp;&nbsp;"
      ],
      "text/plain": [
       "<IPython.core.display.HTML object>"
      ]
     },
     "execution_count": 25,
     "metadata": {},
     "output_type": "execute_result"
    }
   ],
   "source": [
    "x, s, t = sp.symbols('x, s, t')\n",
    "\n",
    "P = sp.Matrix([1, 0, -1])\n",
    "Q = sp.Matrix([0, 2, 1])\n",
    "U = sp.Matrix([1, 1, 1])\n",
    "V = sp.Matrix([3, -1, -1])\n",
    "RTL([P, Q, U, V])"
   ]
  },
  {
   "cell_type": "code",
   "execution_count": 26,
   "id": "88da9f09-fec6-4c94-8c94-4545550aaa65",
   "metadata": {},
   "outputs": [
    {
     "data": {
      "text/html": [
       "$\\left[\\begin{matrix}s + 1\\\\s\\\\s - 1\\end{matrix}\\right]$ &nbsp;&nbsp;$\\left[\\begin{matrix}3 t\\\\2 - t\\\\1 - t\\end{matrix}\\right]$ &nbsp;&nbsp;"
      ],
      "text/plain": [
       "<IPython.core.display.HTML object>"
      ]
     },
     "execution_count": 26,
     "metadata": {},
     "output_type": "execute_result"
    }
   ],
   "source": [
    "# Note the lines are independent and so are thier parmas\n",
    "E1 = P + s * U\n",
    "E2 = Q + t * V\n",
    "RTL([E1, E2])"
   ]
  },
  {
   "cell_type": "code",
   "execution_count": 46,
   "id": "73428a96-4cd5-4b0d-a622-ec721998b09b",
   "metadata": {},
   "outputs": [
    {
     "data": {
      "text/latex": [
       "$\\displaystyle \\left[\\begin{matrix}1 & 0 & 3 & -4 & 0\\\\0 & 0 & 0 & 0 & 0\\\\0 & 1 & 5 & 0 & 1\\end{matrix}\\right]$"
      ],
      "text/plain": [
       "Matrix([\n",
       "[1, 0, 3, -4, 0],\n",
       "[0, 0, 0,  0, 0],\n",
       "[0, 1, 5,  0, 1]])"
      ]
     },
     "execution_count": 46,
     "metadata": {},
     "output_type": "execute_result"
    }
   ],
   "source": [
    "#EX 2.2\n",
    "E1 = sp.Matrix([[1, 0, 3, -4, 0], \n",
    "               [0, 0, 0, 0, 0], \n",
    "               [0, 1, 5, 0, 1]])\n",
    "E1"
   ]
  },
  {
   "cell_type": "code",
   "execution_count": 47,
   "id": "a549799a-6e4e-481a-b4d5-57c38be94afc",
   "metadata": {},
   "outputs": [
    {
     "data": {
      "text/latex": [
       "$\\displaystyle \\left[\\begin{matrix}1 & 0 & 3 & -4 & 0\\\\0 & 1 & 5 & 0 & 1\\\\0 & 0 & 0 & 0 & 0\\end{matrix}\\right]$"
      ],
      "text/plain": [
       "Matrix([\n",
       "[1, 0, 3, -4, 0],\n",
       "[0, 1, 5,  0, 1],\n",
       "[0, 0, 0,  0, 0]])"
      ]
     },
     "execution_count": 47,
     "metadata": {},
     "output_type": "execute_result"
    }
   ],
   "source": [
    "E1.echelon_form()"
   ]
  },
  {
   "cell_type": "code",
   "execution_count": 48,
   "id": "8d0a9c2f-deff-4bd7-ad5b-85c1dfdce7f0",
   "metadata": {},
   "outputs": [
    {
     "data": {
      "text/latex": [
       "$\\displaystyle \\left[\\begin{matrix}1 & 0 & 3 & -4 & 0\\\\0 & 1 & 5 & 0 & 1\\\\0 & 0 & 0 & 0 & 0\\end{matrix}\\right]$"
      ],
      "text/plain": [
       "Matrix([\n",
       "[1, 0, 3, -4, 0],\n",
       "[0, 1, 5,  0, 1],\n",
       "[0, 0, 0,  0, 0]])"
      ]
     },
     "execution_count": 48,
     "metadata": {},
     "output_type": "execute_result"
    }
   ],
   "source": [
    "E1.rref()[0]"
   ]
  },
  {
   "cell_type": "code",
   "execution_count": 49,
   "id": "530136cf-33ce-4ba8-af25-c7683bec7aad",
   "metadata": {},
   "outputs": [],
   "source": [
    "# 3\n",
    "E1 = sp.Matrix([[0, 1, 3, 0], \n",
    "               [0, 0, 0, 1]])"
   ]
  },
  {
   "cell_type": "code",
   "execution_count": 50,
   "id": "fdb46730-0534-456b-afa9-cd4a8975373d",
   "metadata": {},
   "outputs": [
    {
     "data": {
      "text/latex": [
       "$\\displaystyle \\left[\\begin{matrix}0 & 1 & 3 & 0\\\\0 & 0 & 0 & 1\\end{matrix}\\right]$"
      ],
      "text/plain": [
       "Matrix([\n",
       "[0, 1, 3, 0],\n",
       "[0, 0, 0, 1]])"
      ]
     },
     "execution_count": 50,
     "metadata": {},
     "output_type": "execute_result"
    }
   ],
   "source": [
    "E1"
   ]
  },
  {
   "cell_type": "code",
   "execution_count": 51,
   "id": "d97f6bb0-ca00-4c7a-b4ef-f9a1af68f0b0",
   "metadata": {},
   "outputs": [
    {
     "data": {
      "text/latex": [
       "$\\displaystyle \\left[\\begin{matrix}0 & 1 & 3 & 0\\\\0 & 0 & 0 & 1\\end{matrix}\\right]$"
      ],
      "text/plain": [
       "Matrix([\n",
       "[0, 1, 3, 0],\n",
       "[0, 0, 0, 1]])"
      ]
     },
     "execution_count": 51,
     "metadata": {},
     "output_type": "execute_result"
    }
   ],
   "source": [
    "E1.echelon_form()"
   ]
  },
  {
   "cell_type": "code",
   "execution_count": 54,
   "id": "2f5e2b76-1cbf-43e4-b3b2-49a79bede49e",
   "metadata": {},
   "outputs": [
    {
     "data": {
      "text/latex": [
       "$\\displaystyle \\left[\\begin{matrix}1 & 2 & 3\\\\1 & 0 & 0\\\\0 & 1 & 1\\\\0 & 0 & 1\\end{matrix}\\right]$"
      ],
      "text/plain": [
       "Matrix([\n",
       "[1, 2, 3],\n",
       "[1, 0, 0],\n",
       "[0, 1, 1],\n",
       "[0, 0, 1]])"
      ]
     },
     "execution_count": 54,
     "metadata": {},
     "output_type": "execute_result"
    }
   ],
   "source": [
    "#2.2-7\n",
    "E1 = sp.Matrix([[1, 2, 3],\n",
    "               [1, 0, 0], \n",
    "               [0, 1, 1],\n",
    "               [0, 0, 1]])\n",
    "E1"
   ]
  },
  {
   "cell_type": "code",
   "execution_count": 53,
   "id": "b70821da-5012-42b0-a4fd-7c44750d5e15",
   "metadata": {},
   "outputs": [
    {
     "data": {
      "text/latex": [
       "$\\displaystyle \\left[\\begin{matrix}1 & 2 & 3\\\\0 & -2 & -3\\\\0 & 0 & 1\\\\0 & 0 & 0\\end{matrix}\\right]$"
      ],
      "text/plain": [
       "Matrix([\n",
       "[1,  2,  3],\n",
       "[0, -2, -3],\n",
       "[0,  0,  1],\n",
       "[0,  0,  0]])"
      ]
     },
     "execution_count": 53,
     "metadata": {},
     "output_type": "execute_result"
    }
   ],
   "source": [
    "E1.echelon_form()"
   ]
  },
  {
   "cell_type": "code",
   "execution_count": 55,
   "id": "d3436372-936a-4324-a2d8-72a693760ead",
   "metadata": {},
   "outputs": [
    {
     "data": {
      "text/latex": [
       "$\\displaystyle \\left[\\begin{matrix}1 & 0 & 0\\\\0 & 1 & 0\\\\0 & 0 & 1\\\\0 & 0 & 0\\end{matrix}\\right]$"
      ],
      "text/plain": [
       "Matrix([\n",
       "[1, 0, 0],\n",
       "[0, 1, 0],\n",
       "[0, 0, 1],\n",
       "[0, 0, 0]])"
      ]
     },
     "execution_count": 55,
     "metadata": {},
     "output_type": "execute_result"
    }
   ],
   "source": [
    "E1.rref()[0]"
   ]
  },
  {
   "cell_type": "code",
   "execution_count": 56,
   "id": "54babb11-1b65-4bc1-af48-de1b49833c55",
   "metadata": {},
   "outputs": [
    {
     "data": {
      "text/latex": [
       "$\\displaystyle \\left[\\begin{matrix}0 & 0 & 1\\\\0 & 1 & 1\\\\1 & 1 & 1\\end{matrix}\\right]$"
      ],
      "text/plain": [
       "Matrix([\n",
       "[0, 0, 1],\n",
       "[0, 1, 1],\n",
       "[1, 1, 1]])"
      ]
     },
     "execution_count": 56,
     "metadata": {},
     "output_type": "execute_result"
    }
   ],
   "source": [
    "#2.2-9\n",
    "E1 = sp.Matrix([[0, 0, 1], \n",
    "               [0, 1, 1], \n",
    "               [1, 1, 1]])\n",
    "E1"
   ]
  },
  {
   "cell_type": "code",
   "execution_count": 57,
   "id": "fae87788-f17e-442a-853d-0bd1c8a3c11d",
   "metadata": {},
   "outputs": [
    {
     "data": {
      "text/latex": [
       "$\\displaystyle \\left[\\begin{matrix}1 & 1 & 1\\\\0 & 1 & 1\\\\0 & 0 & 1\\end{matrix}\\right]$"
      ],
      "text/plain": [
       "Matrix([\n",
       "[1, 1, 1],\n",
       "[0, 1, 1],\n",
       "[0, 0, 1]])"
      ]
     },
     "execution_count": 57,
     "metadata": {},
     "output_type": "execute_result"
    }
   ],
   "source": [
    "E1.echelon_form()"
   ]
  },
  {
   "cell_type": "code",
   "execution_count": 59,
   "id": "3373815a-0fbe-4aae-a9bd-351804ef1fb8",
   "metadata": {},
   "outputs": [
    {
     "data": {
      "text/latex": [
       "$\\displaystyle \\left[\\begin{matrix}1 & 0 & 0\\\\0 & 1 & 0\\\\0 & 0 & 1\\end{matrix}\\right]$"
      ],
      "text/plain": [
       "Matrix([\n",
       "[1, 0, 0],\n",
       "[0, 1, 0],\n",
       "[0, 0, 1]])"
      ]
     },
     "execution_count": 59,
     "metadata": {},
     "output_type": "execute_result"
    }
   ],
   "source": [
    "E1.rref()[0]"
   ]
  },
  {
   "cell_type": "code",
   "execution_count": 60,
   "id": "e48ca28b-28c7-4c50-827b-b8c6db23665c",
   "metadata": {},
   "outputs": [
    {
     "data": {
      "text/latex": [
       "$\\displaystyle \\left[\\begin{matrix}3 & 5\\\\5 & -2\\\\2 & 4\\end{matrix}\\right]$"
      ],
      "text/plain": [
       "Matrix([\n",
       "[3,  5],\n",
       "[5, -2],\n",
       "[2,  4]])"
      ]
     },
     "execution_count": 60,
     "metadata": {},
     "output_type": "execute_result"
    }
   ],
   "source": [
    "E1 = sp.Matrix([[3, 5], \n",
    "               [5, -2],\n",
    "               [2, 4]])\n",
    "E1"
   ]
  },
  {
   "cell_type": "code",
   "execution_count": 61,
   "id": "fc534eff-1a34-407f-ac3f-b2a777dbc637",
   "metadata": {},
   "outputs": [
    {
     "data": {
      "text/latex": [
       "$\\displaystyle \\left[\\begin{matrix}3 & 5\\\\0 & -31\\\\0 & 0\\end{matrix}\\right]$"
      ],
      "text/plain": [
       "Matrix([\n",
       "[3,   5],\n",
       "[0, -31],\n",
       "[0,   0]])"
      ]
     },
     "execution_count": 61,
     "metadata": {},
     "output_type": "execute_result"
    }
   ],
   "source": [
    "E1.echelon_form()"
   ]
  },
  {
   "cell_type": "code",
   "execution_count": 62,
   "id": "06eaa2dd-4c3f-4640-843e-d97da089a4c7",
   "metadata": {},
   "outputs": [
    {
     "data": {
      "text/latex": [
       "$\\displaystyle \\left[\\begin{matrix}1 & 0\\\\0 & 1\\\\0 & 0\\end{matrix}\\right]$"
      ],
      "text/plain": [
       "Matrix([\n",
       "[1, 0],\n",
       "[0, 1],\n",
       "[0, 0]])"
      ]
     },
     "execution_count": 62,
     "metadata": {},
     "output_type": "execute_result"
    }
   ],
   "source": [
    "E1.rref()[0]"
   ]
  },
  {
   "cell_type": "code",
   "execution_count": 63,
   "id": "3f8c6239-415b-4cf9-93c4-c87ec71e9f17",
   "metadata": {},
   "outputs": [
    {
     "data": {
      "text/latex": [
       "$\\displaystyle \\left[\\begin{matrix}3 & -2 & -1\\\\2 & -1 & -1\\\\4 & -3 & -1\\end{matrix}\\right]$"
      ],
      "text/plain": [
       "Matrix([\n",
       "[3, -2, -1],\n",
       "[2, -1, -1],\n",
       "[4, -3, -1]])"
      ]
     },
     "execution_count": 63,
     "metadata": {},
     "output_type": "execute_result"
    }
   ],
   "source": [
    "E1 = sp.Matrix([[3, -2, -1], \n",
    "               [2, -1, -1],\n",
    "               [4, -3, -1]])\n",
    "\n",
    "E1"
   ]
  },
  {
   "cell_type": "code",
   "execution_count": 65,
   "id": "98cb930b-ea08-455f-8242-674f111c5f74",
   "metadata": {},
   "outputs": [
    {
     "data": {
      "text/latex": [
       "$\\displaystyle \\left[\\begin{matrix}1 & 0 & -1\\\\0 & 1 & -1\\\\0 & 0 & 0\\end{matrix}\\right]$"
      ],
      "text/plain": [
       "Matrix([\n",
       "[1, 0, -1],\n",
       "[0, 1, -1],\n",
       "[0, 0,  0]])"
      ]
     },
     "execution_count": 65,
     "metadata": {},
     "output_type": "execute_result"
    }
   ],
   "source": [
    "E1.rref()[0]"
   ]
  },
  {
   "cell_type": "code",
   "execution_count": 90,
   "id": "4e21ba8b-2631-4929-a3b2-c09f118168c6",
   "metadata": {},
   "outputs": [
    {
     "data": {
      "text/latex": [
       "$\\displaystyle \\left[\\begin{matrix}1 & 2 & -4 & -4 & 5\\\\0 & -1 & 10 & 9 & -5\\\\0 & 0 & 1 & 1 & -1\\\\0 & 0 & 0 & 0 & 24\\end{matrix}\\right]$"
      ],
      "text/plain": [
       "Matrix([\n",
       "[1,  2, -4, -4,  5],\n",
       "[0, -1, 10,  9, -5],\n",
       "[0,  0,  1,  1, -1],\n",
       "[0,  0,  0,  0, 24]])"
      ]
     },
     "execution_count": 90,
     "metadata": {},
     "output_type": "execute_result"
    }
   ],
   "source": [
    "E1 = sp.Matrix([[1, 2, -4, -4, 5],\n",
    "               [0, -1, 10, 9, -5],\n",
    "               [0, 0, 1, 1, -1],\n",
    "               [0, 0, 0, 0, 24]])\n",
    "E1"
   ]
  },
  {
   "cell_type": "code",
   "execution_count": 91,
   "id": "8c639eb3-e1f5-4a09-ab41-008c15002814",
   "metadata": {},
   "outputs": [],
   "source": [
    "#E1.elementary_row_op('n<->m', row1=0, row2 =3)\n",
    "#   * \"n->kn\" (row n goes to k*n)\n",
    "#   * \"n<->m\" (swap row n and row m)\n",
    "#   * \"n->n+km\" (row n goes to row n + k*row m)\n"
   ]
  },
  {
   "cell_type": "code",
   "execution_count": 92,
   "id": "356dac74-8a2e-4789-9139-04972688e480",
   "metadata": {},
   "outputs": [
    {
     "data": {
      "text/latex": [
       "$\\displaystyle \\left[\\begin{matrix}1 & 2 & -4 & -4 & 5\\\\1 & 1 & 6 & 5 & 0\\\\0 & 0 & 1 & 1 & -1\\\\0 & 0 & 0 & 0 & 24\\end{matrix}\\right]$"
      ],
      "text/plain": [
       "Matrix([\n",
       "[1, 2, -4, -4,  5],\n",
       "[1, 1,  6,  5,  0],\n",
       "[0, 0,  1,  1, -1],\n",
       "[0, 0,  0,  0, 24]])"
      ]
     },
     "execution_count": 92,
     "metadata": {},
     "output_type": "execute_result"
    }
   ],
   "source": [
    "E1 = E1.elementary_row_op(\"n->n+km\", row1 = 1, row2=0, k = 1)\n",
    "E1"
   ]
  },
  {
   "cell_type": "code",
   "execution_count": 93,
   "id": "4e53923a-cbd7-4677-a257-2a7c2e0c919c",
   "metadata": {},
   "outputs": [
    {
     "data": {
      "text/latex": [
       "$\\displaystyle \\left[\\begin{matrix}1 & 2 & -4 & -4 & 5\\\\0 & 0 & 1 & 1 & -1\\\\1 & 1 & 6 & 5 & 0\\\\0 & 0 & 0 & 0 & 24\\end{matrix}\\right]$"
      ],
      "text/plain": [
       "Matrix([\n",
       "[1, 2, -4, -4,  5],\n",
       "[0, 0,  1,  1, -1],\n",
       "[1, 1,  6,  5,  0],\n",
       "[0, 0,  0,  0, 24]])"
      ]
     },
     "execution_count": 93,
     "metadata": {},
     "output_type": "execute_result"
    }
   ],
   "source": [
    "E1 = E1.elementary_row_op(\"n<->m\", row1=1, row2=2)\n",
    "E1"
   ]
  },
  {
   "cell_type": "code",
   "execution_count": 94,
   "id": "9653930f-26d8-47db-8b7f-169e8d04ca52",
   "metadata": {},
   "outputs": [
    {
     "data": {
      "text/latex": [
       "$\\displaystyle \\left[\\begin{matrix}1 & 2 & -4 & -4 & 5\\\\0 & 0 & 5 & 5 & -5\\\\1 & 1 & 6 & 5 & 0\\\\0 & 0 & 0 & 0 & 24\\end{matrix}\\right]$"
      ],
      "text/plain": [
       "Matrix([\n",
       "[1, 2, -4, -4,  5],\n",
       "[0, 0,  5,  5, -5],\n",
       "[1, 1,  6,  5,  0],\n",
       "[0, 0,  0,  0, 24]])"
      ]
     },
     "execution_count": 94,
     "metadata": {},
     "output_type": "execute_result"
    }
   ],
   "source": [
    "E1 = E1.elementary_row_op(\"n->kn\", row=1, k = 5)\n",
    "E1"
   ]
  },
  {
   "cell_type": "code",
   "execution_count": null,
   "id": "ba9240b5-2093-4cc6-90f6-c3451275e1e0",
   "metadata": {},
   "outputs": [],
   "source": []
  },
  {
   "cell_type": "code",
   "execution_count": 95,
   "id": "f21e3762-7204-426d-8130-9f0eac32d728",
   "metadata": {},
   "outputs": [
    {
     "data": {
      "text/latex": [
       "$\\displaystyle \\left[\\begin{matrix}1 & 2 & -4 & -4 & 5\\\\0 & 0 & 10 & 10 & -10\\\\1 & 1 & 6 & 5 & 0\\\\0 & 0 & 0 & 0 & 24\\end{matrix}\\right]$"
      ],
      "text/plain": [
       "Matrix([\n",
       "[1, 2, -4, -4,   5],\n",
       "[0, 0, 10, 10, -10],\n",
       "[1, 1,  6,  5,   0],\n",
       "[0, 0,  0,  0,  24]])"
      ]
     },
     "execution_count": 95,
     "metadata": {},
     "output_type": "execute_result"
    }
   ],
   "source": [
    "E1 = E1.elementary_row_op('n->kn', row=1, k = 2)\n",
    "E1"
   ]
  },
  {
   "cell_type": "code",
   "execution_count": 81,
   "id": "04f966e9-f7cc-42cc-8c3b-36a6de87f2be",
   "metadata": {},
   "outputs": [
    {
     "data": {
      "text/latex": [
       "$\\displaystyle \\left[\\begin{matrix}4 & 0 & 64 & 56 & -20\\\\0 & -1 & 10 & 9 & -5\\\\0 & 0 & 1 & 1 & -1\\\\0 & 0 & 0 & 0 & 24\\end{matrix}\\right]$"
      ],
      "text/plain": [
       "Matrix([\n",
       "[4,  0, 64, 56, -20],\n",
       "[0, -1, 10,  9,  -5],\n",
       "[0,  0,  1,  1,  -1],\n",
       "[0,  0,  0,  0,  24]])"
      ]
     },
     "execution_count": 81,
     "metadata": {},
     "output_type": "execute_result"
    }
   ],
   "source": [
    "E1 = E1.elementary_row_op('n->n+km', row1 = 0, row2=1, k = 4)\n",
    "E1"
   ]
  },
  {
   "cell_type": "code",
   "execution_count": 97,
   "id": "35e869ca-6180-44ef-afdc-5bf4d301dea9",
   "metadata": {},
   "outputs": [
    {
     "data": {
      "text/html": [
       "$\\left[\\begin{matrix}1 & 2\\\\3 & 4\\end{matrix}\\right]$ &nbsp;&nbsp;$\\left[\\begin{matrix}3 & -1\\\\1 & 0\\end{matrix}\\right]$ &nbsp;&nbsp;"
      ],
      "text/plain": [
       "<IPython.core.display.HTML object>"
      ]
     },
     "execution_count": 97,
     "metadata": {},
     "output_type": "execute_result"
    }
   ],
   "source": [
    "E1 = sp.Matrix([[1, 2], [3, 4]])\n",
    "E2 = sp.Matrix([[3, -1], [1, 0]])\n",
    "RTL([E1, E2])"
   ]
  },
  {
   "cell_type": "code",
   "execution_count": 98,
   "id": "d8e7fa9c-f359-46b6-8729-a62579d14013",
   "metadata": {},
   "outputs": [
    {
     "data": {
      "text/plain": [
       "False"
      ]
     },
     "execution_count": 98,
     "metadata": {},
     "output_type": "execute_result"
    }
   ],
   "source": [
    "E1 == E2"
   ]
  },
  {
   "cell_type": "code",
   "execution_count": 99,
   "id": "6956030f-e178-4ee7-a2c0-29bcc95675dd",
   "metadata": {},
   "outputs": [
    {
     "data": {
      "text/plain": [
       "(Matrix([\n",
       " [1, 0],\n",
       " [0, 1]]),\n",
       " (0, 1))"
      ]
     },
     "execution_count": 99,
     "metadata": {},
     "output_type": "execute_result"
    }
   ],
   "source": [
    "E1.rref()"
   ]
  },
  {
   "cell_type": "code",
   "execution_count": 110,
   "id": "f86df559-998e-4b88-b722-2d30f07ba6e8",
   "metadata": {},
   "outputs": [],
   "source": [
    "x, y = sp.symbols('x, y')\n",
    "E1 = sp.Matrix([[1, 1, 0],\n",
    "               [1, sp.Rational(801,800), 1]])"
   ]
  },
  {
   "cell_type": "code",
   "execution_count": 111,
   "id": "95b64568-416a-4977-9ba6-c2e35ca08168",
   "metadata": {},
   "outputs": [
    {
     "data": {
      "text/latex": [
       "$\\displaystyle \\left[\\begin{matrix}1 & 1 & 0\\\\1 & \\frac{801}{800} & 1\\end{matrix}\\right]$"
      ],
      "text/plain": [
       "Matrix([\n",
       "[1,       1, 0],\n",
       "[1, 801/800, 1]])"
      ]
     },
     "execution_count": 111,
     "metadata": {},
     "output_type": "execute_result"
    }
   ],
   "source": [
    "E1"
   ]
  },
  {
   "cell_type": "code",
   "execution_count": 112,
   "id": "f34cd714-3d23-472e-93aa-623b35e6bac8",
   "metadata": {},
   "outputs": [
    {
     "data": {
      "text/latex": [
       "$\\displaystyle \\left\\{\\left( -800, \\  800\\right)\\right\\}$"
      ],
      "text/plain": [
       "FiniteSet((-800, 800))"
      ]
     },
     "execution_count": 112,
     "metadata": {},
     "output_type": "execute_result"
    }
   ],
   "source": [
    "sp.linsolve(E1, (x, y))"
   ]
  },
  {
   "cell_type": "code",
   "execution_count": 113,
   "id": "c806f007-1e71-4365-8465-eeebb3a2e980",
   "metadata": {},
   "outputs": [
    {
     "data": {
      "text/html": [
       "$\\left[\\begin{matrix}1\\\\2\\\\3\\end{matrix}\\right]$ &nbsp;&nbsp;$\\left[\\begin{matrix}1\\\\0\\\\3\\end{matrix}\\right]$ &nbsp;&nbsp;$\\left[\\begin{matrix}-1\\\\1\\\\-3\\end{matrix}\\right]$ &nbsp;&nbsp;"
      ],
      "text/plain": [
       "<IPython.core.display.HTML object>"
      ]
     },
     "execution_count": 113,
     "metadata": {},
     "output_type": "execute_result"
    }
   ],
   "source": [
    "# 2.18 (a)\n",
    "# Is E1 a linear combinatin of E2 and E3\n",
    "\n",
    "E1 = sp.Matrix([1, 2, 3])\n",
    "E2 = sp.Matrix([1, 0, 3])\n",
    "E3 = sp.Matrix([-1, 1, -3])\n",
    "RTL([E1, E2, E3])"
   ]
  },
  {
   "cell_type": "code",
   "execution_count": 119,
   "id": "d71d66cf-4c47-4b70-84d5-6683e3c2a954",
   "metadata": {},
   "outputs": [
    {
     "data": {
      "text/latex": [
       "$\\displaystyle \\left[\\begin{matrix}1 & -1 & 1\\\\0 & 1 & 2\\\\3 & -3 & 3\\end{matrix}\\right]$"
      ],
      "text/plain": [
       "Matrix([\n",
       "[1, -1, 1],\n",
       "[0,  1, 2],\n",
       "[3, -3, 3]])"
      ]
     },
     "execution_count": 119,
     "metadata": {},
     "output_type": "execute_result"
    }
   ],
   "source": [
    "# Let E4 be an augmented matrix of E1, E2, E3\n",
    "E4 = sp.Matrix([list(E2), list(E3), list(E1)]).T\n",
    "E4"
   ]
  },
  {
   "cell_type": "code",
   "execution_count": 121,
   "id": "2cb40d7d-433e-441e-992f-b1a54eceff85",
   "metadata": {},
   "outputs": [
    {
     "data": {
      "text/latex": [
       "$\\displaystyle \\left[\\begin{matrix}1 & 0 & 3\\\\0 & 1 & 2\\\\0 & 0 & 0\\end{matrix}\\right]$"
      ],
      "text/plain": [
       "Matrix([\n",
       "[1, 0, 3],\n",
       "[0, 1, 2],\n",
       "[0, 0, 0]])"
      ]
     },
     "execution_count": 121,
     "metadata": {},
     "output_type": "execute_result"
    }
   ],
   "source": [
    "# Find the rref\n",
    "E4.rref()[0]"
   ]
  },
  {
   "cell_type": "code",
   "execution_count": 124,
   "id": "d35732c0-8ad7-4364-b048-d0c80b1e7bc0",
   "metadata": {},
   "outputs": [
    {
     "data": {
      "text/latex": [
       "$\\displaystyle \\left[\\begin{matrix}1\\\\2\\\\3\\end{matrix}\\right]$"
      ],
      "text/plain": [
       "Matrix([\n",
       "[1],\n",
       "[2],\n",
       "[3]])"
      ]
     },
     "execution_count": 124,
     "metadata": {},
     "output_type": "execute_result"
    }
   ],
   "source": [
    "# THis gives values of X and y\n",
    "# Let E5 be the solution using the rref form of x and y\n",
    "E5 = 3 * E2 + 2 * E3\n",
    "E5"
   ]
  },
  {
   "cell_type": "code",
   "execution_count": 129,
   "id": "8d5f5d20-5347-40c1-a608-994fa23576a9",
   "metadata": {},
   "outputs": [
    {
     "data": {
      "text/html": [
       "$\\left[\\begin{matrix}2\\\\3\\\\4\\end{matrix}\\right]$ &nbsp;&nbsp;$\\left[\\begin{matrix}1\\\\0\\\\3\\end{matrix}\\right]$ &nbsp;&nbsp;$\\left[\\begin{matrix}-1\\\\1\\\\-3\\end{matrix}\\right]$ &nbsp;&nbsp;"
      ],
      "text/plain": [
       "<IPython.core.display.HTML object>"
      ]
     },
     "execution_count": 129,
     "metadata": {},
     "output_type": "execute_result"
    }
   ],
   "source": [
    "# 2.18 (b)\n",
    "# Find out if E1 is a linear combination of E2 and E3\n",
    "E1 = sp.Matrix([2, 3, 4])\n",
    "E2 = sp.Matrix([1, 0, 3])\n",
    "E3 = sp.Matrix([-1, 1, -3])\n",
    "\n",
    "RTL([E1, E2, E3])"
   ]
  },
  {
   "cell_type": "code",
   "execution_count": 134,
   "id": "d23c507b-9433-4097-91fe-14087781b68b",
   "metadata": {},
   "outputs": [
    {
     "data": {
      "text/latex": [
       "$\\displaystyle \\left[\\begin{matrix}1 & -1 & 2\\\\0 & 1 & 3\\\\3 & -3 & 4\\end{matrix}\\right]$"
      ],
      "text/plain": [
       "Matrix([\n",
       "[1, -1, 2],\n",
       "[0,  1, 3],\n",
       "[3, -3, 4]])"
      ]
     },
     "execution_count": 134,
     "metadata": {},
     "output_type": "execute_result"
    }
   ],
   "source": [
    "# Let E4 be an augmented matrix comprised of E1, E2, and E3\n",
    "E4 = sp.Matrix([list(E2), list(E3), list(E1)]).T\n",
    "E4"
   ]
  },
  {
   "cell_type": "code",
   "execution_count": 140,
   "id": "da96b3e8-41b8-449e-bac1-fb1f7e273c61",
   "metadata": {},
   "outputs": [
    {
     "data": {
      "text/plain": [
       "(Matrix([\n",
       " [1, 0, 0],\n",
       " [0, 1, 0],\n",
       " [0, 0, 1]]),\n",
       " (0, 1, 2))"
      ]
     },
     "execution_count": 140,
     "metadata": {},
     "output_type": "execute_result"
    }
   ],
   "source": [
    "# Determine rref \n",
    "E4.rref()"
   ]
  },
  {
   "cell_type": "code",
   "execution_count": 137,
   "id": "5f43d959-5cab-4568-a184-9390885d7f72",
   "metadata": {},
   "outputs": [
    {
     "data": {
      "text/latex": [
       "$\\displaystyle \\emptyset$"
      ],
      "text/plain": [
       "EmptySet"
      ]
     },
     "execution_count": 137,
     "metadata": {},
     "output_type": "execute_result"
    }
   ],
   "source": [
    "sp.linsolve(E4, (x, y))"
   ]
  },
  {
   "cell_type": "code",
   "execution_count": null,
   "id": "2353940f-356a-4b45-9411-3bb0e85a8c9a",
   "metadata": {},
   "outputs": [],
   "source": [
    "# No solutions. E"
   ]
  }
 ],
 "metadata": {
  "kernelspec": {
   "display_name": "Python 3",
   "language": "python",
   "name": "python3"
  },
  "language_info": {
   "codemirror_mode": {
    "name": "ipython",
    "version": 3
   },
   "file_extension": ".py",
   "mimetype": "text/x-python",
   "name": "python",
   "nbconvert_exporter": "python",
   "pygments_lexer": "ipython3",
   "version": "3.9.2"
  }
 },
 "nbformat": 4,
 "nbformat_minor": 5
}
