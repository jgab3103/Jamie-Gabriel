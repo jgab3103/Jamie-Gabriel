{
 "cells": [
  {
   "cell_type": "code",
   "execution_count": 1,
   "id": "09d739b7-452b-440e-b856-8a6712d5a439",
   "metadata": {},
   "outputs": [],
   "source": [
    "# !pip install chempy\n",
    "# !pip install periodictable\n",
    "# !pip install PyAstronomy\n",
    "# !pip install molmass\n",
    "# !pip install rdkit\n",
    "# !pip install astropy\n",
    "# !pip install mendeleev\n",
    "\n",
    "\n",
    "import periodictable as pt\n",
    "import chempy as ch\n",
    "import numpy as np\n",
    "import sympy as sp\n",
    "import molmass as mm\n",
    "import pickle\n",
    "from IPython.display import HTML\n",
    "import ipywidgets as widgets\n",
    "import matplotlib as mpl\n",
    "import matplotlib.pyplot as plt\n",
    "from mpl_toolkits.mplot3d import Axes3D\n",
    "import matplotlib.pyplot as plt\n",
    "mpl.rcParams['legend.fontsize'] = 10\n",
    "import pandas as pd\n",
    "import itertools\n",
    "pd.set_option('display.max_colwidth', None)\n",
    "from sympy.plotting import plot \n",
    "from IPython.display import Image\n",
    "from PyAstronomy import pyasl\n",
    "import decimal\n",
    "import mendeleev as me\n",
    "\n",
    "from sympy.physics.units.systems import SI\n",
    "from rdkit import Chem\n",
    "from rdkit.Chem import Draw\n",
    "# from astropy import units as u\n",
    "import sympy.physics.units as u\n",
    "import scipy as scp\n",
    "\n",
    "from sympy.physics.units import speed_of_light, meter, gram, second, day, pound\n",
    "from sympy.physics.units import mile, newton, kilogram, atomic_mass_constant\n",
    "from sympy.physics.units import kilometer, centimeter, millimeter, nanometer\n",
    "from sympy.physics.units import gravitational_constant, hbar, kPa, newton\n",
    "from sympy.physics.units import convert_to\n",
    "\n",
    "def RTL(e):\n",
    "    \"\"\"INPUT PARAMS: [] of math expressions\"\"\"\n",
    "    latex_rendering = []\n",
    "\n",
    "    for i in range(len(e)):\n",
    "        latex_rendering.append(\"$\" + sp.latex(e[i]) + \"$ &nbsp;&nbsp;\")\n",
    "    \n",
    "    return(HTML(\"\".join(latex_rendering[0:])))\n",
    "\n",
    "def BalanceChemEquation(L, R):\n",
    "    \"\"\" INPUT PARAMS: 2 * {} containing react and prod\"\"\"\n",
    "    reac, prod = ch.balance_stoichiometry(L, R)\n",
    "    Reaction = ch.Reaction(reac, prod)\n",
    "    return([Reaction, [reac, prod]])\n",
    "    \n"
   ]
  },
  {
   "cell_type": "markdown",
   "id": "1998ce84-753f-4fec-8bee-dc44481c1be0",
   "metadata": {},
   "source": [
    "##### 1.\n",
    "\n",
    "How many protons, electrons, neutrons in \n",
    "\n",
    "- $^{27}_{13}$ Al+3"
   ]
  },
  {
   "cell_type": "markdown",
   "id": "b30a5737-a9ca-4d0a-8a70-cb9c6a70bce7",
   "metadata": {},
   "source": [
    "##### Answer: \n",
    "\n"
   ]
  },
  {
   "cell_type": "markdown",
   "id": "bde2ab54-e58d-4841-875b-1ba7ed35a29d",
   "metadata": {
    "tags": []
   },
   "source": [
    "- Al has 13 protons\n",
    "- Al has 27 - 13 neutrons = 14 neutrons\n",
    "- Al has 10 electons\n"
   ]
  },
  {
   "cell_type": "markdown",
   "id": "cc53e6b9-598f-4e07-ac32-dc657351216f",
   "metadata": {},
   "source": [
    "##### 2\n",
    "\n",
    "What is the correct name for the compound N2O5?"
   ]
  },
  {
   "cell_type": "markdown",
   "id": "08c83fc4-879b-4b13-a87e-d2cd00e68e41",
   "metadata": {},
   "source": [
    "##### Answer: \n",
    "\n",
    "- Dinitrogen Pentoxide\n",
    "\n",
    "Note this is Non Metal and Non Metal - molecular compound\n",
    "\n",
    "Don't use prefixes with ionic compounds\n",
    "\n"
   ]
  },
  {
   "cell_type": "markdown",
   "id": "f4c58890-7cf5-4b9c-aaa5-7712433ade4f",
   "metadata": {},
   "source": [
    "##### 2.1\n",
    "\n",
    "What is the name for SF6?\n",
    "\n"
   ]
  },
  {
   "cell_type": "markdown",
   "id": "408d6683-9324-4fe1-8f3b-d3eca83c705c",
   "metadata": {},
   "source": [
    "##### Answer: \n",
    "\n",
    "Sulphur and Flourine are both non-metals so this is molecular compound\n",
    "\n",
    "- Sulphur HexaFlouride"
   ]
  },
  {
   "cell_type": "markdown",
   "id": "c3df909f-e227-44ec-b30b-6ab79c46ece9",
   "metadata": {},
   "source": [
    "##### 2.2\n",
    "\n",
    "What is the name for MgF2\n",
    "\n",
    "- Mg is a metal, Flourine is a non metal \n",
    "- This is an ionic compound \n",
    "- Magnesium Flouride \n"
   ]
  },
  {
   "cell_type": "markdown",
   "id": "32c18a5a-6e16-4f99-8161-4b8022a5dab2",
   "metadata": {},
   "source": [
    "##### 3. \n",
    "\n",
    "Calculate the percent composition of Aluminium in Aluminium Sulfite, Al2(SO3)3\n"
   ]
  },
  {
   "cell_type": "markdown",
   "id": "068a9163-7214-4708-9f54-42a8f35f17fe",
   "metadata": {},
   "source": [
    "##### Answer: \n",
    "\n",
    "Need the following formula\n",
    "\n",
    "\n",
    "$$ \\text{ % Composition} = \\frac{\\text{Mass of Element}}  {\\text{Total Mass}}  $$\n"
   ]
  },
  {
   "cell_type": "code",
   "execution_count": 2,
   "id": "d72afff0-e69f-495e-a957-03d87391a91f",
   "metadata": {},
   "outputs": [
    {
     "data": {
      "text/plain": [
       "18.345295839817197"
      ]
     },
     "execution_count": 2,
     "metadata": {},
     "output_type": "execute_result"
    }
   ],
   "source": [
    "(mm.Formula(\"Al2\").mass / mm.Formula(\"Al2(SO3)3\").mass) * 100"
   ]
  },
  {
   "cell_type": "markdown",
   "id": "e8cb6808-0f81-43f1-bad6-5302115ed4a8",
   "metadata": {},
   "source": [
    "##### 4.\n",
    "\n",
    "Nitrogen gas reacts with Hydrogen gas to form ammonia. \n",
    "\n",
    "Calculate the mass of Ammonia (NH3) producted if 15g of Nitrogen gas reacts with excess Hydrogen gas\n",
    "\n"
   ]
  },
  {
   "cell_type": "markdown",
   "id": "c8b34396-78a6-4770-b8a3-823cfad3dacb",
   "metadata": {},
   "source": [
    "##### Answer: \n",
    "\n",
    "This is a limiting reaction problem. Write a balanced equation \n",
    "\n",
    "Know your diatomic elements (i.e. N2, H2, etc)\n",
    "\n",
    "\n",
    "- N2 + H2 -> NH3\n",
    "\n",
    "Note the ratios are not balanced\n",
    "\n",
    "- N -> 2 : 2\n",
    "- H -> 2 : 3\n",
    "\n",
    "After balancing it becomes \n",
    "\n",
    "- N2 + 3H2 -> 2NH3\n",
    "\n",
    "Note the ratios are now balanced: \n",
    "\n",
    "- N -> 2:2\n",
    "- H -> 6:6\n",
    "\n"
   ]
  },
  {
   "cell_type": "code",
   "execution_count": 8,
   "id": "60605d2e-fa93-4ccd-ae3b-297d5658df9e",
   "metadata": {},
   "outputs": [
    {
     "data": {
      "text/latex": [
       "$\\displaystyle 0.535457916113449 mol$"
      ],
      "text/plain": [
       "0.535457916113449*mol"
      ]
     },
     "execution_count": 8,
     "metadata": {},
     "output_type": "execute_result"
    }
   ],
   "source": [
    "mol = sp.symbols('mol')\n",
    "\n",
    "E1 = 15 * u.gram * (1 / ((mm.Formula(\"N2\").mass * u.gram) / mol))\n",
    "E1"
   ]
  },
  {
   "cell_type": "markdown",
   "id": "350549fb-9599-45cd-b359-184db6afd0ab",
   "metadata": {},
   "source": [
    "We know there is approx 0.53 moles of N2 when there is 15g of N2 gas\n",
    "\n",
    "This means there is twice that about of moles of NH3"
   ]
  },
  {
   "cell_type": "code",
   "execution_count": 12,
   "id": "bc57de44-3651-4bba-ab0b-5d093038b3e3",
   "metadata": {},
   "outputs": [
    {
     "data": {
      "text/latex": [
       "$\\displaystyle 18.2382599245518 \\text{g}$"
      ],
      "text/plain": [
       "18.2382599245518*gram"
      ]
     },
     "execution_count": 12,
     "metadata": {},
     "output_type": "execute_result"
    }
   ],
   "source": [
    "E2 = ((mm.Formula(\"NH3\").mass * u.gram) / mol)\n",
    "E2 * E1 * 2"
   ]
  },
  {
   "cell_type": "markdown",
   "id": "d2c92be0-4363-47cf-b7fb-a5c88ab3641d",
   "metadata": {},
   "source": [
    "##### 5. \n",
    "\n",
    "15g of Sodium Hydroxide is dissolved in enough water to produce a 250 ml solution Calculate the molarity of the solution. "
   ]
  },
  {
   "cell_type": "markdown",
   "id": "b310cb02-0274-4712-a711-8dfeb2e1ec66",
   "metadata": {},
   "source": [
    "##### Answer: \n",
    "\n",
    "- You can use dimension analysis or use equation \n",
    "\n",
    "- Note that molarity is defined as \n",
    "\n",
    "$$  M = \\frac{\\text{Moles of solute}}{\\text{Liters of solution}}   $$\n",
    "\n",
    "\n",
    "First find the moles of solute: \n",
    "\n",
    "Note that the charges match so its Na+1OH-1 and the formula is NaOH\n",
    "\n",
    "If for example, this was MgOH - you would need Mg(OH)2 to balance charge"
   ]
  },
  {
   "cell_type": "code",
   "execution_count": 20,
   "id": "e592d068-5043-456d-8b64-9a589cc19624",
   "metadata": {},
   "outputs": [
    {
     "data": {
      "text/latex": [
       "$\\displaystyle 0.375027046200518 mol$"
      ],
      "text/plain": [
       "0.375027046200518*mol"
      ]
     },
     "execution_count": 20,
     "metadata": {},
     "output_type": "execute_result"
    }
   ],
   "source": [
    "mol = sp.symbols(\"mol\")\n",
    "\n",
    "E1 = 15 * u.gram * (1 / ((mm.Formula(\"NaOH\").mass * u.gram) / mol))\n",
    "E1"
   ]
  },
  {
   "cell_type": "markdown",
   "id": "a3b82560-ff50-4191-9317-8d4da5ec61d8",
   "metadata": {},
   "source": [
    "Now we have the moles. The other thing needed is the litres (.25L or 250ml) and follow the formula"
   ]
  },
  {
   "cell_type": "code",
   "execution_count": 21,
   "id": "970508dd-058e-49a7-a8be-8b16c6f62479",
   "metadata": {},
   "outputs": [
    {
     "data": {
      "text/latex": [
       "$\\displaystyle \\frac{1.50010818480207 mol}{\\text{liter}}$"
      ],
      "text/plain": [
       "1.50010818480207*mol/liter"
      ]
     },
     "execution_count": 21,
     "metadata": {},
     "output_type": "execute_result"
    }
   ],
   "source": [
    "E2 = E1 / (.25 * u.liter)\n",
    "E2"
   ]
  },
  {
   "cell_type": "markdown",
   "id": "80ab6663-e59a-4bdc-b11c-ac5b41505222",
   "metadata": {},
   "source": [
    "Note that the units is just M: "
   ]
  },
  {
   "cell_type": "code",
   "execution_count": 22,
   "id": "cbf60881-1053-4749-8e8a-83efe286222d",
   "metadata": {},
   "outputs": [
    {
     "data": {
      "text/latex": [
       "$\\displaystyle 1.50010818480207$"
      ],
      "text/plain": [
       "1.50010818480207"
      ]
     },
     "execution_count": 22,
     "metadata": {},
     "output_type": "execute_result"
    }
   ],
   "source": [
    "E3 = E2.subs({mol: 1, u.liter:1})\n",
    "E3"
   ]
  },
  {
   "cell_type": "markdown",
   "id": "3f2bff1f-668f-4a06-a389-55fc6b386f52",
   "metadata": {},
   "source": [
    "##### 6. \n",
    "\n",
    "How many mL of water must be added to 200mL of a .75 solution of NaOH to dilute the concentration to 0.25M?"
   ]
  },
  {
   "cell_type": "markdown",
   "id": "0c0d6d58-203d-43f8-aca8-824bce8b33dd",
   "metadata": {},
   "source": [
    "##### Answer: \n",
    "\n",
    "Is dilution problem. Whenever you see Molarity, Mls type question, use the equation \n",
    "\n",
    "$$ M_1V_1 = M_2V_2 $$\n"
   ]
  },
  {
   "cell_type": "code",
   "execution_count": 27,
   "id": "24d48b89-0017-436d-b19e-7ae145004321",
   "metadata": {},
   "outputs": [
    {
     "data": {
      "text/latex": [
       "$\\displaystyle 150.0 M \\text{milliliter} = 0.25 M V_{2}$"
      ],
      "text/plain": [
       "Eq(150.0*milliliter*M, 0.25*M*V2)"
      ]
     },
     "execution_count": 27,
     "metadata": {},
     "output_type": "execute_result"
    }
   ],
   "source": [
    "V2, M = sp.symbols(\"V2, M\")\n",
    "\n",
    "M1 = .75 * M\n",
    "V1 = 200 * u.milliliter\n",
    "M2 = .25 * M\n",
    "\n",
    "E1 = sp.Eq(M1 * V1, M2 * V2)\n",
    "E1"
   ]
  },
  {
   "cell_type": "code",
   "execution_count": 30,
   "id": "505db336-4779-4b98-9361-93a370190b0a",
   "metadata": {},
   "outputs": [
    {
     "data": {
      "text/latex": [
       "$\\displaystyle 600.0 \\text{milliliter}$"
      ],
      "text/plain": [
       "600.0*milliliter"
      ]
     },
     "execution_count": 30,
     "metadata": {},
     "output_type": "execute_result"
    }
   ],
   "source": [
    "E2 = sp.solve(E1, V2)[0]\n",
    "E2"
   ]
  },
  {
   "cell_type": "markdown",
   "id": "2d5cca21-9671-4bca-8fff-5b1bc41a20bc",
   "metadata": {},
   "source": [
    "Note that we must add 400ml to the solution to dilute the concentration. This is just a change in volute and change in concentration/diluation\n",
    "\n",
    "Note that anytime water is added water, Molarity will decrease. So note that if you increase volume by factor or 3, concentration will decrease by factor of 3"
   ]
  },
  {
   "cell_type": "markdown",
   "id": "be7183f8-93a2-443f-9d4b-45d4a696b9e1",
   "metadata": {},
   "source": [
    "##### 7. \n",
    "\n",
    "What is the correct oxidisation state of Chromium in Sodium Dichromate (Na2Cr2O7)"
   ]
  },
  {
   "cell_type": "markdown",
   "id": "e7729496-184b-4f35-b1e9-792f630456d7",
   "metadata": {},
   "source": [
    "##### Answer: \n",
    "\n",
    "Note that the oxidation number, also called oxidation state, the total number of electrons that an atom either gains or loses in order to form a chemical bond with another atom.\n",
    "\n",
    "Lets count atoms with net charge on rhs\n",
    "\n",
    "- 2Na + 2Cr + 7(O) = 0\n",
    "\n",
    "We can rewrite this with charge and solve to find oxidation state of chromium, knowig in that the molecular compound is neatural\n",
    "\n",
    "- 2(+1) + 2(x) + 7(-2) = 0\n",
    "- 2 + 2x - 14 = 0\n",
    "- 2x = 12\n",
    "- x = 6\n",
    "\n",
    "So Chromium has an oxidation number or oxidation number of 6. "
   ]
  },
  {
   "cell_type": "markdown",
   "id": "038c4636-454e-467d-a748-552eb91cdff2",
   "metadata": {},
   "source": [
    "##### 7.1 \n",
    "\n",
    "Find the oxidation number or oxidation state of SO2, Sulfur Dioxide\n",
    "\n",
    "- S + 2(O) = 0\n",
    "- S + 2(-2) = 0\n",
    "- S = 4\n",
    "\n",
    "Note that the non oxygen exlement is treated as variable, and charge is solved\n",
    "\n"
   ]
  },
  {
   "cell_type": "markdown",
   "id": "6af33483-a24f-4a45-861f-564a990d32e4",
   "metadata": {},
   "source": [
    " ##### 7.2\n",
    "\n",
    "Find the oxidation number/oxidations state of PO4(-3), the phosphate ion\n",
    "\n",
    "Note that we have a net charge here, so set the equation to the netcharge\n",
    "\n",
    "- P + 4(O) = -3\n",
    "- P + 4(-2) = -3\n",
    "- P = 5\n",
    "\n",
    "Oxidisation state of Phosphorus is 5"
   ]
  },
  {
   "cell_type": "markdown",
   "id": "1b8f9497-122e-4a96-afac-394049c92056",
   "metadata": {},
   "source": [
    "##### General rules to derive oxidations states\n",
    "\n",
    "- If you have pure element (H2, N2, O2), oxidation state -> 0\n",
    "- F is usually -1\n",
    "- O is usually -2, except when bonded to Flourine\n",
    "- If you see 'peroxide' oxygen is -1, as opposed to 'oxide', which is -2\n",
    "- H has oxidation state of +1 when bonded to a non-metal\n",
    "- H has oxidation state of -1 when bonded to a metal"
   ]
  },
  {
   "cell_type": "markdown",
   "id": "7110c056-006d-42c2-9f5f-573218a6ab9c",
   "metadata": {},
   "source": [
    "##### 7.3\n",
    "\n",
    "Find the oxidation state of sulphur in HSO4-1\n",
    "\n",
    "Set up equation \n",
    "\n",
    "- H + S + 4(O) = -1\n",
    "- (+1) + S + 4(-2) = -1\n",
    "- 1 + S - 8 = -1\n",
    "- S = 6\n",
    "\n",
    "So this is the oxidation state of sulphur"
   ]
  },
  {
   "cell_type": "markdown",
   "id": "7b6c6a28-a9fe-4ddf-9e25-9e96f3e664a6",
   "metadata": {},
   "source": [
    "##### 7.4\n",
    "\n",
    "Find the oxidations state of Hydrogen in CaH2\n",
    "\n",
    "Note that Hydrogen is unknown and this can be set to 0\n",
    "\n",
    "- 1Ca + 2(H) = 0\n",
    "- 1(+2) + 2H = 0\n",
    "- 2 + 2H = 0\n",
    "- 2H = -2\n",
    "- H = -1\n",
    "\n",
    "This supports the rule that Hydrogen bonded to a mental is -1\n"
   ]
  },
  {
   "cell_type": "markdown",
   "id": "a499e10d-66ff-423d-ac08-075d7c25f366",
   "metadata": {},
   "source": [
    "##### 7.5\n",
    "\n",
    "Find the oxidation state of Oxygen in Hydrogen Peroxide (H2O2)\n",
    "\n",
    "- 2H + 2(O) = 0\n",
    "- 2(H) + 2(O) = 0\n",
    "- 2(1) - 2(O) = 0\n",
    "- O = -1\n",
    "\n"
   ]
  },
  {
   "cell_type": "markdown",
   "id": "12ca3db7-7bde-4f36-87b9-14b2790aeea8",
   "metadata": {},
   "source": [
    "Only time oxygen has positive oxidisaation state is when bonded to Flourine\n",
    "\n",
    "Consider OF2 and find oxidatisation state\n",
    "\n",
    "- O + 2F = 0\n",
    "- O + 2(-1) = 0\n",
    "- O = 2\n"
   ]
  },
  {
   "cell_type": "markdown",
   "id": "1e1e3b5f-a77b-4004-a38d-73888d568514",
   "metadata": {},
   "source": [
    "##### 8\n",
    "\n",
    "38.6ml of a 0.249 NaOH solution was required to completely titrate 44.7ml of a Sulfuric Acid (H2SO4) solution. Determine the unknown concentration of a the Sulfuric Acid solution"
   ]
  },
  {
   "cell_type": "markdown",
   "id": "2088597e-5e5d-497d-9862-c137aee3ed1f",
   "metadata": {},
   "source": [
    "##### Answer: \n",
    "\n",
    "Note we have 2 Volumes and 1 Molarity, and looking for another molarity. \n",
    "\n",
    "So use \n",
    "\n",
    "$$ M_1V_1 = M_2V_2 $$\n"
   ]
  },
  {
   "cell_type": "markdown",
   "id": "149a0388-b46a-409a-8ee1-74c6790982ad",
   "metadata": {},
   "source": [
    "Note that this is slightly different in that there are two substances in play here. \n",
    "\n",
    "Note that titration is the process of chemical analysis in which the quantity of some constituent of a sample is determined by adding to the measured sample an exactly known quantity of another substance with which the desired constituent reacts in a definite, known proportion.\n",
    "\n",
    "Note that you need to take into account molar ratio when using formula\n",
    "\n",
    "So it will end up as: \n",
    "\n",
    "- 1M1V1 = 2M2V2\n"
   ]
  },
  {
   "cell_type": "code",
   "execution_count": 37,
   "id": "2d304ab4-7d75-4c83-ac3d-7885f625ce09",
   "metadata": {},
   "outputs": [
    {
     "data": {
      "text/latex": [
       "$\\displaystyle 0.107510067114094 M$"
      ],
      "text/plain": [
       "0.107510067114094*M"
      ]
     },
     "execution_count": 37,
     "metadata": {},
     "output_type": "execute_result"
    }
   ],
   "source": [
    "M, M2 = sp.symbols('M, M2')\n",
    "\n",
    "M1 = .249 * M\n",
    "V1 = 38.6 * u.milliliter\n",
    "V2 = 44.7 * u.milliliter\n",
    "\n",
    "E1 = sp.Eq(M1 * V1, 2 * M2 * V2)\n",
    "E2 = sp.solve(E1, M2)[0]\n",
    "E2"
   ]
  },
  {
   "cell_type": "markdown",
   "id": "606feec8-ff18-4b4a-babe-44dabeec07fb",
   "metadata": {},
   "source": [
    "A slighty more intuitive way might be two react it and make sure the equation si balanced and then work towards the answer. \n",
    "\n",
    "Start with the reactants and note this is an acid base neautralisation reaction\n",
    "\n",
    "\n",
    "- NaOH + H2SO4 -> ?\n",
    "\n",
    "Work out the ions\n",
    "\n",
    "- Na: +1\n",
    "- OH: -1\n",
    "- H2: +1\n",
    "- SO4: -2\n",
    " \n",
    "Now do an exchange reaction. Note that H+ and OH- always gives H2O. Note the H in OH doesnt count as its OH, not H\n",
    "\n",
    "- NaOH + H2SO4 -> Na2SO4 + H2O\n",
    "\n",
    "Now balance the equation \n",
    "\n",
    "- 2NaOH + H2SO4 ->  2H2O + Na2SO4\n",
    "\n",
    "Probably should redo this. \n",
    "\n"
   ]
  },
  {
   "cell_type": "markdown",
   "id": "b93d7a7f-3bd8-440f-9e37-9d37e0895025",
   "metadata": {},
   "source": [
    "##### 9. \n",
    "\n",
    "A 250ml sample of Argon gas has a pressure of 1.25atm at a temperature of 300K. Caclulate the new pressure if the temperature is increased to 500K and the volume is decreased to 100ml"
   ]
  },
  {
   "cell_type": "markdown",
   "id": "02baea17-817a-4c7e-96a3-448026b14fbb",
   "metadata": {},
   "source": [
    "##### Answer: \n",
    "\n",
    "Look at units and figure out what equation \n",
    "\n",
    "We have Volume, Pressure, Temperature * 2\n",
    "\n",
    "Note that we can use the <b>Combined Gas</b> law: \n",
    "\n",
    "<i>for a sample of gas, the ratio of the product of the original pressure and volume to the original temperature will equal the ratio of the product of a new pressure and volume to the new temperature</i>\n",
    "\n",
    "Note that atm is atmosphere. 1 atm is average air pressure at sea level at 15 degrees. Drops as altitute increases\n",
    "\n",
    "$$ \\frac{P_1V_1}{T_1}  = \\frac{P_2V_2}{T_2}  $$\n",
    "\n",
    "Substitute in: "
   ]
  },
  {
   "cell_type": "code",
   "execution_count": 11,
   "id": "14262163-27e7-4ab1-9402-c856d0df8565",
   "metadata": {},
   "outputs": [
    {
     "data": {
      "text/latex": [
       "$\\displaystyle \\frac{1.04166666666667 atm \\text{milliliter}}{\\text{K}} = \\frac{P_{2} \\text{milliliter}}{5 \\text{K}}$"
      ],
      "text/plain": [
       "Eq(1.04166666666667*milliliter*atm/kelvin, milliliter*P2/(5*kelvin))"
      ]
     },
     "execution_count": 11,
     "metadata": {},
     "output_type": "execute_result"
    }
   ],
   "source": [
    "atm, P2 = sp.symbols('atm, P2')\n",
    "\n",
    "P1 = 1.25 * atm\n",
    "V1 = 250 * u.milliliter\n",
    "T1 = 300 * u.kelvin\n",
    "V2 = 100 * u.milliliter\n",
    "T2 = 500 * u.kelvin\n",
    "\n",
    "E1 = sp.Eq((P1 * V1) / T1, (P2 * V2) / T2)\n",
    "E1"
   ]
  },
  {
   "cell_type": "code",
   "execution_count": 12,
   "id": "8f824cb2-352e-4d7e-ad16-b2673d6ff13d",
   "metadata": {},
   "outputs": [
    {
     "data": {
      "text/latex": [
       "$\\displaystyle 5.20833333333333 atm$"
      ],
      "text/plain": [
       "5.20833333333333*atm"
      ]
     },
     "execution_count": 12,
     "metadata": {},
     "output_type": "execute_result"
    }
   ],
   "source": [
    "E2 = sp.solve(E1, P2)[0]\n",
    "E2"
   ]
  },
  {
   "cell_type": "markdown",
   "id": "894e1b89-5176-4394-9dc8-2ee989f48e57",
   "metadata": {},
   "source": [
    "##### 10\n",
    "Calculate the density of Oxygen gas (O2) at STP"
   ]
  },
  {
   "cell_type": "markdown",
   "id": "b227a6f8-035a-445d-9cb8-bb1a83524e8d",
   "metadata": {},
   "source": [
    "Note that density is given in grams per litre\n",
    "\n",
    "Note that STP 'standard temperature pressure'\n",
    "\n",
    "This is 0 degrees Celsius (273 Kelvin) and pressure of 1 atm\n",
    "\n",
    "Also note that 1 Mole of any gas has a volume 22.4 Litres\n",
    "\n",
    "So we now know temperature, pressure and volume\n",
    "\n",
    "Note Oxygen has folling mass\n"
   ]
  },
  {
   "cell_type": "code",
   "execution_count": 16,
   "id": "03d2e053-ecca-4400-a2d5-8d6c7910b421",
   "metadata": {},
   "outputs": [
    {
     "data": {
      "text/latex": [
       "$\\displaystyle \\frac{31.99881 \\text{g}}{mol}$"
      ],
      "text/plain": [
       "31.99881*gram/mol"
      ]
     },
     "execution_count": 16,
     "metadata": {},
     "output_type": "execute_result"
    }
   ],
   "source": [
    "mol = sp.symbols('mol')\n",
    "E1 = ((mm.Formula(\"O2\").mass * u.gram ) / mol)\n",
    "E1"
   ]
  },
  {
   "cell_type": "markdown",
   "id": "9a0ee724-0143-44ec-9523-0ed436b4ea0c",
   "metadata": {},
   "source": [
    "Now convert moles into litres using mole to litre ratio"
   ]
  },
  {
   "cell_type": "code",
   "execution_count": 17,
   "id": "ec4e8d37-edb7-41f3-a14d-2281eb111c92",
   "metadata": {},
   "outputs": [
    {
     "data": {
      "text/latex": [
       "$\\displaystyle \\frac{1.42851830357143 \\text{g}}{\\text{liter}}$"
      ],
      "text/plain": [
       "1.42851830357143*gram/liter"
      ]
     },
     "execution_count": 17,
     "metadata": {},
     "output_type": "execute_result"
    }
   ],
   "source": [
    "E2 = E1 * mol/(22.4 * u.liter)\n",
    "E2"
   ]
  },
  {
   "cell_type": "markdown",
   "id": "632402e2-912f-4b8f-8550-a9d912da780c",
   "metadata": {},
   "source": [
    "##### 10.1\n",
    "\n",
    "Note there is also another equation that can be used \n",
    "\n",
    "$$ density = \\frac{Pressure \\times MolarMass}{GasConstant \\times Temperature(K)}  $$\n",
    "\n",
    "Note that the Gas constant = 008206 (Litres * ATM) / (Mole * K)"
   ]
  },
  {
   "cell_type": "markdown",
   "id": "def17adb-3579-4640-807a-1bc00fd83af0",
   "metadata": {},
   "source": []
  }
 ],
 "metadata": {
  "kernelspec": {
   "display_name": "Python 3",
   "language": "python",
   "name": "python3"
  },
  "language_info": {
   "codemirror_mode": {
    "name": "ipython",
    "version": 3
   },
   "file_extension": ".py",
   "mimetype": "text/x-python",
   "name": "python",
   "nbconvert_exporter": "python",
   "pygments_lexer": "ipython3",
   "version": "3.9.2"
  }
 },
 "nbformat": 4,
 "nbformat_minor": 5
}
