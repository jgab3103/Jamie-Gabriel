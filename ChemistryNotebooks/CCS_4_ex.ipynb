{
 "cells": [
  {
   "cell_type": "code",
   "execution_count": 1,
   "id": "09d739b7-452b-440e-b856-8a6712d5a439",
   "metadata": {},
   "outputs": [
    {
     "name": "stdout",
     "output_type": "stream",
     "text": [
      "Requirement already satisfied: chempy in /opt/conda/lib/python3.9/site-packages (0.8.2)\n",
      "Requirement already satisfied: pyparsing>=2.0.3 in /opt/conda/lib/python3.9/site-packages (from chempy) (2.4.7)\n",
      "Requirement already satisfied: sym>=0.3.4 in /opt/conda/lib/python3.9/site-packages (from chempy) (0.3.5)\n",
      "Requirement already satisfied: pyneqsys>=0.5.5 in /opt/conda/lib/python3.9/site-packages (from chempy) (0.5.7)\n",
      "Requirement already satisfied: numpy>1.11.3 in /opt/conda/lib/python3.9/site-packages (from chempy) (1.24.2)\n",
      "Requirement already satisfied: quantities>=0.12.1 in /opt/conda/lib/python3.9/site-packages (from chempy) (0.14.1)\n",
      "Requirement already satisfied: pyodesys>=0.14.1 in /opt/conda/lib/python3.9/site-packages (from chempy) (0.14.2)\n",
      "Requirement already satisfied: matplotlib>=2.2.3 in /opt/conda/lib/python3.9/site-packages (from chempy) (3.4.2)\n",
      "Requirement already satisfied: dot2tex>=2.11.3 in /opt/conda/lib/python3.9/site-packages (from chempy) (2.11.3)\n",
      "Requirement already satisfied: sympy!=1.2,>=1.1.1 in /opt/conda/lib/python3.9/site-packages (from chempy) (1.8)\n",
      "Requirement already satisfied: pulp>=1.6.8 in /opt/conda/lib/python3.9/site-packages (from chempy) (2.7.0)\n",
      "Requirement already satisfied: scipy>=1.0.1 in /opt/conda/lib/python3.9/site-packages (from chempy) (1.6.3)\n",
      "Requirement already satisfied: cycler>=0.10 in /opt/conda/lib/python3.9/site-packages (from matplotlib>=2.2.3->chempy) (0.10.0)\n",
      "Requirement already satisfied: pillow>=6.2.0 in /opt/conda/lib/python3.9/site-packages (from matplotlib>=2.2.3->chempy) (8.2.0)\n",
      "Requirement already satisfied: kiwisolver>=1.0.1 in /opt/conda/lib/python3.9/site-packages (from matplotlib>=2.2.3->chempy) (1.3.1)\n",
      "Requirement already satisfied: python-dateutil>=2.7 in /opt/conda/lib/python3.9/site-packages (from matplotlib>=2.2.3->chempy) (2.8.1)\n",
      "Requirement already satisfied: six in /opt/conda/lib/python3.9/site-packages (from cycler>=0.10->matplotlib>=2.2.3->chempy) (1.16.0)\n",
      "Requirement already satisfied: notebook in /opt/conda/lib/python3.9/site-packages (from pyodesys>=0.14.1->chempy) (6.3.0)\n",
      "Collecting numpy>1.11.3\n",
      "  Downloading numpy-1.22.4-cp39-cp39-manylinux_2_17_x86_64.manylinux2014_x86_64.whl (16.8 MB)\n",
      "\u001b[K     |████████████████████████████████| 16.8 MB 3.3 MB/s eta 0:00:01\n",
      "\u001b[?25hRequirement already satisfied: mpmath>=0.19 in /opt/conda/lib/python3.9/site-packages (from sympy!=1.2,>=1.1.1->chempy) (1.2.1)\n",
      "Requirement already satisfied: jupyter-client>=5.3.4 in /opt/conda/lib/python3.9/site-packages (from notebook->pyodesys>=0.14.1->chempy) (6.1.12)\n",
      "Requirement already satisfied: ipykernel in /opt/conda/lib/python3.9/site-packages (from notebook->pyodesys>=0.14.1->chempy) (5.5.5)\n",
      "Requirement already satisfied: prometheus-client in /opt/conda/lib/python3.9/site-packages (from notebook->pyodesys>=0.14.1->chempy) (0.10.1)\n",
      "Requirement already satisfied: jinja2 in /opt/conda/lib/python3.9/site-packages (from notebook->pyodesys>=0.14.1->chempy) (3.0.1)\n",
      "Requirement already satisfied: nbformat in /opt/conda/lib/python3.9/site-packages (from notebook->pyodesys>=0.14.1->chempy) (5.1.3)\n",
      "Requirement already satisfied: jupyter-core>=4.6.1 in /opt/conda/lib/python3.9/site-packages (from notebook->pyodesys>=0.14.1->chempy) (4.7.1)\n",
      "Requirement already satisfied: terminado>=0.8.3 in /opt/conda/lib/python3.9/site-packages (from notebook->pyodesys>=0.14.1->chempy) (0.10.0)\n",
      "Requirement already satisfied: nbconvert in /opt/conda/lib/python3.9/site-packages (from notebook->pyodesys>=0.14.1->chempy) (6.0.7)\n",
      "Requirement already satisfied: argon2-cffi in /opt/conda/lib/python3.9/site-packages (from notebook->pyodesys>=0.14.1->chempy) (20.1.0)\n",
      "Requirement already satisfied: tornado>=6.1 in /opt/conda/lib/python3.9/site-packages (from notebook->pyodesys>=0.14.1->chempy) (6.1)\n",
      "Requirement already satisfied: Send2Trash>=1.5.0 in /opt/conda/lib/python3.9/site-packages (from notebook->pyodesys>=0.14.1->chempy) (1.5.0)\n",
      "Requirement already satisfied: traitlets>=4.2.1 in /opt/conda/lib/python3.9/site-packages (from notebook->pyodesys>=0.14.1->chempy) (5.0.5)\n",
      "Requirement already satisfied: pyzmq>=17 in /opt/conda/lib/python3.9/site-packages (from notebook->pyodesys>=0.14.1->chempy) (22.0.3)\n",
      "Requirement already satisfied: ipython-genutils in /opt/conda/lib/python3.9/site-packages (from notebook->pyodesys>=0.14.1->chempy) (0.2.0)\n",
      "Requirement already satisfied: ptyprocess in /opt/conda/lib/python3.9/site-packages (from terminado>=0.8.3->notebook->pyodesys>=0.14.1->chempy) (0.7.0)\n",
      "Requirement already satisfied: cffi>=1.0.0 in /opt/conda/lib/python3.9/site-packages (from argon2-cffi->notebook->pyodesys>=0.14.1->chempy) (1.14.5)\n",
      "Requirement already satisfied: pycparser in /opt/conda/lib/python3.9/site-packages (from cffi>=1.0.0->argon2-cffi->notebook->pyodesys>=0.14.1->chempy) (2.20)\n",
      "Requirement already satisfied: ipython>=5.0.0 in /opt/conda/lib/python3.9/site-packages (from ipykernel->notebook->pyodesys>=0.14.1->chempy) (7.23.1)\n",
      "Requirement already satisfied: setuptools>=18.5 in /opt/conda/lib/python3.9/site-packages (from ipython>=5.0.0->ipykernel->notebook->pyodesys>=0.14.1->chempy) (49.6.0.post20210108)\n",
      "Requirement already satisfied: matplotlib-inline in /opt/conda/lib/python3.9/site-packages (from ipython>=5.0.0->ipykernel->notebook->pyodesys>=0.14.1->chempy) (0.1.2)\n",
      "Requirement already satisfied: pickleshare in /opt/conda/lib/python3.9/site-packages (from ipython>=5.0.0->ipykernel->notebook->pyodesys>=0.14.1->chempy) (0.7.5)\n",
      "Requirement already satisfied: jedi>=0.16 in /opt/conda/lib/python3.9/site-packages (from ipython>=5.0.0->ipykernel->notebook->pyodesys>=0.14.1->chempy) (0.18.0)\n",
      "Requirement already satisfied: prompt-toolkit!=3.0.0,!=3.0.1,<3.1.0,>=2.0.0 in /opt/conda/lib/python3.9/site-packages (from ipython>=5.0.0->ipykernel->notebook->pyodesys>=0.14.1->chempy) (3.0.18)\n",
      "Requirement already satisfied: decorator in /opt/conda/lib/python3.9/site-packages (from ipython>=5.0.0->ipykernel->notebook->pyodesys>=0.14.1->chempy) (5.0.9)\n",
      "Requirement already satisfied: pygments in /opt/conda/lib/python3.9/site-packages (from ipython>=5.0.0->ipykernel->notebook->pyodesys>=0.14.1->chempy) (2.9.0)\n",
      "Requirement already satisfied: pexpect>4.3 in /opt/conda/lib/python3.9/site-packages (from ipython>=5.0.0->ipykernel->notebook->pyodesys>=0.14.1->chempy) (4.8.0)\n",
      "Requirement already satisfied: backcall in /opt/conda/lib/python3.9/site-packages (from ipython>=5.0.0->ipykernel->notebook->pyodesys>=0.14.1->chempy) (0.2.0)\n",
      "Requirement already satisfied: parso<0.9.0,>=0.8.0 in /opt/conda/lib/python3.9/site-packages (from jedi>=0.16->ipython>=5.0.0->ipykernel->notebook->pyodesys>=0.14.1->chempy) (0.8.2)\n",
      "Requirement already satisfied: wcwidth in /opt/conda/lib/python3.9/site-packages (from prompt-toolkit!=3.0.0,!=3.0.1,<3.1.0,>=2.0.0->ipython>=5.0.0->ipykernel->notebook->pyodesys>=0.14.1->chempy) (0.2.5)\n",
      "Requirement already satisfied: MarkupSafe>=2.0 in /opt/conda/lib/python3.9/site-packages (from jinja2->notebook->pyodesys>=0.14.1->chempy) (2.0.1)\n",
      "Requirement already satisfied: testpath in /opt/conda/lib/python3.9/site-packages (from nbconvert->notebook->pyodesys>=0.14.1->chempy) (0.5.0)\n",
      "Requirement already satisfied: defusedxml in /opt/conda/lib/python3.9/site-packages (from nbconvert->notebook->pyodesys>=0.14.1->chempy) (0.7.1)\n",
      "Requirement already satisfied: mistune<2,>=0.8.1 in /opt/conda/lib/python3.9/site-packages (from nbconvert->notebook->pyodesys>=0.14.1->chempy) (0.8.4)\n",
      "Requirement already satisfied: jupyterlab-pygments in /opt/conda/lib/python3.9/site-packages (from nbconvert->notebook->pyodesys>=0.14.1->chempy) (0.1.2)\n",
      "Requirement already satisfied: pandocfilters>=1.4.1 in /opt/conda/lib/python3.9/site-packages (from nbconvert->notebook->pyodesys>=0.14.1->chempy) (1.4.2)\n",
      "Requirement already satisfied: nbclient<0.6.0,>=0.5.0 in /opt/conda/lib/python3.9/site-packages (from nbconvert->notebook->pyodesys>=0.14.1->chempy) (0.5.3)\n",
      "Requirement already satisfied: bleach in /opt/conda/lib/python3.9/site-packages (from nbconvert->notebook->pyodesys>=0.14.1->chempy) (3.3.0)\n",
      "Requirement already satisfied: entrypoints>=0.2.2 in /opt/conda/lib/python3.9/site-packages (from nbconvert->notebook->pyodesys>=0.14.1->chempy) (0.3)\n",
      "Requirement already satisfied: nest-asyncio in /opt/conda/lib/python3.9/site-packages (from nbclient<0.6.0,>=0.5.0->nbconvert->notebook->pyodesys>=0.14.1->chempy) (1.5.1)\n",
      "Requirement already satisfied: async-generator in /opt/conda/lib/python3.9/site-packages (from nbclient<0.6.0,>=0.5.0->nbconvert->notebook->pyodesys>=0.14.1->chempy) (1.10)\n",
      "Requirement already satisfied: jsonschema!=2.5.0,>=2.4 in /opt/conda/lib/python3.9/site-packages (from nbformat->notebook->pyodesys>=0.14.1->chempy) (3.2.0)\n",
      "Requirement already satisfied: attrs>=17.4.0 in /opt/conda/lib/python3.9/site-packages (from jsonschema!=2.5.0,>=2.4->nbformat->notebook->pyodesys>=0.14.1->chempy) (21.2.0)\n",
      "Requirement already satisfied: pyrsistent>=0.14.0 in /opt/conda/lib/python3.9/site-packages (from jsonschema!=2.5.0,>=2.4->nbformat->notebook->pyodesys>=0.14.1->chempy) (0.17.3)\n",
      "Requirement already satisfied: webencodings in /opt/conda/lib/python3.9/site-packages (from bleach->nbconvert->notebook->pyodesys>=0.14.1->chempy) (0.5.1)\n",
      "Requirement already satisfied: packaging in /opt/conda/lib/python3.9/site-packages (from bleach->nbconvert->notebook->pyodesys>=0.14.1->chempy) (20.9)\n",
      "Installing collected packages: numpy\n",
      "  Attempting uninstall: numpy\n",
      "    Found existing installation: numpy 1.24.2\n",
      "    Uninstalling numpy-1.24.2:\n",
      "      Successfully uninstalled numpy-1.24.2\n",
      "Successfully installed numpy-1.22.4\n",
      "Requirement already satisfied: periodictable in /opt/conda/lib/python3.9/site-packages (1.6.1)\n",
      "Requirement already satisfied: numpy in /opt/conda/lib/python3.9/site-packages (from periodictable) (1.22.4)\n",
      "Requirement already satisfied: pyparsing in /opt/conda/lib/python3.9/site-packages (from periodictable) (2.4.7)\n",
      "Requirement already satisfied: PyAstronomy in /opt/conda/lib/python3.9/site-packages (0.18.1)\n",
      "Requirement already satisfied: six in /opt/conda/lib/python3.9/site-packages (from PyAstronomy) (1.16.0)\n",
      "Requirement already satisfied: quantities in /opt/conda/lib/python3.9/site-packages (from PyAstronomy) (0.14.1)\n",
      "Requirement already satisfied: bidict in /opt/conda/lib/python3.9/site-packages (from PyAstronomy) (0.22.1)\n",
      "Requirement already satisfied: numpy in /opt/conda/lib/python3.9/site-packages (from PyAstronomy) (1.22.4)\n",
      "Requirement already satisfied: scipy in /opt/conda/lib/python3.9/site-packages (from PyAstronomy) (1.6.3)\n",
      "Requirement already satisfied: molmass in /opt/conda/lib/python3.9/site-packages (2022.12.9)\n",
      "Requirement already satisfied: rdkit in /opt/conda/lib/python3.9/site-packages (2022.9.4)\n",
      "Requirement already satisfied: Pillow in /opt/conda/lib/python3.9/site-packages (from rdkit) (8.2.0)\n",
      "Requirement already satisfied: numpy in /opt/conda/lib/python3.9/site-packages (from rdkit) (1.22.4)\n",
      "Requirement already satisfied: astropy in /opt/conda/lib/python3.9/site-packages (5.2.1)\n",
      "Requirement already satisfied: PyYAML>=3.13 in /opt/conda/lib/python3.9/site-packages (from astropy) (5.4.1)\n",
      "Requirement already satisfied: packaging>=19.0 in /opt/conda/lib/python3.9/site-packages (from astropy) (20.9)\n",
      "Requirement already satisfied: numpy>=1.20 in /opt/conda/lib/python3.9/site-packages (from astropy) (1.22.4)\n",
      "Requirement already satisfied: pyerfa>=2.0 in /opt/conda/lib/python3.9/site-packages (from astropy) (2.0.0.1)\n",
      "Requirement already satisfied: pyparsing>=2.0.2 in /opt/conda/lib/python3.9/site-packages (from packaging>=19.0->astropy) (2.4.7)\n",
      "Requirement already satisfied: mendeleev in /opt/conda/lib/python3.9/site-packages (0.12.1)\n",
      "Requirement already satisfied: six<2.0.0,>=1.15.0 in /opt/conda/lib/python3.9/site-packages (from mendeleev) (1.16.0)\n",
      "Requirement already satisfied: numpy<2.0,>=1.21 in /opt/conda/lib/python3.9/site-packages (from mendeleev) (1.22.4)\n",
      "Requirement already satisfied: SQLAlchemy<2.0.0,>=1.4.0 in /opt/conda/lib/python3.9/site-packages (from mendeleev) (1.4.15)\n",
      "Requirement already satisfied: colorama<0.5.0,>=0.4.4 in /opt/conda/lib/python3.9/site-packages (from mendeleev) (0.4.6)\n",
      "Requirement already satisfied: pandas>=0.25.0 in /opt/conda/lib/python3.9/site-packages (from mendeleev) (1.2.4)\n",
      "Requirement already satisfied: pyfiglet<0.9,>=0.8.post1 in /opt/conda/lib/python3.9/site-packages (from mendeleev) (0.8.post1)\n",
      "Requirement already satisfied: Pygments<3.0.0,>=2.8.0 in /opt/conda/lib/python3.9/site-packages (from mendeleev) (2.9.0)\n",
      "Requirement already satisfied: python-dateutil>=2.7.3 in /opt/conda/lib/python3.9/site-packages (from pandas>=0.25.0->mendeleev) (2.8.1)\n",
      "Requirement already satisfied: pytz>=2017.3 in /opt/conda/lib/python3.9/site-packages (from pandas>=0.25.0->mendeleev) (2021.1)\n",
      "Requirement already satisfied: greenlet!=0.4.17 in /opt/conda/lib/python3.9/site-packages (from SQLAlchemy<2.0.0,>=1.4.0->mendeleev) (1.1.0)\n"
     ]
    }
   ],
   "source": [
    "!pip install chempy\n",
    "!pip install periodictable\n",
    "!pip install PyAstronomy\n",
    "!pip install molmass\n",
    "!pip install rdkit\n",
    "!pip install astropy\n",
    "!pip install mendeleev\n",
    "\n",
    "\n",
    "import periodictable as pt\n",
    "import chempy as ch\n",
    "import numpy as np\n",
    "import sympy as sp\n",
    "import molmass as mm\n",
    "import pickle\n",
    "from IPython.display import HTML\n",
    "import ipywidgets as widgets\n",
    "import matplotlib as mpl\n",
    "import matplotlib.pyplot as plt\n",
    "from mpl_toolkits.mplot3d import Axes3D\n",
    "import matplotlib.pyplot as plt\n",
    "mpl.rcParams['legend.fontsize'] = 10\n",
    "import pandas as pd\n",
    "import itertools\n",
    "pd.set_option('display.max_colwidth', None)\n",
    "from sympy.plotting import plot \n",
    "from IPython.display import Image\n",
    "from PyAstronomy import pyasl\n",
    "import decimal\n",
    "import mendeleev as me\n",
    "\n",
    "from sympy.physics.units.systems import SI\n",
    "from rdkit import Chem\n",
    "from rdkit.Chem import Draw\n",
    "# from astropy import units as u\n",
    "import sympy.physics.units as u\n",
    "import scipy as scp\n",
    "\n",
    "from sympy.physics.units import speed_of_light, meter, gram, second, day, pound\n",
    "from sympy.physics.units import mile, newton, kilogram, atomic_mass_constant\n",
    "from sympy.physics.units import kilometer, centimeter, millimeter, nanometer\n",
    "from sympy.physics.units import gravitational_constant, hbar, kPa, newton\n",
    "from sympy.physics.units import convert_to\n",
    "\n",
    "def RTL(e):\n",
    "    \"\"\"INPUT PARAMS: [] of math expressions\"\"\"\n",
    "    latex_rendering = []\n",
    "\n",
    "    for i in range(len(e)):\n",
    "        latex_rendering.append(\"$\" + sp.latex(e[i]) + \"$ &nbsp;&nbsp;\")\n",
    "    \n",
    "    return(HTML(\"\".join(latex_rendering[0:])))\n",
    "\n",
    "def BalanceChemEquation(L, R):\n",
    "    \"\"\" INPUT PARAMS: 2 * {} containing react and prod\"\"\"\n",
    "    reac, prod = ch.balance_stoichiometry(L, R)\n",
    "    Reaction = ch.Reaction(reac, prod)\n",
    "    return([Reaction, [reac, prod]])\n",
    "    \n"
   ]
  },
  {
   "cell_type": "markdown",
   "id": "1b334058-2a74-4d58-8a37-9b1cebc80eb4",
   "metadata": {},
   "source": [
    "####  4.1 - 4.5\n",
    "\n",
    "These are visual questions. \n",
    "\n",
    "But note: \n",
    "\n",
    "- weak electrolyte is characterised by fewer ions form when molecultes\n",
    "- strong electrolyte is when all molecultes break up into ions when they dissolve\n",
    "\n",
    "Note that CH3COOH is a weak acid because it has a lower ion concentration and HBr is a strong acid, higher ion concentration"
   ]
  },
  {
   "cell_type": "markdown",
   "id": "09895607-e16d-4e15-b72e-1c35a4f0b1b6",
   "metadata": {},
   "source": [
    "##### 4.5\n",
    "\n",
    "You are presented with a white solid without a label. \n",
    "\n",
    "Maybe its barium chloride, lead chloride, or zinc chloride. \n",
    "\n",
    "When you put into water, the solid dissolves to give a clear solution. \n",
    "\n",
    "Next, a Na2SO4(aq) solution is added. A white precipitate forms. \n",
    "\n",
    "What is the identity of the unknown white solid?"
   ]
  },
  {
   "cell_type": "markdown",
   "id": "b5e07aa4-a25e-42e2-96c0-e337787adaca",
   "metadata": {},
   "source": [
    "##### Answer: \n",
    "\n",
    "To answer this, get each of the formulas of what has been given: \n",
    "- barium chloride\n",
    "- lead chloride\n",
    "- zinc chloride\n",
    "\n",
    "They are: \n",
    "- BaCl2\n",
    "- PbCl₂\n",
    "- ZnCl₂\n",
    "\n",
    "Note that these are ionic compounds. \n",
    "\n",
    "First, check if soluble in H20. From the solubility rules, note that PbCl2 is not soluble in water. \n",
    "\n",
    "This means after adding H20, it can only be: \n",
    "- BaCl2 \n",
    "- ZnCl2\n",
    "\n",
    "Now create a reaction with Sodium Sulphate (NaSO4). \n",
    "\n",
    "Again, check the solubility rules. Note that BaSO4 which forms from the reaction is insoluable and thus a precipitate\n",
    "\n",
    "This question is all about memorising standard things which are known about reactions"
   ]
  },
  {
   "cell_type": "markdown",
   "id": "2a98c3e1-e7b7-4545-a8df-a87691a3f8d5",
   "metadata": {},
   "source": [
    "##### 4.6\n",
    "Note that ions in aqueous solution are stabilized\n",
    "by the attractions between the ions and the water molecules.\n",
    "\n",
    "So then do some pairs of ions in solution form precipitates?\n"
   ]
  },
  {
   "cell_type": "markdown",
   "id": "4a60d1d6-1190-4e42-8c90-e6ad38ac34d7",
   "metadata": {},
   "source": [
    "##### Answer: \n",
    "\n",
    "Precipitation happens when pairs of oppositely charged ions attract each other so strongly that they form an insoluble ionic solid. They cannot be surounded and seperated. So - attraction outweighs stabilization offered by individual ions"
   ]
  },
  {
   "cell_type": "markdown",
   "id": "33684c36-d0dd-4435-ab53-8d061bf06093",
   "metadata": {},
   "source": [
    "#### 4.7\n",
    "\n",
    "Which of the following ions will always be a spectator ion in a\n",
    "precipitation reaction? \n",
    "\n",
    "(a) Cl [-], \n",
    "\n",
    "(b) NO3[-], \n",
    "\n",
    "(c) NH4[+] , \n",
    "\n",
    "(d) S2[-],\n",
    "\n",
    "(e)SO4[2-]"
   ]
  },
  {
   "cell_type": "markdown",
   "id": "fa1fb293-6564-4bb2-b186-e66a9ae09c4e",
   "metadata": {},
   "source": [
    "##### Answer: \n",
    "\n",
    "Note that if ions cannot form precipitates, they will always be spectator ions\n",
    "\n",
    "(a) Cl-: Can only form precipiates with Ag+, Hg+2, Pg+2\n",
    "\n",
    "(b) NO3- never forms precipitates, so is always a spectator ions\n",
    "\n",
    "(c) NH4+ never forms precipitates, so is always a spectator ion\n",
    "\n",
    "(d) S2 usually forms precipitates (exceptions are alkali metals, ammonium ion). So will not be a spectator ion \n",
    "\n",
    "(e) SO4+2 can form precipitates with Ba, Hg, Pb, Sr \n",
    "\n",
    "This question just requires you to know the solubility rules"
   ]
  },
  {
   "cell_type": "markdown",
   "id": "2e64a686-b105-44c9-a630-8ead4358e0f8",
   "metadata": {},
   "source": [
    "##### 4.8\n",
    "\n",
    "The labels have fallen off three bottles containing powdered\n",
    "samples of metals; one contains zinc, one lead, and the other\n",
    "platinum. You have three solutions at your disposal: 1 M\n",
    "sodium nitrate, 1 M nitric acid, and 1 M nickel nitrate. How\n",
    "could you use these solutions to determine the identities of\n",
    "each metal powder? "
   ]
  },
  {
   "cell_type": "markdown",
   "id": "328f9c42-5789-4279-af9e-84449b1e9c9c",
   "metadata": {},
   "source": [
    "##### Answer:\n",
    "\n",
    "To answer this, use the activity series of metals. Note that oxidation is a chemical reaction that takes place when a substance comes into contact with oxygen or another oxidizing substance (i.e. rust, cut apple)\n",
    "\n",
    "The activity table states that any metal on the list can be oxidised by the ions of elements below it. \n",
    "\n",
    "Get the formulas\n",
    "\n",
    "- Sodium Nitrate (NaNO3)\n",
    "- Nitric Acid (HNO3)\n",
    "- Nickel Nitrate (Ni(NO3)2)\n",
    "\n",
    "Note that the nitric acid will in an aquues solution will disolve Zn and Pg which appear above\n",
    "\n",
    "Nitric acid will not disolve platinum. \n",
    "\n",
    "So now we we know if it is either platinum, or (Zinc or Lead)\n",
    "\n",
    "To find if Zinc or Lead, note twe have Nickel nitrate. This will dissolve iron but not lead. \n",
    "\n",
    "So we thus know which is which. \n",
    "\n",
    "This question is just about memorising the Activity series, and which ions will be formed in aqueous solution by a metal, and how these ions will then dissolve metals higher in the list\n"
   ]
  },
  {
   "cell_type": "markdown",
   "id": "1766be4c-84f4-4dd5-b246-92088f1e6483",
   "metadata": {},
   "source": [
    "#### 4.9\n",
    "\n",
    "Explain how a redox reaction involves electrons in the same\n",
    "way that a neutralization reaction involves protons."
   ]
  },
  {
   "cell_type": "markdown",
   "id": "231cc28d-6003-4004-8adc-032a30e965c0",
   "metadata": {},
   "source": [
    "##### Answer: \n",
    "\n",
    "In an redox reactin, one reactant loses electrons, another gains electrons. \n",
    "\n",
    "Electrons get transferred between reactants\n",
    "\n",
    "Note that acids are reactants that ionise in aqeous solution to produce/donate H+ ions. Bases are substances that react with or accept H+ ions\n",
    "\n",
    "Redox reactions are characterised by tracking electron transfer using oxidisatin nubmers\n",
    "\n",
    "Acid-base reactins are charactersied by tracking H+ proton transfer via molecular formulas\n",
    "\n",
    "Nothing difficult here, but you should know how to calculate oxidation numbers"
   ]
  },
  {
   "cell_type": "markdown",
   "id": "347b7618-9e4e-4dea-abc4-2daa038e08d2",
   "metadata": {},
   "source": [
    "##### 4.10\n",
    "\n",
    "If you want to double the concentration of a solution, how\n",
    "could you do it? "
   ]
  },
  {
   "cell_type": "markdown",
   "id": "2584df18-c7aa-4896-a495-4e442f5b4bea",
   "metadata": {},
   "source": [
    "##### Answer: \n",
    "\n",
    "Nothing fancy to answer there. \n",
    "\n",
    "Concentration is ratio of solute to solution\n",
    "\n",
    "Double the amount of solute but keep volume the same will do it. "
   ]
  },
  {
   "cell_type": "markdown",
   "id": "a63dc8e7-5b48-4a90-96fe-d3f8f54edf83",
   "metadata": {},
   "source": [
    "##### 4.11\n",
    "\n",
    "What causes electrolyte solutions to conduct electricity?"
   ]
  },
  {
   "cell_type": "markdown",
   "id": "b5b07701-bfff-46bc-bd2b-c94328a39f5d",
   "metadata": {},
   "source": [
    "##### Answer: \n",
    "\n",
    "Electricity is condcuted because dissolved ions carry charge through solution, from one electrode to the other"
   ]
  },
  {
   "cell_type": "markdown",
   "id": "7e703d91-27a3-4349-8973-da7c0354fca5",
   "metadata": {},
   "source": [
    "##### 4.12\n",
    "\n",
    "If CH3OH, is dissolved in water -> nonconducting solution results. \n",
    "\n",
    "If acetic acid CH3COOH, dissolves in water - the solution is weakly conducting and acidic. \n",
    "\n",
    "Explain the difference. "
   ]
  },
  {
   "cell_type": "markdown",
   "id": "62e8c312-42eb-4889-99f7-e04c6b48ac70",
   "metadata": {},
   "source": [
    "#####  Answer: \n",
    "\n",
    "This means that CH3OH molecules are dispersed in solution and don't break up\n",
    "\n",
    "In the case of CH3OOH, mostly neutral are dispersed, but get some H+ ions which will end up carring some charge. \n",
    "\n",
    "Note this question just asks for the meaning of non conducting vs. weakly conducting"
   ]
  },
  {
   "cell_type": "markdown",
   "id": "326ce173-eb9e-4df7-978a-cb31d59920f8",
   "metadata": {},
   "source": [
    "##### 4.13\n",
    "\n",
    "Note that many ionic solids dissolve in water as strong electrolytes\n",
    "\n",
    "What properties of water facilitate this process? \n",
    "\n",
    "Would you expect them to be soluble in elemental liquids\n",
    "like bromine or mercury?"
   ]
  },
  {
   "cell_type": "markdown",
   "id": "5aac8a13-d6c4-4f57-9c37-218fae5d5580",
   "metadata": {},
   "source": [
    "##### Answer: \n",
    "\n",
    "Note that H2O molecules have polarity even though they are neautral \n",
    "\n",
    "More electrons near O, less near H\n",
    "\n",
    "Thus both cations and ions in ionic solids tend to be surrounded and seperated by H2O molecules. \n",
    "\n",
    "So water pulls them apart. \n",
    "\n",
    "In Hg and Br, this doesn't happen - no attractive forces to stablise the seperated ions"
   ]
  },
  {
   "cell_type": "markdown",
   "id": "201258e8-7369-4f46-9d71-3debff93c753",
   "metadata": {},
   "source": [
    "##### 4.14\n",
    "\n",
    "What does it mean to say that ions are solvated when an ionic\n",
    "substance dissolves in water?"
   ]
  },
  {
   "cell_type": "markdown",
   "id": "b2673da2-7815-419d-8f48-05a4951727d2",
   "metadata": {},
   "source": [
    "##### Answer: \n",
    "\n"
   ]
  },
  {
   "cell_type": "markdown",
   "id": "22cd1e86-6e14-4ee5-aa0c-8df7d97e9915",
   "metadata": {},
   "source": [
    "It means that they have been surrounded by H2O molecules (or more generally, solvent molecules)"
   ]
  },
  {
   "cell_type": "markdown",
   "id": "453b43f7-50ab-4aee-a826-958a37a0932a",
   "metadata": {},
   "source": [
    "##### 4.15\n",
    "\n",
    "Specify what ions are present in solution upon dissolving each\n",
    "of the following substances in water: \n",
    "\n",
    "(a) ZnCl2, \n",
    "\n",
    "(b) HNO3,\n",
    "\n",
    "(c) (NH4)2SO4, \n",
    "\n",
    "(d) Ca(OH)2."
   ]
  },
  {
   "cell_type": "markdown",
   "id": "779104bf-d065-42d6-9a8d-d105cfb19f81",
   "metadata": {},
   "source": [
    "##### Answer: \n",
    "\n",
    "Just asking for ions here. Note you want to add charges, and charges should add to 0. Because it is comeing from a neutral molecule (I think!)\n",
    "\n",
    "(a) ZnCl2 -> Zn+2 + 2Cl-1 \n",
    "\n",
    "(b) HNO3 -> H+1 + NO3-1\n",
    "\n",
    "(c) (NH4)2SO4 ->  2(NH4)+1   + 2SO4-2\n",
    "\n",
    "(d) Ca(OH)2 ->    Ca+2  2(OH)-1\n",
    "\n",
    "Note some are polyatomic ions that you need to memorise, others, like Ca, are just elements that want to ionise"
   ]
  },
  {
   "cell_type": "markdown",
   "id": "5e049c2f-3e12-45ed-bb48-55ca17be58fa",
   "metadata": {},
   "source": [
    "##### 4.16\n",
    "\n",
    "Specify what ions are present upon dissolving each of the following substances in water: \n",
    "\n",
    "(a) MgI2, \n",
    "\n",
    "(b) Al(NO3)3,\n",
    "\n",
    "(c) HClO4, \n",
    "\n",
    "(d) NaCH3COO."
   ]
  },
  {
   "cell_type": "markdown",
   "id": "6ed5a3ca-4d6f-4b07-bddc-9aa0055b274e",
   "metadata": {},
   "source": [
    "##### Answer: \n",
    "\n",
    "(a) MgI2 -> Mg+2 + 2I2-1\n",
    "\n",
    "(b) Al(NO3)3 -> Al+3 + (NO3)3-1\n",
    "\n",
    "(c) HClO4 -> H+1 + ClO4-1\n",
    "\n",
    "(d) NaCH3COO -> Na+1 + CH3OO-1\n",
    "\n",
    "Don't forget, when ions arise from being dissolved, they still need to have come from a compound that is overall neutral. "
   ]
  },
  {
   "cell_type": "markdown",
   "id": "61f69676-b40d-4f76-a9e2-6b8b0746208b",
   "metadata": {},
   "source": [
    "##### 4.17 \n",
    "\n",
    "Formic acid, HCOOH, is a weak electrolyte.\n",
    "\n",
    "What solute particles are present in an aqueous solution of this compound?\n",
    "\n",
    "\n",
    "What is chemical equation for the ionization of HCOOH."
   ]
  },
  {
   "cell_type": "markdown",
   "id": "1a2e34c5-4aa7-4081-b57d-c067aaa5d55b",
   "metadata": {},
   "source": [
    "##### Answer: \n",
    "\n",
    "The solute particles are what we find when the mixture has happened. \n",
    "\n",
    "It is a weak electrolyte, so the particles will be: \n",
    "\n",
    "- Some neutral HCOOH\n",
    "- Some H+ cations\n",
    "- Some HCOO- anions (Formate)\n",
    "\n",
    "The chemical equation is: \n",
    "\n",
    "HCOOH -> H+ + HCOO-\n"
   ]
  },
  {
   "cell_type": "markdown",
   "id": "e38229d0-95f3-4cd3-ba4f-5f1011bfd318",
   "metadata": {},
   "source": [
    "##### 4.18\n",
    "\n",
    "Acetone, CH3COCH3, is a nonelectrolyte hypochlorous acid.\n",
    "\n",
    "HClO, is a weak electrolyte, \n",
    "\n",
    "Ammonium chloride, NH4Cl is a strong electrolyte. \n",
    "\n",
    "(a) What are the solute particles present in aqueous solutions of each compound? \n",
    "\n",
    "(b) If 0.1 mol of each compound is dissolved in solution, which one contains\n",
    "0.2 mol of solute particles, which contains 0.1 mol of solute\n",
    "particles, and which contains somewhere between 0.1 and\n",
    "0.2 mol of solute particles?"
   ]
  },
  {
   "cell_type": "markdown",
   "id": "8f4d8e82-0e55-4e4e-a075-a4af2f55a328",
   "metadata": {},
   "source": [
    "##### Answer: \n",
    "\n",
    "\n",
    "(a) CH3COCH3 -> CH3COCH3 (Note that it on't break up)\n",
    "\n",
    " HCLO -> HCLO + H+ CLO-  \n",
    "\n",
    " NH4Cl -> NH4+ + Cl-\n",
    "\n",
    "Note this just comes down to knowing standard polyatomic ions and thier charges\n",
    "\n",
    "(b) .1 mol of CH3COCH3 -> .1 mol of solute particles\n",
    "\n",
    ".1 mol of HCLO -> between .1 and .2 mols of solute particles\n",
    "\n",
    ".1 mol of NH4Cl -> .2 mols of solute particles\n",
    "\n",
    "Note that .1 mol of a strong electrolyte will break the ionic compound, and end up as 1 mol of NH4 ion and 1 mol of Cl"
   ]
  },
  {
   "cell_type": "markdown",
   "id": "03c9ca36-2d07-4fa3-9048-e0c23f1d5c2f",
   "metadata": {},
   "source": [
    "##### 4.19\n",
    "\n",
    "Predict whether the following compounds are soluble or insoluble in water: \n",
    "\n",
    "(a) MgBr2,\n",
    "\n",
    "(b) PbI2, \n",
    "\n",
    "(c) (NH4)2CO3, \n",
    "\n",
    "(d) Sr(OH)2, \n",
    "\n",
    "(e) ZnSO4.\n"
   ]
  },
  {
   "cell_type": "markdown",
   "id": "6a704116-dde8-4a33-a20e-50252d49a6e0",
   "metadata": {},
   "source": [
    "##### Answer: \n",
    "\n",
    "(a) MgBr2 -> Soluable\n",
    "\n",
    "(b) PbI2 -> Not soluble\n",
    "\n",
    "(c) (NH4)2CO3 -> Soluble, Ammonium compounds are soluable\n",
    "\n",
    "d) Sr(OH)2 -> Soluble\n",
    "\n",
    "(e) ZnSO4 -> Soluble\n",
    "\n",
    "\n",
    "Note there are standard rules of solubility to consider, but also to consider is just how elements ionise. So MgBr2 -> Mg+2 + Br2-1 is soluble"
   ]
  },
  {
   "cell_type": "markdown",
   "id": "361fe419-ec38-4a76-8185-45a23fdad8d1",
   "metadata": {},
   "source": [
    "##### 4.20\n",
    "\n",
    "Predict whether each of the following compounds is soluble\n",
    "in water: \n",
    "\n",
    "(a) AgI, \n",
    "\n",
    "(b) Na2CO3, \n",
    "\n",
    "(c) BaCl2, \n",
    "\n",
    "(d) Al(OH)3,\n",
    "\n",
    "(e) Zn(CH3COO)2."
   ]
  },
  {
   "cell_type": "markdown",
   "id": "a8e746d0-85f6-4412-b8f6-f46f3139b6e6",
   "metadata": {},
   "source": [
    "##### Answer: \n",
    "\n",
    "(a) AgI - not soluble\n",
    "\n",
    "(b) Na2CO3 - soluble. This is an exception, usually insoluble but has an alkaline metal\n",
    "\n",
    "(c) BaCl2 - this is soluble, based on its ionisation in aqueous solution\n",
    "\n",
    "(d) Al(OH)3 Not soluble\n",
    "\n",
    "(e) Zn(CH3COO)2. Soluble\n",
    "\n",
    "Note that last example not completely clear. Why does Zinc ionise with this \n",
    "polyatomic ion?"
   ]
  },
  {
   "cell_type": "markdown",
   "id": "fefdbc71-b6d0-4f73-91b1-875c0f4dc4c2",
   "metadata": {},
   "source": [
    "##### 4.21\n",
    "\n",
    "Will precipitation occur when the following solutions are\n",
    "mixed? If so, write a balanced chemical equation for the reaction. \n",
    "\n",
    "(a) Na2CO3 and AgNO3, \n",
    "\n",
    "(b) NaNO3 and NiSO4,\n",
    "\n",
    "(c) FeSO4 and Pb(NO3)2.\n"
   ]
  },
  {
   "cell_type": "markdown",
   "id": "b3fed185-c22a-4260-842c-05506d95f7e8",
   "metadata": {},
   "source": [
    "#### Answer: \n",
    "\n",
    "Note this relates to when Cations and anions appear change partners in reaction\n",
    "\n",
    "Strategy is to find Balanced equation first, then figure out if precipitate base don properties. Use exchange reaction strategy\n",
    "\n",
    "First, find out what ions the reactants contain\n",
    "\n",
    "- Na2+1CO3-2 + AgNO3-1\n",
    "\n",
    "Now do an exchange reaction and note that on exchange, the ions my equal eachother\n",
    "\n",
    "- Na2+1CO3-2 + AgNO3-1 -> 2NaNO3 + Ag2CO3\n",
    "\n"
   ]
  },
  {
   "cell_type": "code",
   "execution_count": 7,
   "id": "73f6efbb-66b3-446b-9781-aa2cd409988c",
   "metadata": {},
   "outputs": [
    {
     "data": {
      "text/html": [
       "2 AgNO3 + Na2CO3 &rarr; Ag2CO3 + 2 NaNO3"
      ],
      "text/plain": [
       "<chempy.chemistry.Reaction at 0x7f97a8bdfe80>"
      ]
     },
     "execution_count": 7,
     "metadata": {},
     "output_type": "execute_result"
    }
   ],
   "source": [
    "# check the Balanced equation\n",
    "\n",
    "BalanceChemEquation({\"Na2CO3\", \"AgNO3\"}, {\"NaNO3\", \"Ag2CO3\" })[0]"
   ]
  },
  {
   "cell_type": "markdown",
   "id": "3c7410b1-b58c-43ba-8179-368dd5c74593",
   "metadata": {},
   "source": [
    "Now check which of the products is the precipitate. Sodium Nitrate is soluble. AgCO3 is insoluble"
   ]
  },
  {
   "cell_type": "markdown",
   "id": "125b31b9-69c1-4deb-8e80-c909fece8188",
   "metadata": {},
   "source": [
    "(b) NaNO3 and NiSO4\n",
    "\n",
    "Find the ions of each \n",
    "\n",
    "- Na+1\n",
    "- NO3-1\n",
    "- Ni+1 - note that this comes from a balanced ionic compound, so you can find the ionisation even though it is not specified on the periodic table\n",
    "- SO4-2\n",
    "\n",
    "Now undertake an exchange reaction and balance ions\n",
    "\n",
    "NaNO3 + NiSO4 -> Na2SO4 + Ni(NO3)2\n",
    "\n",
    "Check the balanced equation"
   ]
  },
  {
   "cell_type": "code",
   "execution_count": 8,
   "id": "a347e1bd-a001-4f33-9edd-f679f93478e5",
   "metadata": {},
   "outputs": [
    {
     "data": {
      "text/html": [
       "2 NaNO3 + NiSO4 &rarr; Na2SO4 + Ni(NO3)2"
      ],
      "text/plain": [
       "<chempy.chemistry.Reaction at 0x7f97a2338880>"
      ]
     },
     "execution_count": 8,
     "metadata": {},
     "output_type": "execute_result"
    }
   ],
   "source": [
    "BalanceChemEquation({\"NaNO3\", \"NiSO4\"}, {\"Na2SO4\", \"Ni(NO3)2\"})[0]"
   ]
  },
  {
   "cell_type": "markdown",
   "id": "02b0a48f-83df-4e1c-ba44-9fb7f029d77d",
   "metadata": {},
   "source": [
    "Note that balancing of the equation is a seperate issues ot ionisation of each compound\n",
    "\n",
    "Both products are soluble\n",
    "\n",
    "(c) FeSO4 and Pb(NO3)2\n",
    "\n",
    "Start by understanding the ionization of the ionic compounds\n",
    "\n",
    "- Fe+2\n",
    "- SO4-2\n",
    "- Pb+2\n",
    "- NO3(2)-1\n",
    "\n",
    "FeSO4 and Pb(NO3)2 -> Fe(NO3)2 + PbSO4\n",
    "\n",
    "Validate the equation"
   ]
  },
  {
   "cell_type": "code",
   "execution_count": 9,
   "id": "b85695c8-af2f-4cb6-add8-407d9a2b2a1a",
   "metadata": {},
   "outputs": [
    {
     "data": {
      "text/html": [
       "FeSO4 + Pb(NO3)2 &rarr; Fe(NO3)2 + PbSO4"
      ],
      "text/plain": [
       "<chempy.chemistry.Reaction at 0x7f97a24b2eb0>"
      ]
     },
     "execution_count": 9,
     "metadata": {},
     "output_type": "execute_result"
    }
   ],
   "source": [
    "BalanceChemEquation({\"FeSO4\", \"Pb(NO3)2\"}, {\"Fe(NO3)2\", \"PbSO4\"})[0]"
   ]
  },
  {
   "cell_type": "markdown",
   "id": "798e6abd-15f4-4c58-a444-a9d2f5378045",
   "metadata": {},
   "source": [
    "Now check which products are soluable using the rules\n",
    "\n",
    "PbSO4 is an exeption, and is insoluble\n",
    "\n",
    "Fe(NO3)2 is soluble as all Nitrates are soluble"
   ]
  },
  {
   "cell_type": "markdown",
   "id": "83d5d5c5-d47d-4109-8f41-5d8ca03e43fd",
   "metadata": {},
   "source": [
    "##### 4.22\n",
    "\n",
    "Identify the precipitate (if any) that forms when the following\n",
    "solutions are mixed, and write a balanced equation for each\n",
    "reaction. \n",
    "\n",
    "(a) NaCH3COO and HCl, \n",
    "\n",
    "(b) KOH and Cu(NO3)2,\n",
    "\n",
    "(c) Na2S and CdSO4.\n"
   ]
  },
  {
   "cell_type": "markdown",
   "id": "23d3087d-3426-477d-9fbd-793b84e4fec8",
   "metadata": {},
   "source": [
    "(a) NaCH3COO and HCl,\n",
    "\n",
    "Start be identifying the ionisations\n",
    "\n",
    "- Na +1\n",
    "- CH3COO or C2H3O2 -1\n",
    "- H +1\n",
    "- Cl-1\n",
    "\n",
    "Now undertake the exange reaction making sure ionisation is still balanced\n",
    "\n",
    "NaCH3COO + HCl -> NaCl + H4C2O2\n",
    "\n",
    "Now validate the reaction"
   ]
  },
  {
   "cell_type": "code",
   "execution_count": 11,
   "id": "0b754ec5-c40c-43cd-b639-f9726b65e72b",
   "metadata": {},
   "outputs": [
    {
     "data": {
      "text/html": [
       "HCl + NaCH3COO &rarr; HCH3COO + NaCl"
      ],
      "text/plain": [
       "<chempy.chemistry.Reaction at 0x7f97a28dd310>"
      ]
     },
     "execution_count": 11,
     "metadata": {},
     "output_type": "execute_result"
    }
   ],
   "source": [
    "BalanceChemEquation({\"NaCH3COO\", \"HCl\"}, {\"NaCl\", \"HCH3COO\"})[0]"
   ]
  },
  {
   "cell_type": "markdown",
   "id": "94e357e8-80a1-4517-8091-2d8e7d7566be",
   "metadata": {},
   "source": [
    "Now check if any precipitates have been formed\n",
    "\n",
    "Note that NaCl is not a precipitate\n",
    "Note that CH3COOH is not a precipitate\n",
    "\n",
    "(b) KOH and Cu(NO3)2\n",
    "\n",
    "Find the charges on the ionic compounds\n",
    "\n",
    "- K+1\n",
    "- OH-1\n",
    "- Cu+2\n",
    "- (NO3)2-1\n",
    "\n",
    "Now undertake the rreaction\n",
    "\n",
    "KOH + Cu(NO3)2 -> 2K(NO3) + Cu(OH)2\n",
    "\n",
    "Note this solves the ions problem but it is an unbalanced equation. Fix this\n"
   ]
  },
  {
   "cell_type": "code",
   "execution_count": 13,
   "id": "74b703a3-9d2e-42b5-857d-4cd32cecce41",
   "metadata": {},
   "outputs": [
    {
     "data": {
      "text/html": [
       "Cu(NO3)2 + 2 KOH &rarr; Cu(OH)2 + 2 K(NO3)"
      ],
      "text/plain": [
       "<chempy.chemistry.Reaction at 0x7f97a24cb2e0>"
      ]
     },
     "execution_count": 13,
     "metadata": {},
     "output_type": "execute_result"
    }
   ],
   "source": [
    "BalanceChemEquation({\"KOH\", \"Cu(NO3)2\"}, {\"K(NO3)\", \"Cu(OH)2\"})[0]"
   ]
  },
  {
   "cell_type": "markdown",
   "id": "299b3d3b-55b4-46e0-a574-3e192a9a1953",
   "metadata": {},
   "source": [
    "Now check if any of the products are precipitates\n",
    "\n",
    "Cu(OH)2 is insoluble\n",
    "\n",
    "2K(NO3) is soluble"
   ]
  },
  {
   "cell_type": "markdown",
   "id": "27faaf4c-716a-41e7-8889-55af4a49dd15",
   "metadata": {},
   "source": [
    "(c) Na2S and CdSO4.\n",
    "\n",
    "Find the ionisation charges from the compound\n",
    "\n",
    "-Na2+1\n",
    "-S-1\n",
    "-Cd+2\n",
    "-SO4-2\n",
    "\n",
    "Now create an exchange reaction where ions remain balanced\n",
    "\n",
    "Na2S + CdSO4 -> Na2O4 + S2Cd\n",
    "\n",
    "And check equation is balanced"
   ]
  },
  {
   "cell_type": "code",
   "execution_count": 14,
   "id": "438f83ac-af45-4636-be82-1ece7ee9b6c6",
   "metadata": {},
   "outputs": [
    {
     "data": {
      "text/html": [
       "CdSO4 + Na2S &rarr; Na2O4 + S2Cd"
      ],
      "text/plain": [
       "<chempy.chemistry.Reaction at 0x7f97a25f2b80>"
      ]
     },
     "execution_count": 14,
     "metadata": {},
     "output_type": "execute_result"
    }
   ],
   "source": [
    "BalanceChemEquation({\"Na2S\", \"CdSO4\"}, {\"Na2O4\", \"S2Cd\"})[0]"
   ]
  },
  {
   "cell_type": "markdown",
   "id": "9767b25f-312f-4166-ac53-54192948a8b0",
   "metadata": {},
   "source": [
    "Note there is no change. It is balanced. Now find if there are precipitates\n",
    "\n",
    "Na2O4 is from alkali metal froup so is soluble\n",
    "\n",
    "S2Cd is not soluble"
   ]
  },
  {
   "cell_type": "markdown",
   "id": "2a823620-cedc-47d0-8a9e-01caac524e86",
   "metadata": {},
   "source": [
    "##### 4.22\n",
    "\n",
    "Identify the precipitate that forms and write a balanced equation for each\n",
    "reaction. \n",
    "\n",
    "(a) NaCH3COO and HCl, \n",
    "\n",
    "(b) KOH and Cu(NO3)2,\n",
    "\n",
    "\n",
    "(c) Na2S and CdSO4."
   ]
  },
  {
   "cell_type": "markdown",
   "id": "afd8882c-1e71-49fb-9fc4-6357c872b2a8",
   "metadata": {},
   "source": [
    "##### Answer \n",
    "\n",
    "(a) NaCH3COO and HCl\n",
    "\n",
    "Find the charges of the ionic compounds\n",
    "\n",
    "- Na+1\n",
    "- C2H3O2-1\n",
    "- H+1\n",
    "- Cl-1\n",
    "\n",
    "Undertake an exchange reaction\n",
    "\n",
    "NaCH3COO + HCl -> NaCl + HCH3COO\n",
    "\n",
    "No further balancing is needed\n",
    "\n",
    "Note that NaCl is soluble\n",
    "\n",
    "Note that HCH3COO is soluble\n"
   ]
  },
  {
   "cell_type": "markdown",
   "id": "2b6a0dd1-fee0-4e69-855d-5d58aaa0a307",
   "metadata": {},
   "source": [
    "(b) KOH and Cu(NO3)2\n",
    "\n",
    "Find the charges of the ionic compounds\n",
    "\n",
    "- K+1\n",
    "- OH-1\n",
    "- Cu+2\n",
    "- (NO3)2-1\n",
    "\n",
    "Now balance in the ions\n",
    "\n",
    "KOH + Cu(NO3)2 -> 2K(NO3) + Cu(OH)2\n",
    "\n",
    "Note that equation is not balanced after ion transfer. Balance it\n"
   ]
  },
  {
   "cell_type": "code",
   "execution_count": 15,
   "id": "46453f7a-18f2-410e-b467-f0e743ae9310",
   "metadata": {},
   "outputs": [
    {
     "data": {
      "text/html": [
       "Cu(NO3)2 + 2 KOH &rarr; Cu(OH)2 + 2 K(NO3)"
      ],
      "text/plain": [
       "<chempy.chemistry.Reaction at 0x7f97a28a3b50>"
      ]
     },
     "execution_count": 15,
     "metadata": {},
     "output_type": "execute_result"
    }
   ],
   "source": [
    "BalanceChemEquation({\"KOH\", \"Cu(NO3)2\"}, {\"K(NO3)\", \"Cu(OH)2\"})[0]"
   ]
  },
  {
   "cell_type": "markdown",
   "id": "0eceb4c9-82f4-4582-87b8-2ac7e2b473fc",
   "metadata": {},
   "source": [
    "Now check if any precipitates\n",
    "\n",
    "Cu(OH)2 is insoluble, as most hydroxides are insoluble, including this one"
   ]
  },
  {
   "cell_type": "markdown",
   "id": "5df8970b-1e0d-49a2-8684-e9aabc82659f",
   "metadata": {},
   "source": [
    "##### 4.23\n",
    "\n",
    "Name the spectator ions in any reactions that may be involved with these reactions.\n",
    "\n",
    "(a) Na2CO3(aq) and MgSO4(aq)\n",
    "\n",
    "(b) Pb(NO3)2(aq) and Na2S(aq)\n",
    "\n",
    "(c) (NH4)3PO4(aq) and CaCl2(aq)"
   ]
  },
  {
   "cell_type": "markdown",
   "id": "e9973f54-a44b-4776-9002-6af72c3e9061",
   "metadata": {},
   "source": [
    "##### Answer\n",
    "\n",
    "(a) Na2CO3(aq) and MgSO4(aq)\n",
    "\n",
    "Find the ionisatinos of these compounds first \n",
    "\n",
    "- Na2+1\n",
    "- CO3-2\n",
    "- Mg+2\n",
    "- SO4-2\n",
    "\n",
    "Undertake the exchange reaction\n",
    "\n",
    "Na2CO3 + MgSO4 -> Na2SO4 + MgCO3\n",
    "\n",
    "Ionisations line up. Check equation balances"
   ]
  },
  {
   "cell_type": "code",
   "execution_count": 24,
   "id": "44ce0af6-d364-4a6b-b0b6-d1af844466e7",
   "metadata": {},
   "outputs": [
    {
     "data": {
      "text/html": [
       "MgSO4 + Na2CO3 &rarr; MgCO3 + Na2SO4"
      ],
      "text/plain": [
       "<chempy.chemistry.Reaction at 0x7f97a28b4d90>"
      ]
     },
     "execution_count": 24,
     "metadata": {},
     "output_type": "execute_result"
    }
   ],
   "source": [
    "BalanceChemEquation({\"Na2CO3\", \"MgSO4\"}, {\"Na2SO4\", \"MgCO3\"})[0]"
   ]
  },
  {
   "cell_type": "markdown",
   "id": "42fd0f13-d0a9-48b8-b588-e5a7cd1e2c4c",
   "metadata": {},
   "source": [
    "Now break up into a net ionic equation to get specator \n",
    "\n",
    "To do this, make sure know the state using solubility rules \n",
    "\n",
    "MgSO4(aq) + Na2CO3(aq) → MgCO3(s) + Na2SO4(s)\n",
    "\n",
    "Then break up aq into ions with charges\n",
    "\n",
    "Mg+2 + SO4-2 + Na2+1 + CO3-2 → MgCO3 + Na2+1 + SO4-2\n",
    "\n",
    "And find any spectator ions\n",
    "\n",
    "Mg+2 + SO4-2 + Na2+1 + CO3-2 → MgCO3 + Na2+1 + SO4-2\n",
    "\n",
    "They are Na2+1 and SO4-2"
   ]
  },
  {
   "cell_type": "markdown",
   "id": "e61b1e2d-87df-42fb-bbb3-0361990bee13",
   "metadata": {},
   "source": [
    "(b) Pb(NO3)2(aq) and Na2S(aq)\n",
    "\n",
    "Start by breaking things down into charges\n",
    "\n",
    "- Pb+2\n",
    "- (NO3)2-1\n",
    "- Na2+1\n",
    "- S-2\n",
    "\n",
    "Undertake an exchange reaction and ensure ions balance\n",
    "\n",
    "Pb(NO3)2 + Na2S -> PbS + 2(NO3)Na\n",
    "\n",
    "Check that equation is balanced"
   ]
  },
  {
   "cell_type": "code",
   "execution_count": 25,
   "id": "f0727e4b-8130-4b05-94f5-86df1bf532e4",
   "metadata": {},
   "outputs": [
    {
     "data": {
      "text/html": [
       "Na2S + Pb(NO3)2 &rarr; 2 (NO3)Na + PbS"
      ],
      "text/plain": [
       "<chempy.chemistry.Reaction at 0x7f97a24ce1c0>"
      ]
     },
     "execution_count": 25,
     "metadata": {},
     "output_type": "execute_result"
    }
   ],
   "source": [
    "BalanceChemEquation({\"Pb(NO3)2\", \"Na2S\"}, {\"PbS\", \"(NO3)Na\"})[0]"
   ]
  },
  {
   "cell_type": "markdown",
   "id": "bb31b2c4-5e1c-4838-b077-28144f16ded3",
   "metadata": {},
   "source": [
    "Check which are precipiates or aqueous\n",
    "\n",
    "Na2S(aq) + Pb(NO3)2(aq) → 2(NO3)Na(aq) + PbS(s)\n",
    "\n",
    "Now break into a balanced ionic equation \n",
    "\n",
    "2Na + S + Pb + (NO3)2 → 2(NO3) + 2Na + PbS\n",
    "\n",
    "Find spectator ions\n",
    "\n",
    "Na+, (NO3)-"
   ]
  },
  {
   "cell_type": "markdown",
   "id": "66ed6c9a-f024-4ddb-9a2a-8d246ed91b0f",
   "metadata": {},
   "source": [
    "(c) (NH4)3PO4(aq) and CaCl2(aq)\n",
    "\n",
    "Find the ionisations of the different parts of the compound\n",
    "\n",
    "- (NH4)3+1\n",
    "- PO4-3\n",
    "- Ca+2\n",
    "- Cl2-1\n",
    "\n",
    "Now create and exchange reaction\n",
    "\n",
    "(NH4)3PO4 + CaCl2 -> 6Cl(NH4) + Ca3(PO4)2\n",
    "\n",
    "And check the Balanced equation"
   ]
  },
  {
   "cell_type": "code",
   "execution_count": 26,
   "id": "e019ef7e-3b2a-4773-b9f7-20a0019a1b0d",
   "metadata": {},
   "outputs": [
    {
     "data": {
      "text/html": [
       "2 (NH4)3PO4 + 3 CaCl2 &rarr; Ca3(PO4)2 + 6 Cl(NH4)"
      ],
      "text/plain": [
       "<chempy.chemistry.Reaction at 0x7f97a24ce5e0>"
      ]
     },
     "execution_count": 26,
     "metadata": {},
     "output_type": "execute_result"
    }
   ],
   "source": [
    "BalanceChemEquation({\"(NH4)3PO4\", \"CaCl2\"}, {\"Cl(NH4)\", \"Ca3(PO4)2\" })[0]"
   ]
  },
  {
   "cell_type": "markdown",
   "id": "a143f9b5-e504-4996-a7f7-2a452eb885fb",
   "metadata": {},
   "source": [
    "Go thrrough label as preciptates or aqueous before doing balanced ionic equation\n",
    "\n",
    "2(NH4)3PO4(aq) + 3CaCl2(aq) → Ca3(PO4)2(s) + 6Cl(NH4)(aq)\n",
    "\n",
    "Create a balanced ionic equation\n",
    "\n",
    "6(NH4) + 3PO4 + 3Ca + 6Cl → Ca3(PO4)2(s) + 6Cl + 6(NH4)\n",
    "\n",
    "So NH4 and Cl are spectator ions"
   ]
  },
  {
   "cell_type": "markdown",
   "id": "3f0a1a6f-ca4d-4f9a-86cb-6707dcd73753",
   "metadata": {},
   "source": [
    "##### 4.24\n",
    "\n",
    "Write balanced net ionic equations for the reactions that occur\n",
    "in each of the following cases. Identify the spectator ion or\n",
    "ions in each reaction.\n",
    "\n",
    "(a) Cr(SO4)3 + (NH4)2CO3 \n",
    " \n",
    "(b) Ba(NO3)2 + K2SO4\n",
    "\n",
    "(c) Fe(NO3)2 + KOH"
   ]
  },
  {
   "cell_type": "markdown",
   "id": "32ef7323-9807-4166-9d5b-698f78b8a94d",
   "metadata": {},
   "source": [
    "##### Answer: \n",
    "\n",
    "(a) Cr(SO4)3 + (NH4)2CO3\n",
    "\n",
    "Identify ionisations\n",
    "\n",
    "- Cr+6 -> +6\n",
    "- (SO4)3-2 -> -6\n",
    "- (NH4)2+1 -> +2\n",
    "- CO3 -> -2\n",
    "\n",
    "Undertake an exchange equation and keep ions balanced\n",
    "\n",
    "Cr(SO4)3 + (NH4)2CO3 -> Cr(CO3)3 + 3(SO4)(NH4)2\n",
    "\n",
    "Try and balance \n"
   ]
  },
  {
   "cell_type": "code",
   "execution_count": 38,
   "id": "fd73bbc2-3af1-45cf-860d-e5eb1cb99d01",
   "metadata": {},
   "outputs": [
    {
     "data": {
      "text/html": [
       "3 (NH4)2CO3 + Cr(SO4)3 &rarr; 3 (SO4)(NH4)2 + Cr(CO3)3"
      ],
      "text/plain": [
       "<chempy.chemistry.Reaction at 0x7f97a2566670>"
      ]
     },
     "execution_count": 38,
     "metadata": {},
     "output_type": "execute_result"
    }
   ],
   "source": [
    "BalanceChemEquation({\"Cr(SO4)3\", \"(NH4)2CO3\"},{\"Cr(CO3)3\", \"(SO4)(NH4)2\"})[0]"
   ]
  },
  {
   "cell_type": "markdown",
   "id": "2b0ce5aa-cad4-4053-b00a-0e2da5efa68c",
   "metadata": {},
   "source": [
    "Now identify precipates and aqueous\n",
    "\n",
    "3(NH4)2CO3(aq) + Cr(SO4)3(aq) → 3(SO4)(NH4)2(aq) + Cr(CO3)3(s)\n",
    "\n",
    "Create a balanced ionic equation\n",
    "\n",
    "3(NH4)2CO3(aq) + Cr(SO4)3(aq) → 3(SO4)(NH4)2(aq) + Cr(CO3)3(s)\n",
    "\n",
    "REDO"
   ]
  },
  {
   "cell_type": "markdown",
   "id": "5c95444d-9764-49fa-9ac4-13eb13d7715d",
   "metadata": {},
   "source": [
    "(b) Ba(NO3)2 + K2SO4\n",
    "\n",
    "Start by checking the ionisation charges on these ionic compounds \n",
    "\n",
    "- Ba+2 -> 2\n",
    "- (NO3)2-1 -> -2\n",
    "- K2+1 -> 2\n",
    "- SO4 -> -2\n",
    "\n",
    "Now undertake the exchange reaction and balance \n",
    "\n",
    "\n",
    "Ba(NO3)2 + K2SO4 -> Ba(SO4) + K2(NO3)2\n",
    "\n",
    "Now check this passes as a balanced equation "
   ]
  },
  {
   "cell_type": "code",
   "execution_count": 29,
   "id": "5f723d91-5f7c-4f4c-9e2b-b59ab907af96",
   "metadata": {},
   "outputs": [
    {
     "data": {
      "text/html": [
       "Ba(NO3)2 + K2SO4 &rarr; Ba(SO4) + 2 K(NO3)"
      ],
      "text/plain": [
       "<chempy.chemistry.Reaction at 0x7f97a24c9640>"
      ]
     },
     "execution_count": 29,
     "metadata": {},
     "output_type": "execute_result"
    }
   ],
   "source": [
    "BalanceChemEquation({\"Ba(NO3)2\", \"K2SO4\"}, {\"Ba(SO4)\", \"K(NO3)\"})[0]"
   ]
  },
  {
   "cell_type": "markdown",
   "id": "8c6651f8-9435-4cf7-9505-3c3f047640da",
   "metadata": {},
   "source": [
    "Now check the state of each compound using solubility rules\n",
    "\n",
    "Ba(NO3)2(aq) + K2SO4(aq) -> Ba(SO4)(s) + 2K(NO3)(aq)\n",
    "\n",
    "Ba+2 + (NO3)2-1 + K2+1 + SO4-2 -> Ba(SO4)(s) + 2K+1 + (NO3)2\n",
    "\n",
    "So same on both sides are K2, and (NO3)2\n",
    "\n",
    "So spectator ions are K+ and (NO3)-\n"
   ]
  },
  {
   "cell_type": "markdown",
   "id": "684c6c64-c141-43f9-b329-ed15f964812a",
   "metadata": {},
   "source": [
    "(c) Fe(NO3)2 + KOH\n",
    "\n",
    "Start by getting ionisation charges\n",
    "\n",
    "- Fe+2 -> +2\n",
    "- (NO3)2-1 -> -2\n",
    "- K+1 -> 1\n",
    "- OH-1 -> -1\n",
    "\n",
    "Undertake an exchange reaction \n",
    "\n",
    "Fe(NO3)2 + 2KOH -> FeOH2 + 2K(NO3)\n",
    "\n",
    "Now check state of compounds\n",
    "\n",
    "Fe(NO3)2(aq) + 2KOH(aq) -> Fe(OH)2(s) + 2K(NO3)(aq)\n",
    "\n",
    "Create a balanced ionic equation\n",
    "\n",
    "Fe + (NO3)2 + 2K + (OH)2 -> Fe(OH)2(s) + 2K + (NO3)2\n",
    "\n",
    "Spectator ions are: K+ and NO3"
   ]
  },
  {
   "cell_type": "markdown",
   "id": "969e2651-2162-4d61-85d2-966a1e27a83a",
   "metadata": {},
   "source": [
    "##### 4.25\n",
    "\n",
    "Separate samples of a solution of an unknown salt are treated\n",
    "with dilute solutions of HBr, H2SO4, and NaOH. A precipitate\n",
    "forms in all three cases. Which of the following cations could\n",
    "the solution contain? K+, Pb2+, Ba2+"
   ]
  },
  {
   "cell_type": "markdown",
   "id": "fc6f85c2-f813-4332-8621-6cc0b0ec2677",
   "metadata": {},
   "source": [
    "##### Answer: \n",
    "\n",
    "Note that a salt is simply an ionic compound\n",
    "\n",
    "To answer this, we need solubility guidelines table. Look at each of the given dilute solutions\n",
    "\n",
    "- HBr - will form precipitates with Pb2, K+ and Ba2+ will be soluble\n",
    "- H2SO4 - will form precipitates with Pb2 and Ba2, K+ will be soluble\n",
    "- NaOH - will form precipitates with Pb2\n",
    "\n",
    "Check all the combinations, and let X be the unknown anion. Note that the compound has cations listed first. \n",
    "\n",
    "Check against K first which is known cation, and gives enough info to know the state of part of the product\n",
    "\n",
    "- HBr + KX -> BrK (aq)\n",
    "- H2SO4 + KX -> KSO4 (aq)\n",
    "- NaOH + KX -> KOH(aq)\n",
    "\n",
    "All of these are soluble\n",
    "\n",
    "Now check Pb2\n",
    "\n",
    "- HBr + Pb2X -> BrPb2(s)\n",
    "- H2SO4 + Pb2X -> Pb2SO4(s)\n",
    "- NaOH + Pb2X -> Pb2OH(s)\n",
    "\n",
    "So its most =likely PB2+ cation. But just to be sure check what happens with Ba2+\n",
    "\n",
    "- HBr + Ba2X -> BrBa2(aq)\n",
    "- H2SO4 + Ba2X -> Ba2SO4(s)\n",
    "- NaOH + Ba2X -> Ba2OH(aq)\n",
    "\n",
    "So it confirms that it must be Pb2"
   ]
  },
  {
   "cell_type": "markdown",
   "id": "e9877560-451e-4b17-b4c2-deb98b2e29a1",
   "metadata": {},
   "source": [
    "##### 4.26\n",
    "\n",
    "Separate samples of a solution of an unknown ionic compound are treated with dilute AgNO3, Pb(NO3)2, and BaCl2.\n",
    "\n",
    "Precipitates form in all three cases. Which of the following\n",
    "could be the anion of the unknown salt: Br-, CO3-2, NO3-\n"
   ]
  },
  {
   "cell_type": "markdown",
   "id": "ad2d467b-28fd-4392-a81e-297fd48ad144",
   "metadata": {},
   "source": [
    "##### Answer: \n",
    "\n",
    "Let X be Cation and then check combinations. Remember that in a reaction cations are listed before anions and this will matter when you undertake the exchange reaction\n",
    "\n",
    "Start with Br if any precipitates are formed\n",
    "\n",
    "- AgNO3 + XBr -> BrAg(s)\n",
    "- Pb(NO3)2 + XBr -> BrPb(NO3)2(aq)\n",
    "- BaCl2 + XBr -> BaBr (aq)\n",
    "\n",
    "So it cannot be Br. Try CO3. \n",
    "\n",
    "- AgNO3 + XCO3 -> AgCO3 (s)\n",
    "- Pb(NO3)2 + XCO3 -> Pb(NO3)2CO3 (s)\n",
    "- BaCl2 + XCO3 -> BaCO3 (s)\n",
    "\n",
    "Looks like it must be CO3. Check NO3 just in case \n",
    "\n",
    "- AgNO3 + XNO3 -> AgNO3 (aq)\n",
    "- Pb(NO3)2 + XNO3 -> Pb(NO3)NO3 (aq)\n",
    "- BaCl2 + XNO3 -> BaNO3(aq)\n",
    "\n",
    "But of course all NO3 are soluble"
   ]
  },
  {
   "cell_type": "markdown",
   "id": "66788ab1-0a6c-49fc-a802-388469780601",
   "metadata": {},
   "source": [
    "##### 4.27\n",
    "\n",
    "An unlabeled bottle contains a solution of one\n",
    "of the following: AgNO3, CaCl2, or Al2(SO4)3. \n",
    "\n",
    "Test this with Ba(NO3)2 and then NaCl solutions. \n",
    "\n",
    "Explain how these two tests\n",
    "together would be sufficient to determine which salt is present\n",
    "in the solution."
   ]
  },
  {
   "cell_type": "markdown",
   "id": "cb2e1e39-1c1e-4275-b8ae-72dce80de2b6",
   "metadata": {},
   "source": [
    "##### Answer: \n",
    "\n",
    "This will probably come down to properties of products that mean it can only be a certain salt. Create an exchange reaction wich with each potential candidate\n",
    "\n",
    "- AgNO3 + Ba(NO3)2 -> Ag(NO3)2 + NO3(Ba) :: no precipitate is formed\n",
    "- CaCl2 + Ba(NO3)2 -> Ca(NO3)2 + BaCl2  :: no precipitate is formed \n",
    "- Al2(SO4)3 + Ba(NO3)2 -> Al2(NO3)2 + Ba(SO4)3 :: precipitate is formed\n",
    "\n",
    "For the second part, react with NaCl\n",
    "\n",
    "\n",
    "- AgNO3 + NaCL2 ->  AgCl2(s) + NaNO3(aq) :: precipitate is formed\n",
    "- CaCl2 + NaCL2 ->  CaCl2(aq) + NaCl2 (aq) :: no precipitate is formed\n",
    "- Al2(SO4)3 + NaCL2 -> Al2Cl2(aq) + Na(SO4)3(aq) :: no precipitate is formed\n",
    "\n",
    "So the second test tells me it must either be AgNO3 and I am done, or its one of the other two. If one of the other two, the second test tells me"
   ]
  },
  {
   "cell_type": "markdown",
   "id": "fbddf188-e488-4447-ae54-a959a40def36",
   "metadata": {},
   "source": [
    "##### 4.28\n",
    "\n",
    "Three solutions are mixed together to form a single solution.\n",
    "One contains 0.2 mol Pb(CH3COO)2, the second contains\n",
    "0.1 mol Na2S, and the third contains 0.1 mol CaCl2. \n",
    "\n",
    "(a) Write the net ionic equations for the precipitation reaction or\n",
    "reactions that occur. \n",
    "\n",
    "(b) What are the spectator ions in the\n",
    "solution?\n",
    "\n"
   ]
  },
  {
   "cell_type": "markdown",
   "id": "63659dee-d4e8-4d35-a63d-d2cf6a0f7026",
   "metadata": {},
   "source": [
    "##### Answer: \n",
    "\n",
    "Note that you will need to all combinations and then to create ionic equations\n",
    "\n",
    "- Pb(CH3COO)2 + Na2S \n",
    "- Pb(CH3COO)2 + CaCl\n",
    "- Na2S + CaCl\n",
    "\n",
    "Be sure to include state when doing equations. Do first exchange reaction and make sure ions balance\n",
    "\n",
    "- Pb(CH3COO)2-1(aq) + Na2S(aq) -> Pb+2S-2(s) + 2Na+1(CH3COO)-1(aq)\n",
    "\n",
    "Now break up non aqeous as ions \n",
    "\n",
    "- Pb+2 + (CH3COO)2-1 + Na2 + S-2 -> Pb+2S-2(s) + Na2+1 + (CH3COO)2-1\n",
    "\n",
    "Now remove Na2 and (CH3COO)2 (which are spectator ions) so ionic equation is: \n",
    "\n",
    "- Pb+2  + S-2 -> Pb+2S-2(s)\n",
    "\n",
    "\n",
    "Now second one. Exchange reaction with ion charges and state: \n",
    "\n",
    "- Pb+2(CH3COO)2-1(aq) + Ca+2Cl-1(aq) -> Pb+2Cl2-1(s) + Ca+2(CH3COO)2-1(aq)\n",
    "\n",
    "Ions balance. Now make it ionic balanced\n",
    "\n",
    "- Pb+2(aq) + (CH3COO)2-1(aq) + Ca+2 + Cl-1(aq) -> Pb+2Cl2-1(s) + Ca+2 + (CH3COO)2-1(aq)\n",
    "\n",
    "Note that (CH3COO)2-1(aq) and Ca+2 are spectators. So net ionic is: \n",
    "\n",
    "- Pb+2(aq) +  2Cl-1(aq) -> Pb+2Cl2-1(s) \n",
    "\n",
    "Note its also been balanced\n",
    "\n",
    "Now third combination. Get ions, state and balance. Note that the given reactants do not have to balance. This gets taken care of as part of the equation. \n",
    "\n",
    "- Na2+1S + Ca+2Cl-1 -> Na2+1Cl-1 + Ca+2S-2\n",
    "\n",
    "Ions are ok. Balance the equation"
   ]
  },
  {
   "cell_type": "code",
   "execution_count": 43,
   "id": "4d3777f4-f9ef-45c8-a881-f5add53ae62c",
   "metadata": {},
   "outputs": [
    {
     "data": {
      "text/html": [
       "CaCl2 + Na2S &rarr; CaS + Na2Cl2"
      ],
      "text/plain": [
       "<chempy.chemistry.Reaction at 0x7f97a2570820>"
      ]
     },
     "execution_count": 43,
     "metadata": {},
     "output_type": "execute_result"
    }
   ],
   "source": [
    "BalanceChemEquation({\"Na2S\", \"CaCl2\"}, {\"Na2Cl2\", \"CaS\"})[0]"
   ]
  },
  {
   "cell_type": "markdown",
   "id": "fb2cd9e3-eb1c-40ae-8a6e-3c59571646c4",
   "metadata": {},
   "source": [
    "Now add ionisation changes and state to find ionic balanced eqation \n",
    "\n",
    "- Ca+2Cl2-1 + Na2+1S-2 → Ca+2S-2 + Na2+1Cl2-1\n",
    "- Ca+2(aq) + Cl2-1(aq) + Na2+1(aq) + S-2(aq) → Ca+2S-2(aq) + Na2+1(aq) + Cl2-1(aq)\n",
    "\n",
    "Nothing further. No precipitates. So no net ionic reaction"
   ]
  },
  {
   "cell_type": "markdown",
   "id": "84a744fd-a19c-4970-a7ba-56322b3a4c48",
   "metadata": {},
   "source": [
    "##### 4.29\n",
    "\n",
    "Which of the following solutions has the largest concentration\n",
    "of solvated protons: \n",
    "\n",
    "(a) 0.2 M LiOH, \n",
    "\n",
    "(b) 0.2 M HI, \n",
    "\n",
    "(c) 1.0 M methyl alcohol (CH3OH)"
   ]
  },
  {
   "cell_type": "markdown",
   "id": "348e4568-5a9e-4996-a269-c982244226fd",
   "metadata": {},
   "source": [
    "##### Answer: \n",
    "\n",
    "Note that \"solvated\" refers to the interaction of a solvent with dissolved solute. \n",
    "\n",
    "Solvation, commonly called dissolution, is the process of attraction and association of molecules of a solvent with molecules or ions of a solute. As ions dissolve in a solvent they spread out and become surrounded by solvent molecules.\n",
    "\n",
    "Strategy here is to find whethere ese are strong or weak acids, bases, or electrolytes. \n",
    "\n",
    "Note that for solutions of equal concentration, strong acides will have greatest concentration of solvated protons\n",
    "\n",
    "- LiOH is a strong base\n",
    "- HI is a strong acid\n",
    "- CH3OH is a non electrolyte\n",
    "\n",
    "HI will have the greatest concentration. This is just a lookup thing. Note both the base and acid have the same concentration, so nothing to compare here\n"
   ]
  },
  {
   "cell_type": "markdown",
   "id": "003c2dbc-eda1-4b87-ae94-5ca2370ce3f1",
   "metadata": {},
   "source": [
    "##### 4.30 \n",
    "\n",
    "Which of the following solutions is the most basic? \n",
    "\n",
    "(a) 0.6 M NH3, \n",
    "\n",
    "(b) 0.150 M KOH, \n",
    "\n",
    "(c) 0.100 M Ba(OH)2"
   ]
  },
  {
   "cell_type": "markdown",
   "id": "4079ca8c-9420-4d0f-b401-86767e363d7c",
   "metadata": {},
   "source": [
    "##### Answer: \n",
    "\n",
    "- NH3 is a weak base\n",
    "- KOH is a strong base\n",
    "- Ba(OH)2 is a strong base \n",
    "\n",
    "Note that Ba(OH)2 is the strongest. This is a table thing"
   ]
  },
  {
   "cell_type": "markdown",
   "id": "ad55ae7c-3c6f-4696-afe5-bc17abec0ddb",
   "metadata": {},
   "source": [
    "##### 4.31\n",
    "\n",
    "What is the difference between \n",
    "\n",
    "(a) a monoprotic acid and a diprotic acid\n",
    "\n",
    "(b) a weak acid and a strong acid\n",
    "\n",
    "(c) an acid and a base"
   ]
  },
  {
   "cell_type": "markdown",
   "id": "bfcce4ae-b294-448f-a295-3696b80cfb42",
   "metadata": {},
   "source": [
    "##### Answer: \n",
    "\n",
    "(a) Monoprotic acid can donate 1 hydrogen atom to their aqueous solution, while diprotic can donate 2\n",
    "\n",
    "(b) Strong acid is completely ionised in aqueous solution. Weak acid ionises only slightly\n",
    "\n",
    "(c) Acid is any hydrogen containing substance that can donate a proton (hydrogen ion) to another substance. A base is any molecule or ion that can accept hydrogen ion from an acid"
   ]
  },
  {
   "cell_type": "markdown",
   "id": "436b0d5e-c70a-4028-8ad2-e3e55a3f1f39",
   "metadata": {},
   "source": [
    "##### 4.32\n",
    "\n",
    "Explain the following observations: \n",
    "\n",
    "(a) NH3 contains no ions, and yet its aqueous solutions are basic; \n",
    "\n",
    "(b) HF is called a weak acid, and yet it is very reactive; \n",
    "\n",
    "(c) although sulfuric acid is a strong electrolyte, an aqueous solution of H2SO4 contains more ions than ions."
   ]
  },
  {
   "cell_type": "markdown",
   "id": "550c20fa-17ad-4a82-af20-98388b46080e",
   "metadata": {},
   "source": [
    "##### Answer: \n",
    "\n",
    "(a) NH3 is ammonon and its hydrogen atom has an electon pair that readily accepts a proton. Note a base is H+ acceptor and increases concentration of OH- in the solution\n",
    "\n",
    "(b) Weak means tendency to dissacociate, not how it reacts to compound\n",
    "\n",
    "(c) H2SO4 is diprotic acid with 2 ionisable hydrogens. First hydrogen completely ionises to form H+ and HSO4-, but HSO4 only partially ionises to form H+ and SO4 which is a weak electrolyte"
   ]
  },
  {
   "cell_type": "markdown",
   "id": "e10d0a5f-e953-4c26-8850-6a85877ceb29",
   "metadata": {},
   "source": [
    "##### 4.33\n",
    "\n",
    "Is there any correlation between the anions that form when\n",
    "each of the strong acids in Table 4.2 dissociates and the anions\n",
    "that normally form soluble ionic compounds (Table 4.1)?\n",
    "\n",
    "Which anions if any are exceptions to the general trend?"
   ]
  },
  {
   "cell_type": "markdown",
   "id": "8f08c6ce-e8c4-4c52-96cb-03fe8ede454d",
   "metadata": {},
   "source": [
    "##### Answer: \n",
    "\n",
    "When strong acids dissociates, the anions usually lead to soluble ionic compounds\n"
   ]
  },
  {
   "cell_type": "markdown",
   "id": "e9c8e41b-2023-4833-bcf9-d31a41c77a27",
   "metadata": {},
   "source": [
    "##### 4.37\n",
    "\n",
    "Classify each of the following substances as a nonelectrolyte,\n",
    "weak electrolyte, or strong electrolyte in water: \n",
    "\n",
    "(a) H2SO3,\n",
    "\n",
    "(b) C2H5OH (ethanol), \n",
    "\n",
    "(c) NH3, \n",
    "\n",
    "(d) KClO3, \n",
    "\n",
    "(e) Cu(NO3)2."
   ]
  },
  {
   "cell_type": "markdown",
   "id": "7980d2e8-61a1-404f-9c30-8d0d5efaa6b6",
   "metadata": {},
   "source": [
    "##### Answer: \n",
    "\n",
    "(a) H2SO3 is an acid (with H Prefix). Not in table so weak acid and weak electrolyte\n",
    "\n",
    "(b) C2H5OH (ethanol) is a molecular compound. Contains OH but not as ion \n",
    "\n",
    "(c) NH3 common weak base. THerefore weak electrolyte\n",
    "\n",
    "(d) K+1ClO3-1 is an ionic compound, so strong electrolyte\n",
    "\n",
    "(e) Cu(NO3)2 -> Cu-?(NO3)2-1 NO3 is a polyatomic anion, so Cu is balanced, ionic compound, so strong electrolyte"
   ]
  },
  {
   "cell_type": "markdown",
   "id": "d73154b9-2b3a-42d5-8f63-ca06af0d5bc8",
   "metadata": {},
   "source": [
    "##### 4.38\n",
    "\n",
    "Classify each of the following aqueous solutions as a nonelectrolyte, weak electrolyte, or strong electrolyte: \n",
    "\n",
    "(a) LiClO4,\n",
    "\n",
    "(b) HClO, \n",
    "\n",
    "(c) CH3CH2CH2OH (propanol), \n",
    "\n",
    "(d) HClO3,\n",
    "\n",
    "(e) CuSO4, \n",
    "\n",
    "(f) C12H22O11 (sucrose)."
   ]
  },
  {
   "cell_type": "markdown",
   "id": "a720e472-3a9f-4af7-944f-558e76fed391",
   "metadata": {},
   "source": [
    "##### Answer: \n",
    "\n",
    "\n",
    "(a) LiClO4 - strong electrolyte\n",
    "\n",
    "(b) HClO - strong electrolyte\n",
    "\n",
    "(c) CH3CH2CH2OH - non electrolyte\n",
    "\n",
    "(d) HClO3 - strong electrolyte\n",
    "\n",
    "(e) CuSO4 - strong electrolyte\n",
    "\n",
    "(f) C12H22O11 - non electrolyte, neutral covelent compond"
   ]
  },
  {
   "cell_type": "markdown",
   "id": "0dbbf659-cbf9-4545-a359-6801821063e2",
   "metadata": {},
   "source": [
    "##### 4.39\n",
    "\n",
    "Complete and balance the following molecular equations, and\n",
    "then write the net ionic equation for each:\n",
    "\n",
    "(a) HBr(aq) + Ca(OH)2(aq) \n",
    "\n",
    "(b) Cu(OH)2(s) + HClO4(aq)\n",
    "\n",
    "(c) Al(OH)3(s) + HNO3(aq)"
   ]
  },
  {
   "cell_type": "markdown",
   "id": "d41a12fc-068c-4034-964f-3a24a101ce92",
   "metadata": {},
   "source": [
    "##### Answer\n",
    "\n",
    "(a) HBr(aq) + Ca(OH)2(aq)\n",
    "\n",
    "Note this is obviously an acid and a base. Check charges; \n",
    "\n",
    "- H+1\n",
    "- Br-1\n",
    "- Ca+2\n",
    "- (OH)2-1\n",
    "\n",
    "Now undertake exchange reaction and balance charge\n",
    "\n",
    "HBr + Ca(OH)2 ->  CaBr2 + 2H2O\n",
    "\n",
    "Check that it is balanced by seeing how much on either side. \n",
    "\n",
    "- H -> 4:4\n",
    "- Br -> 2:2\n",
    "- Ca -> 1:1\n",
    "- (OH) -> 2:2\n",
    "\n",
    "Adjust: \n",
    "\n",
    "2HBr(aq) + Ca(OH)2(aq) ->  CaBr2(aq) + 2H2O(aq)\n",
    "\n",
    "Everything is soluble so all breaks up as ions\n",
    "\n",
    "H+ + 2Br + Ca + (OH)2 ->  Ca + Br2 + H + H2O(aq)\n",
    "\n",
    "Don't really get this!\n"
   ]
  },
  {
   "cell_type": "markdown",
   "id": "bc5be0dd-52c3-40ac-97c8-a72991bdb1d3",
   "metadata": {},
   "source": [
    "(b) Cu(OH)2(s) + HClO4(aq)\n",
    "\n",
    "First write out charges\n",
    "\n",
    "- Cu+2\n",
    "- (OH)2-1\n",
    "- H+1\n",
    "- ClO4-1\n",
    "\n",
    "Do the reaction and balance ions\n",
    "\n",
    "Cu(OH)2 + 2HClO4 -> Cu(ClO4)2 + 2H2O\n",
    "\n",
    "\n",
    "\n"
   ]
  }
 ],
 "metadata": {
  "kernelspec": {
   "display_name": "Python 3",
   "language": "python",
   "name": "python3"
  },
  "language_info": {
   "codemirror_mode": {
    "name": "ipython",
    "version": 3
   },
   "file_extension": ".py",
   "mimetype": "text/x-python",
   "name": "python",
   "nbconvert_exporter": "python",
   "pygments_lexer": "ipython3",
   "version": "3.9.2"
  }
 },
 "nbformat": 4,
 "nbformat_minor": 5
}
