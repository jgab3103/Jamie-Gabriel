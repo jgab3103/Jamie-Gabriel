{
 "cells": [
  {
   "cell_type": "code",
   "execution_count": 2,
   "id": "d47cda75-92c5-45b8-b56f-121b7e3ac6e8",
   "metadata": {},
   "outputs": [
    {
     "name": "stdout",
     "output_type": "stream",
     "text": [
      "\u001b[2mDimcli - Dimensions API Client (v0.9.1)\u001b[0m\n",
      "\u001b[2mConnected to: https://app.dimensions.ai - DSL v1.31\u001b[0m\n",
      "\u001b[2mMethod: manual login\u001b[0m\n"
     ]
    }
   ],
   "source": [
    "import numpy as np\n",
    "import sympy as sp\n",
    "import pickle\n",
    "from IPython.display import HTML\n",
    "import pandas as pd\n",
    "import itertools\n",
    "import dimcli\n",
    "\n",
    "# If installing from clean image\n",
    "#!pip install dimcli -U\n",
    "\n",
    "# Credentials\n",
    "dimcli.login(key=\"F86D0EE87BF7475E95D9A47574175BC3\",\n",
    "             endpoint=\"https://app.dimensions.ai\")"
   ]
  },
  {
   "cell_type": "code",
   "execution_count": 3,
   "id": "331fe225-5cb0-461f-beaa-e2cf90e92a8f",
   "metadata": {},
   "outputs": [
    {
     "name": "stdout",
     "output_type": "stream",
     "text": [
      "Returned Publications: 20 (total = 1875430)\n",
      "\u001b[2mTime: 1.86s\u001b[0m\n"
     ]
    }
   ],
   "source": [
    "# Test search\n",
    "dsl = dimcli.Dsl()\n",
    "data = dsl.query(\"\"\"search publications for \"black holes\" return publications\"\"\")"
   ]
  },
  {
   "cell_type": "code",
   "execution_count": null,
   "id": "3126150f-14c3-4e34-94fa-836bb64c6c3e",
   "metadata": {},
   "outputs": [],
   "source": []
  },
  {
   "cell_type": "code",
   "execution_count": null,
   "id": "78ff07bf-8341-4294-b7bc-d3b9c2af9188",
   "metadata": {},
   "outputs": [],
   "source": []
  },
  {
   "cell_type": "code",
   "execution_count": null,
   "id": "5afb857b-43c5-4ab8-b755-9b880182e0bb",
   "metadata": {},
   "outputs": [],
   "source": []
  },
  {
   "cell_type": "code",
   "execution_count": null,
   "id": "9eb6e9fe-99ae-4d29-9330-720c810acb86",
   "metadata": {},
   "outputs": [],
   "source": []
  },
  {
   "cell_type": "code",
   "execution_count": 5,
   "id": "d35dd73e-5a4d-4de1-96ae-f9dab3ac8f16",
   "metadata": {},
   "outputs": [
    {
     "ename": "NameError",
     "evalue": "name 'authors' is not defined",
     "output_type": "error",
     "traceback": [
      "\u001b[0;31m---------------------------------------------------------------------------\u001b[0m",
      "\u001b[0;31mNameError\u001b[0m                                 Traceback (most recent call last)",
      "\u001b[0;32m<ipython-input-5-2f4c582e693d>\u001b[0m in \u001b[0;36m<module>\u001b[0;34m\u001b[0m\n\u001b[1;32m      1\u001b[0m \u001b[0;34m[\u001b[0m\u001b[0;34m'ur.0731267322.21'\u001b[0m\u001b[0;34m]\u001b[0m\u001b[0;34m\u001b[0m\u001b[0;34m\u001b[0m\u001b[0m\n\u001b[1;32m      2\u001b[0m \u001b[0;34m[\u001b[0m\u001b[0;34m'ur.0731267322.21'\u001b[0m\u001b[0;34m]\u001b[0m\u001b[0;34m\u001b[0m\u001b[0;34m\u001b[0m\u001b[0m\n\u001b[0;32m----> 3\u001b[0;31m \u001b[0mresearchers\u001b[0m \u001b[0;34m=\u001b[0m \u001b[0mauthors\u001b[0m\u001b[0;34m.\u001b[0m\u001b[0mquery\u001b[0m\u001b[0;34m(\u001b[0m\u001b[0;34m\"researcher_id!=0\"\u001b[0m\u001b[0;34m)\u001b[0m\u001b[0;34m\u001b[0m\u001b[0;34m\u001b[0m\u001b[0m\n\u001b[0m",
      "\u001b[0;31mNameError\u001b[0m: name 'authors' is not defined"
     ]
    }
   ],
   "source": [
    "['ur.0731267322.21']\n",
    "['ur.0731267322.21']\n",
    "researchers = authors.query(\"researcher_id!=0\")"
   ]
  },
  {
   "cell_type": "code",
   "execution_count": 9,
   "id": "fec8a4e6-12a6-468c-a13c-6d44717f11c2",
   "metadata": {},
   "outputs": [
    {
     "name": "stdout",
     "output_type": "stream",
     "text": [
      "Returned Publications: 17 (total = 17)\n",
      "\u001b[2mTime: 1.14s\u001b[0m\n"
     ]
    },
    {
     "data": {
      "text/html": [
       "<div>\n",
       "<style scoped>\n",
       "    .dataframe tbody tr th:only-of-type {\n",
       "        vertical-align: middle;\n",
       "    }\n",
       "\n",
       "    .dataframe tbody tr th {\n",
       "        vertical-align: top;\n",
       "    }\n",
       "\n",
       "    .dataframe thead th {\n",
       "        text-align: right;\n",
       "    }\n",
       "</style>\n",
       "<table border=\"1\" class=\"dataframe\">\n",
       "  <thead>\n",
       "    <tr style=\"text-align: right;\">\n",
       "      <th></th>\n",
       "      <th>year</th>\n",
       "      <th>doi</th>\n",
       "      <th>id</th>\n",
       "      <th>title</th>\n",
       "    </tr>\n",
       "  </thead>\n",
       "  <tbody>\n",
       "    <tr>\n",
       "      <th>0</th>\n",
       "      <td>2021</td>\n",
       "      <td>10.1145/3462477</td>\n",
       "      <td>pub.1139789625</td>\n",
       "      <td>Text Mining in Cybersecurity</td>\n",
       "    </tr>\n",
       "    <tr>\n",
       "      <th>1</th>\n",
       "      <td>2021</td>\n",
       "      <td>10.1111/exsy.12770</td>\n",
       "      <td>pub.1139784498</td>\n",
       "      <td>Requirement prioritization framework using cas...</td>\n",
       "    </tr>\n",
       "    <tr>\n",
       "      <th>2</th>\n",
       "      <td>2021</td>\n",
       "      <td>10.1007/978-981-15-8685-9_44</td>\n",
       "      <td>pub.1136536359</td>\n",
       "      <td>A Perceptive Fake User Detection and Visualiza...</td>\n",
       "    </tr>\n",
       "    <tr>\n",
       "      <th>3</th>\n",
       "      <td>2020</td>\n",
       "      <td>10.1109/ains50155.2020.9315134</td>\n",
       "      <td>pub.1135354806</td>\n",
       "      <td>A preliminary study of cyber parental control ...</td>\n",
       "    </tr>\n",
       "    <tr>\n",
       "      <th>4</th>\n",
       "      <td>2020</td>\n",
       "      <td>10.1007/s00530-020-00676-3</td>\n",
       "      <td>pub.1132401390</td>\n",
       "      <td>Foreground detection using motion histogram th...</td>\n",
       "    </tr>\n",
       "    <tr>\n",
       "      <th>5</th>\n",
       "      <td>2020</td>\n",
       "      <td>10.1016/j.childyouth.2020.105134</td>\n",
       "      <td>pub.1128314811</td>\n",
       "      <td>Cyber parental control: A bibliometric study</td>\n",
       "    </tr>\n",
       "    <tr>\n",
       "      <th>6</th>\n",
       "      <td>2020</td>\n",
       "      <td>10.1007/s11042-020-08764-2</td>\n",
       "      <td>pub.1125691748</td>\n",
       "      <td>OBAC: towards agent-based identification and c...</td>\n",
       "    </tr>\n",
       "    <tr>\n",
       "      <th>7</th>\n",
       "      <td>2020</td>\n",
       "      <td>10.1155/2020/8545128</td>\n",
       "      <td>pub.1125056530</td>\n",
       "      <td>Calculating Trust Using Multiple Heterogeneous...</td>\n",
       "    </tr>\n",
       "    <tr>\n",
       "      <th>8</th>\n",
       "      <td>2019</td>\n",
       "      <td>10.1016/j.future.2019.04.038</td>\n",
       "      <td>pub.1113878770</td>\n",
       "      <td>Perception layer security in Internet of Things</td>\n",
       "    </tr>\n",
       "    <tr>\n",
       "      <th>9</th>\n",
       "      <td>2019</td>\n",
       "      <td>10.1109/access.2019.2918196</td>\n",
       "      <td>pub.1115224509</td>\n",
       "      <td>Spammer Detection and Fake User Identification...</td>\n",
       "    </tr>\n",
       "    <tr>\n",
       "      <th>10</th>\n",
       "      <td>2018</td>\n",
       "      <td>10.1109/access.2018.2872928</td>\n",
       "      <td>pub.1107354292</td>\n",
       "      <td>Social Internet of Vehicles: Complexity, Adapt...</td>\n",
       "    </tr>\n",
       "    <tr>\n",
       "      <th>11</th>\n",
       "      <td>2018</td>\n",
       "      <td>10.1109/isncc.2018.8530984</td>\n",
       "      <td>pub.1109815383</td>\n",
       "      <td>A Fault Tolerant Approach for Malicious URL Fi...</td>\n",
       "    </tr>\n",
       "    <tr>\n",
       "      <th>12</th>\n",
       "      <td>2018</td>\n",
       "      <td>10.1007/s11227-018-2338-1</td>\n",
       "      <td>pub.1103275659</td>\n",
       "      <td>Towards ontology-based multilingual URL filter...</td>\n",
       "    </tr>\n",
       "    <tr>\n",
       "      <th>13</th>\n",
       "      <td>2015</td>\n",
       "      <td>10.1007/978-3-319-24129-6_3</td>\n",
       "      <td>pub.1005502446</td>\n",
       "      <td>Challenges for Ontological Engineering in the ...</td>\n",
       "    </tr>\n",
       "    <tr>\n",
       "      <th>14</th>\n",
       "      <td>2015</td>\n",
       "      <td>10.1515/iwp-2015-0057</td>\n",
       "      <td>pub.1012651711</td>\n",
       "      <td>Das Experteninterview als zentrale Methode der...</td>\n",
       "    </tr>\n",
       "    <tr>\n",
       "      <th>15</th>\n",
       "      <td>2012</td>\n",
       "      <td>10.1007/978-3-642-24809-2_10</td>\n",
       "      <td>pub.1008922470</td>\n",
       "      <td>Transforming a Flat Metadata Schema to a Seman...</td>\n",
       "    </tr>\n",
       "    <tr>\n",
       "      <th>16</th>\n",
       "      <td>2011</td>\n",
       "      <td>10.1007/978-3-642-24731-6_38</td>\n",
       "      <td>pub.1053157726</td>\n",
       "      <td>Practice-Based Ontologies: A New Approach to A...</td>\n",
       "    </tr>\n",
       "  </tbody>\n",
       "</table>\n",
       "</div>"
      ],
      "text/plain": [
       "    year                               doi              id  \\\n",
       "0   2021                   10.1145/3462477  pub.1139789625   \n",
       "1   2021                10.1111/exsy.12770  pub.1139784498   \n",
       "2   2021      10.1007/978-981-15-8685-9_44  pub.1136536359   \n",
       "3   2020    10.1109/ains50155.2020.9315134  pub.1135354806   \n",
       "4   2020        10.1007/s00530-020-00676-3  pub.1132401390   \n",
       "5   2020  10.1016/j.childyouth.2020.105134  pub.1128314811   \n",
       "6   2020        10.1007/s11042-020-08764-2  pub.1125691748   \n",
       "7   2020              10.1155/2020/8545128  pub.1125056530   \n",
       "8   2019      10.1016/j.future.2019.04.038  pub.1113878770   \n",
       "9   2019       10.1109/access.2019.2918196  pub.1115224509   \n",
       "10  2018       10.1109/access.2018.2872928  pub.1107354292   \n",
       "11  2018        10.1109/isncc.2018.8530984  pub.1109815383   \n",
       "12  2018         10.1007/s11227-018-2338-1  pub.1103275659   \n",
       "13  2015       10.1007/978-3-319-24129-6_3  pub.1005502446   \n",
       "14  2015             10.1515/iwp-2015-0057  pub.1012651711   \n",
       "15  2012      10.1007/978-3-642-24809-2_10  pub.1008922470   \n",
       "16  2011      10.1007/978-3-642-24731-6_38  pub.1053157726   \n",
       "\n",
       "                                                title  \n",
       "0                        Text Mining in Cybersecurity  \n",
       "1   Requirement prioritization framework using cas...  \n",
       "2   A Perceptive Fake User Detection and Visualiza...  \n",
       "3   A preliminary study of cyber parental control ...  \n",
       "4   Foreground detection using motion histogram th...  \n",
       "5        Cyber parental control: A bibliometric study  \n",
       "6   OBAC: towards agent-based identification and c...  \n",
       "7   Calculating Trust Using Multiple Heterogeneous...  \n",
       "8     Perception layer security in Internet of Things  \n",
       "9   Spammer Detection and Fake User Identification...  \n",
       "10  Social Internet of Vehicles: Complexity, Adapt...  \n",
       "11  A Fault Tolerant Approach for Malicious URL Fi...  \n",
       "12  Towards ontology-based multilingual URL filter...  \n",
       "13  Challenges for Ontological Engineering in the ...  \n",
       "14  Das Experteninterview als zentrale Methode der...  \n",
       "15  Transforming a Flat Metadata Schema to a Seman...  \n",
       "16  Practice-Based Ontologies: A New Approach to A...  "
      ]
     },
     "execution_count": 9,
     "metadata": {},
     "output_type": "execute_result"
    }
   ],
   "source": [
    "%dsldf search publications where reference_ids in [ \"pub.1053279155\" , \"pub.1103275659\"] return publications[id+doi+title+year]"
   ]
  },
  {
   "cell_type": "code",
   "execution_count": null,
   "id": "cd6956f0-d5a4-4bf1-b763-5d127901923b",
   "metadata": {},
   "outputs": [],
   "source": []
  }
 ],
 "metadata": {
  "kernelspec": {
   "display_name": "Python 3",
   "language": "python",
   "name": "python3"
  },
  "language_info": {
   "codemirror_mode": {
    "name": "ipython",
    "version": 3
   },
   "file_extension": ".py",
   "mimetype": "text/x-python",
   "name": "python",
   "nbconvert_exporter": "python",
   "pygments_lexer": "ipython3",
   "version": "3.9.2"
  }
 },
 "nbformat": 4,
 "nbformat_minor": 5
}
