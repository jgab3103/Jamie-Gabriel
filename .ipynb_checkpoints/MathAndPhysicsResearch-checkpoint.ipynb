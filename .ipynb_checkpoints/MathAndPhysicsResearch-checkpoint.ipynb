{
 "cells": [
  {
   "cell_type": "markdown",
   "id": "93da321c-1b15-4780-83f9-e350a7b4a2a0",
   "metadata": {},
   "source": [
    "#### How to do research in mathematics and physics"
   ]
  },
  {
   "cell_type": "markdown",
   "id": "fa2b33de-2a9a-453b-879a-cac4308717eb",
   "metadata": {},
   "source": [
    "This notebook aims to provide some background in what you know in order to undertake advanced research in mathematics and physics. It details the prerequisites that you should have in place to comfortable working with advanced topics. It also provides detail on how to structure your research, a grammar and research and proof that I put in to my own work. \n",
    "\n",
    "This notebook has three parts: \n",
    "\n",
    "<a href=\"#\">1. The Prerequsites you need to undertake research in mathematics and research</a><br/>\n",
    "<a href=\"#\">2. How you to read advanced research</a><br/>\n",
    "<a href=\"#\">3. How you should approach and structure your research and proofs</a>\n",
    "\n",
    "<hr/>\n",
    "\n",
    "\n",
    "#### 1. The Prerequsites you need to undertake research in mathematics and research\n",
    "\n",
    "Broadly, you will need to have an understanding of the following topics are important to undertand higher level research in these fields in something similiar to the order below. I have provided a summary of each of these and some practical ways you obtain this information\n",
    "\n",
    "1. <a href=\"#\">Precalculus</a>\n",
    "2. <a href=\"#\">Calculus</a>\n",
    "3. <a href=\"#\">Linear Algebra</a>\n",
    "4. <a href=\"#\">Physics</a>\n",
    "5. <a href=\"#\">Geometry (including Affine, Hyperbolic, Projective, Algebraic Toplogy, Differential Geometry)</a>\n",
    "6. <a href=\"#\">Advanced physics, groups and symmetry</a>\n",
    "7. <a href=\"#\">Historical context</a>\n",
    "\n",
    "\n",
    "<b>Precalculus</b>\n",
    "\n",
    "When you are starting out in mathematics, the first thing that is important to understand is various topics in pre-calculus: things like algebra, trigonometry, conics, logarithms, exponentials and so on. This is the kind of thing that you would find standard high school curriculum. I am writing this book in Australia and ther are a number of different levels of year 12 mathematics and the Mathematics Advanced Curriculum is fine for all of these topics. In the curriculum in NSW, Australia, there are harder levels of Math, called Extension 1 and Extension 2. But you don't need that, the Mathematics Advanced is quite good and will also Calculus and Integration to give you a taste of what is to come. It is pretty comparable to math in most countries. \n",
    "\n",
    "I actually came back to mathematics quite some time after high school, and the best text book I found is Stitz and Zeager's text, <i>PreCalculus</i>. It will give you a good grounding in lots of topics, and all the basics that tend to come up later on. \n",
    "\n",
    "<b>Calculus</b>\n",
    "\n",
    "When you are working through topics Precalculus, you may choose to work with pen and paper and work things out by hand. Chances are, if you are in a high school program this will be you experience. However, once you have finished this, I would suggest doing things computationally almost exclusively. This is after all a text that is focused on the computational mathematics. A good time to make this transition is when you are starting to do things beyond standard high school mathematics. \n",
    "\n",
    "All the code that I refer to in this book is in Python. I have lots of tools over the years, such as Mathematica and RStudio to Matlab, but I find that Python, its easy to set up, free. While Python has its own specialised set of libraries, However, I will only use standard python libraries (predominantly SymPy and NumPy) for everything that we are doing to do. You will find lots of different options, I tend to use Python because its quite easy to solve any kind of computational problem. \n",
    "\n",
    "Once you decide what computational software to use, you should use it to get your Calculus. There are lots of good Calculus resources out there. A nice and free one that I have found is <i>Paul's Calculus Notes</i> which you can work through to a advanced level of calculus. You will find that using a computer to take derivatives and integrals will radically speed up your workflow, and you should treat this as an opportunity to also get comfortable sketching\n",
    "diagrams, working in a flow with a computer. You should cover Calculus I, II and III and the differential equations. \n",
    "\n",
    "I have some guides on my websites for working through questions. When you work though these, do not be concerned with the proofs. Use the formulas, use it as an opportunity to solve problems and understand the kinds of problems that Calculus sets out to solve. TWe will be taking a Lagrangian approach towards Calculus, using a Lagrangian approach. But the advantage is to understand what Calculus can do as a technology.\n",
    "\n",
    "<b>Linear Algebra</b>\n",
    "\n",
    "asdfa\n",
    "\n",
    "\n",
    "\n",
    "<b>Physics</b>\n",
    "\n",
    "In terms of Physics, the best resource I have come across is the OpenStax physics books. I find Physics difficult than mathematics. I found these texts move at quite a nice page. If you work through them examples, not even so much the exercises at the end of each chapture. Again, these are freely available. Work through the questions. This will cover classical physics modern physics, \n",
    "\n",
    "\n",
    "<b>Geometry (including Affine, Hyperbolic, Projective, Algebraic Toplogy, Differential Geometry)</b>\n",
    "\n",
    "asdfasdfas\n",
    "\n",
    "\n",
    "<b>Advanced physics, groups and symmetry</b>\n",
    "\n",
    "asdfa\n",
    "\n",
    "\n",
    "\n",
    "<b>Historical context</b>\n",
    "\n",
    "Finally, why these problems arise.As well as Calculus and Physics, there a few other things to be aware of I will thoroughly cover anything\n",
    "like that, but the best way to understand these things is . Finally, we will reframe mathematical history, Stillwell, and Norman Wildberger's Math History Lectures. \n",
    "\n",
    "<hr/>\n",
    "\n",
    "It is perhaps arguable that there is an awful lot here. a lot there. Not too much, not too little Firstly, those pre-requisites might seem like a tall order, and I am putting them up front.  asked you to stop and do something that might take a while. Chances are, you may have covered this content in a standard science degree. But at the same time, its reasonable to ask. If you have a sense of  I am not going to assume that. Anything beyond that will be introduced very carefully and slowly.  And there is a fair part of reframing up rejecting. This provides a context, a starting point however, it will give us a starting point, a starting poitn in mathematics s and physics to start rebuilding from and its a realistic startign point. "
   ]
  },
  {
   "cell_type": "markdown",
   "id": "51d6a546-caa9-4702-831b-0d760a8a1d6d",
   "metadata": {},
   "source": [
    "#### 2. How you to read advanced research\n",
    "Coming soon"
   ]
  },
  {
   "cell_type": "markdown",
   "id": "7d572bde-26cd-4f86-8fa3-925de4c9ad59",
   "metadata": {},
   "source": [
    "#### 3. How I approach and structure my research and proofs"
   ]
  },
  {
   "cell_type": "markdown",
   "id": "df76dbfd-f869-4d87-acad-384645a75887",
   "metadata": {},
   "source": [
    "Structuring your work is difficult. Practical concerns. Too much explanation. What you should you expect from the reader. My answer to this question isthat I expect them to have an understaning of the above the pre-requisites. This will provide enough of a benchmark for working\n",
    "\n",
    "<b>Operations, Types, Properties</b>\n",
    "\n",
    "blahasdfasd \n",
    "\n",
    "<b>Operations</b>\n",
    "\n",
    "I find always invoved in 5 operations. way I approach research that everything will be prefaced with one one the 5 verbs below\n",
    "\n",
    "1. Let\n",
    "2. Assume\n",
    "3. Transform\n",
    "4. Define\n",
    "5. Note\n",
    "6. Observe\n",
    "\n",
    "\n",
    "\n",
    "1. Let Statements<br/>\n",
    "asdfas\n",
    "\n",
    "\n",
    "2. Assume Statements<br/>\n",
    "Convenience \n",
    "\n",
    "3. Transform Statements<br/>\n",
    "Through subsitution, manipulation, assumption\n",
    "\n",
    "4. Define Statements<br/>\n",
    "Convenience, LET\n",
    "\n",
    "5. Note Statements<br/>\n",
    "Convenience"
   ]
  },
  {
   "cell_type": "markdown",
   "id": "12fc49cc-665a-43bc-bfc9-60621e82c421",
   "metadata": {},
   "source": [
    "<b>Types, Properties</b>"
   ]
  },
  {
   "cell_type": "markdown",
   "id": "38e0a0dd-d544-456d-ba15-38e9183c9ae9",
   "metadata": {},
   "source": [
    "An example of this in action: \n",
    "\n",
    "1. Let $P_1$ and $P_2$ are integers\n",
    "2. Assume $P_1$ is less than 10\n",
    "3. Transform $P_1$ through multiplication with $P_2$\n",
    "4. Assume $P_2$ is equivalant to 1\n"
   ]
  },
  {
   "cell_type": "markdown",
   "id": "61413000-ccad-4824-8fb1-169ed3fabeae",
   "metadata": {},
   "source": [
    "<b>Planning and visualisation</b>\n",
    "\n",
    "Aim, Methodology, Visualisation\n",
    "\n",
    "<b>Aim, Methodology</b>\n",
    "\n",
    "asdfas\n",
    "\n",
    "\n",
    "<b>Visuliation</b>\n",
    "\n",
    "asdfas"
   ]
  },
  {
   "cell_type": "code",
   "execution_count": null,
   "id": "ac9ab38b-8b08-4dc8-a8f6-db29c2cdeeed",
   "metadata": {},
   "outputs": [],
   "source": []
  }
 ],
 "metadata": {
  "kernelspec": {
   "display_name": "Python 3",
   "language": "python",
   "name": "python3"
  },
  "language_info": {
   "codemirror_mode": {
    "name": "ipython",
    "version": 3
   },
   "file_extension": ".py",
   "mimetype": "text/x-python",
   "name": "python",
   "nbconvert_exporter": "python",
   "pygments_lexer": "ipython3",
   "version": "3.9.2"
  }
 },
 "nbformat": 4,
 "nbformat_minor": 5
}
