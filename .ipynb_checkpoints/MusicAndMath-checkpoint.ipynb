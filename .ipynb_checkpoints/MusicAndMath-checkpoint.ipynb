{
 "cells": [
  {
   "cell_type": "markdown",
   "id": "a2e94d45-a054-4028-8d91-644a508fd710",
   "metadata": {},
   "source": [
    "Anecdotally, it is often claimed that that music and mathematics have similiarities. \n",
    "\n",
    "However what exactly is this based on. It might be the case, people tha tdo mathematics, commonality. Personally I have found this, shallow analogy, related to teh fact that early learning on mathematics kind of excelling that peeople, so the similiarity may be limited to the satisfactino that that comes from repeating repeative tasks \n",
    "\n"
   ]
  },
  {
   "cell_type": "markdown",
   "id": "39c2734d-563f-49c3-a84b-27de25b2bc46",
   "metadata": {},
   "source": [
    "However the more salient issue consists of anwering 2 questions: what is mathematics and what is music, and a feasible approach would be to try and anser these questions and seeing how far away the answer actually lies. \n",
    "\n",
    "So start with the first question. What is mathematics and from the outset. "
   ]
  },
  {
   "cell_type": "markdown",
   "id": "634e640c-a036-4f97-960f-efe987d5f6aa",
   "metadata": {},
   "source": [
    "Naturally leads to a question what is proof. \n",
    "\n",
    "start with a claim: \n",
    "\n",
    "Mathematics the practice of naming things. It seems reductive to do this so it make sense to make this a larger question"
   ]
  },
  {
   "cell_type": "code",
   "execution_count": null,
   "id": "f7a591c3-fa89-4aa2-b84a-b3b035674311",
   "metadata": {},
   "outputs": [],
   "source": []
  }
 ],
 "metadata": {
  "kernelspec": {
   "display_name": "Python 3",
   "language": "python",
   "name": "python3"
  },
  "language_info": {
   "codemirror_mode": {
    "name": "ipython",
    "version": 3
   },
   "file_extension": ".py",
   "mimetype": "text/x-python",
   "name": "python",
   "nbconvert_exporter": "python",
   "pygments_lexer": "ipython3",
   "version": "3.9.2"
  }
 },
 "nbformat": 4,
 "nbformat_minor": 5
}
