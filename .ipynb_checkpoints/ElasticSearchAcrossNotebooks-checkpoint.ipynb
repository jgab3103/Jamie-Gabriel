{
 "cells": [
  {
   "cell_type": "code",
   "execution_count": 74,
   "id": "a59f0f6d-f845-4c59-8216-678a5c049dda",
   "metadata": {},
   "outputs": [],
   "source": [
    "from datetime import datetime\n",
    "from elasticsearch import Elasticsearch, RequestsHttpConnection\n",
    "import nbformat as nbf"
   ]
  },
  {
   "cell_type": "markdown",
   "id": "4427dd41-ca83-4e50-be17-0c9913a040f0",
   "metadata": {},
   "source": [
    "This notebook is used to enable search across all the notebooks if you don't want to use grep or something simliar"
   ]
  },
  {
   "cell_type": "markdown",
   "id": "c1a4633a-fe9b-4e77-b950-7a2ae772dcde",
   "metadata": {},
   "source": [
    "<b>How to set this up</b>\n",
    "\n",
    "To start an elastic sever\n",
    "<code>\n",
    "    docker network create elastic\n",
    "    docker pull docker.elastic.co/elasticsearch/elasticsearch:7.13.1\n",
    "    docker run --name es01-test --net elastic -p 9200:9200 -p 9300:9300 -e \"discovery.type=single-node\" docker.elastic.co/elasticsearch/elasticsearch:7.13.1\n",
    "    </code>\n",
    "    \n",
    "    \n",
    "To start Kibana: \n",
    "<code>\n",
    "docker pull docker.elastic.co/kibana/kibana:7.13.1\n",
    "docker run --name kib01-test --net elastic -p 5601:5601 -e \"ELASTICSEARCH_HOSTS=http://es01-test:9200\" docker.elastic.co/kibana/kibana:7.13.1\n",
    "    </code>"
   ]
  },
  {
   "cell_type": "code",
   "execution_count": 16,
   "id": "fb875dcf-8bdc-427b-824f-e34af84371d3",
   "metadata": {},
   "outputs": [],
   "source": [
    "# Connect to ES\n",
    "es = Elasticsearch(hosts=[{\"host\": \"host.docker.internal\", \"port\": 9200}], \n",
    "                   connection_class=RequestsHttpConnection, max_retries=30,\n",
    "                       retry_on_timeout=True, request_timeout=30)"
   ]
  },
  {
   "cell_type": "code",
   "execution_count": 54,
   "id": "36d5e122-222c-403d-be5c-68e388d2d67d",
   "metadata": {},
   "outputs": [],
   "source": [
    "NB_VERSION = 4\n",
    "\n",
    "def extract_text(notebook_str):\n",
    "    formatted = nbf.read(notebook_str, as_version=NB_VERSION)\n",
    "    text = []\n",
    "    for cell in formatted.get('cells', []):\n",
    "        if 'source' in cell and 'cell_type' in cell:\n",
    "            #print(\"HEELL\")\n",
    "            if cell['cell_type'] == 'code' or cell['cell_type'] == 'markdown':\n",
    "                text.append(cell['source'])\n",
    "\n",
    "    return(text)"
   ]
  },
  {
   "cell_type": "code",
   "execution_count": 55,
   "id": "3064d5cc-d093-4a0c-a9f6-dcc35c299859",
   "metadata": {},
   "outputs": [],
   "source": [
    "doc = extract_text(\"../work/HTMNotebooks/HTM_Overview_2.ipynb\")"
   ]
  },
  {
   "cell_type": "code",
   "execution_count": 71,
   "id": "387c631a-8ba1-4ecb-85eb-5860968f3dec",
   "metadata": {},
   "outputs": [],
   "source": [
    "\n",
    "listOfStringsInNotebook = []\n",
    "for i in range(len(doc)):\n",
    "    cellDict = {}\n",
    "    cellDict['text'] =  doc[i],\n",
    "    cellDict['timestamp'] =  datetime.now()\n",
    "    listOfStringsInNotebook.append(cellDict)"
   ]
  },
  {
   "cell_type": "code",
   "execution_count": 72,
   "id": "d61b163a-70ca-43c7-bf0c-505921d74022",
   "metadata": {},
   "outputs": [],
   "source": [
    "# doc = {\n",
    "#     'author': 'JONES',\n",
    "#     'text': 'Elasticsearch: cool. bonsai cool. blah',\n",
    "#     'timestamp': datetime.now(),\n",
    "# }\n"
   ]
  },
  {
   "cell_type": "code",
   "execution_count": 80,
   "id": "d020aec1-c0b8-4796-8d14-f9dee77c07dc",
   "metadata": {},
   "outputs": [],
   "source": [
    "elasticDBName = \"notebook-search\"\n",
    "\n",
    "res = es.index(index= elasticDBName, body=l[15])\n",
    "#print(res['result'])\n",
    "\n",
    "#res = es.get(index= elasticDBName, id=1)\n",
    "\n",
    "\n",
    "es.indices.refresh(index=elasticDBName)\n",
    "\n",
    "res = es.search(index=elasticDBName, body={\"query\": {\"match_all\": {}}})\n",
    "\n",
    "# print(\"Got %d Hits:\"aa % res['hits']['total']['value'])\n",
    "# for hit in res['hits']['hits']:\n",
    "#     print(\"%(timestamp)s %(author)s: %(text)s\" % hit[\"_source\"])"
   ]
  },
  {
   "cell_type": "code",
   "execution_count": 81,
   "id": "01193923-32c2-488c-84ad-82b5e65eddf0",
   "metadata": {},
   "outputs": [
    {
     "data": {
      "text/plain": [
       "{'took': 1,\n",
       " 'timed_out': False,\n",
       " '_shards': {'total': 1, 'successful': 1, 'skipped': 0, 'failed': 0},\n",
       " 'hits': {'total': {'value': 3, 'relation': 'eq'},\n",
       "  'max_score': 1.0,\n",
       "  'hits': [{'_index': 'notebook-search',\n",
       "    '_type': '_doc',\n",
       "    '_id': 'i1dGCHoBnLMRWPwbU-cV',\n",
       "    '_score': 1.0,\n",
       "    '_source': {'text': [\"It quickly get's large. I accupte that 30 out of 40 bits will match my original SDR, than the number that will match will very large.  \"],\n",
       "     'timestamp': '2021-06-14T02:01:57.024856'}},\n",
       "   {'_index': 'notebook-search',\n",
       "    '_type': '_doc',\n",
       "    '_id': 'jFdGCHoBnLMRWPwblOdV',\n",
       "    '_score': 1.0,\n",
       "    '_source': {'text': ['# overap - is \"spaces\"\\n# offbits - only 1 way all offbits can can fit \\n\\ndef compute_overlap_set_cardinality(n, w0, w1, b, provide_summary = True):\\n    on_bit_space = sp.binomial(w0, b)\\n    off_bit_space = sp.binomial(n - w0, w1 - b)\\n    overlap_set = on_bit_space * off_bit_space\\n    if provide_summary:\\n        print(\"Given a capcity of\", str(w0), \"bits in the on-bit space, the number of ways to arrange \", str(b), \"on-bits: \", on_bit_space)\\n        print(\"Given a capacity\", str(n - w0), \"bits in the off-bit space, the number of ways to arrange\", str(w1 - b), \"off-bits: \", off_bit_space)\\n        print(\"Number of SDRs that will match w0: \", overlap_set)\\n    return(overlap_set)'],\n",
       "     'timestamp': '2021-06-14T02:01:57.024853'}},\n",
       "   {'_index': 'notebook-search',\n",
       "    '_type': '_doc',\n",
       "    '_id': 'jVdHCHoBnLMRWPwbGufz',\n",
       "    '_score': 1.0,\n",
       "    '_source': {'text': ['# overap - is \"spaces\"\\n# offbits - only 1 way all offbits can can fit \\n\\ndef compute_overlap_set_cardinality(n, w0, w1, b, provide_summary = True):\\n    on_bit_space = sp.binomial(w0, b)\\n    off_bit_space = sp.binomial(n - w0, w1 - b)\\n    overlap_set = on_bit_space * off_bit_space\\n    if provide_summary:\\n        print(\"Given a capcity of\", str(w0), \"bits in the on-bit space, the number of ways to arrange \", str(b), \"on-bits: \", on_bit_space)\\n        print(\"Given a capacity\", str(n - w0), \"bits in the off-bit space, the number of ways to arrange\", str(w1 - b), \"off-bits: \", off_bit_space)\\n        print(\"Number of SDRs that will match w0: \", overlap_set)\\n    return(overlap_set)'],\n",
       "     'timestamp': '2021-06-14T02:01:57.024853'}}]}}"
      ]
     },
     "execution_count": 81,
     "metadata": {},
     "output_type": "execute_result"
    }
   ],
   "source": [
    "res"
   ]
  },
  {
   "cell_type": "markdown",
   "id": "b08340d7-646e-4e95-97a2-de676488593d",
   "metadata": {},
   "source": [
    "<b>Searching</b>"
   ]
  },
  {
   "cell_type": "code",
   "execution_count": null,
   "id": "d0f137f1-26bf-442d-8c10-b8e90770a957",
   "metadata": {},
   "outputs": [],
   "source": []
  },
  {
   "cell_type": "code",
   "execution_count": null,
   "id": "116c8f75-9d23-4611-8c85-7f111faaaadf",
   "metadata": {},
   "outputs": [],
   "source": []
  },
  {
   "cell_type": "code",
   "execution_count": null,
   "id": "02fc5aae-1e41-44ba-bd08-dc87b6192b6a",
   "metadata": {},
   "outputs": [],
   "source": []
  }
 ],
 "metadata": {
  "kernelspec": {
   "display_name": "Python 3",
   "language": "python",
   "name": "python3"
  },
  "language_info": {
   "codemirror_mode": {
    "name": "ipython",
    "version": 3
   },
   "file_extension": ".py",
   "mimetype": "text/x-python",
   "name": "python",
   "nbconvert_exporter": "python",
   "pygments_lexer": "ipython3",
   "version": "3.9.2"
  }
 },
 "nbformat": 4,
 "nbformat_minor": 5
}
