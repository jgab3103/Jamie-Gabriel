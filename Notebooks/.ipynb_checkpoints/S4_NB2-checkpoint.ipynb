{
 "cells": [
  {
   "cell_type": "code",
   "execution_count": 389,
   "id": "6dd866d6-49eb-4efc-94c5-70044517bc26",
   "metadata": {},
   "outputs": [],
   "source": [
    "import numpy as np\n",
    "import sympy as sp\n",
    "import pickle\n",
    "from IPython.display import HTML\n",
    "import ipywidgets as widgets\n",
    "import matplotlib as mpl\n",
    "import matplotlib.pyplot as plt\n",
    "from mpl_toolkits.mplot3d import Axes3D\n",
    "import matplotlib.pyplot as plt\n",
    "mpl.rcParams['legend.fontsize'] = 10\n",
    "import pandas as pd\n",
    "import itertools\n",
    "pd.set_option('display.max_colwidth', None)\n",
    "from sympy.plotting import plot \n",
    "\n",
    "#\n",
    "\n",
    "# function to print latex\n",
    "def renderListToLatex(e):\n",
    "    latex_rendering = []\n",
    "\n",
    "    for i in range(len(e)):\n",
    "        latex_rendering.append(\"$$\" + sp.latex(e[i]) + \"$$<br/>\")\n",
    "    \n",
    "    return(HTML(\"\".join(latex_rendering[0:])))\n",
    "\n",
    "def RTL(e):\n",
    "    latex_rendering = []\n",
    "\n",
    "    for i in range(len(e)):\n",
    "        latex_rendering.append(\"$$\" + sp.latex(e[i]) + \"$$<br/>\")\n",
    "    \n",
    "    return(HTML(\"\".join(latex_rendering[0:])))"
   ]
  },
  {
   "cell_type": "markdown",
   "id": "59b98e4b-efa8-4da4-b542-86899b281550",
   "metadata": {},
   "source": [
    "$$ f^{\\prime\\prime}(x) + 2f^\\prime(x) = 3f(x)$$"
   ]
  },
  {
   "cell_type": "markdown",
   "id": "35137f10-3fc5-42a7-9885-03e25f679e85",
   "metadata": {},
   "source": [
    "Differential equation notes\n",
    "\n",
    "- ODE if unknonwn function depends on 1 independent var8iable\n",
    "- If depends on 2 or more, is PDE\n",
    "- Order is the highest derivative appearing  in the equatioi\n",
    "\n"
   ]
  },
  {
   "cell_type": "markdown",
   "id": "b9dca4ad-559e-480e-9606-d3c9047f439e",
   "metadata": {},
   "source": [
    "Chapter 4 gives some basics around terminology\n",
    "\n",
    "Standard form: \n",
    "\n",
    "\n",
    "$$ \\frac{dy}{dx} + Py = Q $$\n",
    "\n",
    "$$ y\\prime = f(x, y) $$\n",
    "\n",
    "Note the RHS can be writeen as a quoteint of 2 functions $M(x, y)$ and $-N(x, y)$ which becomes $ \\frac{dy}{dx} = \\frac{M(x, y)}{-N(x, y)} $ or: \n",
    "\n",
    "$$ M(x, y) dx + N(x, y) dy = 0 $$\n",
    "\n",
    "\n",
    "differential form: \n",
    "\n",
    "$$ dx B - dy C = 0 $$\n",
    "\n",
    "\n",
    "Linear Equations (if standard form can be written as): \n",
    "\n",
    "$$ y\\prime + p(x)y = q(x) $$\n",
    "\n",
    "Bernoulli Equations\n",
    "\n",
    "$$ y\\prime + p(x)y = q(x)y^n $$\n",
    "\n",
    "Where n is a real number. If n = 1 or n = 0, Bernoulli reduced to Linear\n",
    "\n",
    "These are just ways to write equations and group their characteristics\n",
    "\n",
    "Homogenous equations (meaning in first order only). There occur if it is the case that: \n",
    "\n",
    "$$ f(t \\times x, t \\times y) = f(x, y)$$\n",
    "\n",
    "Seperable - y and dy on one side, x and dx on other side\n",
    "\n",
    "exact - put into two x, y funcitons, then test if partial of first function with respect to y is equal to second function with respect to x\n",
    "\n",
    "$ \\frac{\\delta M(x, y)}{\\delta y} = \\frac{\\delta N(x, y)}{\\delta x} $"
   ]
  },
  {
   "cell_type": "markdown",
   "id": "7dd06cf7-e9f1-4d1d-8a95-85478b18a05b",
   "metadata": {},
   "source": [
    "To solve first order sepoeratble problem\n",
    "\n",
    "\n",
    "$$ A(x) dx + B(y) dy = 0$$\n",
    "\n",
    "$$ \\int A(x) dx + \\int B(y) dy = c $$ or in the initial value setting: \n",
    "\n",
    "\n",
    "\n",
    "$$ \\int^x_{x0} A(x) dx + \\int^y_{y0} B(y) dy = c $$"
   ]
  },
  {
   "cell_type": "markdown",
   "id": "5c63bad2-a875-4ab9-8b64-547cd3cf99f1",
   "metadata": {},
   "source": [
    "Reduction of homogenous equations - can be transformed into seperable equation by making the subsutition\n",
    "\n",
    "$$ y = xv $$\n",
    "\n",
    "and its derivative: \n",
    "\n",
    "$$ \\frac{dy}{dx} = v + x \\frac{dv}{dx} $$"
   ]
  },
  {
   "cell_type": "code",
   "execution_count": 204,
   "id": "4f4cc921-8040-45d1-989f-1b2d9169741e",
   "metadata": {},
   "outputs": [],
   "source": [
    "# 4.1\n",
    "x, y, y1,  m, b, a, c, c1, c2, t, dx, dy, ty, tx, k, v, dv, u, du = sp.symbols('x, y, y1,  m, b, a, c, c1, c2, t, dx, dy, ty, tx, k, v, dv, u, du')\n"
   ]
  },
  {
   "cell_type": "code",
   "execution_count": 100,
   "id": "35cd1d5e-21e4-427d-abb2-624179720bb4",
   "metadata": {},
   "outputs": [
    {
     "data": {
      "text/latex": [
       "$\\displaystyle dx x - dy y^{2} = 0$"
      ],
      "text/plain": [
       "Eq(dx*x - dy*y**2, 0)"
      ]
     },
     "execution_count": 100,
     "metadata": {},
     "output_type": "execute_result"
    }
   ],
   "source": [
    "E1 = sp.Eq(x * dx - y**2 * dy, 0)\n",
    "E1"
   ]
  },
  {
   "cell_type": "code",
   "execution_count": 101,
   "id": "5a7cc6fb-3cb2-4d7d-a279-6e6bfa245c52",
   "metadata": {},
   "outputs": [
    {
     "data": {
      "text/latex": [
       "$\\displaystyle \\frac{x^{2}}{2} - \\frac{y^{3}}{3} = c$"
      ],
      "text/plain": [
       "Eq(x**2/2 - y**3/3, c)"
      ]
     },
     "execution_count": 101,
     "metadata": {},
     "output_type": "execute_result"
    }
   ],
   "source": [
    "E2 = sp.Eq(sp.integrate(x, x) + sp.integrate(-y**2, y), c)\n",
    "E2"
   ]
  },
  {
   "cell_type": "code",
   "execution_count": 102,
   "id": "3397fedd-a8ca-4084-bfe9-31e53649780c",
   "metadata": {},
   "outputs": [
    {
     "data": {
      "text/latex": [
       "$\\displaystyle \\sqrt[3]{- 3 c + \\frac{3 x^{2}}{2}}$"
      ],
      "text/plain": [
       "(-3*c + 3*x**2/2)**(1/3)"
      ]
     },
     "execution_count": 102,
     "metadata": {},
     "output_type": "execute_result"
    }
   ],
   "source": [
    "sp.solve(E2, y)[0]"
   ]
  },
  {
   "cell_type": "code",
   "execution_count": 103,
   "id": "0871a931-fc45-4474-8c42-5ea407b65fcb",
   "metadata": {},
   "outputs": [
    {
     "data": {
      "text/latex": [
       "$\\displaystyle \\frac{dy}{dx} = x^{3} y^{2}$"
      ],
      "text/plain": [
       "Eq(dy/dx, x**3*y**2)"
      ]
     },
     "execution_count": 103,
     "metadata": {},
     "output_type": "execute_result"
    }
   ],
   "source": [
    "# 4.2\n",
    "\n",
    "E1 = sp.Eq(dy/dx, y**2 * x**3)\n",
    "E1"
   ]
  },
  {
   "cell_type": "code",
   "execution_count": 104,
   "id": "b71f1d57-37e2-487f-b325-d215f9491598",
   "metadata": {},
   "outputs": [
    {
     "data": {
      "text/latex": [
       "$\\displaystyle \\frac{dy}{y^{2}} = dx x^{3}$"
      ],
      "text/plain": [
       "Eq(dy/y**2, dx*x**3)"
      ]
     },
     "execution_count": 104,
     "metadata": {},
     "output_type": "execute_result"
    }
   ],
   "source": [
    "E2 = sp.Eq(dy/y**2, x**3 * dx)\n",
    "E2"
   ]
  },
  {
   "cell_type": "code",
   "execution_count": 105,
   "id": "9888cd20-520f-4b8a-984f-4a6d3c5bc29c",
   "metadata": {},
   "outputs": [
    {
     "data": {
      "text/latex": [
       "$\\displaystyle \\frac{x^{4}}{4} - \\frac{1}{y}$"
      ],
      "text/plain": [
       "x**4/4 - 1/y"
      ]
     },
     "execution_count": 105,
     "metadata": {},
     "output_type": "execute_result"
    }
   ],
   "source": [
    "E3 = sp.integrate(x**3, x) + sp.integrate(1 / y**2, y)\n",
    "E3"
   ]
  },
  {
   "cell_type": "code",
   "execution_count": 106,
   "id": "b6de3caf-c8a5-4e1b-8513-739f1127663c",
   "metadata": {},
   "outputs": [
    {
     "data": {
      "text/latex": [
       "$\\displaystyle \\frac{x^{4}}{4} - \\frac{1}{y} = c$"
      ],
      "text/plain": [
       "Eq(x**4/4 - 1/y, c)"
      ]
     },
     "execution_count": 106,
     "metadata": {},
     "output_type": "execute_result"
    }
   ],
   "source": [
    "E4 = sp.Eq(E3, c)\n",
    "E4"
   ]
  },
  {
   "cell_type": "code",
   "execution_count": 107,
   "id": "38202243-e7ad-4630-80c9-9aec85722dee",
   "metadata": {},
   "outputs": [
    {
     "data": {
      "text/latex": [
       "$\\displaystyle \\frac{4}{- 4 c + x^{4}}$"
      ],
      "text/plain": [
       "4/(-4*c + x**4)"
      ]
     },
     "execution_count": 107,
     "metadata": {},
     "output_type": "execute_result"
    }
   ],
   "source": [
    "sp.solve(E4, y)[0]"
   ]
  },
  {
   "cell_type": "code",
   "execution_count": 108,
   "id": "7fcf5498-7bf1-47b4-bdab-88e4642c6f14",
   "metadata": {},
   "outputs": [
    {
     "data": {
      "text/latex": [
       "$\\displaystyle dy y = dx \\left(x^{2} + 2\\right)$"
      ],
      "text/plain": [
       "Eq(dy*y, dx*(x**2 + 2))"
      ]
     },
     "execution_count": 108,
     "metadata": {},
     "output_type": "execute_result"
    }
   ],
   "source": [
    "# 4.3\n",
    "E1 = sp.Eq(dy * y, dx * (x**2 + 2))\n",
    "E1"
   ]
  },
  {
   "cell_type": "code",
   "execution_count": 109,
   "id": "4961f05c-a816-48a2-993a-320cdb3077ed",
   "metadata": {},
   "outputs": [
    {
     "data": {
      "text/latex": [
       "$\\displaystyle \\frac{x^{3}}{3} + 2 x + \\frac{y^{2}}{2} = c$"
      ],
      "text/plain": [
       "Eq(x**3/3 + 2*x + y**2/2, c)"
      ]
     },
     "execution_count": 109,
     "metadata": {},
     "output_type": "execute_result"
    }
   ],
   "source": [
    "E2 = sp.Eq(sp.integrate(x**2 + 2, x) + sp.integrate(y, y), c)\n",
    "E2"
   ]
  },
  {
   "cell_type": "code",
   "execution_count": 110,
   "id": "f0938c22-8e21-4ff6-8712-91bba90d2ee1",
   "metadata": {},
   "outputs": [
    {
     "data": {
      "text/html": [
       "$$- \\frac{\\sqrt{18 c - 6 x^{3} - 36 x}}{3}$$<br/>$$\\frac{\\sqrt{18 c - 6 x^{3} - 36 x}}{3}$$<br/>"
      ],
      "text/plain": [
       "<IPython.core.display.HTML object>"
      ]
     },
     "execution_count": 110,
     "metadata": {},
     "output_type": "execute_result"
    }
   ],
   "source": [
    "renderListToLatex(sp.solve(E2, y))"
   ]
  },
  {
   "cell_type": "code",
   "execution_count": 111,
   "id": "0af24383-27e9-4a31-af1a-95e8fd7ac51a",
   "metadata": {},
   "outputs": [
    {
     "data": {
      "text/latex": [
       "$\\displaystyle 5 x + \\log{\\left(y \\right)}$"
      ],
      "text/plain": [
       "5*x + log(y)"
      ]
     },
     "execution_count": 111,
     "metadata": {},
     "output_type": "execute_result"
    }
   ],
   "source": [
    "# 4.4\n",
    "E1 = sp.integrate(1/y, y) + sp.integrate(5, x)\n",
    "E1"
   ]
  },
  {
   "cell_type": "code",
   "execution_count": 112,
   "id": "a1fb7551-9a1e-45e7-9ee2-72f6596d42cd",
   "metadata": {},
   "outputs": [
    {
     "data": {
      "text/latex": [
       "$\\displaystyle 5 x + \\log{\\left(y \\right)} = c$"
      ],
      "text/plain": [
       "Eq(5*x + log(y), c)"
      ]
     },
     "execution_count": 112,
     "metadata": {},
     "output_type": "execute_result"
    }
   ],
   "source": [
    "E2 = sp.Eq(E1, c)\n",
    "E2"
   ]
  },
  {
   "cell_type": "code",
   "execution_count": 113,
   "id": "69f1da2f-9c07-4a98-aecb-11f7233817c0",
   "metadata": {},
   "outputs": [
    {
     "data": {
      "text/latex": [
       "$\\displaystyle e^{c - 5 x}$"
      ],
      "text/plain": [
       "exp(c - 5*x)"
      ]
     },
     "execution_count": 113,
     "metadata": {},
     "output_type": "execute_result"
    }
   ],
   "source": [
    "sp.solve(E2, y)[0]"
   ]
  },
  {
   "cell_type": "code",
   "execution_count": 114,
   "id": "12d1388b-76a1-40cc-a6ea-75a5da937a0c",
   "metadata": {},
   "outputs": [
    {
     "data": {
      "text/latex": [
       "$\\displaystyle dy \\left(y^{4} + 1\\right) = dx \\left(x + 1\\right)$"
      ],
      "text/plain": [
       "Eq(dy*(y**4 + 1), dx*(x + 1))"
      ]
     },
     "execution_count": 114,
     "metadata": {},
     "output_type": "execute_result"
    }
   ],
   "source": [
    "#4.5\n",
    "\n",
    "E1 = sp.Eq(dy * (y**4 + 1), dx * (x + 1))\n",
    "E1\n"
   ]
  },
  {
   "cell_type": "code",
   "execution_count": 115,
   "id": "a1a7fc42-4e98-4049-9fbe-e6263f4cd853",
   "metadata": {},
   "outputs": [
    {
     "data": {
      "text/latex": [
       "$\\displaystyle \\frac{x^{2}}{2} + x + \\frac{y^{5}}{5} + y = c$"
      ],
      "text/plain": [
       "Eq(x**2/2 + x + y**5/5 + y, c)"
      ]
     },
     "execution_count": 115,
     "metadata": {},
     "output_type": "execute_result"
    }
   ],
   "source": [
    "E2 = sp.Eq(sp.integrate(y**4 + 1, y) + sp.integrate(x + 1, x), c)\n",
    "E2"
   ]
  },
  {
   "cell_type": "code",
   "execution_count": 116,
   "id": "bb617672-92db-4350-8746-9c9a356d88ec",
   "metadata": {},
   "outputs": [
    {
     "data": {
      "text/latex": [
       "$\\displaystyle - t^{2} + \\frac{\\operatorname{atan}{\\left(\\frac{y}{3} \\right)}}{3} = c$"
      ],
      "text/plain": [
       "Eq(-t**2 + atan(y/3)/3, c)"
      ]
     },
     "execution_count": 116,
     "metadata": {},
     "output_type": "execute_result"
    }
   ],
   "source": [
    "# 4.6\n",
    "\n",
    "E1 = sp.integrate(1 / (y**2 + 9), y) + sp.integrate(-2 * t, t)\n",
    "E2 = sp.Eq(E1, c)\n",
    "E2"
   ]
  },
  {
   "cell_type": "code",
   "execution_count": 117,
   "id": "28d9357f-74ab-4f03-b46d-01688295e5cb",
   "metadata": {},
   "outputs": [
    {
     "data": {
      "text/latex": [
       "$\\displaystyle 3 \\tan{\\left(3 c + 3 t^{2} \\right)}$"
      ],
      "text/plain": [
       "3*tan(3*c + 3*t**2)"
      ]
     },
     "execution_count": 117,
     "metadata": {},
     "output_type": "execute_result"
    }
   ],
   "source": [
    "sp.solve(E2, y)[0]"
   ]
  },
  {
   "cell_type": "code",
   "execution_count": 118,
   "id": "c2277c05-1cf3-456b-91fb-696022ee3ca7",
   "metadata": {},
   "outputs": [
    {
     "data": {
      "text/latex": [
       "$\\displaystyle t + \\operatorname{atan}{\\left(x - 1 \\right)}$"
      ],
      "text/plain": [
       "t + atan(x - 1)"
      ]
     },
     "execution_count": 118,
     "metadata": {},
     "output_type": "execute_result"
    }
   ],
   "source": [
    "# 4.7\n",
    "\n",
    "E1 = sp.integrate(1 / (x**2 - 2 * x + 2), x) + sp.integrate(1, t)\n",
    "E1"
   ]
  },
  {
   "cell_type": "code",
   "execution_count": 119,
   "id": "9ca1ed5f-031f-4132-a6ed-1b6273a0abae",
   "metadata": {},
   "outputs": [
    {
     "data": {
      "text/latex": [
       "$\\displaystyle t + \\operatorname{atan}{\\left(x - 1 \\right)} = c$"
      ],
      "text/plain": [
       "Eq(t + atan(x - 1), c)"
      ]
     },
     "execution_count": 119,
     "metadata": {},
     "output_type": "execute_result"
    }
   ],
   "source": [
    "E2 = sp.Eq(E1, c)\n",
    "E2"
   ]
  },
  {
   "cell_type": "code",
   "execution_count": 120,
   "id": "73d92f9e-6385-4284-a5ae-a54e99060fdd",
   "metadata": {},
   "outputs": [
    {
     "data": {
      "text/html": [
       "$$\\tan{\\left(c - t \\right)} + 1$$<br/>"
      ],
      "text/plain": [
       "<IPython.core.display.HTML object>"
      ]
     },
     "execution_count": 120,
     "metadata": {},
     "output_type": "execute_result"
    }
   ],
   "source": [
    "renderListToLatex(sp.solve(E2, x))"
   ]
  },
  {
   "cell_type": "code",
   "execution_count": 121,
   "id": "654bf4eb-2d61-41a1-9e66-2c7a405e0133",
   "metadata": {},
   "outputs": [
    {
     "data": {
      "text/latex": [
       "$\\displaystyle - \\frac{y^{2}}{2} + e^{x} = c$"
      ],
      "text/plain": [
       "Eq(-y**2/2 + exp(x), c)"
      ]
     },
     "execution_count": 121,
     "metadata": {},
     "output_type": "execute_result"
    }
   ],
   "source": [
    "# 4.8\n",
    "\n",
    "E1 = sp.Eq(sp.integrate(sp.E**x, x) + sp.integrate(-y, y), c)\n",
    "E1"
   ]
  },
  {
   "cell_type": "code",
   "execution_count": 122,
   "id": "59c5cd15-9e39-4879-a9f0-facba21b9e47",
   "metadata": {},
   "outputs": [
    {
     "data": {
      "text/html": [
       "$$- \\sqrt{- 2 c + 2 e^{x}}$$<br/>$$\\sqrt{- 2 c + 2 e^{x}}$$<br/>"
      ],
      "text/plain": [
       "<IPython.core.display.HTML object>"
      ]
     },
     "execution_count": 122,
     "metadata": {},
     "output_type": "execute_result"
    }
   ],
   "source": [
    "E2 = sp.solve(E1, y)\n",
    "renderListToLatex(sp.solve(E1, y))"
   ]
  },
  {
   "cell_type": "code",
   "execution_count": 123,
   "id": "d2f845ec-e64a-4c3b-892d-fba683c921ed",
   "metadata": {},
   "outputs": [
    {
     "data": {
      "text/html": [
       "$$- \\sqrt{k + 2 e^{x}}$$<br/>$$\\sqrt{k + 2 e^{x}}$$<br/>"
      ],
      "text/plain": [
       "<IPython.core.display.HTML object>"
      ]
     },
     "execution_count": 123,
     "metadata": {},
     "output_type": "execute_result"
    }
   ],
   "source": [
    "E3 = E2[0].subs({c: k/-2}).simplify()\n",
    "E4 = E2[1].subs({c: k/-2}).simplify()\n",
    "renderListToLatex([E3, E4])"
   ]
  },
  {
   "cell_type": "code",
   "execution_count": 124,
   "id": "94149740-51b3-43e7-a29a-c0b239140382",
   "metadata": {},
   "outputs": [
    {
     "data": {
      "text/html": [
       "$$1 = - \\sqrt{k + 2}$$<br/>$$1 = \\sqrt{k + 2}$$<br/>"
      ],
      "text/plain": [
       "<IPython.core.display.HTML object>"
      ]
     },
     "execution_count": 124,
     "metadata": {},
     "output_type": "execute_result"
    }
   ],
   "source": [
    "E5 = sp.Eq(y, E3).subs({y: 1, x:0})\n",
    "E6 = sp.Eq(y, E4).subs({y: 1, x:0})\n",
    "renderListToLatex([E5, E6])"
   ]
  },
  {
   "cell_type": "code",
   "execution_count": 125,
   "id": "1d9723d7-153f-4b76-96dd-80c93caaa658",
   "metadata": {},
   "outputs": [
    {
     "data": {
      "text/plain": [
       "[-1]"
      ]
     },
     "execution_count": 125,
     "metadata": {},
     "output_type": "execute_result"
    }
   ],
   "source": [
    "sp.solve(E6, k)"
   ]
  },
  {
   "cell_type": "code",
   "execution_count": 126,
   "id": "cc3a3b8d-a923-4dc0-aca3-bb36ba27602c",
   "metadata": {},
   "outputs": [
    {
     "data": {
      "text/latex": [
       "$\\displaystyle 1 - e^{x}$"
      ],
      "text/plain": [
       "1 - exp(x)"
      ]
     },
     "execution_count": 126,
     "metadata": {},
     "output_type": "execute_result"
    }
   ],
   "source": [
    "# 4.9\n",
    "\n",
    "E1 = sp.integrate(sp.E**x, (x, x, 0))\n",
    "E1"
   ]
  },
  {
   "cell_type": "code",
   "execution_count": 127,
   "id": "757b8f85-027a-4d6a-85a3-bd7e8321ef72",
   "metadata": {},
   "outputs": [
    {
     "data": {
      "text/latex": [
       "$\\displaystyle \\frac{y^{2}}{2} - \\frac{1}{2}$"
      ],
      "text/plain": [
       "y**2/2 - 1/2"
      ]
     },
     "execution_count": 127,
     "metadata": {},
     "output_type": "execute_result"
    }
   ],
   "source": [
    "E2 = sp.integrate(-y, (y, y, 1))\n",
    "\n",
    "E2"
   ]
  },
  {
   "cell_type": "code",
   "execution_count": 128,
   "id": "87e7bf29-d003-4615-a344-d4431d2d8879",
   "metadata": {},
   "outputs": [
    {
     "data": {
      "text/latex": [
       "$\\displaystyle \\frac{y^{2}}{2} - e^{x} + \\frac{1}{2} = 0$"
      ],
      "text/plain": [
       "Eq(y**2/2 - exp(x) + 1/2, 0)"
      ]
     },
     "execution_count": 128,
     "metadata": {},
     "output_type": "execute_result"
    }
   ],
   "source": [
    "E3  = sp.Eq(E1 + E2, 0)\n",
    "E3"
   ]
  },
  {
   "cell_type": "code",
   "execution_count": 129,
   "id": "3b8b0ef0-8af5-4652-9dac-f90b366fea5a",
   "metadata": {},
   "outputs": [
    {
     "data": {
      "text/latex": [
       "$\\displaystyle \\sqrt{2 e^{x} - 1}$"
      ],
      "text/plain": [
       "sqrt(2*exp(x) - 1)"
      ]
     },
     "execution_count": 129,
     "metadata": {},
     "output_type": "execute_result"
    }
   ],
   "source": [
    "sp.solve(E3, y)[1]"
   ]
  },
  {
   "cell_type": "code",
   "execution_count": 130,
   "id": "3dbedfdf-1143-49f0-b892-e68e56fff5ee",
   "metadata": {},
   "outputs": [
    {
     "data": {
      "text/latex": [
       "$\\displaystyle - x \\sin{\\left(x \\right)} - \\cos{\\left(x \\right)} - 1$"
      ],
      "text/plain": [
       "-x*sin(x) - cos(x) - 1"
      ]
     },
     "execution_count": 130,
     "metadata": {},
     "output_type": "execute_result"
    }
   ],
   "source": [
    "# 4.10\n",
    "\n",
    "E1 = sp.integrate(x * sp.cos(x), (x, x, sp.pi))\n",
    "E1"
   ]
  },
  {
   "cell_type": "code",
   "execution_count": 131,
   "id": "7f9ab5ca-6585-4d24-aac1-9c352cac50cd",
   "metadata": {},
   "outputs": [
    {
     "data": {
      "text/latex": [
       "$\\displaystyle y^{6} - y$"
      ],
      "text/plain": [
       "y**6 - y"
      ]
     },
     "execution_count": 131,
     "metadata": {},
     "output_type": "execute_result"
    }
   ],
   "source": [
    "E2 = sp.integrate(1 - 6 * y**5, (y, y, 0))\n",
    "E2"
   ]
  },
  {
   "cell_type": "code",
   "execution_count": 132,
   "id": "08ef2e6d-ae9a-4a10-847d-1c75331d070a",
   "metadata": {},
   "outputs": [
    {
     "data": {
      "text/latex": [
       "$\\displaystyle - x \\sin{\\left(x \\right)} + y^{6} - y - \\cos{\\left(x \\right)} - 1 = 0$"
      ],
      "text/plain": [
       "Eq(-x*sin(x) + y**6 - y - cos(x) - 1, 0)"
      ]
     },
     "execution_count": 132,
     "metadata": {},
     "output_type": "execute_result"
    }
   ],
   "source": [
    "E3 = sp.Eq(E1 + E2, 0)\n",
    "E3"
   ]
  },
  {
   "cell_type": "code",
   "execution_count": 133,
   "id": "da44ed12-f28e-4c5e-95a2-a247f5e80299",
   "metadata": {},
   "outputs": [
    {
     "data": {
      "text/plain": [
       "[]"
      ]
     },
     "execution_count": 133,
     "metadata": {},
     "output_type": "execute_result"
    }
   ],
   "source": [
    "sp.solve(E3, y)"
   ]
  },
  {
   "cell_type": "markdown",
   "id": "b9ef90f1-633e-4377-a891-bc33d86833a2",
   "metadata": {},
   "source": [
    "Reduction of homogenous equations - can be transformed into seperable equation by making the subsutition\n",
    "\n",
    "$$ y = xv $$\n",
    "\n",
    "and its derivative: \n",
    "\n",
    "$$ \\frac{dy}{dx} = v + x \\frac{dv}{dx} $$\n",
    "\n",
    "If equation is homegenous you can do this\n",
    "\n"
   ]
  },
  {
   "cell_type": "code",
   "execution_count": 136,
   "id": "707b0fdb-f9b0-47dd-a66d-8ca3770dae3d",
   "metadata": {},
   "outputs": [
    {
     "data": {
      "text/latex": [
       "$\\displaystyle v + \\log{\\left(x \\right)} = c$"
      ],
      "text/plain": [
       "Eq(v + log(x), c)"
      ]
     },
     "execution_count": 136,
     "metadata": {},
     "output_type": "execute_result"
    }
   ],
   "source": [
    "# 4.11\n",
    "\n",
    "E1 = sp.Eq(sp.integrate(1/x, x) + sp.integrate(1, v), c)\n",
    "E1"
   ]
  },
  {
   "cell_type": "code",
   "execution_count": 138,
   "id": "1102c486-f545-44c0-b783-c7835142fbf6",
   "metadata": {},
   "outputs": [
    {
     "data": {
      "text/latex": [
       "$\\displaystyle y_{1} = \\frac{x^{4} + 2 y^{4}}{x y^{3}}$"
      ],
      "text/plain": [
       "Eq(y1, (x**4 + 2*y**4)/(x*y**3))"
      ]
     },
     "execution_count": 138,
     "metadata": {},
     "output_type": "execute_result"
    }
   ],
   "source": [
    "#4.12\n",
    "\n",
    "E1 = sp.Eq(y1, (2 * y**4 + x**4) / (x * y**3))\n",
    "E1"
   ]
  },
  {
   "cell_type": "code",
   "execution_count": 142,
   "id": "89f158f5-2f64-4a6c-ab5b-b315b3b00e16",
   "metadata": {},
   "outputs": [
    {
     "data": {
      "text/latex": [
       "$\\displaystyle y_{1} = \\frac{x^{3}}{y^{3}} + \\frac{2 y}{x}$"
      ],
      "text/plain": [
       "Eq(y1, x**3/y**3 + 2*y/x)"
      ]
     },
     "execution_count": 142,
     "metadata": {},
     "output_type": "execute_result"
    }
   ],
   "source": [
    "# check if homogenous\n",
    "\n",
    "E2 = E1.subs({x: t * x, y: t * y}).simplify()\n",
    "E2"
   ]
  },
  {
   "cell_type": "code",
   "execution_count": 146,
   "id": "1e24f0fb-c68e-4991-94d6-81eec845548a",
   "metadata": {},
   "outputs": [
    {
     "data": {
      "text/latex": [
       "$\\displaystyle 0$"
      ],
      "text/plain": [
       "0"
      ]
     },
     "execution_count": 146,
     "metadata": {},
     "output_type": "execute_result"
    }
   ],
   "source": [
    "# this is homegenous\n",
    "(E1.rhs - E2.rhs).simplify()"
   ]
  },
  {
   "cell_type": "code",
   "execution_count": 167,
   "id": "cd1bc43f-9549-493f-a093-78cb0cdb734b",
   "metadata": {},
   "outputs": [
    {
     "data": {
      "text/latex": [
       "$\\displaystyle y_{1} = \\frac{2 v^{4} x^{4} + x^{4}}{v^{3} x^{4}}$"
      ],
      "text/plain": [
       "Eq(y1, (2*v**4*x**4 + x**4)/(v**3*x**4))"
      ]
     },
     "execution_count": 167,
     "metadata": {},
     "output_type": "execute_result"
    }
   ],
   "source": [
    "E3 = E1.subs({y: x * v})\n",
    "E3"
   ]
  },
  {
   "cell_type": "code",
   "execution_count": 168,
   "id": "cfe49149-8299-44eb-9781-233d3617d19b",
   "metadata": {},
   "outputs": [
    {
     "data": {
      "text/latex": [
       "$\\displaystyle \\frac{dv x}{dx} + v = \\frac{2 v^{4} x^{4} + x^{4}}{v^{3} x^{4}}$"
      ],
      "text/plain": [
       "Eq(dv*x/dx + v, (2*v**4*x**4 + x**4)/(v**3*x**4))"
      ]
     },
     "execution_count": 168,
     "metadata": {},
     "output_type": "execute_result"
    }
   ],
   "source": [
    "E4 = E3.subs({y1: v + x * (dv/dx)})\n",
    "E4"
   ]
  },
  {
   "cell_type": "code",
   "execution_count": 173,
   "id": "5bed107e-e556-4cb9-9e00-002a688852c4",
   "metadata": {},
   "outputs": [
    {
     "data": {
      "text/latex": [
       "$\\displaystyle dv = \\frac{dx \\left(v^{4} + 1\\right)}{v^{3} x}$"
      ],
      "text/plain": [
       "Eq(dv, dx*(v**4 + 1)/(v**3*x))"
      ]
     },
     "execution_count": 173,
     "metadata": {},
     "output_type": "execute_result"
    }
   ],
   "source": [
    "E2 = sp.Eq(dv, sp.solve(E4, dv)[0])\n",
    "E2"
   ]
  },
  {
   "cell_type": "code",
   "execution_count": 174,
   "id": "78413f03-05b5-419b-afbc-7a3a939f8f17",
   "metadata": {},
   "outputs": [
    {
     "data": {
      "text/latex": [
       "$\\displaystyle \\frac{dv}{dx} = \\frac{v^{4} + 1}{v^{3} x}$"
      ],
      "text/plain": [
       "Eq(dv/dx, (v**4 + 1)/(v**3*x))"
      ]
     },
     "execution_count": 174,
     "metadata": {},
     "output_type": "execute_result"
    }
   ],
   "source": [
    "E3 = sp.Eq(E2.lhs/dx, E2.rhs/dx)\n",
    "E3"
   ]
  },
  {
   "cell_type": "code",
   "execution_count": 176,
   "id": "1eb3d45d-c766-4c01-854e-07bf8978742b",
   "metadata": {},
   "outputs": [
    {
     "data": {
      "text/latex": [
       "$\\displaystyle \\frac{dv x}{dx} = \\frac{v^{4} + 1}{v^{3}}$"
      ],
      "text/plain": [
       "Eq(dv*x/dx, (v**4 + 1)/v**3)"
      ]
     },
     "execution_count": 176,
     "metadata": {},
     "output_type": "execute_result"
    }
   ],
   "source": [
    "E4 = sp.Eq(E3.lhs * x, E3.rhs * x)\n",
    "E4"
   ]
  },
  {
   "cell_type": "code",
   "execution_count": 178,
   "id": "668d6b82-5727-48e0-8826-07020acee086",
   "metadata": {},
   "outputs": [
    {
     "data": {
      "text/latex": [
       "$\\displaystyle \\frac{x}{dx} = \\frac{v^{4} + 1}{dv v^{3}}$"
      ],
      "text/plain": [
       "Eq(x/dx, (v**4 + 1)/(dv*v**3))"
      ]
     },
     "execution_count": 178,
     "metadata": {},
     "output_type": "execute_result"
    }
   ],
   "source": [
    "E5 = sp.Eq(E4.lhs / dv, E4.rhs  / dv)\n",
    "E5"
   ]
  },
  {
   "cell_type": "code",
   "execution_count": 182,
   "id": "761e68d4-2444-4720-b035-3052f899f7a4",
   "metadata": {},
   "outputs": [
    {
     "data": {
      "text/latex": [
       "$\\displaystyle \\frac{dx}{x} = \\frac{dv v^{3}}{v^{4} + 1}$"
      ],
      "text/plain": [
       "Eq(dx/x, dv*v**3/(v**4 + 1))"
      ]
     },
     "execution_count": 182,
     "metadata": {},
     "output_type": "execute_result"
    }
   ],
   "source": [
    "E6 = sp.Eq(1 / E5.lhs, 1 / E5.rhs)\n",
    "E6"
   ]
  },
  {
   "cell_type": "code",
   "execution_count": 190,
   "id": "d215963f-e86d-4204-90c9-802043d52b21",
   "metadata": {},
   "outputs": [
    {
     "data": {
      "text/latex": [
       "$\\displaystyle \\log{\\left(x \\right)} - \\frac{\\log{\\left(v^{4} + 1 \\right)}}{4} = c$"
      ],
      "text/plain": [
       "Eq(log(x) - log(v**4 + 1)/4, c)"
      ]
     },
     "execution_count": 190,
     "metadata": {},
     "output_type": "execute_result"
    }
   ],
   "source": [
    "E7 = sp.Eq(sp.integrate(1 / x, x) - sp.integrate(v**3 / (v**4 + 1), v), c)\n",
    "E7"
   ]
  },
  {
   "cell_type": "code",
   "execution_count": 194,
   "id": "83193614-69ad-4eb3-bcc5-4b793deecb10",
   "metadata": {},
   "outputs": [
    {
     "data": {
      "text/latex": [
       "$\\displaystyle \\log{\\left(x \\right)} - \\frac{\\log{\\left(1 + \\frac{y^{4}}{x^{4}} \\right)}}{4} = c$"
      ],
      "text/plain": [
       "Eq(log(x) - log(1 + y**4/x**4)/4, c)"
      ]
     },
     "execution_count": 194,
     "metadata": {},
     "output_type": "execute_result"
    }
   ],
   "source": [
    "E8 =  E7.subs({v: y / x})\n",
    "E8"
   ]
  },
  {
   "cell_type": "code",
   "execution_count": 196,
   "id": "47dbbb0e-0b4c-4795-8366-7777f8cbbaf4",
   "metadata": {},
   "outputs": [
    {
     "data": {
      "text/html": [
       "$$- i \\sqrt[4]{x^{4} \\left(-1 + e^{- 4 \\left(c - \\log{\\left(x \\right)}\\right)}\\right)}$$<br/>$$i \\sqrt[4]{- x^{4} \\left(1 - x^{4} e^{- 4 c}\\right)}$$<br/>$$- \\sqrt[4]{x^{4} \\left(-1 + e^{- 4 \\left(c - \\log{\\left(x \\right)}\\right)}\\right)}$$<br/>$$\\sqrt[4]{- x^{4} \\left(1 - x^{4} e^{- 4 c}\\right)}$$<br/>"
      ],
      "text/plain": [
       "<IPython.core.display.HTML object>"
      ]
     },
     "execution_count": 196,
     "metadata": {},
     "output_type": "execute_result"
    }
   ],
   "source": [
    "renderListToLatex(sp.solve(E8, y))"
   ]
  },
  {
   "cell_type": "markdown",
   "id": "69b5e3f8-9e0f-4903-a543-e776e229dc6c",
   "metadata": {},
   "source": [
    "Reduction of homogenous equations - can be transformed into seperable equation by making the subsutition\n",
    "\n",
    "$$ y = xv $$\n",
    "\n",
    "and its derivative: \n",
    "\n",
    "$$ \\frac{dy}{dx} = v + x \\frac{dv}{dx} $$\n",
    "\n",
    "If equation is homegenous you can do this\n"
   ]
  },
  {
   "cell_type": "markdown",
   "id": "1c61c8ec-cf68-4c58-8793-d381315f5ffd",
   "metadata": {},
   "source": [
    "Another apporach is to rewrite the equation as: \n",
    "\n",
    "$$ \\frac{dx}{ dy} = \\frac{1}{f(x, y)} $$\n",
    "\n",
    "and then using the following solution: \n",
    "\n",
    "$$ x = yu $$\n",
    "\n",
    "With the corresponding derivative: \n",
    "\n",
    "$$ \\frac{dx}{dy} = u + y \\frac{du}{dy} $$"
   ]
  },
  {
   "cell_type": "code",
   "execution_count": 212,
   "id": "a33512e7-c254-4cfa-9e78-ee2900745d71",
   "metadata": {},
   "outputs": [
    {
     "data": {
      "text/latex": [
       "$\\displaystyle \\frac{dx}{dy} = \\frac{x y^{3}}{x^{4} + 2 y^{4}}$"
      ],
      "text/plain": [
       "Eq(dx/dy, x*y**3/(x**4 + 2*y**4))"
      ]
     },
     "execution_count": 212,
     "metadata": {},
     "output_type": "execute_result"
    }
   ],
   "source": [
    "# 4.13\n",
    "\n",
    "E1 = sp.Eq(dx / dy, (x * y**3) / (2 * y**4  + x**4))\n",
    "E1"
   ]
  },
  {
   "cell_type": "code",
   "execution_count": 213,
   "id": "58e44a7b-83d7-49ab-9984-9aeb4762ab35",
   "metadata": {},
   "outputs": [
    {
     "data": {
      "text/latex": [
       "$\\displaystyle \\frac{dx}{dy} = \\frac{u y^{4}}{u^{4} y^{4} + 2 y^{4}}$"
      ],
      "text/plain": [
       "Eq(dx/dy, u*y**4/(u**4*y**4 + 2*y**4))"
      ]
     },
     "execution_count": 213,
     "metadata": {},
     "output_type": "execute_result"
    }
   ],
   "source": [
    "E2 = E1.subs({x: y * u})\n",
    "E2"
   ]
  },
  {
   "cell_type": "code",
   "execution_count": 214,
   "id": "3b717a65-3d11-4c91-893a-57b28035e609",
   "metadata": {},
   "outputs": [
    {
     "data": {
      "text/latex": [
       "$\\displaystyle \\frac{du y}{dy} + u = \\frac{u y^{4}}{u^{4} y^{4} + 2 y^{4}}$"
      ],
      "text/plain": [
       "Eq(du*y/dy + u, u*y**4/(u**4*y**4 + 2*y**4))"
      ]
     },
     "execution_count": 214,
     "metadata": {},
     "output_type": "execute_result"
    }
   ],
   "source": [
    "E3 = sp.Eq(u + y * (du / dy), E2.rhs)\n",
    "E3"
   ]
  },
  {
   "cell_type": "code",
   "execution_count": 217,
   "id": "67959d12-6603-42fa-a7da-82c490c694de",
   "metadata": {},
   "outputs": [
    {
     "data": {
      "text/latex": [
       "$\\displaystyle dy = - \\frac{du y \\left(u^{4} + 2\\right)}{u \\left(u^{4} + 1\\right)}$"
      ],
      "text/plain": [
       "Eq(dy, -du*y*(u**4 + 2)/(u*(u**4 + 1)))"
      ]
     },
     "execution_count": 217,
     "metadata": {},
     "output_type": "execute_result"
    }
   ],
   "source": [
    "E4 = sp.Eq(dy, sp.solve(E3, dy)[0])\n",
    "E4"
   ]
  },
  {
   "cell_type": "code",
   "execution_count": 218,
   "id": "9868c8ae-c89a-4c42-9fb2-d66e57a66458",
   "metadata": {},
   "outputs": [
    {
     "data": {
      "text/latex": [
       "$\\displaystyle \\frac{dy}{y} = - \\frac{du \\left(u^{4} + 2\\right)}{u \\left(u^{4} + 1\\right)}$"
      ],
      "text/plain": [
       "Eq(dy/y, -du*(u**4 + 2)/(u*(u**4 + 1)))"
      ]
     },
     "execution_count": 218,
     "metadata": {},
     "output_type": "execute_result"
    }
   ],
   "source": [
    "E5 = sp.Eq(E4.lhs / y, E4.rhs / y)\n",
    "E5"
   ]
  },
  {
   "cell_type": "code",
   "execution_count": 223,
   "id": "37596e82-837b-4eae-9f15-9e6a21c3e950",
   "metadata": {},
   "outputs": [
    {
     "data": {
      "text/latex": [
       "$\\displaystyle 2 \\log{\\left(u \\right)} + \\log{\\left(y \\right)} - \\frac{\\log{\\left(u^{4} + 1 \\right)}}{4} = c$"
      ],
      "text/plain": [
       "Eq(2*log(u) + log(y) - log(u**4 + 1)/4, c)"
      ]
     },
     "execution_count": 223,
     "metadata": {},
     "output_type": "execute_result"
    }
   ],
   "source": [
    "E6 = sp.Eq(sp.integrate(1 / y, y) + sp.integrate((u**4 + 2) / (u * (u**4 + 1))), c)\n",
    "E6"
   ]
  },
  {
   "cell_type": "code",
   "execution_count": 225,
   "id": "1b602b22-d343-4b2c-9992-9eac2829201c",
   "metadata": {},
   "outputs": [
    {
     "data": {
      "text/latex": [
       "$\\displaystyle \\log{\\left(y \\right)} + 2 \\log{\\left(\\frac{x}{y} \\right)} - \\frac{\\log{\\left(\\frac{x^{4}}{y^{4}} + 1 \\right)}}{4} = c$"
      ],
      "text/plain": [
       "Eq(log(y) + 2*log(x/y) - log(x**4/y**4 + 1)/4, c)"
      ]
     },
     "execution_count": 225,
     "metadata": {},
     "output_type": "execute_result"
    }
   ],
   "source": [
    "E7 = E6.subs({u: x / y})\n",
    "E7"
   ]
  },
  {
   "cell_type": "code",
   "execution_count": 228,
   "id": "1e1f571a-b125-43a9-bb2e-91d6956f9043",
   "metadata": {},
   "outputs": [
    {
     "data": {
      "text/html": [
       "$$- i \\sqrt[4]{x^{8} e^{- 4 c} - x^{4}}$$<br/>$$i \\sqrt[4]{x^{8} e^{- 4 c} - x^{4}}$$<br/>$$- \\sqrt[4]{x^{8} e^{- 4 c} - x^{4}}$$<br/>$$\\sqrt[4]{x^{8} e^{- 4 c} - x^{4}}$$<br/>"
      ],
      "text/plain": [
       "<IPython.core.display.HTML object>"
      ]
     },
     "execution_count": 228,
     "metadata": {},
     "output_type": "execute_result"
    }
   ],
   "source": [
    "E8 = sp.solve(E7, y)\n",
    "renderListToLatex(E8)"
   ]
  },
  {
   "cell_type": "code",
   "execution_count": 238,
   "id": "0a5e08c7-3905-466a-9768-c4297cc64dae",
   "metadata": {},
   "outputs": [
    {
     "data": {
      "text/latex": [
       "$\\displaystyle \\frac{dy}{dx} = \\frac{2 x y}{x^{2} - y^{2}}$"
      ],
      "text/plain": [
       "Eq(dy/dx, 2*x*y/(x**2 - y**2))"
      ]
     },
     "execution_count": 238,
     "metadata": {},
     "output_type": "execute_result"
    }
   ],
   "source": [
    "# 4.14\n",
    "E1 = sp.Eq(dy/dx, (2 * x * y) / (x**2 - y**2))\n",
    "E1"
   ]
  },
  {
   "cell_type": "code",
   "execution_count": 239,
   "id": "15e59abf-acea-42f0-b13e-ed32e081512a",
   "metadata": {},
   "outputs": [
    {
     "data": {
      "text/latex": [
       "$\\displaystyle \\frac{2 x y}{x^{2} - y^{2}}$"
      ],
      "text/plain": [
       "2*x*y/(x**2 - y**2)"
      ]
     },
     "execution_count": 239,
     "metadata": {},
     "output_type": "execute_result"
    }
   ],
   "source": [
    "# This is not seperable. Check if homogenous\n",
    "\n",
    "E1.rhs.subs({x: x * t, y: y * t}).simplify()"
   ]
  },
  {
   "cell_type": "code",
   "execution_count": 240,
   "id": "6a108508-7301-4dcb-8975-56cc86491a4e",
   "metadata": {},
   "outputs": [],
   "source": [
    "# this is not seperable, but is homogenous"
   ]
  },
  {
   "cell_type": "markdown",
   "id": "d132649d-71b0-469c-af04-cab97b0ba402",
   "metadata": {},
   "source": [
    "Reduction of homogenous equations - can be transformed into seperable equation by making the subsutition\n",
    "\n",
    "$$ y = xv $$\n",
    "\n",
    "and its derivative: \n",
    "\n",
    "$$ \\frac{dy}{dx} = v + x \\frac{dv}{dx} $$\n",
    "\n",
    "If equation is homegenous you can do this"
   ]
  },
  {
   "cell_type": "code",
   "execution_count": 249,
   "id": "789bd945-6b5a-4ebb-97f9-7b9616d9bfdf",
   "metadata": {},
   "outputs": [
    {
     "data": {
      "text/latex": [
       "$\\displaystyle \\frac{dy}{dx} = \\frac{2 x y}{x^{2} - y^{2}}$"
      ],
      "text/plain": [
       "Eq(dy/dx, 2*x*y/(x**2 - y**2))"
      ]
     },
     "execution_count": 249,
     "metadata": {},
     "output_type": "execute_result"
    }
   ],
   "source": [
    "E1"
   ]
  },
  {
   "cell_type": "code",
   "execution_count": 250,
   "id": "a6ba1906-4f09-42b1-9137-c12a4c22e2ed",
   "metadata": {},
   "outputs": [
    {
     "data": {
      "text/latex": [
       "$\\displaystyle \\frac{dy}{dx} = \\frac{2 v x^{2}}{- v^{2} x^{2} + x^{2}}$"
      ],
      "text/plain": [
       "Eq(dy/dx, 2*v*x**2/(-v**2*x**2 + x**2))"
      ]
     },
     "execution_count": 250,
     "metadata": {},
     "output_type": "execute_result"
    }
   ],
   "source": [
    "E2 = E1.subs({y: x * v})\n",
    "E2"
   ]
  },
  {
   "cell_type": "code",
   "execution_count": 245,
   "id": "54f854ee-4d75-4add-8f32-70682239a188",
   "metadata": {},
   "outputs": [
    {
     "data": {
      "text/latex": [
       "$\\displaystyle \\frac{dv x}{dx} + v = \\frac{2 v x^{2}}{- v^{2} x^{2} + x^{2}}$"
      ],
      "text/plain": [
       "Eq(dv*x/dx + v, 2*v*x**2/(-v**2*x**2 + x**2))"
      ]
     },
     "execution_count": 245,
     "metadata": {},
     "output_type": "execute_result"
    }
   ],
   "source": [
    "E3 = sp.Eq(v + x * (dv / dx), E2.rhs)\n",
    "E3"
   ]
  },
  {
   "cell_type": "code",
   "execution_count": 251,
   "id": "6ec2cd7e-5a93-4598-9fd4-345f61faf489",
   "metadata": {},
   "outputs": [
    {
     "data": {
      "text/latex": [
       "$\\displaystyle dx = \\frac{dv x \\left(1 - v^{2}\\right)}{v \\left(v^{2} + 1\\right)}$"
      ],
      "text/plain": [
       "Eq(dx, dv*x*(1 - v**2)/(v*(v**2 + 1)))"
      ]
     },
     "execution_count": 251,
     "metadata": {},
     "output_type": "execute_result"
    }
   ],
   "source": [
    "E4 = sp.Eq(dx, sp.solve(E3, dx)[0])\n",
    "E4"
   ]
  },
  {
   "cell_type": "code",
   "execution_count": 253,
   "id": "ecaa87c4-a774-4d5f-bc11-71e5372638f3",
   "metadata": {},
   "outputs": [
    {
     "data": {
      "text/latex": [
       "$\\displaystyle \\frac{dx}{x} = \\frac{dv \\left(1 - v^{2}\\right)}{v \\left(v^{2} + 1\\right)}$"
      ],
      "text/plain": [
       "Eq(dx/x, dv*(1 - v**2)/(v*(v**2 + 1)))"
      ]
     },
     "execution_count": 253,
     "metadata": {},
     "output_type": "execute_result"
    }
   ],
   "source": [
    "E5 = sp.Eq(E4.lhs / x, E4.rhs / x )\n",
    "E5"
   ]
  },
  {
   "cell_type": "code",
   "execution_count": 259,
   "id": "87bfc208-677c-4f9a-bf02-40b6191d772c",
   "metadata": {},
   "outputs": [
    {
     "data": {
      "text/latex": [
       "$\\displaystyle c = - \\log{\\left(v \\right)} + \\log{\\left(x \\right)} + \\log{\\left(v^{2} + 1 \\right)}$"
      ],
      "text/plain": [
       "Eq(c, -log(v) + log(x) + log(v**2 + 1))"
      ]
     },
     "execution_count": 259,
     "metadata": {},
     "output_type": "execute_result"
    }
   ],
   "source": [
    "E6 = sp.Eq(c, sp.integrate(1 / x) - sp.integrate(E5.rhs / dv, v))\n",
    "E6"
   ]
  },
  {
   "cell_type": "code",
   "execution_count": 262,
   "id": "d5852e38-899d-4569-8275-6ae1f151fcf3",
   "metadata": {},
   "outputs": [
    {
     "data": {
      "text/latex": [
       "$\\displaystyle c = \\log{\\left(x \\right)} - \\log{\\left(\\frac{y}{x} \\right)} + \\log{\\left(1 + \\frac{y^{2}}{x^{2}} \\right)}$"
      ],
      "text/plain": [
       "Eq(c, log(x) - log(y/x) + log(1 + y**2/x**2))"
      ]
     },
     "execution_count": 262,
     "metadata": {},
     "output_type": "execute_result"
    }
   ],
   "source": [
    "E7 = E6.subs({v: y / x})\n",
    "E7"
   ]
  },
  {
   "cell_type": "code",
   "execution_count": 263,
   "id": "2e37cffd-3d4d-424b-9439-2a12c7ec17cb",
   "metadata": {},
   "outputs": [],
   "source": [
    "E8 = sp.solve(E7, y)"
   ]
  },
  {
   "cell_type": "code",
   "execution_count": 265,
   "id": "3cee17e7-1040-4507-acdb-0f9b44df7c25",
   "metadata": {},
   "outputs": [
    {
     "data": {
      "text/html": [
       "$$- \\frac{\\sqrt{- 4 x^{2} + e^{2 c}}}{2} + \\frac{e^{c}}{2}$$<br/>$$\\frac{\\sqrt{- 4 x^{2} + e^{2 c}}}{2} + \\frac{e^{c}}{2}$$<br/>"
      ],
      "text/plain": [
       "<IPython.core.display.HTML object>"
      ]
     },
     "execution_count": 265,
     "metadata": {},
     "output_type": "execute_result"
    }
   ],
   "source": [
    "renderListToLatex(E8)"
   ]
  },
  {
   "cell_type": "markdown",
   "id": "806e2abb-1882-440b-8b2e-28e37076a351",
   "metadata": {},
   "source": [
    "Reduction of homogenous equations - can be transformed into seperable equation by making the subsutition\n",
    "\n",
    "$$ y = xv $$\n",
    "\n",
    "and its derivative: \n",
    "\n",
    "$$ \\frac{dy}{dx} = v + x \\frac{dv}{dx} $$\n",
    "\n",
    "If equation is homegenous you can do this"
   ]
  },
  {
   "cell_type": "code",
   "execution_count": 275,
   "id": "11fdc9aa-77ea-43b8-9f8d-dee96593c656",
   "metadata": {},
   "outputs": [
    {
     "data": {
      "text/latex": [
       "$\\displaystyle \\frac{x^{2} + y^{2}}{x y}$"
      ],
      "text/plain": [
       "(x**2 + y**2)/(x*y)"
      ]
     },
     "execution_count": 275,
     "metadata": {},
     "output_type": "execute_result"
    }
   ],
   "source": [
    "# 4.15\n",
    "\n",
    "E1 = (x**2 + y**2) / (x * y)\n",
    "E1"
   ]
  },
  {
   "cell_type": "code",
   "execution_count": 276,
   "id": "fad52bb9-1c5f-4b99-8b4a-213a1c9630a4",
   "metadata": {},
   "outputs": [
    {
     "data": {
      "text/latex": [
       "$\\displaystyle \\frac{dv x}{dx} + v = \\frac{v^{2} x^{2} + x^{2}}{v x^{2}}$"
      ],
      "text/plain": [
       "Eq(dv*x/dx + v, (v**2*x**2 + x**2)/(v*x**2))"
      ]
     },
     "execution_count": 276,
     "metadata": {},
     "output_type": "execute_result"
    }
   ],
   "source": [
    "E2 = sp.Eq(v + (x * (dv / dx)), E1.subs({y: x * v}))\n",
    "E2"
   ]
  },
  {
   "cell_type": "code",
   "execution_count": 285,
   "id": "6065c58d-0076-4447-9a7d-ebb5d8f3a59b",
   "metadata": {},
   "outputs": [
    {
     "data": {
      "text/latex": [
       "$\\displaystyle dv = \\frac{dx}{v x}$"
      ],
      "text/plain": [
       "Eq(dv, dx/(v*x))"
      ]
     },
     "execution_count": 285,
     "metadata": {},
     "output_type": "execute_result"
    }
   ],
   "source": [
    "E4 = sp.Eq(dv, sp.solve(E2, dv)[0])\n",
    "E4"
   ]
  },
  {
   "cell_type": "code",
   "execution_count": 287,
   "id": "2488507a-f521-4073-bd8d-8b308ee1a2c9",
   "metadata": {},
   "outputs": [
    {
     "data": {
      "text/latex": [
       "$\\displaystyle dv v = \\frac{dx}{x}$"
      ],
      "text/plain": [
       "Eq(dv*v, dx/x)"
      ]
     },
     "execution_count": 287,
     "metadata": {},
     "output_type": "execute_result"
    }
   ],
   "source": [
    "E5 = sp.Eq(E4.lhs * v, E4.rhs * v)\n",
    "E5"
   ]
  },
  {
   "cell_type": "code",
   "execution_count": 289,
   "id": "392b3a52-7f30-457f-8f0b-502a86c6b246",
   "metadata": {},
   "outputs": [
    {
     "data": {
      "text/latex": [
       "$\\displaystyle - \\frac{v^{2}}{2} + \\log{\\left(x \\right)} = c$"
      ],
      "text/plain": [
       "Eq(-v**2/2 + log(x), c)"
      ]
     },
     "execution_count": 289,
     "metadata": {},
     "output_type": "execute_result"
    }
   ],
   "source": [
    "E6 = sp.Eq(sp.integrate(1 / x, x) - sp.integrate(v, v), c)\n",
    "E6"
   ]
  },
  {
   "cell_type": "code",
   "execution_count": 290,
   "id": "de6e417b-9ada-477a-be26-e3ceb90129b9",
   "metadata": {},
   "outputs": [
    {
     "data": {
      "text/latex": [
       "$\\displaystyle \\log{\\left(x \\right)} - \\frac{y^{2}}{2 x^{2}} = c$"
      ],
      "text/plain": [
       "Eq(log(x) - y**2/(2*x**2), c)"
      ]
     },
     "execution_count": 290,
     "metadata": {},
     "output_type": "execute_result"
    }
   ],
   "source": [
    "E7 = E6.subs({v: y / x})\n",
    "E7"
   ]
  },
  {
   "cell_type": "code",
   "execution_count": 292,
   "id": "afdec968-5c06-46a5-a418-8bc3a4e1a7a1",
   "metadata": {},
   "outputs": [
    {
     "data": {
      "text/html": [
       "$$- x \\sqrt{- 2 c + 2 \\log{\\left(x \\right)}}$$<br/>$$x \\sqrt{- 2 c + 2 \\log{\\left(x \\right)}}$$<br/>"
      ],
      "text/plain": [
       "<IPython.core.display.HTML object>"
      ]
     },
     "execution_count": 292,
     "metadata": {},
     "output_type": "execute_result"
    }
   ],
   "source": [
    "E8 = sp.solve(E7, y)\n",
    "renderListToLatex(E8)"
   ]
  },
  {
   "cell_type": "markdown",
   "id": "3d4758eb-1d47-46d6-b770-40e7aa1d3f48",
   "metadata": {},
   "source": [
    "Reduction of homogenous equations - can be transformed into seperable equation by making the subsutition\n",
    "\n",
    "$$ y = xv $$\n",
    "\n",
    "and its derivative: \n",
    "\n",
    "$$ \\frac{dy}{dx} = v + x \\frac{dv}{dx} $$\n",
    "\n",
    "If equation is homegenous you can do this"
   ]
  },
  {
   "cell_type": "code",
   "execution_count": 294,
   "id": "3202d3fe-b1b3-4f62-b0dd-fd0fd0f27ae8",
   "metadata": {},
   "outputs": [
    {
     "data": {
      "text/latex": [
       "$\\displaystyle x^{2} \\left(- 2 c + 2 \\log{\\left(x \\right)}\\right)$"
      ],
      "text/plain": [
       "x**2*(-2*c + 2*log(x))"
      ]
     },
     "execution_count": 294,
     "metadata": {},
     "output_type": "execute_result"
    }
   ],
   "source": [
    "#4.16"
   ]
  },
  {
   "cell_type": "code",
   "execution_count": 301,
   "id": "aba680b6-e461-4be1-aba8-45ebed276452",
   "metadata": {},
   "outputs": [
    {
     "data": {
      "text/latex": [
       "$\\displaystyle \\frac{x^{2} + y^{2}}{x y}$"
      ],
      "text/plain": [
       "(x**2 + y**2)/(x*y)"
      ]
     },
     "execution_count": 301,
     "metadata": {},
     "output_type": "execute_result"
    }
   ],
   "source": [
    "E1 = (x**2 + y**2) / (x * y)\n",
    "E1"
   ]
  },
  {
   "cell_type": "code",
   "execution_count": 302,
   "id": "de18d17a-da8d-4739-9117-2c90929d144d",
   "metadata": {},
   "outputs": [
    {
     "data": {
      "text/latex": [
       "$\\displaystyle \\frac{x}{y} + \\frac{y}{x}$"
      ],
      "text/plain": [
       "x/y + y/x"
      ]
     },
     "execution_count": 302,
     "metadata": {},
     "output_type": "execute_result"
    }
   ],
   "source": [
    "# Check if homgenous\n",
    "E2 = E1.subs({x: t * x, y: t * y}).simplify()\n",
    "E2"
   ]
  },
  {
   "cell_type": "code",
   "execution_count": 303,
   "id": "928e192a-503e-41e2-b665-786f8701eb3a",
   "metadata": {},
   "outputs": [
    {
     "data": {
      "text/plain": [
       "True"
      ]
     },
     "execution_count": 303,
     "metadata": {},
     "output_type": "execute_result"
    }
   ],
   "source": [
    "E1.simplify() == E2"
   ]
  },
  {
   "cell_type": "code",
   "execution_count": 308,
   "id": "2ab50887-0cdf-4472-9236-50bc739ebac5",
   "metadata": {},
   "outputs": [
    {
     "data": {
      "text/latex": [
       "$\\displaystyle \\frac{v^{2} x^{2} + x^{2}}{v x^{2}}$"
      ],
      "text/plain": [
       "(v**2*x**2 + x**2)/(v*x**2)"
      ]
     },
     "execution_count": 308,
     "metadata": {},
     "output_type": "execute_result"
    }
   ],
   "source": [
    "# these are homogenous, so a y = xv subsitution can bve used\n",
    "\n",
    "E3 = E1.subs({y: x * v})\n",
    "E3"
   ]
  },
  {
   "cell_type": "code",
   "execution_count": 310,
   "id": "0541f0a0-ff54-4211-a740-a0e6a6224a71",
   "metadata": {},
   "outputs": [
    {
     "data": {
      "text/latex": [
       "$\\displaystyle v + \\frac{1}{v} = \\frac{dv x}{dx} + v$"
      ],
      "text/plain": [
       "Eq(v + 1/v, dv*x/dx + v)"
      ]
     },
     "execution_count": 310,
     "metadata": {},
     "output_type": "execute_result"
    }
   ],
   "source": [
    "# Also change the dy/dx to use y = xv\n",
    "E4 = sp.Eq(v + x * (dv / dx), E3)\n",
    "E4 = E4.simplify()"
   ]
  },
  {
   "cell_type": "code",
   "execution_count": 315,
   "id": "ce3f28cc-abc1-47e2-beb1-26e4e5cba733",
   "metadata": {},
   "outputs": [
    {
     "data": {
      "text/latex": [
       "$\\displaystyle \\frac{1}{v} = \\frac{dv x}{dx}$"
      ],
      "text/plain": [
       "Eq(1/v, dv*x/dx)"
      ]
     },
     "execution_count": 315,
     "metadata": {},
     "output_type": "execute_result"
    }
   ],
   "source": [
    "# Transform into a seperable equation using dv, v and dx, x\n",
    "\n",
    "E5 = sp.Eq(E4.lhs - v, E4.rhs - v).simplify()\n",
    "E5\n"
   ]
  },
  {
   "cell_type": "code",
   "execution_count": 316,
   "id": "3fdf1264-5355-4f61-9529-9fc32500259d",
   "metadata": {},
   "outputs": [
    {
     "data": {
      "text/latex": [
       "$\\displaystyle dv x = \\frac{dx}{v}$"
      ],
      "text/plain": [
       "Eq(dv*x, dx/v)"
      ]
     },
     "execution_count": 316,
     "metadata": {},
     "output_type": "execute_result"
    }
   ],
   "source": [
    "E6 = sp.Eq(E5.lhs * dx, E5.rhs * dx).simplify()\n",
    "E6"
   ]
  },
  {
   "cell_type": "code",
   "execution_count": 317,
   "id": "3410d4ad-9bd3-4fca-8ad8-2a5fcadd90d8",
   "metadata": {},
   "outputs": [
    {
     "data": {
      "text/latex": [
       "$\\displaystyle dv v = \\frac{dx}{x}$"
      ],
      "text/plain": [
       "Eq(dv*v, dx/x)"
      ]
     },
     "execution_count": 317,
     "metadata": {},
     "output_type": "execute_result"
    }
   ],
   "source": [
    "E7 = sp.Eq(E6.lhs * v / x, E6.rhs * v / x).simplify()\n",
    "E7"
   ]
  },
  {
   "cell_type": "code",
   "execution_count": 318,
   "id": "817a13b3-fba0-4aa7-b754-0457c8f02c9a",
   "metadata": {},
   "outputs": [
    {
     "data": {
      "text/latex": [
       "$\\displaystyle - \\frac{v^{2}}{2} + \\log{\\left(x \\right)} = c$"
      ],
      "text/plain": [
       "Eq(-v**2/2 + log(x), c)"
      ]
     },
     "execution_count": 318,
     "metadata": {},
     "output_type": "execute_result"
    }
   ],
   "source": [
    "# It is no in a form to apply seperable formula\n",
    "E8 = sp.Eq(sp.integrate(1/x, x) - sp.integrate(v, v), c)\n",
    "E8"
   ]
  },
  {
   "cell_type": "code",
   "execution_count": 319,
   "id": "0030f2aa-81da-4e89-bd21-a3dcce5161a9",
   "metadata": {},
   "outputs": [
    {
     "data": {
      "text/latex": [
       "$\\displaystyle \\log{\\left(x \\right)} - \\frac{y^{2}}{2 x^{2}} = c$"
      ],
      "text/plain": [
       "Eq(log(x) - y**2/(2*x**2), c)"
      ]
     },
     "execution_count": 319,
     "metadata": {},
     "output_type": "execute_result"
    }
   ],
   "source": [
    "# subs v = y / x to return to orginal variables\n",
    "E9 = E8.subs({v: y/x})\n",
    "E9"
   ]
  },
  {
   "cell_type": "code",
   "execution_count": 321,
   "id": "c046f138-6418-4ed8-8d7b-ec148a8630df",
   "metadata": {},
   "outputs": [
    {
     "data": {
      "text/html": [
       "$$- x \\sqrt{- 2 c + 2 \\log{\\left(x \\right)}}$$<br/>$$x \\sqrt{- 2 c + 2 \\log{\\left(x \\right)}}$$<br/>"
      ],
      "text/plain": [
       "<IPython.core.display.HTML object>"
      ]
     },
     "execution_count": 321,
     "metadata": {},
     "output_type": "execute_result"
    }
   ],
   "source": [
    "# solve for y\n",
    "E10 = sp.solve(E9, y)\n",
    "renderListToLatex(E10)"
   ]
  },
  {
   "cell_type": "code",
   "execution_count": 324,
   "id": "9c2c8851-1904-42ec-810a-ba61e52e7a98",
   "metadata": {},
   "outputs": [
    {
     "data": {
      "text/plain": [
       "[-2]"
      ]
     },
     "execution_count": 324,
     "metadata": {},
     "output_type": "execute_result"
    }
   ],
   "source": [
    "# evaluate solutions to find a value for c\n",
    "E11 = sp.solve(sp.Eq(-2, E10[0].subs({x: 1}) ), c)\n",
    "E11"
   ]
  },
  {
   "cell_type": "code",
   "execution_count": 325,
   "id": "039c3ca9-83b5-4b35-8895-636381581090",
   "metadata": {},
   "outputs": [
    {
     "data": {
      "text/plain": [
       "[]"
      ]
     },
     "execution_count": 325,
     "metadata": {},
     "output_type": "execute_result"
    }
   ],
   "source": [
    "E12 = sp.solve(sp.Eq(-2, E10[1].subs({x: 1}) ), c)\n",
    "E12"
   ]
  },
  {
   "cell_type": "code",
   "execution_count": 327,
   "id": "b9afac2c-a12c-45fb-814f-c9c8f30bef89",
   "metadata": {},
   "outputs": [
    {
     "data": {
      "text/latex": [
       "$\\displaystyle \\log{\\left(x \\right)} - \\frac{y^{2}}{2 x^{2}} = -2$"
      ],
      "text/plain": [
       "Eq(log(x) - y**2/(2*x**2), -2)"
      ]
     },
     "execution_count": 327,
     "metadata": {},
     "output_type": "execute_result"
    }
   ],
   "source": [
    "# put value of c into equation\n",
    "E9.subs({c: -2})"
   ]
  },
  {
   "cell_type": "markdown",
   "id": "fa4176e4-84e2-41c3-8db0-b105e89ffce4",
   "metadata": {},
   "source": [
    "Reduction of homogenous equations - can be transformed into seperable equation by making the subsutition\n",
    "\n",
    "$$ y = xv $$\n",
    "\n",
    "and its derivative: \n",
    "\n",
    "$$ \\frac{dy}{dx} = v + x \\frac{dv}{dx} $$\n",
    "\n",
    "If equation is homegenous you can do this"
   ]
  },
  {
   "cell_type": "code",
   "execution_count": 333,
   "id": "a632903c-04e6-4431-9d34-e9c3a5babcf7",
   "metadata": {},
   "outputs": [
    {
     "data": {
      "text/latex": [
       "$\\displaystyle \\frac{dy}{dx} = \\frac{2 x y e^{\\frac{x^{2}}{y^{2}}}}{2 x^{2} e^{\\frac{x^{2}}{y^{2}}} + y^{2} e^{\\frac{x^{2}}{y^{2}}} + y^{2}}$"
      ],
      "text/plain": [
       "Eq(dy/dx, 2*x*y*exp(x**2/y**2)/(2*x**2*exp(x**2/y**2) + y**2*exp(x**2/y**2) + y**2))"
      ]
     },
     "execution_count": 333,
     "metadata": {},
     "output_type": "execute_result"
    }
   ],
   "source": [
    "# 4.17\n",
    "x, y, y1,  m, b, a, c, c1, c2, t, dx, dy, ty, tx, k, v, dv, u, du = sp.symbols('x, y, y1,  m, b, a, c, c1, c2, t, dx, dy, ty, tx, k, v, dv, u, du', real = True)\n",
    "E1 = sp.Eq(dy/dx, (2 * x * y * sp.E**(x / y)**2) / (y**2 + (y**2 * sp.E**(x / y)**2) + (2 * x**2 * sp.E**(x / y)**2)))\n",
    "E1"
   ]
  },
  {
   "cell_type": "code",
   "execution_count": 331,
   "id": "0baa6c5d-61ad-4988-865c-918cae87012d",
   "metadata": {},
   "outputs": [],
   "source": [
    "# Does not appear seperable, but it may be homogenous which would allow trying a y = xv subsiution"
   ]
  },
  {
   "cell_type": "code",
   "execution_count": 335,
   "id": "99fc9ca1-2417-4b85-a039-8d31b65bc1ff",
   "metadata": {},
   "outputs": [
    {
     "data": {
      "text/latex": [
       "$\\displaystyle \\frac{2 x y e^{\\frac{x^{2}}{y^{2}}}}{2 x^{2} e^{\\frac{x^{2}}{y^{2}}} + y^{2} e^{\\frac{x^{2}}{y^{2}}} + y^{2}}$"
      ],
      "text/plain": [
       "2*x*y*exp(x**2/y**2)/(2*x**2*exp(x**2/y**2) + y**2*exp(x**2/y**2) + y**2)"
      ]
     },
     "execution_count": 335,
     "metadata": {},
     "output_type": "execute_result"
    }
   ],
   "source": [
    "E2 = E1.rhs.subs({x: x * t, y: y * t}).simplify()\n",
    "E2"
   ]
  },
  {
   "cell_type": "code",
   "execution_count": 350,
   "id": "54ead652-5e06-4f90-b44e-ea37cc74a5a6",
   "metadata": {},
   "outputs": [
    {
     "data": {
      "text/latex": [
       "$\\displaystyle \\frac{dv x}{dx} + v = \\frac{2 x y e^{\\frac{x^{2}}{y^{2}}}}{2 x^{2} e^{\\frac{x^{2}}{y^{2}}} + y^{2} e^{\\frac{x^{2}}{y^{2}}} + y^{2}}$"
      ],
      "text/plain": [
       "Eq(dv*x/dx + v, 2*x*y*exp(x**2/y**2)/(2*x**2*exp(x**2/y**2) + y**2*exp(x**2/y**2) + y**2))"
      ]
     },
     "execution_count": 350,
     "metadata": {},
     "output_type": "execute_result"
    }
   ],
   "source": [
    "# They are homogenous so can try and transform them into seperable equations\n",
    "E3 = sp.Eq(v + x * (dv / dx), E1.rhs.subs({u: x /y}).simplify())\n",
    "E3"
   ]
  },
  {
   "cell_type": "code",
   "execution_count": 340,
   "id": "1f15b3bc-6e64-45be-bfb3-426e59d5234f",
   "metadata": {},
   "outputs": [
    {
     "data": {
      "text/latex": [
       "$\\displaystyle \\frac{dv x}{dx} = - \\frac{v^{3} \\left(e^{\\frac{1}{v^{2}}} + 1\\right)}{v^{2} e^{\\frac{1}{v^{2}}} + v^{2} + 2 e^{\\frac{1}{v^{2}}}}$"
      ],
      "text/plain": [
       "Eq(dv*x/dx, -v**3*(exp(v**(-2)) + 1)/(v**2*exp(v**(-2)) + v**2 + 2*exp(v**(-2))))"
      ]
     },
     "execution_count": 340,
     "metadata": {},
     "output_type": "execute_result"
    }
   ],
   "source": [
    "E4 = sp.Eq(E3.lhs - v, E3.rhs - v).simplify()\n",
    "E4"
   ]
  },
  {
   "cell_type": "code",
   "execution_count": 342,
   "id": "50dbed15-f8d6-4df9-9cc5-94f47e4ea856",
   "metadata": {},
   "outputs": [
    {
     "data": {
      "text/latex": [
       "$\\displaystyle \\frac{x}{dx} = - \\frac{v^{3} \\left(e^{\\frac{1}{v^{2}}} + 1\\right)}{dv \\left(v^{2} e^{\\frac{1}{v^{2}}} + v^{2} + 2 e^{\\frac{1}{v^{2}}}\\right)}$"
      ],
      "text/plain": [
       "Eq(x/dx, -v**3*(exp(v**(-2)) + 1)/(dv*(v**2*exp(v**(-2)) + v**2 + 2*exp(v**(-2)))))"
      ]
     },
     "execution_count": 342,
     "metadata": {},
     "output_type": "execute_result"
    }
   ],
   "source": [
    "E5 = sp.Eq(E4.lhs / dv, E4.rhs / dv).simplify()\n",
    "E5"
   ]
  },
  {
   "cell_type": "code",
   "execution_count": 344,
   "id": "7a994da6-5500-49a9-81b9-35028eb6ca1f",
   "metadata": {},
   "outputs": [],
   "source": [
    "# They are now seperated, apply integration. Create needed parts for integration"
   ]
  },
  {
   "cell_type": "code",
   "execution_count": 347,
   "id": "c4ab75e3-db1a-4abe-a658-679cb4ab168c",
   "metadata": {},
   "outputs": [
    {
     "data": {
      "text/latex": [
       "$\\displaystyle - \\frac{v^{3} \\left(e^{\\frac{1}{v^{2}}} + 1\\right)}{v^{2} e^{\\frac{1}{v^{2}}} + v^{2} + 2 e^{\\frac{1}{v^{2}}}}$"
      ],
      "text/plain": [
       "-v**3*(exp(v**(-2)) + 1)/(v**2*exp(v**(-2)) + v**2 + 2*exp(v**(-2)))"
      ]
     },
     "execution_count": 347,
     "metadata": {},
     "output_type": "execute_result"
    }
   ],
   "source": [
    "E6 = E5.rhs * dv\n",
    "E6"
   ]
  },
  {
   "cell_type": "code",
   "execution_count": 348,
   "id": "ab105b7d-6581-40fb-aad3-c5642c8724db",
   "metadata": {},
   "outputs": [
    {
     "data": {
      "text/latex": [
       "$\\displaystyle x$"
      ],
      "text/plain": [
       "x"
      ]
     },
     "execution_count": 348,
     "metadata": {},
     "output_type": "execute_result"
    }
   ],
   "source": [
    "E7 = E5.lhs * dx\n",
    "E7"
   ]
  },
  {
   "cell_type": "code",
   "execution_count": 349,
   "id": "e8b90988-1f9f-4ebe-8321-94d1891db26b",
   "metadata": {},
   "outputs": [
    {
     "data": {
      "text/latex": [
       "$\\displaystyle \\frac{x^{2}}{2} - \\int \\frac{v^{3}}{v^{2} e^{\\frac{1}{v^{2}}} + v^{2} + 2 e^{\\frac{1}{v^{2}}}}\\, dv - \\int \\frac{v^{3} e^{\\frac{1}{v^{2}}}}{v^{2} e^{\\frac{1}{v^{2}}} + v^{2} + 2 e^{\\frac{1}{v^{2}}}}\\, dv$"
      ],
      "text/plain": [
       "x**2/2 - Integral(v**3/(v**2*exp(v**(-2)) + v**2 + 2*exp(v**(-2))), v) - Integral(v**3*exp(v**(-2))/(v**2*exp(v**(-2)) + v**2 + 2*exp(v**(-2))), v)"
      ]
     },
     "execution_count": 349,
     "metadata": {},
     "output_type": "execute_result"
    }
   ],
   "source": [
    "E8 = sp.integrate(E7, x) + sp.integrate(E6, v)\n",
    "E8"
   ]
  },
  {
   "cell_type": "code",
   "execution_count": 351,
   "id": "651258f1-461a-4298-b60f-7682ebab82f5",
   "metadata": {},
   "outputs": [],
   "source": [
    "# 4.23"
   ]
  },
  {
   "cell_type": "code",
   "execution_count": 352,
   "id": "cdcb0d50-a697-4cf5-a21a-f59bebd7a840",
   "metadata": {},
   "outputs": [
    {
     "data": {
      "text/latex": [
       "$\\displaystyle \\frac{x^{2}}{2} + \\frac{y^{2}}{2} = c$"
      ],
      "text/plain": [
       "Eq(x**2/2 + y**2/2, c)"
      ]
     },
     "execution_count": 352,
     "metadata": {},
     "output_type": "execute_result"
    }
   ],
   "source": [
    "# this is seperable equation so can be solved using this formula\n",
    "\n",
    "E1 = sp.Eq(sp.integrate(x, x) + sp.integrate(y, y), c)\n",
    "E1"
   ]
  },
  {
   "cell_type": "code",
   "execution_count": 355,
   "id": "f02dbb89-2707-4c57-9fd2-9a2aec6d0d8f",
   "metadata": {},
   "outputs": [
    {
     "data": {
      "text/html": [
       "$$- \\sqrt{2 c - x^{2}}$$<br/>$$\\sqrt{2 c - x^{2}}$$<br/>"
      ],
      "text/plain": [
       "<IPython.core.display.HTML object>"
      ]
     },
     "execution_count": 355,
     "metadata": {},
     "output_type": "execute_result"
    }
   ],
   "source": [
    "E2 = sp.solve(E1, y)\n",
    "renderListToLatex(E2)"
   ]
  },
  {
   "cell_type": "code",
   "execution_count": 362,
   "id": "3e336554-f56e-42b5-b6f7-ea25f7409e04",
   "metadata": {},
   "outputs": [
    {
     "data": {
      "text/html": [
       "$$- \\sqrt{k - x^{2}}$$<br/>$$\\sqrt{k - x^{2}}$$<br/>"
      ],
      "text/plain": [
       "<IPython.core.display.HTML object>"
      ]
     },
     "execution_count": 362,
     "metadata": {},
     "output_type": "execute_result"
    }
   ],
   "source": [
    "# clean up the 2c with k\n",
    "renderListToLatex([E2[0].subs({c: k / 2}), E2[1].subs({c: k / 2})])"
   ]
  },
  {
   "cell_type": "code",
   "execution_count": 363,
   "id": "bee4563d-6a7b-447f-a779-0f9712eace0d",
   "metadata": {},
   "outputs": [
    {
     "data": {
      "text/latex": [
       "$\\displaystyle \\frac{x^{2}}{2} - \\frac{y^{4}}{4} = c$"
      ],
      "text/plain": [
       "Eq(x**2/2 - y**4/4, c)"
      ]
     },
     "execution_count": 363,
     "metadata": {},
     "output_type": "execute_result"
    }
   ],
   "source": [
    "# 4.24\n",
    "# this can be solved as a seperable equation \n",
    "E1 = sp.Eq(sp.integrate(x, x) - sp.integrate(y**3, y), c)\n",
    "E1"
   ]
  },
  {
   "cell_type": "code",
   "execution_count": 365,
   "id": "1ee4be09-50b8-4fac-b63c-7469459aa8ae",
   "metadata": {},
   "outputs": [
    {
     "data": {
      "text/html": [
       "$$- \\sqrt[4]{- 4 c + 2 x^{2}}$$<br/>$$\\sqrt[4]{- 4 c + 2 x^{2}}$$<br/>"
      ],
      "text/plain": [
       "<IPython.core.display.HTML object>"
      ]
     },
     "execution_count": 365,
     "metadata": {},
     "output_type": "execute_result"
    }
   ],
   "source": [
    "# sovle for y\n",
    "E2 = sp.solve(E1, y)\n",
    "renderListToLatex(E2)"
   ]
  },
  {
   "cell_type": "code",
   "execution_count": 368,
   "id": "74d576b4-ad0a-40ff-ab35-2fcb7d4c2312",
   "metadata": {},
   "outputs": [
    {
     "data": {
      "text/html": [
       "$$- \\sqrt[4]{k + 2 x^{2}}$$<br/>$$\\sqrt[4]{k + 2 x^{2}}$$<br/>"
      ],
      "text/plain": [
       "<IPython.core.display.HTML object>"
      ]
     },
     "execution_count": 368,
     "metadata": {},
     "output_type": "execute_result"
    }
   ],
   "source": [
    "# clean up the value of -4c\n",
    "E3 = [E2[i].subs({c: k / -4}) for i in range(len(E2))]\n",
    "renderListToLatex (E3)"
   ]
  },
  {
   "cell_type": "code",
   "execution_count": 369,
   "id": "14f45fbf-22a6-4987-9eae-c508b3e40a7c",
   "metadata": {},
   "outputs": [],
   "source": [
    "# where k == -4c"
   ]
  },
  {
   "cell_type": "code",
   "execution_count": 370,
   "id": "63244698-bb67-44c7-899c-dd32d1ca970f",
   "metadata": {},
   "outputs": [
    {
     "data": {
      "text/latex": [
       "$\\displaystyle x - \\frac{1}{3 y^{3}} = c$"
      ],
      "text/plain": [
       "Eq(x - 1/(3*y**3), c)"
      ]
     },
     "execution_count": 370,
     "metadata": {},
     "output_type": "execute_result"
    }
   ],
   "source": [
    "# 4.25\n",
    "# this can be solved as a seperable differential equation\n",
    "\n",
    "E1 = sp.Eq(sp.integrate(1, x) + sp.integrate(1 / y**4, y), c)\n",
    "E1"
   ]
  },
  {
   "cell_type": "code",
   "execution_count": 372,
   "id": "5d50bf22-62af-4eae-a736-a1dfd12f3698",
   "metadata": {},
   "outputs": [
    {
     "data": {
      "text/html": [
       "$$- \\frac{\\sqrt[3]{\\frac{1}{- 3 c + 3 x}}}{2} - \\frac{\\sqrt{3} i \\sqrt[3]{\\frac{1}{- 3 c + 3 x}}}{2}$$<br/>$$- \\frac{\\sqrt[3]{\\frac{1}{- 3 c + 3 x}}}{2} + \\frac{\\sqrt{3} i \\sqrt[3]{\\frac{1}{- 3 c + 3 x}}}{2}$$<br/>$$\\sqrt[3]{\\frac{1}{- 3 c + 3 x}}$$<br/>"
      ],
      "text/plain": [
       "<IPython.core.display.HTML object>"
      ]
     },
     "execution_count": 372,
     "metadata": {},
     "output_type": "execute_result"
    }
   ],
   "source": [
    "# Solve for y to find function that satifies diffential equation\n",
    "E2 = sp.solve(E1, y)\n",
    "renderListToLatex(E2)"
   ]
  },
  {
   "cell_type": "code",
   "execution_count": 374,
   "id": "cf48b188-be46-4978-bef7-93e6a1192acb",
   "metadata": {},
   "outputs": [
    {
     "data": {
      "text/latex": [
       "$\\displaystyle \\sqrt[3]{\\frac{1}{k + 3 x}}$"
      ],
      "text/plain": [
       "(1/(k + 3*x))**(1/3)"
      ]
     },
     "execution_count": 374,
     "metadata": {},
     "output_type": "execute_result"
    }
   ],
   "source": [
    "# There is only 1 real solution. Clean up the -3c\n",
    "E3 = E2[2]\n",
    "E4 = E3.subs({c: -k / 3})\n",
    "E4"
   ]
  },
  {
   "cell_type": "code",
   "execution_count": 375,
   "id": "25e8938a-42c9-48f0-805d-d09413856243",
   "metadata": {},
   "outputs": [],
   "source": [
    "# where k == -3c"
   ]
  },
  {
   "cell_type": "code",
   "execution_count": 376,
   "id": "5bb88b50-0d73-4110-a143-685e2bb436f8",
   "metadata": {},
   "outputs": [
    {
     "data": {
      "text/latex": [
       "$\\displaystyle \\frac{t^{2}}{2} + t + \\frac{1}{y} = c$"
      ],
      "text/plain": [
       "Eq(t**2/2 + t + 1/y, c)"
      ]
     },
     "execution_count": 376,
     "metadata": {},
     "output_type": "execute_result"
    }
   ],
   "source": [
    "# 4.26\n",
    "# this can be solvved as a seperable differential equation\n",
    "\n",
    "E1 = sp.Eq(sp.integrate(t + 1, t) - sp.integrate(1 / y**2, y), c)\n",
    "E1"
   ]
  },
  {
   "cell_type": "code",
   "execution_count": 378,
   "id": "24c8699f-ce15-478b-9bd9-0691d1859180",
   "metadata": {},
   "outputs": [
    {
     "data": {
      "text/html": [
       "$$- \\frac{2}{- 2 c + t^{2} + 2 t}$$<br/>"
      ],
      "text/plain": [
       "<IPython.core.display.HTML object>"
      ]
     },
     "execution_count": 378,
     "metadata": {},
     "output_type": "execute_result"
    }
   ],
   "source": [
    "# solve for y\n",
    "E2 = sp.solve(E1, y)\n",
    "renderListToLatex(E2)"
   ]
  },
  {
   "cell_type": "code",
   "execution_count": 380,
   "id": "2ba804a8-587a-472b-b8a1-ae928a34a3d9",
   "metadata": {},
   "outputs": [
    {
     "data": {
      "text/latex": [
       "$\\displaystyle - \\frac{2}{k + t^{2} + 2 t}$"
      ],
      "text/plain": [
       "-2/(k + t**2 + 2*t)"
      ]
     },
     "execution_count": 380,
     "metadata": {},
     "output_type": "execute_result"
    }
   ],
   "source": [
    "# clean up the -2c term\n",
    "E3 = E2[0].subs({ c: -k / 2})\n",
    "E3"
   ]
  },
  {
   "cell_type": "code",
   "execution_count": 381,
   "id": "1223f4fa-30af-4963-a86b-5112813c53bd",
   "metadata": {},
   "outputs": [],
   "source": [
    "# where k == -2c"
   ]
  },
  {
   "cell_type": "code",
   "execution_count": 382,
   "id": "600af083-0848-4675-994e-b9bbbb3cee64",
   "metadata": {},
   "outputs": [
    {
     "data": {
      "text/latex": [
       "$\\displaystyle \\log{\\left(x \\right)} + \\log{\\left(y \\right)} = c$"
      ],
      "text/plain": [
       "Eq(log(x) + log(y), c)"
      ]
     },
     "execution_count": 382,
     "metadata": {},
     "output_type": "execute_result"
    }
   ],
   "source": [
    "# 4.27\n",
    "# this can be solved as a seperable differential equation\n",
    "\n",
    "E1 = sp.Eq(sp.integrate(1 / x, x) + sp.integrate(1 / y, y), c)\n",
    "E1"
   ]
  },
  {
   "cell_type": "code",
   "execution_count": 386,
   "id": "0497d5ef-1429-4065-8d6a-dda2f4810505",
   "metadata": {},
   "outputs": [
    {
     "data": {
      "text/html": [
       "$$\\frac{e^{c}}{x}$$<br/>"
      ],
      "text/plain": [
       "<IPython.core.display.HTML object>"
      ]
     },
     "execution_count": 386,
     "metadata": {},
     "output_type": "execute_result"
    }
   ],
   "source": [
    "# solve for y\n",
    "E2 = sp.solve(E1, y)\n",
    "renderListToLatex(E2)"
   ]
  },
  {
   "cell_type": "code",
   "execution_count": 387,
   "id": "31b815fb-4918-46e5-adde-85f4d721616a",
   "metadata": {},
   "outputs": [],
   "source": [
    "# note you need to remove abs value in solving for y so will get 2 solutions"
   ]
  },
  {
   "cell_type": "code",
   "execution_count": 396,
   "id": "c0e245e8-7e6e-4183-8973-9ef2265788c5",
   "metadata": {},
   "outputs": [
    {
     "data": {
      "text/latex": [
       "$\\displaystyle y + \\log{\\left(x \\right)} = c$"
      ],
      "text/plain": [
       "Eq(y + log(x), c)"
      ]
     },
     "execution_count": 396,
     "metadata": {},
     "output_type": "execute_result"
    }
   ],
   "source": [
    "# 4.28\n",
    "\n",
    "# this can be solved as a sperable differential equation\n",
    "\n",
    "E1 = sp.Eq(sp.integrate(1 / x, x) + sp.integrate(1, y), c)\n",
    "E1"
   ]
  },
  {
   "cell_type": "code",
   "execution_count": 397,
   "id": "f4aff370-3995-42de-92b9-580285d7cbb5",
   "metadata": {},
   "outputs": [
    {
     "data": {
      "text/html": [
       "$$c - \\log{\\left(x \\right)}$$<br/>"
      ],
      "text/plain": [
       "<IPython.core.display.HTML object>"
      ]
     },
     "execution_count": 397,
     "metadata": {},
     "output_type": "execute_result"
    }
   ],
   "source": [
    "# solve for y\n",
    "E2 = sp.solve(E1, y)\n",
    "RTL(E2)"
   ]
  },
  {
   "cell_type": "code",
   "execution_count": 399,
   "id": "17ea5438-16a1-4cfc-80bd-2db79ab4cbd0",
   "metadata": {},
   "outputs": [
    {
     "data": {
      "text/latex": [
       "$\\displaystyle \\log{\\left(k \\right)} - \\log{\\left(x \\right)}$"
      ],
      "text/plain": [
       "log(k) - log(x)"
      ]
     },
     "execution_count": 399,
     "metadata": {},
     "output_type": "execute_result"
    }
   ],
   "source": [
    "E2[0].subs({c:sp.log(k)})"
   ]
  },
  {
   "cell_type": "code",
   "execution_count": 400,
   "id": "028cfe48-32c5-47b6-91d9-568dc55777ee",
   "metadata": {},
   "outputs": [
    {
     "data": {
      "text/latex": [
       "$\\displaystyle \\frac{x^{2}}{2} + \\log{\\left(y \\right)} = c$"
      ],
      "text/plain": [
       "Eq(x**2/2 + log(y), c)"
      ]
     },
     "execution_count": 400,
     "metadata": {},
     "output_type": "execute_result"
    }
   ],
   "source": [
    "# 4.29\n",
    "\n",
    "# this can be solved as a seperable differential equation\n",
    "E1 = sp.Eq(sp.integrate(x, x) + sp.integrate(1 / y, y), c)\n",
    "E1"
   ]
  },
  {
   "cell_type": "code",
   "execution_count": 403,
   "id": "1842e997-e992-4c00-af83-517ee2b564c2",
   "metadata": {},
   "outputs": [
    {
     "data": {
      "text/html": [
       "$$e^{c - \\frac{x^{2}}{2}}$$<br/>"
      ],
      "text/plain": [
       "<IPython.core.display.HTML object>"
      ]
     },
     "execution_count": 403,
     "metadata": {},
     "output_type": "execute_result"
    }
   ],
   "source": [
    "# solve for y, note y is an abs value\n",
    "E2 = sp.solve(E1, y)\n",
    "RTL(E2)"
   ]
  },
  {
   "cell_type": "code",
   "execution_count": 406,
   "id": "3273c2ab-fd0b-4236-8ff1-e056676a1ea8",
   "metadata": {},
   "outputs": [
    {
     "data": {
      "text/latex": [
       "$\\displaystyle k e^{- \\frac{x^{2}}{2}}$"
      ],
      "text/plain": [
       "k*exp(-x**2/2)"
      ]
     },
     "execution_count": 406,
     "metadata": {},
     "output_type": "execute_result"
    }
   ],
   "source": [
    "E2[0].subs({c: sp.log(k)})"
   ]
  },
  {
   "cell_type": "code",
   "execution_count": 407,
   "id": "659a9d6c-d500-4bbf-a1b0-448e9fbdfbf8",
   "metadata": {},
   "outputs": [
    {
     "data": {
      "text/latex": [
       "$\\displaystyle \\frac{t^{3}}{3} + t + \\frac{y^{3}}{3} + \\frac{y^{2}}{2} = c$"
      ],
      "text/plain": [
       "Eq(t**3/3 + t + y**3/3 + y**2/2, c)"
      ]
     },
     "execution_count": 407,
     "metadata": {},
     "output_type": "execute_result"
    }
   ],
   "source": [
    "# 4.30\n",
    "# this can be solved as a seperable differential equation\n",
    "\n",
    "E1 = sp.Eq(sp.integrate(t**2 + 1, t) + sp.integrate(y**2 + y, y), c)\n",
    "E1"
   ]
  },
  {
   "cell_type": "code",
   "execution_count": 412,
   "id": "2c08b11f-59d7-4f68-94f9-2bca9ff58ebb",
   "metadata": {},
   "outputs": [
    {
     "data": {
      "text/latex": [
       "$\\displaystyle - \\frac{\\sqrt[3]{- 12 c + 4 t^{3} + 12 t + \\sqrt{\\left(- 12 c + 4 t^{3} + 12 t + 1\\right)^{2} - 1} + 1}}{2} - \\frac{1}{2} - \\frac{1}{2 \\sqrt[3]{- 12 c + 4 t^{3} + 12 t + \\sqrt{\\left(- 12 c + 4 t^{3} + 12 t + 1\\right)^{2} - 1} + 1}}$"
      ],
      "text/plain": [
       "-(-12*c + 4*t**3 + 12*t + sqrt((-12*c + 4*t**3 + 12*t + 1)**2 - 1) + 1)**(1/3)/2 - 1/2 - 1/(2*(-12*c + 4*t**3 + 12*t + sqrt((-12*c + 4*t**3 + 12*t + 1)**2 - 1) + 1)**(1/3))"
      ]
     },
     "execution_count": 412,
     "metadata": {},
     "output_type": "execute_result"
    }
   ],
   "source": [
    "# solve for y\n",
    "E2 = sp.solve(E1, y)\n",
    "E2[2].simplify()"
   ]
  },
  {
   "cell_type": "code",
   "execution_count": 414,
   "id": "ccedff3c-fc38-4fd1-b556-4b7c703b549e",
   "metadata": {},
   "outputs": [
    {
     "data": {
      "text/latex": [
       "$\\displaystyle 2 t^{3} + 6 t + 2 y^{3} + 3 y^{2} = 6 c$"
      ],
      "text/plain": [
       "Eq(2*t**3 + 6*t + 2*y**3 + 3*y**2, 6*c)"
      ]
     },
     "execution_count": 414,
     "metadata": {},
     "output_type": "execute_result"
    }
   ],
   "source": [
    "# better to leave in implicity form. Remove the rationals\n",
    "\n",
    "E3 = sp.Eq(E1.lhs * 6, E1.rhs * 6)\n",
    "E3"
   ]
  },
  {
   "cell_type": "code",
   "execution_count": 415,
   "id": "0ee1578b-a5bc-4d70-8afc-327ddd6509eb",
   "metadata": {},
   "outputs": [
    {
     "data": {
      "text/latex": [
       "$\\displaystyle - y + 4 \\log{\\left(t \\right)} + 3 \\log{\\left(y \\right)} = c$"
      ],
      "text/plain": [
       "Eq(-y + 4*log(t) + 3*log(y), c)"
      ]
     },
     "execution_count": 415,
     "metadata": {},
     "output_type": "execute_result"
    }
   ],
   "source": [
    "# 4.31\n",
    "# this can be solved as a seperable differential equation\n",
    "\n",
    "E1 = sp.Eq(sp.integrate(4 / t, t) - sp.integrate((y - 3)/ y, y), c)\n",
    "E1"
   ]
  },
  {
   "cell_type": "code",
   "execution_count": 416,
   "id": "1be5757b-26ee-4334-8666-a6a2f55356d0",
   "metadata": {},
   "outputs": [
    {
     "data": {
      "text/html": [
       "$$- 3 W\\left(- \\frac{e^{\\frac{c}{3}}}{3 \\left|{t^{\\frac{4}{3}}}\\right|}\\right)$$<br/>$$- 3 W\\left(\\frac{\\left(1 - \\sqrt{3} i\\right) e^{\\frac{c}{3}}}{6 \\left|{t^{\\frac{4}{3}}}\\right|}\\right)$$<br/>$$- 3 W\\left(\\frac{\\left(1 + \\sqrt{3} i\\right) e^{\\frac{c}{3}}}{6 \\left|{t^{\\frac{4}{3}}}\\right|}\\right)$$<br/>"
      ],
      "text/plain": [
       "<IPython.core.display.HTML object>"
      ]
     },
     "execution_count": 416,
     "metadata": {},
     "output_type": "execute_result"
    }
   ],
   "source": [
    "# solve for y\n",
    "E2 = sp.solve(E1, y)\n",
    "RTL(E2)"
   ]
  },
  {
   "cell_type": "code",
   "execution_count": 417,
   "id": "0a93e1e2-2a6e-41ab-9448-16b26386fa45",
   "metadata": {},
   "outputs": [
    {
     "data": {
      "text/latex": [
       "$\\displaystyle x - \\operatorname{atan}{\\left(y \\right)} = c$"
      ],
      "text/plain": [
       "Eq(x - atan(y), c)"
      ]
     },
     "execution_count": 417,
     "metadata": {},
     "output_type": "execute_result"
    }
   ],
   "source": [
    "# 4.32\n",
    "\n",
    "# can be solved as seperable differential equation\n",
    "\n",
    "E1 = sp.Eq(sp.integrate(1, x) - sp.integrate(1 / (1 + y**2), y), c)\n",
    "E1"
   ]
  },
  {
   "cell_type": "code",
   "execution_count": 418,
   "id": "259544c8-cfa2-46c2-b08d-6fb64cf5aa31",
   "metadata": {},
   "outputs": [
    {
     "data": {
      "text/html": [
       "$$- \\tan{\\left(c - x \\right)}$$<br/>"
      ],
      "text/plain": [
       "<IPython.core.display.HTML object>"
      ]
     },
     "execution_count": 418,
     "metadata": {},
     "output_type": "execute_result"
    }
   ],
   "source": [
    "# solve for y\n",
    "E2 = sp.solve(E1, y)\n",
    "RTL(E2)"
   ]
  },
  {
   "cell_type": "code",
   "execution_count": 419,
   "id": "b8867632-f0f7-48cd-adf9-33318f48103a",
   "metadata": {},
   "outputs": [],
   "source": [
    "# 4.33\n",
    "# this can be solved as a seperable differential equation"
   ]
  },
  {
   "cell_type": "code",
   "execution_count": null,
   "id": "f0333a3e-e5d3-4fad-b9da-e69f209dffef",
   "metadata": {},
   "outputs": [],
   "source": []
  }
 ],
 "metadata": {
  "kernelspec": {
   "display_name": "Python 3",
   "language": "python",
   "name": "python3"
  },
  "language_info": {
   "codemirror_mode": {
    "name": "ipython",
    "version": 3
   },
   "file_extension": ".py",
   "mimetype": "text/x-python",
   "name": "python",
   "nbconvert_exporter": "python",
   "pygments_lexer": "ipython3",
   "version": "3.9.2"
  }
 },
 "nbformat": 4,
 "nbformat_minor": 5
}
