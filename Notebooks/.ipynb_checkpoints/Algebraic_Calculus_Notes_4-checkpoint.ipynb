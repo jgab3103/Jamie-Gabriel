{
 "cells": [
  {
   "cell_type": "code",
   "execution_count": 1,
   "metadata": {},
   "outputs": [],
   "source": [
    "import numpy as np\n",
    "import shared_functions as sf\n",
    "import sympy as sp\n",
    "from IPython.display import HTML\n",
    "import matplotlib.pyplot as plt"
   ]
  },
  {
   "cell_type": "markdown",
   "metadata": {},
   "source": [
    "In the last notebook we finished by examining the signed area of a triangle whose vertices satisfied the parameterisation of a relativistic hyperbola.\n",
    "The first thing to do is bring some our functions across. Soon it will make a lot more sense to put these in a seperate .py file and call them in (in fact, we have already dont this with shared functions above) but for now we are ok\n",
    "\n"
   ]
  },
  {
   "cell_type": "code",
   "execution_count": 2,
   "metadata": {},
   "outputs": [],
   "source": [
    "def compute_cross_product_from_two_points(points_list):\n",
    "    c = points_list[0][0] * points_list[1][1] - points_list[0][1] * points_list[1][0]\n",
    "    return(c)\n",
    "\n",
    "def compute_signed_area_of_triangle_from_two_points(points_list):\n",
    "    c = compute_cross_product_from_two_points(points_list)\n",
    "    signed_area = c / 2\n",
    "    return(signed_area)\n",
    "\n",
    "def compute_signed_area_using_meisters_formula(points_list):\n",
    "\n",
    "    total_signed_area = 0\n",
    "    for each_point in range(len(points_list) - 1):\n",
    "        signed_area = compute_signed_area_of_triangle_from_two_points([points_list[each_point], points_list[each_point + 1]])\n",
    "        total_signed_area = total_signed_area + signed_area\n",
    "\n",
    "    final_signed_area = compute_signed_area_of_triangle_from_two_points([points_list[-1], points_list[0]])\n",
    "    total_signed_area = total_signed_area + final_signed_area\n",
    "\n",
    "    return(total_signed_area)\n",
    "\n",
    "def compute_using_meister_with_parabola_paramatisation(a, b, c, d):\n",
    "    return (((d - b) * (c - a)* (d - a + b - c)) / 2)\n"
   ]
  },
  {
   "cell_type": "markdown",
   "metadata": {},
   "source": [
    " Let's continue the theme of examining curves and look at signed area on the folium of descartes. The curve can be described as $x^3+y^3-3xy=0$ and parameterised by  $$ g(t)=\\left[\\frac{3t}{t^3+1},\\frac{3t^2}{t^3+1}\\right].$$\n",
    "\n",
    "\n",
    "Recall that with these types of problems we are first finding points that meet certain criteria, and then putting these points into the formula above"
   ]
  },
  {
   "cell_type": "code",
   "execution_count": 3,
   "metadata": {},
   "outputs": [
    {
     "data": {
      "text/plain": [
       "[<matplotlib.lines.Line2D object at 0x7fb7f7849be0>]"
      ]
     },
     "execution_count": 3,
     "metadata": {},
     "output_type": "execute_result"
    },
    {
     "data": {
      "image/png": "[encoded data removed]",
      "text/plain": [
       "<Figure size 432x288 with 1 Axes>"
      ]
     },
     "metadata": {},
     "output_type": "display_data"
    }
   ],
   "source": [
    "values_for_parameterisation = []\n",
    "\n",
    "values_for_parameterisation.extend(np.arange(start=-20, stop=-1.1, step=.01)) \n",
    "values_for_parameterisation.extend(np.arange(start=-.9, stop=10, step=.01)) \n",
    "\n",
    "curve_points_x = [(3 * i)/(i^3 + 1) for i in values_for_parameterisation]\n",
    "curve_points_y = [(3 * i^2)/(i^3 + 1) for i in values_for_parameterisation]\n",
    "\n",
    "\n",
    "fig, ax = plt.subplots()\n",
    "ax.plot(curve_points_x, curve_points_y, 'bo', markersize = 2)\n"
   ]
  },
  {
   "cell_type": "markdown",
   "metadata": {},
   "source": [
    "This visualisation accords with what we know, bu we should never assume things just from a picture: we need to prove things algebraically. Let's also check that a general point created from this parametisation also satisfies"
   ]
  },
  {
   "cell_type": "code",
   "execution_count": 4,
   "metadata": {},
   "outputs": [
    {
     "data": {
      "text/latex": [
       "$\\displaystyle \\frac{27 t^{6}}{t^{9} + 3 t^{6} + 3 t^{3} + 1} + \\frac{27 t^{3}}{t^{9} + 3 t^{6} + 3 t^{3} + 1} - \\frac{27 t^{3}}{t^{6} + 2 t^{3} + 1} = 0$"
      ],
      "text/plain": [
       "Eq(27*t**6/(t**9 + 3*t**6 + 3*t**3 + 1) + 27*t**3/(t**9 + 3*t**6 + 3*t**3 + 1) - 27*t**3/(t**6 + 2*t**3 + 1), 0)"
      ]
     },
     "execution_count": 4,
     "metadata": {},
     "output_type": "execute_result"
    }
   ],
   "source": [
    "t = sp.symbols('t')\n",
    "p_1 = ((3 * t)/(t^3 + 1))\n",
    "p_2 = ((3 * t^2)/(t^3 + 1))\n",
    "\n",
    "r = sp.Eq(p_1^3 + p_2^3 - (3 * p_1 * p_2), 0)\n",
    "r.expand()"
   ]
  },
  {
   "cell_type": "markdown",
   "metadata": {},
   "source": [
    "That looks pretty bad, but when it is factored, it just comes out as $0 = 0$"
   ]
  },
  {
   "cell_type": "code",
   "execution_count": 5,
   "metadata": {},
   "outputs": [
    {
     "data": {
      "text/latex": [
       "$\\displaystyle \\text{True}$"
      ],
      "text/plain": [
       "True"
      ]
     },
     "execution_count": 5,
     "metadata": {},
     "output_type": "execute_result"
    }
   ],
   "source": [
    "r.factor()"
   ]
  },
  {
   "cell_type": "markdown",
   "metadata": {},
   "source": [
    "Just as we have done previously, we can also create some points using this parameterisation of $ g(t)=\\left[\\frac{3t}{t^3+1},\\frac{3t^2}{t^3+1}\\right]$ and pass this into our Meisters formula function to give us a signed area of an orientated triangle on the Folium of Descartes would be:  "
   ]
  },
  {
   "cell_type": "code",
   "execution_count": 6,
   "metadata": {},
   "outputs": [
    {
     "data": {
      "text/html": [
       "<html><script type=\"math/tex; mode=display\">\\newcommand{\\Bold}[1]{\\mathbf{#1}}-\\frac{9 \\, t_{1}^{2} t_{2}}{2 \\, {\\left(t_{1}^{3} + 1\\right)} {\\left(t_{2}^{3} + 1\\right)}} + \\frac{9 \\, t_{1} t_{2}^{2}}{2 \\, {\\left(t_{1}^{3} + 1\\right)} {\\left(t_{2}^{3} + 1\\right)}} + \\frac{9 \\, t_{1}^{2} t_{3}}{2 \\, {\\left(t_{1}^{3} + 1\\right)} {\\left(t_{3}^{3} + 1\\right)}} - \\frac{9 \\, t_{2}^{2} t_{3}}{2 \\, {\\left(t_{2}^{3} + 1\\right)} {\\left(t_{3}^{3} + 1\\right)}} - \\frac{9 \\, t_{1} t_{3}^{2}}{2 \\, {\\left(t_{1}^{3} + 1\\right)} {\\left(t_{3}^{3} + 1\\right)}} + \\frac{9 \\, t_{2} t_{3}^{2}}{2 \\, {\\left(t_{2}^{3} + 1\\right)} {\\left(t_{3}^{3} + 1\\right)}}</script></html>"
      ],
      "text/plain": [
       "-9/2*t_1^2*t_2/((t_1^3 + 1)*(t_2^3 + 1)) + 9/2*t_1*t_2^2/((t_1^3 + 1)*(t_2^3 + 1)) + 9/2*t_1^2*t_3/((t_1^3 + 1)*(t_3^3 + 1)) - 9/2*t_2^2*t_3/((t_2^3 + 1)*(t_3^3 + 1)) - 9/2*t_1*t_3^2/((t_1^3 + 1)*(t_3^3 + 1)) + 9/2*t_2*t_3^2/((t_2^3 + 1)*(t_3^3 + 1))"
      ]
     },
     "metadata": {},
     "output_type": "display_data"
    }
   ],
   "source": [
    "t_1, t_2, t_3 = sp.symbols('t_1, t_2, t_3')\n",
    "\n",
    "p_1 = ((3 * t_1)/(t_1^3 + 1))\n",
    "p_2 = ((3 * t_1^2)/(t_1^3 + 1))\n",
    "\n",
    "p_3 = ((3 * t_2)/(t_2^3 + 1))\n",
    "p_4 = ((3 * t_2^2)/(t_2^3 + 1))\n",
    "\n",
    "p_5 = ((3 * t_3)/(t_3^3 + 1))\n",
    "p_6 = ((3 * t_3^2)/(t_3^3 + 1))\n",
    "\n",
    "s =compute_signed_area_using_meisters_formula([[p_1, p_2], [p_3, p_4], [p_5, p_6]])\n",
    "show(s)"
   ]
  },
  {
   "cell_type": "markdown",
   "metadata": {},
   "source": [
    "And let's factor: "
   ]
  },
  {
   "cell_type": "code",
   "execution_count": 7,
   "metadata": {},
   "outputs": [
    {
     "data": {
      "text/html": [
       "<html><script type=\"math/tex; mode=display\">\\newcommand{\\Bold}[1]{\\mathbf{#1}}-\\frac{9 \\, {\\left(t_{1} t_{2} t_{3} + 1\\right)} {\\left(t_{1} - t_{2}\\right)} {\\left(t_{1} - t_{3}\\right)} {\\left(t_{2} - t_{3}\\right)}}{2 \\, {\\left(t_{1}^{2} - t_{1} + 1\\right)} {\\left(t_{2}^{2} - t_{2} + 1\\right)} {\\left(t_{3}^{2} - t_{3} + 1\\right)} {\\left(t_{1} + 1\\right)} {\\left(t_{2} + 1\\right)} {\\left(t_{3} + 1\\right)}}</script></html>"
      ],
      "text/plain": [
       "-9/2*(t_1*t_2*t_3 + 1)*(t_1 - t_2)*(t_1 - t_3)*(t_2 - t_3)/((t_1^2 - t_1 + 1)*(t_2^2 - t_2 + 1)*(t_3^2 - t_3 + 1)*(t_1 + 1)*(t_2 + 1)*(t_3 + 1))"
      ]
     },
     "metadata": {},
     "output_type": "display_data"
    }
   ],
   "source": [
    "show(s.factor())"
   ]
  },
  {
   "cell_type": "markdown",
   "metadata": {},
   "source": [
    "Still could be simpler to look at. Let's manipulate the expression a little more: "
   ]
  },
  {
   "cell_type": "code",
   "execution_count": 8,
   "metadata": {},
   "outputs": [
    {
     "data": {
      "text/html": [
       "<html><script type=\"math/tex; mode=display\">\\newcommand{\\Bold}[1]{\\mathbf{#1}}-\\frac{9 \\, {\\left(t_{1} t_{2} t_{3} + 1\\right)} {\\left(t_{1} - t_{2}\\right)} {\\left(t_{1} - t_{3}\\right)} {\\left(t_{2} - t_{3}\\right)}}{2 \\, {\\left(t_{1}^{3} + 1\\right)} {\\left(t_{2}^{3} + 1\\right)} {\\left(t_{3}^{3} + 1\\right)}}</script></html>"
      ],
      "text/plain": [
       "-9/2*(t_1*t_2*t_3 + 1)*(t_1 - t_2)*(t_1 - t_3)*(t_2 - t_3)/((t_1^3 + 1)*(t_2^3 + 1)*(t_3^3 + 1))"
      ]
     },
     "metadata": {},
     "output_type": "display_data"
    }
   ],
   "source": [
    "show(s.numerator().factor() / s.denominator())"
   ]
  },
  {
   "cell_type": "markdown",
   "metadata": {},
   "source": [
    "That looks ok. Note that we can also just get rid of that sign out the front and we end up with a formula for the area of an orientated triangle on the Folium of Descartes as follows:  \n",
    "$$   \\frac{9(t_1-t_2)(t_2-t_3)(t_3-t_1)(t_1t_2t_3+1)}{2(t_1^3+1)(t_2^3+1)(t_3^3+1)}.$$"
   ]
  },
  {
   "cell_type": "code",
   "execution_count": null,
   "metadata": {},
   "outputs": [],
   "source": []
  },
  {
   "cell_type": "code",
   "execution_count": null,
   "metadata": {},
   "outputs": [],
   "source": []
  },
  {
   "cell_type": "code",
   "execution_count": null,
   "metadata": {},
   "outputs": [],
   "source": []
  },
  {
   "cell_type": "code",
   "execution_count": null,
   "metadata": {},
   "outputs": [],
   "source": []
  },
  {
   "cell_type": "code",
   "execution_count": null,
   "metadata": {},
   "outputs": [],
   "source": []
  },
  {
   "cell_type": "code",
   "execution_count": null,
   "metadata": {},
   "outputs": [],
   "source": []
  },
  {
   "cell_type": "code",
   "execution_count": 9,
   "metadata": {},
   "outputs": [],
   "source": [
    "\n",
    "\n",
    "# points_choice = np.array([[-20,-1/20],[43,1/43], [1, 1]])\n",
    "# points_for_plotting = np.append(points_choice, [points_choice[0]], axis=0)\n",
    "# triangle_points_x = [e[0] for e in points_for_plotting]\n",
    "# triangle_points_y = [e[1] for e in points_for_plotting]\n",
    "\n"
   ]
  },
  {
   "cell_type": "code",
   "execution_count": null,
   "metadata": {},
   "outputs": [],
   "source": []
  },
  {
   "cell_type": "code",
   "execution_count": null,
   "metadata": {},
   "outputs": [],
   "source": []
  },
  {
   "cell_type": "markdown",
   "metadata": {},
   "source": [
    "$$  \\left(\\frac{3t}{t^3+1}\\right)^3+\\left(\\frac{3t^2}{t^3+1}\\right)^3-3\\frac{3t}{t^3+1}\\frac{3t^2}{t^3+1}=\\frac{27t^3+27t^6-27t^3(t^3+1)}{(t^3+1)^3}\\\\=27\\frac{t^3+t^6-t^6-t^3}{(t^3+1)^3}=0.$$"
   ]
  },
  {
   "cell_type": "code",
   "execution_count": null,
   "metadata": {},
   "outputs": [],
   "source": []
  }
 ],
 "metadata": {
  "kernelspec": {
   "display_name": "SageMath 9.0",
   "language": "sage",
   "name": "sagemath"
  },
  "language_info": {
   "codemirror_mode": {
    "name": "ipython",
    "version": 3
   },
   "file_extension": ".py",
   "mimetype": "text/x-python",
   "name": "python",
   "nbconvert_exporter": "python",
   "pygments_lexer": "ipython3",
   "version": "3.7.3"
  }
 },
 "nbformat": 4,
 "nbformat_minor": 4
}
