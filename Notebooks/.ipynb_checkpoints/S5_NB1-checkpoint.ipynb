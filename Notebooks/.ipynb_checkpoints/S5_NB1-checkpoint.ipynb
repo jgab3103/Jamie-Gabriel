{
 "cells": [
  {
   "cell_type": "code",
   "execution_count": 277,
   "id": "6dd866d6-49eb-4efc-94c5-70044517bc26",
   "metadata": {},
   "outputs": [],
   "source": [
    "import numpy as np\n",
    "import sympy as sp\n",
    "import pickle\n",
    "from IPython.display import HTML\n",
    "import ipywidgets as widgets\n",
    "import matplotlib as mpl\n",
    "import matplotlib.pyplot as plt\n",
    "from mpl_toolkits.mplot3d import Axes3D\n",
    "import matplotlib.pyplot as plt\n",
    "mpl.rcParams['legend.fontsize'] = 10\n",
    "import pandas as pd\n",
    "import itertools\n",
    "pd.set_option('display.max_colwidth', None)\n",
    "from sympy.plotting import plot \n",
    "from IPython.display import Image\n",
    "\n",
    "\n",
    "# Render to Latex function \n",
    "def RTL(e):\n",
    "    latex_rendering = []\n",
    "\n",
    "    for i in range(len(e)):\n",
    "        latex_rendering.append(\"$$\" + sp.latex(e[i]) + \"$$<br/>\")\n",
    "    \n",
    "    return(HTML(\"\".join(latex_rendering[0:])))"
   ]
  },
  {
   "cell_type": "code",
   "execution_count": 278,
   "id": "0a217413-6e86-4df2-be01-baad8a33a394",
   "metadata": {},
   "outputs": [],
   "source": [
    "# Linear Differential Equations"
   ]
  },
  {
   "cell_type": "markdown",
   "id": "8a72099f-d364-4d66-9f3b-7e3699a5f691",
   "metadata": {},
   "source": [
    "#### Solving Linear Differential Equations \n",
    "It needs to be in the form: \n",
    "\n",
    "$$ \\begin{equation}\\frac{{dy}}{{dt}} + p\\left( t \\right)y = g\\left( t \\right) \\label{eq:eq1} \\end{equation} $$\n",
    "\n",
    "1. Put in the standard form\n",
    "2. Determine and integrating factor: $ $$ \\mu(t) = e^{\\int p(t) dx} $$ $\n",
    "3. Multiply the equation by $\\mu(t) $. \n",
    "4. Subtitute the LHS of the euqation using the the product rule\n",
    "\n",
    "$$ \\mu \\left( t \\right)y ' + \\mu '\\left( t \\right)y = {\\left( {\\mu \\left( t \\right)y\\left( t \\right)} \\right)^\\prime } $$\n",
    "\n",
    "5. Integrate both sides\n",
    "6. Solve for $y(t)$\n",
    "\n",
    "<b>An alternative (and simpler) way</b>  to solve Linear Differential Equations of the form $ y \\prime + p(y)y = q(y) $, is again use create an integrating factor that allows a solution is: \n",
    "\n",
    "$$ \\mu(t) = e^{\\int p(t) dt} $$\n",
    "\n",
    "This calculation will make the equation exact and solvable in the following form \n",
    "\n",
    "$$ y = \\frac{1}{\\mu(t)}  \\left[ \\int \\mu(t) q(x) dx + c] \\right] $$\n"
   ]
  },
  {
   "cell_type": "markdown",
   "id": "2ec5d2dc-9c60-49ee-a163-ee2f038ed23d",
   "metadata": {},
   "source": [
    "#### Some examples"
   ]
  },
  {
   "cell_type": "markdown",
   "id": "58cd1aae-fdfa-4a18-a271-ae0b36b8b07c",
   "metadata": {},
   "source": [
    "<b>Example 1, 2:</b>\n",
    "\n",
    "Find the solution for: $ \\frac{{dv}}{{dt}} = 9.8 - 0.196v\\hspace{0.25in}v\\left( 0 \\right) = 48 $"
   ]
  },
  {
   "cell_type": "code",
   "execution_count": 279,
   "id": "beb1ba12-aa9c-4330-a2d8-36a44f297f7b",
   "metadata": {},
   "outputs": [],
   "source": [
    "# Create variables needed the example\n",
    "c, v_prime, v, t, mu_t = sp.symbols('c, v_prime, v, t, mu_t')"
   ]
  },
  {
   "cell_type": "code",
   "execution_count": 280,
   "id": "0dc75a7d-2f9f-4ab4-8e77-7934bd352517",
   "metadata": {},
   "outputs": [
    {
     "data": {
      "text/latex": [
       "$\\displaystyle 0.196 v + v_{prime} = 9.8$"
      ],
      "text/plain": [
       "Eq(0.196*v + v_prime, 9.8)"
      ]
     },
     "execution_count": 280,
     "metadata": {},
     "output_type": "execute_result"
    }
   ],
   "source": [
    "# Put the equation in standard form\n",
    "E1 = sp.Eq(v_prime + .196 * v, 9.8)\n",
    "E1"
   ]
  },
  {
   "cell_type": "code",
   "execution_count": 281,
   "id": "a8f48809-3fb0-4e58-917f-69e45cf356ce",
   "metadata": {},
   "outputs": [
    {
     "name": "stdout",
     "output_type": "stream",
     "text": [
      "PT:  0.196\n",
      "GT:  9.8\n",
      "MU_T:  exp(0.196*t)\n",
      "MU_T_P:  0.196*exp(0.196*t)\n"
     ]
    }
   ],
   "source": [
    "# Assign variables and create integrating factor\n",
    "PT = .196\n",
    "GT = 9.8\n",
    "MU_T = sp.E**(sp.integrate(PT, t))\n",
    "MU_T_P = sp.diff(MU_T, t)\n",
    "print(\"PT: \", PT)\n",
    "print(\"GT: \", GT)\n",
    "print(\"MU_T: \", MU_T)\n",
    "print(\"MU_T_P: \", MU_T_P)"
   ]
  },
  {
   "cell_type": "code",
   "execution_count": 282,
   "id": "70a4bd10-e25a-4077-9181-9d4662e3b010",
   "metadata": {},
   "outputs": [
    {
     "data": {
      "text/latex": [
       "$\\displaystyle 0.196 v e^{0.196 t} + v_{prime} e^{0.196 t} = 9.8 e^{0.196 t}$"
      ],
      "text/plain": [
       "Eq(0.196*v*exp(0.196*t) + v_prime*exp(0.196*t), 9.8*exp(0.196*t))"
      ]
     },
     "execution_count": 282,
     "metadata": {},
     "output_type": "execute_result"
    }
   ],
   "source": [
    "# Multiply the equation by the integrating factor\n",
    "E2 = sp.Eq((E1.lhs * MU_T), E1.rhs * MU_T).expand()\n",
    "E2"
   ]
  },
  {
   "cell_type": "code",
   "execution_count": 283,
   "id": "5a1961cc-30f5-4111-8d8c-c256fc760d34",
   "metadata": {},
   "outputs": [],
   "source": [
    "# Note the the left hand side can be rewritten using the product rule: "
   ]
  },
  {
   "cell_type": "markdown",
   "id": "b9cff383-bb9e-47c8-9685-5a0537365bd1",
   "metadata": {},
   "source": [
    "$$ \\mu \\left( t \\right)v ' + \\mu '\\left( t \\right)v = {\\left( {\\mu \\left( t \\right)v\\left( t \\right)} \\right)^\\prime } $$"
   ]
  },
  {
   "cell_type": "code",
   "execution_count": 284,
   "id": "66562d52-9443-4307-a950-07f339bded1d",
   "metadata": {},
   "outputs": [
    {
     "data": {
      "text/latex": [
       "$\\displaystyle v e^{0.196 t} = 9.8 e^{0.196 t}$"
      ],
      "text/plain": [
       "Eq(v*exp(0.196*t), 9.8*exp(0.196*t))"
      ]
     },
     "execution_count": 284,
     "metadata": {},
     "output_type": "execute_result"
    }
   ],
   "source": [
    "E3 = sp.Eq(MU_T * v, E2.rhs)\n",
    "E3"
   ]
  },
  {
   "cell_type": "code",
   "execution_count": 285,
   "id": "815cbd0d-0eb2-46ab-b8a8-a9cd13b84387",
   "metadata": {},
   "outputs": [
    {
     "data": {
      "text/latex": [
       "$\\displaystyle 1.0 v e^{0.196 t} = c + 50.0 e^{0.196 t}$"
      ],
      "text/plain": [
       "Eq(1.0*v*exp(0.196*t), c + 50.0*exp(0.196*t))"
      ]
     },
     "execution_count": 285,
     "metadata": {},
     "output_type": "execute_result"
    }
   ],
   "source": [
    "# Integrate both sides. Be careful to note that the left hand side requires differentiation and integration\n",
    "E4= sp.Eq(sp.integrate(sp.diff(E3.lhs, t),  t), sp.integrate(E3.rhs, t) + c)\n",
    "E4"
   ]
  },
  {
   "cell_type": "code",
   "execution_count": 286,
   "id": "f69518b7-ae40-4874-aab2-a1494bb2e583",
   "metadata": {},
   "outputs": [
    {
     "data": {
      "text/latex": [
       "$\\displaystyle v = c e^{- 0.196 t} + 50.0$"
      ],
      "text/plain": [
       "Eq(v, c*exp(-0.196*t) + 50.0)"
      ]
     },
     "execution_count": 286,
     "metadata": {},
     "output_type": "execute_result"
    }
   ],
   "source": [
    "# Solve this for v\n",
    "E5 = sp.Eq(v, sp.solve(E4, v)[0])\n",
    "E5"
   ]
  },
  {
   "cell_type": "code",
   "execution_count": 287,
   "id": "b920214b-296a-472e-8347-71b8aad2b668",
   "metadata": {},
   "outputs": [],
   "source": [
    "# Plot the solution for different values of C"
   ]
  },
  {
   "cell_type": "code",
   "execution_count": 288,
   "id": "10206c04-3f21-4a54-a4a1-cc48d6693ad3",
   "metadata": {},
   "outputs": [
    {
     "data": {
      "image/png": "[encoded data removed]",
      "text/plain": [
       "<Figure size 432x288 with 1 Axes>"
      ]
     },
     "metadata": {
      "needs_background": "light"
     },
     "output_type": "display_data"
    }
   ],
   "source": [
    "P1 = sp.plotting.plot(E5.rhs.subs({c: -40}), show= False)\n",
    "P2 = sp.plotting.plot(E5.rhs.subs({c: -20}), show = False)\n",
    "P3 = sp.plot(E5.rhs.subs({c: 0}), show = False)\n",
    "P4 = sp.plot(E5.rhs.subs({c: 20}), show = False)\n",
    "P5 = sp.plot(E5.rhs.subs({c: 40}), show = False)\n",
    "\n",
    "P1.append(P2[0])\n",
    "P1.append(P3[0])\n",
    "P1.append(P4[0])\n",
    "P1.append(P5[0])\n",
    "\n",
    "P1.show()"
   ]
  },
  {
   "cell_type": "code",
   "execution_count": 289,
   "id": "80957e3c-6bf6-4f3c-8efc-85e73c4f4fae",
   "metadata": {},
   "outputs": [
    {
     "data": {
      "text/latex": [
       "$\\displaystyle c = -2.0$"
      ],
      "text/plain": [
       "Eq(c, -2.0)"
      ]
     },
     "execution_count": 289,
     "metadata": {},
     "output_type": "execute_result"
    }
   ],
   "source": [
    "# Note that initial value was give. Substitute this in to find a value of c and solve for \n",
    "E6 = E5.subs({v: 48, t: 0})\n",
    "E7 = sp.Eq(c, sp.solve(E6, c)[0])\n",
    "E7"
   ]
  },
  {
   "cell_type": "code",
   "execution_count": 290,
   "id": "5cc2b1c7-e476-4ea8-a3fd-5f0fb7db0967",
   "metadata": {},
   "outputs": [
    {
     "data": {
      "text/latex": [
       "$\\displaystyle v = 50.0 - 2 e^{- 0.196 t}$"
      ],
      "text/plain": [
       "Eq(v, 50.0 - 2*exp(-0.196*t))"
      ]
     },
     "execution_count": 290,
     "metadata": {},
     "output_type": "execute_result"
    }
   ],
   "source": [
    "# Subsiute t\n",
    "E8 = E5.subs({c: -2})\n",
    "E8"
   ]
  },
  {
   "cell_type": "markdown",
   "id": "1dbf4f45-9162-4ff1-af23-9ab6d587bc7a",
   "metadata": {},
   "source": [
    "<b>Example 3:</b>\n",
    "\n",
    "Solve the following Initial Value Problem\n",
    "$$ \\cos \\left( x \\right)y' + \\sin \\left( x \\right)y = 2{\\cos ^3}\\left( x \\right)\\sin \\left( x \\right) - 1\\hspace{0.25in}y\\left( {\\frac{\\pi }{4}} \\right) = 3\\sqrt 2 ,\\hspace{0.25in}\\,\\,\\,\\,\\,\\,0 \\le x < \\frac{\\pi }{2} $$"
   ]
  },
  {
   "cell_type": "code",
   "execution_count": 291,
   "id": "d0e02c04-b920-49e2-aefd-ee246a63d852",
   "metadata": {},
   "outputs": [],
   "source": [
    "# Create variables needed to answer this problem\n",
    "x, c, y_prime, y, t, mu_t = sp.symbols('x, c, y_prime, y, t, mu_t ')"
   ]
  },
  {
   "cell_type": "code",
   "execution_count": 292,
   "id": "f29f724e-a418-481a-b408-ba9824b8b4a7",
   "metadata": {},
   "outputs": [],
   "source": [
    "# Put this euqation in standard form"
   ]
  },
  {
   "cell_type": "code",
   "execution_count": 293,
   "id": "c9bbf5ae-bfc8-481d-b444-a680e2c78f6e",
   "metadata": {},
   "outputs": [
    {
     "data": {
      "text/latex": [
       "$\\displaystyle y \\tan{\\left(x \\right)} + y_{prime} = 2 \\sin{\\left(x \\right)} \\cos^{2}{\\left(x \\right)} - \\frac{1}{\\cos{\\left(x \\right)}}$"
      ],
      "text/plain": [
       "Eq(y*tan(x) + y_prime, 2*sin(x)*cos(x)**2 - 1/cos(x))"
      ]
     },
     "execution_count": 293,
     "metadata": {},
     "output_type": "execute_result"
    }
   ],
   "source": [
    "E1 = sp.Eq(sp.cos(x) * y_prime + sp.sin(x) * y, (2 * sp.cos(x)**3 * sp.sin(x)) - 1)\n",
    "E2 = sp.Eq(E1.lhs / sp.cos(x), E1.rhs / sp.cos(x))\n",
    "E3 = sp.Eq(E2.lhs.simplify(), E2.rhs.expand())\n",
    "E3"
   ]
  },
  {
   "cell_type": "code",
   "execution_count": 294,
   "id": "769c160f-ff9e-4d99-ad3f-0c319d539050",
   "metadata": {},
   "outputs": [
    {
     "data": {
      "text/html": [
       "$$\\tan{\\left(x \\right)}$$<br/>$$2 \\sin{\\left(x \\right)} \\cos^{2}{\\left(x \\right)} - \\frac{1}{\\cos{\\left(x \\right)}}$$<br/>$$\\frac{1}{\\cos{\\left(x \\right)}}$$<br/>$$\\frac{\\sin{\\left(x \\right)}}{\\cos^{2}{\\left(x \\right)}}$$<br/>"
      ],
      "text/plain": [
       "<IPython.core.display.HTML object>"
      ]
     },
     "execution_count": 294,
     "metadata": {},
     "output_type": "execute_result"
    }
   ],
   "source": [
    "# Assign variables needed for formula and create integrating factor\n",
    "PX = sp.tan(x)\n",
    "GX = E3.rhs\n",
    "MU_X = sp.E**(sp.integrate(PX, x))\n",
    "MU_X_P = sp.diff(MU_X, x)\n",
    "RTL([PX, GX, MU_X, MU_X_P])"
   ]
  },
  {
   "cell_type": "code",
   "execution_count": null,
   "id": "a2531969-7608-462b-8650-8fb295239ed5",
   "metadata": {},
   "outputs": [],
   "source": []
  },
  {
   "cell_type": "code",
   "execution_count": 295,
   "id": "4ce9e3d7-3015-4374-82e1-352e57306302",
   "metadata": {},
   "outputs": [
    {
     "data": {
      "text/latex": [
       "$\\displaystyle \\frac{y \\tan{\\left(x \\right)}}{\\cos{\\left(x \\right)}} + \\frac{y_{prime}}{\\cos{\\left(x \\right)}} = 2 \\sin{\\left(x \\right)} \\cos{\\left(x \\right)} - \\frac{1}{\\cos^{2}{\\left(x \\right)}}$"
      ],
      "text/plain": [
       "Eq(y*tan(x)/cos(x) + y_prime/cos(x), 2*sin(x)*cos(x) - 1/cos(x)**2)"
      ]
     },
     "execution_count": 295,
     "metadata": {},
     "output_type": "execute_result"
    }
   ],
   "source": [
    "# Multiply the equation by the integrating factor\n",
    "E4 = sp.Eq(E3.lhs * MU_X, E3.rhs * MU_X).expand()\n",
    "E4"
   ]
  },
  {
   "cell_type": "code",
   "execution_count": null,
   "id": "9829eab0-a97c-42a0-b921-787cc410c91a",
   "metadata": {},
   "outputs": [],
   "source": []
  },
  {
   "cell_type": "code",
   "execution_count": 296,
   "id": "14c328ab-b3cc-4643-9dd4-cbdd1a88ca0b",
   "metadata": {},
   "outputs": [],
   "source": [
    "# note that the LHS can be rewritten: "
   ]
  },
  {
   "cell_type": "markdown",
   "id": "e7bc0a3d-76ea-4ca7-882c-5eca8a169797",
   "metadata": {},
   "source": [
    "$$ \\mu \\left( x \\right)y ' + \\mu '\\left( x \\right)y = {\\left( {\\mu \\left( x \\right)y\\left( x \\right)} \\right)^\\prime } $$"
   ]
  },
  {
   "cell_type": "code",
   "execution_count": 297,
   "id": "75ab5e2e-f83e-420d-b933-df81a0d0d571",
   "metadata": {},
   "outputs": [
    {
     "data": {
      "text/latex": [
       "$\\displaystyle \\frac{y \\sin{\\left(x \\right)}}{\\cos^{2}{\\left(x \\right)}}$"
      ],
      "text/plain": [
       "y*sin(x)/cos(x)**2"
      ]
     },
     "execution_count": 297,
     "metadata": {},
     "output_type": "execute_result"
    }
   ],
   "source": [
    "# Rewrite the left side f the equation using the subsitution and differeniate it\n",
    "E5 = sp.diff(MU_X * y, x)\n",
    "E5"
   ]
  },
  {
   "cell_type": "code",
   "execution_count": 298,
   "id": "14b05c55-14fc-4914-b241-fc0ef39ba20f",
   "metadata": {},
   "outputs": [],
   "source": [
    "# Set the new left hand side to teh equation"
   ]
  },
  {
   "cell_type": "code",
   "execution_count": 299,
   "id": "0631c423-e4cc-43bc-85a9-4b8657d183b7",
   "metadata": {},
   "outputs": [
    {
     "data": {
      "text/latex": [
       "$\\displaystyle \\frac{y \\sin{\\left(x \\right)}}{\\cos^{2}{\\left(x \\right)}} = 2 \\sin{\\left(x \\right)} \\cos{\\left(x \\right)} - \\frac{1}{\\cos^{2}{\\left(x \\right)}}$"
      ],
      "text/plain": [
       "Eq(y*sin(x)/cos(x)**2, 2*sin(x)*cos(x) - 1/cos(x)**2)"
      ]
     },
     "execution_count": 299,
     "metadata": {},
     "output_type": "execute_result"
    }
   ],
   "source": [
    "E6 = sp.Eq(E5, E4.rhs)\n",
    "E6"
   ]
  },
  {
   "cell_type": "code",
   "execution_count": 300,
   "id": "e8d85d98-5ee4-4764-b877-8fefebd7db9d",
   "metadata": {},
   "outputs": [
    {
     "data": {
      "text/latex": [
       "$\\displaystyle \\frac{y}{\\cos{\\left(x \\right)}} = c + \\sin^{2}{\\left(x \\right)} - \\frac{\\sin{\\left(x \\right)}}{\\cos{\\left(x \\right)}}$"
      ],
      "text/plain": [
       "Eq(y/cos(x), c + sin(x)**2 - sin(x)/cos(x))"
      ]
     },
     "execution_count": 300,
     "metadata": {},
     "output_type": "execute_result"
    }
   ],
   "source": [
    "# Integrate both sides.\n",
    "E7= sp.Eq(sp.integrate(E6.lhs,  x), (sp.integrate(E6.rhs, x)) + c)\n",
    "E7"
   ]
  },
  {
   "cell_type": "code",
   "execution_count": 301,
   "id": "493b17e7-90fd-4ece-b4b1-13b579729828",
   "metadata": {},
   "outputs": [
    {
     "data": {
      "text/latex": [
       "$\\displaystyle y = c \\cos{\\left(x \\right)} + \\sin^{2}{\\left(x \\right)} \\cos{\\left(x \\right)} - \\sin{\\left(x \\right)}$"
      ],
      "text/plain": [
       "Eq(y, c*cos(x) + sin(x)**2*cos(x) - sin(x))"
      ]
     },
     "execution_count": 301,
     "metadata": {},
     "output_type": "execute_result"
    }
   ],
   "source": [
    "# Solve for y\n",
    "E8 = sp.Eq(y, sp.solve(E7, y)[0])\n",
    "E8"
   ]
  },
  {
   "cell_type": "code",
   "execution_count": 302,
   "id": "d6333e17-e9bb-4da4-8a03-48681cf98d13",
   "metadata": {},
   "outputs": [
    {
     "data": {
      "text/latex": [
       "$\\displaystyle \\frac{13}{2}$"
      ],
      "text/plain": [
       "13/2"
      ]
     },
     "execution_count": 302,
     "metadata": {},
     "output_type": "execute_result"
    }
   ],
   "source": [
    "E9 = E8.subs({y: 3 * sp.sqrt(2), x: sp.pi / 4})\n",
    "sp.solve(E9, c)[0]"
   ]
  },
  {
   "cell_type": "markdown",
   "id": "e2463b23-9d74-4d88-a4b3-790d94e1209d",
   "metadata": {},
   "source": [
    "<b>Example 4: </b>\n",
    "\n",
    "Find the solution to the following IVP: \n",
    "\n",
    "$$ t\\,y' + 2y = {t^2} - t + 1\\hspace{0.25in}y\\left( 1 \\right) = \\frac{1}{2} $$"
   ]
  },
  {
   "cell_type": "code",
   "execution_count": 303,
   "id": "5f3a58df-07b8-4906-a433-602aa9d8d6a8",
   "metadata": {},
   "outputs": [],
   "source": [
    "# Create variables needed to answer this problem\n",
    "x, c, y_prime, y, t, mu_t = sp.symbols('x, c, y_prime, y, t, mu_t ')"
   ]
  },
  {
   "cell_type": "code",
   "execution_count": 304,
   "id": "755bb9a0-33ff-4f6d-94a4-f1981f586f11",
   "metadata": {},
   "outputs": [
    {
     "data": {
      "text/latex": [
       "$\\displaystyle t - 1 + \\frac{1}{t} = y_{prime} + \\frac{2 y}{t}$"
      ],
      "text/plain": [
       "Eq(t - 1 + 1/t, y_prime + 2*y/t)"
      ]
     },
     "execution_count": 304,
     "metadata": {},
     "output_type": "execute_result"
    }
   ],
   "source": [
    "# Rewrite the probvlem in the correct form: \n",
    "E1 = sp.Eq(t * y_prime + 2 * y, t**2 - t + 1)\n",
    "E2 = sp.Eq(E1.lhs / t, E1.rhs / t).simplify()\n",
    "E2"
   ]
  },
  {
   "cell_type": "code",
   "execution_count": 305,
   "id": "92eda954-8b4a-4d9b-ac54-c36711e4921b",
   "metadata": {},
   "outputs": [
    {
     "data": {
      "text/html": [
       "$$\\frac{2}{t}$$<br/>$$t - 1 + \\frac{1}{t}$$<br/>$$t^{2}$$<br/>$$2 t$$<br/>"
      ],
      "text/plain": [
       "<IPython.core.display.HTML object>"
      ]
     },
     "execution_count": 305,
     "metadata": {},
     "output_type": "execute_result"
    }
   ],
   "source": [
    "# Assign variables needed for formula and create integrating factor\n",
    "PT = 2 / t\n",
    "GT = E2.lhs\n",
    "MU_T = sp.E**(sp.integrate(PT, t))\n",
    "MU_T_P = sp.diff(MU_T, t)\n",
    "RTL([PT, GT, MU_T, MU_T_P])"
   ]
  },
  {
   "cell_type": "code",
   "execution_count": 306,
   "id": "fbf97d35-29df-4c02-9908-fed69b43e252",
   "metadata": {},
   "outputs": [
    {
     "data": {
      "text/latex": [
       "$\\displaystyle t^{2} y_{prime} + 2 t y = t^{3} - t^{2} + t$"
      ],
      "text/plain": [
       "Eq(t**2*y_prime + 2*t*y, t**3 - t**2 + t)"
      ]
     },
     "execution_count": 306,
     "metadata": {},
     "output_type": "execute_result"
    }
   ],
   "source": [
    "# Multiply both sides of the equation by the integrating factor\n",
    "E3 = sp.Eq(E2.lhs * MU_T, E2.rhs * MU_T).simplify().expand()\n",
    "E3"
   ]
  },
  {
   "cell_type": "code",
   "execution_count": 307,
   "id": "32a40900-c7f5-4e69-a06e-08bd21bc39c2",
   "metadata": {},
   "outputs": [],
   "source": [
    "# Rewrite the left hand of the equation using the product rule: "
   ]
  },
  {
   "cell_type": "markdown",
   "id": "ee49ac5e-4ca3-4d31-b028-5c19b02a0ce4",
   "metadata": {},
   "source": [
    "$$ \\mu \\left( t \\right)y ' + \\mu '\\left( t \\right)y = {\\left( {\\mu \\left( t \\right)y\\left( t \\right)} \\right)^\\prime } $$"
   ]
  },
  {
   "cell_type": "code",
   "execution_count": 308,
   "id": "de5a4b94-a2bc-4533-b375-c11d84f770c9",
   "metadata": {},
   "outputs": [
    {
     "data": {
      "text/latex": [
       "$\\displaystyle 2 t y = t^{3} - t^{2} + t$"
      ],
      "text/plain": [
       "Eq(2*t*y, t**3 - t**2 + t)"
      ]
     },
     "execution_count": 308,
     "metadata": {},
     "output_type": "execute_result"
    }
   ],
   "source": [
    "E4 = sp.diff(MU_T * y, t)\n",
    "E5 = sp.Eq(E4, E3.rhs)\n",
    "E5"
   ]
  },
  {
   "cell_type": "code",
   "execution_count": 309,
   "id": "eb7d441b-f4dd-4638-b192-1280fa6f5d33",
   "metadata": {},
   "outputs": [
    {
     "data": {
      "text/latex": [
       "$\\displaystyle y = \\frac{c}{t^{2}} + \\frac{t^{2}}{4} - \\frac{t}{3} + \\frac{1}{2}$"
      ],
      "text/plain": [
       "Eq(y, c/t**2 + t**2/4 - t/3 + 1/2)"
      ]
     },
     "execution_count": 309,
     "metadata": {},
     "output_type": "execute_result"
    }
   ],
   "source": [
    "# Integrate both sides of the equation an solve for y\n",
    "E6 = sp.Eq(sp.integrate(E5.lhs, t), sp.integrate(E5.rhs, t) + c)\n",
    "E7 = sp.Eq(y, sp.solve(E6, y)[0])\n",
    "E7"
   ]
  },
  {
   "cell_type": "code",
   "execution_count": 310,
   "id": "5ac53c41-8ec1-4947-901c-fe71314b13a1",
   "metadata": {},
   "outputs": [
    {
     "data": {
      "text/latex": [
       "$\\displaystyle y = \\frac{t^{2}}{4} - \\frac{t}{3} + \\frac{1}{2} + \\frac{0.0833333333333333}{t^{2}}$"
      ],
      "text/plain": [
       "Eq(y, t**2/4 - t/3 + 1/2 + 0.0833333333333333/t**2)"
      ]
     },
     "execution_count": 310,
     "metadata": {},
     "output_type": "execute_result"
    }
   ],
   "source": [
    "# Find a specific value of c based on given initial conditions\n",
    "E8 = E7.subs({y: .5, t: 1})\n",
    "E9 = sp.Eq(c, sp.solve(E8, c)[0])\n",
    "E10 = E7.subs({c: E9.rhs})\n",
    "E10"
   ]
  },
  {
   "cell_type": "code",
   "execution_count": 311,
   "id": "219409f1-c5c3-4905-9b50-9b26d9a0c724",
   "metadata": {},
   "outputs": [
    {
     "data": {
      "image/png": "[encoded data removed]",
      "text/plain": [
       "<Figure size 432x288 with 1 Axes>"
      ]
     },
     "metadata": {
      "needs_background": "light"
     },
     "output_type": "display_data"
    }
   ],
   "source": [
    "# Plot the solutions with variable values of c\n",
    "P1 = sp.plotting.plot(E10.rhs, show= False)\n",
    "\n",
    "P1.show()"
   ]
  },
  {
   "cell_type": "markdown",
   "id": "3d49a3a1-8f8d-4051-9f3d-1037df35d210",
   "metadata": {},
   "source": [
    "<b>Example 5: </b>\n",
    "Find the solution to the following IVP: \n",
    "\n",
    "$$ t\\,y' - 2y = {t^5}\\sin \\left( {2t} \\right) - {t^3} + 4{t^4}\\hspace{0.25in}y\\left( \\pi  \\right) = \\frac{3}{2}{\\pi ^4} $$\n",
    "\n"
   ]
  },
  {
   "cell_type": "code",
   "execution_count": 312,
   "id": "514f5d17-dae4-4ef3-b179-f8c4efc1722b",
   "metadata": {},
   "outputs": [],
   "source": [
    "# Create variables needed to answer this problem\n",
    "x, c, y_prime, y, t, mu_t = sp.symbols('x, c, y_prime, y, t, mu_t ')"
   ]
  },
  {
   "cell_type": "code",
   "execution_count": 313,
   "id": "8bc7bde5-8e2f-4596-b5da-97736ecccb2b",
   "metadata": {},
   "outputs": [
    {
     "data": {
      "text/latex": [
       "$\\displaystyle y_{prime} - \\frac{2 y}{t} = t^{4} \\sin{\\left(2 t \\right)} + 4 t^{3} - t^{2}$"
      ],
      "text/plain": [
       "Eq(y_prime - 2*y/t, t**4*sin(2*t) + 4*t**3 - t**2)"
      ]
     },
     "execution_count": 313,
     "metadata": {},
     "output_type": "execute_result"
    }
   ],
   "source": [
    "# Rewrite the problem in the correct form\n",
    "E1 = sp.Eq(t * y_prime - 2 * y, t**5 * sp.sin(2 * t) - t**3 + 4 * t**4)\n",
    "E2 = sp.Eq(E1.lhs / t, E1.rhs / t).simplify().expand()\n",
    "E2"
   ]
  },
  {
   "cell_type": "code",
   "execution_count": 314,
   "id": "4606c4cd-488c-478f-bbb6-8c3ce320cb21",
   "metadata": {},
   "outputs": [
    {
     "data": {
      "text/html": [
       "$$- \\frac{2}{t}$$<br/>$$t^{4} \\sin{\\left(2 t \\right)} + 4 t^{3} - t^{2}$$<br/>$$\\frac{1}{t^{2}}$$<br/>$$- \\frac{2}{t^{3}}$$<br/>"
      ],
      "text/plain": [
       "<IPython.core.display.HTML object>"
      ]
     },
     "execution_count": 314,
     "metadata": {},
     "output_type": "execute_result"
    }
   ],
   "source": [
    "# Assign variables needed for formula and create integrating factor\n",
    "PT = - 2 / t\n",
    "GT = E2.rhs\n",
    "MU_T = sp.E**(sp.integrate(PT, t))\n",
    "MU_T_P = sp.diff(MU_T, t)\n",
    "RTL([PT, GT, MU_T, MU_T_P])"
   ]
  },
  {
   "cell_type": "code",
   "execution_count": 315,
   "id": "e85b9e66-33b0-4d04-a8c7-2865178b97db",
   "metadata": {},
   "outputs": [
    {
     "data": {
      "text/latex": [
       "$\\displaystyle \\frac{y_{prime}}{t^{2}} - \\frac{2 y}{t^{3}} = t^{2} \\sin{\\left(2 t \\right)} + 4 t - 1$"
      ],
      "text/plain": [
       "Eq(y_prime/t**2 - 2*y/t**3, t**2*sin(2*t) + 4*t - 1)"
      ]
     },
     "execution_count": 315,
     "metadata": {},
     "output_type": "execute_result"
    }
   ],
   "source": [
    "# Multiply both sides of the equation by the integrating factor\n",
    "E3 = sp.Eq(E2.lhs * MU_T, E2.rhs * MU_T).simplify().expand()\n",
    "E3"
   ]
  },
  {
   "cell_type": "code",
   "execution_count": 316,
   "id": "50645f23-1004-471e-b3dc-e45573e6f3c3",
   "metadata": {},
   "outputs": [
    {
     "data": {
      "text/latex": [
       "$\\displaystyle - \\frac{2 y}{t^{3}} = t^{2} \\sin{\\left(2 t \\right)} + 4 t - 1$"
      ],
      "text/plain": [
       "Eq(-2*y/t**3, t**2*sin(2*t) + 4*t - 1)"
      ]
     },
     "execution_count": 316,
     "metadata": {},
     "output_type": "execute_result"
    }
   ],
   "source": [
    "E4 = sp.diff(MU_T * y, t)\n",
    "E5 = sp.Eq(E4, E3.rhs)\n",
    "E5"
   ]
  },
  {
   "cell_type": "code",
   "execution_count": 317,
   "id": "6a66b84c-f362-470d-be54-8f0fc1e52c8a",
   "metadata": {},
   "outputs": [
    {
     "data": {
      "text/latex": [
       "$\\displaystyle y = c t^{2} - \\frac{t^{4} \\cos{\\left(2 t \\right)}}{2} + 2 t^{4} + \\frac{t^{3} \\sin{\\left(2 t \\right)}}{2} - t^{3} + \\frac{t^{2} \\cos{\\left(2 t \\right)}}{4}$"
      ],
      "text/plain": [
       "Eq(y, c*t**2 - t**4*cos(2*t)/2 + 2*t**4 + t**3*sin(2*t)/2 - t**3 + t**2*cos(2*t)/4)"
      ]
     },
     "execution_count": 317,
     "metadata": {},
     "output_type": "execute_result"
    }
   ],
   "source": [
    "# Integrate both sides of the equation an solve for y\n",
    "E6 = sp.Eq(sp.integrate(E5.lhs, t), sp.integrate(E5.rhs, t) + c)\n",
    "E7 = sp.Eq(y, sp.solve(E6, y)[0]).expand()\n",
    "E7"
   ]
  },
  {
   "cell_type": "code",
   "execution_count": 318,
   "id": "dce23ac0-10e0-4f9a-819e-a5a9dca32f1e",
   "metadata": {},
   "outputs": [
    {
     "data": {
      "text/latex": [
       "$\\displaystyle y = - \\frac{t^{4} \\cos{\\left(2 t \\right)}}{2} + 2 t^{4} + \\frac{t^{3} \\sin{\\left(2 t \\right)}}{2} - t^{3} + \\frac{t^{2} \\cos{\\left(2 t \\right)}}{4} + 2.89159265358979 t^{2}$"
      ],
      "text/plain": [
       "Eq(y, -t**4*cos(2*t)/2 + 2*t**4 + t**3*sin(2*t)/2 - t**3 + t**2*cos(2*t)/4 + 2.89159265358979*t**2)"
      ]
     },
     "execution_count": 318,
     "metadata": {},
     "output_type": "execute_result"
    }
   ],
   "source": [
    "# Find a specific value of c based on given initial conditions\n",
    "E8 = E7.subs({y: (3 / 2) *sp.pi**4, t: sp.pi})\n",
    "E9 = sp.Eq(c, sp.solve(E8, c)[0])\n",
    "E10 = E7.subs({c: E9.rhs})\n",
    "E10"
   ]
  },
  {
   "cell_type": "code",
   "execution_count": 319,
   "id": "5fe63b71-70ca-46ae-a5f0-428300d55c3d",
   "metadata": {},
   "outputs": [
    {
     "data": {
      "image/png": "[encoded data removed]",
      "text/plain": [
       "<Figure size 432x288 with 1 Axes>"
      ]
     },
     "metadata": {
      "needs_background": "light"
     },
     "output_type": "display_data"
    }
   ],
   "source": [
    "# Plot the solutions with variable values of c\n",
    "P1 = sp.plotting.plot(E10.rhs, show= False)\n",
    "\n",
    "P1.show()"
   ]
  },
  {
   "cell_type": "markdown",
   "id": "f231be13-029a-46c5-a03a-3b27b5e0114a",
   "metadata": {},
   "source": [
    "<b>Example 6: </b>\n",
    "\n",
    "Find the solution to the following IVP and all solutions as $t \\rightarrow \\infty $ \n",
    "\n",
    "$$ 2y' - y = 4\\sin \\left( {3t} \\right)\\hspace{0.25in}y\\left( 0 \\right) = {y_0} $$\n"
   ]
  },
  {
   "cell_type": "code",
   "execution_count": 320,
   "id": "04b148cf-cb03-471d-b5c2-fdb7525da1ff",
   "metadata": {},
   "outputs": [],
   "source": [
    "# Create variables needed to answer this problem\n",
    "x, c, y_prime, y, t, mu_t = sp.symbols('x, c, y_prime, y, t, mu_t ')"
   ]
  },
  {
   "cell_type": "code",
   "execution_count": 321,
   "id": "4925c166-fd69-4ac7-8522-0f0d376ac402",
   "metadata": {},
   "outputs": [
    {
     "data": {
      "text/latex": [
       "$\\displaystyle 2 \\sin{\\left(3 t \\right)} = - \\frac{y}{2} + y_{prime}$"
      ],
      "text/plain": [
       "Eq(2*sin(3*t), -y/2 + y_prime)"
      ]
     },
     "execution_count": 321,
     "metadata": {},
     "output_type": "execute_result"
    }
   ],
   "source": [
    "# Rewrite the problem in correct form\n",
    "E1 = sp.Eq(2 * y_prime - y, 4 * sp.sin(3 * t))\n",
    "E2 = sp.Eq(E1.lhs / -2, E1.rhs / -2).simplify()\n",
    "E2"
   ]
  },
  {
   "cell_type": "code",
   "execution_count": 322,
   "id": "cf684124-672f-4672-bb2b-b4111f7d41e4",
   "metadata": {},
   "outputs": [
    {
     "data": {
      "text/html": [
       "$$-0.5$$<br/>$$2 \\sin{\\left(3 t \\right)}$$<br/>$$e^{- 0.5 t}$$<br/>$$- 0.5 e^{- 0.5 t}$$<br/>"
      ],
      "text/plain": [
       "<IPython.core.display.HTML object>"
      ]
     },
     "execution_count": 322,
     "metadata": {},
     "output_type": "execute_result"
    }
   ],
   "source": [
    "# Assign variables needed for formula and create integrating factor\n",
    "PT = - 1 / 2\n",
    "GT = E2.lhs\n",
    "MU_T = sp.E**(sp.integrate(PT, t))\n",
    "MU_T_P = sp.diff(MU_T, t)\n",
    "RTL([PT, GT, MU_T, MU_T_P])"
   ]
  },
  {
   "cell_type": "code",
   "execution_count": 323,
   "id": "725818cb-a57f-4eb0-b1a1-513fc90cb219",
   "metadata": {},
   "outputs": [
    {
     "data": {
      "text/latex": [
       "$\\displaystyle - \\frac{y e^{- 0.5 t}}{2} + y_{prime} e^{- 0.5 t} = 2 e^{- 0.5 t} \\sin{\\left(3 t \\right)}$"
      ],
      "text/plain": [
       "Eq(-y*exp(-0.5*t)/2 + y_prime*exp(-0.5*t), 2*exp(-0.5*t)*sin(3*t))"
      ]
     },
     "execution_count": 323,
     "metadata": {},
     "output_type": "execute_result"
    }
   ],
   "source": [
    "# Multiply both sides of the equation by the integrating factor\n",
    "E3 = sp.Eq(E2.lhs * MU_T, E2.rhs * MU_T).simplify().expand()\n",
    "E3"
   ]
  },
  {
   "cell_type": "code",
   "execution_count": 324,
   "id": "3cd3f8c8-301a-42d7-b781-2cc7d9f49683",
   "metadata": {},
   "outputs": [
    {
     "data": {
      "text/latex": [
       "$\\displaystyle - 0.5 y e^{- 0.5 t} = 2 e^{- 0.5 t} \\sin{\\left(3 t \\right)}$"
      ],
      "text/plain": [
       "Eq(-0.5*y*exp(-0.5*t), 2*exp(-0.5*t)*sin(3*t))"
      ]
     },
     "execution_count": 324,
     "metadata": {},
     "output_type": "execute_result"
    }
   ],
   "source": [
    "E4 = sp.diff(MU_T * y, t)\n",
    "E5 = sp.Eq(E4, E3.rhs)\n",
    "E5"
   ]
  },
  {
   "cell_type": "code",
   "execution_count": 325,
   "id": "b6b5b73e-4159-434b-bf1d-f476b54ffcb1",
   "metadata": {},
   "outputs": [
    {
     "data": {
      "text/latex": [
       "$\\displaystyle y = c e^{0.5 t} - 0.108108108108108 \\sin{\\left(3.0 t \\right)} - 0.648648648648649 \\cos{\\left(3.0 t \\right)}$"
      ],
      "text/plain": [
       "Eq(y, c*exp(0.5*t) - 0.108108108108108*sin(3.0*t) - 0.648648648648649*cos(3.0*t))"
      ]
     },
     "execution_count": 325,
     "metadata": {},
     "output_type": "execute_result"
    }
   ],
   "source": [
    "# Integrate both sides of the equation an solve for y\n",
    "E6 = sp.Eq(sp.integrate(E5.lhs, t), sp.integrate(E5.rhs, t) + c)\n",
    "E7 = sp.Eq(y, sp.solve(E6, y)[0]).expand()\n",
    "E7"
   ]
  },
  {
   "cell_type": "code",
   "execution_count": 326,
   "id": "beb6b717-3e9d-4274-aae4-44f8e62aa9ae",
   "metadata": {},
   "outputs": [
    {
     "data": {
      "text/latex": [
       "$\\displaystyle y = 30.2392000590103 e^{0.5 t} - 0.108108108108108 \\sin{\\left(3.0 t \\right)} - 0.648648648648649 \\cos{\\left(3.0 t \\right)}$"
      ],
      "text/plain": [
       "Eq(y, 30.2392000590103*exp(0.5*t) - 0.108108108108108*sin(3.0*t) - 0.648648648648649*cos(3.0*t))"
      ]
     },
     "execution_count": 326,
     "metadata": {},
     "output_type": "execute_result"
    }
   ],
   "source": [
    "# Find a specific value of c based on given initial conditions\n",
    "E8 = E7.subs({y: (3 / 2) *sp.pi**4, t: sp.pi})\n",
    "E9 = sp.Eq(c, sp.solve(E8, c)[0])\n",
    "E10 = E7.subs({c: E9.rhs})\n",
    "E10"
   ]
  },
  {
   "cell_type": "code",
   "execution_count": 327,
   "id": "6f6e952f-8d9c-4c1d-9209-51c1e1ec2835",
   "metadata": {},
   "outputs": [
    {
     "data": {
      "image/png": "[encoded data removed]",
      "text/plain": [
       "<Figure size 432x288 with 1 Axes>"
      ]
     },
     "metadata": {
      "needs_background": "light"
     },
     "output_type": "display_data"
    }
   ],
   "source": [
    "# Plot the solutions with variable values of c\n",
    "P1 = sp.plotting.plot(E10.rhs, show= False)\n",
    "\n",
    "P1.show()"
   ]
  },
  {
   "cell_type": "code",
   "execution_count": null,
   "id": "99f26a65-353f-4821-a067-8e4121f90301",
   "metadata": {},
   "outputs": [],
   "source": []
  },
  {
   "cell_type": "code",
   "execution_count": null,
   "id": "16df1827-fb86-46df-959f-d847bdfbbd57",
   "metadata": {},
   "outputs": [],
   "source": []
  },
  {
   "cell_type": "markdown",
   "id": "42360976-895e-480a-82bf-71b2194414e5",
   "metadata": {},
   "source": [
    "#### Solving Bernoulli Differential Equations\n",
    "\n",
    "They are in the form: \n",
    "\n",
    "$$ y' + p\\left( x \\right)y = q\\left( x \\right){y^n} $$\n",
    "\n",
    "To solve: \n",
    "\n",
    "1. Divide all terms by $y^n$ to get $ {y^{ - n}}\\,y' + p\\left( x \\right){y^{1 - n}} = q\\left( x \\right)$\n",
    "2. Use the subsitution $v = {y^{1 - n}} $\n",
    "3. Note the differentian of $v$ is $ v' = \\left( {1 - n} \\right){y^{ - n}}y'$\n",
    "4. Subsituting in gives $ \\frac{1}{{1 - n}}v' + p\\left( x \\right)v = q\\left( x \\right) $ which can be solved as a linear differential equation\n",
    "\n",
    "After getting a solution, use the subsution of $v = {y^{1 - n}}$ again to get the result as a function in $y$"
   ]
  },
  {
   "cell_type": "code",
   "execution_count": 264,
   "id": "a9747eba-fc70-422a-8b3e-47de42c0ada2",
   "metadata": {},
   "outputs": [
    {
     "data": {
      "text/latex": [
       "$\\displaystyle t^{4} \\sin{\\left(2 t \\right)} + 4 t^{3} - t^{2}$"
      ],
      "text/plain": [
       "t**4*sin(2*t) + 4*t**3 - t**2"
      ]
     },
     "execution_count": 264,
     "metadata": {},
     "output_type": "execute_result"
    }
   ],
   "source": [
    "E2.rhs.expand()"
   ]
  },
  {
   "cell_type": "code",
   "execution_count": null,
   "id": "5dc4820a-2cc3-44f3-a665-b4711ce90e77",
   "metadata": {},
   "outputs": [],
   "source": []
  }
 ],
 "metadata": {
  "kernelspec": {
   "display_name": "Python 3",
   "language": "python",
   "name": "python3"
  },
  "language_info": {
   "codemirror_mode": {
    "name": "ipython",
    "version": 3
   },
   "file_extension": ".py",
   "mimetype": "text/x-python",
   "name": "python",
   "nbconvert_exporter": "python",
   "pygments_lexer": "ipython3",
   "version": "3.9.2"
  }
 },
 "nbformat": 4,
 "nbformat_minor": 5
}
