{
 "cells": [
  {
   "cell_type": "code",
   "execution_count": 2,
   "id": "09d739b7-452b-440e-b856-8a6712d5a439",
   "metadata": {},
   "outputs": [],
   "source": [
    "# !pip install chempy\n",
    "# !pip install periodictable\n",
    "# !pip install PyAstronomy\n",
    "# !pip install molmass\n",
    "# !pip install rdkit\n",
    "# !pip install astropy\n",
    "\n",
    "\n",
    "import periodictable as pt\n",
    "import chempy as ch\n",
    "import numpy as np\n",
    "import sympy as sp\n",
    "import molmass as mm\n",
    "import pickle\n",
    "from IPython.display import HTML\n",
    "import ipywidgets as widgets\n",
    "import matplotlib as mpl\n",
    "import matplotlib.pyplot as plt\n",
    "from mpl_toolkits.mplot3d import Axes3D\n",
    "import matplotlib.pyplot as plt\n",
    "mpl.rcParams['legend.fontsize'] = 10\n",
    "import pandas as pd\n",
    "import itertools\n",
    "pd.set_option('display.max_colwidth', None)\n",
    "from sympy.plotting import plot \n",
    "from IPython.display import Image\n",
    "from PyAstronomy import pyasl\n",
    "import decimal\n",
    "\n",
    "from sympy.physics.units.systems import SI\n",
    "from rdkit import Chem\n",
    "from rdkit.Chem import Draw\n",
    "# from astropy import units as u\n",
    "import sympy.physics.units as u\n",
    "import scipy as scp\n",
    "\n",
    "from sympy.physics.units import speed_of_light, meter, gram, second, day, pound\n",
    "from sympy.physics.units import mile, newton, kilogram, atomic_mass_constant\n",
    "from sympy.physics.units import kilometer, centimeter, millimeter, nanometer\n",
    "from sympy.physics.units import gravitational_constant, hbar, kPa, newton\n",
    "from sympy.physics.units import convert_to\n",
    "\n",
    "def RTL(e):\n",
    "    \"\"\"INPUT PARAMS: [] of math expressions\"\"\"\n",
    "    latex_rendering = []\n",
    "\n",
    "    for i in range(len(e)):\n",
    "        latex_rendering.append(\"$\" + sp.latex(e[i]) + \"$ &nbsp;&nbsp;\")\n",
    "    \n",
    "    return(HTML(\"\".join(latex_rendering[0:])))\n",
    "\n",
    "def BalanceChemEquation(L, R):\n",
    "    \"\"\" INPUT PARAMS: 2 * {} containing react and prod\"\"\"\n",
    "    reac, prod = ch.balance_stoichiometry(L, R)\n",
    "    Reaction = ch.Reaction(reac, prod)\n",
    "    return([Reaction, [reac, prod]])\n",
    "    \n",
    "\n",
    "class Atom: \n",
    "    def __init__(self, pCount, nCount, eCount):\n",
    "        \"\"\"INPUT PARAMS: countOfProtons, countOfNeutrons, countOfElectrons\"\"\"\n",
    "        \n",
    "        an = pyasl.AtomicNo()\n",
    "        \n",
    "        self.Protons = pCount\n",
    "        self.Neutrons = nCount\n",
    "        self.Electrons = eCount\n",
    "        self.ElementName = an.getElementName(pCount)\n",
    "        self.ElementNameWithAtomicMass = an.getElementName(pCount) + \"(\" + str(self.Protons) + \",\" + str(self.Protons + self.Neutrons) + \")\"\n",
    "    \n",
    "    def CreateSummary(self):\n",
    "        print(\"Name: \", self.ElementName)\n",
    "        print(\"Protons: \", self.Protons)\n",
    "        print(\"Neutrons: \", self.Neutrons)\n",
    "        print(\"Electrons: \", self.Electrons)"
   ]
  },
  {
   "cell_type": "code",
   "execution_count": 3,
   "id": "ca9348b0-f0c9-4729-a3b2-642ecc269fc6",
   "metadata": {},
   "outputs": [
    {
     "data": {
      "text/html": [
       "2 NO + O2 &rarr; 2 NO2"
      ],
      "text/plain": [
       "<chempy.chemistry.Reaction at 0x7f753ac56c40>"
      ]
     },
     "execution_count": 3,
     "metadata": {},
     "output_type": "execute_result"
    }
   ],
   "source": [
    "# Sample excersie\n",
    "BalanceChemEquation({\"O2\", \"NO\"}, {\"NO2\"})[0]"
   ]
  },
  {
   "cell_type": "code",
   "execution_count": 4,
   "id": "40259af5-7d7a-4081-a2ae-400fb7214242",
   "metadata": {},
   "outputs": [
    {
     "data": {
      "text/html": [
       "2 H2O + 2 Na &rarr; H2 + 2 NaOH"
      ],
      "text/plain": [
       "<chempy.chemistry.Reaction at 0x7f75e4526d30>"
      ]
     },
     "execution_count": 4,
     "metadata": {},
     "output_type": "execute_result"
    }
   ],
   "source": [
    "# Sample \n",
    "BalanceChemEquation({\"Na\", \"H2O\"}, {\"NaOH\", \"H2\"})[0]"
   ]
  },
  {
   "cell_type": "code",
   "execution_count": 5,
   "id": "685a28a7-cdf4-4baa-8052-2ff0345b2dcb",
   "metadata": {},
   "outputs": [
    {
     "data": {
      "text/html": [
       "4 Fe + 3 O2 &rarr; 2 Fe2O3"
      ],
      "text/plain": [
       "<chempy.chemistry.Reaction at 0x7f75e455ac40>"
      ]
     },
     "execution_count": 5,
     "metadata": {},
     "output_type": "execute_result"
    }
   ],
   "source": [
    "# Practice exercises\n",
    "BalanceChemEquation({\"Fe\", \"O2\"}, {\"Fe2O3\"})[0]"
   ]
  },
  {
   "cell_type": "code",
   "execution_count": 6,
   "id": "6e22b5fa-b1a6-4dda-af81-7490363cc9c1",
   "metadata": {},
   "outputs": [
    {
     "data": {
      "text/html": [
       "C2H4 + 3 O2 &rarr; 2 CO2 + 2 H2O"
      ],
      "text/plain": [
       "<chempy.chemistry.Reaction at 0x7f753ac54970>"
      ]
     },
     "execution_count": 6,
     "metadata": {},
     "output_type": "execute_result"
    }
   ],
   "source": [
    "BalanceChemEquation({\"C2H4\", \"O2\"}, {\"CO2\", \"H2O\"})[0]"
   ]
  },
  {
   "cell_type": "code",
   "execution_count": 7,
   "id": "02b34911-8d5e-4304-bb23-e6a46f14dfbb",
   "metadata": {},
   "outputs": [
    {
     "data": {
      "text/latex": [
       "$\\displaystyle 342.297037 amu$"
      ],
      "text/plain": [
       "342.297037*amu"
      ]
     },
     "execution_count": 7,
     "metadata": {},
     "output_type": "execute_result"
    }
   ],
   "source": [
    "# Sample exercise 3.5\n",
    "# Formula weight: C12H22O11\n",
    "amu = sp.symbols('amu')\n",
    "(12 * mm.Formula(\"C\").mass + 22 * mm.Formula(\"H\").mass + 11 * mm.Formula(\"O\").mass) * amu"
   ]
  },
  {
   "cell_type": "code",
   "execution_count": 8,
   "id": "1101c335-cb72-4648-992a-139ab9cef080",
   "metadata": {},
   "outputs": [
    {
     "data": {
      "text/latex": [
       "$\\displaystyle 164.087836 amu$"
      ],
      "text/plain": [
       "164.087836*amu"
      ]
     },
     "execution_count": 8,
     "metadata": {},
     "output_type": "execute_result"
    }
   ],
   "source": [
    "# Formula weight: Ca(NO3)2\n",
    "amu = sp.symbols('amu')\n",
    "(mm.Formula(\"Ca\").mass + 2 * mm.Formula(\"N\").mass + 6 * mm.Formula(\"O\").mass) * amu"
   ]
  },
  {
   "cell_type": "code",
   "execution_count": 9,
   "id": "aa81f720-cee5-4398-8bdb-2b865f7a7d62",
   "metadata": {},
   "outputs": [
    {
     "data": {
      "text/latex": [
       "$\\displaystyle 78.0035765 amu$"
      ],
      "text/plain": [
       "78.0035765*amu"
      ]
     },
     "execution_count": 9,
     "metadata": {},
     "output_type": "execute_result"
    }
   ],
   "source": [
    "# Formula weight\n",
    "amu = sp.symbols('amu')\n",
    "amu * (mm.Formula(\"Al\").mass + 3 * mm.Formula(\"O\").mass + 3 * mm.Formula(\"H\").mass)"
   ]
  },
  {
   "cell_type": "code",
   "execution_count": 10,
   "id": "06a25d92-948d-4296-8630-ebbf47158e12",
   "metadata": {},
   "outputs": [
    {
     "data": {
      "text/latex": [
       "$\\displaystyle 32.041909 amu$"
      ],
      "text/plain": [
       "32.041909*amu"
      ]
     },
     "execution_count": 10,
     "metadata": {},
     "output_type": "execute_result"
    }
   ],
   "source": [
    "# Formula wieght\n",
    "amu = sp.symbols(\"amu\")\n",
    "amu * (mm.Formula(\"C\").mass + 4 * mm.Formula(\"H\").mass + mm.Formula(\"O\").mass)"
   ]
  },
  {
   "cell_type": "code",
   "execution_count": 11,
   "id": "102c462a-b226-4f2c-8a30-7bcbb715dc88",
   "metadata": {},
   "outputs": [
    {
     "data": {
      "text/latex": [
       "$\\displaystyle 342.297037 amu$"
      ],
      "text/plain": [
       "342.297037*amu"
      ]
     },
     "execution_count": 11,
     "metadata": {},
     "output_type": "execute_result"
    }
   ],
   "source": [
    "# Sample Ex 3.6\n",
    "# Find percentage of mass\n",
    "# find total weight\n",
    "amu = sp.symbols(\"amu\")\n",
    "E1 = mm.Formula(\"C12H22O11\").mass * amu\n",
    "E1"
   ]
  },
  {
   "cell_type": "code",
   "execution_count": 12,
   "id": "6eac23eb-700e-4cb0-b175-d89b0732752f",
   "metadata": {},
   "outputs": [
    {
     "data": {
      "text/latex": [
       "$\\displaystyle 42.1063767490339$"
      ],
      "text/plain": [
       "42.1063767490339"
      ]
     },
     "execution_count": 12,
     "metadata": {},
     "output_type": "execute_result"
    }
   ],
   "source": [
    "# Look at percentage of Carbon\n",
    "(12 * mm.Formula(\"C\").mass * amu) / E1 * 100"
   ]
  },
  {
   "cell_type": "code",
   "execution_count": 13,
   "id": "c211179c-161e-4e67-aa1b-cbef05459055",
   "metadata": {},
   "outputs": [
    {
     "data": {
      "text/latex": [
       "$\\displaystyle 6.47820448413639$"
      ],
      "text/plain": [
       "6.47820448413639"
      ]
     },
     "execution_count": 13,
     "metadata": {},
     "output_type": "execute_result"
    }
   ],
   "source": [
    "# Percentage of hydrogen\n",
    "(22 * mm.Formula(\"H\").mass * amu) / E1 * 100"
   ]
  },
  {
   "cell_type": "code",
   "execution_count": 14,
   "id": "36baac92-2a8d-485e-93b4-72e9a4b08c16",
   "metadata": {},
   "outputs": [
    {
     "data": {
      "text/latex": [
       "$\\displaystyle 51.4154187668297$"
      ],
      "text/plain": [
       "51.4154187668297"
      ]
     },
     "execution_count": 14,
     "metadata": {},
     "output_type": "execute_result"
    }
   ],
   "source": [
    "(11 * mm.Formula(\"O\").mass * amu) / E1 * 100"
   ]
  },
  {
   "cell_type": "code",
   "execution_count": 15,
   "id": "55d1ac1d-31a5-4ca2-88b0-731f5e2cdea2",
   "metadata": {},
   "outputs": [
    {
     "data": {
      "text/latex": [
       "$\\displaystyle 164.087836 amu$"
      ],
      "text/plain": [
       "164.087836*amu"
      ]
     },
     "execution_count": 15,
     "metadata": {},
     "output_type": "execute_result"
    }
   ],
   "source": [
    "# Percentage of mass\n",
    "amu = sp.symbols('amu')\n",
    "E1 = mm.Formula(\"Ca(NO3)2\").mass * amu\n",
    "E1"
   ]
  },
  {
   "cell_type": "code",
   "execution_count": 16,
   "id": "57089350-26ea-4eac-882f-278f720f99ff",
   "metadata": {},
   "outputs": [
    {
     "data": {
      "text/latex": [
       "$\\displaystyle 17.0722015006646$"
      ],
      "text/plain": [
       "17.0722015006646"
      ]
     },
     "execution_count": 16,
     "metadata": {},
     "output_type": "execute_result"
    }
   ],
   "source": [
    "(2 * mm.Formula(\"N\").mass * amu) / E1 * 100"
   ]
  },
  {
   "cell_type": "code",
   "execution_count": 17,
   "id": "f6eb9b97-d1f6-409f-82ba-634b30fdca38",
   "metadata": {},
   "outputs": [
    {
     "data": {
      "text/plain": [
       "6.02214076e+23"
      ]
     },
     "execution_count": 17,
     "metadata": {},
     "output_type": "execute_result"
    }
   ],
   "source": [
    "# Sample Exercise 3.7 - Estimating number f atoms\n",
    "E1 = scp.constants.Avogadro\n",
    "E1"
   ]
  },
  {
   "cell_type": "code",
   "execution_count": 18,
   "id": "c02bcdc2-78e4-44fd-8ce6-34fdbac2ab34",
   "metadata": {},
   "outputs": [],
   "source": [
    "# Sample Exercise 3.8\n",
    "# Find number of H atoms in .350 mol of C6H12O6"
   ]
  },
  {
   "cell_type": "code",
   "execution_count": 19,
   "id": "726cd57f-34ae-42df-9b8d-1f47c6755a1c",
   "metadata": {},
   "outputs": [
    {
     "data": {
      "text/plain": [
       "2.5292991192e+24"
      ]
     },
     "execution_count": 19,
     "metadata": {},
     "output_type": "execute_result"
    }
   ],
   "source": [
    ".35 * scp.constants.Avogadro * 12"
   ]
  },
  {
   "cell_type": "code",
   "execution_count": 20,
   "id": "bbe39461-538d-4d9d-890a-051790f8946e",
   "metadata": {},
   "outputs": [
    {
     "data": {
      "text/plain": [
       "9.03321114e+23"
      ]
     },
     "execution_count": 20,
     "metadata": {},
     "output_type": "execute_result"
    }
   ],
   "source": [
    ".25 * scp.constants.Avogadro * 6"
   ]
  },
  {
   "cell_type": "code",
   "execution_count": 21,
   "id": "c9f2260d-dd37-4f7a-b1b0-f14a77c6af76",
   "metadata": {},
   "outputs": [
    {
     "data": {
      "text/plain": [
       "2.709963342e+24"
      ]
     },
     "execution_count": 21,
     "metadata": {},
     "output_type": "execute_result"
    }
   ],
   "source": [
    "# Na2CO3 - 6\n",
    "1.50 * scp.constants.Avogadro * 3"
   ]
  },
  {
   "cell_type": "code",
   "execution_count": 22,
   "id": "35f4445e-f717-44da-81df-875ffd8cfdee",
   "metadata": {},
   "outputs": [
    {
     "data": {
      "text/latex": [
       "$\\displaystyle 180.156162 amu$"
      ],
      "text/plain": [
       "180.156162*amu"
      ]
     },
     "execution_count": 22,
     "metadata": {},
     "output_type": "execute_result"
    }
   ],
   "source": [
    "# Sample Exercise 3.9\n",
    "amu, mol = sp.symbols(\"amu mol\")\n",
    "mm.Formula(\"C6H12O6\").mass * amu"
   ]
  },
  {
   "cell_type": "code",
   "execution_count": 23,
   "id": "dfb1e501-6b59-42ec-931e-ea20bd3bcc50",
   "metadata": {},
   "outputs": [
    {
     "data": {
      "text/plain": [
       "164.087836"
      ]
     },
     "execution_count": 23,
     "metadata": {},
     "output_type": "execute_result"
    }
   ],
   "source": [
    "# Note this is equivalent to g/mol\n",
    "mm.Formula(\"Ca(NO3)2\").mass"
   ]
  },
  {
   "cell_type": "code",
   "execution_count": 24,
   "id": "b67913a2-2db3-4f5e-8499-6fb9fc166ff3",
   "metadata": {},
   "outputs": [
    {
     "data": {
      "text/latex": [
       "$\\displaystyle 0.0298629807622123 mol$"
      ],
      "text/plain": [
       "0.0298629807622123*mol"
      ]
     },
     "execution_count": 24,
     "metadata": {},
     "output_type": "execute_result"
    }
   ],
   "source": [
    "mol = sp.symbols('mol')\n",
    "E1 = 1 /  ((mm.Formula(\"C6H12O6\").mass * u.gram) / mol)\n",
    "5.380 * u.gram * E1"
   ]
  },
  {
   "cell_type": "code",
   "execution_count": 25,
   "id": "b2d74af9-3e58-4f09-98f6-517e1b70a591",
   "metadata": {},
   "outputs": [
    {
     "data": {
      "text/latex": [
       "$\\displaystyle 6.04713921576105 mol$"
      ],
      "text/plain": [
       "6.04713921576105*mol"
      ]
     },
     "execution_count": 25,
     "metadata": {},
     "output_type": "execute_result"
    }
   ],
   "source": [
    "mol = sp.symbols('mol')\n",
    "E1 = 1 / ((mm.Formula(\"NaHCO3\").mass * u.grams) / mol)\n",
    "E1 * 508 * u.gram"
   ]
  },
  {
   "cell_type": "code",
   "execution_count": 26,
   "id": "88511b00-ab36-4f45-bc0f-91ea2c25b28e",
   "metadata": {},
   "outputs": [
    {
     "data": {
      "text/latex": [
       "$\\displaystyle \\frac{164.087836 \\text{g}}{mol}$"
      ],
      "text/plain": [
       "164.087836*gram/mol"
      ]
     },
     "execution_count": 26,
     "metadata": {},
     "output_type": "execute_result"
    }
   ],
   "source": [
    "E1 = (mm.Formula(\"Ca(NO3)2\").mass * u.grams) / mol\n",
    "E1"
   ]
  },
  {
   "cell_type": "code",
   "execution_count": 27,
   "id": "5b6778ce-26d5-4dbe-a08e-6ec9fb37d392",
   "metadata": {},
   "outputs": [
    {
     "data": {
      "text/latex": [
       "$\\displaystyle 71.050032988 \\text{g}$"
      ],
      "text/plain": [
       "71.050032988*gram"
      ]
     },
     "execution_count": 27,
     "metadata": {},
     "output_type": "execute_result"
    }
   ],
   "source": [
    "E2 = .433 * mol * E1\n",
    "E2"
   ]
  },
  {
   "cell_type": "code",
   "execution_count": 28,
   "id": "870be685-d9df-43db-a5a8-182138561877",
   "metadata": {},
   "outputs": [
    {
     "data": {
      "text/latex": [
       "$\\displaystyle \\frac{84.00666528 \\text{g}}{mol}$"
      ],
      "text/plain": [
       "84.00666528*gram/mol"
      ]
     },
     "execution_count": 28,
     "metadata": {},
     "output_type": "execute_result"
    }
   ],
   "source": [
    "# Mass of 6.33 mol of NaHCO3\n",
    "E1 = (mm.Formula(\"NaHCO3\").mass * u.grams) / mol\n",
    "E1"
   ]
  },
  {
   "cell_type": "code",
   "execution_count": 29,
   "id": "aa80824f-2f95-47a4-a8c6-ef098d8d9cb8",
   "metadata": {},
   "outputs": [
    {
     "data": {
      "text/latex": [
       "$\\displaystyle 531.7621912224 \\text{g}$"
      ],
      "text/plain": [
       "531.7621912224*gram"
      ]
     },
     "execution_count": 29,
     "metadata": {},
     "output_type": "execute_result"
    }
   ],
   "source": [
    "E2 = 6.33 * mol * E1\n",
    "E2"
   ]
  },
  {
   "cell_type": "code",
   "execution_count": 30,
   "id": "246337a1-ce9a-41d6-b46a-b5ebe0bc7c1c",
   "metadata": {},
   "outputs": [
    {
     "data": {
      "text/latex": [
       "$\\displaystyle \\frac{98.078302 \\text{g}}{mol}$"
      ],
      "text/plain": [
       "98.078302*gram/mol"
      ]
     },
     "execution_count": 30,
     "metadata": {},
     "output_type": "execute_result"
    }
   ],
   "source": [
    "E1 = (mm.Formula(\"H2SO4\").mass  * u.grams) / mol\n",
    "E1"
   ]
  },
  {
   "cell_type": "code",
   "execution_count": 31,
   "id": "c3e0164b-1f82-45ab-a982-5f0d50702749",
   "metadata": {},
   "outputs": [
    {
     "data": {
      "text/latex": [
       "$\\displaystyle 0.00294234906 \\text{g}$"
      ],
      "text/plain": [
       "0.00294234906*gram"
      ]
     },
     "execution_count": 31,
     "metadata": {},
     "output_type": "execute_result"
    }
   ],
   "source": [
    "E2 = 3.0 * 10**-5 * E1 * mol\n",
    "E2"
   ]
  },
  {
   "cell_type": "code",
   "execution_count": 32,
   "id": "61d6d053-0ea2-49f8-9a3d-1dcc5151a553",
   "metadata": {},
   "outputs": [
    {
     "data": {
      "text/latex": [
       "$\\displaystyle \\frac{180.156162 \\text{g}}{mol}$"
      ],
      "text/plain": [
       "180.156162*gram/mol"
      ]
     },
     "execution_count": 32,
     "metadata": {},
     "output_type": "execute_result"
    }
   ],
   "source": [
    "# SE 3.12\n",
    "atoms, molecules, mol = sp.symbols(\"atoms, molecules, mol\")\n",
    "\n",
    "E1 =  (mm.Formula(\"C6H12O6\").mass * u.grams) / mol\n",
    "E1"
   ]
  },
  {
   "cell_type": "code",
   "execution_count": 33,
   "id": "22db04d0-905c-47f3-b0ec-2b16a0f21e68",
   "metadata": {},
   "outputs": [
    {
     "data": {
      "text/latex": [
       "$\\displaystyle 0.0290303697744183 mol$"
      ],
      "text/plain": [
       "0.0290303697744183*mol"
      ]
     },
     "execution_count": 33,
     "metadata": {},
     "output_type": "execute_result"
    }
   ],
   "source": [
    "E2 = 5.23 * u.gram * (1 / E1)\n",
    "E2"
   ]
  },
  {
   "cell_type": "code",
   "execution_count": 34,
   "id": "01348cb9-0fd6-44de-bace-5dac5ef34575",
   "metadata": {},
   "outputs": [
    {
     "data": {
      "text/latex": [
       "$\\displaystyle 1.74824973096396 \\cdot 10^{22}$"
      ],
      "text/plain": [
       "1.74824973096396e+22"
      ]
     },
     "execution_count": 34,
     "metadata": {},
     "output_type": "execute_result"
    }
   ],
   "source": [
    "# Now get rid of \n",
    "scp.constants.Avogadro / mol * E2"
   ]
  },
  {
   "cell_type": "code",
   "execution_count": 35,
   "id": "f4fb26d5-6c97-4127-8a96-f7fab1869da1",
   "metadata": {},
   "outputs": [
    {
     "data": {
      "text/latex": [
       "$\\displaystyle \\frac{63.012859 \\text{g}}{mol}$"
      ],
      "text/plain": [
       "63.012859*gram/mol"
      ]
     },
     "execution_count": 35,
     "metadata": {},
     "output_type": "execute_result"
    }
   ],
   "source": [
    "# \n",
    "mol = sp.symbols(\"mol\")\n",
    "\n",
    "E1 = (mm.Formula(\"HNO3\").mass * u.gram) / mol\n",
    "E1"
   ]
  },
  {
   "cell_type": "code",
   "execution_count": 36,
   "id": "95e89756-a142-4886-80f2-a8d896d308e6",
   "metadata": {},
   "outputs": [
    {
     "data": {
      "text/latex": [
       "$\\displaystyle 0.0666530620361155 mol$"
      ],
      "text/plain": [
       "0.0666530620361155*mol"
      ]
     },
     "execution_count": 36,
     "metadata": {},
     "output_type": "execute_result"
    }
   ],
   "source": [
    "# find total mass\n",
    "E2 = 4.2 * u.grams * 1 / E1\n",
    "E2"
   ]
  },
  {
   "cell_type": "code",
   "execution_count": 37,
   "id": "7136566d-046d-479f-ad59-9eca9ccabf59",
   "metadata": {},
   "outputs": [
    {
     "data": {
      "text/latex": [
       "$\\displaystyle 4.013941216665 \\cdot 10^{22}$"
      ],
      "text/plain": [
       "4.01394121666500e+22"
      ]
     },
     "execution_count": 37,
     "metadata": {},
     "output_type": "execute_result"
    }
   ],
   "source": [
    "# convert to atoms\n",
    "scp.constants.Avogadro / mol * E2"
   ]
  },
  {
   "cell_type": "code",
   "execution_count": 38,
   "id": "2062583c-8277-4d79-9040-d68ffb6f7137",
   "metadata": {},
   "outputs": [
    {
     "data": {
      "text/latex": [
       "$\\displaystyle 1.2041823649995 \\cdot 10^{23}$"
      ],
      "text/plain": [
       "1.20418236499950e+23"
      ]
     },
     "execution_count": 38,
     "metadata": {},
     "output_type": "execute_result"
    }
   ],
   "source": [
    "scp.constants.Avogadro / mol * E2 * 3"
   ]
  },
  {
   "cell_type": "code",
   "execution_count": 39,
   "id": "ff5a5894-964f-4a1c-9221-b19b94386ab4",
   "metadata": {},
   "outputs": [
    {
     "data": {
      "text/latex": [
       "$\\displaystyle 3.40695077905275 mol$"
      ],
      "text/plain": [
       "3.40695077905275*mol"
      ]
     },
     "execution_count": 39,
     "metadata": {},
     "output_type": "execute_result"
    }
   ],
   "source": [
    "# SE 3.13\n",
    "# Convert to mol ratio\n",
    "mol = sp.symbols('mol')\n",
    "E1 = 40.92 * u.gram * (1 / ((mm.Formula(\"C\").mass * u.grams) / mol))\n",
    "E1"
   ]
  },
  {
   "cell_type": "code",
   "execution_count": 40,
   "id": "fda58822-6f4f-4e99-9d10-d0c21de036b1",
   "metadata": {},
   "outputs": [
    {
     "data": {
      "text/latex": [
       "$\\displaystyle 4.54391675703241 mol$"
      ],
      "text/plain": [
       "4.54391675703241*mol"
      ]
     },
     "execution_count": 40,
     "metadata": {},
     "output_type": "execute_result"
    }
   ],
   "source": [
    "E2 = 4.58 * u.gram * (1 / ((mm.Formula(\"H\").mass * u.grams) / mol))\n",
    "E2"
   ]
  },
  {
   "cell_type": "code",
   "execution_count": 41,
   "id": "03a4b48e-20be-48b8-ac6a-8609764c9c28",
   "metadata": {},
   "outputs": [
    {
     "data": {
      "text/latex": [
       "$\\displaystyle 3.40637667463259 mol$"
      ],
      "text/plain": [
       "3.40637667463259*mol"
      ]
     },
     "execution_count": 41,
     "metadata": {},
     "output_type": "execute_result"
    }
   ],
   "source": [
    "E3 = 54.5 * u.gram * (1 / ((mm.Formula(\"O\").mass * u.grams) / mol))\n",
    "E3"
   ]
  },
  {
   "cell_type": "code",
   "execution_count": 42,
   "id": "dfb5a2b1-0730-4d35-aa45-b2153c50a9b7",
   "metadata": {},
   "outputs": [
    {
     "data": {
      "text/html": [
       "$3.40695077905275 mol$ &nbsp;&nbsp;$4.54391675703241 mol$ &nbsp;&nbsp;$3.40637667463259 mol$ &nbsp;&nbsp;"
      ],
      "text/plain": [
       "<IPython.core.display.HTML object>"
      ]
     },
     "execution_count": 42,
     "metadata": {},
     "output_type": "execute_result"
    }
   ],
   "source": [
    "# now we have mol ratio. Put in array\n",
    "E4 = np.array([E1, E2, E3])\n",
    "RTL(E4)"
   ]
  },
  {
   "cell_type": "code",
   "execution_count": 43,
   "id": "bac1fc4b-dd4c-4b0b-955c-7e591b3e343d",
   "metadata": {},
   "outputs": [
    {
     "data": {
      "text/html": [
       "$1.0$ &nbsp;&nbsp;$1.3337195198035$ &nbsp;&nbsp;$0.999831490251139$ &nbsp;&nbsp;"
      ],
      "text/plain": [
       "<IPython.core.display.HTML object>"
      ]
     },
     "execution_count": 43,
     "metadata": {},
     "output_type": "execute_result"
    }
   ],
   "source": [
    "E5 = E4 / E1\n",
    "RTL(E5)"
   ]
  },
  {
   "cell_type": "code",
   "execution_count": 44,
   "id": "dab10d85-b91b-428b-a440-a7b942e09b9e",
   "metadata": {},
   "outputs": [
    {
     "data": {
      "text/html": [
       "$3.0$ &nbsp;&nbsp;$4.00115855941051$ &nbsp;&nbsp;$2.99949447075342$ &nbsp;&nbsp;"
      ],
      "text/plain": [
       "<IPython.core.display.HTML object>"
      ]
     },
     "execution_count": 44,
     "metadata": {},
     "output_type": "execute_result"
    }
   ],
   "source": [
    "E6 = E5 * 3\n",
    "RTL(E6)"
   ]
  },
  {
   "cell_type": "code",
   "execution_count": 45,
   "id": "7ae42f75-6dd2-48c3-8948-467e26a98669",
   "metadata": {},
   "outputs": [],
   "source": [
    "# empirical formula is 3:4:3"
   ]
  },
  {
   "cell_type": "code",
   "execution_count": 46,
   "id": "cfc50524-98d6-4f7b-a968-a53a52256f79",
   "metadata": {},
   "outputs": [
    {
     "data": {
      "text/latex": [
       "$\\displaystyle 0.312886633130015 mol$"
      ],
      "text/plain": [
       "0.312886633130015*mol"
      ]
     },
     "execution_count": 46,
     "metadata": {},
     "output_type": "execute_result"
    }
   ],
   "source": [
    "# Find empirical formula\n",
    "E1 = 3.758 * u.grams * (1 / ((mm.Formula(\"C\").mass * u.grams) / mol))\n",
    "E1"
   ]
  },
  {
   "cell_type": "code",
   "execution_count": 47,
   "id": "00eebda4-eb21-4cd6-a7d6-d047e6321d0a",
   "metadata": {},
   "outputs": [
    {
     "data": {
      "text/latex": [
       "$\\displaystyle 0.313510413803983 mol$"
      ],
      "text/plain": [
       "0.313510413803983*mol"
      ]
     },
     "execution_count": 47,
     "metadata": {},
     "output_type": "execute_result"
    }
   ],
   "source": [
    "E2 = .316 * u.grams * (1 / ((mm.Formula(\"H\").mass * u.grams) / mol))\n",
    "E2"
   ]
  },
  {
   "cell_type": "code",
   "execution_count": 140,
   "id": "99aa879a-dfd5-4428-8ac2-dfaed646171b",
   "metadata": {},
   "outputs": [
    {
     "data": {
      "text/latex": [
       "$\\displaystyle 0.0781904077057865 mol$"
      ],
      "text/plain": [
       "0.0781904077057865*mol"
      ]
     },
     "execution_count": 140,
     "metadata": {},
     "output_type": "execute_result"
    }
   ],
   "source": [
    "E3 = 1.251 * u.gram * (1 / ((mm.Formula(\"O\").mass * u.grams) / mol))\n",
    "E3"
   ]
  },
  {
   "cell_type": "code",
   "execution_count": 141,
   "id": "9c52c22a-0a0b-4f7d-a9d3-c45c543cca61",
   "metadata": {},
   "outputs": [
    {
     "data": {
      "text/html": [
       "$4.00159869107397$ &nbsp;&nbsp;$4.00957640461032$ &nbsp;&nbsp;$1.0$ &nbsp;&nbsp;"
      ],
      "text/plain": [
       "<IPython.core.display.HTML object>"
      ]
     },
     "execution_count": 141,
     "metadata": {},
     "output_type": "execute_result"
    }
   ],
   "source": [
    "E4 = np.array([E1, E2, E3]) / E3\n",
    "RTL(E4)"
   ]
  },
  {
   "cell_type": "code",
   "execution_count": 142,
   "id": "2d392fc9-a851-46f5-ad69-78c1077d6120",
   "metadata": {},
   "outputs": [
    {
     "data": {
      "text/latex": [
       "$\\displaystyle \\frac{40.063984 \\text{g}}{mol}$"
      ],
      "text/plain": [
       "40.063984*gram/mol"
      ]
     },
     "execution_count": 142,
     "metadata": {},
     "output_type": "execute_result"
    }
   ],
   "source": [
    "E1 = (mm.Formula(\"C3H4\").mass * u.grams) / mol\n",
    "E1"
   ]
  },
  {
   "cell_type": "code",
   "execution_count": 143,
   "id": "a1a1df40-82e9-4e56-ba6e-7b8b3fa14dd9",
   "metadata": {},
   "outputs": [],
   "source": [
    "# C3H4 becomes C9H12"
   ]
  },
  {
   "cell_type": "code",
   "execution_count": 144,
   "id": "746d679e-198b-413b-9c94-c8e3e3dca953",
   "metadata": {},
   "outputs": [
    {
     "data": {
      "text/latex": [
       "$\\displaystyle 3.22211620599563 mol$"
      ],
      "text/plain": [
       "3.22211620599563*mol"
      ]
     },
     "execution_count": 144,
     "metadata": {},
     "output_type": "execute_result"
    }
   ],
   "source": [
    "# Practice exercise\n",
    "mol = sp.symbols('mol')\n",
    "E1 = 38.7 * u.gram * (1 / ((mm.Formula(\"C\").mass * u.grams) / mol))\n",
    "E1"
   ]
  },
  {
   "cell_type": "code",
   "execution_count": 145,
   "id": "3d5ca219-376a-4a8d-b61e-407a8818486f",
   "metadata": {},
   "outputs": [
    {
     "data": {
      "text/latex": [
       "$\\displaystyle 9.62357915790706 mol$"
      ],
      "text/plain": [
       "9.62357915790706*mol"
      ]
     },
     "execution_count": 145,
     "metadata": {},
     "output_type": "execute_result"
    }
   ],
   "source": [
    "E2 = 9.7 * u.gram * (1 / ((mm.Formula(\"H\").mass * u.grams) / mol))\n",
    "E2"
   ]
  },
  {
   "cell_type": "code",
   "execution_count": 146,
   "id": "3268c93c-9e8d-4e8d-afed-723f595cd147",
   "metadata": {},
   "outputs": [
    {
     "data": {
      "text/latex": [
       "$\\displaystyle 3.22511993414755 mol$"
      ],
      "text/plain": [
       "3.22511993414755*mol"
      ]
     },
     "execution_count": 146,
     "metadata": {},
     "output_type": "execute_result"
    }
   ],
   "source": [
    "E3 = 51.6 * u.grams * (1 / ((mm.Formula(\"O\").mass * u.grams) / mol))\n",
    "E3"
   ]
  },
  {
   "cell_type": "code",
   "execution_count": 148,
   "id": "28d3334b-cb33-4d1e-9608-06351500aaaf",
   "metadata": {},
   "outputs": [
    {
     "data": {
      "text/html": [
       "$1.0$ &nbsp;&nbsp;$2.98672628255919$ &nbsp;&nbsp;$1.00093222216701$ &nbsp;&nbsp;"
      ],
      "text/plain": [
       "<IPython.core.display.HTML object>"
      ]
     },
     "execution_count": 148,
     "metadata": {},
     "output_type": "execute_result"
    }
   ],
   "source": [
    "E4 = np.array([E1, E2, E3]) / E1\n",
    "RTL(E4)"
   ]
  },
  {
   "cell_type": "code",
   "execution_count": 149,
   "id": "c0862e87-cd43-4c65-93f6-242a80a4a675",
   "metadata": {},
   "outputs": [
    {
     "data": {
      "text/latex": [
       "$\\displaystyle \\frac{31.033968 \\text{g}}{mol}$"
      ],
      "text/plain": [
       "31.033968*gram/mol"
      ]
     },
     "execution_count": 149,
     "metadata": {},
     "output_type": "execute_result"
    }
   ],
   "source": [
    "# CH30\n",
    "E5 = (mm.Formula(\"CH3O\").mass * u.gram) / mol\n",
    "E5"
   ]
  },
  {
   "cell_type": "code",
   "execution_count": 48,
   "id": "eb1147ad-f6ef-4953-8c87-6d536ae7f780",
   "metadata": {},
   "outputs": [],
   "source": [
    "# Sample Exercise 3.15\n",
    "\n",
    "# .561g of CO2\n",
    "# .306g of H2O\n",
    "\n",
    "# Find how much carbon in \n",
    "\n"
   ]
  },
  {
   "cell_type": "code",
   "execution_count": 55,
   "id": "a81c4e9d-e72f-4390-839c-2967a1863df4",
   "metadata": {},
   "outputs": [],
   "source": [
    "# Sample exercise 3.13\n",
    "mol = sp.symbols('mol')\n",
    "# we start with Carbon, Hydrogen and oxygen\n",
    "# assume 100gram rule\n",
    "\n",
    "\n",
    "# find moles of carbon in 100 grams\n",
    "E1 = 40.92 * u.gram * (1 / ((mm.Formula(\"C\").mass * u.gram) / mol))\n",
    "E2 = 4.58 * u.gram * (1 / ((mm.Formula(\"H\").mass * u.gram ) / mol))\n",
    "E3 = 54.50 * u.gram * (1 / ((mm.Formula(\"O\").mass * u.gram) / mol))"
   ]
  },
  {
   "cell_type": "code",
   "execution_count": 56,
   "id": "cbb83569-4ca5-438d-bd80-70bdbaedac43",
   "metadata": {},
   "outputs": [
    {
     "data": {
      "text/html": [
       "$3.40695077905275 mol$ &nbsp;&nbsp;$4.54391675703241 mol$ &nbsp;&nbsp;$3.40637667463259 mol$ &nbsp;&nbsp;"
      ],
      "text/plain": [
       "<IPython.core.display.HTML object>"
      ]
     },
     "execution_count": 56,
     "metadata": {},
     "output_type": "execute_result"
    }
   ],
   "source": [
    "RTL([E1, E2, E3])"
   ]
  },
  {
   "cell_type": "code",
   "execution_count": 59,
   "id": "5b5850fb-8d7e-4dfb-b698-d1cfdd0ff3dd",
   "metadata": {},
   "outputs": [
    {
     "data": {
      "text/html": [
       "$3.40695077905275 mol$ &nbsp;&nbsp;$4.54391675703241 mol$ &nbsp;&nbsp;$3.40637667463259 mol$ &nbsp;&nbsp;"
      ],
      "text/plain": [
       "<IPython.core.display.HTML object>"
      ]
     },
     "execution_count": 59,
     "metadata": {},
     "output_type": "execute_result"
    }
   ],
   "source": [
    "E4 = np.array([E1, E2, E3])\n",
    "RTL(E4)"
   ]
  },
  {
   "cell_type": "code",
   "execution_count": 62,
   "id": "44d9c7c0-6c72-48dc-85c8-72675f179861",
   "metadata": {},
   "outputs": [
    {
     "data": {
      "text/html": [
       "$3.0$ &nbsp;&nbsp;$4.00115855941051$ &nbsp;&nbsp;$2.99949447075342$ &nbsp;&nbsp;"
      ],
      "text/plain": [
       "<IPython.core.display.HTML object>"
      ]
     },
     "execution_count": 62,
     "metadata": {},
     "output_type": "execute_result"
    }
   ],
   "source": [
    "E5 = (E4 / E1) * 3\n",
    "RTL(E5)"
   ]
  },
  {
   "cell_type": "code",
   "execution_count": 63,
   "id": "e17988d0-154c-4b50-8c0b-06c6cb09a5d4",
   "metadata": {},
   "outputs": [],
   "source": [
    "# so the ratio is 3: 4: 3"
   ]
  },
  {
   "cell_type": "code",
   "execution_count": 66,
   "id": "b29e9edc-8209-4e66-92fb-7d60b05de177",
   "metadata": {},
   "outputs": [
    {
     "data": {
      "text/latex": [
       "$\\displaystyle \\frac{40.063984 \\text{g}}{mol}$"
      ],
      "text/plain": [
       "40.063984*gram/mol"
      ]
     },
     "execution_count": 66,
     "metadata": {},
     "output_type": "execute_result"
    }
   ],
   "source": [
    "# 3.14\n",
    "E1 = mm.Formula(\"C3H4\").mass * u.grams / mol\n",
    "E1"
   ]
  },
  {
   "cell_type": "code",
   "execution_count": 67,
   "id": "6c194cc0-37de-4430-a86e-3f673033972b",
   "metadata": {},
   "outputs": [
    {
     "data": {
      "text/latex": [
       "$\\displaystyle \\frac{120.191952 \\text{g}}{mol}$"
      ],
      "text/plain": [
       "120.191952*gram/mol"
      ]
     },
     "execution_count": 67,
     "metadata": {},
     "output_type": "execute_result"
    }
   ],
   "source": [
    "E1 * 3"
   ]
  },
  {
   "cell_type": "code",
   "execution_count": 69,
   "id": "a9e168b2-4c3b-41eb-96d9-7281156f1a2d",
   "metadata": {},
   "outputs": [
    {
     "data": {
      "text/html": [
       "$3.22211620599563 mol$ &nbsp;&nbsp;$9.62357915790706 mol$ &nbsp;&nbsp;$3.22511993414755 mol$ &nbsp;&nbsp;"
      ],
      "text/plain": [
       "<IPython.core.display.HTML object>"
      ]
     },
     "execution_count": 69,
     "metadata": {},
     "output_type": "execute_result"
    }
   ],
   "source": [
    "# Example using Ethylene glycol\n",
    "# find its empirical formula\n",
    "mol = sp.symbols('mol')\n",
    "E1 = 38.7  * u.grams * (1 / ((mm.Formula(\"C\").mass *  u.gram) / mol))\n",
    "E2 = 9.7 * u.grams * (1 / ((mm.Formula(\"H\").mass * u.gram) / mol))\n",
    "E3 = 51.6 * u.grams * (1 / ((mm.Formula(\"O\").mass * u.gram) / mol))\n",
    "RTL([E1, E2, E3])\n"
   ]
  },
  {
   "cell_type": "code",
   "execution_count": 74,
   "id": "6b108099-53fe-49f4-8c96-fd7bce45a36c",
   "metadata": {},
   "outputs": [
    {
     "data": {
      "text/latex": [
       "$\\displaystyle \\frac{31.033968 \\text{g}}{mol}$"
      ],
      "text/plain": [
       "31.033968*gram/mol"
      ]
     },
     "execution_count": 74,
     "metadata": {},
     "output_type": "execute_result"
    }
   ],
   "source": [
    "# The empirical formula is 1: 3 1\n",
    "E4 = (mm.Formula(\"CH3O\").mass * u.gram) / mol\n",
    "E4"
   ]
  },
  {
   "cell_type": "code",
   "execution_count": 75,
   "id": "377531a5-6085-4ffd-b6df-707941f1e985",
   "metadata": {},
   "outputs": [],
   "source": [
    "# It must be twice as much as C2H6O2"
   ]
  },
  {
   "cell_type": "code",
   "execution_count": 183,
   "id": "01776df4-3eb2-4efa-92f4-36463e168212",
   "metadata": {},
   "outputs": [
    {
     "data": {
      "text/plain": [
       "0.27291212929920894"
      ]
     },
     "execution_count": 183,
     "metadata": {},
     "output_type": "execute_result"
    }
   ],
   "source": [
    "# 3.15\n",
    "# We have C, H, O\n",
    "# Find how much C is in the CO2\n",
    "E1 = mm.Formula(\"C\").mass / mm.Formula(\"CO2\").mass\n",
    "E1"
   ]
  },
  {
   "cell_type": "code",
   "execution_count": 184,
   "id": "b2d7d756-dbde-426f-bca5-a4f3297a60ef",
   "metadata": {},
   "outputs": [
    {
     "data": {
      "text/latex": [
       "$\\displaystyle 0.153103704536856 \\text{g}$"
      ],
      "text/plain": [
       "0.153103704536856*gram"
      ]
     },
     "execution_count": 184,
     "metadata": {},
     "output_type": "execute_result"
    }
   ],
   "source": [
    "# 27% of the mass of CO2 must be determined by C\n",
    "E2 = .561 * u.gram * E1\n",
    "E2"
   ]
  },
  {
   "cell_type": "code",
   "execution_count": 185,
   "id": "b7b1cb2c-0174-4bf3-94e1-92ce3b6c5d4a",
   "metadata": {},
   "outputs": [
    {
     "data": {
      "text/plain": [
       "0.11189841161009535"
      ]
     },
     "execution_count": 185,
     "metadata": {},
     "output_type": "execute_result"
    }
   ],
   "source": [
    "# now find how much H2 is in H2O\n",
    "E3 = mm.Formula(\"H2\").mass  / mm.Formula(\"H2O\").mass\n",
    "E3"
   ]
  },
  {
   "cell_type": "code",
   "execution_count": 186,
   "id": "fc87949c-ee35-49a1-8e32-1db5977deeed",
   "metadata": {},
   "outputs": [
    {
     "data": {
      "text/latex": [
       "$\\displaystyle 0.0342409139526892 \\text{g}$"
      ],
      "text/plain": [
       "0.0342409139526892*gram"
      ]
     },
     "execution_count": 186,
     "metadata": {},
     "output_type": "execute_result"
    }
   ],
   "source": [
    "# so there is about 11% mass due to the H2.\n",
    "# find out what it is\n",
    "E4 = E3 * .306 * u.grams\n",
    "E4"
   ]
  },
  {
   "cell_type": "code",
   "execution_count": 191,
   "id": "6490f132-ec72-4596-b661-ef61d69afe26",
   "metadata": {},
   "outputs": [
    {
     "data": {
      "text/latex": [
       "$\\displaystyle 0.0676553815104546 \\text{g}$"
      ],
      "text/plain": [
       "0.0676553815104546*gram"
      ]
     },
     "execution_count": 191,
     "metadata": {},
     "output_type": "execute_result"
    }
   ],
   "source": [
    "# so the remaing mass must be composed of oxygen\n",
    "E5 = .255 * u.grams - (E2 + E4)\n",
    "E5"
   ]
  },
  {
   "cell_type": "code",
   "execution_count": 192,
   "id": "73f20099-27a0-410c-b3e1-507c02f55692",
   "metadata": {},
   "outputs": [
    {
     "data": {
      "text/html": [
       "$0.153103704536856 \\text{g}$ &nbsp;&nbsp;$0.0342409139526892 \\text{g}$ &nbsp;&nbsp;$0.0676553815104546 \\text{g}$ &nbsp;&nbsp;"
      ],
      "text/plain": [
       "<IPython.core.display.HTML object>"
      ]
     },
     "execution_count": 192,
     "metadata": {},
     "output_type": "execute_result"
    }
   ],
   "source": [
    "# so we now have 3 values, but they are in grams not moles so we want to convert them \n",
    "# in order to use mole ratios\n",
    "# keep values together, noting they are C H O\n",
    "\n",
    "E6 = np.array([E2, E4, E5])\n",
    "RTL(E6)"
   ]
  },
  {
   "cell_type": "code",
   "execution_count": 193,
   "id": "a8ed61b5-bd8c-495b-8515-3933bf82afb3",
   "metadata": {},
   "outputs": [
    {
     "data": {
      "text/html": [
       "$0.0127472332709605 mol$ &nbsp;&nbsp;$0.0339711490580194 mol$ &nbsp;&nbsp;$0.00422861859615746 mol$ &nbsp;&nbsp;"
      ],
      "text/plain": [
       "<IPython.core.display.HTML object>"
      ]
     },
     "execution_count": 193,
     "metadata": {},
     "output_type": "execute_result"
    }
   ],
   "source": [
    "# now convert each one to moles\n",
    "E7 = E2 * (1 / ((mm.Formula(\"C\").mass * u.grams) / mol))\n",
    "E8 = E4 * (1 / ((mm.Formula(\"H\").mass * u.grams) / mol))\n",
    "E9 = E5 * (1 / ((mm.Formula(\"O\").mass * u.grams) / mol))\n",
    "\n",
    "E10 = np.array([E7, E8, E9])\n",
    "RTL(E10)"
   ]
  },
  {
   "cell_type": "code",
   "execution_count": 195,
   "id": "c5d4e916-a02d-48a0-b5f5-2e8de17f03a2",
   "metadata": {},
   "outputs": [
    {
     "data": {
      "text/html": [
       "$3.0145147832779$ &nbsp;&nbsp;$8.03362807156195$ &nbsp;&nbsp;$1.0$ &nbsp;&nbsp;"
      ],
      "text/plain": [
       "<IPython.core.display.HTML object>"
      ]
     },
     "execution_count": 195,
     "metadata": {},
     "output_type": "execute_result"
    }
   ],
   "source": [
    "# now we can derive an emiprical formula\n",
    "E11 = E10 / E9\n",
    "RTL(E11)"
   ]
  },
  {
   "cell_type": "code",
   "execution_count": 196,
   "id": "3dfd7f49-416b-4de8-b052-39af0951b846",
   "metadata": {},
   "outputs": [],
   "source": [
    "# C3H8O"
   ]
  },
  {
   "cell_type": "code",
   "execution_count": 201,
   "id": "ee2ae2cc-f575-41bc-91bf-82ac4dc9251c",
   "metadata": {},
   "outputs": [
    {
     "data": {
      "text/latex": [
       "$\\displaystyle 0.139731010201195 \\text{g}$"
      ],
      "text/plain": [
       "0.139731010201195*gram"
      ]
     },
     "execution_count": 201,
     "metadata": {},
     "output_type": "execute_result"
    }
   ],
   "source": [
    "# Practice exercise, page 96\n",
    "# C, H O atoms are present\n",
    "# Combustion produces CO2 and H2O\n",
    "# Find the mass of Carbon\n",
    "\n",
    "# Find % of mass which is \n",
    "mol = sp.symbols('mol')\n",
    "E1 = mm.Formula(\"C\").mass / mm.Formula('CO2').mass\n",
    "# find the mass that must be carbon\n",
    "E2 = E1 * .512 * u.grams\n",
    "E2"
   ]
  },
  {
   "cell_type": "code",
   "execution_count": 203,
   "id": "cb9736e8-8249-40b3-810e-5b79c775a326",
   "metadata": {},
   "outputs": [
    {
     "data": {
      "text/latex": [
       "$\\displaystyle 0.0233867680265099 \\text{g}$"
      ],
      "text/plain": [
       "0.0233867680265099*gram"
      ]
     },
     "execution_count": 203,
     "metadata": {},
     "output_type": "execute_result"
    }
   ],
   "source": [
    "# Find the mass which must be Hydrogen\n",
    "E3 = mm.Formula(\"H2\").mass / mm.Formula(\"H2O\").mass\n",
    "E4 = E3 * .209 * u.grams\n",
    "E4"
   ]
  },
  {
   "cell_type": "code",
   "execution_count": 204,
   "id": "00ed0311-5cb7-46d6-81dd-b8dee87d0f58",
   "metadata": {},
   "outputs": [
    {
     "data": {
      "text/latex": [
       "$\\displaystyle 0.0618822217722951 \\text{g}$"
      ],
      "text/plain": [
       "0.0618822217722951*gram"
      ]
     },
     "execution_count": 204,
     "metadata": {},
     "output_type": "execute_result"
    }
   ],
   "source": [
    "# Find the total mass that is left\n",
    "E5 = .225 * u.grams - (E2 + E4)\n",
    "E5"
   ]
  },
  {
   "cell_type": "code",
   "execution_count": 206,
   "id": "0e74c825-17fd-4fda-a5e5-33609f87950f",
   "metadata": {},
   "outputs": [
    {
     "data": {
      "text/html": [
       "$0.139731010201195 \\text{g}$ &nbsp;&nbsp;$0.0233867680265099 \\text{g}$ &nbsp;&nbsp;$0.0618822217722951 \\text{g}$ &nbsp;&nbsp;"
      ],
      "text/plain": [
       "<IPython.core.display.HTML object>"
      ]
     },
     "execution_count": 206,
     "metadata": {},
     "output_type": "execute_result"
    }
   ],
   "source": [
    "# Create an arrayt of C H O\n",
    "E6 = np.array([E2, E4, E5])\n",
    "RTL(E6)"
   ]
  },
  {
   "cell_type": "code",
   "execution_count": 208,
   "id": "e1f27dc4-d9eb-4a0b-a46b-3a1db1d756b8",
   "metadata": {},
   "outputs": [
    {
     "data": {
      "text/html": [
       "$0.0116338385645843 mol$ &nbsp;&nbsp;$0.0232025168402813 mol$ &nbsp;&nbsp;$0.00386778269393737 mol$ &nbsp;&nbsp;"
      ],
      "text/plain": [
       "<IPython.core.display.HTML object>"
      ]
     },
     "execution_count": 208,
     "metadata": {},
     "output_type": "execute_result"
    }
   ],
   "source": [
    "# Now convert to mols\n",
    "E7 = E2 * (1 / ((mm.Formula(\"C\").mass * u.gram) / mol))\n",
    "E8 = E4 * (1 / ((mm.Formula(\"H\").mass * u.gram) / mol))\n",
    "E9 = E5 * (1 / ((mm.Formula(\"O\").mass * u.gram) / mol))\n",
    "\n",
    "# Create an aray of C H O mole values\n",
    "E10 = np.array([E7, E8, E9])\n",
    "RTL(E10)"
   ]
  },
  {
   "cell_type": "code",
   "execution_count": 209,
   "id": "0ee8fcf2-8b77-4b66-afed-58a027d0c5e9",
   "metadata": {},
   "outputs": [
    {
     "data": {
      "text/html": [
       "$3.00788319437386$ &nbsp;&nbsp;$5.99891945239076$ &nbsp;&nbsp;$1.0$ &nbsp;&nbsp;"
      ],
      "text/plain": [
       "<IPython.core.display.HTML object>"
      ]
     },
     "execution_count": 209,
     "metadata": {},
     "output_type": "execute_result"
    }
   ],
   "source": [
    "# Find the ratio\n",
    "E11 = E10 / E9\n",
    "RTL(E11)"
   ]
  },
  {
   "cell_type": "code",
   "execution_count": 210,
   "id": "3ae70326-7d8a-4a4d-8314-9bf30b5c471d",
   "metadata": {},
   "outputs": [
    {
     "data": {
      "text/latex": [
       "$\\displaystyle \\frac{58.079271 \\text{g}}{mol}$"
      ],
      "text/plain": [
       "58.079271*gram/mol"
      ]
     },
     "execution_count": 210,
     "metadata": {},
     "output_type": "execute_result"
    }
   ],
   "source": [
    "# formula is \n",
    "# C3H6O\n",
    "# Check the mass unit\n",
    "E12 = (mm.Formula(\"C3H6O\").mass * u.gram) / mol\n",
    "E12"
   ]
  },
  {
   "cell_type": "code",
   "execution_count": 212,
   "id": "a6c3fa27-fa54-4cfd-8782-9aa2809c9279",
   "metadata": {},
   "outputs": [
    {
     "data": {
      "text/latex": [
       "$\\displaystyle \\frac{1.99727024810625 mol}{\\text{g}}$"
      ],
      "text/plain": [
       "1.99727024810625*mol/gram"
      ]
     },
     "execution_count": 212,
     "metadata": {},
     "output_type": "execute_result"
    }
   ],
   "source": [
    "116 / E12"
   ]
  },
  {
   "cell_type": "code",
   "execution_count": 213,
   "id": "b812bc55-19d1-4cc1-a865-a27702b6528c",
   "metadata": {},
   "outputs": [],
   "source": [
    "# so molecular formula must be: \n",
    "# C6H12O"
   ]
  },
  {
   "cell_type": "code",
   "execution_count": 215,
   "id": "43d6c922-317c-4018-8427-d47e00f7a152",
   "metadata": {},
   "outputs": [
    {
     "data": {
      "text/html": [
       "2 C4H10 + 13 O2 &rarr; 8 CO2 + 10 H2O"
      ],
      "text/plain": [
       "<chempy.chemistry.Reaction at 0x7f7539abee50>"
      ]
     },
     "execution_count": 215,
     "metadata": {},
     "output_type": "execute_result"
    }
   ],
   "source": [
    "# pg 97\n",
    "# onsider the following chemical equation\n",
    "BalanceChemEquation({\"C4H10\", \"O2\"}, {\"CO2\", \"H2O\"})[0]"
   ]
  },
  {
   "cell_type": "code",
   "execution_count": 216,
   "id": "7e967921-e272-4481-af86-5822b6fefeb2",
   "metadata": {},
   "outputs": [
    {
     "data": {
      "text/latex": [
       "$\\displaystyle 0.0172050795588686 mol$"
      ],
      "text/plain": [
       "0.0172050795588686*mol"
      ]
     },
     "execution_count": 216,
     "metadata": {},
     "output_type": "execute_result"
    }
   ],
   "source": [
    "# How much CO2 is produced when 1 gram of C4H10 is burned\n",
    "# find out how many moles this is\n",
    "mol = sp.symbols('mol')\n",
    "\n",
    "E1 = 1 * u.gram * (1 / ((mm.Formula(\"C4H10\").mass * u.gram) / mol))\n",
    "E1"
   ]
  },
  {
   "cell_type": "code",
   "execution_count": 217,
   "id": "466191d8-3d9f-47b1-8153-2128927c590f",
   "metadata": {},
   "outputs": [
    {
     "data": {
      "text/latex": [
       "$\\displaystyle 0.0688203182354746 mol$"
      ],
      "text/plain": [
       "0.0688203182354746*mol"
      ]
     },
     "execution_count": 217,
     "metadata": {},
     "output_type": "execute_result"
    }
   ],
   "source": [
    "# so there must be 4 times as many moles of CO2\n",
    "E2 = 4 * E1\n",
    "E2"
   ]
  },
  {
   "cell_type": "code",
   "execution_count": 219,
   "id": "7bd0d4eb-6436-4b89-995a-56b24e726531",
   "metadata": {},
   "outputs": [
    {
     "data": {
      "text/latex": [
       "$\\displaystyle 3.02875123640003 \\text{g}$"
      ],
      "text/plain": [
       "3.02875123640003*gram"
      ]
     },
     "execution_count": 219,
     "metadata": {},
     "output_type": "execute_result"
    }
   ],
   "source": [
    "E3 = ((mm.Formula(\"CO2\").mass * u.grams) / mol) * E2\n",
    "E3"
   ]
  },
  {
   "cell_type": "code",
   "execution_count": 220,
   "id": "48b3c8be-d0d3-44a6-be9a-1afb8dfec802",
   "metadata": {},
   "outputs": [
    {
     "data": {
      "text/html": [
       "C6H12O6 + 6 O2 &rarr; 6 CO2 + 6 H2O"
      ],
      "text/plain": [
       "<chempy.chemistry.Reaction at 0x7f75392a27f0>"
      ]
     },
     "execution_count": 220,
     "metadata": {},
     "output_type": "execute_result"
    }
   ],
   "source": [
    "# 3.16\n",
    "mol = sp.symbols(\"mol\")\n",
    "# how much H2O produced in oxidisation of C6H12O6\n",
    "# verify chemical equation\n",
    "\n",
    "BalanceChemEquation({\"C6H12O6\", \"O2\"}, {\"CO2\", \"H2O\"})[0]"
   ]
  },
  {
   "cell_type": "code",
   "execution_count": 221,
   "id": "53e634c7-18f3-4d6b-993d-1af95cdf8bf3",
   "metadata": {},
   "outputs": [
    {
     "data": {
      "text/latex": [
       "$\\displaystyle 0.00555073991862682 mol$"
      ],
      "text/plain": [
       "0.00555073991862682*mol"
      ]
     },
     "execution_count": 221,
     "metadata": {},
     "output_type": "execute_result"
    }
   ],
   "source": [
    "# find out how moles in 1 gram of glueose\n",
    "\n",
    "E1 = 1 * u.gram * (1 / ((mm.Formula(\"C6H12O6\").mass * u.gram ) / mol))\n",
    "E1"
   ]
  },
  {
   "cell_type": "code",
   "execution_count": 222,
   "id": "68a95612-47de-4a12-8382-85d61defb297",
   "metadata": {},
   "outputs": [
    {
     "data": {
      "text/latex": [
       "$\\displaystyle 0.0333044395117609 mol$"
      ],
      "text/plain": [
       "0.0333044395117609*mol"
      ]
     },
     "execution_count": 222,
     "metadata": {},
     "output_type": "execute_result"
    }
   ],
   "source": [
    "# Note that 6 times as many moles are produced in the product\n",
    "E2 = 6 * E1\n",
    "E2"
   ]
  },
  {
   "cell_type": "code",
   "execution_count": 223,
   "id": "6c3e3709-606c-46c5-a8ed-90a7f7d0fc6a",
   "metadata": {},
   "outputs": [
    {
     "data": {
      "text/latex": [
       "$\\displaystyle 0.599989036178513 \\text{g}$"
      ],
      "text/plain": [
       "0.599989036178513*gram"
      ]
     },
     "execution_count": 223,
     "metadata": {},
     "output_type": "execute_result"
    }
   ],
   "source": [
    "# now convert to grams of of H2O\n",
    "E3 = E2 * ((mm.Formula(\"H2O\").mass * u.grams) / mol)\n",
    "E3"
   ]
  },
  {
   "cell_type": "code",
   "execution_count": 224,
   "id": "7e0268c9-a279-45d0-bf7d-4c52b9677212",
   "metadata": {},
   "outputs": [
    {
     "data": {
      "text/html": [
       "2 KClO3 &rarr; 2 KCl + 3 O2"
      ],
      "text/plain": [
       "<chempy.chemistry.Reaction at 0x7f7539958940>"
      ]
     },
     "execution_count": 224,
     "metadata": {},
     "output_type": "execute_result"
    }
   ],
   "source": [
    "# Practice exercise pg. 99\n",
    "# How many grams of O2 can be preppared from KClO3\n",
    "\n",
    "# Check the equation \n",
    "BalanceChemEquation({\"KClO3\"}, {\"KCl\", \"O2\"})[0]"
   ]
  },
  {
   "cell_type": "code",
   "execution_count": 233,
   "id": "4dd7e3df-f11b-49dc-9157-eb7a8e38a32a",
   "metadata": {},
   "outputs": [
    {
     "data": {
      "text/latex": [
       "$\\displaystyle 0.0367198815269742 mol$"
      ],
      "text/plain": [
       "0.0367198815269742*mol"
      ]
     },
     "execution_count": 233,
     "metadata": {},
     "output_type": "execute_result"
    }
   ],
   "source": [
    "# convert 4.5 grams into moles \n",
    "mol = sp.symbols('mol')\n",
    "\n",
    "E1 = (4.5 * u.grams * (1 / ((mm.Formula(\"KClO3\").mass * u.grams) / mol)))\n",
    "E1"
   ]
  },
  {
   "cell_type": "code",
   "execution_count": 234,
   "id": "2ebd1896-c799-4ee3-b5e7-4eee9eef1675",
   "metadata": {},
   "outputs": [
    {
     "data": {
      "text/latex": [
       "$\\displaystyle 0.0550798222904614 mol$"
      ],
      "text/plain": [
       "0.0550798222904614*mol"
      ]
     },
     "execution_count": 234,
     "metadata": {},
     "output_type": "execute_result"
    }
   ],
   "source": [
    "#\n",
    "E2 = (3 /2 ) * E1\n",
    "E2"
   ]
  },
  {
   "cell_type": "code",
   "execution_count": 235,
   "id": "99c29889-0e16-41f5-b9bc-325f8b4266a1",
   "metadata": {},
   "outputs": [
    {
     "data": {
      "text/latex": [
       "$\\displaystyle 1.76248876830624 \\text{g}$"
      ],
      "text/plain": [
       "1.76248876830624*gram"
      ]
     },
     "execution_count": 235,
     "metadata": {},
     "output_type": "execute_result"
    }
   ],
   "source": [
    "E3 = E2 * ((mm.Formula(\"O2\").mass * u.gram)/ mol)\n",
    "E3"
   ]
  },
  {
   "cell_type": "code",
   "execution_count": 236,
   "id": "1d161e8a-3c50-4e84-bc8c-d444f8b983c7",
   "metadata": {},
   "outputs": [
    {
     "data": {
      "text/latex": [
       "$\\displaystyle 0.0417582808550058 mol$"
      ],
      "text/plain": [
       "0.0417582808550058*mol"
      ]
     },
     "execution_count": 236,
     "metadata": {},
     "output_type": "execute_result"
    }
   ],
   "source": [
    "# Sample exercise 3.17\n",
    "# Find moles in 1 gram of LiOH\n",
    "mol = sp.symbols('mol')\n",
    "\n",
    "E1 = 1 * u.grams * (1 / ((mm.Formula(\"LiOH\").mass * u.gram) / mol))\n",
    "E1"
   ]
  },
  {
   "cell_type": "code",
   "execution_count": 237,
   "id": "69f83729-ce2c-4412-9a7a-42ce9bd80b2a",
   "metadata": {},
   "outputs": [
    {
     "data": {
      "text/latex": [
       "$\\displaystyle 0.0208791404275029 mol$"
      ],
      "text/plain": [
       "0.0208791404275029*mol"
      ]
     },
     "execution_count": 237,
     "metadata": {},
     "output_type": "execute_result"
    }
   ],
   "source": [
    "# half the amoutn of moles of CO2\n",
    "E2 = E1 / 2\n",
    "E2"
   ]
  },
  {
   "cell_type": "code",
   "execution_count": 238,
   "id": "413f0f9c-dcd2-461b-91f0-26ef41a5e859",
   "metadata": {},
   "outputs": [
    {
     "data": {
      "text/latex": [
       "$\\displaystyle 0.91888157460121 \\text{g}$"
      ],
      "text/plain": [
       "0.91888157460121*gram"
      ]
     },
     "execution_count": 238,
     "metadata": {},
     "output_type": "execute_result"
    }
   ],
   "source": [
    "# work out how much of that is in CO2\n",
    "E2 * ((mm.Formula(\"CO2\").mass * u.gram)  / mol)"
   ]
  },
  {
   "cell_type": "code",
   "execution_count": 239,
   "id": "eed7ebf5-3669-4ced-b6f1-33ac61efbc79",
   "metadata": {},
   "outputs": [
    {
     "data": {
      "text/html": [
       "C3H8 + 5 O2 &rarr; 3 CO2 + 4 H2O"
      ],
      "text/plain": [
       "<chempy.chemistry.Reaction at 0x7f753906b6d0>"
      ]
     },
     "execution_count": 239,
     "metadata": {},
     "output_type": "execute_result"
    }
   ],
   "source": [
    "# Practice excercise\n",
    "# Find combustion equation\n",
    "BalanceChemEquation({\"C3H8\", \"O2\"}, {\"CO2\", \"H2O\"})[0]"
   ]
  },
  {
   "cell_type": "code",
   "execution_count": 240,
   "id": "2438bc8e-79f3-4fc4-b769-c7f7c0722960",
   "metadata": {},
   "outputs": [
    {
     "data": {
      "text/latex": [
       "$\\displaystyle 0.0226779235040984 mol$"
      ],
      "text/plain": [
       "0.0226779235040984*mol"
      ]
     },
     "execution_count": 240,
     "metadata": {},
     "output_type": "execute_result"
    }
   ],
   "source": [
    "# Find moles of 1 gram of progane\n",
    "mol = sp.symbols('mol')\n",
    "E1 = 1 * u.gram * (1 / ((mm.Formula(\"C3H8\").mass * u.gram ) / mol))\n",
    "E1"
   ]
  },
  {
   "cell_type": "code",
   "execution_count": 244,
   "id": "399a666d-3e5e-4dfa-bad1-e85840b619e6",
   "metadata": {},
   "outputs": [
    {
     "data": {
      "text/latex": [
       "$\\displaystyle 0.113389617520492 mol$"
      ],
      "text/plain": [
       "0.113389617520492*mol"
      ]
     },
     "execution_count": 244,
     "metadata": {},
     "output_type": "execute_result"
    }
   ],
   "source": [
    "# moles of oxygen\n",
    "E2 = E1 * 5\n",
    "E2"
   ]
  },
  {
   "cell_type": "code",
   "execution_count": 247,
   "id": "f37b78a1-224f-412f-a64f-d9ee931d5119",
   "metadata": {},
   "outputs": [
    {
     "data": {
      "text/latex": [
       "$\\displaystyle 3.62833282701089 \\text{g}$"
      ],
      "text/plain": [
       "3.62833282701089*gram"
      ]
     },
     "execution_count": 247,
     "metadata": {},
     "output_type": "execute_result"
    }
   ],
   "source": [
    "# Convert to grams\n",
    "E3 = E2 * ((mm.Formula(\"O2\").mass * u.gram) / mol)\n",
    "E3"
   ]
  },
  {
   "cell_type": "code",
   "execution_count": 248,
   "id": "0d2f7b42-b390-45f4-9c97-17e30c78e405",
   "metadata": {},
   "outputs": [
    {
     "data": {
      "text/html": [
       "3 H2 + N2 &rarr; 2 NH3"
      ],
      "text/plain": [
       "<chempy.chemistry.Reaction at 0x7f753928dd00>"
      ]
     },
     "execution_count": 248,
     "metadata": {},
     "output_type": "execute_result"
    }
   ],
   "source": [
    "# Limiting reactans\n",
    "# Consider the following balanced equation\n",
    "BalanceChemEquation({\"N2\", \"H2\"}, {\"NH3\"})[0]"
   ]
  },
  {
   "cell_type": "code",
   "execution_count": 249,
   "id": "b00034f3-4942-40a3-a698-1769009f6bbc",
   "metadata": {},
   "outputs": [],
   "source": [
    "# How many moles of NH3 can be formed from \n",
    "# 3 moles of N2, \n",
    "# 6 moles of H2\n",
    "# note you always need 1:3  between \n",
    "# Limiting reactant is H2\n",
    "# Reactant that is completely comsumed is limiting reactant"
   ]
  },
  {
   "cell_type": "code",
   "execution_count": 250,
   "id": "665e547a-eb30-41b9-ac45-1e923d2b87f2",
   "metadata": {},
   "outputs": [
    {
     "data": {
      "text/html": [
       "2 Al + 3 Cl2 &rarr; 2 AlCl3"
      ],
      "text/plain": [
       "<chempy.chemistry.Reaction at 0x7f753896a8e0>"
      ]
     },
     "execution_count": 250,
     "metadata": {},
     "output_type": "execute_result"
    }
   ],
   "source": [
    "# Practice exercise pg 101\n",
    "# Consider the balanced equation\n",
    "BalanceChemEquation({\"Al\", \"Cl2\"}, {\"AlCl3\"})[0]"
   ]
  },
  {
   "cell_type": "code",
   "execution_count": 252,
   "id": "5dea1a46-efd6-414e-8bbd-743ba3886cfa",
   "metadata": {},
   "outputs": [],
   "source": [
    "# Finding limiting reactant \n",
    "# there is 1.5 mols of Al, \n",
    "# there is 3 mols of Cl2\n",
    "# All the moles of of Al will be consumed before \n"
   ]
  },
  {
   "cell_type": "code",
   "execution_count": 254,
   "id": "3f445099-a295-4203-a2f4-b5523d780930",
   "metadata": {},
   "outputs": [
    {
     "data": {
      "text/html": [
       "2 H2 + O2 &rarr; 2 H2O"
      ],
      "text/plain": [
       "<chempy.chemistry.Reaction at 0x7f7539287b80>"
      ]
     },
     "execution_count": 254,
     "metadata": {},
     "output_type": "execute_result"
    }
   ],
   "source": [
    "# Sample Exercise 3.19\n",
    "# Consider the following equation\n",
    "BalanceChemEquation({\"H2\", \"O2\"}, {\"H2O\"})[0]"
   ]
  },
  {
   "cell_type": "code",
   "execution_count": 256,
   "id": "f6a032dd-dd45-433c-9d6d-55fd460f8db9",
   "metadata": {},
   "outputs": [
    {
     "data": {
      "text/latex": [
       "$\\displaystyle 74.4091172003123 mol$"
      ],
      "text/plain": [
       "74.4091172003123*mol"
      ]
     },
     "execution_count": 256,
     "metadata": {},
     "output_type": "execute_result"
    }
   ],
   "source": [
    "# 150g of H2 \n",
    "# 1500 g of O2\n",
    "# find how many moles of each you have\n",
    "mol = sp.symbols('mol')\n",
    "\n",
    "# mols of H2\n",
    "E1 = 150 * u.gram * (1 / ((mm.Formula(\"H2\").mass * u.gram ) / mol))\n",
    "E1"
   ]
  },
  {
   "cell_type": "code",
   "execution_count": 263,
   "id": "30479def-55a8-458b-bd66-509e13ce5a0f",
   "metadata": {},
   "outputs": [
    {
     "data": {
      "text/latex": [
       "$\\displaystyle 46.8767432288888 mol$"
      ],
      "text/plain": [
       "46.8767432288888*mol"
      ]
     },
     "execution_count": 263,
     "metadata": {},
     "output_type": "execute_result"
    }
   ],
   "source": [
    "# molds of 02\n",
    "E2 = 1500 * u.gram * (1 / ((mm.Formula(\"O2\").mass * u.gram) / mol))\n",
    "E2"
   ]
  },
  {
   "cell_type": "code",
   "execution_count": 264,
   "id": "39620d89-4f34-474c-8e1f-1da77228465e",
   "metadata": {},
   "outputs": [],
   "source": [
    "# note in the equation double the amout of H is needed, so limiting reactant is \n",
    "# H2"
   ]
  },
  {
   "cell_type": "code",
   "execution_count": 267,
   "id": "13796f2f-ed6e-4602-a775-9b6649ab0ec4",
   "metadata": {},
   "outputs": [
    {
     "data": {
      "text/latex": [
       "$\\displaystyle 1340.50160178026 \\text{g}$"
      ],
      "text/plain": [
       "1340.50160178026*gram"
      ]
     },
     "execution_count": 267,
     "metadata": {},
     "output_type": "execute_result"
    }
   ],
   "source": [
    "# so there can only be a max of 74 moles produced\n",
    "E3 = E1 * ((mm.Formula(\"H2O\").mass * u.gram) / mol)\n",
    "E3"
   ]
  },
  {
   "cell_type": "code",
   "execution_count": 268,
   "id": "d8dd75d9-e669-4ced-88bf-b26b32e4438d",
   "metadata": {},
   "outputs": [
    {
     "data": {
      "text/html": [
       "2 AgNO3 + Zn &rarr; 2 Ag + Zn(NO3)2"
      ],
      "text/plain": [
       "<chempy.chemistry.Reaction at 0x7f75398976d0>"
      ]
     },
     "execution_count": 268,
     "metadata": {},
     "output_type": "execute_result"
    }
   ],
   "source": [
    "# Practive exercise \n",
    "# Consider the balanced equation\n",
    "BalanceChemEquation({\"Zn\", \"AgNO3\"}, {\"Ag\", \"Zn(NO3)2\"})[0]"
   ]
  },
  {
   "cell_type": "code",
   "execution_count": 269,
   "id": "881c645f-ae68-44e3-b63a-5191b7123f57",
   "metadata": {},
   "outputs": [
    {
     "data": {
      "text/latex": [
       "$\\displaystyle 0.0305903946160906 mol$"
      ],
      "text/plain": [
       "0.0305903946160906*mol"
      ]
     },
     "execution_count": 269,
     "metadata": {},
     "output_type": "execute_result"
    }
   ],
   "source": [
    "# Find moles of Silber nitrate and Znc\n",
    "mol = sp.symbols('mol')\n",
    "\n",
    "# find mols of znc\n",
    "E1 = 2 * u.gram * (1 / ((mm.Formula(\"Zn\").mass * u.gram) / mol))\n",
    "E1"
   ]
  },
  {
   "cell_type": "code",
   "execution_count": 270,
   "id": "50ddbe14-0d06-4f5e-9339-8d707113b06e",
   "metadata": {},
   "outputs": [
    {
     "data": {
      "text/latex": [
       "$\\displaystyle 0.01471686650268 mol$"
      ],
      "text/plain": [
       "0.01471686650268*mol"
      ]
     },
     "execution_count": 270,
     "metadata": {},
     "output_type": "execute_result"
    }
   ],
   "source": [
    "# molds of AgNO3\n",
    "E2 = 2.5 * u.grams * (1 / ((mm.Formula(\"AgNO3\").mass * u.grams) / mol))\n",
    "E2"
   ]
  },
  {
   "cell_type": "code",
   "execution_count": 274,
   "id": "fd8fc1dc-bbe6-4090-8851-1d1cabb9a455",
   "metadata": {},
   "outputs": [
    {
     "data": {
      "text/latex": [
       "$\\displaystyle 1.39361246668823 \\text{g}$"
      ],
      "text/plain": [
       "1.39361246668823*gram"
      ]
     },
     "execution_count": 274,
     "metadata": {},
     "output_type": "execute_result"
    }
   ],
   "source": [
    "# note that for each mol of zinc, need, 2 molds of nitrate\n",
    "# AgNO3 is the limiting reactant\n",
    "E3  = (E2 / 2) * ((mm.Formula(\"Zn(NO3)2\").mass * u.grams) / mol)\n",
    "E3"
   ]
  },
  {
   "cell_type": "code",
   "execution_count": 275,
   "id": "a779e3cd-d9bc-4a0c-8c14-2df7d4952dff",
   "metadata": {},
   "outputs": [],
   "source": [
    "# Note there is a difference between theoretical yield and percent yield"
   ]
  },
  {
   "cell_type": "code",
   "execution_count": 276,
   "id": "13d5e53f-6bfa-4954-8c6c-c58a5811ebea",
   "metadata": {},
   "outputs": [],
   "source": [
    "# Sample exercise 3.20"
   ]
  },
  {
   "cell_type": "code",
   "execution_count": 277,
   "id": "3c3eaf1d-55ac-4bc0-87c9-0e9f20eafe29",
   "metadata": {},
   "outputs": [
    {
     "data": {
      "text/html": [
       "2 C6H12 + 5 O2 &rarr; 2 H2C6H8O4 + 2 H2O"
      ],
      "text/plain": [
       "<chempy.chemistry.Reaction at 0x7f7538965c10>"
      ]
     },
     "execution_count": 277,
     "metadata": {},
     "output_type": "execute_result"
    }
   ],
   "source": [
    "# Consider the balanced equation\n",
    "BalanceChemEquation({\"C6H12\", \"O2\"}, {\"H2C6H8O4\", \"H2O\"})[0]"
   ]
  },
  {
   "cell_type": "code",
   "execution_count": 278,
   "id": "ba173506-23bb-4df2-93a7-e86e31543861",
   "metadata": {},
   "outputs": [
    {
     "data": {
      "text/latex": [
       "$\\displaystyle 0.29705417788165 mol$"
      ],
      "text/plain": [
       "0.29705417788165*mol"
      ]
     },
     "execution_count": 278,
     "metadata": {},
     "output_type": "execute_result"
    }
   ],
   "source": [
    "# assume we have only 25g of cylohexane. Figure out this in mols\n",
    "mol = sp.symbols('mol')\n",
    "E1 = 25 * u.gram * (1 / ((mm.Formula(\"C6H12\").mass * u.gram) / mol))\n",
    "E1\n"
   ]
  },
  {
   "cell_type": "code",
   "execution_count": 279,
   "id": "87a3180e-c2df-4e34-a5b1-08c421a60a6e",
   "metadata": {},
   "outputs": [
    {
     "data": {
      "text/latex": [
       "$\\displaystyle 0.742635444704125 mol$"
      ],
      "text/plain": [
       "0.742635444704125*mol"
      ]
     },
     "execution_count": 279,
     "metadata": {},
     "output_type": "execute_result"
    }
   ],
   "source": [
    "# how many mols of oxygen is needed\n",
    "E2 = (5 / 2) * E1\n",
    "E2"
   ]
  },
  {
   "cell_type": "code",
   "execution_count": 281,
   "id": "3c641093-2085-4c44-b5d0-ded961cf07e4",
   "metadata": {},
   "outputs": [
    {
     "data": {
      "text/latex": [
       "$\\displaystyle 23.7634504943528 \\text{g}$"
      ],
      "text/plain": [
       "23.7634504943528*gram"
      ]
     },
     "execution_count": 281,
     "metadata": {},
     "output_type": "execute_result"
    }
   ],
   "source": [
    "# find total grams of oxygen\n",
    "E3 = E2 * ((mm.Formula(\"O2\").mass * u.gram) / mol)\n",
    "E3"
   ]
  },
  {
   "cell_type": "code",
   "execution_count": null,
   "id": "47b68b33-e8df-466e-a08b-5fbb3aed3806",
   "metadata": {},
   "outputs": [],
   "source": []
  }
 ],
 "metadata": {
  "kernelspec": {
   "display_name": "Python 3",
   "language": "python",
   "name": "python3"
  },
  "language_info": {
   "codemirror_mode": {
    "name": "ipython",
    "version": 3
   },
   "file_extension": ".py",
   "mimetype": "text/x-python",
   "name": "python",
   "nbconvert_exporter": "python",
   "pygments_lexer": "ipython3",
   "version": "3.9.2"
  }
 },
 "nbformat": 4,
 "nbformat_minor": 5
}
