{
 "cells": [
  {
   "cell_type": "code",
   "execution_count": 36,
   "id": "09d739b7-452b-440e-b856-8a6712d5a439",
   "metadata": {},
   "outputs": [],
   "source": [
    "# !pip install chempy\n",
    "# !pip install periodictable\n",
    "# !pip install PyAstronomy\n",
    "# !pip install molmass\n",
    "# !pip install rdkit\n",
    "# !pip install astropy\n",
    "# !pip install mendeleev\n",
    "\n",
    "\n",
    "import periodictable as pt\n",
    "import chempy as ch\n",
    "import numpy as np\n",
    "import sympy as sp\n",
    "import molmass as mm\n",
    "import pickle\n",
    "from IPython.display import HTML\n",
    "import ipywidgets as widgets\n",
    "import matplotlib as mpl\n",
    "import matplotlib.pyplot as plt\n",
    "from mpl_toolkits.mplot3d import Axes3D\n",
    "import matplotlib.pyplot as plt\n",
    "mpl.rcParams['legend.fontsize'] = 10\n",
    "import pandas as pd\n",
    "import itertools\n",
    "pd.set_option('display.max_colwidth', None)\n",
    "from sympy.plotting import plot \n",
    "from IPython.display import Image\n",
    "from PyAstronomy import pyasl\n",
    "import decimal\n",
    "import mendeleev as me\n",
    "\n",
    "from sympy.physics.units.systems import SI\n",
    "from rdkit import Chem\n",
    "from rdkit.Chem import Draw\n",
    "# from astropy import units as u\n",
    "import sympy.physics.units as u\n",
    "import scipy as scp\n",
    "\n",
    "from sympy.physics.units import speed_of_light, meter, gram, second, day, pound\n",
    "from sympy.physics.units import mile, newton, kilogram, atomic_mass_constant\n",
    "from sympy.physics.units import kilometer, centimeter, millimeter, nanometer\n",
    "from sympy.physics.units import gravitational_constant, hbar, kPa, newton\n",
    "from sympy.physics.units import convert_to\n",
    "\n",
    "def RTL(e):\n",
    "    \"\"\"INPUT PARAMS: [] of math expressions\"\"\"\n",
    "    latex_rendering = []\n",
    "\n",
    "    for i in range(len(e)):\n",
    "        latex_rendering.append(\"$\" + sp.latex(e[i]) + \"$ &nbsp;&nbsp;\")\n",
    "    \n",
    "    return(HTML(\"\".join(latex_rendering[0:])))\n",
    "\n",
    "def BalanceChemEquation(L, R):\n",
    "    \"\"\" INPUT PARAMS: 2 * {} containing react and prod\"\"\"\n",
    "    reac, prod = ch.balance_stoichiometry(L, R)\n",
    "    Reaction = ch.Reaction(reac, prod)\n",
    "    return([Reaction, [reac, prod]])\n",
    "    \n",
    "\n",
    "class Atom: \n",
    "    def __init__(self, pCount, nCount, eCount):\n",
    "        \"\"\"INPUT PARAMS: countOfProtons, countOfNeutrons, countOfElectrons\"\"\"\n",
    "        \n",
    "        an = pyasl.AtomicNo()\n",
    "        \n",
    "        self.Protons = pCount\n",
    "        self.Neutrons = nCount\n",
    "        self.Electrons = eCount\n",
    "        self.ElementName = an.getElementName(pCount)\n",
    "        self.ElementNameWithAtomicMass = an.getElementName(pCount) + \"(\" + str(self.Protons) + \",\" + str(self.Protons + self.Neutrons) + \")\"\n",
    "    \n",
    "    def CreateSummary(self):\n",
    "        print(\"Name: \", self.ElementName)\n",
    "        print(\"Protons: \", self.Protons)\n",
    "        print(\"Neutrons: \", self.Neutrons)\n",
    "        print(\"Electrons: \", self.Electrons)"
   ]
  },
  {
   "cell_type": "code",
   "execution_count": 37,
   "id": "47b68b33-e8df-466e-a08b-5fbb3aed3806",
   "metadata": {},
   "outputs": [],
   "source": [
    "# solvent - stuff in greatest content\n",
    "# solute - everything else\n",
    "# substance whose aquese solutins contain ions - electrolyte\n",
    "# Eg NaCL becomes Na+ and Cl- ions\n",
    "# Solvation - when ions surrounded by H2O molecules"
   ]
  },
  {
   "cell_type": "code",
   "execution_count": 12,
   "id": "00777e90-90a0-4e69-8e4f-e977bf3945a4",
   "metadata": {},
   "outputs": [],
   "source": [
    "# Exercice 4.1\n",
    "\n",
    "# Mg has 1 * +2\n",
    "# Cl2 has 2 * -1\n",
    "\n",
    "# K has 1 * 1\n",
    "# Cl has 1 * -1\n",
    "\n",
    "# K2  has 2 * 1\n",
    "# S has 1 * -2\n",
    "# O4 has 4 * -2\n",
    "\n",
    "# In the diagram, there are 4 * -2 Anions and \n"
   ]
  },
  {
   "cell_type": "code",
   "execution_count": 13,
   "id": "f20c8143-8b63-454b-b69a-7acfc00970d4",
   "metadata": {},
   "outputs": [],
   "source": [
    "# Sample Exercise 4.1\n",
    "#(a) MgCL2\n",
    "# Mg [+2] \n",
    "# Cl [-1] * 2\n",
    "\n",
    "# (b) KCl\n",
    "# K [+1]\n",
    "# Cl [-1]\n",
    "\n",
    "# (c) K2SO4\n",
    "# K [+1] * 8\n",
    "# SO4 [-2] * 4\n",
    "\n",
    "# Must be potassium sulphate\n",
    "\n",
    "# (a) NiSO4\n",
    "# Ni []\n",
    "# SO4 [-2] * 3\n",
    "\n",
    "# (b) Ca(NO3)2\n",
    "# Ca [+2] -> 3 of these to get 6 catians \n",
    "# NO3 [-1] -> \n",
    "\n",
    "# (c) Na3PO4\n",
    "# Na3 [+1] -> 2 of these to get 6 cations\n",
    "# PO4 [-3] -> 2 of these to balance"
   ]
  },
  {
   "cell_type": "code",
   "execution_count": 14,
   "id": "c18675ed-8c3d-4a00-a847-d2651b0eaeac",
   "metadata": {},
   "outputs": [],
   "source": [
    "# Precipitation: insolute product"
   ]
  },
  {
   "cell_type": "code",
   "execution_count": 16,
   "id": "d6d9b886-83f5-47d2-bd46-e92d03301717",
   "metadata": {},
   "outputs": [],
   "source": [
    "# Sample exercise 4.\n",
    "# (a) sodium carbonate\n",
    "# Na2CO3\n",
    "# Soluable, as Sodium is alkali metal cations\n",
    "\n",
    "# (b) PbSO4\n",
    "# Insoluable as its an exception"
   ]
  },
  {
   "cell_type": "code",
   "execution_count": 17,
   "id": "2a664a3e-bcf1-4192-937e-a455c9e45524",
   "metadata": {},
   "outputs": [],
   "source": [
    "# Practice Excertice 4.2\n",
    "# (a) cobalt (II) hydroxide\n",
    "# Co [+2]\n",
    "# OH [-1]\n",
    "# this is insoluable\n",
    "\n",
    "# (b) barium nitrate\n",
    "# Ba [+2]\n",
    "# NO3 [-1]\n",
    "# Soluable\n",
    "\n",
    "# (c) Ammonium phosphate\n",
    "# (NH4)3PO4\n",
    "# Soluble "
   ]
  },
  {
   "cell_type": "code",
   "execution_count": 19,
   "id": "fa66ca4a-abd8-43b2-8f59-d2ba96ee3038",
   "metadata": {},
   "outputs": [
    {
     "data": {
      "text/html": [
       "BaCl2 + K2SO4 &rarr; BaSO4 + 2 KCl"
      ],
      "text/plain": [
       "<chempy.chemistry.Reaction at 0x7fde30900d00>"
      ]
     },
     "execution_count": 19,
     "metadata": {},
     "output_type": "execute_result"
    }
   ],
   "source": [
    "# Sample Exercise 4.3\n",
    "# Given BaCl2 and K2SO4, what will they form \n",
    "# AX + BY => AY + BX\n",
    "# break into components\n",
    "# A =  Ba [+2]\n",
    "# X = Cl2 [-1]\n",
    "# B = K2 [1]\n",
    "# Y = SO4 [-2]\n",
    "\n",
    "# AY = BaSO4\n",
    "# BX = K2Cl2\n",
    "\n",
    "# Note that it BaSO4 is insoluble\n",
    "\n",
    "BalanceChemEquation({\"BaCl2\", \"K2SO4\"}, {\"BaSO4\", \"KCl\"})[0]"
   ]
  },
  {
   "cell_type": "code",
   "execution_count": 43,
   "id": "6d193129-374c-48b9-a627-9d01ba3c0639",
   "metadata": {},
   "outputs": [],
   "source": [
    "# Practice exercise 4.3\n",
    "# (a)\n",
    "\n",
    "# Given Fe2(SO4)3 and LiOH\n",
    "# Apply AX + BY -> AY + BX\n",
    "\n",
    "# A ->  Fe2 [+2]\n",
    "# X ->  (SO4)3 [-2]\n",
    "# B -> Li [+1]\n",
    "# Y OH [-1]\n",
    "\n",
    "# AY -> FeOH\n",
    "# BX -> Li(SO4)3\n"
   ]
  },
  {
   "cell_type": "code",
   "execution_count": 44,
   "id": "7c9d2539-6096-4380-90d3-df0b9d25b004",
   "metadata": {},
   "outputs": [
    {
     "data": {
      "text/html": [
       "BaCl2 + K2SO4 &rarr; BaSO4 + 2 ClK"
      ],
      "text/plain": [
       "<chempy.chemistry.Reaction at 0x7fdebbd10b20>"
      ]
     },
     "execution_count": 44,
     "metadata": {},
     "output_type": "execute_result"
    }
   ],
   "source": [
    "# Redo 4.3\n",
    "# Reactants: BaCl2, K2SO4\n",
    "# Note the polyatomic ion can't break up\n",
    "# The elments are: \n",
    "# A ->Ba\n",
    "# X -> Cl\n",
    "# B -> K\n",
    "# Y ->SO4\n",
    "\n",
    "# Utilise the AX + BY -> AY + BX\n",
    "BalanceChemEquation({\"BaCl2\", \"K2SO4\"}, {\"BaSO4\", \"ClK\"})[0]\n",
    "# Note the reactants stay the same "
   ]
  },
  {
   "cell_type": "code",
   "execution_count": 48,
   "id": "31e5fea3-c576-452e-ab5b-87f72172c1a2",
   "metadata": {},
   "outputs": [],
   "source": [
    "# Redo practice\n",
    "# Reactants: Fe2(SO4)3, LiOH\n",
    "\n",
    "# doesn't seem to balance\n",
    "# BalanceChemEquation({\"Fe2(SO4)3\", \"LiOH\"}, {\"FeOH\", \"LiSO4\"})[0]"
   ]
  },
  {
   "cell_type": "code",
   "execution_count": 49,
   "id": "fa039771-d49b-4377-90ab-24bd1b59ab04",
   "metadata": {},
   "outputs": [],
   "source": [
    "# Redo again\n",
    "\n",
    "# Ba [+2]\n",
    "# Cl [-1]\n",
    "# Li [+1]\n",
    "# OH [-1]\n",
    "\n",
    "# Reactants: BaCl2, K2SO4\n",
    "\n",
    "# Products: BaSO4, ClK\n",
    "\n",
    "# Balance: BaCl2 + K2SO4 -> BaSO4 + 2ClK"
   ]
  },
  {
   "cell_type": "code",
   "execution_count": 50,
   "id": "bff64347-f950-46cb-82aa-c46f6c71c473",
   "metadata": {},
   "outputs": [],
   "source": [
    "# Fe [+3]\n",
    "# SO4 [-2]\n",
    "# Li [+1]\n",
    "# OH [-1]\n",
    "\n",
    "# Balance: Fe2(SO4)3 + 6LiOH -> Fe2(OH) + Li2(SO4)\n",
    "\n",
    "# Fe -> 2: 2\n",
    "# OH -> 6: 6\n",
    "# SO4 -> 3 : 3\n",
    "# Li -> 6: 6\n",
    "\n",
    "# Is Ba(NO3)2 soluable - yes is soluble by exception\n",
    "# Is KNO3 - soluable as NO3"
   ]
  },
  {
   "cell_type": "code",
   "execution_count": 51,
   "id": "07ced114-90df-4b08-b8f5-b5b7d3cc03bf",
   "metadata": {},
   "outputs": [],
   "source": [
    "# Ionic equations"
   ]
  },
  {
   "cell_type": "code",
   "execution_count": 52,
   "id": "ad8e99ce-5687-46c9-a2cc-e2bbf5336654",
   "metadata": {},
   "outputs": [
    {
     "data": {
      "text/html": [
       "CaCl2 + Na2CO3 &rarr; CaCO3 + 2 ClNa"
      ],
      "text/plain": [
       "<chempy.chemistry.Reaction at 0x7fdeaabd6550>"
      ]
     },
     "execution_count": 52,
     "metadata": {},
     "output_type": "execute_result"
    }
   ],
   "source": [
    "# Sample exercise 4.4\n",
    "# Write the net ionic equation for the precipitation reaction that\n",
    "# occurs when aqueous solutions of calcium chloride and sodium carbonate \n",
    "# are mixed.\n",
    "\n",
    "# Reactants: CaCl2, Na2CO3\n",
    "\n",
    "# Ca [+2]\n",
    "# Cl [-1]\n",
    "# Na [+1]\n",
    "# CO3 [-2]\n",
    "\n",
    "# Create an equation\n",
    "\n",
    "BalanceChemEquation({\"CaCl2\", \"Na2CO3\"}, {\"CaCO3\", \"ClNa\"})[0]"
   ]
  },
  {
   "cell_type": "code",
   "execution_count": 62,
   "id": "235d2270-b9f8-4b8e-92a3-cc3abc697f10",
   "metadata": {},
   "outputs": [],
   "source": [
    "# Now make this an ionic equation\n",
    "# Ca(2+) + 2Cl(-1) + 2Na(+1) + CO3(-2) -> \n",
    "# Ca(+2) CO3(-2) + 2CL(-1) + 2Na(+1)\n",
    "\n",
    "# LHS -> 2 + -2 + 2 + -2 = 0\n",
    "# RHS -> 2 -2 -2 + 2 = 0\n"
   ]
  },
  {
   "cell_type": "code",
   "execution_count": 127,
   "id": "958b3077-d6fb-4380-8cb1-485341b8e26b",
   "metadata": {},
   "outputs": [],
   "source": [
    "# Practice exercise\n",
    "# Write the net ionic equation for the precipitation reaction \n",
    "# that occurs when aqueous solutions of silver nitrate and \n",
    "# potassium phosphate are mixed.\n",
    "\n",
    "# Reactants given: AgNO3, K3PO4\n",
    "# Ag []\n",
    "# NO3 [-1]\n",
    "# K [1]\n",
    "# PO4 [-3]\n",
    "\n",
    "# Balance Equation\n",
    "D = BalanceChemEquation({\"AgNO3\", \"K3PO4\"}, {\"AgPO4\", \"K3NO3\"})[0]"
   ]
  },
  {
   "cell_type": "code",
   "execution_count": 135,
   "id": "a5a574af-2991-403f-b946-7b92f6121005",
   "metadata": {},
   "outputs": [],
   "source": [
    "# Sample Exercise 4.5\n",
    "# Rank acids\n",
    "# strongist acid has most H+ ions\n",
    "# weakest - largest number of unbroken molecules\n",
    "\n",
    "# HX: 6 UD, 2 positive ions, 2 negative ions\n",
    "# Add \n",
    "# HY: 0 UD, 8 positve ions, 8 negative ions\n",
    "# HZ: 5 UD, 3 postive ions, 3 negative ions\n",
    "\n",
    "# Order is HY > HZ > HX"
   ]
  },
  {
   "cell_type": "code",
   "execution_count": 136,
   "id": "a088b72b-5788-4bc4-9765-696514553710",
   "metadata": {},
   "outputs": [],
   "source": [
    "# Sample Exercise 4.6\n",
    "\n",
    "# Classify these dissolved substances as strong, weak, \n",
    "# or nonelectrolyte: CaCl2, HNO3, C2H5OH (ethanol), \n",
    "# HCOOH (formic acid), KOH.\n",
    "\n",
    "# 1. Find if molecular or ionic compound\n",
    "# 2. Use criteria to determine\n",
    "\n",
    "# CaCl2: Ionic, so strong electolyte\n",
    "# KOH: Ionic, so strong electrolyte\n",
    "# HNO3: Molecular, strong acid, strong electrolyte\n",
    "# C2H5OH : Molecular, non electrolyte\n",
    "# HCOOH: Molecular, weak acid, weak electrolyte\n",
    "\n"
   ]
  },
  {
   "cell_type": "code",
   "execution_count": 141,
   "id": "252c2bb6-9fd4-45df-8033-e049880cc1bd",
   "metadata": {},
   "outputs": [],
   "source": [
    "# Sample Exercie 4.7\n",
    "# Reactants: CH3COOH, Ba(OH)2\n",
    "# We are given an acid and base\n",
    "\n",
    "# Note when acids and bases form H2O and a salt (whose cation comes from base\n",
    "# and whose anion comes from comes from Acid\n",
    "\n",
    "# loses an H+ cation from acid, and loses a OH- anion from base \n",
    "\n",
    "#CH3COOH + Ba(OH)2 -> H2O + ... whatever is left over \n",
    "#CH3COOH + Ba(OH)2 -> H2O + Ba(CH3COO)2"
   ]
  },
  {
   "cell_type": "code",
   "execution_count": 142,
   "id": "d9efa306-7a09-4825-8df8-3166e227a6ab",
   "metadata": {},
   "outputs": [
    {
     "data": {
      "text/html": [
       "Ba(OH)2 + 2 CH3COOH &rarr; Ba(CH3COO)2 + 2 H2O"
      ],
      "text/plain": [
       "<chempy.chemistry.Reaction at 0x7fdea1f0c580>"
      ]
     },
     "execution_count": 142,
     "metadata": {},
     "output_type": "execute_result"
    }
   ],
   "source": [
    "# Now balance the equation\n",
    "BalanceChemEquation({\"CH3COOH\", \"Ba(OH)2\"}, {\"H2O\", \"Ba(CH3COO)2\"})[0]"
   ]
  },
  {
   "cell_type": "code",
   "execution_count": 143,
   "id": "969768bd-5bec-4848-b41b-8cc4f70ac0f2",
   "metadata": {},
   "outputs": [],
   "source": [
    "# Write complete ionic equation, done by finding strong electrolytes\n",
    "# and breaking into ions\n",
    "\n",
    "# Strong electrolyes\n",
    "# Ba(OH)2\n",
    "# Ba(CH3COO)2\n",
    "\n",
    "# Ionic equation\n",
    "# Ba[2+] + 2OH[-1] + 2CH3COOH → Ba[2+] + 2CH3COO[-1] + 2H2O\n",
    "# Net ionic equation\n",
    "# 2OH[-1] + 2CH3COOH → 2CH3COO[-1] + 2H2O"
   ]
  },
  {
   "cell_type": "code",
   "execution_count": 146,
   "id": "0546ce2d-d9fd-48f5-b965-19093cd2cbbb",
   "metadata": {},
   "outputs": [
    {
     "data": {
      "text/html": [
       "H3PO3 + 3 KOH &rarr; 3 H2O + K3PO3"
      ],
      "text/plain": [
       "<chempy.chemistry.Reaction at 0x7fdea1ca2fd0>"
      ]
     },
     "execution_count": 146,
     "metadata": {},
     "output_type": "execute_result"
    }
   ],
   "source": [
    "# Sample Exercise 4.7: Practice exercise\n",
    "#\n",
    "# For the reaction of phosphorous acid (H3PO3) \n",
    "# and potassium hydroxide (KOH), write (a) the balanced\n",
    "# molecular equation and (b) the net ionic equation\n",
    "\n",
    "# Note this is an acid and base reaction so will produce H2O and a salt\n",
    "\n",
    "# H3PO3 + KOH -> H2O + KH2PO3\n",
    "BalanceChemEquation({\"H3PO3\", \"KOH\"}, {\"H2O\", \"K3PO3\"})[0]\n"
   ]
  },
  {
   "cell_type": "code",
   "execution_count": 147,
   "id": "1b8579b7-35a5-412d-9917-95de1672c65c",
   "metadata": {},
   "outputs": [],
   "source": [
    "# To make this a ionic equation, break up strong electrolits\n",
    "# KOH is strong Base, strong electrolyte\n",
    "# K3PO3 is ionic compound, strong electrolyte\n",
    "\n",
    "# Ionic equation\n",
    "# H3PO3 + 3K 3OH [-1] → 3H2O + 3K + PO3[-3]\n",
    "\n",
    "# Net ionic equation (with spectator ions removed)\n",
    "# H3PO3 3OH [-1] → 3H2O + PO3[-3]"
   ]
  },
  {
   "cell_type": "code",
   "execution_count": 148,
   "id": "543f18a5-e906-4227-8c1b-8d68a0880c4e",
   "metadata": {},
   "outputs": [],
   "source": [
    "# Note many bases besides OH- react to H+"
   ]
  },
  {
   "cell_type": "code",
   "execution_count": 149,
   "id": "302621b9-7a3e-4aa2-90d3-eb0ac9d2d6bf",
   "metadata": {},
   "outputs": [],
   "source": [
    "# Oxidation rection reactions\n",
    "\n",
    "# SO FAR: \n",
    "# Precipitaioin: + and - form insoluable ionic compound\n",
    "# Neutralization: H+ and OH- ions join to form H2O\n",
    "# Oxidation: electrons transferred from reactant to another (Eg: reductioin)\n",
    "# like corrosion -> eg. 2Ca + O2 -> 2CaO"
   ]
  },
  {
   "cell_type": "code",
   "execution_count": null,
   "id": "0f2d835a-75da-4a3c-a4f0-eb343475d0c7",
   "metadata": {},
   "outputs": [],
   "source": [
    "# Sample Exercise 4.8\n",
    "# Determining Oxidisation Numbers of \n",
    "# (a) H2S\n",
    "# Hydrogen bonded to a non metal is H [+1]\n",
    "# 2[+1] + x = 0\n",
    "# x = - 2\n",
    "# Hydrogen has Oxidation number of +1, Sulphur has oxidation number of -2\n",
    "\n",
    "# (b)\n",
    "\n"
   ]
  }
 ],
 "metadata": {
  "kernelspec": {
   "display_name": "Python 3",
   "language": "python",
   "name": "python3"
  },
  "language_info": {
   "codemirror_mode": {
    "name": "ipython",
    "version": 3
   },
   "file_extension": ".py",
   "mimetype": "text/x-python",
   "name": "python",
   "nbconvert_exporter": "python",
   "pygments_lexer": "ipython3",
   "version": "3.9.2"
  }
 },
 "nbformat": 4,
 "nbformat_minor": 5
}
