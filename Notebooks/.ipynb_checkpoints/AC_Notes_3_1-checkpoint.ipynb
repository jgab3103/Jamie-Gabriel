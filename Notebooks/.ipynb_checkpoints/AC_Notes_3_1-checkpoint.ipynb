{
 "cells": [
  {
   "cell_type": "code",
   "execution_count": 1,
   "metadata": {},
   "outputs": [],
   "source": [
    "import numpy as np\n",
    "import shared_functions as sf\n",
    "import sympy as sp\n",
    "from IPython.display import HTML\n",
    "import matplotlib.pyplot as plt\n",
    "#HTML('<iframe src=\"https://www.geogebra.org/classic/bewyhuu6?embed\" width=\"600\" height=\"400\" allowfullscreen style=\"border: 1px solid #e4e4e4;border-radius: 4px;\" frameborder=\"0\"></iframe>')"
   ]
  },
  {
   "cell_type": "markdown",
   "metadata": {},
   "source": [
    "So now we have a way to calculate area from points: Meister's Formula!\n",
    "\n",
    "$$ s(\\widetilde{A_1A_2A_3A_4})=s(\\widetilde{A_1A_2})+s(\\widetilde{A_2A_3})+s(\\widetilde{A_3A_4}+s(\\widetilde{A_4A_1})\\\\=\\frac12(x_1y_2-y_1x_2)+\\frac12(x_2y_3-y_2x_3)+\\frac12(x_3y_4-y_3x_4)+\\frac12(x_4y_1-y_4x_1))\\\\=\\frac{1}{2}(x_1y_2-y_1x_2+x_2y_3-y_2x_3+x_3y_4-y_3x_4+x_4y_1-y_4x_1).  $$\n"
   ]
  },
  {
   "cell_type": "markdown",
   "metadata": {},
   "source": [
    "Before moving on, let's change the semantics a little in the python functions, just to make it clear that we are really dealing with a formula that takes some pointnd returns and signed area. Under the hood, vectors are in play, we are dealing directly with points."
   ]
  },
  {
   "cell_type": "code",
   "execution_count": 97,
   "metadata": {},
   "outputs": [],
   "source": [
    "def compute_cross_product_from_two_points(points_list):\n",
    "    c = points_list[0][0] * points_list[1][1] - points_list[0][1] * points_list[1][0]\n",
    "    return(c)\n",
    "\n",
    "def compute_signed_area_of_triangle_from_two_points(points_list):\n",
    "    c = compute_cross_product_from_two_points(points_list)\n",
    "    signed_area = c / 2\n",
    "    return(signed_area)\n",
    "\n",
    "def compute_signed_area_using_meisters_formula(points_list):\n",
    "\n",
    "    total_signed_area = 0\n",
    "    for each_point in range(len(points_list) - 1):\n",
    "        signed_area = compute_signed_area_of_triangle_from_two_points([points_list[each_point], points_list[each_point + 1]])\n",
    "        #print(\"Signed area of oriented side \", str(each_point + 1), \": \", points_list[each_point], points_list[each_point + 1], \": \", signed_area)\n",
    "        total_signed_area = total_signed_area + signed_area\n",
    "\n",
    "    final_signed_area = compute_signed_area_of_triangle_from_two_points([points_list[-1], points_list[0]])\n",
    "    #print(\"Signed area of oriented side \", str(len(points_list)), \": \", points_list[-1], points_list[0], \": \", final_signed_area)\n",
    "    total_signed_area = total_signed_area + final_signed_area\n",
    "        \n",
    "    #print(\"Total signed area is: \", total_signed_area)\n",
    "    \n",
    "    return(total_signed_area)"
   ]
  },
  {
   "cell_type": "markdown",
   "metadata": {},
   "source": [
    "And just because this meister's formula is so cool, let's do the same thing again. Our n-gon from last time. But note here, that I am increasing each x and y cordinate by 1, translating the the x values and y values. \n",
    "\n",
    "We will start by plotting out the points for a visualisation"
   ]
  },
  {
   "cell_type": "code",
   "execution_count": 119,
   "metadata": {},
   "outputs": [
    {
     "data": {
      "image/png": "[encoded data removed]",
      "text/plain": [
       "<Figure size 432x288 with 1 Axes>"
      ]
     },
     "metadata": {},
     "output_type": "display_data"
    }
   ],
   "source": [
    "points_choice = np.array([[-1,2], [1,5], [3,4], [2,2], [4,3], [5,0], [2, 0]])\n",
    "points_for_plotting = np.append(points_choice, [points_choice[0]], axis=0)\n",
    "x_coords = [e[0] for e in points_for_plotting]\n",
    "y_coords = [e[1] for e in points_for_plotting]\n",
    "shape_from_points = plt.plot(x_coords, y_coords, 'b')"
   ]
  },
  {
   "cell_type": "code",
   "execution_count": 120,
   "metadata": {},
   "outputs": [
    {
     "data": {
      "text/plain": [
       "-16.5"
      ]
     },
     "execution_count": 120,
     "metadata": {},
     "output_type": "execute_result"
    }
   ],
   "source": [
    "s = compute_signed_area_using_meisters_formula(points_choice)\n",
    "s"
   ]
  },
  {
   "cell_type": "markdown",
   "metadata": {},
   "source": [
    "Everything still works. Nice. So what's next for us? Well how about curves, how about the paramtisations of points from curves. What kind of signed areas can we find?"
   ]
  },
  {
   "cell_type": "markdown",
   "metadata": {},
   "source": [
    "### Curves"
   ]
  },
  {
   "cell_type": "markdown",
   "metadata": {},
   "source": [
    "Let's start out as simply as possible. One the simplest curves we could consider is a parabola, which is paramatised by $y = x^2$. This is pretty straightfroward, and we could take three poinmts we can consider is the triangle and we know that we can use Meister's formula for the signed area and we can just plug in. But what is those points were on also satisfied soething else, say a parabola, like $y = x^2$ . "
   ]
  },
  {
   "cell_type": "code",
   "execution_count": 179,
   "metadata": {},
   "outputs": [
    {
     "data": {
      "text/plain": [
       "[<matplotlib.lines.Line2D object at 0x7f8aa5366240>]"
      ]
     },
     "execution_count": 179,
     "metadata": {},
     "output_type": "execute_result"
    },
    {
     "data": {
      "image/png": "[encoded data removed]",
      "text/plain": [
       "<Figure size 432x288 with 1 Axes>"
      ]
     },
     "metadata": {},
     "output_type": "display_data"
    }
   ],
   "source": [
    "\n",
    "fig, ax = plt.subplots()\n",
    "x2 = np.arange(start=-6, stop=7, step=1)\n",
    "y2 = x2^2\n",
    "\n",
    "points_choice = np.array([[-4,16], [2,4], [5,25]])\n",
    "points_for_plotting = np.append(points_choice, [points_choice[0]], axis=0)\n",
    "\n",
    "x1 = [e[0] for e in points_for_plotting]\n",
    "y1 = [e[1] for e in points_for_plotting]\n",
    "\n",
    "plt.plot(x2, y2, 'b')\n",
    "plt.plot(x1, y1, 'r')\n"
   ]
  },
  {
   "cell_type": "code",
   "execution_count": 178,
   "metadata": {},
   "outputs": [
    {
     "data": {
      "text/plain": [
       "81.0"
      ]
     },
     "execution_count": 178,
     "metadata": {},
     "output_type": "execute_result"
    }
   ],
   "source": [
    "s = compute_signed_area_using_meisters_formula(points_choice)\n",
    "s"
   ]
  },
  {
   "cell_type": "markdown",
   "metadata": {},
   "source": [
    "It works! Now what is we had  So if we had 3 integers, say $t_1, t_2$ and $t_3$, and they were paramatised as points on a parabola, so we were to get $[t_1,t_1^2], [t_2,t_2^2]$, and $[t_3,t_3^2]$ we would get"
   ]
  },
  {
   "cell_type": "code",
   "execution_count": 181,
   "metadata": {},
   "outputs": [
    {
     "data": {
      "text/html": [
       "<html><script type=\"math/tex; mode=display\">\\newcommand{\\Bold}[1]{\\mathbf{#1}}-\\frac{1}{2} \\, t_{1}^{2} t_{2} + \\frac{1}{2} \\, t_{1} t_{2}^{2} + \\frac{1}{2} \\, t_{1}^{2} t_{3} - \\frac{1}{2} \\, t_{2}^{2} t_{3} - \\frac{1}{2} \\, t_{1} t_{3}^{2} + \\frac{1}{2} \\, t_{2} t_{3}^{2}</script></html>"
      ],
      "text/plain": [
       "-1/2*t_1^2*t_2 + 1/2*t_1*t_2^2 + 1/2*t_1^2*t_3 - 1/2*t_2^2*t_3 - 1/2*t_1*t_3^2 + 1/2*t_2*t_3^2"
      ]
     },
     "metadata": {},
     "output_type": "display_data"
    }
   ],
   "source": [
    "t_1, t_2, t_3 = sp.symbols('t_1, t_2, t_3')\n",
    "points_choice = np.array([[t_1,t_1^2], [t_2,t_2^2], [t_3,t_3^2]])\n",
    "s = compute_signed_area_using_meisters_formula(points_choice)\n",
    "show(s)"
   ]
  },
  {
   "cell_type": "markdown",
   "metadata": {},
   "source": [
    "Ok, so what is this? A more complex looking version of Meister? But check out what happnes when we factor this, it turns into a digestible formula:"
   ]
  },
  {
   "cell_type": "code",
   "execution_count": 182,
   "metadata": {},
   "outputs": [
    {
     "data": {
      "text/html": [
       "<html><script type=\"math/tex; mode=display\">\\newcommand{\\Bold}[1]{\\mathbf{#1}}-\\frac{1}{2} \\, {\\left(t_{1} - t_{2}\\right)} {\\left(t_{1} - t_{3}\\right)} {\\left(t_{2} - t_{3}\\right)}</script></html>"
      ],
      "text/plain": [
       "-1/2*(t_1 - t_2)*(t_1 - t_3)*(t_2 - t_3)"
      ]
     },
     "metadata": {},
     "output_type": "display_data"
    }
   ],
   "source": [
    "show(s.factor())"
   ]
  },
  {
   "cell_type": "markdown",
   "metadata": {},
   "source": []
  },
  {
   "cell_type": "markdown",
   "metadata": {},
   "source": [
    "Finally, some collinearity, distincy, zero. These things don't. I have left this here, but to assure you that it is very powerful"
   ]
  }
 ],
 "metadata": {
  "kernelspec": {
   "display_name": "SageMath 9.0",
   "language": "sage",
   "name": "sagemath"
  },
  "language_info": {
   "codemirror_mode": {
    "name": "ipython",
    "version": 3
   },
   "file_extension": ".py",
   "mimetype": "text/x-python",
   "name": "python",
   "nbconvert_exporter": "python",
   "pygments_lexer": "ipython3",
   "version": "3.7.3"
  }
 },
 "nbformat": 4,
 "nbformat_minor": 4
}
