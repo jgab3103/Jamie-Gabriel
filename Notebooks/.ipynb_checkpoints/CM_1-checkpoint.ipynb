{
 "cells": [
  {
   "cell_type": "code",
   "execution_count": 1,
   "id": "6dd866d6-49eb-4efc-94c5-70044517bc26",
   "metadata": {},
   "outputs": [],
   "source": [
    "import numpy as np\n",
    "import sympy as sp\n",
    "import pickle\n",
    "from IPython.display import HTML\n",
    "import ipywidgets as widgets\n",
    "import matplotlib as mpl\n",
    "import matplotlib.pyplot as plt\n",
    "from mpl_toolkits.mplot3d import Axes3D\n",
    "import matplotlib.pyplot as plt\n",
    "mpl.rcParams['legend.fontsize'] = 10\n",
    "import pandas as pd\n",
    "import itertools\n",
    "pd.set_option('display.max_colwidth', None)\n",
    "from sympy.plotting import plot \n",
    "from IPython.display import Image"
   ]
  },
  {
   "cell_type": "code",
   "execution_count": 2,
   "id": "1e38dabb-8a53-46b1-995c-fb1f9132fe63",
   "metadata": {},
   "outputs": [],
   "source": [
    "# Render to Latex function \n",
    "def RTL(e):\n",
    "    latex_rendering = []\n",
    "\n",
    "    for i in range(len(e)):\n",
    "        latex_rendering.append(\"$\" + sp.latex(e[i]) + \"$ &nbsp;&nbsp;\")\n",
    "    \n",
    "    return(HTML(\"\".join(latex_rendering[0:])))\n",
    "\n",
    "\n",
    "# Plot vectors with customisation\n",
    "def PlotVectors(vectors = [], plotPointsAsShape = False, plotFromStandardPosition = False):\n",
    "\n",
    "    plt.scatter(0, 0)\n",
    "    plt.grid()\n",
    "    \n",
    "    xValues = [vectors[i][0] for i in range(len(vectors))]\n",
    "    yValues = [vectors[i][1] for i in range(len(vectors))]\n",
    "    \n",
    "    plt.scatter(xValues, yValues)\n",
    "    \n",
    "    \n",
    "    if plotPointsAsShape:\n",
    "        xValues.append(xValues[0])\n",
    "        yValues.append(yValues[0])\n",
    "\n",
    "        plt.plot(xValues, yValues)\n",
    "    \n",
    "    if plotFromStandardPosition:\n",
    "        for i in range(len(xValues)):\n",
    "            plt.plot([0, xValues[i]], [0,  yValues[i]])\n",
    "\n",
    "            \n",
    "\n",
    "   \n",
    "\n",
    "    "
   ]
  },
  {
   "cell_type": "code",
   "execution_count": 11,
   "id": "b02450d9-d453-4741-8193-94e0f5a7cf5a",
   "metadata": {},
   "outputs": [],
   "source": [
    "# CH 5, integration\n",
    "# Exercices 5.9\n",
    "# Section 5.2"
   ]
  },
  {
   "cell_type": "code",
   "execution_count": 13,
   "id": "f4047b78-9e31-4054-b4ba-f1f5132c6898",
   "metadata": {},
   "outputs": [
    {
     "data": {
      "text/latex": [
       "$\\displaystyle 2 x$"
      ],
      "text/plain": [
       "2*x"
      ]
     },
     "execution_count": 13,
     "metadata": {},
     "output_type": "execute_result"
    }
   ],
   "source": [
    "#Q1\n",
    "x = sp.symbols('x')\n",
    "E1 = sp.integrate(2, x)\n",
    "E1"
   ]
  },
  {
   "cell_type": "code",
   "execution_count": 14,
   "id": "d644f0b7-7f98-4789-8084-e327bb09dcd3",
   "metadata": {},
   "outputs": [
    {
     "data": {
      "text/latex": [
       "$\\displaystyle \\frac{x^{4}}{4}$"
      ],
      "text/plain": [
       "x**4/4"
      ]
     },
     "execution_count": 14,
     "metadata": {},
     "output_type": "execute_result"
    }
   ],
   "source": [
    "#Q2\n",
    "x = sp.symbols('x')\n",
    "E1 = sp.integrate(x**3, x)\n",
    "E1"
   ]
  },
  {
   "cell_type": "code",
   "execution_count": 19,
   "id": "bec20db7-857a-4b52-9bda-582957b206ce",
   "metadata": {},
   "outputs": [
    {
     "data": {
      "text/latex": [
       "$\\displaystyle 0.6 x^{1.66666666666667}$"
      ],
      "text/plain": [
       "0.6*x**1.66666666666667"
      ]
     },
     "execution_count": 19,
     "metadata": {},
     "output_type": "execute_result"
    }
   ],
   "source": [
    "#Q4\n",
    "x = sp.symbols('x')\n",
    "E2 = sp.integrate(x**(2/3), x)\n",
    "E2"
   ]
  },
  {
   "cell_type": "code",
   "execution_count": 20,
   "id": "c4ae5a69-7f77-40df-807b-f68d38a6dfc6",
   "metadata": {},
   "outputs": [
    {
     "data": {
      "text/latex": [
       "$\\displaystyle 1.5 x^{0.666666666666667}$"
      ],
      "text/plain": [
       "1.5*x**0.666666666666667"
      ]
     },
     "execution_count": 20,
     "metadata": {},
     "output_type": "execute_result"
    }
   ],
   "source": [
    "#Q5\n",
    "x = sp.symbols('x')\n",
    "E1 = sp.integrate(x**(-1/3), x)\n",
    "E1"
   ]
  },
  {
   "cell_type": "code",
   "execution_count": 23,
   "id": "4bd57da1-7f5f-48cf-b390-4be241ef954f",
   "metadata": {},
   "outputs": [
    {
     "data": {
      "text/latex": [
       "$\\displaystyle - \\frac{\\cos{\\left(4 x \\right)}}{4}$"
      ],
      "text/plain": [
       "-cos(4*x)/4"
      ]
     },
     "execution_count": 23,
     "metadata": {},
     "output_type": "execute_result"
    }
   ],
   "source": [
    "#Q6 \n",
    "x = sp.symbols('x')\n",
    "E1 = sp.integrate(sp.sin(4 * x), x)\n",
    "E1"
   ]
  },
  {
   "cell_type": "code",
   "execution_count": 28,
   "id": "e2c08f4b-1a3f-404f-b0c9-f8ab52b7aaab",
   "metadata": {},
   "outputs": [
    {
     "data": {
      "text/latex": [
       "$\\displaystyle \\frac{e^{3 x}}{3}$"
      ],
      "text/plain": [
       "exp(3*x)/3"
      ]
     },
     "execution_count": 28,
     "metadata": {},
     "output_type": "execute_result"
    }
   ],
   "source": [
    "#Q7\n",
    "x = sp.symbols('x')\n",
    "E1 = sp.integrate(sp.E**(3 * x), x)\n",
    "E1"
   ]
  },
  {
   "cell_type": "code",
   "execution_count": 29,
   "id": "d1e93802-e171-4785-bee1-839dc1a986a3",
   "metadata": {},
   "outputs": [
    {
     "data": {
      "text/latex": [
       "$\\displaystyle - \\frac{e^{- 2 x}}{2}$"
      ],
      "text/plain": [
       "-exp(-2*x)/2"
      ]
     },
     "execution_count": 29,
     "metadata": {},
     "output_type": "execute_result"
    }
   ],
   "source": [
    "#Q8\n",
    "x = sp.symbols('x')\n",
    "E1 = sp.integrate(sp.E**(-2 * x), x)\n",
    "E1"
   ]
  },
  {
   "cell_type": "code",
   "execution_count": 30,
   "id": "b1edad90-82fb-4096-b4cd-a759dcab30fb",
   "metadata": {},
   "outputs": [
    {
     "data": {
      "text/latex": [
       "$\\displaystyle \\log{\\left(x - 1 \\right)}$"
      ],
      "text/plain": [
       "log(x - 1)"
      ]
     },
     "execution_count": 30,
     "metadata": {},
     "output_type": "execute_result"
    }
   ],
   "source": [
    "#Q9 \n",
    "x = sp.symbols('x')\n",
    "E1 = sp.integrate(1 / (x - 1), x)\n",
    "E1"
   ]
  },
  {
   "cell_type": "code",
   "execution_count": 31,
   "id": "c0923cd6-af6c-4715-964d-c147fb779cf0",
   "metadata": {},
   "outputs": [
    {
     "data": {
      "text/latex": [
       "$\\displaystyle - \\log{\\left(x - 3 \\right)}$"
      ],
      "text/plain": [
       "-log(x - 3)"
      ]
     },
     "execution_count": 31,
     "metadata": {},
     "output_type": "execute_result"
    }
   ],
   "source": [
    "#Q10 \n",
    "x = sp.symbols('x')\n",
    "E1 = sp.integrate(1/(3 -x), x)\n",
    "E1"
   ]
  },
  {
   "cell_type": "code",
   "execution_count": 35,
   "id": "56a2ce73-0590-41ca-8078-0a50cf2f9c29",
   "metadata": {},
   "outputs": [
    {
     "data": {
      "text/latex": [
       "$\\displaystyle x^{2}$"
      ],
      "text/plain": [
       "x**2"
      ]
     },
     "execution_count": 35,
     "metadata": {},
     "output_type": "execute_result"
    }
   ],
   "source": [
    "#Example 5.2\n",
    "y, x, c = sp.symbols('y, x, c')\n",
    "E1 = sp.integrate(2 * x, x)\n",
    "E1"
   ]
  },
  {
   "cell_type": "code",
   "execution_count": 41,
   "id": "64f98b9b-72b4-47a1-9e74-43ecee0d8fd8",
   "metadata": {},
   "outputs": [
    {
     "data": {
      "text/latex": [
       "$\\displaystyle c = -4$"
      ],
      "text/plain": [
       "Eq(c, -4)"
      ]
     },
     "execution_count": 41,
     "metadata": {},
     "output_type": "execute_result"
    }
   ],
   "source": [
    "E2 = sp.Eq(y, x**2 + c)\n",
    "E3 = E2.subs({y:0, x:2})\n",
    "E4 = sp.Eq(c, sp.solve(E3, c)[0])\n",
    "E4"
   ]
  },
  {
   "cell_type": "code",
   "execution_count": 43,
   "id": "acf9d6ad-27d0-4757-b49b-3270a85eb2ad",
   "metadata": {},
   "outputs": [
    {
     "data": {
      "text/latex": [
       "$\\displaystyle c = 1$"
      ],
      "text/plain": [
       "Eq(c, 1)"
      ]
     },
     "execution_count": 43,
     "metadata": {},
     "output_type": "execute_result"
    }
   ],
   "source": [
    "# at 2,0, this funcion is y = x**2 - 4\n",
    "# Now evaluate at x, 10\n",
    "E5 = E2.subs({y:10, x:3})\n",
    "E6 = sp.Eq(c, sp.solve(E5, c)[0])\n",
    "E6"
   ]
  },
  {
   "cell_type": "code",
   "execution_count": 44,
   "id": "493dbab9-e2af-4f97-9ba0-4d36cb67f5e9",
   "metadata": {},
   "outputs": [],
   "source": [
    "# at 3, 10, function y = x**2 + 1"
   ]
  },
  {
   "cell_type": "code",
   "execution_count": 47,
   "id": "5c688c3e-3c0b-4fd4-b4a2-7779d8145c6d",
   "metadata": {},
   "outputs": [
    {
     "data": {
      "text/latex": [
       "$\\displaystyle y = c + \\frac{\\sin{\\left(4 x \\right)}}{4}$"
      ],
      "text/plain": [
       "Eq(y, c + sin(4*x)/4)"
      ]
     },
     "execution_count": 47,
     "metadata": {},
     "output_type": "execute_result"
    }
   ],
   "source": [
    "# Exercise 12\n",
    "x, y, c = sp.symbols('x, y, c')\n",
    "E1 = sp.integrate(sp.cos(4 * x), x)\n",
    "E2 = sp.Eq(y, E1 + c)\n",
    "E2"
   ]
  },
  {
   "cell_type": "code",
   "execution_count": 51,
   "id": "307dfc6b-1bc6-45e8-aa20-2c3f4149499e",
   "metadata": {},
   "outputs": [
    {
     "data": {
      "text/latex": [
       "$\\displaystyle y = \\frac{\\sin{\\left(4 x \\right)}}{4}$"
      ],
      "text/plain": [
       "Eq(y, sin(4*x)/4)"
      ]
     },
     "execution_count": 51,
     "metadata": {},
     "output_type": "execute_result"
    }
   ],
   "source": [
    "# Now evaluate at pi/4, 0\n",
    "E3 = E2.subs({y: 0, x: sp.pi / 4 })\n",
    "E4 = E2.subs({c: 0})\n",
    "# Note that at pi/4, 0, c is 0\n",
    "E4"
   ]
  },
  {
   "cell_type": "code",
   "execution_count": 58,
   "id": "bac4012a-d490-4dd4-83e1-141a1dd8da31",
   "metadata": {},
   "outputs": [
    {
     "data": {
      "text/latex": [
       "$\\displaystyle y = c + x^{5} + x^{2} + 3 x$"
      ],
      "text/plain": [
       "Eq(y, c + x**5 + x**2 + 3*x)"
      ]
     },
     "execution_count": 58,
     "metadata": {},
     "output_type": "execute_result"
    }
   ],
   "source": [
    "# Exercise 13\n",
    "x, y, c = sp.symbols('x, y, c')\n",
    "E1 = sp.integrate(5 * x**4 + 2 * x + 3, x)\n",
    "E2 = sp.Eq(y, E1 + c)\n",
    "E2"
   ]
  },
  {
   "cell_type": "code",
   "execution_count": 61,
   "id": "164eb033-6fe3-47b4-acd5-92177154be18",
   "metadata": {},
   "outputs": [
    {
     "data": {
      "text/latex": [
       "$\\displaystyle y = x^{5} + x^{2} + 3 x - 38$"
      ],
      "text/plain": [
       "Eq(y, x**5 + x**2 + 3*x - 38)"
      ]
     },
     "execution_count": 61,
     "metadata": {},
     "output_type": "execute_result"
    }
   ],
   "source": [
    "#Evalulate at 2, 4\n",
    "E3 = E2.subs({y: 4, x: 2})\n",
    "E4 = sp.solve(E3, c)\n",
    "E5 = sp.Eq(y, E2.rhs.subs({c: -38}))\n",
    "E5"
   ]
  },
  {
   "cell_type": "code",
   "execution_count": 64,
   "id": "112db13d-1b58-47a3-94e3-3862e8ae4f4f",
   "metadata": {},
   "outputs": [
    {
     "data": {
      "text/latex": [
       "$\\displaystyle I = c + 3 x + 2 \\log{\\left(x \\right)} - \\frac{1}{x}$"
      ],
      "text/plain": [
       "Eq(I, c + 3*x + 2*log(x) - 1/x)"
      ]
     },
     "execution_count": 64,
     "metadata": {},
     "output_type": "execute_result"
    }
   ],
   "source": [
    "# Exercixe 14\n",
    "I, x, c = sp.symbols('I, x, c')\n",
    "E1 = sp.integrate((3 * x**2 + 2 * x + 1)/ x**2, x)\n",
    "E2 = sp.Eq(I, E1 + c)\n",
    "E2"
   ]
  },
  {
   "cell_type": "code",
   "execution_count": 66,
   "id": "fcbbb28f-2185-4cce-85ae-b5bab44bdfbd",
   "metadata": {},
   "outputs": [
    {
     "data": {
      "text/plain": [
       "[1]"
      ]
     },
     "execution_count": 66,
     "metadata": {},
     "output_type": "execute_result"
    }
   ],
   "source": [
    "# evalueate at 1, 3\n",
    "E3 = sp.solve(E2.subs({I: 3, x: 1}), c)\n",
    "E3"
   ]
  },
  {
   "cell_type": "code",
   "execution_count": 68,
   "id": "1b2cec73-6934-4973-bc4a-65cf82257c86",
   "metadata": {},
   "outputs": [
    {
     "data": {
      "text/latex": [
       "$\\displaystyle I = 3 x + 2 \\log{\\left(x \\right)} + 1 - \\frac{1}{x}$"
      ],
      "text/plain": [
       "Eq(I, 3*x + 2*log(x) + 1 - 1/x)"
      ]
     },
     "execution_count": 68,
     "metadata": {},
     "output_type": "execute_result"
    }
   ],
   "source": [
    "# Create new expression\n",
    "E4 = E2.subs({c: E3[0]})\n",
    "E4"
   ]
  },
  {
   "cell_type": "code",
   "execution_count": 70,
   "id": "48dbace1-6218-42d7-bf4e-cc9f5c276c14",
   "metadata": {},
   "outputs": [
    {
     "data": {
      "text/latex": [
       "$\\displaystyle - 4 x - 0.25 e^{2 x} + 2 \\sin{\\left(2 x \\right)}$"
      ],
      "text/plain": [
       "-4*x - 0.25*exp(2*x) + 2*sin(2*x)"
      ]
     },
     "execution_count": 70,
     "metadata": {},
     "output_type": "execute_result"
    }
   ],
   "source": [
    "# Exercise 15\n",
    "I, x, c = sp.symbols('I, x, c')\n",
    "E1 = sp.integrate(-4 + 4 * sp.cos(2 * x) - (1/2)* sp.E**(2 * x), x)\n",
    "E1"
   ]
  },
  {
   "cell_type": "code",
   "execution_count": 71,
   "id": "d6365d58-c603-4ff0-9256-5377f56e50d6",
   "metadata": {},
   "outputs": [
    {
     "data": {
      "text/latex": [
       "$\\displaystyle I = c - 4 x - 0.25 e^{2 x} + 2 \\sin{\\left(2 x \\right)}$"
      ],
      "text/plain": [
       "Eq(I, c - 4*x - 0.25*exp(2*x) + 2*sin(2*x))"
      ]
     },
     "execution_count": 71,
     "metadata": {},
     "output_type": "execute_result"
    }
   ],
   "source": [
    "# Evaluate at I = 0, x = 0\n",
    "E2 = sp.Eq(I, E1 + c)\n",
    "E2"
   ]
  },
  {
   "cell_type": "code",
   "execution_count": 74,
   "id": "86b41a53-237c-4dcb-9333-e90b3045c723",
   "metadata": {},
   "outputs": [
    {
     "data": {
      "text/latex": [
       "$\\displaystyle 0.25$"
      ],
      "text/plain": [
       "0.250000000000000"
      ]
     },
     "execution_count": 74,
     "metadata": {},
     "output_type": "execute_result"
    }
   ],
   "source": [
    "E3 = sp.solve(E2.subs({I:0, x:0}), c)[0]\n",
    "E3"
   ]
  },
  {
   "cell_type": "code",
   "execution_count": 75,
   "id": "0f03dc62-a96d-416b-9b03-d87725a17942",
   "metadata": {},
   "outputs": [
    {
     "data": {
      "text/latex": [
       "$\\displaystyle I = - 4 x - 0.25 e^{2 x} + 2 \\sin{\\left(2 x \\right)} + 0.25$"
      ],
      "text/plain": [
       "Eq(I, -4*x - 0.25*exp(2*x) + 2*sin(2*x) + 0.25)"
      ]
     },
     "execution_count": 75,
     "metadata": {},
     "output_type": "execute_result"
    }
   ],
   "source": [
    "# subs c value back in\n",
    "E4 = E2.subs({c: 1/4})\n",
    "E4"
   ]
  },
  {
   "cell_type": "code",
   "execution_count": 80,
   "id": "d5d3775b-a1b6-44f3-a134-991b774d4cd9",
   "metadata": {},
   "outputs": [
    {
     "data": {
      "text/latex": [
       "$\\displaystyle x^{2} + 3 x$"
      ],
      "text/plain": [
       "x**2 + 3*x"
      ]
     },
     "execution_count": 80,
     "metadata": {},
     "output_type": "execute_result"
    }
   ],
   "source": [
    "# Example 5.4\n",
    "# (i)\n",
    "# Evaluate between 4, 1\n",
    "x = sp.symbols('x')\n",
    "E1 = sp.integrate(2 * x + 3, x)\n",
    "E1"
   ]
  },
  {
   "cell_type": "code",
   "execution_count": 77,
   "id": "43df1880-5d81-4cc8-ada8-9b042099d8ac",
   "metadata": {},
   "outputs": [
    {
     "data": {
      "text/latex": [
       "$\\displaystyle 24$"
      ],
      "text/plain": [
       "24"
      ]
     },
     "execution_count": 77,
     "metadata": {},
     "output_type": "execute_result"
    }
   ],
   "source": [
    "# Now evaluate the area\n",
    "E2 = E1.subs({x: 4}) - E1.subs({x:1})\n",
    "E2"
   ]
  },
  {
   "cell_type": "code",
   "execution_count": 83,
   "id": "32e73370-9cc4-43f2-91e2-af290e4932f7",
   "metadata": {},
   "outputs": [
    {
     "data": {
      "text/latex": [
       "$\\displaystyle \\frac{19}{3}$"
      ],
      "text/plain": [
       "19/3"
      ]
     },
     "execution_count": 83,
     "metadata": {},
     "output_type": "execute_result"
    }
   ],
   "source": [
    "# (ii)\n",
    "x = sp.symbols('x')\n",
    "E1 = sp.integrate(x**2, x)\n",
    "E2 = E1.subs({x:3}) - E1.subs({x:2})\n",
    "E2"
   ]
  },
  {
   "cell_type": "code",
   "execution_count": 85,
   "id": "3b7675f3-0b53-4995-a8e9-793b4b4d4759",
   "metadata": {},
   "outputs": [
    {
     "data": {
      "text/latex": [
       "$\\displaystyle \\frac{1}{4}$"
      ],
      "text/plain": [
       "1/4"
      ]
     },
     "execution_count": 85,
     "metadata": {},
     "output_type": "execute_result"
    }
   ],
   "source": [
    "# (iii)\n",
    "x = sp.symbols('x')\n",
    "E1 = sp.integrate(1 / x**2, x)\n",
    "E2 = E1.subs({x: 4}) - E1.subs({x:2})\n",
    "E2"
   ]
  },
  {
   "cell_type": "code",
   "execution_count": 87,
   "id": "eba1f89a-442e-4204-a906-adf4cc111046",
   "metadata": {},
   "outputs": [
    {
     "data": {
      "text/latex": [
       "$\\displaystyle - a + b$"
      ],
      "text/plain": [
       "-a + b"
      ]
     },
     "execution_count": 87,
     "metadata": {},
     "output_type": "execute_result"
    }
   ],
   "source": [
    "# (iv)\n",
    "x, a, b = sp.symbols('x, a, b')\n",
    "E1 = sp.integrate(1, x)\n",
    "E2 = E1.subs({x: b}) - E1.subs({x: a})\n",
    "E2"
   ]
  },
  {
   "cell_type": "code",
   "execution_count": 91,
   "id": "e4bbac6e-3975-43e4-8d71-ff6a9d1e1e48",
   "metadata": {},
   "outputs": [
    {
     "data": {
      "text/latex": [
       "$\\displaystyle 1$"
      ],
      "text/plain": [
       "1"
      ]
     },
     "execution_count": 91,
     "metadata": {},
     "output_type": "execute_result"
    }
   ],
   "source": [
    "# (v)\n",
    "theta = sp.symbols('theta')\n",
    "E1 = sp.integrate(sp.sin(theta), theta)\n",
    "E2 = E1.subs({theta: sp.pi / 2}) - E1.subs({theta: 0})\n",
    "E2"
   ]
  },
  {
   "cell_type": "code",
   "execution_count": 93,
   "id": "7d5fb6b2-af86-477f-8689-e6f4595462d4",
   "metadata": {},
   "outputs": [
    {
     "data": {
      "text/latex": [
       "$\\displaystyle - \\frac{1}{2 e^{2}} + \\frac{e^{2}}{2}$"
      ],
      "text/plain": [
       "-exp(-2)/2 + exp(2)/2"
      ]
     },
     "execution_count": 93,
     "metadata": {},
     "output_type": "execute_result"
    }
   ],
   "source": [
    "# (vi)\n",
    "t = sp.symbols('t')\n",
    "E1 = sp.integrate(sp.E**(-2 * t))\n",
    "E2 = E1.subs({t: 1}) - E1.subs({t: -1})\n",
    "E2"
   ]
  },
  {
   "cell_type": "code",
   "execution_count": 97,
   "id": "4cff5b29-0b80-4f25-8557-c32e42c2d790",
   "metadata": {},
   "outputs": [
    {
     "data": {
      "text/latex": [
       "$\\displaystyle -1 + \\log{\\left(\\frac{27}{4} \\right)}$"
      ],
      "text/plain": [
       "-1 + log(27/4)"
      ]
     },
     "execution_count": 97,
     "metadata": {},
     "output_type": "execute_result"
    }
   ],
   "source": [
    "# (vii)\n",
    "x = sp.symbols('x')\n",
    "E1 = sp.integrate(sp.ln(x), x)\n",
    "E2 = E1.subs({x: 3}) - E1.subs({x:2})\n",
    "sp.simplify(E2)"
   ]
  },
  {
   "cell_type": "code",
   "execution_count": 100,
   "id": "95031352-3e2e-4838-bc4c-a538566ed8a6",
   "metadata": {},
   "outputs": [
    {
     "data": {
      "text/latex": [
       "$\\displaystyle 0$"
      ],
      "text/plain": [
       "0"
      ]
     },
     "execution_count": 100,
     "metadata": {},
     "output_type": "execute_result"
    }
   ],
   "source": [
    "# Section 5.3\n",
    "# 16\n",
    "x = sp.symbols('x')\n",
    "E1 = sp.integrate(2 * x**2 + 3 * x + 4, x)\n",
    "E2 = E2.subs({x: 1}) - E2.subs({x:-1})\n",
    "E2"
   ]
  },
  {
   "cell_type": "code",
   "execution_count": 105,
   "id": "715a918e-5dea-4da4-adee-120983245a70",
   "metadata": {},
   "outputs": [
    {
     "data": {
      "text/latex": [
       "$\\displaystyle 2$"
      ],
      "text/plain": [
       "2"
      ]
     },
     "execution_count": 105,
     "metadata": {},
     "output_type": "execute_result"
    }
   ],
   "source": [
    "# 17 \n",
    "x = sp.symbols('x')\n",
    "E1 = sp.integrate(1, x)\n",
    "E2 = E1.subs({x: 5}) - E1.subs({x: 3})\n",
    "E2"
   ]
  },
  {
   "cell_type": "code",
   "execution_count": 107,
   "id": "2bc5c789-61b5-4f82-985e-b6f6272a7727",
   "metadata": {},
   "outputs": [
    {
     "data": {
      "text/latex": [
       "$\\displaystyle \\frac{3}{8}$"
      ],
      "text/plain": [
       "3/8"
      ]
     },
     "execution_count": 107,
     "metadata": {},
     "output_type": "execute_result"
    }
   ],
   "source": [
    "# 18\n",
    "u = sp.symbols('u')\n",
    "E1 = sp.integrate(1 / u**3, u)\n",
    "E2 = E1.subs({u: 2}) - E1.subs({u:1})\n",
    "E2"
   ]
  },
  {
   "cell_type": "code",
   "execution_count": 109,
   "id": "a78720cd-9c98-4ca3-8779-503bf9fee9a0",
   "metadata": {},
   "outputs": [
    {
     "data": {
      "text/latex": [
       "$\\displaystyle \\log{\\left(\\frac{5}{4} \\right)}$"
      ],
      "text/plain": [
       "log(5/4)"
      ]
     },
     "execution_count": 109,
     "metadata": {},
     "output_type": "execute_result"
    }
   ],
   "source": [
    "# 19\n",
    "v = sp.symbols('v')\n",
    "E1 = sp.integrate(1 / (v + 2), v)\n",
    "E2 = E1.subs({v:3}) - E1.subs({v:2})\n",
    "E2.simplify()"
   ]
  },
  {
   "cell_type": "code",
   "execution_count": 114,
   "id": "8fb539d7-11ca-47e3-bb9f-8af4cbc2fc04",
   "metadata": {},
   "outputs": [
    {
     "data": {
      "text/latex": [
       "$\\displaystyle - \\frac{1 - e^{12}}{3 e^{15}}$"
      ],
      "text/plain": [
       "-(1 - exp(12))*exp(-15)/3"
      ]
     },
     "execution_count": 114,
     "metadata": {},
     "output_type": "execute_result"
    }
   ],
   "source": [
    "# 20\n",
    "t = sp.symbols('t')\n",
    "E1 = sp.integrate(sp.E**(-3 * t), t)\n",
    "E2 = E1.subs({t:5}) - E1.subs({t:1})\n",
    "E2.simplify()"
   ]
  },
  {
   "cell_type": "code",
   "execution_count": 116,
   "id": "10229b95-ff4d-46a2-a473-a5308e5cfd10",
   "metadata": {},
   "outputs": [
    {
     "data": {
      "text/latex": [
       "$\\displaystyle 1$"
      ],
      "text/plain": [
       "1"
      ]
     },
     "execution_count": 116,
     "metadata": {},
     "output_type": "execute_result"
    }
   ],
   "source": [
    "# 21\n",
    "theta = sp.symbols('theta')\n",
    "E1 = sp.integrate(sp.cos(theta), theta)\n",
    "E2 = E1.subs({theta: sp.pi / 2}) - E1.subs({theta: 0})\n",
    "E2"
   ]
  },
  {
   "cell_type": "code",
   "execution_count": 117,
   "id": "532026ca-9081-4018-8ede-75df4b688f70",
   "metadata": {},
   "outputs": [
    {
     "data": {
      "text/latex": [
       "$\\displaystyle 0$"
      ],
      "text/plain": [
       "0"
      ]
     },
     "execution_count": 117,
     "metadata": {},
     "output_type": "execute_result"
    }
   ],
   "source": [
    "# 22\n",
    "theta = sp.symbols('theta')\n",
    "E1 = sp.integrate(sp.cos(3 * theta), theta)\n",
    "E2 = E1.subs({theta: sp.pi}) - E1.subs({theta: 0})\n",
    "E2"
   ]
  },
  {
   "cell_type": "code",
   "execution_count": 118,
   "id": "e3c9498c-a95c-47f5-85d1-40029df190ef",
   "metadata": {},
   "outputs": [
    {
     "data": {
      "text/latex": [
       "$\\displaystyle - \\frac{1}{2}$"
      ],
      "text/plain": [
       "-1/2"
      ]
     },
     "execution_count": 118,
     "metadata": {},
     "output_type": "execute_result"
    }
   ],
   "source": [
    "# 23\n",
    "s = sp.symbols('x')\n",
    "E1 = sp.integrate(sp.sin(2 * x))\n",
    "E2 = E1.subs({x: 0}) - E1.subs({x: -sp.pi / 4})\n",
    "E2"
   ]
  },
  {
   "cell_type": "code",
   "execution_count": null,
   "id": "590374b6-4cb8-4168-94ba-5d8199d08a72",
   "metadata": {},
   "outputs": [],
   "source": []
  }
 ],
 "metadata": {
  "kernelspec": {
   "display_name": "Python 3",
   "language": "python",
   "name": "python3"
  },
  "language_info": {
   "codemirror_mode": {
    "name": "ipython",
    "version": 3
   },
   "file_extension": ".py",
   "mimetype": "text/x-python",
   "name": "python",
   "nbconvert_exporter": "python",
   "pygments_lexer": "ipython3",
   "version": "3.9.2"
  }
 },
 "nbformat": 4,
 "nbformat_minor": 5
}
