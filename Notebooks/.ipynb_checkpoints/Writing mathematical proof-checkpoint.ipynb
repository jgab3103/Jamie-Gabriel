{
 "cells": [
  {
   "cell_type": "markdown",
   "metadata": {},
   "source": [
    "<b>Writing effective proofs</b>"
   ]
  },
  {
   "cell_type": "markdown",
   "metadata": {},
   "source": [
    "Writing math proofs can be difficult. \n",
    "\n",
    "The way I would suggest thinking of like instructions or a specfication, that you migth like to give a computer, a precise set of instructions. Proof is the ability to transfer this information, this means proof is a program. This leads to all kinds of haskell curry . This has creatd aot of very opaque work, that corresondence, which gets horribly over complicated. And it also something that is self evident to computer scientist. Very powerful, but at times inexplicable\n",
    "\n",
    "There will be lots of assumptions, talk of axiomsThe only assumption that I will make, is that I can name something, I tend not to think about this, simplify, I can names something\n",
    "\n",
    "<b>Proofs that are terrible</b>\n",
    "There are alot of mathematicians, who I love, great, but their proofs are woeful. \n",
    "\n",
    "<b>Different type of statements</b>\n",
    "asdfa\n",
    "\n",
    "<b>Variables should be arbirary</b>\n",
    "Oen thing I can't stand.... \n",
    "\n",
    "\n",
    "<b>Everything is a function</b>\n",
    "THis is complicated, functions and types and type theory and logic and lamda calculus. The way I tend to think of this\n",
    "\n",
    "- function that takes no inputs and returns a single object\n",
    "- function that takes an input of no more than two objects and returns a single ojbect \n",
    "\n",
    "For the first, input, gives an integer. For the second, parallel. \n",
    "\n",
    "What's interesting is labelling arbitrary. So the issue of not accepting that somehting is a all pervasive truth. So EUclid postulate, that two parallel lines, never meet is not the issue, the important thing is that a proof is consistency\n",
    "\n",
    "<b>Variable names need to be arbirary</b>\n",
    "Names that are objects\n",
    "\n",
    "\n",
    "\n",
    "\n",
    "<b>Everything is Memoisation</b>\n",
    "I tend to think of everything as a memoisation. "
   ]
  },
  {
   "cell_type": "code",
   "execution_count": null,
   "metadata": {},
   "outputs": [],
   "source": []
  }
 ],
 "metadata": {
  "kernelspec": {
   "display_name": "SageMath 9.0",
   "language": "sage",
   "name": "sagemath"
  },
  "language_info": {
   "codemirror_mode": {
    "name": "ipython",
    "version": 3
   },
   "file_extension": ".py",
   "mimetype": "text/x-python",
   "name": "python",
   "nbconvert_exporter": "python",
   "pygments_lexer": "ipython3",
   "version": "3.7.3"
  }
 },
 "nbformat": 4,
 "nbformat_minor": 4
}
