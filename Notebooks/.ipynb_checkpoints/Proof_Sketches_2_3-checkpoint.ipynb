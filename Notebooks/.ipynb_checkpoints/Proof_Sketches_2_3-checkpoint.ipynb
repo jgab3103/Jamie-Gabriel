{
 "cells": [
  {
   "cell_type": "code",
   "execution_count": 1,
   "metadata": {},
   "outputs": [],
   "source": [
    "import sympy as sp\n",
    "import numpy as np\n",
    "import shared_functions as sf"
   ]
  },
  {
   "cell_type": "markdown",
   "metadata": {},
   "source": [
    "<h3>Overview</h3><br/>\n",
    "This section focus on the cross product, a critical step up for us to move from oriented triangles where one of the points is $[0, 0]$ to orientated triangles without restrictions. The cross product is a function that takes two vectors as inputs, and returns a number. In these proofs, we will start by looking at the basic properties of the cross product and then move into its applications in triangles, parallelograms, lines and circles. This new generalisation also allows us to prove some, Crelle's formula\n",
    "\n",
    "<h3>Proofs</h3>\n",
    "<div>24 proofs in this section, all about cross product and cross ratio</div>\n",
    "<br/>\n",
    "\n",
    "[Proof 2_3_2_i](#2_3_2_i)<br/>\n",
    "<i>Proposition:</i> The cross product is distributive $ \\overset{\\rightharpoonup}u \\times (\\overset{\\rightharpoonup}v+\\overset{\\rightharpoonup}w)=\\overset{\\rightharpoonup}u \\times \\overset{\\rightharpoonup}v +\\overset{\\rightharpoonup} u \\times \\overset{\\rightharpoonup}w $\n",
    "\n",
    "\n",
    "[Proof 2_3_2_ii](#2_3_2_ii)<br/>\n",
    "<i>Proposition:</i> The cross product is commutative $ (\\overset{\\rightharpoonup}u +\\overset{\\rightharpoonup}v)\\times\\overset{\\rightharpoonup}w=\\overset{\\rightharpoonup}u \\times \\overset{\\rightharpoonup}w +\\overset{\\rightharpoonup} v \\times \\overset{\\rightharpoonup}w$\n",
    "\n",
    "\n",
    "[Proof 2_3_2_iii](#2_3_2_iii)<br/>\n",
    "<i>Proposition:</i> The cross product has a linear property whereby $ (\\lambda\\overset{\\rightharpoonup}u )\\times \\overset{\\rightharpoonup}v =\\lambda(\\overset{\\rightharpoonup} u \\times \\overset{\\rightharpoonup}v)=\\overset{\\rightharpoonup} u \\times (\\lambda\\overset{\\rightharpoonup}v)$\n",
    "\n",
    "[Proof 2_3_3](#2_3_3_i)<br/>\n",
    "<i>Proposition:</i> The cross product has the following skew symmetric product:  $ \\overset{\\rightharpoonup}u\\times \\overset{\\rightharpoonup}v=-\\overset{\\rightharpoonup}v\\times \\overset{\\rightharpoonup}u$\n",
    "\n",
    "[Proof 2_3_3_ii](#2_3_3_ii)<br/>\n",
    "<i>Proposition:</i> The cross product has the following skew symmetric product:  $ \\overset{\\rightharpoonup}u\\times \\overset{\\rightharpoonup}u=0.$\n",
    "\n",
    "[Proof 2_3_4](#2_3_4)<br/>\n",
    "<i>Proposition:</i> If $ \\overset{\\rightharpoonup}{u}+\\overset{\\rightharpoonup}{v}+\\overset{\\rightharpoonup}{w} =\\overset{\\rightharpoonup}0$ then $\\overset{\\rightharpoonup}{u} \\times \\overset{\\rightharpoonup}{v}=\\overset{\\rightharpoonup}{v}\\times \\overset{\\rightharpoonup}{w}=\\overset{\\rightharpoonup}{w}\\times \\overset{\\rightharpoonup}{u}.$\n",
    "\n",
    "\n",
    "[Proof 2_3_5](#2_3_5)<br/>\n",
    "<i>Proposition:</i>The cross product of the diagonals $\\overset{\\rightharpoonup}{AC} \\times \\overset{\\rightharpoonup}{BD}$ of a parallelogram $\\overline{ABCD}$ is twice the cross-product of$\\overset{\\rightharpoonup}{AB} \\times \\overset{\\rightharpoonup}{AD}$.\n",
    "\n",
    "\n",
    "[Proof 2_3_6](#2_3_6)<br/>\n",
    "<i>Proposition:</i>The cross product of the diagonals $\\overset{\\rightharpoonup}{AC} \\times \\overset{\\rightharpoonup}{BD}$ of a general quadrilateral $\\overline{ABCD}$ equals $\\overset{\\rightharpoonup}{AB} \\times \\overset{\\rightharpoonup}{AD}+\\overset{\\rightharpoonup}{BC} \\times \\overset{\\rightharpoonup}{CD}$.\n",
    "\n",
    "[Proof 2_3_7](#2_3_7)<br/>\n",
    "<i>Proposition:</i>If a linear transformation $T({(x,y)})=(\\alpha x+\\gamma y, \\beta x+\\delta y)$ is defined for any vectors $\\overset{\\rightharpoonup}{v}$ and $\\overset{\\rightharpoonup}{w}$  then $\\det(T)=\\alpha\\delta-\\beta\\gamma$ is the determinant of $T$\n",
    "\n",
    "\n",
    "[Proof 2_3_8](#2_3_8)<br/>\n",
    "<i>Proposition:</i>For any orientated triangle $\\widetilde{ABC}$ it is the case that $ \\overset{\\rightharpoonup}{AB}\\times \\overset{\\rightharpoonup}{AC}=\\overset{\\rightharpoonup}{BC}\\times \\overset{\\rightharpoonup}{BA}=\\overset{\\rightharpoonup}{CA}\\times \\overset{\\rightharpoonup}{CB}.$\n",
    "\n",
    "\n",
    "[Proof 2_3_9](#2_3_9)<br/>\n",
    "<i>Proposition:</i>$s(\\widetilde{OAB})+s(\\widetilde{OBC})+s(\\widetilde{OCA})=\\frac{\\overset{\\rightharpoonup}{AB}\\times \\overset{\\rightharpoonup}{AC}}{2}$ for any arbitrary orientated triangle $ \\widetilde{ABC}$\n",
    "\n",
    "[Proof 2_3_10](#2_3_10)<br/>\n",
    "<i>Proposition:</i>If A, B and C are collinear points then $s(\\widetilde{ABC})=0$.\n",
    "\n",
    "\n",
    "[Proof 2_3_12](#2_3_12)<br/>\n",
    "<i>Proposition:</i>For a given oriented triangle $\\widetilde{ABC}$, for a a point $D$ on the line $AB$, it is the case that $s(\\widetilde{ABC})=s(\\widetilde{ADC})+s(\\widetilde{DBC}).$\n",
    "\n",
    "\n",
    "\n",
    "[Proof 2_3_14](#2_3_14)<br/>\n",
    "<i>Proposition:</i>If $E$ is a point on $AB$, then $s(\\widetilde{ABC})=\\frac {\\overset{\\rightharpoonup}{AB} \\times \\overset{\\rightharpoonup}{EC}}{2}.$\n",
    "\n",
    "\n",
    "[Proof 2_3_15](#2_3_15)<br/>\n",
    "<i>Proposition:</i>Use the Sliding signed area formula to show that if A=[a,c] and B=[b,c] so that AB is horizontal (with equation y=c), and if C=[d,e] is an arbitrary third point, then the signed area of the oriented triangle $s(\\widetilde{ABC})$ is $s(\\widetilde{ABC})=\\frac12(b-a)(e-c).$. Note that the signed area does not depend on the x-coordinate of the point C.\n",
    "\n",
    "\n",
    "[Proof 2_3_16](#2_3_16)<br/>\n",
    "<i>Proposition:</i>if A,B and D are collinear, then for any point C it is the case that $s(\\widetilde{ABC}):s(\\widetilde{BDC})= \\overset{\\rightharpoonup}{AB}:\\overset{\\rightharpoonup}{BD}.$\n",
    "\n",
    "[Proof 2_3_17](#2_3_17)<br/>\n",
    "<i>Proposition:</i>If AB meets CD at the point E, then $\\frac {s(\\widetilde{ABC})}{s(\\widetilde{ABD})}= \\frac{\\overset{\\rightharpoonup}{EC}}{\\overset{\\rightharpoonup}{ED}}.$\n",
    "Note - also known as crelle's area principle\n",
    "\n",
    "\n",
    "[Proof 2_3_18](#2_3_18)<br/>\n",
    "<i>Proposition:</i>Crelle's area principle can be used to solve Ceva's Theorem\n",
    "\n",
    "[Proof 2_3_19](#2_3_19)<br/>\n",
    "<i>Proposition:</i>Let A=[r,r2],B=[s,s2],C=[t,t2] be three general points on the parabola y=x2. Show that the signed area of the oriented triangle ABC˜ in terms of r,s,t is $s(\\widetilde{ABC})=\\frac12(s-r)(t-r)(t-s).$\n",
    "\n",
    "\n",
    "[Proof 2_3_21](#2_3_21)<br/>\n",
    "<i>Proposition:</i>If a general oint on $x^2+y^2=1$ can be described as $e(t)=\\left[\\frac{1-t^2}{1+t^2},\\frac{2t}{1+t^2}\\right].$, if if A=e(r), B=e(s), C=e(t) then $s(\\widetilde{ABC})=2\\frac{(s-r)(t-r)(t-s)}{(1+r^2)(1+s^2)(1+t^2)}.$\n",
    "\n",
    "\n",
    "[Proof 2_3_22](#2_3_22)<br/>\n",
    "<i>Proposition:</i>if A1=[a1,0],A2=[a2,0],A3=[a3,0] and A4=[a4,0] then the cross ratio r(A1,A2:A3,A4) is the number $r(A_1,A_2:A_3,A_4)=\\big(\\frac {(a_3-a_1)}{(a_3-a_2)}\\big) / \\big(\\frac {(a_4-a_1)}{(a_4-a_2)}\\big).$\n",
    "\n",
    "[Proof 2_3_24](#2_3_24)<br/>\n",
    "<i>Proposition:</i>if $\\overset{\\rightharpoonup}{v_1}=(1,a_1), \\overset{\\rightharpoonup}{v_2}=(1,a_2), \\overset{\\rightharpoonup}{v_3}=(1,a_3)$ and $\\overset{\\rightharpoonup}{v_4}=(1,a_4)$ then $R(\\overset{\\rightharpoonup}{v_1},\\overset{\\rightharpoonup}{v_2}:\\overset{\\rightharpoonup}{v_3},\\overset{\\rightharpoonup}{v_4})=\\frac {(a_3-a_1)(a_4-a_2)}{(a_3-a_2)(a_4-a_1)}.$ \n",
    "\n",
    "[Proof 2_3_25](#2_3_25)<br/>\n",
    "<i>Proposition:</i>For any vectors $\\overset{\\rightharpoonup}{v_1}, \\overset{\\rightharpoonup}{v_2}, \\overset{\\rightharpoonup}{v_3}$ and $\\overset{\\rightharpoonup}{v_4}$ and scalars $\\lambda_1,\\lambda_2,\\lambda_3$ and $\\lambda_4$ then $R(\\lambda_1\\overset{\\rightharpoonup}{v_1},\\lambda_2\\overset{\\rightharpoonup}{v_2}:\\lambda_3\\overset{\\rightharpoonup}{v_3},\\lambda_4\\overset{\\rightharpoonup}{v_4})= R(\\overset{\\rightharpoonup}{v_1},\\overset{\\rightharpoonup}{v_2}:\\overset{\\rightharpoonup}{v_3},\\overset{\\rightharpoonup}{v_4}).$\n",
    "\n",
    "\n",
    "\n",
    "[Proof 2_3_26](#2_3_26)<br/>\n",
    "<i>Proposition:</i>For any vectors $\\overset{\\rightharpoonup}{v_1}, \\overset{\\rightharpoonup}{v_2}, \\overset{\\rightharpoonup}{v_3}$ and $\\overset{\\rightharpoonup}{v_4}$ it is the case that $R(T(\\overset{\\rightharpoonup}{v_1}),T(\\overset{\\rightharpoonup}{v_2}):T(\\overset{\\rightharpoonup}{v_3}),T(\\overset{\\rightharpoonup}{v_4}))= R(\\overset{\\rightharpoonup}{v_1},\\overset{\\rightharpoonup}{v_2}:\\overset{\\rightharpoonup}{v_3},\\overset{\\rightharpoonup}{v_4}).$\n",
    "\n",
    "\n",
    "[Proof 2_3_27](#2_3_27)<br/>\n",
    "<i>Proposition:</i> if four concurrent lines ℓ1,ℓ2,ℓ3 and ℓ4 meet a fifth line m respectively at points A1,A2,A3 and A4 then $r(A_1,A_2:A_3,A_4)=R(\\ell_1,\\ell_2:\\ell_3,\\ell_4).$\n",
    "\n",
    "\n",
    "\n",
    "[Proof 2_3_28_i](#2_3_28_1)<br/>\n",
    "<i>Proposition:</i> Suppose that Ai=[ti,t2i] for i=0,1,2,3,4 are five points on the standard parabola y=x2. We regard  A1,A2,A3,A4 as fixed and define the lines ℓi=A0Ai for i=1,2,3 and 4, which are then concurrent. If so it must the ase that $$ R(\\ell_1,\\ell_2:\\ell_3,\\ell_4)=\\big(\\frac {(t_3-t_1)}{(t_3-t_2)}\\big) / \\big(\\frac {(t_4-t_1)}{(t_4-t_2)}\\big).$$ and cross ratio, $R(\\ell_1,\\ell_2:\\ell_3,\\ell_4)$ is independent position of A0 on the parabola,and Interpret this theorem in terms of signed areas of triangles formed by the five points on the parabola.\n",
    "\n"
   ]
  },
  {
   "cell_type": "code",
   "execution_count": 112,
   "metadata": {},
   "outputs": [],
   "source": [
    "# There are some better functions in Sympy and Sage to do this, but we want to keep things as simple as possible for te moment\n",
    "def calculate_cross_product(v1, v2):\n",
    "    return(v1[0] * v2[1] - v1[1]*v2[0])"
   ]
  },
  {
   "cell_type": "markdown",
   "metadata": {},
   "source": [
    "### 2_3_2_i <a class=\"anchor\" id=\"2_3_2_i\"></a>\n",
    "<i>Proposition:</i> The cross product is distributive $ \\overset{\\rightharpoonup}u \\times (\\overset{\\rightharpoonup}v+\\overset{\\rightharpoonup}w)=\\overset{\\rightharpoonup}u \\times \\overset{\\rightharpoonup}v +\\overset{\\rightharpoonup} u \\times \\overset{\\rightharpoonup}w $\n"
   ]
  },
  {
   "cell_type": "code",
   "execution_count": 3,
   "metadata": {},
   "outputs": [],
   "source": [
    "a, b, c, d, e, f = var('a, b, c, d, e, f ')\n",
    "# Let a, b, c, d, e, f  be integers "
   ]
  },
  {
   "cell_type": "code",
   "execution_count": 4,
   "metadata": {},
   "outputs": [],
   "source": [
    "S1 = np.array([a, b])\n",
    "# Let S1 be a vector constructed from integers a and b"
   ]
  },
  {
   "cell_type": "code",
   "execution_count": 5,
   "metadata": {},
   "outputs": [],
   "source": [
    "S2 = np.array([c, d])\n",
    "# Let S2 be a vector constructed from integers c and d"
   ]
  },
  {
   "cell_type": "code",
   "execution_count": 6,
   "metadata": {},
   "outputs": [],
   "source": [
    "S3 = np.array([e, f])\n",
    "# Let S3 be a vector constructed from integers e and f"
   ]
  },
  {
   "cell_type": "code",
   "execution_count": 7,
   "metadata": {},
   "outputs": [
    {
     "data": {
      "text/plain": [
       "-b*c + a*d - b*e + a*f"
      ]
     },
     "execution_count": 7,
     "metadata": {},
     "output_type": "execute_result"
    }
   ],
   "source": [
    "S5 = calculate_cross_product(S1, S2 + S3).expand()\n",
    "S5\n",
    "# Let S5 be the cross product of S1, and the addition of S2 and S3"
   ]
  },
  {
   "cell_type": "code",
   "execution_count": 8,
   "metadata": {},
   "outputs": [
    {
     "data": {
      "text/plain": [
       "-b*c + a*d - b*e + a*f"
      ]
     },
     "execution_count": 8,
     "metadata": {},
     "output_type": "execute_result"
    }
   ],
   "source": [
    "S6 = calculate_cross_product(S1, S2) + calculate_cross_product(S1, S3)\n",
    "S6\n",
    "# Let S6 be the cross product of S1 and S2, added to the cross product of \n",
    "# S1 and S3"
   ]
  },
  {
   "cell_type": "code",
   "execution_count": 9,
   "metadata": {},
   "outputs": [],
   "source": [
    "# S6 is equivalent to S5, so the proposition is true"
   ]
  },
  {
   "cell_type": "markdown",
   "metadata": {},
   "source": [
    "### 2_3_2_ii <a class=\"anchor\" id=\"2_3_2_ii\"></a>\n",
    "<i>Proposition:</i> The cross product is commutative $ (\\overset{\\rightharpoonup}u +\\overset{\\rightharpoonup}v)\\times\\overset{\\rightharpoonup}w=\\overset{\\rightharpoonup}u \\times \\overset{\\rightharpoonup}w +\\overset{\\rightharpoonup} v \\times \\overset{\\rightharpoonup}w$"
   ]
  },
  {
   "cell_type": "code",
   "execution_count": 10,
   "metadata": {},
   "outputs": [],
   "source": [
    "a, b, c, d, e, f = var('a, b, c, d, e, f ')\n",
    "# Let a, b, c, d, e, f  be integers "
   ]
  },
  {
   "cell_type": "code",
   "execution_count": 11,
   "metadata": {},
   "outputs": [],
   "source": [
    "S1 = np.array([a, b])\n",
    "# Let S1 be a vector constructed from integers a and b"
   ]
  },
  {
   "cell_type": "code",
   "execution_count": 12,
   "metadata": {},
   "outputs": [],
   "source": [
    "S2 = np.array([c, d])\n",
    "# Let S2 be a vector constructed from integers c and d"
   ]
  },
  {
   "cell_type": "code",
   "execution_count": 13,
   "metadata": {},
   "outputs": [],
   "source": [
    "S3 = np.array([e, f])\n",
    "# Let S3 be a vector constructed from integers e and f"
   ]
  },
  {
   "cell_type": "code",
   "execution_count": 14,
   "metadata": {},
   "outputs": [
    {
     "data": {
      "text/plain": [
       "-b*e - d*e + a*f + c*f"
      ]
     },
     "execution_count": 14,
     "metadata": {},
     "output_type": "execute_result"
    }
   ],
   "source": [
    "S4 = calculate_cross_product(S1 + S2, S3).expand()\n",
    "S4\n",
    "# Let S5 be the cross product of S1, and the addition of S2 and S3"
   ]
  },
  {
   "cell_type": "code",
   "execution_count": 15,
   "metadata": {},
   "outputs": [
    {
     "data": {
      "text/plain": [
       "-b*e - d*e + a*f + c*f"
      ]
     },
     "execution_count": 15,
     "metadata": {},
     "output_type": "execute_result"
    }
   ],
   "source": [
    "S6 = calculate_cross_product(S1, S3) + calculate_cross_product(S2, S3)\n",
    "S6"
   ]
  },
  {
   "cell_type": "markdown",
   "metadata": {},
   "source": [
    "### 2_3_2_iii <a class=\"anchor\" id=\"2_3_2_iii\"></a>\n",
    "<i>Proposition:</i> The cross product has a linear property whereby $ (\\lambda\\overset{\\rightharpoonup}u )\\times \\overset{\\rightharpoonup}v =\\lambda(\\overset{\\rightharpoonup} u \\times \\overset{\\rightharpoonup}v)=\\overset{\\rightharpoonup} u \\times (\\lambda\\overset{\\rightharpoonup}v)$\n"
   ]
  },
  {
   "cell_type": "code",
   "execution_count": 16,
   "metadata": {},
   "outputs": [],
   "source": [
    "a, b, c, d, s = sp.symbols(\"a, b, c, d, s\")"
   ]
  },
  {
   "cell_type": "code",
   "execution_count": 17,
   "metadata": {},
   "outputs": [],
   "source": [
    "S1 = np.array([a, b])\n",
    "# let S1 be a Vector constructed integers a and b"
   ]
  },
  {
   "cell_type": "code",
   "execution_count": 18,
   "metadata": {},
   "outputs": [],
   "source": [
    "S2 = np.array([c, d])\n",
    "#Let S2 be a Vector constructed integers c and d"
   ]
  },
  {
   "cell_type": "code",
   "execution_count": 19,
   "metadata": {},
   "outputs": [],
   "source": [
    "# S4:  Let s be any scalar integer"
   ]
  },
  {
   "cell_type": "code",
   "execution_count": 20,
   "metadata": {},
   "outputs": [
    {
     "data": {
      "text/latex": [
       "$\\displaystyle a d s - b c s$"
      ],
      "text/plain": [
       "a*d*s - b*c*s"
      ]
     },
     "execution_count": 20,
     "metadata": {},
     "output_type": "execute_result"
    }
   ],
   "source": [
    "S5 = calculate_cross_product(s * S1, S2)\n",
    "S5"
   ]
  },
  {
   "cell_type": "code",
   "execution_count": 21,
   "metadata": {},
   "outputs": [
    {
     "data": {
      "text/latex": [
       "$\\displaystyle a d s - b c s$"
      ],
      "text/plain": [
       "a*d*s - b*c*s"
      ]
     },
     "execution_count": 21,
     "metadata": {},
     "output_type": "execute_result"
    }
   ],
   "source": [
    "S6 = calculate_cross_product(S1, s * S2)\n",
    "S6"
   ]
  },
  {
   "cell_type": "code",
   "execution_count": 22,
   "metadata": {},
   "outputs": [],
   "source": [
    "# Conclusion: Proposition is true"
   ]
  },
  {
   "cell_type": "markdown",
   "metadata": {},
   "source": [
    "### 2_3_3_i <a class=\"anchor\" id=\"2_3_3_i\"></a>\n",
    "<i>Proposition:</i> The cross product has the following skew symmetric product:  $ \\overset{\\rightharpoonup}u\\times \\overset{\\rightharpoonup}v=-\\overset{\\rightharpoonup}v\\times \\overset{\\rightharpoonup}u$"
   ]
  },
  {
   "cell_type": "code",
   "execution_count": 23,
   "metadata": {},
   "outputs": [],
   "source": [
    "a, b, c, d = sp.symbols(\"a, b, c, d\")\n",
    "# Let a, b, c and d be integers"
   ]
  },
  {
   "cell_type": "code",
   "execution_count": 24,
   "metadata": {},
   "outputs": [],
   "source": [
    "S1 = np.array([a, b])\n",
    "# Let S1 be an vector constructed from integers a and b"
   ]
  },
  {
   "cell_type": "code",
   "execution_count": 25,
   "metadata": {},
   "outputs": [],
   "source": [
    "S2 = np.array([c, d])\n",
    "# Let S2 be a vector constructed from integers c and d"
   ]
  },
  {
   "cell_type": "code",
   "execution_count": 26,
   "metadata": {},
   "outputs": [
    {
     "data": {
      "text/latex": [
       "$\\displaystyle a d - b c$"
      ],
      "text/plain": [
       "a*d - b*c"
      ]
     },
     "execution_count": 26,
     "metadata": {},
     "output_type": "execute_result"
    }
   ],
   "source": [
    "S3 = calculate_cross_product(S1, S2)\n",
    "S3\n",
    "# Let S3 be a cross product constructed from S1 and S2"
   ]
  },
  {
   "cell_type": "code",
   "execution_count": 27,
   "metadata": {},
   "outputs": [
    {
     "data": {
      "text/latex": [
       "$\\displaystyle a d - b c$"
      ],
      "text/plain": [
       "a*d - b*c"
      ]
     },
     "execution_count": 27,
     "metadata": {},
     "output_type": "execute_result"
    }
   ],
   "source": [
    "S4 = calculate_cross_product(-S2, S1)\n",
    "S4\n",
    "# Let S4 be a cross product constructed from -S2 and S1"
   ]
  },
  {
   "cell_type": "code",
   "execution_count": 28,
   "metadata": {},
   "outputs": [],
   "source": [
    "# Conclusion: Proposition is True"
   ]
  },
  {
   "cell_type": "markdown",
   "metadata": {},
   "source": [
    "### 2_3_3_ii <a class=\"anchor\" id=\"2_3_3_ii\"></a>\n",
    "<i>Proposition:</i> The cross product has the following skew symmetric product:  $ \\overset{\\rightharpoonup}u\\times \\overset{\\rightharpoonup}u=0.$"
   ]
  },
  {
   "cell_type": "code",
   "execution_count": 29,
   "metadata": {},
   "outputs": [],
   "source": [
    "a, b = sp.symbols('a, b')\n",
    "# Let a and b be integers"
   ]
  },
  {
   "cell_type": "code",
   "execution_count": 30,
   "metadata": {},
   "outputs": [],
   "source": [
    "S1 = np.array([a, b])\n",
    "# Let S1 be a vector constructed from integers a and b"
   ]
  },
  {
   "cell_type": "code",
   "execution_count": 31,
   "metadata": {},
   "outputs": [
    {
     "data": {
      "text/latex": [
       "$\\displaystyle 0$"
      ],
      "text/plain": [
       "0"
      ]
     },
     "execution_count": 31,
     "metadata": {},
     "output_type": "execute_result"
    }
   ],
   "source": [
    "S2 = calculate_cross_product(S1, S1)\n",
    "S2"
   ]
  },
  {
   "cell_type": "code",
   "execution_count": 32,
   "metadata": {},
   "outputs": [
    {
     "data": {
      "text/latex": [
       "$\\displaystyle 0$"
      ],
      "text/plain": [
       "0"
      ]
     },
     "execution_count": 32,
     "metadata": {},
     "output_type": "execute_result"
    }
   ],
   "source": [
    "S3 = calculate_cross_product(-S1, S1)\n",
    "S3"
   ]
  },
  {
   "cell_type": "code",
   "execution_count": 33,
   "metadata": {},
   "outputs": [],
   "source": [
    "# Conclusion: proof is true"
   ]
  },
  {
   "cell_type": "markdown",
   "metadata": {},
   "source": [
    "So 5 linear properties and 2 skew symettric propertyies\n",
    "1. $\\overset{\\rightharpoonup}u \\times (\\overset{\\rightharpoonup}v+\\overset{\\rightharpoonup}w)=\\overset{\\rightharpoonup}u \\times \\overset{\\rightharpoonup}v +\\overset{\\rightharpoonup} u \\times \\overset{\\rightharpoonup}w$\n",
    "2. $(\\overset{\\rightharpoonup}u +\\overset{\\rightharpoonup}v)\\times\\overset{\\rightharpoonup}w=\\overset{\\rightharpoonup}u \\times \\overset{\\rightharpoonup}w +\\overset{\\rightharpoonup} v \\times \\overset{\\rightharpoonup}w$\n",
    "3. $ (\\lambda\\overset{\\rightharpoonup}u )\\times \\overset{\\rightharpoonup}v =\\lambda(\\overset{\\rightharpoonup} u \\times \\overset{\\rightharpoonup}v)=\\overset{\\rightharpoonup} u \\times (\\lambda\\overset{\\rightharpoonup}v)$\n",
    "4. $\\overset{\\rightharpoonup}u\\times \\overset{\\rightharpoonup}v=-\\overset{\\rightharpoonup}v\\times \\overset{\\rightharpoonup}u$\n",
    "5. $\\overset{\\rightharpoonup}u\\times \\overset{\\rightharpoonup}u=0.$"
   ]
  },
  {
   "cell_type": "markdown",
   "metadata": {},
   "source": [
    "### 2_3_4 <a class=\"anchor\" id=\"2_3_4\"></a>\n",
    "<i>Proposition:</i> If $ \\overset{\\rightharpoonup}{u}+\\overset{\\rightharpoonup}{v}+\\overset{\\rightharpoonup}{w} =\\overset{\\rightharpoonup}0$ then $\\overset{\\rightharpoonup}{u} \\times \\overset{\\rightharpoonup}{v}=\\overset{\\rightharpoonup}{v}\\times \\overset{\\rightharpoonup}{w}=\\overset{\\rightharpoonup}{w}\\times \\overset{\\rightharpoonup}{u}.$"
   ]
  },
  {
   "cell_type": "code",
   "execution_count": 34,
   "metadata": {},
   "outputs": [],
   "source": [
    "a, b, c  = sp.symbols('a, b, c')\n",
    "# Let a, b, c, be vectors"
   ]
  },
  {
   "cell_type": "code",
   "execution_count": 35,
   "metadata": {},
   "outputs": [
    {
     "data": {
      "text/latex": [
       "$\\displaystyle a + b + c = 0$"
      ],
      "text/plain": [
       "Eq(a + b + c, 0)"
      ]
     },
     "execution_count": 35,
     "metadata": {},
     "output_type": "execute_result"
    }
   ],
   "source": [
    "S1 = sp.Eq(a + b + c, 0)\n",
    "S1\n",
    "# Suppose tat:"
   ]
  },
  {
   "cell_type": "code",
   "execution_count": 36,
   "metadata": {},
   "outputs": [
    {
     "data": {
      "text/latex": [
       "$\\displaystyle c = - a - b$"
      ],
      "text/plain": [
       "Eq(c, -a - b)"
      ]
     },
     "execution_count": 36,
     "metadata": {},
     "output_type": "execute_result"
    }
   ],
   "source": [
    "S2 = sp.Eq(c, sp.solve(S1, c)[0])\n",
    "S2\n",
    "# If S1, then through manipulation it must be the case that:"
   ]
  },
  {
   "cell_type": "code",
   "execution_count": 37,
   "metadata": {},
   "outputs": [],
   "source": [
    "#S3\n",
    "# Manipulate\n",
    "#    b crx c           \n",
    "# == b rx (-a - b)           (transitivity of value of c from S2)\n",
    "# == -b crx -a - b crx - b   (apply law #1)\n",
    "# == -b crx a                (apply law #4 and law #5)\n",
    "# == a crx b                 (apply law 4)"
   ]
  },
  {
   "cell_type": "code",
   "execution_count": 38,
   "metadata": {},
   "outputs": [],
   "source": [
    "#S3\n",
    "# Manipulate\n",
    "#    c crx a           \n",
    "# == -a - b crx b            (substitutio of value c from S2)\n",
    "# == -a crx b - b crx b      (apply distribution law)\n",
    "# == -a crx b                (apply law 4 and 5)\n",
    "# == a crx b                 (apply law 4)"
   ]
  },
  {
   "cell_type": "code",
   "execution_count": 39,
   "metadata": {},
   "outputs": [],
   "source": [
    "# Proposition is true"
   ]
  },
  {
   "cell_type": "markdown",
   "metadata": {},
   "source": [
    "### 2_3_5 <a class=\"anchor\" id=\"2_3_5\"></a>\n",
    "<i>Proposition:</i>The cross product of the diagonals $\\overset{\\rightharpoonup}{AC} \\times \\overset{\\rightharpoonup}{BD}$ of a parallelogram $\\overline{ABCD}$ is twice the cross-product of$\\overset{\\rightharpoonup}{AB} \\times \\overset{\\rightharpoonup}{AD}$.\n"
   ]
  },
  {
   "cell_type": "code",
   "execution_count": 40,
   "metadata": {},
   "outputs": [],
   "source": [
    "# Let a b c and d be points\n",
    "\n",
    "# Let S1 be a parallelogram constructed from the points a, b, c, \n",
    "# and d\n",
    "\n",
    "# Let S2 be the vector constructed from the points a and b\n",
    "\n",
    "# Let S3 be a vector constructed from the points a and d\n",
    "\n",
    "# Manipulate using vector addition to create the relationship S4:\n",
    "# Let S4 \\equiv S2 + S3 \n",
    "\n",
    "# Manipulate using vector subtraction to create the relationship S5:\n",
    "# Let S5 \\equiv S2 - S3\n",
    "\n",
    "# Manipulate using cross-product to create the relationship S6:\n",
    "# Let S6 \\equiv S4 X S5\n",
    "\n",
    "# Manipulate using subsitution to create the relationship S7:\n",
    "# S7 \\equiv S4 X S5 = (S2 + S3) X (S3 - S2) \n",
    "\n",
    "# Manipulate using linear property 1 to create the relationship S8: \n",
    "# S8 \\equiv (S2 + S3) X (S3 - S2) == S2 X S3 + S2 X -S2 + S3 X S3 - S3 X S2\n",
    "\n",
    "# Manipulate using linear properties 4 and 5 to create S7:\n",
    "# S9 \\equiv 2(S2 X S3)\n",
    "\n",
    "# Conclusiong: Proof is true"
   ]
  },
  {
   "cell_type": "markdown",
   "metadata": {},
   "source": [
    "### 2_3_6 <a class=\"anchor\" id=\"2_3_6\"></a>\n",
    "\n",
    "<i>Proposition:</i>The cross product of the diagonals $\\overset{\\rightharpoonup}{AC} \\times \\overset{\\rightharpoonup}{BD}$ of a general quadrilateral $\\overline{ABCD}$ equals $\\overset{\\rightharpoonup}{AB} \\times \\overset{\\rightharpoonup}{AD}+\\overset{\\rightharpoonup}{BC} \\times \\overset{\\rightharpoonup}{CD}$.\n"
   ]
  },
  {
   "cell_type": "code",
   "execution_count": 41,
   "metadata": {},
   "outputs": [],
   "source": [
    "# Let a, b, c and d be points\n",
    "\n",
    "# Supppose a, b, c and d are distinct and non-colinear\n",
    "\n",
    "# Let S1 be a quadrilateral constructed from the points a, b, c, \n",
    "# and d\n",
    "\n",
    "# Let S2 be a vector constructed from the points a and b\n",
    "\n",
    "# Let S3 be a vector constructed from the points a and d\n",
    "\n",
    "# Let S4 be a vector constructed from the points b and c\n",
    "\n",
    "# Let S5 be a vector constructed from the points c and d\n",
    "\n",
    "# Manipulate using vector addition to create the relationship S6:\n",
    "# Let S6 \\equiv S2 + S3 (AC)\n",
    "\n",
    "# Manipulate using vector subtraction to create the relationship S7:\n",
    "# Let S7 \\equiv S2 - S3\n",
    "\n",
    "\n",
    "# ERROR IN THIS PROOF\n",
    "\n",
    "\n",
    "\n"
   ]
  },
  {
   "cell_type": "markdown",
   "metadata": {},
   "source": [
    "### 2_3_7 <a class=\"anchor\" id=\"2_3_7\"></a>\n",
    "\n",
    "<i>Proposition:</i>If a linear transformation $T({(x,y)})=(\\alpha x+\\gamma y, \\beta x+\\delta y)$ is defined for any vectors $\\overset{\\rightharpoonup}{v}$ and $\\overset{\\rightharpoonup}{w}$  then $\\det(T)=\\alpha\\delta-\\beta\\gamma$ is the determinant of $T$\n"
   ]
  },
  {
   "cell_type": "code",
   "execution_count": 42,
   "metadata": {},
   "outputs": [],
   "source": [
    "a, b, c, d, x, y,r, s, t, u = sp.symbols('a, b, c, d, x, y,r, s, t, u')\n",
    "# Let a, b, c, d, x, y, z, w be integers"
   ]
  },
  {
   "cell_type": "code",
   "execution_count": 43,
   "metadata": {},
   "outputs": [],
   "source": [
    "S1 = np.array([r, s])\n",
    "# Let S1 be a vector constructed from integers x and y"
   ]
  },
  {
   "cell_type": "code",
   "execution_count": 44,
   "metadata": {},
   "outputs": [],
   "source": [
    "S2 = np.array([t, u])\n",
    "# Let S2 be a vector constructed from integers z and w"
   ]
  },
  {
   "cell_type": "code",
   "execution_count": 45,
   "metadata": {},
   "outputs": [],
   "source": [
    "# Let S3 be a function that maps inputs (x, y) to \n",
    "# outputs (ax + cy, bx + dy) \n",
    "def S3(i):\n",
    "    return(np.array([a * i[0] + c * i[1], \n",
    "                    b * i[0] + d* i[1]]))"
   ]
  },
  {
   "cell_type": "code",
   "execution_count": 46,
   "metadata": {},
   "outputs": [
    {
     "data": {
      "text/plain": [
       "array([a*r + c*s, b*r + d*s], dtype=object)"
      ]
     },
     "execution_count": 46,
     "metadata": {},
     "output_type": "execute_result"
    }
   ],
   "source": [
    "# Manipulate using the function S3 with input S1 to create S4\n",
    "S4 = S3(S1)\n",
    "S4"
   ]
  },
  {
   "cell_type": "code",
   "execution_count": 47,
   "metadata": {},
   "outputs": [
    {
     "data": {
      "text/plain": [
       "array([a*t + c*u, b*t + d*u], dtype=object)"
      ]
     },
     "execution_count": 47,
     "metadata": {},
     "output_type": "execute_result"
    }
   ],
   "source": [
    "# Manipulate using the function S3 with input S2 to create S5\n",
    "S5 = S3(S2)\n",
    "S5"
   ]
  },
  {
   "cell_type": "code",
   "execution_count": 48,
   "metadata": {},
   "outputs": [
    {
     "data": {
      "text/latex": [
       "$\\displaystyle \\left(a r + c s\\right) \\left(b t + d u\\right) - \\left(a t + c u\\right) \\left(b r + d s\\right)$"
      ],
      "text/plain": [
       "(a*r + c*s)*(b*t + d*u) - (a*t + c*u)*(b*r + d*s)"
      ]
     },
     "execution_count": 48,
     "metadata": {},
     "output_type": "execute_result"
    }
   ],
   "source": [
    "# Manipulate using cross-product to create S6:\n",
    "# Let S6 \\equiv S4 X S5\n",
    "\n",
    "S6 = calculate_cross_product(S4, S5)\n",
    "S6"
   ]
  },
  {
   "cell_type": "code",
   "execution_count": 49,
   "metadata": {},
   "outputs": [
    {
     "data": {
      "text/latex": [
       "$\\displaystyle \\left(a d - b c\\right) \\left(r u - s t\\right)$"
      ],
      "text/plain": [
       "(a*d - b*c)*(r*u - s*t)"
      ]
     },
     "execution_count": 49,
     "metadata": {},
     "output_type": "execute_result"
    }
   ],
   "source": [
    "# Manipulate using factorisation to create S7:\n",
    "S7 = S6.factor()\n",
    "S7"
   ]
  },
  {
   "cell_type": "code",
   "execution_count": 50,
   "metadata": {},
   "outputs": [],
   "source": [
    "# Conclusion: Proof if true"
   ]
  },
  {
   "cell_type": "markdown",
   "metadata": {},
   "source": [
    "### 2_3_8 <a class=\"anchor\" id=\"2_3_8\"></a>\n",
    "<i>Proposition:</i>For any orientated triangle $\\widetilde{ABC}$ it is the case that $ \\overset{\\rightharpoonup}{AB}\\times \\overset{\\rightharpoonup}{AC}=\\overset{\\rightharpoonup}{BC}\\times \\overset{\\rightharpoonup}{BA}=\\overset{\\rightharpoonup}{CA}\\times \\overset{\\rightharpoonup}{CB}.$"
   ]
  },
  {
   "cell_type": "code",
   "execution_count": 51,
   "metadata": {},
   "outputs": [],
   "source": [
    "a, b, c = sp.symbols('a, b, c')\n",
    "#Let a, b and c be points"
   ]
  },
  {
   "cell_type": "code",
   "execution_count": 52,
   "metadata": {},
   "outputs": [],
   "source": [
    "# Suppose that a, b and c are distinct and non colinear"
   ]
  },
  {
   "cell_type": "code",
   "execution_count": 53,
   "metadata": {},
   "outputs": [],
   "source": [
    "# Let S1 be a vector constructed from the points a and b"
   ]
  },
  {
   "cell_type": "code",
   "execution_count": 54,
   "metadata": {},
   "outputs": [],
   "source": [
    "# Let S2 be a vector constructed from the points c and a"
   ]
  },
  {
   "cell_type": "code",
   "execution_count": 55,
   "metadata": {},
   "outputs": [],
   "source": [
    "# Let S3 be a vector constructed from the points b and c"
   ]
  },
  {
   "cell_type": "code",
   "execution_count": 56,
   "metadata": {},
   "outputs": [],
   "source": [
    "S3 = np.array([a, b, c])\n",
    "# Let S1 be an orientated triangle constructed from points a, b and c"
   ]
  },
  {
   "cell_type": "code",
   "execution_count": 57,
   "metadata": {},
   "outputs": [],
   "source": [
    "# Recall that the addition of vectors of 3 orientated sides of a \n",
    "# triangle must equal 0"
   ]
  },
  {
   "cell_type": "code",
   "execution_count": 58,
   "metadata": {},
   "outputs": [],
   "source": [
    "# Manipulate using vector addition and properties of orientated triangle\n",
    "# S4 \\equiv S1 + S2 + S3 = 0"
   ]
  },
  {
   "cell_type": "code",
   "execution_count": 59,
   "metadata": {},
   "outputs": [],
   "source": [
    "# This proof overly complicated - better to see it as result from \n",
    "# 2.3.4"
   ]
  },
  {
   "cell_type": "markdown",
   "metadata": {},
   "source": [
    "### 2_3_9 <a class=\"anchor\" id=\"2_3_9\"></a>\n",
    "<i>Proposition:</i>$s(\\widetilde{OAB})+s(\\widetilde{OBC})+s(\\widetilde{OCA})=\\frac{\\overset{\\rightharpoonup}{AB}\\times \\overset{\\rightharpoonup}{AC}}{2}$ for any arbitrary orientated triangle $ \\widetilde{ABC}$\n"
   ]
  },
  {
   "cell_type": "code",
   "execution_count": 60,
   "metadata": {},
   "outputs": [],
   "source": [
    "a, b, c, d, e, f = sp.symbols('a, b, c, d, e, f')\n",
    "# Let a, b, c, d, e, f be integers"
   ]
  },
  {
   "cell_type": "code",
   "execution_count": 61,
   "metadata": {},
   "outputs": [],
   "source": [
    "S1 = np.array([a, b])\n",
    "# Let S1 be a point constructed from integers a and b"
   ]
  },
  {
   "cell_type": "code",
   "execution_count": 62,
   "metadata": {},
   "outputs": [],
   "source": [
    "S2 = np.array([c, d])\n",
    "# Let S2 be a point constructed from integers c and d"
   ]
  },
  {
   "cell_type": "code",
   "execution_count": 63,
   "metadata": {},
   "outputs": [],
   "source": [
    "S3 = np.array([e, f])\n",
    "# Let S3 be a point constructed from integers e and f"
   ]
  },
  {
   "cell_type": "code",
   "execution_count": 64,
   "metadata": {},
   "outputs": [],
   "source": [
    "S4 = np.array([c - a, d - b])\n",
    "# Let S4 be a vector constructed from points S1 and S2"
   ]
  },
  {
   "cell_type": "code",
   "execution_count": 65,
   "metadata": {},
   "outputs": [],
   "source": [
    "S5 = np.array([e - a, f - b])\n",
    "# Let S5 be a vector constructed from points S1 and S3"
   ]
  },
  {
   "cell_type": "code",
   "execution_count": 66,
   "metadata": {},
   "outputs": [
    {
     "data": {
      "text/latex": [
       "$\\displaystyle \\left(- a + c\\right) \\left(- b + f\\right) - \\left(- a + e\\right) \\left(- b + d\\right)$"
      ],
      "text/plain": [
       "(-a + c)*(-b + f) - (-a + e)*(-b + d)"
      ]
     },
     "execution_count": 66,
     "metadata": {},
     "output_type": "execute_result"
    }
   ],
   "source": [
    "S6 = calculate_cross_product(S4, S5)\n",
    "S6\n",
    "# Manipulate using the cross product function to create S6"
   ]
  },
  {
   "cell_type": "code",
   "execution_count": 67,
   "metadata": {},
   "outputs": [
    {
     "data": {
      "text/latex": [
       "$\\displaystyle \\frac{\\left(- a + c\\right) \\left(- b + f\\right)}{2} - \\frac{\\left(- a + e\\right) \\left(- b + d\\right)}{2}$"
      ],
      "text/plain": [
       "(-a + c)*(-b + f)/2 - (-a + e)*(-b + d)/2"
      ]
     },
     "execution_count": 67,
     "metadata": {},
     "output_type": "execute_result"
    }
   ],
   "source": [
    "# Recall tha tthe definitin of a signed area or a general triangle\n",
    "# is the cross product of 2 vectors / 2\n",
    "S7 = S6 / 2\n",
    "S7\n",
    "# Manipulate through division to create S7"
   ]
  },
  {
   "cell_type": "code",
   "execution_count": 68,
   "metadata": {},
   "outputs": [],
   "source": [
    "S8 = np.array([0,0])\n",
    "# Let S8 be a point constructed from the integer 0"
   ]
  },
  {
   "cell_type": "code",
   "execution_count": 69,
   "metadata": {},
   "outputs": [],
   "source": [
    "S9 = np.array([S8, S1, S2])\n",
    "# Let S9 be an oriented triangle constructed from points S8, S1, \n",
    "# S2"
   ]
  },
  {
   "cell_type": "code",
   "execution_count": 70,
   "metadata": {},
   "outputs": [],
   "source": [
    "def calculate_signed_area(points, origin_is_one_of_points = True):\n",
    "    if origin_is_one_of_points:\n",
    "        area = points[1][0] * points[2][1] - points[1][1] * points[2][0]\n",
    "    return((area/2).factor())"
   ]
  },
  {
   "cell_type": "code",
   "execution_count": 71,
   "metadata": {},
   "outputs": [
    {
     "data": {
      "text/latex": [
       "$\\displaystyle \\frac{a d - b c}{2}$"
      ],
      "text/plain": [
       "(a*d - b*c)/2"
      ]
     },
     "execution_count": 71,
     "metadata": {},
     "output_type": "execute_result"
    }
   ],
   "source": [
    "S10 = calculate_signed_area(S9)\n",
    "S10\n",
    "# Manipulate using the Signed Area function to create S10"
   ]
  },
  {
   "cell_type": "code",
   "execution_count": 72,
   "metadata": {},
   "outputs": [],
   "source": [
    "S11 = np.array([S8, S2, S3])\n",
    "# Let S11 be an oriented triangle constructed from points S8, S2, \n",
    "# S3"
   ]
  },
  {
   "cell_type": "code",
   "execution_count": 73,
   "metadata": {},
   "outputs": [
    {
     "data": {
      "text/latex": [
       "$\\displaystyle \\frac{c f - d e}{2}$"
      ],
      "text/plain": [
       "(c*f - d*e)/2"
      ]
     },
     "execution_count": 73,
     "metadata": {},
     "output_type": "execute_result"
    }
   ],
   "source": [
    "S12 = calculate_signed_area(S11)\n",
    "S12\n",
    "# Manipulate using the Signed Area function to create S12"
   ]
  },
  {
   "cell_type": "code",
   "execution_count": 74,
   "metadata": {},
   "outputs": [],
   "source": [
    "S13 = np.array([S8, S3, S1])\n",
    "# Let S13 be an oriented triangle constructed from points S8, S3, \n",
    "# S1"
   ]
  },
  {
   "cell_type": "code",
   "execution_count": 75,
   "metadata": {},
   "outputs": [
    {
     "data": {
      "text/latex": [
       "$\\displaystyle - \\frac{a f - b e}{2}$"
      ],
      "text/plain": [
       "-(a*f - b*e)/2"
      ]
     },
     "execution_count": 75,
     "metadata": {},
     "output_type": "execute_result"
    }
   ],
   "source": [
    "S14 = calculate_signed_area(S13)\n",
    "S14\n",
    "# Manipulate S3 using a signed area function to create S14"
   ]
  },
  {
   "cell_type": "code",
   "execution_count": 76,
   "metadata": {},
   "outputs": [
    {
     "data": {
      "text/latex": [
       "$\\displaystyle \\frac{a d}{2} - \\frac{a f}{2} - \\frac{b c}{2} + \\frac{b e}{2} + \\frac{c f}{2} - \\frac{d e}{2}$"
      ],
      "text/plain": [
       "a*d/2 - a*f/2 - b*c/2 + b*e/2 + c*f/2 - d*e/2"
      ]
     },
     "execution_count": 76,
     "metadata": {},
     "output_type": "execute_result"
    }
   ],
   "source": [
    "S15 = S10 + S12 + S14\n",
    "S15.expand()\n",
    "# Manipulate S10, S12 and S14 using an addition function to create S15"
   ]
  },
  {
   "cell_type": "code",
   "execution_count": 77,
   "metadata": {},
   "outputs": [
    {
     "data": {
      "text/plain": [
       "True"
      ]
     },
     "execution_count": 77,
     "metadata": {},
     "output_type": "execute_result"
    }
   ],
   "source": [
    "S16 = S7.expand() == S15.expand()\n",
    "S16\n",
    "# Manipulate using equivalency to create S16"
   ]
  },
  {
   "cell_type": "code",
   "execution_count": 78,
   "metadata": {},
   "outputs": [],
   "source": [
    "# Conclusion: Proof is true"
   ]
  },
  {
   "cell_type": "markdown",
   "metadata": {},
   "source": [
    "### 2_3_10 <a class=\"anchor\" id=\"2_3_10\"></a>\n",
    "<i>Proposition:</i> If A, B and C are collinear points then $s(\\widetilde{ABC})=0$."
   ]
  },
  {
   "cell_type": "code",
   "execution_count": 79,
   "metadata": {},
   "outputs": [],
   "source": [
    "a, b, c, d, e, f = sp.symbols(\"a, b, c, d, e, f\")\n",
    "# Let a, b, c, d, e, f be integers"
   ]
  },
  {
   "cell_type": "code",
   "execution_count": 80,
   "metadata": {},
   "outputs": [],
   "source": [
    "S1 = np.array([a, b])\n",
    "# Let S1 be a point constructed from integers a and b"
   ]
  },
  {
   "cell_type": "code",
   "execution_count": 81,
   "metadata": {},
   "outputs": [],
   "source": [
    "S2 = np.array([c, d])\n",
    "# Let S2 be a point constructed from integers c and d"
   ]
  },
  {
   "cell_type": "code",
   "execution_count": 82,
   "metadata": {},
   "outputs": [],
   "source": [
    "S3 = np.array([e, f])\n",
    "# Let S3 be a point constructed from integers e and f"
   ]
  },
  {
   "cell_type": "code",
   "execution_count": 83,
   "metadata": {},
   "outputs": [],
   "source": [
    "S4 = np.array([S1, S2, S3])\n",
    "# Let S4 be an oriented triangle constructed from points S1, S2 \n",
    "# and S3"
   ]
  },
  {
   "cell_type": "code",
   "execution_count": 84,
   "metadata": {},
   "outputs": [
    {
     "data": {
      "text/latex": [
       "$\\displaystyle \\frac{a d - a f - b c + b e + c f - d e}{2}$"
      ],
      "text/plain": [
       "(a*d - a*f - b*c + b*e + c*f - d*e)/2"
      ]
     },
     "execution_count": 84,
     "metadata": {},
     "output_type": "execute_result"
    }
   ],
   "source": [
    "S5 = (calculate_cross_product(S1, S2) + calculate_cross_product(S2, S3) + calculate_cross_product(S3, S1)) / 2\n",
    "S5.factor()\n",
    "# Manipulate S1, S2 and S3 using a signed area function to \n",
    "# create S2"
   ]
  },
  {
   "cell_type": "code",
   "execution_count": 85,
   "metadata": {},
   "outputs": [],
   "source": [
    "# Suppose that S1, S2 and S3 satisfy the colinear points formula"
   ]
  },
  {
   "cell_type": "code",
   "execution_count": 86,
   "metadata": {},
   "outputs": [],
   "source": [
    "# S6 \\equiv S5 == 0\n",
    "# Manipulate S5 and 0 using equivalency\n",
    "# JG - need 1.2 for this"
   ]
  },
  {
   "cell_type": "code",
   "execution_count": 87,
   "metadata": {},
   "outputs": [],
   "source": [
    "# Conclusion: proof is true"
   ]
  },
  {
   "cell_type": "markdown",
   "metadata": {},
   "source": [
    "### 2_3_12 <a class=\"anchor\" id=\"2_3_12\"></a>\n",
    "<i>Proposition:</i>For a given oriented triangle $\\widetilde{ABC}$, for a a point $D$ on the line $AB$, it is the case that $s(\\widetilde{ABC})=s(\\widetilde{ADC})+s(\\widetilde{DBC}).$\n",
    "\n",
    "\n"
   ]
  },
  {
   "cell_type": "code",
   "execution_count": 88,
   "metadata": {},
   "outputs": [],
   "source": [
    "a, b, c, d = sp.symbols(\"a, b, c, d\")\n",
    "# let a, b, c , d be points"
   ]
  },
  {
   "cell_type": "code",
   "execution_count": 89,
   "metadata": {},
   "outputs": [],
   "source": [
    "r = sp.symbols(\"r\")\n",
    "# Let r be an integer"
   ]
  },
  {
   "cell_type": "code",
   "execution_count": 90,
   "metadata": {},
   "outputs": [],
   "source": [
    "# Suppose that a, b and c are d distinct"
   ]
  },
  {
   "cell_type": "code",
   "execution_count": 91,
   "metadata": {},
   "outputs": [],
   "source": [
    "# Supose that a, b c are not colinear"
   ]
  },
  {
   "cell_type": "code",
   "execution_count": 92,
   "metadata": {},
   "outputs": [],
   "source": [
    "# Let S1 be a vector constructed from points a and b"
   ]
  },
  {
   "cell_type": "code",
   "execution_count": 93,
   "metadata": {},
   "outputs": [],
   "source": [
    "# Let S2 be a vector constructed from points a and c"
   ]
  },
  {
   "cell_type": "code",
   "execution_count": 94,
   "metadata": {},
   "outputs": [],
   "source": [
    "# Let S3 be a vector constructed from points c and b"
   ]
  },
  {
   "cell_type": "code",
   "execution_count": 95,
   "metadata": {},
   "outputs": [],
   "source": [
    "# Let d be incident to S1"
   ]
  },
  {
   "cell_type": "code",
   "execution_count": 96,
   "metadata": {},
   "outputs": [],
   "source": [
    "# Let S4 be a vector constructed from points a and d"
   ]
  },
  {
   "cell_type": "code",
   "execution_count": 97,
   "metadata": {},
   "outputs": [],
   "source": [
    "# Recall that if any 2 distinct points are incident to 2 \n",
    "# vectors, V1 and V2, it must be the case that V1 == rV2 \n",
    "# for some number r"
   ]
  },
  {
   "cell_type": "code",
   "execution_count": 98,
   "metadata": {},
   "outputs": [],
   "source": [
    "# Manipulate S1 and S4 using a scalar function to create S5\n",
    "# S5 \\equiv S5 \\eq S1 == rS4"
   ]
  },
  {
   "cell_type": "code",
   "execution_count": 99,
   "metadata": {},
   "outputs": [],
   "source": [
    "# Let S6 be a vector constructed from points c and d"
   ]
  },
  {
   "cell_type": "code",
   "execution_count": 100,
   "metadata": {},
   "outputs": [],
   "source": [
    "# Let S7 be a vector constructed from points d and b"
   ]
  },
  {
   "cell_type": "code",
   "execution_count": 101,
   "metadata": {},
   "outputs": [],
   "source": [
    "# Recall that 2 points with (xy) - (xz) with common basis(?)\n",
    "# will equal the vector yz "
   ]
  },
  {
   "cell_type": "code",
   "execution_count": 102,
   "metadata": {},
   "outputs": [],
   "source": [
    "# Manipulate S2 S3 and S6 using a vector subtraction function \n",
    "# to create S8\n",
    "# S8 \\equiv S6  = S4 - S2"
   ]
  },
  {
   "cell_type": "code",
   "execution_count": 103,
   "metadata": {},
   "outputs": [],
   "source": [
    "# Manipulate S3 S2 and S1 using a vector subtraction function \n",
    "# to create S9\n",
    "# S9 \\equiv S3  = S1 - S2"
   ]
  },
  {
   "cell_type": "code",
   "execution_count": 104,
   "metadata": {},
   "outputs": [],
   "source": [
    "# Let S9 be an orientated triangle constructed from vectors\n",
    "# S4, -S6 and -S2"
   ]
  },
  {
   "cell_type": "code",
   "execution_count": 105,
   "metadata": {},
   "outputs": [],
   "source": [
    "# Let S10 be an orientated triangle constructed from vectors\n",
    "# S7, -S3 and S6"
   ]
  },
  {
   "cell_type": "code",
   "execution_count": 106,
   "metadata": {},
   "outputs": [],
   "source": [
    "# Let S11 be an orientated triangle constructed from vectors\n",
    "# S1, -S3 and -S2"
   ]
  },
  {
   "cell_type": "code",
   "execution_count": 107,
   "metadata": {},
   "outputs": [],
   "source": [
    "# Manipulate S9 using a signed area function to create S11\n",
    "# S11 \\equiv (S4 X S2) / 2"
   ]
  },
  {
   "cell_type": "code",
   "execution_count": 108,
   "metadata": {},
   "outputs": [],
   "source": [
    "# Manipulate S10 using a signed area function to create S12\n",
    "# S12 \\equiv (S7 X -S6) / 2"
   ]
  },
  {
   "cell_type": "code",
   "execution_count": 109,
   "metadata": {},
   "outputs": [],
   "source": [
    "# Manipulate S11 using a signed area function to create S12\n",
    "# S12 \\equiv (S1 X S2) / 2"
   ]
  },
  {
   "cell_type": "code",
   "execution_count": 110,
   "metadata": {},
   "outputs": [],
   "source": [
    "#(S1 X S2) / 2 = (S4 X S2) / 2 + (S7 X -S6) / 2\n",
    "\n",
    "# S6 = S4 - S2\n",
    "# S3 = S1 - S2\n",
    "# rS1 = S4\n",
    "# S7 = S1 - rS1 \n",
    "\n",
    "\n",
    "# (rS1 X S2) / 2 + (s1 - rS1 X S2 X -rS1 + S2) / 2\n"
   ]
  },
  {
   "cell_type": "markdown",
   "metadata": {},
   "source": [
    "### 2_3_14 <a class=\"anchor\" id=\"2_3_14\"></a>\n",
    "<i>Proposition:</i>If $E$ is a point on $AB$, then $s(\\widetilde{ABC})=\\frac {\\overset{\\rightharpoonup}{AB} \\times \\overset{\\rightharpoonup}{EC}}{2}.$\n"
   ]
  },
  {
   "cell_type": "code",
   "execution_count": 111,
   "metadata": {},
   "outputs": [],
   "source": [
    "a, b, c = sp.symbols(\"a, b, c\")\n",
    "# let a, b, c  be points"
   ]
  },
  {
   "cell_type": "code",
   "execution_count": null,
   "metadata": {},
   "outputs": [],
   "source": []
  },
  {
   "cell_type": "code",
   "execution_count": null,
   "metadata": {},
   "outputs": [],
   "source": []
  },
  {
   "cell_type": "code",
   "execution_count": null,
   "metadata": {},
   "outputs": [],
   "source": []
  },
  {
   "cell_type": "code",
   "execution_count": null,
   "metadata": {},
   "outputs": [],
   "source": []
  },
  {
   "cell_type": "code",
   "execution_count": null,
   "metadata": {},
   "outputs": [],
   "source": []
  },
  {
   "cell_type": "code",
   "execution_count": null,
   "metadata": {},
   "outputs": [],
   "source": []
  },
  {
   "cell_type": "code",
   "execution_count": null,
   "metadata": {},
   "outputs": [],
   "source": []
  },
  {
   "cell_type": "code",
   "execution_count": null,
   "metadata": {},
   "outputs": [],
   "source": []
  }
 ],
 "metadata": {
  "kernelspec": {
   "display_name": "SageMath 9.0",
   "language": "sage",
   "name": "sagemath"
  },
  "language_info": {
   "codemirror_mode": {
    "name": "ipython",
    "version": 3
   },
   "file_extension": ".py",
   "mimetype": "text/x-python",
   "name": "python",
   "nbconvert_exporter": "python",
   "pygments_lexer": "ipython3",
   "version": "3.7.3"
  }
 },
 "nbformat": 4,
 "nbformat_minor": 4
}
