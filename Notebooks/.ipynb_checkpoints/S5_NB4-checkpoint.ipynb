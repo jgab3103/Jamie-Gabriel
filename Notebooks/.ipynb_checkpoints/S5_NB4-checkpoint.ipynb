{
 "cells": [
  {
   "cell_type": "code",
   "execution_count": 1,
   "id": "6dd866d6-49eb-4efc-94c5-70044517bc26",
   "metadata": {},
   "outputs": [],
   "source": [
    "import numpy as np\n",
    "import sympy as sp\n",
    "import pickle\n",
    "from IPython.display import HTML\n",
    "import ipywidgets as widgets\n",
    "import matplotlib as mpl\n",
    "import matplotlib.pyplot as plt\n",
    "from mpl_toolkits.mplot3d import Axes3D\n",
    "import matplotlib.pyplot as plt\n",
    "mpl.rcParams['legend.fontsize'] = 10\n",
    "import pandas as pd\n",
    "import itertools\n",
    "pd.set_option('display.max_colwidth', None)\n",
    "from sympy.plotting import plot \n",
    "from IPython.display import Image\n",
    "\n",
    "\n",
    "# Render to Latex function \n",
    "def RTL(e):\n",
    "    latex_rendering = []\n",
    "\n",
    "    for i in range(len(e)):\n",
    "        latex_rendering.append(\"$$\" + sp.latex(e[i]) + \"$$<br/>\")\n",
    "    \n",
    "    return(HTML(\"\".join(latex_rendering[0:])))"
   ]
  },
  {
   "cell_type": "markdown",
   "id": "af2c1173-b24a-4dc7-8e8f-6ab2dfbcbd1d",
   "metadata": {},
   "source": [
    "#### Bernoulli Differential Equations \n",
    "\n",
    "\n",
    "Bernoulli Differential Equations are those can be written in the form\n",
    "\n",
    "$$ y' + p\\left( x \\right)y = q\\left( x \\right){y^n} $$\n",
    "\n",
    "To solve these, first divide the differential by $y^n$ to get: \n",
    "\n",
    "$$ {y^{ - n}}\\,y' + p\\left( x \\right){y^{1 - n}} = q\\left( x \\right) $$\n",
    "\n",
    "Then use the following substitution: \n",
    "\n",
    "$$ v = {y^{1 - n}} $$\n",
    "\n",
    "Note, that the differentiation of $v$ is:  $v' = \\left( {1 - n} \\right){y^{ - n}}y'$\n",
    "\n",
    "Plugging this and subsitution into the equation gives: \n",
    "\n",
    "$$ \\frac{1}{{1 - n}}v' + p\\left( x \\right)v = q\\left( x \\right) $$\n",
    "\n",
    "This can be solved as per a differential equation, and substitute again to get $y$ back. \n",
    "\n",
    "\n",
    "\n",
    "#### Some examples"
   ]
  },
  {
   "cell_type": "markdown",
   "id": "a1bb31e3-77bb-41ef-9ffa-85a7bc4a3716",
   "metadata": {},
   "source": [
    "<b>Example:</b>\n",
    "\n",
    "Solve the following IVP and find the interval of validity for the solution\n",
    "\n",
    "$$ y' + \\frac{4}{x}y = {x^3}{y^2}\\hspace{0.25in}y\\left( 2 \\right) =  - 1,\\hspace{0.25in}x > 0 $$"
   ]
  },
  {
   "cell_type": "code",
   "execution_count": 4,
   "id": "8e112404-5e5a-478d-a580-a62c357c7a02",
   "metadata": {},
   "outputs": [],
   "source": [
    "# Create needed variables \n",
    "x, y, c, t, v, dy, dx, yPrime, vPrime = sp.symbols('x, y, c, t, v, dy, dx, yPrime, vPrime')"
   ]
  },
  {
   "cell_type": "code",
   "execution_count": 3,
   "id": "7d5693f0-fcac-43e4-9663-001c716341ce",
   "metadata": {},
   "outputs": [
    {
     "data": {
      "text/latex": [
       "$\\displaystyle - 9 x^{2} + 2 x y + \\frac{dy \\left(x^{2} + 2 y + 1\\right)}{dx} = 0$"
      ],
      "text/plain": [
       "Eq(-9*x**2 + 2*x*y + dy*(x**2 + 2*y + 1)/dx, 0)"
      ]
     },
     "execution_count": 3,
     "metadata": {},
     "output_type": "execute_result"
    }
   ],
   "source": [
    "# Write equation in a form tha\n",
    "E1 = sp.Eq(2 * x * y - 9 * x**2 + (2 * y + x**2 + 1) * dy/dx, 0)\n",
    "E1"
   ]
  },
  {
   "cell_type": "code",
   "execution_count": null,
   "id": "b08d6a70-25c6-4406-989b-794e9c37ab43",
   "metadata": {},
   "outputs": [],
   "source": []
  }
 ],
 "metadata": {
  "kernelspec": {
   "display_name": "Python 3",
   "language": "python",
   "name": "python3"
  },
  "language_info": {
   "codemirror_mode": {
    "name": "ipython",
    "version": 3
   },
   "file_extension": ".py",
   "mimetype": "text/x-python",
   "name": "python",
   "nbconvert_exporter": "python",
   "pygments_lexer": "ipython3",
   "version": "3.9.2"
  }
 },
 "nbformat": 4,
 "nbformat_minor": 5
}
