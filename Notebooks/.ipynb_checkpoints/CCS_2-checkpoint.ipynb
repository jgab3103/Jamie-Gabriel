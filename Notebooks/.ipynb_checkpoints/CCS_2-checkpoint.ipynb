{
 "cells": [
  {
   "cell_type": "code",
   "execution_count": 144,
   "id": "09d739b7-452b-440e-b856-8a6712d5a439",
   "metadata": {},
   "outputs": [],
   "source": [
    "# !pip install chempy\n",
    "# !pip install periodictable\n",
    "# !pip install PyAstronomy\n",
    "# !pip install molmass\n",
    "#!pip install rdkit\n",
    "# !pip install astropy\n",
    "\n",
    "\n",
    "import periodictable as pt\n",
    "import chempy as ch\n",
    "import numpy as np\n",
    "import sympy as sp\n",
    "import molmass as mm\n",
    "import pickle\n",
    "from IPython.display import HTML\n",
    "import ipywidgets as widgets\n",
    "import matplotlib as mpl\n",
    "import matplotlib.pyplot as plt\n",
    "from mpl_toolkits.mplot3d import Axes3D\n",
    "import matplotlib.pyplot as plt\n",
    "mpl.rcParams['legend.fontsize'] = 10\n",
    "import pandas as pd\n",
    "import itertools\n",
    "pd.set_option('display.max_colwidth', None)\n",
    "from sympy.plotting import plot \n",
    "from IPython.display import Image\n",
    "from PyAstronomy import pyasl\n",
    "import decimal\n",
    "import sympy.physics.units as u\n",
    "from sympy.physics.units.systems import SI\n",
    "from rdkit import Chem\n",
    "from rdkit.Chem import Draw\n",
    "from astropy import units as u\n",
    "\n",
    "from sympy.physics.units import speed_of_light, meter, gram, second, day, pound\n",
    "from sympy.physics.units import mile, newton, kilogram, atomic_mass_constant\n",
    "from sympy.physics.units import kilometer, centimeter, millimeter, nanometer\n",
    "from sympy.physics.units import gravitational_constant, hbar, kPa, newton\n",
    "from sympy.physics.units import convert_to\n",
    "\n",
    "def RTL(e):\n",
    "    \"\"\"INPUT PARAMS: [] of math expressions\"\"\"\n",
    "    latex_rendering = []\n",
    "\n",
    "    for i in range(len(e)):\n",
    "        latex_rendering.append(\"$\" + sp.latex(e[i]) + \"$ &nbsp;&nbsp;\")\n",
    "    \n",
    "    return(HTML(\"\".join(latex_rendering[0:])))\n",
    "\n",
    "def BalanceChemEquation(L, R):\n",
    "    \"\"\" INPUT PARAMS: 2 * {} containing react and prod\"\"\"\n",
    "    reac, prod = ch.balance_stoichiometry(L, R)\n",
    "    Reaction = ch.Reaction(reac, prod)\n",
    "    return([Reaction, [reac, prod]])\n",
    "    \n",
    "\n",
    "class Atom: \n",
    "    def __init__(self, pCount, nCount, eCount):\n",
    "        \"\"\"INPUT PARAMS: countOfProtons, countOfNeutrons, countOfElectrons\"\"\"\n",
    "        \n",
    "        an = pyasl.AtomicNo()\n",
    "        \n",
    "        self.Protons = pCount\n",
    "        self.Neutrons = nCount\n",
    "        self.Electrons = eCount\n",
    "        self.ElementName = an.getElementName(pCount)\n",
    "        self.ElementNameWithAtomicMass = an.getElementName(pCount) + \"(\" + str(self.Protons) + \",\" + str(self.Protons + self.Neutrons) + \")\"\n",
    "    \n",
    "    def CreateSummary(self):\n",
    "        print(\"Name: \", self.ElementName)\n",
    "        print(\"Protons: \", self.Protons)\n",
    "        print(\"Neutrons: \", self.Neutrons)\n",
    "        print(\"Electrons: \", self.Electrons)"
   ]
  },
  {
   "cell_type": "code",
   "execution_count": 91,
   "id": "d4d08dbc-0feb-4f9c-88de-0d2dd82041d0",
   "metadata": {},
   "outputs": [],
   "source": [
    "# 2.1\n",
    "# (a)\n",
    "# Particle path bends as it has attraction to unlike charge\n",
    "# (b)\n",
    "# It has a negative charge\n",
    "# (c)\n",
    "# Yes - greater the magnitude of the charge, the greater the bending\n",
    "# (d)\n",
    "# As mass increases, but speed remains the same, linear momentum will speed up, \n",
    "# hence bending will decrease\n"
   ]
  },
  {
   "cell_type": "code",
   "execution_count": 92,
   "id": "70527b9b-7c2f-4ddf-808b-83c1fe25bdbf",
   "metadata": {},
   "outputs": [
    {
     "data": {
      "text/plain": [
       "293.95"
      ]
     },
     "execution_count": 92,
     "metadata": {},
     "output_type": "execute_result"
    }
   ],
   "source": [
    "# 2.2\n",
    "# 12 red\n",
    "# 8 blue\n",
    "# 60% are 293 Nv\n",
    "# 40% are 295 Nv\n",
    "(.6 * 293.15 + .4 * 295.15) "
   ]
  },
  {
   "cell_type": "code",
   "execution_count": 93,
   "id": "279150da-1858-4f4e-8d27-4163496c6e84",
   "metadata": {},
   "outputs": [],
   "source": [
    "# 2.3\n",
    "# Magnesium - Metal, Alkaline earth metal\n",
    "# Ruthenium - Metal\n",
    "# Helium - Non metal, helium\n",
    "# Sulphur - Non metal"
   ]
  },
  {
   "cell_type": "markdown",
   "id": "3c050355-bbf5-4ebf-8d5d-9b11afacccb9",
   "metadata": {},
   "source": [
    "2.4\n",
    "\n",
    "This represents and Ion\n",
    "\n",
    "$$ _{16}^{32}S^{2-} $$"
   ]
  },
  {
   "cell_type": "code",
   "execution_count": 94,
   "id": "13b28e9d-a064-46ed-8812-7410e97e26fc",
   "metadata": {},
   "outputs": [],
   "source": [
    "# 2.5\n",
    "# All ionic compounds are solids, and (i) is a solid, so more likely to be a\n",
    "# ionic compound"
   ]
  },
  {
   "cell_type": "code",
   "execution_count": 95,
   "id": "67c6683c-00e2-431c-9876-c4296e707eed",
   "metadata": {},
   "outputs": [],
   "source": [
    "# 2.6\n",
    "# Flourine will have 45 combined electons\n",
    "# Iodine will have 53 electons\n",
    "# It is ionic compound (positively charged)\n",
    "# Iodine pentoflouride"
   ]
  },
  {
   "cell_type": "code",
   "execution_count": 96,
   "id": "b779104a-f49e-4937-8ee8-c4a13fe4c45e",
   "metadata": {},
   "outputs": [],
   "source": [
    "# 2.7\n",
    "# Yellow: +1\n",
    "# Blue: +2\n",
    "# Black: +3\n",
    "# Red: -2\n",
    "# Green: -1"
   ]
  },
  {
   "cell_type": "code",
   "execution_count": 97,
   "id": "7b729add-297f-48cf-87e4-ef25b5c262b4",
   "metadata": {},
   "outputs": [],
   "source": [
    "# 2.8\n",
    "# Consider you can look at distribution of Cations and Anions\n",
    "# there is CaAn2"
   ]
  },
  {
   "cell_type": "code",
   "execution_count": 98,
   "id": "3e1e807c-bd1e-4923-8594-0153a0ba75e3",
   "metadata": {},
   "outputs": [],
   "source": [
    "# 2.9\n",
    "# Law of constant composition, in a given compount"
   ]
  },
  {
   "cell_type": "code",
   "execution_count": 99,
   "id": "27c3dfa7-b4c6-4efd-b400-995cac0f6d9a",
   "metadata": {},
   "outputs": [
    {
     "data": {
      "text/latex": [
       "$6.116 \\; \\mathrm{g}$"
      ],
      "text/plain": [
       "<Quantity 6.116 g>"
      ]
     },
     "execution_count": 99,
     "metadata": {},
     "output_type": "execute_result"
    }
   ],
   "source": [
    "# 2.10\n",
    "6.5 * u.gram - 0.384 * u.gram\n",
    "# this relates to postulate 3 that no atoms can be created or destroyed in reaction"
   ]
  },
  {
   "cell_type": "code",
   "execution_count": 100,
   "id": "81de42ff-fcbb-4ba0-b065-d65e2bcefea2",
   "metadata": {},
   "outputs": [
    {
     "data": {
      "text/plain": [
       "0.5710577547047372"
      ]
     },
     "execution_count": 100,
     "metadata": {},
     "output_type": "execute_result"
    }
   ],
   "source": [
    "# 2.11\n",
    "# Cacluate the mass of oxygen per gram of nitrogen\n",
    "17.6 / 30.82"
   ]
  },
  {
   "cell_type": "code",
   "execution_count": 101,
   "id": "d3acf7ab-608e-477a-bd13-d5ff4edd1637",
   "metadata": {},
   "outputs": [
    {
     "data": {
      "text/plain": [
       "1.1421155094094744"
      ]
     },
     "execution_count": 101,
     "metadata": {},
     "output_type": "execute_result"
    }
   ],
   "source": [
    "35.2 / 30.82"
   ]
  },
  {
   "cell_type": "code",
   "execution_count": 102,
   "id": "ba492953-fe27-4376-8635-ebfe8e917af7",
   "metadata": {},
   "outputs": [
    {
     "data": {
      "text/plain": [
       "2.2842310188189487"
      ]
     },
     "execution_count": 102,
     "metadata": {},
     "output_type": "execute_result"
    }
   ],
   "source": [
    "70.4 / 30.82"
   ]
  },
  {
   "cell_type": "code",
   "execution_count": 103,
   "id": "fc9a9185-bec3-44cf-8cad-7f668bc5b778",
   "metadata": {},
   "outputs": [
    {
     "data": {
      "text/plain": [
       "2.855288773523686"
      ]
     },
     "execution_count": 103,
     "metadata": {},
     "output_type": "execute_result"
    }
   ],
   "source": [
    "88 / 30.82"
   ]
  },
  {
   "cell_type": "code",
   "execution_count": 104,
   "id": "d00c09e4-bb74-4c60-91d8-115e8ae0ecbb",
   "metadata": {},
   "outputs": [],
   "source": [
    "# Divide each value by the smallest to see ratios and law of multiple proportions"
   ]
  },
  {
   "cell_type": "code",
   "execution_count": 105,
   "id": "9a51e28c-2aac-4de9-a136-8aaceca73351",
   "metadata": {},
   "outputs": [
    {
     "data": {
      "text/plain": [
       "0.7494736842105263"
      ]
     },
     "execution_count": 105,
     "metadata": {},
     "output_type": "execute_result"
    }
   ],
   "source": [
    "# 2.12\n",
    "# Consider experiment that examines 3 differnt componts and finds mass of each one\n",
    "# Components are Iodine and Flourine. \n",
    "\n",
    "# For each, find the mass of Flourind, per gram of Iodine\n",
    "\n",
    "#Experment 1: \n",
    "# First experiement gives 3.56 Flourine, 4.75 Iodine\n",
    "# Mass of Flourine/gram of Iodine\n",
    "E1 = 3.56 / 4.75\n",
    "E1\n"
   ]
  },
  {
   "cell_type": "code",
   "execution_count": 106,
   "id": "52640e28-c7f8-4c3b-8070-1ae48d57787b",
   "metadata": {},
   "outputs": [
    {
     "data": {
      "text/plain": [
       "0.4489528795811519"
      ]
     },
     "execution_count": 106,
     "metadata": {},
     "output_type": "execute_result"
    }
   ],
   "source": [
    "# Measurement 2: \n",
    "# 3.43g of Flourine, 7.64g of Iodine\n",
    "# Mass of Flourine per gram of Iodine: \n",
    "E2 = 3.43 / 7.64\n",
    "E2"
   ]
  },
  {
   "cell_type": "code",
   "execution_count": 107,
   "id": "5573d4f6-5699-4245-934b-637e6991159f",
   "metadata": {},
   "outputs": [
    {
     "data": {
      "text/plain": [
       "1.0478214665249734"
      ]
     },
     "execution_count": 107,
     "metadata": {},
     "output_type": "execute_result"
    }
   ],
   "source": [
    "# Measurement 3: \n",
    "# 9.86g of Flourine, 9.41g of Iodine\n",
    "# Mass of Flouine per gram of Iodine\n",
    "E3 = 9.86 / 9.41\n",
    "E3"
   ]
  },
  {
   "cell_type": "code",
   "execution_count": 108,
   "id": "fe428cd3-aedd-44e1-8e81-b380c9415c4f",
   "metadata": {},
   "outputs": [
    {
     "data": {
      "text/html": [
       "$1.66938161730858$ &nbsp;&nbsp;$1.0$ &nbsp;&nbsp;$2.33392303330927$ &nbsp;&nbsp;"
      ],
      "text/plain": [
       "<IPython.core.display.HTML object>"
      ]
     },
     "execution_count": 108,
     "metadata": {},
     "output_type": "execute_result"
    }
   ],
   "source": [
    "# Do these numbers support atomic theory? If they can be rewpresented in atomic\n",
    "# Ratios\n",
    "# Divde by the smalleds to get 1\n",
    "E4 = np.array([E1, E2, E3]) / E2\n",
    "RTL(E4)"
   ]
  },
  {
   "cell_type": "code",
   "execution_count": 109,
   "id": "5fd299c4-ccaa-40c9-afb2-9f567549b938",
   "metadata": {},
   "outputs": [
    {
     "data": {
      "text/html": [
       "$5.00814485192573$ &nbsp;&nbsp;$3.0$ &nbsp;&nbsp;$7.00176909992781$ &nbsp;&nbsp;"
      ],
      "text/plain": [
       "<IPython.core.display.HTML object>"
      ]
     },
     "execution_count": 109,
     "metadata": {},
     "output_type": "execute_result"
    }
   ],
   "source": [
    "E5 = E4 * 3\n",
    "RTL(E5)"
   ]
  },
  {
   "cell_type": "code",
   "execution_count": 110,
   "id": "aedfcc41-1128-4971-8c92-670664e922c4",
   "metadata": {},
   "outputs": [],
   "source": [
    "# These simple numbers support the theory"
   ]
  },
  {
   "cell_type": "code",
   "execution_count": 111,
   "id": "6f5413f6-30a6-4f33-a518-c966067818ec",
   "metadata": {},
   "outputs": [],
   "source": [
    "# 2.13\n",
    "# Evidence of JJ Thomson: Cathode rays consist of negatively charged particles\n",
    "# Experiment shows that cathode rays are deflected by electric/magnetic fields \n",
    "# with thier being a stream of negative electrical charge\n",
    "# Evidence is: \n",
    "# 1. electric magnetic fields deflected rays in same mway they would deflect neg\n",
    "# charged particles\n",
    "# 2. Metal plate exposted to the cathode ray acquired negative charge"
   ]
  },
  {
   "cell_type": "code",
   "execution_count": 112,
   "id": "93a00315-729e-42d4-9dc0-8cc687a24afd",
   "metadata": {},
   "outputs": [],
   "source": [
    "# 2.15\n",
    "# Rutherford found: \n",
    "# Most of the volume of atom is empy space. Most alpha particles pass through, \n",
    "# not overly affected by puny electron\n",
    "# Most of the mass is in very small area. Alpha particles that hit here\n",
    "# were strong repelled in the direction that game\n",
    "# If different foil is used (I.e. be foil instead of Au foil), mass much smaller and \n",
    "# less repelling happening\n"
   ]
  },
  {
   "cell_type": "code",
   "execution_count": 113,
   "id": "1a55c1cd-d351-4049-9cb7-676c669aa344",
   "metadata": {},
   "outputs": [],
   "source": [
    "# 2.16\n",
    "# Consider Milikan experiment\n",
    "# Change negative charge of crops of oil. \n",
    "# Noted that charge was always integral multiple 1.602 * 10-19, this is charge \n",
    "# of electron"
   ]
  },
  {
   "cell_type": "code",
   "execution_count": 114,
   "id": "3102d779-8165-4405-abb6-a4c2ff12a4e7",
   "metadata": {},
   "outputs": [],
   "source": [
    "##### HISTORY\n",
    "# Dalton: during 1802/1803 - developed atomic theory and postulates\n",
    "# 1800s - experiments of electrical discharge / cathode rays, deflecting electrons\n",
    "# JJ Thompson 1897 cathode rays\n",
    "# Robert Limikan 1909 - size of electron charge"
   ]
  },
  {
   "cell_type": "code",
   "execution_count": 115,
   "id": "700552c0-67bc-4209-877e-ddf79f926d05",
   "metadata": {},
   "outputs": [
    {
     "data": {
      "text/latex": [
       "$\\displaystyle 1.35 ang$"
      ],
      "text/plain": [
       "1.35*ang"
      ]
     },
     "execution_count": 115,
     "metadata": {},
     "output_type": "execute_result"
    }
   ],
   "source": [
    "# 2.17\n",
    "ang = sp.symbols('ang')\n",
    "# Atom of gold is: \n",
    "E1 = 1.35 * ang\n",
    "E1"
   ]
  },
  {
   "cell_type": "code",
   "execution_count": 116,
   "id": "4fef4d64-5f92-4a10-8f9a-a7d433e3a1e6",
   "metadata": {},
   "outputs": [
    {
     "data": {
      "text/latex": [
       "$0.135000000000000 \\; \\mathrm{nm}$"
      ],
      "text/plain": [
       "<Quantity 0.135000000000000 nm>"
      ]
     },
     "execution_count": 116,
     "metadata": {},
     "output_type": "execute_result"
    }
   ],
   "source": [
    "# convert nanometers\n",
    "E2 = .1 * u.nanometer / ang * E1\n",
    "E2"
   ]
  },
  {
   "cell_type": "code",
   "execution_count": 119,
   "id": "bd222931-560f-4918-bf9a-52fc4c7cabe9",
   "metadata": {},
   "outputs": [
    {
     "data": {
      "text/latex": [
       "$135.000000000000 \\; \\mathrm{pm}$"
      ],
      "text/plain": [
       "<Quantity 135.000000000000 pm>"
      ]
     },
     "execution_count": 119,
     "metadata": {},
     "output_type": "execute_result"
    }
   ],
   "source": [
    "# convert to picometers\n",
    "E2.to(u.picometer)"
   ]
  },
  {
   "cell_type": "code",
   "execution_count": 120,
   "id": "9b25f9de-a884-45c7-b842-92c6e92d20f0",
   "metadata": {},
   "outputs": [
    {
     "data": {
      "text/plain": [
       "3703703.7037037034"
      ]
     },
     "execution_count": 120,
     "metadata": {},
     "output_type": "execute_result"
    }
   ],
   "source": [
    "# how many 1.35 angstrons in a mm\n",
    "10000000 / 2.70"
   ]
  },
  {
   "cell_type": "code",
   "execution_count": 122,
   "id": "8a4212cb-be76-43cf-bda3-2f20b63d7bfc",
   "metadata": {},
   "outputs": [
    {
     "data": {
      "text/latex": [
       "$1.8*pi**3 \\; \\mathrm{\\mathring{A}}$"
      ],
      "text/plain": [
       "<Quantity 1.8*pi**3 Angstrom>"
      ]
     },
     "execution_count": 122,
     "metadata": {},
     "output_type": "execute_result"
    }
   ],
   "source": [
    "E3 = (4 / 3) * 1.35 * u.angstrom * sp.pi**3\n",
    "E3"
   ]
  },
  {
   "cell_type": "code",
   "execution_count": 124,
   "id": "965804b0-df57-4b30-977b-d1b7e70b6301",
   "metadata": {},
   "outputs": [
    {
     "data": {
      "text/latex": [
       "$1 \\times 10^{-8} \\; \\mathrm{cm^{3}}$"
      ],
      "text/plain": [
       "<Quantity 1.e-08 cm3>"
      ]
     },
     "execution_count": 124,
     "metadata": {},
     "output_type": "execute_result"
    }
   ],
   "source": [
    "E4 =  ((10 **-8) *  u.centimeter**3) / (1 ) \n",
    "E4"
   ]
  },
  {
   "cell_type": "code",
   "execution_count": 128,
   "id": "e8f508d8-0acf-4d51-b984-aa65739f36f4",
   "metadata": {},
   "outputs": [],
   "source": [
    "# 2.18\n",
    "# Atom of rhodium has diametre of 2.7 * 10 -8 cm\n",
    "# (a) Find radius in angstroms\n",
    "# (b) how many atoms fit into 6 micrometers\n",
    "# (c) Voluem in m3 of single atom'\n",
    "\n"
   ]
  },
  {
   "cell_type": "code",
   "execution_count": 131,
   "id": "cad353da-31ef-4064-91a6-15c41fde2228",
   "metadata": {},
   "outputs": [
    {
     "data": {
      "text/latex": [
       "$2.7 \\times 10^{-8} \\; \\mathrm{cm}$"
      ],
      "text/plain": [
       "<Quantity 2.7e-08 cm>"
      ]
     },
     "execution_count": 131,
     "metadata": {},
     "output_type": "execute_result"
    }
   ],
   "source": [
    "E1 = 2.7 * 10**-8 * u.centimeter\n",
    "E1"
   ]
  },
  {
   "cell_type": "code",
   "execution_count": 134,
   "id": "7b28450d-441a-438c-84f5-ebaad88e4735",
   "metadata": {},
   "outputs": [
    {
     "data": {
      "text/latex": [
       "$1.35 \\; \\mathrm{\\mathring{A}}$"
      ],
      "text/plain": [
       "<Quantity 1.35 Angstrom>"
      ]
     },
     "execution_count": 134,
     "metadata": {},
     "output_type": "execute_result"
    }
   ],
   "source": [
    "E2 = E1.to(u.angstrom)\n",
    "# Radius in angstrom\n",
    "E2 / 2"
   ]
  },
  {
   "cell_type": "code",
   "execution_count": 137,
   "id": "4982cd15-8d1b-420e-8ae3-44aa27bdf1d2",
   "metadata": {},
   "outputs": [
    {
     "data": {
      "text/latex": [
       "$1.35 \\times 10^{-10} \\; \\mathrm{m}$"
      ],
      "text/plain": [
       "<Quantity 1.35e-10 m>"
      ]
     },
     "execution_count": 137,
     "metadata": {},
     "output_type": "execute_result"
    }
   ],
   "source": [
    "E3 = E1.to(u.meter)\n",
    "E3 / 2"
   ]
  },
  {
   "cell_type": "code",
   "execution_count": 138,
   "id": "0355c8cc-1965-490e-8561-eccffb21aa6f",
   "metadata": {},
   "outputs": [
    {
     "data": {
      "text/latex": [
       "$0.00027 \\; \\mathrm{\\mu m}$"
      ],
      "text/plain": [
       "<Quantity 0.00027 um>"
      ]
     },
     "execution_count": 138,
     "metadata": {},
     "output_type": "execute_result"
    }
   ],
   "source": [
    "E4 = E1.to(u.micrometer)\n",
    "E4"
   ]
  },
  {
   "cell_type": "code",
   "execution_count": 139,
   "id": "b4da0b7a-77d4-4e25-b1bd-0d1624cd156b",
   "metadata": {},
   "outputs": [
    {
     "data": {
      "text/latex": [
       "$6 \\; \\mathrm{\\mu m}$"
      ],
      "text/plain": [
       "<Quantity 6. um>"
      ]
     },
     "execution_count": 139,
     "metadata": {},
     "output_type": "execute_result"
    }
   ],
   "source": [
    "E5 = 6 * u.micrometer\n",
    "E5"
   ]
  },
  {
   "cell_type": "code",
   "execution_count": 140,
   "id": "babf8dfb-c07d-4f1e-b89d-7dc9970737df",
   "metadata": {},
   "outputs": [
    {
     "data": {
      "text/latex": [
       "$22222.222 \\; \\mathrm{}$"
      ],
      "text/plain": [
       "<Quantity 22222.22222222>"
      ]
     },
     "execution_count": 140,
     "metadata": {},
     "output_type": "execute_result"
    }
   ],
   "source": [
    "E5 / E4"
   ]
  },
  {
   "cell_type": "code",
   "execution_count": 148,
   "id": "a070b108-e915-4853-81f7-2567adf11ab7",
   "metadata": {},
   "outputs": [],
   "source": [
    "# Formula for sphere\n",
    "E6 = (4 / 3) * sp.pi * 1.35**3"
   ]
  },
  {
   "cell_type": "code",
   "execution_count": 149,
   "id": "32bcb100-d227-42b3-97c9-f7eab95cd14b",
   "metadata": {},
   "outputs": [
    {
     "data": {
      "text/latex": [
       "$\\displaystyle 3.2805 \\pi$"
      ],
      "text/plain": [
       "3.2805*pi"
      ]
     },
     "execution_count": 149,
     "metadata": {},
     "output_type": "execute_result"
    }
   ],
   "source": [
    "E6"
   ]
  },
  {
   "cell_type": "code",
   "execution_count": 164,
   "id": "79ea60aa-e951-45a1-9bdd-86a77d57df60",
   "metadata": {},
   "outputs": [],
   "source": [
    "E6 = (E2 / 2).to(u.meter)**3\n"
   ]
  },
  {
   "cell_type": "code",
   "execution_count": 165,
   "id": "6171855e-c330-4f9e-88f4-23806c952771",
   "metadata": {},
   "outputs": [],
   "source": [
    "# 2.20\n",
    "# False - just has most mass\n",
    "# True\n",
    "# False - protons = neutrons\n",
    "# True"
   ]
  },
  {
   "cell_type": "code",
   "execution_count": 166,
   "id": "67267a9f-34c3-4913-918b-307499cbacbf",
   "metadata": {},
   "outputs": [],
   "source": [
    "# 2.21\n",
    "# Atomic number - number of protons\n",
    "# Atomic mass number - number of protons and neutrons\n",
    "# Nuetrons can vary"
   ]
  },
  {
   "cell_type": "code",
   "execution_count": 171,
   "id": "991ce122-e471-4f31-bc89-1d9073aeeba7",
   "metadata": {},
   "outputs": [],
   "source": [
    "# 2.23\n",
    "# (a) Argon: 18 protons, 22 neutrons, 18 electrons\n",
    "# (b) Zinc: 30: prtons, 35 neutrons, 30 electrons\n",
    "# (c) Gallium: 31 protons, 39 neutrons, 31 electrons\n",
    "# (d) Bromine: 35 protons, 45 neutrons, 35 electrons\n",
    "# (e) Tungsten: 74 protons, 110 neutrons, 74 electons\n",
    "# (f) Americanim: 95 prtons, 148 neutrons, 95 electons"
   ]
  },
  {
   "cell_type": "code",
   "execution_count": 172,
   "id": "d7cc4ab6-b70a-4eaf-b986-8cc6ecd8efd0",
   "metadata": {},
   "outputs": [],
   "source": [
    "# 2.24\n",
    "# (a) phosphorus 32: 15 protons, 17 neutrons\n",
    "# (b) chromium 51: 24 protons, 27 neutrons\n",
    "# (c) cobalt 60: 27 protons, 33 neutrons\n",
    "# (d) technetium 99: 43 protons, 56 neutrons\n",
    "# (e) iodine 131: 53 protons, 78 neutrons\n",
    "# (f) thallium 201: 81 protons, 120 neutrons"
   ]
  },
  {
   "cell_type": "code",
   "execution_count": 176,
   "id": "7cf10482-4eab-4dcd-99be-536c75813703",
   "metadata": {},
   "outputs": [
    {
     "data": {
      "text/plain": [
       "196"
      ]
     },
     "execution_count": 176,
     "metadata": {},
     "output_type": "execute_result"
    }
   ],
   "source": [
    "# 2.27\n",
    "# (a)platinum with 118  neutrons\n",
    "118 + 78"
   ]
  },
  {
   "cell_type": "markdown",
   "id": "50bb273e-5222-40d8-91da-18cf32b0354f",
   "metadata": {},
   "source": [
    "$$ _{78}^{196}Pt$$"
   ]
  },
  {
   "cell_type": "code",
   "execution_count": 177,
   "id": "922c1b37-77d7-4630-a302-65c55d049cc0",
   "metadata": {},
   "outputs": [
    {
     "data": {
      "text/plain": [
       "48"
      ]
     },
     "execution_count": 177,
     "metadata": {},
     "output_type": "execute_result"
    }
   ],
   "source": [
    "# (b) krypton with mass number 84\n",
    "84 - 36"
   ]
  },
  {
   "cell_type": "markdown",
   "id": "6731f2ee-088e-4692-a0cd-90a37e772088",
   "metadata": {},
   "source": [
    "$$ _{36}^{84} Kr $$"
   ]
  },
  {
   "cell_type": "code",
   "execution_count": 178,
   "id": "bbb9b019-f40b-4a04-b0cf-d2198d94f177",
   "metadata": {},
   "outputs": [
    {
     "data": {
      "text/plain": [
       "42"
      ]
     },
     "execution_count": 178,
     "metadata": {},
     "output_type": "execute_result"
    }
   ],
   "source": [
    "# (c) arsenic, mass number 74\n",
    "75 - 33"
   ]
  },
  {
   "cell_type": "markdown",
   "id": "6d094386-8323-4ff9-b76d-5aa278e854b0",
   "metadata": {},
   "source": [
    "$$ _{33}^{75}As $$"
   ]
  },
  {
   "cell_type": "code",
   "execution_count": 179,
   "id": "b423f0d5-789f-4b2c-8433-bee6aa304eed",
   "metadata": {},
   "outputs": [],
   "source": [
    "# 2.29\n",
    "# Carbon 12 is the standard in establishing - so is 12 amu"
   ]
  },
  {
   "cell_type": "code",
   "execution_count": 181,
   "id": "44d87c52-a953-468c-bac4-b4f102582615",
   "metadata": {},
   "outputs": [
    {
     "data": {
      "text/plain": [
       "63.54564506"
      ]
     },
     "execution_count": 181,
     "metadata": {},
     "output_type": "execute_result"
    }
   ],
   "source": [
    "# 2.31\n",
    "(.6917 * 62.9296) + (.3083 * 64.9278 )"
   ]
  },
  {
   "cell_type": "code",
   "execution_count": 183,
   "id": "34ca86ca-3783-4172-8029-6614fb35ea24",
   "metadata": {},
   "outputs": [
    {
     "data": {
      "text/plain": [
       "85.4680759"
      ]
     },
     "execution_count": 183,
     "metadata": {},
     "output_type": "execute_result"
    }
   ],
   "source": [
    "# 2.32\n",
    "# Atomic weight of Rubidium\n",
    "(.7215 * 84.9118) + (.2785 * 86.9092)"
   ]
  },
  {
   "cell_type": "code",
   "execution_count": 184,
   "id": "36f083e8-137e-4d41-9197-186af74e359b",
   "metadata": {},
   "outputs": [],
   "source": [
    "# 2.33\n",
    "#(a) Charged particles passed through magnetic field. Charged particles deflected \n",
    "# according to mass and charge. For constant field strength, speed of particles\n",
    "# lighter particles experience a greater deflection\n",
    "#(b) x axis is atomic weight, y axis signal intensity\n",
    "# (c) Uncharged particles are not deflected"
   ]
  },
  {
   "cell_type": "code",
   "execution_count": 185,
   "id": "5d23785b-aa1f-4e2c-b9b6-4b05d22cef16",
   "metadata": {},
   "outputs": [],
   "source": [
    "# 2.37\n",
    "# Periodic table property questions\n",
    "# Find details of element, give atomic number, and what type it is \n",
    "# (a) Chromium, 24, metal\n",
    "# (b) Helium, 2, non-metal\n",
    "# (c) Phosphorus, 25, non-metal\n",
    "# (d) Zinc, 30, metal\n",
    "# (e) Magnesium, 12, metal\n",
    "# (f) Bromine35, metal\n",
    "# (g) Arsenic, 33, metalloid"
   ]
  },
  {
   "cell_type": "code",
   "execution_count": 186,
   "id": "ad4e7f89-a9cf-4fb2-bd8f-66829d939044",
   "metadata": {},
   "outputs": [],
   "source": [
    "# 2.39\n",
    "# Potassium: Group 1, metal\n",
    "# Iodine: Group 17, metal\n",
    "# Mg, Group 2, earth metal\n",
    "# Argon: Group 18, non metal, nobal gas\n",
    "# Sulphur: S, Group 16, non metal"
   ]
  },
  {
   "cell_type": "code",
   "execution_count": 187,
   "id": "e354cd61-605e-43ae-8c48-3561a7fdc5c0",
   "metadata": {},
   "outputs": [],
   "source": [
    "# 2.41\n",
    "# Empirial tells just the ratio\n",
    "# Molecular tells exactly how many\n",
    "# Structural tells where they are"
   ]
  },
  {
   "cell_type": "markdown",
   "id": "e4422c7a-9c66-4d45-903a-6f457f27dfe6",
   "metadata": {},
   "source": [
    "#### Note on ordering \n",
    "\n",
    "If the compound is made of a metal element and a nonmetal element, then the metal element is first. If there are two nonmetal elements, then the first name is the element to the left side of the periodic table\n",
    "\n",
    "Metal first, then L/R"
   ]
  },
  {
   "cell_type": "code",
   "execution_count": 188,
   "id": "6d550589-6ac8-4937-bfd1-058491f73715",
   "metadata": {},
   "outputs": [],
   "source": [
    "# 2.44\n",
    "# Benzene \n",
    "# empirical formula: HC\n",
    "# molecular formula: H6C6\n",
    "\n",
    "# Silicon Tetrachloride\n",
    "# empirical formula: SiCl4\n",
    "# molecular formula: SiCl4\n",
    "\n",
    "# Diborane\n",
    "# empirical formula: BH3\n",
    "# molecular formular: B2H6\n",
    "\n",
    "# Glucose\n",
    "# empirical: CH2O\n",
    "# molecular: C6H12O6\"\n"
   ]
  },
  {
   "cell_type": "code",
   "execution_count": null,
   "id": "df628d71-645d-48a8-b53a-8ce396c47a9a",
   "metadata": {},
   "outputs": [],
   "source": [
    "# 2.45\n",
    "# (a) 6\n",
    "# (b) 6\n",
    "# (c) 12"
   ]
  }
 ],
 "metadata": {
  "kernelspec": {
   "display_name": "Python 3",
   "language": "python",
   "name": "python3"
  },
  "language_info": {
   "codemirror_mode": {
    "name": "ipython",
    "version": 3
   },
   "file_extension": ".py",
   "mimetype": "text/x-python",
   "name": "python",
   "nbconvert_exporter": "python",
   "pygments_lexer": "ipython3",
   "version": "3.9.2"
  }
 },
 "nbformat": 4,
 "nbformat_minor": 5
}
