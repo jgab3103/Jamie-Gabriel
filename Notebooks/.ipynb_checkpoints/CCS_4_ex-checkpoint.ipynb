{
 "cells": [
  {
   "cell_type": "code",
   "execution_count": 3,
   "id": "09d739b7-452b-440e-b856-8a6712d5a439",
   "metadata": {},
   "outputs": [],
   "source": [
    "# !pip install chempy\n",
    "# !pip install periodictable\n",
    "# !pip install PyAstronomy\n",
    "# !pip install molmass\n",
    "# !pip install rdkit\n",
    "# !pip install astropy\n",
    "# !pip install mendeleev\n",
    "\n",
    "\n",
    "import periodictable as pt\n",
    "import chempy as ch\n",
    "import numpy as np\n",
    "import sympy as sp\n",
    "import molmass as mm\n",
    "import pickle\n",
    "from IPython.display import HTML\n",
    "import ipywidgets as widgets\n",
    "import matplotlib as mpl\n",
    "import matplotlib.pyplot as plt\n",
    "from mpl_toolkits.mplot3d import Axes3D\n",
    "import matplotlib.pyplot as plt\n",
    "mpl.rcParams['legend.fontsize'] = 10\n",
    "import pandas as pd\n",
    "import itertools\n",
    "pd.set_option('display.max_colwidth', None)\n",
    "from sympy.plotting import plot \n",
    "from IPython.display import Image\n",
    "from PyAstronomy import pyasl\n",
    "import decimal\n",
    "import mendeleev as me\n",
    "\n",
    "from sympy.physics.units.systems import SI\n",
    "from rdkit import Chem\n",
    "from rdkit.Chem import Draw\n",
    "# from astropy import units as u\n",
    "import sympy.physics.units as u\n",
    "import scipy as scp\n",
    "\n",
    "from sympy.physics.units import speed_of_light, meter, gram, second, day, pound\n",
    "from sympy.physics.units import mile, newton, kilogram, atomic_mass_constant\n",
    "from sympy.physics.units import kilometer, centimeter, millimeter, nanometer\n",
    "from sympy.physics.units import gravitational_constant, hbar, kPa, newton\n",
    "from sympy.physics.units import convert_to\n",
    "\n",
    "def RTL(e):\n",
    "    \"\"\"INPUT PARAMS: [] of math expressions\"\"\"\n",
    "    latex_rendering = []\n",
    "\n",
    "    for i in range(len(e)):\n",
    "        latex_rendering.append(\"$\" + sp.latex(e[i]) + \"$ &nbsp;&nbsp;\")\n",
    "    \n",
    "    return(HTML(\"\".join(latex_rendering[0:])))\n",
    "\n",
    "def BalanceChemEquation(L, R):\n",
    "    \"\"\" INPUT PARAMS: 2 * {} containing react and prod\"\"\"\n",
    "    reac, prod = ch.balance_stoichiometry(L, R)\n",
    "    Reaction = ch.Reaction(reac, prod)\n",
    "    return([Reaction, [reac, prod]])\n",
    "    \n"
   ]
  },
  {
   "cell_type": "markdown",
   "id": "1b334058-2a74-4d58-8a37-9b1cebc80eb4",
   "metadata": {},
   "source": [
    "####  4.1 - 4.5\n",
    "\n",
    "These are visual questions. \n",
    "\n",
    "But note: \n",
    "\n",
    "- weak electrolyte is characterised by fewer ions form when molecultes\n",
    "- strong electrolyte is when all molecultes break up into ions when they dissolve\n",
    "\n",
    "Note that CH3COOH is a weak acid because it has a lower ion concentration and HBr is a strong acid, higher ion concentration"
   ]
  },
  {
   "cell_type": "markdown",
   "id": "09895607-e16d-4e15-b72e-1c35a4f0b1b6",
   "metadata": {},
   "source": [
    "##### 4.5\n",
    "\n",
    "You are presented with a white solid and told that due to careless labeling it is not clear if the substance is barium chloride,\n",
    "lead chloride, or zinc chloride. When you transfer the solid to\n",
    "a beaker and add water, the solid dissolves to give a clear solution. Next a Na2SO4(aq) solution is added and a white precipitate forms. What is the identity of the unknown white solid?"
   ]
  },
  {
   "cell_type": "markdown",
   "id": "b5e07aa4-a25e-42e2-96c0-e337787adaca",
   "metadata": {},
   "source": [
    "##### Answer: \n",
    "\n",
    "To answer this, get each of the formulas of what has been given: \n",
    "- barium chloride\n",
    "- lead chloride\n",
    "- zinc chloride\n",
    "\n",
    "They are: \n",
    "- BaCl2\n",
    "- PbCl₂\n",
    "- ZnCl₂\n",
    "\n",
    "Note that these are ionic compounds. \n",
    "\n",
    "First, check if soluble in H20. From the solubility rules, note that PbCl2 is not soluble in water. \n",
    "\n",
    "This means after adding H20, it can only be: \n",
    "- BaCl2 \n",
    "- ZnCl2\n",
    "\n",
    "Now create a reaction with Sodium Sulphate (NaSO4). \n",
    "\n",
    "Again, check the solubility rules. Note that BaSO4 which forms from the reaction is insoluable and thus a precipitate\n",
    "\n",
    "This question is all about memorising standard things which are known about reactions"
   ]
  },
  {
   "cell_type": "markdown",
   "id": "2a98c3e1-e7b7-4545-a8df-a87691a3f8d5",
   "metadata": {},
   "source": [
    "##### 4.6\n",
    "We have seen that ions in aqueous solution are stabilized\n",
    "by the attractions between the ions and the water molecules.\n",
    "Why then do some pairs of ions in solution form precipitates?\n"
   ]
  },
  {
   "cell_type": "markdown",
   "id": "4a60d1d6-1190-4e42-8c90-e6ad38ac34d7",
   "metadata": {},
   "source": [
    "##### Answer: \n",
    "\n",
    "Precipitation happens when pairs of oppositely charged ions attract each other so strongly that they form an insoluble ionic solid. They cannot be surounded and seperated. So - attraction outweighs stabilization offered by individual ions"
   ]
  },
  {
   "cell_type": "markdown",
   "id": "33684c36-d0dd-4435-ab53-8d061bf06093",
   "metadata": {},
   "source": [
    "#### 4.7\n",
    "\n",
    "Which of the following ions will always be a spectator ion in a\n",
    "precipitation reaction? \n",
    "\n",
    "(a) Cl [-], \n",
    "\n",
    "(b) NO3[-], \n",
    "\n",
    "(c) NH4[+] , \n",
    "\n",
    "(d) S2[-],\n",
    "\n",
    "(e)SO4[2-]"
   ]
  },
  {
   "cell_type": "markdown",
   "id": "fa1fb293-6564-4bb2-b186-e66a9ae09c4e",
   "metadata": {},
   "source": [
    "##### Answer: \n",
    "\n",
    "Note that if ions cannot form precipitates, they will always be spectator ions\n",
    "\n",
    "(a) Cl-: Can only form precipiates with Ag+, Hg+2, Pg+2\n",
    "\n",
    "(b) NO3- never forms precipitates, so is always a spectator ions\n",
    "\n",
    "(c) NH4+ never forms precipitates, so is always a spectator ion\n",
    "\n",
    "(d) S2 usually forms precipitates (exceptions are alkali metals, ammonium ion). So will not be a spectator ion \n",
    "\n",
    "(e) SO4+2 can form precipitates with Ba, Hg, Pb, Sr \n",
    "\n",
    "This question just requires you to know the solubility rules"
   ]
  },
  {
   "cell_type": "markdown",
   "id": "2e64a686-b105-44c9-a630-8ead4358e0f8",
   "metadata": {},
   "source": [
    "##### 4.8\n",
    "\n",
    "The labels have fallen off three bottles containing powdered\n",
    "samples of metals; one contains zinc, one lead, and the other\n",
    "platinum. You have three solutions at your disposal: 1 M\n",
    "sodium nitrate, 1 M nitric acid, and 1 M nickel nitrate. How\n",
    "could you use these solutions to determine the identities of\n",
    "each metal powder? "
   ]
  },
  {
   "cell_type": "markdown",
   "id": "328f9c42-5789-4279-af9e-84449b1e9c9c",
   "metadata": {},
   "source": [
    "##### Answer:\n",
    "\n",
    "To answer this, use the activity series of metals. Note that oxidation is a chemical reaction that takes place when a substance comes into contact with oxygen or another oxidizing substance (i.e. rust, cut apple)\n",
    "\n",
    "The activity table states that any metal on the list can be oxidised by the ions of elements below it. \n",
    "\n",
    "Get the formulas\n",
    "\n",
    "- Sodium Nitrate (NaNO3)\n",
    "- Nitric Acid (HNO3)\n",
    "- Nickel Nitrate (Ni(NO3)2)\n",
    "\n",
    "Note that the nitric acid will in an aquues solution will disolve Zn and Pg which appear above\n",
    "\n",
    "Nitric acid will not disolve platinum. \n",
    "\n",
    "So now we we know if it is either platinum, or (Zinc or Lead)\n",
    "\n",
    "To find if Zinc or Lead, note twe have Nickel nitrate. This will dissolve iron but not lead. \n",
    "\n",
    "So we thus know which is which. \n",
    "\n",
    "This question is just about memorising the Activity series, and which ions will be formed in aqueous solution by a metal, and how these ions will then dissolve metals higher in the list\n"
   ]
  },
  {
   "cell_type": "markdown",
   "id": "1766be4c-84f4-4dd5-b246-92088f1e6483",
   "metadata": {},
   "source": [
    "#### 4.9\n",
    "\n",
    "Explain how a redox reaction involves electrons in the same\n",
    "way that a neutralization reaction involves protons."
   ]
  },
  {
   "cell_type": "markdown",
   "id": "231cc28d-6003-4004-8adc-032a30e965c0",
   "metadata": {},
   "source": [
    "##### Answer: \n",
    "\n",
    "In an redox reactin, one reactant loses electrons, another gains electrons. \n",
    "\n",
    "Electrons get transferred between reactants\n",
    "\n",
    "Note that acids are reactants that ionise in aqeous solution to produce/donate H+ ions. Bases are substances that react with or accept H+ ions\n",
    "\n",
    "Redox reactions are characterised by tracking electron transfer using oxidisatin nubmers\n",
    "\n",
    "Acid-base reactins are charactersied by tracking H+ proton transfer via molecular formulas\n",
    "\n",
    "Nothing difficult here, but you should know how to calculate oxidation numbers"
   ]
  },
  {
   "cell_type": "markdown",
   "id": "347b7618-9e4e-4dea-abc4-2daa038e08d2",
   "metadata": {},
   "source": [
    "##### 4.10\n",
    "\n",
    "If you want to double the concentration of a solution, how\n",
    "could you do it? "
   ]
  },
  {
   "cell_type": "markdown",
   "id": "2584df18-c7aa-4896-a495-4e442f5b4bea",
   "metadata": {},
   "source": [
    "##### Answer: \n",
    "\n",
    "Nothing fancy to answer there. \n",
    "\n",
    "Concentration is ratio of solute to solution\n",
    "\n",
    "Double the amount of solute but keep volume the same will do it. "
   ]
  },
  {
   "cell_type": "markdown",
   "id": "a63dc8e7-5b48-4a90-96fe-d3f8f54edf83",
   "metadata": {},
   "source": [
    "##### 4.11"
   ]
  },
  {
   "cell_type": "code",
   "execution_count": null,
   "id": "d716bdd5-da04-4ad4-8138-2f159c02a534",
   "metadata": {},
   "outputs": [],
   "source": []
  }
 ],
 "metadata": {
  "kernelspec": {
   "display_name": "Python 3",
   "language": "python",
   "name": "python3"
  },
  "language_info": {
   "codemirror_mode": {
    "name": "ipython",
    "version": 3
   },
   "file_extension": ".py",
   "mimetype": "text/x-python",
   "name": "python",
   "nbconvert_exporter": "python",
   "pygments_lexer": "ipython3",
   "version": "3.9.2"
  }
 },
 "nbformat": 4,
 "nbformat_minor": 5
}
