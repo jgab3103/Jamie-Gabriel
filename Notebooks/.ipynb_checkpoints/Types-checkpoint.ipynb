{
 "cells": [
  {
   "cell_type": "markdown",
   "metadata": {},
   "source": [
    "<h3>Types</h3>\n",
    "<div>This notebook contains an overview of all types used in proofs</div>\n",
    "<br/>\n",
    "\n",
    "[Bit](#Bit)<br/>\n",
    "[Cyclic List](#List)<br/>\n",
    "[Cyclic Orientated Polygon](#List)<br/>\n",
    "[Field](#List)<br/>\n",
    "[Integer](#List)<br/>\n",
    "[Line](#Finite_Field)</br>\n",
    "[List](#List)<br/>\n",
    "[Mass](#List)<br/>\n",
    "[MSet](#Finite_Field)</br>\n",
    "[Natural](#List)<br/>\n",
    "[Orientated Side](#Finite_Field)</br>\n",
    "[Orientated Edge](#Finite_Field)</br>\n",
    "[Orientated Triangle](#Finite_Field)</br>\n",
    "[Orientated Polygonal Spline](#Finite_Field)</br>\n",
    "[OSet](#Finite_Field)</br>\n",
    "[Parallelogram](#Finite_Field)</br>\n",
    "[Plane](#Finite_Field)</br>\n",
    "[Point](#Finite_Field)</br>\n",
    "[Rational](#Finite_Field)</br>\n",
    "[Set](#Finite_Field)</br>\n",
    "[Side](#Finite_Field)</br>\n",
    "[Slope](#Finite_Field)</br>\n",
    "[Triangle](#Finite_Field)</br>\n",
    "[Vector](#Finite_Field)</br>\n",
    "\n",
    "\n",
    "\n",
    "\n",
    "\n",
    "\n",
    "\n",
    "\n",
    "\n",
    "\n",
    "\n"
   ]
  },
  {
   "cell_type": "markdown",
   "metadata": {},
   "source": [
    "### Bit <a class=\"anchor\" id=\"Bit\"></a>\n",
    "<div>asdfasdf</div>"
   ]
  },
  {
   "cell_type": "code",
   "execution_count": null,
   "metadata": {},
   "outputs": [],
   "source": []
  }
 ],
 "metadata": {
  "kernelspec": {
   "display_name": "SageMath 9.0",
   "language": "sage",
   "name": "sagemath"
  },
  "language_info": {
   "codemirror_mode": {
    "name": "ipython",
    "version": 3
   },
   "file_extension": ".py",
   "mimetype": "text/x-python",
   "name": "python",
   "nbconvert_exporter": "python",
   "pygments_lexer": "ipython3",
   "version": "3.7.3"
  }
 },
 "nbformat": 4,
 "nbformat_minor": 4
}
