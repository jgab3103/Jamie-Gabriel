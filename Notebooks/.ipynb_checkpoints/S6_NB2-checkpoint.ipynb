{
 "cells": [
  {
   "cell_type": "code",
   "execution_count": 2,
   "id": "6dd866d6-49eb-4efc-94c5-70044517bc26",
   "metadata": {},
   "outputs": [],
   "source": [
    "import numpy as np\n",
    "import sympy as sp\n",
    "import pickle\n",
    "from IPython.display import HTML\n",
    "import ipywidgets as widgets\n",
    "import matplotlib as mpl\n",
    "import matplotlib.pyplot as plt\n",
    "from mpl_toolkits.mplot3d import Axes3D\n",
    "import matplotlib.pyplot as plt\n",
    "mpl.rcParams['legend.fontsize'] = 10\n",
    "import pandas as pd\n",
    "import itertools\n",
    "pd.set_option('display.max_colwidth', None)\n",
    "from sympy.plotting import plot \n",
    "from IPython.display import Image\n",
    "\n",
    "\n",
    "# Render to Latex function \n",
    "def RTL(e):\n",
    "    latex_rendering = []\n",
    "\n",
    "    for i in range(len(e)):\n",
    "        latex_rendering.append(\"$\" + sp.latex(e[i]) + \"$ &nbsp;&nbsp;\")\n",
    "    \n",
    "    return(HTML(\"\".join(latex_rendering[0:])))"
   ]
  },
  {
   "cell_type": "markdown",
   "id": "05327fb7-668b-4803-96b0-ebcfbe60e489",
   "metadata": {},
   "source": [
    "### Linear Algebra Notes II\n",
    "\n",
    "\n",
    "\n",
    "- A more formal understanding of functions\n",
    "- Vector transformations\n",
    "- Linear transformation\n",
    "- Matrix vector products as linear transformations\n",
    "- Linear transformations as matrix vector products\n",
    "\n",
    "<hr/>\n",
    "\n",
    "####  A more formal understanding of functions\n",
    "\n",
    "<b>Note</b> function is a mapping from one set to another: \n",
    "\n",
    "$$ f: X \\rightarrow Y$$\n",
    "\n",
    "function is a relationship between sets\n",
    "\n",
    "eg - $f(x) = x^2$\n",
    "\n",
    "is actually\n",
    "\n",
    "eg - $ \\mathbb{R} \\rightarrow \\mathbb{R}$\n",
    "\n",
    "so idea is associating x with x^2\n",
    "\n",
    "$ f:x \\mapsto x^2$\n",
    "\n",
    "<b>Note</b> set mappint from <b>Domain</b>, set mapping to is <b>codomain</b> (set that can be possible mapped to). <b>Range</b> is subset of codomain that function acutlly pmaps too - funciton is association \n",
    "\n"
   ]
  },
  {
   "cell_type": "markdown",
   "id": "22b2875d-aa6f-409e-af53-1f93d4c3bf37",
   "metadata": {},
   "source": [
    " map from R in 2 dim, to R\n",
    " \n",
    " Example\n",
    " \n",
    " $g: \\mathbb{R^2} \\mapsto \\mathbb{R} $\n",
    " \n",
    " $ g(x_1, x_2) = 2 $ or $g: x_1, x_2 \\mapsto 2 $\n",
    " \n",
    " Domain is reals, codomain is R2, range is 2\n",
    " \n",
    " note $h: \\mathbb{R^2} \\mapsto \\mathbb{R^n} $ shows h as vector valued function\n",
    " \n",
    " <hr/>"
   ]
  },
  {
   "cell_type": "markdown",
   "id": "a9301469-6f5b-4b0a-971f-620b45030aa2",
   "metadata": {},
   "source": [
    "#### Vector transformations\n",
    "\n",
    "<b>Note</b> that vectors can be members of sets\n",
    "\n",
    "$\\vec{x} \\in \\mathbb{R^n} $ were $\\mathbb{R^n}$ is set of all n-tuples\n",
    "\n",
    "talking about - Vectors are ordered list of n components that have vectors in each columns\n",
    "\n",
    "so we can have $f: \\mathbb{R^n} \\mapsto \\mathbb{R^m}$ so mapping between vectors\n",
    "\n",
    "<b>Note</b> Linear transformation is function operating on vectors\n",
    "\n",
    "also use T(x, y, z) as nomenclature\n",
    "\n",
    "$T: \\mathbb{R^3} \\mapsto \\mathbb{R^2} $"
   ]
  },
  {
   "cell_type": "code",
   "execution_count": 3,
   "id": "e89f0f4e-4faf-4f1e-b5f5-c9cf58da9b28",
   "metadata": {},
   "outputs": [
    {
     "data": {
      "text/latex": [
       "$\\displaystyle \\left[\\begin{matrix}10\\\\3\\end{matrix}\\right]$"
      ],
      "text/plain": [
       "Matrix([\n",
       "[10],\n",
       "[ 3]])"
      ]
     },
     "execution_count": 3,
     "metadata": {},
     "output_type": "execute_result"
    }
   ],
   "source": [
    "# example\n",
    "\n",
    "E1 = sp.Matrix([2, 4, 1])\n",
    "\n",
    "sp.Matrix([E1[0] + 2 * E1[1], 3 * E1[2]])"
   ]
  },
  {
   "cell_type": "markdown",
   "id": "f6bc8604-69d8-4a27-a6fe-fa391e979094",
   "metadata": {},
   "source": [
    "#### Linear transformation\n",
    "\n",
    "T: R^m -> R^n where $\\vec{a} \\vec{b} \\in \\mathbb{R^n}$ is a transformation when  the following is true: \n",
    "\n",
    "\n",
    "\n",
    "- $T(\\vec{a} + \\vec{b}) = T(\\vec{a}) + T(\\vec{b}) $\n",
    "\n",
    "- $T(c\\vec{a} + \\vec{b}) = c T(\\vec{a}) $"
   ]
  },
  {
   "cell_type": "markdown",
   "id": "464ef5b4-bfba-454f-bcf4-3c49a2ba1a11",
   "metadata": {},
   "source": [
    "#### Matrix vector products as linear transformations\n",
    "\n",
    "Note vector product can be regarded as linear transformation\n",
    "\n",
    "$$ A = [v_1, v_2...., v_m]$$\n",
    "\n",
    "T: Rn -> Rm\n",
    "    "
   ]
  },
  {
   "cell_type": "markdown",
   "id": "5b32aa55-3ccb-4b75-9564-f1687875fc7d",
   "metadata": {},
   "source": [
    "#### Linear transformations as matrix vector products\n",
    "\n",
    "Note matrix is vector defined where 1 on the diagonal\n",
    "\n",
    "\n",
    "$$ \\displaystyle \\left[\\begin{matrix}1 & 0 & 0 & 0 & 0\\\\0 & 1 & 0 & 0 & 0\\\\0 & 0 & 1 & 0 & 0\\\\0 & 0 & 0 & 1 & 0\\\\0 & 0 & 0 & 0 & 1\\end{matrix}\\right] \n",
    "$$\n",
    "    \n",
    "\n",
    "\n",
    "\n",
    "If you multipley the I_n * by any n shaped vector, returns vector"
   ]
  },
  {
   "cell_type": "code",
   "execution_count": 4,
   "id": "790488ac-9f03-436f-932b-c6368a37cce0",
   "metadata": {},
   "outputs": [],
   "source": [
    "# consider n x n matrix\n",
    "\n",
    "# E1 is a STANDARD BASIS"
   ]
  },
  {
   "cell_type": "code",
   "execution_count": 5,
   "id": "a14aeae0-e17c-4e70-b699-4c9733c660bf",
   "metadata": {},
   "outputs": [
    {
     "data": {
      "text/latex": [
       "$\\displaystyle \\left[\\begin{matrix}1 & 0 & 0 & 0 & 0\\\\0 & 1 & 0 & 0 & 0\\\\0 & 0 & 1 & 0 & 0\\\\0 & 0 & 0 & 1 & 0\\\\0 & 0 & 0 & 0 & 1\\end{matrix}\\right]$"
      ],
      "text/plain": [
       "Matrix([\n",
       "[1, 0, 0, 0, 0],\n",
       "[0, 1, 0, 0, 0],\n",
       "[0, 0, 1, 0, 0],\n",
       "[0, 0, 0, 1, 0],\n",
       "[0, 0, 0, 0, 1]])"
      ]
     },
     "execution_count": 5,
     "metadata": {},
     "output_type": "execute_result"
    }
   ],
   "source": [
    "# Example\n",
    "E1 = sp.eye(5)\n",
    "E1"
   ]
  },
  {
   "cell_type": "code",
   "execution_count": 6,
   "id": "c88ca24a-3fac-4af7-9c39-f6bc78e47d78",
   "metadata": {},
   "outputs": [
    {
     "data": {
      "text/latex": [
       "$\\displaystyle \\left[\\begin{matrix}3\\\\4\\\\5\\\\6\\\\22\\end{matrix}\\right]$"
      ],
      "text/plain": [
       "Matrix([\n",
       "[ 3],\n",
       "[ 4],\n",
       "[ 5],\n",
       "[ 6],\n",
       "[22]])"
      ]
     },
     "execution_count": 6,
     "metadata": {},
     "output_type": "execute_result"
    }
   ],
   "source": [
    "E2 = sp.Matrix([3,4,5,6,22])\n",
    "E2"
   ]
  },
  {
   "cell_type": "code",
   "execution_count": 7,
   "id": "c81b3c2b-39c3-4c54-b6d5-c249655ef256",
   "metadata": {},
   "outputs": [
    {
     "data": {
      "text/latex": [
       "$\\displaystyle \\left[\\begin{matrix}3\\\\4\\\\5\\\\6\\\\22\\end{matrix}\\right]$"
      ],
      "text/plain": [
       "Matrix([\n",
       "[ 3],\n",
       "[ 4],\n",
       "[ 5],\n",
       "[ 6],\n",
       "[22]])"
      ]
     },
     "execution_count": 7,
     "metadata": {},
     "output_type": "execute_result"
    }
   ],
   "source": [
    "# \n",
    "E1 * E2"
   ]
  },
  {
   "cell_type": "code",
   "execution_count": null,
   "id": "851cb251-93b0-4e06-a76e-e698dbee4d66",
   "metadata": {},
   "outputs": [],
   "source": [
    "# transformation so this ends up being linear "
   ]
  },
  {
   "cell_type": "code",
   "execution_count": 18,
   "id": "524091b5-f8ad-49b5-bd90-2af56ccdc156",
   "metadata": {},
   "outputs": [
    {
     "data": {
      "text/latex": [
       "$\\displaystyle \\left[\\begin{matrix}3\\end{matrix}\\right]$"
      ],
      "text/plain": [
       "Matrix([[3]])"
      ]
     },
     "execution_count": 18,
     "metadata": {},
     "output_type": "execute_result"
    }
   ],
   "source": [
    "E1.col(0).T * E2"
   ]
  },
  {
   "cell_type": "code",
   "execution_count": null,
   "id": "41a1f613-d4c3-427f-91ac-6b6807d81ce8",
   "metadata": {},
   "outputs": [],
   "source": []
  },
  {
   "cell_type": "code",
   "execution_count": null,
   "id": "909c6734-98de-4736-b50d-c7626bf4fb33",
   "metadata": {},
   "outputs": [],
   "source": []
  },
  {
   "cell_type": "code",
   "execution_count": 397,
   "id": "88071b8d-989c-4388-9cf1-85b05c7cca48",
   "metadata": {},
   "outputs": [],
   "source": [
    "# Create required variables\n",
    "a, b, c, d, x1, x2, x3, x4, c1, c2, c3, t, a1, a2, a3, b1, b2, b3 = sp.symbols('a, b, c, d, x1, x2, x3, x4, c1, c2, c3, t, a1, a2, a3, b1, b2, b3')"
   ]
  },
  {
   "cell_type": "code",
   "execution_count": null,
   "id": "181081d7-3fa7-42bc-b49d-e529536d9eb7",
   "metadata": {},
   "outputs": [],
   "source": []
  }
 ],
 "metadata": {
  "kernelspec": {
   "display_name": "Python 3",
   "language": "python",
   "name": "python3"
  },
  "language_info": {
   "codemirror_mode": {
    "name": "ipython",
    "version": 3
   },
   "file_extension": ".py",
   "mimetype": "text/x-python",
   "name": "python",
   "nbconvert_exporter": "python",
   "pygments_lexer": "ipython3",
   "version": "3.9.2"
  }
 },
 "nbformat": 4,
 "nbformat_minor": 5
}
