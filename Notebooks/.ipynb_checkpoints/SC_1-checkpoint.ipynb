{
 "cells": [
  {
   "cell_type": "code",
   "execution_count": 25,
   "id": "6dd866d6-49eb-4efc-94c5-70044517bc26",
   "metadata": {},
   "outputs": [],
   "source": [
    "# !pip install chempy\n",
    "# !pip install periodictable\n",
    "# !pip install PyAstronomy\n",
    "\n",
    "import periodictable as pt\n",
    "import chempy as ch\n",
    "import numpy as np\n",
    "import sympy as sp\n",
    "import pickle\n",
    "from IPython.display import HTML\n",
    "import ipywidgets as widgets\n",
    "import matplotlib as mpl\n",
    "import matplotlib.pyplot as plt\n",
    "from mpl_toolkits.mplot3d import Axes3D\n",
    "import matplotlib.pyplot as plt\n",
    "mpl.rcParams['legend.fontsize'] = 10\n",
    "import pandas as pd\n",
    "import itertools\n",
    "pd.set_option('display.max_colwidth', None)\n",
    "from sympy.plotting import plot \n",
    "from IPython.display import Image\n",
    "from PyAstronomy import pyasl\n",
    "import decimal\n",
    "\n",
    "import sympy.physics.units as u\n",
    "from sympy.physics.units.systems import SI\n",
    "\n",
    "def RTL(e):\n",
    "    \"\"\"INPUT PARAMS: [] of math expressions\"\"\"\n",
    "    latex_rendering = []\n",
    "\n",
    "    for i in range(len(e)):\n",
    "        latex_rendering.append(\"$\" + sp.latex(e[i]) + \"$ &nbsp;&nbsp;\")\n",
    "    \n",
    "    return(HTML(\"\".join(latex_rendering[0:])))\n",
    "\n",
    "\n",
    "def ConvertToSN(e):\n",
    "    return('%.2E' % decimal.Decimal(e))\n",
    "    \n",
    "\n",
    "class Atom: \n",
    "    def __init__(self, pCount, nCount, eCount):\n",
    "        \"\"\"INPUT PARAMS: countOfProtons, countOfNeutrons, countOfElectrons\"\"\"\n",
    "        \n",
    "        an = pyasl.AtomicNo()\n",
    "        \n",
    "        self.Protons = pCount\n",
    "        self.Neutrons = nCount\n",
    "        self.Electrons = eCount\n",
    "        self.ElementName = an.getElementName(pCount)\n",
    "        self.ElementNameWithAtomicMass = an.getElementName(pCount) + \"(\" + str(self.Protons) + \",\" + str(self.Protons + self.Neutrons) + \")\"\n",
    "    \n",
    "    def CreateSummary(self):\n",
    "        print(\"Name: \", self.ElementName)\n",
    "        print(\"Protons: \", self.Protons)\n",
    "        print(\"Neutrons: \", self.Neutrons)\n",
    "        print(\"Electrons: \", self.Electrons)"
   ]
  },
  {
   "cell_type": "code",
   "execution_count": 23,
   "id": "5dc60938-84eb-46cb-bb61-c61efad5cec7",
   "metadata": {},
   "outputs": [
    {
     "data": {
      "text/latex": [
       "$\\displaystyle 3200.4 \\text{mm}$"
      ],
      "text/plain": [
       "3200.4*millimeter"
      ]
     },
     "execution_count": 23,
     "metadata": {},
     "output_type": "execute_result"
    }
   ],
   "source": [
    "# Solved Problems\n",
    "# 1.2 \n",
    "# (a)\n",
    "\n",
    "d = u.Quantity('d')\n",
    "SI.set_quantity_dimension(d, u.length)\n",
    "SI.set_quantity_scale_factor(d, 3.5*u.yards)\n",
    "\n",
    "E1 = u.convert_to(d, u.mm)\n",
    "E1"
   ]
  },
  {
   "cell_type": "code",
   "execution_count": 32,
   "id": "994be702-a8b9-4d82-a0aa-0d821bddb410",
   "metadata": {},
   "outputs": [
    {
     "data": {
      "text/latex": [
       "$\\displaystyle 3.2004 \\text{m}$"
      ],
      "text/plain": [
       "3.2004*meter"
      ]
     },
     "execution_count": 32,
     "metadata": {},
     "output_type": "execute_result"
    }
   ],
   "source": [
    "# (b)\n",
    "d = u.Quantity('d')\n",
    "SI.set_quantity_dimension(d, u.length)\n",
    "SI.set_quantity_scale_factor(d, 3.5 * u.yards)\n",
    "E1 = u.convert_to(d, u.m)\n",
    "E1"
   ]
  },
  {
   "cell_type": "code",
   "execution_count": 38,
   "id": "7b02a1dc-11e6-4d29-a82f-7424838cb24e",
   "metadata": {},
   "outputs": [
    {
     "data": {
      "text/latex": [
       "$\\displaystyle \\frac{700 \\text{inch}}{127}$"
      ],
      "text/plain": [
       "700*inch/127"
      ]
     },
     "execution_count": 38,
     "metadata": {},
     "output_type": "execute_result"
    }
   ],
   "source": [
    "# 1.3\n",
    "# (a)\n",
    "\n",
    "d = u.Quantity('d')\n",
    "SI.set_quantity_dimension(d, u.length)\n",
    "SI.set_quantity_scale_factor(d, 14 * u.cm)\n",
    "E1 = u.convert_to(d, u.inches)\n",
    "E1"
   ]
  },
  {
   "cell_type": "code",
   "execution_count": 46,
   "id": "be96efc1-0975-4b4d-8b7e-e8fc0722ff6a",
   "metadata": {},
   "outputs": [
    {
     "data": {
      "text/latex": [
       "$\\displaystyle \\frac{35000 \\text{inch}}{127}$"
      ],
      "text/plain": [
       "35000*inch/127"
      ]
     },
     "execution_count": 46,
     "metadata": {},
     "output_type": "execute_result"
    }
   ],
   "source": [
    "# (b)\n",
    "d = u.Quantity('d')\n",
    "SI.set_quantity_dimension(d, u.length)\n",
    "SI.set_quantity_scale_factor(d, 7 * u.meters)\n",
    "E1 = u.convert_to(d, u.inches)\n",
    "E1"
   ]
  },
  {
   "cell_type": "code",
   "execution_count": 54,
   "id": "95f3894c-3bd9-4d0d-a508-e0add625cb30",
   "metadata": {},
   "outputs": [
    {
     "data": {
      "text/latex": [
       "$\\displaystyle \\frac{25000000 \\text{inch}^{2}}{16129}$"
      ],
      "text/plain": [
       "25000000*inch**2/16129"
      ]
     },
     "execution_count": 54,
     "metadata": {},
     "output_type": "execute_result"
    }
   ],
   "source": [
    "# 1.4\n",
    "# (a)\n",
    "d = u.Quantity('d')\n",
    "SI.set_quantity_dimension(d, u.length**2)\n",
    "SI.set_quantity_scale_factor(d, 1 * u.meter**2)\n",
    "E1 = u.convert_to(d, u.inches)\n",
    "E1"
   ]
  },
  {
   "cell_type": "code",
   "execution_count": 55,
   "id": "5c06c9a2-7a89-466c-bacc-b6d050f98c18",
   "metadata": {},
   "outputs": [
    {
     "data": {
      "text/plain": [
       "1550.0031000062"
      ]
     },
     "execution_count": 55,
     "metadata": {},
     "output_type": "execute_result"
    }
   ],
   "source": [
    "# 1.5"
   ]
  },
  {
   "cell_type": "code",
   "execution_count": null,
   "id": "63c76744-96cd-45ec-9509-a899d04bac09",
   "metadata": {},
   "outputs": [],
   "source": []
  }
 ],
 "metadata": {
  "kernelspec": {
   "display_name": "Python 3",
   "language": "python",
   "name": "python3"
  },
  "language_info": {
   "codemirror_mode": {
    "name": "ipython",
    "version": 3
   },
   "file_extension": ".py",
   "mimetype": "text/x-python",
   "name": "python",
   "nbconvert_exporter": "python",
   "pygments_lexer": "ipython3",
   "version": "3.9.2"
  }
 },
 "nbformat": 4,
 "nbformat_minor": 5
}
