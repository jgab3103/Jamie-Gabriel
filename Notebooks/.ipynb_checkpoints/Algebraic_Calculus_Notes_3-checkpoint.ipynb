{
 "cells": [
  {
   "cell_type": "code",
   "execution_count": 1,
   "metadata": {},
   "outputs": [],
   "source": [
    "import numpy as np\n",
    "import shared_functions as sf\n",
    "import sympy as sp\n",
    "from IPython.display import HTML\n",
    "import matplotlib.pyplot as plt"
   ]
  },
  {
   "cell_type": "markdown",
   "metadata": {},
   "source": [
    "In the last notebook we left off by examining by what happens if we take 3 fixed points on a parabola, and how to choose an a value for the 4th point that would maximise the area. Along the way we also came up with some formulas derived from Meister for polygons whose vertices were on curves. Let's start by including the handy functions we have at our disposal so far: "
   ]
  },
  {
   "cell_type": "code",
   "execution_count": 2,
   "metadata": {},
   "outputs": [],
   "source": [
    "def compute_cross_product_from_two_points(points_list):\n",
    "    c = points_list[0][0] * points_list[1][1] - points_list[0][1] * points_list[1][0]\n",
    "    return(c)\n",
    "\n",
    "def compute_signed_area_of_triangle_from_two_points(points_list):\n",
    "    c = compute_cross_product_from_two_points(points_list)\n",
    "    signed_area = c / 2\n",
    "    return(signed_area)\n",
    "\n",
    "def compute_signed_area_using_meisters_formula(points_list):\n",
    "\n",
    "    total_signed_area = 0\n",
    "    for each_point in range(len(points_list) - 1):\n",
    "        signed_area = compute_signed_area_of_triangle_from_two_points([points_list[each_point], points_list[each_point + 1]])\n",
    "        total_signed_area = total_signed_area + signed_area\n",
    "\n",
    "    final_signed_area = compute_signed_area_of_triangle_from_two_points([points_list[-1], points_list[0]])\n",
    "    total_signed_area = total_signed_area + final_signed_area\n",
    "\n",
    "    return(total_signed_area)\n",
    "\n",
    "def compute_using_meister_with_parabola_paramatisation(a, b, c, d):\n",
    "    return (((d - b) * (c - a)* (d - a + b - c)) / 2)\n"
   ]
  },
  {
   "cell_type": "markdown",
   "metadata": {},
   "source": [
    "Now let's turn our attention to consider another constraint. What if, instead of making $t$ a value that would maximise the value of the area of the quadrilateral, the value $t$ was chosen to ensure our quadrilateral was a specific kind of quadrilateral, such as a trapezoid?\n",
    "\n",
    "There are a few things needed to do this: we need to consider when two lines in the quadrilateral would be parallel. And in our dealings with Meister, we haven't talked about lines yet. So far we have been considering just points, so lets start constructing lines from points.\n",
    "\n",
    "$$  \\ell=AB=(bf-ce:cd-af:ae-bd). $$\n",
    "\n",
    "Also, once we have lines constructed from points, we need to consider when they are parallel. And for that we need to lines, in projective form, say $\\ell_1 = [a, b, c]$ and $\\ell_2 = [d, e, f]$ and for the following relationship to hold: \n",
    "\n",
    "$$ bf - ce = 0 $$\n",
    "\n",
    "Before we do any of that, sounds like we need to convert our points into projective form. So let's create some functions: first, a function to convert points to projective form; second, a function to create line from two points(join of points formula) and; third, a function to asertain if two lines are paralell or not:"
   ]
  },
  {
   "cell_type": "code",
   "execution_count": 3,
   "metadata": {},
   "outputs": [],
   "source": [
    "def convert_point_to_projective_form(point_list):\n",
    "    lcd = denominator(sum(point_list))\n",
    "    normalised_list = [lcd * x for x in point_list]\n",
    "    normalised_list.insert(0, lcd)\n",
    "    return(np.array(normalised_list))\n",
    "\n",
    "def compute_join_of_two_points(projective_points_list):\n",
    "    a = projective_points_list[0][0]\n",
    "    b = projective_points_list[0][1]\n",
    "    c = projective_points_list[0][2]\n",
    "    d = projective_points_list[1][0]\n",
    "    e = projective_points_list[1][1]\n",
    "    f = projective_points_list[1][2]\n",
    "    return(np.array([b* f - c* e, c * d - a * f, a * e - b * d]))\n",
    "\n",
    "\n",
    "# For this function, we will return a list - the value computed, and a boolean to let us know if the lines are parallel or not.\n",
    "def compute_parallel_relationship_between_2_lines(lines_list):\n",
    "    b = lines_list[0][1]\n",
    "    f = lines_list[1][2]\n",
    "    c = lines_list[0][2]\n",
    "    e = lines_list[1][1]\n",
    "    \n",
    "    val_needed_to_check_parallel = b * f - c * e\n",
    "    return([val_needed_to_check_parallel, val_needed_to_check_parallel == 0])\n",
    "    "
   ]
  },
  {
   "cell_type": "markdown",
   "metadata": {},
   "source": [
    "With these new functions set up, let's start with a visualisation: 3 fixed points. Our goal is to find a 4th point that that will make this quadrilateral a trapezoid"
   ]
  },
  {
   "cell_type": "code",
   "execution_count": 4,
   "metadata": {},
   "outputs": [
    {
     "data": {
      "text/plain": [
       "[<matplotlib.lines.Line2D object at 0x7f75cdee9438>]"
      ]
     },
     "execution_count": 4,
     "metadata": {},
     "output_type": "execute_result"
    },
    {
     "data": {
      "image/png": "[encoded data removed]",
      "text/plain": [
       "<Figure size 432x288 with 1 Axes>"
      ]
     },
     "metadata": {},
     "output_type": "display_data"
    }
   ],
   "source": [
    "fig, ax = plt.subplots()\n",
    "x2 = np.arange(start=-6, stop=7, step=1)\n",
    "y2 = x2^2\n",
    "\n",
    "points_choice = np.array([[4,16], [-3,9], [-1,1]])\n",
    "points_for_plotting = np.append(points_choice, [points_choice[0]], axis=0)\n",
    "\n",
    "x1 = [e[0] for e in points_for_plotting]\n",
    "y1 = [e[1] for e in points_for_plotting]\n",
    "\n",
    "plt.plot(x2, y2, 'b')\n",
    "plt.plot(x1, y1, 'ro')\n"
   ]
  },
  {
   "cell_type": "markdown",
   "metadata": {},
   "source": [
    "We need lines to do this and to get lines, we need points in projective form. Let's convert the points, and create some lines, or joins of points"
   ]
  },
  {
   "cell_type": "code",
   "execution_count": 5,
   "metadata": {},
   "outputs": [],
   "source": [
    "t = sp.symbols('t')\n",
    "\n",
    "p1 = convert_point_to_projective_form([4,16])\n",
    "p2 = convert_point_to_projective_form([-3,9])\n",
    "p3 = convert_point_to_projective_form([-1, 1])\n",
    "p4 = np.array([1, t, t^2])\n",
    "\n",
    "l1 = compute_join_of_two_points([p1, p2])\n",
    "l2 = compute_join_of_two_points([p3, p4])\n"
   ]
  },
  {
   "cell_type": "markdown",
   "metadata": {},
   "source": [
    "We have lines. Now we check if they are parallel:"
   ]
  },
  {
   "cell_type": "code",
   "execution_count": 6,
   "metadata": {},
   "outputs": [
    {
     "data": {
      "text/latex": [
       "$\\displaystyle - 7 \\left(t - 2\\right) \\left(t + 1\\right)$"
      ],
      "text/plain": [
       "-7*(t - 2)*(t + 1)"
      ]
     },
     "execution_count": 6,
     "metadata": {},
     "output_type": "execute_result"
    }
   ],
   "source": [
    "r = compute_parallel_relationship_between_2_lines([l1, l2])\n",
    "r[0].factor()"
   ]
  },
  {
   "cell_type": "markdown",
   "metadata": {},
   "source": [
    "The value returned means that in order for the lines to be parallel, this expression needs to equal 0. So let's set zero, and solve to find a value of $t$ which ensure our lines are parallel:"
   ]
  },
  {
   "cell_type": "code",
   "execution_count": 7,
   "metadata": {},
   "outputs": [
    {
     "data": {
      "text/plain": [
       "[-1, 2]"
      ]
     },
     "execution_count": 7,
     "metadata": {},
     "output_type": "execute_result"
    }
   ],
   "source": [
    "e = sp.Eq(r[0].factor(), 0)\n",
    "sp.solve(e, t)"
   ]
  },
  {
   "cell_type": "markdown",
   "metadata": {},
   "source": [
    "Two results come back. The -1 just gives us a point we already have. But also get 2. Let's use it to construct a 4th point:"
   ]
  },
  {
   "cell_type": "code",
   "execution_count": 8,
   "metadata": {},
   "outputs": [
    {
     "data": {
      "text/plain": [
       "[<matplotlib.lines.Line2D object at 0x7f75e2fbbb38>]"
      ]
     },
     "execution_count": 8,
     "metadata": {},
     "output_type": "execute_result"
    },
    {
     "data": {
      "image/png": "[encoded data removed]",
      "text/plain": [
       "<Figure size 432x288 with 1 Axes>"
      ]
     },
     "metadata": {},
     "output_type": "display_data"
    }
   ],
   "source": [
    "fig, ax = plt.subplots()\n",
    "x2 = np.arange(start=-6, stop=7, step=1)\n",
    "y2 = x2^2\n",
    "\n",
    "points_choice = np.array([[4,16], [-3,9], [-1,1], [2, 4]])\n",
    "points_for_plotting = np.append(points_choice, [points_choice[0]], axis=0)\n",
    "\n",
    "x1 = [e[0] for e in points_for_plotting]\n",
    "y1 = [e[1] for e in points_for_plotting]\n",
    "\n",
    "plt.plot(x2, y2, 'b')\n",
    "plt.plot(x1, y1, 'r')"
   ]
  },
  {
   "cell_type": "markdown",
   "metadata": {},
   "source": [
    "And now solve for the area of a trapezoid: "
   ]
  },
  {
   "cell_type": "code",
   "execution_count": 9,
   "metadata": {},
   "outputs": [
    {
     "data": {
      "text/plain": [
       "50"
      ]
     },
     "execution_count": 9,
     "metadata": {},
     "output_type": "execute_result"
    }
   ],
   "source": [
    "s = compute_using_meister_with_parabola_paramatisation(4, -3, -1, 2)\n",
    "s"
   ]
  },
  {
   "cell_type": "markdown",
   "metadata": {},
   "source": [
    "Its worth noting, we could also switch the order of the points. If we are assuming parallel lines were not what you see in the in figure above, by the other 2 sides. Let's do that go get a really interesting result:"
   ]
  },
  {
   "cell_type": "code",
   "execution_count": 10,
   "metadata": {},
   "outputs": [
    {
     "data": {
      "text/plain": [
       "[-8, 4]"
      ]
     },
     "execution_count": 10,
     "metadata": {},
     "output_type": "execute_result"
    }
   ],
   "source": [
    "l1 = compute_join_of_two_points([p1, p4])\n",
    "l2 = compute_join_of_two_points([p3, p2])\n",
    "r = compute_parallel_relationship_between_2_lines([l1, l2])\n",
    "r[0].factor()\n",
    "e = sp.Eq(r[0].factor(), 0)\n",
    "sp.solve(e, t)"
   ]
  },
  {
   "cell_type": "code",
   "execution_count": 11,
   "metadata": {},
   "outputs": [
    {
     "data": {
      "text/plain": [
       "[<matplotlib.lines.Line2D object at 0x7f75e2f39828>]"
      ]
     },
     "execution_count": 11,
     "metadata": {},
     "output_type": "execute_result"
    },
    {
     "data": {
      "image/png": "[encoded data removed]",
      "text/plain": [
       "<Figure size 432x288 with 1 Axes>"
      ]
     },
     "metadata": {},
     "output_type": "display_data"
    }
   ],
   "source": [
    "fig, ax = plt.subplots()\n",
    "x2 = np.arange(start=-10, stop=11, step=1)\n",
    "y2 = x2^2\n",
    "\n",
    "points_choice = np.array([[4,16], [-3,9], [-1,1], [-8, 64]])\n",
    "points_for_plotting = np.append(points_choice, [points_choice[0]], axis=0)\n",
    "\n",
    "x1 = [e[0] for e in points_for_plotting]\n",
    "y1 = [e[1] for e in points_for_plotting]\n",
    "\n",
    "plt.plot(x2, y2, 'b')\n",
    "plt.plot(x1, y1, 'r')"
   ]
  },
  {
   "cell_type": "code",
   "execution_count": 12,
   "metadata": {},
   "outputs": [
    {
     "data": {
      "text/plain": [
       "-175"
      ]
     },
     "execution_count": 12,
     "metadata": {},
     "output_type": "execute_result"
    }
   ],
   "source": [
    "s = compute_using_meister_with_parabola_paramatisation(4, -3, -1, -8)\n",
    "s"
   ]
  },
  {
   "cell_type": "markdown",
   "metadata": {},
   "source": [
    "So this seems strange, but we are still looking at something that meets definition of an orientated quadrilateral, with 2 parallel sides, and from which we can derive an area."
   ]
  },
  {
   "cell_type": "markdown",
   "metadata": {},
   "source": [
    "Enough parabolas! Let's now have a look at the <b>cubic case</b>. \n",
    "\n",
    "As we might expect, Meister's formula gives us a nice looking output when we put in 4 general points and ensure they can satisfy the parameterisation $y = x^3$:"
   ]
  },
  {
   "cell_type": "code",
   "execution_count": 57,
   "metadata": {},
   "outputs": [
    {
     "data": {
      "text/html": [
       "<html><script type=\"math/tex; mode=display\">\\newcommand{\\Bold}[1]{\\mathbf{#1}}-\\frac{1}{2} \\, {\\left(t_{1} + t_{2} + t_{3}\\right)} {\\left(t_{1} - t_{2}\\right)} {\\left(t_{1} - t_{3}\\right)} {\\left(t_{2} - t_{3}\\right)}</script></html>"
      ],
      "text/plain": [
       "-1/2*(t_1 + t_2 + t_3)*(t_1 - t_2)*(t_1 - t_3)*(t_2 - t_3)"
      ]
     },
     "metadata": {},
     "output_type": "display_data"
    }
   ],
   "source": [
    "t_1, t_2, t_3 = sp.symbols('t_1, t_2, t_3')\n",
    "points_choice = np.array([[t_1,t_1^3], [t_2,t_2^3], [t_3,t_3^3]])\n",
    "s = compute_signed_area_using_meisters_formula(points_choice)\n",
    "show(s.factor())"
   ]
  },
  {
   "cell_type": "markdown",
   "metadata": {},
   "source": [
    "Again, Sympy does the signs in that wierd sympy way, but this is equivalent to: \n",
    "\n",
    "$$  s(\\widetilde{A_1A_2A_3})=\\frac{(t_1-t_2)(t_2-t_3)(t_3-t_1)(t_1+t_2+t_3)}{2}.$$"
   ]
  },
  {
   "cell_type": "markdown",
   "metadata": {},
   "source": [
    "Let's create a function for it:"
   ]
  },
  {
   "cell_type": "code",
   "execution_count": 14,
   "metadata": {},
   "outputs": [],
   "source": [
    "def compute_using_meister_with_cubic_paramatisation(a, b, c):\n",
    "    return (((a - b) * (b - c)*(c-a)* ( a + b + c)) / 2)"
   ]
  },
  {
   "cell_type": "markdown",
   "metadata": {},
   "source": [
    "Lets put in some points. Again, let's continue with this idea of some fixed points, and a moving point. "
   ]
  },
  {
   "cell_type": "code",
   "execution_count": 15,
   "metadata": {},
   "outputs": [
    {
     "data": {
      "text/plain": [
       "[<matplotlib.lines.Line2D object at 0x7f75e2e89d68>]"
      ]
     },
     "execution_count": 15,
     "metadata": {},
     "output_type": "execute_result"
    },
    {
     "data": {
      "image/png": "[encoded data removed]",
      "text/plain": [
       "<Figure size 432x288 with 1 Axes>"
      ]
     },
     "metadata": {},
     "output_type": "display_data"
    }
   ],
   "source": [
    "fig, ax = plt.subplots()\n",
    "x2 = np.arange(start=-6, stop=7, step=1)\n",
    "y2 = x2^3\n",
    "\n",
    "points_choice = np.array([[2,8], [-1/2,-1/8]])\n",
    "points_for_plotting = np.append(points_choice, [points_choice[0]], axis=0)\n",
    "\n",
    "x1 = [e[0] for e in points_for_plotting]\n",
    "y1 = [e[1] for e in points_for_plotting]\n",
    "\n",
    "plt.plot(x2, y2, 'b')\n",
    "plt.plot(x1, y1, 'ro')"
   ]
  },
  {
   "cell_type": "markdown",
   "metadata": {},
   "source": [
    "Suppose $t$ is some arbitrary point and lets use our new formula:"
   ]
  },
  {
   "cell_type": "code",
   "execution_count": 16,
   "metadata": {},
   "outputs": [
    {
     "data": {
      "text/html": [
       "<html><script type=\"math/tex; mode=display\">\\newcommand{\\Bold}[1]{\\mathbf{#1}}-\\frac{5}{16} \\, {\\left(2 \\, t + 3\\right)} {\\left(2 \\, t + 1\\right)} {\\left(t - 2\\right)}</script></html>"
      ],
      "text/plain": [
       "-5/16*(2*t + 3)*(2*t + 1)*(t - 2)"
      ]
     },
     "metadata": {},
     "output_type": "display_data"
    }
   ],
   "source": [
    "t = sp.symbols('t')\n",
    "s = compute_using_meister_with_cubic_paramatisation(2, -1/2, t)\n",
    "show(s)"
   ]
  },
  {
   "cell_type": "markdown",
   "metadata": {},
   "source": [
    "Previously we have had constraints such as maximumising area, or parallel. NOw for something else, how about the 3 points need to be colinear. This would mean the area would be 0. We would set to 0:\n"
   ]
  },
  {
   "cell_type": "code",
   "execution_count": 17,
   "metadata": {},
   "outputs": [
    {
     "data": {
      "text/latex": [
       "$\\displaystyle - \\frac{5 \\left(t - 2\\right) \\left(2 t + 1\\right) \\left(2 t + 3\\right)}{16} = 0$"
      ],
      "text/plain": [
       "Eq(-5*(t - 2)*(2*t + 1)*(2*t + 3)/16, 0)"
      ]
     },
     "execution_count": 17,
     "metadata": {},
     "output_type": "execute_result"
    }
   ],
   "source": [
    "e = sp.Eq(s, 0)\n",
    "e"
   ]
  },
  {
   "cell_type": "markdown",
   "metadata": {},
   "source": [
    "And solve for t to fine area 0"
   ]
  },
  {
   "cell_type": "code",
   "execution_count": 18,
   "metadata": {},
   "outputs": [
    {
     "data": {
      "text/plain": [
       "[-3/2, -1/2, 2]"
      ]
     },
     "execution_count": 18,
     "metadata": {},
     "output_type": "execute_result"
    }
   ],
   "source": [
    "sp.solve(e, t)"
   ]
  },
  {
   "cell_type": "markdown",
   "metadata": {},
   "source": [
    "We get three points back and the one we don't is -3/2. So we can plot and see its colinear. We will plot it as a line and note that its area is 0"
   ]
  },
  {
   "cell_type": "code",
   "execution_count": 19,
   "metadata": {},
   "outputs": [
    {
     "data": {
      "text/plain": [
       "[<matplotlib.lines.Line2D object at 0x7f75cb8bbeb8>]"
      ]
     },
     "execution_count": 19,
     "metadata": {},
     "output_type": "execute_result"
    },
    {
     "data": {
      "image/png": "[encoded data removed]",
      "text/plain": [
       "<Figure size 432x288 with 1 Axes>"
      ]
     },
     "metadata": {},
     "output_type": "display_data"
    }
   ],
   "source": [
    "fig, ax = plt.subplots()\n",
    "x2 = np.arange(start=-6, stop=7, step=1)\n",
    "y2 = x2^3\n",
    "\n",
    "points_choice = np.array([[2,8],[-3/2, 27/8], [-1/2,-1/8]])\n",
    "points_for_plotting = np.append(points_choice, [points_choice[0]], axis=0)\n",
    "\n",
    "x1 = [e[0] for e in points_for_plotting]\n",
    "y1 = [e[1] for e in points_for_plotting]\n",
    "\n",
    "plt.plot(x2, y2, 'b')\n",
    "plt.plot(x1, y1, 'r')"
   ]
  },
  {
   "cell_type": "markdown",
   "metadata": {},
   "source": [
    "So now we can look at how the Meister formula will change, depending on use of cubic, how we can have triangles and quadrilaterals and polygons with fixed points on these, and imposing constraints on one of these points to create a particular geometric structure, or satisfry area. \n",
    "\n",
    "NOte that at the beginning at the Algebraic Calculus Notes 2, we translated the points to make sure that signed area holds under translation, and it does. The impact of this is that it should hold, so lets just check. It as simple as changing our paramatisation from investigating $y = x^3$ to $y = x^3 + k$ and see what happens. \n",
    "\n",
    "We will create some variables, then some points using this updated paratisation, and then see what happens with the formula, when we put into Meisters"
   ]
  },
  {
   "cell_type": "code",
   "execution_count": 20,
   "metadata": {},
   "outputs": [],
   "source": [
    "t_1, t_2, t_3, k = sp.symbols('t_1, t_2, t_3, k')"
   ]
  },
  {
   "cell_type": "code",
   "execution_count": 21,
   "metadata": {},
   "outputs": [],
   "source": [
    "p1 = [t_1, t_1^3 + k]\n",
    "p2 = [t_2, t_2^3 + k]\n",
    "p3 = [t_3, t_3^3 + k]"
   ]
  },
  {
   "cell_type": "code",
   "execution_count": 22,
   "metadata": {},
   "outputs": [
    {
     "data": {
      "text/html": [
       "<html><script type=\"math/tex; mode=display\">\\newcommand{\\Bold}[1]{\\mathbf{#1}}-\\frac{1}{2} \\, {\\left(t_{1} + t_{2} + t_{3}\\right)} {\\left(t_{1} - t_{2}\\right)} {\\left(t_{1} - t_{3}\\right)} {\\left(t_{2} - t_{3}\\right)}</script></html>"
      ],
      "text/plain": [
       "-1/2*(t_1 + t_2 + t_3)*(t_1 - t_2)*(t_1 - t_3)*(t_2 - t_3)"
      ]
     },
     "metadata": {},
     "output_type": "display_data"
    }
   ],
   "source": [
    "s = compute_signed_area_using_meisters_formula([p1, p2, p3])\n",
    "show(s.factor())"
   ]
  },
  {
   "cell_type": "markdown",
   "metadata": {},
   "source": [
    "this is the equivalent to \n",
    "\n",
    "$$   s(\\widetilde{A_1A_2A_3})=\\frac{(t_1-t_2)(t_2-t_3)(t_3-t_1)(t_1+t_2+t_3)}{2}.$$\n",
    "\n",
    "OUr formula to find area of 3 poits on a cubic. So just like the polynomial, when we translate the points, it stays the same. When things are expanded and factored out, k dissapears\n",
    "\n",
    "One of the advantages of creating Creating derived formulas means that is that we can more eaily get at properties like colinearity, parallelism etc. For example, in the formula above, we can very clearly see that if $t_1 + t_2 + t3 = 0$, this would mean that the value of the formula becomes 0. And that would meansigned area of an orientated triangle on a cubic has to equal 0. So we have a very simple formula method to verify that points are colinear and a signed area is 0. \n",
    "\n",
    "For example, if I wanted to ascertain that the points $[3, 27]$ and $[4, 64]$ are colinear with a third point, $t$, instead of going through the area calculation above, I could just easily solve $3 + 4 + t = 0$, finding that a collear point at -7. Let's visualise below:  "
   ]
  },
  {
   "cell_type": "code",
   "execution_count": 23,
   "metadata": {},
   "outputs": [
    {
     "data": {
      "text/plain": [
       "[<matplotlib.lines.Line2D object at 0x7f75cb813c18>]"
      ]
     },
     "execution_count": 23,
     "metadata": {},
     "output_type": "execute_result"
    },
    {
     "data": {
      "image/png": "[encoded data removed]",
      "text/plain": [
       "<Figure size 432x288 with 1 Axes>"
      ]
     },
     "metadata": {},
     "output_type": "display_data"
    }
   ],
   "source": [
    "fig, ax = plt.subplots()\n",
    "x2 = np.arange(start=-10, stop=7, step=1)\n",
    "y2 = x2^3\n",
    "\n",
    "points_choice = np.array([[3,27],[4, 64], [-7,-343]])\n",
    "points_for_plotting = np.append(points_choice, [points_choice[0]], axis=0)\n",
    "\n",
    "x1 = [e[0] for e in points_for_plotting]\n",
    "y1 = [e[1] for e in points_for_plotting]\n",
    "\n",
    "plt.plot(x2, y2, 'b')\n",
    "plt.plot(x1, y1, 'r')"
   ]
  },
  {
   "cell_type": "markdown",
   "metadata": {},
   "source": [
    "Staying on the subject of cubics, its time to introduce another idea: the <b>pod product</b>. It's best to think of this as an intuition that if a line, $\\ell$ meets a cubic curbe in two points, $A$ and $B$ then it will typically meet the cubic in a third point, $C$\n",
    "\n",
    "For example, "
   ]
  },
  {
   "cell_type": "code",
   "execution_count": 24,
   "metadata": {},
   "outputs": [
    {
     "data": {
      "text/plain": [
       "[<matplotlib.lines.Line2D object at 0x7f75cb7b0cf8>]"
      ]
     },
     "execution_count": 24,
     "metadata": {},
     "output_type": "execute_result"
    },
    {
     "data": {
      "image/png": "[encoded data removed]",
      "text/plain": [
       "<Figure size 432x288 with 1 Axes>"
      ]
     },
     "metadata": {},
     "output_type": "display_data"
    }
   ],
   "source": [
    "fig, ax = plt.subplots()\n",
    "x2 = np.arange(start=-10, stop=11, step=1)\n",
    "y2 = x2^3\n",
    "\n",
    "points_choice = np.array([[-7,-343],[-2.5, -15.625], [9.5,857.375]])\n",
    "points_for_plotting = np.append(points_choice, [points_choice[0]], axis=0)\n",
    "\n",
    "x1 = [e[0] for e in points_for_plotting]\n",
    "y1 = [e[1] for e in points_for_plotting]\n",
    "\n",
    "\n",
    "ax.annotate('A', points_choice[0])\n",
    "ax.annotate('B', points_choice[1])\n",
    "ax.annotate('C', points_choice[2])\n",
    "ax.plot(x2, y2, 'b')\n",
    "ax.plot(x1, y1, 'r')"
   ]
  },
  {
   "cell_type": "markdown",
   "metadata": {},
   "source": [
    "This does not seem terribly exciting at first glance, the reason we care is that opens up properties of points and lines interact, linear algebra, and as we go deeper having access to this way of describing things will help us clarify deeper results. \n",
    "\n",
    "The pod product, visualised through teh structure above, can be defined as $C=A*B$ and is the idea that we can form a line with 2 points, and scale this line to include a third. We can then use some properties from linear algebra about how lines behave when they are scaled to gain more insights, specfically that this pod product is <i>commutative</i>, <i>symmetric</i> and <i>4-associative</i>. As we go on, establishing these properties of cubics will help us gain more tools we need on our journey.  \n",
    "\n",
    "That the pod product is commutative is straightforward, and says for any point $ A*B=B*A $ on a cubic. This simply states that a line determined by the points A and B is the same as the line determined by the points B and A\n",
    "\n",
    "The pod product being symmetric states that for any points $A, B$, and $C$, incident to a cubic curve, if $A*B=C$, then it is the case that $B*C=A$ and $A*C = B$. Intuitively at least, this seems easy to get hold of: I can create a line (or join) comprised of any 2 points, and then scaled in any direction to inlude C. Of course, we dont want o just verify this by looking at the picture above. We can also rely on the vact that established above,that for pionts $p(t), p(u)$ and $p(u)$ on a cubic curve must be colinear (i.e. satifsy pod product) when $t + u + v$ = 0, meaning that the pod product  $t*u$ is equivalent to $-(t+u)$. But this is symmetrical in $t,u$ and $v$, so if $t∗u=v$ then also $u∗v=t$ and also $v∗t=u$. JG - simplify\n",
    "\n",
    "Finally, the pod product definited as 4-associative. To understand this, suppose that $A=[t,t^3], B=[u,u^3], C=[r,r^3]$ and $D=[s,s^3]$. Then from ii. we can calculate that\n",
    "$(t∗u)∗(r∗s)=−(t∗u)−(r∗s)=−(−t−u)−(−r−s)=t+u+r+s$.\n",
    "By symmetry this also equals $(t∗r)∗(u∗s)$ as well as $(t∗s)∗(r∗u)$.\n",
    "\n",
    "For more rigourous proof, see the proof sketches. For now, note that this additinoal terminology and related properties and will help us as we go further in understand how area can be formed by points on the circle. Let's get back to some more exploration. Let's look at how this plays out with other types of curves, like <b>circles</b>, <b>hyperbolas</b>, and even the famous <b>Folium of Descartes</b>"
   ]
  },
  {
   "cell_type": "markdown",
   "metadata": {},
   "source": [
    "Returning to the Meister formula itself, we now have a sense that we can create formulas based on kinds of structures. Let's start with a unit circle. We will use the paramaeterisation $e(t)=\\left[\\frac{1-t^2}{1+t^2}, \\frac{2t}{1+t^2}\\right].$, create some points and put it into the Meister formula and see where we land:"
   ]
  },
  {
   "cell_type": "code",
   "execution_count": 25,
   "metadata": {},
   "outputs": [
    {
     "data": {
      "text/html": [
       "<html><script type=\"math/tex; mode=display\">\\newcommand{\\Bold}[1]{\\mathbf{#1}}\\frac{{\\left(t_{2}^{2} - 1\\right)} t_{1}}{{\\left(t_{1}^{2} + 1\\right)} {\\left(t_{2}^{2} + 1\\right)}} - \\frac{{\\left(t_{3}^{2} - 1\\right)} t_{1}}{{\\left(t_{1}^{2} + 1\\right)} {\\left(t_{3}^{2} + 1\\right)}} - \\frac{{\\left(t_{1}^{2} - 1\\right)} t_{2}}{{\\left(t_{1}^{2} + 1\\right)} {\\left(t_{2}^{2} + 1\\right)}} + \\frac{{\\left(t_{3}^{2} - 1\\right)} t_{2}}{{\\left(t_{2}^{2} + 1\\right)} {\\left(t_{3}^{2} + 1\\right)}} + \\frac{{\\left(t_{1}^{2} - 1\\right)} t_{3}}{{\\left(t_{1}^{2} + 1\\right)} {\\left(t_{3}^{2} + 1\\right)}} - \\frac{{\\left(t_{2}^{2} - 1\\right)} t_{3}}{{\\left(t_{2}^{2} + 1\\right)} {\\left(t_{3}^{2} + 1\\right)}}</script></html>"
      ],
      "text/plain": [
       "(t_2^2 - 1)*t_1/((t_1^2 + 1)*(t_2^2 + 1)) - (t_3^2 - 1)*t_1/((t_1^2 + 1)*(t_3^2 + 1)) - (t_1^2 - 1)*t_2/((t_1^2 + 1)*(t_2^2 + 1)) + (t_3^2 - 1)*t_2/((t_2^2 + 1)*(t_3^2 + 1)) + (t_1^2 - 1)*t_3/((t_1^2 + 1)*(t_3^2 + 1)) - (t_2^2 - 1)*t_3/((t_2^2 + 1)*(t_3^2 + 1))"
      ]
     },
     "metadata": {},
     "output_type": "display_data"
    }
   ],
   "source": [
    "t_1, t_2, t_3 = sp.symbols(\"t_1, t_2, t_3\")\n",
    "p1 = [(1 - t_1^2)/(1 + t_1^2), (2 * t_1)/(1 + t_1^2) ]\n",
    "p2 = [(1 - t_2^2)/(1 + t_2^2), (2 * t_2)/(1 + t_2^2) ]\n",
    "p3 = [(1 - t_3^2)/(1 + t_3^2), (2 * t_3)/(1 + t_3^2) ]\n",
    "s = compute_signed_area_using_meisters_formula([p1, p2, p3])\n",
    "show(s)"
   ]
  },
  {
   "cell_type": "markdown",
   "metadata": {},
   "source": [
    "And after factorisation, "
   ]
  },
  {
   "cell_type": "code",
   "execution_count": 26,
   "metadata": {},
   "outputs": [
    {
     "data": {
      "text/html": [
       "<html><script type=\"math/tex; mode=display\">\\newcommand{\\Bold}[1]{\\mathbf{#1}}-\\frac{2 \\, {\\left(t_{1} - t_{2}\\right)} {\\left(t_{1} - t_{3}\\right)} {\\left(t_{2} - t_{3}\\right)}}{{\\left(t_{1}^{2} + 1\\right)} {\\left(t_{2}^{2} + 1\\right)} {\\left(t_{3}^{2} + 1\\right)}}</script></html>"
      ],
      "text/plain": [
       "-2*(t_1 - t_2)*(t_1 - t_3)*(t_2 - t_3)/((t_1^2 + 1)*(t_2^2 + 1)*(t_3^2 + 1))"
      ]
     },
     "metadata": {},
     "output_type": "display_data"
    }
   ],
   "source": [
    "show(s.factor())"
   ]
  },
  {
   "cell_type": "markdown",
   "metadata": {},
   "source": [
    "Again, we see that what comes out is reasonably elegant which is nice to see. Of course, there are circles beyond just the unit cicle, what about a circle without a fixed radius. Let's create a variaable for that and plug in to check out the formula. Set up almost identical, we will just add r in"
   ]
  },
  {
   "cell_type": "code",
   "execution_count": 27,
   "metadata": {},
   "outputs": [
    {
     "data": {
      "text/html": [
       "<html><script type=\"math/tex; mode=display\">\\newcommand{\\Bold}[1]{\\mathbf{#1}}\\frac{{\\left(t_{2}^{2} - 1\\right)} r^{2} t_{1}}{{\\left(t_{1}^{2} + 1\\right)} {\\left(t_{2}^{2} + 1\\right)}} - \\frac{{\\left(t_{3}^{2} - 1\\right)} r^{2} t_{1}}{{\\left(t_{1}^{2} + 1\\right)} {\\left(t_{3}^{2} + 1\\right)}} - \\frac{{\\left(t_{1}^{2} - 1\\right)} r^{2} t_{2}}{{\\left(t_{1}^{2} + 1\\right)} {\\left(t_{2}^{2} + 1\\right)}} + \\frac{{\\left(t_{3}^{2} - 1\\right)} r^{2} t_{2}}{{\\left(t_{2}^{2} + 1\\right)} {\\left(t_{3}^{2} + 1\\right)}} + \\frac{{\\left(t_{1}^{2} - 1\\right)} r^{2} t_{3}}{{\\left(t_{1}^{2} + 1\\right)} {\\left(t_{3}^{2} + 1\\right)}} - \\frac{{\\left(t_{2}^{2} - 1\\right)} r^{2} t_{3}}{{\\left(t_{2}^{2} + 1\\right)} {\\left(t_{3}^{2} + 1\\right)}}</script></html>"
      ],
      "text/plain": [
       "(t_2^2 - 1)*r^2*t_1/((t_1^2 + 1)*(t_2^2 + 1)) - (t_3^2 - 1)*r^2*t_1/((t_1^2 + 1)*(t_3^2 + 1)) - (t_1^2 - 1)*r^2*t_2/((t_1^2 + 1)*(t_2^2 + 1)) + (t_3^2 - 1)*r^2*t_2/((t_2^2 + 1)*(t_3^2 + 1)) + (t_1^2 - 1)*r^2*t_3/((t_1^2 + 1)*(t_3^2 + 1)) - (t_2^2 - 1)*r^2*t_3/((t_2^2 + 1)*(t_3^2 + 1))"
      ]
     },
     "metadata": {},
     "output_type": "display_data"
    }
   ],
   "source": [
    "t_1, t_2, t_3, r = sp.symbols(\"t_1, t_2, t_3, r\")\n",
    "p1 = [(r * (1 - t_1^2))/(1 + t_1^2), (2 * r * t_1)/(1 + t_1^2) ]\n",
    "p2 = [(r * (1 - t_2^2))/(1 + t_2^2), (2 * r * t_2)/(1 + t_2^2) ]\n",
    "p3 = [(r * (1 - t_3^2))/(1 + t_3^2), (2 * r * t_3)/(1 + t_3^2) ]\n",
    "s = compute_signed_area_using_meisters_formula([p1, p2, p3])\n",
    "show(s)"
   ]
  },
  {
   "cell_type": "markdown",
   "metadata": {},
   "source": [
    "And let's factor:"
   ]
  },
  {
   "cell_type": "code",
   "execution_count": 28,
   "metadata": {},
   "outputs": [
    {
     "data": {
      "text/html": [
       "<html><script type=\"math/tex; mode=display\">\\newcommand{\\Bold}[1]{\\mathbf{#1}}-\\frac{2 \\, r^{2} {\\left(t_{1} - t_{2}\\right)} {\\left(t_{1} - t_{3}\\right)} {\\left(t_{2} - t_{3}\\right)}}{{\\left(t_{1}^{2} + 1\\right)} {\\left(t_{2}^{2} + 1\\right)} {\\left(t_{3}^{2} + 1\\right)}}</script></html>"
      ],
      "text/plain": [
       "-2*r^2*(t_1 - t_2)*(t_1 - t_3)*(t_2 - t_3)/((t_1^2 + 1)*(t_2^2 + 1)*(t_3^2 + 1))"
      ]
     },
     "metadata": {},
     "output_type": "display_data"
    }
   ],
   "source": [
    "show(s.factor())"
   ]
  },
  {
   "cell_type": "markdown",
   "metadata": {},
   "source": [
    "Note sympy messes with the subtraction sign again, but an equivalent and slightly cleaner version of a signed area of an oreintated triangle on a scaled circle, $s(\\widetilde{A_1A_2A_3}$ can be computed with the following formula:\n",
    "\n",
    "$$2r^2\\frac{(t_1-t_2)(t_2-t_3)(t_3-t_1)}{(t_1^2+1)(t_2^2+1)(t_3^2+1)}.$$"
   ]
  },
  {
   "cell_type": "markdown",
   "metadata": {},
   "source": [
    "Let's try this formula out with some points. Assume that we have a radius of 5, and two fixed points, A and B. What would the point C have to be to be in order for the signed area to be 30?\n",
    "\n",
    "Start with a visualisation of the information we have. We will createa circle using the points generated from teh paramatisation $e(t)=\\left[r\\frac{1-t^2}{1+t^2}, \\frac{2rt}{1+t^2}\\right].$ which includes the value $r$ for the radius which will set to 5"
   ]
  },
  {
   "cell_type": "code",
   "execution_count": 29,
   "metadata": {},
   "outputs": [
    {
     "data": {
      "text/plain": [
       "[<matplotlib.lines.Line2D object at 0x7f75cb7861d0>]"
      ]
     },
     "execution_count": 29,
     "metadata": {},
     "output_type": "execute_result"
    },
    {
     "data": {
      "image/png": "[encoded data removed]",
      "text/plain": [
       "<Figure size 432x288 with 1 Axes>"
      ]
     },
     "metadata": {},
     "output_type": "display_data"
    }
   ],
   "source": [
    "fig, ax = plt.subplots()\n",
    "# points for circle\n",
    "initial_values = np.arange(start=-1000, stop=1000, step=.001)\n",
    "r = 5\n",
    "x2 = (r * (1 - initial_values^2) / (1 + initial_values^2))\n",
    "y2 = ((2 * r * initial_values) / (1 + initial_values^2))\n",
    "\n",
    "\n",
    "points_choice = np.array([[-3,4],[0,-5]])\n",
    "points_for_plotting = np.append(points_choice, [points_choice[0]], axis=0)\n",
    "x1 = [e[0] for e in points_for_plotting]\n",
    "y1 = [e[1] for e in points_for_plotting]\n",
    "\n",
    "\n",
    "ax.axis('equal')\n",
    "\n",
    "ax.plot(x2, y2, 'b')\n",
    "ax.plot(x1, y1, 'ro')\n"
   ]
  },
  {
   "cell_type": "markdown",
   "metadata": {},
   "source": [
    "We will need a function for our formula so lets create that for \n",
    "\n",
    "$$ 2r^2\\frac{(t_1-t_2)(t_2-t_3)(t_3-t_1)}{(t_1^2+1)(t_2^2+1)(t_3^2+1)} $$"
   ]
  },
  {
   "cell_type": "code",
   "execution_count": 30,
   "metadata": {},
   "outputs": [],
   "source": [
    "def compute_using_meister_with_scaled_circle_paramatisation(a, b, c, r):\n",
    "    numerator =  (2 * r^2) * (a - b) * (b - c) * (c - a)\n",
    "    denominator = (a^2 + 1) * (b^2 + 1) * (c^2 + 1)\n",
    "    return (numerator / denominator)\n",
    "\n"
   ]
  },
  {
   "cell_type": "code",
   "execution_count": 31,
   "metadata": {},
   "outputs": [
    {
     "data": {
      "text/html": [
       "<html><script type=\"math/tex; mode=display\">\\newcommand{\\Bold}[1]{\\mathbf{#1}}\\frac{15 \\, {\\left(c + 3\\right)} c}{c^{2} + 1}</script></html>"
      ],
      "text/plain": [
       "15*(c + 3)*c/(c^2 + 1)"
      ]
     },
     "metadata": {},
     "output_type": "display_data"
    }
   ],
   "source": [
    "c = sp.symbols('c')\n",
    "s = compute_using_meister_with_scaled_circle_paramatisation(-3, 0, c, 5)\n",
    "show(s)"
   ]
  },
  {
   "cell_type": "markdown",
   "metadata": {},
   "source": [
    "So this is a represetnatino of the signed area for for integers -3, 0 and c. Supposing that the signed area of the orientated triangle is 30, we can solve for c. Set the expression to 30 and solve for c:"
   ]
  },
  {
   "cell_type": "code",
   "execution_count": 32,
   "metadata": {},
   "outputs": [
    {
     "data": {
      "text/latex": [
       "$\\displaystyle \\frac{15 c \\left(c + 3\\right)}{c^{2} + 1} = 30$"
      ],
      "text/plain": [
       "Eq(15*c*(c + 3)/(c**2 + 1), 30)"
      ]
     },
     "execution_count": 32,
     "metadata": {},
     "output_type": "execute_result"
    }
   ],
   "source": [
    "e = sp.Eq(s, 30)\n",
    "e"
   ]
  },
  {
   "cell_type": "code",
   "execution_count": 33,
   "metadata": {},
   "outputs": [
    {
     "data": {
      "text/plain": [
       "[1, 2]"
      ]
     },
     "execution_count": 33,
     "metadata": {},
     "output_type": "execute_result"
    }
   ],
   "source": [
    "sp.solve(e, c)"
   ]
  },
  {
   "cell_type": "markdown",
   "metadata": {},
   "source": [
    "Now we need to be a little bit careful here. These solutions give us one part coordinate of the piont on the circle where area is 30, and the paramterisatin is $e(t)=\\left[r\\frac{1-t^2}{1+t^2}, \\frac{2rt}{1+t^2}\\right].$. So this means that they were obtained from $r\\frac{1-t^2}{1+t^2}$. We know $r=5$, let's find this value for $t$"
   ]
  },
  {
   "cell_type": "code",
   "execution_count": 34,
   "metadata": {},
   "outputs": [
    {
     "data": {
      "text/latex": [
       "$\\displaystyle - \\frac{5 \\left(t^{2} - 1\\right)}{t^{2} + 1} = 1$"
      ],
      "text/plain": [
       "Eq(-5*(t**2 - 1)/(t**2 + 1), 1)"
      ]
     },
     "execution_count": 34,
     "metadata": {},
     "output_type": "execute_result"
    }
   ],
   "source": [
    "t = sp.symbols('t')\n",
    "e = sp.Eq(5*(1 - t^2)/(1 + t^2), 1)\n",
    "e"
   ]
  },
  {
   "cell_type": "code",
   "execution_count": 35,
   "metadata": {},
   "outputs": [],
   "source": [
    "#JG - need to fix"
   ]
  },
  {
   "cell_type": "markdown",
   "metadata": {},
   "source": [
    "As a notehr example, we could also look at the behaviour of a triangle on inversive hyperbola, which has the paramaterisation $y = \\frac{1}{x}$. Let's plot some points first to have a look at it. Let's also create three points on it to have a look at what an area in this context might visualise to I will create points using a value of x from -100 to 100, but note that because of the asymptote at $x=0$, I will calculate the points from -100 to 1 and seperately for 1 to 100, and then join together. Let's do it: "
   ]
  },
  {
   "cell_type": "code",
   "execution_count": 74,
   "metadata": {},
   "outputs": [
    {
     "data": {
      "text/plain": [
       "[<matplotlib.lines.Line2D object at 0x7f75c90282b0>]"
      ]
     },
     "execution_count": 74,
     "metadata": {},
     "output_type": "execute_result"
    },
    {
     "data": {
      "image/png": "[encoded data removed]",
      "text/plain": [
       "<Figure size 432x288 with 1 Axes>"
      ]
     },
     "metadata": {},
     "output_type": "display_data"
    }
   ],
   "source": [
    "fig, ax = plt.subplots()\n",
    "\n",
    "\n",
    "initial_values_1 = np.arange(start=-100, stop=-1, step=0.001)\n",
    "curve_points_x_1 = initial_values_1\n",
    "curve_points_y_1 = 1 / initial_values_1\n",
    "\n",
    "initial_values_2 = np.arange(start=1, stop=100, step=0.001)\n",
    "curve_points_x_2 =  initial_values_2\n",
    "curve_points_y_2 = 1 / initial_values_2\n",
    "\n",
    "curve_points_x = []\n",
    "curve_points_x.extend(curve_points_x_1)\n",
    "curve_points_x.extend(curve_points_x_2)\n",
    "\n",
    "curve_points_y = []\n",
    "curve_points_y.extend(curve_points_y_1)\n",
    "curve_points_y.extend(curve_points_y_2)\n",
    "\n",
    "\n",
    "points_choice = np.array([[-20,-1/20],[43,1/43], [1, 1]])\n",
    "points_for_plotting = np.append(points_choice, [points_choice[0]], axis=0)\n",
    "triangle_points_x = [e[0] for e in points_for_plotting]\n",
    "triangle_points_y = [e[1] for e in points_for_plotting]\n",
    "\n",
    "ax.plot(curve_points_x, curve_points_y, 'bo', markersize = 2)\n",
    "ax.plot(triangle_points_x, triangle_points_y, 'r')\n"
   ]
  },
  {
   "cell_type": "markdown",
   "metadata": {},
   "source": [
    "So what would an area calculated on this kind of curve look like? We \n"
   ]
  },
  {
   "cell_type": "code",
   "execution_count": 77,
   "metadata": {},
   "outputs": [
    {
     "data": {
      "text/html": [
       "<html><script type=\"math/tex; mode=display\">\\newcommand{\\Bold}[1]{\\mathbf{#1}}-\\frac{{\\left(t_{1} - t_{2}\\right)} {\\left(t_{1} - t_{3}\\right)} {\\left(t_{2} - t_{3}\\right)}}{2 \\, t_{1} t_{2} t_{3}}</script></html>"
      ],
      "text/plain": [
       "-1/2*(t_1 - t_2)*(t_1 - t_3)*(t_2 - t_3)/(t_1*t_2*t_3)"
      ]
     },
     "metadata": {},
     "output_type": "display_data"
    }
   ],
   "source": [
    "t_1, t_2, t_3 = sp.symbols('t_1, t_2, t_3')\n",
    "points_choice = np.array([[t_1,1/t_1], [t_2,1 / t_2], [t_3,1/t_3]])\n",
    "s = compute_signed_area_using_meisters_formula(points_choice)\n",
    "show(s.factor())"
   ]
  },
  {
   "cell_type": "markdown",
   "metadata": {},
   "source": [
    "With a little manipulation to fix that outer subtraction sign, this is: \n",
    "\n",
    "$$ \\frac{(t_1-t_2)(t_2-t_3)(t_3-t_1)}{2t_1t_2t_3}.$$"
   ]
  },
  {
   "cell_type": "markdown",
   "metadata": {},
   "source": [
    "How about a relativisistic hyperbola? What's the formula for to calculate the signed area of an orientated triangle? Let's have a look at what a triangle on this curve might look like: "
   ]
  },
  {
   "cell_type": "code",
   "execution_count": 130,
   "metadata": {},
   "outputs": [],
   "source": [
    "def compute_relativistic_hyperbola_x_coord(t):\n",
    "    n = (1 + t^2) / (1 - t^2)\n",
    "    d = (2 * t) / (1 - t^2)\n",
    "#     print(\"NU\", n)\n",
    "#     print(\"DE\", d)\n",
    " #   print(\"X\", float(n/d))\n",
    "    return (n / d)\n",
    "\n",
    "def compute_relativistic_hyperbola_y_coord(t):\n",
    "    n = 2 * t\n",
    "    d = (2 * t) / (1 - t^2)\n",
    "#     print(\"NU\", n)\n",
    "#     print(\"DE\", d)\n",
    " #   print(\"Y\", float(n/d))\n",
    "    return (n / d)"
   ]
  },
  {
   "cell_type": "code",
   "execution_count": null,
   "metadata": {},
   "outputs": [],
   "source": []
  },
  {
   "cell_type": "code",
   "execution_count": 131,
   "metadata": {},
   "outputs": [
    {
     "data": {
      "text/plain": [
       "[<matplotlib.lines.Line2D object at 0x7f75c8c83d30>]"
      ]
     },
     "execution_count": 131,
     "metadata": {},
     "output_type": "execute_result"
    },
    {
     "data": {
      "image/png": "[encoded data removed]",
      "text/plain": [
       "<Figure size 432x288 with 1 Axes>"
      ]
     },
     "metadata": {},
     "output_type": "display_data"
    }
   ],
   "source": [
    "fig, ax = plt.subplots()\n",
    "\n",
    "values_for_parameterisation = []\n",
    "\n",
    "values_for_parameterisation.extend(np.arange(start=-500, stop=-1.1, step=.1)) \n",
    "values_for_parameterisation.extend(np.arange(start=2, stop=500, step=1)) \n",
    "\n",
    "#print(values_for_parameterisation)\n",
    "\n",
    "curve_points_x = [compute_relativistic_hyperbola_x_coord(i) for i in values_for_parameterisation]\n",
    "curve_points_y = [compute_relativistic_hyperbola_y_coord(i) for i in values_for_parameterisation]\n",
    "\n",
    "\n",
    "\n",
    "# points_choice = np.array([[-20,-1/20],[43,1/43], [1, 1]])\n",
    "# points_for_plotting = np.append(points_choice, [points_choice[0]], axis=0)\n",
    "# triangle_points_x = [e[0] for e in points_for_plotting]\n",
    "# triangle_points_y = [e[1] for e in points_for_plotting]\n",
    "\n",
    "ax.plot(curve_points_x, curve_points_y, 'bo', markersize = 2)\n",
    "# ax.plot(triangle_points_x, triangle_points_y, 'r')\n",
    "\n",
    "#curve_points_x_2"
   ]
  },
  {
   "cell_type": "markdown",
   "metadata": {},
   "source": [
    "Things are heating up. We are looking at this, but also some functions for looking at some really utility type functions, collinearity, parallelism and stuff. "
   ]
  },
  {
   "cell_type": "code",
   "execution_count": null,
   "metadata": {},
   "outputs": [],
   "source": []
  }
 ],
 "metadata": {
  "kernelspec": {
   "display_name": "SageMath 9.0",
   "language": "sage",
   "name": "sagemath"
  },
  "language_info": {
   "codemirror_mode": {
    "name": "ipython",
    "version": 3
   },
   "file_extension": ".py",
   "mimetype": "text/x-python",
   "name": "python",
   "nbconvert_exporter": "python",
   "pygments_lexer": "ipython3",
   "version": "3.7.3"
  }
 },
 "nbformat": 4,
 "nbformat_minor": 4
}
