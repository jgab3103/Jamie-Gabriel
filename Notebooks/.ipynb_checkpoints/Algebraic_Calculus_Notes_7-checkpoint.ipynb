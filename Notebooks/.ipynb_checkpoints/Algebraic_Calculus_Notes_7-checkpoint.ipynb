{
 "cells": [
  {
   "cell_type": "code",
   "execution_count": 1,
   "metadata": {},
   "outputs": [],
   "source": [
    "import numpy as np\n",
    "import sympy as sp\n",
    "import shared_functions as sf\n",
    "from IPython.display import HTML\n",
    "import matplotlib.pyplot as plt"
   ]
  },
  {
   "cell_type": "markdown",
   "metadata": {},
   "source": [
    "Our focus in the last notebook, we used parabolas and cubic parameterisations and explored constructing oreintated edges and splines that could be in some sense, mapped to this these paramaterisations to provide approximations of area. We also saw that parabolic case, a theory of Archimedes\n",
    "\n",
    "At this point we have a number of related formulas and I have created a shared_functions.py to hold them, and we will call them in as needed, and we will add to them. better practice and we will end up with too much boiler plate to get us started\n",
    "\n",
    "At this point it is important to mention that parabolic functions, but circles are quiet different, and to an extent, more problematic. We won't be possible to find some kind of computation such as $ \\frac 16 (1-\\frac {1}{n^2}) $ where we can see that it approahces some particular number as n get's large. The circle does not lend itself to that. \n",
    "\n",
    "Let's start this issue, by just proceeding in a small way start exploring this using a parameterisation of a circle and providing a visualisation. Recall taht we have a parametrisatio of a circle\n",
    "\n",
    "$$A_t=e(t)=\\left[\\frac{1-t^2}{1+t^2},\\frac{2t}{1+t^2}\\right]$$\n",
    "\n",
    "Let's start by putting that in: "
   ]
  },
  {
   "cell_type": "code",
   "execution_count": 5,
   "metadata": {},
   "outputs": [
    {
     "data": {
      "text/plain": [
       "[<matplotlib.lines.Line2D object at 0x7ff633c33a90>]"
      ]
     },
     "execution_count": 5,
     "metadata": {},
     "output_type": "execute_result"
    },
    {
     "data": {
      "image/png": "[encoded data removed]",
      "text/plain": [
       "<Figure size 432x288 with 1 Axes>"
      ]
     },
     "metadata": {},
     "output_type": "display_data"
    }
   ],
   "source": [
    "fig, ax = plt.subplots()\n",
    "# points for circle\n",
    "initial_values = np.arange(start=-1000, stop=1000, step=.001)\n",
    "r = 1\n",
    "x2 = (r * (1 - initial_values^2) / (1 + initial_values^2))\n",
    "y2 = ((2 * r * initial_values) / (1 + initial_values^2))\n",
    "\n",
    "\n",
    "# points_choice = np.array([[-3,4],[0,-5]])\n",
    "# points_for_plotting = np.append(points_choice, [points_choice[0]], axis=0)\n",
    "# x1 = [e[0] for e in points_for_plotting]\n",
    "# y1 = [e[1] for e in points_for_plotting]\n",
    "\n",
    "\n",
    "ax.axis('equal')\n",
    "\n",
    "ax.plot(x2, y2, 'b')\n",
    "#ax.plot(x1, y1, 'ro')"
   ]
  },
  {
   "cell_type": "code",
   "execution_count": null,
   "metadata": {},
   "outputs": [],
   "source": []
  },
  {
   "cell_type": "code",
   "execution_count": null,
   "metadata": {},
   "outputs": [],
   "source": []
  },
  {
   "cell_type": "code",
   "execution_count": null,
   "metadata": {},
   "outputs": [],
   "source": []
  },
  {
   "cell_type": "code",
   "execution_count": null,
   "metadata": {},
   "outputs": [],
   "source": []
  },
  {
   "cell_type": "code",
   "execution_count": null,
   "metadata": {},
   "outputs": [],
   "source": []
  },
  {
   "cell_type": "code",
   "execution_count": null,
   "metadata": {},
   "outputs": [],
   "source": []
  },
  {
   "cell_type": "code",
   "execution_count": null,
   "metadata": {},
   "outputs": [],
   "source": []
  },
  {
   "cell_type": "code",
   "execution_count": null,
   "metadata": {},
   "outputs": [],
   "source": []
  },
  {
   "cell_type": "code",
   "execution_count": null,
   "metadata": {},
   "outputs": [],
   "source": []
  },
  {
   "cell_type": "code",
   "execution_count": null,
   "metadata": {},
   "outputs": [],
   "source": []
  },
  {
   "cell_type": "code",
   "execution_count": null,
   "metadata": {},
   "outputs": [],
   "source": []
  }
 ],
 "metadata": {
  "kernelspec": {
   "display_name": "SageMath 9.0",
   "language": "sage",
   "name": "sagemath"
  },
  "language_info": {
   "codemirror_mode": {
    "name": "ipython",
    "version": 3
   },
   "file_extension": ".py",
   "mimetype": "text/x-python",
   "name": "python",
   "nbconvert_exporter": "python",
   "pygments_lexer": "ipython3",
   "version": "3.7.3"
  }
 },
 "nbformat": 4,
 "nbformat_minor": 4
}
