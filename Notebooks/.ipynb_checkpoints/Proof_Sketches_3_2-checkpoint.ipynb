{
 "cells": [
  {
   "cell_type": "code",
   "execution_count": 46,
   "metadata": {},
   "outputs": [],
   "source": [
    "import sympy as sp\n",
    "import numpy as np\n",
    "import shared_functions as sf"
   ]
  },
  {
   "cell_type": "markdown",
   "metadata": {},
   "source": [
    "<h4>Summary: </h4><br/>\n",
    "\n",
    "\n",
    "\n",
    "<h4>References:</h4><br/>"
   ]
  },
  {
   "cell_type": "markdown",
   "metadata": {},
   "source": [
    "[Proof 3_2_10](#3_2_10)<br/>\n",
    "<i>Proposition:</i> If A and B are points, then $s(\\overrightarrow{AA})=0,$ and $s(\\overrightarrow{BA})=-s(\\overrightarrow{AB}).$\n",
    "<br/><i>Related definitions:</i>\n",
    "<br/>$s(\\overrightarrow{AA})=0$\n",
    "<br/>$s(\\overrightarrow{BA})=-s(\\overrightarrow{AB})$\n",
    "<br/><i>Related name:</i> Properties of oriented edge\n",
    "\n",
    "[Proof 3_2_13_i](#3_2_13_i)<br/>\n",
    "<i>Proposition:</i> Given a sequence of affine points definted by the rule $A_i=[i-1,i^2]$ for $i=1,2,\\ldots,100$.The signed area or an orientated polygonal spline $s(\\overrightarrow{A_iA_{i+1}})$ for any i in the range 0 to 99 will be $$\\frac 12 (i^2-i-1)$$\n",
    "<br/><i>Related name:</i> A quadratic orentated polygonal spline\n",
    "\n",
    "\n",
    "[Proof 3_2_14](#3_2_14)<br/>\n",
    "<i>Proposition:</i> For any points $A_1,A_2,A_3$ and $P$ it ist the case that $s(\\overleftrightarrow{A_1A_2A_3})=s(\\overleftrightarrow{A_1A_2P})+s(\\overleftrightarrow{A_2A_3P})+s(\\overleftrightarrow{A_3A_1P}).$\n",
    "<br/><i>Related name:</i> A quadratic orentated polygonal spline\n",
    "\n",
    "\n",
    "\n",
    "[Proof 3_2_15](#3_2_15)<br/>\n",
    "<i>Proposition:</i> If A and B are points, $\\overset{\\rightharpoonup}{v}$ is a vector, and $A'=A+\\overset{\\rightharpoonup}{v}$ and $B'=B+\\overset{\\rightharpoonup}{v}$ then $$ s(\\overrightarrow{A'B'})=s(\\overrightarrow{AB})+\\frac 12 \\overset{\\rightharpoonup}{v} \\times \\overset{\\rightharpoonup}{AB}.$$\n",
    "<br/><i>Related name:</i> Translating an oriented edge\n",
    "\n",
    "\n",
    "\n",
    "[Proof 3_2_16](#3_2_16)<br/>\n",
    "<i>Proposition:</i> If $\\gamma=\\overrightarrow{A_1A_2 \\cdots A_n}=[A_1,A_2,\\ldots,A_n]$is an oriented polygonal spline,  $\\overset{\\rightharpoonup}{v}$ is a vector, and  $A_i'=A_i+\\overset{\\rightharpoonup}{v}$ then\n",
    "\n",
    "$$ s(\\overrightarrow{A'_1A'_2 \\cdots A'_n})=s(\\overrightarrow{A_1A_2 \\cdots A_n})+\\frac 12 \\overset{\\rightharpoonup}{v} \\times \\overset{\\rightharpoonup}{A_1A_n}.$$\n",
    "<br/><i>Related name:</i> Translating an OPS\n",
    "\n",
    "\n",
    "[Proof 3_2_17](#3_2_17)<br/>\n",
    "<i>Proposition:</i> If $\\gamma=\\overleftrightarrow{A_1A_2 \\cdots A_n}$ is a cyclic oriented polygonal spline,  $\\overset{\\rightharpoonup}{v}$ is a vector, and  $A_i'=A_i+\\overset{\\rightharpoonup}{v}$ for $i=1,2,\\ldots,n$, then:\n",
    "$$ s(\\overleftrightarrow{A'_1A'_2 \\cdots A'_n})=s(\\overleftrightarrow{A_1A_2 \\cdots A_n})  $$\n",
    "<br/><i>Related name:</i> Translation invariance of a COPS\n",
    "\n",
    "\n",
    "\n",
    "[Proof 3_2_18](#3_2_18)<br/>\n",
    "<i>Proposition:</i> If a linear transformation of the plane is applied, transforming $A=[x,y]$ to $A'=[\\alpha x+\\beta y,\\gamma x+\\delta y]$ for some fixed integers $\\alpha, \\beta, \\gamma, \\delta$, the signed area of an orientated polygonal spline is changed by a constant factor, that is:\n",
    "\n",
    "$$  s(\\overrightarrow{A'_1A'_2 \\cdots A'_n})=(\\alpha \\delta - \\beta \\gamma) s(\\overrightarrow{A_1A_2 \\cdots A_n}). $$\n",
    "<br/><i>Related name:</i> The determinant of a linear transformation\n",
    "\n",
    "\n",
    "\n",
    "\n",
    "\n",
    "\n",
    "\n",
    "\n",
    "\n",
    "\n",
    "<hr/>\n"
   ]
  },
  {
   "cell_type": "markdown",
   "metadata": {},
   "source": [
    "### 3_2_10 <a class=\"anchor\" id=\"3_2_10\"></a>\n",
    "<i>Proposition:</i> If A and B are points, then $s(\\overrightarrow{AA})=0,$ and $s(\\overrightarrow{BA})=-s(\\overrightarrow{AB}).$\n",
    "<br/><i>Related definitions:</i>\n",
    "<br/>$s(\\overrightarrow{AA})=0$\n",
    "<br/>$s(\\overrightarrow{BA})=-s(\\overrightarrow{AB})$\n",
    "<br/><i>Related name:</i> Properties of oriented edge\n",
    "\n",
    "\n"
   ]
  },
  {
   "cell_type": "markdown",
   "metadata": {},
   "source": [
    "1. Let a, b, c and d be integers\n",
    "2. Let A be a point constructed from integers a and b: $A = [a, b]$\n",
    "3. Let sAA be the signed area of the orientated edge constructed from the point point A\n",
    "4. By definition, $sAA = \\frac{ab- ba}{2} = 0$ \n",
    "5. Let B be a point constructed from integers c and d: $B = [c, d]$\n",
    "6. Let sAB be the signed area of the orientated edge constructed from points A and B\n",
    "6. Let sBA be the signed area of the orientated edge constructed from points B and A\n",
    "7. Be definition, $sBA = \\frac{cb- ad}{2} = -\\frac{cb- ad}{2} = -sAB$ \n",
    "\n",
    "<hr/>\n"
   ]
  },
  {
   "cell_type": "markdown",
   "metadata": {},
   "source": [
    "### 3_2_13_i <a class=\"anchor\" id=\"3_2_13_i\"></a>\n",
    "<i>Proposition:</i> Given a sequence of affine points definted by the rule $A_i=[i-1,i^2]$ for $i=1,2,\\ldots,100$.The signed area or an orientated polygonal spline $s(\\overrightarrow{A_iA_{i+1}})$ for any i in the range 0 to 99 will be $$\\frac 12 (i^2-i-1)$$\n",
    "<br/><i>Related name:</i> A quadratic orentated polygonal spline"
   ]
  },
  {
   "cell_type": "markdown",
   "metadata": {},
   "source": [
    "1. Let i be an integer"
   ]
  },
  {
   "cell_type": "code",
   "execution_count": 40,
   "metadata": {},
   "outputs": [],
   "source": [
    "i = sp.symbols('i')"
   ]
  },
  {
   "cell_type": "markdown",
   "metadata": {},
   "source": [
    "2. Let Ai and AiPlus1 be points"
   ]
  },
  {
   "cell_type": "code",
   "execution_count": 41,
   "metadata": {},
   "outputs": [],
   "source": [
    "Ai = np.array([i - 1, i^2])\n",
    "Ai_plus_1 = np.array([i, (i + 1)^2])"
   ]
  },
  {
   "cell_type": "markdown",
   "metadata": {},
   "source": [
    "3. Let sAi_AiPlus1 be the signed area of points constructed from points Ai and AiPlus1 (Ref.1)"
   ]
  },
  {
   "cell_type": "code",
   "execution_count": 45,
   "metadata": {},
   "outputs": [
    {
     "data": {
      "text/latex": [
       "$\\displaystyle - \\frac{i^{3}}{2} + \\frac{\\left(i - 1\\right) \\left(i + 1\\right)^{2}}{2}$"
      ],
      "text/plain": [
       "-i**3/2 + (i - 1)*(i + 1)**2/2"
      ]
     },
     "execution_count": 45,
     "metadata": {},
     "output_type": "execute_result"
    }
   ],
   "source": [
    "sAi_Ai_plus_1 = sf.compute_signed_area_of_triangle_from_two_vectors([Ai, Ai_plus_1])\n",
    "sAi_Ai_plus_1"
   ]
  },
  {
   "cell_type": "markdown",
   "metadata": {},
   "source": [
    "4. Rewrite sAi_Ai_plus_1 (using factorisation):"
   ]
  },
  {
   "cell_type": "code",
   "execution_count": 32,
   "metadata": {},
   "outputs": [
    {
     "data": {
      "text/latex": [
       "$\\displaystyle \\frac{i^{2} - i - 1}{2}$"
      ],
      "text/plain": [
       "(i**2 - i - 1)/2"
      ]
     },
     "execution_count": 32,
     "metadata": {},
     "output_type": "execute_result"
    }
   ],
   "source": [
    "s.factor()"
   ]
  },
  {
   "cell_type": "markdown",
   "metadata": {},
   "source": [
    "<br/><i>Ref. 1:</i> Note that 2 points are being based to the formula to compute the signed area, and this possible. The same answer would be from a third points $O = [0, 0]$ to create vectors from O to each points\n",
    "\n",
    "<hr/>"
   ]
  },
  {
   "cell_type": "markdown",
   "metadata": {},
   "source": [
    "### 3_2_14 <a class=\"anchor\" id=\"3_2_14\"></a>\n",
    "<i>Proposition:</i> For any points $A_1,A_2,A_3$ and $P$ it ist the case that $s(\\overleftrightarrow{A_1A_2A_3})=s(\\overleftrightarrow{A_1A_2P})+s(\\overleftrightarrow{A_2A_3P})+s(\\overleftrightarrow{A_3A_1P}).$\n",
    "<br/><i>Related name:</i> A quadratic orentated polygonal spline\n",
    "\n"
   ]
  },
  {
   "cell_type": "markdown",
   "metadata": {},
   "source": [
    "1. Let A, B, C and P be points\n",
    "2. Let $sAB, sBC, sCA, sBP, sPA, sCP, sPB, sAP, sPC, sABP, sBCP$ and $sCAP$ be signed areas of orientated polygonal splines constructed from points $A, B, C$ and $P$\n",
    "3. Let sABC be the signed area of a cyclic oriented polygonal spline constructed from points A, B and C\n",
    "4. Note that sABC is be equivalent to $sAB + sBC + sCA$\n",
    "5. Note the sABC is also equivalent to (Ref. 1):$$  sAB + sBP + sPA + sBC + sCP + sPB + sCA + sAP + sPC $$\n",
    "6. Note that 5 is equivalent to $$  sABC = (sAB + sBP + sPA) + (sBC + sCP + sPB) + (sCA + sAP + sPC) = sABP + sBCP + sCAP $$ "
   ]
  },
  {
   "cell_type": "markdown",
   "metadata": {},
   "source": [
    "### 3_2_15 <a class=\"anchor\" id=\"3_2_15\"></a>\n",
    "<i>Proposition:</i> If A and B are points, $\\overset{\\rightharpoonup}{v}$ is a vector, and $A'=A+\\overset{\\rightharpoonup}{v}$ and $B'=B+\\overset{\\rightharpoonup}{v}$ then $$ s(\\overrightarrow{A'B'})=s(\\overrightarrow{AB})+\\frac 12 \\overset{\\rightharpoonup}{v} \\times \\overset{\\rightharpoonup}{AB}.$$\n",
    "<br/><i>Related name:</i> Translating an oriented edge"
   ]
  },
  {
   "cell_type": "markdown",
   "metadata": {},
   "source": [
    "<br/><b>Step 1:</b> Let $A, B, A'$ and $B'$ be points constructed from integers\n",
    "<br/><b>Step 2:</b> Let BAA'B' be an orientated parallelogram can be constructed from the points  $B, A, A'$ and $B'$ <i>(Ref. 1)</i>\n",
    "<br/><b>Step 3:</b> Let O be a point constructed from integer 0: $ O = [0,0]$\n",
    "<br/><b>Step 4:</b> Let $a$ be a vector constructed from the points $O$ and $A$\n",
    "<br/><b>Step 5:</b> Let $b$ be a vector constructed from the points $O$ and $B$\n",
    "<br/><b>Step 6:</b> Let $OA'$ be a vector constructed from the points $O$ and $A'$\n",
    "<br/><b>Step 7:</b> Let $OB'$ be a vector constructed from the points $O$ and $B'$\n",
    "<br/><b>Step 8:</b> Let $AB$ be a vector constructed from the points $A$ and $B$\n",
    "<br/><b>Step 9:</b> Let $v$ be a vector constructed from the points $A'$ and $A$\n",
    "<br/><b>Step 10:</b> Note that $v$ is also equivalent to the vector constructed from points $B$ and $B'$ <i>(Ref. 2)</i>\n",
    "<br/><b>Step 11:</b> Note that $a$ = $b$ <i>(Ref. 2)</i>\n",
    "<br/><b>Step 12:</b> Note that $OA'$ = $a + v$ <i>(Ref. 2)</i>\n",
    "<br/><b>Step 13:</b> Note that $OB'$ = $b + v$ <i>(Ref. 2)</i>\n",
    "<br/><b>Step 14:</b> Let $sAB$ be the signed area of the oriented side $AB$\n",
    "<br/><b>Step 15:</b> Note that $sAB = \\frac{a \\times b}{2}$ <i>(Ref. 3)</i>\n",
    "<br/><b>Step 16:</b> Let $sA'B'$ be the signed area of the oriented side $A'B'$\n",
    "<br/><b>Step 17:</b> Note that $sA'B' = \\frac{(a + v) \\times (b + v)}{2}$ <i>(Ref. 2)</i>\n",
    "<br/><b>Step 18:</b> Rewrite (using expansion): $sA'B' = \\frac{a \\times b}{2} + \\frac{a \\times v}{2} + \\frac{v \\times b}{2}$ \n",
    "<br/><b>Step 19:</b> Rewrite (using simplification) : $sA'B' = sAB + \\frac{v}{2} \\times (b - a)$ <i>(Ref. 4)</i>\n",
    "<br/><b>Step 20:</b> Rewrite (using simplification): $sA'B' = sAB + \\frac{v}{2} \\times sAB$\n",
    "\n",
    "<br/><i>Ref. 1:</i> properties of parralelogram\n",
    "<br/><i>Ref. 2:</i> properties of vectors\n",
    "<br/><i>Ref. 3:</i> formula of signed area\n",
    "<br/><i>Ref. 4:</i> how does b - a subs work?\n",
    "\n",
    "<hr/>\n"
   ]
  },
  {
   "cell_type": "markdown",
   "metadata": {},
   "source": [
    "### 3_2_16 <a class=\"anchor\" id=\"3_2_16\"></a>\n",
    "<i>Proposition:</i> If $\\gamma=\\overrightarrow{A_1A_2 \\cdots A_n}=[A_1,A_2,\\ldots,A_n]$is an oriented polygonal spline,  $\\overset{\\rightharpoonup}{v}$ is a vector, and  $A_i'=A_i+\\overset{\\rightharpoonup}{v}$ then\n",
    "\n",
    "$$ s(\\overrightarrow{A'_1A'_2 \\cdots A'_n})=s(\\overrightarrow{A_1A_2 \\cdots A_n})+\\frac 12 \\overset{\\rightharpoonup}{v} \\times \\overset{\\rightharpoonup}{A_1A_n}.$$\n",
    "<br/><i>Related name:</i> Translating an Orientated Polygonal Spline"
   ]
  },
  {
   "cell_type": "markdown",
   "metadata": {},
   "source": [
    "<br/><b>Step:</b> Let $i$ and $n$ be integers\n",
    "<br/><b>Step:</b> Let $A'_i$ be an point\n",
    "\n",
    "$$ s(\\overrightarrow{A'_1A'_2 \\cdots A'_n})= s(\\overrightarrow{A'_1A'_2})+ s(\\overrightarrow{A'_2A'_3 })+\\cdots  + s(\\overrightarrow{A'_{n-1} A'_n})\n",
    " $$\n",
    "\n",
    "$$ =s(\\overrightarrow{A_1 A_2})+\\frac 12 \\overset{\\rightharpoonup}{v} \\times \\overset{\\rightharpoonup}{A_1 A_2}+s(\\overrightarrow{A_2 A_3})+\\frac 12 \\overset{\\rightharpoonup}{v} \\times \\overset{\\rightharpoonup}{A_2 A_3}+\\cdots +s(\\overrightarrow{A_{n-1} A_n})+\\frac 12 \\overset{\\rightharpoonup}{v} \\times \\overset{\\rightharpoonup}{A_{n-1} A_n} $$\n",
    "\n",
    "$$ =s(\\overrightarrow{A_1A_2 \\cdots A_n})+\\frac 12  \\overset{\\rightharpoonup}{v} \\times (\\overset{\\rightharpoonup}{A_1 A_2}+\\overset{\\rightharpoonup}{A_2 A_3}+\\cdots+\\overset{\\rightharpoonup}{A_{n-1} A_n})=s(\\overrightarrow{A_1A_2 \\cdots A_n})+\\frac 12  \\overset{\\rightharpoonup}{v} \\times \\overset{\\rightharpoonup}{A_1 A_n}. $$\n",
    "\n",
    "\n",
    "<br/><i>Ref. 1:</i> p\n",
    "<hr/>"
   ]
  },
  {
   "cell_type": "code",
   "execution_count": null,
   "metadata": {},
   "outputs": [],
   "source": []
  }
 ],
 "metadata": {
  "kernelspec": {
   "display_name": "SageMath 9.0",
   "language": "sage",
   "name": "sagemath"
  },
  "language_info": {
   "codemirror_mode": {
    "name": "ipython",
    "version": 3
   },
   "file_extension": ".py",
   "mimetype": "text/x-python",
   "name": "python",
   "nbconvert_exporter": "python",
   "pygments_lexer": "ipython3",
   "version": "3.7.3"
  }
 },
 "nbformat": 4,
 "nbformat_minor": 4
}
