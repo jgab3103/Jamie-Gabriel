{
 "cells": [
  {
   "cell_type": "code",
   "execution_count": 1,
   "metadata": {},
   "outputs": [],
   "source": [
    "import sympy as sp\n",
    "import numpy as np\n",
    "import shared_functions as sf"
   ]
  },
  {
   "cell_type": "markdown",
   "metadata": {},
   "source": [
    "<h3>Overview</h3><br/>\n",
    "The takeaways from this section:\n",
    "\n",
    "This section extends the idea of signed area to other situations: triangles, sides, lines, and polygons, powerful, signed area is a generalised, do not have to think of it as traditional way"
   ]
  },
  {
   "cell_type": "markdown",
   "metadata": {},
   "source": [
    "[Proof 2_4_2](#2_4_2)<br/>\n",
    "<i>Proposition:</i> For any two points A and B it is the case that $s(\\widetilde{BA})=-s(\\widetilde{AB}).$\n",
    "\n",
    "\n",
    "[Proof 2_4_3](#2_4_3)<br/>\n",
    "<i>Proposition:</i> For any point $A$ it is the case that $s(\\widetilde{OA})=0$\n",
    "\n",
    "[Proof 2_4_4](#2_4_4)<br/>\n",
    "<i>Proposition:</i> If $A, B$ and $D$ are collinear points then $s(\\widetilde{AB})+s(\\widetilde{BD})=s(\\widetilde{AD}).$\n",
    "\n",
    "\n",
    "[Proof 2_4_5](#2_4_5)<br/>\n",
    "<i>Proposition:</i> The signed area of the oriented side $\\widetilde{AB}$, given the points $A=[t,t^2]$ and $B=[u,u^2]$ on the parabola $y=x^2$,are $$ s(\\widetilde{AB})=\\frac{(t,t^2)\\times (u,u^2)}{2}=\\frac{tu^2-t^2u}{2}=\\frac{(u-t)tu}{2}. $$\n",
    "\n",
    "\n",
    "[Proof 2_4_6](#2_4_6)<br/>\n",
    "<i>Proposition:</i> The signed area of the oriented side $\\widetilde{AB}$ when\n",
    "$$ A=\\big[\\frac{1-t^2}{1+t^2},\\frac{2t}{1+t^2}\\big] \\quad \\textrm{and} \\quad B=\\big[\\frac{1-u^2}{1+u^2},\\frac{2u}{1+u^2}\\big]$$ are points incident to a circle $x^2 + y^2 = 1$ is $\\frac{(u-t)(1+tu)}{(1+t^2)(1+u^2)}$\n",
    "\n",
    "[Proof 2_4_7](#2_4_7)<br/>\n",
    "<i>Proposition:</i> The signed area of the oriented side $\\widetilde{AB}$ when $A=[t,\\frac{1}{t}]$ and $B=[u,\\frac{1}{u}]$ are two points incident to a hyperbola $xy=1$ is $ \\frac{t^2-u^2}{2ut}$\n",
    "\n",
    "[Proof 2_4_8](#2_4_8)<br/>\n",
    "<i>Proposition:</i> The signed area of any oriented triangle $\\widetilde{ABC}$ is equivalent to  $s(\\widetilde{ABC})=s(\\widetilde{AB})+s(\\widetilde{BC})+s(\\widetilde{CA}).$\n",
    "\n",
    "[Proof 2_4_9](#2_4_9)<br/>\n",
    "<i>Proposition:</i> If $A1=[x_1,y_1], A2=[x_2,y_2]$ and A3=[x_3,y_3] then\n",
    "$s(\\widetilde{A_1A_2A_3})=\\frac12(x_1y_2-y_1x_2+x_2y_3-y_2x_3+x_3y_1-y_3x_1).$\n",
    "\n",
    "\n",
    "[Proof 2_4_12](#2_4_12)<br/>\n",
    "<i>Proposition:</i> If  $A1=[x_1,y_1], A2=[x_2,y_2], A3=[x_3,y_3]$ and $A4=[x_4,y_4]$ then\n",
    "$s(\\widetilde{A_1A_2A_3A_4})=\\frac{1}{2}(x_1y_2-y_1x_2+x_2y_3-y_2x_3+x_3y_4-y_3x_4+x_4y_1-y_4x_1).$\n",
    "\n",
    "\n",
    "[Proof 2_4_13](#2_4_13)<br/>\n",
    "<i>Proposition:</i> If a ordered set of four points  \n",
    "\n",
    "$\\{A,B,C,D\\}$ is used to construct an oriented quadrilateral, dentoted as $\\widetilde{ABCD}$ and subject to the convention that\n",
    "\n",
    "$\\widetilde{ABCD}=\\widetilde{BCDA}=\\widetilde{CDAB}=\\widetilde{DABC}.$\n",
    "\n",
    "the oriented quadrilateral has four associated oriented triangles, namely $\\widetilde{ABC},\\widetilde{BCD},\\widetilde{CDA}$.  $s(\\widetilde{ABC})+s(\\widetilde{CDA})=s(\\widetilde{BCD})+s(\\widetilde{DAB}).$ The sums of the signed areas of these triangles is equivalent to the signed area $s(\\widetilde{ABCD})$\n",
    "\n",
    "\n",
    "[Proof 2_4_14](#2_4_14)<br/>\n",
    "<i>Proposition:</i>The signed area $s(\\widetilde{ABCD})$ can be computed using the cross product of diagonals $s(\\widetilde{ABCD})=\\frac12{\\overset{\\rightharpoonup}{AC} \\times \\overset{\\rightharpoonup}{BD}}.$\n",
    "\n",
    "\n",
    "\n",
    "[Proof 2_4_16](#2_4_16)<br/>\n",
    "<i>Proposition:</i>If opposite lines AD and BC of a oriented quadrilateral $\\widetilde{ABCD}$ meet at the point E, then  $s(\\widetilde{ABCD})=s(\\widetilde{ABE})+s(\\widetilde{ECD}).$\n",
    "\n",
    "\n",
    "[Proof 2_4_17](#2_4_17)<br/>\n",
    "<i>Proposition:</i>An oriented pentagon,  $\\widetilde{ABCDE}$ and a reasonable formula for its signed area. $ s(\\widetilde{ABCDE})=s(\\widetilde{AB})+s(\\widetilde{BC})+s(\\widetilde{CD})+s(\\widetilde{DE})+s(\\widetilde{EA}).$\n",
    "\n"
   ]
  },
  {
   "cell_type": "markdown",
   "metadata": {},
   "source": [
    "### 2_4_2 <a class=\"anchor\" id=\"2_4_2\"></a>\n",
    "<i>Proposition:</i> For any two points A and B it is the case that $s(\\widetilde{BA})=-s(\\widetilde{AB}).$"
   ]
  },
  {
   "cell_type": "code",
   "execution_count": 2,
   "metadata": {},
   "outputs": [],
   "source": [
    "a, b, c, d = sp.symbols('a, b, c, d')\n",
    "# Let a, b, c and d be integers"
   ]
  },
  {
   "cell_type": "code",
   "execution_count": 3,
   "metadata": {},
   "outputs": [
    {
     "data": {
      "text/plain": [
       "\u001b[0;31mSignature:\u001b[0m      \u001b[0msf\u001b[0m\u001b[0;34m.\u001b[0m\u001b[0mcalculate_signed_area\u001b[0m\u001b[0;34m(\u001b[0m\u001b[0mpoints\u001b[0m\u001b[0;34m,\u001b[0m \u001b[0morigin_is_one_of_points\u001b[0m\u001b[0;34m=\u001b[0m\u001b[0;32mTrue\u001b[0m\u001b[0;34m)\u001b[0m\u001b[0;34m\u001b[0m\u001b[0;34m\u001b[0m\u001b[0m\n",
       "\u001b[0;31mInit docstring:\u001b[0m Initialize self.  See help(type(self)) for accurate signature.\n",
       "\u001b[0;31mFile:\u001b[0m           ~/Notebooks/shared_functions.py\n",
       "\u001b[0;31mType:\u001b[0m           function\n"
      ]
     },
     "metadata": {},
     "output_type": "display_data"
    }
   ],
   "source": [
    "sf.calculate_signed_area?"
   ]
  },
  {
   "cell_type": "code",
   "execution_count": 4,
   "metadata": {},
   "outputs": [],
   "source": [
    "S1 = np.array([a, b])\n",
    "# Let S1 be a point constructed from a and b"
   ]
  },
  {
   "cell_type": "code",
   "execution_count": 5,
   "metadata": {},
   "outputs": [],
   "source": [
    "S2 = np.array([c, d])\n",
    "# Let S2 be a point constructed from c and d"
   ]
  },
  {
   "cell_type": "code",
   "execution_count": 21,
   "metadata": {},
   "outputs": [
    {
     "data": {
      "text/latex": [
       "$\\displaystyle \\frac{a d - b c}{2}$"
      ],
      "text/plain": [
       "(a*d - b*c)/2"
      ]
     },
     "execution_count": 21,
     "metadata": {},
     "output_type": "execute_result"
    }
   ],
   "source": [
    "S3 = sf.calculate_signed_area([S1, S2], origin_is_one_of_points=False)\n",
    "S3\n",
    "# Manipulate S1 and S2 using a cross product function to create S3"
   ]
  },
  {
   "cell_type": "code",
   "execution_count": 22,
   "metadata": {},
   "outputs": [
    {
     "data": {
      "text/latex": [
       "$\\displaystyle \\frac{a d - b c}{2}$"
      ],
      "text/plain": [
       "(a*d - b*c)/2"
      ]
     },
     "execution_count": 22,
     "metadata": {},
     "output_type": "execute_result"
    }
   ],
   "source": [
    "S4 = sf.calculate_signed_area([-S2, S1], origin_is_one_of_points=False)\n",
    "S4\n",
    "# Manipulate S1 and S2 using a cross product function to create S4"
   ]
  },
  {
   "cell_type": "code",
   "execution_count": 26,
   "metadata": {},
   "outputs": [
    {
     "data": {
      "text/plain": [
       "True"
      ]
     },
     "execution_count": 26,
     "metadata": {},
     "output_type": "execute_result"
    }
   ],
   "source": [
    "S5 = S3.equals(S4)\n",
    "S5\n",
    "# Manipulate S3 and S4 using an equivalance function to create S5"
   ]
  },
  {
   "cell_type": "code",
   "execution_count": 27,
   "metadata": {},
   "outputs": [],
   "source": [
    "# Conclusion: Proof is true"
   ]
  },
  {
   "cell_type": "code",
   "execution_count": null,
   "metadata": {},
   "outputs": [],
   "source": []
  }
 ],
 "metadata": {
  "kernelspec": {
   "display_name": "SageMath 9.0",
   "language": "sage",
   "name": "sagemath"
  },
  "language_info": {
   "codemirror_mode": {
    "name": "ipython",
    "version": 3
   },
   "file_extension": ".py",
   "mimetype": "text/x-python",
   "name": "python",
   "nbconvert_exporter": "python",
   "pygments_lexer": "ipython3",
   "version": "3.7.3"
  }
 },
 "nbformat": 4,
 "nbformat_minor": 4
}
