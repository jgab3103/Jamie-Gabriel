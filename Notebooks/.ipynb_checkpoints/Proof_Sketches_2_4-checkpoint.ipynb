{
 "cells": [
  {
   "cell_type": "code",
   "execution_count": 1,
   "metadata": {},
   "outputs": [],
   "source": [
    "import sympy as sp\n",
    "import numpy as np\n",
    "import shared_functions as sf"
   ]
  },
  {
   "cell_type": "markdown",
   "metadata": {},
   "source": [
    "<h3>Overview</h3><br/>\n",
    "The takeaways from this section:\n",
    "\n",
    "This section extends the idea of signed area to other situations: triangles, sides, lines, and polygons, powerful, signed area is a generalised, do not have to think of it as traditional way"
   ]
  },
  {
   "cell_type": "markdown",
   "metadata": {},
   "source": [
    "[Proof 2_4_2](#2_4_2)<br/>\n",
    "<i>Proposition:</i> For any two points A and B it is the case that $s(\\widetilde{BA})=-s(\\widetilde{AB}).$\n",
    "\n",
    "\n",
    "[Proof 2_4_3](#2_4_3)<br/>\n",
    "<i>Proposition:</i> For any point $A$ it is the case that $s(\\widetilde{OA})=0$\n",
    "\n",
    "[Proof 2_4_4](#2_4_4)<br/>\n",
    "<i>Proposition:</i> If $A, B$ and $D$ are collinear points then $s(\\widetilde{AB})+s(\\widetilde{BD})=s(\\widetilde{AD}).$\n",
    "\n",
    "\n",
    "[Proof 2_4_5](#2_4_5)<br/>\n",
    "<i>Proposition:</i> The signed area of the oriented side $\\widetilde{AB}$, given the points $A=[t,t^2]$ and $B=[u,u^2]$ on the parabola $y=x^2$,are $$ s(\\widetilde{AB})=\\frac{(t,t^2)\\times (u,u^2)}{2}=\\frac{tu^2-t^2u}{2}=\\frac{(u-t)tu}{2}. $$\n",
    "\n",
    "\n",
    "[Proof 2_4_6](#2_4_6)<br/>\n",
    "<i>Proposition:</i> The signed area of the oriented side $\\widetilde{AB}$ when\n",
    "$$ A=\\big[\\frac{1-t^2}{1+t^2},\\frac{2t}{1+t^2}\\big] \\quad \\textrm{and} \\quad B=\\big[\\frac{1-u^2}{1+u^2},\\frac{2u}{1+u^2}\\big]$$ are points incident to a circle $x^2 + y^2 = 1$ is $\\frac{(u-t)(1+tu)}{(1+t^2)(1+u^2)}$\n",
    "\n",
    "[Proof 2_4_7](#2_4_7)<br/>\n",
    "<i>Proposition:</i> The signed area of the oriented side $\\widetilde{AB}$ when $A=[t,\\frac{1}{t}]$ and $B=[u,\\frac{1}{u}]$ are two points incident to a hyperbola $xy=1$ is $ \\frac{t^2-u^2}{2ut}$\n",
    "\n",
    "[Proof 2_4_8](#2_4_8)<br/>\n",
    "<i>Proposition:</i> The signed area of any oriented triangle $\\widetilde{ABC}$ is equivalent to  $s(\\widetilde{ABC})=s(\\widetilde{AB})+s(\\widetilde{BC})+s(\\widetilde{CA}).$<br/>\n",
    "<i>Related name:</i> Triangle Signed Area Theorem\n",
    "\n",
    "[Proof 2_4_9](#2_4_9)<br/>\n",
    "<i>Proposition:</i> If $A1=[x_1,y_1], A2=[x_2,y_2]$ and A3=[x_3,y_3] then\n",
    "$s(\\widetilde{A_1A_2A_3})=\\frac12(x_1y_2-y_1x_2+x_2y_3-y_2x_3+x_3y_1-y_3x_1).$\n",
    "\n",
    "\n",
    "[Proof 2_4_12](#2_4_12)<br/>\n",
    "<i>Proposition:</i> If  $A1=[x_1,y_1], A2=[x_2,y_2], A3=[x_3,y_3]$ and $A4=[x_4,y_4]$ then\n",
    "$s(\\widetilde{A_1A_2A_3A_4})=\\frac{1}{2}(x_1y_2-y_1x_2+x_2y_3-y_2x_3+x_3y_4-y_3x_4+x_4y_1-y_4x_1).$\n",
    "\n",
    "\n",
    "[Proof 2_4_13](#2_4_13)<br/>\n",
    "<i>Proposition:</i> If a ordered set of four points  \n",
    "\n",
    "$\\{A,B,C,D\\}$ is used to construct an oriented quadrilateral, dentoted as $\\widetilde{ABCD}$ and subject to the convention that\n",
    "\n",
    "$\\widetilde{ABCD}=\\widetilde{BCDA}=\\widetilde{CDAB}=\\widetilde{DABC}.$\n",
    "\n",
    "the oriented quadrilateral has four associated oriented triangles, namely $\\widetilde{ABC},\\widetilde{BCD},\\widetilde{CDA}$.  $s(\\widetilde{ABC})+s(\\widetilde{CDA})=s(\\widetilde{BCD})+s(\\widetilde{DAB}).$ The sums of the signed areas of these triangles is equivalent to the signed area $s(\\widetilde{ABCD})$\n",
    "\n",
    "\n",
    "[Proof 2_4_14](#2_4_14)<br/>\n",
    "<i>Proposition:</i>The signed area $s(\\widetilde{ABCD})$ can be computed using the cross product of diagonals $s(\\widetilde{ABCD})=\\frac12{\\overset{\\rightharpoonup}{AC} \\times \\overset{\\rightharpoonup}{BD}}.$\n",
    "\n",
    "\n",
    "\n",
    "[Proof 2_4_16](#2_4_16)<br/>\n",
    "<i>Proposition:</i>If opposite lines AD and BC of a oriented quadrilateral $\\widetilde{ABCD}$ meet at the point E, then  $s(\\widetilde{ABCD})=s(\\widetilde{ABE})+s(\\widetilde{ECD}).$\n",
    "\n",
    "\n",
    "[Proof 2_4_17](#2_4_17)<br/>\n",
    "<i>Proposition:</i>An oriented pentagon,  $\\widetilde{ABCDE}$ and a reasonable formula for its signed area. $ s(\\widetilde{ABCDE})=s(\\widetilde{AB})+s(\\widetilde{BC})+s(\\widetilde{CD})+s(\\widetilde{DE})+s(\\widetilde{EA}).$\n",
    "\n"
   ]
  },
  {
   "cell_type": "markdown",
   "metadata": {},
   "source": [
    "### 2_4_2 <a class=\"anchor\" id=\"2_4_2\"></a>\n",
    "<i>Proposition:</i> For any two points A and B it is the case that $s(\\widetilde{BA})=-s(\\widetilde{AB}).$"
   ]
  },
  {
   "cell_type": "code",
   "execution_count": 2,
   "metadata": {},
   "outputs": [],
   "source": [
    "a, b, c, d = sp.symbols('a, b, c, d')\n",
    "# Let a, b, c and d be integers"
   ]
  },
  {
   "cell_type": "code",
   "execution_count": 3,
   "metadata": {},
   "outputs": [],
   "source": [
    "S1 = np.array([a, b])\n",
    "# Let S1 be a point constructed from a and b"
   ]
  },
  {
   "cell_type": "code",
   "execution_count": 4,
   "metadata": {},
   "outputs": [],
   "source": [
    "S2 = np.array([c, d])\n",
    "# Let S2 be a point constructed from c and d"
   ]
  },
  {
   "cell_type": "code",
   "execution_count": 5,
   "metadata": {},
   "outputs": [
    {
     "data": {
      "text/latex": [
       "$\\displaystyle \\frac{a d - b c}{2}$"
      ],
      "text/plain": [
       "(a*d - b*c)/2"
      ]
     },
     "execution_count": 5,
     "metadata": {},
     "output_type": "execute_result"
    }
   ],
   "source": [
    "S3 = sf.calculate_signed_area([S1, S2], origin_is_one_of_points=False)\n",
    "S3\n",
    "# Manipulate S1 and S2 using a cross product function to create S3"
   ]
  },
  {
   "cell_type": "code",
   "execution_count": 6,
   "metadata": {},
   "outputs": [
    {
     "data": {
      "text/latex": [
       "$\\displaystyle \\frac{a d - b c}{2}$"
      ],
      "text/plain": [
       "(a*d - b*c)/2"
      ]
     },
     "execution_count": 6,
     "metadata": {},
     "output_type": "execute_result"
    }
   ],
   "source": [
    "S4 = sf.calculate_signed_area([-S2, S1], origin_is_one_of_points=False)\n",
    "S4\n",
    "# Manipulate S1 and S2 using a cross product function to create S4"
   ]
  },
  {
   "cell_type": "code",
   "execution_count": 7,
   "metadata": {},
   "outputs": [
    {
     "data": {
      "text/plain": [
       "True"
      ]
     },
     "execution_count": 7,
     "metadata": {},
     "output_type": "execute_result"
    }
   ],
   "source": [
    "S5 = S3.equals(S4)\n",
    "S5\n",
    "# Manipulate S3 and S4 using an equivalance function to create S5"
   ]
  },
  {
   "cell_type": "code",
   "execution_count": 8,
   "metadata": {},
   "outputs": [],
   "source": [
    "# Conclusion: Proof is true"
   ]
  },
  {
   "cell_type": "markdown",
   "metadata": {},
   "source": [
    "### 2_4_3 <a class=\"anchor\" id=\"2_4_3\"></a>\n",
    "<i>Proposition:</i> For any point $A$ it is the case that $s(\\widetilde{OA})=0$"
   ]
  },
  {
   "cell_type": "code",
   "execution_count": 9,
   "metadata": {},
   "outputs": [],
   "source": [
    "a, b = sp.symbols('a, b')\n",
    "# Let a and b be integers"
   ]
  },
  {
   "cell_type": "code",
   "execution_count": 10,
   "metadata": {},
   "outputs": [],
   "source": [
    "S1 = np.array([a, b])\n",
    "# Let S1 be a point constructed from integers a and b"
   ]
  },
  {
   "cell_type": "code",
   "execution_count": 11,
   "metadata": {},
   "outputs": [],
   "source": [
    "S2 = np.array([0, 0])\n",
    "# Let S2 be a point constructed from the integer 0"
   ]
  },
  {
   "cell_type": "code",
   "execution_count": 12,
   "metadata": {},
   "outputs": [
    {
     "data": {
      "text/latex": [
       "$\\displaystyle 0$"
      ],
      "text/plain": [
       "0"
      ]
     },
     "execution_count": 12,
     "metadata": {},
     "output_type": "execute_result"
    }
   ],
   "source": [
    "S3 = sf.calculate_signed_area([S1, S2], origin_is_one_of_points=False)\n",
    "S3\n",
    "# Manipulate S1 and S2 using a signed area function to create S3"
   ]
  },
  {
   "cell_type": "code",
   "execution_count": 13,
   "metadata": {},
   "outputs": [
    {
     "data": {
      "text/plain": [
       "True"
      ]
     },
     "execution_count": 13,
     "metadata": {},
     "output_type": "execute_result"
    }
   ],
   "source": [
    "S3.equals(0)\n",
    "# Manipulate S3 and 0 using an equivalence function"
   ]
  },
  {
   "cell_type": "code",
   "execution_count": 14,
   "metadata": {},
   "outputs": [],
   "source": [
    "# Conclusion: Proof is True"
   ]
  },
  {
   "cell_type": "markdown",
   "metadata": {},
   "source": [
    "### 2_4_4 <a class=\"anchor\" id=\"2_4_4\"></a>\n",
    "<i>Proposition:</i> If $A, B$ and $D$ are collinear points then $s(\\widetilde{AB})+s(\\widetilde{BD})=s(\\widetilde{AD}).$\n"
   ]
  },
  {
   "cell_type": "markdown",
   "metadata": {},
   "source": [
    "1. Let a, b and d be points\n",
    "2. Suppose A, B and D are distinct\n",
    "3. Suppose A, B and D are collinear\n",
    "4. Let OB be a vector constructed from points O and B \n",
    "5. Let BA be a vector constructed from points B and A\n",
    "6. Let OA be the vector addition of OB and BA: OA = OB + BA\n",
    "7. Let AD be a vector constructed from A and D\n",
    "8. Use vector addition of OA and AD to create the relationship OD = OA + AD\n",
    "9. Let s(AD) = (OA X OD) / 2 be the signed area of the vector AD\n",
    "10. Rewrite s (using equivalence): s =  ((OB + BA) X (OA + AD)) / 2\n",
    "11. Expand s: s = (OB X OA + BA X OA + OB X AD + BA X AD) / 2\n",
    "12. Note that BA X AD = 0 (Ref. 2)\n",
    "14. Note that that BA = BO + OA (Ref. 2)\n",
    "15. Note that AD = AO + OD (Ref. 3)\n",
    "16. Rewrite s (using equivalence): s = (OB X OA + (BO + OA) X OA + OB X  (AO + OD)) / 2\n",
    "17. Rewrite s (using expansion): s = (OB X OA + BO X OA + OA X OA + OB X AO + OB X OD) \n",
    "19. Simpify s: s = (OB X OA + OB X OD) (Ref. 3, Ref. 4)\n",
    "20. s = s(AB) = s(BD)\n",
    "\n",
    "<br/><i>Ref. 1:</i> Recall that the cross product of points incident to the same line / collinear is equal to 0.\n",
    "<br/><i>Ref. 2:</i> Recall that the addition of 2 vectors\n",
    "<br/><i>Ref. 3:</i> Recall that R X R = 0 for any vector R \n",
    "<br/><i>Ref. 4:</i> Recall that tha t s(A) + -S(A) = 0 for any vector A"
   ]
  },
  {
   "cell_type": "markdown",
   "metadata": {},
   "source": [
    "### 2_4_6 <a class=\"anchor\" id=\"2_4_6\"></a>\n",
    "<i>Proposition:</i> The signed area of the oriented side $\\widetilde{AB}$ when\n",
    "$$ A=\\big[\\frac{1-t^2}{1+t^2},\\frac{2t}{1+t^2}\\big] \\quad \\textrm{and} \\quad B=\\big[\\frac{1-u^2}{1+u^2},\\frac{2u}{1+u^2}\\big]$$ are points incident to a circle $x^2 + y^2 = 1$ is $\\frac{(u-t)(1+tu)}{(1+t^2)(1+u^2)}$\n"
   ]
  },
  {
   "cell_type": "markdown",
   "metadata": {},
   "source": [
    "1. Let u and t be integers"
   ]
  },
  {
   "cell_type": "code",
   "execution_count": 15,
   "metadata": {},
   "outputs": [],
   "source": [
    "u, t = sp.symbols('u, t')"
   ]
  },
  {
   "cell_type": "markdown",
   "metadata": {},
   "source": [
    "2. Let A be a point constructed with integer t (Ref. 1)"
   ]
  },
  {
   "cell_type": "code",
   "execution_count": 16,
   "metadata": {},
   "outputs": [
    {
     "data": {
      "text/plain": [
       "array([-(t^2 - 1)/(t^2 + 1), 2*t/(t^2 + 1)], dtype=object)"
      ]
     },
     "execution_count": 16,
     "metadata": {},
     "output_type": "execute_result"
    }
   ],
   "source": [
    "A = np.array([((1 - t^2) / (1 + t^2)), 2*t/(t^2 + 1)])\n",
    "A"
   ]
  },
  {
   "cell_type": "markdown",
   "metadata": {},
   "source": [
    "2. Let A be a point constructed with integer u (Ref. 1)"
   ]
  },
  {
   "cell_type": "code",
   "execution_count": 17,
   "metadata": {},
   "outputs": [
    {
     "data": {
      "text/plain": [
       "array([-(u^2 - 1)/(u^2 + 1), 2*u/(u^2 + 1)], dtype=object)"
      ]
     },
     "execution_count": 17,
     "metadata": {},
     "output_type": "execute_result"
    }
   ],
   "source": [
    "B = np.array([((1 - u^2) / (1 + u^2)), 2*u/(u^2 + 1)])\n",
    "B"
   ]
  },
  {
   "cell_type": "markdown",
   "metadata": {},
   "source": [
    "3. Let s be the signed area of A and B "
   ]
  },
  {
   "cell_type": "code",
   "execution_count": 18,
   "metadata": {},
   "outputs": [
    {
     "data": {
      "text/html": [
       "<html><script type=\"math/tex; mode=display\">\\newcommand{\\Bold}[1]{\\mathbf{#1}}-\\frac{{\\left(t u + 1\\right)} {\\left(t - u\\right)}}{{\\left(t^{2} + 1\\right)} {\\left(u^{2} + 1\\right)}}</script></html>"
      ],
      "text/plain": [
       "-(t*u + 1)*(t - u)/((t^2 + 1)*(u^2 + 1))"
      ]
     },
     "metadata": {},
     "output_type": "display_data"
    }
   ],
   "source": [
    "s = sf.calculate_signed_area([A, B], origin_is_one_of_points=False)\n",
    "show(s)"
   ]
  },
  {
   "cell_type": "markdown",
   "metadata": {},
   "source": [
    "<br/><i>Ref. 1:</i> Recall that that for any values u and t, the unit circle can be parametrized as $$ A=\\big[\\frac{1-t^2}{1+t^2},\\frac{2t}{1+t^2}\\big] \\quad \\textrm{and} \\quad B=\\big[\\frac{1-u^2}{1+u^2},\\frac{2u}{1+u^2}\\big]$$ "
   ]
  },
  {
   "cell_type": "markdown",
   "metadata": {},
   "source": [
    "### 2_4_7 <a class=\"anchor\" id=\"2_4_7\"></a>\n",
    "<i>Proposition:</i> The signed area of the oriented side $\\widetilde{AB}$ when $A=[t,\\frac{1}{t}]$ and $B=[u,\\frac{1}{u}]$ are two points incident to a hyperbola $xy=1$ is $ \\frac{t^2-u^2}{2ut}$"
   ]
  },
  {
   "cell_type": "markdown",
   "metadata": {},
   "source": [
    "1. Let u and t be integers"
   ]
  },
  {
   "cell_type": "code",
   "execution_count": 19,
   "metadata": {},
   "outputs": [],
   "source": [
    "u, t = sp.symbols('u, t')"
   ]
  },
  {
   "cell_type": "markdown",
   "metadata": {},
   "source": [
    "2. Let A be the point constructed from integer t"
   ]
  },
  {
   "cell_type": "code",
   "execution_count": 20,
   "metadata": {},
   "outputs": [],
   "source": [
    "A = np.array([t, 1/t]) "
   ]
  },
  {
   "cell_type": "markdown",
   "metadata": {},
   "source": [
    "3. Let A be the point constructed from integer t"
   ]
  },
  {
   "cell_type": "code",
   "execution_count": 21,
   "metadata": {},
   "outputs": [],
   "source": [
    "B = np.array([u, 1/u])"
   ]
  },
  {
   "cell_type": "markdown",
   "metadata": {},
   "source": [
    "3. Let s be the signed area of A and B"
   ]
  },
  {
   "cell_type": "code",
   "execution_count": 22,
   "metadata": {},
   "outputs": [
    {
     "data": {
      "text/latex": [
       "$\\displaystyle \\frac{\\left(t - u\\right) \\left(t + u\\right)}{2 t u}$"
      ],
      "text/plain": [
       "(t - u)*(t + u)/(2*t*u)"
      ]
     },
     "execution_count": 22,
     "metadata": {},
     "output_type": "execute_result"
    }
   ],
   "source": [
    "\n",
    "s = sf.calculate_signed_area([A, B], origin_is_one_of_points=False)\n",
    "s"
   ]
  },
  {
   "cell_type": "markdown",
   "metadata": {},
   "source": [
    "<br/><i>Ref. 1:</i> Recall that that for any values u and t, the unit circle can be parametrized as $ ut = 1$ "
   ]
  },
  {
   "cell_type": "markdown",
   "metadata": {},
   "source": [
    "### 2_4_8 <a class=\"anchor\" id=\"2_4_8\"></a>\n",
    "<i>Proposition:</i> The signed area of any oriented triangle $\\widetilde{ABC}$ is equivalent to  $s(\\widetilde{ABC})=s(\\widetilde{AB})+s(\\widetilde{BC})+s(\\widetilde{CA}).$<br/><br/>\n",
    "<i>Related name:</i> Triangle Signed Area Theorem"
   ]
  },
  {
   "cell_type": "markdown",
   "metadata": {},
   "source": [
    "1. Let u, v and w be variables"
   ]
  },
  {
   "cell_type": "code",
   "execution_count": 23,
   "metadata": {},
   "outputs": [],
   "source": [
    "u, v, w = sp.symbols('u, v, w')"
   ]
  },
  {
   "cell_type": "markdown",
   "metadata": {},
   "source": [
    "2. Let A, B and C be points\n",
    "3. Let O be a point constructed from integer 0\n",
    "4. Let u be a vector constructed from points O and A\n",
    "5. Let v be a vector constructed from points O and B\n",
    "6. Let w ve a vector constructed from points O and C\n",
    "7. Let AB be a vector constructed from points A and B\n",
    "8.  Let ABC be an orientated triangle constructed from the points A, B and C\n",
    "9. Note that AB = v - u (Ref. 1)\n",
    "10. Note that AC = w - u (Ref. 1)\n",
    "11. Let s(ABC) be the signed area of ABC\n",
    "12. Note that s(ABC) = (AB) X (AC) / 2 (Ref. 2)\n",
    "13. Rewrite s (using equivalence): s = ((v - u) X (w - u)) / 2\n",
    "14. Rewrite s (using expansion): s = (v X w - u X w - v X u )/2 (Ref. 3)\n",
    "15. Rewrite s: s = (v X w + w X u + u X v )/2 (Ref. 4)\n",
    "16. Rewrite s (using equivalence): \n",
    "$s =\\frac12(\\overset{\\rightharpoonup}{OB}\\times \\overset{\\rightharpoonup}{OC}+\\overset{\\rightharpoonup}{OC}\\times\\overset{\\rightharpoonup}{OA}+\\overset{\\rightharpoonup}{OA}\\times \\overset{\\rightharpoonup}{OB})$\n",
    "17. $s=s(\\widetilde{AB})+s(\\widetilde{BC})+s(\\widetilde{CA}).$\n",
    "18. Rewrite s (using equivalancie): $=s(\\widetilde{OBC})+s(\\widetilde{OCA})+s(\\widetilde{OAB})$\n",
    "\n",
    "<br/><i>Ref 1:</i> For any 3 given points, O, B and C, if vector OB is concstruced from points O and B, and vector OC, is constructed with points O and C, the subtraction of the vectors, OB - OA = AB\n",
    "<br/><i>Ref. 2:</i> The signed area of an orientated triangle contructed with points A, B and C is defined as (AB X AC) / 2\n",
    "<br/><i>Ref. 3:</i> Recall that R X R = 0 for any vector R \n",
    "<br/><i>Ref. 4:</i> Recall that tha t s(A) + -S(A) = 0 for any "
   ]
  },
  {
   "cell_type": "markdown",
   "metadata": {},
   "source": [
    "### 2_4_9 <a class=\"anchor\" id=\"2_4_9\"></a>\n",
    "<i>Proposition:</i> If $A1=[x_1,y_1], A2=[x_2,y_2]$ and A3=[x_3,y_3] then\n",
    "$s(\\widetilde{A_1A_2A_3})=\\frac12(x_1y_2-y_1x_2+x_2y_3-y_2x_3+x_3y_1-y_3x_1).$<br/>\n",
    "<i>Related name:</i> Triangle Signed Area Formula"
   ]
  },
  {
   "cell_type": "markdown",
   "metadata": {},
   "source": [
    "1. Let $x_1, x_2, x_3, y_1, y_2, y_3$ be integers\n",
    "2. Let A_1 be a point constructed from integers x_1 and y_1\n",
    "3. Let A_2 be a point constructed from integers x_2 and y_2\n",
    "4. Let A_3 be a point constructed from integers x_3 and y_3\n",
    "5. Suppose A_1, A_2 and A_3 are distinct\n",
    "6. Suppose A_1, A_2 and A_3 are not collinear\n",
    "7. Let s(A_1A_2A_3) be an oriented triangle construted from points A1, A2 and A3\n",
    "8. Let A_1A_2 be a orientated side constructed from points A1 and A2\n",
    "9. Let A_2A_3 be a orientated side constructed from points A2 and A3\n",
    "10. Let A_3A_1 be a orientated side constructed from points A3 and A1\n",
    "11. Note that s(A_1A_2A_3) = s(A_1A2) +  s(A_2A_3) +  s(A_3_A1) (Ref. 1)\n",
    "12. Rewrite s (subsitution): $s = \\frac12(x_1y_2-y_1x_2)+\\frac12(x_2y_3-y_2x_3)+\\frac12(x_3y_1-y_3x_1)$\n",
    "13. Rewrite s (simplification): $s = \\frac12(x_1y_2-y_1x_2+x_2y_3-y_2x_3+x_3y_1-y_3x_1)$\n",
    "\n",
    "<br/><i>Ref. 1:</i> Recall the triangle area theorem (2.4.8) "
   ]
  },
  {
   "cell_type": "markdown",
   "metadata": {},
   "source": [
    "### 2_4_12 <a class=\"anchor\" id=\"2_4_12\"></a>\n",
    "<i>Proposition:</i> If  $A1=[x_1,y_1], A2=[x_2,y_2], A3=[x_3,y_3]$ and $A4=[x_4,y_4]$ then\n",
    "$s(\\widetilde{A_1A_2A_3A_4})=\\frac{1}{2}(x_1y_2-y_1x_2+x_2y_3-y_2x_3+x_3y_4-y_3x_4+x_4y_1-y_4x_1).$\n",
    "<i>Related name:</i> Meister's Formula of an orientated quadrilateral"
   ]
  },
  {
   "cell_type": "markdown",
   "metadata": {},
   "source": [
    "1. Let $x_1, x_2, x_3, x_4, y_1, y_2, y_3, y_4$ be integers\n",
    "2. Let A_1 be a point constructed from integers x_1 and y_1\n",
    "3. Let A_2 be a point constructed from integers x_2 and y_2\n",
    "4. Let A_3 be a point constructed from integers x_3 and y_3\n",
    "4. Let A_4 be a point constructed from integers x_3 and y_3\n",
    "5. Suppose A_1, A_2, A_3, and A_4 are distinct\n",
    "6. Suppose A_1, A_2, A_3, and A_4 are not collinear\n",
    "7. Let s(A_1A_2A_3A_4) be an oriented triangle construted from points A1, A2, A3, and A_4\n",
    "4. Let A_1A_2 be a orientated side constructed from points A1 and A2\n",
    "4. Let A_2A_3 be a orientated side constructed from points A2 and A3\n",
    "4. Let A_3A_4 be a orientated side constructed from points A3 and A4\n",
    "4. Let A_4A_1 be a orientated side constructed from points A4 and A1\n",
    "8. Note that s(A_1A_2A_3) = s(A_1A2) + s(A_2A_3) +  s(A_3_A4) + s(A_4A_1) (Ref. 1)\n",
    "9. Rewrite s (using substitution): $s = \\frac12(x_1y_2-y_1x_2)+\\frac12(x_2y_3-y_2x_3)+\\frac12(x_3y_4-y_3x_4) +\\frac12(x_4y_1-y_4x_1)$\n",
    "10. Rewrite s (using simplification): $s = \\frac{1}{2}(x_1y_2-y_1x_2+x_2y_3-y_2x_3+x_3y_4-y_3x_4+x_4y_1-y_4x_1)$\n",
    "\n",
    "<br/><i>Ref. 1:</i> Recall the triangle area theorem (2.4.8)  "
   ]
  },
  {
   "cell_type": "markdown",
   "metadata": {},
   "source": [
    "### 2_4_13 <a class=\"anchor\" id=\"2_4_13\"></a>\n",
    "<i>Preamble:</i> If a ordered set of four points  \n",
    "$\\{A,B,C,D\\}$ is used to construct an oriented quadrilateral, dentoted as $\\widetilde{ABCD}$ and subject to the convention that \n",
    "$\\widetilde{ABCD}=\\widetilde{BCDA}=\\widetilde{CDAB}=\\widetilde{DABC}.$, the oriented quadrilateral four associated oriented triangles: $\\widetilde{ABC},\\widetilde{BCD},\\widetilde{CDA}$.  $s(\\widetilde{ABC})+s(\\widetilde{CDA})=s(\\widetilde{BCD})+s(\\widetilde{DAB}).$ <br/><br/>\n",
    "<i>Proposition:</i>The sum of the signed areas of the triangles is equivalent to the signed area $s(\\widetilde{ABCD})$\n",
    "<br/><i>Related name:</i> Subdividing the area of an orientated quadrilateral"
   ]
  },
  {
   "cell_type": "markdown",
   "metadata": {},
   "source": [
    "1. Let A, B, C and D points and suppose they are distinct and non-collinear\n",
    "2. Let AB be an orientated side constructed from the points A and B\n",
    "3. Let BC be an orientated side constructed from the points B and C\n",
    "4. Let CA be an orientated side constructed from the points C and A\n",
    "5. Let CD be an orientated side constructed from the points C and D\n",
    "6. Let DA be an orientated side constructed from the points D and A\n",
    "7. Let AC be an orientated side constructed from the points A and C\n",
    "8. Let DB be an orientated side constructed from the points D and B\n",
    "9. Let BD be an orientated side constructed from the points B and D\n",
    "10. Let ABC be an orientated triangle constructed from the points A, B, and C\n",
    "11. Let CDA be an orientated triangle constructed from the points C, D, and A\n",
    "12. Let BCD be an orientated triangle constructed from the points B, C, and D\n",
    "13. Let DAB be an orientated triangle constructed from the points D, A, and B\n",
    "14. Let s(ABC) be the signed area of orientated triangle ABC\n",
    "15. Let s(CDA) be the signed area of orientated triangle CDA\n",
    "16. Let s(BCD) be the signed area of orientated triangle BCD\n",
    "17. Let s(DAB) be the signed area of orientated triangle DAB\n",
    "18. Note that s(ABC) + s(CDA) = $s(\\widetilde{AB})+s(\\widetilde{BC})+s(\\widetilde{CA})+s(\\widetilde{CD})+s(\\widetilde{DA})+s(\\widetilde{AC})$\n",
    "19. Rewrite s(ABC) + s(CDA) (using simplification): $s(\\widetilde{AB})+s(\\widetilde{BC})+s(\\widetilde{CD})+s(\\widetilde{DA}$\n",
    "20. Note that s(BCD) + s(DAB) = $s(\\widetilde{BC})+s(\\widetilde{CD})+s(\\widetilde{DB})+s(\\widetilde{DA})+s(\\widetilde{AB})+s(\\widetilde{BD})$\n",
    "21. Rewrite s(BCD) + s(DAB) (using simplification): $ s = =s(\\widetilde{BC})+s(\\widetilde{CD})+s(\\widetilde{DA})+s(\\widetilde{AB}) $\n",
    "22. Note (through subsitution) that: s(ABC) + s(CDA) = s(BCD) + s(DAB) (Ref. 1)\n",
    "23. Let {A, B, C, D} be an ordered set of points constructed from the points A, B, C and D\n",
    "24. Let ABCD, BCDA, CDAB and DABC be 4 orientated quadrilateral constructed from the ordered set {A, B, C, D} (Ref. 1)\n",
    "25. Note that ABCD, BCDA, CDAB and DABC are equivalent orientated quadrilaterals (Ref. 2)\n",
    "26. Recall (from 19) that: $s(\\widetilde{ABC})+s(\\widetilde{CDA})=s(\\widetilde{AB})+s(\\widetilde{BC})+s(\\widetilde{CA})+s(\\widetilde{CD})+s(\\widetilde{DA})+s(\\widetilde{AC})$\n",
    "27. Rewrite $s(\\widetilde{ABC})+s(\\widetilde{CDA})$ (using subsitution):  $s(\\widetilde{ABC})+s(\\widetilde{CDA})==s(\\widetilde{AB})+s(\\widetilde{BC})+s(\\widetilde{CD})+s(\\widetilde{DA})=s(\\widetilde{ABCD})$\n",
    "\n",
    "\n",
    "\n",
    "<br/><i>Ref. 1:</i> Ordered set construction\n",
    "<br/><i>Ref. 2:</i> Recall the triangle area theorem (2.4.8)  "
   ]
  },
  {
   "cell_type": "markdown",
   "metadata": {},
   "source": [
    "### 2_4_14 <a class=\"anchor\" id=\"2_4_14\"></a>\n",
    "<i>Proposition:</i>The signed area $s(\\widetilde{ABCD})$ can be computed using the cross product of diagonals $s(\\widetilde{ABCD})=\\frac12{\\overset{\\rightharpoonup}{AC} \\times \\overset{\\rightharpoonup}{BD}}.$\n",
    "<br/><i>Related name:</i> Quadrilateral cross product formula"
   ]
  },
  {
   "cell_type": "markdown",
   "metadata": {},
   "source": [
    "1. Let A, B, C and D be points\n",
    "2. Let u be a vector constructed from points A and B\n",
    "3. Let v be a vector constructed from points B and C\n",
    "4. Let w be a vector constructed from points C and D\n",
    "5. Let z be a vector constructed from points D and A\n",
    "6. Let AB be an vector constructed from points A and B\n",
    "7. Let AC be a vector constructed from points A and C\n",
    "8. Let CD be a vector constructed from points C and D\n",
    "9. Let CA be a vector constructed from points C and A\n",
    "10. Let s(ABC) be the signed area of an orientated triangle constructed from points A, B and C\n",
    "11. Let s(CDA) be the signed area of an orientated triangle constructed from points C, D and A\n",
    "12. Let s(ABCD) be the signed area of an orientated quadrilateral constructed from the points A, B, C and D\n",
    "13. Note that S(ABCD) = S(ABC) + s(CDA) (Ref. 1)\n",
    "14. Note that s(ABC) = (AB X AC) / 2 + (CD X CA) / 2\n",
    "15. Note (through subsitution and vector addition):  S $s(\\widetilde{ABC})+s(\\widetilde{CDA}) = \\frac12{\\overset{\\rightharpoonup}u\\times(\\overset{\\rightharpoonup}u+\\overset{\\rightharpoonup}v)}+\\frac12{\\overset{\\rightharpoonup}w\\times(\\overset{\\rightharpoonup}w+\\overset{\\rightharpoonup}z)}$\n",
    "16. Rewrite $s(\\widetilde{ABC})+s(\\widetilde{CDA})$  (using simplification):  $s(\\widetilde{ABC})+s(\\widetilde{CDA})= \\frac12{\\overset{\\rightharpoonup}{u} \\times \\overset{\\rightharpoonup}{v}}+\\frac12{\\overset{\\rightharpoonup}{w} \\times \\overset{\\rightharpoonup}{z}}.$\n",
    "17. Note (through vector subtraction): $\\overset{\\rightharpoonup}{z}=-\\overset{\\rightharpoonup}{u}-\\overset{\\rightharpoonup}{v}-\\overset{\\rightharpoonup}{w}$\n",
    "18. Rewrite (using subsitution and equivalence): $s(\\widetilde{ABCD})=\\frac12{\\overset{\\rightharpoonup}{u} \\times \\overset{\\rightharpoonup}{v}}+\\frac12{\\overset{\\rightharpoonup}{w} \\times (-\\overset{\\rightharpoonup}{u}-\\overset{\\rightharpoonup}{v}-\\overset{\\rightharpoonup}{w})}=\\frac12 (\\overset{\\rightharpoonup}{u} \\times \\overset{\\rightharpoonup}{v}+\\overset{\\rightharpoonup}{u} \\times \\overset{\\rightharpoonup}{w}+\\overset{\\rightharpoonup}{v} \\times \\overset{\\rightharpoonup}{w}).$\n",
    "19. Rewrite (using simplification): $\\frac{\\overset{\\rightharpoonup}{AC} \\times \\overset{\\rightharpoonup}{BD}}{2}=\\frac 12 (\\overset{\\rightharpoonup}{u}+\\overset{\\rightharpoonup}{v})\\times (\\overset{\\rightharpoonup}{v}+\\overset{\\rightharpoonup}{w}).$"
   ]
  },
  {
   "cell_type": "code",
   "execution_count": null,
   "metadata": {},
   "outputs": [],
   "source": []
  }
 ],
 "metadata": {
  "kernelspec": {
   "display_name": "SageMath 9.0",
   "language": "sage",
   "name": "sagemath"
  },
  "language_info": {
   "codemirror_mode": {
    "name": "ipython",
    "version": 3
   },
   "file_extension": ".py",
   "mimetype": "text/x-python",
   "name": "python",
   "nbconvert_exporter": "python",
   "pygments_lexer": "ipython3",
   "version": "3.7.3"
  }
 },
 "nbformat": 4,
 "nbformat_minor": 4
}
