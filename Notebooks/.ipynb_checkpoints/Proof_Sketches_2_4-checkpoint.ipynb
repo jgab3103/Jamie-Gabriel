{
 "cells": [
  {
   "cell_type": "code",
   "execution_count": 2,
   "metadata": {},
   "outputs": [],
   "source": [
    "import sympy as sp\n",
    "import numpy as np"
   ]
  },
  {
   "cell_type": "markdown",
   "metadata": {},
   "source": [
    "<h3>Overview</h3><br/>\n",
    "The takeaways from this section:\n",
    "\n",
    "This section extends the idea of signed area to other situations: triangles, sides, lines, and polygons, powerful, signed area is a generalised, do not have to think of it as traditional way"
   ]
  },
  {
   "cell_type": "markdown",
   "metadata": {},
   "source": [
    "[Proof 2_4_2](#2_4_2)<br/>\n",
    "<i>Proposition:</i> For any two points A and B it is the case that $s(\\widetilde{BA})=-s(\\widetilde{AB}).$\n",
    "\n",
    "\n",
    "[Proof 2_4_3](#2_4_3)<br/>\n",
    "<i>Proposition:</i> For any point $A$ it is the case that $s(\\widetilde{OA})=0$\n",
    "\n",
    "[Proof 2_4_4](#2_4_4)<br/>\n",
    "<i>Proposition:</i> If $A, B$ and $D$ are collinear points then $s(\\widetilde{AB})+s(\\widetilde{BD})=s(\\widetilde{AD}).$\n",
    "\n",
    "\n",
    "[Proof 2_4_5](#2_4_5)<br/>\n",
    "<i>Proposition:</i>The signed area of the oriented side $\\widetilde{AB}$, given the points $A=[t,t^2]$ and $B=[u,u^2]$ on the parabola $y=x^2$,are $$ s(\\widetilde{AB})=\\frac{(t,t^2)\\times (u,u^2)}{2}=\\frac{tu^2-t^2u}{2}=\\frac{(u-t)tu}{2}. $$\n",
    "\n",
    "\n",
    "[Proof 2_4_6](#2_4_6)<br/>\n",
    "<i>Proposition:</i>The signed area of the oriented side $\\widetilde{AB}$ when\n",
    "$$ A=\\big[\\frac{1-t^2}{1+t^2},\\frac{2t}{1+t^2}\\big] \\quad \\textrm{and} \\quad B=\\big[\\frac{1-u^2}{1+u^2},\\frac{2u}{1+u^2}\\big]$$ are points incident to a circle $x^2 + y^2 = 1$ is $\\frac{(u-t)(1+tu)}{(1+t^2)(1+u^2)}$\n",
    "\n",
    "[Proof 2_4_7](#2_4_7)<br/>\n",
    "<i>Proposition:</i>Tigned area of the oriented side $\\widetilde{AB}$ when $A=[t,\\frac{1}{t}]$ and $B=[u,\\frac{1}{u}]$ are two points incident to a hyperbola $xy=1$ is \n",
    "$$ \\frac{t^2-u^2}{2ut}.$$\n",
    "\n",
    "[Proof 2_4_8](#2_4_8)<br/>\n",
    "<i>Proposition:</i>For any oriented triangle $\\widetilde{ABC}$ its signed area is $s(\\widetilde{ABC})=s(\\widetilde{AB})+s(\\widetilde{BC})+s(\\widetilde{CA}).$\n",
    "\n",
    "[Proof 2_4_9](#2_4_9)<br/>\n",
    "<i>Proposition:</i>If $A1=[x_1,y_1], A2=[x_2,y_2]$ and A3=[x_3,y_3] then\n",
    "$s(\\widetilde{A_1A_2A_3})=\\frac12(x_1y_2-y_1x_2+x_2y_3-y_2x_3+x_3y_1-y_3x_1).$ is\n",
    "\n",
    "\n",
    "[Proof 2_4_12](#2_4_12)<br/>\n",
    "<i>Proposition:</i>If  $A1=[x_1,y_1], A2=[x_2,y_2], A3=[x_3,y_3]$ and $A4=[x_4,y_4]$ then\n",
    "$s(\\widetilde{A_1A_2A_3A_4})=\\frac{1}{2}(x_1y_2-y_1x_2+x_2y_3-y_2x_3+x_3y_4-y_3x_4+x_4y_1-y_4x_1).$\n",
    "\n",
    "\n",
    "[Proof 2_4_13](#2_4_13)<br/>\n",
    "<i>Proposition:</i>Given an ordered set of four points  \n",
    "\n",
    "$\\{A,B,C,D\\}$ that an oriented quadrilateral which we may denote by $\\widetilde{ABCD}$ subject to the convention that\n",
    "\n",
    "$\\widetilde{ABCD}=\\widetilde{BCDA}=\\widetilde{CDAB}=\\widetilde{DABC}.$. \n",
    "\n",
    "In this case such an oriented quadrilateral naturally has four associated oriented triangles, namely $\\widetilde{ABC},\\widetilde{BCD},\\widetilde{CDA}$. Show that  $s(\\widetilde{ABC})+s(\\widetilde{CDA})=s(\\widetilde{BCD})+s(\\widetilde{DAB}).$\n",
    "Show tha teach of these sums is equal to the signed area $s(\\widetilde{ABCD})$\n",
    "\n",
    "\n",
    "[Proof 2_4_14](#2_4_14)<br/>\n",
    "<i>Proposition:</i>The signed area $s(\\widetilde{ABCD})$ can be computed using the cross product of diagonals $s(\\widetilde{ABCD})=\\frac12{\\overset{\\rightharpoonup}{AC} \\times \\overset{\\rightharpoonup}{BD}}.$\n",
    "\n",
    "\n",
    "\n",
    "[Proof 2_4_16](#2_4_16)<br/>\n",
    "<i>Proposition:</i>If opposite lines AD and BC of a oriented quadrilateral $\\widetilde{ABCD}$ meet at the point E, then  $s(\\widetilde{ABCD})=s(\\widetilde{ABE})+s(\\widetilde{ECD}).$\n",
    "\n",
    "\n",
    "[Proof 2_4_17](#2_4_17)<br/>\n",
    "<i>Proposition:</i>An oriented pentagon,  $\\widetilde{ABCDE}$ and a reasonable formula for its signed area. $ s(\\widetilde{ABCDE})=s(\\widetilde{AB})+s(\\widetilde{BC})+s(\\widetilde{CD})+s(\\widetilde{DE})+s(\\widetilde{EA}).$\n",
    "\n"
   ]
  },
  {
   "cell_type": "markdown",
   "metadata": {},
   "source": [
    "### 2_4_2 <a class=\"anchor\" id=\"2_4_2\"></a>\n",
    "<i>Proposition:</i> For any two points A and B it is the case that $s(\\widetilde{BA})=-s(\\widetilde{AB}).$"
   ]
  },
  {
   "cell_type": "code",
   "execution_count": 3,
   "metadata": {},
   "outputs": [],
   "source": [
    "a, b, c, d = sp.symbols('a, b, c, d')\n",
    "# Let a, b, c and d be integers"
   ]
  },
  {
   "cell_type": "code",
   "execution_count": null,
   "metadata": {},
   "outputs": [],
   "source": []
  }
 ],
 "metadata": {
  "kernelspec": {
   "display_name": "SageMath 9.0",
   "language": "sage",
   "name": "sagemath"
  },
  "language_info": {
   "codemirror_mode": {
    "name": "ipython",
    "version": 3
   },
   "file_extension": ".py",
   "mimetype": "text/x-python",
   "name": "python",
   "nbconvert_exporter": "python",
   "pygments_lexer": "ipython3",
   "version": "3.7.3"
  }
 },
 "nbformat": 4,
 "nbformat_minor": 4
}
