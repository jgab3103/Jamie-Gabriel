{
 "cells": [
  {
   "cell_type": "code",
   "execution_count": 1,
   "metadata": {},
   "outputs": [],
   "source": [
    "import sympy as sp\n",
    "import numpy as np\n",
    "import shared_functions as sf"
   ]
  },
  {
   "cell_type": "markdown",
   "metadata": {},
   "source": [
    "<h3>Overview</h3><br/>\n",
    "The takeaways from this section:\n",
    "\n",
    "This section extends the idea of signed area to other situations: triangles, sides, lines, and polygons, powerful, signed area is a generalised, do not have to think of it as traditional way"
   ]
  },
  {
   "cell_type": "markdown",
   "metadata": {},
   "source": [
    "[Proof 2_4_2](#2_4_2)<br/>\n",
    "<i>Proposition:</i> For any two points A and B it is the case that $s(\\widetilde{BA})=-s(\\widetilde{AB}).$\n",
    "\n",
    "\n",
    "[Proof 2_4_3](#2_4_3)<br/>\n",
    "<i>Proposition:</i> For any point $A$ it is the case that $s(\\widetilde{OA})=0$\n",
    "\n",
    "[Proof 2_4_4](#2_4_4)<br/>\n",
    "<i>Proposition:</i> If $A, B$ and $D$ are collinear points then $s(\\widetilde{AB})+s(\\widetilde{BD})=s(\\widetilde{AD}).$\n",
    "\n",
    "\n",
    "[Proof 2_4_5](#2_4_5)<br/>\n",
    "<i>Proposition:</i> The signed area of the oriented side $\\widetilde{AB}$, given the points $A=[t,t^2]$ and $B=[u,u^2]$ on the parabola $y=x^2$,are $$ s(\\widetilde{AB})=\\frac{(t,t^2)\\times (u,u^2)}{2}=\\frac{tu^2-t^2u}{2}=\\frac{(u-t)tu}{2}. $$\n",
    "\n",
    "\n",
    "[Proof 2_4_6](#2_4_6)<br/>\n",
    "<i>Proposition:</i> The signed area of the oriented side $\\widetilde{AB}$ when\n",
    "$$ A=\\big[\\frac{1-t^2}{1+t^2},\\frac{2t}{1+t^2}\\big] \\quad \\textrm{and} \\quad B=\\big[\\frac{1-u^2}{1+u^2},\\frac{2u}{1+u^2}\\big]$$ are points incident to a circle $x^2 + y^2 = 1$ is $\\frac{(u-t)(1+tu)}{(1+t^2)(1+u^2)}$\n",
    "\n",
    "[Proof 2_4_7](#2_4_7)<br/>\n",
    "<i>Proposition:</i> The signed area of the oriented side $\\widetilde{AB}$ when $A=[t,\\frac{1}{t}]$ and $B=[u,\\frac{1}{u}]$ are two points incident to a hyperbola $xy=1$ is $ \\frac{t^2-u^2}{2ut}$\n",
    "\n",
    "[Proof 2_4_8](#2_4_8)<br/>\n",
    "<i>Proposition:</i> The signed area of any oriented triangle $\\widetilde{ABC}$ is equivalent to  $s(\\widetilde{ABC})=s(\\widetilde{AB})+s(\\widetilde{BC})+s(\\widetilde{CA}).$\n",
    "\n",
    "[Proof 2_4_9](#2_4_9)<br/>\n",
    "<i>Proposition:</i> If $A1=[x_1,y_1], A2=[x_2,y_2]$ and A3=[x_3,y_3] then\n",
    "$s(\\widetilde{A_1A_2A_3})=\\frac12(x_1y_2-y_1x_2+x_2y_3-y_2x_3+x_3y_1-y_3x_1).$\n",
    "\n",
    "\n",
    "[Proof 2_4_12](#2_4_12)<br/>\n",
    "<i>Proposition:</i> If  $A1=[x_1,y_1], A2=[x_2,y_2], A3=[x_3,y_3]$ and $A4=[x_4,y_4]$ then\n",
    "$s(\\widetilde{A_1A_2A_3A_4})=\\frac{1}{2}(x_1y_2-y_1x_2+x_2y_3-y_2x_3+x_3y_4-y_3x_4+x_4y_1-y_4x_1).$\n",
    "\n",
    "\n",
    "[Proof 2_4_13](#2_4_13)<br/>\n",
    "<i>Proposition:</i> If a ordered set of four points  \n",
    "\n",
    "$\\{A,B,C,D\\}$ is used to construct an oriented quadrilateral, dentoted as $\\widetilde{ABCD}$ and subject to the convention that\n",
    "\n",
    "$\\widetilde{ABCD}=\\widetilde{BCDA}=\\widetilde{CDAB}=\\widetilde{DABC}.$\n",
    "\n",
    "the oriented quadrilateral has four associated oriented triangles, namely $\\widetilde{ABC},\\widetilde{BCD},\\widetilde{CDA}$.  $s(\\widetilde{ABC})+s(\\widetilde{CDA})=s(\\widetilde{BCD})+s(\\widetilde{DAB}).$ The sums of the signed areas of these triangles is equivalent to the signed area $s(\\widetilde{ABCD})$\n",
    "\n",
    "\n",
    "[Proof 2_4_14](#2_4_14)<br/>\n",
    "<i>Proposition:</i>The signed area $s(\\widetilde{ABCD})$ can be computed using the cross product of diagonals $s(\\widetilde{ABCD})=\\frac12{\\overset{\\rightharpoonup}{AC} \\times \\overset{\\rightharpoonup}{BD}}.$\n",
    "\n",
    "\n",
    "\n",
    "[Proof 2_4_16](#2_4_16)<br/>\n",
    "<i>Proposition:</i>If opposite lines AD and BC of a oriented quadrilateral $\\widetilde{ABCD}$ meet at the point E, then  $s(\\widetilde{ABCD})=s(\\widetilde{ABE})+s(\\widetilde{ECD}).$\n",
    "\n",
    "\n",
    "[Proof 2_4_17](#2_4_17)<br/>\n",
    "<i>Proposition:</i>An oriented pentagon,  $\\widetilde{ABCDE}$ and a reasonable formula for its signed area. $ s(\\widetilde{ABCDE})=s(\\widetilde{AB})+s(\\widetilde{BC})+s(\\widetilde{CD})+s(\\widetilde{DE})+s(\\widetilde{EA}).$\n",
    "\n"
   ]
  },
  {
   "cell_type": "markdown",
   "metadata": {},
   "source": [
    "### 2_4_2 <a class=\"anchor\" id=\"2_4_2\"></a>\n",
    "<i>Proposition:</i> For any two points A and B it is the case that $s(\\widetilde{BA})=-s(\\widetilde{AB}).$"
   ]
  },
  {
   "cell_type": "code",
   "execution_count": 2,
   "metadata": {},
   "outputs": [],
   "source": [
    "a, b, c, d = sp.symbols('a, b, c, d')\n",
    "# Let a, b, c and d be integers"
   ]
  },
  {
   "cell_type": "code",
   "execution_count": 3,
   "metadata": {},
   "outputs": [],
   "source": [
    "S1 = np.array([a, b])\n",
    "# Let S1 be a point constructed from a and b"
   ]
  },
  {
   "cell_type": "code",
   "execution_count": 4,
   "metadata": {},
   "outputs": [],
   "source": [
    "S2 = np.array([c, d])\n",
    "# Let S2 be a point constructed from c and d"
   ]
  },
  {
   "cell_type": "code",
   "execution_count": 5,
   "metadata": {},
   "outputs": [
    {
     "data": {
      "text/latex": [
       "$\\displaystyle \\frac{a d - b c}{2}$"
      ],
      "text/plain": [
       "(a*d - b*c)/2"
      ]
     },
     "execution_count": 5,
     "metadata": {},
     "output_type": "execute_result"
    }
   ],
   "source": [
    "S3 = sf.calculate_signed_area([S1, S2], origin_is_one_of_points=False)\n",
    "S3\n",
    "# Manipulate S1 and S2 using a cross product function to create S3"
   ]
  },
  {
   "cell_type": "code",
   "execution_count": 6,
   "metadata": {},
   "outputs": [
    {
     "data": {
      "text/latex": [
       "$\\displaystyle \\frac{a d - b c}{2}$"
      ],
      "text/plain": [
       "(a*d - b*c)/2"
      ]
     },
     "execution_count": 6,
     "metadata": {},
     "output_type": "execute_result"
    }
   ],
   "source": [
    "S4 = sf.calculate_signed_area([-S2, S1], origin_is_one_of_points=False)\n",
    "S4\n",
    "# Manipulate S1 and S2 using a cross product function to create S4"
   ]
  },
  {
   "cell_type": "code",
   "execution_count": 7,
   "metadata": {},
   "outputs": [
    {
     "data": {
      "text/plain": [
       "True"
      ]
     },
     "execution_count": 7,
     "metadata": {},
     "output_type": "execute_result"
    }
   ],
   "source": [
    "S5 = S3.equals(S4)\n",
    "S5\n",
    "# Manipulate S3 and S4 using an equivalance function to create S5"
   ]
  },
  {
   "cell_type": "code",
   "execution_count": 8,
   "metadata": {},
   "outputs": [],
   "source": [
    "# Conclusion: Proof is true"
   ]
  },
  {
   "cell_type": "markdown",
   "metadata": {},
   "source": [
    "### 2_4_3 <a class=\"anchor\" id=\"2_4_3\"></a>\n",
    "<i>Proposition:</i> For any point $A$ it is the case that $s(\\widetilde{OA})=0$"
   ]
  },
  {
   "cell_type": "code",
   "execution_count": 9,
   "metadata": {},
   "outputs": [],
   "source": [
    "a, b = sp.symbols('a, b')\n",
    "# Let a and b be integers"
   ]
  },
  {
   "cell_type": "code",
   "execution_count": 10,
   "metadata": {},
   "outputs": [],
   "source": [
    "S1 = np.array([a, b])\n",
    "# Let S1 be a point constructed from integers a and b"
   ]
  },
  {
   "cell_type": "code",
   "execution_count": 11,
   "metadata": {},
   "outputs": [],
   "source": [
    "S2 = np.array([0, 0])\n",
    "# Let S2 be a point constructed from the integer 0"
   ]
  },
  {
   "cell_type": "code",
   "execution_count": 12,
   "metadata": {},
   "outputs": [
    {
     "data": {
      "text/latex": [
       "$\\displaystyle 0$"
      ],
      "text/plain": [
       "0"
      ]
     },
     "execution_count": 12,
     "metadata": {},
     "output_type": "execute_result"
    }
   ],
   "source": [
    "S3 = sf.calculate_signed_area([S1, S2], origin_is_one_of_points=False)\n",
    "S3\n",
    "# Manipulate S1 and S2 using a signed area function to create S3"
   ]
  },
  {
   "cell_type": "code",
   "execution_count": 13,
   "metadata": {},
   "outputs": [
    {
     "data": {
      "text/plain": [
       "True"
      ]
     },
     "execution_count": 13,
     "metadata": {},
     "output_type": "execute_result"
    }
   ],
   "source": [
    "S3.equals(0)\n",
    "# Manipulate S3 and 0 using an equivalence function"
   ]
  },
  {
   "cell_type": "code",
   "execution_count": 14,
   "metadata": {},
   "outputs": [],
   "source": [
    "# Conclusion: Proof is True"
   ]
  },
  {
   "cell_type": "markdown",
   "metadata": {},
   "source": [
    "### 2_4_4 <a class=\"anchor\" id=\"2_4_4\"></a>\n",
    "<i>Proposition:</i> If $A, B$ and $D$ are collinear points then $s(\\widetilde{AB})+s(\\widetilde{BD})=s(\\widetilde{AD}).$\n"
   ]
  },
  {
   "cell_type": "markdown",
   "metadata": {},
   "source": [
    "1. Let a, b and d be points\n",
    "2. Suppose A, B and D are distinct\n",
    "3. Suppose A, B and D are collinear\n",
    "4. Let OB be a vector constructed from points O and B \n",
    "5. Let BA be a vector constructed from points B and A\n",
    "6. Let OA be the vector addition of OB and BA: OA = OB + BA\n",
    "7. Let AD be a vector constructed from A and D\n",
    "8. Use vector addition of OA and AD to create the relationship OD = OA + AD\n",
    "9. Let s(AD) = (OA X OD) / 2 be the signed area of the vector AD\n",
    "10. Rewrite s (using equivalence): s =  ((OB + BA) X (OA + AD)) / 2\n",
    "11. Expand s: s = (OB X OA + BA X OA + OB X AD + BA X AD) / 2\n",
    "12. Note that BA X AD = 0 (Ref. 2)\n",
    "14. Note that that BA = BO + OA (Ref. 2)\n",
    "15. Note that AD = AO + OD (Ref. 3)\n",
    "16. Rewrite s (using equivalence): s = (OB X OA + (BO + OA) X OA + OB X  (AO + OD)) / 2\n",
    "17. Rewrite s (using expansion): s = (OB X OA + BO X OA + OA X OA + OB X AO + OB X OD) \n",
    "\n",
    "19. Simpify s: s = (OB X OA + OB X OD) (Ref. 3, Ref. 4)\n",
    "20. s = s(AB) = s(BD)\n",
    "\n",
    "<br/><i>Ref. 1:</i> Recall that the cross product of points incident to the same line / collinear is equal to 0.\n",
    "<br/><i>Ref. 2:</i> Recall that the addition of 2 vectors\n",
    "<br/><i>Ref. 3:</i> Recall that R X R = 0 for any vector R \n",
    "<br/><i>Ref. 4:</i> Recall that tha t s(A) + -S(A) = 0 for any vector A"
   ]
  },
  {
   "cell_type": "markdown",
   "metadata": {},
   "source": [
    "### 2_4_6 <a class=\"anchor\" id=\"2_4_6\"></a>\n",
    "<i>Proposition:</i> The signed area of the oriented side $\\widetilde{AB}$ when\n",
    "$$ A=\\big[\\frac{1-t^2}{1+t^2},\\frac{2t}{1+t^2}\\big] \\quad \\textrm{and} \\quad B=\\big[\\frac{1-u^2}{1+u^2},\\frac{2u}{1+u^2}\\big]$$ are points incident to a circle $x^2 + y^2 = 1$ is $\\frac{(u-t)(1+tu)}{(1+t^2)(1+u^2)}$\n"
   ]
  },
  {
   "cell_type": "markdown",
   "metadata": {},
   "source": [
    "1. Let u and t be integers"
   ]
  },
  {
   "cell_type": "code",
   "execution_count": 20,
   "metadata": {},
   "outputs": [],
   "source": [
    "u, t = sp.symbols('u, t')"
   ]
  },
  {
   "cell_type": "markdown",
   "metadata": {},
   "source": [
    "2. Let A be a point constructed with integer t (Ref. 1)"
   ]
  },
  {
   "cell_type": "code",
   "execution_count": 21,
   "metadata": {},
   "outputs": [
    {
     "data": {
      "text/plain": [
       "array([-(t^2 - 1)/(t^2 + 1), 2*t/(t^2 + 1)], dtype=object)"
      ]
     },
     "execution_count": 21,
     "metadata": {},
     "output_type": "execute_result"
    }
   ],
   "source": [
    "A = np.array([((1 - t^2) / (1 + t^2)), 2*t/(t^2 + 1)])\n",
    "A"
   ]
  },
  {
   "cell_type": "markdown",
   "metadata": {},
   "source": [
    "2. Let A be a point constructed with integer u (Ref. 1)"
   ]
  },
  {
   "cell_type": "code",
   "execution_count": 17,
   "metadata": {},
   "outputs": [
    {
     "data": {
      "text/plain": [
       "array([-(u^2 - 1)/(u^2 + 1), 2*u/(u^2 + 1)], dtype=object)"
      ]
     },
     "execution_count": 17,
     "metadata": {},
     "output_type": "execute_result"
    }
   ],
   "source": [
    "B = np.array([((1 - u^2) / (1 + u^2)), 2*u/(u^2 + 1)])\n",
    "B"
   ]
  },
  {
   "cell_type": "markdown",
   "metadata": {},
   "source": [
    "3. Let s be the signed area of A and B "
   ]
  },
  {
   "cell_type": "code",
   "execution_count": 18,
   "metadata": {},
   "outputs": [
    {
     "data": {
      "text/html": [
       "<html><script type=\"math/tex; mode=display\">\\newcommand{\\Bold}[1]{\\mathbf{#1}}-\\frac{{\\left(t u + 1\\right)} {\\left(t - u\\right)}}{{\\left(t^{2} + 1\\right)} {\\left(u^{2} + 1\\right)}}</script></html>"
      ],
      "text/plain": [
       "-(t*u + 1)*(t - u)/((t^2 + 1)*(u^2 + 1))"
      ]
     },
     "metadata": {},
     "output_type": "display_data"
    }
   ],
   "source": [
    "s = sf.calculate_signed_area([A, B], origin_is_one_of_points=False)\n",
    "show(s)"
   ]
  },
  {
   "cell_type": "markdown",
   "metadata": {},
   "source": [
    "<br/><i>Ref. 1:</i> Recall that that for any values u and t, the unit circle can be parametrized as $$ A=\\big[\\frac{1-t^2}{1+t^2},\\frac{2t}{1+t^2}\\big] \\quad \\textrm{and} \\quad B=\\big[\\frac{1-u^2}{1+u^2},\\frac{2u}{1+u^2}\\big]$$ "
   ]
  },
  {
   "cell_type": "markdown",
   "metadata": {},
   "source": [
    "### 2_4_7 <a class=\"anchor\" id=\"2_4_7\"></a>\n",
    "<i>Proposition:</i> The signed area of the oriented side $\\widetilde{AB}$ when $A=[t,\\frac{1}{t}]$ and $B=[u,\\frac{1}{u}]$ are two points incident to a hyperbola $xy=1$ is $ \\frac{t^2-u^2}{2ut}$"
   ]
  },
  {
   "cell_type": "markdown",
   "metadata": {},
   "source": [
    "1. Let u and t be integers"
   ]
  },
  {
   "cell_type": "code",
   "execution_count": 19,
   "metadata": {},
   "outputs": [],
   "source": [
    "u, t = sp.symbols('u, t')"
   ]
  },
  {
   "cell_type": "markdown",
   "metadata": {},
   "source": [
    "2. Let A be the point constructed from integer t"
   ]
  },
  {
   "cell_type": "code",
   "execution_count": 32,
   "metadata": {},
   "outputs": [],
   "source": [
    "A = np.array([t, 1/t]) "
   ]
  },
  {
   "cell_type": "markdown",
   "metadata": {},
   "source": [
    "3. Let A be the point constructed from integer t"
   ]
  },
  {
   "cell_type": "code",
   "execution_count": 23,
   "metadata": {},
   "outputs": [],
   "source": [
    "B = np.array([u, 1/u])"
   ]
  },
  {
   "cell_type": "markdown",
   "metadata": {},
   "source": [
    "3. Let s be the signed area of A and B"
   ]
  },
  {
   "cell_type": "code",
   "execution_count": 33,
   "metadata": {},
   "outputs": [
    {
     "data": {
      "text/latex": [
       "$\\displaystyle \\frac{\\left(t - u\\right) \\left(t + u\\right)}{2 t u}$"
      ],
      "text/plain": [
       "(t - u)*(t + u)/(2*t*u)"
      ]
     },
     "execution_count": 33,
     "metadata": {},
     "output_type": "execute_result"
    }
   ],
   "source": [
    "\n",
    "s = sf.calculate_signed_area([A, B], origin_is_one_of_points=False)\n",
    "s"
   ]
  },
  {
   "cell_type": "markdown",
   "metadata": {},
   "source": [
    "<br/><i>Ref. 1:</i> Recall that that for any values u and t, the unit circle can be parametrized as $ ut = 1$ "
   ]
  },
  {
   "cell_type": "markdown",
   "metadata": {},
   "source": [
    "### 2_4_8 <a class=\"anchor\" id=\"2_4_8\"></a>\n",
    "<i>Proposition:</i> The signed area of any oriented triangle $\\widetilde{ABC}$ is equivalent to  $s(\\widetilde{ABC})=s(\\widetilde{AB})+s(\\widetilde{BC})+s(\\widetilde{CA}).$"
   ]
  },
  {
   "cell_type": "code",
   "execution_count": null,
   "metadata": {},
   "outputs": [],
   "source": [
    "# Let u, v and w be variables"
   ]
  },
  {
   "cell_type": "code",
   "execution_count": 35,
   "metadata": {},
   "outputs": [],
   "source": [
    "u, v, w = sp.symbols('u, v, w')"
   ]
  },
  {
   "cell_type": "markdown",
   "metadata": {},
   "source": [
    "Let A, B and C be points"
   ]
  },
  {
   "cell_type": "markdown",
   "metadata": {},
   "source": [
    "Let O be a point constructed from 0"
   ]
  },
  {
   "cell_type": "code",
   "execution_count": 34,
   "metadata": {},
   "outputs": [],
   "source": [
    "O = np.array([0, 0])"
   ]
  },
  {
   "cell_type": "code",
   "execution_count": 42,
   "metadata": {},
   "outputs": [],
   "source": [
    "# Let u be a vector constructed from points O and A"
   ]
  },
  {
   "cell_type": "code",
   "execution_count": 43,
   "metadata": {},
   "outputs": [],
   "source": [
    "# Let v be a vector constructed from points O and B"
   ]
  },
  {
   "cell_type": "code",
   "execution_count": 44,
   "metadata": {},
   "outputs": [],
   "source": [
    "# let w ve a vector constructed from points O and C"
   ]
  },
  {
   "cell_type": "code",
   "execution_count": 45,
   "metadata": {},
   "outputs": [],
   "source": [
    "# Let AB be a vector constructed from points A and B"
   ]
  },
  {
   "cell_type": "code",
   "execution_count": 39,
   "metadata": {},
   "outputs": [],
   "source": [
    "# Let ABC be an orientated triangle constructed from the points\n",
    "# A, B and C"
   ]
  },
  {
   "cell_type": "code",
   "execution_count": 46,
   "metadata": {},
   "outputs": [],
   "source": [
    "# Note that AB = v - u (Ref. 1)"
   ]
  },
  {
   "cell_type": "code",
   "execution_count": 47,
   "metadata": {},
   "outputs": [],
   "source": [
    "# Note that AC = w - u (Ref. 1)"
   ]
  },
  {
   "cell_type": "code",
   "execution_count": 40,
   "metadata": {},
   "outputs": [],
   "source": [
    "# Let s(ABC) be the signed area of ABC"
   ]
  },
  {
   "cell_type": "code",
   "execution_count": 51,
   "metadata": {},
   "outputs": [],
   "source": [
    "# Note that s(ABC) = (AB) X (AC) / 2 (Ref. 2)"
   ]
  },
  {
   "cell_type": "code",
   "execution_count": 52,
   "metadata": {},
   "outputs": [],
   "source": [
    "# Rewrite s (using equivalence): s = ((v - u) X (w - u)) / 2"
   ]
  },
  {
   "cell_type": "code",
   "execution_count": null,
   "metadata": {},
   "outputs": [],
   "source": [
    "# Rewrite s (using expansion)"
   ]
  },
  {
   "cell_type": "code",
   "execution_count": 48,
   "metadata": {},
   "outputs": [],
   "source": [
    "# Ref 1: For any 3 given points, O, B and C, if vector OB is conc\n",
    "# struced from points O and B, and vector OC, is constructed \n",
    "# with points O and C, the subtraction of the vectors, OB - OA = AB"
   ]
  },
  {
   "cell_type": "code",
   "execution_count": 50,
   "metadata": {},
   "outputs": [],
   "source": [
    "# Ref 2. The signed area of an orientated triangle cosntructed\n",
    "# with points A, B and C is defined as (AB X AC) / 2"
   ]
  },
  {
   "cell_type": "code",
   "execution_count": null,
   "metadata": {},
   "outputs": [],
   "source": []
  }
 ],
 "metadata": {
  "kernelspec": {
   "display_name": "SageMath 9.0",
   "language": "sage",
   "name": "sagemath"
  },
  "language_info": {
   "codemirror_mode": {
    "name": "ipython",
    "version": 3
   },
   "file_extension": ".py",
   "mimetype": "text/x-python",
   "name": "python",
   "nbconvert_exporter": "python",
   "pygments_lexer": "ipython3",
   "version": "3.7.3"
  }
 },
 "nbformat": 4,
 "nbformat_minor": 4
}
