{
 "cells": [
  {
   "cell_type": "code",
   "execution_count": 1,
   "id": "6dd866d6-49eb-4efc-94c5-70044517bc26",
   "metadata": {},
   "outputs": [],
   "source": [
    "import numpy as np\n",
    "import sympy as sp\n",
    "import pickle\n",
    "from IPython.display import HTML\n",
    "import ipywidgets as widgets\n",
    "import matplotlib as mpl\n",
    "import matplotlib.pyplot as plt\n",
    "from mpl_toolkits.mplot3d import Axes3D\n",
    "import matplotlib.pyplot as plt\n",
    "mpl.rcParams['legend.fontsize'] = 10\n",
    "import pandas as pd\n",
    "import itertools\n",
    "pd.set_option('display.max_colwidth', None)\n",
    "from sympy.plotting import plot \n",
    "from IPython.display import Image\n",
    "\n",
    "\n",
    "# Render to Latex function \n",
    "def RTL(e):\n",
    "    latex_rendering = []\n",
    "\n",
    "    for i in range(len(e)):\n",
    "        latex_rendering.append(\"$$\" + sp.latex(e[i]) + \"$$<br/>\")\n",
    "    \n",
    "    return(HTML(\"\".join(latex_rendering[0:])))"
   ]
  },
  {
   "cell_type": "markdown",
   "id": "59b98e4b-efa8-4da4-b542-86899b281550",
   "metadata": {},
   "source": [
    "$$ f^{\\prime\\prime}(x) + 2f^\\prime(x) = 3f(x)$$"
   ]
  },
  {
   "cell_type": "markdown",
   "id": "35137f10-3fc5-42a7-9885-03e25f679e85",
   "metadata": {},
   "source": [
    "Differential equation notes\n",
    "\n",
    "- ODE if unknonwn function depends on 1 independent var8iable\n",
    "- If depends on 2 or more, is PDE\n",
    "- Order is the highest derivative appearing  in the equatioi\n",
    "\n"
   ]
  },
  {
   "cell_type": "markdown",
   "id": "b9dca4ad-559e-480e-9606-d3c9047f439e",
   "metadata": {},
   "source": [
    "Chapter 4 gives some basics around terminology\n",
    "\n",
    "Standard form: \n",
    "\n",
    "\n",
    "$$ \\frac{dy}{dx} + Py = Q $$\n",
    "\n",
    "$$ y\\prime = f(x, y) $$\n",
    "\n",
    "Note the RHS can be writeen as a quoteint of 2 functions $M(x, y)$ and $-N(x, y)$ which becomes $ \\frac{dy}{dx} = \\frac{M(x, y)}{-N(x, y)} $ or: \n",
    "\n",
    "$$ M(x, y) dx + N(x, y) dy = 0 $$\n",
    "\n",
    "\n",
    "differential form: \n",
    "\n",
    "$$ dx B - dy C = 0 $$\n",
    "\n",
    "\n",
    "Linear Equations (if standard form can be written as): \n",
    "\n",
    "$$ y\\prime + p(x)y = q(x) $$\n",
    "\n",
    "Bernoulli Equations\n",
    "\n",
    "$$ y\\prime + p(x)y = q(x)y^n $$\n",
    "\n",
    "Where n is a real number. If n = 1 or n = 0, Bernoulli reduced to Linear\n",
    "\n",
    "These are just ways to write equations and group their characteristics\n",
    "\n",
    "Homogenous equations (meaning in first order only). There occur if it is the case that: \n",
    "\n",
    "$$ f(t \\times x, t \\times y) = f(x, y)$$\n",
    "\n",
    "Seperable - y and dy on one side, x and dx on other side\n",
    "\n",
    "exact - put into two x, y funcitons, then test if partial derivative of first function with respect to y is equal to second function with respect to x\n",
    "\n",
    "$ \\frac{\\delta M(x, y)}{\\delta y} = \\frac{\\delta N(x, y)}{\\delta x} $"
   ]
  },
  {
   "cell_type": "markdown",
   "id": "7dd06cf7-e9f1-4d1d-8a95-85478b18a05b",
   "metadata": {},
   "source": [
    "To solve first order sepoeratble problem\n",
    "\n",
    "\n",
    "$$ A(x) dx + B(y) dy = 0$$\n",
    "\n",
    "$$ \\int A(x) dx + \\int B(y) dy = c $$ or in the initial value setting: \n",
    "\n",
    "\n",
    "\n",
    "$$ \\int^x_{x0} A(x) dx + \\int^y_{y0} B(y) dy = c $$"
   ]
  },
  {
   "cell_type": "markdown",
   "id": "5c63bad2-a875-4ab9-8b64-547cd3cf99f1",
   "metadata": {},
   "source": [
    "Reduction of homogenous equations - can be transformed into seperable equation by making the subsutition\n",
    "\n",
    "$$ y = xv $$\n",
    "\n",
    "and its derivative: \n",
    "\n",
    "$$ \\frac{dy}{dx} = v + x \\frac{dv}{dx} $$"
   ]
  },
  {
   "cell_type": "markdown",
   "id": "e9c2f603-72bf-47af-a2b6-f701b8e280e1",
   "metadata": {},
   "source": [
    "Identity 1: \n",
    "$$ \\psi_t = M $$\n",
    "$$ \\psi_x = N $$\n",
    "\n",
    "Identity 2: \n",
    "$$ \\frac{d}{dt} \\psi = 0 $$"
   ]
  },
  {
   "cell_type": "code",
   "execution_count": null,
   "id": "f9a52041-ff73-4683-9819-564e218519c3",
   "metadata": {},
   "outputs": [],
   "source": []
  }
 ],
 "metadata": {
  "kernelspec": {
   "display_name": "Python 3",
   "language": "python",
   "name": "python3"
  },
  "language_info": {
   "codemirror_mode": {
    "name": "ipython",
    "version": 3
   },
   "file_extension": ".py",
   "mimetype": "text/x-python",
   "name": "python",
   "nbconvert_exporter": "python",
   "pygments_lexer": "ipython3",
   "version": "3.9.2"
  }
 },
 "nbformat": 4,
 "nbformat_minor": 5
}
