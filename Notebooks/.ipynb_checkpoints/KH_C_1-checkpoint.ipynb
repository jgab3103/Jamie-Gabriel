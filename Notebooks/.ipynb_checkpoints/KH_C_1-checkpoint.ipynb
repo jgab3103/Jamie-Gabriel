{
 "cells": [
  {
   "cell_type": "code",
   "execution_count": 12,
   "id": "6dd866d6-49eb-4efc-94c5-70044517bc26",
   "metadata": {},
   "outputs": [],
   "source": [
    "# !pip install chempy\n",
    "# !pip install periodictable\n",
    "# !pip install PyAstronomy\n",
    "# !pip install molmass\n",
    "\n",
    "import periodictable as pt\n",
    "import chempy as ch\n",
    "import numpy as np\n",
    "import sympy as sp\n",
    "import molmass as mm\n",
    "import pickle\n",
    "from IPython.display import HTML\n",
    "import ipywidgets as widgets\n",
    "import matplotlib as mpl\n",
    "import matplotlib.pyplot as plt\n",
    "from mpl_toolkits.mplot3d import Axes3D\n",
    "import matplotlib.pyplot as plt\n",
    "mpl.rcParams['legend.fontsize'] = 10\n",
    "import pandas as pd\n",
    "import itertools\n",
    "pd.set_option('display.max_colwidth', None)\n",
    "from sympy.plotting import plot \n",
    "from IPython.display import Image\n",
    "from PyAstronomy import pyasl\n",
    "import decimal\n",
    "import sympy.physics.units as u\n",
    "from sympy.physics.units.systems import SI\n",
    "\n",
    "from sympy.physics.units import speed_of_light, meter, gram, second, day, pound\n",
    "from sympy.physics.units import mile, newton, kilogram, atomic_mass_constant\n",
    "from sympy.physics.units import kilometer, centimeter, millimeter, nanometer\n",
    "from sympy.physics.units import gravitational_constant, hbar, kPa, newton\n",
    "from sympy.physics.units import convert_to\n",
    "\n",
    "def RTL(e):\n",
    "    \"\"\"INPUT PARAMS: [] of math expressions\"\"\"\n",
    "    latex_rendering = []\n",
    "\n",
    "    for i in range(len(e)):\n",
    "        latex_rendering.append(\"$\" + sp.latex(e[i]) + \"$ &nbsp;&nbsp;\")\n",
    "    \n",
    "    return(HTML(\"\".join(latex_rendering[0:])))\n",
    "\n",
    "def BalanceChemEquation(L, R):\n",
    "    \"\"\" INPUT PARAMS: 2 * {} containing react and prod\"\"\"\n",
    "    reac, prod = ch.balance_stoichiometry(L, R)\n",
    "    Reaction = ch.Reaction(reac, prod)\n",
    "    return([Reaction, [reac, prod]])\n",
    "    \n",
    "\n",
    "class Atom: \n",
    "    def __init__(self, pCount, nCount, eCount):\n",
    "        \"\"\"INPUT PARAMS: countOfProtons, countOfNeutrons, countOfElectrons\"\"\"\n",
    "        \n",
    "        an = pyasl.AtomicNo()\n",
    "        \n",
    "        self.Protons = pCount\n",
    "        self.Neutrons = nCount\n",
    "        self.Electrons = eCount\n",
    "        self.ElementName = an.getElementName(pCount)\n",
    "        self.ElementNameWithAtomicMass = an.getElementName(pCount) + \"(\" + str(self.Protons) + \",\" + str(self.Protons + self.Neutrons) + \")\"\n",
    "    \n",
    "    def CreateSummary(self):\n",
    "        print(\"Name: \", self.ElementName)\n",
    "        print(\"Protons: \", self.Protons)\n",
    "        print(\"Neutrons: \", self.Neutrons)\n",
    "        print(\"Electrons: \", self.Electrons)"
   ]
  },
  {
   "cell_type": "markdown",
   "id": "b1bba30d-4983-45e8-b5d7-80b7b5bae7c1",
   "metadata": {},
   "source": [
    "#### Balancing equations"
   ]
  },
  {
   "cell_type": "code",
   "execution_count": 3,
   "id": "32367d78-7d3a-498d-9756-dc3e60840ac9",
   "metadata": {},
   "outputs": [
    {
     "data": {
      "text/html": [
       "2 H2 + O2 &rarr; 2 H2O"
      ],
      "text/plain": [
       "<chempy.chemistry.Reaction at 0x7f5fc3304a60>"
      ]
     },
     "execution_count": 3,
     "metadata": {},
     "output_type": "execute_result"
    }
   ],
   "source": [
    "# Q: Balance thef following equation\n",
    "BalanceChemEquation({'H2', 'O2'}, { 'H2O'})[0]"
   ]
  },
  {
   "cell_type": "code",
   "execution_count": 4,
   "id": "eb877d50-156e-4ccd-9471-ee0064e9ebef",
   "metadata": {},
   "outputs": [
    {
     "data": {
      "text/html": [
       "C2H4 + 3 O2 &rarr; 2 CO2 + 2 H2O"
      ],
      "text/plain": [
       "<chempy.chemistry.Reaction at 0x7f60643111c0>"
      ]
     },
     "execution_count": 4,
     "metadata": {},
     "output_type": "execute_result"
    }
   ],
   "source": [
    "# Q: Balance thef following equation\n",
    "BalanceChemEquation({'C2H4', 'O2'}, {'CO2', 'H2O'})[0]"
   ]
  },
  {
   "cell_type": "code",
   "execution_count": 5,
   "id": "c8d85a12-ad06-446e-8ad1-1adca7ae73c8",
   "metadata": {},
   "outputs": [
    {
     "data": {
      "text/html": [
       "2 C2H6 + 7 O2 &rarr; 4 CO2 + 6 H2O"
      ],
      "text/plain": [
       "<chempy.chemistry.Reaction at 0x7f5fc3304460>"
      ]
     },
     "execution_count": 5,
     "metadata": {},
     "output_type": "execute_result"
    }
   ],
   "source": [
    "# Q: Balance thef following equation\n",
    "BalanceChemEquation({\"C2H6\", \"O2\"}, {\"CO2\", \"H2O\"})[0]"
   ]
  },
  {
   "cell_type": "code",
   "execution_count": 6,
   "id": "9507a180-dfa7-4fd3-a05b-045bbd120aab",
   "metadata": {},
   "outputs": [],
   "source": [
    "# Unit 5 Lesson 1, Balancing chemical equations 1"
   ]
  },
  {
   "cell_type": "code",
   "execution_count": 7,
   "id": "d1859100-89d1-4441-b0a8-1de8c2f5ff9b",
   "metadata": {},
   "outputs": [
    {
     "data": {
      "text/html": [
       "2 Al + 6 HCl &rarr; 2 AlCl3 + 3 H2"
      ],
      "text/plain": [
       "<chempy.chemistry.Reaction at 0x7f5fc3304790>"
      ]
     },
     "execution_count": 7,
     "metadata": {},
     "output_type": "execute_result"
    }
   ],
   "source": [
    "BalanceChemEquation({\"Al\", \"HCl\"}, {\"AlCl3\", \"H2\"})[0]"
   ]
  },
  {
   "cell_type": "code",
   "execution_count": 8,
   "id": "90880727-6565-4f41-b650-33edf1dfb965",
   "metadata": {},
   "outputs": [
    {
     "data": {
      "text/html": [
       "2 HCl + Mg &rarr; H2 + MgCl2"
      ],
      "text/plain": [
       "<chempy.chemistry.Reaction at 0x7f60643180d0>"
      ]
     },
     "execution_count": 8,
     "metadata": {},
     "output_type": "execute_result"
    }
   ],
   "source": [
    "BalanceChemEquation({\"Mg\", \"HCl\"}, {\"MgCl2\", \"H2\"})[0]"
   ]
  },
  {
   "cell_type": "code",
   "execution_count": 9,
   "id": "758c6971-ffa5-4d73-86fe-938fd2bd97f5",
   "metadata": {},
   "outputs": [
    {
     "data": {
      "text/html": [
       "As4S6 + 9 O2 &rarr; As4O6 + 6 SO2"
      ],
      "text/plain": [
       "<chempy.chemistry.Reaction at 0x7f6064b506d0>"
      ]
     },
     "execution_count": 9,
     "metadata": {},
     "output_type": "execute_result"
    }
   ],
   "source": [
    "BalanceChemEquation({\"As4S6\", \"O2\"}, {\"As4O6\", \"SO2\"})[0]"
   ]
  },
  {
   "cell_type": "code",
   "execution_count": 10,
   "id": "871db512-eb72-4bb9-ba18-1f1f97d71b70",
   "metadata": {},
   "outputs": [
    {
     "data": {
      "text/html": [
       "3 CaCl2 + 2 Na3PO4 &rarr; Ca3(PO4)2 + 6 NaCl"
      ],
      "text/plain": [
       "<chempy.chemistry.Reaction at 0x7f5fc32f2e80>"
      ]
     },
     "execution_count": 10,
     "metadata": {},
     "output_type": "execute_result"
    }
   ],
   "source": [
    "BalanceChemEquation({\"CaCl2\", \"Na3PO4\"}, {\"Ca3(PO4)2\", \"NaCl\"})[0]"
   ]
  },
  {
   "cell_type": "markdown",
   "id": "4238a147-7cb2-4d24-87b0-3f667d161f82",
   "metadata": {},
   "source": [
    "#### Get moles to grams"
   ]
  },
  {
   "cell_type": "code",
   "execution_count": 11,
   "id": "3df08073-92ed-4f3d-b5e4-bf0871f04be4",
   "metadata": {},
   "outputs": [
    {
     "data": {
      "text/html": [
       "H2SO4 + 2 NaOH &rarr; 2 H2O + Na2SO4"
      ],
      "text/plain": [
       "<chempy.chemistry.Reaction at 0x7f60643117f0>"
      ]
     },
     "execution_count": 11,
     "metadata": {},
     "output_type": "execute_result"
    }
   ],
   "source": [
    "# Unit 5, Lesson 2\n",
    "# Get mol ratio for a given unbalanced equation\n",
    "BalanceChemEquation({\"NaOH\",\"H2SO4\"}, {\"H2O\", \"Na2SO4\"})[0]"
   ]
  },
  {
   "cell_type": "code",
   "execution_count": 17,
   "id": "bca5b3fc-3981-4f23-a8f2-cf147d99b72f",
   "metadata": {},
   "outputs": [],
   "source": [
    "# Aim: to find massd of NaOH that is needed to completely \n",
    "# react to 3.10 grams of H2SO4"
   ]
  },
  {
   "cell_type": "code",
   "execution_count": 21,
   "id": "35740a4f-d1e9-4cd7-8d49-5f83a5256b05",
   "metadata": {},
   "outputs": [
    {
     "data": {
      "text/plain": [
       "97.96737971714"
      ]
     },
     "execution_count": 21,
     "metadata": {},
     "output_type": "execute_result"
    }
   ],
   "source": [
    "# Find Find quantity in moles of 1 molecule of H2SO4\n",
    "E1 = mm.Formula('H2SO4').isotope.mass\n",
    "E1"
   ]
  },
  {
   "cell_type": "code",
   "execution_count": 28,
   "id": "c5ad0e9a-c1c5-4e49-ba2a-5770c1d33b2b",
   "metadata": {},
   "outputs": [
    {
     "data": {
      "text/plain": [
       "0.03164318581297766"
      ]
     },
     "execution_count": 28,
     "metadata": {},
     "output_type": "execute_result"
    }
   ],
   "source": [
    "# Convert 3.10g to moles\n",
    "# This means there are this many moles present\n",
    "E2 = 3.10 / E1\n",
    "E2"
   ]
  },
  {
   "cell_type": "code",
   "execution_count": 29,
   "id": "1c598363-b930-4f41-9066-5b3d7dd45b28",
   "metadata": {},
   "outputs": [
    {
     "data": {
      "text/plain": [
       "0.06328637162595532"
      ]
     },
     "execution_count": 29,
     "metadata": {},
     "output_type": "execute_result"
    }
   ],
   "source": [
    "# Note that 2 moles of NaOH are required for every 1 mole of H2SO4\n",
    "# So this can be written as \n",
    "E3 = E2 * 2\n",
    "E3"
   ]
  },
  {
   "cell_type": "code",
   "execution_count": 30,
   "id": "5404665b-cab8-43f0-b710-746f1bb3a632",
   "metadata": {},
   "outputs": [],
   "source": [
    "# Convert moles back to grams"
   ]
  },
  {
   "cell_type": "code",
   "execution_count": 33,
   "id": "e061f3da-1ef3-4735-9536-e3a6125bf47e",
   "metadata": {},
   "outputs": [
    {
     "data": {
      "text/plain": [
       "39.992508933799996"
      ]
     },
     "execution_count": 33,
     "metadata": {},
     "output_type": "execute_result"
    }
   ],
   "source": [
    "# Get the molar mass of NaOH\n",
    "E4 = mm.Formula(\"NaOH\").isotope.mass\n",
    "E4"
   ]
  },
  {
   "cell_type": "code",
   "execution_count": 34,
   "id": "bda7f698-c610-45f0-883e-e64a8afd0238",
   "metadata": {},
   "outputs": [
    {
     "data": {
      "text/plain": [
       "2.530980782638805"
      ]
     },
     "execution_count": 34,
     "metadata": {},
     "output_type": "execute_result"
    }
   ],
   "source": [
    "E3 * E4"
   ]
  },
  {
   "cell_type": "code",
   "execution_count": 41,
   "id": "a8842067-688d-4806-b28f-b1591f449f3e",
   "metadata": {},
   "outputs": [
    {
     "data": {
      "text/latex": [
       "$\\displaystyle \\frac{138.03169405209 g}{mol}$"
      ],
      "text/plain": [
       "138.03169405209*g/mol"
      ]
     },
     "execution_count": 41,
     "metadata": {},
     "output_type": "execute_result"
    }
   ],
   "source": [
    "# Converting moles and mass\n",
    "# Consider molecular weight of salicylic acid: \n",
    "g, mol = sp.symbols(\"g mol\")\n",
    "E1 = mm.Formula(\"C7H6O3\").isotope.mass\n",
    "E2 = (E1 * g) / mol\n",
    "E2"
   ]
  },
  {
   "cell_type": "code",
   "execution_count": 42,
   "id": "c5a2d1d3-9671-48a5-bdad-e2bfc115a13f",
   "metadata": {},
   "outputs": [
    {
     "data": {
      "text/latex": [
       "$\\displaystyle 110.701418629776 g$"
      ],
      "text/plain": [
       "110.701418629776*g"
      ]
     },
     "execution_count": 42,
     "metadata": {},
     "output_type": "execute_result"
    }
   ],
   "source": [
    "(.802 * mol) * E2"
   ]
  },
  {
   "cell_type": "code",
   "execution_count": 51,
   "id": "7a78ecb6-96a0-419c-be8f-a9785a1770e1",
   "metadata": {},
   "outputs": [
    {
     "data": {
      "text/plain": [
       "57.958621964"
      ]
     },
     "execution_count": 51,
     "metadata": {},
     "output_type": "execute_result"
    }
   ],
   "source": [
    "# Mol weight of sodium chloride \n",
    "g, mol = sp.symbols(\"g mol\")\n",
    "E1 = mm.Formula(\"NaCl\").isotope.mass\n",
    "E1"
   ]
  },
  {
   "cell_type": "code",
   "execution_count": 54,
   "id": "82d95013-f2a1-430c-8eb5-cf64db1f959c",
   "metadata": {},
   "outputs": [
    {
     "data": {
      "text/latex": [
       "$\\displaystyle \\frac{0.0172536883402979 mol}{g}$"
      ],
      "text/plain": [
       "0.0172536883402979*mol/g"
      ]
     },
     "execution_count": 54,
     "metadata": {},
     "output_type": "execute_result"
    }
   ],
   "source": [
    "# Set up ratio\n",
    "E2 = mol / (E1 * g)\n",
    "E2"
   ]
  },
  {
   "cell_type": "code",
   "execution_count": 55,
   "id": "66f6a7ad-e3c1-4c9e-a7aa-50a74dbc07dd",
   "metadata": {},
   "outputs": [
    {
     "data": {
      "text/latex": [
       "$\\displaystyle 0.238100899096111 mol$"
      ],
      "text/plain": [
       "0.238100899096111*mol"
      ]
     },
     "execution_count": 55,
     "metadata": {},
     "output_type": "execute_result"
    }
   ],
   "source": [
    "# Find moles in 13.8 grams\n",
    "(13.8 * g) * E2"
   ]
  },
  {
   "cell_type": "code",
   "execution_count": 59,
   "id": "263a1f4c-d0b5-49db-8d33-72d1c8eed7fc",
   "metadata": {},
   "outputs": [
    {
     "data": {
      "text/latex": [
       "$\\displaystyle \\frac{176.03208797526 g}{mol}$"
      ],
      "text/plain": [
       "176.03208797526*g/mol"
      ]
     },
     "execution_count": 59,
     "metadata": {},
     "output_type": "execute_result"
    }
   ],
   "source": [
    "# Moleculuar weight of Vitamin C\n",
    "g, mol = sp.symbols(\"g, mol\")\n",
    "\n",
    "# Get molecular weight which is grams per mole\n",
    "E1 = (mm.Formula(\"C6H8O6\").isotope.mass * g) / mol\n",
    "E1"
   ]
  },
  {
   "cell_type": "code",
   "execution_count": 61,
   "id": "7ca6004e-ffcb-43e5-badc-c9db49a84e81",
   "metadata": {},
   "outputs": [
    {
     "data": {
      "text/latex": [
       "$\\displaystyle 0.0249965564924869 g$"
      ],
      "text/plain": [
       "0.0249965564924869*g"
      ]
     },
     "execution_count": 61,
     "metadata": {},
     "output_type": "execute_result"
    }
   ],
   "source": [
    "# Now find how many grams in .000142 moles\n",
    "E2 = .000142 * mol * E1\n",
    "E2"
   ]
  },
  {
   "cell_type": "code",
   "execution_count": 63,
   "id": "2fb23238-233f-40d8-8780-34afd510ed5f",
   "metadata": {},
   "outputs": [
    {
     "data": {
      "text/latex": [
       "$\\displaystyle \\frac{18.01056468403 g}{mol}$"
      ],
      "text/plain": [
       "18.01056468403*g/mol"
      ]
     },
     "execution_count": 63,
     "metadata": {},
     "output_type": "execute_result"
    }
   ],
   "source": [
    "# Molecular weight of water \n",
    "g, mol = sp.symbols(\"g mol\")\n",
    "E1 = (mm.Formula(\"H2O\").isotope.mass * g) / mol\n",
    "E1"
   ]
  },
  {
   "cell_type": "code",
   "execution_count": 64,
   "id": "4ebc8b3e-e4eb-40bb-b079-5498bfffc657",
   "metadata": {},
   "outputs": [
    {
     "data": {
      "text/latex": [
       "$\\displaystyle \\frac{0.0555229676328084 mol}{g}$"
      ],
      "text/plain": [
       "0.0555229676328084*mol/g"
      ]
     },
     "execution_count": 64,
     "metadata": {},
     "output_type": "execute_result"
    }
   ],
   "source": [
    "# Invert to find moldes\n",
    "E2 = 1 / E1\n",
    "E2"
   ]
  },
  {
   "cell_type": "code",
   "execution_count": 77,
   "id": "08a3b2b1-c972-48f3-af36-127bf32ba10e",
   "metadata": {},
   "outputs": [
    {
     "data": {
      "text/latex": [
       "$\\displaystyle 1.34920811347724 mol$"
      ],
      "text/plain": [
       "1.34920811347724*mol"
      ]
     },
     "execution_count": 77,
     "metadata": {},
     "output_type": "execute_result"
    }
   ],
   "source": [
    "# Find how many molesin 24.3 grams\n",
    "24.3 * g * E2"
   ]
  },
  {
   "cell_type": "code",
   "execution_count": 80,
   "id": "fa671581-c83a-4bc7-9bcd-8c4b674e7748",
   "metadata": {},
   "outputs": [
    {
     "data": {
      "text/html": [
       "C3H8 + 5 O2 &rarr; 3 CO2 + 4 H2O"
      ],
      "text/plain": [
       "<chempy.chemistry.Reaction at 0x7f5fc1085730>"
      ]
     },
     "execution_count": 80,
     "metadata": {},
     "output_type": "execute_result"
    }
   ],
   "source": [
    "# Consider following reation \n",
    "# C3H8 + 5O2 -> 3 CO2 + 4H20\n",
    "# check balance\n",
    "\n",
    "BalanceChemEquation({\"C3H8\",\"O2\"}, {\"CO2\", \"H2O\"})[0]"
   ]
  },
  {
   "cell_type": "code",
   "execution_count": 85,
   "id": "6c51c164-5222-41e9-838c-25ff412a74be",
   "metadata": {},
   "outputs": [
    {
     "data": {
      "text/latex": [
       "$\\displaystyle \\frac{0.0226949838218427 mol}{g}$"
      ],
      "text/plain": [
       "0.0226949838218427*mol/g"
      ]
     },
     "execution_count": 85,
     "metadata": {},
     "output_type": "execute_result"
    }
   ],
   "source": [
    "# Equation is valid, and mole ration is 1:5 in reac and 3:4 in prod\n",
    "# Mass of C3H8 in grams given, covert this to moles\n",
    "g, mol = sp.symbols(\"g mol\")\n",
    "E1 = (mm.Formula(\"C3H8\").isotope.mass * g) / mol\n",
    "E2 = 1 / E1\n",
    "E2"
   ]
  },
  {
   "cell_type": "code",
   "execution_count": 86,
   "id": "5e0ecb09-f9d0-44f8-ac98-6d8f20ed4184",
   "metadata": {},
   "outputs": [
    {
     "data": {
      "text/latex": [
       "$\\displaystyle 2.20141343071874 mol$"
      ],
      "text/plain": [
       "2.20141343071874*mol"
      ]
     },
     "execution_count": 86,
     "metadata": {},
     "output_type": "execute_result"
    }
   ],
   "source": [
    "# Convert 97 grams into moles\n",
    "E3 = 97.0 * g * E2\n",
    "E3"
   ]
  },
  {
   "cell_type": "code",
   "execution_count": 88,
   "id": "89d038cf-a03e-41f0-99aa-73146625fbf2",
   "metadata": {},
   "outputs": [
    {
     "data": {
      "text/latex": [
       "$\\displaystyle 11.0070671535937 mol$"
      ],
      "text/plain": [
       "11.0070671535937*mol"
      ]
     },
     "execution_count": 88,
     "metadata": {},
     "output_type": "execute_result"
    }
   ],
   "source": [
    "# Now find now many Moles of O2 is needed\n",
    "E4 = E3 * 5\n",
    "E4"
   ]
  },
  {
   "cell_type": "code",
   "execution_count": 90,
   "id": "8d895a5e-a6da-49d7-be42-e36881dc38c5",
   "metadata": {},
   "outputs": [
    {
     "data": {
      "text/latex": [
       "$\\displaystyle 13.2084805843124 mol$"
      ],
      "text/plain": [
       "13.2084805843124*mol"
      ]
     },
     "execution_count": 90,
     "metadata": {},
     "output_type": "execute_result"
    }
   ],
   "source": [
    "# Total moles must be \n",
    "E5 = E4 + E3\n",
    "E5"
   ]
  },
  {
   "cell_type": "code",
   "execution_count": 91,
   "id": "06837831-53f0-47b1-932f-f657e0f32eee",
   "metadata": {},
   "outputs": [
    {
     "data": {
      "text/latex": [
       "$\\displaystyle 5.66077739327676 mol$"
      ],
      "text/plain": [
       "5.66077739327676*mol"
      ]
     },
     "execution_count": 91,
     "metadata": {},
     "output_type": "execute_result"
    }
   ],
   "source": [
    "# \n",
    "(3/7) * E5"
   ]
  },
  {
   "cell_type": "code",
   "execution_count": 92,
   "id": "beabd7b8-23fb-4dc2-8605-6b6d38c1426f",
   "metadata": {},
   "outputs": [
    {
     "data": {
      "text/latex": [
       "$\\displaystyle 6.60424029215622 mol$"
      ],
      "text/plain": [
       "6.60424029215622*mol"
      ]
     },
     "execution_count": 92,
     "metadata": {},
     "output_type": "execute_result"
    }
   ],
   "source": [
    "E3 * 3"
   ]
  },
  {
   "cell_type": "code",
   "execution_count": 93,
   "id": "4e51173b-ff3a-4c85-a933-1abfb72388ac",
   "metadata": {},
   "outputs": [
    {
     "data": {
      "text/html": [
       "4 Fe + 3 O2 &rarr; 2 Fe2O3"
      ],
      "text/plain": [
       "<chempy.chemistry.Reaction at 0x7f5fc0f99c70>"
      ]
     },
     "execution_count": 93,
     "metadata": {},
     "output_type": "execute_result"
    }
   ],
   "source": [
    "# How many moles of Fe2O3 will be produced from 27g of Fe\n",
    "# in this reaction\n",
    "BalanceChemEquation({\"Fe\", \"O2\"}, {\"Fe2O3\"})[0]"
   ]
  },
  {
   "cell_type": "code",
   "execution_count": 101,
   "id": "fba6eace-06b5-4838-96b1-e51ecb395c77",
   "metadata": {},
   "outputs": [
    {
     "data": {
      "text/latex": [
       "$\\displaystyle 0.482703687025007 mol$"
      ],
      "text/plain": [
       "0.482703687025007*mol"
      ]
     },
     "execution_count": 101,
     "metadata": {},
     "output_type": "execute_result"
    }
   ],
   "source": [
    "# convert Fe to moles\n",
    "g, mol, x = sp.symbols(\"g mol, x\")\n",
    "# find 27g of Fe in moles\n",
    "E1 = 1 / ((g * mm.Formula(\"Fe\").isotope.mass) / mol)\n",
    "E2 = 27.0 * g * E1\n",
    "# This amaount of moles in 27g of Fe\n",
    "E2\n"
   ]
  },
  {
   "cell_type": "code",
   "execution_count": 107,
   "id": "06a472ed-03ad-4133-9cf7-3bc2fde98655",
   "metadata": {},
   "outputs": [
    {
     "data": {
      "text/latex": [
       "$\\displaystyle 0.241351843512503 mol$"
      ],
      "text/plain": [
       "0.241351843512503*mol"
      ]
     },
     "execution_count": 107,
     "metadata": {},
     "output_type": "execute_result"
    }
   ],
   "source": [
    "# now we have moles, get the mol ratio in the reaction\n",
    "# Fe / Fe2O3 = 4 / 2\n",
    "sp.solve(sp.Eq(4/2, E2 / x), x)[0]"
   ]
  },
  {
   "cell_type": "code",
   "execution_count": 108,
   "id": "4c1f2596-a484-4825-aa80-ec3b4e1f0311",
   "metadata": {},
   "outputs": [
    {
     "data": {
      "text/html": [
       "2 HCl + Zn &rarr; H2 + ZnCl2"
      ],
      "text/plain": [
       "<chempy.chemistry.Reaction at 0x7f5fc1085580>"
      ]
     },
     "execution_count": 108,
     "metadata": {},
     "output_type": "execute_result"
    }
   ],
   "source": [
    "# Consider following balanced equation\n",
    "BalanceChemEquation({\"Zn\", \"HCl\"}, {\"ZnCl2\", \"H2\"})[0]"
   ]
  },
  {
   "cell_type": "code",
   "execution_count": 110,
   "id": "9c156ce3-1781-4c9e-923f-4b203d7aab52",
   "metadata": {},
   "outputs": [
    {
     "data": {
      "text/latex": [
       "$\\displaystyle \\frac{0.0156423184882346 mol}{g}$"
      ],
      "text/plain": [
       "0.0156423184882346*mol/g"
      ]
     },
     "execution_count": 110,
     "metadata": {},
     "output_type": "execute_result"
    }
   ],
   "source": [
    "# If there is 55 grams of Zn, how many moles will be produced of ZnCl2?\n",
    "# Convert Zn to moles\n",
    "g, mol, x = sp.symbols(\"g mol x\")\n",
    "E1 =1 / ( (mm.Formula(\"Zn\").isotope.mass * g) / mol)\n",
    "E1"
   ]
  },
  {
   "cell_type": "code",
   "execution_count": 111,
   "id": "a67f0a13-de8b-4f5d-b52d-c4ffd1141a8b",
   "metadata": {},
   "outputs": [],
   "source": [
    "# Convert Zn to moles"
   ]
  },
  {
   "cell_type": "code",
   "execution_count": 112,
   "id": "f61f3d5c-f5a9-49ed-a557-e781fb6b9305",
   "metadata": {},
   "outputs": [
    {
     "data": {
      "text/latex": [
       "$\\displaystyle 0.860327516852905 mol$"
      ],
      "text/plain": [
       "0.860327516852905*mol"
      ]
     },
     "execution_count": 112,
     "metadata": {},
     "output_type": "execute_result"
    }
   ],
   "source": [
    "E2 = 55.0 * g * E1\n",
    "E2"
   ]
  },
  {
   "cell_type": "code",
   "execution_count": 117,
   "id": "096fd1a5-8624-42fe-bf75-8b4fd249c063",
   "metadata": {},
   "outputs": [
    {
     "data": {
      "text/latex": [
       "$\\displaystyle 0.860327516852905 mol$"
      ],
      "text/plain": [
       "0.860327516852905*mol"
      ]
     },
     "execution_count": 117,
     "metadata": {},
     "output_type": "execute_result"
    }
   ],
   "source": [
    "# Note mole ratio is 1:1\n",
    "E3 = sp.solve(sp.Eq(1/1, E2/ x), x)[0]\n",
    "E3"
   ]
  },
  {
   "cell_type": "code",
   "execution_count": 119,
   "id": "0260f99c-4275-4e43-8f26-2da0ec00135c",
   "metadata": {},
   "outputs": [
    {
     "data": {
      "text/html": [
       "C3H8 + 5 O2 &rarr; 3 CO2 + 4 H2O"
      ],
      "text/plain": [
       "<chempy.chemistry.Reaction at 0x7f5fc103b760>"
      ]
     },
     "execution_count": 119,
     "metadata": {},
     "output_type": "execute_result"
    }
   ],
   "source": [
    "# Consider the following balanced equation\n",
    "BalanceChemEquation({\"C3H8\", \"O2\"}, {\"CO2\", \"H2O\"})[0]"
   ]
  },
  {
   "cell_type": "code",
   "execution_count": 122,
   "id": "228d88b1-1fcd-490f-8458-cc623ff17fb0",
   "metadata": {},
   "outputs": [
    {
     "data": {
      "text/latex": [
       "$\\displaystyle \\frac{0.0226949838218427 mol}{g}$"
      ],
      "text/plain": [
       "0.0226949838218427*mol/g"
      ]
     },
     "execution_count": 122,
     "metadata": {},
     "output_type": "execute_result"
    }
   ],
   "source": [
    "# Assume 79g of C3H8, fine how many moes of CO2\n",
    "# Convert C3H8 to moles\n",
    "g, mol, x = sp.symbols(\"g mol x\")\n",
    "E1 = 1 / ((g * mm.Formula(\"C3H8\").isotope.mass) / mol)\n",
    "E1"
   ]
  },
  {
   "cell_type": "code",
   "execution_count": 123,
   "id": "7c1a755c-cb9a-477c-af0a-decdb5c531dd",
   "metadata": {},
   "outputs": [
    {
     "data": {
      "text/latex": [
       "$\\displaystyle 1.79290372192557 mol$"
      ],
      "text/plain": [
       "1.79290372192557*mol"
      ]
     },
     "execution_count": 123,
     "metadata": {},
     "output_type": "execute_result"
    }
   ],
   "source": [
    "# find out how many moes in 79.0 grams\n",
    "E2 = 79.0 * g * E1\n",
    "E2"
   ]
  },
  {
   "cell_type": "code",
   "execution_count": 124,
   "id": "0c6c769b-48c1-4c94-b18f-0eb622ceca9b",
   "metadata": {},
   "outputs": [
    {
     "data": {
      "text/latex": [
       "$\\displaystyle 5.37871116577672 mol$"
      ],
      "text/plain": [
       "5.37871116577672*mol"
      ]
     },
     "execution_count": 124,
     "metadata": {},
     "output_type": "execute_result"
    }
   ],
   "source": [
    "# Note there is a 1:3 ratio between C3H8 and CO2\n",
    "E2 * 3"
   ]
  },
  {
   "cell_type": "code",
   "execution_count": 126,
   "id": "97522ae8-257a-4a7e-9ebf-1a9e1af85bbb",
   "metadata": {},
   "outputs": [
    {
     "data": {
      "text/html": [
       "2 HCl + Mg(OH)2 &rarr; 2 H2O + MgCl2"
      ],
      "text/plain": [
       "<chempy.chemistry.Reaction at 0x7f5fc101dfd0>"
      ]
     },
     "execution_count": 126,
     "metadata": {},
     "output_type": "execute_result"
    }
   ],
   "source": [
    "# Consider the following balanced equation\n",
    "BalanceChemEquation({\"Mg(OH)2\", \"HCl\"}, {\"MgCl2\", \"H2O\"})[0]"
   ]
  },
  {
   "cell_type": "code",
   "execution_count": 130,
   "id": "b3849c11-264e-4d48-b7dc-04e49524eca3",
   "metadata": {},
   "outputs": [
    {
     "data": {
      "text/latex": [
       "$\\displaystyle \\frac{0.0172441975472104 mol}{g}$"
      ],
      "text/plain": [
       "0.0172441975472104*mol/g"
      ]
     },
     "execution_count": 130,
     "metadata": {},
     "output_type": "execute_result"
    }
   ],
   "source": [
    "# Find how many moes will be produced from 32g of Mg(OH)2\n",
    "g, mol, x = sp.symbols(\"g mol x\")\n",
    "E1 = 1 / ( (g * mm.Formula(\"Mg(OH)2\").isotope.mass) / mol)\n",
    "E1"
   ]
  },
  {
   "cell_type": "code",
   "execution_count": 131,
   "id": "92d50a94-3592-4b29-8d46-c2293935a53d",
   "metadata": {},
   "outputs": [
    {
     "data": {
      "text/latex": [
       "$\\displaystyle 0.551814321510733 mol$"
      ],
      "text/plain": [
       "0.551814321510733*mol"
      ]
     },
     "execution_count": 131,
     "metadata": {},
     "output_type": "execute_result"
    }
   ],
   "source": [
    "# Now find how many mols in 32.0 \n",
    "E2 = 32 * g * E1\n",
    "E2"
   ]
  },
  {
   "cell_type": "code",
   "execution_count": 132,
   "id": "6f3b660c-28b5-47dd-9253-4bda95272c4e",
   "metadata": {},
   "outputs": [
    {
     "data": {
      "text/html": [
       "2 HgO &rarr; 2 Hg + O2"
      ],
      "text/plain": [
       "<chempy.chemistry.Reaction at 0x7f5fc1033430>"
      ]
     },
     "execution_count": 132,
     "metadata": {},
     "output_type": "execute_result"
    }
   ],
   "source": [
    "# Consider the following balanced equation\n",
    "BalanceChemEquation({\"HgO\"}, {\"Hg\", \"O2\"})[0]"
   ]
  },
  {
   "cell_type": "code",
   "execution_count": 134,
   "id": "da01cbae-2f0d-4512-a9fc-f444f5bee29c",
   "metadata": {},
   "outputs": [
    {
     "data": {
      "text/latex": [
       "$\\displaystyle \\frac{0.00458788080596759 mol}{g}$"
      ],
      "text/plain": [
       "0.00458788080596759*mol/g"
      ]
     },
     "execution_count": 134,
     "metadata": {},
     "output_type": "execute_result"
    }
   ],
   "source": [
    "# Find how much moles of Hg will be produced from 39.0g of of HgO\n",
    "g, mol, x = sp.symbols(\"g mol x\")\n",
    "E1 = 1 / ((g * mm.Formula(\"HgO\").isotope.mass) / mol)\n",
    "E1"
   ]
  },
  {
   "cell_type": "code",
   "execution_count": 135,
   "id": "cf5af5ae-aadc-461b-a63b-d86cc123b814",
   "metadata": {},
   "outputs": [
    {
     "data": {
      "text/latex": [
       "$\\displaystyle 0.178927351432736 mol$"
      ],
      "text/plain": [
       "0.178927351432736*mol"
      ]
     },
     "execution_count": 135,
     "metadata": {},
     "output_type": "execute_result"
    }
   ],
   "source": [
    "# Find how many moles in 39.0 grams\n",
    "E2 = 39.0 * g *  E1\n",
    "E2"
   ]
  },
  {
   "cell_type": "code",
   "execution_count": 136,
   "id": "494a3f75-f35f-4b80-8c35-aff8a518e428",
   "metadata": {},
   "outputs": [
    {
     "data": {
      "text/html": [
       "2 HCl + Zn &rarr; H2 + ZnCl2"
      ],
      "text/plain": [
       "<chempy.chemistry.Reaction at 0x7f5fc104b160>"
      ]
     },
     "execution_count": 136,
     "metadata": {},
     "output_type": "execute_result"
    }
   ],
   "source": [
    "# Consider the following balanced reaction\n",
    "BalanceChemEquation({\"Zn\", \"HCl\"}, {\"ZnCl2\", \"H2\"})[0]"
   ]
  },
  {
   "cell_type": "code",
   "execution_count": 140,
   "id": "9c369af6-fef1-42b9-ae89-676656e94b33",
   "metadata": {},
   "outputs": [
    {
     "data": {
      "text/latex": [
       "$\\displaystyle \\frac{0.0156423184882346 mol}{g}$"
      ],
      "text/plain": [
       "0.0156423184882346*mol/g"
      ]
     },
     "execution_count": 140,
     "metadata": {},
     "output_type": "execute_result"
    }
   ],
   "source": [
    "# Find how many moes of ZnCl2 will be produced if there is 61g of Zn\n",
    "g, mol, x = sp.symbols(\"g mol x\")\n",
    "E1 = 1 /  ((g * mm.Formula(\"Zn\").isotope.mass) / mol)\n",
    "E1"
   ]
  },
  {
   "cell_type": "code",
   "execution_count": 141,
   "id": "89153e6e-57d9-4dc2-bbe8-ff4f0a23eb3e",
   "metadata": {},
   "outputs": [
    {
     "data": {
      "text/latex": [
       "$\\displaystyle 0.954181427782312 mol$"
      ],
      "text/plain": [
       "0.954181427782312*mol"
      ]
     },
     "execution_count": 141,
     "metadata": {},
     "output_type": "execute_result"
    }
   ],
   "source": [
    "# Convert 61g of Zn to moles\n",
    "E2 = 61 * g * E1\n",
    "E2"
   ]
  },
  {
   "cell_type": "code",
   "execution_count": 142,
   "id": "4d9c3557-8e0a-45ab-b0c6-1dd824348871",
   "metadata": {},
   "outputs": [
    {
     "data": {
      "text/html": [
       "C2H6O + 3 O2 &rarr; 2 CO2 + 3 H2O"
      ],
      "text/plain": [
       "<chempy.chemistry.Reaction at 0x7f5fc0faff70>"
      ]
     },
     "execution_count": 142,
     "metadata": {},
     "output_type": "execute_result"
    }
   ],
   "source": [
    "# Note mold ratio is 1:1\n",
    "BalanceChemEquation({\"C2H6O\", \"O2\"}, {\"CO2\", \"H2O\"})[0]"
   ]
  },
  {
   "cell_type": "code",
   "execution_count": 150,
   "id": "bef434d9-03f1-4f94-b208-5105466c2cc2",
   "metadata": {},
   "outputs": [
    {
     "data": {
      "text/latex": [
       "$\\displaystyle \\frac{0.015890773757198 mol}{g}$"
      ],
      "text/plain": [
       "0.015890773757198*mol/g"
      ]
     },
     "execution_count": 150,
     "metadata": {},
     "output_type": "execute_result"
    }
   ],
   "source": [
    "# Convert Ag of 46g to moles\n",
    "g, mol, x = sp.symbols(\"g mol x\")\n",
    "E1 = 1 / ((g * mm.Formula(\"Cu\").isotope.mass) / mol)\n",
    "E1"
   ]
  },
  {
   "cell_type": "code",
   "execution_count": 151,
   "id": "26f6c2d6-78b2-489f-a333-1bb5633de7e0",
   "metadata": {},
   "outputs": [
    {
     "data": {
      "text/latex": [
       "$\\displaystyle 0.730975592831106 mol$"
      ],
      "text/plain": [
       "0.730975592831106*mol"
      ]
     },
     "execution_count": 151,
     "metadata": {},
     "output_type": "execute_result"
    }
   ],
   "source": [
    "E2 = 46.0 * g * E1\n",
    "E2"
   ]
  },
  {
   "cell_type": "code",
   "execution_count": 152,
   "id": "d42c249c-0584-4b97-be1f-c6c9bcc57b58",
   "metadata": {},
   "outputs": [
    {
     "data": {
      "text/latex": [
       "$\\displaystyle 1.46195118566221 mol$"
      ],
      "text/plain": [
       "1.46195118566221*mol"
      ]
     },
     "execution_count": 152,
     "metadata": {},
     "output_type": "execute_result"
    }
   ],
   "source": [
    "E2 * 2"
   ]
  },
  {
   "cell_type": "code",
   "execution_count": 153,
   "id": "4ea461d7-52b5-4779-a89a-ad6be2f85222",
   "metadata": {},
   "outputs": [
    {
     "data": {
      "text/plain": [
       "9.82401"
      ]
     },
     "execution_count": 153,
     "metadata": {},
     "output_type": "execute_result"
    }
   ],
   "source": [
    ".0287 * 342.30"
   ]
  },
  {
   "cell_type": "code",
   "execution_count": 154,
   "id": "e9959418-b3a0-429c-88a7-7be370245b21",
   "metadata": {},
   "outputs": [
    {
     "data": {
      "text/html": [
       "2 Mg + O2 &rarr; 2 MgO"
      ],
      "text/plain": [
       "<chempy.chemistry.Reaction at 0x7f5fc1764040>"
      ]
     },
     "execution_count": 154,
     "metadata": {},
     "output_type": "execute_result"
    }
   ],
   "source": [
    "BalanceChemEquation({\"Mg\", \"O2\"}, {\"MgO\"})[0]"
   ]
  },
  {
   "cell_type": "code",
   "execution_count": 157,
   "id": "693ef165-85a7-414b-a39a-7ad73d178bbd",
   "metadata": {},
   "outputs": [
    {
     "data": {
      "text/latex": [
       "$\\displaystyle \\frac{0.0156423184882346 mol}{g}$"
      ],
      "text/plain": [
       "0.0156423184882346*mol/g"
      ]
     },
     "execution_count": 157,
     "metadata": {},
     "output_type": "execute_result"
    }
   ],
   "source": [
    "# find \n",
    "g, mol, x = sp.symbols(\"g mol x\")\n",
    "E1 = 1 / ((g * mm.Formula(\"Zn\").isotope.mass) / mol)\n",
    "E1"
   ]
  },
  {
   "cell_type": "code",
   "execution_count": 159,
   "id": "1ef3baab-25ae-4716-8a9e-0052cb9b2f1e",
   "metadata": {},
   "outputs": [
    {
     "data": {
      "text/latex": [
       "$\\displaystyle 0.328488688252927 mol$"
      ],
      "text/plain": [
       "0.328488688252927*mol"
      ]
     },
     "execution_count": 159,
     "metadata": {},
     "output_type": "execute_result"
    }
   ],
   "source": [
    "# Find value of 21 grams\n",
    "E2 = 21.0 * g * E1\n",
    "E2"
   ]
  },
  {
   "cell_type": "markdown",
   "id": "cc31ec15-01b4-4967-a9b0-bad51bb08469",
   "metadata": {},
   "source": [
    "#### Limiting Reactant and theoretical yield"
   ]
  },
  {
   "cell_type": "code",
   "execution_count": 181,
   "id": "f8ce32f7-5525-4ce9-b540-30b3c7d177b4",
   "metadata": {},
   "outputs": [
    {
     "data": {
      "text/html": [
       "CO + 2 H2 &rarr; CH3OH"
      ],
      "text/plain": [
       "<chempy.chemistry.Reaction at 0x7f5fc156b6d0>"
      ]
     },
     "execution_count": 181,
     "metadata": {},
     "output_type": "execute_result"
    }
   ],
   "source": [
    "## Consider following \n",
    "BalanceChemEquation({\"CO\", \"H2\"},{\"CH3OH\"})[0]"
   ]
  },
  {
   "cell_type": "code",
   "execution_count": 196,
   "id": "02bf0529-4220-4752-8356-dc81ffa6c01d",
   "metadata": {},
   "outputs": [
    {
     "data": {
      "text/latex": [
       "$\\displaystyle 12.7096807246089 mol$"
      ],
      "text/plain": [
       "12.7096807246089*mol"
      ]
     },
     "execution_count": 196,
     "metadata": {},
     "output_type": "execute_result"
    }
   ],
   "source": [
    "# Consider we have 356 g CO\n",
    "# Consider we have 65 g H2\n",
    "# find the limiting reacant\n",
    "mol = sp.symbols('mol')\n",
    "# Find total moles of CO we have\n",
    "E1 = 1 / (mm.Formula(\"CO\").mass * u.gram / mol)\n",
    "E2 = 356 * u.gram * E1\n",
    "E2"
   ]
  },
  {
   "cell_type": "code",
   "execution_count": 197,
   "id": "9510821a-d17e-448f-bbf7-982cb12c330e",
   "metadata": {},
   "outputs": [
    {
     "data": {
      "text/latex": [
       "$\\displaystyle 32.243950786802 mol$"
      ],
      "text/plain": [
       "32.243950786802*mol"
      ]
     },
     "execution_count": 197,
     "metadata": {},
     "output_type": "execute_result"
    }
   ],
   "source": [
    "# Find total moles of H2\n",
    "E3 = 1 / (mm.Formula(\"H2\").mass * u.gram / mol)\n",
    "E4 = 65 * u.gram * E3\n",
    "E4"
   ]
  },
  {
   "cell_type": "code",
   "execution_count": 198,
   "id": "226df21c-9693-4ecd-8182-b828bdbe092a",
   "metadata": {},
   "outputs": [
    {
     "data": {
      "text/latex": [
       "$\\displaystyle 25.4193614492178 mol$"
      ],
      "text/plain": [
       "25.4193614492178*mol"
      ]
     },
     "execution_count": 198,
     "metadata": {},
     "output_type": "execute_result"
    }
   ],
   "source": [
    "# Find limiting reactant\n",
    "# Limiting reactant is CO\n",
    "# Note that can only use the following amount of moles\n",
    "E5 = E2 * 2\n",
    "E5"
   ]
  },
  {
   "cell_type": "code",
   "execution_count": 199,
   "id": "d2377a3e-0cc8-4eb1-b00e-f494faf639c8",
   "metadata": {},
   "outputs": [
    {
     "data": {
      "text/latex": [
       "$\\displaystyle 6.82458933758423 mol$"
      ],
      "text/plain": [
       "6.82458933758423*mol"
      ]
     },
     "execution_count": 199,
     "metadata": {},
     "output_type": "execute_result"
    }
   ],
   "source": [
    "# THis amount of H2 will be left over\n",
    "E4 - E5"
   ]
  },
  {
   "cell_type": "code",
   "execution_count": 200,
   "id": "016f29fe-e1eb-4511-8efc-4b6ffc8a6f18",
   "metadata": {},
   "outputs": [
    {
     "data": {
      "text/latex": [
       "$\\displaystyle 407.242433196972 \\text{g}$"
      ],
      "text/plain": [
       "407.242433196972*gram"
      ]
     },
     "execution_count": 200,
     "metadata": {},
     "output_type": "execute_result"
    }
   ],
   "source": [
    "# Note that we will produce 12.7 moles of CH3OH\n",
    "mm.Formula(\"CH3OH\").mass * u.gram / mol * E2"
   ]
  },
  {
   "cell_type": "code",
   "execution_count": 201,
   "id": "8e866c19-6262-42ba-ba7a-ad3c4b1f5c8e",
   "metadata": {},
   "outputs": [
    {
     "data": {
      "text/html": [
       "C3H8 + 5 O2 &rarr; 3 CO2 + 4 H2O"
      ],
      "text/plain": [
       "<chempy.chemistry.Reaction at 0x7f5fc1560ac0>"
      ]
     },
     "execution_count": 201,
     "metadata": {},
     "output_type": "execute_result"
    }
   ],
   "source": [
    "# Example\n",
    "# Consider the following balanced equation\n",
    "BalanceChemEquation({\"C3H8\", \"O2\"}, {\"CO2\", \"H2O\"})[0]"
   ]
  },
  {
   "cell_type": "code",
   "execution_count": 207,
   "id": "b99c7152-4da3-40fe-8672-af586a6a2264",
   "metadata": {},
   "outputs": [
    {
     "data": {
      "text/latex": [
       "$\\displaystyle 0.158745464528689 mol$"
      ],
      "text/plain": [
       "0.158745464528689*mol"
      ]
     },
     "execution_count": 207,
     "metadata": {},
     "output_type": "execute_result"
    }
   ],
   "source": [
    "# Consider we have 7g of C3H8\n",
    "# Consider we have 98g of O2\n",
    "# Consider mole ratio of reactant is 1:5\n",
    "# Find the limiting reagent and theoretical yield\n",
    "\n",
    "# convert all part of reactant to find limiting reagent\n",
    "mol = sp.symbols('mol')\n",
    "E1 = 1 / (mm.Formula(\"C3H8\").mass * u.grams / mol)\n",
    "E2 = 7 * u.grams * E1\n",
    "E2\n",
    "# C3H8 has the following amount fo moles"
   ]
  },
  {
   "cell_type": "code",
   "execution_count": 210,
   "id": "5dc9cb73-b2f3-4aa5-95b5-b193a3c51311",
   "metadata": {},
   "outputs": [
    {
     "data": {
      "text/latex": [
       "$\\displaystyle 3.06261389095407 mol$"
      ],
      "text/plain": [
       "3.06261389095407*mol"
      ]
     },
     "execution_count": 210,
     "metadata": {},
     "output_type": "execute_result"
    }
   ],
   "source": [
    "E3 = 1 / (mm.Formula(\"O2\").mass * u.grams / mol)\n",
    "E4 = 98 * u.gram * E3\n",
    "E4\n",
    "# O2 has the following amount of moles"
   ]
  },
  {
   "cell_type": "code",
   "execution_count": 218,
   "id": "19ed88a3-926e-4889-a614-cc6277ca77b7",
   "metadata": {},
   "outputs": [
    {
     "data": {
      "text/latex": [
       "$\\displaystyle 0.476236393586066 mol$"
      ],
      "text/plain": [
       "0.476236393586066*mol"
      ]
     },
     "execution_count": 218,
     "metadata": {},
     "output_type": "execute_result"
    }
   ],
   "source": [
    "# Limiting reagent is C3H8\n",
    "# using mole ratio this means that only the following aommount of CO2 could \n",
    "# be created\n",
    "E5 = E2 * 3\n",
    "E5"
   ]
  },
  {
   "cell_type": "code",
   "execution_count": 220,
   "id": "0a445fb1-71c1-4768-854c-4a5a01247343",
   "metadata": {},
   "outputs": [
    {
     "data": {
      "text/latex": [
       "$\\displaystyle 20.9589493753457 \\text{g}$"
      ],
      "text/plain": [
       "20.9589493753457*gram"
      ]
     },
     "execution_count": 220,
     "metadata": {},
     "output_type": "execute_result"
    }
   ],
   "source": [
    "# Now find how many moles this is of CO2\n",
    "E6 = mm.Formula(\"CO2\").mass * u.gram / mol\n",
    "E7 = E5 * E6\n",
    "E7"
   ]
  },
  {
   "cell_type": "code",
   "execution_count": 221,
   "id": "b61326b8-57c7-4ffa-a1a9-81699f6f345d",
   "metadata": {},
   "outputs": [
    {
     "data": {
      "text/html": [
       "5 C3H8 + 15 O2 &rarr; 15 CO2 + 2 H20"
      ],
      "text/plain": [
       "<chempy.chemistry.Reaction at 0x7f5fc101a340>"
      ]
     },
     "execution_count": 221,
     "metadata": {},
     "output_type": "execute_result"
    }
   ],
   "source": [
    "# Consider the following chemical reaction\n",
    "BalanceChemEquation({\"C3H8\", \"O2\"}, {\"CO2\", \"H20\"})[0]"
   ]
  },
  {
   "cell_type": "code",
   "execution_count": 236,
   "id": "d911237c-2622-4bac-a01d-3c6f808f8fb7",
   "metadata": {},
   "outputs": [
    {
     "data": {
      "text/latex": [
       "$\\displaystyle \\frac{0.0226779235040984 mol}{\\text{g}}$"
      ],
      "text/plain": [
       "0.0226779235040984*mol/gram"
      ]
     },
     "execution_count": 236,
     "metadata": {},
     "output_type": "execute_result"
    }
   ],
   "source": [
    "# Note there is 39g of C3H8\n",
    "# Note there is 11g of O2\n",
    "# work out which is limiting reactant to find total yield\n",
    "mol, x = sp.symbols('mol x')\n",
    "E1 = 1 / (mm.Formula(\"C3H8\").mass * u.grams / mol)\n",
    "E1"
   ]
  },
  {
   "cell_type": "code",
   "execution_count": 237,
   "id": "cb56ed0b-dc3d-494f-a148-abd8fb0888ec",
   "metadata": {},
   "outputs": [
    {
     "data": {
      "text/latex": [
       "$\\displaystyle 0.884439016659838 mol$"
      ],
      "text/plain": [
       "0.884439016659838*mol"
      ]
     },
     "execution_count": 237,
     "metadata": {},
     "output_type": "execute_result"
    }
   ],
   "source": [
    "# 39g of C3H8 is: \n",
    "E2 = 39 * u.gram * E1\n",
    "E2"
   ]
  },
  {
   "cell_type": "code",
   "execution_count": 238,
   "id": "f44bd0fd-83ff-468c-b345-01bd8fdf5215",
   "metadata": {},
   "outputs": [
    {
     "data": {
      "text/latex": [
       "$\\displaystyle 0.343762783678518 mol$"
      ],
      "text/plain": [
       "0.343762783678518*mol"
      ]
     },
     "execution_count": 238,
     "metadata": {},
     "output_type": "execute_result"
    }
   ],
   "source": [
    "# Now find 11g of 02\n",
    "E3 = 1 / (mm.Formula(\"O2\").mass * u.grams / mol)\n",
    "E4 = 11 * u.gram * E3\n",
    "E4"
   ]
  },
  {
   "cell_type": "code",
   "execution_count": 241,
   "id": "3492bcc6-508d-457d-a016-72a10bca7227",
   "metadata": {},
   "outputs": [
    {
     "data": {
      "text/latex": [
       "$\\displaystyle 0.0687525567357035 mol$"
      ],
      "text/plain": [
       "0.0687525567357035*mol"
      ]
     },
     "execution_count": 241,
     "metadata": {},
     "output_type": "execute_result"
    }
   ],
   "source": [
    "# Create mole rato equation\n",
    "E5 = sp.Eq(1/5, x / E4)\n",
    "E5 = sp.solve(E5, x)[0]\n",
    "E5"
   ]
  },
  {
   "cell_type": "code",
   "execution_count": 243,
   "id": "d61819a4-35bf-4138-98aa-b041129272be",
   "metadata": {},
   "outputs": [
    {
     "data": {
      "text/latex": [
       "$\\displaystyle 0.206257670207111 mol$"
      ],
      "text/plain": [
       "0.206257670207111*mol"
      ]
     },
     "execution_count": 243,
     "metadata": {},
     "output_type": "execute_result"
    }
   ],
   "source": [
    "# We have too much C3H8. \n",
    "# So O2 is the limiting reagant\n",
    "# There is a 5:3 ratio between O2 and CO2\n",
    "# So there must the be following amount of moles of CO2\n",
    "E6 = E4 / 5 * 3\n",
    "E6"
   ]
  },
  {
   "cell_type": "code",
   "execution_count": 245,
   "id": "a89cef56-878f-4a68-b349-175a38ecf859",
   "metadata": {},
   "outputs": [
    {
     "data": {
      "text/latex": [
       "$\\displaystyle 9.07730724986335 \\text{g}$"
      ],
      "text/plain": [
       "9.07730724986335*gram"
      ]
     },
     "execution_count": 245,
     "metadata": {},
     "output_type": "execute_result"
    }
   ],
   "source": [
    "# Find out how many grams of CO2 can be created from this amount of moles\n",
    "E7 = mm.Formula(\"CO2\").mass * u.grams / mol\n",
    "E8 = E6 * E7\n",
    "E8"
   ]
  },
  {
   "cell_type": "code",
   "execution_count": 246,
   "id": "cc35c6c3-6d4f-4f5b-9ce0-1372de4a5546",
   "metadata": {},
   "outputs": [
    {
     "data": {
      "text/html": [
       "Cl2 + 2 Na &rarr; 2 NaCl"
      ],
      "text/plain": [
       "<chempy.chemistry.Reaction at 0x7f5fc0fadbb0>"
      ]
     },
     "execution_count": 246,
     "metadata": {},
     "output_type": "execute_result"
    }
   ],
   "source": [
    "# Consider the following balanced equation\n",
    "BalanceChemEquation({\"Na\", \"Cl2\"}, {\"NaCl\"})[0]"
   ]
  },
  {
   "cell_type": "code",
   "execution_count": 251,
   "id": "83256372-aa5e-4966-9c9a-f6cfcb7046b4",
   "metadata": {},
   "outputs": [
    {
     "data": {
      "text/latex": [
       "$\\displaystyle 0.782956965803878 mol$"
      ],
      "text/plain": [
       "0.782956965803878*mol"
      ]
     },
     "execution_count": 251,
     "metadata": {},
     "output_type": "execute_result"
    }
   ],
   "source": [
    "# There is 18g of Na\n",
    "# There is 23 g of Cl2\n",
    "# Find limiting reagent\n",
    "x, mol = sp.symbols(\"x mol\")\n",
    "E1 = 1 / (mm.Formula(\"Na\").mass * u.gram / mol )\n",
    "E2 = 18 * u.gram * E1\n",
    "# The number of moes in 18g of Na is: \n",
    "E2"
   ]
  },
  {
   "cell_type": "code",
   "execution_count": 258,
   "id": "8651f2ff-c6ca-45ab-a684-31299641e42f",
   "metadata": {},
   "outputs": [
    {
     "data": {
      "text/latex": [
       "$\\displaystyle 0.324374028640816 mol$"
      ],
      "text/plain": [
       "0.324374028640816*mol"
      ]
     },
     "execution_count": 258,
     "metadata": {},
     "output_type": "execute_result"
    }
   ],
   "source": [
    "E3 = 1 / (mm.Formula(\"Cl2\").mass * u.gram / mol)\n",
    "E4 = 23 * u.gram * E3\n",
    "# The number of grams in 23g of Cl is: \n",
    "E4"
   ]
  },
  {
   "cell_type": "code",
   "execution_count": 259,
   "id": "571e1709-8a2c-4f62-8b7c-74bce5780cb8",
   "metadata": {},
   "outputs": [
    {
     "data": {
      "text/latex": [
       "$\\displaystyle 0.648748057281632 mol$"
      ],
      "text/plain": [
       "0.648748057281632*mol"
      ]
     },
     "execution_count": 259,
     "metadata": {},
     "output_type": "execute_result"
    }
   ],
   "source": [
    "# The ratio of Na to Cl is 2:1. Set up and equation\n",
    "E5 = sp.Eq(2/1, x / E4)\n",
    "E6 = sp.solve(E5, x)[0]\n",
    "E6"
   ]
  },
  {
   "cell_type": "code",
   "execution_count": 260,
   "id": "505f9f45-3f98-42b4-961f-b6bebe73d8c0",
   "metadata": {},
   "outputs": [
    {
     "data": {
      "text/latex": [
       "$\\displaystyle 0.648748057281633 mol$"
      ],
      "text/plain": [
       "0.648748057281633*mol"
      ]
     },
     "execution_count": 260,
     "metadata": {},
     "output_type": "execute_result"
    }
   ],
   "source": [
    "# 1.29 moles of cl are needed, but there is only .648\n",
    "# There fore, Cl is the limiting reaant\n",
    "# The mole ratio between Cl and NaCL is 1:2\n",
    "# So there must be the following moles of NaCl is all available is used\n",
    "E7 = E4 * 2\n",
    "E7"
   ]
  },
  {
   "cell_type": "code",
   "execution_count": 261,
   "id": "52774bd0-6ebe-4aa6-97af-08676c426c22",
   "metadata": {},
   "outputs": [
    {
     "data": {
      "text/latex": [
       "$\\displaystyle 37.914568157753 \\text{g}$"
      ],
      "text/plain": [
       "37.914568157753*gram"
      ]
     },
     "execution_count": 261,
     "metadata": {},
     "output_type": "execute_result"
    }
   ],
   "source": [
    "# Now convert this amount of grams of NaCl\n",
    "E8 = mm.Formula(\"NaCl\").mass * u.grams / mol\n",
    "E9 = E8 * E7\n",
    "E9"
   ]
  },
  {
   "cell_type": "code",
   "execution_count": 262,
   "id": "70c99353-f4bb-4f00-b0bf-61fbb5d769b0",
   "metadata": {},
   "outputs": [
    {
     "data": {
      "text/html": [
       "AgNO3 + NaCl &rarr; AgCl + NaNO3"
      ],
      "text/plain": [
       "<chempy.chemistry.Reaction at 0x7f5fc157dd00>"
      ]
     },
     "execution_count": 262,
     "metadata": {},
     "output_type": "execute_result"
    }
   ],
   "source": [
    "# Consider the following balanced equation\n",
    "BalanceChemEquation({\"NaCl\", \"AgNO3\"}, {\"AgCl\", \"NaNO3\"})[0]"
   ]
  },
  {
   "cell_type": "code",
   "execution_count": 264,
   "id": "32b49f85-3ede-48b7-8d63-0f1457602bd1",
   "metadata": {},
   "outputs": [
    {
     "data": {
      "text/latex": [
       "$\\displaystyle 0.119775501123381 mol$"
      ],
      "text/plain": [
       "0.119775501123381*mol"
      ]
     },
     "execution_count": 264,
     "metadata": {},
     "output_type": "execute_result"
    }
   ],
   "source": [
    "# There is 7g of NaCl\n",
    "# There is 95g of AnNO3\n",
    "# Find the limiting reagent of the reactant and the theoretical yield\n",
    "x, mol = sp.symbols(\"x mol\")\n",
    "# Find moles of NaCl that is present\n",
    "E1 = 1 / (mm.Formula(\"NaCl\").mass * u.grams / mol)\n",
    "E2 = 7 * u.gram * E1\n",
    "# There is the following amount of moles of NaCl\n",
    "E2"
   ]
  },
  {
   "cell_type": "code",
   "execution_count": 265,
   "id": "5c3687ff-6511-4d69-b5e1-f002606367f3",
   "metadata": {},
   "outputs": [
    {
     "data": {
      "text/latex": [
       "$\\displaystyle 0.559240927101838 mol$"
      ],
      "text/plain": [
       "0.559240927101838*mol"
      ]
     },
     "execution_count": 265,
     "metadata": {},
     "output_type": "execute_result"
    }
   ],
   "source": [
    "# Find the moles of AgNO3 that is present \n",
    "E3 = 1 / (mm.Formula(\"AgNO3\").mass * u.gram / mol)\n",
    "E4 = 95 * u.gram * E3\n",
    "# There is the following mount of moles in AgNO3: \n",
    "E4"
   ]
  },
  {
   "cell_type": "code",
   "execution_count": 269,
   "id": "2a605691-61d2-43fd-b9d0-6bcc3d803bb1",
   "metadata": {},
   "outputs": [
    {
     "data": {
      "text/latex": [
       "$\\displaystyle 17.1663565740541 \\text{g}$"
      ],
      "text/plain": [
       "17.1663565740541*gram"
      ]
     },
     "execution_count": 269,
     "metadata": {},
     "output_type": "execute_result"
    }
   ],
   "source": [
    "# There is not enounh NaCl as they need to be 1:1\n",
    "# Therefore NaCl is the limiting reactant\n",
    "# AgCl can only have .11 moles\n",
    "# Find the amount of AgCl grams\n",
    "E5 = mm.Formula(\"AgCl\").mass * u.gram / mol\n",
    "E6 = E5 * E2\n",
    "# The total yield in grams is: \n",
    "E6"
   ]
  },
  {
   "cell_type": "code",
   "execution_count": 270,
   "id": "8ac9eeb2-6b9f-40eb-a234-33c79db45f74",
   "metadata": {},
   "outputs": [
    {
     "data": {
      "text/html": [
       "CH4 + 2 O2 &rarr; CO2 + 2 H2O"
      ],
      "text/plain": [
       "<chempy.chemistry.Reaction at 0x7f5fc0fa8790>"
      ]
     },
     "execution_count": 270,
     "metadata": {},
     "output_type": "execute_result"
    }
   ],
   "source": [
    "# Problem: Consider the following balanced equation\n",
    "BalanceChemEquation({\"CH4\", \"O2\"}, {\"CO2\", \"H2O\"})[0]"
   ]
  },
  {
   "cell_type": "code",
   "execution_count": 271,
   "id": "c9ed8a7a-a2d9-477a-a2fc-ad3d33dbc9c6",
   "metadata": {},
   "outputs": [
    {
     "data": {
      "text/latex": [
       "$\\displaystyle 0.93501612965158 mol$"
      ],
      "text/plain": [
       "0.93501612965158*mol"
      ]
     },
     "execution_count": 271,
     "metadata": {},
     "output_type": "execute_result"
    }
   ],
   "source": [
    "# There are 15g of CH4\n",
    "# There are 114g of O2\n",
    "# Find these values in moles in order to examine the mole ratio\n",
    "x, mol = sp.symbols('x mol')\n",
    "E1 = 1 / (mm.Formula(\"CH4\").mass * u.grams / mol)\n",
    "E2 = 15 * u.gram * E1\n",
    "# Total moles of CH4 is: \n",
    "E2"
   ]
  },
  {
   "cell_type": "code",
   "execution_count": 272,
   "id": "c357e083-6dfe-434a-9881-d93bfacffc50",
   "metadata": {},
   "outputs": [
    {
     "data": {
      "text/latex": [
       "$\\displaystyle 3.56263248539555 mol$"
      ],
      "text/plain": [
       "3.56263248539555*mol"
      ]
     },
     "execution_count": 272,
     "metadata": {},
     "output_type": "execute_result"
    }
   ],
   "source": [
    "# Find total moes of O2\n",
    "E3 = 1 / (mm.Formula(\"O2\").mass * u.grams / mol)\n",
    "E4 = 114 * u.gram * E3\n",
    "# Total moes in O2\n",
    "E4"
   ]
  },
  {
   "cell_type": "code",
   "execution_count": 274,
   "id": "496a5552-d25f-46a7-9a3a-f727bea7c97d",
   "metadata": {},
   "outputs": [
    {
     "data": {
      "text/latex": [
       "$\\displaystyle 41.1496391087077 \\text{g}$"
      ],
      "text/plain": [
       "41.1496391087077*gram"
      ]
     },
     "execution_count": 274,
     "metadata": {},
     "output_type": "execute_result"
    }
   ],
   "source": [
    "# Note that the amount of CH4, when doubled, only gotes to 1.8, so it is \n",
    "# limititing reagant\n",
    "# Note that this means only 0.9 moles of CO2 could be formed\n",
    "# Find out how many grams this is\n",
    "E5 = mm.Formula(\"CO2\").mass * u.gram / mol\n",
    "E6 = E2 * E5\n",
    "# Total yield is: \n",
    "E6"
   ]
  },
  {
   "cell_type": "code",
   "execution_count": 275,
   "id": "2a42e94a-3612-4405-846a-383142ad2242",
   "metadata": {},
   "outputs": [
    {
     "data": {
      "text/html": [
       "2 HCl + Zn &rarr; H2 + ZnCl2"
      ],
      "text/plain": [
       "<chempy.chemistry.Reaction at 0x7f5fc0f4b100>"
      ]
     },
     "execution_count": 275,
     "metadata": {},
     "output_type": "execute_result"
    }
   ],
   "source": [
    "# Problem: Consider the following balanced equation\n",
    "BalanceChemEquation({\"Zn\", \"HCl\"}, {\"ZnCl2\", \"H2\"})[0]"
   ]
  },
  {
   "cell_type": "code",
   "execution_count": 276,
   "id": "e6bd4267-a70e-47e1-b5a2-193c92b22836",
   "metadata": {},
   "outputs": [
    {
     "data": {
      "text/latex": [
       "$\\displaystyle 0.336494340776996 mol$"
      ],
      "text/plain": [
       "0.336494340776996*mol"
      ]
     },
     "execution_count": 276,
     "metadata": {},
     "output_type": "execute_result"
    }
   ],
   "source": [
    "# There is 22g of Zn\n",
    "# There is 14g of HCl\n",
    "# Find total moles reactant\n",
    "x, mol = sp.symbols(\"x mol\")\n",
    "E1 = 1 / (mm.Formula(\"Zn\").mass * u.gram / mol)\n",
    "E2 = 22 * u.gram * E1\n",
    "# There are the following amount of moles of Zn\n",
    "E2"
   ]
  },
  {
   "cell_type": "code",
   "execution_count": 277,
   "id": "b996e8ca-adbb-4c5b-a7a9-d291069a239f",
   "metadata": {},
   "outputs": [
    {
     "data": {
      "text/latex": [
       "$\\displaystyle 0.383973589638264 mol$"
      ],
      "text/plain": [
       "0.383973589638264*mol"
      ]
     },
     "execution_count": 277,
     "metadata": {},
     "output_type": "execute_result"
    }
   ],
   "source": [
    "# Find total moles of HCl\n",
    "E3 = 1 / (mm.Formula(\"HCl\").mass * u.gram / mol)\n",
    "E4 = 14 * u.gram * E3\n",
    "# There are the following amount of moles in HCl\n",
    "E4"
   ]
  },
  {
   "cell_type": "code",
   "execution_count": 278,
   "id": "78efafdc-b365-4040-837f-f0fa677ce06c",
   "metadata": {},
   "outputs": [
    {
     "data": {
      "text/latex": [
       "$\\displaystyle 0.191986794819132 mol$"
      ],
      "text/plain": [
       "0.191986794819132*mol"
      ]
     },
     "execution_count": 278,
     "metadata": {},
     "output_type": "execute_result"
    }
   ],
   "source": [
    "# There is not enough HCl os react with the Zn - you would need .66\n",
    "# There for HCl the limiting agent\n",
    "# Total mols in ZnCl2 can only be: \n",
    "E5 = E4 / 2\n",
    "E5"
   ]
  },
  {
   "cell_type": "code",
   "execution_count": 279,
   "id": "0817cd4f-fb30-4a67-a0f7-769317bf386a",
   "metadata": {},
   "outputs": [
    {
     "data": {
      "text/latex": [
       "$\\displaystyle 26.1650739213613 \\text{g}$"
      ],
      "text/plain": [
       "26.1650739213613*gram"
      ]
     },
     "execution_count": 279,
     "metadata": {},
     "output_type": "execute_result"
    }
   ],
   "source": [
    "# Find this amount of in grams of ZnCl2\n",
    "E6 = mm.Formula(\"ZnCl2\").mass * u.grams / mol\n",
    "E7 = E6 * E5\n",
    "E7"
   ]
  },
  {
   "cell_type": "code",
   "execution_count": 288,
   "id": "4d356f29-3ae1-4b33-a5c5-b08b6cdfaf7b",
   "metadata": {},
   "outputs": [
    {
     "data": {
      "text/html": [
       "AgNO3 + NaCl &rarr; AgCl + NaNO3"
      ],
      "text/plain": [
       "<chempy.chemistry.Reaction at 0x7f5fc140b430>"
      ]
     },
     "execution_count": 288,
     "metadata": {},
     "output_type": "execute_result"
    }
   ],
   "source": [
    "# Problem: Consider the following balanced equation\n",
    "BalanceChemEquation({\"NaCl\", \"AgNO3\"}, {\"AgCl\", \"NaNO3\"})[0]\n"
   ]
  },
  {
   "cell_type": "code",
   "execution_count": 289,
   "id": "ad4ea4e6-25ea-44af-9184-35a1d8947a51",
   "metadata": {},
   "outputs": [
    {
     "data": {
      "text/latex": [
       "$\\displaystyle 0.0855539293738433 mol$"
      ],
      "text/plain": [
       "0.0855539293738433*mol"
      ]
     },
     "execution_count": 289,
     "metadata": {},
     "output_type": "execute_result"
    }
   ],
   "source": [
    "# There is 5g of NaCl\n",
    "# There is 103g of AgNO3\n",
    "# Find out how many moles of the reactant there are: \n",
    "mol = sp.symbols('mol')\n",
    "E1 = 1 / (mm.Formula(\"NaCl\").mass * u.grams / mol)\n",
    "E2 = 5 * u.gram * E1\n",
    "# Amount of moles in NaCl: \n",
    "E2"
   ]
  },
  {
   "cell_type": "code",
   "execution_count": 290,
   "id": "39355b3a-2399-4aac-afe6-88d127f01e8e",
   "metadata": {},
   "outputs": [
    {
     "data": {
      "text/latex": [
       "$\\displaystyle 0.606334899910414 mol$"
      ],
      "text/plain": [
       "0.606334899910414*mol"
      ]
     },
     "execution_count": 290,
     "metadata": {},
     "output_type": "execute_result"
    }
   ],
   "source": [
    "E3 = 1 / (mm.Formula(\"AgNO3\").mass * u.gram / mol)\n",
    "E4 = 103 * u.gram * E3\n",
    "# Amount of moles in AgNO3\n",
    "E4"
   ]
  },
  {
   "cell_type": "code",
   "execution_count": 292,
   "id": "d0a5828f-9c11-4ade-bb65-448d55b45535",
   "metadata": {},
   "outputs": [
    {
     "data": {
      "text/latex": [
       "$\\displaystyle 12.2616832671815 \\text{g}$"
      ],
      "text/plain": [
       "12.2616832671815*gram"
      ]
     },
     "execution_count": 292,
     "metadata": {},
     "output_type": "execute_result"
    }
   ],
   "source": [
    "# Note ratio is 1:1. So NaCL has less moles, so it is the limiting reagent\n",
    "# Find the mass AgCl and multiply by moles of AgNO3\n",
    "E5 = mm.Formula(\"AgCl\").mass * u.gram / mol\n",
    "E6  = E2 * E5\n",
    "# Total theoretical yield will be: \n",
    "E6"
   ]
  },
  {
   "cell_type": "markdown",
   "id": "ff71a2ca-850e-4640-aaad-2649aede0867",
   "metadata": {},
   "source": []
  },
  {
   "cell_type": "code",
   "execution_count": null,
   "id": "5c731313-6c3c-4d89-85f8-a3380705a4f8",
   "metadata": {},
   "outputs": [],
   "source": []
  }
 ],
 "metadata": {
  "kernelspec": {
   "display_name": "Python 3",
   "language": "python",
   "name": "python3"
  },
  "language_info": {
   "codemirror_mode": {
    "name": "ipython",
    "version": 3
   },
   "file_extension": ".py",
   "mimetype": "text/x-python",
   "name": "python",
   "nbconvert_exporter": "python",
   "pygments_lexer": "ipython3",
   "version": "3.9.2"
  }
 },
 "nbformat": 4,
 "nbformat_minor": 5
}
