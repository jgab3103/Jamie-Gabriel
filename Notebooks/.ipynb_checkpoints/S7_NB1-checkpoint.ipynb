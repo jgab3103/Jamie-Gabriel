{
 "cells": [
  {
   "cell_type": "code",
   "execution_count": 1,
   "id": "6dd866d6-49eb-4efc-94c5-70044517bc26",
   "metadata": {},
   "outputs": [],
   "source": [
    "#!pip install chempy\n",
    "\n",
    "import chempy as ch\n",
    "import numpy as np\n",
    "import sympy as sp\n",
    "import pickle\n",
    "from IPython.display import HTML\n",
    "import ipywidgets as widgets\n",
    "import matplotlib as mpl\n",
    "import matplotlib.pyplot as plt\n",
    "from mpl_toolkits.mplot3d import Axes3D\n",
    "import matplotlib.pyplot as plt\n",
    "mpl.rcParams['legend.fontsize'] = 10\n",
    "import pandas as pd\n",
    "import itertools\n",
    "pd.set_option('display.max_colwidth', None)\n",
    "from sympy.plotting import plot \n",
    "from IPython.display import Image\n",
    "\n",
    "\n",
    "# Render to Latex function \n",
    "def RTL(e):\n",
    "    latex_rendering = []\n",
    "\n",
    "    for i in range(len(e)):\n",
    "        latex_rendering.append(\"$\" + sp.latex(e[i]) + \"$ &nbsp;&nbsp;\")\n",
    "    \n",
    "    return(HTML(\"\".join(latex_rendering[0:])))"
   ]
  },
  {
   "cell_type": "markdown",
   "id": "9807f1a5-06fb-4186-934e-66b5b5f3957c",
   "metadata": {},
   "source": [
    "### Biology Notes\n",
    "\n",
    "\n",
    "\n",
    "- Elements and Atoms\n"
   ]
  },
  {
   "cell_type": "markdown",
   "id": "a98f6d2a-c16f-4861-8fc8-a0ea4fe168fc",
   "metadata": {},
   "source": [
    "#### Elements and Atoms\n",
    "\n",
    "<b>Note</b>. All matter is made of element, and that the periodic table lists differnt types of elements that have different properties\n",
    "\n",
    "<b>Note</b> 1 million carbon atoms across width of average human hair\n",
    "\n",
    "<b>Note</b> atoms made up more more fundamental parts\n",
    "\n",
    "<b>Note</b> there are 103 known elements\n",
    "\n",
    "<b>Note</b> the element is defined by number of <b>Protons</b>"
   ]
  },
  {
   "cell_type": "code",
   "execution_count": null,
   "id": "0f1bb9a7-568c-4d41-b350-146124303dae",
   "metadata": {},
   "outputs": [],
   "source": []
  }
 ],
 "metadata": {
  "kernelspec": {
   "display_name": "Python 3",
   "language": "python",
   "name": "python3"
  },
  "language_info": {
   "codemirror_mode": {
    "name": "ipython",
    "version": 3
   },
   "file_extension": ".py",
   "mimetype": "text/x-python",
   "name": "python",
   "nbconvert_exporter": "python",
   "pygments_lexer": "ipython3",
   "version": "3.9.2"
  }
 },
 "nbformat": 4,
 "nbformat_minor": 5
}
