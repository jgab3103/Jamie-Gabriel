{
 "cells": [
  {
   "cell_type": "markdown",
   "metadata": {},
   "source": [
    "STATUS: Draft"
   ]
  },
  {
   "cell_type": "code",
   "execution_count": 1,
   "metadata": {},
   "outputs": [],
   "source": [
    "import sympy as sp\n",
    "import numpy as np\n",
    "import shared_functions as sf"
   ]
  },
  {
   "cell_type": "markdown",
   "metadata": {},
   "source": [
    "[Proof 3_3_3_i](#3_3_3_i)<br/>\n",
    "<i>Proposition:</i>  \n",
    "The sum of the first n triangular numbers is a pyramidal number and its value can be derived as: \n",
    "\n",
    "$$ T_0+T_1+T_2+\\cdots+T_{n-1}=\\frac{(n-1)n(n+1)}{6}=P_{n-1}.$$\n",
    "\n",
    "<br/><i>Related name: </i> Sum of triangular numbers\n",
    "\n",
    "<hr/>"
   ]
  },
  {
   "cell_type": "code",
   "execution_count": null,
   "metadata": {},
   "outputs": [],
   "source": []
  },
  {
   "cell_type": "code",
   "execution_count": null,
   "metadata": {},
   "outputs": [],
   "source": []
  },
  {
   "cell_type": "code",
   "execution_count": null,
   "metadata": {},
   "outputs": [],
   "source": []
  },
  {
   "cell_type": "code",
   "execution_count": null,
   "metadata": {},
   "outputs": [],
   "source": []
  },
  {
   "cell_type": "markdown",
   "metadata": {},
   "source": [
    "### 3_3_3_i <a class=\"anchor\" id=\"3_3_3_i\"></a>\n",
    "<i>Proposition:</i>  \n",
    "The sum of the first n triangular numbers is a pyramidal number and its value can be derived as: \n",
    "\n",
    "$$ T_0+T_1+T_2+\\cdots+T_{n-1}=\\frac{(n-1)n(n+1)}{6}=P_{n-1}.$$\n",
    "\n",
    "<br/><i>Related name: </i> Maximum of triangular signed area on a parabola"
   ]
  },
  {
   "cell_type": "code",
   "execution_count": null,
   "metadata": {},
   "outputs": [],
   "source": []
  }
 ],
 "metadata": {
  "kernelspec": {
   "display_name": "SageMath 9.0",
   "language": "sage",
   "name": "sagemath"
  },
  "language_info": {
   "codemirror_mode": {
    "name": "ipython",
    "version": 3
   },
   "file_extension": ".py",
   "mimetype": "text/x-python",
   "name": "python",
   "nbconvert_exporter": "python",
   "pygments_lexer": "ipython3",
   "version": "3.7.3"
  }
 },
 "nbformat": 4,
 "nbformat_minor": 4
}
