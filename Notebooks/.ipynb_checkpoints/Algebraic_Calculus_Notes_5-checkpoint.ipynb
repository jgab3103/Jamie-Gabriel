{
 "cells": [
  {
   "cell_type": "code",
   "execution_count": 28,
   "metadata": {},
   "outputs": [],
   "source": [
    "import numpy as np\n",
    "import shared_functions as sf\n",
    "import sympy as sp\n",
    "from IPython.display import HTML\n",
    "import matplotlib.pyplot as plt"
   ]
  },
  {
   "cell_type": "markdown",
   "metadata": {},
   "source": [
    "In the last notebook we generalised the formula to an arbitrary polynomials, that we could create, and put an abitrary polygon on this curve and calcuate its area, getting to power of the Meister formula. Again, let's pull our functions across into the new notebook."
   ]
  },
  {
   "cell_type": "markdown",
   "metadata": {},
   "source": [
    "At this point, its worth introducing and formalising some of data structures that we will be really helpful to us as go forward. There are four main data structures that we should be aware of which are a little different and we will start seeing them more as we go forward. The good news is that they are very straight forward, just pertaining to groups of objects and how we can classify them. The 4 structures are.\n",
    "\n",
    "<b>List:</b> An ordered structure in which repetitions are allowed\n",
    "<br/>\n",
    "<i>Order allowed: </i> Yes\n",
    "<br/><i>Repetiion allowed: </i> Yes\n",
    "<br/> <i>Examples: </i> [3,4,5,6], [3, 3, 3, 3]\n",
    "\n",
    "\n",
    "<b>Ordered set:</b> An ordered structure in which repetitions are not allowed\n",
    "<br/>\n",
    "<i>Order allowed: </i> Yes\n",
    "<br/><i>Repetition allowed: </i> No\n",
    "<br/> <i>Examples: </i> {3,4,5,6}, {6, 7, 8}\n",
    "\n",
    "\n",
    "<b>Multi Set:</b> An unordered structure in which repetitions are allowed\n",
    "<br/>\n",
    "<i>Order allowed: </i> No\n",
    "<br/><i>Repetition allowed: </i> Yes\n",
    "<br/> <i>Examples: </i> [3 4 4 5], [6 5 6 7]\n",
    "\n",
    "\n",
    "<b>Set:</b> An unordered structure in which repetitions are not allowed\n",
    "<br/>\n",
    "<i>Order allowed: </i> No\n",
    "<br/><i>Repetition allowed: </i> No\n",
    "<br/> <i>Examples: </i> {3 4 5 6}\n",
    "\n",
    "\n",
    "To help you remember this, I think of list being at one end of the spectrum (order and repetitition) and set being at the other end (no order, no repetitition). Note also there is a notation convention here: [] means that repetitions are allowed, \",\" means that order is allowed.  \n",
    "\n",
    "\n",
    "Finally, there is one more structure to be aware of, which is a variation on a list or ordered set, called a <b>Cyclic data structures</b>. Order is enforced and repetitions allowed where also cyclic rotation of the elements is allowed. Note the use of an the angle brackets for notation\n",
    "\n",
    "$$  C=\\langle [4,5,4,3,3] \\rangle= \\langle [5,4,3,3,4] \\rangle=\\langle [4,3,3,4,5] \\rangle=\\langle [3,3,4,5,4] \\rangle=\\langle [3,4,5,4,3] \\rangle .$$\n",
    "\n",
    "As we go forward, we will come across these structures in different situations so its handy to formalise nomenclature and now\n"
   ]
  },
  {
   "cell_type": "markdown",
   "metadata": {},
   "source": [
    "<hr/>\n",
    "So far we have been constructing triangles, quadrilaterals and polygons and exploring the signed area. But it's worth noting that we are constructing these things from a series of orientated sides, and each side has its own signed area. And this leads to the interesting extension of the notion of area, that we think of area in which we have structures such as triangles, quadrilaterals etc, but also we can also think of these sides as into paths (or edges) leading to other sides. We can visualise the idea like this: "
   ]
  },
  {
   "cell_type": "code",
   "execution_count": 49,
   "metadata": {},
   "outputs": [
    {
     "data": {
      "text/plain": [
       "[<matplotlib.lines.Line2D object at 0x7f1a674b6a90>]"
      ]
     },
     "execution_count": 49,
     "metadata": {},
     "output_type": "execute_result"
    },
    {
     "data": {
      "image/png": "[encoded data removed]",
      "text/plain": [
       "<Figure size 432x288 with 1 Axes>"
      ]
     },
     "metadata": {},
     "output_type": "display_data"
    }
   ],
   "source": [
    "points_choice = np.array([[0,0], [1,4], [3,4], [2,2], [4,3], [5,0]])\n",
    "x_coords = [e[0] for e in points_choice]\n",
    "y_coords = [e[1] for e in points_choice]\n",
    "plt.arrow(0, 0, .5, 2, shape='full', lw=0, length_includes_head=True, head_width=.2)\n",
    "plt.arrow(1, 4, 1, 0, shape='full', lw=0, length_includes_head=True, head_width=.2)\n",
    "plt.arrow(3, 4, -.5, -1, shape='full', lw=0, length_includes_head=True, head_width=.2)\n",
    "plt.arrow(2, 2, 1, .5, shape='full', lw=0, length_includes_head=True, head_width=.2)\n",
    "plt.arrow(4, 3, .5, -1.5, shape='full', lw=0, length_includes_head=True, head_width=.2)\n",
    "plt.plot(x_coords, y_coords, 'b')\n",
    "plt.plot(x_coords, y_coords, 'ro')"
   ]
  },
  {
   "cell_type": "markdown",
   "metadata": {},
   "source": [
    "To explore this we will introduce some new geometrical objects: <b>Oriented Edges</b> and <b>Polygonal Splines</b>. \n",
    "\n",
    "An oriented edge is a <i>List</i> of affine points. It is functionally the same as an orientated side and can be treated the same in regard to signed area. So if we have means that for 2 general affine points, $A = [a, b]$ and $B = [c, d]$, we can construct orientated edges and calculate thier areas, and the properties we would expect will hold such as:  \n",
    "$$s(\\overrightarrow{AA})=\\frac12(ab-ba)=0.$$ and $$s(\\overrightarrow{BA})=\\frac 12 (cb-ad)=-\\frac 12 (ad-bc)=-s(\\overrightarrow{AB})$$ \n",
    "\n",
    "In the same way a polygon can be seen as a group of orientated sides, an orientated polygonal spline (OPS) can be seen as a group of oreintated edges. For example if we have te following orientated edges, $\\overrightarrow{AB},\\overrightarrow{BC},\\overrightarrow{CD},\\overrightarrow{DD}$, and $\\overrightarrow{DC}$, formed by the points $A, B, C$ and $D$, we can also form the orientated polygonal spline from these edges, and could write it as:  $\\overrightarrow{ABCDDC}$. Notice the the point D repeats: these structures are best intuited as somethign like a directed acyclical graph, rather than a polygon, so the repetitiion of points is fine. Note this structure also has a cyclic version,  $\\overleftrightarrow{ABCDDC}$ can be $\\overrightarrow{AB},\\overrightarrow{BC},\\overrightarrow{CD},\\overrightarrow{DD},\\overrightarrow{DC},\\overrightarrow{CA}$"
   ]
  },
  {
   "cell_type": "markdown",
   "metadata": {},
   "source": [
    "It's also worth noting that you can think of the orientated edges in a COPS as unbounded: its just keeps on going around around. \n",
    "\n",
    "Before going, let's update our functions a little. When we have been using Meister's formula for the area of polygons, we have been assuming that it is cyclic, but the signed area of an OPS is actually different to a COPS. Let's amend the code by adding an <code>is_cyclic</code> argument to explcitly dealing whether we are are evaluating and cyclical orientated polygonal spline or an orientated polygonal spline, and work through and example "
   ]
  },
  {
   "cell_type": "code",
   "execution_count": 65,
   "metadata": {},
   "outputs": [],
   "source": [
    "def compute_cross_product_from_two_points(points_list):\n",
    "    c = points_list[0][0] * points_list[1][1] - points_list[0][1] * points_list[1][0]\n",
    "    return(c)\n",
    "\n",
    "def compute_signed_area_from_two_points(points_list):\n",
    "    c = compute_cross_product_from_two_points(points_list)\n",
    "    signed_area = c / 2\n",
    "    return(signed_area)\n",
    "\n",
    "def compute_signed_area_using_meisters_formula(points_list, is_cyclic):\n",
    "\n",
    "    total_signed_area = 0\n",
    "    for each_point in range(len(points_list) - 1):\n",
    "        signed_area = compute_signed_area_of_triangle_from_two_points([points_list[each_point], points_list[each_point + 1]])\n",
    "        #print(\"Signed area of oriented side \", str(each_point + 1), \": \", points_list[each_point], points_list[each_point + 1], \": \", signed_area)\n",
    "        total_signed_area = total_signed_area + signed_area\n",
    "    \n",
    "    if is_cyclic:\n",
    "        final_signed_area = compute_signed_area_of_triangle_from_two_points([points_list[-1], points_list[0]])\n",
    "    #print(\"Signed area of oriented side \", str(len(points_list)), \": \", points_list[-1], points_list[0], \": \", final_signed_area)\n",
    "        total_signed_area = total_signed_area + final_signed_area\n",
    "        \n",
    "    #print(\"Total signed area is: \", total_signed_area)\n",
    "    \n",
    "    return(total_signed_area)"
   ]
  },
  {
   "cell_type": "markdown",
   "metadata": {},
   "source": [
    "For orenated edges, if we construct, but a slight change happens here"
   ]
  },
  {
   "cell_type": "code",
   "execution_count": 68,
   "metadata": {},
   "outputs": [
    {
     "name": "stdout",
     "output_type": "stream",
     "text": [
      "3.0\n",
      "0.5\n",
      "6.0\n",
      "4.0\n",
      "3.0\n"
     ]
    }
   ],
   "source": [
    "A = np.array([3, -1])\n",
    "B = np.array([0, 2])\n",
    "C = np.array([-1, 1])\n",
    "D = np.array([0, -1])\n",
    "\n",
    "print(compute_signed_area_from_two_points([A, B]))\n",
    "print(compute_signed_area_from_two_points([C, D]))\n",
    "print(compute_signed_area_using_meisters_formula([A, B, C, D], is_cyclic = True))\n",
    "print(compute_signed_area_using_meisters_formula([A, B, C, B, B, C], is_cyclic=False))\n",
    "print(compute_signed_area_using_meisters_formula([A, B, C, B, B, C], is_cyclic = True))\n"
   ]
  },
  {
   "cell_type": "markdown",
   "metadata": {},
   "source": [
    "Note that signed area behaves, if we have a point constructed from any kind of parameterisation, such as quadratic we can create and build "
   ]
  },
  {
   "cell_type": "code",
   "execution_count": null,
   "metadata": {},
   "outputs": [],
   "source": []
  },
  {
   "cell_type": "code",
   "execution_count": 86,
   "metadata": {},
   "outputs": [],
   "source": []
  },
  {
   "cell_type": "code",
   "execution_count": 94,
   "metadata": {},
   "outputs": [
    {
     "name": "stdout",
     "output_type": "stream",
     "text": [
      "8.0\n",
      "164.5\n"
     ]
    }
   ],
   "source": [
    "v = [np.array([i, (i + 1)^2]) for i in range(99)]\n",
    "print(compute_signed_area_using_meisters_formula([v[0], v[1], v[2], v[3], v[4]], is_cyclic=False))\n",
    "print(compute_signed_area_using_meisters_formula([v[9], v[10], v[11], v[12]], is_cyclic=False))"
   ]
  },
  {
   "cell_type": "code",
   "execution_count": null,
   "metadata": {},
   "outputs": [],
   "source": []
  }
 ],
 "metadata": {
  "kernelspec": {
   "display_name": "SageMath 9.0",
   "language": "sage",
   "name": "sagemath"
  },
  "language_info": {
   "codemirror_mode": {
    "name": "ipython",
    "version": 3
   },
   "file_extension": ".py",
   "mimetype": "text/x-python",
   "name": "python",
   "nbconvert_exporter": "python",
   "pygments_lexer": "ipython3",
   "version": "3.7.3"
  }
 },
 "nbformat": 4,
 "nbformat_minor": 4
}
