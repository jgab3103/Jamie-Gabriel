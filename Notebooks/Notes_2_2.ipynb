{
 "cells": [
  {
   "cell_type": "code",
   "execution_count": 19,
   "metadata": {},
   "outputs": [],
   "source": [
    "import numpy as np\n",
    "import shared_functions as sf\n",
    "import sympy as sp\n",
    "from IPython.display import HTML\n",
    "#HTML('<iframe src=\"https://www.geogebra.org/classic/bewyhuu6?embed\" width=\"600\" height=\"400\" allowfullscreen style=\"border: 1px solid #e4e4e4;border-radius: 4px;\" frameborder=\"0\"></iframe>')"
   ]
  },
  {
   "cell_type": "markdown",
   "metadata": {},
   "source": [
    "<b>Geometry</b><br/>\n",
    "There is not just one geometry, there are many! This is a powerful idea and really comes down to a notion that when we build up a geometry of some kind, we can choose to use more or less foundational constraints, and these will determine what is and is not possible in a given geometry's operations. And what do we mean by constraints? Well, should a given geometry allow a notion of parallelism?  Should it allow a notion of incidence between lines and points? And what aout perpendicularity? And angles? The way we set up a geometry will determine the kinds of operations we can do. \n",
    "\n",
    "So just what are these geometries? Well, there is Projective Geometry, Euclidean Geometry, Relativistic Geometry, Spherical Geometry and Hyperbolic Geometry. But one of the simplest (and simplest I here mean having least constraints) dates all the way back to the nineteenth century, Affine Geometry. Affine geometry makes very assumptions, really that it is possible to construct equidistant parallel lines. From this fact comes an idea of points, lines, it doesn't have a notion of perpendicularity or distance. \n",
    "\n",
    "Being a more, fundamental geometry, makes Affine Geometry a good candicate for foundational work. For if it is possible prove things in such a general environemtn (where perpendicularity and distance is not possible), these ideas can then be translated to other geometries. It is simplicity, Affine Geometry is the geometry of linear algebra \n",
    "\n",
    "From here, assumpions to build foundations of Integral Calculus? Can we move baway from forumals of base and highet, metrical formulas, perpendicularity and distance, less sophisticated framework possible? Can we build the most general construct of Integral Calculus that can then be applied in these ther geometries, \n",
    "\n",
    "<b>Area</b><br/>\n",
    "The fundamental problem of area. But you create a notion of area of perpendicular, distance and and quadrance. But te notion of area can also be far more general. In fact, the notion of area is already implicit in affine geom. If you can establish parallellism, you get a notino of area - calculus is already at intro level of affine geom, we can establish it at this lower level\n",
    "\n",
    "This suggests that affine, we start with 2 lines. , consider parallel lines, create aa seriies of parallel lines in differnt directions, when we do, we end up with paralleloggrams, translate to other parallelloogram, we can compare areas. It is still a construction fo some kind, \n",
    "\n",
    "<b>Data Structures found the Affine Plane</b><br/>\n",
    "\n",
    "So in the affine plane, there are certain objects that we have \n",
    "\n",
    "- side: AB = {A B} - set of two affine points - note nothing algebraicaly beyond\n",
    "- oriented side AB - {A, B} ordered set of tow points \n",
    "\n",
    "vectors are moveable, sides are not. \n",
    "\n",
    "Oriented side - starts from e, goes to f...so these are 3 different ways to creates structure from two points, we have definitions, we sybolic represetnation\n",
    "\n",
    "Data Structures - comma means ordered structure  so combining two points - Side, Vector, orientated side\n",
    "\n",
    "\n",
    "So what about triangle - set {A B C} - order does not matter - note idea of segment is just a visualisation. Note triangle is not infinite set of points, not even lines, visualise different\n",
    "\n",
    "Traingle ABC has 3 sides AB, AC and BC, 3 subsets of ABC\n",
    "\n",
    "Also orientated trianlge, ordered set, cyclically ordered - ABC = BCA = CAB\n",
    "\n",
    "Orientated triangle ABC has orientated sides AB, BC and CA\n",
    "\n",
    "Note oreintated can be reversed - different orientated triangle - orientated triangle key thing for area\n",
    "\n",
    "Crucial area formula upon which algebraic calc\n",
    "\n",
    "Special case, core case, SOAB = 1/2(ad - bc) - specific OAB  - half the determinant - crucial that can be positive negative or 0\n",
    "\n",
    "This correspond with euclidian area expect with sign, more general\n",
    "\n",
    "If we are working with signed area, we will need to start out with some functions, points, vectorsLet's start with some functions that we will need. Nothing too complicated going on here. We will run into issues around points and vectors, construct a vector from 2 points, not the other way around. \n",
    "\n",
    "Start with some basic functions - 3 times are of another object, can compare arbitrary region....\n"
   ]
  },
  {
   "cell_type": "code",
   "execution_count": 2,
   "metadata": {},
   "outputs": [],
   "source": [
    "\n",
    "def compute_vector_from_2_points(points_list):\n",
    "    v = np.array([points_list[1][0] - points_list[0][0], points_list[1][1] - points_list[0][1]])\n",
    "    return(v)\n",
    "             \n",
    "def compute_cross_product_from_two_vectors(vector_list):\n",
    "    c = vector_list[0][0] * vector_list[1][1] - vector_list[0][1] * vector_list[1][0]\n",
    "    return(c)\n",
    "\n",
    "def compute_signed_area_of_triangle_from_two_vectors(vector_list):\n",
    "    c = compute_cross_product_from_two_vectors(vector_list)\n",
    "    signed_area = c / 2\n",
    "    return(signed_area)"
   ]
  },
  {
   "cell_type": "code",
   "execution_count": 3,
   "metadata": {},
   "outputs": [],
   "source": [
    "# Now some points\n",
    "A = np.array([4,0])\n",
    "B = np.array([4, 4])\n",
    "C = np.array([6, 4])\n",
    "D = np.array([6, 0])\n",
    "O = np.array([0, 0])\n",
    "\n",
    "\n",
    "# A = np.array([0, 3])\n",
    "# B = np.array([0, 0])\n",
    "# C = np.array([3, 3])\n",
    "# D = np.array([3, 0])\n",
    "# O = np.array([0, 0])"
   ]
  },
  {
   "cell_type": "markdown",
   "metadata": {},
   "source": [
    "Let's create some vectors from these points, because anything to do with signed area needs the notion of vectors, and cross products, operating on vectors. \n",
    "\n",
    "I am going to put all the combinations down"
   ]
  },
  {
   "cell_type": "code",
   "execution_count": null,
   "metadata": {},
   "outputs": [],
   "source": []
  }
 ],
 "metadata": {
  "kernelspec": {
   "display_name": "SageMath 9.0",
   "language": "sage",
   "name": "sagemath"
  },
  "language_info": {
   "codemirror_mode": {
    "name": "ipython",
    "version": 3
   },
   "file_extension": ".py",
   "mimetype": "text/x-python",
   "name": "python",
   "nbconvert_exporter": "python",
   "pygments_lexer": "ipython3",
   "version": "3.7.3"
  }
 },
 "nbformat": 4,
 "nbformat_minor": 4
}
