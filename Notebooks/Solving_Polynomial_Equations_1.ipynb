{
 "cells": [
  {
   "cell_type": "markdown",
   "metadata": {},
   "source": [
    "\n",
    "<div>These notes are based on Prof. Norman Wildberger's YouTube video on Polynomial Equations found <a href=\"https://www.youtube.com/watch?v=XHC1YLh67Z0&list=PLzdiPTrEWyz7hk_Kzj4zDF_kUXBCtiGn6&index=1\">here</a>. They are being hosted at <a href=\"https://www.ladatavita.com/\">ladatavita.com</a> and available from my Github repo at: <a href=\"https://github.com/jgab3103/Jamie-Gabriel\">https://github.com/jgab3103/Jamie-Gabriel</a></div>"
   ]
  },
  {
   "cell_type": "markdown",
   "metadata": {},
   "source": [
    "### Solving Polynomial Equations: 1"
   ]
  },
  {
   "cell_type": "code",
   "execution_count": 1,
   "metadata": {},
   "outputs": [],
   "source": [
    "import sympy as sp\n",
    "from IPython.core.display import HTML"
   ]
  },
  {
   "cell_type": "markdown",
   "metadata": {},
   "source": [
    "<div>This video introduces the idea of finding roots of polynomials, and takes us on a tour with examples of the more classical ways that polynomials can be solved (meaning via the work of del Ferro, Tataglia, Cardano). Things start out simple enough, but we quickly see that finding roots of equations beyond the quadratic case (such as cubic, quartic etc.) can become difficult indeed.</div>"
   ]
  },
  {
   "cell_type": "markdown",
   "metadata": {},
   "source": [
    "Start by creating some variables:"
   ]
  },
  {
   "cell_type": "code",
   "execution_count": 2,
   "metadata": {},
   "outputs": [],
   "source": [
    "a, b, x = sp.symbols('a, b, x')"
   ]
  },
  {
   "cell_type": "markdown",
   "metadata": {},
   "source": [
    "Now create a very simple equation and get a solution:"
   ]
  },
  {
   "cell_type": "code",
   "execution_count": 3,
   "metadata": {},
   "outputs": [
    {
     "data": {
      "text/latex": [
       "$\\displaystyle a + b x = 0$"
      ],
      "text/plain": [
       "Eq(a + b*x, 0)"
      ]
     },
     "execution_count": 3,
     "metadata": {},
     "output_type": "execute_result"
    }
   ],
   "source": [
    "r1 = sp.Eq(a + b*x, 0)\n",
    "r1"
   ]
  },
  {
   "cell_type": "code",
   "execution_count": 4,
   "metadata": {},
   "outputs": [
    {
     "data": {
      "text/latex": [
       "$\\displaystyle - \\frac{a}{b}$"
      ],
      "text/plain": [
       "-a/b"
      ]
     },
     "execution_count": 4,
     "metadata": {},
     "output_type": "execute_result"
    }
   ],
   "source": [
    "s1 = sp.solve(r1, x)[0]\n",
    "s1"
   ]
  },
  {
   "cell_type": "markdown",
   "metadata": {},
   "source": [
    "No issues so far! Time to examine something slightly more complicated:"
   ]
  },
  {
   "cell_type": "code",
   "execution_count": 5,
   "metadata": {},
   "outputs": [
    {
     "data": {
      "text/latex": [
       "$\\displaystyle 5 x^{2} - 3 x + 2 = 0$"
      ],
      "text/plain": [
       "Eq(5*x**2 - 3*x + 2, 0)"
      ]
     },
     "execution_count": 5,
     "metadata": {},
     "output_type": "execute_result"
    }
   ],
   "source": [
    "r2 = sp.Eq(2 - 3 * x + 5*x^2, 0)\n",
    "r2"
   ]
  },
  {
   "cell_type": "markdown",
   "metadata": {},
   "source": [
    "Now lets solve it: "
   ]
  },
  {
   "cell_type": "code",
   "execution_count": 6,
   "metadata": {},
   "outputs": [
    {
     "name": "stdout",
     "output_type": "stream",
     "text": [
      "⎡3    √31⋅ⅈ  3    √31⋅ⅈ⎤\n",
      "⎢── - ─────, ── + ─────⎥\n",
      "⎣10     10   10     10 ⎦\n"
     ]
    }
   ],
   "source": [
    "s2 = sp.solve(r2, x)\n",
    "sp.pretty_print(s2)\n",
    "# SymPy Note:Note also that SymPy often provides a a nice latex output, but this doesn't happen with lists of solutions, so we will use \n",
    "# the SymPy pretty_print function"
   ]
  },
  {
   "cell_type": "markdown",
   "metadata": {},
   "source": [
    "So finding the roots for this is starting to get difficult - and the roots have complex numbers! \n",
    "<br/>"
   ]
  },
  {
   "cell_type": "markdown",
   "metadata": {},
   "source": [
    "Note that the complex numbers arise because of the nature of the discriminant in a quadratic equation. If it is negative, \n",
    "we will be dealing with negative square roots. Let's verify this on the quadratic equation by using SymPy discriminant function:"
   ]
  },
  {
   "cell_type": "code",
   "execution_count": 7,
   "metadata": {},
   "outputs": [
    {
     "data": {
      "text/latex": [
       "$\\displaystyle \\text{True}$"
      ],
      "text/plain": [
       "True"
      ]
     },
     "execution_count": 7,
     "metadata": {},
     "output_type": "execute_result"
    }
   ],
   "source": [
    "sp.discriminant(r2) < 0"
   ]
  },
  {
   "cell_type": "markdown",
   "metadata": {},
   "source": [
    "We could of course avoid this complex roots issues by just ensuring we don't get a negative discriminant (although this will not get us very far!): "
   ]
  },
  {
   "cell_type": "code",
   "execution_count": 8,
   "metadata": {},
   "outputs": [
    {
     "data": {
      "text/latex": [
       "$\\displaystyle 5 x^{2} - 9 x + 2 = 0$"
      ],
      "text/plain": [
       "Eq(5*x**2 - 9*x + 2, 0)"
      ]
     },
     "execution_count": 8,
     "metadata": {},
     "output_type": "execute_result"
    }
   ],
   "source": [
    "r3 = sp.Eq(2 - 9 * x + 5*x^2, 0)\n",
    "r3"
   ]
  },
  {
   "cell_type": "markdown",
   "metadata": {},
   "source": [
    "We get the following solution: "
   ]
  },
  {
   "cell_type": "code",
   "execution_count": 9,
   "metadata": {},
   "outputs": [
    {
     "name": "stdout",
     "output_type": "stream",
     "text": [
      "⎡⎧   9    √41⎫  ⎧   √41   9 ⎫⎤\n",
      "⎢⎨x: ── - ───⎬, ⎨x: ─── + ──⎬⎥\n",
      "⎣⎩   10    10⎭  ⎩    10   10⎭⎦\n"
     ]
    }
   ],
   "source": [
    "s3 = sp.solve(r3, x, dict=True)\n",
    "sp.pretty_print(s3)"
   ]
  },
  {
   "cell_type": "markdown",
   "metadata": {},
   "source": [
    "Even without the complex numbers, we still see solutions in standard form involving surds, coming from the applictation of the quadratic formula. The problem with surds is that we often cannot get from them to a complete solution. Think of it this as the $ \\sqrt{2} $ problem, where we have not really got an answer, but a label for an algorithm that can be run forever and will only ever provide an approximation. \n",
    "<br/><br/>\n",
    "Let's see this approximation in action, and generate a numerical solution that is an approximation to a limited number of places: \n"
   ]
  },
  {
   "cell_type": "code",
   "execution_count": 10,
   "metadata": {},
   "outputs": [
    {
     "name": "stdout",
     "output_type": "stream",
     "text": [
      "0.259687576256715\n",
      "1.54031242374328\n"
     ]
    },
    {
     "data": {
      "text/plain": [
       "[None, None]"
      ]
     },
     "execution_count": 10,
     "metadata": {},
     "output_type": "execute_result"
    }
   ],
   "source": [
    "[print(i[x].n()) for i in s3]"
   ]
  },
  {
   "cell_type": "markdown",
   "metadata": {},
   "source": [
    "So it seems that for many quadratics, we cannot solve them beyond getting a numerical approximation. <br/><br/>\n",
    "And things only get messier when we look at cubics:"
   ]
  },
  {
   "cell_type": "code",
   "execution_count": 11,
   "metadata": {},
   "outputs": [
    {
     "data": {
      "text/latex": [
       "$\\displaystyle 4 x^{3} - 2 x^{2} + x + 3 = 0$"
      ],
      "text/plain": [
       "Eq(4*x**3 - 2*x**2 + x + 3, 0)"
      ]
     },
     "execution_count": 11,
     "metadata": {},
     "output_type": "execute_result"
    }
   ],
   "source": [
    "r4 = sp.Eq(3 + x - 2 * x^2 + 4 * x^3, 0)\n",
    "r4"
   ]
  },
  {
   "cell_type": "markdown",
   "metadata": {},
   "source": [
    "We can solve it using a formula, and get a numerical approximation, but again, it doesn't give a precise answer:"
   ]
  },
  {
   "cell_type": "code",
   "execution_count": 12,
   "metadata": {},
   "outputs": [
    {
     "name": "stdout",
     "output_type": "stream",
     "text": [
      "0.597298399134921 + 0.850292734117196*I\n",
      "0.597298399134921 - 0.850292734117196*I\n",
      "-0.694596798269842\n"
     ]
    },
    {
     "data": {
      "text/plain": [
       "[None, None, None]"
      ]
     },
     "execution_count": 12,
     "metadata": {},
     "output_type": "execute_result"
    }
   ],
   "source": [
    "s4 = sp.solve(r4, x, dict=True)\n",
    "[print(i[x].n()) for i in s4]"
   ]
  },
  {
   "cell_type": "markdown",
   "metadata": {},
   "source": [
    "Looking at the answer in terms of surds and complex numbers really starts to make things look complicated. This equation has 3 solutions, 2 complex and 1 real, and we can only know them approximately and find ourselves looking at this kind or representation:"
   ]
  },
  {
   "cell_type": "code",
   "execution_count": 13,
   "metadata": {},
   "outputs": [
    {
     "name": "stdout",
     "output_type": "stream",
     "text": [
      "⎡⎧                                                            ______________⎫ \n",
      "⎢⎪                                           ⎛  1   √3⋅ⅈ⎞    ╱ 169   9⋅√353 ⎪ \n",
      "⎢⎪                                           ⎜- ─ - ────⎟⋅3 ╱  ─── + ────── ⎪ \n",
      "⎢⎪   1                   1                   ⎝  2    2  ⎠ ╲╱    16     16   ⎪ \n",
      "⎢⎨x: ─ + ───────────────────────────────── - ───────────────────────────────⎬,\n",
      "⎢⎪   6                      ______________                  3               ⎪ \n",
      "⎢⎪         ⎛  1   √3⋅ⅈ⎞    ╱ 169   9⋅√353                                   ⎪ \n",
      "⎢⎪       6⋅⎜- ─ - ────⎟⋅3 ╱  ─── + ──────                                   ⎪ \n",
      "⎣⎩         ⎝  2    2  ⎠ ╲╱    16     16                                     ⎭ \n",
      "\n",
      " ⎧                        ______________                                    ⎫ \n",
      " ⎪       ⎛  1   √3⋅ⅈ⎞    ╱ 169   9⋅√353                                     ⎪ \n",
      " ⎪       ⎜- ─ + ────⎟⋅3 ╱  ─── + ──────                                     ⎪ \n",
      " ⎪   1   ⎝  2    2  ⎠ ╲╱    16     16                      1                ⎪ \n",
      " ⎨x: ─ - ─────────────────────────────── + ─────────────────────────────────⎬,\n",
      " ⎪   6                  3                                     ______________⎪ \n",
      " ⎪                                           ⎛  1   √3⋅ⅈ⎞    ╱ 169   9⋅√353 ⎪ \n",
      " ⎪                                         6⋅⎜- ─ + ────⎟⋅3 ╱  ─── + ────── ⎪ \n",
      " ⎩                                           ⎝  2    2  ⎠ ╲╱    16     16   ⎭ \n",
      "\n",
      " ⎧         ______________                           ⎫⎤\n",
      " ⎪        ╱ 169   9⋅√353                            ⎪⎥\n",
      " ⎪     3 ╱  ─── + ──────                            ⎪⎥\n",
      " ⎪     ╲╱    16     16               1             1⎪⎥\n",
      " ⎨x: - ────────────────── + ──────────────────── + ─⎬⎥\n",
      " ⎪             3                  ______________   6⎪⎥\n",
      " ⎪                               ╱ 169   9⋅√353     ⎪⎥\n",
      " ⎪                          6⋅3 ╱  ─── + ──────     ⎪⎥\n",
      " ⎩                            ╲╱    16     16       ⎭⎦\n"
     ]
    }
   ],
   "source": [
    "sp.pretty_print(s4)"
   ]
  },
  {
   "cell_type": "markdown",
   "metadata": {},
   "source": [
    "Lets have a look at higher order equations:"
   ]
  },
  {
   "cell_type": "code",
   "execution_count": 14,
   "metadata": {},
   "outputs": [
    {
     "data": {
      "text/latex": [
       "$\\displaystyle - x^{4} + 5 x^{3} - 2 x^{2} + x + 3 = 0$"
      ],
      "text/plain": [
       "Eq(-x**4 + 5*x**3 - 2*x**2 + x + 3, 0)"
      ]
     },
     "execution_count": 14,
     "metadata": {},
     "output_type": "execute_result"
    }
   ],
   "source": [
    "r5 = sp.Eq(3 + x - 2 * x^2 + 5 * x^3 - x^4, 0)\n",
    "r5"
   ]
  },
  {
   "cell_type": "code",
   "execution_count": 15,
   "metadata": {},
   "outputs": [
    {
     "name": "stdout",
     "output_type": "stream",
     "text": [
      "0.5 - 0.866025403784439*I\n",
      "0.5 + 0.866025403784439*I\n",
      "-0.645751311064591\n",
      "4.64575131106459\n"
     ]
    },
    {
     "data": {
      "text/plain": [
       "[None, None, None, None]"
      ]
     },
     "execution_count": 15,
     "metadata": {},
     "output_type": "execute_result"
    }
   ],
   "source": [
    "s5 = sp.solve(r5, x, dict=True)\n",
    "[print(i[x].n()) for i in s5]"
   ]
  },
  {
   "cell_type": "code",
   "execution_count": 16,
   "metadata": {},
   "outputs": [
    {
     "name": "stdout",
     "output_type": "stream",
     "text": [
      "⎡⎧   1   √3⋅ⅈ⎫  ⎧   1   √3⋅ⅈ⎫                          ⎤\n",
      "⎢⎨x: ─ - ────⎬, ⎨x: ─ + ────⎬, {x: 2 - √7}, {x: 2 + √7}⎥\n",
      "⎣⎩   2    2  ⎭  ⎩   2    2  ⎭                          ⎦\n"
     ]
    }
   ],
   "source": [
    "sp.pretty_print(s5)"
   ]
  },
  {
   "cell_type": "markdown",
   "metadata": {},
   "source": [
    "So, sometimes it looks like, as the leading coefficient term gets higher things do not get more complicated? Though the above example still has surds and complex numbers. \n",
    "<br/><br/>\n",
    "Here is another example: "
   ]
  },
  {
   "cell_type": "code",
   "execution_count": 17,
   "metadata": {},
   "outputs": [
    {
     "data": {
      "text/latex": [
       "$\\displaystyle - 7 x^{4} + 5 x^{3} - 2 x^{2} + x + 3 = 0$"
      ],
      "text/plain": [
       "Eq(-7*x**4 + 5*x**3 - 2*x**2 + x + 3, 0)"
      ]
     },
     "execution_count": 17,
     "metadata": {},
     "output_type": "execute_result"
    }
   ],
   "source": [
    "r6 = sp.Eq(3 + x - 2 * x^2 + 5 * x^3 -  7 *x^4, 0)\n",
    "r6"
   ]
  },
  {
   "cell_type": "markdown",
   "metadata": {},
   "source": [
    "Let's solve for a numerical solution, and then a solution with surds and complex numbers: "
   ]
  },
  {
   "cell_type": "code",
   "execution_count": 18,
   "metadata": {},
   "outputs": [
    {
     "name": "stdout",
     "output_type": "stream",
     "text": [
      "1.00000000000000\n",
      "0.146399152654902 + 0.848164704395753*I\n",
      "0.146399152654902 - 0.848164704395753*I\n",
      "-0.578512591024090\n"
     ]
    },
    {
     "data": {
      "text/plain": [
       "[None, None, None, None]"
      ]
     },
     "execution_count": 18,
     "metadata": {},
     "output_type": "execute_result"
    }
   ],
   "source": [
    "s6 = sp.solve(r6, x, dict=True)\n",
    "[print(i[x].n()) for i in s6]"
   ]
  },
  {
   "cell_type": "code",
   "execution_count": 19,
   "metadata": {},
   "outputs": [
    {
     "name": "stdout",
     "output_type": "stream",
     "text": [
      "⎡        ⎧                                                                   _\n",
      "⎢        ⎪                                                  ⎛  1   √3⋅ⅈ⎞    ╱ \n",
      "⎢        ⎪                                                  ⎜- ─ - ────⎟⋅3 ╱  \n",
      "⎢        ⎪     2                      80                    ⎝  2    2  ⎠ ╲╱   \n",
      "⎢{x: 1}, ⎨x: - ── + ───────────────────────────────────── - ──────────────────\n",
      "⎢        ⎪     21                        ________________                   3 \n",
      "⎢        ⎪              ⎛  1   √3⋅ⅈ⎞    ╱ 3481   9⋅√3569                      \n",
      "⎢        ⎪          147⋅⎜- ─ - ────⎟⋅3 ╱  ──── + ───────                      \n",
      "⎣        ⎩              ⎝  2    2  ⎠ ╲╱   686       98                        \n",
      "\n",
      "_______________⎫  ⎧                           ________________                \n",
      "3481   9⋅√3569 ⎪  ⎪          ⎛  1   √3⋅ⅈ⎞    ╱ 3481   9⋅√3569                 \n",
      "──── + ─────── ⎪  ⎪          ⎜- ─ + ────⎟⋅3 ╱  ──── + ───────                 \n",
      "686       98   ⎪  ⎪     2    ⎝  2    2  ⎠ ╲╱   686       98                   \n",
      "───────────────⎬, ⎨x: - ── - ───────────────────────────────── + ─────────────\n",
      "               ⎪  ⎪     21                   3                                \n",
      "               ⎪  ⎪                                                  ⎛  1   √3\n",
      "               ⎪  ⎪                                              147⋅⎜- ─ + ──\n",
      "               ⎭  ⎩                                                  ⎝  2    2\n",
      "\n",
      "                        ⎫  ⎧         ________________                         \n",
      "                        ⎪  ⎪        ╱ 3481   9⋅√3569                          \n",
      "                        ⎪  ⎪     3 ╱  ──── + ───────                          \n",
      "     80                 ⎪  ⎪     ╲╱   686       98      2               80    \n",
      "────────────────────────⎬, ⎨x: - ──────────────────── - ── + ─────────────────\n",
      "        ________________⎪  ⎪              3             21           _________\n",
      "⋅ⅈ⎞    ╱ 3481   9⋅√3569 ⎪  ⎪                                        ╱ 3481   9\n",
      "──⎟⋅3 ╱  ──── + ─────── ⎪  ⎪                                 147⋅3 ╱  ──── + ─\n",
      "  ⎠ ╲╱   686       98   ⎭  ⎩                                     ╲╱   686     \n",
      "\n",
      "       ⎫⎤\n",
      "       ⎪⎥\n",
      "       ⎪⎥\n",
      "       ⎪⎥\n",
      "───────⎬⎥\n",
      "_______⎪⎥\n",
      "⋅√3569 ⎪⎥\n",
      "────── ⎪⎥\n",
      "  98   ⎭⎦\n"
     ]
    }
   ],
   "source": [
    "sp.pretty_print(s6)"
   ]
  },
  {
   "cell_type": "markdown",
   "metadata": {},
   "source": [
    "Turns out last time we just got lucky. As powers get higher, things tend to get more complicated. And therein lies the problem. Again, what we are seeing here is the classical story around the ways to obtain roots from polynomials. This approach aims to transform these types of equations so they be expressed with radicals, and and it tells us about the orientation of del Ferro, Tartaglia and Cardano. \n",
    "<br/><br/>\n",
    "But is there another way to approach this problem, maybe a way in which we could avoid radicals, to come to a more legitimate solution? Could we adopt another point of view?\n",
    "<br/><br/>"
   ]
  },
  {
   "cell_type": "markdown",
   "metadata": {},
   "source": [
    "### Solving the quadratic another way"
   ]
  },
  {
   "cell_type": "markdown",
   "metadata": {},
   "source": [
    "So let's start again, and see how we might solve these equations in a way that does not involve radicals. \n",
    "<br/><br/>\n",
    "Our overall strategy here wil be \n",
    "\n",
    "-  Return to the quadratic case, in its most general form of $ c_0 + c_1x + c_2x^2 = 0 $\n",
    "-  Use a substitution for x and $c_0$ using some terms from a Power Series \n",
    "-  From here, find solutions for $x$ that that do not involve radicals (and, interestingly, turn out to be Catalan numbers)\n"
   ]
  },
  {
   "cell_type": "markdown",
   "metadata": {},
   "source": [
    "Start by creating variables we will need: "
   ]
  },
  {
   "cell_type": "code",
   "execution_count": 20,
   "metadata": {},
   "outputs": [],
   "source": [
    "c_0, c_1, c_2, x = sp.symbols('c_0, c_1, c_2, x')"
   ]
  },
  {
   "cell_type": "markdown",
   "metadata": {},
   "source": [
    "From there, create a general form of the quadratic equation: "
   ]
  },
  {
   "cell_type": "code",
   "execution_count": 21,
   "metadata": {},
   "outputs": [
    {
     "data": {
      "text/latex": [
       "$\\displaystyle c_{0} + c_{1} x + c_{2} x^{2} = 0$"
      ],
      "text/plain": [
       "Eq(c_0 + c_1*x + c_2*x**2, 0)"
      ]
     },
     "execution_count": 21,
     "metadata": {},
     "output_type": "execute_result"
    }
   ],
   "source": [
    "r7 = sp.Eq(c_0  + c_1 * x + c_2 * x^2, 0)\n",
    "r7"
   ]
  },
  {
   "cell_type": "markdown",
   "metadata": {},
   "source": [
    "Note that from the outset we will assume that:\n",
    "\n",
    "- <b>$c_0 \\ne 0$</b> - if this was not the case, we could just find a solution by factoring (for example: $ 3x \\times x^2 \\Rightarrow x(3 + x)  \\Rightarrow x = 0, x= -3)$ . \n",
    "- <b>$c_2 \\ne 0$</b> - again, if this was not the case, this pushes us back to linear equation. \n",
    "- <b>$t^6 = 0$</b> - Note we haven't introduced $t$ yet. We will shortly and this resriction will apply and be explained.\n",
    "\n",
    "Apart from that, assume nothing! We are not even assuming we know anything about the nature of each of the coefficients $c_0, c_1, c_2$. They are just kind of mathematical object, maybe be a power series of some kind, maybe a poly-number. It doesn't matter to us  \n",
    "\n",
    "And from here, we want to solve for x in terms of $c_0, c_1$ and $c_2$ and get solution that do not involve radicals. \n",
    "\n"
   ]
  },
  {
   "cell_type": "markdown",
   "metadata": {},
   "source": [
    "<hr/>\n",
    "We are going to begin by utilising a power series to see if that will help us. Regardless of problems of might arise when dealing with power series' (which can manifest themselves as some kind of infinite structure that is hard for us to gasp), using a subset of power series terms might allow us to have some insights into solving this quadratic. More specifically let's use a subset of terms only up to a power of 6. Why 6? No reason except it makes things managable and might shed some light for future investigation. Given the problem at hand, its a logical place to start. <br/><br/>\n",
    "Generally, this is a really powerful strategy in mathematics exploration: letting one mathematical object stand in place of another one, and leveraging off that second object's properties to gain some insight and a different view of what is happening. \n",
    "<br/><br/>\n",
    "Being by creating some more variables that we are going to need: "
   ]
  },
  {
   "cell_type": "code",
   "execution_count": 22,
   "metadata": {},
   "outputs": [],
   "source": [
    "# get some new variables, and go up to degree 5\n",
    "t, a_0, a_1, a_2, a_3, a_4, a_5 = sp.symbols('t, a_0, a_1, a_2, a_3, a_4, a_5')"
   ]
  },
  {
   "cell_type": "markdown",
   "metadata": {},
   "source": [
    "Lets make a subsitution. Let $c_0 = t$:"
   ]
  },
  {
   "cell_type": "code",
   "execution_count": 23,
   "metadata": {},
   "outputs": [
    {
     "data": {
      "text/latex": [
       "$\\displaystyle c_{1} x + c_{2} x^{2} + t = 0$"
      ],
      "text/plain": [
       "Eq(c_1*x + c_2*x**2 + t, 0)"
      ]
     },
     "execution_count": 23,
     "metadata": {},
     "output_type": "execute_result"
    }
   ],
   "source": [
    "r8 = r7.subs(c_0, t)\n",
    "r8"
   ]
  },
  {
   "cell_type": "markdown",
   "metadata": {},
   "source": [
    "Now let's make another substitution. We are going to use some terms from a power series that can take the place of $x$. Note that we are using a small number of terms, just 6 terms,  and the number 6 has arbitrarily chosen to see if we can see some kind of pattern. Note also that because we are restricting the terms, anything above $t^5$ we will regard as 0. Hence the above supposition, that $t^6$ can be regarded as 0. \n",
    "\n",
    "So here is our new value of $x$: "
   ]
  },
  {
   "cell_type": "code",
   "execution_count": 24,
   "metadata": {},
   "outputs": [
    {
     "data": {
      "text/latex": [
       "$\\displaystyle x = a_{0} + a_{1} t + a_{2} t^{2} + a_{3} t^{3} + a_{4} t^{4} + a_{5} t^{5}$"
      ],
      "text/plain": [
       "Eq(x, a_0 + a_1*t + a_2*t**2 + a_3*t**3 + a_4*t**4 + a_5*t**5)"
      ]
     },
     "execution_count": 24,
     "metadata": {},
     "output_type": "execute_result"
    }
   ],
   "source": [
    "r8_5 = sp.Eq(x, a_0 + a_1*t + a_2* t^2 + a_3 * t^3 + a_4* t^4 + a_5*t^5)\n",
    "r8_5"
   ]
  },
  {
   "cell_type": "markdown",
   "metadata": {},
   "source": [
    "Let's subsitute this new value we have for $x$ into the original equation: "
   ]
  },
  {
   "cell_type": "code",
   "execution_count": 25,
   "metadata": {},
   "outputs": [
    {
     "data": {
      "text/latex": [
       "$\\displaystyle c_{1} \\left(a_{0} + a_{1} t + a_{2} t^{2} + a_{3} t^{3} + a_{4} t^{4} + a_{5} t^{5}\\right) + c_{2} \\left(a_{0} + a_{1} t + a_{2} t^{2} + a_{3} t^{3} + a_{4} t^{4} + a_{5} t^{5}\\right)^{2} + t = 0$"
      ],
      "text/plain": [
       "Eq(c_1*(a_0 + a_1*t + a_2*t**2 + a_3*t**3 + a_4*t**4 + a_5*t**5) + c_2*(a_0 + a_1*t + a_2*t**2 + a_3*t**3 + a_4*t**4 + a_5*t**5)**2 + t, 0)"
      ]
     },
     "execution_count": 25,
     "metadata": {},
     "output_type": "execute_result"
    }
   ],
   "source": [
    "r9 = r8.subs(r8_5.lhs, r8_5.rhs)\n",
    "r9"
   ]
  },
  {
   "cell_type": "markdown",
   "metadata": {},
   "source": [
    "Now expand the equation: "
   ]
  },
  {
   "cell_type": "code",
   "execution_count": 26,
   "metadata": {},
   "outputs": [
    {
     "data": {
      "text/latex": [
       "$\\displaystyle a_{0}^{2} c_{2} + 2 a_{0} a_{1} c_{2} t + 2 a_{0} a_{2} c_{2} t^{2} + 2 a_{0} a_{3} c_{2} t^{3} + 2 a_{0} a_{4} c_{2} t^{4} + 2 a_{0} a_{5} c_{2} t^{5} + a_{0} c_{1} + a_{1}^{2} c_{2} t^{2} + 2 a_{1} a_{2} c_{2} t^{3} + 2 a_{1} a_{3} c_{2} t^{4} + 2 a_{1} a_{4} c_{2} t^{5} + 2 a_{1} a_{5} c_{2} t^{6} + a_{1} c_{1} t + a_{2}^{2} c_{2} t^{4} + 2 a_{2} a_{3} c_{2} t^{5} + 2 a_{2} a_{4} c_{2} t^{6} + 2 a_{2} a_{5} c_{2} t^{7} + a_{2} c_{1} t^{2} + a_{3}^{2} c_{2} t^{6} + 2 a_{3} a_{4} c_{2} t^{7} + 2 a_{3} a_{5} c_{2} t^{8} + a_{3} c_{1} t^{3} + a_{4}^{2} c_{2} t^{8} + 2 a_{4} a_{5} c_{2} t^{9} + a_{4} c_{1} t^{4} + a_{5}^{2} c_{2} t^{10} + a_{5} c_{1} t^{5} + t = 0$"
      ],
      "text/plain": [
       "Eq(a_0**2*c_2 + 2*a_0*a_1*c_2*t + 2*a_0*a_2*c_2*t**2 + 2*a_0*a_3*c_2*t**3 + 2*a_0*a_4*c_2*t**4 + 2*a_0*a_5*c_2*t**5 + a_0*c_1 + a_1**2*c_2*t**2 + 2*a_1*a_2*c_2*t**3 + 2*a_1*a_3*c_2*t**4 + 2*a_1*a_4*c_2*t**5 + 2*a_1*a_5*c_2*t**6 + a_1*c_1*t + a_2**2*c_2*t**4 + 2*a_2*a_3*c_2*t**5 + 2*a_2*a_4*c_2*t**6 + 2*a_2*a_5*c_2*t**7 + a_2*c_1*t**2 + a_3**2*c_2*t**6 + 2*a_3*a_4*c_2*t**7 + 2*a_3*a_5*c_2*t**8 + a_3*c_1*t**3 + a_4**2*c_2*t**8 + 2*a_4*a_5*c_2*t**9 + a_4*c_1*t**4 + a_5**2*c_2*t**10 + a_5*c_1*t**5 + t, 0)"
      ]
     },
     "execution_count": 26,
     "metadata": {},
     "output_type": "execute_result"
    }
   ],
   "source": [
    "r10 = r9.expand()\n",
    "r10"
   ]
  },
  {
   "cell_type": "markdown",
   "metadata": {},
   "source": [
    "Note that we can group the equation in terms of $t$:"
   ]
  },
  {
   "cell_type": "code",
   "execution_count": 27,
   "metadata": {},
   "outputs": [
    {
     "data": {
      "text/latex": [
       "$\\displaystyle a_{0}^{2} c_{2} + a_{0} c_{1} + 2 a_{4} a_{5} c_{2} t^{9} + a_{5}^{2} c_{2} t^{10} + t^{8} \\left(2 a_{3} a_{5} c_{2} + a_{4}^{2} c_{2}\\right) + t^{7} \\left(2 a_{2} a_{5} c_{2} + 2 a_{3} a_{4} c_{2}\\right) + t^{6} \\left(2 a_{1} a_{5} c_{2} + 2 a_{2} a_{4} c_{2} + a_{3}^{2} c_{2}\\right) + t^{5} \\left(2 a_{0} a_{5} c_{2} + 2 a_{1} a_{4} c_{2} + 2 a_{2} a_{3} c_{2} + a_{5} c_{1}\\right) + t^{4} \\left(2 a_{0} a_{4} c_{2} + 2 a_{1} a_{3} c_{2} + a_{2}^{2} c_{2} + a_{4} c_{1}\\right) + t^{3} \\left(2 a_{0} a_{3} c_{2} + 2 a_{1} a_{2} c_{2} + a_{3} c_{1}\\right) + t^{2} \\left(2 a_{0} a_{2} c_{2} + a_{1}^{2} c_{2} + a_{2} c_{1}\\right) + t \\left(2 a_{0} a_{1} c_{2} + a_{1} c_{1} + 1\\right)$"
      ],
      "text/plain": [
       "a_0**2*c_2 + a_0*c_1 + 2*a_4*a_5*c_2*t**9 + a_5**2*c_2*t**10 + t**8*(2*a_3*a_5*c_2 + a_4**2*c_2) + t**7*(2*a_2*a_5*c_2 + 2*a_3*a_4*c_2) + t**6*(2*a_1*a_5*c_2 + 2*a_2*a_4*c_2 + a_3**2*c_2) + t**5*(2*a_0*a_5*c_2 + 2*a_1*a_4*c_2 + 2*a_2*a_3*c_2 + a_5*c_1) + t**4*(2*a_0*a_4*c_2 + 2*a_1*a_3*c_2 + a_2**2*c_2 + a_4*c_1) + t**3*(2*a_0*a_3*c_2 + 2*a_1*a_2*c_2 + a_3*c_1) + t**2*(2*a_0*a_2*c_2 + a_1**2*c_2 + a_2*c_1) + t*(2*a_0*a_1*c_2 + a_1*c_1 + 1)"
      ]
     },
     "execution_count": 27,
     "metadata": {},
     "output_type": "execute_result"
    }
   ],
   "source": [
    "r10.lhs.collect(t)"
   ]
  },
  {
   "cell_type": "markdown",
   "metadata": {},
   "source": [
    "Recall that because $t^6 = 0$, we can truncate this equation to ignore the higher powers of $t$ above 6:"
   ]
  },
  {
   "cell_type": "code",
   "execution_count": 28,
   "metadata": {},
   "outputs": [
    {
     "data": {
      "text/latex": [
       "$\\displaystyle a_{0}^{2} c_{2} + a_{0} c_{1} + t^{5} \\left(2 a_{0} a_{5} c_{2} + 2 a_{1} a_{4} c_{2} + 2 a_{2} a_{3} c_{2} + a_{5} c_{1}\\right) + t^{4} \\left(2 a_{0} a_{4} c_{2} + 2 a_{1} a_{3} c_{2} + a_{2}^{2} c_{2} + a_{4} c_{1}\\right) + t^{3} \\left(2 a_{0} a_{3} c_{2} + 2 a_{1} a_{2} c_{2} + a_{3} c_{1}\\right) + t^{2} \\left(2 a_{0} a_{2} c_{2} + a_{1}^{2} c_{2} + a_{2} c_{1}\\right) + t \\left(2 a_{0} a_{1} c_{2} + a_{1} c_{1} + 1\\right)$"
      ],
      "text/plain": [
       "a_0**2*c_2 + a_0*c_1 + t**5*(2*a_0*a_5*c_2 + 2*a_1*a_4*c_2 + 2*a_2*a_3*c_2 + a_5*c_1) + t**4*(2*a_0*a_4*c_2 + 2*a_1*a_3*c_2 + a_2**2*c_2 + a_4*c_1) + t**3*(2*a_0*a_3*c_2 + 2*a_1*a_2*c_2 + a_3*c_1) + t**2*(2*a_0*a_2*c_2 + a_1**2*c_2 + a_2*c_1) + t*(2*a_0*a_1*c_2 + a_1*c_1 + 1)"
      ]
     },
     "execution_count": 28,
     "metadata": {},
     "output_type": "execute_result"
    }
   ],
   "source": [
    "order = 6\n",
    "coeffs = sp.Poly(r10, t).coeffs()\n",
    "r11 = sum(t**n * coeffs[-(n+1)] for n in range(order))\n",
    "r11\n",
    "# Note on Sympy: to do this we convert the equation to a Polynomial in Sympy, and iterate through it to remove higher powers of t. There is probably  \n",
    "# more elegant way to do this"
   ]
  },
  {
   "cell_type": "markdown",
   "metadata": {},
   "source": [
    "The last couple of calculations have created an expression, so lets set things back to an equation set to 0. We will also put it back into the Sympy Poly form again, which has handy methods that will help us work through the calculations: "
   ]
  },
  {
   "cell_type": "code",
   "execution_count": 29,
   "metadata": {},
   "outputs": [
    {
     "data": {
      "text/latex": [
       "$\\displaystyle \\operatorname{Poly}{\\left( \\left(2 a_{0} a_{5} c_{2} + 2 a_{1} a_{4} c_{2} + 2 a_{2} a_{3} c_{2} + a_{5} c_{1}\\right) t^{5} + \\left(2 a_{0} a_{4} c_{2} + 2 a_{1} a_{3} c_{2} + a_{2}^{2} c_{2} + a_{4} c_{1}\\right) t^{4} + \\left(2 a_{0} a_{3} c_{2} + 2 a_{1} a_{2} c_{2} + a_{3} c_{1}\\right) t^{3} + \\left(2 a_{0} a_{2} c_{2} + a_{1}^{2} c_{2} + a_{2} c_{1}\\right) t^{2} + \\left(2 a_{0} a_{1} c_{2} + a_{1} c_{1} + 1\\right) t + a_{0}^{2} c_{2} + a_{0} c_{1}, t, domain=\\mathbb{Z}\\left[a_{0}, a_{1}, a_{2}, a_{3}, a_{4}, a_{5}, c_{1}, c_{2}\\right] \\right)}$"
      ],
      "text/plain": [
       "Poly((2*a_0*a_5*c_2 + 2*a_1*a_4*c_2 + 2*a_2*a_3*c_2 + a_5*c_1)*t**5 + (2*a_0*a_4*c_2 + 2*a_1*a_3*c_2 + a_2**2*c_2 + a_4*c_1)*t**4 + (2*a_0*a_3*c_2 + 2*a_1*a_2*c_2 + a_3*c_1)*t**3 + (2*a_0*a_2*c_2 + a_1**2*c_2 + a_2*c_1)*t**2 + (2*a_0*a_1*c_2 + a_1*c_1 + 1)*t + a_0**2*c_2 + a_0*c_1, t, domain='ZZ[a_0,a_1,a_2,a_3,a_4,a_5,c_1,c_2]')"
      ]
     },
     "execution_count": 29,
     "metadata": {},
     "output_type": "execute_result"
    }
   ],
   "source": [
    "r12 = sp.Eq(r11, 0)\n",
    "r13 = sp.Poly(r12, t)\n",
    "r13"
   ]
  },
  {
   "cell_type": "markdown",
   "metadata": {},
   "source": [
    "Now lets start with the very simple case that assumes that $t = 0$. This means that everything multiplied by $t$ becomes 0, and is leaves the constant term of this polynomial in $t$: "
   ]
  },
  {
   "cell_type": "code",
   "execution_count": 30,
   "metadata": {},
   "outputs": [
    {
     "data": {
      "text/latex": [
       "$\\displaystyle a_{0}^{2} c_{2} + a_{0} c_{1}$"
      ],
      "text/plain": [
       "a_0**2*c_2 + a_0*c_1"
      ]
     },
     "execution_count": 30,
     "metadata": {},
     "output_type": "execute_result"
    }
   ],
   "source": [
    "r14 = r13.coeffs()[-1]\n",
    "r14"
   ]
  },
  {
   "cell_type": "markdown",
   "metadata": {},
   "source": [
    "Let's set it to 0:"
   ]
  },
  {
   "cell_type": "code",
   "execution_count": 31,
   "metadata": {},
   "outputs": [
    {
     "data": {
      "text/latex": [
       "$\\displaystyle a_{0}^{2} c_{2} + a_{0} c_{1} = 0$"
      ],
      "text/plain": [
       "Eq(a_0**2*c_2 + a_0*c_1, 0)"
      ]
     },
     "execution_count": 31,
     "metadata": {},
     "output_type": "execute_result"
    }
   ],
   "source": [
    "r14 = sp.Eq(r14, 0)\n",
    "r14"
   ]
  },
  {
   "cell_type": "markdown",
   "metadata": {},
   "source": [
    "And now solve it: "
   ]
  },
  {
   "cell_type": "code",
   "execution_count": 32,
   "metadata": {},
   "outputs": [
    {
     "name": "stdout",
     "output_type": "stream",
     "text": [
      "⎡         ⎧    -c₁ ⎫⎤\n",
      "⎢{a₀: 0}, ⎨a₀: ────⎬⎥\n",
      "⎣         ⎩     c₂ ⎭⎦\n"
     ]
    }
   ],
   "source": [
    "r15 = sp.factor(r14, a_0)\n",
    "r16 = sp.solve(r15, a_0, dict = True)\n",
    "sp.pretty_print(r16)"
   ]
  },
  {
   "cell_type": "markdown",
   "metadata": {},
   "source": [
    "So we end up with two solutions of what $a_0$. Lets focus on the first case: "
   ]
  },
  {
   "cell_type": "code",
   "execution_count": 33,
   "metadata": {},
   "outputs": [
    {
     "data": {
      "text/plain": [
       "{a_0: 0}"
      ]
     },
     "execution_count": 33,
     "metadata": {},
     "output_type": "execute_result"
    }
   ],
   "source": [
    "r16[0]"
   ]
  },
  {
   "cell_type": "markdown",
   "metadata": {},
   "source": [
    "Note the coeffients of this polynomial in $t$. One quick thing to do would be to substitute in 0 for $a_0$ wherever it appears: "
   ]
  },
  {
   "cell_type": "code",
   "execution_count": 34,
   "metadata": {},
   "outputs": [
    {
     "data": {
      "text/plain": [
       "[2*a_0*a_5*c_2 + 2*a_1*a_4*c_2 + 2*a_2*a_3*c_2 + a_5*c_1,\n",
       " 2*a_0*a_4*c_2 + 2*a_1*a_3*c_2 + a_2**2*c_2 + a_4*c_1,\n",
       " 2*a_0*a_3*c_2 + 2*a_1*a_2*c_2 + a_3*c_1,\n",
       " 2*a_0*a_2*c_2 + a_1**2*c_2 + a_2*c_1,\n",
       " 2*a_0*a_1*c_2 + a_1*c_1 + 1,\n",
       " a_0**2*c_2 + a_0*c_1]"
      ]
     },
     "execution_count": 34,
     "metadata": {},
     "output_type": "execute_result"
    }
   ],
   "source": [
    "r13.coeffs()"
   ]
  },
  {
   "cell_type": "code",
   "execution_count": 35,
   "metadata": {},
   "outputs": [
    {
     "data": {
      "text/latex": [
       "$\\displaystyle \\operatorname{Poly}{\\left( \\left(2 a_{1} a_{4} c_{2} + 2 a_{2} a_{3} c_{2} + a_{5} c_{1}\\right) t^{5} + \\left(2 a_{1} a_{3} c_{2} + a_{2}^{2} c_{2} + a_{4} c_{1}\\right) t^{4} + \\left(2 a_{1} a_{2} c_{2} + a_{3} c_{1}\\right) t^{3} + \\left(a_{1}^{2} c_{2} + a_{2} c_{1}\\right) t^{2} + \\left(a_{1} c_{1} + 1\\right) t, t, domain=\\mathbb{Z}\\left[a_{1}, a_{2}, a_{3}, a_{4}, a_{5}, c_{1}, c_{2}\\right] \\right)}$"
      ],
      "text/plain": [
       "Poly((2*a_1*a_4*c_2 + 2*a_2*a_3*c_2 + a_5*c_1)*t**5 + (2*a_1*a_3*c_2 + a_2**2*c_2 + a_4*c_1)*t**4 + (2*a_1*a_2*c_2 + a_3*c_1)*t**3 + (a_1**2*c_2 + a_2*c_1)*t**2 + (a_1*c_1 + 1)*t, t, domain='ZZ[a_1,a_2,a_3,a_4,a_5,c_1,c_2]')"
      ]
     },
     "execution_count": 35,
     "metadata": {},
     "output_type": "execute_result"
    }
   ],
   "source": [
    "r17 = sp.Poly(r13.subs(a_0, 0), t)\n",
    "r17"
   ]
  },
  {
   "cell_type": "markdown",
   "metadata": {},
   "source": [
    "Also, now that we have a value of $a_0$, we can work iteratively through all the other parts of the polynomical and solve for $a_0, a_1, a_2, a_3, a_4$ and $a_5$. Start by turning the polynomial into a system of equations: "
   ]
  },
  {
   "cell_type": "code",
   "execution_count": 36,
   "metadata": {},
   "outputs": [
    {
     "data": {
      "text/plain": [
       "[Eq(2*a_1*a_4*c_2 + 2*a_2*a_3*c_2 + a_5*c_1, 0),\n",
       " Eq(2*a_1*a_3*c_2 + a_2**2*c_2 + a_4*c_1, 0),\n",
       " Eq(2*a_1*a_2*c_2 + a_3*c_1, 0),\n",
       " Eq(a_1**2*c_2 + a_2*c_1, 0),\n",
       " Eq(a_1*c_1 + 1, 0)]"
      ]
     },
     "execution_count": 36,
     "metadata": {},
     "output_type": "execute_result"
    }
   ],
   "source": [
    "r18 = [sp.Eq(r17.coeffs()[i], 0) for i in range(len(r17.coeffs()))]\n",
    "r18"
   ]
  },
  {
   "cell_type": "markdown",
   "metadata": {},
   "source": [
    "Now solve the system: "
   ]
  },
  {
   "cell_type": "code",
   "execution_count": 37,
   "metadata": {},
   "outputs": [
    {
     "data": {
      "text/plain": [
       "({(a_0, -1/c_1, -c_2/c_1**3, -2*c_2**2/c_1**5, -5*c_2**3/c_1**7, -14*c_2**4/c_1**9)},\n",
       " [a_0,\n",
       "  -1/c_1,\n",
       "  -c_2/c_1**3,\n",
       "  -2*c_2**2/c_1**5,\n",
       "  -5*c_2**3/c_1**7,\n",
       "  -14*c_2**4/c_1**9])"
      ]
     },
     "execution_count": 37,
     "metadata": {},
     "output_type": "execute_result"
    }
   ],
   "source": [
    "values_to_solve =  [a_0, a_1, a_2, a_3, a_4, a_5]\n",
    "r19 = sp.nonlinsolve(r18, values_to_solve)\n",
    "solutions_as_list = list(list(r19)[0])\n",
    "r19, solutions_as_list"
   ]
  },
  {
   "cell_type": "code",
   "execution_count": 38,
   "metadata": {},
   "outputs": [
    {
     "data": {
      "text/plain": [
       "[True,\n",
       " Eq(-1/c_1, a_1),\n",
       " Eq(-c_2/c_1**3, a_2),\n",
       " Eq(-2*c_2**2/c_1**5, a_3),\n",
       " Eq(-5*c_2**3/c_1**7, a_4),\n",
       " Eq(-14*c_2**4/c_1**9, a_5)]"
      ]
     },
     "execution_count": 38,
     "metadata": {},
     "output_type": "execute_result"
    }
   ],
   "source": [
    "s20 = [sp.Eq(solutions_as_list[i], values_to_solve[i]) for i in range(len(solutions_as_list))]\n",
    "s20"
   ]
  },
  {
   "cell_type": "markdown",
   "metadata": {},
   "source": [
    "So now we have values for $a_0, a_1, a_2, a_3, a_4$ and $a_5$ in terms of $c_1$ and $c_2$ for the case where $a_0$ is 0. Recall our original plan was to get a value for $x$. So we can now substitute back into get values for $x$"
   ]
  },
  {
   "cell_type": "code",
   "execution_count": 39,
   "metadata": {},
   "outputs": [
    {
     "data": {
      "text/latex": [
       "$\\displaystyle x = - \\frac{t}{c_{1}} - \\frac{c_{2} t^{2}}{c_{1}^{3}} - \\frac{2 c_{2}^{2} t^{3}}{c_{1}^{5}} - \\frac{5 c_{2}^{3} t^{4}}{c_{1}^{7}} - \\frac{14 c_{2}^{4} t^{5}}{c_{1}^{9}}$"
      ],
      "text/plain": [
       "Eq(x, -t/c_1 - c_2*t**2/c_1**3 - 2*c_2**2*t**3/c_1**5 - 5*c_2**3*t**4/c_1**7 - 14*c_2**4*t**5/c_1**9)"
      ]
     },
     "execution_count": 39,
     "metadata": {},
     "output_type": "execute_result"
    }
   ],
   "source": [
    "values_to_solve = values_to_solve[1:]\n",
    "solutions_as_list = solutions_as_list[1:]\n",
    "\n",
    "r21 = r8_5.subs(values_to_solve[0], solutions_as_list[0])\n",
    "r21 = r21.subs(values_to_solve[1], solutions_as_list[1])\n",
    "r21 = r21.subs(values_to_solve[2], solutions_as_list[2])\n",
    "r21 = r21.subs(values_to_solve[3], solutions_as_list[3])\n",
    "r21 = r21.subs(values_to_solve[4], solutions_as_list[4])\n",
    "r21 = r21.subs(a_0, 0)\n",
    "\n",
    "r21\n",
    "#SymPy Note: Seeing Scientific Workplace make such light work of these types of tasks suggests there are far more \n",
    "# elegant ways to do this which I have not noticed. Feel free to to provide something more elegant!"
   ]
  },
  {
   "cell_type": "markdown",
   "metadata": {},
   "source": [
    "So we started with a general quadratic in the form of $t+c_1x+c2_x^2=0$ with a view to finding a value of $x$ that doesn't involve radicals. And we seem to have done it! Well, in a limited way at least. \n",
    "\n",
    "So it looks like there may be some kind of algebraic way of getting around our usual answers involving square roots.And so what is this series of numbers that appears to be emerging? Specifically, these coefficents of $c_2$, the numbers: 1, 1, 2, 5, 14? Well, it turns out these numbers can be found in a sequence of numbers that is ubiquitous throughout various fields of mathematics: <a href=\"https://oeis.org/A000108#:~:text=A000108%20%2D%20OEIS&text=Catalan%20numbers%3A%20C(n),n%2B1)!).&text=Also%20called%20Segner%20numbers.\">The Catalan Numbers!</a>\n",
    "\n",
    "Lots more to investigate! But that is the end of Part 1"
   ]
  },
  {
   "cell_type": "code",
   "execution_count": null,
   "metadata": {},
   "outputs": [],
   "source": []
  }
 ],
 "metadata": {
  "kernelspec": {
   "display_name": "SageMath 9.0",
   "language": "sage",
   "name": "sagemath"
  },
  "language_info": {
   "codemirror_mode": {
    "name": "ipython",
    "version": 3
   },
   "file_extension": ".py",
   "mimetype": "text/x-python",
   "name": "python",
   "nbconvert_exporter": "python",
   "pygments_lexer": "ipython3",
   "version": "3.7.3"
  }
 },
 "nbformat": 4,
 "nbformat_minor": 4
}
