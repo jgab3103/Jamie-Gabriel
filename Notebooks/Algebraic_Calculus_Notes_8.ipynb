{
 "cells": [
  {
   "cell_type": "code",
   "execution_count": 1,
   "metadata": {},
   "outputs": [],
   "source": [
    "import numpy as np\n",
    "import sympy as sp\n",
    "import shared_functions as sf\n",
    "from IPython.display import HTML\n",
    "import matplotlib.pyplot as plt"
   ]
  },
  {
   "cell_type": "markdown",
   "metadata": {},
   "source": [
    "So far we have explored signed area, its derived formulas, given a sense of what we can expect from circles. When we did did the formula, recall we ended with exploring that parameterisation inw hcih successive splines became smaller and smaller. We are becomeing core about to sum things. IN this notebook we will  A series of splines, we sum together moves, until revistint arithmetic and thinking more methodoically around hwo  we detail add things. And how we add lots of nubmers. \n",
    "\n",
    "We should say sequence series are different. A seuquence is just a list. But if we sum elemetns, we get a series\n",
    "\n",
    "The purpose of this ntobook, needing nomenclature, in the same way we created some data strcutures, we can also look at. Partly this will be a bit of a review. Consider this: \n",
    "\n",
    "$$   \\sum_{k=1}^n (k + 1)   $$\n",
    "\n",
    "\n",
    "\n",
    "\n",
    "There are components of this symbol, a <i>lower bound</i>, here $k=1$ at the bottom of summation Sigma symbol, and the <i>upper bound</i>. The expression, here $ (k + 1)$, is called the <i>summand</i> \n",
    "\n",
    "\n",
    "\n",
    "\n",
    "There is a really nice way to do this in Python: list comprehensions! Let's write a python version fo the following 4 examples: "
   ]
  },
  {
   "cell_type": "markdown",
   "metadata": {},
   "source": [
    "1. $\\sum_{k=1}^4 2^2$ <br/>\n",
    "2. $\\sum_{i=0}^3 2^i$ <br/>\n",
    "3. $\\sum_{j=1}^5 \\frac{j-1}{2}$<br/>\n",
    "4. $\\sum_{i=1}^8 i^3$ \n"
   ]
  },
  {
   "cell_type": "code",
   "execution_count": 24,
   "metadata": {},
   "outputs": [
    {
     "name": "stdout",
     "output_type": "stream",
     "text": [
      "16\n",
      "15\n",
      "5.0\n",
      "1296\n"
     ]
    }
   ],
   "source": [
    "print(sum([2^2 for i in np.arange(1, 5, 1)]))\n",
    "print(sum([2^i for i in np.arange(0, 4, 1)]))\n",
    "print(sum([(j - 1)/2 for j in np.arange(1, 6, 1)]))\n",
    "print(sum([i^3 for i in np.arange(1, 9, 1)]))"
   ]
  },
  {
   "cell_type": "markdown",
   "metadata": {},
   "source": [
    "Let's try and example but this time, let's create a general summation function in python to help us. It will take an upper bound and lower bound, and a sympy expression summand with a any single variable, and return a list with 2 elements, the list that has been created, and the sum: "
   ]
  },
  {
   "cell_type": "code",
   "execution_count": 25,
   "metadata": {},
   "outputs": [
    {
     "data": {
      "text/plain": [
       "[[9, 10, 11, 12, 13, 14, 15, 16, 17, 18], 135]"
      ]
     },
     "execution_count": 25,
     "metadata": {},
     "output_type": "execute_result"
    }
   ],
   "source": [
    "def compute_summation(lower_bound = 0, upper_bound = 0, summand = \"\"):\n",
    "    unknown_variable = list(summand.free_symbols)[0]\n",
    "    list_for_summation = [summand.subs(unknown_variable, index_value) for index_value in np.arange(lower_bound, upper_bound, 1)]\n",
    "    return([list_for_summation, sum(list_for_summation)])\n",
    "\n",
    "\n",
    "t = sp.symbols('t')\n",
    "compute_summation(lower_bound=0,upper_bound=10, summand= t + 9)"
   ]
  },
  {
   "cell_type": "markdown",
   "metadata": {},
   "source": [
    "We will also enforce the following definitions: <br/><br/>\n",
    "\n",
    "1. $  \\sum_{i=1}^n 1=n  $<br/><br/>\n",
    "\n",
    "2. $  \\sum_{i=1}^n (a_i+b_i)=\\sum_{i=1}^n a_i+\\sum_{i=1}^n b_i $<br/><br/>\n",
    "\n",
    "3. $  \\sum_{i=1}^n (a_i-b_i)=\\sum_{i=1}^n a_i-\\sum_{i=1}^n b_i$<br/><br/>\n",
    "\n",
    "4. $  \\sum_{i=1}^n ca_i=c\\sum_{i=1}^n a_i $<br/><br/>\n",
    "\n",
    "5. $  \\sum_{i=1}^n a_i=\\sum_{j=0}^{n-1} a_{j+1}  $ <br/><br/>"
   ]
  },
  {
   "cell_type": "markdown",
   "metadata": {},
   "source": [
    "A few things to note: we can think of summation notation in an algebraic way. that we also treat this more algebraically. Consider the follwing example (where $ \\sum_{j=1}^7a_j=12 $ and $ \\sum_{j=1}^7 b_j=9$:\n",
    "\n",
    "$$  \\sum_{j=1}^7(2a_j-3b_j+4), $$  \n",
    "\n",
    "The first thing we can do is use defintion 2 and definition 4 above to rewrite things: \n",
    "\n",
    "$$  2\\sum_{j=1}^7a_j-3\\sum_{j=1}^7b_j+ 4 \\sum_{j=1}^71$$\n",
    "\n",
    "And we know that $ \\sum_{j=1}^7a_j=12 $ and $ \\sum_{j=1}^7 b_j=9$, so we can use algebraic subsitution to rewrite this as: \n",
    "\n",
    "$$  2\\times 12-3\\times 9+4\\times 7=25. $$"
   ]
  },
  {
   "cell_type": "markdown",
   "metadata": {},
   "source": [
    "When we change an summatin index, note the key definition here, 5, is: $\\sum_{i=1}^n a_i=\\sum_{j=0}^{n-1} a_{j+1}  $, notning is obtained by setting $j=i−1$ and noting that as $i$ runs from $1$ to $n$, $j$ runs from $0$ to $n−1$.\n",
    "\n",
    "Of the defintions above, this one feels a little strange when you first encounter it. So let's work through a few examples of that.\n",
    "\n",
    "Suppose we have some sum and we are asked change the lower bound so it is 3. Here is the sum: \n",
    "\n",
    "$$  \\sum_{j=1}^{57} (2j-1) $$\n",
    "\n",
    "The way to do this is change the sum notation from the form $\\sum_{j=1}^{57}$ to use an indice of $i$, to become $\\sum_{i=?}^{?}$. \n",
    "\n",
    "If the lower bound is to become 3 (which means increase by $2$ from $j = 1$) then there  $3$, this means there is a relationship between $i$ this means that $j=1$ becomes $i = j + 2$. \n",
    "\n",
    "Deal with the summation sybolv first. The lower bound of 2 can be represented as $\\sum_{i=3}^{59}$. \n",
    "\n",
    "Then we just need to apply the subsitution throughout the epression of $i = j + 2$. \n",
    "\n",
    "$$ \\sum_{j=1}^{57} (2j-1)=\\sum_{i=3}^{57+2} (2(i-2)-1)=\\sum_{i=3}^{59}(2i-5). $$\n",
    "\n",
    "Let's do another example. For the sum $  \\sum_{j=1}^{57} (2j-1) $, Change the upper bound by 58. \n",
    "\n",
    "To do this, we have a new index $i$ and note that $i = j + 1$. The increase of upper bound is $1$. Then update our summation sumbol to $\\sum_{i=2}^{58}$ and use this relationship between between $i$ and $j$ to update the summation \n",
    "\n",
    "$$  \\sum_{j=1}^{57} (2j-1)=\\sum_{i=2}^{57+1} (2(i-1)-1)=\\sum_{i=2}^{58}(2i-3). $$"
   ]
  },
  {
   "cell_type": "markdown",
   "metadata": {},
   "source": [
    "Let's do a slightly more complicated example, where we will focus on the <i>summand</i> changing form. For exxample, shift the summation indexes so the summand of $  \\sum_{j=1}^{57} (2j-1) $ is $(2k + 1)$. \n",
    "\n",
    "The first thing to do is set up a relationship between our original index and new index. We note that $2j-1=2k+1$. This means that $k=j-1$. \n",
    "\n",
    "Then just proceed as before: \n",
    "\n",
    "$$  \\sum_{j=1}^{57} (2j-1)=\\sum_{k=0}^{56}(2k+1). $$\n",
    "\n"
   ]
  },
  {
   "cell_type": "markdown",
   "metadata": {},
   "source": [
    "What we are seeing here is a powerful technology that allows speed up computation, and gives us a symbol to capture this idea. In a sense it is similair to $\\sqrt{2}$ that does not give us an answer but rather indicates that there is it is impossibel to embark on on computation. HOwever, the summation symbol is somewhat more sophisticated. It can tell us how much computation is needed if there is an upper bound. \n",
    "\n",
    "There are two powerful ideas in mathematics here: the first is about how much we can compress information  to express unambiguous computation. In the same way we can express compressed addition  4 + 4 + 4 + 4 with 4 x 4. These ideas are not only powerful in calculus but across other types of information as well. \n",
    "\n",
    "We can of coruse create any sum we want using this approach, but it is worth noting some important sums that we can explore. The first is the sum of natural numbers: summation - euclid 1 + 2 + 3....n\n",
    "\n",
    "then Arhimedes - sum of squares\n",
    "\n",
    "then Nicomarchus - sum of 1^3 + 2 ^3 etc.....which is square of Euclid \n",
    "\n",
    "<b>Sum of natural numbers</b><br/>\n",
    "$$  1+2+3+\\ldots+n=\\sum_{k=1}^n k=\\frac {n(n+1)}{2}.$$\n"
   ]
  },
  {
   "cell_type": "markdown",
   "metadata": {},
   "source": [
    "<b>Sum of natural quadratic numbers</b><br/>\n",
    "\n",
    "$$ 1 + 2^2 + 3^2 + 4^2 \\ldots + n = \\sum_{i=1}^n i^2=\\frac{n(n+1)(2n+1)}{6} $$\n",
    "\n",
    "<b>Su of cubes of natural numbers</b><br/>\n",
    "\n",
    "$$  1^2+2^2+3^2+\\ldots+n^2=\\sum_{k=1}^n k^2=\\frac {n(n+1)(2n+1)}{6} $$"
   ]
  },
  {
   "cell_type": "markdown",
   "metadata": {},
   "source": [
    "Formal proofs of thesee can be found here. We can also use these formulas to create. Let's create the triangle mumbers"
   ]
  },
  {
   "cell_type": "code",
   "execution_count": 26,
   "metadata": {},
   "outputs": [
    {
     "data": {
      "text/plain": [
       "[[1, 3, 6, 10, 15, 21, 28, 36, 45], 165]"
      ]
     },
     "execution_count": 26,
     "metadata": {},
     "output_type": "execute_result"
    }
   ],
   "source": [
    "t = sp.symbols('t')\n",
    "e = (t * (t + 1)) / 2\n",
    "compute_summation(lower_bound=1, upper_bound=10, summand=(e))"
   ]
  },
  {
   "cell_type": "markdown",
   "metadata": {},
   "source": [
    "And quadratic numbers: "
   ]
  },
  {
   "cell_type": "code",
   "execution_count": 27,
   "metadata": {},
   "outputs": [
    {
     "data": {
      "text/plain": [
       "[[1, 5, 14, 30, 55, 91, 140, 204, 285], 825]"
      ]
     },
     "execution_count": 27,
     "metadata": {},
     "output_type": "execute_result"
    }
   ],
   "source": [
    "t = sp.symbols('t')\n",
    "e = (t * (t + 1) * (2 * t + 1) / 6)\n",
    "compute_summation(lower_bound=1, upper_bound=10, summand=(e))"
   ]
  },
  {
   "cell_type": "markdown",
   "metadata": {},
   "source": [
    "And finally cubics"
   ]
  },
  {
   "cell_type": "code",
   "execution_count": 28,
   "metadata": {},
   "outputs": [
    {
     "data": {
      "text/plain": [
       "[[1, 9, 36, 100, 225, 441, 784, 1296, 2025], 4917]"
      ]
     },
     "execution_count": 28,
     "metadata": {},
     "output_type": "execute_result"
    }
   ],
   "source": [
    "t = sp.symbols('t')\n",
    "e = ((t * (t + 1))/ 2)^2\n",
    "compute_summation(lower_bound=1, upper_bound=10, summand=(e))"
   ]
  },
  {
   "cell_type": "markdown",
   "metadata": {},
   "source": [
    "<b>Telescoping Series</b>"
   ]
  },
  {
   "cell_type": "markdown",
   "metadata": {},
   "source": [
    "As well as important sums that come up alot, there are also special kinds of summation, when certain characteristics. One of these is a telesclping series. \n",
    "\n",
    "To get a telescoping series we need to do things. \n",
    "\n",
    "1. Start with a known sequence, $a_1,a_2, \\cdots, a_n$ for some natural number $n \\gt 1$\n",
    "2. Create a second sequence of sucessing differences: $b_1=a_2-a_1, \\quad b_2=a_3-a_2,\\quad \\ldots,\\quad b_{n-1}$\n",
    "\n",
    "It turns out that this approach creates te follwoing identity\n",
    "\n",
    "$$\\sum_{i=1}^{n-1} b_i=a_n-a_1.$$\n",
    "\n",
    "It's fairly trivial to prove this, details are here"
   ]
  },
  {
   "cell_type": "code",
   "execution_count": null,
   "metadata": {},
   "outputs": [],
   "source": []
  },
  {
   "cell_type": "markdown",
   "metadata": {},
   "source": [
    "\n",
    "\n",
    "\n",
    "<b>Arithmetic Sequences</b>\n",
    "\n",
    "$$  a_1+a_2+\\ldots+a_n=\\sum_{i=1}^n a_i=\\frac{n(a_1+a_n)}{2}.  $$\n",
    "\n",
    "<b>Geometric series<b/>\n",
    "    \n",
    "    $$ a_1+a_2+\\ldots+a_n=\\sum_{i=1}^n a_i=\\frac{n(a_1+a_n)}{2}. $$ \n",
    "    \n",
    "    constant ratio involved\n",
    "\n",
    "$$  a_1+a_2+\\ldots+a_n=\\sum_{k=1}^n a_k=\\frac{a_1(r^n-1)}{r-1}, \\quad \\text{when} \\quad r\\neq 1. $$\n"
   ]
  },
  {
   "cell_type": "markdown",
   "metadata": {},
   "source": [
    "Finally, let's wrap with a few examples of summation notation: "
   ]
  },
  {
   "cell_type": "code",
   "execution_count": null,
   "metadata": {},
   "outputs": [],
   "source": []
  },
  {
   "cell_type": "code",
   "execution_count": null,
   "metadata": {},
   "outputs": [],
   "source": []
  },
  {
   "cell_type": "code",
   "execution_count": null,
   "metadata": {},
   "outputs": [],
   "source": []
  },
  {
   "cell_type": "code",
   "execution_count": null,
   "metadata": {},
   "outputs": [],
   "source": []
  },
  {
   "cell_type": "code",
   "execution_count": null,
   "metadata": {},
   "outputs": [],
   "source": []
  },
  {
   "cell_type": "code",
   "execution_count": null,
   "metadata": {},
   "outputs": [],
   "source": []
  },
  {
   "cell_type": "code",
   "execution_count": null,
   "metadata": {},
   "outputs": [],
   "source": []
  },
  {
   "cell_type": "code",
   "execution_count": null,
   "metadata": {},
   "outputs": [],
   "source": []
  },
  {
   "cell_type": "code",
   "execution_count": null,
   "metadata": {},
   "outputs": [],
   "source": []
  },
  {
   "cell_type": "code",
   "execution_count": null,
   "metadata": {},
   "outputs": [],
   "source": []
  },
  {
   "cell_type": "code",
   "execution_count": null,
   "metadata": {},
   "outputs": [],
   "source": []
  },
  {
   "cell_type": "code",
   "execution_count": null,
   "metadata": {},
   "outputs": [],
   "source": []
  },
  {
   "cell_type": "code",
   "execution_count": null,
   "metadata": {},
   "outputs": [],
   "source": []
  },
  {
   "cell_type": "code",
   "execution_count": null,
   "metadata": {},
   "outputs": [],
   "source": []
  },
  {
   "cell_type": "code",
   "execution_count": null,
   "metadata": {},
   "outputs": [],
   "source": []
  },
  {
   "cell_type": "code",
   "execution_count": null,
   "metadata": {},
   "outputs": [],
   "source": []
  }
 ],
 "metadata": {
  "kernelspec": {
   "display_name": "SageMath 9.0",
   "language": "sage",
   "name": "sagemath"
  },
  "language_info": {
   "codemirror_mode": {
    "name": "ipython",
    "version": 3
   },
   "file_extension": ".py",
   "mimetype": "text/x-python",
   "name": "python",
   "nbconvert_exporter": "python",
   "pygments_lexer": "ipython3",
   "version": "3.7.3"
  }
 },
 "nbformat": 4,
 "nbformat_minor": 4
}
