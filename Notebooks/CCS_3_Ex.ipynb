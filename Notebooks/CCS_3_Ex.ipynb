{
 "cells": [
  {
   "cell_type": "code",
   "execution_count": 4,
   "id": "09d739b7-452b-440e-b856-8a6712d5a439",
   "metadata": {},
   "outputs": [],
   "source": [
    "# !pip install chempy\n",
    "# !pip install periodictable\n",
    "# !pip install PyAstronomy\n",
    "# !pip install molmass\n",
    "# !pip install rdkit\n",
    "# !pip install astropy\n",
    "\n",
    "\n",
    "import periodictable as pt\n",
    "import chempy as ch\n",
    "import numpy as np\n",
    "import sympy as sp\n",
    "import molmass as mm\n",
    "import pickle\n",
    "from IPython.display import HTML\n",
    "import ipywidgets as widgets\n",
    "import matplotlib as mpl\n",
    "import matplotlib.pyplot as plt\n",
    "from mpl_toolkits.mplot3d import Axes3D\n",
    "import matplotlib.pyplot as plt\n",
    "mpl.rcParams['legend.fontsize'] = 10\n",
    "import pandas as pd\n",
    "import itertools\n",
    "pd.set_option('display.max_colwidth', None)\n",
    "from sympy.plotting import plot \n",
    "from IPython.display import Image\n",
    "from PyAstronomy import pyasl\n",
    "import decimal\n",
    "\n",
    "from sympy.physics.units.systems import SI\n",
    "from rdkit import Chem\n",
    "from rdkit.Chem import Draw\n",
    "# from astropy import units as u\n",
    "import sympy.physics.units as u\n",
    "import scipy as scp\n",
    "\n",
    "from sympy.physics.units import speed_of_light, meter, gram, second, day, pound\n",
    "from sympy.physics.units import mile, newton, kilogram, atomic_mass_constant\n",
    "from sympy.physics.units import kilometer, centimeter, millimeter, nanometer\n",
    "from sympy.physics.units import gravitational_constant, hbar, kPa, newton\n",
    "from sympy.physics.units import convert_to\n",
    "\n",
    "def RTL(e):\n",
    "    \"\"\"INPUT PARAMS: [] of math expressions\"\"\"\n",
    "    latex_rendering = []\n",
    "\n",
    "    for i in range(len(e)):\n",
    "        latex_rendering.append(\"$\" + sp.latex(e[i]) + \"$ &nbsp;&nbsp;\")\n",
    "    \n",
    "    return(HTML(\"\".join(latex_rendering[0:])))\n",
    "\n",
    "def BalanceChemEquation(L, R):\n",
    "    \"\"\" INPUT PARAMS: 2 * {} containing react and prod\"\"\"\n",
    "    reac, prod = ch.balance_stoichiometry(L, R)\n",
    "    Reaction = ch.Reaction(reac, prod)\n",
    "    return([Reaction, [reac, prod]])\n",
    "    \n",
    "\n",
    "class Atom: \n",
    "    def __init__(self, pCount, nCount, eCount):\n",
    "        \"\"\"INPUT PARAMS: countOfProtons, countOfNeutrons, countOfElectrons\"\"\"\n",
    "        \n",
    "        an = pyasl.AtomicNo()\n",
    "        \n",
    "        self.Protons = pCount\n",
    "        self.Neutrons = nCount\n",
    "        self.Electrons = eCount\n",
    "        self.ElementName = an.getElementName(pCount)\n",
    "        self.ElementNameWithAtomicMass = an.getElementName(pCount) + \"(\" + str(self.Protons) + \",\" + str(self.Protons + self.Neutrons) + \")\"\n",
    "    \n",
    "    def CreateSummary(self):\n",
    "        print(\"Name: \", self.ElementName)\n",
    "        print(\"Protons: \", self.Protons)\n",
    "        print(\"Neutrons: \", self.Neutrons)\n",
    "        print(\"Electrons: \", self.Electrons)"
   ]
  },
  {
   "cell_type": "code",
   "execution_count": 6,
   "id": "47b68b33-e8df-466e-a08b-5fbb3aed3806",
   "metadata": {},
   "outputs": [],
   "source": [
    "# 3.1\n",
    "# (a)"
   ]
  },
  {
   "cell_type": "code",
   "execution_count": 7,
   "id": "e7b893cc-bd3b-4fc6-98ef-9a0c9cef1695",
   "metadata": {},
   "outputs": [],
   "source": [
    "# 3.3\n",
    "# NO2"
   ]
  },
  {
   "cell_type": "code",
   "execution_count": 8,
   "id": "af5fbf3c-289c-4da3-b960-ddf0ed18a3ab",
   "metadata": {},
   "outputs": [],
   "source": [
    "# 3.5\n",
    "# O5\n",
    "# C2\n",
    "# N1\n",
    "# "
   ]
  },
  {
   "cell_type": "code",
   "execution_count": 11,
   "id": "d6fd6362-6845-4adc-99ae-07ff04afd9e6",
   "metadata": {},
   "outputs": [
    {
     "data": {
      "text/html": [
       "2 CO + O2 &rarr; 2 CO2"
      ],
      "text/plain": [
       "<chempy.chemistry.Reaction at 0x7f79bfd8c7f0>"
      ]
     },
     "execution_count": 11,
     "metadata": {},
     "output_type": "execute_result"
    }
   ],
   "source": [
    "# 3.11\n",
    "#(a)\n",
    "BalanceChemEquation({\"CO\", \"O2\"}, {\"CO2\"})[0]"
   ]
  },
  {
   "cell_type": "code",
   "execution_count": 15,
   "id": "0545b612-6d99-4d41-93e1-ee5f623e47d5",
   "metadata": {},
   "outputs": [
    {
     "data": {
      "text/html": [
       "H2O + N2O5 &rarr; 2 HNO3"
      ],
      "text/plain": [
       "<chempy.chemistry.Reaction at 0x7f79c02bf850>"
      ]
     },
     "execution_count": 15,
     "metadata": {},
     "output_type": "execute_result"
    }
   ],
   "source": [
    "# (b)\n",
    "BalanceChemEquation({\"N2O5\", \"H2O\"}, {\"HNO3\"})[0]"
   ]
  },
  {
   "cell_type": "code",
   "execution_count": 16,
   "id": "bfcd1e67-ea6d-4cdc-963f-3ba0f954ef92",
   "metadata": {},
   "outputs": [
    {
     "data": {
      "text/html": [
       "6 Li + N2 &rarr; 2 Li3N"
      ],
      "text/plain": [
       "<chempy.chemistry.Reaction at 0x7f79bf73fac0>"
      ]
     },
     "execution_count": 16,
     "metadata": {},
     "output_type": "execute_result"
    }
   ],
   "source": [
    "#3.12\n",
    "BalanceChemEquation({\"Li\", \"N2\"}, {\"Li3N\"})[0]"
   ]
  },
  {
   "cell_type": "code",
   "execution_count": 17,
   "id": "3a03fb03-efa3-49d4-abcc-69a6fdace559",
   "metadata": {},
   "outputs": [
    {
     "data": {
      "text/html": [
       "4 C2H5NH2 + 15 O2 &rarr; 8 CO2 + 14 H2O + 2 N2"
      ],
      "text/plain": [
       "<chempy.chemistry.Reaction at 0x7f79bfd81be0>"
      ]
     },
     "execution_count": 17,
     "metadata": {},
     "output_type": "execute_result"
    }
   ],
   "source": [
    "#g\n",
    "BalanceChemEquation({\"C2H5NH2\", \"O2\"}, {\"CO2\", \"H2O\", \"N2\"})[0]"
   ]
  },
  {
   "cell_type": "code",
   "execution_count": 22,
   "id": "e4aabff5-0944-46b0-ab3f-5568164e10c9",
   "metadata": {},
   "outputs": [
    {
     "data": {
      "text/html": [
       "CaC2 + 2 H2O &rarr; C2H2 + Ca(OH)2"
      ],
      "text/plain": [
       "<chempy.chemistry.Reaction at 0x7f79bf93ddf0>"
      ]
     },
     "execution_count": 22,
     "metadata": {},
     "output_type": "execute_result"
    }
   ],
   "source": [
    "# 3.13\n",
    "BalanceChemEquation({\"CaC2\", \"H2O\"}, {\"Ca(OH)2\", \"C2H2\"})[0]"
   ]
  },
  {
   "cell_type": "code",
   "execution_count": 23,
   "id": "a8707ba5-90ab-4788-9763-8ab709d0a4de",
   "metadata": {},
   "outputs": [
    {
     "data": {
      "text/html": [
       "2 KClO3 &rarr; 2 KCl + 3 O2"
      ],
      "text/plain": [
       "<chempy.chemistry.Reaction at 0x7f79bf969eb0>"
      ]
     },
     "execution_count": 23,
     "metadata": {},
     "output_type": "execute_result"
    }
   ],
   "source": [
    "#(b)\n",
    "BalanceChemEquation({\"KClO3\"}, {\"KCl\", \"O2\"})[0]\n"
   ]
  },
  {
   "cell_type": "code",
   "execution_count": 25,
   "id": "0b5ed31d-68f8-4d59-b4a7-611e06d64e6f",
   "metadata": {},
   "outputs": [
    {
     "data": {
      "text/html": [
       "H2SO4 + Zn &rarr; H2 + ZnSO4"
      ],
      "text/plain": [
       "<chempy.chemistry.Reaction at 0x7f79bfb689a0>"
      ]
     },
     "execution_count": 25,
     "metadata": {},
     "output_type": "execute_result"
    }
   ],
   "source": [
    "# (c)\n",
    "BalanceChemEquation({\"Zn\", \"H2SO4\"}, {\"H2\", \"ZnSO4\"})[0]"
   ]
  },
  {
   "cell_type": "code",
   "execution_count": 28,
   "id": "f878bb55-ca3f-4664-a263-e0b1a647c1e0",
   "metadata": {},
   "outputs": [
    {
     "data": {
      "text/html": [
       "3 H2O + PCl3 &rarr; H3PO3 + 3 HCl"
      ],
      "text/plain": [
       "<chempy.chemistry.Reaction at 0x7f7a68c711f0>"
      ]
     },
     "execution_count": 28,
     "metadata": {},
     "output_type": "execute_result"
    }
   ],
   "source": [
    "# (d)\n",
    "BalanceChemEquation({\"PCl3\", \"H2O\"}, {\"H3PO3\", \"HCl\" })[0]"
   ]
  },
  {
   "cell_type": "code",
   "execution_count": 30,
   "id": "255051c1-258c-4199-94cb-e160f0e6c27e",
   "metadata": {},
   "outputs": [
    {
     "data": {
      "text/html": [
       "2 Hg(NO3)2 &rarr; 2 HgO + 4 NO2 + O2"
      ],
      "text/plain": [
       "<chempy.chemistry.Reaction at 0x7f79bf9635b0>"
      ]
     },
     "execution_count": 30,
     "metadata": {},
     "output_type": "execute_result"
    }
   ],
   "source": [
    "# (e)\n",
    "# mercury nitrate -> mercury oxide, nitrogen dioxide, oxygen\n",
    "BalanceChemEquation({\"Hg(NO3)2\"}, {\"HgO\", \"NO2\", \"O2\"})[0]\n",
    "# "
   ]
  },
  {
   "cell_type": "code",
   "execution_count": 32,
   "id": "e231f5c9-44bb-4156-a8e0-93d4734edf6d",
   "metadata": {},
   "outputs": [
    {
     "data": {
      "text/html": [
       "Cu + 2 H2SO4 &rarr; CuSO4 + 2 H2O + SO2"
      ],
      "text/plain": [
       "<chempy.chemistry.Reaction at 0x7f79bfd8cdc0>"
      ]
     },
     "execution_count": 32,
     "metadata": {},
     "output_type": "execute_result"
    }
   ],
   "source": [
    "#(f)\n",
    "# copper, sulfuric acid -> copper sulphase, sulpher dioxide, water\n",
    "BalanceChemEquation({\"Cu\", \"H2SO4\"}, {\"CuSO4\", \"SO2\", \"H2O\"})[0]"
   ]
  },
  {
   "cell_type": "code",
   "execution_count": 33,
   "id": "4a5728f8-437e-4231-8a8b-99b5c443fca1",
   "metadata": {},
   "outputs": [
    {
     "data": {
      "text/html": [
       "H2O + SO3 &rarr; H2SO4"
      ],
      "text/plain": [
       "<chempy.chemistry.Reaction at 0x7f79c032df10>"
      ]
     },
     "execution_count": 33,
     "metadata": {},
     "output_type": "execute_result"
    }
   ],
   "source": [
    "# 3.14\n",
    "# sulfur trioxide, water -> sulfuric acid\n",
    "BalanceChemEquation({\"SO3\", \"H2O\"}, {\"H2SO4\"})[0]"
   ]
  },
  {
   "cell_type": "code",
   "execution_count": 34,
   "id": "1ec75f14-415a-4dde-b765-c15134b8d646",
   "metadata": {},
   "outputs": [
    {
     "data": {
      "text/html": [
       "B2S3 + 6 H2O &rarr; 3 H2S + 2 H3BO3"
      ],
      "text/plain": [
       "<chempy.chemistry.Reaction at 0x7f79bf7349d0>"
      ]
     },
     "execution_count": 34,
     "metadata": {},
     "output_type": "execute_result"
    }
   ],
   "source": [
    "# (b)\n",
    "# boron sulfide, water -> boric acid, hydrogen sulfide \n",
    "BalanceChemEquation({\"B2S3\", \"H2O\"}, {\"H3BO3\", \"H2S\"})[0]"
   ]
  },
  {
   "cell_type": "code",
   "execution_count": 35,
   "id": "00caa930-8dfa-442a-9804-2a2b02987318",
   "metadata": {},
   "outputs": [
    {
     "data": {
      "text/html": [
       "6 O2 + 4 PH3 &rarr; 6 H2O + P4O6"
      ],
      "text/plain": [
       "<chempy.chemistry.Reaction at 0x7f79bfd9a970>"
      ]
     },
     "execution_count": 35,
     "metadata": {},
     "output_type": "execute_result"
    }
   ],
   "source": [
    "# (c)\n",
    "# phosphine, oxygen -> water tetrophosphoras decaoxide\n",
    "BalanceChemEquation({\"PH3\", \"O2\"}, {\"H2O\", \"P4O6\"})[0]"
   ]
  },
  {
   "cell_type": "code",
   "execution_count": 36,
   "id": "be40479a-80b8-4ff1-a961-995d93584f0f",
   "metadata": {},
   "outputs": [
    {
     "data": {
      "text/html": [
       "2 Hg(NO3)2 &rarr; 2 HgO + 4 NO2 + O2"
      ],
      "text/plain": [
       "<chempy.chemistry.Reaction at 0x7f79bf94eb20>"
      ]
     },
     "execution_count": 36,
     "metadata": {},
     "output_type": "execute_result"
    }
   ],
   "source": [
    "# (d)\n",
    "# mercury nitrate -> mercury oxisde, nitrogen dioxide, oxygen\n",
    "BalanceChemEquation({\"Hg(NO3)2\"}, {\"HgO\", \"O2\", \"NO2\" })[0]"
   ]
  },
  {
   "cell_type": "code",
   "execution_count": 37,
   "id": "d53fbcf6-8884-4d26-bc74-dde6e1655a63",
   "metadata": {},
   "outputs": [
    {
     "data": {
      "text/html": [
       "Cu + 2 H2SO4 &rarr; CuSO4 + 2 H2O + SO2"
      ],
      "text/plain": [
       "<chempy.chemistry.Reaction at 0x7f79bf7340a0>"
      ]
     },
     "execution_count": 37,
     "metadata": {},
     "output_type": "execute_result"
    }
   ],
   "source": [
    "# (e)\n",
    "# copper, sulfuric acid -> copper sulphate, sulpher dioxide, water\n",
    "BalanceChemEquation({\"Cu\", \"H2SO4\"}, {\"CuSO4\", \"SO2\", \"H2O\" })[0]"
   ]
  },
  {
   "cell_type": "code",
   "execution_count": 46,
   "id": "1af88f2c-ae85-4af3-9777-4d57f01c043f",
   "metadata": {},
   "outputs": [
    {
     "data": {
      "text/latex": [
       "$\\displaystyle 63.012859 amu$"
      ],
      "text/plain": [
       "63.012859*amu"
      ]
     },
     "execution_count": 46,
     "metadata": {},
     "output_type": "execute_result"
    }
   ],
   "source": [
    "# 3.21\n",
    "#(a)\n",
    "amu, mol = sp.symbols('amu, mol')\n",
    "mm.Formula(\"HNO3\").mass * amu\n"
   ]
  },
  {
   "cell_type": "code",
   "execution_count": 47,
   "id": "d7d0c467-5cd0-41bd-a28b-2b3af2f643bd",
   "metadata": {},
   "outputs": [
    {
     "data": {
      "text/latex": [
       "$\\displaystyle 158.033964 amu$"
      ],
      "text/plain": [
       "158.033964*amu"
      ]
     },
     "execution_count": 47,
     "metadata": {},
     "output_type": "execute_result"
    }
   ],
   "source": [
    "# (b)\n",
    "mm.Formula(\"KMnO4\").mass * amu"
   ]
  },
  {
   "cell_type": "code",
   "execution_count": 48,
   "id": "c7eeefb1-faba-48e2-9386-c4334dc5ecf4",
   "metadata": {},
   "outputs": [
    {
     "data": {
      "text/latex": [
       "$\\displaystyle 310.176763996 amu$"
      ],
      "text/plain": [
       "310.176763996*amu"
      ]
     },
     "execution_count": 48,
     "metadata": {},
     "output_type": "execute_result"
    }
   ],
   "source": [
    "# (c)\n",
    "mm.Formula(\"Ca3(PO4)2\").mass * amu"
   ]
  },
  {
   "cell_type": "code",
   "execution_count": 49,
   "id": "657add68-e123-48cf-9ee9-e3b784c9ffeb",
   "metadata": {},
   "outputs": [
    {
     "data": {
      "text/latex": [
       "$\\displaystyle 60.08431 amu$"
      ],
      "text/plain": [
       "60.08431*amu"
      ]
     },
     "execution_count": 49,
     "metadata": {},
     "output_type": "execute_result"
    }
   ],
   "source": [
    "#(d)\n",
    "mm.Formula(\"SiO2\").mass * amu"
   ]
  },
  {
   "cell_type": "code",
   "execution_count": 51,
   "id": "2befc6f0-5114-474c-9ca9-86809187ea64",
   "metadata": {},
   "outputs": [
    {
     "data": {
      "text/latex": [
       "$\\displaystyle \\frac{235.6404 \\text{g}}{mol}$"
      ],
      "text/plain": [
       "235.6404*gram/mol"
      ]
     },
     "execution_count": 51,
     "metadata": {},
     "output_type": "execute_result"
    }
   ],
   "source": [
    "# (e)\n",
    "(mm.Formula(\"Ga2S3\").mass * u.gram) / mol"
   ]
  },
  {
   "cell_type": "code",
   "execution_count": 52,
   "id": "159b5e70-ad5d-4a72-8daf-d813ede24117",
   "metadata": {},
   "outputs": [
    {
     "data": {
      "text/latex": [
       "$\\displaystyle \\frac{392.17946 \\text{g}}{mol}$"
      ],
      "text/plain": [
       "392.17946*gram/mol"
      ]
     },
     "execution_count": 52,
     "metadata": {},
     "output_type": "execute_result"
    }
   ],
   "source": [
    "# (f)\n",
    "(mm.Formula(\"Cr2(SO4)3\").mass * u.gram) / mol"
   ]
  },
  {
   "cell_type": "code",
   "execution_count": 53,
   "id": "bfa955e1-efae-4dcf-8665-5c3347e9a79d",
   "metadata": {},
   "outputs": [
    {
     "data": {
      "text/latex": [
       "$\\displaystyle 137.332461998 amu$"
      ],
      "text/plain": [
       "137.332461998*amu"
      ]
     },
     "execution_count": 53,
     "metadata": {},
     "output_type": "execute_result"
    }
   ],
   "source": [
    "# (g)\n",
    "mm.Formula(\"PCl3\").mass * amu"
   ]
  },
  {
   "cell_type": "code",
   "execution_count": 54,
   "id": "6d8d29cc-decb-4cff-b69d-9c9228912715",
   "metadata": {},
   "outputs": [
    {
     "data": {
      "text/latex": [
       "$\\displaystyle 44.012811 amu$"
      ],
      "text/plain": [
       "44.012811*amu"
      ]
     },
     "execution_count": 54,
     "metadata": {},
     "output_type": "execute_result"
    }
   ],
   "source": [
    "# 3.22\n",
    "mm.Formula(\"N2O\").mass * amu"
   ]
  },
  {
   "cell_type": "code",
   "execution_count": 55,
   "id": "23590e76-6365-4fa4-8c8f-249b084f58e2",
   "metadata": {},
   "outputs": [
    {
     "data": {
      "text/latex": [
       "$\\displaystyle 122.121636 amu$"
      ],
      "text/plain": [
       "122.121636*amu"
      ]
     },
     "execution_count": 55,
     "metadata": {},
     "output_type": "execute_result"
    }
   ],
   "source": [
    "# (b)\n",
    "mm.Formula(\"HC7H5O2\").mass * amu"
   ]
  },
  {
   "cell_type": "code",
   "execution_count": 56,
   "id": "770b50c4-6e36-4bbf-921a-35ac98784e20",
   "metadata": {},
   "outputs": [
    {
     "data": {
      "text/latex": [
       "$\\displaystyle \\frac{58.319792 \\text{g}}{mol}$"
      ],
      "text/plain": [
       "58.319792*gram/mol"
      ]
     },
     "execution_count": 56,
     "metadata": {},
     "output_type": "execute_result"
    }
   ],
   "source": [
    "# (c)\n",
    "(mm.Formula(\"Mg(OH)2\").mass * u.gram) / mol"
   ]
  },
  {
   "cell_type": "code",
   "execution_count": 57,
   "id": "42e1cbfa-6763-4e69-9fb2-c01fe7b93f6a",
   "metadata": {},
   "outputs": [
    {
     "data": {
      "text/latex": [
       "$\\displaystyle \\frac{60.055315 \\text{g}}{mol}$"
      ],
      "text/plain": [
       "60.055315*gram/mol"
      ]
     },
     "execution_count": 57,
     "metadata": {},
     "output_type": "execute_result"
    }
   ],
   "source": [
    "# (d)\n",
    "(mm.Formula(\"(NH2)2CO\").mass * u.gram) / mol"
   ]
  },
  {
   "cell_type": "code",
   "execution_count": 58,
   "id": "59c41bd3-82c7-47bc-a23d-ed146a08ca14",
   "metadata": {},
   "outputs": [
    {
     "data": {
      "text/latex": [
       "$\\displaystyle 130.185164 \\text{g}$"
      ],
      "text/plain": [
       "130.185164*gram"
      ]
     },
     "execution_count": 58,
     "metadata": {},
     "output_type": "execute_result"
    }
   ],
   "source": [
    "# (e)\n",
    "mm.Formula(\"CH3CO2C5H11\").mass * u.gram"
   ]
  },
  {
   "cell_type": "code",
   "execution_count": 63,
   "id": "b211b569-80aa-4c24-8c2e-81114cce8656",
   "metadata": {},
   "outputs": [
    {
     "data": {
      "text/plain": [
       "0.16821506978712505"
      ]
     },
     "execution_count": 63,
     "metadata": {},
     "output_type": "execute_result"
    }
   ],
   "source": [
    "# 3.23\n",
    "# (a)\n",
    "mm.Formula(\"O3\").mass / mm.Formula(\"C17H19NO3\").mass"
   ]
  },
  {
   "cell_type": "code",
   "execution_count": 64,
   "id": "02b60739-5613-4fc3-a1b2-208c114c983c",
   "metadata": {},
   "outputs": [
    {
     "data": {
      "text/plain": [
       "0.16033342294634784"
      ]
     },
     "execution_count": 64,
     "metadata": {},
     "output_type": "execute_result"
    }
   ],
   "source": [
    "mm.Formula(\"O3\").mass / mm.Formula(\"C18H21NO3\").mass"
   ]
  },
  {
   "cell_type": "code",
   "execution_count": 65,
   "id": "4584538f-f5be-4727-8c96-9b9e3fcee834",
   "metadata": {},
   "outputs": [
    {
     "data": {
      "text/plain": [
       "0.21096702494419187"
      ]
     },
     "execution_count": 65,
     "metadata": {},
     "output_type": "execute_result"
    }
   ],
   "source": [
    "mm.Formula(\"O4\").mass / mm.Formula(\"C17H21NO4\").mass"
   ]
  },
  {
   "cell_type": "code",
   "execution_count": 66,
   "id": "25ff0e32-ebcb-4837-a111-0ced40b2e047",
   "metadata": {},
   "outputs": [
    {
     "data": {
      "text/plain": [
       "0.28799507942108404"
      ]
     },
     "execution_count": 66,
     "metadata": {},
     "output_type": "execute_result"
    }
   ],
   "source": [
    "mm.Formula(\"O8\").mass / mm.Formula(\"C22H24N2O8\").mass"
   ]
  },
  {
   "cell_type": "code",
   "execution_count": 67,
   "id": "97795322-17a6-495f-8881-d9fb4e5e78eb",
   "metadata": {},
   "outputs": [
    {
     "data": {
      "text/plain": [
       "0.2719063450592726"
      ]
     },
     "execution_count": 67,
     "metadata": {},
     "output_type": "execute_result"
    }
   ],
   "source": [
    "mm.Formula(\"O13\").mass / mm.Formula(\"C41H64O13\").mass"
   ]
  },
  {
   "cell_type": "code",
   "execution_count": 68,
   "id": "f7617b27-77d9-4ac0-94c5-2138f7f98191",
   "metadata": {},
   "outputs": [
    {
     "data": {
      "text/plain": [
       "0.264953638682294"
      ]
     },
     "execution_count": 68,
     "metadata": {},
     "output_type": "execute_result"
    }
   ],
   "source": [
    "mm.Formula(\"O24\").mass / mm.Formula(\"C66H75Cl2N9O24\").mass"
   ]
  },
  {
   "cell_type": "code",
   "execution_count": 69,
   "id": "dce9bf74-4bbf-4488-a54f-de939680abf3",
   "metadata": {},
   "outputs": [
    {
     "data": {
      "text/plain": [
       "0.9225773332951318"
      ]
     },
     "execution_count": 69,
     "metadata": {},
     "output_type": "execute_result"
    }
   ],
   "source": [
    "# 3.24\n",
    "mm.Formula(\"C2\").mass / mm.Formula(\"C2H2\").mass"
   ]
  },
  {
   "cell_type": "code",
   "execution_count": 70,
   "id": "523545cf-98c9-4aeb-8bc7-f22418b639d3",
   "metadata": {},
   "outputs": [
    {
     "data": {
      "text/plain": [
       "0.04578314016437404"
      ]
     },
     "execution_count": 70,
     "metadata": {},
     "output_type": "execute_result"
    }
   ],
   "source": [
    "mm.Formula(\"H8\").mass / mm.Formula(\"HC6H7O6\").mass"
   ]
  },
  {
   "cell_type": "code",
   "execution_count": 71,
   "id": "4b0d82ec-3f72-430d-87a0-b92b425aa27a",
   "metadata": {},
   "outputs": [
    {
     "data": {
      "text/plain": [
       "0.06102291070682849"
      ]
     },
     "execution_count": 71,
     "metadata": {},
     "output_type": "execute_result"
    }
   ],
   "source": [
    "mm.Formula(\"H8\").mass / mm.Formula(\"(NH4)2SO4\").mass"
   ]
  },
  {
   "cell_type": "code",
   "execution_count": 74,
   "id": "6b5c7be3-36b9-4de4-b35e-8305602f7826",
   "metadata": {},
   "outputs": [
    {
     "data": {
      "text/plain": [
       "0.65016979188581"
      ]
     },
     "execution_count": 74,
     "metadata": {},
     "output_type": "execute_result"
    }
   ],
   "source": [
    "mm.Formula(\"Pt\").mass / mm.Formula(\"PtCl2(NH3)2\").mass"
   ]
  },
  {
   "cell_type": "code",
   "execution_count": 75,
   "id": "e9c216c2-299c-406f-8c61-a13cc38d3f10",
   "metadata": {},
   "outputs": [
    {
     "data": {
      "text/plain": [
       "0.1174773888184402"
      ]
     },
     "execution_count": 75,
     "metadata": {},
     "output_type": "execute_result"
    }
   ],
   "source": [
    "mm.Formula(\"O2\").mass / mm.Formula(\"C18H24O2\").mass"
   ]
  },
  {
   "cell_type": "code",
   "execution_count": 76,
   "id": "25ebf47e-f9ad-4c50-b57b-812ef86ac662",
   "metadata": {},
   "outputs": [
    {
     "data": {
      "text/plain": [
       "0.70787285182642"
      ]
     },
     "execution_count": 76,
     "metadata": {},
     "output_type": "execute_result"
    }
   ],
   "source": [
    "mm.Formula(\"C18\").mass / mm.Formula(\"C18H27NO3\").mass"
   ]
  },
  {
   "cell_type": "code",
   "execution_count": 78,
   "id": "aeb187fd-3809-48b0-9409-42e048da1140",
   "metadata": {},
   "outputs": [
    {
     "data": {
      "text/plain": [
       "0.792248515770461"
      ]
     },
     "execution_count": 78,
     "metadata": {},
     "output_type": "execute_result"
    }
   ],
   "source": [
    "# 3.25\n",
    "# \n",
    "mm.Formula(\"C7\").mass / mm.Formula(\"C7H6O\").mass"
   ]
  },
  {
   "cell_type": "code",
   "execution_count": 81,
   "id": "64d94dc7-8fa1-436b-82cc-5a285f9e7d88",
   "metadata": {},
   "outputs": [
    {
     "data": {
      "text/plain": [
       "0.6315306992260539"
      ]
     },
     "execution_count": 81,
     "metadata": {},
     "output_type": "execute_result"
    }
   ],
   "source": [
    "# (b)\n",
    "# C8\n",
    "mm.Formula(\"C8\").mass / mm.Formula(\"C8H8O3\").mass"
   ]
  },
  {
   "cell_type": "code",
   "execution_count": 82,
   "id": "37650320-38b6-410c-bec1-000200cdb163",
   "metadata": {},
   "outputs": [
    {
     "data": {
      "text/plain": [
       "0.645812298550394"
      ]
     },
     "execution_count": 82,
     "metadata": {},
     "output_type": "execute_result"
    }
   ],
   "source": [
    "# (c)\n",
    "mm.Formula(\"C7\").mass / mm.Formula(\"C7H14O2\").mass"
   ]
  },
  {
   "cell_type": "code",
   "execution_count": 85,
   "id": "9a755592-7b4e-4c54-9e18-5b0995202de1",
   "metadata": {},
   "outputs": [
    {
     "data": {
      "text/plain": [
       "3.01107038e+23"
      ]
     },
     "execution_count": 85,
     "metadata": {},
     "output_type": "execute_result"
    }
   ],
   "source": [
    "# 3.29\n",
    "mol = sp.symbols('mol')\n",
    "\n",
    "# number of atoms in .5 H20\n",
    ".5 * scp.constants.Avogadro"
   ]
  },
  {
   "cell_type": "code",
   "execution_count": 87,
   "id": "74f1fa9c-d05f-4d96-884f-f6139e6afc25",
   "metadata": {},
   "outputs": [
    {
     "data": {
      "text/latex": [
       "$\\displaystyle 6.02482068406386 \\cdot 10^{23}$"
      ],
      "text/plain": [
       "6.02482068406386e+23"
      ]
     },
     "execution_count": 87,
     "metadata": {},
     "output_type": "execute_result"
    }
   ],
   "source": [
    "# number of mols in 23g of Na\n",
    "E1 = 23 * u.grams * (1 / ((mm.Formula(\"Na\").mass * u.gram) / mol))\n",
    "E1.subs({mol: scp.constants.Avogadro})"
   ]
  },
  {
   "cell_type": "code",
   "execution_count": 88,
   "id": "752d73b9-30c1-49a2-87a4-2f7777b73abe",
   "metadata": {},
   "outputs": [
    {
     "data": {
      "text/plain": [
       "3600000000000000000000000"
      ]
     },
     "execution_count": 88,
     "metadata": {},
     "output_type": "execute_result"
    }
   ],
   "source": [
    "# 3.30\n",
    "#number of atoms in 9 * 10^23 molescules of H2O2\n",
    "E1 = 4 * 9 * 10**23\n",
    "E1"
   ]
  },
  {
   "cell_type": "code",
   "execution_count": 89,
   "id": "d398a841-7604-45e0-9b32-bcf1accf7964",
   "metadata": {},
   "outputs": [
    {
     "data": {
      "text/plain": [
       "6.02214076e+24"
      ]
     },
     "execution_count": 89,
     "metadata": {},
     "output_type": "execute_result"
    }
   ],
   "source": [
    "# number of atoms in 2 mols of CH4\n",
    "2 * 5 * scp.constants.Avogadro"
   ]
  },
  {
   "cell_type": "code",
   "execution_count": 92,
   "id": "c2eef983-fefe-4b3b-9b0d-2098c1722995",
   "metadata": {},
   "outputs": [
    {
     "data": {
      "text/latex": [
       "$\\displaystyle 1.00003718888296 mol$"
      ],
      "text/plain": [
       "1.00003718888296*mol"
      ]
     },
     "execution_count": 92,
     "metadata": {},
     "output_type": "execute_result"
    }
   ],
   "source": [
    "# number of atoms in 16g of O2\n",
    "E2 = 2 * (16 * u.gram * (1 / ((mm.Formula(\"O2\").mass * u.gram) / mol)))\n",
    "E2"
   ]
  },
  {
   "cell_type": "code",
   "execution_count": 91,
   "id": "e91ced29-4069-4c43-9f6b-f9a322ee1c5b",
   "metadata": {},
   "outputs": [
    {
     "data": {
      "text/latex": [
       "$\\displaystyle 3.01118235834395 \\cdot 10^{23}$"
      ],
      "text/plain": [
       "3.01118235834395e+23"
      ]
     },
     "execution_count": 91,
     "metadata": {},
     "output_type": "execute_result"
    }
   ],
   "source": [
    "E3 = E2.subs({mol: scp.constants.Avogadro})\n",
    "E3"
   ]
  },
  {
   "cell_type": "code",
   "execution_count": 104,
   "id": "ded024dd-86fe-4794-b118-4e1147b736a5",
   "metadata": {},
   "outputs": [
    {
     "data": {
      "text/latex": [
       "$\\displaystyle \\frac{45359237 \\text{kg}}{625000}$"
      ],
      "text/plain": [
       "45359237*kilogram/625000"
      ]
     },
     "execution_count": 104,
     "metadata": {},
     "output_type": "execute_result"
    }
   ],
   "source": [
    "# 3.31\n",
    "# convert 116 pounds to kg\n",
    "E1 = convert_to(160 * u.pound, u.kg)\n",
    "E1"
   ]
  },
  {
   "cell_type": "code",
   "execution_count": 105,
   "id": "cc08c693-ce62-4e3f-8bed-0a8f81b2581c",
   "metadata": {},
   "outputs": [
    {
     "data": {
      "text/latex": [
       "$\\displaystyle 4.3705553596832 \\cdot 10^{25} \\text{kg}$"
      ],
      "text/plain": [
       "4.3705553596832e+25*kilogram"
      ]
     },
     "execution_count": 105,
     "metadata": {},
     "output_type": "execute_result"
    }
   ],
   "source": [
    "E2 = E1 * scp.constants.Avogadro\n",
    "E2"
   ]
  },
  {
   "cell_type": "code",
   "execution_count": 107,
   "id": "603546b1-34df-4f40-96cb-15f62222f6fb",
   "metadata": {},
   "outputs": [
    {
     "data": {
      "text/plain": [
       "6.02214076e+23"
      ]
     },
     "execution_count": 107,
     "metadata": {},
     "output_type": "execute_result"
    }
   ],
   "source": [
    "# 3.32\n",
    "E1 = scp.constants.Avogadro \n",
    "E1"
   ]
  },
  {
   "cell_type": "code",
   "execution_count": 108,
   "id": "efb87649-2c5c-4d71-a66f-c42582631ddb",
   "metadata": {},
   "outputs": [
    {
     "data": {
      "text/plain": [
       "6.02214076e+21"
      ]
     },
     "execution_count": 108,
     "metadata": {},
     "output_type": "execute_result"
    }
   ],
   "source": [
    "# convert to dolaars\n",
    "E2 = E1 / 100\n",
    "E2"
   ]
  },
  {
   "cell_type": "code",
   "execution_count": 109,
   "id": "d8285d40-6d96-4a66-acd6-5a8afadd8d5e",
   "metadata": {},
   "outputs": [
    {
     "data": {
      "text/plain": [
       "20073802533333.332"
      ]
     },
     "execution_count": 109,
     "metadata": {},
     "output_type": "execute_result"
    }
   ],
   "source": [
    "# divide this amogst 300mill\n",
    "E3 = E2 / (300000000)\n",
    "E3"
   ]
  },
  {
   "cell_type": "code",
   "execution_count": 110,
   "id": "81fd5264-97dd-4b4b-9570-4266c3cf0912",
   "metadata": {},
   "outputs": [
    {
     "data": {
      "text/plain": [
       "14400000000000.0"
      ]
     },
     "execution_count": 110,
     "metadata": {},
     "output_type": "execute_result"
    }
   ],
   "source": [
    "E4 = 14.4 * 1000000 * 1000000\n",
    "E4"
   ]
  },
  {
   "cell_type": "code",
   "execution_count": 111,
   "id": "b9c48394-1ed5-4206-9910-ea3408342f74",
   "metadata": {},
   "outputs": [
    {
     "data": {
      "text/plain": [
       "1.3940140648148147"
      ]
     },
     "execution_count": 111,
     "metadata": {},
     "output_type": "execute_result"
    }
   ],
   "source": [
    "E3 / E4"
   ]
  },
  {
   "cell_type": "code",
   "execution_count": 112,
   "id": "1fe0b080-eabc-4127-ae06-cd4d532cedc3",
   "metadata": {},
   "outputs": [],
   "source": [
    "# each person gets 1.4 times the GDP"
   ]
  },
  {
   "cell_type": "code",
   "execution_count": 113,
   "id": "d4731b04-1968-43cf-acef-155e66c724c8",
   "metadata": {},
   "outputs": [
    {
     "data": {
      "text/latex": [
       "$\\displaystyle 35.941188885 \\text{g}$"
      ],
      "text/plain": [
       "35.941188885*gram"
      ]
     },
     "execution_count": 113,
     "metadata": {},
     "output_type": "execute_result"
    }
   ],
   "source": [
    "# 3.33\n",
    "# (a)\n",
    "mol = sp.symbols('mol')\n",
    "\n",
    ".105 * mol * ((mm.Formula(\"C12H22O11\").mass * u.gram) / mol)\n"
   ]
  },
  {
   "cell_type": "code",
   "execution_count": 115,
   "id": "ffa7eb2a-4bac-4936-9658-c7fe34168eea",
   "metadata": {},
   "outputs": [
    {
     "data": {
      "text/latex": [
       "$\\displaystyle 0.765616587787742 mol$"
      ],
      "text/plain": [
       "0.765616587787742*mol"
      ]
     },
     "execution_count": 115,
     "metadata": {},
     "output_type": "execute_result"
    }
   ],
   "source": [
    "# (b)\n",
    "145 * u.grams * (1 / ((mm.Formula(\"Zn(NO3)2\").mass * u.gram) / mol))"
   ]
  },
  {
   "cell_type": "code",
   "execution_count": 118,
   "id": "086f6cf0-2b22-4d2a-aaae-9eeae4d31833",
   "metadata": {},
   "outputs": [
    {
     "data": {
      "text/latex": [
       "$\\displaystyle 6.02214076 \\cdot 10^{17}$"
      ],
      "text/plain": [
       "6.02214076000000e+17"
      ]
     },
     "execution_count": 118,
     "metadata": {},
     "output_type": "execute_result"
    }
   ],
   "source": [
    "# (c)\n",
    "1.0 * 10**-6 * mol * (scp.constants.Avogadro / mol)"
   ]
  },
  {
   "cell_type": "code",
   "execution_count": 121,
   "id": "0bff216e-a248-4a10-83e9-48413bc8499a",
   "metadata": {},
   "outputs": [
    {
     "data": {
      "text/plain": [
       "2.0306852642308784e+23"
      ]
     },
     "execution_count": 121,
     "metadata": {},
     "output_type": "execute_result"
    }
   ],
   "source": [
    "((mm.Formula(\"N\").mass / mm.Formula(\"NH3\").mass) * .410) * scp.constants.Avogadro"
   ]
  },
  {
   "cell_type": "code",
   "execution_count": 122,
   "id": "209e2c85-78ef-4bf7-88ee-a728dca9e460",
   "metadata": {},
   "outputs": [
    {
     "data": {
      "text/latex": [
       "$\\displaystyle 2.167182 \\text{g}$"
      ],
      "text/plain": [
       "2.167182*gram"
      ]
     },
     "execution_count": 122,
     "metadata": {},
     "output_type": "execute_result"
    }
   ],
   "source": [
    "# 3.34\n",
    "1.5 * 10 **-2 * mol * ((mm.Formula(\"CdS\").mass * u.grams) / mol)"
   ]
  },
  {
   "cell_type": "code",
   "execution_count": 123,
   "id": "e7c00e8f-1bdd-439c-9597-5e8122c1919f",
   "metadata": {},
   "outputs": [
    {
     "data": {
      "text/latex": [
       "$\\displaystyle 1.60773606701807 mol$"
      ],
      "text/plain": [
       "1.60773606701807*mol"
      ]
     },
     "execution_count": 123,
     "metadata": {},
     "output_type": "execute_result"
    }
   ],
   "source": [
    "# (b)\n",
    "86 * u.grams * (1 / ((mm.Formula(\"NH4Cl\").mass * u.grams) / mol))"
   ]
  },
  {
   "cell_type": "code",
   "execution_count": 124,
   "id": "fda1276e-6699-4daa-a509-267868ff200c",
   "metadata": {},
   "outputs": [
    {
     "data": {
      "text/plain": [
       "5.086902299972e+21"
      ]
     },
     "execution_count": 124,
     "metadata": {},
     "output_type": "execute_result"
    }
   ],
   "source": [
    "8.447 * 10**-3 * scp.constants.Avogadro"
   ]
  },
  {
   "cell_type": "code",
   "execution_count": 128,
   "id": "aabc32b0-dcd9-4493-bb6e-9f4a7e564a22",
   "metadata": {},
   "outputs": [
    {
     "data": {
      "text/latex": [
       "$\\displaystyle 0.372716957495 \\text{g}$"
      ],
      "text/plain": [
       "0.372716957495*gram"
      ]
     },
     "execution_count": 128,
     "metadata": {},
     "output_type": "execute_result"
    }
   ],
   "source": [
    "# 3.35\n",
    "2.5 * 10**-3 * mol * ((mm.Formula(\"(NH4)3PO4\").mass * u.gram) / mol)"
   ]
  },
  {
   "cell_type": "code",
   "execution_count": 142,
   "id": "1277f8f9-76da-446f-87bb-05054e71a3b6",
   "metadata": {},
   "outputs": [
    {
     "data": {
      "text/latex": [
       "$\\displaystyle 0.00191240095914483 mol$"
      ],
      "text/plain": [
       "0.00191240095914483*mol"
      ]
     },
     "execution_count": 142,
     "metadata": {},
     "output_type": "execute_result"
    }
   ],
   "source": [
    "# (b)\n",
    "# total Aluminum chloride\n",
    "E1 = .2550 * u.gram * (1 / ((mm.Formula(\"AlCl3\").mass * u.gram) / mol))\n",
    "E1"
   ]
  },
  {
   "cell_type": "code",
   "execution_count": 143,
   "id": "7a5b1d6b-f9f5-4856-a5a1-15f3e842fd66",
   "metadata": {},
   "outputs": [
    {
     "data": {
      "text/plain": [
       "0.7976489407584193"
      ]
     },
     "execution_count": 143,
     "metadata": {},
     "output_type": "execute_result"
    }
   ],
   "source": [
    "# find how much chloride there is in moles\n",
    "E2 = (3 * mm.Formula(\"Cl\").mass) / mm.Formula(\"AlCl3\").mass\n",
    "E2"
   ]
  },
  {
   "cell_type": "code",
   "execution_count": 144,
   "id": "3619380d-abf7-4a26-a31a-cceb9e7b5330",
   "metadata": {},
   "outputs": [
    {
     "data": {
      "text/latex": [
       "$\\displaystyle 0.00152542459936726 mol$"
      ],
      "text/plain": [
       "0.00152542459936726*mol"
      ]
     },
     "execution_count": 144,
     "metadata": {},
     "output_type": "execute_result"
    }
   ],
   "source": [
    "E1 * E2"
   ]
  },
  {
   "cell_type": "code",
   "execution_count": 148,
   "id": "ef0a7f6f-c21e-4c4f-bfb1-e42b0065c4c6",
   "metadata": {},
   "outputs": [
    {
     "data": {
      "text/latex": [
       "$\\displaystyle 0.00127861508172386 mol$"
      ],
      "text/plain": [
       "0.00127861508172386*mol"
      ]
     },
     "execution_count": 148,
     "metadata": {},
     "output_type": "execute_result"
    }
   ],
   "source": [
    "# (c)\n",
    "# Convert molecules to moles\n",
    "E1 = mol * (7.7* 10**20) / scp.constants.Avogadro\n",
    "E1"
   ]
  },
  {
   "cell_type": "code",
   "execution_count": 149,
   "id": "2ef53d67-5428-48b9-b93c-2a1e0499a84c",
   "metadata": {},
   "outputs": [
    {
     "data": {
      "text/latex": [
       "$\\displaystyle 0.248295479961515 \\text{g}$"
      ],
      "text/plain": [
       "0.248295479961515*gram"
      ]
     },
     "execution_count": 149,
     "metadata": {},
     "output_type": "execute_result"
    }
   ],
   "source": [
    "E2 = E1 * ((mm.Formula(\"C8H10N4O2\").mass * u.grams) / mol)\n",
    "E2"
   ]
  },
  {
   "cell_type": "code",
   "execution_count": 156,
   "id": "18b6da25-d393-48ba-8ac5-5a99b54cba99",
   "metadata": {},
   "outputs": [],
   "source": [
    "# (d)\n",
    "x = sp.symbols('x')\n",
    "E1 = sp.Eq(0.00105 / .406 * u.gram, 1 / x * u.gram)"
   ]
  },
  {
   "cell_type": "code",
   "execution_count": 157,
   "id": "2f58fc8f-e1d9-4d6c-86cd-05292539d85f",
   "metadata": {},
   "outputs": [
    {
     "data": {
      "text/plain": [
       "[386.666666666667]"
      ]
     },
     "execution_count": 157,
     "metadata": {},
     "output_type": "execute_result"
    }
   ],
   "source": [
    "sp.solve(E1, x)"
   ]
  },
  {
   "cell_type": "code",
   "execution_count": 158,
   "id": "f21c7c00-f4d8-4906-a047-9830005887b7",
   "metadata": {},
   "outputs": [
    {
     "data": {
      "text/latex": [
       "$\\displaystyle \\frac{386.666666666667 \\text{g}}{mol}$"
      ],
      "text/plain": [
       "386.666666666667*gram/mol"
      ]
     },
     "execution_count": 158,
     "metadata": {},
     "output_type": "execute_result"
    }
   ],
   "source": [
    ".406 * u.gram / (.00105 * mol)"
   ]
  },
  {
   "cell_type": "code",
   "execution_count": 161,
   "id": "7bf6910e-bf76-40af-aba8-b5a0c28f5842",
   "metadata": {},
   "outputs": [
    {
     "data": {
      "text/latex": [
       "$\\displaystyle 489.04988898 \\text{g}$"
      ],
      "text/plain": [
       "489.04988898*gram"
      ]
     },
     "execution_count": 161,
     "metadata": {},
     "output_type": "execute_result"
    }
   ],
   "source": [
    "# 3.36\n",
    "# (a)\n",
    "mol = sp.symbols('mol')\n",
    "E1 = 1.223 * mol * ((mm.Formula(\"Fe2(SO4)3\").mass * u.gram) / mol)\n",
    "E1"
   ]
  },
  {
   "cell_type": "code",
   "execution_count": 164,
   "id": "446ee8ac-db31-4b24-9c33-13e206637676",
   "metadata": {},
   "outputs": [
    {
     "data": {
      "text/latex": [
       "$\\displaystyle 0.0723831571147767 mol$"
      ],
      "text/plain": [
       "0.0723831571147767*mol"
      ]
     },
     "execution_count": 164,
     "metadata": {},
     "output_type": "execute_result"
    }
   ],
   "source": [
    "# (b)\n",
    "6.955 * u.gram * (1 / ((mm.Formula(\"(NH4)2CO3\").mass * u.gram) / mol))"
   ]
  },
  {
   "cell_type": "code",
   "execution_count": 167,
   "id": "5ba62c3f-69b4-4ec3-bd6b-ba8c4e1e94b6",
   "metadata": {},
   "outputs": [
    {
     "data": {
      "text/plain": [
       "0.18773273773842067"
      ]
     },
     "execution_count": 167,
     "metadata": {},
     "output_type": "execute_result"
    }
   ],
   "source": [
    "# Find mass of ammonium\n",
    "E1 = mm.Formula(\"NH4\").mass / mm.Formula(\"(NH4)2CO3\").mass\n",
    "E1"
   ]
  },
  {
   "cell_type": "code",
   "execution_count": 168,
   "id": "99cd1eb2-51d4-4f62-928e-7dfc3f949f33",
   "metadata": {},
   "outputs": [
    {
     "data": {
      "text/latex": [
       "$\\displaystyle 1.30568119097072 \\text{g}$"
      ],
      "text/plain": [
       "1.30568119097072*gram"
      ]
     },
     "execution_count": 168,
     "metadata": {},
     "output_type": "execute_result"
    }
   ],
   "source": [
    "# find amount of grams that must be just ammonia\n",
    "E2 = E1 * 6.955 * u.gram\n",
    "E2"
   ]
  },
  {
   "cell_type": "code",
   "execution_count": 171,
   "id": "42c38a78-d9bf-4619-b959-70ceaa07b364",
   "metadata": {},
   "outputs": [
    {
     "data": {
      "text/latex": [
       "$\\displaystyle 0.144766314229553 mol$"
      ],
      "text/plain": [
       "0.144766314229553*mol"
      ]
     },
     "execution_count": 171,
     "metadata": {},
     "output_type": "execute_result"
    }
   ],
   "source": [
    "# Find moles of this\n",
    "2 * (E2 * (1 / ((mm.Formula(\"NH4\").mass * u.gram ) / mol)))"
   ]
  },
  {
   "cell_type": "code",
   "execution_count": 172,
   "id": "fe4c47c9-cf63-4bf2-96ca-d9fa8512df30",
   "metadata": {},
   "outputs": [
    {
     "data": {
      "text/latex": [
       "$\\displaystyle 0.00249080860076077 mol$"
      ],
      "text/plain": [
       "0.00249080860076077*mol"
      ]
     },
     "execution_count": 172,
     "metadata": {},
     "output_type": "execute_result"
    }
   ],
   "source": [
    "# (c)\n",
    "# find how many moles this is\n",
    "E1 = mol * (1.50 * 10**21) / scp.constants.Avogadro\n",
    "E1"
   ]
  },
  {
   "cell_type": "code",
   "execution_count": 173,
   "id": "24403006-a3ad-4f74-8b4f-88c6237a6416",
   "metadata": {},
   "outputs": [
    {
     "data": {
      "text/latex": [
       "$\\displaystyle 0.448738617660607 \\text{g}$"
      ],
      "text/plain": [
       "0.448738617660607*gram"
      ]
     },
     "execution_count": 173,
     "metadata": {},
     "output_type": "execute_result"
    }
   ],
   "source": [
    "# find the mass of this for aspirin\n",
    "E1 * ((mm.Formula(\"C9H8O4\").mass * u.gram) / mol)\n"
   ]
  },
  {
   "cell_type": "code",
   "execution_count": 174,
   "id": "8325bed9-b0f8-479a-a32b-2e7184f14ab5",
   "metadata": {},
   "outputs": [
    {
     "data": {
      "text/latex": [
       "$\\displaystyle \\frac{284.739676840215 \\text{g}}{mol}$"
      ],
      "text/plain": [
       "284.739676840215*gram/mol"
      ]
     },
     "execution_count": 174,
     "metadata": {},
     "output_type": "execute_result"
    }
   ],
   "source": [
    "15.86 * u.gram / (.05570 * mol)"
   ]
  },
  {
   "cell_type": "code",
   "execution_count": 175,
   "id": "8ab1ed3e-a964-4563-b91d-7d7fb4bea6c2",
   "metadata": {},
   "outputs": [
    {
     "data": {
      "text/latex": [
       "$\\displaystyle \\frac{162.272855 \\text{g}}{mol}$"
      ],
      "text/plain": [
       "162.272855*gram/mol"
      ]
     },
     "execution_count": 175,
     "metadata": {},
     "output_type": "execute_result"
    }
   ],
   "source": [
    "# 3.37\n",
    "# (a)\n",
    "mol = sp.symbols('mol')\n",
    "((mm.Formula(\"C6H10OS2\").mass * u.gram) / mol)"
   ]
  },
  {
   "cell_type": "code",
   "execution_count": 177,
   "id": "362b1441-bb97-4612-aa70-57190aabcee3",
   "metadata": {},
   "outputs": [
    {
     "data": {
      "text/latex": [
       "$\\displaystyle 3.08123006771527 \\cdot 10^{-5} mol$"
      ],
      "text/plain": [
       "3.08123006771527e-5*mol"
      ]
     },
     "execution_count": 177,
     "metadata": {},
     "output_type": "execute_result"
    }
   ],
   "source": [
    "# (b)\n",
    "# convert to grams\n",
    "E1 = convert_to(5 * u.milligram, u.gram)\n",
    "E2 = E1 * (1 / ((mm.Formula(\"C6H10OS2\").mass * u.gram) / mol))\n",
    "E2"
   ]
  },
  {
   "cell_type": "code",
   "execution_count": 180,
   "id": "f4f0de9a-83d9-471a-89df-fc9f5f75d8d2",
   "metadata": {},
   "outputs": [
    {
     "data": {
      "text/latex": [
       "$\\displaystyle 1.85556011817257 \\cdot 10^{19}$"
      ],
      "text/plain": [
       "1.85556011817257e+19"
      ]
     },
     "execution_count": 180,
     "metadata": {},
     "output_type": "execute_result"
    }
   ],
   "source": [
    "# (c)\n",
    "E3 = E2 * scp.constants.Avogadro / mol\n",
    "E3"
   ]
  },
  {
   "cell_type": "code",
   "execution_count": 185,
   "id": "23251c3d-b127-48f7-9dc1-2e37f0418a91",
   "metadata": {},
   "outputs": [
    {
     "data": {
      "text/latex": [
       "$\\displaystyle 1.95322117702376 \\cdot 10^{18}$"
      ],
      "text/plain": [
       "1.95322117702376e+18"
      ]
     },
     "execution_count": 185,
     "metadata": {},
     "output_type": "execute_result"
    }
   ],
   "source": [
    "(2 / 19) * E3"
   ]
  },
  {
   "cell_type": "code",
   "execution_count": 186,
   "id": "904ac2a6-b52b-4d6d-a811-755fbdb8397c",
   "metadata": {},
   "outputs": [
    {
     "data": {
      "text/latex": [
       "$\\displaystyle \\frac{294.303729 \\text{g}}{mol}$"
      ],
      "text/plain": [
       "294.303729*gram/mol"
      ]
     },
     "execution_count": 186,
     "metadata": {},
     "output_type": "execute_result"
    }
   ],
   "source": [
    "# 3.38\n",
    "# (a)\n",
    "E1 = ((mm.Formula(\"C14H18N2O5\").mass * u.gram) / mol)\n",
    "E1"
   ]
  },
  {
   "cell_type": "code",
   "execution_count": 188,
   "id": "39bf85a6-6014-43b9-b548-68debba15150",
   "metadata": {},
   "outputs": [
    {
     "data": {
      "text/latex": [
       "$\\displaystyle \\frac{\\text{g}}{1000}$"
      ],
      "text/plain": [
       "gram/1000"
      ]
     },
     "execution_count": 188,
     "metadata": {},
     "output_type": "execute_result"
    }
   ],
   "source": [
    "# (b)\n",
    "E2 = convert_to(u.milligram, u.gram)\n",
    "E2"
   ]
  },
  {
   "cell_type": "code",
   "execution_count": 190,
   "id": "d96cd679-4c92-447f-bf10-b871c2cc9372",
   "metadata": {},
   "outputs": [
    {
     "data": {
      "text/latex": [
       "$\\displaystyle 3.39785025285901 \\cdot 10^{-6} mol$"
      ],
      "text/plain": [
       "3.39785025285901e-6*mol"
      ]
     },
     "execution_count": 190,
     "metadata": {},
     "output_type": "execute_result"
    }
   ],
   "source": [
    "# (b) moles in 1 milligram\n",
    "E3 = E2 * 1 / E1\n",
    "E3"
   ]
  },
  {
   "cell_type": "code",
   "execution_count": 191,
   "id": "fc20a6bd-2cfb-404f-b75f-d20a04d7e2da",
   "metadata": {},
   "outputs": [
    {
     "data": {
      "text/latex": [
       "$\\displaystyle 2.04623325041186 \\cdot 10^{18}$"
      ],
      "text/plain": [
       "2.04623325041186e+18"
      ]
     },
     "execution_count": 191,
     "metadata": {},
     "output_type": "execute_result"
    }
   ],
   "source": [
    "# (c)\n",
    "E4 = E3 * (scp.constants.Avogadro / mol)\n",
    "E4"
   ]
  },
  {
   "cell_type": "code",
   "execution_count": 192,
   "id": "5ca6c64f-ee89-4532-bcbe-3b0ff63c8bff",
   "metadata": {},
   "outputs": [
    {
     "data": {
      "text/latex": [
       "$\\displaystyle 3.68321985074134 \\cdot 10^{19}$"
      ],
      "text/plain": [
       "3.68321985074134e+19"
      ]
     },
     "execution_count": 192,
     "metadata": {},
     "output_type": "execute_result"
    }
   ],
   "source": [
    "# (d)\n",
    "E4 * 18"
   ]
  },
  {
   "cell_type": "code",
   "execution_count": 200,
   "id": "69ae70bb-4f32-42be-8a43-512bcef48d13",
   "metadata": {},
   "outputs": [
    {
     "data": {
      "text/latex": [
       "$\\displaystyle 1.25 \\cdot 10^{21} atom$"
      ],
      "text/plain": [
       "1.25e+21*atom"
      ]
     },
     "execution_count": 200,
     "metadata": {},
     "output_type": "execute_result"
    }
   ],
   "source": [
    "# 3.39\n"
   ]
  },
  {
   "cell_type": "code",
   "execution_count": 216,
   "id": "11ccdf44-990c-4bc0-9293-0c054e976f5b",
   "metadata": {},
   "outputs": [],
   "source": [
    "\n"
   ]
  },
  {
   "cell_type": "code",
   "execution_count": 219,
   "id": "a3298e4f-410e-419e-879b-8e39495fef38",
   "metadata": {},
   "outputs": [
    {
     "data": {
      "text/latex": [
       "$\\displaystyle 1.25 \\cdot 10^{21} atom$"
      ],
      "text/plain": [
       "1.25e+21*atom"
      ]
     },
     "execution_count": 219,
     "metadata": {},
     "output_type": "execute_result"
    }
   ],
   "source": [
    "#(a)\n",
    "# glucose, C6H12O6 contains 1.250 * 10**21 atoms. How much hydrogen?\n",
    "atom, mol, molecule = sp.symbols('atom, mol, molecule')\n",
    "\n",
    "# Let E1 be atoms in carbon\n",
    "E1 = 1.250 * 10**21 * atom\n",
    "E1"
   ]
  },
  {
   "cell_type": "code",
   "execution_count": 220,
   "id": "51f20b29-b24a-4a93-8690-db499813f5e1",
   "metadata": {},
   "outputs": [
    {
     "data": {
      "text/latex": [
       "$\\displaystyle 2.5 \\cdot 10^{21} atom$"
      ],
      "text/plain": [
       "2.5e+21*atom"
      ]
     },
     "execution_count": 220,
     "metadata": {},
     "output_type": "execute_result"
    }
   ],
   "source": [
    "# Let E2 be atoms in hydrogen\n",
    "E2 = E1 * 2\n",
    "E2"
   ]
  },
  {
   "cell_type": "code",
   "execution_count": 223,
   "id": "9448fd50-0dd3-4662-8b95-6f47a0a29d99",
   "metadata": {},
   "outputs": [
    {
     "data": {
      "text/latex": [
       "$\\displaystyle 2.08333333333333 \\cdot 10^{20} molecule$"
      ],
      "text/plain": [
       "2.08333333333333e+20*molecule"
      ]
     },
     "execution_count": 223,
     "metadata": {},
     "output_type": "execute_result"
    }
   ],
   "source": [
    "# (b) find number of glucose molecules\n",
    "E3 = (molecule / (6 * atom)) * E1\n",
    "E3"
   ]
  },
  {
   "cell_type": "code",
   "execution_count": 231,
   "id": "5aa72959-5e9b-4226-b2bf-d3517198a111",
   "metadata": {},
   "outputs": [
    {
     "data": {
      "text/latex": [
       "$\\displaystyle 0.000345945638994551 mol$"
      ],
      "text/plain": [
       "0.000345945638994551*mol"
      ]
     },
     "execution_count": 231,
     "metadata": {},
     "output_type": "execute_result"
    }
   ],
   "source": [
    "### (c) how many moles is this\n",
    "E4 = E3 * (mol / (scp.constants.Avogadro * molecule))\n",
    "E4"
   ]
  },
  {
   "cell_type": "code",
   "execution_count": 232,
   "id": "9f74da29-418e-4910-8fba-628f3027187d",
   "metadata": {},
   "outputs": [
    {
     "data": {
      "text/latex": [
       "$\\displaystyle 0.0623242385818959 \\text{g}$"
      ],
      "text/plain": [
       "0.0623242385818959*gram"
      ]
     },
     "execution_count": 232,
     "metadata": {},
     "output_type": "execute_result"
    }
   ],
   "source": [
    "# (d)\n",
    "# Find the mass of this\n",
    "E5 = E4 * ((mm.Formula(\"C6H12O6\").mass * u.gram ) / mol)\n",
    "E5"
   ]
  },
  {
   "cell_type": "code",
   "execution_count": 233,
   "id": "25ea01b0-2040-497e-bc00-e37530c015bb",
   "metadata": {},
   "outputs": [
    {
     "data": {
      "text/latex": [
       "$\\displaystyle 2.63285714285714 \\cdot 10^{21} atom$"
      ],
      "text/plain": [
       "2.63285714285714e+21*atom"
      ]
     },
     "execution_count": 233,
     "metadata": {},
     "output_type": "execute_result"
    }
   ],
   "source": [
    "# 3.40\n",
    "# Sample of C19H28O2 contains 3.88 * 10**21 hydrogen atoms\n",
    "# (a) how many Carbon\n",
    "mol, atom, molecule = sp.symbols('mol, atom, molecule')\n",
    "\n",
    "# find number of atoms in sample given amount of hydrogen\n",
    "E1 = (19 / 28) * 3.88 * 10**21 * atom\n",
    "E1"
   ]
  },
  {
   "cell_type": "code",
   "execution_count": 234,
   "id": "833c8b79-237d-45f1-9454-32ccef4dc3bd",
   "metadata": {},
   "outputs": [
    {
     "data": {
      "text/latex": [
       "$\\displaystyle 1.38571428571429 \\cdot 10^{20} molecule$"
      ],
      "text/plain": [
       "1.38571428571429e+20*molecule"
      ]
     },
     "execution_count": 234,
     "metadata": {},
     "output_type": "execute_result"
    }
   ],
   "source": [
    "# how many molelcules of testosoterone\n",
    "E2 = molecule / (19 * atom) * E1\n",
    "E2"
   ]
  },
  {
   "cell_type": "code",
   "execution_count": 235,
   "id": "742c4515-fa02-47a3-8a4b-886844876e35",
   "metadata": {},
   "outputs": [
    {
     "data": {
      "text/latex": [
       "$\\displaystyle 0.000230103270736947 mol$"
      ],
      "text/plain": [
       "0.000230103270736947*mol"
      ]
     },
     "execution_count": 235,
     "metadata": {},
     "output_type": "execute_result"
    }
   ],
   "source": [
    "# (c) How many moles does it contain\n",
    "E3 = E2 * (mol / (scp.constants.Avogadro * molecule))\n",
    "E3"
   ]
  },
  {
   "cell_type": "code",
   "execution_count": 236,
   "id": "13359123-d719-4f0e-9cef-8d970f01abf3",
   "metadata": {},
   "outputs": [
    {
     "data": {
      "text/latex": [
       "$\\displaystyle 0.0663675860248171 \\text{g}$"
      ],
      "text/plain": [
       "0.0663675860248171*gram"
      ]
     },
     "execution_count": 236,
     "metadata": {},
     "output_type": "execute_result"
    }
   ],
   "source": [
    "# (d) find the mass of the sample in grams\n",
    "E4 = E3 * ((mm.Formula(\"C19H28O2\").mass * u.gram)/ mol)\n",
    "E4"
   ]
  },
  {
   "cell_type": "code",
   "execution_count": 240,
   "id": "9022096c-89c9-4139-8c63-044ed22d2372",
   "metadata": {},
   "outputs": [
    {
     "data": {
      "text/latex": [
       "$\\displaystyle 3.20009200904544 \\cdot 10^{-8} mol$"
      ],
      "text/plain": [
       "3.20009200904544e-8*mol"
      ]
     },
     "execution_count": 240,
     "metadata": {},
     "output_type": "execute_result"
    }
   ],
   "source": [
    "# 3.41\n",
    "mol, molecule = sp.symbols('mol, molecule')\n",
    "\n",
    "E1 = 2 * 10**-6 * u.gram * (1 / ((mm.Formula(\"C2H3Cl\").mass * u.gram) / mol))\n",
    "E1"
   ]
  },
  {
   "cell_type": "code",
   "execution_count": 241,
   "id": "78b1c92b-5245-467e-9913-80172c04f8ff",
   "metadata": {},
   "outputs": [
    {
     "data": {
      "text/latex": [
       "$\\displaystyle 1.92714045234229 \\cdot 10^{16} molecule$"
      ],
      "text/plain": [
       "1.92714045234229e+16*molecule"
      ]
     },
     "execution_count": 241,
     "metadata": {},
     "output_type": "execute_result"
    }
   ],
   "source": [
    "E2 = E1 * ((scp.constants.Avogadro * molecule) / mol)\n",
    "E2"
   ]
  },
  {
   "cell_type": "code",
   "execution_count": 242,
   "id": "e563a720-d30f-4a15-bd69-d9709ff17111",
   "metadata": {},
   "outputs": [
    {
     "data": {
      "text/latex": [
       "$\\displaystyle \\frac{\\text{g}}{40000}$"
      ],
      "text/plain": [
       "gram/40000"
      ]
     },
     "execution_count": 242,
     "metadata": {},
     "output_type": "execute_result"
    }
   ],
   "source": [
    "# 3.42\n",
    "# \n",
    "mol, molecule = sp.symbols('mol, molecule')\n",
    "\n",
    "# convert 25 micrograms to grams \n",
    "E1 = convert_to(25 * u.microgram, gram)\n",
    "E1"
   ]
  },
  {
   "cell_type": "code",
   "execution_count": 248,
   "id": "7d2a0163-fc24-4841-bb8c-87323b3d3d0e",
   "metadata": {},
   "outputs": [
    {
     "data": {
      "text/latex": [
       "$\\displaystyle 7.95007151566333 \\cdot 10^{-8} mol$"
      ],
      "text/plain": [
       "7.95007151566333e-8*mol"
      ]
     },
     "execution_count": 248,
     "metadata": {},
     "output_type": "execute_result"
    }
   ],
   "source": [
    "# find how many moles of THC this is\n",
    "E2 = E1 * (1 / ((mm.Formula(\"C21H30O2\").mass * u.gram) / mol))\n",
    "E2"
   ]
  },
  {
   "cell_type": "code",
   "execution_count": 249,
   "id": "355eb91e-8dca-407f-ba3c-27c6fa114665",
   "metadata": {},
   "outputs": [
    {
     "data": {
      "text/latex": [
       "$\\displaystyle 4.78764497193911 \\cdot 10^{16} molecule$"
      ],
      "text/plain": [
       "4.78764497193911e+16*molecule"
      ]
     },
     "execution_count": 249,
     "metadata": {},
     "output_type": "execute_result"
    }
   ],
   "source": [
    "# find how many molecules\n",
    "E3 = E2 * ((molecule * scp.constants.Avogadro) / mol)\n",
    "E3"
   ]
  },
  {
   "cell_type": "code",
   "execution_count": 250,
   "id": "c0dd0d4b-4d5e-48ef-969f-a6c598d0c08f",
   "metadata": {},
   "outputs": [],
   "source": [
    "# 3.43"
   ]
  },
  {
   "cell_type": "code",
   "execution_count": 251,
   "id": "31bb08d7-ecaa-40e3-b607-0bb1860fb1cf",
   "metadata": {},
   "outputs": [
    {
     "data": {
      "text/html": [
       "$0.013$ &nbsp;&nbsp;$0.039$ &nbsp;&nbsp;$0.0065$ &nbsp;&nbsp;"
      ],
      "text/plain": [
       "<IPython.core.display.HTML object>"
      ]
     },
     "execution_count": 251,
     "metadata": {},
     "output_type": "execute_result"
    }
   ],
   "source": [
    "# work out mol ratio\n",
    "E1 = np.array([.0130, .0390, .0065])\n",
    "RTL(E1)"
   ]
  },
  {
   "cell_type": "code",
   "execution_count": 255,
   "id": "902eec80-e2fe-4d16-8864-8c2f41940cfb",
   "metadata": {},
   "outputs": [
    {
     "data": {
      "text/html": [
       "$2.0$ &nbsp;&nbsp;$6.0$ &nbsp;&nbsp;$1.0$ &nbsp;&nbsp;"
      ],
      "text/plain": [
       "<IPython.core.display.HTML object>"
      ]
     },
     "execution_count": 255,
     "metadata": {},
     "output_type": "execute_result"
    }
   ],
   "source": [
    "E2 = E1 / E1[2]\n",
    "RTL(E2)"
   ]
  },
  {
   "cell_type": "code",
   "execution_count": 256,
   "id": "7467b33d-ec84-4fe2-a7d3-a2555358e782",
   "metadata": {},
   "outputs": [],
   "source": [
    "# the empirial formula is\n",
    "# C2H6O1"
   ]
  },
  {
   "cell_type": "code",
   "execution_count": 258,
   "id": "18321ba4-9ea3-4f16-85dd-d12c5ed55768",
   "metadata": {},
   "outputs": [
    {
     "data": {
      "text/latex": [
       "$\\displaystyle 0.208792192676157 mol$"
      ],
      "text/plain": [
       "0.208792192676157*mol"
      ]
     },
     "execution_count": 258,
     "metadata": {},
     "output_type": "execute_result"
    }
   ],
   "source": [
    "# (b)\n",
    "# Find moles of iron and oxygen from masses\n",
    "mol = sp.symbols('mol')\n",
    "# Find moles of iron\n",
    "E1 = 11.66 * u.gram * (1 / ((mm.Formula(\"Fe\").mass * u.gram) / mol))\n",
    "E1"
   ]
  },
  {
   "cell_type": "code",
   "execution_count": 259,
   "id": "901e3898-3749-456f-9fab-8138dbc0f30e",
   "metadata": {},
   "outputs": [
    {
     "data": {
      "text/latex": [
       "$\\displaystyle 0.313136644768977 mol$"
      ],
      "text/plain": [
       "0.313136644768977*mol"
      ]
     },
     "execution_count": 259,
     "metadata": {},
     "output_type": "execute_result"
    }
   ],
   "source": [
    "# find moles of oxygen\n",
    "E2 = 5.01 * u.gram * (1 / ((mm.Formula(\"O\").mass * u.gram) / mol))\n",
    "E2"
   ]
  },
  {
   "cell_type": "code",
   "execution_count": 261,
   "id": "039524e7-abc5-4dfd-94cf-7d74e4e0a000",
   "metadata": {},
   "outputs": [
    {
     "data": {
      "text/html": [
       "$0.208792192676157 mol$ &nbsp;&nbsp;$0.313136644768977 mol$ &nbsp;&nbsp;"
      ],
      "text/plain": [
       "<IPython.core.display.HTML object>"
      ]
     },
     "execution_count": 261,
     "metadata": {},
     "output_type": "execute_result"
    }
   ],
   "source": [
    "# find the mol ratio\n",
    "E3 = np.array([E1, E2])\n",
    "RTL(E3)"
   ]
  },
  {
   "cell_type": "code",
   "execution_count": 265,
   "id": "f48f6171-636c-4f75-9d12-e05c4d8bfc90",
   "metadata": {},
   "outputs": [
    {
     "data": {
      "text/html": [
       "$2.0$ &nbsp;&nbsp;$2.99950530482394$ &nbsp;&nbsp;"
      ],
      "text/plain": [
       "<IPython.core.display.HTML object>"
      ]
     },
     "execution_count": 265,
     "metadata": {},
     "output_type": "execute_result"
    }
   ],
   "source": [
    "E4 = E3  / E3[0] * 2\n",
    "RTL(E4)"
   ]
  },
  {
   "cell_type": "code",
   "execution_count": 266,
   "id": "efec38c9-6cd9-4a84-afb7-9c999d55cfa1",
   "metadata": {},
   "outputs": [],
   "source": [
    "# Ratio is \n",
    "#Fe2O3"
   ]
  },
  {
   "cell_type": "code",
   "execution_count": 268,
   "id": "ae028f1e-9b46-4771-af25-e98fff4dca55",
   "metadata": {},
   "outputs": [
    {
     "data": {
      "text/html": [
       "$3.33035266769575 mol$ &nbsp;&nbsp;$6.64721446989457 mol$ &nbsp;&nbsp;$3.33137388546637 mol$ &nbsp;&nbsp;"
      ],
      "text/plain": [
       "<IPython.core.display.HTML object>"
      ]
     },
     "execution_count": 268,
     "metadata": {},
     "output_type": "execute_result"
    }
   ],
   "source": [
    "# (c)\n",
    "# find by % mass\n",
    "mol = sp.symbols('mol')\n",
    "\n",
    "E1 = 40 * u.grams * (1 / ((mm.Formula(\"C\").mass * u.gram) / mol))\n",
    "E2 = 6.7 * u.gram * (1 / ((mm.Formula(\"H\").mass * u.gram) / mol))\n",
    "E3 = 53.3 * u.gram * (1 / ((mm.Formula(\"O\").mass * u.gram) / mol))\n",
    "E4 = np.array([E1, E2, E3])\n",
    "RTL(E4)"
   ]
  },
  {
   "cell_type": "code",
   "execution_count": 270,
   "id": "f77c160f-4035-4c85-a7c0-3cedc381673b",
   "metadata": {},
   "outputs": [
    {
     "data": {
      "text/html": [
       "$1.0$ &nbsp;&nbsp;$1.99594911805354$ &nbsp;&nbsp;$1.00030663952816$ &nbsp;&nbsp;"
      ],
      "text/plain": [
       "<IPython.core.display.HTML object>"
      ]
     },
     "execution_count": 270,
     "metadata": {},
     "output_type": "execute_result"
    }
   ],
   "source": [
    "E5 = E4 / E4[0]\n",
    "RTL(E5)"
   ]
  },
  {
   "cell_type": "code",
   "execution_count": 271,
   "id": "b741a60f-c36a-4f27-8344-a0c9889472a6",
   "metadata": {},
   "outputs": [],
   "source": [
    "# Empirical formula is CH2O"
   ]
  },
  {
   "cell_type": "code",
   "execution_count": 273,
   "id": "8a8143fd-be49-4930-8b8c-43e57e870545",
   "metadata": {},
   "outputs": [
    {
     "data": {
      "text/html": [
       "$0.104$ &nbsp;&nbsp;$0.052$ &nbsp;&nbsp;$0.156$ &nbsp;&nbsp;"
      ],
      "text/plain": [
       "<IPython.core.display.HTML object>"
      ]
     },
     "execution_count": 273,
     "metadata": {},
     "output_type": "execute_result"
    }
   ],
   "source": [
    "#3.44\n",
    "# (a)\n",
    "# find mol ratio and normalise\n",
    "E1 = np.array([.104, .052, .156])\n",
    "RTL(E1)"
   ]
  },
  {
   "cell_type": "code",
   "execution_count": 274,
   "id": "fc168987-9e38-4e40-b3af-c6ee5c435586",
   "metadata": {},
   "outputs": [
    {
     "data": {
      "text/html": [
       "$2.0$ &nbsp;&nbsp;$1.0$ &nbsp;&nbsp;$3.0$ &nbsp;&nbsp;"
      ],
      "text/plain": [
       "<IPython.core.display.HTML object>"
      ]
     },
     "execution_count": 274,
     "metadata": {},
     "output_type": "execute_result"
    }
   ],
   "source": [
    "E2 = E1 / E1[1]\n",
    "RTL(E2)"
   ]
  },
  {
   "cell_type": "code",
   "execution_count": 275,
   "id": "3203e790-ca7f-4f80-a625-b49a3b55427c",
   "metadata": {},
   "outputs": [],
   "source": [
    "# Emp form: K2CO3"
   ]
  },
  {
   "cell_type": "code",
   "execution_count": 278,
   "id": "5e396cdc-bed5-4586-94fa-fc946cb42f32",
   "metadata": {},
   "outputs": [
    {
     "data": {
      "text/html": [
       "$0.0444781400050543 mol$ &nbsp;&nbsp;$0.177383329066476 mol$ &nbsp;&nbsp;"
      ],
      "text/plain": [
       "<IPython.core.display.HTML object>"
      ]
     },
     "execution_count": 278,
     "metadata": {},
     "output_type": "execute_result"
    }
   ],
   "source": [
    "# (b)\n",
    "# Convert to moles and find ratio\n",
    "mol = sp.symbols('mol')\n",
    "E1 = 5.28 * u.gram * (1 / ((mm.Formula(\"Sn\").mass * u.gram) / mol))\n",
    "E2 = 3.37 * u.gram * (1 / ((mm.Formula(\"F\").mass * u.gram) / mol))\n",
    "E3 = np.array([E1, E2])\n",
    "RTL(E3)"
   ]
  },
  {
   "cell_type": "code",
   "execution_count": 279,
   "id": "af3fe7ba-df3d-412e-9f09-f130f6fe1945",
   "metadata": {},
   "outputs": [
    {
     "data": {
      "text/plain": [
       "array([1.00000000000000, 3.98810132452298], dtype=object)"
      ]
     },
     "execution_count": 279,
     "metadata": {},
     "output_type": "execute_result"
    }
   ],
   "source": [
    "E4 = E3 / E3[0]\n",
    "E4"
   ]
  },
  {
   "cell_type": "code",
   "execution_count": 280,
   "id": "f53b6fa9-e27a-4bd4-b023-0c6d4882a1dc",
   "metadata": {},
   "outputs": [],
   "source": [
    "# Empirical formula is SnF4"
   ]
  },
  {
   "cell_type": "code",
   "execution_count": 281,
   "id": "f067924e-191b-4da1-b441-b57c6b3f5453",
   "metadata": {},
   "outputs": [
    {
     "data": {
      "text/html": [
       "$6.24700902132358 mol$ &nbsp;&nbsp;$12.4015195333854 mol$ &nbsp;&nbsp;"
      ],
      "text/plain": [
       "<IPython.core.display.HTML object>"
      ]
     },
     "execution_count": 281,
     "metadata": {},
     "output_type": "execute_result"
    }
   ],
   "source": [
    "# (c)\n",
    "mol = sp.symbols('mol')\n",
    "E1 = 87.5 * u.gram * (1 / ((mm.Formula(\"N\").mass * u.gram) / mol))\n",
    "E2 = 12.5 * u.gram * (1 / ((mm.Formula(\"H\").mass * u.gram) / mol))\n",
    "E3 = np.array([E1, E2])\n",
    "RTL(E3)"
   ]
  },
  {
   "cell_type": "code",
   "execution_count": 283,
   "id": "fd717418-249a-4c0d-9096-405d33085c37",
   "metadata": {},
   "outputs": [
    {
     "data": {
      "text/html": [
       "$1.0$ &nbsp;&nbsp;$1.98519315260375$ &nbsp;&nbsp;"
      ],
      "text/plain": [
       "<IPython.core.display.HTML object>"
      ]
     },
     "execution_count": 283,
     "metadata": {},
     "output_type": "execute_result"
    }
   ],
   "source": [
    "E4 = E3 / E3[0]\n",
    "RTL(E4)"
   ]
  },
  {
   "cell_type": "code",
   "execution_count": 284,
   "id": "5d20c159-5e8a-4156-9591-88cdfb50187f",
   "metadata": {},
   "outputs": [],
   "source": [
    "# Empirical formula: NH2"
   ]
  },
  {
   "cell_type": "code",
   "execution_count": 285,
   "id": "6bb40cb8-2057-4392-a426-2c0b70d71814",
   "metadata": {},
   "outputs": [
    {
     "data": {
      "text/html": [
       "$0.865891693600894 mol$ &nbsp;&nbsp;$0.866994336468651 mol$ &nbsp;&nbsp;$1.74033717975116 mol$ &nbsp;&nbsp;"
      ],
      "text/plain": [
       "<IPython.core.display.HTML object>"
      ]
     },
     "execution_count": 285,
     "metadata": {},
     "output_type": "execute_result"
    }
   ],
   "source": [
    "# 3.45\n",
    "# converrt to moles and work out the ratio\n",
    "mol = sp.symbols('mol')\n",
    "\n",
    "E1 = 10.4 * u.gram * (1 / ((mm.Formula(\"C\").mass * u.gram) / mol))\n",
    "E2 = 27.8 * u.gram * (1 / ((mm.Formula(\"S\").mass * u.gram) / mol))\n",
    "E3 = 61.7 * u.gram * (1 / ((mm.Formula(\"Cl\").mass * u.gram) / mol))\n",
    "E4 = np.array([E1, E2, E3])\n",
    "RTL(E4)"
   ]
  },
  {
   "cell_type": "code",
   "execution_count": 286,
   "id": "3d253897-a832-45f1-895b-edcef452bf8a",
   "metadata": {},
   "outputs": [
    {
     "data": {
      "text/html": [
       "$1.0$ &nbsp;&nbsp;$1.00127341892284$ &nbsp;&nbsp;$2.00987859406966$ &nbsp;&nbsp;"
      ],
      "text/plain": [
       "<IPython.core.display.HTML object>"
      ]
     },
     "execution_count": 286,
     "metadata": {},
     "output_type": "execute_result"
    }
   ],
   "source": [
    "E5 = E4 / E4[0]\n",
    "RTL(E5)"
   ]
  },
  {
   "cell_type": "code",
   "execution_count": 287,
   "id": "d77c3632-4110-498e-aa06-b31f894a3694",
   "metadata": {},
   "outputs": [],
   "source": [
    "# Form: CSCl2"
   ]
  },
  {
   "cell_type": "code",
   "execution_count": 288,
   "id": "5723b564-5c0a-486d-ac79-923770fa0ef1",
   "metadata": {},
   "outputs": [
    {
     "data": {
      "text/html": [
       "$1.80671632222494 mol$ &nbsp;&nbsp;$0.600022313329777 mol$ &nbsp;&nbsp;$3.61609338482697 mol$ &nbsp;&nbsp;"
      ],
      "text/plain": [
       "<IPython.core.display.HTML object>"
      ]
     },
     "execution_count": 288,
     "metadata": {},
     "output_type": "execute_result"
    }
   ],
   "source": [
    "# (b)\n",
    "mol = sp.symbols('mol')\n",
    "\n",
    "E1 = 21.7 * u.gram * (1 / ((mm.Formula(\"C\").mass * u.gram) / mol))\n",
    "E2 = 9.6 * u.gram * (1 / ((mm.Formula(\"O\").mass * u.gram) / mol))\n",
    "E3 = 68.7 * u.gram * (1 / ((mm.Formula(\"F\").mass * u.gram ) / mol))\n",
    "E4 = np.array([E1, E2, E3])\n",
    "RTL(E4)"
   ]
  },
  {
   "cell_type": "code",
   "execution_count": 289,
   "id": "318c8578-2e79-42ba-9091-648122e16764",
   "metadata": {},
   "outputs": [
    {
     "data": {
      "text/html": [
       "$3.01108189160285$ &nbsp;&nbsp;$1.0$ &nbsp;&nbsp;$6.02659818559036$ &nbsp;&nbsp;"
      ],
      "text/plain": [
       "<IPython.core.display.HTML object>"
      ]
     },
     "execution_count": 289,
     "metadata": {},
     "output_type": "execute_result"
    }
   ],
   "source": [
    "E5 = E4 / E4[1]\n",
    "RTL(E5)"
   ]
  },
  {
   "cell_type": "code",
   "execution_count": 290,
   "id": "a9ac0e62-7514-43f5-98cd-0b1a3860ef67",
   "metadata": {},
   "outputs": [],
   "source": [
    "# C3OF6"
   ]
  },
  {
   "cell_type": "code",
   "execution_count": 293,
   "id": "962c6e7b-fcf4-43ba-b79e-c05c728523f3",
   "metadata": {},
   "outputs": [
    {
     "data": {
      "text/html": [
       "$1.4262866060394 mol$ &nbsp;&nbsp;$0.482552171737724 mol$ &nbsp;&nbsp;$2.85234498579 mol$ &nbsp;&nbsp;"
      ],
      "text/plain": [
       "<IPython.core.display.HTML object>"
      ]
     },
     "execution_count": 293,
     "metadata": {},
     "output_type": "execute_result"
    }
   ],
   "source": [
    "# (c)\n",
    "mol = sp.symbols('mol')\n",
    "\n",
    "E1 = 32.79 * u.gram * (1 / ((mm.Formula(\"Na\").mass * u.gram) / mol))\n",
    "E2 = 13.02 * u.gram * (1 / ((mm.Formula(\"Al\").mass * u.gram) / mol))\n",
    "E3 = 54.19 * u.gram * (1 / ((mm.Formula(\"F\").mass * u.gram) / mol))\n",
    "E4 = np.array([E1, E2, E3])\n",
    "RTL(E4)"
   ]
  },
  {
   "cell_type": "code",
   "execution_count": 296,
   "id": "87f38c01-5936-4343-a54b-ecac4d4bcb2f",
   "metadata": {},
   "outputs": [
    {
     "data": {
      "text/html": [
       "$2.95571482126623$ &nbsp;&nbsp;$1.0$ &nbsp;&nbsp;$5.91095668581989$ &nbsp;&nbsp;"
      ],
      "text/plain": [
       "<IPython.core.display.HTML object>"
      ]
     },
     "execution_count": 296,
     "metadata": {},
     "output_type": "execute_result"
    }
   ],
   "source": [
    "E5 = E4 / E4[1]\n",
    "RTL(E5)"
   ]
  },
  {
   "cell_type": "markdown",
   "id": "449f05c2-fcfe-4352-aead-9a9eb2022f8b",
   "metadata": {},
   "source": [
    "#### Can't do 3.47/3.48"
   ]
  },
  {
   "cell_type": "code",
   "execution_count": 313,
   "id": "e8637136-5eb0-4305-8edc-490e64921061",
   "metadata": {},
   "outputs": [
    {
     "data": {
      "text/latex": [
       "$\\displaystyle \\frac{14.026622 \\text{g}}{mol}$"
      ],
      "text/plain": [
       "14.026622*gram/mol"
      ]
     },
     "execution_count": 313,
     "metadata": {},
     "output_type": "execute_result"
    }
   ],
   "source": [
    "# 3.49\n",
    "# (a)\n",
    "E1 = (mm.Formula('CH2').mass * u.gram) / mol\n",
    "E1"
   ]
  },
  {
   "cell_type": "code",
   "execution_count": 315,
   "id": "eadfb7e6-0a03-45d1-8607-ed7c84ce2f7b",
   "metadata": {},
   "outputs": [],
   "source": [
    "# C6H12"
   ]
  },
  {
   "cell_type": "code",
   "execution_count": 316,
   "id": "eec6288d-f104-4a8c-ae5a-73235ba13811",
   "metadata": {},
   "outputs": [
    {
     "data": {
      "text/latex": [
       "$\\displaystyle \\frac{51.475485 \\text{g}}{mol}$"
      ],
      "text/plain": [
       "51.475485*gram/mol"
      ]
     },
     "execution_count": 316,
     "metadata": {},
     "output_type": "execute_result"
    }
   ],
   "source": [
    "# (b)\n",
    "mol = sp.symbols('mol')\n",
    "E1 = (mm.Formula(\"NH2Cl\").mass * u.gram) / mol\n",
    "E1"
   ]
  },
  {
   "cell_type": "code",
   "execution_count": 318,
   "id": "74b51fbd-bb37-42ec-9c5f-739f6b4d646a",
   "metadata": {},
   "outputs": [
    {
     "data": {
      "text/latex": [
       "$\\displaystyle \\frac{45.017491 \\text{g}}{mol}$"
      ],
      "text/plain": [
       "45.017491*gram/mol"
      ]
     },
     "execution_count": 318,
     "metadata": {},
     "output_type": "execute_result"
    }
   ],
   "source": [
    "# 3.50\n",
    "#(a)\n",
    "mol = sp.symbols('mol')\n",
    "\n",
    "E1 = (mm.Formula(\"HCO2\").mass * u.gram) / mol\n",
    "E1"
   ]
  },
  {
   "cell_type": "code",
   "execution_count": 319,
   "id": "1b81bb2d-478b-4bff-9036-b13fb54c56b1",
   "metadata": {},
   "outputs": [],
   "source": [
    "# H2C2O4"
   ]
  },
  {
   "cell_type": "code",
   "execution_count": 321,
   "id": "9fe6aff4-ddaa-4ecb-968b-9ecc7bf8993b",
   "metadata": {},
   "outputs": [
    {
     "data": {
      "text/latex": [
       "$\\displaystyle \\frac{44.052649 \\text{g}}{mol}$"
      ],
      "text/plain": [
       "44.052649*gram/mol"
      ]
     },
     "execution_count": 321,
     "metadata": {},
     "output_type": "execute_result"
    }
   ],
   "source": [
    "# (b)\n",
    "mol = sp.symbols('mol')\n",
    "E1 = (mm.Formula(\"C2H4O\").mass * u.gram) / mol\n",
    "E1"
   ]
  },
  {
   "cell_type": "code",
   "execution_count": 322,
   "id": "cc9b49ca-803a-4bcb-9bbe-73792786a0ea",
   "metadata": {},
   "outputs": [],
   "source": [
    "# C4H8O2"
   ]
  },
  {
   "cell_type": "code",
   "execution_count": 323,
   "id": "655f1ba4-fdbe-4683-9c0a-c64aca03c8d0",
   "metadata": {},
   "outputs": [
    {
     "data": {
      "text/html": [
       "$7.68478878070793 mol$ &nbsp;&nbsp;$7.6393360325654 mol$ &nbsp;&nbsp;"
      ],
      "text/plain": [
       "<IPython.core.display.HTML object>"
      ]
     },
     "execution_count": 323,
     "metadata": {},
     "output_type": "execute_result"
    }
   ],
   "source": [
    "# 3.51\n",
    "# (a)\n",
    "\n",
    "mol = sp.symbols('mol')\n",
    "\n",
    "E1 = 92.3 * u.gram * (1 / ((mm.Formula(\"C\").mass * u.gram) / mol))\n",
    "E2 = 7.7 * u.gram * (1 / ((mm.Formula(\"H\").mass * u.gram) / mol))\n",
    "E3 = np.array([E1, E2])\n",
    "RTL(E3)"
   ]
  },
  {
   "cell_type": "code",
   "execution_count": 324,
   "id": "b6c90ad7-8d78-4f19-bf27-ed5cfc1260a1",
   "metadata": {},
   "outputs": [
    {
     "data": {
      "text/latex": [
       "$\\displaystyle \\frac{13.018681 \\text{g}}{mol}$"
      ],
      "text/plain": [
       "13.018681*gram/mol"
      ]
     },
     "execution_count": 324,
     "metadata": {},
     "output_type": "execute_result"
    }
   ],
   "source": [
    "# must be 1:1\n",
    "E4 = ((mm.Formula(\"CH\").mass * u.gram) / mol)\n",
    "E4"
   ]
  },
  {
   "cell_type": "code",
   "execution_count": 326,
   "id": "c0be64f1-5636-48e7-b010-851f422597b5",
   "metadata": {},
   "outputs": [],
   "source": [
    "# C8H8"
   ]
  },
  {
   "cell_type": "code",
   "execution_count": 335,
   "id": "49f64452-344e-4c1a-8d68-5e341e6b41fe",
   "metadata": {},
   "outputs": [
    {
     "data": {
      "text/html": [
       "$4.12131142627349 mol$ &nbsp;&nbsp;$5.10942604775478 mol$ &nbsp;&nbsp;$2.06329783675716 mol$ &nbsp;&nbsp;$1.03128835103555 mol$ &nbsp;&nbsp;"
      ],
      "text/plain": [
       "<IPython.core.display.HTML object>"
      ]
     },
     "execution_count": 335,
     "metadata": {},
     "output_type": "execute_result"
    }
   ],
   "source": [
    "# (b)\n",
    "# find molar ratio first \n",
    "mol = sp.symbols('mol')\n",
    "\n",
    "E1 = 49.5 * u.gram * (1 / ((mm.Formula(\"C\").mass * u.gram) / mol))\n",
    "E2 = 5.15 * u.gram * (1 / ((mm.Formula(\"H\").mass * u.gram) / mol))\n",
    "E3 = 28.9 * u.gram * (1 / ((mm.Formula(\"N\").mass * u.gram) / mol))\n",
    "E4 = 16.5 * u.gram * (1 / ((mm.Formula(\"O\").mass * u.gram) / mol))\n",
    "\n",
    "E5 = np.array([E1, E2, E3, E4])\n",
    "RTL(E5)"
   ]
  },
  {
   "cell_type": "code",
   "execution_count": 338,
   "id": "40a8a7b3-3434-4f3d-9156-a26f795978fb",
   "metadata": {},
   "outputs": [
    {
     "data": {
      "text/html": [
       "$3.9962745842471$ &nbsp;&nbsp;$4.95441070639867$ &nbsp;&nbsp;$2.00069925611525$ &nbsp;&nbsp;$1.0$ &nbsp;&nbsp;"
      ],
      "text/plain": [
       "<IPython.core.display.HTML object>"
      ]
     },
     "execution_count": 338,
     "metadata": {},
     "output_type": "execute_result"
    }
   ],
   "source": [
    "E6 = E5 / E5[3]\n",
    "RTL(E6)"
   ]
  },
  {
   "cell_type": "code",
   "execution_count": 339,
   "id": "98ddb01b-a41b-4daa-8a03-2669618ba55f",
   "metadata": {},
   "outputs": [
    {
     "data": {
      "text/latex": [
       "$\\displaystyle \\frac{97.095476 \\text{g}}{mol}$"
      ],
      "text/plain": [
       "97.095476*gram/mol"
      ]
     },
     "execution_count": 339,
     "metadata": {},
     "output_type": "execute_result"
    }
   ],
   "source": [
    "# Empirical formula looks to be C4H50\n",
    "E6 = ((mm.Formula(\"C4H5N2O\").mass * u.gram) / mol)\n",
    "E6"
   ]
  },
  {
   "cell_type": "code",
   "execution_count": 341,
   "id": "78262ae3-54ef-4485-a1f3-a64177c23863",
   "metadata": {},
   "outputs": [],
   "source": [
    "# C8H10N4O2"
   ]
  },
  {
   "cell_type": "code",
   "execution_count": 342,
   "id": "0acaa796-44c2-4594-8c7d-8cfbb124ca76",
   "metadata": {},
   "outputs": [],
   "source": [
    "# (c)"
   ]
  },
  {
   "cell_type": "code",
   "execution_count": 344,
   "id": "aa506234-81b0-4859-abe0-500713350ec7",
   "metadata": {},
   "outputs": [
    {
     "data": {
      "text/html": [
       "$2.9565205807469 mol$ &nbsp;&nbsp;$4.73241985393986 mol$ &nbsp;&nbsp;$2.36571297495126 mol$ &nbsp;&nbsp;$0.591859483277399 mol$ &nbsp;&nbsp;$0.591567485274041 mol$ &nbsp;&nbsp;"
      ],
      "text/plain": [
       "<IPython.core.display.HTML object>"
      ]
     },
     "execution_count": 344,
     "metadata": {},
     "output_type": "execute_result"
    }
   ],
   "source": [
    "mol = sp.symbols('mol')\n",
    "E1 = 35.51 * u.gram * (1 / ((mm.Formula(\"C\").mass * u.gram) / mol))\n",
    "E2 = 4.77 * u.gram * (1 / ((mm.Formula(\"H\").mass * u.gram) / mol))\n",
    "E3 = 37.85 * u.gram * (1 / ((mm.Formula(\"O\").mass * u.gram) / mol))\n",
    "E4 = 8.29 * u.gram * (1 / ((mm.Formula(\"N\").mass * u.gram) / mol))\n",
    "E5 = 13.60 * u.gram * (1 / ((mm.Formula(\"Na\").mass * u.gram) / mol))\n",
    "E6 = np.array([E1, E2, E3, E4, E5])\n",
    "RTL(E6)"
   ]
  },
  {
   "cell_type": "code",
   "execution_count": 346,
   "id": "6e3fae36-642e-47ee-b423-ecefa9881bcd",
   "metadata": {},
   "outputs": [
    {
     "data": {
      "text/html": [
       "$4.99530828563442$ &nbsp;&nbsp;$7.99585034565007$ &nbsp;&nbsp;$3.9970855275499$ &nbsp;&nbsp;$1.0$ &nbsp;&nbsp;$0.999506643026582$ &nbsp;&nbsp;"
      ],
      "text/plain": [
       "<IPython.core.display.HTML object>"
      ]
     },
     "execution_count": 346,
     "metadata": {},
     "output_type": "execute_result"
    }
   ],
   "source": [
    "E7 = E6 / E6[3]\n",
    "RTL(E7)"
   ]
  },
  {
   "cell_type": "code",
   "execution_count": 347,
   "id": "89584f64-1a5e-4bf1-bc7c-d83ab1e1b8a7",
   "metadata": {},
   "outputs": [],
   "source": [
    "#C5H8O4NNa"
   ]
  },
  {
   "cell_type": "code",
   "execution_count": 349,
   "id": "bca0e303-a582-44d7-819a-01c3ee299f47",
   "metadata": {},
   "outputs": [
    {
     "data": {
      "text/latex": [
       "$\\displaystyle \\frac{169.11132028 \\text{g}}{mol}$"
      ],
      "text/plain": [
       "169.11132028*gram/mol"
      ]
     },
     "execution_count": 349,
     "metadata": {},
     "output_type": "execute_result"
    }
   ],
   "source": [
    "E8 = ((mm.Formula(\"C5H8O4NNa\").mass * u.gram) / mol)\n",
    "E8"
   ]
  },
  {
   "cell_type": "code",
   "execution_count": 352,
   "id": "f64fb7ca-422c-4775-b44c-643caf1987bc",
   "metadata": {},
   "outputs": [
    {
     "data": {
      "text/html": [
       "$6.30185983544727 mol$ &nbsp;&nbsp;$8.73066975150331 mol$ &nbsp;&nbsp;$0.969411049973421 mol$ &nbsp;&nbsp;"
      ],
      "text/plain": [
       "<IPython.core.display.HTML object>"
      ]
     },
     "execution_count": 352,
     "metadata": {},
     "output_type": "execute_result"
    }
   ],
   "source": [
    "# 3.52\n",
    "# (a)\n",
    "mol = sp.symbols('mol')\n",
    "\n",
    "E1 = 75.69 * u.gram * (1 / ((mm.Formula(\"C\").mass * u.gram) / mol))\n",
    "E2 = 8.8 * u.gram * (1 / ((mm.Formula(\"H\").mass * u.gram) / mol))\n",
    "E3 = 15.51 * u.gram *  (1 / ((mm.Formula(\"O\").mass * u.gram) / mol))\n",
    "E4 = np.array([E1, E2, E3])\n",
    "RTL(E4)"
   ]
  },
  {
   "cell_type": "code",
   "execution_count": 354,
   "id": "a6e1b002-405c-4264-866f-384510c23a19",
   "metadata": {},
   "outputs": [
    {
     "data": {
      "text/html": [
       "$6.50070972021627$ &nbsp;&nbsp;$9.00615868959064$ &nbsp;&nbsp;$1.0$ &nbsp;&nbsp;"
      ],
      "text/plain": [
       "<IPython.core.display.HTML object>"
      ]
     },
     "execution_count": 354,
     "metadata": {},
     "output_type": "execute_result"
    }
   ],
   "source": [
    "E5 = E4 / E4[2]\n",
    "RTL(E5)"
   ]
  },
  {
   "cell_type": "code",
   "execution_count": 355,
   "id": "5be3e5e2-adf9-424a-9f33-1d3ca22088c5",
   "metadata": {},
   "outputs": [
    {
     "data": {
      "text/html": [
       "$13.0014194404325$ &nbsp;&nbsp;$18.0123173791813$ &nbsp;&nbsp;$2.0$ &nbsp;&nbsp;"
      ],
      "text/plain": [
       "<IPython.core.display.HTML object>"
      ]
     },
     "execution_count": 355,
     "metadata": {},
     "output_type": "execute_result"
    }
   ],
   "source": [
    "E6 = E5 * 2\n",
    "RTL(E6)"
   ]
  },
  {
   "cell_type": "code",
   "execution_count": 358,
   "id": "237d8102-d610-46a1-9dbd-7b3bcec12353",
   "metadata": {},
   "outputs": [
    {
     "data": {
      "text/latex": [
       "$\\displaystyle \\frac{206.281368 \\text{g}}{mol}$"
      ],
      "text/plain": [
       "206.281368*gram/mol"
      ]
     },
     "execution_count": 358,
     "metadata": {},
     "output_type": "execute_result"
    }
   ],
   "source": [
    "# The formula is C13H18O2\n",
    "E7 = ((mm.Formula(\"C13H18O2\").mass * u.gram) / mol)\n",
    "E7"
   ]
  },
  {
   "cell_type": "code",
   "execution_count": 359,
   "id": "8cb51adc-d6bb-4008-9e97-2a3042431ff0",
   "metadata": {},
   "outputs": [],
   "source": [
    "# molecular is same"
   ]
  },
  {
   "cell_type": "code",
   "execution_count": 361,
   "id": "fa4c003e-15c2-477f-8754-a1ff4bab74e9",
   "metadata": {},
   "outputs": [
    {
     "data": {
      "text/html": [
       "$4.87480371733965 mol$ &nbsp;&nbsp;$13.7011987804842 mol$ &nbsp;&nbsp;$1.95620625353447 mol$ &nbsp;&nbsp;"
      ],
      "text/plain": [
       "<IPython.core.display.HTML object>"
      ]
     },
     "execution_count": 361,
     "metadata": {},
     "output_type": "execute_result"
    }
   ],
   "source": [
    "# (b)\n",
    "mol = sp.symbols('mol')\n",
    "\n",
    "E1 = 58.55 * u.gram * (1 / ((mm.Formula(\"C\").mass * u.gram) / mol))\n",
    "E2 = 13.81 * u.gram * (1 / ((mm.Formula(\"H\").mass * u.gram) / mol))\n",
    "E3 = 27.4 * u.gram * (1 / ((mm.Formula(\"N\").mass * u.gram) / mol))\n",
    "E4 = np.array([E1, E2, E3])\n",
    "RTL(E4)"
   ]
  },
  {
   "cell_type": "code",
   "execution_count": 362,
   "id": "9d019f10-d80a-4550-965e-28cba48b3620",
   "metadata": {},
   "outputs": [
    {
     "data": {
      "text/plain": [
       "array([2.49196816978366, 7.00396430883957, 1.00000000000000], dtype=object)"
      ]
     },
     "execution_count": 362,
     "metadata": {},
     "output_type": "execute_result"
    }
   ],
   "source": [
    "E5 = E4 / E4[2]\n",
    "E5"
   ]
  },
  {
   "cell_type": "code",
   "execution_count": 363,
   "id": "9ca83405-25b2-4a28-8927-e1333252b56e",
   "metadata": {},
   "outputs": [
    {
     "data": {
      "text/html": [
       "$4.98393633956733$ &nbsp;&nbsp;$14.0079286176791$ &nbsp;&nbsp;$2.0$ &nbsp;&nbsp;"
      ],
      "text/plain": [
       "<IPython.core.display.HTML object>"
      ]
     },
     "execution_count": 363,
     "metadata": {},
     "output_type": "execute_result"
    }
   ],
   "source": [
    "E6 = E5 * 2\n",
    "RTL(E6)"
   ]
  },
  {
   "cell_type": "code",
   "execution_count": 364,
   "id": "eb8bdf71-c034-45fa-b3ef-83b198af0d6a",
   "metadata": {},
   "outputs": [
    {
     "data": {
      "text/latex": [
       "$\\displaystyle \\frac{103.186221 \\text{g}}{mol}$"
      ],
      "text/plain": [
       "103.186221*gram/mol"
      ]
     },
     "execution_count": 364,
     "metadata": {},
     "output_type": "execute_result"
    }
   ],
   "source": [
    "# The impirical formula is C5H15N2\n",
    "E7 = ((mm.Formula(\"C5H15N2\").mass * u.gram)) / mol\n",
    "E7"
   ]
  },
  {
   "cell_type": "code",
   "execution_count": 365,
   "id": "b09779b9-d654-477c-868e-3a5f0f959f0a",
   "metadata": {},
   "outputs": [
    {
     "data": {
      "text/html": [
       "$4.91227018485122 mol$ &nbsp;&nbsp;$7.0440630949629 mol$ &nbsp;&nbsp;$1.63756089679585 mol$ &nbsp;&nbsp;$0.549736793876475 mol$ &nbsp;&nbsp;"
      ],
      "text/plain": [
       "<IPython.core.display.HTML object>"
      ]
     },
     "execution_count": 365,
     "metadata": {},
     "output_type": "execute_result"
    }
   ],
   "source": [
    "# (c)\n",
    "mol = sp.symbols('mol')\n",
    "E1 = 59.0 * u.gram * (1 / ((mm.Formula(\"C\").mass * u.gram) / mol))\n",
    "E2 = 7.1 * u.gram * (1 / ((mm.Formula(\"H\").mass * u.gram) / mol))\n",
    "E3 = 26.2 * u.gram * (1 / ((mm.Formula(\"O\").mass * u.gram) / mol))\n",
    "E4 = 7.7 * u.gram * (1 / ((mm.Formula(\"N\").mass * u.gram) / mol))\n",
    "E5 = np.array([E1, E2, E3, E4])\n",
    "RTL(E5)"
   ]
  },
  {
   "cell_type": "code",
   "execution_count": 366,
   "id": "55062d4e-3b2c-4643-94db-5d389e3cdd68",
   "metadata": {},
   "outputs": [
    {
     "data": {
      "text/html": [
       "$8.93567656298262$ &nbsp;&nbsp;$12.8135194395333$ &nbsp;&nbsp;$2.97880897738092$ &nbsp;&nbsp;$1.0$ &nbsp;&nbsp;"
      ],
      "text/plain": [
       "<IPython.core.display.HTML object>"
      ]
     },
     "execution_count": 366,
     "metadata": {},
     "output_type": "execute_result"
    }
   ],
   "source": [
    "E6 = E5 / E5[3]\n",
    "RTL(E6)"
   ]
  },
  {
   "cell_type": "code",
   "execution_count": 391,
   "id": "fa069433-a3e4-4d8e-bd58-fad1c4550e51",
   "metadata": {},
   "outputs": [
    {
     "data": {
      "text/latex": [
       "$\\displaystyle \\frac{183.204811 \\text{g}}{mol}$"
      ],
      "text/plain": [
       "183.204811*gram/mol"
      ]
     },
     "execution_count": 391,
     "metadata": {},
     "output_type": "execute_result"
    }
   ],
   "source": [
    "# Chem formula is C9H13O3N1\n",
    "E7 = ((mm.Formula(\"C9H13O3N\").mass * u.gram) / mol)\n",
    "E7"
   ]
  },
  {
   "cell_type": "code",
   "execution_count": 397,
   "id": "a0a19c80-6b2f-4c1b-a7a0-7555e20907e9",
   "metadata": {},
   "outputs": [
    {
     "data": {
      "text/plain": [
       "0.27291212929920894"
      ]
     },
     "execution_count": 397,
     "metadata": {},
     "output_type": "execute_result"
    }
   ],
   "source": [
    "# REDO 3.15 in SAMPLE EXERCISE\n",
    "# 3.15\n",
    "mol = sp.symbols('mol')\n",
    "\n",
    "# First find now much of CO2 is just C\n",
    "E1 = mm.Formula(\"C\").mass / mm.Formula(\"CO2\").mass\n",
    "E1"
   ]
  },
  {
   "cell_type": "code",
   "execution_count": 398,
   "id": "9c9fa43f-7012-4651-8f12-6722c6f3c63c",
   "metadata": {},
   "outputs": [
    {
     "data": {
      "text/latex": [
       "$\\displaystyle 0.153103704536856 \\text{g}$"
      ],
      "text/plain": [
       "0.153103704536856*gram"
      ]
     },
     "execution_count": 398,
     "metadata": {},
     "output_type": "execute_result"
    }
   ],
   "source": [
    "# now get the grams of just C\n",
    "E2 = E1 * .561 * u.gram\n",
    "E2"
   ]
  },
  {
   "cell_type": "code",
   "execution_count": 399,
   "id": "fe4208c8-a847-4395-99da-cacfb79f247f",
   "metadata": {},
   "outputs": [
    {
     "data": {
      "text/plain": [
       "0.11189841161009535"
      ]
     },
     "execution_count": 399,
     "metadata": {},
     "output_type": "execute_result"
    }
   ],
   "source": [
    "# Now find the amount of mass that is just H2\n",
    "E3 = mm.Formula(\"H2\").mass / mm.Formula(\"H2O\").mass\n",
    "E3"
   ]
  },
  {
   "cell_type": "code",
   "execution_count": 400,
   "id": "3773cf91-b9b4-4e95-876a-3db9c306c777",
   "metadata": {},
   "outputs": [
    {
     "data": {
      "text/latex": [
       "$\\displaystyle 0.0342409139526892 \\text{g}$"
      ],
      "text/plain": [
       "0.0342409139526892*gram"
      ]
     },
     "execution_count": 400,
     "metadata": {},
     "output_type": "execute_result"
    }
   ],
   "source": [
    "# Now get grams of H\n",
    "E4 = E3 * .306 * u.gram\n",
    "E4"
   ]
  },
  {
   "cell_type": "code",
   "execution_count": 401,
   "id": "0959dc8e-1da1-471b-950c-aa997e57ab5c",
   "metadata": {},
   "outputs": [
    {
     "data": {
      "text/latex": [
       "$\\displaystyle 0.0676553815104546 \\text{g}$"
      ],
      "text/plain": [
       "0.0676553815104546*gram"
      ]
     },
     "execution_count": 401,
     "metadata": {},
     "output_type": "execute_result"
    }
   ],
   "source": [
    "# Note that total sample is .255, so we can figure out grams of O\n",
    "E5 = .255 * u.gram - E2 - E4\n",
    "E5"
   ]
  },
  {
   "cell_type": "code",
   "execution_count": 406,
   "id": "45437853-5403-4d3a-9cb8-80685e291080",
   "metadata": {},
   "outputs": [
    {
     "data": {
      "text/html": [
       "$0.0127472332709605 mol$ &nbsp;&nbsp;$0.0339711490580194 mol$ &nbsp;&nbsp;$0.00422861859615746 mol$ &nbsp;&nbsp;"
      ],
      "text/plain": [
       "<IPython.core.display.HTML object>"
      ]
     },
     "execution_count": 406,
     "metadata": {},
     "output_type": "execute_result"
    }
   ],
   "source": [
    "# Now figure out the moles of each of the components to get a formula\n",
    "E6 = E2 * (1 / ((mm.Formula(\"C\").mass * u.gram) / mol ))\n",
    "E7 = E4 * (1 / ((mm.Formula(\"H\").mass * u.gram) / mol ))\n",
    "E8 = E5 * (1 / ((mm.Formula(\"O\").mass * u.gram) / mol ))\n",
    "E9 = np.array([E6, E7, E8])\n",
    "RTL(E9)"
   ]
  },
  {
   "cell_type": "code",
   "execution_count": 407,
   "id": "a56f9cd6-9d5d-4397-a1be-f210411a4efb",
   "metadata": {},
   "outputs": [
    {
     "data": {
      "text/plain": [
       "array([3.01451478327790, 8.03362807156195, 1.00000000000000], dtype=object)"
      ]
     },
     "execution_count": 407,
     "metadata": {},
     "output_type": "execute_result"
    }
   ],
   "source": [
    "E10 = E9 / E9[2]\n",
    "E10"
   ]
  },
  {
   "cell_type": "code",
   "execution_count": 408,
   "id": "d44d8d92-2a7d-48d7-956b-0d84c0069582",
   "metadata": {},
   "outputs": [],
   "source": [
    "# so formula is C3H8O"
   ]
  },
  {
   "cell_type": "code",
   "execution_count": 409,
   "id": "100941f8-def8-4f2f-901e-940065770517",
   "metadata": {},
   "outputs": [
    {
     "data": {
      "text/plain": [
       "0.27291212929920894"
      ]
     },
     "execution_count": 409,
     "metadata": {},
     "output_type": "execute_result"
    }
   ],
   "source": [
    "# REDO 3.53 now: \n",
    "# (a)\n",
    "mol = sp.symbols('mol')\n",
    "# Find the amount of C in CO2\n",
    "E1 = mm.Formula(\"C\").mass / mm.Formula(\"CO2\").mass\n",
    "E1"
   ]
  },
  {
   "cell_type": "code",
   "execution_count": 410,
   "id": "91819790-3b57-4907-ac5a-30b2f1fb5074",
   "metadata": {},
   "outputs": [
    {
     "data": {
      "text/latex": [
       "$\\displaystyle 1.59926507769336 \\text{mg}$"
      ],
      "text/plain": [
       "1.59926507769336*milligram"
      ]
     },
     "execution_count": 410,
     "metadata": {},
     "output_type": "execute_result"
    }
   ],
   "source": [
    "# so amount of C must be \n",
    "E2 = E1 * 5.86 * u.milligram\n",
    "E2"
   ]
  },
  {
   "cell_type": "code",
   "execution_count": 412,
   "id": "2d2d239e-8a2e-439f-912a-29db8538673f",
   "metadata": {},
   "outputs": [
    {
     "data": {
      "text/plain": [
       "0.11189841161009535"
      ]
     },
     "execution_count": 412,
     "metadata": {},
     "output_type": "execute_result"
    }
   ],
   "source": [
    "# Now find the amount of H in H2O\n",
    "E3 = mm.Formula(\"H2\").mass / mm.Formula(\"H2O\").mass\n",
    "E3"
   ]
  },
  {
   "cell_type": "code",
   "execution_count": 413,
   "id": "a35ce68c-9622-4d19-9912-781fb9734023",
   "metadata": {},
   "outputs": [
    {
     "data": {
      "text/latex": [
       "$\\displaystyle 0.153300823905831 \\text{mg}$"
      ],
      "text/plain": [
       "0.153300823905831*milligram"
      ]
     },
     "execution_count": 413,
     "metadata": {},
     "output_type": "execute_result"
    }
   ],
   "source": [
    "# so amount of H must be \n",
    "E4 = E3 * 1.37 * u.milligram\n",
    "E4"
   ]
  },
  {
   "cell_type": "code",
   "execution_count": 414,
   "id": "8f090e06-464a-4134-b9f2-4e104b47b53e",
   "metadata": {},
   "outputs": [
    {
     "data": {
      "text/latex": [
       "$\\displaystyle 7.23 \\text{mg}$"
      ],
      "text/plain": [
       "7.23*milligram"
      ]
     },
     "execution_count": 414,
     "metadata": {},
     "output_type": "execute_result"
    }
   ],
   "source": [
    "# Note the total amoutn of mass is \n",
    "E5 = 1.37 * u.milligram + 5.86 * u.milligram\n",
    "E5"
   ]
  },
  {
   "cell_type": "code",
   "execution_count": 415,
   "id": "62ccc286-9c16-4e9e-a732-9ef52921f76e",
   "metadata": {},
   "outputs": [
    {
     "data": {
      "text/latex": [
       "$\\displaystyle 5.47743409840081 \\text{mg}$"
      ],
      "text/plain": [
       "5.47743409840081*milligram"
      ]
     },
     "execution_count": 415,
     "metadata": {},
     "output_type": "execute_result"
    }
   ],
   "source": [
    "# So amoutn of oxygen left must be: \n",
    "E6 = E5 - E4 - E2\n",
    "E6"
   ]
  },
  {
   "cell_type": "code",
   "execution_count": 416,
   "id": "eb529583-2a7b-48a7-a7c4-99f13a6de58d",
   "metadata": {},
   "outputs": [],
   "source": [
    "# now convert all to grams and then to moles"
   ]
  },
  {
   "cell_type": "code",
   "execution_count": 417,
   "id": "8a540f3f-cf91-4351-a8c5-8f05395c4083",
   "metadata": {},
   "outputs": [
    {
     "data": {
      "text/html": [
       "$0.00159926507769336 \\text{g}$ &nbsp;&nbsp;$0.000153300823905831 \\text{g}$ &nbsp;&nbsp;$0.00547743409840081 \\text{g}$ &nbsp;&nbsp;"
      ],
      "text/plain": [
       "<IPython.core.display.HTML object>"
      ]
     },
     "execution_count": 417,
     "metadata": {},
     "output_type": "execute_result"
    }
   ],
   "source": [
    "E7 = convert_to(E2, u.gram) #C\n",
    "E8 = convert_to(E4, u.gram) #H\n",
    "E9 = convert_to(E6, u.gram) #0\n",
    "RTL([E7, E8, E9])"
   ]
  },
  {
   "cell_type": "code",
   "execution_count": 420,
   "id": "3415779d-98c6-4bc5-88a7-b86900b3b093",
   "metadata": {},
   "outputs": [
    {
     "data": {
      "text/html": [
       "$0.000133152917946219 mol$ &nbsp;&nbsp;$0.000152093052972179 mol$ &nbsp;&nbsp;$0.000342352362378526 mol$ &nbsp;&nbsp;"
      ],
      "text/plain": [
       "<IPython.core.display.HTML object>"
      ]
     },
     "execution_count": 420,
     "metadata": {},
     "output_type": "execute_result"
    }
   ],
   "source": [
    "# now conver to moles\n",
    "E10 = E7 * (1 / ((mm.Formula(\"C\").mass * u.gram) / mol))\n",
    "E11 = E8 * (1 / ((mm.Formula(\"H\").mass * u.gram) / mol))\n",
    "E12 = E9 * (1 / ((mm.Formula(\"O\").mass * u.gram) / mol))\n",
    "E13 = np.array([E10, E11, E12])\n",
    "RTL(E13)"
   ]
  },
  {
   "cell_type": "code",
   "execution_count": 424,
   "id": "f72e7f70-e3af-4236-850e-635d8b5ec1de",
   "metadata": {},
   "outputs": [
    {
     "data": {
      "text/html": [
       "$1.0$ &nbsp;&nbsp;$1.14224348454467$ &nbsp;&nbsp;$2.57112174227233$ &nbsp;&nbsp;"
      ],
      "text/plain": [
       "<IPython.core.display.HTML object>"
      ]
     },
     "execution_count": 424,
     "metadata": {},
     "output_type": "execute_result"
    }
   ],
   "source": [
    "E14 = E13 / E13[0]\n",
    "RTL(E14)"
   ]
  },
  {
   "cell_type": "code",
   "execution_count": 425,
   "id": "ff51a962-cc29-4ee1-a55b-01aaf9e7f4d5",
   "metadata": {},
   "outputs": [
    {
     "data": {
      "text/plain": [
       "array([2.00000000000000, 2.28448696908933, 5.14224348454467], dtype=object)"
      ]
     },
     "execution_count": 425,
     "metadata": {},
     "output_type": "execute_result"
    }
   ],
   "source": [
    "E15 = E14 * 2\n",
    "E15"
   ]
  },
  {
   "cell_type": "code",
   "execution_count": 429,
   "id": "4adb4f14-a3ad-4f50-856a-3ef98f083d70",
   "metadata": {},
   "outputs": [
    {
     "data": {
      "text/plain": [
       "array([14.0000000000000, 15.9914087836253, 35.9957043918127], dtype=object)"
      ]
     },
     "execution_count": 429,
     "metadata": {},
     "output_type": "execute_result"
    }
   ],
   "source": [
    "# (b)\n",
    "E15 * 7"
   ]
  },
  {
   "cell_type": "code",
   "execution_count": 430,
   "id": "81ca2491-472b-46fb-924c-f5303a711040",
   "metadata": {},
   "outputs": [],
   "source": [
    "# Looks like C7H8"
   ]
  },
  {
   "cell_type": "code",
   "execution_count": 435,
   "id": "78874ba6-3de4-4219-b163-025f3862a555",
   "metadata": {},
   "outputs": [
    {
     "data": {
      "text/latex": [
       "$\\displaystyle 0.0772068413787462 \\text{g}$"
      ],
      "text/plain": [
       "0.0772068413787462*gram"
      ]
     },
     "execution_count": 435,
     "metadata": {},
     "output_type": "execute_result"
    }
   ],
   "source": [
    "# (b)\n",
    "# find out how much mass is just C\n",
    "E1 = mm.Formula(\"C\").mass / mm.Formula(\"CO2\").mass\n",
    "# so the amount of C in this sample must be\n",
    "E2 = E1 * .2829 * u.gram\n",
    "E2"
   ]
  },
  {
   "cell_type": "code",
   "execution_count": 436,
   "id": "0f67d040-ff96-45ae-b702-21435ef0b2e8",
   "metadata": {},
   "outputs": [
    {
     "data": {
      "text/latex": [
       "$\\displaystyle 0.0129690259056101 \\text{g}$"
      ],
      "text/plain": [
       "0.0129690259056101*gram"
      ]
     },
     "execution_count": 436,
     "metadata": {},
     "output_type": "execute_result"
    }
   ],
   "source": [
    "# Now find the amoutn of H2 in H2O\n",
    "E3 = mm.Formula(\"H2\").mass / mm.Formula(\"H2O\").mass\n",
    "# So the amount of H in this sample by weight is\n",
    "E4 = E3 * .1159 * u.gram\n",
    "E4"
   ]
  },
  {
   "cell_type": "code",
   "execution_count": 437,
   "id": "d927889c-0b23-4a98-ab0a-9d6b18f628cb",
   "metadata": {},
   "outputs": [
    {
     "data": {
      "text/latex": [
       "$\\displaystyle 0.0103241327156438 \\text{g}$"
      ],
      "text/plain": [
       "0.0103241327156438*gram"
      ]
     },
     "execution_count": 437,
     "metadata": {},
     "output_type": "execute_result"
    }
   ],
   "source": [
    "# Therofe the amount of oxygen, by weight must be \n",
    "E5 = .1005 * u.gram - E2 - E4\n",
    "E5"
   ]
  },
  {
   "cell_type": "code",
   "execution_count": 440,
   "id": "de33b0ad-339d-4171-911d-7ddf6836212b",
   "metadata": {},
   "outputs": [
    {
     "data": {
      "text/html": [
       "$0.00642815025375174 mol$ &nbsp;&nbsp;$0.0128668502477923 mol$ &nbsp;&nbsp;$0.000645282291162937 mol$ &nbsp;&nbsp;"
      ],
      "text/plain": [
       "<IPython.core.display.HTML object>"
      ]
     },
     "execution_count": 440,
     "metadata": {},
     "output_type": "execute_result"
    }
   ],
   "source": [
    "# Now figure out how many moles this is respectively\n",
    "E6 =  E2 * (1 / ((mm.Formula(\"C\").mass * u.gram) / mol))\n",
    "E7 = E4 * (1 / ((mm.Formula(\"H\").mass * u.gram) / mol))\n",
    "E8 = E5 * (1 / ((mm.Formula(\"O\").mass * u.gram) / mol))\n",
    "E9 = np.array([E6, E7, E8])\n",
    "RTL(E9)"
   ]
  },
  {
   "cell_type": "code",
   "execution_count": 442,
   "id": "09a1cd1d-2383-4962-a506-92c3fac5cd5b",
   "metadata": {},
   "outputs": [
    {
     "data": {
      "text/html": [
       "$9.96176455139786$ &nbsp;&nbsp;$19.9398781339613$ &nbsp;&nbsp;$1.0$ &nbsp;&nbsp;"
      ],
      "text/plain": [
       "<IPython.core.display.HTML object>"
      ]
     },
     "execution_count": 442,
     "metadata": {},
     "output_type": "execute_result"
    }
   ],
   "source": [
    "# Now find mol ratio\n",
    "E10 = E9 / E9[2]\n",
    "RTL(E10)"
   ]
  },
  {
   "cell_type": "code",
   "execution_count": 444,
   "id": "7cc1c0fe-a57a-4934-afde-50d0c0c097ab",
   "metadata": {},
   "outputs": [
    {
     "data": {
      "text/latex": [
       "$\\displaystyle \\frac{156.265625 \\text{g}}{mol}$"
      ],
      "text/plain": [
       "156.265625*gram/mol"
      ]
     },
     "execution_count": 444,
     "metadata": {},
     "output_type": "execute_result"
    }
   ],
   "source": [
    "# The empirical formula is C10H20O\n",
    "# Check molecular formula\n",
    "E11 = ((mm.Formula(\"C10H20O\").mass * u.gram) /  mol)\n",
    "E11"
   ]
  },
  {
   "cell_type": "code",
   "execution_count": 445,
   "id": "0d1cb48c-32d4-44ee-9a2c-648e01955841",
   "metadata": {},
   "outputs": [],
   "source": [
    "# Empirical and molecular is the same"
   ]
  },
  {
   "cell_type": "code",
   "execution_count": 446,
   "id": "254e01d5-4186-4b4f-bd26-54d814060ecb",
   "metadata": {},
   "outputs": [
    {
     "data": {
      "text/plain": [
       "0.27291212929920894"
      ]
     },
     "execution_count": 446,
     "metadata": {},
     "output_type": "execute_result"
    }
   ],
   "source": [
    "# 3.54 (a)\n",
    "# Find the % mass and wdight of C \n",
    "mol = sp.symbols('mol')\n",
    "\n",
    "E1 = mm.Formula(\"C\").mass / mm.Formula(\"CO2\").mass\n",
    "E1"
   ]
  },
  {
   "cell_type": "code",
   "execution_count": 447,
   "id": "3ab954fb-d404-4c6e-9e9d-28cead28ad32",
   "metadata": {},
   "outputs": [
    {
     "data": {
      "text/latex": [
       "$\\displaystyle 0.001724804657171 \\text{g}$"
      ],
      "text/plain": [
       "0.001724804657171*gram"
      ]
     },
     "execution_count": 447,
     "metadata": {},
     "output_type": "execute_result"
    }
   ],
   "source": [
    "# find the weight of the carbon \n",
    "E2 = E1 * convert_to(6.32 * u.milligram, u.gram)\n",
    "E2"
   ]
  },
  {
   "cell_type": "code",
   "execution_count": 448,
   "id": "0737ee6f-5b23-446a-90fd-96c14332358a",
   "metadata": {},
   "outputs": [
    {
     "data": {
      "text/plain": [
       "0.11189841161009535"
      ]
     },
     "execution_count": 448,
     "metadata": {},
     "output_type": "execute_result"
    }
   ],
   "source": [
    "# Now find the % mass and wieight of the H\n",
    "E3 = mm.Formula(\"H2\").mass / mm.Formula(\"H2O\").mass\n",
    "E3"
   ]
  },
  {
   "cell_type": "code",
   "execution_count": 449,
   "id": "fee8160c-ec02-4af8-8474-b1e661c56d8e",
   "metadata": {},
   "outputs": [
    {
     "data": {
      "text/latex": [
       "$\\displaystyle 0.000288697901954046 \\text{g}$"
      ],
      "text/plain": [
       "0.000288697901954046*gram"
      ]
     },
     "execution_count": 449,
     "metadata": {},
     "output_type": "execute_result"
    }
   ],
   "source": [
    "# and the widht of the H in the sample\n",
    "E4 = E3 * convert_to(2.58 * u.milligram, u.gram)\n",
    "E4"
   ]
  },
  {
   "cell_type": "code",
   "execution_count": 450,
   "id": "c3339c8e-9a94-4253-87c0-9a24e8d18461",
   "metadata": {},
   "outputs": [
    {
     "data": {
      "text/latex": [
       "$\\displaystyle 0.000766497440874953 \\text{g}$"
      ],
      "text/plain": [
       "0.000766497440874953*gram"
      ]
     },
     "execution_count": 450,
     "metadata": {},
     "output_type": "execute_result"
    }
   ],
   "source": [
    "# Find the remianing amount in total sample whih must be oxygen\n",
    "E5 = convert_to(2.78 * u.milligram, u.gram) - E2 - E4\n",
    "E5"
   ]
  },
  {
   "cell_type": "code",
   "execution_count": 454,
   "id": "078d136c-6378-4946-8f67-1a90bbc9aeca",
   "metadata": {},
   "outputs": [
    {
     "data": {
      "text/html": [
       "$0.000143605194781587 mol$ &nbsp;&nbsp;$0.000286423413626438 mol$ &nbsp;&nbsp;$4.79078716286608 \\cdot 10^{-5} mol$ &nbsp;&nbsp;"
      ],
      "text/plain": [
       "<IPython.core.display.HTML object>"
      ]
     },
     "execution_count": 454,
     "metadata": {},
     "output_type": "execute_result"
    }
   ],
   "source": [
    "# Now covert each to moes\n",
    "E6 = E2 * (1 / ((mm.Formula(\"C\").mass * u.gram) / mol))\n",
    "E7 = E4 * (1 / ((mm.Formula(\"H\").mass * u.gram) / mol))\n",
    "E8 = E5 * (1 / ((mm.Formula(\"O\").mass * u.gram) / mol))\n",
    "E9 = np.array([E6, E7, E8])\n",
    "RTL(E9)"
   ]
  },
  {
   "cell_type": "code",
   "execution_count": 456,
   "id": "e9e684b4-ff1d-41ec-bb26-dc0536ee58dd",
   "metadata": {},
   "outputs": [
    {
     "data": {
      "text/html": [
       "$2.99752817020733$ &nbsp;&nbsp;$5.97862947965082$ &nbsp;&nbsp;$1.0$ &nbsp;&nbsp;"
      ],
      "text/plain": [
       "<IPython.core.display.HTML object>"
      ]
     },
     "execution_count": 456,
     "metadata": {},
     "output_type": "execute_result"
    }
   ],
   "source": [
    "E10 = E9 / E9[2]\n",
    "RTL(E10)"
   ]
  },
  {
   "cell_type": "code",
   "execution_count": 457,
   "id": "00c10005-7fc2-44ab-918f-4fa441902f56",
   "metadata": {},
   "outputs": [],
   "source": [
    "# The empirical formula is C3H6O"
   ]
  },
  {
   "cell_type": "code",
   "execution_count": 459,
   "id": "bb922d6c-0906-4b19-9fca-c0bad302371c",
   "metadata": {},
   "outputs": [
    {
     "data": {
      "text/latex": [
       "$\\displaystyle 0.00388681454547933 \\text{g}$"
      ],
      "text/plain": [
       "0.00388681454547933*gram"
      ]
     },
     "execution_count": 459,
     "metadata": {},
     "output_type": "execute_result"
    }
   ],
   "source": [
    "# 3.54 (b)\n",
    "# find % and widht of C\n",
    "mol = sp.symbols('mol')\n",
    "\n",
    "E1 = mm.Formula(\"C\").mass / mm.Formula(\"CO2\").mass \n",
    "# now find how much C is in sample\n",
    "E2 = E1 * convert_to(14.242 * u.milligram, u.gram)\n",
    "E2"
   ]
  },
  {
   "cell_type": "code",
   "execution_count": 460,
   "id": "14ee0e80-188f-4350-b49c-d99ea1faa76f",
   "metadata": {},
   "outputs": [
    {
     "data": {
      "text/latex": [
       "$\\displaystyle 0.000456881214604019 \\text{g}$"
      ],
      "text/plain": [
       "0.000456881214604019*gram"
      ]
     },
     "execution_count": 460,
     "metadata": {},
     "output_type": "execute_result"
    }
   ],
   "source": [
    "# Now find find % of H2\n",
    "E3 = mm.Formula(\"H2\").mass / mm.Formula(\"H2O\").mass\n",
    "E4 = E3 * convert_to(4.083 * u.milligram, u.gram)\n",
    "E4"
   ]
  },
  {
   "cell_type": "code",
   "execution_count": 461,
   "id": "7b80eb3c-7bb7-4fe8-85e4-0deffc676649",
   "metadata": {},
   "outputs": [
    {
     "data": {
      "text/latex": [
       "$\\displaystyle 0.000906304239916647 \\text{g}$"
      ],
      "text/plain": [
       "0.000906304239916647*gram"
      ]
     },
     "execution_count": 461,
     "metadata": {},
     "output_type": "execute_result"
    }
   ],
   "source": [
    "# now work out remaining aount that must be N\n",
    "E5 = convert_to(5.250 * u.milligram, u.gram) - E2 - E4\n",
    "E5"
   ]
  },
  {
   "cell_type": "code",
   "execution_count": 464,
   "id": "e075411e-6ffd-4507-8061-a71f782d7c5f",
   "metadata": {},
   "outputs": [
    {
     "data": {
      "text/html": [
       "$0.000323611579759393 mol$ &nbsp;&nbsp;$0.000453281704587887 mol$ &nbsp;&nbsp;$6.47050372894068 \\cdot 10^{-5} mol$ &nbsp;&nbsp;"
      ],
      "text/plain": [
       "<IPython.core.display.HTML object>"
      ]
     },
     "execution_count": 464,
     "metadata": {},
     "output_type": "execute_result"
    }
   ],
   "source": [
    "# work out moes \n",
    "E6 = E2 * (1 / ((mm.Formula(\"C\").mass * u.gram) / mol))\n",
    "E7 = E4 * (1 / ((mm.Formula(\"H\").mass * u.gram) / mol))\n",
    "E8 = E5 * (1 / ((mm.Formula(\"N\").mass * u.gram) / mol))\n",
    "E9 = np.array([E6, E7, E8])\n",
    "RTL(E9)"
   ]
  },
  {
   "cell_type": "code",
   "execution_count": 465,
   "id": "c616cbaf-af02-4f4b-bf38-cd74f8c61546",
   "metadata": {},
   "outputs": [
    {
     "data": {
      "text/html": [
       "$5.00133518681046$ &nbsp;&nbsp;$7.00535419770318$ &nbsp;&nbsp;$1.0$ &nbsp;&nbsp;"
      ],
      "text/plain": [
       "<IPython.core.display.HTML object>"
      ]
     },
     "execution_count": 465,
     "metadata": {},
     "output_type": "execute_result"
    }
   ],
   "source": [
    "# Find the mole ratio\n",
    "E10 = E9 / E9[2]\n",
    "RTL(E10)"
   ]
  },
  {
   "cell_type": "code",
   "execution_count": 466,
   "id": "307de2e9-e264-4abe-81e3-fe7926aa8904",
   "metadata": {},
   "outputs": [
    {
     "data": {
      "text/latex": [
       "$\\displaystyle \\frac{81.11599 \\text{g}}{mol}$"
      ],
      "text/plain": [
       "81.11599*gram/mol"
      ]
     },
     "execution_count": 466,
     "metadata": {},
     "output_type": "execute_result"
    }
   ],
   "source": [
    "# Empirical formula is C5H7N\n",
    "# Check molar mass to find molecurlar formula\n",
    "\n",
    "E11 = ((mm.Formula(\"C5H7N\").mass * u.gram) / mol)\n",
    "E11"
   ]
  },
  {
   "cell_type": "code",
   "execution_count": 467,
   "id": "e793408f-481f-479e-a7dc-5b7c507d0ee4",
   "metadata": {},
   "outputs": [],
   "source": [
    "# note the molar mass means that it must C10H14N"
   ]
  },
  {
   "cell_type": "code",
   "execution_count": 468,
   "id": "112f4a78-64ca-48dd-a7a4-5dcd6d35b571",
   "metadata": {},
   "outputs": [
    {
     "data": {
      "text/latex": [
       "$\\displaystyle 0.0185751363272758 \\text{g}$"
      ],
      "text/plain": [
       "0.0185751363272758*gram"
      ]
     },
     "execution_count": 468,
     "metadata": {},
     "output_type": "execute_result"
    }
   ],
   "source": [
    "# 3.55\n",
    "# Find out % H in sample\n",
    "mol = sp.symbols('mol')\n",
    "E1 = mm.Formula(\"H2\").mass / mm.Formula(\"H2O\").mass\n",
    "# Find wegith of H\n",
    "E2 = E1 * .166 * u.gram\n",
    "E2"
   ]
  },
  {
   "cell_type": "code",
   "execution_count": 469,
   "id": "16e1f85c-a32e-4054-8b8b-33c80f4d08a0",
   "metadata": {},
   "outputs": [
    {
     "data": {
      "text/latex": [
       "$\\displaystyle 0.109983588107581 \\text{g}$"
      ],
      "text/plain": [
       "0.109983588107581*gram"
      ]
     },
     "execution_count": 469,
     "metadata": {},
     "output_type": "execute_result"
    }
   ],
   "source": [
    "# Now find % of C\n",
    "E3 = mm.Formula(\"C\").mass / mm.Formula(\"CO2\").mass \n",
    "E4 = E3 * .403 * u.gram\n",
    "E4"
   ]
  },
  {
   "cell_type": "code",
   "execution_count": 470,
   "id": "ce3f70f0-b65b-4399-afca-78f02de7d1fe",
   "metadata": {},
   "outputs": [
    {
     "data": {
      "text/latex": [
       "$\\displaystyle 0.036441275565143 \\text{g}$"
      ],
      "text/plain": [
       "0.036441275565143*gram"
      ]
     },
     "execution_count": 470,
     "metadata": {},
     "output_type": "execute_result"
    }
   ],
   "source": [
    "# now figure out remaining oxygen mass\n",
    "E5 = .165 * u.gram - E2 - E4\n",
    "E5"
   ]
  },
  {
   "cell_type": "code",
   "execution_count": 476,
   "id": "6a5f7c96-bb24-4d5e-aa93-686d2531f4a3",
   "metadata": {},
   "outputs": [],
   "source": [
    "# Conver all grams to moles\n",
    "E6 = E2 * (1 / ((mm.Formula(\"H\").mass * u.gram) / mol))\n",
    "E7 = E4 * (1 / ((mm.Formula(\"C\").mass * u.gram) / mol))\n",
    "E8 = E5 * (1 / ((mm.Formula(\"O\").mass * u.gram) / mol))\n",
    "E9 = np.array([E6, E7, E8])"
   ]
  },
  {
   "cell_type": "code",
   "execution_count": 477,
   "id": "d6166fad-a38e-410a-b6e4-1c9ca738b8ab",
   "metadata": {},
   "outputs": [
    {
     "data": {
      "text/html": [
       "$8.09109238831036$ &nbsp;&nbsp;$4.02039181324236$ &nbsp;&nbsp;$1.0$ &nbsp;&nbsp;"
      ],
      "text/plain": [
       "<IPython.core.display.HTML object>"
      ]
     },
     "execution_count": 477,
     "metadata": {},
     "output_type": "execute_result"
    }
   ],
   "source": [
    "# Now find mol ratio\n",
    "E10 = E9 / E9[2]\n",
    "RTL(E10)"
   ]
  },
  {
   "cell_type": "code",
   "execution_count": 479,
   "id": "c2e8918e-e38b-4e5a-8404-a37b228fc0c7",
   "metadata": {},
   "outputs": [
    {
     "data": {
      "text/latex": [
       "$\\displaystyle 0.0114136379842297 \\text{g}$"
      ],
      "text/plain": [
       "0.0114136379842297*gram"
      ]
     },
     "execution_count": 479,
     "metadata": {},
     "output_type": "execute_result"
    }
   ],
   "source": [
    "# The empirical formula is C4H80\n",
    "# The visual has 8:16:2\n",
    "# It is consistent with the visual\n",
    "\n",
    "# Find the % mass of the H\n",
    "mol = sp.symbols('mol')\n",
    "\n",
    "E1 = mm.Formula(\"H2\").mass / mm.Formula(\"H2O\").mass \n",
    "E2  = E1 * .102 * u.gram\n",
    "E2"
   ]
  },
  {
   "cell_type": "code",
   "execution_count": 480,
   "id": "3167a009-c9a2-4a07-9f08-407d14ddea5b",
   "metadata": {},
   "outputs": [
    {
     "data": {
      "text/latex": [
       "$\\displaystyle 0.102069136357904 \\text{g}$"
      ],
      "text/plain": [
       "0.102069136357904*gram"
      ]
     },
     "execution_count": 480,
     "metadata": {},
     "output_type": "execute_result"
    }
   ],
   "source": [
    "# Now find % and mass of C\n",
    "E3 = mm.Formula(\"C\").mass / mm.Formula(\"CO2\").mass\n",
    "E4 = E3 * .374 * u.gram \n",
    "E4"
   ]
  },
  {
   "cell_type": "code",
   "execution_count": 482,
   "id": "b07155e0-7728-4e86-8004-b95930841d04",
   "metadata": {},
   "outputs": [
    {
     "data": {
      "text/latex": [
       "$\\displaystyle 0.0898172256578661 \\text{g}$"
      ],
      "text/plain": [
       "0.0898172256578661*gram"
      ]
     },
     "execution_count": 482,
     "metadata": {},
     "output_type": "execute_result"
    }
   ],
   "source": [
    "# Now wiftire out remianing oxygen\n",
    "E5 = .2033 * u.gram - E2 - E4\n",
    "E5"
   ]
  },
  {
   "cell_type": "code",
   "execution_count": 487,
   "id": "3f5c2077-464e-4a16-99e9-3103eaffa5b5",
   "metadata": {},
   "outputs": [
    {
     "data": {
      "text/html": [
       "$0.0113237163526731 mol$ &nbsp;&nbsp;$0.00849815551397367 mol$ &nbsp;&nbsp;$0.00561378536625994 mol$ &nbsp;&nbsp;"
      ],
      "text/plain": [
       "<IPython.core.display.HTML object>"
      ]
     },
     "execution_count": 487,
     "metadata": {},
     "output_type": "execute_result"
    }
   ],
   "source": [
    "# Now convert to mols\n",
    "E6 = E2 * (1 / ((mm.Formula(\"H\").mass * u.gram) / mol))\n",
    "E7 = E4 * (1 / ((mm.Formula(\"C\").mass * u.gram) / mol))\n",
    "E8 = E5 * (1 / ((mm.Formula(\"O\").mass * u.gram) / mol))\n",
    "E9 = np.array([E6, E7, E8])\n",
    "RTL(E9)"
   ]
  },
  {
   "cell_type": "code",
   "execution_count": 489,
   "id": "765f271e-4759-4bf3-ac2b-a273238d3948",
   "metadata": {},
   "outputs": [
    {
     "data": {
      "text/html": [
       "$4.03425340082687$ &nbsp;&nbsp;$3.02760257456561$ &nbsp;&nbsp;$2.0$ &nbsp;&nbsp;"
      ],
      "text/plain": [
       "<IPython.core.display.HTML object>"
      ]
     },
     "execution_count": 489,
     "metadata": {},
     "output_type": "execute_result"
    }
   ],
   "source": [
    "E10 = (E9 / E9[2]) * 2\n",
    "RTL(E10)"
   ]
  },
  {
   "cell_type": "code",
   "execution_count": 490,
   "id": "8209dabc-9b10-4eed-9e92-b7694241bfd4",
   "metadata": {},
   "outputs": [],
   "source": [
    "# The Empirical formula is: C3H4O2"
   ]
  },
  {
   "cell_type": "code",
   "execution_count": 493,
   "id": "f6d89eb5-5c57-47b6-bf06-ff241c9c0a57",
   "metadata": {},
   "outputs": [
    {
     "data": {
      "text/latex": [
       "$\\displaystyle 1.61 \\text{g}$"
      ],
      "text/plain": [
       "1.61*gram"
      ]
     },
     "execution_count": 493,
     "metadata": {},
     "output_type": "execute_result"
    }
   ],
   "source": [
    "#3.57\n",
    "mol = sp.symbols(\"mol\")\n",
    "\n",
    "# find the mass of lost H20\n",
    "\n",
    "E1 = 2.558 * u.gram - .948 * u.gram\n",
    "E1"
   ]
  },
  {
   "cell_type": "code",
   "execution_count": 495,
   "id": "35951125-67ce-4869-b732-9dc9966787f2",
   "metadata": {},
   "outputs": [
    {
     "data": {
      "text/latex": [
       "$\\displaystyle 0.00894436714928246 mol$"
      ],
      "text/plain": [
       "0.00894436714928246*mol"
      ]
     },
     "execution_count": 495,
     "metadata": {},
     "output_type": "execute_result"
    }
   ],
   "source": [
    "# now find how moles in the Na2CO3\n",
    "E2 = .948 * u.gram * (1 / ((mm.Formula(\"Na2CO3\").mass * u.gram) / mol))\n",
    "E2"
   ]
  },
  {
   "cell_type": "code",
   "execution_count": 496,
   "id": "f99ab24d-66c1-4c24-b765-e02465173013",
   "metadata": {},
   "outputs": [
    {
     "data": {
      "text/latex": [
       "$\\displaystyle 0.0893685457245283 mol$"
      ],
      "text/plain": [
       "0.0893685457245283*mol"
      ]
     },
     "execution_count": 496,
     "metadata": {},
     "output_type": "execute_result"
    }
   ],
   "source": [
    "# find how many moles in the H2O\n",
    "E3 = E1 * (1 / ((mm.Formula(\"H2O\").mass * u.gram) / mol))\n",
    "E3"
   ]
  },
  {
   "cell_type": "code",
   "execution_count": 498,
   "id": "936bf679-8a6c-4ef9-8099-5d47f3c67d56",
   "metadata": {},
   "outputs": [
    {
     "data": {
      "text/html": [
       "$0.00894436714928246 mol$ &nbsp;&nbsp;$0.0893685457245283 mol$ &nbsp;&nbsp;"
      ],
      "text/plain": [
       "<IPython.core.display.HTML object>"
      ]
     },
     "execution_count": 498,
     "metadata": {},
     "output_type": "execute_result"
    }
   ],
   "source": [
    "# Find the mol ratio\n",
    "E4 = np.array([E2, E3])\n",
    "RTL(E4)"
   ]
  },
  {
   "cell_type": "code",
   "execution_count": 499,
   "id": "76dca7c8-a2ac-4eac-b198-df8e2fafc78e",
   "metadata": {},
   "outputs": [
    {
     "data": {
      "text/html": [
       "$1.0$ &nbsp;&nbsp;$9.99160077319697$ &nbsp;&nbsp;"
      ],
      "text/plain": [
       "<IPython.core.display.HTML object>"
      ]
     },
     "execution_count": 499,
     "metadata": {},
     "output_type": "execute_result"
    }
   ],
   "source": [
    "E5 = E4 / E4[0]\n",
    "RTL(E5)"
   ]
  },
  {
   "cell_type": "code",
   "execution_count": 500,
   "id": "da46057c-b6de-408c-9f93-b39f23a034b6",
   "metadata": {},
   "outputs": [],
   "source": [
    "# so there is a 1:10, so x is 10"
   ]
  },
  {
   "cell_type": "code",
   "execution_count": 501,
   "id": "4ace9f08-8775-4733-a321-a9601a011563",
   "metadata": {},
   "outputs": [
    {
     "data": {
      "text/latex": [
       "$\\displaystyle 2.589 \\text{g}$"
      ],
      "text/plain": [
       "2.589*gram"
      ]
     },
     "execution_count": 501,
     "metadata": {},
     "output_type": "execute_result"
    }
   ],
   "source": [
    "# 3.58\n",
    "mol = sp.symbols('mol')\n",
    "\n",
    "# Find the the mass of water\n",
    "E1 = 5.061 * u.gram - 2.472 * u.gram\n",
    "E1"
   ]
  },
  {
   "cell_type": "code",
   "execution_count": 502,
   "id": "7d3f4046-7a99-4d6b-a42a-b0b167492db6",
   "metadata": {},
   "outputs": [
    {
     "data": {
      "text/latex": [
       "$\\displaystyle 0.0205371017031837 mol$"
      ],
      "text/plain": [
       "0.0205371017031837*mol"
      ]
     },
     "execution_count": 502,
     "metadata": {},
     "output_type": "execute_result"
    }
   ],
   "source": [
    "# Now convert MgSO4 to mols\n",
    "E2 = 2.472 * u.gram * (1 / ((mm.Formula(\"MgSO4\").mass * u.gram) / mol))\n",
    "E2"
   ]
  },
  {
   "cell_type": "code",
   "execution_count": 505,
   "id": "0a81db7f-df00-4e6c-885d-b2c99c3fa59d",
   "metadata": {},
   "outputs": [
    {
     "data": {
      "text/latex": [
       "$\\displaystyle 0.143711282534661 mol$"
      ],
      "text/plain": [
       "0.143711282534661*mol"
      ]
     },
     "execution_count": 505,
     "metadata": {},
     "output_type": "execute_result"
    }
   ],
   "source": [
    "# Convert H20 to moles\n",
    "E3 = E1 * (1 / ((mm.Formula(\"H2O\").mass * u.gram) / mol))\n",
    "E3"
   ]
  },
  {
   "cell_type": "code",
   "execution_count": 506,
   "id": "804f4701-869b-468d-8adb-fab928524bce",
   "metadata": {},
   "outputs": [
    {
     "data": {
      "text/latex": [
       "$\\displaystyle 6.99764185870405$"
      ],
      "text/plain": [
       "6.99764185870405"
      ]
     },
     "execution_count": 506,
     "metadata": {},
     "output_type": "execute_result"
    }
   ],
   "source": [
    "E3 / E2"
   ]
  },
  {
   "cell_type": "code",
   "execution_count": 507,
   "id": "ef4dd822-08ed-411a-9fda-52cdb7e0f5df",
   "metadata": {},
   "outputs": [],
   "source": [
    "# There are 7 times as much H2O, so x=7"
   ]
  },
  {
   "cell_type": "code",
   "execution_count": 509,
   "id": "5a4fd8ff-5e53-4ecf-9298-3caed712c445",
   "metadata": {},
   "outputs": [
    {
     "data": {
      "text/html": [
       "8 HF + Na2SiO3 &rarr; 3 H2O + H2SiF6 + 2 NaF"
      ],
      "text/plain": [
       "<chempy.chemistry.Reaction at 0x7f79bf969af0>"
      ]
     },
     "execution_count": 509,
     "metadata": {},
     "output_type": "execute_result"
    }
   ],
   "source": [
    "# 3.61\n",
    "# Consider the following balanced equatino\n",
    "BalanceChemEquation({\"Na2SiO3\", \"HF\"}, {\"H2SiF6\", \"NaF\", \"H2O\"})[0]"
   ]
  },
  {
   "cell_type": "code",
   "execution_count": 511,
   "id": "f9ddef94-1acb-4c45-ad70-0f796f3326f8",
   "metadata": {},
   "outputs": [
    {
     "data": {
      "text/plain": [
       "2.4"
      ]
     },
     "execution_count": 511,
     "metadata": {},
     "output_type": "execute_result"
    }
   ],
   "source": [
    "# (a) \n",
    ".3 * 8"
   ]
  },
  {
   "cell_type": "code",
   "execution_count": 523,
   "id": "8f431c06-560f-4246-8e2e-4296f0d38ee5",
   "metadata": {},
   "outputs": [
    {
     "data": {
      "text/latex": [
       "$\\displaystyle 0.125$"
      ],
      "text/plain": [
       "0.125000000000000"
      ]
     },
     "execution_count": 523,
     "metadata": {},
     "output_type": "execute_result"
    }
   ],
   "source": [
    "# (b)\n",
    "x = sp.symbols('x')\n",
    "E1 = sp.Eq(.5 / 8, x / 2)\n",
    "E2 = sp.solve(E1, x)[0]\n",
    "E2"
   ]
  },
  {
   "cell_type": "code",
   "execution_count": 525,
   "id": "4582874c-2862-4990-9ba2-91bda0391d40",
   "metadata": {},
   "outputs": [
    {
     "data": {
      "text/latex": [
       "$\\displaystyle 5.248521555375 \\text{g}$"
      ],
      "text/plain": [
       "5.248521555375*gram"
      ]
     },
     "execution_count": 525,
     "metadata": {},
     "output_type": "execute_result"
    }
   ],
   "source": [
    "E3 = ((mm.Formula(\"NaF\").mass * u.gram ) / mol) * .125 * mol\n",
    "E3"
   ]
  },
  {
   "cell_type": "code",
   "execution_count": 526,
   "id": "8045d7ff-6ee4-43c0-938d-1dd9c56757d8",
   "metadata": {},
   "outputs": [
    {
     "data": {
      "text/latex": [
       "$\\displaystyle 0.0399873156975641 mol$"
      ],
      "text/plain": [
       "0.0399873156975641*mol"
      ]
     },
     "execution_count": 526,
     "metadata": {},
     "output_type": "execute_result"
    }
   ],
   "source": [
    "# (c)\n",
    "# find the number of moles of .8 of HF and then use the mole ratio to finalise\n",
    "\n",
    "mol = sp.symbols('mol')\n",
    "\n",
    "E1 = .8 * u.gram * (1 / ((mm.Formula(\"HF\").mass * u.gram) / mol))\n",
    "E1"
   ]
  },
  {
   "cell_type": "code",
   "execution_count": 531,
   "id": "b4cd1732-7330-4ac0-8ac3-313db553c45a",
   "metadata": {},
   "outputs": [
    {
     "data": {
      "text/latex": [
       "$\\displaystyle 0.00499841446219551 mol$"
      ],
      "text/plain": [
       "0.00499841446219551*mol"
      ]
     },
     "execution_count": 531,
     "metadata": {},
     "output_type": "execute_result"
    }
   ],
   "source": [
    "# Note the HF:Na2SiO3 ratio is 8:1\n",
    "# So there must be \n",
    "E2 = sp.Eq(8/1, E1/x)\n",
    "E3 = sp.solve(E2, x)[0]\n",
    "E3"
   ]
  },
  {
   "cell_type": "code",
   "execution_count": 532,
   "id": "7426e142-3d13-4014-9dbb-969a1a1cc3d6",
   "metadata": {},
   "outputs": [
    {
     "data": {
      "text/latex": [
       "$\\displaystyle 0.610122731896942 \\text{g}$"
      ],
      "text/plain": [
       "0.610122731896942*gram"
      ]
     },
     "execution_count": 532,
     "metadata": {},
     "output_type": "execute_result"
    }
   ],
   "source": [
    "# now workd out the grams \n",
    "E3 * ((mm.Formula(\"Na2SiO3\").mass * u.gram) / mol)"
   ]
  },
  {
   "cell_type": "code",
   "execution_count": 535,
   "id": "e6db216c-85e8-4360-b063-cc344993e38e",
   "metadata": {},
   "outputs": [
    {
     "data": {
      "text/html": [
       "2 CO2 + 4 KO2 &rarr; 2 K2CO3 + 3 O2"
      ],
      "text/plain": [
       "<chempy.chemistry.Reaction at 0x7f79bfe71dc0>"
      ]
     },
     "execution_count": 535,
     "metadata": {},
     "output_type": "execute_result"
    }
   ],
   "source": [
    "# 3.62\n",
    "# Start with checking balanced equation\n",
    "BalanceChemEquation({\"KO2\", \"CO2\"}, {\"K2CO3\", \"O2\"})[0]"
   ]
  },
  {
   "cell_type": "code",
   "execution_count": 539,
   "id": "f5dbbfba-d7fe-4b12-95bb-7486233530f1",
   "metadata": {},
   "outputs": [
    {
     "data": {
      "text/latex": [
       "$\\displaystyle 0.3$"
      ],
      "text/plain": [
       "0.300000000000000"
      ]
     },
     "execution_count": 539,
     "metadata": {},
     "output_type": "execute_result"
    }
   ],
   "source": [
    "# mole ratio between O2 and Ko2 is \n",
    "# 3:4\n",
    "\n",
    "x, mol = sp.symbols('x mol')\n",
    "\n",
    "E1 = sp.Eq(3 / 4, x/ .4)\n",
    "E2 = sp.solve(E1, x)[0]\n",
    "E2"
   ]
  },
  {
   "cell_type": "code",
   "execution_count": 540,
   "id": "5c3449dd-6763-4515-adce-01096258747f",
   "metadata": {},
   "outputs": [
    {
     "data": {
      "text/latex": [
       "$\\displaystyle 0.234383716144444 mol$"
      ],
      "text/plain": [
       "0.234383716144444*mol"
      ]
     },
     "execution_count": 540,
     "metadata": {},
     "output_type": "execute_result"
    }
   ],
   "source": [
    "# (b)\n",
    "# find moles \n",
    "mol, x = sp.symbols('mol x')\n",
    "\n",
    "E1 = 7.5 * u.grams * (1 / ((mm.Formula(\"O2\").mass * u.gram) / mol))\n",
    "E1"
   ]
  },
  {
   "cell_type": "code",
   "execution_count": 541,
   "id": "6ba53389-fc3f-42f3-a652-6822c8e8ed5a",
   "metadata": {},
   "outputs": [
    {
     "data": {
      "text/latex": [
       "$\\displaystyle 1.33333333333333 = \\frac{4.266508 x}{mol}$"
      ],
      "text/plain": [
       "Eq(1.33333333333333, 4.266508*x/mol)"
      ]
     },
     "execution_count": 541,
     "metadata": {},
     "output_type": "execute_result"
    }
   ],
   "source": [
    "# note the mole ratio\n",
    "# KO2 : O2\n",
    "# 4   : 3\n",
    "\n",
    "E2 = sp.Eq(4/3, x/E1)\n",
    "E2"
   ]
  },
  {
   "cell_type": "code",
   "execution_count": 545,
   "id": "6cd908d3-8555-43e5-8c82-3c6c6742b564",
   "metadata": {},
   "outputs": [
    {
     "data": {
      "text/latex": [
       "$\\displaystyle 0.312511621525925 mol$"
      ],
      "text/plain": [
       "0.312511621525925*mol"
      ]
     },
     "execution_count": 545,
     "metadata": {},
     "output_type": "execute_result"
    }
   ],
   "source": [
    "E3 = sp.solve(E2, x)[0]\n",
    "E3"
   ]
  },
  {
   "cell_type": "code",
   "execution_count": 546,
   "id": "52890273-eb65-4b66-93d5-b637e00846ba",
   "metadata": {},
   "outputs": [
    {
     "data": {
      "text/latex": [
       "$\\displaystyle 22.2186731319071 \\text{g}$"
      ],
      "text/plain": [
       "22.2186731319071*gram"
      ]
     },
     "execution_count": 546,
     "metadata": {},
     "output_type": "execute_result"
    }
   ],
   "source": [
    "E4 = E3 * ((mm.Formula(\"KO2\").mass * u.gram) / mol)\n",
    "E4"
   ]
  },
  {
   "cell_type": "code",
   "execution_count": 547,
   "id": "7e03c88c-c2af-45b3-9f11-e84986f7bdf0",
   "metadata": {},
   "outputs": [
    {
     "data": {
      "text/latex": [
       "$\\displaystyle 0.234383716144444 mol$"
      ],
      "text/plain": [
       "0.234383716144444*mol"
      ]
     },
     "execution_count": 547,
     "metadata": {},
     "output_type": "execute_result"
    }
   ],
   "source": [
    "# Recal E1 wich is moles\n",
    "E1"
   ]
  },
  {
   "cell_type": "code",
   "execution_count": 548,
   "id": "b33b4069-bf1e-4c17-b9ca-61210e35d820",
   "metadata": {},
   "outputs": [
    {
     "data": {
      "text/latex": [
       "$\\displaystyle 0.666666666666667 = \\frac{4.266508 x}{mol}$"
      ],
      "text/plain": [
       "Eq(0.666666666666667, 4.266508*x/mol)"
      ]
     },
     "execution_count": 548,
     "metadata": {},
     "output_type": "execute_result"
    }
   ],
   "source": [
    "# Mole ratio \n",
    "# CO2 : O2\n",
    "# 2   : 3\n",
    "\n",
    "E5 = sp.Eq(2/3, x / E1)\n",
    "E5"
   ]
  },
  {
   "cell_type": "code",
   "execution_count": 549,
   "id": "e25c44bc-cee4-47f2-a0e3-d2021afaae88",
   "metadata": {},
   "outputs": [
    {
     "data": {
      "text/latex": [
       "$\\displaystyle 0.156255810762963 mol$"
      ],
      "text/plain": [
       "0.156255810762963*mol"
      ]
     },
     "execution_count": 549,
     "metadata": {},
     "output_type": "execute_result"
    }
   ],
   "source": [
    "E6 = sp.solve(E5, x)[0]\n",
    "E6"
   ]
  },
  {
   "cell_type": "code",
   "execution_count": 550,
   "id": "2331887d-4b9d-40d3-b24a-7acc0866f52b",
   "metadata": {},
   "outputs": [
    {
     "data": {
      "text/latex": [
       "$\\displaystyle 6.87674791656315 \\text{g}$"
      ],
      "text/plain": [
       "6.87674791656315*gram"
      ]
     },
     "execution_count": 550,
     "metadata": {},
     "output_type": "execute_result"
    }
   ],
   "source": [
    "# now find the gram of this\n",
    "E7 = E6 * ((mm.Formula(\"CO2\").mass * u.gram) / mol)\n",
    "E7"
   ]
  },
  {
   "cell_type": "code",
   "execution_count": 553,
   "id": "91c49b1b-c5e2-4162-b397-874c2fa0a9b0",
   "metadata": {},
   "outputs": [
    {
     "data": {
      "text/html": [
       "Al(OH)3 + 3 HCl &rarr; AlCl3 + 3 H2O"
      ],
      "text/plain": [
       "<chempy.chemistry.Reaction at 0x7f79bed90400>"
      ]
     },
     "execution_count": 553,
     "metadata": {},
     "output_type": "execute_result"
    }
   ],
   "source": [
    "# 3.63\n",
    "# (a)\n",
    "# first balance the equation\n",
    "BalanceChemEquation({\"Al(OH)3\", \"HCl\"}, {\"AlCl3\", \"H2O\"})[0]"
   ]
  },
  {
   "cell_type": "code",
   "execution_count": 554,
   "id": "8f301a22-4689-4c95-9d85-79380d1ba818",
   "metadata": {},
   "outputs": [
    {
     "data": {
      "text/latex": [
       "$\\displaystyle 0.00640996249704012 mol$"
      ],
      "text/plain": [
       "0.00640996249704012*mol"
      ]
     },
     "execution_count": 554,
     "metadata": {},
     "output_type": "execute_result"
    }
   ],
   "source": [
    "# (b)\n",
    "# Find moles of .5 g of Al(OH)3\n",
    "x, mol = sp.symbols('x mol')\n",
    "\n",
    "E1 = .5 * u.gram * (1 / ((mm.Formula(\"Al(OH)3\").mass * u.gram) / mol))\n",
    "E1"
   ]
  },
  {
   "cell_type": "code",
   "execution_count": 555,
   "id": "53669652-a132-4e52-bb3e-a378e047d963",
   "metadata": {},
   "outputs": [
    {
     "data": {
      "text/latex": [
       "$\\displaystyle 0.0192298874911204 mol$"
      ],
      "text/plain": [
       "0.0192298874911204*mol"
      ]
     },
     "execution_count": 555,
     "metadata": {},
     "output_type": "execute_result"
    }
   ],
   "source": [
    "# note the mole raio \n",
    "# Al(OH)3 : HCL\n",
    "# 1 : 3\n",
    "E2 = sp.Eq(1/3, E1 / x)\n",
    "E3 = sp.solve(E2, x)[0]\n",
    "E3"
   ]
  },
  {
   "cell_type": "code",
   "execution_count": 556,
   "id": "4a0ffafb-4124-42a8-baad-c25334193078",
   "metadata": {},
   "outputs": [
    {
     "data": {
      "text/latex": [
       "$\\displaystyle 0.701137870261628 \\text{g}$"
      ],
      "text/plain": [
       "0.701137870261628*gram"
      ]
     },
     "execution_count": 556,
     "metadata": {},
     "output_type": "execute_result"
    }
   ],
   "source": [
    "# find this as grams\n",
    "E4 = ((mm.Formula(\"HCl\").mass * u.gram) / mol) * E3\n",
    "E4"
   ]
  },
  {
   "cell_type": "code",
   "execution_count": 557,
   "id": "3b422fef-e879-438e-851a-7055c5ea8810",
   "metadata": {},
   "outputs": [
    {
     "data": {
      "text/latex": [
       "$\\displaystyle 0.00213665416568004 mol$"
      ],
      "text/plain": [
       "0.00213665416568004*mol"
      ]
     },
     "execution_count": 557,
     "metadata": {},
     "output_type": "execute_result"
    }
   ],
   "source": [
    "# (c)\n",
    "# we now know how many moles in .5 grams of Al\n",
    "# note the mole ratio\n",
    "\n",
    "# AlCl3 : H2O\n",
    "# 1 : 3"
   ]
  },
  {
   "cell_type": "code",
   "execution_count": 562,
   "id": "c46362c0-6e43-4b93-974d-a51f5db2d3b5",
   "metadata": {},
   "outputs": [
    {
     "data": {
      "text/latex": [
       "$\\displaystyle 0.0384924380144715 \\text{g}$"
      ],
      "text/plain": [
       "0.0384924380144715*gram"
      ]
     },
     "execution_count": 562,
     "metadata": {},
     "output_type": "execute_result"
    }
   ],
   "source": [
    "# find this in grams\n",
    "E7 = ((mm.Formula(\"H2O\").mass * u.gram) / mol) * E6\n",
    "E7"
   ]
  },
  {
   "cell_type": "code",
   "execution_count": 563,
   "id": "e4b037cf-d2b4-4b74-8f0c-1c7a7cfdd072",
   "metadata": {},
   "outputs": [
    {
     "data": {
      "text/html": [
       "3 CO + Fe2O3 &rarr; 3 CO2 + 2 Fe"
      ],
      "text/plain": [
       "<chempy.chemistry.Reaction at 0x7f79c00bcb20>"
      ]
     },
     "execution_count": 563,
     "metadata": {},
     "output_type": "execute_result"
    }
   ],
   "source": [
    "# 3.64\n",
    "# (a)\n",
    "\n",
    "# Balance the equation\n",
    "BalanceChemEquation({\"Fe2O3\", \"CO\"}, {\"Fe\", \"CO2\"})[0]"
   ]
  },
  {
   "cell_type": "code",
   "execution_count": 564,
   "id": "4d72506e-ca97-4118-817c-f2980e3e4853",
   "metadata": {},
   "outputs": [
    {
     "data": {
      "text/latex": [
       "$\\displaystyle 2.19177100827384 mol$"
      ],
      "text/plain": [
       "2.19177100827384*mol"
      ]
     },
     "execution_count": 564,
     "metadata": {},
     "output_type": "execute_result"
    }
   ],
   "source": [
    "# Find moles in .35 kg of Fe2O3\n",
    "x, mol = sp.symbols('x mol')\n",
    "\n",
    "E1 = convert_to(.35 * u.kilogram, u.gram) * (1 / ((mm.Formula(\"Fe2O3\").mass * u.gram) / mol))\n",
    "E1"
   ]
  },
  {
   "cell_type": "code",
   "execution_count": 565,
   "id": "e1af41a7-3a5f-47a7-a011-930d4db1de2d",
   "metadata": {},
   "outputs": [
    {
     "data": {
      "text/latex": [
       "$\\displaystyle 6.57531302482152 mol$"
      ],
      "text/plain": [
       "6.57531302482152*mol"
      ]
     },
     "execution_count": 565,
     "metadata": {},
     "output_type": "execute_result"
    }
   ],
   "source": [
    "# now note the mole ratio between \n",
    "# Fe2O3 : CO\n",
    "# 1 : 3\n",
    "# find moles of CO that will be needed\n",
    "E2 = sp.Eq(1/3, E1/x)\n",
    "E3 = sp.solve(E2, x)[0]\n",
    "E3"
   ]
  },
  {
   "cell_type": "code",
   "execution_count": 566,
   "id": "ff613167-67a4-4014-b69b-b6676497f959",
   "metadata": {},
   "outputs": [
    {
     "data": {
      "text/latex": [
       "$\\displaystyle 184.175471245639 \\text{g}$"
      ],
      "text/plain": [
       "184.175471245639*gram"
      ]
     },
     "execution_count": 566,
     "metadata": {},
     "output_type": "execute_result"
    }
   ],
   "source": [
    "# now find this amoutn of mols in grams of CO\n",
    "E4 = ((mm.Formula(\"CO\").mass * u.gram) / mol) * E3\n",
    "E4"
   ]
  },
  {
   "cell_type": "code",
   "execution_count": 567,
   "id": "012a607a-0845-4312-a047-5501c53c02d7",
   "metadata": {},
   "outputs": [
    {
     "data": {
      "text/latex": [
       "$\\displaystyle 4.38354201654768 mol$"
      ],
      "text/plain": [
       "4.38354201654768*mol"
      ]
     },
     "execution_count": 567,
     "metadata": {},
     "output_type": "execute_result"
    }
   ],
   "source": [
    "# Now find Fe\n",
    "# Note the mole ratio between \n",
    "# Fe2O3 : Fe \n",
    "# 1 : 2\n",
    "# find moles of Fe that will be needed given this amount of Fe2O3\n",
    "E5 = sp.Eq(1 / 2, E1 / x)\n",
    "E6 = sp.solve(E5, x)[0]\n",
    "E6"
   ]
  },
  {
   "cell_type": "code",
   "execution_count": 568,
   "id": "90ed21b6-f25d-4a43-9c76-ddae7323fd5b",
   "metadata": {},
   "outputs": [
    {
     "data": {
      "text/latex": [
       "$\\displaystyle 244.798903914105 \\text{g}$"
      ],
      "text/plain": [
       "244.798903914105*gram"
      ]
     },
     "execution_count": 568,
     "metadata": {},
     "output_type": "execute_result"
    }
   ],
   "source": [
    "# convert moles of Fe into grams\n",
    "E7 = ((mm.Formula(\"Fe\").mass * u.gram) / mol) * E6\n",
    "E7"
   ]
  },
  {
   "cell_type": "code",
   "execution_count": 569,
   "id": "64c40b53-0ee3-4d15-baf5-f8ef308c3355",
   "metadata": {},
   "outputs": [
    {
     "data": {
      "text/latex": [
       "$\\displaystyle 6.57531302482152 mol$"
      ],
      "text/plain": [
       "6.57531302482152*mol"
      ]
     },
     "execution_count": 569,
     "metadata": {},
     "output_type": "execute_result"
    }
   ],
   "source": [
    "# Now find CO2\n",
    "# Note the mole ratio\n",
    "# Fe2O3 : CO2\n",
    "# 1  : 3\n",
    "# find moles of CO2 given amoutn of Fe2O3\n",
    "E8 = sp.Eq(1 / 3, E1 / x)\n",
    "E9 = sp.solve(E8, x)[0]\n",
    "E9"
   ]
  },
  {
   "cell_type": "code",
   "execution_count": 570,
   "id": "26418455-fa96-4e78-ae65-573fdfec7747",
   "metadata": {},
   "outputs": [
    {
     "data": {
      "text/latex": [
       "$\\displaystyle 289.376567331534 \\text{g}$"
      ],
      "text/plain": [
       "289.376567331534*gram"
      ]
     },
     "execution_count": 570,
     "metadata": {},
     "output_type": "execute_result"
    }
   ],
   "source": [
    "# now find grams of CO2\n",
    "E10 = ((mm.Formula(\"CO2\").mass * u.gram) / mol) * E9\n",
    "E10"
   ]
  },
  {
   "cell_type": "code",
   "execution_count": 574,
   "id": "55cb8087-8d14-4292-b4b8-143f8c38bc44",
   "metadata": {},
   "outputs": [
    {
     "data": {
      "text/html": [
       "Al2S3 + 6 H2O &rarr; 2 Al(OH)3 + 3 H2S"
      ],
      "text/plain": [
       "<chempy.chemistry.Reaction at 0x7f79bf467610>"
      ]
     },
     "execution_count": 574,
     "metadata": {},
     "output_type": "execute_result"
    }
   ],
   "source": [
    "# 3.65\n",
    "BalanceChemEquation({\"Al2S3\", \"H2O\"}, {\"Al(OH)3\", \"H2S\"})[0]"
   ]
  },
  {
   "cell_type": "code",
   "execution_count": 575,
   "id": "02387724-9329-4ac5-a0a5-736f3747f1a7",
   "metadata": {},
   "outputs": [
    {
     "data": {
      "text/latex": [
       "$\\displaystyle 0.0945673854123162 mol$"
      ],
      "text/plain": [
       "0.0945673854123162*mol"
      ]
     },
     "execution_count": 575,
     "metadata": {},
     "output_type": "execute_result"
    }
   ],
   "source": [
    "# Need to find mooles of Al2S3\n",
    "x, mol = sp.symbols(\"x mol\")\n",
    "\n",
    "E1 = 14.2 * u.gram * (1 / ((mm.Formula(\"Al2S3\").mass * u.gram) / mol))\n",
    "E1"
   ]
  },
  {
   "cell_type": "code",
   "execution_count": 578,
   "id": "05bb8080-05a4-4463-9bcd-7821cf5d2329",
   "metadata": {},
   "outputs": [
    {
     "data": {
      "text/latex": [
       "$\\displaystyle 0.189134770824632 mol$"
      ],
      "text/plain": [
       "0.189134770824632*mol"
      ]
     },
     "execution_count": 578,
     "metadata": {},
     "output_type": "execute_result"
    }
   ],
   "source": [
    "# Note the mole ratio: \n",
    "# Al2S3 : Al(OH)3 \n",
    "# 1 : 2\n",
    "E2 = sp.Eq(1 /2 , E1 / x)\n",
    "E3 = sp.solve(E2, x)[0]\n",
    "E3"
   ]
  },
  {
   "cell_type": "code",
   "execution_count": 579,
   "id": "8fa453e2-5ed9-4ee1-8554-c7afec13cf01",
   "metadata": {},
   "outputs": [
    {
     "data": {
      "text/latex": [
       "$\\displaystyle 14.7531885648292 \\text{g}$"
      ],
      "text/plain": [
       "14.7531885648292*gram"
      ]
     },
     "execution_count": 579,
     "metadata": {},
     "output_type": "execute_result"
    }
   ],
   "source": [
    "# Find how many grams of Al(OH)3\n",
    "\n",
    "E4 = ((mm.Formula(\"Al(OH)3\").mass * u.gram) / mol) * E3\n",
    "E4"
   ]
  },
  {
   "cell_type": "code",
   "execution_count": 580,
   "id": "735c91fd-31a9-4c6d-bc1b-084c9dc12edf",
   "metadata": {},
   "outputs": [
    {
     "data": {
      "text/html": [
       "CaH2 + 2 H2O &rarr; Ca(OH)2 + 2 H2"
      ],
      "text/plain": [
       "<chempy.chemistry.Reaction at 0x7f79beefc820>"
      ]
     },
     "execution_count": 580,
     "metadata": {},
     "output_type": "execute_result"
    }
   ],
   "source": [
    "# 3.66\n",
    "# Reactants: Calcium Hydride, H2O\n",
    "# Products: Calcium Hydroxide, H2\n",
    "# Creat a balanced equation first\n",
    "\n",
    "BalanceChemEquation({\"CaH2\", \"H2O\"}, {\"Ca(OH)2\", \"H2\"})[0]"
   ]
  },
  {
   "cell_type": "code",
   "execution_count": 583,
   "id": "3548f151-2e98-4e05-b34b-6212cdf0426d",
   "metadata": {},
   "outputs": [
    {
     "data": {
      "text/latex": [
       "$\\displaystyle 2.23227351600937 mol$"
      ],
      "text/plain": [
       "2.23227351600937*mol"
      ]
     },
     "execution_count": 583,
     "metadata": {},
     "output_type": "execute_result"
    }
   ],
   "source": [
    "# Find moles of hydrogen in 4.5 grams\n",
    "mol, x = sp.symbols('mol, x')\n",
    "\n",
    "E1 = 4.5 * u.gram * (1 / ((mm.Formula(\"H2\").mass * u.gram) / mol))\n",
    "E1"
   ]
  },
  {
   "cell_type": "code",
   "execution_count": 584,
   "id": "69d24caa-8d31-4c47-9d7c-4ead959d3879",
   "metadata": {},
   "outputs": [
    {
     "data": {
      "text/latex": [
       "$\\displaystyle 1.11613675800468 mol$"
      ],
      "text/plain": [
       "1.11613675800468*mol"
      ]
     },
     "execution_count": 584,
     "metadata": {},
     "output_type": "execute_result"
    }
   ],
   "source": [
    "# Note the mole rati\n",
    "# CaH2 : H2\n",
    "# 1 : 2\n",
    "E2 = sp.Eq(1 / 2, x / E1)\n",
    "E3 = sp.solve(E2, x)[0]\n",
    "E3"
   ]
  },
  {
   "cell_type": "code",
   "execution_count": 585,
   "id": "29b85aca-87d4-48c1-a036-d230221242c5",
   "metadata": {},
   "outputs": [
    {
     "data": {
      "text/latex": [
       "$\\displaystyle 46.9825289873117 \\text{g}$"
      ],
      "text/plain": [
       "46.9825289873117*gram"
      ]
     },
     "execution_count": 585,
     "metadata": {},
     "output_type": "execute_result"
    }
   ],
   "source": [
    "# Find the grams of calcium hydride\n",
    "E4 = ((mm.Formula(\"CaH2\").mass * u.gram) / mol) * E3\n",
    "E4"
   ]
  },
  {
   "cell_type": "code",
   "execution_count": 586,
   "id": "99df756b-9abe-4db6-b659-aa7554355089",
   "metadata": {},
   "outputs": [
    {
     "data": {
      "text/html": [
       "2 NaN3 &rarr; 3 N2 + 2 Na"
      ],
      "text/plain": [
       "<chempy.chemistry.Reaction at 0x7f79bfbc6970>"
      ]
     },
     "execution_count": 586,
     "metadata": {},
     "output_type": "execute_result"
    }
   ],
   "source": [
    "# 3.67\n",
    "# Consider following Balanced Equation\n",
    "BalanceChemEquation({\"NaN3\"}, {\"Na\", \"N2\"})[0]\n"
   ]
  },
  {
   "cell_type": "code",
   "execution_count": 587,
   "id": "d6850acd-bd80-465e-b7de-b5641f195767",
   "metadata": {},
   "outputs": [
    {
     "data": {
      "text/latex": [
       "$\\displaystyle 2.25 mol$"
      ],
      "text/plain": [
       "2.25*mol"
      ]
     },
     "execution_count": 587,
     "metadata": {},
     "output_type": "execute_result"
    }
   ],
   "source": [
    "# (a)\n",
    "# Note the mole ratio: \n",
    "# N2 : NaN3\n",
    "# 3  : 2\n",
    "x, mol = sp.symbols('x mol')\n",
    "\n",
    "E1 = sp.Eq(3/2, x / (1.5 * mol))\n",
    "E2 = sp.solve(E1, x)[0]\n",
    "E2"
   ]
  },
  {
   "cell_type": "code",
   "execution_count": 588,
   "id": "d8bcc903-d5f2-490e-b263-e74731a6f0c3",
   "metadata": {},
   "outputs": [
    {
     "data": {
      "text/latex": [
       "$\\displaystyle 0.356971944075633 mol$"
      ],
      "text/plain": [
       "0.356971944075633*mol"
      ]
     },
     "execution_count": 588,
     "metadata": {},
     "output_type": "execute_result"
    }
   ],
   "source": [
    "# (b)\n",
    "# Find moles in 10 g of nitrogen gas, figure out how much NaN3 is needed\n",
    "E3 = 10 * u.gram * (1 / ((mm.Formula(\"N2\").mass * u.gram) / mol))\n",
    "E3"
   ]
  },
  {
   "cell_type": "code",
   "execution_count": 589,
   "id": "0abcc6bd-a720-4dc6-91bf-d0a4e9c0d6ff",
   "metadata": {},
   "outputs": [
    {
     "data": {
      "text/latex": [
       "$\\displaystyle 0.237981296050422 mol$"
      ],
      "text/plain": [
       "0.237981296050422*mol"
      ]
     },
     "execution_count": 589,
     "metadata": {},
     "output_type": "execute_result"
    }
   ],
   "source": [
    "# note the mole ratio: \n",
    "# N2 : NaN3\n",
    "# 3 : 2\n",
    "E4 = sp.Eq(3/2, E3 / x)\n",
    "E5 = sp.solve(E4, x)[0]\n",
    "E5"
   ]
  },
  {
   "cell_type": "code",
   "execution_count": 590,
   "id": "c937de51-98d3-41bd-ae71-f82818cacfd8",
   "metadata": {},
   "outputs": [
    {
     "data": {
      "text/latex": [
       "$\\displaystyle 15.4711350891546 \\text{g}$"
      ],
      "text/plain": [
       "15.4711350891546*gram"
      ]
     },
     "execution_count": 590,
     "metadata": {},
     "output_type": "execute_result"
    }
   ],
   "source": [
    "# now find how many grams of NaN3 are needed\n",
    "E6 = ((mm.Formula(\"NaN3\").mass * u.gram) / mol) * E5\n",
    "E6"
   ]
  },
  {
   "cell_type": "code",
   "execution_count": 595,
   "id": "c2ecb207-0d34-4be5-bbc5-028bcd0f5510",
   "metadata": {},
   "outputs": [
    {
     "data": {
      "text/plain": [
       "283.15999999999997"
      ]
     },
     "execution_count": 595,
     "metadata": {},
     "output_type": "execute_result"
    }
   ],
   "source": [
    "# (c)\n",
    "# Note that each cubic foot holds 28.3168L\n",
    "# If there are 10 cubic feet number of liters are: \n",
    "E7 = 28.316 * 10 \n",
    "E7"
   ]
  },
  {
   "cell_type": "code",
   "execution_count": 596,
   "id": "5dc2d074-e458-487d-b2df-faaee1ff4863",
   "metadata": {},
   "outputs": [
    {
     "data": {
      "text/latex": [
       "$\\displaystyle 353.95 \\text{g}$"
      ],
      "text/plain": [
       "353.95*gram"
      ]
     },
     "execution_count": 596,
     "metadata": {},
     "output_type": "execute_result"
    }
   ],
   "source": [
    "# if there is 1.25 grams per liter, total grams is: \n",
    "E8 = E7 * 1.25 * u.gram\n",
    "E8"
   ]
  },
  {
   "cell_type": "code",
   "execution_count": 597,
   "id": "1118f2e0-c57b-4c47-a43f-ed9b71636efb",
   "metadata": {},
   "outputs": [
    {
     "data": {
      "text/latex": [
       "$\\displaystyle 12.635021960557 mol$"
      ],
      "text/plain": [
       "12.635021960557*mol"
      ]
     },
     "execution_count": 597,
     "metadata": {},
     "output_type": "execute_result"
    }
   ],
   "source": [
    "# Find this in moles to see total nitrogen gas\n",
    "E9 = E8 * (1 / ((mm.Formula(\"N2\").mass * u.gram) / mol))\n",
    "E9"
   ]
  },
  {
   "cell_type": "code",
   "execution_count": 598,
   "id": "f1403ba2-6404-44f4-8cc1-6eaf07cde034",
   "metadata": {},
   "outputs": [
    {
     "data": {
      "text/latex": [
       "$\\displaystyle 8.42334797370467 mol$"
      ],
      "text/plain": [
       "8.42334797370467*mol"
      ]
     },
     "execution_count": 598,
     "metadata": {},
     "output_type": "execute_result"
    }
   ],
   "source": [
    "# Note the mole ratio \n",
    "# N2 : NaN3\n",
    "# 3 : 2\n",
    "E10 = sp.Eq(3/2, E9 / x)\n",
    "E11 = sp.solve(E10, x)[0]\n",
    "E11"
   ]
  },
  {
   "cell_type": "code",
   "execution_count": 600,
   "id": "fab68c44-fcc1-4e71-98e4-36f186b2c693",
   "metadata": {},
   "outputs": [
    {
     "data": {
      "text/latex": [
       "$\\displaystyle 547.600826480625 \\text{g}$"
      ],
      "text/plain": [
       "547.600826480625*gram"
      ]
     },
     "execution_count": 600,
     "metadata": {},
     "output_type": "execute_result"
    }
   ],
   "source": [
    "# Find grams\n",
    "E12 = ((mm.Formula(\"NaN3\").mass * u.gram) / mol) * E11\n",
    "E12"
   ]
  },
  {
   "cell_type": "code",
   "execution_count": 601,
   "id": "baed34cd-6507-4f38-9798-5ae8e1091541",
   "metadata": {},
   "outputs": [
    {
     "data": {
      "text/html": [
       "2 C8H18 + 25 O2 &rarr; 16 CO2 + 18 H2O"
      ],
      "text/plain": [
       "<chempy.chemistry.Reaction at 0x7f79bf2c0c10>"
      ]
     },
     "execution_count": 601,
     "metadata": {},
     "output_type": "execute_result"
    }
   ],
   "source": [
    "# 3.68\n",
    "# Consider the following balanced equation\n",
    "BalanceChemEquation({\"C8H18\", \"O2\"}, {\"CO2\", \"H2O\"})[0]\n"
   ]
  },
  {
   "cell_type": "code",
   "execution_count": 605,
   "id": "2928a243-32a5-4421-977c-193389723c4b",
   "metadata": {},
   "outputs": [
    {
     "data": {
      "text/latex": [
       "$\\displaystyle 18.75 mol$"
      ],
      "text/plain": [
       "18.75*mol"
      ]
     },
     "execution_count": 605,
     "metadata": {},
     "output_type": "execute_result"
    }
   ],
   "source": [
    "# (a)\n",
    "# Note the mole ratio:\n",
    "# O2 : C8H18\n",
    "# 25 : 2\n",
    "x, mol = sp.symbols(\"x, mol\")\n",
    "\n",
    "E1 = sp.Eq(25 /2,  x / (1.50 * mol))\n",
    "E2 = sp.solve(E1, x)[0]\n",
    "E2"
   ]
  },
  {
   "cell_type": "code",
   "execution_count": 607,
   "id": "3750bc0d-f89e-4831-906e-053bd48a4a17",
   "metadata": {},
   "outputs": [
    {
     "data": {
      "text/latex": [
       "$\\displaystyle 0.087543552260673 mol$"
      ],
      "text/plain": [
       "0.087543552260673*mol"
      ]
     },
     "execution_count": 607,
     "metadata": {},
     "output_type": "execute_result"
    }
   ],
   "source": [
    "# Find 10 grams of C8H18 in moles\n",
    "E3 = 10 * u.gram * (1 / ((mm.Formula(\"C8H18\").mass * u.gram) / mol))\n",
    "E3"
   ]
  },
  {
   "cell_type": "code",
   "execution_count": 609,
   "id": "da599086-6ef4-4e1c-b7ae-526ffee76266",
   "metadata": {},
   "outputs": [
    {
     "data": {
      "text/latex": [
       "$\\displaystyle 1.09429440325841 mol$"
      ],
      "text/plain": [
       "1.09429440325841*mol"
      ]
     },
     "execution_count": 609,
     "metadata": {},
     "output_type": "execute_result"
    }
   ],
   "source": [
    "# Note the mole ratio\n",
    "# O2 : C8H18\n",
    "# 25 : 2\n",
    "E4  = sp.Eq(25 / 2, x / E3)\n",
    "E5 = sp.solve(E4, x)[0]\n",
    "E5"
   ]
  },
  {
   "cell_type": "code",
   "execution_count": 610,
   "id": "105d998a-04af-4e74-931c-2bcbe82cb0d5",
   "metadata": {},
   "outputs": [
    {
     "data": {
      "text/latex": [
       "$\\displaystyle 35.0161186939293 \\text{g}$"
      ],
      "text/plain": [
       "35.0161186939293*gram"
      ]
     },
     "execution_count": 610,
     "metadata": {},
     "output_type": "execute_result"
    }
   ],
   "source": [
    "# Now find this in grams\n",
    "E6 = ((mm.Formula(\"O2\").mass * u.gram) / mol) * E5\n",
    "E6"
   ]
  },
  {
   "cell_type": "code",
   "execution_count": 613,
   "id": "4def27fd-2122-42ca-a7c0-56a1186a1749",
   "metadata": {},
   "outputs": [
    {
     "data": {
      "text/plain": [
       "56781.149999999994"
      ]
     },
     "execution_count": 613,
     "metadata": {},
     "output_type": "execute_result"
    }
   ],
   "source": [
    "# (c)\n",
    "# Note there are 3785 mill in a gallon\n",
    "# In 15 gallons, total milliliators is: \n",
    "E7 = 15 * 3785.41# \n",
    "E7"
   ]
  },
  {
   "cell_type": "code",
   "execution_count": 614,
   "id": "b8b3f2c6-bf64-4e6d-8cc1-4d942df1de3b",
   "metadata": {},
   "outputs": [
    {
     "data": {
      "text/latex": [
       "$\\displaystyle 39292.5558 \\text{g}$"
      ],
      "text/plain": [
       "39292.5558*gram"
      ]
     },
     "execution_count": 614,
     "metadata": {},
     "output_type": "execute_result"
    }
   ],
   "source": [
    "# If each Ml has .692 grams \n",
    "E8 = E7 * .692 * u.gram\n",
    "E8"
   ]
  },
  {
   "cell_type": "code",
   "execution_count": 615,
   "id": "73be4ac6-3f0e-4475-b92f-6fa4b16842b9",
   "metadata": {},
   "outputs": [
    {
     "data": {
      "text/latex": [
       "$\\displaystyle 343.980991213271 mol$"
      ],
      "text/plain": [
       "343.980991213271*mol"
      ]
     },
     "execution_count": 615,
     "metadata": {},
     "output_type": "execute_result"
    }
   ],
   "source": [
    "# Find how many moles this is in C8H18\n",
    "E9 = E8 * (1 / ((mm.Formula(\"C8H18\").mass * u.gram) / mol))\n",
    "E9"
   ]
  },
  {
   "cell_type": "code",
   "execution_count": 616,
   "id": "9e8ea534-b52b-49f6-915f-0deaecaebb6b",
   "metadata": {},
   "outputs": [
    {
     "data": {
      "text/latex": [
       "$\\displaystyle 4299.76239016589 mol$"
      ],
      "text/plain": [
       "4299.76239016589*mol"
      ]
     },
     "execution_count": 616,
     "metadata": {},
     "output_type": "execute_result"
    }
   ],
   "source": [
    "# Note more raito between \n",
    "# C8H18 : O2\n",
    "# 2   : 25\n",
    "E10 = sp.Eq(2 / 25, E9 / x)\n",
    "E11 = sp.solve(E10, x)[0]\n",
    "E11"
   ]
  },
  {
   "cell_type": "code",
   "execution_count": 617,
   "id": "314aae0e-4fbf-4dde-8b3b-c00744acde8a",
   "metadata": {},
   "outputs": [
    {
     "data": {
      "text/latex": [
       "$\\displaystyle 137587.279768064 \\text{g}$"
      ],
      "text/plain": [
       "137587.279768064*gram"
      ]
     },
     "execution_count": 617,
     "metadata": {},
     "output_type": "execute_result"
    }
   ],
   "source": [
    "# Find this in grams of O2\n",
    "E12 = ((mm.Formula(\"O2\").mass * u.gram) / mol) * E11\n",
    "E12"
   ]
  },
  {
   "cell_type": "code",
   "execution_count": 622,
   "id": "eeae9a2e-0485-4c5f-b339-8f7ee9df3ac9",
   "metadata": {},
   "outputs": [
    {
     "data": {
      "text/html": [
       "CO2 + 2 NaOH &rarr; H2O + Na2CO3"
      ],
      "text/plain": [
       "<chempy.chemistry.Reaction at 0x7f79befb1730>"
      ]
     },
     "execution_count": 622,
     "metadata": {},
     "output_type": "execute_result"
    }
   ],
   "source": [
    "# 3.75\n",
    "# Consider following balanced equation\n",
    "BalanceChemEquation({\"NaOH\", \"CO2\"}, {\"Na2CO3\", \"H2O\"})[0]"
   ]
  },
  {
   "cell_type": "code",
   "execution_count": null,
   "id": "d122a39c-88c6-4870-bf72-7506ba751a3f",
   "metadata": {},
   "outputs": [],
   "source": [
    "# Note the mole ratio\n",
    "# NaOH : CO2\n",
    "# 1   :   1\n",
    "# 1.85   : 1\n",
    "# So NaOH is limiting reactant, excess of "
   ]
  }
 ],
 "metadata": {
  "kernelspec": {
   "display_name": "Python 3",
   "language": "python",
   "name": "python3"
  },
  "language_info": {
   "codemirror_mode": {
    "name": "ipython",
    "version": 3
   },
   "file_extension": ".py",
   "mimetype": "text/x-python",
   "name": "python",
   "nbconvert_exporter": "python",
   "pygments_lexer": "ipython3",
   "version": "3.9.2"
  }
 },
 "nbformat": 4,
 "nbformat_minor": 5
}
