{
 "cells": [
  {
   "cell_type": "code",
   "execution_count": 1,
   "metadata": {},
   "outputs": [],
   "source": [
    "import sympy as sp\n",
    "import numpy as np\n",
    "import shared_functions as sf"
   ]
  },
  {
   "cell_type": "markdown",
   "metadata": {},
   "source": [
    "<h3>Formula and theorem summary</h3>\n",
    "\n",
    "\n",
    "\n",
    "\n",
    "<h3>References</h3>\n"
   ]
  },
  {
   "cell_type": "markdown",
   "metadata": {},
   "source": [
    "[Proof 3_1_2](#3_1_2)<br/>\n",
    "<i>Proposition:</i> The product $xy$ of two integers x and y, whose sum $x+y=k$ is fixed, is maximumised when $x=y=\\frac{k}{2}$, and the maximum value is $xy=\\frac{k^2}{4}$\n",
    "<br/><i>Related name: </i> Maximum of product given a fixed sum\n",
    "\n",
    "\n",
    "[Proof 3_1_4](#3_1_4)<br/>\n",
    "<i>Proposition:</i>  Supposse that $A_1=[t_1,t_1^2], A_3=[t_3,t_3^2]$ are fixed points on the parabola $y=x^2$ with $t_1 < t_3$, and that $A_2=[t_2,t_2^2]$ is a variable third point. The signed area $s(\\widetilde{A_1A_2A_3})=\\frac{(t_1-t_2)(t_2-t_3)(t_3-t_1)}{2}$ is maximumised when $t_2=\\frac {t_1+t_3}{2}$ and this maximum value is $\\frac {(t_3-t_1)^3}{8}.$\n",
    "<br/><i>Related name: </i> Maximum of triangular signed area on a parabola\n",
    "\n",
    "\n",
    "[Proof 3_1_7](#3_1_7)<br/>\n",
    "<i>Proposition:</i>  Given a parametrization $p(t)=[t,t^3]$ of the cubic curve $y=x^3$, the signed area of the oriented triangle $\\widetilde{A_1A_2A_3}$ where $A_i=p(t_i)$ for i=1,2,3 is\n",
    "\n",
    "$$ s(\\widetilde{A_1A_2A_3})=\\frac{(t_1-t_2)(t_2-t_3)(t_3-t_1)(t_1+t_2+t_3)}{2}. $$\n",
    "\n",
    "<br/><i>Related name: </i> Signed area of an oriented triangle on the standard cubic \n",
    "\n",
    "\n",
    "\n",
    "[Proof 3_1_9_i](#3_1_9_i)<br/>\n",
    "<i>Proposition:</i>  \n",
    "\n",
    "The signed area, $s(\\widetilde{A_1A_2A_3})$, where $A_i=q(t_i)$ and  $i=1,2,3$ are points on the curve $y=x^3+\\ell$ with parametrization $q(t)=[t,t^3+\\ell]$ is: \n",
    "\n",
    "$$ \\frac{(t_1-t_2)(t_2-t_3)(t_3-t_1)(t_1+t_2+t_3)}{2}. $$\n",
    "\n",
    "<br/><i>Related name: </i> Translates of the standard cubic \n",
    "\n",
    "\n",
    "[Proof 3_1_9_ii](#3_1_9_ii)<br/>\n",
    "<i>Proposition:</i>  \n",
    "\n",
    "The signed area, $s(\\widetilde{A_1A_2A_3})$, where $A_i=q(t_i)$ and $i=1,2,3$ are points on the curve  $y=(x+k)^3$ with the parametrization $p(t)=[t,(t+k)^3]$ is: \n",
    "$$ =\\frac{(t_1-t_2)(t_2-t_3)(t_3-t_1)(t_1+t_2+t_3+3k)}{2}. $$\n",
    "\n",
    "<br/><i>Related name: </i> Translates of the standard cubic \n",
    "\n",
    "\n",
    "[Proof 3_1_10](#3_1_10)<br/>\n",
    "<i>Proposition:</i>  \n",
    "\n",
    "The signed area of an oriented triangle on the standard cubic $y=x^3$, where the points used in the triangle constuction are $A_1=[t_1,t_1^3]$,  $A_2=[t_2,t_2^3]$ and $A_3=[t_3,t_3^3]$ are collinear when $t_1+t_2+t_3=0$\n",
    "<br/><i>Related name: </i> Collinear points on the standard cubic\n",
    "\n",
    "\n",
    "[Proof 3_1_11_i](#3_1_11)<br/>\n",
    "<i>Proposition:</i>  The Pod Product is commutative, meaning that for any points A,B on the cubic curve, $A*B=B*A$\n",
    "<br/><i>Related name: </i> The Pod structure on the standard cubic\n",
    "\n",
    "[Proof 3_1_11_ii](#3_1_11_ii)<br/>\n",
    "<i>Proposition:</i> The Pod Product is symmetric, meaning that for any points A,B,C on the cubic curve, if $A∗B=C$ then it is the case that $B*C=A \\quad \\textrm{and} \\quad A*C=B$\n",
    "\n",
    "\n",
    "[Proof 3_1_11_iii](#3_1_11_iii)<br/>\n",
    "<i>Proposition:</i> The pod product is 4-associative, meaning that for any points A,B,C and D on the cubic curve, $$ (A*B)*(C*D)=(A*C)*(B*D)=(A*D)*(B*C).$$\n",
    "<br/><i>Related name: </i> The Pod structure on the standard cubic\n",
    "\n",
    "\n",
    "[Proof 3_1_12](#3_1_12)<br/>\n",
    "<i>Proposition:</i> Given the paramatrisation\n",
    "$$ e(t)=\\left[\\frac{1-t^2}{1+t^2}, \\frac{2t}{1+t^2}\\right].$$ of the unit circle $x^2+y^2=1$, the signed area of the oriented triangle $\\widetilde{A_1A_2A_3}$ where $ A_i=e(t_i)$ for $i=1,2,3$ is\n",
    "\n",
    "$$   s(\\widetilde{A_1A_2A_3})=\\frac{2(t_1-t_2)(t_2-t_3)(t_3-t_1)}{(t_1^2+1)(t_2^2+1)(t_3^2+1)}.  $$\n",
    "\n",
    "<br/><i>Related name: </i> Signed area of a triangle on the unit circle\n",
    "\n",
    "\n",
    "[Proof 3_1_13](#3_1_13)<br/>\n",
    "<i>Proposition:</i> Consider the circle $c: x^2+y^2=r^2$, where r is any number, Modifying the previous problem, show that if $Ai=re(t_i)$ for $i=1,2,3$ are arbitrary points on the circle c then\n",
    "\n",
    "$$  s_r=s(\\widetilde{A_1A_2A_3})=2r^2\\frac{(t_1-t_2)(t_2-t_3)(t_3-t_1)}{(t_1^2+1)(t_2^2+1)(t_3^2+1)}.  $$\n",
    "<br/><i>Related name: </i> Signed area on a scaled circle\n",
    "\n",
    "\n",
    "[Proof 3_1_14](#3_1_14)<br/>\n",
    "<i>Proposition:</i> \n",
    "Using the parametrization $p(t)=[t,\\frac1{t}]$  of the curve $y=\\frac1{x}$, show that the signed area of the oriented triangle $\\widetilde{A_1A_2A_3}$ where $A_i=p(t_i)$ for i=1,2,3, is\n",
    "$$ s(\\widetilde{A_1A_2A_3})=\\frac{(t_1-t_2)(t_2-t_3)(t_3-t_1)}{2t_1t_2t_3}.$$\n",
    "\n",
    "<br/><i>Related name: </i> Signed area of an oriented triangle on the inversive hyperbola\n",
    "\n",
    "\n",
    "[Proof 3_1_15](#3_1_15)<br/>\n",
    "<i>Proposition:</i> \n",
    "Using the parametrizatio \n",
    "\n",
    "$$ f(t)=\\left[\\frac{1+t^2}{1-t^2}, \\frac{2t}{1-t^2}\\right].$$ of the hyperbola $x^2-y^2=1$, show that the signed area of the oriented triangle $\\widetilde{A_1A_2A_3}$ where\n",
    "$A_i=f(t_i)$ for $i=1,2,3$ is\n",
    "$$ s(\\widetilde{A_1A_2A_3})=\\frac{2(t_1-t_2)(t_2-t_3)(t_3-t_1)}{(t_1^2-1)(t_2^2-1)(t_3^2-1)}. $$\n",
    "<br/><i>Related name: </i> Signed area of a triangle on the relativistic hyperbola\n",
    "\n",
    "\n",
    "\n",
    "[Proof 3_1_16](#3_1_16)<br/>\n",
    "<i>Proposition:</i> \n",
    "\n",
    "The Folium of Descartes is a famous cubic curve with equation $x^3+y^3-3xy=0$. It has a parametrization $$ g(t)=\\left[\\frac{3t}{t^3+1},\\frac{3t^2}{t^3+1}\\right].$$. Check that the parametrization is correct, in the sense that every point of the form g(t) actually lies on the curve, Show that if A=g(t) and B=g(u) then $$s(\\widetilde{AB})=\\frac{9tu(u-t)}{2(t^3+1)(u^3+1)}.$$ and if $A_i=g(t_i)$ for $i=1,2,3$ then $$ s(\\widetilde{A_1A_2A_3})=\\frac{9(t_1-t_2)(t_2-t_3)(t_3-t_1)(t_1t_2t_3+1)}{2(t_1^3+1)(t_2^3+1)(t_3^3+1)}.$$\n",
    "\n",
    "\n",
    "<br/><i>Related name: </i> Signed area of a triangle on the Folium of Descartes\n",
    "\n",
    "\n",
    "[Proof 3_1_18](#3_1_18)<br/>\n",
    "<i>Proposition:</i> \n",
    "Use the formula for the signed area of an oriented triangle on the Folium derived in P3.1.16 to describe the pod structure on the Folium in terms of the parametrization g(t). \n",
    "Verify that the pod structure is commutative.\n",
    "Verify that the pod product is 4-associative.\n",
    "<br/><i>Related name: </i> The pod structure on the Folium of Descartes\n",
    "\n",
    "\n",
    "[Proof 3_1_19](#3_1_19)<br/>\n",
    "<i>Proposition:</i> \n",
    "It is true that $s^{\\triangle}(t,f+g)=s^{\\triangle}(t,f)+s^{\\triangle}(t,g)$ and $s^\\triangle(t,af)=as^\\triangle(t,f)$\n",
    "<br/><i>Related name: </i> Linearity of signed area\n",
    "\n",
    "[Proof 3_1_20_i](#3_1_20_i)<br/>\n",
    "<i>Proposition:</i> \n",
    "If one of f or g is a constant, then $s^\\triangle({f,g})=0$\n",
    "<br/><i>Related name: </i> Constant and linear components\n",
    "\n",
    "[Proof 3_1_20_ii](#3_1_20_ii)<br/>\n",
    "<i>Proposition:</i> \n",
    "If f and g are both linear, then $s^\\triangle(f,g)=0$\n",
    "<br/><i>Related name: </i> Constant and linear components\n",
    "\n",
    "[Proof 3_1_21](#3_1_21)<br/>\n",
    "<i>Proposition:</i> \n",
    "\n",
    "If $n\\ge 2$, then $s^\\triangle(t,t^n)=\\frac12(t_1-t_2)(t_2-t_3)(t_3-t_1)\\sum_{\\substack{i,j,k=0\\\\ i+j+k=n-2}}^{n-2} t_1^it_2^jt_3^k.$\n",
    "\n",
    "<br/><i>Related name: </i> Signed area of an oriented triangle on monomial\n",
    "\n",
    "\n",
    "[Proof 3_1_22_i](#3_1_22_i)<br/>\n",
    "<i>Proposition:</i> \n",
    "\n",
    " establish the formula for $s(\\widetilde{A_1A_2A_3})$ in the case of the standard parabola [t,t^2] given in P3.1.1,\n",
    "\n",
    "<br/><i>Related name: </i> Signed area of an oriented triangle on monomial\n",
    "\n",
    "\n",
    "[Proof 3_1_22_ii](#3_1_22_ii)<br/>\n",
    "<i>Proposition:</i> \n",
    "\n",
    " establish the formula for $s(\\widetilde{A_1A_2A_3})$ in the case of the standard cubic [t,t^3] given in P3.1.7.\n",
    "\n",
    "<br/><i>Related name: </i> Signed area of an oriented triangle on monomial\n",
    "\n",
    "\n",
    "[Proof 3_1_23](#3_1_23)<br/>\n",
    "<i>Proposition:</i> \n",
    "\n",
    "Using the results of P3.1.19, P3.1.20 and P3.1.22, find $s^\\triangle(t,p)$, where $p(t)=t^3+3t^2-2t-1$\n",
    "\n",
    "<br/><i>Related name: </i> Signed area of an oriented triangle on a general cubic\n",
    "\n",
    "\n",
    "[Proof 3_1_24](#3_1_24)<br/>\n",
    "<i>Proposition:</i> \n",
    "\n",
    "if $p(t)=\\sum_{r=0}^m a_r t^r$ then \n",
    "$$  s^\\triangle(t,p)=\\frac12(t_1-t_2)(t_2-t_3)(t_3-t_1)\\sum_{r=2}^ma_r\\sum_{\\substack{i,j,k=0\\\\ i+j+k=r-2}}^{r-2} t_1^it_2^jt_3^k. $$\n",
    "\n",
    "<br/><i>Related name: </i> Signed area of an oriented triangle on a general polynomial\n",
    "\n",
    "<hr/>\n"
   ]
  },
  {
   "cell_type": "markdown",
   "metadata": {},
   "source": [
    "### 3_1_2 <a class=\"anchor\" id=\"3_1_2\"></a>\n",
    "<i>Proposition:</i> The product $xy$ of two integers x and y, whose sum $x+y=k$ is fixed, is maximumised when $x=y=\\frac{k}{2}$, and the maximum value is $xy=\\frac{k^2}{4}$\n",
    "<br/><i>Related name: </i> Maximum of product given a fixed sum\n",
    "\n"
   ]
  },
  {
   "cell_type": "markdown",
   "metadata": {},
   "source": [
    "1. Let x, y and k be integers\n",
    "2. Note that $(x-y)^2+4xy=(x+y)^2$\n",
    "3. Let $k = (x + y)^2$\n",
    "4. Rewrite the above equation (using subsitution): $4xy=k^2-(x-y)^2$\n",
    "5. Note that k is at its maximum value when $x=y$ (Ref. 1)\n",
    "6. Suppose $x = y$\n",
    "7. Rewrite the above equation: \n"
   ]
  },
  {
   "cell_type": "code",
   "execution_count": 25,
   "metadata": {},
   "outputs": [],
   "source": [
    "# Let x and y be integers\n",
    "x, y, k = sp.symbols('x, y, k')"
   ]
  },
  {
   "cell_type": "code",
   "execution_count": 39,
   "metadata": {},
   "outputs": [
    {
     "data": {
      "text/latex": [
       "$\\displaystyle 4 x y + \\left(x - y\\right)^{2} = \\left(x + y\\right)^{2}$"
      ],
      "text/plain": [
       "Eq(4*x*y + (x - y)**2, (x + y)**2)"
      ]
     },
     "execution_count": 39,
     "metadata": {},
     "output_type": "execute_result"
    }
   ],
   "source": [
    "#Let e be an equation \n",
    "r = sp.Eq(((x - y)^2 + 4 * x * y), (x + y)^2)\n",
    "r"
   ]
  },
  {
   "cell_type": "code",
   "execution_count": 44,
   "metadata": {},
   "outputs": [
    {
     "data": {
      "text/latex": [
       "$\\displaystyle 4 x y + \\left(x - y\\right)^{2} = k^{2}$"
      ],
      "text/plain": [
       "Eq(4*x*y + (x - y)**2, k**2)"
      ]
     },
     "execution_count": 44,
     "metadata": {},
     "output_type": "execute_result"
    }
   ],
   "source": [
    "# Rewrite (using subsitution)\n",
    "s = r.subs((x + y)^2, k^2)\n",
    "s"
   ]
  },
  {
   "cell_type": "code",
   "execution_count": null,
   "metadata": {},
   "outputs": [],
   "source": []
  },
  {
   "cell_type": "code",
   "execution_count": 34,
   "metadata": {},
   "outputs": [
    {
     "ename": "TypeError",
     "evalue": "object of type 'Equality' has no len()",
     "output_type": "error",
     "traceback": [
      "\u001b[0;31m---------------------------------------------------------------------------\u001b[0m",
      "\u001b[0;31mTypeError\u001b[0m                                 Traceback (most recent call last)",
      "\u001b[0;32m<ipython-input-34-46a82a72e1ca>\u001b[0m in \u001b[0;36m<module>\u001b[0;34m()\u001b[0m\n\u001b[0;32m----> 1\u001b[0;31m \u001b[0msp\u001b[0m\u001b[0;34m.\u001b[0m\u001b[0msolve_poly_system\u001b[0m\u001b[0;34m(\u001b[0m\u001b[0me\u001b[0m\u001b[0;34m,\u001b[0m \u001b[0mx\u001b[0m\u001b[0;34m)\u001b[0m\u001b[0;34m\u001b[0m\u001b[0;34m\u001b[0m\u001b[0m\n\u001b[0m",
      "\u001b[0;32m/home/sage/sage/local/lib/python3.7/site-packages/sympy/solvers/polysys.py\u001b[0m in \u001b[0;36msolve_poly_system\u001b[0;34m(seq, *gens, **args)\u001b[0m\n\u001b[1;32m     32\u001b[0m     \"\"\"\n\u001b[1;32m     33\u001b[0m     \u001b[0;32mtry\u001b[0m\u001b[0;34m:\u001b[0m\u001b[0;34m\u001b[0m\u001b[0;34m\u001b[0m\u001b[0m\n\u001b[0;32m---> 34\u001b[0;31m         \u001b[0mpolys\u001b[0m\u001b[0;34m,\u001b[0m \u001b[0mopt\u001b[0m \u001b[0;34m=\u001b[0m \u001b[0mparallel_poly_from_expr\u001b[0m\u001b[0;34m(\u001b[0m\u001b[0mseq\u001b[0m\u001b[0;34m,\u001b[0m \u001b[0;34m*\u001b[0m\u001b[0mgens\u001b[0m\u001b[0;34m,\u001b[0m \u001b[0;34m**\u001b[0m\u001b[0margs\u001b[0m\u001b[0;34m)\u001b[0m\u001b[0;34m\u001b[0m\u001b[0;34m\u001b[0m\u001b[0m\n\u001b[0m\u001b[1;32m     35\u001b[0m     \u001b[0;32mexcept\u001b[0m \u001b[0mPolificationFailed\u001b[0m \u001b[0;32mas\u001b[0m \u001b[0mexc\u001b[0m\u001b[0;34m:\u001b[0m\u001b[0;34m\u001b[0m\u001b[0;34m\u001b[0m\u001b[0m\n\u001b[1;32m     36\u001b[0m         \u001b[0;32mraise\u001b[0m \u001b[0mComputationFailed\u001b[0m\u001b[0;34m(\u001b[0m\u001b[0;34m'solve_poly_system'\u001b[0m\u001b[0;34m,\u001b[0m \u001b[0mlen\u001b[0m\u001b[0;34m(\u001b[0m\u001b[0mseq\u001b[0m\u001b[0;34m)\u001b[0m\u001b[0;34m,\u001b[0m \u001b[0mexc\u001b[0m\u001b[0;34m)\u001b[0m\u001b[0;34m\u001b[0m\u001b[0;34m\u001b[0m\u001b[0m\n",
      "\u001b[0;32m/home/sage/sage/local/lib/python3.7/site-packages/sympy/polys/polytools.py\u001b[0m in \u001b[0;36mparallel_poly_from_expr\u001b[0;34m(exprs, *gens, **args)\u001b[0m\n\u001b[1;32m   4307\u001b[0m     \u001b[0;34m\"\"\"Construct polynomials from expressions. \"\"\"\u001b[0m\u001b[0;34m\u001b[0m\u001b[0;34m\u001b[0m\u001b[0m\n\u001b[1;32m   4308\u001b[0m     \u001b[0mopt\u001b[0m \u001b[0;34m=\u001b[0m \u001b[0moptions\u001b[0m\u001b[0;34m.\u001b[0m\u001b[0mbuild_options\u001b[0m\u001b[0;34m(\u001b[0m\u001b[0mgens\u001b[0m\u001b[0;34m,\u001b[0m \u001b[0margs\u001b[0m\u001b[0;34m)\u001b[0m\u001b[0;34m\u001b[0m\u001b[0;34m\u001b[0m\u001b[0m\n\u001b[0;32m-> 4309\u001b[0;31m     \u001b[0;32mreturn\u001b[0m \u001b[0m_parallel_poly_from_expr\u001b[0m\u001b[0;34m(\u001b[0m\u001b[0mexprs\u001b[0m\u001b[0;34m,\u001b[0m \u001b[0mopt\u001b[0m\u001b[0;34m)\u001b[0m\u001b[0;34m\u001b[0m\u001b[0;34m\u001b[0m\u001b[0m\n\u001b[0m\u001b[1;32m   4310\u001b[0m \u001b[0;34m\u001b[0m\u001b[0m\n\u001b[1;32m   4311\u001b[0m \u001b[0;34m\u001b[0m\u001b[0m\n",
      "\u001b[0;32m/home/sage/sage/local/lib/python3.7/site-packages/sympy/polys/polytools.py\u001b[0m in \u001b[0;36m_parallel_poly_from_expr\u001b[0;34m(exprs, opt)\u001b[0m\n\u001b[1;32m   4314\u001b[0m     \u001b[0;32mfrom\u001b[0m \u001b[0msympy\u001b[0m\u001b[0;34m.\u001b[0m\u001b[0mfunctions\u001b[0m\u001b[0;34m.\u001b[0m\u001b[0melementary\u001b[0m\u001b[0;34m.\u001b[0m\u001b[0mpiecewise\u001b[0m \u001b[0;32mimport\u001b[0m \u001b[0mPiecewise\u001b[0m\u001b[0;34m\u001b[0m\u001b[0;34m\u001b[0m\u001b[0m\n\u001b[1;32m   4315\u001b[0m \u001b[0;34m\u001b[0m\u001b[0m\n\u001b[0;32m-> 4316\u001b[0;31m     \u001b[0;32mif\u001b[0m \u001b[0mlen\u001b[0m\u001b[0;34m(\u001b[0m\u001b[0mexprs\u001b[0m\u001b[0;34m)\u001b[0m \u001b[0;34m==\u001b[0m \u001b[0;36m2\u001b[0m\u001b[0;34m:\u001b[0m\u001b[0;34m\u001b[0m\u001b[0;34m\u001b[0m\u001b[0m\n\u001b[0m\u001b[1;32m   4317\u001b[0m         \u001b[0mf\u001b[0m\u001b[0;34m,\u001b[0m \u001b[0mg\u001b[0m \u001b[0;34m=\u001b[0m \u001b[0mexprs\u001b[0m\u001b[0;34m\u001b[0m\u001b[0;34m\u001b[0m\u001b[0m\n\u001b[1;32m   4318\u001b[0m \u001b[0;34m\u001b[0m\u001b[0m\n",
      "\u001b[0;31mTypeError\u001b[0m: object of type 'Equality' has no len()"
     ]
    }
   ],
   "source": []
  },
  {
   "cell_type": "code",
   "execution_count": null,
   "metadata": {},
   "outputs": [],
   "source": []
  }
 ],
 "metadata": {
  "kernelspec": {
   "display_name": "SageMath 9.0",
   "language": "sage",
   "name": "sagemath"
  },
  "language_info": {
   "codemirror_mode": {
    "name": "ipython",
    "version": 3
   },
   "file_extension": ".py",
   "mimetype": "text/x-python",
   "name": "python",
   "nbconvert_exporter": "python",
   "pygments_lexer": "ipython3",
   "version": "3.7.3"
  }
 },
 "nbformat": 4,
 "nbformat_minor": 4
}
