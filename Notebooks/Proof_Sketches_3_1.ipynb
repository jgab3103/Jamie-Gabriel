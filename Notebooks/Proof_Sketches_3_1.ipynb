{
 "cells": [
  {
   "cell_type": "markdown",
   "metadata": {},
   "source": [
    "STATUS: Draft"
   ]
  },
  {
   "cell_type": "code",
   "execution_count": 1,
   "metadata": {},
   "outputs": [],
   "source": [
    "import sympy as sp\n",
    "import numpy as np\n",
    "import shared_functions as sf"
   ]
  },
  {
   "cell_type": "markdown",
   "metadata": {},
   "source": [
    "<h3>Formula and theorem summary</h3>\n",
    "In this section, we move from general ideas of signed area to specific situations, which can create formulas from. \n",
    "\n",
    "<h3>References</h3>\n"
   ]
  },
  {
   "cell_type": "markdown",
   "metadata": {},
   "source": [
    "[Proof 3_1_2](#3_1_2)<br/>\n",
    "<i>Proposition:</i> The product $xy$ of two integers x and y, whose sum $x+y=k$ is fixed, is maximumised when $x=y=\\frac{k}{2}$, and the maximum value is $xy=\\frac{k^2}{4}$\n",
    "<br/><i>Related name: </i> Maximum of product given a fixed sum\n",
    "\n",
    "\n",
    "[Proof 3_1_4](#3_1_4)<br/>\n",
    "<i>Proposition:</i>  Supposse that $A_1=[t_1,t_1^2], A_3=[t_3,t_3^2]$ are fixed points on the parabola $y=x^2$ with $t_1 < t_3$, and that $A_2=[t_2,t_2^2]$ is a variable third point. The signed area $s(\\widetilde{A_1A_2A_3})=\\frac{(t_1-t_2)(t_2-t_3)(t_3-t_1)}{2}$ is maximumised when $t_2=\\frac {t_1+t_3}{2}$ and this maximum value is $\\frac {(t_3-t_1)^3}{8}.$\n",
    "<br/><i>Related name: </i> Maximum of triangular signed area on a parabola\n",
    "\n",
    "\n",
    "[Proof 3_1_5](#3_1_5)<br/>\n",
    "<i>Proposition:</i>  \n",
    "If $A_i=p(t_i)=[t_i,t_i^2]$ are points on the parabola $y=x^2$ where i=1,2,3,4 it is the case that\n",
    "$$s(\\widetilde{A_1A_2A_3A_4})=\\frac{(t_4-t_2)(t_3-t_1)(t_4-t_1+t_2-t_3)}{2}. $$\n",
    "\n",
    "<br/><i>Related name: </i> Quadrilateral on the parabola\n",
    "\n",
    "\n",
    "[Proof 3_1_7](#3_1_7)<br/>\n",
    "<i>Proposition:</i>  Given a parametrization $p(t)=[t,t^3]$ of the cubic curve $y=x^3$, the signed area of the oriented triangle $\\widetilde{A_1A_2A_3}$ where $A_i=p(t_i)$ for i=1,2,3 is\n",
    "\n",
    "$$ s(\\widetilde{A_1A_2A_3})=\\frac{(t_1-t_2)(t_2-t_3)(t_3-t_1)(t_1+t_2+t_3)}{2}. $$\n",
    "\n",
    "<br/><i>Related name: </i> Signed area of an oriented triangle on the standard cubic \n",
    "\n",
    "\n",
    "\n",
    "[Proof 3_1_9_i](#3_1_9_i)<br/>\n",
    "<i>Proposition:</i>  \n",
    "\n",
    "The signed area, $s(\\widetilde{A_1A_2A_3})$, where $A_i=q(t_i)$ and  $i=1,2,3$ are points on the curve $y=x^3+\\ell$ with parametrization $q(t)=[t,t^3+\\ell]$ is: \n",
    "\n",
    "$$ \\frac{(t_1-t_2)(t_2-t_3)(t_3-t_1)(t_1+t_2+t_3)}{2}. $$\n",
    "\n",
    "<br/><i>Related name: </i> Translates of the standard cubic \n",
    "\n",
    "\n",
    "[Proof 3_1_9_ii](#3_1_9_ii)<br/>\n",
    "<i>Proposition:</i>  \n",
    "\n",
    "The signed area, $s(\\widetilde{A_1A_2A_3})$, where $A_i=q(t_i)$ and $i=1,2,3$ are points on the curve  $y=(x+k)^3$ with the parametrization $p(t)=[t,(t+k)^3]$ is: \n",
    "$$ =\\frac{(t_1-t_2)(t_2-t_3)(t_3-t_1)(t_1+t_2+t_3+3k)}{2}. $$\n",
    "\n",
    "<br/><i>Related name: </i> Translates of the standard cubic \n",
    "\n",
    "\n",
    "[Proof 3_1_10](#3_1_10)<br/>\n",
    "<i>Proposition:</i>  \n",
    "\n",
    "The signed area of an oriented triangle on the standard cubic $y=x^3$, where the points used in the triangle constuction are $A_1=[t_1,t_1^3]$,  $A_2=[t_2,t_2^3]$ and $A_3=[t_3,t_3^3]$ are collinear when $t_1+t_2+t_3=0$\n",
    "<br/><i>Related name: </i> Collinear points on the standard cubic\n",
    "\n",
    "\n",
    "[Proof 3_1_11_i](#3_1_11)<br/>\n",
    "<i>Proposition:</i>  The Pod Product is commutative, meaning that for any points A,B on the cubic curve, $A*B=B*A$\n",
    "<br/><i>Related name: </i> The Pod structure on the standard cubic\n",
    "\n",
    "[Proof 3_1_11_ii](#3_1_11_ii)<br/>\n",
    "<i>Proposition:</i> The Pod Product is symmetric, meaning that for any points A,B,C on the cubic curve, if $A∗B=C$ then it is the case that $B*C=A \\quad \\textrm{and} \\quad A*C=B$\n",
    "\n",
    "\n",
    "[Proof 3_1_11_iii](#3_1_11_iii)<br/>\n",
    "<i>Proposition:</i> The pod product is 4-associative, meaning that for any points A,B,C and D on the cubic curve, $$ (A*B)*(C*D)=(A*C)*(B*D)=(A*D)*(B*C).$$\n",
    "<br/><i>Related name: </i> The Pod structure on the standard cubic\n",
    "\n",
    "\n",
    "[Proof 3_1_12](#3_1_12)<br/>\n",
    "<i>Proposition:</i> Given the paramatrisation\n",
    "$$ e(t)=\\left[\\frac{1-t^2}{1+t^2}, \\frac{2t}{1+t^2}\\right].$$ of the unit circle $x^2+y^2=1$, the signed area of the oriented triangle $\\widetilde{A_1A_2A_3}$ where $ A_i=e(t_i)$ for $i=1,2,3$ is\n",
    "\n",
    "$$   s(\\widetilde{A_1A_2A_3})=\\frac{2(t_1-t_2)(t_2-t_3)(t_3-t_1)}{(t_1^2+1)(t_2^2+1)(t_3^2+1)}.  $$\n",
    "\n",
    "<br/><i>Related name: </i> Signed area of a triangle on the unit circle\n",
    "\n",
    "\n",
    "[Proof 3_1_13](#3_1_13)<br/>\n",
    "<i>Proposition:</i> Consider the circle $c: x^2+y^2=r^2$, where r is any number, Modifying the previous problem, show that if $Ai=re(t_i)$ for $i=1,2,3$ are arbitrary points on the circle c then\n",
    "\n",
    "$$  s_r=s(\\widetilde{A_1A_2A_3})=2r^2\\frac{(t_1-t_2)(t_2-t_3)(t_3-t_1)}{(t_1^2+1)(t_2^2+1)(t_3^2+1)}.  $$\n",
    "<br/><i>Related name: </i> Signed area on a scaled circle\n",
    "\n",
    "\n",
    "[Proof 3_1_14](#3_1_14)<br/>\n",
    "<i>Proposition:</i> \n",
    "Using the parametrization $p(t)=[t,\\frac1{t}]$  of the curve $y=\\frac1{x}$, show that the signed area of the oriented triangle $\\widetilde{A_1A_2A_3}$ where $A_i=p(t_i)$ for i=1,2,3, is\n",
    "$$ s(\\widetilde{A_1A_2A_3})=\\frac{(t_1-t_2)(t_2-t_3)(t_3-t_1)}{2t_1t_2t_3}.$$\n",
    "\n",
    "<br/><i>Related name: </i> Signed area of an oriented triangle on the inversive hyperbola\n",
    "\n",
    "\n",
    "[Proof 3_1_15](#3_1_15)<br/>\n",
    "<i>Proposition:</i> \n",
    "Using the parametrizatio \n",
    "\n",
    "$$ f(t)=\\left[\\frac{1+t^2}{1-t^2}, \\frac{2t}{1-t^2}\\right].$$ of the hyperbola $x^2-y^2=1$, show that the signed area of the oriented triangle $\\widetilde{A_1A_2A_3}$ where\n",
    "$A_i=f(t_i)$ for $i=1,2,3$ is\n",
    "$$ s(\\widetilde{A_1A_2A_3})=\\frac{2(t_1-t_2)(t_2-t_3)(t_3-t_1)}{(t_1^2-1)(t_2^2-1)(t_3^2-1)}. $$\n",
    "<br/><i>Related name: </i> Signed area of a triangle on the relativistic hyperbola\n",
    "\n",
    "\n",
    "\n",
    "[Proof 3_1_16](#3_1_16)<br/>\n",
    "<i>Proposition:</i> \n",
    "\n",
    "The Folium of Descartes is a famous cubic curve with equation $x^3+y^3-3xy=0$. It has a parametrization $$ g(t)=\\left[\\frac{3t}{t^3+1},\\frac{3t^2}{t^3+1}\\right].$$. Check that the parametrization is correct, in the sense that every point of the form g(t) actually lies on the curve, Show that if A=g(t) and B=g(u) then $$s(\\widetilde{AB})=\\frac{9tu(u-t)}{2(t^3+1)(u^3+1)}.$$ and if $A_i=g(t_i)$ for $i=1,2,3$ then $$ s(\\widetilde{A_1A_2A_3})=\\frac{9(t_1-t_2)(t_2-t_3)(t_3-t_1)(t_1t_2t_3+1)}{2(t_1^3+1)(t_2^3+1)(t_3^3+1)}.$$\n",
    "\n",
    "\n",
    "<br/><i>Related name: </i> Signed area of a triangle on the Folium of Descartes\n",
    "\n",
    "\n",
    "[Proof 3_1_18](#3_1_18)<br/>\n",
    "<i>Proposition:</i> \n",
    "Use the formula for the signed area of an oriented triangle on the Folium derived in P3.1.16 to describe the pod structure on the Folium in terms of the parametrization g(t). \n",
    "Verify that the pod structure is commutative.\n",
    "Verify that the pod product is 4-associative.\n",
    "<br/><i>Related name: </i> The pod structure on the Folium of Descartes\n",
    "\n",
    "\n",
    "[Proof 3_1_19](#3_1_19)<br/>\n",
    "<i>Proposition:</i> \n",
    "It is true that $s^{\\triangle}(t,f+g)=s^{\\triangle}(t,f)+s^{\\triangle}(t,g)$ and $s^\\triangle(t,af)=as^\\triangle(t,f)$\n",
    "<br/><i>Related name: </i> Linearity of signed area\n",
    "\n",
    "[Proof 3_1_20_i](#3_1_20_i)<br/>\n",
    "<i>Proposition:</i> \n",
    "If one of f or g is a constant, then $s^\\triangle({f,g})=0$\n",
    "<br/><i>Related name: </i> Constant and linear components\n",
    "\n",
    "[Proof 3_1_20_ii](#3_1_20_ii)<br/>\n",
    "<i>Proposition:</i> \n",
    "If f and g are both linear, then $s^\\triangle(f,g)=0$\n",
    "<br/><i>Related name: </i> Constant and linear components\n",
    "\n",
    "[Proof 3_1_21](#3_1_21)<br/>\n",
    "<i>Proposition:</i> \n",
    "\n",
    "If $n\\ge 2$, then $s^\\triangle(t,t^n)=\\frac12(t_1-t_2)(t_2-t_3)(t_3-t_1)\\sum_{\\substack{i,j,k=0\\\\ i+j+k=n-2}}^{n-2} t_1^it_2^jt_3^k.$\n",
    "\n",
    "<br/><i>Related name: </i> Signed area of an oriented triangle on monomial\n",
    "\n",
    "\n",
    "[Proof 3_1_22_i](#3_1_22_i)<br/>\n",
    "<i>Proposition:</i> \n",
    "\n",
    " establish the formula for $s(\\widetilde{A_1A_2A_3})$ in the case of the standard parabola [t,t^2] given in P3.1.1,\n",
    "\n",
    "<br/><i>Related name: </i> Signed area of an oriented triangle on monomial\n",
    "\n",
    "\n",
    "[Proof 3_1_22_ii](#3_1_22_ii)<br/>\n",
    "<i>Proposition:</i> \n",
    "\n",
    " establish the formula for $s(\\widetilde{A_1A_2A_3})$ in the case of the standard cubic [t,t^3] given in P3.1.7.\n",
    "\n",
    "<br/><i>Related name: </i> Signed area of an oriented triangle on monomial\n",
    "\n",
    "\n",
    "[Proof 3_1_23](#3_1_23)<br/>\n",
    "<i>Proposition:</i> \n",
    "\n",
    "Using the results of P3.1.19, P3.1.20 and P3.1.22, find $s^\\triangle(t,p)$, where $p(t)=t^3+3t^2-2t-1$\n",
    "\n",
    "<br/><i>Related name: </i> Signed area of an oriented triangle on a general cubic\n",
    "\n",
    "\n",
    "[Proof 3_1_24](#3_1_24)<br/>\n",
    "<i>Proposition:</i> \n",
    "\n",
    "if $p(t)=\\sum_{r=0}^m a_r t^r$ then \n",
    "$$  s^\\triangle(t,p)=\\frac12(t_1-t_2)(t_2-t_3)(t_3-t_1)\\sum_{r=2}^ma_r\\sum_{\\substack{i,j,k=0\\\\ i+j+k=r-2}}^{r-2} t_1^it_2^jt_3^k. $$\n",
    "\n",
    "<br/><i>Related name: </i> Signed area of an oriented triangle on a general polynomial\n",
    "\n",
    "<hr/>\n"
   ]
  },
  {
   "cell_type": "markdown",
   "metadata": {},
   "source": [
    "### 3_1_2 <a class=\"anchor\" id=\"3_1_2\"></a>\n",
    "<i>Proposition:</i> The product $xy$ of two integers x and y, whose sum $x+y=k$ is fixed, is maximumised when $x=y=\\frac{k}{2}$, and the maximum value is $xy=\\frac{k^2}{4}$\n",
    "<br/><i>Related name: </i> Maximum of product given a fixed sum\n",
    "\n"
   ]
  },
  {
   "cell_type": "markdown",
   "metadata": {},
   "source": [
    "1. Let x, y and k be integers\n",
    "2. Note that $(x-y)^2+4xy=(x+y)^2$\n",
    "3. Let $k = (x + y)^2$\n",
    "4. Rewrite (3) (using subsitution): $4xy=k^2-(x-y)^2$\n",
    "5. Note that k must be at its maximum value when $x=y$ as k - 0 is less than k - any positive number\n",
    "6. Suppose $x = y$\n",
    "7. Rewrite (4) (using subsitution): $4xy=k^2$\n",
    "8. Rewrite (7): $xy = \\frac{k^2}{4}$\n",
    "9. Conclusion: proposition is true\n",
    "\n",
    "\n",
    "<hr/>\n",
    "\n"
   ]
  },
  {
   "cell_type": "markdown",
   "metadata": {},
   "source": [
    "### 3_1_4 <a class=\"anchor\" id=\"3_1_4\"></a>\n",
    "<i>Proposition:</i>  Suppose that $A_1=[a,a^2]$ and $A_3=[c,c^2]$ are fixed points on the parabola $y=x^2$ with $a < c$, and that $A_2=[b,b^2]$ is a variable third point. <br/>The signed area $s(\\widetilde{A_1A_2A_3})=\\frac{(a-b)(b-c)(c-a)}{2}$ is maximised when $t_2=\\frac {a+c}{2}$ and this maximum value is $\\frac {(c-a)^3}{8}.$\n",
    "<br/><i>Related name: </i> Maximum of triangular signed area on a parabola\n"
   ]
  },
  {
   "cell_type": "markdown",
   "metadata": {},
   "source": [
    "1. Let a, b and c are integers"
   ]
  },
  {
   "cell_type": "code",
   "execution_count": 2,
   "metadata": {},
   "outputs": [],
   "source": [
    "a, b, c, s_1, sABC = sp.symbols('a, b, c, s_1, sABC')"
   ]
  },
  {
   "cell_type": "markdown",
   "metadata": {},
   "source": [
    "2. Let A, B and C be points constructed from integers a, b and c"
   ]
  },
  {
   "cell_type": "code",
   "execution_count": 3,
   "metadata": {},
   "outputs": [],
   "source": [
    "A = np.array([a, a^2])\n",
    "B = np.array([b, b^2])\n",
    "C = np.array([c, c^2])"
   ]
  },
  {
   "cell_type": "markdown",
   "metadata": {},
   "source": [
    "3. Let AB and AC be vectors constructed from points A, B and C"
   ]
  },
  {
   "cell_type": "code",
   "execution_count": 4,
   "metadata": {},
   "outputs": [],
   "source": [
    "AB = sf.compute_vector_from_2_points([A, B])\n",
    "AC = sf.compute_vector_from_2_points([A, C])"
   ]
  },
  {
   "cell_type": "markdown",
   "metadata": {},
   "source": [
    "4. Let ABC be a triangle constructed from points A, B and C\n",
    "5. Let sABC be the signed area of ABC"
   ]
  },
  {
   "cell_type": "code",
   "execution_count": 5,
   "metadata": {},
   "outputs": [
    {
     "data": {
      "text/latex": [
       "$\\displaystyle sABC = - \\frac{\\left(a - b\\right) \\left(a - c\\right) \\left(b - c\\right)}{2}$"
      ],
      "text/plain": [
       "Eq(sABC, -(a - b)*(a - c)*(b - c)/2)"
      ]
     },
     "execution_count": 5,
     "metadata": {},
     "output_type": "execute_result"
    }
   ],
   "source": [
    "L1 = sp.Eq(sABC, sf.compute_signed_area_of_triangle_from_two_vectors([AB, AC]))\n",
    "L1.expand().factor()"
   ]
  },
  {
   "cell_type": "markdown",
   "metadata": {},
   "source": [
    "6. Note that sABC is equivalent to $(\\frac{c-a}{2}) (b - a)(c - b)$  (Ref. 1)\n",
    "7. Note that $(b - a) + (c - b) = c - a$\n",
    "8. Recall (using 10, 11) that that b is maximised when $ b = \\frac{a + c}{2}$ (Ref. 2)\n",
    "9. Rewrite 8 (using substitution): "
   ]
  },
  {
   "cell_type": "code",
   "execution_count": 6,
   "metadata": {},
   "outputs": [
    {
     "data": {
      "text/latex": [
       "$\\displaystyle sABC = - \\frac{\\left(- a + c\\right) \\left(- a^{2} + \\left(\\frac{a}{2} + \\frac{c}{2}\\right)^{2}\\right)}{2} + \\frac{\\left(- \\frac{a}{2} + \\frac{c}{2}\\right) \\left(- a^{2} + c^{2}\\right)}{2}$"
      ],
      "text/plain": [
       "Eq(sABC, -(-a + c)*(-a**2 + (a/2 + c/2)**2)/2 + (-a/2 + c/2)*(-a**2 + c**2)/2)"
      ]
     },
     "execution_count": 6,
     "metadata": {},
     "output_type": "execute_result"
    }
   ],
   "source": [
    "L1 = L1.subs(b, (a+c)/2)\n",
    "L1"
   ]
  },
  {
   "cell_type": "markdown",
   "metadata": {},
   "source": [
    "10. Rewrite (14) (using expansion and factoring):"
   ]
  },
  {
   "cell_type": "code",
   "execution_count": 7,
   "metadata": {},
   "outputs": [
    {
     "data": {
      "text/latex": [
       "$\\displaystyle sABC = - \\frac{\\left(a - c\\right)^{3}}{8}$"
      ],
      "text/plain": [
       "Eq(sABC, -(a - c)**3/8)"
      ]
     },
     "execution_count": 7,
     "metadata": {},
     "output_type": "execute_result"
    }
   ],
   "source": [
    "L1.expand().factor()"
   ]
  },
  {
   "cell_type": "markdown",
   "metadata": {},
   "source": [
    "<br/><i>Ref. 1:</i> Multiply two terms by -1 will not change the outcome, and will change (a - c) to (b - c)\n",
    "<br/><i>Ref. 2:</i> Using previous proof, but don't really get this....\n",
    "\n",
    "<hr/>"
   ]
  },
  {
   "cell_type": "markdown",
   "metadata": {},
   "source": [
    "### 3_1_5 <a class=\"anchor\" id=\"3_1_5\"></a>\n",
    "<i>Proposition:</i>  \n",
    "If $A = [a, a^2], B = [b, b^2], C = [c, c^2]$ and $D = [d, d^2]$ are points construced from integers a, b, c and d and satisfy  parabola $y=x^2$, then it is the case that:\n",
    "$$s(\\widetilde{ABCD})=\\frac{(d-b)(c-a)(d-a+b-c)}{2}. $$\n",
    "<br/><i>Related name: </i> Quadrilateral on the parabola\n"
   ]
  },
  {
   "cell_type": "markdown",
   "metadata": {},
   "source": [
    "1. Let a, b, c and d be integers"
   ]
  },
  {
   "cell_type": "code",
   "execution_count": 8,
   "metadata": {},
   "outputs": [],
   "source": [
    "a, b, c, d = sp.symbols('a b c d')"
   ]
  },
  {
   "cell_type": "markdown",
   "metadata": {},
   "source": [
    "2. Let A, B, C, D and O be points constructed from integers a, b, c, d and 0"
   ]
  },
  {
   "cell_type": "code",
   "execution_count": 9,
   "metadata": {},
   "outputs": [],
   "source": [
    "A = np.array([a, a^2])\n",
    "B = np.array([b, b^2])\n",
    "C = np.array([c, c^2])\n",
    "D = np.array([d, d^2])\n",
    "O = np.array([0, 0])"
   ]
  },
  {
   "cell_type": "markdown",
   "metadata": {},
   "source": [
    "3. Let ABCD be a quadrilateral constructed from points A, B, C and D"
   ]
  },
  {
   "cell_type": "markdown",
   "metadata": {},
   "source": [
    "4. Let OA, OB, OC and OD be vectors constructed from points A, B, C, D and O"
   ]
  },
  {
   "cell_type": "code",
   "execution_count": 10,
   "metadata": {},
   "outputs": [],
   "source": [
    "OA = sf.compute_vector_from_2_points([O,A])\n",
    "OB = sf.compute_vector_from_2_points([O, B])\n",
    "OC = sf.compute_vector_from_2_points([O, C])\n",
    "OD = sf.compute_vector_from_2_points([O, D])"
   ]
  },
  {
   "cell_type": "markdown",
   "metadata": {},
   "source": [
    "5. Let sAB, SBC, sCD and sDA be signed areas constructed from vectors OA, OB, OC and OD"
   ]
  },
  {
   "cell_type": "code",
   "execution_count": 11,
   "metadata": {},
   "outputs": [],
   "source": [
    "sAB = sf.compute_signed_area_of_triangle_from_two_vectors([OA, OB])\n",
    "sBC = sf.compute_signed_area_of_triangle_from_two_vectors([OB, OC])\n",
    "sCD = sf.compute_signed_area_of_triangle_from_two_vectors([OC, OD])\n",
    "sDA = sf.compute_signed_area_of_triangle_from_two_vectors([OD, OA])"
   ]
  },
  {
   "cell_type": "markdown",
   "metadata": {},
   "source": [
    "6. Let sABCD be the signed area of the quadrilateral ABCD. Note that the signed area of ABCD is equivalent to sAB + sBC + sCD + sDA (Ref. 1):"
   ]
  },
  {
   "cell_type": "code",
   "execution_count": 12,
   "metadata": {},
   "outputs": [
    {
     "data": {
      "text/latex": [
       "$\\displaystyle - \\frac{a^{2} b}{2} + \\frac{a^{2} d}{2} + \\frac{a b^{2}}{2} - \\frac{a d^{2}}{2} - \\frac{b^{2} c}{2} + \\frac{b c^{2}}{2} - \\frac{c^{2} d}{2} + \\frac{c d^{2}}{2}$"
      ],
      "text/plain": [
       "-a**2*b/2 + a**2*d/2 + a*b**2/2 - a*d**2/2 - b**2*c/2 + b*c**2/2 - c**2*d/2 + c*d**2/2"
      ]
     },
     "execution_count": 12,
     "metadata": {},
     "output_type": "execute_result"
    }
   ],
   "source": [
    "sABCD = sAB + sBC + sCD + sDA\n",
    "sABCD"
   ]
  },
  {
   "cell_type": "markdown",
   "metadata": {},
   "source": [
    "Rewrite sABCD (using factorisation): "
   ]
  },
  {
   "cell_type": "code",
   "execution_count": 13,
   "metadata": {},
   "outputs": [
    {
     "data": {
      "text/latex": [
       "$\\displaystyle - \\frac{\\left(a - c\\right) \\left(b - d\\right) \\left(a - b + c - d\\right)}{2}$"
      ],
      "text/plain": [
       "-(a - c)*(b - d)*(a - b + c - d)/2"
      ]
     },
     "execution_count": 13,
     "metadata": {},
     "output_type": "execute_result"
    }
   ],
   "source": [
    "sABCD = sABCD.factor()\n",
    "sABCD"
   ]
  },
  {
   "cell_type": "markdown",
   "metadata": {},
   "source": [
    "<br/><i>Ref. 1:</i> Recall the signed area of arbitrary quadrilateral is AB + BC + etc.\n",
    "\n",
    "<hr/>"
   ]
  },
  {
   "cell_type": "markdown",
   "metadata": {},
   "source": [
    "### 3_1_7 <a class=\"anchor\" id=\"3_1_7\"></a>\n",
    "<i>Proposition:</i> If points  $ A = [a, a^3], B = [b, b^3] $ and $C= [c, c^3] $ satisfy the parametrization $p(x)=[x,x^3]$ for the cubic curve $y=x^3$, the signed area of the oriented triangle constructed from those points $\\widetilde{ABC}$ is\n",
    "\n",
    "$$ s(\\widetilde{ABC})=\\frac{(a-b)(b-c)(c-a)(a+b+c)}{2}. $$\n",
    "\n",
    "<br/><i>Related name: </i> Signed area of an oriented triangle on the standard cubic "
   ]
  },
  {
   "cell_type": "markdown",
   "metadata": {},
   "source": [
    "1. Let a, b and c be integers"
   ]
  },
  {
   "cell_type": "code",
   "execution_count": 14,
   "metadata": {},
   "outputs": [],
   "source": [
    "a, b, c = sp.symbols('a, b, c')"
   ]
  },
  {
   "cell_type": "markdown",
   "metadata": {},
   "source": [
    "2. Let A, B and C be points constructed from integers a, b, c and 0"
   ]
  },
  {
   "cell_type": "code",
   "execution_count": 15,
   "metadata": {},
   "outputs": [],
   "source": [
    "A = np.array([a, a^3])\n",
    "B = np.array([b, b^3])\n",
    "C = np.array([c, c^3])\n",
    "O = np.array([0, 0])"
   ]
  },
  {
   "cell_type": "markdown",
   "metadata": {},
   "source": [
    "3. Let ABC be an orientated triangle constructed from points A, B, C"
   ]
  },
  {
   "cell_type": "markdown",
   "metadata": {},
   "source": [
    "4. Let OA, OB and OC be vectors constructed from points O, A, B and C"
   ]
  },
  {
   "cell_type": "code",
   "execution_count": 16,
   "metadata": {},
   "outputs": [],
   "source": [
    "OA = sf.compute_vector_from_2_points([O, A])\n",
    "OB = sf.compute_vector_from_2_points([O, B])\n",
    "OC = sf.compute_vector_from_2_points([O, C])"
   ]
  },
  {
   "cell_type": "markdown",
   "metadata": {},
   "source": [
    "5. Let sAB, sBC and sCA be the signed areas constructed from vectors OA, OB and OC"
   ]
  },
  {
   "cell_type": "code",
   "execution_count": 17,
   "metadata": {},
   "outputs": [],
   "source": [
    "sAB = sf.compute_signed_area_of_triangle_from_two_vectors([OA, OB])\n",
    "sBC = sf.compute_signed_area_of_triangle_from_two_vectors([OB, OC])\n",
    "sCA = sf.compute_signed_area_of_triangle_from_two_vectors([OC, OA])"
   ]
  },
  {
   "cell_type": "markdown",
   "metadata": {},
   "source": [
    "6. Let sABC be the signed area of the orientated triangle ABC. Note that the signed area of ABC is equivalent to sAB + sBC + sCA (Ref. 1):"
   ]
  },
  {
   "cell_type": "code",
   "execution_count": 18,
   "metadata": {},
   "outputs": [
    {
     "data": {
      "text/latex": [
       "$\\displaystyle - \\frac{a^{3} b}{2} + \\frac{a^{3} c}{2} + \\frac{a b^{3}}{2} - \\frac{a c^{3}}{2} - \\frac{b^{3} c}{2} + \\frac{b c^{3}}{2}$"
      ],
      "text/plain": [
       "-a**3*b/2 + a**3*c/2 + a*b**3/2 - a*c**3/2 - b**3*c/2 + b*c**3/2"
      ]
     },
     "execution_count": 18,
     "metadata": {},
     "output_type": "execute_result"
    }
   ],
   "source": [
    "sABC = sAB + sBC + sCA\n",
    "sABC"
   ]
  },
  {
   "cell_type": "markdown",
   "metadata": {},
   "source": [
    "7. Rewrite sABC (using factorisation) (Ref. 2):"
   ]
  },
  {
   "cell_type": "code",
   "execution_count": 19,
   "metadata": {},
   "outputs": [
    {
     "data": {
      "text/latex": [
       "$\\displaystyle - \\frac{\\left(a - b\\right) \\left(a - c\\right) \\left(b - c\\right) \\left(a + b + c\\right)}{2}$"
      ],
      "text/plain": [
       "-(a - b)*(a - c)*(b - c)*(a + b + c)/2"
      ]
     },
     "execution_count": 19,
     "metadata": {},
     "output_type": "execute_result"
    }
   ],
   "source": [
    "sABC = sABC.factor()\n",
    "sABC"
   ]
  },
  {
   "cell_type": "markdown",
   "metadata": {},
   "source": [
    "<br/><i>Ref. 1:</i> Recall the signed area of arbitrary quadrilateral is AB + BC + etc.\n",
    "<br/><i>Ref. 2:</i> Note that Sympy writes this in a slightly diffrent form to  $(a-b)(b-c)(c-a)(a+b+c)$ required for the proof, however these are equivalent .\n",
    "<hr/>"
   ]
  },
  {
   "cell_type": "markdown",
   "metadata": {},
   "source": [
    "### 3_1_9_i <a class=\"anchor\" id=\"3_1_9_i\"></a>\n",
    "<i>Proposition:</i>  \n",
    "\n",
    " If points  $ A = [a, a^3 + k], B = [b, b^3 + k] $ and $C= [c, c^3 + k]$ are points on a curve that satisfies the parametrization $p(x)=[x,x^3 + k]$ for the cubic curve $y=x^3$,\n",
    "the signed are constructed from these points is: \n",
    "\n",
    "$$ \\frac{(a-b)(b-c)(c-a)(a+b+c)}{2}. $$\n",
    "\n",
    "<br/><i>Related name: </i> Translates of the standard cubic \n",
    "\n"
   ]
  },
  {
   "cell_type": "markdown",
   "metadata": {},
   "source": [
    "1. Let a, b, c and k be integers"
   ]
  },
  {
   "cell_type": "code",
   "execution_count": 20,
   "metadata": {},
   "outputs": [],
   "source": [
    "a, b, c, k = sp.symbols('a b c, k')"
   ]
  },
  {
   "cell_type": "markdown",
   "metadata": {},
   "source": [
    "2. Let A, B, C and O be points constructed from a, b, c, k, and 0"
   ]
  },
  {
   "cell_type": "code",
   "execution_count": 21,
   "metadata": {},
   "outputs": [],
   "source": [
    "A = np.array([a, a^3 + k])\n",
    "B = np.array([b, b^3 + k])\n",
    "C = np.array([c, c^3 + k])\n",
    "O = np.array([0, 0])"
   ]
  },
  {
   "cell_type": "markdown",
   "metadata": {},
   "source": [
    "3. Let ABC be an orientated triangle constructed from points A, B and C\n",
    "4. Let OA, OB and OC be vectors constructed from points A, B, C and O"
   ]
  },
  {
   "cell_type": "code",
   "execution_count": 22,
   "metadata": {},
   "outputs": [],
   "source": [
    "OA = sf.compute_vector_from_2_points([O, A])\n",
    "OB = sf.compute_vector_from_2_points([O, B])\n",
    "OC = sf.compute_vector_from_2_points([O, C])"
   ]
  },
  {
   "cell_type": "markdown",
   "metadata": {},
   "source": [
    "5. Let sAB, sBC and sCA be signed areas constructed from OA, OB and OC"
   ]
  },
  {
   "cell_type": "code",
   "execution_count": 23,
   "metadata": {},
   "outputs": [],
   "source": [
    "sAB = sf.compute_signed_area_of_triangle_from_two_vectors([OA, OB])\n",
    "sBC = sf.compute_signed_area_of_triangle_from_two_vectors([OB, OC])\n",
    "sCA = sf.compute_signed_area_of_triangle_from_two_vectors([OC, OA])"
   ]
  },
  {
   "cell_type": "markdown",
   "metadata": {},
   "source": [
    "6. Let sABC be the signed area of the orientated triangle ABC. Note that the signed area of ABC is equivalent to sAB + sBC + sCA (Ref. 1):"
   ]
  },
  {
   "cell_type": "code",
   "execution_count": 24,
   "metadata": {},
   "outputs": [
    {
     "data": {
      "text/latex": [
       "$\\displaystyle \\frac{a \\left(b^{3} + k\\right)}{2} - \\frac{a \\left(c^{3} + k\\right)}{2} - \\frac{b \\left(a^{3} + k\\right)}{2} + \\frac{b \\left(c^{3} + k\\right)}{2} + \\frac{c \\left(a^{3} + k\\right)}{2} - \\frac{c \\left(b^{3} + k\\right)}{2}$"
      ],
      "text/plain": [
       "a*(b**3 + k)/2 - a*(c**3 + k)/2 - b*(a**3 + k)/2 + b*(c**3 + k)/2 + c*(a**3 + k)/2 - c*(b**3 + k)/2"
      ]
     },
     "execution_count": 24,
     "metadata": {},
     "output_type": "execute_result"
    }
   ],
   "source": [
    "sABC = sAB + sBC + sCA\n",
    "sABC"
   ]
  },
  {
   "cell_type": "markdown",
   "metadata": {},
   "source": [
    "7. Rewrite sABC (using factorisation) (Ref. 2):"
   ]
  },
  {
   "cell_type": "code",
   "execution_count": 25,
   "metadata": {},
   "outputs": [
    {
     "data": {
      "text/latex": [
       "$\\displaystyle - \\frac{\\left(a - b\\right) \\left(a - c\\right) \\left(b - c\\right) \\left(a + b + c\\right)}{2}$"
      ],
      "text/plain": [
       "-(a - b)*(a - c)*(b - c)*(a + b + c)/2"
      ]
     },
     "execution_count": 25,
     "metadata": {},
     "output_type": "execute_result"
    }
   ],
   "source": [
    "sABC = sABC.factor()\n",
    "sABC"
   ]
  },
  {
   "cell_type": "markdown",
   "metadata": {},
   "source": [
    "<br/><i>Ref. 1:</i> Recall the signed area of arbitrary quadrilateral is AB + BC + etc.\n",
    "<br/><i>Ref. 2:</i> Note that Sympy writes this in a slightly diffrent form to  $(a-b)(b-c)(c-a)(a+b+c)$ required for the proof, however these are equivalent .\n",
    "<hr/>"
   ]
  },
  {
   "cell_type": "markdown",
   "metadata": {},
   "source": [
    "### 3_1_9_ii <a class=\"anchor\" id=\"3_1_9_ii\"></a>\n",
    "<i>Proposition:</i>  \n",
    "\n",
    "\n",
    " If points  $ A = [a, (a + k)^3], B = [b, (b + k)^3] $ and $C= [c, (c + k)^3]$ are points on a curve that satisfies the parametrization $p(x)=[x,(x + k)^3]$ for the cubic curve $y=(x + k)^3$,\n",
    "the signed are constructed from these points is: \n",
    "\n",
    "$$ \\frac{(a-b)(b-c)(c-a)(a+b+c+3k)}{2} $$\n",
    "\n",
    "<br/><i>Related name: </i> Translates of the standard cubic \n"
   ]
  },
  {
   "cell_type": "markdown",
   "metadata": {},
   "source": [
    "1. Let a, b, c and k be integers"
   ]
  },
  {
   "cell_type": "code",
   "execution_count": 26,
   "metadata": {},
   "outputs": [],
   "source": [
    "a, b, c, k = sp.symbols('a b c, k')"
   ]
  },
  {
   "cell_type": "markdown",
   "metadata": {},
   "source": [
    "2. Let A, B, C and O be points constructed from a, b, c, k, and 0"
   ]
  },
  {
   "cell_type": "code",
   "execution_count": 27,
   "metadata": {},
   "outputs": [],
   "source": [
    "A = np.array([a, (a + k)^3])\n",
    "B = np.array([b, (b + k)^3])\n",
    "C = np.array([c, (c + k)^3])\n",
    "O = np.array([0, 0])"
   ]
  },
  {
   "cell_type": "markdown",
   "metadata": {},
   "source": [
    "3. Let ABC be an orientated triangle constructed from points A, B and C\n",
    "4. Let OA, OB and OC be vectors constructed from points A, B, C and O"
   ]
  },
  {
   "cell_type": "code",
   "execution_count": 28,
   "metadata": {},
   "outputs": [],
   "source": [
    "OA = sf.compute_vector_from_2_points([O, A])\n",
    "OB = sf.compute_vector_from_2_points([O, B])\n",
    "OC = sf.compute_vector_from_2_points([O, C])"
   ]
  },
  {
   "cell_type": "markdown",
   "metadata": {},
   "source": [
    "5. Let sAB, sBC and sCA be signed areas constructed from OA, OB and OC"
   ]
  },
  {
   "cell_type": "code",
   "execution_count": 29,
   "metadata": {},
   "outputs": [],
   "source": [
    "sAB = sf.compute_signed_area_of_triangle_from_two_vectors([OA, OB])\n",
    "sBC = sf.compute_signed_area_of_triangle_from_two_vectors([OB, OC])\n",
    "sCA = sf.compute_signed_area_of_triangle_from_two_vectors([OC, OA])"
   ]
  },
  {
   "cell_type": "markdown",
   "metadata": {},
   "source": [
    "6. Let sABC be the signed area of the orientated triangle ABC. Note that the signed area of ABC is equivalent to sAB + sBC + sCA (Ref. 1):"
   ]
  },
  {
   "cell_type": "code",
   "execution_count": 30,
   "metadata": {},
   "outputs": [
    {
     "data": {
      "text/latex": [
       "$\\displaystyle \\frac{a \\left(b + k\\right)^{3}}{2} - \\frac{a \\left(c + k\\right)^{3}}{2} - \\frac{b \\left(a + k\\right)^{3}}{2} + \\frac{b \\left(c + k\\right)^{3}}{2} + \\frac{c \\left(a + k\\right)^{3}}{2} - \\frac{c \\left(b + k\\right)^{3}}{2}$"
      ],
      "text/plain": [
       "a*(b + k)**3/2 - a*(c + k)**3/2 - b*(a + k)**3/2 + b*(c + k)**3/2 + c*(a + k)**3/2 - c*(b + k)**3/2"
      ]
     },
     "execution_count": 30,
     "metadata": {},
     "output_type": "execute_result"
    }
   ],
   "source": [
    "sABC = sAB + sBC + sCA\n",
    "sABC"
   ]
  },
  {
   "cell_type": "markdown",
   "metadata": {},
   "source": [
    "7. Rewrite sABC (using factorisation) (Ref. 2):"
   ]
  },
  {
   "cell_type": "code",
   "execution_count": 31,
   "metadata": {},
   "outputs": [
    {
     "data": {
      "text/latex": [
       "$\\displaystyle - \\frac{\\left(a - b\\right) \\left(a - c\\right) \\left(b - c\\right) \\left(a + b + c + 3 k\\right)}{2}$"
      ],
      "text/plain": [
       "-(a - b)*(a - c)*(b - c)*(a + b + c + 3*k)/2"
      ]
     },
     "execution_count": 31,
     "metadata": {},
     "output_type": "execute_result"
    }
   ],
   "source": [
    "sABC = sABC.factor()\n",
    "sABC"
   ]
  },
  {
   "cell_type": "markdown",
   "metadata": {},
   "source": [
    "<br/><i>Ref. 1:</i> Recall the signed area of arbitrary quadrilateral is AB + BC + etc.\n",
    "<br/><i>Ref. 2:</i> Note that Sympy writes this in a slightly diffrent form to  $(a-b)(b-c)(c-a)(a+b+c)$ required for the proof, however these are equivalent .\n",
    "<hr/>"
   ]
  },
  {
   "cell_type": "markdown",
   "metadata": {},
   "source": [
    "### 3_1_10_i <a class=\"anchor\" id=\"3_1_10_i\"></a>\n",
    "<i>Proposition:</i>  \n",
    "\n",
    "The signed area of an oriented triangle on the standard cubic $y=x^3$, where the points used in the triangle constuction are $A_1=[t_1,t_1^3]$,  $A_2=[t_2,t_2^3]$ and $A_3=[t_3,t_3^3]$ are collinear when $t_1+t_2+t_3=0$\n",
    "<br/><i>Related name: </i> Collinear points on the standard cubic"
   ]
  },
  {
   "cell_type": "code",
   "execution_count": null,
   "metadata": {},
   "outputs": [],
   "source": []
  }
 ],
 "metadata": {
  "kernelspec": {
   "display_name": "SageMath 9.0",
   "language": "sage",
   "name": "sagemath"
  },
  "language_info": {
   "codemirror_mode": {
    "name": "ipython",
    "version": 3
   },
   "file_extension": ".py",
   "mimetype": "text/x-python",
   "name": "python",
   "nbconvert_exporter": "python",
   "pygments_lexer": "ipython3",
   "version": "3.7.3"
  }
 },
 "nbformat": 4,
 "nbformat_minor": 4
}
