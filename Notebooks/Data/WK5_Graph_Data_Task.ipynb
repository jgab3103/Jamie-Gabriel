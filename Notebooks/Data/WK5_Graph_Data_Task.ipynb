{
 "cells": [
  {
   "cell_type": "markdown",
   "metadata": {},
   "source": [
    "# Graph Data Task"
   ]
  },
  {
   "cell_type": "markdown",
   "metadata": {},
   "source": [
    "## Importing rdflib"
   ]
  },
  {
   "cell_type": "markdown",
   "metadata": {},
   "source": [
    "_rdflib_ is one of the most widely used Python libraries for working with RDF data. \n",
    "We first need to tell Python that we're going to be using rdflib, with the use of the import command."
   ]
  },
  {
   "cell_type": "code",
   "execution_count": null,
   "metadata": {
    "collapsed": true
   },
   "outputs": [],
   "source": [
    "import rdflib"
   ]
  },
  {
   "cell_type": "markdown",
   "metadata": {},
   "source": [
    "## Familiarising ourselves with the data"
   ]
  },
  {
   "cell_type": "markdown",
   "metadata": {},
   "source": [
    "In this programming task we are going to be using a small RDF dataset about hospitals. The dataset includes information about 4 different hospitals:\n",
    "* Glasgow Royal Infirmary\n",
    "* Royal Infirmary of Edinburgh\n",
    "* Aberdeen Royal Infirmary\n",
    "* University Hospital Heidelberg\n",
    "\n",
    "The information about each hospital may include: URI, name, number of beds, country, the fact that it is a hospital.\n",
    "\n",
    "Here is an extract of the dataset:\n",
    "<div class=\"alert alert-block alert-info\">\n",
    "<</span>http://dbpedia.org/resource/Glasgow_Royal_Infirmary>\t<</span>http://www.w3.org/1999/02/22-rdf-syntax-ns#type>\t<</span>http://schema.org/Hospital> . <br>\n",
    "<</span>http://dbpedia.org/resource/Glasgow_Royal_Infirmary>\t<</span>http://xmlns.com/foaf/0.1/name>\t\"Glasgow Royal Infirmary\" .<br>\n",
    "<</span>http://dbpedia.org/resource/Glasgow_Royal_Infirmary>\t<</span>http://dbpedia.org/ontology/country>\t<</span>http://dbpedia.org/resource/Scotland> .<br>\n",
    "<</span>http://dbpedia.org/resource/Glasgow_Royal_Infirmary>\t<</span>http://dbpedia.org/ontology/bedCount>\t1077 .\n",
    "</div>\n"
   ]
  },
  {
   "cell_type": "markdown",
   "metadata": {},
   "source": [
    "### Parsing the data\n",
    "\n",
    "The dataset is called *hospitals.ttl* and it can be found in the _readonly_ directory. <br>\n",
    "\n",
    "Let's parse the dataset with the use of the *parse* function. You can ignore anything printed."
   ]
  },
  {
   "cell_type": "code",
   "execution_count": null,
   "metadata": {
    "collapsed": true
   },
   "outputs": [],
   "source": [
    "from rdflib import Graph\n",
    "g = Graph()\n",
    "g.parse(\"./readonly/hospitals.ttl\", format=\"ttl\")"
   ]
  },
  {
   "cell_type": "markdown",
   "metadata": {},
   "source": [
    "This creates a new Graph object called *g*. "
   ]
  },
  {
   "cell_type": "markdown",
   "metadata": {},
   "source": [
    "### Getting a sense of the data\n",
    "\n",
    "We can get the number of triples in our dataset with the use of *len*. \n",
    "\n",
    "Run the code below (the result should be 14)."
   ]
  },
  {
   "cell_type": "code",
   "execution_count": null,
   "metadata": {
    "collapsed": true
   },
   "outputs": [],
   "source": [
    "len(g)"
   ]
  },
  {
   "cell_type": "markdown",
   "metadata": {},
   "source": [
    "To print out all the triples in the dataset in the form of *subject predicate object*, run the code below.\n",
    "\n",
    "Note that it is not recommended to print an entire dataset, as it may be very large! For this example it is ok, though."
   ]
  },
  {
   "cell_type": "code",
   "execution_count": null,
   "metadata": {
    "collapsed": true
   },
   "outputs": [],
   "source": [
    "for s, p, o in g:\n",
    "    print(s, p, o)"
   ]
  },
  {
   "cell_type": "markdown",
   "metadata": {},
   "source": [
    "## Querying the data\n",
    "\n",
    "Let's formulate SPARQL queries and run them in Python. \n",
    "\n",
    "Note that the general syntax for running SPARQL queries using rdflib is as follows:"
   ]
  },
  {
   "attachments": {
    "QueryGeneralForm.png": {
     "image/png": "[encoded data removed]"
    }
   },
   "cell_type": "markdown",
   "metadata": {},
   "source": [
    "![QueryGeneralForm.png](attachment:QueryGeneralForm.png)"
   ]
  },
  {
   "cell_type": "markdown",
   "metadata": {},
   "source": [
    "So all we need to do is substitute *your_SPARQL_Query_goes_here* with our SPARQL query. We can leave the last two code lines as they are to print out the results. In the following examples, however, we're using different printing variations, just for fun. You can ignore these if you want - or you can substitute the last line with what we have above."
   ]
  },
  {
   "cell_type": "markdown",
   "metadata": {},
   "source": [
    "### Query 1: Get the name of the Royal Infirmary of Edinburgh"
   ]
  },
  {
   "cell_type": "markdown",
   "metadata": {},
   "source": [
    "We want to get the name of the resource identified through the following URI: <</span>http://dbpedia.org/resource/Royal_Infirmary_of_Edinburgh> <br><br>\n",
    "One could think that this is self-evident, but there's no such thing when working with data! We want to know what the official name is for this URI, according to our data."
   ]
  },
  {
   "cell_type": "code",
   "execution_count": null,
   "metadata": {
    "collapsed": true
   },
   "outputs": [],
   "source": [
    "qres = g.query(\n",
    "    \"\"\"SELECT ?n\n",
    "       WHERE {\n",
    "          <http://dbpedia.org/resource/Royal_Infirmary_of_Edinburgh>  <http://xmlns.com/foaf/0.1/name> ?n .\n",
    "       }\"\"\")\n",
    "\n",
    "for row in qres:\n",
    "    print(\"The name of <http://dbpedia.org/resource/Royal_Infirmary_of_Edinburgh> is: %s\" % row)"
   ]
  },
  {
   "cell_type": "markdown",
   "metadata": {},
   "source": [
    "Suppose that we used an incorrect URI for the Royal Infirmary of Edinburgh, e.g. <</span>http://dbpedia.org/resource/Edinburgh_Royal_Infirmary>. <br> \n",
    "When running the query we wouldn't get an error, but simply no results would be returned.\n",
    "This is because SPARQL doesn't know whether a URI is \"correct\" or not - it just searches for the information thatv we've specified. In this case, there is simlpy no triple in our data to match this query."
   ]
  },
  {
   "cell_type": "code",
   "execution_count": null,
   "metadata": {
    "collapsed": true
   },
   "outputs": [],
   "source": [
    "qres = g.query(\n",
    "    \"\"\"SELECT ?n\n",
    "       WHERE {\n",
    "          <http://dbpedia.org/resource/Edinburgh_Royal_Infirmary>  <http://xmlns.com/foaf/0.1/name> ?n .\n",
    "       }\"\"\")\n",
    "\n",
    "for row in qres:\n",
    "    print(\"The name of <http://dbpedia.org/resource/Edinburgh_Royal_Infirmary> is: %s\" % row)"
   ]
  },
  {
   "cell_type": "markdown",
   "metadata": {},
   "source": [
    "### Query 2: Get the URIs of all hospitals"
   ]
  },
  {
   "cell_type": "markdown",
   "metadata": {},
   "source": [
    "Here we want to get the URIs of all \"things\" that are *of type* Hospital. There is a special term to express this: <</span>http://www.w3.org/1999/02/22-rdf-syntax-ns#type>. This is used in the SPARQL query below.\n",
    "\n",
    "Run the following cell to get the results."
   ]
  },
  {
   "cell_type": "code",
   "execution_count": null,
   "metadata": {
    "collapsed": true
   },
   "outputs": [],
   "source": [
    "qres = g.query(\n",
    "    \"\"\"SELECT ?h\n",
    "       WHERE {\n",
    "          ?h  <http://www.w3.org/1999/02/22-rdf-syntax-ns#type>  <http://schema.org/Hospital> .\n",
    "       }\"\"\")\n",
    "\n",
    "for row in qres:\n",
    "    print(\"%s\" % row)"
   ]
  },
  {
   "cell_type": "markdown",
   "metadata": {},
   "source": [
    "### Query 3: Get the names of all hospitals"
   ]
  },
  {
   "cell_type": "markdown",
   "metadata": {},
   "source": [
    "Now we are going to build on the previous SPARQL query to get the names of all those \"things\" that are of type Hospital. All we need to do is add a new triple in the WHERE-part of the query to express this.\n",
    "\n",
    "Run the following cell to get the results."
   ]
  },
  {
   "cell_type": "code",
   "execution_count": null,
   "metadata": {
    "collapsed": true
   },
   "outputs": [],
   "source": [
    "qres = g.query(\n",
    "    \"\"\"SELECT ?n\n",
    "       WHERE {\n",
    "          ?h  <http://www.w3.org/1999/02/22-rdf-syntax-ns#type>  <http://schema.org/Hospital> .\n",
    "          ?h  <http://xmlns.com/foaf/0.1/name> ?n .\n",
    "       }\"\"\")\n",
    "\n",
    "for row in qres:\n",
    "    print(\"The name of one of the hospitals in our graph database is: %s\" % row)"
   ]
  },
  {
   "cell_type": "markdown",
   "metadata": {},
   "source": [
    "### Query 4: Get the names of all hospitals based in Scotland"
   ]
  },
  {
   "cell_type": "markdown",
   "metadata": {},
   "source": [
    "Now we are going to build even further on the previous SPARQL query to specify that those \"things\" (i.e. the hospitals) need to be based in Scotland. All we need to do is add a new triple in the WHERE-part of the query to express this.\n",
    "\n",
    "Run the following cell to get the results."
   ]
  },
  {
   "cell_type": "code",
   "execution_count": null,
   "metadata": {
    "collapsed": true
   },
   "outputs": [],
   "source": [
    "qres = g.query(\n",
    "    \"\"\"SELECT ?n\n",
    "       WHERE {\n",
    "          ?h  <http://www.w3.org/1999/02/22-rdf-syntax-ns#type>  <http://schema.org/Hospital> .\n",
    "          ?h  <http://dbpedia.org/ontology/country>  <http://dbpedia.org/resource/Scotland> .\n",
    "          ?h  <http://xmlns.com/foaf/0.1/name> ?n .\n",
    "       }\"\"\")\n",
    "\n",
    "print(\"The names of all hospitals in Scotland are:\")\n",
    "for row in qres:\n",
    "    print(\"%s\" % row)"
   ]
  },
  {
   "cell_type": "markdown",
   "metadata": {},
   "source": [
    "## Have a go at querying the data"
   ]
  },
  {
   "cell_type": "markdown",
   "metadata": {},
   "source": [
    "### Quiz 5 - Question 5\n",
    "\n",
    "Here's the code that is provided in this week's quiz (Question 5). Run it to see what it does. You may also want to modify it further to get a better understanding."
   ]
  },
  {
   "cell_type": "code",
   "execution_count": null,
   "metadata": {
    "collapsed": true
   },
   "outputs": [],
   "source": [
    "qres = g.query(\n",
    "    \"\"\"SELECT ?b\n",
    "    WHERE {\n",
    "    <http://dbpedia.org/resource/Glasgow_Royal_Infirmary>  <http://dbpedia.org/ontology/bedCount> ?b .\n",
    "    }\"\"\")\n",
    "\n",
    "for row in qres:\n",
    "    print(\"The result is: %s\" % row)"
   ]
  },
  {
   "cell_type": "markdown",
   "metadata": {},
   "source": [
    "### Other queries of interest\n",
    "\n",
    "Why not formulate your own SPARQL queries? You can use the starter code below. Just make sure you don't forget any quotes, curly brackets, etc."
   ]
  },
  {
   "cell_type": "code",
   "execution_count": null,
   "metadata": {
    "collapsed": true
   },
   "outputs": [],
   "source": [
    "qres = g.query(\n",
    "    # your SPARQL query goes here\n",
    ")\n",
    "\n",
    "for row in qres:\n",
    "    print(\"%s\" % row)"
   ]
  }
 ],
 "metadata": {
  "kernelspec": {
   "display_name": "Python 3",
   "language": "python",
   "name": "python3"
  },
  "language_info": {
   "codemirror_mode": {
    "name": "ipython",
    "version": 3
   },
   "file_extension": ".py",
   "mimetype": "text/x-python",
   "name": "python",
   "nbconvert_exporter": "python",
   "pygments_lexer": "ipython3",
   "version": "3.6.0"
  }
 },
 "nbformat": 4,
 "nbformat_minor": 2
}
