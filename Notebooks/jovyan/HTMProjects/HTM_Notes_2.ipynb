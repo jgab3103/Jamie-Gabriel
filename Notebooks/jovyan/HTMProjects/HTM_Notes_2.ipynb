{
 "cells": [
  {
   "cell_type": "markdown",
   "metadata": {},
   "source": [
    "<i>STATUS: Draft<i>"
   ]
  },
  {
   "cell_type": "code",
   "execution_count": 1,
   "metadata": {},
   "outputs": [],
   "source": [
    "import numpy as np\n",
    "import sympy as sp\n",
    "from IPython.display import HTML\n",
    "import matplotlib.pyplot as plt\n",
    "from matplotlib import animation\n",
    "from matplotlib.patches import Rectangle\n",
    "from IPython.display import Image\n",
    "from IPython.display import YouTubeVideo\n"
   ]
  },
  {
   "cell_type": "markdown",
   "metadata": {},
   "source": [
    "In the last notebook, we covered the first 3 HTM school videaos, SDRs, notion of sparsity. We now can move to overlap sets. At the same time, we created some helper functions so let's list them now: "
   ]
  },
  {
   "cell_type": "code",
   "execution_count": 14,
   "metadata": {},
   "outputs": [],
   "source": [
    "def create_randominsed_sdr(x_limit, y_limit, population):\n",
    "    return([(np.random.randint(low=1, high=x_limit),np.random.randint(low=1, high=y_limit)) for i in range(population)])\n",
    "\n",
    "def create_axis_for_sdr(ax, x_limit, y_limit, population, label):\n",
    "    \n",
    "    label_add = np.round((population / (x_limit * y_limit)) * 100, 2)\n",
    "    label = label + ' (Sparsity: {}%)'.format(label_add)\n",
    "    \n",
    "    ax.set_xlabel(label)\n",
    "    ax.set_xticks(range(int(x_limit)))\n",
    "    ax.set_yticks(range(int(y_limit)))\n",
    "    [ax.xaxis.get_major_ticks()[i].tick1line.set_color(\"white\") for i in range(int(x_limit))]\n",
    "    [ax.yaxis.get_major_ticks()[i].tick1line.set_color(\"white\") for i in range(int(y_limit))]\n",
    "    ax.set_yticklabels([])\n",
    "    ax.set_xticklabels([])\n",
    "    ax.grid(color='k', linestyle='-', linewidth=.5)\n",
    "    \n",
    "    return(ax)\n",
    "\n",
    "def compute_union_and_overlap(SDR1_on_bits, SDR2_on_bits):\n",
    "    union = list(set(SDR1_on_bits).union(SDR2_on_bits))\n",
    "    overlap = list(set(SDR1_on_bits).intersection(SDR2_on_bits))\n",
    "    \n",
    "    return({\"union\": union, \"overlap\": overlap})\n",
    "\n",
    "def create_and_compare_sdrs_over_multiple_iterations(iterations, sdr_size, population):\n",
    "    # make this return averages\n",
    "    sdr_unions_for_comparison = []\n",
    "    sdr_overlaps_for_comparison = []\n",
    "    for x in range(iterations):\n",
    "        SDR1 = create_randominsed_sdr(np.sqrt(sdr_size), np.sqrt(sdr_size), population)\n",
    "        SDR2 =create_randominsed_sdr(np.sqrt(sdr_size), np.sqrt(sdr_size), population)\n",
    "        sdr_comparison = compute_union_and_overlap(SDR1, SDR2)\n",
    "        sdr_unions_for_comparison.append(len(sdr_comparison['union']))\n",
    "        sdr_overlaps_for_comparison.append(len(sdr_comparison['overlap']))\n",
    "    print(\"Average union: \", str(sum(sdr_unions_for_comparison) / len(sdr_unions_for_comparison)))\n",
    "    print(\"Average overlap: \", str(sum(sdr_overlaps_for_comparison) / len(sdr_overlaps_for_comparison)))\n",
    "    return({\"union_comparison\": sdr_unions_for_comparison, \"overlap_comparison\": sdr_overlaps_for_comparison})\n",
    "    \n",
    "def randomly_flip_percentage_of_bits(SDR, array_size, percentage_to_flip):\n",
    "    to_remove = int(percentage_to_flip * len(SDR))\n",
    "    randomised_SDR = np.random.shuffle(SDR)\n",
    "    del SDR[0:to_remove]\n",
    "    noise = create_randominsed_sdr(np.sqrt(array_size), np.sqrt(array_size), to_remove)\n",
    "    sdr_with_noise = noise + SDR\n",
    "    return(sdr_with_noise)\n",
    "\n"
   ]
  },
  {
   "cell_type": "markdown",
   "metadata": {},
   "source": [
    "THe next video we introduces us so SDR Overlap sets and subsampling"
   ]
  },
  {
   "cell_type": "code",
   "execution_count": 4,
   "metadata": {},
   "outputs": [
    {
     "data": {
      "text/html": [
       "<iframe width=\"560\" height=\"315\" src=\"https://www.youtube.com/embed/vU2OZdgBXAQ\" title=\"YouTube video player\" frameborder=\"0\" allow=\"accelerometer; autoplay; clipboard-write; encrypted-media; gyroscope; picture-in-picture\" allowfullscreen></iframe>"
      ],
      "text/plain": [
       "<IPython.core.display.HTML object>"
      ]
     },
     "execution_count": 4,
     "metadata": {},
     "output_type": "execute_result"
    }
   ],
   "source": [
    "HTML('<iframe width=\"560\" height=\"315\" src=\"https://www.youtube.com/embed/vU2OZdgBXAQ\" title=\"YouTube video player\" frameborder=\"0\" allow=\"accelerometer; autoplay; clipboard-write; encrypted-media; gyroscope; picture-in-picture\" allowfullscreen></iframe>')"
   ]
  },
  {
   "cell_type": "markdown",
   "metadata": {},
   "source": [
    "The interesting this what exactly is the relationship between a neoron and and SDR. In the image below, pyramdil neoron can be seen. \n",
    "\n",
    "IMAGE\n",
    "\n",
    "But let's talk about how neoron....show a pyramidal neoron in the neocortex need diagram...complex pattern recog system...recieving stream of SDRs constantly....from atpyical dendrites, feedback fro mhiger levels in heirachy, rec from basel dentries, context and proximal dentries - lower level and sensory lots of different sdrs.....trying decide to fire, and the plays a role in othe SDRs...but turning its bit on....\n",
    "\n",
    "2 ways to look, from pramidal neoron, observe all sdrs deciding when it fires....and also plays a part in part of SDRS - by fiuring and turns bit on when it recognises \n",
    "\n",
    "Every bit reps a neuon/neorn identiy\n",
    "\n",
    "THink of similiar time stamps, neorons firuing\n"
   ]
  },
  {
   "cell_type": "markdown",
   "metadata": {},
   "source": [
    "\n"
   ]
  },
  {
   "cell_type": "markdown",
   "metadata": {},
   "source": [
    "NOW DIAGRAM\n",
    "\n",
    "We have some SDR with n and w value tha tis generated (which generates its sparsity\n",
    "\n",
    "Overlap Set is \n",
    "\n",
    "$$  |\\Omega_x(n, w, b| = \\binom{w_x}{b} \\times \\binom{n - w_x}{w - b}  $$"
   ]
  },
  {
   "cell_type": "markdown",
   "metadata": {},
   "source": [
    "Formula - left side is onbit space, right side is off bits.....we choose an n and w, and \n",
    "\n",
    "We are saying....given any SDR ( we ill call \"x\") that has an n and w, the the OVERLAP SET is the number of SDRS (Total) tha thave same n, specific w with a specific number fo bits of overlap with x\n",
    "\n",
    "So we are interested in some SDR, and then all other SDRs in relationship to it that form an overlap set, where this set is the size\n",
    "\n",
    "for example we choose some SDR = 600\n",
    "\n",
    "we know its w/population and we can change this. we also have a value b which is how many bits we require for the overlap\n",
    "\n",
    "So if we have 40 onbits, and we require b to be 40, an exact match of bits in teh sapce, there is 1 way to to this. \n",
    "\n",
    "But if we require\n",
    "\n",
    "Cardinality of overlap set, divided by uniquenss of original SDR\n",
    "\n",
    "w"
   ]
  },
  {
   "cell_type": "code",
   "execution_count": 15,
   "metadata": {},
   "outputs": [
    {
     "data": {
      "image/png": "[encoded data removed]",
      "text/plain": [
       "<Figure size 1080x360 with 3 Axes>"
      ]
     },
     "metadata": {},
     "output_type": "display_data"
    }
   ],
   "source": [
    "sdr_size = 1024\n",
    "population = 103\n",
    "label = str(np.round(sdr_size/population, 3))\n",
    "\n",
    "specs1 = create_randominsed_sdr(np.sqrt(sdr_size), np.sqrt(sdr_size), population)\n",
    "specs2 = create_randominsed_sdr(np.sqrt(sdr_size), np.sqrt(sdr_size), population)\n",
    "\n",
    "\n",
    "sdr_comparison = compute_union_and_overlap(specs1, specs2)\n",
    "\n",
    "fig, (ax1, ax2, ax3) = plt.subplots(1, 3, figsize=(15, 5))\n",
    "\n",
    "ax1 = create_axis_for_sdr(ax1, np.sqrt(sdr_size), np.sqrt(sdr_size), population, \"SDR 1\")\n",
    "ax2 = create_axis_for_sdr(ax2, np.sqrt(sdr_size), np.sqrt(sdr_size), population, \"SDR 2\")\n",
    "ax3 = create_axis_for_sdr(ax3, np.sqrt(sdr_size), np.sqrt(sdr_size), len(sdr_comparison['union']), \"Overlap (AND) and Union (OR)\")\n",
    "\n",
    "SDR1 = [ax1.add_patch(Rectangle(specs1[i], 1, 1, color=\"blue\")) for i in range(len(specs1))]\n",
    "SDR2 = [ax2.add_patch(Rectangle(specs2[i], 1, 1, color=\"blue\")) for i in range(len(specs2))]\n",
    "union = [ax3.add_patch(Rectangle(sdr_comparison['union'][i], 1, 1, color=\"gray\")) for i in range(len(sdr_comparison['union']))]\n",
    "overlap = [ax3.add_patch(Rectangle(sdr_comparison['overlap'][i], 1, 1, color=\"orange\")) for i in range(len(sdr_comparison['overlap']))]\n",
    "\n"
   ]
  },
  {
   "cell_type": "markdown",
   "metadata": {},
   "source": [
    "The above shows 2 randomly generated SDRs of 1024 bits each. The third plot shows hows that overlap, bits that appear in both, and bits that appear in at least\n",
    "\n",
    "From there we can calculate an <i>overlap score</i>, how many they have in common: "
   ]
  },
  {
   "cell_type": "code",
   "execution_count": 16,
   "metadata": {},
   "outputs": [
    {
     "data": {
      "text/plain": [
       "8"
      ]
     },
     "execution_count": 16,
     "metadata": {},
     "output_type": "execute_result"
    }
   ],
   "source": [
    "len(sdr_comparison['overlap'])"
   ]
  },
  {
   "cell_type": "markdown",
   "metadata": {},
   "source": [
    "The 3rd SDR shows the number of bits that appear in both SDR1 and SD2. As to expected the total number of bits has grown to around 15-20% mark. The resulting SDR has lower sparsity. The bits in orange who the overlap, and the count of bits that appear in both SDRs is called the <b>Overlap Score</b>. The notion of union and overlap (the logical OR and logical AND) will become important for us as we go forward. \n",
    "\n",
    "One the first things, is to explore this pattern holds over trials. \n",
    "\n",
    "After running this 10000 times, I have found min overlap of [] and a maximum overlap of []\n"
   ]
  },
  {
   "cell_type": "code",
   "execution_count": 17,
   "metadata": {},
   "outputs": [],
   "source": [
    "def create_and_compare_sdrs_over_multiple_iterations(iterations, sdr_size, population):\n",
    "    # make this return averages\n",
    "    sdr_unions_for_comparison = []\n",
    "    sdr_overlaps_for_comparison = []\n",
    "    for x in range(iterations):\n",
    "        SDR1 = create_randominsed_sdr(np.sqrt(sdr_size), np.sqrt(sdr_size), population)\n",
    "        SDR2 =create_randominsed_sdr(np.sqrt(sdr_size), np.sqrt(sdr_size), population)\n",
    "        sdr_comparison = compute_union_and_overlap(SDR1, SDR2)\n",
    "        sdr_unions_for_comparison.append(len(sdr_comparison['union']))\n",
    "        sdr_overlaps_for_comparison.append(len(sdr_comparison['overlap']))\n",
    "    print(\"Average union: \", str(sum(sdr_unions_for_comparison) / len(sdr_unions_for_comparison)))\n",
    "    print(\"Average overlap: \", str(sum(sdr_overlaps_for_comparison) / len(sdr_overlaps_for_comparison)))\n",
    "    return({\"union_comparison\": sdr_unions_for_comparison, \"overlap_comparison\": sdr_overlaps_for_comparison})\n",
    "    "
   ]
  },
  {
   "cell_type": "code",
   "execution_count": 18,
   "metadata": {},
   "outputs": [
    {
     "name": "stdout",
     "output_type": "stream",
     "text": [
      "Average union:  180.748\n",
      "Average overlap:  9.359\n"
     ]
    }
   ],
   "source": [
    "comparisons = create_and_compare_sdrs_over_multiple_iterations(1000, 1024, 100)"
   ]
  },
  {
   "cell_type": "code",
   "execution_count": 19,
   "metadata": {},
   "outputs": [
    {
     "data": {
      "image/png": "[encoded data removed]",
      "text/plain": [
       "<Figure size 432x288 with 1 Axes>"
      ]
     },
     "metadata": {},
     "output_type": "display_data"
    }
   ],
   "source": [
    "p = plt.bar(range(1000), comparisons['overlap_comparison'])\n",
    "# make this a hist of averages"
   ]
  },
  {
   "cell_type": "markdown",
   "metadata": {},
   "source": [
    "So far, we have see the relationship between 2 SDRs being categorised with Logical OR and AND operators. But the next thing to consider is how can define smoething as a match or not. Is having 100% overlap a match. Or can be be more fuzzy, and say if there is a certain percentate of overlap there is a match. The flip side of this is to think of it terms of <b>noise</b> How much noise can I tolderate to have a match. \n",
    "\n",
    "as  is  what does it mean to say and SDR matches another SDR We can also set this up to show noise tollerance across a vis of 3 arrays. I the htm example, we are going to use\n",
    "\n"
   ]
  },
  {
   "cell_type": "code",
   "execution_count": 30,
   "metadata": {},
   "outputs": [],
   "source": []
  },
  {
   "cell_type": "code",
   "execution_count": 44,
   "metadata": {},
   "outputs": [],
   "source": [
    "SDR1 = create_randominsed_sdr(64, 64, 81)\n",
    "SDR2 = randomly_flip_percentage_of_bits(SDR1.copy(), 2048, .4)"
   ]
  },
  {
   "cell_type": "code",
   "execution_count": 50,
   "metadata": {},
   "outputs": [
    {
     "data": {
      "image/png": "[encoded data removed]",
      "text/plain": [
       "<Figure size 1080x504 with 2 Axes>"
      ]
     },
     "metadata": {},
     "output_type": "display_data"
    }
   ],
   "source": [
    "population = 41\n",
    "\n",
    "fig, (ax1, ax2) = plt.subplots(1, 2, figsize=(15, 7))\n",
    "\n",
    "ax1 = create_axis_for_sdr(ax1, 64, 32, population, \"SDR 1\")\n",
    "ax2 = create_axis_for_sdr(ax2, 64, 32, population, \"SDR 2\")\n",
    "\n",
    "S1 = [ax1.add_patch(Rectangle(SDR1[i], 1, 1, color=\"blue\")) for i in range(len(SDR1))]\n",
    "S2 = [ax2.add_patch(Rectangle(SDR2[i], 1, 1, color=\"blue\")) for i in range(len(SDR2))]"
   ]
  },
  {
   "cell_type": "markdown",
   "metadata": {},
   "source": [
    "SO we are now looking at an initial SDR, I have added randomly flipped a percetage of bits, 40% of the bits. To me we are really starting to touch on core concerns in Informaiton theory, how many can we change message, because how much capacity is required can think of this in different ways, to me the idea is closest to the idea of Information Theory, touching on informaitin theory, that we can flip bits. It also introduces us to the idea of a threshold, which we will denote $\\theta$\n",
    "\n",
    "The value theta is an overlap score that, after flipping bits we would accept as a match. To explore its let's rewrite our <code>compute_union_and_overlap</code>function to return summary information, and accept $\\theta$ as a parameter: "
   ]
  },
  {
   "cell_type": "code",
   "execution_count": 40,
   "metadata": {},
   "outputs": [],
   "source": []
  },
  {
   "cell_type": "markdown",
   "metadata": {},
   "source": [
    "Specs \n",
    "n = 2048\n",
    "w = 41\n",
    "spars = 0.02\n",
    "\n",
    "1 - generate the specs\n",
    "2 - generate the same SDR but flip 33% of the entries to noise\n",
    "3 - Look at the resulting overlap score \n",
    "\n",
    "So 33% of noise gives overlap of 28\n",
    "\n",
    "Leads to fuzzy matching - use a value $\\theta$ - threshold of overlap score\n",
    "\n",
    "We can dial theta up and down \n",
    "\n",
    "INteresting - you can set theta, then change noise - idea of how much noise we can add and still get a match....\n",
    "\n",
    "interesting...we can consider a formula of if something is a false postive - math means astronomical small percentage of a match.....SDRS\n",
    "\n",
    "Even when we dial up to 50%, we get hardly any change of a false positive\n",
    "\n",
    "SDRs have massive resistance to noise\n",
    "\n",
    "an then do noise for 32 x 64"
   ]
  },
  {
   "cell_type": "code",
   "execution_count": null,
   "metadata": {},
   "outputs": [],
   "source": []
  },
  {
   "cell_type": "markdown",
   "metadata": {},
   "source": [
    "<div style=\"background:#99ddff; color:black; padding: 10px\">\n",
    "<b>Add to these notes:</b>\n",
    "    \n",
    "What becomes apparent after doing is that it needs more rigor around the code. Ideally I want to pass in size SDR get specs, get overlap and union, set a threshold. It makes more sense to have and SDR class in python which can then have attributes\n",
    "</div>"
   ]
  },
  {
   "cell_type": "markdown",
   "metadata": {},
   "source": [
    "We have covered alot in this notebook"
   ]
  },
  {
   "cell_type": "code",
   "execution_count": null,
   "metadata": {},
   "outputs": [],
   "source": []
  }
 ],
 "metadata": {
  "kernelspec": {
   "display_name": "Python 3",
   "language": "python",
   "name": "python3"
  },
  "language_info": {
   "codemirror_mode": {
    "name": "ipython",
    "version": 3
   },
   "file_extension": ".py",
   "mimetype": "text/x-python",
   "name": "python",
   "nbconvert_exporter": "python",
   "pygments_lexer": "ipython3",
   "version": "3.7.3"
  }
 },
 "nbformat": 4,
 "nbformat_minor": 4
}
