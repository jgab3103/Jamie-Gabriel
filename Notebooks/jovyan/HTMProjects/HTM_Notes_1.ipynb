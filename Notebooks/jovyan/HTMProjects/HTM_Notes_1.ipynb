{
 "cells": [
  {
   "cell_type": "markdown",
   "metadata": {},
   "source": [
    "<i>STATUS: Draft<i>"
   ]
  },
  {
   "cell_type": "code",
   "execution_count": 325,
   "metadata": {},
   "outputs": [],
   "source": [
    "import numpy as np\n",
    "import sympy as sp\n",
    "import random  as rd\n",
    "from IPython.display import HTML\n",
    "import matplotlib.pyplot as plt\n",
    "from matplotlib import animation\n",
    "from matplotlib.patches import Rectangle\n",
    "from IPython.display import Image\n",
    "from IPython.display import YouTubeVideo\n",
    "#Image(filename='./Images/neocortex-image.png', width=400, height=400)"
   ]
  },
  {
   "cell_type": "markdown",
   "metadata": {},
   "source": [
    "<h3>HTM Overview</h3>\n",
    "\n",
    "Now that we have things all set up, let's start looking at HTM itself. We will follow the HTM School Videos and I will provide other resources along the way. We will also build a number of the HTM visualisations which appear in the videos, which will require us to write code for key parts of the HTM algorithm and help understand it.\n",
    "\n",
    "Let's start at Episode 0: "
   ]
  },
  {
   "cell_type": "code",
   "execution_count": 43,
   "metadata": {},
   "outputs": [
    {
     "data": {
      "text/html": [
       "<iframe width=\"560\" height=\"315\" src=\"https://www.youtube.com/embed/XMB0ri4qgwc\" title=\"YouTube video player\" frameborder=\"0\" allow=\"accelerometer; autoplay; clipboard-write; encrypted-media; gyroscope; picture-in-picture\" allowfullscreen></iframe>"
      ],
      "text/plain": [
       "<IPython.core.display.HTML object>"
      ]
     },
     "execution_count": 43,
     "metadata": {},
     "output_type": "execute_result"
    }
   ],
   "source": [
    "HTML('<iframe width=\"560\" height=\"315\" src=\"https://www.youtube.com/embed/XMB0ri4qgwc\" title=\"YouTube video player\" frameborder=\"0\" allow=\"accelerometer; autoplay; clipboard-write; encrypted-media; gyroscope; picture-in-picture\" allowfullscreen></iframe>')"
   ]
  },
  {
   "cell_type": "markdown",
   "metadata": {},
   "source": [
    "<h4>Episode 0</h4>\n",
    "\n",
    "Episode 0 provides to HTM. Important things to note in tis video: \n",
    "\n",
    "* The neocortex is the sheet that wraps around the top of the brain. We find that neocortex accounts for around 75% of the brain's mass and has evolved in mammals, particularly humans. In HTM world, it is often described as around 2.5mm thick, scrunched up inside the human skull, similar to a dinner napkin.  You can see an image of it below that sits. While a number of functions that human's undertake (such as eatings/sleeping/sex etc.) emanate from other parts of the brain, the neocortex holds memories, the notion of identity, intelligence, and is sometimes referred to as the \"seat of intelligence\". \n",
    "\n",
    "* If you examine the neocortex under a microscope, it turns out that the cellular structure in different regions is almost identical. This suggests that however the neocortex works, it has a similar approach to processing information of different modalities, such as visual / auditory  etc. When the neocortex solves any kind problem, the same cortical structure is always in ply, or the same algorithmic structureYou can visualise it as per below: \n",
    "\n",
    "* The neocortex in an average human adult contains 20-30 billion neurons, and  neuron is a type cell. \n",
    "* You can think of a neuron as having two electrical states at any 1 time. It is either at around -70 millivolts and considered in an 'off' state, or it is 'firing' about 100 millivolts. At any one time, all neurons in the neocortext state is what can be regarded as on or off. \n",
    "* At any point, it is the case that a remarkably small percentate of bits are on (around 2%)\n",
    "* The motivation still draws on  neural networks over 50 years ago, sicne then things advanced, better underst of biology, but still hasn't moved forward too much - ANNs (neural networks) stil not plausible \n",
    "\n",
    "Neocotex has regions, of neocortex. Nerve fibers exist through white matter allowing information to come from lower levels through higher levels, sending output upwards. As informaiton moves through these regious, the ideas that the information represetns become more abstract and more permnanent. For exaple\n",
    "\n",
    "- Lowest level: edges and borders\n",
    "- Higher Level: shape recognition\n",
    "- Next highest Level: object recognition\n",
    "- Next highest level: ideas and memories\n",
    "\n",
    "\n",
    "Due to the structure of the neocortex, and the common process, it allows not to be concerned with the myriad wasy ways information comes into the neocortex and focus on how information is processed. Futhermore, because of the architecture, we can can focus on region as they are all the same. \n",
    "\n",
    "\n",
    "There are some citircal things to deal with early on with understanding neocortex - firstly, the idea of regions can be potentially confusing, and we will tie back this. To note various regious etc that are avalialble\n",
    "\n",
    "We are left with a structure that is well suited to Linear Algebra over a bifield: large netorks that is connected where majority of nodes of are are 0 and some are 1. This structure leads us to the basic idea of <b>Sparse Distributed Representation (SDR)</b>.  \n",
    "\n",
    "In th same way that Linear Algebra can be used to reduce networks down to the interplay between nodes and edges, this SDR array structure is a model of SDR. This basic SDR structure facilitiates the following: \n",
    "\n",
    "1. Basic Inputs into the neocortex from a copy of the motor commands coming out of the old brain <br/> When informaiton sent being sent to control muscles, coming in, copy goes into neocortex, so it can undertand how it interacting\n",
    "2. Sensory input coming form the outside world<br/> This includes senssory inputs from oming from all the, touch, smell etc. all copied and sent to neocortex - represetnation of what is happening in the world - provide sensory motor model, what is happening, and how it is interacting....eg optic nerve, sending new different pictures, provides continuity, data comes from our brains to provide this also\n",
    "\n",
    "\n",
    "This tells us that for any HTM system to exist, it needs the equivalent of sensory encoder. We need to be careful that by this we mean some kind of sensory endoing but not that it has to be what human would expect, such as sight, sound, taste etc. Any HTM system requires some kind of sensory imput which is converted into the form of an SDR that can then be in converts them into SDR that system can understand. But that does not mean we can't have encoders that have no biological counterpart, such as a geocoding encoder (i.e. a sense that tracks location)\n",
    "\n",
    "To process SDRs HTM uses an algorithm called Temporal Memory. This Algorithm learns uses SDRs to learn patterns that are changing over time driven by SDR input. It perates on motor commands and sens imput. Temporal Memory will become more critical as we go on:  biggest different to standard ML. HTM starts with assumption that everything based on memory and recall of sequences of patterns. \n",
    "\n",
    "The contrasts to other types of machine learning does not end there: HTM systems learn continuously. There is no training set, no batch processing, the model changes as data changes. This allows the HTM build predictive model of the world, and adapt to how well it is going (JG:: idea of correction from muliple agents)\n",
    "\n",
    "\n"
   ]
  },
  {
   "cell_type": "markdown",
   "metadata": {},
   "source": [
    "Ok, that's it for Episode 0, now on to episode 1: "
   ]
  },
  {
   "cell_type": "code",
   "execution_count": 44,
   "metadata": {},
   "outputs": [
    {
     "data": {
      "text/html": [
       "<iframe width=\"560\" height=\"315\" src=\"https://www.youtube.com/embed/Ub1fE-bAroA\" title=\"YouTube video player\" frameborder=\"0\" allow=\"accelerometer; autoplay; clipboard-write; encrypted-media; gyroscope; picture-in-picture\" allowfullscreen></iframe>"
      ],
      "text/plain": [
       "<IPython.core.display.HTML object>"
      ]
     },
     "execution_count": 44,
     "metadata": {},
     "output_type": "execute_result"
    }
   ],
   "source": [
    "HTML('<iframe width=\"560\" height=\"315\" src=\"https://www.youtube.com/embed/Ub1fE-bAroA\" title=\"YouTube video player\" frameborder=\"0\" allow=\"accelerometer; autoplay; clipboard-write; encrypted-media; gyroscope; picture-in-picture\" allowfullscreen></iframe>')"
   ]
  },
  {
   "cell_type": "markdown",
   "metadata": {},
   "source": [
    "<h4>Episode 1</h4>\n",
    "\n",
    "Important to note that Episode 1 is not so much focused on HTM, rather it is a primer for working with bit array's. If you confortable working with programming languages where this comes up a bit, the advice is that this video could be skipped. Still, I found it quite handy. \n",
    "\n",
    "Important things to note in this video: \n",
    "\n",
    "* A bit here refers to a \"binary digit\" which can be thought of as the smallest unit of measurement used to quantify computer data. A bit can encode either a binary value 0 or 1. Be a little careful with this defintion, as the idea of a bit can be somewhat nuanced in the way it represented in Information Theory (see for discussion). For us, we are simply talking about a variable which can take on only 2 values, 0 or 1\n",
    "\n",
    "* You can think of the 0 or 1 as two states that bit can be in. People tend use different types of nomenclature to capture this idea: 1 or 0, on or off, true of false, etc. Whatever language is used, the value of bit tells about its state in regard to the possible values it can take on. \n",
    "\n",
    "* An ordered list of bits, which you might visualise as something like <b>00110011</b> is an example of <b>bit array</b>\n",
    "\n",
    "* Bit arrays are well suited to encode information. Consider that, if I have 8 bit array in which each bit could be the state of 0 or 1, I can create 256 unique 8 bit arrays (say, 00000000, 00000001, 00000011, etc). The math behind this is straight forward $2^8 = 256$, which is short hand for saying that there are 256 ways to arrange 8 values where each value can have a 0 or 1. \n",
    "\n",
    "* There are some basic operations that can take place with bit arrays: AND, OR and XOR. Each of these can be thought of a function that takes two bits and returns 1 bit. There is also a NOT operation that takes 1 bit as an input and returns 1 bit\n",
    "<br/>\n",
    "<br/><b>AND</b>: If both values are 1, this will return 1. \n",
    "<br/><b>OR</b>: The OR function takes two bits. If either of these is 1, the OR function will return 1\n",
    "<br/><b>XOR</b>: The XOR function enforces that they must be different values. If 1 and 0\n",
    "<br/><b>NOT</b>: The NOT function takes 1 bit, and returns \n",
    "<br/>\n",
    "<br/>Bit arrays can appear deceptively simple, here has an interesting histroy, and its something we will return to how extend ideas of HTM into Linear Algebra. The best resource I have come across is Norman Wildbergers YouTube series on Boolean Logic: <a href=\"https://www.youtube.com/watch?v=UcjKKcvv7Rw&list=PLIljB45xT85CnIGIWb7tH1F_S2PyOC8rb\">https://www.youtube.com/watch?v=UcjKKcvv7Rw&list=PLIljB45xT85CnIGIWb7tH1F_S2PyOC8rb</a>\n"
   ]
  },
  {
   "cell_type": "code",
   "execution_count": 45,
   "metadata": {},
   "outputs": [
    {
     "data": {
      "text/html": [
       "<iframe width=\"560\" height=\"315\" src=\"https://www.youtube.com/embed/ZDgCdWTuIzc\" title=\"YouTube video player\" frameborder=\"0\" allow=\"accelerometer; autoplay; clipboard-write; encrypted-media; gyroscope; picture-in-picture\" allowfullscreen></iframe>"
      ],
      "text/plain": [
       "<IPython.core.display.HTML object>"
      ]
     },
     "execution_count": 45,
     "metadata": {},
     "output_type": "execute_result"
    }
   ],
   "source": [
    "HTML('<iframe width=\"560\" height=\"315\" src=\"https://www.youtube.com/embed/ZDgCdWTuIzc\" title=\"YouTube video player\" frameborder=\"0\" allow=\"accelerometer; autoplay; clipboard-write; encrypted-media; gyroscope; picture-in-picture\" allowfullscreen></iframe>')"
   ]
  },
  {
   "cell_type": "markdown",
   "metadata": {},
   "source": [
    "<h4>Episode 3</h4>\n",
    "\n",
    "Episode 3 is really the start of discussing the specific components that inform HTM systems. Matt does a really interesting opening in this video, discussing the experience of considering what happens when we play a musical istrument. Complex feedback mechanism in play about how the neocortex copes with recieving input audiotry and motor input and is involved in planning music you are about to play, and feeds them down to lower regions of the cortex. The motor cortex contains SDRs that do muscle movement - small percentage will fire in response to top down sdr reprsent - SDR fill fire insequence, control movement. \n",
    "\n",
    "Important things to note in this video: \n",
    "\n",
    "* This video introduces some important nomenclature: <b>population</b> is the count of how many non-zero values are in a given bit array, and <b>size</b> refers to the total count of bits in a bit array. In HTM, population is often denoted as $w$ and size is often denoted as $n$. As an example, the bit array 00110011 has a population of 4 and size of 8 ($w = 4, n = 8$). \n",
    "\n",
    "* The term population is also synonomous with <b>active bits</b> of a a bit array. The terminology of 'active bits' seems to predominate through the related HTM literature. Its also sometimes called the hamming weight.\n",
    "\n",
    "* The number of active bits in a given bit array is of critical importance in HTM. For example, 00111111 has more active bits (or a greater population) that 00000111. This difference in bit arrays is often qualitavely described in terms of sparsity and density to respectively describe bit arrays with predominantly zeros or  predominantly ones. There is quanatitative metric associated with this which can be used as a measure of sparsity, or percentage of active bits in an array: \n",
    "<br/>\n",
    "$$ \\frac{\\text{active bits}}{\\text{array size}} \\times 100$$\n",
    "<br/>\n",
    "For example, in a bit array of size 256, where 6 bits are active (where $w=6$ and $n=256$), this sparsity metric is just over $2%$ and given its a very percentage, we would say sparse bit array.  \n",
    "<br/>\n",
    "\n",
    "* The idea of sparsity in bit arrays in in fact so important the HTM, that the term bit array is reframed as an idea of a <b>Sparse Distributed Array</b>, which is simpy bit array which has the characteristic of having a low number of active bits.\n",
    "\n",
    "* The Sparse Distributed Array (SDR) is the critical data structure in HTM, that comes into play across multiple parts of the underlying HTM algorithms. \n",
    "\n",
    "* We need to be careful, is it just ones, not really. An SDR has a size, a capacity, and active-bits\n",
    "\n",
    "* We can concieve of SDRs as semantic similiar or dissimilar. "
   ]
  },
  {
   "cell_type": "markdown",
   "metadata": {},
   "source": [
    "It is straightforward to create SDRs in Python. Here is an example of an SDR with $n = 256$, and $w = 8$:"
   ]
  },
  {
   "cell_type": "code",
   "execution_count": 51,
   "metadata": {},
   "outputs": [
    {
     "data": {
      "text/plain": [
       "array([0., 0., 0., 0., 0., 0., 0., 0., 0., 0., 0., 0., 0., 0., 0., 0., 0.,\n",
       "       0., 0., 0., 0., 0., 0., 0., 0., 0., 0., 0., 0., 0., 0., 0., 0., 0.,\n",
       "       0., 0., 0., 0., 0., 0., 0., 0., 0., 0., 0., 0., 0., 0., 0., 0., 0.,\n",
       "       0., 0., 0., 0., 0., 0., 0., 0., 0., 0., 0., 0., 0., 0., 0., 0., 0.,\n",
       "       0., 0., 0., 0., 0., 0., 0., 0., 0., 0., 0., 0., 0., 0., 0., 0., 0.,\n",
       "       0., 0., 0., 0., 0., 0., 0., 0., 0., 0., 0., 0., 0., 0., 0., 0., 0.,\n",
       "       0., 0., 0., 0., 0., 0., 0., 0., 0., 0., 0., 0., 0., 0., 0., 0., 0.,\n",
       "       0., 0., 0., 0., 0., 0., 0., 0., 0., 0., 0., 0., 0., 0., 0., 0., 0.,\n",
       "       0., 0., 0., 0., 0., 0., 0., 0., 0., 0., 0., 0., 0., 0., 0., 0., 0.,\n",
       "       0., 0., 0., 0., 0., 0., 0., 0., 0., 0., 0., 0., 0., 0., 0., 0., 0.,\n",
       "       0., 0., 0., 0., 0., 0., 0., 0., 0., 0., 0., 0., 0., 0., 0., 0., 0.,\n",
       "       0., 0., 0., 0., 0., 0., 0., 0., 0., 0., 0., 0., 0., 0., 0., 0., 0.,\n",
       "       0., 0., 0., 0., 0., 0., 0., 0., 0., 0., 0., 0., 0., 0., 0., 0., 0.,\n",
       "       0., 0., 0., 0., 0., 0., 0., 0., 0., 0., 0., 0., 0., 0., 0., 0., 0.,\n",
       "       0., 0., 0., 0., 0., 0., 0., 0., 0., 0., 1., 1., 1., 1., 1., 1., 1.,\n",
       "       1.])"
      ]
     },
     "execution_count": 51,
     "metadata": {},
     "output_type": "execute_result"
    }
   ],
   "source": [
    "a = np.zeros(256)\n",
    "a[248:] = 1\n",
    "a"
   ]
  },
  {
   "cell_type": "markdown",
   "metadata": {},
   "source": [
    "To provide more of an intuition of all this, let's build one of the HTM School visualisations. It will give us more of a sense of how it works, and we can build on this as we work through future HTM school videos.\n",
    "\n",
    "To do this, first we will need a function to create an SDR. To specify and SDR, all I really need to know is the overall size of the array, and which bits in the array (or which indicies in the array) are active, so let's build a function to do this: "
   ]
  },
  {
   "cell_type": "code",
   "execution_count": 47,
   "metadata": {},
   "outputs": [],
   "source": [
    "def create_randomised_sdr(sdr_size, number_of_active_bits):\n",
    "    sdr = set()\n",
    "    while len(sdr) < number_of_active_bits:\n",
    "        sdr.add(np.random.randint(low=1, high=sdr_size))\n",
    "\n",
    "    return(list(sdr))"
   ]
  },
  {
   "cell_type": "markdown",
   "metadata": {},
   "source": [
    "Let's try it out: I will use it to create a SDR of 1024 in which 32 bits are randomly set to active::"
   ]
  },
  {
   "cell_type": "code",
   "execution_count": 53,
   "metadata": {},
   "outputs": [
    {
     "data": {
      "text/plain": [
       "array([896,   2, 651, 656, 658, 146, 538, 798, 159, 294, 299, 687, 559,\n",
       "       946, 565, 566, 826, 193, 453, 197, 712, 330, 589, 726, 729, 735,\n",
       "       232, 622, 497, 629, 633, 638])"
      ]
     },
     "execution_count": 53,
     "metadata": {},
     "output_type": "execute_result"
    }
   ],
   "source": [
    "sdr_size = 1024\n",
    "active_bits = 32\n",
    "\n",
    "s1 = np.array(create_randomised_sdr(sdr_size, active_bits))\n",
    "s1"
   ]
  },
  {
   "cell_type": "markdown",
   "metadata": {},
   "source": [
    "Now the second visualisation function, to take this list of indices that each represent active bits and convert to a coordinates that I can plot on a grid: "
   ]
  },
  {
   "cell_type": "code",
   "execution_count": 54,
   "metadata": {},
   "outputs": [],
   "source": [
    "def convert_sdr_to_tuple_for_visualisation(sdr, sdr_size):    \n",
    "    counting_offset = 1\n",
    "    # create array of complete sdrs\n",
    "\n",
    "    m = np.zeros(sdr_size)\n",
    "    for i in sdr:\n",
    "        m[i] = m[i] + 1\n",
    "    \n",
    "    # find dimensions of visualisation\n",
    "    n = sp.symbols('n')\n",
    "    e = sp.Eq(2**n, sdr_size)\n",
    "    s = sp.solve(e, n)\n",
    "    middle_index = np.floor(float(s[0] / 2))\n",
    "    \n",
    "    if s[0] % 2 == 0:\n",
    "        dimensions = [2**middle_index, 2**middle_index]\n",
    "    else:\n",
    "        dimensions = [2**middle_index, 2**(middle_index + 1)]\n",
    "    \n",
    "    d = np.reshape(m, [int(v) for v in dimensions])\n",
    "    v = np.where(d == 1)\n",
    "\n",
    "    \n",
    "    coords = [(v[1][i], (dimensions[1] - counting_offset) - v[0][i]) for i in range(len(v[1]))]\n",
    "    \n",
    "    return(coords)"
   ]
  },
  {
   "cell_type": "markdown",
   "metadata": {},
   "source": [
    "Let's pass our SDR into this, and get some coordinates to plot: "
   ]
  },
  {
   "cell_type": "code",
   "execution_count": 55,
   "metadata": {},
   "outputs": [
    {
     "data": {
      "text/plain": [
       "[(2, 31.0),\n",
       " (18, 27.0),\n",
       " (31, 27.0),\n",
       " (1, 25.0),\n",
       " (5, 25.0),\n",
       " (8, 24.0),\n",
       " (6, 22.0),\n",
       " (11, 22.0),\n",
       " (10, 21.0),\n",
       " (5, 17.0),\n",
       " (17, 16.0),\n",
       " (26, 15.0),\n",
       " (15, 14.0),\n",
       " (21, 14.0),\n",
       " (22, 14.0),\n",
       " (13, 13.0),\n",
       " (14, 12.0),\n",
       " (21, 12.0),\n",
       " (25, 12.0),\n",
       " (30, 12.0),\n",
       " (11, 11.0),\n",
       " (16, 11.0),\n",
       " (18, 11.0),\n",
       " (15, 10.0),\n",
       " (8, 9.0),\n",
       " (22, 9.0),\n",
       " (25, 9.0),\n",
       " (31, 9.0),\n",
       " (30, 7.0),\n",
       " (26, 6.0),\n",
       " (0, 3.0),\n",
       " (18, 2.0)]"
      ]
     },
     "execution_count": 55,
     "metadata": {},
     "output_type": "execute_result"
    }
   ],
   "source": [
    "s2 = convert_sdr_to_tuple_for_visualisation(s1, sdr_size)\n",
    "s2"
   ]
  },
  {
   "cell_type": "markdown",
   "metadata": {},
   "source": [
    "Finally, let's plot it. Along the way, we will also create a function to format things nicely: "
   ]
  },
  {
   "cell_type": "code",
   "execution_count": 56,
   "metadata": {},
   "outputs": [],
   "source": [
    "def create_axis_for_sdr(ax, x_limit, y_limit, population, label, create_label = True):\n",
    "    \n",
    "    if create_label:\n",
    "        label_add = np.round((population / (x_limit * y_limit)) * 100, 2)\n",
    "        label = label + ' (Sparsity: {}%)'.format(label_add)\n",
    "        ax.set_xlabel(label)\n",
    "        \n",
    "    ax.set_xticks(range(int(x_limit)))\n",
    "    ax.set_yticks(range(int(y_limit)))\n",
    "    [ax.xaxis.get_major_ticks()[i].tick1line.set_color(\"white\") for i in range(int(x_limit))]\n",
    "    [ax.yaxis.get_major_ticks()[i].tick1line.set_color(\"white\") for i in range(int(y_limit))]\n",
    "    ax.set_yticklabels([])\n",
    "    ax.set_xticklabels([])\n",
    "    ax.grid(color='k', linestyle='-', linewidth=.5)\n",
    "    \n",
    "    return(ax)"
   ]
  },
  {
   "cell_type": "code",
   "execution_count": 57,
   "metadata": {},
   "outputs": [
    {
     "data": {
      "image/png": "[encoded data removed]",
      "text/plain": [
       "<Figure size 432x432 with 1 Axes>"
      ]
     },
     "metadata": {},
     "output_type": "display_data"
    }
   ],
   "source": [
    "fig, (ax1) = plt.subplots(1, 1, figsize=(6, 6))\n",
    "ax1 = create_axis_for_sdr(ax1, np.sqrt(sdr_size) + 1, np.sqrt(sdr_size) + 1, active_bits, \"SDR 1\")\n",
    "SDR1 = [ax1.add_patch(Rectangle(s2[i], 1, 1, color=\"blue\")) for i in range(len(s1))]"
   ]
  },
  {
   "cell_type": "markdown",
   "metadata": {},
   "source": [
    "So what is this visualisation showing us: it shows SDR that have been randomly intitialised with just under $3\\%$ of active bits. We could think of these paricular active bits in this SDR as representing some piece of information. If I run this again, I would get some other random SDR that might represent some other peice of information. \n",
    "\n",
    "A natural question that arises from all this is around <b>capacity</b>. If I assume that each SDR with 32 active bits and has size of 1024, how much information could this hold. In other words, how many ways are there to represent 23 objects in position of 1024. \n",
    "\n",
    "Such a question, is a classic combinatorics, known as the <b>binomial coeffient</b>, and turns up all over the place in mathematics. It can be denoted as:  \n",
    "\n",
    "$$\\binom{n}{w}$$ \n",
    "\n",
    "Let's use the SymPy library in Python to calculate this: "
   ]
  },
  {
   "cell_type": "code",
   "execution_count": 60,
   "metadata": {},
   "outputs": [
    {
     "data": {
      "text/latex": [
       "$\\displaystyle 4975934516475091945873053437980096233985625508261827213576160$"
      ],
      "text/plain": [
       "4975934516475091945873053437980096233985625508261827213576160"
      ]
     },
     "execution_count": 60,
     "metadata": {},
     "output_type": "execute_result"
    }
   ],
   "source": [
    "sp.binomial(1024, 32)"
   ]
  },
  {
   "cell_type": "markdown",
   "metadata": {},
   "source": [
    "Whether we say the number like this, or perhaps in $4.975934516475092e+60$ in scientific notation, its big and not really imaginable. Its not quite the number of atoms in the known universe (which we could put $10^{78}$) but its bit. \n",
    "\n",
    "Note I ahve been a bit too relaxed up to know about defining an SDR. idea of capacity is really, important in HTM. Also, we need to be careful about language, and SDR particular SDR, capacity, dealing with relationship to other things. \n",
    "\n",
    "But perhaps the critical takeaway here is that this technology of binomial coefficient tells us about encode lots of discrete bits of infromation. Generally in HTM, its normal to work with a size up to $n = 65000$ with a $2\\%$ capacity. So how many discrete SDRs might we be able to create in with those settings?"
   ]
  },
  {
   "cell_type": "code",
   "execution_count": 69,
   "metadata": {},
   "outputs": [
    {
     "data": {
      "text/plain": [
       "'405771486507482326157958196844594547311251156691794099541779943697348732532649154205636291938522406209808755229744031014820081239313551961586741608198485194832686377803078876182860025125806767904102331980018699162482934638902094494634331697906824041435602372675688661536471519795858611770163637086955034268669450464012038907135059035635996482414195189901966385782444759898075361005418169021306130115509613658280141264064411334078888436227520108979219963628138779488564958699083400242821750065593574061789935512471425078653429469848624727788421204335611819437863136764028826578104166719534245642339449986238434664841884857146521241772840982707804723402405677926834648744917056671966807400173502728748912796444561071112531700241807235923767262982657659952687445261702715501633709193701093119218205548464330396962673232120994956862305009951286252613029185680134700366545358675501705611035859950140096231335676263416861622919110841048295739014268116292444097498303389977997444545082320103799412795070385494064657215457750597601124053808339248836427861872258436724556313194908102394697736484049486195625412034525797584077007372784098329535635140284440033840923076763603316408980391525047453654749264749734364362714275761023419192050255763079654038534351674170437285967858358931724777748443336584631981509628765080550950401309286546130842083741969040505083494124271551126027411831292407983568306244798864284757353922149476806097956022960034770210281461829245699837229026635480389200545642477335381798977831497503072174167818857438060783855455002084000927003117819947476781503230454707391306820268454178085846961214394943024840651312859436259774700939087468713326354066499286309465857479793552636855428848579310480320541446087313831737696223651717925676710163226197379646284064637782272438556145097711182537201226238913943512504160622660020269485101833080850791584633887855524080579391664584604013677222069782815241586832230682494838519069549236744321663970756664036674040847027487706618117566240703276391679740894299971143156889445563612840083375666455633319426535144307362232660372953894527625990069452295650685339717390827853324830214623017439876680999148480933264292789244178178955228793085462045530662198881456947680003876716036790234152311675575906486525137838025154851088860687135216399570356037939583003839921685054204105597649422133029917932296871445714806427155755252084764897210391323034627524618852506223527414111605507018076478041571206922851120770935248271595054030839737589958005290839852120016623984568780745597490574515073553023822008463900070726484623696995443299523080656051393911974038243883410256569567723294988777582361815288423434619481737537830702853502635520932826657365993965881203394739047693573106569019295567132087474259693185231171397236321100'"
      ]
     },
     "execution_count": 69,
     "metadata": {},
     "output_type": "execute_result"
    }
   ],
   "source": [
    "str(sp.binomial(65000, 1300))"
   ]
  },
  {
   "cell_type": "markdown",
   "metadata": {},
   "source": [
    "So that is again so big its kind of meaningless, and certainly a number far greater than the numbrer of atoms in the known universe. "
   ]
  },
  {
   "cell_type": "markdown",
   "metadata": {},
   "source": [
    "<b>Comparing SDRs</b>\n",
    "\n",
    "SDRs become far more interesting when considered in comparison with one another. This means we could to take any 2 SDRs out of the however many there are in total in the big number above, and and compare them in same way. Later we will look at some more  comparisoncomplicated metrics, for now, I am going to consider something how any two might <b>overlap</b>. And by overlap, I am interested in considering any active bits that two SDRs have in common, I can do this by providing both SDRs to the OR function (which will provide both) and the AND function (where they are same). \n",
    "\n",
    "Let's create a function to compute union and overlap: \n"
   ]
  },
  {
   "cell_type": "code",
   "execution_count": 102,
   "metadata": {},
   "outputs": [],
   "source": [
    "def compute_union_and_overlap(SDR1_on_bits, SDR2_on_bits):\n",
    "    union = list(set(SDR1_on_bits).union(SDR2_on_bits))\n",
    "    overlap = list(set(SDR1_on_bits).intersection(SDR2_on_bits))\n",
    "    \n",
    "    return({\"union\": union, \"overlap\": overlap})"
   ]
  },
  {
   "cell_type": "markdown",
   "metadata": {},
   "source": [
    "Now, let's create 2 randomonly initialised SDRs, and a third that computes thier union and overlap, and plot everything. For this example, for the purposes of showing union and overlap, I will push the sparsity up to just under $10\\%$:"
   ]
  },
  {
   "cell_type": "code",
   "execution_count": 243,
   "metadata": {},
   "outputs": [
    {
     "data": {
      "image/png": "[encoded data removed]",
      "text/plain": [
       "<Figure size 1296x432 with 3 Axes>"
      ]
     },
     "metadata": {},
     "output_type": "display_data"
    }
   ],
   "source": [
    "sdr_size = 1024\n",
    "active_bits = 100\n",
    "\n",
    "s1 = create_randomised_sdr(sdr_size, active_bits)\n",
    "s2 = create_randomised_sdr(sdr_size, active_bits)\n",
    "s3 = compute_union_and_overlap(s1, s2)\n",
    "\n",
    "v1 = convert_sdr_to_tuple_for_visualisation(s1, sdr_size)\n",
    "v2 = convert_sdr_to_tuple_for_visualisation(s2, sdr_size)\n",
    "v3 = convert_sdr_to_tuple_for_visualisation(s3['union'], sdr_size)\n",
    "v4 = convert_sdr_to_tuple_for_visualisation(s3['overlap'], sdr_size)\n",
    "\n",
    "fig, (ax1, ax2, ax3) = plt.subplots(1, 3, figsize=(18, 6))\n",
    "ax1 = create_axis_for_sdr(ax1, np.sqrt(sdr_size) + 1, np.sqrt(sdr_size) + 1, len(s1), \"SDR 1\")\n",
    "ax2 = create_axis_for_sdr(ax2, np.sqrt(sdr_size) + 1, np.sqrt(sdr_size) + 1, len(s2), \"SDR 2\")\n",
    "ax3 = create_axis_for_sdr(ax3, np.sqrt(sdr_size) + 1, np.sqrt(sdr_size) + 1, len(s3['union']), \"Union and Overlap\")\n",
    "SDR1 = [ax1.add_patch(Rectangle(v1[i], 1, 1, color=\"blue\")) for i in range(len(v1))]\n",
    "SDR2 = [ax2.add_patch(Rectangle(v2[i], 1, 1, color=\"blue\")) for i in range(len(v2))]\n",
    "SDR3 = [ax3.add_patch(Rectangle(v3[i], 1, 1, color=\"gray\")) for i in range(len(v3))]\n",
    "SDR1 = [ax3.add_patch(Rectangle(v4[i], 1, 1, color=\"orange\")) for i in range(len(v4))]"
   ]
  },
  {
   "cell_type": "markdown",
   "metadata": {},
   "source": [
    "The first and second SDR are randomly initialised, and the third, shows the union of both SDRs togehter (in gray) and and specific active bit overlaps (in orange). As we might expect, the sparsity has increased and total number of active bits bits is now just under $18\\%$. \n",
    "mark. So we can say that resulting SDR has lower sparsity. The count of bits in orange who the overlap, meaning the count of bits that appear in both SDRs is called the <b>overlap score</b> of the 2 SDRs\n"
   ]
  },
  {
   "cell_type": "markdown",
   "metadata": {},
   "source": [
    "Of course, this is only two SDRs out of an awful lot of possibilities. It is worth verifying that this is pretty good representation of how SDRs in the size space might overlap. Let's do this same process over 100,000 iterations just the to check the above numbers are a good indiation of what is happening:  "
   ]
  },
  {
   "cell_type": "code",
   "execution_count": 244,
   "metadata": {},
   "outputs": [],
   "source": [
    "def create_and_compare_sdrs_over_multiple_iterations(iterations, sdr_size, population):\n",
    "    sdr_unions_for_comparison = []\n",
    "    sdr_overlaps_for_comparison = []\n",
    "    for x in range(iterations):\n",
    "        SDR1 = create_randomised_sdr(sdr_size, population)\n",
    "        SDR2 =create_randomised_sdr(sdr_size, population)\n",
    "        sdr_comparison = compute_union_and_overlap(SDR1, SDR2)\n",
    "        sdr_unions_for_comparison.append(len(sdr_comparison['union']))\n",
    "        sdr_overlaps_for_comparison.append(len(sdr_comparison['overlap']))\n",
    "    print(\"Average union: \", str(sum(sdr_unions_for_comparison) / len(sdr_unions_for_comparison)))\n",
    "    print(\"Average overlap: \", str(sum(sdr_overlaps_for_comparison) / len(sdr_overlaps_for_comparison)))\n",
    "    return({\"union_comparison\": sdr_unions_for_comparison, \"overlap_comparison\": sdr_overlaps_for_comparison})"
   ]
  },
  {
   "cell_type": "code",
   "execution_count": 245,
   "metadata": {},
   "outputs": [
    {
     "name": "stdout",
     "output_type": "stream",
     "text": [
      "Average union:  190.22395\n",
      "Average overlap:  9.77605\n"
     ]
    }
   ],
   "source": [
    "comparisons = create_and_compare_sdrs_over_multiple_iterations(100000, 1024, 100)"
   ]
  },
  {
   "cell_type": "markdown",
   "metadata": {},
   "source": [
    "This looks promising. Let's plot histograms for all the values too: "
   ]
  },
  {
   "cell_type": "code",
   "execution_count": 119,
   "metadata": {},
   "outputs": [
    {
     "data": {
      "image/png": "[encoded data removed]",
      "text/plain": [
       "<Figure size 864x432 with 2 Axes>"
      ]
     },
     "metadata": {},
     "output_type": "display_data"
    }
   ],
   "source": [
    "fig, (ax1, ax2) = plt.subplots(1, 2, figsize=(12, 6))\n",
    "ax1.set_xlabel(\"Histogram showing counts of union of bits\")\n",
    "ax2.set_xlabel(\"Histogram showing counts of overlaps of bits\")\n",
    "p1 = ax1.hist(comparisons['union_comparison'])\n",
    "p2 = ax2.hist(comparisons['overlap_comparison'])"
   ]
  },
  {
   "cell_type": "markdown",
   "metadata": {},
   "source": [
    "The more we run this, it feels like we are heading towards a normal distribution which we should expect and our single example in the evaluation is fairly representing of what is going on. "
   ]
  },
  {
   "cell_type": "markdown",
   "metadata": {},
   "source": [
    "<b>Matching SDRs</b><br/>\n",
    "\n",
    "In HTM, the idea of a <b>match</b> between 2 SDRs is when they have some count of overlapping bits, based on a <b>match threshhold</b> that we an set. We might require 2 SDRs to have $90\\%$ of overlapping bits to be a match. Or perhaps only $10\\%$ overlapping bits for us to consider them a match. For now, let's just understand the idea of a little more of a match that arises between 2 SDRs and we will create function to track this: "
   ]
  },
  {
   "cell_type": "code",
   "execution_count": 221,
   "metadata": {},
   "outputs": [],
   "source": [
    "def compute_match(SDR1_active_bits, SDR2_active_bits, sdr_size, match_threshold):\n",
    "    match = {}\n",
    "    match['overlap'] = len(compute_union_and_overlap(s1, s2)['overlap'])\n",
    "    match['overlap_as_percentage_of_sdr_size'] = (match['overlap'] / sdr_size) * 100\n",
    "    match['is_match'] = match_threshold < (match['overlap_as_percentage_of_sdr_size'])\n",
    "    \n",
    "    return(match)"
   ]
  },
  {
   "cell_type": "markdown",
   "metadata": {},
   "source": [
    "Now create some SDRs and see if we consider if they match based on a matching criteria we will provide of $10\\%$:"
   ]
  },
  {
   "cell_type": "code",
   "execution_count": 335,
   "metadata": {},
   "outputs": [],
   "source": [
    "sdr_size = 2048\n",
    "active_bits = 100\n",
    "matching_threshold = .1\n",
    "\n",
    "s1 = create_randomised_sdr(sdr_size, active_bits)\n",
    "s2 = create_randomised_sdr(sdr_size, active_bits)"
   ]
  },
  {
   "cell_type": "code",
   "execution_count": 336,
   "metadata": {},
   "outputs": [
    {
     "data": {
      "text/plain": [
       "{'overlap': 6,\n",
       " 'overlap_as_percentage_of_sdr_size': 0.29296875,\n",
       " 'is_match': True}"
      ]
     },
     "execution_count": 336,
     "metadata": {},
     "output_type": "execute_result"
    }
   ],
   "source": [
    "compute_match(s1, s2, sdr_size, matching_threshold)"
   ]
  },
  {
   "cell_type": "markdown",
   "metadata": {},
   "source": [
    "So for s1 and s2, they have 6 bits that overlap, or .29%. This is above our matching threshold of .1% \n",
    "\n",
    "<b>Noise tolerance of SDRs</b><br/>\n",
    "\n",
    "Let's consider another question, what  have set a match threshold and we have a match between two SDRs, if we then randomly bits SDRs (meaning we randomly turn some zeros to ones, and randomonly turn some ones to zeros), will this match still hold. If we were able to flip a substantial number of the bits and still have a match, this would suggest that the ability to create matches between SDRs is quite tolerant to noise.\n",
    "To explore this, first let's create a function to randomly flip bits"
   ]
  },
  {
   "cell_type": "code",
   "execution_count": 326,
   "metadata": {},
   "outputs": [],
   "source": [
    "def randomly_flip_percentage_of_bits(sdr, sdr_size, percentage_to_flip):\n",
    "    rd.shuffle(sdr)\n",
    "    count_of_bits_to_be_flipped = int(percentage_to_flip * len(sdr))\n",
    "    new_sdr = sdr[count_of_bits_to_be_flipped:]  \n",
    "    noise = create_randomised_sdr(sdr_size, count_of_bits_to_be_flipped)\n",
    "    sdr_with_noise = noise + new_sdr\n",
    "    return(sdr_with_noise)"
   ]
  },
  {
   "cell_type": "markdown",
   "metadata": {},
   "source": [
    "We have 2 SDRs already set up (s1 and s2), and they are match based on matching criteeria of []. Let's use our new function to randomly flip $40\\%$ of bits in s2"
   ]
  },
  {
   "cell_type": "code",
   "execution_count": 346,
   "metadata": {},
   "outputs": [],
   "source": [
    "sdr_size = 2048\n",
    "active_bits = 41\n",
    "matching_threshold = .1\n",
    "\n",
    "s1 = create_randomised_sdr(sdr_size, active_bits)\n",
    "s2 = randomly_flip_percentage_of_bits(s1.copy(), sdr_size, .33)"
   ]
  },
  {
   "cell_type": "markdown",
   "metadata": {},
   "source": [
    "Now let's see if the y"
   ]
  },
  {
   "cell_type": "code",
   "execution_count": 347,
   "metadata": {},
   "outputs": [
    {
     "data": {
      "text/plain": [
       "{'overlap': 29,\n",
       " 'overlap_as_percentage_of_sdr_size': 1.416015625,\n",
       " 'is_match': True}"
      ]
     },
     "execution_count": 347,
     "metadata": {},
     "output_type": "execute_result"
    }
   ],
   "source": [
    "compute_match(s1, s2, sdr_size, matching_threshold)"
   ]
  },
  {
   "cell_type": "markdown",
   "metadata": {},
   "source": [
    "Specs \n",
    "n = 2048\n",
    "w = 41\n",
    "spars = 0.02\n",
    "\n",
    "1 - generate the specs\n",
    "2 - generate the same SDR but flip 33% of the entries to noise\n",
    "3 - Look at the resulting overlap score \n",
    "\n",
    "So 33% of noise gives overlap of 28\n",
    "\n",
    "Leads to fuzzy matching - use a value $\\theta$ - threshold of overlap score\n",
    "\n",
    "We can dial theta up and down \n",
    "\n",
    "INteresting - you can set theta, then change noise - idea of how much noise we can add and still get a match....\n",
    "\n",
    "interesting...we can consider a formula of if something is a false postive - math means astronomical small percentage of a match.....SDRS\n",
    "\n",
    "Even when we dial up to 50%, we get hardly any change of a false positive\n",
    "\n",
    "SDRs have massive resistance to noise\n",
    "\n",
    "an then do noise for 32 x 64"
   ]
  },
  {
   "cell_type": "code",
   "execution_count": null,
   "metadata": {},
   "outputs": [],
   "source": []
  },
  {
   "cell_type": "markdown",
   "metadata": {},
   "source": [
    "<div style=\"background:#99ddff; color:black; padding: 10px\">\n",
    "<b>Add to these notes:</b>\n",
    "    \n",
    "What becomes apparent after doing is that it needs more rigor around the code. Ideally I want to pass in size SDR get specs, get overlap and union, set a threshold. It makes more sense to have and SDR class in python which can then have attributes\n",
    "</div>"
   ]
  },
  {
   "cell_type": "markdown",
   "metadata": {},
   "source": [
    "We have covered alot in this notebook"
   ]
  },
  {
   "cell_type": "code",
   "execution_count": null,
   "metadata": {},
   "outputs": [],
   "source": []
  }
 ],
 "metadata": {
  "kernelspec": {
   "display_name": "Python 3",
   "language": "python",
   "name": "python3"
  },
  "language_info": {
   "codemirror_mode": {
    "name": "ipython",
    "version": 3
   },
   "file_extension": ".py",
   "mimetype": "text/x-python",
   "name": "python",
   "nbconvert_exporter": "python",
   "pygments_lexer": "ipython3",
   "version": "3.7.3"
  }
 },
 "nbformat": 4,
 "nbformat_minor": 4
}
