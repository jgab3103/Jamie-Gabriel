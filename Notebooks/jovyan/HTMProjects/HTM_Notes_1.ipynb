{
 "cells": [
  {
   "cell_type": "markdown",
   "metadata": {},
   "source": [
    "<i>STATUS: Draft<i>"
   ]
  },
  {
   "cell_type": "code",
   "execution_count": 79,
   "metadata": {},
   "outputs": [],
   "source": [
    "import numpy as np\n",
    "import sympy as sp\n",
    "from IPython.display import HTML\n",
    "import matplotlib.pyplot as plt\n",
    "from matplotlib import animation\n",
    "from matplotlib.patches import Rectangle\n",
    "from IPython.display import Image\n"
   ]
  },
  {
   "cell_type": "markdown",
   "metadata": {},
   "source": [
    "<h3>HTM Overview</h3>\n",
    "\n",
    "Now that we are set up, let's start looking at the HTM itself. HTM approach to machine intellingence takes a differet approach, neual netowrks, in Machine Learning, the idea is usually to find some rule, finding a function, how to speed up getting some kind of function, and how to get to this rule as quickly as possible. We will use linear algebra, fit to a function ideas from calculus. \n",
    "\n",
    "HTM approaches in a different way. Rather than try and find a rule for a given data set whether it be supervised or unsupervised, it sets out to understand and build systems based on the principles of the human neocortex. "
   ]
  },
  {
   "cell_type": "markdown",
   "metadata": {},
   "source": [
    "<h4>Anatomy of the brain</h4>\n",
    "\n",
    "Fig. 1 shows an anatomy: "
   ]
  },
  {
   "cell_type": "code",
   "execution_count": 87,
   "metadata": {},
   "outputs": [],
   "source": [
    "#Image(filename='./Images/neocortex-image.png', width=400, height=400)"
   ]
  },
  {
   "cell_type": "markdown",
   "metadata": {},
   "source": [
    "To realy understand HTM, its  should give a sense of the size, an average human adult has between 20-30 billion neorons, state is what is on, and we find remarkably small percentate of bits are on - this is the \"State\" gnerally about 2% on at any given time. \n",
    "\n",
    "First question, what is a neuron? - \"fundamental unit of function in the in teh Central Nervous System (CNS)\n",
    "\n"
   ]
  },
  {
   "cell_type": "markdown",
   "metadata": {},
   "source": [
    "\n",
    "\n",
    "\n",
    "\n",
    "A good resource for this is to understand <a href=\"https://www.brainfacts.org/\">https://www.brainfacts.org/</a> <br/>By far, the best resource I have found is the notes at: \n",
    "<a href=\"https://www.learnmedicalneuroscience.nl/\">https://www.learnmedicalneuroscience.nl/</a>\n",
    "\n",
    "<h4>Anatomy of the neocortex</h4>\n",
    "\n",
    "asdfa"
   ]
  },
  {
   "cell_type": "markdown",
   "metadata": {},
   "source": [
    "<h4>Information processing in the neocortex</h4>\n",
    "\n",
    "Our neocortex accounts for around 75% of the brain's mass and has evolved in mammals, particularly humans. In HTM world, it is often described as around 2.5mm thick, scrunched up inside the human skull, similar to a dinner napkin. \n",
    "\n",
    "Many functions that human's undertake (such as eatings/sleeping/sex etc.) emanate from other parts of the brain. In contrast, the Neocortex holds memories, the notion of identity, intelligence, and is sometimes referred to as the \"seat of intelligence\". \n",
    "\n",
    "When examining the neocortex under a microscope, it turns out that the cellular structure in different regions is almost identical. This suggests that however the neocortex works, it has a similar approach to processing information of different modalities, such as visual / auditory  etc. When the neocortex solves any kind problem, the same cortical structure is always in ply, or the same algorithmic structure"
   ]
  },
  {
   "cell_type": "markdown",
   "metadata": {},
   "source": [
    "IMAGE OF REGIONS"
   ]
  },
  {
   "cell_type": "markdown",
   "metadata": {},
   "source": [
    "<h4>Regions of the Neocortex</h4>\n",
    "\n",
    "Neocotex has regions, of neocortex. Nerve fibers exist through white matter allowing information to come from lower levels through higher levels, sending output upwards. As informaiton moves through these regious, the ideas that the information represetns become more abstract and more permnanent. For exaple\n",
    "\n",
    "- Lowest level: edges and borders\n",
    "- Higher Level: shape recognition\n",
    "- Next highest Level: object recognition\n",
    "- Next highest level: ideas and memories\n",
    "\n",
    "\n",
    "Due to the structure of the neocortex, and the common process, it allows not to be concerned with the myriad wasy ways information comes into the neocortex and focus on how information is processed. Futhermore, because of the architecture, we can can focus on region as they are all the same. \n",
    "\n",
    "The critical data structure to understand HTM theory is the idea of a Sparse Distributed Representation (SDR).  key element, whehter on or off - can be rep as array as 1s and 0s whether it is active or not...taken from neuroscience - SDR - region and whether they are on or off....\n",
    "\n",
    "You need SDR as basic data strduure\n",
    "\n",
    "\n",
    "2 basic inputs into neocortex - 1 - motor commands copy gonig out of old brain and being sent to control muscles, coming in, copy goes into neocortex, so it can undertand how it interacting\n",
    "2 - sensory input, coming from all the, touch, smell etc. all copied and sent to neocortex - represetnation of what is happening in the world - provide sensory motor model, what is happening, and how it is interacting....eg optic nerve, sending new different pictures, provides continuity, data comes from our brains to provide this also\n",
    "\n",
    "HTM systems need sensory organse - sensory encoders - takes data type, converts into SDR, need to turn data type into SDR - all take some kind of data, converts them into SDR that system can understand. \n",
    "\n",
    "We can create encoders that have no biological counterpart - eg geocoding encoder. We can see its anomalies etd\n",
    "\n",
    "At heart of the theory is an aglorithm called temporal memory - learns patterns that are changing over time. Operates on motor commands and sens imput - temporal memory biggest different to standard ML. HTM starts with assumption tha teverything based on memory and recall of sequences of patterns. \n",
    "\n",
    "HTM systems learn continuous - no training set, no batch, model changes as data changes\n",
    "\n",
    "HTM build predictive model of the world, and adapt to how well it i going \n",
    "\n",
    "People working on neural networks over 50 years ago, sicne then things advanced, better understnadnign of biology, but still hasn't moved forward too much - ANNs (neural networks) stil not plausible \n",
    "\n",
    "HTM theory - evolving, made significant progress, even simulating 1 layer of 1 regions - this gives alot already - aim to build out into stofotware\n",
    "\n",
    "TO find out more.....\n",
    "On intelligence\n",
    "numenta.com/learn \n",
    "\n",
    "\n",
    "\n",
    "VIDEO 2: \n",
    "BIt Arrays...... Episode 1\n",
    "\n",
    "precursor to SDR\n",
    "\n",
    "01101101 - 8 bit array - on or off, positive or negative- find capacity\n",
    "\n",
    "2^8 = 256, 8 elements number of bits 2^n is capacity of array, how many states it can have \n",
    "\n",
    "we can start on right, move over so \n",
    "1 x 1\n",
    "2 x 0\n",
    "4 x 1\n",
    "8 X 1 etc...\n",
    "\n",
    "so number above is 109....bit array has no semantic value\n",
    "\n",
    "ascii - character format in 8 bit format - 01101101 = \"m\" - arbitrary\n",
    "bits don't mean anything....so example of asci has no semantic value\n",
    "\n",
    "Basic binary operations....OR - if either is 1, is 1\n",
    "\n",
    "AND - simmilair, both must be positive, both be 1's, \n",
    "\n",
    "Also XOR variation.....only 1 or the  other can be 1, exclusive OR\n",
    "\n",
    "NOT - everyting just becoes NOT\n",
    "\n",
    "\"Population\" - how mahy positive values in a bit array\n",
    "00110011 = \"4\", also called \"Hamming Weight\", number of non-zero symbols\n",
    "\n",
    "Bigger bit array.....256 bits\n",
    "\n",
    "2 ^ 256 - 1 with 77 zeros after that - so lots of different states\n",
    "\n",
    "Sparsity vs density\n",
    "\n",
    "50%/50% - very dense\n",
    "\n",
    "vs 4/256 - very sparse.....also has much less capacity - 2% has fewer \n",
    "\n",
    "could store 4 onbits in array in 256 array in about 175million ways\n",
    "\n",
    "Sparse array as a way of representing features - 4 bits that are on could be \n",
    "bit 1 - is musiciian\n",
    "bit 2 - femae\n",
    "bit 3 - alive\n",
    "bit 4 - african american\n",
    "\n",
    "Would represent manynot all \n",
    "\n",
    "Compression \n",
    "if you have 50% propbabiliy of bieing on or off, can't compress\n",
    "\n",
    "for sparse array, we can compress - all we need to store indices on on bits \n",
    "\n",
    "4 x 8 bits gives for 8 bit numbers from 256 array, so storable in 32 bits\n",
    "\n",
    "So we can compress efficiently. \n",
    "\n",
    "\n",
    "\n",
    "\n",
    "\n",
    "\n",
    "\n",
    "\n",
    "\n"
   ]
  },
  {
   "cell_type": "markdown",
   "metadata": {},
   "source": [
    "HTM SCHOOL 2 - SDR CAPACITY & COMPARISON\n",
    "\n",
    "Delve into SDRs - data structure of the brain \n",
    "\n",
    "USed everywere\n",
    "\n",
    "Example - musical instrument - as you listen, some neourons, active when they here specific freq - but most silence\n",
    "\n",
    "every region, sparse represetnatino of of world at any point in time....\n",
    "\n",
    "At other end of scale, frontal cortex is about planning music you are about to play - creates SDRs that represents that plan, and feeds them down to lower regions of the cortex\n",
    "\n",
    "MOtor cortex contains sdrs that do muscle movement - small percentage will fire in response to top down sdr reprsent - SDR fill fire insequence, control movement\n",
    "\n",
    "THrough SDRs, predict how muscle morevment will create sound - being used for every aspect of cognition, every sensory modality....\n",
    "\n",
    "First....terms\n",
    "\n",
    "WE HAVE GRIDS - \n",
    "\n",
    "n = 256, is array length, 256 boxes\n",
    "w = 5, populatio nof array, number of on bits\n",
    "sparsity is percentage of bits that are on....sometimes called density, we call it sparsity\n",
    "\n",
    "\n",
    "SDR Capacity\n",
    "\n",
    "2^size_of_bits is capacity....\n",
    "\n",
    "But sparse arrays have less apacity, on bits restricted...\n",
    "\n",
    "SDRS less capabily of holding info.....capacity formular is binomial $\\binom{n}{w}$ gives us an amaount of capacity"
   ]
  },
  {
   "cell_type": "markdown",
   "metadata": {},
   "source": [
    "IN array of 256 bits and 5 on we can store 8809549056 values....very high\n",
    "\n",
    "We can dial down and up - formula for SDR capacity involves \n",
    "\n",
    "NOt complicated, gives way to understand how many values ot  put in....\n",
    "\n",
    "As we dial up sparsity, more onbits, capcity starts to grow\n",
    "\n",
    "Consider arrray of sparsity 40/2048, has enormous capacity - this is our entry point - 2048/40 is the smallest.....generally we go up to 65000 value of n, but keep sparsity at 2%\n",
    "\n",
    "Can represent massive amount of different values in SDRs\n",
    "\n",
    "Now let's look at comparisn idea\n",
    "\n",
    "n: 1024\n",
    "w: 103\n",
    "sparsit = .10\n",
    "\n",
    "Consider idea of generating 2 SDRs with these specs, and then look at their overlap in a third SDR\n",
    "\n",
    "We can consider overlap (AND), union (UNION) -\n",
    "\n",
    "Overall tell us where they are the same - gives an overlap score - how many they have in common\n",
    "\n",
    "We could do OR/UNION - in these specs, we see the sparsity almost double. \n",
    "\n",
    "Also can do copare, where we put them on same grid, and colored differntly, highlighinting where colors the same\n",
    "\n",
    "Unions/Overlaps become really important that we can leverage off....\n",
    "\n",
    "We can also set this up to show noise tollerance across a vis of 3 arrays\n",
    "\n",
    "Specs \n",
    "n = 2048\n",
    "w = 41\n",
    "spars = 0.02\n",
    "\n",
    "1 - generate the specs\n",
    "2 - generate the same SDR but flip 33% of the entries to noise\n",
    "3 - Look at the resulting overlap score \n",
    "\n",
    "So 33% of noise gives overlap of 28\n",
    "\n",
    "Leads to fuzzy matching - use a value $\\theta$ - threshold of overlap score\n",
    "\n",
    "We can dial theta up and down \n",
    "\n",
    "INteresting - you can set theta, then change noise - idea of how much noise we can add and still get a match....\n",
    "\n",
    "interesting...we can consider a formula of if something is a false postive - math means astronomical small percentage of a match.....SDRS\n",
    "\n",
    "Even when we dial up to 50%, we get hardly any change of a false positive\n",
    "\n",
    "SDRs have massive resistance to noise"
   ]
  },
  {
   "cell_type": "code",
   "execution_count": 39,
   "metadata": {},
   "outputs": [],
   "source": [
    "def create_on_bit(x_limit, y_limit):\n",
    "    return(plt.gca().add_patch(Rectangle((np.random.randint(low=1, high=x_limit),np.random.randint(low=1, high=y_limit)),1,1,linewidth=1,edgecolor='b',facecolor='blue')))\n",
    "    "
   ]
  },
  {
   "cell_type": "code",
   "execution_count": 77,
   "metadata": {},
   "outputs": [
    {
     "data": {
      "image/png": "[encoded data removed]",
      "text/plain": [
       "<Figure size 360x360 with 1 Axes>"
      ]
     },
     "metadata": {},
     "output_type": "display_data"
    }
   ],
   "source": [
    "sdr_size = 1024\n",
    "population = 103\n",
    "label = str(np.round(sdr_size/population, 3))\n",
    "fig, ax = plt.subplots(figsize=(5, 5))\n",
    "plt.xlabel('SDR Sparsity: {}'.format(label))\n",
    "\n",
    "\n",
    "ax.set_xticks(range(32))\n",
    "ax.set_yticks(range(32))\n",
    "[ax.xaxis.get_major_ticks()[i].tick1line.set_color(\"white\") for i in range(32)]\n",
    "[ax.yaxis.get_major_ticks()[i].tick1line.set_color(\"white\") for i in range(32)]\n",
    "\n",
    "plt.xticks(color='w')\n",
    "plt.yticks(color='w')\n",
    "\n",
    "\n",
    "plt.grid(color='k', linestyle='-', linewidth=.5)\n",
    "\n",
    "r = [create_on_bit(np.sqrt(sdr_size), np.sqrt(sdr_size)) for i in range(population)]"
   ]
  },
  {
   "cell_type": "code",
   "execution_count": null,
   "metadata": {},
   "outputs": [],
   "source": []
  }
 ],
 "metadata": {
  "kernelspec": {
   "display_name": "Python 3",
   "language": "python",
   "name": "python3"
  },
  "language_info": {
   "codemirror_mode": {
    "name": "ipython",
    "version": 3
   },
   "file_extension": ".py",
   "mimetype": "text/x-python",
   "name": "python",
   "nbconvert_exporter": "python",
   "pygments_lexer": "ipython3",
   "version": "3.7.3"
  }
 },
 "nbformat": 4,
 "nbformat_minor": 4
}
