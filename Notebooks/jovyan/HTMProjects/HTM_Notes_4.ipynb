{
 "cells": [
  {
   "cell_type": "markdown",
   "metadata": {},
   "source": [
    "<i>STATUS: Draft<i>"
   ]
  },
  {
   "cell_type": "code",
   "execution_count": 267,
   "metadata": {},
   "outputs": [],
   "source": [
    "import numpy as np\n",
    "import sympy as sp\n",
    "from IPython.display import HTML\n",
    "import matplotlib.pyplot as plt\n",
    "from matplotlib import animation\n",
    "from matplotlib.patches import Rectangle\n",
    "from IPython.display import Image\n",
    "import sys\n"
   ]
  },
  {
   "cell_type": "markdown",
   "metadata": {},
   "source": [
    "In the last notebook, we finished getting a basic handle on SDRs. We are now ready to start using htm.core a little, and also I will take the opportunity to clean up functions that I have created. \n",
    "\n",
    "We have some funtions that are to create SDRs, create noise. Let's first group the functions, to clean up mostly around making the visualisation, to pass SDRs of any size and getting coordinates. From here will start to build out a code base but also show along the way how we can use something more sophisticated. It seems a right of passage in HTM to build your own implementation, so we will use code for that, but htm.core will be what you want for production.\n",
    "\n",
    "I will also start to look at various functions in the htm.core so we can use similiar types of language as we build things. \n",
    "\n",
    "Everything here is quite similiar, I made the visualise function more general "
   ]
  },
  {
   "cell_type": "code",
   "execution_count": 508,
   "metadata": {},
   "outputs": [],
   "source": [
    "#################### SINGLE SDR FUNCTIONS ###################################################\n",
    "\n",
    "\n",
    "def create_randomised_sdr(capacity, population):\n",
    "    sdr = set()\n",
    "    while len(sdr) < population:\n",
    "        sdr.add(np.random.randint(low=1, high=capacity))\n",
    "\n",
    "    return(list(sdr))\n",
    "\n",
    "\n",
    "def randomly_flip_percentage_of_bits(SDR, array_size, percentage_to_flip):\n",
    "    to_remove = int(percentage_to_flip * len(SDR))\n",
    "    randomised_SDR = np.random.shuffle(SDR)\n",
    "    del SDR[0:to_remove]\n",
    "    noise = create_randominsed_sdr(np.sqrt(array_size), np.sqrt(array_size), to_remove)\n",
    "    sdr_with_noise = noise + SDR\n",
    "    return(sdr_with_noise)\n",
    "\n",
    "\n",
    "\n",
    "############## MULTIPLE SDR FUNCTIONS ###################################################\n",
    "def compute_union_and_overlap(SDR1_on_bits, SDR2_on_bits):\n",
    "    union = list(set(SDR1_on_bits).union(SDR2_on_bits))\n",
    "    overlap = list(set(SDR1_on_bits).intersection(SDR2_on_bits))\n",
    "    \n",
    "    return({\"union\": union, \"overlap\": overlap})\n",
    "\n",
    "def create_and_compare_sdrs_over_multiple_iterations(iterations, sdr_size, population):\n",
    "    sdr_unions_for_comparison = []\n",
    "    sdr_overlaps_for_comparison = []\n",
    "    for x in range(iterations):\n",
    "        SDR1 = create_randominsed_sdr(sdr_size, population)\n",
    "        SDR2 =create_randominsed_sdr(sdr_size, population)\n",
    "        sdr_comparison = compute_union_and_overlap(SDR1, SDR2)\n",
    "        sdr_unions_for_comparison.append(len(sdr_comparison['union']))\n",
    "        sdr_overlaps_for_comparison.append(len(sdr_comparison['overlap']))\n",
    "    print(\"Average union: \", str(sum(sdr_unions_for_comparison) / len(sdr_unions_for_comparison)))\n",
    "    print(\"Average overlap: \", str(sum(sdr_overlaps_for_comparison) / len(sdr_overlaps_for_comparison)))\n",
    "    return({\"union_comparison\": sdr_unions_for_comparison, \"overlap_comparison\": sdr_overlaps_for_comparison})\n",
    "\n",
    "def compute_overlap_set_cardinality(n, w0, w1, b, provide_summary = True):\n",
    "    on_bit_space = sp.binomial(w0, b)\n",
    "    off_bit_space = sp.binomial(n - w0, w1 - b)\n",
    "    overlap_set = on_bit_space * off_bit_space\n",
    "    if provide_summary:\n",
    "        print(\"Given a capcity of\", str(w0), \"bits in the on-bit space, the number of ways to arrange \", str(b), \"on-bits: \", on_bit_space)\n",
    "        print(\"Given a capacity\", str(n - w0), \"bits in the off-bit space, the number of ways to arrange\", str(w1 - b), \"off-bits: \", off_bit_space)\n",
    "        print(\"Number of SDRs that will match w0: \", overlap_set)\n",
    "    return(overlap_set)\n",
    "\n",
    "######################## VISUALISATION FUNCTIONS ############################################\n",
    "\n",
    "\n",
    "def create_axis_for_sdr(ax, x_limit, y_limit, population, label, create_label = True):\n",
    "    \n",
    "    if create_label:\n",
    "        label_add = np.round((population / (x_limit * y_limit)) * 100, 2)\n",
    "        label = label + ' (Sparsity: {}%)'.format(label_add)\n",
    "        ax.set_xlabel(label)\n",
    "        \n",
    "    ax.set_xticks(range(int(x_limit)))\n",
    "    ax.set_yticks(range(int(y_limit)))\n",
    "    [ax.xaxis.get_major_ticks()[i].tick1line.set_color(\"white\") for i in range(int(x_limit))]\n",
    "    [ax.yaxis.get_major_ticks()[i].tick1line.set_color(\"white\") for i in range(int(y_limit))]\n",
    "    ax.set_yticklabels([])\n",
    "    ax.set_xticklabels([])\n",
    "    ax.grid(color='k', linestyle='-', linewidth=.5)\n",
    "    \n",
    "    return(ax)\n",
    "\n",
    "\n",
    "def convert_sdr_to_tuple_for_visualisation(sdr, sdr_size):\n",
    "    \n",
    "    counting_offset = 1\n",
    "    # create array of complete sdrs\n",
    "\n",
    "    m = np.zeros(sdr_size)\n",
    "    for i in sdr:\n",
    "        m[i] = m[i] + 1\n",
    "    \n",
    "    # find dimensions of visualisation\n",
    "    n = sp.symbols('n')\n",
    "    e = sp.Eq(2**n, sdr_size)\n",
    "    s = sp.solve(e, n)\n",
    "    middle_index = np.floor(float(s[0] / 2))\n",
    "    \n",
    "    if s[0] % 2 == 0:\n",
    "        dimensions = [2**middle_index, 2**middle_index]\n",
    "    else:\n",
    "        dimensions = [2**middle_index, 2**(middle_index + 1)]\n",
    "    \n",
    "    d = np.reshape(m, [int(v) for v in dimensions])\n",
    "    \n",
    "    v = np.where(d == 1)\n",
    "\n",
    "    \n",
    "    coords = [(v[1][i], (dimensions[1] - counting_offset) - v[0][i]) for i in range(len(v[1]))]\n",
    "    \n",
    "\n",
    "    \n",
    "    return(coords)\n"
   ]
  },
  {
   "cell_type": "code",
   "execution_count": 509,
   "metadata": {},
   "outputs": [
    {
     "data": {
      "image/png": "[encoded data removed]",
      "text/plain": [
       "<Figure size 432x432 with 1 Axes>"
      ]
     },
     "metadata": {},
     "output_type": "display_data"
    }
   ],
   "source": [
    "sdr_size = 16\n",
    "population = 3\n",
    "#label = str(np.round(sdr_size/population, 3))\n",
    "\n",
    "specs1 = create_randomised_sdr(sdr_size, population)\n",
    "\n",
    "\n",
    "fig, (ax1) = plt.subplots(1, 1, figsize=(6, 6))\n",
    "\n",
    "ax1 = create_axis_for_sdr(ax1, np.sqrt(sdr_size) + 1, np.sqrt(sdr_size) + 1, population, \"SDR 1\")\n",
    "\n",
    "coords = convert_sdr_to_tuple_for_visualisation(specs1, sdr_size)\n",
    "\n",
    "\n",
    "SDR1 = [ax1.add_patch(Rectangle(coords[i], 1, 1, color=\"blue\")) for i in range(len(specs1))]\n",
    "SDR1 = ax1.add_patch(Rectangle([0,3], 1, 1, color=\"orange\")) "
   ]
  },
  {
   "cell_type": "code",
   "execution_count": 510,
   "metadata": {},
   "outputs": [
    {
     "data": {
      "image/png": "[encoded data removed]",
      "text/plain": [
       "<Figure size 1296x288 with 4 Axes>"
      ]
     },
     "metadata": {},
     "output_type": "display_data"
    }
   ],
   "source": [
    "sdr_size = 256\n",
    "population = 8\n",
    "#label = str(np.round(sdr_size/population, 3))\n",
    "\n",
    "specs1 = create_randomised_sdr(sdr_size, population)\n",
    "specs2 = create_randomised_sdr(sdr_size, population)\n",
    "\n",
    "x_vals, y_vals = sdr_comparison = compute_union_and_overlap(specs1, specs2)\n",
    "\n",
    "fig, (ax1, ax2, ax3, ax4) = plt.subplots(1, 4, figsize=(18, 4))\n",
    "\n",
    "ax1 = create_axis_for_sdr(ax1, np.sqrt(sdr_size) + 1, np.sqrt(sdr_size) + 1, population, \"SDR 1\")\n",
    "ax2 = create_axis_for_sdr(ax2, np.sqrt(sdr_size) + 1, np.sqrt(sdr_size) + 1, population, \"SDR 2\")\n",
    "ax3 = create_axis_for_sdr(ax3, np.sqrt(sdr_size) + 1, np.sqrt(sdr_size) + 1, population, \"SDR 2\")\n",
    "ax4 = create_axis_for_sdr(ax4, np.sqrt(sdr_size) + 1, np.sqrt(sdr_size) + 1, len(sdr_comparison['union']), \"Overlap (AND) and Union (OR)\")\n",
    "\n",
    "\n",
    "SDR1 = [ax1.add_patch(Rectangle(convert_sdr_to_tuple_for_visualisation(specs1, sdr_size)[i], 1, 1, color=\"blue\")) for i in range(len(vis))]\n",
    "SDR2 = [ax2.add_patch(Rectangle(convert_sdr_to_tuple_for_visualisation(specs2, sdr_size)[i], 1, 1, color=\"blue\")) for i in range(len(specs2))]\n",
    "SDR3 = ax4.add_patch(Rectangle([1,15], 1, 1, color=\"blue\"))\n",
    "#union = [ax3.add_patch(Rectangle(sdr_comparison['union'][i], 1, 1, color=\"gray\")) for i in range(len(sdr_comparison['union']))]\n",
    "# overlap = [ax3.add_patch(Rectangle(sdr_comparison['overlap'][i], 1, 1, color=\"orange\")) for i in range(len(sdr_comparison['overlap']))]\n"
   ]
  },
  {
   "cell_type": "markdown",
   "metadata": {},
   "source": [
    "Looks like things still work. Now let's move on to the idea of an encoder. THer is a videa for this which is very handy, we know that SDRs are a powerful way to get data, but how do take data that we experience in the real world and put it into this format. Start with the HTM shcool video: "
   ]
  },
  {
   "cell_type": "code",
   "execution_count": 511,
   "metadata": {},
   "outputs": [
    {
     "data": {
      "text/html": [
       "<iframe width=\"560\" height=\"315\" src=\"https://www.youtube.com/embed/V3Yqtpytif0\" title=\"YouTube video player\" frameborder=\"0\" allow=\"accelerometer; autoplay; clipboard-write; encrypted-media; gyroscope; picture-in-picture\" allowfullscreen></iframe>"
      ],
      "text/plain": [
       "<IPython.core.display.HTML object>"
      ]
     },
     "execution_count": 511,
     "metadata": {},
     "output_type": "execute_result"
    }
   ],
   "source": [
    "HTML('<iframe width=\"560\" height=\"315\" src=\"https://www.youtube.com/embed/V3Yqtpytif0\" title=\"YouTube video player\" frameborder=\"0\" allow=\"accelerometer; autoplay; clipboard-write; encrypted-media; gyroscope; picture-in-picture\" allowfullscreen></iframe>')"
   ]
  },
  {
   "cell_type": "markdown",
   "metadata": {},
   "source": [
    "At this point to we are going to start uisng the BAMI resource found at: [HERE]\n",
    "\n",
    "1. Semantically similar data should result in SDRs with overlapping active bits.\n",
    "\n",
    "2. The same input should always produce the same SDR as output.\n",
    "\n",
    "3. The output should have the same dimensionality (total number of bits) for all inputs.\n",
    "\n",
    "4. The output should have similar sparsity for all inputs and have enough one-bits to handle noise and\n",
    "    subsampling.\n",
    "    \n",
    "\n",
    "<b>Semantically similar data should result in SDRs with overlapping active bits.</b><br/>\n",
    "\n",
    "To create an effective encoder, you must understand the aspects of your data that should contribute to similarity. In the cochlea example above, the encoder was designed to make sounds with similar pitch have similar representations but did not take into account how loud the sounds were, which would require a different approach.\n",
    "\n",
    "The first step to designing an encoder is to determine each of the aspects of the data that you want to capture. For sound, the key features may be pitch and amplitude; for dates, it may be whether or not it is a weekend.\n",
    "\n",
    "The encoder should create representations that overlap for inputs that are similar in one or more of the characteristics of the data that were chosen. So for weekend encoders, dates that fall on Saturdays and Sundays should overlap with each other, but not as much or at all with dates that fall on weekdays.\n",
    "\n",
    "<b>The same input should always produce the same SDR as output</b><br/>\n",
    "\n",
    "Encoders should be deterministic so that the same input produces the same output every time. Without this property, the sequences learned in an HTM system will become obsolete as the encoded representations for values change. Avoid creating encoders with random or adaptive elements.\n",
    "It can be tempting to create adaptive encoders that adjust representations to handle input data with an unknown range. There is a way to design an encoder to handle this case without changing the representations of inputs that is described below in the section labeled “A more flexible encoder method.” This method allows encoders to handle input with unbounded or unknown ranges.\n",
    "\n",
    "\n",
    "<b>The output should have the same dimensionality (total number of bits) for all inputs</b><br/>\n",
    "\n",
    "The output of an encoder must always produce the same number of bits for each of its inputs. SDRs are compared and operated on using a bit-by-bit assumption such that a bit with a certain “meaning” is always in the same position. If the encoders produced varying bit lengths for the SDRs, comparisons and other operations would not be possible.\n",
    "\n",
    "<b>The output should have similar sparsity for all inputs and have enough one-bits to handle noise and subsampling</b><br/>\n",
    "\n",
    "The fraction of total ON bits in an encoder can vary from around 1% to 35%, but the sparsity should be relatively fixed for a given application of an encoder. While keeping the sparsity the same should be the rule, small variations in sparsity will not have a negative effect.\n",
    "Additionally, there must be enough one-bits to handle noise and subsampling. A general rule of thumb is to have at least 20-25 one bits. Encoders that produce representations with fewer than 20 one bits do not work well in HTM systems since they may become extremely susceptible to errors due to small amounts of noise or non-determinism."
   ]
  },
  {
   "cell_type": "markdown",
   "metadata": {},
   "source": [
    "\n"
   ]
  },
  {
   "cell_type": "markdown",
   "metadata": {},
   "source": [
    "Let's build an encorder and start with numbers, numbers are bit overly simple. For an input space a grid like above, how many buckets can \n"
   ]
  },
  {
   "cell_type": "code",
   "execution_count": 512,
   "metadata": {},
   "outputs": [],
   "source": [
    "def compute_bucket_capacity(n, w):\n",
    "    bucket_capacity = n - w + 1\n",
    "    \n",
    "    return(bucket_capacity)"
   ]
  },
  {
   "cell_type": "markdown",
   "metadata": {},
   "source": [
    "An intuitive way to think about this is is 400 bits in my outputs space. If i have a bucket size of 1 how many bits can this encode? If I wanted each integer represetned"
   ]
  },
  {
   "cell_type": "code",
   "execution_count": 513,
   "metadata": {},
   "outputs": [
    {
     "data": {
      "text/plain": [
       "400"
      ]
     },
     "execution_count": 513,
     "metadata": {},
     "output_type": "execute_result"
    }
   ],
   "source": [
    "compute_bucket_capacity(400, 1)"
   ]
  },
  {
   "cell_type": "markdown",
   "metadata": {},
   "source": [
    "Alternatively, what if I wanted every integer represented  with a number of of bits: "
   ]
  },
  {
   "cell_type": "code",
   "execution_count": 516,
   "metadata": {},
   "outputs": [],
   "source": [
    "class CreateEncoder:\n",
    "    def __init__(self, bit_space_size = 64,\n",
    "                number_of_bits_per_value = 5,\n",
    "                min_val = 0,\n",
    "                max_val = 100):\n",
    "        self.bit_space_size = bit_space_size\n",
    "        self.number_of_bits_per_value = number_of_bits_per_value\n",
    "        self.min_value_to_encode = min_val\n",
    "        self.max_value_to_encode = max_val\n",
    "        self.buckets = self.compute_bucket_capacity(self.bit_space_size, self.number_of_bits_per_value)\n",
    "        self.offset = 1\n",
    "        self.current_encoded_value = None\n",
    "        self.previously_encoded_values = np.array([])\n",
    "        self.is_periodic = False\n",
    "    \n",
    "    def compute_bucket_capacity(self, n, w):\n",
    "        return(n - w + 1)\n",
    "    \n",
    "    def create_encoded_array(self):\n",
    "        pass\n",
    "    \n",
    "    def get_location_of_value(self, v):\n",
    "        if self.current_encoded_value is not None:\n",
    "            self.previously_encoded_values = np.append(self.previously_encoded_values, self.current_encoded_value)\n",
    "        \n",
    "        self.current_encoded_value = v\n",
    "        window = [self.current_encoded_value , self.current_encoded_value + self.number_of_bits_per_value - self.offset ]\n",
    "        all_values = np.arange(window[0], window[1] + self.offset)\n",
    "        return(all_values)\n",
    "    \n",
    "    def set_number_of_output_bits(self, n):\n",
    "        pass\n",
    "        \n",
    "        \n",
    "f = CreateEncoder()     "
   ]
  },
  {
   "cell_type": "code",
   "execution_count": 517,
   "metadata": {},
   "outputs": [
    {
     "data": {
      "image/png": "[encoded data removed]",
      "text/plain": [
       "<Figure size 432x432 with 1 Axes>"
      ]
     },
     "metadata": {},
     "output_type": "display_data"
    }
   ],
   "source": [
    "\n",
    "sdr_size = 16\n",
    "population = 2\n",
    "\n",
    "specs1 = f.get_location_of_value(4)\n",
    "\n",
    "\n",
    "fig, (ax1) = plt.subplots(1, 1, figsize=(6, 6))\n",
    "\n",
    "ax1 = create_axis_for_sdr(ax1, np.sqrt(sdr_size) + 1, np.sqrt(sdr_size) + 1, population, \"SDR 1\")\n",
    "\n",
    "t = convert_sdr_to_tuple_for_visualisation(specs1, sdr_size)\n",
    "\n",
    "SDR1 = [ax1.add_patch(Rectangle(convert_sdr_to_tuple_for_visualisation(specs1, sdr_size)[i], 1, 1, color=\"blue\")) for i in range(len(specs1))]\n"
   ]
  },
  {
   "cell_type": "code",
   "execution_count": null,
   "metadata": {},
   "outputs": [],
   "source": []
  },
  {
   "cell_type": "code",
   "execution_count": 401,
   "metadata": {},
   "outputs": [
    {
     "data": {
      "text/plain": [
       "array([22, 23])"
      ]
     },
     "execution_count": 401,
     "metadata": {},
     "output_type": "execute_result"
    }
   ],
   "source": [
    "f.get_location_of_value(22)"
   ]
  },
  {
   "cell_type": "code",
   "execution_count": 402,
   "metadata": {},
   "outputs": [
    {
     "data": {
      "text/plain": [
       "array([ 9., 22.,  9.])"
      ]
     },
     "execution_count": 402,
     "metadata": {},
     "output_type": "execute_result"
    }
   ],
   "source": [
    "f.previously_encoded_values"
   ]
  },
  {
   "cell_type": "code",
   "execution_count": null,
   "metadata": {},
   "outputs": [],
   "source": []
  },
  {
   "cell_type": "code",
   "execution_count": 44,
   "metadata": {},
   "outputs": [
    {
     "data": {
      "text/plain": [
       "8"
      ]
     },
     "execution_count": 44,
     "metadata": {},
     "output_type": "execute_result"
    }
   ],
   "source": [
    "n = 12\n",
    "w = 4\n",
    "min_value = 0\n",
    "max_value = 55\n",
    "\n",
    "scaler_value_to_encode = 50\n",
    "\n",
    "compare_periodic = False\n",
    "use_periodic_encoder = False\n",
    "\n",
    "# number of buckets - places to put stuff in\n",
    "n - w\n",
    "\n",
    "# should automatically \n",
    "\n",
    "# 1. create possible buckets\n",
    "# 2. assign all values to buckets\n",
    "# 3. look at comparison values, adjacent or not"
   ]
  },
  {
   "cell_type": "code",
   "execution_count": 68,
   "metadata": {},
   "outputs": [
    {
     "data": {
      "text/latex": [
       "$\\displaystyle 58738.78125 \\pi$"
      ],
      "text/plain": [
       "58738.78125*pi"
      ]
     },
     "execution_count": 68,
     "metadata": {},
     "output_type": "execute_result"
    }
   ],
   "source": []
  },
  {
   "cell_type": "code",
   "execution_count": null,
   "metadata": {},
   "outputs": [],
   "source": []
  }
 ],
 "metadata": {
  "kernelspec": {
   "display_name": "Python 3",
   "language": "python",
   "name": "python3"
  },
  "language_info": {
   "codemirror_mode": {
    "name": "ipython",
    "version": 3
   },
   "file_extension": ".py",
   "mimetype": "text/x-python",
   "name": "python",
   "nbconvert_exporter": "python",
   "pygments_lexer": "ipython3",
   "version": "3.7.3"
  }
 },
 "nbformat": 4,
 "nbformat_minor": 4
}
