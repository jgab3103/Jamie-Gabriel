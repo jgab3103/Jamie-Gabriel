{
 "cells": [
  {
   "cell_type": "markdown",
   "metadata": {},
   "source": [
    "<i>STATUS: Draft<i>"
   ]
  },
  {
   "cell_type": "code",
   "execution_count": 8,
   "metadata": {},
   "outputs": [],
   "source": [
    "import numpy as np\n",
    "import sympy as sp\n",
    "from IPython.display import HTML\n",
    "import matplotlib.pyplot as plt\n",
    "from matplotlib import animation\n",
    "from matplotlib.patches import Rectangle\n",
    "from IPython.display import Image\n",
    "import sys\n",
    "import HTM_Code as hc"
   ]
  },
  {
   "cell_type": "markdown",
   "metadata": {},
   "source": [
    "In the last notebook, we built our first encoder. Admittedly, it was very simple. It just allows us to create integers and provide them to, and provide back indice location. It provided a little extra functionality so it could track previous, and comparison. And we established some rules that we would like to see in place. \n",
    "\n",
    "There are range of different encoders that we can use. Obviously more than just numbers. Let's build another simpler one now, called a Random Distributed Scalar Encoder\n",
    "\n",
    "At this point the amount of code in the notebook is getting a little busy, so we will start bringing it in. In the HTM_Code.py file in the same directory, I have all the functions we have created so far, and we have them here. Going forward, as we develop new functions and classes, we will keep them in this file (later we will need to think about distributing the contents in a more logical way).\n",
    "\n",
    "So far in our code we have 4 types of things: \n",
    "\n",
    "1. SDR Functions (creating SDRs, randomly flipping bits etc.)\n",
    "2. Metrics functions (compute union and overlap, olap set cardinality, comparing multiple over iterations)\n",
    "3. Visualisation functions (changing our arrays into matrices for visualisation\n",
    "4. Classes (1 so far, an encoder class)\n",
    "\n",
    "When I have created this, I have also cleaned up some functinos. I wanted teh visualisation to generalise to any shape\n",
    "\n",
    "We also need to start bing more careful of nomenclature which is subtle differently. I am gonig to stry and stick to BAMI, noting htm.core different \n",
    "\n",
    "https://numenta.com/assets/pdf/biological-and-machine-intelligence/BaMI-Encoders.pdf\n",
    "\n",
    "Its important to realise that the earlier things are sill much in play - so we need to consider noise, fault tolerance, and we will do this in the context the RDSE\n"
   ]
  },
  {
   "cell_type": "markdown",
   "metadata": {},
   "source": [
    "<div style=\"background:#99ddff; color:black; padding: 10px\">\n",
    "<b>Add to these notes:</b>\n",
    "\n",
    "I want to keep these notes in HTML so I don't have to host on a server, but a great exceriise is to use the ipython widgets to experience this like it happens in the video. \n",
    "</div>"
   ]
  },
  {
   "cell_type": "markdown",
   "metadata": {},
   "source": [
    "Let's build another encoder now, and we can explain as we use it: "
   ]
  },
  {
   "cell_type": "code",
   "execution_count": 4,
   "metadata": {},
   "outputs": [],
   "source": [
    "class RandomDistributedScalarEncoder:\n",
    "    def __init__(self, bit_space_size = None,\n",
    "                number_of_bits_per_value = None,\n",
    "                min_val = None,\n",
    "                max_val = None):\n",
    "        self.bit_space_size = bit_space_size\n",
    "        self.number_of_bits_per_value = number_of_bits_per_value\n",
    "        self.unique_bits_per_encoded_value = 1\n",
    "        self.min_value_to_encode = min_val\n",
    "        self.max_value_to_encode = max_val\n",
    "        self.buckets = self.compute_bucket_capacity(self.bit_space_size, self.number_of_bits_per_value)\n",
    "        self.max_bucket_starting_indice = self.buckets - 1\n",
    "        self.offset = 1\n",
    "        self.current_encoded_value = None\n",
    "        self.bit_locations_for_current_encoded_value = 1\n",
    "        self.previously_encoded_values = np.array([])\n",
    "        self.bit_locations_for_previously_encoded_values = []\n",
    "        self.current_and_previous_encoded_values_comparison = None\n",
    "        self.is_periodic = False\n",
    "        \n",
    "    def get_summary(self):\n",
    "        print(\"----------------- SUMMARY -------------------------\")\n",
    "        print(\"Bit Space Size: \", self.bit_space_size)\n",
    "        print(\"Number of bits used to encode each value:\", self.number_of_bits_per_value)\n",
    "        print(\"Range of values to be encoded: From \", self.min_value_to_encode, ' to ', self.max_value_to_encode)\n",
    "        print(\"Number of unique bits per encoded value: \", self.unique_bits_per_encoded_value)\n",
    "        print(\"Number of buckets available in bit space:\", self.buckets)\n",
    "        print(\"Max bucket starting indice:\", self.max_bucket_starting_indice)\n",
    "        print(\"Current encoded value: \", self.current_encoded_value)\n",
    "        print(\"Previously encoded values: \", self.previously_encoded_values)\n",
    "        print(\"Bit locations for current encoded value: \", self.bit_locations_for_current_encoded_value)\n",
    "        print(\"Bit locations for previously encoded values: \", self.bit_locations_for_previously_encoded_values)\n",
    "        print(\"Current and previous encoded values comparison: \", self.current_and_previous_encoded_values_comparison)\n",
    "        print(\"Encode periodically: \", self.is_periodic)\n",
    "    \n",
    "#     def compute_bucket_capacity(self, n, w):\n",
    "#         return(n - w + 1)\n",
    "\n",
    "#     def compare_current_and_previously_encoded_value(self):\n",
    "#         self.current_and_previous_encoded_values_comparison = np.abs(self.current_encoded_value / self.bit_space_size - self.previously_encoded_values[0] / self.bit_space_size)\n",
    "    \n",
    "#     def encode_value_in_bit_space(self, value_choice):\n",
    "        \n",
    "#         # check if value is outside range\n",
    "#         if (value_choice < self.min_value_to_encode) or (value_choice > self.max_value_to_encode):\n",
    "#             print('Not a valid value to encode as is outside specified range')\n",
    "#             return()\n",
    "        \n",
    "#         if self.current_encoded_value is not None:\n",
    "#             self.previously_encoded_values = np.append(self.previously_encoded_values, self.current_encoded_value)\n",
    "#             self.bit_locations_for_previously_encoded_values.append(self.bit_locations_for_current_encoded_value)\n",
    "#             self.compare_current_and_previously_encoded_value()\n",
    "#         self.current_encoded_value = value_choice\n",
    "        \n",
    "#         if (value_choice > self.max_bucket_starting_indice):\n",
    "#             value_to_encode = self.max_bucket_starting_indice\n",
    "#         else:\n",
    "#             value_to_encode = value_choice\n",
    "            \n",
    "#         window = [value_to_encode, value_to_encode + self.number_of_bits_per_value - self.offset]\n",
    "#         all_values = np.arange(window[0], window[1] + self.offset)\n",
    "#         self.bit_locations_for_current_encoded_value = all_values\n",
    "    \n"
   ]
  },
  {
   "cell_type": "code",
   "execution_count": 7,
   "metadata": {},
   "outputs": [
    {
     "name": "stdout",
     "output_type": "stream",
     "text": [
      "----------------- SUMMARY -------------------------\n",
      "Bit Space Size:  64\n",
      "Number of bits used to encode each value: 5\n",
      "Range of values to be encoded: From  0  to  100\n",
      "Number of unique bits per encoded value:  1\n",
      "Number of buckets available in bit space: 60\n",
      "Max bucket starting indice: 59\n",
      "Current encoded value:  None\n",
      "Previously encoded values:  []\n",
      "Bit locations for current encoded value:  1\n",
      "Bit locations for previously encoded values:  []\n",
      "Current and previous encoded values comparison:  None\n",
      "Encode periodically:  False\n"
     ]
    }
   ],
   "source": [
    "b_size = 64\n",
    "population = 5\n",
    "min_value_to_encode = 0\n",
    "max_value_to_encode = 100\n",
    "\n",
    "# create encoder\n",
    "encoder1 = RandomDistributedScalarEncoder(bit_space_size = b_size,\n",
    "                number_of_bits_per_value = population,\n",
    "                min_val = min_value_to_encode,\n",
    "                max_val = max_value_to_encode)\n",
    "encoder1.get_summary()"
   ]
  },
  {
   "cell_type": "code",
   "execution_count": null,
   "metadata": {},
   "outputs": [],
   "source": []
  },
  {
   "cell_type": "code",
   "execution_count": 9,
   "metadata": {},
   "outputs": [],
   "source": [
    "def compute_union_and_overlap(SDR1_on_bits, SDR2_on_bits):\n",
    "    union = list(set(SDR1_on_bits).union(SDR2_on_bits))\n",
    "    overlap = list(set(SDR1_on_bits).intersection(SDR2_on_bits))\n",
    "    \n",
    "    return({\"union\": union, \"overlap\": overlap})\n",
    "\n"
   ]
  },
  {
   "cell_type": "code",
   "execution_count": null,
   "metadata": {},
   "outputs": [],
   "source": []
  },
  {
   "cell_type": "code",
   "execution_count": null,
   "metadata": {},
   "outputs": [],
   "source": []
  },
  {
   "cell_type": "code",
   "execution_count": null,
   "metadata": {},
   "outputs": [],
   "source": []
  },
  {
   "cell_type": "code",
   "execution_count": null,
   "metadata": {},
   "outputs": [],
   "source": []
  },
  {
   "cell_type": "code",
   "execution_count": null,
   "metadata": {},
   "outputs": [],
   "source": []
  },
  {
   "cell_type": "markdown",
   "metadata": {},
   "source": [
    "Let's look at more encoders: \n",
    "https://numenta.com/assets/pdf/biological-and-machine-intelligence/BaMI-Encoders.pdf\n",
    "\n",
    "IMportant to capture semantics properly\n",
    "\n",
    "4 principles recall..... eg consider two numbers should be semantically similiar \n",
    "\n",
    "we need encoders to have to to incorporate noise and subsamplinig \n",
    "\n",
    "Encoding Daa for HTM systems - Purdy\n",
    "\n",
    "\n",
    "Date Time Encoder\n",
    "\n",
    " \n"
   ]
  },
  {
   "cell_type": "code",
   "execution_count": null,
   "metadata": {},
   "outputs": [],
   "source": []
  }
 ],
 "metadata": {
  "kernelspec": {
   "display_name": "Python 3",
   "language": "python",
   "name": "python3"
  },
  "language_info": {
   "codemirror_mode": {
    "name": "ipython",
    "version": 3
   },
   "file_extension": ".py",
   "mimetype": "text/x-python",
   "name": "python",
   "nbconvert_exporter": "python",
   "pygments_lexer": "ipython3",
   "version": "3.7.3"
  }
 },
 "nbformat": 4,
 "nbformat_minor": 4
}
