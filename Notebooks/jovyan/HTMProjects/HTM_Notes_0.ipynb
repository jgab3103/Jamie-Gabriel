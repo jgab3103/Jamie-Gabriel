{
 "cells": [
  {
   "cell_type": "markdown",
   "metadata": {},
   "source": [
    "<i>STATUS: Draft<i>"
   ]
  },
  {
   "cell_type": "code",
   "execution_count": 1,
   "metadata": {},
   "outputs": [],
   "source": [
    "import sympy as sp\n",
    "import numpy as np\n",
    "from IPython.display import HTML"
   ]
  },
  {
   "cell_type": "code",
   "execution_count": 2,
   "metadata": {},
   "outputs": [
    {
     "data": {
      "application/javascript": [
       "    var script = document.createElement('script');\n",
       "    script.type = 'text/javascript';\n",
       "    script.src = \"https://d3js.org/d3.v6.min.js\";\n",
       "    document.head.appendChild(script);\n",
       "    console.log(window.d3)"
      ],
      "text/plain": [
       "<IPython.core.display.Javascript object>"
      ]
     },
     "metadata": {},
     "output_type": "display_data"
    }
   ],
   "source": [
    "%%javascript\n",
    "    var script = document.createElement('script');\n",
    "    script.type = 'text/javascript';\n",
    "    script.src = \"https://d3js.org/d3.v6.min.js\";\n",
    "    document.head.appendChild(script);\n",
    "    console.log(window.d3)"
   ]
  },
  {
   "cell_type": "markdown",
   "metadata": {},
   "source": [
    "From numenta.org: \n",
    "\n",
    "<i>\"Hierarchical Temporal Memory is a foundational technology for the future of machine intelligence based upon the biology of the neocortex\" <br/> --Numenta website</i>\n",
    "\n",
    "HTM is a novel approach to Machine Intelligence. Understand the architecture of the neocortex.  is a fascinating technolgoy.  these notebooks I will explore how to use HTM to create machine intelligence. There is quite a bit to do \n",
    "\n",
    "The goal in these notebooks will be to move us to working with a workign with with HTM and be able to apply it in new domains, understand the code base, and understand the related with a deep understanding. In many ways, the study of HTM is a discipline in its own right, it has its own nomenclature, and we need to develop this and understand this if we want to work effectively. It also crosses over into many areas of mathematics and havne't been exploited. Finally, it often presupposes an understanding Medical Neuroscience which makes it difficult to understand the surroudnig literature. \n",
    "\n",
    "HTM is at a bit of a cross-roads when it comes to locating it as a disci;line: somewhere between Neuroscience, Computer Science, Matheamtics and a different take on many ideas that you find in Machine Learning. This can make the study of HTM difficult, and there are often implicit assumptions that you may understnad things of certain disciplines. \n",
    "\n",
    "My plan is to build up these ideas slowly and carefly. Where we need to spend more time on concepts of medical neuroscience, we will. If we we need to understand. Over time to get a deep understanding. We will also approach the coding examples carefully.  \n",
    "\n",
    "### Resources\n",
    "\n",
    "If you would like to follow along, I would advice you head over to have a look at would advise you to get aquainted with details at numenta.org, and join the HTM forum. You will find that, for a while at least, many of the questions won't make a lot of sense and that is ok. What you will be seeing are seeing is a \n",
    "\n",
    "I am going draw heavily on a few key resources, and you might to deal with them directly also. To get going, I am going to go over Matt Taylor's lectures on HTM school found here. This will bring us fact to face with a number of issues that touch other fields such as Boolean Algebra, and Information Theory, and Medical Neoroscience. I will cite things carefully, and also take the opportunity (integrate a definion of entropy into what we are doing, locate Shannon's work, and provide a simipliefed overview. Once we have the basics in place I will move toward key papers in teh field. I will develope a accomanying literature review as we go forward\n",
    "\n",
    "\n",
    "\n",
    "#### Getting things set up: \n",
    "\n",
    "Getting started with HTM examples is often hampered by the difficulty in setting things up. It is sometimes problematic to intall through the Python implmentation, particularly on Windows, it's sometimes messy on Linux and Mac. So before we do anything else, we will focus on downloading the HTM code base, build the documentation, before before we do antying else. Note that to do this, you will need Administrative rights to install software on your computer (because you will need to install Docker). \n",
    "\n",
    "By way of context, Numenta has actioned its implemntation in a code base in 2018. This was Python 2.7 and is not heavily used now. Numenta also its original code base and its underlying documetnation. Because of this, there are a number of community implementation of the codes and encouraged to implemenent in different languages. These implementatins all have varying degrees of maturity. but the one we will install is the most standardised and the most popular, <b>htm.core</b> which can be found on gitbub here. \n",
    "\n",
    "The htm.core code base was written C++ and also has a python bindings version. To get things started, and move to our hello-world, we are doing to install the C++ version. For many getting started, I imagine you would want to use Python. The reason we are not going to do this is that it's far simpler to install the C++ version as you run into machine specific issues, that are not hard to resolve, but can seem a little cryptic if you haven't done this before. Also, the C++ code, even if you have only used python, is quite easy to read. I will also provide some resources to go further with it. It will also get us acquainted with the some of the core technologies to build C++ projects and provide a solid foundation if you want to build production ready HTM projects in the future. \n",
    "\n",
    "I will take through a line by line set up of the code on C++ and let's end by running an example. Then we can get to back to understanding the theory. Assuming you have nothing installed, this will take about 10 minutes and most of that will spent waiting for the last command to run . \n",
    "\n",
    "The pre-requisites are downloading and installing Docker and Atom IDE. I am assuming you can do this, and once you have installed Docker, can go into your command line, powershhell, or terminal and run <code>docker run hello-world</code>. I am also going to assume you can downloade and install a code IDE of some kind. I am going use Atom just because its really easiy to work with, but the purposes of what we are going to do, you can just use whatever you are comfortable with, sublime text or whatever. Host machine held. \n",
    "\n",
    "The steps we are doing to undertake to install the htm.core code are: \n",
    "\n",
    "1. Download the Atom IDE and Docker, and create an account\n",
    "2. Use Docker Ubuntu create a Linux Ubuntu Container\n",
    "3. Create a folder on our machine that the Lunix Ubuntu Container can see and go into the Container command line\n",
    "4. Download the htm.core code and put it into the folder that our Docker Container can see\n",
    "5. Go into the Docker Container command line and issue some commands to install our code as executables. \n",
    "6. Run the \"hello\" and \"mnist\" examples to check to check everything works as expected \n",
    "7. Make a tiny change in the htm.core code to demonstrate that we can recompile the code. \n",
    "\n",
    "Assuming you have nothing set up, this will take a bout 5-10 minutes\n",
    " \n",
    " We will get this out of the way now, and then we will spend a good deal of time focusing on theory itself\n",
    " \n",
    "<h4>Step 1: Download the Atom IDE and Docker, and create a Docker account </h4> "
   ]
  },
  {
   "cell_type": "markdown",
   "metadata": {},
   "source": [
    "docker pull ubuntu\n",
    "\n",
    "docker image ls \n",
    "\n",
    "we see iamge \n",
    "    \n",
    "drop into container \n",
    " docker run -it -v C:\\JamiesFiles\\HTMProjects:/home ubuntu\n",
    "1 - docker run -p 8888:8888 --user root -v C:\\JamiesFiles\\HTMProjects:/home jupyter/scipy-notebook\n",
    "\n",
    "docker run -p 8888:8888 --user root -v C:\\JamiesFiles\\HTMProjects:/home jupyter/datascience-notebook\n",
    "\n",
    "\n",
    "jupyter/datascience-notebook\n",
    "quit and then \n",
    "docker container ls -a\n",
    "\n",
    "docker container start c89\n",
    "\n",
    "docker exec -it c89 bash\n",
    "\n",
    "apt-get update\n",
    "apt-get upgrade \n",
    "apt-get instal cmake\n",
    "    \n",
    "#apt-get install g++\n",
    "\n",
    "jump out, turn container off and on, go back we see it still works....\n",
    "\n",
    "create a file, test.txt and double check local volume\n",
    "    \n",
    "apt_get install cmake\n",
    "\n",
    "#apt-get install build-essential\n",
    "\n",
    "git clone htm.core\n",
    "\n",
    "now download htm.core  unzip, into the folder\n",
    "\n",
    "At this point, in our shell, we can follow instructions: \n",
    "\n",
    "https://github.com/htm-community/htm.core\n",
    "\n",
    "\n",
    "Now run python3 setup --force\n",
    "\n",
    "THis will create python\n",
    "\n",
    "Now for the C++\n",
    "\n",
    "\n",
    "\n",
    "\n",
    "YOu will find cmake ../.. takes a while\n",
    "\n",
    "make -j8 install is building executables and installing....so it will take while, but we should get log to the screen. Let is go. It will create executables in \n",
    "\n",
    "\n",
    "Now let's open the folder\n",
    " change src/examples/hello.cpp - 5100\n",
    " \n",
    "now recompile make -j8 install \n",
    "\n",
    "and then rerun\n",
    "\n",
    "Now install the docs\n",
    "\n",
    "Now instal doxygen\n",
    "\n",
    "sudo apt-get install python3-setuptools\n",
    "\n",
    "Now build python executables"
   ]
  },
  {
   "cell_type": "code",
   "execution_count": null,
   "metadata": {},
   "outputs": [],
   "source": []
  },
  {
   "cell_type": "code",
   "execution_count": null,
   "metadata": {},
   "outputs": [],
   "source": []
  }
 ],
 "metadata": {
  "kernelspec": {
   "display_name": "Python 3",
   "language": "python",
   "name": "python3"
  },
  "language_info": {
   "codemirror_mode": {
    "name": "ipython",
    "version": 3
   },
   "file_extension": ".py",
   "mimetype": "text/x-python",
   "name": "python",
   "nbconvert_exporter": "python",
   "pygments_lexer": "ipython3",
   "version": "3.7.3"
  }
 },
 "nbformat": 4,
 "nbformat_minor": 4
}
