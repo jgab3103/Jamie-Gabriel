{
 "cells": [
  {
   "cell_type": "markdown",
   "metadata": {},
   "source": [
    "<i>STATUS: Draft<i>"
   ]
  },
  {
   "cell_type": "code",
   "execution_count": 1,
   "metadata": {},
   "outputs": [],
   "source": [
    "import sympy as sp\n",
    "import numpy as np\n",
    "from IPython.display import HTML"
   ]
  },
  {
   "cell_type": "markdown",
   "metadata": {},
   "source": [
    "<hr/>\n",
    "<i>\"Hierarchical Temporal Memory is a foundational technology for the future of machine intelligence based upon the biology of the neocortex\" <br/> --Numenta website</i>\n",
    "\n",
    "--numenta.org\n",
    "<hr/>\n",
    "\n",
    "HTM is a novel approach to Machine Intelligence that seeks to understand and build systems that are based on the architecture of the neocortex. The purpose of these notebooks is to demonstrate through both how HTM works by walking through how it can be implemented, and also how to use htm.core for projects, which is a mature code-base that runs HTM algorithms.  \n",
    "\n",
    "As we go forward, its important to note that the study of machine intelligence via HTM tends to get a bit interdisciplinary: its somewhere between Neuroscience, Computer Science, Machine Learning, Mathematics and Statistics. Its rare to know all these fields deeply, and this can make it a little difficult and when you are learning this stuff: you tend to run into implicit assumptions about what you may know in various fields. I will try and get around this by building up these ideas slowly and carefully. Where we run into issues in medical neuroscience, I will point out handy resoures to help, or provide a seperate notebook for concepts in maths and stats. It does take time to get across HTM but its well worth it. \n",
    "\n",
    "### Resources\n",
    "\n",
    "If you are keen to follow along, there are a couple of handy resources you should be aware of: \n",
    "\n",
    "* Join the HTM Forum at: https://discourse.numenta.org/t/error-installing-htm-core/8459 . You might find alot of topic threads that don't make alot of sense at first, but over time they will, and this is a highly supportive community in which you can ask questions and seek help. \n",
    "* Watch the Matt Taylor HTM school videos which provide an amazing introduction into HTM, found at: https://numenta.org/htm-school/ or on YouTube at https://www.youtube.com/watch?v=XMB0ri4qgwc&list=PL3yXMgtrZmDqhsFQzwUC9V8MeeVOQ7eZ9. I will use these videos as a way to structure things and will take you through them also, but watching them will give you a sense of where it is all heading. On this YouTube channel there are also lots of other playlists and videos and I will point you towards different ones as we go forward\n",
    "* Check out https://numenta.com/resources/biological-and-machine-intelligence/ a white paper style write up of how it all works. This will get complicated quickly and we will work through it but it will be a great resource as we go through. It also has lots of links to great papers that will we will use. \n",
    "* One the strictly neuroscience side of things, there are so many resources out there that it sometimes seems hard to know where to start. For me, the bes resources have been https://www.youtube.com/channel/UCKvdc-wq9yUL9unCgX2vvzg, a YouTube channel called <i>Brains Explained</i> which packs a huge amount of information into short, well made clips, that you can almost view as study notes. The other great resource for me is the Neuroscience textbook from D. Purves, https://www.amazon.com.au/Neuroscience-Dale-Purves/dp/1605353809/ref=asc_df_1605353809/?tag=googleshopdsk-22&linkCode=df0&hvadid=347664591317&hvpos=&hvnetw=g&hvrand=16894287221776705978&hvpone=&hvptwo=&hvqmt=&hvdev=c&hvdvcmdl=&hvlocint=&hvlocphy=9071750&hvtargid=pla-385433663671&psc=1 This text is really a first year university type of tome, but gives you the context you need to get across the Neuroscience. It's a bit of an investment, however tracking down an early edition is quite easy. Even if you work through an earlier edition of this text it will be fine for our needs.\n",
    "\n",
    "\n",
    "#### Getting things set up: \n",
    "\n",
    "Getting started with HTM examples is often hampered by the difficulty in setting things up. It is sometimes problematic to install through the Python implmentation, particularly on Windows, and it's sometimes messy on Linux and Mac. So before we do anything else, let's focus on downloading the HTM code base and getting it running. Note that to do this, you will need Administrative rights to install software on your computer (because you will need to install Docker). \n",
    "\n",
    "By way of context, Numenta created its implemntation of HTM in a code base that is no longer actively maintained. It was created in Python 2.7 and is not heavily used now. As it was open sourced from the outset, there are a number of community implementation of the code in a number of diffrent languages. These implementatins all have varying degrees of maturity. We will follow this tradition to an extent in building up an implementation to explore how it all works, but we will end up switching over to the htm.core implementation, arguably the most popular and stable, which can be found at https://github.com/htm-community/htm.\n",
    "\n",
    "\n",
    "The steps to install htm.core aref below, and this will get an enviroment up and running we can work in. Assuming you have nothing set up, this will take a bout 5-10 minutes, most from the time to take compiling the Python code from the C++ code. "
   ]
  },
  {
   "cell_type": "markdown",
   "metadata": {},
   "source": [
    "1. Install Docker on your machine by following the instructions at: https://www.docker.com/. \n",
    "\n",
    "2. Open a shell/bash terminal on your machine. Run:<br/>\n",
    "<code>docker run -p 8888:8888 --user root -v [location_you_want_to_keep_your_files_in]:/home jupyter/datascience-notebook</code>\n",
    "Remember to just replace [location_you_want_to_keep_your_files_in] with the absolute path where you are keeping your files. The -v command above just tells Docker that the container will be able to see and save files to some folder on your local machine that you specify. Wherever that is, go there and run pwd and include that in the above docker run command.\n",
    "\n",
    "3. Docker will download the jupyter notebook container and run it (further details of the image you are downloading can also be found at: https://jupyter-docker-stacks.readthedocs.io/en/latest/using/selecting.html.\n",
    "\n",
    "4. After this process finishes, open a second shell on your local machine and now go into the docker container’s bash shell by running:<br/> <code>docker exec -it [docker container ID] bash</code><br/>\n",
    "Note you can get the ID of the Docker Container from running: <cde>docker container ls</code>\n",
    "\n",
    "5. Now you will be in the Docker container as the root user root. From here, just run two comands: <br/>\n",
    "<code>apt-get update</code><br/>\n",
    "<code>apt-get install cmake</code>\n",
    "\n",
    "6. Now, while you are still in the container's shell run:<br/>\n",
    "<code>git clone https://github.com/htm-community/htm </code>. This will clone the htm.core repo into the docker container. You will notice it downloads to the <code>\\home</code> folder in the Docker container which has been synced with your local folder you created with that <code>-v command</code>, so the cloned repo will appear in your local machine folder as well\n",
    "\n",
    "7. Once its downloaded, just follow the instructions at https://github.com/htm-community/htm.core to install the Python release. Basically, its just cd’ing into the relevant folder and running <code>python setup.py install --user --force</code>\n",
    "\n",
    "8. You can also compile the C++ code and the docs by following the instructions on the htm.core github repo.\n",
    "\n",
    "You should end up with everything installed, and when you go to localhost:8888 that Docker has spun up for you, you can check by things are ok by copying code from https://github.com/htm-community/htm.core/blob/master/py/htm/examples/hotgym.py into a notebook.Note that when you go to the <code>localhost:8888</code> for the first time it might ask for a token, which you can get from the command in which you ran at step 2 of these instructions. \n",
    "\n",
    "<i><b>Note:</b> Finally, if for some reason it is just impossible to do this installation (like if you don't have admin rights on your machine or whatever), you would still be able to download an Anaconda Version of the Juptyer and it will be fine for alot of what we are going to do, and I will make it clear when we are going to jump into the htm.core code</i>\n",
    "\n",
    "That's it for this notebook. Move on to the next so we can start exploring HTM"
   ]
  }
 ],
 "metadata": {
  "kernelspec": {
   "display_name": "Python 3",
   "language": "python",
   "name": "python3"
  },
  "language_info": {
   "codemirror_mode": {
    "name": "ipython",
    "version": 3
   },
   "file_extension": ".py",
   "mimetype": "text/x-python",
   "name": "python",
   "nbconvert_exporter": "python",
   "pygments_lexer": "ipython3",
   "version": "3.7.3"
  }
 },
 "nbformat": 4,
 "nbformat_minor": 4
}
