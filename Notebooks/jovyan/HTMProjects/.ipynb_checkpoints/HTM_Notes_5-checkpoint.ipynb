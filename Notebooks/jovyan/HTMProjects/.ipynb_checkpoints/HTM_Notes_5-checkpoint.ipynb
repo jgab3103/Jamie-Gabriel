{
 "cells": [
  {
   "cell_type": "markdown",
   "metadata": {},
   "source": [
    "<i>STATUS: Draft<i>"
   ]
  },
  {
   "cell_type": "code",
   "execution_count": 1,
   "metadata": {},
   "outputs": [],
   "source": [
    "import numpy as np\n",
    "import sympy as sp\n",
    "from IPython.display import HTML\n",
    "import matplotlib.pyplot as plt\n",
    "from matplotlib import animation\n",
    "from matplotlib.patches import Rectangle\n",
    "from IPython.display import Image\n",
    "import sys\n",
    "import HTM_Code as hc"
   ]
  },
  {
   "cell_type": "markdown",
   "metadata": {},
   "source": [
    "In the last notebook, we built our first encoder. Admittedly, it was very simple. It just allows us to create integers and provide them to, and provide back indice location. It provided a little extra functionality so it could track previous, and comparison. And we established some rules that we would like to see in place. \n",
    "\n",
    "There are range of different encoders that we can use. Obviously more than just numbers. Let's build another simpler one now, called a Random Distributed Scalar Encoder\n",
    "\n",
    "\n",
    "\n",
    "When I have created this, I have also cleaned up some functinos. I wanted teh visualisation to generalise to any shape\n",
    "\n",
    "We also need to start bing more careful of nomenclature which is subtle differently. I am gonig to stry and stick to BAMI, noting htm.core different \n",
    "\n",
    "https://numenta.com/assets/pdf/biological-and-machine-intelligence/BaMI-Encoders.pdf\n",
    "\n",
    "Its important to realise that the earlier things are sill much in play - so we need to consider noise, fault tolerance, and we will do this in the context the RDSE\n"
   ]
  },
  {
   "cell_type": "code",
   "execution_count": 2,
   "metadata": {},
   "outputs": [
    {
     "name": "stdout",
     "output_type": "stream",
     "text": [
      "----------------- SUMMARY -------------------------\n",
      "|L3| Bit Space Size:  64\n",
      "|L4| Number of bits to be used when encoding each value: 8\n",
      "|L5| Range of values that can be encoded: From  0  to  56\n",
      "|L6| Number of buckets available in bit space: 57.0\n",
      "|L1| Encode periodically:  False\n",
      "|L1| Values are encoded as are randomly distributed arrays:  False\n",
      "|L1| Resolution:  1\n",
      "|L1| Unique active bits per bucket:  1\n",
      "|L2| Values outside range will to be clipped:  True\n",
      "|L7| Encoded values bit locations:\n",
      "  []\n",
      "|L8| Encoded values []\n",
      "----------------------------------------------------\n"
     ]
    }
   ],
   "source": []
  },
  {
   "cell_type": "markdown",
   "metadata": {},
   "source": [
    "<div style=\"background:#99ddff; color:black; padding: 10px\">\n",
    "<b>Add to these notes:</b>\n",
    "\n",
    "I want to keep these notes in HTML so I don't have to host on a server, but a great exceriise is to use the ipython widgets to experience this like it happens in the video. \n",
    "</div>"
   ]
  },
  {
   "cell_type": "markdown",
   "metadata": {},
   "source": [
    "Let's build another encoder now, and we can explain as we use it. THis will add a few more features, such as new overlap, it will be general encoder, that we can chain together....."
   ]
  },
  {
   "cell_type": "markdown",
   "metadata": {},
   "source": [
    "So this encoder is quite a bit more sophisticated than our last one. We control a number of paramaters, we can set slipping, periodicity, it has much better capacity. We can control semantic similiarity to and extent and resolution. But what next, \n",
    "\n",
    "Date Time encoder, "
   ]
  },
  {
   "cell_type": "code",
   "execution_count": 3,
   "metadata": {},
   "outputs": [
    {
     "data": {
      "text/html": [
       "<iframe width=\"560\" height=\"315\" src=\"https://www.youtube.com/embed/PTYlge2K1G8\" title=\"YouTube video player\" frameborder=\"0\" allow=\"accelerometer; autoplay; clipboard-write; encrypted-media; gyroscope; picture-in-picture\" allowfullscreen></iframe>"
      ],
      "text/plain": [
       "<IPython.core.display.HTML object>"
      ]
     },
     "execution_count": 3,
     "metadata": {},
     "output_type": "execute_result"
    }
   ],
   "source": [
    "HTML('<iframe width=\"560\" height=\"315\" src=\"https://www.youtube.com/embed/PTYlge2K1G8\" title=\"YouTube video player\" frameborder=\"0\" allow=\"accelerometer; autoplay; clipboard-write; encrypted-media; gyroscope; picture-in-picture\" allowfullscreen></iframe>')"
   ]
  },
  {
   "cell_type": "markdown",
   "metadata": {},
   "source": [
    "But a date time encoder, is really just a multi encoder, we can encode multiple linear things that have different rates of change, and create semantic meaning. So let's create anotehr object that takes RSDE as objects: "
   ]
  },
  {
   "cell_type": "code",
   "execution_count": 6,
   "metadata": {},
   "outputs": [],
   "source": [
    "class MultiEncoder:\n",
    "    def __init__(self):\n",
    "        self.encoders = []\n",
    "        self.bit_space_size = None\n",
    "    def add_encoder(self, encoder):\n",
    "        self.encoders.append(encoder)\n",
    "    def join_encoders(self):\n",
    "        pass"
   ]
  },
  {
   "cell_type": "code",
   "execution_count": 7,
   "metadata": {},
   "outputs": [],
   "source": [
    "m1 = MultiEncoder\n",
    "\n",
    "bit_space_size_choice = 64\n",
    "number_of_bits_used_to_encode_value_choice = 8\n",
    "\n",
    "e1 = hc.Encoder(bit_space_size = bit_space_size_choice,\n",
    "                number_of_bits_used_to_encode_value = number_of_bits_used_to_encode_value_choice,\n",
    "                min_val = 0,\n",
    "                max_val = 56,\n",
    "            is_randomly_distributed = False,\n",
    "            clip_values_outside_range = True)\n",
    "\n",
    "e2 = hc.Encoder(bit_space_size = bit_space_size_choice,\n",
    "                number_of_bits_used_to_encode_value = number_of_bits_used_to_encode_value_choice,\n",
    "                min_val = 0,\n",
    "                max_val = 56,\n",
    "            is_randomly_distributed = False,\n",
    "            clip_values_outside_range = True)"
   ]
  },
  {
   "cell_type": "code",
   "execution_count": 9,
   "metadata": {},
   "outputs": [],
   "source": [
    "m1 = MultiEncoder()\n",
    "\n",
    "m1.add_encoder(e1)\n",
    "m1.add_encoder(e2)"
   ]
  },
  {
   "cell_type": "markdown",
   "metadata": {},
   "source": [
    "So this is a really powerful idea. We can think about multiple time series unfolding, date time components. Or we could think of symbolic music, track key changes"
   ]
  },
  {
   "cell_type": "code",
   "execution_count": null,
   "metadata": {},
   "outputs": [],
   "source": []
  },
  {
   "cell_type": "code",
   "execution_count": null,
   "metadata": {},
   "outputs": [],
   "source": [
    "def compute_union_and_overlap(SDR1_on_bits, SDR2_on_bits):\n",
    "    union = list(set(SDR1_on_bits).union(SDR2_on_bits))\n",
    "    overlap = list(set(SDR1_on_bits).intersection(SDR2_on_bits))\n",
    "    \n",
    "    return({\"union\": union, \"overlap\": overlap})\n",
    "\n"
   ]
  },
  {
   "cell_type": "markdown",
   "metadata": {},
   "source": [
    "This is starting to seem more like we saw in the early notebooks, we can how semantic similairty is affected by noise and subsampling"
   ]
  },
  {
   "cell_type": "code",
   "execution_count": null,
   "metadata": {},
   "outputs": [],
   "source": []
  },
  {
   "cell_type": "markdown",
   "metadata": {},
   "source": [
    "There is alot more we can do with encoders. Delta encoder, log encoder. A geospatial encoder particularly interesting, enconding values on a sphere, what other geometrical shapes, opens us up to diffent types of geometry adn topology also"
   ]
  },
  {
   "cell_type": "code",
   "execution_count": null,
   "metadata": {},
   "outputs": [],
   "source": []
  },
  {
   "cell_type": "code",
   "execution_count": null,
   "metadata": {},
   "outputs": [],
   "source": []
  },
  {
   "cell_type": "markdown",
   "metadata": {},
   "source": [
    "Let's look at more encoders: \n",
    "https://numenta.com/assets/pdf/biological-and-machine-intelligence/BaMI-Encoders.pdf\n",
    "\n",
    "IMportant to capture semantics properly\n",
    "\n",
    "4 principles recall..... eg consider two numbers should be semantically similiar \n",
    "\n",
    "we need encoders to have to to incorporate noise and subsamplinig \n",
    "\n",
    "Encoding Daa for HTM systems - Purdy\n",
    "\n",
    "\n",
    "Date Time Encoder\n",
    "\n",
    " \n"
   ]
  },
  {
   "cell_type": "code",
   "execution_count": null,
   "metadata": {},
   "outputs": [],
   "source": []
  }
 ],
 "metadata": {
  "kernelspec": {
   "display_name": "Python 3",
   "language": "python",
   "name": "python3"
  },
  "language_info": {
   "codemirror_mode": {
    "name": "ipython",
    "version": 3
   },
   "file_extension": ".py",
   "mimetype": "text/x-python",
   "name": "python",
   "nbconvert_exporter": "python",
   "pygments_lexer": "ipython3",
   "version": "3.7.3"
  }
 },
 "nbformat": 4,
 "nbformat_minor": 4
}
