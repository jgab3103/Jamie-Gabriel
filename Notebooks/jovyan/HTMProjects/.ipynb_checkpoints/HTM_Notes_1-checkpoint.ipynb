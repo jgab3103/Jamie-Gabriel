{
 "cells": [
  {
   "cell_type": "markdown",
   "metadata": {},
   "source": [
    "<i>STATUS: Draft<i>"
   ]
  },
  {
   "cell_type": "code",
   "execution_count": 1,
   "metadata": {},
   "outputs": [],
   "source": [
    "import numpy as np\n",
    "import sympy as sp\n",
    "from IPython.display import HTML\n",
    "import matplotlib.pyplot as plt\n",
    "from matplotlib import animation\n",
    "from matplotlib.patches import Rectangle\n",
    "from IPython.display import Image\n",
    "from IPython.display import YouTubeVideo\n"
   ]
  },
  {
   "cell_type": "markdown",
   "metadata": {},
   "source": [
    "<h3>HTM Overview</h3>\n",
    "\n",
    "Now that we are set up, let's start looking at the HTM itself. HTM approach to machine intellingence takes a differet approach, neual netowrks, in Machine Learning, the idea is usually to find some rule, finding a function, how to speed up getting some kind of function, and how to get to this rule as quickly as possible. We will use linear algebra, fit to a function ideas from calculus. \n",
    "\n",
    "HTM approaches in a different way. Rather than try and find a rule for a given data set whether it be supervised or unsupervised, it sets out to understand and build systems based on the principles of the human neocortex. "
   ]
  },
  {
   "cell_type": "markdown",
   "metadata": {},
   "source": [
    "<h4>Anatomy of the brain</h4>\n",
    "\n",
    "Fig. 1 shows an anatomy: "
   ]
  },
  {
   "cell_type": "code",
   "execution_count": 2,
   "metadata": {},
   "outputs": [],
   "source": [
    "#Image(filename='./Images/neocortex-image.png', width=400, height=400)"
   ]
  },
  {
   "cell_type": "markdown",
   "metadata": {},
   "source": [
    "We are going to touch base with medical neouroscience as needed, realy understand HTM, its  should give a sense of the size, an average human adult has between 20-30 billion neorons, state is what is on, and we find remarkably small percentate of bits are on - this is the \"State\" gnerally about 2% on at any given time. \n",
    "\n",
    "Cells / Neorons / Axons / Dendrites\n",
    "\n",
    "First question, what is a neuron? - \"fundamental unit of function in the in teh Central Nervous System (CNS)\n",
    "\n",
    "JG - image of cell in HTM here....\n",
    "\n",
    "\n",
    "HTM still draws on  neural networks over 50 years ago, sicne then things advanced, better underst of biology, but still hasn't moved forward too much - ANNs (neural networks) stil not plausible \n",
    "\n",
    "HTM theory - evolving, made significant progress, even simulating 1 layer of 1 regions - this gives alot already - aim to build out into stofotware\n",
    "\n",
    "TO find out more.....\n",
    "On intelligence\n",
    "numenta.com/learn \n",
    "\n",
    "The HTM school series provides a good overview to what is happening at this level with a different level of nuance and focus"
   ]
  },
  {
   "cell_type": "markdown",
   "metadata": {},
   "source": [
    "\n",
    "A good resource for this is to understand <a href=\"https://www.brainfacts.org/\">https://www.brainfacts.org/</a> <br/>By far, the best resource I have found is the notes at: \n",
    "<a href=\"https://www.learnmedicalneuroscience.nl/\">https://www.learnmedicalneuroscience.nl/</a>\n",
    "\n"
   ]
  },
  {
   "cell_type": "code",
   "execution_count": 3,
   "metadata": {},
   "outputs": [
    {
     "data": {
      "text/html": [
       "<iframe width=\"560\" height=\"315\" src=\"https://www.youtube.com/embed/XMB0ri4qgwc\" title=\"YouTube video player\" frameborder=\"0\" allow=\"accelerometer; autoplay; clipboard-write; encrypted-media; gyroscope; picture-in-picture\" allowfullscreen></iframe>"
      ],
      "text/plain": [
       "<IPython.core.display.HTML object>"
      ]
     },
     "execution_count": 3,
     "metadata": {},
     "output_type": "execute_result"
    }
   ],
   "source": [
    "HTML('<iframe width=\"560\" height=\"315\" src=\"https://www.youtube.com/embed/XMB0ri4qgwc\" title=\"YouTube video player\" frameborder=\"0\" allow=\"accelerometer; autoplay; clipboard-write; encrypted-media; gyroscope; picture-in-picture\" allowfullscreen></iframe>')"
   ]
  },
  {
   "cell_type": "markdown",
   "metadata": {},
   "source": [
    "<h4>Information processing in the neocortex</h4>\n",
    "\n",
    "The first HTM School video provides a gentral introduction to \n",
    "\n",
    "We find that neocortex accounts for around 75% of the brain's mass and has evolved in mammals, particularly humans. In HTM world, it is often described as around 2.5mm thick, scrunched up inside the human skull, similar to a dinner napkin. \n",
    "\n",
    "Many functions that human's undertake (such as eatings/sleeping/sex etc.) emanate from other parts of the brain. In contrast, the Neocortex holds memories, the notion of identity, intelligence, and is sometimes referred to as the \"seat of intelligence\". \n",
    "\n",
    "When examining the neocortex under a microscope, it turns out that the cellular structure in different regions is almost identical. This suggests that however the neocortex works, it has a similar approach to processing information of different modalities, such as visual / auditory  etc. When the neocortex solves any kind problem, the same cortical structure is always in ply, or the same algorithmic structure"
   ]
  },
  {
   "cell_type": "markdown",
   "metadata": {},
   "source": [
    "\n",
    "Neocotex has regions, of neocortex. Nerve fibers exist through white matter allowing information to come from lower levels through higher levels, sending output upwards. As informaiton moves through these regious, the ideas that the information represetns become more abstract and more permnanent. For exaple\n",
    "\n",
    "- Lowest level: edges and borders\n",
    "- Higher Level: shape recognition\n",
    "- Next highest Level: object recognition\n",
    "- Next highest level: ideas and memories\n",
    "\n",
    "\n",
    "Due to the structure of the neocortex, and the common process, it allows not to be concerned with the myriad wasy ways information comes into the neocortex and focus on how information is processed. Futhermore, because of the architecture, we can can focus on region as they are all the same. \n",
    "\n",
    "\n",
    "There are some citircal things to deal with early on with understanding neocortex - firstly, the idea of regions can be potentially confusing, and we will tie back this. To note various regious etc that are avalialble\n",
    "\n",
    "We are left with a structure that is well suited to Linear Algebra over a bifield: large netorks that is connected where majority of nodes of are are 0 and some are 1. This structure leads us to the basic idea of <b>Sparse Distributed Representation (SDR)</b>.  \n",
    "\n",
    "In th same way that Linear Algebra can be used to reduce networks down to the interplay between nodes and edges, this SDR array structure is a model of SDR. This basic SDR structure facilitiates the following: \n",
    "\n",
    "1. Basic Inputs into the neocortex from a copy of the motor commands coming out of the old brain <br/> When informaiton sent being sent to control muscles, coming in, copy goes into neocortex, so it can undertand how it interacting\n",
    "2. Sensory input coming form the outside world<br/> This includes senssory inputs from oming from all the, touch, smell etc. all copied and sent to neocortex - represetnation of what is happening in the world - provide sensory motor model, what is happening, and how it is interacting....eg optic nerve, sending new different pictures, provides continuity, data comes from our brains to provide this also\n",
    "\n",
    "\n",
    "This tells us that for any HTM system to exist, it needs the equivalent of sensory encoder. We need to be careful that by this we mean some kind of sensory endoing but not that it has to be what human would expect, such as sight, sound, taste etc. Any HTM system requires some kind of sensory imput which is converted into the form of an SDR that can then be in converts them into SDR that system can understand. But that does not mean we can't have encoders that have no biological counterpart, such as a geocoding encoder (i.e. a sense that tracks location)\n",
    "\n",
    "To process SDRs HTM uses an algorithm called Temporal Memory. This Algorithm learns uses SDRs to learn patterns that are changing over time driven by SDR input. It perates on motor commands and sens imput. Temporal Memory will become more critical as we go on:  biggest different to standard ML. HTM starts with assumption that everything based on memory and recall of sequences of patterns. \n",
    "\n",
    "The contrasts to other types of machine learning does not end there: HTM systems learn continuously. There is no training set, no batch processing, the model changes as data changes. This allows the HTM build predictive model of the world, and adapt to how well it is going (JG:: idea of correction from muliple agents)\n",
    "\n",
    "\n"
   ]
  },
  {
   "cell_type": "markdown",
   "metadata": {},
   "source": [
    "In the next Videa (Bit Arrays Episode 1) is not HTM as such"
   ]
  },
  {
   "cell_type": "code",
   "execution_count": 4,
   "metadata": {},
   "outputs": [
    {
     "data": {
      "text/html": [
       "<iframe width=\"560\" height=\"315\" src=\"https://www.youtube.com/embed/Ub1fE-bAroA\" title=\"YouTube video player\" frameborder=\"0\" allow=\"accelerometer; autoplay; clipboard-write; encrypted-media; gyroscope; picture-in-picture\" allowfullscreen></iframe>"
      ],
      "text/plain": [
       "<IPython.core.display.HTML object>"
      ]
     },
     "execution_count": 4,
     "metadata": {},
     "output_type": "execute_result"
    }
   ],
   "source": [
    "HTML('<iframe width=\"560\" height=\"315\" src=\"https://www.youtube.com/embed/Ub1fE-bAroA\" title=\"YouTube video player\" frameborder=\"0\" allow=\"accelerometer; autoplay; clipboard-write; encrypted-media; gyroscope; picture-in-picture\" allowfullscreen></iframe>')"
   ]
  },
  {
   "cell_type": "markdown",
   "metadata": {},
   "source": [
    "VIDEO 2: \n",
    "BIt Arrays...... Episode 1\n",
    "\n",
    "precursor to SDR\n",
    "\n",
    "01101101 - 8 bit array - on or off, positive or negative- find capacity\n",
    "\n",
    "2^8 = 256, 8 elements number of bits 2^n is capacity of array, how many states it can have \n",
    "\n",
    "we can start on right, move over so \n",
    "1 x 1\n",
    "2 x 0\n",
    "4 x 1\n",
    "8 X 1 etc...\n",
    "\n",
    "so number above is 109....bit array has no semantic value\n",
    "\n",
    "ascii - character format in 8 bit format - 01101101 = \"m\" - arbitrary\n",
    "bits don't mean anything....so example of asci has no semantic value\n",
    "\n",
    "Basic binary operations....OR - if either is 1, is 1\n",
    "\n",
    "AND - simmilair, both must be positive, both be 1's, \n",
    "\n",
    "Also XOR variation.....only 1 or the  other can be 1, exclusive OR\n",
    "\n",
    "NOT - everyting just becoes NOT\n",
    "\n",
    "\"Population\" - how mahy positive values in a bit array\n",
    "00110011 = \"4\", also called \"Hamming Weight\", number of non-zero symbols\n",
    "\n",
    "Bigger bit array.....256 bits\n",
    "\n",
    "2 ^ 256 - 1 with 77 zeros after that - so lots of different states\n",
    "\n",
    "Sparsity vs density\n",
    "\n",
    "50%/50% - very dense\n",
    "\n",
    "vs 4/256 - very sparse.....also has much less capacity - 2% has fewer \n",
    "\n",
    "could store 4 onbits in array in 256 array in about 175million ways\n",
    "\n",
    "Sparse array as a way of representing features - 4 bits that are on could be \n",
    "bit 1 - is musiciian\n",
    "bit 2 - femae\n",
    "bit 3 - alive\n",
    "bit 4 - african american\n",
    "\n",
    "Would represent manynot all \n",
    "\n",
    "Compression \n",
    "if you have 50% propbabiliy of bieing on or off, can't compress\n",
    "\n",
    "for sparse array, we can compress - all we need to store indices on on bits \n",
    "\n",
    "4 x 8 bits gives for 8 bit numbers from 256 array, so storable in 32 bits\n",
    "\n",
    "So we can compress efficiently. \n",
    "\n"
   ]
  },
  {
   "cell_type": "code",
   "execution_count": 5,
   "metadata": {},
   "outputs": [
    {
     "data": {
      "text/html": [
       "<iframe width=\"560\" height=\"315\" src=\"https://www.youtube.com/embed/ZDgCdWTuIzc\" title=\"YouTube video player\" frameborder=\"0\" allow=\"accelerometer; autoplay; clipboard-write; encrypted-media; gyroscope; picture-in-picture\" allowfullscreen></iframe>"
      ],
      "text/plain": [
       "<IPython.core.display.HTML object>"
      ]
     },
     "execution_count": 5,
     "metadata": {},
     "output_type": "execute_result"
    }
   ],
   "source": [
    "HTML('<iframe width=\"560\" height=\"315\" src=\"https://www.youtube.com/embed/ZDgCdWTuIzc\" title=\"YouTube video player\" frameborder=\"0\" allow=\"accelerometer; autoplay; clipboard-write; encrypted-media; gyroscope; picture-in-picture\" allowfullscreen></iframe>')"
   ]
  },
  {
   "cell_type": "markdown",
   "metadata": {},
   "source": [
    "There is an interesting example in this video the next video (SDR Capcity and comparison) speaks the complexity we get to the heart of the matter. An example is music. As we play a musical instrument, complexity, as you listen, some neurons active for a specific frequence, but most silence. Every region, sparse representation, represetnatino world at any given time. \n",
    "\n",
    "At the end of the scale, the frontal cortex is planning music you are about to play. Music is a really interesting example, SDRs that represent plannning planning music you are about to play - creates SDRs that represents that plan, and feeds them down to lower regions of the cortex. The motor cortex contains SDRs that do muscle movement - small percentage will fire in response to top down sdr reprsent - SDR fill fire insequence, control movement. \n",
    "\n",
    "At this points, SDR is something of a panacea dta structure, worth understanding powerful way to move information. The governing ideas that this structure being utilised for every aspect of cognition, every sensory modality, iteration through SDRs. But its still not clear \n",
    "\n",
    "Let's more toward some  with some terminlogy and accetp for the moment, a portion of this information representing this complexity, can be somehow put into a bit array, that this SDR has a temporal relationship to another SDR. \n",
    "\n",
    "First is array length, or array capacity, which we will denote $n$. Another variable $w$, or the population. We can think of this as a bit array of length n. We can imagine this as a Python numpy array, and can be readily constructed"
   ]
  },
  {
   "cell_type": "code",
   "execution_count": 6,
   "metadata": {},
   "outputs": [
    {
     "data": {
      "text/plain": [
       "array([0, 0, 0, 0, 0, 0, 0, 1, 1])"
      ]
     },
     "execution_count": 6,
     "metadata": {},
     "output_type": "execute_result"
    }
   ],
   "source": [
    "a = np.array([0,0,0,0,0,0,0,1,1])\n",
    "a"
   ]
  },
  {
   "cell_type": "markdown",
   "metadata": {},
   "source": []
  },
  {
   "cell_type": "markdown",
   "metadata": {},
   "source": [
    "This has $n$ value of 10, and a $w$ value of 2, and leads to the notion of sparsity, being the percentage of of bits that are on: in this case this SDR has a sparsity of 20%\n",
    "\n",
    "Let's move to a more typical SDR, let's say the following specs: \n",
    "\n",
    "- n = 256, is array length, 256 boxes\n",
    "- w = 5, populatio nof array, number of on bits\n",
    "\n",
    "This gives a sparsity of almost 2% percent is percentage of bits that are on. A first question is: how much information could we possibly hold in this array, if each value. This really down to the question in this case, how many ways to organise 5 things in an array of 256. This is a well known mathematical cosntruct, called the binomial coeffient, denoted as $\\binom{n}{w}$ \n",
    "\n",
    "It's worth noting that the binomial coeffienct is not just the amount. It is the quadratic powers. It turns up in pascal triangles. It's imprtant for our purposes, let's calculate"
   ]
  },
  {
   "cell_type": "code",
   "execution_count": 7,
   "metadata": {},
   "outputs": [
    {
     "data": {
      "text/latex": [
       "$\\displaystyle 8809549056$"
      ],
      "text/plain": [
       "8809549056"
      ]
     },
     "execution_count": 7,
     "metadata": {},
     "output_type": "execute_result"
    }
   ],
   "source": [
    "sp.binomial(256, 5)"
   ]
  },
  {
   "cell_type": "markdown",
   "metadata": {},
   "source": [
    "What is this number, 88 billion. If we think about so in an an array, we are saying there are 88 billion ways to arrange 5 items. This suggests. If I wanted to store 88 billion values, I could do this with this structure. Capacity "
   ]
  },
  {
   "cell_type": "code",
   "execution_count": 8,
   "metadata": {},
   "outputs": [
    {
     "data": {
      "image/png": "[encoded data removed]",
      "text/plain": [
       "<Figure size 432x288 with 1 Axes>"
      ]
     },
     "metadata": {},
     "output_type": "display_data"
    }
   ],
   "source": [
    "m = ([sp.binomial(i, 2) for i in range(25)])\n",
    "p = plt.bar(range(25), m)"
   ]
  },
  {
   "cell_type": "markdown",
   "metadata": {},
   "source": [
    "As well as this telling us we can storage, it tell us as that capcity of a Sparse ditributed arrray changes. We can dial up and and down. Essentiall, more sparsity \n",
    "As we dial up sparsity, more onbits, capcity starts to grow. This is also a continuous phenomenon. \n",
    "\n",
    "In HTM, the minimum size of arrays tends to be around 2048, with a poulation of (or $w$ value) or 40. We generally go up to around 65000 with a 2% capacity. So we are talking about 1300 on bits in a 65000 bit array. What would that look like: "
   ]
  },
  {
   "cell_type": "code",
   "execution_count": 9,
   "metadata": {},
   "outputs": [
    {
     "data": {
      "text/latex": [
       "$\\displaystyle 405771486507482326157958196844594547311251156691794099541779943697348732532649154205636291938522406209808755229744031014820081239313551961586741608198485194832686377803078876182860025125806767904102331980018699162482934638902094494634331697906824041435602372675688661536471519795858611770163637086955034268669450464012038907135059035635996482414195189901966385782444759898075361005418169021306130115509613658280141264064411334078888436227520108979219963628138779488564958699083400242821750065593574061789935512471425078653429469848624727788421204335611819437863136764028826578104166719534245642339449986238434664841884857146521241772840982707804723402405677926834648744917056671966807400173502728748912796444561071112531700241807235923767262982657659952687445261702715501633709193701093119218205548464330396962673232120994956862305009951286252613029185680134700366545358675501705611035859950140096231335676263416861622919110841048295739014268116292444097498303389977997444545082320103799412795070385494064657215457750597601124053808339248836427861872258436724556313194908102394697736484049486195625412034525797584077007372784098329535635140284440033840923076763603316408980391525047453654749264749734364362714275761023419192050255763079654038534351674170437285967858358931724777748443336584631981509628765080550950401309286546130842083741969040505083494124271551126027411831292407983568306244798864284757353922149476806097956022960034770210281461829245699837229026635480389200545642477335381798977831497503072174167818857438060783855455002084000927003117819947476781503230454707391306820268454178085846961214394943024840651312859436259774700939087468713326354066499286309465857479793552636855428848579310480320541446087313831737696223651717925676710163226197379646284064637782272438556145097711182537201226238913943512504160622660020269485101833080850791584633887855524080579391664584604013677222069782815241586832230682494838519069549236744321663970756664036674040847027487706618117566240703276391679740894299971143156889445563612840083375666455633319426535144307362232660372953894527625990069452295650685339717390827853324830214623017439876680999148480933264292789244178178955228793085462045530662198881456947680003876716036790234152311675575906486525137838025154851088860687135216399570356037939583003839921685054204105597649422133029917932296871445714806427155755252084764897210391323034627524618852506223527414111605507018076478041571206922851120770935248271595054030839737589958005290839852120016623984568780745597490574515073553023822008463900070726484623696995443299523080656051393911974038243883410256569567723294988777582361815288423434619481737537830702853502635520932826657365993965881203394739047693573106569019295567132087474259693185231171397236321100$"
      ],
      "text/plain": [
       "405771486507482326157958196844594547311251156691794099541779943697348732532649154205636291938522406209808755229744031014820081239313551961586741608198485194832686377803078876182860025125806767904102331980018699162482934638902094494634331697906824041435602372675688661536471519795858611770163637086955034268669450464012038907135059035635996482414195189901966385782444759898075361005418169021306130115509613658280141264064411334078888436227520108979219963628138779488564958699083400242821750065593574061789935512471425078653429469848624727788421204335611819437863136764028826578104166719534245642339449986238434664841884857146521241772840982707804723402405677926834648744917056671966807400173502728748912796444561071112531700241807235923767262982657659952687445261702715501633709193701093119218205548464330396962673232120994956862305009951286252613029185680134700366545358675501705611035859950140096231335676263416861622919110841048295739014268116292444097498303389977997444545082320103799412795070385494064657215457750597601124053808339248836427861872258436724556313194908102394697736484049486195625412034525797584077007372784098329535635140284440033840923076763603316408980391525047453654749264749734364362714275761023419192050255763079654038534351674170437285967858358931724777748443336584631981509628765080550950401309286546130842083741969040505083494124271551126027411831292407983568306244798864284757353922149476806097956022960034770210281461829245699837229026635480389200545642477335381798977831497503072174167818857438060783855455002084000927003117819947476781503230454707391306820268454178085846961214394943024840651312859436259774700939087468713326354066499286309465857479793552636855428848579310480320541446087313831737696223651717925676710163226197379646284064637782272438556145097711182537201226238913943512504160622660020269485101833080850791584633887855524080579391664584604013677222069782815241586832230682494838519069549236744321663970756664036674040847027487706618117566240703276391679740894299971143156889445563612840083375666455633319426535144307362232660372953894527625990069452295650685339717390827853324830214623017439876680999148480933264292789244178178955228793085462045530662198881456947680003876716036790234152311675575906486525137838025154851088860687135216399570356037939583003839921685054204105597649422133029917932296871445714806427155755252084764897210391323034627524618852506223527414111605507018076478041571206922851120770935248271595054030839737589958005290839852120016623984568780745597490574515073553023822008463900070726484623696995443299523080656051393911974038243883410256569567723294988777582361815288423434619481737537830702853502635520932826657365993965881203394739047693573106569019295567132087474259693185231171397236321100"
      ]
     },
     "execution_count": 9,
     "metadata": {},
     "output_type": "execute_result"
    }
   ],
   "source": [
    "sp.binomial(65000, 1300)"
   ]
  },
  {
   "cell_type": "markdown",
   "metadata": {},
   "source": [
    "Whatever that number is, it is huge. And we can represent. We can think of this as being in different states. \n",
    "\n",
    "For our purposes we will look at 1024 bits with a 103 population, and we can think of this as an entry point. "
   ]
  },
  {
   "cell_type": "code",
   "execution_count": 10,
   "metadata": {},
   "outputs": [
    {
     "data": {
      "text/latex": [
       "$\\displaystyle 574061389037641785817820812787198975366807215567446126546497208903483089368776997004843461892680013605198226362084977338469713209983466748943360$"
      ],
      "text/plain": [
       "574061389037641785817820812787198975366807215567446126546497208903483089368776997004843461892680013605198226362084977338469713209983466748943360"
      ]
     },
     "execution_count": 10,
     "metadata": {},
     "output_type": "execute_result"
    }
   ],
   "source": [
    "sp.binomial(1024, 103)"
   ]
  },
  {
   "cell_type": "markdown",
   "metadata": {},
   "source": [
    "So if I had that many symbols and I wanted to store them, this data structure woudl work. To get a better sense of this, let's create a visualisation. We will meet at a compromise, 1024 bit array. It's difficult to write this on the screen, so althrough it is 1024 bits, we will represent it as a 32 x 32 grid, of bits that can off or on. Let's create this in matplotlib with the following specs:\n",
    "\n",
    "- n value: 1024\n",
    "- w value: 103\n",
    "- sparsity (w / n) = .10\n",
    "\n",
    "We will have a seperate functino to create random onbits for a given sdr size and given population."
   ]
  },
  {
   "cell_type": "code",
   "execution_count": 11,
   "metadata": {},
   "outputs": [],
   "source": [
    "def create_on_bit(x_limit, y_limit):\n",
    "    return(plt.gca().add_patch(Rectangle((np.random.randint(low=1, high=x_limit),np.random.randint(low=1, high=y_limit)),1,1,linewidth=1,edgecolor='b',facecolor='blue')))\n",
    "    "
   ]
  },
  {
   "cell_type": "code",
   "execution_count": 12,
   "metadata": {},
   "outputs": [
    {
     "data": {
      "image/png": "[encoded data removed]",
      "text/plain": [
       "<Figure size 360x360 with 1 Axes>"
      ]
     },
     "metadata": {},
     "output_type": "display_data"
    }
   ],
   "source": [
    "sdr_size = 1024\n",
    "population = 103\n",
    "label = str(np.round(sdr_size/population, 3))\n",
    "fig, ax = plt.subplots(figsize=(5, 5))\n",
    "plt.xlabel('SDR Sparsity: {}'.format(label))\n",
    "\n",
    "\n",
    "ax.set_xticks(range(32))\n",
    "ax.set_yticks(range(32))\n",
    "[ax.xaxis.get_major_ticks()[i].tick1line.set_color(\"white\") for i in range(32)]\n",
    "[ax.yaxis.get_major_ticks()[i].tick1line.set_color(\"white\") for i in range(32)]\n",
    "\n",
    "plt.xticks(color='w')\n",
    "plt.yticks(color='w')\n",
    "\n",
    "plt.grid(color='k', linestyle='-', linewidth=.5)\n",
    "\n",
    "r = [create_on_bit(np.sqrt(sdr_size), np.sqrt(sdr_size)) for i in range(population)]"
   ]
  },
  {
   "cell_type": "markdown",
   "metadata": {},
   "source": [
    "Note that the create_on_bit function returns information specific for matplotlib. but we can also easily get the codrinates"
   ]
  },
  {
   "cell_type": "code",
   "execution_count": 13,
   "metadata": {},
   "outputs": [
    {
     "data": {
      "text/plain": [
       "[[1, 30], [2, 17], [19, 10]]"
      ]
     },
     "execution_count": 13,
     "metadata": {},
     "output_type": "execute_result"
    }
   ],
   "source": [
    "coords = [list(r[i].get_xy()) for i in range(len(r))]\n",
    "coords[1:4]"
   ]
  },
  {
   "cell_type": "markdown",
   "metadata": {},
   "source": [
    "So what is being returned here? 1 possible way that 103 bits can be arranged in 1024 places, 1 possible way of an enormous amount. And just waht is the probability of us seeing this particular sequence above? It would just be 1 out of however many possible states. Whatever this number is:  "
   ]
  },
  {
   "cell_type": "code",
   "execution_count": 14,
   "metadata": {},
   "outputs": [
    {
     "data": {
      "text/latex": [
       "$\\displaystyle \\frac{1}{574061389037641785817820812787198975366807215567446126546497208903483089368776997004843461892680013605198226362084977338469713209983466748943360}$"
      ],
      "text/plain": [
       "1/574061389037641785817820812787198975366807215567446126546497208903483089368776997004843461892680013605198226362084977338469713209983466748943360"
      ]
     },
     "execution_count": 14,
     "metadata": {},
     "output_type": "execute_result"
    }
   ],
   "source": [
    "1 / sp.binomial(1024, 103)"
   ]
  },
  {
   "cell_type": "markdown",
   "metadata": {},
   "source": [
    "SDRs become far more interesting when considered in conjunction with one another, relative to each other, how one states goes to another. If this uses multiple SDRs and we can compare the difference between them. We might be intrested in how they overlap. Alternatively, we might be interested  two consider 2 SDRs, explore their  specs, and then look at their overlap in a third SDR. \n",
    "Let's consider two randomly generated SDR"
   ]
  },
  {
   "cell_type": "code",
   "execution_count": 15,
   "metadata": {},
   "outputs": [],
   "source": [
    "def create_randominsed_on_bits(x_limit, y_limit):\n",
    "    return((np.random.randint(low=1, high=x_limit),np.random.randint(low=1, high=y_limit)))\n",
    "    "
   ]
  },
  {
   "cell_type": "code",
   "execution_count": 18,
   "metadata": {},
   "outputs": [
    {
     "data": {
      "image/png": "[encoded data removed]",
      "text/plain": [
       "<Figure size 1080x360 with 3 Axes>"
      ]
     },
     "metadata": {},
     "output_type": "display_data"
    }
   ],
   "source": [
    "sdr_size = 1024\n",
    "population = 103\n",
    "label = str(np.round(sdr_size/population, 3))\n",
    "\n",
    "specs1 = [create_randominsed_on_bits(np.sqrt(sdr_size), np.sqrt(sdr_size)) for i in range(population)]\n",
    "specs2 = [create_randominsed_on_bits(np.sqrt(sdr_size), np.sqrt(sdr_size)) for i in range(population)]\n",
    "\n",
    "fig, (ax1, ax2, ax3) = plt.subplots(1, 3, figsize=(15, 5))\n",
    "\n",
    "\n",
    "ax1.set_xlabel('SDR Sparsity: {}'.format(label))\n",
    "ax2.set_xlabel('SDR Sparsity: {}'.format(label))\n",
    "\n",
    "ax1.set_xticks(range(32))\n",
    "ax1.set_yticks(range(32))\n",
    "[ax1.xaxis.get_major_ticks()[i].tick1line.set_color(\"white\") for i in range(32)]\n",
    "[ax1.yaxis.get_major_ticks()[i].tick1line.set_color(\"white\") for i in range(32)]\n",
    "ax1.set_yticklabels([])\n",
    "ax1.set_xticklabels([])\n",
    "ax1.grid(color='k', linestyle='-', linewidth=.5)\n",
    "\n",
    "ax2.set_xticks(range(32))\n",
    "ax2.set_yticks(range(32))\n",
    "[ax2.xaxis.get_major_ticks()[i].tick1line.set_color(\"white\") for i in range(32)]\n",
    "[ax2.yaxis.get_major_ticks()[i].tick1line.set_color(\"white\") for i in range(32)]\n",
    "ax2.set_yticklabels([])\n",
    "ax2.set_xticklabels([])\n",
    "ax2.grid(color='k', linestyle='-', linewidth=.5)\n",
    "\n",
    "\n",
    "\n",
    "SDR1 = [ax1.add_patch(Rectangle(specs1[i], 1, 1, color=\"blue\")) for i in range(len(specs1))]\n",
    "SDR2 = [ax2.add_patch(Rectangle(specs2[i], 1, 1, color=\"blue\")) for i in range(len(specs2))]\n"
   ]
  },
  {
   "cell_type": "code",
   "execution_count": 17,
   "metadata": {},
   "outputs": [
    {
     "data": {
      "text/plain": [
       "{(1, 1),\n",
       " (1, 25),\n",
       " (1, 30),\n",
       " (2, 1),\n",
       " (2, 20),\n",
       " (2, 21),\n",
       " (3, 1),\n",
       " (3, 5),\n",
       " (4, 1),\n",
       " (4, 8),\n",
       " (4, 26),\n",
       " (4, 27),\n",
       " (4, 31),\n",
       " (5, 3),\n",
       " (5, 8),\n",
       " (5, 11),\n",
       " (5, 12),\n",
       " (5, 25),\n",
       " (5, 28),\n",
       " (6, 1),\n",
       " (6, 5),\n",
       " (6, 10),\n",
       " (6, 25),\n",
       " (7, 1),\n",
       " (7, 7),\n",
       " (7, 12),\n",
       " (7, 13),\n",
       " (7, 19),\n",
       " (7, 24),\n",
       " (8, 6),\n",
       " (8, 8),\n",
       " (8, 18),\n",
       " (8, 23),\n",
       " (8, 25),\n",
       " (8, 27),\n",
       " (8, 29),\n",
       " (9, 9),\n",
       " (9, 11),\n",
       " (9, 12),\n",
       " (9, 14),\n",
       " (9, 30),\n",
       " (10, 3),\n",
       " (10, 7),\n",
       " (10, 13),\n",
       " (10, 19),\n",
       " (10, 23),\n",
       " (10, 24),\n",
       " (10, 26),\n",
       " (11, 1),\n",
       " (11, 4),\n",
       " (11, 9),\n",
       " (11, 12),\n",
       " (11, 13),\n",
       " (11, 14),\n",
       " (11, 26),\n",
       " (11, 30),\n",
       " (12, 2),\n",
       " (12, 4),\n",
       " (12, 7),\n",
       " (12, 8),\n",
       " (12, 15),\n",
       " (12, 20),\n",
       " (13, 5),\n",
       " (13, 12),\n",
       " (13, 14),\n",
       " (13, 17),\n",
       " (13, 18),\n",
       " (13, 20),\n",
       " (13, 21),\n",
       " (13, 22),\n",
       " (13, 30),\n",
       " (14, 6),\n",
       " (14, 9),\n",
       " (14, 17),\n",
       " (14, 24),\n",
       " (14, 28),\n",
       " (15, 1),\n",
       " (15, 2),\n",
       " (15, 6),\n",
       " (15, 7),\n",
       " (15, 21),\n",
       " (15, 22),\n",
       " (15, 27),\n",
       " (15, 28),\n",
       " (15, 29),\n",
       " (16, 1),\n",
       " (16, 3),\n",
       " (16, 7),\n",
       " (16, 8),\n",
       " (16, 10),\n",
       " (16, 21),\n",
       " (16, 24),\n",
       " (17, 3),\n",
       " (17, 5),\n",
       " (17, 8),\n",
       " (17, 21),\n",
       " (17, 22),\n",
       " (17, 28),\n",
       " (17, 29),\n",
       " (18, 3),\n",
       " (18, 4),\n",
       " (18, 6),\n",
       " (18, 7),\n",
       " (18, 9),\n",
       " (18, 14),\n",
       " (18, 21),\n",
       " (18, 24),\n",
       " (18, 25),\n",
       " (18, 26),\n",
       " (19, 5),\n",
       " (19, 9),\n",
       " (19, 13),\n",
       " (19, 22),\n",
       " (19, 23),\n",
       " (19, 26),\n",
       " (19, 28),\n",
       " (20, 13),\n",
       " (20, 14),\n",
       " (20, 20),\n",
       " (20, 26),\n",
       " (20, 30),\n",
       " (21, 1),\n",
       " (21, 8),\n",
       " (21, 19),\n",
       " (21, 30),\n",
       " (22, 3),\n",
       " (22, 12),\n",
       " (22, 13),\n",
       " (22, 23),\n",
       " (22, 28),\n",
       " (22, 29),\n",
       " (23, 3),\n",
       " (23, 6),\n",
       " (23, 7),\n",
       " (23, 17),\n",
       " (23, 20),\n",
       " (23, 29),\n",
       " (24, 5),\n",
       " (24, 7),\n",
       " (24, 15),\n",
       " (24, 21),\n",
       " (24, 27),\n",
       " (24, 30),\n",
       " (25, 1),\n",
       " (25, 4),\n",
       " (25, 10),\n",
       " (25, 12),\n",
       " (25, 19),\n",
       " (25, 21),\n",
       " (26, 7),\n",
       " (26, 9),\n",
       " (26, 24),\n",
       " (26, 26),\n",
       " (27, 1),\n",
       " (27, 2),\n",
       " (27, 17),\n",
       " (27, 23),\n",
       " (27, 26),\n",
       " (27, 29),\n",
       " (28, 2),\n",
       " (28, 5),\n",
       " (28, 6),\n",
       " (28, 8),\n",
       " (28, 16),\n",
       " (28, 18),\n",
       " (28, 19),\n",
       " (28, 23),\n",
       " (28, 25),\n",
       " (28, 26),\n",
       " (28, 27),\n",
       " (29, 4),\n",
       " (29, 5),\n",
       " (29, 11),\n",
       " (29, 17),\n",
       " (29, 21),\n",
       " (29, 24),\n",
       " (29, 30),\n",
       " (30, 3),\n",
       " (30, 9),\n",
       " (30, 13),\n",
       " (30, 15),\n",
       " (30, 30),\n",
       " (31, 2),\n",
       " (31, 9),\n",
       " (31, 13),\n",
       " (31, 19),\n",
       " (31, 22),\n",
       " (31, 27)}"
      ]
     },
     "execution_count": 17,
     "metadata": {},
     "output_type": "execute_result"
    }
   ],
   "source": [
    "set(specs1).union(specs2)"
   ]
  },
  {
   "cell_type": "code",
   "execution_count": null,
   "metadata": {},
   "outputs": [],
   "source": []
  },
  {
   "cell_type": "code",
   "execution_count": null,
   "metadata": {},
   "outputs": [],
   "source": []
  },
  {
   "cell_type": "code",
   "execution_count": null,
   "metadata": {},
   "outputs": [],
   "source": []
  },
  {
   "cell_type": "markdown",
   "metadata": {},
   "source": [
    "\n",
    "We can consider overlap (AND), union (UNION) -\n",
    "\n",
    "Overall tell us where they are the same - gives an overlap score - how many they have in common\n",
    "\n",
    "We could do OR/UNION - in these specs, we see the sparsity almost double. \n",
    "\n",
    "Also can do copare, where we put them on same grid, and colored differntly, highlighinting where colors the same\n",
    "\n",
    "Unions/Overlaps become really important that we can leverage off....\n",
    "\n",
    "We can also set this up to show noise tollerance across a vis of 3 arrays\n",
    "\n",
    "Specs \n",
    "n = 2048\n",
    "w = 41\n",
    "spars = 0.02\n",
    "\n",
    "1 - generate the specs\n",
    "2 - generate the same SDR but flip 33% of the entries to noise\n",
    "3 - Look at the resulting overlap score \n",
    "\n",
    "So 33% of noise gives overlap of 28\n",
    "\n",
    "Leads to fuzzy matching - use a value $\\theta$ - threshold of overlap score\n",
    "\n",
    "We can dial theta up and down \n",
    "\n",
    "INteresting - you can set theta, then change noise - idea of how much noise we can add and still get a match....\n",
    "\n",
    "interesting...we can consider a formula of if something is a false postive - math means astronomical small percentage of a match.....SDRS\n",
    "\n",
    "Even when we dial up to 50%, we get hardly any change of a false positive\n",
    "\n",
    "SDRs have massive resistance to noise"
   ]
  },
  {
   "cell_type": "code",
   "execution_count": null,
   "metadata": {},
   "outputs": [],
   "source": []
  },
  {
   "cell_type": "code",
   "execution_count": null,
   "metadata": {},
   "outputs": [],
   "source": []
  },
  {
   "cell_type": "code",
   "execution_count": null,
   "metadata": {},
   "outputs": [],
   "source": []
  },
  {
   "cell_type": "code",
   "execution_count": null,
   "metadata": {},
   "outputs": [],
   "source": []
  }
 ],
 "metadata": {
  "kernelspec": {
   "display_name": "Python 3",
   "language": "python",
   "name": "python3"
  },
  "language_info": {
   "codemirror_mode": {
    "name": "ipython",
    "version": 3
   },
   "file_extension": ".py",
   "mimetype": "text/x-python",
   "name": "python",
   "nbconvert_exporter": "python",
   "pygments_lexer": "ipython3",
   "version": "3.7.3"
  }
 },
 "nbformat": 4,
 "nbformat_minor": 4
}
