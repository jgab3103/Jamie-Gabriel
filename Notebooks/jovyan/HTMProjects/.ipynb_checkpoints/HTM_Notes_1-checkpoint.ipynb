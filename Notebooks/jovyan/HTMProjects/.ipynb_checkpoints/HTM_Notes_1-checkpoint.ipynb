{
 "cells": [
  {
   "cell_type": "markdown",
   "metadata": {},
   "source": [
    "<i>STATUS: Draft<i>"
   ]
  },
  {
   "cell_type": "code",
   "execution_count": 1,
   "metadata": {},
   "outputs": [],
   "source": [
    "import sympy as sp\n",
    "import numpy as np\n",
    "from IPython.display import HTML"
   ]
  },
  {
   "cell_type": "code",
   "execution_count": 2,
   "metadata": {},
   "outputs": [
    {
     "data": {
      "application/javascript": [
       "    var script = document.createElement('script');\n",
       "    script.type = 'text/javascript';\n",
       "    script.src = \"https://d3js.org/d3.v6.min.js\";\n",
       "    document.head.appendChild(script);\n",
       "    console.log(window.d3)"
      ],
      "text/plain": [
       "<IPython.core.display.Javascript object>"
      ]
     },
     "metadata": {},
     "output_type": "display_data"
    }
   ],
   "source": [
    "%%javascript\n",
    "    var script = document.createElement('script');\n",
    "    script.type = 'text/javascript';\n",
    "    script.src = \"https://d3js.org/d3.v6.min.js\";\n",
    "    document.head.appendChild(script);\n",
    "    console.log(window.d3)"
   ]
  },
  {
   "cell_type": "code",
   "execution_count": null,
   "metadata": {},
   "outputs": [],
   "source": []
  },
  {
   "cell_type": "markdown",
   "metadata": {},
   "source": [
    "Part 1: Overview \n",
    "\n",
    "\n",
    "htm - unique approach\n",
    "\n",
    "build systems on same principles...\n",
    "\n",
    "neocortex - 75% of brain  / evolved in mammals\n",
    "in humans, size of 2.5mm thick, scrunhed up inside the skull\n",
    "\n",
    "older parts - eatings/sleeping/sex\n",
    "\n",
    "neocortex - memories/identity/intelligence - \"Seat of intelligence\"\n",
    "\n",
    "slices under microscrope - cellular structure almost identical, visual / auditory all the same, tells us that problems brains solve, solve in same way, same cortical structure, same algorithmic structure\n",
    "\n",
    "Neocotex regions - nerve fbers, through white matter - lower levels  come up through higher levels, output, sent upward\n",
    "\n",
    "As we climb /ascend, ideas become more abstract and more permnanent\n",
    "\n",
    "lower levels - edges / borders\n",
    "higher levels - shape recognicition\n",
    "higher - object recognision\n",
    "higher - ideas and memories\n",
    "\n",
    "HTM - theory - common processes , not concerned all diff ways info come in, concertned with processing when info arises \n",
    "\n",
    "We can can focus on region - as they are all the same, we can create arbitrary complexity\n",
    "\n",
    "human - 20-30 billion neorons, state is what is on, and we find remarkably small percentate of bits are on - this is the \"State\" gnerally about 2% on at any given time\n",
    "\n",
    "\n",
    "\"Sparse Distributed Represntentaiotn\" SDR key element, whehter on or off - can be rep as array as 1s and 0s whether it is active or not...taken from neuroscience - SDR - region and whether they are on or off....\n",
    "\n",
    "You need SDR as basic data strduure\n",
    "\n",
    "\n",
    "2 basic inputs into neocortex - 1 - motor commands copy gonig out of old brain and being sent to control muscles, coming in, copy goes into neocortex, so it can undertand how it interacting\n",
    "2 - sensory input, coming from all the, touch, smell etc. all copied and sent to neocortex - represetnation of what is happening in the world - provide sensory motor model, what is happening, and how it is interacting....eg optic nerve, sending new different pictures, provides continuity, data comes from our brains to provide this also\n",
    "\n",
    "HTM systems need sensory organse - sensory encoders - takes data type, converts into SDR, need to turn data type into SDR - all take some kind of data, converts them into SDR that system can understand. \n",
    "\n",
    "We can create encoders that have no biological counterpart - eg geocoding encoder. We can see its anomalies etd\n",
    "\n",
    "At heart of the theory is an aglorithm called temporal memory - learns patterns that are changing over time. Operates on motor commands and sens imput - temporal memory biggest different to standard ML. HTM starts with assumption tha teverything based on memory and recall of sequences of patterns. \n",
    "\n",
    "HTM systems learn continuous - no training set, no batch, model changes as data changes\n",
    "\n",
    "HTM build predictive model of the world, and adapt to how well it i going \n",
    "\n",
    "People working on neural networks over 50 years ago, sicne then things advanced, better understnadnign of biology, but still hasn't moved forward too much - ANNs (neural networks) stil not plausible \n",
    "\n",
    "HTM theory - evolving, made significant progress, even simulating 1 layer of 1 regions - this gives alot already - aim to build out into stofotware\n",
    "\n",
    "TO find out more.....\n",
    "On intelligence\n",
    "numenta.com/learn \n",
    "\n",
    "\n",
    "\n",
    "VIDEO 2: \n",
    "BIt Arrays...... Episode 1\n",
    "\n",
    "precursor to SDR\n",
    "\n",
    "01101101 - 8 bit array - on or off, positive or negative- find capacity\n",
    "\n",
    "2^8 = 256, 8 elements number of bits 2^n is capacity of array, how many states it can have \n",
    "\n",
    "we can start on right, move over so \n",
    "1 x 1\n",
    "2 x 0\n",
    "4 x 1\n",
    "8 X 1 etc...\n",
    "\n",
    "so number above is 109....bit array has no semantic value\n",
    "\n",
    "ascii - character format in 8 bit format - 01101101 = \"m\" - arbitrary\n",
    "bits don't mean anything....so example of asci has no semantic value\n",
    "\n",
    "Basic binary operations....OR - if either is 1, is 1\n",
    "\n",
    "AND - simmilair, both must be positive, both be 1's, \n",
    "\n",
    "Also XOR variation.....only 1 or the  other can be 1, exclusive OR\n",
    "\n",
    "NOT - everyting just becoes NOT\n",
    "\n",
    "\"Population\" - how mahy positive values in a bit array\n",
    "00110011 = \"4\", also called \"Hamming Weight\", number of non-zero symbols\n",
    "\n",
    "Bigger bit array.....256 bits\n",
    "\n",
    "2 ^ 256 - 1 with 77 zeros after that - so lots of different states\n",
    "\n",
    "Sparsity vs density\n",
    "\n",
    "50%/50% - very dense\n",
    "\n",
    "vs 4/256 - very sparse.....also has much less capacity - 2% has fewer \n",
    "\n",
    "could store 4 onbits in array in 256 array in about 175million ways\n",
    "\n",
    "Sparse array as a way of representing features - 4 bits that are on could be \n",
    "bit 1 - is musiciian\n",
    "bit 2 - femae\n",
    "bit 3 - alive\n",
    "bit 4 - african american\n",
    "\n",
    "Would represent manynot all \n",
    "\n",
    "Compression \n",
    "if you have 50% propbabiliy of bieing on or off, can't compress\n",
    "\n",
    "for sparse array, we can compress - all we need to store indices on on bits \n",
    "\n",
    "4 x 8 bits gives for 8 bit numbers from 256 array, so storable in 32 bits\n",
    "\n",
    "So we can compress efficiently. \n",
    "\n",
    "\n",
    "\n",
    "\n",
    "\n",
    "\n",
    "\n",
    "\n",
    "\n"
   ]
  },
  {
   "cell_type": "code",
   "execution_count": 3,
   "metadata": {},
   "outputs": [
    {
     "data": {
      "text/plain": [
       "96"
      ]
     },
     "execution_count": 3,
     "metadata": {},
     "output_type": "execute_result"
    }
   ],
   "source": [
    "sys.getsizeof(sample(range(0,256),4))"
   ]
  },
  {
   "cell_type": "code",
   "execution_count": 4,
   "metadata": {},
   "outputs": [
    {
     "data": {
      "text/plain": [
       "[160, 59, 223, 235]"
      ]
     },
     "execution_count": 4,
     "metadata": {},
     "output_type": "execute_result"
    }
   ],
   "source": [
    "sample(range(0,256),4)"
   ]
  },
  {
   "cell_type": "code",
   "execution_count": null,
   "metadata": {},
   "outputs": [],
   "source": []
  },
  {
   "cell_type": "code",
   "execution_count": null,
   "metadata": {},
   "outputs": [],
   "source": []
  },
  {
   "cell_type": "code",
   "execution_count": 5,
   "metadata": {},
   "outputs": [
    {
     "data": {
      "text/html": [
       "<div id='variable1' data-fromPython='300' ></div>"
      ],
      "text/plain": [
       "<IPython.core.display.HTML object>"
      ]
     },
     "execution_count": 5,
     "metadata": {},
     "output_type": "execute_result"
    }
   ],
   "source": [
    "variable1 = \"300\"\n",
    "HTML(\"<div id='variable1' data-fromPython='\" + variable1 + \"' ></div>\")"
   ]
  },
  {
   "cell_type": "code",
   "execution_count": 6,
   "metadata": {},
   "outputs": [
    {
     "data": {
      "application/javascript": [
       "\n",
       "var fromPython = document.getElementById('variable1').getAttribute('data-fromPython');\n",
       "\n",
       "\n",
       "var svg = d3.select(element)\n",
       "    .append(\"svg\")\n",
       "    .attr(\"width\", 500)\n",
       "    .attr(\"height\", 300);    \n",
       "\n",
       "svg.append(\"circle\")\n",
       "    .style(\"stroke\", \"gray\")\n",
       "    .style(\"fill\", \"cyan\")\n",
       "    .attr(\"r\", fromPython)\n",
       "    .attr(\"cx\", fromPython)\n",
       "    .attr(\"cy\", 150)\n",
       "    .transition()\n",
       "        .delay(100)\n",
       "        .duration(1000)  \n",
       "        .attr(\"r\", 10)\n",
       "        .attr(\"cx\", 150)\n",
       "        .style(\"fill\", \"orange\"); "
      ],
      "text/plain": [
       "<IPython.core.display.Javascript object>"
      ]
     },
     "metadata": {},
     "output_type": "display_data"
    }
   ],
   "source": [
    "%%javascript\n",
    "\n",
    "var fromPython = document.getElementById('variable1').getAttribute('data-fromPython');\n",
    "\n",
    "\n",
    "var svg = d3.select(element)\n",
    "    .append(\"svg\")\n",
    "    .attr(\"width\", 500)\n",
    "    .attr(\"height\", 300);    \n",
    "\n",
    "svg.append(\"circle\")\n",
    "    .style(\"stroke\", \"gray\")\n",
    "    .style(\"fill\", \"cyan\")\n",
    "    .attr(\"r\", fromPython)\n",
    "    .attr(\"cx\", fromPython)\n",
    "    .attr(\"cy\", 150)\n",
    "    .transition()\n",
    "        .delay(100)\n",
    "        .duration(1000)  \n",
    "        .attr(\"r\", 10)\n",
    "        .attr(\"cx\", 150)\n",
    "        .style(\"fill\", \"orange\"); "
   ]
  },
  {
   "cell_type": "code",
   "execution_count": 7,
   "metadata": {},
   "outputs": [
    {
     "data": {
      "application/javascript": [
       "\n",
       "var fromPython = document.getElementById('variable1').getAttribute('data-fromPython');\n",
       "\n",
       "\n",
       "var svg = d3.select(element)\n",
       "    .append(\"svg\")\n",
       "    .attr(\"width\", 500)\n",
       "    .attr(\"height\", 300);    \n",
       "\n",
       "svg.append(\"rect\")\n",
       "    .style(\"stroke\", \"gray\")\n",
       "    .style(\"fill\", \"cyan\")\n",
       "    .attr(\"length\", fromPython)\n",
       "    .attr(\"width\", fromPython)\n",
       "    .attr(\"x\", fromPython)\n",
       "    .attr(\"y\", 150)"
      ],
      "text/plain": [
       "<IPython.core.display.Javascript object>"
      ]
     },
     "metadata": {},
     "output_type": "display_data"
    }
   ],
   "source": [
    "%%javascript\n",
    "\n",
    "var fromPython = document.getElementById('variable1').getAttribute('data-fromPython');\n",
    "\n",
    "\n",
    "var svg = d3.select(element)\n",
    "    .append(\"svg\")\n",
    "    .attr(\"width\", 500)\n",
    "    .attr(\"height\", 300);    \n",
    "\n",
    "svg.append(\"rect\")\n",
    "    .style(\"stroke\", \"gray\")\n",
    "    .style(\"fill\", \"cyan\")\n",
    "    .attr(\"length\", fromPython)\n",
    "    .attr(\"width\", fromPython)\n",
    "    .attr(\"x\", fromPython)\n",
    "    .attr(\"y\", 150)\n"
   ]
  },
  {
   "cell_type": "code",
   "execution_count": 8,
   "metadata": {},
   "outputs": [
    {
     "data": {
      "application/javascript": [
       "\n",
       "var svg = d3.select(element)\n",
       "    .append(\"svg\")\n",
       "    .attr(\"width\", 700)\n",
       "    .attr(\"height\", 300);   \n",
       "\n",
       "var gridLineData = d3.range(0, 500, 10);\n",
       "    \n",
       "\n",
       "var background = svg.append('rect')\n",
       "                .attr('x', 0)\n",
       "                .attr('y', 0)\n",
       "                .attr('height', 500)\n",
       "                .attr('width', 500)\n",
       "                .style('stroke', \"black\")\n",
       "                .style('stroke-width', 1)\n",
       "                .attr('fill', \"white\");\n",
       "                \n",
       "                \n",
       "var verticalLines = svg.append('g')\n",
       "         .selectAll('line') \n",
       "         .data(gridLineData)\n",
       "         .enter()\n",
       "         .append('line')\n",
       "         .attr(\"x1\", function(d, i) {\n",
       "           return d;\n",
       "         })\n",
       "         .attr(\"y1\", function(d, i) {\n",
       "           return 0;\n",
       "         })\n",
       "         .attr(\"x2\", function(d,i) {\n",
       "           return d;\n",
       "         })\n",
       "         .attr(\"y2\", function(d, i){\n",
       "           return 500;\n",
       "         })\n",
       "       .style('stroke', \"black\")\n",
       "                .style('stroke-width', 1)\n",
       "         \n",
       "                \n",
       "var horizontalLines = svg.append(\"g\")\n",
       "          .selectAll('line')\n",
       "          .data(gridLineData)\n",
       "          .enter()\n",
       "          .append(\"line\")\n",
       "          .attr(\"x1\", function (d, i) {\n",
       "              return 0;\n",
       "          })\n",
       "          .attr(\"y1\", function (d, i) {\n",
       "              return d;\n",
       "          })\n",
       "          .attr(\"x2\", 500)\n",
       "          .attr(\"y2\", function (d, i) {\n",
       "\n",
       "              return d;\n",
       "          })\n",
       "           .style('stroke', \"black\")\n",
       "                .style('stroke-width', 1)\n",
       "\n",
       "\n",
       "var sdr = svg.append(\"g\") \n",
       "     .selectAll('rect')\n",
       "     .data([3,88,45, 55])\n",
       "      .enter().append('rect')\n",
       "      .attr('width', 10)\n",
       "      .attr('height', 10)\n",
       "      \n",
       "      .attr('x', function(d, i) {\n",
       "        if(d == \"0\") {\n",
       "         // do nothing\n",
       "          \n",
       "        } else {\n",
       "        \n",
       "        var x = (i % 50) * 10;\n",
       "\n",
       "         return(x)\n",
       "    \n",
       "        }\n",
       "      \n",
       "     \n",
       "      })\n",
       "      .attr('y', function(d, i) { \n",
       "          if(d == \"0\") {\n",
       "          // nothing\n",
       "        } else {\n",
       "            var h = Math.floor(i / 50) * 10\n",
       " \n",
       "            return h;\n",
       "        \n",
       "       \n",
       "        }\n",
       "      })\n",
       "      .attr('fill', 'steelblue');\n",
       "            "
      ],
      "text/plain": [
       "<IPython.core.display.Javascript object>"
      ]
     },
     "metadata": {},
     "output_type": "display_data"
    }
   ],
   "source": [
    "%%javascript\n",
    "\n",
    "var svg = d3.select(element)\n",
    "    .append(\"svg\")\n",
    "    .attr(\"width\", 700)\n",
    "    .attr(\"height\", 300);   \n",
    "\n",
    "var gridLineData = d3.range(0, 500, 10);\n",
    "    \n",
    "\n",
    "var background = svg.append('rect')\n",
    "                .attr('x', 0)\n",
    "                .attr('y', 0)\n",
    "                .attr('height', 500)\n",
    "                .attr('width', 500)\n",
    "                .style('stroke', \"black\")\n",
    "                .style('stroke-width', 1)\n",
    "                .attr('fill', \"white\");\n",
    "                \n",
    "                \n",
    "var verticalLines = svg.append('g')\n",
    "         .selectAll('line') \n",
    "         .data(gridLineData)\n",
    "         .enter()\n",
    "         .append('line')\n",
    "         .attr(\"x1\", function(d, i) {\n",
    "           return d;\n",
    "         })\n",
    "         .attr(\"y1\", function(d, i) {\n",
    "           return 0;\n",
    "         })\n",
    "         .attr(\"x2\", function(d,i) {\n",
    "           return d;\n",
    "         })\n",
    "         .attr(\"y2\", function(d, i){\n",
    "           return 500;\n",
    "         })\n",
    "       .style('stroke', \"black\")\n",
    "                .style('stroke-width', 1)\n",
    "         \n",
    "                \n",
    "var horizontalLines = svg.append(\"g\")\n",
    "          .selectAll('line')\n",
    "          .data(gridLineData)\n",
    "          .enter()\n",
    "          .append(\"line\")\n",
    "          .attr(\"x1\", function (d, i) {\n",
    "              return 0;\n",
    "          })\n",
    "          .attr(\"y1\", function (d, i) {\n",
    "              return d;\n",
    "          })\n",
    "          .attr(\"x2\", 500)\n",
    "          .attr(\"y2\", function (d, i) {\n",
    "\n",
    "              return d;\n",
    "          })\n",
    "           .style('stroke', \"black\")\n",
    "                .style('stroke-width', 1)\n",
    "\n",
    "\n",
    "var sdr = svg.append(\"g\") \n",
    "     .selectAll('rect')\n",
    "     .data([3,88,45, 55])\n",
    "      .enter().append('rect')\n",
    "      .attr('width', 10)\n",
    "      .attr('height', 10)\n",
    "      \n",
    "      .attr('x', function(d, i) {\n",
    "        if(d == \"0\") {\n",
    "         // do nothing\n",
    "          \n",
    "        } else {\n",
    "        \n",
    "        var x = (i % 50) * 10;\n",
    "\n",
    "         return(x)\n",
    "    \n",
    "        }\n",
    "      \n",
    "     \n",
    "      })\n",
    "      .attr('y', function(d, i) { \n",
    "          if(d == \"0\") {\n",
    "          // nothing\n",
    "        } else {\n",
    "            var h = Math.floor(i / 50) * 10\n",
    " \n",
    "            return h;\n",
    "        \n",
    "       \n",
    "        }\n",
    "      })\n",
    "      .attr('fill', 'steelblue');\n",
    "            "
   ]
  },
  {
   "cell_type": "code",
   "execution_count": null,
   "metadata": {},
   "outputs": [],
   "source": []
  }
 ],
 "metadata": {
  "kernelspec": {
   "display_name": "Python 3",
   "language": "python",
   "name": "python3"
  },
  "language_info": {
   "codemirror_mode": {
    "name": "ipython",
    "version": 3
   },
   "file_extension": ".py",
   "mimetype": "text/x-python",
   "name": "python",
   "nbconvert_exporter": "python",
   "pygments_lexer": "ipython3",
   "version": "3.7.3"
  }
 },
 "nbformat": 4,
 "nbformat_minor": 4
}
