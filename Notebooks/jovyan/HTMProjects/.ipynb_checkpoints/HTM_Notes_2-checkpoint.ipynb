{
 "cells": [
  {
   "cell_type": "markdown",
   "metadata": {},
   "source": [
    "<i>STATUS: Draft<i>"
   ]
  },
  {
   "cell_type": "code",
   "execution_count": 61,
   "metadata": {},
   "outputs": [],
   "source": [
    "import numpy as np\n",
    "import sympy as sp\n",
    "from IPython.display import HTML\n",
    "import matplotlib.pyplot as plt\n",
    "from matplotlib import animation\n",
    "from matplotlib.patches import Rectangle\n",
    "from IPython.display import Image\n",
    "from IPython.display import YouTubeVideo\n",
    "import sys\n"
   ]
  },
  {
   "cell_type": "markdown",
   "metadata": {},
   "source": [
    "In the last notebook, we covered the first 3 HTM school videaos, SDRs, notion of sparsity. We now can move to overlap sets. At the same time, we created some helper functions so let's list them now: "
   ]
  },
  {
   "cell_type": "code",
   "execution_count": 37,
   "metadata": {},
   "outputs": [],
   "source": [
    "def create_randominsed_sdr(x_limit, y_limit, population, one_dimensional = False):\n",
    "    sdr = set()\n",
    "    \n",
    "    if one_dimensional:\n",
    "        while len(sdr) < population:\n",
    "            sdr.add(np.random.randint(low=1, high=x_limit))\n",
    "    \n",
    "    else:                \n",
    "        while len(sdr) < population:\n",
    "            sdr.add((np.random.randint(low=1, high=x_limit),np.random.randint(low=1, high=y_limit)))\n",
    "    \n",
    "                \n",
    "    return(list(sdr))\n",
    "\n",
    "def create_axis_for_sdr(ax, x_limit, y_limit, population, label):\n",
    "    \n",
    "    label_add = np.round((population / (x_limit * y_limit)) * 100, 2)\n",
    "    label = label + ' (Sparsity: {}%)'.format(label_add)\n",
    "    \n",
    "    ax.set_xlabel(label)\n",
    "    ax.set_xticks(range(int(x_limit)))\n",
    "    ax.set_yticks(range(int(y_limit)))\n",
    "    [ax.xaxis.get_major_ticks()[i].tick1line.set_color(\"white\") for i in range(int(x_limit))]\n",
    "    [ax.yaxis.get_major_ticks()[i].tick1line.set_color(\"white\") for i in range(int(y_limit))]\n",
    "    ax.set_yticklabels([])\n",
    "    ax.set_xticklabels([])\n",
    "    ax.grid(color='k', linestyle='-', linewidth=.5)\n",
    "    \n",
    "    return(ax)\n",
    "\n",
    "def compute_union_and_overlap(SDR1_on_bits, SDR2_on_bits):\n",
    "    union = list(set(SDR1_on_bits).union(SDR2_on_bits))\n",
    "    overlap = list(set(SDR1_on_bits).intersection(SDR2_on_bits))\n",
    "    \n",
    "    return({\"union\": union, \"overlap\": overlap})\n",
    "\n",
    "def create_and_compare_sdrs_over_multiple_iterations(iterations, sdr_size, population):\n",
    "    # make this return averages\n",
    "    sdr_unions_for_comparison = []\n",
    "    sdr_overlaps_for_comparison = []\n",
    "    for x in range(iterations):\n",
    "        SDR1 = create_randominsed_sdr(np.sqrt(sdr_size), np.sqrt(sdr_size), population)\n",
    "        SDR2 =create_randominsed_sdr(np.sqrt(sdr_size), np.sqrt(sdr_size), population)\n",
    "        sdr_comparison = compute_union_and_overlap(SDR1, SDR2)\n",
    "        sdr_unions_for_comparison.append(len(sdr_comparison['union']))\n",
    "        sdr_overlaps_for_comparison.append(len(sdr_comparison['overlap']))\n",
    "    print(\"Average union: \", str(sum(sdr_unions_for_comparison) / len(sdr_unions_for_comparison)))\n",
    "    print(\"Average overlap: \", str(sum(sdr_overlaps_for_comparison) / len(sdr_overlaps_for_comparison)))\n",
    "    return({\"union_comparison\": sdr_unions_for_comparison, \"overlap_comparison\": sdr_overlaps_for_comparison})\n",
    "    \n",
    "def randomly_flip_percentage_of_bits(SDR, array_size, percentage_to_flip):\n",
    "    to_remove = int(percentage_to_flip * len(SDR))\n",
    "    randomised_SDR = np.random.shuffle(SDR)\n",
    "    del SDR[0:to_remove]\n",
    "    noise = create_randominsed_sdr(np.sqrt(array_size), np.sqrt(array_size), to_remove)\n",
    "    sdr_with_noise = noise + SDR\n",
    "    return(sdr_with_noise)\n",
    "\n"
   ]
  },
  {
   "cell_type": "code",
   "execution_count": null,
   "metadata": {},
   "outputs": [],
   "source": []
  },
  {
   "cell_type": "markdown",
   "metadata": {},
   "source": [
    "THe next video we introduces us so SDR Overlap sets and subsampling"
   ]
  },
  {
   "cell_type": "code",
   "execution_count": 44,
   "metadata": {},
   "outputs": [
    {
     "data": {
      "text/html": [
       "<iframe width=\"560\" height=\"315\" src=\"https://www.youtube.com/embed/vU2OZdgBXAQ\" title=\"YouTube video player\" frameborder=\"0\" allow=\"accelerometer; autoplay; clipboard-write; encrypted-media; gyroscope; picture-in-picture\" allowfullscreen></iframe>"
      ],
      "text/plain": [
       "<IPython.core.display.HTML object>"
      ]
     },
     "execution_count": 44,
     "metadata": {},
     "output_type": "execute_result"
    }
   ],
   "source": [
    "HTML('<iframe width=\"560\" height=\"315\" src=\"https://www.youtube.com/embed/vU2OZdgBXAQ\" title=\"YouTube video player\" frameborder=\"0\" allow=\"accelerometer; autoplay; clipboard-write; encrypted-media; gyroscope; picture-in-picture\" allowfullscreen></iframe>')"
   ]
  },
  {
   "cell_type": "markdown",
   "metadata": {},
   "source": [
    "We haven't yet come to terms with what exactly the relationship between a neoron and SDR is. Specifically, why is an SDR as feasible representation of the neuron? Consider the image below of piramidal neuron, along side the Numenta representation. \n",
    "\n",
    "IMAGE of Pyram neuron\n",
    "\n",
    "We can think of the pyramidal neuron in the neocortex as a complex pattern recog system, tha that receives streams of SDRs from atpyical dendrites, as per: \n",
    "\n",
    "IMAGE FROM JG \n",
    "\n",
    "Thi bits in teh SDR come from a number of places: higher levels in heirachy, basil dentries, context and proximal dentries, lower level and sensory lots of different sdrs. A neoron wil laccept information and decide to fire, and the plays a role in othe SDRs...but turning its bit on. \n",
    "\n",
    "2 ways to look, from pramidal neoron, observe all sdrs deciding when it fires....and also plays a part in part of SDRS - by fiuring and turns bit on when it recognises \n",
    "\n",
    "Every bit reps a neuon/neorn identiy\n",
    "\n",
    "THink of similiar time stamps, neorons firuing\n"
   ]
  },
  {
   "cell_type": "markdown",
   "metadata": {},
   "source": [
    "\n"
   ]
  },
  {
   "cell_type": "markdown",
   "metadata": {},
   "source": [
    "If we accept that SDRs can represent some information but this information is arbitrary, one critical consideration is to recognise information is the same or similiar. This goes directly to the combintatorial aspect of SDRs and asks, given 2 SDRs how can I determine if they are match and how much can I degrade the and have it still feasibly be a match? \n",
    "\n",
    "To put this in context, let's reintroduce our  formula, $n$ is the number of bits or capacity of the array, $w$ is the population. In the previous notebook I used $n = 1024$ (the total available bits, capcity of $2^{10}$. We used a double value with a $w$ of 41 (around 2% sparsity). "
   ]
  },
  {
   "cell_type": "code",
   "execution_count": 45,
   "metadata": {},
   "outputs": [
    {
     "data": {
      "image/png": "[encoded data removed]",
      "text/plain": [
       "<Figure size 1080x360 with 3 Axes>"
      ]
     },
     "metadata": {},
     "output_type": "display_data"
    }
   ],
   "source": [
    "sdr_size = 1024\n",
    "population = 20\n",
    "label = str(np.round(sdr_size/population, 3))\n",
    "\n",
    "specs1 = create_randominsed_sdr(np.sqrt(sdr_size), np.sqrt(sdr_size), population)\n",
    "specs2 = create_randominsed_sdr(np.sqrt(sdr_size), np.sqrt(sdr_size), population)\n",
    "\n",
    "sdr_comparison = compute_union_and_overlap(specs1, specs2)\n",
    "\n",
    "fig, (ax1, ax2, ax3) = plt.subplots(1, 3, figsize=(15, 5))\n",
    "\n",
    "ax1 = create_axis_for_sdr(ax1, np.sqrt(sdr_size) + 1, np.sqrt(sdr_size) + 1, population, \"SDR 1\")\n",
    "ax2 = create_axis_for_sdr(ax2, np.sqrt(sdr_size) + 1, np.sqrt(sdr_size) + 1, population, \"SDR 2\")\n",
    "ax3 = create_axis_for_sdr(ax3, np.sqrt(sdr_size) + 1, np.sqrt(sdr_size) + 1, len(sdr_comparison['union']), \"Overlap (AND) and Union (OR)\")\n",
    "\n",
    "SDR1 = [ax1.add_patch(Rectangle(specs1[i], 1, 1, color=\"blue\")) for i in range(len(specs1))]\n",
    "SDR2 = [ax2.add_patch(Rectangle(specs2[i], 1, 1, color=\"blue\")) for i in range(len(specs2))]\n",
    "union = [ax3.add_patch(Rectangle(sdr_comparison['union'][i], 1, 1, color=\"gray\")) for i in range(len(sdr_comparison['union']))]\n",
    "overlap = [ax3.add_patch(Rectangle(sdr_comparison['overlap'][i], 1, 1, color=\"orange\")) for i in range(len(sdr_comparison['overlap']))]\n",
    "\n",
    "\n"
   ]
  },
  {
   "cell_type": "markdown",
   "metadata": {},
   "source": [
    "We also explored the idea of a overlap and threshold. So here I have a second SDR, and there there some likliehood that 1 or more bits may share same positions in the array. In this sense they would overlap. \n",
    "\n",
    "But there is another way of looking at it. What if wanted to consider, given my SDR 1, and set some threshold, rather than finding out how my SDR2 threshold, how many possible SDR would meet this critieria. So this would involve some threshold, finding all possible sets.  This would be dependent on threshold. Another way of looking at this, is to ask if I have a given, SDR, as per above, and I \n",
    "\n",
    "To explore further let's introduce a new formula, to calculate the <b>Overlap Set</b> of an SDR:\n",
    "\n",
    "$$  |\\Omega_x(n, w, b| = \\binom{w_0}{b} \\times \\binom{n - w_0}{w_1 - b}  $$"
   ]
  },
  {
   "cell_type": "markdown",
   "metadata": {},
   "source": [
    "The first thing to note in this formula is that there are 2 values for $w$, $w_0$ and $w_1$. These are both the same thing, however $w_0$ is the population of the SDR which I want to consider all other SDRs too. The $w_2$ variable is the population of all the other SDRs that I am considering. \n",
    "\n",
    "Note that here we have  and now introduce a new variable $b$. This variable is the number of overlap bits that. I am saying that I accept there are this number of ways to get a match. \n",
    "\n",
    "Another way to think about this formula is on-bits and off-bits. THe right hand side, $\\binom{w_0}{b}$ tells me about on-bit space: the number of ways in the onbit space ($b$), I can organise $w_0$ bits given. \n",
    "\n",
    "THis formula is (conditional probability?). Given the condition SDR and its overlap, how many spaces can be occupied. Beyond that it is simply the binomial coeffient."
   ]
  },
  {
   "cell_type": "markdown",
   "metadata": {},
   "source": [
    "Its very easy to create this function in python. Let's do it now: \n",
    "\n",
    "$$  |\\Omega_x(n, w, b| = \\binom{w_x}{b} \\times \\binom{n - w_x}{w - b}  $$\n"
   ]
  },
  {
   "cell_type": "code",
   "execution_count": 5,
   "metadata": {},
   "outputs": [],
   "source": [
    "# overap - is \"spaces\"\n",
    "# offbits - only 1 way all offbits can can fit \n",
    "\n",
    "def compute_overlap_set_cardinality(n, w0, w1, b, provide_summary = True):\n",
    "    on_bit_space = sp.binomial(w0, b)\n",
    "    off_bit_space = sp.binomial(n - w0, w1 - b)\n",
    "    overlap_set = on_bit_space * off_bit_space\n",
    "    if provide_summary:\n",
    "        print(\"Given a capcity of\", str(w0), \"bits in the on-bit space, the number of ways to arrange \", str(b), \"on-bits: \", on_bit_space)\n",
    "        print(\"Given a capacity\", str(n - w0), \"bits in the off-bit space, the number of ways to arrange\", str(w1 - b), \"off-bits: \", off_bit_space)\n",
    "        print(\"Number of SDRs that will match w0: \", overlap_set)\n",
    "    return(overlap_set)"
   ]
  },
  {
   "cell_type": "markdown",
   "metadata": {},
   "source": [
    "We can provide the function with an array size, population or $w$ values for and our $b$ value to match. Let's try it with the following parameters"
   ]
  },
  {
   "cell_type": "code",
   "execution_count": 6,
   "metadata": {},
   "outputs": [
    {
     "name": "stdout",
     "output_type": "stream",
     "text": [
      "Given a capcity of 40 bits in the on-bit space, the number of ways to arrange  39 on-bits:  40\n",
      "Given a capacity 560 bits in the off-bit space, the number of ways to arrange 1 off-bits:  560\n",
      "Number of SDRs that will match w0:  22400\n"
     ]
    }
   ],
   "source": [
    "count_of_overlap_sets = compute_overlap_set_cardinality(600,40, 40, 39)"
   ]
  },
  {
   "cell_type": "markdown",
   "metadata": {},
   "source": [
    "So we have $22400$ possible sets that can be produced that would meet the threshold. Let's try it for another set of inputs: "
   ]
  },
  {
   "cell_type": "code",
   "execution_count": 93,
   "metadata": {},
   "outputs": [
    {
     "name": "stdout",
     "output_type": "stream",
     "text": [
      "Given a capcity of 40 bits in the on-bit space, the number of ways to arrange  30 on-bits:  847660528\n",
      "Given a capacity 560 bits in the off-bit space, the number of ways to arrange 10 off-bits:  770938160845996996216\n",
      "Number of SDRs that will match w0:  653493848478066740498868562048\n"
     ]
    }
   ],
   "source": [
    "count_of_overlap_sets = compute_overlap_set_cardinality(600,40, 40, 30)"
   ]
  },
  {
   "cell_type": "markdown",
   "metadata": {},
   "source": [
    "It quickly get's large. I accupte that 30 out of 40 bits will match my original SDR, than the number that will match will very large.  "
   ]
  },
  {
   "cell_type": "code",
   "execution_count": 27,
   "metadata": {},
   "outputs": [
    {
     "data": {
      "image/png": "[encoded data removed]",
      "text/plain": [
       "<Figure size 432x288 with 1 Axes>"
      ]
     },
     "metadata": {},
     "output_type": "display_data"
    }
   ],
   "source": [
    "p = plt.bar(range(0, 40), [compute_overlap_set_cardinality(600,40, 40, i, provide_summary=False) for i in range(0, 40)])"
   ]
  },
  {
   "cell_type": "markdown",
   "metadata": {},
   "source": [
    "Another thing to consider So if I get 30 bits out of my 40 what are the odds that I don't have the 40? We can compute this by dividing the overlap set cardinatoity with how unique the original SDR is. Lets create a Python function for this:"
   ]
  },
  {
   "cell_type": "code",
   "execution_count": 23,
   "metadata": {},
   "outputs": [],
   "source": [
    "def compute_likelihood_of_false_postive(n, w0, w1, b):\n",
    "    return(float(compute_overlap_set_cardinality(n, w0, w1, b) / sp.binomial(n, w0)))"
   ]
  },
  {
   "cell_type": "code",
   "execution_count": 24,
   "metadata": {},
   "outputs": [
    {
     "name": "stdout",
     "output_type": "stream",
     "text": [
      "Given a capcity of 40 bits in the on-bit space, the number of ways to arrange  30 on-bits:  847660528\n",
      "Given a capacity 560 bits in the off-bit space, the number of ways to arrange 10 off-bits:  770938160845996996216\n",
      "Number of SDRs that will match w0:  653493848478066740498868562048\n"
     ]
    },
    {
     "data": {
      "text/plain": [
       "1.5074171020764367e-33"
      ]
     },
     "execution_count": 24,
     "metadata": {},
     "output_type": "execute_result"
    }
   ],
   "source": [
    "compute_likelihood_of_false_postive(600, 40, 40, 30)"
   ]
  },
  {
   "cell_type": "markdown",
   "metadata": {},
   "source": [
    "So this says if I return and SDR that has 30 of the 40 bits, this is the likelihood at it not my original SDR. \n",
    "\n",
    "What we are stargint so see here is binomial coefficent kicking in. It is so unlikely that it won't be a match, that we can start to rely on, statistical, things that are so astromomically unlikely to happen, that we can at the scale at which we are operating essentially understand that they will never happen. \n",
    "\n",
    "This idea of how unlikely somethnig is to happen is an idea that we can extend event further. Recall that when we create an SDR, we dont need so store it. Instead storing the capacity each 1, we can just store the the indices. "
   ]
  },
  {
   "cell_type": "code",
   "execution_count": 79,
   "metadata": {},
   "outputs": [
    {
     "data": {
      "text/plain": [
       "8256"
      ]
     },
     "execution_count": 79,
     "metadata": {},
     "output_type": "execute_result"
    }
   ],
   "source": [
    "SDR_off_bits = [1 for i in np.arange(1024 - 103)]\n",
    "SDR_on_bits = [0 for i in np.arange(103)]\n",
    "SDR = SDR_off_bits + SDR_on_bits\n",
    "sys.getsizeof(SDR)"
   ]
  },
  {
   "cell_type": "markdown",
   "metadata": {},
   "source": [
    "Python will add some overhead to the way it does this, but storing  8 bits for each number: "
   ]
  },
  {
   "cell_type": "code",
   "execution_count": 89,
   "metadata": {},
   "outputs": [
    {
     "data": {
      "text/plain": [
       "8.0625"
      ]
     },
     "execution_count": 89,
     "metadata": {},
     "output_type": "execute_result"
    }
   ],
   "source": [
    "8256 / 1024"
   ]
  },
  {
   "cell_type": "code",
   "execution_count": 90,
   "metadata": {},
   "outputs": [
    {
     "data": {
      "text/plain": [
       "288"
      ]
     },
     "execution_count": 90,
     "metadata": {},
     "output_type": "execute_result"
    }
   ],
   "source": [
    "SDR_indices = create_randominsed_sdr(1024, 0, 20, one_dimensional=True)\n",
    "sys.getsizeof(SDR_indices)"
   ]
  },
  {
   "cell_type": "code",
   "execution_count": 91,
   "metadata": {},
   "outputs": [
    {
     "data": {
      "text/plain": [
       "14.4"
      ]
     },
     "execution_count": 91,
     "metadata": {},
     "output_type": "execute_result"
    }
   ],
   "source": [
    "sys.getsizeof(SDR_indices) / 20"
   ]
  },
  {
   "cell_type": "markdown",
   "metadata": {},
   "source": [
    "But this suggests. But what else can we do. What if instead of storing all of these bits, I just took a sample - so first original, them sample, then second random, then another random SDR, then compare overlap"
   ]
  },
  {
   "cell_type": "code",
   "execution_count": 101,
   "metadata": {},
   "outputs": [
    {
     "data": {
      "image/png": "[encoded data removed]",
      "text/plain": [
       "<Figure size 1296x288 with 4 Axes>"
      ]
     },
     "metadata": {},
     "output_type": "display_data"
    }
   ],
   "source": [
    "sdr_size = 1024\n",
    "population = 8\n",
    "label = str(np.round(sdr_size/population, 3))\n",
    "\n",
    "specs1 = create_randominsed_sdr(np.sqrt(sdr_size), np.sqrt(sdr_size), population)\n",
    "specs2 = create_randominsed_sdr(np.sqrt(sdr_size), np.sqrt(sdr_size), population)\n",
    "\n",
    "sdr_comparison = compute_union_and_overlap(specs1, specs2)\n",
    "\n",
    "fig, (ax1, ax2, ax3, ax4) = plt.subplots(1, 4, figsize=(18, 4))\n",
    "\n",
    "ax1 = create_axis_for_sdr(ax1, np.sqrt(sdr_size) + 1, np.sqrt(sdr_size) + 1, population, \"SDR 1\")\n",
    "ax2 = create_axis_for_sdr(ax2, np.sqrt(sdr_size) + 1, np.sqrt(sdr_size) + 1, population, \"SDR 2\")\n",
    "ax3 = create_axis_for_sdr(ax3, np.sqrt(sdr_size) + 1, np.sqrt(sdr_size) + 1, population, \"SDR 2\")\n",
    "ax4 = create_axis_for_sdr(ax4, np.sqrt(sdr_size) + 1, np.sqrt(sdr_size) + 1, len(sdr_comparison['union']), \"Overlap (AND) and Union (OR)\")\n",
    "\n",
    "SDR1 = [ax1.add_patch(Rectangle(specs1[i], 1, 1, color=\"blue\")) for i in range(len(specs1))]\n",
    "SDR2 = [ax2.add_patch(Rectangle(specs2[i], 1, 1, color=\"blue\")) for i in range(len(specs2))]\n",
    "SDR3 = [ax4.add_patch(Rectangle(specs2[i], 1, 1, color=\"blue\")) for i in range(len(specs2))]\n",
    "union = [ax3.add_patch(Rectangle(sdr_comparison['union'][i], 1, 1, color=\"gray\")) for i in range(len(sdr_comparison['union']))]\n",
    "overlap = [ax3.add_patch(Rectangle(sdr_comparison['overlap'][i], 1, 1, color=\"orange\")) for i in range(len(sdr_comparison['overlap']))]\n",
    "\n"
   ]
  },
  {
   "cell_type": "markdown",
   "metadata": {},
   "source": [
    "Formula - left side is onbit space, right side is off bits.....we choose an n and w, and \n",
    "\n",
    "We are saying....given any SDR ( we ill call \"x\") that has an n and w, the the OVERLAP SET is the number of SDRS (Total) tha thave same n, specific w with a specific number fo bits of overlap with x\n",
    "\n",
    "So we are interested in some SDR, and then all other SDRs in relationship to it that form an overlap set, where this set is the size\n",
    "\n",
    "for example we choose some SDR = 600\n",
    "\n",
    "we know its w/population and we can change this. we also have a value b which is how many bits we require for the overlap\n",
    "\n",
    "So if we have 40 onbits, and we require b to be 40, an exact match of bits in teh sapce, there is 1 way to to this. \n",
    "\n",
    "But if we require\n",
    "\n",
    "Cardinality of overlap set, divided by uniquenss of original SDR\n",
    "\n",
    "w"
   ]
  },
  {
   "cell_type": "code",
   "execution_count": null,
   "metadata": {},
   "outputs": [],
   "source": []
  },
  {
   "cell_type": "markdown",
   "metadata": {},
   "source": [
    "<div style=\"background:#99ddff; color:black; padding: 10px\">\n",
    "<b>Add to these notes:</b>\n",
    "    \n",
    "What becomes apparent after doing is that it needs more rigor around the code. Ideally I want to pass in size SDR get specs, get overlap and union, set a threshold. It makes more sense to have and SDR class in python which can then have attributes\n",
    "</div>"
   ]
  },
  {
   "cell_type": "markdown",
   "metadata": {},
   "source": [
    "We have covered alot in this notebook"
   ]
  },
  {
   "cell_type": "code",
   "execution_count": null,
   "metadata": {},
   "outputs": [],
   "source": []
  }
 ],
 "metadata": {
  "kernelspec": {
   "display_name": "Python 3",
   "language": "python",
   "name": "python3"
  },
  "language_info": {
   "codemirror_mode": {
    "name": "ipython",
    "version": 3
   },
   "file_extension": ".py",
   "mimetype": "text/x-python",
   "name": "python",
   "nbconvert_exporter": "python",
   "pygments_lexer": "ipython3",
   "version": "3.7.3"
  }
 },
 "nbformat": 4,
 "nbformat_minor": 4
}
