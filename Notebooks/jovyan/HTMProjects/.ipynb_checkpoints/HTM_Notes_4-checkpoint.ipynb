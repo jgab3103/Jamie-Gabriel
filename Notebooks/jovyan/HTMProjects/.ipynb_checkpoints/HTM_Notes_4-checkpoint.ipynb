{
 "cells": [
  {
   "cell_type": "markdown",
   "metadata": {},
   "source": [
    "<i>STATUS: Draft<i>"
   ]
  },
  {
   "cell_type": "code",
   "execution_count": 2,
   "metadata": {},
   "outputs": [],
   "source": [
    "import numpy as np\n",
    "import sympy as sp\n",
    "from IPython.display import HTML\n",
    "import matplotlib.pyplot as plt\n",
    "from matplotlib import animation\n",
    "from matplotlib.patches import Rectangle\n",
    "from IPython.display import Image\n",
    "import sys"
   ]
  },
  {
   "cell_type": "markdown",
   "metadata": {},
   "source": [
    "In the last notebook, we finished getting a handle on SDRS...now SDRS...\n",
    "\n",
    "IN this notebook we are also going to move toward using the htm.core code. An encoder\n",
    "\n",
    "Its important to note a very big disclaimer here: this notebook really owes a huge amount to - <a href=\"https://buildinghtmsystems.wpcomstaging.com/encoders/\">https://buildinghtmsystems.wpcomstaging.com/encoders/</a>. I have been careful to attibute your work. I encourage. I wanted to use htm.core and python generally to approach this, but will point out. It's extemely well written. \n",
    "\n",
    "HOw to get data from real world into SDRS - cochliea, neural activity....goes in\n",
    "\n",
    "Cochlea goes into neural\n",
    "\n",
    "Data must be encoded into sparse binary arrays for an HTM system to process it. These binary arrays define an input space for the Spatial Pooling algorithm. SDRs stream across this input space as spatial patterns over time. Spatial patterns must contain semantic meaning within their representations in order for HTM systems to process them.\n",
    "\n",
    "\n",
    "\n",
    "I have rather shamesly plagearised some of the work here\n",
    "\n",
    "<i>\"SDRs are quite different from standard computer representations, such as ASCII for text, in that meaning is encoded directly into the representation. An SDR consists of a large array of bits of which most are zeros and a few are ones. Each bit carries some semantic meaning, so if two SDRs have more than a few overlapping one-bits, then those two SDRs have similar meanings.\n",
    "\n",
    "JG _ QUOTE....\n",
    "One important aspect of the cochlear encoding process is that each hair cell responds to a range of frequencies, and the ranges overlap with other nearby hair cells. This characteristic provides redundancy in case some hair cells are damaged but also means that a given frequency will stimulate multiple cells. And two sounds with similar frequencies will have some overlap in the cells that are stimulated. This overlap between representations is how the semantic similarity of the data is captured in the representation. It also means that the semantic meaning is distributed across a set of active cells, making the representation tolerant to noise or subsampling.\n",
    "\n",
    "The cochleae for different animals respond to different ranges of frequencies and have different resolutions for which they can distinguish differences in the frequencies. While very high frequency sounds might be important for some animals to hear precisely, they might not be useful to others. Similarly, the design of an encoder is dependent on the type of data. The encoder must capture the semantic characteristics of the data that are important for your application. Many of the encoder implementations in NuPIC take range or resolution parameters that allow them to work for a broad range of applications.\n",
    "$^1$</i><br/>"
   ]
  },
  {
   "cell_type": "code",
   "execution_count": 25,
   "metadata": {},
   "outputs": [],
   "source": [
    "#################### SINGLE SDR FUNCTIONS ###################################################\n",
    "\n",
    "\n",
    "def create_randomised_sdr(capacity, population):\n",
    "    sdr = set()\n",
    "    while len(sdr) < population:\n",
    "        sdr.add(np.random.randint(low=1, high=capacity))\n",
    "\n",
    "    return(list(sdr))\n",
    "\n",
    "\n",
    "def randomly_flip_percentage_of_bits(SDR, array_size, percentage_to_flip):\n",
    "    to_remove = int(percentage_to_flip * len(SDR))\n",
    "    randomised_SDR = np.random.shuffle(SDR)\n",
    "    del SDR[0:to_remove]\n",
    "    noise = create_randominsed_sdr(np.sqrt(array_size), np.sqrt(array_size), to_remove)\n",
    "    sdr_with_noise = noise + SDR\n",
    "    return(sdr_with_noise)\n",
    "\n",
    "\n",
    "############## MULTIPLE SDR FUNCTIONS ###################################################\n",
    "def compute_union_and_overlap(SDR1_on_bits, SDR2_on_bits):\n",
    "    union = list(set(SDR1_on_bits).union(SDR2_on_bits))\n",
    "    overlap = list(set(SDR1_on_bits).intersection(SDR2_on_bits))\n",
    "    \n",
    "    return({\"union\": union, \"overlap\": overlap})\n",
    "\n",
    "def create_and_compare_sdrs_over_multiple_iterations(iterations, sdr_size, population):\n",
    "    sdr_unions_for_comparison = []\n",
    "    sdr_overlaps_for_comparison = []\n",
    "    for x in range(iterations):\n",
    "        SDR1 = create_randominsed_sdr(sdr_size, population)\n",
    "        SDR2 =create_randominsed_sdr(sdr_size, population)\n",
    "        sdr_comparison = compute_union_and_overlap(SDR1, SDR2)\n",
    "        sdr_unions_for_comparison.append(len(sdr_comparison['union']))\n",
    "        sdr_overlaps_for_comparison.append(len(sdr_comparison['overlap']))\n",
    "    print(\"Average union: \", str(sum(sdr_unions_for_comparison) / len(sdr_unions_for_comparison)))\n",
    "    print(\"Average overlap: \", str(sum(sdr_overlaps_for_comparison) / len(sdr_overlaps_for_comparison)))\n",
    "    return({\"union_comparison\": sdr_unions_for_comparison, \"overlap_comparison\": sdr_overlaps_for_comparison})\n",
    "\n",
    "def compute_overlap_set_cardinality(n, w0, w1, b, provide_summary = True):\n",
    "    on_bit_space = sp.binomial(w0, b)\n",
    "    off_bit_space = sp.binomial(n - w0, w1 - b)\n",
    "    overlap_set = on_bit_space * off_bit_space\n",
    "    if provide_summary:\n",
    "        print(\"Given a capcity of\", str(w0), \"bits in the on-bit space, the number of ways to arrange \", str(b), \"on-bits: \", on_bit_space)\n",
    "        print(\"Given a capacity\", str(n - w0), \"bits in the off-bit space, the number of ways to arrange\", str(w1 - b), \"off-bits: \", off_bit_space)\n",
    "        print(\"Number of SDRs that will match w0: \", overlap_set)\n",
    "    return(overlap_set)\n",
    "\n",
    "######################## VISUALISATION FUNCTIONS ############################################\n",
    "\n",
    "def convert_sdr_to_tuple_for_visualisation(sdr):\n",
    "    pass\n",
    "\n",
    "def create_axis_for_sdr(ax, x_limit, y_limit, population, label, create_label = True):\n",
    "    \n",
    "    if create_label:\n",
    "        label_add = np.round((population / (x_limit * y_limit)) * 100, 2)\n",
    "        label = label + ' (Sparsity: {}%)'.format(label_add)\n",
    "        ax.set_xlabel(label)\n",
    "        \n",
    "    ax.set_xticks(range(int(x_limit)))\n",
    "    ax.set_yticks(range(int(y_limit)))\n",
    "    [ax.xaxis.get_major_ticks()[i].tick1line.set_color(\"white\") for i in range(int(x_limit))]\n",
    "    [ax.yaxis.get_major_ticks()[i].tick1line.set_color(\"white\") for i in range(int(y_limit))]\n",
    "    ax.set_yticklabels([])\n",
    "    ax.set_xticklabels([])\n",
    "    ax.grid(color='k', linestyle='-', linewidth=.5)\n",
    "    \n",
    "    return(ax)\n"
   ]
  },
  {
   "cell_type": "code",
   "execution_count": 26,
   "metadata": {},
   "outputs": [
    {
     "data": {
      "text/html": [
       "<iframe width=\"560\" height=\"315\" src=\"https://www.youtube.com/embed/V3Yqtpytif0\" title=\"YouTube video player\" frameborder=\"0\" allow=\"accelerometer; autoplay; clipboard-write; encrypted-media; gyroscope; picture-in-picture\" allowfullscreen></iframe>"
      ],
      "text/plain": [
       "<IPython.core.display.HTML object>"
      ]
     },
     "execution_count": 26,
     "metadata": {},
     "output_type": "execute_result"
    }
   ],
   "source": [
    "HTML('<iframe width=\"560\" height=\"315\" src=\"https://www.youtube.com/embed/V3Yqtpytif0\" title=\"YouTube video player\" frameborder=\"0\" allow=\"accelerometer; autoplay; clipboard-write; encrypted-media; gyroscope; picture-in-picture\" allowfullscreen></iframe>')"
   ]
  },
  {
   "cell_type": "markdown",
   "metadata": {},
   "source": [
    "1. Semantically similar data should result in SDRs with overlapping active bits.\n",
    "\n",
    "2. The same input should always produce the same SDR as output.\n",
    "\n",
    "3. The output should have the same dimensionality (total number of bits) for all inputs.\n",
    "\n",
    "4. The output should have similar sparsity for all inputs and have enough one-bits to handle noise and\n",
    "    subsampling.\n",
    "    \n",
    "\n",
    "<b>Semantically similar data should result in SDRs with overlapping active bits.</b><br/>\n",
    "\n",
    "To create an effective encoder, you must understand the aspects of your data that should contribute to similarity. In the cochlea example above, the encoder was designed to make sounds with similar pitch have similar representations but did not take into account how loud the sounds were, which would require a different approach.\n",
    "\n",
    "The first step to designing an encoder is to determine each of the aspects of the data that you want to capture. For sound, the key features may be pitch and amplitude; for dates, it may be whether or not it is a weekend.\n",
    "\n",
    "The encoder should create representations that overlap for inputs that are similar in one or more of the characteristics of the data that were chosen. So for weekend encoders, dates that fall on Saturdays and Sundays should overlap with each other, but not as much or at all with dates that fall on weekdays.\n",
    "\n",
    "<b>The same input should always produce the same SDR as output</b><br/>\n",
    "\n",
    "Encoders should be deterministic so that the same input produces the same output every time. Without this property, the sequences learned in an HTM system will become obsolete as the encoded representations for values change. Avoid creating encoders with random or adaptive elements.\n",
    "It can be tempting to create adaptive encoders that adjust representations to handle input data with an unknown range. There is a way to design an encoder to handle this case without changing the representations of inputs that is described below in the section labeled “A more flexible encoder method.” This method allows encoders to handle input with unbounded or unknown ranges.\n",
    "\n",
    "\n",
    "<b>The output should have the same dimensionality (total number of bits) for all inputs</b><br/>\n",
    "\n",
    "The output of an encoder must always produce the same number of bits for each of its inputs. SDRs are compared and operated on using a bit-by-bit assumption such that a bit with a certain “meaning” is always in the same position. If the encoders produced varying bit lengths for the SDRs, comparisons and other operations would not be possible.\n",
    "\n",
    "<b>The output should have similar sparsity for all inputs and have enough one-bits to handle noise and subsampling</b><br/>\n",
    "\n",
    "The fraction of total ON bits in an encoder can vary from around 1% to 35%, but the sparsity should be relatively fixed for a given application of an encoder. While keeping the sparsity the same should be the rule, small variations in sparsity will not have a negative effect.\n",
    "Additionally, there must be enough one-bits to handle noise and subsampling. A general rule of thumb is to have at least 20-25 one bits. Encoders that produce representations with fewer than 20 one bits do not work well in HTM systems since they may become extremely susceptible to errors due to small amounts of noise or non-determinism."
   ]
  },
  {
   "cell_type": "markdown",
   "metadata": {},
   "source": [
    "\n"
   ]
  },
  {
   "cell_type": "markdown",
   "metadata": {},
   "source": [
    "Let's build an encorder and start with numbers, numbers are bit overly simple\n",
    "\n",
    "We can have following values\n"
   ]
  },
  {
   "cell_type": "code",
   "execution_count": 27,
   "metadata": {},
   "outputs": [
    {
     "data": {
      "text/plain": [
       "8"
      ]
     },
     "execution_count": 27,
     "metadata": {},
     "output_type": "execute_result"
    }
   ],
   "source": [
    "n = 12\n",
    "w = 4\n",
    "min_value = 0\n",
    "max_value = 55\n",
    "\n",
    "scaler_value_to_encode = 50\n",
    "\n",
    "compare_periodic = False\n",
    "use_periodic_encoder = False\n",
    "\n",
    "# number of buckets - places to put stuff in\n",
    "n - w\n",
    "\n",
    "# should automatically \n",
    "\n",
    "# 1. create possible buckets\n",
    "# 2. assign all values to buckets\n",
    "# 3. look at comparison values, adjacent or not"
   ]
  },
  {
   "cell_type": "code",
   "execution_count": 28,
   "metadata": {},
   "outputs": [
    {
     "data": {
      "text/plain": [
       "9"
      ]
     },
     "execution_count": 28,
     "metadata": {},
     "output_type": "execute_result"
    }
   ],
   "source": [
    "n - w + 1"
   ]
  },
  {
   "cell_type": "code",
   "execution_count": 29,
   "metadata": {},
   "outputs": [],
   "source": [
    "def create_scalar_encoder_values(n, w, min_val, max_val):\n",
    "    bucket_capacity = n - w + 1\n",
    "    \n",
    "    #return(bucket_index)"
   ]
  },
  {
   "cell_type": "code",
   "execution_count": 30,
   "metadata": {},
   "outputs": [
    {
     "data": {
      "text/plain": [
       "0.5185897435897436"
      ]
     },
     "execution_count": 30,
     "metadata": {},
     "output_type": "execute_result"
    }
   ],
   "source": [
    "809 / 1560"
   ]
  },
  {
   "cell_type": "code",
   "execution_count": 135,
   "metadata": {},
   "outputs": [
    {
     "name": "stdout",
     "output_type": "stream",
     "text": [
      "5\n",
      "5.0\n"
     ]
    }
   ],
   "source": [
    "\n",
    "from scipy import stats\n",
    "def convert_sdr_to_tuple_for_visualisation(sdr, sdr_size):\n",
    "\n",
    "    n = sp.symbols('n')\n",
    "    e = sp.Eq(2**n, sdr_size)\n",
    "    s = sp.solve(e, n)\n",
    "    print(s[0] / 2)\n",
    "    \n",
    "    r = (np.arange(1, s[0] + 1, 1))\n",
    "    print(np.floor(len(r)/2))\n",
    "specs1 = create_randomised_sdr(sdr_size, population)\n",
    "convert_sdr_to_tuple_for_visualisation(specs1, 1024)"
   ]
  },
  {
   "cell_type": "code",
   "execution_count": 128,
   "metadata": {},
   "outputs": [
    {
     "data": {
      "text/plain": [
       "2048"
      ]
     },
     "execution_count": 128,
     "metadata": {},
     "output_type": "execute_result"
    }
   ],
   "source": [
    "2**11"
   ]
  },
  {
   "cell_type": "code",
   "execution_count": 49,
   "metadata": {},
   "outputs": [
    {
     "data": {
      "image/png": "[encoded data removed]",
      "text/plain": [
       "<Figure size 1296x288 with 4 Axes>"
      ]
     },
     "metadata": {},
     "output_type": "display_data"
    }
   ],
   "source": [
    "sdr_size = 1024\n",
    "population = 8\n",
    "label = str(np.round(sdr_size/population, 3))\n",
    "\n",
    "specs1 = create_randomised_sdr(sdr_size, population)\n",
    "specs2 = create_randomised_sdr(sdr_size, population)\n",
    "\n",
    "sdr_comparison = compute_union_and_overlap(specs1, specs2)\n",
    "\n",
    "fig, (ax1, ax2, ax3, ax4) = plt.subplots(1, 4, figsize=(18, 4))\n",
    "\n",
    "ax1 = create_axis_for_sdr(ax1, np.sqrt(sdr_size) + 1, np.sqrt(sdr_size) + 1, population, \"SDR 1\")\n",
    "ax2 = create_axis_for_sdr(ax2, np.sqrt(sdr_size) + 1, np.sqrt(sdr_size) + 1, population, \"SDR 2\")\n",
    "ax3 = create_axis_for_sdr(ax3, np.sqrt(sdr_size) + 1, np.sqrt(sdr_size) + 1, population, \"SDR 2\")\n",
    "ax4 = create_axis_for_sdr(ax4, np.sqrt(sdr_size) + 1, np.sqrt(sdr_size) + 1, len(sdr_comparison['union']), \"Overlap (AND) and Union (OR)\")\n",
    "\n",
    "#SDR1 = [ax1.add_patch(Rectangle((3,4), 1, 1, color=\"blue\")) for i in range(len(specs1))]\n",
    "# SDR2 = [ax2.add_patch(Rectangle(specs2[i], 1, 1, color=\"blue\")) for i in range(len(specs2))]\n",
    "# SDR3 = [ax4.add_patch(Rectangle(specs2[i], 1, 1, color=\"blue\")) for i in range(len(specs2))]\n",
    "# union = [ax3.add_patch(Rectangle(sdr_comparison['union'][i], 1, 1, color=\"gray\")) for i in range(len(sdr_comparison['union']))]\n",
    "# overlap = [ax3.add_patch(Rectangle(sdr_comparison['overlap'][i], 1, 1, color=\"orange\")) for i in range(len(sdr_comparison['overlap']))]\n"
   ]
  },
  {
   "cell_type": "code",
   "execution_count": 68,
   "metadata": {},
   "outputs": [
    {
     "data": {
      "text/latex": [
       "$\\displaystyle 58738.78125 \\pi$"
      ],
      "text/plain": [
       "58738.78125*pi"
      ]
     },
     "execution_count": 68,
     "metadata": {},
     "output_type": "execute_result"
    }
   ],
   "source": []
  },
  {
   "cell_type": "code",
   "execution_count": null,
   "metadata": {},
   "outputs": [],
   "source": []
  }
 ],
 "metadata": {
  "kernelspec": {
   "display_name": "Python 3",
   "language": "python",
   "name": "python3"
  },
  "language_info": {
   "codemirror_mode": {
    "name": "ipython",
    "version": 3
   },
   "file_extension": ".py",
   "mimetype": "text/x-python",
   "name": "python",
   "nbconvert_exporter": "python",
   "pygments_lexer": "ipython3",
   "version": "3.7.3"
  }
 },
 "nbformat": 4,
 "nbformat_minor": 4
}
