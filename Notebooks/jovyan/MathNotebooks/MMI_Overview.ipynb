{
 "cells": [
  {
   "cell_type": "code",
   "execution_count": 2,
   "metadata": {},
   "outputs": [],
   "source": [
    "import numpy as np\n",
    "import sympy as sp\n",
    "import shared_functions as sf\n",
    "from IPython.display import HTML\n",
    "import matplotlib.pyplot as plt"
   ]
  },
  {
   "cell_type": "markdown",
   "metadata": {},
   "source": [
    "### Introduction \n",
    "\n",
    "This page holds a general overview of my research in Machine Intelligence along with working prerequisies. \n",
    "\n",
    "1. What is understanding of underlying geometries in the neocortex, characterised by highly non-random networks\n",
    "2. Can different geometries (Hyperbolic, Differential) shed light on how different parts of the HTM algorithm functions\n",
    "3. Does the neocortex need to be understood in the context of topological space\n",
    "4. Use geometrical structures to inform structures in HTM theory\n",
    "\n",
    "There is an underlying index (here) that provides detailed, breakdown \n",
    "\n",
    "\n",
    "### Detailed Pre-requisites\n",
    "\n",
    "We are going to need Mathematics: this will assume some depth with (Linear Algebra Differential Geometry, Algebraic Topolology, Hyperbolic Geometry). I have provided in extensive notes to these topics, with examples on thier application into computational neuroscience and machine intelligence. As a precursor, I can recommend is the text, Precalculus -  Ph.D. Stitz, C and Zeager, J, Precalculus. We will take a particular point of view of calculus which will come out of the advanced notes and you should be fine.  \n",
    "\n",
    "Also assumes deptth of knowledge in Medical Neuroscience, and for that I would recommend White's course on Coursera. Challenges, \n",
    "\n",
    "\n",
    "### Code \n",
    "\n",
    "I will develop a code base, Sage Python implementation. All this assumes you are working in this context, might be to difficult. Mathematics is computational discipline and assumes toolsets. \n",
    "\n",
    "\n",
    "### How to work through these notes\n",
    "\n",
    "Math of course is something to needs to be done, not just read about. I always struggle with content. A long time ago I realised that to truly understand a topic, the best thing to do is right a textbook about it. The text is just as much as for the author as the reader. So I wuold encourage you to see these notes as <i>your</i> notes. Change the Python examples, format things a different way. Find ways to make things more understandable, seek clarity wherever possible. \n",
    "\n",
    "Along the way in these notes you will notice I have included many <i>Add to these notes</i> prompts. These are as much for me as for anyone else, things I want to come back to This can guide you with ideas on how to make them your own. Also, I often find in textbooks and tutorials that questions are really difficult and I find for me I want to slowly iterate through examples. So you will find the solutions are really geared towards that, gently exploring and extending ways that we can understand. \n",
    "\n",
    "The more you make your own version of these notes, the greater will be your understanding. \n",
    "\n",
    "\n",
    "### PDF\n",
    "There PDF version of these notes is really just about clean typesetting and having specific versions of the notes. It is probably better to work with the notebooks but I often like to have a hardcopy of the notes for easy reference (this may just be a generational thing)\n",
    "\n",
    "I hope you find these notes of value and they clarity complexity that exists in modern mathematics. \n",
    "\n",
    "Index: \n",
    "\n",
    "\n"
   ]
  },
  {
   "cell_type": "code",
   "execution_count": null,
   "metadata": {},
   "outputs": [],
   "source": []
  }
 ],
 "metadata": {
  "kernelspec": {
   "display_name": "SageMath 9.0",
   "language": "sage",
   "name": "sagemath"
  },
  "language_info": {
   "codemirror_mode": {
    "name": "ipython",
    "version": 3
   },
   "file_extension": ".py",
   "mimetype": "text/x-python",
   "name": "python",
   "nbconvert_exporter": "python",
   "pygments_lexer": "ipython3",
   "version": "3.7.3"
  }
 },
 "nbformat": 4,
 "nbformat_minor": 4
}
