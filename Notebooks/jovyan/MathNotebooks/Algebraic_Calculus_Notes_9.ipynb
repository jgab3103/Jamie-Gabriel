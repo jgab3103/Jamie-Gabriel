{
 "cells": [
  {
   "cell_type": "markdown",
   "metadata": {},
   "source": [
    "<i>STATUS: Draft</i>"
   ]
  },
  {
   "cell_type": "code",
   "execution_count": 1,
   "metadata": {},
   "outputs": [],
   "source": [
    "import numpy as np\n",
    "import sympy as sp\n",
    "import shared_functions as sf\n",
    "from IPython.display import HTML\n",
    "import matplotlib.pyplot as plt"
   ]
  },
  {
   "cell_type": "markdown",
   "metadata": {},
   "source": [
    "In the last notebook we introduced summation symbol, $\\sum$, and we looked at how to work with this algebraic seeting. We We also looked at some well known sums, also some key ideas, leaving us with the idea that we wanttd sums of powers, \n",
    "\n",
    "Note we also covered telescoping series which will be critical for us to understand next steps: such as sums of natural numbers, quadratics, and cubics, and the idea of summation which tells not only how to add things, but shows patterns, start to emerge when we look at these numbers. \n",
    "\n",
    "Let's refresh our idea, so we have some basic \n",
    "\n",
    "\n",
    "$$  S_1=\\sum_{i=0}^n i=1+2+3+\\cdots+n=\\binom{n+1}{2}=\\frac{n(n+1)}{2} $$\n",
    "\n",
    "$$ S_2=\\sum_{i=0}^n i^2=1^2+2^2+3^2+\\cdots+n^2=\\frac{n(n+1)(2n+1)}{6} $$\n",
    "\n",
    "$$  S_3=\\sum_{i=0}^n i^3=1^3+2^3+3^3+\\cdots+n^3=\\frac{n^2(n+1)^2}{4} $$\n",
    "\n",
    "\n",
    "What about higher powers? What is wanted sum higher powers, wh\n",
    "at could we do? What is wanted to go to higher powers. Suppose we have the gneral \n",
    "\n",
    "$$   S_k =\\sum_{i=0}^n i^k=1^k+2^k+3^k+\\cdots+n^k.  $$\n",
    "\n",
    "An early attempt at this in 1631, by Johann Faulhaber. He wrote down formulas to calculate this up to k = 17. An example of one of these, where k = 6. \n",
    "\n",
    "$$S_6=\\sum_{i=0}^n i^6=\\frac{n(n+1)(2n+1)(3n^4+6n^3-3n+1)}{42}$$\n",
    "\n",
    "Later the same idea was taken up by Jacob Bernoulli, who publishied a key foruma for $S_k$ for a gneral value of $k$. This derivation used Pascal's array, and involved new numbers, Bernoulli numbers. \n",
    "\n",
    "Let's start be exploring some of these ideas in Python. We know already that the following $1^1 + 2^1 + 3^1 + \\ldots n^1$ and $1^2 + 2^2 + 3^2 \\ldots n^2$ and $1^3 + 2^3 + 3^3 \\ldots n^2$ can be be expressed with with the following expressions for some variable $n$:\n"
   ]
  },
  {
   "cell_type": "code",
   "execution_count": 2,
   "metadata": {},
   "outputs": [],
   "source": [
    "n = sp.symbols('n')\n",
    "S0 = n\n",
    "S1 = (n * (n + 1)) / 2\n",
    "S2 = (n * (n + 1) * (2 * n + 1)) / 6\n",
    "S3 = ((n * n) * pow((n + 1), 2)) / 4"
   ]
  },
  {
   "cell_type": "markdown",
   "metadata": {},
   "source": [
    "Let's expand these have have a look at them "
   ]
  },
  {
   "cell_type": "code",
   "execution_count": 3,
   "metadata": {},
   "outputs": [
    {
     "data": {
      "text/latex": [
       "$\\displaystyle n$"
      ],
      "text/plain": [
       "n"
      ]
     },
     "execution_count": 3,
     "metadata": {},
     "output_type": "execute_result"
    }
   ],
   "source": [
    "S0.expand()"
   ]
  },
  {
   "cell_type": "code",
   "execution_count": 4,
   "metadata": {},
   "outputs": [
    {
     "data": {
      "text/latex": [
       "$\\displaystyle \\frac{n^{2}}{2} + \\frac{n}{2}$"
      ],
      "text/plain": [
       "n**2/2 + n/2"
      ]
     },
     "execution_count": 4,
     "metadata": {},
     "output_type": "execute_result"
    }
   ],
   "source": [
    "S1.expand()"
   ]
  },
  {
   "cell_type": "code",
   "execution_count": 5,
   "metadata": {},
   "outputs": [
    {
     "data": {
      "text/latex": [
       "$\\displaystyle \\frac{n^{3}}{3} + \\frac{n^{2}}{2} + \\frac{n}{6}$"
      ],
      "text/plain": [
       "n**3/3 + n**2/2 + n/6"
      ]
     },
     "execution_count": 5,
     "metadata": {},
     "output_type": "execute_result"
    }
   ],
   "source": [
    "S2.expand()"
   ]
  },
  {
   "cell_type": "code",
   "execution_count": 6,
   "metadata": {},
   "outputs": [
    {
     "data": {
      "text/latex": [
       "$\\displaystyle \\frac{n^{4}}{4} + \\frac{n^{3}}{2} + \\frac{n^{2}}{4}$"
      ],
      "text/plain": [
       "n**4/4 + n**3/2 + n**2/4"
      ]
     },
     "execution_count": 6,
     "metadata": {},
     "output_type": "execute_result"
    }
   ],
   "source": [
    "S3.expand()"
   ]
  },
  {
   "cell_type": "markdown",
   "metadata": {},
   "source": [
    "Note that when $n = 1$, each of these sums to 1:"
   ]
  },
  {
   "cell_type": "code",
   "execution_count": 8,
   "metadata": {},
   "outputs": [
    {
     "name": "stdout",
     "output_type": "stream",
     "text": [
      "1\n",
      "1\n",
      "1\n",
      "1\n"
     ]
    }
   ],
   "source": [
    "print(S0.subs(n, 1))\n",
    "print(S1.subs(n, 1))\n",
    "print(S2.subs(n, 1))\n",
    "print(S3.subs(n, 1))"
   ]
  },
  {
   "cell_type": "markdown",
   "metadata": {},
   "source": [
    "Now let's explore these higher powers $S4, S5$ and $S6$. What we would expect these formulas to look like. We havn't proved anything, but we could suppose they look like the following: \n",
    "\n",
    "$$  S_4=-\\frac {n}{30}+\\frac {n^3}{3}+\\frac {n^4}{2}+\\frac {n^5}{5},  $$\n",
    "\n",
    "$$  S_5=\\frac {-n^2}{12}+\\frac {5n^4}{12}+\\frac {n^5}{2}+\\frac {n^6}{6},  $$\n",
    "\n",
    "$$  S_6=\\frac {n}{42}-\\frac {n^3}{6}+\\frac {n^5}{2}+\\frac {n^6}{2}+\\frac {n^7}{7}.  $$\n"
   ]
  },
  {
   "cell_type": "markdown",
   "metadata": {},
   "source": [
    "So we prove this to be true? We are going to use a induction which is the idea that there is a base case we can establish to be true and we can establish base + 1 case also. Our proofs so far have simpler than this. \n",
    "\n",
    "To go anyway toward proving this, we would expect that each of these formulas would sum to 1 when $n = 1$. That is our base case. Let's check that first: "
   ]
  },
  {
   "cell_type": "code",
   "execution_count": 32,
   "metadata": {},
   "outputs": [],
   "source": [
    "S4 = (-n/30) + (pow(n, 3)/ 3) + (pow(n, 4)/ 2) + (pow(n, 5)/ 5)\n",
    "S5 = -(pow(n, 2)/ 12)  + (5 * (pow(n, 4)/ 12)) +  (pow(n, 5)/ 2) + (pow(n, 6)/ 6)\n",
    "S6 = (n/ 42) - (pow(n, 3)/ 6) + (pow(n, 5)/ 2) + (pow(n, 6)/ 2) + (pow(n, 7)/ 7)\n"
   ]
  },
  {
   "cell_type": "code",
   "execution_count": 31,
   "metadata": {},
   "outputs": [
    {
     "name": "stdout",
     "output_type": "stream",
     "text": [
      "1\n",
      "1\n",
      "1\n"
     ]
    }
   ],
   "source": [
    "print(S4.subs(n, 1))\n",
    "print(S5.subs(n, 1))\n",
    "print(S6.subs(n, 1))"
   ]
  },
  {
   "cell_type": "markdown",
   "metadata": {},
   "source": [
    "So that's good -  we established what happens in the case of $n = 1$. Now let's establish a base case happens for $m$?"
   ]
  },
  {
   "cell_type": "code",
   "execution_count": 33,
   "metadata": {},
   "outputs": [],
   "source": [
    "m = sp.symbols('m')"
   ]
  },
  {
   "cell_type": "code",
   "execution_count": 37,
   "metadata": {},
   "outputs": [
    {
     "data": {
      "text/latex": [
       "$\\displaystyle \\frac{m^{5}}{5} + \\frac{m^{4}}{2} + \\frac{m^{3}}{3} - \\frac{m}{30}$"
      ],
      "text/plain": [
       "m**5/5 + m**4/2 + m**3/3 - m/30"
      ]
     },
     "execution_count": 37,
     "metadata": {},
     "output_type": "execute_result"
    }
   ],
   "source": [
    "S4.subs(n, m)"
   ]
  },
  {
   "cell_type": "markdown",
   "metadata": {},
   "source": [
    "Note that this prepresents $1^4 + 2^4 + 3^4 \\ldots m^4$. So the next term would be $( m + 4)^2$. Let's add that to our expression above: "
   ]
  },
  {
   "cell_type": "code",
   "execution_count": 45,
   "metadata": {},
   "outputs": [
    {
     "data": {
      "text/latex": [
       "$\\displaystyle \\frac{m^{5}}{5} + \\frac{m^{4}}{2} + \\frac{m^{3}}{3} - \\frac{m}{30} + \\left(m + 1\\right)^{4}$"
      ],
      "text/plain": [
       "m**5/5 + m**4/2 + m**3/3 - m/30 + (m + 1)**4"
      ]
     },
     "execution_count": 45,
     "metadata": {},
     "output_type": "execute_result"
    }
   ],
   "source": [
    "e1 = S4.subs(n, m) + pow(m + 1, 4)\n",
    "e1"
   ]
  },
  {
   "cell_type": "markdown",
   "metadata": {},
   "source": [
    "This should be equivalent to subsituting $(m + 4)$ to the whole "
   ]
  },
  {
   "cell_type": "code",
   "execution_count": 46,
   "metadata": {},
   "outputs": [
    {
     "data": {
      "text/latex": [
       "$\\displaystyle - \\frac{m}{30} + \\frac{\\left(m + 1\\right)^{5}}{5} + \\frac{\\left(m + 1\\right)^{4}}{2} + \\frac{\\left(m + 1\\right)^{3}}{3} - \\frac{1}{30}$"
      ],
      "text/plain": [
       "-m/30 + (m + 1)**5/5 + (m + 1)**4/2 + (m + 1)**3/3 - 1/30"
      ]
     },
     "execution_count": 46,
     "metadata": {},
     "output_type": "execute_result"
    }
   ],
   "source": [
    "e2 = S4.subs(n, m+1)\n",
    "e2"
   ]
  },
  {
   "cell_type": "markdown",
   "metadata": {},
   "source": [
    "However, if I expand these, I find this is the case, they are same expression. Let's try it for "
   ]
  },
  {
   "cell_type": "code",
   "execution_count": 47,
   "metadata": {},
   "outputs": [
    {
     "data": {
      "text/plain": [
       "True"
      ]
     },
     "execution_count": 47,
     "metadata": {},
     "output_type": "execute_result"
    }
   ],
   "source": [
    "e1.expand() == e2.expand()"
   ]
  },
  {
   "cell_type": "markdown",
   "metadata": {},
   "source": [
    "Excellent! Now let's try it for $S_5$, the expression $1^5 + 2^5 + 3^5 \\ldots n^2$ for some value, $n$. Start with some expression and $(m + 1)^5$: "
   ]
  },
  {
   "cell_type": "code",
   "execution_count": 50,
   "metadata": {},
   "outputs": [
    {
     "data": {
      "text/latex": [
       "$\\displaystyle \\frac{m^{6}}{6} + \\frac{m^{5}}{2} + \\frac{5 m^{4}}{12} - \\frac{m^{2}}{12} + \\left(m + 1\\right)^{5}$"
      ],
      "text/plain": [
       "m**6/6 + m**5/2 + 5*m**4/12 - m**2/12 + (m + 1)**5"
      ]
     },
     "execution_count": 50,
     "metadata": {},
     "output_type": "execute_result"
    }
   ],
   "source": [
    "e1 = S5.subs(n, m) + pow(m + 1, 5)\n",
    "e1"
   ]
  },
  {
   "cell_type": "markdown",
   "metadata": {},
   "source": [
    "Now, substiute in $(m + 1)^5$ to our original formula: "
   ]
  },
  {
   "cell_type": "code",
   "execution_count": 52,
   "metadata": {},
   "outputs": [
    {
     "data": {
      "text/latex": [
       "$\\displaystyle \\frac{\\left(m + 1\\right)^{6}}{6} + \\frac{\\left(m + 1\\right)^{5}}{2} + \\frac{5 \\left(m + 1\\right)^{4}}{12} - \\frac{\\left(m + 1\\right)^{2}}{12}$"
      ],
      "text/plain": [
       "(m + 1)**6/6 + (m + 1)**5/2 + 5*(m + 1)**4/12 - (m + 1)**2/12"
      ]
     },
     "execution_count": 52,
     "metadata": {},
     "output_type": "execute_result"
    }
   ],
   "source": [
    "e2 = S5.subs(n, m + 1)\n",
    "e2"
   ]
  },
  {
   "cell_type": "markdown",
   "metadata": {},
   "source": [
    "Expand them both and we find that they are equal"
   ]
  },
  {
   "cell_type": "code",
   "execution_count": 53,
   "metadata": {},
   "outputs": [
    {
     "data": {
      "text/plain": [
       "True"
      ]
     },
     "execution_count": 53,
     "metadata": {},
     "output_type": "execute_result"
    }
   ],
   "source": [
    "e1.expand() == e2.expand()"
   ]
  },
  {
   "cell_type": "markdown",
   "metadata": {},
   "source": [
    "And finally let's try for $S_6$:"
   ]
  },
  {
   "cell_type": "code",
   "execution_count": 54,
   "metadata": {},
   "outputs": [
    {
     "data": {
      "text/latex": [
       "$\\displaystyle \\frac{m^{7}}{7} + \\frac{m^{6}}{2} + \\frac{m^{5}}{2} - \\frac{m^{3}}{6} + \\frac{m}{42} + \\left(m + 1\\right)^{6}$"
      ],
      "text/plain": [
       "m**7/7 + m**6/2 + m**5/2 - m**3/6 + m/42 + (m + 1)**6"
      ]
     },
     "execution_count": 54,
     "metadata": {},
     "output_type": "execute_result"
    }
   ],
   "source": [
    "e1 = S6.subs(n, m) + pow(m + 1, 6)\n",
    "e1"
   ]
  },
  {
   "cell_type": "code",
   "execution_count": 55,
   "metadata": {},
   "outputs": [
    {
     "data": {
      "text/latex": [
       "$\\displaystyle \\frac{m}{42} + \\frac{\\left(m + 1\\right)^{7}}{7} + \\frac{\\left(m + 1\\right)^{6}}{2} + \\frac{\\left(m + 1\\right)^{5}}{2} - \\frac{\\left(m + 1\\right)^{3}}{6} + \\frac{1}{42}$"
      ],
      "text/plain": [
       "m/42 + (m + 1)**7/7 + (m + 1)**6/2 + (m + 1)**5/2 - (m + 1)**3/6 + 1/42"
      ]
     },
     "execution_count": 55,
     "metadata": {},
     "output_type": "execute_result"
    }
   ],
   "source": [
    "e2 = S6.subs(n, m + 1)\n",
    "e2"
   ]
  },
  {
   "cell_type": "code",
   "execution_count": 57,
   "metadata": {},
   "outputs": [
    {
     "data": {
      "text/plain": [
       "True"
      ]
     },
     "execution_count": 57,
     "metadata": {},
     "output_type": "execute_result"
    }
   ],
   "source": [
    "e1.expand() == e2.expand()"
   ]
  },
  {
   "cell_type": "markdown",
   "metadata": {},
   "source": [
    "So for these exampleat at least, we know that that the formulas are complete. \n",
    "\n",
    "1. Start with a known sequence, $a_1,a_2, \\cdots, a_n$ for some natural number $n \\gt 1$\n",
    "2. Create a second sequence of sucessing differences: $b_1=a_2-a_1, \\quad b_2=a_3-a_2,\\quad \\ldots,\\quad b_{n-1}$\n",
    "\n",
    "It turns out that this approach creates te follwoing identity\n",
    "\n",
    "$$\\sum_{i=1}^{n-1} b_i=a_n-a_1.$$\n",
    "\n",
    "\n",
    "Let's try something else for to find $S_7$, the telscoing series, noting that \n",
    "\n",
    "\n",
    "\n",
    "$$ n^8=\\sum_{m=1}^n(m^8-(m-1)^8)$$"
   ]
  },
  {
   "cell_type": "code",
   "execution_count": 58,
   "metadata": {},
   "outputs": [
    {
     "data": {
      "text/latex": [
       "$\\displaystyle 2 n \\left(n + 1\\right)$"
      ],
      "text/plain": [
       "2*n*(n + 1)"
      ]
     },
     "execution_count": 58,
     "metadata": {},
     "output_type": "execute_result"
    }
   ],
   "source": [
    "4 * S1"
   ]
  },
  {
   "cell_type": "markdown",
   "metadata": {},
   "source": [
    "Back to Faulhaber  - we hare heading towards 1^k + 2^k etc.....this will become really important for us. \n",
    "\n",
    "What would formula look like. \n",
    "\n",
    "We know naturals, squares and cubes. \n",
    "\n",
    "Let's start - in 1631 Faulhaber write down extension, higher power of natural numbers, he wrote down first 17...and got interesting result - formulas really important, coming into calculus a lot.....so today we want to look at the historical approach, looking at Jacob Bernouli....\n",
    "\n",
    "Important ingredeitn - pascals array, left justified - gives us coeffients - (a + b) ^n - these are just expansions polynomicals\n",
    "\n",
    "index table with i j with 0 indexising - (i,j) entry - (i! / j!(i - j)! .....ij etnry is a binomial coefficent, i chooose j - this array is connected to sums of powers problems - \n",
    "\n",
    "colums of pascal array - figurate numbers.....columms have property they can be summed easily.... this is a look up table....so we can go down and we get an easy to way to look things up.....notice we get our entries from a quadratic function in i. \n",
    "\n",
    "This phenomena occurs for all colums - why is this....this is direct consquence of additive property of pasacal....so this means that x^k can essentially be summed via the power of a pascal array\n",
    "\n",
    "Realisation that colums of pascal array is easily summable due to bernoulli...exploits to find sums of powers...bernouli...exenes and generalizes Faulhauber...\n",
    "\n",
    "We get Bournouli formula.....its big! leads to bernouli nummers....the B_j are bernoulli numbers, facinating weuqnce  of rational numbers....note all of odd bernouli numbers are 0 execpt for 1 - check out slown A000367 and A002445 are numerators and denominators of bernoulie numbers \n",
    "\n",
    "Now let's take a new approach - Pascale + Linear Albegra - let's use a different way - take some of Pascal insignt, combine with linear algebra. \n",
    "\n",
    "We will exploit telescoping area - successive differences...we see lots of cancellation....recal the binomial theorum....combine binomial theorem with teslopit series...exploit telesopiing series.....\n",
    "\n",
    "We can create linear equations and solve in matrix form...end up with general story....we get the inverse - we end up inverse matrix with bernouli numbers...."
   ]
  },
  {
   "cell_type": "code",
   "execution_count": null,
   "metadata": {},
   "outputs": [],
   "source": []
  },
  {
   "cell_type": "code",
   "execution_count": null,
   "metadata": {},
   "outputs": [],
   "source": []
  },
  {
   "cell_type": "code",
   "execution_count": null,
   "metadata": {},
   "outputs": [],
   "source": []
  },
  {
   "cell_type": "code",
   "execution_count": null,
   "metadata": {},
   "outputs": [],
   "source": []
  },
  {
   "cell_type": "code",
   "execution_count": null,
   "metadata": {},
   "outputs": [],
   "source": []
  },
  {
   "cell_type": "code",
   "execution_count": null,
   "metadata": {},
   "outputs": [],
   "source": []
  }
 ],
 "metadata": {
  "kernelspec": {
   "display_name": "Python 3",
   "language": "python",
   "name": "python3"
  },
  "language_info": {
   "codemirror_mode": {
    "name": "ipython",
    "version": 3
   },
   "file_extension": ".py",
   "mimetype": "text/x-python",
   "name": "python",
   "nbconvert_exporter": "python",
   "pygments_lexer": "ipython3",
   "version": "3.7.3"
  }
 },
 "nbformat": 4,
 "nbformat_minor": 4
}
