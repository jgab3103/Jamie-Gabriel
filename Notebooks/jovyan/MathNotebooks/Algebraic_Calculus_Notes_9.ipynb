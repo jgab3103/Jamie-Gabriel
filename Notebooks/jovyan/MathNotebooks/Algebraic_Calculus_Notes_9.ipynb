{
 "cells": [
  {
   "cell_type": "markdown",
   "metadata": {},
   "source": [
    "<i>STATUS: Draft</i>"
   ]
  },
  {
   "cell_type": "code",
   "execution_count": 1,
   "metadata": {},
   "outputs": [],
   "source": [
    "import numpy as np\n",
    "import sympy as sp\n",
    "import shared_functions as sf\n",
    "from IPython.display import HTML\n",
    "import matplotlib.pyplot as plt"
   ]
  },
  {
   "cell_type": "markdown",
   "metadata": {},
   "source": [
    "In the last notebook we introduced summation symbol, $\\sum$, and we looked at how to work with this algebraic seeting. We We also looked at some well known sums, also some key ideas, leaving us with the idea that we wanttd sums of powers, \n",
    "\n",
    "Note we also covered telescoping series which will be critical for us to understand next steps: such as sums of natural numbers, quadratics, and cubics, and the idea of summation which tells not only how to add things, but shows patterns, start to emerge when we look at these numbers. \n",
    "\n",
    "Let's refresh our idea, so we have some basic \n",
    "\n",
    "\n",
    "$$  S_1=\\sum_{i=0}^n i=1+2+3+\\cdots+n=\\frac{n(n+1)}{2} $$\n",
    "\n",
    "$$ S_2=\\sum_{i=0}^n i^2=1^2+2^2+3^2+\\cdots+n^2=\\frac{n(n+1)(2n+1)}{6} $$\n",
    "\n",
    "$$  S_3=\\sum_{i=0}^n i^3=1^3+2^3+3^3+\\cdots+n^3=\\frac{n^2(n+1)^2}{4} $$\n",
    "\n",
    "\n",
    "What about higher powers? What is wanted sum higher powers, wh\n",
    "at could we do? What is wanted to go to higher powers. Suppose we have the gneral \n",
    "\n",
    "$$   S_k =\\sum_{i=0}^n i^k=1^k+2^k+3^k+\\cdots+n^k.  $$\n",
    "\n",
    "An early attempt at this in 1631, by Johann Faulhaber. He wrote down formulas to calculate this up to k = 17. An example of one of these, where k = 6. \n",
    "\n",
    "$$S_6=\\sum_{i=0}^n i^6=\\frac{n(n+1)(2n+1)(3n^4+6n^3-3n+1)}{42}$$\n",
    "\n",
    "Later the same idea was taken up by Jacob Bernoulli, who publishied a key foruma for $S_k$ for a gneral value of $k$. This derivation used Pascal's array, and involved new numbers, Bernoulli numbers. \n",
    "\n",
    "Let's start be exploring some of these ideas in Python. We know already that the following $1^1 + 2^1 + 3^1 + \\ldots n^1$ and $1^2 + 2^2 + 3^2 \\ldots n^2$ and $1^3 + 2^3 + 3^3 \\ldots n^2$ can be be expressed with with the following expressions for some variable $n$:\n"
   ]
  },
  {
   "cell_type": "code",
   "execution_count": 2,
   "metadata": {},
   "outputs": [],
   "source": [
    "n = sp.symbols('n')\n",
    "S0 = n\n",
    "S1 = (n * (n + 1)) / 2\n",
    "S2 = (n * (n + 1) * (2 * n + 1)) / 6\n",
    "S3 = ((n * n) * pow((n + 1), 2)) / 4"
   ]
  },
  {
   "cell_type": "markdown",
   "metadata": {},
   "source": [
    "Let's expand these have have a look at them "
   ]
  },
  {
   "cell_type": "code",
   "execution_count": 67,
   "metadata": {},
   "outputs": [
    {
     "data": {
      "text/latex": [
       "$\\displaystyle 36$"
      ],
      "text/plain": [
       "36"
      ]
     },
     "execution_count": 67,
     "metadata": {},
     "output_type": "execute_result"
    }
   ],
   "source": [
    "S3.subs(n, 3)"
   ]
  },
  {
   "cell_type": "code",
   "execution_count": 3,
   "metadata": {},
   "outputs": [
    {
     "data": {
      "text/latex": [
       "$\\displaystyle n$"
      ],
      "text/plain": [
       "n"
      ]
     },
     "execution_count": 3,
     "metadata": {},
     "output_type": "execute_result"
    }
   ],
   "source": [
    "S0.expand()"
   ]
  },
  {
   "cell_type": "code",
   "execution_count": 4,
   "metadata": {},
   "outputs": [
    {
     "data": {
      "text/latex": [
       "$\\displaystyle \\frac{n^{2}}{2} + \\frac{n}{2}$"
      ],
      "text/plain": [
       "n**2/2 + n/2"
      ]
     },
     "execution_count": 4,
     "metadata": {},
     "output_type": "execute_result"
    }
   ],
   "source": [
    "S1.expand()"
   ]
  },
  {
   "cell_type": "code",
   "execution_count": 5,
   "metadata": {},
   "outputs": [
    {
     "data": {
      "text/latex": [
       "$\\displaystyle \\frac{n^{3}}{3} + \\frac{n^{2}}{2} + \\frac{n}{6}$"
      ],
      "text/plain": [
       "n**3/3 + n**2/2 + n/6"
      ]
     },
     "execution_count": 5,
     "metadata": {},
     "output_type": "execute_result"
    }
   ],
   "source": [
    "S2.expand()"
   ]
  },
  {
   "cell_type": "code",
   "execution_count": 6,
   "metadata": {},
   "outputs": [
    {
     "data": {
      "text/latex": [
       "$\\displaystyle \\frac{n^{4}}{4} + \\frac{n^{3}}{2} + \\frac{n^{2}}{4}$"
      ],
      "text/plain": [
       "n**4/4 + n**3/2 + n**2/4"
      ]
     },
     "execution_count": 6,
     "metadata": {},
     "output_type": "execute_result"
    }
   ],
   "source": [
    "S3.expand()"
   ]
  },
  {
   "cell_type": "markdown",
   "metadata": {},
   "source": [
    "Note that when $n = 1$, each of these sums to 1:"
   ]
  },
  {
   "cell_type": "code",
   "execution_count": 7,
   "metadata": {},
   "outputs": [
    {
     "name": "stdout",
     "output_type": "stream",
     "text": [
      "1\n",
      "1\n",
      "1\n",
      "1\n"
     ]
    }
   ],
   "source": [
    "print(S0.subs(n, 1))\n",
    "print(S1.subs(n, 1))\n",
    "print(S2.subs(n, 1))\n",
    "print(S3.subs(n, 1))"
   ]
  },
  {
   "cell_type": "markdown",
   "metadata": {},
   "source": [
    "Now let's explore these higher powers $S4, S5$ and $S6$. What we would expect these formulas to look like. We havn't proved anything, but we could suppose they look like the following: \n",
    "\n",
    "$$  S_4=-\\frac {n}{30}+\\frac {n^3}{3}+\\frac {n^4}{2}+\\frac {n^5}{5},  $$\n",
    "\n",
    "$$  S_5=\\frac {-n^2}{12}+\\frac {5n^4}{12}+\\frac {n^5}{2}+\\frac {n^6}{6},  $$\n",
    "\n",
    "$$  S_6=\\frac {n}{42}-\\frac {n^3}{6}+\\frac {n^5}{2}+\\frac {n^6}{2}+\\frac {n^7}{7}.  $$\n"
   ]
  },
  {
   "cell_type": "markdown",
   "metadata": {},
   "source": [
    "So we prove this to be true? We are going to use a induction which is the idea that there is a base case we can establish to be true and we can establish base + 1 case also. Our proofs so far have simpler than this. \n",
    "\n",
    "To go anyway toward proving this, we would expect that each of these formulas would sum to 1 when $n = 1$. That is our base case. Let's check that first: "
   ]
  },
  {
   "cell_type": "code",
   "execution_count": 8,
   "metadata": {},
   "outputs": [],
   "source": [
    "S4 = (-n/30) + (pow(n, 3)/ 3) + (pow(n, 4)/ 2) + (pow(n, 5)/ 5)\n",
    "S5 = -(pow(n, 2)/ 12)  + (5 * (pow(n, 4)/ 12)) +  (pow(n, 5)/ 2) + (pow(n, 6)/ 6)\n",
    "S6 = (n/ 42) - (pow(n, 3)/ 6) + (pow(n, 5)/ 2) + (pow(n, 6)/ 2) + (pow(n, 7)/ 7)\n"
   ]
  },
  {
   "cell_type": "code",
   "execution_count": 9,
   "metadata": {},
   "outputs": [
    {
     "name": "stdout",
     "output_type": "stream",
     "text": [
      "1\n",
      "1\n",
      "1\n"
     ]
    }
   ],
   "source": [
    "print(S4.subs(n, 1))\n",
    "print(S5.subs(n, 1))\n",
    "print(S6.subs(n, 1))"
   ]
  },
  {
   "cell_type": "markdown",
   "metadata": {},
   "source": [
    "So that's good -  we established what happens in the case of $n = 1$. Now let's establish a base case happens for $m$?"
   ]
  },
  {
   "cell_type": "code",
   "execution_count": 10,
   "metadata": {},
   "outputs": [],
   "source": [
    "m = sp.symbols('m')"
   ]
  },
  {
   "cell_type": "code",
   "execution_count": 11,
   "metadata": {},
   "outputs": [
    {
     "data": {
      "text/latex": [
       "$\\displaystyle \\frac{m^{5}}{5} + \\frac{m^{4}}{2} + \\frac{m^{3}}{3} - \\frac{m}{30}$"
      ],
      "text/plain": [
       "m**5/5 + m**4/2 + m**3/3 - m/30"
      ]
     },
     "execution_count": 11,
     "metadata": {},
     "output_type": "execute_result"
    }
   ],
   "source": [
    "S4.subs(n, m)"
   ]
  },
  {
   "cell_type": "markdown",
   "metadata": {},
   "source": [
    "Note that this prepresents $1^4 + 2^4 + 3^4 \\ldots m^4$. So the next term would be $( m + 4)^2$. Let's add that to our expression above: "
   ]
  },
  {
   "cell_type": "code",
   "execution_count": 12,
   "metadata": {},
   "outputs": [
    {
     "data": {
      "text/latex": [
       "$\\displaystyle \\frac{m^{5}}{5} + \\frac{m^{4}}{2} + \\frac{m^{3}}{3} - \\frac{m}{30} + \\left(m + 1\\right)^{4}$"
      ],
      "text/plain": [
       "m**5/5 + m**4/2 + m**3/3 - m/30 + (m + 1)**4"
      ]
     },
     "execution_count": 12,
     "metadata": {},
     "output_type": "execute_result"
    }
   ],
   "source": [
    "e1 = S4.subs(n, m) + pow(m + 1, 4)\n",
    "e1"
   ]
  },
  {
   "cell_type": "markdown",
   "metadata": {},
   "source": [
    "This should be equivalent to subsituting $(m + 4)$ to the whole "
   ]
  },
  {
   "cell_type": "code",
   "execution_count": 13,
   "metadata": {},
   "outputs": [
    {
     "data": {
      "text/latex": [
       "$\\displaystyle - \\frac{m}{30} + \\frac{\\left(m + 1\\right)^{5}}{5} + \\frac{\\left(m + 1\\right)^{4}}{2} + \\frac{\\left(m + 1\\right)^{3}}{3} - \\frac{1}{30}$"
      ],
      "text/plain": [
       "-m/30 + (m + 1)**5/5 + (m + 1)**4/2 + (m + 1)**3/3 - 1/30"
      ]
     },
     "execution_count": 13,
     "metadata": {},
     "output_type": "execute_result"
    }
   ],
   "source": [
    "e2 = S4.subs(n, m+1)\n",
    "e2"
   ]
  },
  {
   "cell_type": "markdown",
   "metadata": {},
   "source": [
    "However, if I expand these, I find this is the case, they are same expression. Let's try it for "
   ]
  },
  {
   "cell_type": "code",
   "execution_count": 14,
   "metadata": {},
   "outputs": [
    {
     "data": {
      "text/plain": [
       "True"
      ]
     },
     "execution_count": 14,
     "metadata": {},
     "output_type": "execute_result"
    }
   ],
   "source": [
    "e1.expand() == e2.expand()"
   ]
  },
  {
   "cell_type": "markdown",
   "metadata": {},
   "source": [
    "Excellent! Now let's try it for $S_5$, the expression $1^5 + 2^5 + 3^5 \\ldots n^2$ for some value, $n$. Start with some expression and $(m + 1)^5$: "
   ]
  },
  {
   "cell_type": "code",
   "execution_count": 15,
   "metadata": {},
   "outputs": [
    {
     "data": {
      "text/latex": [
       "$\\displaystyle \\frac{m^{6}}{6} + \\frac{m^{5}}{2} + \\frac{5 m^{4}}{12} - \\frac{m^{2}}{12} + \\left(m + 1\\right)^{5}$"
      ],
      "text/plain": [
       "m**6/6 + m**5/2 + 5*m**4/12 - m**2/12 + (m + 1)**5"
      ]
     },
     "execution_count": 15,
     "metadata": {},
     "output_type": "execute_result"
    }
   ],
   "source": [
    "e1 = S5.subs(n, m) + pow(m + 1, 5)\n",
    "e1"
   ]
  },
  {
   "cell_type": "markdown",
   "metadata": {},
   "source": [
    "Now, substiute in $(m + 1)^5$ to our original formula: "
   ]
  },
  {
   "cell_type": "code",
   "execution_count": 16,
   "metadata": {},
   "outputs": [
    {
     "data": {
      "text/latex": [
       "$\\displaystyle \\frac{\\left(m + 1\\right)^{6}}{6} + \\frac{\\left(m + 1\\right)^{5}}{2} + \\frac{5 \\left(m + 1\\right)^{4}}{12} - \\frac{\\left(m + 1\\right)^{2}}{12}$"
      ],
      "text/plain": [
       "(m + 1)**6/6 + (m + 1)**5/2 + 5*(m + 1)**4/12 - (m + 1)**2/12"
      ]
     },
     "execution_count": 16,
     "metadata": {},
     "output_type": "execute_result"
    }
   ],
   "source": [
    "e2 = S5.subs(n, m + 1)\n",
    "e2"
   ]
  },
  {
   "cell_type": "markdown",
   "metadata": {},
   "source": [
    "Expand them both and we find that they are equal"
   ]
  },
  {
   "cell_type": "code",
   "execution_count": 17,
   "metadata": {},
   "outputs": [
    {
     "data": {
      "text/plain": [
       "True"
      ]
     },
     "execution_count": 17,
     "metadata": {},
     "output_type": "execute_result"
    }
   ],
   "source": [
    "e1.expand() == e2.expand()"
   ]
  },
  {
   "cell_type": "markdown",
   "metadata": {},
   "source": [
    "And finally let's try for $S_6$:"
   ]
  },
  {
   "cell_type": "code",
   "execution_count": 18,
   "metadata": {},
   "outputs": [
    {
     "data": {
      "text/latex": [
       "$\\displaystyle \\frac{m^{7}}{7} + \\frac{m^{6}}{2} + \\frac{m^{5}}{2} - \\frac{m^{3}}{6} + \\frac{m}{42} + \\left(m + 1\\right)^{6}$"
      ],
      "text/plain": [
       "m**7/7 + m**6/2 + m**5/2 - m**3/6 + m/42 + (m + 1)**6"
      ]
     },
     "execution_count": 18,
     "metadata": {},
     "output_type": "execute_result"
    }
   ],
   "source": [
    "e1 = S6.subs(n, m) + pow(m + 1, 6)\n",
    "e1"
   ]
  },
  {
   "cell_type": "code",
   "execution_count": 19,
   "metadata": {},
   "outputs": [
    {
     "data": {
      "text/latex": [
       "$\\displaystyle \\frac{m}{42} + \\frac{\\left(m + 1\\right)^{7}}{7} + \\frac{\\left(m + 1\\right)^{6}}{2} + \\frac{\\left(m + 1\\right)^{5}}{2} - \\frac{\\left(m + 1\\right)^{3}}{6} + \\frac{1}{42}$"
      ],
      "text/plain": [
       "m/42 + (m + 1)**7/7 + (m + 1)**6/2 + (m + 1)**5/2 - (m + 1)**3/6 + 1/42"
      ]
     },
     "execution_count": 19,
     "metadata": {},
     "output_type": "execute_result"
    }
   ],
   "source": [
    "e2 = S6.subs(n, m + 1)\n",
    "e2"
   ]
  },
  {
   "cell_type": "code",
   "execution_count": 20,
   "metadata": {},
   "outputs": [
    {
     "data": {
      "text/plain": [
       "True"
      ]
     },
     "execution_count": 20,
     "metadata": {},
     "output_type": "execute_result"
    }
   ],
   "source": [
    "e1.expand() == e2.expand()"
   ]
  },
  {
   "cell_type": "markdown",
   "metadata": {},
   "source": [
    "So for these exampleat at least, we know that that the formulas are complete. What about $S_7$? \n",
    "\n",
    "\n",
    "Let's try and different approach. Remember the telescoping series? The idea was that we\n",
    "\n",
    "1. Start with a known sequence, $a_1,a_2, \\cdots, a_n$ for some natural number $n \\gt 1$\n",
    "2. Use this to create a second sequence of sucessing differences: $b_1=a_2-a_1, \\quad b_2=a_3-a_2,\\quad \\ldots,\\quad b_{n-1}$\n",
    "\n",
    "\n",
    "$$\\sum_{i=1}^{n-1} b_i=a_n-a_1.$$\n",
    "\n",
    "\n",
    "Let's try something else for to find $S_7$, the telscoing series, noting that \n",
    "\n",
    "\n",
    "\n",
    "$$ n^8=\\sum_{m=1}^n(m^8-(m-1)^8)$$\n",
    "\n",
    "JG _ FIX THIS "
   ]
  },
  {
   "cell_type": "code",
   "execution_count": 21,
   "metadata": {},
   "outputs": [
    {
     "data": {
      "text/latex": [
       "$\\displaystyle \\frac{n^{8}}{8} + \\frac{n^{7}}{2} + \\frac{7 n^{6}}{12} - \\frac{7 n^{4}}{24} + \\frac{n^{2}}{12}$"
      ],
      "text/plain": [
       "n**8/8 + n**7/2 + 7*n**6/12 - 7*n**4/24 + n**2/12"
      ]
     },
     "execution_count": 21,
     "metadata": {},
     "output_type": "execute_result"
    }
   ],
   "source": [
    "# Now we have a value of S7\n",
    "S7 = n^2/12 - (7 * n^4)/24 + (7 * n^6)/12 + n^7/2 + n^8/8\n",
    "S7"
   ]
  },
  {
   "cell_type": "code",
   "execution_count": null,
   "metadata": {},
   "outputs": [],
   "source": []
  },
  {
   "cell_type": "markdown",
   "metadata": {},
   "source": [
    "When Faulhabeer explored these patterns, he observed that there was a relationship between the power of the number. Specifically, he found that if $k$ is odd in equation of \n",
    "$S_k(n)=1^{k}+2^{k}+3^{k}+\\ldots +n^{k}$  then it could be expressed a polynomical function of $\\frac{n(n + 1}{2}$. \n",
    "\n",
    "To demonstate let's create the following equation: "
   ]
  },
  {
   "cell_type": "code",
   "execution_count": 22,
   "metadata": {},
   "outputs": [],
   "source": [
    "N = (n * (n + 1) / 2)"
   ]
  },
  {
   "cell_type": "markdown",
   "metadata": {},
   "source": [
    "We note that $S_3, S_5$, have an odd value of $k$. Let's use this value of N in polynomical function and see what we get: "
   ]
  },
  {
   "cell_type": "code",
   "execution_count": 23,
   "metadata": {},
   "outputs": [
    {
     "data": {
      "text/latex": [
       "$\\displaystyle \\frac{n^{2} \\left(n + 1\\right)^{2}}{4}$"
      ],
      "text/plain": [
       "n**2*(n + 1)**2/4"
      ]
     },
     "execution_count": 23,
     "metadata": {},
     "output_type": "execute_result"
    }
   ],
   "source": [
    "N^2"
   ]
  },
  {
   "cell_type": "code",
   "execution_count": 24,
   "metadata": {},
   "outputs": [
    {
     "data": {
      "text/latex": [
       "$\\displaystyle \\frac{n^{2} \\left(n + 1\\right)^{2}}{4}$"
      ],
      "text/plain": [
       "n**2*(n + 1)**2/4"
      ]
     },
     "execution_count": 24,
     "metadata": {},
     "output_type": "execute_result"
    }
   ],
   "source": [
    "S3"
   ]
  },
  {
   "cell_type": "markdown",
   "metadata": {},
   "source": [
    "So $ N^2$ is the same as $S_3$. Note also that $S_3$ can be written as an expression as a polynomical in N, $\\frac{-N^2}{3}+\\frac{4N^3}{3}$ following: "
   ]
  },
  {
   "cell_type": "code",
   "execution_count": 25,
   "metadata": {},
   "outputs": [
    {
     "data": {
      "text/latex": [
       "$\\displaystyle \\frac{n^{6}}{6} + \\frac{n^{5}}{2} + \\frac{5 n^{4}}{12} - \\frac{n^{2}}{12}$"
      ],
      "text/plain": [
       "n**6/6 + n**5/2 + 5*n**4/12 - n**2/12"
      ]
     },
     "execution_count": 25,
     "metadata": {},
     "output_type": "execute_result"
    }
   ],
   "source": [
    "(-N^2 / 3 + 4/3 * N^3).expand()"
   ]
  },
  {
   "cell_type": "code",
   "execution_count": 26,
   "metadata": {},
   "outputs": [
    {
     "data": {
      "text/latex": [
       "$\\displaystyle \\frac{n^{6}}{6} + \\frac{n^{5}}{2} + \\frac{5 n^{4}}{12} - \\frac{n^{2}}{12}$"
      ],
      "text/plain": [
       "n**6/6 + n**5/2 + 5*n**4/12 - n**2/12"
      ]
     },
     "execution_count": 26,
     "metadata": {},
     "output_type": "execute_result"
    }
   ],
   "source": [
    "S5"
   ]
  },
  {
   "cell_type": "markdown",
   "metadata": {},
   "source": [
    "For $S_7$, Faulhauber found that is was equivalent to $\\frac {N^2}{3}-\\frac {4N^3}{3}+ 2N^4$. Let's verify that its true:"
   ]
  },
  {
   "cell_type": "code",
   "execution_count": 27,
   "metadata": {},
   "outputs": [
    {
     "data": {
      "text/latex": [
       "$\\displaystyle \\frac{n^{8}}{8} + \\frac{n^{7}}{2} + \\frac{7 n^{6}}{12} - \\frac{7 n^{4}}{24} + \\frac{n^{2}}{12}$"
      ],
      "text/plain": [
       "n**8/8 + n**7/2 + 7*n**6/12 - 7*n**4/24 + n**2/12"
      ]
     },
     "execution_count": 27,
     "metadata": {},
     "output_type": "execute_result"
    }
   ],
   "source": [
    "(N^2 / 3 - (4 * N^3)/3 + 2 * N^4).expand()"
   ]
  },
  {
   "cell_type": "markdown",
   "metadata": {},
   "source": [
    "\n",
    "\n"
   ]
  },
  {
   "cell_type": "code",
   "execution_count": 28,
   "metadata": {},
   "outputs": [
    {
     "data": {
      "text/latex": [
       "$\\displaystyle \\frac{n^{8}}{8} + \\frac{n^{7}}{2} + \\frac{7 n^{6}}{12} - \\frac{7 n^{4}}{24} + \\frac{n^{2}}{12}$"
      ],
      "text/plain": [
       "n**8/8 + n**7/2 + 7*n**6/12 - 7*n**4/24 + n**2/12"
      ]
     },
     "execution_count": 28,
     "metadata": {},
     "output_type": "execute_result"
    }
   ],
   "source": [
    "S7.expand()"
   ]
  },
  {
   "cell_type": "markdown",
   "metadata": {},
   "source": [
    "It feels like there might be some kind of pattern emerging, as sums of powers increase by odd indexes. We will explore a different way to derive these fomulas by way of the work of Pascal and Bernoulli and come back to this. \n",
    "\n",
    "$S_3(n)=N^{2}$ <br/>\n",
    "$S_5(n)=\\frac{-N^2}{3}+\\frac{4N^3}{3}$<br/>\n",
    "$S_7(n)=\\frac {N^2}{3}-\\frac {4N^3}{3}+ 2N^4.$\n",
    "\n",
    "\n",
    "Later, Jacob Bernoulli discoved a more general formula to calculate these kinds of polynomical sums: \n",
    "\n",
    "$$ S_k(n)=\\sum_{i=1}^n i^k=\\frac{1}{k+1}\\sum_{j=0}^k \\binom{k+1}{j} B_j n^{1+k-j}$$\n",
    "\n",
    "where $B_0=1, B_1=\\frac{1}{2}, B_2=\\frac{1}{6}, B_3=0,  B_4=-\\frac{1}{30}, B_5=0, B_6=\\frac{1}{42}.$"
   ]
  },
  {
   "cell_type": "markdown",
   "metadata": {},
   "source": [
    "Note we haven't proved it, and we will wait until we look at Pascal Arrays. For now, first glance this looks a bit difficult. And note those strange values for $B_x$ that are available which we will need. These values are also sequence of values is itself a summed series, $0 = \\sum_{k=0}^n \\binom{n+1}{k} B_k$ and known as Bernoulli numbers (sloane ref). \n",
    "\n",
    "There is also a new use notation we see here shows the binomial coefficient, $\\binom{n}{k}$ which is a way  of notating the number of ways we can choose k things from a set of n things\n",
    "\n",
    "So how exactly does this binomical coeff works. Let's createa formula. We will use the factorial function\n"
   ]
  },
  {
   "cell_type": "code",
   "execution_count": 58,
   "metadata": {},
   "outputs": [],
   "source": [
    "def compute_binomial_coeffeficent(n, k):\n",
    "    if k > n:\n",
    "        return(0)\n",
    "    else:\n",
    "        return(factorial(n) / (factorial(k) * factorial(n - k)))\n",
    "    "
   ]
  },
  {
   "cell_type": "code",
   "execution_count": 63,
   "metadata": {},
   "outputs": [
    {
     "data": {
      "text/plain": [
       "1"
      ]
     },
     "execution_count": 63,
     "metadata": {},
     "output_type": "execute_result"
    }
   ],
   "source": [
    "compute_binomial_coeffeficent(7,7)"
   ]
  },
  {
   "cell_type": "markdown",
   "metadata": {},
   "source": [
    "It's worth noting that Sympy has inbuilt functions for both Bernoulli numbers and the binomial coefficient, adn now thhtat we have a sense of how to create these things, we will use those instead. Let's see them in action by calculating the first 10 bernoulli numbers, and find the number of ways to choose 2 elements for a set of 3 elemetns:"
   ]
  },
  {
   "cell_type": "code",
   "execution_count": 29,
   "metadata": {},
   "outputs": [
    {
     "name": "stdout",
     "output_type": "stream",
     "text": [
      "[1, -1/2, 1/6, 0, -1/30, 0, 1/42, 0, -1/30, 0]\n",
      "3\n"
     ]
    }
   ],
   "source": [
    "print([sp.bernoulli(i) for i in range(10)])\n",
    "print(sp.binomial(3, 2))"
   ]
  },
  {
   "cell_type": "markdown",
   "metadata": {},
   "source": [
    "So let's see if we can create a function of this. The function will need to accept lower and upper bounds of the sum, the values for $i$ and $n$ in the Bernoulli formula, as as well as our chosen power, a value for $k$:"
   ]
  },
  {
   "cell_type": "code",
   "execution_count": 30,
   "metadata": {},
   "outputs": [],
   "source": [
    "# JG - doesn't quite work out....... -1/2n4 should be +\n",
    "n = sp.symbols('n')\n",
    "def compute_faulhaber_polynomial_using_bernoulli_formula(upper_bound_choice,\n",
    "                                                        power_choice):\n",
    "    values = [(sp.binomial(power_choice + 1, j) * sp.bernoulli(j) * upper_bound_choice^(power_choice + 1 - j))for j in range(0, power_choice + 1)]\n",
    "    values_summed = (1 / (power_choice + 1)) * sum(values)\n",
    "    return(values_summed)"
   ]
  },
  {
   "cell_type": "code",
   "execution_count": 31,
   "metadata": {},
   "outputs": [
    {
     "data": {
      "text/html": [
       "<html><script type=\"math/tex; mode=display\">\\newcommand{\\Bold}[1]{\\mathbf{#1}}\\frac{1}{5} \\, n^{5} - \\frac{1}{2} \\, n^{4} + \\frac{1}{3} \\, n^{3} - \\frac{1}{30} \\, n</script></html>"
      ],
      "text/plain": [
       "1/5*n^5 - 1/2*n^4 + 1/3*n^3 - 1/30*n"
      ]
     },
     "metadata": {},
     "output_type": "display_data"
    }
   ],
   "source": [
    "e1 = compute_faulhaber_polynomial_using_bernoulli_formula(n, 4)\n",
    "show(e1)"
   ]
  },
  {
   "cell_type": "code",
   "execution_count": 32,
   "metadata": {},
   "outputs": [
    {
     "data": {
      "text/html": [
       "<html><script type=\"math/tex; mode=display\">\\newcommand{\\Bold}[1]{\\mathbf{#1}}\\frac{1}{6} \\, n^{6} - \\frac{1}{2} \\, n^{5} + \\frac{5}{12} \\, n^{4} - \\frac{1}{12} \\, n^{2}</script></html>"
      ],
      "text/plain": [
       "1/6*n^6 - 1/2*n^5 + 5/12*n^4 - 1/12*n^2"
      ]
     },
     "metadata": {},
     "output_type": "display_data"
    }
   ],
   "source": [
    "e1 = compute_faulhaber_polynomial_using_bernoulli_formula(n, 5)\n",
    "show(e1)"
   ]
  },
  {
   "cell_type": "code",
   "execution_count": 33,
   "metadata": {},
   "outputs": [
    {
     "data": {
      "text/html": [
       "<html><script type=\"math/tex; mode=display\">\\newcommand{\\Bold}[1]{\\mathbf{#1}}\\frac{1}{7} \\, n^{7} - \\frac{1}{2} \\, n^{6} + \\frac{1}{2} \\, n^{5} - \\frac{1}{6} \\, n^{3} + \\frac{1}{42} \\, n</script></html>"
      ],
      "text/plain": [
       "1/7*n^7 - 1/2*n^6 + 1/2*n^5 - 1/6*n^3 + 1/42*n"
      ]
     },
     "metadata": {},
     "output_type": "display_data"
    }
   ],
   "source": [
    "e1 = compute_faulhaber_polynomial_using_bernoulli_formula(n, 6)\n",
    "show(e1)"
   ]
  },
  {
   "cell_type": "markdown",
   "metadata": {},
   "source": [
    "The idea of binomial coeeficients is related to summation of numbers:\n",
    "\n",
    "$$ T_{n-1}=\\binom{n}{2}=\\frac{n(n-1)}{2}. $$\n",
    "\n",
    "This is telling us that the numbers sum of the $1 + 2 + 3 \\ldots$ up to $(n-1)^2$, can also be thought of as the number ways to choose 2 things from n things, which denote as $\\binom{n}{2}$, and also caculatated only is is possible to exress this as $\\frac{n(n-1)}{2}.$, but. To put this into perspective, let's list out some trianglue numbers"
   ]
  },
  {
   "cell_type": "code",
   "execution_count": 69,
   "metadata": {},
   "outputs": [
    {
     "data": {
      "text/plain": [
       "[0, 1, 3, 6, 10, 15, 21, 28, 36, 45, 55, 66, 78, 91, 105]"
      ]
     },
     "execution_count": 69,
     "metadata": {},
     "output_type": "execute_result"
    }
   ],
   "source": [
    "[S1.subs(n, i) for i in range(15)]"
   ]
  },
  {
   "cell_type": "markdown",
   "metadata": {},
   "source": [
    "We were think of these numbers as a cumulative sum of numbers $(1 + 2 + 3 + ...n)$ for some total number $n$"
   ]
  },
  {
   "cell_type": "code",
   "execution_count": 35,
   "metadata": {},
   "outputs": [
    {
     "data": {
      "text/plain": [
       "[0, 0, 1, 3, 6, 10, 15, 21, 28, 36, 45, 55, 66, 78, 91]"
      ]
     },
     "execution_count": 35,
     "metadata": {},
     "output_type": "execute_result"
    }
   ],
   "source": [
    "[sp.binomial(i, 2) for i in range(15)]"
   ]
  },
  {
   "cell_type": "markdown",
   "metadata": {},
   "source": [
    "We have come along way but there estend this...tetrahedral"
   ]
  },
  {
   "cell_type": "markdown",
   "metadata": {},
   "source": [
    "We should note interesting, we can think of things in different ways, but the not to get hung up on interpretation. Number patterns come up everywhere and utility is a side affect of this, we will retrun to it. \n",
    "\n",
    "But this also sets us up nicely to look at Pascale Arrays"
   ]
  },
  {
   "cell_type": "markdown",
   "metadata": {},
   "source": [
    "S2"
   ]
  },
  {
   "cell_type": "code",
   "execution_count": 36,
   "metadata": {},
   "outputs": [
    {
     "data": {
      "text/latex": [
       "$\\displaystyle \\frac{n \\left(n + 1\\right) \\left(2 n + 1\\right)}{6}$"
      ],
      "text/plain": [
       "n*(n + 1)*(2*n + 1)/6"
      ]
     },
     "execution_count": 36,
     "metadata": {},
     "output_type": "execute_result"
    }
   ],
   "source": [
    "S2"
   ]
  },
  {
   "cell_type": "code",
   "execution_count": 65,
   "metadata": {},
   "outputs": [
    {
     "data": {
      "text/latex": [
       "$\\displaystyle \\frac{n^{3}}{3} + \\frac{n^{2}}{2} + \\frac{n}{6}$"
      ],
      "text/plain": [
       "n**3/3 + n**2/2 + n/6"
      ]
     },
     "execution_count": 65,
     "metadata": {},
     "output_type": "execute_result"
    }
   ],
   "source": [
    "((n * (n + 1) * (2 * n + 1)) / 6).expand()"
   ]
  },
  {
   "cell_type": "code",
   "execution_count": null,
   "metadata": {},
   "outputs": [],
   "source": []
  },
  {
   "cell_type": "code",
   "execution_count": null,
   "metadata": {},
   "outputs": [],
   "source": []
  },
  {
   "cell_type": "code",
   "execution_count": null,
   "metadata": {},
   "outputs": [],
   "source": []
  },
  {
   "cell_type": "code",
   "execution_count": null,
   "metadata": {},
   "outputs": [],
   "source": []
  },
  {
   "cell_type": "code",
   "execution_count": null,
   "metadata": {},
   "outputs": [],
   "source": []
  }
 ],
 "metadata": {
  "kernelspec": {
   "display_name": "SageMath 9.0",
   "language": "sage",
   "name": "sagemath"
  },
  "language_info": {
   "codemirror_mode": {
    "name": "ipython",
    "version": 3
   },
   "file_extension": ".py",
   "mimetype": "text/x-python",
   "name": "python",
   "nbconvert_exporter": "python",
   "pygments_lexer": "ipython3",
   "version": "3.7.3"
  }
 },
 "nbformat": 4,
 "nbformat_minor": 4
}
