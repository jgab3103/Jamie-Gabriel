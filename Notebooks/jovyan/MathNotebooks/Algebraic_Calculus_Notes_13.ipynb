{
 "cells": [
  {
   "cell_type": "code",
   "execution_count": 1,
   "metadata": {},
   "outputs": [],
   "source": [
    "import numpy as np\n",
    "import sympy as sp\n",
    "import shared_functions as sf\n",
    "from IPython.display import HTML\n",
    "import matplotlib.pyplot as plt\n",
    "import ipywidgets as widgets"
   ]
  },
  {
   "cell_type": "markdown",
   "metadata": {},
   "source": [
    "In the last notebook, we did some recap of basics around polynomials and linear Algebra both powerful technologies that will extend an understanding of Algebraic Calculus by introducing the Algebraic Derivative. Now we are going to turn back to the work of Falhaaber, and arrive at what the notion of derivative that precieded . What is exciting is that we won't come to the derivative in visual way, geomtric, but purely agebraic. \n",
    "\n",
    "Let's start with some interesting observations of Faulhaber. We have already noted that in 1631 he whowed that $S_k(n)=\\sum_{i=1}^n i^k$ for k = 1 to 17. \n",
    "\n",
    "However Faulhaber went further that this. He noted that if we introduced a variable $N$, such that : \n",
    "\n",
    "$$   N=\\frac {n(n+1)}{2}$$\n",
    "\n",
    "then the subsequence of odd powers are expressible as polynomials in $N$. For Faulhaber, this was at least up to $k = 17$. \n",
    "\n",
    "Let's consider $S_5$: \n",
    "\n",
    "$$  S_5(n)=\\sum_{i=1}^n i^5=-\\frac {1}{12} n^2 +\\frac {5}{12} n^4+\\frac 12 n^5+\\frac 16 n^6 $$ \n",
    "\n",
    "Acdording to Faulhaber's observation, it's possible to express this as a polynomial in $N$, epefically as: \n",
    "\n",
    "$$  S_5=\\frac {4N^3-N^2}{3}. $$\n"
   ]
  },
  {
   "cell_type": "markdown",
   "metadata": {},
   "source": [
    "To show this the case, we could of course approach the problem in differnt ways. THe simplest is to create a variable $N$ as follows:"
   ]
  },
  {
   "cell_type": "code",
   "execution_count": 94,
   "metadata": {},
   "outputs": [
    {
     "data": {
      "text/latex": [
       "$\\displaystyle \\frac{n \\left(n + 1\\right)}{2}$"
      ],
      "text/plain": [
       "n*(n + 1)/2"
      ]
     },
     "execution_count": 94,
     "metadata": {},
     "output_type": "execute_result"
    }
   ],
   "source": [
    "n = sp.symbols('n')\n",
    "N = (n * (n + 1)) / 2\n",
    "N"
   ]
  },
  {
   "cell_type": "markdown",
   "metadata": {},
   "source": [
    "We then subsitute in and expand and find it works: "
   ]
  },
  {
   "cell_type": "code",
   "execution_count": 122,
   "metadata": {},
   "outputs": [
    {
     "data": {
      "text/html": [
       "<html><script type=\"math/tex; mode=display\">\\newcommand{\\Bold}[1]{\\mathbf{#1}}\\frac{1}{6} \\, n^{6} + \\frac{1}{2} \\, n^{5} + \\frac{5}{12} \\, n^{4} - \\frac{1}{12} \\, n^{2}</script></html>"
      ],
      "text/plain": [
       "1/6*n^6 + 1/2*n^5 + 5/12*n^4 - 1/12*n^2"
      ]
     },
     "metadata": {},
     "output_type": "display_data"
    }
   ],
   "source": [
    "s = (4 * N**3 - N**2) / 3\n",
    "show(s.expand())"
   ]
  },
  {
   "cell_type": "markdown",
   "metadata": {},
   "source": [
    "Alternatively, if we did not know the polynomial in $N$, we could createa value of $N$ in terms of $n$ and solbe this way: \n"
   ]
  },
  {
   "cell_type": "code",
   "execution_count": 123,
   "metadata": {},
   "outputs": [
    {
     "data": {
      "text/latex": [
       "$\\displaystyle - \\frac{\\sqrt{8 N + 1}}{2} - \\frac{1}{2}$"
      ],
      "text/plain": [
       "-sqrt(8*N + 1)/2 - 1/2"
      ]
     },
     "execution_count": 123,
     "metadata": {},
     "output_type": "execute_result"
    }
   ],
   "source": [
    "N, n = sp.symbols('N, n')\n",
    "e1 = sp.Eq(N, (n * (n + 1)) / 2)\n",
    "e2 = sp.solve(e, n)\n",
    "e2[0]"
   ]
  },
  {
   "cell_type": "code",
   "execution_count": 58,
   "metadata": {},
   "outputs": [
    {
     "data": {
      "text/latex": [
       "$\\displaystyle \\frac{\\sqrt{8 N + 1}}{2} - \\frac{1}{2}$"
      ],
      "text/plain": [
       "sqrt(8*N + 1)/2 - 1/2"
      ]
     },
     "execution_count": 58,
     "metadata": {},
     "output_type": "execute_result"
    }
   ],
   "source": [
    "e2[1]"
   ]
  },
  {
   "cell_type": "markdown",
   "metadata": {},
   "source": [
    "We immedietely see that solving $N=\\frac {n(n+1)}{2}$ for $n$ will yield two answers. We are very much in the algebraic reamlm but we can of course think of them as roots of zero of the N.. We can. If we take the first one and subsitute in we get somethign that looks a little complicated"
   ]
  },
  {
   "cell_type": "code",
   "execution_count": 96,
   "metadata": {},
   "outputs": [
    {
     "data": {
      "text/html": [
       "<html><script type=\"math/tex; mode=display\">\\newcommand{\\Bold}[1]{\\mathbf{#1}}\\frac{1}{384} \\, {\\left(\\sqrt{8 \\, N + 1} + 1\\right)}^{6} - \\frac{1}{64} \\, {\\left(\\sqrt{8 \\, N + 1} + 1\\right)}^{5} + \\frac{5}{192} \\, {\\left(\\sqrt{8 \\, N + 1} + 1\\right)}^{4} - \\frac{1}{48} \\, {\\left(\\sqrt{8 \\, N + 1} + 1\\right)}^{2}</script></html>"
      ],
      "text/plain": [
       "1/384*(sqrt(8*N + 1) + 1)^6 - 1/64*(sqrt(8*N + 1) + 1)^5 + 5/192*(sqrt(8*N + 1) + 1)^4 - 1/48*(sqrt(8*N + 1) + 1)^2"
      ]
     },
     "metadata": {},
     "output_type": "display_data"
    }
   ],
   "source": [
    "S5 = -1/12 * n**2 + 5/12*n**4 + 1/2*n**5 + 1/6 * n**6\n",
    "show(S5.subs(n= e2[0]))"
   ]
  },
  {
   "cell_type": "markdown",
   "metadata": {},
   "source": [
    "But when we expand we things seem to work out: "
   ]
  },
  {
   "cell_type": "code",
   "execution_count": 124,
   "metadata": {},
   "outputs": [
    {
     "data": {
      "text/html": [
       "<html><script type=\"math/tex; mode=display\">\\newcommand{\\Bold}[1]{\\mathbf{#1}}\\frac{4}{3} \\, N^{3} - \\frac{1}{3} \\, N^{2}</script></html>"
      ],
      "text/plain": [
       "4/3*N^3 - 1/3*N^2"
      ]
     },
     "metadata": {},
     "output_type": "display_data"
    }
   ],
   "source": [
    "show(S5.subs(n= e2[0]).expand())"
   ]
  },
  {
   "cell_type": "markdown",
   "metadata": {},
   "source": [
    "And, pleasently, when we expand the other answer we get this as well:"
   ]
  },
  {
   "cell_type": "code",
   "execution_count": 99,
   "metadata": {},
   "outputs": [
    {
     "data": {
      "text/html": [
       "<html><script type=\"math/tex; mode=display\">\\newcommand{\\Bold}[1]{\\mathbf{#1}}\\frac{4}{3} \\, N^{3} - \\frac{1}{3} \\, N^{2}</script></html>"
      ],
      "text/plain": [
       "4/3*N^3 - 1/3*N^2"
      ]
     },
     "metadata": {},
     "output_type": "display_data"
    }
   ],
   "source": [
    "show(S5.subs(n= e2[1]).expand())"
   ]
  },
  {
   "cell_type": "markdown",
   "metadata": {},
   "source": [
    "<div style=\"background:#99ddff; color:black; padding: 10px\">\n",
    "<b>Add to these notes:</b>\n",
    "    \n",
    "There are issues between Sympy and Sage. A great way to explore both libraries, is figure out if dealing with Sage or Python, and create a tutorial for it\n",
    "    \n",
    "</div>"
   ]
  },
  {
   "cell_type": "markdown",
   "metadata": {},
   "source": [
    "Faulbaber's observation seems to accord with odd powers, (such as $S_1, S_3, S_5, \\ldots$. But what observations might we make about $S_4$? Recall that that S_4 can be expressed in the following way:  "
   ]
  },
  {
   "cell_type": "code",
   "execution_count": 126,
   "metadata": {},
   "outputs": [
    {
     "data": {
      "text/html": [
       "<html><script type=\"math/tex; mode=display\">\\newcommand{\\Bold}[1]{\\mathbf{#1}}\\frac{1}{5} \\, n^{5} + \\frac{1}{2} \\, n^{4} + \\frac{1}{3} \\, n^{3} - \\frac{1}{30} \\, n</script></html>"
      ],
      "text/plain": [
       "1/5*n^5 + 1/2*n^4 + 1/3*n^3 - 1/30*n"
      ]
     },
     "metadata": {},
     "output_type": "display_data"
    }
   ],
   "source": [
    "n = sp.symbols('n')\n",
    "S4 = (-1/30 * n + 1/3 * n**3 + 1/2 * n**4 + 1/5 * n**5)\n",
    "show(S4)"
   ]
  },
  {
   "cell_type": "markdown",
   "metadata": {},
   "source": [
    "We could try and adopt a similar approach, the idea that there is some value $N$, such that $N=\\frac {n(n+1)}{2}$, which and rewrite $S_4$ in this way. This doesn not quiet work however, we can't account for every instance of $n$ by seeking to replace them with $N$. \n",
    "\n",
    "But it does turn out to possible to write $S_4$ in terms of both $n$ and $N$, specifically: \n",
    "\n",
    "$$ S_4=\\left(\\frac {n+\\frac 12}{5}\\right) \\left (4N^2-\\frac {2}{3}N\\right ). $$"
   ]
  },
  {
   "cell_type": "markdown",
   "metadata": {},
   "source": [
    "Let's verify that this is an alternate way to get the value $S_4$. Create a value for $N$ based, substiute this into the equation above, and expand the result:"
   ]
  },
  {
   "cell_type": "code",
   "execution_count": 129,
   "metadata": {},
   "outputs": [
    {
     "data": {
      "text/latex": [
       "$\\displaystyle \\left(\\frac{n}{5} + \\frac{1}{10}\\right) \\left(n^{2} \\left(n + 1\\right)^{2} - \\frac{n \\left(n + 1\\right)}{3}\\right)$"
      ],
      "text/plain": [
       "(n/5 + 1/10)*(n**2*(n + 1)**2 - n*(n + 1)/3)"
      ]
     },
     "execution_count": 129,
     "metadata": {},
     "output_type": "execute_result"
    }
   ],
   "source": [
    "N = (n * (n + 1)) / 2\n",
    "e4 = (((n + 1/2) / 5) * (4 * N**2 - 2/3 * N))\n",
    "e4"
   ]
  },
  {
   "cell_type": "markdown",
   "metadata": {},
   "source": [
    "And expand:"
   ]
  },
  {
   "cell_type": "code",
   "execution_count": 130,
   "metadata": {},
   "outputs": [
    {
     "data": {
      "text/latex": [
       "$\\displaystyle \\frac{n^{5}}{5} + \\frac{n^{4}}{2} + \\frac{n^{3}}{3} - \\frac{n}{30}$"
      ],
      "text/plain": [
       "n**5/5 + n**4/2 + n**3/3 - n/30"
      ]
     },
     "execution_count": 130,
     "metadata": {},
     "output_type": "execute_result"
    }
   ],
   "source": [
    "e4.expand()"
   ]
  },
  {
   "cell_type": "markdown",
   "metadata": {},
   "source": [
    "So that is $S_4$ and we have arrived at it using both $N$ and $n$. Recall our original value for $S_4$:"
   ]
  },
  {
   "cell_type": "code",
   "execution_count": 131,
   "metadata": {},
   "outputs": [
    {
     "data": {
      "text/html": [
       "<html><script type=\"math/tex; mode=display\">\\newcommand{\\Bold}[1]{\\mathbf{#1}}\\frac{1}{5} \\, n^{5} + \\frac{1}{2} \\, n^{4} + \\frac{1}{3} \\, n^{3} - \\frac{1}{30} \\, n</script></html>"
      ],
      "text/plain": [
       "1/5*n^5 + 1/2*n^4 + 1/3*n^3 - 1/30*n"
      ]
     },
     "metadata": {},
     "output_type": "display_data"
    }
   ],
   "source": [
    "show(S4)"
   ]
  },
  {
   "cell_type": "markdown",
   "metadata": {},
   "source": [
    "So there is some kind of relationship between $n$ and $N$ and how we can compute these values of $S_k$. And so far, of course, we have only been making observations. It's important to note that we are thinking algebraically, but "
   ]
  },
  {
   "cell_type": "code",
   "execution_count": 157,
   "metadata": {},
   "outputs": [
    {
     "data": {
      "text/plain": [
       "[<matplotlib.lines.Line2D object at 0x7f8d97fb19e8>]"
      ]
     },
     "execution_count": 157,
     "metadata": {},
     "output_type": "execute_result"
    },
    {
     "data": {
      "image/png": "[encoded data removed]",
      "text/plain": [
       "<Figure size 432x288 with 1 Axes>"
      ]
     },
     "metadata": {},
     "output_type": "display_data"
    }
   ],
   "source": [
    "x_values = np.arange(-20, 20)\n",
    "y_values = [S4.subs(n = i) for i in x_values]\n",
    "plt.plot(x_values, y_values)"
   ]
  },
  {
   "cell_type": "markdown",
   "metadata": {},
   "source": [
    "In the spirit of making observations rather than making proofs, let's do something tha probably feels completely arbitrary. Let's multiply $S_4$ by 5:"
   ]
  },
  {
   "cell_type": "code",
   "execution_count": 161,
   "metadata": {},
   "outputs": [],
   "source": [
    "S4_mult5 = (5 * S4).expand()\n"
   ]
  },
  {
   "cell_type": "code",
   "execution_count": 160,
   "metadata": {},
   "outputs": [
    {
     "data": {
      "text/plain": [
       "[<matplotlib.lines.Line2D object at 0x7f8d97f1a048>]"
      ]
     },
     "execution_count": 160,
     "metadata": {},
     "output_type": "execute_result"
    },
    {
     "data": {
      "image/png": "[encoded data removed]",
      "text/plain": [
       "<Figure size 432x288 with 1 Axes>"
      ]
     },
     "metadata": {},
     "output_type": "display_data"
    }
   ],
   "source": [
    "x_values = np.arange(-20, 20)\n",
    "y_values = [S4_mult5.subs(n = i) for i in x_values]\n",
    "plt.plot(x_values, y_values)"
   ]
  },
  {
   "cell_type": "markdown",
   "metadata": {},
   "source": [
    "The graph shows that I have nothing really, scale. But something interesting happens when I consider my $S_4$ multiplied by $5$, and $S_5$"
   ]
  },
  {
   "cell_type": "code",
   "execution_count": 163,
   "metadata": {},
   "outputs": [
    {
     "data": {
      "text/html": [
       "<html><script type=\"math/tex; mode=display\">\\newcommand{\\Bold}[1]{\\mathbf{#1}}n^{5} + \\frac{5}{2} \\, n^{4} + \\frac{5}{3} \\, n^{3} - \\frac{1}{6} \\, n</script></html>"
      ],
      "text/plain": [
       "n^5 + 5/2*n^4 + 5/3*n^3 - 1/6*n"
      ]
     },
     "metadata": {},
     "output_type": "display_data"
    }
   ],
   "source": [
    "show(S4_mult5)"
   ]
  },
  {
   "cell_type": "code",
   "execution_count": 164,
   "metadata": {},
   "outputs": [
    {
     "data": {
      "text/html": [
       "<html><script type=\"math/tex; mode=display\">\\newcommand{\\Bold}[1]{\\mathbf{#1}}\\frac{1}{6} \\, n^{6} + \\frac{1}{2} \\, n^{5} + \\frac{5}{12} \\, n^{4} - \\frac{1}{12} \\, n^{2}</script></html>"
      ],
      "text/plain": [
       "1/6*n^6 + 1/2*n^5 + 5/12*n^4 - 1/12*n^2"
      ]
     },
     "metadata": {},
     "output_type": "display_data"
    }
   ],
   "source": [
    "show(S5)"
   ]
  },
  {
   "cell_type": "markdown",
   "metadata": {},
   "source": [
    "It turns out, that $S_4 \\times 5$ is exactly the same as our usual understanidng of the differentiaon of of $S_5$. Let's differentiate $S_5$ the usual way to discover what we mean: "
   ]
  },
  {
   "cell_type": "code",
   "execution_count": 165,
   "metadata": {},
   "outputs": [
    {
     "data": {
      "text/html": [
       "<html><script type=\"math/tex; mode=display\">\\newcommand{\\Bold}[1]{\\mathbf{#1}}n^{5} + \\frac{5}{2} \\, n^{4} + \\frac{5}{3} \\, n^{3} - \\frac{1}{6} \\, n</script></html>"
      ],
      "text/plain": [
       "n^5 + 5/2*n^4 + 5/3*n^3 - 1/6*n"
      ]
     },
     "metadata": {},
     "output_type": "display_data"
    }
   ],
   "source": [
    "show(sp.diff(S5))"
   ]
  },
  {
   "cell_type": "markdown",
   "metadata": {},
   "source": [
    "So if I appears I muliply $S_4$ by 5 I get the derivative of $S_5$. What are we to make this?\n",
    "\n",
    "There is more we need to do to unpack this. We are proceeding with observations and finding patterns which we perhaps don't expact. But it appears that Faulhaber has found a way to to express the derivative of polynomial purely algebraically. There is no notion of Fermat, or Leibniz or Newton, of slope, or limits. It is arising from a sequence of numbers."
   ]
  },
  {
   "cell_type": "markdown",
   "metadata": {},
   "source": [
    "<h4>Derivative and Integral</h4>"
   ]
  },
  {
   "cell_type": "markdown",
   "metadata": {},
   "source": [
    "What is fasinatnig about the idea of the derivative, it is a rule of identity we can simply create and we will so below. But it doesn't come from nothing, it is deeply rooted in ideas of sequence of numbers, Faulhaber, and it here it seems tobe telling us that that the derivative is expressing a relationship between adjacent series from the Pascal matrix. There is some relationship between $S_4$ and $S_5$ that is being expressed here that we need to understand. \n",
    "\n",
    "It is also critical to understand that the derivative, we will find it to be similiar, to determinant, pervades across mathematics and expresses itself in different ways with all kinds of unexpected utilities that we will be difficult to grasp, and we need to be careful that we don't assume that "
   ]
  },
  {
   "cell_type": "markdown",
   "metadata": {},
   "source": [
    "So let's now proceed in a more formal manner and define the derivative. \n",
    "\n",
    "We will denote the derivative $D(p)$ of the polynomial $p(x)=a_0+a_1x+a_2 x^2+\\cdots +a_n x^n$ to be the polynomial \n",
    "\n",
    "$$D(p)(x) \\equiv a_1+2a_2 x+3a_3 x^2+\\cdots +n a_n x^{n-1},$$ \n",
    "\n",
    "We will so posit that $D$ is lienar , in the sense that if $p$ and $q$ are polynomials then \n",
    "\n",
    "$$ D(p+q)=D(p)+D(q) $$ \n",
    "\n",
    "and if $c$ is a number then \n",
    "\n",
    "$$ D(cp)=cD(p).$$\n",
    "\n",
    "Let's provide some formal proof of this"
   ]
  },
  {
   "cell_type": "code",
   "execution_count": null,
   "metadata": {},
   "outputs": [],
   "source": []
  },
  {
   "cell_type": "markdown",
   "metadata": {},
   "source": [
    "<div style=\"background:gray; color:white; padding: 10px\">\n",
    "\n",
    "<h4>Proof 4.4.3</h4>\n",
    "<i>Proposition:</i><br/> The derivative, denoted $D(p)$, of the polynomial $p(x)=a_0+a_1x+a_2 x^2+\\cdots +a_n x^n$ to be the polynomial can be defined as as: \n",
    "\n",
    "$$D(p)(x) \\equiv a_1+2a_2 x+3a_3 x^2+\\cdots +n a_n x^{n-1},$$ \n",
    "\n",
    "Furthermore, $D(p)$ is linear. For polyomials $p$ and $q$, it must the case that: \n",
    "\n",
    "$$ D(p+q)=D(p)+D(q) $$ \n",
    "\n",
    "and \n",
    "\n",
    "$$ D(cp)=cD(p).$$ for any number $c$ \n",
    "\n",
    "\n",
    "<br/><i>Related name:</i><br/> Linearity of the Derivative\n",
    "<br/><b>Step x:</b>Let $x$,be an integer\n",
    "<br/><b>Step x:</b> Let $p(x)$ be a polynomial in $x$ denoated as:\n",
    "$$a_0+a_1 x+ a_2 x^2+ \\cdots +a_n x^n$$\n",
    "<br/><b>Step x:</b>Let $q(x)$ be a polynomial:  \n",
    "$$b_0+b_1 x+ b_2 x^2+ \\cdots +b_n x^n$$\n",
    "<br/><b>Step x:</b> Define $$D(p)(x)= a_1+2a_2 x+3a_3 x^2+\\cdots +n a_n x^{n-1} \\\\D(q)(x)= b_1+2b_2 x+3b_3 x^2+\\cdots +n b_n x^{n-1}$$  <br/>\n",
    " \n",
    "<br/><i>Ref. 1:</i> WHere $c_j$ are some rational numbers, which do not influlence the proof.\n",
    "\n",
    "\n",
    "</div>"
   ]
  },
  {
   "cell_type": "code",
   "execution_count": null,
   "metadata": {},
   "outputs": [],
   "source": []
  },
  {
   "cell_type": "markdown",
   "metadata": {},
   "source": [
    " $$D(p)(x)= a_1+2a_2 x+3a_3 x^2+\\cdots +n a_n x^{n-1} \\\\D(q)(x)= b_1+2b_2 x+3b_3 x^2+\\cdots +n b_n x^{n-1}$$ "
   ]
  },
  {
   "cell_type": "markdown",
   "metadata": {},
   "source": [
    "NOtes\n",
    "\n",
    "Faulhaber polynomicals and Bernoulli numbers....introduce the idea of algebraic derivative and algebraic integral...\n",
    "\n",
    "Looking of consec integers raised to k\n",
    "\n",
    "Gives us a polynomial n, Faulhaber....we can also think of faulhaber\n",
    "\n",
    "deriva - navigate between successive sums of powers... "
   ]
  }
 ],
 "metadata": {
  "kernelspec": {
   "display_name": "SageMath 9.0",
   "language": "sage",
   "name": "sagemath"
  },
  "language_info": {
   "codemirror_mode": {
    "name": "ipython",
    "version": 3
   },
   "file_extension": ".py",
   "mimetype": "text/x-python",
   "name": "python",
   "nbconvert_exporter": "python",
   "pygments_lexer": "ipython3",
   "version": "3.7.3"
  }
 },
 "nbformat": 4,
 "nbformat_minor": 4
}
