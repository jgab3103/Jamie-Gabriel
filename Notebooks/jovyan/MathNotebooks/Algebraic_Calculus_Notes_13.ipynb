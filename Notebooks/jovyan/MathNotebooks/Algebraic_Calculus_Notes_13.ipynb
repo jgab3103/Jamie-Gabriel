{
 "cells": [
  {
   "cell_type": "code",
   "execution_count": 1,
   "metadata": {},
   "outputs": [],
   "source": [
    "import numpy as np\n",
    "import sympy as sp\n",
    "import shared_functions as sf\n",
    "from IPython.display import HTML\n",
    "import matplotlib.pyplot as plt\n",
    "import ipywidgets as widgets"
   ]
  },
  {
   "cell_type": "markdown",
   "metadata": {},
   "source": [
    "In the last notebook, we did some recap of basics around polynomials and linear Algebra both powerful technologies that will extend an understanding of Algebraic Calculus by introducing the Algebraic Derivative. Now we are going to turn back to the work of Falhaaber, and arrive at what the notion of derivative that precieded . What is exciting is that we won't come to the derivative in visual way, geomtric, but purely agebraic. \n",
    "\n",
    "We are going to move through some observations, remarkable\n",
    "\n",
    "We have alsread seen that Johann Faulhaber in 1631 whowed that $S_k(n)=\\sum_{i=1}^n i^k$ for k = 1 to 17. \n",
    "\n",
    "However Faulhaber also noted that if we introduce: \n",
    "\n",
    "$$   N=S_1(n)=\\sum_{i=1}^n i $$\n",
    "\n",
    "then the subsequence of odd powers are expressible as polynomials in N, at least up to k = 17. We are eseentially looknig at  new\n",
    "\n",
    "Let's start with an example and recap from before how the following. Recall that we could create\n",
    "\n",
    "$$  S_5(n)=\\sum_{i=1}^n i^5=-\\frac {1}{12} n^2 +\\frac {5}{12} n^4+\\frac 12 n^5+\\frac 16 n^6 $$ \n",
    "\n",
    "It is possible to expres this in terms of some value $N$, where: \n",
    "\n",
    "$$ N=\\frac {n(n+1)}{2} $$"
   ]
  },
  {
   "cell_type": "markdown",
   "metadata": {},
   "source": [
    "Can it expressed as: \n",
    "$$  S_5=\\frac {4N^3-N^2}{3}. $$\n",
    "\n",
    "We can approach this problem in 2 ways. Either we can createa  value for N in terms of N and then prove that it equals: \n",
    "\n",
    "Let's start by making some observations: "
   ]
  },
  {
   "cell_type": "code",
   "execution_count": 94,
   "metadata": {},
   "outputs": [
    {
     "data": {
      "text/latex": [
       "$\\displaystyle \\frac{n \\left(n + 1\\right)}{2}$"
      ],
      "text/plain": [
       "n*(n + 1)/2"
      ]
     },
     "execution_count": 94,
     "metadata": {},
     "output_type": "execute_result"
    }
   ],
   "source": [
    "n = sp.symbols('n')\n",
    "N = (n * (n + 1)) / 2\n",
    "N"
   ]
  },
  {
   "cell_type": "markdown",
   "metadata": {},
   "source": [
    "We then subsitute in and expand and find it works: "
   ]
  },
  {
   "cell_type": "code",
   "execution_count": 95,
   "metadata": {},
   "outputs": [
    {
     "data": {
      "text/html": [
       "<html><script type=\"math/tex; mode=display\">\\newcommand{\\Bold}[1]{\\mathbf{#1}}\\frac{1}{6} \\, n^{6} + \\frac{1}{2} \\, n^{5} + \\frac{5}{12} \\, n^{4} - \\frac{1}{12} \\, n^{2}</script></html>"
      ],
      "text/plain": [
       "1/6*n^6 + 1/2*n^5 + 5/12*n^4 - 1/12*n^2"
      ]
     },
     "metadata": {},
     "output_type": "display_data"
    }
   ],
   "source": [
    "s = (4 * N**3 - N**2) / 3\n",
    "show(s.expand())"
   ]
  },
  {
   "cell_type": "markdown",
   "metadata": {},
   "source": [
    "Alternatively, we could solve $   N=S_1(n)=\\sum_{i=1}^n i $ for $n$ and then subsitute in: \n"
   ]
  },
  {
   "cell_type": "code",
   "execution_count": 54,
   "metadata": {},
   "outputs": [],
   "source": [
    "N, n = sp.symbols('N, n')"
   ]
  },
  {
   "cell_type": "code",
   "execution_count": 57,
   "metadata": {},
   "outputs": [
    {
     "data": {
      "text/latex": [
       "$\\displaystyle - \\frac{\\sqrt{8 N + 1}}{2} - \\frac{1}{2}$"
      ],
      "text/plain": [
       "-sqrt(8*N + 1)/2 - 1/2"
      ]
     },
     "execution_count": 57,
     "metadata": {},
     "output_type": "execute_result"
    }
   ],
   "source": [
    "e1 = sp.Eq(N, (n * (n + 1)) / 2)\n",
    "e2 = sp.solve(e, n)\n",
    "e2[0]"
   ]
  },
  {
   "cell_type": "code",
   "execution_count": 58,
   "metadata": {},
   "outputs": [
    {
     "data": {
      "text/latex": [
       "$\\displaystyle \\frac{\\sqrt{8 N + 1}}{2} - \\frac{1}{2}$"
      ],
      "text/plain": [
       "sqrt(8*N + 1)/2 - 1/2"
      ]
     },
     "execution_count": 58,
     "metadata": {},
     "output_type": "execute_result"
    }
   ],
   "source": [
    "e2[1]"
   ]
  },
  {
   "cell_type": "markdown",
   "metadata": {},
   "source": [
    "This gives us two answers, though they are both roots of zero. We can. If we take the first one and subsitute in we get somethign that looks a little complicated"
   ]
  },
  {
   "cell_type": "code",
   "execution_count": 96,
   "metadata": {},
   "outputs": [
    {
     "data": {
      "text/html": [
       "<html><script type=\"math/tex; mode=display\">\\newcommand{\\Bold}[1]{\\mathbf{#1}}\\frac{1}{384} \\, {\\left(\\sqrt{8 \\, N + 1} + 1\\right)}^{6} - \\frac{1}{64} \\, {\\left(\\sqrt{8 \\, N + 1} + 1\\right)}^{5} + \\frac{5}{192} \\, {\\left(\\sqrt{8 \\, N + 1} + 1\\right)}^{4} - \\frac{1}{48} \\, {\\left(\\sqrt{8 \\, N + 1} + 1\\right)}^{2}</script></html>"
      ],
      "text/plain": [
       "1/384*(sqrt(8*N + 1) + 1)^6 - 1/64*(sqrt(8*N + 1) + 1)^5 + 5/192*(sqrt(8*N + 1) + 1)^4 - 1/48*(sqrt(8*N + 1) + 1)^2"
      ]
     },
     "metadata": {},
     "output_type": "display_data"
    }
   ],
   "source": [
    "S5 = -1/12 * n**2 + 5/12*n**4 + 1/2*n**5 + 1/6 * n**6\n",
    "show(S5.subs(n= e2[0]))"
   ]
  },
  {
   "cell_type": "markdown",
   "metadata": {},
   "source": [
    "But when we expand we get: "
   ]
  },
  {
   "cell_type": "code",
   "execution_count": 97,
   "metadata": {},
   "outputs": [
    {
     "data": {
      "text/html": [
       "<html><script type=\"math/tex; mode=display\">\\newcommand{\\Bold}[1]{\\mathbf{#1}}\\frac{4}{3} \\, N^{3} - \\frac{1}{3} \\, N^{2}</script></html>"
      ],
      "text/plain": [
       "4/3*N^3 - 1/3*N^2"
      ]
     },
     "metadata": {},
     "output_type": "display_data"
    }
   ],
   "source": [
    "show(S5.subs(n= e2[0]).expand())"
   ]
  },
  {
   "cell_type": "markdown",
   "metadata": {},
   "source": [
    "And, pleasently, when we expand the other answer we get this as well:"
   ]
  },
  {
   "cell_type": "code",
   "execution_count": 99,
   "metadata": {},
   "outputs": [
    {
     "data": {
      "text/html": [
       "<html><script type=\"math/tex; mode=display\">\\newcommand{\\Bold}[1]{\\mathbf{#1}}\\frac{4}{3} \\, N^{3} - \\frac{1}{3} \\, N^{2}</script></html>"
      ],
      "text/plain": [
       "4/3*N^3 - 1/3*N^2"
      ]
     },
     "metadata": {},
     "output_type": "display_data"
    }
   ],
   "source": [
    "show(S5.subs(n= e2[1]).expand())"
   ]
  },
  {
   "cell_type": "markdown",
   "metadata": {},
   "source": [
    "<div style=\"background:#99ddff; color:black; padding: 10px\">\n",
    "<b>Add to these notes:</b>\n",
    "    \n",
    "There are issues between Sympy and Sage. A great way to explore both libraries, is figure out if dealing with Sage or Python, and create a tutorial for it\n",
    "    \n",
    "</div>"
   ]
  },
  {
   "cell_type": "markdown",
   "metadata": {},
   "source": [
    "What about $S_4$? Recall that is is the following: \n"
   ]
  },
  {
   "cell_type": "code",
   "execution_count": 109,
   "metadata": {},
   "outputs": [
    {
     "data": {
      "text/html": [
       "<html><script type=\"math/tex; mode=display\">\\newcommand{\\Bold}[1]{\\mathbf{#1}}\\frac{1}{5} \\, n^{5} + \\frac{1}{2} \\, n^{4} + \\frac{1}{3} \\, n^{3} - \\frac{1}{30} \\, n</script></html>"
      ],
      "text/plain": [
       "1/5*n^5 + 1/2*n^4 + 1/3*n^3 - 1/30*n"
      ]
     },
     "metadata": {},
     "output_type": "display_data"
    }
   ],
   "source": [
    "n = sp.symbols('n')\n",
    "S4 = (-1/30 * n + 1/3 * n**3 + 1/2 * n**4 + 1/5 * n**5)\n",
    "show(S4)"
   ]
  },
  {
   "cell_type": "markdown",
   "metadata": {},
   "source": [
    "Again, let's suppose there is a value $N$, such that $N=\\frac {n(n+1)}{2}$. Observe that we can write this in terms of $n$ and $N$ \n",
    "\n",
    "$$ S_4=\\left(\\frac {n+\\frac 12}{5}\\right) \\left (4N^2-\\frac {2}{3}N\\right ). $$"
   ]
  },
  {
   "cell_type": "code",
   "execution_count": 103,
   "metadata": {},
   "outputs": [
    {
     "data": {
      "text/latex": [
       "$\\displaystyle \\frac{n \\left(n + 1\\right)}{2}$"
      ],
      "text/plain": [
       "n*(n + 1)/2"
      ]
     },
     "execution_count": 103,
     "metadata": {},
     "output_type": "execute_result"
    }
   ],
   "source": [
    "N = (n * (n + 1)) / 2\n",
    "N"
   ]
  },
  {
   "cell_type": "markdown",
   "metadata": {},
   "source": [
    "HOw about we use this value: "
   ]
  },
  {
   "cell_type": "code",
   "execution_count": 104,
   "metadata": {},
   "outputs": [
    {
     "data": {
      "text/latex": [
       "$\\displaystyle \\left(\\frac{n}{5} + \\frac{1}{10}\\right) \\left(n^{2} \\left(n + 1\\right)^{2} - \\frac{n \\left(n + 1\\right)}{3}\\right)$"
      ],
      "text/plain": [
       "(n/5 + 1/10)*(n**2*(n + 1)**2 - n*(n + 1)/3)"
      ]
     },
     "execution_count": 104,
     "metadata": {},
     "output_type": "execute_result"
    }
   ],
   "source": [
    "e4 = (((n + 1/2) / 5) * (4 * N**2 - 2/3 * N))\n",
    "e4"
   ]
  },
  {
   "cell_type": "markdown",
   "metadata": {},
   "source": [
    "And now expand: "
   ]
  },
  {
   "cell_type": "code",
   "execution_count": 112,
   "metadata": {},
   "outputs": [
    {
     "data": {
      "text/latex": [
       "$\\displaystyle \\frac{n^{5}}{5} + \\frac{n^{4}}{2} + \\frac{n^{3}}{3} - \\frac{n}{30}$"
      ],
      "text/plain": [
       "n**5/5 + n**4/2 + n**3/3 - n/30"
      ]
     },
     "execution_count": 112,
     "metadata": {},
     "output_type": "execute_result"
    }
   ],
   "source": [
    "e4.expand()"
   ]
  },
  {
   "cell_type": "markdown",
   "metadata": {},
   "source": [
    "So that is $S_4$ with a value of N. Recall it is exacly the same as our original value of $S_4$"
   ]
  },
  {
   "cell_type": "code",
   "execution_count": 115,
   "metadata": {},
   "outputs": [
    {
     "data": {
      "text/html": [
       "<html><script type=\"math/tex; mode=display\">\\newcommand{\\Bold}[1]{\\mathbf{#1}}\\frac{1}{5} \\, n^{5} + \\frac{1}{2} \\, n^{4} + \\frac{1}{3} \\, n^{3} - \\frac{1}{30} \\, n</script></html>"
      ],
      "text/plain": [
       "1/5*n^5 + 1/2*n^4 + 1/3*n^3 - 1/30*n"
      ]
     },
     "metadata": {},
     "output_type": "display_data"
    }
   ],
   "source": [
    "show(S4)"
   ]
  },
  {
   "cell_type": "markdown",
   "metadata": {},
   "source": [
    "Ok, now I am going to do something that probably feels really arbitrary. Let's multiply S4 by 5:"
   ]
  },
  {
   "cell_type": "code",
   "execution_count": 116,
   "metadata": {},
   "outputs": [
    {
     "data": {
      "text/html": [
       "<html><script type=\"math/tex; mode=display\">\\newcommand{\\Bold}[1]{\\mathbf{#1}}n^{5} + \\frac{5}{2} \\, n^{4} + \\frac{5}{3} \\, n^{3} - \\frac{1}{6} \\, n</script></html>"
      ],
      "text/plain": [
       "n^5 + 5/2*n^4 + 5/3*n^3 - 1/6*n"
      ]
     },
     "metadata": {},
     "output_type": "display_data"
    }
   ],
   "source": [
    "show((5 * S4).expand())"
   ]
  },
  {
   "cell_type": "code",
   "execution_count": 118,
   "metadata": {},
   "outputs": [
    {
     "data": {
      "text/html": [
       "<html><script type=\"math/tex; mode=display\">\\newcommand{\\Bold}[1]{\\mathbf{#1}}\\frac{1}{6} \\, n^{6} + \\frac{1}{2} \\, n^{5} + \\frac{5}{12} \\, n^{4} - \\frac{1}{12} \\, n^{2}</script></html>"
      ],
      "text/plain": [
       "1/6*n^6 + 1/2*n^5 + 5/12*n^4 - 1/12*n^2"
      ]
     },
     "metadata": {},
     "output_type": "display_data"
    }
   ],
   "source": [
    "show(S5)"
   ]
  },
  {
   "cell_type": "markdown",
   "metadata": {},
   "source": [
    "So we are making observations, and playing around really. Let's do something else "
   ]
  },
  {
   "cell_type": "code",
   "execution_count": 121,
   "metadata": {},
   "outputs": [
    {
     "data": {
      "text/html": [
       "<html><script type=\"math/tex; mode=display\">\\newcommand{\\Bold}[1]{\\mathbf{#1}}n^{5} + \\frac{5}{2} \\, n^{4} + \\frac{5}{3} \\, n^{3} - \\frac{1}{6} \\, n</script></html>"
      ],
      "text/plain": [
       "n^5 + 5/2*n^4 + 5/3*n^3 - 1/6*n"
      ]
     },
     "metadata": {},
     "output_type": "display_data"
    }
   ],
   "source": [
    "show(sp.diff(S5))"
   ]
  },
  {
   "cell_type": "markdown",
   "metadata": {},
   "source": [
    "So it appears that if I muliply $S_4$ by 5 I get the derivative of $S_5$. \n",
    "\n",
    "What are we to make of this? We have strated Faulhaber polynomials, and realised this that we can factor them in terms of this value $N$ and we have shown some factorisations. Then we have found there may be some kind or relationship between between adjancent power series and our traditional understanding of the derivantive"
   ]
  },
  {
   "cell_type": "markdown",
   "metadata": {},
   "source": [
    "<h4>Derivative and Integral</h4>"
   ]
  },
  {
   "cell_type": "markdown",
   "metadata": {},
   "source": [
    "So we heading towards this idea of a derivative, but at the moment we have a relationship to the sequence of numbers, that has come from our exploration of summing numbers. Let's finally introduce it more formal manner and define the <b>derivative</b> $D(p)$ of  the polynomial $p(x)=a_0+a_1x+a_2 x^2+\\cdots +a_n x^n$ to be  the polynomial \n",
    "\n",
    "$$D(p)(x) \\equiv a_1+2a_2 x+3a_3 x^2+\\cdots +n a_n x^{n-1},$$ \n",
    "\n",
    "We will so posit that $D$ is lienar , in the sense that if $p$ and $q$ are polynomials then \n",
    "\n",
    "$$ D(p+q)=D(p)+D(q) $$ \n",
    "\n",
    "and if $c$ is a number then \n",
    "\n",
    "$$ D(cp)=cD(p).$$"
   ]
  },
  {
   "cell_type": "code",
   "execution_count": null,
   "metadata": {},
   "outputs": [],
   "source": []
  },
  {
   "cell_type": "code",
   "execution_count": null,
   "metadata": {},
   "outputs": [],
   "source": []
  },
  {
   "cell_type": "markdown",
   "metadata": {},
   "source": [
    "<div style=\"background:gray; color:white; padding: 10px\">\n",
    "\n",
    "<h4>Proof 4.3.4 i</h4>\n",
    "<i>Proposition:</i><br/>If $p(x) \\equiv q(x) \\; (\\text{mod} \\, x^5)$ and $r(x) \\equiv s(x) \\; (\\text{mod} \\, x^5)$ then $(p+r)(x) \\equiv (q+s)(x) \\; (\\text{mod} \\, x^5).$\n",
    "\n",
    "\n",
    "\n",
    "<br/><i>Related name:</i><br/> Commutative property of polynomials $p(x)=a_0+a_1x+\\ldots+a_nx^n$\n",
    "\n",
    "<br/><b>Step x:</b> Let $n$ and $x$ be an integer \n",
    "<br/><b>Step x:</b> Let $a_0, a_1, a_2 \\ldots a_n$ be an integers\n",
    "<br/><b>Step x:</b> Let $b_0, b_1, b_2 \\ldots b_n$ be an on-sequence of integers\n",
    "<br/><b>Step x:</b> Let $p$ be a polynomial in $x$ denoted as $p(x)=a_0+a_1x+\\ldots+a_nx^n$\n",
    "<br/><b>Step x:</b> Let $r$ be a polynomial in $x$ denoted as $r(x)=b_0+b_1x+\\ldots+b_nx^n$  \n",
    "<br/><b>Step x:</b> Let $q$ be a polynomial in $x$ denoted as $q(x)=a_0+a_1x+a_2x^2+a_3x^3+a_4x^4$  \n",
    "<br/><b>Step x:</b> Let $s$ be a polynomial in $x$ denoted as $s(x)=b_0+b_1x+b_2x^2+b_3x^3+b_4x^4$  \n",
    "<br/><b>Step x:</b> Suppose that $a_j,\\,b_j$ are rational numbers for all j\n",
    "<br/><b>Step x:</b> Manipulate the \n",
    "$$ (p+r)(x)=(a_0+b_0)+(a_1+b_1)x+\\ldots+(a_n+b_n)x^n\\\\=(a_0+b_0)+(a_1+b_1)x+(a_2+b_2)x^2+(a_3+b_3)x^3+(a_4+b_4)x^4 \\; (\\text{mod} \\, x^5)=(q+s)(x) \\; (\\text{mod} \\, x^5).   $$\n",
    "\n",
    "<br/><i>Ref. 1:</i> WHere $c_j$ are some rational numbers, which do not influlence the proof.\n",
    "\n",
    "\n",
    "</div>"
   ]
  },
  {
   "cell_type": "code",
   "execution_count": null,
   "metadata": {},
   "outputs": [],
   "source": []
  },
  {
   "cell_type": "code",
   "execution_count": null,
   "metadata": {},
   "outputs": [],
   "source": []
  },
  {
   "cell_type": "markdown",
   "metadata": {},
   "source": [
    "NOtes\n",
    "\n",
    "Faulhaber polynomicals and Bernoulli numbers....introduce the idea of algebraic derivative and algebraic integral...\n",
    "\n",
    "Looking of consec integers raised to k\n",
    "\n",
    "Gives us a polynomial n, Faulhaber....we can also think of faulhaber\n",
    "\n",
    "deriva - navigate between successive sums of powers... "
   ]
  }
 ],
 "metadata": {
  "kernelspec": {
   "display_name": "SageMath 9.0",
   "language": "sage",
   "name": "sagemath"
  },
  "language_info": {
   "codemirror_mode": {
    "name": "ipython",
    "version": 3
   },
   "file_extension": ".py",
   "mimetype": "text/x-python",
   "name": "python",
   "nbconvert_exporter": "python",
   "pygments_lexer": "ipython3",
   "version": "3.7.3"
  }
 },
 "nbformat": 4,
 "nbformat_minor": 4
}
