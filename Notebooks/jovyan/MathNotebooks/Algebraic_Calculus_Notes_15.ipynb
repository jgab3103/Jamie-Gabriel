{
 "cells": [
  {
   "cell_type": "code",
   "execution_count": 2,
   "metadata": {},
   "outputs": [],
   "source": [
    "import numpy as np\n",
    "import sympy as sp\n",
    "import shared_functions as sf\n",
    "from IPython.display import HTML\n",
    "import matplotlib.pyplot as plt\n",
    "import ipywidgets as widgets"
   ]
  },
  {
   "cell_type": "markdown",
   "metadata": {},
   "source": [
    "Previously we introduced the conic section and a way of looking at multiple structures hyperbolas, circle, ellipse, parabola, a general general structure created in Affine Space. \n",
    "\n",
    "In the spirit of exploring different types of constrcuts, we also ventured beyond Affine space into cartesian space, looking at an alternate way to cosntruct, through the idea of focus and directrix. At the same time we looked at the relationship between the focus and directerix finding that depending on whether it was greater than 1, 1 or less than 1 indicated.\n",
    "\n",
    "We were quiet relaxed in the last section around utilising a visual intuition where it suited us. It is powerful strategy to leverage off the interactions we encounter. But at the same, it is important to keep in mind that we need to be algebraic and rely on manipulation. So in this section we will introduce soe more formality around this. \n",
    "\n",
    "Let's start with 2 formal proofs around quadrances and conics. The first provides a formal proof of the definition from the last section, $ Q(P,\\ell)=\\frac {(c+ar+bs)^2}{a^2+b^2}$:"
   ]
  },
  {
   "cell_type": "markdown",
   "metadata": {},
   "source": [
    "<div style=\"background:gray; color:white; padding: 10px\">\n",
    "    <h4>Proof 5.1.8</h4>\n",
    "    <i>Proposition:</i><br/> \n",
    "    If P=[r,s] is a point and ℓ=(c:a:b) is the line with equation c+ax+by=0 then the quadrance between P and ℓ is \n",
    "    $$ Q(P,\\ell)=\\frac {(c+ar+bs)^2}{a^2+b^2}. $$\n",
    "    <br/><i>Proof:</i>\n",
    "    <br/><b>Step x:</b> Let $a, b, x, y, d, r$ and $s$ be integers\n",
    "    <br/><b>Step x:</b> Let $P, R, m$ and $l$ be labels\n",
    "    <br/><b>Step x: </b> Let $m$ be a line in standard form on the Cartesian Plane, denoted as $m: -bx + ay + d = 0$\n",
    "    <br/><b>Step x: </b> Let $l$ be a line on the Cartesian Plane and suppose it is perpendicular to $l$ \n",
    "    <br/><b>Step x: </b> Note that $l$ and $m$ will be perpendicular for any value of $d$\n",
    "    <br/><b>Step x: </b> Let $P = [r, s]$ be a point on the Cartesian Plane constructed from the integers $r$ and $s$ \n",
    "    <br/><b>Step x: </b> Suppose that P is incident to both $m$ and $l$\n",
    "    <br/><b>Step x: </b> Note that as P is incident to $m$, it follows that $d = br - as$ for some value d\n",
    "    <br/><b>Step x: </b> Through algebraic subsitution, the Cartesian Line $m$ can be denoted as $m = (br - as: -b: a)$ as a line projective form\n",
    "    <br/><b>Step x: </b> Let R be the meet of $l$ and $m$, denoted as: (Ref. 1)\n",
    "    $$ R=\\ell\\times m=[a^2+b^2:b^2r-abs-ac:-bc-abr+a^2s]. $$\n",
    "    <br/><b>Step x: </b> Through Algebraic manipulation: (Ref. 2) \n",
    "    $$Q(P,\\ell)=Q(P,R)=\\frac{(b^2r-abs-ac-ra^2-rb^2)^2+(-bc-abr+a^2s-sa^2-sb^2)^2}{(a^2+b^2)^2}\\\\=\\frac{a^2(c+ar+bs)^2+b^2(c+ar+bs)^2}{(a^2+b^2)^2}=\\frac{(a^2+b^2)(c+ar+bs)^2}{(a^2+b^2)^2}\\\\=\\frac{(c+ar+bs)^2}{a^2+b^2}.$$ \n",
    "    <br/><i>Related name:</i><br/> Quadrance between a point and a line \n",
    "    <br/><i>References</i>\n",
    "    <br/><i>Ref. 1:</i> Recall that Meet of any two lines, $e$ and $f$ can be defined as $e \\times f$\n",
    "        <br/><i>Ref. 1:</i> Recall Q(A, B) the calculation of quadrance \n",
    "    \n",
    "\n",
    "\n",
    "</div>"
   ]
  },
  {
   "cell_type": "markdown",
   "metadata": {},
   "source": [
    "THe next proof is very simple, simply going to substitute the values of points in for a given line:"
   ]
  },
  {
   "cell_type": "markdown",
   "metadata": {},
   "source": [
    "<div style=\"background:gray; color:white; padding: 10px\">\n",
    "    <h4>Proof 5.1.9</h4>\n",
    "    <i>Proposition:</i><br/> \n",
    "    For a given conic where $F = [r, s]$ is the focus and the fixed line $l = (c:a:b)$ the directrix with equation $c + ax + by = 0$, the equation of the conic is: \n",
    "    $$(x-r)^2+(y-s)^2=E\\frac {(ax+by+c)^2}{a^2+b^2}.$$\n",
    "    <br/><i>Proof:</i>\n",
    "    <br/><b>Step x:</b> Let $r, s, x, y, a, b$ and $c$ be integers\n",
    "    <br/><b>Step x: </b> Let $S$ be a conic\n",
    "    <br/><b>Step x: </b> Let $P = [x,y]$ be any point incident to the conic\n",
    "    <br/><b>Step x: </b> Through algebraic manipulation: (Ref 1.) \n",
    "    $$  (x-r)^2+(y-s)^2=E\\frac {(ax+by+c)^2}{a^2+b^2}. $$\n",
    "    <br/><i>Related name:</i><br/> Quadrance between a point and a line \n",
    "    <br/><i>References</i>\n",
    "    <br/><i>Ref. 1:</i> Recall that quadratic eccentricity can be defined as $E=\\frac{Q(P,F)}{Q(P,\\ell)}$\n",
    "\n",
    "\n",
    "</div>"
   ]
  },
  {
   "cell_type": "markdown",
   "metadata": {},
   "source": [
    "<b>A general equation for a conic</b>\n",
    "\n",
    "So we now have an alternate way of coming up with an eqation of a conic. But at the same time we need to be able to reconcile it to a few things: \n",
    "\n",
    "Recall our general equation for circle, as \n",
    "\n",
    "$$x^2 + y^2 - K = 0 $$.\n",
    "\n",
    "This structure probably seems very familiary, often turns up in $x^2 + y^2 = 1$ being a unit circle you have probably encountered\n",
    "\n",
    "But now that we have this new structure of the conic this didn't tell the whole storyow there are certainly different ways we could think of thi equation. General equation for a conic is \n",
    "\n",
    "$$ Ax^2+2Bxy+Cy^2+2Dx+2Fy+G=0 $$\n",
    "\n",
    "So in the case of a circllee we are seeing this: \n",
    "\n",
    "$$ Ax^2+ 0xy+Cy^2+ 0x+0y+G=0 $$\n",
    "\n",
    "We are not arbirarity create this eqation. Let's instead derive it from the proof we have just completed, which proposes that the equation of a conic is: \n",
    "\n",
    " $$(x-r)^2+(y-s)^2=E\\frac {(ax+by+c)^2}{a^2+b^2}.$$\n",
    " \n",
    " Let's start by creating that in Python"
   ]
  },
  {
   "cell_type": "code",
   "execution_count": 140,
   "metadata": {},
   "outputs": [
    {
     "data": {
      "text/html": [
       "<html><script type=\"math/tex; mode=display\">\\newcommand{\\Bold}[1]{\\mathbf{#1}}-\\frac{{\\left(a x + b y + c\\right)}^{2} E}{a^{2} + b^{2}} + {\\left(r - x\\right)}^{2} + {\\left(s - y\\right)}^{2} = 0</script></html>"
      ],
      "text/plain": [
       "-(a*x + b*y + c)^2*E/(a^2 + b^2) + (r - x)^2 + (s - y)^2 == 0"
      ]
     },
     "metadata": {},
     "output_type": "display_data"
    }
   ],
   "source": [
    "x, y, r, s, a, b, c, A, B, C, D, E, F, G= var('x, y, r, s, a, b, c, A, B, C, D, E, F, G')\n",
    "lhs = (x - r)**2 + (y - s)**2\n",
    "rhs = E * ((a * x + b * y + c)**2 / (a**2 + b**2))\n",
    "e1 = lhs == rhs\n",
    "e2 = e1.lhs() - e1.rhs() == 0\n",
    "show(e2)"
   ]
  },
  {
   "cell_type": "markdown",
   "metadata": {},
   "source": [
    "Right now it bears little resemblance to the general equation of $ Ax^2+2Bxy+Cy^2+2Dx+2Fy+G=0 $, so let's see if we can get it into that form: "
   ]
  },
  {
   "cell_type": "code",
   "execution_count": 142,
   "metadata": {},
   "outputs": [
    {
     "data": {
      "text/html": [
       "<html><script type=\"math/tex; mode=display\">\\newcommand{\\Bold}[1]{\\mathbf{#1}}-E a^{2} x^{2} - 2 \\, E a b x y - E b^{2} y^{2} + a^{2} r^{2} + b^{2} r^{2} + a^{2} s^{2} + b^{2} s^{2} - 2 \\, E a c x - 2 \\, a^{2} r x - 2 \\, b^{2} r x + a^{2} x^{2} + b^{2} x^{2} - 2 \\, E b c y - 2 \\, a^{2} s y - 2 \\, b^{2} s y + a^{2} y^{2} + b^{2} y^{2} - E c^{2} = 0</script></html>"
      ],
      "text/plain": [
       "-E*a^2*x^2 - 2*E*a*b*x*y - E*b^2*y^2 + a^2*r^2 + b^2*r^2 + a^2*s^2 + b^2*s^2 - 2*E*a*c*x - 2*a^2*r*x - 2*b^2*r*x + a^2*x^2 + b^2*x^2 - 2*E*b*c*y - 2*a^2*s*y - 2*b^2*s*y + a^2*y^2 + b^2*y^2 - E*c^2 == 0"
      ]
     },
     "metadata": {},
     "output_type": "display_data"
    }
   ],
   "source": [
    "e3 = e2.expand()\n",
    "e4 = (e3 * (a**2 + b**2)).factor()\n",
    "show(e4)"
   ]
  },
  {
   "cell_type": "markdown",
   "metadata": {},
   "source": [
    "We have expandined evertying, and multiply both sides by $a^2 + b^2$, so its getting a little closer. At this stage we can start collecting values of $x^2, y^2, xy, x$ and $y$. Let's do this for for $x^2$ and $y^2$. Note that we will have to do this is in a little bit of a hacky way. "
   ]
  },
  {
   "cell_type": "code",
   "execution_count": 175,
   "metadata": {},
   "outputs": [
    {
     "data": {
      "text/html": [
       "<html><script type=\"math/tex; mode=display\">\\newcommand{\\Bold}[1]{\\mathbf{#1}}a^{2} r^{2} + b^{2} r^{2} + a^{2} s^{2} + b^{2} s^{2} - E c^{2} - {\\left(E a^{2} - a^{2} - b^{2}\\right)} x^{2} - {\\left(E b^{2} - a^{2} - b^{2}\\right)} y^{2} - {\\left(E a c + a^{2} r + b^{2} r\\right)} x - 2 \\, {\\left(E b c + a^{2} s + b^{2} s\\right)} y = a^{2} r^{2} + b^{2} r^{2} + a^{2} s^{2} + b^{2} s^{2} - 2 \\, E b c y - 2 \\, a^{2} s y - 2 \\, b^{2} s y - E c^{2} - {\\left(E a^{2} - a^{2} - b^{2}\\right)} x^{2} - {\\left(E b^{2} - a^{2} - b^{2}\\right)} y^{2} - {\\left(E a c + a^{2} r + b^{2} r\\right)} x</script></html>"
      ],
      "text/plain": [
       "a^2*r^2 + b^2*r^2 + a^2*s^2 + b^2*s^2 - E*c^2 - (E*a^2 - a^2 - b^2)*x^2 - (E*b^2 - a^2 - b^2)*y^2 - (E*a*c + a^2*r + b^2*r)*x - 2*(E*b*c + a^2*s + b^2*s)*y == a^2*r^2 + b^2*r^2 + a^2*s^2 + b^2*s^2 - 2*E*b*c*y - 2*a^2*s*y - 2*b^2*s*y - E*c^2 - (E*a^2 - a^2 - b^2)*x^2 - (E*b^2 - a^2 - b^2)*y^2 - (E*a*c + a^2*r + b^2*r)*x"
      ]
     },
     "metadata": {},
     "output_type": "display_data"
    }
   ],
   "source": [
    "e5 = e4.lhs().collect(y**2) == e4.rhs()\n",
    "e6 = e5.lhs().collect(x**2) == e5.rhs()\n",
    "e7 = e6 + 2 * E * a * b * x * y\n",
    "e8 = e7.lhs().collect(x) == e7.rhs()\n",
    "e9 = e8 + x * (E * a * c + a^2*r + b**2 * r)\n",
    "e10 = e9.lhs().collect(y) == e9.lhs()\n",
    "show(e10)"
   ]
  },
  {
   "cell_type": "markdown",
   "metadata": {},
   "source": [
    "It easy by hand at this stage to see that we can do this, collect for the other values, and we do we end up with:\n",
    "\n",
    "$$ A=a^2+b^2-Ea^2,\\quad \\\\ \n",
    "B=-Eab,\\quad  \\\\ \n",
    "C=a^2+b^2-Eb^2. \\\\\n",
    "D = -Eac = a^2r + b^2r \\\\\n",
    "E = ?? $$"
   ]
  },
  {
   "cell_type": "markdown",
   "metadata": {},
   "source": [
    "So its important to note I haven't done anything complicated here. I have simply taken an existing equation, put into the form of an equation for a general conic. THis tels me that a directrix and focus create a conic of some kind,and this conic will have a relationship to quadratic eccentrcity. I can then put this whole structure into. \n",
    "\n",
    "Now let's go further than this, we have values for A, B and C, which are the coefficients of the equations for general conic. Let's now use our new values of this in anotehr setting and take the determinant using A, B and C: "
   ]
  },
  {
   "cell_type": "code",
   "execution_count": 212,
   "metadata": {},
   "outputs": [],
   "source": [
    "a, b, E, b = sp.symbols('a, b, E, b')"
   ]
  },
  {
   "cell_type": "code",
   "execution_count": 213,
   "metadata": {},
   "outputs": [],
   "source": [
    "A = a**2 + b **2 - E * a**2\n",
    "B = -E* a * b\n",
    "C = a**2 - b **2 - E * b**2"
   ]
  },
  {
   "cell_type": "code",
   "execution_count": 214,
   "metadata": {},
   "outputs": [
    {
     "data": {
      "text/latex": [
       "$\\displaystyle a^{4} \\left(1 - E\\right) + b^{4} \\left(- E - 1\\right)$"
      ],
      "text/plain": [
       "a**4*(1 - E) + b**4*(-E - 1)"
      ]
     },
     "execution_count": 214,
     "metadata": {},
     "output_type": "execute_result"
    }
   ],
   "source": [
    "e5 = sp.det(sp.Matrix([[A, B], [B, C]])).expand().collect([a, b])\n",
    "e5"
   ]
  },
  {
   "cell_type": "markdown",
   "metadata": {},
   "source": [
    "Now let's solve for E: "
   ]
  },
  {
   "cell_type": "code",
   "execution_count": 216,
   "metadata": {},
   "outputs": [
    {
     "data": {
      "text/latex": [
       "$\\displaystyle E = \\frac{a^{4} - b^{4}}{a^{4} + b^{4}}$"
      ],
      "text/plain": [
       "Eq(E, (a**4 - b**4)/(a**4 + b**4))"
      ]
     },
     "execution_count": 216,
     "metadata": {},
     "output_type": "execute_result"
    }
   ],
   "source": [
    "e6 = sp.Eq(e5, 0)\n",
    "e7 = sp.Eq(E, sp.solve(e6, E)[0])\n",
    "e7"
   ]
  },
  {
   "cell_type": "markdown",
   "metadata": {},
   "source": [
    "Now let's consider some different scenarios\n",
    "- E = 1\n",
    "- E < 1\n",
    "- E > 1\n",
    "\n",
    "When we substitute values of 1 for E we get the following: "
   ]
  },
  {
   "cell_type": "code",
   "execution_count": 224,
   "metadata": {},
   "outputs": [
    {
     "data": {
      "text/latex": [
       "$\\displaystyle a + b = a - b$"
      ],
      "text/plain": [
       "Eq(a + b, a - b)"
      ]
     },
     "execution_count": 224,
     "metadata": {},
     "output_type": "execute_result"
    }
   ],
   "source": [
    "e8 = sp.Eq(a + b, a - b)\n",
    "e8"
   ]
  },
  {
   "cell_type": "markdown",
   "metadata": {},
   "source": [
    "This provides a solution of 0. So if the Quadratic Eccentricity is 1, the determinant formed from A, B and C is 0. \n",
    "\n",
    "What about a value below 1?"
   ]
  },
  {
   "cell_type": "code",
   "execution_count": 231,
   "metadata": {},
   "outputs": [
    {
     "data": {
      "text/latex": [
       "$\\displaystyle 2 = \\frac{a^{4} - b^{4}}{a^{4} + b^{4}}$"
      ],
      "text/plain": [
       "Eq(2, (a**4 - b**4)/(a**4 + b**4))"
      ]
     },
     "execution_count": 231,
     "metadata": {},
     "output_type": "execute_result"
    }
   ],
   "source": [
    "e9 = sp.Eq(2, sp.solve(e6, E)[0])\n",
    "e9"
   ]
  },
  {
   "cell_type": "markdown",
   "metadata": {},
   "source": [
    "v. Using the result of iii and the fact that (a2+b2)2>0, we obtain the result.\n",
    "\n",
    "JG - finish these for other cases"
   ]
  },
  {
   "cell_type": "markdown",
   "metadata": {},
   "source": [
    "Before moving onto more general examples, let's look at another defintion:"
   ]
  },
  {
   "cell_type": "markdown",
   "metadata": {},
   "source": [
    "<div style=\"background:gray; color:white; padding: 10px\">\n",
    "    <h4>Definition 5.1.8</h4>\n",
    "    A conic is degenerate precisely when its equation can be factored into a product of two linear factors. THe conic \n",
    "    $$ Ax^2+2Bxy+Cy^2+2Dx+2Fy+G=0 $$\n",
    "  is degenerate precisely when\n",
    "    $$\\det\\left(\\begin{matrix}A& B& D\\\\ B&C&  F\\\\  D& F & G\\end{matrix} \\right)=0.$$\n",
    "    <br/><i>Related name:</i><br/>The degenerate case of a conic\n",
    "</div>"
   ]
  },
  {
   "cell_type": "markdown",
   "metadata": {},
   "source": [
    "We have seen as intuiation that when comes closer to the apoin, we can classify this is a degenerate example. And we can define this, but there is , so what we are saying is that these cases exist when the determinant of the coefficents is 0.\n",
    "\n",
    "So this is more than just a definition, and somthing that we should prove to be true. But interesting definition as it posits determinant of this coefficient equating to 0 means that it must the be case that this can be factored into product of 2 linear factors. Let's provide a proof for this: "
   ]
  },
  {
   "cell_type": "markdown",
   "metadata": {},
   "source": [
    "<div style=\"background:gray; color:white; padding: 10px\">\n",
    "    <h4>Proof 5.1.8</h4>\n",
    "    <i>Proposition:</i><br/> \n",
    "    A conic is degenerate precisely when its equation can be factored into a product of two linear factors. THe conic \n",
    "    $$ Ax^2+2Bxy+Cy^2+2Dx+2Fy+G=0 $$\n",
    "  is degenerate precisely when\n",
    "    $$\\det\\left(\\begin{matrix}A& B& D\\\\ B&C&  F\\\\  D& F & G\\end{matrix} \\right)=0.$$\n",
    "    <br/><i>Proof:</i>\n",
    "    <br/><b>Step x:</b> Let $A, B, C, D, F, G, x$ and $y$ be integers\n",
    "    <br/><b>Step x: </b> Suppose that $A \\ne 0$\n",
    "    <br/><b>Step x: </b> Let S be an equation $$Ax^2+2Bxy+Cy^2+2Dx+2Fy+G$$  constructed from integers  $A, B, C, D, F, G, x$ and $y$\n",
    "    <br/><b>Step x: </b> Algebraially manipulate S $$Ax^2+2(By+D)x+(Cy^2+2Fy+G)$$\n",
    "    <br/><b>Step x: Ref 1.) </b> Let R be the discriminant of $S$ denoted as: $$4(By+D)^2-4A(Cy^2+2Fy+G)$$\n",
    "     <br/><b>Step x: </b> Recall that it is possible factor a equation when the discriminant of this equation is a complete square (Ref. 1)\n",
    "    <br/><b>Step x: </b> Let $M$ be a quadradic equation in $y$, creaed from an algebraically manipulation to $L$:\n",
    "    $$(4B^2-4AC)y^2+2(4BD-4AF)y+4D^2-4AG$$\n",
    "    <br/><b>Step x: </b> Note that $M$ is complete square when: \n",
    "    $$4(4BD-4AF)^2-16(4B^2-4AC)(D^2-AG)=0$$\n",
    "    or\n",
    "    $$B^2D^2-2ABDF+A^2F^2-B^2D^2+AB^2G+ACD^2-A^2CG=0$$\n",
    "    or\n",
    "    $$-A(ACG+ 2BDF-D^2C-B^2G- AF^2)=0.$$\n",
    "    <br/><b>Step x: (Ref 2.) </b> If it is the case the $A = 0$, then: \n",
    "    $$ACG+2BDF-D^2C-B^2G- AF^2=\\det\\left(\\begin{matrix}A& B& D\\\\ B&C& F\\\\D&  F & G\\end{matrix} \\right)=0.$$\n",
    "    <br/><b>Step x: </b> Now suppose that $A = C = 0$ and $B \\ne 0$\n",
    "    <br/><b> Step x: </b> If $A = C = 0$ and $B \\ne 0$, it follows that $L$ is equivalent to $2Bxy+2Dx+2Fy+G=0.$\n",
    "    <br/><b> Step x: </b> Subsitute x=u+v and y=u−v, for the $L$ to create the equation: \n",
    "    $$ 2Bu^2-2Bv^2+2(D+F)u+2(D-F)v+G=0.$$\n",
    "    <br/><b>Step x: </b>Note that the latter equation can be factored precisely when the original equation is factorable. Using the result proved above for A≠0, we have that it is factorable precisely when\n",
    "    $$\\det\\left(\\begin{matrix}2B& 0& D+F\\\\ 0&-2B& D-F\\\\D+F&  D-F & G\\end{matrix} \\right)=0$$\n",
    "    or\n",
    "    $$-4B^2G+2B(D+F)^2-2B(D-F)^2=0$$\n",
    "    or\n",
    "    $$4(-B^2G+2BDF)=0.$$\n",
    "    <br/><b>Step x: </b>Note this holds precicely when\n",
    "    $$ \\det\\left(\\begin{matrix}0& B& D\\\\ B&0& F\\\\D&  F & G\\end{matrix} \\right)=0,$$\n",
    "    which is required condition for the original equation\n",
    "    <br/><i>Related name:</i><br/> Quadrance between a point and a line \n",
    "    <br/><i>References</i>\n",
    "    <br/><i>Ref. 1:</i> Recall that the discriminant is the part of the quadratic formula underneath the square root symbol: $b^2-4ac$. The discriminant tells us whether there are two solutions, one solution, or no solutions.\n",
    "    <br/><i>Ref. 2:</i> THis also holds fo the case where $C \\ne 0$\n",
    "\n",
    "</div>"
   ]
  },
  {
   "cell_type": "code",
   "execution_count": 234,
   "metadata": {},
   "outputs": [
    {
     "data": {
      "text/latex": [
       "$\\displaystyle - 4 y - 16$"
      ],
      "text/plain": [
       "-4*y - 16"
      ]
     },
     "execution_count": 234,
     "metadata": {},
     "output_type": "execute_result"
    }
   ],
   "source": [
    "sp.discriminant(x**2 + y + 4)"
   ]
  },
  {
   "cell_type": "markdown",
   "metadata": {},
   "source": [
    "Its a complex proof, but if offers us a powerful way of being able to take the coeffiencits and determine if a conic is degenerate of not - so far we have already done found a way to use information from the focus and directrix to understand quadratic eccentricity. We can now take this information to convert into this quadratric form and and use those coeffients to understand the types of conics. \n",
    "\n",
    "Further we can use the same matrix to do it."
   ]
  },
  {
   "cell_type": "code",
   "execution_count": null,
   "metadata": {},
   "outputs": [],
   "source": []
  },
  {
   "cell_type": "code",
   "execution_count": null,
   "metadata": {},
   "outputs": [],
   "source": []
  },
  {
   "cell_type": "code",
   "execution_count": null,
   "metadata": {},
   "outputs": [],
   "source": []
  },
  {
   "cell_type": "markdown",
   "metadata": {},
   "source": [
    "<div style=\"background:gray; color:white; padding: 10px\">\n",
    "    <h4>Proof 5.1.8</h4>\n",
    "    <i>Proposition:</i><br/> \n",
    "    If P=[r,s] is a point and ℓ=(c:a:b) is the line with equation c+ax+by=0 then the quadrance between P and ℓ is \n",
    "    $$ Q(P,\\ell)=\\frac {(c+ar+bs)^2}{a^2+b^2}. $$\n",
    "    <br/><i>Proof:</i>\n",
    "    <br/><b>Step x:</b> asdfasd\n",
    "    <br/><b>Step x: </b> asdfasdf\n",
    "    <br/><i>Related name:</i><br/> Quadrance between a point and a line \n",
    "    <br/><i>References</i>\n",
    "    <br/><i>Ref. 1:</i> The defining \n",
    "\n",
    "\n",
    "</div>"
   ]
  },
  {
   "cell_type": "code",
   "execution_count": null,
   "metadata": {},
   "outputs": [],
   "source": []
  }
 ],
 "metadata": {
  "kernelspec": {
   "display_name": "SageMath 9.0",
   "language": "sage",
   "name": "sagemath"
  },
  "language_info": {
   "codemirror_mode": {
    "name": "ipython",
    "version": 3
   },
   "file_extension": ".py",
   "mimetype": "text/x-python",
   "name": "python",
   "nbconvert_exporter": "python",
   "pygments_lexer": "ipython3",
   "version": "3.7.3"
  }
 },
 "nbformat": 4,
 "nbformat_minor": 4
}
