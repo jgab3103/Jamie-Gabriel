{
 "cells": [
  {
   "cell_type": "code",
   "execution_count": 2,
   "metadata": {},
   "outputs": [],
   "source": [
    "import numpy as np\n",
    "import sympy as sp\n",
    "import shared_functions as sf\n",
    "from IPython.display import HTML\n",
    "import matplotlib.pyplot as plt\n",
    "import ipywidgets as widgets"
   ]
  },
  {
   "cell_type": "markdown",
   "metadata": {},
   "source": [
    "In the last notebook we introduced the conic section and a way of looking at multiple structures hyperbolas, circle, ellipse, parabola, a general general structure created in Affine Space. \n",
    "\n",
    "In the spirit of exploring different types of constrcuts, we also ventured beyond Affine space into cartesian space, looking at an alternate way to cosntruct, through the idea of focus and directrix. At the same time we looked at the relationship between the focus and directerix finding that depending on whether it was greater than 1, 1 or less than 1 indicated.\n",
    "\n",
    "We were quiet relaxed in the last section around utilising a visual intuition where it suited us. It is powerful strategy to leverage off the interactions we encounter. But at the same, it is important to keep in mind that we need to be algebraic and rely on manipulation. So in this section we will introduce soe more formality around this. \n",
    "\n",
    "Let's start with 2 formal proofs around quadrances and conics. The first provides a formal proof of the definition from the last section, $ Q(P,\\ell)=\\frac {(c+ar+bs)^2}{a^2+b^2}$:"
   ]
  },
  {
   "cell_type": "markdown",
   "metadata": {},
   "source": [
    "<div style=\"background:gray; color:white; padding: 10px\">\n",
    "    <h4>Proof 5.1.8</h4>\n",
    "    <i>Proposition:</i><br/> \n",
    "    If P=[r,s] is a point and ℓ=(c:a:b) is the line with equation c+ax+by=0 then the quadrance between P and ℓ is \n",
    "    $$ Q(P,\\ell)=\\frac {(c+ar+bs)^2}{a^2+b^2}. $$\n",
    "    <br/><i>Proof:</i>\n",
    "    <br/><b>Step x:</b> Let $a, b, x, y, d, r$ and $s$ be integers\n",
    "    <br/><b>Step x:</b> Let $P, R, m$ and $l$ be labels\n",
    "    <br/><b>Step x: </b> Let $m$ be a line in standard form on the Cartesian Plane, denoted as $m: -bx + ay + d = 0$\n",
    "    <br/><b>Step x: </b> Let $l$ be a line on the Cartesian Plane and suppose it is perpendicular to $l$ \n",
    "    <br/><b>Step x: </b> Note that $l$ and $m$ will be perpendicular for any value of $d$\n",
    "    <br/><b>Step x: </b> Let $P = [r, s]$ be a point on the Cartesian Plane constructed from the integers $r$ and $s$ \n",
    "    <br/><b>Step x: </b> Suppose that P is incident to both $m$ and $l$\n",
    "    <br/><b>Step x: </b> Note that as P is incident to $m$, it follows that $d = br - as$ for some value d\n",
    "    <br/><b>Step x: </b> Through algebraic subsitution, the Cartesian Line $m$ can be denoted as $m = (br - as: -b: a)$ as a line projective form\n",
    "    <br/><b>Step x: </b> Let R be the meet of $l$ and $m$, denoted as: (Ref. 1)\n",
    "    $$ R=\\ell\\times m=[a^2+b^2:b^2r-abs-ac:-bc-abr+a^2s]. $$\n",
    "    <br/><b>Step x: </b> Through Algebraic manipulation: (Ref. 2) \n",
    "    $$Q(P,\\ell)=Q(P,R)=\\frac{(b^2r-abs-ac-ra^2-rb^2)^2+(-bc-abr+a^2s-sa^2-sb^2)^2}{(a^2+b^2)^2}\\\\=\\frac{a^2(c+ar+bs)^2+b^2(c+ar+bs)^2}{(a^2+b^2)^2}=\\frac{(a^2+b^2)(c+ar+bs)^2}{(a^2+b^2)^2}\\\\=\\frac{(c+ar+bs)^2}{a^2+b^2}.$$ \n",
    "    <br/><i>Related name:</i><br/> Quadrance between a point and a line \n",
    "    <br/><i>References</i>\n",
    "    <br/><i>Ref. 1:</i> Recall that Meet of any two lines, $e$ and $f$ can be defined as $e \\times f$\n",
    "        <br/><i>Ref. 1:</i> Recall Q(A, B) the calculation of quadrance \n",
    "    \n",
    "\n",
    "\n",
    "</div>"
   ]
  },
  {
   "cell_type": "markdown",
   "metadata": {},
   "source": [
    "THe next proof is very simple, simply going to substitute the values of points in for a given line:"
   ]
  },
  {
   "cell_type": "markdown",
   "metadata": {},
   "source": [
    "<div style=\"background:gray; color:white; padding: 10px\">\n",
    "    <h4>Proof 5.1.9</h4>\n",
    "    <i>Proposition:</i><br/> \n",
    "    For a given conic where $F = [r, s]$ is the focus and the fixed line $l = (c:a:b)$ the directrix with equation $c + ax + by = 0$, the equation of the conic is: \n",
    "    $$(x-r)^2+(y-s)^2=E\\frac {(ax+by+c)^2}{a^2+b^2}.$$\n",
    "    <br/><i>Proof:</i>\n",
    "    <br/><b>Step x:</b> Let $r, s, x, y, a, b$ and $c$ be integers\n",
    "    <br/><b>Step x: </b> Let $S$ be a conic\n",
    "    <br/><b>Step x: </b> Let $P = [x,y]$ be any point incident to the conic\n",
    "    <br/><b>Step x: </b> Through algebraic manipulation: (Ref 1.) \n",
    "    $$  (x-r)^2+(y-s)^2=E\\frac {(ax+by+c)^2}{a^2+b^2}. $$\n",
    "    <br/><i>Related name:</i><br/> Quadrance between a point and a line \n",
    "    <br/><i>References</i>\n",
    "    <br/><i>Ref. 1:</i> Recall that quadratic eccentricity can be defined as $E=\\frac{Q(P,F)}{Q(P,\\ell)}$\n",
    "\n",
    "\n",
    "</div>"
   ]
  },
  {
   "cell_type": "code",
   "execution_count": 69,
   "metadata": {},
   "outputs": [],
   "source": [
    "x, y, r, s, a, b, c, A, B, C, D, E, F, G= var('x, y, r, s, a, b, c, A, B, C, D, E, F, G')"
   ]
  },
  {
   "cell_type": "code",
   "execution_count": 74,
   "metadata": {},
   "outputs": [
    {
     "data": {
      "text/html": [
       "<html><script type=\"math/tex; mode=display\">\\newcommand{\\Bold}[1]{\\mathbf{#1}}{\\left(r - x\\right)}^{2} + {\\left(s - y\\right)}^{2} = \\frac{{\\left(a x + b y + c\\right)}^{2} E}{a^{2} + b^{2}}</script></html>"
      ],
      "text/plain": [
       "(r - x)^2 + (s - y)^2 == (a*x + b*y + c)^2*E/(a^2 + b^2)"
      ]
     },
     "metadata": {},
     "output_type": "display_data"
    }
   ],
   "source": [
    "lhs = (x - r)**2 + (y - s)**2\n",
    "rhs = E * ((a * x + b * y + c)**2 / (a**2 + b**2))\n",
    "e1 = lhs == rhs\n",
    "show(e1)"
   ]
  },
  {
   "cell_type": "code",
   "execution_count": 83,
   "metadata": {},
   "outputs": [],
   "source": [
    "e2 = e1.rhs() - e1.lhs()"
   ]
  },
  {
   "cell_type": "code",
   "execution_count": 84,
   "metadata": {},
   "outputs": [
    {
     "data": {
      "text/html": [
       "<html><script type=\"math/tex; mode=display\">\\newcommand{\\Bold}[1]{\\mathbf{#1}}\\frac{E a^{2} x^{2}}{a^{2} + b^{2}} + \\frac{2 \\, E a b x y}{a^{2} + b^{2}} + \\frac{E b^{2} y^{2}}{a^{2} + b^{2}} + \\frac{2 \\, E a c x}{a^{2} + b^{2}} + \\frac{2 \\, E b c y}{a^{2} + b^{2}} + \\frac{E c^{2}}{a^{2} + b^{2}} - r^{2} - s^{2} + 2 \\, r x - x^{2} + 2 \\, s y - y^{2}</script></html>"
      ],
      "text/plain": [
       "E*a^2*x^2/(a^2 + b^2) + 2*E*a*b*x*y/(a^2 + b^2) + E*b^2*y^2/(a^2 + b^2) + 2*E*a*c*x/(a^2 + b^2) + 2*E*b*c*y/(a^2 + b^2) + E*c^2/(a^2 + b^2) - r^2 - s^2 + 2*r*x - x^2 + 2*s*y - y^2"
      ]
     },
     "metadata": {},
     "output_type": "display_data"
    }
   ],
   "source": [
    "e3 = e2.expand()\n",
    "show(e3)\n"
   ]
  },
  {
   "cell_type": "markdown",
   "metadata": {},
   "source": [
    "Let's expand this:"
   ]
  },
  {
   "cell_type": "code",
   "execution_count": 91,
   "metadata": {},
   "outputs": [
    {
     "data": {
      "text/html": [
       "<html><script type=\"math/tex; mode=display\">\\newcommand{\\Bold}[1]{\\mathbf{#1}}E a^{2} x^{2} + 2 \\, E a b x y + E b^{2} y^{2} - a^{2} r^{2} - b^{2} r^{2} - a^{2} s^{2} - b^{2} s^{2} + 2 \\, E a c x + 2 \\, a^{2} r x + 2 \\, b^{2} r x - a^{2} x^{2} - b^{2} x^{2} + 2 \\, E b c y + 2 \\, a^{2} s y + 2 \\, b^{2} s y - a^{2} y^{2} - b^{2} y^{2} + E c^{2}</script></html>"
      ],
      "text/plain": [
       "E*a^2*x^2 + 2*E*a*b*x*y + E*b^2*y^2 - a^2*r^2 - b^2*r^2 - a^2*s^2 - b^2*s^2 + 2*E*a*c*x + 2*a^2*r*x + 2*b^2*r*x - a^2*x^2 - b^2*x^2 + 2*E*b*c*y + 2*a^2*s*y + 2*b^2*s*y - a^2*y^2 - b^2*y^2 + E*c^2"
      ]
     },
     "metadata": {},
     "output_type": "display_data"
    }
   ],
   "source": [
    "e4 = (e3 * (a**2 + b**2)).factor()\n",
    "show(e4)"
   ]
  },
  {
   "cell_type": "code",
   "execution_count": 109,
   "metadata": {},
   "outputs": [
    {
     "data": {
      "text/html": [
       "<html><script type=\"math/tex; mode=display\">\\newcommand{\\Bold}[1]{\\mathbf{#1}}-a^{2} r^{2} - b^{2} r^{2} - a^{2} s^{2} - b^{2} s^{2} + 2 \\, E b c y + 2 \\, a^{2} s y + 2 \\, b^{2} s y + E c^{2} + {\\left(E a^{2} - a^{2} - b^{2}\\right)} x^{2} + {\\left(E b^{2} - a^{2} - b^{2}\\right)} y^{2} + 2 \\, {\\left(E a b y + E a c + a^{2} r + b^{2} r\\right)} x</script></html>"
      ],
      "text/plain": [
       "-a^2*r^2 - b^2*r^2 - a^2*s^2 - b^2*s^2 + 2*E*b*c*y + 2*a^2*s*y + 2*b^2*s*y + E*c^2 + (E*a^2 - a^2 - b^2)*x^2 + (E*b^2 - a^2 - b^2)*y^2 + 2*(E*a*b*y + E*a*c + a^2*r + b^2*r)*x"
      ]
     },
     "metadata": {},
     "output_type": "display_data"
    }
   ],
   "source": [
    "e5 = e4.collect(y**2)\n",
    "e6 = e5.collect(x**2)\n",
    "e7 = e6.collect( x * y)\n",
    "e8 = e7.collect(x)\n",
    "\n",
    "show(e8)"
   ]
  },
  {
   "cell_type": "code",
   "execution_count": 67,
   "metadata": {},
   "outputs": [
    {
     "data": {
      "text/latex": [
       "$\\displaystyle - E a^{2} x^{2} - 2 E a b x y - 2 E a c x - E b^{2} y^{2} - 2 E b c y - E c^{2} + a^{2} r^{2} - 2 a^{2} r x + a^{2} s^{2} - 2 a^{2} s y + a^{2} x^{2} + a^{2} y^{2} + b^{2} r^{2} - 2 b^{2} r x + b^{2} s^{2} - 2 b^{2} s y + b^{2} x^{2} + b^{2} y^{2}$"
      ],
      "text/plain": [
       "-E*a**2*x**2 - 2*E*a*b*x*y - 2*E*a*c*x - E*b**2*y**2 - 2*E*b*c*y - E*c**2 + a**2*r**2 - 2*a**2*r*x + a**2*s**2 - 2*a**2*s*y + a**2*x**2 + a**2*y**2 + b**2*r**2 - 2*b**2*r*x + b**2*s**2 - 2*b**2*s*y + b**2*x**2 + b**2*y**2"
      ]
     },
     "execution_count": 67,
     "metadata": {},
     "output_type": "execute_result"
    }
   ],
   "source": [
    "### THIS does work\n",
    "\n",
    "-e4.factor(x**2)"
   ]
  },
  {
   "cell_type": "code",
   "execution_count": null,
   "metadata": {},
   "outputs": [],
   "source": []
  },
  {
   "cell_type": "code",
   "execution_count": null,
   "metadata": {},
   "outputs": [],
   "source": []
  },
  {
   "cell_type": "code",
   "execution_count": 34,
   "metadata": {},
   "outputs": [
    {
     "data": {
      "text/latex": [
       "$\\displaystyle r^{2} - 2 r x + 2 x^{2} - 2 x y + y^{2} = \\frac{E a^{2} x^{2}}{A} + \\frac{2 E a b x y}{A} + \\frac{2 E a c x}{A} + \\frac{E b^{2} y^{2}}{A} + \\frac{2 E b c y}{A} + \\frac{E c^{2}}{A}$"
      ],
      "text/plain": [
       "Eq(r**2 - 2*r*x + 2*x**2 - 2*x*y + y**2, E*a**2*x**2/A + 2*E*a*b*x*y/A + 2*E*a*c*x/A + E*b**2*y**2/A + 2*E*b*c*y/A + E*c**2/A)"
      ]
     },
     "execution_count": 34,
     "metadata": {},
     "output_type": "execute_result"
    }
   ],
   "source": [
    "e2 = e1.subs(a**2 + b**2, A)\n",
    "e2"
   ]
  },
  {
   "cell_type": "code",
   "execution_count": 35,
   "metadata": {},
   "outputs": [
    {
     "data": {
      "text/latex": [
       "$\\displaystyle r^{2} - 2 r x + 2 x^{2} - 2 x y + y^{2} = \\frac{E a^{2} x^{2}}{A} + \\frac{2 E a b x y}{A} + \\frac{2 E a c x}{A} + \\frac{E b^{2} y^{2}}{A} + \\frac{2 E b c y}{A} + \\frac{E c^{2}}{A}$"
      ],
      "text/plain": [
       "Eq(r**2 - 2*r*x + 2*x**2 - 2*x*y + y**2, E*a**2*x**2/A + 2*E*a*b*x*y/A + 2*E*a*c*x/A + E*b**2*y**2/A + 2*E*b*c*y/A + E*c**2/A)"
      ]
     },
     "execution_count": 35,
     "metadata": {},
     "output_type": "execute_result"
    }
   ],
   "source": [
    "e2.subs(-E*a*b, B)"
   ]
  },
  {
   "cell_type": "code",
   "execution_count": null,
   "metadata": {},
   "outputs": [],
   "source": []
  },
  {
   "cell_type": "code",
   "execution_count": 22,
   "metadata": {},
   "outputs": [
    {
     "data": {
      "text/latex": [
       "$\\displaystyle \\frac{E a^{2} x^{2}}{a^{2} + b^{2}} + \\frac{2 E a b x y}{a^{2} + b^{2}} + \\frac{2 E a c x}{a^{2} + b^{2}} + \\frac{E b^{2} y^{2}}{a^{2} + b^{2}} + \\frac{2 E b c y}{a^{2} + b^{2}} + \\frac{E c^{2}}{a^{2} + b^{2}} + \\frac{a^{2} r^{2}}{a^{2} + b^{2}} - \\frac{2 a^{2} r x}{a^{2} + b^{2}} + \\frac{2 a^{2} x^{2}}{a^{2} + b^{2}} - \\frac{2 a^{2} x y}{a^{2} + b^{2}} + \\frac{a^{2} y^{2}}{a^{2} + b^{2}} + \\frac{b^{2} r^{2}}{a^{2} + b^{2}} - \\frac{2 b^{2} r x}{a^{2} + b^{2}} + \\frac{2 b^{2} x^{2}}{a^{2} + b^{2}} - \\frac{2 b^{2} x y}{a^{2} + b^{2}} + \\frac{b^{2} y^{2}}{a^{2} + b^{2}}$"
      ],
      "text/plain": [
       "E*a**2*x**2/(a**2 + b**2) + 2*E*a*b*x*y/(a**2 + b**2) + 2*E*a*c*x/(a**2 + b**2) + E*b**2*y**2/(a**2 + b**2) + 2*E*b*c*y/(a**2 + b**2) + E*c**2/(a**2 + b**2) + a**2*r**2/(a**2 + b**2) - 2*a**2*r*x/(a**2 + b**2) + 2*a**2*x**2/(a**2 + b**2) - 2*a**2*x*y/(a**2 + b**2) + a**2*y**2/(a**2 + b**2) + b**2*r**2/(a**2 + b**2) - 2*b**2*r*x/(a**2 + b**2) + 2*b**2*x**2/(a**2 + b**2) - 2*b**2*x*y/(a**2 + b**2) + b**2*y**2/(a**2 + b**2)"
      ]
     },
     "execution_count": 22,
     "metadata": {},
     "output_type": "execute_result"
    }
   ],
   "source": [
    "e2 = e1.lhs + e1.rhs\n",
    "e2.simplify().expand()"
   ]
  },
  {
   "cell_type": "code",
   "execution_count": 17,
   "metadata": {},
   "outputs": [
    {
     "data": {
      "text/latex": [
       "$\\displaystyle a^{2} \\left(\\frac{E a^{2} x^{2} + 2 E a b x y + 2 E a c x + E b^{2} y^{2} + 2 E b c y + E c^{2} + \\left(a^{2} + b^{2}\\right) \\left(r^{2} - 2 r x + 2 x^{2} - 2 x y + y^{2}\\right)}{a^{2} + b^{2}} = 0\\right) + b^{2} \\left(\\frac{E a^{2} x^{2} + 2 E a b x y + 2 E a c x + E b^{2} y^{2} + 2 E b c y + E c^{2} + \\left(a^{2} + b^{2}\\right) \\left(r^{2} - 2 r x + 2 x^{2} - 2 x y + y^{2}\\right)}{a^{2} + b^{2}} = 0\\right)$"
      ],
      "text/plain": [
       "a**2*(Eq((E*a**2*x**2 + 2*E*a*b*x*y + 2*E*a*c*x + E*b**2*y**2 + 2*E*b*c*y + E*c**2 + (a**2 + b**2)*(r**2 - 2*r*x + 2*x**2 - 2*x*y + y**2))/(a**2 + b**2), 0)) + b**2*(Eq((E*a**2*x**2 + 2*E*a*b*x*y + 2*E*a*c*x + E*b**2*y**2 + 2*E*b*c*y + E*c**2 + (a**2 + b**2)*(r**2 - 2*r*x + 2*x**2 - 2*x*y + y**2))/(a**2 + b**2), 0))"
      ]
     },
     "execution_count": 17,
     "metadata": {},
     "output_type": "execute_result"
    }
   ],
   "source": [
    "(e2 * (a**2 + b**2)).expand().simplify()"
   ]
  },
  {
   "cell_type": "markdown",
   "metadata": {},
   "source": [
    "<div style=\"background:gray; color:white; padding: 10px\">\n",
    "    <h4>Proof 5.1.8</h4>\n",
    "    <i>Proposition:</i><br/> \n",
    "    If P=[r,s] is a point and ℓ=(c:a:b) is the line with equation c+ax+by=0 then the quadrance between P and ℓ is \n",
    "    $$ Q(P,\\ell)=\\frac {(c+ar+bs)^2}{a^2+b^2}. $$\n",
    "    <br/><i>Proof:</i>\n",
    "    <br/><b>Step x:</b> asdfasd\n",
    "    <br/><b>Step x: </b> asdfasdf\n",
    "    <br/><i>Related name:</i><br/> Quadrance between a point and a line \n",
    "    <br/><i>References</i>\n",
    "    <br/><i>Ref. 1:</i> The defining \n",
    "\n",
    "\n",
    "</div>"
   ]
  },
  {
   "cell_type": "code",
   "execution_count": null,
   "metadata": {},
   "outputs": [],
   "source": []
  }
 ],
 "metadata": {
  "kernelspec": {
   "display_name": "SageMath 9.0",
   "language": "sage",
   "name": "sagemath"
  },
  "language_info": {
   "codemirror_mode": {
    "name": "ipython",
    "version": 3
   },
   "file_extension": ".py",
   "mimetype": "text/x-python",
   "name": "python",
   "nbconvert_exporter": "python",
   "pygments_lexer": "ipython3",
   "version": "3.7.3"
  }
 },
 "nbformat": 4,
 "nbformat_minor": 4
}
