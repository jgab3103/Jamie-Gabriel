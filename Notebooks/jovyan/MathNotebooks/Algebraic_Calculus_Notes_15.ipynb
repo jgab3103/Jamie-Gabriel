{
 "cells": [
  {
   "cell_type": "code",
   "execution_count": 1,
   "metadata": {},
   "outputs": [],
   "source": [
    "import numpy as np\n",
    "import sympy as sp\n",
    "import shared_functions as sf\n",
    "from IPython.display import HTML\n",
    "import matplotlib.pyplot as plt\n",
    "import ipywidgets as widgets"
   ]
  },
  {
   "cell_type": "markdown",
   "metadata": {},
   "source": [
    "In the last notebook we introduced the conic section and a way of looking at multiple structures hyperbolas, circle, ellipse, parabola, a general general structure created in Affine Space. \n",
    "\n",
    "In the spirit of exploring different types of constrcuts, we also ventured beyond Affine space into cartesian space, looking at an alternate way to cosntruct, through the idea of focus and directrix. At the same time we looked at the relationship between the focus and directerix finding that depending on whether it was greater than 1, 1 or less than 1 indicated.\n",
    "\n",
    "We were quiet relaxed in the last section around utilising a visual intuition where it suited us. It is powerful strategy to leverage off the interactions we encounter. But at the same, it is important to keep in mind that we need to be algebraic and rely on manipulation. So in this section we will introduce soe more formality around this. \n",
    "\n",
    "Let's start with 2 formal proofs around quadrances and conics. The first provides a formal proof of te "
   ]
  },
  {
   "cell_type": "markdown",
   "metadata": {},
   "source": [
    "<div style=\"background:gray; color:white; padding: 10px\">\n",
    "    <h4>Proof 5.1.8</h4>\n",
    "    <i>Proposition:</i><br/> \n",
    "    If P=[r,s] is a point and ℓ=(c:a:b) is the line with equation c+ax+by=0 then the quadrance between P and ℓ is \n",
    "    $$ Q(P,\\ell)=\\frac {(c+ar+bs)^2}{a^2+b^2}. $$\n",
    "    <br/><i>Proof:</i>\n",
    "    <br/><b>Step x:</b> Let $a, b, x, y, d, r$ and $s$ be integers\n",
    "    <br/><b>Step x:</b> Let $P, R, m$ and $l$ be labels\n",
    "    <br/><b>Step x: </b> Let $m$ be a line in standard form on the Cartesian Plane, denoted as $m: -bx + ay + d = 0$\n",
    "    <br/><b>Step x: </b> Let $l$ be a line on the Cartesian Plane and suppose it is perpendicular to $l$ \n",
    "    <br/><b>Step x: </b> Note that $l$ and $m$ will be perpendicular for any value of $d$\n",
    "    <br/><b>Step x: </b> Let $P = [r, s]$ be a point on the Cartesian Plane constructed from the integers $r$ and $s$ \n",
    "    <br/><b>Step x: </b> Suppose that P is incident to both $m$ and $l$\n",
    "    <br/><b>Step x: </b> Note that as P is incident to $m$, it follows that $d = br - as$ for some value d\n",
    "    <br/><b>Step x: </b> Through algebraic subsitution, the Cartesian Line $m$ can be denoted as $m = (br - as: -b: a)$ as a line projective form\n",
    "    <br/><b>Step x: </b> Let R be the meet of $l$ and $m$, denoted as: (Ref. 1)\n",
    "    $$ R=\\ell\\times m=[a^2+b^2:b^2r-abs-ac:-bc-abr+a^2s]. $$\n",
    "    <br/><b>Step x: </b> Through Algebraic manipulation: (Ref. 2) \n",
    "    $$Q(P,\\ell)=Q(P,R)=\\frac{(b^2r-abs-ac-ra^2-rb^2)^2+(-bc-abr+a^2s-sa^2-sb^2)^2}{(a^2+b^2)^2}\\\\=\\frac{a^2(c+ar+bs)^2+b^2(c+ar+bs)^2}{(a^2+b^2)^2}=\\frac{(a^2+b^2)(c+ar+bs)^2}{(a^2+b^2)^2}\\\\=\\frac{(c+ar+bs)^2}{a^2+b^2}.$$ \n",
    "    <br/><i>Related name:</i><br/> Quadrance between a point and a line \n",
    "    <br/><i>References</i>\n",
    "    <br/><i>Ref. 1:</i> Recall that Meet of any two lines, $e$ and $f$ can be defined as $e \\times f$\n",
    "        <br/><i>Ref. 1:</i> Recall Q(A, B) the calculation of quadrance \n",
    "    \n",
    "\n",
    "\n",
    "</div>"
   ]
  },
  {
   "cell_type": "code",
   "execution_count": null,
   "metadata": {},
   "outputs": [],
   "source": []
  },
  {
   "cell_type": "code",
   "execution_count": null,
   "metadata": {},
   "outputs": [],
   "source": []
  },
  {
   "cell_type": "code",
   "execution_count": null,
   "metadata": {},
   "outputs": [],
   "source": []
  },
  {
   "cell_type": "code",
   "execution_count": null,
   "metadata": {},
   "outputs": [],
   "source": []
  },
  {
   "cell_type": "code",
   "execution_count": null,
   "metadata": {},
   "outputs": [],
   "source": []
  },
  {
   "cell_type": "code",
   "execution_count": null,
   "metadata": {},
   "outputs": [],
   "source": []
  },
  {
   "cell_type": "markdown",
   "metadata": {},
   "source": [
    "<div style=\"background:gray; color:white; padding: 10px\">\n",
    "    <h4>Proof 5.1.8</h4>\n",
    "    <i>Proposition:</i><br/> \n",
    "    If P=[r,s] is a point and ℓ=(c:a:b) is the line with equation c+ax+by=0 then the quadrance between P and ℓ is \n",
    "    $$ Q(P,\\ell)=\\frac {(c+ar+bs)^2}{a^2+b^2}. $$\n",
    "    <br/><i>Proof:</i>\n",
    "    <br/><b>Step x:</b> asdfasd\n",
    "    <br/><b>Step x: </b> asdfasdf\n",
    "    <br/><i>Related name:</i><br/> Quadrance between a point and a line \n",
    "    <br/><i>References</i>\n",
    "    <br/><i>Ref. 1:</i> The defining \n",
    "\n",
    "\n",
    "</div>"
   ]
  },
  {
   "cell_type": "code",
   "execution_count": null,
   "metadata": {},
   "outputs": [],
   "source": []
  }
 ],
 "metadata": {
  "kernelspec": {
   "display_name": "SageMath 9.0",
   "language": "sage",
   "name": "sagemath"
  },
  "language_info": {
   "codemirror_mode": {
    "name": "ipython",
    "version": 3
   },
   "file_extension": ".py",
   "mimetype": "text/x-python",
   "name": "python",
   "nbconvert_exporter": "python",
   "pygments_lexer": "ipython3",
   "version": "3.7.3"
  }
 },
 "nbformat": 4,
 "nbformat_minor": 4
}
