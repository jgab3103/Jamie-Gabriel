{
 "cells": [
  {
   "cell_type": "code",
   "execution_count": 1,
   "metadata": {},
   "outputs": [],
   "source": [
    "import numpy as np\n",
    "import sympy as sp\n",
    "import shared_functions as sf\n",
    "from IPython.display import HTML\n",
    "import ipywidgets as widgets\n",
    "import matplotlib as mpl\n",
    "from mpl_toolkits.mplot3d import Axes3D\n",
    "import matplotlib.pyplot as plt\n",
    "mpl.rcParams['legend.fontsize'] = 10"
   ]
  },
  {
   "cell_type": "markdown",
   "metadata": {},
   "source": [
    "<b>Previously...</b>\n",
    "\n",
    "We left off another deep dive around parabolas. Let's now extend again to ellipses and hyperbaolas, using the context of the cone structure\n",
    "\n",
    "In this part we will continue to explore conics. We will aslso step up in our proofs, starting to explore more complex phenomena, and often a number of different things, present multiple results. But at the same time, we will not increase the complexity and for cinstruction of proofs, make sure you have read through [TBA]"
   ]
  },
  {
   "cell_type": "markdown",
   "metadata": {},
   "source": [
    "<b>The canonical equation of an ellipse</b>"
   ]
  },
  {
   "cell_type": "markdown",
   "metadata": {},
   "source": [
    "Let's switch focus to another type of conic section now, the <b>ellipse</b>. We have already see that all conics have a focus and directris. Let's consider one now, but note unlike a circle we don't have canonical equation for this structure. Let's see if we can do this now. \n",
    "\n",
    "Note also that though an ellipse is a conic, it also has its own attributes, in a similiar way circle had diameter.  ellipse we can introduce some more teshnology. We can create two lines of symmetry which line that is incident to and label this a major axis and and minor axis, which has shorter quadrance. \n",
    "\n",
    "Let's construct and ellipse. We will use the Cartesian plane, origin and the center of the elipse, this means that we will have. Note we have explored canonical equations of other strcutures, now we could consider the ellipse"
   ]
  },
  {
   "cell_type": "markdown",
   "metadata": {},
   "source": [
    "<div style=\"background:gray; color:white; padding: 10px\">\n",
    "    <h4>Proof 5.1.8</h4>\n",
    "    <i>Proposition:</i><br/> \n",
    "   Consider an ellipse constructed in a Cartesian Plane, such that x-axis of the plane is coincident to the major axis for the ellipse, and the y-axis of the plane coincident to the minor axis of the ellipse. The Focus of the ellipse is the Cartesian Point $F=[c,0]$ and the directrix of the ellipse is the Cartesian line $l:x=d$. $A=[a,0]$ is a Cartesian point on the ellipse incident to the major axis, and $B=[0,b]$ is the Cartesian Point incident to the ellipse and minor axis. The Qaudractic Eccentricity is defined as $E$.It follow that $a>b$. For this coordinate system it must be the case that:\n",
    "    <ol>\n",
    "        <li>$a^2 = cd$ </li>\n",
    "        <li>The equation of the ellipse in this coordinate system is $$\\frac{x^2}{a^2}+\\frac{y^2}{b^2}=1$$ </li>\n",
    "        <li>$E = \\frac{c^2}{a^2}$   </li>\n",
    "        <li>$a^2=b^2+c^2$   </li>\n",
    "        <li> $E=\\frac{a^2-b^2}{a^2}.$  </li>\n",
    "    </ol>\n",
    "    <br/><i>Proof 1:</i>\n",
    "    <br/><b>Step x:</b>Let $a, b, c, d, x$ and $y$ be integers\n",
    "    <br/><b>Step x: </b>Let $A = [a, 0]$ be a Cartesian Point constructed from integers $a$ and $0$\n",
    "    <br/><b>Step x: </b>Let $B = [0, b]$ be a Cartesian Point constructed from integers $b$ and $0$ \n",
    "    <br/><b>Step x: </b>Let $C= [0, 0]$ be a Cartesian Point constructed from integer $0$ \n",
    "    <br/><b>Step x: </b>Let $D= [x, y]$ be a Cartesian Point constructed from integers $x$ and $y$  \n",
    "    <br/><b>Step x: </b>Let $F= [c, 0]$ be a Cartesian Point constructed from integers $c$ and $0$  \n",
    "    <br/><b>Step x: </b>Let $H = [-a, 0]$ be a Cartesian Point constructed from integers $a$ and $0$  \n",
    "    <br/><b>Step x: </b>Let $l:x=d$ be a Cartesian Point constructed from integers $x$ and $d$ \n",
    "    <br/><b>Step x: </b>Suppose $a \\gt b$\n",
    "    <br/><b>Step x: </b>Suppose W is an ellipse with and that $A, B, D$ and $H$ are incident to this ellipse and \n",
    "    <br/><b>Step x: </b>Suppose that $F$ and $l$ are the focus and directrix of an ellipse of $W$\n",
    "    <br/><b>Step x: </b>Let $E$ be the Quadratic Eccentricity of the $W$\n",
    "    <br/><b>Step x: </b>Recall that by definition, Quadratic Eccentricity is equivalent across all any point that is incident to an Ellipse \n",
    "    <br/><b>Step x: </b>It follows that $$E = \\frac{Q(D,F)}{Q(D,\\ell)}=\\frac{Q(H,F)}{Q(H,\\ell)} \\quad $$\n",
    "    <br/><b>Step x: </b>Through subs    $$\\quad \\frac{(x-c)^2+y^2}{(d-x)^2}=\\frac{(a+c)^2}{(a+d)^2}$$\n",
    "    <br/><b>Step x: </b>Through manip: \n",
    "        $$\\quad  y^2(a+d)^2=(d-x)^2(a+c)^2-(x-c)^2(a+d)^2.$$\n",
    "    <br/><b>Step x: (Ref. 1) </b>THrough algebraic manipulation, $a^2 = cd$\n",
    "    <hr/>\n",
    "    <br/><i>Proof 2: </i>\n",
    "    <br/><b>Step x: </b>Recall that by definition, Quadratic Eccentricity is equivalent across all any point that is incident to an Ellipse \n",
    "    <br/><b>Step x: </b>It follows that \n",
    "    $$ \\frac{Q(B,F)}{Q(B,\\ell)}=\\frac{Q(H,F)}{Q(H,\\ell)} $$\n",
    "    <br/><b>Step x: </b>Through subsitution:\n",
    "    $$\\frac{Q(B,F)}{Q(B,\\ell)}=\\frac{Q(H,F)}{Q(H,\\ell)} \\quad \\equiv \\frac{b^2+c^2}{d^2}=\\frac{(a+c)^2}{(a+d)^2}.$$\n",
    "    <br/><b>Step x: </b>THrough algebraic manipulation: \n",
    "    $$ a^2(d-c)(d+c+2a)=b^2(a+d)^2.$$\n",
    "    <br/><b>Step x: </b>It also follows that:\n",
    "    $$ \\frac{Q(D,F)}{Q(D,\\ell)}=\\frac{Q(H,F)}{Q(H,\\ell)} $$\n",
    "    <br/><b>Step x: </b>THrough substitution: \n",
    "    $$ \\frac{(x-c)^2+y^2}{(d-x)^2}=\\frac{(a+c)^2}{(a+d)^2} $$\n",
    "    <br/><b>Step x: </b>Through algebraic manipulation:\n",
    "    $$ y^2(a+d)^2=(d-x)^2(a+c)^2-(x-c)^2(a+d)^2 $$\n",
    "    <br/><b>Step x: </b>Let LHS be the left hand side of this result\n",
    "    <br/><b>Step x: </b>Let RHS be the right hand side of this result. THrough algebraic manipualtion: \n",
    "    $$RHS = x^2(c-d)(2a+c+d)+2x(c-d)(a^2-cd)+a(d-c)(2cd+da+ca)$$\n",
    "    <br/><b>Step x: </b>Use subsutition from proof 1, $cd=a^2$ into RHS: \n",
    "    $$RHS=x^2(c-d)(2a+c+d)+a^2(d-c)(2a+c+d).$$\n",
    "    <br/><b>Step x: </b>Set RHS == to LHS (Ref. 3):\n",
    "    $$y^2(a+d)^2+x^2(d-c)(2a+c+d)=a^2(d-c)(2a+c+d) \\quad \\text{or} \\quad \\frac{y^2}{b^2}+\\frac{x^2}{a^2}=1$$\n",
    "    <br/><i>Related name:</i><br/> Quadrance between a point and a line \n",
    "    <br/><i>References</i>\n",
    "    <br/><i>Ref. 1:</i> Some of this algebraic manipulation is complicted but we should verify with Python\n",
    "    <br/><i>Ref. 2</i>Note last eqquality is obtained through the identity: \n",
    "    $$ a^2(d-c)(d+c+2a)=b^2(a+d)^2 $$\n",
    "</div>"
   ]
  },
  {
   "cell_type": "markdown",
   "metadata": {},
   "source": [
    "THis proof sets us up for a powerful way to work with conics, but we should check that Algebra makes sense"
   ]
  },
  {
   "cell_type": "code",
   "execution_count": 14,
   "metadata": {},
   "outputs": [],
   "source": [
    "a, c, d = sp.symbols('a, c, d')"
   ]
  },
  {
   "cell_type": "code",
   "execution_count": 17,
   "metadata": {},
   "outputs": [
    {
     "data": {
      "text/latex": [
       "$\\displaystyle \\frac{\\left(a - c\\right)^{2}}{\\left(- a + d\\right)^{2}} = \\frac{\\left(a + c\\right)^{2}}{\\left(a + d\\right)^{2}}$"
      ],
      "text/plain": [
       "Eq((a - c)**2/(-a + d)**2, (a + c)**2/(a + d)**2)"
      ]
     },
     "execution_count": 17,
     "metadata": {},
     "output_type": "execute_result"
    }
   ],
   "source": [
    "e1 = sp.Eq((a - c)**2 / (d - a)**2,(a + c)**2 / (a + d)**2 )\n",
    "e1"
   ]
  },
  {
   "cell_type": "code",
   "execution_count": 20,
   "metadata": {},
   "outputs": [
    {
     "data": {
      "text/latex": [
       "$\\displaystyle \\left(a - c\\right)^{2} = \\frac{\\left(- a + d\\right)^{2} \\left(a + c\\right)^{2}}{\\left(a + d\\right)^{2}}$"
      ],
      "text/plain": [
       "Eq((a - c)**2, (-a + d)**2*(a + c)**2/(a + d)**2)"
      ]
     },
     "execution_count": 20,
     "metadata": {},
     "output_type": "execute_result"
    }
   ],
   "source": [
    "e2 = sp.Eq(e1.lhs * (-a + d)**2,e1.rhs * (-a + d)**2 )\n",
    "e2"
   ]
  },
  {
   "cell_type": "code",
   "execution_count": 21,
   "metadata": {},
   "outputs": [
    {
     "data": {
      "text/latex": [
       "$\\displaystyle \\left(a - c\\right)^{2} \\left(a + d\\right)^{2} = \\left(- a + d\\right)^{2} \\left(a + c\\right)^{2}$"
      ],
      "text/plain": [
       "Eq((a - c)**2*(a + d)**2, (-a + d)**2*(a + c)**2)"
      ]
     },
     "execution_count": 21,
     "metadata": {},
     "output_type": "execute_result"
    }
   ],
   "source": [
    "e3 = sp.Eq(e2.lhs * (a + d)**2,e2.rhs * (a + d)**2 )\n",
    "e3"
   ]
  },
  {
   "cell_type": "code",
   "execution_count": 25,
   "metadata": {},
   "outputs": [
    {
     "data": {
      "text/latex": [
       "$\\displaystyle a^{4} - 2 a^{3} c + 2 a^{3} d + a^{2} c^{2} - 4 a^{2} c d + a^{2} d^{2} + 2 a c^{2} d - 2 a c d^{2} + c^{2} d^{2} = a^{4} + 2 a^{3} c - 2 a^{3} d + a^{2} c^{2} - 4 a^{2} c d + a^{2} d^{2} - 2 a c^{2} d + 2 a c d^{2} + c^{2} d^{2}$"
      ],
      "text/plain": [
       "Eq(a**4 - 2*a**3*c + 2*a**3*d + a**2*c**2 - 4*a**2*c*d + a**2*d**2 + 2*a*c**2*d - 2*a*c*d**2 + c**2*d**2, a**4 + 2*a**3*c - 2*a**3*d + a**2*c**2 - 4*a**2*c*d + a**2*d**2 - 2*a*c**2*d + 2*a*c*d**2 + c**2*d**2)"
      ]
     },
     "execution_count": 25,
     "metadata": {},
     "output_type": "execute_result"
    }
   ],
   "source": [
    "e4 = e3.expand()\n",
    "e4"
   ]
  },
  {
   "cell_type": "code",
   "execution_count": 33,
   "metadata": {},
   "outputs": [
    {
     "data": {
      "text/latex": [
       "$\\displaystyle - 4 a^{3} c + 4 a^{3} d + 4 a c^{2} d - 4 a c d^{2} = 0$"
      ],
      "text/plain": [
       "Eq(-4*a**3*c + 4*a**3*d + 4*a*c**2*d - 4*a*c*d**2, 0)"
      ]
     },
     "execution_count": 33,
     "metadata": {},
     "output_type": "execute_result"
    }
   ],
   "source": [
    "e5 = sp.Eq(e4.lhs - e4.rhs, e4.rhs - e4.rhs)\n",
    "e5"
   ]
  },
  {
   "cell_type": "markdown",
   "metadata": {},
   "source": [
    "Now we will assume that $a \\ne 0$ and remove this, and then we will factor our via division ov"
   ]
  },
  {
   "cell_type": "code",
   "execution_count": 42,
   "metadata": {},
   "outputs": [
    {
     "data": {
      "text/latex": [
       "$\\displaystyle \\left(a^{2} - c d\\right) \\left(c - d\\right) = 0$"
      ],
      "text/plain": [
       "Eq((a**2 - c*d)*(c - d), 0)"
      ]
     },
     "execution_count": 42,
     "metadata": {},
     "output_type": "execute_result"
    }
   ],
   "source": [
    "e6 = sp.Eq((e5.lhs / (-4 * a)).simplify().factor(), 0)\n",
    "e6"
   ]
  },
  {
   "cell_type": "markdown",
   "metadata": {},
   "source": [
    "Now we know that $c \\ne d$ so are lft with"
   ]
  },
  {
   "cell_type": "markdown",
   "metadata": {},
   "source": [
    "In step sfas we also: "
   ]
  },
  {
   "cell_type": "code",
   "execution_count": null,
   "metadata": {},
   "outputs": [],
   "source": []
  },
  {
   "cell_type": "code",
   "execution_count": null,
   "metadata": {},
   "outputs": [],
   "source": []
  },
  {
   "cell_type": "code",
   "execution_count": null,
   "metadata": {},
   "outputs": [],
   "source": []
  },
  {
   "cell_type": "code",
   "execution_count": null,
   "metadata": {},
   "outputs": [],
   "source": []
  },
  {
   "cell_type": "code",
   "execution_count": null,
   "metadata": {},
   "outputs": [],
   "source": []
  },
  {
   "cell_type": "code",
   "execution_count": null,
   "metadata": {},
   "outputs": [],
   "source": []
  },
  {
   "cell_type": "markdown",
   "metadata": {},
   "source": [
    "Let's explore this with a visualisatin as well. For our example, we will let $F = [c,0]$ and the directris, $l:x = d$, for some arbitrary point $[c, d]$\n",
    "We will also let $A=[a,0]$ be some point along major axis on the the ellipse, and and $B=[0,b]$ be a point on the the ellipse incident to the minor axis. \n",
    "\n",
    "Let's have a look at this on a grid"
   ]
  },
  {
   "cell_type": "code",
   "execution_count": 13,
   "metadata": {},
   "outputs": [
    {
     "data": {
      "image/png": "[encoded data removed]",
      "text/plain": [
       "<Figure size 1080x576 with 1 Axes>"
      ]
     },
     "metadata": {},
     "output_type": "display_data"
    }
   ],
   "source": [
    "def format_axis_for_plot(ax, latex_label):\n",
    "    ax.grid()\n",
    "    ax.spines['left'].set_position(('data', 0.0))\n",
    "    ax.spines['bottom'].set_position(('data', 0.0))\n",
    "    ax.spines['top'].set_visible(False)\n",
    "    ax.spines['right'].set_visible(False)\n",
    "    ax.set_xlim([-10, 10])\n",
    "    ax.set_ylim([-4, 4])\n",
    "    ax.set_title(latex_label)\n",
    "    \n",
    "    return(ax)\n",
    "\n",
    "A = [5, 0]\n",
    "B = [0, 3]\n",
    "C = [0, 0]\n",
    "F = [4, 0]\n",
    "\n",
    "fig, ax = plt.subplots(1, 1, figsize=(15, 8))\n",
    "\n",
    "x_values = np.arange(start=-50, stop=50, step=.5)\n",
    "y_values_1 = x_values**2 \n",
    "ax = format_axis_for_plot(ax, \"$y = x^2$\")\n",
    "\n",
    "p = ax.plot(A[0],A[1], 'ro')\n",
    "p = ax.plot(B[0],B[1], 'ro')\n",
    "p = ax.plot(C[0],C[1], 'ro')\n",
    "p = ax.plot(F[0],F[1], 'ro')\n",
    "p = ax.plot([6,6],[-4, 4], 'b')\n",
    "\n",
    "p8 = ax.annotate('$y = k$', \n",
    "            A,\n",
    "             xytext=(0,0), textcoords='offset pixels')\n"
   ]
  },
  {
   "cell_type": "code",
   "execution_count": null,
   "metadata": {},
   "outputs": [],
   "source": []
  },
  {
   "cell_type": "markdown",
   "metadata": {},
   "source": [
    "Now let's plot the coordinates: "
   ]
  },
  {
   "cell_type": "markdown",
   "metadata": {},
   "source": [
    "jg - idea here isthat we construct a line, "
   ]
  },
  {
   "cell_type": "markdown",
   "metadata": {},
   "source": [
    "<div style=\"background:gray; color:white; padding: 10px\">\n",
    "    <h4>Proof 5.1.8</h4>\n",
    "    <i>Proposition:</i><br/> \n",
    "    If P=[r,s] is a point and ℓ=(c:a:b) is the line with equation c+ax+by=0 then the quadrance between P and ℓ is \n",
    "    $$ Q(P,\\ell)=\\frac {(c+ar+bs)^2}{a^2+b^2}. $$\n",
    "    <br/><i>Proof:</i>\n",
    "    <br/><b>Step x:</b> asdfasd\n",
    "    <br/><b>Step x: </b> asdfasdf\n",
    "    <br/><i>Related name:</i><br/> Quadrance between a point and a line \n",
    "    <br/><i>References</i>\n",
    "    <br/><i>Ref. 1:</i> The defining \n",
    "\n",
    "\n",
    "</div>"
   ]
  },
  {
   "cell_type": "markdown",
   "metadata": {},
   "source": [
    "<b>The emerging picture</b>"
   ]
  },
  {
   "cell_type": "markdown",
   "metadata": {},
   "source": [
    "So we are now seeing that conic sections have some knid of of connection, the complexity of location, and generalisation of construction, if we can see different types of structures as being generalisations. \n",
    "\n",
    "We have also generalised focus and directerix and explored\n",
    "\n",
    "As a visual analoge, we are constructing hyperbolas and can arbitrarily move them, we will need to this to make sense of what comes \n",
    "\n",
    "<b>Next time...</b>\n",
    "\n",
    "We will keep on going and expand our understanding gradually, and carefully. The conic section, extends ot parabolas and, become critical for us as we use these generalised shapes\n"
   ]
  },
  {
   "cell_type": "code",
   "execution_count": null,
   "metadata": {},
   "outputs": [],
   "source": []
  }
 ],
 "metadata": {
  "kernelspec": {
   "display_name": "SageMath 9.0",
   "language": "sage",
   "name": "sagemath"
  },
  "language_info": {
   "codemirror_mode": {
    "name": "ipython",
    "version": 3
   },
   "file_extension": ".py",
   "mimetype": "text/x-python",
   "name": "python",
   "nbconvert_exporter": "python",
   "pygments_lexer": "ipython3",
   "version": "3.7.3"
  }
 },
 "nbformat": 4,
 "nbformat_minor": 4
}
