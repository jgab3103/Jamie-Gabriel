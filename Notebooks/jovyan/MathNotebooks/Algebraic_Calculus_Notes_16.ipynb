{
 "cells": [
  {
   "cell_type": "code",
   "execution_count": 1,
   "metadata": {},
   "outputs": [],
   "source": [
    "import numpy as np\n",
    "import sympy as sp\n",
    "import shared_functions as sf\n",
    "from IPython.display import HTML\n",
    "import ipywidgets as widgets\n",
    "import matplotlib as mpl\n",
    "from mpl_toolkits.mplot3d import Axes3D\n",
    "import matplotlib.pyplot as plt\n",
    "mpl.rcParams['legend.fontsize'] = 10"
   ]
  },
  {
   "cell_type": "markdown",
   "metadata": {},
   "source": [
    "<b>Previously...</b>\n",
    "\n",
    "We left off another deep dive around parabolas. Let's now extend again to ellipses and hyperbaolas, using the context of the cone structure\n",
    "\n",
    "In this part we will continue to explore conics. We will aslso step up in our proofs, starting to explore more complex phenomena, and often a number of different things, present multiple results. But at the same time, we will not increase the complexity and for cinstruction of proofs, make sure you have read through [TBA]\n",
    "\n",
    "Also need start thinking about developing a code base"
   ]
  },
  {
   "cell_type": "code",
   "execution_count": 109,
   "metadata": {},
   "outputs": [],
   "source": [
    "def format_axis_for_plot(ax, latex_label, x_lim, y_lim):\n",
    "    ax.grid()\n",
    "    ax.spines['left'].set_position(('data', 0.0))\n",
    "    ax.spines['bottom'].set_position(('data', 0.0))\n",
    "    ax.spines['top'].set_visible(False)\n",
    "    ax.spines['right'].set_visible(False)\n",
    "    ax.set_xlim([-x_lim, x_lim])\n",
    "    ax.set_ylim([-y_lim, y_lim])\n",
    "    ax.set_title(latex_label)\n",
    "    \n",
    "    return(ax)"
   ]
  },
  {
   "cell_type": "markdown",
   "metadata": {},
   "source": [
    "<b>The canonical equation of an ellipse</b>"
   ]
  },
  {
   "cell_type": "markdown",
   "metadata": {},
   "source": [
    "Let's switch focus to another type of conic section now, the <b>ellipse</b>. We have already see that all conics have a focus and directris. Let's consider one now, but note unlike a circle we don't have canonical equation for this structure. Let's see if we can do this now. \n",
    "\n",
    "Note also that though an ellipse is a conic, it also has its own attributes, in a similiar way circle had diameter.  ellipse we can introduce some more teshnology. We can create two lines of symmetry which line that is incident to and label this a major axis and and minor axis, which has shorter quadrance. \n",
    "\n",
    "Let's construct and ellipse. We will use the Cartesian plane, origin and the center of the elipse, this means that we will have. Note we have explored canonical equations of other strcutures, now we could consider the ellipse"
   ]
  },
  {
   "cell_type": "markdown",
   "metadata": {},
   "source": [
    "<div style=\"background:gray; color:white; padding: 10px\">\n",
    "    <h4>Proof 5.1.8</h4>\n",
    "    <i>Proposition:</i><br/> \n",
    "   Consider an ellipse constructed in a Cartesian Plane, such that x-axis of the plane is coincident to the major axis for the ellipse, and the y-axis of the plane coincident to the minor axis of the ellipse. The Focus of the ellipse is the Cartesian Point $F=[c,0]$ and the directrix of the ellipse is the Cartesian line $l:x=d$. $A=[a,0]$ is a Cartesian point on the ellipse incident to the major axis, and $B=[0,b]$ is the Cartesian Point incident to the ellipse and minor axis. The Qaudractic Eccentricity is defined as $E$.It follow that $a>b$. For this coordinate system it must be the case that:\n",
    "    <ol>\n",
    "        <li>$a^2 = cd$ </li>\n",
    "        <li>The equation of the ellipse in this coordinate system is $$\\frac{x^2}{a^2}+\\frac{y^2}{b^2}=1$$ </li>\n",
    "        <li>$E = \\frac{c^2}{a^2}$   </li>\n",
    "        <li>$a^2=b^2+c^2$   </li>\n",
    "        <li> $E=\\frac{a^2-b^2}{a^2}.$  </li>\n",
    "    </ol>\n",
    "    <br/><i>Proof 1:</i>\n",
    "    <br/><b>Step x:</b>Let $a, b, c, d, x$ and $y$ be integers\n",
    "    <br/><b>Step x: </b>Let $A = [a, 0]$ be a Cartesian Point constructed from integers $a$ and $0$\n",
    "    <br/><b>Step x: </b>Let $B = [0, b]$ be a Cartesian Point constructed from integers $b$ and $0$ \n",
    "    <br/><b>Step x: </b>Let $C= [0, 0]$ be a Cartesian Point constructed from integer $0$ \n",
    "    <br/><b>Step x: </b>Let $D= [x, y]$ be a Cartesian Point constructed from integers $x$ and $y$  \n",
    "    <br/><b>Step x: </b>Let $F= [c, 0]$ be a Cartesian Point constructed from integers $c$ and $0$  \n",
    "    <br/><b>Step x: </b>Let $H = [-a, 0]$ be a Cartesian Point constructed from integers $a$ and $0$  \n",
    "    <br/><b>Step x: </b>Let $l:x=d$ be a Cartesian Point constructed from integers $x$ and $d$ \n",
    "    <br/><b>Step x: </b>Suppose $a \\gt b$\n",
    "    <br/><b>Step x: </b>Suppose W is an ellipse with and that $A, B, D$ and $H$ are incident to this ellipse and \n",
    "    <br/><b>Step x: </b>Suppose that $F$ and $l$ are the focus and directrix of an ellipse of $W$\n",
    "    <br/><b>Step x: </b>Let $E$ be the Quadratic Eccentricity of the $W$\n",
    "    <br/><b>Step x: </b>Recall that by definition, Quadratic Eccentricity is equivalent across all any point that is incident to an Ellipse \n",
    "    <br/><b>Step x: </b>It follows that $$E = \\frac{Q(D,F)}{Q(D,\\ell)}=\\frac{Q(H,F)}{Q(H,\\ell)} \\quad $$\n",
    "    <br/><b>Step x: </b>Through subs    $$\\quad \\frac{(x-c)^2+y^2}{(d-x)^2}=\\frac{(a+c)^2}{(a+d)^2}$$\n",
    "    <br/><b>Step x: </b>Through manip: \n",
    "        $$\\quad  y^2(a+d)^2=(d-x)^2(a+c)^2-(x-c)^2(a+d)^2.$$\n",
    "    <br/><b>Step x: (Ref. 1) </b>THrough algebraic manipulation, $a^2 = cd$\n",
    "    <hr/>\n",
    "    <br/><i>Proof 2: </i>\n",
    "    <br/><b>Step x: </b>Recall that by definition, Quadratic Eccentricity is equivalent across all any point that is incident to an Ellipse \n",
    "    <br/><b>Step x: </b>It follows that \n",
    "    $$ \\frac{Q(B,F)}{Q(B,\\ell)}=\\frac{Q(H,F)}{Q(H,\\ell)} $$\n",
    "    <br/><b>Step x: </b>Through subsitution:\n",
    "    $$\\frac{Q(B,F)}{Q(B,\\ell)}=\\frac{Q(H,F)}{Q(H,\\ell)} \\quad \\equiv \\frac{b^2+c^2}{d^2}=\\frac{(a+c)^2}{(a+d)^2}.$$\n",
    "    <br/><b>Step x: </b>THrough algebraic manipulation: \n",
    "    $$ a^2(d-c)(d+c+2a)=b^2(a+d)^2.$$\n",
    "    <br/><b>Step x: </b>It also follows that:\n",
    "    $$ \\frac{Q(D,F)}{Q(D,\\ell)}=\\frac{Q(H,F)}{Q(H,\\ell)} $$\n",
    "    <br/><b>Step x: </b>THrough substitution: \n",
    "    $$ \\frac{(x-c)^2+y^2}{(d-x)^2}=\\frac{(a+c)^2}{(a+d)^2} $$\n",
    "    <br/><b>Step x: </b>Through algebraic manipulation:\n",
    "    $$ y^2(a+d)^2=(d-x)^2(a+c)^2-(x-c)^2(a+d)^2 $$\n",
    "    <br/><b>Step x: </b>Let LHS be the left hand side of this result\n",
    "    <br/><b>Step x: </b>Let RHS be the right hand side of this result. THrough algebraic manipualtion: \n",
    "    $$RHS = x^2(c-d)(2a+c+d)+2x(c-d)(a^2-cd)+a(d-c)(2cd+da+ca)$$\n",
    "    <br/><b>Step x: </b>Use subsutition from proof 1, $cd=a^2$ into RHS: \n",
    "    $$RHS=x^2(c-d)(2a+c+d)+a^2(d-c)(2a+c+d).$$\n",
    "    <br/><b>Step x: </b>Set RHS == to LHS (Ref. 3):\n",
    "    $$y^2(a+d)^2+x^2(d-c)(2a+c+d)=a^2(d-c)(2a+c+d) \\quad \\text{or} \\quad \\frac{y^2}{b^2}+\\frac{x^2}{a^2}=1$$\n",
    "    <hr/>\n",
    "    <br/><i>Proof 3.</i>\n",
    "    <br/><b>Step x: </b> Recall from Proof 1 that $d=\\frac{a^2}{c}$\n",
    "    <br/><b>Step x: </b> Recall that Quadratic Eccentricity is defined as: \n",
    "    $$E=\\frac{Q(A,F)}{Q(A,\\ell)}$$\n",
    "    <br/><b>Step x: </b>Through subsitution: \n",
    "    $$E=\\frac{Q(A,F)}{Q(A,\\ell)}=\\frac{(a-c)^2}{(d-a)^2}$$\n",
    "    <br/><b>Step x: </b>THrough algebraic manipulation: \n",
    "    $$ \\frac{(a-c)^2}{(d-a)^2} = \\frac{c^2}{a^2} $$\n",
    "    <hr/>\n",
    "    <br/><i>Proof 5:</i>\n",
    "    <br/><b>Step x: </b>Using proof 3 and algebraic subsitution: \n",
    "    $$\\frac{c^2}{a^2}=\\frac{Q(B,F)}{Q(B,\\ell)}=\\frac{b^2+c^2}{d^2}\\quad\\text{or}\\quad c^2d^2=a^2(b^2+c^2).$$\n",
    "    <br/><b>Step x: </b> using the identity from proof 1, $cd = a^2$:\n",
    "    $$a^4=a^2(b^2+c^2)\\quad\\text{or}\\quad a^2=b^2+c^2.$$\n",
    "    <hr/>\n",
    "    <br/><i>Proof 5:</i>\n",
    "    <br/><b>Step x: </b>From proof iv and iii\n",
    "    <br/><i>Related name:</i><br/> Quadrance between a point and a line \n",
    "    <br/><i>References</i>\n",
    "    <br/><i>Ref. 1:</i> Some of this algebraic manipulation is complicted but we should verify with Python\n",
    "    <br/><i>Ref. 2</i>Note last eqquality is obtained through the identity: \n",
    "    $$ a^2(d-c)(d+c+2a)=b^2(a+d)^2 $$\n",
    "</div>"
   ]
  },
  {
   "cell_type": "markdown",
   "metadata": {},
   "source": [
    "So this was a pretty lengthy proof, and it is the first compound proof we are dealing with. But the critial thing to note is that is all made in simple steps, and using naming variables, subitutino and algebraic manipulation. We can also have a memory footprint available immedietley. At the end of it we have a number of new facts about an ellipse, chief among them that, we can write the eqation of this type of conic as: \n",
    "$$ \\frac{x^2}{a^2}+\\frac{y^2}{b^2}=1 $$\n",
    "\n",
    "You will notice too that I hae glossed over much of the algebraic. Going between Step x and Step x is agebrically challenging. Its important if we are to verify proof that that we can create this in Python. Let's look at: "
   ]
  },
  {
   "cell_type": "code",
   "execution_count": 110,
   "metadata": {},
   "outputs": [],
   "source": [
    "a, c, d = sp.symbols('a, c, d')"
   ]
  },
  {
   "cell_type": "code",
   "execution_count": 111,
   "metadata": {},
   "outputs": [
    {
     "data": {
      "text/latex": [
       "$\\displaystyle \\frac{\\left(a - c\\right)^{2}}{\\left(- a + d\\right)^{2}} = \\frac{\\left(a + c\\right)^{2}}{\\left(a + d\\right)^{2}}$"
      ],
      "text/plain": [
       "Eq((a - c)**2/(-a + d)**2, (a + c)**2/(a + d)**2)"
      ]
     },
     "execution_count": 111,
     "metadata": {},
     "output_type": "execute_result"
    }
   ],
   "source": [
    "e1 = sp.Eq((a - c)**2 / (d - a)**2,(a + c)**2 / (a + d)**2 )\n",
    "e1"
   ]
  },
  {
   "cell_type": "code",
   "execution_count": 112,
   "metadata": {},
   "outputs": [
    {
     "data": {
      "text/latex": [
       "$\\displaystyle \\left(a - c\\right)^{2} = \\frac{\\left(- a + d\\right)^{2} \\left(a + c\\right)^{2}}{\\left(a + d\\right)^{2}}$"
      ],
      "text/plain": [
       "Eq((a - c)**2, (-a + d)**2*(a + c)**2/(a + d)**2)"
      ]
     },
     "execution_count": 112,
     "metadata": {},
     "output_type": "execute_result"
    }
   ],
   "source": [
    "e2 = sp.Eq(e1.lhs * (-a + d)**2,e1.rhs * (-a + d)**2 )\n",
    "e2"
   ]
  },
  {
   "cell_type": "code",
   "execution_count": 113,
   "metadata": {},
   "outputs": [
    {
     "data": {
      "text/latex": [
       "$\\displaystyle \\left(a - c\\right)^{2} \\left(a + d\\right)^{2} = \\left(- a + d\\right)^{2} \\left(a + c\\right)^{2}$"
      ],
      "text/plain": [
       "Eq((a - c)**2*(a + d)**2, (-a + d)**2*(a + c)**2)"
      ]
     },
     "execution_count": 113,
     "metadata": {},
     "output_type": "execute_result"
    }
   ],
   "source": [
    "e3 = sp.Eq(e2.lhs * (a + d)**2,e2.rhs * (a + d)**2 )\n",
    "e3"
   ]
  },
  {
   "cell_type": "code",
   "execution_count": 114,
   "metadata": {},
   "outputs": [
    {
     "data": {
      "text/latex": [
       "$\\displaystyle a^{4} - 2 a^{3} c + 2 a^{3} d + a^{2} c^{2} - 4 a^{2} c d + a^{2} d^{2} + 2 a c^{2} d - 2 a c d^{2} + c^{2} d^{2} = a^{4} + 2 a^{3} c - 2 a^{3} d + a^{2} c^{2} - 4 a^{2} c d + a^{2} d^{2} - 2 a c^{2} d + 2 a c d^{2} + c^{2} d^{2}$"
      ],
      "text/plain": [
       "Eq(a**4 - 2*a**3*c + 2*a**3*d + a**2*c**2 - 4*a**2*c*d + a**2*d**2 + 2*a*c**2*d - 2*a*c*d**2 + c**2*d**2, a**4 + 2*a**3*c - 2*a**3*d + a**2*c**2 - 4*a**2*c*d + a**2*d**2 - 2*a*c**2*d + 2*a*c*d**2 + c**2*d**2)"
      ]
     },
     "execution_count": 114,
     "metadata": {},
     "output_type": "execute_result"
    }
   ],
   "source": [
    "e4 = e3.expand()\n",
    "e4"
   ]
  },
  {
   "cell_type": "code",
   "execution_count": 115,
   "metadata": {},
   "outputs": [
    {
     "data": {
      "text/latex": [
       "$\\displaystyle - 4 a^{3} c + 4 a^{3} d + 4 a c^{2} d - 4 a c d^{2} = 0$"
      ],
      "text/plain": [
       "Eq(-4*a**3*c + 4*a**3*d + 4*a*c**2*d - 4*a*c*d**2, 0)"
      ]
     },
     "execution_count": 115,
     "metadata": {},
     "output_type": "execute_result"
    }
   ],
   "source": [
    "e5 = sp.Eq(e4.lhs - e4.rhs, e4.rhs - e4.rhs)\n",
    "e5"
   ]
  },
  {
   "cell_type": "markdown",
   "metadata": {},
   "source": [
    "Now we will assume that $a \\ne 0$ and remove this, and then we will factor our via division ov"
   ]
  },
  {
   "cell_type": "code",
   "execution_count": 116,
   "metadata": {},
   "outputs": [
    {
     "data": {
      "text/latex": [
       "$\\displaystyle \\left(a^{2} - c d\\right) \\left(c - d\\right) = 0$"
      ],
      "text/plain": [
       "Eq((a**2 - c*d)*(c - d), 0)"
      ]
     },
     "execution_count": 116,
     "metadata": {},
     "output_type": "execute_result"
    }
   ],
   "source": [
    "e6 = sp.Eq((e5.lhs / (-4 * a)).simplify().factor(), 0)\n",
    "e6"
   ]
  },
  {
   "cell_type": "markdown",
   "metadata": {},
   "source": [
    "Now we know that $c \\ne d$ so are lft with $a^2 = cd$"
   ]
  },
  {
   "cell_type": "markdown",
   "metadata": {},
   "source": [
    "<div style=\"background:#99ddff; color:black; padding: 10px\">\n",
    "<b>Add to these notes:</b>\n",
    "\n",
    "Generally for any proof, we should be able to compute it works. So a great exercise is to go through tiwh this one and build up the proof. For the purpose of this 5 parts, and build on them. \n",
    "<br/>    \n",
    "As a next step, write a program that takes values that meets these requireemtns, and see that it does work. \n",
    "<br/>\n",
    "    Finally, write a program that parses standard lines from a proof and checks they are correct\n",
    "</div>"
   ]
  },
  {
   "cell_type": "markdown",
   "metadata": {},
   "source": [
    "As usual, we always want generalise more. In the last example we relied on the centre of the ellipse being at the point $[0,0]$ but we wnt to not have to rely on this. We can easily convert it so if the centre o the ellipse moves to an arbitrary point, $[h, k]$ we can rewrite the general equation as: \n",
    "\n",
    "$$ \\frac{(x-h)^2}{a^2}+\\frac{(y-k)^2}{b^2}=1. $$\n",
    "\n",
    "Recall of course that we ar interested in rewriting this in the following form: \n",
    "$$ Ax^2+2Bxy+Cy^2+Dx+Ey+F=0. $$\n",
    "\n",
    "In order to take advantage of some of matrix properties that arise. Lets to the albegraic manipulation in Python, recalling that we need to rewrite the coefficents: "
   ]
  },
  {
   "cell_type": "code",
   "execution_count": 117,
   "metadata": {},
   "outputs": [],
   "source": [
    "a, b, x, y, h, k = sp.symbols('a, b, x, y, h, k')"
   ]
  },
  {
   "cell_type": "code",
   "execution_count": 118,
   "metadata": {},
   "outputs": [
    {
     "data": {
      "text/latex": [
       "$\\displaystyle \\frac{\\left(- k + y\\right)^{2}}{b^{2}} + \\frac{\\left(- h + x\\right)^{2}}{a^{2}} = 1$"
      ],
      "text/plain": [
       "Eq((-k + y)**2/b**2 + (-h + x)**2/a**2, 1)"
      ]
     },
     "execution_count": 118,
     "metadata": {},
     "output_type": "execute_result"
    }
   ],
   "source": [
    "e1 = sp.Eq(((x - h)**2 / a**2) + ((y - k)**2 / b**2), 1)\n",
    "e1"
   ]
  },
  {
   "cell_type": "markdown",
   "metadata": {},
   "source": [
    "Let's simplify and expand: "
   ]
  },
  {
   "cell_type": "code",
   "execution_count": 119,
   "metadata": {},
   "outputs": [
    {
     "data": {
      "text/latex": [
       "$\\displaystyle a^{2} k^{2} - 2 a^{2} k y + a^{2} y^{2} + b^{2} h^{2} - 2 b^{2} h x + b^{2} x^{2} = a^{2} b^{2}$"
      ],
      "text/plain": [
       "Eq(a**2*k**2 - 2*a**2*k*y + a**2*y**2 + b**2*h**2 - 2*b**2*h*x + b**2*x**2, a**2*b**2)"
      ]
     },
     "execution_count": 119,
     "metadata": {},
     "output_type": "execute_result"
    }
   ],
   "source": [
    "e2 = sp.Eq(e1.lhs * b**2, e1.rhs * b**2)\n",
    "e3 = sp.Eq(e2.lhs * a**2, e2.rhs * a**2)\n",
    "e4 = e3.expand()\n",
    "e4"
   ]
  },
  {
   "cell_type": "markdown",
   "metadata": {},
   "source": [
    "Note that there is no $xy$ term here. Also, if a and b are equal, we will get circle, showing tha this is special case of an ellipse. Also we note that the determinata which is positive, accords with what now of a conic\n",
    "\n",
    "$$  \\det\\left(\\begin{matrix}A& B\\\\ B&C\\end{matrix} \\right)$$"
   ]
  },
  {
   "cell_type": "code",
   "execution_count": 120,
   "metadata": {},
   "outputs": [
    {
     "data": {
      "text/latex": [
       "$\\displaystyle a^{2} b^{2}$"
      ],
      "text/plain": [
       "a**2*b**2"
      ]
     },
     "execution_count": 120,
     "metadata": {},
     "output_type": "execute_result"
    }
   ],
   "source": [
    "sp.det(sp.Matrix([[b**2, 0], [0, a**2]]))"
   ]
  },
  {
   "cell_type": "markdown",
   "metadata": {},
   "source": [
    "We still buidling this idea up this idea that we can move between different conceptions of conic sections, between an equation in what we are calling a general form, and provides for us matrix properties, and also describing as a focus and directrix. Let's keep on exploring by looking at a general equation: "
   ]
  },
  {
   "cell_type": "code",
   "execution_count": 121,
   "metadata": {},
   "outputs": [
    {
     "data": {
      "text/latex": [
       "$\\displaystyle 3 x^{2} - 6 x + 4 y^{2} + 8 y - 101 = 0$"
      ],
      "text/plain": [
       "Eq(3*x**2 - 6*x + 4*y**2 + 8*y - 101, 0)"
      ]
     },
     "execution_count": 121,
     "metadata": {},
     "output_type": "execute_result"
    }
   ],
   "source": [
    "x, y = sp.symbols('x, y')\n",
    "e1 = sp.Eq(3*x^2 + 4 * y**2 - 6 * x + 8 * y - 101, 0)\n",
    "e1"
   ]
  },
  {
   "cell_type": "markdown",
   "metadata": {},
   "source": [
    "Before we do anything, let's just graph this curve after we sovle for y. We will imedietely encounter radicals so we are dealing approximations but we should have a look at the what it looks like generally. Notice that when we do this we will have to be careful about our domain as we are not going to plot complex numbers:"
   ]
  },
  {
   "cell_type": "code",
   "execution_count": 137,
   "metadata": {},
   "outputs": [
    {
     "data": {
      "text/latex": [
       "$\\displaystyle - \\frac{\\sqrt{- 3 x^{2} + 6 x + 105}}{2} - 1$"
      ],
      "text/plain": [
       "-sqrt(-3*x**2 + 6*x + 105)/2 - 1"
      ]
     },
     "execution_count": 137,
     "metadata": {},
     "output_type": "execute_result"
    }
   ],
   "source": [
    "e2 = sp.solve(e1, y)[0]\n",
    "e3 = sp.solve(e1, y)[1]\n",
    "e2"
   ]
  },
  {
   "cell_type": "code",
   "execution_count": 138,
   "metadata": {},
   "outputs": [
    {
     "data": {
      "text/latex": [
       "$\\displaystyle \\frac{\\sqrt{- 3 x^{2} + 6 x + 105}}{2} - 1$"
      ],
      "text/plain": [
       "sqrt(-3*x**2 + 6*x + 105)/2 - 1"
      ]
     },
     "execution_count": 138,
     "metadata": {},
     "output_type": "execute_result"
    }
   ],
   "source": [
    "e3"
   ]
  },
  {
   "cell_type": "code",
   "execution_count": 139,
   "metadata": {},
   "outputs": [
    {
     "data": {
      "image/png": "[encoded data removed]",
      "text/plain": [
       "<Figure size 1080x576 with 1 Axes>"
      ]
     },
     "metadata": {},
     "output_type": "display_data"
    }
   ],
   "source": [
    "x_values = np.arange(-5, 7, 0.01)\n",
    "y_values_1 = [e2.subs(x, i) for i in x_values] \n",
    "y_values_2 = [e3.subs(x, j) for j in x_values] \n",
    "\n",
    "\n",
    "fig, ax = plt.subplots(1, 1, figsize=(15, 8))\n",
    "\n",
    "\n",
    "ax = format_axis_for_plot(ax, \"$3x^2 + 4y^2 - 6x + 8y - 101$\", 8, 10)\n",
    "p = ax.plot(x_values, y_values_1, 'b')\n",
    "p = ax.plot(x_values, y_values_2, 'b')\n"
   ]
  },
  {
   "cell_type": "markdown",
   "metadata": {},
   "source": [
    "So its never good to rely on a picture, but this tells us that we might be on the right track. This polynomial curve is actually an ellipse. \n",
    "\n",
    "To obtain a focus and directrix we need to be able to manipulate it into this form: \n",
    "\n",
    "$$  \\frac{u^2}{a^2}+\\frac{v^2}{b^2}=1. $$\n",
    "\n",
    "Where $u$ and $v$ are some kind of value involving x and y. A great strategy to emply here, to seperate out the x and y as squares is complete the square of polynomicals in x and y. Start by recalling our polynomical curve: "
   ]
  },
  {
   "cell_type": "code",
   "execution_count": 141,
   "metadata": {},
   "outputs": [
    {
     "data": {
      "text/latex": [
       "$\\displaystyle 3 x^{2} - 6 x + 4 y^{2} + 8 y - 101 = 0$"
      ],
      "text/plain": [
       "Eq(3*x**2 - 6*x + 4*y**2 + 8*y - 101, 0)"
      ]
     },
     "execution_count": 141,
     "metadata": {},
     "output_type": "execute_result"
    }
   ],
   "source": [
    "e1"
   ]
  },
  {
   "cell_type": "markdown",
   "metadata": {},
   "source": [
    "Now lets complete the square and then factor:"
   ]
  },
  {
   "cell_type": "markdown",
   "metadata": {},
   "source": [
    "$$ 3(x-1)^2+4(y+1)^2-3-4-101=0\\quad \\text{or} \\quad 3(x-1)^2+4(y+1)^2=108\\\\ \\text{or}\\quad \\frac{(x-1)^2}{36}+\\frac{(y+1)^2}{27}=1.$$\n",
    "\n",
    "JG - check equivalency here to answer"
   ]
  },
  {
   "cell_type": "code",
   "execution_count": 201,
   "metadata": {},
   "outputs": [
    {
     "data": {
      "text/latex": [
       "$\\displaystyle \\frac{\\left(x - 1\\right)^{2}}{108} + \\frac{\\left(y + 1\\right)^{2}}{81} = 1$"
      ],
      "text/plain": [
       "Eq((x - 1)**2/108 + (y + 1)**2/81, 1)"
      ]
     },
     "execution_count": 201,
     "metadata": {},
     "output_type": "execute_result"
    }
   ],
   "source": [
    "e4 = sp.Eq(e1.lhs - 4*y^2 - 8*y + 101, e1.rhs - 4*y^2 - 8*y + 101)\n",
    "e5 = sp.Eq(e4.lhs + 3, e4.rhs + 3)\n",
    "e6 = sp.Eq(e5.lhs.factor()  -108, e5.rhs -108 )\n",
    "e7 = sp.Eq(e6.lhs, e6.rhs.factor())\n",
    "e8 = sp.Eq(e7.lhs - e7.rhs + 108, e7.rhs - e7.rhs + 108)\n",
    "e9 = sp.Eq(e8.lhs / 3, e8.rhs / 3)\n",
    "e10 = sp.Eq(e9.lhs / 4, e8.rhs / 4)\n",
    "e11 = sp.Eq(e10.lhs / 27, e10.rhs / 27)\n",
    "\n",
    "e11\n",
    "\n",
    "#I think NJ is wrong"
   ]
  },
  {
   "cell_type": "markdown",
   "metadata": {},
   "source": [
    "So in this format, we can find a value for\n",
    "\n",
    "$$  c^2=a^2-b^2=108-81=27 \\quad \\text{or} \\quad c=3. $$\n",
    "\n",
    "directiris is the line u = d where $$ d=\\frac{a^2}{c}=\\frac{36}{3}=12.$$\n",
    "\n",
    "Coming back to (x,y)-plane using u=x−1 and v=y+1, we find that the focus is [r,s], where 3=r−1 and 0=s+1. Hence, the focus is [4,−1]. The directrix is the line x−1=12 or x=13.\n",
    "\n",
    "I think JG this is an error, "
   ]
  },
  {
   "cell_type": "markdown",
   "metadata": {},
   "source": [
    "So the ellipse as a conic section  is slowly but surely becoming becoming a more flexible object, we can use a range properties, and also leverage of basic movement of cartesian ponits. Recall that we can create a general transofmration on a xy cartesian plane as: \n",
    "\n",
    "$$ [x,y]\\mapsto [ex+f y, f x-e y] $$\n",
    "\n",
    "There is nothing complicated about this, we can scale points in any direction we might choose, but it becomes in testing if we consider this in therms of the general equation fo the an ellipse, which becomes: \n",
    "\n",
    "$$ \\frac{\\big(e (x-h)+f (y-k)\\big)^2}{a^2}+\\frac{\\big(f (x-h)-e(y-k)\\big)^2}{b^2}=1.$$\n",
    "\n",
    "Let's explore what happens when we rewrite the equation in the stnadard form of $Ax^2+2Bxy+Cy^2+Dx+Ey+F=0.$ or when we look at it in terms of: \n",
    "\n",
    "$$ \\det\\left(\\begin{matrix}A& B\\\\ B&C\\end{matrix} \\right) $$\n",
    "\n",
    "Let's explore this using Python. Start by creating some variables, taking advantage of what we know from transofmaton of point in Cartesian plane. Note that there is alot in that left hand side, so we will construct an interim variable for that: "
   ]
  },
  {
   "cell_type": "code",
   "execution_count": 208,
   "metadata": {},
   "outputs": [
    {
     "data": {
      "text/latex": [
       "$\\displaystyle \\frac{\\left(- l \\left(- k + y\\right) + m \\left(- h + x\\right)\\right)^{2}}{b^{2}} + \\frac{\\left(l \\left(- h + x\\right) + m \\left(- k + y\\right)\\right)^{2}}{a^{2}} = 1$"
      ],
      "text/plain": [
       "Eq((-l*(-k + y) + m*(-h + x))**2/b**2 + (l*(-h + x) + m*(-k + y))**2/a**2, 1)"
      ]
     },
     "execution_count": 208,
     "metadata": {},
     "output_type": "execute_result"
    }
   ],
   "source": [
    "l, m, x, y, h, k, a, b = sp.symbols('l, m, x, y, h, k, a, b')\n",
    "\n",
    "lhs = ((l*(x - h) + m* (y - k))**2)/a**2 + ((m*(x - h) - l* (y - k))**2)/b**2\n",
    "e1 = sp.Eq(lhs, 1)\n",
    "e1\n"
   ]
  },
  {
   "cell_type": "markdown",
   "metadata": {},
   "source": [
    "Now let's get rid of the fractions and get everything to one side: "
   ]
  },
  {
   "cell_type": "code",
   "execution_count": 276,
   "metadata": {},
   "outputs": [
    {
     "data": {
      "text/latex": [
       "$\\displaystyle - a^{2} b^{2} + a^{2} h^{2} m^{2} - 2 a^{2} h k l m + 2 a^{2} h l m y - 2 a^{2} h m^{2} x + a^{2} k^{2} l^{2} - 2 a^{2} k l^{2} y + 2 a^{2} k l m x + a^{2} l^{2} y^{2} - 2 a^{2} l m x y + a^{2} m^{2} x^{2} + b^{2} h^{2} l^{2} + 2 b^{2} h k l m - 2 b^{2} h l^{2} x - 2 b^{2} h l m y + b^{2} k^{2} m^{2} - 2 b^{2} k l m x - 2 b^{2} k m^{2} y + b^{2} l^{2} x^{2} + 2 b^{2} l m x y + b^{2} m^{2} y^{2} = 0$"
      ],
      "text/plain": [
       "Eq(-a**2*b**2 + a**2*h**2*m**2 - 2*a**2*h*k*l*m + 2*a**2*h*l*m*y - 2*a**2*h*m**2*x + a**2*k**2*l**2 - 2*a**2*k*l**2*y + 2*a**2*k*l*m*x + a**2*l**2*y**2 - 2*a**2*l*m*x*y + a**2*m**2*x**2 + b**2*h**2*l**2 + 2*b**2*h*k*l*m - 2*b**2*h*l**2*x - 2*b**2*h*l*m*y + b**2*k**2*m**2 - 2*b**2*k*l*m*x - 2*b**2*k*m**2*y + b**2*l**2*x**2 + 2*b**2*l*m*x*y + b**2*m**2*y**2, 0)"
      ]
     },
     "execution_count": 276,
     "metadata": {},
     "output_type": "execute_result"
    }
   ],
   "source": [
    "e2 = sp.Eq(e1.lhs * b**2, e1.rhs * b**2)\n",
    "e3 = sp.Eq(e2.lhs * a**2, e2.rhs * a**2)\n",
    "e4 = e3.expand()\n",
    "e5 = sp.Eq(e4.lhs - a**2 * b**2, e4.rhs - a**2 * b**2)\n",
    "e5"
   ]
  },
  {
   "cell_type": "markdown",
   "metadata": {},
   "source": [
    "From there, we want to isolate the coeffiencits to ge it into the form. THis can be a bit of a laborious process, so we would need to get into the form: "
   ]
  },
  {
   "cell_type": "code",
   "execution_count": 277,
   "metadata": {},
   "outputs": [],
   "source": [
    "# e5 = sp.Eq(e4.lhs.collect(x*y), e4.rhs)\n",
    "# e5"
   ]
  },
  {
   "cell_type": "markdown",
   "metadata": {},
   "source": [
    "And then we would need to take that out of the equation. "
   ]
  },
  {
   "cell_type": "code",
   "execution_count": 286,
   "metadata": {},
   "outputs": [],
   "source": [
    "def get_coefficients(term_list, e):\n",
    "    coeff_list = []\n",
    "    \n",
    "    for each_term in term_list:\n",
    "        e3 = e4.lhs.collect(each_term)\n",
    "        print(e3)\n",
    "    "
   ]
  },
  {
   "cell_type": "code",
   "execution_count": 320,
   "metadata": {},
   "outputs": [],
   "source": [
    "e6 = e5.lhs.collect(x * y)"
   ]
  },
  {
   "cell_type": "code",
   "execution_count": 326,
   "metadata": {},
   "outputs": [
    {
     "data": {
      "text/latex": [
       "$\\displaystyle - 2 a^{2} l m + 2 b^{2} l m$"
      ],
      "text/plain": [
       "-2*a**2*l*m + 2*b**2*l*m"
      ]
     },
     "execution_count": 326,
     "metadata": {},
     "output_type": "execute_result"
    }
   ],
   "source": [
    "# idea is to collect term, then get the coeff, then remove it from the list or \n",
    "# args\n",
    "r = [argi for argi in e6.args if argi.has(x*y)]\n",
    "r[0].coeff(x * y)"
   ]
  },
  {
   "cell_type": "code",
   "execution_count": 297,
   "metadata": {},
   "outputs": [
    {
     "data": {
      "text/plain": [
       "True"
      ]
     },
     "execution_count": 297,
     "metadata": {},
     "output_type": "execute_result"
    }
   ],
   "source": [
    "[i + 1 for i in range]"
   ]
  },
  {
   "cell_type": "code",
   "execution_count": 287,
   "metadata": {},
   "outputs": [
    {
     "name": "stdout",
     "output_type": "stream",
     "text": [
      "a**2*h**2*m**2 - 2*a**2*h*k*l*m + 2*a**2*h*l*m*y - 2*a**2*h*m**2*x + a**2*k**2*l**2 - 2*a**2*k*l**2*y + 2*a**2*k*l*m*x + a**2*l**2*y**2 + a**2*m**2*x**2 + b**2*h**2*l**2 + 2*b**2*h*k*l*m - 2*b**2*h*l**2*x - 2*b**2*h*l*m*y + b**2*k**2*m**2 - 2*b**2*k*l*m*x - 2*b**2*k*m**2*y + b**2*l**2*x**2 + b**2*m**2*y**2 + x*y*(-2*a**2*l*m + 2*b**2*l*m)\n",
      "a**2*h**2*m**2 - 2*a**2*h*k*l*m + 2*a**2*h*l*m*y + a**2*k**2*l**2 - 2*a**2*k*l**2*y + a**2*l**2*y**2 + b**2*h**2*l**2 + 2*b**2*h*k*l*m - 2*b**2*h*l*m*y + b**2*k**2*m**2 - 2*b**2*k*m**2*y + b**2*m**2*y**2 + x**2*(a**2*m**2 + b**2*l**2) + x*(-2*a**2*h*m**2 + 2*a**2*k*l*m - 2*a**2*l*m*y - 2*b**2*h*l**2 - 2*b**2*k*l*m + 2*b**2*l*m*y)\n"
     ]
    }
   ],
   "source": [
    "get_coefficients([x * y, x], e5)"
   ]
  },
  {
   "cell_type": "code",
   "execution_count": 289,
   "metadata": {},
   "outputs": [],
   "source": [
    "#### JG - idea here is to iterativy move through expessino and remove hwat has\n",
    "# been collected"
   ]
  },
  {
   "cell_type": "markdown",
   "metadata": {},
   "source": [
    "In a much earlier section we looked at the ellipse from a parametric point fo view, and we can note that the parametrization of the ellipse $ \\frac{x^2}{a^2}+\\frac{y^2}{b^2}=1 $ can be given by \n",
    "$$ e(t)=\\left[a\\frac{1-t^2}{1+t^2}, b\\frac{2t}{1+t^2}\\right]. $$\n",
    "\n",
    "Lets finish this section off with one multipart proof: "
   ]
  },
  {
   "cell_type": "markdown",
   "metadata": {},
   "source": [
    "<div style=\"background:gray; color:white; padding: 10px\">\n",
    "    <h4>Proof 5.1.19</h4>\n",
    "    <i>Proposition:</i><br/> \n",
    "    1. The paramatrization of the ellipse $\\frac{x^2}{a^2}+\\frac{y^2}{b^2}=1$ can be expressed as: \n",
    "    $$ e(t)=\\left[a\\frac{1-t^2}{1+t^2}, b\\frac{2t}{1+t^2}\\right]. $$\n",
    "    <br/>2.  If A=e(u) and B=e(t) are two points of the ellipse then the chord AB has the equation:\n",
    "    $$ (ab(tu+1):b(tu-1):-a(t+u)).$$\n",
    "    <br/>3.  If we take the equation of the chord in ii. and set u=t then we get $(ab(t^2+1):b(t^2-1):-2ta)$ then that this line qualifies to be called the tangent to the ellipse at A since in addition it only meets the ellipse at one point\n",
    "    <br/>\n",
    "    <br/><i>Proof:</i>\n",
    "    <br/><b>Step x:</b> \n",
    "    <br/><b>Step x:</b>\n",
    "    <br/><b>Step x:</b> \n",
    "    <br/><b>Step x:</b> \n",
    "    <br/><b>Step x:</b> \n",
    "    <br/><b>Step x:</b> \n",
    "    <br/><b>Step x:</b> \n",
    "    <br/><b>Step x:</b> \n",
    "    <br/><b>Step x:</b> \n",
    "    <br/><b>Step x:</b> \n",
    "    <br/><b>Step x:</b> \n",
    "    <br/><b>Step x:</b> \n",
    "\n",
    "    <br/><b>Step x: </b> asdfasdf\n",
    "    <br/><i>Related name:</i><br/> Parametrization of an ellipse\n",
    "    <br/><i>References</i>\n",
    "    <br/><i>Ref. 1:</i> The defining \n",
    "\n",
    "\n",
    "</div>"
   ]
  },
  {
   "cell_type": "markdown",
   "metadata": {},
   "source": [
    "<b>The emerging picture</b>"
   ]
  },
  {
   "cell_type": "markdown",
   "metadata": {},
   "source": [
    "It must feels like its slow going on conics. But we are slowly buildnig up differnt compeltely views,  building up, and using it as a way to develop uor proofs. seeing that conic sections have some knid of of connection, the complexity of location, and generalisation of construction, if we can see different types of structures as being generalisations. \n",
    "\n",
    "Also, across differential geometry more broadly, these quadratic structures will provide a pivotal part\n",
    "\n",
    "We are not concerned interrelationshpi between focus and directrix, and general equation. \n",
    "\n",
    "We have also explored tranlsation. \n",
    "We have also generalised focus and directerix and explored\n",
    "\n",
    "As a visual analoge, we are constructing hyperbolas and can arbitrarily move them, we will need to this to make sense of what come\n",
    "\n",
    "At this time to we need start thinking more carefully about our code base that accomanpanies this owrk\n",
    "\n",
    "<b>Next time...</b>\n",
    "\n",
    "We will keep on going and expand our understanding gradually, and carefully, and spend some more time on hyperbolas before mocing on The conic section, extends ot parabolas and, become critical for us as we use these generalised shapes\n"
   ]
  },
  {
   "cell_type": "code",
   "execution_count": null,
   "metadata": {},
   "outputs": [],
   "source": []
  }
 ],
 "metadata": {
  "kernelspec": {
   "display_name": "SageMath 9.0",
   "language": "sage",
   "name": "sagemath"
  },
  "language_info": {
   "codemirror_mode": {
    "name": "ipython",
    "version": 3
   },
   "file_extension": ".py",
   "mimetype": "text/x-python",
   "name": "python",
   "nbconvert_exporter": "python",
   "pygments_lexer": "ipython3",
   "version": "3.7.3"
  }
 },
 "nbformat": 4,
 "nbformat_minor": 4
}
