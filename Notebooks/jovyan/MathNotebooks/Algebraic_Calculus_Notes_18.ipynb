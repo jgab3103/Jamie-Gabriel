{
 "cells": [
  {
   "cell_type": "code",
   "execution_count": 1,
   "metadata": {},
   "outputs": [],
   "source": [
    "import numpy as np\n",
    "import sympy as sp\n",
    "import shared_functions as sf\n",
    "from IPython.display import HTML\n",
    "import ipywidgets as widgets\n",
    "import matplotlib as mpl\n",
    "from mpl_toolkits.mplot3d import Axes3D\n",
    "import matplotlib.pyplot as plt\n",
    "mpl.rcParams['legend.fontsize'] = 10"
   ]
  },
  {
   "cell_type": "code",
   "execution_count": 109,
   "metadata": {},
   "outputs": [],
   "source": [
    "def format_axis_for_plot(ax, latex_label, x_lim, y_lim):\n",
    "    ax.grid()\n",
    "    ax.spines['left'].set_position(('data', 0.0))\n",
    "    ax.spines['bottom'].set_position(('data', 0.0))\n",
    "    ax.spines['top'].set_visible(False)\n",
    "    ax.spines['right'].set_visible(False)\n",
    "    ax.set_xlim([-x_lim, x_lim])\n",
    "    ax.set_ylim([-y_lim, y_lim])\n",
    "    ax.set_title(latex_label)\n",
    "    \n",
    "    return(ax)"
   ]
  },
  {
   "cell_type": "markdown",
   "metadata": {},
   "source": [
    "In the last notebook, we examined Hypterbolas, and bringing our study of conic sections of antiquity, moving to a more modern pont of view. This really begins with Cartesiang corrdinates and the idea of associating equtino in x and y with locus of points. \n",
    "\n",
    "This has some interesting ramifciations - linear equations, some visualised as lines, $3x-4y=7$, quadratices represe $ x^2-2xy+3y^2-5x=7$ represented conic sections.\n",
    "\n",
    "We have also seen the general curve that can be expressed as: $ax^2+bxy+cy^2+dx+fy+g=0$ - also p0werful in relationsip between these types of theorems that we were set up could now be proved algebraically. \n",
    "\n",
    "IN the 17th Century, move beyond quadratic curves, to cubic curves. Just as we can try and categorise quadratic, we can also look towards categorising cubic curves, Newton tried to \n",
    "\n",
    "Normal form is $y^2 = ax^3 + bx^2 + cx + d$, but also elliptic cubic, nodal cupbic, cuspidal cubic, semicubical parabola, Folium of Descartsa and Fermat\n",
    "\n",
    "Also, mechanically generated curve, Clycoid of Mersenne in 1615 and also usual sine curve (auxiliary curve associated to teh cycloid. \n",
    "\n",
    "Also characterised by move from curves to functinos, Euler introudced idea of $y = f(x)$, usually meaning a polynomical. \n",
    "\n",
    "What this says curves are complicated, and we need to be very careful how we work with them"
   ]
  },
  {
   "cell_type": "markdown",
   "metadata": {},
   "source": [
    "So where sould we start to "
   ]
  }
 ],
 "metadata": {
  "kernelspec": {
   "display_name": "SageMath 9.0",
   "language": "sage",
   "name": "sagemath"
  },
  "language_info": {
   "codemirror_mode": {
    "name": "ipython",
    "version": 3
   },
   "file_extension": ".py",
   "mimetype": "text/x-python",
   "name": "python",
   "nbconvert_exporter": "python",
   "pygments_lexer": "ipython3",
   "version": "3.7.3"
  }
 },
 "nbformat": 4,
 "nbformat_minor": 4
}
