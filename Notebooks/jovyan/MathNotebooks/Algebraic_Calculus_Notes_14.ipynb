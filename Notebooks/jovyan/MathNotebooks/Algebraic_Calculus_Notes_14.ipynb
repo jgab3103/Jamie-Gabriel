{
 "cells": [
  {
   "cell_type": "code",
   "execution_count": 1,
   "metadata": {},
   "outputs": [],
   "source": [
    "import numpy as np\n",
    "import sympy as sp\n",
    "import shared_functions as sf\n",
    "from IPython.display import HTML\n",
    "import matplotlib.pyplot as plt\n",
    "import ipywidgets as widgets"
   ]
  },
  {
   "cell_type": "markdown",
   "metadata": {},
   "source": [
    "IN the last notebooks we introduced the idea of a derivatie and integral. Note that we have done so following Falhaber, the appearance of a pattern and the sugesttion that this structure matters, in the same way as we introduced, the determinant is useful structure that appears often. \n",
    "\n",
    "Introudcing this algebraically has allowed us to sidestep usual complexity. But at teh same timeLet's turn back to now to understand what a curve is. And defininng a curve is actually very difficult. We have dealt with it to and extent with polygonal splines, and, approxmiation, \n",
    "\n",
    "In this notebook we will look back to provide some context around algebraically presenting these curves frmo antiquity and also especially in context. There is a lovely chapter on conics in the Precalculus text and this weill allow us to make contact with this"
   ]
  },
  {
   "cell_type": "markdown",
   "metadata": {},
   "source": [
    "Let's start by understanding a definition of circle. "
   ]
  },
  {
   "cell_type": "markdown",
   "metadata": {},
   "source": [
    "<div style=\"background:gray; color:white; padding: 10px\">\n",
    "\n",
    "<h4>Formal Definition 4.4.3</h4>\n",
    "<i>Proposition:</i><br/> A circle is determined by a a point $C = [r, s]$, $x$ and $y$ called the centre and a number $K$ called the quadrance and can be defined as: \n",
    "    \n",
    "$$  (x-r)^2+(y-s)^2=K  $$\n",
    "    \n",
    "or equivalently\n",
    "    \n",
    "$$ x^2+y^2-2rx-2sy+r^2+s^2-K=0. $$\n",
    "    \n",
    "The variable point $X=[x,y] $ is incident with $c$ pricely when \n",
    "    \n",
    "$$  Q(X,C)=K. $$\n",
    "\n",
    "\n",
    "    \n",
    "\n",
    "\n",
    "<br/><i>Related name:</i><br/> Algebraic definition of a circle\n",
    "<br/><i>Ref. 1:</i> The defining properties of the quadratic equation are that there is no xy term, and that the coefficients of the x^2 and y^2 terms are equal and non-zero.\n",
    "\n",
    "\n",
    "</div>"
   ]
  },
  {
   "cell_type": "markdown",
   "metadata": {},
   "source": [
    "Note of course, there is nothing visual about this definition. We have already established an algebraic way of working, and we could choose whichever combinations of algebraic we migth imagine that would be consistent. Here we are elevating this combination, and giving it some names.  and it is possible to create sybmbols and use operations in the above way. Set of constraints. \n",
    "\n",
    "Let's start by just checking the above expansion: "
   ]
  },
  {
   "cell_type": "code",
   "execution_count": 52,
   "metadata": {},
   "outputs": [
    {
     "data": {
      "text/latex": [
       "$\\displaystyle \\left(- r + x\\right)^{2} + \\left(- s + y\\right)^{2} = K$"
      ],
      "text/plain": [
       "Eq((-r + x)**2 + (-s + y)**2, K)"
      ]
     },
     "execution_count": 52,
     "metadata": {},
     "output_type": "execute_result"
    }
   ],
   "source": [
    "x, y, r, s, K = sp.symbols('x, y, r, s, K')\n",
    "e1 = sp.Eq(((x - r)**2 + (y - s)**2 ), K)\n",
    "e1"
   ]
  },
  {
   "cell_type": "code",
   "execution_count": 4,
   "metadata": {},
   "outputs": [
    {
     "data": {
      "text/latex": [
       "$\\displaystyle r^{2} - 2 r x + s^{2} - 2 s y + x^{2} + y^{2} = K$"
      ],
      "text/plain": [
       "Eq(r**2 - 2*r*x + s**2 - 2*s*y + x**2 + y**2, K)"
      ]
     },
     "execution_count": 4,
     "metadata": {},
     "output_type": "execute_result"
    }
   ],
   "source": [
    "e1.expand()"
   ]
  },
  {
   "cell_type": "markdown",
   "metadata": {},
   "source": [
    "So this all works with Python. Now let's create a function to take values for the variables and return an equation: "
   ]
  },
  {
   "cell_type": "code",
   "execution_count": 5,
   "metadata": {},
   "outputs": [],
   "source": [
    "def create_equation_of_circle(x, y, r, s, K):\n",
    "    return(sp.Eq((x - r)^2 + (y - s)^2, K))\n",
    "    #return(sp.Eq(x**2 + y **2 - 2 * r * x - 2 * s * y + r**2 + s**2 - K, 0))\n"
   ]
  },
  {
   "cell_type": "markdown",
   "metadata": {},
   "source": [
    "We will provide some values, and we get an equation back. "
   ]
  },
  {
   "cell_type": "code",
   "execution_count": 6,
   "metadata": {},
   "outputs": [
    {
     "data": {
      "text/latex": [
       "$\\displaystyle \\left(- r + x\\right)^{2} + \\left(- s + y\\right)^{2} = K$"
      ],
      "text/plain": [
       "Eq((-r + x)**2 + (-s + y)**2, K)"
      ]
     },
     "execution_count": 6,
     "metadata": {},
     "output_type": "execute_result"
    }
   ],
   "source": [
    "e2 = create_equation_of_circle(x, y, r, s, K)\n",
    "e2"
   ]
  },
  {
   "cell_type": "markdown",
   "metadata": {},
   "source": [
    "Or we can try with some numbers"
   ]
  },
  {
   "cell_type": "code",
   "execution_count": 7,
   "metadata": {},
   "outputs": [
    {
     "data": {
      "text/latex": [
       "$\\displaystyle \\left(x - 4\\right)^{2} + \\left(y - 2\\right)^{2} = 25$"
      ],
      "text/plain": [
       "Eq((x - 4)**2 + (y - 2)**2, 25)"
      ]
     },
     "execution_count": 7,
     "metadata": {},
     "output_type": "execute_result"
    }
   ],
   "source": [
    "e3 = create_equation_of_circle(x, y, 4, 2, 25)\n",
    "e3"
   ]
  },
  {
   "cell_type": "markdown",
   "metadata": {},
   "source": [
    "While there is nothing visual about this, it would also be nice to verfiy that this has some kind of visual analoge. This is a little different to he paramaterisation we saw and involves some square roots which can make it a little complexet's solve this in Python. \n",
    "\n",
    "To do this I am going to create a small helper function to let me do some step by step manipulation of an equation, and just have a lot more control. It's rare that you would want to do this, but it seems handy: "
   ]
  },
  {
   "cell_type": "code",
   "execution_count": 8,
   "metadata": {},
   "outputs": [],
   "source": [
    "def step_manipulate_equation(lhs, rhs, operation, expression = \"\"):\n",
    "    if operation == \"add\":\n",
    "        return sp.Eq(lhs + expression, rhs + expression)\n",
    "    elif operation == \"sub\":\n",
    "        return sp.Eq(lhs - expression, rhs - expression)\n",
    "    elif operation == \"sqrt\":\n",
    "        return sp.Eq(sp.sqrt(lhs), sp.sqrt(rhs))\n",
    "    elif operation == \"remove_abs\":\n",
    "        lhs_abs_removed = lhs.args[0]\n",
    "        return([sp.Eq(lhs_abs_removed, rhs),sp.Eq(lhs_abs_removed, -rhs) ])"
   ]
  },
  {
   "cell_type": "markdown",
   "metadata": {},
   "source": [
    "Let's set up the equation again. Note also that I am going to put a condition on y when I create it, just so I can manipulate things: "
   ]
  },
  {
   "cell_type": "code",
   "execution_count": 9,
   "metadata": {},
   "outputs": [
    {
     "data": {
      "text/latex": [
       "$\\displaystyle \\left(x - 4\\right)^{2} + \\left(y - 2\\right)^{2} = 25$"
      ],
      "text/plain": [
       "Eq((x - 4)**2 + (y - 2)**2, 25)"
      ]
     },
     "execution_count": 9,
     "metadata": {},
     "output_type": "execute_result"
    }
   ],
   "source": [
    "x, r, s, K = sp.symbols('x, r, s, K')\n",
    "y = sp.symbols('y', positive = True)\n",
    "e3 = create_equation_of_circle(x, y, 4, 2, 25)\n",
    "e3"
   ]
  },
  {
   "cell_type": "markdown",
   "metadata": {},
   "source": [
    "Get y on on one side:"
   ]
  },
  {
   "cell_type": "code",
   "execution_count": 10,
   "metadata": {},
   "outputs": [
    {
     "data": {
      "text/latex": [
       "$\\displaystyle \\left(y - 2\\right)^{2} = 25 - \\left(x - 4\\right)^{2}$"
      ],
      "text/plain": [
       "Eq((y - 2)**2, 25 - (x - 4)**2)"
      ]
     },
     "execution_count": 10,
     "metadata": {},
     "output_type": "execute_result"
    }
   ],
   "source": [
    "e4 = step_manipulate_equation(e3.lhs, e3.rhs, \"sub\", (x - 4)**2)\n",
    "e4"
   ]
  },
  {
   "cell_type": "markdown",
   "metadata": {},
   "source": [
    "Now square root both sides: "
   ]
  },
  {
   "cell_type": "code",
   "execution_count": 11,
   "metadata": {},
   "outputs": [
    {
     "data": {
      "text/latex": [
       "$\\displaystyle \\left|{y - 2}\\right| = \\sqrt{25 - \\left(x - 4\\right)^{2}}$"
      ],
      "text/plain": [
       "Eq(Abs(y - 2), sqrt(25 - (x - 4)**2))"
      ]
     },
     "execution_count": 11,
     "metadata": {},
     "output_type": "execute_result"
    }
   ],
   "source": [
    "e5 = step_manipulate_equation(e4.lhs, e4.rhs, \"sqrt\")\n",
    "e5"
   ]
  },
  {
   "cell_type": "markdown",
   "metadata": {},
   "source": [
    "Now remove that absolute value. Note when we do this we get two equations: "
   ]
  },
  {
   "cell_type": "code",
   "execution_count": 12,
   "metadata": {},
   "outputs": [
    {
     "data": {
      "text/latex": [
       "$\\displaystyle y - 2 = \\sqrt{25 - \\left(x - 4\\right)^{2}}$"
      ],
      "text/plain": [
       "Eq(y - 2, sqrt(25 - (x - 4)**2))"
      ]
     },
     "execution_count": 12,
     "metadata": {},
     "output_type": "execute_result"
    }
   ],
   "source": [
    "e6 = step_manipulate_equation(e5.lhs, e5.rhs, \"remove_abs\")\n",
    "e6[0]"
   ]
  },
  {
   "cell_type": "code",
   "execution_count": 13,
   "metadata": {},
   "outputs": [
    {
     "data": {
      "text/latex": [
       "$\\displaystyle y - 2 = - \\sqrt{25 - \\left(x - 4\\right)^{2}}$"
      ],
      "text/plain": [
       "Eq(y - 2, -sqrt(25 - (x - 4)**2))"
      ]
     },
     "execution_count": 13,
     "metadata": {},
     "output_type": "execute_result"
    }
   ],
   "source": [
    "e6[1]"
   ]
  },
  {
   "cell_type": "markdown",
   "metadata": {},
   "source": [
    "And solve for y, again leaving us with two equations: "
   ]
  },
  {
   "cell_type": "code",
   "execution_count": 14,
   "metadata": {},
   "outputs": [
    {
     "data": {
      "text/latex": [
       "$\\displaystyle y = \\sqrt{25 - \\left(x - 4\\right)^{2}} + 2$"
      ],
      "text/plain": [
       "Eq(y, sqrt(25 - (x - 4)**2) + 2)"
      ]
     },
     "execution_count": 14,
     "metadata": {},
     "output_type": "execute_result"
    }
   ],
   "source": [
    "e7 = step_manipulate_equation(e6[0].lhs, e6[0].rhs, 'add', 2)\n",
    "e7"
   ]
  },
  {
   "cell_type": "code",
   "execution_count": 15,
   "metadata": {},
   "outputs": [
    {
     "data": {
      "text/latex": [
       "$\\displaystyle y = 2 - \\sqrt{25 - \\left(x - 4\\right)^{2}}$"
      ],
      "text/plain": [
       "Eq(y, 2 - sqrt(25 - (x - 4)**2))"
      ]
     },
     "execution_count": 15,
     "metadata": {},
     "output_type": "execute_result"
    }
   ],
   "source": [
    "e8 = step_manipulate_equation(e6[1].lhs, e6[1].rhs, 'add', 2)\n",
    "e8"
   ]
  },
  {
   "cell_type": "markdown",
   "metadata": {},
   "source": [
    "Finally, let's plot some values. Notice the domain here. I choose values below  -2 or above 10, otherwise would get negative square root and if I am not working with real numbers, we can't resolve. We are not dealing with complex numbers as yet. Even the radical itself provides "
   ]
  },
  {
   "cell_type": "code",
   "execution_count": 85,
   "metadata": {},
   "outputs": [
    {
     "data": {
      "text/plain": [
       "[<matplotlib.lines.Line2D object at 0x7f8d35509048>]"
      ]
     },
     "execution_count": 85,
     "metadata": {},
     "output_type": "execute_result"
    },
    {
     "data": {
      "image/png": "[encoded data removed]",
      "text/plain": [
       "<Figure size 432x288 with 1 Axes>"
      ]
     },
     "metadata": {},
     "output_type": "display_data"
    }
   ],
   "source": [
    "x_values = np.arange(-1, 9, 0.01)\n",
    "y1 = [e7.rhs.subs(x, x_values[i]) for i in range(len(x_values))]\n",
    "y2 = [e8.rhs.subs(x, x_values[i]) for i in range(len(x_values))]\n",
    "\n",
    "fig, ax = plt.subplots()\n",
    "ax.axis('equal')\n",
    "ax.plot(x_values, y1, 'b')\n",
    "ax.plot(x_values, y2, 'b')"
   ]
  },
  {
   "cell_type": "markdown",
   "metadata": {},
   "source": [
    "So I certainly get something that looks like a circle. But it also challenges, should we really call this thing a circle? I am never going to get those final points. A constrained set of points this equation that I call a circle is not some infinite set of points, rather that it is really constrained and it's important to keep this in mind"
   ]
  },
  {
   "cell_type": "markdown",
   "metadata": {},
   "source": [
    "Its worth noting that in many cases, these equation won't look like this form but can be dealth with, so for example  $x^2+y^2-6x+2y-3=0$, we can complete the square and solve to $(x-3)^2+(y+1)^2=13$\n",
    "\n",
    "IN gneral, if we allow for the fact that  quadratic equation are that there is no xy term, and that the coefficients of the x2 and y2 terms are equal and non-zero.\n",
    "\n",
    "Note that if If we have a quadratic equation with no xy term, and with the coefficients of the x2 and y2 terms equal and non-zero, then after dividing by that common coefficient, it has the form\n",
    "\n",
    "$$ x^2+y^2-2rx-2sy+m=0 $$\n",
    "\n",
    "\n",
    "for some numbers r,s and m. Then we complete the square to rewrite this as\n",
    "\n",
    "$$(x-r)^2+(y-s)^2+m-r^2-s^2=0 $$\n",
    "\n",
    "which by the identity we have created, is a circle with centre $[r,s]$ and quadrance $K=r^2+s^2-m$"
   ]
  },
  {
   "cell_type": "markdown",
   "metadata": {},
   "source": [
    "<div style=\"background:#99ddff; color:black; padding: 10px\">\n",
    "<b>Add to these notes:</b>\n",
    "\n",
    "Completing the squares is a simple operation and one that comes up up alot. But what if we wanted to implement this in python Sympy. Its actually a little difficult, we could of course break up more any thing to one side, then break up. \n",
    "    \n",
    "</div>"
   ]
  },
  {
   "cell_type": "markdown",
   "metadata": {},
   "source": [
    "Let's look at an interesting  example to consider is the following \n",
    " $$ x^2+y^2+4x+1=0 $$\n",
    " \n",
    "We can follow the standard strategy to complete the squares in order to get it itnot form here of course, and get \n",
    "$$  (x+2)^2+y^2=3 $$\n",
    "\n",
    "When we do so, we will get a circle with a centre of $C = [-2,0]$ and a quadrance of 3, or radius as $\\sqrt{3}$. \n",
    "\n",
    "Let's considder this in context of Fermat's theorom on sums o2 squares which states that an odd prime, $p$ can be extpressed as \n",
    "\n",
    "$$ p = n^2 + m^2 $$ with m, n integers precicely when $p\\equiv 1 \\pmod {4}$\n",
    "\n",
    "Note also that if an integer is the sum of two rational squares then it is a sum of two integer squares. So if it is not a sum of two integer squares, then it is not the sum of two rational squares.Since $3\\not\\equiv 1 \\pmod {4}$ , it follows that there are no rational numbers r and s satisfying $r^2+s^2=3$. \n",
    "\n",
    "Thus this circle also has no points lying on it. The appearance of a circle, and point joins two lines, but the circle is not a proper structure.  \n",
    "\n",
    "Let's just include a furhter proof before the we move to consider a conic\n",
    " \n",
    " \n",
    " "
   ]
  },
  {
   "cell_type": "markdown",
   "metadata": {},
   "source": [
    "<div style=\"background:gray; color:white; padding: 10px\">\n",
    "\n",
    "<h4>Proof 5.1.3</h4>\n",
    "<i>Proposition:</i><br/> The centre and quadrance of a circle are unique.\n",
    "\n",
    "\n",
    "<br/><b>Step x:</b> Let $x, y, r, s, r_1, s_1, K$ and $K_1$ be integers \n",
    "<br/><b>Step x:</b> Let $c$ be a circle denoted as\n",
    "$$ c:\\, (x-r)^2+(y-s)^2=K $$\n",
    "<br/><b>Step x:</b> Let $c_1$ be a circle denoted as\n",
    "$$c_1:\\, (x-r_1)^2+(y-s_1)^2=K_1$$\n",
    "<br/><b>Step x:</b> Manipulate by subtracting $c_1$ from $c$\n",
    "$$2(r_1-r)x+r^2-r_1^2+2(s_1-s)y+s^2-s_1^2=K-K_1.$$\n",
    "<br/><b>Step x:</b> From this identity of polynomials, we conclude that $r_1=r$, $s_1=s$, and that $K_1=K$.\n",
    "    \n",
    "   \n",
    "\n",
    "    \n",
    "\n",
    "\n",
    "    \n",
    "\n",
    "\n",
    "<br/><i>Related name:</i><br/> Algebraic definition of a circle\n",
    "<br/><i>Ref. 1:</i> The defining properties of the quadratic equation are that there is no xy term, and that the coefficients of the x^2 and y^2 terms are equal and non-zero.\n",
    "\n",
    "\n",
    "</div>"
   ]
  },
  {
   "cell_type": "markdown",
   "metadata": {},
   "source": [
    "<h4>Conic Sections</h4>\n",
    "\n",
    "We know come to a critical part of  visual standpoint, we encounter straight lines, circles, parabola, ellipse, hyperbola and cone. it is useful in studying 3D geometry which has wide applications. Allows us to think of a foundational general approach "
   ]
  },
  {
   "cell_type": "code",
   "execution_count": 89,
   "metadata": {},
   "outputs": [
    {
     "data": {
      "text/plain": [
       "pi"
      ]
     },
     "execution_count": 89,
     "metadata": {},
     "output_type": "execute_result"
    }
   ],
   "source": []
  },
  {
   "cell_type": "code",
   "execution_count": null,
   "metadata": {},
   "outputs": [],
   "source": []
  },
  {
   "cell_type": "code",
   "execution_count": 86,
   "metadata": {},
   "outputs": [
    {
     "data": {
      "text/plain": [
       "Text(0.5,0,'z label')"
      ]
     },
     "execution_count": 86,
     "metadata": {},
     "output_type": "execute_result"
    },
    {
     "data": {
      "image/png": "[encoded data removed]",
      "text/plain": [
       "<Figure size 432x288 with 1 Axes>"
      ]
     },
     "metadata": {},
     "output_type": "display_data"
    }
   ],
   "source": [
    "from mpl_toolkits.mplot3d import axes3d\n",
    "from matplotlib import patches\n",
    "import matplotlib.pyplot as plt\n",
    "import numpy as np\n",
    "\n",
    "fig = plt.figure()\n",
    "ax = fig.add_subplot(111,projection='3d')\n",
    "\n",
    "theta = np.linspace(0,2*np.pi,90)\n",
    "r = np.linspace(0,5,50)\n",
    "T, R = np.meshgrid(theta, r)\n",
    "\n",
    "X = R * np.cos(T)\n",
    "Y = R * np.sin(T)\n",
    "Z = np.sqrt(X**2 + Y**2) - 1\n",
    "\n",
    "\n",
    "ax.plot_wireframe(X, Y, Z, alpha = 0.2)\n",
    "ax.set_xlabel(\"x label\")\n",
    "ax.set_ylabel(\"y label\")\n",
    "ax.set_zlabel(\"z label\")\n"
   ]
  },
  {
   "cell_type": "code",
   "execution_count": null,
   "metadata": {},
   "outputs": [],
   "source": []
  }
 ],
 "metadata": {
  "kernelspec": {
   "display_name": "SageMath 9.0",
   "language": "sage",
   "name": "sagemath"
  },
  "language_info": {
   "codemirror_mode": {
    "name": "ipython",
    "version": 3
   },
   "file_extension": ".py",
   "mimetype": "text/x-python",
   "name": "python",
   "nbconvert_exporter": "python",
   "pygments_lexer": "ipython3",
   "version": "3.7.3"
  }
 },
 "nbformat": 4,
 "nbformat_minor": 4
}
