{
 "cells": [
  {
   "cell_type": "code",
   "execution_count": 2,
   "metadata": {},
   "outputs": [],
   "source": [
    "import numpy as np\n",
    "import sympy as sp\n",
    "import shared_functions as sf\n",
    "from IPython.display import HTML\n",
    "import matplotlib.pyplot as plt"
   ]
  },
  {
   "cell_type": "markdown",
   "metadata": {},
   "source": [
    "### Introduction \n",
    "\n",
    "The prupose of these notes is to provide the nesc context and background to work with machine intelligence problems. That said, they Linear Algebra, Calculus, Logic, Rational Trigonometry, Differential Geometry and Algebgraic topolog. The fact that they do so in this order suggests a different approach is being taken which is true. They are designed as companion notes for those interested in topics in machine intelligence (specifically HTM Theory) and Information theory. \n",
    "\n",
    "There is an underlying index (here) that provides detailed, breakdown \n",
    "\n",
    "This text is for the working mathematician. While thsi is my chosen domain, the approach to mathematics is very general, powerful ways to work. \n",
    "\n",
    "### Writing Style\n",
    "I will be taking two approaches to the writing of this book. The first style of this text will be as conversational as possible, work slowly through everything share code as we go in Python. Above all, the aim is to be make things readable and remove so much of the unneeded complexity that so often permeates of mathematical writing. \n",
    "\n",
    "I will approach the writting of proofs in a far more structured and will be written as specifications with limited number of keywords, and we will cover that in early secion on writing proofs. We will avoid language that is, as much as possible, and as such, proofs are dry, but the benefit. A sign of a great proof is that is boring to work through: just a long series of steps  easy to follow, so that any proofs can be implemented easily and followed by, and linear set of steps to work through\n",
    "\n",
    "\n",
    "### Pre-requisites\n",
    "\n",
    "These notes will assume that you have a background in basic mathematics - arithmetic, algebra and geometry. The best guide and best text I can recommend is the text, Precalculus -  Ph.D. Stitz, C and Zeager, J, Precalculus. As we work through of this we will move away from but will provide a strong basis in core areas of math. Much of this math we will revisit and move away from, transcendental functions, notions of area, but its important to be able to compare to more standard approaches. The section on conics in particular in this test \n",
    "\n",
    "### Sequencing\n",
    "\n",
    "I will adopt what might seem a non-standard approach. We will start with  Linear Algebra, and from there into Calculus. From there, we will move to a treatment fo rational trigonomety, projective geometry, hyperbolic geometry. The role of boolean logic, information theory, as extensions and applications\n",
    "\n",
    "Following NJW, this textbook will take rational view of number theory. \n",
    "\n",
    "Mathematics subjects will stay discrete, and interdisciplineary, mathematical point of view and Information theory will be seen as applications that extend the mathematics. \n",
    "\n",
    "### Code \n",
    "\n",
    "I will use code, Sage Python implementation, but also PDF and code. It assumes a basic understanding of Python but we will introduce things pretty carefully. Comfortable notebook. This notes will not assume you are working through examples with pencil and paper but will assume that you are writing code and trying different things. \n",
    "\n",
    "The HTM code will become more complicated but I will move slowly. A key driver in this text is to create \n",
    "\n",
    "As a mathematician, coder first discipline\n",
    "\n",
    "\n",
    "### How to work through these notes\n",
    "\n",
    "Math of course is something to needs to be done, not just read about. I always struggle with content. A long time ago I realised that to truly understand a topic, the best thing to do is right a textbook about it. The text is just as much as for the author as the reader. So I wuold encourage you to see these notes as <i>your</i> notes. Change the Python examples, format things a different way. Find ways to make things more understandable, seek clarity wherever possible. \n",
    "\n",
    "Along the way in these notes you will notice I have included many <i>Add to these notes</i> prompts. This can guide you with ideas on how to make them your own. Also, I often find in textbooks and tutorials that questions are really difficult and I find for me I want to slowly iterate through examples. So you will find the solutions are really geared towards that, gently exploring and extending ways that we can understand. \n",
    "\n",
    "The more you make your own version of these notes, the greater will be your understanding. \n",
    "\n",
    "\n",
    "### PDF\n",
    "There PDF version of these notes is really just about clean typesetting and having specific versions of the notes. It is probably better to work with the notebooks but I often like to have a hardcopy of the notes for easy reference (this may just be a generational thing)\n",
    "\n",
    "\n",
    "I hope you find these notes of value and they clarity complexity that exists in modern mathematics. "
   ]
  },
  {
   "cell_type": "code",
   "execution_count": null,
   "metadata": {},
   "outputs": [],
   "source": []
  }
 ],
 "metadata": {
  "kernelspec": {
   "display_name": "SageMath 9.0",
   "language": "sage",
   "name": "sagemath"
  },
  "language_info": {
   "codemirror_mode": {
    "name": "ipython",
    "version": 3
   },
   "file_extension": ".py",
   "mimetype": "text/x-python",
   "name": "python",
   "nbconvert_exporter": "python",
   "pygments_lexer": "ipython3",
   "version": "3.7.3"
  }
 },
 "nbformat": 4,
 "nbformat_minor": 4
}
