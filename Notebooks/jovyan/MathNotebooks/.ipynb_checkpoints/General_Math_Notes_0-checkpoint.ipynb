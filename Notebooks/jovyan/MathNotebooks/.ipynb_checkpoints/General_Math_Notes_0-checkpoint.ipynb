{
 "cells": [
  {
   "cell_type": "code",
   "execution_count": 1,
   "metadata": {},
   "outputs": [],
   "source": [
    "import numpy as np\n",
    "import sympy as sp\n",
    "import shared_functions as sf\n",
    "from IPython.display import HTML\n",
    "import matplotlib.pyplot as plt"
   ]
  },
  {
   "cell_type": "markdown",
   "metadata": {},
   "source": [
    "### Introduction \n",
    "\n",
    "The math notes have been compiled across Linear Algebra, Calculus, Topology, Logic and HTM THeory and Information Theory, bring toghter related discipline. Rethink some of the issues in mathematics, and in the fields of machine intelligence\n",
    "\n",
    "### Writing Style\n",
    "I will be taking two approaches to the writing of this book. The first  style of this text will be conversational as possible, share code as we go in Python. Readable. Math of course is something to be done, not just read about, so follow with Python examples, and different ways to explore the problems at hand. \n",
    "\n",
    "I will approach the writting of proofs in a far more structured and will be written as specifications with limited number of keywords, and we will cover that in early secion on writing proofs. We will avoid language that is, as much as possible, and as such, proofs are dry, but the benefit, easy to follow, so that any proofs can be implemented easily and followed by, and linear set of steps. \n",
    "\n",
    "\n",
    "### Pre-requisites\n",
    "\n",
    "These notes will assume that you have a background in basic mathematics - arithmetic, algebra and geometry. The best guide and best text I can recommend is the text, Precalculus -  Ph.D. Stitz, C and Zeager, J, Precalculus. As we work through of this we will move away from but will provide a strong basis in core areas of math. Much of this math we will revisit and move away from, transcendental functions, notions of area, but its important to be able to compare to more standard approaches. The section on conics in particular in this test \n",
    "\n",
    "### Sequencing\n",
    "\n",
    "I will adopt what might seem a non-standard approach. We will start with  Linear Algebra, and from there into Calculus. From there, we will move to a treatment fo rational trigonomety, projective geometry, hyperbolic geometry. The role of boolean logic, information theory, as extensions and applications\n",
    "\n",
    "Following NJW, this textbook will take rational view of number theory. \n",
    "\n",
    "Mathematics subjects will stay discrete, and interdisciplineary, mathematical point of view and Information theory will be seen as applications that extend the mathematics. \n",
    "\n",
    "### Code \n",
    "\n",
    "I will use code, Sage Python implementation, but also PDF and code. It assumes a basic understanding of Python but we will introduce things pretty carefully. Comfortable notebook. This notes will not assume you are working through examples with pencil and paper but will assume that you are writing code and trying different things. \n",
    "\n",
    "The HTM code will become more complicated but I will move slowly. A key driver in this text is to create \n",
    "\n",
    "\n",
    "### PDF\n",
    "There is no difference between the PDF and Python Files with the exception of cleaner typesetting in the PDF version"
   ]
  },
  {
   "cell_type": "code",
   "execution_count": null,
   "metadata": {},
   "outputs": [],
   "source": []
  }
 ],
 "metadata": {
  "kernelspec": {
   "display_name": "SageMath 9.0",
   "language": "sage",
   "name": "sagemath"
  },
  "language_info": {
   "codemirror_mode": {
    "name": "ipython",
    "version": 3
   },
   "file_extension": ".py",
   "mimetype": "text/x-python",
   "name": "python",
   "nbconvert_exporter": "python",
   "pygments_lexer": "ipython3",
   "version": "3.7.3"
  }
 },
 "nbformat": 4,
 "nbformat_minor": 4
}
