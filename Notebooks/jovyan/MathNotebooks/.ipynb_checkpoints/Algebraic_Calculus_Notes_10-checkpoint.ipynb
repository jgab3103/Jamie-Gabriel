{
 "cells": [
  {
   "cell_type": "markdown",
   "metadata": {},
   "source": [
    "<i>STATUS: Draft</i>"
   ]
  },
  {
   "cell_type": "code",
   "execution_count": 4,
   "metadata": {},
   "outputs": [],
   "source": [
    "import numpy as np\n",
    "import sympy as sp\n",
    "import shared_functions as sf\n",
    "from IPython.display import HTML\n",
    "import matplotlib.pyplot as plt\n",
    "import ipywidgets as widgets\n"
   ]
  },
  {
   "cell_type": "markdown",
   "metadata": {},
   "source": [
    "In the last notebook we extended our ideas of sums to look at Falbaur and Bernouli ainterprestation, we found a way to extend and a general formula formula proof of Bernoulli. We didn't proove the formula of Bernoulli nd we will return to that. We also found the relatinoship between sequence of sums of numbers and choose number of elements, at least in teh case of sum of integers. And this tells to be wary of \n",
    "\n",
    "Let's start with the idea of a Pascal Array. A pascal is a matrix and, for the $8 \\times 8$ case, it looks like the following: \n",
    "\n",
    "$$ P=\\left(\\begin{matrix} 1 & 0 & 0 & 0 & 0 &0&0&0\\\\ 1 & 1 & 0 & 0 & 0&0&0&0 \\\\ 1 & 2 & 1 & 0 & 0&0&0&0 \\\\ 1 & 3 & 3 & 1 & 0&0&0&0 \\\\ 1 & 4 & 6 & 4 & 1&0&0&0 \\\\ 1&5 &10&10&5&1&0&0 \\\\ 1&6&15&20&15&6&1&0 \\\\ 1&7&21&35&35&21&7&1\\end{matrix} \\right). $$\n",
    "\n"
   ]
  },
  {
   "cell_type": "markdown",
   "metadata": {},
   "source": [
    "OUr first challenge Our first challenge is how do we create a Pascal Array of arbitrary size. Generated y a rule where by if indexed by columms ($i$) and rows ($j$) it is possible to assing an index of of each entry into the array. For example in above, if go to third column and fourth row, the index being (3, 4) we have an entry in the array of $3$\n",
    "\n",
    "The first challenge we need to address is to define a function that will return a Pascal Array of a given size. We are going to use a rule where by the (i, j) entry is $\\binom{i}{j}=\\frac{i!}{j!(i-j)!}$, the binomial coefficent which we saw in the last notebook, which in this case is the number of ways we can choose $j$ things from a set of $n$ things. We start with an index, and the entry at the index is the binomial coeffeciant\n",
    "\n"
   ]
  },
  {
   "cell_type": "code",
   "execution_count": 35,
   "metadata": {},
   "outputs": [],
   "source": [
    "def compute_pascal_array(dimension_choice):\n",
    "    all_entries = []\n",
    "    for i in range(dimension_choice):\n",
    "        row_entries = []\n",
    "        for j in range(dimension_choice):\n",
    "            row_entries.append( sp.binomial(i, j))\n",
    "        all_entries.append(row_entries)\n",
    "    \n",
    "    return(sp.Matrix(all_entries))\n",
    "    "
   ]
  },
  {
   "cell_type": "code",
   "execution_count": 37,
   "metadata": {},
   "outputs": [
    {
     "data": {
      "text/latex": [
       "$\\displaystyle \\left[\\begin{matrix}1 & 0 & 0 & 0 & 0 & 0 & 0 & 0\\\\1 & 1 & 0 & 0 & 0 & 0 & 0 & 0\\\\1 & 2 & 1 & 0 & 0 & 0 & 0 & 0\\\\1 & 3 & 3 & 1 & 0 & 0 & 0 & 0\\\\1 & 4 & 6 & 4 & 1 & 0 & 0 & 0\\\\1 & 5 & 10 & 10 & 5 & 1 & 0 & 0\\\\1 & 6 & 15 & 20 & 15 & 6 & 1 & 0\\\\1 & 7 & 21 & 35 & 35 & 21 & 7 & 1\\end{matrix}\\right]$"
      ],
      "text/plain": [
       "Matrix([\n",
       "[1, 0,  0,  0,  0,  0, 0, 0],\n",
       "[1, 1,  0,  0,  0,  0, 0, 0],\n",
       "[1, 2,  1,  0,  0,  0, 0, 0],\n",
       "[1, 3,  3,  1,  0,  0, 0, 0],\n",
       "[1, 4,  6,  4,  1,  0, 0, 0],\n",
       "[1, 5, 10, 10,  5,  1, 0, 0],\n",
       "[1, 6, 15, 20, 15,  6, 1, 0],\n",
       "[1, 7, 21, 35, 35, 21, 7, 1]])"
      ]
     },
     "execution_count": 37,
     "metadata": {},
     "output_type": "execute_result"
    }
   ],
   "source": [
    "m = compute_pascal_array(8)\n",
    "m"
   ]
  },
  {
   "cell_type": "markdown",
   "metadata": {},
   "source": [
    "So note we haven't really done any mathematical reasoning here. We simply havea a way rule that we, and matrix in this structure. \n",
    "\n",
    "Note that we could also tells about any entry. If we were to create a pascal large pascal array, we would see these numbers"
   ]
  },
  {
   "cell_type": "code",
   "execution_count": 48,
   "metadata": {},
   "outputs": [
    {
     "data": {
      "text/latex": [
       "$\\displaystyle 89765006359422309673981108320$"
      ],
      "text/plain": [
       "89765006359422309673981108320"
      ]
     },
     "execution_count": 48,
     "metadata": {},
     "output_type": "execute_result"
    }
   ],
   "source": [
    "sp.binomial(554, 539)"
   ]
  },
  {
   "cell_type": "markdown",
   "metadata": {},
   "source": [
    "Now hwoever, let's do some math. There are some interesting theorems that start to emerge around this array"
   ]
  },
  {
   "cell_type": "markdown",
   "metadata": {},
   "source": [
    "\n",
    "Important ingredeitn - pascals array, left justified - gives us coeffients - (a + b) ^n - these are just expansions polynomicals\n",
    "\n",
    "index table with i j with 0 indexising - (i,j) entry - (i! / j!(i - j)! .....ij etnry is a binomial coefficent, i chooose j - this array is connected to sums of powers problems - \n",
    "\n",
    "colums of pascal array - figurate numbers.....columms have property they can be summed easily.... this is a look up table....so we can go down and we get an easy to way to look things up.....notice we get our entries from a quadratic function in i. \n",
    "\n",
    "This phenomena occurs for all colums - why is this....this is direct consquence of additive property of pasacal....so this means that x^k can essentially be summed via the power of a pascal array\n",
    "\n",
    "Realisation that colums of pascal array is easily summable due to bernoulli...exploits to find sums of powers...bernouli...exenes and generalizes Faulhauber...\n",
    "\n",
    "We get Bournouli formula.....its big! leads to bernouli nummers....the B_j are bernoulli numbers, facinating weuqnce  of rational numbers....note all of odd bernouli numbers are 0 execpt for 1 - check out slown A000367 and A002445 are numerators and denominators of bernoulie numbers \n",
    "\n",
    "Now let's take a new approach - Pascale + Linear Albegra - let's use a different way - take some of Pascal insignt, combine with linear algebra. \n",
    "\n",
    "We will exploit telescoping area - successive differences...we see lots of cancellation....recal the binomial theorum....combine binomial theorem with teslopit series...exploit telesopiing series.....\n",
    "\n",
    "We can create linear equations and solve in matrix form...end up with general story....we get the inverse - we end up inverse matrix with bernouli numbers...."
   ]
  },
  {
   "cell_type": "code",
   "execution_count": null,
   "metadata": {},
   "outputs": [],
   "source": []
  }
 ],
 "metadata": {
  "kernelspec": {
   "display_name": "SageMath 9.0",
   "language": "sage",
   "name": "sagemath"
  },
  "language_info": {
   "codemirror_mode": {
    "name": "ipython",
    "version": 3
   },
   "file_extension": ".py",
   "mimetype": "text/x-python",
   "name": "python",
   "nbconvert_exporter": "python",
   "pygments_lexer": "ipython3",
   "version": "3.7.3"
  }
 },
 "nbformat": 4,
 "nbformat_minor": 4
}
