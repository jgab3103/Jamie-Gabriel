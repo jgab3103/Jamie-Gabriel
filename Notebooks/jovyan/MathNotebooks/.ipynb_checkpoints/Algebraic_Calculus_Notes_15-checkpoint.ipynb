{
 "cells": [
  {
   "cell_type": "code",
   "execution_count": 2,
   "metadata": {},
   "outputs": [],
   "source": [
    "import numpy as np\n",
    "import sympy as sp\n",
    "import shared_functions as sf\n",
    "from IPython.display import HTML\n",
    "import matplotlib.pyplot as plt\n",
    "import ipywidgets as widgets"
   ]
  },
  {
   "cell_type": "markdown",
   "metadata": {},
   "source": [
    "<b>Previously...</b>\n",
    "\n",
    "Previously we introduced the conic section and a way of looking at multiple structures hyperbolas, circle, ellipse, parabola, a general general structure created in Affine Space. \n",
    "\n",
    "In the spirit of exploring different types of constrcuts, we also ventured beyond Affine space into cartesian space, looking at an alternate way to cosntruct, through the idea of focus and directrix. At the same time we looked at the relationship between the focus and directerix finding that depending on whether it was greater than 1, 1 or less than 1 indicated.\n",
    "\n",
    "We were quiet relaxed in the last section around utilising a visual intuition where it suited us. It is powerful strategy to leverage off the interactions we encounter. But at the same, it is important to keep in mind that we need to be algebraic and rely on manipulation. So in this section we will introduce soe more formality around this. \n",
    "\n",
    "Let's start with 2 formal proofs around quadrances and conics. The first provides a formal proof of the definition from the last section, $ Q(P,\\ell)=\\frac {(c+ar+bs)^2}{a^2+b^2}$:"
   ]
  },
  {
   "cell_type": "markdown",
   "metadata": {},
   "source": [
    "<div style=\"background:gray; color:white; padding: 10px\">\n",
    "    <h4>Proof 5.1.8</h4>\n",
    "    <i>Proposition:</i><br/> \n",
    "    If P=[r,s] is a point and ℓ=(c:a:b) is the line with equation c+ax+by=0 then the quadrance between P and ℓ is \n",
    "    $$ Q(P,\\ell)=\\frac {(c+ar+bs)^2}{a^2+b^2}. $$\n",
    "    <br/><i>Proof:</i>\n",
    "    <br/><b>Step x:</b> Let $a, b, x, y, d, r$ and $s$ be integers\n",
    "    <br/><b>Step x:</b> Let $P, R, m$ and $l$ be labels\n",
    "    <br/><b>Step x: </b> Let $m$ be a line in standard form on the Cartesian Plane, denoted as $m: -bx + ay + d = 0$\n",
    "    <br/><b>Step x: </b> Let $l$ be a line on the Cartesian Plane and suppose it is perpendicular to $l$ \n",
    "    <br/><b>Step x: </b> Note that $l$ and $m$ will be perpendicular for any value of $d$\n",
    "    <br/><b>Step x: </b> Let $P = [r, s]$ be a point on the Cartesian Plane constructed from the integers $r$ and $s$ \n",
    "    <br/><b>Step x: </b> Suppose that P is incident to both $m$ and $l$\n",
    "    <br/><b>Step x: </b> Note that as P is incident to $m$, it follows that $d = br - as$ for some value d\n",
    "    <br/><b>Step x: </b> Through algebraic subsitution, the Cartesian Line $m$ can be denoted as $m = (br - as: -b: a)$ as a line projective form\n",
    "    <br/><b>Step x: </b> Let R be the meet of $l$ and $m$, denoted as: (Ref. 1)\n",
    "    $$ R=\\ell\\times m=[a^2+b^2:b^2r-abs-ac:-bc-abr+a^2s]. $$\n",
    "    <br/><b>Step x: </b> Through Algebraic manipulation: (Ref. 2) \n",
    "    $$Q(P,\\ell)=Q(P,R)=\\frac{(b^2r-abs-ac-ra^2-rb^2)^2+(-bc-abr+a^2s-sa^2-sb^2)^2}{(a^2+b^2)^2}\\\\=\\frac{a^2(c+ar+bs)^2+b^2(c+ar+bs)^2}{(a^2+b^2)^2}=\\frac{(a^2+b^2)(c+ar+bs)^2}{(a^2+b^2)^2}\\\\=\\frac{(c+ar+bs)^2}{a^2+b^2}.$$ \n",
    "    <br/><i>Related name:</i><br/> Quadrance between a point and a line \n",
    "    <br/><i>References</i>\n",
    "    <br/><i>Ref. 1:</i> Recall that Meet of any two lines, $e$ and $f$ can be defined as $e \\times f$\n",
    "        <br/><i>Ref. 1:</i> Recall Q(A, B) the calculation of quadrance \n",
    "    \n",
    "\n",
    "\n",
    "</div>"
   ]
  },
  {
   "cell_type": "markdown",
   "metadata": {},
   "source": [
    "THe next proof is very simple, simply going to substitute the values of points in for a given line:"
   ]
  },
  {
   "cell_type": "markdown",
   "metadata": {},
   "source": [
    "<div style=\"background:gray; color:white; padding: 10px\">\n",
    "    <h4>Proof 5.1.9</h4>\n",
    "    <i>Proposition:</i><br/> \n",
    "    For a given conic where $F = [r, s]$ is the focus and the fixed line $l = (c:a:b)$ the directrix with equation $c + ax + by = 0$, the equation of the conic is: \n",
    "    $$(x-r)^2+(y-s)^2=E\\frac {(ax+by+c)^2}{a^2+b^2}.$$\n",
    "    <br/><i>Proof:</i>\n",
    "    <br/><b>Step x:</b> Let $r, s, x, y, a, b$ and $c$ be integers\n",
    "    <br/><b>Step x: </b> Let $S$ be a conic\n",
    "    <br/><b>Step x: </b> Let $P = [x,y]$ be any point incident to the conic\n",
    "    <br/><b>Step x: </b> Through algebraic manipulation: (Ref 1.) \n",
    "    $$  (x-r)^2+(y-s)^2=E\\frac {(ax+by+c)^2}{a^2+b^2}. $$\n",
    "    <br/><i>Related name:</i><br/> Quadrance between a point and a line \n",
    "    <br/><i>References</i>\n",
    "    <br/><i>Ref. 1:</i> Recall that quadratic eccentricity can be defined as $E=\\frac{Q(P,F)}{Q(P,\\ell)}$\n",
    "\n",
    "\n",
    "</div>"
   ]
  },
  {
   "cell_type": "markdown",
   "metadata": {},
   "source": [
    "<b>A general equation for a conic</b>\n",
    "\n",
    "So we now have an alternate way of coming up with an eqation of a conic. But at the same time we need to be able to reconcile it to a few things: \n",
    "\n",
    "Recall our general equation for circle, as \n",
    "\n",
    "$$x^2 + y^2 - K = 0 $$.\n",
    "\n",
    "This structure probably seems very familiary, often turns up in $x^2 + y^2 = 1$ being a unit circle you have probably encountered\n",
    "\n",
    "But now that we have this new structure of the conic this didn't tell the whole storyow there are certainly different ways we could think of thi equation. General equation for a conic is \n",
    "\n",
    "$$ Ax^2+2Bxy+Cy^2+2Dx+2Fy+G=0 $$\n",
    "\n",
    "So in the case of a circllee we are seeing this: \n",
    "\n",
    "$$ Ax^2+ 0xy+Cy^2+ 0x+0y+G=0 $$\n",
    "\n",
    "We are not arbirarity create this eqation. Let's instead derive it from the proof we have just completed, which proposes that the equation of a conic is: \n",
    "\n",
    " $$(x-r)^2+(y-s)^2=E\\frac {(ax+by+c)^2}{a^2+b^2}.$$\n",
    " \n",
    " Let's start by creating that in Python"
   ]
  },
  {
   "cell_type": "code",
   "execution_count": 140,
   "metadata": {},
   "outputs": [
    {
     "data": {
      "text/html": [
       "<html><script type=\"math/tex; mode=display\">\\newcommand{\\Bold}[1]{\\mathbf{#1}}-\\frac{{\\left(a x + b y + c\\right)}^{2} E}{a^{2} + b^{2}} + {\\left(r - x\\right)}^{2} + {\\left(s - y\\right)}^{2} = 0</script></html>"
      ],
      "text/plain": [
       "-(a*x + b*y + c)^2*E/(a^2 + b^2) + (r - x)^2 + (s - y)^2 == 0"
      ]
     },
     "metadata": {},
     "output_type": "display_data"
    }
   ],
   "source": [
    "x, y, r, s, a, b, c, A, B, C, D, E, F, G= var('x, y, r, s, a, b, c, A, B, C, D, E, F, G')\n",
    "lhs = (x - r)**2 + (y - s)**2\n",
    "rhs = E * ((a * x + b * y + c)**2 / (a**2 + b**2))\n",
    "e1 = lhs == rhs\n",
    "e2 = e1.lhs() - e1.rhs() == 0\n",
    "show(e2)"
   ]
  },
  {
   "cell_type": "markdown",
   "metadata": {},
   "source": [
    "Right now it bears little resemblance to the general equation of $ Ax^2+2Bxy+Cy^2+2Dx+2Fy+G=0 $, so let's see if we can get it into that form: "
   ]
  },
  {
   "cell_type": "code",
   "execution_count": 142,
   "metadata": {},
   "outputs": [
    {
     "data": {
      "text/html": [
       "<html><script type=\"math/tex; mode=display\">\\newcommand{\\Bold}[1]{\\mathbf{#1}}-E a^{2} x^{2} - 2 \\, E a b x y - E b^{2} y^{2} + a^{2} r^{2} + b^{2} r^{2} + a^{2} s^{2} + b^{2} s^{2} - 2 \\, E a c x - 2 \\, a^{2} r x - 2 \\, b^{2} r x + a^{2} x^{2} + b^{2} x^{2} - 2 \\, E b c y - 2 \\, a^{2} s y - 2 \\, b^{2} s y + a^{2} y^{2} + b^{2} y^{2} - E c^{2} = 0</script></html>"
      ],
      "text/plain": [
       "-E*a^2*x^2 - 2*E*a*b*x*y - E*b^2*y^2 + a^2*r^2 + b^2*r^2 + a^2*s^2 + b^2*s^2 - 2*E*a*c*x - 2*a^2*r*x - 2*b^2*r*x + a^2*x^2 + b^2*x^2 - 2*E*b*c*y - 2*a^2*s*y - 2*b^2*s*y + a^2*y^2 + b^2*y^2 - E*c^2 == 0"
      ]
     },
     "metadata": {},
     "output_type": "display_data"
    }
   ],
   "source": [
    "e3 = e2.expand()\n",
    "e4 = (e3 * (a**2 + b**2)).factor()\n",
    "show(e4)"
   ]
  },
  {
   "cell_type": "markdown",
   "metadata": {},
   "source": [
    "We have expandined evertying, and multiply both sides by $a^2 + b^2$, so its getting a little closer. At this stage we can start collecting values of $x^2, y^2, xy, x$ and $y$. Let's do this for for $x^2$ and $y^2$. Note that we will have to do this is in a little bit of a hacky way. "
   ]
  },
  {
   "cell_type": "code",
   "execution_count": 175,
   "metadata": {},
   "outputs": [
    {
     "data": {
      "text/html": [
       "<html><script type=\"math/tex; mode=display\">\\newcommand{\\Bold}[1]{\\mathbf{#1}}a^{2} r^{2} + b^{2} r^{2} + a^{2} s^{2} + b^{2} s^{2} - E c^{2} - {\\left(E a^{2} - a^{2} - b^{2}\\right)} x^{2} - {\\left(E b^{2} - a^{2} - b^{2}\\right)} y^{2} - {\\left(E a c + a^{2} r + b^{2} r\\right)} x - 2 \\, {\\left(E b c + a^{2} s + b^{2} s\\right)} y = a^{2} r^{2} + b^{2} r^{2} + a^{2} s^{2} + b^{2} s^{2} - 2 \\, E b c y - 2 \\, a^{2} s y - 2 \\, b^{2} s y - E c^{2} - {\\left(E a^{2} - a^{2} - b^{2}\\right)} x^{2} - {\\left(E b^{2} - a^{2} - b^{2}\\right)} y^{2} - {\\left(E a c + a^{2} r + b^{2} r\\right)} x</script></html>"
      ],
      "text/plain": [
       "a^2*r^2 + b^2*r^2 + a^2*s^2 + b^2*s^2 - E*c^2 - (E*a^2 - a^2 - b^2)*x^2 - (E*b^2 - a^2 - b^2)*y^2 - (E*a*c + a^2*r + b^2*r)*x - 2*(E*b*c + a^2*s + b^2*s)*y == a^2*r^2 + b^2*r^2 + a^2*s^2 + b^2*s^2 - 2*E*b*c*y - 2*a^2*s*y - 2*b^2*s*y - E*c^2 - (E*a^2 - a^2 - b^2)*x^2 - (E*b^2 - a^2 - b^2)*y^2 - (E*a*c + a^2*r + b^2*r)*x"
      ]
     },
     "metadata": {},
     "output_type": "display_data"
    }
   ],
   "source": [
    "e5 = e4.lhs().collect(y**2) == e4.rhs()\n",
    "e6 = e5.lhs().collect(x**2) == e5.rhs()\n",
    "e7 = e6 + 2 * E * a * b * x * y\n",
    "e8 = e7.lhs().collect(x) == e7.rhs()\n",
    "e9 = e8 + x * (E * a * c + a^2*r + b**2 * r)\n",
    "e10 = e9.lhs().collect(y) == e9.lhs()\n",
    "show(e10)"
   ]
  },
  {
   "cell_type": "markdown",
   "metadata": {},
   "source": [
    "It easy by hand at this stage to see that we can do this, collect for the other values, and we do we end up with:\n",
    "\n",
    "$$ A=a^2+b^2-Ea^2,\\quad \\\\ \n",
    "B=-Eab,\\quad  \\\\ \n",
    "C=a^2+b^2-Eb^2. \\\\\n",
    "D = -Eac = a^2r + b^2r \\\\\n",
    "E = ?? $$"
   ]
  },
  {
   "cell_type": "markdown",
   "metadata": {},
   "source": [
    "So its important to note I haven't done anything complicated here. I have simply taken an existing equation, put into the form of an equation for a general conic. THis tels me that a directrix and focus create a conic of some kind,and this conic will have a relationship to quadratic eccentrcity. I can then put this whole structure into. \n",
    "\n",
    "Now let's go further than this, we have values for A, B and C, which are the coefficients of the equations for general conic. Let's now use our new values of this in anotehr setting and take the determinant using A, B and C: "
   ]
  },
  {
   "cell_type": "code",
   "execution_count": 212,
   "metadata": {},
   "outputs": [],
   "source": [
    "a, b, E, b = sp.symbols('a, b, E, b')"
   ]
  },
  {
   "cell_type": "code",
   "execution_count": 213,
   "metadata": {},
   "outputs": [],
   "source": [
    "A = a**2 + b **2 - E * a**2\n",
    "B = -E* a * b\n",
    "C = a**2 - b **2 - E * b**2"
   ]
  },
  {
   "cell_type": "code",
   "execution_count": 214,
   "metadata": {},
   "outputs": [
    {
     "data": {
      "text/latex": [
       "$\\displaystyle a^{4} \\left(1 - E\\right) + b^{4} \\left(- E - 1\\right)$"
      ],
      "text/plain": [
       "a**4*(1 - E) + b**4*(-E - 1)"
      ]
     },
     "execution_count": 214,
     "metadata": {},
     "output_type": "execute_result"
    }
   ],
   "source": [
    "e5 = sp.det(sp.Matrix([[A, B], [B, C]])).expand().collect([a, b])\n",
    "e5"
   ]
  },
  {
   "cell_type": "markdown",
   "metadata": {},
   "source": [
    "Now let's solve for E: "
   ]
  },
  {
   "cell_type": "code",
   "execution_count": 216,
   "metadata": {},
   "outputs": [
    {
     "data": {
      "text/latex": [
       "$\\displaystyle E = \\frac{a^{4} - b^{4}}{a^{4} + b^{4}}$"
      ],
      "text/plain": [
       "Eq(E, (a**4 - b**4)/(a**4 + b**4))"
      ]
     },
     "execution_count": 216,
     "metadata": {},
     "output_type": "execute_result"
    }
   ],
   "source": [
    "e6 = sp.Eq(e5, 0)\n",
    "e7 = sp.Eq(E, sp.solve(e6, E)[0])\n",
    "e7"
   ]
  },
  {
   "cell_type": "markdown",
   "metadata": {},
   "source": [
    "Now let's consider some different scenarios\n",
    "- E = 1\n",
    "- E < 1\n",
    "- E > 1\n",
    "\n",
    "When we substitute values of 1 for E we get the following: "
   ]
  },
  {
   "cell_type": "code",
   "execution_count": 224,
   "metadata": {},
   "outputs": [
    {
     "data": {
      "text/latex": [
       "$\\displaystyle a + b = a - b$"
      ],
      "text/plain": [
       "Eq(a + b, a - b)"
      ]
     },
     "execution_count": 224,
     "metadata": {},
     "output_type": "execute_result"
    }
   ],
   "source": [
    "e8 = sp.Eq(a + b, a - b)\n",
    "e8"
   ]
  },
  {
   "cell_type": "markdown",
   "metadata": {},
   "source": [
    "This provides a solution of 0. So if the Quadratic Eccentricity is 1, the determinant formed from A, B and C is 0. \n",
    "\n",
    "What about a value below 1?"
   ]
  },
  {
   "cell_type": "code",
   "execution_count": 231,
   "metadata": {},
   "outputs": [
    {
     "data": {
      "text/latex": [
       "$\\displaystyle 2 = \\frac{a^{4} - b^{4}}{a^{4} + b^{4}}$"
      ],
      "text/plain": [
       "Eq(2, (a**4 - b**4)/(a**4 + b**4))"
      ]
     },
     "execution_count": 231,
     "metadata": {},
     "output_type": "execute_result"
    }
   ],
   "source": [
    "e9 = sp.Eq(2, sp.solve(e6, E)[0])\n",
    "e9"
   ]
  },
  {
   "cell_type": "markdown",
   "metadata": {},
   "source": [
    "v. Using the result of iii and the fact that (a2+b2)2>0, we obtain the result.\n",
    "\n",
    "JG - finish these for other cases"
   ]
  },
  {
   "cell_type": "markdown",
   "metadata": {},
   "source": [
    "Before moving onto more general examples, let's look at another defintion:"
   ]
  },
  {
   "cell_type": "markdown",
   "metadata": {},
   "source": [
    "<div style=\"background:gray; color:white; padding: 10px\">\n",
    "    <h4>Definition 5.1.8</h4>\n",
    "    A conic is degenerate precisely when its equation can be factored into a product of two linear factors. THe conic \n",
    "    $$ Ax^2+2Bxy+Cy^2+2Dx+2Fy+G=0 $$\n",
    "  is degenerate precisely when\n",
    "    $$\\det\\left(\\begin{matrix}A& B& D\\\\ B&C&  F\\\\  D& F & G\\end{matrix} \\right)=0.$$\n",
    "    <br/><i>Related name:</i><br/>The degenerate case of a conic\n",
    "</div>"
   ]
  },
  {
   "cell_type": "markdown",
   "metadata": {},
   "source": [
    "We have seen as intuiation that when comes closer to the apoin, we can classify this is a degenerate example. And we can define this, but there is , so what we are saying is that these cases exist when the determinant of the coefficents is 0.\n",
    "\n",
    "So this is more than just a definition, and somthing that we should prove to be true. But interesting definition as it posits determinant of this coefficient equating to 0 means that it must the be case that this can be factored into product of 2 linear factors. Let's provide a proof for this: "
   ]
  },
  {
   "cell_type": "markdown",
   "metadata": {},
   "source": [
    "<div style=\"background:gray; color:white; padding: 10px\">\n",
    "    <h4>Proof 5.1.8</h4>\n",
    "    <i>Proposition:</i><br/> \n",
    "    A conic is degenerate precisely when its equation can be factored into a product of two linear factors. THe conic \n",
    "    $$ Ax^2+2Bxy+Cy^2+2Dx+2Fy+G=0 $$\n",
    "  is degenerate precisely when\n",
    "    $$\\det\\left(\\begin{matrix}A& B& D\\\\ B&C&  F\\\\  D& F & G\\end{matrix} \\right)=0.$$\n",
    "    <br/><i>Proof:</i>\n",
    "    <br/><b>Step x:</b> Let $A, B, C, D, F, G, x$ and $y$ be integers\n",
    "    <br/><b>Step x: </b> Suppose that $A \\ne 0$\n",
    "    <br/><b>Step x: </b> Let S be an equation $$Ax^2+2Bxy+Cy^2+2Dx+2Fy+G$$  constructed from integers  $A, B, C, D, F, G, x$ and $y$\n",
    "    <br/><b>Step x: </b> Algebraially manipulate S $$Ax^2+2(By+D)x+(Cy^2+2Fy+G)$$\n",
    "    <br/><b>Step x: Ref 1.) </b> Let R be the discriminant of $S$ denoted as: $$4(By+D)^2-4A(Cy^2+2Fy+G)$$\n",
    "     <br/><b>Step x: </b> Recall that it is possible factor a equation when the discriminant of this equation is a complete square (Ref. 1)\n",
    "    <br/><b>Step x: </b> Let $M$ be a quadradic equation in $y$, creaed from an algebraically manipulation to $L$:\n",
    "    $$(4B^2-4AC)y^2+2(4BD-4AF)y+4D^2-4AG$$\n",
    "    <br/><b>Step x: </b> Note that $M$ is complete square when: \n",
    "    $$4(4BD-4AF)^2-16(4B^2-4AC)(D^2-AG)=0$$\n",
    "    or\n",
    "    $$B^2D^2-2ABDF+A^2F^2-B^2D^2+AB^2G+ACD^2-A^2CG=0$$\n",
    "    or\n",
    "    $$-A(ACG+ 2BDF-D^2C-B^2G- AF^2)=0.$$\n",
    "    <br/><b>Step x: (Ref 2.) </b> If it is the case the $A = 0$, then: \n",
    "    $$ACG+2BDF-D^2C-B^2G- AF^2=\\det\\left(\\begin{matrix}A& B& D\\\\ B&C& F\\\\D&  F & G\\end{matrix} \\right)=0.$$\n",
    "    <br/><b>Step x: </b> Now suppose that $A = C = 0$ and $B \\ne 0$\n",
    "    <br/><b> Step x: </b> If $A = C = 0$ and $B \\ne 0$, it follows that $L$ is equivalent to $2Bxy+2Dx+2Fy+G=0.$\n",
    "    <br/><b> Step x: </b> Subsitute x=u+v and y=u−v, for the $L$ to create the equation: \n",
    "    $$ 2Bu^2-2Bv^2+2(D+F)u+2(D-F)v+G=0.$$\n",
    "    <br/><b>Step x: </b>Note that the latter equation can be factored precisely when the original equation is factorable. Using the result proved above for A≠0, we have that it is factorable precisely when\n",
    "    $$\\det\\left(\\begin{matrix}2B& 0& D+F\\\\ 0&-2B& D-F\\\\D+F&  D-F & G\\end{matrix} \\right)=0$$\n",
    "    or\n",
    "    $$-4B^2G+2B(D+F)^2-2B(D-F)^2=0$$\n",
    "    or\n",
    "    $$4(-B^2G+2BDF)=0.$$\n",
    "    <br/><b>Step x: </b>Note this holds precicely when\n",
    "    $$ \\det\\left(\\begin{matrix}0& B& D\\\\ B&0& F\\\\D&  F & G\\end{matrix} \\right)=0,$$\n",
    "    which is required condition for the original equation\n",
    "    <br/><i>Related name:</i><br/> Quadrance between a point and a line \n",
    "    <br/><i>References</i>\n",
    "    <br/><i>Ref. 1:</i> Recall that the discriminant is the part of the quadratic formula underneath the square root symbol: $b^2-4ac$. The discriminant tells us whether there are two solutions, one solution, or no solutions.\n",
    "    <br/><i>Ref. 2:</i> THis also holds fo the case where $C \\ne 0$\n",
    "\n",
    "</div>"
   ]
  },
  {
   "cell_type": "markdown",
   "metadata": {},
   "source": [
    "Its a complex proof, but its leading towards a powerful  way of utilising coeffiencients in this form of the conic section, and determine attributes the coeffiencits and determine if a conic is degenerate of not - so far we have already done found a way to use information from the focus and directrix to understand quadratic eccentricity. We can now take this information to convert into this quadratric form and and use those coeffients to understand the types of conics. \n",
    "\n",
    "Further we can use the same matrix to do it. We can take the. Once we have it in the form with coeffiecints we can find the determinant of \n",
    "\n",
    "$$ \\det\\left(\\begin{matrix}A& B& D\\\\ B&C&  F\\\\  D& F & G\\end{matrix} \\right)=0.$$\n",
    "\n",
    "To undersand if the conic is degenerate or not. We can also use a subset of this matrix: \n",
    "\n",
    "$$ \\det\\left(\\begin{matrix}A& B\\\\ B&C\\end{matrix} \\right), $$\n",
    "\n",
    "To find out what class of matrix we are dealing with\n",
    "\n",
    "Things have been pretty theoretical for a while, let's move toward some examples and to get a sense of the technology that we now have, to use this to determine if things are degenerate and if what type of conic section. \n",
    "\n",
    "We will createa python function that takes the coeffiencitns and returns these.Note that we will use named arguments in our function and we will stick to this form to show the various coeffiencts of the function: \n",
    "\n",
    "$$ Ax^2+2Bxy+Cy^2+2Dx+2Fy+G=0 $$"
   ]
  },
  {
   "cell_type": "code",
   "execution_count": 580,
   "metadata": {},
   "outputs": [],
   "source": [
    "def compute_type_of_conic(A, B, C, D, F, G):\n",
    "    \n",
    "    degenerate_value = float(sp.det(sp.Matrix([[A, B/2, D/2],\n",
    "                                    [B/2, C, F/2],\n",
    "                                    [D/2, F/2, G]])))\n",
    "    \n",
    "    is_degenerate = degenerate_value == 0\n",
    "    \n",
    "    conic_type_value = float(sp.det(sp.Matrix([[A, B/2],\n",
    "                                 [B/2, C]])))\n",
    "    conic_type = \"unknown\"\n",
    "    if conic_type_value > 0:\n",
    "        conic_type = \"Ellipse\"\n",
    "    elif conic_type_value < 0:\n",
    "        conic_type = \"Hyperbola\"\n",
    "    elif conic_type_value == 0:\n",
    "        conic_type = \"Parabola\"\n",
    "    else:\n",
    "        pass\n",
    "    \n",
    "    print(\"Conic is degenerate: \", is_degenerate, \"\\nDeterminant value of matrix to indicate if degenerate: \\n\", degenerate_value)\n",
    "    print(\"Conic type: \", conic_type, \"\\nDeterminant value of matrix that indicates conic type: \\n\", conic_type_value)\n",
    "    "
   ]
  },
  {
   "cell_type": "markdown",
   "metadata": {},
   "source": [
    "Let's start with the example of: \n",
    "$$ 13x^2+2xy+3y^2+2x-36=0 $$"
   ]
  },
  {
   "cell_type": "code",
   "execution_count": 581,
   "metadata": {},
   "outputs": [
    {
     "name": "stdout",
     "output_type": "stream",
     "text": [
      "Conic is degenerate:  False \n",
      "Determinant value of matrix to indicate if degenerate: \n",
      " -1373.25\n",
      "Conic type:  Ellipse \n",
      "Determinant value of matrix that indicates conic type: \n",
      " 38.0\n"
     ]
    }
   ],
   "source": [
    "compute_type_of_conic(13, 2, 3, 2, 1, -36)"
   ]
  },
  {
   "cell_type": "markdown",
   "metadata": {},
   "source": [
    "How about $xy = 25$? Remember to get it into the correct form, meaning we have a value for $B$ and a value for $G$, and all others set to 0:"
   ]
  },
  {
   "cell_type": "code",
   "execution_count": 582,
   "metadata": {},
   "outputs": [
    {
     "name": "stdout",
     "output_type": "stream",
     "text": [
      "Conic is degenerate:  False \n",
      "Determinant value of matrix to indicate if degenerate: \n",
      " 6.25\n",
      "Conic type:  Hyperbola \n",
      "Determinant value of matrix that indicates conic type: \n",
      " -0.25\n"
     ]
    }
   ],
   "source": [
    "compute_type_of_conic(0, 1, 0, 0, 0, -25)"
   ]
  },
  {
   "cell_type": "markdown",
   "metadata": {},
   "source": [
    "And $9x^2+4y^2-12xy+24x-16y+16=0$?"
   ]
  },
  {
   "cell_type": "code",
   "execution_count": 583,
   "metadata": {},
   "outputs": [
    {
     "name": "stdout",
     "output_type": "stream",
     "text": [
      "Conic is degenerate:  True \n",
      "Determinant value of matrix to indicate if degenerate: \n",
      " 0.0\n",
      "Conic type:  Parabola \n",
      "Determinant value of matrix that indicates conic type: \n",
      " 0.0\n"
     ]
    }
   ],
   "source": [
    "compute_type_of_conic(9, -12, 4, 24, -16, 16)"
   ]
  },
  {
   "cell_type": "markdown",
   "metadata": {},
   "source": [
    "And a final example, $x^2+y^2+2xy+2x+2y-15=0$"
   ]
  },
  {
   "cell_type": "markdown",
   "metadata": {},
   "source": [
    "<div style=\"background:#99ddff; color:black; padding: 10px\">\n",
    "<b>Add to these notes:</b>\n",
    "\n",
    "It would be nicer to see richer visualisations to bring home some of these ideas. What does xy = 25 really look like? A function that generates this visual would be nice. \n",
    "    \n",
    "While we are at it, you could consicer that a creating a funtino that takes a polynomial in any order and converts it to the correct conic section form\n",
    "</div>"
   ]
  },
  {
   "cell_type": "code",
   "execution_count": 584,
   "metadata": {},
   "outputs": [
    {
     "name": "stdout",
     "output_type": "stream",
     "text": [
      "Conic is degenerate:  True \n",
      "Determinant value of matrix to indicate if degenerate: \n",
      " 0.0\n",
      "Conic type:  Parabola \n",
      "Determinant value of matrix that indicates conic type: \n",
      " 0.0\n"
     ]
    }
   ],
   "source": [
    "compute_type_of_conic(1, 2, 1, 2, 2, -15)"
   ]
  },
  {
   "cell_type": "markdown",
   "metadata": {},
   "source": [
    "So this has left us with a far deeper understanding of what these structures, and a different way to get at their properties. But of course, we haven't really considered the gneral case. Consider the difference of dealing with the parabola when we were looking at signed area, we have a number of ways to categorise and understand this structure. \n",
    "\n",
    "In fact, let's return to it now, and we will keep on leveraging off the Cartesian plane and explroe the parabola a little further\n",
    "\n",
    "JG - point of this example seems tobe about introducting a and b...\n",
    "\n",
    "We will stick with the Cartesian intpresetation, but let's also go the other way: given a focus and directrix, let's create an equation.Appollonian definion of a parabola defined with the locus of a Cartesian Point $X=[x,y]$ that has equal quadrances to a fixed Crtesian Point  $F=[r,s]$, the focus, and a fixed line $ℓ=(c:a:b)$, the directrix, with equation $c+ax+by=0$.\n",
    "\n",
    "\n",
    "Let's explore an example that provides some fixed values, but leaves mostly as variables to further understand the behaviour supposing we have a focus which is the Cartesian Point $F = [a, 0]$ and a directrix $\\ell=(a:1:0)$ which is a Projective Line. This latter can be expressed equivalently with an equation $x = -a$. Furthr suppose that we can express an arbitrary point on the conic section as $[x, y]$\n",
    "\n",
    "We know that a parabola can be defined as the relationship between $Q(X,F)$ and $Q(X,\\ell)$, specifically being $Q(X,F)=Q(X,\\ell)$ so let's create an equation to express this, using what we have crated before for quadrance: "
   ]
  },
  {
   "cell_type": "code",
   "execution_count": 585,
   "metadata": {},
   "outputs": [],
   "source": [
    "def compute_quadrance_between_two_points(p1, p2):\n",
    "    return((p2[0] - p1[0])**2 + (p2[1] - p1[1])**2 )\n",
    "\n",
    "def compute_quadrance_between_point_and_line(p1, l):\n",
    "    numerator = (l[0] * p1[0] + l[1] * p1[1] + l[2])**2\n",
    "    denominator = (l[0]**2 + l[1]**2)\n",
    "    return(numerator / denominator)\n",
    "\n"
   ]
  },
  {
   "cell_type": "code",
   "execution_count": 586,
   "metadata": {},
   "outputs": [
    {
     "data": {
      "text/latex": [
       "$\\displaystyle y^{2} + \\left(- a + x\\right)^{2}$"
      ],
      "text/plain": [
       "y**2 + (-a + x)**2"
      ]
     },
     "execution_count": 586,
     "metadata": {},
     "output_type": "execute_result"
    }
   ],
   "source": [
    "a, x, y = sp.symbols('a x y')\n",
    "f = [a, 0]\n",
    "l = [1, 0, a]\n",
    "p = [x, y]\n",
    "\n",
    "e1 = compute_quadrance_between_two_points(f, p)\n",
    "e1"
   ]
  },
  {
   "cell_type": "code",
   "execution_count": 587,
   "metadata": {},
   "outputs": [
    {
     "data": {
      "text/html": [
       "<html><script type=\"math/tex; mode=display\">\\newcommand{\\Bold}[1]{\\mathbf{#1}}{\\left(a + x\\right)}^{2}</script></html>"
      ],
      "text/plain": [
       "(a + x)^2"
      ]
     },
     "metadata": {},
     "output_type": "display_data"
    }
   ],
   "source": [
    "e2 = compute_quadrance_between_point_and_line(p, l)\n",
    "show(e2)"
   ]
  },
  {
   "cell_type": "markdown",
   "metadata": {},
   "source": [
    "Now, as this is is a parabola, let's set create an equatino: "
   ]
  },
  {
   "cell_type": "code",
   "execution_count": 588,
   "metadata": {},
   "outputs": [
    {
     "data": {
      "text/latex": [
       "$\\displaystyle y^{2} + \\left(- a + x\\right)^{2} = \\left(a + x\\right)^{2}$"
      ],
      "text/plain": [
       "Eq(y**2 + (-a + x)**2, (a + x)**2)"
      ]
     },
     "execution_count": 588,
     "metadata": {},
     "output_type": "execute_result"
    }
   ],
   "source": [
    "e3 = sp.Eq(e1,e2)\n",
    "e3"
   ]
  },
  {
   "cell_type": "markdown",
   "metadata": {},
   "source": [
    "We will expand it and simplify:"
   ]
  },
  {
   "cell_type": "code",
   "execution_count": 589,
   "metadata": {},
   "outputs": [
    {
     "data": {
      "text/latex": [
       "$\\displaystyle y^{2} + \\left(- a + x\\right)^{2} - \\left(a - x\\right)^{2} = - \\left(a - x\\right)^{2} + \\left(a + x\\right)^{2}$"
      ],
      "text/plain": [
       "Eq(y**2 + (-a + x)**2 - (a - x)**2, -(a - x)**2 + (a + x)**2)"
      ]
     },
     "execution_count": 589,
     "metadata": {},
     "output_type": "execute_result"
    }
   ],
   "source": [
    "e4 = sp.Eq(e3.lhs - (a - x)**2, e3.rhs - (a - x)**2)\n",
    "e4"
   ]
  },
  {
   "cell_type": "code",
   "execution_count": 590,
   "metadata": {},
   "outputs": [
    {
     "data": {
      "text/latex": [
       "$\\displaystyle y^{2} = 4 a x$"
      ],
      "text/plain": [
       "Eq(y**2, 4*a*x)"
      ]
     },
     "execution_count": 590,
     "metadata": {},
     "output_type": "execute_result"
    }
   ],
   "source": [
    "e5 = e4.expand()\n",
    "e5"
   ]
  },
  {
   "cell_type": "markdown",
   "metadata": {},
   "source": [
    "Note also in this general case, that the equation becomes:"
   ]
  },
  {
   "cell_type": "code",
   "execution_count": 591,
   "metadata": {},
   "outputs": [],
   "source": [
    "x, y, r, s, a, b, c = sp.symbols('x, y, r, s, a, b, c')\n"
   ]
  },
  {
   "cell_type": "code",
   "execution_count": 592,
   "metadata": {},
   "outputs": [
    {
     "data": {
      "text/latex": [
       "$\\displaystyle \\left(- r + x\\right)^{2} + \\left(- s + y\\right)^{2} = \\frac{\\left(a x + b y + c\\right)^{2}}{a^{2} + b^{2}}$"
      ],
      "text/plain": [
       "Eq((-r + x)**2 + (-s + y)**2, (a*x + b*y + c)**2/(a**2 + b**2))"
      ]
     },
     "execution_count": 592,
     "metadata": {},
     "output_type": "execute_result"
    }
   ],
   "source": [
    "e2 = sp.Eq((x - r)**2 + (y - s)**2,  (a*x + b * y + c)**2/(a**2 + b**2))\n",
    "e2"
   ]
  },
  {
   "cell_type": "markdown",
   "metadata": {},
   "source": [
    "Let's simplify and set this to 0:"
   ]
  },
  {
   "cell_type": "code",
   "execution_count": 593,
   "metadata": {},
   "outputs": [
    {
     "data": {
      "text/latex": [
       "$\\displaystyle \\left(a^{2} + b^{2}\\right) \\left(\\left(- r + x\\right)^{2} + \\left(- s + y\\right)^{2}\\right) = \\left(a x + b y + c\\right)^{2}$"
      ],
      "text/plain": [
       "Eq((a**2 + b**2)*((-r + x)**2 + (-s + y)**2), (a*x + b*y + c)**2)"
      ]
     },
     "execution_count": 593,
     "metadata": {},
     "output_type": "execute_result"
    }
   ],
   "source": [
    "e3 = sp.Eq(e2.lhs * (a**2 + b**2), e2.rhs * (a**2 + b**2))\n",
    "e3"
   ]
  },
  {
   "cell_type": "markdown",
   "metadata": {},
   "source": [
    "Now set it to 0:"
   ]
  },
  {
   "cell_type": "code",
   "execution_count": 594,
   "metadata": {},
   "outputs": [
    {
     "data": {
      "text/latex": [
       "$\\displaystyle \\left(a^{2} + b^{2}\\right) \\left(\\left(- r + x\\right)^{2} + \\left(- s + y\\right)^{2}\\right) - \\left(a x + b y + c\\right)^{2} = 0$"
      ],
      "text/plain": [
       "Eq((a**2 + b**2)*((-r + x)**2 + (-s + y)**2) - (a*x + b*y + c)**2, 0)"
      ]
     },
     "execution_count": 594,
     "metadata": {},
     "output_type": "execute_result"
    }
   ],
   "source": [
    "e4 = sp.Eq(e3.lhs - e3.rhs, e3.rhs - e3.rhs)\n",
    "e4"
   ]
  },
  {
   "cell_type": "markdown",
   "metadata": {},
   "source": [
    "Now put it into the new form of $Ax^2+2Bxy+Cy^2+2Dx+2Fy+G=0$:"
   ]
  },
  {
   "cell_type": "code",
   "execution_count": 595,
   "metadata": {},
   "outputs": [
    {
     "data": {
      "text/latex": [
       "$\\displaystyle a^{2} r^{2} - 2 a^{2} r x + a^{2} s^{2} - 2 a^{2} s y + a^{2} y^{2} - 2 a b x y - 2 a c x + b^{2} r^{2} - 2 b^{2} r x + b^{2} s^{2} - 2 b^{2} s y + b^{2} x^{2} - 2 b c y - c^{2} = 0$"
      ],
      "text/plain": [
       "Eq(a**2*r**2 - 2*a**2*r*x + a**2*s**2 - 2*a**2*s*y + a**2*y**2 - 2*a*b*x*y - 2*a*c*x + b**2*r**2 - 2*b**2*r*x + b**2*s**2 - 2*b**2*s*y + b**2*x**2 - 2*b*c*y - c**2, 0)"
      ]
     },
     "execution_count": 595,
     "metadata": {},
     "output_type": "execute_result"
    }
   ],
   "source": [
    "e5 = e4.expand()\n",
    "e5"
   ]
  },
  {
   "cell_type": "code",
   "execution_count": 596,
   "metadata": {},
   "outputs": [
    {
     "data": {
      "text/latex": [
       "$\\displaystyle a^{2} r^{2} + a^{2} s^{2} + a^{2} y^{2} + b^{2} r^{2} + b^{2} s^{2} + b^{2} x^{2} - c^{2} + x \\left(- 2 a^{2} r - 2 a c - 2 b^{2} r\\right) + y \\left(- 2 a^{2} s - 2 b^{2} s - 2 b c\\right) = 2 a b x y$"
      ],
      "text/plain": [
       "Eq(a**2*r**2 + a**2*s**2 + a**2*y**2 + b**2*r**2 + b**2*s**2 + b**2*x**2 - c**2 + x*(-2*a**2*r - 2*a*c - 2*b**2*r) + y*(-2*a**2*s - 2*b**2*s - 2*b*c), 2*a*b*x*y)"
      ]
     },
     "execution_count": 596,
     "metadata": {},
     "output_type": "execute_result"
    }
   ],
   "source": [
    "e6 = sp.Eq(e5.lhs + (2 * a * b * x * y), e5.rhs + (2 * a * b * x * y))\n",
    "e7 = sp.Eq(e6.lhs.collect(x), e6.rhs)\n",
    "e8 = sp.Eq(e7.lhs.collect(y), e7.rhs)\n",
    "#e7 = sp.Eq(e6.lhs.collect(y), e6.rhs)\n",
    "e8\n"
   ]
  },
  {
   "cell_type": "markdown",
   "metadata": {},
   "source": [
    "So we can see that form gives us the focus and directorix, \n",
    "\n",
    "$$  b^2x^2-2abxy+a^2y^2-2\\left[r(a^2+b^2)+ca\\right]x\\\\-2\\left[s(a^2+b^2)+cb\\right]y+\\left[(a^2+b^2)(r^2+s^2)-c^2\\right]=0. $$"
   ]
  },
  {
   "cell_type": "markdown",
   "metadata": {},
   "source": [
    "So we can see that we can rewrite this equatiion in this form, and get values for A, B and C so we can determine what a parabolas must be from these: \n",
    "\n",
    "$$\\det\\left(\\begin{matrix}A& B\\\\ B&C\\end{matrix} \\right)=AC-B^2=b^2a^2-(-ab)^2=0.$$"
   ]
  },
  {
   "cell_type": "markdown",
   "metadata": {},
   "source": [
    "This becomes another function that we can build..."
   ]
  },
  {
   "cell_type": "markdown",
   "metadata": {},
   "source": [
    "So we are really coming to the problem from a different angle to show that, to show that, given any line, can we find relationships that would tell us what type of conic section it would be?\n",
    "\n",
    "We are heading towards being able to be given a polynomial in the form  $Ax^2+2Bxy+Cy^2+2Dx+2Fy+G=0$and from this be able to find a directrix and focus, or go the other way. Let's explore it further with a more concrete example. Suppose that we have the following equations: \n",
    "\n",
    "$$ x^2+2xy+y^2-4x+2=0 $$"
   ]
  },
  {
   "cell_type": "markdown",
   "metadata": {},
   "source": [
    "It's in the general form that we expect, but  can look at the determinant of A, B C to determine that it is in fact  a parabola and also derive a parabola from it. We are going to exend our eideas into Polynomical type in Sympy to let us extend the ideas a little here: "
   ]
  },
  {
   "cell_type": "code",
   "execution_count": 597,
   "metadata": {},
   "outputs": [
    {
     "data": {
      "text/latex": [
       "$\\displaystyle \\operatorname{Poly}{\\left( x^{2} + 2 xy - 4 x + y^{2} + 2, x, y, domain=\\mathbb{Z} \\right)}$"
      ],
      "text/plain": [
       "Poly(x**2 + 2*x*y - 4*x + y**2 + 2, x, y, domain='ZZ')"
      ]
     },
     "execution_count": 597,
     "metadata": {},
     "output_type": "execute_result"
    }
   ],
   "source": [
    "x, y = sp.symbols('x, y')\n",
    "e1 = sp.Poly(sp.Eq(x**2 + 2 * x * y + y**2 - 4 * x + 2, 0))\n",
    "e1"
   ]
  },
  {
   "cell_type": "code",
   "execution_count": 598,
   "metadata": {},
   "outputs": [
    {
     "data": {
      "text/latex": [
       "$\\displaystyle 1$"
      ],
      "text/plain": [
       "1"
      ]
     },
     "execution_count": 598,
     "metadata": {},
     "output_type": "execute_result"
    }
   ],
   "source": [
    "e1.coeff_monomial(x^2)"
   ]
  },
  {
   "cell_type": "code",
   "execution_count": 599,
   "metadata": {},
   "outputs": [],
   "source": [
    "def compute_coefficients_from_general_conic_equation(e):\n",
    "    variables = [x^2, y^2, x, y, x*y]\n",
    "    A = e.coeff_monomial(x^2)\n",
    "    B = e.coeff_monomial(x * y) \n",
    "    C = e.coeff_monomial(y**2)\n",
    "    D = e.coeff_monomial(x) \n",
    "    F = e.coeff_monomial(y)\n",
    "    G = e.subs(x, 0).subs(y,0)\n",
    "    \n",
    "    return([A, B, C, D, F, G])"
   ]
  },
  {
   "cell_type": "code",
   "execution_count": 600,
   "metadata": {},
   "outputs": [],
   "source": [
    "a1 = compute_coefficients_from_general_conic_equation(e1)"
   ]
  },
  {
   "cell_type": "code",
   "execution_count": 601,
   "metadata": {},
   "outputs": [
    {
     "name": "stdout",
     "output_type": "stream",
     "text": [
      "Conic is degenerate:  False \n",
      "Determinant value of matrix to indicate if degenerate: \n",
      " -4.0\n",
      "Conic type:  Parabola \n",
      "Determinant value of matrix that indicates conic type: \n",
      " 0.0\n"
     ]
    }
   ],
   "source": [
    "compute_type_of_conic(a1[0], a1[1], a1[2], a1[3], a1[4], a1[5])"
   ]
  },
  {
   "cell_type": "markdown",
   "metadata": {},
   "source": [
    "We can also note that we figured out earlier the equivalent value of each coefficnet: \n",
    "\n",
    "$$b^2x^2-2abxy+a^2y^2-2\\left[r(a^2+b^2)+ca\\right]x\\\\-2\\left[s(a^2+b^2)+cb\\right]y+\\left[(a^2+b^2)(r^2+s^2)-c^2\\right]=0.$$"
   ]
  },
  {
   "cell_type": "code",
   "execution_count": 604,
   "metadata": {},
   "outputs": [],
   "source": [
    "def compute_focus_and_directrix_from_general_equation_coeffients(c):\n",
    "    a, b, c, r, s = sp.symbols('a, b, c, r, s')\n",
    "    e1 = sp.Eq(A, a**2)\n",
    "    e2 = sp.Eq(B, b**2)\n",
    "    e3 = sp.Eq(C, a * b)\n",
    "    e4 = sp.Eq(D, r * (a**2 + b**2) + c * a)\n",
    "    e5 = sp.Eq(F, s * (a**2 + b**2) + c * b)\n",
    "    e6 = sp.Eq(G, (a**2 + b**2) * (r**2 + s**2) - c**2)\n",
    "    \n",
    "    "
   ]
  },
  {
   "cell_type": "code",
   "execution_count": 602,
   "metadata": {},
   "outputs": [
    {
     "data": {
      "text/plain": [
       "[1, 2, 1, -4, 0, 2]"
      ]
     },
     "execution_count": 602,
     "metadata": {},
     "output_type": "execute_result"
    }
   ],
   "source": [
    "a1"
   ]
  },
  {
   "cell_type": "code",
   "execution_count": null,
   "metadata": {},
   "outputs": [],
   "source": []
  },
  {
   "cell_type": "code",
   "execution_count": null,
   "metadata": {},
   "outputs": [],
   "source": []
  },
  {
   "cell_type": "code",
   "execution_count": null,
   "metadata": {},
   "outputs": [],
   "source": []
  },
  {
   "cell_type": "code",
   "execution_count": null,
   "metadata": {},
   "outputs": [],
   "source": []
  },
  {
   "cell_type": "code",
   "execution_count": 541,
   "metadata": {},
   "outputs": [],
   "source": [
    "def compute_general_conic_equation_from_focus_and_directrix(f, d):\n",
    "    pass"
   ]
  },
  {
   "cell_type": "code",
   "execution_count": 334,
   "metadata": {},
   "outputs": [
    {
     "data": {
      "image/png": "[encoded data removed]",
      "text/plain": [
       "<Figure size 360x360 with 1 Axes>"
      ]
     },
     "metadata": {},
     "output_type": "display_data"
    }
   ],
   "source": [
    "a = 0\n",
    "b = 4\n",
    "k = 1\n",
    "\n",
    "x_values = np.arange(-5, 5, .1)\n",
    "y_values = [compute_parabola_from_focus_and_directrix(a,b,k, i) for i in np.arange(-5, 5, .1)]\n",
    "fig, ax = plt.subplots(1, 1, figsize=(5,5))\n",
    "focus = ax.plot(a, b, \"bo\")\n",
    "directrix = ax.plot([-10, 10], [k, k], \"b\")\n",
    "p2 = ax.plot(x_values, y_values, \"ro\", markersize = 2)\n",
    "p3 = ax.axis('equal')\n",
    "p4 = ax.set_title('Parabola constructed from focus and directrix')"
   ]
  },
  {
   "cell_type": "code",
   "execution_count": null,
   "metadata": {},
   "outputs": [],
   "source": []
  },
  {
   "cell_type": "markdown",
   "metadata": {},
   "source": [
    "<div style=\"background:gray; color:white; padding: 10px\">\n",
    "    <h4>Proof 5.1.8</h4>\n",
    "    <i>Proposition:</i><br/> \n",
    "    If P=[r,s] is a point and ℓ=(c:a:b) is the line with equation c+ax+by=0 then the quadrance between P and ℓ is \n",
    "    $$ Q(P,\\ell)=\\frac {(c+ar+bs)^2}{a^2+b^2}. $$\n",
    "    <br/><i>Proof:</i>\n",
    "    <br/><b>Step x:</b> asdfasd\n",
    "    <br/><b>Step x: </b> asdfasdf\n",
    "    <br/><i>Related name:</i><br/> Quadrance between a point and a line \n",
    "    <br/><i>References</i>\n",
    "    <br/><i>Ref. 1:</i> The defining \n",
    "\n",
    "\n",
    "</div>"
   ]
  },
  {
   "cell_type": "markdown",
   "metadata": {},
   "source": [
    "<b>The emerging picture</b>"
   ]
  },
  {
   "cell_type": "markdown",
   "metadata": {},
   "source": [
    "So we are now seeing that conic sections have some knid of of connection. For our wider project in Machine INtelligence..\n",
    "\n",
    "<b>Next time...</b>\n",
    "\n"
   ]
  },
  {
   "cell_type": "code",
   "execution_count": null,
   "metadata": {},
   "outputs": [],
   "source": []
  }
 ],
 "metadata": {
  "kernelspec": {
   "display_name": "SageMath 9.0",
   "language": "sage",
   "name": "sagemath"
  },
  "language_info": {
   "codemirror_mode": {
    "name": "ipython",
    "version": 3
   },
   "file_extension": ".py",
   "mimetype": "text/x-python",
   "name": "python",
   "nbconvert_exporter": "python",
   "pygments_lexer": "ipython3",
   "version": "3.7.3"
  }
 },
 "nbformat": 4,
 "nbformat_minor": 4
}
