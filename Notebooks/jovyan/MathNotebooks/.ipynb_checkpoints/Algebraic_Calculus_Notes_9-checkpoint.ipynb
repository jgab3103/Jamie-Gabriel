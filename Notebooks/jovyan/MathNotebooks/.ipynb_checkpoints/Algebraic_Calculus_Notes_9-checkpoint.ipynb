{
 "cells": [
  {
   "cell_type": "markdown",
   "metadata": {},
   "source": [
    "<i>STATUS: Draft</i>"
   ]
  },
  {
   "cell_type": "code",
   "execution_count": 1,
   "metadata": {},
   "outputs": [],
   "source": [
    "import numpy as np\n",
    "import sympy as sp\n",
    "import shared_functions as sf\n",
    "from IPython.display import HTML\n",
    "import matplotlib.pyplot as plt"
   ]
  },
  {
   "cell_type": "markdown",
   "metadata": {},
   "source": [
    "In the last notebook we introduced summation symbol, $\\sum$, and we looked at how to work with this algebraic seeting. We We also looked at some well known sums, also some key ideas, leaving us with the idea that we wanttd sums of powers, \n",
    "\n",
    "Note we also covered telescoping series which will be critical for us to understand next steps: such as sums of natural numbers, quadratics, and cubics, and the idea of summation which tells not only how to add things, but shows patterns, start to emerge when we look at these numbers. \n",
    "\n",
    "Let's refresh our idea, so we have some basic \n",
    "\n",
    "\n",
    "$$  S_1=\\sum_{i=0}^n i=1+2+3+\\cdots+n=\\binom{n+1}{2}=\\frac{n(n+1)}{2} $$\n",
    "\n",
    "$$ S_2=\\sum_{i=0}^n i^2=1^2+2^2+3^2+\\cdots+n^2=\\frac{n(n+1)(2n+1)}{6} $$\n",
    "\n",
    "$$  S_3=\\sum_{i=0}^n i^3=1^3+2^3+3^3+\\cdots+n^3=\\frac{n^2(n+1)^2}{4} $$\n",
    "\n",
    "\n",
    "What about higher powers? What is wanted sum higher powers, wh\n",
    "at could we do? What is wanted to go to higher powers. Suppose we have the gneral \n",
    "\n",
    "$$   S_k =\\sum_{i=0}^n i^k=1^k+2^k+3^k+\\cdots+n^k.  $$\n",
    "\n",
    "An early attempt at this in 1631, by Johann Faulhaber. He wrote down formulas to calculate this up to k = 17. An example of one of these, where k = 6. \n",
    "\n",
    "$$S_6=\\sum_{i=0}^n i^6=\\frac{n(n+1)(2n+1)(3n^4+6n^3-3n+1)}{42}$$\n",
    "\n",
    "Later the same idea was taken up by Jacob Bernoulli, who publishied a key foruma for $S_k$ for a gneral value of $k$. This derivation used Pascal's array, and involved new numbers, Bernoulli numbers. \n",
    "\n"
   ]
  },
  {
   "cell_type": "code",
   "execution_count": null,
   "metadata": {},
   "outputs": [],
   "source": []
  },
  {
   "cell_type": "code",
   "execution_count": null,
   "metadata": {},
   "outputs": [],
   "source": []
  },
  {
   "cell_type": "code",
   "execution_count": null,
   "metadata": {},
   "outputs": [],
   "source": []
  },
  {
   "cell_type": "code",
   "execution_count": null,
   "metadata": {},
   "outputs": [],
   "source": []
  },
  {
   "cell_type": "markdown",
   "metadata": {},
   "source": [
    "Back to Faulhaber  - we hare heading towards 1^k + 2^k etc.....this will become really important for us. \n",
    "\n",
    "What would formula look like. \n",
    "\n",
    "We know naturals, squares and cubes. \n",
    "\n",
    "Let's start - in 1631 Faulhaber write down extension, higher power of natural numbers, he wrote down first 17...and got interesting result - formulas really important, coming into calculus a lot.....so today we want to look at the historical approach, looking at Jacob Bernouli....\n",
    "\n",
    "Important ingredeitn - pascals array, left justified - gives us coeffients - (a + b) ^n - these are just expansions polynomicals\n",
    "\n",
    "index table with i j with 0 indexising - (i,j) entry - (i! / j!(i - j)! .....ij etnry is a binomial coefficent, i chooose j - this array is connected to sums of powers problems - \n",
    "\n",
    "colums of pascal array - figurate numbers.....columms have property they can be summed easily.... this is a look up table....so we can go down and we get an easy to way to look things up.....notice we get our entries from a quadratic function in i. \n",
    "\n",
    "This phenomena occurs for all colums - why is this....this is direct consquence of additive property of pasacal....so this means that x^k can essentially be summed via the power of a pascal array\n",
    "\n",
    "Realisation that colums of pascal array is easily summable due to bernoulli...exploits to find sums of powers...bernouli...exenes and generalizes Faulhauber...\n",
    "\n",
    "We get Bournouli formula.....its big! leads to bernouli nummers....the B_j are bernoulli numbers, facinating weuqnce  of rational numbers....note all of odd bernouli numbers are 0 execpt for 1 - check out slown A000367 and A002445 are numerators and denominators of bernoulie numbers \n",
    "\n",
    "Now let's take a new approach - Pascale + Linear Albegra - let's use a different way - take some of Pascal insignt, combine with linear algebra. \n",
    "\n",
    "We will exploit telescoping area - successive differences...we see lots of cancellation....recal the binomial theorum....combine binomial theorem with teslopit series...exploit telesopiing series.....\n",
    "\n",
    "We can create linear equations and solve in matrix form...end up with general story....we get the inverse - we end up inverse matrix with bernouli numbers...."
   ]
  },
  {
   "cell_type": "code",
   "execution_count": null,
   "metadata": {},
   "outputs": [],
   "source": []
  },
  {
   "cell_type": "code",
   "execution_count": null,
   "metadata": {},
   "outputs": [],
   "source": []
  },
  {
   "cell_type": "code",
   "execution_count": null,
   "metadata": {},
   "outputs": [],
   "source": []
  },
  {
   "cell_type": "code",
   "execution_count": null,
   "metadata": {},
   "outputs": [],
   "source": []
  },
  {
   "cell_type": "code",
   "execution_count": null,
   "metadata": {},
   "outputs": [],
   "source": []
  },
  {
   "cell_type": "code",
   "execution_count": null,
   "metadata": {},
   "outputs": [],
   "source": []
  }
 ],
 "metadata": {
  "kernelspec": {
   "display_name": "SageMath 9.0",
   "language": "sage",
   "name": "sagemath"
  },
  "language_info": {
   "codemirror_mode": {
    "name": "ipython",
    "version": 3
   },
   "file_extension": ".py",
   "mimetype": "text/x-python",
   "name": "python",
   "nbconvert_exporter": "python",
   "pygments_lexer": "ipython3",
   "version": "3.7.3"
  }
 },
 "nbformat": 4,
 "nbformat_minor": 4
}
