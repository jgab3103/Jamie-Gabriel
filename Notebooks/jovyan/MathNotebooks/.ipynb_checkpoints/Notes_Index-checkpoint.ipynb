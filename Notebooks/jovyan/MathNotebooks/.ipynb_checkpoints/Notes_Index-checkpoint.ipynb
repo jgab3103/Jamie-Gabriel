{
 "cells": [
  {
   "cell_type": "markdown",
   "metadata": {},
   "source": [
    "\\begin{matrix} &\\underline{{\\color{white}\\; \\color{white}/}}\\;\\;\\underline{1+\\alpha^2-3\\alpha^3\\; / \\;1-\\alpha}\\\\ &\\quad\\quad\\quad\\quad\\quad\\quad\\quad\\quad\\quad\\quad\\quad\\quad\\quad\\underline{1-\\alpha\\quad}\\quad\\quad|\\;1+\\alpha+2\\alpha^2-\\alpha^3-\\alpha^4-\\alpha^5-\\alpha^6\\\\ &\\underline{{\\color{white}\\; \\color{white}2}}\\quad \\alpha+\\alpha^2\\quad\\quad\\quad\\quad\\quad \\quad\\\\&  \\underline{\\alpha-\\alpha^2}\\quad\\quad\\quad\\quad \\\\ &  \\underline{{\\color{white}\\; \\color{white}2}}\\; 2\\alpha^2-3\\alpha^3 \\\\ & \\;\\quad\\underline{2\\alpha^2-2\\alpha^3}\\\\ &\\quad\\quad\\quad \\underline{{\\color{white}\\; \\color{white}2}} -\\alpha^3\\\\& \\quad\\quad\\quad\\quad\\quad\\quad\\; \\underline{-\\alpha^3+\\alpha^4}\\\\&\\quad\\quad\\quad\\quad\\quad\\quad\\quad \\underline{{\\color{white}\\; \\color{white}2}} -\\alpha^4\\\\& \\quad\\quad\\quad\\quad\\quad\\quad\\quad\\quad\\quad\\quad\\; \\underline{-\\alpha^4+\\alpha^5} \\\\&\\quad\\quad\\quad\\quad\\quad\\quad\\quad\\quad\\quad\\quad\\quad \\underline{{\\color{white}\\; \\color{white}2}} -\\alpha^5\\\\& \\quad\\quad\\quad\\quad\\quad\\quad\\quad\\quad\\quad\\quad\\quad\\quad\\quad\\quad\\; \\underline{-\\alpha^5+\\alpha^6}\\\\&\\quad\\quad\\quad\\quad\\quad\\quad\\quad\\quad\\quad\\quad\\quad\\quad\\quad\\quad\\quad\\quad\\quad  -\\alpha^6\\end{matrix}"
   ]
  },
  {
   "cell_type": "code",
   "execution_count": null,
   "metadata": {},
   "outputs": [],
   "source": []
  }
 ],
 "metadata": {
  "kernelspec": {
   "display_name": "SageMath 9.0",
   "language": "sage",
   "name": "sagemath"
  },
  "language_info": {
   "codemirror_mode": {
    "name": "ipython",
    "version": 3
   },
   "file_extension": ".py",
   "mimetype": "text/x-python",
   "name": "python",
   "nbconvert_exporter": "python",
   "pygments_lexer": "ipython3",
   "version": "3.7.3"
  }
 },
 "nbformat": 4,
 "nbformat_minor": 4
}
