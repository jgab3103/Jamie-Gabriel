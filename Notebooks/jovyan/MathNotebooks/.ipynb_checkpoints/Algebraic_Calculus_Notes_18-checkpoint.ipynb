{
 "cells": [
  {
   "cell_type": "code",
   "execution_count": 2,
   "metadata": {},
   "outputs": [],
   "source": [
    "import numpy as np\n",
    "import sympy as sp\n",
    "from IPython.display import HTML\n",
    "import ipywidgets as widgets\n",
    "import matplotlib as mpl\n",
    "from mpl_toolkits.mplot3d import Axes3D\n",
    "import matplotlib.pyplot as plt\n",
    "mpl.rcParams['legend.fontsize'] = 10"
   ]
  },
  {
   "cell_type": "code",
   "execution_count": 48,
   "metadata": {},
   "outputs": [],
   "source": [
    "def format_axis_for_plot(ax, latex_label, x_lim = 20, y_lim= 20):\n",
    "    ax.grid()\n",
    "    ax.spines['left'].set_position(('data', 0.0))\n",
    "    ax.spines['bottom'].set_position(('data', 0.0))\n",
    "    ax.spines['top'].set_visible(False)\n",
    "    ax.spines['right'].set_visible(False)\n",
    "    ax.set_xlim([-x_lim, x_lim])\n",
    "    ax.set_ylim([-y_lim, y_lim])\n",
    "    ax.set_title(latex_label)\n",
    "    \n",
    "    return(ax)\n",
    "\n",
    "def compute_type_of_conic(A, B, C, D, F, G):\n",
    "    \n",
    "    degenerate_value = float(sp.det(sp.Matrix([[A, B/2, D/2],\n",
    "                                    [B/2, C, F/2],\n",
    "                                    [D/2, F/2, G]])))\n",
    "    \n",
    "    is_degenerate = degenerate_value == 0\n",
    "    \n",
    "    conic_type_value = float(sp.det(sp.Matrix([[A, B/2],\n",
    "                                 [B/2, C]])))\n",
    "    conic_type = \"unknown\"\n",
    "    if conic_type_value > 0:\n",
    "        conic_type = \"Ellipse\"\n",
    "    elif conic_type_value < 0:\n",
    "        conic_type = \"Hyperbola\"\n",
    "    elif conic_type_value == 0:\n",
    "        conic_type = \"Parabola\"\n",
    "    else:\n",
    "        pass\n",
    "    \n",
    "    print(\"Conic is degenerate: \", is_degenerate, \"\\nDeterminant value of matrix to indicate if degenerate: \\n\", degenerate_value)\n",
    "    print(\"Conic type: \", conic_type, \"\\nDeterminant value of matrix that indicates conic type: \\n\", conic_type_value)\n",
    "    "
   ]
  },
  {
   "cell_type": "markdown",
   "metadata": {},
   "source": [
    "In the last notebook, we examined Hypterbolas, and bringing our study of conic sections of antiquity, moving to a more modern pont of view. This really begins with Cartesiang corrdinates and the idea of associating equtino in x and y with locus of points. \n",
    "\n",
    "This has some interesting ramifciations - linear equations, some visualised as lines, $3x-4y=7$, quadratices represe $ x^2-2xy+3y^2-5x=7$ represented conic sections.\n",
    "\n",
    "We have also seen the general curve that can be expressed as: $ax^2+bxy+cy^2+dx+fy+g=0$ - also p0werful in relationsip between these types of theorems that we were set up could now be proved algebraically. \n",
    "\n",
    "IN the 17th Century, move beyond quadratic curves, to cubic curves. Just as we can try and categorise quadratic, we can also look towards categorising cubic curves, Newton tried to \n",
    "\n",
    "Normal form is $y^2 = ax^3 + bx^2 + cx + d$, but also elliptic cubic, nodal cupbic, cuspidal cubic, semicubical parabola, Folium of Descartsa and Fermat\n",
    "\n",
    "Also, mechanically generated curve, Clycoid of Mersenne in 1615 and also usual sine curve (auxiliary curve associated to teh cycloid. \n",
    "\n",
    "Also characterised by move from curves to functinos, Euler introudced idea of $y = f(x)$, usually meaning a polynomical. \n",
    "\n",
    "What this says curves are complicated, and we need to be very careful how we work with them\n",
    "\n",
    "Note that we ahave also started to work with code and we need to be more organised at this point. We will have 2 code bases, 1 of standard functions and one to capture our proofs"
   ]
  },
  {
   "cell_type": "markdown",
   "metadata": {},
   "source": [
    "Wo where to next. Lets start with redefining a line, and it is natrual consider curves in te context of composite shapes. The proofs become pretty complicated so let's focus on examples for a while:\n",
    "\n",
    "Let's consider the following example: "
   ]
  },
  {
   "cell_type": "code",
   "execution_count": 34,
   "metadata": {},
   "outputs": [
    {
     "data": {
      "text/latex": [
       "$\\displaystyle 2 x^{2} - 7 x y + 5 x - 4 y^{2} + 7 y - 3 = 0$"
      ],
      "text/plain": [
       "Eq(2*x**2 - 7*x*y + 5*x - 4*y**2 + 7*y - 3, 0)"
      ]
     },
     "execution_count": 34,
     "metadata": {},
     "output_type": "execute_result"
    }
   ],
   "source": [
    "x, y = sp.symbols('x y')\n",
    "g1 = sp.Eq(2 * x**2 - 7 * x * y - 4 * y**2 + 5 * x + 7 * y - 3, 0)\n",
    "g1"
   ]
  },
  {
   "cell_type": "markdown",
   "metadata": {},
   "source": [
    "When we factor it, something interesing arises: this polynomical which is has the form of a standard equation of a conic section factors into two lines:"
   ]
  },
  {
   "cell_type": "code",
   "execution_count": 56,
   "metadata": {},
   "outputs": [
    {
     "data": {
      "text/latex": [
       "$\\displaystyle \\left(x - 4 y + 3\\right) \\left(2 x + y - 1\\right) = 0$"
      ],
      "text/plain": [
       "Eq((x - 4*y + 3)*(2*x + y - 1), 0)"
      ]
     },
     "execution_count": 56,
     "metadata": {},
     "output_type": "execute_result"
    }
   ],
   "source": [
    "g1.factor()"
   ]
  },
  {
   "cell_type": "markdown",
   "metadata": {},
   "source": [
    "Let's plot all of this to get a sense of how it looks. We can explicitly solve for y as follows: "
   ]
  },
  {
   "cell_type": "code",
   "execution_count": 57,
   "metadata": {},
   "outputs": [
    {
     "data": {
      "text/plain": [
       "[1 - 2*x, x/4 + 3/4]"
      ]
     },
     "execution_count": 57,
     "metadata": {},
     "output_type": "execute_result"
    }
   ],
   "source": [
    "g2 = sp.solve(g1, y)\n",
    "g2"
   ]
  },
  {
   "cell_type": "code",
   "execution_count": 58,
   "metadata": {},
   "outputs": [
    {
     "data": {
      "image/png": "[encoded data removed]",
      "text/plain": [
       "<Figure size 576x432 with 1 Axes>"
      ]
     },
     "metadata": {},
     "output_type": "display_data"
    }
   ],
   "source": [
    "x_values = np.arange(-10, 10, 0.1)\n",
    "y_values_1 = [g2[0].subs(x, i) for i in x_values] \n",
    "y_values_2 = [g2[1].subs(x, j) for j in x_values] \n",
    "\n",
    "fig, ax = plt.subplots(1, 1, figsize=(8, 6))\n",
    "ax = format_axis_for_plot(ax, \"Conic\", 15, 15)\n",
    "\n",
    "p = ax.plot(x_values, y_values_1, 'b')\n",
    "p = ax.plot(x_values, y_values_2, 'b')\n",
    "\n"
   ]
  },
  {
   "cell_type": "markdown",
   "metadata": {},
   "source": [
    "THis just comes across as a degenerate conic. Notice we can also pass this to our function from the last section. Take the coeffiecients from the equation pass to the fucntion. "
   ]
  },
  {
   "cell_type": "code",
   "execution_count": 51,
   "metadata": {},
   "outputs": [
    {
     "data": {
      "text/latex": [
       "$\\displaystyle 2 x^{2} - 7 x y + 5 x - 4 y^{2} + 7 y - 3 = 0$"
      ],
      "text/plain": [
       "Eq(2*x**2 - 7*x*y + 5*x - 4*y**2 + 7*y - 3, 0)"
      ]
     },
     "execution_count": 51,
     "metadata": {},
     "output_type": "execute_result"
    }
   ],
   "source": [
    "g1"
   ]
  },
  {
   "cell_type": "code",
   "execution_count": 55,
   "metadata": {},
   "outputs": [
    {
     "name": "stdout",
     "output_type": "stream",
     "text": [
      "Conic is degenerate:  True \n",
      "Determinant value of matrix to indicate if degenerate: \n",
      " 0.0\n",
      "Conic type:  Hyperbola \n",
      "Determinant value of matrix that indicates conic type: \n",
      " -20.25\n"
     ]
    }
   ],
   "source": [
    "compute_type_of_conic(2, -7, -4, 5, 7, -3)"
   ]
  },
  {
   "cell_type": "markdown",
   "metadata": {},
   "source": [
    "Sure enough, this degenerate, it is a union of two lines. Let's try some other examples"
   ]
  },
  {
   "cell_type": "code",
   "execution_count": 62,
   "metadata": {},
   "outputs": [
    {
     "data": {
      "text/latex": [
       "$\\displaystyle x^{2} - 2 x - y^{2} + 1 = 0$"
      ],
      "text/plain": [
       "Eq(x**2 - 2*x - y**2 + 1, 0)"
      ]
     },
     "execution_count": 62,
     "metadata": {},
     "output_type": "execute_result"
    }
   ],
   "source": [
    "x, y = sp.symbols('x y')\n",
    "g3 = sp.Eq(x**2 - 2* x - y**2 + 1, 0)\n",
    "g3"
   ]
  },
  {
   "cell_type": "code",
   "execution_count": 63,
   "metadata": {},
   "outputs": [
    {
     "data": {
      "text/latex": [
       "$\\displaystyle \\left(x - y - 1\\right) \\left(x + y - 1\\right) = 0$"
      ],
      "text/plain": [
       "Eq((x - y - 1)*(x + y - 1), 0)"
      ]
     },
     "execution_count": 63,
     "metadata": {},
     "output_type": "execute_result"
    }
   ],
   "source": [
    "g3.factor()"
   ]
  },
  {
   "cell_type": "markdown",
   "metadata": {},
   "source": [
    "We can easily plot, pass it to our function to check if its degenerate. Anotehr example:"
   ]
  },
  {
   "cell_type": "code",
   "execution_count": 65,
   "metadata": {},
   "outputs": [
    {
     "data": {
      "text/latex": [
       "$\\displaystyle \\left(5 x - 2 y\\right) \\left(5 x + 2 y\\right) = 0$"
      ],
      "text/plain": [
       "Eq((5*x - 2*y)*(5*x + 2*y), 0)"
      ]
     },
     "execution_count": 65,
     "metadata": {},
     "output_type": "execute_result"
    }
   ],
   "source": [
    "g4 = sp.Eq(25 * x**2 - 4 * y**2, 0)\n",
    "g4.factor()"
   ]
  },
  {
   "cell_type": "markdown",
   "metadata": {},
   "source": [
    "And another:"
   ]
  },
  {
   "cell_type": "code",
   "execution_count": 67,
   "metadata": {},
   "outputs": [
    {
     "data": {
      "text/latex": [
       "$\\displaystyle \\left(3 x - 2 y\\right)^{2} = 0$"
      ],
      "text/plain": [
       "Eq((3*x - 2*y)**2, 0)"
      ]
     },
     "execution_count": 67,
     "metadata": {},
     "output_type": "execute_result"
    }
   ],
   "source": [
    "g5 = sp.Eq(9 * x**2 - 12 * x * y + 4 * y**2, 0)\n",
    "g5.factor()"
   ]
  },
  {
   "cell_type": "markdown",
   "metadata": {},
   "source": [
    "And a final example:"
   ]
  },
  {
   "cell_type": "code",
   "execution_count": 70,
   "metadata": {},
   "outputs": [
    {
     "data": {
      "text/latex": [
       "$\\displaystyle x^{2} + 5 y^{2} = 0$"
      ],
      "text/plain": [
       "Eq(x**2 + 5*y**2, 0)"
      ]
     },
     "execution_count": 70,
     "metadata": {},
     "output_type": "execute_result"
    }
   ],
   "source": [
    "g5 = sp.Eq(x**2 + 5 * y**2, 0)\n",
    "g5.factor()"
   ]
  },
  {
   "cell_type": "markdown",
   "metadata": {},
   "source": [
    "The last one does obviously factor, but has no solutions other than zero, if we ignore\n",
    "\n",
    "So this suggests that there is some class of curves that are actually lines, but they are still somehow curves. Is a degenerate form of a curve still a curve?\n",
    "\n",
    "Lets look at some other examples. What about 2 parallel lines. THis can be defined as another degenegerate case of a conic section. Consider the vertex, the point where all the lines meet, constructing a line. \n",
    "\n",
    "Let's look at an example, and we will start with a visualisation first"
   ]
  },
  {
   "cell_type": "code",
   "execution_count": 82,
   "metadata": {},
   "outputs": [
    {
     "data": {
      "text/latex": [
       "$\\displaystyle \\left(x - 2 y + 1\\right)^{2} = -1$"
      ],
      "text/plain": [
       "Eq((x - 2*y + 1)**2, -1)"
      ]
     },
     "execution_count": 82,
     "metadata": {},
     "output_type": "execute_result"
    }
   ],
   "source": [
    "x, y = sp.symbols('x y')\n",
    "g6 = sp.Eq((x - 2 * y + 1)**2, -1)\n",
    "g6"
   ]
  },
  {
   "cell_type": "markdown",
   "metadata": {},
   "source": [
    "So I can assume this is conic section. However, if I try and solve it with intention to sketch it, there are no rational solutions: "
   ]
  },
  {
   "cell_type": "code",
   "execution_count": 84,
   "metadata": {},
   "outputs": [
    {
     "data": {
      "text/plain": [
       "[x/2 + 1/2 - I/2, x/2 + 1/2 + I/2]"
      ]
     },
     "execution_count": 84,
     "metadata": {},
     "output_type": "execute_result"
    }
   ],
   "source": [
    "sp.solve(g6, y)"
   ]
  },
  {
   "cell_type": "markdown",
   "metadata": {},
   "source": [
    "I can also expand to general equation form and use the fucntion: "
   ]
  },
  {
   "cell_type": "code",
   "execution_count": 85,
   "metadata": {},
   "outputs": [
    {
     "data": {
      "text/latex": [
       "$\\displaystyle x^{2} - 4 x y + 2 x + 4 y^{2} - 4 y + 1 = -1$"
      ],
      "text/plain": [
       "Eq(x**2 - 4*x*y + 2*x + 4*y**2 - 4*y + 1, -1)"
      ]
     },
     "execution_count": 85,
     "metadata": {},
     "output_type": "execute_result"
    }
   ],
   "source": [
    "g6.expand()"
   ]
  },
  {
   "cell_type": "code",
   "execution_count": 86,
   "metadata": {},
   "outputs": [
    {
     "name": "stdout",
     "output_type": "stream",
     "text": [
      "Conic is degenerate:  True \n",
      "Determinant value of matrix to indicate if degenerate: \n",
      " 0.0\n",
      "Conic type:  Parabola \n",
      "Determinant value of matrix that indicates conic type: \n",
      " 0.0\n"
     ]
    }
   ],
   "source": [
    "compute_type_of_conic(1, -4, 4, 2, -4, 0)"
   ]
  },
  {
   "cell_type": "markdown",
   "metadata": {},
   "source": [
    "Let's add some variations to this, which do have solutions"
   ]
  },
  {
   "cell_type": "code",
   "execution_count": 95,
   "metadata": {},
   "outputs": [
    {
     "data": {
      "text/latex": [
       "$\\displaystyle \\left(x - 2 y + 1\\right)^{2} = 0$"
      ],
      "text/plain": [
       "Eq((x - 2*y + 1)**2, 0)"
      ]
     },
     "execution_count": 95,
     "metadata": {},
     "output_type": "execute_result"
    }
   ],
   "source": [
    "x, y = sp.symbols('x y')\n",
    "g7 = sp.Eq((x - 2 * y + 1)**2, 0)\n",
    "g7"
   ]
  },
  {
   "cell_type": "code",
   "execution_count": 96,
   "metadata": {},
   "outputs": [
    {
     "data": {
      "text/latex": [
       "$\\displaystyle \\left(x - 2 y + 1\\right)^{2} = 1$"
      ],
      "text/plain": [
       "Eq((x - 2*y + 1)**2, 1)"
      ]
     },
     "execution_count": 96,
     "metadata": {},
     "output_type": "execute_result"
    }
   ],
   "source": [
    "x, y = sp.symbols('x y')\n",
    "g8 = sp.Eq((x - 2 * y + 1)**2, 1)\n",
    "g8"
   ]
  },
  {
   "cell_type": "code",
   "execution_count": 97,
   "metadata": {},
   "outputs": [
    {
     "data": {
      "text/latex": [
       "$\\displaystyle \\left(x - 2 y + 1\\right)^{2} = 4$"
      ],
      "text/plain": [
       "Eq((x - 2*y + 1)**2, 4)"
      ]
     },
     "execution_count": 97,
     "metadata": {},
     "output_type": "execute_result"
    }
   ],
   "source": [
    "x, y = sp.symbols('x y')\n",
    "g9 = sp.Eq((x - 2 * y + 1)**2, 4)\n",
    "g9"
   ]
  },
  {
   "cell_type": "code",
   "execution_count": 98,
   "metadata": {},
   "outputs": [
    {
     "name": "stdout",
     "output_type": "stream",
     "text": [
      "[x/2 + 1/2]\n",
      "[x/2, x/2 + 1]\n",
      "[x/2 - 1/2, x/2 + 3/2]\n"
     ]
    }
   ],
   "source": [
    "print(sp.solve(g7, y))\n",
    "print(sp.solve(g8, y))\n",
    "print(sp.solve(g9, y))"
   ]
  },
  {
   "cell_type": "code",
   "execution_count": 121,
   "metadata": {},
   "outputs": [
    {
     "data": {
      "image/png": "[encoded data removed]",
      "text/plain": [
       "<Figure size 1080x360 with 3 Axes>"
      ]
     },
     "metadata": {},
     "output_type": "display_data"
    }
   ],
   "source": [
    "x_values = np.arange(-5, 5, 0.1)\n",
    "\n",
    "g7_y_values = [sp.solve(g7, y)[0].subs(x, i) for i in x_values] \n",
    "g8_y_values_0 = [sp.solve(g8, y)[0].subs(x, i) for i in x_values] \n",
    "g9_y_values_0 = [sp.solve(g9, y)[0].subs(x, i) for i in x_values] \n",
    "g8_y_values_1 = [sp.solve(g8, y)[1].subs(x, i) for i in x_values] \n",
    "g9_y_values_1 = [sp.solve(g9, y)[1].subs(x, i) for i in x_values] \n",
    "\n",
    "fig, ax = plt.subplots(1, 3, figsize=(15, 5))\n",
    "\n",
    "ax[0] = format_axis_for_plot(ax[0], \"$(x - 2 y + 1)^{2} = 0$\", 10, 8)\n",
    "ax[1] = format_axis_for_plot(ax[1], \"$(x - 2 y + 1)^{2} = 1$\", 10, 8)\n",
    "ax[2] = format_axis_for_plot(ax[2], \"$(x - 2 y + 1)^{2} = 4$\", 10, 8)\n",
    "\n",
    "p = ax[0].plot(x_values, g7_y_values, 'b')\n",
    "p = ax[1].plot(x_values, g8_y_values_0, 'b')\n",
    "p = ax[2].plot(x_values, g9_y_values_0, 'b')\n",
    "p = ax[1].plot(x_values, g8_y_values_1, 'b')\n",
    "p = ax[2].plot(x_values, g9_y_values_1, 'b')\n"
   ]
  },
  {
   "cell_type": "markdown",
   "metadata": {},
   "source": []
  },
  {
   "cell_type": "code",
   "execution_count": null,
   "metadata": {},
   "outputs": [],
   "source": []
  }
 ],
 "metadata": {
  "kernelspec": {
   "display_name": "SageMath 9.0",
   "language": "sage",
   "name": "sagemath"
  },
  "language_info": {
   "codemirror_mode": {
    "name": "ipython",
    "version": 3
   },
   "file_extension": ".py",
   "mimetype": "text/x-python",
   "name": "python",
   "nbconvert_exporter": "python",
   "pygments_lexer": "ipython3",
   "version": "3.7.3"
  }
 },
 "nbformat": 4,
 "nbformat_minor": 4
}
