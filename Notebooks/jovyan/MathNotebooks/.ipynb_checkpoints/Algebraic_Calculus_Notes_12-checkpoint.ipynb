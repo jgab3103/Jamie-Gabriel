{
 "cells": [
  {
   "cell_type": "code",
   "execution_count": 1,
   "metadata": {},
   "outputs": [],
   "source": [
    "import numpy as np\n",
    "import sympy as sp\n",
    "import shared_functions as sf\n",
    "from IPython.display import HTML\n",
    "import matplotlib.pyplot as plt\n",
    "import ipywidgets as widgets"
   ]
  },
  {
   "cell_type": "markdown",
   "metadata": {},
   "source": [
    "We hit a milestone in the last notebook, being able to have new way to understand summation. Specifically we arrived at this result: \n",
    "\n",
    "If $  S_k=S_k(n)=\\sum_{i=0}^n i^k $, then\n",
    "\n",
    "$$ \\left(\\begin{matrix} 1 & 0 & 0 & 0 \\\\ -1 & 2 & 0 & 0 \\\\ 1 & -3 & 3 & 0 \\\\ -1 & 4 & -6 & 4 \\end{matrix} \\right) \\left(\\begin{matrix} S_0 \\\\ S_1 \\\\ S_2 \\\\ S_3 \\end{matrix} \\right)=\\left(\\begin{matrix} n \\\\ n^2 \\\\ n^3 \\\\ n^4 \\end{matrix} \\right). $$\n",
    "\n",
    "\n",
    "It has taken us a while to get this result and you should be happy to get here. Many of the ideas around signed area are immeditely applicable and intuitive, what we have examined is perhaps far ore subtle. But with the introduction of summation. We have introduced a notino of summation. Even the idea of Telescoping series can appear strange Along the way, we have also extended our understanding into binomial theorem, Faulhaber, Bounoouli, and we are nuanced picture is starting to emerge.\n",
    "\n",
    "What this also really tells us is that Algebraic Calculus is really a nuanced reframing of differen tideas.  represents a subtle cross roads, this subject is is many ways a cross roads of different ideas becoming apparent is subtlely, and interationship to other parts of Math. While Linear Algebra, Brings us into some of the subtely of calculus so we can explore different aspects of mathematics from geometry, linear algebra, number patterns and theory, sequences. \n",
    "\n",
    "At the heart of this, we are challenging what our idea of mathematics structure is and how and how flexible it is, and makes this subject quite difficult. lets are challenging our concepts of number so to more complex structures to polynomicals and matrices.  Polynomials are commutative generalizations of numbers, while matrices are non-commutative generalizations.\n",
    "\n",
    "In this notebook, we are going to slow down a little to ensure we have our bearings new concepts. We are going to touch base with the classical algebra of polynomials, and ensure we have a deep unersnging of them. We are also going to revisit the ideas of how we can cosntruct them, and also solidify our use of linear Algebra. Idea that really embed these basic concepts, and give us a chance to catch up\n",
    "\n",
    "Soon enough things will start to speed up again will start to see more complex structures, vexels"
   ]
  },
  {
   "cell_type": "markdown",
   "metadata": {},
   "source": [
    "So let's start simply with polynomials. In the mathematics of precalculs we have seen these types of strcutures\n",
    "\n",
    "$$p(x)=a_0+a_1x+\\ldots+a_{n-1} x^{n-1}+a_n x^n $$"
   ]
  },
  {
   "cell_type": "markdown",
   "metadata": {},
   "source": [
    "The polynomial has a label $p(x)$. We call the values $a_0,a_1,\\ldots,a_n$ coeffiencients, just rational numbers. THe value $x$ is the unknown. The powers are here represented $n$\n",
    "\n",
    "From exposure to precalculus, and in foundational mathematics it is not hard to get a sesnse of how they work "
   ]
  },
  {
   "cell_type": "code",
   "execution_count": 2,
   "metadata": {},
   "outputs": [],
   "source": [
    "x = sp.symbols('x')\n",
    "\n",
    "p = 8 - 2 * x + x^2\n",
    "q = 5 + x^3\n",
    "r = 16 * x + x^4"
   ]
  },
  {
   "cell_type": "markdown",
   "metadata": {},
   "source": [
    "I have provided formal proofs of this elsewhere, but let's just work through an example in Python to check that things behave as we expect.\n",
    "\n",
    "<b>Example of the Commutative property of addition:</b>"
   ]
  },
  {
   "cell_type": "code",
   "execution_count": 3,
   "metadata": {},
   "outputs": [
    {
     "data": {
      "text/plain": [
       "True"
      ]
     },
     "execution_count": 3,
     "metadata": {},
     "output_type": "execute_result"
    }
   ],
   "source": [
    "sp.simplify(p + q) == sp.simplify(q + p)"
   ]
  },
  {
   "cell_type": "markdown",
   "metadata": {},
   "source": [
    "<b>Example of the Commutative property of multiplication: </b>"
   ]
  },
  {
   "cell_type": "code",
   "execution_count": 4,
   "metadata": {},
   "outputs": [
    {
     "data": {
      "text/plain": [
       "True"
      ]
     },
     "execution_count": 4,
     "metadata": {},
     "output_type": "execute_result"
    }
   ],
   "source": [
    "sp.simplify(p * q) == sp.simplify(q * p)"
   ]
  },
  {
   "cell_type": "markdown",
   "metadata": {},
   "source": [
    "<b>Example of the Associative property of addition: </b>"
   ]
  },
  {
   "cell_type": "code",
   "execution_count": 5,
   "metadata": {},
   "outputs": [
    {
     "data": {
      "text/plain": [
       "True"
      ]
     },
     "execution_count": 5,
     "metadata": {},
     "output_type": "execute_result"
    }
   ],
   "source": [
    "sp.simplify(p + (q + r)) == sp.simplify((p + q) + r)"
   ]
  },
  {
   "cell_type": "markdown",
   "metadata": {},
   "source": [
    "<b>Example of the Associative property of multiplication: </b>"
   ]
  },
  {
   "cell_type": "code",
   "execution_count": 6,
   "metadata": {},
   "outputs": [
    {
     "data": {
      "text/plain": [
       "True"
      ]
     },
     "execution_count": 6,
     "metadata": {},
     "output_type": "execute_result"
    }
   ],
   "source": [
    "sp.simplify(p * (q * r)) == sp.simplify((p * q) * r)"
   ]
  },
  {
   "cell_type": "markdown",
   "metadata": {},
   "source": [
    "<b>Example of the additive identity arising from the zero-polynomial: </b>"
   ]
  },
  {
   "cell_type": "code",
   "execution_count": 7,
   "metadata": {},
   "outputs": [
    {
     "data": {
      "text/plain": [
       "True"
      ]
     },
     "execution_count": 7,
     "metadata": {},
     "output_type": "execute_result"
    }
   ],
   "source": [
    "sp.simplify(0 * p) == 0"
   ]
  },
  {
   "cell_type": "markdown",
   "metadata": {},
   "source": [
    "<b>Example of the multiplicative identity arising from the unit-polynomial: </b>"
   ]
  },
  {
   "cell_type": "code",
   "execution_count": 8,
   "metadata": {},
   "outputs": [
    {
     "data": {
      "text/plain": [
       "True"
      ]
     },
     "execution_count": 8,
     "metadata": {},
     "output_type": "execute_result"
    }
   ],
   "source": [
    "sp.simplify(1 * p) == p"
   ]
  },
  {
   "cell_type": "markdown",
   "metadata": {},
   "source": [
    "<b>Example of the additive inverse property: </b>"
   ]
  },
  {
   "cell_type": "code",
   "execution_count": 9,
   "metadata": {},
   "outputs": [
    {
     "data": {
      "text/plain": [
       "True"
      ]
     },
     "execution_count": 9,
     "metadata": {},
     "output_type": "execute_result"
    }
   ],
   "source": [
    "sp.simplify(p + (-p)) == 0"
   ]
  },
  {
   "cell_type": "markdown",
   "metadata": {},
   "source": [
    "<b>Example of the Associative property of multiplication: </b>"
   ]
  },
  {
   "cell_type": "code",
   "execution_count": 10,
   "metadata": {},
   "outputs": [
    {
     "data": {
      "text/plain": [
       "True"
      ]
     },
     "execution_count": 10,
     "metadata": {},
     "output_type": "execute_result"
    }
   ],
   "source": [
    "sp.simplify(p * (q + r)).expand() == sp.simplify(p*q + p*r).expand()"
   ]
  },
  {
   "cell_type": "markdown",
   "metadata": {},
   "source": [
    "<div style=\"background:#99ddff; color:black; padding: 10px\">\n",
    "<b>Add to these notes:</b>\n",
    "    \n",
    "Create a Python function that takes 2 expressions and a property to check (for example, Commutative addition, Associative addition etc). It returns True if it meets the criteria, False if not\n",
    "    \n",
    "</div>"
   ]
  },
  {
   "cell_type": "markdown",
   "metadata": {},
   "source": [
    "All of this is straight forward and should accord withteh gneral approach taken to polynomials that you would have encountered in precalculus. But its comforting to know that Python feels the same way. \n",
    "\n",
    "Its also worth noting that similiar polynomials have similair solutions. In the same what that $ 3 + 2$ is more similiar to $2 + 2$ that it is to $100 + 2$. Polynomicals behave in the smae way also,a dn signs often reversed. Consider the following expansions"
   ]
  },
  {
   "cell_type": "code",
   "execution_count": 11,
   "metadata": {},
   "outputs": [
    {
     "data": {
      "text/html": [
       "<html><script type=\"math/tex; mode=display\">\\newcommand{\\Bold}[1]{\\mathbf{#1}}-x^{3} + 1</script></html>"
      ],
      "text/plain": [
       "-x^3 + 1"
      ]
     },
     "metadata": {},
     "output_type": "display_data"
    }
   ],
   "source": [
    "show(((1 - x) * (1 + x + x^2)).expand())"
   ]
  },
  {
   "cell_type": "code",
   "execution_count": 12,
   "metadata": {},
   "outputs": [
    {
     "data": {
      "text/html": [
       "<html><script type=\"math/tex; mode=display\">\\newcommand{\\Bold}[1]{\\mathbf{#1}}x^{3} + 1</script></html>"
      ],
      "text/plain": [
       "x^3 + 1"
      ]
     },
     "metadata": {},
     "output_type": "display_data"
    }
   ],
   "source": [
    "show(((1 + x) * (1 - x + x^2)).expand())"
   ]
  },
  {
   "cell_type": "markdown",
   "metadata": {},
   "source": [
    "Of course, none of this is exciting so far. We would expect from the nature of numbers and anyting we use to stand in for them to behave in a similiar way. \n",
    "\n",
    "There are of course all kinds of polynomials that we can construct, there are also special classes of them. THere are Chebyeshev Polynomicals, Bernstein polynomials, that have certain properites and allow us to do certain things. We are have already seen class of polynomials that emerge from the Pascal triangle. \n",
    "\n",
    "What about other classes of polynomials? Consider what happens to the following polynomial when I factor it: "
   ]
  },
  {
   "cell_type": "code",
   "execution_count": 13,
   "metadata": {},
   "outputs": [
    {
     "data": {
      "text/html": [
       "<html><script type=\"math/tex; mode=display\">\\newcommand{\\Bold}[1]{\\mathbf{#1}}x^{3} + 6 \\, x^{2} + 11 \\, x + 6</script></html>"
      ],
      "text/plain": [
       "x^3 + 6*x^2 + 11*x + 6"
      ]
     },
     "metadata": {},
     "output_type": "display_data"
    }
   ],
   "source": [
    "x = sp.symbols('x')\n",
    "p = 6 + 11 * x + 6 * x^2 + x^3\n",
    "show(p)"
   ]
  },
  {
   "cell_type": "code",
   "execution_count": 14,
   "metadata": {},
   "outputs": [
    {
     "data": {
      "text/html": [
       "<html><script type=\"math/tex; mode=display\">\\newcommand{\\Bold}[1]{\\mathbf{#1}}{\\left(x + 3\\right)} {\\left(x + 2\\right)} {\\left(x + 1\\right)}</script></html>"
      ],
      "text/plain": [
       "(x + 3)*(x + 2)*(x + 1)"
      ]
     },
     "metadata": {},
     "output_type": "display_data"
    }
   ],
   "source": [
    "show(p.factor())"
   ]
  },
  {
   "cell_type": "markdown",
   "metadata": {},
   "source": [
    "This polynomial has the property that it factors to linear factors. We can of course set these to $0$ and solve for x"
   ]
  },
  {
   "cell_type": "code",
   "execution_count": 15,
   "metadata": {},
   "outputs": [
    {
     "data": {
      "text/plain": [
       "[-3, -2, -1]"
      ]
     },
     "execution_count": 15,
     "metadata": {},
     "output_type": "execute_result"
    }
   ],
   "source": [
    "sp.solve(p, x)"
   ]
  },
  {
   "cell_type": "markdown",
   "metadata": {},
   "source": [
    "We can start the other way of coruse "
   ]
  },
  {
   "cell_type": "code",
   "execution_count": 16,
   "metadata": {},
   "outputs": [
    {
     "data": {
      "text/html": [
       "<html><script type=\"math/tex; mode=display\">\\newcommand{\\Bold}[1]{\\mathbf{#1}}{\\left(4 \\, x + 3\\right)} {\\left(3 \\, x + 2\\right)} {\\left(2 \\, x + 1\\right)}</script></html>"
      ],
      "text/plain": [
       "(4*x + 3)*(3*x + 2)*(2*x + 1)"
      ]
     },
     "metadata": {},
     "output_type": "display_data"
    }
   ],
   "source": [
    "q = (1 + 2*x) * ( 2 + 3 *x) * (3 + 4 *x)\n",
    "show(q)"
   ]
  },
  {
   "cell_type": "markdown",
   "metadata": {},
   "source": [
    "We can expand it:"
   ]
  },
  {
   "cell_type": "code",
   "execution_count": 17,
   "metadata": {},
   "outputs": [
    {
     "data": {
      "text/html": [
       "<html><script type=\"math/tex; mode=display\">\\newcommand{\\Bold}[1]{\\mathbf{#1}}24 \\, x^{3} + 46 \\, x^{2} + 29 \\, x + 6</script></html>"
      ],
      "text/plain": [
       "24*x^3 + 46*x^2 + 29*x + 6"
      ]
     },
     "metadata": {},
     "output_type": "display_data"
    }
   ],
   "source": [
    "show(q.expand())"
   ]
  },
  {
   "cell_type": "markdown",
   "metadata": {},
   "source": [
    "And we can solve it"
   ]
  },
  {
   "cell_type": "code",
   "execution_count": 18,
   "metadata": {},
   "outputs": [
    {
     "data": {
      "text/plain": [
       "[-3/4, -2/3, -1/2]"
      ]
     },
     "execution_count": 18,
     "metadata": {},
     "output_type": "execute_result"
    }
   ],
   "source": [
    "sp.solve(q, x)"
   ]
  },
  {
   "cell_type": "markdown",
   "metadata": {},
   "source": [
    "Finally, let's look at one in the same class, but we will make everything a variable. Create and expand it: "
   ]
  },
  {
   "cell_type": "code",
   "execution_count": 19,
   "metadata": {},
   "outputs": [
    {
     "data": {
      "text/latex": [
       "$\\displaystyle a b c + a b x + a c x + a x^{2} + b c x + b x^{2} + c x^{2} + x^{3}$"
      ],
      "text/plain": [
       "a*b*c + a*b*x + a*c*x + a*x**2 + b*c*x + b*x**2 + c*x**2 + x**3"
      ]
     },
     "execution_count": 19,
     "metadata": {},
     "output_type": "execute_result"
    }
   ],
   "source": [
    "a, b, c, x = sp.symbols('a, b, c, x')\n",
    "q = (a + x) * ( b + x) * (c + x)\n",
    "q.expand()"
   ]
  },
  {
   "cell_type": "markdown",
   "metadata": {},
   "source": [
    "And now solve it: "
   ]
  },
  {
   "cell_type": "code",
   "execution_count": 20,
   "metadata": {},
   "outputs": [
    {
     "data": {
      "text/plain": [
       "[-a, -b, -c]"
      ]
     },
     "execution_count": 20,
     "metadata": {},
     "output_type": "execute_result"
    }
   ],
   "source": [
    "sp.solve(q, x)"
   ]
  },
  {
   "cell_type": "markdown",
   "metadata": {},
   "source": [
    "<div style=\"background:#99ddff; color:black; padding: 10px\">\n",
    "<b>Add to these notes:</b>\n",
    "    \n",
    "As a way to solidify your skills, you create a function that takes a polynomial, determines its roots, y-intercept, etc and plot it via matplot lib. This is a great way to get more conformatble using different functions from Python libraries and brinign them all together.\n",
    "    \n",
    "</div>"
   ]
  },
  {
   "cell_type": "markdown",
   "metadata": {},
   "source": [
    "One of the early ideas we learn in arithmetic is aorund Recal that modular idea integers. I could divide 5 by 4 and and will get 1 and reminer of 1/4. We can see this in action in the modulus operator in Python. A related ideas was <b>Fields</b> and we explored the field of F7"
   ]
  },
  {
   "cell_type": "code",
   "execution_count": 98,
   "metadata": {},
   "outputs": [
    {
     "data": {
      "text/plain": [
       "[0, 1, 2, 3, 0, 1, 2, 3, 0, 1]"
      ]
     },
     "execution_count": 98,
     "metadata": {},
     "output_type": "execute_result"
    }
   ],
   "source": [
    "[i % 4 for i in range(10)]"
   ]
  },
  {
   "cell_type": "markdown",
   "metadata": {},
   "source": [
    "What we are seeing as we move up is if $i$ is divisiable by 3, leaving a remainder of 0. \n",
    "\n",
    "It's possible to exand this idea to polynomials, the idea of <b>Modular Polynomial arithmetic</b> To do this suppose we have polynomicals, $p(x)$ and $q(x)$ and we will say they are equivalent $\\text{mod} \\, x^5$ if $(p - q)(x)$ is divisable by $x^5$. To to this we will use the following notation: \n",
    "\n",
    "$$  p(x) \\equiv q(x) \\quad (\\text{mod} \\, x^5). $$\n",
    "\n"
   ]
  },
  {
   "cell_type": "code",
   "execution_count": 22,
   "metadata": {},
   "outputs": [
    {
     "data": {
      "text/html": [
       "<html><script type=\"math/tex; mode=display\">\\newcommand{\\Bold}[1]{\\mathbf{#1}}{\\left(x + 1\\right)}^{7}</script></html>"
      ],
      "text/plain": [
       "(x + 1)^7"
      ]
     },
     "metadata": {},
     "output_type": "display_data"
    }
   ],
   "source": [
    "x = sp.symbols('x')\n",
    "\n",
    "p = (1 + x)^7\n",
    "q = 1 + 7 * x + 21 * x^2 + 35*x^3 + 35*x^4\n",
    "show(p)"
   ]
  },
  {
   "cell_type": "code",
   "execution_count": 23,
   "metadata": {},
   "outputs": [
    {
     "data": {
      "text/html": [
       "<html><script type=\"math/tex; mode=display\">\\newcommand{\\Bold}[1]{\\mathbf{#1}}35 \\, x^{4} + 35 \\, x^{3} + 21 \\, x^{2} + 7 \\, x + 1</script></html>"
      ],
      "text/plain": [
       "35*x^4 + 35*x^3 + 21*x^2 + 7*x + 1"
      ]
     },
     "metadata": {},
     "output_type": "display_data"
    }
   ],
   "source": [
    "show(q)"
   ]
  },
  {
   "cell_type": "markdown",
   "metadata": {},
   "source": [
    "We can use the Sympy remainder function to address both these polymials. What we are saying is that if we divide by x^5 what are we left with for both $p$ and $q$? We see that, in the world of $(\\text{mod} \\, x^5)$, these expressions are equivalent: "
   ]
  },
  {
   "cell_type": "code",
   "execution_count": 24,
   "metadata": {},
   "outputs": [
    {
     "data": {
      "text/plain": [
       "True"
      ]
     },
     "execution_count": 24,
     "metadata": {},
     "output_type": "execute_result"
    }
   ],
   "source": [
    "sp.rem(p, x^5) == sp.rem(q, x^5)"
   ]
  },
  {
   "cell_type": "markdown",
   "metadata": {},
   "source": [
    "<div style=\"background:#99ddff; color:black; padding: 10px\">\n",
    "<b>Add to these notes:</b>\n",
    "    \n",
    "Sympy has lots of option when it comes to polynomial manipualtion. The docs are great, but I always wanted to get aruond to creating a friendly tutorial full of examples. It would go pretty nicely around here. \n",
    "    \n",
    "</div>"
   ]
  },
  {
   "cell_type": "markdown",
   "metadata": {},
   "source": [
    "Let's get some formal proofs out of the way with this. The first proof demonstates that if two mod 5 polynomials are are equivalent, then the additino will be"
   ]
  },
  {
   "cell_type": "markdown",
   "metadata": {},
   "source": [
    "<div style=\"background:gray; color:white; padding: 10px\">\n",
    "\n",
    "<h4>Proof 4.3.4 i</h4>\n",
    "<i>Proposition:</i><br/>If $p(x) \\equiv q(x) \\; (\\text{mod} \\, x^5)$ and $r(x) \\equiv s(x) \\; (\\text{mod} \\, x^5)$ then $(p+r)(x) \\equiv (q+s)(x) \\; (\\text{mod} \\, x^5).$\n",
    "\n",
    "\n",
    "\n",
    "<br/><i>Related name:</i><br/> Commutative property of polynomials $p(x)=a_0+a_1x+\\ldots+a_nx^n$\n",
    "\n",
    "<br/><b>Step x:</b> Let $n$ and $x$ be an integer \n",
    "<br/><b>Step x:</b> Let $a_0, a_1, a_2 \\ldots a_n$ be an integers\n",
    "<br/><b>Step x:</b> Let $b_0, b_1, b_2 \\ldots b_n$ be an on-sequence of integers\n",
    "<br/><b>Step x:</b> Let $p$ be a polynomial in $x$ denoted as $p(x)=a_0+a_1x+\\ldots+a_nx^n$\n",
    "<br/><b>Step x:</b> Let $r$ be a polynomial in $x$ denoted as $r(x)=b_0+b_1x+\\ldots+b_nx^n$  \n",
    "<br/><b>Step x:</b> Let $q$ be a polynomial in $x$ denoted as $q(x)=a_0+a_1x+a_2x^2+a_3x^3+a_4x^4$  \n",
    "<br/><b>Step x:</b> Let $s$ be a polynomial in $x$ denoted as $s(x)=b_0+b_1x+b_2x^2+b_3x^3+b_4x^4$  \n",
    "<br/><b>Step x:</b> Suppose that $a_j,\\,b_j$ are rational numbers for all j\n",
    "<br/><b>Step x:</b> Manipulate the \n",
    "$$ (p+r)(x)=(a_0+b_0)+(a_1+b_1)x+\\ldots+(a_n+b_n)x^n\\\\=(a_0+b_0)+(a_1+b_1)x+(a_2+b_2)x^2+(a_3+b_3)x^3+(a_4+b_4)x^4 \\; (\\text{mod} \\, x^5)=(q+s)(x) \\; (\\text{mod} \\, x^5).   $$\n",
    "\n",
    "<br/><i>Ref. 1:</i> WHere $c_j$ are some rational numbers, which do not influlence the proof.\n",
    "\n",
    "\n",
    "</div>"
   ]
  },
  {
   "cell_type": "markdown",
   "metadata": {},
   "source": [
    "The next proof states for equivalence of mod5:"
   ]
  },
  {
   "cell_type": "markdown",
   "metadata": {},
   "source": [
    "<div style=\"background:gray; color:white; padding: 10px\">\n",
    " \n",
    "<h4>Proof 4.3.4 ii</h4>\n",
    "<i>Proposition:</i><br/>If $p(x) \\equiv q(x) \\; (\\text{mod} \\, x^5)$ and $r(x) \\equiv s(x) \\; (\\text{mod} \\, x^5)$ then $(pr)(x) \\equiv (qs)(x) \\; (\\text{mod} \\, x^5).$\n",
    "    \n",
    "\n",
    " \n",
    "<br/><i>Related name:</i><br/> Commutative property of polynomials\n",
    "    \n",
    "<br/><b>Step x:</b> Let $n$ and $x$ be an integer \n",
    "<br/><b>Step x:</b> Let $a_0, a_1, a_2 \\ldots a_n$ be an integers\n",
    "<br/><b>Step x:</b> Let $b_0, b_1, b_2 \\ldots b_n$ be an on-sequence of integers\n",
    "<br/><b>Step x:</b> Let $p$ be a polynomial in $x$ denoted as $p(x)=a_0+a_1x+\\ldots+a_nx^n$\n",
    "<br/><b>Step x:</b> Let $r$ be a polynomial in $x$ denoted as $r(x)=b_0+b_1x+\\ldots+b_nx^n$  \n",
    "<br/><b>Step x:</b> Let $q$ be a polynomial in $x$ denoted as $q(x)=a_0+a_1x+a_2x^2+a_3x^3+a_4x^4$  \n",
    "<br/><b>Step x:</b> Let $s$ be a polynomial in $x$ denoted as $s(x)=b_0+b_1x+b_2x^2+b_3x^3+b_4x^4$  \n",
    "<br/><b>Step x:</b> Suppose that $a_j,\\,b_j$ are rational numbers for all j\n",
    "<br/><b>Step x:</b>: Manipulate: $$  \n",
    "(pr)(x)=(a_0b_0)+(a_1b_0+a_0b_1)x+(a_2b_0+a_1b_1+a_0b_2)x^2\\\\+(a_3b_0+a_1b_2+a_2b_1+a_0b_3)x^3+(a_4b_0+a_3b_1+a_2b_2+a_3b_1+a_0b_4)x^4+c_5x^5+c_6x^6+\\ldots+c_nx^n\\\\=(a_0b_0)+(a_1b_0+a_0b_1)x+(a_2b_0+a_1b_1+a_0b_2)x^2+(a_3b_0+a_1b_2+a_2b_1+a_0b_3)x^3\\\\+(a_4b_0+a_3b_1+a_2b_2+a_3b_1+a_0b_4)x^4 \\; (\\text{mod} \\, x^5)=(qs)(x) \\; (\\text{mod} \\, x^5),$$\n",
    "\n",
    "<br/><i>Ref. 1:</i> <br/><i>Ref. 1:</i> WHere $c_j$ are some rational numbers, which do not influlence the proof.\n",
    "\n",
    "\n",
    "</div>"
   ]
  },
  {
   "cell_type": "markdown",
   "metadata": {},
   "source": [
    "Just as in standard arithmetic, where we can multiply a given number by its inverse. In teh same way if we have some number x and multiply it by $\\frac{1}{x}$ we will end up with one. Consider the two polynomials, $p$ and $q$ below:  "
   ]
  },
  {
   "cell_type": "code",
   "execution_count": 56,
   "metadata": {},
   "outputs": [
    {
     "data": {
      "text/html": [
       "<html><script type=\"math/tex; mode=display\">\\newcommand{\\Bold}[1]{\\mathbf{#1}}-x + 1</script></html>"
      ],
      "text/plain": [
       "-x + 1"
      ]
     },
     "metadata": {},
     "output_type": "display_data"
    }
   ],
   "source": [
    "x = sp.symbols('x')\n",
    "p = (1 - x)\n",
    "q =  (1 + x + x^2 + x^3 + x^4)\n",
    "\n",
    "show(p)"
   ]
  },
  {
   "cell_type": "code",
   "execution_count": 57,
   "metadata": {},
   "outputs": [
    {
     "data": {
      "text/html": [
       "<html><script type=\"math/tex; mode=display\">\\newcommand{\\Bold}[1]{\\mathbf{#1}}x^{4} + x^{3} + x^{2} + x + 1</script></html>"
      ],
      "text/plain": [
       "x^4 + x^3 + x^2 + x + 1"
      ]
     },
     "metadata": {},
     "output_type": "display_data"
    }
   ],
   "source": [
    "show(q)"
   ]
  },
  {
   "cell_type": "markdown",
   "metadata": {},
   "source": [
    "Now are these inveses in the same way that 1/4 and 4 are? Well it doesn't feel like it: "
   ]
  },
  {
   "cell_type": "code",
   "execution_count": 58,
   "metadata": {},
   "outputs": [
    {
     "data": {
      "text/plain": [
       "-x^5 + 1"
      ]
     },
     "execution_count": 58,
     "metadata": {},
     "output_type": "execute_result"
    }
   ],
   "source": [
    "(p * q).expand()"
   ]
  },
  {
   "cell_type": "markdown",
   "metadata": {},
   "source": [
    "This is interestnig result though. Its telling us that is any multipe of  $x^5$ becomes 0, they must be inverses. we want to do this for mod 5 however though. But let's use sympy to ensure that this is the case: "
   ]
  },
  {
   "cell_type": "code",
   "execution_count": 99,
   "metadata": {},
   "outputs": [
    {
     "data": {
      "text/latex": [
       "$\\displaystyle x^{4} + x^{3} + x^{2} + 1$"
      ],
      "text/plain": [
       "x**4 + x**3 + x**2 + 1"
      ]
     },
     "execution_count": 99,
     "metadata": {},
     "output_type": "execute_result"
    }
   ],
   "source": [
    "sp.rem(p * q.simplify(), x^5)"
   ]
  },
  {
   "cell_type": "markdown",
   "metadata": {},
   "source": [
    "So, in teh world of mod 5, these are investes of each other. Let's try a few more examples: "
   ]
  },
  {
   "cell_type": "code",
   "execution_count": 60,
   "metadata": {},
   "outputs": [
    {
     "data": {
      "text/latex": [
       "$\\displaystyle 1$"
      ],
      "text/plain": [
       "1"
      ]
     },
     "execution_count": 60,
     "metadata": {},
     "output_type": "execute_result"
    }
   ],
   "source": [
    "x = sp.symbols('x')\n",
    "p = (1 + x)\n",
    "q =  (1 - x + x^2 - x^3 + x^4)\n",
    "sp.rem(p * q.simplify(), x^5)\n"
   ]
  },
  {
   "cell_type": "markdown",
   "metadata": {},
   "source": [
    "Finally, check out this example, patterns we are fining again: "
   ]
  },
  {
   "cell_type": "code",
   "execution_count": 63,
   "metadata": {},
   "outputs": [
    {
     "data": {
      "text/latex": [
       "$\\displaystyle x^{4} + x^{3} + x^{2} + 1$"
      ],
      "text/plain": [
       "x**4 + x**3 + x**2 + 1"
      ]
     },
     "execution_count": 63,
     "metadata": {},
     "output_type": "execute_result"
    }
   ],
   "source": [
    "x = sp.symbols('x')\n",
    "p = (1 -x + x^2)\n",
    "q =  (1 + x + x^2 + x^3 + x^4)\n",
    "sp.rem(p * q.simplify(), x^5)"
   ]
  },
  {
   "cell_type": "markdown",
   "metadata": {},
   "source": [
    "That's probably enough of a refresher for Polynomials. Let's turn to some matrix Algebra. Like Polynomials, there are established things we can do to matrices. Let's go over some of these to get reaquianted with these structures. \n",
    "\n",
    "Recall that, in general, an $n x n$ matrix $A$ is an an array\n",
    "\n",
    "\n",
    "$$  A=\\left(\\begin{matrix} a_{11} & a_{12} & \\cdots & a_{1n}\\\\ a_{21} & a_{22} & \\cdots & a_{2n} \\\\ \\vdots & \\vdots & \\ddots & \\vdots \\\\ a_{n1} & a_{n2} & \\cdots & a_{nn} \\end{matrix} \\right)  $$\n",
    "\n",
    "where $a_{ij}$ are rational numbers for all $i$ and $j$.\n"
   ]
  },
  {
   "cell_type": "markdown",
   "metadata": {},
   "source": [
    "Supposing we have a 2nd matrix $B$: \n",
    "\n",
    "\n",
    "$$B=\\left(\\begin{matrix} b_{11} & b_{12} & \\cdots & b_{1n}\\\\ b_{21} & b_{22} & \\cdots & b_{2n} \\\\ \\vdots & \\vdots & \\ddots & \\vdots \\\\ b_{n1} & b_{n2} & \\cdots & b_{nn} \\end{matrix} \\right)  $$\n",
    "\n",
    "There are a number  exisitig definited operations we can undertake on this. We can sum these: \n",
    "\n",
    "$$A+B=\\left(\\begin{matrix} a_{11} +b_{11}& a_{12}+b_{12} & \\cdots & a_{1n}+b_{1n}\\\\ a_{21}+b_{21} & a_{22}+b_{22} & \\cdots & a_{2n}+b_{2n} \\\\ \\vdots & \\vdots & \\ddots & \\vdots \\\\ a_{n1}+b_{n1} & a_{n2}+b_{n2} & \\cdots & a_{nn}+b_{nn} \\end{matrix} \\right),$$\n",
    "\n",
    "And of course we can multiply matrices\n",
    "\n",
    "$$   AB=\\left(\\begin{matrix} \\sum_{i=1}^na_{1i}b_{i1} & \\sum_{i=1}^na_{1i}b_{i2} & \\cdots & \\sum_{i=1}^na_{1i}b_{in}\\\\ \\sum_{i=1}^na_{2i}b_{i1} & \\sum_{i=1}^na_{2i}b_{i2} & \\cdots & \\sum_{i=1}^na_{2i}b_{in} \\\\ \\vdots & \\vdots & \\ddots & \\vdots \\\\ \\sum_{i=1}^na_{ni}b_{i1} & \\sum_{i=1}^na_{ni}b_{i2} & \\cdots & \\sum_{i=1}^na_{ni}b_{in} \\end{matrix} \\right).  $$\n",
    "\n",
    "Andwe can scale matrices: \n",
    "\n",
    "$$   \\lambda A=\\left(\\begin{matrix} \\lambda a_{11} & \\lambda a_{12} & \\cdots & \\lambda a_{1n}\\\\ \\lambda a_{21} & \\lambda a_{22} & \\cdots & \\lambda a_{2n} \\\\ \\vdots & \\vdots & \\ddots & \\vdots \\\\ \\lambda a_{n1} & \\lambda a_{n2} & \\cdots & \\lambda a_{nn} \\end{matrix} \\right).  $$"
   ]
  },
  {
   "cell_type": "markdown",
   "metadata": {},
   "source": [
    "We can use Python to create and manipulate matrices. Let's do that now: "
   ]
  },
  {
   "cell_type": "code",
   "execution_count": 69,
   "metadata": {},
   "outputs": [],
   "source": [
    "A = sp.Matrix([[1, -1, 2, 4], \n",
    "              [3, -2, 0, 1],\n",
    "              [5, 2, -3, 0],\n",
    "              [-1, -3, 3, 1]])\n",
    "\n",
    "B = sp.Matrix([[3, -3, 2, -2], \n",
    "              [0, 4, 1, 0],\n",
    "              [-1, -2, 11, 0],\n",
    "              [5, -3, 0, 4]])"
   ]
  },
  {
   "cell_type": "code",
   "execution_count": 72,
   "metadata": {},
   "outputs": [
    {
     "data": {
      "text/latex": [
       "$\\displaystyle \\left[\\begin{matrix}20 & -22 & 25 & 24\\\\20 & -28 & 3 & 0\\\\29 & 5 & -38 & -10\\\\-8 & -21 & 34 & 4\\end{matrix}\\right]$"
      ],
      "text/plain": [
       "Matrix([\n",
       "[20, -22,  25,  24],\n",
       "[20, -28,   3,   0],\n",
       "[29,   5, -38, -10],\n",
       "[-8, -21,  34,   4]])"
      ]
     },
     "execution_count": 72,
     "metadata": {},
     "output_type": "execute_result"
    }
   ],
   "source": [
    "2 * A + A * B - B"
   ]
  },
  {
   "cell_type": "markdown",
   "metadata": {},
   "source": [
    "<div style=\"background:#99ddff; color:black; padding: 10px\">\n",
    "<b>Add to these notes:</b>\n",
    "    \n",
    "Python makes such light work of Matrices and I guess the downside might be that we never see the computations behind the scences of how this comes toghter. It's worth while doing this by hand at some point. To add to these notes however, a different, perhaps takes an expression like the above and returns a list of matrices with an indication of what manipulation has happneed. \n",
    "    \n",
    "</div>"
   ]
  },
  {
   "cell_type": "markdown",
   "metadata": {},
   "source": [
    "I think this notebook would probably just become too long to work through as we did polynomials, but its worth points out that Matrices have the following (and this will work directly with the matrices already created$\n",
    "\n",
    "\n",
    "- A commutative property of addition A+B=B+A ;\n",
    "- An associative property of addition A+(B+C)=(A+B)+C;\n",
    "- An associative property of multiplication A(BC)=(AB)C;\n",
    "- An additive identity whereby A+0=A: this is the zero matrix 0 defined by $a_{ij} = 0$ for all $i,j$. \n",
    "- A multiplicative identity, $IA=AI=A$ whereby $I$ is a unit matrix, defined as $a_{ii}=1$ and  $a_{ij}=0 \\text{ for all } i\\ne j$\n",
    "- An additive inverse property such that $A+(−A)=0$;\n",
    "- A distributive property such that $A(B+C)=AB+AC$;\n",
    "- A multiplicative property such that  $0A=A0=0$\n",
    "\n",
    "Note the mising here is NO commutative property of multiplication. This can easily seen when comparing $AB$ and $BA$"
   ]
  },
  {
   "cell_type": "markdown",
   "metadata": {},
   "source": [
    "A critical idea in linear Algebra that has come up a number of times, is that of the determinate. We found it in  explore linear algebra we also see the  have seen the a relatinoship between signed area.\n",
    "\n",
    "\n",
    "\n",
    "Recall that for an $n x n$ matrix $A$, the determinant is denoted as $det(A)$ or $|A|$. THere are lots of ways ot think fo the determinant. We need to be careful about defining a determinant is. It is tempting to label it, but it comes in same way as assuming binomial coeffient. These are important parts of mathematics which have lots of applicationsIts calculatiion tells us about the properties of a that a matrix has, things like can it have invese. \n",
    "\n",
    "THe formula for the determinant of a 2 x 2 matrix is is: \n",
    "\n",
    "$$   det(A)={\\begin{vmatrix}a&b\\\\c&d\\end{vmatrix}}=ad-bc. $$\n",
    "\n",
    "There is a combinatoric aspect fo the determinant and things become more complicated with larger squarxies\n",
    "\n",
    "$$  det(A)={\\begin{vmatrix}a&b&c\\\\d&e&f\\\\g&h&i\\end{vmatrix}}=a\\,{\\begin{vmatrix}e&f\\\\h&i\\end{vmatrix}}-b\\,{\\begin{vmatrix}d&f\\\\g&i\\end{vmatrix}}+c\\,{\\begin{vmatrix}d&e\\\\g&h\\end{vmatrix}}=aei+bfg+cdh-ceg-bdi-afh. $$"
   ]
  },
  {
   "cell_type": "markdown",
   "metadata": {},
   "source": [
    "Note that in the case, we can see becomes 2 x 2 matric and each of these is called  <i>minor</i> of the matrix\n",
    "\n",
    "While calculating the determinant by hand can be difficult process, Python make its straight frwoard. Let's try a 2 x 2 matrix: "
   ]
  },
  {
   "cell_type": "code",
   "execution_count": 84,
   "metadata": {},
   "outputs": [
    {
     "data": {
      "text/latex": [
       "$\\displaystyle \\left[\\begin{matrix}5 & -3\\\\8 & 14\\end{matrix}\\right]$"
      ],
      "text/plain": [
       "Matrix([\n",
       "[5, -3],\n",
       "[8, 14]])"
      ]
     },
     "execution_count": 84,
     "metadata": {},
     "output_type": "execute_result"
    }
   ],
   "source": [
    "A = sp.Matrix([[5, -3], \n",
    "              [8, 14]])\n",
    "A"
   ]
  },
  {
   "cell_type": "markdown",
   "metadata": {},
   "source": [
    "The determinant: "
   ]
  },
  {
   "cell_type": "code",
   "execution_count": 81,
   "metadata": {},
   "outputs": [
    {
     "data": {
      "text/latex": [
       "$\\displaystyle 94$"
      ],
      "text/plain": [
       "94"
      ]
     },
     "execution_count": 81,
     "metadata": {},
     "output_type": "execute_result"
    }
   ],
   "source": [
    "sp.det(A)"
   ]
  },
  {
   "cell_type": "markdown",
   "metadata": {},
   "source": [
    "And a 3 x 3 matrix: "
   ]
  },
  {
   "cell_type": "code",
   "execution_count": 85,
   "metadata": {},
   "outputs": [
    {
     "data": {
      "text/latex": [
       "$\\displaystyle \\left[\\begin{matrix}1 & -1 & 2\\\\0 & 1 & -2\\\\2 & 1 & 3\\end{matrix}\\right]$"
      ],
      "text/plain": [
       "Matrix([\n",
       "[1, -1,  2],\n",
       "[0,  1, -2],\n",
       "[2,  1,  3]])"
      ]
     },
     "execution_count": 85,
     "metadata": {},
     "output_type": "execute_result"
    }
   ],
   "source": [
    "B = sp.Matrix([[1, -1, 2], \n",
    "              [0, 1, -2],\n",
    "              [2, 1, 3]])\n",
    "B"
   ]
  },
  {
   "cell_type": "code",
   "execution_count": 86,
   "metadata": {},
   "outputs": [
    {
     "data": {
      "text/latex": [
       "$\\displaystyle 5$"
      ],
      "text/plain": [
       "5"
      ]
     },
     "execution_count": 86,
     "metadata": {},
     "output_type": "execute_result"
    }
   ],
   "source": [
    "sp.det(B)"
   ]
  },
  {
   "cell_type": "markdown",
   "metadata": {},
   "source": [
    "Recall that determinates also have the property that, if A and B are square matrices of the same size, then: \n",
    "\n",
    "$$  det(AB)=det(A) det(B).  $$\n",
    "\n",
    "Let's try this: "
   ]
  },
  {
   "cell_type": "code",
   "execution_count": 95,
   "metadata": {},
   "outputs": [],
   "source": [
    "A = sp.Matrix([[2, 3], \n",
    "              [5, 4]])\n",
    "B = sp.Matrix([[-2, 4], \n",
    "              [1, 3]])"
   ]
  },
  {
   "cell_type": "code",
   "execution_count": 96,
   "metadata": {},
   "outputs": [
    {
     "data": {
      "text/latex": [
       "$\\displaystyle 70$"
      ],
      "text/plain": [
       "70"
      ]
     },
     "execution_count": 96,
     "metadata": {},
     "output_type": "execute_result"
    }
   ],
   "source": [
    "sp.det(A * B)"
   ]
  },
  {
   "cell_type": "code",
   "execution_count": 97,
   "metadata": {},
   "outputs": [
    {
     "data": {
      "text/latex": [
       "$\\displaystyle 70$"
      ],
      "text/plain": [
       "70"
      ]
     },
     "execution_count": 97,
     "metadata": {},
     "output_type": "execute_result"
    }
   ],
   "source": [
    "sp.det(A) * sp.det(B)"
   ]
  },
  {
   "cell_type": "markdown",
   "metadata": {},
   "source": [
    "A final thing to conside: the idea of of an <b>inverse</b> matrix. This matrix, which we can denote $A^{-1}$ is defined as inverse for n x n matrix A precisilyt when \n",
    "\n",
    "$$   A^{-1}A=AA^{-1}=I.  $$\n",
    "\n",
    "Where is an identitry matix. We can calculate an identiy matrix in Sympy (noting the gotcha that Sage). \n",
    "Identity matrix as 1. If I multiply 4 by $\\frac{1}{4}$"
   ]
  },
  {
   "cell_type": "code",
   "execution_count": 110,
   "metadata": {},
   "outputs": [
    {
     "data": {
      "text/latex": [
       "$\\displaystyle \\left[\\begin{matrix}1 & 0 & 0 & 0 & 0\\\\0 & 1 & 0 & 0 & 0\\\\0 & 0 & 1 & 0 & 0\\\\0 & 0 & 0 & 1 & 0\\\\0 & 0 & 0 & 0 & 1\\end{matrix}\\right]$"
      ],
      "text/plain": [
       "Matrix([\n",
       "[1, 0, 0, 0, 0],\n",
       "[0, 1, 0, 0, 0],\n",
       "[0, 0, 1, 0, 0],\n",
       "[0, 0, 0, 1, 0],\n",
       "[0, 0, 0, 0, 1]])"
      ]
     },
     "execution_count": 110,
     "metadata": {},
     "output_type": "execute_result"
    }
   ],
   "source": [
    "sp.eye(int(5))"
   ]
  },
  {
   "cell_type": "markdown",
   "metadata": {},
   "source": [
    "The existance of an identity matrix answers the questions, <i>if I have a given matrix, $A$, is there some other matrix I can multiply $A$ by to return an identity matrix?</i> \n",
    "\n",
    "This turns out to only be the case that the determinant must be non-zero. \n",
    "\n",
    "Let's explore the idea with a 2 x 2 matrix and only variables: "
   ]
  },
  {
   "cell_type": "code",
   "execution_count": 111,
   "metadata": {},
   "outputs": [],
   "source": [
    "a, b, c, d = sp.symbols('a b c d')"
   ]
  },
  {
   "cell_type": "code",
   "execution_count": 113,
   "metadata": {},
   "outputs": [
    {
     "data": {
      "text/latex": [
       "$\\displaystyle \\left[\\begin{matrix}a & b\\\\c & d\\end{matrix}\\right]$"
      ],
      "text/plain": [
       "Matrix([\n",
       "[a, b],\n",
       "[c, d]])"
      ]
     },
     "execution_count": 113,
     "metadata": {},
     "output_type": "execute_result"
    }
   ],
   "source": [
    "m = sp.Matrix([[a, b], [c, d]])\n",
    "m"
   ]
  },
  {
   "cell_type": "markdown",
   "metadata": {},
   "source": [
    "We can find the deterinant which is supposed be non-zero "
   ]
  },
  {
   "cell_type": "code",
   "execution_count": 116,
   "metadata": {},
   "outputs": [
    {
     "data": {
      "text/latex": [
       "$\\displaystyle a d - b c$"
      ],
      "text/plain": [
       "a*d - b*c"
      ]
     },
     "execution_count": 116,
     "metadata": {},
     "output_type": "execute_result"
    }
   ],
   "source": [
    "sp.det(m)"
   ]
  },
  {
   "cell_type": "code",
   "execution_count": 114,
   "metadata": {},
   "outputs": [
    {
     "data": {
      "text/latex": [
       "$\\displaystyle \\left[\\begin{matrix}\\frac{d}{a d - b c} & - \\frac{b}{a d - b c}\\\\- \\frac{c}{a d - b c} & \\frac{a}{a d - b c}\\end{matrix}\\right]$"
      ],
      "text/plain": [
       "Matrix([\n",
       "[ d/(a*d - b*c), -b/(a*d - b*c)],\n",
       "[-c/(a*d - b*c),  a/(a*d - b*c)]])"
      ]
     },
     "execution_count": 114,
     "metadata": {},
     "output_type": "execute_result"
    }
   ],
   "source": [
    "sp.inv_quick(m)"
   ]
  },
  {
   "cell_type": "code",
   "execution_count": null,
   "metadata": {},
   "outputs": [],
   "source": []
  }
 ],
 "metadata": {
  "kernelspec": {
   "display_name": "SageMath 9.0",
   "language": "sage",
   "name": "sagemath"
  },
  "language_info": {
   "codemirror_mode": {
    "name": "ipython",
    "version": 3
   },
   "file_extension": ".py",
   "mimetype": "text/x-python",
   "name": "python",
   "nbconvert_exporter": "python",
   "pygments_lexer": "ipython3",
   "version": "3.7.3"
  }
 },
 "nbformat": 4,
 "nbformat_minor": 4
}
