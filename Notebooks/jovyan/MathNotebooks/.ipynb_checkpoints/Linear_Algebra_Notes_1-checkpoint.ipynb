{
 "cells": [
  {
   "cell_type": "code",
   "execution_count": 1,
   "metadata": {},
   "outputs": [],
   "source": [
    "import numpy as np\n",
    "import shared_functions as sf\n",
    "import sympy as sp\n",
    "from IPython.display import HTML\n",
    "import matplotlib.pyplot as plt\n",
    "from sympy.plotting import plot"
   ]
  },
  {
   "cell_type": "markdown",
   "metadata": {},
   "source": [
    "Linear algebra, geometry of n-space, affine and its linear transformation, wide applicaitons in. Solve systems of equations. \n",
    "\n",
    "But it is also more than that, importance, Calculus is really draws from a range of different areas, topology etc, \n",
    "\n",
    "What what is the problem that Linear Algebra sets out to solve? Why does it matter? Sets out to solve a subtle yet profound problem: I like to think of the problem around how to find the values $x_1$, $x_y$ in terms of $y_1$ and $y_2$. But what does that mean. For me, given some location or coordinate, how to translate that. Linear is about translationand realtiveity between space. As a basic proof, if I name numbers, relatinoship between how you would name them. \n",
    "\n",
    "In this sense, I think of linear algebra as almost an API technology of mathematics. A way to translate a point of view to into another point of view. Let's say bob draws a line in some space between that is defined as $x_0$ and $x_1$. Alice sees the world in terms of a coordinate system with. \n",
    "\n",
    "I can apply some kind of arbitrary structure to the world. You too can apply some kind of arbitrary strucutre to teh world. how can these things communicate. \n",
    "\n",
    "Fining relative terms is gives an immediete practical application, so solving systems of equations. The most important thing for me is to develop possiblity of needing to use numbers to do things in math, but counting items is dependent of a point of view. relative counting systems. \n",
    "\n",
    "This also manifests itself in systesm\n",
    "\n",
    "$$ y_1 = x_1 + 2x_2 $$\n",
    "$$ y_2 = -x_1 - x_2 + 3x_3 $$\n",
    "$$ y_3 = 0x_1 + x_2 + 5x_3 $$\n",
    "\n",
    "The difficuly in Linear Algebra is that it allows communciation between arrbitrary coodinate systems, but if an coordinate system is arbiratry then any attempt to visualse it makes no sense. So we are proceeding algebrically in this problem. We know from algebra that to find the answer for the firs equation we can't find 3 unknown values. But Let's start with the idea of linear transformation and algebra is itself arbirary. \n",
    "\n",
    "To keep going forward, we are going to proceed with a combination of geometrical intuitions and and algebraically at first to build intuitinos before formalising things to a more algebraic point of view. One of the benefits of matheamtics is that we can draw from ideas more informally,  introduce the idea  \n",
    "Let's also begin with a visual interprestation, introduce affine geometry, relative coordinate systmes\n",
    "\n",
    "<h4>Affine Geometry</h4>"
   ]
  },
  {
   "cell_type": "markdown",
   "metadata": {},
   "source": [
    "Let's start by building up an Affine geomery, to provide a visual context way of understanding the problem at hand, and then moving on. Affine geometry starts with the premise that we can construct lines using a straight edge and construct. There are some ideas, here. We can construct parallels, however no perpendicular lines. Afffine geometry \n",
    "\n",
    "- No disntance measurement\n",
    "- No special points (i.e. origin)\n",
    "- No agle measurement\n",
    "\n",
    "Now we should consider just why we would construct this type of geometry. Why not set the scene with Cartesian, Hyperbolic, Euclidean? Is the cosntruction of a geometry with just a straight edge somewhow superior. The answer to this is that that Affine provides the most general way we can to get started. Other geometries will include these basic instructinos and build from there. So in many ways, Affine Geometry allows us to be as general as posssible, and we can find results and intuitinos they weill hold in other areas\n",
    "\n",
    "The idea here is that we are trying to be as foundational as possible, and see if can exent, as genral as possible. Let's start by construction and use python. Build a geometry. We are going to use a few sympy functions here, but we are mm"
   ]
  },
  {
   "cell_type": "code",
   "execution_count": 47,
   "metadata": {},
   "outputs": [],
   "source": [
    "def \n",
    "\n",
    "def convert_to_mpl_points(coords):\n",
    "    x_coords = np.array([e[0] for e in coords])\n",
    "    y_coords = np.array([e[1] for e in coords])\n",
    "    \n",
    "    # scale if nesc: \n",
    "    \n",
    "    print(x_coords * 3)\n",
    "    return([x_coords, y_coords])\n",
    "\n"
   ]
  },
  {
   "cell_type": "code",
   "execution_count": 48,
   "metadata": {},
   "outputs": [],
   "source": [
    "starting_height = 3\n",
    "second_height = 5\n",
    "start_x = 0\n",
    "end_x = 10\n",
    "start_y = 0\n",
    "end_y = 8\n"
   ]
  },
  {
   "cell_type": "code",
   "execution_count": 49,
   "metadata": {},
   "outputs": [
    {
     "name": "stdout",
     "output_type": "stream",
     "text": [
      "[0 30]\n",
      "[0 30]\n",
      "[15 6]\n",
      "[21 12]\n",
      "[93/8 123/8]\n"
     ]
    }
   ],
   "source": [
    "# create lines with random params\n",
    "l1 = sp.Line(sp.Point(start_x,starting_height), sp.Point(end_x,starting_height))\n",
    "l2 = sp.Line(sp.Point(start_x,second_height), sp.Point(end_x,second_height))\n",
    "l3 = sp.Line(sp.Point(start_x + 5, start_y), sp.Point(start_x + 2, end_y ))\n",
    "l4 = sp.Line(sp.Point(start_x + 7, start_y), sp.Point(start_x + 4, end_y ))\n",
    "\n",
    "u = l1.intersection(l3)\n",
    "w = l2.intersection(l4)\n",
    "\n",
    "l5 = sp.Line(sp.Point(u[0]),sp.Point(w[0]))\n",
    "\n",
    "# helper functino to convert to \n",
    "l1_p = convert_to_mpl_points(l1.points)\n",
    "l2_p = convert_to_mpl_points(l2.points)\n",
    "l3_p = convert_to_mpl_points(l3.points)\n",
    "l4_p = convert_to_mpl_points(l4.points)\n",
    "l5_p = convert_to_mpl_points(l5.points)\n",
    "\n",
    "\n",
    "\n",
    "#l5_p * 5\n",
    "#l5_p"
   ]
  },
  {
   "cell_type": "code",
   "execution_count": 46,
   "metadata": {},
   "outputs": [
    {
     "data": {
      "image/png": "[encoded data removed]",
      "text/plain": [
       "<Figure size 1080x360 with 3 Axes>"
      ]
     },
     "metadata": {},
     "output_type": "display_data"
    }
   ],
   "source": [
    "fig, ax = plt.subplots(1, 3, figsize=(15, 5))\n",
    "p1= ax[0].plot(l1_p[0], l1_p[1], 'b')\n",
    "p2= ax[0].plot(l2_p[0], l2_p[1], 'b')\n",
    "p3= ax[0].plot(l3_p[0], l3_p[1], 'b')\n",
    "p4= ax[0].plot(l4_p[0], l4_p[1], 'b')\n",
    "\n",
    "p1= ax[1].plot(l1_p[0], l1_p[1], 'b')\n",
    "p2= ax[1].plot(l2_p[0], l2_p[1], 'b')\n",
    "p3= ax[1].plot(l3_p[0], l3_p[1], 'b')\n",
    "p4= ax[1].plot(l4_p[0], l4_p[1], 'b')\n",
    "p5= ax[1].plot(l5_p[0], l5_p[1], 'b')\n"
   ]
  },
  {
   "cell_type": "code",
   "execution_count": 6,
   "metadata": {},
   "outputs": [
    {
     "ename": "NameError",
     "evalue": "name 'l11' is not defined",
     "output_type": "error",
     "traceback": [
      "\u001b[0;31m---------------------------------------------------------------------------\u001b[0m",
      "\u001b[0;31mNameError\u001b[0m                                 Traceback (most recent call last)",
      "\u001b[0;32m<ipython-input-6-896194bfca09>\u001b[0m in \u001b[0;36m<module>\u001b[0;34m()\u001b[0m\n\u001b[1;32m      8\u001b[0m \u001b[0;34m\u001b[0m\u001b[0m\n\u001b[1;32m      9\u001b[0m \u001b[0;34m\u001b[0m\u001b[0m\n\u001b[0;32m---> 10\u001b[0;31m \u001b[0mprint\u001b[0m\u001b[0;34m(\u001b[0m\u001b[0ml11\u001b[0m\u001b[0;34m)\u001b[0m\u001b[0;34m\u001b[0m\u001b[0;34m\u001b[0m\u001b[0m\n\u001b[0m\u001b[1;32m     11\u001b[0m \u001b[0;34m\u001b[0m\u001b[0m\n\u001b[1;32m     12\u001b[0m \u001b[0;31m#x = sp.symbols('x')\u001b[0m\u001b[0;34m\u001b[0m\u001b[0;34m\u001b[0m\u001b[0;34m\u001b[0m\u001b[0m\n",
      "\u001b[0;31mNameError\u001b[0m: name 'l11' is not defined"
     ]
    },
    {
     "data": {
      "image/png": "[encoded data removed]",
      "text/plain": [
       "<Figure size 1080x360 with 3 Axes>"
      ]
     },
     "metadata": {},
     "output_type": "display_data"
    }
   ],
   "source": [
    "fig, ax = plt.subplots(1, 3, figsize=(15, 5))\n",
    "#p2= ax[0].plot(l2[0], l2[1], 'b')\n",
    "#p3= ax[0].plot(l3[0], l3[1], 'b')\n",
    "\n",
    "#l2 = convert_to_mpl_points(np.array([[start_x,second_height], [end_x,second_height]]))\n",
    "#l3 = convert_to_mpl_points(np.array([[start_x + 3,0], [start_x + 5,7]]))\n",
    "#l4 = convert_to_mpl_points(np.array([[start_x + 5,0], [start_x + 7,7]]))\n",
    "\n",
    "\n",
    "print(l11)\n",
    "\n",
    "#x = sp.symbols('x')\n",
    "#plot(x**2)\n",
    "#p2= ax[0].plot(l2[0], l2[1], 'b')\n",
    "#p3= ax[0].plot(l3[0], l3[1], 'b')\n",
    "#p4= ax[0].plot(l4[0], l4[1], 'b')"
   ]
  },
  {
   "cell_type": "markdown",
   "metadata": {},
   "source": [
    "THis is bit of a Python hack, but what is interesting to note here is the only thing we have done is havent measured anything, haven't created an origin, haven't created angles. "
   ]
  }
 ],
 "metadata": {
  "kernelspec": {
   "display_name": "SageMath 9.0",
   "language": "sage",
   "name": "sagemath"
  },
  "language_info": {
   "codemirror_mode": {
    "name": "ipython",
    "version": 3
   },
   "file_extension": ".py",
   "mimetype": "text/x-python",
   "name": "python",
   "nbconvert_exporter": "python",
   "pygments_lexer": "ipython3",
   "version": "3.7.3"
  }
 },
 "nbformat": 4,
 "nbformat_minor": 4
}
