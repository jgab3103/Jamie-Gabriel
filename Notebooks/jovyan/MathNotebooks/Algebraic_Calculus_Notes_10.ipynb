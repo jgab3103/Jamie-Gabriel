{
 "cells": [
  {
   "cell_type": "markdown",
   "metadata": {},
   "source": [
    "<i>STATUS: Draft</i>"
   ]
  },
  {
   "cell_type": "code",
   "execution_count": 4,
   "metadata": {},
   "outputs": [],
   "source": [
    "import numpy as np\n",
    "import sympy as sp\n",
    "import shared_functions as sf\n",
    "from IPython.display import HTML\n",
    "import matplotlib.pyplot as plt\n",
    "import ipywidgets as widgets\n"
   ]
  },
  {
   "cell_type": "markdown",
   "metadata": {},
   "source": [
    "In the last notebook we extended our ideas of sums to look at Falbaur and Bernouli ainterprestation, we found a way to extend and introduced general formula formula proof of Bernoulli. We didn't proove the formula of Bernoulli nd we will return to that. We also found the relatinoship between sequence of sums of numbers and choose number of elements, at least in teh case of sum of integers. And this tells to be wary of \n",
    "\n",
    "To keep on exploring this, let's introduce the the idea of a Pascal Array. A pascal is a a square matrix (having the same number of rows and columms). For the $8 \\times 8$ case, it looks like the following: \n",
    "\n",
    "$$ P=\\left(\\begin{matrix} 1 & 0 & 0 & 0 & 0 &0&0&0\\\\ 1 & 1 & 0 & 0 & 0&0&0&0 \\\\ 1 & 2 & 1 & 0 & 0&0&0&0 \\\\ 1 & 3 & 3 & 1 & 0&0&0&0 \\\\ 1 & 4 & 6 & 4 & 1&0&0&0 \\\\ 1&5 &10&10&5&1&0&0 \\\\ 1&6&15&20&15&6&1&0 \\\\ 1&7&21&35&35&21&7&1\\end{matrix} \\right). $$\n",
    "\n"
   ]
  },
  {
   "cell_type": "markdown",
   "metadata": {},
   "source": [
    "It is possible to create a Pascal matrix n x n, for any n. To do this, we are going to use a rule where by the we take the index of a position in the matrix (i, j) entry is $\\binom{i}{j}=\\frac{i!}{j!(i-j)!}$, the binomial coefficent which we saw in the last notebook, which in this case is the number of ways we can choose $j$ things from a set of $n$ things. We start with an index, and the entry at the index is the binomial coeffeciant"
   ]
  },
  {
   "cell_type": "markdown",
   "metadata": {},
   "source": [
    "Now let's create the function"
   ]
  },
  {
   "cell_type": "code",
   "execution_count": 35,
   "metadata": {},
   "outputs": [],
   "source": [
    "def compute_pascal_array(dimension_choice):\n",
    "    all_entries = []\n",
    "    for i in range(dimension_choice):\n",
    "        row_entries = []\n",
    "        for j in range(dimension_choice):\n",
    "            row_entries.append( sp.binomial(i, j))\n",
    "        all_entries.append(row_entries)\n",
    "    \n",
    "    return(sp.Matrix(all_entries))\n",
    "    "
   ]
  },
  {
   "cell_type": "markdown",
   "metadata": {},
   "source": [
    "Our function let's us put in any choice of dimensions, we will to a 10 x 10 pascal array."
   ]
  },
  {
   "cell_type": "code",
   "execution_count": 58,
   "metadata": {},
   "outputs": [
    {
     "data": {
      "text/latex": [
       "$\\displaystyle \\left[\\begin{matrix}1 & 0 & 0 & 0 & 0 & 0 & 0 & 0 & 0 & 0\\\\1 & 1 & 0 & 0 & 0 & 0 & 0 & 0 & 0 & 0\\\\1 & 2 & 1 & 0 & 0 & 0 & 0 & 0 & 0 & 0\\\\1 & 3 & 3 & 1 & 0 & 0 & 0 & 0 & 0 & 0\\\\1 & 4 & 6 & 4 & 1 & 0 & 0 & 0 & 0 & 0\\\\1 & 5 & 10 & 10 & 5 & 1 & 0 & 0 & 0 & 0\\\\1 & 6 & 15 & 20 & 15 & 6 & 1 & 0 & 0 & 0\\\\1 & 7 & 21 & 35 & 35 & 21 & 7 & 1 & 0 & 0\\\\1 & 8 & 28 & 56 & 70 & 56 & 28 & 8 & 1 & 0\\\\1 & 9 & 36 & 84 & 126 & 126 & 84 & 36 & 9 & 1\\end{matrix}\\right]$"
      ],
      "text/plain": [
       "Matrix([\n",
       "[1, 0,  0,  0,   0,   0,  0,  0, 0, 0],\n",
       "[1, 1,  0,  0,   0,   0,  0,  0, 0, 0],\n",
       "[1, 2,  1,  0,   0,   0,  0,  0, 0, 0],\n",
       "[1, 3,  3,  1,   0,   0,  0,  0, 0, 0],\n",
       "[1, 4,  6,  4,   1,   0,  0,  0, 0, 0],\n",
       "[1, 5, 10, 10,   5,   1,  0,  0, 0, 0],\n",
       "[1, 6, 15, 20,  15,   6,  1,  0, 0, 0],\n",
       "[1, 7, 21, 35,  35,  21,  7,  1, 0, 0],\n",
       "[1, 8, 28, 56,  70,  56, 28,  8, 1, 0],\n",
       "[1, 9, 36, 84, 126, 126, 84, 36, 9, 1]])"
      ]
     },
     "execution_count": 58,
     "metadata": {},
     "output_type": "execute_result"
    }
   ],
   "source": [
    "m = compute_pascal_array(10)\n",
    "m"
   ]
  },
  {
   "cell_type": "markdown",
   "metadata": {},
   "source": [
    "Note that while this Python function let's us easily create an array of any size, it is also possible, it is not getting created iteratively. We could just as easily.  could also tells about any entry. So imagine if I had a much larger pascal large pascal array, we would see these numbers, look up an index directly"
   ]
  },
  {
   "cell_type": "code",
   "execution_count": 62,
   "metadata": {},
   "outputs": [
    {
     "name": "stdout",
     "output_type": "stream",
     "text": [
      "2855032020384265953734430003529530\n",
      "95699397331316177220148491738420\n",
      "3023958651733039057142238586530\n",
      "89765006359422309673981108320\n",
      "2493472398872841935388364120\n",
      "64526087956043968753118480\n",
      "1547673696362678217325720\n",
      "34202733621274656736480\n"
     ]
    }
   ],
   "source": [
    "print(sp.binomial(554, 540))\n",
    "print(sp.binomial(554, 541))\n",
    "print(sp.binomial(554, 542))\n",
    "print(sp.binomial(554, 543))"
   ]
  },
  {
   "cell_type": "markdown",
   "metadata": {},
   "source": [
    "Its iportant to note that, so far at least, we haven't really done any mathematical reasoning. We simply have simply used the index in a square matrix n x n arguments into a binomical coefficient function, as a way to generating entries in the matrix in this structure. \n",
    "\n",
    "Things become more interesting when we understanding the number patterns that we have created. One of the patterns to note is that this matrix appears to tell us about the coefficents of expansions of polynomials that these tell us about polynomial $(a + b)^k$. So if we take expressions such as $(a + b)^2, (a+b)^3, (a + b)^4 \\ldots$\n"
   ]
  },
  {
   "cell_type": "code",
   "execution_count": 80,
   "metadata": {},
   "outputs": [],
   "source": [
    "a, b = sp.symbols('a b')"
   ]
  },
  {
   "cell_type": "code",
   "execution_count": 82,
   "metadata": {},
   "outputs": [
    {
     "data": {
      "text/latex": [
       "$\\displaystyle a^{2} + 2 a b + b^{2}$"
      ],
      "text/plain": [
       "a**2 + 2*a*b + b**2"
      ]
     },
     "execution_count": 82,
     "metadata": {},
     "output_type": "execute_result"
    }
   ],
   "source": [
    "((a + b)^2).expand()"
   ]
  },
  {
   "cell_type": "code",
   "execution_count": 83,
   "metadata": {},
   "outputs": [
    {
     "data": {
      "text/latex": [
       "$\\displaystyle a^{3} + 3 a^{2} b + 3 a b^{2} + b^{3}$"
      ],
      "text/plain": [
       "a**3 + 3*a**2*b + 3*a*b**2 + b**3"
      ]
     },
     "execution_count": 83,
     "metadata": {},
     "output_type": "execute_result"
    }
   ],
   "source": [
    "((a + b)^3).expand()"
   ]
  },
  {
   "cell_type": "code",
   "execution_count": 84,
   "metadata": {},
   "outputs": [
    {
     "data": {
      "text/latex": [
       "$\\displaystyle a^{4} + 4 a^{3} b + 6 a^{2} b^{2} + 4 a b^{3} + b^{4}$"
      ],
      "text/plain": [
       "a**4 + 4*a**3*b + 6*a**2*b**2 + 4*a*b**3 + b**4"
      ]
     },
     "execution_count": 84,
     "metadata": {},
     "output_type": "execute_result"
    }
   ],
   "source": [
    "((a + b)^4).expand()"
   ]
  },
  {
   "cell_type": "code",
   "execution_count": 85,
   "metadata": {},
   "outputs": [
    {
     "data": {
      "text/latex": [
       "$\\displaystyle a^{5} + 5 a^{4} b + 10 a^{3} b^{2} + 10 a^{2} b^{3} + 5 a b^{4} + b^{5}$"
      ],
      "text/plain": [
       "a**5 + 5*a**4*b + 10*a**3*b**2 + 10*a**2*b**3 + 5*a*b**4 + b**5"
      ]
     },
     "execution_count": 85,
     "metadata": {},
     "output_type": "execute_result"
    }
   ],
   "source": [
    "((a + b)^5).expand()"
   ]
  },
  {
   "cell_type": "code",
   "execution_count": 86,
   "metadata": {},
   "outputs": [
    {
     "data": {
      "text/latex": [
       "$\\displaystyle a^{6} + 6 a^{5} b + 15 a^{4} b^{2} + 20 a^{3} b^{3} + 15 a^{2} b^{4} + 6 a b^{5} + b^{6}$"
      ],
      "text/plain": [
       "a**6 + 6*a**5*b + 15*a**4*b**2 + 20*a**3*b**3 + 15*a**2*b**4 + 6*a*b**5 + b**6"
      ]
     },
     "execution_count": 86,
     "metadata": {},
     "output_type": "execute_result"
    }
   ],
   "source": [
    "((a + b)^6).expand()"
   ]
  },
  {
   "cell_type": "code",
   "execution_count": 126,
   "metadata": {},
   "outputs": [],
   "source": [
    "n = sp.symbols('n')\n",
    "e1 = (n * (n + 1) * ( n + 2)) / 6"
   ]
  },
  {
   "cell_type": "code",
   "execution_count": 127,
   "metadata": {},
   "outputs": [
    {
     "data": {
      "text/plain": [
       "[0, 1, 4, 10, 20, 35, 56, 84, 120, 165]"
      ]
     },
     "execution_count": 127,
     "metadata": {},
     "output_type": "execute_result"
    }
   ],
   "source": [
    "[e1.subs(n, i) for i in range(10)]"
   ]
  },
  {
   "cell_type": "markdown",
   "metadata": {},
   "source": [
    "We haven't proved that this patterns holds for the entire matrix, however it does seem be telling us this. \n",
    "\n",
    "What else does this matrix tell us? Another interesting thing to consider is the columns of this Pascal Array. The second colum looks to be ascending integers. So we wee a pattern The third column looks to be triangular numbers. So there is a pattern there. So just from some basic exploration, we are seeing some things interest. "
   ]
  },
  {
   "cell_type": "markdown",
   "metadata": {},
   "source": [
    "Let's be a little more rigorous about defining this pattern and look to a prove this underltying structure. It appears that $P_{i,j}=P_{i-1,j-1}+P_{i-1,j}.$ \n",
    "\n",
    "So, as an example, in the the array below, the values in the first and second columns of the second row, 1 and 1, sum to the value, 2. Or the values of the (2,2) and (2,3) seem to sum to give the value in (3,3)"
   ]
  },
  {
   "cell_type": "code",
   "execution_count": 87,
   "metadata": {},
   "outputs": [
    {
     "data": {
      "text/latex": [
       "$\\displaystyle \\left[\\begin{matrix}1 & 0 & 0\\\\1 & 1 & 0\\\\1 & 2 & 1\\end{matrix}\\right]$"
      ],
      "text/plain": [
       "Matrix([\n",
       "[1, 0, 0],\n",
       "[1, 1, 0],\n",
       "[1, 2, 1]])"
      ]
     },
     "execution_count": 87,
     "metadata": {},
     "output_type": "execute_result"
    }
   ],
   "source": [
    "compute_pascal_array(3)"
   ]
  },
  {
   "cell_type": "markdown",
   "metadata": {},
   "source": [
    "Let's prove this. Note that to do this just requires subsitution and putting up with some symobls. To simplify things, I am and going to create some interim, and then we will substitute at the end:"
   ]
  },
  {
   "cell_type": "code",
   "execution_count": 128,
   "metadata": {},
   "outputs": [],
   "source": [
    "\n",
    "r = sp.factorial(i - 1)\n",
    "s = sp.factorial(j - 1)\n",
    "t = sp.factorial(i - 1 - j + 1)\n",
    "u = sp.factorial(j)\n",
    "v = sp.factorial(i - 1 - j)\n"
   ]
  },
  {
   "cell_type": "code",
   "execution_count": null,
   "metadata": {},
   "outputs": [],
   "source": [
    "# this is an algebraic cancellation thing...."
   ]
  },
  {
   "cell_type": "markdown",
   "metadata": {},
   "source": [
    "$P_{i-1,j-1}+P_{i-1,j}$<br/>\n",
    "$= \\frac{(i-1)!}{(j-1)!(i-1-j+1)!}+\\frac{(i-1)!}{j!(i-1-j)!}$<br/>\n",
    "\n",
    "$=\\frac{(i-1)!}{(j-1)!(i-j)!}+\\frac{(i-1)!}{j!(i-j-1)!}$ <br/>\n",
    "\n",
    "$= \\frac{(i-1)!j+(i-1)!(i-j)}{j!(i-j)!}$ <br/>\n",
    "\n",
    "$=\\frac{(i-1)!(j+i-j)}{j!(i-j)!}=\\frac{i!}{j!(i-j)!}$ <br/>\n",
    "$=P_{i,j}.$ <br/>"
   ]
  },
  {
   "cell_type": "markdown",
   "metadata": {},
   "source": [
    "Though it may look a little messy, its important to note that this just a proof using manipulatio of algebraic symbols, finding a common denominator and and making some cancellations. We have proved that for the values at any index in a arbritraily sized pascal array, it is the case the $P_{i-1,j-1}+P_{i-1,j}=P_{i,j}.$ \n",
    "\n",
    "There is a really interesting direct consequence of this involving Triangular numbers. If . If the first colummn is just $1$, this means formula shows that the second column will be a list of ascending integers. Adn this also implies a 3rd column, t$P_{n,2}=T_{n-1}$ becomes proves that they are triangluar numbers, because we are seeing two elements, a running total and and this amount added, meaning the \n",
    "\n",
    "$P_{n,3}=P_{n-1,2}+P_{n-1,3}, \\quad\\text{or}\\quad P_{n-2}=T_{n-2}+P_{n-3}, \\quad\\text{or}\\quad P_{n}=T_{n}+P_{n-1}.$\n",
    "\n",
    "\n",
    "$P_{n,3}=P_{n-1,2}+P_{n-1,3}, \\quad\\text{or}\\quad P_{n-2}=T_{n-2}+P_{n-3}, \\quad\\text{or}\\quad P_{n}=T_{n}+P_{n-1}. $"
   ]
  },
  {
   "cell_type": "code",
   "execution_count": null,
   "metadata": {},
   "outputs": [],
   "source": []
  },
  {
   "cell_type": "code",
   "execution_count": null,
   "metadata": {},
   "outputs": [],
   "source": []
  },
  {
   "cell_type": "code",
   "execution_count": null,
   "metadata": {},
   "outputs": [],
   "source": []
  },
  {
   "cell_type": "code",
   "execution_count": null,
   "metadata": {},
   "outputs": [],
   "source": []
  },
  {
   "cell_type": "code",
   "execution_count": null,
   "metadata": {},
   "outputs": [],
   "source": []
  },
  {
   "cell_type": "markdown",
   "metadata": {},
   "source": [
    "\n",
    "Important ingredeitn - pascals array, left justified - gives us coeffients - (a + b) ^n - these are just expansions polynomicals\n",
    "\n",
    "index table with i j with 0 indexising - (i,j) entry - (i! / j!(i - j)! .....ij etnry is a binomial coefficent, i chooose j - this array is connected to sums of powers problems - \n",
    "\n",
    "colums of pascal array - figurate numbers.....columms have property they can be summed easily.... this is a look up table....so we can go down and we get an easy to way to look things up.....notice we get our entries from a quadratic function in i. \n",
    "\n",
    "This phenomena occurs for all colums - why is this....this is direct consquence of additive property of pasacal....so this means that x^k can essentially be summed via the power of a pascal array\n",
    "\n",
    "Realisation that colums of pascal array is easily summable due to bernoulli...exploits to find sums of powers...bernouli...exenes and generalizes Faulhauber...\n",
    "\n",
    "We get Bournouli formula.....its big! leads to bernouli nummers....the B_j are bernoulli numbers, facinating weuqnce  of rational numbers....note all of odd bernouli numbers are 0 execpt for 1 - check out slown A000367 and A002445 are numerators and denominators of bernoulie numbers \n",
    "\n",
    "Now let's take a new approach - Pascale + Linear Albegra - let's use a different way - take some of Pascal insignt, combine with linear algebra. \n",
    "\n",
    "We will exploit telescoping area - successive differences...we see lots of cancellation....recal the binomial theorum....combine binomial theorem with teslopit series...exploit telesopiing series.....\n",
    "\n",
    "We can create linear equations and solve in matrix form...end up with general story....we get the inverse - we end up inverse matrix with bernouli numbers...."
   ]
  },
  {
   "cell_type": "code",
   "execution_count": null,
   "metadata": {},
   "outputs": [],
   "source": []
  }
 ],
 "metadata": {
  "kernelspec": {
   "display_name": "SageMath 9.0",
   "language": "sage",
   "name": "sagemath"
  },
  "language_info": {
   "codemirror_mode": {
    "name": "ipython",
    "version": 3
   },
   "file_extension": ".py",
   "mimetype": "text/x-python",
   "name": "python",
   "nbconvert_exporter": "python",
   "pygments_lexer": "ipython3",
   "version": "3.7.3"
  }
 },
 "nbformat": 4,
 "nbformat_minor": 4
}
