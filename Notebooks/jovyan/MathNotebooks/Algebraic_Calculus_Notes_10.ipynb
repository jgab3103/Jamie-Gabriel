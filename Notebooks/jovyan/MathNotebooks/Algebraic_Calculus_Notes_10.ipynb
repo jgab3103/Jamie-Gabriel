{
 "cells": [
  {
   "cell_type": "markdown",
   "metadata": {},
   "source": [
    "<i>STATUS: Draft</i>"
   ]
  },
  {
   "cell_type": "code",
   "execution_count": 1,
   "metadata": {},
   "outputs": [],
   "source": [
    "import numpy as np\n",
    "import sympy as sp\n",
    "import shared_functions as sf\n",
    "from IPython.display import HTML\n",
    "import matplotlib.pyplot as plt\n",
    "import ipywidgets as widgets\n"
   ]
  },
  {
   "cell_type": "markdown",
   "metadata": {},
   "source": [
    "In the last notebook we extended our ideas of sums to look at Falbaur and Bernouli ainterprestation, we found a way to extend and introduced general formula formula proof of Bernoulli. We didn't proove the formula of Bernoulli nd we will return to that. We also found the relatinoship between sequence of sums of numbers and choose number of elements, at least in teh case of sum of integers. And this tells to be wary of \n"
   ]
  },
  {
   "cell_type": "markdown",
   "metadata": {},
   "source": [
    "To keep on exploring this, we are going to introduce the the idea of a Pascal Array. A pascal is a a square matrix (having the same number of rows and columms). For the $8 \\times 8$ case, it looks like the following: \n",
    "\n",
    "$$ P=\\left(\\begin{matrix} 1 & 0 & 0 & 0 & 0 &0&0&0\\\\ 1 & 1 & 0 & 0 & 0&0&0&0 \\\\ 1 & 2 & 1 & 0 & 0&0&0&0 \\\\ 1 & 3 & 3 & 1 & 0&0&0&0 \\\\ 1 & 4 & 6 & 4 & 1&0&0&0 \\\\ 1&5 &10&10&5&1&0&0 \\\\ 1&6&15&20&15&6&1&0 \\\\ 1&7&21&35&35&21&7&1\\end{matrix} \\right). $$"
   ]
  },
  {
   "cell_type": "markdown",
   "metadata": {},
   "source": [
    "It is straightfroward to create a Pascal matrix n x n, for any n. To do this, we are going to use a rule where by the we take the index of a position in the matrix (i, j) entry is $\\binom{i}{j}=\\frac{i!}{j!(i-j)!}$, the binomial coefficent which we saw in the last notebook, which in this case is the number of ways we can choose $j$ things from a set of $n$ things. We start with an index, and the entry at the index is the binomial coeffeciant"
   ]
  },
  {
   "cell_type": "markdown",
   "metadata": {},
   "source": [
    "Let's create a Python function to do this:"
   ]
  },
  {
   "cell_type": "code",
   "execution_count": 2,
   "metadata": {},
   "outputs": [],
   "source": [
    "def compute_pascal_array(dimension_choice):\n",
    "    all_entries = []\n",
    "    for i in range(dimension_choice):\n",
    "        row_entries = []\n",
    "        for j in range(dimension_choice):\n",
    "            row_entries.append( sp.binomial(i, j))\n",
    "        all_entries.append(row_entries)\n",
    "    \n",
    "    return(sp.Matrix(all_entries))\n",
    "    "
   ]
  },
  {
   "cell_type": "markdown",
   "metadata": {},
   "source": [
    "Our function let's us put in any choice of dimensions, we will to a 10 x 10 pascal array."
   ]
  },
  {
   "cell_type": "code",
   "execution_count": 3,
   "metadata": {},
   "outputs": [
    {
     "data": {
      "text/latex": [
       "$\\displaystyle \\left[\\begin{matrix}1 & 0 & 0 & 0 & 0 & 0 & 0 & 0\\\\1 & 1 & 0 & 0 & 0 & 0 & 0 & 0\\\\1 & 2 & 1 & 0 & 0 & 0 & 0 & 0\\\\1 & 3 & 3 & 1 & 0 & 0 & 0 & 0\\\\1 & 4 & 6 & 4 & 1 & 0 & 0 & 0\\\\1 & 5 & 10 & 10 & 5 & 1 & 0 & 0\\\\1 & 6 & 15 & 20 & 15 & 6 & 1 & 0\\\\1 & 7 & 21 & 35 & 35 & 21 & 7 & 1\\end{matrix}\\right]$"
      ],
      "text/plain": [
       "Matrix([\n",
       "[1, 0,  0,  0,  0,  0, 0, 0],\n",
       "[1, 1,  0,  0,  0,  0, 0, 0],\n",
       "[1, 2,  1,  0,  0,  0, 0, 0],\n",
       "[1, 3,  3,  1,  0,  0, 0, 0],\n",
       "[1, 4,  6,  4,  1,  0, 0, 0],\n",
       "[1, 5, 10, 10,  5,  1, 0, 0],\n",
       "[1, 6, 15, 20, 15,  6, 1, 0],\n",
       "[1, 7, 21, 35, 35, 21, 7, 1]])"
      ]
     },
     "execution_count": 3,
     "metadata": {},
     "output_type": "execute_result"
    }
   ],
   "source": [
    "m = compute_pascal_array(8)\n",
    "m\n",
    "\n"
   ]
  },
  {
   "cell_type": "markdown",
   "metadata": {},
   "source": [
    "Note that while this Python function let's us easily create an array of any size, it is also possible, it is not getting created iteratively. We could just as easily.  could also tells about any entry. So imagine if I had a much larger pascal large pascal array, we would see these numbers, look up an index directly"
   ]
  },
  {
   "cell_type": "code",
   "execution_count": 4,
   "metadata": {},
   "outputs": [
    {
     "name": "stdout",
     "output_type": "stream",
     "text": [
      "2493472398872841935388364120\n",
      "64526087956043968753118480\n",
      "1547673696362678217325720\n",
      "34202733621274656736480\n"
     ]
    }
   ],
   "source": [
    "print(sp.binomial(554, 540))\n",
    "print(sp.binomial(554, 541))\n",
    "print(sp.binomial(554, 542))\n",
    "print(sp.binomial(554, 543))"
   ]
  },
  {
   "cell_type": "markdown",
   "metadata": {},
   "source": [
    "THe idea of a Pascal array is based on something else the pascal triangle. To get an intuition for what a We have constructed the etnries of algebraically ascal triangle is intuit the different, remove all the  0's and then centre align each row of the below. o an array like this would go from: \n"
   ]
  },
  {
   "cell_type": "code",
   "execution_count": 5,
   "metadata": {},
   "outputs": [
    {
     "data": {
      "text/latex": [
       "$\\displaystyle \\left[\\begin{matrix}1 & 0 & 0 & 0 & 0\\\\1 & 1 & 0 & 0 & 0\\\\1 & 2 & 1 & 0 & 0\\\\1 & 3 & 3 & 1 & 0\\\\1 & 4 & 6 & 4 & 1\\end{matrix}\\right]$"
      ],
      "text/plain": [
       "Matrix([\n",
       "[1, 0, 0, 0, 0],\n",
       "[1, 1, 0, 0, 0],\n",
       "[1, 2, 1, 0, 0],\n",
       "[1, 3, 3, 1, 0],\n",
       "[1, 4, 6, 4, 1]])"
      ]
     },
     "execution_count": 5,
     "metadata": {},
     "output_type": "execute_result"
    }
   ],
   "source": [
    "compute_pascal_array(5)"
   ]
  },
  {
   "cell_type": "markdown",
   "metadata": {},
   "source": [
    "We will createa function, mostly just to give a visualisation of this, but we will favour the  above one: "
   ]
  },
  {
   "cell_type": "code",
   "execution_count": 6,
   "metadata": {},
   "outputs": [
    {
     "name": "stdout",
     "output_type": "stream",
     "text": [
      "      1 \n",
      "     1 1 \n",
      "    1 2 1 \n",
      "   1 3 3 1 \n",
      "  1 4 6 4 1 \n"
     ]
    }
   ],
   "source": [
    "# input n\n",
    "n = 5\n",
    "for i in range(n):\n",
    "    for j in range(n-i+1):\n",
    "  \n",
    "        # for left spacing\n",
    "        print(end=\" \")\n",
    "  \n",
    "    for j in range(i+1):\n",
    "  \n",
    "        # nCr = n!/((n-r)!*r!)\n",
    "        print(factorial(i)//(factorial(j)*factorial(i-j)), end=\" \")\n",
    "  \n",
    "    # for new line\n",
    "    print()"
   ]
  },
  {
   "cell_type": "markdown",
   "metadata": {},
   "source": [
    "These are slightly different visions, but we will still with the array version, they are both created in essentially the same way and  patterns that come up are easy to see in both. "
   ]
  },
  {
   "cell_type": "markdown",
   "metadata": {},
   "source": [
    "Let's start by having a look at the patterns that arise when we examinethis structure. We will use a $10 \\times 10$ version to examine: "
   ]
  },
  {
   "cell_type": "code",
   "execution_count": 7,
   "metadata": {},
   "outputs": [
    {
     "data": {
      "text/latex": [
       "$\\displaystyle \\left[\\begin{matrix}1 & 0 & 0 & 0 & 0 & 0 & 0 & 0 & 0 & 0\\\\1 & 1 & 0 & 0 & 0 & 0 & 0 & 0 & 0 & 0\\\\1 & 2 & 1 & 0 & 0 & 0 & 0 & 0 & 0 & 0\\\\1 & 3 & 3 & 1 & 0 & 0 & 0 & 0 & 0 & 0\\\\1 & 4 & 6 & 4 & 1 & 0 & 0 & 0 & 0 & 0\\\\1 & 5 & 10 & 10 & 5 & 1 & 0 & 0 & 0 & 0\\\\1 & 6 & 15 & 20 & 15 & 6 & 1 & 0 & 0 & 0\\\\1 & 7 & 21 & 35 & 35 & 21 & 7 & 1 & 0 & 0\\\\1 & 8 & 28 & 56 & 70 & 56 & 28 & 8 & 1 & 0\\\\1 & 9 & 36 & 84 & 126 & 126 & 84 & 36 & 9 & 1\\end{matrix}\\right]$"
      ],
      "text/plain": [
       "Matrix([\n",
       "[1, 0,  0,  0,   0,   0,  0,  0, 0, 0],\n",
       "[1, 1,  0,  0,   0,   0,  0,  0, 0, 0],\n",
       "[1, 2,  1,  0,   0,   0,  0,  0, 0, 0],\n",
       "[1, 3,  3,  1,   0,   0,  0,  0, 0, 0],\n",
       "[1, 4,  6,  4,   1,   0,  0,  0, 0, 0],\n",
       "[1, 5, 10, 10,   5,   1,  0,  0, 0, 0],\n",
       "[1, 6, 15, 20,  15,   6,  1,  0, 0, 0],\n",
       "[1, 7, 21, 35,  35,  21,  7,  1, 0, 0],\n",
       "[1, 8, 28, 56,  70,  56, 28,  8, 1, 0],\n",
       "[1, 9, 36, 84, 126, 126, 84, 36, 9, 1]])"
      ]
     },
     "execution_count": 7,
     "metadata": {},
     "output_type": "execute_result"
    }
   ],
   "source": [
    "m = compute_pascal_array(10)\n",
    "m"
   ]
  },
  {
   "cell_type": "markdown",
   "metadata": {},
   "source": [
    "The first of interest is what is happenign in the columns (and note we above we are indexing from a 0th column to a 9th column)\n",
    "\n",
    "The 0th column looks to be all 1's The 1st columms looks to be ascending integers. How about the second column? Well, from this sample at least, it looks like something we have seen before: Triangular Numbers. Of course, it is not exactly the same, there are two 0 values that occur in the column before the sequence of triangular number starts. But it appears this pattern is present. Interestingly, if we were to favour the visualisation and construction of the as a triangle columns moving diagonally to the left, without any zeros, this sequence is siply the triangular numbers start from 1. In any case, it looks like something of interest. \n",
    "\n",
    "What about the 2nd column? What is this sequence $1,4, 10, 20 \\ldots$? Its also something we have seen before: Tetrahedral numbers! \n",
    "\n",
    "Again we need to be careful, there are a few zeros appearin in the column that appear before the sequence of  Tetrahedral starts from 1 (though not in the triangle looking version). "
   ]
  },
  {
   "cell_type": "markdown",
   "metadata": {},
   "source": [
    "As we more further along the columns, more well known sequences appear to emerge. Let's list columsn 1 through 6 below below, also noting both the generating function and the function to compute this:  \n",
    "\n",
    "<table style=\"width:100%\">\n",
    "  <tr>\n",
    "    <th>Column Index</th>\n",
    "    <th>Sequence name</th>\n",
    "    <th>Entries</th>\n",
    "     <th>Generating formulas</th>\n",
    "  </tr>\n",
    "  <tr>\n",
    "    <td>1</td>\n",
    "    <td>Natural numbers</td>\n",
    "    <td>$(1, 2, 3, 4 \\ldots)$</td>\n",
    "    <td>$\\binom{c}{1}$</td>\n",
    "  </tr>\n",
    "  <tr>\n",
    "    <td>2</td>\n",
    "    <td>Trianglular numbers </td>\n",
    "    <td>$(1, 3, 6, 10 \\ldots)$</td>\n",
    "    <td>$\\binom{c+2}{2}$ or $\\frac{n(n+1)}{2}$</td>\n",
    "  </tr>\n",
    "  <tr>\n",
    "    <td>3</td>\n",
    "    <td>Tetrahedral numbers </td>\n",
    "    <td>$(1, 4, 10, 20 \\ldots)$</td>\n",
    "    <td>$\\binom{c+3}{3}$ or $\\frac{(n-1)n(n+1)}{6}$</td>\n",
    "  </tr>\n",
    "  <tr>\n",
    "    <td>4</td>\n",
    "    <td>Pentatope numbers </td>\n",
    "    <td>$(1, 5, 15, 35 \\ldots)$</td>\n",
    "    <td>$\\binom{c+4}{4}.$</td>\n",
    "  </tr>\n",
    "  <tr>\n",
    "    <td>5</td>\n",
    "    <td>5-Simplex numbers</td>\n",
    "    <td> $(1, 6, 21, 56 \\ldots)$</td>\n",
    "    <td>$\\binom{c+5}{5}.$</td>\n",
    "  </tr>\n",
    "  <tr>\n",
    "    <td>6</td>\n",
    "    <td>6-Simplex numbers </td>\n",
    "    <td>$(1, 7, 28, 84 \\ldots)$</td>\n",
    "    <td>$\\binom{c+6}{6}.$</td>\n",
    "  </tr>"
   ]
  },
  {
   "cell_type": "markdown",
   "metadata": {},
   "source": [
    "What other patterns can be find. How about summing the rows of this matrix and creating an $(n x 1)$ list. What would that look like?"
   ]
  },
  {
   "cell_type": "code",
   "execution_count": 8,
   "metadata": {},
   "outputs": [
    {
     "data": {
      "text/plain": [
       "[1, 2, 4, 8, 16, 32, 64, 128, 256, 512]"
      ]
     },
     "execution_count": 8,
     "metadata": {},
     "output_type": "execute_result"
    }
   ],
   "source": [
    "[sum(m.row(i)) for i in range(m.cols)]"
   ]
  },
  {
   "cell_type": "markdown",
   "metadata": {},
   "source": [
    "Interesting. The numbers appear to double, but there is more to it than that. It seems the pattern is  $2^0,2^1, 2^2, 2^3 \\ldots$ Summing by powers of 2.\n",
    "\n",
    "There is another interting patterns of exponents Even without summing, look at the numbers formed in the intries, $1, 11, 121, 1331, 14641, 15101051 \\dots$. These look like the are the powers of $11^0, 11^1, 11^2, 11^3 \\ldots$. Well almost, entries just collapse down. \n",
    "\n",
    "Let's look further. How about a sequence of square numbers, $1^2,2^2, 3^2, 4^2 \\ldots$  . We can see another pattern. It seems that a number squred is the sum of the number to its right and the number blow it, so $4^2 = 6 + 10$ and $5^2 = 10 + 15$"
   ]
  },
  {
   "cell_type": "markdown",
   "metadata": {},
   "source": [
    "And there is more, however about if, instead of summing rows, we summed diagonaly to the right, starting at 1 heading towards 0. You can see this start from the row 2 (indexed from 0), then start from row 3. "
   ]
  },
  {
   "cell_type": "code",
   "execution_count": 9,
   "metadata": {},
   "outputs": [
    {
     "data": {
      "text/latex": [
       "$\\displaystyle \\left[\\begin{matrix}1 & 0 & 0 & 0 & 0 & 0\\\\1 & 1 & 0 & 0 & 0 & 0\\\\1 & 2 & 1 & 0 & 0 & 0\\\\1 & 3 & 3 & 1 & 0 & 0\\\\1 & 4 & 6 & 4 & 1 & 0\\\\1 & 5 & 10 & 10 & 5 & 1\\end{matrix}\\right]$"
      ],
      "text/plain": [
       "Matrix([\n",
       "[1, 0,  0,  0, 0, 0],\n",
       "[1, 1,  0,  0, 0, 0],\n",
       "[1, 2,  1,  0, 0, 0],\n",
       "[1, 3,  3,  1, 0, 0],\n",
       "[1, 4,  6,  4, 1, 0],\n",
       "[1, 5, 10, 10, 5, 1]])"
      ]
     },
     "execution_count": 9,
     "metadata": {},
     "output_type": "execute_result"
    }
   ],
   "source": [
    "compute_pascal_array(6)"
   ]
  },
  {
   "cell_type": "code",
   "execution_count": 10,
   "metadata": {},
   "outputs": [],
   "source": [
    "# python function for this"
   ]
  },
  {
   "cell_type": "markdown",
   "metadata": {},
   "source": []
  },
  {
   "cell_type": "markdown",
   "metadata": {},
   "source": [
    "This truns out to be the Fibonnaci sequence $1, 1, 2, 3, 5, 8, 13 \\ldots$. \n",
    "\n",
    "Finally, consider somethign slighly more complicted: to tell us about the coefficents of expansions of polynomials that these tell us about polynomial $(a + b)^k$. So if we take expressions such as $(a + b)^2, (a+b)^3, (a + b)^4 \\ldots$"
   ]
  },
  {
   "cell_type": "code",
   "execution_count": 11,
   "metadata": {},
   "outputs": [],
   "source": [
    "a, b = sp.symbols('a b')"
   ]
  },
  {
   "cell_type": "code",
   "execution_count": 12,
   "metadata": {},
   "outputs": [
    {
     "data": {
      "text/latex": [
       "$\\displaystyle a^{2} + 2 a b + b^{2}$"
      ],
      "text/plain": [
       "a**2 + 2*a*b + b**2"
      ]
     },
     "execution_count": 12,
     "metadata": {},
     "output_type": "execute_result"
    }
   ],
   "source": [
    "((a + b)^2).expand()"
   ]
  },
  {
   "cell_type": "code",
   "execution_count": 13,
   "metadata": {},
   "outputs": [
    {
     "data": {
      "text/latex": [
       "$\\displaystyle a^{3} + 3 a^{2} b + 3 a b^{2} + b^{3}$"
      ],
      "text/plain": [
       "a**3 + 3*a**2*b + 3*a*b**2 + b**3"
      ]
     },
     "execution_count": 13,
     "metadata": {},
     "output_type": "execute_result"
    }
   ],
   "source": [
    "((a + b)^3).expand()"
   ]
  },
  {
   "cell_type": "code",
   "execution_count": 14,
   "metadata": {},
   "outputs": [
    {
     "data": {
      "text/latex": [
       "$\\displaystyle a^{4} + 4 a^{3} b + 6 a^{2} b^{2} + 4 a b^{3} + b^{4}$"
      ],
      "text/plain": [
       "a**4 + 4*a**3*b + 6*a**2*b**2 + 4*a*b**3 + b**4"
      ]
     },
     "execution_count": 14,
     "metadata": {},
     "output_type": "execute_result"
    }
   ],
   "source": [
    "((a + b)^4).expand()"
   ]
  },
  {
   "cell_type": "code",
   "execution_count": 15,
   "metadata": {},
   "outputs": [
    {
     "data": {
      "text/latex": [
       "$\\displaystyle a^{5} + 5 a^{4} b + 10 a^{3} b^{2} + 10 a^{2} b^{3} + 5 a b^{4} + b^{5}$"
      ],
      "text/plain": [
       "a**5 + 5*a**4*b + 10*a**3*b**2 + 10*a**2*b**3 + 5*a*b**4 + b**5"
      ]
     },
     "execution_count": 15,
     "metadata": {},
     "output_type": "execute_result"
    }
   ],
   "source": [
    "((a + b)^5).expand()"
   ]
  },
  {
   "cell_type": "code",
   "execution_count": 16,
   "metadata": {},
   "outputs": [
    {
     "data": {
      "text/latex": [
       "$\\displaystyle a^{6} + 6 a^{5} b + 15 a^{4} b^{2} + 20 a^{3} b^{3} + 15 a^{2} b^{4} + 6 a b^{5} + b^{6}$"
      ],
      "text/plain": [
       "a**6 + 6*a**5*b + 15*a**4*b**2 + 20*a**3*b**3 + 15*a**2*b**4 + 6*a*b**5 + b**6"
      ]
     },
     "execution_count": 16,
     "metadata": {},
     "output_type": "execute_result"
    }
   ],
   "source": [
    "((a + b)^6).expand()"
   ]
  },
  {
   "cell_type": "code",
   "execution_count": 17,
   "metadata": {},
   "outputs": [],
   "source": [
    "n = sp.symbols('n')\n",
    "e1 = (n * (n + 1) * ( n + 2)) / 6"
   ]
  },
  {
   "cell_type": "code",
   "execution_count": 18,
   "metadata": {},
   "outputs": [
    {
     "data": {
      "text/plain": [
       "[0, 1, 4, 10, 20, 35, 56, 84, 120, 165]"
      ]
     },
     "execution_count": 18,
     "metadata": {},
     "output_type": "execute_result"
    }
   ],
   "source": [
    "[e1.subs(n, i) for i in range(10)]"
   ]
  },
  {
   "cell_type": "markdown",
   "metadata": {},
   "source": [
    "A final example, more tells us about coin flips have not yet dealt with probability, "
   ]
  },
  {
   "cell_type": "markdown",
   "metadata": {},
   "source": [
    "Perhaps we should not be too excited about all this have constructed a structure with a generating rule, and would expect to see patterns emerge. THe last exacmple, we have combinatorics to generate. To me however, it is also interesting to note just how many patterns seem to emerge just the result of our generating function. "
   ]
  },
  {
   "cell_type": "markdown",
   "metadata": {},
   "source": [
    "Its important to note of course, that so far  we haven't really done any mathematical reasoning or rigorous proof here. We simply have looking at patterns that seem to arise from our matrix simply used the index in a square matrix n x n arguments into a binomical coefficient function, as a way to generating entries in the matrix in this structure. And pointing out that there are lots of patterns that appear here"
   ]
  },
  {
   "cell_type": "markdown",
   "metadata": {},
   "source": [
    "Let's be a little more rigorous about defining this pattern and look to a prove this underltying structure. Because for all of these things to hold, we need be able to say that for any entry in an arbitrarily sized matrix, $M_{i,j}$, it must be the case that \n",
    "\n",
    "$$ M_{i,j} = M_{i-1,j-1}+P_{i-1,j}$$ \n",
    "\n",
    "So, fro example, in the matrix below, the entries at index (2,2) and (2,3) need to sum to sum to give the value in (3,3). "
   ]
  },
  {
   "cell_type": "code",
   "execution_count": 19,
   "metadata": {},
   "outputs": [
    {
     "data": {
      "text/latex": [
       "$\\displaystyle \\left[\\begin{matrix}1 & 0 & 0\\\\1 & 1 & 0\\\\1 & 2 & 1\\end{matrix}\\right]$"
      ],
      "text/plain": [
       "Matrix([\n",
       "[1, 0, 0],\n",
       "[1, 1, 0],\n",
       "[1, 2, 1]])"
      ]
     },
     "execution_count": 19,
     "metadata": {},
     "output_type": "execute_result"
    }
   ],
   "source": [
    "compute_pascal_array(3)"
   ]
  },
  {
   "cell_type": "markdown",
   "metadata": {},
   "source": [
    "Further more, these qualities tend to hold, and we want them to hold for an arbitrarily sized array. Let's see if that we can provide this. Note that, to do so really just requires subsitution and putting up with some symobls. To simplify things, I am and going to create some interim, and then we will substitute at the end:"
   ]
  },
  {
   "cell_type": "code",
   "execution_count": 20,
   "metadata": {},
   "outputs": [],
   "source": [
    "\n",
    "r = sp.factorial(i - 1)\n",
    "s = sp.factorial(j - 1)\n",
    "t = sp.factorial(i - 1 - j + 1)\n",
    "u = sp.factorial(j)\n",
    "v = sp.factorial(i - 1 - j)\n"
   ]
  },
  {
   "cell_type": "code",
   "execution_count": 21,
   "metadata": {},
   "outputs": [],
   "source": [
    "# this is an algebraic cancellation thing...."
   ]
  },
  {
   "cell_type": "markdown",
   "metadata": {},
   "source": [
    "$P_{i-1,j-1}+P_{i-1,j}$<br/>\n",
    "$= \\frac{(i-1)!}{(j-1)!(i-1-j+1)!}+\\frac{(i-1)!}{j!(i-1-j)!}$<br/>\n",
    "\n",
    "$=\\frac{(i-1)!}{(j-1)!(i-j)!}+\\frac{(i-1)!}{j!(i-j-1)!}$ <br/>\n",
    "\n",
    "$= \\frac{(i-1)!j+(i-1)!(i-j)}{j!(i-j)!}$ <br/>\n",
    "\n",
    "$=\\frac{(i-1)!(j+i-j)}{j!(i-j)!}=\\frac{i!}{j!(i-j)!}$ <br/>\n",
    "$=P_{i,j}.$ <br/>"
   ]
  },
  {
   "cell_type": "markdown",
   "metadata": {},
   "source": [
    "So it looks  a little messy, bt its important to note that this just a proof using manipulatio of algebraic symbols, finding a common denominator and and making some cancellations. And it gives a general proof that, for the values at any index in a arbritraily sized pascal array, it must be the case the \n",
    "\n",
    "$$P_{i-1,j-1}+P_{i-1,j}=P_{i,j}$$ \n",
    "\n"
   ]
  },
  {
   "cell_type": "markdown",
   "metadata": {},
   "source": [
    "Note that, as a direct consequence of this, which will ecome important to us\n",
    "\n",
    "$$P_{n,2} \\equiv \\text{Tr}_{n-1}$$\n",
    "$$ P_{n,3}\\equiv \\text{Te}_{n-2} $$\n",
    "$$ P_{n,4}\\equiv \\text{Pe}_{n-3} $$\n",
    "$$ \\ldots \\text{and so on }$$\n",
    "\n",
    "So what can we do with this identity, and this pattern that arises from the identity? Let's explore this by focusing on a specific example with this. Suppose we some entry at $P_{n, 3}$. Based on the first identity above, we know it must equivalent to : \n",
    "\n",
    "$$P_{n,3}=P_{n-1,2}+P_{n-1,3}$$"
   ]
  },
  {
   "cell_type": "markdown",
   "metadata": {},
   "source": [
    "Now it if is the case that $P_{n,2} \\equiv Tr_{n-1}$, then it folows that $P_{n-1,2} \\equiv Tr_{n-2}$. So let's subsitute that in to this identity above: \n",
    "\n",
    "$$P_{n, 3}=Tr_{n-2}+P_{n-1, 3}$$"
   ]
  },
  {
   "cell_type": "markdown",
   "metadata": {},
   "source": [
    "We can take a similiar approach with the other terms. We know that $ P_{n,3}\\equiv \\text{Te}_{n-2} $, and it follows by shifting the indexes that $P_{n - 1,3}\\equiv \\text{Te}_{n-3}$. So these values into the the indentity above: \n",
    "\n",
    "$$\\text{Te}_{n-2}=Tr_{n-2}+\\text{Te}_{n-3}$$ \n",
    "\n",
    "Through algebraic substitution we are left with this new expression. THe last thing I want to do is clean up the indexes, shift the indexes of each term $n$, simply. We know the behaviour is the same everhwere for let's make it simpler to look at: \n",
    "\n",
    "$$\\text{Te}_{n}=Tr_{n}+\\text{Te}_{n-1}$$ \n",
    "\n"
   ]
  },
  {
   "cell_type": "markdown",
   "metadata": {},
   "source": [
    "So this is telling us that the Tetrahedral numbers in a Pascal Matrix are equivalent to to the Triangular numbers "
   ]
  },
  {
   "cell_type": "code",
   "execution_count": 22,
   "metadata": {},
   "outputs": [
    {
     "data": {
      "text/latex": [
       "$\\displaystyle \\left[\\begin{matrix}1 & 0 & 0 & 0 & 0 & 0\\\\1 & 1 & 0 & 0 & 0 & 0\\\\1 & 2 & 1 & 0 & 0 & 0\\\\1 & 3 & 3 & 1 & 0 & 0\\\\1 & 4 & 6 & 4 & 1 & 0\\\\1 & 5 & 10 & 10 & 5 & 1\\end{matrix}\\right]$"
      ],
      "text/plain": [
       "Matrix([\n",
       "[1, 0,  0,  0, 0, 0],\n",
       "[1, 1,  0,  0, 0, 0],\n",
       "[1, 2,  1,  0, 0, 0],\n",
       "[1, 3,  3,  1, 0, 0],\n",
       "[1, 4,  6,  4, 1, 0],\n",
       "[1, 5, 10, 10, 5, 1]])"
      ]
     },
     "execution_count": 22,
     "metadata": {},
     "output_type": "execute_result"
    }
   ],
   "source": [
    "compute_pascal_array(6)"
   ]
  },
  {
   "cell_type": "markdown",
   "metadata": {},
   "source": [
    "jg - subs doesn't quite work but almos ttere\n",
    "$$ P_{n,3}=P_{n-1,2}+P_{n-1,3}, \\quad\\text{or}\\quad P_{n-2}=T_{n-2}+P_{n-3}, \\quad\\text{or}\\quad P_{n}=T_{n}+P_{n-1}. $$"
   ]
  },
  {
   "cell_type": "markdown",
   "metadata": {},
   "source": [
    "Recall also that we have exptressions from a previous notebook htat we ca \n",
    "\n",
    "$$\\text{Te}_{n} \\equiv \\binom{c+2}{2} \\equiv \\frac{n(n+1)}{2}$$\n",
    "\n",
    "$$Tr_{n} \\equiv \\binom{c+3}{3} \\equiv \\frac{(n-1)n(n+1)}{6}$$"
   ]
  },
  {
   "cell_type": "code",
   "execution_count": 23,
   "metadata": {},
   "outputs": [],
   "source": [
    "n = sp.symbols('n')\n",
    "\n",
    "T_n = (n * (n + 1)) / 2\n",
    "P_n_minus_1 = (( n - 1) * n * (n + 1)) / 6"
   ]
  },
  {
   "cell_type": "code",
   "execution_count": 26,
   "metadata": {},
   "outputs": [
    {
     "data": {
      "text/latex": [
       "$\\displaystyle \\frac{n \\left(n - 1\\right) \\left(n + 1\\right)}{6} + \\frac{n \\left(n + 1\\right)}{2}$"
      ],
      "text/plain": [
       "n*(n - 1)*(n + 1)/6 + n*(n + 1)/2"
      ]
     },
     "execution_count": 26,
     "metadata": {},
     "output_type": "execute_result"
    }
   ],
   "source": [
    "P_n = T_n + P_n_minus_1\n",
    "P_n"
   ]
  },
  {
   "cell_type": "code",
   "execution_count": 27,
   "metadata": {},
   "outputs": [
    {
     "data": {
      "text/latex": [
       "$\\displaystyle \\frac{n \\left(n + 1\\right) \\left(n + 2\\right)}{6}$"
      ],
      "text/plain": [
       "n*(n + 1)*(n + 2)/6"
      ]
     },
     "execution_count": 27,
     "metadata": {},
     "output_type": "execute_result"
    }
   ],
   "source": [
    "P_n.simplify()"
   ]
  },
  {
   "cell_type": "markdown",
   "metadata": {},
   "source": [
    "So much of mathematics is "
   ]
  },
  {
   "cell_type": "markdown",
   "metadata": {},
   "source": [
    "\n",
    "Important ingredeitn - pascals array, left justified - gives us coeffients - (a + b) ^n - these are just expansions polynomicals\n",
    "\n",
    "index table with i j with 0 indexising - (i,j) entry - (i! / j!(i - j)! .....ij etnry is a binomial coefficent, i chooose j - this array is connected to sums of powers problems - \n",
    "\n",
    "colums of pascal array - figurate numbers.....columms have property they can be summed easily.... this is a look up table....so we can go down and we get an easy to way to look things up.....notice we get our entries from a quadratic function in i. \n",
    "\n",
    "This phenomena occurs for all colums - why is this....this is direct consquence of additive property of pasacal....so this means that x^k can essentially be summed via the power of a pascal array\n",
    "\n",
    "Realisation that colums of pascal array is easily summable due to bernoulli...exploits to find sums of powers...bernouli...exenes and generalizes Faulhauber...\n",
    "\n",
    "We get Bournouli formula.....its big! leads to bernouli nummers....the B_j are bernoulli numbers, facinating weuqnce  of rational numbers....note all of odd bernouli numbers are 0 execpt for 1 - check out slown A000367 and A002445 are numerators and denominators of bernoulie numbers \n",
    "\n",
    "Now let's take a new approach - Pascale + Linear Albegra - let's use a different way - take some of Pascal insignt, combine with linear algebra. \n",
    "\n",
    "We will exploit telescoping area - successive differences...we see lots of cancellation....recal the binomial theorum....combine binomial theorem with teslopit series...exploit telesopiing series.....\n",
    "\n",
    "We can create linear equations and solve in matrix form...end up with general story....we get the inverse - we end up inverse matrix with bernouli numbers...."
   ]
  },
  {
   "cell_type": "code",
   "execution_count": null,
   "metadata": {},
   "outputs": [],
   "source": []
  }
 ],
 "metadata": {
  "kernelspec": {
   "display_name": "SageMath 9.0",
   "language": "sage",
   "name": "sagemath"
  },
  "language_info": {
   "codemirror_mode": {
    "name": "ipython",
    "version": 3
   },
   "file_extension": ".py",
   "mimetype": "text/x-python",
   "name": "python",
   "nbconvert_exporter": "python",
   "pygments_lexer": "ipython3",
   "version": "3.7.3"
  }
 },
 "nbformat": 4,
 "nbformat_minor": 4
}
