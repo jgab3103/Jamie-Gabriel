{
 "cells": [
  {
   "cell_type": "markdown",
   "metadata": {},
   "source": [
    "<i>STATUS: Draft</i>"
   ]
  },
  {
   "cell_type": "code",
   "execution_count": 1,
   "metadata": {},
   "outputs": [],
   "source": [
    "import numpy as np\n",
    "import sympy as sp\n",
    "import shared_functions as sf\n",
    "from IPython.display import HTML\n",
    "import matplotlib.pyplot as plt"
   ]
  },
  {
   "cell_type": "markdown",
   "metadata": {},
   "source": [
    "\n",
    "\n",
    "\n",
    "Important ingredeitn - pascals array, left justified - gives us coeffients - (a + b) ^n - these are just expansions polynomicals\n",
    "\n",
    "index table with i j with 0 indexising - (i,j) entry - (i! / j!(i - j)! .....ij etnry is a binomial coefficent, i chooose j - this array is connected to sums of powers problems - \n",
    "\n",
    "colums of pascal array - figurate numbers.....columms have property they can be summed easily.... this is a look up table....so we can go down and we get an easy to way to look things up.....notice we get our entries from a quadratic function in i. \n",
    "\n",
    "This phenomena occurs for all colums - why is this....this is direct consquence of additive property of pasacal....so this means that x^k can essentially be summed via the power of a pascal array\n",
    "\n",
    "Realisation that colums of pascal array is easily summable due to bernoulli...exploits to find sums of powers...bernouli...exenes and generalizes Faulhauber...\n",
    "\n",
    "We get Bournouli formula.....its big! leads to bernouli nummers....the B_j are bernoulli numbers, facinating weuqnce  of rational numbers....note all of odd bernouli numbers are 0 execpt for 1 - check out slown A000367 and A002445 are numerators and denominators of bernoulie numbers \n",
    "\n",
    "Now let's take a new approach - Pascale + Linear Albegra - let's use a different way - take some of Pascal insignt, combine with linear algebra. \n",
    "\n",
    "We will exploit telescoping area - successive differences...we see lots of cancellation....recal the binomial theorum....combine binomial theorem with teslopit series...exploit telesopiing series.....\n",
    "\n",
    "We can create linear equations and solve in matrix form...end up with general story....we get the inverse - we end up inverse matrix with bernouli numbers...."
   ]
  },
  {
   "cell_type": "code",
   "execution_count": null,
   "metadata": {},
   "outputs": [],
   "source": []
  },
  {
   "cell_type": "code",
   "execution_count": null,
   "metadata": {},
   "outputs": [],
   "source": []
  },
  {
   "cell_type": "code",
   "execution_count": null,
   "metadata": {},
   "outputs": [],
   "source": []
  },
  {
   "cell_type": "code",
   "execution_count": null,
   "metadata": {},
   "outputs": [],
   "source": []
  },
  {
   "cell_type": "code",
   "execution_count": null,
   "metadata": {},
   "outputs": [],
   "source": []
  }
 ],
 "metadata": {
  "kernelspec": {
   "display_name": "SageMath 9.0",
   "language": "sage",
   "name": "sagemath"
  },
  "language_info": {
   "codemirror_mode": {
    "name": "ipython",
    "version": 3
   },
   "file_extension": ".py",
   "mimetype": "text/x-python",
   "name": "python",
   "nbconvert_exporter": "python",
   "pygments_lexer": "ipython3",
   "version": "3.7.3"
  }
 },
 "nbformat": 4,
 "nbformat_minor": 4
}
