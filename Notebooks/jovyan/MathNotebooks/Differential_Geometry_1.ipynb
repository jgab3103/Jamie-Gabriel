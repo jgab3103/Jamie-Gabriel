{
 "cells": [
  {
   "cell_type": "code",
   "execution_count": 1,
   "metadata": {},
   "outputs": [],
   "source": [
    "import numpy as np\n",
    "import sympy as sp\n",
    "from IPython.display import HTML\n",
    "import ipywidgets as widgets\n",
    "import matplotlib as mpl\n",
    "from mpl_toolkits.mplot3d import Axes3D\n",
    "import matplotlib.pyplot as plt\n",
    "mpl.rcParams['legend.fontsize'] = 10"
   ]
  },
  {
   "cell_type": "code",
   "execution_count": 2,
   "metadata": {},
   "outputs": [],
   "source": [
    "def format_axis_for_plot(ax, latex_label, x_lim = 20, y_lim= 20):\n",
    "    ax.grid()\n",
    "    ax.spines['left'].set_position(('data', 0.0))\n",
    "    ax.spines['bottom'].set_position(('data', 0.0))\n",
    "    ax.spines['top'].set_visible(False)\n",
    "    ax.spines['right'].set_visible(False)\n",
    "    ax.set_xlim([-x_lim, x_lim])\n",
    "    ax.set_ylim([-y_lim, y_lim])\n",
    "    ax.set_title(latex_label)\n",
    "    \n",
    "    return(ax)\n"
   ]
  },
  {
   "cell_type": "markdown",
   "metadata": {},
   "source": [
    "Classical curves, Frenet seret frames, oscilating conics, curvature, Gauss theorema Egregium\n",
    "\n",
    "First and second forms, shape operator, minimal survaleces, mean curvature, rules services, geodesics, Gauss-Bonnet, topology, conntiunity, clasicfication of survaces, Eurler Characteristic\n",
    "\n",
    "Imporant to note - new ideas in geometry and calculus, we can leverage of this..\n",
    "\n",
    "Point of view - rational/algebraic techniques better than transcendental ones... use some classical geom, role for projective geom, quadrics, language of rational trig - stickign to 2d and 3d, realm of practical, have a view to physics....links to gneral relativity, \n",
    "\n",
    "study of curves - "
   ]
  },
  {
   "cell_type": "markdown",
   "metadata": {},
   "source": [
    "Eurlery newton/ Mange / cauchy / Guass....but earlier lots of interesting in curves - greek\n",
    "\n",
    "line simplest\n",
    "\n",
    "conic sections stuff.....put in here.... \"slice the cone\", parabola, ellipse, hyperbola...named by appolonius...also degenerate conic sections....1 point, \n",
    "\n",
    "We can think of them metric defintions - typically involving point and a line (focus and directrix) - relationship \n",
    "\n",
    "Diagram 1 - use quadrance is distances**2....\n",
    "\n",
    "Look (Q, F) = Q(X, l) - condition of parabola\n",
    "\n",
    "Look (Q, F)/Q(x, l) < 1 - we get an ellipse\n",
    "\n",
    "Look at (Q, F) / Q(x, L) > 1 - we get a hyperbola\n",
    "\n",
    "\n",
    "What wasn't really understood was relationship between 2 defiitions (plane slicing cone vs metrical defintions)...... so challenge arises as to when you cut a cone with a plane, where is the focus and directrix\n",
    "\n",
    "So jg - we have the challnge of how to construct these structures....starting from eith one - \n",
    "\n",
    "To do this diagram 3..... \n",
    "\n",
    "and then to get directrix, you use equator of shere which cuts ellipse in a line, then get equator of squre on top...\n",
    "\n",
    "Note that there are other ways to create these structures (so far we have metrical creation, sliciding a cone creatino), but we could also apply an affine transformation - stretch plane in one direction more than the other .....\n",
    "\n",
    "Also another way we can create it - via the complex plane\n",
    "we can use cosh z = cosh x cosh iy + sinh x sinch iy for z = x + iy\n",
    "\n",
    "$$ \\cosh{x} \\cos{y} + i \\sinh{x} sin{y}$$ \n",
    "\n",
    "\n",
    "\n"
   ]
  },
  {
   "cell_type": "markdown",
   "metadata": {},
   "source": [
    "which can also be written as \n",
    "$$ \\frac{e^z + e^{-z}}{2} $$\n",
    "\n",
    "\n",
    "If Real part of z is fixed, then y - X + i \n",
    "\n",
    "IN 17th Cent - analytic geom took place of greeks (descartes).....\n",
    "\n",
    "Analytic Geom of Descartes\n",
    "\n",
    "Conics now have algebraic description - line is a form of ax + by + c = 0\n",
    "\n",
    "Conic is some kidn of degree 2 - ax**2 + bxy + cy**2 + dx....etc...\n",
    "\n",
    "All conics form part of one big family\n",
    "\n",
    "Note also - \n",
    "\n",
    "Greeks"
   ]
  },
  {
   "cell_type": "code",
   "execution_count": null,
   "metadata": {},
   "outputs": [],
   "source": []
  }
 ],
 "metadata": {
  "kernelspec": {
   "display_name": "SageMath 9.0",
   "language": "sage",
   "name": "sagemath"
  },
  "language_info": {
   "codemirror_mode": {
    "name": "ipython",
    "version": 3
   },
   "file_extension": ".py",
   "mimetype": "text/x-python",
   "name": "python",
   "nbconvert_exporter": "python",
   "pygments_lexer": "ipython3",
   "version": "3.7.3"
  }
 },
 "nbformat": 4,
 "nbformat_minor": 4
}
