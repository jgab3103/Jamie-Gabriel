{
 "cells": [
  {
   "cell_type": "code",
   "execution_count": 6,
   "metadata": {},
   "outputs": [],
   "source": [
    "import numpy as np\n",
    "import sympy as sp\n",
    "import shared_functions as sf\n",
    "from IPython.display import HTML\n",
    "import matplotlib.pyplot as plt\n",
    "import ipywidgets as widgets"
   ]
  },
  {
   "cell_type": "markdown",
   "metadata": {},
   "source": [
    "In the last notebook, we did some recap of basics around polynomials and linear Algebra both powerful technologies that will extend an understanding of Algebraic Calculus by introducing the Algebraic Derivative. Now we are going to turn back to the work of Falhaaber, and arrive at what the notion of derivative that precieded . What is exciting is that we won't come to the derivative in visual way, geomtric, but purely agebraic. \n",
    "\n",
    "Let's start with some interesting observations of Faulhaber. We have already noted that in 1631 he whowed that $S_k(n)=\\sum_{i=1}^n i^k$ for k = 1 to 17. \n",
    "\n",
    "However Faulhaber went further that this. He noted that if we introduced a variable $N$, such that : \n",
    "\n",
    "$$   N=\\frac {n(n+1)}{2}$$\n",
    "\n",
    "then the subsequence of odd powers are expressible as polynomials in $N$. For Faulhaber, this was at least up to $k = 17$. \n",
    "\n",
    "So for example, consider $S_5$ whch Faulhaber showed to be: \n",
    "\n",
    "$$  S_5(n)=\\sum_{i=1}^n i^5=-\\frac {1}{12} n^2 +\\frac {5}{12} n^4+\\frac 12 n^5+\\frac 16 n^6 $$ \n",
    "\n",
    "Faulhaber claimed that it was possible to express this as a polynomial in $N$, specifically as: \n",
    "\n",
    "$$  S_5=\\frac {4N^3-N^2}{3}. $$\n"
   ]
  },
  {
   "cell_type": "markdown",
   "metadata": {},
   "source": [
    "Its not hard to show this is the case. The simplest way would be create a new variable, $N$:"
   ]
  },
  {
   "cell_type": "code",
   "execution_count": 7,
   "metadata": {},
   "outputs": [
    {
     "data": {
      "text/latex": [
       "$\\displaystyle \\frac{n \\left(n + 1\\right)}{2}$"
      ],
      "text/plain": [
       "n*(n + 1)/2"
      ]
     },
     "execution_count": 7,
     "metadata": {},
     "output_type": "execute_result"
    }
   ],
   "source": [
    "n = sp.symbols('n')\n",
    "N = (n * (n + 1)) / 2\n",
    "N"
   ]
  },
  {
   "cell_type": "markdown",
   "metadata": {},
   "source": [
    "We then simply substitute it in and expand. We find it returns $S_5$:  "
   ]
  },
  {
   "cell_type": "code",
   "execution_count": 8,
   "metadata": {},
   "outputs": [
    {
     "data": {
      "text/html": [
       "<html><script type=\"math/tex; mode=display\">\\newcommand{\\Bold}[1]{\\mathbf{#1}}\\frac{1}{6} \\, n^{6} + \\frac{1}{2} \\, n^{5} + \\frac{5}{12} \\, n^{4} - \\frac{1}{12} \\, n^{2}</script></html>"
      ],
      "text/plain": [
       "1/6*n^6 + 1/2*n^5 + 5/12*n^4 - 1/12*n^2"
      ]
     },
     "metadata": {},
     "output_type": "display_data"
    }
   ],
   "source": [
    "s = (4 * N**3 - N**2) / 3\n",
    "show(s.expand())"
   ]
  },
  {
   "cell_type": "markdown",
   "metadata": {},
   "source": [
    "We could of course, solve Faulhaber's identity $N$ in terms of $n$. $N$ is quadratic so we would get more get more than 1 solution: \n"
   ]
  },
  {
   "cell_type": "code",
   "execution_count": 15,
   "metadata": {},
   "outputs": [],
   "source": [
    "N, n = sp.symbols('N, n')\n",
    "e1 = sp.Eq(N, (n * (n + 1)) / 2)\n",
    "e2 = sp.solve(e1, n)\n",
    "#e2[0]"
   ]
  },
  {
   "cell_type": "code",
   "execution_count": 17,
   "metadata": {},
   "outputs": [
    {
     "data": {
      "text/latex": [
       "$\\displaystyle - \\frac{\\sqrt{8 N + 1}}{2} - \\frac{1}{2}$"
      ],
      "text/plain": [
       "-sqrt(8*N + 1)/2 - 1/2"
      ]
     },
     "execution_count": 17,
     "metadata": {},
     "output_type": "execute_result"
    }
   ],
   "source": [
    "e2[0]"
   ]
  },
  {
   "cell_type": "markdown",
   "metadata": {},
   "source": [
    "This result might give us pause, as we don't want to end up with an answer other $S_5$. Conveniently however, we can take either of the values, and substitute the value for $n$ in $S_5$. Let's look at the first one: "
   ]
  },
  {
   "cell_type": "code",
   "execution_count": 18,
   "metadata": {},
   "outputs": [
    {
     "data": {
      "text/html": [
       "<html><script type=\"math/tex; mode=display\">\\newcommand{\\Bold}[1]{\\mathbf{#1}}\\frac{1}{384} \\, {\\left(\\sqrt{8 \\, N + 1} + 1\\right)}^{6} - \\frac{1}{64} \\, {\\left(\\sqrt{8 \\, N + 1} + 1\\right)}^{5} + \\frac{5}{192} \\, {\\left(\\sqrt{8 \\, N + 1} + 1\\right)}^{4} - \\frac{1}{48} \\, {\\left(\\sqrt{8 \\, N + 1} + 1\\right)}^{2}</script></html>"
      ],
      "text/plain": [
       "1/384*(sqrt(8*N + 1) + 1)^6 - 1/64*(sqrt(8*N + 1) + 1)^5 + 5/192*(sqrt(8*N + 1) + 1)^4 - 1/48*(sqrt(8*N + 1) + 1)^2"
      ]
     },
     "metadata": {},
     "output_type": "display_data"
    }
   ],
   "source": [
    "S5 = -1/12 * n**2 + 5/12*n**4 + 1/2*n**5 + 1/6 * n**6\n",
    "show(S5.subs(n= e2[0]))"
   ]
  },
  {
   "cell_type": "markdown",
   "metadata": {},
   "source": [
    "It seems complicated, but when we expand we things seem to work out: "
   ]
  },
  {
   "cell_type": "code",
   "execution_count": 19,
   "metadata": {},
   "outputs": [
    {
     "data": {
      "text/html": [
       "<html><script type=\"math/tex; mode=display\">\\newcommand{\\Bold}[1]{\\mathbf{#1}}\\frac{4}{3} \\, N^{3} - \\frac{1}{3} \\, N^{2}</script></html>"
      ],
      "text/plain": [
       "4/3*N^3 - 1/3*N^2"
      ]
     },
     "metadata": {},
     "output_type": "display_data"
    }
   ],
   "source": [
    "show(S5.subs(n= e2[0]).expand())"
   ]
  },
  {
   "cell_type": "markdown",
   "metadata": {},
   "source": [
    "And, pleasantly, when we substitute the other value we have for $n$, and expand, we get exactly the same answer: "
   ]
  },
  {
   "cell_type": "code",
   "execution_count": 20,
   "metadata": {},
   "outputs": [
    {
     "data": {
      "text/html": [
       "<html><script type=\"math/tex; mode=display\">\\newcommand{\\Bold}[1]{\\mathbf{#1}}\\frac{4}{3} \\, N^{3} - \\frac{1}{3} \\, N^{2}</script></html>"
      ],
      "text/plain": [
       "4/3*N^3 - 1/3*N^2"
      ]
     },
     "metadata": {},
     "output_type": "display_data"
    }
   ],
   "source": [
    "show(S5.subs(n= e2[1]).expand())"
   ]
  },
  {
   "cell_type": "code",
   "execution_count": 29,
   "metadata": {},
   "outputs": [
    {
     "data": {
      "text/latex": [
       "$\\displaystyle \\frac{n^{4}}{4} + \\frac{n^{3}}{2} + \\frac{n^{2}}{4}$"
      ],
      "text/plain": [
       "n**4/4 + n**3/2 + n**2/4"
      ]
     },
     "execution_count": 29,
     "metadata": {},
     "output_type": "execute_result"
    }
   ],
   "source": [
    "S3 = n**2/4 + n**3/2 + n**4/4 \n",
    "S3"
   ]
  },
  {
   "cell_type": "code",
   "execution_count": 30,
   "metadata": {},
   "outputs": [
    {
     "data": {
      "text/plain": [
       "[-sqrt(8*N + 1)/2 - 1/2, sqrt(8*N + 1)/2 - 1/2]"
      ]
     },
     "execution_count": 30,
     "metadata": {},
     "output_type": "execute_result"
    }
   ],
   "source": [
    "e2"
   ]
  },
  {
   "cell_type": "code",
   "execution_count": 31,
   "metadata": {},
   "outputs": [
    {
     "data": {
      "text/latex": [
       "$\\displaystyle - \\frac{\\sqrt{8 N + 1}}{2} - \\frac{1}{2}$"
      ],
      "text/plain": [
       "-sqrt(8*N + 1)/2 - 1/2"
      ]
     },
     "execution_count": 31,
     "metadata": {},
     "output_type": "execute_result"
    }
   ],
   "source": [
    "e2[0]"
   ]
  },
  {
   "cell_type": "code",
   "execution_count": 33,
   "metadata": {},
   "outputs": [
    {
     "data": {
      "text/latex": [
       "$\\displaystyle \\frac{\\left(\\frac{\\sqrt{8 N + 1}}{2} - \\frac{1}{2}\\right)^{4}}{4} + \\frac{\\left(\\frac{\\sqrt{8 N + 1}}{2} - \\frac{1}{2}\\right)^{3}}{2} + \\frac{\\left(\\frac{\\sqrt{8 N + 1}}{2} - \\frac{1}{2}\\right)^{2}}{4}$"
      ],
      "text/plain": [
       "(sqrt(8*N + 1)/2 - 1/2)**4/4 + (sqrt(8*N + 1)/2 - 1/2)**3/2 + (sqrt(8*N + 1)/2 - 1/2)**2/4"
      ]
     },
     "execution_count": 33,
     "metadata": {},
     "output_type": "execute_result"
    }
   ],
   "source": [
    "S3.subs(n, e2[1])"
   ]
  },
  {
   "cell_type": "code",
   "execution_count": 34,
   "metadata": {},
   "outputs": [
    {
     "data": {
      "text/latex": [
       "$\\displaystyle N^{2}$"
      ],
      "text/plain": [
       "N**2"
      ]
     },
     "execution_count": 34,
     "metadata": {},
     "output_type": "execute_result"
    }
   ],
   "source": [
    "S3.subs(n, e2[1]).expand()"
   ]
  },
  {
   "cell_type": "code",
   "execution_count": null,
   "metadata": {},
   "outputs": [],
   "source": []
  },
  {
   "cell_type": "code",
   "execution_count": null,
   "metadata": {},
   "outputs": [],
   "source": []
  },
  {
   "cell_type": "code",
   "execution_count": null,
   "metadata": {},
   "outputs": [],
   "source": []
  },
  {
   "cell_type": "markdown",
   "metadata": {},
   "source": [
    "<div style=\"background:#99ddff; color:black; padding: 10px\">\n",
    "<b>Add to these notes:</b>\n",
    "   \n",
    "We are just dealing with observations of course, but perhaps we should try other powers, $S_3, S_7, S_9, S_11$ etc. in same manner as above.    \n",
    "</div>"
   ]
  },
  {
   "cell_type": "markdown",
   "metadata": {},
   "source": [
    "Faulbaber's observations seems to work well forodd powers, (such as $S_1, S_3, S_5, \\ldots$. But what about the even powers. What might we say about might we make about $S_4$? Recall first that that $S_4$ can be expressed in the following way:  "
   ]
  },
  {
   "cell_type": "code",
   "execution_count": null,
   "metadata": {},
   "outputs": [],
   "source": [
    "n = sp.symbols('n')\n",
    "S4 = (-1/30 * n + 1/3 * n**3 + 1/2 * n**4 + 1/5 * n**5)\n",
    "show(S4)"
   ]
  },
  {
   "cell_type": "markdown",
   "metadata": {},
   "source": [
    "It won't quite work as cleanly as we found with odd powers, though it is possible to rewrite the even powers as a combination of $N$ and $n$. IN fact, we could write $S_4$ as: \n",
    "\n",
    "$$ S_4=\\left(\\frac {n+\\frac 12}{5}\\right) \\left (4N^2-\\frac {2}{3}N\\right ). $$"
   ]
  },
  {
   "cell_type": "markdown",
   "metadata": {},
   "source": [
    "Let's verify this. Substitute $N$ in the above equation: "
   ]
  },
  {
   "cell_type": "code",
   "execution_count": null,
   "metadata": {},
   "outputs": [],
   "source": [
    "N = (n * (n + 1)) / 2\n",
    "e4 = (((n + 1/2) / 5) * (4 * N**2 - 2/3 * N))\n",
    "e4"
   ]
  },
  {
   "cell_type": "markdown",
   "metadata": {},
   "source": [
    "And expand:"
   ]
  },
  {
   "cell_type": "code",
   "execution_count": null,
   "metadata": {},
   "outputs": [],
   "source": [
    "e4.expand()"
   ]
  },
  {
   "cell_type": "markdown",
   "metadata": {},
   "source": [
    "So we are back at $S_4$, and it looks like there some kind of relatinoship with $N$ and $n$ and $S^k$, and odd and even powers are somehow different. \n",
    "\n",
    "Now let's do somethign that probably appears arbitrary. We cill circle back soon as explain why we are making this move however. Let's just multiply $S_4$ by 5:"
   ]
  },
  {
   "cell_type": "code",
   "execution_count": null,
   "metadata": {},
   "outputs": [],
   "source": [
    "S4_mult5 = (5 * S4).expand()"
   ]
  },
  {
   "cell_type": "markdown",
   "metadata": {},
   "source": [
    "So what is this value that I have created? Well its certainly not one of Faulhaber's results. But let's compare $5S_4$ of $S_5$ for a moment: "
   ]
  },
  {
   "cell_type": "code",
   "execution_count": null,
   "metadata": {},
   "outputs": [],
   "source": [
    "show(S4_mult5)"
   ]
  },
  {
   "cell_type": "code",
   "execution_count": null,
   "metadata": {},
   "outputs": [],
   "source": [
    "show(S5)"
   ]
  },
  {
   "cell_type": "markdown",
   "metadata": {},
   "source": [
    "We can quickly seethat $5S_4 $ is equivalent to our usual understanding of the differentiaon of of $S_5$! Let's differentiate $S_5$ with Sympy usual way to discover what we mean: "
   ]
  },
  {
   "cell_type": "code",
   "execution_count": null,
   "metadata": {},
   "outputs": [],
   "source": [
    "show(sp.diff(S5))"
   ]
  },
  {
   "cell_type": "markdown",
   "metadata": {},
   "source": [
    "So I muliply $S_4$ by $5$ and get the derivative of $S_5$. What can we make of this?\n",
    "\n",
    "Also, we haven't even defined what a derivative is as yet. We are just noticing the this pattern which is so imporant to Fermat, Leibniz and Newton appears to turn up here. There is of course far more we need to do to unpack this. All we have done is undertake some observations and explorations. But somewhere here it appears that Faulhaber may have found a way to express the derivative of polynomial purely algebraically, at least in the context of Faulhaber polynomials. There is no notion of slope here, or and idea of limits, or some kind infinite process that we need to undertake to convert a secant line cutting through a polynomial graph to a tangent. The derivative in this case arises from a sequence of numbers we can trace back to the Pascal triangle."
   ]
  },
  {
   "cell_type": "markdown",
   "metadata": {},
   "source": [
    "<h4>Derivative and Integral</h4>"
   ]
  },
  {
   "cell_type": "markdown",
   "metadata": {},
   "source": [
    "So finally, we can start to define the derivative. Our previous observations more classical calculus suggest that this relationship between a polynomial and a derivative is nuanced. We shouldn't think of it as rate of change. It appears to arise in multiple settings and perhaps has multiple meanings depending on the context at hand. This is a pretty common thing in mathematics: the appearance of structures that often seem to have some kind utilitiy for a range of practical problems we face. It similiar to the idea of a determinant is similar, meaning lots of different things in different contexts. \n",
    "\n",
    "However, it is almost as if these things  itself in different ways with all kinds of unexpected utilities that we will be difficult to grasp, and we need to be careful that we don't assume that "
   ]
  },
  {
   "cell_type": "markdown",
   "metadata": {},
   "source": [
    "Let's now define the derivative. Notice that we are not proving something here. We are simply taking an idea\n",
    "\n",
    "We define the derivative, (denoted as $D(p)$) of the general polynomial: \n",
    "\n",
    "$$p(x)=a_0+a_1x+a_2 x^2+\\cdots +a_n x^n$$ \n",
    "\n",
    "to be the polynomial:\n",
    "\n",
    "$$D(p)(x) \\equiv a_1+2a_2 x+3a_3 x^2+\\cdots +n a_n x^{n-1},$$ \n",
    "\n",
    "Note that $D$ is defined as linear. This means that if $p$ and $q$ are polynomials then: \n",
    "\n",
    "$$ D(p+q)=D(p)+D(q) $$ \n",
    "\n",
    "Note also that for any rational number $c$: \n",
    "\n",
    "$$ D(cp)=cD(p)$$\n",
    "\n",
    "Let's create a formal definition: "
   ]
  },
  {
   "cell_type": "markdown",
   "metadata": {},
   "source": [
    "<div style=\"background:gray; color:white; padding: 10px\">\n",
    "\n",
    "<h4>Formal Definition4.4.3</h4>\n",
    "<i>Proposition:</i><br/> The derivative, denoted $D(p)$, of the polynomial $p(x)=a_0+a_1x+a_2 x^2+\\cdots +a_n x^n$ to be the polynomial can be defined as as: \n",
    "\n",
    "$$D(p)(x) \\equiv a_1+2a_2 x+3a_3 x^2+\\cdots +n a_n x^{n-1},$$ \n",
    "\n",
    "Furthermore, $D(p)$ is linear. For polyomials $p$ and $q$, it must the case that: \n",
    "\n",
    "$$ D(p+q)=D(p)+D(q) $$ \n",
    "\n",
    "and \n",
    "\n",
    "$$ D(cp)=cD(p).$$ for any number $c$ \n",
    "\n",
    "\n",
    "<br/><i>Related name:</i><br/> Linearity of the Derivative\n",
    "<br/><b>Step x:</b>Let $x$,be an integer\n",
    "<br/><b>Step x:</b> Let $p(x)$ be a polynomial in $x$ denoated as:\n",
    "$$a_0+a_1 x+ a_2 x^2+ \\cdots +a_n x^n$$\n",
    "<br/><b>Step x:</b>Let $q(x)$ be a polynomial:  \n",
    "$$b_0+b_1 x+ b_2 x^2+ \\cdots +b_n x^n$$\n",
    "<br/><b>Step x:</b> Define $$D(p)(x)= a_1+2a_2 x+3a_3 x^2+\\cdots +n a_n x^{n-1} \\\\D(q)(x)= b_1+2b_2 x+3b_3 x^2+\\cdots +n b_n x^{n-1}$$  <br/>\n",
    "<br/><b>Step x:</b> Through algebraic manipulation note that: \n",
    "    \n",
    "$$  D(p+q)(x)=D((a_0+b_0)+(a_1+b_1) x+ (a_2+b_2) x^2+ \\cdots +(a_n+b_n) x^n)\\\\=(a_1+b_1)+2(a_2+b_2) x+3(a_3+b_3) x^2+\\cdots +n (a_n+b_n) x^{n-1}\\\\=a_1+2a_2 x+3a_3 x^2+\\cdots +n a_n x^{n-1}+b_1+2b_2 x+3b_3 x^2+\\cdots +n b_n x^{n-1}\\\\=D(p)(x)+D(q)(x). $$\n",
    "<br/><b>Step x:</b> Through algegraic manipulation, note that  \n",
    "$$ D(cp)(x)=D(ca_0+ca_1 x+ ca_2 x^2+ \\cdots +ca_n x^n)\\\\=ca_1+2ca_2 x+3ca_3 x^2+\\cdots +n ca_n x^{n-1}\\\\=c(a_1+2a_2 x+3a_3 x^2+\\cdots +n a_n x^{n-1})=cD(p)(x), $$\n",
    "<br/><i>Ref. 1:</i> WHere $c_j$ are some rational numbers, which do not influlence the proof.\n",
    "\n",
    "\n",
    "</div>"
   ]
  },
  {
   "cell_type": "code",
   "execution_count": null,
   "metadata": {},
   "outputs": [],
   "source": [
    "# Create algebra for this: "
   ]
  },
  {
   "cell_type": "markdown",
   "metadata": {},
   "source": [
    "It's important to note that we applied a rule that appears to be THere are some subtle conventions in play here that we need to understand, how we speak about this derivative. In particular, there is a differnece beweent\n",
    "- $D(p)$: the polynomial without a specified variable\n",
    "- $D(p(x))$: we find $D(p)$ and then apply it to the variable $x$\n",
    "- $D(p)(x)$ is understood as the derivative of a palticular polynomial, applied to the variable x, so in $D(p(x))(x)$ we usually omit the last x in brackets.\n",
    "\n",
    "Let's see this in action and createa polynomial in $x$\n",
    "\n"
   ]
  },
  {
   "cell_type": "code",
   "execution_count": null,
   "metadata": {},
   "outputs": [],
   "source": [
    "p_x, x = sp.symbols('p_x, x')"
   ]
  },
  {
   "cell_type": "code",
   "execution_count": null,
   "metadata": {},
   "outputs": [],
   "source": [
    "e = sp.Eq(p_x, 5 + 4 * x - x**2)\n",
    "e"
   ]
  },
  {
   "cell_type": "markdown",
   "metadata": {},
   "source": [
    "We can think of this first as some Derivative function, $D(p)$ applied to a function in x"
   ]
  },
  {
   "cell_type": "code",
   "execution_count": null,
   "metadata": {},
   "outputs": [],
   "source": [
    "sp.diff(e.rhs, x)"
   ]
  },
  {
   "cell_type": "markdown",
   "metadata": {},
   "source": [
    "$D(p(2x+1))=D(5+4(2x+1)-(2x+1)^2)=D(8+4x-4x^2)=4-8x.$"
   ]
  },
  {
   "cell_type": "code",
   "execution_count": null,
   "metadata": {},
   "outputs": [],
   "source": [
    "# NEED TO DO INTEGRAL"
   ]
  }
 ],
 "metadata": {
  "kernelspec": {
   "display_name": "SageMath 9.0",
   "language": "sage",
   "name": "sagemath"
  },
  "language_info": {
   "codemirror_mode": {
    "name": "ipython",
    "version": 3
   },
   "file_extension": ".py",
   "mimetype": "text/x-python",
   "name": "python",
   "nbconvert_exporter": "python",
   "pygments_lexer": "ipython3",
   "version": "3.7.3"
  }
 },
 "nbformat": 4,
 "nbformat_minor": 4
}
