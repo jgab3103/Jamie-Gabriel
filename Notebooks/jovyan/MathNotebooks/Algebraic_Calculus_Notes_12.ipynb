{
 "cells": [
  {
   "cell_type": "code",
   "execution_count": 41,
   "metadata": {},
   "outputs": [],
   "source": [
    "import numpy as np\n",
    "import sympy as sp\n",
    "import shared_functions as sf\n",
    "from IPython.display import HTML\n",
    "import matplotlib.pyplot as plt\n",
    "import ipywidgets as widgets"
   ]
  },
  {
   "cell_type": "markdown",
   "metadata": {},
   "source": [
    "We hit a milestone in the last notebook, being able to have new way to understand summation. Specifically we arrived at this result: \n",
    "\n",
    "If $  S_k=S_k(n)=\\sum_{i=0}^n i^k $, then\n",
    "\n",
    "$$ \\left(\\begin{matrix} 1 & 0 & 0 & 0 \\\\ -1 & 2 & 0 & 0 \\\\ 1 & -3 & 3 & 0 \\\\ -1 & 4 & -6 & 4 \\end{matrix} \\right) \\left(\\begin{matrix} S_0 \\\\ S_1 \\\\ S_2 \\\\ S_3 \\end{matrix} \\right)=\\left(\\begin{matrix} n \\\\ n^2 \\\\ n^3 \\\\ n^4 \\end{matrix} \\right). $$\n",
    "\n",
    "\n",
    "It has taken us a while to get this result and you should be happy to get here. Many of the ideas around signed area are immeditely applicable and intuitive, what we have examined is perhaps far ore subtle. But with the introduction of summation. We have introduced a notino of summation. Even the idea of Telescoping series can appear strange Along the way, we have also extended our understanding into binomial theorem, Faulhaber, Bounoouli, and we are nuanced picture is starting to emerge.\n",
    "\n",
    "We are also getting more aquainted with the subtelties in this topic. Perhaps moreso than so many other topics in mathematics, Algebraic Calculus is really a nuanced reframing of differen tideas.  represents a subtle cross roads, this subject is is many ways a cross roads of different ideas becoming apparent is subtlely, and interationship to other parts of Math. While Linear Algebra, Brings us into some of the subtely of calculus so we can explore different aspects of mathematics from geometry, linear algebra, number patterns and theory, sequences. \n",
    "\n",
    "At the heart of this, we are challenging what our idea of mathematics structure is and how and how flexible it is, and makes this subject quite difficult. lets are challenging our concepts of number so to more complex structures to polynomicals and matrices.  Polynomials are commutative generalizations of numbers, while matrices are non-commutative generalizations.\n",
    "\n",
    "In this notebook, we are going to slow down a little to ensure we have our bearings new concepts. We are going to touch base with the classical algebra of polynomials, and ensure we have a deep unersnging of them. We are also going to revisit the ideas of how we can cosntruct them, and also solidify our use of linear Algebra. Idea that really embed these basic concepts, and give us a chance to catch up\n",
    "\n",
    "Soon enough things will start to speed up again will start to see more complex structures, vexels"
   ]
  },
  {
   "cell_type": "markdown",
   "metadata": {},
   "source": [
    "So let's start simply with polynomials. In the mathematics of precalculs we have seen these types of strcutures\n",
    "\n",
    "$$p(x)=a_0+a_1x+\\ldots+a_{n-1} x^{n-1}+a_n x^n $$"
   ]
  },
  {
   "cell_type": "markdown",
   "metadata": {},
   "source": [
    "The polynomial has a label $p(x)$. We call the values $a_0,a_1,\\ldots,a_n$ coeffiencients, just rational numbers. THe value $x$ is the unknown. The powers are here represented $n$\n",
    "\n",
    "From exposure to precalculus, and in foundational mathematics it is not hard to get a sesnse of how they work "
   ]
  },
  {
   "cell_type": "code",
   "execution_count": null,
   "metadata": {},
   "outputs": [],
   "source": []
  }
 ],
 "metadata": {
  "kernelspec": {
   "display_name": "SageMath 9.0",
   "language": "sage",
   "name": "sagemath"
  },
  "language_info": {
   "codemirror_mode": {
    "name": "ipython",
    "version": 3
   },
   "file_extension": ".py",
   "mimetype": "text/x-python",
   "name": "python",
   "nbconvert_exporter": "python",
   "pygments_lexer": "ipython3",
   "version": "3.7.3"
  }
 },
 "nbformat": 4,
 "nbformat_minor": 4
}
