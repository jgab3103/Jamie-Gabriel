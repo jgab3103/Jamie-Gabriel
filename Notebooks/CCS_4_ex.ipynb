{
 "cells": [
  {
   "cell_type": "code",
   "execution_count": 2,
   "id": "09d739b7-452b-440e-b856-8a6712d5a439",
   "metadata": {},
   "outputs": [],
   "source": [
    "# !pip install chempy\n",
    "# !pip install periodictable\n",
    "# !pip install PyAstronomy\n",
    "# !pip install molmass\n",
    "# !pip install rdkit\n",
    "# !pip install astropy\n",
    "# !pip install mendeleev\n",
    "\n",
    "\n",
    "import periodictable as pt\n",
    "import chempy as ch\n",
    "import numpy as np\n",
    "import sympy as sp\n",
    "import molmass as mm\n",
    "import pickle\n",
    "from IPython.display import HTML\n",
    "import ipywidgets as widgets\n",
    "import matplotlib as mpl\n",
    "import matplotlib.pyplot as plt\n",
    "from mpl_toolkits.mplot3d import Axes3D\n",
    "import matplotlib.pyplot as plt\n",
    "mpl.rcParams['legend.fontsize'] = 10\n",
    "import pandas as pd\n",
    "import itertools\n",
    "pd.set_option('display.max_colwidth', None)\n",
    "from sympy.plotting import plot \n",
    "from IPython.display import Image\n",
    "from PyAstronomy import pyasl\n",
    "import decimal\n",
    "import mendeleev as me\n",
    "\n",
    "from sympy.physics.units.systems import SI\n",
    "from rdkit import Chem\n",
    "from rdkit.Chem import Draw\n",
    "# from astropy import units as u\n",
    "import sympy.physics.units as u\n",
    "import scipy as scp\n",
    "\n",
    "from sympy.physics.units import speed_of_light, meter, gram, second, day, pound\n",
    "from sympy.physics.units import mile, newton, kilogram, atomic_mass_constant\n",
    "from sympy.physics.units import kilometer, centimeter, millimeter, nanometer\n",
    "from sympy.physics.units import gravitational_constant, hbar, kPa, newton\n",
    "from sympy.physics.units import convert_to\n",
    "\n",
    "def RTL(e):\n",
    "    \"\"\"INPUT PARAMS: [] of math expressions\"\"\"\n",
    "    latex_rendering = []\n",
    "\n",
    "    for i in range(len(e)):\n",
    "        latex_rendering.append(\"$\" + sp.latex(e[i]) + \"$ &nbsp;&nbsp;\")\n",
    "    \n",
    "    return(HTML(\"\".join(latex_rendering[0:])))\n",
    "\n",
    "def BalanceChemEquation(L, R):\n",
    "    \"\"\" INPUT PARAMS: 2 * {} containing react and prod\"\"\"\n",
    "    reac, prod = ch.balance_stoichiometry(L, R)\n",
    "    Reaction = ch.Reaction(reac, prod)\n",
    "    return([Reaction, [reac, prod]])\n",
    "    \n"
   ]
  },
  {
   "cell_type": "markdown",
   "id": "1b334058-2a74-4d58-8a37-9b1cebc80eb4",
   "metadata": {},
   "source": [
    "####  4.1 - 4.5\n",
    "\n",
    "These are visual questions. \n",
    "\n",
    "But note: \n",
    "\n",
    "- weak electrolyte is characterised by fewer ions form when molecultes\n",
    "- strong electrolyte is when all molecultes break up into ions when they dissolve\n",
    "\n",
    "Note that CH3COOH is a weak acid because it has a lower ion concentration and HBr is a strong acid, higher ion concentration"
   ]
  },
  {
   "cell_type": "markdown",
   "id": "09895607-e16d-4e15-b72e-1c35a4f0b1b6",
   "metadata": {},
   "source": [
    "##### 4.5\n",
    "\n",
    "You are presented with a white solid without a label. \n",
    "\n",
    "Maybe its barium chloride, lead chloride, or zinc chloride. \n",
    "\n",
    "When you put into water, the solid dissolves to give a clear solution. \n",
    "\n",
    "Next, a Na2SO4(aq) solution is added. A white precipitate forms. \n",
    "\n",
    "What is the identity of the unknown white solid?"
   ]
  },
  {
   "cell_type": "markdown",
   "id": "b5e07aa4-a25e-42e2-96c0-e337787adaca",
   "metadata": {},
   "source": [
    "##### Answer: \n",
    "\n",
    "To answer this, get each of the formulas of what has been given: \n",
    "- barium chloride\n",
    "- lead chloride\n",
    "- zinc chloride\n",
    "\n",
    "They are: \n",
    "- BaCl2\n",
    "- PbCl₂\n",
    "- ZnCl₂\n",
    "\n",
    "Note that these are ionic compounds. \n",
    "\n",
    "First, check if soluble in H20. From the solubility rules, note that PbCl2 is not soluble in water. \n",
    "\n",
    "This means after adding H20, it can only be: \n",
    "- BaCl2 \n",
    "- ZnCl2\n",
    "\n",
    "Now create a reaction with Sodium Sulphate (NaSO4). \n",
    "\n",
    "Again, check the solubility rules. Note that BaSO4 which forms from the reaction is insoluable and thus a precipitate\n",
    "\n",
    "This question is all about memorising standard things which are known about reactions"
   ]
  },
  {
   "cell_type": "markdown",
   "id": "2a98c3e1-e7b7-4545-a8df-a87691a3f8d5",
   "metadata": {},
   "source": [
    "##### 4.6\n",
    "Note that ions in aqueous solution are stabilized\n",
    "by the attractions between the ions and the water molecules.\n",
    "\n",
    "So then do some pairs of ions in solution form precipitates?\n"
   ]
  },
  {
   "cell_type": "markdown",
   "id": "4a60d1d6-1190-4e42-8c90-e6ad38ac34d7",
   "metadata": {},
   "source": [
    "##### Answer: \n",
    "\n",
    "Precipitation happens when pairs of oppositely charged ions attract each other so strongly that they form an insoluble ionic solid. They cannot be surounded and seperated. So - attraction outweighs stabilization offered by individual ions"
   ]
  },
  {
   "cell_type": "markdown",
   "id": "33684c36-d0dd-4435-ab53-8d061bf06093",
   "metadata": {},
   "source": [
    "#### 4.7\n",
    "\n",
    "Which of the following ions will always be a spectator ion in a\n",
    "precipitation reaction? \n",
    "\n",
    "(a) Cl [-], \n",
    "\n",
    "(b) NO3[-], \n",
    "\n",
    "(c) NH4[+] , \n",
    "\n",
    "(d) S2[-],\n",
    "\n",
    "(e)SO4[2-]"
   ]
  },
  {
   "cell_type": "markdown",
   "id": "fa1fb293-6564-4bb2-b186-e66a9ae09c4e",
   "metadata": {},
   "source": [
    "##### Answer: \n",
    "\n",
    "Note that if ions cannot form precipitates, they will always be spectator ions\n",
    "\n",
    "(a) Cl-: Can only form precipiates with Ag+, Hg+2, Pg+2\n",
    "\n",
    "(b) NO3- never forms precipitates, so is always a spectator ions\n",
    "\n",
    "(c) NH4+ never forms precipitates, so is always a spectator ion\n",
    "\n",
    "(d) S2 usually forms precipitates (exceptions are alkali metals, ammonium ion). So will not be a spectator ion \n",
    "\n",
    "(e) SO4+2 can form precipitates with Ba, Hg, Pb, Sr \n",
    "\n",
    "This question just requires you to know the solubility rules"
   ]
  },
  {
   "cell_type": "markdown",
   "id": "2e64a686-b105-44c9-a630-8ead4358e0f8",
   "metadata": {},
   "source": [
    "##### 4.8\n",
    "\n",
    "The labels have fallen off three bottles containing powdered\n",
    "samples of metals; one contains zinc, one lead, and the other\n",
    "platinum. You have three solutions at your disposal: 1 M\n",
    "sodium nitrate, 1 M nitric acid, and 1 M nickel nitrate. How\n",
    "could you use these solutions to determine the identities of\n",
    "each metal powder? "
   ]
  },
  {
   "cell_type": "markdown",
   "id": "328f9c42-5789-4279-af9e-84449b1e9c9c",
   "metadata": {},
   "source": [
    "##### Answer:\n",
    "\n",
    "To answer this, use the activity series of metals. Note that oxidation is a chemical reaction that takes place when a substance comes into contact with oxygen or another oxidizing substance (i.e. rust, cut apple)\n",
    "\n",
    "The activity table states that any metal on the list can be oxidised by the ions of elements below it. \n",
    "\n",
    "Get the formulas\n",
    "\n",
    "- Sodium Nitrate (NaNO3)\n",
    "- Nitric Acid (HNO3)\n",
    "- Nickel Nitrate (Ni(NO3)2)\n",
    "\n",
    "Note that the nitric acid will in an aquues solution will disolve Zn and Pg which appear above\n",
    "\n",
    "Nitric acid will not disolve platinum. \n",
    "\n",
    "So now we we know if it is either platinum, or (Zinc or Lead)\n",
    "\n",
    "To find if Zinc or Lead, note twe have Nickel nitrate. This will dissolve iron but not lead. \n",
    "\n",
    "So we thus know which is which. \n",
    "\n",
    "This question is just about memorising the Activity series, and which ions will be formed in aqueous solution by a metal, and how these ions will then dissolve metals higher in the list\n"
   ]
  },
  {
   "cell_type": "markdown",
   "id": "1766be4c-84f4-4dd5-b246-92088f1e6483",
   "metadata": {},
   "source": [
    "#### 4.9\n",
    "\n",
    "Explain how a redox reaction involves electrons in the same\n",
    "way that a neutralization reaction involves protons."
   ]
  },
  {
   "cell_type": "markdown",
   "id": "231cc28d-6003-4004-8adc-032a30e965c0",
   "metadata": {},
   "source": [
    "##### Answer: \n",
    "\n",
    "In an redox reactin, one reactant loses electrons, another gains electrons. \n",
    "\n",
    "Electrons get transferred between reactants\n",
    "\n",
    "Note that acids are reactants that ionise in aqeous solution to produce/donate H+ ions. Bases are substances that react with or accept H+ ions\n",
    "\n",
    "Redox reactions are characterised by tracking electron transfer using oxidisatin nubmers\n",
    "\n",
    "Acid-base reactins are charactersied by tracking H+ proton transfer via molecular formulas\n",
    "\n",
    "Nothing difficult here, but you should know how to calculate oxidation numbers"
   ]
  },
  {
   "cell_type": "markdown",
   "id": "347b7618-9e4e-4dea-abc4-2daa038e08d2",
   "metadata": {},
   "source": [
    "##### 4.10\n",
    "\n",
    "If you want to double the concentration of a solution, how\n",
    "could you do it? "
   ]
  },
  {
   "cell_type": "markdown",
   "id": "2584df18-c7aa-4896-a495-4e442f5b4bea",
   "metadata": {},
   "source": [
    "##### Answer: \n",
    "\n",
    "Nothing fancy to answer there. \n",
    "\n",
    "Concentration is ratio of solute to solution\n",
    "\n",
    "Double the amount of solute but keep volume the same will do it. "
   ]
  },
  {
   "cell_type": "markdown",
   "id": "a63dc8e7-5b48-4a90-96fe-d3f8f54edf83",
   "metadata": {},
   "source": [
    "##### 4.11\n",
    "\n",
    "What causes electrolyte solutions to conduct electricity?"
   ]
  },
  {
   "cell_type": "markdown",
   "id": "b5b07701-bfff-46bc-bd2b-c94328a39f5d",
   "metadata": {},
   "source": [
    "##### Answer: \n",
    "\n",
    "Electricity is condcuted because dissolved ions carry charge through solution, from one electrode to the other"
   ]
  },
  {
   "cell_type": "markdown",
   "id": "7e703d91-27a3-4349-8973-da7c0354fca5",
   "metadata": {},
   "source": [
    "##### 4.12\n",
    "\n",
    "If CH3OH, is dissolved in water -> nonconducting solution results. \n",
    "\n",
    "If acetic acid CH3COOH, dissolves in water - the solution is weakly conducting and acidic. \n",
    "\n",
    "Explain the difference. "
   ]
  },
  {
   "cell_type": "markdown",
   "id": "62e8c312-42eb-4889-99f7-e04c6b48ac70",
   "metadata": {},
   "source": [
    "#####  Answer: \n",
    "\n",
    "This means that CH3OH molecules are dispersed in solution and don't break up\n",
    "\n",
    "In the case of CH3OOH, mostly neutral are dispersed, but get some H+ ions which will end up carring some charge. \n",
    "\n",
    "Note this question just asks for the meaning of non conducting vs. weakly conducting"
   ]
  },
  {
   "cell_type": "markdown",
   "id": "326ce173-eb9e-4df7-978a-cb31d59920f8",
   "metadata": {},
   "source": [
    "##### 4.13\n",
    "\n",
    "Note that many ionic solids dissolve in water as strong electrolytes\n",
    "\n",
    "What properties of water facilitate this process? \n",
    "\n",
    "Would you expect them to be soluble in elemental liquids\n",
    "like bromine or mercury?"
   ]
  },
  {
   "cell_type": "markdown",
   "id": "5aac8a13-d6c4-4f57-9c37-218fae5d5580",
   "metadata": {},
   "source": [
    "##### Answer: \n",
    "\n",
    "Note that H2O molecules have polarity even though they are neautral \n",
    "\n",
    "More electrons near O, less near H\n",
    "\n",
    "Thus both cations and ions in ionic solids tend to be surrounded and seperated by H2O molecules. \n",
    "\n",
    "So water pulls them apart. \n",
    "\n",
    "In Hg and Br, this doesn't happen - no attractive forces to stablise the seperated ions"
   ]
  },
  {
   "cell_type": "markdown",
   "id": "201258e8-7369-4f46-9d71-3debff93c753",
   "metadata": {},
   "source": [
    "##### 4.14\n",
    "\n",
    "What does it mean to say that ions are solvated when an ionic\n",
    "substance dissolves in water?"
   ]
  },
  {
   "cell_type": "markdown",
   "id": "b2673da2-7815-419d-8f48-05a4951727d2",
   "metadata": {},
   "source": [
    "##### Answer: \n",
    "\n"
   ]
  },
  {
   "cell_type": "markdown",
   "id": "22cd1e86-6e14-4ee5-aa0c-8df7d97e9915",
   "metadata": {},
   "source": [
    "It means that they have been surrounded by H2O molecules (or more generally, solvent molecules)"
   ]
  },
  {
   "cell_type": "markdown",
   "id": "453b43f7-50ab-4aee-a826-958a37a0932a",
   "metadata": {},
   "source": [
    "##### 4.15\n",
    "\n",
    "Specify what ions are present in solution upon dissolving each\n",
    "of the following substances in water: \n",
    "\n",
    "(a) ZnCl2, \n",
    "\n",
    "(b) HNO3,\n",
    "\n",
    "(c) (NH4)2SO4, \n",
    "\n",
    "(d) Ca(OH)2."
   ]
  },
  {
   "cell_type": "markdown",
   "id": "779104bf-d065-42d6-9a8d-d105cfb19f81",
   "metadata": {},
   "source": [
    "##### Answer: \n",
    "\n",
    "Just asking for ions here. Note you want to add charges, and charges should add to 0. Because it is comeing from a neutral molecule (I think!)\n",
    "\n",
    "(a) ZnCl2 -> Zn+2 + 2Cl-1 \n",
    "\n",
    "(b) HNO3 -> H+1 + NO3-1\n",
    "\n",
    "(c) (NH4)2SO4 ->  2(NH4)+1   + 2SO4-2\n",
    "\n",
    "(d) Ca(OH)2 ->    Ca+2  2(OH)-1\n",
    "\n",
    "Note some are polyatomic ions that you need to memorise, others, like Ca, are just elements that want to ionise"
   ]
  },
  {
   "cell_type": "markdown",
   "id": "5e049c2f-3e12-45ed-bb48-55ca17be58fa",
   "metadata": {},
   "source": [
    "##### 4.16\n",
    "\n",
    "Specify what ions are present upon dissolving each of the following substances in water: \n",
    "\n",
    "(a) MgI2, \n",
    "\n",
    "(b) Al(NO3)3,\n",
    "\n",
    "(c) HClO4, \n",
    "\n",
    "(d) NaCH3COO."
   ]
  },
  {
   "cell_type": "markdown",
   "id": "6ed5a3ca-4d6f-4b07-bddc-9aa0055b274e",
   "metadata": {},
   "source": [
    "##### Answer: \n",
    "\n",
    "(a) MgI2 -> Mg+2 + 2I2-1\n",
    "\n",
    "(b) Al(NO3)3 -> Al+3 + (NO3)3-1\n",
    "\n",
    "(c) HClO4 -> H+1 + ClO4-1\n",
    "\n",
    "(d) NaCH3COO -> Na+1 + CH3OO-1\n",
    "\n",
    "Don't forget, when ions arise from being dissolved, they still need to have come from a compound that is overall neutral. "
   ]
  },
  {
   "cell_type": "markdown",
   "id": "61f69676-b40d-4f76-a9e2-6b8b0746208b",
   "metadata": {},
   "source": [
    "##### 4.17 \n",
    "\n",
    "Formic acid, HCOOH, is a weak electrolyte.\n",
    "\n",
    "What solute particles are present in an aqueous solution of this compound?\n",
    "\n",
    "\n",
    "What is chemical equation for the ionization of HCOOH."
   ]
  },
  {
   "cell_type": "markdown",
   "id": "1a2e34c5-4aa7-4081-b57d-c067aaa5d55b",
   "metadata": {},
   "source": [
    "##### Answer: \n",
    "\n",
    "The solute particles are what we find when the mixture has happened. \n",
    "\n",
    "It is a weak electrolyte, so the particles will be: \n",
    "\n",
    "- Some neutral HCOOH\n",
    "- Some H+ cations\n",
    "- Some HCOO- anions (Formate)\n",
    "\n",
    "The chemical equation is: \n",
    "\n",
    "HCOOH -> H+ + HCOO-\n"
   ]
  },
  {
   "cell_type": "markdown",
   "id": "e38229d0-95f3-4cd3-ba4f-5f1011bfd318",
   "metadata": {},
   "source": [
    "##### 4.18\n",
    "\n",
    "Acetone, CH3COCH3, is a nonelectrolyte hypochlorous acid.\n",
    "\n",
    "HClO, is a weak electrolyte, \n",
    "\n",
    "Ammonium chloride, NH4Cl is a strong electrolyte. \n",
    "\n",
    "(a) What are the solute particles present in aqueous solutions of each compound? \n",
    "\n",
    "(b) If 0.1 mol of each compound is dissolved in solution, which one contains\n",
    "0.2 mol of solute particles, which contains 0.1 mol of solute\n",
    "particles, and which contains somewhere between 0.1 and\n",
    "0.2 mol of solute particles?"
   ]
  },
  {
   "cell_type": "markdown",
   "id": "8f4d8e82-0e55-4e4e-a075-a4af2f55a328",
   "metadata": {},
   "source": [
    "##### Answer: \n",
    "\n",
    "\n",
    "(a) CH3COCH3 -> CH3COCH3 (Note that it on't break up)\n",
    "\n",
    " HCLO -> HCLO + H+ CLO-  \n",
    "\n",
    " NH4Cl -> NH4+ + Cl-\n",
    "\n",
    "Note this just comes down to knowing standard polyatomic ions and thier charges\n",
    "\n",
    "(b) .1 mol of CH3COCH3 -> .1 mol of solute particles\n",
    "\n",
    ".1 mol of HCLO -> between .1 and .2 mols of solute particles\n",
    "\n",
    ".1 mol of NH4Cl -> .2 mols of solute particles\n",
    "\n",
    "Note that .1 mol of a strong electrolyte will break the ionic compound, and end up as 1 mol of NH4 ion and 1 mol of Cl"
   ]
  },
  {
   "cell_type": "markdown",
   "id": "03c9ca36-2d07-4fa3-9048-e0c23f1d5c2f",
   "metadata": {},
   "source": [
    "##### 4.19\n",
    "\n",
    "Predict whether the following compounds are soluble or insoluble in water: \n",
    "\n",
    "(a) MgBr2,\n",
    "\n",
    "(b) PbI2, \n",
    "\n",
    "(c) (NH4)2CO3, \n",
    "\n",
    "(d) Sr(OH)2, \n",
    "\n",
    "(e) ZnSO4.\n"
   ]
  },
  {
   "cell_type": "markdown",
   "id": "6a704116-dde8-4a33-a20e-50252d49a6e0",
   "metadata": {},
   "source": [
    "##### Answer: \n",
    "\n",
    "(a) MgBr2 -> Soluable\n",
    "\n",
    "(b) PbI2 -> Not soluble\n",
    "\n",
    "(c) (NH4)2CO3 -> Soluble, Ammonium compounds are soluable\n",
    "\n",
    "d) Sr(OH)2 -> Soluble\n",
    "\n",
    "(e) ZnSO4 -> Soluble\n",
    "\n",
    "\n",
    "Note there are standard rules of solubility to consider, but also to consider is just how elements ionise. So MgBr2 -> Mg+2 + Br2-1 is soluble"
   ]
  },
  {
   "cell_type": "markdown",
   "id": "361fe419-ec38-4a76-8185-45a23fdad8d1",
   "metadata": {},
   "source": [
    "##### 4.20\n",
    "\n",
    "Predict whether each of the following compounds is soluble\n",
    "in water: \n",
    "\n",
    "(a) AgI, \n",
    "\n",
    "(b) Na2CO3, \n",
    "\n",
    "(c) BaCl2, \n",
    "\n",
    "(d) Al(OH)3,\n",
    "\n",
    "(e) Zn(CH3COO)2."
   ]
  },
  {
   "cell_type": "markdown",
   "id": "a8e746d0-85f6-4412-b8f6-f46f3139b6e6",
   "metadata": {},
   "source": [
    "##### Answer: \n",
    "\n",
    "(a) AgI - not soluble\n",
    "\n",
    "(b) Na2CO3 - soluble. This is an exception, usually insoluble but has an alkaline metal\n",
    "\n",
    "(c) BaCl2 - this is soluble, based on its ionisation in aqueous solution\n",
    "\n",
    "(d) Al(OH)3 Not soluble\n",
    "\n",
    "(e) Zn(CH3COO)2. Soluble\n",
    "\n",
    "Note that last example not completely clear. Why does Zinc ionise with this \n",
    "polyatomic ion?"
   ]
  },
  {
   "cell_type": "markdown",
   "id": "fefdbc71-b6d0-4f73-91b1-875c0f4dc4c2",
   "metadata": {},
   "source": [
    "##### 4.21\n",
    "\n",
    "Will precipitation occur when the following solutions are\n",
    "mixed? If so, write a balanced chemical equation for the reaction. \n",
    "\n",
    "(a) Na2CO3 and AgNO3, \n",
    "\n",
    "(b) NaNO3 and NiSO4,\n",
    "\n",
    "(c) FeSO4 and Pb(NO3)2.\n"
   ]
  },
  {
   "cell_type": "markdown",
   "id": "b3fed185-c22a-4260-842c-05506d95f7e8",
   "metadata": {},
   "source": [
    "#### Answer: \n",
    "\n",
    "Note this relates to when Cations and anions appear change partners in reaction\n",
    "\n",
    "Strategy is to find Balanced equation first, then figure out if precipitate base don properties. Use exchange reaction strategy\n",
    "\n",
    "First, find out what ions the reactants contain\n",
    "\n",
    "- Na2+1CO3-2 + AgNO3-1\n",
    "\n",
    "Now do an exchange reaction and note that on exchange, the ions my equal eachother\n",
    "\n",
    "- Na2+1CO3-2 + AgNO3-1 -> 2NaNO3 + Ag2CO3\n",
    "\n"
   ]
  },
  {
   "cell_type": "code",
   "execution_count": 7,
   "id": "73f6efbb-66b3-446b-9781-aa2cd409988c",
   "metadata": {},
   "outputs": [
    {
     "data": {
      "text/html": [
       "2 AgNO3 + Na2CO3 &rarr; Ag2CO3 + 2 NaNO3"
      ],
      "text/plain": [
       "<chempy.chemistry.Reaction at 0x7f97a8bdfe80>"
      ]
     },
     "execution_count": 7,
     "metadata": {},
     "output_type": "execute_result"
    }
   ],
   "source": [
    "# check the Balanced equation\n",
    "\n",
    "BalanceChemEquation({\"Na2CO3\", \"AgNO3\"}, {\"NaNO3\", \"Ag2CO3\" })[0]"
   ]
  },
  {
   "cell_type": "markdown",
   "id": "3c7410b1-b58c-43ba-8179-368dd5c74593",
   "metadata": {},
   "source": [
    "Now check which of the products is the precipitate. Sodium Nitrate is soluble. AgCO3 is insoluble"
   ]
  },
  {
   "cell_type": "markdown",
   "id": "125b31b9-69c1-4deb-8e80-c909fece8188",
   "metadata": {},
   "source": [
    "(b) NaNO3 and NiSO4\n",
    "\n",
    "Find the ions of each \n",
    "\n",
    "- Na+1\n",
    "- NO3-1\n",
    "- Ni+1 - note that this comes from a balanced ionic compound, so you can find the ionisation even though it is not specified on the periodic table\n",
    "- SO4-2\n",
    "\n",
    "Now undertake an exchange reaction and balance ions\n",
    "\n",
    "NaNO3 + NiSO4 -> Na2SO4 + Ni(NO3)2\n",
    "\n",
    "Check the balanced equation"
   ]
  },
  {
   "cell_type": "code",
   "execution_count": 8,
   "id": "a347e1bd-a001-4f33-9edd-f679f93478e5",
   "metadata": {},
   "outputs": [
    {
     "data": {
      "text/html": [
       "2 NaNO3 + NiSO4 &rarr; Na2SO4 + Ni(NO3)2"
      ],
      "text/plain": [
       "<chempy.chemistry.Reaction at 0x7f97a2338880>"
      ]
     },
     "execution_count": 8,
     "metadata": {},
     "output_type": "execute_result"
    }
   ],
   "source": [
    "BalanceChemEquation({\"NaNO3\", \"NiSO4\"}, {\"Na2SO4\", \"Ni(NO3)2\"})[0]"
   ]
  },
  {
   "cell_type": "markdown",
   "id": "02b0a48f-83df-4e1c-ba44-9fb7f029d77d",
   "metadata": {},
   "source": [
    "Note that balancing of the equation is a seperate issues ot ionisation of each compound\n",
    "\n",
    "Both products are soluble\n",
    "\n",
    "(c) FeSO4 and Pb(NO3)2\n",
    "\n",
    "Start by understanding the ionization of the ionic compounds\n",
    "\n",
    "- Fe+2\n",
    "- SO4-2\n",
    "- Pb+2\n",
    "- NO3(2)-1\n",
    "\n",
    "FeSO4 and Pb(NO3)2 -> Fe(NO3)2 + PbSO4\n",
    "\n",
    "Validate the equation"
   ]
  },
  {
   "cell_type": "code",
   "execution_count": 9,
   "id": "b85695c8-af2f-4cb6-add8-407d9a2b2a1a",
   "metadata": {},
   "outputs": [
    {
     "data": {
      "text/html": [
       "FeSO4 + Pb(NO3)2 &rarr; Fe(NO3)2 + PbSO4"
      ],
      "text/plain": [
       "<chempy.chemistry.Reaction at 0x7f97a24b2eb0>"
      ]
     },
     "execution_count": 9,
     "metadata": {},
     "output_type": "execute_result"
    }
   ],
   "source": [
    "BalanceChemEquation({\"FeSO4\", \"Pb(NO3)2\"}, {\"Fe(NO3)2\", \"PbSO4\"})[0]"
   ]
  },
  {
   "cell_type": "markdown",
   "id": "798e6abd-15f4-4c58-a444-a9d2f5378045",
   "metadata": {},
   "source": [
    "Now check which products are soluable using the rules\n",
    "\n",
    "PbSO4 is an exeption, and is insoluble\n",
    "\n",
    "Fe(NO3)2 is soluble as all Nitrates are soluble"
   ]
  },
  {
   "cell_type": "markdown",
   "id": "83d5d5c5-d47d-4109-8f41-5d8ca03e43fd",
   "metadata": {},
   "source": [
    "##### 4.22\n",
    "\n",
    "Identify the precipitate (if any) that forms when the following\n",
    "solutions are mixed, and write a balanced equation for each\n",
    "reaction. \n",
    "\n",
    "(a) NaCH3COO and HCl, \n",
    "\n",
    "(b) KOH and Cu(NO3)2,\n",
    "\n",
    "(c) Na2S and CdSO4.\n"
   ]
  },
  {
   "cell_type": "markdown",
   "id": "23d3087d-3426-477d-9fbd-793b84e4fec8",
   "metadata": {},
   "source": [
    "(a) NaCH3COO and HCl,\n",
    "\n",
    "Start be identifying the ionisations\n",
    "\n",
    "- Na +1\n",
    "- CH3COO or C2H3O2 -1\n",
    "- H +1\n",
    "- Cl-1\n",
    "\n",
    "Now undertake the exange reaction making sure ionisation is still balanced\n",
    "\n",
    "NaCH3COO + HCl -> NaCl + H4C2O2\n",
    "\n",
    "Now validate the reaction"
   ]
  },
  {
   "cell_type": "code",
   "execution_count": 11,
   "id": "0b754ec5-c40c-43cd-b639-f9726b65e72b",
   "metadata": {},
   "outputs": [
    {
     "data": {
      "text/html": [
       "HCl + NaCH3COO &rarr; HCH3COO + NaCl"
      ],
      "text/plain": [
       "<chempy.chemistry.Reaction at 0x7f97a28dd310>"
      ]
     },
     "execution_count": 11,
     "metadata": {},
     "output_type": "execute_result"
    }
   ],
   "source": [
    "BalanceChemEquation({\"NaCH3COO\", \"HCl\"}, {\"NaCl\", \"HCH3COO\"})[0]"
   ]
  },
  {
   "cell_type": "markdown",
   "id": "94e357e8-80a1-4517-8091-2d8e7d7566be",
   "metadata": {},
   "source": [
    "Now check if any precipitates have been formed\n",
    "\n",
    "Note that NaCl is not a precipitate\n",
    "Note that CH3COOH is not a precipitate\n",
    "\n",
    "(b) KOH and Cu(NO3)2\n",
    "\n",
    "Find the charges on the ionic compounds\n",
    "\n",
    "- K+1\n",
    "- OH-1\n",
    "- Cu+2\n",
    "- (NO3)2-1\n",
    "\n",
    "Now undertake the rreaction\n",
    "\n",
    "KOH + Cu(NO3)2 -> 2K(NO3) + Cu(OH)2\n",
    "\n",
    "Note this solves the ions problem but it is an unbalanced equation. Fix this\n"
   ]
  },
  {
   "cell_type": "code",
   "execution_count": 13,
   "id": "74b703a3-9d2e-42b5-857d-4cd32cecce41",
   "metadata": {},
   "outputs": [
    {
     "data": {
      "text/html": [
       "Cu(NO3)2 + 2 KOH &rarr; Cu(OH)2 + 2 K(NO3)"
      ],
      "text/plain": [
       "<chempy.chemistry.Reaction at 0x7f97a24cb2e0>"
      ]
     },
     "execution_count": 13,
     "metadata": {},
     "output_type": "execute_result"
    }
   ],
   "source": [
    "BalanceChemEquation({\"KOH\", \"Cu(NO3)2\"}, {\"K(NO3)\", \"Cu(OH)2\"})[0]"
   ]
  },
  {
   "cell_type": "markdown",
   "id": "299b3d3b-55b4-46e0-a574-3e192a9a1953",
   "metadata": {},
   "source": [
    "Now check if any of the products are precipitates\n",
    "\n",
    "Cu(OH)2 is insoluble\n",
    "\n",
    "2K(NO3) is soluble"
   ]
  },
  {
   "cell_type": "markdown",
   "id": "27faaf4c-716a-41e7-8889-55af4a49dd15",
   "metadata": {},
   "source": [
    "(c) Na2S and CdSO4.\n",
    "\n",
    "Find the ionisation charges from the compound\n",
    "\n",
    "-Na2+1\n",
    "-S-1\n",
    "-Cd+2\n",
    "-SO4-2\n",
    "\n",
    "Now create an exchange reaction where ions remain balanced\n",
    "\n",
    "Na2S + CdSO4 -> Na2O4 + S2Cd\n",
    "\n",
    "And check equation is balanced"
   ]
  },
  {
   "cell_type": "code",
   "execution_count": 14,
   "id": "438f83ac-af45-4636-be82-1ece7ee9b6c6",
   "metadata": {},
   "outputs": [
    {
     "data": {
      "text/html": [
       "CdSO4 + Na2S &rarr; Na2O4 + S2Cd"
      ],
      "text/plain": [
       "<chempy.chemistry.Reaction at 0x7f97a25f2b80>"
      ]
     },
     "execution_count": 14,
     "metadata": {},
     "output_type": "execute_result"
    }
   ],
   "source": [
    "BalanceChemEquation({\"Na2S\", \"CdSO4\"}, {\"Na2O4\", \"S2Cd\"})[0]"
   ]
  },
  {
   "cell_type": "markdown",
   "id": "9767b25f-312f-4166-ac53-54192948a8b0",
   "metadata": {},
   "source": [
    "Note there is no change. It is balanced. Now find if there are precipitates\n",
    "\n",
    "Na2O4 is from alkali metal froup so is soluble\n",
    "\n",
    "S2Cd is not soluble"
   ]
  },
  {
   "cell_type": "markdown",
   "id": "2a823620-cedc-47d0-8a9e-01caac524e86",
   "metadata": {},
   "source": [
    "##### 4.22\n",
    "\n",
    "Identify the precipitate that forms and write a balanced equation for each\n",
    "reaction. \n",
    "\n",
    "(a) NaCH3COO and HCl, \n",
    "\n",
    "(b) KOH and Cu(NO3)2,\n",
    "\n",
    "\n",
    "(c) Na2S and CdSO4."
   ]
  },
  {
   "cell_type": "markdown",
   "id": "afd8882c-1e71-49fb-9fc4-6357c872b2a8",
   "metadata": {},
   "source": [
    "##### Answer \n",
    "\n",
    "(a) NaCH3COO and HCl\n",
    "\n",
    "Find the charges of the ionic compounds\n",
    "\n",
    "- Na+1\n",
    "- C2H3O2-1\n",
    "- H+1\n",
    "- Cl-1\n",
    "\n",
    "Undertake an exchange reaction\n",
    "\n",
    "NaCH3COO + HCl -> NaCl + HCH3COO\n",
    "\n",
    "No further balancing is needed\n",
    "\n",
    "Note that NaCl is soluble\n",
    "\n",
    "Note that HCH3COO is soluble\n"
   ]
  },
  {
   "cell_type": "markdown",
   "id": "2b6a0dd1-fee0-4e69-855d-5d58aaa0a307",
   "metadata": {},
   "source": [
    "(b) KOH and Cu(NO3)2\n",
    "\n",
    "Find the charges of the ionic compounds\n",
    "\n",
    "- K+1\n",
    "- OH-1\n",
    "- Cu+2\n",
    "- (NO3)2-1\n",
    "\n",
    "Now balance in the ions\n",
    "\n",
    "KOH + Cu(NO3)2 -> 2K(NO3) + Cu(OH)2\n",
    "\n",
    "Note that equation is not balanced after ion transfer. Balance it\n"
   ]
  },
  {
   "cell_type": "code",
   "execution_count": 15,
   "id": "46453f7a-18f2-410e-b467-f0e743ae9310",
   "metadata": {},
   "outputs": [
    {
     "data": {
      "text/html": [
       "Cu(NO3)2 + 2 KOH &rarr; Cu(OH)2 + 2 K(NO3)"
      ],
      "text/plain": [
       "<chempy.chemistry.Reaction at 0x7f97a28a3b50>"
      ]
     },
     "execution_count": 15,
     "metadata": {},
     "output_type": "execute_result"
    }
   ],
   "source": [
    "BalanceChemEquation({\"KOH\", \"Cu(NO3)2\"}, {\"K(NO3)\", \"Cu(OH)2\"})[0]"
   ]
  },
  {
   "cell_type": "markdown",
   "id": "0eceb4c9-82f4-4582-87b8-2ac7e2b473fc",
   "metadata": {},
   "source": [
    "Now check if any precipitates\n",
    "\n",
    "Cu(OH)2 is insoluble, as most hydroxides are insoluble, including this one"
   ]
  },
  {
   "cell_type": "markdown",
   "id": "5df8970b-1e0d-49a2-8684-e9aabc82659f",
   "metadata": {},
   "source": [
    "##### 4.23\n",
    "\n",
    "Name the spectator ions in any reactions that may be involved with these reactions.\n",
    "\n",
    "(a) Na2CO3(aq) and MgSO4(aq)\n",
    "\n",
    "(b) Pb(NO3)2(aq) and Na2S(aq)\n",
    "\n",
    "(c) (NH4)3PO4(aq) and CaCl2(aq)"
   ]
  },
  {
   "cell_type": "markdown",
   "id": "e9973f54-a44b-4776-9002-6af72c3e9061",
   "metadata": {},
   "source": [
    "##### Answer\n",
    "\n",
    "(a) Na2CO3(aq) and MgSO4(aq)\n",
    "\n",
    "Find the ionisatinos of these compounds first \n",
    "\n",
    "- Na2+1\n",
    "- CO3-2\n",
    "- Mg+2\n",
    "- SO4-2\n",
    "\n",
    "Undertake the exchange reaction\n",
    "\n",
    "Na2CO3 + MgSO4 -> Na2SO4 + MgCO3\n",
    "\n",
    "Ionisations line up. Check equation balances"
   ]
  },
  {
   "cell_type": "code",
   "execution_count": 24,
   "id": "44ce0af6-d364-4a6b-b0b6-d1af844466e7",
   "metadata": {},
   "outputs": [
    {
     "data": {
      "text/html": [
       "MgSO4 + Na2CO3 &rarr; MgCO3 + Na2SO4"
      ],
      "text/plain": [
       "<chempy.chemistry.Reaction at 0x7f97a28b4d90>"
      ]
     },
     "execution_count": 24,
     "metadata": {},
     "output_type": "execute_result"
    }
   ],
   "source": [
    "BalanceChemEquation({\"Na2CO3\", \"MgSO4\"}, {\"Na2SO4\", \"MgCO3\"})[0]"
   ]
  },
  {
   "cell_type": "markdown",
   "id": "42fd0f13-d0a9-48b8-b588-e5a7cd1e2c4c",
   "metadata": {},
   "source": [
    "Now break up into a net ionic equation to get specator \n",
    "\n",
    "To do this, make sure know the state using solubility rules \n",
    "\n",
    "MgSO4(aq) + Na2CO3(aq) → MgCO3(s) + Na2SO4(s)\n",
    "\n",
    "Then break up aq into ions with charges\n",
    "\n",
    "Mg+2 + SO4-2 + Na2+1 + CO3-2 → MgCO3 + Na2+1 + SO4-2\n",
    "\n",
    "And find any spectator ions\n",
    "\n",
    "Mg+2 + SO4-2 + Na2+1 + CO3-2 → MgCO3 + Na2+1 + SO4-2\n",
    "\n",
    "They are Na2+1 and SO4-2"
   ]
  },
  {
   "cell_type": "markdown",
   "id": "e61b1e2d-87df-42fb-bbb3-0361990bee13",
   "metadata": {},
   "source": [
    "Pb(NO3)2(aq) and Na2S(aq)"
   ]
  }
 ],
 "metadata": {
  "kernelspec": {
   "display_name": "Python 3",
   "language": "python",
   "name": "python3"
  },
  "language_info": {
   "codemirror_mode": {
    "name": "ipython",
    "version": 3
   },
   "file_extension": ".py",
   "mimetype": "text/x-python",
   "name": "python",
   "nbconvert_exporter": "python",
   "pygments_lexer": "ipython3",
   "version": "3.9.2"
  }
 },
 "nbformat": 4,
 "nbformat_minor": 5
}
