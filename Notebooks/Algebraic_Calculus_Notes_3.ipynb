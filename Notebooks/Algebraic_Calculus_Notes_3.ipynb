{
 "cells": [
  {
   "cell_type": "code",
   "execution_count": 1,
   "metadata": {},
   "outputs": [],
   "source": [
    "import numpy as np\n",
    "import shared_functions as sf\n",
    "import sympy as sp\n",
    "from IPython.display import HTML\n",
    "import matplotlib.pyplot as plt"
   ]
  },
  {
   "cell_type": "markdown",
   "metadata": {},
   "source": [
    "In the last notebook we left off by examining by what happens if we take 3 fixed points on a parabola, and how to choose an a value for the 4th point that would maximise the area. Along the way we also came up with some formulas derived from Meister for polygons whose vertices were on curves. Let's start by including the handy functions we have at our disposal so far: "
   ]
  },
  {
   "cell_type": "code",
   "execution_count": 2,
   "metadata": {},
   "outputs": [],
   "source": [
    "def compute_cross_product_from_two_points(points_list):\n",
    "    c = points_list[0][0] * points_list[1][1] - points_list[0][1] * points_list[1][0]\n",
    "    return(c)\n",
    "\n",
    "def compute_signed_area_of_triangle_from_two_points(points_list):\n",
    "    c = compute_cross_product_from_two_points(points_list)\n",
    "    signed_area = c / 2\n",
    "    return(signed_area)\n",
    "\n",
    "def compute_signed_area_using_meisters_formula(points_list):\n",
    "\n",
    "    total_signed_area = 0\n",
    "    for each_point in range(len(points_list) - 1):\n",
    "        signed_area = compute_signed_area_of_triangle_from_two_points([points_list[each_point], points_list[each_point + 1]])\n",
    "        total_signed_area = total_signed_area + signed_area\n",
    "\n",
    "    final_signed_area = compute_signed_area_of_triangle_from_two_points([points_list[-1], points_list[0]])\n",
    "    total_signed_area = total_signed_area + final_signed_area\n",
    "\n",
    "    return(total_signed_area)\n",
    "\n",
    "def compute_using_meister_with_parabola_paramatisation(a, b, c, d):\n",
    "    return (((d - b) * (c - a)* (d - a + b - c)) / 2)\n"
   ]
  },
  {
   "cell_type": "markdown",
   "metadata": {},
   "source": [
    "Now let's turn our attention to consider another constraint. What if, instead of making $t$ a value that would maximise the value of the area of the quadrilateral, the value $t$ was chosen to ensure our quadrilateral was a specific kind of quadrilateral, such as a trapezoid?\n",
    "\n",
    "There are a few things needed to do this: we need to consider when two lines in the quadrilateral would be parallel. And in our dealings with Meister, we haven't talked about lines yet. So far we have been considering just points, so lets start constructing lines from points.\n",
    "\n",
    "$$  \\ell=AB=(bf-ce:cd-af:ae-bd). $$\n",
    "\n",
    "Also, once we have lines constructed from points, we need to consider when they are parallel. And for that we need to lines, in projective form, say $\\ell_1 = [a, b, c]$ and $\\ell_2 = [d, e, f]$ and for the following relationship to hold: \n",
    "\n",
    "$$ bf - ce = 0 $$\n",
    "\n",
    "Before we do any of that, sounds like we need to convert our points into projective form. So let's create some functions: first, a function to convert points to projective form; second, a function to create line from two points(join of points formula) and; third, a function to asertain if two lines are paralell or not:"
   ]
  },
  {
   "cell_type": "code",
   "execution_count": 3,
   "metadata": {},
   "outputs": [],
   "source": [
    "def convert_point_to_projective_form(point_list):\n",
    "    lcd = denominator(sum(point_list))\n",
    "    normalised_list = [lcd * x for x in point_list]\n",
    "    normalised_list.insert(0, lcd)\n",
    "    return(np.array(normalised_list))\n",
    "\n",
    "def compute_join_of_two_points(projective_points_list):\n",
    "    a = projective_points_list[0][0]\n",
    "    b = projective_points_list[0][1]\n",
    "    c = projective_points_list[0][2]\n",
    "    d = projective_points_list[1][0]\n",
    "    e = projective_points_list[1][1]\n",
    "    f = projective_points_list[1][2]\n",
    "    return(np.array([b* f - c* e, c * d - a * f, a * e - b * d]))\n",
    "\n",
    "\n",
    "# For this function, we will return a list - the value computed, and a boolean to let us know if the lines are parallel or not.\n",
    "def compute_parallel_relationship_between_2_lines(lines_list):\n",
    "    b = lines_list[0][1]\n",
    "    f = lines_list[1][2]\n",
    "    c = lines_list[0][2]\n",
    "    e = lines_list[1][1]\n",
    "    \n",
    "    val_needed_to_check_parallel = b * f - c * e\n",
    "    return([val_needed_to_check_parallel, val_needed_to_check_parallel == 0])\n",
    "    "
   ]
  },
  {
   "cell_type": "markdown",
   "metadata": {},
   "source": [
    "With these new functions set up, let's start with a visualisation: 3 fixed points. Our goal is to find a 4th point that that will make this quadrilateral a trapezoid"
   ]
  },
  {
   "cell_type": "code",
   "execution_count": 4,
   "metadata": {},
   "outputs": [
    {
     "data": {
      "text/plain": [
       "[<matplotlib.lines.Line2D object at 0x7f660ef34f98>]"
      ]
     },
     "execution_count": 4,
     "metadata": {},
     "output_type": "execute_result"
    },
    {
     "data": {
      "image/png": "[encoded data removed]",
      "text/plain": [
       "<Figure size 432x288 with 1 Axes>"
      ]
     },
     "metadata": {},
     "output_type": "display_data"
    }
   ],
   "source": [
    "fig, ax = plt.subplots()\n",
    "x2 = np.arange(start=-6, stop=7, step=1)\n",
    "y2 = x2^2\n",
    "\n",
    "points_choice = np.array([[4,16], [-3,9], [-1,1]])\n",
    "points_for_plotting = np.append(points_choice, [points_choice[0]], axis=0)\n",
    "\n",
    "x1 = [e[0] for e in points_for_plotting]\n",
    "y1 = [e[1] for e in points_for_plotting]\n",
    "\n",
    "plt.plot(x2, y2, 'b')\n",
    "plt.plot(x1, y1, 'ro')\n"
   ]
  },
  {
   "cell_type": "markdown",
   "metadata": {},
   "source": [
    "We need lines to do this and to get lines, we need points in projective form. Let's convert the points, and create some lines, or joins of points"
   ]
  },
  {
   "cell_type": "code",
   "execution_count": 5,
   "metadata": {},
   "outputs": [],
   "source": [
    "t = sp.symbols('t')\n",
    "\n",
    "p1 = convert_point_to_projective_form([4,16])\n",
    "p2 = convert_point_to_projective_form([-3,9])\n",
    "p3 = convert_point_to_projective_form([-1, 1])\n",
    "p4 = np.array([1, t, t^2])\n",
    "\n",
    "l1 = compute_join_of_two_points([p1, p2])\n",
    "l2 = compute_join_of_two_points([p3, p4])\n"
   ]
  },
  {
   "cell_type": "markdown",
   "metadata": {},
   "source": [
    "We have lines. Now we check if they are parallel:"
   ]
  },
  {
   "cell_type": "code",
   "execution_count": 6,
   "metadata": {},
   "outputs": [
    {
     "data": {
      "text/latex": [
       "$\\displaystyle - 7 \\left(t - 2\\right) \\left(t + 1\\right)$"
      ],
      "text/plain": [
       "-7*(t - 2)*(t + 1)"
      ]
     },
     "execution_count": 6,
     "metadata": {},
     "output_type": "execute_result"
    }
   ],
   "source": [
    "r = compute_parallel_relationship_between_2_lines([l1, l2])\n",
    "r[0].factor()"
   ]
  },
  {
   "cell_type": "markdown",
   "metadata": {},
   "source": [
    "The value returned means that in order for the lines to be parallel, this expression needs to equal 0. So let's set zero, and solve to find a value of $t$ which ensure our lines are parallel:"
   ]
  },
  {
   "cell_type": "code",
   "execution_count": 7,
   "metadata": {},
   "outputs": [
    {
     "data": {
      "text/plain": [
       "[-1, 2]"
      ]
     },
     "execution_count": 7,
     "metadata": {},
     "output_type": "execute_result"
    }
   ],
   "source": [
    "e = sp.Eq(r[0].factor(), 0)\n",
    "sp.solve(e, t)"
   ]
  },
  {
   "cell_type": "markdown",
   "metadata": {},
   "source": [
    "Two results come back. The -1 just gives us a point we already have. But also get 2. Let's use it to construct a 4th point:"
   ]
  },
  {
   "cell_type": "code",
   "execution_count": 8,
   "metadata": {},
   "outputs": [
    {
     "data": {
      "text/plain": [
       "[<matplotlib.lines.Line2D object at 0x7f662400f898>]"
      ]
     },
     "execution_count": 8,
     "metadata": {},
     "output_type": "execute_result"
    },
    {
     "data": {
      "image/png": "[encoded data removed]",
      "text/plain": [
       "<Figure size 432x288 with 1 Axes>"
      ]
     },
     "metadata": {},
     "output_type": "display_data"
    }
   ],
   "source": [
    "fig, ax = plt.subplots()\n",
    "x2 = np.arange(start=-6, stop=7, step=1)\n",
    "y2 = x2^2\n",
    "\n",
    "points_choice = np.array([[4,16], [-3,9], [-1,1], [2, 4]])\n",
    "points_for_plotting = np.append(points_choice, [points_choice[0]], axis=0)\n",
    "\n",
    "x1 = [e[0] for e in points_for_plotting]\n",
    "y1 = [e[1] for e in points_for_plotting]\n",
    "\n",
    "plt.plot(x2, y2, 'b')\n",
    "plt.plot(x1, y1, 'r')"
   ]
  },
  {
   "cell_type": "markdown",
   "metadata": {},
   "source": [
    "And now solve for the area of a trapezoid: "
   ]
  },
  {
   "cell_type": "code",
   "execution_count": 9,
   "metadata": {},
   "outputs": [
    {
     "data": {
      "text/plain": [
       "50"
      ]
     },
     "execution_count": 9,
     "metadata": {},
     "output_type": "execute_result"
    }
   ],
   "source": [
    "s = compute_using_meister_with_parabola_paramatisation(4, -3, -1, 2)\n",
    "s"
   ]
  },
  {
   "cell_type": "markdown",
   "metadata": {},
   "source": [
    "Its worth noting, we could also switch the order of the points. If we are assuming parallel lines were not what you see in the in figure above, by the other 2 sides. Let's do that go get a really interesting result:"
   ]
  },
  {
   "cell_type": "code",
   "execution_count": 10,
   "metadata": {},
   "outputs": [
    {
     "data": {
      "text/plain": [
       "[-8, 4]"
      ]
     },
     "execution_count": 10,
     "metadata": {},
     "output_type": "execute_result"
    }
   ],
   "source": [
    "l1 = compute_join_of_two_points([p1, p4])\n",
    "l2 = compute_join_of_two_points([p3, p2])\n",
    "r = compute_parallel_relationship_between_2_lines([l1, l2])\n",
    "r[0].factor()\n",
    "e = sp.Eq(r[0].factor(), 0)\n",
    "sp.solve(e, t)"
   ]
  },
  {
   "cell_type": "code",
   "execution_count": 11,
   "metadata": {},
   "outputs": [
    {
     "data": {
      "text/plain": [
       "[<matplotlib.lines.Line2D object at 0x7f6623f95518>]"
      ]
     },
     "execution_count": 11,
     "metadata": {},
     "output_type": "execute_result"
    },
    {
     "data": {
      "image/png": "[encoded data removed]",
      "text/plain": [
       "<Figure size 432x288 with 1 Axes>"
      ]
     },
     "metadata": {},
     "output_type": "display_data"
    }
   ],
   "source": [
    "fig, ax = plt.subplots()\n",
    "x2 = np.arange(start=-10, stop=11, step=1)\n",
    "y2 = x2^2\n",
    "\n",
    "points_choice = np.array([[4,16], [-3,9], [-1,1], [-8, 64]])\n",
    "points_for_plotting = np.append(points_choice, [points_choice[0]], axis=0)\n",
    "\n",
    "x1 = [e[0] for e in points_for_plotting]\n",
    "y1 = [e[1] for e in points_for_plotting]\n",
    "\n",
    "plt.plot(x2, y2, 'b')\n",
    "plt.plot(x1, y1, 'r')"
   ]
  },
  {
   "cell_type": "code",
   "execution_count": 12,
   "metadata": {},
   "outputs": [
    {
     "data": {
      "text/plain": [
       "-175"
      ]
     },
     "execution_count": 12,
     "metadata": {},
     "output_type": "execute_result"
    }
   ],
   "source": [
    "s = compute_using_meister_with_parabola_paramatisation(4, -3, -1, -8)\n",
    "s"
   ]
  },
  {
   "cell_type": "markdown",
   "metadata": {},
   "source": [
    "So this seems strange, but we are still looking at something that meets definition of an orientated quadrilateral, with 2 parallel sides, and from which we can derive an area."
   ]
  },
  {
   "cell_type": "markdown",
   "metadata": {},
   "source": [
    "Enough parabolas! Let's now have a look at the <b>cubic case</b>. \n",
    "\n",
    "As we might expect, Meister's formula gives us a nice looking output when we put in 4 general points and ensure they can satisfy the parameterisation $y = x^3$:"
   ]
  },
  {
   "cell_type": "code",
   "execution_count": 14,
   "metadata": {},
   "outputs": [
    {
     "data": {
      "text/html": [
       "<html><script type=\"math/tex; mode=display\">\\newcommand{\\Bold}[1]{\\mathbf{#1}}-\\frac{1}{2} \\, {\\left(t_{1} + t_{2} + t_{3}\\right)} {\\left(t_{1} - t_{2}\\right)} {\\left(t_{1} - t_{3}\\right)} {\\left(t_{2} - t_{3}\\right)}</script></html>"
      ],
      "text/plain": [
       "-1/2*(t_1 + t_2 + t_3)*(t_1 - t_2)*(t_1 - t_3)*(t_2 - t_3)"
      ]
     },
     "metadata": {},
     "output_type": "display_data"
    }
   ],
   "source": [
    "t_1, t_2, t_3 = sp.symbols('t_1, t_2, t_3')\n",
    "points_choice = np.array([[t_1,t_1^3], [t_2,t_2^3], [t_3,t_3^3]])\n",
    "s = compute_signed_area_using_meisters_formula(points_choice)\n",
    "show(s.factor())"
   ]
  },
  {
   "cell_type": "markdown",
   "metadata": {},
   "source": [
    "Again, Sympy does the signs in that wierd sympy way, but this is equivalent to: \n",
    "\n",
    "$$  s(\\widetilde{A_1A_2A_3})=\\frac{(t_1-t_2)(t_2-t_3)(t_3-t_1)(t_1+t_2+t_3)}{2}.$$"
   ]
  },
  {
   "cell_type": "markdown",
   "metadata": {},
   "source": [
    "Let's create a function for it:"
   ]
  },
  {
   "cell_type": "code",
   "execution_count": 16,
   "metadata": {},
   "outputs": [],
   "source": [
    "def compute_using_meister_with_cubic_paramatisation(a, b, c, d):\n",
    "    return (((a - b) * (b - c)*(c-a)* ( a + b - c)) / 2)"
   ]
  },
  {
   "cell_type": "code",
   "execution_count": null,
   "metadata": {},
   "outputs": [],
   "source": []
  },
  {
   "cell_type": "code",
   "execution_count": null,
   "metadata": {},
   "outputs": [],
   "source": []
  },
  {
   "cell_type": "code",
   "execution_count": null,
   "metadata": {},
   "outputs": [],
   "source": []
  },
  {
   "cell_type": "code",
   "execution_count": null,
   "metadata": {},
   "outputs": [],
   "source": []
  },
  {
   "cell_type": "code",
   "execution_count": null,
   "metadata": {},
   "outputs": [],
   "source": []
  },
  {
   "cell_type": "markdown",
   "metadata": {},
   "source": [
    "Things are heating up. We are looking at this, but also some functions for looking at some really utility type functions, collinearity, parallelism and stuff. "
   ]
  }
 ],
 "metadata": {
  "kernelspec": {
   "display_name": "SageMath 9.0",
   "language": "sage",
   "name": "sagemath"
  },
  "language_info": {
   "codemirror_mode": {
    "name": "ipython",
    "version": 3
   },
   "file_extension": ".py",
   "mimetype": "text/x-python",
   "name": "python",
   "nbconvert_exporter": "python",
   "pygments_lexer": "ipython3",
   "version": "3.7.3"
  }
 },
 "nbformat": 4,
 "nbformat_minor": 4
}
