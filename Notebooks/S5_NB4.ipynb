{
 "cells": [
  {
   "cell_type": "code",
   "execution_count": 1,
   "id": "6dd866d6-49eb-4efc-94c5-70044517bc26",
   "metadata": {},
   "outputs": [],
   "source": [
    "import numpy as np\n",
    "import sympy as sp\n",
    "import pickle\n",
    "from IPython.display import HTML\n",
    "import ipywidgets as widgets\n",
    "import matplotlib as mpl\n",
    "import matplotlib.pyplot as plt\n",
    "from mpl_toolkits.mplot3d import Axes3D\n",
    "import matplotlib.pyplot as plt\n",
    "mpl.rcParams['legend.fontsize'] = 10\n",
    "import pandas as pd\n",
    "import itertools\n",
    "pd.set_option('display.max_colwidth', None)\n",
    "from sympy.plotting import plot \n",
    "from IPython.display import Image\n",
    "\n",
    "\n",
    "# Render to Latex function \n",
    "def RTL(e):\n",
    "    latex_rendering = []\n",
    "\n",
    "    for i in range(len(e)):\n",
    "        latex_rendering.append(\"$$\" + sp.latex(e[i]) + \"$$<br/>\")\n",
    "    \n",
    "    return(HTML(\"\".join(latex_rendering[0:])))"
   ]
  },
  {
   "cell_type": "markdown",
   "id": "af2c1173-b24a-4dc7-8e8f-6ab2dfbcbd1d",
   "metadata": {},
   "source": [
    "#### Bernoulli Differential Equations \n",
    "\n",
    "\n",
    "Bernoulli Differential Equations are those can be written in the form\n",
    "\n",
    "$$ y' + p\\left( x \\right)y = q\\left( x \\right){y^n} $$\n",
    "\n",
    "To solve these, first divide the differential by $y^n$ to get: \n",
    "\n",
    "$$ {y^{ - n}}\\,y' + p\\left( x \\right){y^{1 - n}} = q\\left( x \\right) $$\n",
    "\n",
    "Then use the following substitution: \n",
    "\n",
    "$$ v = {y^{1 - n}} $$\n",
    "\n",
    "Note, that the differentiation of $v$ is:  $v' = \\left( {1 - n} \\right){y^{ - n}}y'$\n",
    "\n",
    "Plugging this and subsitution into the equation gives: \n",
    "\n",
    "$$ \\frac{1}{{1 - n}}v' + p\\left( x \\right)v = q\\left( x \\right) $$\n",
    "\n",
    "This can be solved as per a differential equation, and substitute again to get $y$ back. \n",
    "\n",
    "\n",
    "\n",
    "#### Some examples"
   ]
  },
  {
   "cell_type": "markdown",
   "id": "a1bb31e3-77bb-41ef-9ffa-85a7bc4a3716",
   "metadata": {},
   "source": [
    "<b>Example:</b>\n",
    "\n",
    "Solve the following IVP and find the interval of validity for the solution\n",
    "\n",
    "$$ y' + \\frac{4}{x}y = {x^3}{y^2}\\hspace{0.25in}y\\left( 2 \\right) =  - 1,\\hspace{0.25in}x > 0 $$"
   ]
  },
  {
   "cell_type": "code",
   "execution_count": 4,
   "id": "8e112404-5e5a-478d-a580-a62c357c7a02",
   "metadata": {},
   "outputs": [],
   "source": [
    "# Create needed variables \n",
    "x, y, c, t, v, dy, dx, yPrime, vPrime = sp.symbols('x, y, c, t, v, dy, dx, yPrime, vPrime')"
   ]
  },
  {
   "cell_type": "code",
   "execution_count": 9,
   "id": "7d5693f0-fcac-43e4-9663-001c716341ce",
   "metadata": {},
   "outputs": [
    {
     "data": {
      "text/plain": [
       "2"
      ]
     },
     "execution_count": 9,
     "metadata": {},
     "output_type": "execute_result"
    }
   ],
   "source": [
    "# Note n from the equation\n",
    "N = 2\n",
    "N"
   ]
  },
  {
   "cell_type": "code",
   "execution_count": 12,
   "id": "b08d6a70-25c6-4406-989b-794e9c37ab43",
   "metadata": {},
   "outputs": [
    {
     "data": {
      "text/latex": [
       "$\\displaystyle x^{3} = \\frac{{y}'}{y^{2}} + \\frac{4}{x y}$"
      ],
      "text/plain": [
       "Eq(x**3, yPrime/y**2 + 4/(x*y))"
      ]
     },
     "execution_count": 12,
     "metadata": {},
     "output_type": "execute_result"
    }
   ],
   "source": [
    "# Write equation in a form that works for the Bernoulli equation\n",
    "E1 = sp.Eq(yPrime + (4 / x) * y, x**3 * y**2)\n",
    "E2 = sp.Eq(E1.lhs / y**N, E1.rhs / y**N).simplify()\n",
    "E2"
   ]
  },
  {
   "cell_type": "code",
   "execution_count": 31,
   "id": "0f87b605-0186-4581-b704-210d2ad1bae6",
   "metadata": {},
   "outputs": [
    {
     "data": {
      "text/latex": [
       "$\\displaystyle - x^{3} = - \\frac{4 v}{x} + {v}'$"
      ],
      "text/plain": [
       "Eq(-x**3, -4*v/x + vPrime)"
      ]
     },
     "execution_count": 31,
     "metadata": {},
     "output_type": "execute_result"
    }
   ],
   "source": [
    "# Make the substition of v and vPrime. Also ensure it is in the correct form for a linear equatin\n",
    "E3 = sp.Eq(E2.lhs * -1, (-vPrime + (4 / x) * v) * -1)\n",
    "E3"
   ]
  },
  {
   "cell_type": "code",
   "execution_count": 33,
   "id": "0979421b-03a8-40a8-8f4f-86d1b287d6c6",
   "metadata": {},
   "outputs": [
    {
     "data": {
      "text/html": [
       "$$- \\frac{4}{x}$$<br/>$$- x^{3}$$<br/>$$\\frac{1}{x^{4}}$$<br/>$$- \\frac{4}{x^{5}}$$<br/>"
      ],
      "text/plain": [
       "<IPython.core.display.HTML object>"
      ]
     },
     "execution_count": 33,
     "metadata": {},
     "output_type": "execute_result"
    }
   ],
   "source": [
    "# Assign variables and create integrating factor\n",
    "PX = -4 / x\n",
    "GX = -x**3\n",
    "MU_X = sp.E**(sp.integrate(PX, x))\n",
    "MU_X_P = sp.diff(MU_X, x)\n",
    "RTL([PX, GX, MU_X, MU_X_P])"
   ]
  },
  {
   "cell_type": "code",
   "execution_count": 36,
   "id": "5fcf9590-3c57-4a2d-95fd-e88eacb39774",
   "metadata": {},
   "outputs": [
    {
     "data": {
      "text/latex": [
       "$\\displaystyle - \\frac{4 v}{x^{5}} + \\frac{{v}'}{x^{4}} = - \\frac{1}{x}$"
      ],
      "text/plain": [
       "Eq(-4*v/x**5 + vPrime/x**4, -1/x)"
      ]
     },
     "execution_count": 36,
     "metadata": {},
     "output_type": "execute_result"
    }
   ],
   "source": [
    "# Multiply the equation by the integrating factor\n",
    "E4 = sp.Eq(E3.lhs * MU_X, E3.rhs * MU_X).expand()\n",
    "E4 = sp.Eq(E4.rhs, E4.lhs)\n",
    "E4"
   ]
  },
  {
   "cell_type": "code",
   "execution_count": 37,
   "id": "e4f2ed9f-d8f3-402f-b04f-7e55db4f13cc",
   "metadata": {},
   "outputs": [
    {
     "data": {
      "text/latex": [
       "$\\displaystyle - \\frac{4 v}{x^{5}}$"
      ],
      "text/plain": [
       "-4*v/x**5"
      ]
     },
     "execution_count": 37,
     "metadata": {},
     "output_type": "execute_result"
    }
   ],
   "source": [
    "# Rewrite the left side f the equation using the subsitution and differeniate it\n",
    "E5 = sp.diff(MU_X * v, x)\n",
    "E5"
   ]
  },
  {
   "cell_type": "code",
   "execution_count": 42,
   "id": "28ff8e2a-227f-442d-ba68-d0ebb93ccd92",
   "metadata": {},
   "outputs": [
    {
     "data": {
      "text/latex": [
       "$\\displaystyle - \\frac{4 v}{x^{5}} = - \\frac{1}{x}$"
      ],
      "text/plain": [
       "Eq(-4*v/x**5, -1/x)"
      ]
     },
     "execution_count": 42,
     "metadata": {},
     "output_type": "execute_result"
    }
   ],
   "source": [
    "# Note that you are getting vPrime here. So you need to integrate it again to get to v, and then subs back into y\n",
    "E6 = sp.Eq(E5, E4.rhs)\n",
    "E6"
   ]
  },
  {
   "cell_type": "code",
   "execution_count": 43,
   "id": "1c606260-de12-4541-b090-1c139f1d495f",
   "metadata": {},
   "outputs": [
    {
     "data": {
      "text/latex": [
       "$\\displaystyle \\frac{v}{x^{4}} = c - \\log{\\left(x \\right)}$"
      ],
      "text/plain": [
       "Eq(v/x**4, c - log(x))"
      ]
     },
     "execution_count": 43,
     "metadata": {},
     "output_type": "execute_result"
    }
   ],
   "source": [
    "# Integrate both sides.\n",
    "E7= sp.Eq(sp.integrate(E6.lhs,  x), (sp.integrate(E6.rhs, x)) + c)\n",
    "E7"
   ]
  },
  {
   "cell_type": "code",
   "execution_count": 44,
   "id": "d79a94ca-1399-478f-9947-25f056d1026f",
   "metadata": {},
   "outputs": [
    {
     "data": {
      "text/latex": [
       "$\\displaystyle v = x^{4} \\left(c - \\log{\\left(x \\right)}\\right)$"
      ],
      "text/plain": [
       "Eq(v, x**4*(c - log(x)))"
      ]
     },
     "execution_count": 44,
     "metadata": {},
     "output_type": "execute_result"
    }
   ],
   "source": [
    "# Solve for v\n",
    "E8 = sp.Eq(v, sp.solve(E7, v)[0])\n",
    "E8"
   ]
  },
  {
   "cell_type": "code",
   "execution_count": 45,
   "id": "0c3e3b96-1e0a-4f64-8571-055911763257",
   "metadata": {},
   "outputs": [
    {
     "data": {
      "text/latex": [
       "$\\displaystyle \\frac{1}{y} = x^{4} \\left(c - \\log{\\left(x \\right)}\\right)$"
      ],
      "text/plain": [
       "Eq(1/y, x**4*(c - log(x)))"
      ]
     },
     "execution_count": 45,
     "metadata": {},
     "output_type": "execute_result"
    }
   ],
   "source": [
    "# Substitute y back in\n",
    "E9 = E8.subs({v: 1 / y})\n",
    "E9"
   ]
  },
  {
   "cell_type": "code",
   "execution_count": 47,
   "id": "bf6231e6-cc2c-4ddd-9843-0bc1cdb67022",
   "metadata": {},
   "outputs": [
    {
     "data": {
      "text/latex": [
       "$\\displaystyle c = - \\frac{1}{16} + \\log{\\left(2 \\right)}$"
      ],
      "text/plain": [
       "Eq(c, -1/16 + log(2))"
      ]
     },
     "execution_count": 47,
     "metadata": {},
     "output_type": "execute_result"
    }
   ],
   "source": [
    "# Use the initial conditions to solve for c\n",
    "E10 = E9.subs({x: 2, y: -1})\n",
    "E11 = sp.Eq(c, sp.solve(E10, c)[0])\n",
    "E11"
   ]
  },
  {
   "cell_type": "code",
   "execution_count": 48,
   "id": "ca83d3e7-df59-457d-9e61-e483dc50acd5",
   "metadata": {},
   "outputs": [
    {
     "data": {
      "text/latex": [
       "$\\displaystyle \\frac{1}{y} = x^{4} \\left(- \\log{\\left(x \\right)} - \\frac{1}{16} + \\log{\\left(2 \\right)}\\right)$"
      ],
      "text/plain": [
       "Eq(1/y, x**4*(-log(x) - 1/16 + log(2)))"
      ]
     },
     "execution_count": 48,
     "metadata": {},
     "output_type": "execute_result"
    }
   ],
   "source": [
    "# Put the value of c back into the solved equation\n",
    "E12 = E9.subs({c: E11.rhs})\n",
    "E12"
   ]
  },
  {
   "cell_type": "code",
   "execution_count": 50,
   "id": "39389c62-7b8f-41b9-add8-c95e6cfaedc8",
   "metadata": {},
   "outputs": [
    {
     "data": {
      "text/latex": [
       "$\\displaystyle y = \\frac{16}{x^{4} \\left(- 16 \\log{\\left(x \\right)} - 1 + \\log{\\left(65536 \\right)}\\right)}$"
      ],
      "text/plain": [
       "Eq(y, 16/(x**4*(-16*log(x) - 1 + log(65536))))"
      ]
     },
     "execution_count": 50,
     "metadata": {},
     "output_type": "execute_result"
    }
   ],
   "source": [
    "# Solve for y\n",
    "E13 = sp.Eq(y, sp.solve(E12, y)[0])\n",
    "E13"
   ]
  },
  {
   "cell_type": "code",
   "execution_count": 54,
   "id": "49bd6721-32fd-4249-bfae-7d723608da1a",
   "metadata": {},
   "outputs": [
    {
     "data": {
      "text/latex": [
       "$\\displaystyle -1$"
      ],
      "text/plain": [
       "-1"
      ]
     },
     "execution_count": 54,
     "metadata": {},
     "output_type": "execute_result"
    }
   ],
   "source": [
    "E13.rhs.subs({x: 2}).simplify()"
   ]
  },
  {
   "cell_type": "code",
   "execution_count": null,
   "id": "314ad1f3-7113-4f52-af2e-887991f8a2aa",
   "metadata": {},
   "outputs": [],
   "source": []
  }
 ],
 "metadata": {
  "kernelspec": {
   "display_name": "Python 3",
   "language": "python",
   "name": "python3"
  },
  "language_info": {
   "codemirror_mode": {
    "name": "ipython",
    "version": 3
   },
   "file_extension": ".py",
   "mimetype": "text/x-python",
   "name": "python",
   "nbconvert_exporter": "python",
   "pygments_lexer": "ipython3",
   "version": "3.9.2"
  }
 },
 "nbformat": 4,
 "nbformat_minor": 5
}
