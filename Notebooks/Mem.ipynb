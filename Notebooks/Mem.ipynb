{
 "cells": [
  {
   "cell_type": "markdown",
   "id": "9573db6a-a534-4e9d-a69b-a04964d936a6",
   "metadata": {
    "tags": []
   },
   "source": [
    "- What are teh elements the periodic table, including groups/location etc.?\n",
    "- What are the constituents of a prokaryotic cell?\n",
    "- What are the constituents of a eukaryotic cell?\n",
    "- What is the structure of an amino acid?\n",
    "- What is the difference between an acid and a base?"
   ]
  },
  {
   "cell_type": "code",
   "execution_count": 1,
   "id": "5451d65a-0500-42e9-a686-81f4921da3e4",
   "metadata": {
    "tags": []
   },
   "outputs": [],
   "source": [
    "# adasfasdf"
   ]
  },
  {
   "cell_type": "code",
   "execution_count": null,
   "id": "e6e6b84e-d5bb-4426-ab9d-dad72cab7b6b",
   "metadata": {},
   "outputs": [],
   "source": []
  }
 ],
 "metadata": {
  "kernelspec": {
   "display_name": "Python 3",
   "language": "python",
   "name": "python3"
  },
  "language_info": {
   "codemirror_mode": {
    "name": "ipython",
    "version": 3
   },
   "file_extension": ".py",
   "mimetype": "text/x-python",
   "name": "python",
   "nbconvert_exporter": "python",
   "pygments_lexer": "ipython3",
   "version": "3.9.2"
  }
 },
 "nbformat": 4,
 "nbformat_minor": 5
}
