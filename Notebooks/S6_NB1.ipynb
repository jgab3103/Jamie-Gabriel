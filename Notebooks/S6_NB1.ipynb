{
 "cells": [
  {
   "cell_type": "code",
   "execution_count": 5,
   "id": "6dd866d6-49eb-4efc-94c5-70044517bc26",
   "metadata": {},
   "outputs": [],
   "source": [
    "#!pip install chempy\n",
    "\n",
    "import numpy as np\n",
    "import sympy as sp\n",
    "import pickle\n",
    "from IPython.display import HTML\n",
    "import ipywidgets as widgets\n",
    "import matplotlib as mpl\n",
    "import matplotlib.pyplot as plt\n",
    "from mpl_toolkits.mplot3d import Axes3D\n",
    "import matplotlib.pyplot as plt\n",
    "mpl.rcParams['legend.fontsize'] = 10\n",
    "import pandas as pd\n",
    "import itertools\n",
    "pd.set_option('display.max_colwidth', None)\n",
    "from sympy.plotting import plot \n",
    "from IPython.display import Image\n",
    "\n",
    "\n",
    "# Render to Latex function \n",
    "def RTL(e):\n",
    "    latex_rendering = []\n",
    "\n",
    "    for i in range(len(e)):\n",
    "        latex_rendering.append(\"$\" + sp.latex(e[i]) + \"$ &nbsp;&nbsp;\")\n",
    "    \n",
    "    return(HTML(\"\".join(latex_rendering[0:])))"
   ]
  },
  {
   "cell_type": "code",
   "execution_count": 6,
   "id": "244df9a2-2b28-440e-813e-c0f6f13e5a2c",
   "metadata": {},
   "outputs": [],
   "source": [
    "E1 = sp.Matrix([2, 1])"
   ]
  },
  {
   "cell_type": "markdown",
   "id": "05327fb7-668b-4803-96b0-ebcfbe60e489",
   "metadata": {},
   "source": [
    "### Linear Algebra Notes\n",
    "\n",
    "\n",
    "\n",
    "- Parametric repreesentations of lines\n",
    "- Linear combintations and span\n",
    "- Linear subspaces\n",
    "- Basis of a subspace\n",
    "- Vector dot product and vector length, Cauchy-Schwarz and Triangle inequalities\n",
    "- Defining the angle between vectors\n",
    "- Defining a plane in $ \\mathbb{R^3}$ with a point and normal vector and distance between planes\n",
    "- Cross Product\n",
    "- Relationship betweedn cross product and sin of angle\n",
    "- Matrix vector products\n",
    "- Null space of a matrix\n",
    "- Relation of null space to linear independence\n",
    "- Column space of a matrix\n",
    "- Null space and column space basis\n",
    "- Dimension of the null space or nullity\n",
    "- Dimension of column space or rank\n",
    "\n",
    "<hr/>\n",
    "\n",
    "#### Parametric Representations of Lines\n",
    "\n",
    "<b>Note</b> any vector can be muliplied by a scalar, and thus define it as a line: \n",
    "\n",
    " $$ S = \\{cV | c \\in  \\mathbb{R}^n\\} $$ \n",
    " \n",
    "<b>Note</b> that this relates to the idea of being able to scale a vector by an arbitrary scalar, $c$, and define the set of all colinear vectors as a line. \n",
    "\n",
    "<b>Note</b> that is is possible obtain the slope from this as this vector is in canonical form, a vector from the $(0, 0)$ to its coordinates\n"
   ]
  },
  {
   "cell_type": "markdown",
   "id": "05b0a164-44b0-42a1-a5ca-6b6875ea4974",
   "metadata": {},
   "source": [
    "<b>Note</b> that it is possible to represent parallel lines. Starting on any position on $S$, a vector $U$ can be added, and a parralell line will be created. \n",
    "\n",
    "<b>Note</b> the tranformation (in which $L$ is a parallel ine to $V$ becomes: \n",
    "\n",
    "$$L = \\vec{x} + t \\vec{v} | t \\in \\mathbb{R} $$ \n",
    "\n",
    "where $\\vec{x}$ is an arbitrary vector\n",
    "\n",
    "<b>Note</b> that is general and applied to multiple dimensions. \n",
    "\n",
    "<b>Note</b> that this is away of ascertaining, given a vector $S$ and a vector $X$, constructing a parallel line to $S$\n",
    "\n",
    "<b>Note</b> A parametric definition is good to use for situations such as tracking particles. \n",
    "\n",
    "<hr/>\n",
    "\n",
    "<b>Example</b>: <i>Construct a parallel line using vector and a point</i>"
   ]
  },
  {
   "cell_type": "code",
   "execution_count": 397,
   "id": "88071b8d-989c-4388-9cf1-85b05c7cca48",
   "metadata": {},
   "outputs": [],
   "source": [
    "# Create required variables\n",
    "a, b, c, d, x1, x2, x3, x4, c1, c2, c3, t, a1, a2, a3, b1, b2, b3 = sp.symbols('a, b, c, d, x1, x2, x3, x4, c1, c2, c3, t, a1, a2, a3, b1, b2, b3')"
   ]
  },
  {
   "cell_type": "code",
   "execution_count": 501,
   "id": "be691cd3-8dcb-471c-96f2-0ff20dcf3b29",
   "metadata": {},
   "outputs": [
    {
     "data": {
      "text/latex": [
       "$\\displaystyle \\left[\\begin{matrix}2\\\\1\\end{matrix}\\right]$"
      ],
      "text/plain": [
       "Matrix([\n",
       "[2],\n",
       "[1]])"
      ]
     },
     "execution_count": 501,
     "metadata": {},
     "output_type": "execute_result"
    }
   ],
   "source": [
    "# Let E1 be a point\n",
    "E1 = sp.Matrix([2, 1])\n",
    "E1"
   ]
  },
  {
   "cell_type": "code",
   "execution_count": 504,
   "id": "ed5d47e9-3584-41ca-9c05-6df50b7da169",
   "metadata": {},
   "outputs": [
    {
     "data": {
      "text/latex": [
       "$\\displaystyle \\left[\\begin{matrix}0\\\\3\\end{matrix}\\right]$"
      ],
      "text/plain": [
       "Matrix([\n",
       "[0],\n",
       "[3]])"
      ]
     },
     "execution_count": 504,
     "metadata": {},
     "output_type": "execute_result"
    }
   ],
   "source": [
    "# Let E2 be a vector \n",
    "E2 = sp.Matrix([0, 3])\n",
    "E2\n"
   ]
  },
  {
   "cell_type": "code",
   "execution_count": 502,
   "id": "c3811f12-ff96-42a3-bed3-c6a184981c1d",
   "metadata": {},
   "outputs": [],
   "source": [
    "# Create of a parametisation that will provide coordinates of a line that will be parralell to E2\n",
    "# and coincident to E1"
   ]
  },
  {
   "cell_type": "code",
   "execution_count": 505,
   "id": "d9179a7c-e298-4b1c-aa85-94b1fdd95619",
   "metadata": {},
   "outputs": [
    {
     "data": {
      "text/latex": [
       "$\\displaystyle \\left[\\begin{matrix}- 2 t\\\\2 t + 3\\end{matrix}\\right]$"
      ],
      "text/plain": [
       "Matrix([\n",
       "[   -2*t],\n",
       "[2*t + 3]])"
      ]
     },
     "execution_count": 505,
     "metadata": {},
     "output_type": "execute_result"
    }
   ],
   "source": [
    "E2 + t * (E2 - E1)"
   ]
  },
  {
   "cell_type": "markdown",
   "id": "c1d8a76a-df88-4564-ac82-f16391bfff70",
   "metadata": {},
   "source": [
    "<b>Example</b>: Generalise the parametrisation of parallel line in a higher dimension"
   ]
  },
  {
   "cell_type": "code",
   "execution_count": 507,
   "id": "43b0368a-1b8c-4dfc-a33d-84ae43f6bbfb",
   "metadata": {},
   "outputs": [
    {
     "data": {
      "text/latex": [
       "$\\displaystyle \\left[\\begin{matrix}-1\\\\2\\\\7\\end{matrix}\\right]$"
      ],
      "text/plain": [
       "Matrix([\n",
       "[-1],\n",
       "[ 2],\n",
       "[ 7]])"
      ]
     },
     "execution_count": 507,
     "metadata": {},
     "output_type": "execute_result"
    }
   ],
   "source": [
    "# Let E1 be a point\n",
    "E1 = sp.Matrix([-1, 2, 7])\n",
    "E1"
   ]
  },
  {
   "cell_type": "code",
   "execution_count": 508,
   "id": "0ef67d06-0f72-4143-a145-eb96172f22f0",
   "metadata": {},
   "outputs": [
    {
     "data": {
      "text/latex": [
       "$\\displaystyle \\left[\\begin{matrix}0\\\\3\\\\4\\end{matrix}\\right]$"
      ],
      "text/plain": [
       "Matrix([\n",
       "[0],\n",
       "[3],\n",
       "[4]])"
      ]
     },
     "execution_count": 508,
     "metadata": {},
     "output_type": "execute_result"
    }
   ],
   "source": [
    "# Let E2 be a vector\n",
    "E2 = sp.Matrix([0, 3, 4])\n",
    "E2"
   ]
  },
  {
   "cell_type": "code",
   "execution_count": 509,
   "id": "10a87f7a-1eba-428d-ad95-519ebb13b8c5",
   "metadata": {},
   "outputs": [
    {
     "data": {
      "text/latex": [
       "$\\displaystyle \\left[\\begin{matrix}- t - 1\\\\2 - t\\\\3 t + 7\\end{matrix}\\right]$"
      ],
      "text/plain": [
       "Matrix([\n",
       "[ -t - 1],\n",
       "[  2 - t],\n",
       "[3*t + 7]])"
      ]
     },
     "execution_count": 509,
     "metadata": {},
     "output_type": "execute_result"
    }
   ],
   "source": [
    "# Create of a parametisation that will provide coordinates of a line that will be parralell to E2\n",
    "# and coincident to E1\n",
    "E1 + t * (E1 - E2)"
   ]
  },
  {
   "cell_type": "markdown",
   "id": "9342e01b-a72d-49d8-9454-63c988e7fa3b",
   "metadata": {},
   "source": [
    "#### Linear combinations and spans\n",
    "\n",
    "<b>Note</b> that a Linear combination is any combination of vectors that have arbitrary scaled. \n",
    "\n",
    "<hr/>\n",
    "\n",
    "<b>Example</b>: <i>Create a linear combination using 2 vectors</i>"
   ]
  },
  {
   "cell_type": "code",
   "execution_count": 512,
   "id": "f18c1a11-9ed5-45a4-b770-a4bd601d45be",
   "metadata": {},
   "outputs": [],
   "source": [
    "# Let E1 and E2 be vectors\n",
    "E1 = sp.Matrix([1, 2])\n",
    "E2 = sp.Matrix([0, 3])"
   ]
  },
  {
   "cell_type": "code",
   "execution_count": 513,
   "id": "912cae45-0adc-4e05-9111-ca91f70f5745",
   "metadata": {},
   "outputs": [
    {
     "data": {
      "text/html": [
       "$\\left[\\begin{matrix}7\\\\14\\end{matrix}\\right]$ &nbsp;&nbsp;$\\left[\\begin{matrix}0\\\\0\\end{matrix}\\right]$ &nbsp;&nbsp;"
      ],
      "text/plain": [
       "<IPython.core.display.HTML object>"
      ]
     },
     "execution_count": 513,
     "metadata": {},
     "output_type": "execute_result"
    }
   ],
   "source": [
    "# Let E3 and E4 be arbitrary scalings of E1 and E2\n",
    "E3 = 3 * E1 + 4 * E1\n",
    "E4 = 0 * E2 + 0 * E2\n",
    "RTL([E3, E4])"
   ]
  },
  {
   "cell_type": "markdown",
   "id": "87ecd75c-f687-4146-8576-acf3098735c9",
   "metadata": {},
   "source": [
    "<b>Note</b> that a natural question that arises concerns how big the set of all possible linear combinations would might be up. For the above example, it turns out to be all of $ \\mathbb{R}^2$ which will be further explored below. \n",
    "\n",
    "<b>Note</b> that the set of all linear combinations of given vectors is defined as the <b>span</b> of the vectors. \n",
    "\n",
    "\n",
    "<b>Note</b> that in the above example, the span of $\\text(E1)$ and $\\text{E2}$ is $\\alpha \\text{ E1} + \\beta \\text{ E1}$  for any real number $\\alpha$ and $\\beta$. The span includes all of $ \\mathbb{R}^2$"
   ]
  },
  {
   "cell_type": "markdown",
   "id": "5d342f7e-8706-49c5-bf91-9a8e9790c6dd",
   "metadata": {},
   "source": [
    "#### Introduction to linear indepence"
   ]
  },
  {
   "cell_type": "markdown",
   "id": "90daa45f-4df4-4620-a726-3683cd9a5539",
   "metadata": {},
   "source": [
    "<b>Note</b> that any vector that is a scalar muliplier of any other vector is defined as <b>Linearly Dependent</b>. Conversely, if the a vector can not be obtained via a scalar muliplier of another vector, it is defined as <b>Linearly Independent</b>.\n",
    "\n",
    "<hr/>"
   ]
  },
  {
   "cell_type": "markdown",
   "id": "1e438453-c157-48e7-9a20-4730677e04f6",
   "metadata": {},
   "source": [
    "<b>Example</b>: <i>Ascertain if the following vectors are linearly dependent</i>"
   ]
  },
  {
   "cell_type": "code",
   "execution_count": 518,
   "id": "bdbe9530-dfac-414c-947a-2aa80a281326",
   "metadata": {},
   "outputs": [
    {
     "data": {
      "text/html": [
       "$\\left[\\begin{matrix}2\\\\3\\end{matrix}\\right]$ &nbsp;&nbsp;$\\left[\\begin{matrix}4\\\\6\\end{matrix}\\right]$ &nbsp;&nbsp;"
      ],
      "text/plain": [
       "<IPython.core.display.HTML object>"
      ]
     },
     "execution_count": 518,
     "metadata": {},
     "output_type": "execute_result"
    }
   ],
   "source": [
    "# Let E1 and E2 be vectors\n",
    "E1 = sp.Matrix([2, 3])\n",
    "E2 = sp.Matrix([4, 6])\n",
    "RTL([E1, E2])"
   ]
  },
  {
   "cell_type": "code",
   "execution_count": 519,
   "id": "9a1d2e0f-89a3-4baa-b6b6-5f736a3a391b",
   "metadata": {},
   "outputs": [
    {
     "data": {
      "text/latex": [
       "$\\displaystyle \\left[\\begin{matrix}4\\\\6\\end{matrix}\\right]$"
      ],
      "text/plain": [
       "Matrix([\n",
       "[4],\n",
       "[6]])"
      ]
     },
     "execution_count": 519,
     "metadata": {},
     "output_type": "execute_result"
    }
   ],
   "source": [
    "# Note that E1 can be scaled to return the value of E2. As such, E1 and E2 are linearly dependent\n",
    "E1 * 2"
   ]
  },
  {
   "cell_type": "markdown",
   "id": "66f4311c-ef91-4f20-b104-d4f366513224",
   "metadata": {},
   "source": [
    "<b>Note</b> that this can be more formally tested as it is the case that any vector $S = \\{ v_1, v_2, v_3....v_n\\} $ is defined as linearly dependent when: \n",
    "\n",
    "$$ c_1v_1 + c_2v_2 + ...  = 0$$\n",
    "\n",
    "And at least one the $c_i$ values is non zero. "
   ]
  },
  {
   "cell_type": "markdown",
   "id": "ddc0f057-e1ba-46f5-9ea4-8243efb4b1a0",
   "metadata": {},
   "source": [
    "<b>Example</b>: <i>Ascertain if the following vectors are linearly dependent or linearly independent</i>"
   ]
  },
  {
   "cell_type": "code",
   "execution_count": 522,
   "id": "e17aadae-4e1d-4391-ac6c-27b396d233a4",
   "metadata": {},
   "outputs": [],
   "source": [
    "# Let c2, c2 and c3 be variables\n",
    "c1, c2, c3 = sp.symbols('c1, c2, c3')"
   ]
  },
  {
   "cell_type": "code",
   "execution_count": 533,
   "id": "373b3eb0-8ea5-4412-a031-3191da8b1fde",
   "metadata": {},
   "outputs": [],
   "source": [
    "# Let V1 and V2 be vectors\n",
    "E1 = sp.Matrix([2, 1])\n",
    "E2 = sp.Matrix([3, 2])"
   ]
  },
  {
   "cell_type": "code",
   "execution_count": 524,
   "id": "c9bccb31-1521-44c4-bef6-d7d20500cbec",
   "metadata": {},
   "outputs": [],
   "source": [
    "# Scale V1 and V2 by C1 and C2\n",
    "E3 = c1 * E1 + c2 * E2\n",
    "E4 = sp.Eq(E3[0:][0], 0)\n",
    "E5 = sp.Eq(E3[1:][0], 0)"
   ]
  },
  {
   "cell_type": "code",
   "execution_count": 525,
   "id": "f0da3f69-e631-4d67-adfc-eafa4e3febea",
   "metadata": {},
   "outputs": [
    {
     "data": {
      "text/latex": [
       "$\\displaystyle \\left\\{\\left( 0, \\  0\\right)\\right\\}$"
      ],
      "text/plain": [
       "FiniteSet((0, 0))"
      ]
     },
     "execution_count": 525,
     "metadata": {},
     "output_type": "execute_result"
    }
   ],
   "source": [
    "# Solve as a system of equations\n",
    "sp.linsolve([E2, E3], (c1, c2))"
   ]
  },
  {
   "cell_type": "code",
   "execution_count": 526,
   "id": "3ed7c575-3c34-4602-91dd-11d1439c0ac8",
   "metadata": {},
   "outputs": [],
   "source": [
    "# In the above example are no multiples of c1 or c2 which will produce both vectors. This means \n",
    "# the vectors are linear independent and V2 cannot be obtained by scaling V1 by and arbitrary c"
   ]
  },
  {
   "cell_type": "markdown",
   "id": "f0feeb78-ec64-4b13-83a2-6a79be442124",
   "metadata": {},
   "source": [
    "<b>Example</b>: <i>Ascertain if the following vectors are linearly dependent or linearly independent</i>"
   ]
  },
  {
   "cell_type": "code",
   "execution_count": 536,
   "id": "77c7522f-685a-4491-a6d4-ea08d66cac5b",
   "metadata": {},
   "outputs": [],
   "source": [
    "# Let c2, c2 and c3 be variables\n",
    "c1, c2, c3 = sp.symbols('c1, c2, c3')"
   ]
  },
  {
   "cell_type": "code",
   "execution_count": 537,
   "id": "1dd86b79-e133-434f-95df-c2778c88ba45",
   "metadata": {},
   "outputs": [],
   "source": [
    "# Let E1 and E2 be vectors\n",
    "E1 = sp.Matrix([2, 1])\n",
    "E2 = sp.Matrix([4, 2])"
   ]
  },
  {
   "cell_type": "code",
   "execution_count": 538,
   "id": "39b47610-6b9b-4b97-9304-b3833dc00d57",
   "metadata": {},
   "outputs": [],
   "source": [
    "E3 = c1 * E1 + c2 * E2\n",
    "E4 = sp.Eq(E3[0:][0], 0)\n",
    "E5 = sp.Eq(E3[1:][0], 0)"
   ]
  },
  {
   "cell_type": "code",
   "execution_count": 539,
   "id": "7d10d7a6-7728-4925-b4c5-ecd1b8530bcc",
   "metadata": {},
   "outputs": [
    {
     "data": {
      "text/latex": [
       "$\\displaystyle \\left\\{\\left( - 2 c_{2}, \\  c_{2}\\right)\\right\\}$"
      ],
      "text/plain": [
       "FiniteSet((-2*c2, c2))"
      ]
     },
     "execution_count": 539,
     "metadata": {},
     "output_type": "execute_result"
    }
   ],
   "source": [
    "# Solve as a system of equations\n",
    "sp.linsolve([E4, E5], (c1, c2))"
   ]
  },
  {
   "cell_type": "code",
   "execution_count": 540,
   "id": "c962a5e7-9ca7-497a-a7cb-d9557dd5d0ec",
   "metadata": {},
   "outputs": [],
   "source": [
    "# In the above example both vectors can be produced by scaling c2. This means \n",
    "# the vectors are linear dependent and E1 can be obtained by scaling E1 by and arbitrary number"
   ]
  },
  {
   "cell_type": "markdown",
   "id": "568839f0-2488-440c-87de-f3300e7cee76",
   "metadata": {},
   "source": [
    "<b>Example</b>: <i>Ascertain if the following vectors are linearly dependent or linearly independent</i>"
   ]
  },
  {
   "cell_type": "code",
   "execution_count": 541,
   "id": "f77c21e6-3a72-4cb1-97b4-abd5f02de6aa",
   "metadata": {},
   "outputs": [],
   "source": [
    "# Let c2, c2 and c3 be variables\n",
    "c1, c2, c3 = sp.symbols('c1, c2, c3')"
   ]
  },
  {
   "cell_type": "code",
   "execution_count": 542,
   "id": "cbbd5382-de36-4ab8-a33d-d5464a1db21d",
   "metadata": {},
   "outputs": [],
   "source": [
    "# Let E1 and E2 be vectors\n",
    "E1 = sp.Matrix([1, 0])\n",
    "E2 = sp.Matrix([0, 1])"
   ]
  },
  {
   "cell_type": "code",
   "execution_count": 543,
   "id": "9c31e7f1-5c5f-4056-8f52-8cbf11f20054",
   "metadata": {},
   "outputs": [],
   "source": [
    "E3 = c1 * E1 + c2 * E2\n",
    "E4 = sp.Eq(E3[0:][0], 0)\n",
    "E5 = sp.Eq(E3[1:][0], 0)"
   ]
  },
  {
   "cell_type": "code",
   "execution_count": 544,
   "id": "8a27aeb2-689b-49ec-9b16-0e1b0bbf0d2e",
   "metadata": {},
   "outputs": [
    {
     "data": {
      "text/latex": [
       "$\\displaystyle \\left\\{\\left( 0, \\  0\\right)\\right\\}$"
      ],
      "text/plain": [
       "FiniteSet((0, 0))"
      ]
     },
     "execution_count": 544,
     "metadata": {},
     "output_type": "execute_result"
    }
   ],
   "source": [
    "# Solve as a system of equations\n",
    "sp.linsolve([E4, E5], (c1, c2))"
   ]
  },
  {
   "cell_type": "code",
   "execution_count": 297,
   "id": "3ef44928-3fb2-44fa-af88-1b4b27820a4a",
   "metadata": {},
   "outputs": [],
   "source": [
    "# In the above example are no multiples of c1 or c2 which will produce both vectors. This means \n",
    "# the vectors are linear independent and V2 cannot be obtained by scaling V1 by and arbitrary c"
   ]
  },
  {
   "cell_type": "markdown",
   "id": "d7b62820-b9b1-40f4-887d-19f10ad146fd",
   "metadata": {},
   "source": [
    "#### Linear subspace of $R^n$\n",
    "\n",
    "<b>Note</b>  that one way of defining $\\mathbb{R}^n$  is as a set of all vectors that span $\\mathbb{R}^n$\n",
    " \n",
    "<b>Note</b> that for any set of vectors, $V$, it is defined as linear subspace of $R^{n}$ if the following is true:  \n",
    " \n",
    " 1. V contains the $0$ vector\n",
    " 2. If for any vector $\\vec{x}$ that is in $V$, there also exists $c\\vec{x} $ in $V$, where $c$ is an arbitrary scalar (this means it has <b>closure under multiplication</b>)\n",
    " 3. If for the vector $\\vec{a}$ and the vector $\\vec{b}$ in $V$, $a + b$ also exists in V (this means it has <b>closure under addition</b>)\n",
    " \n",
    "<b>Note</b> that the <b>span</b> is the set of vectors that can be obtained given the properties of its subspace. As an example, the vector $[1, 1]$ is a valid subspace in $\\mathbb{R^1}$. This will be a line and scalable by any real number. \n",
    "\n",
    "<hr/>"
   ]
  },
  {
   "cell_type": "markdown",
   "id": "6aff012e-a355-4ff3-bd69-12e8e7b235f0",
   "metadata": {},
   "source": [
    "<b>Example</b>: <i>Ascertain if the following vector is a subspace</i>"
   ]
  },
  {
   "cell_type": "code",
   "execution_count": 546,
   "id": "d3112781-4a20-43c6-8cd0-e5c8442305bd",
   "metadata": {},
   "outputs": [
    {
     "data": {
      "text/latex": [
       "$\\displaystyle \\left[\\begin{matrix}0\\\\0\\\\0\\end{matrix}\\right]$"
      ],
      "text/plain": [
       "Matrix([\n",
       "[0],\n",
       "[0],\n",
       "[0]])"
      ]
     },
     "execution_count": 546,
     "metadata": {},
     "output_type": "execute_result"
    }
   ],
   "source": [
    "# Let E1 be a vector\n",
    "E1 = sp.Matrix([0, 0, 0])\n",
    "E1"
   ]
  },
  {
   "cell_type": "code",
   "execution_count": 547,
   "id": "7c6c2ccc-7e9e-4904-90a3-06a84949a756",
   "metadata": {},
   "outputs": [],
   "source": [
    "# Note that E1 is a subspace as it fullfills all conditions above"
   ]
  },
  {
   "cell_type": "markdown",
   "id": "653ed0e2-56a4-42d1-b2d3-9d64dad3e1b8",
   "metadata": {},
   "source": [
    "<b>Example</b>: <i>Ascertain if the following set of vectors is a subspace, assuing that $a, b \\ge 0 $"
   ]
  },
  {
   "cell_type": "code",
   "execution_count": 548,
   "id": "ad9412c9-6365-4199-8104-310a250a9dcb",
   "metadata": {},
   "outputs": [],
   "source": [
    "# Let a, b, c be variables\n",
    "a, b, c = sp.symbols('a, b, c')"
   ]
  },
  {
   "cell_type": "code",
   "execution_count": 550,
   "id": "f97f872b-f0dd-4120-b6c4-321e68814c9f",
   "metadata": {},
   "outputs": [
    {
     "data": {
      "text/html": [
       "$\\left[\\begin{matrix}a\\\\b\\end{matrix}\\right]$ &nbsp;&nbsp;$\\left[\\begin{matrix}c\\\\d\\end{matrix}\\right]$ &nbsp;&nbsp;"
      ],
      "text/plain": [
       "<IPython.core.display.HTML object>"
      ]
     },
     "execution_count": 550,
     "metadata": {},
     "output_type": "execute_result"
    }
   ],
   "source": [
    "# Let E1 and E2 be vectors\n",
    "E1 = sp.Matrix([a, b])\n",
    "E2 = sp.Matrix([c, d])\n",
    "RTL([E1, E2])"
   ]
  },
  {
   "cell_type": "code",
   "execution_count": 552,
   "id": "47be66fa-4474-45cc-b236-04aa2fb5fc87",
   "metadata": {},
   "outputs": [
    {
     "data": {
      "text/latex": [
       "$\\displaystyle \\left[\\begin{matrix}- a\\\\- b\\end{matrix}\\right]$"
      ],
      "text/plain": [
       "Matrix([\n",
       "[-a],\n",
       "[-b]])"
      ]
     },
     "execution_count": 552,
     "metadata": {},
     "output_type": "execute_result"
    }
   ],
   "source": [
    "# Scale E1 by a real number\n",
    "-1 * V1"
   ]
  },
  {
   "cell_type": "code",
   "execution_count": 553,
   "id": "0d3dfb1d-af03-45dc-b065-1a6e9bf4be8b",
   "metadata": {},
   "outputs": [],
   "source": [
    "# Note that the above example is not closed under multiplication. As such it is not a subspace. "
   ]
  },
  {
   "cell_type": "markdown",
   "id": "562889e6-0a9f-4bfb-ad5b-c729d9391f67",
   "metadata": {},
   "source": [
    "#### Basis of a subspace \n",
    "\n",
    "<b>Note</b> that if the set of vectors $S$ is defined as all the vectors in some subspace $V$ which are linearly independent, the set $S$ is defined as the of <b>basis</b> of the subspace $V$. \n",
    "\n",
    "<b>Note</b> that the basis of a subspace can be intuited as the minimum set of vectors that spans the subspace. \n",
    "\n",
    "<hr/>"
   ]
  },
  {
   "cell_type": "markdown",
   "id": "debde08c-3df3-4e08-9a6a-80e2881a64b0",
   "metadata": {},
   "source": [
    "#### Vector dot product and vector length, Cauchy-Schwarz and Triangle inequalities\n",
    "\n",
    "<b>Note</b> that the <b>dot product</b> is defined as $\\vec{a} \\cdot \\vec{b}$ and can be intuited as representing how similiary the direction of 2 vectors is. \n",
    "\n",
    "<b>Note</b> that length of a vector (or <b>norm</b>) is the length of a given vector assuming it is in standard position\n",
    "\n",
    "<b>Note</b>  that the <b>Cauchy-Schwarz</b> inequality is defined as: \n",
    "\n",
    "$$ | \\vec{x} \\cdot \\vec{y} | \\le \\lvert \\vec{x} \\rVert \\lVert \\vec{y} \\rVert $$\n",
    "\n",
    "<b>Note</b> that the <b>Triangle Inequality</b> is defined as: \n",
    "\n",
    "$$ \\lVert \\vec{x} + \\vec{y} \\rVert = \\lVert \\vec{x} \\rVert + \\lVert \\vec{y} \\rVert $$\n",
    "\n",
    "<hr/>"
   ]
  },
  {
   "cell_type": "markdown",
   "id": "d4859379-27ca-4875-a136-6c0d17dc5ff8",
   "metadata": {},
   "source": [
    "<b>Example</b>: <i>Find the dot product of the following vectors"
   ]
  },
  {
   "cell_type": "code",
   "execution_count": 557,
   "id": "1aa8a7fc-15f1-4399-b55f-f660d3d4cbc8",
   "metadata": {},
   "outputs": [],
   "source": [
    "# Let E1 and E2 be vectors\n",
    "E1 = sp.Matrix([2, 3])\n",
    "E2 = sp.Matrix([5, 6])"
   ]
  },
  {
   "cell_type": "code",
   "execution_count": 558,
   "id": "4b627521-56c7-437e-b292-a102d1a51770",
   "metadata": {},
   "outputs": [
    {
     "data": {
      "text/latex": [
       "$\\displaystyle 28$"
      ],
      "text/plain": [
       "28"
      ]
     },
     "execution_count": 558,
     "metadata": {},
     "output_type": "execute_result"
    }
   ],
   "source": [
    "# Let E3 be the dot product of E1 and E2\n",
    "E3 = E1.dot(E2)\n",
    "E3"
   ]
  },
  {
   "cell_type": "markdown",
   "id": "413fb9c7-44de-40c5-a509-a0ac27049d95",
   "metadata": {},
   "source": [
    "<b>Example</b>: <i>Find the norm of the vector E1 from the previous example</i>"
   ]
  },
  {
   "cell_type": "code",
   "execution_count": 559,
   "id": "cfc3f062-fa04-4ca2-8c0c-0c5aa59ad52e",
   "metadata": {},
   "outputs": [
    {
     "data": {
      "text/latex": [
       "$\\displaystyle \\sqrt{13}$"
      ],
      "text/plain": [
       "sqrt(13)"
      ]
     },
     "execution_count": 559,
     "metadata": {},
     "output_type": "execute_result"
    }
   ],
   "source": [
    "# Let E4 be the norm of E1\n",
    "E4 = E1.norm()\n",
    "E4"
   ]
  },
  {
   "cell_type": "markdown",
   "id": "b6c6f141-57a7-49a9-8cf2-d7508a4e3c81",
   "metadata": {},
   "source": [
    "#### Defining the angle between vectors\n",
    "\n",
    "<b>Note</b> that the angle between any 2 vectors is defined as: \n",
    "\n",
    "$$ \\cos{\\theta} = \\frac{\\vec{a} \\cdot{b}}  {\\lVert \\vec{a} \\rVert \\cdot \\lVert \\vec{b} \\rVert} $$\n",
    "\n",
    "<b>Note</b> that if $\\theta$ is $90$ degrees, then $\\vec{a} \\cdot \\vec{b} = 0$, or the vectors are perpendicular or <b>orthognal</b>\n",
    "\n",
    "<hr/>"
   ]
  },
  {
   "cell_type": "markdown",
   "id": "15677432-e9b8-4b49-bfdd-3100c77d50fb",
   "metadata": {},
   "source": [
    "#### Defining a plane in $ \\mathbb{R^3}$ with a point and normal vector and distance between planes"
   ]
  },
  {
   "cell_type": "markdown",
   "id": "181df90e-b0a3-4921-8cc2-a53dbe1648f1",
   "metadata": {},
   "source": [
    "<b>Note</b> that an equation in R3 can be written as: \n",
    "\n",
    "$$Ax + By + cZ = D $$\n",
    "\n",
    "for any variable $x, y, z$ will satisfy this equation\n",
    "\n",
    "<b>Note</b> that each point that satisfies the equation will have a relationship to a normal vector that is perpendictular to every vector lying in the plane. \n",
    "\n",
    "<b>Note</b> that becuase of the definition of the dot product, any vector lying on the plane must be perpendicular to the normal vector because the dot product between the vector on the plane and the normal vector is $0$\n",
    "\n",
    "<b>Note</b> that it is important be able to find an equation in the form above, given a point on the plane and and a normal vector the plane (Example given below)\n",
    "\n",
    "<hr/>\n",
    "\n",
    "<b>Example</b>: <i>Find an equation for a plan given given a normal vector to the plane and and 2 arbitrary vectors from the origin to the plane</i>"
   ]
  },
  {
   "cell_type": "code",
   "execution_count": 561,
   "id": "39dfe383-76be-4360-8146-2617d3deaa2f",
   "metadata": {},
   "outputs": [],
   "source": [
    "# Let x0, y0, z0, x, y, z, n1, n2, n3 be variables\n",
    "x0, y0, z0, x, y, z, n1, n2, n3 = sp.symbols('x0, y0, z0, x, y, z, n1, n2, n3')"
   ]
  },
  {
   "cell_type": "code",
   "execution_count": 562,
   "id": "dfbd48df-a2d6-4693-beb8-f03d98245df1",
   "metadata": {},
   "outputs": [
    {
     "data": {
      "text/latex": [
       "$\\displaystyle \\left[\\begin{matrix}n_{1}\\\\n_{2}\\\\n_{3}\\end{matrix}\\right]$"
      ],
      "text/plain": [
       "Matrix([\n",
       "[n1],\n",
       "[n2],\n",
       "[n3]])"
      ]
     },
     "execution_count": 562,
     "metadata": {},
     "output_type": "execute_result"
    }
   ],
   "source": [
    "# Let P be a plane \n",
    "# let N be a normal vector to the plane P from the origin\n",
    "E1 = sp.Matrix([n1, n2, n3])\n",
    "E1"
   ]
  },
  {
   "cell_type": "code",
   "execution_count": 563,
   "id": "5de79df3-949b-43fb-87c9-28b0cf95bcc2",
   "metadata": {},
   "outputs": [
    {
     "data": {
      "text/latex": [
       "$\\displaystyle \\left[\\begin{matrix}x_{0}\\\\y_{0}\\\\z_{0}\\end{matrix}\\right]$"
      ],
      "text/plain": [
       "Matrix([\n",
       "[x0],\n",
       "[y0],\n",
       "[z0]])"
      ]
     },
     "execution_count": 563,
     "metadata": {},
     "output_type": "execute_result"
    }
   ],
   "source": [
    "# let E2 be an arbitrary vector that goes from origin and touches the plane\n",
    "E2 = sp.Matrix([x0, y0, z0])\n",
    "E2"
   ]
  },
  {
   "cell_type": "code",
   "execution_count": 564,
   "id": "65f3c39b-352d-4928-811a-6941b66aaf13",
   "metadata": {},
   "outputs": [
    {
     "data": {
      "text/latex": [
       "$\\displaystyle \\left[\\begin{matrix}x\\\\y\\\\z\\end{matrix}\\right]$"
      ],
      "text/plain": [
       "Matrix([\n",
       "[x],\n",
       "[y],\n",
       "[z]])"
      ]
     },
     "execution_count": 564,
     "metadata": {},
     "output_type": "execute_result"
    }
   ],
   "source": [
    "# let E3 be another arbitrary vector that goes from origin and touches the plane\n",
    "E3 = sp.Matrix([x, y, z])\n",
    "E3"
   ]
  },
  {
   "cell_type": "code",
   "execution_count": 565,
   "id": "6de6898c-c340-4ba7-9f26-498ea7f3f3e0",
   "metadata": {},
   "outputs": [
    {
     "data": {
      "text/latex": [
       "$\\displaystyle \\left[\\begin{matrix}x - x_{0}\\\\y - y_{0}\\\\z - z_{0}\\end{matrix}\\right]$"
      ],
      "text/plain": [
       "Matrix([\n",
       "[x - x0],\n",
       "[y - y0],\n",
       "[z - z0]])"
      ]
     },
     "execution_count": 565,
     "metadata": {},
     "output_type": "execute_result"
    }
   ],
   "source": [
    "# Let E4 be a vector that must lie on the plane as it has been constructed from the difference of E3 and E2\n",
    "E4 = E3 - E2\n",
    "E4"
   ]
  },
  {
   "cell_type": "code",
   "execution_count": 581,
   "id": "f0ce7679-38f9-4b3d-8bad-ea52cf63ae1b",
   "metadata": {},
   "outputs": [],
   "source": [
    "# Note that, by definition, the dot product of E1 and E4 must be 0"
   ]
  },
  {
   "cell_type": "code",
   "execution_count": 567,
   "id": "8379c555-1598-4fb9-b8b6-e7f5191067d3",
   "metadata": {},
   "outputs": [
    {
     "data": {
      "text/latex": [
       "$\\displaystyle n_{1} \\left(x - x_{0}\\right) + n_{2} \\left(y - y_{0}\\right) + n_{3} \\left(z - z_{0}\\right) = 0$"
      ],
      "text/plain": [
       "Eq(n1*(x - x0) + n2*(y - y0) + n3*(z - z0), 0)"
      ]
     },
     "execution_count": 567,
     "metadata": {},
     "output_type": "execute_result"
    }
   ],
   "source": [
    "# Create an equation to represent the relationship between the relationship between E1 and E4\n",
    "E5 = sp.Eq(E1.dot(E4), 0)\n",
    "E5"
   ]
  },
  {
   "cell_type": "code",
   "execution_count": 341,
   "id": "9a88c974-41d4-4f6a-ae6a-cacf8db966c1",
   "metadata": {},
   "outputs": [],
   "source": [
    "# Note that this is in the same form of Ax + By + cZ = D"
   ]
  },
  {
   "cell_type": "markdown",
   "id": "41009f68-c58f-487a-a532-82f0b10094b1",
   "metadata": {},
   "source": [
    "<b>Example</b>: <i>Find an equation for a plane given a normal vector to the plane, and point on the plane</i>"
   ]
  },
  {
   "cell_type": "code",
   "execution_count": 578,
   "id": "57e56137-0c49-4681-970a-c0e054036b4d",
   "metadata": {},
   "outputs": [
    {
     "data": {
      "text/html": [
       "$\\left[\\begin{matrix}1\\\\3\\\\-2\\end{matrix}\\right]$ &nbsp;&nbsp;$\\left[\\begin{matrix}1\\\\2\\\\3\\end{matrix}\\right]$ &nbsp;&nbsp;"
      ],
      "text/plain": [
       "<IPython.core.display.HTML object>"
      ]
     },
     "execution_count": 578,
     "metadata": {},
     "output_type": "execute_result"
    }
   ],
   "source": [
    "# Let E1 be normal vector to a plane P\n",
    "# Let E2 be a point on a plane\n",
    "\n",
    "E1 = sp.Matrix([1, 3, -2])\n",
    "E2 = sp.Matrix([1, 2, 3])\n",
    "\n",
    "RTL([E1, E2])"
   ]
  },
  {
   "cell_type": "code",
   "execution_count": 579,
   "id": "e396d3e1-5cc0-4294-9e61-dc7b4a292f06",
   "metadata": {},
   "outputs": [
    {
     "data": {
      "text/latex": [
       "$\\displaystyle \\left[\\begin{matrix}x\\\\y\\\\z\\end{matrix}\\right]$"
      ],
      "text/plain": [
       "Matrix([\n",
       "[x],\n",
       "[y],\n",
       "[z]])"
      ]
     },
     "execution_count": 579,
     "metadata": {},
     "output_type": "execute_result"
    }
   ],
   "source": [
    "# Let E3 be any arbitrary point on the plane\n",
    "E3 = sp.Matrix([x, y, z])\n",
    "E3"
   ]
  },
  {
   "cell_type": "code",
   "execution_count": 580,
   "id": "87b1be87-3696-4ab4-9867-0c846d79fa56",
   "metadata": {},
   "outputs": [
    {
     "data": {
      "text/latex": [
       "$\\displaystyle \\left[\\begin{matrix}x - 1\\\\y - 2\\\\z - 3\\end{matrix}\\right]$"
      ],
      "text/plain": [
       "Matrix([\n",
       "[x - 1],\n",
       "[y - 2],\n",
       "[z - 3]])"
      ]
     },
     "execution_count": 580,
     "metadata": {},
     "output_type": "execute_result"
    }
   ],
   "source": [
    "# Let E4 be a vector that must, by definition, lie on the plane \n",
    "E4 = E3 - E2\n",
    "E4"
   ]
  },
  {
   "cell_type": "code",
   "execution_count": 576,
   "id": "167f218f-f9ef-42b8-90c4-d160f5d7d544",
   "metadata": {},
   "outputs": [
    {
     "data": {
      "text/latex": [
       "$\\displaystyle x + 3 y - 2 z - 1 = 0$"
      ],
      "text/plain": [
       "Eq(x + 3*y - 2*z - 1, 0)"
      ]
     },
     "execution_count": 576,
     "metadata": {},
     "output_type": "execute_result"
    }
   ],
   "source": [
    "# Note that, by definition, the dot product of E1 and E4 must be 0\n",
    "# Let E5 be an expression for the equation of the plane the defintion of the dot product where 0 implies perpendicularity\n",
    "E5 = sp.Eq(E1.dot(E4), 0)\n",
    "E5"
   ]
  },
  {
   "cell_type": "markdown",
   "id": "c6755599-13cc-4573-854d-6dc2a1e7b195",
   "metadata": {},
   "source": [
    "<b>Example</b>: <i> If the distance between the plane $Ax - 2y + z = d$ and the plane containing the lines $\\frac{x - 1}{2} = \\frac{y-2}{3} = \\frac{z-3}{4} $ and \n",
    "$\\frac{x - 2}{3} = \\frac{y-3}{4} = \\frac{z-4}{5} $ is $\\sqrt{6}$, then find a value for $|d|$ </i>"
   ]
  },
  {
   "cell_type": "code",
   "execution_count": 582,
   "id": "26e43132-9c2f-49d1-9d1d-439bcfd78ce9",
   "metadata": {},
   "outputs": [],
   "source": [
    "# Note that if the distance is sqrt(6) this implies that the planes never intersect and, as such, must be parallel\n",
    "# Let P1 be the plane Ax - 2y + z = d\n",
    "# Let P2 be the other plane"
   ]
  },
  {
   "cell_type": "code",
   "execution_count": 583,
   "id": "59cf0045-6b4b-4a9d-817a-0a5fae2ebfbf",
   "metadata": {},
   "outputs": [
    {
     "data": {
      "text/html": [
       "$\\frac{x}{2} - \\frac{y}{3} - \\frac{z}{4} + \\frac{11}{12} = 0$ &nbsp;&nbsp;$\\frac{x}{3} - \\frac{y}{4} - \\frac{z}{5} + \\frac{133}{60} = 0$ &nbsp;&nbsp;"
      ],
      "text/plain": [
       "<IPython.core.display.HTML object>"
      ]
     },
     "execution_count": 583,
     "metadata": {},
     "output_type": "execute_result"
    }
   ],
   "source": [
    "# Let E1 and E2 be that equations of the lines in P2\n",
    "E1 = sp.Eq((x - 1) / 2 - (y - 2)/3 - (z - 3)/4, 0)\n",
    "E2 = sp.Eq((x + 2) / 3 - (y-3)/4 - (z-4)/5, 0)\n",
    "\n",
    "RTL([E1, E2])"
   ]
  },
  {
   "cell_type": "code",
   "execution_count": 354,
   "id": "5e26f920-3063-4787-9d08-a4a35456deac",
   "metadata": {},
   "outputs": [
    {
     "name": "stdout",
     "output_type": "stream",
     "text": [
      "True True True\n"
     ]
    }
   ],
   "source": [
    "# Find values of x, y, z that satisfy x, y, z of lines in P2. To do this, choose two arbitrary values, and solve for the third\n",
    "\n",
    "# find points that are on the plane\n",
    "E3 = E1.subs({x: 1, y: 2, z:3})\n",
    "E4 = E1.subs({x: 2, y: 3, z: 11/3})\n",
    "E5 = E2.subs({x: 3, y: 4, z: 133/12})\n",
    "print(E3, E4, E5)\n",
    "\n"
   ]
  },
  {
   "cell_type": "code",
   "execution_count": 356,
   "id": "69516835-6b49-4b0b-a923-7e862aa09bfd",
   "metadata": {},
   "outputs": [
    {
     "data": {
      "text/html": [
       "$\\left[\\begin{matrix}1\\\\2\\\\3\\end{matrix}\\right]$ &nbsp;&nbsp;$\\left[\\begin{matrix}2\\\\3\\\\3.66666666666667\\end{matrix}\\right]$ &nbsp;&nbsp;$\\left[\\begin{matrix}3\\\\4\\\\11.0833333333333\\end{matrix}\\right]$ &nbsp;&nbsp;"
      ],
      "text/plain": [
       "<IPython.core.display.HTML object>"
      ]
     },
     "execution_count": 356,
     "metadata": {},
     "output_type": "execute_result"
    }
   ],
   "source": [
    "# Let E6, E7 anbd E8 be three points on P2\n",
    "E6 = sp.Matrix([1, 2, 3])\n",
    "E7 = sp.Matrix([2, 3, 11/3])\n",
    "E8 = sp.Matrix([3, 4, 133/12])\n",
    "RTL([E6, E7, E8])"
   ]
  },
  {
   "cell_type": "code",
   "execution_count": 359,
   "id": "c67228a2-5142-4749-a882-0af353cb0d40",
   "metadata": {},
   "outputs": [
    {
     "data": {
      "text/html": [
       "$\\left[\\begin{matrix}1\\\\1\\\\0.666666666666667\\end{matrix}\\right]$ &nbsp;&nbsp;$\\left[\\begin{matrix}1\\\\1\\\\7.41666666666667\\end{matrix}\\right]$ &nbsp;&nbsp;"
      ],
      "text/plain": [
       "<IPython.core.display.HTML object>"
      ]
     },
     "execution_count": 359,
     "metadata": {},
     "output_type": "execute_result"
    }
   ],
   "source": [
    "# Let E9 and E10 be vectors in P2, constructed from the points E6, E7 and E8\n",
    "E9 = E7 - E6\n",
    "E10 = E8 - E7\n",
    "RTL([E9, E10])"
   ]
  },
  {
   "cell_type": "code",
   "execution_count": 360,
   "id": "22c36e20-6fb4-41e7-98a8-cf9cd0e464dd",
   "metadata": {},
   "outputs": [
    {
     "data": {
      "text/latex": [
       "$\\displaystyle \\left[\\begin{matrix}6.75\\\\-6.75\\\\0\\end{matrix}\\right]$"
      ],
      "text/plain": [
       "Matrix([\n",
       "[ 6.75],\n",
       "[-6.75],\n",
       "[    0]])"
      ]
     },
     "execution_count": 360,
     "metadata": {},
     "output_type": "execute_result"
    }
   ],
   "source": [
    "# Let E11 be a normal vector to P2, created from the cross product of E9 and E10\n",
    "E11 = E9.cross(E10)\n",
    "E11"
   ]
  },
  {
   "cell_type": "code",
   "execution_count": 588,
   "id": "12301f65-bcb8-4b5f-ad66-ce1f69c41e91",
   "metadata": {},
   "outputs": [
    {
     "data": {
      "text/latex": [
       "$\\displaystyle \\left[\\begin{matrix}x\\\\y\\\\z\\end{matrix}\\right]$"
      ],
      "text/plain": [
       "Matrix([\n",
       "[x],\n",
       "[y],\n",
       "[z]])"
      ]
     },
     "execution_count": 588,
     "metadata": {},
     "output_type": "execute_result"
    }
   ],
   "source": [
    "# Let E12 be an arbitrary point on P2\n",
    "E12 = sp.Matrix([x, y, z])\n",
    "E12"
   ]
  },
  {
   "cell_type": "code",
   "execution_count": 589,
   "id": "61fd8797-8c32-4805-80bb-4e2e6388f322",
   "metadata": {},
   "outputs": [
    {
     "data": {
      "text/latex": [
       "$\\displaystyle \\left[\\begin{matrix}x - 1\\\\y - 1\\\\z - 7.41666666666667\\end{matrix}\\right]$"
      ],
      "text/plain": [
       "Matrix([\n",
       "[               x - 1],\n",
       "[               y - 1],\n",
       "[z - 7.41666666666667]])"
      ]
     },
     "execution_count": 589,
     "metadata": {},
     "output_type": "execute_result"
    }
   ],
   "source": [
    "# Let E12 be a vector, that must, by definition lie on the plane P2\n",
    "E13 = E12 - E10\n",
    "E13"
   ]
  },
  {
   "cell_type": "code",
   "execution_count": 590,
   "id": "6e19258a-c8a0-443c-aae0-48629cec68ab",
   "metadata": {},
   "outputs": [
    {
     "data": {
      "text/latex": [
       "$\\displaystyle 6.75 x - 6.75 y = 0$"
      ],
      "text/plain": [
       "Eq(6.75*x - 6.75*y, 0)"
      ]
     },
     "execution_count": 590,
     "metadata": {},
     "output_type": "execute_result"
    }
   ],
   "source": [
    "# Let E14 be the equation of the plane P2\n",
    "E14 = sp.Eq(E11.dot(E12), 0)\n",
    "E14"
   ]
  },
  {
   "cell_type": "markdown",
   "id": "b99d533f-a7a1-456d-aee3-3c722dcc6dc3",
   "metadata": {},
   "source": [
    "#### Cross Product\n",
    "\n",
    "<b>Note</b> that <b>cross product</b> is only defined in $\\mathbb{R^3}$ and is an operation on 2 vectors, $A$ and $B$, which produces a third vector that is orthogonal to both $A$ and $B$.  \n",
    "\n",
    "<hr/>"
   ]
  },
  {
   "cell_type": "code",
   "execution_count": 592,
   "id": "b52dec3c-b12d-4e26-a3c2-0a9f3bb1619d",
   "metadata": {},
   "outputs": [
    {
     "data": {
      "text/html": [
       "$\\left[\\begin{matrix}a_{1}\\\\a_{2}\\\\a_{3}\\end{matrix}\\right]$ &nbsp;&nbsp;$\\left[\\begin{matrix}b_{1}\\\\b_{2}\\\\b_{3}\\end{matrix}\\right]$ &nbsp;&nbsp;"
      ],
      "text/plain": [
       "<IPython.core.display.HTML object>"
      ]
     },
     "execution_count": 592,
     "metadata": {},
     "output_type": "execute_result"
    }
   ],
   "source": [
    "# The cross product formul can be shown using SymPy\n",
    "A = sp.Matrix([a1, a2, a3])\n",
    "B = sp.Matrix([b1, b2, b3])\n",
    "\n",
    "RTL([A, B])"
   ]
  },
  {
   "cell_type": "code",
   "execution_count": 268,
   "id": "c5b628d7-57c4-49fd-89dd-5a67e8a40993",
   "metadata": {},
   "outputs": [
    {
     "data": {
      "text/latex": [
       "$\\displaystyle \\left[\\begin{matrix}a_{2} b_{3} - a_{3} b_{2}\\\\- a_{1} b_{3} + a_{3} b_{1}\\\\a_{1} b_{2} - a_{2} b_{1}\\end{matrix}\\right]$"
      ],
      "text/plain": [
       "Matrix([\n",
       "[ a2*b3 - a3*b2],\n",
       "[-a1*b3 + a3*b1],\n",
       "[ a1*b2 - a2*b1]])"
      ]
     },
     "execution_count": 268,
     "metadata": {},
     "output_type": "execute_result"
    }
   ],
   "source": [
    "A.cross(B)"
   ]
  },
  {
   "cell_type": "code",
   "execution_count": 593,
   "id": "5c565e30-efcb-4fec-8aad-8a9f90f72dcf",
   "metadata": {},
   "outputs": [
    {
     "data": {
      "text/latex": [
       "$\\displaystyle 0$"
      ],
      "text/plain": [
       "0"
      ]
     },
     "execution_count": 593,
     "metadata": {},
     "output_type": "execute_result"
    }
   ],
   "source": [
    "# Note that it is orthogaonal\n",
    "A.cross(B).dot(B).simplify()"
   ]
  },
  {
   "cell_type": "markdown",
   "id": "59899c88-0503-410e-9705-57b693bdb69a",
   "metadata": {},
   "source": [
    "<b>Example</b>: <i>Find the cross product of 2 given vectors </i>"
   ]
  },
  {
   "cell_type": "code",
   "execution_count": 594,
   "id": "1c67df4c-311a-45c4-8181-262ff28cf200",
   "metadata": {},
   "outputs": [
    {
     "data": {
      "text/html": [
       "$\\left[\\begin{matrix}1\\\\-7\\\\1\\end{matrix}\\right]$ &nbsp;&nbsp;$\\left[\\begin{matrix}5\\\\2\\\\4\\end{matrix}\\right]$ &nbsp;&nbsp;"
      ],
      "text/plain": [
       "<IPython.core.display.HTML object>"
      ]
     },
     "execution_count": 594,
     "metadata": {},
     "output_type": "execute_result"
    }
   ],
   "source": [
    "# Let E1 and E2 be vectors\n",
    "E1 = sp.Matrix([1, -7, 1])\n",
    "E2 = sp.Matrix([5, 2, 4])\n",
    "RTL([E1, E2])"
   ]
  },
  {
   "cell_type": "code",
   "execution_count": 595,
   "id": "b0ce9adb-d0e7-45c7-a5ff-f98eaf0bff53",
   "metadata": {},
   "outputs": [
    {
     "data": {
      "text/latex": [
       "$\\displaystyle \\left[\\begin{matrix}-30\\\\1\\\\37\\end{matrix}\\right]$"
      ],
      "text/plain": [
       "Matrix([\n",
       "[-30],\n",
       "[  1],\n",
       "[ 37]])"
      ]
     },
     "execution_count": 595,
     "metadata": {},
     "output_type": "execute_result"
    }
   ],
   "source": [
    "E3 = E1.cross(E2)\n",
    "E3"
   ]
  },
  {
   "cell_type": "code",
   "execution_count": 596,
   "id": "d3219e12-1492-450f-a3c1-2a8cc6712674",
   "metadata": {},
   "outputs": [],
   "source": [
    "# Note that, in the above example, E1 and E2 lie on a plane in R3. E3 is an orthoganal to E1 and E2. Its direction from the plane can be \n",
    "# intuited using the right hand rule. "
   ]
  },
  {
   "cell_type": "markdown",
   "id": "a00773e5-3366-493a-8e9d-3432c24d045a",
   "metadata": {},
   "source": [
    "#### Relationship between cross product and sin of an angle\n",
    "\n",
    "<b>Note</b> the following definition thatarises from algebraic manipulation and trig identities    \n",
    "\n",
    "$$ \\lVert \\vec{a} \\times \\vec{b} \\rVert = \\lVert \\vec{a} \\rVert  \\lVert \\vec{b} \\rVert \\sin{\\theta} $$\n",
    "\n",
    "<hr/>\n"
   ]
  },
  {
   "cell_type": "markdown",
   "id": "d4d163e5-70cb-4a95-8cb8-459e38e54261",
   "metadata": {},
   "source": [
    "#### Matrix vector products\n",
    "\n",
    "<b>Note</b> than an $ m \\times n $ is defined as having $m$ rows and $n$ columns\n",
    "\n",
    "<b>Note</b> that it is possible to obtain the <b>product of any matrix and a vector</b>  if the matrix is of size $ m \\times n $ and the vector is of size $n$\n",
    "\n",
    "<b>Note</b> that matrix multiplication can be intuited as a weighted combination of column vectors or the dot product of the row vectors\n",
    "\n",
    "<hr/>"
   ]
  },
  {
   "cell_type": "markdown",
   "id": "837724db-bbd8-43cb-a812-cbc00e568014",
   "metadata": {},
   "source": [
    "<b>Example</b>: <i> Find the product of the following matrix and vector </i>"
   ]
  },
  {
   "cell_type": "code",
   "execution_count": 597,
   "id": "3b917d2b-255a-4553-b783-e2264cdfc15f",
   "metadata": {},
   "outputs": [
    {
     "data": {
      "text/latex": [
       "$\\displaystyle \\left[\\begin{matrix}-3 & 0 & 3 & 2\\\\1 & 7 & -1 & 9\\end{matrix}\\right]$"
      ],
      "text/plain": [
       "Matrix([\n",
       "[-3, 0,  3, 2],\n",
       "[ 1, 7, -1, 9]])"
      ]
     },
     "execution_count": 597,
     "metadata": {},
     "output_type": "execute_result"
    }
   ],
   "source": [
    "# Let E1 be a matrix\n",
    "E1 = sp.Matrix([[-3, 0, 3, 2], [1, 7, -1, 9]])\n",
    "E1"
   ]
  },
  {
   "cell_type": "code",
   "execution_count": 598,
   "id": "e7b518c3-0e7b-4f40-bcee-0d7f6145c653",
   "metadata": {},
   "outputs": [
    {
     "data": {
      "text/latex": [
       "$\\displaystyle \\left[\\begin{matrix}2\\\\-3\\\\4\\\\-1\\end{matrix}\\right]$"
      ],
      "text/plain": [
       "Matrix([\n",
       "[ 2],\n",
       "[-3],\n",
       "[ 4],\n",
       "[-1]])"
      ]
     },
     "execution_count": 598,
     "metadata": {},
     "output_type": "execute_result"
    }
   ],
   "source": [
    "# Let E2 be a vector\n",
    "E2 = sp.Matrix([2, -3, 4, -1])\n",
    "E2"
   ]
  },
  {
   "cell_type": "code",
   "execution_count": 599,
   "id": "040d778c-fa47-4b07-a282-9b92d1e7093d",
   "metadata": {},
   "outputs": [
    {
     "data": {
      "text/latex": [
       "$\\displaystyle \\left[\\begin{matrix}4\\\\-32\\end{matrix}\\right]$"
      ],
      "text/plain": [
       "Matrix([\n",
       "[  4],\n",
       "[-32]])"
      ]
     },
     "execution_count": 599,
     "metadata": {},
     "output_type": "execute_result"
    }
   ],
   "source": [
    "# Let E3 be be the product of E1 and E2\n",
    "E3 = E1 * E2\n",
    "E3"
   ]
  },
  {
   "cell_type": "code",
   "execution_count": 600,
   "id": "e2b419c0-0341-444d-bcf8-aeb69168c617",
   "metadata": {},
   "outputs": [],
   "source": [
    "# Note in the above example that E1 is an M x N matrix, and E2 is a vector of size N (or a matrix of size N X 1)\n",
    "# After the computation, (M x N) * (N * 1) the answer will have dimensions (M x 1)"
   ]
  },
  {
   "cell_type": "markdown",
   "id": "95403ad8-3a52-4088-8a74-165de2c7d049",
   "metadata": {},
   "source": [
    "<b>Example</b>: <i> Find the product of the following matrix (composed of vectors) and vector using dot products </i>"
   ]
  },
  {
   "cell_type": "code",
   "execution_count": 601,
   "id": "6ff4e24f-b335-4527-83a2-db09929fe62c",
   "metadata": {},
   "outputs": [
    {
     "data": {
      "text/html": [
       "$\\left[\\begin{matrix}-3\\\\0\\\\3\\\\2\\end{matrix}\\right]$ &nbsp;&nbsp;$\\left[\\begin{matrix}1\\\\7\\\\-1\\\\9\\end{matrix}\\right]$ &nbsp;&nbsp;"
      ],
      "text/plain": [
       "<IPython.core.display.HTML object>"
      ]
     },
     "execution_count": 601,
     "metadata": {},
     "output_type": "execute_result"
    }
   ],
   "source": [
    "# Let E1 and E2 be vectors\n",
    "E1 = sp.Matrix([-3, 0, 3, 2])\n",
    "E2 = sp.Matrix([1, 7, -1, 9])\n",
    "RTL([E1, E2])"
   ]
  },
  {
   "cell_type": "code",
   "execution_count": 605,
   "id": "e1cf1e0e-1a34-4f4e-88db-d72078c3514f",
   "metadata": {},
   "outputs": [
    {
     "data": {
      "text/latex": [
       "$\\displaystyle \\left[\\begin{matrix}-3 & 0 & 3 & 2\\\\1 & 7 & -1 & 9\\end{matrix}\\right]$"
      ],
      "text/plain": [
       "Matrix([\n",
       "[-3, 0,  3, 2],\n",
       "[ 1, 7, -1, 9]])"
      ]
     },
     "execution_count": 605,
     "metadata": {},
     "output_type": "execute_result"
    }
   ],
   "source": [
    "# Note that E1 and E2 can be transformed into a matrix\n",
    "E3 = sp.Matrix([E1.T, E2.T])\n",
    "E3"
   ]
  },
  {
   "cell_type": "code",
   "execution_count": 603,
   "id": "66d9e43a-5d0e-481f-b719-e801afece5db",
   "metadata": {},
   "outputs": [
    {
     "data": {
      "text/latex": [
       "$\\displaystyle \\left[\\begin{matrix}2\\\\-3\\\\4\\\\-1\\end{matrix}\\right]$"
      ],
      "text/plain": [
       "Matrix([\n",
       "[ 2],\n",
       "[-3],\n",
       "[ 4],\n",
       "[-1]])"
      ]
     },
     "execution_count": 603,
     "metadata": {},
     "output_type": "execute_result"
    }
   ],
   "source": [
    "# Let E4 be a vector\n",
    "E4 = sp.Matrix([2, -3, 4, -1])\n",
    "E4"
   ]
  },
  {
   "cell_type": "code",
   "execution_count": 608,
   "id": "c6024f3e-38f7-4201-851b-7b892d4ce1ea",
   "metadata": {},
   "outputs": [
    {
     "data": {
      "text/latex": [
       "$\\displaystyle 4$"
      ],
      "text/plain": [
       "4"
      ]
     },
     "execution_count": 608,
     "metadata": {},
     "output_type": "execute_result"
    }
   ],
   "source": [
    "# Let E5 be the dot product of E1 and E4\n",
    "E5 = E1.dot(E4)\n",
    "E5"
   ]
  },
  {
   "cell_type": "code",
   "execution_count": 609,
   "id": "117ab3b2-788e-45ff-b46f-0e427bdd7e58",
   "metadata": {},
   "outputs": [
    {
     "data": {
      "text/latex": [
       "$\\displaystyle -32$"
      ],
      "text/plain": [
       "-32"
      ]
     },
     "execution_count": 609,
     "metadata": {},
     "output_type": "execute_result"
    }
   ],
   "source": [
    "# Let E6 be the dot product of E1 and E4\n",
    "E6 = E2.dot(E4)\n",
    "E6"
   ]
  },
  {
   "cell_type": "code",
   "execution_count": 619,
   "id": "c6c6be4f-3934-4048-988e-c936004065bd",
   "metadata": {},
   "outputs": [
    {
     "data": {
      "text/latex": [
       "$\\displaystyle \\left[\\begin{matrix}3 & 1 & 5 & 3\\\\2 & 4 & 7 & 9\\\\-1 & 2 & 3 & 4\\end{matrix}\\right]$"
      ],
      "text/plain": [
       "Matrix([\n",
       "[ 3, 1, 5, 3],\n",
       "[ 2, 4, 7, 9],\n",
       "[-1, 2, 3, 4]])"
      ]
     },
     "execution_count": 619,
     "metadata": {},
     "output_type": "execute_result"
    }
   ],
   "source": [
    "# Let E1 be a matrix\n",
    "E1 = sp.Matrix([[3, 1, 5, 3], [2,4, 7, 9], [-1, 2, 3, 4]])\n",
    "E1"
   ]
  },
  {
   "cell_type": "code",
   "execution_count": 620,
   "id": "59455c4f-a40e-4885-ae64-54b149fde4ae",
   "metadata": {},
   "outputs": [
    {
     "data": {
      "text/latex": [
       "$\\displaystyle \\left[\\begin{matrix}x_{1}\\\\x_{2}\\\\x_{3}\\\\x_{4}\\end{matrix}\\right]$"
      ],
      "text/plain": [
       "Matrix([\n",
       "[x1],\n",
       "[x2],\n",
       "[x3],\n",
       "[x4]])"
      ]
     },
     "execution_count": 620,
     "metadata": {},
     "output_type": "execute_result"
    }
   ],
   "source": [
    "# Let E2 be a vector\n",
    "E2 = sp.Matrix([x1, x2, x3, x4])\n",
    "E2"
   ]
  },
  {
   "cell_type": "code",
   "execution_count": 621,
   "id": "50a8d297-ec45-4f52-96e7-90c4293c1eda",
   "metadata": {},
   "outputs": [
    {
     "data": {
      "text/latex": [
       "$\\displaystyle \\left[\\begin{matrix}3 x_{1} + x_{2} + 5 x_{3} + 3 x_{4}\\\\2 x_{1} + 4 x_{2} + 7 x_{3} + 9 x_{4}\\\\- x_{1} + 2 x_{2} + 3 x_{3} + 4 x_{4}\\end{matrix}\\right]$"
      ],
      "text/plain": [
       "Matrix([\n",
       "[  3*x1 + x2 + 5*x3 + 3*x4],\n",
       "[2*x1 + 4*x2 + 7*x3 + 9*x4],\n",
       "[ -x1 + 2*x2 + 3*x3 + 4*x4]])"
      ]
     },
     "execution_count": 621,
     "metadata": {},
     "output_type": "execute_result"
    }
   ],
   "source": [
    "# Let E3 be the product of E1 and E2\n",
    "E3 = E1 * E2\n",
    "E3"
   ]
  },
  {
   "cell_type": "code",
   "execution_count": 623,
   "id": "1c31c366-e625-4ec6-8528-86584ed7b77d",
   "metadata": {},
   "outputs": [],
   "source": [
    "# Note the the previous examples demonstrates that that matrix can be intuited as a linear combination of given vector"
   ]
  },
  {
   "cell_type": "markdown",
   "id": "abb43859-3b0f-4743-af01-703f3eca2605",
   "metadata": {},
   "source": [
    "#### Null space of a matrix\n",
    "\n",
    "<b>Note</b> that a <b>Null space</b> is a subspace with additional conditions place on it. \n",
    "\n",
    "<b>Note</b> that if $A$ is  and $m \\times n$ vector and that for some $A$ it is the case that $A \\vec{x} = 0$, then it is possible pose that question that asks the following question: \n",
    "\n",
    "$$ \\text{For all members of x that are in $\\mathbb{R^n}$, are these members within a valid subspace?} $$\n",
    "\n",
    "<b>Note</b> that this is the same ask asking if $N$ can be a valid subspace where: \n",
    "\n",
    "$$N = \\{ \\vec{x} \\in \\mathbb{R^n} | A \\vec{x} = \\vec{0} \\} $$\n",
    "\n",
    "<b>Note that this turns out to be possible to obtain. The null space is thus a special subspace, often written as: \n",
    "\n",
    "$$N = N(A) \\text{ or the null space of A} $$\n",
    "    \n",
    "\n",
    "<hr/>\n",
    "\n"
   ]
  },
  {
   "cell_type": "markdown",
   "id": "7e852619-7b9d-4daa-8f0a-221b651ee758",
   "metadata": {},
   "source": [
    "<b>Example</b>: <i>Given a matrix, find all $\\vec{x}$ that make a valid null space of the matrix</i>"
   ]
  },
  {
   "cell_type": "code",
   "execution_count": 699,
   "id": "23dbb920-f201-41d4-a01a-0285420a1107",
   "metadata": {},
   "outputs": [],
   "source": [
    "# Let x1, x2, x3, x4 be variables \n",
    "x1, x2, x3, x4 = sp.symbols('x1, x2, x3, x4')"
   ]
  },
  {
   "cell_type": "code",
   "execution_count": 700,
   "id": "969413f8-4034-48c9-94ec-da71884b1c4f",
   "metadata": {},
   "outputs": [
    {
     "data": {
      "text/html": [
       "$\\left[\\begin{matrix}1 & 1 & 1 & 1\\\\1 & 2 & 3 & 4\\\\4 & 3 & 2 & 1\\end{matrix}\\right]$ &nbsp;&nbsp;$\\left[\\begin{matrix}x_{1}\\\\x_{2}\\\\x_{3}\\\\x_{4}\\end{matrix}\\right]$ &nbsp;&nbsp;"
      ],
      "text/plain": [
       "<IPython.core.display.HTML object>"
      ]
     },
     "execution_count": 700,
     "metadata": {},
     "output_type": "execute_result"
    }
   ],
   "source": [
    "# Let E1 be a matrix\n",
    "# Let E2 be a vector\n",
    "E1 = sp.Matrix([[1, 1, 1, 1], \n",
    "               [1, 2, 3, 4],\n",
    "               [4, 3, 2, 1]])\n",
    "E2 = sp.Matrix([x1, x2, x3, x4])\n",
    "\n",
    "RTL([E1, E2])"
   ]
  },
  {
   "cell_type": "code",
   "execution_count": 701,
   "id": "25feeb28-5343-4d28-b362-d128c6f2ea14",
   "metadata": {},
   "outputs": [
    {
     "data": {
      "text/latex": [
       "$\\displaystyle \\left[\\begin{matrix}x_{1} + x_{2} + x_{3} + x_{4}\\\\x_{1} + 2 x_{2} + 3 x_{3} + 4 x_{4}\\\\4 x_{1} + 3 x_{2} + 2 x_{3} + x_{4}\\end{matrix}\\right] = \\left[\\begin{matrix}0\\\\0\\\\0\\end{matrix}\\right]$"
      ],
      "text/plain": [
       "Eq(Matrix([\n",
       "[      x1 + x2 + x3 + x4],\n",
       "[x1 + 2*x2 + 3*x3 + 4*x4],\n",
       "[4*x1 + 3*x2 + 2*x3 + x4]]), Matrix([\n",
       "[0],\n",
       "[0],\n",
       "[0]]))"
      ]
     },
     "execution_count": 701,
     "metadata": {},
     "output_type": "execute_result"
    }
   ],
   "source": [
    "# Let E3 the product of E1 and E2, set to 0\n",
    "E3 = sp.Eq(E1 * E2, sp.Matrix([0, 0, 0]))\n",
    "E3"
   ]
  },
  {
   "cell_type": "code",
   "execution_count": 702,
   "id": "8abd05b3-64f8-4a49-816f-5e93230e878e",
   "metadata": {},
   "outputs": [
    {
     "data": {
      "text/html": [
       "$\\left[\\begin{matrix}1\\\\-2\\\\1\\\\0\\end{matrix}\\right]$ &nbsp;&nbsp;$\\left[\\begin{matrix}2\\\\-3\\\\0\\\\1\\end{matrix}\\right]$ &nbsp;&nbsp;"
      ],
      "text/plain": [
       "<IPython.core.display.HTML object>"
      ]
     },
     "execution_count": 702,
     "metadata": {},
     "output_type": "execute_result"
    }
   ],
   "source": [
    "# Let E4 be the null space of E1. Note that this could be obtained by solving E3, but there is also a method in SymPy which provides the answer\n",
    "E4 = E1.nullspace()\n",
    "RTL(E4)"
   ]
  },
  {
   "cell_type": "code",
   "execution_count": 703,
   "id": "bb83cb88-4b33-4114-afa0-efd62ee3ce23",
   "metadata": {},
   "outputs": [],
   "source": [
    "# Note that in the above example returns the the nullspace to a homogenous equation (set to 0). It allows the matrix to be rewritten as a linear combination of \n",
    "# vectors (in this case x3 and x4) that will span the null space of the matrix. "
   ]
  },
  {
   "cell_type": "markdown",
   "id": "1803496e-b702-4f1a-84f1-82450629adda",
   "metadata": {},
   "source": [
    "#### Relation of null space to linear independence\n",
    "\n",
    "<b>Note</b> that if the null space of a matrix contains only the zero vector, this means that columns of the matrix are linearly indpendent. \n",
    "\n",
    "<b>Note</b> that this can be written as follows: \n",
    "\n",
    "$$ \\text{iff }  N(A) =  \\vec{0 } \\text{  , the columns of the matrix must be linearly independent} $$\n",
    "\n",
    "<hr/>\n"
   ]
  },
  {
   "cell_type": "markdown",
   "id": "95d97bad-cd8b-4213-a760-213a797abb22",
   "metadata": {},
   "source": [
    "<b>Example</b>: <i> Show that the columns in the following matrix are linearly dependent </i>"
   ]
  },
  {
   "cell_type": "code",
   "execution_count": 713,
   "id": "206862c6-05a0-408d-bfcc-fc0074f669c9",
   "metadata": {},
   "outputs": [],
   "source": [
    "# Let x1, x2, x3, x4 be variables\n",
    "x1, x2, x3, x4 = sp.symbols('x1, x2, x3, x4')"
   ]
  },
  {
   "cell_type": "code",
   "execution_count": 714,
   "id": "8e126496-1f4a-4779-8877-ad56e3c57ec6",
   "metadata": {},
   "outputs": [
    {
     "data": {
      "text/html": [
       "$\\left[\\begin{matrix}1 & 1 & 1\\\\2 & 2 & 2\\\\4 & 4 & 4\\end{matrix}\\right]$ &nbsp;&nbsp;$\\left[\\begin{matrix}x_{1}\\\\x_{2}\\\\x_{3}\\end{matrix}\\right]$ &nbsp;&nbsp;"
      ],
      "text/plain": [
       "<IPython.core.display.HTML object>"
      ]
     },
     "execution_count": 714,
     "metadata": {},
     "output_type": "execute_result"
    }
   ],
   "source": [
    "# Let E1 be a matrix \n",
    "# Let E2 be a vector\n",
    "E1 = sp.Matrix([[1, 1, 1], [2, 2, 2], [4, 4, 4]])\n",
    "E2 = sp.Matrix([x1, x2, x3])\n",
    "RTL([E1, E2])"
   ]
  },
  {
   "cell_type": "code",
   "execution_count": 715,
   "id": "bca5df99-62b8-4d5a-80f2-9283016ab2c5",
   "metadata": {},
   "outputs": [
    {
     "data": {
      "text/latex": [
       "$\\displaystyle \\left[\\begin{matrix}x_{1} + x_{2} + x_{3}\\\\2 x_{1} + 2 x_{2} + 2 x_{3}\\\\4 x_{1} + 4 x_{2} + 4 x_{3}\\end{matrix}\\right] = \\left[\\begin{matrix}0\\\\0\\\\0\\end{matrix}\\right]$"
      ],
      "text/plain": [
       "Eq(Matrix([\n",
       "[      x1 + x2 + x3],\n",
       "[2*x1 + 2*x2 + 2*x3],\n",
       "[4*x1 + 4*x2 + 4*x3]]), Matrix([\n",
       "[0],\n",
       "[0],\n",
       "[0]]))"
      ]
     },
     "execution_count": 715,
     "metadata": {},
     "output_type": "execute_result"
    }
   ],
   "source": [
    "# Let E3 be the product of the matrix E1 and E2 set to zero\n",
    "E3 = sp.Eq(E1 * E2, sp.Matrix([0, 0, 0]))\n",
    "E3"
   ]
  },
  {
   "cell_type": "code",
   "execution_count": 716,
   "id": "7c9fa508-8c31-4ba2-9994-40f8990a9dd3",
   "metadata": {},
   "outputs": [
    {
     "data": {
      "text/html": [
       "$\\left[\\begin{matrix}-1\\\\1\\\\0\\end{matrix}\\right]$ &nbsp;&nbsp;$\\left[\\begin{matrix}-1\\\\0\\\\1\\end{matrix}\\right]$ &nbsp;&nbsp;"
      ],
      "text/plain": [
       "<IPython.core.display.HTML object>"
      ]
     },
     "execution_count": 716,
     "metadata": {},
     "output_type": "execute_result"
    }
   ],
   "source": [
    "# Let E4 be the solutions to E3\n",
    "E4 = E1.nullspace()\n",
    "RTL(E4)"
   ]
  },
  {
   "cell_type": "code",
   "execution_count": 717,
   "id": "21e70b3f-a163-4818-bea8-947d9c451216",
   "metadata": {},
   "outputs": [],
   "source": [
    "# Note in the above example, the null space does not only contain the zero vector. Therefore the matrix E1 is linearly dependent"
   ]
  },
  {
   "cell_type": "markdown",
   "id": "941f9760-0c7f-4b87-a329-c72e39699724",
   "metadata": {},
   "source": [
    "<b>Example</b>: <i> Show that the columns in the following matrix are linearly dependent </i>"
   ]
  },
  {
   "cell_type": "code",
   "execution_count": 718,
   "id": "7f83ae7b-dfb3-4926-8530-1d521fe2e40b",
   "metadata": {},
   "outputs": [],
   "source": [
    "# Let x1, x2, x3, x4 be variables\n",
    "x1, x2, x3, x4 = sp.symbols('x1, x2, x3, x4')"
   ]
  },
  {
   "cell_type": "code",
   "execution_count": 720,
   "id": "7bc39328-9299-4c94-8314-498a061a0c88",
   "metadata": {},
   "outputs": [
    {
     "data": {
      "text/html": [
       "$\\left[\\begin{matrix}1 & 0 & 0\\\\0 & 1 & 0\\\\0 & 0 & 1\\end{matrix}\\right]$ &nbsp;&nbsp;$\\left[\\begin{matrix}x_{1}\\\\x_{2}\\\\x_{3}\\end{matrix}\\right]$ &nbsp;&nbsp;"
      ],
      "text/plain": [
       "<IPython.core.display.HTML object>"
      ]
     },
     "execution_count": 720,
     "metadata": {},
     "output_type": "execute_result"
    }
   ],
   "source": [
    "# Let E1 be a matrix \n",
    "# Let E2 be a vector\n",
    "E1 = sp.Matrix([[1, 0, 0], [0, 1, 0], [0, 0, 1]])\n",
    "E2 = sp.Matrix([x1, x2, x3])\n",
    "RTL([E1, E2])"
   ]
  },
  {
   "cell_type": "code",
   "execution_count": 721,
   "id": "831ff98d-bae4-4379-8a29-aa299fe9b955",
   "metadata": {},
   "outputs": [
    {
     "data": {
      "text/latex": [
       "$\\displaystyle \\left[\\begin{matrix}x_{1}\\\\x_{2}\\\\x_{3}\\end{matrix}\\right] = \\left[\\begin{matrix}0\\\\0\\\\0\\end{matrix}\\right]$"
      ],
      "text/plain": [
       "Eq(Matrix([\n",
       "[x1],\n",
       "[x2],\n",
       "[x3]]), Matrix([\n",
       "[0],\n",
       "[0],\n",
       "[0]]))"
      ]
     },
     "execution_count": 721,
     "metadata": {},
     "output_type": "execute_result"
    }
   ],
   "source": [
    "# Let E3 be the product of the matrix E1 and E2 set to zero\n",
    "E3 = sp.Eq(E1 * E2, sp.Matrix([0, 0, 0]))\n",
    "E3"
   ]
  },
  {
   "cell_type": "code",
   "execution_count": 724,
   "id": "d81556b6-5521-434e-ab56-ffb00e520c88",
   "metadata": {},
   "outputs": [
    {
     "data": {
      "text/plain": [
       "[]"
      ]
     },
     "execution_count": 724,
     "metadata": {},
     "output_type": "execute_result"
    }
   ],
   "source": [
    "# Let E4 be the solutions to E3\n",
    "E4 = E1.nullspace()\n",
    "E4"
   ]
  },
  {
   "cell_type": "code",
   "execution_count": 726,
   "id": "b6fc18b4-65cc-4030-8e40-846e6a936dc0",
   "metadata": {},
   "outputs": [],
   "source": [
    "# Note in the above example, the null space function returns no vectors, implying the matrix E1 must be linearly independent"
   ]
  },
  {
   "cell_type": "markdown",
   "id": "7435f2a1-d4df-4a55-8ce6-74d20c9c38be",
   "metadata": {},
   "source": [
    "#### Column space of a matrix\n",
    "\n",
    "note you can write matrix as collection of column vectors\n",
    "\n",
    "$$ A = \\left[  \\vec{v_1}, \\vec{v_2}, \\vec{v_3}... \\vec{v_n} \\right] $$\n",
    "\n",
    "Note matrix is m x n\n",
    "\n",
    "so it has m rows and n columns so \n",
    "\n",
    "$$ \\vec{v_1}, \\vec{v_2}, \\vec{v_3}... \\vec{v_n} \\in \\mathbb{R^m} $$\n",
    "\n",
    "column space is all possible combinations of column vectors\n",
    "\n",
    "\n",
    "$$ C(A) = \\text{span }( \\vec{v_2}, \\vec{v_3}... \\vec{v_n}) $$\n",
    "\n",
    "which is a legitimate subspace, \n",
    "\n",
    "Alot of this comes doesn to issues around, whether there is a solution, or at least one solution\n",
    "\n",
    "so if $A\\vec{x} = \\vec{b_1}$ but $\\vec{b_1}$ is not in colum space of A $C(A)$, then $\\vec{b_1} $ has ns olution\n",
    "\n",
    "\n",
    "\n",
    "if $A\\vec{x} = \\vec{b_2}$ but $\\vec{b_1}$ has at least one solution, then $\\vec{b_2}$ is in the columns space of A $C(A)$"
   ]
  },
  {
   "cell_type": "markdown",
   "id": "24c5cd03-81ff-40f9-b7b5-cbe04babe0cf",
   "metadata": {},
   "source": [
    "#### Bringing it all together - Null space and column space basis"
   ]
  },
  {
   "cell_type": "code",
   "execution_count": 423,
   "id": "81d69f2c-a6ce-4ec6-b03a-2678b0683754",
   "metadata": {},
   "outputs": [
    {
     "data": {
      "text/latex": [
       "$\\displaystyle \\left[\\begin{matrix}1 & 1 & 1 & 1\\\\2 & 1 & 4 & 3\\\\3 & 4 & 1 & 2\\end{matrix}\\right]$"
      ],
      "text/plain": [
       "Matrix([\n",
       "[1, 1, 1, 1],\n",
       "[2, 1, 4, 3],\n",
       "[3, 4, 1, 2]])"
      ]
     },
     "execution_count": 423,
     "metadata": {},
     "output_type": "execute_result"
    }
   ],
   "source": [
    "A = sp.Matrix([[1,1,1, 1], [2, 1, 4, 3], [3, 4, 1, 2]])\n",
    "A"
   ]
  },
  {
   "cell_type": "code",
   "execution_count": 427,
   "id": "44565d0a-76d7-4b9a-985b-2c3f84812c4c",
   "metadata": {},
   "outputs": [],
   "source": [
    "# note that C space is just span of colums, so span(A)\n",
    "\n",
    "# span(A) is linearly independent, it could act as a basis\n",
    "\n",
    "# Nullspace of A = Nullspace of rref(A)"
   ]
  },
  {
   "cell_type": "code",
   "execution_count": 431,
   "id": "138b13e5-86dd-49ec-8c2a-f3c0d63754c9",
   "metadata": {},
   "outputs": [
    {
     "data": {
      "text/latex": [
       "$\\displaystyle \\left[\\begin{matrix}x_{1} + x_{2} + x_{3} + x_{4}\\\\2 x_{1} + x_{2} + 4 x_{3} + 3 x_{4}\\\\3 x_{1} + 4 x_{2} + x_{3} + 2 x_{4}\\end{matrix}\\right] = \\left[\\begin{matrix}0\\\\0\\\\0\\end{matrix}\\right]$"
      ],
      "text/plain": [
       "Eq(Matrix([\n",
       "[      x1 + x2 + x3 + x4],\n",
       "[2*x1 + x2 + 4*x3 + 3*x4],\n",
       "[3*x1 + 4*x2 + x3 + 2*x4]]), Matrix([\n",
       "[0],\n",
       "[0],\n",
       "[0]]))"
      ]
     },
     "execution_count": 431,
     "metadata": {},
     "output_type": "execute_result"
    }
   ],
   "source": [
    "# Example - so \n",
    "\n",
    "x1, x2, x3, x4 = sp.symbols('x1, x2, x3, x4')\n",
    "X = sp.Matrix([x1, x2, x3, x4])\n",
    "\n",
    "# Aim to find find out where this is true\n",
    "sp.Eq(A * X, sp.Matrix([0, 0, 0]))"
   ]
  },
  {
   "cell_type": "code",
   "execution_count": 432,
   "id": "f60f5018-288e-407c-92ff-0226b1f6efe1",
   "metadata": {},
   "outputs": [
    {
     "data": {
      "text/latex": [
       "$\\displaystyle \\left\\{\\left( - 3 x_{3} - 2 x_{4}, \\  2 x_{3} + x_{4}, \\  x_{3}\\right)\\right\\}$"
      ],
      "text/plain": [
       "FiniteSet((-3*x3 - 2*x4, 2*x3 + x4, x3))"
      ]
     },
     "execution_count": 432,
     "metadata": {},
     "output_type": "execute_result"
    }
   ],
   "source": [
    "sp.linsolve(A * X, (x1, x2, x3))"
   ]
  },
  {
   "cell_type": "code",
   "execution_count": 434,
   "id": "f21b3703-7b2f-4816-aac8-ad8bfc69d7bf",
   "metadata": {},
   "outputs": [
    {
     "data": {
      "text/plain": [
       "[Matrix([\n",
       " [-3],\n",
       " [ 2],\n",
       " [ 1],\n",
       " [ 0]]),\n",
       " Matrix([\n",
       " [-2],\n",
       " [ 1],\n",
       " [ 0],\n",
       " [ 1]])]"
      ]
     },
     "execution_count": 434,
     "metadata": {},
     "output_type": "execute_result"
    }
   ],
   "source": [
    "# also get it like this\n",
    "A.nullspace()"
   ]
  },
  {
   "cell_type": "code",
   "execution_count": 435,
   "id": "dbe63a9d-744a-4991-ab6f-6b9afada694d",
   "metadata": {},
   "outputs": [],
   "source": [
    "# so nulspace is eququal to span of these two vectors we get from A.nullspace()"
   ]
  },
  {
   "cell_type": "code",
   "execution_count": 436,
   "id": "a409589d-1957-421d-ab83-510eb60be4e3",
   "metadata": {},
   "outputs": [
    {
     "data": {
      "text/latex": [
       "$\\displaystyle \\left[\\begin{matrix}1 & 1 & 1 & 1\\\\2 & 1 & 4 & 3\\\\3 & 4 & 1 & 2\\end{matrix}\\right]$"
      ],
      "text/plain": [
       "Matrix([\n",
       "[1, 1, 1, 1],\n",
       "[2, 1, 4, 3],\n",
       "[3, 4, 1, 2]])"
      ]
     },
     "execution_count": 436,
     "metadata": {},
     "output_type": "execute_result"
    }
   ],
   "source": [
    "# note thesse are not linearly independt - so can't be a basis of column space of A, \n",
    "\n",
    "# these vectors then have redundhancy\n",
    "A"
   ]
  },
  {
   "cell_type": "code",
   "execution_count": 437,
   "id": "a0b5b885-60f4-47aa-b7f1-9c0cfcc6e061",
   "metadata": {},
   "outputs": [],
   "source": [
    "# to get a basis"
   ]
  },
  {
   "cell_type": "code",
   "execution_count": 457,
   "id": "6aa73465-859a-42f8-a3e5-de61ae8957eb",
   "metadata": {},
   "outputs": [
    {
     "data": {
      "text/plain": [
       "[Matrix([\n",
       " [1],\n",
       " [2],\n",
       " [3]]),\n",
       " Matrix([\n",
       " [1],\n",
       " [1],\n",
       " [4]])]"
      ]
     },
     "execution_count": 457,
     "metadata": {},
     "output_type": "execute_result"
    }
   ],
   "source": [
    "# tso this can be a basis, as all other columns can be obtained from these two vectors\n",
    "# SO THIS IS A BASIS FOR THE COLUMN SPACE IN A\n",
    "C = A.columnspace()\n",
    "C"
   ]
  },
  {
   "cell_type": "code",
   "execution_count": 458,
   "id": "e3b44162-e83d-4206-85e5-096e30027671",
   "metadata": {},
   "outputs": [],
   "source": [
    "# So vectors in both A and C span the column space of A, but those in C are linear independnt, and can be a basis"
   ]
  },
  {
   "cell_type": "markdown",
   "id": "c068491f-d78b-4b21-b0e4-7de1cb6fd6a1",
   "metadata": {},
   "source": [
    "#### Dimension of the null space or nullity\n",
    "\n",
    "\n",
    "null space is all vectors that are members\n",
    "\n",
    "$$N(B) N(rref) = \\left\\{  \\vec{x} \\in \\mathbb{R^5} | B \\vec{x} = 0  \\right\\}  $$\n",
    "\n"
   ]
  },
  {
   "cell_type": "code",
   "execution_count": 463,
   "id": "394d8bb0-e365-4208-aabe-35cc3f041992",
   "metadata": {},
   "outputs": [
    {
     "data": {
      "text/latex": [
       "$\\displaystyle \\text{False}$"
      ],
      "text/plain": [
       "False"
      ]
     },
     "execution_count": 463,
     "metadata": {},
     "output_type": "execute_result"
    }
   ],
   "source": [
    "B = sp.Matrix([[1, 1, 2, 3, 4], [1, 1, 3, 1, 4]])\n",
    "x1, x2, x3, x4, x5 = sp.symbols('x1, x2, x3, x4, x5')\n",
    "X = sp.Matrix([x1, x2, x3, x4, x5])\n",
    "\n"
   ]
  },
  {
   "cell_type": "code",
   "execution_count": 466,
   "id": "ecfcb1e1-c9c9-4601-a6e0-86b8ba8bb55b",
   "metadata": {},
   "outputs": [
    {
     "data": {
      "text/latex": [
       "$\\displaystyle \\left[\\begin{matrix}1 & 1 & 2 & 3 & 4\\\\0 & 0 & 1 & -2 & 0\\end{matrix}\\right]$"
      ],
      "text/plain": [
       "Matrix([\n",
       "[1, 1, 2,  3, 4],\n",
       "[0, 0, 1, -2, 0]])"
      ]
     },
     "execution_count": 466,
     "metadata": {},
     "output_type": "execute_result"
    }
   ],
   "source": [
    "# EXAMPLE - we can take matrix and get nullspace and \n",
    "\n",
    "B = sp.Matrix([[1, 1, 2, 3, 4], [1, 1, 3, 1, 4]])\n",
    "B.echelon_form()"
   ]
  },
  {
   "cell_type": "code",
   "execution_count": 482,
   "id": "4b127dcf-c14f-4cb4-8ec4-91eef6cd27c2",
   "metadata": {},
   "outputs": [
    {
     "data": {
      "text/plain": [
       "[Matrix([\n",
       " [-1],\n",
       " [ 1],\n",
       " [ 0],\n",
       " [ 0],\n",
       " [ 0]]),\n",
       " Matrix([\n",
       " [-7],\n",
       " [ 0],\n",
       " [ 2],\n",
       " [ 1],\n",
       " [ 0]]),\n",
       " Matrix([\n",
       " [-4],\n",
       " [ 0],\n",
       " [ 0],\n",
       " [ 0],\n",
       " [ 1]])]"
      ]
     },
     "execution_count": 482,
     "metadata": {},
     "output_type": "execute_result"
    }
   ],
   "source": [
    "# Note that we can get null space\n",
    "# NUMBER OF FREE VARIABLES IS NON PIVOT COLUMNS - SO AVE 2-1, 3--2 ABOVE ARE NON PIVOT (NOT THE ZERO - ONE)\n",
    "E1 = B.nullspace()\n",
    "E1"
   ]
  },
  {
   "cell_type": "code",
   "execution_count": 495,
   "id": "673cad91-c4e6-4c02-9a74-62ccd35eea93",
   "metadata": {},
   "outputs": [
    {
     "data": {
      "text/html": [
       "$\\left[\\begin{matrix}- x_{1}\\\\x_{1}\\\\0\\\\0\\\\0\\end{matrix}\\right]$ &nbsp;&nbsp;$\\left[\\begin{matrix}- 7 x_{2}\\\\0\\\\2 x_{2}\\\\x_{2}\\\\0\\end{matrix}\\right]$ &nbsp;&nbsp;$\\left[\\begin{matrix}- 4 x_{3}\\\\0\\\\0\\\\0\\\\x_{3}\\end{matrix}\\right]$ &nbsp;&nbsp;"
      ],
      "text/plain": [
       "<IPython.core.display.HTML object>"
      ]
     },
     "execution_count": 495,
     "metadata": {},
     "output_type": "execute_result"
    }
   ],
   "source": [
    "# with free fariables\n",
    "\n",
    "E2 = E1[0] * X.T\n",
    "E3 = E2.col(0)\n",
    "E4 = E1[1] * X.T\n",
    "E5 = E4.col(1)\n",
    "E6 = E1[2] * X.T\n",
    "E7 = E6.col(2)\n",
    "\n",
    "RTL([E3, E5, E7])"
   ]
  },
  {
   "cell_type": "code",
   "execution_count": null,
   "id": "5206af73-23c9-4eb4-91d4-c3d48fc9d66f",
   "metadata": {},
   "outputs": [],
   "source": []
  },
  {
   "cell_type": "code",
   "execution_count": null,
   "id": "4b888ba9-b2d0-4688-b312-609929bf10fb",
   "metadata": {},
   "outputs": [],
   "source": []
  },
  {
   "cell_type": "code",
   "execution_count": null,
   "id": "1626cb0b-4fd2-4154-86fb-8219ba59b856",
   "metadata": {},
   "outputs": [],
   "source": []
  },
  {
   "cell_type": "code",
   "execution_count": 478,
   "id": "7fa01335-e409-4ee1-8af1-a1c578978bcf",
   "metadata": {},
   "outputs": [],
   "source": [
    "# E1 is a basis for nullspace of B\n",
    "# DIMENSION OF A A SUBSPACE IS NUMBER ELEMENTS IN A BASIS FOR THE SPACDE\n",
    "# SO DIMENSION OF NULL SPACE OF B IS 3\n",
    "# THIS IS ALSO CALLED THE NULLITY\n",
    "\n",
    "# IN GENERAL, THE NULLITY OF ANY MATRIX IS = NUMBER OF FREE VARIABLES IN RREF, THE NUMBER OF NUMBER OF NON PIVOT COLUMNS"
   ]
  },
  {
   "cell_type": "markdown",
   "id": "258b556e-9e7b-4e36-b72b-cbb96424b735",
   "metadata": {},
   "source": [
    "#### Dimension of column space or rank\n",
    "\n",
    "Column space is span of all the column vectors\n",
    "aim to find subset "
   ]
  },
  {
   "cell_type": "code",
   "execution_count": 496,
   "id": "49f3692c-274a-488b-803e-07a26c650d34",
   "metadata": {},
   "outputs": [
    {
     "data": {
      "text/latex": [
       "$\\displaystyle \\left[\\begin{matrix}1 & 0 & -1 & 0 & 4\\\\2 & 1 & 0 & 0 & 9\\\\-1 & 2 & 5 & 1 & -5\\\\1 & -1 & -3 & -2 & 9\\end{matrix}\\right]$"
      ],
      "text/plain": [
       "Matrix([\n",
       "[ 1,  0, -1,  0,  4],\n",
       "[ 2,  1,  0,  0,  9],\n",
       "[-1,  2,  5,  1, -5],\n",
       "[ 1, -1, -3, -2,  9]])"
      ]
     },
     "execution_count": 496,
     "metadata": {},
     "output_type": "execute_result"
    }
   ],
   "source": [
    "A = sp.Matrix([[1, 0, -1, 0, 4],\n",
    "              [2, 1, 0, 0, 9],\n",
    "              [-1, 2, 5, 1, -5],\n",
    "              [1, -1, -3, -2, 9]])\n",
    "A"
   ]
  },
  {
   "cell_type": "code",
   "execution_count": 497,
   "id": "b7a09b05-3e05-4baf-b7be-8cfadf691ee9",
   "metadata": {},
   "outputs": [
    {
     "data": {
      "text/plain": [
       "[Matrix([\n",
       " [ 1],\n",
       " [ 2],\n",
       " [-1],\n",
       " [ 1]]),\n",
       " Matrix([\n",
       " [ 0],\n",
       " [ 1],\n",
       " [ 2],\n",
       " [-1]]),\n",
       " Matrix([\n",
       " [ 0],\n",
       " [ 0],\n",
       " [ 1],\n",
       " [-2]])]"
      ]
     },
     "execution_count": 497,
     "metadata": {},
     "output_type": "execute_result"
    }
   ],
   "source": [
    "A.columnspace()"
   ]
  },
  {
   "cell_type": "code",
   "execution_count": 498,
   "id": "d98b458d-777b-4c48-9c77-6b1f2174aec1",
   "metadata": {},
   "outputs": [
    {
     "data": {
      "text/latex": [
       "$\\displaystyle \\left[\\begin{matrix}1 & 0 & -1 & 0 & 4\\\\0 & 1 & 2 & 0 & 1\\\\0 & 0 & 0 & 1 & -3\\\\0 & 0 & 0 & 0 & 0\\end{matrix}\\right]$"
      ],
      "text/plain": [
       "Matrix([\n",
       "[1, 0, -1, 0,  4],\n",
       "[0, 1,  2, 0,  1],\n",
       "[0, 0,  0, 1, -3],\n",
       "[0, 0,  0, 0,  0]])"
      ]
     },
     "execution_count": 498,
     "metadata": {},
     "output_type": "execute_result"
    }
   ],
   "source": [
    "# so below tlss you that col 1, 2, and 4 are linearly indepent as they pivot columns, other cols are free variables\n",
    "# so this means in A, they are also linearly indent, cols, 1,2 and 4\n",
    "# so BASIS is just \n",
    "\n",
    "A.echelon_form()"
   ]
  },
  {
   "cell_type": "code",
   "execution_count": 499,
   "id": "87091335-245e-45be-9f04-99b6dc98e36c",
   "metadata": {},
   "outputs": [
    {
     "data": {
      "text/latex": [
       "$\\displaystyle \\left[\\begin{matrix}1 & 0 & -1 & 0 & 4\\\\2 & 1 & 0 & 0 & 9\\\\-1 & 2 & 5 & 1 & -5\\\\1 & -1 & -3 & -2 & 9\\end{matrix}\\right]$"
      ],
      "text/plain": [
       "Matrix([\n",
       "[ 1,  0, -1,  0,  4],\n",
       "[ 2,  1,  0,  0,  9],\n",
       "[-1,  2,  5,  1, -5],\n",
       "[ 1, -1, -3, -2,  9]])"
      ]
     },
     "execution_count": 499,
     "metadata": {},
     "output_type": "execute_result"
    }
   ],
   "source": [
    "# SO we say that col1, col2, and col4 form a basis for the column space of A  you can contonstruct the other colums from these three"
   ]
  },
  {
   "cell_type": "code",
   "execution_count": 500,
   "id": "ce7dbfe2-d381-46aa-9d97-65e9e2f76a0e",
   "metadata": {},
   "outputs": [],
   "source": [
    "# dimension of column space (OR RANK) = 3 - number of linearly independet column vectors that can span your entire column space\n",
    "\n",
    "#1. idea - take A (which as a col space of the 5 vectors)\n",
    "#2. Put in RREF\n",
    "# See which columns are pivot\n",
    "# they will correspond to basis for the col space\n",
    "# Rank or dimension of col space is number of pivot colloms in RREF"
   ]
  },
  {
   "cell_type": "code",
   "execution_count": null,
   "id": "181081d7-3fa7-42bc-b49d-e529536d9eb7",
   "metadata": {},
   "outputs": [],
   "source": []
  }
 ],
 "metadata": {
  "kernelspec": {
   "display_name": "Python 3",
   "language": "python",
   "name": "python3"
  },
  "language_info": {
   "codemirror_mode": {
    "name": "ipython",
    "version": 3
   },
   "file_extension": ".py",
   "mimetype": "text/x-python",
   "name": "python",
   "nbconvert_exporter": "python",
   "pygments_lexer": "ipython3",
   "version": "3.9.2"
  }
 },
 "nbformat": 4,
 "nbformat_minor": 5
}
