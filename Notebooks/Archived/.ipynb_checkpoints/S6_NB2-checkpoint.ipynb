{
 "cells": [
  {
   "cell_type": "code",
   "execution_count": 1,
   "id": "6dd866d6-49eb-4efc-94c5-70044517bc26",
   "metadata": {},
   "outputs": [],
   "source": [
    "import numpy as np\n",
    "import sympy as sp\n",
    "import pickle\n",
    "from IPython.display import HTML\n",
    "import ipywidgets as widgets\n",
    "import matplotlib as mpl\n",
    "import matplotlib.pyplot as plt\n",
    "from mpl_toolkits.mplot3d import Axes3D\n",
    "import matplotlib.pyplot as plt\n",
    "mpl.rcParams['legend.fontsize'] = 10\n",
    "import pandas as pd\n",
    "import itertools\n",
    "pd.set_option('display.max_colwidth', None)\n",
    "from sympy.plotting import plot \n",
    "from IPython.display import Image\n",
    "\n",
    "\n",
    "# Render to Latex function \n",
    "def RTL(e):\n",
    "    latex_rendering = []\n",
    "\n",
    "    for i in range(len(e)):\n",
    "        latex_rendering.append(\"$\" + sp.latex(e[i]) + \"$ &nbsp;&nbsp;\")\n",
    "    \n",
    "    return(HTML(\"\".join(latex_rendering[0:])))"
   ]
  },
  {
   "cell_type": "markdown",
   "id": "05327fb7-668b-4803-96b0-ebcfbe60e489",
   "metadata": {},
   "source": [
    "### Linear Algebra Notes II\n",
    "\n",
    "\n",
    "\n",
    "- A more formal understanding of functions\n",
    "- Vector transformations\n",
    "- Linear transformation\n",
    "- Matrix vector products as linear transformations\n",
    "- Linear transformations as matrix vector products\n",
    "- Image of a subset under a transformation\n",
    "- Preimage of a set\n",
    "- Preimage and kernal example \n",
    "- Sums and scalar multiples of linear transformations\n",
    "- fix here\n",
    "- Linear transformation examples: Scales and reflections\n",
    "- Linear transformation examples: Rotations in R2\n",
    "- Unit vectors\n",
    "- Introduction to projections\n",
    "- Expressing a projection on to a line as a matrix vector product\n",
    "- Compositions of linear transformations\n",
    "- Matrix Product examples\n",
    "\n",
    "<hr/>\n",
    "\n",
    "####  A more formal understanding of functions\n",
    "\n",
    "<b>Note</b> that a a function can be defined as a mapping from one set to another: \n",
    "\n",
    "$$ f: X \\rightarrow Y$$\n",
    "\n",
    "<b>Note</b> that a function can also be intuited as a relationship between sets. For example, the set of all numbers in $\\mathbb{R^2}$ and the set of all number in $\\mathbb{R^3}$\n",
    "\n",
    "<b>Note</b> that the function $f(x) = x^2$ could also be denoted as $ \\mathbb{R} \\rightarrow \\mathbb{R}$. This signifies an association between $x$ and $x^2$, and could also be written as $ f:x \\mapsto x^2$\n",
    "\n",
    "<b>Note</b> that the set of possible inputs that a function maps <i>from</i> are defined as the <b>Domain</b>, and the set of possible outputs a functions maps <i>to</i> is defined as the <b>Codomain</b>\n",
    "\n",
    "<b>Note</b> that the <b>Range</b> is defined as a subset of the codomain that an instance of a function maps to\n",
    "\n"
   ]
  },
  {
   "cell_type": "markdown",
   "id": "22b2875d-aa6f-409e-af53-1f93d4c3bf37",
   "metadata": {},
   "source": [
    "<b>Note</b> that functions mappings can be denoted differently: \n",
    " \n",
    " \n",
    "$$g: \\mathbb{R^2} \\mapsto \\mathbb{R} $$\n",
    " \n",
    "$$ g(x_1, x_2) = 2 $$  \n",
    "\n",
    "$$g: x_1, x_2 \\mapsto 2 $$\n",
    "\n",
    "\n",
    "\n",
    "\n",
    "<b>Note</b> that an $n \\times n$ matrix that has all zero entries except those on the diagonal is defined as an <b> Identity Matrix</b>\n",
    "\n",
    "\n",
    "$$ \\displaystyle \\left[\\begin{matrix}1 & 0 & 0 & 0 & 0\\\\0 & 1 & 0 & 0 & 0\\\\0 & 0 & 1 & 0 & 0\\\\0 & 0 & 0 & 1 & 0\\\\0 & 0 & 0 & 0 & 1\\end{matrix}\\right] \n",
    "$$\n",
    "    \n",
    "    \n",
    " <b>Note</b> that this is often denoted as $I_n$, which is an $n \\times n$ identity matrix\n",
    "\n",
    "<b>Note</b> that, if  $I_n$ is multiplied by any vector of size $n$, the vector of size $n$ will be returned: \n",
    "\n",
    "$$I_n \\vec{x} = \\vec{x} \\text{ for  } \\vec{x} \\in \\mathbb{R^n}$$\n",
    " \n",
    "<hr/>\n",
    " \n",
    " \n"
   ]
  },
  {
   "cell_type": "markdown",
   "id": "4c8dd3ec-6152-48cc-9517-fbc8a07c1ef4",
   "metadata": {},
   "source": [
    "#### Linear transformations as matrix vector products\n",
    "\n",
    "\n",
    "\n",
    "<b>Note</b> that the columns of the identity vectors are defined a <b>standard basis</b> for $\\mathbb{R^n}$. They both span $\\mathbb{R^n}$ span and are linearly independent\n",
    "\n",
    "<b>Note</b> that dfinitioin allows, where $e_1, e_2, e_3...e_n$ are are standard basis and $\\vec{x}$ is a vector of size n, then it follows that \n",
    "\n",
    "$$ \\vec{x} = x_1e_1 + x_2e_2 + x_3e_3...+ x_ne_1n$$\n",
    "\n",
    "<b>Note</b> that this definition implies that, for the columns of an identity matrix denoted $[e_1, e_2....e_n]$ it must be the case that:  \n",
    "\n",
    "$$T(\\vec{x}) = T(x_1e_1 + x_2e_2 + x_3e_3...+ x_ne_1n) $$\n",
    "\n",
    "<b>Note</b> that, using the law of association it is possible rewrite this as: \n",
    "\n",
    "$$  x_1 T ( \\vec{e_1}) + x_2 T ( \\vec{e_2}) ... + x_n T ( \\vec{e_n})  $$ \n",
    "    \n",
    "    \n",
    "\n",
    "<b>Note</b> that allows how the identity matrix must be scaled when describing a matrix\n",
    "\n",
    "<hr/>"
   ]
  },
  {
   "cell_type": "markdown",
   "id": "a9301469-6f5b-4b0a-971f-620b45030aa2",
   "metadata": {},
   "source": [
    "#### Vector transformations\n",
    "\n",
    "<b>Note</b> that vectors can be regarded as members of sets. For example: \n",
    "\n",
    "$$\\vec{x} \\in \\mathbb{R^n} $$\n",
    "\n",
    "where $\\mathbb{R^n}$ is set of all n-tuples (or vectors denoted as lists)\n",
    "\n",
    "<b>Note</b> that aa set of vectors, can be denoted as $ \\mathbb{R^n} $ where $n$ is the number of components in each vector in the set. For example:  \n",
    "\n",
    "$$f: \\mathbb{R^n} \\mapsto \\mathbb{R^m}$$\n",
    "\n",
    "<b>Note</b> that a <b>Linear Transformation</b> can be defined as a function that operates on different sets of vectors: \n",
    "\n",
    "$$T: \\mathbb{R^3} \\mapsto \\mathbb{R^2} $$\n",
    "\n",
    "<b>Note</b> that transformation is undertaken by using and identity matrix of the same dimensions of the domain, and creating a matrix that this can multiplied to \n",
    "\n",
    "where $T$ is a functin that takes 3 inputs $T(x, y, z)$"
   ]
  },
  {
   "cell_type": "markdown",
   "id": "9cb11498-8ff2-44a3-a0dc-8b8cc66702b8",
   "metadata": {},
   "source": [
    "<b>Example</b>: <i>Represent the following transformation from $\\mathbb{R^2}$ to $\\mathbb{R_3}$ as a matrix vector product of an identity matrix and some other vector for the function $ T(v_1, v_2) = (v2, v_1 + v_2,v_1 - v_2)$ </i>"
   ]
  },
  {
   "cell_type": "code",
   "execution_count": 2,
   "id": "ff3659e6-942b-46b1-920a-51b78edbbf9f",
   "metadata": {},
   "outputs": [],
   "source": [
    "# Let v1, v2 be variables\n",
    "v1, v2 = sp.symbols('v1, v2')"
   ]
  },
  {
   "cell_type": "code",
   "execution_count": 3,
   "id": "e89f0f4e-4faf-4f1e-b5f5-c9cf58da9b28",
   "metadata": {},
   "outputs": [
    {
     "data": {
      "text/latex": [
       "$\\displaystyle \\left[\\begin{matrix}1 & 0\\\\0 & 1\\end{matrix}\\right]$"
      ],
      "text/plain": [
       "Matrix([\n",
       "[1, 0],\n",
       "[0, 1]])"
      ]
     },
     "execution_count": 3,
     "metadata": {},
     "output_type": "execute_result"
    }
   ],
   "source": [
    "# Let E1 be a standard basis vector in R2\n",
    "E1 = sp.eye(2)\n",
    "E1"
   ]
  },
  {
   "cell_type": "code",
   "execution_count": 4,
   "id": "112e1df2-d7e2-4d85-876a-39a7a76aa3b4",
   "metadata": {},
   "outputs": [
    {
     "data": {
      "text/latex": [
       "$\\displaystyle \\left[\\begin{matrix}0 & v_{2}\\\\v_{1} & v_{2}\\\\v_{1} & - v_{2}\\end{matrix}\\right]$"
      ],
      "text/plain": [
       "Matrix([\n",
       "[ 0,  v2],\n",
       "[v1,  v2],\n",
       "[v1, -v2]])"
      ]
     },
     "execution_count": 4,
     "metadata": {},
     "output_type": "execute_result"
    }
   ],
   "source": [
    "# Let E2 be a transformation vector\n",
    "E2 = sp.Matrix([[0, v2], [v1,  v2], [v1, -v2]])\n",
    "E2"
   ]
  },
  {
   "cell_type": "code",
   "execution_count": 5,
   "id": "6225456a-744a-4e82-9512-4eca2e823475",
   "metadata": {},
   "outputs": [
    {
     "data": {
      "text/html": [
       "$\\left[\\begin{matrix}0\\\\v_{1}\\\\v_{1}\\end{matrix}\\right]$ &nbsp;&nbsp;$\\left[\\begin{matrix}v_{2}\\\\v_{2}\\\\- v_{2}\\end{matrix}\\right]$ &nbsp;&nbsp;"
      ],
      "text/plain": [
       "<IPython.core.display.HTML object>"
      ]
     },
     "execution_count": 5,
     "metadata": {},
     "output_type": "execute_result"
    }
   ],
   "source": [
    "# Let E3 and E4 be the transformation applied to the identity matrix\n",
    "E3 = E2 * E1.col(0)\n",
    "E4 = E2 * E1.col(1)\n",
    "RTL([E3, E4])"
   ]
  },
  {
   "cell_type": "code",
   "execution_count": 6,
   "id": "420fd0a6-72bb-43cb-b7a5-37436037b0b1",
   "metadata": {},
   "outputs": [
    {
     "data": {
      "text/latex": [
       "$\\displaystyle \\left[\\begin{matrix}0 & v_{2}\\\\v_{1} & v_{2}\\\\v_{1} & - v_{2}\\end{matrix}\\right]$"
      ],
      "text/plain": [
       "Matrix([\n",
       "[ 0,  v2],\n",
       "[v1,  v2],\n",
       "[v1, -v2]])"
      ]
     },
     "execution_count": 6,
     "metadata": {},
     "output_type": "execute_result"
    }
   ],
   "source": [
    "# Let E5 be the tranformation matrix in R3\n",
    "E5 = sp.Matrix([list(E3), list(E4)]).T\n",
    "E5"
   ]
  },
  {
   "cell_type": "markdown",
   "id": "479ecaed-f315-45d7-8fc9-2292a2dc3e7f",
   "metadata": {},
   "source": [
    "<b>Example</b>: <i>Represent the following transformation from $\\mathbb{R^3}$ to $\\mathbb{R^2}$ as a matrix vector product of an identity matrix and some other vector for the function $ T(v_1, v_2) = (v_1 + v_3, 2v_2 - v_3)$ </i>"
   ]
  },
  {
   "cell_type": "code",
   "execution_count": 7,
   "id": "02d2d925-9fa4-40e8-be7d-65b94d7a7694",
   "metadata": {},
   "outputs": [],
   "source": [
    "# Let v1, v2 be variables\n",
    "v1, v2, v3 = sp.symbols('v1, v2, v3')"
   ]
  },
  {
   "cell_type": "code",
   "execution_count": 8,
   "id": "e260e21c-c737-4f91-951c-67fe709a6cb0",
   "metadata": {},
   "outputs": [
    {
     "data": {
      "text/latex": [
       "$\\displaystyle \\left[\\begin{matrix}1 & 0 & 0\\\\0 & 1 & 0\\\\0 & 0 & 1\\end{matrix}\\right]$"
      ],
      "text/plain": [
       "Matrix([\n",
       "[1, 0, 0],\n",
       "[0, 1, 0],\n",
       "[0, 0, 1]])"
      ]
     },
     "execution_count": 8,
     "metadata": {},
     "output_type": "execute_result"
    }
   ],
   "source": [
    "# Let E1 be an identity matrix in R3\n",
    "E1 = sp.eye(3)\n",
    "E1"
   ]
  },
  {
   "cell_type": "code",
   "execution_count": 9,
   "id": "909bf5a0-c683-4ae1-be99-7f9a9ecef9b3",
   "metadata": {},
   "outputs": [
    {
     "data": {
      "text/latex": [
       "$\\displaystyle \\left[\\begin{matrix}v_{1} & 0 & v_{3}\\\\0 & 2 v_{2} & - v_{3}\\end{matrix}\\right]$"
      ],
      "text/plain": [
       "Matrix([\n",
       "[v1,    0,  v3],\n",
       "[ 0, 2*v2, -v3]])"
      ]
     },
     "execution_count": 9,
     "metadata": {},
     "output_type": "execute_result"
    }
   ],
   "source": [
    "# Let E2 be a transformation matrix\n",
    "E2 = sp.Matrix([[v1, 0, v3], [0, 2 * v2, -v3]])\n",
    "E2"
   ]
  },
  {
   "cell_type": "code",
   "execution_count": 10,
   "id": "63b7c2cf-367c-4dea-90e9-3c62d45fca3b",
   "metadata": {},
   "outputs": [
    {
     "data": {
      "text/html": [
       "$\\left[\\begin{matrix}v_{1}\\\\0\\end{matrix}\\right]$ &nbsp;&nbsp;$\\left[\\begin{matrix}0\\\\2 v_{2}\\end{matrix}\\right]$ &nbsp;&nbsp;$\\left[\\begin{matrix}v_{3}\\\\- v_{3}\\end{matrix}\\right]$ &nbsp;&nbsp;"
      ],
      "text/plain": [
       "<IPython.core.display.HTML object>"
      ]
     },
     "execution_count": 10,
     "metadata": {},
     "output_type": "execute_result"
    }
   ],
   "source": [
    "# Let E3, E4, E5 be the transformation applied to the identity matrix\n",
    "E3 = E2 * E1.col(0)\n",
    "E4 = E2 * E1.col(1)\n",
    "E5 = E2 * E1.col(2)\n",
    "RTL([E3, E4, E5])"
   ]
  },
  {
   "cell_type": "code",
   "execution_count": 11,
   "id": "3c668605-9139-4070-acd0-c9c15ca3d57f",
   "metadata": {},
   "outputs": [
    {
     "data": {
      "text/latex": [
       "$\\displaystyle \\left[\\begin{matrix}v_{1} & 0 & v_{3}\\\\0 & 2 v_{2} & - v_{3}\\end{matrix}\\right]$"
      ],
      "text/plain": [
       "Matrix([\n",
       "[v1,    0,  v3],\n",
       "[ 0, 2*v2, -v3]])"
      ]
     },
     "execution_count": 11,
     "metadata": {},
     "output_type": "execute_result"
    }
   ],
   "source": [
    "# Let E6 be the tranformation matrix in R3\n",
    "E6 = sp.Matrix([list(E3), list(E4), list(E5)]).T\n",
    "E6"
   ]
  },
  {
   "cell_type": "markdown",
   "id": "f6bc8604-69d8-4a27-a6fe-fa391e979094",
   "metadata": {},
   "source": [
    "#### Linear transformation\n",
    "\n",
    "<b>Note</b> that any linear transformation, $T: R^m \\mapsto R^n$ where $\\vec{a}, \\vec{b} \\in \\mathbb{R^n}$, by definition, must have the following properties:\n",
    "\n",
    "$$T(\\vec{a} + \\vec{b}) = T(\\vec{a}) + T(\\vec{b}) $$\n",
    "\n",
    "$$T(c\\vec{a} + \\vec{b}) = c T(\\vec{a}) $$\n",
    "\n",
    "<hr/>"
   ]
  },
  {
   "cell_type": "markdown",
   "id": "464ef5b4-bfba-454f-bcf4-3c49a2ba1a11",
   "metadata": {},
   "source": [
    "#### Matrix vector products as linear transformations\n",
    "\n",
    "<b>Note</b> that, by definition, a vector product can be regarded as a linear transformation and the above propertties can b alebraically proved.\n",
    "\n",
    "<hr/>"
   ]
  },
  {
   "cell_type": "markdown",
   "id": "cc00a219-3aeb-4f32-877e-eef0b343ec38",
   "metadata": {},
   "source": [
    "<b>Example</b>: <i>Represent the following transformation from $\\mathbb{R^2}$ to $\\mathbb{R^3}$ as a matrix vector product of an identity matrix and some other vector for the function $ T(x_1, x2) = (x_1 + 3x_2, 5x2 - x1, 4x_1 + x2)$ </i>"
   ]
  },
  {
   "cell_type": "code",
   "execution_count": 12,
   "id": "cd31b9b4-a9bb-4ea2-bd1c-528ba88ca3b9",
   "metadata": {},
   "outputs": [],
   "source": [
    "# let x1, x2 be variables\n",
    "x1, x2 = sp.symbols('x1, x2')"
   ]
  },
  {
   "cell_type": "code",
   "execution_count": 13,
   "id": "fcbe763b-6eca-4481-a6da-6e17cc55929f",
   "metadata": {},
   "outputs": [
    {
     "data": {
      "text/latex": [
       "$\\displaystyle \\left[\\begin{matrix}1 & 0\\\\0 & 1\\end{matrix}\\right]$"
      ],
      "text/plain": [
       "Matrix([\n",
       "[1, 0],\n",
       "[0, 1]])"
      ]
     },
     "execution_count": 13,
     "metadata": {},
     "output_type": "execute_result"
    }
   ],
   "source": [
    "# Let E1 be an identity matrix in R3\n",
    "E1 = sp.eye(2)\n",
    "E1"
   ]
  },
  {
   "cell_type": "code",
   "execution_count": 14,
   "id": "9a3c5698-e716-4c17-bb52-db9b1b355b6a",
   "metadata": {},
   "outputs": [
    {
     "data": {
      "text/latex": [
       "$\\displaystyle \\left[\\begin{matrix}x_{1} & 3 x_{2}\\\\- x_{1} & 5 x_{2}\\\\4 x_{1} & - x_{2}\\end{matrix}\\right]$"
      ],
      "text/plain": [
       "Matrix([\n",
       "[  x1, 3*x2],\n",
       "[ -x1, 5*x2],\n",
       "[4*x1,  -x2]])"
      ]
     },
     "execution_count": 14,
     "metadata": {},
     "output_type": "execute_result"
    }
   ],
   "source": [
    "# Let E2 be a transformation matrix\n",
    "E2 = sp.Matrix([[x1,  3 * x2],\n",
    "               [ -x1, 5 * x2 ],\n",
    "               [4 * x1,  - x2]])\n",
    "E2"
   ]
  },
  {
   "cell_type": "code",
   "execution_count": 15,
   "id": "5589454a-9765-47ff-993e-e0be5311d8c6",
   "metadata": {},
   "outputs": [
    {
     "data": {
      "text/html": [
       "$\\left[\\begin{matrix}x_{1}\\\\- x_{1}\\\\4 x_{1}\\end{matrix}\\right]$ &nbsp;&nbsp;$\\left[\\begin{matrix}3 x_{2}\\\\5 x_{2}\\\\- x_{2}\\end{matrix}\\right]$ &nbsp;&nbsp;"
      ],
      "text/plain": [
       "<IPython.core.display.HTML object>"
      ]
     },
     "execution_count": 15,
     "metadata": {},
     "output_type": "execute_result"
    }
   ],
   "source": [
    "# Let E3, E4, E5 be the transformation applied to the identity matrix\n",
    "E3 = E2 * E1.col(0)\n",
    "E4 = E2 * E1.col(1)\n",
    "RTL([E3, E4])"
   ]
  },
  {
   "cell_type": "code",
   "execution_count": 16,
   "id": "c9aa93c5-4bf5-4dc1-8750-8447be708366",
   "metadata": {},
   "outputs": [
    {
     "data": {
      "text/latex": [
       "$\\displaystyle \\left[\\begin{matrix}x_{1} & 3 x_{2}\\\\- x_{1} & 5 x_{2}\\\\4 x_{1} & - x_{2}\\end{matrix}\\right]$"
      ],
      "text/plain": [
       "Matrix([\n",
       "[  x1, 3*x2],\n",
       "[ -x1, 5*x2],\n",
       "[4*x1,  -x2]])"
      ]
     },
     "execution_count": 16,
     "metadata": {},
     "output_type": "execute_result"
    }
   ],
   "source": [
    "# Let E5 be the tranformation matrix in R3\n",
    "E5 = sp.Matrix([list(E3), list(E4)]).T\n",
    "E5"
   ]
  },
  {
   "cell_type": "markdown",
   "id": "687743a2-d411-4c1d-b28d-22d103991860",
   "metadata": {},
   "source": [
    "#### Image of a subset under a transformation\n",
    "\n",
    "\n",
    "<b>Note</b> that vectors can be visualised on a cartesian plane\n"
   ]
  },
  {
   "cell_type": "code",
   "execution_count": 20,
   "id": "c5f265f4-c715-4d47-bf60-c8f665ff8d73",
   "metadata": {},
   "outputs": [
    {
     "data": {
      "text/html": [
       "$\\left[\\begin{matrix}-2\\\\-2\\end{matrix}\\right]$ &nbsp;&nbsp;$\\left[\\begin{matrix}-2\\\\2\\end{matrix}\\right]$ &nbsp;&nbsp;$\\left[\\begin{matrix}2\\\\-2\\end{matrix}\\right]$ &nbsp;&nbsp;"
      ],
      "text/plain": [
       "<IPython.core.display.HTML object>"
      ]
     },
     "execution_count": 20,
     "metadata": {},
     "output_type": "execute_result"
    }
   ],
   "source": [
    "# Let X0, X1 X2 be vectors\n",
    "X0 = sp.Matrix([-2, -2])\n",
    "X1 = sp.Matrix([-2, 2])\n",
    "X2 = sp.Matrix([2, -2])\n",
    "\n",
    "RTL([X0, X1, X2])"
   ]
  },
  {
   "cell_type": "code",
   "execution_count": 21,
   "id": "d320176d-0e51-49ab-a093-17811501fb6b",
   "metadata": {},
   "outputs": [
    {
     "data": {
      "image/png": "[encoded data removed]",
      "text/plain": [
       "<Figure size 432x288 with 1 Axes>"
      ]
     },
     "metadata": {
      "needs_background": "light"
     },
     "output_type": "display_data"
    }
   ],
   "source": [
    "x = [0, -2, 0, -2, 0, 2]\n",
    "y = [0, -2, 0, 2, 0, -2]\n",
    "\n",
    "plt.plot(x, y)\n",
    "plt.grid()"
   ]
  },
  {
   "cell_type": "markdown",
   "id": "3ab1090c-458b-416a-bc76-a9239c7250d8",
   "metadata": {},
   "source": [
    "<br/>\n",
    "\n",
    "<b>Note</b> that if a line, $L_0$, is the interval between $X1$ and $X2$, $L_0$ can be denoted as a parametrisation of a line: \n",
    "\n",
    "\n",
    "$$ L_0 = \\{ \\vec{x_0} + t(\\vec{x_1} - \\vec{x_0}) \\text{ | } 0 \\le t \\le 1  \\}$$\n",
    "\n",
    "<b>Note</b> that similiarly, it must be the case that: \n",
    "\n",
    "$$ L_1 = \\{ \\vec{x_1} + t(\\vec{x_2} - \\vec{x_1}) \\text{ | }  0 \\le t \\le 1  \\}$$\n",
    "\n",
    "$$ L_2 = \\{ \\vec{x_2} + t(\\vec{x_0} - \\vec{x_2}) \\text{ | }  0 \\le t \\le 1  \\}$$\n",
    "\n",
    "<b>Note</b> that $ S = \\{ L_0, L_1, L_2 \\} $ is a union that can be defined as a triangle\n",
    "\n",
    "So what happens to the set when we take a linear transformation T of this hole unioin\n",
    "\n",
    "<b>Note</b> that is is possible to Transform this union ov vectors using, for example, the transformation $T\\vec{x}$ = $\\left[\\begin{matrix}1 & -1\\\\2 & 0\\end{matrix}\\right]$\n",
    "\n",
    "\n",
    "<b>Note</b> that the transformation is possible via algebraic manipulation where\n",
    "\n",
    "$$ T(L_0) = \\{ T (\\vec{x_0} + t(\\vec{x_1} - \\vec{x_0})) \\text{ | }  0 \\le t \\le 1  \\}  $$\n",
    "\n",
    "is equivalent to: \n",
    "\n",
    "$$ T(L_0) = \\{ T(\\vec{x_o}) - t(T(\\vec{x_1}) - T(\\vec{x_0})) \\}$$\n",
    "\n",
    "<b>Note</b> that this means it is possible to transform list of points that represent polygon"
   ]
  },
  {
   "cell_type": "markdown",
   "id": "67668280-f7da-4585-816c-a4bd1feb801b",
   "metadata": {},
   "source": [
    "<b>Example</b>: <i>Show that the above formula is valid and that the transformation can be applied to a union of vectors </i>"
   ]
  },
  {
   "cell_type": "code",
   "execution_count": 22,
   "id": "2a4a0c23-f92a-4129-9a67-39e6c1d5f95f",
   "metadata": {},
   "outputs": [],
   "source": [
    "# LetL0, x0, t, x1, T be variables\n",
    "L0, x0, t, x1, T = sp.symbols('L0, x0, t, x1, T')"
   ]
  },
  {
   "cell_type": "code",
   "execution_count": 23,
   "id": "04de14d1-5ca5-493a-a4b7-4d7786978d90",
   "metadata": {},
   "outputs": [
    {
     "data": {
      "text/latex": [
       "$\\displaystyle L_{0} = t \\left(- x_{0} + x_{1}\\right) + x_{0}$"
      ],
      "text/plain": [
       "Eq(L0, t*(-x0 + x1) + x0)"
      ]
     },
     "execution_count": 23,
     "metadata": {},
     "output_type": "execute_result"
    }
   ],
   "source": [
    "# Let E2 be line between X0 and X1\n",
    "E2 = sp.Eq(L0, x0 + t * (x1 - x0) )\n",
    "E2"
   ]
  },
  {
   "cell_type": "code",
   "execution_count": 24,
   "id": "e3a552e7-5ace-4e80-827a-041f6f7830cb",
   "metadata": {},
   "outputs": [
    {
     "data": {
      "text/latex": [
       "$\\displaystyle L_{0} T = - T t x_{0} + T t x_{1} + T x_{0}$"
      ],
      "text/plain": [
       "Eq(L0*T, -T*t*x0 + T*t*x1 + T*x0)"
      ]
     },
     "execution_count": 24,
     "metadata": {},
     "output_type": "execute_result"
    }
   ],
   "source": [
    "# Let E3 be a transformation applied to E2\n",
    "E3 = sp.Eq(E2.lhs * T, E2.rhs * T )\n",
    "E4 = E3.expand()\n",
    "E4"
   ]
  },
  {
   "cell_type": "code",
   "execution_count": 25,
   "id": "7b662b94-e4ae-4998-b5d5-212cf5719a3f",
   "metadata": {},
   "outputs": [
    {
     "data": {
      "text/latex": [
       "$\\displaystyle L_{0} T = T x_{0} + t \\left(- T x_{0} + T x_{1}\\right)$"
      ],
      "text/plain": [
       "Eq(L0*T, T*x0 + t*(-T*x0 + T*x1))"
      ]
     },
     "execution_count": 25,
     "metadata": {},
     "output_type": "execute_result"
    }
   ],
   "source": [
    "# Let E5 be an algebraic manipulatin of E4\n",
    "E5 = sp.Eq(E4.lhs, E4.rhs.collect(t))\n",
    "E5"
   ]
  },
  {
   "cell_type": "code",
   "execution_count": 26,
   "id": "e1d3742b-eb34-49ab-92fb-f439f510641c",
   "metadata": {},
   "outputs": [
    {
     "data": {
      "text/latex": [
       "$\\displaystyle \\left[\\begin{matrix}1 & -1\\\\2 & 0\\end{matrix}\\right]$"
      ],
      "text/plain": [
       "Matrix([\n",
       "[1, -1],\n",
       "[2,  0]])"
      ]
     },
     "execution_count": 26,
     "metadata": {},
     "output_type": "execute_result"
    }
   ],
   "source": [
    "# Using the forumul a\n",
    "E6 = sp.Matrix([[1, -1], [2, 0]])\n",
    "E6"
   ]
  },
  {
   "cell_type": "code",
   "execution_count": 27,
   "id": "a4efe8a3-ef4c-47a7-bb42-646b7bf14808",
   "metadata": {},
   "outputs": [
    {
     "data": {
      "text/html": [
       "$\\left[\\begin{matrix}0\\\\-4\\end{matrix}\\right]$ &nbsp;&nbsp;$\\left[\\begin{matrix}-4\\\\-4\\end{matrix}\\right]$ &nbsp;&nbsp;$\\left[\\begin{matrix}4\\\\4\\end{matrix}\\right]$ &nbsp;&nbsp;"
      ],
      "text/plain": [
       "<IPython.core.display.HTML object>"
      ]
     },
     "execution_count": 27,
     "metadata": {},
     "output_type": "execute_result"
    }
   ],
   "source": [
    "# Let E7, E8 and E9 be \n",
    "\n",
    "E7 = E6 * X0 + t *  (-E6 * X0 + E6 * X0)\n",
    "E8 = E6 * X1 + t *  (-E6 * X1 + E6 * X1)\n",
    "E9 = E6 * X2 + t *  (-E6 * X2 + E6 * X2)\n",
    "\n",
    "RTL([E7, E8, E9])"
   ]
  },
  {
   "cell_type": "markdown",
   "id": "57cbde44-d7f8-49e4-8259-a56c3ce04814",
   "metadata": {},
   "source": [
    "#### Preimage of a set\n",
    "\n",
    "\n",
    "<b>Recall </b> that $T: X \\mapsto Y$  can denote a transformation between a domain and codomain, or an association of any member rom the set $X$ to the set $Y$\n",
    "\n",
    "<b>Note</b> that $T(A)$ can be defined as the image of A under T, which means the set all members of subset A, or all possible transformations. This can be denoted as: \n",
    "\n",
    " $$\\{T(\\vec{x}) \\subseteq Y \\text{ | } \\vec{x} \\in A \\} $$\n",
    "\n",
    "<b>Note</b> that this implis that the set of all trasnformations is defined as the <b>image</b> of $A$ under $T$\n",
    "\n",
    "<b>Note</b> that it is, alternatively, possible to consider some set $S$ in $Y$ and seek to determine the subset of the domain that maps into $S$, denoted as: \n",
    "\n",
    "$$ \\{ \\vec{x} \\in X \\text{ | } T(\\vec{x} \\in S \\} $$\n",
    "\n",
    "\n",
    "<b>Note</b> that the set of domain that can be mapped into $S$ is defined as the <b>preimaage</b> of S and denoted as $T^{-1}S$, called the preimage of $S$ under $T$: \n",
    "\n",
    "$$T(T^{-1}(S))$$\n",
    " \n",
    "<b>Note</b> that the preimage of the preimage can be defined as:\n",
    "\n",
    "$$T(T^{-1}(S)) \\subseteq S$$\n",
    "\n",
    "\n",
    "<hr/>"
   ]
  },
  {
   "cell_type": "markdown",
   "id": "eb909bda-48b9-441b-ba13-21e85137ab39",
   "metadata": {},
   "source": [
    "#### Preimage and kernal example\n",
    "\n",
    "<b>Example</b>: <i> If $T$ is a the transformation from $\\mathbb{R^2}$ to $\\mathbb{R^2}$, with a transfromation vectors ($x_1 + 3x_2, 2x_1 + 6x_2$) find the set of vectors in the preimage that will map toeitehr $ \\displaystyle \\left[\\begin{matrix}0\\\\0\\end{matrix}\\right] $ or $\\displaystyle \\left[\\begin{matrix}1\\\\2\\end{matrix}\\right]$"
   ]
  },
  {
   "cell_type": "code",
   "execution_count": 28,
   "id": "39cc1079-ebdf-4a70-b6d6-fba948538722",
   "metadata": {},
   "outputs": [],
   "source": [
    "# let x1, x2 be variables\n",
    "x1, x2, t = sp.symbols('x1, x2, t')"
   ]
  },
  {
   "cell_type": "code",
   "execution_count": 29,
   "id": "9f590a80-39c3-4237-a062-e5793d6c79e8",
   "metadata": {},
   "outputs": [
    {
     "data": {
      "text/latex": [
       "$\\displaystyle \\left[\\begin{matrix}1 & 0\\\\0 & 1\\end{matrix}\\right]$"
      ],
      "text/plain": [
       "Matrix([\n",
       "[1, 0],\n",
       "[0, 1]])"
      ]
     },
     "execution_count": 29,
     "metadata": {},
     "output_type": "execute_result"
    }
   ],
   "source": [
    "# Let E1 be a identity matrix of the codomain\n",
    "E1 = sp.eye(2)\n",
    "E1"
   ]
  },
  {
   "cell_type": "code",
   "execution_count": 30,
   "id": "2ebd94aa-7f66-4600-b87f-8d38e2b5ce88",
   "metadata": {},
   "outputs": [
    {
     "data": {
      "text/latex": [
       "$\\displaystyle \\left[\\begin{matrix}x_{1} & 3 x_{2}\\\\2 x_{1} & 6 x_{2}\\end{matrix}\\right]$"
      ],
      "text/plain": [
       "Matrix([\n",
       "[  x1, 3*x2],\n",
       "[2*x1, 6*x2]])"
      ]
     },
     "execution_count": 30,
     "metadata": {},
     "output_type": "execute_result"
    }
   ],
   "source": [
    "# Let E2 be a Transformation matrix (a scaled identity matrix)\n",
    "E2 = sp.Matrix([[1 * x1, 3 * x2],\n",
    "               [2 * x1, 6 * x2]])\n",
    "E2"
   ]
  },
  {
   "cell_type": "code",
   "execution_count": 31,
   "id": "e1aed850-25a5-475f-af51-4581b4e0c9fe",
   "metadata": {},
   "outputs": [
    {
     "data": {
      "text/html": [
       "$\\left[\\begin{matrix}x_{1}\\\\2 x_{1}\\end{matrix}\\right]$ &nbsp;&nbsp;$\\left[\\begin{matrix}3 x_{2}\\\\6 x_{2}\\end{matrix}\\right]$ &nbsp;&nbsp;"
      ],
      "text/plain": [
       "<IPython.core.display.HTML object>"
      ]
     },
     "execution_count": 31,
     "metadata": {},
     "output_type": "execute_result"
    }
   ],
   "source": [
    "# Let E3, E4, E5 be the transformation applied to the identity matrix\n",
    "E3 = E2 * E1.col(0)\n",
    "E4 = E2 * E1.col(1)\n",
    "RTL([E3, E4])"
   ]
  },
  {
   "cell_type": "code",
   "execution_count": 32,
   "id": "753dc0d6-21b4-46f0-afaf-d1ca5540196a",
   "metadata": {},
   "outputs": [
    {
     "data": {
      "text/latex": [
       "$\\displaystyle \\left[\\begin{matrix}x_{1} & 3 x_{2}\\\\2 x_{1} & 6 x_{2}\\end{matrix}\\right]$"
      ],
      "text/plain": [
       "Matrix([\n",
       "[  x1, 3*x2],\n",
       "[2*x1, 6*x2]])"
      ]
     },
     "execution_count": 32,
     "metadata": {},
     "output_type": "execute_result"
    }
   ],
   "source": [
    "# Let E5 be the tranformation matrix in R3\n",
    "E5 = sp.Matrix([list(E3), list(E4)]).T\n",
    "E5"
   ]
  },
  {
   "cell_type": "markdown",
   "id": "ff574bf2-80c7-4506-a17b-7370261e462b",
   "metadata": {},
   "source": [
    "<b>Note</b> that this examples asks for a subset of $T^1(S) = \\text{ preimage of s under T } $\n",
    " \n",
    "denoted as: \n",
    " \n",
    " $$ \\{ \\vec{x} \\in \\mathbb{R^2} \\text{ | } T(\\vec{x}) \\in S \\} $$\n",
    " \n",
    "or more explicitly:\n",
    "\n",
    " $$ \\{ \\vec{x} \\in \\mathbb{R^2} \\text{ | } A\\vec{x} = \\left[\\begin{matrix}0\\\\0\\end{matrix}\\right] \\text{ or }  A\\vec{x} = \\left[\\begin{matrix}1\\\\2\\end{matrix}\\right] \\in S \\} $$\n"
   ]
  },
  {
   "cell_type": "code",
   "execution_count": 43,
   "id": "411c6ed4-716b-4ece-b363-cd60ca080569",
   "metadata": {},
   "outputs": [
    {
     "data": {
      "text/latex": [
       "$\\displaystyle \\left[\\begin{matrix}x_{1} + 3 x_{2}\\\\2 x_{1} + 6 x_{2}\\end{matrix}\\right]$"
      ],
      "text/plain": [
       "Matrix([\n",
       "[  x1 + 3*x2],\n",
       "[2*x1 + 6*x2]])"
      ]
     },
     "execution_count": 43,
     "metadata": {},
     "output_type": "execute_result"
    }
   ],
   "source": [
    "E6 = sp.Matrix([sum(E5.row(0)), sum(E5.row(1))])\n",
    "E6"
   ]
  },
  {
   "cell_type": "code",
   "execution_count": 45,
   "id": "c31086bf-3af1-463f-8c59-b87882fc13f6",
   "metadata": {},
   "outputs": [
    {
     "data": {
      "text/plain": [
       "{x1: -3*x2}"
      ]
     },
     "execution_count": 45,
     "metadata": {},
     "output_type": "execute_result"
    }
   ],
   "source": [
    "E7 = sp.solve(E6, (x1, x2))\n",
    "E7"
   ]
  },
  {
   "cell_type": "code",
   "execution_count": 47,
   "id": "c05fd5b6-c63a-49a1-9b15-10c40cc6e371",
   "metadata": {},
   "outputs": [
    {
     "data": {
      "text/latex": [
       "$\\displaystyle \\left[\\begin{matrix}x_{1} + 3 x_{2} - 1\\\\2 x_{1} + 6 x_{2} - 2\\end{matrix}\\right]$"
      ],
      "text/plain": [
       "Matrix([\n",
       "[  x1 + 3*x2 - 1],\n",
       "[2*x1 + 6*x2 - 2]])"
      ]
     },
     "execution_count": 47,
     "metadata": {},
     "output_type": "execute_result"
    }
   ],
   "source": [
    "E8 = sp.Matrix([sum(E5.row(0)) - 1, sum(E5.row(1)) - 2])\n",
    "E8"
   ]
  },
  {
   "cell_type": "code",
   "execution_count": 48,
   "id": "e04590c5-5770-4b75-b12b-51020d88e9da",
   "metadata": {},
   "outputs": [
    {
     "data": {
      "text/plain": [
       "{x1: 1 - 3*x2}"
      ]
     },
     "execution_count": 48,
     "metadata": {},
     "output_type": "execute_result"
    }
   ],
   "source": [
    "E9 = sp.solve(E8, (x1, x2))\n",
    "E9"
   ]
  },
  {
   "cell_type": "code",
   "execution_count": 52,
   "id": "ef0d1928-1cc2-4667-ab26-94243f3a4bcd",
   "metadata": {},
   "outputs": [
    {
     "data": {
      "text/latex": [
       "$\\displaystyle x_{1} = - 3 t$"
      ],
      "text/plain": [
       "Eq(x1, -3*t)"
      ]
     },
     "execution_count": 52,
     "metadata": {},
     "output_type": "execute_result"
    }
   ],
   "source": [
    "# Note x2 is free variable, so set to t\n",
    "E10  = sp.Eq(x1, E7[x1].subs({x2: t}))\n",
    "E10"
   ]
  },
  {
   "cell_type": "code",
   "execution_count": 54,
   "id": "b1d2ff36-711d-4933-814c-554f24ccb8f9",
   "metadata": {},
   "outputs": [
    {
     "data": {
      "text/latex": [
       "$\\displaystyle x_{1} = 1 - 3 t$"
      ],
      "text/plain": [
       "Eq(x1, 1 - 3*t)"
      ]
     },
     "execution_count": 54,
     "metadata": {},
     "output_type": "execute_result"
    }
   ],
   "source": [
    "# Note x2 is free variable, so set to t\n",
    "E11  = sp.Eq(x1, E9[x1].subs({x2: t}))\n",
    "E11"
   ]
  },
  {
   "cell_type": "code",
   "execution_count": 55,
   "id": "672eb906-b44e-4e17-b3ab-702ee6472010",
   "metadata": {},
   "outputs": [
    {
     "data": {
      "text/latex": [
       "$\\displaystyle \\left[\\begin{matrix}x_{1}\\\\x_{2}\\end{matrix}\\right] = \\left[\\begin{matrix}- 3 t\\\\t\\end{matrix}\\right]$"
      ],
      "text/plain": [
       "Eq(Matrix([\n",
       "[x1],\n",
       "[x2]]), Matrix([\n",
       "[-3*t],\n",
       "[   t]]))"
      ]
     },
     "execution_count": 55,
     "metadata": {},
     "output_type": "execute_result"
    }
   ],
   "source": [
    "# now write solution set as vector noations\n",
    "E12 = sp.Eq(sp.Matrix([x1, x2]), t * sp.Matrix([-3, 1]))\n",
    "E12"
   ]
  },
  {
   "cell_type": "code",
   "execution_count": 56,
   "id": "f1cb592b-2fe4-4ae1-b3ca-67549385a8d4",
   "metadata": {},
   "outputs": [
    {
     "data": {
      "text/latex": [
       "$\\displaystyle \\left[\\begin{matrix}x_{1}\\\\x_{2}\\end{matrix}\\right] = \\left[\\begin{matrix}- 2 t\\\\t\\end{matrix}\\right]$"
      ],
      "text/plain": [
       "Eq(Matrix([\n",
       "[x1],\n",
       "[x2]]), Matrix([\n",
       "[-2*t],\n",
       "[   t]]))"
      ]
     },
     "execution_count": 56,
     "metadata": {},
     "output_type": "execute_result"
    }
   ],
   "source": [
    "E13 = sp.Eq(sp.Matrix([x1, x2]), t * sp.Matrix([-2, 1]))\n",
    "E13"
   ]
  },
  {
   "cell_type": "markdown",
   "id": "f80d9bcb-5176-457e-8db2-d6b709a199db",
   "metadata": {},
   "source": [
    "#### Linear transformation examples: Scales and reflections\n",
    "\n",
    "\n",
    "<b>Recall</b> the linear transformation:  \n",
    "\n",
    "$$ T: \\mathbb{R^n} \\mapsto \\mathbb{R^m}  $$\n",
    "\n",
    "can be represented as:\n",
    "\n",
    "$$ T(\\vec{x}) = A \\vec{x} $$ \n",
    "\n",
    "where $A$ is an $m \\times n $ matrix\n",
    "\n",
    "A then becomes transformation on each of the columns\n",
    "\n",
    "<b>Example </b>: <i>Reflect and scale the vectors $ \\left[\\begin{matrix}3\\\\2\\end{matrix}\\right] $, $ \\left[\\begin{matrix}-3\\\\2\\end{matrix}\\right] $ and $ \\left[\\begin{matrix}3\\\\-2\\end{matrix}\\right] $ across the $Y$ axis and scaled on the $Y$ axis by a factor of 2"
   ]
  },
  {
   "cell_type": "code",
   "execution_count": 57,
   "id": "4f9899cf-13c1-4692-b911-5f48485e0c4b",
   "metadata": {},
   "outputs": [
    {
     "data": {
      "text/html": [
       "$\\left[\\begin{matrix}3\\\\2\\end{matrix}\\right]$ &nbsp;&nbsp;$\\left[\\begin{matrix}-3\\\\2\\end{matrix}\\right]$ &nbsp;&nbsp;$\\left[\\begin{matrix}3\\\\-2\\end{matrix}\\right]$ &nbsp;&nbsp;"
      ],
      "text/plain": [
       "<IPython.core.display.HTML object>"
      ]
     },
     "execution_count": 57,
     "metadata": {},
     "output_type": "execute_result"
    }
   ],
   "source": [
    "# Let E1, E2 and E3 be matrices\n",
    "E1 = sp.Matrix([3,2])\n",
    "E2 = sp.Matrix([-3, 2])\n",
    "E3 = sp.Matrix([3, -2])\n",
    "\n",
    "RTL([E1, E2, E3])"
   ]
  },
  {
   "cell_type": "code",
   "execution_count": 58,
   "id": "1e38dabb-8a53-46b1-995c-fb1f9132fe63",
   "metadata": {},
   "outputs": [],
   "source": [
    "# Note that these vectors can be plotted using a custom function\n",
    "def PlotVectors(vectors = [], plotPointsAsShape = False, plotFromStandardPosition = False):\n",
    "\n",
    "    plt.scatter(0, 0)\n",
    "    plt.grid()\n",
    "    \n",
    "    xValues = [vectors[i][0] for i in range(len(vectors))]\n",
    "    yValues = [vectors[i][1] for i in range(len(vectors))]\n",
    "    \n",
    "    plt.scatter(xValues, yValues)\n",
    "    \n",
    "    \n",
    "    if plotPointsAsShape:\n",
    "        xValues.append(xValues[0])\n",
    "        yValues.append(yValues[0])\n",
    "\n",
    "        plt.plot(xValues, yValues)\n",
    "    \n",
    "    if plotFromStandardPosition:\n",
    "        for i in range(len(xValues)):\n",
    "            plt.plot([0, xValues[i]], [0,  yValues[i]])\n"
   ]
  },
  {
   "cell_type": "code",
   "execution_count": 59,
   "id": "957bc1df-18e0-41e4-a5fd-6ae41afbd227",
   "metadata": {},
   "outputs": [
    {
     "data": {
      "image/png": "[encoded data removed]",
      "text/plain": [
       "<Figure size 432x288 with 1 Axes>"
      ]
     },
     "metadata": {
      "needs_background": "light"
     },
     "output_type": "display_data"
    }
   ],
   "source": [
    "PlotVectors([E1, E2, E3], plotPointsAsShape=True, plotFromStandardPosition=True)"
   ]
  },
  {
   "cell_type": "code",
   "execution_count": 61,
   "id": "7efd3af5-e957-4677-bc28-0a7c03a348c2",
   "metadata": {},
   "outputs": [
    {
     "data": {
      "text/latex": [
       "$\\displaystyle \\left[\\begin{matrix}1 & 0\\\\0 & 1\\end{matrix}\\right]$"
      ],
      "text/plain": [
       "Matrix([\n",
       "[1, 0],\n",
       "[0, 1]])"
      ]
     },
     "execution_count": 61,
     "metadata": {},
     "output_type": "execute_result"
    }
   ],
   "source": [
    "# Let E4 be an identity matrix based on dimensions in the domain\n",
    "E4 = sp.eye(2)\n",
    "E4"
   ]
  },
  {
   "cell_type": "code",
   "execution_count": 62,
   "id": "5f00078c-00d2-4fd6-9c0e-e2b86ea1f971",
   "metadata": {},
   "outputs": [
    {
     "data": {
      "text/latex": [
       "$\\displaystyle \\left[\\begin{matrix}-1 & 0\\\\0 & 2\\end{matrix}\\right]$"
      ],
      "text/plain": [
       "Matrix([\n",
       "[-1, 0],\n",
       "[ 0, 2]])"
      ]
     },
     "execution_count": 62,
     "metadata": {},
     "output_type": "execute_result"
    }
   ],
   "source": [
    "# Let E5 be a transformation matrix\n",
    "\n",
    "E5 = E4.col(0) * -1\n",
    "E6 = E4.col(1) * 2\n",
    "E7 = sp.Matrix([list(E5), list(E6)])\n",
    "E7"
   ]
  },
  {
   "cell_type": "code",
   "execution_count": 63,
   "id": "3c823ae3-2e73-4e40-82b1-14b94699cb44",
   "metadata": {},
   "outputs": [],
   "source": [
    "# Note that a function can be created to transform vectors through a transformation matrix\n",
    "def ApplyTransformationViaScaledIdentityMatrix(scaledIdentityMatrix, vectors):\n",
    "    transformedVectors = []\n",
    "    for i in vectors: \n",
    "        t = scaledIdentityMatrix * i\n",
    "        transformedVectors.append(t)\n",
    "        \n",
    "    return(transformedVectors)"
   ]
  },
  {
   "cell_type": "code",
   "execution_count": 65,
   "id": "83491114-b129-4769-b364-819b8c69da25",
   "metadata": {},
   "outputs": [
    {
     "data": {
      "text/html": [
       "$\\left[\\begin{matrix}-3\\\\4\\end{matrix}\\right]$ &nbsp;&nbsp;$\\left[\\begin{matrix}3\\\\4\\end{matrix}\\right]$ &nbsp;&nbsp;$\\left[\\begin{matrix}-3\\\\-4\\end{matrix}\\right]$ &nbsp;&nbsp;"
      ],
      "text/plain": [
       "<IPython.core.display.HTML object>"
      ]
     },
     "execution_count": 65,
     "metadata": {},
     "output_type": "execute_result"
    }
   ],
   "source": [
    "# Let E8 be the transformed vectors\n",
    "E8 = ApplyTransformationViaScaledIdentityMatrix(E7, [E1, E2, E3])\n",
    "RTL(E8)"
   ]
  },
  {
   "cell_type": "code",
   "execution_count": 66,
   "id": "3ca5a989-bc9c-4f57-a729-3bb93e3edf03",
   "metadata": {},
   "outputs": [
    {
     "data": {
      "image/png": "[encoded data removed]",
      "text/plain": [
       "<Figure size 432x288 with 1 Axes>"
      ]
     },
     "metadata": {
      "needs_background": "light"
     },
     "output_type": "display_data"
    }
   ],
   "source": [
    "# Plot the transformed points\n",
    "PlotVectors(E8, plotPointsAsShape=True, plotFromStandardPosition=True)"
   ]
  },
  {
   "cell_type": "markdown",
   "id": "90bbd450-7ae2-48de-8c50-561a09ca17ae",
   "metadata": {},
   "source": [
    "#### Linear transformation examples: Rotations in R2\n",
    "\n",
    "Note that rotation can be regarded as linear transformation\n",
    "\n",
    "$$ Rot_\\theta (\\vec{x}): \\mathbb{R^2} \\mapsto \\mathbb{R^2} $$\n",
    "\n",
    "\n",
    "which means \n",
    "\n",
    "$$ Rot_\\theta (\\vec{x}) = A_{(2 x 2)} \\vec{x}$$\n",
    "\n",
    "question - how to find A - need to start with identity, \n",
    "\n",
    "\n",
    "$$ A = [Rot_\\theta \\left[\\begin{matrix}1\\\\0\\end{matrix}\\right]   Rot_\\theta \\left[\\begin{matrix}0\\\\1\\end{matrix}\\right]] $$"
   ]
  },
  {
   "cell_type": "code",
   "execution_count": 350,
   "id": "dc483273-8e61-405c-8e82-806b30c0669e",
   "metadata": {},
   "outputs": [
    {
     "data": {
      "text/latex": [
       "$\\displaystyle \\left[\\begin{matrix}1 & 0\\\\0 & 1\\end{matrix}\\right]$"
      ],
      "text/plain": [
       "Matrix([\n",
       "[1, 0],\n",
       "[0, 1]])"
      ]
     },
     "execution_count": 350,
     "metadata": {},
     "output_type": "execute_result"
    }
   ],
   "source": [
    "theta = sp.symbols('theta')\n",
    "E1 = sp.eye(2) \n",
    "E1"
   ]
  },
  {
   "cell_type": "code",
   "execution_count": 351,
   "id": "abe225f8-32ea-4328-9465-7123427d89ad",
   "metadata": {},
   "outputs": [],
   "source": [
    "# Just perform transformation on each colums\n",
    "# how does"
   ]
  },
  {
   "cell_type": "code",
   "execution_count": 352,
   "id": "43057d26-bee4-4438-9999-6535b18bf1fc",
   "metadata": {},
   "outputs": [
    {
     "data": {
      "image/png": "[encoded data removed]",
      "text/plain": [
       "<Figure size 432x288 with 1 Axes>"
      ]
     },
     "metadata": {
      "needs_background": "light"
     },
     "output_type": "display_data"
    }
   ],
   "source": [
    "PlotVectors([E1.col(0), E1.col(1)], plotFromStandardPosition=True)"
   ]
  },
  {
   "cell_type": "code",
   "execution_count": 355,
   "id": "d788000c-34b0-4738-9955-42e940ece6ac",
   "metadata": {},
   "outputs": [
    {
     "data": {
      "text/latex": [
       "$\\displaystyle \\left[\\begin{matrix}\\cos{\\left(\\theta \\right)}\\\\\\sin{\\left(\\theta \\right)}\\end{matrix}\\right]$"
      ],
      "text/plain": [
       "Matrix([\n",
       "[cos(theta)],\n",
       "[sin(theta)]])"
      ]
     },
     "execution_count": 355,
     "metadata": {},
     "output_type": "execute_result"
    }
   ],
   "source": [
    "# note that totration in counter closckwhite will be cosine theta\n",
    "\n",
    "E2 = sp.Matrix([sp.cos(theta), sp.sin(theta)])\n",
    "E2"
   ]
  },
  {
   "cell_type": "code",
   "execution_count": 356,
   "id": "d37d8906-a0f1-4974-b9d9-d9cfc94baf63",
   "metadata": {},
   "outputs": [
    {
     "data": {
      "text/latex": [
       "$\\displaystyle \\left[\\begin{matrix}- \\sin{\\left(\\theta \\right)}\\\\\\cos{\\left(\\theta \\right)}\\end{matrix}\\right]$"
      ],
      "text/plain": [
       "Matrix([\n",
       "[-sin(theta)],\n",
       "[ cos(theta)]])"
      ]
     },
     "execution_count": 356,
     "metadata": {},
     "output_type": "execute_result"
    }
   ],
   "source": [
    "E3 = sp.Matrix([- sp.sin(theta), sp.cos(theta)])\n",
    "E3"
   ]
  },
  {
   "cell_type": "code",
   "execution_count": 372,
   "id": "d28a3262-428b-4596-a56a-e88685f5a4d2",
   "metadata": {},
   "outputs": [
    {
     "data": {
      "text/latex": [
       "$\\displaystyle \\left[\\begin{matrix}\\cos{\\left(\\theta \\right)} & - \\sin{\\left(\\theta \\right)}\\\\\\sin{\\left(\\theta \\right)} & \\cos{\\left(\\theta \\right)}\\end{matrix}\\right]$"
      ],
      "text/plain": [
       "Matrix([\n",
       "[cos(theta), -sin(theta)],\n",
       "[sin(theta),  cos(theta)]])"
      ]
     },
     "execution_count": 372,
     "metadata": {},
     "output_type": "execute_result"
    }
   ],
   "source": [
    "E4 = sp.Matrix([list(E2), list(E3)]).T\n",
    "E4"
   ]
  },
  {
   "cell_type": "code",
   "execution_count": 386,
   "id": "88a3edac-2673-47d5-9d0c-ed090e0f4d73",
   "metadata": {},
   "outputs": [],
   "source": [
    "# apply to any x1 x2 matrix, from there\n",
    "E5 = E4.subs({theta: 45})"
   ]
  },
  {
   "cell_type": "code",
   "execution_count": 387,
   "id": "a1aac2a6-8b80-42c9-8988-235a975b823a",
   "metadata": {},
   "outputs": [],
   "source": [
    "E6 = E5 * sp.Matrix([1,0])"
   ]
  },
  {
   "cell_type": "code",
   "execution_count": 388,
   "id": "9221a9ec-670a-4a93-b152-77eca28095fa",
   "metadata": {},
   "outputs": [
    {
     "data": {
      "image/png": "[encoded data removed]",
      "text/plain": [
       "<Figure size 432x288 with 1 Axes>"
      ]
     },
     "metadata": {
      "needs_background": "light"
     },
     "output_type": "display_data"
    }
   ],
   "source": [
    "PlotVectors([E1.col(0), E6], plotFromStandardPosition=True)"
   ]
  },
  {
   "cell_type": "markdown",
   "id": "c9aa4fef-1d65-40b8-93df-da0b0a42c677",
   "metadata": {},
   "source": [
    "#### Unit vectors\n",
    "\n",
    "Is a vectors of length 1\n",
    "\n",
    "PUT IN FORMULA.....as per below\n",
    "\n",
    "<hr/>"
   ]
  },
  {
   "cell_type": "code",
   "execution_count": 390,
   "id": "b5af13ea-3341-4c4e-8eb2-3ae30babce5c",
   "metadata": {},
   "outputs": [
    {
     "data": {
      "text/latex": [
       "$\\displaystyle \\left[\\begin{matrix}4\\\\5\\\\6\\\\7\\end{matrix}\\right]$"
      ],
      "text/plain": [
       "Matrix([\n",
       "[4],\n",
       "[5],\n",
       "[6],\n",
       "[7]])"
      ]
     },
     "execution_count": 390,
     "metadata": {},
     "output_type": "execute_result"
    }
   ],
   "source": [
    "E1 = sp.Matrix([4,5,6,7])\n",
    "E1"
   ]
  },
  {
   "cell_type": "code",
   "execution_count": 392,
   "id": "810d416f-28b4-4880-80e8-076b98e71b8c",
   "metadata": {},
   "outputs": [
    {
     "data": {
      "text/latex": [
       "$\\displaystyle \\left[\\begin{matrix}\\frac{2 \\sqrt{14}}{21}\\\\\\frac{5 \\sqrt{14}}{42}\\\\\\frac{\\sqrt{14}}{7}\\\\\\frac{\\sqrt{14}}{6}\\end{matrix}\\right]$"
      ],
      "text/plain": [
       "Matrix([\n",
       "[2*sqrt(14)/21],\n",
       "[5*sqrt(14)/42],\n",
       "[   sqrt(14)/7],\n",
       "[   sqrt(14)/6]])"
      ]
     },
     "execution_count": 392,
     "metadata": {},
     "output_type": "execute_result"
    }
   ],
   "source": [
    "E2 = (1 / E1.norm()) * E1\n",
    "E2"
   ]
  },
  {
   "cell_type": "markdown",
   "id": "70dc2a70-7b50-4036-9e2e-e5211a7e33d3",
   "metadata": {},
   "source": [
    "#### Introduction to projections"
   ]
  },
  {
   "cell_type": "code",
   "execution_count": 395,
   "id": "0f83723b-1397-4cd9-8d7f-d09cf308d11e",
   "metadata": {},
   "outputs": [
    {
     "data": {
      "image/png": "[encoded data removed]",
      "text/plain": [
       "<Figure size 432x288 with 1 Axes>"
      ]
     },
     "metadata": {
      "needs_background": "light"
     },
     "output_type": "display_data"
    }
   ],
   "source": [
    "# consider line\n",
    "PlotVectors([sp.Matrix([3, 3])], plotFromStandardPosition=True)\n"
   ]
  },
  {
   "cell_type": "markdown",
   "id": "807c2996-55a4-43ae-8a6d-3b6891866842",
   "metadata": {},
   "source": [
    "Note that a line is all scalar multiples of some vector\n",
    "\n",
    "Note that if this line $L$, $L = \\{ c\\vec{v} \\text{ | } c \\in \\mathbb{R} \\} $\n",
    "\n",
    "\n",
    "Now consider another vector"
   ]
  },
  {
   "cell_type": "code",
   "execution_count": 397,
   "id": "d7c7c538-e9dc-4798-9f26-5014b6653b42",
   "metadata": {},
   "outputs": [
    {
     "data": {
      "image/png": "[encoded data removed]",
      "text/plain": [
       "<Figure size 432x288 with 1 Axes>"
      ]
     },
     "metadata": {
      "needs_background": "light"
     },
     "output_type": "display_data"
    }
   ],
   "source": [
    "PlotVectors([sp.Matrix([1, 7]), sp.Matrix([3, 3]) ], plotFromStandardPosition=True)"
   ]
  },
  {
   "cell_type": "markdown",
   "id": "e7fc685e-4887-4a4c-be2e-dc2e7d4a244c",
   "metadata": {},
   "source": [
    "Ide aof os that light shines down onto blue inewhich is perpendicular to orange - idea of shadow on blue line to organe. \n",
    "\n",
    "How much does one line run the direction of another. Note that if we get a vector that is orthogonal and contains \n",
    "\n",
    "so what the part of orange vector above that goes from 0, 0 to a point that is orthognal to organse and meets blue\n",
    "\n",
    "L - is oragne\n",
    "\n",
    "So \n",
    "\n",
    "$$ Proj_L (\\vec{x}) = \\text{ some vector in L where } \\vec{x} - Proj_L(\\vec{x}) \\text { is orthogonal to L } $$\n",
    "\n",
    "\n",
    "Note that from the above def of line and $c \\vec{v} $, we can rewrite this projection vector and some scaled $L$\n",
    "\n",
    "$$ P = c\\vec{v} $$\n",
    "\n",
    "and if x is other vector, then it must be true that\n",
    "\n",
    "$$ (\\vec{x} - c \\vec{v}) \\cdot \\vec{v} = 0 $$\n",
    "\n",
    "now, via algebraic manipualtion it can be shown that: \n",
    "\n",
    "$$ c = \\frac{\\vec{x} \\cdot \\vec{v}} {\\vec{v} \\cdot \\vec{v}} $$\n",
    "\n",
    "This means that the project, $ c \\vec{v} $ becomes\n",
    "\n",
    "\n",
    "$$ Proj_L (\\vec{x})  = \\frac{\\vec{x} \\cdot \\vec{v}} {\\vec{v} \\cdot \\vec{v}} \\vec{v} $$\n"
   ]
  },
  {
   "cell_type": "code",
   "execution_count": 400,
   "id": "e85a6204-adbb-42aa-ba1d-4b89c51c464a",
   "metadata": {},
   "outputs": [
    {
     "data": {
      "text/latex": [
       "$\\displaystyle \\left[\\begin{matrix}2\\\\1\\end{matrix}\\right]$"
      ],
      "text/plain": [
       "Matrix([\n",
       "[2],\n",
       "[1]])"
      ]
     },
     "execution_count": 400,
     "metadata": {},
     "output_type": "execute_result"
    }
   ],
   "source": [
    "# #Example\n",
    "# Let E1 be a line (all scalar multiples)\n",
    "E1 = sp.Matrix([2, 1])\n",
    "E1"
   ]
  },
  {
   "cell_type": "code",
   "execution_count": 407,
   "id": "70a4065e-9425-4da9-b221-96a016412069",
   "metadata": {},
   "outputs": [
    {
     "data": {
      "text/latex": [
       "$\\displaystyle \\left[\\begin{matrix}2\\\\3\\end{matrix}\\right]$"
      ],
      "text/plain": [
       "Matrix([\n",
       "[2],\n",
       "[3]])"
      ]
     },
     "execution_count": 407,
     "metadata": {},
     "output_type": "execute_result"
    }
   ],
   "source": [
    "E2 = sp.Matrix([2, 3])\n",
    "E2"
   ]
  },
  {
   "cell_type": "code",
   "execution_count": 408,
   "id": "5ce6776b-f39b-4964-afc0-6387625345b0",
   "metadata": {},
   "outputs": [
    {
     "data": {
      "image/png": "[encoded data removed]",
      "text/plain": [
       "<Figure size 432x288 with 1 Axes>"
      ]
     },
     "metadata": {
      "needs_background": "light"
     },
     "output_type": "display_data"
    }
   ],
   "source": [
    "PlotVectors([E1, E2], plotFromStandardPosition=True)"
   ]
  },
  {
   "cell_type": "code",
   "execution_count": 415,
   "id": "5f9c2cd2-6b1d-4d47-8d49-ca0bc585bb5c",
   "metadata": {},
   "outputs": [
    {
     "data": {
      "text/latex": [
       "$\\displaystyle \\left[\\begin{matrix}\\frac{14}{5}\\\\\\frac{7}{5}\\end{matrix}\\right]$"
      ],
      "text/plain": [
       "Matrix([\n",
       "[14/5],\n",
       "[ 7/5]])"
      ]
     },
     "execution_count": 415,
     "metadata": {},
     "output_type": "execute_result"
    }
   ],
   "source": [
    "E3 = (E2.dot(E1) / E1.dot(E1)) * E1\n",
    "E3\n",
    "# ROUNDING PLOT ISSUE"
   ]
  },
  {
   "cell_type": "code",
   "execution_count": 419,
   "id": "5eaec898-df3d-4c68-a7eb-4b33c385dea9",
   "metadata": {},
   "outputs": [
    {
     "data": {
      "image/png": "[encoded data removed]",
      "text/plain": [
       "<Figure size 432x288 with 1 Axes>"
      ]
     },
     "metadata": {
      "needs_background": "light"
     },
     "output_type": "display_data"
    }
   ],
   "source": [
    "PlotVectors([E1, E2, E3], plotFromStandardPosition=True)"
   ]
  },
  {
   "cell_type": "code",
   "execution_count": 418,
   "id": "cf626616-530e-4a34-9e8e-a7f20f6cb942",
   "metadata": {},
   "outputs": [],
   "source": [
    "E3 = sp.Matrix([2.8, 1.4])"
   ]
  },
  {
   "cell_type": "markdown",
   "id": "fd88cc9f-ecbd-4321-9666-48520ffc1931",
   "metadata": {},
   "source": [
    "#### Expressing a projection on to a line as a matrix vector product\n",
    "\n",
    "Recall Note that if this line $L$, $L = \\{ c\\vec{v} \\text{ | } c \\in \\mathbb{R} \\} $ and projects possible\n",
    "\n",
    "\n",
    "$$ c = \\frac{\\vec{x} \\cdot \\vec{v}} {\\vec{v} \\cdot \\vec{v}} \\vec{v} $$\n",
    "\n",
    "\n",
    "Note that because it is the case that $\\vec{x} \\cdot \\vec{x} = ||x||^2 $ the above can be rewritten as \n",
    "\n",
    "\n",
    "$$ c = \\frac{\\vec{x} \\cdot \\vec{v}} {||v||^2} \\vec{v} $$\n",
    "\n",
    "\n",
    "Note that it would be convenient is length of v is 1, or v is a unit vector, then formula will simplify to: \n",
    "\n",
    "$$ (\\vec{x} \\cdot \\vec{v}) \\vec{v} $$\n",
    "\n",
    "So, given a vector that is not unit vector - you can normalise v first\n",
    "\n",
    "so let $\\vec{u} = \\frac{1}{||\\vec{v}||} \\vec{v} $\n",
    "\n",
    "\n",
    "so line $L$ could be redeninfed  $L = \\{ c\\vec{u} \\text{ | } c \\in \\mathbb{R} \\} $ then projection is simplifed to \n",
    "\n",
    "$$ Proj_L (\\vec{x})  = (\\vec{x} \\cdot \\vec{u})  \\hat{u} $$\n",
    "\n",
    "\n",
    "Note that this meets conditions for linear transformation"
   ]
  },
  {
   "cell_type": "code",
   "execution_count": 420,
   "id": "d3a6f0eb-6ab1-445c-8040-feb376867c6b",
   "metadata": {},
   "outputs": [],
   "source": [
    "# Example - for some vbector V, find a, how to find some transfomration for the projection on the line defined by v?"
   ]
  },
  {
   "cell_type": "code",
   "execution_count": 421,
   "id": "7654a7c9-62e9-428a-9bb9-aebc43850684",
   "metadata": {},
   "outputs": [],
   "source": [
    "E1 = sp.Matrix([2,1])"
   ]
  },
  {
   "cell_type": "code",
   "execution_count": 428,
   "id": "cb3c8ca2-1260-44ca-9110-c6d41992ca6f",
   "metadata": {},
   "outputs": [
    {
     "data": {
      "text/latex": [
       "$\\displaystyle \\left[\\begin{matrix}\\frac{2 \\sqrt{5}}{5}\\\\\\frac{\\sqrt{5}}{5}\\end{matrix}\\right]$"
      ],
      "text/plain": [
       "Matrix([\n",
       "[2*sqrt(5)/5],\n",
       "[  sqrt(5)/5]])"
      ]
     },
     "execution_count": 428,
     "metadata": {},
     "output_type": "execute_result"
    }
   ],
   "source": [
    "# convert to U\n",
    "E2 = (1 / E1.norm()) * E1\n",
    "E2"
   ]
  },
  {
   "cell_type": "code",
   "execution_count": 429,
   "id": "d581e9f7-d14f-49f4-8172-e47a59e0345d",
   "metadata": {},
   "outputs": [
    {
     "data": {
      "text/latex": [
       "$\\displaystyle \\left[\\begin{matrix}1 & 0\\\\0 & 1\\end{matrix}\\right]$"
      ],
      "text/plain": [
       "Matrix([\n",
       "[1, 0],\n",
       "[0, 1]])"
      ]
     },
     "execution_count": 429,
     "metadata": {},
     "output_type": "execute_result"
    }
   ],
   "source": [
    "E3 = sp.eye(2)\n",
    "E3"
   ]
  },
  {
   "cell_type": "markdown",
   "id": "c31884e6-f75b-4c13-bb5d-57904adebc3b",
   "metadata": {},
   "source": [
    "JG _ THIS IS KEY EXAMPLE - operating on each of the unit column vectors\n",
    "\n",
    "Note that we are applying transforation to each column of the identity matrix in the domain \n",
    "\n",
    "$$ \\left[\\begin{matrix}1\\\\0\\end{matrix}\\right] (\\vec{x} \\cdot \\vec{u})  \\hat{u} $$\n",
    "\n",
    "and \n",
    "\n",
    "\n",
    "$$ \\left[\\begin{matrix}0\\\\1\\end{matrix}\\right] (\\vec{x} \\cdot \\vec{u})  \\hat{u} $$\n"
   ]
  },
  {
   "cell_type": "code",
   "execution_count": 446,
   "id": "0252033a-3dce-4711-ad81-e24a6af018ad",
   "metadata": {},
   "outputs": [
    {
     "data": {
      "text/html": [
       "$\\left[\\begin{matrix}1\\\\0\\end{matrix}\\right]$ &nbsp;&nbsp;$\\left[\\begin{matrix}0\\\\1\\end{matrix}\\right]$ &nbsp;&nbsp;"
      ],
      "text/plain": [
       "<IPython.core.display.HTML object>"
      ]
     },
     "execution_count": 446,
     "metadata": {},
     "output_type": "execute_result"
    }
   ],
   "source": [
    "E4 = E3.col(0)\n",
    "E5 = E3.col(1)\n",
    "RTL([E4, E5])"
   ]
  },
  {
   "cell_type": "code",
   "execution_count": 447,
   "id": "e8736244-1a95-4074-93dd-90736bb48297",
   "metadata": {},
   "outputs": [
    {
     "data": {
      "text/latex": [
       "$\\displaystyle \\left[\\begin{matrix}\\frac{4}{5}\\\\\\frac{2}{5}\\end{matrix}\\right]$"
      ],
      "text/plain": [
       "Matrix([\n",
       "[4/5],\n",
       "[2/5]])"
      ]
     },
     "execution_count": 447,
     "metadata": {},
     "output_type": "execute_result"
    }
   ],
   "source": [
    "E6 = E4.dot(E2) * E2\n",
    "E6"
   ]
  },
  {
   "cell_type": "code",
   "execution_count": 448,
   "id": "8b4d012d-a29f-4bb4-8e90-a064862b0a74",
   "metadata": {},
   "outputs": [
    {
     "data": {
      "text/latex": [
       "$\\displaystyle \\left[\\begin{matrix}\\frac{2}{5}\\\\\\frac{1}{5}\\end{matrix}\\right]$"
      ],
      "text/plain": [
       "Matrix([\n",
       "[2/5],\n",
       "[1/5]])"
      ]
     },
     "execution_count": 448,
     "metadata": {},
     "output_type": "execute_result"
    }
   ],
   "source": [
    "E7 = E5.dot(E2) * E2\n",
    "E7"
   ]
  },
  {
   "cell_type": "code",
   "execution_count": 451,
   "id": "a7206975-d5f5-4914-80b1-c7b73a0956ac",
   "metadata": {},
   "outputs": [
    {
     "data": {
      "text/latex": [
       "$\\displaystyle \\left[\\begin{matrix}\\frac{4}{5} & \\frac{2}{5}\\\\\\frac{2}{5} & \\frac{1}{5}\\end{matrix}\\right]$"
      ],
      "text/plain": [
       "Matrix([\n",
       "[4/5, 2/5],\n",
       "[2/5, 1/5]])"
      ]
     },
     "execution_count": 451,
     "metadata": {},
     "output_type": "execute_result"
    }
   ],
   "source": [
    "E8 = sp.Matrix([list(E6), list(E7)])\n",
    "E8"
   ]
  },
  {
   "cell_type": "code",
   "execution_count": 452,
   "id": "b49158b1-37e4-414e-a936-3ce3f46f9c13",
   "metadata": {},
   "outputs": [],
   "source": [
    "# vector and take any multiply by this matrix"
   ]
  },
  {
   "cell_type": "code",
   "execution_count": 453,
   "id": "483e984d-02bd-46ab-b5db-6c99567d32a3",
   "metadata": {},
   "outputs": [
    {
     "data": {
      "text/latex": [
       "$\\displaystyle \\left[\\begin{matrix}5\\\\6\\end{matrix}\\right]$"
      ],
      "text/plain": [
       "Matrix([\n",
       "[5],\n",
       "[6]])"
      ]
     },
     "execution_count": 453,
     "metadata": {},
     "output_type": "execute_result"
    }
   ],
   "source": [
    "E9 = sp.Matrix([5,6])\n",
    "E9"
   ]
  },
  {
   "cell_type": "code",
   "execution_count": 457,
   "id": "79ded089-fed2-40ba-b07a-75ce20094575",
   "metadata": {},
   "outputs": [
    {
     "data": {
      "text/latex": [
       "$\\displaystyle \\left[\\begin{matrix}\\frac{32}{5}\\\\\\frac{16}{5}\\end{matrix}\\right]$"
      ],
      "text/plain": [
       "Matrix([\n",
       "[32/5],\n",
       "[16/5]])"
      ]
     },
     "execution_count": 457,
     "metadata": {},
     "output_type": "execute_result"
    }
   ],
   "source": [
    "E10 = E8 * E9\n",
    "E10"
   ]
  },
  {
   "cell_type": "code",
   "execution_count": 459,
   "id": "95fd63b2-4b96-457e-ae75-46ff10c716fc",
   "metadata": {},
   "outputs": [
    {
     "data": {
      "image/png": "[encoded data removed]",
      "text/plain": [
       "<Figure size 432x288 with 1 Axes>"
      ]
     },
     "metadata": {
      "needs_background": "light"
     },
     "output_type": "display_data"
    }
   ],
   "source": [
    "PlotVectors([E9, E10], plotFromStandardPosition=True)"
   ]
  },
  {
   "cell_type": "markdown",
   "id": "5f3eeb5f-578e-4884-9bc3-81e0c0afa42d",
   "metadata": {},
   "source": [
    "#### Compositions of linear transformations"
   ]
  },
  {
   "cell_type": "markdown",
   "id": "b3c1f767-2c92-4dbc-b340-552de2893ee4",
   "metadata": {},
   "source": [
    "Consider $S: X \\mapsto Y $ if $ x \\in \\mathbb{R^n}$ and $Y \\in \\mathbb{R^m} $\n",
    "\n",
    "Note that linear transfomration alllws $S(\\vec{x}) = A\\vec{x} $ for some matrix A that has been constructed from the identity matrix\n",
    "\n",
    "Matrix A will need to have M x N shape to be compativle with x\n",
    "\n",
    "consider Consider $T: Y \\mapsto Z $ if $ y \\in \\mathbb{R^m}$ and $Y \\in \\mathbb{R^l} $\n",
    "\n",
    "\n",
    "$S(\\vec{x}) = B\\vec{x} $ \n",
    "\n",
    "B will have m x l shape\n",
    "\n",
    "\n",
    "it is possible to create a mapping from S to T? - composition\n",
    "\n",
    "\n",
    "$ T \\circ S : X \\mapsto Z $    \n",
    "\n",
    "This the composition of T with S\n",
    "\n",
    "\n",
    "A way to do this is apply transformation one after another \n",
    "\n",
    "Definitn $ T \\circ S: T(S(\\vec{x})) $\n",
    "\n",
    "Note this this can be proved algebraically to be a linear transformation\n",
    "\n",
    "\n",
    "End up beeing   $ T \\circ S (\\vec{x}) =  B(A\\vec{x}) = C \\vec{x} $\n",
    "\n",
    "\n",
    "$c = \\left[ B(A \\displaystyle \\left[\\begin{matrix}1\\\\0\\\\0\\\\0\\\\0\\end{matrix}\\right] )   B(A \\displaystyle \\left[\\begin{matrix}0\\\\1\\\\0\\\\0\\\\0\\end{matrix}\\right] )... \\right]$\n",
    "\n",
    "\n",
    "We can also use product matrix\n",
    "\n",
    "\n",
    "Note this also means A\n",
    "\n",
    "<hr/>"
   ]
  },
  {
   "cell_type": "markdown",
   "id": "d063c761-fbd4-48d1-a358-23eae74e1ef6",
   "metadata": {},
   "source": [
    "#### Matrix Product examples\n",
    "\n",
    "consider Matrix A which m x n and matrix B which is n x k\n",
    "\n",
    "Note that AB (cols of A must be same as rows of B to be well defined) and is equal\n",
    "\n",
    "$$AB = \\left[ A \\vec{b_1} A \\vec{b_2}... A \\vec{b_k}    \\right] $$\n",
    "\n",
    "This comes from compositon of A and B"
   ]
  },
  {
   "cell_type": "code",
   "execution_count": 465,
   "id": "550e5020-178c-4d4b-9eb9-60f2be285543",
   "metadata": {},
   "outputs": [
    {
     "data": {
      "text/latex": [
       "$\\displaystyle \\left[\\begin{matrix}1 & -1 & 2\\\\0 & -2 & 1\\end{matrix}\\right]$"
      ],
      "text/plain": [
       "Matrix([\n",
       "[1, -1, 2],\n",
       "[0, -2, 1]])"
      ]
     },
     "execution_count": 465,
     "metadata": {},
     "output_type": "execute_result"
    }
   ],
   "source": [
    "E1 = sp.Matrix([[1, -1, 2],\n",
    "               [0, -2, 1]])\n",
    "\n",
    "E1\n",
    "# this is 2 dim space, "
   ]
  },
  {
   "cell_type": "code",
   "execution_count": 469,
   "id": "8d705390-e00c-4ad4-870b-22be969f12e4",
   "metadata": {},
   "outputs": [
    {
     "data": {
      "text/plain": [
       "(2, 3)"
      ]
     },
     "execution_count": 469,
     "metadata": {},
     "output_type": "execute_result"
    }
   ],
   "source": [
    "E1.shape"
   ]
  },
  {
   "cell_type": "code",
   "execution_count": 472,
   "id": "e4196c25-b1cc-4946-b424-211c68e1e1b5",
   "metadata": {},
   "outputs": [
    {
     "data": {
      "text/latex": [
       "$\\displaystyle \\left[\\begin{matrix}1 & 0 & 1 & 1\\\\2 & 0 & 1 & -1\\\\3 & 1 & 0 & 2\\end{matrix}\\right]$"
      ],
      "text/plain": [
       "Matrix([\n",
       "[1, 0, 1,  1],\n",
       "[2, 0, 1, -1],\n",
       "[3, 1, 0,  2]])"
      ]
     },
     "execution_count": 472,
     "metadata": {},
     "output_type": "execute_result"
    }
   ],
   "source": [
    "E2 = sp.Matrix([[1, 0, 1, 1],\n",
    "               [2, 0, 1, -1],\n",
    "               [3, 1, 0, 2]])\n",
    "E2\n",
    "# this is 4 d space"
   ]
  },
  {
   "cell_type": "code",
   "execution_count": 473,
   "id": "88b10a8d-03b2-4fb6-9ad5-9249cc2f43ba",
   "metadata": {},
   "outputs": [
    {
     "data": {
      "text/plain": [
       "(3, 4)"
      ]
     },
     "execution_count": 473,
     "metadata": {},
     "output_type": "execute_result"
    }
   ],
   "source": [
    "E2.shape"
   ]
  },
  {
   "cell_type": "code",
   "execution_count": 475,
   "id": "2792ae0a-e884-4cb6-bb5e-56afb7bf722c",
   "metadata": {},
   "outputs": [
    {
     "data": {
      "text/latex": [
       "$\\displaystyle \\left[\\begin{matrix}5 & 2 & 0 & 6\\\\-1 & 1 & -2 & 4\\end{matrix}\\right]$"
      ],
      "text/plain": [
       "Matrix([\n",
       "[ 5, 2,  0, 6],\n",
       "[-1, 1, -2, 4]])"
      ]
     },
     "execution_count": 475,
     "metadata": {},
     "output_type": "execute_result"
    }
   ],
   "source": [
    "E3 = E1 * E2\n",
    "E3"
   ]
  },
  {
   "cell_type": "markdown",
   "id": "730d0d1a-cc9f-433f-bb26-e11f3887ab56",
   "metadata": {},
   "source": [
    "Note that transofmration can be inuited here as: \n",
    "THIS IS MATRIX (ABOVE) of composition of E1 and E2\n",
    "\n",
    "E1(E2(x)) - "
   ]
  },
  {
   "cell_type": "code",
   "execution_count": null,
   "id": "17bfe9e1-0b8a-47ec-a412-e3f3f0f956fa",
   "metadata": {},
   "outputs": [],
   "source": []
  }
 ],
 "metadata": {
  "kernelspec": {
   "display_name": "Python 3",
   "language": "python",
   "name": "python3"
  },
  "language_info": {
   "codemirror_mode": {
    "name": "ipython",
    "version": 3
   },
   "file_extension": ".py",
   "mimetype": "text/x-python",
   "name": "python",
   "nbconvert_exporter": "python",
   "pygments_lexer": "ipython3",
   "version": "3.9.2"
  }
 },
 "nbformat": 4,
 "nbformat_minor": 5
}
