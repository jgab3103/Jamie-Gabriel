{
 "cells": [
  {
   "cell_type": "code",
   "execution_count": 2,
   "id": "6dd866d6-49eb-4efc-94c5-70044517bc26",
   "metadata": {},
   "outputs": [],
   "source": [
    "import numpy as np\n",
    "import sympy as sp\n",
    "import pickle\n",
    "from IPython.display import HTML\n",
    "import ipywidgets as widgets\n",
    "import matplotlib as mpl\n",
    "import matplotlib.pyplot as plt\n",
    "from mpl_toolkits.mplot3d import Axes3D\n",
    "import matplotlib.pyplot as plt\n",
    "mpl.rcParams['legend.fontsize'] = 10\n",
    "import pandas as pd\n",
    "import itertools\n",
    "pd.set_option('display.max_colwidth', None)\n",
    "from sympy.plotting import plot \n",
    "from IPython.display import Image"
   ]
  },
  {
   "cell_type": "code",
   "execution_count": 3,
   "id": "1e38dabb-8a53-46b1-995c-fb1f9132fe63",
   "metadata": {},
   "outputs": [],
   "source": [
    "# Render to Latex function \n",
    "def RTL(e):\n",
    "    latex_rendering = []\n",
    "\n",
    "    for i in range(len(e)):\n",
    "        latex_rendering.append(\"$\" + sp.latex(e[i]) + \"$ &nbsp;&nbsp;\")\n",
    "    \n",
    "    return(HTML(\"\".join(latex_rendering[0:])))\n",
    "\n",
    "\n",
    "# Plot vectors with customisation\n",
    "def PlotVectors(vectors = [], plotPointsAsShape = False, plotFromStandardPosition = False):\n",
    "\n",
    "    plt.scatter(0, 0)\n",
    "    plt.grid()\n",
    "    \n",
    "    xValues = [vectors[i][0] for i in range(len(vectors))]\n",
    "    yValues = [vectors[i][1] for i in range(len(vectors))]\n",
    "    \n",
    "    plt.scatter(xValues, yValues)\n",
    "    \n",
    "    \n",
    "    if plotPointsAsShape:\n",
    "        xValues.append(xValues[0])\n",
    "        yValues.append(yValues[0])\n",
    "\n",
    "        plt.plot(xValues, yValues)\n",
    "    \n",
    "    if plotFromStandardPosition:\n",
    "        for i in range(len(xValues)):\n",
    "            plt.plot([0, xValues[i]], [0,  yValues[i]])\n",
    "\n",
    "            \n",
    "# Apply transformation to multiple vectors\n",
    "def ApplyTransformationViaScaledIdentityMatrix(scaledIdentityMatrix, vectors):\n",
    "    transformedVectors = []\n",
    "    for i in vectors: \n",
    "        t = scaledIdentityMatrix * i\n",
    "        transformedVectors.append(t)\n",
    "        \n",
    "    return(transformedVectors)"
   ]
  },
  {
   "cell_type": "markdown",
   "id": "67a5b73f-88c3-44a7-83d1-62df39f4914c",
   "metadata": {},
   "source": [
    "### Linear Algebra Notes III\n",
    "\n",
    "- Transpose and determinant of a matrix\n",
    "- Determinant of transpose\n",
    "- Transpose of a matrix product\n",
    "- Transposes of sums and inverses\n",
    "- Rowspace and left nullspace\n",
    "- LU Factorization"
   ]
  },
  {
   "cell_type": "markdown",
   "id": "16f6a4fd-f4f8-41ec-801e-2587c76afa7c",
   "metadata": {},
   "source": [
    "#### Transpose and determinant of a matrix\n",
    "\n",
    "<b>Note</b> the <b>Transpose</b> of a matrix is when column(i) becomes row(i)"
   ]
  },
  {
   "cell_type": "code",
   "execution_count": 37,
   "id": "e62d3054-00f4-462c-82c3-0a8bee531e13",
   "metadata": {},
   "outputs": [
    {
     "data": {
      "text/latex": [
       "$\\displaystyle \\left[\\begin{matrix}1 & 2 & 3 & 4\\\\1 & 0 & 2 & 0\\\\0 & 1 & 2 & 3\\end{matrix}\\right]$"
      ],
      "text/plain": [
       "Matrix([\n",
       "[1, 2, 3, 4],\n",
       "[1, 0, 2, 0],\n",
       "[0, 1, 2, 3]])"
      ]
     },
     "execution_count": 37,
     "metadata": {},
     "output_type": "execute_result"
    }
   ],
   "source": [
    "# Let E1 be a matrix\n",
    "E1 = sp.Matrix([[1, 2, 3, 4], [1, 0, 2, 0], [0, 1, 2, 3]])\n",
    "E1"
   ]
  },
  {
   "cell_type": "code",
   "execution_count": 38,
   "id": "2f6e9e31-2b72-4d9b-9c4c-f69402416db8",
   "metadata": {},
   "outputs": [
    {
     "data": {
      "text/latex": [
       "$\\displaystyle \\left[\\begin{matrix}1 & 1 & 0\\\\2 & 0 & 1\\\\3 & 2 & 2\\\\4 & 0 & 3\\end{matrix}\\right]$"
      ],
      "text/plain": [
       "Matrix([\n",
       "[1, 1, 0],\n",
       "[2, 0, 1],\n",
       "[3, 2, 2],\n",
       "[4, 0, 3]])"
      ]
     },
     "execution_count": 38,
     "metadata": {},
     "output_type": "execute_result"
    }
   ],
   "source": [
    "# Let E2 be a matrix that is the transpose of E1\n",
    "E2 = E1.T\n",
    "E2"
   ]
  },
  {
   "cell_type": "markdown",
   "id": "60f3c73e-db69-44e3-9d0e-93a08a013637",
   "metadata": {},
   "source": [
    "<b>Note</b> that the determinant for any matrix A is equivalent to the determinant of the tranpose of the matrix A. "
   ]
  },
  {
   "cell_type": "code",
   "execution_count": 40,
   "id": "0e607acf-bec4-4f3e-8884-ba534b09ad1c",
   "metadata": {},
   "outputs": [
    {
     "data": {
      "text/latex": [
       "$\\displaystyle \\left[\\begin{matrix}1 & 2 & 3 & 4\\\\1 & 0 & 2 & 0\\\\0 & 1 & 2 & 3\\\\9 & -5 & 14 & 2\\end{matrix}\\right]$"
      ],
      "text/plain": [
       "Matrix([\n",
       "[1,  2,  3, 4],\n",
       "[1,  0,  2, 0],\n",
       "[0,  1,  2, 3],\n",
       "[9, -5, 14, 2]])"
      ]
     },
     "execution_count": 40,
     "metadata": {},
     "output_type": "execute_result"
    }
   ],
   "source": [
    "# Let E1 be a n x n matrix which will have a valid determinant\n",
    "E1 = sp.Matrix([[1, 2, 3, 4], [1, 0, 2, 0], [0, 1, 2, 3], [9, -5, 14, 2]])\n",
    "E1"
   ]
  },
  {
   "cell_type": "code",
   "execution_count": 44,
   "id": "17030fb5-6c83-44ed-a766-531e81dc486b",
   "metadata": {},
   "outputs": [
    {
     "data": {
      "text/plain": [
       "True"
      ]
     },
     "execution_count": 44,
     "metadata": {},
     "output_type": "execute_result"
    }
   ],
   "source": [
    "# Let E2 be a test that the determinant of a matrix and its tanspose is equivalent\n",
    "E2 = E1.det() == E1.T.det()\n",
    "E2"
   ]
  },
  {
   "cell_type": "markdown",
   "id": "caa38a4b-6f65-477d-8ac1-9d9e6ec2f687",
   "metadata": {},
   "source": [
    "#### Transpose of a matrix product\n",
    "\n",
    "<b>Note</b> that it can be proved that for any two Matrices A and B, it can be proved that: \n",
    "\n",
    "$$(AB)^T = B^T A^T $$\n",
    "\n",
    "<b>Note</b> that this proof scales to multiple dimensions\n",
    "\n",
    "<hr/>\n",
    "\n",
    "#### Transposes of sums and inverses\n",
    "\n",
    "<b>Note</b> that if $A, B$ and $C$ are matrices and $C = A + B$ it can be proved that: \n",
    "\n",
    "$$ C^T = (A + B) ^ T $$\n",
    "\n",
    "<b>Note</b> that the following properties can also be proved for a any $n \\times n$ matrix $A$: \n",
    "\n",
    "$$ (A^{-1})^T A^T = I_n $$ \n",
    "\n",
    "$$ A^T (A^{-1})^T  = I_n $$\n",
    "\n",
    "$$(A^T)^{-1} = (A^{-1})^T$$\n",
    "\n",
    "<hr/>\n",
    "\n"
   ]
  },
  {
   "cell_type": "markdown",
   "id": "65cd2bcf-db3c-4094-a3ea-5071a6c0da03",
   "metadata": {},
   "source": [
    "#### Rowspace and left nullspace\n",
    "\n",
    "<b>Note</b> that when matrices are transposed, they can still be inspected for the many of the standard properties (such as nullspace, rref, etc.)\n",
    "\n",
    "<hr/>"
   ]
  },
  {
   "cell_type": "markdown",
   "id": "c10e3729-1373-4f80-b151-d1da90e9aed8",
   "metadata": {},
   "source": [
    "#### LU Factorization"
   ]
  },
  {
   "cell_type": "code",
   "execution_count": 48,
   "id": "92ddb33c-8131-49e1-9d2d-3723e5bbed93",
   "metadata": {},
   "outputs": [
    {
     "data": {
      "text/latex": [
       "$\\displaystyle \\left\\{\\left( 0, \\  1, \\  2\\right)\\right\\}$"
      ],
      "text/plain": [
       "FiniteSet((0, 1, 2))"
      ]
     },
     "execution_count": 48,
     "metadata": {},
     "output_type": "execute_result"
    }
   ],
   "source": [
    "x, y, z = sp.symbols('x, y, z')\n",
    "\n",
    "sp.linsolve(sp.Matrix(([0, 2, 3, 8], [2, 3, 1, 5],  [1, -1, -2, -5])), (x, y, z))"
   ]
  },
  {
   "cell_type": "code",
   "execution_count": null,
   "id": "7c1fdcb2-22bf-4646-9a07-5e929f4ff39b",
   "metadata": {},
   "outputs": [],
   "source": [
    "a, b, c, d = sp.symbols('a, b, c, d')\n",
    "\n",
    "sp.linsolve(sp.Matrix(([0, 2, 3, 8], [2, 3, 1, 5],  [1, -1, -2, -5])), (a, b, c, d))"
   ]
  }
 ],
 "metadata": {
  "kernelspec": {
   "display_name": "Python 3",
   "language": "python",
   "name": "python3"
  },
  "language_info": {
   "codemirror_mode": {
    "name": "ipython",
    "version": 3
   },
   "file_extension": ".py",
   "mimetype": "text/x-python",
   "name": "python",
   "nbconvert_exporter": "python",
   "pygments_lexer": "ipython3",
   "version": "3.9.2"
  }
 },
 "nbformat": 4,
 "nbformat_minor": 5
}
