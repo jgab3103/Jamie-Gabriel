{
 "cells": [
  {
   "cell_type": "code",
   "execution_count": 7,
   "id": "a9f536eb-57f4-4bf5-a5fd-3ed7bb036697",
   "metadata": {},
   "outputs": [
    {
     "name": "stdout",
     "output_type": "stream",
     "text": [
      "Populating the interactive namespace from numpy and matplotlib\n"
     ]
    }
   ],
   "source": [
    "import pydicom\n",
    "import SimpleITK\n",
    "import os\n",
    "import numpy\n",
    "import matplotlib.pyplot as plt\n",
    "%pylab inline"
   ]
  },
  {
   "cell_type": "code",
   "execution_count": null,
   "id": "1b669def-5882-419f-973b-59324a5be11d",
   "metadata": {},
   "outputs": [],
   "source": []
  },
  {
   "cell_type": "code",
   "execution_count": 10,
   "id": "7fae1d63-79b8-4cd3-973f-a23740c51d25",
   "metadata": {},
   "outputs": [],
   "source": [
    "PathDicom = \"./Data/readonly/MyHead/\"\n",
    "lstFilesDCM = []  # create an empty list\n",
    "for dirName, subdirList, fileList in os.walk(PathDicom):\n",
    "    for filename in fileList:\n",
    "        if \".dcm\" in filename.lower():  # check whether the file is DICOM\n",
    "            lstFilesDCM.append(os.path.join(dirName,filename))"
   ]
  },
  {
   "cell_type": "code",
   "execution_count": 11,
   "id": "1b7a9598-8775-4a2f-a631-57ba1c06436a",
   "metadata": {},
   "outputs": [
    {
     "data": {
      "text/plain": [
       "['./Data/readonly/MyHead/MR000000.dcm',\n",
       " './Data/readonly/MyHead/MR000001.dcm',\n",
       " './Data/readonly/MyHead/MR000002.dcm',\n",
       " './Data/readonly/MyHead/MR000003.dcm',\n",
       " './Data/readonly/MyHead/MR000004.dcm']"
      ]
     },
     "execution_count": 11,
     "metadata": {},
     "output_type": "execute_result"
    }
   ],
   "source": [
    "lstFilesDCM[:5]"
   ]
  },
  {
   "cell_type": "code",
   "execution_count": null,
   "id": "eb785bf3-1a6b-4518-8ce7-77f5f3ecd45b",
   "metadata": {},
   "outputs": [],
   "source": []
  }
 ],
 "metadata": {
  "kernelspec": {
   "display_name": "Python 3",
   "language": "python",
   "name": "python3"
  },
  "language_info": {
   "codemirror_mode": {
    "name": "ipython",
    "version": 3
   },
   "file_extension": ".py",
   "mimetype": "text/x-python",
   "name": "python",
   "nbconvert_exporter": "python",
   "pygments_lexer": "ipython3",
   "version": "3.9.2"
  }
 },
 "nbformat": 4,
 "nbformat_minor": 5
}
