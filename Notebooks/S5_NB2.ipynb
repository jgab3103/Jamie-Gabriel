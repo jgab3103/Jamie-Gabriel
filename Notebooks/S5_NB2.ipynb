{
 "cells": [
  {
   "cell_type": "code",
   "execution_count": 2,
   "id": "6dd866d6-49eb-4efc-94c5-70044517bc26",
   "metadata": {},
   "outputs": [],
   "source": [
    "import numpy as np\n",
    "import sympy as sp\n",
    "import pickle\n",
    "from IPython.display import HTML\n",
    "import ipywidgets as widgets\n",
    "import matplotlib as mpl\n",
    "import matplotlib.pyplot as plt\n",
    "from mpl_toolkits.mplot3d import Axes3D\n",
    "import matplotlib.pyplot as plt\n",
    "mpl.rcParams['legend.fontsize'] = 10\n",
    "import pandas as pd\n",
    "import itertools\n",
    "pd.set_option('display.max_colwidth', None)\n",
    "from sympy.plotting import plot \n",
    "from IPython.display import Image\n",
    "\n",
    "\n",
    "# Render to Latex function \n",
    "def RTL(e):\n",
    "    latex_rendering = []\n",
    "\n",
    "    for i in range(len(e)):\n",
    "        latex_rendering.append(\"$$\" + sp.latex(e[i]) + \"$$<br/>\")\n",
    "    \n",
    "    return(HTML(\"\".join(latex_rendering[0:])))"
   ]
  },
  {
   "cell_type": "markdown",
   "id": "8a72099f-d364-4d66-9f3b-7e3699a5f691",
   "metadata": {},
   "source": [
    "#### Solving Separable Differential Equations \n",
    "\n",
    "If a differential equation can  be written in the following way is is seperable: \n",
    "\n",
    "$$ \\begin{equation}N\\left( y \\right)\\frac{{dy}}{{dx}} = M\\left( x \\right)\\label{eq:eq1} \\end{equation} $$\n",
    "\n",
    "To solve these: \n",
    "\n",
    "1. Integrate both sides with respect to X: \n",
    "\n",
    "$$ \\int{{N\\left( y \\right)\\frac{{dy}}{{dx}}\\,dx}} = \\int{{M\\left( x \\right)\\,dx}} $$\n",
    "\n",
    "2. Note that: \n",
    "\n",
    "$$ u = y\\left( x \\right)\\hspace{0.25in}du = y'\\left( x \\right)\\,dx = \\frac{{dy}}{{dx}}\\,dx $$ and that \n",
    "\n",
    "$$ u = y\\left( x \\right)\\hspace{0.25in}du = y'\\left( x \\right)\\,dx = \\frac{{dy}}{{dx}}\\,dx $$\n",
    "\n",
    "and so following subsution can be applied: \n",
    "\n",
    "$$ \\begin{equation}\\int{{N\\left( u \\right)\\,du}} = \\int{{M\\left( x \\right)\\,dx}} \\label{eq:eq2} \\end{equation} $$\n",
    "\n",
    "These are easy to solve. Simply put $f(y)$ andf $dy$ on one side of the equation, and $f(x)$ andf $dx$ on the other. Then integrate both sides, and add $c$ as the integration constant, and solve for $y$\n",
    "\n",
    "Note that we will also have to worry about the interval of validity for many of these solutions. Recall that the interval of validity was the range of the independent variable, $x$  in this case, on which the solution is valid. In other words, we need to avoid division by zero, complex numbers, logarithms of negative numbers or zero, etc."
   ]
  },
  {
   "cell_type": "markdown",
   "id": "2ec5d2dc-9c60-49ee-a163-ee2f038ed23d",
   "metadata": {},
   "source": [
    "#### Some examples"
   ]
  },
  {
   "cell_type": "markdown",
   "id": "58cd1aae-fdfa-4a18-a271-ae0b36b8b07c",
   "metadata": {},
   "source": [
    "<b>Example 1:</b>\n",
    "\n",
    "Find the solution for: $ \\frac{{dy}}{{dx}} = 6{y^2}x\\hspace{0.25in}\\,\\,\\,y\\left( 1 \\right) = \\frac{1}{{25}} $"
   ]
  },
  {
   "cell_type": "code",
   "execution_count": 10,
   "id": "598a42ac-6134-4122-8b46-b7dbae119e04",
   "metadata": {},
   "outputs": [],
   "source": [
    "# Create needed variables \n",
    "x, y, c, y_prime, t, v, v_prime, dy, dx = sp.symbols('x, y, c, y_prime, t, v, v_prime, dy, dx')"
   ]
  },
  {
   "cell_type": "code",
   "execution_count": 38,
   "id": "00ef47ae-e06e-4c3a-9b19-bc7247c0c07d",
   "metadata": {},
   "outputs": [
    {
     "data": {
      "text/latex": [
       "$\\displaystyle \\frac{dy}{y^{2}} = 6 dx x$"
      ],
      "text/plain": [
       "Eq(dy/y**2, 6*dx*x)"
      ]
     },
     "execution_count": 38,
     "metadata": {},
     "output_type": "execute_result"
    }
   ],
   "source": [
    "# Write the equation in seperable form\n",
    "E1 = sp.Eq(dy/dx, 6 * y**2 * x)\n",
    "E2 = sp.Eq(E1.lhs * dx / y**2, E1.rhs * dx / y**2)\n",
    "E2"
   ]
  },
  {
   "cell_type": "code",
   "execution_count": 39,
   "id": "2fe76439-60de-4c2a-a4a4-01683ae04392",
   "metadata": {},
   "outputs": [
    {
     "data": {
      "text/latex": [
       "$\\displaystyle - \\frac{1}{y} = c + 3 x^{2}$"
      ],
      "text/plain": [
       "Eq(-1/y, c + 3*x**2)"
      ]
     },
     "execution_count": 39,
     "metadata": {},
     "output_type": "execute_result"
    }
   ],
   "source": [
    "# Integrate both sides \n",
    "E3 = sp.integrate(E2.lhs, y).subs({dy: 1})\n",
    "E4 = sp.integrate(E2.rhs, x).subs({dx: 1})\n",
    "E5 = sp.Eq(E3, E4 + c)\n",
    "E5"
   ]
  },
  {
   "cell_type": "code",
   "execution_count": 24,
   "id": "3ac6e7f1-ba6d-4c8c-ae07-45e3ae76b041",
   "metadata": {},
   "outputs": [
    {
     "data": {
      "text/latex": [
       "$\\displaystyle c = -28.0$"
      ],
      "text/plain": [
       "Eq(c, -28.0)"
      ]
     },
     "execution_count": 24,
     "metadata": {},
     "output_type": "execute_result"
    }
   ],
   "source": [
    "# find a value of constant given initial conditions\n",
    "E6 = E5.subs({y: 1 / 25, x: 1})\n",
    "E7 = sp.Eq(c, sp.solve(E6, c)[0])\n",
    "E7"
   ]
  },
  {
   "cell_type": "code",
   "execution_count": 27,
   "id": "e2d32f8c-7c09-4007-8c37-2068eedf67db",
   "metadata": {},
   "outputs": [
    {
     "data": {
      "text/latex": [
       "$\\displaystyle y = - \\frac{1}{3.0 x^{2} - 28.0}$"
      ],
      "text/plain": [
       "Eq(y, -1/(3.0*x**2 - 28.0))"
      ]
     },
     "execution_count": 27,
     "metadata": {},
     "output_type": "execute_result"
    }
   ],
   "source": [
    "# Subsutite into the equation and solve for y\n",
    "E8 = E5.subs({c: E7.rhs})\n",
    "E9 = sp.Eq(y, sp.solve(E8, y)[0])\n",
    "E9"
   ]
  },
  {
   "cell_type": "code",
   "execution_count": null,
   "id": "b4812506-7f28-47da-b5fd-4d56d57ebf10",
   "metadata": {},
   "outputs": [],
   "source": []
  },
  {
   "cell_type": "code",
   "execution_count": 30,
   "id": "219409f1-c5c3-4905-9b50-9b26d9a0c724",
   "metadata": {},
   "outputs": [
    {
     "data": {
      "image/png": "[encoded data removed]",
      "text/plain": [
       "<Figure size 432x288 with 1 Axes>"
      ]
     },
     "metadata": {
      "needs_background": "light"
     },
     "output_type": "display_data"
    }
   ],
   "source": [
    "# Plot the solutions with variable values of c\n",
    "P1 = sp.plotting.plot(E9.rhs, xlim=[-3,3], ylim=[0,1], show= False)\n",
    "P1.show()"
   ]
  },
  {
   "cell_type": "markdown",
   "id": "9cc392be-6cf8-46ec-b642-60efeb92c7dc",
   "metadata": {},
   "source": [
    "<b>Example 2: </b>\n",
    "\n",
    "Solve following IVP: \n",
    "\n",
    "$$ y' = \\frac{{3{x^2} + 4x - 4}}{{2y - 4}}\\hspace{0.25in}y\\left( 1 \\right) = 3 $$"
   ]
  },
  {
   "cell_type": "code",
   "execution_count": 48,
   "id": "fc5d6033-76b4-42c3-9e2b-0aea0030178d",
   "metadata": {},
   "outputs": [],
   "source": [
    "# Create needed variables \n",
    "x, y, c, y_prime, t, v, v_prime, dy, dx = sp.symbols('x, y, c, y_prime, t, v, v_prime, dy, dx')"
   ]
  },
  {
   "cell_type": "code",
   "execution_count": 49,
   "id": "fe9ff432-b706-48c6-a2c3-48ab99f8d0d2",
   "metadata": {},
   "outputs": [
    {
     "data": {
      "text/latex": [
       "$\\displaystyle dy \\left(2 y - 4\\right) = dx \\left(3 x^{2} + 4 x - 4\\right)$"
      ],
      "text/plain": [
       "Eq(dy*(2*y - 4), dx*(3*x**2 + 4*x - 4))"
      ]
     },
     "execution_count": 49,
     "metadata": {},
     "output_type": "execute_result"
    }
   ],
   "source": [
    "# Write the equation in seperable form\n",
    "E1 = sp.Eq(dy/ dx, (3 * x**2 + 4 * x - 4) / (2 * y - 4))\n",
    "E2 = sp.Eq(E1.lhs * dx * (2 * y - 4), E1.rhs * dx * (2 * y - 4))\n",
    "E2"
   ]
  },
  {
   "cell_type": "code",
   "execution_count": 50,
   "id": "7db72157-8193-488d-9348-346db6cd8d07",
   "metadata": {},
   "outputs": [
    {
     "data": {
      "text/latex": [
       "$\\displaystyle y^{2} - 4 y = c + x^{3} + 2 x^{2} - 4 x$"
      ],
      "text/plain": [
       "Eq(y**2 - 4*y, c + x**3 + 2*x**2 - 4*x)"
      ]
     },
     "execution_count": 50,
     "metadata": {},
     "output_type": "execute_result"
    }
   ],
   "source": [
    "# Integrate both sides \n",
    "E3 = sp.integrate(E2.lhs, y).subs({dy: 1})\n",
    "E4 = sp.integrate(E2.rhs, x).subs({dx: 1})\n",
    "E5 = sp.Eq(E3, E4 + c)\n",
    "E5"
   ]
  },
  {
   "cell_type": "code",
   "execution_count": 51,
   "id": "20d1aa56-7201-41ac-8926-b23b74b7804a",
   "metadata": {},
   "outputs": [
    {
     "data": {
      "text/latex": [
       "$\\displaystyle c = -2$"
      ],
      "text/plain": [
       "Eq(c, -2)"
      ]
     },
     "execution_count": 51,
     "metadata": {},
     "output_type": "execute_result"
    }
   ],
   "source": [
    "# find a value of constant given initial conditions\n",
    "E6 = E5.subs({y: 3, x: 1})\n",
    "E7 = sp.Eq(c, sp.solve(E6, c)[0])\n",
    "E7"
   ]
  },
  {
   "cell_type": "code",
   "execution_count": 57,
   "id": "48612f89-cffb-4864-b8fb-0f5d44ab4dff",
   "metadata": {},
   "outputs": [
    {
     "data": {
      "text/html": [
       "$$2 - \\sqrt{x^{3} + 2 x^{2} - 4 x + 2}$$<br/>$$\\sqrt{x^{3} + 2 x^{2} - 4 x + 2} + 2$$<br/>"
      ],
      "text/plain": [
       "<IPython.core.display.HTML object>"
      ]
     },
     "execution_count": 57,
     "metadata": {},
     "output_type": "execute_result"
    }
   ],
   "source": [
    "# Subsutite into the equation and solve for y\n",
    "E8 = E5.subs({c: E7.rhs})\n",
    "E9 = sp.solve(E8, y)\n",
    "RTL(E9)"
   ]
  },
  {
   "cell_type": "code",
   "execution_count": 54,
   "id": "12cd89b3-7cd8-4aa0-ad99-f4658f0bf5aa",
   "metadata": {},
   "outputs": [],
   "source": [
    "# note that the second matches the initial conditions"
   ]
  },
  {
   "cell_type": "code",
   "execution_count": 61,
   "id": "883fcd7f-2f13-4cc0-96f6-1bb25bb90bfb",
   "metadata": {},
   "outputs": [
    {
     "data": {
      "image/png": "[encoded data removed]",
      "text/plain": [
       "<Figure size 432x288 with 1 Axes>"
      ]
     },
     "metadata": {
      "needs_background": "light"
     },
     "output_type": "display_data"
    }
   ],
   "source": [
    "# Plot the solutions with variable values of c\n",
    "E10 = E9[1]\n",
    "P1 = sp.plotting.plot(E10, xlim=[-4,2], ylim=[-15,10], show= False)\n",
    "P1.show()"
   ]
  },
  {
   "cell_type": "markdown",
   "id": "8bc9b396-981d-4f8e-ad18-02d2a97ec3e7",
   "metadata": {},
   "source": [
    "<b>Example 3: </b>\n",
    "\n",
    "Solve following IVP: \n",
    "\n",
    "$$ y' = \\frac{{x{y^3}}}{{\\sqrt {1 + {x^2}} }}\\hspace{0.25in}y\\left( 0 \\right) =  - 1 $$"
   ]
  },
  {
   "cell_type": "code",
   "execution_count": 62,
   "id": "0d2ece06-0015-46e6-9d67-933a0cf609f9",
   "metadata": {},
   "outputs": [],
   "source": [
    "# Create needed variables \n",
    "x, y, c, y_prime, t, v, v_prime, dy, dx = sp.symbols('x, y, c, y_prime, t, v, v_prime, dy, dx')"
   ]
  },
  {
   "cell_type": "code",
   "execution_count": 68,
   "id": "7e87cb63-3cce-4a8b-8fbc-eaa883c64c57",
   "metadata": {},
   "outputs": [
    {
     "data": {
      "text/latex": [
       "$\\displaystyle \\frac{dy}{y^{3}} = \\frac{dx x}{\\sqrt{x^{2} + 1}}$"
      ],
      "text/plain": [
       "Eq(dy/y**3, dx*x/sqrt(x**2 + 1))"
      ]
     },
     "execution_count": 68,
     "metadata": {},
     "output_type": "execute_result"
    }
   ],
   "source": [
    "# Write the equation in separable form\n",
    "E1 = sp.Eq(dy / dx, (x * y**3) / sp.sqrt(1 + x**2))\n",
    "E2 = sp.Eq(E1.lhs * dx  / y**3, E1.rhs * dx / y**3)\n",
    "E2"
   ]
  },
  {
   "cell_type": "code",
   "execution_count": 69,
   "id": "d0c0492d-7f7f-47a9-b041-2baaf9346be0",
   "metadata": {},
   "outputs": [
    {
     "data": {
      "text/latex": [
       "$\\displaystyle - \\frac{1}{2 y^{2}} = c + \\sqrt{x^{2} + 1}$"
      ],
      "text/plain": [
       "Eq(-1/(2*y**2), c + sqrt(x**2 + 1))"
      ]
     },
     "execution_count": 69,
     "metadata": {},
     "output_type": "execute_result"
    }
   ],
   "source": [
    "# Integrate both sides \n",
    "E3 = sp.integrate(E2.lhs, y).subs({dy: 1})\n",
    "E4 = sp.integrate(E2.rhs, x).subs({dx: 1})\n",
    "E5 = sp.Eq(E3, E4 + c)\n",
    "E5"
   ]
  },
  {
   "cell_type": "code",
   "execution_count": 70,
   "id": "88b181f3-4249-4359-8d94-8e81f0312757",
   "metadata": {},
   "outputs": [
    {
     "data": {
      "text/latex": [
       "$\\displaystyle c = - \\frac{3}{2}$"
      ],
      "text/plain": [
       "Eq(c, -3/2)"
      ]
     },
     "execution_count": 70,
     "metadata": {},
     "output_type": "execute_result"
    }
   ],
   "source": [
    "# find a value of constant given initial conditions\n",
    "E6 = E5.subs({y: -1, x: 0})\n",
    "E7 = sp.Eq(c, sp.solve(E6, c)[0])\n",
    "E7"
   ]
  },
  {
   "cell_type": "code",
   "execution_count": 74,
   "id": "85684306-1351-4112-a4d4-10acc8ee19be",
   "metadata": {},
   "outputs": [
    {
     "data": {
      "text/html": [
       "$$- \\sqrt{- \\frac{1}{2 \\sqrt{x^{2} + 1} - 3}}$$<br/>$$\\sqrt{- \\frac{1}{2 \\sqrt{x^{2} + 1} - 3}}$$<br/>"
      ],
      "text/plain": [
       "<IPython.core.display.HTML object>"
      ]
     },
     "execution_count": 74,
     "metadata": {},
     "output_type": "execute_result"
    }
   ],
   "source": [
    "# Subsutite into the equation and solve for y\n",
    "E8 = E5.subs({c: E7.rhs})\n",
    "E9 = sp.solve(E8, y)\n",
    "RTL(E9)"
   ]
  },
  {
   "cell_type": "code",
   "execution_count": 76,
   "id": "7f51de5d-f101-497a-9e59-74859a0a3d9d",
   "metadata": {},
   "outputs": [
    {
     "data": {
      "text/latex": [
       "$\\displaystyle -1$"
      ],
      "text/plain": [
       "-1"
      ]
     },
     "execution_count": 76,
     "metadata": {},
     "output_type": "execute_result"
    }
   ],
   "source": [
    "# Check both solutions against initial conditions\n",
    "E9[0].subs({x: 0})"
   ]
  },
  {
   "cell_type": "code",
   "execution_count": 79,
   "id": "fe6ef49f-6ac1-445e-b81e-ec3ba5e734ab",
   "metadata": {},
   "outputs": [
    {
     "data": {
      "text/latex": [
       "$\\displaystyle y = - \\sqrt{- \\frac{1}{2 \\sqrt{x^{2} + 1} - 3}}$"
      ],
      "text/plain": [
       "Eq(y, -sqrt(-1/(2*sqrt(x**2 + 1) - 3)))"
      ]
     },
     "execution_count": 79,
     "metadata": {},
     "output_type": "execute_result"
    }
   ],
   "source": [
    "E10 = sp.Eq(y, E9[0])\n",
    "E10.simplify()"
   ]
  },
  {
   "cell_type": "markdown",
   "id": "5a4335c6-01de-4be1-a7e3-0d5cdb00a2c3",
   "metadata": {},
   "source": [
    "<b>Example 4: </b>\n",
    "\n",
    "Solve following IVP: \n",
    "\n",
    "$$ y' = {{\\bf{e}}^{ - y}}\\left( {2x - 4} \\right)\\hspace{0.25in}y\\left( 5 \\right) = 0 $$"
   ]
  },
  {
   "cell_type": "code",
   "execution_count": 80,
   "id": "3f327235-f6cd-44c4-8a06-52e4f449968a",
   "metadata": {},
   "outputs": [],
   "source": [
    "# Create needed variables \n",
    "x, y, c, y_prime, t, v, v_prime, dy, dx = sp.symbols('x, y, c, y_prime, t, v, v_prime, dy, dx')"
   ]
  },
  {
   "cell_type": "code",
   "execution_count": 83,
   "id": "30b700b2-ac37-4d41-844c-e85e13633671",
   "metadata": {},
   "outputs": [
    {
     "data": {
      "text/latex": [
       "$\\displaystyle dy e^{y} = dx \\left(2 x - 4\\right)$"
      ],
      "text/plain": [
       "Eq(dy*exp(y), dx*(2*x - 4))"
      ]
     },
     "execution_count": 83,
     "metadata": {},
     "output_type": "execute_result"
    }
   ],
   "source": [
    "# Write the equation in seperable form\n",
    "E1 = sp.Eq(dy / dx, sp.E**-y * (2 * x - 4))\n",
    "E2 = sp.Eq(E1.lhs / sp.E**-y * dx, E1.rhs / sp.E**-y * dx)\n",
    "E2"
   ]
  },
  {
   "cell_type": "code",
   "execution_count": 84,
   "id": "3ae092be-2566-4627-b239-1f06e560f583",
   "metadata": {},
   "outputs": [
    {
     "data": {
      "text/latex": [
       "$\\displaystyle e^{y} = c + x^{2} - 4 x$"
      ],
      "text/plain": [
       "Eq(exp(y), c + x**2 - 4*x)"
      ]
     },
     "execution_count": 84,
     "metadata": {},
     "output_type": "execute_result"
    }
   ],
   "source": [
    "# Integrate both sides \n",
    "E3 = sp.integrate(E2.lhs, y).subs({dy: 1})\n",
    "E4 = sp.integrate(E2.rhs, x).subs({dx: 1})\n",
    "E5 = sp.Eq(E3, E4 + c)\n",
    "E5"
   ]
  },
  {
   "cell_type": "code",
   "execution_count": 86,
   "id": "e5889525-cac7-4e7e-8eca-08fba1730989",
   "metadata": {},
   "outputs": [
    {
     "data": {
      "text/latex": [
       "$\\displaystyle c = -4$"
      ],
      "text/plain": [
       "Eq(c, -4)"
      ]
     },
     "execution_count": 86,
     "metadata": {},
     "output_type": "execute_result"
    }
   ],
   "source": [
    "# find a value of constant given initial conditions\n",
    "E6 = E5.subs({y: 0, x: 5})\n",
    "E7 = sp.Eq(c, sp.solve(E6, c)[0])\n",
    "E7"
   ]
  },
  {
   "cell_type": "code",
   "execution_count": 88,
   "id": "2d44c1c6-5688-4704-9be5-371b5963c9c2",
   "metadata": {},
   "outputs": [
    {
     "data": {
      "text/latex": [
       "$\\displaystyle y = \\log{\\left(x^{2} - 4 x - 4 \\right)}$"
      ],
      "text/plain": [
       "Eq(y, log(x**2 - 4*x - 4))"
      ]
     },
     "execution_count": 88,
     "metadata": {},
     "output_type": "execute_result"
    }
   ],
   "source": [
    "# Subsutite into the equation and solve for y\n",
    "E8 = E5.subs({c: E7.rhs})\n",
    "E9 = sp.Eq(y, sp.solve(E8, y)[0])\n",
    "E9"
   ]
  },
  {
   "cell_type": "code",
   "execution_count": 92,
   "id": "204c6d62-72a5-498d-8aea-f37926134b34",
   "metadata": {},
   "outputs": [
    {
     "data": {
      "text/latex": [
       "$\\displaystyle \\left(2 - 2 \\sqrt{2}, 2 + 2 \\sqrt{2}\\right)$"
      ],
      "text/plain": [
       "Interval.open(2 - 2*sqrt(2), 2 + 2*sqrt(2))"
      ]
     },
     "execution_count": 92,
     "metadata": {},
     "output_type": "execute_result"
    }
   ],
   "source": [
    "# Find interval of validity\n",
    "sp.solveset(x**2 - 4 * x - 4 < 0, x, sp.S.Reals)"
   ]
  },
  {
   "cell_type": "markdown",
   "id": "438e6e57-4133-4855-b1e8-2b12206bd7a4",
   "metadata": {},
   "source": [
    "<b>Example 5: </b>\n",
    "\n",
    "Solve following IVP: \n",
    "\n",
    "$$ \\frac{{dr}}{{d\\theta }} = \\frac{{{r^2}}}{\\theta }\\hspace{0.25in}r\\left( 1 \\right) = 2 $$"
   ]
  },
  {
   "cell_type": "code",
   "execution_count": 100,
   "id": "f8036c32-deac-482f-a4b8-c74dce55cca2",
   "metadata": {},
   "outputs": [],
   "source": [
    "# Create needed variables \n",
    "theta, dtheta, r, x, y, c, y_prime, t, v, v_prime, dy, dx, dr = sp.symbols('theta, dtheta, r, x, y, c, y_prime, t, v, v_prime, dy, dx, dr')"
   ]
  },
  {
   "cell_type": "code",
   "execution_count": 108,
   "id": "dc2a5ef1-7903-4d38-adf8-e5641ad6ecae",
   "metadata": {},
   "outputs": [
    {
     "data": {
      "text/latex": [
       "$\\displaystyle \\frac{dr}{r^{2}} = \\frac{dtheta}{\\theta}$"
      ],
      "text/plain": [
       "Eq(dr/r**2, dtheta/theta)"
      ]
     },
     "execution_count": 108,
     "metadata": {},
     "output_type": "execute_result"
    }
   ],
   "source": [
    "# Write the equation in seperable form\n",
    "E1 = sp.Eq(dr / dtheta, r**2 / theta)\n",
    "E2 = sp.Eq(E1.lhs * dtheta / r**2, E1.rhs * dtheta / r**2)\n",
    "E2"
   ]
  },
  {
   "cell_type": "code",
   "execution_count": 109,
   "id": "458c7d89-b95b-4aa1-a9ae-eb219ddc835f",
   "metadata": {},
   "outputs": [
    {
     "data": {
      "text/latex": [
       "$\\displaystyle - \\frac{1}{r} = c + \\log{\\left(\\theta \\right)}$"
      ],
      "text/plain": [
       "Eq(-1/r, c + log(theta))"
      ]
     },
     "execution_count": 109,
     "metadata": {},
     "output_type": "execute_result"
    }
   ],
   "source": [
    "# Integrate both sides \n",
    "E3 = sp.integrate(E2.lhs, r).subs({dr: 1})\n",
    "E4 = sp.integrate(E2.rhs, theta).subs({dtheta: 1})\n",
    "E5 = sp.Eq(E3, E4 + c)\n",
    "E5"
   ]
  },
  {
   "cell_type": "code",
   "execution_count": 111,
   "id": "f4431c28-93cb-4f83-872a-26e13fc356f8",
   "metadata": {},
   "outputs": [
    {
     "data": {
      "text/latex": [
       "$\\displaystyle c = - \\frac{1}{2}$"
      ],
      "text/plain": [
       "Eq(c, -1/2)"
      ]
     },
     "execution_count": 111,
     "metadata": {},
     "output_type": "execute_result"
    }
   ],
   "source": [
    "# find a value of constant given initial conditions\n",
    "E6 = E5.subs({r: 2, theta: 1})\n",
    "E7 = sp.Eq(c, sp.solve(E6, c)[0])\n",
    "E7"
   ]
  },
  {
   "cell_type": "code",
   "execution_count": 113,
   "id": "36f9ca52-c897-49c2-bf46-91263d7cea11",
   "metadata": {},
   "outputs": [
    {
     "data": {
      "text/latex": [
       "$\\displaystyle r = - \\frac{2}{2 \\log{\\left(\\theta \\right)} - 1}$"
      ],
      "text/plain": [
       "Eq(r, -2/(2*log(theta) - 1))"
      ]
     },
     "execution_count": 113,
     "metadata": {},
     "output_type": "execute_result"
    }
   ],
   "source": [
    "# Subsutite into the equation and solve for y\n",
    "E8 = E5.subs({c: E7.rhs})\n",
    "E9 = sp.Eq(r, sp.solve(E8, r)[0])\n",
    "E9"
   ]
  },
  {
   "cell_type": "code",
   "execution_count": 116,
   "id": "dbe7fa55-ab2a-4df2-85de-76711f21a9b5",
   "metadata": {},
   "outputs": [
    {
     "data": {
      "text/latex": [
       "$\\displaystyle \\left\\{e^{\\frac{1}{2}}\\right\\}$"
      ],
      "text/plain": [
       "FiniteSet(exp(1/2))"
      ]
     },
     "execution_count": 116,
     "metadata": {},
     "output_type": "execute_result"
    }
   ],
   "source": [
    "# Find interval of validity\n",
    "sp.solveset(2 * sp.log(theta) - 1, theta, sp.S.Reals)"
   ]
  },
  {
   "cell_type": "markdown",
   "id": "93918716-da80-4fb3-98c9-8fdb9cb3f436",
   "metadata": {
    "tags": []
   },
   "source": [
    "<b>Example 6: </b>\n",
    "\n",
    "Solve following IVP: \n",
    "\n",
    "$$ \\frac{{dy}}{{dt}} = {{\\bf{e}}^{y\\, - \\,t}}\\sec \\left( y \\right)\\left( {1 + {t^2}} \\right)\\hspace{0.25in}y\\left( 0 \\right) = 0 $$"
   ]
  },
  {
   "cell_type": "code",
   "execution_count": 118,
   "id": "33ac3296-6c3e-473e-ab49-2e2e3b3d736a",
   "metadata": {},
   "outputs": [],
   "source": [
    "# Create needed variables \n",
    "theta, dtheta, r, x, y, c, y_prime, t, v, v_prime, dy, dt,  dx, dr = sp.symbols('theta, dtheta, r, x, y, c, y_prime, t, v, v_prime, dy, dt, dx, dr')"
   ]
  },
  {
   "cell_type": "code",
   "execution_count": 130,
   "id": "e96e0238-9dba-4f50-8183-6a90dc2e9497",
   "metadata": {},
   "outputs": [
    {
     "data": {
      "text/latex": [
       "$\\displaystyle dy e^{- y} \\cos{\\left(y \\right)} = dt \\left(t^{2} + 1\\right) e^{- t}$"
      ],
      "text/plain": [
       "Eq(dy*exp(-y)*cos(y), dt*(t**2 + 1)*exp(-t))"
      ]
     },
     "execution_count": 130,
     "metadata": {},
     "output_type": "execute_result"
    }
   ],
   "source": [
    "# Write the equation in separable \n",
    "E1 = sp.Eq(dy / dt, sp.E**y * sp.E**- t * 1 / sp.cos(y) * (1 + t**2))\n",
    "E2 = sp.Eq(E1.lhs * sp.cos(y) / sp.E**y * dt, E1.rhs * sp.cos(y) / sp.E**y * dt )\n",
    "E2"
   ]
  },
  {
   "cell_type": "code",
   "execution_count": 132,
   "id": "6431417b-d549-48f4-bd9e-4ccf3eaec7f8",
   "metadata": {},
   "outputs": [
    {
     "data": {
      "text/latex": [
       "$\\displaystyle \\frac{e^{- y} \\sin{\\left(y \\right)}}{2} - \\frac{e^{- y} \\cos{\\left(y \\right)}}{2} = c + \\left(- t^{2} - 2 t - 3\\right) e^{- t}$"
      ],
      "text/plain": [
       "Eq(exp(-y)*sin(y)/2 - exp(-y)*cos(y)/2, c + (-t**2 - 2*t - 3)*exp(-t))"
      ]
     },
     "execution_count": 132,
     "metadata": {},
     "output_type": "execute_result"
    }
   ],
   "source": [
    "# Integrate both sides \n",
    "E3 = sp.integrate(E2.lhs, y).subs({dy: 1})\n",
    "E4 = sp.integrate(E2.rhs, t).subs({dt: 1})\n",
    "E5 = sp.Eq(E3, E4 + c)\n",
    "E5"
   ]
  },
  {
   "cell_type": "code",
   "execution_count": 133,
   "id": "921ef517-a9e9-44eb-9ea9-d6254797d05d",
   "metadata": {},
   "outputs": [
    {
     "data": {
      "text/latex": [
       "$\\displaystyle c = \\frac{5}{2}$"
      ],
      "text/plain": [
       "Eq(c, 5/2)"
      ]
     },
     "execution_count": 133,
     "metadata": {},
     "output_type": "execute_result"
    }
   ],
   "source": [
    "# find a value of constant given initial conditions\n",
    "E6 = E5.subs({y: 0, t: 0})\n",
    "E7 = sp.Eq(c, sp.solve(E6, c)[0])\n",
    "E7"
   ]
  },
  {
   "cell_type": "code",
   "execution_count": 134,
   "id": "fbfb2b11-546f-412e-af37-d236132dda5c",
   "metadata": {},
   "outputs": [
    {
     "data": {
      "text/latex": [
       "$\\displaystyle \\frac{e^{- y} \\sin{\\left(y \\right)}}{2} - \\frac{e^{- y} \\cos{\\left(y \\right)}}{2} = \\left(- t^{2} - 2 t - 3\\right) e^{- t} + \\frac{5}{2}$"
      ],
      "text/plain": [
       "Eq(exp(-y)*sin(y)/2 - exp(-y)*cos(y)/2, (-t**2 - 2*t - 3)*exp(-t) + 5/2)"
      ]
     },
     "execution_count": 134,
     "metadata": {},
     "output_type": "execute_result"
    }
   ],
   "source": [
    "# Subsutite into the equation and solve for y\n",
    "E8 = E5.subs({c: E7.rhs})\n",
    "E8"
   ]
  },
  {
   "cell_type": "code",
   "execution_count": null,
   "id": "d803b2e6-760c-42ef-b29e-b4f1c59b62b8",
   "metadata": {},
   "outputs": [],
   "source": []
  }
 ],
 "metadata": {
  "kernelspec": {
   "display_name": "Python 3",
   "language": "python",
   "name": "python3"
  },
  "language_info": {
   "codemirror_mode": {
    "name": "ipython",
    "version": 3
   },
   "file_extension": ".py",
   "mimetype": "text/x-python",
   "name": "python",
   "nbconvert_exporter": "python",
   "pygments_lexer": "ipython3",
   "version": "3.9.2"
  }
 },
 "nbformat": 4,
 "nbformat_minor": 5
}
