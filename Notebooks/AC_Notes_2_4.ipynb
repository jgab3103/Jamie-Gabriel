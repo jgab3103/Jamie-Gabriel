{
 "cells": [
  {
   "cell_type": "markdown",
   "metadata": {},
   "source": [
    "consider also idea of oreintated side - this has a signed area also\n",
    "\n",
    "oreinted side is just a list, ordered set, A, B\n",
    "\n",
    "s(AB) = 1/2 a x b with a and b as vectors\n",
    "\n",
    "note sign issue sBA = -sAB \n",
    "\n",
    "this not obvious....signed area of a side??? really to do with position of origin so we are seeing oreintated side with a relationship to origin \n",
    "\n",
    "triangle signed area theorem = s(ABC) = sAB + sBC + sCA\n",
    "\n",
    "NOte we can have formula at level or points also \n",
    "\n",
    "Meisters - decomposed into triangles \n",
    "\n"
   ]
  }
 ],
 "metadata": {
  "kernelspec": {
   "display_name": "SageMath 9.0",
   "language": "sage",
   "name": "sagemath"
  },
  "language_info": {
   "codemirror_mode": {
    "name": "ipython",
    "version": 3
   },
   "file_extension": ".py",
   "mimetype": "text/x-python",
   "name": "python",
   "nbconvert_exporter": "python",
   "pygments_lexer": "ipython3",
   "version": "3.7.3"
  }
 },
 "nbformat": 4,
 "nbformat_minor": 4
}
