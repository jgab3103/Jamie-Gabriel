{
 "cells": [
  {
   "cell_type": "code",
   "execution_count": 1,
   "metadata": {},
   "outputs": [],
   "source": [
    "import numpy as np\n",
    "import shared_functions as sf\n",
    "import sympy as sp\n",
    "from IPython.display import HTML\n",
    "import matplotlib.pyplot as plt"
   ]
  },
  {
   "cell_type": "markdown",
   "metadata": {},
   "source": [
    "Following on from last time, things are starting to get exciting: we have a way to calculate area from points: Meister's Formula! This tells us that if we have points frpm on orientated n-gon (i.e. with an arbitrary amount of oreinted edges), we can calculate an area using the coordinates of the points: \n",
    "<br/>\n",
    "\n",
    "$$ s(\\widetilde{A_1A_2A_3A_4})=s(\\widetilde{A_1A_2})+s(\\widetilde{A_2A_3})+s(\\widetilde{A_3A_4}+s(\\widetilde{A_4A_1})\\\\=\\frac12(x_1y_2-y_1x_2)+\\frac12(x_2y_3-y_2x_3)+\\frac12(x_3y_4-y_3x_4)+\\frac12(x_4y_1-y_4x_1))\\\\=\\frac{1}{2}(x_1y_2-y_1x_2+x_2y_3-y_2x_3+x_3y_4-y_3x_4+x_4y_1-y_4x_1).  $$\n"
   ]
  },
  {
   "cell_type": "markdown",
   "metadata": {},
   "source": [
    "Before going any further, let's change the semantics a little in our Python functions, just to make it clear that we are really dealing with a formula that takes points, not vectors, and returns the signed area. Under the hood, vectors are still in play, but the formula is really just asking for points. I will also comment out the print functions which we don't need now we have a handle on how it works."
   ]
  },
  {
   "cell_type": "code",
   "execution_count": 2,
   "metadata": {},
   "outputs": [],
   "source": [
    "def compute_cross_product_from_two_points(points_list):\n",
    "    c = points_list[0][0] * points_list[1][1] - points_list[0][1] * points_list[1][0]\n",
    "    return(c)\n",
    "\n",
    "def compute_signed_area_of_triangle_from_two_points(points_list):\n",
    "    c = compute_cross_product_from_two_points(points_list)\n",
    "    signed_area = c / 2\n",
    "    return(signed_area)\n",
    "\n",
    "def compute_signed_area_using_meisters_formula(points_list):\n",
    "\n",
    "    total_signed_area = 0\n",
    "    for each_point in range(len(points_list) - 1):\n",
    "        signed_area = compute_signed_area_of_triangle_from_two_points([points_list[each_point], points_list[each_point + 1]])\n",
    "        #print(\"Signed area of oriented side \", str(each_point + 1), \": \", points_list[each_point], points_list[each_point + 1], \": \", signed_area)\n",
    "        total_signed_area = total_signed_area + signed_area\n",
    "\n",
    "    final_signed_area = compute_signed_area_of_triangle_from_two_points([points_list[-1], points_list[0]])\n",
    "    #print(\"Signed area of oriented side \", str(len(points_list)), \": \", points_list[-1], points_list[0], \": \", final_signed_area)\n",
    "    total_signed_area = total_signed_area + final_signed_area\n",
    "        \n",
    "    #print(\"Total signed area is: \", total_signed_area)\n",
    "    \n",
    "    return(total_signed_area)"
   ]
  },
  {
   "cell_type": "markdown",
   "metadata": {},
   "source": [
    "Let's check our formula still works. We will use the same n-gon from last notebook, but this time translate the points (increasing each $x$ and $y$ value by 1) to make sure this formula is general enough do deal with this. \n",
    "\n",
    "Start by plotting out the points for a visualisation:"
   ]
  },
  {
   "cell_type": "code",
   "execution_count": 3,
   "metadata": {},
   "outputs": [
    {
     "data": {
      "image/png": "[encoded data removed]",
      "text/plain": [
       "<Figure size 432x288 with 1 Axes>"
      ]
     },
     "metadata": {},
     "output_type": "display_data"
    }
   ],
   "source": [
    "points_choice = np.array([[-1,2], [1,5], [3,4], [2,2], [4,3], [5,0], [2, 0]])\n",
    "points_for_plotting = np.append(points_choice, [points_choice[0]], axis=0)\n",
    "x_coords = [e[0] for e in points_for_plotting]\n",
    "y_coords = [e[1] for e in points_for_plotting]\n",
    "shape_from_points = plt.plot(x_coords, y_coords, 'b')"
   ]
  },
  {
   "cell_type": "markdown",
   "metadata": {},
   "source": [
    "Now, compute the signed area:"
   ]
  },
  {
   "cell_type": "code",
   "execution_count": 4,
   "metadata": {},
   "outputs": [
    {
     "data": {
      "text/plain": [
       "-16.5"
      ]
     },
     "execution_count": 4,
     "metadata": {},
     "output_type": "execute_result"
    }
   ],
   "source": [
    "s = compute_signed_area_using_meisters_formula(points_choice)\n",
    "s"
   ]
  },
  {
   "cell_type": "markdown",
   "metadata": {},
   "source": [
    "Everything still seems to work. \n",
    "\n",
    "So what now? Well, how about curves? What if we were still wanted to use points from triangles or n-gons or whatever, but we wanted those points to also satisfy the paramterisations of a given curve? Like triangles where the points of each vertex are on a circle. What insights might that lead to? "
   ]
  },
  {
   "cell_type": "markdown",
   "metadata": {},
   "source": [
    "### Curves"
   ]
  },
  {
   "cell_type": "markdown",
   "metadata": {},
   "source": [
    "Let's start out simply. Probably the simplest curve we might consider is the parabola, paramaterised by $y = x^2$. Let's take 3 points that satisfy this paramterisation, and use Meister's formula to find the signed area. Again, let's visualise things first:   "
   ]
  },
  {
   "cell_type": "code",
   "execution_count": 5,
   "metadata": {},
   "outputs": [
    {
     "data": {
      "text/plain": [
       "[<matplotlib.lines.Line2D object at 0x7f22bd02ec88>]"
      ]
     },
     "execution_count": 5,
     "metadata": {},
     "output_type": "execute_result"
    },
    {
     "data": {
      "image/png": "[encoded data removed]",
      "text/plain": [
       "<Figure size 432x288 with 1 Axes>"
      ]
     },
     "metadata": {},
     "output_type": "display_data"
    }
   ],
   "source": [
    "fig, ax = plt.subplots()\n",
    "x2 = np.arange(start=-6, stop=7, step=1)\n",
    "y2 = x2^2\n",
    "\n",
    "points_choice = np.array([[-4,16], [2,4], [5,25]])\n",
    "points_for_plotting = np.append(points_choice, [points_choice[0]], axis=0)\n",
    "\n",
    "x1 = [e[0] for e in points_for_plotting]\n",
    "y1 = [e[1] for e in points_for_plotting]\n",
    "\n",
    "plt.plot(x2, y2, 'b')\n",
    "plt.plot(x1, y1, 'r')\n"
   ]
  },
  {
   "cell_type": "code",
   "execution_count": 6,
   "metadata": {},
   "outputs": [
    {
     "data": {
      "text/plain": [
       "81.0"
      ]
     },
     "execution_count": 6,
     "metadata": {},
     "output_type": "execute_result"
    }
   ],
   "source": [
    "s = compute_signed_area_using_meisters_formula(points_choice)\n",
    "s"
   ]
  },
  {
   "cell_type": "markdown",
   "metadata": {},
   "source": [
    "This all works fine, nothing big happening so far, we are simply imposing a condition, that our choice of points for a triangle must also meet the requirements of the paramaterisation, $y = x^2$.\n",
    "\n",
    "Things become alot more intersting when we generalise this. Let's say we have 3 integers, $t_1, t_2$ and $t_3$, and are they were paramaterised as points on a parabola, to create the points $[t_1,t_1^2], [t_2,t_2^2]$, and $[t_3,t_3^2]$. \n",
    "\n",
    "Now we can't really visualise them of course, but we can use Meister's formula to see what answer we would get for the signed area.  "
   ]
  },
  {
   "cell_type": "code",
   "execution_count": 7,
   "metadata": {},
   "outputs": [
    {
     "data": {
      "text/html": [
       "<html><script type=\"math/tex; mode=display\">\\newcommand{\\Bold}[1]{\\mathbf{#1}}-\\frac{1}{2} \\, t_{1}^{2} t_{2} + \\frac{1}{2} \\, t_{1} t_{2}^{2} + \\frac{1}{2} \\, t_{1}^{2} t_{3} - \\frac{1}{2} \\, t_{2}^{2} t_{3} - \\frac{1}{2} \\, t_{1} t_{3}^{2} + \\frac{1}{2} \\, t_{2} t_{3}^{2}</script></html>"
      ],
      "text/plain": [
       "-1/2*t_1^2*t_2 + 1/2*t_1*t_2^2 + 1/2*t_1^2*t_3 - 1/2*t_2^2*t_3 - 1/2*t_1*t_3^2 + 1/2*t_2*t_3^2"
      ]
     },
     "metadata": {},
     "output_type": "display_data"
    }
   ],
   "source": [
    "t_1, t_2, t_3 = sp.symbols('t_1, t_2, t_3')\n",
    "points_choice = np.array([[t_1,t_1^2], [t_2,t_2^2], [t_3,t_3^2]])\n",
    "s = compute_signed_area_using_meisters_formula(points_choice)\n",
    "show(s)"
   ]
  },
  {
   "cell_type": "markdown",
   "metadata": {},
   "source": [
    "At first glance, things seem a little complicated. But look what happens when we factor this. It turns into a nice digestible formula in terms of the only original integers, $t_1, t_2$ and $t_3$:"
   ]
  },
  {
   "cell_type": "code",
   "execution_count": 8,
   "metadata": {},
   "outputs": [
    {
     "data": {
      "text/html": [
       "<html><script type=\"math/tex; mode=display\">\\newcommand{\\Bold}[1]{\\mathbf{#1}}-\\frac{1}{2} \\, {\\left(t_{1} - t_{2}\\right)} {\\left(t_{1} - t_{3}\\right)} {\\left(t_{2} - t_{3}\\right)}</script></html>"
      ],
      "text/plain": [
       "-1/2*(t_1 - t_2)*(t_1 - t_3)*(t_2 - t_3)"
      ]
     },
     "metadata": {},
     "output_type": "display_data"
    }
   ],
   "source": [
    "show(s.factor())"
   ]
  },
  {
   "cell_type": "markdown",
   "metadata": {},
   "source": [
    "So from Meister's Formula, we now get a special case where points are on a parabola. Note also that Sympy tends to deal with subtraction in its own way that is perhaps not too intuitive. But this formula, to calculate the signed area of a triangle whose vertices satisfy the paramterisation of a parabola, can also be written as: \n",
    "\n",
    "$$ \\frac{(t_1-t_2)(t_2-t_3)(t_3-t_1)}{2} $$"
   ]
  },
  {
   "cell_type": "markdown",
   "metadata": {},
   "source": [
    "What about other, more complex shapes, like quadrilaterals? Let's try 4 paramaterised points on $y=x^2$ and see what comes out: "
   ]
  },
  {
   "cell_type": "code",
   "execution_count": 9,
   "metadata": {},
   "outputs": [
    {
     "data": {
      "text/html": [
       "<html><script type=\"math/tex; mode=display\">\\newcommand{\\Bold}[1]{\\mathbf{#1}}-\\frac{1}{2} \\, t_{1}^{2} t_{2} + \\frac{1}{2} \\, t_{1} t_{2}^{2} - \\frac{1}{2} \\, t_{2}^{2} t_{3} + \\frac{1}{2} \\, t_{2} t_{3}^{2} + \\frac{1}{2} \\, t_{1}^{2} t_{4} - \\frac{1}{2} \\, t_{3}^{2} t_{4} - \\frac{1}{2} \\, t_{1} t_{4}^{2} + \\frac{1}{2} \\, t_{3} t_{4}^{2}</script></html>"
      ],
      "text/plain": [
       "-1/2*t_1^2*t_2 + 1/2*t_1*t_2^2 - 1/2*t_2^2*t_3 + 1/2*t_2*t_3^2 + 1/2*t_1^2*t_4 - 1/2*t_3^2*t_4 - 1/2*t_1*t_4^2 + 1/2*t_3*t_4^2"
      ]
     },
     "metadata": {},
     "output_type": "display_data"
    }
   ],
   "source": [
    "t_1, t_2, t_3, t_4 = sp.symbols('t_1, t_2, t_3, t_4')\n",
    "points_choice = np.array([[t_1,t_1^2], [t_2,t_2^2], [t_3,t_3^2], [t_4,t_4^2]])\n",
    "s = compute_signed_area_using_meisters_formula(points_choice)\n",
    "show(s)"
   ]
  },
  {
   "cell_type": "markdown",
   "metadata": {},
   "source": [
    "Again, let's factor"
   ]
  },
  {
   "cell_type": "code",
   "execution_count": 10,
   "metadata": {},
   "outputs": [
    {
     "data": {
      "text/html": [
       "<html><script type=\"math/tex; mode=display\">\\newcommand{\\Bold}[1]{\\mathbf{#1}}-\\frac{1}{2} \\, {\\left(t_{1} - t_{2} + t_{3} - t_{4}\\right)} {\\left(t_{1} - t_{3}\\right)} {\\left(t_{2} - t_{4}\\right)}</script></html>"
      ],
      "text/plain": [
       "-1/2*(t_1 - t_2 + t_3 - t_4)*(t_1 - t_3)*(t_2 - t_4)"
      ]
     },
     "metadata": {},
     "output_type": "display_data"
    }
   ],
   "source": [
    "show(s.factor())"
   ]
  },
  {
   "cell_type": "markdown",
   "metadata": {},
   "source": [
    "We get another pleasant formula (Note again Sympy renders it a different way that perhaps we would like). We now have a formula to calculate the signed area of a quadrilateral whose vertices satisfy the paramterisation or a parabola is: \n",
    "\n",
    "$$  \\frac{(t_4-t_2)(t_3-t_1)(t_4-t_1+t_2-t_3)}{2}.$$"
   ]
  },
  {
   "cell_type": "markdown",
   "metadata": {},
   "source": [
    "So when we examine shapes on curves, the Meister formula seems to lead us some interesting results. Let's try and example now, to check this formula works as expected. Start with a visualisation:"
   ]
  },
  {
   "cell_type": "code",
   "execution_count": 11,
   "metadata": {},
   "outputs": [
    {
     "data": {
      "text/plain": [
       "[<matplotlib.lines.Line2D object at 0x7f22bcfc5a58>]"
      ]
     },
     "execution_count": 11,
     "metadata": {},
     "output_type": "execute_result"
    },
    {
     "data": {
      "image/png": "[encoded data removed]",
      "text/plain": [
       "<Figure size 432x288 with 1 Axes>"
      ]
     },
     "metadata": {},
     "output_type": "display_data"
    }
   ],
   "source": [
    "fig, ax = plt.subplots()\n",
    "x2 = np.arange(start=-7, stop=8, step=1)\n",
    "y2 = x2^2\n",
    "\n",
    "# x2 = np.append(x2, x2[0])\n",
    "# y2 = np.append(y2, y2[0])\n",
    "\n",
    "points_choice = np.array([[-6,36], [-3,9], [3,9], [5, 25]])\n",
    "points_for_plotting = np.append(points_choice, [points_choice[0]], axis=0)\n",
    "\n",
    "x1 = [e[0] for e in points_for_plotting]\n",
    "y1 = [e[1] for e in points_for_plotting]\n",
    "\n",
    "plt.plot(x2, y2, 'b')\n",
    "plt.plot(x1, y1, 'r')\n"
   ]
  },
  {
   "cell_type": "markdown",
   "metadata": {},
   "source": [
    "Now compute the area using Meister's formula:"
   ]
  },
  {
   "cell_type": "code",
   "execution_count": 12,
   "metadata": {},
   "outputs": [
    {
     "data": {
      "text/html": [
       "<html><script type=\"math/tex; mode=display\">\\newcommand{\\Bold}[1]{\\mathbf{#1}}180.0</script></html>"
      ],
      "text/plain": [
       "180.0"
      ]
     },
     "metadata": {},
     "output_type": "display_data"
    }
   ],
   "source": [
    "s = compute_signed_area_using_meisters_formula(points_choice)\n",
    "show(s)"
   ]
  },
  {
   "cell_type": "markdown",
   "metadata": {},
   "source": [
    "Now pass the same values to a new function, the new formula we derived as the area of a quadrilateral on a parabola: "
   ]
  },
  {
   "cell_type": "code",
   "execution_count": 13,
   "metadata": {},
   "outputs": [
    {
     "data": {
      "text/plain": [
       "180"
      ]
     },
     "execution_count": 13,
     "metadata": {},
     "output_type": "execute_result"
    }
   ],
   "source": [
    "def compute_using_meister_with_parabola_paramatisation(a, b, c, d):\n",
    "    return (((d - b) * (c - a)* (d - a + b - c)) / 2)\n",
    "\n",
    "compute_using_meister_with_parabola_paramatisation(-6, -3, 3, 5)"
   ]
  },
  {
   "cell_type": "markdown",
   "metadata": {},
   "source": [
    "Looking good! \n",
    "\n",
    "Let's ask a related question. What if we have 3 fixed points on a parabola and another (call it $t$) we can place anywhere: what value of $t$ can we choose to maximise the area? This is the kind of question comes up all the time in calculus. \n",
    "\n",
    "Start with a visualisation, assumming that we have 3 fixed points on a parabola:"
   ]
  },
  {
   "cell_type": "code",
   "execution_count": 14,
   "metadata": {},
   "outputs": [
    {
     "data": {
      "text/plain": [
       "[<matplotlib.lines.Line2D object at 0x7f22bcf440b8>]"
      ]
     },
     "execution_count": 14,
     "metadata": {},
     "output_type": "execute_result"
    },
    {
     "data": {
      "image/png": "[encoded data removed]",
      "text/plain": [
       "<Figure size 432x288 with 1 Axes>"
      ]
     },
     "metadata": {},
     "output_type": "display_data"
    }
   ],
   "source": [
    "fig, ax = plt.subplots()\n",
    "x2 = np.arange(start=-7, stop=8, step=1)\n",
    "y2 = x2^2\n",
    "\n",
    "points_choice = np.array([[4,16], [-3,9], [-1,1]])\n",
    "points_for_plotting = np.append(points_choice, [points_choice[0]], axis=0)\n",
    "\n",
    "x1 = [e[0] for e in points_for_plotting]\n",
    "y1 = [e[1] for e in points_for_plotting]\n",
    "\n",
    "plt.plot(x2, y2, 'b')\n",
    "plt.plot(x1, y1, 'ro')\n"
   ]
  },
  {
   "cell_type": "markdown",
   "metadata": {},
   "source": [
    "So we can place a fourth point anywhere we like. But the question is where should it be placed to maximise the area of our quadrilateral that we can then form with the 4 points. \n",
    "\n",
    "Start with 3 points thats that are fixed, and a fourth point, $t$ and use our new formul:"
   ]
  },
  {
   "cell_type": "code",
   "execution_count": 15,
   "metadata": {},
   "outputs": [
    {
     "data": {
      "text/latex": [
       "$\\displaystyle - \\frac{5 \\left(t - 6\\right) \\left(t + 3\\right)}{2}$"
      ],
      "text/plain": [
       "-5*(t - 6)*(t + 3)/2"
      ]
     },
     "execution_count": 15,
     "metadata": {},
     "output_type": "execute_result"
    }
   ],
   "source": [
    "t = sp.symbols('t')\n",
    "s = compute_using_meister_with_parabola_paramatisation(4, -3, -1, t)\n",
    "s.factor()"
   ]
  },
  {
   "cell_type": "markdown",
   "metadata": {},
   "source": [
    "So what should $t$ be to ensure that the area is maximised. Well, recall that that that product of any two numbers is maximised when those two numbers are the same (there is a formal proof of this at 3.2.1 in the proof sketches). \n",
    "\n",
    "Think of it like this: if you toss two dice and can multiply any of combinations that come up, what is you maximum going to be? Its when both numbers come up the same:"
   ]
  },
  {
   "cell_type": "code",
   "execution_count": 16,
   "metadata": {},
   "outputs": [
    {
     "data": {
      "image/png": "[encoded data removed]",
      "text/plain": [
       "<Figure size 432x288 with 1 Axes>"
      ]
     },
     "metadata": {},
     "output_type": "display_data"
    }
   ],
   "source": [
    "m = [i * (12 - i) for i in range(1,12)]\n",
    "l = [str(i) + \"x\" +  str(12 - i) for i in range(1,12)]\n",
    "p = plt.bar(l, m)"
   ]
  },
  {
   "cell_type": "markdown",
   "metadata": {},
   "source": [
    "So let's take those factors involving $t$ and find out the value for $t$ when they are same. Note I will manipulate this expression a little, putting that minus sign back in one of the terms and then ignoring the 5 as its not factor to consider for this question, as we are intested in the value for $t$ that makes both factors equal. We end up setting $(t+3)$ to $(6 - t)$ and solving:"
   ]
  },
  {
   "cell_type": "code",
   "execution_count": 17,
   "metadata": {},
   "outputs": [
    {
     "data": {
      "text/plain": [
       "[3/2]"
      ]
     },
     "execution_count": 17,
     "metadata": {},
     "output_type": "execute_result"
    }
   ],
   "source": [
    "e = sp.Eq((t + 3), (6 - t))\n",
    "sp.solve(e, t)"
   ]
  },
  {
   "cell_type": "markdown",
   "metadata": {},
   "source": [
    "So when $t = \\frac{3}{2}$ we have the biggest area. Let's put it into the function:"
   ]
  },
  {
   "cell_type": "code",
   "execution_count": 18,
   "metadata": {},
   "outputs": [
    {
     "data": {
      "text/plain": [
       "405/8"
      ]
     },
     "execution_count": 18,
     "metadata": {},
     "output_type": "execute_result"
    }
   ],
   "source": [
    "t = sp.symbols('t')\n",
    "s = compute_using_meister_with_parabola_paramatisation(4, -3, -1, 3/2)\n",
    "s"
   ]
  },
  {
   "cell_type": "markdown",
   "metadata": {},
   "source": [
    "Let's plot things, just to have a look at the choice of $t$ that would maximise area"
   ]
  },
  {
   "cell_type": "code",
   "execution_count": 19,
   "metadata": {},
   "outputs": [
    {
     "data": {
      "text/plain": [
       "[<matplotlib.lines.Line2D object at 0x7f22d41345c0>]"
      ]
     },
     "execution_count": 19,
     "metadata": {},
     "output_type": "execute_result"
    },
    {
     "data": {
      "image/png": "[encoded data removed]",
      "text/plain": [
       "<Figure size 432x288 with 1 Axes>"
      ]
     },
     "metadata": {},
     "output_type": "display_data"
    }
   ],
   "source": [
    "fig, ax = plt.subplots()\n",
    "x2 = np.arange(start=-5, stop=6, step=1)\n",
    "y2 = x2^2\n",
    "\n",
    "points_choice = np.array([[4,16], [-3,9], [-1,1], [2/3, 4/9]])\n",
    "points_for_plotting = np.append(points_choice, [points_choice[0]], axis=0)\n",
    "\n",
    "x1 = [e[0] for e in points_for_plotting]\n",
    "y1 = [e[1] for e in points_for_plotting]\n",
    "\n",
    "plt.plot(x2, y2, 'b')\n",
    "plt.plot(x1, y1, 'r')\n"
   ]
  },
  {
   "cell_type": "markdown",
   "metadata": {},
   "source": [
    "So when $t = \\frac{405}{8}$, (or 50.625), the quadrilateral is at its maximum area given the other fixed points.\n",
    "\n",
    "Let's further verify this by checking the values of area near $t$. We would expect the area would be getting bigger as it get's closer to $t$, and then start getting smaller as it moves away. Let's run our formula to compute the area 7000 times (an arbitrary number), near values of our optimal $t$ value:"
   ]
  },
  {
   "cell_type": "code",
   "execution_count": 20,
   "metadata": {},
   "outputs": [],
   "source": [
    "diffent_values_of_t = np.arange(-2, 5, .001)\n",
    "areas_close_to_the_max = []\n",
    "\n",
    "for i in range(len(diffent_values_of_t)):\n",
    "    areas_close_to_the_max.append(compute_using_meister_with_parabola_paramatisation(4, -3, -1, diffent_values_of_t[i]))\n",
    "    "
   ]
  },
  {
   "cell_type": "markdown",
   "metadata": {},
   "source": [
    "Now plot the values of $t$ and the areas. Sure enough, things get to a maximum before going down again. It seems to work!"
   ]
  },
  {
   "cell_type": "code",
   "execution_count": 21,
   "metadata": {},
   "outputs": [
    {
     "data": {
      "text/plain": [
       "[<matplotlib.lines.Line2D object at 0x7f22d4067940>]"
      ]
     },
     "execution_count": 21,
     "metadata": {},
     "output_type": "execute_result"
    },
    {
     "data": {
      "image/png": "[encoded data removed]",
      "text/plain": [
       "<Figure size 432x288 with 1 Axes>"
      ]
     },
     "metadata": {},
     "output_type": "display_data"
    }
   ],
   "source": [
    "plt.plot(areas_close_to_the_max)"
   ]
  },
  {
   "cell_type": "markdown",
   "metadata": {},
   "source": [
    "Let's wrap up there, see you in the next notebook. "
   ]
  }
 ],
 "metadata": {
  "kernelspec": {
   "display_name": "SageMath 9.0",
   "language": "sage",
   "name": "sagemath"
  },
  "language_info": {
   "codemirror_mode": {
    "name": "ipython",
    "version": 3
   },
   "file_extension": ".py",
   "mimetype": "text/x-python",
   "name": "python",
   "nbconvert_exporter": "python",
   "pygments_lexer": "ipython3",
   "version": "3.7.3"
  }
 },
 "nbformat": 4,
 "nbformat_minor": 4
}
