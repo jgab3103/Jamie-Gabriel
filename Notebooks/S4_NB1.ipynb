{
 "cells": [
  {
   "cell_type": "code",
   "execution_count": 1,
   "id": "6dd866d6-49eb-4efc-94c5-70044517bc26",
   "metadata": {},
   "outputs": [],
   "source": [
    "import numpy as np\n",
    "import sympy as sp\n",
    "import pickle\n",
    "from IPython.display import HTML\n",
    "import ipywidgets as widgets\n",
    "import matplotlib as mpl\n",
    "import matplotlib.pyplot as plt\n",
    "from mpl_toolkits.mplot3d import Axes3D\n",
    "import matplotlib.pyplot as plt\n",
    "mpl.rcParams['legend.fontsize'] = 10\n",
    "import pandas as pd\n",
    "import itertools\n",
    "pd.set_option('display.max_colwidth', None)\n",
    "from sympy.plotting import plot \n",
    "\n",
    "#\n",
    "\n",
    "# function to print latex\n",
    "def renderListToLatex(e):\n",
    "    latex_rendering = []\n",
    "\n",
    "    for i in range(len(e)):\n",
    "        latex_rendering.append(\"$$\" + sp.latex(e[i]) + \"$$<br/>\")\n",
    "    \n",
    "    return(HTML(\"\".join(latex_rendering[0:])))"
   ]
  },
  {
   "cell_type": "code",
   "execution_count": 2,
   "id": "c8e82860-fc67-45fd-9667-f46231716fb1",
   "metadata": {},
   "outputs": [],
   "source": [
    "# Observation / Aim / Conclusion\n",
    "\n",
    "# Conjecture \n",
    "# Let - assign\n",
    "# Transform - manipulation of symbols where Let statements are true\n",
    "\n",
    "\n"
   ]
  },
  {
   "cell_type": "markdown",
   "id": "59b98e4b-efa8-4da4-b542-86899b281550",
   "metadata": {},
   "source": [
    "$$ f^{\\prime\\prime}(x) + 2f^\\prime(x) = 3f(x)$$"
   ]
  },
  {
   "cell_type": "markdown",
   "id": "35137f10-3fc5-42a7-9885-03e25f679e85",
   "metadata": {},
   "source": [
    "Differential equation notes\n",
    "\n",
    "- ODE if unknonwn function depends on 1 independent var8iable\n",
    "- If depends on 2 or more, is PDE\n",
    "- Order is the highest derivative appearing  in the equatioi\n",
    "\n"
   ]
  },
  {
   "cell_type": "code",
   "execution_count": 3,
   "id": "9f41bf77-fc74-4b24-bcda-7023b16dd320",
   "metadata": {},
   "outputs": [],
   "source": [
    "x, y, m, b, a, c1, c2 = sp.symbols('x, y, m, b, a, c1, c2')"
   ]
  },
  {
   "cell_type": "code",
   "execution_count": 4,
   "id": "da98c7d8-b497-4e2e-b6bf-7c1e6251b64c",
   "metadata": {},
   "outputs": [],
   "source": [
    "E1 = c1 * sp.sin(2 * x) + c2 * sp.cos(2* x)"
   ]
  },
  {
   "cell_type": "code",
   "execution_count": 5,
   "id": "1ec9230a-b605-4297-9491-6b879970cf11",
   "metadata": {},
   "outputs": [
    {
     "data": {
      "text/html": [
       "$$2 c_{1} \\cos{\\left(2 x \\right)} - 2 c_{2} \\sin{\\left(2 x \\right)}$$<br/>$$- 4 c_{1} \\sin{\\left(2 x \\right)} - 4 c_{2} \\cos{\\left(2 x \\right)}$$<br/>"
      ],
      "text/plain": [
       "<IPython.core.display.HTML object>"
      ]
     },
     "execution_count": 5,
     "metadata": {},
     "output_type": "execute_result"
    }
   ],
   "source": [
    "#Find second derivative of E1\n",
    "E2 = sp.diff(E1, x)\n",
    "E3 = sp.diff(E2, x)\n",
    "\n",
    "renderListToLatex([E2, E3])"
   ]
  },
  {
   "cell_type": "code",
   "execution_count": 6,
   "id": "7d61efdd-08bf-45ea-a69f-3989aa0c7ba3",
   "metadata": {},
   "outputs": [
    {
     "data": {
      "text/latex": [
       "$\\displaystyle 0$"
      ],
      "text/plain": [
       "0"
      ]
     },
     "execution_count": 6,
     "metadata": {},
     "output_type": "execute_result"
    }
   ],
   "source": [
    "E3 + 4 * E1"
   ]
  },
  {
   "cell_type": "code",
   "execution_count": 7,
   "id": "87b60ca9-8d2e-4906-a18b-ce0897c3c181",
   "metadata": {},
   "outputs": [
    {
     "data": {
      "text/html": [
       "$$x^{2} - 1$$<br/>$$2 x$$<br/>"
      ],
      "text/plain": [
       "<IPython.core.display.HTML object>"
      ]
     },
     "execution_count": 7,
     "metadata": {},
     "output_type": "execute_result"
    }
   ],
   "source": [
    "# Ex. 1.5\n",
    "\n",
    "E1 = x**2 - 1\n",
    "E2 = sp.diff(E1, x)\n",
    "renderListToLatex([E1, E2])"
   ]
  },
  {
   "cell_type": "code",
   "execution_count": 8,
   "id": "90fda7e8-7db6-4784-89e1-ffe72b4d1362",
   "metadata": {},
   "outputs": [
    {
     "data": {
      "text/latex": [
       "$\\displaystyle 16 x^{4} + \\left(x^{2} - 1\\right)^{2} = -1$"
      ],
      "text/plain": [
       "Eq(16*x**4 + (x**2 - 1)**2, -1)"
      ]
     },
     "execution_count": 8,
     "metadata": {},
     "output_type": "execute_result"
    }
   ],
   "source": [
    "E3 = sp.Eq((2 * x) ** 4 + (x**2 - 1)**2, -1)\n",
    "E3"
   ]
  },
  {
   "cell_type": "code",
   "execution_count": 9,
   "id": "49262143-079e-44af-9085-633f037f05e6",
   "metadata": {},
   "outputs": [
    {
     "data": {
      "text/latex": [
       "$\\displaystyle 17 x^{4} - 2 x^{2} + 1 = -1$"
      ],
      "text/plain": [
       "Eq(17*x**4 - 2*x**2 + 1, -1)"
      ]
     },
     "execution_count": 9,
     "metadata": {},
     "output_type": "execute_result"
    }
   ],
   "source": [
    "sp.expand(E3)"
   ]
  },
  {
   "cell_type": "code",
   "execution_count": 10,
   "id": "19af3eb9-58b0-4260-b9b8-529dd00217d5",
   "metadata": {},
   "outputs": [
    {
     "data": {
      "text/plain": [
       "[-17**(3/4)*2**(1/4)*cos(atan(sqrt(33))/2)/17 - 17**(3/4)*2**(1/4)*I*sin(atan(sqrt(33))/2)/17,\n",
       " -17**(3/4)*2**(1/4)*cos(atan(sqrt(33))/2)/17 + 17**(3/4)*2**(1/4)*I*sin(atan(sqrt(33))/2)/17,\n",
       " 17**(3/4)*2**(1/4)*cos(atan(sqrt(33))/2)/17 - 17**(3/4)*2**(1/4)*I*sin(atan(sqrt(33))/2)/17,\n",
       " 17**(3/4)*2**(1/4)*cos(atan(sqrt(33))/2)/17 + 17**(3/4)*2**(1/4)*I*sin(atan(sqrt(33))/2)/17]"
      ]
     },
     "execution_count": 10,
     "metadata": {},
     "output_type": "execute_result"
    }
   ],
   "source": [
    "sp.solve(E3)"
   ]
  },
  {
   "cell_type": "code",
   "execution_count": 11,
   "id": "1d1f40ea-0e0b-413f-bae8-7f69ffb29f5e",
   "metadata": {},
   "outputs": [],
   "source": [
    "# No real solutions"
   ]
  },
  {
   "cell_type": "code",
   "execution_count": 12,
   "id": "96c9227c-9249-4e98-a9c5-2606a09c596f",
   "metadata": {},
   "outputs": [],
   "source": [
    "# 1.6\n",
    "\n",
    "# Initial value problem - has differential equation that has conditions given (a single value for x)\n",
    "# If multiple conditions given - this is a boundary value problem"
   ]
  },
  {
   "cell_type": "code",
   "execution_count": 13,
   "id": "4ff35149-42b5-4c9c-98e0-6f88f16105a7",
   "metadata": {},
   "outputs": [],
   "source": [
    "# SP 1.1\n",
    "\n",
    "#a.\n",
    "# Order : 3\n",
    "# Unknown function: y\n",
    "# Independent var: x\n",
    "\n",
    "#b\n",
    "# order: 2\n",
    "# Unknown function: y\n",
    "# Independent variable: t\n",
    "\n",
    "# c\n",
    "# order: 2\n",
    "# Unkown: t\n",
    "# independent variable: s\n",
    "\n",
    "#d\n",
    "# order: 4\n",
    "# Uknonw: b\n",
    "# Independent: p\n",
    "\n",
    "# SP1.2\n",
    "\n",
    "# Order: 2\n",
    "# Unknown: x\n",
    "# independent: y\n",
    "\n",
    "#b\n",
    "# Order: 1\n",
    "# x\n",
    "# y\n",
    "\n",
    "#c\n",
    "# order: 3\n",
    "# unkonwn: x\n",
    "# indep: t\n",
    "\n",
    "#d \n",
    "# fourth order \n",
    "# unkonwn function: y\n",
    "# indep: t\n"
   ]
  },
  {
   "cell_type": "code",
   "execution_count": 14,
   "id": "4af84c44-9234-4b76-84bc-c417bac98c37",
   "metadata": {},
   "outputs": [
    {
     "data": {
      "text/html": [
       "$$x e^{- x} + 2 e^{- x}$$<br/>$$- x e^{- x} - e^{- x}$$<br/>$$x e^{- x}$$<br/>"
      ],
      "text/plain": [
       "<IPython.core.display.HTML object>"
      ]
     },
     "execution_count": 14,
     "metadata": {},
     "output_type": "execute_result"
    }
   ],
   "source": [
    "# SP 1.3\n",
    "\n",
    "E1 = 2 * sp.E **-x + x * sp.E ** -x\n",
    "E2 = sp.diff(E1, x)\n",
    "E3 = sp.diff(E2, x)\n",
    "\n",
    "renderListToLatex([E1, E2, E3])"
   ]
  },
  {
   "cell_type": "code",
   "execution_count": 15,
   "id": "4b080536-171d-4bc6-bf64-16c6e5613127",
   "metadata": {},
   "outputs": [
    {
     "data": {
      "text/latex": [
       "$\\displaystyle 0$"
      ],
      "text/plain": [
       "0"
      ]
     },
     "execution_count": 15,
     "metadata": {},
     "output_type": "execute_result"
    }
   ],
   "source": [
    "E3 + 2 * E2 + E1"
   ]
  },
  {
   "cell_type": "code",
   "execution_count": 16,
   "id": "36c05f59-f463-4065-9cb1-79ff7cd28f68",
   "metadata": {},
   "outputs": [
    {
     "data": {
      "text/html": [
       "$$\\log{\\left(x \\right)}$$<br/>$$\\frac{1}{x}$$<br/>$$- \\frac{1}{x^{2}}$$<br/>$$- \\frac{1}{x}$$<br/>"
      ],
      "text/plain": [
       "<IPython.core.display.HTML object>"
      ]
     },
     "execution_count": 16,
     "metadata": {},
     "output_type": "execute_result"
    }
   ],
   "source": [
    "#SP 1.5\n",
    "x = sp.symbols('x', positive = False)\n",
    "E1 = sp.log(x)\n",
    "E2 = sp.diff(E1, x)\n",
    "E3 = sp.diff(E2, x)\n",
    "E4 = x * E3\n",
    "\n",
    "renderListToLatex([E1, E2, E3, E4])"
   ]
  },
  {
   "cell_type": "code",
   "execution_count": 17,
   "id": "2f871d0d-a5f5-4a31-be41-e3c9c4c01659",
   "metadata": {},
   "outputs": [
    {
     "data": {
      "text/html": [
       "$$\\frac{1}{x^{2} - 1}$$<br/>$$- \\frac{2 x}{\\left(x^{2} - 1\\right)^{2}}$$<br/>"
      ],
      "text/plain": [
       "<IPython.core.display.HTML object>"
      ]
     },
     "execution_count": 17,
     "metadata": {},
     "output_type": "execute_result"
    }
   ],
   "source": [
    "#SP 1.6\n",
    "x, y, m, b, a, c1, c2 = sp.symbols('x, y, m, b, a, c1, c2')\n",
    "E1 = 1 / (x**2 - 1)\n",
    "E2 = sp.diff(E1, x)\n",
    "renderListToLatex([E1, E2])\n"
   ]
  },
  {
   "cell_type": "code",
   "execution_count": 18,
   "id": "c6480eb4-aa54-4a36-9b5e-1134c2d39262",
   "metadata": {},
   "outputs": [
    {
     "data": {
      "text/latex": [
       "$\\displaystyle \\frac{2 x}{x^{2} - 1} - \\frac{2 x}{\\left(x^{2} - 1\\right)^{2}}$"
      ],
      "text/plain": [
       "2*x/(x**2 - 1) - 2*x/(x**2 - 1)**2"
      ]
     },
     "execution_count": 18,
     "metadata": {},
     "output_type": "execute_result"
    }
   ],
   "source": [
    "E3= E2 + 2 * x * E1\n",
    "E3"
   ]
  },
  {
   "cell_type": "code",
   "execution_count": 19,
   "id": "ac0fc53a-0404-414e-a39a-2669928c8c0f",
   "metadata": {},
   "outputs": [],
   "source": [
    "#"
   ]
  },
  {
   "cell_type": "code",
   "execution_count": 20,
   "id": "3f9bc441-42a9-415d-bb7c-7c8afc3a6c76",
   "metadata": {},
   "outputs": [
    {
     "data": {
      "image/png": "[encoded data removed]",
      "text/plain": [
       "<Figure size 432x288 with 1 Axes>"
      ]
     },
     "metadata": {
      "needs_background": "light"
     },
     "output_type": "display_data"
    },
    {
     "data": {
      "text/plain": [
       "<sympy.plotting.plot.Plot at 0x7fdf10bb8fd0>"
      ]
     },
     "execution_count": 20,
     "metadata": {},
     "output_type": "execute_result"
    }
   ],
   "source": [
    "plot(E3, (x, -1, 1))"
   ]
  },
  {
   "cell_type": "code",
   "execution_count": 21,
   "id": "7ccbf7ce-59e2-45fd-8a3c-ef201bec51cb",
   "metadata": {},
   "outputs": [
    {
     "data": {
      "text/html": [
       "$$\\sin{\\left(2 x \\right)}$$<br/>$$x$$<br/>$$0.5 \\sin{\\left(2 x \\right)}$$<br/>$$- 4 \\sin{\\left(2 x \\right)}$$<br/>$$0$$<br/>$$- 2.0 \\sin{\\left(2 x \\right)}$$<br/>"
      ],
      "text/plain": [
       "<IPython.core.display.HTML object>"
      ]
     },
     "execution_count": 21,
     "metadata": {},
     "output_type": "execute_result"
    }
   ],
   "source": [
    "# 1.7\n",
    "\n",
    "EqA = sp.sin(2 * x)\n",
    "EqB = x\n",
    "EqC = .5 * sp.sin(2 * x)\n",
    "EqA2 = sp.diff(EqA, x, 2)\n",
    "EqB2 = sp.diff(EqB, x, 2)\n",
    "EqC2 = sp.diff(EqC, x, 2)\n",
    "\n",
    "renderListToLatex([EqA, EqB, EqC, EqA2, EqB2, EqC2])"
   ]
  },
  {
   "cell_type": "code",
   "execution_count": 22,
   "id": "e2064a8e-49dc-48ab-b39b-030ceb6309be",
   "metadata": {},
   "outputs": [
    {
     "data": {
      "text/latex": [
       "$\\displaystyle 0$"
      ],
      "text/plain": [
       "0"
      ]
     },
     "execution_count": 22,
     "metadata": {},
     "output_type": "execute_result"
    }
   ],
   "source": [
    "E2 = EqA2 + 4 * EqA\n",
    "E2"
   ]
  },
  {
   "cell_type": "code",
   "execution_count": 23,
   "id": "163c656e-933a-4a1c-8f0a-f56066fae0b3",
   "metadata": {},
   "outputs": [
    {
     "data": {
      "text/latex": [
       "$\\displaystyle 0$"
      ],
      "text/plain": [
       "0"
      ]
     },
     "execution_count": 23,
     "metadata": {},
     "output_type": "execute_result"
    }
   ],
   "source": [
    "EqA.subs(x, 0)"
   ]
  },
  {
   "cell_type": "code",
   "execution_count": 24,
   "id": "17d31c72-c406-4c02-b894-7b93ac6b9dde",
   "metadata": {},
   "outputs": [
    {
     "data": {
      "text/latex": [
       "$\\displaystyle 2$"
      ],
      "text/plain": [
       "2"
      ]
     },
     "execution_count": 24,
     "metadata": {},
     "output_type": "execute_result"
    }
   ],
   "source": [
    "E3 = sp.diff(EqA)\n",
    "E3.subs(x, 0)"
   ]
  },
  {
   "cell_type": "code",
   "execution_count": 25,
   "id": "799e9ffc-981f-4cc7-9c08-bf99e01ab0e3",
   "metadata": {},
   "outputs": [],
   "source": [
    "#1.8"
   ]
  },
  {
   "cell_type": "code",
   "execution_count": 26,
   "id": "590af5eb-1df3-4fcb-902f-b424dfb60018",
   "metadata": {},
   "outputs": [
    {
     "data": {
      "text/latex": [
       "$\\displaystyle - c_{1} e^{- x}$"
      ],
      "text/plain": [
       "-c1*exp(-x)"
      ]
     },
     "execution_count": 26,
     "metadata": {},
     "output_type": "execute_result"
    }
   ],
   "source": [
    "E1 = c1 * sp.E **-x\n",
    "E2 = sp.diff(E1, x)\n",
    "E2"
   ]
  },
  {
   "cell_type": "code",
   "execution_count": 27,
   "id": "8b761d4c-3e4b-47ce-826f-a6d563bdcddd",
   "metadata": {},
   "outputs": [
    {
     "data": {
      "text/latex": [
       "$\\displaystyle y = \\frac{c_{1}}{e^{3}}$"
      ],
      "text/plain": [
       "Eq(y, c1*exp(-3))"
      ]
     },
     "execution_count": 27,
     "metadata": {},
     "output_type": "execute_result"
    }
   ],
   "source": [
    "sp.Eq(y, c1 * sp.E ** -3)"
   ]
  },
  {
   "cell_type": "code",
   "execution_count": 28,
   "id": "ab2e1610-5039-4393-87cc-524e640af7f9",
   "metadata": {},
   "outputs": [
    {
     "data": {
      "text/latex": [
       "$\\displaystyle c_{1} e^{3} e^{- 2 x}$"
      ],
      "text/plain": [
       "c1*exp(3)*exp(-2*x)"
      ]
     },
     "execution_count": 28,
     "metadata": {},
     "output_type": "execute_result"
    }
   ],
   "source": [
    "(sp.E**3 * E1) * sp.E**-x"
   ]
  },
  {
   "cell_type": "code",
   "execution_count": 29,
   "id": "3f637b2f-23a1-4f37-8fb0-a9328e195923",
   "metadata": {},
   "outputs": [
    {
     "data": {
      "text/latex": [
       "$\\displaystyle - c_{1} e^{- x}$"
      ],
      "text/plain": [
       "-c1*exp(-x)"
      ]
     },
     "execution_count": 29,
     "metadata": {},
     "output_type": "execute_result"
    }
   ],
   "source": [
    "sp.diff(E1, x)"
   ]
  },
  {
   "cell_type": "code",
   "execution_count": 30,
   "id": "655af624-861f-490a-82f3-8399c0df8d3e",
   "metadata": {},
   "outputs": [],
   "source": [
    "E3 = 2 * sp.E**3 * sp.E **-x\n",
    "E4 = sp.diff(E3, x)"
   ]
  },
  {
   "cell_type": "code",
   "execution_count": 31,
   "id": "319121e0-01e5-4405-9a38-3e6ae4380363",
   "metadata": {},
   "outputs": [
    {
     "data": {
      "text/latex": [
       "$\\displaystyle 2 e^{3} e^{- x}$"
      ],
      "text/plain": [
       "2*exp(3)*exp(-x)"
      ]
     },
     "execution_count": 31,
     "metadata": {},
     "output_type": "execute_result"
    }
   ],
   "source": [
    "E3"
   ]
  },
  {
   "cell_type": "code",
   "execution_count": 32,
   "id": "68b30340-bb1c-4330-935d-af0db5c1814a",
   "metadata": {},
   "outputs": [
    {
     "data": {
      "text/html": [
       "$$c_{1} \\sin{\\left(2 x \\right)} + c_{2} \\cos{\\left(2 x \\right)}$$<br/>$$2 c_{1} \\cos{\\left(2 x \\right)} - 2 c_{2} \\sin{\\left(2 x \\right)}$$<br/>"
      ],
      "text/plain": [
       "<IPython.core.display.HTML object>"
      ]
     },
     "execution_count": 32,
     "metadata": {},
     "output_type": "execute_result"
    }
   ],
   "source": [
    "#1.9\n",
    "\n",
    "E1 = c1 * sp.sin(2 * x) + c2 * sp.cos(2 * x)\n",
    "E2 = sp.diff(E1, x)\n",
    "\n",
    "renderListToLatex([E1, E2])"
   ]
  },
  {
   "cell_type": "code",
   "execution_count": 33,
   "id": "94d76632-3293-474d-9a04-47dc56f84bdc",
   "metadata": {},
   "outputs": [
    {
     "data": {
      "text/html": [
       "$$c_{1} \\sin{\\left(2 x \\right)} + c_{2} \\cos{\\left(2 x \\right)} = 0$$<br/>$$2 c_{1} \\cos{\\left(2 x \\right)} - 2 c_{2} \\sin{\\left(2 x \\right)} = 1$$<br/>"
      ],
      "text/plain": [
       "<IPython.core.display.HTML object>"
      ]
     },
     "execution_count": 33,
     "metadata": {},
     "output_type": "execute_result"
    }
   ],
   "source": [
    "E3 = sp.Eq(E1, 0)\n",
    "E4 = sp.Eq(E2, 1)\n",
    "renderListToLatex([E3, E4])"
   ]
  },
  {
   "cell_type": "code",
   "execution_count": 34,
   "id": "86ec81cb-1f97-4995-9d5a-516648135d70",
   "metadata": {},
   "outputs": [
    {
     "data": {
      "text/html": [
       "$$c_{1} = \\frac{\\cos{\\left(2 x \\right)}}{2 \\sin^{2}{\\left(2 x \\right)} + 2 \\cos^{2}{\\left(2 x \\right)}}$$<br/>$$c_{2} = - \\frac{\\sin{\\left(2 x \\right)}}{2 \\sin^{2}{\\left(2 x \\right)} + 2 \\cos^{2}{\\left(2 x \\right)}}$$<br/>"
      ],
      "text/plain": [
       "<IPython.core.display.HTML object>"
      ]
     },
     "execution_count": 34,
     "metadata": {},
     "output_type": "execute_result"
    }
   ],
   "source": [
    "E5 = sp.solve([E3, E4], (c1, c2), dict = True)\n",
    "E5_C1 = sp.Eq(c1, E5[0][c1])\n",
    "E5_C2 = sp.Eq(c2, E5[0][c2])\n",
    "renderListToLatex([E5_C1, E5_C2])"
   ]
  },
  {
   "cell_type": "code",
   "execution_count": 35,
   "id": "653db1f1-b4b4-4495-ba5c-c51bebdd3e18",
   "metadata": {},
   "outputs": [
    {
     "data": {
      "text/latex": [
       "$\\displaystyle c_{2} \\cos{\\left(2 x \\right)} + \\frac{\\sin{\\left(2 x \\right)} \\cos{\\left(2 x \\right)}}{2 \\sin^{2}{\\left(2 x \\right)} + 2 \\cos^{2}{\\left(2 x \\right)}}$"
      ],
      "text/plain": [
       "c2*cos(2*x) + sin(2*x)*cos(2*x)/(2*sin(2*x)**2 + 2*cos(2*x)**2)"
      ]
     },
     "execution_count": 35,
     "metadata": {},
     "output_type": "execute_result"
    }
   ],
   "source": [
    "E6 = E1.subs(c1, E5_C1.rhs)\n",
    "E6"
   ]
  },
  {
   "cell_type": "code",
   "execution_count": 36,
   "id": "b7db4e5b-5142-4815-98af-6925d17a423b",
   "metadata": {},
   "outputs": [
    {
     "data": {
      "text/latex": [
       "$\\displaystyle \\frac{\\cos{\\left(2 x \\right)}}{2 \\sin^{2}{\\left(2 x \\right)} + 2 \\cos^{2}{\\left(2 x \\right)}}$"
      ],
      "text/plain": [
       "cos(2*x)/(2*sin(2*x)**2 + 2*cos(2*x)**2)"
      ]
     },
     "execution_count": 36,
     "metadata": {},
     "output_type": "execute_result"
    }
   ],
   "source": [
    "E5[0][c1]"
   ]
  },
  {
   "cell_type": "code",
   "execution_count": 37,
   "id": "7444bad6-42c8-44ba-9125-798158f465c4",
   "metadata": {},
   "outputs": [],
   "source": [
    "#1.9"
   ]
  },
  {
   "cell_type": "code",
   "execution_count": 38,
   "id": "0caa58d5-b8ba-4908-9b29-1d1ddaf584b2",
   "metadata": {},
   "outputs": [
    {
     "data": {
      "text/latex": [
       "$\\displaystyle c_{1} \\sin{\\left(2 x \\right)} + c_{2} \\cos{\\left(2 x \\right)}$"
      ],
      "text/plain": [
       "c1*sin(2*x) + c2*cos(2*x)"
      ]
     },
     "execution_count": 38,
     "metadata": {},
     "output_type": "execute_result"
    }
   ],
   "source": [
    "E1"
   ]
  },
  {
   "cell_type": "code",
   "execution_count": 39,
   "id": "e7b12f46-8201-4839-a95e-a9a4c5aa9f5d",
   "metadata": {},
   "outputs": [],
   "source": [
    "c2 = 0"
   ]
  },
  {
   "cell_type": "code",
   "execution_count": 40,
   "id": "9475961a-dd01-4d9c-8180-b111530b14a0",
   "metadata": {},
   "outputs": [
    {
     "data": {
      "text/latex": [
       "$\\displaystyle 1$"
      ],
      "text/plain": [
       "1"
      ]
     },
     "execution_count": 40,
     "metadata": {},
     "output_type": "execute_result"
    }
   ],
   "source": [
    "sp.cos(0)"
   ]
  },
  {
   "cell_type": "code",
   "execution_count": 41,
   "id": "74c6f0c9-3086-4213-b932-91866596dd15",
   "metadata": {},
   "outputs": [
    {
     "data": {
      "text/latex": [
       "$\\displaystyle 2 c_{1} \\cos{\\left(2 x \\right)} - 2 c_{2} \\sin{\\left(2 x \\right)}$"
      ],
      "text/plain": [
       "2*c1*cos(2*x) - 2*c2*sin(2*x)"
      ]
     },
     "execution_count": 41,
     "metadata": {},
     "output_type": "execute_result"
    }
   ],
   "source": [
    "E2 = sp.diff(E1, x)\n",
    "E2"
   ]
  },
  {
   "cell_type": "code",
   "execution_count": 42,
   "id": "d694be54-ed87-4e8a-956b-a98b77e61d12",
   "metadata": {},
   "outputs": [],
   "source": [
    "# solve f'(0) = 1"
   ]
  },
  {
   "cell_type": "code",
   "execution_count": 43,
   "id": "2adec8dd-1d92-422e-9c76-772c4a562f11",
   "metadata": {},
   "outputs": [],
   "source": [
    "#c1 = .5\n",
    "#c2 = 0"
   ]
  },
  {
   "cell_type": "code",
   "execution_count": 44,
   "id": "16012586-6bf1-40a2-9c72-062039a3e2f1",
   "metadata": {},
   "outputs": [
    {
     "data": {
      "text/latex": [
       "$\\displaystyle c_{1} \\sin{\\left(2 x \\right)} + c_{2} \\cos{\\left(2 x \\right)}$"
      ],
      "text/plain": [
       "c1*sin(2*x) + c2*cos(2*x)"
      ]
     },
     "execution_count": 44,
     "metadata": {},
     "output_type": "execute_result"
    }
   ],
   "source": [
    "E1"
   ]
  },
  {
   "cell_type": "code",
   "execution_count": 45,
   "id": "df1de68f-62ea-4250-8ec8-ac56db4704c4",
   "metadata": {},
   "outputs": [
    {
     "data": {
      "text/latex": [
       "$\\displaystyle 0.5 \\sin{\\left(2 x \\right)}$"
      ],
      "text/plain": [
       "0.5*sin(2*x)"
      ]
     },
     "execution_count": 45,
     "metadata": {},
     "output_type": "execute_result"
    }
   ],
   "source": [
    "E3 = sp.sin(2 * x) * .5\n",
    "E3"
   ]
  },
  {
   "cell_type": "code",
   "execution_count": 46,
   "id": "4603dc8e-4963-41f4-8487-9a7b3bcf13e3",
   "metadata": {},
   "outputs": [
    {
     "data": {
      "text/latex": [
       "$\\displaystyle c_{1} \\sin{\\left(2 x \\right)}$"
      ],
      "text/plain": [
       "c1*sin(2*x)"
      ]
     },
     "execution_count": 46,
     "metadata": {},
     "output_type": "execute_result"
    }
   ],
   "source": [
    "# SP 1.10\n",
    "\n",
    "E1 = c1 * sp.sin(2 * x) + c2 * sp.cos(2 * x)\n",
    "E1"
   ]
  },
  {
   "cell_type": "code",
   "execution_count": 47,
   "id": "3fd1173b-cf58-43ca-b9b4-4b869f6adfac",
   "metadata": {},
   "outputs": [
    {
     "data": {
      "text/html": [
       "$$0 = \\frac{\\sqrt{2} c_{1}}{2}$$<br/>$$1 = \\frac{\\sqrt{3} c_{1}}{2}$$<br/>"
      ],
      "text/plain": [
       "<IPython.core.display.HTML object>"
      ]
     },
     "execution_count": 47,
     "metadata": {},
     "output_type": "execute_result"
    }
   ],
   "source": [
    "# Other conditions\n",
    "# y(pi/8) == 0\n",
    "# y(pi/6) == 1\n",
    "\n",
    "E3 = sp.Eq(0, c1 * sp.sin(2 * (sp.pi/8)) + c2 * sp.cos(2 * (sp.pi/8)))\n",
    "E4 = sp.Eq(1, c1 * sp.sin(2 * (sp.pi/6)) + c2 * sp.cos(2 * (sp.pi/6)))\n",
    "\n",
    "renderListToLatex([E3, E4])"
   ]
  },
  {
   "cell_type": "code",
   "execution_count": 48,
   "id": "6e53d4eb-8192-4c07-ab73-a6ff963313ec",
   "metadata": {},
   "outputs": [
    {
     "data": {
      "text/html": [
       "$$\\frac{2 \\sqrt{3}}{3}$$<br/>$$\\frac{\\sqrt{6}}{3}$$<br/>"
      ],
      "text/plain": [
       "<IPython.core.display.HTML object>"
      ]
     },
     "execution_count": 48,
     "metadata": {},
     "output_type": "execute_result"
    }
   ],
   "source": [
    "E5 = sp.solve([E3, E4], (c1, c2))\n",
    "\n",
    "renderListToLatex([E5[c1], E5[c2]])\n"
   ]
  },
  {
   "cell_type": "code",
   "execution_count": 49,
   "id": "967468cf-9bc2-4296-beba-5c3c89116474",
   "metadata": {},
   "outputs": [
    {
     "data": {
      "text/latex": [
       "$\\displaystyle c_{1} \\sin{\\left(2 x \\right)}$"
      ],
      "text/plain": [
       "c1*sin(2*x)"
      ]
     },
     "execution_count": 49,
     "metadata": {},
     "output_type": "execute_result"
    }
   ],
   "source": [
    "E1"
   ]
  },
  {
   "cell_type": "code",
   "execution_count": 50,
   "id": "bb558c06-e364-48e1-9bc8-e27837f34b33",
   "metadata": {},
   "outputs": [
    {
     "data": {
      "text/latex": [
       "$\\displaystyle \\frac{2 \\sqrt{3} \\sin{\\left(2 x \\right)}}{3}$"
      ],
      "text/plain": [
       "2*sqrt(3)*sin(2*x)/3"
      ]
     },
     "execution_count": 50,
     "metadata": {},
     "output_type": "execute_result"
    }
   ],
   "source": [
    "E6 = E1.subs({c1: E5[c1], c2: E5[c2]}).factor()\n",
    "E6"
   ]
  },
  {
   "cell_type": "code",
   "execution_count": 51,
   "id": "c2d74e7f-7077-4c7b-ae63-92f874d5f7da",
   "metadata": {},
   "outputs": [
    {
     "data": {
      "text/latex": [
       "$\\displaystyle 2.73205080756888 \\sin{\\left(2 x \\right)} - 2.73205080756888 \\cos{\\left(2 x \\right)}$"
      ],
      "text/plain": [
       "2.73205080756888*sin(2*x) - 2.73205080756888*cos(2*x)"
      ]
     },
     "execution_count": 51,
     "metadata": {},
     "output_type": "execute_result"
    }
   ],
   "source": [
    "E7 = (2 / (np.sqrt(3.) - 1)) * (sp.sin(2 * x) - sp.cos(2 * x)) \n",
    "E7"
   ]
  },
  {
   "cell_type": "code",
   "execution_count": 52,
   "id": "6caa9af2-b4be-4ed9-af4f-97d1e542ed53",
   "metadata": {},
   "outputs": [
    {
     "data": {
      "text/latex": [
       "$\\displaystyle c_{1} \\sin{\\left(2 x \\right)}$"
      ],
      "text/plain": [
       "c1*sin(2*x)"
      ]
     },
     "execution_count": 52,
     "metadata": {},
     "output_type": "execute_result"
    }
   ],
   "source": [
    "# SP 1.11\n",
    "\n",
    "E1"
   ]
  },
  {
   "cell_type": "code",
   "execution_count": 53,
   "id": "0f8130f1-4d8a-4bd0-9ca4-92336e313d96",
   "metadata": {},
   "outputs": [
    {
     "data": {
      "text/latex": [
       "$\\displaystyle \\text{False}$"
      ],
      "text/plain": [
       "False"
      ]
     },
     "execution_count": 53,
     "metadata": {},
     "output_type": "execute_result"
    }
   ],
   "source": [
    "# conditions\n",
    "# y(0) = 1\n",
    "# y(pi/2) = 2\n",
    "\n",
    "E2 = sp.Eq(1, c1 * sp.sin(2 * 0) + c2 * sp.cos(2 * 0))\n",
    "E2"
   ]
  },
  {
   "cell_type": "code",
   "execution_count": 54,
   "id": "435027e2-092d-4799-b331-43ab06dbf272",
   "metadata": {},
   "outputs": [
    {
     "data": {
      "text/latex": [
       "$\\displaystyle \\text{False}$"
      ],
      "text/plain": [
       "False"
      ]
     },
     "execution_count": 54,
     "metadata": {},
     "output_type": "execute_result"
    }
   ],
   "source": [
    "E3 = sp.Eq(2, c1 * sp.sin(2 * (sp.pi/2)) + c2 * sp.cos(2 * (sp.pi/2)))\n",
    "E3"
   ]
  },
  {
   "cell_type": "code",
   "execution_count": 55,
   "id": "25aa6b3e-c099-44ce-864f-9676e565f1c3",
   "metadata": {},
   "outputs": [],
   "source": [
    "# no solution as can't equal each other"
   ]
  },
  {
   "cell_type": "code",
   "execution_count": 56,
   "id": "fd110a23-be40-487a-ab7b-265d64e1756a",
   "metadata": {},
   "outputs": [
    {
     "data": {
      "text/latex": [
       "$\\displaystyle c_{1} \\sin{\\left(2 x \\right)} + 1$"
      ],
      "text/plain": [
       "c1*sin(2*x) + 1"
      ]
     },
     "execution_count": 56,
     "metadata": {},
     "output_type": "execute_result"
    }
   ],
   "source": [
    "# SP 1.12\n",
    "\n",
    "E1 = E1 + 1\n",
    "E1"
   ]
  },
  {
   "cell_type": "code",
   "execution_count": 57,
   "id": "9707d708-4d00-43cb-a037-6c503de11b0c",
   "metadata": {},
   "outputs": [
    {
     "data": {
      "text/latex": [
       "$\\displaystyle 2 c_{1} \\cos{\\left(2 x \\right)}$"
      ],
      "text/plain": [
       "2*c1*cos(2*x)"
      ]
     },
     "execution_count": 57,
     "metadata": {},
     "output_type": "execute_result"
    }
   ],
   "source": [
    "# conditions\n",
    "# y(pi/8) = 0\n",
    "# y'(pi/8) = -2\n",
    "\n",
    "E2 = sp.diff(E1, x)\n",
    "E2"
   ]
  },
  {
   "cell_type": "code",
   "execution_count": 58,
   "id": "7455c817-cd75-401e-899d-42a99b340870",
   "metadata": {},
   "outputs": [
    {
     "data": {
      "text/latex": [
       "$\\displaystyle 0 = \\frac{\\sqrt{2} c_{1}}{2} + 1$"
      ],
      "text/plain": [
       "Eq(0, sqrt(2)*c1/2 + 1)"
      ]
     },
     "execution_count": 58,
     "metadata": {},
     "output_type": "execute_result"
    }
   ],
   "source": [
    "E3 = sp.Eq(0, E1.subs({x:sp.pi/8}))\n",
    "E3"
   ]
  },
  {
   "cell_type": "code",
   "execution_count": 59,
   "id": "46659bbe-8ebf-4f42-b072-26be59de1bff",
   "metadata": {},
   "outputs": [
    {
     "data": {
      "text/latex": [
       "$\\displaystyle 1.4142135623731 = \\sqrt{2} c_{1}$"
      ],
      "text/plain": [
       "Eq(1.4142135623731, sqrt(2)*c1)"
      ]
     },
     "execution_count": 59,
     "metadata": {},
     "output_type": "execute_result"
    }
   ],
   "source": [
    "E4 = sp.Eq(np.sqrt(2), E2.subs({x: sp.pi/8}))\n",
    "E4"
   ]
  },
  {
   "cell_type": "code",
   "execution_count": 60,
   "id": "9a6804fe-f737-424f-b93d-1e0295290cfc",
   "metadata": {},
   "outputs": [
    {
     "data": {
      "text/plain": [
       "{c1: 1.00000000000000, 0: 1.70710678118655}"
      ]
     },
     "execution_count": 60,
     "metadata": {},
     "output_type": "execute_result"
    }
   ],
   "source": [
    "E5 = sp.solve([E3, E4], (c1, c2))\n",
    "E5"
   ]
  },
  {
   "cell_type": "code",
   "execution_count": 61,
   "id": "fe64d81c-4b2b-4b42-b0bc-60e4e06b42cd",
   "metadata": {},
   "outputs": [
    {
     "data": {
      "text/latex": [
       "$\\displaystyle c_{1} e^{2 x} + 2 \\sin{\\left(x \\right)}$"
      ],
      "text/plain": [
       "c1*exp(2*x) + 2*sin(x)"
      ]
     },
     "execution_count": 61,
     "metadata": {},
     "output_type": "execute_result"
    }
   ],
   "source": [
    "# SP 1.13\n",
    "\n",
    "E1 = c1 * sp.E**(2 *x) + c2 * sp.E**x + 2 * sp.sin(x)\n",
    "E1"
   ]
  },
  {
   "cell_type": "code",
   "execution_count": 62,
   "id": "74f958f6-8371-40e3-b4ac-6bc71cd50ba8",
   "metadata": {},
   "outputs": [
    {
     "data": {
      "text/latex": [
       "$\\displaystyle 0 = c_{1}$"
      ],
      "text/plain": [
       "Eq(0, c1)"
      ]
     },
     "execution_count": 62,
     "metadata": {},
     "output_type": "execute_result"
    }
   ],
   "source": [
    "# conditions\n",
    "# y(0) = 0\n",
    "# y'(0) = 1\n",
    "\n",
    "E2 = sp.Eq(0, E1.subs({x:0}))\n",
    "E2"
   ]
  },
  {
   "cell_type": "code",
   "execution_count": 63,
   "id": "a4ad1cbb-1cef-40b3-a30f-ac27a2da8e91",
   "metadata": {},
   "outputs": [
    {
     "data": {
      "text/latex": [
       "$\\displaystyle 1 = 2 c_{1} + 2$"
      ],
      "text/plain": [
       "Eq(1, 2*c1 + 2)"
      ]
     },
     "execution_count": 63,
     "metadata": {},
     "output_type": "execute_result"
    }
   ],
   "source": [
    "E3 = sp.Eq(1, sp.diff(E1, x).subs({x:0}))\n",
    "E3"
   ]
  },
  {
   "cell_type": "code",
   "execution_count": 64,
   "id": "e8de5ae1-7444-4de3-b6ea-4be61adbf4ee",
   "metadata": {},
   "outputs": [
    {
     "data": {
      "text/plain": [
       "{c1: -1/2, 0: -1/2}"
      ]
     },
     "execution_count": 64,
     "metadata": {},
     "output_type": "execute_result"
    }
   ],
   "source": [
    "sp.solve([E2, E3], (c1, c2))"
   ]
  },
  {
   "cell_type": "code",
   "execution_count": 65,
   "id": "c645651e-f0b5-4277-8abf-3e654bf95f72",
   "metadata": {},
   "outputs": [],
   "source": [
    "# 1.14\n",
    "# Order: 2\n",
    "# Unknown function: y\n",
    "# Independent var: x\n",
    "\n",
    "# 1.15\n",
    "# O: 3\n",
    "# UF: y\n",
    "# IV: x\n",
    "\n",
    "# 1.16\n",
    "# O: 2\n",
    "# UF: s\n",
    "# v: t\n",
    "\n",
    "# 1.17\n",
    "# O: 3\n",
    "# U: y\n",
    "# V: x\n",
    "\n",
    "# 1.18\n",
    "# O: n\n",
    "# U: x\n",
    "# V: y\n",
    "\n",
    "# 1.19\n",
    "# O: 2\n",
    "# U: r\n",
    "# I: y\n",
    "\n",
    "#1.20\n",
    "# O: 2\n",
    "# U: y\n",
    "# V: x\n",
    "\n",
    "#1.21\n",
    "# O:7\n",
    "# U: b\n",
    "# V: p\n",
    "\n",
    "#1.22\n",
    "#O: 1\n",
    "#U: b\n",
    "#V: p\n",
    "\n",
    "# 1.23\n",
    "# O: 6\n",
    "# U: y\n",
    "# V: x"
   ]
  },
  {
   "cell_type": "code",
   "execution_count": 66,
   "id": "9b9cf9ba-d57b-4e9d-aa21-5066e2e90445",
   "metadata": {},
   "outputs": [
    {
     "data": {
      "text/latex": [
       "$\\displaystyle 0$"
      ],
      "text/plain": [
       "0"
      ]
     },
     "execution_count": 66,
     "metadata": {},
     "output_type": "execute_result"
    }
   ],
   "source": [
    "#1.24\n",
    "\n",
    "0 - 5\n",
    "sp.diff(2 * sp.E**(5 * x)) - 5 * 2 *sp.E**(5 * x)"
   ]
  },
  {
   "cell_type": "code",
   "execution_count": 67,
   "id": "78affe24-05b7-4c2f-84b3-461b9b95a92d",
   "metadata": {},
   "outputs": [
    {
     "data": {
      "text/latex": [
       "$\\displaystyle a - 3 b$"
      ],
      "text/plain": [
       "a - 3*b"
      ]
     },
     "execution_count": 67,
     "metadata": {},
     "output_type": "execute_result"
    }
   ],
   "source": [
    "#1.25\n",
    "\n",
    "E1 = a - 3* b\n",
    "E1\n",
    "\n",
    "# a true\n",
    "# b false\n",
    "# c "
   ]
  },
  {
   "cell_type": "code",
   "execution_count": 68,
   "id": "360d2ca6-3257-4511-ae73-67aa73490f13",
   "metadata": {},
   "outputs": [
    {
     "data": {
      "text/latex": [
       "$\\displaystyle 6$"
      ],
      "text/plain": [
       "6"
      ]
     },
     "execution_count": 68,
     "metadata": {},
     "output_type": "execute_result"
    }
   ],
   "source": [
    "E1.subs({a: sp.diff( 4 * sp.E**(3 * x) - 2), b: 4 * sp.E**(3 * x) - 2 })"
   ]
  },
  {
   "cell_type": "code",
   "execution_count": 69,
   "id": "5e394f9a-140f-499b-a16f-e1e7e9248455",
   "metadata": {},
   "outputs": [],
   "source": [
    "# 1.26\n",
    "x, y, m, b, a, c1, c2, t = sp.symbols('x, y, m, b, a, c1, c2, t')"
   ]
  },
  {
   "cell_type": "code",
   "execution_count": 70,
   "id": "47e06244-afba-4618-b175-1e62cb1092f2",
   "metadata": {},
   "outputs": [
    {
     "data": {
      "text/latex": [
       "$\\displaystyle a - 2 b t$"
      ],
      "text/plain": [
       "a - 2*b*t"
      ]
     },
     "execution_count": 70,
     "metadata": {},
     "output_type": "execute_result"
    }
   ],
   "source": [
    "E1 = a - 2 * t * b\n",
    "E1\n",
    "\n",
    "# b\n"
   ]
  },
  {
   "cell_type": "code",
   "execution_count": 71,
   "id": "9342e237-a883-42fa-b630-04097df344ab",
   "metadata": {},
   "outputs": [
    {
     "data": {
      "text/latex": [
       "$\\displaystyle 1.0 t$"
      ],
      "text/plain": [
       "1.0*t"
      ]
     },
     "execution_count": 71,
     "metadata": {},
     "output_type": "execute_result"
    }
   ],
   "source": [
    "E1.subs({a: sp.diff(-7 * sp.E**t**2 - .5, t), b: -7 * sp.E**t**2 - .5  }).expand()"
   ]
  },
  {
   "cell_type": "code",
   "execution_count": 72,
   "id": "c02cd3c5-2a34-421d-9f68-441a1fc3907c",
   "metadata": {},
   "outputs": [],
   "source": [
    "#1.27\n",
    "#a\n",
    "#c\n",
    "\n",
    "#1.28"
   ]
  },
  {
   "cell_type": "code",
   "execution_count": 73,
   "id": "37fadfef-5bf4-4c09-bdcd-dab0e53071d9",
   "metadata": {},
   "outputs": [
    {
     "data": {
      "text/latex": [
       "$\\displaystyle \\frac{x^{4} + 2 y^{4}}{x y^{3}}$"
      ],
      "text/plain": [
       "(x**4 + 2*y**4)/(x*y**3)"
      ]
     },
     "execution_count": 73,
     "metadata": {},
     "output_type": "execute_result"
    }
   ],
   "source": [
    "E1 = (2 * y**4 + x**4) / (x * y**3)\n",
    "E1"
   ]
  },
  {
   "cell_type": "code",
   "execution_count": 74,
   "id": "75194360-037f-45af-8afb-6f38cd52a557",
   "metadata": {},
   "outputs": [
    {
     "data": {
      "text/latex": [
       "$\\displaystyle \\frac{4 x^{2}}{y^{3}} - \\frac{x^{4} + 2 y^{4}}{x^{2} y^{3}}$"
      ],
      "text/plain": [
       "4*x**2/y**3 - (x**4 + 2*y**4)/(x**2*y**3)"
      ]
     },
     "execution_count": 74,
     "metadata": {},
     "output_type": "execute_result"
    }
   ],
   "source": [
    "E2 = sp.diff(E1, x)\n",
    "E2"
   ]
  },
  {
   "cell_type": "code",
   "execution_count": 75,
   "id": "d507cd2d-186d-4f83-9516-c0c6e0d1fe8a",
   "metadata": {},
   "outputs": [
    {
     "data": {
      "text/latex": [
       "$\\displaystyle \\frac{x^{3} \\left(2 x^{4} \\left(x^{4} - 1\\right)^{2} + 1\\right)}{\\left(x^{4} \\left(x^{4} - 1\\right)\\right)^{\\frac{3}{2}}}$"
      ],
      "text/plain": [
       "x**3*(2*x**4*(x**4 - 1)**2 + 1)/(x**4*(x**4 - 1))**(3/2)"
      ]
     },
     "execution_count": 75,
     "metadata": {},
     "output_type": "execute_result"
    }
   ],
   "source": [
    "E1.subs({y: sp.sqrt(x**8 - x**4)}).simplify()"
   ]
  },
  {
   "cell_type": "markdown",
   "id": "eb9f1e10-a453-483e-b0f4-beeceef94f9b",
   "metadata": {},
   "source": [
    "<hr/>"
   ]
  },
  {
   "cell_type": "code",
   "execution_count": 76,
   "id": "20edd85a-2058-4553-9dd7-e70c862e5ddc",
   "metadata": {},
   "outputs": [
    {
     "data": {
      "text/latex": [
       "$\\displaystyle \\frac{\\left(x^{4} \\left(x^{4} - 1\\right)\\right)^{\\frac{3}{2}} \\left(- 2 x^{4} \\left(x^{4} - 1\\right)^{2} + 3\\right)}{x^{10} \\left(x^{4} - 1\\right)^{3}}$"
      ],
      "text/plain": [
       "(x**4*(x**4 - 1))**(3/2)*(-2*x**4*(x**4 - 1)**2 + 3)/(x**10*(x**4 - 1)**3)"
      ]
     },
     "execution_count": 76,
     "metadata": {},
     "output_type": "execute_result"
    }
   ],
   "source": [
    "E2.subs({y: sp.sqrt(x**8 - x**4)}).simplify()"
   ]
  },
  {
   "cell_type": "code",
   "execution_count": 77,
   "id": "7458c2bb-70e2-4272-98fe-8ee0ad2bea6d",
   "metadata": {},
   "outputs": [
    {
     "data": {
      "text/html": [
       "$$\\sqrt{x^{8} - x^{4}}$$<br/>$$\\frac{4 x^{7} - 2 x^{3}}{\\sqrt{x^{8} - x^{4}}}$$<br/>"
      ],
      "text/plain": [
       "<IPython.core.display.HTML object>"
      ]
     },
     "execution_count": 77,
     "metadata": {},
     "output_type": "execute_result"
    }
   ],
   "source": [
    "E1 = sp.sqrt(x**8 - x**4)\n",
    "E2 = sp.diff(E1, x)\n",
    "renderListToLatex([E1, E2])"
   ]
  },
  {
   "cell_type": "code",
   "execution_count": 78,
   "id": "d0539980-9d2a-48b8-826a-727f9d6c3597",
   "metadata": {},
   "outputs": [
    {
     "data": {
      "text/latex": [
       "$\\displaystyle \\frac{x^{4} + 2 \\left(x^{8} - x^{4}\\right)^{2}}{x \\left(x^{8} - x^{4}\\right)^{\\frac{3}{2}}}$"
      ],
      "text/plain": [
       "(x**4 + 2*(x**8 - x**4)**2)/(x*(x**8 - x**4)**(3/2))"
      ]
     },
     "execution_count": 78,
     "metadata": {},
     "output_type": "execute_result"
    }
   ],
   "source": [
    "E3 = (2 * y**4 + x**4) / (x * y**3)\n",
    "E3.subs({y: E1})"
   ]
  },
  {
   "cell_type": "code",
   "execution_count": 79,
   "id": "15fc2ba7-5f6d-49e0-a61d-6cbac4df5dff",
   "metadata": {},
   "outputs": [
    {
     "data": {
      "text/html": [
       "$$4 e^{- x}$$<br/>$$- 4 e^{- x}$$<br/>"
      ],
      "text/plain": [
       "<IPython.core.display.HTML object>"
      ]
     },
     "execution_count": 79,
     "metadata": {},
     "output_type": "execute_result"
    }
   ],
   "source": [
    "# 1.29\n",
    "\n",
    "E1 = 4 * sp.E ** -x\n",
    "E2 = sp.diff(E1)\n",
    "\n",
    "renderListToLatex([E1, E2])"
   ]
  },
  {
   "cell_type": "code",
   "execution_count": 80,
   "id": "083ea5f5-e091-4106-a0c6-511faedf8f96",
   "metadata": {},
   "outputs": [
    {
     "data": {
      "text/latex": [
       "$\\displaystyle 8 e^{- x}$"
      ],
      "text/plain": [
       "8*exp(-x)"
      ]
     },
     "execution_count": 80,
     "metadata": {},
     "output_type": "execute_result"
    }
   ],
   "source": [
    "# a is solution\n",
    "# d is solution\n",
    "E1 - E2"
   ]
  },
  {
   "cell_type": "code",
   "execution_count": 81,
   "id": "34cf6cc9-614d-4071-bba2-61742fab9e79",
   "metadata": {},
   "outputs": [
    {
     "data": {
      "text/html": [
       "$$0$$<br/>$$0$$<br/>$$0$$<br/>"
      ],
      "text/plain": [
       "<IPython.core.display.HTML object>"
      ]
     },
     "execution_count": 81,
     "metadata": {},
     "output_type": "execute_result"
    }
   ],
   "source": [
    "# 1.30\n",
    "E0 = 0\n",
    "E1 = sp.diff(E0, x)\n",
    "E2 = sp.diff(E1, x)\n",
    "\n",
    "renderListToLatex([E0, E1, E2])\n",
    "# b"
   ]
  },
  {
   "cell_type": "code",
   "execution_count": 82,
   "id": "db26724e-983f-495a-b426-d76e2ca0dcc5",
   "metadata": {},
   "outputs": [
    {
     "data": {
      "text/latex": [
       "$\\displaystyle 0$"
      ],
      "text/plain": [
       "0"
      ]
     },
     "execution_count": 82,
     "metadata": {},
     "output_type": "execute_result"
    }
   ],
   "source": [
    "E2 - (x * E1) + E0"
   ]
  },
  {
   "cell_type": "code",
   "execution_count": 102,
   "id": "ca30c311-7877-40fd-8b72-d2443efe307b",
   "metadata": {},
   "outputs": [
    {
     "data": {
      "text/latex": [
       "$\\displaystyle \\left(t + 4 e^{t} + 2\\right) e^{t} - 4 e^{2 t} - 4 e^{t}$"
      ],
      "text/plain": [
       "(t + 4*exp(t) + 2)*exp(t) - 4*exp(2*t) - 4*exp(t)"
      ]
     },
     "execution_count": 102,
     "metadata": {},
     "output_type": "execute_result"
    }
   ],
   "source": [
    "# 1.31\n",
    "\n",
    "sp.diff(sp.E**t, t, 2) - 4 * sp.diff(sp.E**t, t) + 4 * sp.E**t\n",
    "\n",
    "sp.diff(sp.E**(2 * t), t, 2) - 4 * sp.diff(sp.E**(2 * t), t) + 4 * sp.E**(2 * t)\n",
    "\n",
    "sp.diff(sp.E**(2 * t) + sp.E**t, t, 2) - 4 * sp.diff(sp.E**(2 * t) + sp.E**t, t) + 4 * (sp.E**(2 * t) + sp.E**t).expand()\n",
    "\n",
    "\n",
    "sp.diff(t * sp.E**(2 * t) + sp.E**t, t, 2) - 4 * sp.diff(t * sp.E**(2 * t) + sp.E**t, t) + 4 * (t * sp.E**(2 * t) + sp.E**t).simplify()\n",
    "\n",
    "sp.diff(sp.E**(2 * t) + t * sp.E**t, t, 2) - 4 * sp.diff(sp.E**(2 * t) + t * sp.E**t, t) + 4 * (sp.E**(2 * t) + t * sp.E**t)\n",
    "\n",
    "# a true\n",
    "# b false\n",
    "# c false\n",
    "# d false\n",
    "# \n"
   ]
  },
  {
   "cell_type": "code",
   "execution_count": 110,
   "id": "2d502c81-7bbe-466b-b035-bc32b36cfd05",
   "metadata": {},
   "outputs": [
    {
     "data": {
      "text/html": [
       "$$e^{2 t} + e^{t}$$<br/>$$\\left(4 e^{t} + 1\\right) e^{t} - 4 e^{2 t}$$<br/>$$e^{t}$$<br/>"
      ],
      "text/plain": [
       "<IPython.core.display.HTML object>"
      ]
     },
     "execution_count": 110,
     "metadata": {},
     "output_type": "execute_result"
    }
   ],
   "source": [
    "# 1.31 c\n",
    "E1 = sp.E**(2 * t) + sp.E ** t\n",
    "E2 = sp.diff(E1, t, 2) - 4 * sp.diff(E1, t, 1) + 4 * E1\n",
    "E3 = E2.expand()\n",
    "renderListToLatex([E1, E2, E3])"
   ]
  },
  {
   "cell_type": "code",
   "execution_count": 111,
   "id": "4b0ccbf8-d4dd-4701-8b1d-66811bf55fbd",
   "metadata": {},
   "outputs": [
    {
     "data": {
      "text/html": [
       "$$t e^{2 t} + e^{t}$$<br/>$$- 4 t e^{2 t} + \\left(4 t e^{t} + 4 e^{t} + 1\\right) e^{t} - 4 e^{2 t}$$<br/>$$e^{t}$$<br/>"
      ],
      "text/plain": [
       "<IPython.core.display.HTML object>"
      ]
     },
     "execution_count": 111,
     "metadata": {},
     "output_type": "execute_result"
    }
   ],
   "source": [
    "# 1.31 d\n",
    "E1 = t * sp.E**(2 * t) + sp.E ** t\n",
    "E2 = sp.diff(E1, t, 2) - 4 * sp.diff(E1, t, 1) + 4 * E1\n",
    "E3 = E2.expand()\n",
    "renderListToLatex([E1, E2, E3])"
   ]
  },
  {
   "cell_type": "code",
   "execution_count": 112,
   "id": "4b1395e2-18d6-4dad-89f1-b8092595e874",
   "metadata": {},
   "outputs": [
    {
     "data": {
      "text/html": [
       "$$t e^{t} + e^{2 t}$$<br/>$$\\left(t + 4 e^{t} + 2\\right) e^{t} - 4 e^{2 t} - 4 e^{t}$$<br/>$$t e^{t} - 2 e^{t}$$<br/>"
      ],
      "text/plain": [
       "<IPython.core.display.HTML object>"
      ]
     },
     "execution_count": 112,
     "metadata": {},
     "output_type": "execute_result"
    }
   ],
   "source": [
    "# 1.31 e\n",
    "E1 = sp.E**(2 * t) +  (t * sp.E ** t)\n",
    "E2 = sp.diff(E1, t, 2) - 4 * sp.diff(E1, t, 1) + 4 * E1\n",
    "E3 = E2.expand()\n",
    "renderListToLatex([E1, E2, E3])"
   ]
  },
  {
   "cell_type": "code",
   "execution_count": 117,
   "id": "36505bcd-20fa-4c86-b7d8-09059a346ed7",
   "metadata": {},
   "outputs": [
    {
     "data": {
      "text/latex": [
       "$\\displaystyle 0 = c$"
      ],
      "text/plain": [
       "Eq(0, c)"
      ]
     },
     "execution_count": 117,
     "metadata": {},
     "output_type": "execute_result"
    }
   ],
   "source": [
    "# 1.32\n",
    "x, y, m, b, a, c, c1, c2, t = sp.symbols('x, y, m, b, a, c, c1, c2, t')\n",
    "sp.Eq(0, c * sp.E**(2 * 0))"
   ]
  },
  {
   "cell_type": "code",
   "execution_count": 119,
   "id": "bc852b45-2e84-4d1e-bf18-ad7153cc3972",
   "metadata": {},
   "outputs": [
    {
     "data": {
      "text/latex": [
       "$\\displaystyle 1 = c$"
      ],
      "text/plain": [
       "Eq(1, c)"
      ]
     },
     "execution_count": 119,
     "metadata": {},
     "output_type": "execute_result"
    }
   ],
   "source": [
    "# 1.32\n",
    "sp.Eq(1, c * sp.E**(2 * 0) )"
   ]
  },
  {
   "cell_type": "code",
   "execution_count": 124,
   "id": "d0944be2-15c2-4f24-b221-9c8b051ca94b",
   "metadata": {},
   "outputs": [
    {
     "data": {
      "text/latex": [
       "$\\displaystyle e^{-2}$"
      ],
      "text/plain": [
       "exp(-2)"
      ]
     },
     "execution_count": 124,
     "metadata": {},
     "output_type": "execute_result"
    }
   ],
   "source": [
    "# 1.34\n",
    "sp.solve(sp.Eq(1, c * sp.E**(2 * 1)), c)[0]"
   ]
  },
  {
   "cell_type": "code",
   "execution_count": 127,
   "id": "a422b48a-7c89-4340-a46f-e185ba7d6606",
   "metadata": {},
   "outputs": [
    {
     "data": {
      "text/latex": [
       "$\\displaystyle - \\frac{3}{e^{4}}$"
      ],
      "text/plain": [
       "-3*exp(-4)"
      ]
     },
     "execution_count": 127,
     "metadata": {},
     "output_type": "execute_result"
    }
   ],
   "source": [
    "# 1.35\n",
    "sp.solve(sp.Eq(-3, c * sp.E**(2 * 2) ), c)[0]"
   ]
  },
  {
   "cell_type": "code",
   "execution_count": 128,
   "id": "3a225f4b-4186-496c-81dc-a2e246e6005b",
   "metadata": {},
   "outputs": [
    {
     "data": {
      "text/latex": [
       "$\\displaystyle 1 = c$"
      ],
      "text/plain": [
       "Eq(1, c)"
      ]
     },
     "execution_count": 128,
     "metadata": {},
     "output_type": "execute_result"
    }
   ],
   "source": [
    "# 1.36\n",
    "sp.Eq(1, c * (1 - 0**2))"
   ]
  },
  {
   "cell_type": "code",
   "execution_count": 129,
   "id": "5a1b1a73-52e9-45e4-82b3-17acebfd5b17",
   "metadata": {},
   "outputs": [
    {
     "data": {
      "text/latex": [
       "$\\displaystyle \\text{True}$"
      ],
      "text/plain": [
       "True"
      ]
     },
     "execution_count": 129,
     "metadata": {},
     "output_type": "execute_result"
    }
   ],
   "source": [
    "# 1.37\n",
    "sp.Eq(0, c * (1 - 1**2))"
   ]
  },
  {
   "cell_type": "code",
   "execution_count": 130,
   "id": "b8f49abf-e2a2-48ef-85d7-632eea9ab5d7",
   "metadata": {},
   "outputs": [
    {
     "data": {
      "text/latex": [
       "$\\displaystyle \\text{False}$"
      ],
      "text/plain": [
       "False"
      ]
     },
     "execution_count": 130,
     "metadata": {},
     "output_type": "execute_result"
    }
   ],
   "source": [
    "#1.38\n",
    "sp.Eq(1, c * (1 - 1**2))"
   ]
  },
  {
   "cell_type": "code",
   "execution_count": 131,
   "id": "306a2d03-1351-4b6d-8e49-346f221cbe17",
   "metadata": {},
   "outputs": [
    {
     "data": {
      "text/latex": [
       "$\\displaystyle \\text{False}$"
      ],
      "text/plain": [
       "False"
      ]
     },
     "execution_count": 131,
     "metadata": {},
     "output_type": "execute_result"
    }
   ],
   "source": [
    "sp.Eq(2, c * (1 - 1**2))"
   ]
  },
  {
   "cell_type": "code",
   "execution_count": 138,
   "id": "05f713dd-d077-408e-ab07-ef90003ba4e9",
   "metadata": {},
   "outputs": [
    {
     "data": {
      "text/html": [
       "$$c_{1} \\sin{\\left(x \\right)} + c_{2} \\cos{\\left(x \\right)}$$<br/>$$1 = c_{2}$$<br/>$$2 = c_{1}$$<br/>"
      ],
      "text/plain": [
       "<IPython.core.display.HTML object>"
      ]
     },
     "execution_count": 138,
     "metadata": {},
     "output_type": "execute_result"
    }
   ],
   "source": [
    "# 1.40\n",
    "E1 = c1 * sp.sin(x) + c2 * sp.cos(x)\n",
    "\n",
    "E2 = sp.Eq(1, E1.subs({x: 0}))\n",
    "\n",
    "E3 = sp.Eq(2, sp.diff(E1, x).subs({x: 0}))\n",
    "\n",
    "renderListToLatex([E1, E2, E3])\n",
    "# note these are initial conditions as some value given for independent variable"
   ]
  },
  {
   "cell_type": "code",
   "execution_count": 140,
   "id": "50748990-5734-408c-931a-dd3709c96a21",
   "metadata": {},
   "outputs": [
    {
     "data": {
      "text/html": [
       "$$c_{1} \\sin{\\left(x \\right)} + c_{2} \\cos{\\left(x \\right)}$$<br/>$$2 = c_{2}$$<br/>$$1 = c_{1}$$<br/>"
      ],
      "text/plain": [
       "<IPython.core.display.HTML object>"
      ]
     },
     "execution_count": 140,
     "metadata": {},
     "output_type": "execute_result"
    }
   ],
   "source": [
    "# 1.41\n",
    "\n",
    "E1 = c1 * sp.sin(x) + c2 * sp.cos(x)\n",
    "\n",
    "E2 = sp.Eq(2, E1.subs({x: 0}))\n",
    "\n",
    "E3 = sp.Eq(1, sp.diff(E1, x).subs({x: 0}))\n",
    "\n",
    "renderListToLatex([E1, E2, E3])\n",
    "# note these are initial conditions as some value given for independent variable"
   ]
  },
  {
   "cell_type": "code",
   "execution_count": 142,
   "id": "6bc18fbc-3050-433d-8e6e-98020449c553",
   "metadata": {},
   "outputs": [
    {
     "data": {
      "text/html": [
       "$$c_{1} \\sin{\\left(x \\right)} + c_{2} \\cos{\\left(x \\right)}$$<br/>$$1 = c_{1}$$<br/>$$2 = - c_{2}$$<br/>"
      ],
      "text/plain": [
       "<IPython.core.display.HTML object>"
      ]
     },
     "execution_count": 142,
     "metadata": {},
     "output_type": "execute_result"
    }
   ],
   "source": [
    "# 1.42\n",
    "\n",
    "E1 = c1 * sp.sin(x) + c2 * sp.cos(x)\n",
    "\n",
    "E2 = sp.Eq(1, E1.subs({x: sp.pi / 2}))\n",
    "\n",
    "E3 = sp.Eq(2, sp.diff(E1, x).subs({x: sp.pi/2}))\n",
    "\n",
    "renderListToLatex([E1, E2, E3])\n",
    "\n",
    "# note these are initial conditions as some value given for independent variable"
   ]
  },
  {
   "cell_type": "code",
   "execution_count": 144,
   "id": "4fdf2835-97f5-4d71-b720-46e14bc5b97f",
   "metadata": {},
   "outputs": [
    {
     "data": {
      "text/html": [
       "$$c_{1} \\sin{\\left(x \\right)} + c_{2} \\cos{\\left(x \\right)}$$<br/>$$1 = c_{2}$$<br/>$$1 = c_{1}$$<br/>"
      ],
      "text/plain": [
       "<IPython.core.display.HTML object>"
      ]
     },
     "execution_count": 144,
     "metadata": {},
     "output_type": "execute_result"
    }
   ],
   "source": [
    "# 1.43\n",
    "\n",
    "E1 = c1 * sp.sin(x) + c2 * sp.cos(x)\n",
    "\n",
    "E2 = sp.Eq(1, E1.subs({x: 0}))\n",
    "\n",
    "E3 = sp.Eq(1, E1.subs({x: sp.pi / 2}))\n",
    "\n",
    "\n",
    "\n",
    "renderListToLatex([E1, E2, E3])\n",
    "\n",
    "# note these are boundary conditions as different value given for independent variable"
   ]
  },
  {
   "cell_type": "code",
   "execution_count": 145,
   "id": "f9d14016-9e2e-495c-8ebc-5b4b316e4775",
   "metadata": {},
   "outputs": [
    {
     "data": {
      "text/html": [
       "$$c_{1} \\sin{\\left(x \\right)} + c_{2} \\cos{\\left(x \\right)}$$<br/>$$1 = c_{1}$$<br/>$$1 = - c_{2}$$<br/>"
      ],
      "text/plain": [
       "<IPython.core.display.HTML object>"
      ]
     },
     "execution_count": 145,
     "metadata": {},
     "output_type": "execute_result"
    }
   ],
   "source": [
    "# 1.44\n",
    "\n",
    "E1 = c1 * sp.sin(x) + c2 * sp.cos(x)\n",
    "\n",
    "E2 = sp.Eq(1, sp.diff(E1, x).subs({x: 0}))\n",
    "\n",
    "E3 = sp.Eq(1, sp.diff(E1, x).subs({x: sp.pi/2}))\n",
    "\n",
    "renderListToLatex([E1, E2, E3])\n",
    "\n",
    "# boundary conditions "
   ]
  },
  {
   "cell_type": "code",
   "execution_count": 147,
   "id": "8f38767c-fa28-46ea-8cf3-fb873a346d06",
   "metadata": {},
   "outputs": [
    {
     "data": {
      "text/html": [
       "$$c_{1} \\sin{\\left(x \\right)} + c_{2} \\cos{\\left(x \\right)}$$<br/>$$1 = c_{2}$$<br/>$$1 = - c_{1}$$<br/>"
      ],
      "text/plain": [
       "<IPython.core.display.HTML object>"
      ]
     },
     "execution_count": 147,
     "metadata": {},
     "output_type": "execute_result"
    }
   ],
   "source": [
    "# 1.45\n",
    "\n",
    "E1 = c1 * sp.sin(x) + c2 * sp.cos(x)\n",
    "\n",
    "E2 = sp.Eq(1, E1.subs({x: 0}))\n",
    "\n",
    "E3 = sp.Eq(1, sp.diff(E1, x).subs({x: sp.pi}))\n",
    "\n",
    "renderListToLatex([E1, E2, E3])\n",
    "\n",
    "# boundary conditions "
   ]
  },
  {
   "cell_type": "code",
   "execution_count": 149,
   "id": "b6ba9d4e-7ba6-43b6-bb8d-4e00d8a10278",
   "metadata": {},
   "outputs": [
    {
     "data": {
      "text/html": [
       "$$c_{1} \\sin{\\left(x \\right)} + c_{2} \\cos{\\left(x \\right)}$$<br/>$$1 = c_{2}$$<br/>$$2 = - c_{2}$$<br/>"
      ],
      "text/plain": [
       "<IPython.core.display.HTML object>"
      ]
     },
     "execution_count": 149,
     "metadata": {},
     "output_type": "execute_result"
    }
   ],
   "source": [
    "# 1.46\n",
    "\n",
    "E1 = c1 * sp.sin(x) + c2 * sp.cos(x)\n",
    "\n",
    "E2 = sp.Eq(1, E1.subs({x: 0}))\n",
    "\n",
    "E3 = sp.Eq(2, E1.subs({x: sp.pi}))\n",
    "\n",
    "\n",
    "\n",
    "renderListToLatex([E1, E2, E3])\n",
    "\n",
    "# boundary conditions "
   ]
  },
  {
   "cell_type": "code",
   "execution_count": 150,
   "id": "ee1d47cc-e0f5-4c5f-9725-5a9f06e08bd3",
   "metadata": {},
   "outputs": [
    {
     "data": {
      "text/html": [
       "$$c_{1} \\sin{\\left(x \\right)} + c_{2} \\cos{\\left(x \\right)}$$<br/>$$0 = c_{2}$$<br/>$$0 = c_{1}$$<br/>"
      ],
      "text/plain": [
       "<IPython.core.display.HTML object>"
      ]
     },
     "execution_count": 150,
     "metadata": {},
     "output_type": "execute_result"
    }
   ],
   "source": [
    "# 1.47\n",
    "\n",
    "E1 = c1 * sp.sin(x) + c2 * sp.cos(x)\n",
    "\n",
    "E2 = sp.Eq(0, E1.subs({x: 0}))\n",
    "\n",
    "E3 = sp.Eq(0, sp.diff(E1, x).subs({x: 0}))\n",
    "\n",
    "renderListToLatex([E1, E2, E3])"
   ]
  },
  {
   "cell_type": "code",
   "execution_count": 151,
   "id": "3e9df917-935c-41f3-8a8b-cf14f32ad061",
   "metadata": {},
   "outputs": [
    {
     "data": {
      "text/html": [
       "$$c_{1} \\sin{\\left(x \\right)} + c_{2} \\cos{\\left(x \\right)}$$<br/>$$0 = \\frac{\\sqrt{2} c_{1}}{2} + \\frac{\\sqrt{2} c_{2}}{2}$$<br/>$$1 = \\frac{c_{1}}{2} + \\frac{\\sqrt{3} c_{2}}{2}$$<br/>"
      ],
      "text/plain": [
       "<IPython.core.display.HTML object>"
      ]
     },
     "execution_count": 151,
     "metadata": {},
     "output_type": "execute_result"
    }
   ],
   "source": [
    "# 1.48\n",
    "\n",
    "E1 = c1 * sp.sin(x) + c2 * sp.cos(x)\n",
    "\n",
    "E2 = sp.Eq(0, E1.subs({x: sp.pi / 4}))\n",
    "\n",
    "E3 = sp.Eq(1, E1.subs({x: sp.pi / 6}))\n",
    "\n",
    "\n",
    "renderListToLatex([E1, E2, E3])\n",
    "\n",
    "# boundary condition"
   ]
  },
  {
   "cell_type": "code",
   "execution_count": 155,
   "id": "136a8f83-ee20-4b11-a3de-4a20f65f2e46",
   "metadata": {},
   "outputs": [
    {
     "data": {
      "text/html": [
       "$$- \\sqrt{3} - 1$$<br/>$$1 + \\sqrt{3}$$<br/>"
      ],
      "text/plain": [
       "<IPython.core.display.HTML object>"
      ]
     },
     "execution_count": 155,
     "metadata": {},
     "output_type": "execute_result"
    }
   ],
   "source": [
    "renderListToLatex([sp.solve([E2, E3], {c1, c2})[c1], sp.solve([E2, E3], {c1, c2})[c2]])"
   ]
  },
  {
   "cell_type": "code",
   "execution_count": 158,
   "id": "8c356993-01cb-4e11-a2ce-aa45357845a3",
   "metadata": {},
   "outputs": [
    {
     "data": {
      "text/html": [
       "$$c_{1} \\sin{\\left(x \\right)} + c_{2} \\cos{\\left(x \\right)}$$<br/>$$0 = c_{2}$$<br/>$$1 = - c_{2}$$<br/>"
      ],
      "text/plain": [
       "<IPython.core.display.HTML object>"
      ]
     },
     "execution_count": 158,
     "metadata": {},
     "output_type": "execute_result"
    }
   ],
   "source": [
    "# 1.49\n",
    "\n",
    "E1 = c1 * sp.sin(x) + c2 * sp.cos(x)\n",
    "\n",
    "E2 = sp.Eq(0, E1.subs({x: 0}))\n",
    "\n",
    "E3 = sp.Eq(1, sp.diff(E1, x).subs({x: sp.pi/2}))\n",
    "\n",
    "renderListToLatex([E1, E2, E3])\n",
    "\n",
    "# no solutions, boundary"
   ]
  },
  {
   "cell_type": "code",
   "execution_count": 159,
   "id": "959fa679-c88d-4ea0-958f-0d5ecc430fab",
   "metadata": {},
   "outputs": [],
   "source": [
    "# 1.50"
   ]
  },
  {
   "cell_type": "code",
   "execution_count": 161,
   "id": "728302db-1740-428d-a04a-079720b8b46e",
   "metadata": {},
   "outputs": [
    {
     "data": {
      "text/html": [
       "$$c_{1} e^{x} + c_{2} e^{- x} + 4 \\sin{\\left(x \\right)}$$<br/>$$1 = c_{1} + c_{2}$$<br/>$$-1 = c_{1} - c_{2} + 4$$<br/>"
      ],
      "text/plain": [
       "<IPython.core.display.HTML object>"
      ]
     },
     "execution_count": 161,
     "metadata": {},
     "output_type": "execute_result"
    }
   ],
   "source": [
    "E1 = c1 * sp.E**x + c2 * sp.E**-x + 4 * sp.sin(x)\n",
    "\n",
    "E2 = sp.Eq(1, E1.subs({x: 0}))\n",
    "\n",
    "E3 = sp.Eq(-1, sp.diff(E1, x).subs({x: 0}))\n",
    "\n",
    "renderListToLatex([E1, E2, E3])"
   ]
  },
  {
   "cell_type": "code",
   "execution_count": 162,
   "id": "d0f34e78-8abb-442c-b011-71303aea1a1f",
   "metadata": {},
   "outputs": [
    {
     "data": {
      "text/plain": [
       "{c1: -2, c2: 3}"
      ]
     },
     "execution_count": 162,
     "metadata": {},
     "output_type": "execute_result"
    }
   ],
   "source": [
    "sp.solve([E2, E3], (c1, c2))"
   ]
  },
  {
   "cell_type": "code",
   "execution_count": 164,
   "id": "13ea46d1-3e92-4a1d-845d-75f316a24ee5",
   "metadata": {},
   "outputs": [
    {
     "data": {
      "text/html": [
       "$$c_{1} x + c_{2} + x^{2} - 1$$<br/>$$1 = c_{1} + c_{2}$$<br/>$$2 = c_{1} + 2$$<br/>"
      ],
      "text/plain": [
       "<IPython.core.display.HTML object>"
      ]
     },
     "execution_count": 164,
     "metadata": {},
     "output_type": "execute_result"
    }
   ],
   "source": [
    "# 1.51\n",
    "\n",
    "E1 = c1 * x + c2 + x**2 - 1\n",
    "\n",
    "E2 = sp.Eq(1, E1.subs({x: 1}))\n",
    "\n",
    "E3 = sp.Eq(2, sp.diff(E1, x).subs({x: 1}))\n",
    "\n",
    "renderListToLatex([E1, E2, E3])"
   ]
  },
  {
   "cell_type": "code",
   "execution_count": 165,
   "id": "94e45f89-718f-4db8-9ae0-f6a318e9ae4d",
   "metadata": {},
   "outputs": [
    {
     "data": {
      "text/plain": [
       "{c1: 0, c2: 1}"
      ]
     },
     "execution_count": 165,
     "metadata": {},
     "output_type": "execute_result"
    }
   ],
   "source": [
    "sp.solve([E2, E3], (c1, c2))"
   ]
  },
  {
   "cell_type": "code",
   "execution_count": 167,
   "id": "dd8e15f5-1f8e-4c9a-bd74-b90bd75b96cf",
   "metadata": {},
   "outputs": [
    {
     "data": {
      "text/html": [
       "$$c_{1} e^{x} + c_{2} e^{2 x} + 3 e^{3 x}$$<br/>$$0 = c_{1} + c_{2} + 3$$<br/>$$0 = c_{1} + 2 c_{2} + 9$$<br/>"
      ],
      "text/plain": [
       "<IPython.core.display.HTML object>"
      ]
     },
     "execution_count": 167,
     "metadata": {},
     "output_type": "execute_result"
    }
   ],
   "source": [
    "# 1.52\n",
    "\n",
    "E1 = c1 * sp.E**x + c2 * sp.E**(2 * x) + 3 * sp.E**(3 * x)\n",
    "\n",
    "E2 = sp.Eq(0, E1.subs({x: 0}))\n",
    "\n",
    "E3 = sp.Eq(0, sp.diff(E1, x).subs({x: 0}))\n",
    "\n",
    "renderListToLatex([E1, E2, E3])"
   ]
  },
  {
   "cell_type": "code",
   "execution_count": 168,
   "id": "463f6e9f-5a50-41ca-b788-57e5d470b8b5",
   "metadata": {},
   "outputs": [
    {
     "data": {
      "text/plain": [
       "{c1: 3, c2: -6}"
      ]
     },
     "execution_count": 168,
     "metadata": {},
     "output_type": "execute_result"
    }
   ],
   "source": [
    "sp.solve([E2, E3], (c1, c2))"
   ]
  },
  {
   "cell_type": "code",
   "execution_count": 169,
   "id": "05b8c600-e76d-414f-aebf-3245a9cec4ed",
   "metadata": {},
   "outputs": [
    {
     "data": {
      "text/html": [
       "$$c_{1} \\sin{\\left(x \\right)} + c_{2} \\cos{\\left(x \\right)} + 1$$<br/>$$0 = 1 - c_{2}$$<br/>$$0 = - c_{1}$$<br/>"
      ],
      "text/plain": [
       "<IPython.core.display.HTML object>"
      ]
     },
     "execution_count": 169,
     "metadata": {},
     "output_type": "execute_result"
    }
   ],
   "source": [
    "# 1.53\n",
    "\n",
    "E1 = c1 * sp.sin(x) + c2 * sp.cos(x) + 1\n",
    "\n",
    "E2 = sp.Eq(0, E1.subs({x: sp.pi}))\n",
    "\n",
    "E3 = sp.Eq(0, sp.diff(E1, x).subs({x: sp.pi}))\n",
    "\n",
    "renderListToLatex([E1, E2, E3])"
   ]
  },
  {
   "cell_type": "code",
   "execution_count": 171,
   "id": "13f3d840-2333-497b-ac0a-521009ea74cc",
   "metadata": {},
   "outputs": [
    {
     "data": {
      "text/html": [
       "$$c_{1} e^{x} + c_{2} x e^{x} + x^{2} e^{x}$$<br/>$$1 = e c_{1} + e c_{2} + e$$<br/>$$-1 = e c_{1} + 2 e c_{2} + 3 e$$<br/>"
      ],
      "text/plain": [
       "<IPython.core.display.HTML object>"
      ]
     },
     "execution_count": 171,
     "metadata": {},
     "output_type": "execute_result"
    }
   ],
   "source": [
    "# 1.54\n",
    "\n",
    "E1 = c1 * sp.E **x + c2 * x * sp.E**x + x**2 * sp.E**x\n",
    "\n",
    "E2 = sp.Eq(1, E1.subs({x: 1}))\n",
    "\n",
    "E3 = sp.Eq(-1, sp.diff(E1, x).subs({x: 1}))\n",
    "\n",
    "renderListToLatex([E1, E2, E3])"
   ]
  },
  {
   "cell_type": "code",
   "execution_count": 175,
   "id": "a3e2265b-4008-46d4-99ee-39f0df723995",
   "metadata": {},
   "outputs": [
    {
     "data": {
      "text/latex": [
       "$\\displaystyle \\frac{- 2 e - 2}{e}$"
      ],
      "text/plain": [
       "(-2*E - 2)*exp(-1)"
      ]
     },
     "execution_count": 175,
     "metadata": {},
     "output_type": "execute_result"
    }
   ],
   "source": [
    "sp.solve([E2, E3], (c1, c2))[c2]"
   ]
  },
  {
   "cell_type": "code",
   "execution_count": null,
   "id": "cdee79dc-efa2-4552-9197-2dd9f7baaeb3",
   "metadata": {},
   "outputs": [],
   "source": [
    "# standard form - first order DE has derivative on LHS\n",
    "# note that Standard equations can be linear: y' + p(x)y = q(x)"
   ]
  },
  {
   "cell_type": "markdown",
   "id": "325c8aab-701f-4075-8bea-e409fd7c5104",
   "metadata": {},
   "source": []
  },
  {
   "cell_type": "code",
   "execution_count": 183,
   "id": "9f6cf2ef-ee93-4bc5-b53d-db66ec809d70",
   "metadata": {},
   "outputs": [
    {
     "data": {
      "text/latex": [
       "$\\displaystyle - y e^{x} + e^{- x} \\sin{\\left(x \\right)}$"
      ],
      "text/plain": [
       "-y*exp(x) + exp(-x)*sin(x)"
      ]
     },
     "execution_count": 183,
     "metadata": {},
     "output_type": "execute_result"
    }
   ],
   "source": [
    "# 3.2\n",
    "x, y, y1,  m, b, a, c, c1, c2, t = sp.symbols('x, y, y1,  m, b, a, c, c1, c2, t')\n",
    "E1 = sp.Eq(sp.E**x * y1 + sp.E**(2 * x) * y, sp.sin(x))\n",
    "sp.solve(E1, y1)[0]\n"
   ]
  },
  {
   "cell_type": "code",
   "execution_count": 188,
   "id": "73cf5f73-970a-4cbf-ad45-7d4539be4a4a",
   "metadata": {},
   "outputs": [],
   "source": [
    "# 3.3\n",
    "\n",
    "#E1 = sp.Eq((y1 + y)**5, sp.sin(y1/x))\n",
    "#sp.solve(E1, y1)\n",
    "\n",
    "# no solutions\n",
    "\n"
   ]
  },
  {
   "cell_type": "code",
   "execution_count": 200,
   "id": "eba82c71-d08e-47ee-89fe-1329c2ca33c6",
   "metadata": {},
   "outputs": [
    {
     "data": {
      "text/latex": [
       "$\\displaystyle \\frac{x + y}{y^{2}}$"
      ],
      "text/plain": [
       "(x + y)/y**2"
      ]
     },
     "execution_count": 200,
     "metadata": {},
     "output_type": "execute_result"
    }
   ],
   "source": [
    "# 3.4\n",
    "\n",
    "E1 = sp.Eq(y * (y1 * y - 1), x)\n",
    "sp.solve(E1, y1)[0]"
   ]
  },
  {
   "cell_type": "code",
   "execution_count": 192,
   "id": "0d6ad967-fdcd-43cb-a419-f8b26b82205a",
   "metadata": {},
   "outputs": [],
   "source": [
    "x, y, y1,  m, b, a, c, c1, c2, t, dx, dy = sp.symbols('x, y, y1,  m, b, a, c, c1, c2, t, dx, dy')"
   ]
  },
  {
   "cell_type": "code",
   "execution_count": 195,
   "id": "b7dc1c77-083e-43eb-ac8d-ff796e028d4f",
   "metadata": {},
   "outputs": [
    {
     "data": {
      "text/latex": [
       "$\\displaystyle dy \\left(2 x - y^{2} + 1\\right) = dx \\left(- x y - 3\\right)$"
      ],
      "text/plain": [
       "Eq(dy*(2*x - y**2 + 1), dx*(-x*y - 3))"
      ]
     },
     "execution_count": 195,
     "metadata": {},
     "output_type": "execute_result"
    }
   ],
   "source": [
    "E1 = sp.Eq((2 * x - y**2 + 1) * dy, -(x * y + 3) * dx)\n",
    "E1"
   ]
  },
  {
   "cell_type": "code",
   "execution_count": null,
   "id": "539a5bc8-fa13-40e2-89c0-24e004698a45",
   "metadata": {},
   "outputs": [],
   "source": [
    "# determine linearity"
   ]
  },
  {
   "cell_type": "markdown",
   "id": "042a205f-a699-46ea-990d-a0fc3c1b41f1",
   "metadata": {},
   "source": [
    "Equations are linear Equations if they can be written in the following form: \n",
    "\n",
    "$$ y\\prime + p(x)y = q(x) $$\n",
    "\n",
    "So, if it can be written as a function of x times y, plus another funciton of x\n",
    "\n",
    "A linear differential equation can be recognized by its form. It is linear if the coefficients of y (the dependent variable) and all order derivatives of y, are functions of t, or constant terms, only"
   ]
  },
  {
   "cell_type": "code",
   "execution_count": null,
   "id": "5e071252-d33a-4de4-b63c-026205f3d690",
   "metadata": {},
   "outputs": [],
   "source": [
    "# if "
   ]
  },
  {
   "cell_type": "code",
   "execution_count": 209,
   "id": "7ad312a0-d302-4cef-af27-26248e89a4b5",
   "metadata": {},
   "outputs": [
    {
     "data": {
      "text/latex": [
       "$\\displaystyle x y + y_{1} = y e^{x}$"
      ],
      "text/plain": [
       "Eq(x*y + y1, y*exp(x))"
      ]
     },
     "execution_count": 209,
     "metadata": {},
     "output_type": "execute_result"
    }
   ],
   "source": [
    "x, y, y1,  m, b, a, c, c1, c2, t, dx, dy, ty, tx = sp.symbols('x, y, y1,  m, b, a, c, c1, c2, t, dx, dy, ty, tx')\n",
    "E1 = sp.Eq(y1 + x * y, sp.E**x * y)\n",
    "E1"
   ]
  },
  {
   "cell_type": "code",
   "execution_count": 223,
   "id": "d6437085-f330-4ab2-a55b-df2d889c00e6",
   "metadata": {},
   "outputs": [
    {
     "data": {
      "text/latex": [
       "$\\displaystyle \\frac{x^{2} + y}{x^{3}}$"
      ],
      "text/plain": [
       "(x**2 + y)/x**3"
      ]
     },
     "execution_count": 223,
     "metadata": {},
     "output_type": "execute_result"
    }
   ],
   "source": [
    "E1 = (x**2 + y) / x**3\n",
    "E1"
   ]
  },
  {
   "cell_type": "code",
   "execution_count": 224,
   "id": "86f2cc38-d18a-42d8-b61f-530b4712532c",
   "metadata": {},
   "outputs": [
    {
     "data": {
      "text/latex": [
       "$\\displaystyle \\frac{t x^{2} + y}{t^{2} x^{3}}$"
      ],
      "text/plain": [
       "(t*x**2 + y)/(t**2*x**3)"
      ]
     },
     "execution_count": 224,
     "metadata": {},
     "output_type": "execute_result"
    }
   ],
   "source": [
    "E1.subs({y: t * y, x: t * x}).simplify()"
   ]
  },
  {
   "cell_type": "markdown",
   "id": "b9dca4ad-559e-480e-9606-d3c9047f439e",
   "metadata": {},
   "source": [
    "Chapter 4 gives some basics around terminology\n",
    "\n",
    "Standard form: \n",
    "\n",
    "\n",
    "$$ \\frac{dy}{dx} + Py = Q $$\n",
    "\n",
    "$$ y\\prime = f(x, y) $$\n",
    "\n",
    "Note the RHS can be writeen as a quoteint of 2 functions $M(x, y)$ and $-N(x, y)$ which becomes $ \\frac{dy}{dx} = \\frac{M(x, y)}{-N(x, y)} $ or: \n",
    "\n",
    "$$ M(x, y) dx + N(x, y) dy = 0 $$\n",
    "\n",
    "\n",
    "differential form: \n",
    "\n",
    "$$ dx B - dy C = 0 $$\n",
    "\n",
    "\n",
    "Linear Equations (if standard form can be written as): \n",
    "\n",
    "$$ y\\prime + p(x)y = q(x) $$\n",
    "\n",
    "Bernoulli Equations\n",
    "\n",
    "$$ y\\prime + p(x)y = q(x)y^n $$\n",
    "\n",
    "Where n is a real number. If n = 1 or n = 0, Bernoulli reduced to Linear\n",
    "\n",
    "These are just ways to write equations and group their characteristics\n",
    "\n",
    "Homogenous equations (meaning in first order only). There occur if it is the case that: \n",
    "\n",
    "$$ f(t \\times x, t \\times y) = f(x, y)$$\n",
    "\n",
    "Seperable - y and dy on one side, x and dx on other side\n",
    "\n",
    "exact - put into two x, y funcitons, then test if partial of first function with respect to y is equal to second function with respect to x\n",
    "\n",
    "$ \\frac{\\delta M(x, y)}{\\delta y} = \\frac{\\delta N(x, y)}{\\delta x} $"
   ]
  },
  {
   "cell_type": "code",
   "execution_count": 227,
   "id": "dbe544e7-63bd-4bd6-95b1-d64261216f9d",
   "metadata": {},
   "outputs": [
    {
     "data": {
      "text/latex": [
       "$\\displaystyle dx \\sin{\\left(x \\right)} + dy y^{2} = 0$"
      ],
      "text/plain": [
       "Eq(dx*sin(x) + dy*y**2, 0)"
      ]
     },
     "execution_count": 227,
     "metadata": {},
     "output_type": "execute_result"
    }
   ],
   "source": [
    "E1 = sp.Eq(sp.sin(x) * dx + (y**2 * dy), 0)\n"
   ]
  },
  {
   "cell_type": "code",
   "execution_count": 228,
   "id": "5290fc8a-fdfb-485b-ae58-f91a2fd8c1ce",
   "metadata": {},
   "outputs": [
    {
     "data": {
      "text/latex": [
       "$\\displaystyle \\frac{dx \\sin{\\left(x \\right)} + dy y^{2}}{dx} = 0$"
      ],
      "text/plain": [
       "Eq((dx*sin(x) + dy*y**2)/dx, 0)"
      ]
     },
     "execution_count": 228,
     "metadata": {},
     "output_type": "execute_result"
    }
   ],
   "source": [
    "sp.Eq(E1.lhs / dx, E1.rhs / dx)"
   ]
  },
  {
   "cell_type": "code",
   "execution_count": 230,
   "id": "2fda977a-37ba-4fff-ba6a-dc60b0041bdf",
   "metadata": {},
   "outputs": [
    {
     "data": {
      "text/latex": [
       "$\\displaystyle \\frac{1}{x}$"
      ],
      "text/plain": [
       "1/x"
      ]
     },
     "execution_count": 230,
     "metadata": {},
     "output_type": "execute_result"
    }
   ],
   "source": [
    "sp.diff(y / x, y)"
   ]
  },
  {
   "cell_type": "code",
   "execution_count": 231,
   "id": "900174bc-04db-42c8-8b1b-717a6fcdd3be",
   "metadata": {},
   "outputs": [
    {
     "data": {
      "text/latex": [
       "$\\displaystyle 0$"
      ],
      "text/plain": [
       "0"
      ]
     },
     "execution_count": 231,
     "metadata": {},
     "output_type": "execute_result"
    }
   ],
   "source": [
    "sp.diff(-1, x)"
   ]
  },
  {
   "cell_type": "code",
   "execution_count": 233,
   "id": "2039e4b6-a29d-4b9f-9dfe-179446db117c",
   "metadata": {},
   "outputs": [
    {
     "data": {
      "text/plain": [
       "[-y**2/x]"
      ]
     },
     "execution_count": 233,
     "metadata": {},
     "output_type": "execute_result"
    }
   ],
   "source": [
    "# 3.15\n",
    "\n",
    "E1 = sp.Eq(x * y1 + y**2)\n",
    "sp.solve(E1, y1)\n"
   ]
  },
  {
   "cell_type": "code",
   "execution_count": 239,
   "id": "7e380c1a-3bd8-48af-bce1-f42ad992ccf4",
   "metadata": {},
   "outputs": [
    {
     "data": {
      "text/latex": [
       "$\\displaystyle \\frac{x}{e^{x} - 1}$"
      ],
      "text/plain": [
       "x/(exp(x) - 1)"
      ]
     },
     "execution_count": 239,
     "metadata": {},
     "output_type": "execute_result"
    }
   ],
   "source": [
    "# 3.16\n",
    "\n",
    "E1 = sp.Eq(sp.E** x * y1 - x, y1)\n",
    "sp.solve(E1, y1)[0]"
   ]
  },
  {
   "cell_type": "code",
   "execution_count": 240,
   "id": "7937a48f-825a-41fa-89f4-fcfcf48da173",
   "metadata": {},
   "outputs": [
    {
     "data": {
      "text/latex": [
       "$\\displaystyle y^{2} + y + y_{1}^{3} = \\sin{\\left(x \\right)}$"
      ],
      "text/plain": [
       "Eq(y**2 + y + y1**3, sin(x))"
      ]
     },
     "execution_count": 240,
     "metadata": {},
     "output_type": "execute_result"
    }
   ],
   "source": [
    "# 3.17\n",
    "\n",
    "E1 = sp.Eq(y1**3 + y**2 + y, sp.sin(x))\n",
    "E1"
   ]
  },
  {
   "cell_type": "code",
   "execution_count": 242,
   "id": "7b8a9a6b-3768-4f65-acdf-b9ae2c07327e",
   "metadata": {},
   "outputs": [
    {
     "data": {
      "text/latex": [
       "$\\displaystyle \\sqrt[3]{- y^{2} - y + \\sin{\\left(x \\right)}}$"
      ],
      "text/plain": [
       "(-y**2 - y + sin(x))**(1/3)"
      ]
     },
     "execution_count": 242,
     "metadata": {},
     "output_type": "execute_result"
    }
   ],
   "source": [
    "sp.solve(E1, y1)[2]"
   ]
  },
  {
   "cell_type": "code",
   "execution_count": 243,
   "id": "b8965880-e717-4726-89a9-1ff9a57a557c",
   "metadata": {},
   "outputs": [
    {
     "data": {
      "text/latex": [
       "$\\displaystyle x y_{1} + \\cos{\\left(y + y_{1} \\right)} = 0$"
      ],
      "text/plain": [
       "Eq(x*y1 + cos(y + y1), 0)"
      ]
     },
     "execution_count": 243,
     "metadata": {},
     "output_type": "execute_result"
    }
   ],
   "source": [
    "# 3.18\n",
    "E1 = sp.Eq(x * y1 + sp.cos(y1 + y), 0)\n",
    "E1"
   ]
  },
  {
   "cell_type": "code",
   "execution_count": 246,
   "id": "bdf8c17a-53c9-40b8-901d-dfe098d22608",
   "metadata": {},
   "outputs": [],
   "source": [
    "# sp.solve(E1, y1)\n",
    "# not possibel"
   ]
  },
  {
   "cell_type": "code",
   "execution_count": 247,
   "id": "be21106e-a512-4bf4-b6fa-10f2f29a494b",
   "metadata": {},
   "outputs": [
    {
     "data": {
      "text/latex": [
       "$\\displaystyle e^{y + y_{1}} = x$"
      ],
      "text/plain": [
       "Eq(exp(y + y1), x)"
      ]
     },
     "execution_count": 247,
     "metadata": {},
     "output_type": "execute_result"
    }
   ],
   "source": [
    "# 3.19\n",
    "E1 = sp.Eq(sp.E**(y1 + y), x)\n",
    "E1"
   ]
  },
  {
   "cell_type": "code",
   "execution_count": 252,
   "id": "f5e1492d-a155-4f15-af40-25fc25a930ee",
   "metadata": {},
   "outputs": [
    {
     "data": {
      "text/latex": [
       "$\\displaystyle \\log{\\left(x e^{- y} \\right)}$"
      ],
      "text/plain": [
       "log(x*exp(-y))"
      ]
     },
     "execution_count": 252,
     "metadata": {},
     "output_type": "execute_result"
    }
   ],
   "source": [
    "sp.solve(E1, y1)[0].simplify()"
   ]
  },
  {
   "cell_type": "code",
   "execution_count": 253,
   "id": "4790cbca-c820-40eb-a0b6-255916ab8f9a",
   "metadata": {},
   "outputs": [
    {
     "data": {
      "text/latex": [
       "$\\displaystyle y_{1}^{2} - 5 y_{1} + 6 = \\left(x + y\\right) \\left(y_{1} - 2\\right)$"
      ],
      "text/plain": [
       "Eq(y1**2 - 5*y1 + 6, (x + y)*(y1 - 2))"
      ]
     },
     "execution_count": 253,
     "metadata": {},
     "output_type": "execute_result"
    }
   ],
   "source": [
    "# 3.20\n",
    "\n",
    "E1 = sp.Eq(y1**2 - 5 * y1 + 6, (x + y) * (y1 - 2))\n",
    "E1"
   ]
  },
  {
   "cell_type": "code",
   "execution_count": 254,
   "id": "caad3ab8-16a8-4dd3-bf93-15e43511f857",
   "metadata": {},
   "outputs": [
    {
     "data": {
      "text/plain": [
       "[2, x + y + 3]"
      ]
     },
     "execution_count": 254,
     "metadata": {},
     "output_type": "execute_result"
    }
   ],
   "source": [
    "sp.solve(E1, y1)"
   ]
  },
  {
   "cell_type": "code",
   "execution_count": null,
   "id": "5041b7f9-137b-496c-9e0e-04a2c45c94be",
   "metadata": {},
   "outputs": [],
   "source": [
    "# homogoen"
   ]
  },
  {
   "cell_type": "code",
   "execution_count": null,
   "id": "afb6cf1e-bf06-407e-a571-e780ce0f8351",
   "metadata": {},
   "outputs": [],
   "source": []
  },
  {
   "cell_type": "code",
   "execution_count": null,
   "id": "b6194612-ec00-41f7-a1f0-4a8a059b67dc",
   "metadata": {},
   "outputs": [],
   "source": []
  },
  {
   "cell_type": "code",
   "execution_count": null,
   "id": "838ebd32-3935-4b1a-be3e-5e62bf55a3e4",
   "metadata": {},
   "outputs": [],
   "source": []
  },
  {
   "cell_type": "code",
   "execution_count": null,
   "id": "f7e01bfe-786d-4f72-9a1d-4af23b38b6a3",
   "metadata": {},
   "outputs": [],
   "source": []
  },
  {
   "cell_type": "code",
   "execution_count": null,
   "id": "196c20d5-d5dd-41b6-9ced-795d09cfafe3",
   "metadata": {},
   "outputs": [],
   "source": []
  },
  {
   "cell_type": "code",
   "execution_count": null,
   "id": "f3574efb-5d63-4c56-8e23-686fe4a0346f",
   "metadata": {},
   "outputs": [],
   "source": []
  },
  {
   "cell_type": "code",
   "execution_count": null,
   "id": "73eeef9f-aa3d-470d-a538-0f9f0f0f4ba2",
   "metadata": {},
   "outputs": [],
   "source": []
  },
  {
   "cell_type": "code",
   "execution_count": null,
   "id": "6533dac8-b5de-4ea1-8cc4-5d6dd164360a",
   "metadata": {},
   "outputs": [],
   "source": []
  },
  {
   "cell_type": "code",
   "execution_count": null,
   "id": "41163cbb-0f27-4351-b46c-f06542fda7f3",
   "metadata": {},
   "outputs": [],
   "source": []
  },
  {
   "cell_type": "code",
   "execution_count": null,
   "id": "c5ee7fe9-36e9-4763-aed4-3b7d9f3b13f2",
   "metadata": {},
   "outputs": [],
   "source": []
  },
  {
   "cell_type": "code",
   "execution_count": null,
   "id": "59f56db7-acda-4ced-a86d-7952a310bff1",
   "metadata": {},
   "outputs": [],
   "source": []
  },
  {
   "cell_type": "code",
   "execution_count": null,
   "id": "e2dba502-35c8-4547-adba-2487d8660cb8",
   "metadata": {},
   "outputs": [],
   "source": []
  },
  {
   "cell_type": "markdown",
   "id": "bf91dd32-10cf-4f9c-8241-fbafd0d81269",
   "metadata": {},
   "source": [
    "### Slope fields"
   ]
  },
  {
   "cell_type": "code",
   "execution_count": 84,
   "id": "c895b752-631e-4750-8e4e-efd508dea2a6",
   "metadata": {},
   "outputs": [
    {
     "data": {
      "image/png": "[encoded data removed]",
      "text/plain": [
       "<Figure size 432x288 with 1 Axes>"
      ]
     },
     "metadata": {
      "needs_background": "light"
     },
     "output_type": "display_data"
    }
   ],
   "source": [
    "x,y = np.meshgrid(np.arange(-9,9,1.2),np.arange(-9,9,1.2))\n",
    "u = 1\n",
    "v = x + y\n",
    "plt.quiver(x,y,u,v)\n",
    "plt.xlim(-9,9)\n",
    "plt.ylim(-9,9)\n",
    "plt.show()"
   ]
  },
  {
   "cell_type": "code",
   "execution_count": 85,
   "id": "b5e6f1eb-af38-42da-af57-89c246c4bab0",
   "metadata": {},
   "outputs": [
    {
     "data": {
      "text/latex": [
       "$\\displaystyle - \\frac{x}{y}$"
      ],
      "text/plain": [
       "-x/y"
      ]
     },
     "execution_count": 85,
     "metadata": {},
     "output_type": "execute_result"
    }
   ],
   "source": [
    "x, y, m, b, a = sp.symbols('x, y, m, b, a')\n",
    "E29 = -x/y\n",
    "E29"
   ]
  },
  {
   "cell_type": "code",
   "execution_count": 86,
   "id": "69c462ab-6c8e-4faf-9469-7c0181b09274",
   "metadata": {},
   "outputs": [],
   "source": [
    "def CreateSlopeField(gradientEvaluationChoice, lowerLimit, higherLimit, increment = 1):\n",
    "    \n",
    "    x,y = np.meshgrid(np.arange(lowerLimit, higherLimit, increment),np.arange(lowerLimit, higherLimit, increment))\n",
    "    u = 1\n",
    "    v = x + y\n",
    "    plt.quiver(x,y,u,v)\n",
    "    plt.xlim(lowerLimit, higherLimit)\n",
    "    plt.ylim(lowerLimit, higherLimit)\n",
    "    plt.show()\n",
    "\n",
    "\n",
    "def CreateSlopeFieldTableValues(gradientEvaluationChoice, lowerLimit, higherLimit, increment = 1):\n",
    "    xValues = []\n",
    "    yValues = []\n",
    "    slopeValues = []\n",
    "\n",
    "    for i in np.arange(lowerLimit,higherLimit, increment):\n",
    "        for j in np.arange(lowerLimit,higherLimit, increment):\n",
    "            xValues.append(i)\n",
    "            yValues.append(j)\n",
    "            slopeValues.append(gradientEvaluationChoice.subs({x:i, y:j}))\n",
    "            \n",
    "    tableOfValues = pd.DataFrame(data={'x': xValues,\n",
    "                  'y':yValues,\n",
    "                  'gradient': slopeValues})\n",
    "    \n",
    "    return(tableOfValues)"
   ]
  },
  {
   "cell_type": "code",
   "execution_count": 87,
   "id": "e50ddcad-6030-4be2-ad69-4eb20bf634cc",
   "metadata": {},
   "outputs": [
    {
     "data": {
      "image/png": "[encoded data removed]",
      "text/plain": [
       "<Figure size 432x288 with 1 Axes>"
      ]
     },
     "metadata": {
      "needs_background": "light"
     },
     "output_type": "display_data"
    }
   ],
   "source": [
    "CreateSlopeField(x - y, -9, 9)"
   ]
  },
  {
   "cell_type": "code",
   "execution_count": 88,
   "id": "88240ce4-32ff-4b9e-92c3-32b2e2685db7",
   "metadata": {},
   "outputs": [
    {
     "data": {
      "text/html": [
       "<div>\n",
       "<style scoped>\n",
       "    .dataframe tbody tr th:only-of-type {\n",
       "        vertical-align: middle;\n",
       "    }\n",
       "\n",
       "    .dataframe tbody tr th {\n",
       "        vertical-align: top;\n",
       "    }\n",
       "\n",
       "    .dataframe thead th {\n",
       "        text-align: right;\n",
       "    }\n",
       "</style>\n",
       "<table border=\"1\" class=\"dataframe\">\n",
       "  <thead>\n",
       "    <tr style=\"text-align: right;\">\n",
       "      <th></th>\n",
       "      <th>x</th>\n",
       "      <th>y</th>\n",
       "      <th>gradient</th>\n",
       "    </tr>\n",
       "  </thead>\n",
       "  <tbody>\n",
       "    <tr>\n",
       "      <th>0</th>\n",
       "      <td>5.0</td>\n",
       "      <td>5.0</td>\n",
       "      <td>-0.833333333333333</td>\n",
       "    </tr>\n",
       "    <tr>\n",
       "      <th>1</th>\n",
       "      <td>5.0</td>\n",
       "      <td>5.1</td>\n",
       "      <td>-0.934999999999999</td>\n",
       "    </tr>\n",
       "    <tr>\n",
       "      <th>2</th>\n",
       "      <td>5.0</td>\n",
       "      <td>5.2</td>\n",
       "      <td>-1.04000000000000</td>\n",
       "    </tr>\n",
       "    <tr>\n",
       "      <th>3</th>\n",
       "      <td>5.0</td>\n",
       "      <td>5.3</td>\n",
       "      <td>-1.14833333333333</td>\n",
       "    </tr>\n",
       "    <tr>\n",
       "      <th>4</th>\n",
       "      <td>5.0</td>\n",
       "      <td>5.4</td>\n",
       "      <td>-1.26000000000000</td>\n",
       "    </tr>\n",
       "    <tr>\n",
       "      <th>...</th>\n",
       "      <td>...</td>\n",
       "      <td>...</td>\n",
       "      <td>...</td>\n",
       "    </tr>\n",
       "    <tr>\n",
       "      <th>395</th>\n",
       "      <td>6.9</td>\n",
       "      <td>6.5</td>\n",
       "      <td>-2.70833333333333</td>\n",
       "    </tr>\n",
       "    <tr>\n",
       "      <th>396</th>\n",
       "      <td>6.9</td>\n",
       "      <td>6.6</td>\n",
       "      <td>-2.85999999999999</td>\n",
       "    </tr>\n",
       "    <tr>\n",
       "      <th>397</th>\n",
       "      <td>6.9</td>\n",
       "      <td>6.7</td>\n",
       "      <td>-3.01499999999999</td>\n",
       "    </tr>\n",
       "    <tr>\n",
       "      <th>398</th>\n",
       "      <td>6.9</td>\n",
       "      <td>6.8</td>\n",
       "      <td>-3.17333333333332</td>\n",
       "    </tr>\n",
       "    <tr>\n",
       "      <th>399</th>\n",
       "      <td>6.9</td>\n",
       "      <td>6.9</td>\n",
       "      <td>-3.33499999999999</td>\n",
       "    </tr>\n",
       "  </tbody>\n",
       "</table>\n",
       "<p>400 rows × 3 columns</p>\n",
       "</div>"
      ],
      "text/plain": [
       "       x    y            gradient\n",
       "0    5.0  5.0  -0.833333333333333\n",
       "1    5.0  5.1  -0.934999999999999\n",
       "2    5.0  5.2   -1.04000000000000\n",
       "3    5.0  5.3   -1.14833333333333\n",
       "4    5.0  5.4   -1.26000000000000\n",
       "..   ...  ...                 ...\n",
       "395  6.9  6.5   -2.70833333333333\n",
       "396  6.9  6.6   -2.85999999999999\n",
       "397  6.9  6.7   -3.01499999999999\n",
       "398  6.9  6.8   -3.17333333333332\n",
       "399  6.9  6.9   -3.33499999999999\n",
       "\n",
       "[400 rows x 3 columns]"
      ]
     },
     "execution_count": 88,
     "metadata": {},
     "output_type": "execute_result"
    }
   ],
   "source": [
    "CreateSlopeFieldTableValues((y / 6) * (4 - y), 5, 7, .1)"
   ]
  },
  {
   "cell_type": "code",
   "execution_count": 89,
   "id": "7399e67d-21ae-4b50-9ef7-3c78824b4c36",
   "metadata": {},
   "outputs": [
    {
     "data": {
      "image/png": "[encoded data removed]",
      "text/plain": [
       "<Figure size 432x288 with 1 Axes>"
      ]
     },
     "metadata": {
      "needs_background": "light"
     },
     "output_type": "display_data"
    }
   ],
   "source": [
    "CreateSlopeField((y / 6) * (4 - y), -8, 8)"
   ]
  },
  {
   "cell_type": "code",
   "execution_count": 90,
   "id": "4b5cad85-bdb0-461b-aab4-01dc86632a8b",
   "metadata": {},
   "outputs": [
    {
     "data": {
      "text/latex": [
       "$\\displaystyle 3 x - y + 1$"
      ],
      "text/plain": [
       "3*x - y + 1"
      ]
     },
     "execution_count": 90,
     "metadata": {},
     "output_type": "execute_result"
    }
   ],
   "source": [
    "E30 = 3 * x - y + 1\n",
    "E30"
   ]
  },
  {
   "cell_type": "code",
   "execution_count": 91,
   "id": "20ed14c1-cafc-4113-8626-c081c34ef8bc",
   "metadata": {},
   "outputs": [
    {
     "data": {
      "text/latex": [
       "$\\displaystyle 1$"
      ],
      "text/plain": [
       "1"
      ]
     },
     "execution_count": 91,
     "metadata": {},
     "output_type": "execute_result"
    }
   ],
   "source": [
    "E30.subs({x:2, y:6})"
   ]
  },
  {
   "cell_type": "code",
   "execution_count": 92,
   "id": "989e0ceb-c798-4d40-8eb0-6feb0be7b603",
   "metadata": {},
   "outputs": [],
   "source": [
    "#eulers method\n",
    "\n",
    "# e examplee\n",
    "\n",
    "#Start with 2 facts\n",
    "# dy/dx = y\n",
    "\n",
    "# y(0) = 1\n",
    "\n",
    "# most differntial equation - modeled with euluers mthod"
   ]
  },
  {
   "cell_type": "code",
   "execution_count": null,
   "id": "7893af56-b397-4127-bc69-f84fbdf8ed99",
   "metadata": {},
   "outputs": [],
   "source": []
  },
  {
   "cell_type": "code",
   "execution_count": null,
   "id": "0ca2de6c-cebf-4fc2-9bda-0c8c2a28c60a",
   "metadata": {},
   "outputs": [],
   "source": []
  },
  {
   "cell_type": "code",
   "execution_count": null,
   "id": "26f44749-c7e8-4e93-a431-0398c9f33d87",
   "metadata": {},
   "outputs": [],
   "source": []
  }
 ],
 "metadata": {
  "kernelspec": {
   "display_name": "Python 3",
   "language": "python",
   "name": "python3"
  },
  "language_info": {
   "codemirror_mode": {
    "name": "ipython",
    "version": 3
   },
   "file_extension": ".py",
   "mimetype": "text/x-python",
   "name": "python",
   "nbconvert_exporter": "python",
   "pygments_lexer": "ipython3",
   "version": "3.9.2"
  }
 },
 "nbformat": 4,
 "nbformat_minor": 5
}
