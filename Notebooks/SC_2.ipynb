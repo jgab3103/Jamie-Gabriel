{
 "cells": [
  {
   "cell_type": "code",
   "execution_count": 1,
   "id": "09d739b7-452b-440e-b856-8a6712d5a439",
   "metadata": {},
   "outputs": [],
   "source": [
    "# !pip install chempy\n",
    "# !pip install periodictable\n",
    "# !pip install PyAstronomy\n",
    "# !pip install molmass\n",
    "\n",
    "import periodictable as pt\n",
    "import scipy as scp\n",
    "import chempy as ch\n",
    "import numpy as np\n",
    "import sympy as sp\n",
    "import molmass as mm\n",
    "import pickle\n",
    "from IPython.display import HTML\n",
    "import ipywidgets as widgets\n",
    "import matplotlib as mpl\n",
    "import matplotlib.pyplot as plt\n",
    "from mpl_toolkits.mplot3d import Axes3D\n",
    "import matplotlib.pyplot as plt\n",
    "mpl.rcParams['legend.fontsize'] = 10\n",
    "import pandas as pd\n",
    "import itertools\n",
    "pd.set_option('display.max_colwidth', None)\n",
    "from sympy.plotting import plot \n",
    "from IPython.display import Image\n",
    "from PyAstronomy import pyasl\n",
    "import decimal\n",
    "import sympy.physics.units as u\n",
    "from sympy.physics.units.systems import SI\n",
    "\n",
    "from sympy.physics.units import speed_of_light, meter, gram, second, day, pound\n",
    "from sympy.physics.units import mile, newton, kilogram, atomic_mass_constant\n",
    "from sympy.physics.units import kilometer, centimeter, millimeter, nanometer\n",
    "from sympy.physics.units import gravitational_constant, hbar, kPa, newton\n",
    "from sympy.physics.units import convert_to\n",
    "\n",
    "def RTL(e):\n",
    "    \"\"\"INPUT PARAMS: [] of math expressions\"\"\"\n",
    "    latex_rendering = []\n",
    "\n",
    "    for i in range(len(e)):\n",
    "        latex_rendering.append(\"$\" + sp.latex(e[i]) + \"$ &nbsp;&nbsp;\")\n",
    "    \n",
    "    return(HTML(\"\".join(latex_rendering[0:])))\n",
    "\n",
    "def BalanceChemEquation(L, R):\n",
    "    \"\"\" INPUT PARAMS: 2 * {} containing react and prod\"\"\"\n",
    "    reac, prod = ch.balance_stoichiometry(L, R)\n",
    "    Reaction = ch.Reaction(reac, prod)\n",
    "    return([Reaction, [reac, prod]])\n",
    "    \n",
    "\n",
    "class Atom: \n",
    "    def __init__(self, pCount, nCount, eCount):\n",
    "        \"\"\"INPUT PARAMS: countOfProtons, countOfNeutrons, countOfElectrons\"\"\"\n",
    "        \n",
    "        an = pyasl.AtomicNo()\n",
    "        \n",
    "        self.Protons = pCount\n",
    "        self.Neutrons = nCount\n",
    "        self.Electrons = eCount\n",
    "        self.ElementName = an.getElementName(pCount)\n",
    "        self.ElementNameWithAtomicMass = an.getElementName(pCount) + \"(\" + str(self.Protons) + \",\" + str(self.Protons + self.Neutrons) + \")\"\n",
    "    \n",
    "    def CreateSummary(self):\n",
    "        print(\"Name: \", self.ElementName)\n",
    "        print(\"Protons: \", self.Protons)\n",
    "        print(\"Neutrons: \", self.Neutrons)\n",
    "        print(\"Electrons: \", self.Electrons)"
   ]
  },
  {
   "cell_type": "code",
   "execution_count": 2,
   "id": "272aa265-b360-4e8b-ab55-276aefd4e2e6",
   "metadata": {},
   "outputs": [
    {
     "data": {
      "text/plain": [
       "28.0855"
      ]
     },
     "execution_count": 2,
     "metadata": {},
     "output_type": "execute_result"
    }
   ],
   "source": [
    "# 2.1\n",
    "mm.Formula(\"Si\").mass"
   ]
  },
  {
   "cell_type": "code",
   "execution_count": 3,
   "id": "134f79cd-9e5f-4fdc-a5a9-ba831b164eaa",
   "metadata": {},
   "outputs": [
    {
     "data": {
      "text/html": [
       "<div>\n",
       "<style scoped>\n",
       "    .dataframe tbody tr th:only-of-type {\n",
       "        vertical-align: middle;\n",
       "    }\n",
       "\n",
       "    .dataframe tbody tr th {\n",
       "        vertical-align: top;\n",
       "    }\n",
       "\n",
       "    .dataframe thead th {\n",
       "        text-align: right;\n",
       "    }\n",
       "</style>\n",
       "<table border=\"1\" class=\"dataframe\">\n",
       "  <thead>\n",
       "    <tr style=\"text-align: right;\">\n",
       "      <th></th>\n",
       "      <th>Relative mass</th>\n",
       "      <th>Fraction</th>\n",
       "      <th>Intensity %</th>\n",
       "      <th>m/z</th>\n",
       "    </tr>\n",
       "    <tr>\n",
       "      <th>Mass number</th>\n",
       "      <th></th>\n",
       "      <th></th>\n",
       "      <th></th>\n",
       "      <th></th>\n",
       "    </tr>\n",
       "  </thead>\n",
       "  <tbody>\n",
       "    <tr>\n",
       "      <th>12</th>\n",
       "      <td>12.000000</td>\n",
       "      <td>0.9893</td>\n",
       "      <td>100.000000</td>\n",
       "      <td>12.000000</td>\n",
       "    </tr>\n",
       "    <tr>\n",
       "      <th>13</th>\n",
       "      <td>13.003355</td>\n",
       "      <td>0.0107</td>\n",
       "      <td>1.081573</td>\n",
       "      <td>13.003355</td>\n",
       "    </tr>\n",
       "  </tbody>\n",
       "</table>\n",
       "</div>"
      ],
      "text/plain": [
       "             Relative mass  Fraction  Intensity %        m/z\n",
       "Mass number                                                 \n",
       "12               12.000000    0.9893   100.000000  12.000000\n",
       "13               13.003355    0.0107     1.081573  13.003355"
      ]
     },
     "execution_count": 3,
     "metadata": {},
     "output_type": "execute_result"
    }
   ],
   "source": [
    "#.2.2\n",
    "# Find different isotypes\n",
    "E1 = mm.Formula(\"C\")\n",
    "E1.spectrum().dataframe()"
   ]
  },
  {
   "cell_type": "code",
   "execution_count": 4,
   "id": "505c5a78-bf6d-436d-9982-54d35d2c785b",
   "metadata": {},
   "outputs": [
    {
     "data": {
      "text/latex": [
       "$\\displaystyle \\frac{0.00545494812889824 mol}{\\text{g}}$"
      ],
      "text/plain": [
       "0.00545494812889824*mol/gram"
      ]
     },
     "execution_count": 4,
     "metadata": {},
     "output_type": "execute_result"
    }
   ],
   "source": [
    "# 2.4\n",
    "# Consider the follwoing sample which must be 1.576g\n",
    "mol = sp.symbols('mol')\n",
    "# Numbre of g/moles from Cd must be: \n",
    "E1 = 1 / (mm.Formula(\"CdCl2\").mass * u.grams / mol)\n",
    "E1"
   ]
  },
  {
   "cell_type": "code",
   "execution_count": 5,
   "id": "0f51f0e8-5630-40c8-9baa-ef095073e073",
   "metadata": {},
   "outputs": [
    {
     "data": {
      "text/latex": [
       "$\\displaystyle 0.00833297876170496 mol$"
      ],
      "text/plain": [
       "0.00833297876170496*mol"
      ]
     },
     "execution_count": 5,
     "metadata": {},
     "output_type": "execute_result"
    }
   ],
   "source": [
    "# Find out mow many moles in 1.5276g\n",
    "E2 = 1.5276 * u.grams * E1\n",
    "E2"
   ]
  },
  {
   "cell_type": "code",
   "execution_count": 6,
   "id": "f6d34a86-9961-45d1-be2a-0551e42fd46d",
   "metadata": {},
   "outputs": [],
   "source": [
    "# This must be the amount of Cadmium in the example, so convert this to \n",
    "# grams"
   ]
  },
  {
   "cell_type": "code",
   "execution_count": 7,
   "id": "2ce0568e-22e9-4727-92f5-60e1bb4dd900",
   "metadata": {},
   "outputs": [
    {
     "data": {
      "text/latex": [
       "$\\displaystyle 0.936743474518301 \\text{g}$"
      ],
      "text/plain": [
       "0.936743474518301*gram"
      ]
     },
     "execution_count": 7,
     "metadata": {},
     "output_type": "execute_result"
    }
   ],
   "source": [
    "E3 = mm.Formula(\"Cd\").mass * u.gram / mol\n",
    "E4 = E3 * E2\n",
    "E4"
   ]
  },
  {
   "cell_type": "code",
   "execution_count": 8,
   "id": "c4e60125-7f0f-4dbb-85c0-4891c26dc6a3",
   "metadata": {},
   "outputs": [
    {
     "data": {
      "text/latex": [
       "$\\displaystyle 0.0163531821090994 mols$"
      ],
      "text/plain": [
       "0.0163531821090994*mols"
      ]
     },
     "execution_count": 8,
     "metadata": {},
     "output_type": "execute_result"
    }
   ],
   "source": [
    "# 2.5\n",
    "# Note we have 2.834g of VOCl3\n",
    "# find the amount in moles of this sample\n",
    "mol = sp.symbols('mols')\n",
    "\n",
    "E1 = 1 /  (mm.Formula(\"VOCl3\").mass * u.gram / mol)\n",
    "E2 = 2.834 * u.grams * E1\n",
    "E2"
   ]
  },
  {
   "cell_type": "code",
   "execution_count": 9,
   "id": "0ff84a65-1a7c-4693-901a-39a15e6aeb09",
   "metadata": {},
   "outputs": [
    {
     "data": {
      "text/latex": [
       "$\\displaystyle 0.00545106070303315 mols$"
      ],
      "text/plain": [
       "0.00545106070303315*mols"
      ]
     },
     "execution_count": 9,
     "metadata": {},
     "output_type": "execute_result"
    }
   ],
   "source": [
    "# Note that there are 1/3 of the moles in V and in O\n",
    "E3 = E2 / 3\n",
    "E3"
   ]
  },
  {
   "cell_type": "code",
   "execution_count": 10,
   "id": "1259139d-8880-4d88-bd20-4ca7f4eb6c24",
   "metadata": {},
   "outputs": [
    {
     "data": {
      "text/latex": [
       "$\\displaystyle \\frac{50.9415 \\text{g}}{mols}$"
      ],
      "text/plain": [
       "50.9415*gram/mols"
      ]
     },
     "execution_count": 10,
     "metadata": {},
     "output_type": "execute_result"
    }
   ],
   "source": [
    "# Now find how many grams o vinadium\n",
    "E4 = mm.Formula(\"V\").mass * u.grams / mol\n",
    "E4"
   ]
  },
  {
   "cell_type": "code",
   "execution_count": 11,
   "id": "19723d46-fc7c-475c-9fa2-be6d3b7ec714",
   "metadata": {},
   "outputs": [
    {
     "data": {
      "text/latex": [
       "$\\displaystyle 0.277685208803563 \\text{g}$"
      ],
      "text/plain": [
       "0.277685208803563*gram"
      ]
     },
     "execution_count": 11,
     "metadata": {},
     "output_type": "execute_result"
    }
   ],
   "source": [
    "# There fore there is this much grams in the sample\n",
    "E3 * E4"
   ]
  },
  {
   "cell_type": "code",
   "execution_count": 12,
   "id": "642301fa-f6c1-4fff-8ee9-785a10ec67dc",
   "metadata": {},
   "outputs": [
    {
     "data": {
      "text/plain": [
       "483.131"
      ]
     },
     "execution_count": 12,
     "metadata": {},
     "output_type": "execute_result"
    }
   ],
   "source": [
    "#2.6\n",
    "# Find molar mass\n",
    "mm.Formula(\"K2IrCl6\").mass"
   ]
  },
  {
   "cell_type": "code",
   "execution_count": 13,
   "id": "fb4fa3d0-24c8-4d1d-b0fe-5f9c33ce0ac9",
   "metadata": {},
   "outputs": [
    {
     "data": {
      "text/plain": [
       "86.088650489"
      ]
     },
     "execution_count": 13,
     "metadata": {},
     "output_type": "execute_result"
    }
   ],
   "source": [
    "# (b)\n",
    "# Findf molar mass\n",
    "mm.Formula(\"SiHF3\").mass"
   ]
  },
  {
   "cell_type": "code",
   "execution_count": 14,
   "id": "e8903d4b-85db-4d7e-8b6e-c6b5c504e0a4",
   "metadata": {},
   "outputs": [
    {
     "data": {
      "text/latex": [
       "$\\displaystyle \\frac{34.080682 \\text{g}}{mol}$"
      ],
      "text/plain": [
       "34.080682*gram/mol"
      ]
     },
     "execution_count": 14,
     "metadata": {},
     "output_type": "execute_result"
    }
   ],
   "source": [
    "# 2.7\n",
    "# (a)\n",
    "mol = sp.symbols(\"mol\")\n",
    "# find grams per mol of compound\n",
    "E1 = mm.Formula(\"H2S\").mass * u.grams / mol\n",
    "E1"
   ]
  },
  {
   "cell_type": "code",
   "execution_count": 15,
   "id": "01423c11-80e4-409a-88c6-55da6518141a",
   "metadata": {},
   "outputs": [
    {
     "data": {
      "text/latex": [
       "$\\displaystyle \\frac{13.6322728 \\text{g}}{mol}$"
      ],
      "text/plain": [
       "13.6322728*gram/mol"
      ]
     },
     "execution_count": 15,
     "metadata": {},
     "output_type": "execute_result"
    }
   ],
   "source": [
    "# now find .4 of a mole\n",
    "E2 = .400 * E1\n",
    "E2"
   ]
  },
  {
   "cell_type": "code",
   "execution_count": 16,
   "id": "acfcea42-72f5-4d2f-9034-3ea3eda31b21",
   "metadata": {},
   "outputs": [],
   "source": [
    "# (b)\n",
    "# If moles is .4, then there are .4 moles in S and .8 moles in H2"
   ]
  },
  {
   "cell_type": "markdown",
   "id": "f235abfe-a16e-4afb-83c4-5f19bb279c9d",
   "metadata": {},
   "source": [
    "<b>Note</b>: \n",
    "\n",
    "Number of grams per element: \n",
    "\n",
    "$$ \\text{(number of moles)} \\times \\text{(mass of 1 mole)} $$\n",
    "\n",
    "Number of molecules: \n",
    "\n",
    "$$ \\text{(number of moles)} \\times \\text{(number of molecules in 1 mole}) $$\n",
    "\n",
    "Number of atoms per element\n",
    "\n",
    "$$ \\text{(number of moles)} \\times \\text{(number of atoms per mole)} $$\n",
    "\n",
    "noting there are $6.022 \\times 10^23$ atoms/mol"
   ]
  },
  {
   "cell_type": "code",
   "execution_count": 17,
   "id": "71a5ce9a-d1a7-40f5-bc8e-d6f59846a3c4",
   "metadata": {},
   "outputs": [
    {
     "data": {
      "text/latex": [
       "$\\displaystyle 12.82592 \\text{g}$"
      ],
      "text/plain": [
       "12.82592*gram"
      ]
     },
     "execution_count": 17,
     "metadata": {},
     "output_type": "execute_result"
    }
   ],
   "source": [
    "# (c)\n",
    "# Find grams in H and S\n",
    "E3 = .4 * mol *  mm.Formula(\"S\").mass * u.grams / mol\n",
    "# The amount of grams in S\n",
    "E3"
   ]
  },
  {
   "cell_type": "code",
   "execution_count": 18,
   "id": "598fc152-410e-419c-8195-83310da4b8bc",
   "metadata": {},
   "outputs": [
    {
     "data": {
      "text/latex": [
       "$\\displaystyle 0.8063528 \\text{g}$"
      ],
      "text/plain": [
       "0.8063528*gram"
      ]
     },
     "execution_count": 18,
     "metadata": {},
     "output_type": "execute_result"
    }
   ],
   "source": [
    "E4 = .8 * mol * mm.Formula(\"H\").mass * u.grams / mol\n",
    "# The amount of moles in .8 moles of H\n",
    "E4"
   ]
  },
  {
   "cell_type": "code",
   "execution_count": 19,
   "id": "dc012dc0-4c3c-4966-b0bb-477bb538f1f9",
   "metadata": {},
   "outputs": [
    {
     "data": {
      "text/plain": [
       "2.408856304e+23"
      ]
     },
     "execution_count": 19,
     "metadata": {},
     "output_type": "execute_result"
    }
   ],
   "source": [
    "# (d)\n",
    "# Find number of molecules in H2s\n",
    "# Recall that there are .4 moles of H2S\n",
    "E5 = scp.constants.Avogadro * .4\n",
    "E5"
   ]
  },
  {
   "cell_type": "code",
   "execution_count": 20,
   "id": "5f36b569-d638-41d2-a47d-84d39d5e6905",
   "metadata": {},
   "outputs": [],
   "source": [
    "# (e) \n",
    "mol, atom = sp.symbols(\"mol, atom\")\n",
    "E6 = .8 * mol * scp.constants.Avogadro * atom / mol\n",
    "# number of atoms in .8 moles"
   ]
  },
  {
   "cell_type": "code",
   "execution_count": 21,
   "id": "0a9e3acd-2e8d-4a12-a6c0-bfbea7a14737",
   "metadata": {},
   "outputs": [
    {
     "data": {
      "text/latex": [
       "$\\displaystyle 2.408856304 \\cdot 10^{23} atom$"
      ],
      "text/plain": [
       "2.408856304e+23*atom"
      ]
     },
     "execution_count": 21,
     "metadata": {},
     "output_type": "execute_result"
    }
   ],
   "source": [
    "E7 = .4 * mol * (scp.constants.Avogadro * atom / mol)\n",
    "E7"
   ]
  },
  {
   "cell_type": "code",
   "execution_count": 22,
   "id": "1f9cdaa9-5cf6-4a5e-aee2-adac3697eb32",
   "metadata": {},
   "outputs": [
    {
     "data": {
      "text/latex": [
       "$\\displaystyle 0.250012475672439 mol$"
      ],
      "text/plain": [
       "0.250012475672439*mol"
      ]
     },
     "execution_count": 22,
     "metadata": {},
     "output_type": "execute_result"
    }
   ],
   "source": [
    "# 2.8\n",
    "mol, atom = sp.symbols(\"mol atom\")\n",
    "# Find mo many moles in 10.02g of calcium\n",
    "# Start by finding grams per mole of calcium\n",
    "\n",
    "E1 = 1 / (mm.Formula(\"Ca\").mass * u.gram / mol)\n",
    "# multiply by number of grams of element\n",
    "E2 = 10.02 * u.gram * E1\n",
    "E2"
   ]
  },
  {
   "cell_type": "code",
   "execution_count": 23,
   "id": "71f704eb-19e2-4f51-aec0-2c537ddb5c5a",
   "metadata": {},
   "outputs": [
    {
     "data": {
      "text/latex": [
       "$\\displaystyle 2.99963562727702 mol$"
      ],
      "text/plain": [
       "2.99963562727702*mol"
      ]
     },
     "execution_count": 23,
     "metadata": {},
     "output_type": "execute_result"
    }
   ],
   "source": [
    "# (b)\n",
    "# Find number of moles in 92.91g of Phosophous\n",
    "E1 = 1 / (mm.Formula(\"P\").mass *  u.gram / mol)\n",
    "E2 = 92.91 * u.gram * E1\n",
    "E2"
   ]
  },
  {
   "cell_type": "code",
   "execution_count": 24,
   "id": "49d032cf-eabb-48d3-a269-ee9ddb39bc6a",
   "metadata": {},
   "outputs": [
    {
     "data": {
      "text/latex": [
       "$\\displaystyle 0.749989620295397 mol$"
      ],
      "text/plain": [
       "0.749989620295397*mol"
      ]
     },
     "execution_count": 24,
     "metadata": {},
     "output_type": "execute_result"
    }
   ],
   "source": [
    "# (c)\n",
    "# Find how many moles are P4\n",
    "E3 = 1 / (mm.Formula(\"P4\").mass * u.gram / mol)\n",
    "E4 = 92.92 * u.gram * E3\n",
    "E4"
   ]
  },
  {
   "cell_type": "code",
   "execution_count": 25,
   "id": "7a7c9c29-f692-4e48-a59f-61c97c47684f",
   "metadata": {},
   "outputs": [
    {
     "data": {
      "text/latex": [
       "$\\displaystyle 2.99963562727702 mol$"
      ],
      "text/plain": [
       "2.99963562727702*mol"
      ]
     },
     "execution_count": 25,
     "metadata": {},
     "output_type": "execute_result"
    }
   ],
   "source": [
    "# (d)\n",
    "# Find how many atoms are 92.91 grams of P\n",
    "# First find moles, and then multiply be Avogradro number\n",
    "\n",
    "E1 = 1 / (mm.Formula(\"P\").mass * u.grams / mol)\n",
    "E2 = 92.91 * u.gram * E1\n",
    "E2"
   ]
  },
  {
   "cell_type": "code",
   "execution_count": 26,
   "id": "dc503e6e-6a7f-4ffb-a6c5-e0fd8ab25e41",
   "metadata": {},
   "outputs": [
    {
     "data": {
      "text/latex": [
       "$\\displaystyle 1.80642279761731 \\cdot 10^{24} mol$"
      ],
      "text/plain": [
       "1.80642279761731e+24*mol"
      ]
     },
     "execution_count": 26,
     "metadata": {},
     "output_type": "execute_result"
    }
   ],
   "source": [
    "E3 = E2 * scp.constants.Avogadro\n",
    "E3"
   ]
  },
  {
   "cell_type": "code",
   "execution_count": 27,
   "id": "b23d6a51-ed38-43e5-805b-874dd35b5c9e",
   "metadata": {},
   "outputs": [
    {
     "data": {
      "text/latex": [
       "$\\displaystyle 2.97703585395775 mol$"
      ],
      "text/plain": [
       "2.97703585395775*mol"
      ]
     },
     "execution_count": 27,
     "metadata": {},
     "output_type": "execute_result"
    }
   ],
   "source": [
    "# (e)\n",
    "# Find how many atoms in 92.91g of P\n",
    "# first find moles, and then multiply to get atoms\n",
    "E1 = 1 / (mm.Formula(\"P\").mass * u.gram / mol)\n",
    "E2 = 92.21 * u.gram * E1\n",
    "E2"
   ]
  },
  {
   "cell_type": "code",
   "execution_count": 28,
   "id": "d6bfacf3-b72b-49f2-bb56-3be99425113a",
   "metadata": {},
   "outputs": [
    {
     "data": {
      "text/latex": [
       "$\\displaystyle 1.79281289601004 \\cdot 10^{24} atom$"
      ],
      "text/plain": [
       "1.79281289601004e+24*atom"
      ]
     },
     "execution_count": 28,
     "metadata": {},
     "output_type": "execute_result"
    }
   ],
   "source": [
    "# Now multiply this by \n",
    "E2 * scp.constants.Avogadro * atom / mol"
   ]
  },
  {
   "cell_type": "code",
   "execution_count": 29,
   "id": "a97be5d9-e3b8-4783-84c6-b032dd233557",
   "metadata": {},
   "outputs": [
    {
     "data": {
      "text/latex": [
       "$\\displaystyle 0.144514088419445 mol$"
      ],
      "text/plain": [
       "0.144514088419445*mol"
      ]
     },
     "execution_count": 29,
     "metadata": {},
     "output_type": "execute_result"
    }
   ],
   "source": [
    "# 2.9\n",
    "# How many moles in 6.35g of CO2\n",
    "mol = sp.symbols('mol')\n",
    "E1 = 1 / (mm.Formula(\"CO2\").mass * u.grams / mol)\n",
    "E2 = 6.36 * u.gram * E1\n",
    "E2"
   ]
  },
  {
   "cell_type": "code",
   "execution_count": 30,
   "id": "85087fc1-575f-4d7c-a6f6-c73d690463e4",
   "metadata": {},
   "outputs": [
    {
     "data": {
      "text/latex": [
       "$\\displaystyle 0.151620281567684 mol$"
      ],
      "text/plain": [
       "0.151620281567684*mol"
      ]
     },
     "execution_count": 30,
     "metadata": {},
     "output_type": "execute_result"
    }
   ],
   "source": [
    "# (b)\n",
    "# How many moles in 9.11g of SiO2\n",
    "E1 = 1 / (mm.Formula(\"SiO2\").mass * u.gram / mol)\n",
    "E2 = 9.11 * u.grams * E1\n",
    "E2"
   ]
  },
  {
   "cell_type": "code",
   "execution_count": 31,
   "id": "42862826-189d-43d2-81c5-b9ffcee03dd4",
   "metadata": {},
   "outputs": [
    {
     "data": {
      "text/latex": [
       "$\\displaystyle 0.0915363403293343 mol$"
      ],
      "text/plain": [
       "0.0915363403293343*mol"
      ]
     },
     "execution_count": 31,
     "metadata": {},
     "output_type": "execute_result"
    }
   ],
   "source": [
    "# (c)\n",
    "E1 = 1 / (mm.Formula(\"Ca(NO3)2\").mass * u.grams / mol )\n",
    "E2 = 15.02 * u.grams * E1\n",
    "E2"
   ]
  },
  {
   "cell_type": "markdown",
   "id": "823da59d-d9ab-4eb6-b43b-6f4e495cb888",
   "metadata": {},
   "source": [
    "<b>Note</b> the law of multiple proportions which states: \n",
    "\n",
    "<i>Relative amounts of an element combining with another element in series of compound are alway in ratios of small whole numbers </i>"
   ]
  },
  {
   "cell_type": "code",
   "execution_count": 32,
   "id": "dd5ad9ab-c9e0-4499-b90e-33dcee5cc1db",
   "metadata": {},
   "outputs": [
    {
     "data": {
      "text/latex": [
       "$\\displaystyle \\frac{39.948 \\text{g}}{mol}$"
      ],
      "text/plain": [
       "39.948*gram/mol"
      ]
     },
     "execution_count": 32,
     "metadata": {},
     "output_type": "execute_result"
    }
   ],
   "source": [
    "# 2.11\n",
    "# Find the atomic mass of Argon\n",
    "mol = sp.symbols('mol')\n",
    "mm.Formula(\"Ar\").mass * u.gram / mol"
   ]
  },
  {
   "cell_type": "code",
   "execution_count": 33,
   "id": "51d19274-950d-420f-bcf8-2ba13814a179",
   "metadata": {},
   "outputs": [
    {
     "data": {
      "text/html": [
       "<div>\n",
       "<style scoped>\n",
       "    .dataframe tbody tr th:only-of-type {\n",
       "        vertical-align: middle;\n",
       "    }\n",
       "\n",
       "    .dataframe tbody tr th {\n",
       "        vertical-align: top;\n",
       "    }\n",
       "\n",
       "    .dataframe thead th {\n",
       "        text-align: right;\n",
       "    }\n",
       "</style>\n",
       "<table border=\"1\" class=\"dataframe\">\n",
       "  <thead>\n",
       "    <tr style=\"text-align: right;\">\n",
       "      <th></th>\n",
       "      <th>Relative mass</th>\n",
       "      <th>Fraction</th>\n",
       "      <th>Intensity %</th>\n",
       "      <th>m/z</th>\n",
       "    </tr>\n",
       "    <tr>\n",
       "      <th>Mass number</th>\n",
       "      <th></th>\n",
       "      <th></th>\n",
       "      <th></th>\n",
       "      <th></th>\n",
       "    </tr>\n",
       "  </thead>\n",
       "  <tbody>\n",
       "    <tr>\n",
       "      <th>10</th>\n",
       "      <td>10.012937</td>\n",
       "      <td>0.199</td>\n",
       "      <td>24.843945</td>\n",
       "      <td>10.012937</td>\n",
       "    </tr>\n",
       "    <tr>\n",
       "      <th>11</th>\n",
       "      <td>11.009305</td>\n",
       "      <td>0.801</td>\n",
       "      <td>100.000000</td>\n",
       "      <td>11.009305</td>\n",
       "    </tr>\n",
       "  </tbody>\n",
       "</table>\n",
       "</div>"
      ],
      "text/plain": [
       "             Relative mass  Fraction  Intensity %        m/z\n",
       "Mass number                                                 \n",
       "10               10.012937     0.199    24.843945  10.012937\n",
       "11               11.009305     0.801   100.000000  11.009305"
      ]
     },
     "execution_count": 33,
     "metadata": {},
     "output_type": "execute_result"
    }
   ],
   "source": [
    "# 2.12\n",
    "# Find the spectrum of Boron isotopes\n",
    "E1 = mm.Formula(\"B\")\n",
    "E1.spectrum().dataframe()"
   ]
  },
  {
   "cell_type": "code",
   "execution_count": 34,
   "id": "58f3539d-dcc4-4186-97d6-3a1e44faa210",
   "metadata": {},
   "outputs": [
    {
     "data": {
      "text/html": [
       "<div>\n",
       "<style scoped>\n",
       "    .dataframe tbody tr th:only-of-type {\n",
       "        vertical-align: middle;\n",
       "    }\n",
       "\n",
       "    .dataframe tbody tr th {\n",
       "        vertical-align: top;\n",
       "    }\n",
       "\n",
       "    .dataframe thead th {\n",
       "        text-align: right;\n",
       "    }\n",
       "</style>\n",
       "<table border=\"1\" class=\"dataframe\">\n",
       "  <thead>\n",
       "    <tr style=\"text-align: right;\">\n",
       "      <th></th>\n",
       "      <th>Relative mass</th>\n",
       "      <th>Fraction</th>\n",
       "      <th>Intensity %</th>\n",
       "      <th>m/z</th>\n",
       "    </tr>\n",
       "    <tr>\n",
       "      <th>Mass number</th>\n",
       "      <th></th>\n",
       "      <th></th>\n",
       "      <th></th>\n",
       "      <th></th>\n",
       "    </tr>\n",
       "  </thead>\n",
       "  <tbody>\n",
       "    <tr>\n",
       "      <th>35</th>\n",
       "      <td>34.968853</td>\n",
       "      <td>0.7576</td>\n",
       "      <td>100.000000</td>\n",
       "      <td>34.968853</td>\n",
       "    </tr>\n",
       "    <tr>\n",
       "      <th>37</th>\n",
       "      <td>36.965903</td>\n",
       "      <td>0.2424</td>\n",
       "      <td>31.995776</td>\n",
       "      <td>36.965903</td>\n",
       "    </tr>\n",
       "  </tbody>\n",
       "</table>\n",
       "</div>"
      ],
      "text/plain": [
       "             Relative mass  Fraction  Intensity %        m/z\n",
       "Mass number                                                 \n",
       "35               34.968853    0.7576   100.000000  34.968853\n",
       "37               36.965903    0.2424    31.995776  36.965903"
      ]
     },
     "execution_count": 34,
     "metadata": {},
     "output_type": "execute_result"
    }
   ],
   "source": [
    "# 2.13\n",
    "# Find the isotypes of Clhorine\n",
    "E1 = mm.Formula(\"Cl\")\n",
    "E1.spectrum().dataframe()"
   ]
  },
  {
   "cell_type": "code",
   "execution_count": 35,
   "id": "eb639fb0-339a-479c-b149-fe78ac2c12c0",
   "metadata": {},
   "outputs": [
    {
     "data": {
      "text/plain": [
       "69.723"
      ]
     },
     "execution_count": 35,
     "metadata": {},
     "output_type": "execute_result"
    }
   ],
   "source": [
    "# 2.14\n",
    "# Find the (average) atomic mass of Gallium\n",
    "mm.Formula(\"Ga\").mass"
   ]
  },
  {
   "cell_type": "code",
   "execution_count": 36,
   "id": "a6af3389-df00-4aed-95ab-3792ded7c88e",
   "metadata": {},
   "outputs": [
    {
     "data": {
      "text/html": [
       "<div>\n",
       "<style scoped>\n",
       "    .dataframe tbody tr th:only-of-type {\n",
       "        vertical-align: middle;\n",
       "    }\n",
       "\n",
       "    .dataframe tbody tr th {\n",
       "        vertical-align: top;\n",
       "    }\n",
       "\n",
       "    .dataframe thead th {\n",
       "        text-align: right;\n",
       "    }\n",
       "</style>\n",
       "<table border=\"1\" class=\"dataframe\">\n",
       "  <thead>\n",
       "    <tr style=\"text-align: right;\">\n",
       "      <th></th>\n",
       "      <th>Relative mass</th>\n",
       "      <th>Fraction</th>\n",
       "      <th>Intensity %</th>\n",
       "      <th>m/z</th>\n",
       "    </tr>\n",
       "    <tr>\n",
       "      <th>Mass number</th>\n",
       "      <th></th>\n",
       "      <th></th>\n",
       "      <th></th>\n",
       "      <th></th>\n",
       "    </tr>\n",
       "  </thead>\n",
       "  <tbody>\n",
       "    <tr>\n",
       "      <th>14</th>\n",
       "      <td>14.003074</td>\n",
       "      <td>0.99636</td>\n",
       "      <td>100.00000</td>\n",
       "      <td>14.003074</td>\n",
       "    </tr>\n",
       "    <tr>\n",
       "      <th>15</th>\n",
       "      <td>15.000109</td>\n",
       "      <td>0.00364</td>\n",
       "      <td>0.36533</td>\n",
       "      <td>15.000109</td>\n",
       "    </tr>\n",
       "  </tbody>\n",
       "</table>\n",
       "</div>"
      ],
      "text/plain": [
       "             Relative mass  Fraction  Intensity %        m/z\n",
       "Mass number                                                 \n",
       "14               14.003074   0.99636    100.00000  14.003074\n",
       "15               15.000109   0.00364      0.36533  15.000109"
      ]
     },
     "execution_count": 36,
     "metadata": {},
     "output_type": "execute_result"
    }
   ],
   "source": [
    "# 2.15\n",
    "# find the spectrum of Nitrogen\n",
    "E1 = mm.Formula(\"N\")\n",
    "E1.spectrum().dataframe()"
   ]
  },
  {
   "cell_type": "code",
   "execution_count": 37,
   "id": "a8663248-48df-4241-af6b-e23564ddfb03",
   "metadata": {},
   "outputs": [
    {
     "data": {
      "text/latex": [
       "$\\displaystyle 0.0166671837846833 mol$"
      ],
      "text/plain": [
       "0.0166671837846833*mol"
      ]
     },
     "execution_count": 37,
     "metadata": {},
     "output_type": "execute_result"
    }
   ],
   "source": [
    "# 2.4\n",
    "# Consider a 1.5726g sample of CdCl2\n",
    "# Note that Cadmium is .9367g\n",
    "# Therefor Cl is .5909g\n",
    "E1 = .5909 * u.gram\n",
    "# Find the amount of moles in Cl component\n",
    "\n",
    "E2 = 1 / (mm.Formula(\"Cl\").mass * u.gram / mol)\n",
    "E3 = E1 * E2\n",
    "E3\n"
   ]
  },
  {
   "cell_type": "code",
   "execution_count": 38,
   "id": "ea33fd26-416b-49fd-9ec1-566054279acf",
   "metadata": {},
   "outputs": [
    {
     "data": {
      "text/latex": [
       "$\\displaystyle 0.00833359189234167 mol$"
      ],
      "text/plain": [
       "0.00833359189234167*mol"
      ]
     },
     "execution_count": 38,
     "metadata": {},
     "output_type": "execute_result"
    }
   ],
   "source": [
    "# number of moles in Cad is half\n",
    "E4 = E3 / 2\n",
    "E4"
   ]
  },
  {
   "cell_type": "code",
   "execution_count": 39,
   "id": "5b904142-2cef-46ad-9448-a827ffa01c58",
   "metadata": {},
   "outputs": [
    {
     "data": {
      "text/latex": [
       "$\\displaystyle \\frac{112.400512540193 \\text{g}}{mol}$"
      ],
      "text/plain": [
       "112.400512540193*gram/mol"
      ]
     },
     "execution_count": 39,
     "metadata": {},
     "output_type": "execute_result"
    }
   ],
   "source": [
    "# Cadmium is charactersised by having \n",
    ".9367 * u.gram / E4 "
   ]
  },
  {
   "cell_type": "code",
   "execution_count": 40,
   "id": "f671f914-e691-483d-a388-56d48c343dde",
   "metadata": {},
   "outputs": [
    {
     "data": {
      "text/latex": [
       "$\\displaystyle 1.717 \\text{g}$"
      ],
      "text/plain": [
       "1.717*gram"
      ]
     },
     "execution_count": 40,
     "metadata": {},
     "output_type": "execute_result"
    }
   ],
   "source": [
    "# Consider a 3.7692g sample of SnCl4\n",
    "# The Sn component was found to be \n",
    "E1 = 1.7170 * u.gram\n",
    "E1"
   ]
  },
  {
   "cell_type": "code",
   "execution_count": 41,
   "id": "e46f290e-3fa2-489d-928a-ea0df0c617d2",
   "metadata": {},
   "outputs": [
    {
     "data": {
      "text/latex": [
       "$\\displaystyle 2.0522 \\text{g}$"
      ],
      "text/plain": [
       "2.0522*gram"
      ]
     },
     "execution_count": 41,
     "metadata": {},
     "output_type": "execute_result"
    }
   ],
   "source": [
    "# There fore the Cl component must equate to: \n",
    "E2 = 3.7692 * u.gram - E1\n",
    "E2"
   ]
  },
  {
   "cell_type": "code",
   "execution_count": 42,
   "id": "3ab1697b-e55e-4374-8626-4410dd54a261",
   "metadata": {},
   "outputs": [],
   "source": [
    "# Find how mols in the Cl component\n",
    "E3 = 1 / (mm.Formula(\"Cl\").mass * u.gram / mol)\n",
    "# So the Cl4 compone thas this many moles\n",
    "E4 = E2 * E3"
   ]
  },
  {
   "cell_type": "code",
   "execution_count": 43,
   "id": "17c6fd52-3c54-48a7-8684-ad3b9094043a",
   "metadata": {},
   "outputs": [
    {
     "data": {
      "text/latex": [
       "$\\displaystyle 0.0144713126429714 mol$"
      ],
      "text/plain": [
       "0.0144713126429714*mol"
      ]
     },
     "execution_count": 43,
     "metadata": {},
     "output_type": "execute_result"
    }
   ],
   "source": [
    "# The Zn component must have a quarter of these\n",
    "E5 = E4 / 4\n",
    "E5"
   ]
  },
  {
   "cell_type": "code",
   "execution_count": 44,
   "id": "9fb51f7a-d16e-4485-ab49-f0dc8f38b2b7",
   "metadata": {},
   "outputs": [
    {
     "data": {
      "text/latex": [
       "$\\displaystyle \\frac{118.648531916967 \\text{g}}{mol}$"
      ],
      "text/plain": [
       "118.648531916967*gram/mol"
      ]
     },
     "execution_count": 44,
     "metadata": {},
     "output_type": "execute_result"
    }
   ],
   "source": [
    "# We now have grams and moles of Zn, so can ascertain its moledular weight\n",
    "E1 / E5"
   ]
  },
  {
   "cell_type": "code",
   "execution_count": 45,
   "id": "75e6ed77-27c3-4b3d-99a7-212157c08b6f",
   "metadata": {},
   "outputs": [
    {
     "data": {
      "text/plain": [
       "23.947346"
      ]
     },
     "execution_count": 45,
     "metadata": {},
     "output_type": "execute_result"
    }
   ],
   "source": [
    "# 2.19\n",
    "# !!\n",
    "# 2.20 \n",
    "# !!\n",
    "# 2.11\n",
    "# (a)\n",
    "# atomic mass of LiOH\n",
    "mm.Formula(\"LiOH\").mass"
   ]
  },
  {
   "cell_type": "code",
   "execution_count": 46,
   "id": "0d151785-8bd8-4099-aac6-166b89357ef4",
   "metadata": {},
   "outputs": [
    {
     "data": {
      "text/plain": [
       "98.07830200000001"
      ]
     },
     "execution_count": 46,
     "metadata": {},
     "output_type": "execute_result"
    }
   ],
   "source": [
    "# (b)\n",
    "# atomic mass of H2SO4\n",
    "mm.Formula(\"H2SO4\").mass"
   ]
  },
  {
   "cell_type": "code",
   "execution_count": 47,
   "id": "81e3464e-254b-48c5-9e2c-9b8ade12cadf",
   "metadata": {},
   "outputs": [
    {
     "data": {
      "text/plain": [
       "31.99881"
      ]
     },
     "execution_count": 47,
     "metadata": {},
     "output_type": "execute_result"
    }
   ],
   "source": [
    "# (c)\n",
    "# atomic mass of H2SO4\n",
    "mm.Formula(\"O2\").mass"
   ]
  },
  {
   "cell_type": "code",
   "execution_count": 48,
   "id": "44f6e0cd-1ef2-42cc-bb14-765bedbd3268",
   "metadata": {},
   "outputs": [
    {
     "data": {
      "text/plain": [
       "256.5184"
      ]
     },
     "execution_count": 48,
     "metadata": {},
     "output_type": "execute_result"
    }
   ],
   "source": [
    "# (d)\n",
    "# Atomic mass of S8\n",
    "mm.Formula(\"S8\").mass"
   ]
  },
  {
   "cell_type": "code",
   "execution_count": 49,
   "id": "208a973e-27e8-4f90-ac4f-3af267d12691",
   "metadata": {},
   "outputs": [
    {
     "data": {
      "text/plain": [
       "310.176763996"
      ]
     },
     "execution_count": 49,
     "metadata": {},
     "output_type": "execute_result"
    }
   ],
   "source": [
    "# (e)\n",
    "# Atomic mass of Ca3(PO4)2\n",
    "mm.Formula(\"Ca3(PO4)2\").mass"
   ]
  },
  {
   "cell_type": "code",
   "execution_count": 50,
   "id": "23a939f7-db75-4ee3-9757-ee87aa876a57",
   "metadata": {},
   "outputs": [
    {
     "data": {
      "text/plain": [
       "859.228974"
      ]
     },
     "execution_count": 50,
     "metadata": {},
     "output_type": "execute_result"
    }
   ],
   "source": [
    "# (f)\n",
    "# Atomic mass of Fe4[Fe(NC)6]3\n",
    "mm.Formula(\"Fe4[Fe(NC)6]3\").mass"
   ]
  },
  {
   "cell_type": "code",
   "execution_count": 51,
   "id": "5df11577-0b31-47f1-9a2b-fe9820fceafc",
   "metadata": {},
   "outputs": [
    {
     "data": {
      "text/latex": [
       "$\\displaystyle \\frac{16.042504 \\text{g}}{mol}$"
      ],
      "text/plain": [
       "16.042504*gram/mol"
      ]
     },
     "execution_count": 51,
     "metadata": {},
     "output_type": "execute_result"
    }
   ],
   "source": [
    "# 2.23\n",
    "# number of grams in one mole CH4\n",
    "# There are 2 components with a total of \n",
    "mm.Formula(\"CH4\").mass * u.gram / mol"
   ]
  },
  {
   "cell_type": "code",
   "execution_count": 52,
   "id": "8f2c5d22-be41-40a4-b863-6020a2869898",
   "metadata": {},
   "outputs": [
    {
     "data": {
      "text/latex": [
       "$\\displaystyle \\frac{12.01074 \\text{g}}{mol}$"
      ],
      "text/plain": [
       "12.01074*gram/mol"
      ]
     },
     "execution_count": 52,
     "metadata": {},
     "output_type": "execute_result"
    }
   ],
   "source": [
    "# Consistuents elements are: \n",
    "E1 = mm.Formula(\"C\").mass * u.grams / mol\n",
    "E1"
   ]
  },
  {
   "cell_type": "code",
   "execution_count": 53,
   "id": "d3d11bba-be70-426b-a8e0-1c7da1b3aab7",
   "metadata": {},
   "outputs": [
    {
     "data": {
      "text/latex": [
       "$\\displaystyle \\frac{4.031764 \\text{g}}{mol}$"
      ],
      "text/plain": [
       "4.031764*gram/mol"
      ]
     },
     "execution_count": 53,
     "metadata": {},
     "output_type": "execute_result"
    }
   ],
   "source": [
    "E2 = mm.Formula(\"H4\").mass * u.grams / mol\n",
    "E2"
   ]
  },
  {
   "cell_type": "code",
   "execution_count": 54,
   "id": "28f65dae-c3f2-46c9-8dc0-e2615aec2004",
   "metadata": {},
   "outputs": [
    {
     "data": {
      "text/plain": [
       "6.02214076e+23"
      ]
     },
     "execution_count": 54,
     "metadata": {},
     "output_type": "execute_result"
    }
   ],
   "source": [
    "# now convert each to atoms. First C\n",
    "# There is 1 mole so: \n",
    "scp.constants.Avogadro * 1"
   ]
  },
  {
   "cell_type": "code",
   "execution_count": 55,
   "id": "3d59728f-3585-4bd3-9777-b18edf5ab654",
   "metadata": {},
   "outputs": [
    {
     "data": {
      "text/plain": [
       "2.408856304e+24"
      ]
     },
     "execution_count": 55,
     "metadata": {},
     "output_type": "execute_result"
    }
   ],
   "source": [
    "# There are 4 moles of H. So:\n",
    "scp.constants.Avogadro * 4"
   ]
  },
  {
   "cell_type": "code",
   "execution_count": 56,
   "id": "70f2c14f-f0af-4012-9baf-981d500219fe",
   "metadata": {},
   "outputs": [
    {
     "data": {
      "text/plain": [
       "159.688215"
      ]
     },
     "execution_count": 56,
     "metadata": {},
     "output_type": "execute_result"
    }
   ],
   "source": [
    "# (b)\n",
    "E1 = mm.Formula(\"Fe2O3\").mass\n",
    "E1"
   ]
  },
  {
   "cell_type": "code",
   "execution_count": 57,
   "id": "4edc0af8-a511-4293-b9de-1ab67c706738",
   "metadata": {},
   "outputs": [
    {
     "data": {
      "text/latex": [
       "$\\displaystyle \\frac{111.69 \\text{g}}{mol}$"
      ],
      "text/plain": [
       "111.69*gram/mol"
      ]
     },
     "execution_count": 57,
     "metadata": {},
     "output_type": "execute_result"
    }
   ],
   "source": [
    "# consituent mass\n",
    "E2 = mm.Formula(\"Fe2\").mass * u.grams / mol\n",
    "E2"
   ]
  },
  {
   "cell_type": "code",
   "execution_count": 58,
   "id": "0809eaa1-4f18-4738-a147-1a85aafee482",
   "metadata": {},
   "outputs": [
    {
     "data": {
      "text/latex": [
       "$\\displaystyle \\frac{47.998215 \\text{g}}{mol}$"
      ],
      "text/plain": [
       "47.998215*gram/mol"
      ]
     },
     "execution_count": 58,
     "metadata": {},
     "output_type": "execute_result"
    }
   ],
   "source": [
    "E3 = mm.Formula(\"O3\").mass * u.grams / mol\n",
    "E3"
   ]
  },
  {
   "cell_type": "code",
   "execution_count": 59,
   "id": "64ec5a80-2801-49e9-ab23-ed46934f033a",
   "metadata": {},
   "outputs": [
    {
     "data": {
      "text/plain": [
       "1.204428152e+24"
      ]
     },
     "execution_count": 59,
     "metadata": {},
     "output_type": "execute_result"
    }
   ],
   "source": [
    "# Now find atoms\n",
    "# There are 2 moes of Fe so: \n",
    "2 * scp.constants.Avogadro"
   ]
  },
  {
   "cell_type": "code",
   "execution_count": 60,
   "id": "96da9a8a-a203-4b5a-b19a-6a6836ce0b01",
   "metadata": {},
   "outputs": [
    {
     "data": {
      "text/plain": [
       "1.806642228e+24"
      ]
     },
     "execution_count": 60,
     "metadata": {},
     "output_type": "execute_result"
    }
   ],
   "source": [
    "# There are 3 moles of O\n",
    "3 * scp.constants.Avogadro"
   ]
  },
  {
   "cell_type": "code",
   "execution_count": 61,
   "id": "96b06277-4672-4b30-80f8-fd9c414924e5",
   "metadata": {},
   "outputs": [
    {
     "data": {
      "text/plain": [
       "182.181523996"
      ]
     },
     "execution_count": 61,
     "metadata": {},
     "output_type": "execute_result"
    }
   ],
   "source": [
    "# (c)\n",
    "# Find mass of Ca3P2\n",
    "mm.Formula(\"Ca3P2\").mass"
   ]
  },
  {
   "cell_type": "code",
   "execution_count": 62,
   "id": "a9bc75d3-e8b6-4659-865a-8dc215a06ebc",
   "metadata": {},
   "outputs": [
    {
     "data": {
      "text/plain": [
       "120.23400000000001"
      ]
     },
     "execution_count": 62,
     "metadata": {},
     "output_type": "execute_result"
    }
   ],
   "source": [
    "# Mass of Ca\n",
    "mm.Formula(\"Ca3\").mass"
   ]
  },
  {
   "cell_type": "code",
   "execution_count": 63,
   "id": "f06de281-28b0-49ed-89af-7c0310fc64d5",
   "metadata": {},
   "outputs": [
    {
     "data": {
      "text/plain": [
       "61.947523996"
      ]
     },
     "execution_count": 63,
     "metadata": {},
     "output_type": "execute_result"
    }
   ],
   "source": [
    "# Mass of P\n",
    "mm.Formula(\"P2\").mass"
   ]
  },
  {
   "cell_type": "code",
   "execution_count": 64,
   "id": "a234c5e6-0dfb-472b-a887-f031bb0ee9db",
   "metadata": {},
   "outputs": [
    {
     "data": {
      "text/plain": [
       "1.806642228e+24"
      ]
     },
     "execution_count": 64,
     "metadata": {},
     "output_type": "execute_result"
    }
   ],
   "source": [
    "# Note there are 3 atoms of Ca each with 1 mole of mass\n",
    "3 * scp.constants.Avogadro"
   ]
  },
  {
   "cell_type": "code",
   "execution_count": 65,
   "id": "64cf7335-0871-4e09-8822-8e6a5d2ae142",
   "metadata": {},
   "outputs": [
    {
     "data": {
      "text/plain": [
       "1.204428152e+24"
      ]
     },
     "execution_count": 65,
     "metadata": {},
     "output_type": "execute_result"
    }
   ],
   "source": [
    "# Note there are 2 atoms of Ca, each with 1 mole of mass\n",
    "2 * scp.constants.Avogadro"
   ]
  },
  {
   "cell_type": "code",
   "execution_count": 66,
   "id": "fbe6fc70-0fdd-463a-81cb-18663f765cf1",
   "metadata": {},
   "outputs": [
    {
     "data": {
      "text/latex": [
       "$\\displaystyle 35.38020486 \\text{g}$"
      ],
      "text/plain": [
       "35.38020486*gram"
      ]
     },
     "execution_count": 66,
     "metadata": {},
     "output_type": "execute_result"
    }
   ],
   "source": [
    "# 2.24\n",
    "# weight of a\n",
    "gr, mol = sp.symbols(\"gr, mol\")\n",
    "# amount in 156 grains\n",
    "E1 = (156 / 2000) * u.pound\n",
    "# convert to grams\n",
    "E2 = u.convert_to(E1, u.gram)\n",
    "E2"
   ]
  },
  {
   "cell_type": "code",
   "execution_count": 67,
   "id": "3bbc198e-3279-44d7-9248-5d7acb158e14",
   "metadata": {},
   "outputs": [
    {
     "data": {
      "text/latex": [
       "$\\displaystyle \\frac{207.2 \\text{g}}{mol}$"
      ],
      "text/plain": [
       "207.2*gram/mol"
      ]
     },
     "execution_count": 67,
     "metadata": {},
     "output_type": "execute_result"
    }
   ],
   "source": [
    "# How many moles needed\n",
    "E3 = mm.Formula(\"Pb\").mass * u.gram / mol\n",
    "E3"
   ]
  },
  {
   "cell_type": "code",
   "execution_count": 68,
   "id": "9eb90c94-b2b8-481d-8a63-898d971fa8d7",
   "metadata": {},
   "outputs": [
    {
     "data": {
      "text/latex": [
       "$\\displaystyle 0.170753884459459 mol$"
      ],
      "text/plain": [
       "0.170753884459459*mol"
      ]
     },
     "execution_count": 68,
     "metadata": {},
     "output_type": "execute_result"
    }
   ],
   "source": [
    "# Number of moles needed will be \n",
    "E4 = E2 / E3\n",
    "E4"
   ]
  },
  {
   "cell_type": "code",
   "execution_count": 69,
   "id": "48ef4200-a032-466c-9ac3-13779dc49990",
   "metadata": {},
   "outputs": [
    {
     "data": {
      "text/latex": [
       "$\\displaystyle 1.02830392753164 \\cdot 10^{23} mol$"
      ],
      "text/plain": [
       "1.02830392753164e+23*mol"
      ]
     },
     "execution_count": 69,
     "metadata": {},
     "output_type": "execute_result"
    }
   ],
   "source": [
    "# Number of atoms will be: \n",
    "E4 * scp.constants.Avogadro"
   ]
  },
  {
   "cell_type": "code",
   "execution_count": 70,
   "id": "6960273e-3410-4401-afb2-57f91dfbe4b0",
   "metadata": {},
   "outputs": [
    {
     "data": {
      "text/latex": [
       "$\\displaystyle \\frac{44.00955 \\text{g}}{mol}$"
      ],
      "text/plain": [
       "44.00955*gram/mol"
      ]
     },
     "execution_count": 70,
     "metadata": {},
     "output_type": "execute_result"
    }
   ],
   "source": [
    "# 2.25\n",
    "# How many moles 8g of CO2\n",
    "E1 = mm.Formula(\"CO2\").mass * u.gram / mol\n",
    "E1"
   ]
  },
  {
   "cell_type": "code",
   "execution_count": 72,
   "id": "009dd7b1-0d9e-4a3f-9e43-515238dfe15a",
   "metadata": {},
   "outputs": [],
   "source": [
    "# Yeild will ony be \n",
    "E2 = 8 * u.gram / E1"
   ]
  },
  {
   "cell_type": "code",
   "execution_count": 74,
   "id": "74f5aa15-899e-4bf7-81f1-29e4cf715aa4",
   "metadata": {},
   "outputs": [
    {
     "data": {
      "text/latex": [
       "$\\displaystyle 1.09469708461004 \\cdot 10^{23} mol$"
      ],
      "text/plain": [
       "1.09469708461004e+23*mol"
      ]
     },
     "execution_count": 74,
     "metadata": {},
     "output_type": "execute_result"
    }
   ],
   "source": [
    "scp.constants.Avogadro * E2"
   ]
  },
  {
   "cell_type": "code",
   "execution_count": 77,
   "id": "1fc9263d-21a5-40de-8bfb-46554f5cdacb",
   "metadata": {},
   "outputs": [
    {
     "data": {
      "text/latex": [
       "$\\displaystyle \\frac{100.086955 \\text{g}}{mol}$"
      ],
      "text/plain": [
       "100.086955*gram/mol"
      ]
     },
     "execution_count": 77,
     "metadata": {},
     "output_type": "execute_result"
    }
   ],
   "source": [
    "# 2.26x\n",
    "# Grams in a mole of \n",
    "mol = sp.symbols(\"mol\")\n",
    "mm.Formula(\"CaCO3\").mass * u.grams / mol"
   ]
  },
  {
   "cell_type": "code",
   "execution_count": 78,
   "id": "2b1f1576-af9a-43d3-aba2-5535519abb72",
   "metadata": {},
   "outputs": [
    {
     "data": {
      "text/latex": [
       "$\\displaystyle \\frac{60.08431 \\text{g}}{mol}$"
      ],
      "text/plain": [
       "60.08431*gram/mol"
      ]
     },
     "execution_count": 78,
     "metadata": {},
     "output_type": "execute_result"
    }
   ],
   "source": [
    "# (b)\n",
    "mm.Formula(\"SiO2\").mass * u.grams / mol"
   ]
  },
  {
   "cell_type": "code",
   "execution_count": 79,
   "id": "73b2f90f-a159-4e53-a467-9e6efc3591a7",
   "metadata": {},
   "outputs": [
    {
     "data": {
      "text/latex": [
       "$\\displaystyle \\frac{342.297037 \\text{g}}{mol}$"
      ],
      "text/plain": [
       "342.297037*gram/mol"
      ]
     },
     "execution_count": 79,
     "metadata": {},
     "output_type": "execute_result"
    }
   ],
   "source": [
    "# (c)\n",
    "mm.Formula(\"C12H22O11\").mass * u.grams / mol"
   ]
  },
  {
   "cell_type": "code",
   "execution_count": 84,
   "id": "4dac5401-fd86-4961-84b1-f3a99bfeeedc",
   "metadata": {},
   "outputs": [
    {
     "data": {
      "text/plain": [
       "172.170994"
      ]
     },
     "execution_count": 84,
     "metadata": {},
     "output_type": "execute_result"
    }
   ],
   "source": [
    "# (d)\n",
    "mm.Formula(\"CaSO4\").mass  + mm.Formula(\"H2O\").mass * 2"
   ]
  },
  {
   "cell_type": "code",
   "execution_count": 87,
   "id": "ab1d48d4-eea3-4f97-96c1-ede6466c6f6f",
   "metadata": {},
   "outputs": [
    {
     "data": {
      "text/latex": [
       "$\\displaystyle \\frac{775.632602 \\text{g}}{mol}$"
      ],
      "text/plain": [
       "775.632602*gram/mol"
      ]
     },
     "execution_count": 87,
     "metadata": {},
     "output_type": "execute_result"
    }
   ],
   "source": [
    "# (e)\n",
    "E1 = mm.Formula(\"Pb(OH)2\").mass * u.grams / mol\n",
    "E2 = 2 * mm.Formula(\"PbCO3\").mass * u.grams / mol\n",
    "E3 = E1 + E2\n",
    "E3"
   ]
  },
  {
   "cell_type": "code",
   "execution_count": 91,
   "id": "648d7dc1-58bb-4c07-bc9d-1af0019ead10",
   "metadata": {},
   "outputs": [
    {
     "data": {
      "text/latex": [
       "$\\displaystyle 6.64647699134817 \\cdot 10^{-27} \\text{kg}$"
      ],
      "text/plain": [
       "6.64647699134817e-27*kilogram"
      ]
     },
     "execution_count": 91,
     "metadata": {},
     "output_type": "execute_result"
    }
   ],
   "source": [
    "# 2.27\n",
    "E1 = mm.Formula(\"He\").mass * u.grams / scp.constants.Avogadro\n",
    "# now convert to kg\n",
    "E2 = u.convert_to(E1, u.kilogram)\n",
    "E2"
   ]
  },
  {
   "cell_type": "code",
   "execution_count": 94,
   "id": "8e9199c0-520f-4619-9090-11b8f96a2c1b",
   "metadata": {},
   "outputs": [
    {
     "data": {
      "text/latex": [
       "$\\displaystyle 3.15475906660807 \\cdot 10^{-26} \\text{kg}$"
      ],
      "text/plain": [
       "3.15475906660807e-26*kilogram"
      ]
     },
     "execution_count": 94,
     "metadata": {},
     "output_type": "execute_result"
    }
   ],
   "source": [
    "# (b)\n",
    "E1 = mm.Formula(\"F\").mass * u.grams / scp.constants.Avogadro\n",
    "# Now conedrt to kg\n",
    "E2 = u.convert_to(E1, u.kilogram)\n",
    "E2"
   ]
  },
  {
   "cell_type": "code",
   "execution_count": 95,
   "id": "e32ea243-d157-43f0-8050-bb1847a2781a",
   "metadata": {},
   "outputs": [
    {
     "data": {
      "text/latex": [
       "$\\displaystyle 3.93627796903239 \\cdot 10^{-25} \\text{kg}$"
      ],
      "text/plain": [
       "3.93627796903239e-25*kilogram"
      ]
     },
     "execution_count": 95,
     "metadata": {},
     "output_type": "execute_result"
    }
   ],
   "source": [
    "# (c)\n",
    "E1 = mm.Formula(\"Np\").mass * u.grams / scp.constants.Avogadro\n",
    "E2 = u.convert_to(E1, u.kilogram)\n",
    "E2\n"
   ]
  },
  {
   "cell_type": "code",
   "execution_count": 99,
   "id": "0d3eebdf-203e-49d5-9dae-5859c2e79ec6",
   "metadata": {},
   "outputs": [
    {
     "data": {
      "text/latex": [
       "$\\displaystyle 5.32068416813293 \\cdot 10^{-26} \\text{kg}$"
      ],
      "text/plain": [
       "5.32068416813293e-26*kilogram"
      ]
     },
     "execution_count": 99,
     "metadata": {},
     "output_type": "execute_result"
    }
   ],
   "source": [
    "# 2.28\n",
    "E1 = mm.Formula(\"CH3OH\").mass * u.grams / scp.constants.Avogadro\n",
    "E2 = u.convert_to(E1, u.kilogram)\n",
    "E2"
   ]
  },
  {
   "cell_type": "code",
   "execution_count": 101,
   "id": "ee925ac0-dedb-46b0-acd7-0de8ca9233bd",
   "metadata": {},
   "outputs": [
    {
     "data": {
      "text/latex": [
       "$\\displaystyle 1.40085267950462 \\cdot 10^{-24} \\text{kg}$"
      ],
      "text/plain": [
       "1.40085267950462e-24*kilogram"
      ]
     },
     "execution_count": 101,
     "metadata": {},
     "output_type": "execute_result"
    }
   ],
   "source": [
    "# (b)\n",
    "E1 = mm.Formula(\"C60H122\").mass * u.grams / scp.constants.Avogadro\n",
    "# convert to kg\n",
    "E2 = u.convert_to(E1, u.kilogram)\n",
    "E2"
   ]
  },
  {
   "cell_type": "code",
   "execution_count": 102,
   "id": "8a503c6a-029a-4616-ae29-8dbe68b67bc2",
   "metadata": {},
   "outputs": [
    {
     "data": {
      "text/latex": [
       "$\\displaystyle 5.38482514646503 \\cdot 10^{-23} \\text{kg}$"
      ],
      "text/plain": [
       "5.38482514646503e-23*kilogram"
      ]
     },
     "execution_count": 102,
     "metadata": {},
     "output_type": "execute_result"
    }
   ],
   "source": [
    "# (c)\n",
    "E1 = mm.Formula(\"C1200H2000O1000\").mass * u.grams / scp.constants.Avogadro\n",
    "E2 = u.convert_to(E1, u.kilogram)\n",
    "E2"
   ]
  },
  {
   "cell_type": "code",
   "execution_count": 108,
   "id": "e655959c-94bd-45e0-b90f-38870fc64712",
   "metadata": {},
   "outputs": [
    {
     "data": {
      "text/latex": [
       "$\\displaystyle 0.500152951973081 mol$"
      ],
      "text/plain": [
       "0.500152951973081*mol"
      ]
     },
     "execution_count": 108,
     "metadata": {},
     "output_type": "execute_result"
    }
   ],
   "source": [
    "# 2.29\n",
    "# (a)\n",
    "mol = sp.symbols(\"mol\")\n",
    "E1 = 1 / (mm.Formula(\"Zn\").mass * u.grams / mol)\n",
    "E2 = E1 * 32.7 * u.grams\n",
    "E2"
   ]
  },
  {
   "cell_type": "code",
   "execution_count": 110,
   "id": "c104ae87-d180-461a-a971-58ffdffb471f",
   "metadata": {},
   "outputs": [
    {
     "data": {
      "text/latex": [
       "$\\displaystyle 0.199983640266382 mol$"
      ],
      "text/plain": [
       "0.199983640266382*mol"
      ]
     },
     "execution_count": 110,
     "metadata": {},
     "output_type": "execute_result"
    }
   ],
   "source": [
    "# (b)\n",
    "E1 = 1 / (mm.Formula(\"Cl\").mass * u.grams / mol)\n",
    "E2 = E1 * 7.09 * u.grams\n",
    "E2"
   ]
  },
  {
   "cell_type": "code",
   "execution_count": 112,
   "id": "a77bfba3-ac04-4ce7-8959-fd4884cafdbc",
   "metadata": {},
   "outputs": [
    {
     "data": {
      "text/latex": [
       "$\\displaystyle 1.50127466717024 mol$"
      ],
      "text/plain": [
       "1.50127466717024*mol"
      ]
     },
     "execution_count": 112,
     "metadata": {},
     "output_type": "execute_result"
    }
   ],
   "source": [
    "# (c)\n",
    "E1 = 1 / (mm.Formula(\"Cu\").mass * u.grams / mol)\n",
    "E2 = 95.4 * u.grams * E1\n",
    "E2"
   ]
  },
  {
   "cell_type": "code",
   "execution_count": 113,
   "id": "12e32f82-0b9d-491f-a73f-03cb38e8fc36",
   "metadata": {},
   "outputs": [
    {
     "data": {
      "text/latex": [
       "$\\displaystyle 0.0771779031247202 mol$"
      ],
      "text/plain": [
       "0.0771779031247202*mol"
      ]
     },
     "execution_count": 113,
     "metadata": {},
     "output_type": "execute_result"
    }
   ],
   "source": [
    "# (d)\n",
    "E1 = 1/ (mm.Formula(\"Fe\").mass * u.grams / mol)\n",
    "E2 = 4.31 * u.grams * E1\n",
    "E2"
   ]
  },
  {
   "cell_type": "code",
   "execution_count": 114,
   "id": "9faa9b37-4fa2-46c7-8134-2d22d7d6a3ed",
   "metadata": {},
   "outputs": [
    {
     "data": {
      "text/latex": [
       "$\\displaystyle 0.0117886280282428 mol$"
      ],
      "text/plain": [
       "0.0117886280282428*mol"
      ]
     },
     "execution_count": 114,
     "metadata": {},
     "output_type": "execute_result"
    }
   ],
   "source": [
    "# (e)\n",
    "E1 = 1 / (mm.Formula(\"S\").mass * u.grams / mol)\n",
    "E2 = .378 * E1 * u.grams\n",
    "E2"
   ]
  },
  {
   "cell_type": "code",
   "execution_count": 115,
   "id": "1e2da9df-0f56-4d13-9582-66a128c21f8d",
   "metadata": {},
   "outputs": [
    {
     "data": {
      "text/latex": [
       "$\\displaystyle 1.91965866073278 mol$"
      ],
      "text/plain": [
       "1.91965866073278*mol"
      ]
     },
     "execution_count": 115,
     "metadata": {},
     "output_type": "execute_result"
    }
   ],
   "source": [
    "# 2.30\n",
    "# KCN, NaCN\n",
    "mol = sp.symbols('mol')\n",
    "# Find number of moles in KCN\n",
    "E1 = 1 / (mm.Formula(\"KCN\").mass * u.grams / mol)\n",
    "E2 = 125 * u.gram * E1\n",
    "E2"
   ]
  },
  {
   "cell_type": "code",
   "execution_count": 116,
   "id": "34ff89c5-1723-43eb-beb1-3a9e89a2f5aa",
   "metadata": {},
   "outputs": [
    {
     "data": {
      "text/latex": [
       "$\\displaystyle 2.55064498029024 mol$"
      ],
      "text/plain": [
       "2.55064498029024*mol"
      ]
     },
     "execution_count": 116,
     "metadata": {},
     "output_type": "execute_result"
    }
   ],
   "source": [
    "# Now find number of moles in NaCN\n",
    "E1 = 1 / (mm.Formula(\"NaCN\").mass * u.grams / mol)\n",
    "E2 = u.gram * 125 * E1\n",
    "E2"
   ]
  },
  {
   "cell_type": "code",
   "execution_count": 117,
   "id": "3afeb8ba-24d5-4cb3-944e-46b21bc545f0",
   "metadata": {},
   "outputs": [],
   "source": [
    "# NaCN contains more molecules"
   ]
  },
  {
   "cell_type": "code",
   "execution_count": 118,
   "id": "1f6d2af0-ea0d-49ac-8fad-dbe9fb22d8e1",
   "metadata": {},
   "outputs": [
    {
     "data": {
      "text/latex": [
       "$\\displaystyle 0.249800409472831 mol$"
      ],
      "text/plain": [
       "0.249800409472831*mol"
      ]
     },
     "execution_count": 118,
     "metadata": {},
     "output_type": "execute_result"
    }
   ],
   "source": [
    "# 2.31\n",
    "# (a)\n",
    "mol = sp.symbols(\"mol\")\n",
    "E1 = 1 / (mm.Formula(\"H2SO4\").mass * u.grams / mol)\n",
    "E2 = 24.5 * u.grams * E1\n",
    "E2"
   ]
  },
  {
   "cell_type": "code",
   "execution_count": 120,
   "id": "53647b81-93f8-4422-b024-15c5717e29f3",
   "metadata": {},
   "outputs": [
    {
     "data": {
      "text/latex": [
       "$\\displaystyle 0.12500464861037 mol$"
      ],
      "text/plain": [
       "0.12500464861037*mol"
      ]
     },
     "execution_count": 120,
     "metadata": {},
     "output_type": "execute_result"
    }
   ],
   "source": [
    "# (b)\n",
    "E1 = 1 / (mm.Formula(\"O2\").mass * u.grams / mol)\n",
    "E2 = 4 * u.gram * E1\n",
    "E2"
   ]
  },
  {
   "cell_type": "code",
   "execution_count": 123,
   "id": "c4aed445-91ad-4511-968c-d29108dcaf3d",
   "metadata": {},
   "outputs": [
    {
     "data": {
      "text/latex": [
       "$\\displaystyle \\frac{0.0104220948410631 mol}{\\text{g}}$"
      ],
      "text/plain": [
       "0.0104220948410631*mol/gram"
      ]
     },
     "execution_count": 123,
     "metadata": {},
     "output_type": "execute_result"
    }
   ],
   "source": [
    "# 2.32\n",
    "mol = sp.symbols(\"mol\")\n",
    "\n",
    "E1 = 1 / (mm.Formula(\"Mo\").mass * u.grams / mol)\n",
    "E1\n"
   ]
  },
  {
   "cell_type": "code",
   "execution_count": 134,
   "id": "267a62fc-fe9e-474d-9c5a-9218fe754eb2",
   "metadata": {},
   "outputs": [],
   "source": [
    "# Find the amount of atoms in 4.25 Mo\n",
    "E2 = 1.63 * scp.constants.Avogadro"
   ]
  },
  {
   "cell_type": "code",
   "execution_count": 155,
   "id": "fdd3d1cb-a8f0-4c0b-b26d-183dc3a96ab8",
   "metadata": {},
   "outputs": [
    {
     "data": {
      "text/latex": [
       "$\\displaystyle 0.250012475672439 mol$"
      ],
      "text/plain": [
       "0.250012475672439*mol"
      ]
     },
     "execution_count": 155,
     "metadata": {},
     "output_type": "execute_result"
    }
   ],
   "source": [
    "# 2.8 redo\n",
    "mol = sp.symbols(\"mol\")\n",
    "E1 = 1 / (mm.Formula(\"Ca\").mass * u.gram / mol)\n",
    "E1 * u.gram * 10.02"
   ]
  },
  {
   "cell_type": "code",
   "execution_count": 177,
   "id": "783ed226-828f-408a-adb2-c9751209d59c",
   "metadata": {},
   "outputs": [
    {
     "data": {
      "text/latex": [
       "$\\displaystyle \\frac{63.546 \\text{g}}{mol}$"
      ],
      "text/plain": [
       "63.546*gram/mol"
      ]
     },
     "execution_count": 177,
     "metadata": {},
     "output_type": "execute_result"
    }
   ],
   "source": [
    "# Given Coposer Oxide\n",
    "mol = sp.symbols(\"mol\")\n",
    "\n",
    "# Get mass of copper\n",
    "E1 = mm.Formula(\"Cu\").mass * u.grams / mol\n",
    "E1"
   ]
  },
  {
   "cell_type": "code",
   "execution_count": 178,
   "id": "bcd6f4e5-b9b4-42d1-8c68-91ef12a8bae1",
   "metadata": {},
   "outputs": [
    {
     "data": {
      "text/latex": [
       "$\\displaystyle \\frac{15.999405 \\text{g}}{mol}$"
      ],
      "text/plain": [
       "15.999405*gram/mol"
      ]
     },
     "execution_count": 178,
     "metadata": {},
     "output_type": "execute_result"
    }
   ],
   "source": [
    "# Get mass of Oxygen\n",
    "E2 = mm.Formula(\"O\").mass * u.grams / mol\n",
    "E2"
   ]
  },
  {
   "cell_type": "code",
   "execution_count": 180,
   "id": "4f4789bc-5d39-4a68-9d5b-bc1bceedf847",
   "metadata": {},
   "outputs": [
    {
     "data": {
      "text/latex": [
       "$\\displaystyle \\frac{79.545405 \\text{g}}{mol}$"
      ],
      "text/plain": [
       "79.545405*gram/mol"
      ]
     },
     "execution_count": 180,
     "metadata": {},
     "output_type": "execute_result"
    }
   ],
   "source": [
    "# Note the total mass is \n",
    "E3 = E1 + E2\n",
    "E3"
   ]
  },
  {
   "cell_type": "code",
   "execution_count": 184,
   "id": "a9fd7c92-003b-4aa0-9d92-5ce5c667167e",
   "metadata": {},
   "outputs": [
    {
     "data": {
      "text/latex": [
       "$\\displaystyle 79.8864497578459$"
      ],
      "text/plain": [
       "79.8864497578459"
      ]
     },
     "execution_count": 184,
     "metadata": {},
     "output_type": "execute_result"
    }
   ],
   "source": [
    "# Percentage of Copper is\n",
    "E4 = E1 / E3 * 100\n",
    "E4"
   ]
  },
  {
   "cell_type": "code",
   "execution_count": 185,
   "id": "a2210c45-de70-4d83-8956-454ed3977dca",
   "metadata": {},
   "outputs": [
    {
     "data": {
      "text/latex": [
       "$\\displaystyle 0.201135502421542$"
      ],
      "text/plain": [
       "0.201135502421542"
      ]
     },
     "execution_count": 185,
     "metadata": {},
     "output_type": "execute_result"
    }
   ],
   "source": [
    "# Percentage of Oxygen is\n",
    "E5 = E2 / E3\n",
    "E5"
   ]
  },
  {
   "cell_type": "code",
   "execution_count": 187,
   "id": "a020c99b-f078-4e23-9575-4f48a19b73ed",
   "metadata": {},
   "outputs": [
    {
     "data": {
      "text/latex": [
       "$\\displaystyle \\frac{55.845 \\text{g}}{mol}$"
      ],
      "text/plain": [
       "55.845*gram/mol"
      ]
     },
     "execution_count": 187,
     "metadata": {},
     "output_type": "execute_result"
    }
   ],
   "source": [
    "# 2.34 (c)\n",
    "# How many kg of S is contained in 1kg of FeS2\n",
    "# Find mass of S\n",
    "mol = sp.symbols(\"mol\")\n",
    "E1 = mm.Formula(\"Fe\").mass * u.gram / mol\n",
    "E1"
   ]
  },
  {
   "cell_type": "code",
   "execution_count": 188,
   "id": "7563958a-1272-42d2-9bca-7f5d27ba7ec9",
   "metadata": {},
   "outputs": [
    {
     "data": {
      "text/latex": [
       "$\\displaystyle \\frac{64.1296 \\text{g}}{mol}$"
      ],
      "text/plain": [
       "64.1296*gram/mol"
      ]
     },
     "execution_count": 188,
     "metadata": {},
     "output_type": "execute_result"
    }
   ],
   "source": [
    "# Find mass of S2\n",
    "E2 = mm.Formula(\"S2\").mass * u.gram / mol\n",
    "E2"
   ]
  },
  {
   "cell_type": "code",
   "execution_count": 189,
   "id": "b3e30ab6-54a9-4e69-8fde-51b774caf685",
   "metadata": {},
   "outputs": [
    {
     "data": {
      "text/latex": [
       "$\\displaystyle \\frac{119.9746 \\text{g}}{mol}$"
      ],
      "text/plain": [
       "119.9746*gram/mol"
      ]
     },
     "execution_count": 189,
     "metadata": {},
     "output_type": "execute_result"
    }
   ],
   "source": [
    "# total mass of this compound is: \n",
    "E3 = E1 + E2\n",
    "E3"
   ]
  },
  {
   "cell_type": "code",
   "execution_count": 191,
   "id": "3f1e883e-6544-4432-a7bd-908fefa3900c",
   "metadata": {},
   "outputs": [
    {
     "data": {
      "text/latex": [
       "$\\displaystyle 46.5473525229507$"
      ],
      "text/plain": [
       "46.5473525229507"
      ]
     },
     "execution_count": 191,
     "metadata": {},
     "output_type": "execute_result"
    }
   ],
   "source": [
    "# Percentage of mass of S is \n",
    "E4 = E1 / E3 * 100\n",
    "E4"
   ]
  },
  {
   "cell_type": "code",
   "execution_count": 192,
   "id": "03f7b8aa-4e10-4e3a-af5a-81e4305191ba",
   "metadata": {},
   "outputs": [
    {
     "data": {
      "text/latex": [
       "$\\displaystyle 0.465473525229507 \\text{kg}$"
      ],
      "text/plain": [
       "0.465473525229507*kilogram"
      ]
     },
     "execution_count": 192,
     "metadata": {},
     "output_type": "execute_result"
    }
   ],
   "source": [
    "E4 / 100 * 1 * u.kilogram"
   ]
  },
  {
   "cell_type": "code",
   "execution_count": 194,
   "id": "a4119cd8-4777-4da4-a6e1-6eb45285ae1f",
   "metadata": {},
   "outputs": [
    {
     "data": {
      "text/latex": [
       "$\\displaystyle 181.2 \\text{g}$"
      ],
      "text/plain": [
       "181.2*gram"
      ]
     },
     "execution_count": 194,
     "metadata": {},
     "output_type": "execute_result"
    }
   ],
   "source": [
    "# 2.35\n",
    "# How many grams of Iridium in a cube with 2cm\n",
    "# given a density of 22.65g/cm3\n",
    "# There fore the amount of grams in cube is: \n",
    "E1 =  8 * 22.65 * u.grams\n",
    "E1"
   ]
  },
  {
   "cell_type": "code",
   "execution_count": 196,
   "id": "309e970c-e5e0-4b0d-bde4-921521af410a",
   "metadata": {},
   "outputs": [
    {
     "data": {
      "text/latex": [
       "$\\displaystyle 0.942684570043232 mol$"
      ],
      "text/plain": [
       "0.942684570043232*mol"
      ]
     },
     "execution_count": 196,
     "metadata": {},
     "output_type": "execute_result"
    }
   ],
   "source": [
    "# Find the numer of moles\n",
    "E2 = 1 / (mm.Formula(\"Ir\").mass * u.grams / mol)\n",
    "E3 = E1 * E2\n",
    "E3"
   ]
  },
  {
   "cell_type": "code",
   "execution_count": 198,
   "id": "86083c42-58a4-4d7f-9cf2-847e958c2db7",
   "metadata": {},
   "outputs": [
    {
     "data": {
      "text/latex": [
       "$\\displaystyle 5.67697917308042 \\cdot 10^{23} atom$"
      ],
      "text/plain": [
       "5.67697917308042e+23*atom"
      ]
     },
     "execution_count": 198,
     "metadata": {},
     "output_type": "execute_result"
    }
   ],
   "source": [
    "# Find out how many atoms\n",
    "E4 = E3 * scp.constants.Avogadro * atom/mol\n",
    "E4"
   ]
  },
  {
   "cell_type": "code",
   "execution_count": 199,
   "id": "85189e8e-6160-4f61-9573-3b4b7ccf4be1",
   "metadata": {},
   "outputs": [],
   "source": [
    "# 2.37\n",
    "# 2.38\n",
    "# 2.39\n",
    "# 2.40\n",
    "# 2.41"
   ]
  },
  {
   "cell_type": "code",
   "execution_count": null,
   "id": "680586a1-4988-4a90-ad19-af1dfe642efd",
   "metadata": {},
   "outputs": [],
   "source": []
  }
 ],
 "metadata": {
  "kernelspec": {
   "display_name": "Python 3",
   "language": "python",
   "name": "python3"
  },
  "language_info": {
   "codemirror_mode": {
    "name": "ipython",
    "version": 3
   },
   "file_extension": ".py",
   "mimetype": "text/x-python",
   "name": "python",
   "nbconvert_exporter": "python",
   "pygments_lexer": "ipython3",
   "version": "3.9.2"
  }
 },
 "nbformat": 4,
 "nbformat_minor": 5
}
