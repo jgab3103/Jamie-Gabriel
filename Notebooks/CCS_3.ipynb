{
 "cells": [
  {
   "cell_type": "code",
   "execution_count": 76,
   "id": "09d739b7-452b-440e-b856-8a6712d5a439",
   "metadata": {},
   "outputs": [],
   "source": [
    "# !pip install chempy\n",
    "# !pip install periodictable\n",
    "# !pip install PyAstronomy\n",
    "# !pip install molmass\n",
    "#!pip install rdkit\n",
    "# !pip install astropy\n",
    "\n",
    "\n",
    "import periodictable as pt\n",
    "import chempy as ch\n",
    "import numpy as np\n",
    "import sympy as sp\n",
    "import molmass as mm\n",
    "import pickle\n",
    "from IPython.display import HTML\n",
    "import ipywidgets as widgets\n",
    "import matplotlib as mpl\n",
    "import matplotlib.pyplot as plt\n",
    "from mpl_toolkits.mplot3d import Axes3D\n",
    "import matplotlib.pyplot as plt\n",
    "mpl.rcParams['legend.fontsize'] = 10\n",
    "import pandas as pd\n",
    "import itertools\n",
    "pd.set_option('display.max_colwidth', None)\n",
    "from sympy.plotting import plot \n",
    "from IPython.display import Image\n",
    "from PyAstronomy import pyasl\n",
    "import decimal\n",
    "\n",
    "from sympy.physics.units.systems import SI\n",
    "from rdkit import Chem\n",
    "from rdkit.Chem import Draw\n",
    "# from astropy import units as u\n",
    "import sympy.physics.units as u\n",
    "import scipy as scp\n",
    "\n",
    "from sympy.physics.units import speed_of_light, meter, gram, second, day, pound\n",
    "from sympy.physics.units import mile, newton, kilogram, atomic_mass_constant\n",
    "from sympy.physics.units import kilometer, centimeter, millimeter, nanometer\n",
    "from sympy.physics.units import gravitational_constant, hbar, kPa, newton\n",
    "from sympy.physics.units import convert_to\n",
    "\n",
    "def RTL(e):\n",
    "    \"\"\"INPUT PARAMS: [] of math expressions\"\"\"\n",
    "    latex_rendering = []\n",
    "\n",
    "    for i in range(len(e)):\n",
    "        latex_rendering.append(\"$\" + sp.latex(e[i]) + \"$ &nbsp;&nbsp;\")\n",
    "    \n",
    "    return(HTML(\"\".join(latex_rendering[0:])))\n",
    "\n",
    "def BalanceChemEquation(L, R):\n",
    "    \"\"\" INPUT PARAMS: 2 * {} containing react and prod\"\"\"\n",
    "    reac, prod = ch.balance_stoichiometry(L, R)\n",
    "    Reaction = ch.Reaction(reac, prod)\n",
    "    return([Reaction, [reac, prod]])\n",
    "    \n",
    "\n",
    "class Atom: \n",
    "    def __init__(self, pCount, nCount, eCount):\n",
    "        \"\"\"INPUT PARAMS: countOfProtons, countOfNeutrons, countOfElectrons\"\"\"\n",
    "        \n",
    "        an = pyasl.AtomicNo()\n",
    "        \n",
    "        self.Protons = pCount\n",
    "        self.Neutrons = nCount\n",
    "        self.Electrons = eCount\n",
    "        self.ElementName = an.getElementName(pCount)\n",
    "        self.ElementNameWithAtomicMass = an.getElementName(pCount) + \"(\" + str(self.Protons) + \",\" + str(self.Protons + self.Neutrons) + \")\"\n",
    "    \n",
    "    def CreateSummary(self):\n",
    "        print(\"Name: \", self.ElementName)\n",
    "        print(\"Protons: \", self.Protons)\n",
    "        print(\"Neutrons: \", self.Neutrons)\n",
    "        print(\"Electrons: \", self.Electrons)"
   ]
  },
  {
   "cell_type": "code",
   "execution_count": 77,
   "id": "ca9348b0-f0c9-4729-a3b2-642ecc269fc6",
   "metadata": {},
   "outputs": [
    {
     "data": {
      "text/html": [
       "2 NO + O2 &rarr; 2 NO2"
      ],
      "text/plain": [
       "<chempy.chemistry.Reaction at 0x7f39d679abb0>"
      ]
     },
     "execution_count": 77,
     "metadata": {},
     "output_type": "execute_result"
    }
   ],
   "source": [
    "# Sample excersie\n",
    "BalanceChemEquation({\"O2\", \"NO\"}, {\"NO2\"})[0]"
   ]
  },
  {
   "cell_type": "code",
   "execution_count": 78,
   "id": "40259af5-7d7a-4081-a2ae-400fb7214242",
   "metadata": {},
   "outputs": [
    {
     "data": {
      "text/html": [
       "2 H2O + 2 Na &rarr; H2 + 2 NaOH"
      ],
      "text/plain": [
       "<chempy.chemistry.Reaction at 0x7f39d76fb6d0>"
      ]
     },
     "execution_count": 78,
     "metadata": {},
     "output_type": "execute_result"
    }
   ],
   "source": [
    "# Sample \n",
    "BalanceChemEquation({\"Na\", \"H2O\"}, {\"NaOH\", \"H2\"})[0]"
   ]
  },
  {
   "cell_type": "code",
   "execution_count": 79,
   "id": "685a28a7-cdf4-4baa-8052-2ff0345b2dcb",
   "metadata": {},
   "outputs": [
    {
     "data": {
      "text/html": [
       "4 Fe + 3 O2 &rarr; 2 Fe2O3"
      ],
      "text/plain": [
       "<chempy.chemistry.Reaction at 0x7f39d6a3abe0>"
      ]
     },
     "execution_count": 79,
     "metadata": {},
     "output_type": "execute_result"
    }
   ],
   "source": [
    "# Practice exercises\n",
    "BalanceChemEquation({\"Fe\", \"O2\"}, {\"Fe2O3\"})[0]"
   ]
  },
  {
   "cell_type": "code",
   "execution_count": 80,
   "id": "6e22b5fa-b1a6-4dda-af81-7490363cc9c1",
   "metadata": {},
   "outputs": [
    {
     "data": {
      "text/html": [
       "C2H4 + 3 O2 &rarr; 2 CO2 + 2 H2O"
      ],
      "text/plain": [
       "<chempy.chemistry.Reaction at 0x7f39d679a2b0>"
      ]
     },
     "execution_count": 80,
     "metadata": {},
     "output_type": "execute_result"
    }
   ],
   "source": [
    "BalanceChemEquation({\"C2H4\", \"O2\"}, {\"CO2\", \"H2O\"})[0]"
   ]
  },
  {
   "cell_type": "code",
   "execution_count": 81,
   "id": "02b34911-8d5e-4304-bb23-e6a46f14dfbb",
   "metadata": {},
   "outputs": [
    {
     "data": {
      "text/latex": [
       "$\\displaystyle 342.297037 amu$"
      ],
      "text/plain": [
       "342.297037*amu"
      ]
     },
     "execution_count": 81,
     "metadata": {},
     "output_type": "execute_result"
    }
   ],
   "source": [
    "# Sample exercise 3.5\n",
    "# Formula weight: C12H22O11\n",
    "amu = sp.symbols('amu')\n",
    "(12 * mm.Formula(\"C\").mass + 22 * mm.Formula(\"H\").mass + 11 * mm.Formula(\"O\").mass) * amu"
   ]
  },
  {
   "cell_type": "code",
   "execution_count": 82,
   "id": "1101c335-cb72-4648-992a-139ab9cef080",
   "metadata": {},
   "outputs": [
    {
     "data": {
      "text/latex": [
       "$\\displaystyle 164.087836 amu$"
      ],
      "text/plain": [
       "164.087836*amu"
      ]
     },
     "execution_count": 82,
     "metadata": {},
     "output_type": "execute_result"
    }
   ],
   "source": [
    "# Formula weight: Ca(NO3)2\n",
    "amu = sp.symbols('amu')\n",
    "(mm.Formula(\"Ca\").mass + 2 * mm.Formula(\"N\").mass + 6 * mm.Formula(\"O\").mass) * amu"
   ]
  },
  {
   "cell_type": "code",
   "execution_count": 83,
   "id": "aa81f720-cee5-4398-8bdb-2b865f7a7d62",
   "metadata": {},
   "outputs": [
    {
     "data": {
      "text/latex": [
       "$\\displaystyle 78.0035765 amu$"
      ],
      "text/plain": [
       "78.0035765*amu"
      ]
     },
     "execution_count": 83,
     "metadata": {},
     "output_type": "execute_result"
    }
   ],
   "source": [
    "# Formula weight\n",
    "amu = sp.symbols('amu')\n",
    "amu * (mm.Formula(\"Al\").mass + 3 * mm.Formula(\"O\").mass + 3 * mm.Formula(\"H\").mass)"
   ]
  },
  {
   "cell_type": "code",
   "execution_count": 84,
   "id": "06a25d92-948d-4296-8630-ebbf47158e12",
   "metadata": {},
   "outputs": [
    {
     "data": {
      "text/latex": [
       "$\\displaystyle 32.041909 amu$"
      ],
      "text/plain": [
       "32.041909*amu"
      ]
     },
     "execution_count": 84,
     "metadata": {},
     "output_type": "execute_result"
    }
   ],
   "source": [
    "# Formula wieght\n",
    "amu = sp.symbols(\"amu\")\n",
    "amu * (mm.Formula(\"C\").mass + 4 * mm.Formula(\"H\").mass + mm.Formula(\"O\").mass)"
   ]
  },
  {
   "cell_type": "code",
   "execution_count": 85,
   "id": "102c462a-b226-4f2c-8a30-7bcbb715dc88",
   "metadata": {},
   "outputs": [
    {
     "data": {
      "text/latex": [
       "$\\displaystyle 342.297037 amu$"
      ],
      "text/plain": [
       "342.297037*amu"
      ]
     },
     "execution_count": 85,
     "metadata": {},
     "output_type": "execute_result"
    }
   ],
   "source": [
    "# Sample Ex 3.6\n",
    "# Find percentage of mass\n",
    "# find total weight\n",
    "amu = sp.symbols(\"amu\")\n",
    "E1 = mm.Formula(\"C12H22O11\").mass * amu\n",
    "E1"
   ]
  },
  {
   "cell_type": "code",
   "execution_count": 86,
   "id": "6eac23eb-700e-4cb0-b175-d89b0732752f",
   "metadata": {},
   "outputs": [
    {
     "data": {
      "text/latex": [
       "$\\displaystyle 42.1063767490339$"
      ],
      "text/plain": [
       "42.1063767490339"
      ]
     },
     "execution_count": 86,
     "metadata": {},
     "output_type": "execute_result"
    }
   ],
   "source": [
    "# Look at percentage of Carbon\n",
    "(12 * mm.Formula(\"C\").mass * amu) / E1 * 100"
   ]
  },
  {
   "cell_type": "code",
   "execution_count": 87,
   "id": "c211179c-161e-4e67-aa1b-cbef05459055",
   "metadata": {},
   "outputs": [
    {
     "data": {
      "text/latex": [
       "$\\displaystyle 6.47820448413639$"
      ],
      "text/plain": [
       "6.47820448413639"
      ]
     },
     "execution_count": 87,
     "metadata": {},
     "output_type": "execute_result"
    }
   ],
   "source": [
    "# Percentage of hydrogen\n",
    "(22 * mm.Formula(\"H\").mass * amu) / E1 * 100"
   ]
  },
  {
   "cell_type": "code",
   "execution_count": 88,
   "id": "36baac92-2a8d-485e-93b4-72e9a4b08c16",
   "metadata": {},
   "outputs": [
    {
     "data": {
      "text/latex": [
       "$\\displaystyle 51.4154187668297$"
      ],
      "text/plain": [
       "51.4154187668297"
      ]
     },
     "execution_count": 88,
     "metadata": {},
     "output_type": "execute_result"
    }
   ],
   "source": [
    "(11 * mm.Formula(\"O\").mass * amu) / E1 * 100"
   ]
  },
  {
   "cell_type": "code",
   "execution_count": 89,
   "id": "55d1ac1d-31a5-4ca2-88b0-731f5e2cdea2",
   "metadata": {},
   "outputs": [
    {
     "data": {
      "text/latex": [
       "$\\displaystyle 164.087836 amu$"
      ],
      "text/plain": [
       "164.087836*amu"
      ]
     },
     "execution_count": 89,
     "metadata": {},
     "output_type": "execute_result"
    }
   ],
   "source": [
    "# Percentage of mass\n",
    "amu = sp.symbols('amu')\n",
    "E1 = mm.Formula(\"Ca(NO3)2\").mass * amu\n",
    "E1"
   ]
  },
  {
   "cell_type": "code",
   "execution_count": 90,
   "id": "57089350-26ea-4eac-882f-278f720f99ff",
   "metadata": {},
   "outputs": [
    {
     "data": {
      "text/latex": [
       "$\\displaystyle 17.0722015006646$"
      ],
      "text/plain": [
       "17.0722015006646"
      ]
     },
     "execution_count": 90,
     "metadata": {},
     "output_type": "execute_result"
    }
   ],
   "source": [
    "(2 * mm.Formula(\"N\").mass * amu) / E1 * 100"
   ]
  },
  {
   "cell_type": "code",
   "execution_count": 91,
   "id": "f6eb9b97-d1f6-409f-82ba-634b30fdca38",
   "metadata": {},
   "outputs": [
    {
     "data": {
      "text/plain": [
       "6.02214076e+23"
      ]
     },
     "execution_count": 91,
     "metadata": {},
     "output_type": "execute_result"
    }
   ],
   "source": [
    "# Sample Exercise 3.7 - Estimating number f atoms\n",
    "E1 = scp.constants.Avogadro\n",
    "E1"
   ]
  },
  {
   "cell_type": "code",
   "execution_count": 92,
   "id": "c02bcdc2-78e4-44fd-8ce6-34fdbac2ab34",
   "metadata": {},
   "outputs": [],
   "source": [
    "# Sample Exercise 3.8\n",
    "# Find number of H atoms in .350 mol of C6H12O6"
   ]
  },
  {
   "cell_type": "code",
   "execution_count": 93,
   "id": "726cd57f-34ae-42df-9b8d-1f47c6755a1c",
   "metadata": {},
   "outputs": [
    {
     "data": {
      "text/plain": [
       "2.5292991192e+24"
      ]
     },
     "execution_count": 93,
     "metadata": {},
     "output_type": "execute_result"
    }
   ],
   "source": [
    ".35 * scp.constants.Avogadro * 12"
   ]
  },
  {
   "cell_type": "code",
   "execution_count": 94,
   "id": "bbe39461-538d-4d9d-890a-051790f8946e",
   "metadata": {},
   "outputs": [
    {
     "data": {
      "text/plain": [
       "9.03321114e+23"
      ]
     },
     "execution_count": 94,
     "metadata": {},
     "output_type": "execute_result"
    }
   ],
   "source": [
    ".25 * scp.constants.Avogadro * 6"
   ]
  },
  {
   "cell_type": "code",
   "execution_count": 95,
   "id": "c9f2260d-dd37-4f7a-b1b0-f14a77c6af76",
   "metadata": {},
   "outputs": [
    {
     "data": {
      "text/plain": [
       "2.709963342e+24"
      ]
     },
     "execution_count": 95,
     "metadata": {},
     "output_type": "execute_result"
    }
   ],
   "source": [
    "# Na2CO3 - 6\n",
    "1.50 * scp.constants.Avogadro * 3"
   ]
  },
  {
   "cell_type": "code",
   "execution_count": 96,
   "id": "35f4445e-f717-44da-81df-875ffd8cfdee",
   "metadata": {},
   "outputs": [
    {
     "data": {
      "text/latex": [
       "$\\displaystyle 180.156162 amu$"
      ],
      "text/plain": [
       "180.156162*amu"
      ]
     },
     "execution_count": 96,
     "metadata": {},
     "output_type": "execute_result"
    }
   ],
   "source": [
    "# Sample Exercise 3.9\n",
    "amu, mol = sp.symbols(\"amu mol\")\n",
    "mm.Formula(\"C6H12O6\").mass * amu"
   ]
  },
  {
   "cell_type": "code",
   "execution_count": 97,
   "id": "dfb1e501-6b59-42ec-931e-ea20bd3bcc50",
   "metadata": {},
   "outputs": [
    {
     "data": {
      "text/plain": [
       "164.087836"
      ]
     },
     "execution_count": 97,
     "metadata": {},
     "output_type": "execute_result"
    }
   ],
   "source": [
    "# Note this is equivalent to g/mol\n",
    "mm.Formula(\"Ca(NO3)2\").mass"
   ]
  },
  {
   "cell_type": "code",
   "execution_count": 99,
   "id": "b67913a2-2db3-4f5e-8499-6fb9fc166ff3",
   "metadata": {},
   "outputs": [
    {
     "data": {
      "text/latex": [
       "$\\displaystyle 0.0298629807622123 mol$"
      ],
      "text/plain": [
       "0.0298629807622123*mol"
      ]
     },
     "execution_count": 99,
     "metadata": {},
     "output_type": "execute_result"
    }
   ],
   "source": [
    "mol = sp.symbols('mol')\n",
    "E1 = 1 /  ((mm.Formula(\"C6H12O6\").mass * u.gram) / mol)\n",
    "5.380 * u.gram * E1"
   ]
  },
  {
   "cell_type": "code",
   "execution_count": 101,
   "id": "b2d74af9-3e58-4f09-98f6-517e1b70a591",
   "metadata": {},
   "outputs": [
    {
     "data": {
      "text/latex": [
       "$\\displaystyle 6.04713921576105 mol$"
      ],
      "text/plain": [
       "6.04713921576105*mol"
      ]
     },
     "execution_count": 101,
     "metadata": {},
     "output_type": "execute_result"
    }
   ],
   "source": [
    "mol = sp.symbols('mol')\n",
    "E1 = 1 / ((mm.Formula(\"NaHCO3\").mass * u.grams) / mol)\n",
    "E1 * 508 * u.gram"
   ]
  },
  {
   "cell_type": "code",
   "execution_count": 102,
   "id": "88511b00-ab36-4f45-bc0f-91ea2c25b28e",
   "metadata": {},
   "outputs": [
    {
     "data": {
      "text/latex": [
       "$\\displaystyle \\frac{164.087836 \\text{g}}{mol}$"
      ],
      "text/plain": [
       "164.087836*gram/mol"
      ]
     },
     "execution_count": 102,
     "metadata": {},
     "output_type": "execute_result"
    }
   ],
   "source": [
    "E1 = (mm.Formula(\"Ca(NO3)2\").mass * u.grams) / mol\n",
    "E1"
   ]
  },
  {
   "cell_type": "code",
   "execution_count": 103,
   "id": "5b6778ce-26d5-4dbe-a08e-6ec9fb37d392",
   "metadata": {},
   "outputs": [
    {
     "data": {
      "text/latex": [
       "$\\displaystyle 71.050032988 \\text{g}$"
      ],
      "text/plain": [
       "71.050032988*gram"
      ]
     },
     "execution_count": 103,
     "metadata": {},
     "output_type": "execute_result"
    }
   ],
   "source": [
    "E2 = .433 * mol * E1\n",
    "E2"
   ]
  },
  {
   "cell_type": "code",
   "execution_count": 104,
   "id": "870be685-d9df-43db-a5a8-182138561877",
   "metadata": {},
   "outputs": [
    {
     "data": {
      "text/latex": [
       "$\\displaystyle \\frac{84.00666528 \\text{g}}{mol}$"
      ],
      "text/plain": [
       "84.00666528*gram/mol"
      ]
     },
     "execution_count": 104,
     "metadata": {},
     "output_type": "execute_result"
    }
   ],
   "source": [
    "# Mass of 6.33 mol of NaHCO3\n",
    "E1 = (mm.Formula(\"NaHCO3\").mass * u.grams) / mol\n",
    "E1"
   ]
  },
  {
   "cell_type": "code",
   "execution_count": 105,
   "id": "aa80824f-2f95-47a4-a8c6-ef098d8d9cb8",
   "metadata": {},
   "outputs": [
    {
     "data": {
      "text/latex": [
       "$\\displaystyle 531.7621912224 \\text{g}$"
      ],
      "text/plain": [
       "531.7621912224*gram"
      ]
     },
     "execution_count": 105,
     "metadata": {},
     "output_type": "execute_result"
    }
   ],
   "source": [
    "E2 = 6.33 * mol * E1\n",
    "E2"
   ]
  },
  {
   "cell_type": "code",
   "execution_count": 106,
   "id": "246337a1-ce9a-41d6-b46a-b5ebe0bc7c1c",
   "metadata": {},
   "outputs": [
    {
     "data": {
      "text/latex": [
       "$\\displaystyle \\frac{98.078302 \\text{g}}{mol}$"
      ],
      "text/plain": [
       "98.078302*gram/mol"
      ]
     },
     "execution_count": 106,
     "metadata": {},
     "output_type": "execute_result"
    }
   ],
   "source": [
    "E1 = (mm.Formula(\"H2SO4\").mass  * u.grams) / mol\n",
    "E1"
   ]
  },
  {
   "cell_type": "code",
   "execution_count": 108,
   "id": "c3e0164b-1f82-45ab-a982-5f0d50702749",
   "metadata": {},
   "outputs": [
    {
     "data": {
      "text/latex": [
       "$\\displaystyle 0.00294234906 \\text{g}$"
      ],
      "text/plain": [
       "0.00294234906*gram"
      ]
     },
     "execution_count": 108,
     "metadata": {},
     "output_type": "execute_result"
    }
   ],
   "source": [
    "E2 = 3.0 * 10**-5 * E1 * mol\n",
    "E2"
   ]
  },
  {
   "cell_type": "code",
   "execution_count": 117,
   "id": "61d6d053-0ea2-49f8-9a3d-1dcc5151a553",
   "metadata": {},
   "outputs": [
    {
     "data": {
      "text/latex": [
       "$\\displaystyle \\frac{180.156162 \\text{g}}{mol}$"
      ],
      "text/plain": [
       "180.156162*gram/mol"
      ]
     },
     "execution_count": 117,
     "metadata": {},
     "output_type": "execute_result"
    }
   ],
   "source": [
    "# SE 3.12\n",
    "atoms, molecules, mol = sp.symbols(\"atoms, molecules, mol\")\n",
    "\n",
    "E1 =  (mm.Formula(\"C6H12O6\").mass * u.grams) / mol\n",
    "E1"
   ]
  },
  {
   "cell_type": "code",
   "execution_count": 118,
   "id": "22db04d0-905c-47f3-b0ec-2b16a0f21e68",
   "metadata": {},
   "outputs": [
    {
     "data": {
      "text/latex": [
       "$\\displaystyle 0.0290303697744183 mol$"
      ],
      "text/plain": [
       "0.0290303697744183*mol"
      ]
     },
     "execution_count": 118,
     "metadata": {},
     "output_type": "execute_result"
    }
   ],
   "source": [
    "E2 = 5.23 * u.gram * (1 / E1)\n",
    "E2"
   ]
  },
  {
   "cell_type": "code",
   "execution_count": 120,
   "id": "01348cb9-0fd6-44de-bace-5dac5ef34575",
   "metadata": {},
   "outputs": [
    {
     "data": {
      "text/latex": [
       "$\\displaystyle 1.74824973096396 \\cdot 10^{22}$"
      ],
      "text/plain": [
       "1.74824973096396e+22"
      ]
     },
     "execution_count": 120,
     "metadata": {},
     "output_type": "execute_result"
    }
   ],
   "source": [
    "# Now get rid of \n",
    "scp.constants.Avogadro / mol * E2"
   ]
  },
  {
   "cell_type": "code",
   "execution_count": 121,
   "id": "f4fb26d5-6c97-4127-8a96-f7fab1869da1",
   "metadata": {},
   "outputs": [
    {
     "data": {
      "text/latex": [
       "$\\displaystyle \\frac{63.012859 \\text{g}}{mol}$"
      ],
      "text/plain": [
       "63.012859*gram/mol"
      ]
     },
     "execution_count": 121,
     "metadata": {},
     "output_type": "execute_result"
    }
   ],
   "source": [
    "# \n",
    "mol = sp.symbols(\"mol\")\n",
    "\n",
    "E1 = (mm.Formula(\"HNO3\").mass * u.gram) / mol\n",
    "E1"
   ]
  },
  {
   "cell_type": "code",
   "execution_count": 122,
   "id": "95e89756-a142-4886-80f2-a8d896d308e6",
   "metadata": {},
   "outputs": [
    {
     "data": {
      "text/latex": [
       "$\\displaystyle 0.0666530620361155 mol$"
      ],
      "text/plain": [
       "0.0666530620361155*mol"
      ]
     },
     "execution_count": 122,
     "metadata": {},
     "output_type": "execute_result"
    }
   ],
   "source": [
    "# find total mass\n",
    "E2 = 4.2 * u.grams * 1 / E1\n",
    "E2"
   ]
  },
  {
   "cell_type": "code",
   "execution_count": 123,
   "id": "7136566d-046d-479f-ad59-9eca9ccabf59",
   "metadata": {},
   "outputs": [
    {
     "data": {
      "text/latex": [
       "$\\displaystyle 4.013941216665 \\cdot 10^{22}$"
      ],
      "text/plain": [
       "4.01394121666500e+22"
      ]
     },
     "execution_count": 123,
     "metadata": {},
     "output_type": "execute_result"
    }
   ],
   "source": [
    "# convert to atoms\n",
    "scp.constants.Avogadro / mol * E2"
   ]
  },
  {
   "cell_type": "code",
   "execution_count": 125,
   "id": "2062583c-8277-4d79-9040-d68ffb6f7137",
   "metadata": {},
   "outputs": [
    {
     "data": {
      "text/latex": [
       "$\\displaystyle 1.2041823649995 \\cdot 10^{23}$"
      ],
      "text/plain": [
       "1.20418236499950e+23"
      ]
     },
     "execution_count": 125,
     "metadata": {},
     "output_type": "execute_result"
    }
   ],
   "source": [
    "scp.constants.Avogadro / mol * E2 * 3"
   ]
  },
  {
   "cell_type": "code",
   "execution_count": 126,
   "id": "ff5a5894-964f-4a1c-9221-b19b94386ab4",
   "metadata": {},
   "outputs": [
    {
     "data": {
      "text/latex": [
       "$\\displaystyle 3.40695077905275 mol$"
      ],
      "text/plain": [
       "3.40695077905275*mol"
      ]
     },
     "execution_count": 126,
     "metadata": {},
     "output_type": "execute_result"
    }
   ],
   "source": [
    "# SE 3.13\n",
    "# Convert to mol ratio\n",
    "mol = sp.symbols('mol')\n",
    "E1 = 40.92 * u.gram * (1 / ((mm.Formula(\"C\").mass * u.grams) / mol))\n",
    "E1"
   ]
  },
  {
   "cell_type": "code",
   "execution_count": 127,
   "id": "fda58822-6f4f-4e99-9d10-d0c21de036b1",
   "metadata": {},
   "outputs": [
    {
     "data": {
      "text/latex": [
       "$\\displaystyle 4.54391675703241 mol$"
      ],
      "text/plain": [
       "4.54391675703241*mol"
      ]
     },
     "execution_count": 127,
     "metadata": {},
     "output_type": "execute_result"
    }
   ],
   "source": [
    "E2 = 4.58 * u.gram * (1 / ((mm.Formula(\"H\").mass * u.grams) / mol))\n",
    "E2"
   ]
  },
  {
   "cell_type": "code",
   "execution_count": 129,
   "id": "03a4b48e-20be-48b8-ac6a-8609764c9c28",
   "metadata": {},
   "outputs": [
    {
     "data": {
      "text/latex": [
       "$\\displaystyle 3.40637667463259 mol$"
      ],
      "text/plain": [
       "3.40637667463259*mol"
      ]
     },
     "execution_count": 129,
     "metadata": {},
     "output_type": "execute_result"
    }
   ],
   "source": [
    "E3 = 54.5 * u.gram * (1 / ((mm.Formula(\"O\").mass * u.grams) / mol))\n",
    "E3"
   ]
  },
  {
   "cell_type": "code",
   "execution_count": 131,
   "id": "dfb5a2b1-0730-4d35-aa45-b2153c50a9b7",
   "metadata": {},
   "outputs": [
    {
     "data": {
      "text/html": [
       "$3.40695077905275 mol$ &nbsp;&nbsp;$4.54391675703241 mol$ &nbsp;&nbsp;$3.40637667463259 mol$ &nbsp;&nbsp;"
      ],
      "text/plain": [
       "<IPython.core.display.HTML object>"
      ]
     },
     "execution_count": 131,
     "metadata": {},
     "output_type": "execute_result"
    }
   ],
   "source": [
    "# now we have mol ratio. Put in array\n",
    "E4 = np.array([E1, E2, E3])\n",
    "RTL(E4)"
   ]
  },
  {
   "cell_type": "code",
   "execution_count": 133,
   "id": "bac1fc4b-dd4c-4b0b-955c-7e591b3e343d",
   "metadata": {},
   "outputs": [
    {
     "data": {
      "text/html": [
       "$1.0$ &nbsp;&nbsp;$1.3337195198035$ &nbsp;&nbsp;$0.999831490251139$ &nbsp;&nbsp;"
      ],
      "text/plain": [
       "<IPython.core.display.HTML object>"
      ]
     },
     "execution_count": 133,
     "metadata": {},
     "output_type": "execute_result"
    }
   ],
   "source": [
    "E5 = E4 / E1\n",
    "RTL(E5)"
   ]
  },
  {
   "cell_type": "code",
   "execution_count": 136,
   "id": "dab10d85-b91b-428b-a440-a7b942e09b9e",
   "metadata": {},
   "outputs": [
    {
     "data": {
      "text/html": [
       "$3.0$ &nbsp;&nbsp;$4.00115855941051$ &nbsp;&nbsp;$2.99949447075342$ &nbsp;&nbsp;"
      ],
      "text/plain": [
       "<IPython.core.display.HTML object>"
      ]
     },
     "execution_count": 136,
     "metadata": {},
     "output_type": "execute_result"
    }
   ],
   "source": [
    "E6 = E5 * 3\n",
    "RTL(E6)"
   ]
  },
  {
   "cell_type": "code",
   "execution_count": 137,
   "id": "7ae42f75-6dd2-48c3-8948-467e26a98669",
   "metadata": {},
   "outputs": [],
   "source": [
    "# empirical formula is 3:4:3"
   ]
  },
  {
   "cell_type": "code",
   "execution_count": 138,
   "id": "cfc50524-98d6-4f7b-a968-a53a52256f79",
   "metadata": {},
   "outputs": [
    {
     "data": {
      "text/latex": [
       "$\\displaystyle 0.312886633130015 mol$"
      ],
      "text/plain": [
       "0.312886633130015*mol"
      ]
     },
     "execution_count": 138,
     "metadata": {},
     "output_type": "execute_result"
    }
   ],
   "source": [
    "# Find empirical formula\n",
    "E1 = 3.758 * u.grams * (1 / ((mm.Formula(\"C\").mass * u.grams) / mol))\n",
    "E1"
   ]
  },
  {
   "cell_type": "code",
   "execution_count": 139,
   "id": "00eebda4-eb21-4cd6-a7d6-d047e6321d0a",
   "metadata": {},
   "outputs": [
    {
     "data": {
      "text/latex": [
       "$\\displaystyle 0.313510413803983 mol$"
      ],
      "text/plain": [
       "0.313510413803983*mol"
      ]
     },
     "execution_count": 139,
     "metadata": {},
     "output_type": "execute_result"
    }
   ],
   "source": [
    "E2 = .316 * u.grams * (1 / ((mm.Formula(\"H\").mass * u.grams) / mol))\n",
    "E2"
   ]
  },
  {
   "cell_type": "code",
   "execution_count": 140,
   "id": "99aa879a-dfd5-4428-8ac2-dfaed646171b",
   "metadata": {},
   "outputs": [
    {
     "data": {
      "text/latex": [
       "$\\displaystyle 0.0781904077057865 mol$"
      ],
      "text/plain": [
       "0.0781904077057865*mol"
      ]
     },
     "execution_count": 140,
     "metadata": {},
     "output_type": "execute_result"
    }
   ],
   "source": [
    "E3 = 1.251 * u.gram * (1 / ((mm.Formula(\"O\").mass * u.grams) / mol))\n",
    "E3"
   ]
  },
  {
   "cell_type": "code",
   "execution_count": 141,
   "id": "9c52c22a-0a0b-4f7d-a9d3-c45c543cca61",
   "metadata": {},
   "outputs": [
    {
     "data": {
      "text/html": [
       "$4.00159869107397$ &nbsp;&nbsp;$4.00957640461032$ &nbsp;&nbsp;$1.0$ &nbsp;&nbsp;"
      ],
      "text/plain": [
       "<IPython.core.display.HTML object>"
      ]
     },
     "execution_count": 141,
     "metadata": {},
     "output_type": "execute_result"
    }
   ],
   "source": [
    "E4 = np.array([E1, E2, E3]) / E3\n",
    "RTL(E4)"
   ]
  },
  {
   "cell_type": "code",
   "execution_count": 142,
   "id": "2d392fc9-a851-46f5-ad69-78c1077d6120",
   "metadata": {},
   "outputs": [
    {
     "data": {
      "text/latex": [
       "$\\displaystyle \\frac{40.063984 \\text{g}}{mol}$"
      ],
      "text/plain": [
       "40.063984*gram/mol"
      ]
     },
     "execution_count": 142,
     "metadata": {},
     "output_type": "execute_result"
    }
   ],
   "source": [
    "E1 = (mm.Formula(\"C3H4\").mass * u.grams) / mol\n",
    "E1"
   ]
  },
  {
   "cell_type": "code",
   "execution_count": 143,
   "id": "a1a1df40-82e9-4e56-ba6e-7b8b3fa14dd9",
   "metadata": {},
   "outputs": [],
   "source": [
    "# C3H4 becomes C9H12"
   ]
  },
  {
   "cell_type": "code",
   "execution_count": 144,
   "id": "746d679e-198b-413b-9c94-c8e3e3dca953",
   "metadata": {},
   "outputs": [
    {
     "data": {
      "text/latex": [
       "$\\displaystyle 3.22211620599563 mol$"
      ],
      "text/plain": [
       "3.22211620599563*mol"
      ]
     },
     "execution_count": 144,
     "metadata": {},
     "output_type": "execute_result"
    }
   ],
   "source": [
    "# Practice exercise\n",
    "mol = sp.symbols('mol')\n",
    "E1 = 38.7 * u.gram * (1 / ((mm.Formula(\"C\").mass * u.grams) / mol))\n",
    "E1"
   ]
  },
  {
   "cell_type": "code",
   "execution_count": 145,
   "id": "3d5ca219-376a-4a8d-b61e-407a8818486f",
   "metadata": {},
   "outputs": [
    {
     "data": {
      "text/latex": [
       "$\\displaystyle 9.62357915790706 mol$"
      ],
      "text/plain": [
       "9.62357915790706*mol"
      ]
     },
     "execution_count": 145,
     "metadata": {},
     "output_type": "execute_result"
    }
   ],
   "source": [
    "E2 = 9.7 * u.gram * (1 / ((mm.Formula(\"H\").mass * u.grams) / mol))\n",
    "E2"
   ]
  },
  {
   "cell_type": "code",
   "execution_count": 146,
   "id": "3268c93c-9e8d-4e8d-afed-723f595cd147",
   "metadata": {},
   "outputs": [
    {
     "data": {
      "text/latex": [
       "$\\displaystyle 3.22511993414755 mol$"
      ],
      "text/plain": [
       "3.22511993414755*mol"
      ]
     },
     "execution_count": 146,
     "metadata": {},
     "output_type": "execute_result"
    }
   ],
   "source": [
    "E3 = 51.6 * u.grams * (1 / ((mm.Formula(\"O\").mass * u.grams) / mol))\n",
    "E3"
   ]
  },
  {
   "cell_type": "code",
   "execution_count": 148,
   "id": "28d3334b-cb33-4d1e-9608-06351500aaaf",
   "metadata": {},
   "outputs": [
    {
     "data": {
      "text/html": [
       "$1.0$ &nbsp;&nbsp;$2.98672628255919$ &nbsp;&nbsp;$1.00093222216701$ &nbsp;&nbsp;"
      ],
      "text/plain": [
       "<IPython.core.display.HTML object>"
      ]
     },
     "execution_count": 148,
     "metadata": {},
     "output_type": "execute_result"
    }
   ],
   "source": [
    "E4 = np.array([E1, E2, E3]) / E1\n",
    "RTL(E4)"
   ]
  },
  {
   "cell_type": "code",
   "execution_count": 149,
   "id": "c0862e87-cd43-4c65-93f6-242a80a4a675",
   "metadata": {},
   "outputs": [
    {
     "data": {
      "text/latex": [
       "$\\displaystyle \\frac{31.033968 \\text{g}}{mol}$"
      ],
      "text/plain": [
       "31.033968*gram/mol"
      ]
     },
     "execution_count": 149,
     "metadata": {},
     "output_type": "execute_result"
    }
   ],
   "source": [
    "# CH30\n",
    "E5 = (mm.Formula(\"CH3O\").mass * u.gram) / mol\n",
    "E5"
   ]
  },
  {
   "cell_type": "code",
   "execution_count": null,
   "id": "eb1147ad-f6ef-4953-8c87-6d536ae7f780",
   "metadata": {},
   "outputs": [],
   "source": [
    "# Sample Exercise 3.15\n",
    "\n",
    "# .561g of CO2\n",
    "# .306g of H2O\n",
    "\n",
    "# Find how much carbon in \n",
    "\n"
   ]
  }
 ],
 "metadata": {
  "kernelspec": {
   "display_name": "Python 3",
   "language": "python",
   "name": "python3"
  },
  "language_info": {
   "codemirror_mode": {
    "name": "ipython",
    "version": 3
   },
   "file_extension": ".py",
   "mimetype": "text/x-python",
   "name": "python",
   "nbconvert_exporter": "python",
   "pygments_lexer": "ipython3",
   "version": "3.9.2"
  }
 },
 "nbformat": 4,
 "nbformat_minor": 5
}
