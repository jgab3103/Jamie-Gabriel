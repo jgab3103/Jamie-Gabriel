{
 "cells": [
  {
   "cell_type": "markdown",
   "id": "7212eac4-162a-43db-bb69-9a10f0e318d7",
   "metadata": {},
   "source": [
    "Research, \n",
    "\n",
    "Problem - \n",
    "\n",
    "Mathematics\n",
    "\n",
    "Linear Algebra\n",
    "\n",
    "\n",
    "Many questoins in research are multidiscplinary and difficult to answer, and lead to the need to work on bigger questions such as "
   ]
  },
  {
   "cell_type": "code",
   "execution_count": null,
   "id": "add721cb-3a3e-4bbb-abc8-2bb565f2c4b0",
   "metadata": {},
   "outputs": [],
   "source": []
  }
 ],
 "metadata": {
  "kernelspec": {
   "display_name": "Python 3",
   "language": "python",
   "name": "python3"
  },
  "language_info": {
   "codemirror_mode": {
    "name": "ipython",
    "version": 3
   },
   "file_extension": ".py",
   "mimetype": "text/x-python",
   "name": "python",
   "nbconvert_exporter": "python",
   "pygments_lexer": "ipython3",
   "version": "3.9.2"
  }
 },
 "nbformat": 4,
 "nbformat_minor": 5
}
