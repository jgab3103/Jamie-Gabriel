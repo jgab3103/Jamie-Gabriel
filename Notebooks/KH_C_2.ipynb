{
 "cells": [
  {
   "cell_type": "code",
   "execution_count": 22,
   "id": "6dd866d6-49eb-4efc-94c5-70044517bc26",
   "metadata": {},
   "outputs": [],
   "source": [
    "# !pip install chempy\n",
    "# !pip install periodictable\n",
    "# !pip install PyAstronomy\n",
    "# !pip install molmass\n",
    "#!pip install rdkit\n",
    "\n",
    "import periodictable as pt\n",
    "import chempy as ch\n",
    "import numpy as np\n",
    "import sympy as sp\n",
    "import molmass as mm\n",
    "import pickle\n",
    "from IPython.display import HTML\n",
    "import ipywidgets as widgets\n",
    "import matplotlib as mpl\n",
    "import matplotlib.pyplot as plt\n",
    "from mpl_toolkits.mplot3d import Axes3D\n",
    "import matplotlib.pyplot as plt\n",
    "mpl.rcParams['legend.fontsize'] = 10\n",
    "import pandas as pd\n",
    "import itertools\n",
    "pd.set_option('display.max_colwidth', None)\n",
    "from sympy.plotting import plot \n",
    "from IPython.display import Image\n",
    "from PyAstronomy import pyasl\n",
    "import decimal\n",
    "import sympy.physics.units as u\n",
    "from sympy.physics.units.systems import SI\n",
    "from rdkit import Chem\n",
    "from rdkit.Chem import Draw\n",
    "\n",
    "\n",
    "from sympy.physics.units import speed_of_light, meter, gram, second, day, pound\n",
    "from sympy.physics.units import mile, newton, kilogram, atomic_mass_constant\n",
    "from sympy.physics.units import kilometer, centimeter, millimeter, nanometer\n",
    "from sympy.physics.units import gravitational_constant, hbar, kPa, newton\n",
    "from sympy.physics.units import convert_to\n",
    "\n",
    "def RTL(e):\n",
    "    \"\"\"INPUT PARAMS: [] of math expressions\"\"\"\n",
    "    latex_rendering = []\n",
    "\n",
    "    for i in range(len(e)):\n",
    "        latex_rendering.append(\"$\" + sp.latex(e[i]) + \"$ &nbsp;&nbsp;\")\n",
    "    \n",
    "    return(HTML(\"\".join(latex_rendering[0:])))\n",
    "\n",
    "def BalanceChemEquation(L, R):\n",
    "    \"\"\" INPUT PARAMS: 2 * {} containing react and prod\"\"\"\n",
    "    reac, prod = ch.balance_stoichiometry(L, R)\n",
    "    Reaction = ch.Reaction(reac, prod)\n",
    "    return([Reaction, [reac, prod]])\n",
    "    \n",
    "\n",
    "class Atom: \n",
    "    def __init__(self, pCount, nCount, eCount):\n",
    "        \"\"\"INPUT PARAMS: countOfProtons, countOfNeutrons, countOfElectrons\"\"\"\n",
    "        \n",
    "        an = pyasl.AtomicNo()\n",
    "        \n",
    "        self.Protons = pCount\n",
    "        self.Neutrons = nCount\n",
    "        self.Electrons = eCount\n",
    "        self.ElementName = an.getElementName(pCount)\n",
    "        self.ElementNameWithAtomicMass = an.getElementName(pCount) + \"(\" + str(self.Protons) + \",\" + str(self.Protons + self.Neutrons) + \")\"\n",
    "    \n",
    "    def CreateSummary(self):\n",
    "        print(\"Name: \", self.ElementName)\n",
    "        print(\"Protons: \", self.Protons)\n",
    "        print(\"Neutrons: \", self.Neutrons)\n",
    "        print(\"Electrons: \", self.Electrons)"
   ]
  },
  {
   "cell_type": "markdown",
   "id": "ff71a2ca-850e-4640-aaad-2649aede0867",
   "metadata": {},
   "source": [
    "#### Gravimetric Analysis\n",
    "\n",
    "<b>Note</b>: The technique to determine mass of substance is called <b>Gravimetric Analysis</b>. The approaches, <i>Volatization</i> and <i>Preciptitation</i>"
   ]
  },
  {
   "cell_type": "code",
   "execution_count": 10,
   "id": "5c731313-6c3c-4d89-85f8-a3380705a4f8",
   "metadata": {},
   "outputs": [],
   "source": [
    "# Problem\n",
    "# Determine the purity of metal\n",
    "# Consider the following compound of metal hydrate\n",
    "# BaCl2 . 2H2O\n",
    "# this has been mixed with unknown amount of KCl\n",
    "# \n",
    "# Aim to find purity of metal hydrate - do this by heating\n",
    "# Before heating: BaCL2 . 2H2O (and some KCl) is 9.51g\n",
    "# After heating:  BaCL2 . 2H2O (and some KCl) is 9.14g\n",
    "\n",
    "# What is mass % of hydrate in the mixture\n",
    "# Note the heating process evaporated the the H20 into a gass\n",
    "\n",
    "# The reaction is: \n",
    "# BaCl2 + 2H2O after heating"
   ]
  },
  {
   "cell_type": "code",
   "execution_count": 11,
   "id": "f12c7746-937b-44e1-b24a-9a88f6984a07",
   "metadata": {},
   "outputs": [
    {
     "data": {
      "text/latex": [
       "$\\displaystyle 0.369999999999999 \\text{g}$"
      ],
      "text/plain": [
       "0.369999999999999*gram"
      ]
     },
     "execution_count": 11,
     "metadata": {},
     "output_type": "execute_result"
    }
   ],
   "source": [
    "# This gives a mol ratio 1:2\n",
    "# Consider the change in mass to figure out how much water has been lost\n",
    "E1 = 9.51 * u.gram - 9.14 * u.gram\n",
    "E1"
   ]
  },
  {
   "cell_type": "code",
   "execution_count": 12,
   "id": "543366af-339e-4eb6-b415-61665cc23a9f",
   "metadata": {},
   "outputs": [
    {
     "data": {
      "text/latex": [
       "$\\displaystyle 0.0205381129925934 mol$"
      ],
      "text/plain": [
       "0.0205381129925934*mol"
      ]
     },
     "execution_count": 12,
     "metadata": {},
     "output_type": "execute_result"
    }
   ],
   "source": [
    "# Now see how many woles of water this is\n",
    "mol = sp.symbols('mol')\n",
    "E2 = 1 / (mm.Formula(\"H2O\").mass * u.grams / mol)\n",
    "E3 = E1 * E2\n",
    "# The amount of moles that have been lost in water\n",
    "E3"
   ]
  },
  {
   "cell_type": "code",
   "execution_count": 13,
   "id": "edcb1922-5c1a-4eb5-adf2-3379bead3b1d",
   "metadata": {},
   "outputs": [
    {
     "data": {
      "text/latex": [
       "$\\displaystyle 0.0102690564962967 mol$"
      ],
      "text/plain": [
       "0.0102690564962967*mol"
      ]
     },
     "execution_count": 13,
     "metadata": {},
     "output_type": "execute_result"
    }
   ],
   "source": [
    "# Note that, due to the balanced reaction, there must be half the amoutn of \n",
    "# BaCl2\n",
    "E4 = E3 / 2\n",
    "E4\n"
   ]
  },
  {
   "cell_type": "code",
   "execution_count": 19,
   "id": "81a60680-ecbe-4aba-905f-9720f8e58c84",
   "metadata": {},
   "outputs": [
    {
     "data": {
      "text/latex": [
       "$\\displaystyle \\frac{244.263374 \\text{g}}{mol}$"
      ],
      "text/plain": [
       "244.263374*gram/mol"
      ]
     },
     "execution_count": 19,
     "metadata": {},
     "output_type": "execute_result"
    }
   ],
   "source": [
    "# Convert moles in reactant to mass in grams \n",
    "\n",
    "E5 = mm.Formula(\"BaCl2\").mass * u.grams / mol\n",
    "E6 = 2 * mm.Formula(\"H2O\").mass * u.grams / mol\n",
    "E7 = E5 + E6\n",
    "E7"
   ]
  },
  {
   "cell_type": "code",
   "execution_count": 20,
   "id": "2c83425b-6aff-433e-85be-1995ee448f19",
   "metadata": {},
   "outputs": [],
   "source": [
    "# !!"
   ]
  },
  {
   "cell_type": "markdown",
   "id": "97374fcb-559d-457f-9b5d-4bbfadefee80",
   "metadata": {},
   "source": [
    "#### Molecular composition\n",
    "\n",
    "<b>Note</b> molecules can be named in different ways\n",
    "\n",
    "<b>Note</b> The <i>Empirical Formula</i> (observation based) comes from ratio (e.g.) Benzine is CH\n",
    "\n",
    "<b>Note</b> The <i>Molecular Formula</i> tells exact number of atoms in molecule: C6H6\n",
    "\n",
    "<b>Note</b> The <i>Structural Formula</i> tells structure, like a network or even in 3D"
   ]
  },
  {
   "cell_type": "code",
   "execution_count": 25,
   "id": "a039ca63-efbc-40a4-8a4c-ec712060a4bb",
   "metadata": {},
   "outputs": [
    {
     "data": {
      "image/png": "[encoded data removed]",
      "text/plain": [
       "<Figure size 86.4x86.4 with 1 Axes>"
      ]
     },
     "metadata": {
      "needs_background": "light"
     },
     "output_type": "display_data"
    }
   ],
   "source": [
    "# Note that molecules can be drawn using SMILES language\n",
    "m = Chem.MolFromSmiles('C1=C2C(=CC(=C1Cl)Cl)OC3=CC(=C(C=C3O2)Cl)Cl')\n",
    "fig = Draw.MolToMPL(m, size=size)"
   ]
  },
  {
   "cell_type": "code",
   "execution_count": 27,
   "id": "b593da76-ff7f-4d1d-ae38-13bcd3e84a9e",
   "metadata": {},
   "outputs": [
    {
     "data": {
      "text/latex": [
       "$\\displaystyle \\frac{180.156162 \\text{g}}{mol}$"
      ],
      "text/plain": [
       "180.156162*gram/mol"
      ]
     },
     "execution_count": 27,
     "metadata": {},
     "output_type": "execute_result"
    }
   ],
   "source": [
    "# Problem: Find mass percent of element in a compound\n",
    "# C6H12O6\n",
    "# Find total mass\n",
    "mol = sp.symbols(\"mol\")\n",
    "E1 = mm.Formula(\"C6H12O6\").mass * u.grams / mol\n",
    "E1"
   ]
  },
  {
   "cell_type": "code",
   "execution_count": 32,
   "id": "22cffac1-b335-446d-92df-348081046e03",
   "metadata": {},
   "outputs": [
    {
     "data": {
      "text/latex": [
       "$\\displaystyle \\frac{72.06444 \\text{g}}{mol}$"
      ],
      "text/plain": [
       "72.06444*gram/mol"
      ]
     },
     "execution_count": 32,
     "metadata": {},
     "output_type": "execute_result"
    }
   ],
   "source": [
    "# Find mass of consituents. First C6\n",
    "E2 = mm.Formula(\"C6\").mass * u.grams / mol\n",
    "E2"
   ]
  },
  {
   "cell_type": "code",
   "execution_count": 33,
   "id": "9d6cb1f5-0f6b-4de2-94a4-c7676614fcad",
   "metadata": {},
   "outputs": [
    {
     "data": {
      "text/latex": [
       "$\\displaystyle \\frac{12.095292 \\text{g}}{mol}$"
      ],
      "text/plain": [
       "12.095292*gram/mol"
      ]
     },
     "execution_count": 33,
     "metadata": {},
     "output_type": "execute_result"
    }
   ],
   "source": [
    "# Mass of H12\n",
    "E3 = mm.Formula(\"H12\").mass * u.grams / mol\n",
    "E3"
   ]
  },
  {
   "cell_type": "code",
   "execution_count": 34,
   "id": "0577c60f-50e5-4391-b267-323d692a029e",
   "metadata": {},
   "outputs": [
    {
     "data": {
      "text/latex": [
       "$\\displaystyle \\frac{95.99643 \\text{g}}{mol}$"
      ],
      "text/plain": [
       "95.99643*gram/mol"
      ]
     },
     "execution_count": 34,
     "metadata": {},
     "output_type": "execute_result"
    }
   ],
   "source": [
    "# Mass of O6\n",
    "E4 = mm.Formula(\"O6\").mass * u.grams / mol\n",
    "E4"
   ]
  },
  {
   "cell_type": "code",
   "execution_count": 35,
   "id": "cb4273da-119c-4064-8da1-1601c5a30a8e",
   "metadata": {},
   "outputs": [
    {
     "data": {
      "text/plain": [
       "True"
      ]
     },
     "execution_count": 35,
     "metadata": {},
     "output_type": "execute_result"
    }
   ],
   "source": [
    "# Note that each mass sums to the whole amount: \n",
    "E2 + E3 + E4 == E1"
   ]
  },
  {
   "cell_type": "code",
   "execution_count": 36,
   "id": "cb777f17-3a71-4f14-9bac-56fee2815edd",
   "metadata": {},
   "outputs": [
    {
     "data": {
      "text/html": [
       "$40.0010963821487$ &nbsp;&nbsp;$6.71378201318476$ &nbsp;&nbsp;$53.2851216046665$ &nbsp;&nbsp;"
      ],
      "text/plain": [
       "<IPython.core.display.HTML object>"
      ]
     },
     "execution_count": 36,
     "metadata": {},
     "output_type": "execute_result"
    }
   ],
   "source": [
    "# Find mass percent\n",
    "E5 = E2 / E1 * 100\n",
    "E6 = E3 / E1 * 100\n",
    "E7 = E4 / E1 * 100\n",
    "RTL([E5, E6, E7])"
   ]
  },
  {
   "cell_type": "code",
   "execution_count": null,
   "id": "22980019-9b6b-4831-a067-4c7a98749e60",
   "metadata": {},
   "outputs": [],
   "source": []
  }
 ],
 "metadata": {
  "kernelspec": {
   "display_name": "Python 3",
   "language": "python",
   "name": "python3"
  },
  "language_info": {
   "codemirror_mode": {
    "name": "ipython",
    "version": 3
   },
   "file_extension": ".py",
   "mimetype": "text/x-python",
   "name": "python",
   "nbconvert_exporter": "python",
   "pygments_lexer": "ipython3",
   "version": "3.9.2"
  }
 },
 "nbformat": 4,
 "nbformat_minor": 5
}
