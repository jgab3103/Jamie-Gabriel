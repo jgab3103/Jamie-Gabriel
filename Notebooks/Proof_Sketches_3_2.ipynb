{
 "cells": [
  {
   "cell_type": "code",
   "execution_count": 1,
   "metadata": {},
   "outputs": [],
   "source": [
    "import sympy as sp\n",
    "import numpy as np\n",
    "import shared_functions as sf"
   ]
  },
  {
   "cell_type": "markdown",
   "metadata": {},
   "source": [
    "<h4>Summary: </h4><br/>\n",
    "\n",
    "\n",
    "\n",
    "<h4>References:</h4><br/>"
   ]
  },
  {
   "cell_type": "markdown",
   "metadata": {},
   "source": [
    "[Proof 3_2_10](#3_2_10)<br/>\n",
    "<i>Proposition:</i> If A and B are points, then $s(\\overrightarrow{AA})=0,$ and $s(\\overrightarrow{BA})=-s(\\overrightarrow{AB}).$\n",
    "\n",
    "<br/><i>Related definitions:</i>\n",
    "<br/>$s(\\overrightarrow{AA})=0$\n",
    "<br/>$s(\\overrightarrow{BA})=-s(\\overrightarrow{AB})$\n",
    "\n",
    "<br/><i>Related name:</i>Properties of oriented edge\n",
    "\n",
    "[Proof 3_2_13_i](#3_2_13_i)<br/>\n",
    "<i>Proposition:</i> Given a sequence of affine points definted by the rule $A_i=[i-1,i^2]$ for $i=1,2,\\ldots,100$.The signed area or an orientated polygonal spline $s(\\overrightarrow{A_iA_{i+1}})$ for any i in the range 0 to 99 will be $$\\frac 12 (i^2-i-1)$$\n",
    "\n",
    "\n",
    "<br/><i>Related name:</i>A quadratic orentated polygonal spline\n",
    "\n",
    "\n",
    "[Proof 3_2_13_i](#3_2_13_i)<br/>\n",
    "<i>Proposition:</i> Given a sequence of affine points definted by the rule $A_i=[i-1,i^2]$ for $i=1,2,\\ldots,100$.The signed area or an orientated polygonal spline $s(\\overrightarrow{A_iA_{i+1}})$ for any i in the range 0 to 99 will be $$\\frac 12 (i^2-i-1)$$\n",
    "\n",
    "\n",
    "<br/><i>Related name:</i>A quadratic orentated polygonal spline\n",
    "\n",
    "\n",
    "\n",
    "\n",
    "\n",
    "\n",
    "\n",
    "<hr/>\n"
   ]
  },
  {
   "cell_type": "code",
   "execution_count": null,
   "metadata": {},
   "outputs": [],
   "source": []
  },
  {
   "cell_type": "code",
   "execution_count": null,
   "metadata": {},
   "outputs": [],
   "source": []
  },
  {
   "cell_type": "code",
   "execution_count": null,
   "metadata": {},
   "outputs": [],
   "source": []
  },
  {
   "cell_type": "code",
   "execution_count": null,
   "metadata": {},
   "outputs": [],
   "source": []
  },
  {
   "cell_type": "code",
   "execution_count": null,
   "metadata": {},
   "outputs": [],
   "source": []
  },
  {
   "cell_type": "code",
   "execution_count": null,
   "metadata": {},
   "outputs": [],
   "source": []
  },
  {
   "cell_type": "code",
   "execution_count": null,
   "metadata": {},
   "outputs": [],
   "source": []
  },
  {
   "cell_type": "markdown",
   "metadata": {},
   "source": [
    "### 3_2_10 <a class=\"anchor\" id=\"3_2_10\"></a>\n",
    "<i>Proposition:</i> If A and B are points, then $s(\\overrightarrow{AA})=0,$ and $s(\\overrightarrow{BA})=-s(\\overrightarrow{AB}).$\n",
    "\n",
    "<br/><i>Related definitions:</i>\n",
    "<br/>$s(\\overrightarrow{AA})=0$\n",
    "<br/>$s(\\overrightarrow{BA})=-s(\\overrightarrow{AB})$\n",
    "\n",
    "<br/><i>Related name:</i>Properties of oriented edge\n",
    "\n",
    "\n",
    "\n"
   ]
  },
  {
   "cell_type": "code",
   "execution_count": null,
   "metadata": {},
   "outputs": [],
   "source": []
  }
 ],
 "metadata": {
  "kernelspec": {
   "display_name": "SageMath 9.0",
   "language": "sage",
   "name": "sagemath"
  },
  "language_info": {
   "codemirror_mode": {
    "name": "ipython",
    "version": 3
   },
   "file_extension": ".py",
   "mimetype": "text/x-python",
   "name": "python",
   "nbconvert_exporter": "python",
   "pygments_lexer": "ipython3",
   "version": "3.7.3"
  }
 },
 "nbformat": 4,
 "nbformat_minor": 4
}
