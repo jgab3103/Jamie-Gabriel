{
 "cells": [
  {
   "cell_type": "code",
   "execution_count": 2,
   "metadata": {},
   "outputs": [],
   "source": [
    "import numpy as np\n",
    "import shared_functions as sf\n",
    "import sympy as sp\n",
    "from IPython.display import HTML\n",
    "import matplotlib.pyplot as plt"
   ]
  },
  {
   "cell_type": "markdown",
   "metadata": {},
   "source": [
    "In the last notebook, we introduced some new data strcutures, and formalised idea of oriented polygonal splines. We started with parabolic, two sides similiar problem, cosntructing. It also goes back to an exciting idea, what if we kept on growing the polygon as the size of our polygon's sides grow, we can start thinking about estimating. There is a temptation to relate this idea to as sides get smaller and smaller, they somehow contract to points, calculus. But that's doesn't make any sense. All we are really saying is that for a curve, we can construct an oriented spline to approximate a curve\n",
    "\n",
    "Note that in the last few notebooks we have been really grappling with 2 different ideas. The first is about finding the singed area of orientated polygons, whose vertices satisfy some kind of paramateisationi. The second idea is about constructing paths that around edges. \n",
    "\n",
    "Let's now try and bring these two ideas together. Let's construct a series of orientated edges that form orientated polygonal spline that chartes the area the curve itsef and see what we can find out the idea of using points on a parameterisation, and this related idea \n",
    "\n",
    "Let's return to the parabola and and this time, note that we can construct an orientated edge between two points that meet the parameterisation"
   ]
  },
  {
   "cell_type": "code",
   "execution_count": 30,
   "metadata": {},
   "outputs": [
    {
     "data": {
      "text/plain": [
       "[<matplotlib.lines.Line2D object at 0x7fb6a3262b38>]"
      ]
     },
     "execution_count": 30,
     "metadata": {},
     "output_type": "execute_result"
    },
    {
     "data": {
      "image/png": "[encoded data removed]",
      "text/plain": [
       "<Figure size 432x288 with 2 Axes>"
      ]
     },
     "metadata": {},
     "output_type": "display_data"
    }
   ],
   "source": [
    "\n",
    "x2 = np.arange(start=-7, stop=8, step=1)\n",
    "y2 = x2^2\n",
    "\n",
    "points_for_plotting_2 = np.array([[0,0], [5,25]])\n",
    "x3 = [e[0] for e in points_for_plotting_2]\n",
    "y3 = [e[1] for e in points_for_plotting_2]\n",
    "\n",
    "points_for_plotting = np.array([[0,0], [2,4], [5, 25]])\n",
    "x1 = [e[0] for e in points_for_plotting]\n",
    "y1 = [e[1] for e in points_for_plotting]\n",
    "\n",
    "\n",
    "\n",
    "fig, axs = plt.subplots(1, 2)\n",
    "fig.suptitle('Orientated Polygonal Spline approximating parabola')\n",
    "\n",
    "axs[0].plot(x2, y2, 'b')\n",
    "axs[0].plot(x3, y3, 'r')\n",
    "axs[1].plot(x2, y2, 'b')\n",
    "axs[1].plot(x1, y1, 'r')"
   ]
  },
  {
   "cell_type": "markdown",
   "metadata": {},
   "source": [
    "And we can also see this as being cyclic and having an area we deal with:"
   ]
  },
  {
   "cell_type": "markdown",
   "metadata": {},
   "source": []
  },
  {
   "cell_type": "markdown",
   "metadata": {},
   "source": [
    "we will start by "
   ]
  },
  {
   "cell_type": "code",
   "execution_count": null,
   "metadata": {},
   "outputs": [],
   "source": []
  },
  {
   "cell_type": "code",
   "execution_count": null,
   "metadata": {},
   "outputs": [],
   "source": [
    "\n"
   ]
  },
  {
   "cell_type": "code",
   "execution_count": null,
   "metadata": {},
   "outputs": [],
   "source": []
  },
  {
   "cell_type": "code",
   "execution_count": null,
   "metadata": {},
   "outputs": [],
   "source": []
  },
  {
   "cell_type": "code",
   "execution_count": null,
   "metadata": {},
   "outputs": [],
   "source": []
  },
  {
   "cell_type": "code",
   "execution_count": null,
   "metadata": {},
   "outputs": [],
   "source": []
  },
  {
   "cell_type": "code",
   "execution_count": null,
   "metadata": {},
   "outputs": [],
   "source": []
  },
  {
   "cell_type": "code",
   "execution_count": null,
   "metadata": {},
   "outputs": [],
   "source": []
  },
  {
   "cell_type": "code",
   "execution_count": null,
   "metadata": {},
   "outputs": [],
   "source": []
  },
  {
   "cell_type": "code",
   "execution_count": null,
   "metadata": {},
   "outputs": [],
   "source": []
  },
  {
   "cell_type": "code",
   "execution_count": null,
   "metadata": {},
   "outputs": [],
   "source": []
  },
  {
   "cell_type": "code",
   "execution_count": null,
   "metadata": {},
   "outputs": [],
   "source": []
  },
  {
   "cell_type": "code",
   "execution_count": null,
   "metadata": {},
   "outputs": [],
   "source": []
  },
  {
   "cell_type": "code",
   "execution_count": null,
   "metadata": {},
   "outputs": [],
   "source": []
  },
  {
   "cell_type": "code",
   "execution_count": null,
   "metadata": {},
   "outputs": [],
   "source": []
  },
  {
   "cell_type": "code",
   "execution_count": null,
   "metadata": {},
   "outputs": [],
   "source": []
  },
  {
   "cell_type": "code",
   "execution_count": null,
   "metadata": {},
   "outputs": [],
   "source": []
  },
  {
   "cell_type": "code",
   "execution_count": null,
   "metadata": {},
   "outputs": [],
   "source": []
  },
  {
   "cell_type": "code",
   "execution_count": null,
   "metadata": {},
   "outputs": [],
   "source": []
  },
  {
   "cell_type": "code",
   "execution_count": null,
   "metadata": {},
   "outputs": [],
   "source": []
  },
  {
   "cell_type": "markdown",
   "metadata": {},
   "source": [
    "In this notebook we will extend the idea of Parabolic splines and archimedes\n",
    "\n",
    "Oldes calculation from Archimedes, use the language and orientation of polygonal splines and go back to this idea\n",
    "\n",
    "Object of interest is parabola, y = x^2, simplest after straight line. Studied by Appoloinesu, Archimedeis - studied as a conic section, we will look at it from cartestin point of view - parabola has paramaterisation - systematically describe the points, parameterisation of curve (but we haven't defined curve)\n",
    "\n",
    "How to define areas associate areas to this parabola. \n",
    "\n",
    "We have writen down parametisaton, but we can't get at all points on curve - we can't get all points, parameterisation is limited - but we can aspire to precise points, linear approximation \n",
    "\n",
    "Start with parabolic spline - look at 1, 1 and 2,4 and 3,9 - we can create a spline. Not same as curve, approximation to it. We can have signed area of segment, adding all edges. Segment signed areas is not cyclic - we - but simple to find the signed area of OPS which is integral approximation to part of curve y = x^2\n",
    "\n",
    "We also are interested to more general computations - what if we went from A0 to AN.....what would this structure look like \n",
    "\n",
    "What is signed areas of this whole thing....\n",
    "\n",
    "Look at Ak-1 value, variable index k - leads us to trianglur - singed area of 1 of edges up to k are trianglular numbers.....famous sequence goign back to ancient greeks - A000217 in sloanes numbers that appeared as singed areas in our polygonal spline....\n",
    "\n",
    "When we add the triangular numbers together, we get pyramidal numbers - so for multiple  A000292- pyramidal \n",
    "\n",
    "Related application - OPS can estimate curves over fixed region to higher to precision - idea of subdividing  - and then looking ag signed area - subdivide particular region in n different pieces, what would that formula look like - we can calculateboth signed area of genral, adnn signed area of whole area - note parab tends to 1/6 area\n",
    "\n",
    "Note triangle on with A, B on parab - OAB is 1/6 1/6 = 4/3\n",
    "\n",
    "Archimedes (250BC) made calculus computation with a curve Archimedes parabolic area theorem - area of a parabolic arc is 4/3 of area of maximal triangle incscribed in it. Achimedes linked to axis, not 0...jg find maximal triangle - archimedes first to tell uskk"
   ]
  }
 ],
 "metadata": {
  "kernelspec": {
   "display_name": "SageMath 9.0",
   "language": "sage",
   "name": "sagemath"
  },
  "language_info": {
   "codemirror_mode": {
    "name": "ipython",
    "version": 3
   },
   "file_extension": ".py",
   "mimetype": "text/x-python",
   "name": "python",
   "nbconvert_exporter": "python",
   "pygments_lexer": "ipython3",
   "version": "3.7.3"
  }
 },
 "nbformat": 4,
 "nbformat_minor": 4
}
