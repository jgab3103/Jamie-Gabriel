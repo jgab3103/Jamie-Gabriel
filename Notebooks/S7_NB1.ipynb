{
 "cells": [
  {
   "cell_type": "code",
   "execution_count": 7,
   "id": "6dd866d6-49eb-4efc-94c5-70044517bc26",
   "metadata": {},
   "outputs": [],
   "source": [
    "# !pip install chempy\n",
    "# !pip install periodictable\n",
    "# !pip install PyAstronomy\n",
    "\n",
    "import periodictable as pt\n",
    "import chempy as ch\n",
    "import numpy as np\n",
    "import sympy as sp\n",
    "import pickle\n",
    "from IPython.display import HTML\n",
    "import ipywidgets as widgets\n",
    "import matplotlib as mpl\n",
    "import matplotlib.pyplot as plt\n",
    "from mpl_toolkits.mplot3d import Axes3D\n",
    "import matplotlib.pyplot as plt\n",
    "mpl.rcParams['legend.fontsize'] = 10\n",
    "import pandas as pd\n",
    "import itertools\n",
    "pd.set_option('display.max_colwidth', None)\n",
    "from sympy.plotting import plot \n",
    "from IPython.display import Image\n",
    "from PyAstronomy import pyasl\n",
    "\n",
    "\n",
    "# Render to Latex function \n",
    "def RTL(e):\n",
    "    latex_rendering = []\n",
    "\n",
    "    for i in range(len(e)):\n",
    "        latex_rendering.append(\"$\" + sp.latex(e[i]) + \"$ &nbsp;&nbsp;\")\n",
    "    \n",
    "    return(HTML(\"\".join(latex_rendering[0:])))"
   ]
  },
  {
   "cell_type": "markdown",
   "id": "9807f1a5-06fb-4186-934e-66b5b5f3957c",
   "metadata": {},
   "source": [
    "### Biology Notes\n",
    "\n",
    "\n",
    "\n",
    "- Elements and Atoms\n"
   ]
  },
  {
   "cell_type": "markdown",
   "id": "a98f6d2a-c16f-4861-8fc8-a0ea4fe168fc",
   "metadata": {},
   "source": [
    "#### Elements and Atoms\n",
    "\n",
    "<b>Note</b>. All matter is made of element, and that the periodic table lists differnt types of elements that have different properties, single instance of \n",
    "\n",
    "<b>Note</b> 1 million carbon atoms across width of average human hair\n",
    "\n",
    "<b>Note</b> atoms made up more more fundamental parts - protons, elements\n",
    "\n",
    "<b>Note</b> there are 103 known elements\n",
    "\n",
    "<b>Note</b> the element is defined by number of <b>Protons</b> and this is order of table. (hydrogen has 1 proton, helium 2, etc. \n",
    "\n",
    "<b>Note</b> The number of Proons is also called the <b>Atomic number</b>\n",
    "\n",
    "<b>Note</b> Carbon 12, has 6 protons, and a total of 12 protons and neutrons. Carbon 14 has 8 neutrons, 6 protons\n",
    "\n",
    "<b>Note</b> if the number of electrons = number or protons, it is <b>Neutral</b>\n",
    "\n",
    "<b>Note</b> Electons can move between atons, and thier configuration\n",
    "\n",
    "<b>Note</b> that Atom can be regarded as fundamental data structure"
   ]
  },
  {
   "cell_type": "code",
   "execution_count": 22,
   "id": "932bec91-8f1e-40d6-bbbe-4f39e302d802",
   "metadata": {},
   "outputs": [],
   "source": [
    "class Atom: \n",
    "    def __init__(self, pCount, nCount, eCount):\n",
    "        \n",
    "        an = pyasl.AtomicNo()\n",
    "        \n",
    "        self.Protons = pCount\n",
    "        self.Neutrons = nCount\n",
    "        self.Electrons = eCount\n",
    "        self.ElementName = an.getElementName(pCount)\n",
    "        self.ElementNameWithAtomicMass = an.getElementName(pCount) + \"(\" + str(self.Protons) + \",\" + str(self.Protons + self.Neutrons) + \")\"\n",
    "    \n",
    "    def CreateSummary(self):\n",
    "        print(\"Name: \", self.ElementName)\n",
    "        print(\"Protons: \", self.Protons)\n",
    "        print(\"Neutrons: \", self.Neutrons)\n",
    "        print(\"Electons: \", self.Electrons)"
   ]
  },
  {
   "cell_type": "code",
   "execution_count": 23,
   "id": "5dc60938-84eb-46cb-bb61-c61efad5cec7",
   "metadata": {},
   "outputs": [],
   "source": [
    "e = Atom(98, 2,3)"
   ]
  },
  {
   "cell_type": "code",
   "execution_count": 24,
   "id": "3685eaa0-6354-4a87-88c6-d03760042821",
   "metadata": {},
   "outputs": [
    {
     "name": "stdout",
     "output_type": "stream",
     "text": [
      "Name:  Californium\n",
      "Protons:  98\n",
      "Neutrons:  2\n",
      "Electons:  3\n"
     ]
    }
   ],
   "source": [
    "e.CreateSummary()"
   ]
  },
  {
   "cell_type": "markdown",
   "id": "59568665-f00d-4e96-bf4b-96f92cef8b71",
   "metadata": {},
   "source": [
    "<b>Note</b> electons around atom are blur - can't ddescribe path of electton using orbit type idea - can't know momentum or location, only a probability distribution - function of hwere electon is is defined as <b>Orbital</b> - electon is not really a particle - what is matter becomes an issue\n",
    "\n",
    "electons - all about charge - electon has neg charge, proton has postive charge\n",
    "\n",
    "freuther awawy electon is, it has more potential energy but subject to quantum movment / wave liek behaviour - further away orbital is has more potential engery\n",
    "\n",
    "If atom charge neutral - same number of electons and protons\n",
    "\n"
   ]
  },
  {
   "cell_type": "code",
   "execution_count": 25,
   "id": "b58ad1d6-c58d-4f15-a143-12564337333d",
   "metadata": {},
   "outputs": [],
   "source": [
    "Carbon = Atom(6, 6, 6)"
   ]
  },
  {
   "cell_type": "code",
   "execution_count": 26,
   "id": "10af26bc-8e2c-46f2-8a91-d464f307512d",
   "metadata": {},
   "outputs": [
    {
     "data": {
      "text/plain": [
       "'Carbon(6,12)'"
      ]
     },
     "execution_count": 26,
     "metadata": {},
     "output_type": "execute_result"
    }
   ],
   "source": [
    "Carbon.ElementNameWithAtomicMass"
   ]
  },
  {
   "cell_type": "markdown",
   "id": "33bae1f2-ebdb-48fa-893d-cb8b6a9e1669",
   "metadata": {},
   "source": [
    "<b>Note</b> protons and neutrons wdight = 1 atomic mass unit (1.67 x 10^-27)\n",
    "\n",
    "<b>Note</b> most mass sits at the centre of atom, \n",
    "\n",
    "<b>Note</b> mass of 1 protons is 1836 electons, so can be ignored \n",
    "\n",
    "<b>Note</b> periodic table also lists <b>Atomic Weight</b> For example for carbon this is 12.0107 - derived from oide of averaging all versions of carbon found, this is average atomic weight - Carbon, has carbon 12, but also much more scarce carbon 14 \n",
    "\n",
    "$$^{12}_6 C$$\n",
    "\n",
    "$$^{14}_6 C$$ - more scarce\n",
    "\n",
    "average gives atomic wight based on estimated quantity on earth\n",
    "\n",
    "note - how much of atom is actually matter - infinitesimally small fraction of volume of atom has mass - so most universe is just empty stuff - 99.999 % of anything is free space\n",
    "\n",
    "<b>note</b> - 1 angstrom = 100000 fm = 1 * 10^10 - so most stuff are mostly empty space, but look solid due to forces and light"
   ]
  },
  {
   "cell_type": "code",
   "execution_count": null,
   "id": "bb9fed6e-2f6e-4e73-987a-b8f765b0243c",
   "metadata": {},
   "outputs": [],
   "source": []
  }
 ],
 "metadata": {
  "kernelspec": {
   "display_name": "Python 3",
   "language": "python",
   "name": "python3"
  },
  "language_info": {
   "codemirror_mode": {
    "name": "ipython",
    "version": 3
   },
   "file_extension": ".py",
   "mimetype": "text/x-python",
   "name": "python",
   "nbconvert_exporter": "python",
   "pygments_lexer": "ipython3",
   "version": "3.9.2"
  }
 },
 "nbformat": 4,
 "nbformat_minor": 5
}
