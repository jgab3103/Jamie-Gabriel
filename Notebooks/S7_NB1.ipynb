{
 "cells": [
  {
   "cell_type": "code",
   "execution_count": 25,
   "id": "6dd866d6-49eb-4efc-94c5-70044517bc26",
   "metadata": {},
   "outputs": [],
   "source": [
    "#!pip install chempy\n",
    "# !pip install periodictable\n",
    "#!pip install PyAstronomy\n",
    "\n",
    "import periodictable as pt\n",
    "import chempy as ch\n",
    "import numpy as np\n",
    "import sympy as sp\n",
    "import pickle\n",
    "from IPython.display import HTML\n",
    "import ipywidgets as widgets\n",
    "import matplotlib as mpl\n",
    "import matplotlib.pyplot as plt\n",
    "from mpl_toolkits.mplot3d import Axes3D\n",
    "import matplotlib.pyplot as plt\n",
    "mpl.rcParams['legend.fontsize'] = 10\n",
    "import pandas as pd\n",
    "import itertools\n",
    "pd.set_option('display.max_colwidth', None)\n",
    "from sympy.plotting import plot \n",
    "from IPython.display import Image\n",
    "from PyAstronomy import pyasl\n",
    "\n",
    "\n",
    "# Render to Latex function \n",
    "def RTL(e):\n",
    "    latex_rendering = []\n",
    "\n",
    "    for i in range(len(e)):\n",
    "        latex_rendering.append(\"$\" + sp.latex(e[i]) + \"$ &nbsp;&nbsp;\")\n",
    "    \n",
    "    return(HTML(\"\".join(latex_rendering[0:])))"
   ]
  },
  {
   "cell_type": "markdown",
   "id": "9807f1a5-06fb-4186-934e-66b5b5f3957c",
   "metadata": {},
   "source": [
    "### Biology Notes\n",
    "\n",
    "\n",
    "\n",
    "- Elements and Atoms\n"
   ]
  },
  {
   "cell_type": "markdown",
   "id": "a98f6d2a-c16f-4861-8fc8-a0ea4fe168fc",
   "metadata": {},
   "source": [
    "#### Elements and Atoms\n",
    "\n",
    "<b>Note</b>. All matter is made of element, and that the periodic table lists differnt types of elements that have different properties, single instance of \n",
    "\n",
    "<b>Note</b> 1 million carbon atoms across width of average human hair\n",
    "\n",
    "<b>Note</b> atoms made up more more fundamental parts - protons, elements\n",
    "\n",
    "<b>Note</b> there are 103 known elements\n",
    "\n",
    "<b>Note</b> the element is defined by number of <b>Protons</b> and this is order of table. (hydrogen has 1 proton, helium 2, etc. \n",
    "\n",
    "<b>Note</b> The number of Proons is also called the <b>Atomic number</b>\n",
    "\n",
    "<b>Note</b> Carbon 12, has 6 protons, and a total of 12 protons and neutrons. Carbon 14 has 8 neutrons, 6 protons\n",
    "\n",
    "<b>Note</b> if the number of electrons = number or protons, it is <b>Neutral</b>\n",
    "\n",
    "<b>Note</b> Electons can move between atons, and thier configuration\n",
    "\n",
    "<b>Note</b> that Atom can be regarded as fundamental data structure"
   ]
  },
  {
   "cell_type": "code",
   "execution_count": 51,
   "id": "932bec91-8f1e-40d6-bbbe-4f39e302d802",
   "metadata": {},
   "outputs": [],
   "source": [
    "class Atom: \n",
    "    def __init__(self, pCount, nCount, eCount):\n",
    "        \n",
    "        an = pyasl.AtomicNo()\n",
    "        \n",
    "        self.Protons = pCount\n",
    "        self.Neutrons = nCount\n",
    "        self.Electrons = eCount\n",
    "        self.ElementName = an.getElementName(pCount) + \"(\" + str(self.Protons) + \",\" + str(self.Protons + self.Neutrons) + \")\"\n",
    "    \n",
    "    def CreateSummary(self):\n",
    "        pass"
   ]
  },
  {
   "cell_type": "code",
   "execution_count": 54,
   "id": "5dc60938-84eb-46cb-bb61-c61efad5cec7",
   "metadata": {},
   "outputs": [],
   "source": [
    "e = Atom(98, 2,3)"
   ]
  },
  {
   "cell_type": "code",
   "execution_count": 55,
   "id": "3685eaa0-6354-4a87-88c6-d03760042821",
   "metadata": {},
   "outputs": [
    {
     "data": {
      "text/plain": [
       "'Californium(98,100)'"
      ]
     },
     "execution_count": 55,
     "metadata": {},
     "output_type": "execute_result"
    }
   ],
   "source": [
    "e.ElementName"
   ]
  },
  {
   "cell_type": "code",
   "execution_count": 24,
   "id": "d64f6edd-f14f-4178-8925-ea039fbe3ff4",
   "metadata": {},
   "outputs": [],
   "source": [
    "from PyAstronomy import pyasl"
   ]
  },
  {
   "cell_type": "code",
   "execution_count": null,
   "id": "c1507a44-7a87-4d5d-ada7-4df8d716848d",
   "metadata": {},
   "outputs": [],
   "source": []
  }
 ],
 "metadata": {
  "kernelspec": {
   "display_name": "Python 3",
   "language": "python",
   "name": "python3"
  },
  "language_info": {
   "codemirror_mode": {
    "name": "ipython",
    "version": 3
   },
   "file_extension": ".py",
   "mimetype": "text/x-python",
   "name": "python",
   "nbconvert_exporter": "python",
   "pygments_lexer": "ipython3",
   "version": "3.9.2"
  }
 },
 "nbformat": 4,
 "nbformat_minor": 5
}
