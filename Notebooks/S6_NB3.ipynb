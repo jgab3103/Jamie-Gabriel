{
 "cells": [
  {
   "cell_type": "code",
   "execution_count": 3,
   "id": "6dd866d6-49eb-4efc-94c5-70044517bc26",
   "metadata": {},
   "outputs": [],
   "source": [
    "import numpy as np\n",
    "import sympy as sp\n",
    "import pickle\n",
    "from IPython.display import HTML\n",
    "import ipywidgets as widgets\n",
    "import matplotlib as mpl\n",
    "import matplotlib.pyplot as plt\n",
    "from mpl_toolkits.mplot3d import Axes3D\n",
    "import matplotlib.pyplot as plt\n",
    "mpl.rcParams['legend.fontsize'] = 10\n",
    "import pandas as pd\n",
    "import itertools\n",
    "pd.set_option('display.max_colwidth', None)\n",
    "from sympy.plotting import plot \n",
    "from IPython.display import Image"
   ]
  },
  {
   "cell_type": "code",
   "execution_count": 4,
   "id": "1e38dabb-8a53-46b1-995c-fb1f9132fe63",
   "metadata": {},
   "outputs": [],
   "source": [
    "# Render to Latex function \n",
    "def RTL(e):\n",
    "    latex_rendering = []\n",
    "\n",
    "    for i in range(len(e)):\n",
    "        latex_rendering.append(\"$\" + sp.latex(e[i]) + \"$ &nbsp;&nbsp;\")\n",
    "    \n",
    "    return(HTML(\"\".join(latex_rendering[0:])))\n",
    "\n",
    "\n",
    "# Plot vectors with customisation\n",
    "def PlotVectors(vectors = [], plotPointsAsShape = False, plotFromStandardPosition = False):\n",
    "\n",
    "    plt.scatter(0, 0)\n",
    "    plt.grid()\n",
    "    \n",
    "    xValues = [vectors[i][0] for i in range(len(vectors))]\n",
    "    yValues = [vectors[i][1] for i in range(len(vectors))]\n",
    "    \n",
    "    plt.scatter(xValues, yValues)\n",
    "    \n",
    "    \n",
    "    if plotPointsAsShape:\n",
    "        xValues.append(xValues[0])\n",
    "        yValues.append(yValues[0])\n",
    "\n",
    "        plt.plot(xValues, yValues)\n",
    "    \n",
    "    if plotFromStandardPosition:\n",
    "        for i in range(len(xValues)):\n",
    "            plt.plot([0, xValues[i]], [0,  yValues[i]])\n",
    "\n",
    "            \n",
    "# Apply transformation to multiple vectors\n",
    "def ApplyTransformationViaScaledIdentityMatrix(scaledIdentityMatrix, vectors):\n",
    "    transformedVectors = []\n",
    "    for i in vectors: \n",
    "        t = scaledIdentityMatrix * i\n",
    "        transformedVectors.append(t)\n",
    "        \n",
    "    return(transformedVectors)"
   ]
  },
  {
   "cell_type": "markdown",
   "id": "67a5b73f-88c3-44a7-83d1-62df39f4914c",
   "metadata": {},
   "source": [
    "### Linear Algebra Notes III\n",
    "\n",
    "- Introduction to the inverse of a function\n",
    "- Surjective (onto) and injective (one-to-one) functions\n",
    "- Relating invertibility to being onto and one-to-one\n",
    "- Determining whether a transformation is onto\n",
    "- Exploring the solution set of Ax = b\n",
    "- Matrix condition for one-to-one transformation\n",
    "- Simplifying conditions for invertibility\n",
    "- Determinant\n",
    "- Determinant when row multiplied by scalar\n",
    "- Determinant when row is added\n",
    "- Duplicate row determinant\n",
    "- Determinant after row operations\n",
    "- Upper triangular determinant\n",
    "- Determinant and area of a parallelogram"
   ]
  },
  {
   "cell_type": "markdown",
   "id": "5c8e5e61-74b9-41bb-b58f-1fbd654cd708",
   "metadata": {},
   "source": [
    "#### Introduction to the inverse of a function\n",
    "\n",
    "\n",
    "<b>Note</b> that if there is a function, $f$ such that $f: X \\mapsto Y $ $I$ identity function, it can also be the case that there is an identity function that maps from the domain to the domain: \n",
    "\n",
    "$$ I_x : X \\mapsto X $$ \n",
    "\n",
    "<b>Note</b> that this implied for some vector $a \\in X $, it is the case that: $$ I_x(a) = a $$\n",
    "\n",
    "Note - can also have identity function on $Y$, where member of set refers to itself\n",
    "\n",
    "\n",
    "<b>Note</b> the function $f$ is <b>Invertible</b> precisely when there exists a function, $f^{-1} Y \\mapsto X$ such that $f^{-1} \\circ f = I_x$ and $f \\circ f^{-1} = I_y$ \n",
    "\n",
    "f is x to y, f inverse is Y to x, so compostion is is X to X\n",
    "\n",
    "so \n",
    "\n",
    "$$ (f \\circ f^{-1}) (a) = I_x (a) = a $$ or \n",
    "\n",
    "$$ f^{-1}(f(a)) = a $$\n",
    "\n",
    "f is defined is invertible \n",
    "\n",
    "also inportant to ascertain if $f^{-1}$ is unique\n",
    "\n",
    "considerf that if \n",
    "\n",
    "$g: Y \\mapsto X $ and $g \\circ f = I_x$ then g is inverse of x\n",
    "\n",
    "or \n",
    "\n",
    "$$ h: Y \\mapsto X $$ means $ h\\circ f = I_x$ and $f \\circ h = I _y $\n",
    "\n",
    "<hr/>"
   ]
  },
  {
   "cell_type": "markdown",
   "id": "9ba63f38-aa53-4b4d-bc1d-7c6bc46c05b9",
   "metadata": {},
   "source": [
    "#### Surjective (onto) and injective (one-to-one) functions\n",
    "\n",
    "\n",
    "$f: X \\mapsto Y $\n",
    "\n",
    "<b>Note</b> Surjective/Onto if for every element in codomain, there exists at least 1 $x \\in X$ such that $f(x) = y$ so all stuff in codomain is being mapped to. multiple elements in X may map to a single element in Y, but all elements in Y are mapped to. \n",
    "\n",
    "Note if take the image of of (f) - all values functions mapts to, image is equal to Y when surjective, or range(f) is = Y\n",
    "\n",
    "\n",
    "<b>Note</b> Injective (one to one) - every value that is mapped to, ther is at most 1 x that maps this. For any y thats a member of y, there is at most 1 x such that f(x) = y. So doesn't mean all Y is mapped to\n",
    "\n",
    "<hr/>\n"
   ]
  },
  {
   "cell_type": "markdown",
   "id": "29cb2fae-1650-400c-b033-167e065e6066",
   "metadata": {},
   "source": [
    "#### Relating invertibility to being onto and one-to-one\n",
    "\n",
    "<b>Recall</b> tha tthe functon $f: X \\mapsto Y$ is invertible precicely when for every $y \\in Y$ there exists a unique $x \\in X$ such that $f(x) = y$, \n",
    "<b>Recall</b> that this means the functino $f$ is one-to-one or injective\n",
    "<b>Note</b> this means entire codeomain is mapped to from a unique element in X, when entire codomain is mapped to, f is surgective \n",
    "\n",
    "surjective - all mapped to (not nesc unique) - onto or image of of function is codomain\n",
    "\n",
    "\n",
    "injective - all mapped to (and unique) - one-toone\n",
    "\n",
    "<b>Note</b> function $f:X \\mapsto Y$ is invertible preci when $f$ is both surjective and injective \n",
    "\n",
    "<hr/>\n",
    "\n",
    "\n",
    "\n",
    "\n"
   ]
  },
  {
   "cell_type": "markdown",
   "id": "1b483b89-21d4-44fc-872c-7f921a2eb0a7",
   "metadata": {},
   "source": [
    "#### Determining whether a transformation is onto"
   ]
  },
  {
   "cell_type": "markdown",
   "id": "86ad3da5-e534-4839-861e-6f10fe4a58b9",
   "metadata": {},
   "source": [
    "<b>Note</b> that $T: \\mathbb{R^n} \\mapsto \\mathbb{R^m} $ can be written as a matrix vector proeduct $T(\\vec{x}) = A\\vec{x}_{m \\times n} $\n",
    "\n",
    "idea here is to use matrix math to \n",
    "\n",
    "consider another way to write this is idea is that \n",
    "\n",
    "$$ T(\\vec{x}) = A\\vec{x}_{m \\times n} $$ which is mappeing $\\vec{x}$ to $ A\\vec{x} $ \n",
    "\n",
    "To explore this, need to ask - is $T $ invertible, meaning it is both surjective and injective \n",
    "\n",
    "start by exploring if T is onto or surjective - \n",
    "\n",
    "\n",
    "so i f $T(\\vec{x}) = A\\vec{x}_{m \\times n} $, this means that $A\\vec{x}$ \n",
    "\n",
    "for any vector b in R^m, there exists at least 1 solution \n",
    "\n",
    "onto means for every $b \\in R^m$  there exts at least 1 solution to$ A\\vec{x} = b$ - if onto, if there is any $\\vec{b}$ then you must be able to get there from Ax\n",
    "\n",
    "this implies that any member of $R^m$ must be obtainable from transformation Ax\n",
    "\n",
    "for t to be surjective, column vectors of A must span R^m - So all in codomain must be obtainable from linear combination of of domain \n",
    "\n",
    "Note A = $[a_1, a_2, a_n]$, col vectors of matrix, and x is is vector, so matrix product bgives $x_1 a_1 + x_2 a_2 + x_n a_n$ and if onto this must be all of codomain, so A must span \n",
    "\n",
    "For T to be onto, the span of A has to be able to R^m or codoamin - any vector in codomain obtainable by linear combination of column vectors of A\n",
    "\n",
    "Recall - that span of A is column space of A: \n",
    "\n",
    "$$ C(A) = R^m$$\n",
    "\n"
   ]
  },
  {
   "cell_type": "markdown",
   "id": "57f0c3a4-559b-401f-a1f0-abd06ddb6a7b",
   "metadata": {},
   "source": [
    "Recall that determine col space of A = R^m, \n",
    "\n",
    "when can we not find solutions to Ax = b\n",
    "\n",
    "To expore, this you can set up augmented matrix [A | b] and then make lhs into reduced row echelon form\n",
    "\n",
    "Go get R = rref(A) - so you find pivot colums and free columns\n",
    "\n",
    "So it becomes [rref(A) |c] as b is also getting transformed \n",
    "\n",
    "note that when you solve this - you get - many solutions (free variables,), only 1 solution, or no solutions\n",
    "\n",
    "When you have have no solutions you have a row of zeros on 1 sxide of augmented matrix, with a number on the other side\n",
    "\n",
    "So Ax = b can have no solutions, or only for a subset of of b\n",
    "\n",
    "Steps - are go to rref - if we don't have soution fro some cases of b, then not spanning space R^m\n",
    "\n",
    "\n",
    "T is ONTO iff C(A) = R^m which means that rref(A) has a pivot entry in every row - m pivot entries\n",
    "\n",
    "T is onto iff Rank(A) = m so all pivot colums\n",
    "\n",
    "\n",
    "Example\n",
    "\n",
    "\n"
   ]
  },
  {
   "cell_type": "markdown",
   "id": "3740bae7-7fcf-41bf-a5d2-c50aded936ce",
   "metadata": {},
   "source": [
    "Example: for the case when $S: R^2 \\mapsto R^3 $ where $s(\\vec{x}) = \\displaystyle \\left[\\begin{matrix}1 & 2\\\\3 & 4\\\\5 & 6\\end{matrix}\\right]$  is S onto?"
   ]
  },
  {
   "cell_type": "code",
   "execution_count": 8,
   "id": "e6a6b88b-7280-42e2-bd3f-01f8160fc8f5",
   "metadata": {},
   "outputs": [
    {
     "data": {
      "text/latex": [
       "$\\displaystyle \\left[\\begin{matrix}1 & 2\\\\3 & 4\\\\5 & 6\\end{matrix}\\right]$"
      ],
      "text/plain": [
       "Matrix([\n",
       "[1, 2],\n",
       "[3, 4],\n",
       "[5, 6]])"
      ]
     },
     "execution_count": 8,
     "metadata": {},
     "output_type": "execute_result"
    }
   ],
   "source": [
    "S = sp.Matrix([[1, 3, 5], [2, 4, 6]])\n",
    "S = S.T\n",
    "S"
   ]
  },
  {
   "cell_type": "code",
   "execution_count": 10,
   "id": "1aca4543-a4f9-4c28-91f5-8ad8a95416de",
   "metadata": {},
   "outputs": [
    {
     "data": {
      "text/latex": [
       "$\\displaystyle \\left[\\begin{matrix}1 & 0\\\\0 & 1\\\\0 & 0\\end{matrix}\\right]$"
      ],
      "text/plain": [
       "Matrix([\n",
       "[1, 0],\n",
       "[0, 1],\n",
       "[0, 0]])"
      ]
     },
     "execution_count": 10,
     "metadata": {},
     "output_type": "execute_result"
    }
   ],
   "source": [
    "S.rref()[0]"
   ]
  },
  {
   "cell_type": "code",
   "execution_count": 11,
   "id": "55c90652-c983-4a46-9185-5bfe568f1e70",
   "metadata": {},
   "outputs": [],
   "source": [
    "# note these are two pivot entries\n",
    "# note that rank = 2, which is not equal to codomain, not R3 - \n"
   ]
  },
  {
   "cell_type": "code",
   "execution_count": 12,
   "id": "0fc9acf1-60ed-4cc4-835a-cae1f69f0992",
   "metadata": {},
   "outputs": [],
   "source": [
    "# so s is not onto invertible, "
   ]
  },
  {
   "cell_type": "markdown",
   "id": "8f2cc69a-f7c2-4268-93a8-fad366192df8",
   "metadata": {},
   "source": [
    "<hr/>\n",
    "\n",
    "#### Exploring the solution set of Ax = b\n",
    "\n",
    "Consider the case $T: \\mathbb{R^2} \\mapsto \\mathbb{R^2} $ where ther is the following function\n",
    "\n",
    "$$ T(\\vec{x}) = \\left[\\begin{matrix}1 & -3\\\\-1 & 3\\end{matrix}\\right] $$\n",
    "\n",
    "to explore this"
   ]
  },
  {
   "cell_type": "code",
   "execution_count": 20,
   "id": "8624f70b-4a4d-4ee8-a7f3-45b0c3306936",
   "metadata": {},
   "outputs": [
    {
     "data": {
      "text/latex": [
       "$\\displaystyle \\left[\\begin{matrix}1 & -3 & b_{1}\\\\-1 & 3 & b_{2}\\end{matrix}\\right]$"
      ],
      "text/plain": [
       "Matrix([\n",
       "[ 1, -3, b1],\n",
       "[-1,  3, b2]])"
      ]
     },
     "execution_count": 20,
     "metadata": {},
     "output_type": "execute_result"
    }
   ],
   "source": [
    "b1, b2 = sp.symbols(\"b1, b2\")\n",
    "\n",
    "E1 = sp.Matrix([[1, -3, b1], [-1, 3, b2]])\n",
    "E1"
   ]
  },
  {
   "cell_type": "code",
   "execution_count": 28,
   "id": "3fda68e3-b131-4e42-b00f-09e78dfc453e",
   "metadata": {},
   "outputs": [
    {
     "data": {
      "text/latex": [
       "$\\displaystyle \\left[\\begin{matrix}1 & -3 & b_{1}\\\\0 & 0 & b_{1} + b_{2}\\end{matrix}\\right]$"
      ],
      "text/plain": [
       "Matrix([\n",
       "[1, -3,      b1],\n",
       "[0,  0, b1 + b2]])"
      ]
     },
     "execution_count": 28,
     "metadata": {},
     "output_type": "execute_result"
    }
   ],
   "source": [
    "E2 = sp.Matrix([E1.row(0), E1.row(0) + E1.row(1)])\n",
    "E2"
   ]
  },
  {
   "cell_type": "code",
   "execution_count": 29,
   "id": "746edf7c-2788-4d60-8b7f-3c76b3317ee8",
   "metadata": {},
   "outputs": [],
   "source": [
    "# note that this shows that b2 == -b1 which is all possible b's that have a solutions\n",
    "# so image of transformation is limited to just these results, it is not all of r2"
   ]
  },
  {
   "cell_type": "markdown",
   "id": "593f2a58-8906-42b3-ac6b-477b3e2afd46",
   "metadata": {},
   "source": [
    "T isn't onto because Image(T) is not the entire codomain\n",
    "\n",
    "This is also seen in reduced row ech"
   ]
  },
  {
   "cell_type": "code",
   "execution_count": 31,
   "id": "6bd1a31e-f6aa-4f24-b576-36123f3bc20f",
   "metadata": {},
   "outputs": [
    {
     "data": {
      "text/latex": [
       "$\\displaystyle \\left[\\begin{matrix}1 & -3 & 0\\\\0 & 0 & 1\\end{matrix}\\right]$"
      ],
      "text/plain": [
       "Matrix([\n",
       "[1, -3, 0],\n",
       "[0,  0, 1]])"
      ]
     },
     "execution_count": 31,
     "metadata": {},
     "output_type": "execute_result"
    }
   ],
   "source": [
    "E1.rref()[0]"
   ]
  },
  {
   "cell_type": "markdown",
   "id": "af2672cf-4b09-467a-ad92-d2c5bd0297ef",
   "metadata": {},
   "source": [
    "Note that $ \\displaystyle \\left[\\begin{matrix}1 & -3 & b_{1}\\\\0 & 0 & b_{1} + b_{2}\\end{matrix}\\right] $ provides contarait $x_1 - 3x_2 = b_1$\n",
    "\n",
    "\n",
    "for a particular $\\vec{b}$ that has a solution $Ax = b$ solution set [ x1 x2] = [b1  0] + x2[3 1]\n",
    "\n",
    "So test with paritulcar b = [5, -5] - we can ask what in our domain maps to this point, which is all of x....so all Ax = [5, -5] - and solution st will be above soution set  [ x1 x2] = [5  0] + x2[3 1] - so any scalar ultiple of [3, 1] = so this means multiple points in domain are mapping to codomain\n",
    "\n",
    "Wehat is solution set for 0 vector [ x1 x2] = [0  0] + x2[3 1] \n",
    "\n",
    "Note that Ax = 0 is the null space , notice that for any solutions of b vector, it is just equal to a shifted version of the null spaced\n",
    "\n",
    "\n",
    "\n",
    "Assuming Ax = b has a solution, solution set = some partiuclar vector $\n",
    "\n",
    "\n",
    "fopr somethign to be one-to-one, there is at most 1 souiton and to do this null space can only be the zero vector\n",
    "\n",
    "summary: so in short, if matrix A's column vectors are not linearly independent then it's rank/dimension will be less than n. and if the dimension is less than n, the matrix won't be able to span R^n thus, the transformation of A is not one to one...? am i getting this right?\n",
    "\n",
    "<hr/>\n",
    "\n",
    "#### Matrix condition for one-to-one transformation"
   ]
  },
  {
   "cell_type": "markdown",
   "id": "52cd1dae-03d8-46b9-b192-7c8b7a9f57f7",
   "metadata": {},
   "source": [
    "consider if you have some matrix A\n",
    "\n",
    "to determine nullspace of A, this is just all x vectors that satisfy the Ax = 0. \n",
    "\n",
    "This is solved with an augmented matrix to create rref form, end up [rref(A) | 0] and then you get a \n",
    "\n",
    "\n",
    "what about case when you are solving inhomogenseo quation \n",
    "\n",
    "Ax = b\n",
    "\n",
    "[A | b] - you can do rref on this, but you won't just get 0 on the right\n",
    "\n",
    "[rref(A) | b'] = this give solutin set that is nullspace as well as b'\n",
    "\n",
    "so solution set to imhomgenous equation - is some parituclar solution of b' plus some homogeneous solution\n",
    "\n",
    "\n",
    "So any solutin to inhomgeneous system Ax = b will take the form: \n",
    "\n",
    "$$x_p + x_n $$ where x_p is b' and x_n is the nullspace part of it \n"
   ]
  },
  {
   "cell_type": "markdown",
   "id": "81b05d93-b01b-445c-bdea-0cf4183ca505",
   "metadata": {},
   "source": [
    "#### Simplifying conditions for invertibility\n",
    "\n",
    "All of the abovwe is just intertible onto and one to one, and what matrice properties should have in order to allow this. \n",
    "\n",
    "\n",
    "The properties are: \n",
    "\n",
    "for $T(\\vec{x}) = A\\vec{x}_{m \\times n } $ it must the be the case that Rank(A) = m to be onto\n",
    "\n",
    "and it must be the case that all col vectors are linear indpended, or rank(A) = n\n",
    "\n",
    "To be invertible m = n  -> so you have to have a square matrix for this to work\n",
    "\n",
    "And you are dealing with square matrix where all columns are linearly independnt\n",
    "\n",
    "so $$A = [a_1, a_2....a_n] $$ you just get pivot columns in rref - so it is the identity matrix\n",
    "\n",
    "\n",
    "So this means any trasnformation can be easuily checked for iinvertibility\n",
    "\n",
    "So some transformation T: R^n - R^n = A (n x n, will only be invertible if rref is identity matrix\n",
    "\n",
    "\n",
    "<hr/>\n",
    "\n",
    "#### Determinants\n",
    "\n",
    "Tells about charatersistic of matrix, helps find the inverste, tells useful things in systems of linear equations and matrix\n",
    "\n",
    "Determinant is a scaling factor of the a matrix that will multiply a vector"
   ]
  },
  {
   "cell_type": "markdown",
   "id": "51351953-d428-49a9-bfa7-24e0d38818dd",
   "metadata": {},
   "source": [
    "consider the matrix"
   ]
  },
  {
   "cell_type": "code",
   "execution_count": 34,
   "id": "c3408c9e-9abf-4a4b-9347-1bbb84f9bca0",
   "metadata": {},
   "outputs": [],
   "source": [
    "A = sp.Matrix([[1, -1, -1], [-1, 2, 3], [1, 1, 4]])"
   ]
  },
  {
   "cell_type": "code",
   "execution_count": 35,
   "id": "57ec1f60-2f95-4060-a1b6-e19872089f5b",
   "metadata": {},
   "outputs": [
    {
     "data": {
      "text/latex": [
       "$\\displaystyle \\left[\\begin{matrix}1 & -1 & -1\\\\-1 & 2 & 3\\\\1 & 1 & 4\\end{matrix}\\right]$"
      ],
      "text/plain": [
       "Matrix([\n",
       "[ 1, -1, -1],\n",
       "[-1,  2,  3],\n",
       "[ 1,  1,  4]])"
      ]
     },
     "execution_count": 35,
     "metadata": {},
     "output_type": "execute_result"
    }
   ],
   "source": [
    "A"
   ]
  },
  {
   "cell_type": "code",
   "execution_count": 37,
   "id": "3d7d49a8-2500-48b0-a1e1-f2794ce7adae",
   "metadata": {},
   "outputs": [
    {
     "data": {
      "text/latex": [
       "$\\displaystyle \\left[\\begin{matrix}1 & 0 & 0\\\\0 & 1 & 0\\\\0 & 0 & 1\\end{matrix}\\right]$"
      ],
      "text/plain": [
       "Matrix([\n",
       "[1, 0, 0],\n",
       "[0, 1, 0],\n",
       "[0, 0, 1]])"
      ]
     },
     "execution_count": 37,
     "metadata": {},
     "output_type": "execute_result"
    }
   ],
   "source": [
    "A.rref()[0]"
   ]
  },
  {
   "cell_type": "code",
   "execution_count": 38,
   "id": "dc744bea-d806-43ab-9e07-43d3bbd6e854",
   "metadata": {},
   "outputs": [
    {
     "data": {
      "text/plain": [
       "(0, 1, 2)"
      ]
     },
     "execution_count": 38,
     "metadata": {},
     "output_type": "execute_result"
    }
   ],
   "source": [
    "# these row opations are transformations "
   ]
  },
  {
   "cell_type": "markdown",
   "id": "e0006b88-33f0-47c0-b895-dd0d38072a41",
   "metadata": {},
   "source": [
    "A.inverse()"
   ]
  },
  {
   "cell_type": "code",
   "execution_count": 40,
   "id": "79860f58-a170-46bb-ae6f-b53bbead073d",
   "metadata": {},
   "outputs": [
    {
     "data": {
      "text/latex": [
       "$\\displaystyle \\left[\\begin{matrix}5 & 3 & -1\\\\7 & 5 & -2\\\\-3 & -2 & 1\\end{matrix}\\right]$"
      ],
      "text/plain": [
       "Matrix([\n",
       "[ 5,  3, -1],\n",
       "[ 7,  5, -2],\n",
       "[-3, -2,  1]])"
      ]
     },
     "execution_count": 40,
     "metadata": {},
     "output_type": "execute_result"
    }
   ],
   "source": [
    "A.inv()"
   ]
  },
  {
   "cell_type": "code",
   "execution_count": 42,
   "id": "deab19e4-ea47-4305-b098-577ce7ee9264",
   "metadata": {},
   "outputs": [
    {
     "data": {
      "text/latex": [
       "$\\displaystyle \\left[\\begin{matrix}1 & 0 & 0\\\\0 & 1 & 0\\\\0 & 0 & 1\\end{matrix}\\right]$"
      ],
      "text/plain": [
       "Matrix([\n",
       "[1, 0, 0],\n",
       "[0, 1, 0],\n",
       "[0, 0, 1]])"
      ]
     },
     "execution_count": 42,
     "metadata": {},
     "output_type": "execute_result"
    }
   ],
   "source": [
    "A * A.inv()"
   ]
  },
  {
   "cell_type": "code",
   "execution_count": 43,
   "id": "6aa7b689-7629-473c-8843-8e2faa5d261a",
   "metadata": {},
   "outputs": [
    {
     "data": {
      "text/latex": [
       "$\\displaystyle 1$"
      ],
      "text/plain": [
       "1"
      ]
     },
     "execution_count": 43,
     "metadata": {},
     "output_type": "execute_result"
    }
   ],
   "source": [
    "A.det()"
   ]
  },
  {
   "cell_type": "code",
   "execution_count": 44,
   "id": "c88fc39e-992c-48d4-a55d-c7cbf3410878",
   "metadata": {},
   "outputs": [],
   "source": [
    "E1 = sp.Matrix([[1, 2], [3, 6]])"
   ]
  },
  {
   "cell_type": "code",
   "execution_count": 48,
   "id": "a0a6fb8a-5df0-45b5-b5c0-46a1b761d39c",
   "metadata": {},
   "outputs": [
    {
     "data": {
      "text/latex": [
       "$\\displaystyle \\left[\\begin{matrix}1 & 2\\\\0 & 0\\end{matrix}\\right]$"
      ],
      "text/plain": [
       "Matrix([\n",
       "[1, 2],\n",
       "[0, 0]])"
      ]
     },
     "execution_count": 48,
     "metadata": {},
     "output_type": "execute_result"
    }
   ],
   "source": [
    "E1.rref()[0]"
   ]
  },
  {
   "cell_type": "markdown",
   "id": "61f802bf-50c6-4aef-b245-fa087f7e87d7",
   "metadata": {},
   "source": [
    "SO we can take any matrix, check if its determinant is not 0, therefore it must be invertible, check that its rref, and check its inverse"
   ]
  },
  {
   "cell_type": "code",
   "execution_count": 49,
   "id": "d4957a2d-6ab3-45de-ae42-69528ad0721e",
   "metadata": {},
   "outputs": [
    {
     "data": {
      "text/latex": [
       "$\\displaystyle \\left[\\begin{matrix}1 & 2 & 4\\\\2 & -1 & 3\\\\4 & 0 & 1\\end{matrix}\\right]$"
      ],
      "text/plain": [
       "Matrix([\n",
       "[1,  2, 4],\n",
       "[2, -1, 3],\n",
       "[4,  0, 1]])"
      ]
     },
     "execution_count": 49,
     "metadata": {},
     "output_type": "execute_result"
    }
   ],
   "source": [
    "# note that matrix is not invertible, has determinant of 0\n",
    "\n",
    "\n",
    "\n",
    "E1 = sp.Matrix([[1, 2, 4], [2, -1, 3], [4, 0, 1]])\n",
    "E1"
   ]
  },
  {
   "cell_type": "code",
   "execution_count": 50,
   "id": "8e1833fe-cbef-4957-9ddc-53d46a70ae94",
   "metadata": {},
   "outputs": [
    {
     "data": {
      "text/latex": [
       "$\\displaystyle 35$"
      ],
      "text/plain": [
       "35"
      ]
     },
     "execution_count": 50,
     "metadata": {},
     "output_type": "execute_result"
    }
   ],
   "source": [
    "E1.det()"
   ]
  },
  {
   "cell_type": "code",
   "execution_count": 52,
   "id": "ec62605b-125c-4f0a-8d81-67e015f8b9d1",
   "metadata": {},
   "outputs": [
    {
     "data": {
      "text/latex": [
       "$\\displaystyle \\left[\\begin{matrix}1 & 0 & 0\\\\0 & 1 & 0\\\\0 & 0 & 1\\end{matrix}\\right]$"
      ],
      "text/plain": [
       "Matrix([\n",
       "[1, 0, 0],\n",
       "[0, 1, 0],\n",
       "[0, 0, 1]])"
      ]
     },
     "execution_count": 52,
     "metadata": {},
     "output_type": "execute_result"
    }
   ],
   "source": [
    "E1.rref()[0]"
   ]
  },
  {
   "cell_type": "code",
   "execution_count": 53,
   "id": "caf7ebd9-0954-4cc3-9246-7d3fadc667ef",
   "metadata": {},
   "outputs": [
    {
     "data": {
      "text/latex": [
       "$\\displaystyle \\left[\\begin{matrix}- \\frac{1}{35} & - \\frac{2}{35} & \\frac{2}{7}\\\\\\frac{2}{7} & - \\frac{3}{7} & \\frac{1}{7}\\\\\\frac{4}{35} & \\frac{8}{35} & - \\frac{1}{7}\\end{matrix}\\right]$"
      ],
      "text/plain": [
       "Matrix([\n",
       "[-1/35, -2/35,  2/7],\n",
       "[  2/7,  -3/7,  1/7],\n",
       "[ 4/35,  8/35, -1/7]])"
      ]
     },
     "execution_count": 53,
     "metadata": {},
     "output_type": "execute_result"
    }
   ],
   "source": [
    "E1.inv()"
   ]
  },
  {
   "cell_type": "code",
   "execution_count": 54,
   "id": "21def331-e0d9-48cc-b3e9-7ef5983cdb1f",
   "metadata": {},
   "outputs": [
    {
     "data": {
      "text/latex": [
       "$\\displaystyle \\left[\\begin{matrix}1 & 2 & 3 & 4\\\\1 & 0 & 2 & 0\\\\0 & 1 & 2 & 3\\\\2 & 3 & 0 & 0\\end{matrix}\\right]$"
      ],
      "text/plain": [
       "Matrix([\n",
       "[1, 2, 3, 4],\n",
       "[1, 0, 2, 0],\n",
       "[0, 1, 2, 3],\n",
       "[2, 3, 0, 0]])"
      ]
     },
     "execution_count": 54,
     "metadata": {},
     "output_type": "execute_result"
    }
   ],
   "source": [
    "# Another example\n",
    "\n",
    "E1 = sp.Matrix([[1, 2, 3, 4], [1, 0, 2, 0], [0, 1, 2, 3], [2, 3, 0, 0]])\n",
    "E1"
   ]
  },
  {
   "cell_type": "code",
   "execution_count": 55,
   "id": "477d4941-b4e9-478d-8695-8848e59cbdd3",
   "metadata": {},
   "outputs": [
    {
     "data": {
      "text/latex": [
       "$\\displaystyle 7$"
      ],
      "text/plain": [
       "7"
      ]
     },
     "execution_count": 55,
     "metadata": {},
     "output_type": "execute_result"
    }
   ],
   "source": [
    "E1.det()"
   ]
  },
  {
   "cell_type": "code",
   "execution_count": 57,
   "id": "98a7d18c-4e85-4a09-843f-c513ba8415f1",
   "metadata": {},
   "outputs": [
    {
     "data": {
      "text/latex": [
       "$\\displaystyle \\left[\\begin{matrix}1 & 0 & 0 & 0\\\\0 & 1 & 0 & 0\\\\0 & 0 & 1 & 0\\\\0 & 0 & 0 & 1\\end{matrix}\\right]$"
      ],
      "text/plain": [
       "Matrix([\n",
       "[1, 0, 0, 0],\n",
       "[0, 1, 0, 0],\n",
       "[0, 0, 1, 0],\n",
       "[0, 0, 0, 1]])"
      ]
     },
     "execution_count": 57,
     "metadata": {},
     "output_type": "execute_result"
    }
   ],
   "source": [
    "E1.rref()[0]"
   ]
  },
  {
   "cell_type": "code",
   "execution_count": 58,
   "id": "2e161f57-9a10-4a65-b475-d93b13d95ef8",
   "metadata": {},
   "outputs": [
    {
     "data": {
      "text/latex": [
       "$\\displaystyle \\left[\\begin{matrix}\\frac{18}{7} & - \\frac{3}{7} & - \\frac{24}{7} & - \\frac{4}{7}\\\\- \\frac{12}{7} & \\frac{2}{7} & \\frac{16}{7} & \\frac{5}{7}\\\\- \\frac{9}{7} & \\frac{5}{7} & \\frac{12}{7} & \\frac{2}{7}\\\\\\frac{10}{7} & - \\frac{4}{7} & - \\frac{11}{7} & - \\frac{3}{7}\\end{matrix}\\right]$"
      ],
      "text/plain": [
       "Matrix([\n",
       "[ 18/7, -3/7, -24/7, -4/7],\n",
       "[-12/7,  2/7,  16/7,  5/7],\n",
       "[ -9/7,  5/7,  12/7,  2/7],\n",
       "[ 10/7, -4/7, -11/7, -3/7]])"
      ]
     },
     "execution_count": 58,
     "metadata": {},
     "output_type": "execute_result"
    }
   ],
   "source": [
    "E1.inv()"
   ]
  },
  {
   "cell_type": "code",
   "execution_count": 59,
   "id": "4df7cc16-8a55-476b-9cc9-9c752e55d5a0",
   "metadata": {},
   "outputs": [],
   "source": [
    "# Consider this example\n",
    "\n",
    "a, b, c, d, e, f, g, h, i = sp.symbols('a, b, c, d, e, f, g, h, i')"
   ]
  },
  {
   "cell_type": "code",
   "execution_count": 60,
   "id": "5c2684e2-6da4-4d30-95ec-3b4bbd66fcba",
   "metadata": {},
   "outputs": [
    {
     "data": {
      "text/latex": [
       "$\\displaystyle \\left[\\begin{matrix}a & b & c\\\\d & e & f\\\\g & h & i\\end{matrix}\\right]$"
      ],
      "text/plain": [
       "Matrix([\n",
       "[a, b, c],\n",
       "[d, e, f],\n",
       "[g, h, i]])"
      ]
     },
     "execution_count": 60,
     "metadata": {},
     "output_type": "execute_result"
    }
   ],
   "source": [
    "E1 = sp.Matrix([[a, b, c], [d, e, f], [g, h, i]])\n",
    "E1"
   ]
  },
  {
   "cell_type": "code",
   "execution_count": 61,
   "id": "73bc3e04-59fa-4aad-8bf8-89d1d36554fd",
   "metadata": {},
   "outputs": [
    {
     "data": {
      "text/latex": [
       "$\\displaystyle a e i - a f h - b d i + b f g + c d h - c e g$"
      ],
      "text/plain": [
       "a*e*i - a*f*h - b*d*i + b*f*g + c*d*h - c*e*g"
      ]
     },
     "execution_count": 61,
     "metadata": {},
     "output_type": "execute_result"
    }
   ],
   "source": [
    "E1.det()"
   ]
  },
  {
   "cell_type": "code",
   "execution_count": 62,
   "id": "ffe7ab44-f60f-4501-804e-d3764e58757e",
   "metadata": {},
   "outputs": [
    {
     "data": {
      "text/latex": [
       "$\\displaystyle \\left[\\begin{matrix}\\frac{e i - f h}{a e i - a f h - b d i + b f g + c d h - c e g} & \\frac{- b i + c h}{a e i - a f h - b d i + b f g + c d h - c e g} & \\frac{b f - c e}{a e i - a f h - b d i + b f g + c d h - c e g}\\\\\\frac{- d i + f g}{a e i - a f h - b d i + b f g + c d h - c e g} & \\frac{a i - c g}{a e i - a f h - b d i + b f g + c d h - c e g} & \\frac{- a f + c d}{a e i - a f h - b d i + b f g + c d h - c e g}\\\\\\frac{d h - e g}{a e i - a f h - b d i + b f g + c d h - c e g} & \\frac{- a h + b g}{a e i - a f h - b d i + b f g + c d h - c e g} & \\frac{a e - b d}{a e i - a f h - b d i + b f g + c d h - c e g}\\end{matrix}\\right]$"
      ],
      "text/plain": [
       "Matrix([\n",
       "[ (e*i - f*h)/(a*e*i - a*f*h - b*d*i + b*f*g + c*d*h - c*e*g), (-b*i + c*h)/(a*e*i - a*f*h - b*d*i + b*f*g + c*d*h - c*e*g),  (b*f - c*e)/(a*e*i - a*f*h - b*d*i + b*f*g + c*d*h - c*e*g)],\n",
       "[(-d*i + f*g)/(a*e*i - a*f*h - b*d*i + b*f*g + c*d*h - c*e*g),  (a*i - c*g)/(a*e*i - a*f*h - b*d*i + b*f*g + c*d*h - c*e*g), (-a*f + c*d)/(a*e*i - a*f*h - b*d*i + b*f*g + c*d*h - c*e*g)],\n",
       "[ (d*h - e*g)/(a*e*i - a*f*h - b*d*i + b*f*g + c*d*h - c*e*g), (-a*h + b*g)/(a*e*i - a*f*h - b*d*i + b*f*g + c*d*h - c*e*g),  (a*e - b*d)/(a*e*i - a*f*h - b*d*i + b*f*g + c*d*h - c*e*g)]])"
      ]
     },
     "execution_count": 62,
     "metadata": {},
     "output_type": "execute_result"
    }
   ],
   "source": [
    "E1.inv()"
   ]
  },
  {
   "cell_type": "code",
   "execution_count": 64,
   "id": "4c6efda0-2a79-4ec6-8946-a213cc4a8ff9",
   "metadata": {},
   "outputs": [
    {
     "data": {
      "text/latex": [
       "$\\displaystyle \\left[\\begin{matrix}1 & 0 & 0\\\\0 & 1 & 0\\\\0 & 0 & 1\\end{matrix}\\right]$"
      ],
      "text/plain": [
       "Matrix([\n",
       "[1, 0, 0],\n",
       "[0, 1, 0],\n",
       "[0, 0, 1]])"
      ]
     },
     "execution_count": 64,
     "metadata": {},
     "output_type": "execute_result"
    }
   ],
   "source": [
    "E1.rref()[0]"
   ]
  },
  {
   "cell_type": "markdown",
   "id": "3ce5d90b-2824-4c70-bd29-c2de0a029d3b",
   "metadata": {},
   "source": [
    "#### Determinant when row multiplied by scalar"
   ]
  },
  {
   "cell_type": "code",
   "execution_count": 93,
   "id": "bed5b919-36b9-4b9b-902b-f46494053987",
   "metadata": {},
   "outputs": [],
   "source": [
    "# Consider determinant \n",
    "# note that row can multipled, then just a scale of determinant\n",
    "# COnsider that when a single row os scaled in a matrix, the determinant is scalled\n",
    "# JG - NEED VISUAL\n",
    "\n",
    "a, b, c, d, e, f, g, h, i, k = sp.symbols('a, b, c, d, e, f, g, h, i, k')\n",
    "\n",
    "E1 = sp.Matrix([[a, b], [c, d]])"
   ]
  },
  {
   "cell_type": "code",
   "execution_count": 82,
   "id": "2e50ab7e-2ffe-4255-89fc-9030a81885ba",
   "metadata": {},
   "outputs": [
    {
     "data": {
      "text/latex": [
       "$\\displaystyle \\left[\\begin{matrix}a & b\\\\c & d\\end{matrix}\\right]$"
      ],
      "text/plain": [
       "Matrix([\n",
       "[a, b],\n",
       "[c, d]])"
      ]
     },
     "execution_count": 82,
     "metadata": {},
     "output_type": "execute_result"
    }
   ],
   "source": [
    "E1"
   ]
  },
  {
   "cell_type": "code",
   "execution_count": 83,
   "id": "2c7830b5-bdd9-435d-b6e5-24b2c3942f60",
   "metadata": {},
   "outputs": [
    {
     "data": {
      "text/latex": [
       "$\\displaystyle a d - b c$"
      ],
      "text/plain": [
       "a*d - b*c"
      ]
     },
     "execution_count": 83,
     "metadata": {},
     "output_type": "execute_result"
    }
   ],
   "source": [
    "E1.det()"
   ]
  },
  {
   "cell_type": "code",
   "execution_count": 84,
   "id": "b8cff907-3584-4302-aa4c-e5fa48a97d6d",
   "metadata": {},
   "outputs": [
    {
     "data": {
      "text/latex": [
       "$\\displaystyle \\left[\\begin{matrix}a & b\\\\c k & d k\\end{matrix}\\right]$"
      ],
      "text/plain": [
       "Matrix([\n",
       "[  a,   b],\n",
       "[c*k, d*k]])"
      ]
     },
     "execution_count": 84,
     "metadata": {},
     "output_type": "execute_result"
    }
   ],
   "source": [
    "# note that \n",
    "\n",
    "E1 = sp.Matrix([[a, b], [k * c, k * d]])\n",
    "E1"
   ]
  },
  {
   "cell_type": "code",
   "execution_count": 85,
   "id": "1f576d1e-1406-48b0-bd06-10881d1efa31",
   "metadata": {},
   "outputs": [
    {
     "data": {
      "text/latex": [
       "$\\displaystyle k \\left(a d - b c\\right)$"
      ],
      "text/plain": [
       "k*(a*d - b*c)"
      ]
     },
     "execution_count": 85,
     "metadata": {},
     "output_type": "execute_result"
    }
   ],
   "source": [
    "E2 = E1.det()\n",
    "\n",
    "\n",
    "E2.collect(k)"
   ]
  },
  {
   "cell_type": "code",
   "execution_count": 86,
   "id": "69e3fe30-5b1d-4af3-9553-4a3971e76a5f",
   "metadata": {},
   "outputs": [
    {
     "data": {
      "text/latex": [
       "$\\displaystyle \\left[\\begin{matrix}a & b & c\\\\d & e & f\\\\g & h & i\\end{matrix}\\right]$"
      ],
      "text/plain": [
       "Matrix([\n",
       "[a, b, c],\n",
       "[d, e, f],\n",
       "[g, h, i]])"
      ]
     },
     "execution_count": 86,
     "metadata": {},
     "output_type": "execute_result"
    }
   ],
   "source": [
    "# Consider larger example\n",
    "\n",
    "E1 = sp.Matrix([[a, b, c], [d, e, f], [g, h, i]])\n",
    "E1"
   ]
  },
  {
   "cell_type": "code",
   "execution_count": 87,
   "id": "861ba163-3774-47e5-bac5-dea3a6c0f057",
   "metadata": {},
   "outputs": [
    {
     "data": {
      "text/latex": [
       "$\\displaystyle a e i - a f h - b d i + b f g + c d h - c e g$"
      ],
      "text/plain": [
       "a*e*i - a*f*h - b*d*i + b*f*g + c*d*h - c*e*g"
      ]
     },
     "execution_count": 87,
     "metadata": {},
     "output_type": "execute_result"
    }
   ],
   "source": [
    "E1.det()"
   ]
  },
  {
   "cell_type": "code",
   "execution_count": 88,
   "id": "e7d184e4-dec3-491c-ac9b-0bb6a40881f0",
   "metadata": {},
   "outputs": [
    {
     "data": {
      "text/latex": [
       "$\\displaystyle \\left[\\begin{matrix}a & b & c\\\\d k & e k & f k\\\\g & h & i\\end{matrix}\\right]$"
      ],
      "text/plain": [
       "Matrix([\n",
       "[  a,   b,   c],\n",
       "[d*k, e*k, f*k],\n",
       "[  g,   h,   i]])"
      ]
     },
     "execution_count": 88,
     "metadata": {},
     "output_type": "execute_result"
    }
   ],
   "source": [
    "# Consider larger example\n",
    "\n",
    "E1 = sp.Matrix([[a, b, c], [k * d, k * e, k * f], [g, h, i]])\n",
    "E1"
   ]
  },
  {
   "cell_type": "code",
   "execution_count": 89,
   "id": "07927b62-9567-42ea-9676-a6dbd28538e3",
   "metadata": {},
   "outputs": [
    {
     "data": {
      "text/latex": [
       "$\\displaystyle a e i k - a f h k - b d i k + b f g k + c d h k - c e g k$"
      ],
      "text/plain": [
       "a*e*i*k - a*f*h*k - b*d*i*k + b*f*g*k + c*d*h*k - c*e*g*k"
      ]
     },
     "execution_count": 89,
     "metadata": {},
     "output_type": "execute_result"
    }
   ],
   "source": [
    "E1.det()"
   ]
  },
  {
   "cell_type": "code",
   "execution_count": 91,
   "id": "790b6c54-663f-4402-b0b9-e2ee68fbdfd1",
   "metadata": {},
   "outputs": [
    {
     "data": {
      "text/latex": [
       "$\\displaystyle k \\left(a e i - a f h - b d i + b f g + c d h - c e g\\right)$"
      ],
      "text/plain": [
       "k*(a*e*i - a*f*h - b*d*i + b*f*g + c*d*h - c*e*g)"
      ]
     },
     "execution_count": 91,
     "metadata": {},
     "output_type": "execute_result"
    }
   ],
   "source": [
    "E1.det().collect(k)"
   ]
  },
  {
   "cell_type": "markdown",
   "id": "105fdfe2-e1ed-4b6f-92fe-b68dfd6d8c6e",
   "metadata": {},
   "source": [
    "#### Determinant when row is added"
   ]
  },
  {
   "cell_type": "code",
   "execution_count": 94,
   "id": "10f1e6c8-365a-413a-a451-958b1688c78e",
   "metadata": {},
   "outputs": [],
   "source": [
    "# this is anohter scenario to consider, when row in matrix has elements added - so all this is standard patterns which emerge"
   ]
  },
  {
   "cell_type": "code",
   "execution_count": 95,
   "id": "0bf6ec92-985e-4ac2-9823-4f5b4aaf9f30",
   "metadata": {},
   "outputs": [],
   "source": [
    "a, b, x1, x2, y1, y2 = sp.symbols('a, b, x1, x2, y1, y2')"
   ]
  },
  {
   "cell_type": "code",
   "execution_count": 103,
   "id": "8dededc5-562d-4646-9e1f-4cb55cf9f454",
   "metadata": {},
   "outputs": [
    {
     "data": {
      "text/html": [
       "$\\left[\\begin{matrix}a & b\\\\x_{1} & x_{2}\\end{matrix}\\right]$ &nbsp;&nbsp;$\\left[\\begin{matrix}a & b\\\\y_{1} & y_{2}\\end{matrix}\\right]$ &nbsp;&nbsp;"
      ],
      "text/plain": [
       "<IPython.core.display.HTML object>"
      ]
     },
     "execution_count": 103,
     "metadata": {},
     "output_type": "execute_result"
    }
   ],
   "source": [
    "# Consider 2 matrices \n",
    "E1 = sp.Matrix([[a, b], [x1, x2]])\n",
    "E2 = sp.Matrix([[a, b], [y1, y2]])\n",
    "RTL([E1, E2])"
   ]
  },
  {
   "cell_type": "code",
   "execution_count": 104,
   "id": "19440950-8484-4e27-b716-9c2f19d32a9a",
   "metadata": {},
   "outputs": [],
   "source": [
    "# now add the second rows"
   ]
  },
  {
   "cell_type": "code",
   "execution_count": 105,
   "id": "20136896-3a75-4174-82dc-892441ca1115",
   "metadata": {},
   "outputs": [
    {
     "data": {
      "text/html": [
       "$a x_{2} - b x_{1}$ &nbsp;&nbsp;$a y_{2} - b y_{1}$ &nbsp;&nbsp;"
      ],
      "text/plain": [
       "<IPython.core.display.HTML object>"
      ]
     },
     "execution_count": 105,
     "metadata": {},
     "output_type": "execute_result"
    }
   ],
   "source": [
    "RTL([E1.det(), E2.det()])"
   ]
  },
  {
   "cell_type": "code",
   "execution_count": 100,
   "id": "3b1c9fd0-24bb-452e-aca7-45faf3f0d924",
   "metadata": {},
   "outputs": [
    {
     "data": {
      "text/latex": [
       "$\\displaystyle \\left[\\begin{matrix}a & b\\\\x_{1} + y_{1} & x_{2} + y_{2}\\end{matrix}\\right]$"
      ],
      "text/plain": [
       "Matrix([\n",
       "[      a,       b],\n",
       "[x1 + y1, x2 + y2]])"
      ]
     },
     "execution_count": 100,
     "metadata": {},
     "output_type": "execute_result"
    }
   ],
   "source": [
    "E3 = sp.Matrix([[a, b], [x1 + y1, x2 + y2]])\n",
    "E3"
   ]
  },
  {
   "cell_type": "code",
   "execution_count": 101,
   "id": "43b56705-a83a-4a20-b26b-d1971592c75f",
   "metadata": {},
   "outputs": [
    {
     "data": {
      "text/latex": [
       "$\\displaystyle a x_{2} + a y_{2} - b x_{1} - b y_{1}$"
      ],
      "text/plain": [
       "a*x2 + a*y2 - b*x1 - b*y1"
      ]
     },
     "execution_count": 101,
     "metadata": {},
     "output_type": "execute_result"
    }
   ],
   "source": [
    "E3.det()"
   ]
  },
  {
   "cell_type": "code",
   "execution_count": 106,
   "id": "97a306a1-e4d0-45ff-ab1a-e474b187c7c3",
   "metadata": {},
   "outputs": [],
   "source": [
    "# so when summed, we get teh sums of determinant\n",
    "# if we have matrices, X, Y which are identical except for 1 row, row can be added to form matrix Z and determinant of Z will be sum of X and Y"
   ]
  },
  {
   "cell_type": "markdown",
   "id": "f5558d08-c06e-43f5-8770-7644b1cf0bfd",
   "metadata": {},
   "source": [
    "#### Duplicate row determinant"
   ]
  },
  {
   "cell_type": "code",
   "execution_count": 107,
   "id": "c75d4d60-d7a5-4fe8-98ff-540a9923b51d",
   "metadata": {},
   "outputs": [
    {
     "data": {
      "text/latex": [
       "$\\displaystyle \\left[\\begin{matrix}a & b & c\\\\d & e & f\\\\g & h & i\\end{matrix}\\right]$"
      ],
      "text/plain": [
       "Matrix([\n",
       "[a, b, c],\n",
       "[d, e, f],\n",
       "[g, h, i]])"
      ]
     },
     "execution_count": 107,
     "metadata": {},
     "output_type": "execute_result"
    }
   ],
   "source": [
    "E1 = sp.Matrix([[a, b, c], [d, e, f], [g, h, i]])\n",
    "E1"
   ]
  },
  {
   "cell_type": "code",
   "execution_count": 109,
   "id": "da28bd13-2240-4ab1-8325-75e16cdfb84c",
   "metadata": {},
   "outputs": [
    {
     "data": {
      "text/latex": [
       "$\\displaystyle a e i - a f h - b d i + b f g + c d h - c e g$"
      ],
      "text/plain": [
       "a*e*i - a*f*h - b*d*i + b*f*g + c*d*h - c*e*g"
      ]
     },
     "execution_count": 109,
     "metadata": {},
     "output_type": "execute_result"
    }
   ],
   "source": [
    "E1.det()"
   ]
  },
  {
   "cell_type": "code",
   "execution_count": 108,
   "id": "36e548df-ab84-4947-9640-bf1cb021a589",
   "metadata": {},
   "outputs": [
    {
     "data": {
      "text/latex": [
       "$\\displaystyle \\left[\\begin{matrix}a & b & c\\\\g & h & i\\\\d & e & f\\end{matrix}\\right]$"
      ],
      "text/plain": [
       "Matrix([\n",
       "[a, b, c],\n",
       "[g, h, i],\n",
       "[d, e, f]])"
      ]
     },
     "execution_count": 108,
     "metadata": {},
     "output_type": "execute_result"
    }
   ],
   "source": [
    "E2 = sp.Matrix([[a, b, c], [g, h, i], [d, e, f]])\n",
    "E2"
   ]
  },
  {
   "cell_type": "code",
   "execution_count": 110,
   "id": "cb80d154-91a5-45e9-b221-55a8fb72e20c",
   "metadata": {},
   "outputs": [
    {
     "data": {
      "text/latex": [
       "$\\displaystyle - a e i + a f h + b d i - b f g - c d h + c e g$"
      ],
      "text/plain": [
       "-a*e*i + a*f*h + b*d*i - b*f*g - c*d*h + c*e*g"
      ]
     },
     "execution_count": 110,
     "metadata": {},
     "output_type": "execute_result"
    }
   ],
   "source": [
    "E2.det()"
   ]
  },
  {
   "cell_type": "code",
   "execution_count": 111,
   "id": "3bd6cb44-ca0d-4a3e-adb4-7f5e4976a796",
   "metadata": {},
   "outputs": [],
   "source": [
    "# note swap rows, get a negative - if A has two rows, and swapped, you get the negative "
   ]
  },
  {
   "cell_type": "markdown",
   "id": "b1dd624d-cce5-4ea6-bcb6-9b3c0fc2f051",
   "metadata": {},
   "source": [
    "#### Determinant after row operations\n",
    "\n",
    " Note htat take any row minus the scalar mu.tiple of another row, and the determinant does not change"
   ]
  },
  {
   "cell_type": "code",
   "execution_count": 113,
   "id": "41b18993-3ecf-4d6c-8abf-4a8e9c2081c4",
   "metadata": {},
   "outputs": [
    {
     "data": {
      "text/latex": [
       "$\\displaystyle \\left[\\begin{matrix}a & b & c\\\\g & h & i\\\\d - 2 g & e - 2 h & f - 2 i\\end{matrix}\\right]$"
      ],
      "text/plain": [
       "Matrix([\n",
       "[      a,       b,       c],\n",
       "[      g,       h,       i],\n",
       "[d - 2*g, e - 2*h, f - 2*i]])"
      ]
     },
     "execution_count": 113,
     "metadata": {},
     "output_type": "execute_result"
    }
   ],
   "source": [
    "E2 = sp.Matrix([[a, b, c], [g, h, i], [d - 2 * g, e - 2 * h, f - 2 * i]])\n",
    "E2"
   ]
  },
  {
   "cell_type": "code",
   "execution_count": 114,
   "id": "8f156c80-6c80-4831-8092-2bf1b0ce0219",
   "metadata": {},
   "outputs": [
    {
     "data": {
      "text/latex": [
       "$\\displaystyle - a e i + a f h + b d i - b f g - c d h + c e g$"
      ],
      "text/plain": [
       "-a*e*i + a*f*h + b*d*i - b*f*g - c*d*h + c*e*g"
      ]
     },
     "execution_count": 114,
     "metadata": {},
     "output_type": "execute_result"
    }
   ],
   "source": [
    "E2.det()"
   ]
  },
  {
   "cell_type": "markdown",
   "id": "c811cc26-8438-45c5-96e9-c9ad831be2a9",
   "metadata": {},
   "source": [
    "#### Upper triangular determinant"
   ]
  },
  {
   "cell_type": "code",
   "execution_count": 115,
   "id": "74851ce3-544e-4350-9f05-81281abdcb4b",
   "metadata": {},
   "outputs": [
    {
     "data": {
      "text/latex": [
       "$\\displaystyle \\left[\\begin{matrix}a & b\\\\0 & d\\end{matrix}\\right]$"
      ],
      "text/plain": [
       "Matrix([\n",
       "[a, b],\n",
       "[0, d]])"
      ]
     },
     "execution_count": 115,
     "metadata": {},
     "output_type": "execute_result"
    }
   ],
   "source": [
    "# consider whenver everything below main diagnonal is 0 - can just multiply the diagonal\n",
    "a, b, d = sp.symbols('a, b, d')\n",
    "E1 = sp.Matrix([[a, b], [0, d]])\n",
    "E1"
   ]
  },
  {
   "cell_type": "code",
   "execution_count": 116,
   "id": "ca973af3-e584-4998-8ddc-d2ace8b2a1c7",
   "metadata": {},
   "outputs": [
    {
     "data": {
      "text/latex": [
       "$\\displaystyle a d$"
      ],
      "text/plain": [
       "a*d"
      ]
     },
     "execution_count": 116,
     "metadata": {},
     "output_type": "execute_result"
    }
   ],
   "source": [
    "E1.det()"
   ]
  },
  {
   "cell_type": "code",
   "execution_count": 121,
   "id": "e47e3d74-86b6-4d05-9f1e-e71da6bcde09",
   "metadata": {},
   "outputs": [
    {
     "data": {
      "text/latex": [
       "$\\displaystyle \\left[\\begin{matrix}a & b & c\\\\0 & d & e\\\\0 & 0 & f\\end{matrix}\\right]$"
      ],
      "text/plain": [
       "Matrix([\n",
       "[a, b, c],\n",
       "[0, d, e],\n",
       "[0, 0, f]])"
      ]
     },
     "execution_count": 121,
     "metadata": {},
     "output_type": "execute_result"
    }
   ],
   "source": [
    "E1 = sp.Matrix([[a, b, c], [0, d, e], [0, 0, f]])\n",
    "E1"
   ]
  },
  {
   "cell_type": "code",
   "execution_count": 122,
   "id": "7714d7a7-9b4a-46fb-bc90-012fd27bac83",
   "metadata": {},
   "outputs": [
    {
     "data": {
      "text/latex": [
       "$\\displaystyle a d f$"
      ],
      "text/plain": [
       "a*d*f"
      ]
     },
     "execution_count": 122,
     "metadata": {},
     "output_type": "execute_result"
    }
   ],
   "source": [
    "E1.det()"
   ]
  },
  {
   "cell_type": "code",
   "execution_count": 123,
   "id": "0c30d495-c2ba-436f-910a-7762ff24ff36",
   "metadata": {},
   "outputs": [
    {
     "data": {
      "text/latex": [
       "$\\displaystyle \\left[\\begin{matrix}7 & 3 & 4 & 2\\\\0 & -2 & 3 & 6\\\\0 & 0 & 1 & 7\\\\0 & 0 & 0 & 3\\end{matrix}\\right]$"
      ],
      "text/plain": [
       "Matrix([\n",
       "[7,  3, 4, 2],\n",
       "[0, -2, 3, 6],\n",
       "[0,  0, 1, 7],\n",
       "[0,  0, 0, 3]])"
      ]
     },
     "execution_count": 123,
     "metadata": {},
     "output_type": "execute_result"
    }
   ],
   "source": [
    "E1 = sp.Matrix([[7,3, 4, 2], [0, -2, 3, 6], [0, 0,1,7], [0, 0, 0, 3]])\n",
    "E1"
   ]
  },
  {
   "cell_type": "code",
   "execution_count": 124,
   "id": "2f2a00da-0ee1-4a13-8a96-d86c1ba7a167",
   "metadata": {},
   "outputs": [
    {
     "data": {
      "text/latex": [
       "$\\displaystyle -42$"
      ],
      "text/plain": [
       "-42"
      ]
     },
     "execution_count": 124,
     "metadata": {},
     "output_type": "execute_result"
    }
   ],
   "source": [
    "E1.det()"
   ]
  },
  {
   "cell_type": "markdown",
   "id": "eed8579f-f439-4633-8793-17a02c06f138",
   "metadata": {},
   "source": [
    "#### Determinant and area of a parallelogram"
   ]
  },
  {
   "cell_type": "code",
   "execution_count": 126,
   "id": "a4ddcc6c-8b37-42d3-b23c-636fb7b617e6",
   "metadata": {},
   "outputs": [
    {
     "data": {
      "text/latex": [
       "$\\displaystyle \\left[\\begin{matrix}a & b\\\\c & d\\end{matrix}\\right]$"
      ],
      "text/plain": [
       "Matrix([\n",
       "[a, b],\n",
       "[c, d]])"
      ]
     },
     "execution_count": 126,
     "metadata": {},
     "output_type": "execute_result"
    }
   ],
   "source": [
    "# consider a 2 x 2 matrix\n",
    "\n",
    "a, b, c, d = sp.symbols('a, b, c, d')\n",
    "\n",
    "E1 = sp.Matrix([[a, b], [c, d]])\n",
    "E1"
   ]
  },
  {
   "cell_type": "code",
   "execution_count": 129,
   "id": "fc2c3759-24cd-4593-94b5-9b1955fddb35",
   "metadata": {},
   "outputs": [
    {
     "data": {
      "text/html": [
       "$\\left[\\begin{matrix}a\\\\c\\end{matrix}\\right]$ &nbsp;&nbsp;$\\left[\\begin{matrix}b\\\\d\\end{matrix}\\right]$ &nbsp;&nbsp;"
      ],
      "text/plain": [
       "<IPython.core.display.HTML object>"
      ]
     },
     "execution_count": 129,
     "metadata": {},
     "output_type": "execute_result"
    }
   ],
   "source": [
    "E2 = E1.col(0)\n",
    "E3 = E1.col(1)\n",
    "\n",
    "RTL([E2, E3])"
   ]
  },
  {
   "cell_type": "code",
   "execution_count": 131,
   "id": "e311bc78-75ee-46f8-aa4b-99442530246b",
   "metadata": {},
   "outputs": [
    {
     "data": {
      "text/latex": [
       "$\\displaystyle \\sqrt{\\left|{a}\\right|^{2} + \\left|{c}\\right|^{2}}$"
      ],
      "text/plain": [
       "sqrt(Abs(a)**2 + Abs(c)**2)"
      ]
     },
     "execution_count": 131,
     "metadata": {},
     "output_type": "execute_result"
    }
   ],
   "source": [
    "# note that this can be broekn down into two vectors\n",
    "\n",
    "# note that to find area oen of these will be the \n",
    "\n",
    "E4 = E2.norm()"
   ]
  },
  {
   "cell_type": "code",
   "execution_count": 134,
   "id": "b3f5ef9c-2200-44ed-884d-da1d478bede8",
   "metadata": {},
   "outputs": [
    {
     "data": {
      "text/latex": [
       "$\\displaystyle \\frac{a b + c d}{\\sqrt{\\left|{b}\\right|^{2} + \\left|{d}\\right|^{2}}}$"
      ],
      "text/plain": [
       "(a*b + c*d)/sqrt(Abs(b)**2 + Abs(d)**2)"
      ]
     },
     "execution_count": 134,
     "metadata": {},
     "output_type": "execute_result"
    }
   ],
   "source": [
    "#Find projectoin \n",
    "E2.dot(E3) / E3.norm()"
   ]
  },
  {
   "cell_type": "code",
   "execution_count": null,
   "id": "e62d3054-00f4-462c-82c3-0a8bee531e13",
   "metadata": {},
   "outputs": [],
   "source": []
  }
 ],
 "metadata": {
  "kernelspec": {
   "display_name": "Python 3",
   "language": "python",
   "name": "python3"
  },
  "language_info": {
   "codemirror_mode": {
    "name": "ipython",
    "version": 3
   },
   "file_extension": ".py",
   "mimetype": "text/x-python",
   "name": "python",
   "nbconvert_exporter": "python",
   "pygments_lexer": "ipython3",
   "version": "3.9.2"
  }
 },
 "nbformat": 4,
 "nbformat_minor": 5
}
