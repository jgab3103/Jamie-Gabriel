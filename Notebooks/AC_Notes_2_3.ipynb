{
 "cells": [
  {
   "cell_type": "code",
   "execution_count": 19,
   "metadata": {},
   "outputs": [],
   "source": [
    "import numpy as np\n",
    "import shared_functions as sf\n",
    "import sympy as sp\n",
    "from IPython.display import HTML\n",
    "#HTML('<iframe src=\"https://www.geogebra.org/classic/bewyhuu6?embed\" width=\"600\" height=\"400\" allowfullscreen style=\"border: 1px solid #e4e4e4;border-radius: 4px;\" frameborder=\"0\"></iframe>')"
   ]
  },
  {
   "cell_type": "markdown",
   "metadata": {},
   "source": [
    "Cross product and Meisters formula\n",
    "\n",
    "Greater depth of signed area - recall starring point SOAB = 1/2(ad - bc). O is the origin \n",
    "\n",
    "It perhpas not possible, but capture intuition, \n",
    "ad - bc very important, det(ab cd) = ad - bc important concept - single number that is essentail properties. also seen in 2 proportion theorem a:b = c:d are equal to ad-bc = 0\n",
    "\n",
    "Consider that a, b and c,d are parallel when a muliptle of each other, signed area caputres the \"non paralleism\" - if singed area -0, things are parallel\n",
    "\n",
    "Currently only definited with origin - but we need to slowly build up over time - build step by step\n",
    "\n",
    "\n",
    "<b>Cross Product</b>\n",
    "NOtion of affine geometry - cross product but here with different meaning, not proudct of vector in space with vector in space giving anothe rvector in space. Cross proudct limited, vectors in teh palne\n",
    "\n",
    "If u  = (a, b) and v = (c, d)\n",
    "\n",
    "then u x v = ad - bc. It is a number \n",
    "\n",
    "linear Properties\n",
    "\n",
    "connectino between cross proudt and signed areas. \n",
    "\n",
    "note that 1/2(ad - bc) = s(OAB), so this means we can generalise this idea, not nesc connected to origin \n",
    "\n",
    "To get at signed area - triangle cross proudct theorem\n",
    "\n",
    "for any orientated triangle sABC = AB * AC = BC * BA = CA * CB......see proof\n",
    "\n",
    "\n",
    "\n",
    "\n",
    "\n",
    "If we are working with signed area, we will need to start out with some functions, points, vectorsLet's start with some functions that we will need. Nothing too complicated going on here. We will run into issues around points and vectors, construct a vector from 2 points, not the other way around. \n",
    "\n",
    "Start with some basic functions - 3 times are of another object, can compare arbitrary region....\n"
   ]
  },
  {
   "cell_type": "code",
   "execution_count": 2,
   "metadata": {},
   "outputs": [],
   "source": [
    "\n",
    "def compute_vector_from_2_points(points_list):\n",
    "    v = np.array([points_list[1][0] - points_list[0][0], points_list[1][1] - points_list[0][1]])\n",
    "    return(v)\n",
    "             \n",
    "def compute_cross_product_from_two_vectors(vector_list):\n",
    "    c = vector_list[0][0] * vector_list[1][1] - vector_list[0][1] * vector_list[1][0]\n",
    "    return(c)\n",
    "\n",
    "def compute_signed_area_of_triangle_from_two_vectors(vector_list):\n",
    "    c = compute_cross_product_from_two_vectors(vector_list)\n",
    "    signed_area = c / 2\n",
    "    return(signed_area)"
   ]
  },
  {
   "cell_type": "code",
   "execution_count": 3,
   "metadata": {},
   "outputs": [],
   "source": [
    "# Now some points\n",
    "A = np.array([4,0])\n",
    "B = np.array([4, 4])\n",
    "C = np.array([6, 4])\n",
    "D = np.array([6, 0])\n",
    "O = np.array([0, 0])\n",
    "\n",
    "\n",
    "# A = np.array([0, 3])\n",
    "# B = np.array([0, 0])\n",
    "# C = np.array([3, 3])\n",
    "# D = np.array([3, 0])\n",
    "# O = np.array([0, 0])"
   ]
  },
  {
   "cell_type": "markdown",
   "metadata": {},
   "source": [
    "Let's create some vectors from these points, because anything to do with signed area needs the notion of vectors, and cross products, operating on vectors. \n",
    "\n",
    "I am going to put all the combinations down"
   ]
  },
  {
   "cell_type": "code",
   "execution_count": 4,
   "metadata": {},
   "outputs": [],
   "source": [
    "AB = compute_vector_from_2_points([A, B])\n",
    "AC = compute_vector_from_2_points([A, C])\n",
    "AD = compute_vector_from_2_points([A, D])\n",
    "BA = compute_vector_from_2_points([B, A])\n",
    "BC = compute_vector_from_2_points([B, C])\n",
    "BD = compute_vector_from_2_points([B, D])\n",
    "CA = compute_vector_from_2_points([C, A])\n",
    "CB = compute_vector_from_2_points([C, B])\n",
    "CD = compute_vector_from_2_points([C, D])\n",
    "DA = compute_vector_from_2_points([D, A])\n",
    "DB = compute_vector_from_2_points([D, B])\n",
    "DC = compute_vector_from_2_points([D, C])\n",
    "\n",
    "OA = compute_vector_from_2_points([O, A])\n",
    "OB = compute_vector_from_2_points([O, B])\n",
    "OC = compute_vector_from_2_points([O, C])\n",
    "OD = compute_vector_from_2_points([O, D])\n",
    "AO = compute_vector_from_2_points([A, O])\n",
    "BO = compute_vector_from_2_points([B, O])\n",
    "CO = compute_vector_from_2_points([C, O])\n",
    "DO = compute_vector_from_2_points([D, O])\n",
    "\n",
    "\n",
    "OO = compute_vector_from_2_points([O, O])\n"
   ]
  },
  {
   "cell_type": "markdown",
   "metadata": {},
   "source": [
    "Now that we have vectors, we can compute cross products. THe signed area is the cross producted of 2 vectors dividded by 2. Its worth noting that, relationship with area, this is an side"
   ]
  },
  {
   "cell_type": "code",
   "execution_count": 5,
   "metadata": {},
   "outputs": [],
   "source": [
    "sAB = compute_signed_area_of_triangle_from_two_vectors([OA, OB])\n",
    "sBA = compute_signed_area_of_triangle_from_two_vectors([OB, OA])\n",
    "sBC = compute_signed_area_of_triangle_from_two_vectors([OB, OC])\n",
    "sCB = compute_signed_area_of_triangle_from_two_vectors([OC, OB])\n",
    "sCA = compute_signed_area_of_triangle_from_two_vectors([OC, OA])\n",
    "sAC = compute_signed_area_of_triangle_from_two_vectors([OA, OC])\n",
    "sCD = compute_signed_area_of_triangle_from_two_vectors([OC, OD])\n",
    "sDA = compute_signed_area_of_triangle_from_two_vectors([OD, OA])\n",
    "sAD = compute_signed_area_of_triangle_from_two_vectors([OA, OD])\n",
    "sBD = compute_signed_area_of_triangle_from_two_vectors([OB, OD])\n",
    "sDC = compute_signed_area_of_triangle_from_two_vectors([OD, OC])"
   ]
  },
  {
   "cell_type": "code",
   "execution_count": 6,
   "metadata": {},
   "outputs": [
    {
     "name": "stdout",
     "output_type": "stream",
     "text": [
      "-4.0\n",
      "4.0\n"
     ]
    }
   ],
   "source": [
    "print(sAB + sBC + sCA)\n",
    "print(sAC + sCB + sBA)"
   ]
  },
  {
   "cell_type": "markdown",
   "metadata": {},
   "source": [
    "We can go further, extend it beyond 0, rather than either take an additive approach, sOA + SOB, creating sAB sAC and come to the triangle directly. And this works. This for the case of a triangle specifically, and we could break,"
   ]
  },
  {
   "cell_type": "code",
   "execution_count": 7,
   "metadata": {},
   "outputs": [],
   "source": [
    "sABC = compute_signed_area_of_triangle_from_two_vectors([AB, AC])\n",
    "sCBA = compute_signed_area_of_triangle_from_two_vectors([BC, CD])"
   ]
  },
  {
   "cell_type": "code",
   "execution_count": 8,
   "metadata": {},
   "outputs": [
    {
     "name": "stdout",
     "output_type": "stream",
     "text": [
      "-4.0\n",
      "-4.0\n"
     ]
    }
   ],
   "source": [
    "print(sABC)\n",
    "print(sCBA)"
   ]
  },
  {
   "cell_type": "markdown",
   "metadata": {},
   "source": [
    "Something else really interesting has happened. But going from an orientated side, to an orientated triangle, something interesting has taken place. What if we had four sides? We can scale this idea really easily"
   ]
  },
  {
   "cell_type": "code",
   "execution_count": 9,
   "metadata": {},
   "outputs": [
    {
     "name": "stdout",
     "output_type": "stream",
     "text": [
      "-8.0\n",
      "8.0\n"
     ]
    }
   ],
   "source": [
    "# IF WE ADD \n",
    "print(sAB + sBC + sCD + sDA)\n",
    "print(sAD + sDC + sCB + sBA)"
   ]
  },
  {
   "cell_type": "code",
   "execution_count": 10,
   "metadata": {},
   "outputs": [],
   "source": [
    "A = np.array([-2,1])\n",
    "B = np.array([0, 4])\n",
    "C = np.array([2, 3])\n",
    "D = np.array([1, 1])\n",
    "E = np.array([3, 2])\n",
    "F = np.array([4, -1])\n",
    "G = np.array([1, -1])\n",
    "\n",
    "O = np.array([0, 0])\n",
    "\n"
   ]
  },
  {
   "cell_type": "code",
   "execution_count": 11,
   "metadata": {},
   "outputs": [],
   "source": [
    "OA = compute_vector_from_2_points([O, A])\n",
    "OB = compute_vector_from_2_points([O, B])\n",
    "OC = compute_vector_from_2_points([O, C])\n",
    "OD = compute_vector_from_2_points([O, D])\n",
    "OE = compute_vector_from_2_points([O, E])\n",
    "OF = compute_vector_from_2_points([O, F])\n",
    "OG = compute_vector_from_2_points([O, G])\n"
   ]
  },
  {
   "cell_type": "code",
   "execution_count": 12,
   "metadata": {},
   "outputs": [],
   "source": [
    "sAB = compute_signed_area_of_triangle_from_two_vectors([OA, OB])\n",
    "sBC = compute_signed_area_of_triangle_from_two_vectors([OB, OC])\n",
    "sCD = compute_signed_area_of_triangle_from_two_vectors([OC, OD])\n",
    "sDE = compute_signed_area_of_triangle_from_two_vectors([OD, OE])\n",
    "sEF = compute_signed_area_of_triangle_from_two_vectors([OE, OF])\n",
    "sFG = compute_signed_area_of_triangle_from_two_vectors([OF, OG])\n",
    "sGA = compute_signed_area_of_triangle_from_two_vectors([OG, OA])\n"
   ]
  },
  {
   "cell_type": "code",
   "execution_count": 13,
   "metadata": {},
   "outputs": [
    {
     "data": {
      "text/plain": [
       "-16.5"
      ]
     },
     "execution_count": 13,
     "metadata": {},
     "output_type": "execute_result"
    }
   ],
   "source": [
    "sAB + sBC + sCD + sDE + sEF + sFG + sGA"
   ]
  },
  {
   "cell_type": "markdown",
   "metadata": {},
   "source": [
    "What would be nice is we could have function, that passes points in order into a function, have the function compute the required vectors, adn then compute the signed area fo each oriented side, then add them up, then return to the user. In fact this, is super powerful, a formula that lets you calculate So let's do that"
   ]
  },
  {
   "cell_type": "code",
   "execution_count": 15,
   "metadata": {},
   "outputs": [],
   "source": [
    "def compute_signed_area_from_points(points_list):\n",
    "    pass"
   ]
  },
  {
   "cell_type": "markdown",
   "metadata": {},
   "source": [
    "One thing that becomes interesting, points from a circle generate them and then "
   ]
  },
  {
   "cell_type": "markdown",
   "metadata": {},
   "source": [
    "Now let's look at points on a circle, we have started with points just on the plane, but what if those points had been determined by a circle, or some other conic, such as a parabola. very powerful, because have a signed area, we can extend this"
   ]
  },
  {
   "cell_type": "markdown",
   "metadata": {},
   "source": [
    "Finally, some collinearity, distincy, zero. These things don't. I have left this here, but to assure you that it is very powerful"
   ]
  },
  {
   "cell_type": "code",
   "execution_count": null,
   "metadata": {},
   "outputs": [],
   "source": []
  }
 ],
 "metadata": {
  "kernelspec": {
   "display_name": "SageMath 9.0",
   "language": "sage",
   "name": "sagemath"
  },
  "language_info": {
   "codemirror_mode": {
    "name": "ipython",
    "version": 3
   },
   "file_extension": ".py",
   "mimetype": "text/x-python",
   "name": "python",
   "nbconvert_exporter": "python",
   "pygments_lexer": "ipython3",
   "version": "3.7.3"
  }
 },
 "nbformat": 4,
 "nbformat_minor": 4
}
