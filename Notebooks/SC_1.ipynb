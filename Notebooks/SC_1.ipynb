{
 "cells": [
  {
   "cell_type": "code",
   "execution_count": 1,
   "id": "6dd866d6-49eb-4efc-94c5-70044517bc26",
   "metadata": {},
   "outputs": [],
   "source": [
    "# !pip install chempy\n",
    "# !pip install periodictable\n",
    "# !pip install PyAstronomy\n",
    "\n",
    "import periodictable as pt\n",
    "import chempy as ch\n",
    "import numpy as np\n",
    "import sympy as sp\n",
    "import pickle\n",
    "from IPython.display import HTML\n",
    "import ipywidgets as widgets\n",
    "import matplotlib as mpl\n",
    "import matplotlib.pyplot as plt\n",
    "from mpl_toolkits.mplot3d import Axes3D\n",
    "import matplotlib.pyplot as plt\n",
    "mpl.rcParams['legend.fontsize'] = 10\n",
    "import pandas as pd\n",
    "import itertools\n",
    "pd.set_option('display.max_colwidth', None)\n",
    "from sympy.plotting import plot \n",
    "from IPython.display import Image\n",
    "from PyAstronomy import pyasl\n",
    "import decimal\n",
    "\n",
    "import sympy.physics.units as u\n",
    "from sympy.physics.units.systems import SI\n",
    "\n",
    "from sympy.physics.units import speed_of_light, meter, gram, second, day, pound\n",
    "from sympy.physics.units import mile, newton, kilogram, atomic_mass_constant\n",
    "from sympy.physics.units import kilometer, centimeter, millimeter, nanometer\n",
    "from sympy.physics.units import gravitational_constant, hbar, kPa, newton\n",
    "from sympy.physics.units import convert_to\n",
    "\n",
    "def RTL(e):\n",
    "    \"\"\"INPUT PARAMS: [] of math expressions\"\"\"\n",
    "    latex_rendering = []\n",
    "\n",
    "    for i in range(len(e)):\n",
    "        latex_rendering.append(\"$\" + sp.latex(e[i]) + \"$ &nbsp;&nbsp;\")\n",
    "    \n",
    "    return(HTML(\"\".join(latex_rendering[0:])))\n",
    "\n",
    "\n",
    "def ConvertToSN(e):\n",
    "    return('%.2E' % decimal.Decimal(e))\n",
    "    \n",
    "\n",
    "class Atom: \n",
    "    def __init__(self, pCount, nCount, eCount):\n",
    "        \"\"\"INPUT PARAMS: countOfProtons, countOfNeutrons, countOfElectrons\"\"\"\n",
    "        \n",
    "        an = pyasl.AtomicNo()\n",
    "        \n",
    "        self.Protons = pCount\n",
    "        self.Neutrons = nCount\n",
    "        self.Electrons = eCount\n",
    "        self.ElementName = an.getElementName(pCount)\n",
    "        self.ElementNameWithAtomicMass = an.getElementName(pCount) + \"(\" + str(self.Protons) + \",\" + str(self.Protons + self.Neutrons) + \")\"\n",
    "    \n",
    "    def CreateSummary(self):\n",
    "        print(\"Name: \", self.ElementName)\n",
    "        print(\"Protons: \", self.Protons)\n",
    "        print(\"Neutrons: \", self.Neutrons)\n",
    "        print(\"Electrons: \", self.Electrons)"
   ]
  },
  {
   "cell_type": "code",
   "execution_count": 2,
   "id": "5dc60938-84eb-46cb-bb61-c61efad5cec7",
   "metadata": {},
   "outputs": [
    {
     "data": {
      "text/latex": [
       "$\\displaystyle 3200.4 \\text{mm}$"
      ],
      "text/plain": [
       "3200.4*millimeter"
      ]
     },
     "execution_count": 2,
     "metadata": {},
     "output_type": "execute_result"
    }
   ],
   "source": [
    "# Solved Problems\n",
    "# 1.2 \n",
    "# (a)\n",
    "\n",
    "d = u.Quantity('d')\n",
    "SI.set_quantity_dimension(d, u.length)\n",
    "SI.set_quantity_scale_factor(d, 3.5*u.yards)\n",
    "\n",
    "E1 = u.convert_to(d, u.mm)\n",
    "E1"
   ]
  },
  {
   "cell_type": "code",
   "execution_count": 4,
   "id": "994be702-a8b9-4d82-a0aa-0d821bddb410",
   "metadata": {},
   "outputs": [
    {
     "data": {
      "text/latex": [
       "$\\displaystyle 3.2004 \\text{m}$"
      ],
      "text/plain": [
       "3.2004*meter"
      ]
     },
     "execution_count": 4,
     "metadata": {},
     "output_type": "execute_result"
    }
   ],
   "source": [
    "# (b)\n",
    "d = u.Quantity('d')\n",
    "SI.set_quantity_dimension(d, u.length)\n",
    "SI.set_quantity_scale_factor(d, 3.5 * u.yards)\n",
    "E1 = u.convert_to(d, u.m)\n",
    "E1"
   ]
  },
  {
   "cell_type": "code",
   "execution_count": 5,
   "id": "7b02a1dc-11e6-4d29-a82f-7424838cb24e",
   "metadata": {},
   "outputs": [
    {
     "data": {
      "text/latex": [
       "$\\displaystyle \\frac{700 \\text{inch}}{127}$"
      ],
      "text/plain": [
       "700*inch/127"
      ]
     },
     "execution_count": 5,
     "metadata": {},
     "output_type": "execute_result"
    }
   ],
   "source": [
    "# 1.3\n",
    "# (a)\n",
    "\n",
    "d = u.Quantity('d')\n",
    "SI.set_quantity_dimension(d, u.length)\n",
    "SI.set_quantity_scale_factor(d, 14 * u.cm)\n",
    "E1 = u.convert_to(d, u.inches)\n",
    "E1"
   ]
  },
  {
   "cell_type": "code",
   "execution_count": 6,
   "id": "be96efc1-0975-4b4d-8b7e-e8fc0722ff6a",
   "metadata": {},
   "outputs": [
    {
     "data": {
      "text/latex": [
       "$\\displaystyle \\frac{35000 \\text{inch}}{127}$"
      ],
      "text/plain": [
       "35000*inch/127"
      ]
     },
     "execution_count": 6,
     "metadata": {},
     "output_type": "execute_result"
    }
   ],
   "source": [
    "# (b)\n",
    "d = u.Quantity('d')\n",
    "SI.set_quantity_dimension(d, u.length)\n",
    "SI.set_quantity_scale_factor(d, 7 * u.meters)\n",
    "E1 = u.convert_to(d, u.inches)\n",
    "E1"
   ]
  },
  {
   "cell_type": "code",
   "execution_count": 7,
   "id": "95f3894c-3bd9-4d0d-a508-e0add625cb30",
   "metadata": {},
   "outputs": [
    {
     "data": {
      "text/latex": [
       "$\\displaystyle \\frac{25000000 \\text{inch}^{2}}{16129}$"
      ],
      "text/plain": [
       "25000000*inch**2/16129"
      ]
     },
     "execution_count": 7,
     "metadata": {},
     "output_type": "execute_result"
    }
   ],
   "source": [
    "# 1.4\n",
    "# (a)\n",
    "d = u.Quantity('d')\n",
    "SI.set_quantity_dimension(d, u.length**2)\n",
    "SI.set_quantity_scale_factor(d, 1 * u.meter**2)\n",
    "E1 = u.convert_to(d, u.inches)\n",
    "E1"
   ]
  },
  {
   "cell_type": "code",
   "execution_count": 8,
   "id": "5c06c9a2-7a89-466c-bacc-b6d050f98c18",
   "metadata": {},
   "outputs": [
    {
     "data": {
      "text/latex": [
       "$\\displaystyle 1000000 \\text{cm}^{3}$"
      ],
      "text/plain": [
       "1000000*centimeter**3"
      ]
     },
     "execution_count": 8,
     "metadata": {},
     "output_type": "execute_result"
    }
   ],
   "source": [
    "# 1.5\n",
    "# (a)\n",
    "v = u.Quantity('v')\n",
    "SI.set_quantity_dimension(v, u.volume)\n",
    "SI.set_quantity_scale_factor(v, 1 * u.meter**3)\n",
    "E1 = u.convert_to(v, u.centimeters)\n",
    "E1"
   ]
  },
  {
   "cell_type": "code",
   "execution_count": 9,
   "id": "63c76744-96cd-45ec-9509-a899d04bac09",
   "metadata": {},
   "outputs": [
    {
     "data": {
      "text/latex": [
       "$\\displaystyle 1000 \\text{liter}$"
      ],
      "text/plain": [
       "1000*liter"
      ]
     },
     "execution_count": 9,
     "metadata": {},
     "output_type": "execute_result"
    }
   ],
   "source": [
    "# (b)\n",
    "v = u.Quantity('v')\n",
    "SI.set_quantity_dimension(v, u.volume)\n",
    "SI.set_quantity_scale_factor(v, 1 * u.meter**3)\n",
    "E1 = u.convert_to(v, u.liters)\n",
    "E1"
   ]
  },
  {
   "cell_type": "code",
   "execution_count": 10,
   "id": "05cc4726-3fe7-4511-a6c7-edc16ce144d4",
   "metadata": {},
   "outputs": [
    {
     "data": {
      "text/latex": [
       "$\\displaystyle 1000 \\text{cm}^{3}$"
      ],
      "text/plain": [
       "1000*centimeter**3"
      ]
     },
     "execution_count": 10,
     "metadata": {},
     "output_type": "execute_result"
    }
   ],
   "source": [
    "# (c)\n",
    "v = u.Quantity('v')\n",
    "SI.set_quantity_dimension(v, u.volume)\n",
    "SI.set_quantity_scale_factor(v, 1 * u.liters)\n",
    "E1 = u.convert_to(v, u.cm)\n",
    "E1"
   ]
  },
  {
   "cell_type": "code",
   "execution_count": 11,
   "id": "81d3b680-e669-42ae-bca8-d5491bf64623",
   "metadata": {},
   "outputs": [
    {
     "data": {
      "text/latex": [
       "$\\displaystyle 3 \\text{liter}$"
      ],
      "text/plain": [
       "3*liter"
      ]
     },
     "execution_count": 11,
     "metadata": {},
     "output_type": "execute_result"
    }
   ],
   "source": [
    "# 1.6\n",
    "E1 = 60 * 10 * 5\n",
    "v = u.Quantity('v')\n",
    "SI.set_quantity_dimension(v, u.volume)\n",
    "SI.set_quantity_scale_factor(v, E1 * u.cm**3)\n",
    "E2 = u.convert_to(v, u.liters)\n",
    "E2"
   ]
  },
  {
   "cell_type": "code",
   "execution_count": 12,
   "id": "6e018893-20b4-4a6c-8094-0cdeb7c2f14c",
   "metadata": {},
   "outputs": [
    {
     "data": {
      "text/latex": [
       "$\\displaystyle 29.93709642 \\text{kg}$"
      ],
      "text/plain": [
       "29.93709642*kilogram"
      ]
     },
     "execution_count": 12,
     "metadata": {},
     "output_type": "execute_result"
    }
   ],
   "source": [
    "# 1.7\n",
    "#(a)\n",
    "sp.N(convert_to(66 * pound, kilogram))"
   ]
  },
  {
   "cell_type": "code",
   "execution_count": 13,
   "id": "3fc503e7-3a7b-4249-8a18-7a17325cee53",
   "metadata": {},
   "outputs": [
    {
     "data": {
      "text/latex": [
       "$\\displaystyle 29937.09642 \\text{g}$"
      ],
      "text/plain": [
       "29937.09642*gram"
      ]
     },
     "execution_count": 13,
     "metadata": {},
     "output_type": "execute_result"
    }
   ],
   "source": [
    "# (b) \n",
    "sp.N(convert_to(66 * pound, gram))"
   ]
  },
  {
   "cell_type": "code",
   "execution_count": 14,
   "id": "9ca78102-b524-4d6f-a4bf-921a4ab26604",
   "metadata": {},
   "outputs": [
    {
     "data": {
      "text/latex": [
       "$\\displaystyle 7.49571691428584 \\text{pound}$"
      ],
      "text/plain": [
       "7.49571691428584*pound"
      ]
     },
     "execution_count": 14,
     "metadata": {},
     "output_type": "execute_result"
    }
   ],
   "source": [
    "# (c)\n",
    "sp.N(convert_to(3.4 * kilogram, pound))"
   ]
  },
  {
   "cell_type": "code",
   "execution_count": 15,
   "id": "4df37983-451e-4962-9a90-d948d6a4f6ce",
   "metadata": {},
   "outputs": [
    {
     "data": {
      "text/latex": [
       "$\\displaystyle 2.5 \\cdot 10^{-6} \\text{mm}$"
      ],
      "text/plain": [
       "2.5e-6*millimeter"
      ]
     },
     "execution_count": 15,
     "metadata": {},
     "output_type": "execute_result"
    }
   ],
   "source": [
    "# 1.8\n",
    "\n",
    "x = sp.symbols('x')\n",
    "# convert area to mm\n",
    "E1 = sp.N(convert_to(400 * centimeter**2, millimeter))\n",
    "# Create equation\n",
    "E2 = sp.Eq(E1 * x, .1 * u.millimeter **3  )\n",
    "E3 = sp.solve(E2, x)[0]\n",
    "E3"
   ]
  },
  {
   "cell_type": "code",
   "execution_count": 16,
   "id": "01922ba3-843d-46a5-bed1-db21d3b82ea1",
   "metadata": {},
   "outputs": [
    {
     "data": {
      "text/latex": [
       "$\\displaystyle 2.5 \\text{nm}$"
      ],
      "text/plain": [
       "2.5*nanometer"
      ]
     },
     "execution_count": 16,
     "metadata": {},
     "output_type": "execute_result"
    }
   ],
   "source": [
    "# convert to nanometers \n",
    "E4 = sp.N(convert_to(E3, nanometer))\n",
    "E4"
   ]
  },
  {
   "cell_type": "code",
   "execution_count": 17,
   "id": "63ebb8a7-a193-4e05-a4a7-7cc7d34bd7e9",
   "metadata": {},
   "outputs": [
    {
     "data": {
      "text/latex": [
       "$\\displaystyle 25.0$"
      ],
      "text/plain": [
       "25.0000000000000"
      ]
     },
     "execution_count": 17,
     "metadata": {},
     "output_type": "execute_result"
    }
   ],
   "source": [
    "# convert to angstroms\n",
    "E5  = (E4 * 10).args[0]\n",
    "E5"
   ]
  },
  {
   "cell_type": "code",
   "execution_count": 18,
   "id": "4c2f9fe2-1960-4817-a1ea-3db1253e4030",
   "metadata": {},
   "outputs": [
    {
     "data": {
      "text/latex": [
       "$\\displaystyle \\frac{101300.0 \\text{N}}{\\text{m}^{2}}$"
      ],
      "text/plain": [
       "101300.0*newton/meter**2"
      ]
     },
     "execution_count": 18,
     "metadata": {},
     "output_type": "execute_result"
    }
   ],
   "source": [
    "# 1.9\n",
    "# convert KPA to newtons per square meter\n",
    "E1 = u.newton * 1000 * 101.3 / u.meter **2\n",
    "# conver to lbf per square inch\n",
    "E1"
   ]
  },
  {
   "cell_type": "code",
   "execution_count": 19,
   "id": "fdd0ef61-a50b-47bf-bf60-cb579a40a1cd",
   "metadata": {},
   "outputs": [
    {
     "data": {
      "text/latex": [
       "$\\displaystyle \\frac{0.00064516 \\text{m}^{2}}{\\text{inch}^{2}}$"
      ],
      "text/plain": [
       "0.00064516*meter**2/inch**2"
      ]
     },
     "execution_count": 19,
     "metadata": {},
     "output_type": "execute_result"
    }
   ],
   "source": [
    "# Create sq meters to inc conversion\n",
    "E2 = sp.N(u.meters**2 / convert_to(u.meters**2, u.inch))\n",
    "E2"
   ]
  },
  {
   "cell_type": "code",
   "execution_count": 20,
   "id": "82d7d3cd-9215-4633-a4f6-dfa7ce036fc1",
   "metadata": {},
   "outputs": [
    {
     "data": {
      "text/latex": [
       "$\\displaystyle 0.223214285714286 lbf \\text{N}$"
      ],
      "text/plain": [
       "0.223214285714286*newton*lbf"
      ]
     },
     "execution_count": 20,
     "metadata": {},
     "output_type": "execute_result"
    }
   ],
   "source": [
    "# Create lbf to to newtons conersion\n",
    "lbf = sp.symbols('lbf')\n",
    "E3 = lbf / 4.48 * u.newton\n",
    "E3\n"
   ]
  },
  {
   "cell_type": "code",
   "execution_count": 21,
   "id": "c7372789-37f1-4b48-9af1-0869bc86b81b",
   "metadata": {},
   "outputs": [
    {
     "data": {
      "text/latex": [
       "$\\displaystyle \\frac{14.5881044642857 lbf}{\\text{inch}^{2}}$"
      ],
      "text/plain": [
       "14.5881044642857*lbf/inch**2"
      ]
     },
     "execution_count": 21,
     "metadata": {},
     "output_type": "execute_result"
    }
   ],
   "source": [
    "(E1 * E2 * E3) / u.newton**2"
   ]
  },
  {
   "cell_type": "code",
   "execution_count": 30,
   "id": "7a0827ca-d2f0-4eeb-8d32-055f26203e56",
   "metadata": {},
   "outputs": [
    {
     "data": {
      "text/latex": [
       "$\\displaystyle \\frac{10 \\text{m}}{\\text{s}}$"
      ],
      "text/plain": [
       "10*meter/second"
      ]
     },
     "execution_count": 30,
     "metadata": {},
     "output_type": "execute_result"
    }
   ],
   "source": [
    "# 1.10\n",
    "#(a)\n",
    "E1 = (100 * u.meters) / (10 * u.seconds)\n",
    "E1"
   ]
  },
  {
   "cell_type": "code",
   "execution_count": 31,
   "id": "8494def3-0259-4de6-8831-2825b36f3b99",
   "metadata": {},
   "outputs": [
    {
     "data": {
      "text/latex": [
       "$\\displaystyle \\frac{36000 \\text{m}}{\\text{hour}}$"
      ],
      "text/plain": [
       "36000*meter/hour"
      ]
     },
     "execution_count": 31,
     "metadata": {},
     "output_type": "execute_result"
    }
   ],
   "source": [
    "E2 = E1 * 3600 * u.seconds / u.hour\n",
    "E2"
   ]
  },
  {
   "cell_type": "code",
   "execution_count": 32,
   "id": "58c71104-71bb-41f4-9283-0079acd1c820",
   "metadata": {},
   "outputs": [
    {
     "data": {
      "text/latex": [
       "$\\displaystyle \\frac{36 \\text{km}}{\\text{hour}}$"
      ],
      "text/plain": [
       "36*kilometer/hour"
      ]
     },
     "execution_count": 32,
     "metadata": {},
     "output_type": "execute_result"
    }
   ],
   "source": [
    "E2 *  u.kilometer / (u.meter * 1000)"
   ]
  },
  {
   "cell_type": "code",
   "execution_count": 34,
   "id": "6e11f044-0696-43e5-b55e-a63e9df039bf",
   "metadata": {},
   "outputs": [
    {
     "data": {
      "text/latex": [
       "$\\displaystyle \\frac{10 \\text{m}}{\\text{s}}$"
      ],
      "text/plain": [
       "10*meter/second"
      ]
     },
     "execution_count": 34,
     "metadata": {},
     "output_type": "execute_result"
    }
   ],
   "source": [
    "# 1.10\n",
    "# (b)\n",
    "E1 = (100 * u.meters) / (10 * u.seconds)\n",
    "E1"
   ]
  },
  {
   "cell_type": "code",
   "execution_count": 39,
   "id": "2208af8f-8378-467d-8ee4-1e0ae6450a6f",
   "metadata": {},
   "outputs": [
    {
     "data": {
      "text/latex": [
       "$\\displaystyle \\frac{36000 \\text{m}}{\\text{hour}}$"
      ],
      "text/plain": [
       "36000*meter/hour"
      ]
     },
     "execution_count": 39,
     "metadata": {},
     "output_type": "execute_result"
    }
   ],
   "source": [
    "# convert seconds to hours\n",
    "E2 = E1 * ((3600 * u.seconds) / u.hour)\n",
    "E2"
   ]
  },
  {
   "cell_type": "code",
   "execution_count": 44,
   "id": "c3041812-0bea-44c5-871c-87128ffc5411",
   "metadata": {},
   "outputs": [
    {
     "data": {
      "text/latex": [
       "$\\displaystyle \\frac{22.369362920544 \\text{mile}}{\\text{hour}}$"
      ],
      "text/plain": [
       "22.369362920544*mile/hour"
      ]
     },
     "execution_count": 44,
     "metadata": {},
     "output_type": "execute_result"
    }
   ],
   "source": [
    "# convert meters to miles\n",
    "sp.N(E2 * convert_to(u.meter, u.mile) / u.meter)"
   ]
  },
  {
   "cell_type": "code",
   "execution_count": 57,
   "id": "132c621b-9d47-4c20-ad86-fd398ba51470",
   "metadata": {},
   "outputs": [
    {
     "data": {
      "text/latex": [
       "$\\displaystyle \\frac{656 \\text{liter}}{\\text{day}}$"
      ],
      "text/plain": [
       "656*liter/day"
      ]
     },
     "execution_count": 57,
     "metadata": {},
     "output_type": "execute_result"
    }
   ],
   "source": [
    "# 1.11\n",
    "# 7.9 p million consume 656Li/Da\n",
    "# !!\n",
    "\n",
    "# find metric tones per year\n",
    "\n",
    "E1 = (656 * u.liters) / u.day\n",
    "E1"
   ]
  },
  {
   "cell_type": "code",
   "execution_count": 58,
   "id": "0c209744-6e05-403a-987c-2326e4299131",
   "metadata": {},
   "outputs": [
    {
     "data": {
      "text/latex": [
       "$\\displaystyle \\frac{5182400000.0 \\text{liter}}{\\text{day}}$"
      ],
      "text/plain": [
       "5182400000.0*liter/day"
      ]
     },
     "execution_count": 58,
     "metadata": {},
     "output_type": "execute_result"
    }
   ],
   "source": [
    "# scale by amount of people\n",
    "E2 = 7.9 * 10**6 * E1\n",
    "E2"
   ]
  },
  {
   "cell_type": "code",
   "execution_count": 59,
   "id": "5ebedc31-38be-468d-b5dc-c6f64ec68efe",
   "metadata": {},
   "outputs": [
    {
     "data": {
      "text/latex": [
       "$\\displaystyle \\frac{1891576000000.0 \\text{liter}}{\\text{tropical_year}}$"
      ],
      "text/plain": [
       "1891576000000.0*liter/tropical_year"
      ]
     },
     "execution_count": 59,
     "metadata": {},
     "output_type": "execute_result"
    }
   ],
   "source": [
    "# convert day to \n",
    "mt = sp.symbols('mt')\n",
    "E3 = E2 * (365 * u.day / u.year)\n",
    "E3"
   ]
  },
  {
   "cell_type": "code",
   "execution_count": 60,
   "id": "f9a58cf8-ded6-4e27-b53a-b73626e7ddf7",
   "metadata": {},
   "outputs": [
    {
     "data": {
      "text/latex": [
       "$\\displaystyle \\frac{1891576000.0 mt}{\\text{tropical_year}}$"
      ],
      "text/plain": [
       "1891576000.0*mt/tropical_year"
      ]
     },
     "execution_count": 60,
     "metadata": {},
     "output_type": "execute_result"
    }
   ],
   "source": [
    "# convert litres to metric tonnes\n",
    "E4 = E3 *  (1 * mt) / (1000 * u.liter)\n",
    "E4"
   ]
  },
  {
   "cell_type": "code",
   "execution_count": 62,
   "id": "a5d3edb8-f810-440f-83fc-3a17df88561f",
   "metadata": {},
   "outputs": [
    {
     "data": {
      "text/latex": [
       "$\\displaystyle 2880 \\text{minute}$"
      ],
      "text/plain": [
       "2880*minute"
      ]
     },
     "execution_count": 62,
     "metadata": {},
     "output_type": "execute_result"
    }
   ],
   "source": [
    "# 1.12\n",
    "# calculate total litres over 48 hour period\n",
    "E1 = 48  * 60 * u.minute\n",
    "E1"
   ]
  },
  {
   "cell_type": "code",
   "execution_count": 63,
   "id": "29337eea-d8d8-4667-8eaf-f74445c30393",
   "metadata": {},
   "outputs": [
    {
     "data": {
      "text/latex": [
       "$\\displaystyle \\frac{26.2 \\text{liter}}{\\text{minute}}$"
      ],
      "text/plain": [
       "26.2*liter/minute"
      ]
     },
     "execution_count": 63,
     "metadata": {},
     "output_type": "execute_result"
    }
   ],
   "source": [
    "# get total amount of litres\n",
    "E2 = 26.2 * u.liters / u.minute\n",
    "E2"
   ]
  },
  {
   "cell_type": "code",
   "execution_count": 64,
   "id": "4dd88479-cf6b-4f63-9267-1531e3dbbe3d",
   "metadata": {},
   "outputs": [
    {
     "data": {
      "text/latex": [
       "$\\displaystyle 75456.0 \\text{liter}$"
      ],
      "text/plain": [
       "75456.0*liter"
      ]
     },
     "execution_count": 64,
     "metadata": {},
     "output_type": "execute_result"
    }
   ],
   "source": [
    "E3 = E1 * E2\n",
    "E3"
   ]
  },
  {
   "cell_type": "code",
   "execution_count": 69,
   "id": "c42118c9-b92f-4706-8ef3-b2ace5869e96",
   "metadata": {},
   "outputs": [
    {
     "data": {
      "text/latex": [
       "$\\displaystyle 75.456 \\text{m}^{3}$"
      ],
      "text/plain": [
       "75.456*meter**3"
      ]
     },
     "execution_count": 69,
     "metadata": {},
     "output_type": "execute_result"
    }
   ],
   "source": [
    "# Convert litres to cubic metres\n",
    "E4 = u.convert_to(E3, u.meters ** 3)\n",
    "E4"
   ]
  },
  {
   "cell_type": "code",
   "execution_count": 67,
   "id": "2465d84a-3791-4484-91a2-2023612a0d78",
   "metadata": {},
   "outputs": [],
   "source": [
    "# Let x be original mass of filter\n",
    "x = sp.symbols('x')"
   ]
  },
  {
   "cell_type": "code",
   "execution_count": 72,
   "id": "f5537110-5b55-4cca-9aec-463d5723eaa8",
   "metadata": {},
   "outputs": [
    {
     "data": {
      "text/html": [
       "$0.00369 \\text{km}$ &nbsp;&nbsp;$369.0 \\text{cm}$ &nbsp;&nbsp;$3690.0 \\text{mm}$ &nbsp;&nbsp;"
      ],
      "text/plain": [
       "<IPython.core.display.HTML object>"
      ]
     },
     "execution_count": 72,
     "metadata": {},
     "output_type": "execute_result"
    }
   ],
   "source": [
    "# Supplementary problems\n",
    "# 1.26\n",
    "# (a)\n",
    "E1 = u.convert_to(3.69 * u.meter, u.kilometer)\n",
    "E2 = u.convert_to(3.69 * u.meter, u.centimeter)\n",
    "E3 = u.convert_to(3.69  * u.meter, u.millimeter)\n",
    "RTL([E1, E2, E3])"
   ]
  },
  {
   "cell_type": "code",
   "execution_count": 73,
   "id": "777f435b-f15a-4bdf-8212-fc1abaccd08b",
   "metadata": {},
   "outputs": [
    {
     "data": {
      "text/html": [
       "$3.624 \\text{cm}$ &nbsp;&nbsp;$0.03624 \\text{m}$ &nbsp;&nbsp;"
      ],
      "text/plain": [
       "<IPython.core.display.HTML object>"
      ]
     },
     "execution_count": 73,
     "metadata": {},
     "output_type": "execute_result"
    }
   ],
   "source": [
    "# (b)\n",
    "E1 = u.convert_to(36.24 * u.millimeter, u.centimeter)\n",
    "E2 = u.convert_to(36.24 * u.millimeter, u.meter)\n",
    "RTL([E1, E2])"
   ]
  },
  {
   "cell_type": "code",
   "execution_count": 76,
   "id": "a1af74e5-180a-4bc1-8226-273cef797408",
   "metadata": {},
   "outputs": [
    {
     "data": {
      "text/latex": [
       "$\\displaystyle 254.0 \\text{mm}$"
      ],
      "text/plain": [
       "254.0*millimeter"
      ]
     },
     "execution_count": 76,
     "metadata": {},
     "output_type": "execute_result"
    }
   ],
   "source": [
    "# 1.27\n",
    "# (a)\n",
    "E1 = sp.N(u.convert_to(10 * u.inch, u.millimeter))\n",
    "E1"
   ]
  },
  {
   "cell_type": "code",
   "execution_count": 77,
   "id": "7f88586e-bb91-4079-b3cb-3be95ef7e869",
   "metadata": {},
   "outputs": [
    {
     "data": {
      "text/latex": [
       "$\\displaystyle 16.4041994750656 \\text{ft}$"
      ],
      "text/plain": [
       "16.4041994750656*foot"
      ]
     },
     "execution_count": 77,
     "metadata": {},
     "output_type": "execute_result"
    }
   ],
   "source": [
    "# (b)\n",
    "E1 = sp.N(u.convert_to(5 * u.meter, u.foot))\n",
    "E1"
   ]
  },
  {
   "cell_type": "code",
   "execution_count": 79,
   "id": "4249b019-00f0-4fc8-ab83-1963fe01e049",
   "metadata": {},
   "outputs": [
    {
     "data": {
      "text/latex": [
       "$\\displaystyle 129.54 \\text{cm}$"
      ],
      "text/plain": [
       "129.54*centimeter"
      ]
     },
     "execution_count": 79,
     "metadata": {},
     "output_type": "execute_result"
    }
   ],
   "source": [
    "# (c)\n",
    "E1 = sp.N(u.convert_to(4 * u.foot + 3 * u.inch, u.centimeter))\n",
    "E1"
   ]
  },
  {
   "cell_type": "code",
   "execution_count": 80,
   "id": "dd9084c6-27e0-4cd9-8ba2-d7b9df521ce8",
   "metadata": {},
   "outputs": [
    {
     "data": {
      "text/latex": [
       "$\\displaystyle 900 \\text{ft}$"
      ],
      "text/plain": [
       "900*foot"
      ]
     },
     "execution_count": 80,
     "metadata": {},
     "output_type": "execute_result"
    }
   ],
   "source": [
    "# 1.28\n",
    "# (a)\n",
    "E1 = u.convert_to(300 * u.yard, u.foot)\n",
    "E1"
   ]
  },
  {
   "cell_type": "code",
   "execution_count": 83,
   "id": "6aed8194-ac7c-4895-99af-f6f9de56464e",
   "metadata": {},
   "outputs": [
    {
     "data": {
      "text/latex": [
       "$\\displaystyle 274.32 \\text{m}$"
      ],
      "text/plain": [
       "274.32*meter"
      ]
     },
     "execution_count": 83,
     "metadata": {},
     "output_type": "execute_result"
    }
   ],
   "source": [
    "# (b)\n",
    "E1 = sp.N(u.convert_to(300 * u.yard, u.meter))\n",
    "E1"
   ]
  },
  {
   "cell_type": "code",
   "execution_count": 85,
   "id": "56f927a7-9338-452c-a924-70515edb638f",
   "metadata": {},
   "outputs": [
    {
     "data": {
      "text/latex": [
       "$\\displaystyle 0.27432 \\text{km}$"
      ],
      "text/plain": [
       "0.27432*kilometer"
      ]
     },
     "execution_count": 85,
     "metadata": {},
     "output_type": "execute_result"
    }
   ],
   "source": [
    "# (c)\n",
    "E1 = sp.N(u.convert_to(300 * u.yard, u.kilometer))\n",
    "E1"
   ]
  },
  {
   "cell_type": "code",
   "execution_count": 86,
   "id": "b4e63d42-a5f2-41c0-b7e7-e023a974d01a",
   "metadata": {},
   "outputs": [
    {
     "data": {
      "text/latex": [
       "$\\displaystyle 0.96012 \\text{cm}$"
      ],
      "text/plain": [
       "0.96012*centimeter"
      ]
     },
     "execution_count": 86,
     "metadata": {},
     "output_type": "execute_result"
    }
   ],
   "source": [
    "# 1.29\n",
    "E1 = sp.N(u.convert_to(.378 * u.inch, u.centimeter))\n",
    "E1"
   ]
  },
  {
   "cell_type": "code",
   "execution_count": 89,
   "id": "b5ad5592-3740-4c41-902a-809239906524",
   "metadata": {},
   "outputs": [
    {
     "data": {
      "text/latex": [
       "$\\displaystyle 35.56 \\text{cm}$"
      ],
      "text/plain": [
       "35.56*centimeter"
      ]
     },
     "execution_count": 89,
     "metadata": {},
     "output_type": "execute_result"
    }
   ],
   "source": [
    "# 1.30\n",
    "# (a)\n",
    "E1 = sp.N(u.convert_to(14 * u.inch, u.centimeter))\n",
    "E1"
   ]
  },
  {
   "cell_type": "code",
   "execution_count": 90,
   "id": "dd32aad5-66a9-48a7-b765-7257e44424c4",
   "metadata": {},
   "outputs": [
    {
     "data": {
      "text/latex": [
       "$\\displaystyle 640.08 \\text{cm}$"
      ],
      "text/plain": [
       "640.08*centimeter"
      ]
     },
     "execution_count": 90,
     "metadata": {},
     "output_type": "execute_result"
    }
   ],
   "source": [
    "# (b)\n",
    "E1 = sp.N(u.convert_to(7 * u.yard, u.centimeter))\n",
    "E1"
   ]
  },
  {
   "cell_type": "code",
   "execution_count": 93,
   "id": "b038822e-4c4f-4b94-82e5-3b8983d77b17",
   "metadata": {},
   "outputs": [
    {
     "data": {
      "text/latex": [
       "$\\displaystyle 146 \\text{m}$"
      ],
      "text/plain": [
       "146*meter"
      ]
     },
     "execution_count": 93,
     "metadata": {},
     "output_type": "execute_result"
    }
   ],
   "source": [
    "# 1.31\n",
    "# Find total meters in rectangle\n",
    "E1 = 42 * 2 + 31 * 2\n",
    "E2 = E1 * u.meter\n",
    "E2"
   ]
  },
  {
   "cell_type": "code",
   "execution_count": 94,
   "id": "2d076f02-2d49-4c45-9ff2-aabbc2227d15",
   "metadata": {},
   "outputs": [
    {
     "data": {
      "text/latex": [
       "$\\displaystyle \\frac{182500 \\text{yd}}{1143}$"
      ],
      "text/plain": [
       "182500*yard/1143"
      ]
     },
     "execution_count": 94,
     "metadata": {},
     "output_type": "execute_result"
    }
   ],
   "source": [
    "# convert to yards\n",
    "E3 = u.convert_to(E2, u.yard)\n",
    "E3"
   ]
  },
  {
   "cell_type": "code",
   "execution_count": 96,
   "id": "25de8581-ec7f-4bcc-af9d-7c6e5abce974",
   "metadata": {},
   "outputs": [
    {
     "data": {
      "text/latex": [
       "$\\displaystyle 90.3324584426947 \\text{yd}$"
      ],
      "text/plain": [
       "90.3324584426947*yard"
      ]
     },
     "execution_count": 96,
     "metadata": {},
     "output_type": "execute_result"
    }
   ],
   "source": [
    "# Find how many yards of tape left\n",
    "E4 = sp.N(250 * u.yards - E3)\n",
    "E4"
   ]
  },
  {
   "cell_type": "code",
   "execution_count": 98,
   "id": "755c30c2-1e69-4d2c-8515-635033f0eb13",
   "metadata": {},
   "outputs": [
    {
     "data": {
      "text/latex": [
       "$\\displaystyle 25.749504 \\text{km}$"
      ],
      "text/plain": [
       "25.749504*kilometer"
      ]
     },
     "execution_count": 98,
     "metadata": {},
     "output_type": "execute_result"
    }
   ],
   "source": [
    "# 1.32\n",
    "# Find miles in km\n",
    "E1 = sp.N(u.convert_to(16 * u.mile, u.kilometer))\n",
    "E1"
   ]
  },
  {
   "cell_type": "code",
   "execution_count": 99,
   "id": "d124570e-f179-402c-902a-090d3d5aac9b",
   "metadata": {},
   "outputs": [
    {
     "data": {
      "text/latex": [
       "$\\displaystyle 3862.4256 \\text{km}$"
      ],
      "text/plain": [
       "3862.4256*kilometer"
      ]
     },
     "execution_count": 99,
     "metadata": {},
     "output_type": "execute_result"
    }
   ],
   "source": [
    "E1 * 150"
   ]
  },
  {
   "cell_type": "code",
   "execution_count": 101,
   "id": "9892371c-9e42-4961-ab1a-4c66c5010718",
   "metadata": {},
   "outputs": [
    {
     "data": {
      "text/latex": [
       "$\\displaystyle \\frac{22 \\text{mile}}{\\text{hour}}$"
      ],
      "text/plain": [
       "22*mile/hour"
      ]
     },
     "execution_count": 101,
     "metadata": {},
     "output_type": "execute_result"
    }
   ],
   "source": [
    "# 1.33\n",
    "# (a)\n",
    "E1 = 22 * u.mile / u.hour\n",
    "E1"
   ]
  },
  {
   "cell_type": "code",
   "execution_count": 104,
   "id": "a5e7b0b8-61c8-4172-aac7-422d67075f76",
   "metadata": {},
   "outputs": [
    {
     "data": {
      "text/latex": [
       "$\\displaystyle \\frac{35.405568 \\text{km}}{\\text{hour}}$"
      ],
      "text/plain": [
       "35.405568*kilometer/hour"
      ]
     },
     "execution_count": 104,
     "metadata": {},
     "output_type": "execute_result"
    }
   ],
   "source": [
    "E2 = sp.N(u.convert_to(E1, u.kilometer))\n",
    "E2"
   ]
  },
  {
   "cell_type": "code",
   "execution_count": 106,
   "id": "4812bb46-8761-45ca-bece-0a9ee7b90c7b",
   "metadata": {},
   "outputs": [
    {
     "data": {
      "text/latex": [
       "$\\displaystyle \\frac{35405.568 \\text{m}}{\\text{hour}}$"
      ],
      "text/plain": [
       "35405.568*meter/hour"
      ]
     },
     "execution_count": 106,
     "metadata": {},
     "output_type": "execute_result"
    }
   ],
   "source": [
    "E3 = sp.N(u.convert_to(E2, u.meter))\n",
    "E3"
   ]
  },
  {
   "cell_type": "code",
   "execution_count": 108,
   "id": "43ae2d1b-18fc-437f-8d1e-df4f1f827bdd",
   "metadata": {},
   "outputs": [
    {
     "data": {
      "text/latex": [
       "$\\displaystyle \\frac{9.83488 \\text{m}}{\\text{s}}$"
      ],
      "text/plain": [
       "9.83488*meter/second"
      ]
     },
     "execution_count": 108,
     "metadata": {},
     "output_type": "execute_result"
    }
   ],
   "source": [
    "E4 = sp.N(u.convert_to(E3, u.second))\n",
    "E4"
   ]
  },
  {
   "cell_type": "code",
   "execution_count": 111,
   "id": "ca3bbb41-1146-431d-964e-2bd2da97d96e",
   "metadata": {},
   "outputs": [
    {
     "data": {
      "text/html": [
       "$22400.0 \\text{cm}^{3}$ &nbsp;&nbsp;$0.0224 \\text{m}^{3}$ &nbsp;&nbsp;$0.791048534561344 \\text{ft}^{3}$ &nbsp;&nbsp;"
      ],
      "text/plain": [
       "<IPython.core.display.HTML object>"
      ]
     },
     "execution_count": 111,
     "metadata": {},
     "output_type": "execute_result"
    }
   ],
   "source": [
    "# 1.34\n",
    "E1 = u.convert_to(22.4 * u.liters, u.centimeter **3)\n",
    "E2 = u.convert_to(22.4 * u.liters, u.meters ** 3)\n",
    "E3 = u.convert_to(22.4 * u.liters, u.feet **3)\n",
    "RTL([E1, E2, E3])"
   ]
  },
  {
   "cell_type": "code",
   "execution_count": 114,
   "id": "6d6002d6-2e8c-4692-a126-0d72b7e2371d",
   "metadata": {},
   "outputs": [
    {
     "data": {
      "text/html": [
       "$32000 \\text{mg}$ &nbsp;&nbsp;$0.032 \\text{kg}$ &nbsp;&nbsp;$0.0705479238991608 \\text{pound}$ &nbsp;&nbsp;"
      ],
      "text/plain": [
       "<IPython.core.display.HTML object>"
      ]
     },
     "execution_count": 114,
     "metadata": {},
     "output_type": "execute_result"
    }
   ],
   "source": [
    "# 1.35\n",
    "E1 = u.convert_to(32 * u.gram, u.milligram)\n",
    "E2 = sp.N(u.convert_to(32 * u.gram, u.kilogram))\n",
    "E3 = sp.N(u.convert_to(32 * u.gram, u.pound))\n",
    "RTL([E1, E2, E3])\n"
   ]
  },
  {
   "cell_type": "code",
   "execution_count": 119,
   "id": "a56f2866-5b6f-437c-9fee-307680b84cb4",
   "metadata": {},
   "outputs": [
    {
     "data": {
      "text/html": [
       "$2267.96185 \\text{g}$ &nbsp;&nbsp;$8.8184904873951 \\text{pound}$ &nbsp;&nbsp;$566990.4625 \\text{mg}$ &nbsp;&nbsp;"
      ],
      "text/plain": [
       "<IPython.core.display.HTML object>"
      ]
     },
     "execution_count": 119,
     "metadata": {},
     "output_type": "execute_result"
    }
   ],
   "source": [
    "# 1.36\n",
    "E1 = sp.N(u.convert_to(5 * u.pound, u.gram))\n",
    "E2 = sp.N(u.convert_to(4 * u.kilogram, u.pound))\n",
    "E3 = sp.N(u.convert_to(1 * u.pound + ((1/4) * u.pound), u.milligram))\n",
    "RTL([E1, E2, E3])"
   ]
  },
  {
   "cell_type": "code",
   "execution_count": 130,
   "id": "33e5d75e-cbec-4202-ac05-811cb936da1b",
   "metadata": {},
   "outputs": [
    {
     "data": {
      "text/latex": [
       "$\\displaystyle 987.01699712 \\text{kg}$"
      ],
      "text/plain": [
       "987.01699712*kilogram"
      ]
     },
     "execution_count": 130,
     "metadata": {},
     "output_type": "execute_result"
    }
   ],
   "source": [
    "# 1.37\n",
    "# (a)\n",
    "E1 = sp.N(u.convert_to(2176 * u.pound, u.kilogram))\n",
    "E1"
   ]
  },
  {
   "cell_type": "code",
   "execution_count": 134,
   "id": "33c70c54-be88-4c57-83b5-d96da9b53183",
   "metadata": {},
   "outputs": [
    {
     "data": {
      "text/latex": [
       "$\\displaystyle 0.98701699712 \\text{kg}$"
      ],
      "text/plain": [
       "0.98701699712*kilogram"
      ]
     },
     "execution_count": 134,
     "metadata": {},
     "output_type": "execute_result"
    }
   ],
   "source": [
    "# (b)\n",
    "E1 = sp.N(u.convert_to(2176 * u.pound, u.kilogram))\n",
    "E1 / 1000\n"
   ]
  },
  {
   "cell_type": "code",
   "execution_count": 139,
   "id": "40dd1030-a7f6-4fc3-947d-5a85684f8217",
   "metadata": {},
   "outputs": [
    {
     "data": {
      "text/latex": [
       "$\\displaystyle 1.088 ust$"
      ],
      "text/plain": [
       "1.088*ust"
      ]
     },
     "execution_count": 139,
     "metadata": {},
     "output_type": "execute_result"
    }
   ],
   "source": [
    "# (c)\n",
    "ust = sp.symbols(\"ust\")\n",
    "E1 = 2176 * u.pound\n",
    "E2 = sp.N(E1 * ust / (2000 * pound))\n",
    "E2"
   ]
  },
  {
   "cell_type": "code",
   "execution_count": 166,
   "id": "34dd62aa-8c7c-4e46-bddc-47c3c37c2b85",
   "metadata": {},
   "outputs": [
    {
     "data": {
      "text/latex": [
       "$\\displaystyle \\frac{12874752 \\text{cm}}{5}$"
      ],
      "text/plain": [
       "12874752*centimeter/5"
      ]
     },
     "execution_count": 166,
     "metadata": {},
     "output_type": "execute_result"
    }
   ],
   "source": [
    "# 1.38\n",
    "# Recall length needed\n",
    "# !!\n",
    "E1 = u.convert_to(16 * u.mile, u.centimeter)\n",
    "E1"
   ]
  },
  {
   "cell_type": "code",
   "execution_count": 161,
   "id": "3d6401b5-7e16-417d-92f2-5f1e7f833bdb",
   "metadata": {},
   "outputs": [
    {
     "data": {
      "text/latex": [
       "$\\displaystyle 6 \\text{cm}$"
      ],
      "text/plain": [
       "6*centimeter"
      ]
     },
     "execution_count": 161,
     "metadata": {},
     "output_type": "execute_result"
    }
   ],
   "source": [
    "# Find radius in km\n",
    "E2 = 12 * u.centimeter / 2\n",
    "E2"
   ]
  },
  {
   "cell_type": "code",
   "execution_count": 162,
   "id": "f555dfec-080c-4633-94cb-dffd6599d6c9",
   "metadata": {},
   "outputs": [
    {
     "data": {
      "text/latex": [
       "$\\displaystyle \\frac{463491072 \\pi \\text{cm}^{3}}{5}$"
      ],
      "text/plain": [
       "463491072*pi*centimeter**3/5"
      ]
     },
     "execution_count": 162,
     "metadata": {},
     "output_type": "execute_result"
    }
   ],
   "source": [
    "# Calculate volume\n",
    "E3 = sp.pi * E2**2 * E1\n",
    "E3"
   ]
  },
  {
   "cell_type": "code",
   "execution_count": 163,
   "id": "8923b0f7-5bce-4a6b-8d39-5d62aa0821bc",
   "metadata": {},
   "outputs": [
    {
     "data": {
      "text/latex": [
       "$\\displaystyle \\frac{8.65 \\text{g}}{\\text{cm}^{3}}$"
      ],
      "text/plain": [
       "8.65*gram/centimeter**3"
      ]
     },
     "execution_count": 163,
     "metadata": {},
     "output_type": "execute_result"
    }
   ],
   "source": [
    "# Note need 8.65 grams for each cm**3\n",
    "E4 = 8.65 * u.gram / u.cm**3\n",
    "E4"
   ]
  },
  {
   "cell_type": "code",
   "execution_count": 164,
   "id": "49f2104f-ee2c-4ec4-915d-99fec16d939a",
   "metadata": {},
   "outputs": [
    {
     "data": {
      "text/latex": [
       "$\\displaystyle 801839554.56 \\pi \\text{g}$"
      ],
      "text/plain": [
       "801839554.56*pi*gram"
      ]
     },
     "execution_count": 164,
     "metadata": {},
     "output_type": "execute_result"
    }
   ],
   "source": [
    "# Get total needed\n",
    "E5 = E3 * E4\n",
    "E5"
   ]
  },
  {
   "cell_type": "code",
   "execution_count": 165,
   "id": "867c7acd-e703-421f-a6cf-8bf8a693db35",
   "metadata": {},
   "outputs": [
    {
     "data": {
      "text/latex": [
       "$\\displaystyle 2519053.25396341 \\text{kg}$"
      ],
      "text/plain": [
       "2519053.25396341*kilogram"
      ]
     },
     "execution_count": 165,
     "metadata": {},
     "output_type": "execute_result"
    }
   ],
   "source": [
    "# Convert to kilograms\n",
    "E6 = sp.N(u.convert_to(E5, u.kilograms))\n",
    "E6"
   ]
  },
  {
   "cell_type": "code",
   "execution_count": 167,
   "id": "672de8c7-4e79-4fec-ab57-751ff12c3c88",
   "metadata": {},
   "outputs": [
    {
     "data": {
      "text/latex": [
       "$\\displaystyle 7.8 \\cdot 10^{-7} \\text{m}$"
      ],
      "text/plain": [
       "7.8e-7*meter"
      ]
     },
     "execution_count": 167,
     "metadata": {},
     "output_type": "execute_result"
    }
   ],
   "source": [
    "# 1.39\n",
    "E1 = 7.8 * 10**-7* u.meters\n",
    "E1"
   ]
  },
  {
   "cell_type": "code",
   "execution_count": 168,
   "id": "839e92f6-c300-4580-938e-9b63a0ade571",
   "metadata": {},
   "outputs": [
    {
     "data": {
      "text/latex": [
       "$\\displaystyle 0.78 \\mu\\text{m}$"
      ],
      "text/plain": [
       "0.78*micrometer"
      ]
     },
     "execution_count": 168,
     "metadata": {},
     "output_type": "execute_result"
    }
   ],
   "source": [
    "E2 = u.convert_to(E1, u.micrometer)\n",
    "E2"
   ]
  },
  {
   "cell_type": "code",
   "execution_count": 169,
   "id": "14505fd3-ce2c-456f-b5d9-b07b28c60059",
   "metadata": {},
   "outputs": [
    {
     "data": {
      "text/latex": [
       "$\\displaystyle 780.0 \\text{nm}$"
      ],
      "text/plain": [
       "780.0*nanometer"
      ]
     },
     "execution_count": 169,
     "metadata": {},
     "output_type": "execute_result"
    }
   ],
   "source": [
    "E3 = u.convert_to(E1, u.nanometer)\n",
    "E3"
   ]
  },
  {
   "cell_type": "code",
   "execution_count": 171,
   "id": "5a7c7d01-fe4c-42bb-9cd5-d94b6ef3a0b5",
   "metadata": {},
   "outputs": [
    {
     "data": {
      "text/latex": [
       "$\\displaystyle 7800.0 A$"
      ],
      "text/plain": [
       "7800.0*A"
      ]
     },
     "execution_count": 171,
     "metadata": {},
     "output_type": "execute_result"
    }
   ],
   "source": [
    "A = sp.symbols('A')\n",
    "E1 * (1 * 10**10 * A / u.meter)"
   ]
  },
  {
   "cell_type": "code",
   "execution_count": 172,
   "id": "cffa88fc-1092-43fe-814a-9a3051d81fb7",
   "metadata": {},
   "outputs": [
    {
     "data": {
      "text/latex": [
       "$\\displaystyle \\frac{2 \\text{g}}{c}$"
      ],
      "text/plain": [
       "2*gram/c"
      ]
     },
     "execution_count": 172,
     "metadata": {},
     "output_type": "execute_result"
    }
   ],
   "source": [
    "# 1.40\n",
    "c = sp.symbols('c')\n",
    "E1 = 6 * u.gram / (3 * c)\n",
    "E1"
   ]
  },
  {
   "cell_type": "code",
   "execution_count": 173,
   "id": "c3d8678e-ec67-4a2a-b2e2-0f358c672004",
   "metadata": {},
   "outputs": [],
   "source": [
    "# Therefor 15 cookies is 30g of fat"
   ]
  },
  {
   "cell_type": "code",
   "execution_count": 178,
   "id": "61caff22-65f2-4dcc-bbb5-0a9203a267b4",
   "metadata": {},
   "outputs": [
    {
     "data": {
      "text/latex": [
       "$\\displaystyle 100000000.0 A$"
      ],
      "text/plain": [
       "100000000.0*A"
      ]
     },
     "execution_count": 178,
     "metadata": {},
     "output_type": "execute_result"
    }
   ],
   "source": [
    "# 1.41\n",
    "# Convert cm to angstrom\n",
    "A = sp.symbols('A')\n",
    "E1 = 1 * u.cm * (A / (1 * 10**-8 * u.cm))\n",
    "E1"
   ]
  },
  {
   "cell_type": "code",
   "execution_count": 179,
   "id": "dc71e561-ea74-440f-ab26-98811d0df0e7",
   "metadata": {},
   "outputs": [
    {
     "data": {
      "text/latex": [
       "$\\displaystyle 35714285.7142857$"
      ],
      "text/plain": [
       "35714285.7142857"
      ]
     },
     "execution_count": 179,
     "metadata": {},
     "output_type": "execute_result"
    }
   ],
   "source": [
    "E2 = E1 / (2.8 * A)\n",
    "E2"
   ]
  },
  {
   "cell_type": "code",
   "execution_count": 188,
   "id": "0a93b0c6-fc94-4830-b12d-c70382d7cec3",
   "metadata": {},
   "outputs": [
    {
     "data": {
      "text/latex": [
       "$\\displaystyle 1.5 \\cdot 10^{-5} \\text{cm}$"
      ],
      "text/plain": [
       "1.5e-5*centimeter"
      ]
     },
     "execution_count": 188,
     "metadata": {},
     "output_type": "execute_result"
    }
   ],
   "source": [
    "# 1.42\n",
    "E1 = sp.N(u.convert_to(.15 * u.micrometer, u.centimeter))\n",
    "E1"
   ]
  },
  {
   "cell_type": "code",
   "execution_count": 190,
   "id": "53199cca-ccc1-4c10-8216-f0bda2bb8861",
   "metadata": {},
   "outputs": [
    {
     "data": {
      "text/latex": [
       "$\\displaystyle 1500.0 A$"
      ],
      "text/plain": [
       "1500.0*A"
      ]
     },
     "execution_count": 190,
     "metadata": {},
     "output_type": "execute_result"
    }
   ],
   "source": [
    "E2 =  E1 * (A / (1 * 10**-8 * u.cm))\n",
    "E2"
   ]
  },
  {
   "cell_type": "code",
   "execution_count": 191,
   "id": "c3253a5c-0237-4204-99ee-2445149eed48",
   "metadata": {},
   "outputs": [],
   "source": [
    "# There for this is 1/3 the wavelength of blue light"
   ]
  },
  {
   "cell_type": "code",
   "execution_count": 198,
   "id": "19cecb99-e8eb-4357-bb8c-a932c3b7c6c5",
   "metadata": {},
   "outputs": [
    {
     "data": {
      "text/latex": [
       "$\\displaystyle \\frac{2.0 \\text{mg}}{\\text{day}}$"
      ],
      "text/plain": [
       "2.0*milligram/day"
      ]
     },
     "execution_count": 198,
     "metadata": {},
     "output_type": "execute_result"
    }
   ],
   "source": [
    "# 1.43\n",
    "# Human needs 2.0 mg of riboflavin\n",
    "E1 = 2.00 * u.milligram / u.day\n",
    "E1"
   ]
  },
  {
   "cell_type": "code",
   "execution_count": 201,
   "id": "7d7706fa-0a15-4aa5-ab3e-ea0fa96ab54a",
   "metadata": {},
   "outputs": [
    {
     "data": {
      "text/latex": [
       "$\\displaystyle 0.0055 \\text{mg}$"
      ],
      "text/plain": [
       "0.0055*milligram"
      ]
     },
     "execution_count": 201,
     "metadata": {},
     "output_type": "execute_result"
    }
   ],
   "source": [
    "# 1 gram of cheese contains 5.5microgrms\n",
    "# find out how many milligrams of riboflavin in 1 in gram of cheese\n",
    "E2 = u.convert_to(5.5 * u.microgram, u.milligram)\n",
    "E2"
   ]
  },
  {
   "cell_type": "code",
   "execution_count": 208,
   "id": "32e3b1fb-eed4-46e9-990f-6966188751ee",
   "metadata": {},
   "outputs": [
    {
     "data": {
      "text/plain": [
       "363.6363636363637"
      ]
     },
     "execution_count": 208,
     "metadata": {},
     "output_type": "execute_result"
    }
   ],
   "source": [
    "# get 2mg you would need 363\n",
    "2.0 / 0.0055"
   ]
  },
  {
   "cell_type": "code",
   "execution_count": 210,
   "id": "83e63cce-a79a-41e8-aec8-e4ca12ff69f3",
   "metadata": {},
   "outputs": [
    {
     "data": {
      "text/latex": [
       "$\\displaystyle 0.800278011731106 \\text{pound}$"
      ],
      "text/plain": [
       "0.800278011731106*pound"
      ]
     },
     "execution_count": 210,
     "metadata": {},
     "output_type": "execute_result"
    }
   ],
   "source": [
    "E3 = sp.N(u.convert_to(363 * u.gram, u.pound))\n",
    "E3"
   ]
  },
  {
   "cell_type": "code",
   "execution_count": 214,
   "id": "3220ba52-642e-437c-adb1-1b7eea340985",
   "metadata": {},
   "outputs": [
    {
     "data": {
      "text/latex": [
       "$\\displaystyle 100.0 \\mu\\text{m}$"
      ],
      "text/plain": [
       "100.0*micrometer"
      ]
     },
     "execution_count": 214,
     "metadata": {},
     "output_type": "execute_result"
    }
   ],
   "source": [
    "# 1.44 !!\n",
    "u.convert_to(.1 * u.millimeter, u.micrometer)"
   ]
  },
  {
   "cell_type": "code",
   "execution_count": 216,
   "id": "bb0656b2-b5fd-4e09-bb6f-97947bc47ff2",
   "metadata": {},
   "outputs": [],
   "source": [
    "# 1.45 !!"
   ]
  },
  {
   "cell_type": "code",
   "execution_count": 3,
   "id": "2c1a1d5a-bb30-4e10-aaff-ec54d397093e",
   "metadata": {},
   "outputs": [
    {
     "data": {
      "text/latex": [
       "$\\displaystyle 676.4 \\pi \\text{cm}^{3}$"
      ],
      "text/plain": [
       "676.4*pi*centimeter**3"
      ]
     },
     "execution_count": 3,
     "metadata": {},
     "output_type": "execute_result"
    }
   ],
   "source": [
    "# 1.46\n",
    "# This is a cylynder. Find vole\n",
    "Ang = sp.symbols('Ang')\n",
    "E1 = sp.pi * 35.6 * u.centimeters**2 * 19.0 * u.centimeter\n",
    "E1"
   ]
  },
  {
   "cell_type": "code",
   "execution_count": 4,
   "id": "c3d22325-8628-4ea6-a868-1d6bf519e0cc",
   "metadata": {},
   "outputs": [
    {
     "data": {
      "text/latex": [
       "$\\displaystyle 51.2 \\pi \\text{cm}$"
      ],
      "text/plain": [
       "51.2*pi*centimeter"
      ]
     },
     "execution_count": 4,
     "metadata": {},
     "output_type": "execute_result"
    }
   ],
   "source": [
    "# Note a revolution is \n",
    "E2 = sp.pi * 2 * 25.6 * u.centimeter\n",
    "E2"
   ]
  },
  {
   "cell_type": "code",
   "execution_count": 5,
   "id": "341b2e3b-892c-43bc-95da-59e2c7f93df0",
   "metadata": {},
   "outputs": [
    {
     "data": {
      "text/latex": [
       "$\\displaystyle \\frac{943359.375}{\\pi}$"
      ],
      "text/plain": [
       "943359.375/pi"
      ]
     },
     "execution_count": 5,
     "metadata": {},
     "output_type": "execute_result"
    }
   ],
   "source": [
    "# How many revolutions on 483km trip\n",
    "E3 = u.convert_to(483 * u.kilometer, u.centimeter)\n",
    "E4 = E3 / E2\n",
    "E4"
   ]
  },
  {
   "cell_type": "code",
   "execution_count": 7,
   "id": "6ce0107a-b9eb-46b9-af86-d38995444122",
   "metadata": {},
   "outputs": [
    {
     "data": {
      "text/latex": [
       "$\\displaystyle \\frac{7075195.3125 Ang}{\\pi}$"
      ],
      "text/plain": [
       "7075195.3125*Ang/pi"
      ]
     },
     "execution_count": 7,
     "metadata": {},
     "output_type": "execute_result"
    }
   ],
   "source": [
    "# find out how many angstroms in thickness are lost\n",
    "E5 = E4 * 7.5 * Ang\n",
    "E5"
   ]
  },
  {
   "cell_type": "code",
   "execution_count": 9,
   "id": "964420f7-7a81-4623-836c-fbf83f19b415",
   "metadata": {},
   "outputs": [
    {
     "data": {
      "text/latex": [
       "$\\displaystyle \\frac{707519531250000.0 \\text{cm}}{\\pi}$"
      ],
      "text/plain": [
       "707519531250000.0*centimeter/pi"
      ]
     },
     "execution_count": 9,
     "metadata": {},
     "output_type": "execute_result"
    }
   ],
   "source": [
    "# How much smaller will radius be\n",
    "E6 = E5 * (u.centimeter / (1 * 10**-8 * Ang))\n",
    "E6"
   ]
  },
  {
   "cell_type": "code",
   "execution_count": 10,
   "id": "e71bb59d-bfb6-4c80-b2a1-6f0666f1723f",
   "metadata": {},
   "outputs": [],
   "source": [
    "# 1.47 !!"
   ]
  },
  {
   "cell_type": "code",
   "execution_count": 11,
   "id": "36610f89-3a3e-4a2a-87e3-7f9c2844e7ae",
   "metadata": {},
   "outputs": [
    {
     "data": {
      "text/latex": [
       "$\\displaystyle \\frac{\\text{g}}{\\text{cm}^{3}}$"
      ],
      "text/plain": [
       "gram/centimeter**3"
      ]
     },
     "execution_count": 11,
     "metadata": {},
     "output_type": "execute_result"
    }
   ],
   "source": [
    "# 1.48\n",
    "E1 = 1 * u.gram / u.centimeter**3\n",
    "E1"
   ]
  },
  {
   "cell_type": "code",
   "execution_count": 12,
   "id": "a82380cb-5fa9-44e8-b414-911f3d782127",
   "metadata": {},
   "outputs": [
    {
     "data": {
      "text/latex": [
       "$\\displaystyle \\frac{100000 \\text{pound}}{45359237 \\text{cm}^{3}}$"
      ],
      "text/plain": [
       "100000*pound/(45359237*centimeter**3)"
      ]
     },
     "execution_count": 12,
     "metadata": {},
     "output_type": "execute_result"
    }
   ],
   "source": [
    "E2 = u.convert_to(E1, u.pound)\n",
    "E2"
   ]
  },
  {
   "cell_type": "code",
   "execution_count": 14,
   "id": "a26519c9-ac42-46bd-9cb1-1e72e7e7d468",
   "metadata": {},
   "outputs": [
    {
     "data": {
      "text/latex": [
       "$\\displaystyle \\frac{62.4279605761446 \\text{pound}}{\\text{ft}^{3}}$"
      ],
      "text/plain": [
       "62.4279605761446*pound/foot**3"
      ]
     },
     "execution_count": 14,
     "metadata": {},
     "output_type": "execute_result"
    }
   ],
   "source": [
    "E3 = sp.N(u.convert_to(E2, u.foot**3))\n",
    "E3"
   ]
  },
  {
   "cell_type": "code",
   "execution_count": 16,
   "id": "a7c4e435-54fb-43b1-bded-278feae645f8",
   "metadata": {},
   "outputs": [
    {
     "data": {
      "text/latex": [
       "$\\displaystyle \\frac{19.3 \\text{g}}{\\text{cm}^{3}}$"
      ],
      "text/plain": [
       "19.3*gram/centimeter**3"
      ]
     },
     "execution_count": 16,
     "metadata": {},
     "output_type": "execute_result"
    }
   ],
   "source": [
    "# 1.49\n",
    "# Density of pure gold\n",
    "E1 = 19.3 * u.gram / u.centimeter**3\n",
    "E1"
   ]
  },
  {
   "cell_type": "code",
   "execution_count": 22,
   "id": "db5db882-a1f1-4dcb-928b-8ae33ec04544",
   "metadata": {},
   "outputs": [
    {
     "data": {
      "text/latex": [
       "$\\displaystyle \\frac{546515.1392256 \\text{g}}{\\text{ft}^{3}}$"
      ],
      "text/plain": [
       "546515.1392256*gram/foot**3"
      ]
     },
     "execution_count": 22,
     "metadata": {},
     "output_type": "execute_result"
    }
   ],
   "source": [
    "# how much in foot\n",
    "E2 = u.convert_to(E1, u.foot**3)\n",
    "E2"
   ]
  },
  {
   "cell_type": "code",
   "execution_count": 18,
   "id": "921adf8d-0b14-4f30-91e7-d4b384931abb",
   "metadata": {},
   "outputs": [
    {
     "data": {
      "text/latex": [
       "$\\displaystyle \\frac{32790908.353536 \\text{g}}{\\text{ft}^{3}}$"
      ],
      "text/plain": [
       "32790908.353536*gram/foot**3"
      ]
     },
     "execution_count": 18,
     "metadata": {},
     "output_type": "execute_result"
    }
   ],
   "source": [
    "# NOw get 60 of these\n",
    "E3 = 60 * E2\n",
    "E3"
   ]
  },
  {
   "cell_type": "code",
   "execution_count": 20,
   "id": "118cd27c-3cd0-4238-8553-0c4db2de6159",
   "metadata": {},
   "outputs": [
    {
     "data": {
      "text/latex": [
       "$\\displaystyle \\frac{32790.908353536 \\text{kg}}{\\text{ft}^{3}}$"
      ],
      "text/plain": [
       "32790.908353536*kilogram/foot**3"
      ]
     },
     "execution_count": 20,
     "metadata": {},
     "output_type": "execute_result"
    }
   ],
   "source": [
    "# convert to kh\n",
    "E4 = u.convert_to(E3, u.kilogram)\n",
    "E4"
   ]
  },
  {
   "cell_type": "code",
   "execution_count": null,
   "id": "47783f40-4074-4cc5-bebc-a5d91ac3453b",
   "metadata": {},
   "outputs": [],
   "source": [
    "# 1.50\n"
   ]
  }
 ],
 "metadata": {
  "kernelspec": {
   "display_name": "Python 3",
   "language": "python",
   "name": "python3"
  },
  "language_info": {
   "codemirror_mode": {
    "name": "ipython",
    "version": 3
   },
   "file_extension": ".py",
   "mimetype": "text/x-python",
   "name": "python",
   "nbconvert_exporter": "python",
   "pygments_lexer": "ipython3",
   "version": "3.9.2"
  }
 },
 "nbformat": 4,
 "nbformat_minor": 5
}
