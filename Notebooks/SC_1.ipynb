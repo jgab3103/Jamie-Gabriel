{
 "cells": [
  {
   "cell_type": "code",
   "execution_count": 130,
   "id": "6dd866d6-49eb-4efc-94c5-70044517bc26",
   "metadata": {},
   "outputs": [],
   "source": [
    "# !pip install chempy\n",
    "# !pip install periodictable\n",
    "# !pip install PyAstronomy\n",
    "\n",
    "import periodictable as pt\n",
    "import chempy as ch\n",
    "import numpy as np\n",
    "import sympy as sp\n",
    "import pickle\n",
    "from IPython.display import HTML\n",
    "import ipywidgets as widgets\n",
    "import matplotlib as mpl\n",
    "import matplotlib.pyplot as plt\n",
    "from mpl_toolkits.mplot3d import Axes3D\n",
    "import matplotlib.pyplot as plt\n",
    "mpl.rcParams['legend.fontsize'] = 10\n",
    "import pandas as pd\n",
    "import itertools\n",
    "pd.set_option('display.max_colwidth', None)\n",
    "from sympy.plotting import plot \n",
    "from IPython.display import Image\n",
    "from PyAstronomy import pyasl\n",
    "import decimal\n",
    "\n",
    "import sympy.physics.units as u\n",
    "from sympy.physics.units.systems import SI\n",
    "\n",
    "from sympy.physics.units import speed_of_light, meter, gram, second, day, pound\n",
    "from sympy.physics.units import mile, newton, kilogram, atomic_mass_constant\n",
    "from sympy.physics.units import kilometer, centimeter, millimeter, nanometer\n",
    "from sympy.physics.units import gravitational_constant, hbar, kPa, newton\n",
    "from sympy.physics.units import convert_to\n",
    "\n",
    "def RTL(e):\n",
    "    \"\"\"INPUT PARAMS: [] of math expressions\"\"\"\n",
    "    latex_rendering = []\n",
    "\n",
    "    for i in range(len(e)):\n",
    "        latex_rendering.append(\"$\" + sp.latex(e[i]) + \"$ &nbsp;&nbsp;\")\n",
    "    \n",
    "    return(HTML(\"\".join(latex_rendering[0:])))\n",
    "\n",
    "\n",
    "def ConvertToSN(e):\n",
    "    return('%.2E' % decimal.Decimal(e))\n",
    "    \n",
    "\n",
    "class Atom: \n",
    "    def __init__(self, pCount, nCount, eCount):\n",
    "        \"\"\"INPUT PARAMS: countOfProtons, countOfNeutrons, countOfElectrons\"\"\"\n",
    "        \n",
    "        an = pyasl.AtomicNo()\n",
    "        \n",
    "        self.Protons = pCount\n",
    "        self.Neutrons = nCount\n",
    "        self.Electrons = eCount\n",
    "        self.ElementName = an.getElementName(pCount)\n",
    "        self.ElementNameWithAtomicMass = an.getElementName(pCount) + \"(\" + str(self.Protons) + \",\" + str(self.Protons + self.Neutrons) + \")\"\n",
    "    \n",
    "    def CreateSummary(self):\n",
    "        print(\"Name: \", self.ElementName)\n",
    "        print(\"Protons: \", self.Protons)\n",
    "        print(\"Neutrons: \", self.Neutrons)\n",
    "        print(\"Electrons: \", self.Electrons)"
   ]
  },
  {
   "cell_type": "code",
   "execution_count": 23,
   "id": "5dc60938-84eb-46cb-bb61-c61efad5cec7",
   "metadata": {},
   "outputs": [
    {
     "data": {
      "text/latex": [
       "$\\displaystyle 3200.4 \\text{mm}$"
      ],
      "text/plain": [
       "3200.4*millimeter"
      ]
     },
     "execution_count": 23,
     "metadata": {},
     "output_type": "execute_result"
    }
   ],
   "source": [
    "# Solved Problems\n",
    "# 1.2 \n",
    "# (a)\n",
    "\n",
    "d = u.Quantity('d')\n",
    "SI.set_quantity_dimension(d, u.length)\n",
    "SI.set_quantity_scale_factor(d, 3.5*u.yards)\n",
    "\n",
    "E1 = u.convert_to(d, u.mm)\n",
    "E1"
   ]
  },
  {
   "cell_type": "code",
   "execution_count": 32,
   "id": "994be702-a8b9-4d82-a0aa-0d821bddb410",
   "metadata": {},
   "outputs": [
    {
     "data": {
      "text/latex": [
       "$\\displaystyle 3.2004 \\text{m}$"
      ],
      "text/plain": [
       "3.2004*meter"
      ]
     },
     "execution_count": 32,
     "metadata": {},
     "output_type": "execute_result"
    }
   ],
   "source": [
    "# (b)\n",
    "d = u.Quantity('d')\n",
    "SI.set_quantity_dimension(d, u.length)\n",
    "SI.set_quantity_scale_factor(d, 3.5 * u.yards)\n",
    "E1 = u.convert_to(d, u.m)\n",
    "E1"
   ]
  },
  {
   "cell_type": "code",
   "execution_count": 38,
   "id": "7b02a1dc-11e6-4d29-a82f-7424838cb24e",
   "metadata": {},
   "outputs": [
    {
     "data": {
      "text/latex": [
       "$\\displaystyle \\frac{700 \\text{inch}}{127}$"
      ],
      "text/plain": [
       "700*inch/127"
      ]
     },
     "execution_count": 38,
     "metadata": {},
     "output_type": "execute_result"
    }
   ],
   "source": [
    "# 1.3\n",
    "# (a)\n",
    "\n",
    "d = u.Quantity('d')\n",
    "SI.set_quantity_dimension(d, u.length)\n",
    "SI.set_quantity_scale_factor(d, 14 * u.cm)\n",
    "E1 = u.convert_to(d, u.inches)\n",
    "E1"
   ]
  },
  {
   "cell_type": "code",
   "execution_count": 46,
   "id": "be96efc1-0975-4b4d-8b7e-e8fc0722ff6a",
   "metadata": {},
   "outputs": [
    {
     "data": {
      "text/latex": [
       "$\\displaystyle \\frac{35000 \\text{inch}}{127}$"
      ],
      "text/plain": [
       "35000*inch/127"
      ]
     },
     "execution_count": 46,
     "metadata": {},
     "output_type": "execute_result"
    }
   ],
   "source": [
    "# (b)\n",
    "d = u.Quantity('d')\n",
    "SI.set_quantity_dimension(d, u.length)\n",
    "SI.set_quantity_scale_factor(d, 7 * u.meters)\n",
    "E1 = u.convert_to(d, u.inches)\n",
    "E1"
   ]
  },
  {
   "cell_type": "code",
   "execution_count": 54,
   "id": "95f3894c-3bd9-4d0d-a508-e0add625cb30",
   "metadata": {},
   "outputs": [
    {
     "data": {
      "text/latex": [
       "$\\displaystyle \\frac{25000000 \\text{inch}^{2}}{16129}$"
      ],
      "text/plain": [
       "25000000*inch**2/16129"
      ]
     },
     "execution_count": 54,
     "metadata": {},
     "output_type": "execute_result"
    }
   ],
   "source": [
    "# 1.4\n",
    "# (a)\n",
    "d = u.Quantity('d')\n",
    "SI.set_quantity_dimension(d, u.length**2)\n",
    "SI.set_quantity_scale_factor(d, 1 * u.meter**2)\n",
    "E1 = u.convert_to(d, u.inches)\n",
    "E1"
   ]
  },
  {
   "cell_type": "code",
   "execution_count": 62,
   "id": "5c06c9a2-7a89-466c-bacc-b6d050f98c18",
   "metadata": {},
   "outputs": [
    {
     "data": {
      "text/latex": [
       "$\\displaystyle 1000000 \\text{cm}^{3}$"
      ],
      "text/plain": [
       "1000000*centimeter**3"
      ]
     },
     "execution_count": 62,
     "metadata": {},
     "output_type": "execute_result"
    }
   ],
   "source": [
    "# 1.5\n",
    "# (a)\n",
    "v = u.Quantity('v')\n",
    "SI.set_quantity_dimension(v, u.volume)\n",
    "SI.set_quantity_scale_factor(v, 1 * u.meter**3)\n",
    "E1 = u.convert_to(v, u.centimeters)\n",
    "E1"
   ]
  },
  {
   "cell_type": "code",
   "execution_count": 68,
   "id": "63c76744-96cd-45ec-9509-a899d04bac09",
   "metadata": {},
   "outputs": [
    {
     "data": {
      "text/latex": [
       "$\\displaystyle 1000 \\text{liter}$"
      ],
      "text/plain": [
       "1000*liter"
      ]
     },
     "execution_count": 68,
     "metadata": {},
     "output_type": "execute_result"
    }
   ],
   "source": [
    "# (b)\n",
    "v = u.Quantity('v')\n",
    "SI.set_quantity_dimension(v, u.volume)\n",
    "SI.set_quantity_scale_factor(v, 1 * u.meter**3)\n",
    "E1 = u.convert_to(v, u.liters)\n",
    "E1"
   ]
  },
  {
   "cell_type": "code",
   "execution_count": 71,
   "id": "05cc4726-3fe7-4511-a6c7-edc16ce144d4",
   "metadata": {},
   "outputs": [
    {
     "data": {
      "text/latex": [
       "$\\displaystyle 1000 \\text{cm}^{3}$"
      ],
      "text/plain": [
       "1000*centimeter**3"
      ]
     },
     "execution_count": 71,
     "metadata": {},
     "output_type": "execute_result"
    }
   ],
   "source": [
    "# (c)\n",
    "v = u.Quantity('v')\n",
    "SI.set_quantity_dimension(v, u.volume)\n",
    "SI.set_quantity_scale_factor(v, 1 * u.liters)\n",
    "E1 = u.convert_to(v, u.cm)\n",
    "E1"
   ]
  },
  {
   "cell_type": "code",
   "execution_count": 79,
   "id": "81d3b680-e669-42ae-bca8-d5491bf64623",
   "metadata": {},
   "outputs": [
    {
     "data": {
      "text/latex": [
       "$\\displaystyle 3 \\text{liter}$"
      ],
      "text/plain": [
       "3*liter"
      ]
     },
     "execution_count": 79,
     "metadata": {},
     "output_type": "execute_result"
    }
   ],
   "source": [
    "# 1.6\n",
    "E1 = 60 * 10 * 5\n",
    "v = u.Quantity('v')\n",
    "SI.set_quantity_dimension(v, u.volume)\n",
    "SI.set_quantity_scale_factor(v, E1 * u.cm**3)\n",
    "E2 = u.convert_to(v, u.liters)\n",
    "E2"
   ]
  },
  {
   "cell_type": "code",
   "execution_count": 94,
   "id": "6e018893-20b4-4a6c-8094-0cdeb7c2f14c",
   "metadata": {},
   "outputs": [
    {
     "data": {
      "text/latex": [
       "$\\displaystyle 29.93709642 \\text{kg}$"
      ],
      "text/plain": [
       "29.93709642*kilogram"
      ]
     },
     "execution_count": 94,
     "metadata": {},
     "output_type": "execute_result"
    }
   ],
   "source": [
    "# 1.7\n",
    "#(a)\n",
    "sp.N(convert_to(66 * pound, kilogram))"
   ]
  },
  {
   "cell_type": "code",
   "execution_count": 96,
   "id": "3fc503e7-3a7b-4249-8a18-7a17325cee53",
   "metadata": {},
   "outputs": [
    {
     "data": {
      "text/latex": [
       "$\\displaystyle 29937.09642 \\text{g}$"
      ],
      "text/plain": [
       "29937.09642*gram"
      ]
     },
     "execution_count": 96,
     "metadata": {},
     "output_type": "execute_result"
    }
   ],
   "source": [
    "# (b) \n",
    "sp.N(convert_to(66 * pound, gram))"
   ]
  },
  {
   "cell_type": "code",
   "execution_count": 97,
   "id": "9ca78102-b524-4d6f-a4bf-921a4ab26604",
   "metadata": {},
   "outputs": [
    {
     "data": {
      "text/latex": [
       "$\\displaystyle 7.49571691428584 \\text{pound}$"
      ],
      "text/plain": [
       "7.49571691428584*pound"
      ]
     },
     "execution_count": 97,
     "metadata": {},
     "output_type": "execute_result"
    }
   ],
   "source": [
    "# (c)\n",
    "sp.N(convert_to(3.4 * kilogram, pound))"
   ]
  },
  {
   "cell_type": "code",
   "execution_count": 122,
   "id": "4df37983-451e-4962-9a90-d948d6a4f6ce",
   "metadata": {},
   "outputs": [
    {
     "data": {
      "text/latex": [
       "$\\displaystyle 2.5 \\cdot 10^{-6} \\text{mm}$"
      ],
      "text/plain": [
       "2.5e-6*millimeter"
      ]
     },
     "execution_count": 122,
     "metadata": {},
     "output_type": "execute_result"
    }
   ],
   "source": [
    "# 1.8\n",
    "\n",
    "x = sp.symbols('x')\n",
    "# convert area to mm\n",
    "E1 = sp.N(convert_to(400 * centimeter**2, millimeter))\n",
    "# Create equation\n",
    "E2 = sp.Eq(E1 * x, .1 * u.millimeter **3  )\n",
    "E3 = sp.solve(E2, x)[0]\n",
    "E3"
   ]
  },
  {
   "cell_type": "code",
   "execution_count": 125,
   "id": "01922ba3-843d-46a5-bed1-db21d3b82ea1",
   "metadata": {},
   "outputs": [
    {
     "data": {
      "text/latex": [
       "$\\displaystyle 2.5 \\text{nm}$"
      ],
      "text/plain": [
       "2.5*nanometer"
      ]
     },
     "execution_count": 125,
     "metadata": {},
     "output_type": "execute_result"
    }
   ],
   "source": [
    "# convert to nanometers \n",
    "E4 = sp.N(convert_to(E3, nanometer))\n",
    "E4"
   ]
  },
  {
   "cell_type": "code",
   "execution_count": 129,
   "id": "63ebb8a7-a193-4e05-a4a7-7cc7d34bd7e9",
   "metadata": {},
   "outputs": [
    {
     "data": {
      "text/latex": [
       "$\\displaystyle 25.0$"
      ],
      "text/plain": [
       "25.0000000000000"
      ]
     },
     "execution_count": 129,
     "metadata": {},
     "output_type": "execute_result"
    }
   ],
   "source": [
    "# convert to angstroms\n",
    "E5  = (E4 * 10).args[0]\n",
    "E5"
   ]
  },
  {
   "cell_type": "code",
   "execution_count": 145,
   "id": "4c2f9fe2-1960-4817-a1ea-3db1253e4030",
   "metadata": {},
   "outputs": [
    {
     "data": {
      "text/latex": [
       "$\\displaystyle \\frac{101300.0 \\text{N}}{\\text{m}^{2}}$"
      ],
      "text/plain": [
       "101300.0*newton/meter**2"
      ]
     },
     "execution_count": 145,
     "metadata": {},
     "output_type": "execute_result"
    }
   ],
   "source": [
    "# 1.9\n",
    "# convert KPA to newtons per square meter\n",
    "E1 = u.newton * 1000 * 101.3 / u.meter **2\n",
    "# conver to lbf per square inch\n",
    "E1"
   ]
  },
  {
   "cell_type": "code",
   "execution_count": 146,
   "id": "fdd0ef61-a50b-47bf-bf60-cb579a40a1cd",
   "metadata": {},
   "outputs": [
    {
     "data": {
      "text/latex": [
       "$\\displaystyle \\frac{0.00064516 \\text{m}^{2}}{\\text{inch}^{2}}$"
      ],
      "text/plain": [
       "0.00064516*meter**2/inch**2"
      ]
     },
     "execution_count": 146,
     "metadata": {},
     "output_type": "execute_result"
    }
   ],
   "source": [
    "# Create sq meters to inc conversion\n",
    "E2 = sp.N(u.meters**2 / convert_to(u.meters**2, u.inch))\n",
    "E2"
   ]
  },
  {
   "cell_type": "code",
   "execution_count": 149,
   "id": "82d7d3cd-9215-4633-a4f6-dfa7ce036fc1",
   "metadata": {},
   "outputs": [
    {
     "data": {
      "text/latex": [
       "$\\displaystyle 0.223214285714286 lbf \\text{N}$"
      ],
      "text/plain": [
       "0.223214285714286*newton*lbf"
      ]
     },
     "execution_count": 149,
     "metadata": {},
     "output_type": "execute_result"
    }
   ],
   "source": [
    "# Create lbf to to newtons conersion\n",
    "lbf = sp.symbols('lbf')\n",
    "E3 = lbf / 4.48 * u.newton\n",
    "E3\n"
   ]
  },
  {
   "cell_type": "code",
   "execution_count": 153,
   "id": "c7372789-37f1-4b48-9af1-0869bc86b81b",
   "metadata": {},
   "outputs": [
    {
     "data": {
      "text/latex": [
       "$\\displaystyle \\frac{14.5881044642857 lbf}{\\text{inch}^{2}}$"
      ],
      "text/plain": [
       "14.5881044642857*lbf/inch**2"
      ]
     },
     "execution_count": 153,
     "metadata": {},
     "output_type": "execute_result"
    }
   ],
   "source": [
    "(E1 * E2 * E3) / u.newton**2"
   ]
  },
  {
   "cell_type": "code",
   "execution_count": 156,
   "id": "7a0827ca-d2f0-4eeb-8d32-055f26203e56",
   "metadata": {},
   "outputs": [
    {
     "data": {
      "text/latex": [
       "$\\displaystyle \\frac{10 \\text{m}}{\\text{s}}$"
      ],
      "text/plain": [
       "10*meter/second"
      ]
     },
     "execution_count": 156,
     "metadata": {},
     "output_type": "execute_result"
    }
   ],
   "source": [
    "# 1.10\n",
    "E1 = (100 * u.meters) / (10 * u.seconds)\n",
    "E1"
   ]
  },
  {
   "cell_type": "code",
   "execution_count": null,
   "id": "8494def3-0259-4de6-8831-2825b36f3b99",
   "metadata": {},
   "outputs": [],
   "source": []
  }
 ],
 "metadata": {
  "kernelspec": {
   "display_name": "Python 3",
   "language": "python",
   "name": "python3"
  },
  "language_info": {
   "codemirror_mode": {
    "name": "ipython",
    "version": 3
   },
   "file_extension": ".py",
   "mimetype": "text/x-python",
   "name": "python",
   "nbconvert_exporter": "python",
   "pygments_lexer": "ipython3",
   "version": "3.9.2"
  }
 },
 "nbformat": 4,
 "nbformat_minor": 5
}
