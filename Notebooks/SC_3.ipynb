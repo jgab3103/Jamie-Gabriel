{
 "cells": [
  {
   "cell_type": "code",
   "execution_count": 1,
   "id": "09d739b7-452b-440e-b856-8a6712d5a439",
   "metadata": {},
   "outputs": [],
   "source": [
    "# !pip install chempy\n",
    "# !pip install periodictable\n",
    "# !pip install PyAstronomy\n",
    "# !pip install molmass\n",
    "#!pip install rdkit\n",
    "\n",
    "import periodictable as pt\n",
    "import chempy as ch\n",
    "import numpy as np\n",
    "import sympy as sp\n",
    "import molmass as mm\n",
    "import pickle\n",
    "from IPython.display import HTML\n",
    "import ipywidgets as widgets\n",
    "import matplotlib as mpl\n",
    "import matplotlib.pyplot as plt\n",
    "from mpl_toolkits.mplot3d import Axes3D\n",
    "import matplotlib.pyplot as plt\n",
    "mpl.rcParams['legend.fontsize'] = 10\n",
    "import pandas as pd\n",
    "import itertools\n",
    "pd.set_option('display.max_colwidth', None)\n",
    "from sympy.plotting import plot \n",
    "from IPython.display import Image\n",
    "from PyAstronomy import pyasl\n",
    "import decimal\n",
    "import sympy.physics.units as u\n",
    "from sympy.physics.units.systems import SI\n",
    "from rdkit import Chem\n",
    "from rdkit.Chem import Draw\n",
    "\n",
    "\n",
    "from sympy.physics.units import speed_of_light, meter, gram, second, day, pound\n",
    "from sympy.physics.units import mile, newton, kilogram, atomic_mass_constant\n",
    "from sympy.physics.units import kilometer, centimeter, millimeter, nanometer\n",
    "from sympy.physics.units import gravitational_constant, hbar, kPa, newton\n",
    "from sympy.physics.units import convert_to\n",
    "\n",
    "def RTL(e):\n",
    "    \"\"\"INPUT PARAMS: [] of math expressions\"\"\"\n",
    "    latex_rendering = []\n",
    "\n",
    "    for i in range(len(e)):\n",
    "        latex_rendering.append(\"$\" + sp.latex(e[i]) + \"$ &nbsp;&nbsp;\")\n",
    "    \n",
    "    return(HTML(\"\".join(latex_rendering[0:])))\n",
    "\n",
    "def BalanceChemEquation(L, R):\n",
    "    \"\"\" INPUT PARAMS: 2 * {} containing react and prod\"\"\"\n",
    "    reac, prod = ch.balance_stoichiometry(L, R)\n",
    "    Reaction = ch.Reaction(reac, prod)\n",
    "    return([Reaction, [reac, prod]])\n",
    "    \n",
    "\n",
    "class Atom: \n",
    "    def __init__(self, pCount, nCount, eCount):\n",
    "        \"\"\"INPUT PARAMS: countOfProtons, countOfNeutrons, countOfElectrons\"\"\"\n",
    "        \n",
    "        an = pyasl.AtomicNo()\n",
    "        \n",
    "        self.Protons = pCount\n",
    "        self.Neutrons = nCount\n",
    "        self.Electrons = eCount\n",
    "        self.ElementName = an.getElementName(pCount)\n",
    "        self.ElementNameWithAtomicMass = an.getElementName(pCount) + \"(\" + str(self.Protons) + \",\" + str(self.Protons + self.Neutrons) + \")\"\n",
    "    \n",
    "    def CreateSummary(self):\n",
    "        print(\"Name: \", self.ElementName)\n",
    "        print(\"Protons: \", self.Protons)\n",
    "        print(\"Neutrons: \", self.Neutrons)\n",
    "        print(\"Electrons: \", self.Electrons)"
   ]
  },
  {
   "cell_type": "code",
   "execution_count": 3,
   "id": "680586a1-4988-4a90-ad19-af1dfe642efd",
   "metadata": {},
   "outputs": [
    {
     "data": {
      "text/html": [
       "$7.12945247336967 mol$ &nbsp;&nbsp;$14.2567868555798 mol$ &nbsp;&nbsp;"
      ],
      "text/plain": [
       "<IPython.core.display.HTML object>"
      ]
     },
     "execution_count": 3,
     "metadata": {},
     "output_type": "execute_result"
    }
   ],
   "source": [
    "# 3.1\n",
    "# Given percentage, find for 100g and examine the mole ratio\n",
    "mol = sp.symbols(\"mol\")\n",
    "\n",
    "# Find moles in 85.63g of C\n",
    "E1 = 85.63 * u.gram * (1 / (mm.Formula(\"C\").mass * u.grams / mol))\n",
    "# Find moles in 14.37g of H\n",
    "E2 = 14.37 * u.gram * (1 / (mm.Formula(\"H\").mass * u.grams / mol))\n",
    "RTL([E1, E2])"
   ]
  },
  {
   "cell_type": "code",
   "execution_count": 4,
   "id": "0f92f692-092a-4d4c-8a7e-b727680ecdf0",
   "metadata": {},
   "outputs": [],
   "source": [
    "# Therefore, empirical formula is CH2"
   ]
  },
  {
   "cell_type": "code",
   "execution_count": 6,
   "id": "4922203a-af5c-411b-b187-e7734b3a0ec6",
   "metadata": {},
   "outputs": [
    {
     "data": {
      "text/latex": [
       "$\\displaystyle \\frac{14.026622 \\text{g}}{mol}$"
      ],
      "text/plain": [
       "14.026622*gram/mol"
      ]
     },
     "execution_count": 6,
     "metadata": {},
     "output_type": "execute_result"
    }
   ],
   "source": [
    "# 3.1 part II\n",
    "# Note the total mass of CH2\n",
    "E3 = mm.Formula(\"CH2\").mass * u.gram  / mol\n",
    "E3"
   ]
  },
  {
   "cell_type": "code",
   "execution_count": 8,
   "id": "14ea2189-51ed-4b83-a250-3618754db272",
   "metadata": {},
   "outputs": [
    {
     "data": {
      "text/latex": [
       "$\\displaystyle 3.92111514803778$"
      ],
      "text/plain": [
       "3.92111514803778"
      ]
     },
     "execution_count": 8,
     "metadata": {},
     "output_type": "execute_result"
    }
   ],
   "source": [
    "# To find molecular formula, examine the density which is 55g/mol which is for butene\n",
    "55 * u.gram / mol / E3"
   ]
  },
  {
   "cell_type": "code",
   "execution_count": 9,
   "id": "b3fc4145-e6aa-489c-8b74-1ae829243536",
   "metadata": {},
   "outputs": [],
   "source": [
    "# This is close to 4 so it can be assumed that the molecule\n",
    "# Formula for butene must be C4H8"
   ]
  },
  {
   "cell_type": "code",
   "execution_count": 10,
   "id": "b3536245-4ab7-4457-b828-91e60092f1ba",
   "metadata": {},
   "outputs": [
    {
     "data": {
      "text/html": [
       "$0.679569188430187 mol$ &nbsp;&nbsp;$0.680051003825287 mol$ &nbsp;&nbsp;$2.3794634862984 mol$ &nbsp;&nbsp;"
      ],
      "text/plain": [
       "<IPython.core.display.HTML object>"
      ]
     },
     "execution_count": 10,
     "metadata": {},
     "output_type": "execute_result"
    }
   ],
   "source": [
    "# 3.2\n",
    "# Find the mol ratio by using proxy as 100g\n",
    "# Find molar mass of K first\n",
    "mol = sp.symbols(\"mol\")\n",
    "E1 = 26.57 * u.grams * (1 / (mm.Formula(\"K\").mass * u.gram / mol))\n",
    "E2 = 35.36 * u.grams * (1 / (mm.Formula(\"Cr\").mass * u.gram / mol))\n",
    "E3 = 38.07 * u.grams * (1 / (mm.Formula(\"O\").mass * u.gram / mol))\n",
    "RTL([E1, E2, E3])"
   ]
  },
  {
   "cell_type": "code",
   "execution_count": 14,
   "id": "1c548921-a061-417f-ba52-29d052690e4b",
   "metadata": {},
   "outputs": [
    {
     "data": {
      "text/html": [
       "$0.999366453573805 mol$ &nbsp;&nbsp;$1.00007500562542 mol$ &nbsp;&nbsp;$3.49921100926235 mol$ &nbsp;&nbsp;"
      ],
      "text/plain": [
       "<IPython.core.display.HTML object>"
      ]
     },
     "execution_count": 14,
     "metadata": {},
     "output_type": "execute_result"
    }
   ],
   "source": [
    "# Multiple in ratio. Take step to 1 for the first to\n",
    "E4 = np.array([E1, E2, E3]) / .68\n",
    "RTL(E4)"
   ]
  },
  {
   "cell_type": "code",
   "execution_count": 15,
   "id": "4db773f7-236c-4552-b5ca-588514006a94",
   "metadata": {},
   "outputs": [
    {
     "data": {
      "text/html": [
       "$1.99873290714761 mol$ &nbsp;&nbsp;$2.00015001125084 mol$ &nbsp;&nbsp;$6.9984220185247 mol$ &nbsp;&nbsp;"
      ],
      "text/plain": [
       "<IPython.core.display.HTML object>"
      ]
     },
     "execution_count": 15,
     "metadata": {},
     "output_type": "execute_result"
    }
   ],
   "source": [
    "# note this looks like 1:1:3.5 Need whole numbers in ratio\n",
    "E5 = E4 * 2\n",
    "RTL(E5)"
   ]
  },
  {
   "cell_type": "code",
   "execution_count": 16,
   "id": "30bd347f-e29a-42ba-860f-813d178a7495",
   "metadata": {},
   "outputs": [],
   "source": [
    "# This is close to 2:2:7\n",
    "# Must be: K2Cr2)7"
   ]
  },
  {
   "cell_type": "code",
   "execution_count": 17,
   "id": "121c6c36-22d8-415e-8c94-3622af232797",
   "metadata": {},
   "outputs": [
    {
     "data": {
      "text/html": [
       "$0.0559693775036328 mol$ &nbsp;&nbsp;$0.391334315129146 mol$ &nbsp;&nbsp;"
      ],
      "text/plain": [
       "<IPython.core.display.HTML object>"
      ]
     },
     "execution_count": 17,
     "metadata": {},
     "output_type": "execute_result"
    }
   ],
   "source": [
    "# 3.3 \n",
    "# Consider a 15g sample of Na2SO4 . H2O\n",
    "# 7.05 is water. Find the empirical formula\n",
    "mol = sp.symbols(\"mol\")\n",
    "# \n",
    "E1 = 7.95 * u.grams * (1 / (mm.Formula(\"Na2SO4\").mass * u.grams / mol))\n",
    "E2 = 7.05 * u.grams * (1 / (mm.Formula(\"H2O\").mass * u.grams / mol))\n",
    "RTL([E1, E2])"
   ]
  },
  {
   "cell_type": "code",
   "execution_count": 20,
   "id": "14ea5d01-7398-4e91-a897-7f6069084a4f",
   "metadata": {},
   "outputs": [
    {
     "data": {
      "text/html": [
       "$1.0$ &nbsp;&nbsp;$6.99193617266416$ &nbsp;&nbsp;"
      ],
      "text/plain": [
       "<IPython.core.display.HTML object>"
      ]
     },
     "execution_count": 20,
     "metadata": {},
     "output_type": "execute_result"
    }
   ],
   "source": [
    "E3 = np.array([E1, E2]) / E1\n",
    "# The empirical formula is Na2SO4 7H2O\n",
    "RTL(E3)"
   ]
  },
  {
   "cell_type": "code",
   "execution_count": 24,
   "id": "e7eb0d5d-7a26-4df5-8f22-6c33de9cfff2",
   "metadata": {},
   "outputs": [
    {
     "data": {
      "text/html": [
       "$0.0105029258840869 mol$ &nbsp;&nbsp;$0.0280635436130281 mol$ &nbsp;&nbsp;"
      ],
      "text/plain": [
       "<IPython.core.display.HTML object>"
      ]
     },
     "execution_count": 24,
     "metadata": {},
     "output_type": "execute_result"
    }
   ],
   "source": [
    "# 3.4\n",
    "# Uranium sample is 2.5g\n",
    "# O sample is .449g\n",
    "# Change these to mol ratios\n",
    "# find moles present in the uranium\n",
    "E1 = 2.5 * u.grams * (1 / (mm.Formula('U').mass * u.gram / mol))\n",
    "E2 = .449 * u.grams * (1 / (mm.Formula('O').mass * u.gram / mol))\n",
    "RTL([E1, E2])"
   ]
  },
  {
   "cell_type": "code",
   "execution_count": 25,
   "id": "1b20c5e8-f6b6-438f-b0fe-ed4eb3dc9db9",
   "metadata": {},
   "outputs": [
    {
     "data": {
      "text/html": [
       "$1.0$ &nbsp;&nbsp;$2.67197387877862$ &nbsp;&nbsp;"
      ],
      "text/plain": [
       "<IPython.core.display.HTML object>"
      ]
     },
     "execution_count": 25,
     "metadata": {},
     "output_type": "execute_result"
    }
   ],
   "source": [
    "# divide both by the smaller to get initial ratio\n",
    "E3 = np.array([E1, E2]) / E1\n",
    "RTL(E3)"
   ]
  },
  {
   "cell_type": "code",
   "execution_count": 29,
   "id": "7b2c9712-a11b-456d-8805-be5288e50024",
   "metadata": {},
   "outputs": [
    {
     "data": {
      "text/html": [
       "$3.0$ &nbsp;&nbsp;$8.01592163633585$ &nbsp;&nbsp;"
      ],
      "text/plain": [
       "<IPython.core.display.HTML object>"
      ]
     },
     "execution_count": 29,
     "metadata": {},
     "output_type": "execute_result"
    }
   ],
   "source": [
    "# this looks 2.66 (2/3). Multiply both sides by 3\n",
    "E4 = E3 * 3\n",
    "RTL(E4)"
   ]
  },
  {
   "cell_type": "code",
   "execution_count": 30,
   "id": "e562d8e8-8005-460d-91d8-ba09c4980c5d",
   "metadata": {},
   "outputs": [],
   "source": [
    "# The ratio of H to O is H3O8"
   ]
  },
  {
   "cell_type": "code",
   "execution_count": 39,
   "id": "238c64a4-1eb4-4fbb-8da3-e214ea34134c",
   "metadata": {},
   "outputs": [
    {
     "data": {
      "text/latex": [
       "$\\displaystyle 0.819282212156225 \\text{g}$"
      ],
      "text/plain": [
       "0.819282212156225*gram"
      ]
     },
     "execution_count": 39,
     "metadata": {},
     "output_type": "execute_result"
    }
   ],
   "source": [
    "# 3.5\n",
    "# compound has 1.637g\n",
    "# 3.002g of CO2\n",
    "# 1.640g of H2O\n",
    "# find each of ratio for C, O and H\n",
    "\n",
    "mol = sp.symbols(\"mol\")\n",
    "\n",
    "# find mols of \n",
    "# If you have 3.002 g CO2, find how much of this much be C\n",
    "\n",
    "E1 = 3.002 * u.grams\n",
    "E2 = (mm.Formula(\"C\").mass * u.grams / mol) / (mm.Formula(\"CO2\").mass * u.grams / mol) * 3.002 * u.grams\n",
    "# So there is following amount of charbon\n",
    "E2\n"
   ]
  },
  {
   "cell_type": "code",
   "execution_count": 44,
   "id": "8c4c31cc-e220-4fc8-b771-a5eacdf08bf1",
   "metadata": {},
   "outputs": [
    {
     "data": {
      "text/latex": [
       "$\\displaystyle 0.183513395040556 \\text{g}$"
      ],
      "text/plain": [
       "0.183513395040556*gram"
      ]
     },
     "execution_count": 44,
     "metadata": {},
     "output_type": "execute_result"
    }
   ],
   "source": [
    "E3 = 1.640 * u.grams\n",
    "E4 = (mm.Formula(\"H\").mass * u.grams / mol) / (mm.Formula(\"H2O\").mass * u.grams / mol) * 1.640 * u.grams\n",
    "# So there is the following anont of Hydrogen\n",
    "# Note there is wtice as much hydrogen\n",
    "E5 = 2 * E4\n",
    "E5"
   ]
  },
  {
   "cell_type": "code",
   "execution_count": 45,
   "id": "0b88db24-0f06-4734-b72a-273712918102",
   "metadata": {},
   "outputs": [
    {
     "data": {
      "text/latex": [
       "$\\displaystyle 0.364204392803218 \\text{g}$"
      ],
      "text/plain": [
       "0.364204392803218*gram"
      ]
     },
     "execution_count": 45,
     "metadata": {},
     "output_type": "execute_result"
    }
   ],
   "source": [
    "# Amount of oxygen in compont much be the difference\n",
    "E6 = 1.367 * u.grams - E2 - E5\n",
    "E6"
   ]
  },
  {
   "cell_type": "code",
   "execution_count": 57,
   "id": "acb1d363-9b68-4b89-9a98-b55635477402",
   "metadata": {},
   "outputs": [
    {
     "data": {
      "text/latex": [
       "$\\displaystyle 0.0227636210723598 mol$"
      ],
      "text/plain": [
       "0.0227636210723598*mol"
      ]
     },
     "execution_count": 57,
     "metadata": {},
     "output_type": "execute_result"
    }
   ],
   "source": [
    "# Find the amount of oxygen in the compont\n",
    "E7 = E6 * (1 / mm.Formula(\"O\").mass * mol / u.grams)\n",
    "E7"
   ]
  },
  {
   "cell_type": "code",
   "execution_count": 58,
   "id": "72e91b96-3245-4ac0-98f3-eb88338aa9b5",
   "metadata": {},
   "outputs": [
    {
     "data": {
      "text/html": [
       "$0.819282212156225 \\text{g}$ &nbsp;&nbsp;$0.183513395040556 \\text{g}$ &nbsp;&nbsp;$0.0227636210723598 mol$ &nbsp;&nbsp;"
      ],
      "text/plain": [
       "<IPython.core.display.HTML object>"
      ]
     },
     "execution_count": 58,
     "metadata": {},
     "output_type": "execute_result"
    }
   ],
   "source": [
    "# Now there are the following\n",
    "RTL([E2, E5, E7])"
   ]
  },
  {
   "cell_type": "code",
   "execution_count": 62,
   "id": "60ddd51f-b50d-47e5-a11e-43a47e75cd73",
   "metadata": {},
   "outputs": [
    {
     "data": {
      "text/html": [
       "$0.0682124675212539 mol$ &nbsp;&nbsp;$0.182067596258666 mol$ &nbsp;&nbsp;$0.0227636210723598 mol$ &nbsp;&nbsp;"
      ],
      "text/plain": [
       "<IPython.core.display.HTML object>"
      ]
     },
     "execution_count": 62,
     "metadata": {},
     "output_type": "execute_result"
    }
   ],
   "source": [
    "# Convert the first two to moles\n",
    "E8 = E2 * (1 / (mm.Formula(\"C\").mass * u.grams / mol))\n",
    "E9 = E5 * (1 / (mm.Formula(\"H\").mass * u.grams / mol))\n",
    "RTL([E8, E9, E7])"
   ]
  },
  {
   "cell_type": "code",
   "execution_count": 63,
   "id": "eba0bcc7-dfbc-4503-a3bb-18476814025a",
   "metadata": {},
   "outputs": [
    {
     "data": {
      "text/html": [
       "$2.99655609731087$ &nbsp;&nbsp;$7.99818252464841$ &nbsp;&nbsp;$1.0$ &nbsp;&nbsp;"
      ],
      "text/plain": [
       "<IPython.core.display.HTML object>"
      ]
     },
     "execution_count": 63,
     "metadata": {},
     "output_type": "execute_result"
    }
   ],
   "source": [
    "# Now examine ratio\n",
    "E10 = np.array([E8, E9, E7]) / E7\n",
    "RTL(E10)"
   ]
  },
  {
   "cell_type": "code",
   "execution_count": 66,
   "id": "1c74394e-e8cc-4dca-b7b5-5e29ad08417f",
   "metadata": {},
   "outputs": [],
   "source": [
    "# 3.6\n",
    "# Total weight of oxide is 3.978\n",
    "# Copper weighs 3.178g\n",
    "E1 = 3.978 - 3.178\n",
    "# Oxygen must weigh .8g"
   ]
  },
  {
   "cell_type": "code",
   "execution_count": 72,
   "id": "43823747-f62f-4a9f-a4f5-f0608eb993ad",
   "metadata": {},
   "outputs": [
    {
     "data": {
      "text/latex": [
       "$\\displaystyle 79.8893916540975$"
      ],
      "text/plain": [
       "79.8893916540975"
      ]
     },
     "execution_count": 72,
     "metadata": {},
     "output_type": "execute_result"
    }
   ],
   "source": [
    "# Find the percentage mass\n",
    "E2 = 3.178 * u.grams / (3.978 * u.grams) * 100\n",
    "E2"
   ]
  },
  {
   "cell_type": "code",
   "execution_count": 74,
   "id": "1be9790a-f1bf-4ad4-8d91-00c4e50f5b2c",
   "metadata": {},
   "outputs": [
    {
     "data": {
      "text/latex": [
       "$\\displaystyle 20.0652119388011$"
      ],
      "text/plain": [
       "20.0652119388011"
      ]
     },
     "execution_count": 74,
     "metadata": {},
     "output_type": "execute_result"
    }
   ],
   "source": [
    "# Find the amount of oxygen\n",
    "E3 = .8 * u.grams / (3.987 * u.grams) * 100\n",
    "E3"
   ]
  },
  {
   "cell_type": "code",
   "execution_count": 85,
   "id": "ea53d1c1-c056-4f35-9900-03f1cc32e27b",
   "metadata": {},
   "outputs": [
    {
     "data": {
      "text/plain": [
       "48.20292928281991"
      ]
     },
     "execution_count": 85,
     "metadata": {},
     "output_type": "execute_result"
    }
   ],
   "source": [
    "# 3.7\n",
    "# % of Fe in: \n",
    "E1 = mm.Formula(\"Fe\").mass / mm.Formula(\"FeCO3\").mass * 100\n",
    "E1"
   ]
  },
  {
   "cell_type": "code",
   "execution_count": 86,
   "id": "135257f0-c84b-4d14-b0c6-b5593a4ee750",
   "metadata": {},
   "outputs": [
    {
     "data": {
      "text/plain": [
       "69.94254397545868"
      ]
     },
     "execution_count": 86,
     "metadata": {},
     "output_type": "execute_result"
    }
   ],
   "source": [
    "# % of Fe in\n",
    "E2 = mm.Formula(\"Fe2\").mass / mm.Formula(\"Fe2O3\").mass * 100\n",
    "E2"
   ]
  },
  {
   "cell_type": "code",
   "execution_count": 87,
   "id": "20f49f20-9342-44e6-8cec-906229f18c15",
   "metadata": {},
   "outputs": [
    {
     "data": {
      "text/plain": [
       "72.35913453577297"
      ]
     },
     "execution_count": 87,
     "metadata": {},
     "output_type": "execute_result"
    }
   ],
   "source": [
    "# % of Fe in\n",
    "E3 = mm.Formula(\"Fe3\").mass / mm.Formula(\"Fe3O4\").mass * 100\n",
    "E3"
   ]
  },
  {
   "cell_type": "code",
   "execution_count": 94,
   "id": "938cf5f1-d3c7-4414-9fdc-ab4336f3dc4f",
   "metadata": {},
   "outputs": [
    {
     "data": {
      "text/latex": [
       "$\\displaystyle 78.1966 \\text{g}$"
      ],
      "text/plain": [
       "78.1966*gram"
      ]
     },
     "execution_count": 94,
     "metadata": {},
     "output_type": "execute_result"
    }
   ],
   "source": [
    "# 3.8\n",
    "# Given K2CO3, determine percent composition\n",
    "# start with 2 moles of K\n",
    "mol = sp.symbols('mol')\n",
    "E1 = 2 * mol * mm.Formula(\"K\").mass * u.grams / mol\n",
    "E1"
   ]
  },
  {
   "cell_type": "code",
   "execution_count": 95,
   "id": "9d3c813d-a8e5-4d9b-aa53-f1cc98d869ef",
   "metadata": {},
   "outputs": [
    {
     "data": {
      "text/latex": [
       "$\\displaystyle 12.01074 \\text{g}$"
      ],
      "text/plain": [
       "12.01074*gram"
      ]
     },
     "execution_count": 95,
     "metadata": {},
     "output_type": "execute_result"
    }
   ],
   "source": [
    "# Mole of C\n",
    "E2 = 1 * mol * mm.Formula(\"C\").mass * u.grams / mol\n",
    "E2"
   ]
  },
  {
   "cell_type": "code",
   "execution_count": 96,
   "id": "43a3d5c6-2448-4a17-b6d6-68fbce5b2c8e",
   "metadata": {},
   "outputs": [
    {
     "data": {
      "text/latex": [
       "$\\displaystyle 47.998215 \\text{g}$"
      ],
      "text/plain": [
       "47.998215*gram"
      ]
     },
     "execution_count": 96,
     "metadata": {},
     "output_type": "execute_result"
    }
   ],
   "source": [
    "# 3 Moles of O\n",
    "E3 = 3 * mol * mm.Formula(\"O\").mass * u.grams / mol\n",
    "E3"
   ]
  },
  {
   "cell_type": "code",
   "execution_count": 97,
   "id": "98f7ef77-cc2a-439d-bde9-9b7d31e04280",
   "metadata": {},
   "outputs": [
    {
     "data": {
      "text/latex": [
       "$\\displaystyle 138.205555 \\text{g}$"
      ],
      "text/plain": [
       "138.205555*gram"
      ]
     },
     "execution_count": 97,
     "metadata": {},
     "output_type": "execute_result"
    }
   ],
   "source": [
    "# now we have three components can work out % mass\n",
    "E4 = E1 + E2 + E3\n",
    "E4"
   ]
  },
  {
   "cell_type": "code",
   "execution_count": 98,
   "id": "9fa1327b-4c88-41b9-b6dc-98f4343d9f66",
   "metadata": {},
   "outputs": [
    {
     "data": {
      "text/latex": [
       "$\\displaystyle 0.565799254595808$"
      ],
      "text/plain": [
       "0.565799254595808"
      ]
     },
     "execution_count": 98,
     "metadata": {},
     "output_type": "execute_result"
    }
   ],
   "source": [
    "# Perc of K\n",
    "E1 / E4"
   ]
  },
  {
   "cell_type": "code",
   "execution_count": 99,
   "id": "0af7f541-1c42-4bf5-a604-f3f6aca2e369",
   "metadata": {},
   "outputs": [
    {
     "data": {
      "text/latex": [
       "$\\displaystyle 0.0869049004578723$"
      ],
      "text/plain": [
       "0.0869049004578723"
      ]
     },
     "execution_count": 99,
     "metadata": {},
     "output_type": "execute_result"
    }
   ],
   "source": [
    "# Perc of 2\n",
    "E2 / E4"
   ]
  },
  {
   "cell_type": "code",
   "execution_count": 100,
   "id": "7358f77f-e1b0-4a31-a8ab-f3fe2b3607b6",
   "metadata": {},
   "outputs": [
    {
     "data": {
      "text/latex": [
       "$\\displaystyle 0.347295844946319$"
      ],
      "text/plain": [
       "0.347295844946319"
      ]
     },
     "execution_count": 100,
     "metadata": {},
     "output_type": "execute_result"
    }
   ],
   "source": [
    "# Perc of O: \n",
    "E3 / E4"
   ]
  },
  {
   "cell_type": "code",
   "execution_count": 105,
   "id": "940f871c-bd12-4a86-87f2-9f5f661b42e5",
   "metadata": {},
   "outputs": [
    {
     "data": {
      "text/plain": [
       "56.028685256735"
      ]
     },
     "execution_count": 105,
     "metadata": {},
     "output_type": "execute_result"
    }
   ],
   "source": [
    "# 3.9\n",
    "# Find % of CaO in CaO3\n",
    "E1 = mm.Formula(\"CaO\").mass /  mm.Formula(\"CaCO3\").mass\n",
    "# Thre is this amoutn of CaO in CaO3:\n",
    "E2 = E1 * 100\n",
    "E2"
   ]
  },
  {
   "cell_type": "code",
   "execution_count": 108,
   "id": "53249385-997e-4ec3-9fa0-9d0f470f21cc",
   "metadata": {},
   "outputs": [
    {
     "data": {
      "text/latex": [
       "$\\displaystyle 1940.0 \\text{pound}$"
      ],
      "text/plain": [
       "1940.0*pound"
      ]
     },
     "execution_count": 108,
     "metadata": {},
     "output_type": "execute_result"
    }
   ],
   "source": [
    "# find\n",
    "# Amount of CaCO3 in 1 tone of limestone\n",
    "E3 = .97 * u.pound * 2000\n",
    "E3"
   ]
  },
  {
   "cell_type": "code",
   "execution_count": 109,
   "id": "cbf8de2c-c171-49b0-b6f3-d1415589fc12",
   "metadata": {},
   "outputs": [
    {
     "data": {
      "text/latex": [
       "$\\displaystyle 1086.95649398066 \\text{pound}$"
      ],
      "text/plain": [
       "1086.95649398066*pound"
      ]
     },
     "execution_count": 109,
     "metadata": {},
     "output_type": "execute_result"
    }
   ],
   "source": [
    "E2 / 100 * E3"
   ]
  },
  {
   "cell_type": "code",
   "execution_count": 113,
   "id": "05c32343-40e8-485f-8dc8-47f47278a4f7",
   "metadata": {},
   "outputs": [],
   "source": [
    "# 3.10\n",
    "# !!"
   ]
  },
  {
   "cell_type": "code",
   "execution_count": 114,
   "id": "1a3e3ec9-c138-4c06-9ef9-99d78fbce6a6",
   "metadata": {},
   "outputs": [
    {
     "data": {
      "text/plain": [
       "164.087836"
      ]
     },
     "execution_count": 114,
     "metadata": {},
     "output_type": "execute_result"
    }
   ],
   "source": [
    "# 3.11\n",
    "# If there is 20 grams of nitrogen, how much calcium\n",
    "mm.Formula(\"Ca(NO3)2\").mass"
   ]
  },
  {
   "cell_type": "code",
   "execution_count": 119,
   "id": "2620be3c-9a03-4dd5-acce-fa1b3948a4b0",
   "metadata": {},
   "outputs": [],
   "source": [
    "# 2 moles of N2 must be equal to 1 mole of Ca"
   ]
  },
  {
   "cell_type": "code",
   "execution_count": 124,
   "id": "fa3aaf1f-8e00-44c7-a7d4-7177db18168d",
   "metadata": {},
   "outputs": [
    {
     "data": {
      "text/latex": [
       "$\\displaystyle 0.713943888151266 mol$"
      ],
      "text/plain": [
       "0.713943888151266*mol"
      ]
     },
     "execution_count": 124,
     "metadata": {},
     "output_type": "execute_result"
    }
   ],
   "source": [
    "E1 = 20 * u.grams * (1 / (mm.Formula(\"N2\").mass * u.grams / mol))\n",
    "E1"
   ]
  },
  {
   "cell_type": "code",
   "execution_count": 125,
   "id": "30f05a86-15f7-45ca-9e97-d5f03a6cfa0d",
   "metadata": {},
   "outputs": [
    {
     "data": {
      "text/latex": [
       "$\\displaystyle 0.356971944075633 mol$"
      ],
      "text/plain": [
       "0.356971944075633*mol"
      ]
     },
     "execution_count": 125,
     "metadata": {},
     "output_type": "execute_result"
    }
   ],
   "source": [
    "# Note that calcium has half the amount of moles\n",
    "E2 = E1 / 2\n",
    "E2"
   ]
  },
  {
   "cell_type": "code",
   "execution_count": 126,
   "id": "0c84af4e-78da-41b6-afc7-1d417480144e",
   "metadata": {},
   "outputs": [
    {
     "data": {
      "text/latex": [
       "$\\displaystyle 14.3067215746632 \\text{g}$"
      ],
      "text/plain": [
       "14.3067215746632*gram"
      ]
     },
     "execution_count": 126,
     "metadata": {},
     "output_type": "execute_result"
    }
   ],
   "source": [
    "E2 * mm.Formula(\"Ca\").mass * u.grams / mol"
   ]
  },
  {
   "cell_type": "code",
   "execution_count": 153,
   "id": "7e87991c-06d9-4fac-b786-e762cf148817",
   "metadata": {},
   "outputs": [
    {
     "data": {
      "text/plain": [
       "34.080681999999996"
      ]
     },
     "execution_count": 153,
     "metadata": {},
     "output_type": "execute_result"
    }
   ],
   "source": [
    "# 3.12\n",
    "# (a)\n",
    "E1 = mm.Formula(\"H2S\").mass\n",
    "E1"
   ]
  },
  {
   "cell_type": "code",
   "execution_count": 154,
   "id": "7a819d7c-3f57-4fde-89f6-554006df537d",
   "metadata": {},
   "outputs": [
    {
     "data": {
      "text/plain": [
       "2.015882"
      ]
     },
     "execution_count": 154,
     "metadata": {},
     "output_type": "execute_result"
    }
   ],
   "source": [
    "E2 = mm.Formula(\"H2\").mass\n",
    "E2"
   ]
  },
  {
   "cell_type": "code",
   "execution_count": 155,
   "id": "99b77c13-222f-43cc-b4c1-4ad628ab9ce1",
   "metadata": {},
   "outputs": [
    {
     "data": {
      "text/plain": [
       "32.0648"
      ]
     },
     "execution_count": 155,
     "metadata": {},
     "output_type": "execute_result"
    }
   ],
   "source": [
    "E3 = mm.Formula(\"S\").mass\n",
    "E3"
   ]
  },
  {
   "cell_type": "code",
   "execution_count": 157,
   "id": "5c8fa51d-42ed-43f1-ae03-49f53615623b",
   "metadata": {},
   "outputs": [
    {
     "data": {
      "text/plain": [
       "0.7988939165409753"
      ]
     },
     "execution_count": 157,
     "metadata": {},
     "output_type": "execute_result"
    }
   ],
   "source": [
    "# 3.6\n",
    "# Product: 3.978g\n",
    "# React: 3.178g of Cu\n",
    "# React: ? of O\n",
    "\n",
    "# Find % composition\n",
    "# % of Cu\n",
    "E1 = 3.178 / 3.978\n",
    "E1"
   ]
  },
  {
   "cell_type": "code",
   "execution_count": 158,
   "id": "4d3afc53-65ee-4b7a-8bb3-cf1f602e4a03",
   "metadata": {},
   "outputs": [
    {
     "data": {
      "text/plain": [
       "0.2011060834590247"
      ]
     },
     "execution_count": 158,
     "metadata": {},
     "output_type": "execute_result"
    }
   ],
   "source": [
    "# There % of O must be \n",
    "1 - E1"
   ]
  },
  {
   "cell_type": "code",
   "execution_count": 169,
   "id": "afd09015-685e-46d4-aa87-2ba630c0fa19",
   "metadata": {},
   "outputs": [
    {
     "data": {
      "text/latex": [
       "$\\displaystyle \\frac{111.69 \\text{g}}{mol}$"
      ],
      "text/plain": [
       "111.69*gram/mol"
      ]
     },
     "execution_count": 169,
     "metadata": {},
     "output_type": "execute_result"
    }
   ],
   "source": [
    "# 3.7\n",
    "# Prod: FeCO3\n",
    "# Reac: Fe, C, O3\n",
    "# In 1 mol, there are this many grams\n",
    "E1 = mm.Formula(\"Fe2\").mass * u.grams / mol\n",
    "E1"
   ]
  },
  {
   "cell_type": "code",
   "execution_count": 172,
   "id": "12c8b379-0c38-4f5d-a530-af638d0633cc",
   "metadata": {},
   "outputs": [
    {
     "data": {
      "text/latex": [
       "$\\displaystyle \\frac{159.688215 \\text{g}}{mol}$"
      ],
      "text/plain": [
       "159.688215*gram/mol"
      ]
     },
     "execution_count": 172,
     "metadata": {},
     "output_type": "execute_result"
    }
   ],
   "source": [
    "E2 = mm.Formula(\"Fe2O3\").mass * u.grams / mol\n",
    "# In 1 mol, there are this many grams\n",
    "E2"
   ]
  },
  {
   "cell_type": "code",
   "execution_count": 173,
   "id": "ce74df43-72a0-45c3-a96a-d8b5956776c7",
   "metadata": {},
   "outputs": [
    {
     "data": {
      "text/latex": [
       "$\\displaystyle 0.699425439754587$"
      ],
      "text/plain": [
       "0.699425439754587"
      ]
     },
     "execution_count": 173,
     "metadata": {},
     "output_type": "execute_result"
    }
   ],
   "source": [
    "# % mass of Fe in FeCO3 is: \n",
    "E1 / E2"
   ]
  },
  {
   "cell_type": "code",
   "execution_count": 174,
   "id": "a864c519-22eb-422a-90ed-a2cd1554f8e7",
   "metadata": {},
   "outputs": [
    {
     "data": {
      "text/latex": [
       "$\\displaystyle 1.38 \\text{kg}$"
      ],
      "text/plain": [
       "1.38*kilogram"
      ]
     },
     "execution_count": 174,
     "metadata": {},
     "output_type": "execute_result"
    }
   ],
   "source": [
    "# Fit ehre is a total sample 2kg, 69% of mass must be Fe\n",
    ".69 * 2 *  u.kilogram"
   ]
  },
  {
   "cell_type": "code",
   "execution_count": 175,
   "id": "09dc704b-5f84-4a4b-bf33-f8d4f19fb494",
   "metadata": {},
   "outputs": [],
   "source": [
    "# 3.8\n",
    "# Find the percentage mass in K2CO3"
   ]
  },
  {
   "cell_type": "code",
   "execution_count": null,
   "id": "d4d08dbc-0feb-4f9c-88de-0d2dd82041d0",
   "metadata": {},
   "outputs": [],
   "source": []
  }
 ],
 "metadata": {
  "kernelspec": {
   "display_name": "Python 3",
   "language": "python",
   "name": "python3"
  },
  "language_info": {
   "codemirror_mode": {
    "name": "ipython",
    "version": 3
   },
   "file_extension": ".py",
   "mimetype": "text/x-python",
   "name": "python",
   "nbconvert_exporter": "python",
   "pygments_lexer": "ipython3",
   "version": "3.9.2"
  }
 },
 "nbformat": 4,
 "nbformat_minor": 5
}
