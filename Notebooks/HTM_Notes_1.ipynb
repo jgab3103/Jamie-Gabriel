{
 "cells": [
  {
   "cell_type": "code",
   "execution_count": 1,
   "metadata": {},
   "outputs": [],
   "source": [
    "import sympy as sp"
   ]
  },
  {
   "cell_type": "markdown",
   "metadata": {},
   "source": [
    "htm - unique approach\n",
    "\n",
    "build systems on same principles...\n",
    "\n",
    "neocortex - 75% of brain  / evolved in mammals\n",
    "in humans, size of 2.5mm thick, scrunhed up inside the skull\n",
    "\n",
    "older parts - eatings/sleeping/sex\n",
    "\n",
    "neocortex - memories/identity/intelligence - \"Seat of intelligence\"\n",
    "\n",
    "slices under microscrope - cellular structure almost identical, visual / auditory all the same, tells us that problems brains solve, solve in same way, same cortical structure, same algorithmic structure\n",
    "\n",
    "Neocotex regions - nerve fbers, through white matter - lower levels  come up through higher levels, output, sent upward\n",
    "\n",
    "As we climb /ascend, ideas become more abstract and more permnanent\n",
    "\n",
    "lower levels - edges / borders\n",
    "higher levels - shape recognicition\n",
    "higher - object recognision\n",
    "higher - ideas and memories\n",
    "\n",
    "HTM - theory - common processes , not concerned all diff ways info come in, concertned with processing when info arises \n",
    "\n",
    "We can can focus on region\n",
    "\n",
    "human - 20-30 billion neorons, state is what is on, and we find remarkably small percentate of bits are on. gnerally about 2% on at any given time\n",
    "\n",
    "\"Sparse Distributed Represntentaiotn\" SDR key element, whehter on or off"
   ]
  }
 ],
 "metadata": {
  "kernelspec": {
   "display_name": "SageMath 9.0",
   "language": "sage",
   "name": "sagemath"
  },
  "language_info": {
   "codemirror_mode": {
    "name": "ipython",
    "version": 3
   },
   "file_extension": ".py",
   "mimetype": "text/x-python",
   "name": "python",
   "nbconvert_exporter": "python",
   "pygments_lexer": "ipython3",
   "version": "3.7.3"
  }
 },
 "nbformat": 4,
 "nbformat_minor": 4
}
