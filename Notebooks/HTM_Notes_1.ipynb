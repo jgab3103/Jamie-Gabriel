{
 "cells": [
  {
   "cell_type": "code",
   "execution_count": 1,
   "metadata": {},
   "outputs": [],
   "source": [
    "import sympy as sp"
   ]
  },
  {
   "cell_type": "markdown",
   "metadata": {},
   "source": [
    "From numenta.org: \n",
    "\n",
    "<i>\"Hierarchical Temporal Memory is a foundational technology for the future of machine intelligence based upon the biology of the neocortex\"</i>\n",
    "\n",
    "There are lots of machine learning, the purpose of these notebooks is to explroe HTM, a different approach, and provide both workign the code and the theory. It can seem a little difficult at times. \n",
    "\n",
    "A bigger purpose take some of the mathematics and apply it to these algorithms. \n",
    "\n",
    "#### Getting things set up: \n",
    "\n",
    "The very First thing we want to do with HTM is get set up. So we can explore the theory in the context of a an extisting cod ebase and run our code in different ways. To do this we will need. Teh community version is htm.core which is a rewrite of the original code. THe code is in C++ and also has a python version. IN this notebook we will get to the hello world stage, so we know the code and then go back to building up the our knowlege but also the code. \n",
    "\n",
    "First: a bit of context around the code: htm.core is a community version of the code, an implementation. There are a number of implementations, this is really stable and \n",
    "\n",
    "Now while you can run htm.core directly through Python, we are going to install the the C++ version for now. Many people are more confortable with Python, and this might appear challenging at first an spin it up with a jupyter notebook. The reasons for working directly with the C++ code base are: \n",
    "\n",
    "- Set up is much simpler. Getting the python up and running is get's a little runs into issues like OS specific. It get's messy with Anaconda. The C++ build is far simpler and the commands won't. I will take you through a simple set up below and point you to some resources. You run into machine specific versions and it gets a bit messy\n",
    "- The C++ code in htm.core is logically put together and easy read, and you will be referring to it alot. Going through it's a great way to get acquainted\n",
    "- Along the way we can look at g++ compiler, how to compile from source, and then also use this opportunity to relationship between python bindings\n",
    "\n",
    "So before doing any else, let's get to the point where we can run some code. To do this, we are going to the simplest approach possible: \n",
    "\n",
    "1. We will use an Ubuntu image from Docker to create a linux container (it doesnt matter). \n",
    "2. Then wee will download the code and put it into a folder that our container can see \n",
    "3. We will build and install the code into the container using some basic cmake and make commands\n",
    "4. This will create the executables files we need\n",
    "5. We will run the hello and mnist examples to check it works, and \n",
    "6. Finally, we will make a tiny change in the code\n",
    "\n",
    "Assuming you have nothing set up, this will take a bout 5-10 minutes\n",
    " \n",
    " We will get this out of the way now, and then we will spend a good deal of time focusing on theory itself\n",
    " \n",
    "<h4>Step 1: Use Docker to to create an ubuntu container </h4> "
   ]
  },
  {
   "cell_type": "code",
   "execution_count": null,
   "metadata": {},
   "outputs": [],
   "source": []
  },
  {
   "cell_type": "code",
   "execution_count": null,
   "metadata": {},
   "outputs": [],
   "source": []
  },
  {
   "cell_type": "code",
   "execution_count": null,
   "metadata": {},
   "outputs": [],
   "source": []
  },
  {
   "cell_type": "code",
   "execution_count": null,
   "metadata": {},
   "outputs": [],
   "source": []
  },
  {
   "cell_type": "markdown",
   "metadata": {},
   "source": [
    "htm - unique approach\n",
    "\n",
    "build systems on same principles...\n",
    "\n",
    "neocortex - 75% of brain  / evolved in mammals\n",
    "in humans, size of 2.5mm thick, scrunhed up inside the skull\n",
    "\n",
    "older parts - eatings/sleeping/sex\n",
    "\n",
    "neocortex - memories/identity/intelligence - \"Seat of intelligence\"\n",
    "\n",
    "slices under microscrope - cellular structure almost identical, visual / auditory all the same, tells us that problems brains solve, solve in same way, same cortical structure, same algorithmic structure\n",
    "\n",
    "Neocotex regions - nerve fbers, through white matter - lower levels  come up through higher levels, output, sent upward\n",
    "\n",
    "As we climb /ascend, ideas become more abstract and more permnanent\n",
    "\n",
    "lower levels - edges / borders\n",
    "higher levels - shape recognicition\n",
    "higher - object recognision\n",
    "higher - ideas and memories\n",
    "\n",
    "HTM - theory - common processes , not concerned all diff ways info come in, concertned with processing when info arises \n",
    "\n",
    "We can can focus on region - as they are all the same, we can create arbitrary complexity\n",
    "\n",
    "human - 20-30 billion neorons, state is what is on, and we find remarkably small percentate of bits are on - this is the \"State\" gnerally about 2% on at any given time\n",
    "\n",
    "\n",
    "\"Sparse Distributed Represntentaiotn\" SDR key element, whehter on or off - can be rep as array as 1s and 0s whether it is active or not...taken from neuroscience - SDR - region and whether they are on or off....\n",
    "\n",
    "You need SDR as basic data strduure\n",
    "\n",
    "\n",
    "2 basic inputs into neocortex - 1 - motor commands copy gonig out of old brain and being sent to control muscles, coming in, copy goes into neocortex, so it can undertand how it interacting\n",
    "2 - sensory input, coming from all the, touch, smell etc. all copied and sent to neocortex - represetnation of what is happening in the world - provide sensory motor model, what is happening, and how it is interacting....eg optic nerve, sending new different pictures, provides continuity, data comes from our brains to provide this also\n",
    "\n",
    "HTM systems need sensory organse - sensory encoders - takes data type, converts into SDR, need to turn data type into SDR - all take some kind of data, converts them into SDR that system can understand. \n",
    "\n",
    "We can create encoders that have no biological counterpart - eg geocoding encoder. We can see its anomalies etd\n",
    "\n",
    "At heart of the theory is an aglorithm called temporal memory - learns patterns that are changing over time. Operates on motor commands and sens imput - temporal memory biggest different to standard ML. HTM starts with assumption tha teverything based on memory and recall of sequences of patterns. \n",
    "\n",
    "HTM systems learn continuous - no training set, no batch, model changes as data changes\n",
    "\n",
    "HTM build predictive model of the world, and adapt to how well it i going \n",
    "\n",
    "People working on neural networks over 50 years ago, sicne then things advanced, better understnadnign of biology, but still hasn't moved forward too much - ANNs (neural networks) stil not plausible \n",
    "\n",
    "HTM theory - evolving, made significant progress, even simulating 1 layer of 1 regions - this gives alot already - aim to build out into stofotware\n",
    "\n",
    "TO find out more.....\n",
    "On intelligence\n",
    "numenta.com/learn \n",
    "\n"
   ]
  }
 ],
 "metadata": {
  "kernelspec": {
   "display_name": "SageMath 9.0",
   "language": "sage",
   "name": "sagemath"
  },
  "language_info": {
   "codemirror_mode": {
    "name": "ipython",
    "version": 3
   },
   "file_extension": ".py",
   "mimetype": "text/x-python",
   "name": "python",
   "nbconvert_exporter": "python",
   "pygments_lexer": "ipython3",
   "version": "3.7.3"
  }
 },
 "nbformat": 4,
 "nbformat_minor": 4
}
