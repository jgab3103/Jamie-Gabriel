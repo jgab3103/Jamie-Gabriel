{
 "cells": [
  {
   "cell_type": "markdown",
   "metadata": {},
   "source": [
    "<h3>Functions</h3>\n",
    "<div>This notebook contains an overview of all functions used oin proofs</div>\n",
    "<br/>\n",
    "\n",
    "[Addition](#List)<br/>\n",
    "[Begin](#List)<br/>\n",
    "[Coincidence](#List)<br/>\n",
    "[Collinear](#List)<br/>\n",
    "[Cross Product](#cross_product)<br/>\n",
    "[Displacement](#List)<br/>\n",
    "[Distinct](#Finite_Field)</br>\n",
    "[End](#List)<br/>\n",
    "[Equivalence](#List)<br/>\n",
    "[Incidence](#List)<br/>\n",
    "[Join](#List)<br/>\n",
    "[Linear Transformation](#List)<br/>\n",
    "[Meet](#List)<br/>\n",
    "[Multiplication](#List)<br/>\n",
    "[Parallel](#List)<br/>\n",
    "[Pod Product](#Finite_Field)</br>\n",
    "[Scalar Multiplication](#Finite_Field)</br>\n",
    "[Signed Area of Orientated Triangle](#Finite_Field)</br>\n",
    "[Signed Area of Orientated Quadrilateral](#Finite_Field)</br>\n",
    "[Signed Area of Orientated N-gon](#Finite_Field)</br>\n",
    "[Signed Area of Side](#Finite_Field)</br>\n",
    "[Subset](#Finite_Field)</br>"
   ]
  },
  {
   "cell_type": "markdown",
   "metadata": {},
   "source": [
    "### Cross Product <a class=\"anchor\" id=\"cross_product\"></a>\n",
    "<i>Input:</i><br/> \n",
    "2 objects of type Vector <br/>\n",
    "<i>Ouput:</i><br/> \n",
    "1 object of type Rational</br/><hr/>\n",
    "\n",
    "To extend the definition of Signed Area to arbitrary triangles, comprised of any 2 points. A cross product is a number calculated from the 2 input vectors, e.g. $\\overset{\\rightharpoonup}u=(a,b)$ and $\\overset{\\rightharpoonup}v=(c,d) $ using the following formula:\n",
    "\n",
    "$$  \n",
    " \\overset{\\rightharpoonup}u \\times \\overset{\\rightharpoonup}v = ad-bc. $$\n",
    " \n",
    "The cross product is a number \"between\" 2 vectors.\n"
   ]
  },
  {
   "cell_type": "code",
   "execution_count": null,
   "metadata": {},
   "outputs": [],
   "source": []
  }
 ],
 "metadata": {
  "kernelspec": {
   "display_name": "SageMath 9.0",
   "language": "sage",
   "name": "sagemath"
  },
  "language_info": {
   "codemirror_mode": {
    "name": "ipython",
    "version": 3
   },
   "file_extension": ".py",
   "mimetype": "text/x-python",
   "name": "python",
   "nbconvert_exporter": "python",
   "pygments_lexer": "ipython3",
   "version": "3.7.3"
  }
 },
 "nbformat": 4,
 "nbformat_minor": 4
}
