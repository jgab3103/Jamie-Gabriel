{
 "cells": [
  {
   "cell_type": "code",
   "execution_count": 86,
   "id": "6dd866d6-49eb-4efc-94c5-70044517bc26",
   "metadata": {},
   "outputs": [],
   "source": [
    "# !pip install chempy\n",
    "# !pip install periodictable\n",
    "# !pip install PyAstronomy\n",
    "\n",
    "import periodictable as pt\n",
    "import chempy as ch\n",
    "import numpy as np\n",
    "import sympy as sp\n",
    "import pickle\n",
    "from IPython.display import HTML\n",
    "import ipywidgets as widgets\n",
    "import matplotlib as mpl\n",
    "import matplotlib.pyplot as plt\n",
    "from mpl_toolkits.mplot3d import Axes3D\n",
    "import matplotlib.pyplot as plt\n",
    "mpl.rcParams['legend.fontsize'] = 10\n",
    "import pandas as pd\n",
    "import itertools\n",
    "pd.set_option('display.max_colwidth', None)\n",
    "from sympy.plotting import plot \n",
    "from IPython.display import Image\n",
    "from PyAstronomy import pyasl\n",
    "import decimal\n",
    "import sympy.physics.units as u\n",
    "from sympy.physics.units.systems import SI\n",
    "\n",
    "from sympy.physics.units import speed_of_light, meter, gram, second, day, pound\n",
    "from sympy.physics.units import mile, newton, kilogram, atomic_mass_constant\n",
    "from sympy.physics.units import kilometer, centimeter, millimeter, nanometer\n",
    "from sympy.physics.units import gravitational_constant, hbar, kPa, newton\n",
    "from sympy.physics.units import convert_to\n",
    "\n",
    "def RTL(e):\n",
    "    \"\"\"INPUT PARAMS: [] of math expressions\"\"\"\n",
    "    latex_rendering = []\n",
    "\n",
    "    for i in range(len(e)):\n",
    "        latex_rendering.append(\"$\" + sp.latex(e[i]) + \"$ &nbsp;&nbsp;\")\n",
    "    \n",
    "    return(HTML(\"\".join(latex_rendering[0:])))\n",
    "\n",
    "def BalanceChemEquation(L, R):\n",
    "    \"\"\" INPUT PARAMS: 2 * {} containing react and prod\"\"\"\n",
    "    reac, prod = ch.balance_stoichiometry(L, R)\n",
    "    Reaction = ch.Reaction(reac, prod)\n",
    "    return([Reaction, [reac, prod]])\n",
    "    \n",
    "\n",
    "class Atom: \n",
    "    def __init__(self, pCount, nCount, eCount):\n",
    "        \"\"\"INPUT PARAMS: countOfProtons, countOfNeutrons, countOfElectrons\"\"\"\n",
    "        \n",
    "        an = pyasl.AtomicNo()\n",
    "        \n",
    "        self.Protons = pCount\n",
    "        self.Neutrons = nCount\n",
    "        self.Electrons = eCount\n",
    "        self.ElementName = an.getElementName(pCount)\n",
    "        self.ElementNameWithAtomicMass = an.getElementName(pCount) + \"(\" + str(self.Protons) + \",\" + str(self.Protons + self.Neutrons) + \")\"\n",
    "    \n",
    "    def CreateSummary(self):\n",
    "        print(\"Name: \", self.ElementName)\n",
    "        print(\"Protons: \", self.Protons)\n",
    "        print(\"Neutrons: \", self.Neutrons)\n",
    "        print(\"Electrons: \", self.Electrons)"
   ]
  },
  {
   "cell_type": "code",
   "execution_count": 97,
   "id": "32367d78-7d3a-498d-9756-dc3e60840ac9",
   "metadata": {},
   "outputs": [
    {
     "data": {
      "text/html": [
       "2 H2 + O2 &rarr; 2 H2O"
      ],
      "text/plain": [
       "<chempy.chemistry.Reaction at 0x7ff0747b8ca0>"
      ]
     },
     "execution_count": 97,
     "metadata": {},
     "output_type": "execute_result"
    }
   ],
   "source": [
    "# Q: Balance thef following equation\n",
    "BalanceChemEquation({'H2', 'O2'}, { 'H2O'})[0]"
   ]
  },
  {
   "cell_type": "code",
   "execution_count": 98,
   "id": "eb877d50-156e-4ccd-9471-ee0064e9ebef",
   "metadata": {},
   "outputs": [
    {
     "data": {
      "text/html": [
       "C2H4 + 3 O2 &rarr; 2 CO2 + 2 H2O"
      ],
      "text/plain": [
       "<chempy.chemistry.Reaction at 0x7ff07495b5e0>"
      ]
     },
     "execution_count": 98,
     "metadata": {},
     "output_type": "execute_result"
    }
   ],
   "source": [
    "# Q: Balance thef following equation\n",
    "BalanceChemEquation({'C2H4', 'O2'}, {'CO2', 'H2O'})[0]"
   ]
  },
  {
   "cell_type": "code",
   "execution_count": 99,
   "id": "c8d85a12-ad06-446e-8ad1-1adca7ae73c8",
   "metadata": {},
   "outputs": [
    {
     "data": {
      "text/html": [
       "2 C2H6 + 7 O2 &rarr; 4 CO2 + 6 H2O"
      ],
      "text/plain": [
       "<chempy.chemistry.Reaction at 0x7ff0747d3ac0>"
      ]
     },
     "execution_count": 99,
     "metadata": {},
     "output_type": "execute_result"
    }
   ],
   "source": [
    "# Q: Balance thef following equation\n",
    "BalanceChemEquation({\"C2H6\", \"O2\"}, {\"CO2\", \"H2O\"})[0]"
   ]
  },
  {
   "cell_type": "code",
   "execution_count": 100,
   "id": "9507a180-dfa7-4fd3-a05b-045bbd120aab",
   "metadata": {},
   "outputs": [],
   "source": [
    "# Unit 5 Lesson 1, Balancing chemical equations 1"
   ]
  },
  {
   "cell_type": "code",
   "execution_count": 101,
   "id": "d1859100-89d1-4441-b0a8-1de8c2f5ff9b",
   "metadata": {},
   "outputs": [
    {
     "data": {
      "text/html": [
       "2 Al + 6 HCl &rarr; 2 AlCl3 + 3 H2"
      ],
      "text/plain": [
       "<chempy.chemistry.Reaction at 0x7ff074bbb310>"
      ]
     },
     "execution_count": 101,
     "metadata": {},
     "output_type": "execute_result"
    }
   ],
   "source": [
    "BalanceChemEquation({\"Al\", \"HCl\"}, {\"AlCl3\", \"H2\"})[0]"
   ]
  },
  {
   "cell_type": "code",
   "execution_count": 103,
   "id": "90880727-6565-4f41-b650-33edf1dfb965",
   "metadata": {},
   "outputs": [
    {
     "data": {
      "text/html": [
       "2 HCl + Mg &rarr; H2 + MgCl2"
      ],
      "text/plain": [
       "<chempy.chemistry.Reaction at 0x7ff074cc9d30>"
      ]
     },
     "execution_count": 103,
     "metadata": {},
     "output_type": "execute_result"
    }
   ],
   "source": [
    "BalanceChemEquation({\"Mg\", \"HCl\"}, {\"MgCl2\", \"H2\"})[0]"
   ]
  },
  {
   "cell_type": "code",
   "execution_count": 104,
   "id": "758c6971-ffa5-4d73-86fe-938fd2bd97f5",
   "metadata": {},
   "outputs": [
    {
     "data": {
      "text/html": [
       "As4S6 + 9 O2 &rarr; As4O6 + 6 SO2"
      ],
      "text/plain": [
       "<chempy.chemistry.Reaction at 0x7ff074964160>"
      ]
     },
     "execution_count": 104,
     "metadata": {},
     "output_type": "execute_result"
    }
   ],
   "source": [
    "BalanceChemEquation({\"As4S6\", \"O2\"}, {\"As4O6\", \"SO2\"})[0]"
   ]
  },
  {
   "cell_type": "code",
   "execution_count": 106,
   "id": "871db512-eb72-4bb9-ba18-1f1f97d71b70",
   "metadata": {},
   "outputs": [
    {
     "data": {
      "text/html": [
       "3 CaCl2 + 2 Na3PO4 &rarr; Ca3(PO4)2 + 6 NaCl"
      ],
      "text/plain": [
       "<chempy.chemistry.Reaction at 0x7ff0747beca0>"
      ]
     },
     "execution_count": 106,
     "metadata": {},
     "output_type": "execute_result"
    }
   ],
   "source": [
    "BalanceChemEquation({\"CaCl2\", \"Na3PO4\"}, {\"Ca3(PO4)2\", \"NaCl\"})[0]"
   ]
  },
  {
   "cell_type": "code",
   "execution_count": 109,
   "id": "3df08073-92ed-4f3d-b5e4-bf0871f04be4",
   "metadata": {},
   "outputs": [
    {
     "data": {
      "text/html": [
       "H2SO4 + 2 NaOH &rarr; 2 H2O + Na2SO4"
      ],
      "text/plain": [
       "<chempy.chemistry.Reaction at 0x7ff0747bec10>"
      ]
     },
     "execution_count": 109,
     "metadata": {},
     "output_type": "execute_result"
    }
   ],
   "source": [
    "# Unit 5, Lesson 2\n",
    "# Get mol ratio for a given unbalanced equation\n",
    "BalanceChemEquation({\"NaOH\",\"H2SO4\"}, {\"H2O\", \"Na2SO4\"})[0]"
   ]
  },
  {
   "cell_type": "code",
   "execution_count": 110,
   "id": "bca5b3fc-3981-4f23-a8f2-cf147d99b72f",
   "metadata": {},
   "outputs": [
    {
     "data": {
      "text/latex": [
       "$\\displaystyle \\text{mol}$"
      ],
      "text/plain": [
       "mole"
      ]
     },
     "execution_count": 110,
     "metadata": {},
     "output_type": "execute_result"
    }
   ],
   "source": [
    "u.moles"
   ]
  },
  {
   "cell_type": "code",
   "execution_count": 111,
   "id": "35740a4f-d1e9-4cd7-8d49-5f83a5256b05",
   "metadata": {},
   "outputs": [
    {
     "name": "stdout",
     "output_type": "stream",
     "text": [
      "Collecting molmass\n",
      "  Downloading molmass-2022.12.9-py3-none-any.whl (74 kB)\n",
      "\u001b[K     |████████████████████████████████| 74 kB 1.7 MB/s eta 0:00:01\n",
      "\u001b[?25hInstalling collected packages: molmass\n",
      "Successfully installed molmass-2022.12.9\n"
     ]
    }
   ],
   "source": [
    "!pip install molmass"
   ]
  },
  {
   "cell_type": "code",
   "execution_count": null,
   "id": "c5ad0e9a-c1c5-4e49-ba2a-5770c1d33b2b",
   "metadata": {},
   "outputs": [],
   "source": []
  }
 ],
 "metadata": {
  "kernelspec": {
   "display_name": "Python 3",
   "language": "python",
   "name": "python3"
  },
  "language_info": {
   "codemirror_mode": {
    "name": "ipython",
    "version": 3
   },
   "file_extension": ".py",
   "mimetype": "text/x-python",
   "name": "python",
   "nbconvert_exporter": "python",
   "pygments_lexer": "ipython3",
   "version": "3.9.2"
  }
 },
 "nbformat": 4,
 "nbformat_minor": 5
}
