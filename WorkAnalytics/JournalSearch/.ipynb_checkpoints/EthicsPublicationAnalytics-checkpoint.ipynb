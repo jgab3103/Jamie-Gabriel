{
 "cells": [
  {
   "cell_type": "code",
   "execution_count": 1,
   "id": "94478e39-1e01-455f-b5b6-c24ff3fe2f31",
   "metadata": {},
   "outputs": [],
   "source": [
    "# Dependencies\n",
    "\n",
    "#!pip install dimcli plotly tqdm -U --quiet\n",
    "#!pip install openpyxl -U"
   ]
  },
  {
   "cell_type": "code",
   "execution_count": 2,
   "id": "d47cda75-92c5-45b8-b56f-121b7e3ac6e8",
   "metadata": {},
   "outputs": [
    {
     "data": {
      "text/html": [
       "        <script type=\"text/javascript\">\n",
       "        window.PlotlyConfig = {MathJaxConfig: 'local'};\n",
       "        if (window.MathJax) {MathJax.Hub.Config({SVG: {font: \"STIX-Web\"}});}\n",
       "        if (typeof require !== 'undefined') {\n",
       "        require.undef(\"plotly\");\n",
       "        requirejs.config({\n",
       "            paths: {\n",
       "                'plotly': ['https://cdn.plot.ly/plotly-2.4.2.min']\n",
       "            }\n",
       "        });\n",
       "        require(['plotly'], function(Plotly) {\n",
       "            window._Plotly = Plotly;\n",
       "        });\n",
       "        }\n",
       "        </script>\n",
       "        "
      ]
     },
     "metadata": {},
     "output_type": "display_data"
    }
   ],
   "source": [
    "import numpy as np\n",
    "import sympy as sp\n",
    "import pickle\n",
    "from IPython.display import HTML\n",
    "import pandas as pd\n",
    "import itertools\n",
    "import dimcli\n",
    "import openpyxl\n",
    "from tqdm.notebook import tqdm\n",
    "import warnings\n",
    "warnings.filterwarnings(\"ignore\")\n",
    "import plotly.express as px\n",
    "from plotly.offline import init_notebook_mode\n",
    "init_notebook_mode(connected=True)\n",
    "\n"
   ]
  },
  {
   "cell_type": "code",
   "execution_count": 3,
   "id": "e04e92be-811f-4c48-9a2b-3472f437804c",
   "metadata": {},
   "outputs": [
    {
     "name": "stdout",
     "output_type": "stream",
     "text": [
      "\u001b[2mDimcli - Dimensions API Client (v0.9.1)\u001b[0m\n",
      "\u001b[2mConnected to: https://app.dimensions.ai - DSL v1.31\u001b[0m\n",
      "\u001b[2mMethod: manual login\u001b[0m\n"
     ]
    }
   ],
   "source": [
    "# Set up credentials and connection\n",
    "dimcli.login(key=\"F86D0EE87BF7475E95D9A47574175BC3\",\n",
    "             endpoint=\"https://app.dimensions.ai\")\n",
    "dsl = dimcli.Dsl()"
   ]
  },
  {
   "cell_type": "markdown",
   "id": "13e9546d-aecb-411e-b8cc-0e14c3094361",
   "metadata": {},
   "source": [
    "<b>Overview</b>\n",
    "\n",
    "There is support for magic functions such as:"
   ]
  },
  {
   "cell_type": "markdown",
   "id": "bda715e7-99a7-49e8-9a04-a3d6ac30f142",
   "metadata": {},
   "source": [
    "Now for some work. Look through CI data to check applications for fellowships:"
   ]
  },
  {
   "cell_type": "code",
   "execution_count": 8,
   "id": "573f1e26-5bc8-4f05-b616-7789e4f6c9a1",
   "metadata": {},
   "outputs": [
    {
     "data": {
      "text/html": [
       "<div>\n",
       "<style scoped>\n",
       "    .dataframe tbody tr th:only-of-type {\n",
       "        vertical-align: middle;\n",
       "    }\n",
       "\n",
       "    .dataframe tbody tr th {\n",
       "        vertical-align: top;\n",
       "    }\n",
       "\n",
       "    .dataframe thead th {\n",
       "        text-align: right;\n",
       "    }\n",
       "</style>\n",
       "<table border=\"1\" class=\"dataframe\">\n",
       "  <thead>\n",
       "    <tr style=\"text-align: right;\">\n",
       "      <th></th>\n",
       "      <th>0</th>\n",
       "      <th>1</th>\n",
       "      <th>2</th>\n",
       "      <th>3</th>\n",
       "      <th>4</th>\n",
       "      <th>5</th>\n",
       "    </tr>\n",
       "  </thead>\n",
       "  <tbody>\n",
       "    <tr>\n",
       "      <th>Date application first reviewed</th>\n",
       "      <td>NaN</td>\n",
       "      <td>2021-09-08 00:00:00</td>\n",
       "      <td>2021-09-08 00:00:00</td>\n",
       "      <td>2021-09-08 00:00:00</td>\n",
       "      <td>2021-09-08 00:00:00</td>\n",
       "      <td>2021-09-08 00:00:00</td>\n",
       "    </tr>\n",
       "    <tr>\n",
       "      <th></th>\n",
       "      <td>NaN</td>\n",
       "      <td>2021/ETH11248</td>\n",
       "      <td>2021/ETH10936</td>\n",
       "      <td>2021/ETH11364</td>\n",
       "      <td>2021/ETH10900</td>\n",
       "      <td>2021/ETH11298</td>\n",
       "    </tr>\n",
       "    <tr>\n",
       "      <th>AU RED No.</th>\n",
       "      <td>NaN</td>\n",
       "      <td>NaN</td>\n",
       "      <td>NaN</td>\n",
       "      <td>NaN</td>\n",
       "      <td>NaN</td>\n",
       "      <td>NaN</td>\n",
       "    </tr>\n",
       "    <tr>\n",
       "      <th>TRIM CONTAINER</th>\n",
       "      <td>NaN</td>\n",
       "      <td>REGIS</td>\n",
       "      <td>REGIS</td>\n",
       "      <td>REGIS</td>\n",
       "      <td>REGIS</td>\n",
       "      <td>REGIS</td>\n",
       "    </tr>\n",
       "    <tr>\n",
       "      <th>Study Title</th>\n",
       "      <td>NaN</td>\n",
       "      <td>The Enduring ACT Admitted Patient, Emergency a...</td>\n",
       "      <td>Predicting the Outcomes of Patients with Pre-E...</td>\n",
       "      <td>The Impact of COVID-19 on Non COVID-19 disease...</td>\n",
       "      <td>Evaluation of Towards Zero Suicides Initiative...</td>\n",
       "      <td>Examining differences between smokers with and...</td>\n",
       "    </tr>\n",
       "    <tr>\n",
       "      <th>...</th>\n",
       "      <td>...</td>\n",
       "      <td>...</td>\n",
       "      <td>...</td>\n",
       "      <td>...</td>\n",
       "      <td>...</td>\n",
       "      <td>...</td>\n",
       "    </tr>\n",
       "    <tr>\n",
       "      <th>Unnamed: 69</th>\n",
       "      <td>NaN</td>\n",
       "      <td>NaN</td>\n",
       "      <td>NaN</td>\n",
       "      <td>NaN</td>\n",
       "      <td>NaN</td>\n",
       "      <td>NaN</td>\n",
       "    </tr>\n",
       "    <tr>\n",
       "      <th>Unnamed: 70</th>\n",
       "      <td>NaN</td>\n",
       "      <td>NaN</td>\n",
       "      <td>NaN</td>\n",
       "      <td>NaN</td>\n",
       "      <td>NaN</td>\n",
       "      <td>NaN</td>\n",
       "    </tr>\n",
       "    <tr>\n",
       "      <th>Unnamed: 71</th>\n",
       "      <td>NaN</td>\n",
       "      <td>NaN</td>\n",
       "      <td>NaN</td>\n",
       "      <td>NaN</td>\n",
       "      <td>NaN</td>\n",
       "      <td>NaN</td>\n",
       "    </tr>\n",
       "    <tr>\n",
       "      <th>Unnamed: 72</th>\n",
       "      <td>NaN</td>\n",
       "      <td>NaN</td>\n",
       "      <td>NaN</td>\n",
       "      <td>NaN</td>\n",
       "      <td>NaN</td>\n",
       "      <td>NaN</td>\n",
       "    </tr>\n",
       "    <tr>\n",
       "      <th>Unnamed: 73</th>\n",
       "      <td>NaN</td>\n",
       "      <td>NaN</td>\n",
       "      <td>NaN</td>\n",
       "      <td>NaN</td>\n",
       "      <td>NaN</td>\n",
       "      <td>NaN</td>\n",
       "    </tr>\n",
       "  </tbody>\n",
       "</table>\n",
       "<p>74 rows × 6 columns</p>\n",
       "</div>"
      ],
      "text/plain": [
       "                                   0  \\\n",
       "Date application first reviewed  NaN   \n",
       "                                 NaN   \n",
       "AU RED No.                       NaN   \n",
       "TRIM CONTAINER                   NaN   \n",
       "Study Title                      NaN   \n",
       "...                              ...   \n",
       "Unnamed: 69                      NaN   \n",
       "Unnamed: 70                      NaN   \n",
       "Unnamed: 71                      NaN   \n",
       "Unnamed: 72                      NaN   \n",
       "Unnamed: 73                      NaN   \n",
       "\n",
       "                                                                                 1  \\\n",
       "Date application first reviewed                                2021-09-08 00:00:00   \n",
       "                                                                    2021/ETH11248    \n",
       "AU RED No.                                                                     NaN   \n",
       "TRIM CONTAINER                                                               REGIS   \n",
       "Study Title                      The Enduring ACT Admitted Patient, Emergency a...   \n",
       "...                                                                            ...   \n",
       "Unnamed: 69                                                                    NaN   \n",
       "Unnamed: 70                                                                    NaN   \n",
       "Unnamed: 71                                                                    NaN   \n",
       "Unnamed: 72                                                                    NaN   \n",
       "Unnamed: 73                                                                    NaN   \n",
       "\n",
       "                                                                                 2  \\\n",
       "Date application first reviewed                                2021-09-08 00:00:00   \n",
       "                                                                     2021/ETH10936   \n",
       "AU RED No.                                                                     NaN   \n",
       "TRIM CONTAINER                                                               REGIS   \n",
       "Study Title                      Predicting the Outcomes of Patients with Pre-E...   \n",
       "...                                                                            ...   \n",
       "Unnamed: 69                                                                    NaN   \n",
       "Unnamed: 70                                                                    NaN   \n",
       "Unnamed: 71                                                                    NaN   \n",
       "Unnamed: 72                                                                    NaN   \n",
       "Unnamed: 73                                                                    NaN   \n",
       "\n",
       "                                                                                 3  \\\n",
       "Date application first reviewed                                2021-09-08 00:00:00   \n",
       "                                                                     2021/ETH11364   \n",
       "AU RED No.                                                                     NaN   \n",
       "TRIM CONTAINER                                                               REGIS   \n",
       "Study Title                      The Impact of COVID-19 on Non COVID-19 disease...   \n",
       "...                                                                            ...   \n",
       "Unnamed: 69                                                                    NaN   \n",
       "Unnamed: 70                                                                    NaN   \n",
       "Unnamed: 71                                                                    NaN   \n",
       "Unnamed: 72                                                                    NaN   \n",
       "Unnamed: 73                                                                    NaN   \n",
       "\n",
       "                                                                                 4  \\\n",
       "Date application first reviewed                                2021-09-08 00:00:00   \n",
       "                                                                     2021/ETH10900   \n",
       "AU RED No.                                                                     NaN   \n",
       "TRIM CONTAINER                                                               REGIS   \n",
       "Study Title                      Evaluation of Towards Zero Suicides Initiative...   \n",
       "...                                                                            ...   \n",
       "Unnamed: 69                                                                    NaN   \n",
       "Unnamed: 70                                                                    NaN   \n",
       "Unnamed: 71                                                                    NaN   \n",
       "Unnamed: 72                                                                    NaN   \n",
       "Unnamed: 73                                                                    NaN   \n",
       "\n",
       "                                                                                 5  \n",
       "Date application first reviewed                                2021-09-08 00:00:00  \n",
       "                                                                    2021/ETH11298   \n",
       "AU RED No.                                                                     NaN  \n",
       "TRIM CONTAINER                                                               REGIS  \n",
       "Study Title                      Examining differences between smokers with and...  \n",
       "...                                                                            ...  \n",
       "Unnamed: 69                                                                    NaN  \n",
       "Unnamed: 70                                                                    NaN  \n",
       "Unnamed: 71                                                                    NaN  \n",
       "Unnamed: 72                                                                    NaN  \n",
       "Unnamed: 73                                                                    NaN  \n",
       "\n",
       "[74 rows x 6 columns]"
      ]
     },
     "execution_count": 8,
     "metadata": {},
     "output_type": "execute_result"
    }
   ],
   "source": [
    "authors = pd.read_excel(\"./Data/ethics-data/MASTER Ethics Register.xlsx\", sheet_name=\"Register\")\n",
    "authors.head(6).T"
   ]
  },
  {
   "cell_type": "markdown",
   "id": "8d4c79f5-34f7-42ce-abf3-2df0c3963104",
   "metadata": {},
   "source": [
    "Dimensions expects JSON, so some cleaning is needed:"
   ]
  },
  {
   "cell_type": "code",
   "execution_count": 231,
   "id": "851f722c-9a55-48b4-be29-c6dc68e6709e",
   "metadata": {},
   "outputs": [],
   "source": [
    "authors.researcher_ids = authors.researcher_ids.str.replace(r\"\\['\", \"\")\n",
    "authors.researcher_ids = authors.researcher_ids.str.replace(r\"\\']\", \"\")\n",
    "authors.researcher_ids = authors.researcher_ids.str.replace(r\"\\'\", \" \")\n",
    "authorIDs = authors.researcher_ids.to_list()\n",
    "authorIDs = [str(x) for x in authorIDs]\n",
    "authorIDs = [x for x in authorIDs if x != 'nan']"
   ]
  },
  {
   "cell_type": "markdown",
   "id": "7c5195b4-57d9-48e7-8501-abcec4e0bb2c",
   "metadata": {},
   "source": [
    "Create a query string and then run a function to evaulate the query with each authorID"
   ]
  },
  {
   "cell_type": "code",
   "execution_count": 305,
   "id": "7903105b-54eb-4127-a146-f2700f025229",
   "metadata": {},
   "outputs": [],
   "source": [
    "queryPrefix = \"search publications where researchers.id =\"\n",
    "querySuffix = \" return publications[id+type+volume+year+issue+title+journal+authors + times_cited] limit 300\""
   ]
  },
  {
   "cell_type": "code",
   "execution_count": 306,
   "id": "7eefdeb0-3557-45cb-8f20-86b2b01dacc4",
   "metadata": {},
   "outputs": [],
   "source": [
    "def queryDimensions(researcherIDs = None):\n",
    "    noResults = []\n",
    "    dataFromAPI = []\n",
    "    for i in range(len(researcherIDs)):\n",
    "        r = dsl.query(queryPrefix + json.dumps(researcherIDs[i]) + querySuffix).as_dataframe()\n",
    "        if (r.empty):\n",
    "            noResults.append(researcherIDs[i])\n",
    "        else:\n",
    "            r['ressearcherID'] = researcherIDs[i]\n",
    "            dataFromAPI.append(r)\n",
    "   \n",
    "        dataFromAPIasSingleDataFrame = pd.concat(dataFromAPI)\n",
    "        \n",
    "    return({\"dataFromAPI\": dataFromAPIasSingleDataFrame, \"noResults\": noResults})"
   ]
  },
  {
   "cell_type": "code",
   "execution_count": 311,
   "id": "3ffb282f-fd7c-4d21-bd10-32b2a5e39ab0",
   "metadata": {},
   "outputs": [],
   "source": [
    "#results = queryDimensions(authorIDs)"
   ]
  },
  {
   "cell_type": "markdown",
   "id": "49e54d79-4b58-4d69-bbc7-929f9551fa7b",
   "metadata": {},
   "source": [
    "Results and errors  are returned: "
   ]
  },
  {
   "cell_type": "code",
   "execution_count": 316,
   "id": "5d00e9b1-f988-4e0a-aa0b-9b18a6d6a6d6",
   "metadata": {},
   "outputs": [
    {
     "data": {
      "text/plain": [
       "[' ur.01121702557.52']"
      ]
     },
     "execution_count": 316,
     "metadata": {},
     "output_type": "execute_result"
    }
   ],
   "source": [
    "results['dataFromAPI']\n",
    "results['noResults']"
   ]
  },
  {
   "cell_type": "code",
   "execution_count": null,
   "id": "e849ac18-0be3-4bec-9534-6b2585c4b5f8",
   "metadata": {},
   "outputs": [],
   "source": []
  },
  {
   "cell_type": "code",
   "execution_count": null,
   "id": "9efad1ff-1c3d-4397-86c6-4e85367a6ab3",
   "metadata": {},
   "outputs": [],
   "source": []
  }
 ],
 "metadata": {
  "kernelspec": {
   "display_name": "Python 3",
   "language": "python",
   "name": "python3"
  },
  "language_info": {
   "codemirror_mode": {
    "name": "ipython",
    "version": 3
   },
   "file_extension": ".py",
   "mimetype": "text/x-python",
   "name": "python",
   "nbconvert_exporter": "python",
   "pygments_lexer": "ipython3",
   "version": "3.9.2"
  }
 },
 "nbformat": 4,
 "nbformat_minor": 5
}
