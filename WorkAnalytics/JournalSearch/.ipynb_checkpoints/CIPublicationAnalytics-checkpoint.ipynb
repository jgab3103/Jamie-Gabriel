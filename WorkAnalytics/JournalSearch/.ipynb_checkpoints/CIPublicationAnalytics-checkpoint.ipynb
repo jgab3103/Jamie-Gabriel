{
 "cells": [
  {
   "cell_type": "code",
   "execution_count": 1,
   "id": "94478e39-1e01-455f-b5b6-c24ff3fe2f31",
   "metadata": {},
   "outputs": [],
   "source": [
    "# If installing from clean image\n",
    "#!pip install dimcli -U\n",
    "# !pip install dimcli plotly tqdm -U --quiet\n",
    "#!pip install openpyxl -U\n",
    "#!pip install dimcli plotly tqdm -U \n"
   ]
  },
  {
   "cell_type": "code",
   "execution_count": 7,
   "id": "d47cda75-92c5-45b8-b56f-121b7e3ac6e8",
   "metadata": {},
   "outputs": [
    {
     "data": {
      "text/html": [
       "        <script type=\"text/javascript\">\n",
       "        window.PlotlyConfig = {MathJaxConfig: 'local'};\n",
       "        if (window.MathJax) {MathJax.Hub.Config({SVG: {font: \"STIX-Web\"}});}\n",
       "        if (typeof require !== 'undefined') {\n",
       "        require.undef(\"plotly\");\n",
       "        requirejs.config({\n",
       "            paths: {\n",
       "                'plotly': ['https://cdn.plot.ly/plotly-2.4.2.min']\n",
       "            }\n",
       "        });\n",
       "        require(['plotly'], function(Plotly) {\n",
       "            window._Plotly = Plotly;\n",
       "        });\n",
       "        }\n",
       "        </script>\n",
       "        "
      ]
     },
     "metadata": {},
     "output_type": "display_data"
    },
    {
     "name": "stdout",
     "output_type": "stream",
     "text": [
      "\u001b[2mDimcli - Dimensions API Client (v0.9.1)\u001b[0m\n",
      "\u001b[2mConnected to: https://app.dimensions.ai - DSL v1.31\u001b[0m\n",
      "\u001b[2mMethod: manual login\u001b[0m\n"
     ]
    }
   ],
   "source": [
    "import numpy as np\n",
    "import sympy as sp\n",
    "import pickle\n",
    "from IPython.display import HTML\n",
    "import pandas as pd\n",
    "import itertools\n",
    "import dimcli\n",
    "import openpyxl\n",
    "from tqdm.notebook import tqdm\n",
    "import warnings\n",
    "warnings.filterwarnings(\"ignore\")\n",
    "import plotly.express as px\n",
    "from plotly.offline import init_notebook_mode\n",
    "init_notebook_mode(connected=True)\n",
    "\n",
    "# Credentials\n",
    "dimcli.login(key=\"F86D0EE87BF7475E95D9A47574175BC3\",\n",
    "             endpoint=\"https://app.dimensions.ai\")"
   ]
  },
  {
   "cell_type": "code",
   "execution_count": 8,
   "id": "6b446529-629c-4032-bcbb-c3b18faf11ee",
   "metadata": {},
   "outputs": [],
   "source": [
    "dsl = dimcli.Dsl()"
   ]
  },
  {
   "cell_type": "code",
   "execution_count": 9,
   "id": "0ea68048-424f-436e-9316-fbc2d3ed073c",
   "metadata": {},
   "outputs": [],
   "source": [
    "GRIDID = \"grid.427695.b\""
   ]
  },
  {
   "cell_type": "code",
   "execution_count": 10,
   "id": "51e838b3-512c-4464-ba10-dee0f668e5f6",
   "metadata": {},
   "outputs": [
    {
     "name": "stdout",
     "output_type": "stream",
     "text": [
      "grid.427695.b has a total of 292 publications in Dimensions\n"
     ]
    }
   ],
   "source": [
    "tot = dsl.query(f\"\"\"search publications where research_orgs.id=\"{GRIDID}\" return publications limit 1\"\"\", verbose=False).count_total\n",
    "print(f\"{GRIDID} has a total of {tot} publications in Dimensions\")"
   ]
  },
  {
   "cell_type": "code",
   "execution_count": 12,
   "id": "f7306038-f80a-4757-8497-966b5bd6c63f",
   "metadata": {},
   "outputs": [
    {
     "name": "stdout",
     "output_type": "stream",
     "text": [
      "Returned Year: 18\n",
      "\u001b[2mTime: 1.13s\u001b[0m\n"
     ]
    },
    {
     "data": {
      "text/html": [
       "<div>\n",
       "<style scoped>\n",
       "    .dataframe tbody tr th:only-of-type {\n",
       "        vertical-align: middle;\n",
       "    }\n",
       "\n",
       "    .dataframe tbody tr th {\n",
       "        vertical-align: top;\n",
       "    }\n",
       "\n",
       "    .dataframe thead th {\n",
       "        text-align: right;\n",
       "    }\n",
       "</style>\n",
       "<table border=\"1\" class=\"dataframe\">\n",
       "  <thead>\n",
       "    <tr style=\"text-align: right;\">\n",
       "      <th></th>\n",
       "      <th>year</th>\n",
       "      <th>count</th>\n",
       "    </tr>\n",
       "  </thead>\n",
       "  <tbody>\n",
       "    <tr>\n",
       "      <th>0</th>\n",
       "      <td>2014</td>\n",
       "      <td>28</td>\n",
       "    </tr>\n",
       "  </tbody>\n",
       "</table>\n",
       "</div>"
      ],
      "text/plain": [
       "   year  count\n",
       "0  2014     28"
      ]
     },
     "execution_count": 12,
     "metadata": {},
     "output_type": "execute_result"
    }
   ],
   "source": [
    "df = dsl.query(f\"\"\"search publications where research_orgs.id=\"{GRIDID}\" return year limit 100\"\"\").as_dataframe()\n",
    "df.rename(columns={\"id\": \"year\"}, inplace=True)\n",
    "df.head(1)"
   ]
  },
  {
   "cell_type": "code",
   "execution_count": 17,
   "id": "93545f14-ed98-4e01-bde8-e7aa075839ca",
   "metadata": {},
   "outputs": [
    {
     "name": "stdout",
     "output_type": "stream",
     "text": [
      "Returned Publications: 292 (total = 292)\n",
      "\u001b[2mTime: 1.42s\u001b[0m\n"
     ]
    },
    {
     "data": {
      "text/html": [
       "<div>\n",
       "<style scoped>\n",
       "    .dataframe tbody tr th:only-of-type {\n",
       "        vertical-align: middle;\n",
       "    }\n",
       "\n",
       "    .dataframe tbody tr th {\n",
       "        vertical-align: top;\n",
       "    }\n",
       "\n",
       "    .dataframe thead th {\n",
       "        text-align: right;\n",
       "    }\n",
       "</style>\n",
       "<table border=\"1\" class=\"dataframe\">\n",
       "  <thead>\n",
       "    <tr style=\"text-align: right;\">\n",
       "      <th></th>\n",
       "      <th>title</th>\n",
       "      <th>doi</th>\n",
       "      <th>times_cited</th>\n",
       "      <th>journal.title</th>\n",
       "    </tr>\n",
       "  </thead>\n",
       "  <tbody>\n",
       "    <tr>\n",
       "      <th>0</th>\n",
       "      <td>Global surveillance of cancer survival 1995–20...</td>\n",
       "      <td>10.1016/s0140-6736(14)62038-9</td>\n",
       "      <td>1408</td>\n",
       "      <td>The Lancet</td>\n",
       "    </tr>\n",
       "  </tbody>\n",
       "</table>\n",
       "</div>"
      ],
      "text/plain": [
       "                                               title  \\\n",
       "0  Global surveillance of cancer survival 1995–20...   \n",
       "\n",
       "                             doi  times_cited journal.title  \n",
       "0  10.1016/s0140-6736(14)62038-9         1408    The Lancet  "
      ]
     },
     "execution_count": 17,
     "metadata": {},
     "output_type": "execute_result"
    }
   ],
   "source": [
    "data = dsl.query(f\"\"\"search publications\n",
    "                where research_orgs.id=\"{GRIDID}\"\n",
    "                return publications[doi+title+times_cited+category_for+journal]\n",
    "                sort by times_cited limit 1000\"\"\")\n",
    "df = data.as_dataframe()\n",
    "df.head(1)[['title', 'doi', 'times_cited', 'journal.title']]\n"
   ]
  },
  {
   "cell_type": "code",
   "execution_count": 27,
   "id": "a0b81fc0-0099-4a3d-8782-335d9e4c7ea8",
   "metadata": {},
   "outputs": [
    {
     "name": "stdout",
     "output_type": "stream",
     "text": [
      "Returned Funders: 2\n",
      "\u001b[2mTime: 1.16s\u001b[0m\n"
     ]
    },
    {
     "data": {
      "text/html": [
       "<div>\n",
       "<style scoped>\n",
       "    .dataframe tbody tr th:only-of-type {\n",
       "        vertical-align: middle;\n",
       "    }\n",
       "\n",
       "    .dataframe tbody tr th {\n",
       "        vertical-align: top;\n",
       "    }\n",
       "\n",
       "    .dataframe thead th {\n",
       "        text-align: right;\n",
       "    }\n",
       "</style>\n",
       "<table border=\"1\" class=\"dataframe\">\n",
       "  <thead>\n",
       "    <tr style=\"text-align: right;\">\n",
       "      <th></th>\n",
       "      <th>id</th>\n",
       "      <th>count</th>\n",
       "      <th>funding</th>\n",
       "      <th>types</th>\n",
       "      <th>latitude</th>\n",
       "      <th>city_name</th>\n",
       "      <th>state_name</th>\n",
       "      <th>country_name</th>\n",
       "      <th>name</th>\n",
       "      <th>linkout</th>\n",
       "      <th>longitude</th>\n",
       "      <th>acronym</th>\n",
       "    </tr>\n",
       "  </thead>\n",
       "  <tbody>\n",
       "    <tr>\n",
       "      <th>0</th>\n",
       "      <td>grid.453129.8</td>\n",
       "      <td>2</td>\n",
       "      <td>1011852.0</td>\n",
       "      <td>[Government]</td>\n",
       "      <td>-33.883300</td>\n",
       "      <td>Sydney</td>\n",
       "      <td>New South Wales</td>\n",
       "      <td>Australia</td>\n",
       "      <td>Cancer Australia</td>\n",
       "      <td>[http://canceraustralia.gov.au/]</td>\n",
       "      <td>151.20883</td>\n",
       "      <td>CA</td>\n",
       "    </tr>\n",
       "    <tr>\n",
       "      <th>1</th>\n",
       "      <td>grid.413452.5</td>\n",
       "      <td>1</td>\n",
       "      <td>155950.0</td>\n",
       "      <td>[Government]</td>\n",
       "      <td>-35.282425</td>\n",
       "      <td>Canberra</td>\n",
       "      <td>Australian Capital Territory</td>\n",
       "      <td>Australia</td>\n",
       "      <td>Australian Research Council</td>\n",
       "      <td>[http://www.arc.gov.au/]</td>\n",
       "      <td>149.12405</td>\n",
       "      <td>ARC</td>\n",
       "    </tr>\n",
       "  </tbody>\n",
       "</table>\n",
       "</div>"
      ],
      "text/plain": [
       "              id  count    funding         types   latitude city_name  \\\n",
       "0  grid.453129.8      2  1011852.0  [Government] -33.883300    Sydney   \n",
       "1  grid.413452.5      1   155950.0  [Government] -35.282425  Canberra   \n",
       "\n",
       "                     state_name country_name                         name  \\\n",
       "0               New South Wales    Australia             Cancer Australia   \n",
       "1  Australian Capital Territory    Australia  Australian Research Council   \n",
       "\n",
       "                            linkout  longitude acronym  \n",
       "0  [http://canceraustralia.gov.au/]  151.20883      CA  \n",
       "1          [http://www.arc.gov.au/]  149.12405     ARC  "
      ]
     },
     "execution_count": 27,
     "metadata": {},
     "output_type": "execute_result"
    }
   ],
   "source": [
    "fundersdata = dsl.query(f\"\"\"search grants\n",
    "                        where research_orgs.id=\"{GRIDID}\"\n",
    "                        return funders aggregate funding\n",
    "                        sort by funding\"\"\")\n",
    "df = fundersdata.as_dataframe()\n",
    "df.head(10)"
   ]
  },
  {
   "cell_type": "code",
   "execution_count": 42,
   "id": "573f1e26-5bc8-4f05-b616-7789e4f6c9a1",
   "metadata": {},
   "outputs": [],
   "source": [
    "authors = pd.read_excel(\"./ci-researcher-data/Premiers_Fellowship_Dimensions.xlsx\")"
   ]
  },
  {
   "cell_type": "code",
   "execution_count": 43,
   "id": "30f2c55d-4a2c-4220-b027-9c668ce53a64",
   "metadata": {},
   "outputs": [],
   "source": [
    "researcherIDs = authors.researcher_ids"
   ]
  },
  {
   "cell_type": "code",
   "execution_count": 44,
   "id": "ce367ae3-dce9-4d8c-9866-3096d2df9927",
   "metadata": {},
   "outputs": [],
   "source": [
    "t = researcherIDs"
   ]
  },
  {
   "cell_type": "code",
   "execution_count": 47,
   "id": "fbab4dec-a579-4422-94f1-466b4a45f813",
   "metadata": {},
   "outputs": [
    {
     "data": {
      "text/html": [
       "<div>\n",
       "<style scoped>\n",
       "    .dataframe tbody tr th:only-of-type {\n",
       "        vertical-align: middle;\n",
       "    }\n",
       "\n",
       "    .dataframe tbody tr th {\n",
       "        vertical-align: top;\n",
       "    }\n",
       "\n",
       "    .dataframe thead th {\n",
       "        text-align: right;\n",
       "    }\n",
       "</style>\n",
       "<table border=\"1\" class=\"dataframe\">\n",
       "  <thead>\n",
       "    <tr style=\"text-align: right;\">\n",
       "      <th></th>\n",
       "      <th>researcher_ids</th>\n",
       "      <th>Program</th>\n",
       "      <th>ProjectIdentifier</th>\n",
       "      <th>Title</th>\n",
       "      <th>ContactFullName</th>\n",
       "      <th>PrimaryOrganisationName</th>\n",
       "      <th>2020_TotalPubs</th>\n",
       "      <th>LTD_TotalPubs</th>\n",
       "      <th>2020_TotalCitations</th>\n",
       "      <th>LTD_TotalCitations</th>\n",
       "      <th>h-index</th>\n",
       "    </tr>\n",
       "  </thead>\n",
       "  <tbody>\n",
       "    <tr>\n",
       "      <th>0</th>\n",
       "      <td>['ur.0731267322.21']</td>\n",
       "      <td>Career Development Fellowship - CDF</td>\n",
       "      <td>2018/CDF001</td>\n",
       "      <td>The Clincial Translation of NSW Invented Tumou...</td>\n",
       "      <td>Ricky O'Brien</td>\n",
       "      <td>The University of Sydney</td>\n",
       "      <td>NaN</td>\n",
       "      <td>NaN</td>\n",
       "      <td>NaN</td>\n",
       "      <td>NaN</td>\n",
       "      <td>NaN</td>\n",
       "    </tr>\n",
       "  </tbody>\n",
       "</table>\n",
       "</div>"
      ],
      "text/plain": [
       "         researcher_ids                              Program  \\\n",
       "0  ['ur.0731267322.21']  Career Development Fellowship - CDF   \n",
       "\n",
       "  ProjectIdentifier                                              Title  \\\n",
       "0       2018/CDF001  The Clincial Translation of NSW Invented Tumou...   \n",
       "\n",
       "  ContactFullName   PrimaryOrganisationName  2020_TotalPubs  LTD_TotalPubs  \\\n",
       "0   Ricky O'Brien  The University of Sydney             NaN            NaN   \n",
       "\n",
       "   2020_TotalCitations  LTD_TotalCitations  h-index  \n",
       "0                  NaN                 NaN      NaN  "
      ]
     },
     "execution_count": 47,
     "metadata": {},
     "output_type": "execute_result"
    }
   ],
   "source": [
    "authors.head(1)"
   ]
  },
  {
   "cell_type": "code",
   "execution_count": 59,
   "id": "851f722c-9a55-48b4-be29-c6dc68e6709e",
   "metadata": {},
   "outputs": [],
   "source": [
    "authors.researcher_ids = authors.researcher_ids.str.replace(r\"\\['\", \"\")\n",
    "authors.researcher_ids = authors.researcher_ids.str.replace(r\"\\']\", \"\")\n",
    "authors.researcher_ids = authors.researcher_ids.str.replace(r\"\\'\", \" \")"
   ]
  },
  {
   "cell_type": "code",
   "execution_count": 76,
   "id": "6a21d68b-ff50-4a5d-bcf6-099ac66887ad",
   "metadata": {},
   "outputs": [
    {
     "data": {
      "text/plain": [
       "['ur.0731267322.21',\n",
       " 'ur.01351637340.27   ur.015600604603.79',\n",
       " 'ur.0714460423.40',\n",
       " 'ur.01032446376.49',\n",
       " 'ur.01367250265.00',\n",
       " 'ur.0626251355.67',\n",
       " 'ur.01332477657.37',\n",
       " 'ur.01106242365.13',\n",
       " 'ur.0764753454.22',\n",
       " 'ur.0610762237.02',\n",
       " 'ur.01210752347.03',\n",
       " 'ur.0725316625.25',\n",
       " 'ur.01265216223.88',\n",
       " 'ur.01254371202.88',\n",
       " 'ur.01310163707.98',\n",
       " 'ur.01260235463.29',\n",
       " 'ur.01107253763.12',\n",
       " 'ur.01077011303.24',\n",
       " 'ur.0706310077.68',\n",
       " 'ur.01250725106.05',\n",
       " 'ur.0713321776.37   ur.0650422353.85   ur.01121702557.52 \\n  ur.07562506163.15',\n",
       " 'ur.0733110542.08',\n",
       " 'ur.0621053147.56',\n",
       " 'ur.01154317624.53',\n",
       " 'ur.01136576210.58',\n",
       " 'ur.010222236545.28',\n",
       " 'ur.01101265445.84   ur.01224157672.54',\n",
       " 'ur.01077436063.62',\n",
       " 'ur.01103675204.68',\n",
       " 'ur.0740221370.50',\n",
       " 'ur.01277214241.63',\n",
       " 'ur.013451323244.74',\n",
       " 'ur.01175620171.15',\n",
       " 'ur.01367245642.54',\n",
       " 'ur.016514611447.20',\n",
       " 'ur.01365124445.22',\n",
       " 'ur.0643042060.33',\n",
       " 'ur.0725424627.42',\n",
       " 'ur.01114472142.31',\n",
       " 'ur.0656253324.38',\n",
       " 'ur.014003773667.34',\n",
       " 'ur.01057450346.85',\n",
       " 'ur.01204731133.77',\n",
       " 'ur.0707247600.31',\n",
       " 'ur.01043662351.01',\n",
       " 'ur.01322760725.31',\n",
       " 'ur.01004715034.74',\n",
       " 'ur.01250725106.05',\n",
       " 'ur.01143543411.00']"
      ]
     },
     "execution_count": 76,
     "metadata": {},
     "output_type": "execute_result"
    }
   ],
   "source": [
    "authorIDs = authors.researcher_ids.to_list()\n",
    "authorIDs = [str(x) for x in authorIDs]\n",
    "[x for x in authorIDs if x != 'nan']"
   ]
  },
  {
   "cell_type": "code",
   "execution_count": 89,
   "id": "38f8b297-246c-4599-bbb5-fd9c762ecff9",
   "metadata": {},
   "outputs": [
    {
     "name": "stdout",
     "output_type": "stream",
     "text": [
      "Returned Publications: 1 (total = 33)\n",
      "\u001b[2mTime: 1.09s\u001b[0m\n"
     ]
    },
    {
     "data": {
      "text/html": [
       "<div>\n",
       "<style scoped>\n",
       "    .dataframe tbody tr th:only-of-type {\n",
       "        vertical-align: middle;\n",
       "    }\n",
       "\n",
       "    .dataframe tbody tr th {\n",
       "        vertical-align: top;\n",
       "    }\n",
       "\n",
       "    .dataframe thead th {\n",
       "        text-align: right;\n",
       "    }\n",
       "</style>\n",
       "<table border=\"1\" class=\"dataframe\">\n",
       "  <thead>\n",
       "    <tr style=\"text-align: right;\">\n",
       "      <th></th>\n",
       "      <th>researchers</th>\n",
       "      <th>doi</th>\n",
       "    </tr>\n",
       "  </thead>\n",
       "  <tbody>\n",
       "    <tr>\n",
       "      <th>0</th>\n",
       "      <td>[{'id': 'ur.0715032760.11', 'research_orgs': [...</td>\n",
       "      <td>10.1186/s13073-021-00951-6</td>\n",
       "    </tr>\n",
       "  </tbody>\n",
       "</table>\n",
       "</div>"
      ],
      "text/plain": [
       "                                         researchers  \\\n",
       "0  [{'id': 'ur.0715032760.11', 'research_orgs': [...   \n",
       "\n",
       "                          doi  \n",
       "0  10.1186/s13073-021-00951-6  "
      ]
     },
     "execution_count": 89,
     "metadata": {},
     "output_type": "execute_result"
    }
   ],
   "source": [
    "%%dsldf\n",
    "\n",
    "search publications\n",
    "where researchers.id = \"ur.01204731133.77\"\n",
    "return publications[doi + researchers]\n",
    "limit 1"
   ]
  },
  {
   "cell_type": "code",
   "execution_count": 91,
   "id": "1ea7bc74-0e9c-46f6-b290-1f60564d5f0d",
   "metadata": {},
   "outputs": [
    {
     "ename": "SyntaxError",
     "evalue": "EOL while scanning string literal (<ipython-input-91-4d12e2ccf09b>, line 1)",
     "output_type": "error",
     "traceback": [
      "\u001b[0;36m  File \u001b[0;32m\"<ipython-input-91-4d12e2ccf09b>\"\u001b[0;36m, line \u001b[0;32m1\u001b[0m\n\u001b[0;31m    data = dsl.query('search publications\u001b[0m\n\u001b[0m                                         ^\u001b[0m\n\u001b[0;31mSyntaxError\u001b[0m\u001b[0;31m:\u001b[0m EOL while scanning string literal\n"
     ]
    }
   ],
   "source": [
    "data = dsl.query(\"\"\"search publications\n",
    "                where researchers.id = \"ur.01204731133.77\"\n",
    "                return publications[doi+title+times_cited+category_for+journal + authors]\n",
    "                sort by times_cited limit 1000\"\"\")\n",
    "\n",
    "\n",
    "df = data.as_dataframe()\n",
    "df\n"
   ]
  },
  {
   "cell_type": "code",
   "execution_count": null,
   "id": "e5053c59-baf2-4462-b6d2-6e5f8d5f6e39",
   "metadata": {},
   "outputs": [],
   "source": []
  }
 ],
 "metadata": {
  "kernelspec": {
   "display_name": "Python 3",
   "language": "python",
   "name": "python3"
  },
  "language_info": {
   "codemirror_mode": {
    "name": "ipython",
    "version": 3
   },
   "file_extension": ".py",
   "mimetype": "text/x-python",
   "name": "python",
   "nbconvert_exporter": "python",
   "pygments_lexer": "ipython3",
   "version": "3.9.2"
  }
 },
 "nbformat": 4,
 "nbformat_minor": 5
}
