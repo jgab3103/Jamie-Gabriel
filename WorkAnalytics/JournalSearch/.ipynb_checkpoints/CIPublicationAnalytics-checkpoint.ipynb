{
 "cells": [
  {
   "cell_type": "code",
   "execution_count": 213,
   "id": "94478e39-1e01-455f-b5b6-c24ff3fe2f31",
   "metadata": {},
   "outputs": [],
   "source": [
    "# Dependencies\n",
    "\n",
    "#!pip install dimcli plotly tqdm -U --quiet\n",
    "#!pip install openpyxl -U"
   ]
  },
  {
   "cell_type": "code",
   "execution_count": 94,
   "id": "d47cda75-92c5-45b8-b56f-121b7e3ac6e8",
   "metadata": {},
   "outputs": [
    {
     "data": {
      "text/html": [
       "        <script type=\"text/javascript\">\n",
       "        window.PlotlyConfig = {MathJaxConfig: 'local'};\n",
       "        if (window.MathJax) {MathJax.Hub.Config({SVG: {font: \"STIX-Web\"}});}\n",
       "        if (typeof require !== 'undefined') {\n",
       "        require.undef(\"plotly\");\n",
       "        requirejs.config({\n",
       "            paths: {\n",
       "                'plotly': ['https://cdn.plot.ly/plotly-2.4.2.min']\n",
       "            }\n",
       "        });\n",
       "        require(['plotly'], function(Plotly) {\n",
       "            window._Plotly = Plotly;\n",
       "        });\n",
       "        }\n",
       "        </script>\n",
       "        "
      ]
     },
     "metadata": {},
     "output_type": "display_data"
    },
    {
     "name": "stdout",
     "output_type": "stream",
     "text": [
      "\u001b[2mDimcli - Dimensions API Client (v0.9.1)\u001b[0m\n",
      "\u001b[2mConnected to: https://app.dimensions.ai - DSL v1.31\u001b[0m\n",
      "\u001b[2mMethod: manual login\u001b[0m\n"
     ]
    }
   ],
   "source": [
    "import numpy as np\n",
    "import sympy as sp\n",
    "import pickle\n",
    "from IPython.display import HTML\n",
    "import pandas as pd\n",
    "import itertools\n",
    "import dimcli\n",
    "import openpyxl\n",
    "from tqdm.notebook import tqdm\n",
    "import warnings\n",
    "warnings.filterwarnings(\"ignore\")\n",
    "import plotly.express as px\n",
    "from plotly.offline import init_notebook_mode\n",
    "init_notebook_mode(connected=True)\n",
    "\n"
   ]
  },
  {
   "cell_type": "code",
   "execution_count": 215,
   "id": "e04e92be-811f-4c48-9a2b-3472f437804c",
   "metadata": {},
   "outputs": [
    {
     "name": "stdout",
     "output_type": "stream",
     "text": [
      "\u001b[2mDimcli - Dimensions API Client (v0.9.1)\u001b[0m\n",
      "\u001b[2mConnected to: https://app.dimensions.ai - DSL v1.31\u001b[0m\n",
      "\u001b[2mMethod: manual login\u001b[0m\n"
     ]
    }
   ],
   "source": [
    "# Set up credentials and connection\n",
    "dimcli.login(key=\"F86D0EE87BF7475E95D9A47574175BC3\",\n",
    "             endpoint=\"https://app.dimensions.ai\")\n",
    "dsl = dimcli.Dsl()"
   ]
  },
  {
   "cell_type": "markdown",
   "id": "13e9546d-aecb-411e-b8cc-0e14c3094361",
   "metadata": {},
   "source": [
    "<b>Overview</b>\n",
    "\n",
    "There is support for magic functions such as:"
   ]
  },
  {
   "cell_type": "code",
   "execution_count": 217,
   "id": "fc8bb9b6-d569-4556-94b0-85eb9874064a",
   "metadata": {},
   "outputs": [
    {
     "name": "stdout",
     "output_type": "stream",
     "text": [
      "Returned Publications: 1 (total = 21)\n",
      "\u001b[2mTime: 1.16s\u001b[0m\n"
     ]
    },
    {
     "data": {
      "text/html": [
       "<div>\n",
       "<style scoped>\n",
       "    .dataframe tbody tr th:only-of-type {\n",
       "        vertical-align: middle;\n",
       "    }\n",
       "\n",
       "    .dataframe tbody tr th {\n",
       "        vertical-align: top;\n",
       "    }\n",
       "\n",
       "    .dataframe thead th {\n",
       "        text-align: right;\n",
       "    }\n",
       "</style>\n",
       "<table border=\"1\" class=\"dataframe\">\n",
       "  <thead>\n",
       "    <tr style=\"text-align: right;\">\n",
       "      <th></th>\n",
       "      <th>researchers</th>\n",
       "      <th>doi</th>\n",
       "    </tr>\n",
       "  </thead>\n",
       "  <tbody>\n",
       "    <tr>\n",
       "      <th>0</th>\n",
       "      <td>[{'id': 'ur.01124722306.57', 'research_orgs': ...</td>\n",
       "      <td>10.1007/s00216-021-03510-5</td>\n",
       "    </tr>\n",
       "  </tbody>\n",
       "</table>\n",
       "</div>"
      ],
      "text/plain": [
       "                                         researchers  \\\n",
       "0  [{'id': 'ur.01124722306.57', 'research_orgs': ...   \n",
       "\n",
       "                          doi  \n",
       "0  10.1007/s00216-021-03510-5  "
      ]
     },
     "execution_count": 217,
     "metadata": {},
     "output_type": "execute_result"
    }
   ],
   "source": [
    "%%dsldf\n",
    "\n",
    "search publications\n",
    "where researchers.id = \"ur.013514345521.07\"\n",
    "return publications[doi + researchers]\n",
    "limit 1"
   ]
  },
  {
   "cell_type": "markdown",
   "id": "fb5ec264-7a8a-4ad7-a4e2-0220f1f1c90d",
   "metadata": {},
   "source": [
    "It is simpler to just pass the dsl connection a string that the API can deal with. Note it expects JSON when creating the query. The workflow is just to create a valid query as a string, then pass it to the API:"
   ]
  },
  {
   "cell_type": "code",
   "execution_count": 226,
   "id": "d8611bc6-f111-4ada-ad1d-89f304168f8a",
   "metadata": {},
   "outputs": [
    {
     "name": "stdout",
     "output_type": "stream",
     "text": [
      "Returned Publications: 100 (total = 115753)\n",
      "\u001b[2mTime: 2.18s\u001b[0m\n"
     ]
    },
    {
     "data": {
      "text/html": [
       "<div>\n",
       "<style scoped>\n",
       "    .dataframe tbody tr th:only-of-type {\n",
       "        vertical-align: middle;\n",
       "    }\n",
       "\n",
       "    .dataframe tbody tr th {\n",
       "        vertical-align: top;\n",
       "    }\n",
       "\n",
       "    .dataframe thead th {\n",
       "        text-align: right;\n",
       "    }\n",
       "</style>\n",
       "<table border=\"1\" class=\"dataframe\">\n",
       "  <thead>\n",
       "    <tr style=\"text-align: right;\">\n",
       "      <th></th>\n",
       "      <th>id</th>\n",
       "      <th>title</th>\n",
       "      <th>year</th>\n",
       "      <th>concepts_count</th>\n",
       "      <th>concept</th>\n",
       "      <th>score</th>\n",
       "      <th>frequency</th>\n",
       "      <th>score_avg</th>\n",
       "    </tr>\n",
       "  </thead>\n",
       "  <tbody>\n",
       "    <tr>\n",
       "      <th>0</th>\n",
       "      <td>pub.1129328198</td>\n",
       "      <td>Study of mechanochemistry of carbon nanotube u...</td>\n",
       "      <td>2019</td>\n",
       "      <td>6</td>\n",
       "      <td>study</td>\n",
       "      <td>0.084</td>\n",
       "      <td>30</td>\n",
       "      <td>0.2094</td>\n",
       "    </tr>\n",
       "  </tbody>\n",
       "</table>\n",
       "</div>"
      ],
      "text/plain": [
       "               id                                              title  year  \\\n",
       "0  pub.1129328198  Study of mechanochemistry of carbon nanotube u...  2019   \n",
       "\n",
       "   concepts_count concept  score  frequency  score_avg  \n",
       "0               6   study  0.084         30     0.2094  "
      ]
     },
     "execution_count": 226,
     "metadata": {},
     "output_type": "execute_result"
    }
   ],
   "source": [
    "q = \"\"\"search publications for \"graphene\"\n",
    "            where year=2019\n",
    "       return publications[id+title+year+concepts_scores] limit 100\"\"\"\n",
    "\n",
    "concepts = dsl.query(q).as_dataframe_concepts()\n",
    "concepts.head(1)"
   ]
  },
  {
   "cell_type": "markdown",
   "id": "33a8985b-ed35-49f6-a1f3-a6de4a9c8ea0",
   "metadata": {},
   "source": [
    "A more standard use case is create the query as different parts, so it is possible to drop in some kind of variable:"
   ]
  },
  {
   "cell_type": "code",
   "execution_count": 314,
   "id": "0ea68048-424f-436e-9316-fbc2d3ed073c",
   "metadata": {},
   "outputs": [
    {
     "name": "stdout",
     "output_type": "stream",
     "text": [
      "grid.427695.b has a total of 292 publications in Dimensions\n"
     ]
    }
   ],
   "source": [
    "GRIDID = \"grid.427695.b\"\n",
    "tot = dsl.query(f\"\"\"search publications where research_orgs.id=\"{GRIDID}\" return publications limit 1\"\"\", verbose=False).count_total\n",
    "print(f\"{GRIDID} has a total of {tot} publications in Dimensions\")"
   ]
  },
  {
   "cell_type": "markdown",
   "id": "afb18c34-b4cd-4c06-8f61-36985faa9b1f",
   "metadata": {},
   "source": [
    "It supports returning results as data frames (standard return object is JSON)"
   ]
  },
  {
   "cell_type": "code",
   "execution_count": 228,
   "id": "f7306038-f80a-4757-8497-966b5bd6c63f",
   "metadata": {},
   "outputs": [
    {
     "name": "stdout",
     "output_type": "stream",
     "text": [
      "Returned Year: 18\n",
      "\u001b[2mTime: 1.13s\u001b[0m\n"
     ]
    },
    {
     "data": {
      "text/html": [
       "<div>\n",
       "<style scoped>\n",
       "    .dataframe tbody tr th:only-of-type {\n",
       "        vertical-align: middle;\n",
       "    }\n",
       "\n",
       "    .dataframe tbody tr th {\n",
       "        vertical-align: top;\n",
       "    }\n",
       "\n",
       "    .dataframe thead th {\n",
       "        text-align: right;\n",
       "    }\n",
       "</style>\n",
       "<table border=\"1\" class=\"dataframe\">\n",
       "  <thead>\n",
       "    <tr style=\"text-align: right;\">\n",
       "      <th></th>\n",
       "      <th>year</th>\n",
       "      <th>count</th>\n",
       "    </tr>\n",
       "  </thead>\n",
       "  <tbody>\n",
       "    <tr>\n",
       "      <th>0</th>\n",
       "      <td>2014</td>\n",
       "      <td>28</td>\n",
       "    </tr>\n",
       "  </tbody>\n",
       "</table>\n",
       "</div>"
      ],
      "text/plain": [
       "   year  count\n",
       "0  2014     28"
      ]
     },
     "execution_count": 228,
     "metadata": {},
     "output_type": "execute_result"
    }
   ],
   "source": [
    "df = dsl.query(f\"\"\"search publications where research_orgs.id=\"{GRIDID}\" return year limit 100\"\"\").as_dataframe()\n",
    "df.rename(columns={\"id\": \"year\"}, inplace=True)\n",
    "df.head(1)"
   ]
  },
  {
   "cell_type": "markdown",
   "id": "e211f542-b52c-49cb-9d81-f74a7fe56abb",
   "metadata": {},
   "source": [
    "A good workflow seems to be using the query along with the data frame to get what is needed"
   ]
  },
  {
   "cell_type": "code",
   "execution_count": 315,
   "id": "93545f14-ed98-4e01-bde8-e7aa075839ca",
   "metadata": {},
   "outputs": [
    {
     "name": "stdout",
     "output_type": "stream",
     "text": [
      "Returned Publications: 292 (total = 292)\n",
      "\u001b[2mTime: 1.41s\u001b[0m\n"
     ]
    },
    {
     "data": {
      "text/html": [
       "<div>\n",
       "<style scoped>\n",
       "    .dataframe tbody tr th:only-of-type {\n",
       "        vertical-align: middle;\n",
       "    }\n",
       "\n",
       "    .dataframe tbody tr th {\n",
       "        vertical-align: top;\n",
       "    }\n",
       "\n",
       "    .dataframe thead th {\n",
       "        text-align: right;\n",
       "    }\n",
       "</style>\n",
       "<table border=\"1\" class=\"dataframe\">\n",
       "  <thead>\n",
       "    <tr style=\"text-align: right;\">\n",
       "      <th></th>\n",
       "      <th>title</th>\n",
       "      <th>doi</th>\n",
       "      <th>times_cited</th>\n",
       "      <th>journal.title</th>\n",
       "    </tr>\n",
       "  </thead>\n",
       "  <tbody>\n",
       "    <tr>\n",
       "      <th>0</th>\n",
       "      <td>Global surveillance of cancer survival 1995–20...</td>\n",
       "      <td>10.1016/s0140-6736(14)62038-9</td>\n",
       "      <td>1408</td>\n",
       "      <td>The Lancet</td>\n",
       "    </tr>\n",
       "  </tbody>\n",
       "</table>\n",
       "</div>"
      ],
      "text/plain": [
       "                                               title  \\\n",
       "0  Global surveillance of cancer survival 1995–20...   \n",
       "\n",
       "                             doi  times_cited journal.title  \n",
       "0  10.1016/s0140-6736(14)62038-9         1408    The Lancet  "
      ]
     },
     "execution_count": 315,
     "metadata": {},
     "output_type": "execute_result"
    }
   ],
   "source": [
    "data = dsl.query(f\"\"\"search publications\n",
    "                where research_orgs.id=\"{GRIDID}\"\n",
    "                return publications[doi+title+times_cited+category_for+journal]\n",
    "                sort by times_cited limit 1000\"\"\")\n",
    "df = data.as_dataframe()\n",
    "df.head(1)[['title', 'doi', 'times_cited', 'journal.title']]\n"
   ]
  },
  {
   "cell_type": "markdown",
   "id": "bda715e7-99a7-49e8-9a04-a3d6ac30f142",
   "metadata": {},
   "source": [
    "Now for some work. Look through CI data to check applications for fellowships:"
   ]
  },
  {
   "cell_type": "code",
   "execution_count": 317,
   "id": "573f1e26-5bc8-4f05-b616-7789e4f6c9a1",
   "metadata": {},
   "outputs": [
    {
     "data": {
      "text/html": [
       "<div>\n",
       "<style scoped>\n",
       "    .dataframe tbody tr th:only-of-type {\n",
       "        vertical-align: middle;\n",
       "    }\n",
       "\n",
       "    .dataframe tbody tr th {\n",
       "        vertical-align: top;\n",
       "    }\n",
       "\n",
       "    .dataframe thead th {\n",
       "        text-align: right;\n",
       "    }\n",
       "</style>\n",
       "<table border=\"1\" class=\"dataframe\">\n",
       "  <thead>\n",
       "    <tr style=\"text-align: right;\">\n",
       "      <th></th>\n",
       "      <th>researcher_ids</th>\n",
       "      <th>Program</th>\n",
       "      <th>ProjectIdentifier</th>\n",
       "      <th>Title</th>\n",
       "      <th>ContactFullName</th>\n",
       "      <th>PrimaryOrganisationName</th>\n",
       "      <th>2020_TotalPubs</th>\n",
       "      <th>LTD_TotalPubs</th>\n",
       "      <th>2020_TotalCitations</th>\n",
       "      <th>LTD_TotalCitations</th>\n",
       "      <th>h-index</th>\n",
       "    </tr>\n",
       "  </thead>\n",
       "  <tbody>\n",
       "    <tr>\n",
       "      <th>0</th>\n",
       "      <td>['ur.0731267322.21']</td>\n",
       "      <td>Career Development Fellowship - CDF</td>\n",
       "      <td>2018/CDF001</td>\n",
       "      <td>The Clincial Translation of NSW Invented Tumou...</td>\n",
       "      <td>Ricky O'Brien</td>\n",
       "      <td>The University of Sydney</td>\n",
       "      <td>NaN</td>\n",
       "      <td>NaN</td>\n",
       "      <td>NaN</td>\n",
       "      <td>NaN</td>\n",
       "      <td>NaN</td>\n",
       "    </tr>\n",
       "  </tbody>\n",
       "</table>\n",
       "</div>"
      ],
      "text/plain": [
       "         researcher_ids                              Program  \\\n",
       "0  ['ur.0731267322.21']  Career Development Fellowship - CDF   \n",
       "\n",
       "  ProjectIdentifier                                              Title  \\\n",
       "0       2018/CDF001  The Clincial Translation of NSW Invented Tumou...   \n",
       "\n",
       "  ContactFullName   PrimaryOrganisationName  2020_TotalPubs  LTD_TotalPubs  \\\n",
       "0   Ricky O'Brien  The University of Sydney             NaN            NaN   \n",
       "\n",
       "   2020_TotalCitations  LTD_TotalCitations  h-index  \n",
       "0                  NaN                 NaN      NaN  "
      ]
     },
     "execution_count": 317,
     "metadata": {},
     "output_type": "execute_result"
    }
   ],
   "source": [
    "authors = pd.read_excel(\"./Data/ci-researcher-data/Premiers_Fellowship_Dimensions_Full.xlsx\")\n",
    "authors.head(1)"
   ]
  },
  {
   "cell_type": "markdown",
   "id": "8d4c79f5-34f7-42ce-abf3-2df0c3963104",
   "metadata": {},
   "source": [
    "Dimensions expects JSON, so some cleaning is needed:"
   ]
  },
  {
   "cell_type": "code",
   "execution_count": 231,
   "id": "851f722c-9a55-48b4-be29-c6dc68e6709e",
   "metadata": {},
   "outputs": [],
   "source": [
    "authors.researcher_ids = authors.researcher_ids.str.replace(r\"\\['\", \"\")\n",
    "authors.researcher_ids = authors.researcher_ids.str.replace(r\"\\']\", \"\")\n",
    "authors.researcher_ids = authors.researcher_ids.str.replace(r\"\\'\", \" \")\n",
    "authorIDs = authors.researcher_ids.to_list()\n",
    "authorIDs = [str(x) for x in authorIDs]\n",
    "authorIDs = [x for x in authorIDs if x != 'nan']"
   ]
  },
  {
   "cell_type": "markdown",
   "id": "7c5195b4-57d9-48e7-8501-abcec4e0bb2c",
   "metadata": {},
   "source": [
    "Create a query string and then run a function to evaulate the query with each authorID"
   ]
  },
  {
   "cell_type": "code",
   "execution_count": 305,
   "id": "7903105b-54eb-4127-a146-f2700f025229",
   "metadata": {},
   "outputs": [],
   "source": [
    "queryPrefix = \"search publications where researchers.id =\"\n",
    "querySuffix = \" return publications[id+type+volume+year+issue+title+journal+authors + times_cited] limit 300\""
   ]
  },
  {
   "cell_type": "code",
   "execution_count": 306,
   "id": "7eefdeb0-3557-45cb-8f20-86b2b01dacc4",
   "metadata": {},
   "outputs": [],
   "source": [
    "def queryDimensions(researcherIDs = None):\n",
    "    noResults = []\n",
    "    dataFromAPI = []\n",
    "    for i in range(len(researcherIDs)):\n",
    "        r = dsl.query(queryPrefix + json.dumps(researcherIDs[i]) + querySuffix).as_dataframe()\n",
    "        if (r.empty):\n",
    "            noResults.append(researcherIDs[i])\n",
    "        else:\n",
    "            r['ressearcherID'] = researcherIDs[i]\n",
    "            dataFromAPI.append(r)\n",
    "   \n",
    "        dataFromAPIasSingleDataFrame = pd.concat(dataFromAPI)\n",
    "        \n",
    "    return({\"dataFromAPI\": dataFromAPIasSingleDataFrame, \"noResults\": noResults})"
   ]
  },
  {
   "cell_type": "code",
   "execution_count": 311,
   "id": "3ffb282f-fd7c-4d21-bd10-32b2a5e39ab0",
   "metadata": {},
   "outputs": [],
   "source": [
    "#results = queryDimensions(authorIDs)"
   ]
  },
  {
   "cell_type": "markdown",
   "id": "49e54d79-4b58-4d69-bbc7-929f9551fa7b",
   "metadata": {},
   "source": [
    "Results and errors  are returned: "
   ]
  },
  {
   "cell_type": "code",
   "execution_count": 316,
   "id": "5d00e9b1-f988-4e0a-aa0b-9b18a6d6a6d6",
   "metadata": {},
   "outputs": [
    {
     "data": {
      "text/plain": [
       "[' ur.01121702557.52']"
      ]
     },
     "execution_count": 316,
     "metadata": {},
     "output_type": "execute_result"
    }
   ],
   "source": [
    "results['dataFromAPI']\n",
    "results['noResults']"
   ]
  },
  {
   "cell_type": "code",
   "execution_count": null,
   "id": "e849ac18-0be3-4bec-9534-6b2585c4b5f8",
   "metadata": {},
   "outputs": [],
   "source": []
  },
  {
   "cell_type": "code",
   "execution_count": null,
   "id": "9efad1ff-1c3d-4397-86c6-4e85367a6ab3",
   "metadata": {},
   "outputs": [],
   "source": []
  }
 ],
 "metadata": {
  "kernelspec": {
   "display_name": "Python 3",
   "language": "python",
   "name": "python3"
  },
  "language_info": {
   "codemirror_mode": {
    "name": "ipython",
    "version": 3
   },
   "file_extension": ".py",
   "mimetype": "text/x-python",
   "name": "python",
   "nbconvert_exporter": "python",
   "pygments_lexer": "ipython3",
   "version": "3.9.2"
  }
 },
 "nbformat": 4,
 "nbformat_minor": 5
}
