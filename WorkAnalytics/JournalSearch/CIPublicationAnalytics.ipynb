{
 "cells": [
  {
   "cell_type": "code",
   "execution_count": 2,
   "id": "94478e39-1e01-455f-b5b6-c24ff3fe2f31",
   "metadata": {},
   "outputs": [],
   "source": [
    "# Dependencies\n",
    "\n",
    "#!pip install dimcli plotly tqdm -U --quiet\n",
    "#!pip install openpyxl -U"
   ]
  },
  {
   "cell_type": "code",
   "execution_count": 3,
   "id": "d47cda75-92c5-45b8-b56f-121b7e3ac6e8",
   "metadata": {},
   "outputs": [
    {
     "data": {
      "text/html": [
       "        <script type=\"text/javascript\">\n",
       "        window.PlotlyConfig = {MathJaxConfig: 'local'};\n",
       "        if (window.MathJax) {MathJax.Hub.Config({SVG: {font: \"STIX-Web\"}});}\n",
       "        if (typeof require !== 'undefined') {\n",
       "        require.undef(\"plotly\");\n",
       "        requirejs.config({\n",
       "            paths: {\n",
       "                'plotly': ['https://cdn.plot.ly/plotly-2.4.2.min']\n",
       "            }\n",
       "        });\n",
       "        require(['plotly'], function(Plotly) {\n",
       "            window._Plotly = Plotly;\n",
       "        });\n",
       "        }\n",
       "        </script>\n",
       "        "
      ]
     },
     "metadata": {},
     "output_type": "display_data"
    }
   ],
   "source": [
    "import numpy as np\n",
    "import sympy as sp\n",
    "import pickle\n",
    "from IPython.display import HTML\n",
    "import pandas as pd\n",
    "import itertools\n",
    "import dimcli\n",
    "import openpyxl\n",
    "from tqdm.notebook import tqdm\n",
    "import warnings\n",
    "warnings.filterwarnings(\"ignore\")\n",
    "import plotly.express as px\n",
    "from plotly.offline import init_notebook_mode\n",
    "init_notebook_mode(connected=True)\n",
    "import json\n"
   ]
  },
  {
   "cell_type": "code",
   "execution_count": 15,
   "id": "e04e92be-811f-4c48-9a2b-3472f437804c",
   "metadata": {},
   "outputs": [
    {
     "name": "stdout",
     "output_type": "stream",
     "text": [
      "\u001b[2mDimcli - Dimensions API Client (v0.9.2)\u001b[0m\n",
      "\u001b[2mConnected to: <https://app.dimensions.ai/api/dsl> - DSL v1.31\u001b[0m\n",
      "\u001b[2mMethod: manual login\u001b[0m\n"
     ]
    }
   ],
   "source": [
    "# Set up credentials and connection\n",
    "dimcli.login(key=\"F86D0EE87BF7475E95D9A47574175BC3\",\n",
    "             endpoint=\"https://app.dimensions.ai\")\n",
    "dsl = dimcli.Dsl()"
   ]
  },
  {
   "cell_type": "markdown",
   "id": "13e9546d-aecb-411e-b8cc-0e14c3094361",
   "metadata": {},
   "source": [
    "<b>Overview</b>\n",
    "\n",
    "There is support for magic functions such as:"
   ]
  },
  {
   "cell_type": "code",
   "execution_count": 16,
   "id": "fc8bb9b6-d569-4556-94b0-85eb9874064a",
   "metadata": {},
   "outputs": [
    {
     "name": "stdout",
     "output_type": "stream",
     "text": [
      "Returned Publications: 1 (total = 21)\n",
      "\u001b[2mTime: 1.09s\u001b[0m\n"
     ]
    },
    {
     "data": {
      "text/html": [
       "<div>\n",
       "<style scoped>\n",
       "    .dataframe tbody tr th:only-of-type {\n",
       "        vertical-align: middle;\n",
       "    }\n",
       "\n",
       "    .dataframe tbody tr th {\n",
       "        vertical-align: top;\n",
       "    }\n",
       "\n",
       "    .dataframe thead th {\n",
       "        text-align: right;\n",
       "    }\n",
       "</style>\n",
       "<table border=\"1\" class=\"dataframe\">\n",
       "  <thead>\n",
       "    <tr style=\"text-align: right;\">\n",
       "      <th></th>\n",
       "      <th>doi</th>\n",
       "      <th>researchers</th>\n",
       "    </tr>\n",
       "  </thead>\n",
       "  <tbody>\n",
       "    <tr>\n",
       "      <th>0</th>\n",
       "      <td>10.1007/s00216-021-03510-5</td>\n",
       "      <td>[{'id': 'ur.01124722306.57', 'research_orgs': ...</td>\n",
       "    </tr>\n",
       "  </tbody>\n",
       "</table>\n",
       "</div>"
      ],
      "text/plain": [
       "                          doi  \\\n",
       "0  10.1007/s00216-021-03510-5   \n",
       "\n",
       "                                         researchers  \n",
       "0  [{'id': 'ur.01124722306.57', 'research_orgs': ...  "
      ]
     },
     "execution_count": 16,
     "metadata": {},
     "output_type": "execute_result"
    }
   ],
   "source": [
    "%%dsldf\n",
    "\n",
    "search publications\n",
    "where researchers.id = \"ur.013514345521.07\"\n",
    "return publications[doi + researchers]\n",
    "limit 1"
   ]
  },
  {
   "cell_type": "markdown",
   "id": "fb5ec264-7a8a-4ad7-a4e2-0220f1f1c90d",
   "metadata": {},
   "source": [
    "But it is simpler to just pass the dsl connection a string that the API can deal with. Note it expects JSON when creating the query. The workflow is just to create a valid query as a string, then pass it to the API:"
   ]
  },
  {
   "cell_type": "code",
   "execution_count": 17,
   "id": "d8611bc6-f111-4ada-ad1d-89f304168f8a",
   "metadata": {},
   "outputs": [
    {
     "name": "stdout",
     "output_type": "stream",
     "text": [
      "Returned Publications: 100 (total = 115799)\n",
      "\u001b[2mTime: 1.99s\u001b[0m\n"
     ]
    },
    {
     "data": {
      "text/html": [
       "<div>\n",
       "<style scoped>\n",
       "    .dataframe tbody tr th:only-of-type {\n",
       "        vertical-align: middle;\n",
       "    }\n",
       "\n",
       "    .dataframe tbody tr th {\n",
       "        vertical-align: top;\n",
       "    }\n",
       "\n",
       "    .dataframe thead th {\n",
       "        text-align: right;\n",
       "    }\n",
       "</style>\n",
       "<table border=\"1\" class=\"dataframe\">\n",
       "  <thead>\n",
       "    <tr style=\"text-align: right;\">\n",
       "      <th></th>\n",
       "      <th>title</th>\n",
       "      <th>year</th>\n",
       "      <th>id</th>\n",
       "      <th>concepts_count</th>\n",
       "      <th>concept</th>\n",
       "      <th>score</th>\n",
       "      <th>frequency</th>\n",
       "      <th>score_avg</th>\n",
       "    </tr>\n",
       "  </thead>\n",
       "  <tbody>\n",
       "    <tr>\n",
       "      <th>0</th>\n",
       "      <td>Study of mechanochemistry of carbon nanotube u...</td>\n",
       "      <td>2019</td>\n",
       "      <td>pub.1129328198</td>\n",
       "      <td>6</td>\n",
       "      <td>study</td>\n",
       "      <td>0.088</td>\n",
       "      <td>30</td>\n",
       "      <td>0.20953</td>\n",
       "    </tr>\n",
       "  </tbody>\n",
       "</table>\n",
       "</div>"
      ],
      "text/plain": [
       "                                               title  year              id  \\\n",
       "0  Study of mechanochemistry of carbon nanotube u...  2019  pub.1129328198   \n",
       "\n",
       "   concepts_count concept  score  frequency  score_avg  \n",
       "0               6   study  0.088         30    0.20953  "
      ]
     },
     "execution_count": 17,
     "metadata": {},
     "output_type": "execute_result"
    }
   ],
   "source": [
    "q = \"\"\"search publications for \"graphene\"\n",
    "            where year=2019\n",
    "       return publications[id+title+year+concepts_scores] limit 100\"\"\"\n",
    "\n",
    "concepts = dsl.query(q).as_dataframe_concepts()\n",
    "concepts.head(1)"
   ]
  },
  {
   "cell_type": "markdown",
   "id": "33a8985b-ed35-49f6-a1f3-a6de4a9c8ea0",
   "metadata": {},
   "source": [
    "A more standard use case is create the query as different parts, so it is possible to drop in some kind of variable:"
   ]
  },
  {
   "cell_type": "code",
   "execution_count": 18,
   "id": "0ea68048-424f-436e-9316-fbc2d3ed073c",
   "metadata": {},
   "outputs": [
    {
     "name": "stdout",
     "output_type": "stream",
     "text": [
      "grid.427695.b has a total of 290 publications in Dimensions\n"
     ]
    }
   ],
   "source": [
    "GRIDID = \"grid.427695.b\"\n",
    "tot = dsl.query(f\"\"\"search publications where research_orgs.id=\"{GRIDID}\" return publications limit 1\"\"\", verbose=False).count_total\n",
    "print(f\"{GRIDID} has a total of {tot} publications in Dimensions\")"
   ]
  },
  {
   "cell_type": "markdown",
   "id": "afb18c34-b4cd-4c06-8f61-36985faa9b1f",
   "metadata": {},
   "source": [
    "It supports returning results as data frames (standard return object is JSON)"
   ]
  },
  {
   "cell_type": "code",
   "execution_count": 19,
   "id": "f7306038-f80a-4757-8497-966b5bd6c63f",
   "metadata": {},
   "outputs": [
    {
     "name": "stdout",
     "output_type": "stream",
     "text": [
      "Returned Year: 18\n",
      "\u001b[2mTime: 1.10s\u001b[0m\n"
     ]
    },
    {
     "data": {
      "text/html": [
       "<div>\n",
       "<style scoped>\n",
       "    .dataframe tbody tr th:only-of-type {\n",
       "        vertical-align: middle;\n",
       "    }\n",
       "\n",
       "    .dataframe tbody tr th {\n",
       "        vertical-align: top;\n",
       "    }\n",
       "\n",
       "    .dataframe thead th {\n",
       "        text-align: right;\n",
       "    }\n",
       "</style>\n",
       "<table border=\"1\" class=\"dataframe\">\n",
       "  <thead>\n",
       "    <tr style=\"text-align: right;\">\n",
       "      <th></th>\n",
       "      <th>year</th>\n",
       "      <th>count</th>\n",
       "    </tr>\n",
       "  </thead>\n",
       "  <tbody>\n",
       "    <tr>\n",
       "      <th>0</th>\n",
       "      <td>2014</td>\n",
       "      <td>27</td>\n",
       "    </tr>\n",
       "  </tbody>\n",
       "</table>\n",
       "</div>"
      ],
      "text/plain": [
       "   year  count\n",
       "0  2014     27"
      ]
     },
     "execution_count": 19,
     "metadata": {},
     "output_type": "execute_result"
    }
   ],
   "source": [
    "df = dsl.query(f\"\"\"search publications where research_orgs.id=\"{GRIDID}\" return year limit 100\"\"\").as_dataframe()\n",
    "df.rename(columns={\"id\": \"year\"}, inplace=True)\n",
    "df.head(1)"
   ]
  },
  {
   "cell_type": "markdown",
   "id": "e211f542-b52c-49cb-9d81-f74a7fe56abb",
   "metadata": {},
   "source": [
    "A good workflow seems to be using the query along with the data frame to get what is needed"
   ]
  },
  {
   "cell_type": "code",
   "execution_count": 20,
   "id": "93545f14-ed98-4e01-bde8-e7aa075839ca",
   "metadata": {},
   "outputs": [
    {
     "name": "stdout",
     "output_type": "stream",
     "text": [
      "Returned Publications: 290 (total = 290)\n",
      "\u001b[2mTime: 1.43s\u001b[0m\n"
     ]
    },
    {
     "data": {
      "text/html": [
       "<div>\n",
       "<style scoped>\n",
       "    .dataframe tbody tr th:only-of-type {\n",
       "        vertical-align: middle;\n",
       "    }\n",
       "\n",
       "    .dataframe tbody tr th {\n",
       "        vertical-align: top;\n",
       "    }\n",
       "\n",
       "    .dataframe thead th {\n",
       "        text-align: right;\n",
       "    }\n",
       "</style>\n",
       "<table border=\"1\" class=\"dataframe\">\n",
       "  <thead>\n",
       "    <tr style=\"text-align: right;\">\n",
       "      <th></th>\n",
       "      <th>title</th>\n",
       "      <th>doi</th>\n",
       "      <th>times_cited</th>\n",
       "      <th>journal.title</th>\n",
       "    </tr>\n",
       "  </thead>\n",
       "  <tbody>\n",
       "    <tr>\n",
       "      <th>0</th>\n",
       "      <td>Global surveillance of cancer survival 1995–20...</td>\n",
       "      <td>10.1016/s0140-6736(14)62038-9</td>\n",
       "      <td>1427</td>\n",
       "      <td>The Lancet</td>\n",
       "    </tr>\n",
       "  </tbody>\n",
       "</table>\n",
       "</div>"
      ],
      "text/plain": [
       "                                               title  \\\n",
       "0  Global surveillance of cancer survival 1995–20...   \n",
       "\n",
       "                             doi  times_cited journal.title  \n",
       "0  10.1016/s0140-6736(14)62038-9         1427    The Lancet  "
      ]
     },
     "execution_count": 20,
     "metadata": {},
     "output_type": "execute_result"
    }
   ],
   "source": [
    "data = dsl.query(f\"\"\"search publications\n",
    "                where research_orgs.id=\"{GRIDID}\"\n",
    "                return publications[doi+title+times_cited+category_for+journal]\n",
    "                sort by times_cited limit 1000\"\"\")\n",
    "df = data.as_dataframe()\n",
    "df.head(1)[['title', 'doi', 'times_cited', 'journal.title']]\n"
   ]
  },
  {
   "cell_type": "markdown",
   "id": "bda715e7-99a7-49e8-9a04-a3d6ac30f142",
   "metadata": {},
   "source": [
    "Now to get to what is needed in SRI. First import the CI data relating to fellowships:"
   ]
  },
  {
   "cell_type": "code",
   "execution_count": 21,
   "id": "573f1e26-5bc8-4f05-b616-7789e4f6c9a1",
   "metadata": {},
   "outputs": [
    {
     "data": {
      "text/html": [
       "<div>\n",
       "<style scoped>\n",
       "    .dataframe tbody tr th:only-of-type {\n",
       "        vertical-align: middle;\n",
       "    }\n",
       "\n",
       "    .dataframe tbody tr th {\n",
       "        vertical-align: top;\n",
       "    }\n",
       "\n",
       "    .dataframe thead th {\n",
       "        text-align: right;\n",
       "    }\n",
       "</style>\n",
       "<table border=\"1\" class=\"dataframe\">\n",
       "  <thead>\n",
       "    <tr style=\"text-align: right;\">\n",
       "      <th></th>\n",
       "      <th>researcher_ids</th>\n",
       "      <th>Program</th>\n",
       "      <th>ProjectIdentifier</th>\n",
       "      <th>Title</th>\n",
       "      <th>ContactFullName</th>\n",
       "      <th>PrimaryOrganisationName</th>\n",
       "      <th>2020_TotalPubs</th>\n",
       "      <th>LTD_TotalPubs</th>\n",
       "      <th>2020_TotalCitations</th>\n",
       "      <th>LTD_TotalCitations</th>\n",
       "      <th>h-index</th>\n",
       "    </tr>\n",
       "  </thead>\n",
       "  <tbody>\n",
       "    <tr>\n",
       "      <th>0</th>\n",
       "      <td>['ur.0731267322.21']</td>\n",
       "      <td>Career Development Fellowship - CDF</td>\n",
       "      <td>2018/CDF001</td>\n",
       "      <td>The Clincial Translation of NSW Invented Tumou...</td>\n",
       "      <td>Ricky O'Brien</td>\n",
       "      <td>The University of Sydney</td>\n",
       "      <td>NaN</td>\n",
       "      <td>NaN</td>\n",
       "      <td>NaN</td>\n",
       "      <td>NaN</td>\n",
       "      <td>NaN</td>\n",
       "    </tr>\n",
       "  </tbody>\n",
       "</table>\n",
       "</div>"
      ],
      "text/plain": [
       "         researcher_ids                              Program  \\\n",
       "0  ['ur.0731267322.21']  Career Development Fellowship - CDF   \n",
       "\n",
       "  ProjectIdentifier                                              Title  \\\n",
       "0       2018/CDF001  The Clincial Translation of NSW Invented Tumou...   \n",
       "\n",
       "  ContactFullName   PrimaryOrganisationName  2020_TotalPubs  LTD_TotalPubs  \\\n",
       "0   Ricky O'Brien  The University of Sydney             NaN            NaN   \n",
       "\n",
       "   2020_TotalCitations  LTD_TotalCitations  h-index  \n",
       "0                  NaN                 NaN      NaN  "
      ]
     },
     "execution_count": 21,
     "metadata": {},
     "output_type": "execute_result"
    }
   ],
   "source": [
    "authors = pd.read_excel(\"./Data/ci-researcher-data/Premiers_Fellowship_Dimensions_Full.xlsx\")\n",
    "authors.head(1)"
   ]
  },
  {
   "cell_type": "markdown",
   "id": "8d4c79f5-34f7-42ce-abf3-2df0c3963104",
   "metadata": {},
   "source": [
    "Dimensions expects JSON, so some cleaning is needed:"
   ]
  },
  {
   "cell_type": "code",
   "execution_count": 11,
   "id": "851f722c-9a55-48b4-be29-c6dc68e6709e",
   "metadata": {},
   "outputs": [],
   "source": [
    "authors.researcher_ids = authors.researcher_ids.str.replace(r\"\\['\", \"\")\n",
    "authors.researcher_ids = authors.researcher_ids.str.replace(r\"\\']\", \"\")\n",
    "authors.researcher_ids = authors.researcher_ids.str.replace(r\"\\'\", \" \")\n",
    "authorIDs = authors.researcher_ids.to_list()\n",
    "authorIDs = [str(x) for x in authorIDs]\n",
    "authorIDs = [x for x in authorIDs if x != 'nan']"
   ]
  },
  {
   "cell_type": "markdown",
   "id": "7c5195b4-57d9-48e7-8501-abcec4e0bb2c",
   "metadata": {},
   "source": [
    "Create a query prefix and suffix string and then run a function to evaulate the query with each authorID"
   ]
  },
  {
   "cell_type": "code",
   "execution_count": 38,
   "id": "7903105b-54eb-4127-a146-f2700f025229",
   "metadata": {},
   "outputs": [],
   "source": [
    "queryPrefix = \"search publications where researchers.id =\"\n",
    "querySuffix = \" return publications[id+type+volume+year+issue+title+journal+ times_cited] limit 1000\""
   ]
  },
  {
   "cell_type": "markdown",
   "id": "c9e829b5-2f82-499b-8398-b65d97fa78d3",
   "metadata": {},
   "source": [
    "Single query: "
   ]
  },
  {
   "cell_type": "code",
   "execution_count": 39,
   "id": "129cedbf-8497-497f-9781-e253de6945a9",
   "metadata": {},
   "outputs": [
    {
     "name": "stdout",
     "output_type": "stream",
     "text": [
      "Returned Publications: 0\n",
      "\u001b[2mTime: 1.09s\u001b[0m\n"
     ]
    }
   ],
   "source": [
    "r = dsl.query(queryPrefix + json.dumps(\"ur.015600604603.79\") + querySuffix).as_dataframe()"
   ]
  },
  {
   "cell_type": "markdown",
   "id": "27b78206-fa6e-47d1-9cf2-8ce6e8992d4c",
   "metadata": {},
   "source": [
    "And a function that takes the query. "
   ]
  },
  {
   "cell_type": "code",
   "execution_count": 40,
   "id": "7eefdeb0-3557-45cb-8f20-86b2b01dacc4",
   "metadata": {},
   "outputs": [],
   "source": [
    "def queryDimensions(researcherIDs = None):\n",
    "    noResults = []\n",
    "    dataFromAPI = []\n",
    "    for i in range(len(researcherIDs)):\n",
    "        r = dsl.query(queryPrefix + json.dumps(researcherIDs[i]) + querySuffix).as_dataframe()\n",
    "        if (r.empty):\n",
    "            noResults.append(researcherIDs[i])\n",
    "        else:\n",
    "            r['researcherID'] = researcherIDs[i]\n",
    "            dataFromAPI.append(r)\n",
    "   \n",
    "        dataFromAPIasSingleDataFrame = pd.concat(dataFromAPI)\n",
    "        \n",
    "    return({\"dataFromAPI\": dataFromAPIasSingleDataFrame, \"noResults\": noResults})"
   ]
  },
  {
   "cell_type": "code",
   "execution_count": 41,
   "id": "3ffb282f-fd7c-4d21-bd10-32b2a5e39ab0",
   "metadata": {},
   "outputs": [
    {
     "name": "stdout",
     "output_type": "stream",
     "text": [
      "Returned Publications: 114 (total = 114)\n",
      "\u001b[2mTime: 1.20s\u001b[0m\n",
      "Returned Publications: 52 (total = 52)\n",
      "\u001b[2mTime: 1.11s\u001b[0m\n",
      "Returned Publications: 0\n",
      "\u001b[2mTime: 1.10s\u001b[0m\n",
      "Returned Publications: 82 (total = 82)\n",
      "\u001b[2mTime: 1.20s\u001b[0m\n",
      "Returned Publications: 98 (total = 98)\n",
      "\u001b[2mTime: 1.23s\u001b[0m\n",
      "Returned Publications: 94 (total = 94)\n",
      "\u001b[2mTime: 1.19s\u001b[0m\n",
      "Returned Publications: 93 (total = 93)\n",
      "\u001b[2mTime: 1.15s\u001b[0m\n",
      "Returned Publications: 38 (total = 38)\n",
      "\u001b[2mTime: 1.11s\u001b[0m\n",
      "Returned Publications: 94 (total = 94)\n",
      "\u001b[2mTime: 1.14s\u001b[0m\n",
      "Returned Publications: 57 (total = 57)\n",
      "\u001b[2mTime: 1.12s\u001b[0m\n",
      "Returned Publications: 79 (total = 79)\n",
      "\u001b[2mTime: 1.11s\u001b[0m\n",
      "Returned Publications: 32 (total = 32)\n",
      "\u001b[2mTime: 1.10s\u001b[0m\n",
      "Returned Publications: 57 (total = 57)\n",
      "\u001b[2mTime: 1.17s\u001b[0m\n",
      "Returned Publications: 38 (total = 38)\n",
      "\u001b[2mTime: 1.14s\u001b[0m\n",
      "Returned Publications: 28 (total = 28)\n",
      "\u001b[2mTime: 1.10s\u001b[0m\n",
      "Returned Publications: 77 (total = 77)\n",
      "\u001b[2mTime: 1.13s\u001b[0m\n",
      "Returned Publications: 45 (total = 45)\n",
      "\u001b[2mTime: 1.13s\u001b[0m\n",
      "Returned Publications: 63 (total = 63)\n",
      "\u001b[2mTime: 1.12s\u001b[0m\n",
      "Returned Publications: 39 (total = 39)\n",
      "\u001b[2mTime: 1.10s\u001b[0m\n",
      "Returned Publications: 49 (total = 49)\n",
      "\u001b[2mTime: 1.13s\u001b[0m\n",
      "Returned Publications: 56 (total = 56)\n",
      "\u001b[2mTime: 1.06s\u001b[0m\n",
      "Returned Publications: 38 (total = 38)\n",
      "\u001b[2mTime: 1.06s\u001b[0m\n",
      "Returned Publications: 26 (total = 26)\n",
      "\u001b[2mTime: 1.12s\u001b[0m\n",
      "Returned Publications: 8 (total = 8)\n",
      "\u001b[2mTime: 1.10s\u001b[0m\n",
      "Returned Publications: 0\n",
      "\u001b[2mTime: 1.19s\u001b[0m\n",
      "Returned Publications: 2 (total = 2)\n",
      "\u001b[2mTime: 1.07s\u001b[0m\n",
      "Returned Publications: 313 (total = 313)\n",
      "\u001b[2mTime: 1.50s\u001b[0m\n",
      "Returned Publications: 32 (total = 32)\n",
      "\u001b[2mTime: 1.13s\u001b[0m\n",
      "Returned Publications: 16 (total = 16)\n",
      "\u001b[2mTime: 1.11s\u001b[0m\n",
      "Returned Publications: 44 (total = 44)\n",
      "\u001b[2mTime: 1.09s\u001b[0m\n",
      "Returned Publications: 36 (total = 36)\n",
      "\u001b[2mTime: 1.15s\u001b[0m\n",
      "Returned Publications: 43 (total = 43)\n",
      "\u001b[2mTime: 1.10s\u001b[0m\n",
      "Returned Publications: 57 (total = 57)\n",
      "\u001b[2mTime: 1.10s\u001b[0m\n",
      "Returned Publications: 33 (total = 33)\n",
      "\u001b[2mTime: 1.18s\u001b[0m\n",
      "Returned Publications: 38 (total = 38)\n",
      "\u001b[2mTime: 1.13s\u001b[0m\n",
      "Returned Publications: 31 (total = 31)\n",
      "\u001b[2mTime: 1.12s\u001b[0m\n",
      "Returned Publications: 66 (total = 66)\n",
      "\u001b[2mTime: 1.11s\u001b[0m\n",
      "Returned Publications: 75 (total = 75)\n",
      "\u001b[2mTime: 1.13s\u001b[0m\n",
      "Returned Publications: 15 (total = 15)\n",
      "\u001b[2mTime: 1.14s\u001b[0m\n",
      "Returned Publications: 22 (total = 22)\n",
      "\u001b[2mTime: 1.18s\u001b[0m\n",
      "Returned Publications: 38 (total = 38)\n",
      "\u001b[2mTime: 1.11s\u001b[0m\n",
      "Returned Publications: 17 (total = 17)\n",
      "\u001b[2mTime: 1.07s\u001b[0m\n",
      "Returned Publications: 27 (total = 27)\n",
      "\u001b[2mTime: 1.09s\u001b[0m\n",
      "Returned Publications: 49 (total = 49)\n",
      "\u001b[2mTime: 1.14s\u001b[0m\n",
      "Returned Publications: 31 (total = 31)\n",
      "\u001b[2mTime: 1.16s\u001b[0m\n",
      "Returned Publications: 44 (total = 44)\n",
      "\u001b[2mTime: 1.12s\u001b[0m\n",
      "Returned Publications: 16 (total = 16)\n",
      "\u001b[2mTime: 1.14s\u001b[0m\n",
      "Returned Publications: 33 (total = 33)\n",
      "\u001b[2mTime: 1.11s\u001b[0m\n",
      "Returned Publications: 17 (total = 17)\n",
      "\u001b[2mTime: 1.09s\u001b[0m\n",
      "Returned Publications: 33 (total = 33)\n",
      "\u001b[2mTime: 1.14s\u001b[0m\n",
      "Returned Publications: 49 (total = 49)\n",
      "\u001b[2mTime: 1.08s\u001b[0m\n",
      "Returned Publications: 30 (total = 30)\n",
      "\u001b[2mTime: 1.09s\u001b[0m\n",
      "Returned Publications: 12 (total = 12)\n",
      "\u001b[2mTime: 1.14s\u001b[0m\n",
      "Returned Publications: 59 (total = 59)\n",
      "\u001b[2mTime: 1.08s\u001b[0m\n",
      "Returned Publications: 38 (total = 38)\n",
      "\u001b[2mTime: 1.09s\u001b[0m\n",
      "Returned Publications: 58 (total = 58)\n",
      "\u001b[2mTime: 1.09s\u001b[0m\n"
     ]
    }
   ],
   "source": [
    "results = queryDimensions(authorIDs)"
   ]
  },
  {
   "cell_type": "markdown",
   "id": "49e54d79-4b58-4d69-bbc7-929f9551fa7b",
   "metadata": {},
   "source": [
    "Results and errors  are returned: "
   ]
  },
  {
   "cell_type": "code",
   "execution_count": 41,
   "id": "5d00e9b1-f988-4e0a-aa0b-9b18a6d6a6d6",
   "metadata": {},
   "outputs": [
    {
     "data": {
      "text/plain": [
       "['ur.015600604603.79', ' ur.01121702557.52']"
      ]
     },
     "execution_count": 41,
     "metadata": {},
     "output_type": "execute_result"
    }
   ],
   "source": [
    "results['dataFromAPI']\n",
    "results['noResults']"
   ]
  },
  {
   "cell_type": "code",
   "execution_count": 24,
   "id": "e849ac18-0be3-4bec-9534-6b2585c4b5f8",
   "metadata": {},
   "outputs": [
    {
     "data": {
      "text/html": [
       "<div>\n",
       "<style scoped>\n",
       "    .dataframe tbody tr th:only-of-type {\n",
       "        vertical-align: middle;\n",
       "    }\n",
       "\n",
       "    .dataframe tbody tr th {\n",
       "        vertical-align: top;\n",
       "    }\n",
       "\n",
       "    .dataframe thead th {\n",
       "        text-align: right;\n",
       "    }\n",
       "</style>\n",
       "<table border=\"1\" class=\"dataframe\">\n",
       "  <thead>\n",
       "    <tr style=\"text-align: right;\">\n",
       "      <th></th>\n",
       "      <th>id</th>\n",
       "      <th>title</th>\n",
       "      <th>type</th>\n",
       "      <th>year</th>\n",
       "      <th>times_cited</th>\n",
       "      <th>journal.id</th>\n",
       "      <th>journal.title</th>\n",
       "      <th>volume</th>\n",
       "      <th>issue</th>\n",
       "      <th>researcherID</th>\n",
       "    </tr>\n",
       "  </thead>\n",
       "  <tbody>\n",
       "    <tr>\n",
       "      <th>0</th>\n",
       "      <td>pub.1138524385</td>\n",
       "      <td>A real-time IGRT method using a Kalman filter ...</td>\n",
       "      <td>article</td>\n",
       "      <td>2021</td>\n",
       "      <td>0</td>\n",
       "      <td>jour.1018310</td>\n",
       "      <td>Physics in Medicine and Biology</td>\n",
       "      <td>NaN</td>\n",
       "      <td>NaN</td>\n",
       "      <td>ur.0731267322.21</td>\n",
       "    </tr>\n",
       "    <tr>\n",
       "      <th>1</th>\n",
       "      <td>pub.1138392446</td>\n",
       "      <td>The first-in-human implementation of adaptive ...</td>\n",
       "      <td>article</td>\n",
       "      <td>2021</td>\n",
       "      <td>0</td>\n",
       "      <td>jour.1094728</td>\n",
       "      <td>Radiotherapy and Oncology</td>\n",
       "      <td>161</td>\n",
       "      <td>NaN</td>\n",
       "      <td>ur.0731267322.21</td>\n",
       "    </tr>\n",
       "    <tr>\n",
       "      <th>2</th>\n",
       "      <td>pub.1137351609</td>\n",
       "      <td>The adaptation and investigation of cone-beam ...</td>\n",
       "      <td>article</td>\n",
       "      <td>2021</td>\n",
       "      <td>0</td>\n",
       "      <td>jour.1018310</td>\n",
       "      <td>Physics in Medicine and Biology</td>\n",
       "      <td>66</td>\n",
       "      <td>10</td>\n",
       "      <td>ur.0731267322.21</td>\n",
       "    </tr>\n",
       "    <tr>\n",
       "      <th>3</th>\n",
       "      <td>pub.1137857401</td>\n",
       "      <td>First experimental evaluation of multi-target ...</td>\n",
       "      <td>article</td>\n",
       "      <td>2021</td>\n",
       "      <td>0</td>\n",
       "      <td>jour.1094728</td>\n",
       "      <td>Radiotherapy and Oncology</td>\n",
       "      <td>160</td>\n",
       "      <td>NaN</td>\n",
       "      <td>ur.0731267322.21</td>\n",
       "    </tr>\n",
       "    <tr>\n",
       "      <th>4</th>\n",
       "      <td>pub.1137716857</td>\n",
       "      <td>Study protocol of the LARK (TROG 17.03) clinic...</td>\n",
       "      <td>article</td>\n",
       "      <td>2021</td>\n",
       "      <td>1</td>\n",
       "      <td>jour.1024632</td>\n",
       "      <td>BMC Cancer</td>\n",
       "      <td>21</td>\n",
       "      <td>1</td>\n",
       "      <td>ur.0731267322.21</td>\n",
       "    </tr>\n",
       "    <tr>\n",
       "      <th>...</th>\n",
       "      <td>...</td>\n",
       "      <td>...</td>\n",
       "      <td>...</td>\n",
       "      <td>...</td>\n",
       "      <td>...</td>\n",
       "      <td>...</td>\n",
       "      <td>...</td>\n",
       "      <td>...</td>\n",
       "      <td>...</td>\n",
       "      <td>...</td>\n",
       "    </tr>\n",
       "    <tr>\n",
       "      <th>53</th>\n",
       "      <td>pub.1006528517</td>\n",
       "      <td>Electrode-Skin contact impedance: In vivo meas...</td>\n",
       "      <td>article</td>\n",
       "      <td>2013</td>\n",
       "      <td>6</td>\n",
       "      <td>jour.1043366</td>\n",
       "      <td>Journal of Physics Conference Series</td>\n",
       "      <td>434</td>\n",
       "      <td>1</td>\n",
       "      <td>ur.01143543411.00</td>\n",
       "    </tr>\n",
       "    <tr>\n",
       "      <th>54</th>\n",
       "      <td>pub.1014893136</td>\n",
       "      <td>Pulmonary Embolism Detection with Electrical I...</td>\n",
       "      <td>article</td>\n",
       "      <td>2013</td>\n",
       "      <td>2</td>\n",
       "      <td>jour.1023705</td>\n",
       "      <td>Heart Lung and Circulation</td>\n",
       "      <td>22</td>\n",
       "      <td>NaN</td>\n",
       "      <td>ur.01143543411.00</td>\n",
       "    </tr>\n",
       "    <tr>\n",
       "      <th>55</th>\n",
       "      <td>pub.1027607605</td>\n",
       "      <td>A Computer Simulation Study on the Applicabili...</td>\n",
       "      <td>chapter</td>\n",
       "      <td>2013</td>\n",
       "      <td>0</td>\n",
       "      <td>NaN</td>\n",
       "      <td>NaN</td>\n",
       "      <td>39</td>\n",
       "      <td>NaN</td>\n",
       "      <td>ur.01143543411.00</td>\n",
       "    </tr>\n",
       "    <tr>\n",
       "      <th>56</th>\n",
       "      <td>pub.1056753649</td>\n",
       "      <td>Active electrode design suitable for simultane...</td>\n",
       "      <td>article</td>\n",
       "      <td>2012</td>\n",
       "      <td>7</td>\n",
       "      <td>jour.1126662</td>\n",
       "      <td>Electronics Letters</td>\n",
       "      <td>48</td>\n",
       "      <td>25</td>\n",
       "      <td>ur.01143543411.00</td>\n",
       "    </tr>\n",
       "    <tr>\n",
       "      <th>57</th>\n",
       "      <td>pub.1059123893</td>\n",
       "      <td>A review on electrical impedance tomography fo...</td>\n",
       "      <td>article</td>\n",
       "      <td>2012</td>\n",
       "      <td>79</td>\n",
       "      <td>jour.1093219</td>\n",
       "      <td>Physiological Measurement</td>\n",
       "      <td>33</td>\n",
       "      <td>5</td>\n",
       "      <td>ur.01143543411.00</td>\n",
       "    </tr>\n",
       "  </tbody>\n",
       "</table>\n",
       "<p>2718 rows × 10 columns</p>\n",
       "</div>"
      ],
      "text/plain": [
       "                id                                              title  \\\n",
       "0   pub.1138524385  A real-time IGRT method using a Kalman filter ...   \n",
       "1   pub.1138392446  The first-in-human implementation of adaptive ...   \n",
       "2   pub.1137351609  The adaptation and investigation of cone-beam ...   \n",
       "3   pub.1137857401  First experimental evaluation of multi-target ...   \n",
       "4   pub.1137716857  Study protocol of the LARK (TROG 17.03) clinic...   \n",
       "..             ...                                                ...   \n",
       "53  pub.1006528517  Electrode-Skin contact impedance: In vivo meas...   \n",
       "54  pub.1014893136  Pulmonary Embolism Detection with Electrical I...   \n",
       "55  pub.1027607605  A Computer Simulation Study on the Applicabili...   \n",
       "56  pub.1056753649  Active electrode design suitable for simultane...   \n",
       "57  pub.1059123893  A review on electrical impedance tomography fo...   \n",
       "\n",
       "       type  year  times_cited    journal.id  \\\n",
       "0   article  2021            0  jour.1018310   \n",
       "1   article  2021            0  jour.1094728   \n",
       "2   article  2021            0  jour.1018310   \n",
       "3   article  2021            0  jour.1094728   \n",
       "4   article  2021            1  jour.1024632   \n",
       "..      ...   ...          ...           ...   \n",
       "53  article  2013            6  jour.1043366   \n",
       "54  article  2013            2  jour.1023705   \n",
       "55  chapter  2013            0           NaN   \n",
       "56  article  2012            7  jour.1126662   \n",
       "57  article  2012           79  jour.1093219   \n",
       "\n",
       "                           journal.title volume issue       researcherID  \n",
       "0        Physics in Medicine and Biology    NaN   NaN   ur.0731267322.21  \n",
       "1              Radiotherapy and Oncology    161   NaN   ur.0731267322.21  \n",
       "2        Physics in Medicine and Biology     66    10   ur.0731267322.21  \n",
       "3              Radiotherapy and Oncology    160   NaN   ur.0731267322.21  \n",
       "4                             BMC Cancer     21     1   ur.0731267322.21  \n",
       "..                                   ...    ...   ...                ...  \n",
       "53  Journal of Physics Conference Series    434     1  ur.01143543411.00  \n",
       "54            Heart Lung and Circulation     22   NaN  ur.01143543411.00  \n",
       "55                                   NaN     39   NaN  ur.01143543411.00  \n",
       "56                   Electronics Letters     48    25  ur.01143543411.00  \n",
       "57             Physiological Measurement     33     5  ur.01143543411.00  \n",
       "\n",
       "[2718 rows x 10 columns]"
      ]
     },
     "execution_count": 24,
     "metadata": {},
     "output_type": "execute_result"
    }
   ],
   "source": [
    "results['dataFromAPI']"
   ]
  },
  {
   "cell_type": "code",
   "execution_count": null,
   "id": "9efad1ff-1c3d-4397-86c6-4e85367a6ab3",
   "metadata": {},
   "outputs": [],
   "source": []
  },
  {
   "cell_type": "code",
   "execution_count": 44,
   "id": "704859b9-7483-4984-84d8-04f868fa5147",
   "metadata": {},
   "outputs": [],
   "source": [
    "x.to_csv(\"data.csv\")"
   ]
  },
  {
   "cell_type": "code",
   "execution_count": null,
   "id": "6f9654a9-a9fc-47ad-9116-3f9b00216941",
   "metadata": {},
   "outputs": [],
   "source": []
  }
 ],
 "metadata": {
  "kernelspec": {
   "display_name": "Python 3",
   "language": "python",
   "name": "python3"
  },
  "language_info": {
   "codemirror_mode": {
    "name": "ipython",
    "version": 3
   },
   "file_extension": ".py",
   "mimetype": "text/x-python",
   "name": "python",
   "nbconvert_exporter": "python",
   "pygments_lexer": "ipython3",
   "version": "3.9.2"
  }
 },
 "nbformat": 4,
 "nbformat_minor": 5
}
