{
 "cells": [
  {
   "cell_type": "markdown",
   "id": "cd785232-2f3d-43dc-94af-0076a1ab2517",
   "metadata": {},
   "source": [
    "<hr/>\n",
    "\n",
    "<b>Notebook Summary</b>\n",
    "\n",
    "These notes are based on Prof. Norman Wildberger's lectures on Dynamics on Graphs which can be found <a href=\"https://www.youtube.com/c/WildEggmathematicscourses/featured\">here</a>. \n",
    "    \n",
    "They notes are are being hosted at my website <a href=\"https://www.ladatavita.com/\">ladatavita.com</a> and the Jupyter notebook is also available from my Github repo at: <a href=\"https://github.com/jgab3103/Jamie-Gabriel/tree/main/MathNotebooks\">https://github.com/jgab3103/Jamie-Gabriel/tree/main/MathNotebooks</a>\n",
    "\n",
    "The purpose of this notebook is a continuation where we left off in the previous notebook ES2, which compared the root populations of ADE graphs and ADE~ graph. \n",
    "\n",
    "This notebook will continue the investigation.... \n",
    "\n",
    "<hr/>"
   ]
  },
  {
   "cell_type": "code",
   "execution_count": 1,
   "id": "8f5dc6a8-8a04-42ed-b738-229121afe4e6",
   "metadata": {},
   "outputs": [],
   "source": [
    "import pyvis.network as nt\n",
    "import numpy as np\n",
    "import sympy as sp\n",
    "from IPython.display import HTML\n",
    "import ipywidgets as widgets\n",
    "import matplotlib as mpl\n",
    "from mpl_toolkits.mplot3d import Axes3D\n",
    "import matplotlib.pyplot as plt\n",
    "mpl.rcParams['legend.fontsize'] = 10\n",
    "import pandas as pd\n",
    "import networkx as nx\n",
    "import string\n",
    "import random"
   ]
  },
  {
   "cell_type": "markdown",
   "id": "225bb730-b3ad-48ca-88d8-fa7af69f1764",
   "metadata": {},
   "source": [
    "<hr/>\n",
    "\n",
    "<b>Aim</b>: Again, we introduce some functions from previous notebooks and add a new visualisation and function to introduce stable populations\n",
    "\n",
    "<hr/>"
   ]
  },
  {
   "cell_type": "markdown",
   "id": "99459852-1277-49fa-bb4f-0887724714e1",
   "metadata": {},
   "source": [
    "<b>Let</b> $F1$ is a function that, given a list of edges will create a graph and randomly initialise a singleton population. \n",
    "\n",
    "<b>Let</b> $F2$ is a function that, given a list of edges and poopuations, will create a graph with the given population. \n",
    "\n",
    "<b>Let</b> $F3$ is a visualisation function that will render a graph with its population with label position offset\n",
    "\n",
    "<b>Let</b> $F4$ is a function that, given a graph and node choice, will apply the $ps_x$ function to a single vertice\n",
    "\n",
    "<b>Let</b> $F5$ is a function that will apply the $ps_x$ function to each node in succession over a chosen number of iterations"
   ]
  },
  {
   "cell_type": "code",
   "execution_count": 2,
   "id": "1d5b56ad-0082-4b4b-9a13-8ca7ad40a16c",
   "metadata": {},
   "outputs": [],
   "source": [
    "def F1(edges=None):\n",
    "    \n",
    "    verticeLabels = list(set([item for sublist in edges for item in sublist]))\n",
    "    randomNumberToIntialiseSingletonPopulation = random.randint(0, len(verticeLabels) - 1)\n",
    "\n",
    "    vertices = [(verticeLabels[i], {\"population\": 0}) for i in range(len(verticeLabels))]\n",
    "    graph = nx.Graph()\n",
    "    graph.add_nodes_from(vertices)\n",
    "    graph.add_edges_from(edges)\n",
    "    \n",
    "    graph.nodes[verticeLabels[randomNumberToIntialiseSingletonPopulation]]['population'] = 1\n",
    "    \n",
    "    return(graph)\n",
    "\n",
    "def F2(edges=None, population = None):\n",
    "    \n",
    "    verticesFoundInEdges = len(list(set([item for sublist in edges for item in sublist])))\n",
    "\n",
    "    vertices = list(string.ascii_lowercase[0:verticesFoundInEdges])\n",
    "    \n",
    "    verticesWithPopulations = [(vertices[i], {\"population\": population[i]}) for i in range(len(vertices))]\n",
    "\n",
    "    graph = nx.Graph()\n",
    "    graph.add_nodes_from(verticesWithPopulations)\n",
    "    graph.add_edges_from(edges)\n",
    "    \n",
    "\n",
    "    return(graph)\n",
    "        \n",
    "    \n",
    "    \n",
    "def F3(graph):\n",
    "    x = {}\n",
    "    pos = nx.spring_layout(graph)\n",
    "    labels = nx.get_node_attributes(graph, 'population') \n",
    "    for i in labels:\n",
    "        x[i] = \"id=\" + str(i) +\" \\npop=\" + str(labels[i])\n",
    "     # change margins if you adding    \n",
    "    #plt.margins(x=0.2, y = 0.2) horizontalalignment='left'\n",
    "    nx.draw(graph, pos, edge_color = \"steelblue\", node_color = \"white\")\n",
    "    nx.draw_networkx_labels(graph, pos,  labels = x, font_size=10)"
   ]
  },
  {
   "cell_type": "code",
   "execution_count": 3,
   "id": "3dab94f7-ffbf-400c-a535-e672780c2118",
   "metadata": {},
   "outputs": [],
   "source": [
    "def F4(graph = None, nodeChoice = None, printSummary = True, \n",
    "       returnUpdatedGraph = False, \n",
    "       returnListOfPopulations = False,\n",
    "      returnAllAsDict = False):\n",
    "   \n",
    "    edgesOfChosenNode = list(nx.edges(graph, [nodeChoice]))\n",
    "   \n",
    "    neigborOfChosenNode = [edgesOfChosenNode[i][1] for i in range(len(list(edgesOfChosenNode)))]\n",
    "    nodeChoicePopulation = graph.nodes[nodeChoice]['population']\n",
    "    sumOfNeighborsOfChosenNode = np.sum([graph.nodes[i]['population'] for i in neigborOfChosenNode])\n",
    "    populationOfNode = -nodeChoicePopulation + sumOfNeighborsOfChosenNode\n",
    "    updatedGraph = graph.copy()\n",
    "    updatedGraph.nodes[nodeChoice]['population'] = populationOfNode\n",
    "\n",
    "    newPopulations = [updatedGraph.nodes[i]['population'] for i in list(updatedGraph)]\n",
    "    if printSummary:\n",
    "        print(\"Node choice\", \n",
    "              nodeChoice,\n",
    "              \"\\nNode details\",\n",
    "              nx.nodes(graph)[nodeChoice],\n",
    "              \"\\nChange in node population \",\n",
    "              nx.nodes(graph)[nodeChoice]['population'], \n",
    "              \"->\", \n",
    "              populationOfNode)\n",
    "        print(\"Updated node populations of graph: \", newPopulations, \"\\n\")\n",
    "\n",
    "    if returnUpdatedGraph: \n",
    "        return(updatedGraph)\n",
    "    \n",
    "    if returnListOfPopulations:\n",
    "        return(np.array(newPopulations))\n",
    "    \n",
    "    if returnAllAsDict:\n",
    "        return({\"graph\": updatedGraph,\n",
    "               \"population\": np.array(newPopulations)})\n",
    "    \n",
    "def F5(graphChoice=None, vertices = [], iterations=5, returnPopulations = True, iterateThroughAllVertices = True):\n",
    "    listOfAllPopulations = []\n",
    "    graph = graphChoice\n",
    "    \n",
    "    if iterateThroughAllVertices:\n",
    "        vertices = graph.nodes\n",
    "    \n",
    "    for i in range(iterations):\n",
    "        for j in vertices:\n",
    "            udpatedGraphAndPopulation = F4(graph, j, returnAllAsDict=True, printSummary = False)\n",
    "            graph = udpatedGraphAndPopulation['graph']\n",
    "            population = udpatedGraphAndPopulation['population']\n",
    "            listOfAllPopulations.append(population)\n",
    "            \n",
    "    print(\"Number of unique populations: \", len(list(set([tuple(i) for i in [list(i) for i in listOfAllPopulations]]))))\n",
    "    if returnPopulations:\n",
    "        setOfAllPopulations = list(set([tuple(i) for i in [list(i) for i in listOfAllPopulations]]))\n",
    "        return({\"iterations\":iterations,\n",
    "               \"populationAsSetCount\":len(setOfAllPopulations),\n",
    "                \"populationAsListCount\":len(listOfAllPopulations),\n",
    "               \"populationsAsSet\": setOfAllPopulations,\n",
    "               \"populationsAsList\": listOfAllPopulations})"
   ]
  },
  {
   "cell_type": "markdown",
   "id": "547476f0-01f7-4b71-869a-7c27c0422ceb",
   "metadata": {},
   "source": [
    "<b>Observe</b> that we can test each of the functions with an example\n",
    "\n",
    "<b>Let</b> $F6$ be a $D4 \\text{~}$ graph"
   ]
  },
  {
   "cell_type": "code",
   "execution_count": 4,
   "id": "e3e2d0c2-ccc7-45cb-9a5e-75c2ab477cba",
   "metadata": {},
   "outputs": [
    {
     "data": {
      "image/png": "[encoded data removed]",
      "text/plain": [
       "<Figure size 432x288 with 1 Axes>"
      ]
     },
     "metadata": {},
     "output_type": "display_data"
    }
   ],
   "source": [
    "F6= F2(edges=[(\"a\",\"b\"),(\"b\",\"c\"),(\"b\",\"d\"),(\"d\",\"e\"),(\"e\",\"f\"),(\"f\",\"g\"), (\"f\",\"h\")], \n",
    "       population=[0,1,0,0,0, 0, 0, 0,])\n",
    "F3(F6)"
   ]
  },
  {
   "cell_type": "code",
   "execution_count": 5,
   "id": "606cb075-1c5e-41c8-8dde-53fde14a40e5",
   "metadata": {},
   "outputs": [
    {
     "name": "stdout",
     "output_type": "stream",
     "text": [
      "Node choice c \n",
      "Node details {'population': 0} \n",
      "Change in node population  0 -> 1\n",
      "Updated node populations of graph:  [0, 1, 1, 0, 0, 0, 0, 0] \n",
      "\n",
      "Node choice a \n",
      "Node details {'population': 0} \n",
      "Change in node population  0 -> 1\n",
      "Updated node populations of graph:  [1, 1, 1, 0, 0, 0, 0, 0] \n",
      "\n",
      "Node choice d \n",
      "Node details {'population': 0} \n",
      "Change in node population  0 -> 1\n",
      "Updated node populations of graph:  [1, 1, 1, 1, 0, 0, 0, 0] \n",
      "\n",
      "Node choice e \n",
      "Node details {'population': 0} \n",
      "Change in node population  0 -> 1\n",
      "Updated node populations of graph:  [1, 1, 1, 1, 1, 0, 0, 0] \n",
      "\n",
      "Node choice f \n",
      "Node details {'population': 0} \n",
      "Change in node population  0 -> 1\n",
      "Updated node populations of graph:  [1, 1, 1, 1, 1, 1, 0, 0] \n",
      "\n",
      "Node choice h \n",
      "Node details {'population': 0} \n",
      "Change in node population  0 -> 1\n",
      "Updated node populations of graph:  [1, 1, 1, 1, 1, 1, 0, 1] \n",
      "\n",
      "Node choice g \n",
      "Node details {'population': 0} \n",
      "Change in node population  0 -> 1\n",
      "Updated node populations of graph:  [1, 1, 1, 1, 1, 1, 1, 1] \n",
      "\n",
      "Node choice f \n",
      "Node details {'population': 1} \n",
      "Change in node population  1 -> 2\n",
      "Updated node populations of graph:  [1, 1, 1, 1, 1, 2, 1, 1] \n",
      "\n",
      "Node choice e \n",
      "Node details {'population': 1} \n",
      "Change in node population  1 -> 2\n",
      "Updated node populations of graph:  [1, 1, 1, 1, 2, 2, 1, 1] \n",
      "\n",
      "Node choice d \n",
      "Node details {'population': 1} \n",
      "Change in node population  1 -> 2\n",
      "Updated node populations of graph:  [1, 1, 1, 2, 2, 2, 1, 1] \n",
      "\n"
     ]
    }
   ],
   "source": [
    "F7 = F4(graph = F6, nodeChoice = 'c', printSummary = True, \n",
    "       returnUpdatedGraph = True)\n",
    "\n",
    "F8 = F4(graph = F7, nodeChoice = 'a', printSummary = True, \n",
    "       returnUpdatedGraph = True)\n",
    "\n",
    "F9 = F4(graph = F8, nodeChoice = 'd', printSummary = True, \n",
    "       returnUpdatedGraph = True)\n",
    "\n",
    "F10 = F4(graph = F9, nodeChoice = 'e', printSummary = True, \n",
    "       returnUpdatedGraph = True)\n",
    "\n",
    "F10 = F4(graph = F10, nodeChoice = 'f', printSummary = True, \n",
    "       returnUpdatedGraph = True)\n",
    "\n",
    "F11 = F4(graph = F10, nodeChoice = 'h', printSummary = True, \n",
    "       returnUpdatedGraph = True)\n",
    "\n",
    "F12 = F4(graph = F11, nodeChoice = 'g', printSummary = True, \n",
    "       returnUpdatedGraph = True)\n",
    "\n",
    "F13 = F4(graph = F12, nodeChoice = 'f', printSummary = True, \n",
    "       returnUpdatedGraph = True)\n",
    "\n",
    "F14 = F4(graph = F13, nodeChoice = 'e', printSummary = True, \n",
    "       returnUpdatedGraph = True)\n",
    "\n",
    "F15 = F4(graph = F14, nodeChoice = 'd', printSummary = True, \n",
    "       returnUpdatedGraph = True)\n",
    "\n"
   ]
  },
  {
   "cell_type": "markdown",
   "id": "71884e64-44bb-4043-968e-abb3ceb4f383",
   "metadata": {},
   "source": [
    "<b>Observe</b> that this iterative can get t this point: "
   ]
  },
  {
   "cell_type": "code",
   "execution_count": 6,
   "id": "5529108f-f1b1-4f7f-bfdf-37f457770b92",
   "metadata": {},
   "outputs": [
    {
     "name": "stdout",
     "output_type": "stream",
     "text": [
      "Node choice b \n",
      "Node details {'population': 1} \n",
      "Change in node population  1 -> 3\n",
      "Updated node populations of graph:  [1, 3, 1, 2, 2, 2, 1, 1] \n",
      "\n"
     ]
    }
   ],
   "source": [
    "F16 = F4(graph = F15, nodeChoice = 'b', printSummary = True, \n",
    "       returnUpdatedGraph = True)\n"
   ]
  },
  {
   "cell_type": "code",
   "execution_count": 7,
   "id": "3359e567-01cc-417a-a116-6d253b2323f6",
   "metadata": {},
   "outputs": [
    {
     "data": {
      "image/png": "[encoded data removed]",
      "text/plain": [
       "<Figure size 432x288 with 1 Axes>"
      ]
     },
     "metadata": {},
     "output_type": "display_data"
    }
   ],
   "source": [
    "F3(F16)"
   ]
  },
  {
   "cell_type": "markdown",
   "id": "15d62a76-d535-46e7-bf02-d2812f590e85",
   "metadata": {},
   "source": [
    "\n",
    "\n",
    "<b>Let</b> $F17$ be some function that has created the inital graph. \n",
    "\n"
   ]
  },
  {
   "cell_type": "markdown",
   "id": "58af8743-0272-46a8-9623-69d033091c3f",
   "metadata": {},
   "source": [
    "<b>Let</b> $F18$ be $D_4 \\text{~}$ be a graph with a stable population"
   ]
  },
  {
   "cell_type": "code",
   "execution_count": 101,
   "id": "04d65946-a7d4-43b7-baf7-2d5fba15a8d4",
   "metadata": {},
   "outputs": [
    {
     "data": {
      "image/png": "[encoded data removed]",
      "text/plain": [
       "<Figure size 432x288 with 1 Axes>"
      ]
     },
     "metadata": {},
     "output_type": "display_data"
    }
   ],
   "source": [
    "F18 = F2(edges=[(\"a\",\"b\"),(\"b\",\"c\"),(\"b\",\"d\"),(\"d\",\"e\"),(\"e\",\"f\"),(\"f\",\"g\"), (\"f\",\"h\")], \n",
    "       population=[1,2,1,2,2, 2, 1, 1,])\n",
    "\n",
    "F3(F18)\n"
   ]
  },
  {
   "cell_type": "markdown",
   "id": "09c1b389-cb86-4bf5-9039-021d0513bc0e",
   "metadata": {},
   "source": [
    "<b>Let</b> $F19$ be the graph population of $F6$, the  $D_4 \\text{~}$ graph with a singeton population prior to mutation \n",
    "\n",
    "\n",
    "<b>Let</b> $F20$ be the graph population of $F16$, the $D_4 \\text{~}$ graph after mutations have been applied at  $c, a, d, e, f, h, g, f, e, d, b$\n",
    "\n",
    "<b>Let</b> $F21$ be the graph population of  $F18$, a $D_4 \\text{~}$ (a $D_4 \\text{~}$ graph with a stable population). "
   ]
  },
  {
   "cell_type": "code",
   "execution_count": 112,
   "id": "81f0e09c-0020-42bd-b8e8-868b51eed5be",
   "metadata": {},
   "outputs": [],
   "source": [
    "F19 = np.array(list(nx.get_node_attributes(F6, 'population').values()))\n",
    "F20 = np.array(list(nx.get_node_attributes(F16, 'population').values()))\n",
    "F21 = np.array(list(nx.get_node_attributes(F18, 'population').values()))"
   ]
  },
  {
   "cell_type": "markdown",
   "id": "ad164796-6099-4267-91d9-a5bd569eff3d",
   "metadata": {},
   "source": [
    "<b>Observe</b> that the population after muationsat $c, a, d, e, f, h, g, f, e, d, b$ is the addtion of the singleton and stable popuations: "
   ]
  },
  {
   "cell_type": "code",
   "execution_count": 113,
   "id": "456c207c-5c97-4398-8f9a-9dfedcc38c02",
   "metadata": {},
   "outputs": [
    {
     "data": {
      "text/plain": [
       "array([ True,  True,  True,  True,  True,  True,  True,  True])"
      ]
     },
     "execution_count": 113,
     "metadata": {},
     "output_type": "execute_result"
    }
   ],
   "source": [
    "F21 + F19 == F20"
   ]
  },
  {
   "cell_type": "markdown",
   "id": "f90f7673-b7d6-490d-84ff-bf0d35498e55",
   "metadata": {},
   "source": [
    "<b>Observe</b> that the population afte rmutation   $c, a, d, e, f, h, g, f, e, d, b$ is:\n",
    "\n",
    "$$P(F86) \\equiv P(6) + P(16) $$ or (more intuively)\n",
    "\n",
    "<b>Observe</b> that this could be written more intuively as: $P(D_4 \\text{~ graph with singleton population}) + P(D_4 \\text{~ graph with stable population}) =  P(D_4 \\text{~ graph after mutations at c, a, d, e, f, h, g, f, e, d, b})  $  \n",
    "\n"
   ]
  },
  {
   "cell_type": "markdown",
   "id": "71f2456f-da5c-4a3d-9c80-bbc2d951264d",
   "metadata": {},
   "source": [
    "<b>Observe</b>  that another way to think about this, a singleeon population applying a sequence of mutations, and these are linear transformations, so \n",
    "\n",
    "Let F22 be initial \n",
    "Let F23 be stable \n",
    "Let F24 be sequence of ienar transofmrations \n",
    "\n",
    "((F22 + F23) F24)F24 which can also be so fruther application sof w will increase the coeffeicnt of F23 and provide unboarded numer of populations\n"
   ]
  },
  {
   "cell_type": "code",
   "execution_count": null,
   "id": "d722aa4c-6b7a-4a70-b931-fc36d4b8c63c",
   "metadata": {},
   "outputs": [],
   "source": []
  }
 ],
 "metadata": {
  "kernelspec": {
   "display_name": "Python 3",
   "language": "python",
   "name": "python3"
  },
  "language_info": {
   "codemirror_mode": {
    "name": "ipython",
    "version": 3
   },
   "file_extension": ".py",
   "mimetype": "text/x-python",
   "name": "python",
   "nbconvert_exporter": "python",
   "pygments_lexer": "ipython3",
   "version": "3.9.2"
  }
 },
 "nbformat": 4,
 "nbformat_minor": 5
}
