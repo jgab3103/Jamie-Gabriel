{
 "cells": [
  {
   "cell_type": "code",
   "execution_count": 1,
   "metadata": {},
   "outputs": [],
   "source": [
    "import numpy as np\n",
    "import sympy as sp\n",
    "from IPython.display import HTML\n",
    "import ipywidgets as widgets\n",
    "import matplotlib as mpl\n",
    "from mpl_toolkits.mplot3d import Axes3D\n",
    "import matplotlib.pyplot as plt\n",
    "mpl.rcParams['legend.fontsize'] = 10"
   ]
  },
  {
   "cell_type": "code",
   "execution_count": 2,
   "metadata": {},
   "outputs": [],
   "source": [
    "def format_axis_for_plot(ax, latex_label, x_lim = 20, y_lim= 20):\n",
    "    ax.grid()\n",
    "    ax.spines['left'].set_position(('data', 0.0))\n",
    "    ax.spines['bottom'].set_position(('data', 0.0))\n",
    "    ax.spines['top'].set_visible(False)\n",
    "    ax.spines['right'].set_visible(False)\n",
    "    ax.set_xlim([-x_lim, x_lim])\n",
    "    ax.set_ylim([-y_lim, y_lim])\n",
    "    ax.set_title(latex_label)\n",
    "    \n",
    "    return(ax)\n"
   ]
  },
  {
   "cell_type": "markdown",
   "metadata": {},
   "source": [
    "### Introduction \n",
    "\n",
    "This set of notebooks holds my notes for Differential Calculus. Many of the ideas in these notes, are used to answer the folling kinds or research questions: \n",
    "\n",
    "1. What is understanding of underlying geometries in the neocortex, characterised by highly non-random networks\n",
    "2. Can different geometries (Hyperbolic, Differential) shed light on how to structure data of machine intelligence use\n",
    "3. Does the neocortex need to be understood in the context of topological space\n",
    "4. Use geometrical structures to inform structures in HTM theory\n",
    "\n",
    "\n",
    "### Pre-requisites\n",
    "\n",
    "My notes in mathematics cover roughly the areas of Linear Algebra, Differential Geometry, Algebraic Topolology, and Hyperbolic Geometry and have a focus on issues that tend to come up in computational neuroscience and machine intelligence. As a prerequisite, if you are comfortable with high school math that is probably fine. Alternatively, a great text I used is <i>Precalculus -  Ph.D. Stitz, C and Zeager, J, Precalculus</i>. These notes will take a particular point of view when it comes to Calculus and Linear Algebra so if you had a lot or little exposure it should be fine. These notes will also go through a number of foundational issues in mathematics and not move too quickly so you should be fine. \n",
    "\n",
    "\n",
    "### Code \n",
    "\n",
    "These notes use standard Python libraries (such as numpy, sympy, matplotlib etc.) They won't use the Python Sage libraries, which I like but I want a simpler Environment. These notes have been created using a Jupyter Lab environment in Docker, details of which are on my GitHub \n",
    "\n",
    "\n",
    "### How to work through these notes\n",
    "\n",
    "Math of course is something to needs to be done, not just read about. A long time ago I realised that to truly understand a topic, the best thing to do is right a textbook about it, and this text is just as much as for the author as the reader. I hope its of value to you, and I wuold encourage you as you work through things to really see these notes as <i>your</i> notes. Change the Python examples, format things your own way, etc. Find ways to make things more understandable, seek clarity wherever possible. Feel free to send me pull requests with any changes that add clarity to these notes, and I can make changes in this version. \n",
    "\n",
    "Along the way in these notes you will notice I tend to include <i>Add to these notes</i> prompts. These are as much for me as for anyone else, things I want to come back to This can guide you with ideas on how to make them your own. Also, I often find in textbooks and tutorials that questions are really difficult and I find for me I want to slowly iterate through examples. So you will find the solutions are really geared towards that, gently exploring and extending ways that we can understand. \n",
    "\n",
    "The more you make your own version of these notes, the greater will be your understanding. \n",
    "\n",
    "<hr/>\n"
   ]
  },
  {
   "cell_type": "markdown",
   "metadata": {},
   "source": [
    "### Differential Geometry\n",
    "\n",
    "The these Differential Geometry Notebooks, I will start off by exploring some basic curves (things like conics, basic cubics etc.) and also explore some well known studied in antiquity Ancient Greek Mathematicians. I will go between this and the seventeenth of century to view geometry from a Cartesian and algebraic point of view, with its emphasis on mechanics and motion (from Euler, Newton, Cauchy and Gauss) We will explore parameterisation of curves, the differential calculus of curves, take the point of view of Lagrange when building up our Calculus, explore applications in finite fields, and different geometries (i.e. projective geometry), understand different tyypes of curvature and structure, and eventually move towards more complex constructs such as topological spaces and manifolds. \n",
    "\n",
    "The main purpose of these notes is to provide background and context for research topics in machine intelligence and computational neuroscience, so some of the examples will have that emphasis.\n",
    "\n",
    "I am going to start with idea of conics, which provides a way for us to find a general way understanding some basic curves such as circles, parabolas, ellipeses and hyperbolas. \n"
   ]
  },
  {
   "cell_type": "markdown",
   "metadata": {},
   "source": [
    "Although we will spend most of our time in 2 dimensions, let's start with a 3 dimensional visual intuition: the cone"
   ]
  },
  {
   "cell_type": "code",
   "execution_count": null,
   "metadata": {},
   "outputs": [],
   "source": []
  },
  {
   "cell_type": "code",
   "execution_count": null,
   "metadata": {},
   "outputs": [],
   "source": []
  },
  {
   "cell_type": "code",
   "execution_count": null,
   "metadata": {},
   "outputs": [],
   "source": []
  },
  {
   "cell_type": "code",
   "execution_count": null,
   "metadata": {},
   "outputs": [],
   "source": []
  },
  {
   "cell_type": "markdown",
   "metadata": {},
   "source": [
    "Eurlery newton/ Mange / cauchy / Guass....but earlier lots of interesting in curves - greek\n",
    "\n",
    "line simplest\n",
    "\n",
    "conic sections stuff.....put in here.... \"slice the cone\", parabola, ellipse, hyperbola...named by appolonius...also degenerate conic sections....1 point, \n",
    "\n",
    "We can think of them metric defintions - typically involving point and a line (focus and directrix) - relationship \n",
    "\n",
    "Diagram 1 - use quadrance is distances**2....\n",
    "\n",
    "Look (Q, F) = Q(X, l) - condition of parabola\n",
    "\n",
    "Look (Q, F)/Q(x, l) < 1 - we get an ellipse\n",
    "\n",
    "Look at (Q, F) / Q(x, L) > 1 - we get a hyperbola\n",
    "\n",
    "\n",
    "What wasn't really understood was relationship between 2 defiitions (plane slicing cone vs metrical defintions)...... so challenge arises as to when you cut a cone with a plane, where is the focus and directrix\n",
    "\n",
    "So jg - we have the challnge of how to construct these structures....starting from eith one - \n",
    "\n",
    "To do this diagram 3..... \n",
    "\n",
    "and then to get directrix, you use equator of shere which cuts ellipse in a line, then get equator of squre on top...\n",
    "\n",
    "Note that there are other ways to create these structures (so far we have metrical creation, sliciding a cone creatino), but we could also apply an affine transformation - stretch plane in one direction more than the other .....\n",
    "\n",
    "Also another way we can create it - via the complex plane\n",
    "we can use cosh z = cosh x cosh iy + sinh x sinch iy for z = x + iy\n",
    "\n",
    "$$ \\cosh{x} \\cos{y} + i \\sinh{x} sin{y}$$ \n",
    "\n",
    "\n",
    "\n"
   ]
  },
  {
   "cell_type": "markdown",
   "metadata": {},
   "source": [
    "which can also be written as \n",
    "$$ \\frac{e^z + e^{-z}}{2} $$\n",
    "\n",
    "\n",
    "If Real part of z is fixed, then y - X + i \n",
    "\n",
    "IN 17th Cent - analytic geom took place of greeks (descartes).....\n",
    "\n",
    "Analytic Geom of Descartes\n",
    "\n",
    "\n",
    "\n",
    "Conics now have algebraic description - \n",
    "line is a form of ax + by + c = 0\n",
    "\n",
    "Conic is some kidn of degree 2 - ax**2 + bxy + cy**2 + dx....etc...\n",
    "\n",
    "All conics form part of one big family\n",
    "\n",
    "Note also - \n",
    "\n",
    "Greeks"
   ]
  },
  {
   "cell_type": "code",
   "execution_count": null,
   "metadata": {},
   "outputs": [],
   "source": []
  }
 ],
 "metadata": {
  "kernelspec": {
   "display_name": "Python 3",
   "language": "python",
   "name": "python3"
  },
  "language_info": {
   "codemirror_mode": {
    "name": "ipython",
    "version": 3
   },
   "file_extension": ".py",
   "mimetype": "text/x-python",
   "name": "python",
   "nbconvert_exporter": "python",
   "pygments_lexer": "ipython3",
   "version": "3.9.2"
  }
 },
 "nbformat": 4,
 "nbformat_minor": 4
}
