{
 "cells": [
  {
   "cell_type": "code",
   "execution_count": 4,
   "metadata": {},
   "outputs": [],
   "source": [
    "import numpy as np\n",
    "import sympy as sp\n",
    "import pickle\n",
    "from IPython.display import HTML\n",
    "import ipywidgets as widgets\n",
    "import matplotlib as mpl\n",
    "from mpl_toolkits.mplot3d import Axes3D\n",
    "import matplotlib.pyplot as plt\n",
    "mpl.rcParams['legend.fontsize'] = 10\n",
    "import pandas as pd\n",
    "import itertools\n",
    "pd.set_option('display.max_colwidth', None)\n",
    "\n",
    "#\n",
    "\n",
    "# function to print latex\n",
    "def renderListToLatex(e):\n",
    "    latex_rendering = []\n",
    "\n",
    "    for i in range(len(e)):\n",
    "        latex_rendering.append(\"$$\" + sp.latex(e[i]) + \"$$<br/>\")\n",
    "    \n",
    "    return(HTML(\"\".join(latex_rendering[0:])))"
   ]
  },
  {
   "cell_type": "markdown",
   "metadata": {},
   "source": [
    "### Solving Polynomial Equations (15)"
   ]
  },
  {
   "cell_type": "markdown",
   "metadata": {},
   "source": [
    "<hr/>\n",
    "\n",
    "<b>Aim</b>: Explore the quartic equation and bBiTriQuad numbers\n",
    "\n",
    "<hr/>\n",
    "\n",
    "\n",
    "NOte that BiTri array actually on theOEIS at A104978 - note this is a different way of freading numbers off\n",
    "\n",
    "\n",
    "Note this array allso - seen John Zhau - Fat and Thin Emergent Geometries of Hermitial One-Matrix Models (math physics) - so some connections here\n",
    "\n"
   ]
  },
  {
   "cell_type": "markdown",
   "metadata": {},
   "source": [
    "Observe: implementation of $C$\n",
    "\n",
    "Let $F1$ for a function that implements $C$."
   ]
  },
  {
   "cell_type": "code",
   "execution_count": 2,
   "metadata": {},
   "outputs": [],
   "source": [
    "def F1(m2, m3, returnCoefficientsOnly = False, returnCoefficientsOnlyWithoutSigns = True, returnCoefficientsAsFactorialStrings = False):\n",
    "    c_0, c_1, c_2, c_3 = sp.symbols('c_0, c_1, c_2, c_3')\n",
    "    s1 = (-1)**(m3 + 1)\n",
    "    s2 = sp.factorial(2 * m2 + 3 * m3)\n",
    "    s3 = sp.factorial(1 + m2 + 2 * m3) * sp.factorial(m2) * sp.factorial(m3)\n",
    "\n",
    "    \n",
    "    s4 = c_0**(1 + m2 + 2 * m3) * c_2**m2 *c_3**m3\n",
    "    s5 = c_1**(2 * m2 + 3 * m3 + 1)\n",
    "    \n",
    "    s7 = str(2 * m2 + 3 * m3) + \"!\"\n",
    "    s8 = str(1 + m2 + 2 * m3) + \"!\" + str(m2) + \"!\"  + str(m3) + \"!\"\n",
    "    \n",
    "    if returnCoefficientsOnly:\n",
    "        s6 = s1 * (s2 / s3)\n",
    "    elif returnCoefficientsOnlyWithoutSigns:\n",
    "        s6 = (s2 / s3)\n",
    "    elif returnCoefficientsAsFactorialStrings:\n",
    "        s6 = str(s7 + \" | \" + s8)\n",
    "    else:\n",
    "        s6 = s1 * (s2 / s3) * (s4 / s5)\n",
    "\n",
    "    return(s6)"
   ]
  },
  {
   "cell_type": "markdown",
   "metadata": {},
   "source": [
    "Create variables "
   ]
  },
  {
   "cell_type": "code",
   "execution_count": 8,
   "metadata": {},
   "outputs": [],
   "source": [
    "c_0, c_1, c_2, c_3, c_4, x, t, a_0, a_1, a_2, a_3, a_4, a_5, a_6, a_7, a_8, a_9, x_1, x_2, s_1, s_2 = sp.symbols('c_0, c_1, c_2, c_3, c_4, x, t, a_0, a_1, a_2, a_3, a_4, a_5, a_6, a_7, a_8, a_9, x_1, x_2, s_1, s_2')"
   ]
  },
  {
   "cell_type": "markdown",
   "metadata": {},
   "source": [
    "Let $P1$, $P2$, $P3$ be from sp 6 - general solutinos"
   ]
  },
  {
   "cell_type": "code",
   "execution_count": 9,
   "metadata": {},
   "outputs": [],
   "source": [
    "with open('./SharedOutputs/SPE6.pickle', 'rb') as input:\n",
    "    imported_outputs_from_another_notebook = pickle.load(input)\n",
    "    \n",
    "P1 = imported_outputs_from_another_notebook['xSubstitution']\n",
    "P2 = imported_outputs_from_another_notebook['generalQuarticEquation']\n",
    "P3 = imported_outputs_from_another_notebook['solutionForXForQuartic']\n"
   ]
  },
  {
   "cell_type": "markdown",
   "metadata": {},
   "source": [
    "Observe: SP6 took general quartic:"
   ]
  },
  {
   "cell_type": "code",
   "execution_count": 13,
   "metadata": {},
   "outputs": [
    {
     "data": {
      "text/latex": [
       "$\\displaystyle c_{0} + c_{1} x + c_{2} x^{2} + c_{3} x^{3} + c_{4} x^{4} = 0$"
      ],
      "text/plain": [
       "Eq(c_0 + c_1*x + c_2*x**2 + c_3*x**3 + c_4*x**4, 0)"
      ]
     },
     "execution_count": 13,
     "metadata": {},
     "output_type": "execute_result"
    }
   ],
   "source": [
    "P2"
   ]
  },
  {
   "cell_type": "markdown",
   "metadata": {},
   "source": [
    "Observe: c0 was sub for t and replaced by power series"
   ]
  },
  {
   "cell_type": "code",
   "execution_count": 10,
   "metadata": {},
   "outputs": [
    {
     "data": {
      "text/latex": [
       "$\\displaystyle a_{0} + a_{1} t + a_{2} t^{2} + a_{3} t^{3} + a_{4} t^{4} + a_{5} t^{5} + a_{6} t^{6} + a_{7} t^{7} + a_{8} t^{8}$"
      ],
      "text/plain": [
       "a_0 + a_1*t + a_2*t**2 + a_3*t**3 + a_4*t**4 + a_5*t**5 + a_6*t**6 + a_7*t**7 + a_8*t**8"
      ]
     },
     "execution_count": 10,
     "metadata": {},
     "output_type": "execute_result"
    }
   ],
   "source": [
    "P1"
   ]
  },
  {
   "cell_type": "markdown",
   "metadata": {},
   "source": [
    "Observe: a solutino for x was found"
   ]
  },
  {
   "cell_type": "code",
   "execution_count": 12,
   "metadata": {},
   "outputs": [
    {
     "data": {
      "text/latex": [
       "$\\displaystyle - \\frac{45 c_{0}^{8} c_{2} c_{4}^{2}}{c_{1}^{11}} - \\frac{45 c_{0}^{8} c_{3}^{2} c_{4}}{c_{1}^{11}} + \\frac{495 c_{0}^{8} c_{2}^{2} c_{3} c_{4}}{c_{1}^{12}} + \\frac{165 c_{0}^{8} c_{2} c_{3}^{3}}{c_{1}^{12}} - \\frac{495 c_{0}^{8} c_{2}^{4} c_{4}}{c_{1}^{13}} - \\frac{990 c_{0}^{8} c_{2}^{3} c_{3}^{2}}{c_{1}^{13}} + \\frac{1287 c_{0}^{8} c_{2}^{5} c_{3}}{c_{1}^{14}} - \\frac{429 c_{0}^{8} c_{2}^{7}}{c_{1}^{15}} - \\frac{4 c_{0}^{7} c_{4}^{2}}{c_{1}^{9}} + \\frac{72 c_{0}^{7} c_{2} c_{3} c_{4}}{c_{1}^{10}} + \\frac{12 c_{0}^{7} c_{3}^{3}}{c_{1}^{10}} - \\frac{120 c_{0}^{7} c_{2}^{3} c_{4}}{c_{1}^{11}} - \\frac{180 c_{0}^{7} c_{2}^{2} c_{3}^{2}}{c_{1}^{11}} + \\frac{330 c_{0}^{7} c_{2}^{4} c_{3}}{c_{1}^{12}} - \\frac{132 c_{0}^{7} c_{2}^{6}}{c_{1}^{13}} + \\frac{7 c_{0}^{6} c_{3} c_{4}}{c_{1}^{8}} - \\frac{28 c_{0}^{6} c_{2}^{2} c_{4}}{c_{1}^{9}} - \\frac{28 c_{0}^{6} c_{2} c_{3}^{2}}{c_{1}^{9}} + \\frac{84 c_{0}^{6} c_{2}^{3} c_{3}}{c_{1}^{10}} - \\frac{42 c_{0}^{6} c_{2}^{5}}{c_{1}^{11}} - \\frac{6 c_{0}^{5} c_{2} c_{4}}{c_{1}^{7}} - \\frac{3 c_{0}^{5} c_{3}^{2}}{c_{1}^{7}} + \\frac{21 c_{0}^{5} c_{2}^{2} c_{3}}{c_{1}^{8}} - \\frac{14 c_{0}^{5} c_{2}^{4}}{c_{1}^{9}} - \\frac{c_{0}^{4} c_{4}}{c_{1}^{5}} + \\frac{5 c_{0}^{4} c_{2} c_{3}}{c_{1}^{6}} - \\frac{5 c_{0}^{4} c_{2}^{3}}{c_{1}^{7}} + \\frac{c_{0}^{3} c_{3}}{c_{1}^{4}} - \\frac{2 c_{0}^{3} c_{2}^{2}}{c_{1}^{5}} - \\frac{c_{0}^{2} c_{2}}{c_{1}^{3}} - \\frac{c_{0}}{c_{1}}$"
      ],
      "text/plain": [
       "-45*c_0**8*c_2*c_4**2/c_1**11 - 45*c_0**8*c_3**2*c_4/c_1**11 + 495*c_0**8*c_2**2*c_3*c_4/c_1**12 + 165*c_0**8*c_2*c_3**3/c_1**12 - 495*c_0**8*c_2**4*c_4/c_1**13 - 990*c_0**8*c_2**3*c_3**2/c_1**13 + 1287*c_0**8*c_2**5*c_3/c_1**14 - 429*c_0**8*c_2**7/c_1**15 - 4*c_0**7*c_4**2/c_1**9 + 72*c_0**7*c_2*c_3*c_4/c_1**10 + 12*c_0**7*c_3**3/c_1**10 - 120*c_0**7*c_2**3*c_4/c_1**11 - 180*c_0**7*c_2**2*c_3**2/c_1**11 + 330*c_0**7*c_2**4*c_3/c_1**12 - 132*c_0**7*c_2**6/c_1**13 + 7*c_0**6*c_3*c_4/c_1**8 - 28*c_0**6*c_2**2*c_4/c_1**9 - 28*c_0**6*c_2*c_3**2/c_1**9 + 84*c_0**6*c_2**3*c_3/c_1**10 - 42*c_0**6*c_2**5/c_1**11 - 6*c_0**5*c_2*c_4/c_1**7 - 3*c_0**5*c_3**2/c_1**7 + 21*c_0**5*c_2**2*c_3/c_1**8 - 14*c_0**5*c_2**4/c_1**9 - c_0**4*c_4/c_1**5 + 5*c_0**4*c_2*c_3/c_1**6 - 5*c_0**4*c_2**3/c_1**7 + c_0**3*c_3/c_1**4 - 2*c_0**3*c_2**2/c_1**5 - c_0**2*c_2/c_1**3 - c_0/c_1"
      ]
     },
     "execution_count": 12,
     "metadata": {},
     "output_type": "execute_result"
    }
   ],
   "source": [
    "P3"
   ]
  },
  {
   "cell_type": "markdown",
   "metadata": {},
   "source": [
    "Observe general form: \n",
    "\n",
    "$$\\frac{c_0^{m_0} c_2^{m_2} c_3^{m_3} c_4^{m_4}}{c_1^{m_1}} $$"
   ]
  },
  {
   "cell_type": "markdown",
   "metadata": {},
   "source": [
    "Observe 2 conditions in quartic extensino\n",
    "\n",
    "total degree, $m_0 + m_2 + m_3 + m_4 - m_1 = 0$\n",
    "\n",
    "index degree $ m_1 + 2m_2 + 3m_3 + 4m_4 = -1$ "
   ]
  },
  {
   "cell_type": "markdown",
   "metadata": {},
   "source": [
    "Observe - solve for 2 things: \n",
    "\n",
    "$$m_0 = 1 + m_2 + 2m_3 + 3m_4 $$\n",
    "$$ m_1 = 1 + 2m_2 + 3m_3 + 4m_4 $$"
   ]
  },
  {
   "cell_type": "markdown",
   "metadata": {},
   "source": [
    "Observe: natural extension of cubic case: \n",
    "\n",
    "General termm given by \n",
    "\n",
    "\n",
    "$$ f(m_0, m_3, m_4) = (-1)^{m_3 + 1} \\frac{(2m_2 + 3m_3 + 4m_4)! }{(1 + 2m_2 + 3m_3 + 4m_4)!m_2!m_3!m_4!} \\frac{c_0^{ 1 + m_2 + 2m_3 + 3m_4 } c_2^{m_2} c_3^{m_3} c_4^{m_4}}{c_1^{1 + 2m_2 + 3m_3 + 4m_4}} $$"
   ]
  },
  {
   "cell_type": "markdown",
   "metadata": {},
   "source": [
    "Create function for this"
   ]
  },
  {
   "cell_type": "markdown",
   "metadata": {},
   "source": [
    "Also change to $f(m, n, p)$ and rewrite....."
   ]
  },
  {
   "cell_type": "markdown",
   "metadata": {},
   "source": [
    "Observe - coefficients are BiTriQuad numbers.....(really taking a graph theoretic / tree theoretic) which are sub multinomial\n",
    "\n",
    "\n",
    "Now define new function C(m, n, p)\n",
    "\n",
    "Observe - looking aoriginally at BiTri array....now extending into 3 dim array, m, n, p\n",
    "\n",
    "Natural conjecture - m, n relates to subdivision of triangles and quadrilaterals, therefore p relates to number of pentagons subvidivding polygons - so we have a polygon and this is counting number of ways to subdivide into triangles, quadrilaterals and pentagrams\n",
    "\n",
    "jg - so heading to circle - this is possible conjecture\n",
    "\n",
    "We can also check if they are natural numbers....\n",
    "\n",
    "we need to expect 3d array one level at a time\n",
    "\n",
    "Vary p - so if p = 0\n",
    "\n",
    "make array of M(m-1, n-1, p) = so just getting BiTri nubmers\n",
    "\n",
    "Use 8 x 8 matrix - get same array back - base level is cubic level\n",
    "\n",
    "This suggests that all successive equatinos are nested inside each other \n",
    "\n",
    "look at p  = 1 (so dividing polygons into triangles, quadrilaterals, and 1 pentagon)\n",
    "\n",
    "run p = 1\n",
    "\n",
    "1 7 45 286  \n",
    "6\n",
    "28\n",
    "120\n",
    "etc.\n",
    "\n",
    "Now check it in OEIS - we find that it is here, there is binomial coefficient A002694\n",
    "\n",
    "Now grab first row\n",
    "\n",
    "look in OEIS\n",
    "\n",
    "Yes! - binomial A236194\n",
    "\n",
    "check p = 2\n",
    "\n",
    "This is nthere\n",
    "\n",
    "Conjecture \n",
    "\n",
    "THe BitTriQuad = The bitriq number C(m, n, p) counts the number of a diangle subidivisonof a (2 + m + 2n + 3p) sided polygon into m triangles and n quadrialterals and p pentagons, in particular this shows that c(m, n, p) is a an integer\n",
    "\n",
    "way of counting sides - start with 2, and then add one for every triangle we are creating, then quadrilaterals add 2 new veritces/ edges, pentagrams will add 3 vertices / edges  - if true, it is an integer in general \n",
    "\n",
    "Now go through all the combinations\n"
   ]
  }
 ],
 "metadata": {
  "kernelspec": {
   "display_name": "Python 3",
   "language": "python",
   "name": "python3"
  },
  "language_info": {
   "codemirror_mode": {
    "name": "ipython",
    "version": 3
   },
   "file_extension": ".py",
   "mimetype": "text/x-python",
   "name": "python",
   "nbconvert_exporter": "python",
   "pygments_lexer": "ipython3",
   "version": "3.9.2"
  }
 },
 "nbformat": 4,
 "nbformat_minor": 4
}
