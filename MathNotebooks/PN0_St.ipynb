{
 "cells": [
  {
   "cell_type": "markdown",
   "metadata": {},
   "source": [
    "<i>STATUS: Draft<i>"
   ]
  },
  {
   "cell_type": "markdown",
   "metadata": {},
   "source": [
    "\n",
    "<div>These are general calculus notes with some related python code</div><br/>\n",
    "\n",
    "\n",
    "<i>Tags: Motion along a straight line</i>\n",
    "\n",
    "<hr/>"
   ]
  },
  {
   "cell_type": "code",
   "execution_count": 1,
   "metadata": {},
   "outputs": [],
   "source": [
    "import numpy as np\n",
    "import sympy as sp\n",
    "from IPython.display import HTML\n",
    "import ipywidgets as widgets\n",
    "import matplotlib as mpl\n",
    "from mpl_toolkits.mplot3d import Axes3D\n",
    "import matplotlib.pyplot as plt\n",
    "mpl.rcParams['legend.fontsize'] = 10\n",
    "import pandas as pd\n",
    "import itertools\n",
    "\n",
    "# This is commented out\n",
    "#%matplotlib widget\n",
    "\n",
    "# function to print latex\n",
    "def renderListToLatex(e):\n",
    "    latex_rendering = []\n",
    "\n",
    "    for i in range(len(e)):\n",
    "        latex_rendering.append(\"$$\" + sp.latex(e[i]) + \"$$\")\n",
    "    \n",
    "    return(HTML(\"\".join(latex_rendering[0:])))\n",
    "    "
   ]
  },
  {
   "cell_type": "markdown",
   "metadata": {},
   "source": [
    "#### 3: Motion along a straight line \n",
    "\n",
    "Note standard formulas"
   ]
  },
  {
   "cell_type": "markdown",
   "metadata": {},
   "source": [
    "#### 3: Examples"
   ]
  },
  {
   "cell_type": "code",
   "execution_count": 2,
   "metadata": {},
   "outputs": [
    {
     "data": {
      "text/plain": [
       "[1.5*m/s, 0, -3*m/s]"
      ]
     },
     "execution_count": 2,
     "metadata": {},
     "output_type": "execute_result"
    }
   ],
   "source": [
    "# 3.4\n",
    "\n",
    "t, m, s = sp.symbols('t m s')\n",
    "\n",
    "# Let g1 be a function \n",
    "g1 = 3 * t - (3 * t**2) \n",
    "\n",
    "# Let g2 be the velocity of g1\n",
    "g2 = sp.diff(g1, t)\n",
    "\n",
    "# Evalulate velocity at .25, .5 and 1\n",
    "\n",
    "g3 = [g2.subs(t, i) * m/s for i in [.25, .5, 1]]\n",
    "g3"
   ]
  },
  {
   "cell_type": "code",
   "execution_count": 3,
   "metadata": {},
   "outputs": [
    {
     "data": {
      "text/latex": [
       "$\\displaystyle - \\frac{8.33333333333333 m}{s^{2}}$"
      ],
      "text/plain": [
       "-8.33333333333333*m/s**2"
      ]
     },
     "execution_count": 3,
     "metadata": {},
     "output_type": "execute_result"
    }
   ],
   "source": [
    "# 3.5\n",
    "\n",
    "m, s = sp.symbols('m s')\n",
    "v0 = -0\n",
    "v1 = -15\n",
    "t0 = 0\n",
    "t1 = 1.8\n",
    "\n",
    "g1 = (v1 - v0) / (t1 - t0) * (m/s) / s\n",
    "g1"
   ]
  },
  {
   "cell_type": "code",
   "execution_count": 4,
   "metadata": {},
   "outputs": [
    {
     "data": {
      "text/plain": [
       "([15, 20, 15, -25], [10, 0, -10, -30])"
      ]
     },
     "execution_count": 4,
     "metadata": {},
     "output_type": "execute_result"
    }
   ],
   "source": [
    "# 3.6\n",
    "t = sp.symbols('t')\n",
    "\n",
    "g1 = 20 * t - 5 * t**2\n",
    "\n",
    "# Let g2 be the velocity\n",
    "g2 = sp.diff(g1, t)\n",
    "\n",
    "# Let g3 be the velocity at differnt times\n",
    "g3 = [g1.subs(t, i) for i in [1, 2, 3, 5]]\n",
    "\n",
    "g4 = [g2.subs(t, i) for i in [1, 2, 3, 5]]\n",
    "\n",
    "g3, g4\n"
   ]
  },
  {
   "cell_type": "code",
   "execution_count": 5,
   "metadata": {},
   "outputs": [
    {
     "data": {
      "text/latex": [
       "$\\displaystyle \\frac{10.0 m}{s}$"
      ],
      "text/plain": [
       "10.0*m/s"
      ]
     },
     "execution_count": 5,
     "metadata": {},
     "output_type": "execute_result"
    }
   ],
   "source": [
    "# 3.7\n",
    "\n",
    "m, s = sp.symbols('m, s')\n",
    "\n",
    "v0 = 70 * (m/s)\n",
    "a = -1.5 * (m/s**2)\n",
    "t = 40 * s\n",
    "\n",
    "v1 = v0 + a * t\n",
    "v1"
   ]
  },
  {
   "cell_type": "code",
   "execution_count": 6,
   "metadata": {},
   "outputs": [
    {
     "data": {
      "text/plain": [
       "(401.8768*m, 144.56*m/s)"
      ]
     },
     "execution_count": 6,
     "metadata": {},
     "output_type": "execute_result"
    }
   ],
   "source": [
    "# 3.8, 3.9\n",
    "\n",
    "m, s = sp.symbols('m, s')\n",
    "v0 = 0\n",
    "a = 26 * (m/s**2)\n",
    "t = 5.56 * s\n",
    "x0 = 0\n",
    "\n",
    "# Calculate x \n",
    "x = x0 + v0 * t + 1/2 * a * t**2\n",
    "\n",
    "\n",
    "# Calculate v1 \n",
    "v = v0 + a * t\n",
    "\n",
    "x, v\n"
   ]
  },
  {
   "cell_type": "code",
   "execution_count": 7,
   "metadata": {},
   "outputs": [
    {
     "data": {
      "text/latex": [
       "$\\displaystyle 15.0 m$"
      ],
      "text/plain": [
       "15.0*m"
      ]
     },
     "execution_count": 7,
     "metadata": {},
     "output_type": "execute_result"
    }
   ],
   "source": [
    "# 3.10\n",
    "x, m, s = sp.symbols('x, m, s')\n",
    "aD = -7 * m/s**2\n",
    "aW = -5 * m/s**2\n",
    "v1 = 30 * (m/s)\n",
    "v0 = 0\n",
    "\n",
    "x0 = 0\n",
    "\n",
    "# given acceleration and velosicy, find distance for dry\n",
    "(sp.solve(sp.Eq(v1**2, v0**2 + 2. * aD * (x) ), x))\n",
    "\n",
    "# given acceleration and velosicy, find distance for wet\n",
    "(sp.solve(sp.Eq(v1**2, v0**2 + 2. * aW * (x) ), x))\n",
    "\n",
    "# Distance travelled before reaction in dry or wet\n",
    "v1 * .5 * s\n"
   ]
  },
  {
   "cell_type": "code",
   "execution_count": 8,
   "metadata": {},
   "outputs": [
    {
     "data": {
      "text/plain": [
       "[-20.0*s, 10.0*s]"
      ]
     },
     "execution_count": 8,
     "metadata": {},
     "output_type": "execute_result"
    }
   ],
   "source": [
    "# 3.11\n",
    "m, s, t = sp.symbols('m s t')\n",
    "v0 = 10 * (m / s)\n",
    "a = 2 * (m / s**2)\n",
    "x0 = 0\n",
    "x1 = 200 * m\n",
    "\n",
    "# Given v0, a, x0 x1, find t\n",
    "\n",
    "sp.solve(sp.Eq(x1, x0 + v0 * t + .5 * a * t**2), t)\n",
    "\n",
    "# Choose logical one \n",
    "\n"
   ]
  },
  {
   "cell_type": "code",
   "execution_count": 9,
   "metadata": {},
   "outputs": [
    {
     "data": {
      "text/latex": [
       "$\\displaystyle \\frac{m \\left(10733.3333333333 s - 10.0\\right)}{s^{2}}$"
      ],
      "text/plain": [
       "m*(10733.3333333333*s - 10.0)/s**2"
      ]
     },
     "execution_count": 9,
     "metadata": {},
     "output_type": "execute_result"
    }
   ],
   "source": [
    "# 3.12 \n",
    "\n",
    "v0, v1, m, s = sp.symbols('v0, v1, m, s')\n",
    "\n",
    "a = 20 * (m / s**2)\n",
    "x0  = 0\n",
    "x1 = 1000000 * m\n",
    "t = 120 * s\n",
    "\n",
    "# given a, x0, x1, t, find v0, v1\n",
    "\n",
    "v0 = sp.simplify(sp.solve(sp.Eq(x1, x0 + v0 * t + .5 * a * t), v0)[0])\n",
    "v1 = v0 + a * t\n",
    "sp.simplify(v1)"
   ]
  },
  {
   "cell_type": "code",
   "execution_count": 10,
   "metadata": {},
   "outputs": [],
   "source": [
    "# 3.13\n",
    "m, s = sp.symbols('m, s')\n",
    "v1G = 10 * (m/s)\n",
    "aC = 4 * (m / s**2)"
   ]
  },
  {
   "cell_type": "code",
   "execution_count": 11,
   "metadata": {},
   "outputs": [],
   "source": [
    "v1, v0, a, t, x0, x1 = sp.symbols('v1, v0, a, t, x0, x1')\n",
    "\n",
    "g1 = sp.Eq(x1, x0 + v0 * t + .5 * a * t**2)\n",
    "g2 = sp.Eq(v1**2, v0**2 + 2 * a * (x1 - x0))"
   ]
  },
  {
   "cell_type": "code",
   "execution_count": 12,
   "metadata": {},
   "outputs": [
    {
     "data": {
      "text/plain": [
       "False"
      ]
     },
     "execution_count": 12,
     "metadata": {},
     "output_type": "execute_result"
    }
   ],
   "source": [
    "sp.solve(g2, x1)[0] == g1"
   ]
  },
  {
   "cell_type": "code",
   "execution_count": 13,
   "metadata": {},
   "outputs": [
    {
     "data": {
      "text/latex": [
       "$\\displaystyle 4.0$"
      ],
      "text/plain": [
       "4.00000000000000"
      ]
     },
     "execution_count": 13,
     "metadata": {},
     "output_type": "execute_result"
    }
   ],
   "source": [
    "# 3-14\n",
    "# Let following variables \n",
    "\n",
    "#initial conditions\n",
    "y0 = 0\n",
    "v0 = -4.9\n",
    "g = 9.8\n",
    "y = -98\n",
    "\n",
    "# Unknowns\n",
    "t = sp.symbols('t')\n",
    "\n",
    "# Solve for t using equation y = y0 + v0t - .5 g t**2\n",
    "g1 = sp.solve(sp.Eq(y, y0 + v0 * t - .5 * g * t**2), t)\n",
    "\n",
    "# time elapsed: \n",
    "g1[1]"
   ]
  },
  {
   "cell_type": "code",
   "execution_count": 14,
   "metadata": {},
   "outputs": [
    {
     "data": {
      "text/latex": [
       "$\\displaystyle -44.1$"
      ],
      "text/plain": [
       "-44.1000000000000"
      ]
     },
     "execution_count": 14,
     "metadata": {},
     "output_type": "execute_result"
    }
   ],
   "source": [
    "# Solve for velocity using equatino v = v0 - gt\n",
    "v0 - g * g1[1]"
   ]
  },
  {
   "cell_type": "code",
   "execution_count": 20,
   "metadata": {},
   "outputs": [
    {
     "data": {
      "text/latex": [
       "$\\displaystyle \\frac{24.5 m}{s}$"
      ],
      "text/plain": [
       "24.5*m/s"
      ]
     },
     "execution_count": 20,
     "metadata": {},
     "output_type": "execute_result"
    }
   ],
   "source": [
    "# 3.15\n",
    "\n",
    "# initial conditions\n",
    "v0, t, m, s = sp.symbols('v0, t, m, s')\n",
    "\n",
    "t = 5 * s\n",
    "y0 = 0\n",
    "y = 0\n",
    "g = 9.8 * (m / s**2)\n",
    "\n",
    "# 1: Solve for v0 using y = y0 + v0t - .5 g t\n",
    "g1 = sp.solve(sp.Eq(y, y0 + v0 * t - .5 * g * t**2), v0)\n",
    "v0 = g1[0]\n",
    "v0"
   ]
  },
  {
   "cell_type": "code",
   "execution_count": 19,
   "metadata": {},
   "outputs": [
    {
     "data": {
      "text/plain": [
       "[30.625*m]"
      ]
     },
     "execution_count": 19,
     "metadata": {},
     "output_type": "execute_result"
    }
   ],
   "source": [
    "# 2. solve for maximum height (where v = 0) using \n",
    "# equatino v**2 = v0**2 - 2 g (y - y0)\n",
    "y = sp.symbols('y')\n",
    "\n",
    "sp.solve(sp.Eq(0, g1[0]**2 - 2 * g * (y - y0) ), y)"
   ]
  },
  {
   "cell_type": "code",
   "execution_count": 22,
   "metadata": {},
   "outputs": [
    {
     "data": {
      "text/latex": [
       "$\\displaystyle - \\frac{24.5 m}{s}$"
      ],
      "text/plain": [
       "-24.5*m/s"
      ]
     },
     "execution_count": 22,
     "metadata": {},
     "output_type": "execute_result"
    }
   ],
   "source": [
    "#4 solve velocity of ball when caught\n",
    "v1 = v0 - g * t\n",
    "v1"
   ]
  },
  {
   "cell_type": "code",
   "execution_count": 36,
   "metadata": {},
   "outputs": [
    {
     "data": {
      "text/latex": [
       "$\\displaystyle 0 = \\frac{40000 m^{2}}{s^{2}} - \\frac{19.6 m \\left(- 5000 m + y\\right)}{s^{2}}$"
      ],
      "text/plain": [
       "Eq(0, 40000*m**2/s**2 - 19.6*m*(-5000*m + y)/s**2)"
      ]
     },
     "execution_count": 36,
     "metadata": {},
     "output_type": "execute_result"
    }
   ],
   "source": [
    "# 3.16\n",
    "\n",
    "y, m, s = sp.symbols('y, m s')\n",
    "\n",
    "v0 = 200 * (m / s)\n",
    "y0 = 5000 * m\n",
    "v = 0\n",
    "g = 9.8 * (m / s**2)\n",
    "\n",
    "# Find the max height of the booster\n",
    "y = sp.solve(sp.Eq(v, v0 **2 - 2 * g * (y- y0) ), y)[0]\n",
    "y\n",
    "\n",
    "y = sp.symbols('y')\n",
    "sp.Eq(v, v0 **2 - 2 * g * (y- y0) )\n",
    "# find altitute when y = 6"
   ]
  },
  {
   "cell_type": "code",
   "execution_count": 33,
   "metadata": {},
   "outputs": [
    {
     "data": {
      "text/latex": [
       "$\\displaystyle \\text{True}$"
      ],
      "text/plain": [
       "True"
      ]
     },
     "execution_count": 33,
     "metadata": {},
     "output_type": "execute_result"
    }
   ],
   "source": [
    "sp.Eq(v, v0 **2 - 2 * g * (y- y0) )"
   ]
  },
  {
   "cell_type": "code",
   "execution_count": 41,
   "metadata": {},
   "outputs": [],
   "source": [
    "#3-17\n",
    "\n",
    "v, v0, t, y, y0, g, m, s, a = sp.symbols('v, v0, t, y, y0, g, m, s, a')\n",
    "\n",
    "v0 = 5.0 * (m / s)\n",
    "a = -1 / 4 * t * (m / s**3)\n",
    "\n",
    "# Find velocity function "
   ]
  },
  {
   "cell_type": "code",
   "execution_count": 38,
   "metadata": {},
   "outputs": [
    {
     "data": {
      "text/latex": [
       "$\\displaystyle \\frac{5.0 m}{s}$"
      ],
      "text/plain": [
       "5.0*m/s"
      ]
     },
     "execution_count": 38,
     "metadata": {},
     "output_type": "execute_result"
    }
   ],
   "source": [
    "v0"
   ]
  },
  {
   "cell_type": "code",
   "execution_count": 42,
   "metadata": {},
   "outputs": [
    {
     "data": {
      "text/latex": [
       "$\\displaystyle - \\frac{0.125 m t^{2}}{s^{3}}$"
      ],
      "text/plain": [
       "-0.125*m*t**2/s**3"
      ]
     },
     "execution_count": 42,
     "metadata": {},
     "output_type": "execute_result"
    }
   ],
   "source": [
    "sp.integrate(a, t)"
   ]
  },
  {
   "cell_type": "code",
   "execution_count": null,
   "metadata": {},
   "outputs": [],
   "source": []
  }
 ],
 "metadata": {
  "kernelspec": {
   "display_name": "Python 3",
   "language": "python",
   "name": "python3"
  },
  "language_info": {
   "codemirror_mode": {
    "name": "ipython",
    "version": 3
   },
   "file_extension": ".py",
   "mimetype": "text/x-python",
   "name": "python",
   "nbconvert_exporter": "python",
   "pygments_lexer": "ipython3",
   "version": "3.9.2"
  }
 },
 "nbformat": 4,
 "nbformat_minor": 4
}
