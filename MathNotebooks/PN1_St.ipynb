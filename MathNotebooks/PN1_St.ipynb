{
 "cells": [
  {
   "cell_type": "code",
   "execution_count": 68,
   "id": "e3a0263f-3639-4572-8863-8aa44e57bf1f",
   "metadata": {},
   "outputs": [],
   "source": [
    "import numpy as np\n",
    "import sympy as sp\n",
    "from IPython.display import HTML\n",
    "import ipywidgets as widgets\n",
    "import matplotlib as mpl\n",
    "from mpl_toolkits.mplot3d import Axes3D\n",
    "import matplotlib.pyplot as plt\n",
    "mpl.rcParams['legend.fontsize'] = 10\n",
    "import pandas as pd\n",
    "import itertools\n",
    "\n",
    "# This is commented out\n",
    "#%matplotlib widget\n",
    "\n",
    "# function to print latex\n",
    "def renderListToLatex(e):\n",
    "    latex_rendering = []\n",
    "\n",
    "    for i in range(len(e)):\n",
    "        latex_rendering.append(\"$$\" + sp.latex(e[i]) + \"$$\")\n",
    "    \n",
    "    return(HTML(\"\".join(latex_rendering[0:])))\n",
    "    \n",
    "    \n",
    "def convert3DVectorToSQRTOfQuadrance(v):\n",
    "    return(sp.N(sp.sqrt(sum([v.args[i].args[0]**2 for i in range(len(v.args))]))))\n",
    "\n",
    "\n",
    "\n",
    "def convert3DVectorToComponents(v, scaleChoice):\n",
    "    print(v)\n",
    "    return(sp.parse_expr(str(v.args).replace('i', scaleChoice).replace(\"j\", scaleChoice).replace(\"k\", scaleChoice)))\n",
    "    "
   ]
  },
  {
   "cell_type": "markdown",
   "id": "ab780199-096e-43d4-8b85-86e0b229df96",
   "metadata": {},
   "source": [
    "#### 4: Motion in 2 and 3 dimensions"
   ]
  },
  {
   "cell_type": "code",
   "execution_count": 69,
   "id": "9ae0e69a-10fd-43fb-872d-cbae3cb4b2a6",
   "metadata": {},
   "outputs": [],
   "source": [
    "# Aims: \n",
    "# Calculate position vectors\n",
    "# Solve for displacement in 2 or 3 dimensions\n",
    "# Get velocity vector given position vector as function of time\n",
    "# Calculate average velocity in multiple dimensions"
   ]
  },
  {
   "cell_type": "code",
   "execution_count": 70,
   "id": "97a9aa57-c987-4e1e-984b-88092ccd266a",
   "metadata": {},
   "outputs": [
    {
     "data": {
      "text/html": [
       "$$6770.0 j$$$$4787.11290863293 i - 4787.11290863293 j$$"
      ],
      "text/plain": [
       "<IPython.core.display.HTML object>"
      ]
     },
     "execution_count": 70,
     "metadata": {},
     "output_type": "execute_result"
    }
   ],
   "source": [
    "# 4.1\n",
    "i, j, k = sp.symbols('i, j, k')\n",
    "v1 = sp.N(6770 * i * sp.cos(sp.pi/2) + 6770 * j * sp.sin(sp.pi/2))\n",
    "v2 = sp.N(6770 * i * sp.cos(-sp.pi/4) + 6770 * j * sp.sin(-sp.pi/4))\n",
    "renderListToLatex([v1, v2])"
   ]
  },
  {
   "cell_type": "code",
   "execution_count": 71,
   "id": "e139edfa-3de0-4d3c-a547-66d45dbd8957",
   "metadata": {},
   "outputs": [
    {
     "data": {
      "text/latex": [
       "$\\displaystyle - 4787.11290863293 i + 11557.1129086329 j$"
      ],
      "text/plain": [
       "-4787.11290863293*i + 11557.1129086329*j"
      ]
     },
     "execution_count": 71,
     "metadata": {},
     "output_type": "execute_result"
    }
   ],
   "source": [
    "# Let v3 be the differ\n",
    "v3 = v1 - v2\n",
    "v3"
   ]
  },
  {
   "cell_type": "code",
   "execution_count": 72,
   "id": "cdf85f7b-661b-4bc1-a238-19b5a9c364a0",
   "metadata": {},
   "outputs": [
    {
     "data": {
      "text/latex": [
       "$\\displaystyle 12509.3288702028$"
      ],
      "text/plain": [
       "12509.3288702028"
      ]
     },
     "execution_count": 72,
     "metadata": {},
     "output_type": "execute_result"
    }
   ],
   "source": [
    "v3Distance = sp.sqrt(sum([v3.args[i].args[0]**2 for i in range(len(v3.args))]))\n",
    "v3Distance"
   ]
  },
  {
   "cell_type": "code",
   "execution_count": 73,
   "id": "ad432765-038e-4010-b90a-6818bb13b7b8",
   "metadata": {},
   "outputs": [
    {
     "data": {
      "text/latex": [
       "$\\displaystyle -67.5002798823755$"
      ],
      "text/plain": [
       "-67.5002798823755"
      ]
     },
     "execution_count": 73,
     "metadata": {},
     "output_type": "execute_result"
    }
   ],
   "source": [
    "sp.N(np.arctan(- 11557 / 4787) * (180 / sp.pi))"
   ]
  },
  {
   "cell_type": "code",
   "execution_count": 74,
   "id": "f7e215e4-6ca4-4f5a-8b42-cf3aa699fb2b",
   "metadata": {},
   "outputs": [],
   "source": [
    "# Example 4.2\n",
    "\n",
    "i, j, k = sp.symbols('i, j, k')\n",
    "\n",
    "r1 = 2 * i + j + 3 * k\n",
    "r2 = -i + 3 * k\n",
    "r3 = 4 * i - 2 * j + k\n",
    "r4 = -3 * i + j + 2 * k\n",
    "\n",
    "r5 = r1 + r2 + r3 + r4"
   ]
  },
  {
   "cell_type": "code",
   "execution_count": 75,
   "id": "2eca8e8e-a545-4823-847c-c79312aefdab",
   "metadata": {},
   "outputs": [
    {
     "data": {
      "text/latex": [
       "$\\displaystyle 2 i + 9 k$"
      ],
      "text/plain": [
       "2*i + 9*k"
      ]
     },
     "execution_count": 75,
     "metadata": {},
     "output_type": "execute_result"
    }
   ],
   "source": [
    "r5"
   ]
  },
  {
   "cell_type": "code",
   "execution_count": 76,
   "id": "0ee450f1-3145-4785-aa9e-5af44655b833",
   "metadata": {},
   "outputs": [
    {
     "data": {
      "text/latex": [
       "$\\displaystyle 2$"
      ],
      "text/plain": [
       "2"
      ]
     },
     "execution_count": 76,
     "metadata": {},
     "output_type": "execute_result"
    }
   ],
   "source": [
    "r5.args[0].args[0]"
   ]
  },
  {
   "cell_type": "code",
   "execution_count": 77,
   "id": "64f9bf49-9bce-4504-8b51-eb210c5e45ea",
   "metadata": {},
   "outputs": [
    {
     "data": {
      "text/latex": [
       "$\\displaystyle 9.21954445729289$"
      ],
      "text/plain": [
       "9.21954445729289"
      ]
     },
     "execution_count": 77,
     "metadata": {},
     "output_type": "execute_result"
    }
   ],
   "source": [
    "magnitude = sp.N(sp.sqrt(sum([r5.args[i].args[0]**2 for i in range(len(r5.args))])))\n",
    "magnitude"
   ]
  },
  {
   "cell_type": "code",
   "execution_count": 78,
   "id": "1a72d145-ea80-4c0b-85dc-054866103671",
   "metadata": {},
   "outputs": [
    {
     "data": {
      "text/latex": [
       "$\\displaystyle 77.4711922908485$"
      ],
      "text/plain": [
       "77.4711922908485"
      ]
     },
     "execution_count": 78,
     "metadata": {},
     "output_type": "execute_result"
    }
   ],
   "source": [
    "direction = sp.N(np.arctan(9/ 2) * 180/sp.pi)\n",
    "direction"
   ]
  },
  {
   "cell_type": "code",
   "execution_count": 79,
   "id": "57b252f7-386c-4e1d-89c6-3e35685236d5",
   "metadata": {},
   "outputs": [],
   "source": [
    "# 4.3"
   ]
  },
  {
   "cell_type": "code",
   "execution_count": 80,
   "id": "e430a1a9-640e-4765-a20d-96433143e608",
   "metadata": {},
   "outputs": [
    {
     "data": {
      "text/plain": [
       "(8*i + 3*j + 5*k, 9.89949493661167, 8*i + 3*j + 5*k)"
      ]
     },
     "execution_count": 80,
     "metadata": {},
     "output_type": "execute_result"
    }
   ],
   "source": [
    "i, j, k, t, m, s = sp.symbols('i j k t m s')\n",
    "\n",
    "# Let g1 be a position function\n",
    "g1 = 2 * t**2 * i + (2 + 3 * t) * j + 5 * t * k\n",
    "\n",
    "# Let g2 be the derivative of position function with respect to time\n",
    "# which is called the velocity vector \n",
    "g2 = sp.diff(g1, t)\n",
    "\n",
    "# Let g3 be the instaneous velocity at 2 seconds\n",
    "g3 = g2.subs(t, 2)\n",
    "\n",
    "# Let g4 be the speed of the vector function at 2 seconds\n",
    "# using the convert to sqrt quadrance function\n",
    "g4 = convert3DVectorToSQRTOfQuadrance(g3)\n",
    "\n",
    "# Let g5 be the average velocity between 1s and 3s \n",
    "g5 = (g2.subs(t, 3)+ g2.subs(t, 1)) / 2\n",
    "\n",
    "# Solutions\n",
    "g3, g4, g5"
   ]
  },
  {
   "cell_type": "code",
   "execution_count": 81,
   "id": "2f15ba8f-3f4e-4b44-b88d-0dc2844c7e04",
   "metadata": {},
   "outputs": [
    {
     "data": {
      "text/latex": [
       "$\\displaystyle 24.8394846967484$"
      ],
      "text/plain": [
       "24.8394846967484"
      ]
     },
     "execution_count": 81,
     "metadata": {},
     "output_type": "execute_result"
    }
   ],
   "source": [
    "# 4.4\n",
    "\n",
    "# Create needed variables \n",
    "i, j, k, m, s, t = sp.symbols('i, j, k, m, s, t')\n",
    "\n",
    "# Let g1 be a velocity function \n",
    "g1 = 5 * t * i + t**2 * j - 2 * t**3 * k \n",
    "\n",
    "# Let g2 be the derivative of g1 with respect to t, an accleeration function \n",
    "g2 = sp.diff(g1, t)\n",
    "\n",
    "# Let g3 be the acceleration vector at t = 2\n",
    "g3 = g2.subs(t, 2)\n",
    "g3\n",
    "\n",
    "# Let g4 be the magnitude of the accerlation vector g3\n",
    "g4 = convert3DVectorToSQRTOfQuadrance(g3)\n",
    "g4\n",
    "\n",
    "# Note at t = 2, the partice is travelling at 24.8 m / s^2"
   ]
  },
  {
   "cell_type": "code",
   "execution_count": 82,
   "id": "b8031775-42b2-46e7-903b-f361214e480f",
   "metadata": {},
   "outputs": [
    {
     "data": {
      "text/latex": [
       "$\\displaystyle i \\left(10 - 2 t\\right) + 5 j + 5 k$"
      ],
      "text/plain": [
       "i*(10 - 2*t) + 5*j + 5*k"
      ]
     },
     "execution_count": 82,
     "metadata": {},
     "output_type": "execute_result"
    }
   ],
   "source": [
    "# 4.5\n",
    "# Create needed variables \n",
    "i, j, k, t = sp.symbols('i, k, j, t')\n",
    "\n",
    "# Let g1 be a position function \n",
    "g1 = (10 * t - t**2) * i + 5 * t * j + 5 * t * k\n",
    "\n",
    "# Let g2 be a velocity function of g1\n",
    "g2 = sp.diff(g1, t)\n",
    "\n",
    "\n",
    "# Let g3 be an acceleration function of g2\n",
    "g3 = sp.diff(g2, t)\n",
    "\n",
    "# Note the velocity is linear in time, and constant in the y and z directions\n",
    "# Acceleration is constant and in negative direction\n",
    "\n",
    "g2\n"
   ]
  },
  {
   "cell_type": "code",
   "execution_count": 41,
   "id": "16f7efea-74a8-4829-917c-738747bf7197",
   "metadata": {},
   "outputs": [
    {
     "data": {
      "image/png": "[encoded data removed]",
      "text/plain": [
       "<Figure size 1296x360 with 1 Axes>"
      ]
     },
     "metadata": {
      "needs_background": "light"
     },
     "output_type": "display_data"
    }
   ],
   "source": [
    "g5 = np.arange(0, 10, 1)\n",
    "\n",
    "g6 = [[-t**2 + 10*t, 5*t, 5*t] for t in range(len(g5))]\n",
    "\n",
    "g7 = [g6[i][0] for i in range(len(g6))]\n",
    "g8 =  [g6[i][1] for i in range(len(g6))]\n",
    "g9 =  [g6[i][2] for i in range(len(g6))]\n",
    "\n",
    "\n",
    "fig = plt.figure(figsize=(18, 5))\n",
    "ax1 = fig.add_subplot(projection='3d')\n",
    "\n",
    "p = ax1.scatter(g7, g8, g9, label = \"\")"
   ]
  },
  {
   "cell_type": "code",
   "execution_count": 86,
   "id": "6711d15f-38ce-4874-ba43-8d99d973fb5b",
   "metadata": {},
   "outputs": [],
   "source": [
    "# 4.6"
   ]
  },
  {
   "cell_type": "code",
   "execution_count": null,
   "id": "9274237b-66aa-477c-a169-1106d1f3fca5",
   "metadata": {},
   "outputs": [],
   "source": []
  }
 ],
 "metadata": {
  "kernelspec": {
   "display_name": "Python 3",
   "language": "python",
   "name": "python3"
  },
  "language_info": {
   "codemirror_mode": {
    "name": "ipython",
    "version": 3
   },
   "file_extension": ".py",
   "mimetype": "text/x-python",
   "name": "python",
   "nbconvert_exporter": "python",
   "pygments_lexer": "ipython3",
   "version": "3.9.2"
  }
 },
 "nbformat": 4,
 "nbformat_minor": 5
}
