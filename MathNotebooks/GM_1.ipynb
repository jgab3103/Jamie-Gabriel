{
 "cells": [
  {
   "cell_type": "markdown",
   "metadata": {},
   "source": [
    "<i>STATUS: Draft<i>"
   ]
  },
  {
   "cell_type": "markdown",
   "metadata": {},
   "source": [
    "\n",
    "<div>These are general calculus notes with some related python code</div><br/>\n",
    "\n",
    "\n",
    "<i>Tags: Calculus with vector functions, Tangent, Normal and Binormal Vectors</i>\n",
    "\n",
    "<hr/>"
   ]
  },
  {
   "cell_type": "code",
   "execution_count": 280,
   "metadata": {},
   "outputs": [],
   "source": [
    "import numpy as np\n",
    "import sympy as sp\n",
    "from IPython.display import HTML\n",
    "import ipywidgets as widgets\n",
    "import matplotlib as mpl\n",
    "from mpl_toolkits.mplot3d import Axes3D\n",
    "import matplotlib.pyplot as plt\n",
    "mpl.rcParams['legend.fontsize'] = 10\n",
    "import pandas as pd\n",
    "import itertools\n",
    "\n",
    "# This is commented out\n",
    "#%matplotlib widget\n",
    "\n",
    "# function to print latex\n",
    "def renderListToLatex(e):\n",
    "    latex_rendering = []\n",
    "\n",
    "    for i in range(len(e)):\n",
    "        latex_rendering.append(\"$$\" + sp.latex(e[i]) + \"$$<br/>\")\n",
    "    \n",
    "    return(HTML(\"\".join(latex_rendering[0:])))\n",
    "    "
   ]
  },
  {
   "cell_type": "markdown",
   "metadata": {},
   "source": [
    "#### 1-7 Calculus with Vector Functions\n",
    "\n",
    "Limits behave as expected  \n",
    "\n",
    "$$ \\begin{align*}\\mathop {\\lim }\\limits_{t \\to a} \\vec r\\left( t \\right) & = \\mathop {\\lim }\\limits_{t \\to a} \\left\\langle {f\\left( t \\right),g\\left( t \\right),h\\left( t \\right)} \\right\\rangle \\\\ &  = \\left\\langle {\\mathop {\\lim }\\limits_{t \\to a} f\\left( t \\right),\\mathop {\\lim }\\limits_{t \\to a} g\\left( t \\right),\\mathop {\\lim }\\limits_{t \\to a} h\\left( t \\right)} \\right\\rangle \\\\ &  = \\mathop {\\lim }\\limits_{t \\to a} f\\left( t \\right)\\vec i + \\mathop {\\lim }\\limits_{t \\to a} g\\left( t \\right)\\vec j + \\mathop {\\lim }\\limits_{t \\to a} h\\left( t \\right)\\vec k\\end{align*} $$\n",
    "\n",
    "Derivatives are straight forward \n",
    "\n",
    "$$ \\vec r'\\left( t \\right) = \\left\\langle {f'\\left( t \\right),g'\\left( t \\right),h'\\left( t \\right)} \\right\\rangle  = f'\\left( t \\right)\\vec i + g'\\left( t \\right)\\vec j + h'\\left( t \\right)\\vec k $$\n",
    "\n",
    "Integrals are also straight forward \n",
    "\n",
    "$$  \\begin{align*}\\int{{\\vec r\\left( t \\right)\\,dt}}  & = \\left\\langle {\\int{{f\\left( t \\right)\\,dt}},\\int{{g\\left( t \\right)\\,dt}},\\int{{h\\left( t \\right)\\,dt}}} \\right\\rangle  + \\vec c\\\\ \\int{{\\vec r\\left( t \\right)\\,dt}} & = \\int{{f\\left( t \\right)\\,dt}}\\,\\,\\vec i + \\int{{g\\left( t \\right)\\,dt}}\\,\\,\\vec j + \\int{{h\\left( t \\right)\\,dt}}\\,\\,\\vec k + \\vec c\\end{align*}  $$"
   ]
  },
  {
   "cell_type": "markdown",
   "metadata": {},
   "source": [
    "#### 1-7 Examples"
   ]
  },
  {
   "cell_type": "code",
   "execution_count": 281,
   "metadata": {},
   "outputs": [
    {
     "data": {
      "text/plain": [
       "(1, 3, exp(2))"
      ]
     },
     "execution_count": 281,
     "metadata": {},
     "output_type": "execute_result"
    }
   ],
   "source": [
    "# 1-7.1\n",
    "# Let g1, g2 and g3 be limits of vector components\n",
    "t = sp.symbols('t')\n",
    "\n",
    "g1 = sp.limit(t**3, t, 1)\n",
    "g2 = sp.limit(sp.sin(3 * t - 3) / (t - 1), t, 1)\n",
    "g3 = sp.limit(sp.E ** (2 * t), t, 1)\n",
    "g1, g2, g3"
   ]
  },
  {
   "cell_type": "code",
   "execution_count": 282,
   "metadata": {},
   "outputs": [
    {
     "data": {
      "text/latex": [
       "$\\displaystyle 6 i t^{5} + 2 j \\cos{\\left(2 t \\right)} - \\frac{k}{t + 1}$"
      ],
      "text/plain": [
       "6*i*t**5 + 2*j*cos(2*t) - k/(t + 1)"
      ]
     },
     "execution_count": 282,
     "metadata": {},
     "output_type": "execute_result"
    }
   ],
   "source": [
    "# 1-7.2\n",
    "\n",
    "t, i, j, k = sp.symbols('t, i, j, k')\n",
    "\n",
    "sp.diff(t**6 * i, t) + sp.diff(sp.sin(2 * t) * j, t) - sp.diff(sp.log(t + 1) * k, t)\n",
    "\n"
   ]
  },
  {
   "cell_type": "code",
   "execution_count": 283,
   "metadata": {},
   "outputs": [
    {
     "data": {
      "text/plain": [
       "[sin(t), 6, 2*t**2]"
      ]
     },
     "execution_count": 283,
     "metadata": {},
     "output_type": "execute_result"
    }
   ],
   "source": [
    "# 1-7.3\n",
    "t = sp.symbols('t')\n",
    "\n",
    "[sp.integrate(sp.cos(-t)), sp.integrate(6, i).subs(i, 1), sp.integrate(4 * t)]\n"
   ]
  },
  {
   "cell_type": "code",
   "execution_count": 284,
   "metadata": {},
   "outputs": [
    {
     "data": {
      "text/latex": [
       "$\\displaystyle 2$"
      ],
      "text/plain": [
       "2"
      ]
     },
     "execution_count": 284,
     "metadata": {},
     "output_type": "execute_result"
    }
   ],
   "source": [
    "# 1-7.4\n",
    "\n",
    "sp.integrate(sp.sin(t), (t, 0, 1))\n",
    "\n",
    "sp.integrate(4 * t, (t, 0, 1))\n"
   ]
  },
  {
   "cell_type": "markdown",
   "metadata": {},
   "source": [
    "#### 1-7 Problems"
   ]
  },
  {
   "cell_type": "code",
   "execution_count": 285,
   "metadata": {},
   "outputs": [
    {
     "data": {
      "text/plain": [
       "[1, 4, 1/2]"
      ]
     },
     "execution_count": 285,
     "metadata": {},
     "output_type": "execute_result"
    }
   ],
   "source": [
    "# 1-7.1\n",
    "\n",
    "# Let g1 be a vector funtion in component form\n",
    "t = sp.symbols('t')\n",
    "g1 = [sp.E**(t -1), 4 * t, (t -1) / (t**2 - 1)]\n",
    "\n",
    "# Let g2 be te limit of this function\n",
    "g2 = [sp.limit(i, t, 1) for i in g1]\n",
    "g2\n"
   ]
  },
  {
   "cell_type": "code",
   "execution_count": 286,
   "metadata": {},
   "outputs": [],
   "source": [
    "# 1-7.2\n",
    "\n",
    "# Let g1, g2 and g3 be \n",
    "\n",
    "t, i, j, k = sp.symbols('t, i, j, k')\n",
    "\n",
    "g1 = (1 - sp.E**(t + 2)) / (t**2 + t - 2) * i\n",
    "g2 = j\n",
    "g3 = (t**2 + 6 * t) * k"
   ]
  },
  {
   "cell_type": "code",
   "execution_count": 287,
   "metadata": {},
   "outputs": [
    {
     "data": {
      "text/latex": [
       "$\\displaystyle \\frac{i}{3} + j - 8 k$"
      ],
      "text/plain": [
       "i/3 + j - 8*k"
      ]
     },
     "execution_count": 287,
     "metadata": {},
     "output_type": "execute_result"
    }
   ],
   "source": [
    "sp.limit(g1, t, -2) + sp.limit(g2, t, -2) + sp.limit(g3, t, -2)"
   ]
  },
  {
   "cell_type": "code",
   "execution_count": 288,
   "metadata": {},
   "outputs": [
    {
     "data": {
      "text/plain": [
       "[0, -2, 0]"
      ]
     },
     "execution_count": 288,
     "metadata": {},
     "output_type": "execute_result"
    }
   ],
   "source": [
    "# 1-7.3\n",
    "\n",
    "t = sp.symbols('t')\n",
    "\n",
    "g1 = [1 / t**2, ( 2 * t**2)/ (1 - t - t**2), sp.E**-t]\n",
    "\n",
    "[sp.limit(i, t, sp.oo) for i in g1]"
   ]
  },
  {
   "cell_type": "code",
   "execution_count": 289,
   "metadata": {},
   "outputs": [
    {
     "data": {
      "text/latex": [
       "$\\displaystyle 3 i t^{2} + 2 j e^{2 t} - k \\sin{\\left(t \\right)}$"
      ],
      "text/plain": [
       "3*i*t**2 + 2*j*exp(2*t) - k*sin(t)"
      ]
     },
     "execution_count": 289,
     "metadata": {},
     "output_type": "execute_result"
    }
   ],
   "source": [
    "# 1-7.4\n",
    "\n",
    "t, i, j, k = sp.symbols('t, i, j, k')\n",
    "\n",
    "g1 = (t**3 - 1) * i\n",
    "g2 = sp.E**(2 * t) * j\n",
    "g3 = sp.cos(t) * k\n",
    "\n",
    "g4 = sp.diff(g1, t) + sp.diff(g2, t) + sp.diff(g3, t)\n",
    "g4"
   ]
  },
  {
   "cell_type": "code",
   "execution_count": 290,
   "metadata": {},
   "outputs": [],
   "source": [
    "# 1-7.5\n",
    "\n",
    "t, d = sp.symbols('t d')\n",
    "# Let g1 be a component vector \n",
    "g1 = [sp.log(t**2 + 1), t * sp.E**-t, 4]\n",
    "\n",
    "# Let g2 be a the differentials\n",
    "g2 = [sp.diff(i, t) for i in g1]"
   ]
  },
  {
   "cell_type": "code",
   "execution_count": 291,
   "metadata": {},
   "outputs": [
    {
     "data": {
      "text/plain": [
       "[1/(t - 1) - (t + 1)/(t - 1)**2, 4*tan(4*t)**2 + 4, 2*sin(t)*cos(t)]"
      ]
     },
     "execution_count": 291,
     "metadata": {},
     "output_type": "execute_result"
    }
   ],
   "source": [
    "# 1-7.6\n",
    "\n",
    "t = sp.symbols('t')\n",
    "\n",
    "g1 = [(t + 1) / (t - 1), sp.tan(4 * t), sp.sin(t)**2]\n",
    "\n",
    "g2 = [sp.diff(i, t) for i in g1]\n",
    "\n",
    "g2"
   ]
  },
  {
   "cell_type": "code",
   "execution_count": 292,
   "metadata": {},
   "outputs": [
    {
     "data": {
      "text/latex": [
       "$\\displaystyle \\frac{i t^{4}}{4} - j \\log{\\left(t^{2} + 1 \\right)} + k \\left(\\frac{t}{2} + \\frac{\\sin{\\left(3 t \\right)} \\cos{\\left(3 t \\right)}}{6}\\right)$"
      ],
      "text/plain": [
       "i*t**4/4 - j*log(t**2 + 1) + k*(t/2 + sin(3*t)*cos(3*t)/6)"
      ]
     },
     "execution_count": 292,
     "metadata": {},
     "output_type": "execute_result"
    }
   ],
   "source": [
    "# 1-7.7\n",
    "\n",
    "t, i, j, k = sp.symbols('t, i j, k')\n",
    "\n",
    "g1 = t**3 * i\n",
    "g2 = ((2 * t) / (t**2 + 1)) * j\n",
    "g3 = (sp.cos(3 * t)**2) * k\n",
    "\n",
    "g4 = sp.integrate(g1, t) - sp.integrate(g2, t) + sp.integrate(g3, t)\n",
    "g4"
   ]
  },
  {
   "cell_type": "code",
   "execution_count": 293,
   "metadata": {},
   "outputs": [
    {
     "data": {
      "text/plain": [
       "[18, 12, 3*exp(-2)/4 + 3*exp(4)/4]"
      ]
     },
     "execution_count": 293,
     "metadata": {},
     "output_type": "execute_result"
    }
   ],
   "source": [
    "# 1-7.8\n",
    "\n",
    "t = sp.symbols('t')\n",
    "\n",
    "g1 = [6, 6 * t**2 - 4 * t, t * sp.E**(2 * t)]\n",
    "\n",
    "g2 = [sp.integrate(i, (t, -1, 2)) for i in g1]\n",
    "g2"
   ]
  },
  {
   "cell_type": "code",
   "execution_count": 294,
   "metadata": {},
   "outputs": [
    {
     "data": {
      "text/plain": [
       "[-sin(t**2 - 2*t)/2, sin(t)**2/2, sin(4*t)/(4*cos(4*t))]"
      ]
     },
     "execution_count": 294,
     "metadata": {},
     "output_type": "execute_result"
    }
   ],
   "source": [
    "# 1-7.8 \n",
    "\n",
    "t = sp.symbols('t')\n",
    "\n",
    "g1 = [(1 - t) * sp.cos(t**2 - (2 * t)), sp.cos(t) * sp.sin(t), sp.sec(4 * t)**2]\n",
    "g2 = [sp.integrate(i, t) for i in g1]\n",
    "g2"
   ]
  },
  {
   "cell_type": "markdown",
   "metadata": {},
   "source": [
    "#### 1-8 Tangent, Normal and Binormal Vectors\n",
    "\n",
    "Given the vector function, $r(t)$, we call $r'(t)$ the tangent vector provided it exits and provided $ \\vec r'\\left( t \\right) \\ne \\vec 0 $\n",
    "\n",
    "The Unit Tangent Vector is defined as: \n",
    "\n",
    "$$ \\vec T\\left( t \\right) = \\frac{{\\vec r'\\left( t \\right)}}{{\\left\\| {\\vec r'\\left( t \\right)} \\right\\|}} $$\n",
    "\n",
    "Note that this the dividing the by the norm, or length\n",
    "\n",
    "Note the unit normal vector which is perpendiculat to the tangent vector (just deriv to normal)\n",
    "\n",
    "$$ \\vec N\\left( t \\right) = \\frac{{\\vec T'\\left( t \\right)}}{{\\left\\| {\\vec T'\\left( t \\right)} \\right\\|}} $$\n",
    "\n",
    "Note the binormal vector also: \n",
    "\n",
    "$$  \\vec B\\left( t \\right) = \\vec T\\left( t \\right) \\times \\vec N\\left( t \\right) $$"
   ]
  },
  {
   "cell_type": "markdown",
   "metadata": {},
   "source": [
    "#### 1-8 Examples"
   ]
  },
  {
   "cell_type": "code",
   "execution_count": 295,
   "metadata": {},
   "outputs": [
    {
     "data": {
      "text/latex": [
       "$\\displaystyle \\frac{2 i}{\\sqrt{4 \\sin^{2}{\\left(t \\right)} + 4 \\cos^{2}{\\left(t \\right)} + 4}} - \\frac{2 j \\sin{\\left(t \\right)}}{\\sqrt{4 \\sin^{2}{\\left(t \\right)} + 4 \\cos^{2}{\\left(t \\right)} + 4}} - \\frac{2 k \\cos{\\left(t \\right)}}{\\sqrt{4 \\sin^{2}{\\left(t \\right)} + 4 \\cos^{2}{\\left(t \\right)} + 4}}$"
      ],
      "text/plain": [
       "2*i/sqrt(4*sin(t)**2 + 4*cos(t)**2 + 4) - 2*j*sin(t)/sqrt(4*sin(t)**2 + 4*cos(t)**2 + 4) - 2*k*cos(t)/sqrt(4*sin(t)**2 + 4*cos(t)**2 + 4)"
      ]
     },
     "execution_count": 295,
     "metadata": {},
     "output_type": "execute_result"
    }
   ],
   "source": [
    "# 1-8.1\n",
    "\n",
    "t, i, j, k = sp.symbols('t i j k')\n",
    "\n",
    "g1 = 2 * t * i + 2 * sp.cos(t) * j - 2 * sp.sin(t) * k\n",
    "\n",
    "g2 = sp.diff(g1, t)\n",
    "\n",
    "# Create norm\n",
    "g3 =  g2.subs({i:1, j:1, k:1})\n",
    "\n",
    "g4 = sp.sqrt(sum([i**2 for i in g3.args]))\n",
    "\n",
    "\n",
    "sp.expand(g2 / g4)"
   ]
  },
  {
   "cell_type": "code",
   "execution_count": 296,
   "metadata": {},
   "outputs": [
    {
     "data": {
      "text/latex": [
       "$\\displaystyle \\frac{3 \\left(2 \\pi i + 3 j - 3 \\sqrt{3} k\\right)}{4 \\left(9 + \\pi^{2}\\right)}$"
      ],
      "text/plain": [
       "3*(2*pi*i + 3*j - 3*sqrt(3)*k)/(4*(9 + pi**2))"
      ]
     },
     "execution_count": 296,
     "metadata": {},
     "output_type": "execute_result"
    }
   ],
   "source": [
    "# 1-8.2\n",
    "\n",
    "t, i, j, k = sp.symbols('t, i, j, k')\n",
    "\n",
    "g1 = (t**2 * i) + (2 * sp.sin(t)) * j + (2 * sp.cos(t)) * k\n",
    "\n",
    "# Let g2 be the tangent vector \n",
    "g2 = sp.diff(g1, t)\n",
    "\n",
    "# let g4 be the length of the tangent vector. Remove vector symbols\n",
    "g3 = list(g2.subs({i:1, j:1, k:1}).args)\n",
    "g4 = np.dot(g3, g3)\n",
    "\n",
    "# Let g5 be the unit tangent vector\n",
    "g5 = g2 / g4\n",
    "\n",
    "sp.simplify(sp.expand(sp.collect(g5, (i, j, k))).subs(t, sp.pi / 3))"
   ]
  },
  {
   "cell_type": "code",
   "execution_count": 297,
   "metadata": {},
   "outputs": [
    {
     "data": {
      "text/latex": [
       "$\\displaystyle \\frac{\\sqrt{10} \\left(- 3 i + j \\cos{\\left(t \\right)} - k \\sin{\\left(t \\right)}\\right)}{10}$"
      ],
      "text/plain": [
       "sqrt(10)*(-3*i + j*cos(t) - k*sin(t))/10"
      ]
     },
     "execution_count": 297,
     "metadata": {},
     "output_type": "execute_result"
    }
   ],
   "source": [
    "# 1-8.3\n",
    "\n",
    "t, i, j, k = sp.symbols('t, i, j k')\n",
    "\n",
    "# Let g1 be vector components\n",
    "\n",
    "g1 = np.array([t, 3 * sp.sin(t), 3 * sp.cos(t)])\n",
    "\n",
    "# Let g2 be a vector of differentiated components \n",
    "g2 = [sp.diff(i, t) for i in g1]\n",
    "\n",
    "# Let g3 be the norm of the differentiated vector\n",
    "g3 = sp.simplify(sp.sqrt(np.dot(g2, g2)))\n",
    "\n",
    "# Let g4 be the unit normal vector \n",
    "g4 = [i / g3 for i in g2]\n",
    "g4\n",
    "\n",
    "# Let g5 the derivative of the unit tangent\n",
    "g5 = [sp.diff(i, t) for i in g4]\n",
    "\n",
    "# Let g6 be the norm\n",
    "g6 = sp.simplify(sp.sqrt(np.dot(g5, g5)))\n",
    "\n",
    "# let g7 be the unit norm vector\n",
    "\n",
    "g7 = [i / g6 for i in g5]\n",
    "g7\n",
    "\n",
    "# Let g8 be the determinant / cross product which is the binormal\n",
    "# vector \n",
    "sp.simplify(sp.det(sp.Matrix([[i, j, k], g4, g7])))\n"
   ]
  },
  {
   "cell_type": "markdown",
   "metadata": {},
   "source": [
    "#### 1-8: Problems"
   ]
  },
  {
   "cell_type": "code",
   "execution_count": 298,
   "metadata": {},
   "outputs": [
    {
     "data": {
      "text/html": [
       "$$\\frac{2 t}{\\sqrt{9 t^{4} + 4 t^{2} + 1}}$$<br/>$$- \\frac{1}{\\sqrt{9 t^{4} + 4 t^{2} + 1}}$$<br/>$$\\frac{3 t^{2}}{\\sqrt{9 t^{4} + 4 t^{2} + 1}}$$<br/>"
      ],
      "text/plain": [
       "<IPython.core.display.HTML object>"
      ]
     },
     "execution_count": 298,
     "metadata": {},
     "output_type": "execute_result"
    }
   ],
   "source": [
    "# 1-8.1\n",
    "\n",
    "t = sp.symbols('t')\n",
    "g1 = [t**2 + 1, 3 - t, t**3]\n",
    "\n",
    "# Let the g2 the derivative of g1\n",
    "g2 = [sp.diff(i, t) for i in g1]\n",
    "\n",
    "\n",
    "# let g3 be the norm of the derivative of g2\n",
    "g3 = sp.sqrt(np.dot(g2, g2))\n",
    "\n",
    "\n",
    "# Let g4 be a unit normal vector the vector g1\n",
    "g4 = [i / g3 for i in g2]\n",
    "\n",
    "renderListToLatex(g4)"
   ]
  },
  {
   "cell_type": "code",
   "execution_count": 299,
   "metadata": {},
   "outputs": [],
   "source": [
    "# 1-8.2"
   ]
  },
  {
   "cell_type": "code",
   "execution_count": 300,
   "metadata": {},
   "outputs": [
    {
     "data": {
      "text/html": [
       "$$\\frac{2 t e^{2 t} + e^{2 t}}{\\sqrt{4 t^{2} + \\left(2 t + 1\\right)^{2} e^{4 t} + 4 e^{4 t}}}$$<br/>$$- \\frac{2 t}{\\sqrt{4 t^{2} + \\left(2 t + 1\\right)^{2} e^{4 t} + 4 e^{4 t}}}$$<br/>$$- \\frac{2 e^{2 t}}{\\sqrt{4 t^{2} + \\left(2 t + 1\\right)^{2} e^{4 t} + 4 e^{4 t}}}$$<br/>"
      ],
      "text/plain": [
       "<IPython.core.display.HTML object>"
      ]
     },
     "execution_count": 300,
     "metadata": {},
     "output_type": "execute_result"
    }
   ],
   "source": [
    "t = sp.symbols('t')\n",
    "\n",
    "# Let g1 be a vector \n",
    "g1 = [t * sp.E**(2 * t), (2 - t**2), - sp.E**(2 * t)]\n",
    "\n",
    "# Let g2 be the derivative of g1\n",
    "g2 = [sp.diff(i, t) for i in g1]\n",
    "\n",
    "# Let g3 be the norm of g2\n",
    "g3 = sp.simplify(sp.sqrt(np.dot(g2, g2)))\n",
    "\n",
    "# Let g4 be the unit tangent vector of g1\n",
    "g4 = [i / g3 for i in g2]\n",
    "renderListToLatex(g4)\n",
    "\n"
   ]
  },
  {
   "cell_type": "code",
   "execution_count": 336,
   "metadata": {},
   "outputs": [
    {
     "data": {
      "text/plain": [
       "array([1, 12, 3*pi**2 + pi**3], dtype=object)"
      ]
     },
     "execution_count": 336,
     "metadata": {},
     "output_type": "execute_result"
    }
   ],
   "source": [
    "# 1-8.3\n",
    "\n",
    "t = sp.symbols('t')\n",
    "\n",
    "# Let g1 be a vector \n",
    "g1 = [sp.cos(4 * t), 3 * sp.sin(4 * t), t**3]\n",
    "\n",
    "# Let g2 be the derivative of g1\n",
    "g2 = [sp.diff(i, t) for i in g1]\n",
    "\n",
    "# Let g3 be tangent vector and the value of pi\n",
    "g3 = [g2[x].subs(t, sp.pi) for x in range(len(g2))]\n",
    "\n",
    "# Let g4 be a point on the vector function at pi\n",
    "g4 = [g1[x].subs(t, sp.pi) for x in range(len(g1))]\n",
    "\n",
    "# Convert to a parametrised tangent line \n",
    "g5 = np.dot(g4, [i, j, k])\n",
    "g6 = np.dot(g3, [i, j, k])\n",
    "\n",
    "g7 = sp.factor(g5 +t * g6, (i, j, k))\n",
    "\n",
    "# Alternatively write down as vector \n",
    "g8 = np.array(g3) + np.array(g4)\n",
    "g8"
   ]
  },
  {
   "cell_type": "code",
   "execution_count": 342,
   "metadata": {},
   "outputs": [
    {
     "data": {
      "text/plain": [
       "[-7, -3, -1]"
      ]
     },
     "execution_count": 342,
     "metadata": {},
     "output_type": "execute_result"
    }
   ],
   "source": [
    "# 1-8.4\n",
    "t = sp.symbols('t')\n",
    "\n",
    "# Let g1 be a vector function \n",
    "g1 = [7 * sp.E**(2 - t), 16 / t**3, 5 - t]\n",
    "\n",
    "# Let g2 be the derivative of g1\n",
    "g2 = [sp.diff(i, t) for i in g1]\n",
    "\n",
    "# Let g3 be a point at the vector function at t\n",
    "\n",
    "g3 = [g2[i].subs(t, 2) for i in range(len(g2))]\n",
    "\n",
    "g3\n",
    "\n",
    "#### DOUBLE CHECK THE LAST 2"
   ]
  },
  {
   "cell_type": "code",
   "execution_count": 354,
   "metadata": {},
   "outputs": [
    {
     "data": {
      "text/latex": [
       "$\\displaystyle i t + 12 j + \\pi^{3} k t + 3 \\pi^{2} k$"
      ],
      "text/plain": [
       "i*t + 12*j + pi**3*k*t + 3*pi**2*k"
      ]
     },
     "execution_count": 354,
     "metadata": {},
     "output_type": "execute_result"
    }
   ],
   "source": [
    "# 1-8.3\n",
    "t = sp.symbols('t')\n",
    "\n",
    "# Let g1 be a vector function\n",
    "g1 = [sp.cos(4 * t), 3 * sp.sin(4 * t), t**3]\n",
    "\n",
    "\n",
    "# Let g2 be the tangent vector to g1\n",
    "g2 = [sp.diff(i, t) for i in g1]\n",
    "\n",
    "\n",
    "# Let g3 be a a point on the vector function where it is evaluated \n",
    "# at pi\n",
    "\n",
    "g3 = [g1[x].subs(t, sp.pi) for x in range(len(g1))]\n",
    "\n",
    "\n",
    "# Let g4 be a tangent vector to the vector functin at pi\n",
    "\n",
    "g4 = [g2[x].subs(t, sp.pi) for x in range(len(g2))]\n",
    "g4\n",
    "\n",
    "# Recall that with a point and a aline it is possible create \n",
    "# parametrized tangent line \n",
    "g5 = np.dot(g4, [i, j, k])\n",
    "g6 = np.dot(g3, [i, j, k])\n",
    "\n",
    "sp.factor(g5 + t * g6)"
   ]
  },
  {
   "cell_type": "code",
   "execution_count": 372,
   "metadata": {},
   "outputs": [
    {
     "data": {
      "text/html": [
       "$$7 - 7 t$$<br/>$$2 - 3 t$$<br/>$$3 - t$$<br/>"
      ],
      "text/plain": [
       "<IPython.core.display.HTML object>"
      ]
     },
     "execution_count": 372,
     "metadata": {},
     "output_type": "execute_result"
    }
   ],
   "source": [
    "# 1-8.4\n",
    "\n",
    "t, i, j, k = sp.symbols('t i j k')\n",
    "\n",
    "# Let g1 be a vector function \n",
    "g1 = [7 * sp.E**(2 - t), 16 / t**3, 5 - t]\n",
    "\n",
    "# Let g2 be the tangent vector of g1\n",
    "g2 = [sp.diff(i, t) for i in g1]\n",
    "\n",
    "\n",
    "# Let g3 be a point on the vector fucntion g1\n",
    "g3 = [g1[i].subs(t, 2) for i in range(len(g1))]\n",
    "\n",
    "# Let g4 be a vector of g2 evaluated at 2\n",
    "g4 = [g2[i].subs(t, 2) for i in range(len(g1))]\n",
    "\n",
    "# Add i, j, k to g3 and g4 prior to conversion to parameterised form\n",
    "g5 = np.array(g3) + t * np.array(g4)\n",
    "\n",
    "renderListToLatex(g5)\n",
    "\n"
   ]
  },
  {
   "cell_type": "code",
   "execution_count": 374,
   "metadata": {},
   "outputs": [],
   "source": [
    "#1-8.5\n",
    "\n"
   ]
  },
  {
   "cell_type": "code",
   "execution_count": null,
   "metadata": {},
   "outputs": [],
   "source": []
  }
 ],
 "metadata": {
  "kernelspec": {
   "display_name": "Python 3",
   "language": "python",
   "name": "python3"
  },
  "language_info": {
   "codemirror_mode": {
    "name": "ipython",
    "version": 3
   },
   "file_extension": ".py",
   "mimetype": "text/x-python",
   "name": "python",
   "nbconvert_exporter": "python",
   "pygments_lexer": "ipython3",
   "version": "3.9.2"
  }
 },
 "nbformat": 4,
 "nbformat_minor": 4
}
