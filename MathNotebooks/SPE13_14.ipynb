{
 "cells": [
  {
   "cell_type": "code",
   "execution_count": 3,
   "metadata": {},
   "outputs": [],
   "source": [
    "import numpy as np\n",
    "import sympy as sp\n",
    "import pickle\n",
    "from IPython.display import HTML\n",
    "import ipywidgets as widgets\n",
    "import matplotlib as mpl\n",
    "from mpl_toolkits.mplot3d import Axes3D\n",
    "import matplotlib.pyplot as plt\n",
    "mpl.rcParams['legend.fontsize'] = 10\n",
    "import pandas as pd\n",
    "import itertools\n",
    "pd.set_option('display.max_colwidth', None)\n",
    "\n",
    "#\n",
    "\n",
    "# function to print latex\n",
    "def renderListToLatex(e):\n",
    "    latex_rendering = []\n",
    "\n",
    "    for i in range(len(e)):\n",
    "        latex_rendering.append(\"$$\" + sp.latex(e[i]) + \"$$<br/>\")\n",
    "    \n",
    "    return(HTML(\"\".join(latex_rendering[0:])))"
   ]
  },
  {
   "cell_type": "markdown",
   "metadata": {},
   "source": [
    "### Solving Polynomial Equations (13 & 14)"
   ]
  },
  {
   "cell_type": "markdown",
   "metadata": {},
   "source": [
    "<hr/>\n",
    "\n",
    "<b>Aim</b>: Create a BiTri Conjecture for Catalan and Fuss-Catalan numbers\n",
    "\n",
    "<hr/>"
   ]
  },
  {
   "cell_type": "markdown",
   "metadata": {},
   "source": [
    "Observe: a solution to a general cubic equation\n",
    "\n",
    "$$C(m_2, m_3)  \\equiv(-1)^{m_3 + 1} \\frac{(2 m_{2} + 3 m_{3})!}{(1 + m_{2} + 2 m_{3})!m_2!m_3!} \\frac{c_0^{1 + m_{2} + 2 m_{3}} c_2^{m_2} c_3^{m_3} }{c_1^{2 m_{2} + 3 m_{3} + 1}}$$\n"
   ]
  },
  {
   "cell_type": "markdown",
   "metadata": {},
   "source": [
    "Let $F1$ for a function that implements $C$."
   ]
  },
  {
   "cell_type": "code",
   "execution_count": 6,
   "metadata": {},
   "outputs": [],
   "source": [
    "def F1(m2, m3, returnCoefficientsOnly = False, returnCoefficientsOnlyWithoutSigns = True, returnCoefficientsAsFactorialStrings = False):\n",
    "    c_0, c_1, c_2, c_3 = sp.symbols('c_0, c_1, c_2, c_3')\n",
    "    s1 = (-1)**(m3 + 1)\n",
    "    s2 = sp.factorial(2 * m2 + 3 * m3)\n",
    "    s3 = sp.factorial(1 + m2 + 2 * m3) * sp.factorial(m2) * sp.factorial(m3)\n",
    "\n",
    "    \n",
    "    s4 = c_0**(1 + m2 + 2 * m3) * c_2**m2 *c_3**m3\n",
    "    s5 = c_1**(2 * m2 + 3 * m3 + 1)\n",
    "    \n",
    "    s7 = str(2 * m2 + 3 * m3) + \"!\"\n",
    "    s8 = str(1 + m2 + 2 * m3) + \"!\" + str(m2) + \"!\"  + str(m3) + \"!\"\n",
    "    \n",
    "    if returnCoefficientsOnly:\n",
    "        s6 = s1 * (s2 / s3)\n",
    "    elif returnCoefficientsOnlyWithoutSigns:\n",
    "        s6 = (s2 / s3)\n",
    "    elif returnCoefficientsAsFactorialStrings:\n",
    "        s6 = str(s7 + \" | \" + s8)\n",
    "    else:\n",
    "        s6 = s1 * (s2 / s3) * (s4 / s5)\n",
    "\n",
    "    return(s6)"
   ]
  },
  {
   "cell_type": "markdown",
   "metadata": {},
   "source": [
    "Let $P3$ be a matrix of values retlating the part of the formula that calculates unsigned coefficients: $ \\frac{(2 m_{2} + 3 m_{3})!}{(1 + m_{2} + 2 m_{3})!m_2!m_3!}$ "
   ]
  },
  {
   "cell_type": "code",
   "execution_count": 7,
   "metadata": {},
   "outputs": [
    {
     "data": {
      "text/latex": [
       "$\\displaystyle \\left[\\begin{matrix}1 & 1 & 3 & 12 & 55 & 273 & 1428 & 7752\\\\1 & 5 & 28 & 165 & 1001 & 6188 & 38760 & 245157\\\\2 & 21 & 180 & 1430 & 10920 & 81396 & 596904 & 4326300\\\\5 & 84 & 990 & 10010 & 92820 & 813960 & 6864396 & 56241900\\\\14 & 330 & 5005 & 61880 & 678300 & 6864396 & 65615550 & 600900300\\\\42 & 1287 & 24024 & 352716 & 4476780 & 51482970 & 551170620 & 5588372790\\\\132 & 5005 & 111384 & 1899240 & 27457584 & 354323970 & 4206302100 & 46835886240\\\\429 & 19448 & 503880 & 9806280 & 159352050 & 2283421140 & 29804654880 & 361913666400\\end{matrix}\\right]$"
      ],
      "text/plain": [
       "Matrix([\n",
       "[  1,     1,      3,      12,        55,        273,        1428,         7752],\n",
       "[  1,     5,     28,     165,      1001,       6188,       38760,       245157],\n",
       "[  2,    21,    180,    1430,     10920,      81396,      596904,      4326300],\n",
       "[  5,    84,    990,   10010,     92820,     813960,     6864396,     56241900],\n",
       "[ 14,   330,   5005,   61880,    678300,    6864396,    65615550,    600900300],\n",
       "[ 42,  1287,  24024,  352716,   4476780,   51482970,   551170620,   5588372790],\n",
       "[132,  5005, 111384, 1899240,  27457584,  354323970,  4206302100,  46835886240],\n",
       "[429, 19448, 503880, 9806280, 159352050, 2283421140, 29804654880, 361913666400]])"
      ]
     },
     "execution_count": 7,
     "metadata": {},
     "output_type": "execute_result"
    }
   ],
   "source": [
    "P1 = np.arange(8)\n",
    "P2 = np.array([[F1(j, i) for i in P1] for j in P1])\n",
    "P3 = sp.Matrix(P2)\n",
    "P3"
   ]
  },
  {
   "cell_type": "markdown",
   "metadata": {},
   "source": [
    "Let $D$ be a formula that returns only the coefficients from $C$ (note the change of $m_2, m_3$ to $m, n$):\n",
    "\n",
    "$$D(m, n) \\equiv  \\frac{(2 m + 3 n)!}{(1 + m + 2 n)!m!n!} $$\n",
    "\n"
   ]
  },
  {
   "cell_type": "markdown",
   "metadata": {},
   "source": [
    "Observe: It has been shown in previous notebooks that that $D$ generates numbers which relate to the number of ways of mapping triangles and quadrilaterals into polygons of different sizes. \n",
    "\n",
    "Obseve The numbers generated from $D$ arise from only considering non-interior vertices (i.e. where a polygon is subdivided into as many different combinations of non overlapping triangles and quadrilaterals), and returns a natural number. \n",
    "\n",
    "Observe: The formula for $D$ calculates a submultinomial coefficient (defined in a previous notebook) based on $m$ and $n$.\n",
    "\n",
    "Observe: It was seen in previous noteboks that the numbers generated from the formula $\\frac{(2 m + 3 n)!}{(1 + m + 2 n)!m!n!}$ can be related to polygon and triangle subdivisions for n-gons with $(2 + m + 2n)$ sides."
   ]
  },
  {
   "cell_type": "markdown",
   "metadata": {},
   "source": [
    "Let $F2$ be a function that implements $(2 + m + 2n)$. which generates the number of sides of different polygons."
   ]
  },
  {
   "cell_type": "code",
   "execution_count": 10,
   "metadata": {},
   "outputs": [],
   "source": [
    "def F2(m, n):\n",
    "    return(2 + m + 2 * n)"
   ]
  },
  {
   "cell_type": "markdown",
   "metadata": {},
   "source": [
    "Let $P6$ be a matrix created from $F2$. Consider $P6$ in conjunction with $P3$"
   ]
  },
  {
   "cell_type": "code",
   "execution_count": 13,
   "metadata": {},
   "outputs": [
    {
     "data": {
      "text/latex": [
       "$\\displaystyle \\left[\\begin{matrix}2 & 4 & 6 & 8 & 10 & 12 & 14 & 16\\\\3 & 5 & 7 & 9 & 11 & 13 & 15 & 17\\\\4 & 6 & 8 & 10 & 12 & 14 & 16 & 18\\\\5 & 7 & 9 & 11 & 13 & 15 & 17 & 19\\\\6 & 8 & 10 & 12 & 14 & 16 & 18 & 20\\\\7 & 9 & 11 & 13 & 15 & 17 & 19 & 21\\\\8 & 10 & 12 & 14 & 16 & 18 & 20 & 22\\\\9 & 11 & 13 & 15 & 17 & 19 & 21 & 23\\end{matrix}\\right]$"
      ],
      "text/plain": [
       "Matrix([\n",
       "[2,  4,  6,  8, 10, 12, 14, 16],\n",
       "[3,  5,  7,  9, 11, 13, 15, 17],\n",
       "[4,  6,  8, 10, 12, 14, 16, 18],\n",
       "[5,  7,  9, 11, 13, 15, 17, 19],\n",
       "[6,  8, 10, 12, 14, 16, 18, 20],\n",
       "[7,  9, 11, 13, 15, 17, 19, 21],\n",
       "[8, 10, 12, 14, 16, 18, 20, 22],\n",
       "[9, 11, 13, 15, 17, 19, 21, 23]])"
      ]
     },
     "execution_count": 13,
     "metadata": {},
     "output_type": "execute_result"
    }
   ],
   "source": [
    "P4 = np.arange(8)\n",
    "P5 = np.array([[F2(j, i) for i in P4] for j in P4])\n",
    "P6 = sp.Matrix(P5)\n",
    "P6"
   ]
  },
  {
   "cell_type": "code",
   "execution_count": 14,
   "metadata": {},
   "outputs": [
    {
     "data": {
      "text/latex": [
       "$\\displaystyle \\left[\\begin{matrix}1 & 1 & 3 & 12 & 55 & 273 & 1428 & 7752\\\\1 & 5 & 28 & 165 & 1001 & 6188 & 38760 & 245157\\\\2 & 21 & 180 & 1430 & 10920 & 81396 & 596904 & 4326300\\\\5 & 84 & 990 & 10010 & 92820 & 813960 & 6864396 & 56241900\\\\14 & 330 & 5005 & 61880 & 678300 & 6864396 & 65615550 & 600900300\\\\42 & 1287 & 24024 & 352716 & 4476780 & 51482970 & 551170620 & 5588372790\\\\132 & 5005 & 111384 & 1899240 & 27457584 & 354323970 & 4206302100 & 46835886240\\\\429 & 19448 & 503880 & 9806280 & 159352050 & 2283421140 & 29804654880 & 361913666400\\end{matrix}\\right]$"
      ],
      "text/plain": [
       "Matrix([\n",
       "[  1,     1,      3,      12,        55,        273,        1428,         7752],\n",
       "[  1,     5,     28,     165,      1001,       6188,       38760,       245157],\n",
       "[  2,    21,    180,    1430,     10920,      81396,      596904,      4326300],\n",
       "[  5,    84,    990,   10010,     92820,     813960,     6864396,     56241900],\n",
       "[ 14,   330,   5005,   61880,    678300,    6864396,    65615550,    600900300],\n",
       "[ 42,  1287,  24024,  352716,   4476780,   51482970,   551170620,   5588372790],\n",
       "[132,  5005, 111384, 1899240,  27457584,  354323970,  4206302100,  46835886240],\n",
       "[429, 19448, 503880, 9806280, 159352050, 2283421140, 29804654880, 361913666400]])"
      ]
     },
     "execution_count": 14,
     "metadata": {},
     "output_type": "execute_result"
    }
   ],
   "source": [
    "P3"
   ]
  },
  {
   "cell_type": "markdown",
   "metadata": {},
   "source": [
    "Observe: the integers for each entry in $P6$ who that number of ways that different n-gons can be subdivided. \n",
    "\n",
    "Observe: only the first column and first row are being considered\n",
    "\n",
    "Example: consider the following:\n",
    "\n",
    "* There are 2 ways to subdivde a 4-gon into triangles (relating to the $(2, 0)$ entry in $P3$ and $P6$) \n",
    "* There are 5 ways to subdivide a 5-gon into triangles (relating to the $(3, 0)$ entry in $P3$ and $P6$) \n",
    "* There are 14 ways to subdivide a 6-gon into triangles (relating to the $(4, 0)$ entry in $P3$ and $P6$) \n",
    "* There are 12 ways to subdivide an 8-gon into quadrilaterals and triangles (relating to the $(0, 3)$ entry in $P3$ and $P6$) \n",
    "\n",
    "\n",
    "\n"
   ]
  },
  {
   "cell_type": "markdown",
   "metadata": {},
   "source": [
    "<hr/>\n",
    "<b>Aim</b> Provide a more general conjecture that can explain the relationship between the numbers returned from C and the number of ways to counts sides of n-gons\n",
    "\n",
    "<hr/>"
   ]
  },
  {
   "cell_type": "markdown",
   "metadata": {},
   "source": [
    "<b>Conjecture:</b> BiTri Numbers\n",
    "\n",
    "The <b>BiTri Number</b>,  $C(m, n)$ counts the number of diagonal subdivisions of a $(2 + m + 2n)$ sided polygon into $m$ triangles and $n$ quadrilaterals. \n",
    "\n",
    "$C(m, n)$ can be generated by the formula $$D(m, n) =  \\frac{(2 m + 3 n)!}{(1 + m + 2 n)!m!n!} $$\n",
    "\n",
    "\n",
    "Observe: the choice of name arises due to binary and ternery tree relationships that appear in Catalan and Fuss-Catalan numbers and have prominence in Computer Science. \n"
   ]
  },
  {
   "cell_type": "markdown",
   "metadata": {},
   "source": [
    "<hr/>\n",
    "\n",
    "<b>Aim</b>: investigate possible recursive relations between columns and rows in C(m,n) using the BiTri Conjecture \n",
    "<hr/>"
   ]
  },
  {
   "cell_type": "markdown",
   "metadata": {},
   "source": [
    "Let $P7$ be $F1$ evaluated at $(m, 0$)"
   ]
  },
  {
   "cell_type": "code",
   "execution_count": 16,
   "metadata": {},
   "outputs": [
    {
     "data": {
      "text/latex": [
       "$\\displaystyle \\frac{\\left(2 m\\right)!}{m! \\left(m + 1\\right)!}$"
      ],
      "text/plain": [
       "factorial(2*m)/(factorial(m)*factorial(m + 1))"
      ]
     },
     "execution_count": 16,
     "metadata": {},
     "output_type": "execute_result"
    }
   ],
   "source": [
    "C, m,n, x = sp.symbols('C, m, n, x')\n",
    "P7 = F1(m,0)\n",
    "P7"
   ]
  },
  {
   "cell_type": "markdown",
   "metadata": {},
   "source": [
    "Observe: this is the formula for Catalan Numbers\n",
    "\n",
    "Observe: relation between successive elements in in column\n",
    "\n",
    "Let $P8$ represent all successive elements in the first column of Catalan Numbers, evaluating at ($m + 1, 0)$."
   ]
  },
  {
   "cell_type": "code",
   "execution_count": 19,
   "metadata": {},
   "outputs": [
    {
     "data": {
      "text/latex": [
       "$\\displaystyle \\frac{\\left(2 m + 2\\right)!}{\\left(m + 1\\right)! \\left(m + 2\\right)!}$"
      ],
      "text/plain": [
       "factorial(2*m + 2)/(factorial(m + 1)*factorial(m + 2))"
      ]
     },
     "execution_count": 19,
     "metadata": {},
     "output_type": "execute_result"
    }
   ],
   "source": [
    "P8 = F1(m + 1, 0)\n",
    "P8"
   ]
  },
  {
   "cell_type": "markdown",
   "metadata": {},
   "source": [
    "Let $P9$ be an equation representing the relationhip between $P7, P8$ and $x$."
   ]
  },
  {
   "cell_type": "code",
   "execution_count": 20,
   "metadata": {},
   "outputs": [
    {
     "data": {
      "text/latex": [
       "$\\displaystyle \\frac{\\left(2 m\\right)!}{m! \\left(m + 1\\right)!} = \\frac{x \\left(2 m + 2\\right)!}{\\left(m + 1\\right)! \\left(m + 2\\right)!}$"
      ],
      "text/plain": [
       "Eq(factorial(2*m)/(factorial(m)*factorial(m + 1)), x*factorial(2*m + 2)/(factorial(m + 1)*factorial(m + 2)))"
      ]
     },
     "execution_count": 20,
     "metadata": {},
     "output_type": "execute_result"
    }
   ],
   "source": [
    "P9 = sp.Eq(P7, x * P8  )\n",
    "P9"
   ]
  },
  {
   "cell_type": "markdown",
   "metadata": {},
   "source": [
    "\n"
   ]
  },
  {
   "cell_type": "markdown",
   "metadata": {},
   "source": [
    "Let $P10$ be a solution for x of $P9$"
   ]
  },
  {
   "cell_type": "code",
   "execution_count": 22,
   "metadata": {},
   "outputs": [
    {
     "data": {
      "text/latex": [
       "$\\displaystyle x = \\frac{m + 2}{2 \\left(2 m + 1\\right)}$"
      ],
      "text/plain": [
       "Eq(x, (m + 2)/(2*(2*m + 1)))"
      ]
     },
     "execution_count": 22,
     "metadata": {},
     "output_type": "execute_result"
    }
   ],
   "source": [
    "P10 = sp.Eq(x, sp.solve(P9, x)[0])\n",
    "P10"
   ]
  },
  {
   "cell_type": "markdown",
   "metadata": {},
   "source": [
    "Note we can recover the original C(m) with this multipler to get "
   ]
  },
  {
   "cell_type": "markdown",
   "metadata": {},
   "source": [
    "Observe: this allows the recursive relation: \n",
    "\n",
    "$$ C(m + 1) =\\frac{2 \\left(2 m + 1\\right)}{m + 2} \\times C(m) $$\n",
    "\n",
    "Let $P11$ be an equivalent version of this formula: "
   ]
  },
  {
   "cell_type": "code",
   "execution_count": 23,
   "metadata": {},
   "outputs": [
    {
     "data": {
      "text/latex": [
       "$\\displaystyle C \\left(m + 1\\right) = \\frac{C m \\left(4 m + 2\\right)}{m + 2}$"
      ],
      "text/plain": [
       "Eq(C*(m + 1), C*m*(4*m + 2)/(m + 2))"
      ]
     },
     "execution_count": 23,
     "metadata": {},
     "output_type": "execute_result"
    }
   ],
   "source": [
    "P11= sp.Eq(C * (m + 1), (2 * (1 + 2 * m))/ (2 + m) * (C * m))\n",
    "P11"
   ]
  },
  {
   "cell_type": "markdown",
   "metadata": {},
   "source": [
    "Observe: can also be written as"
   ]
  },
  {
   "cell_type": "code",
   "execution_count": 25,
   "metadata": {},
   "outputs": [
    {
     "data": {
      "text/latex": [
       "$\\displaystyle C m \\left(4 m + 2\\right) = C \\left(m + 1\\right) \\left(m + 2\\right)$"
      ],
      "text/plain": [
       "Eq(C*m*(4*m + 2), C*(m + 1)*(m + 2))"
      ]
     },
     "execution_count": 25,
     "metadata": {},
     "output_type": "execute_result"
    }
   ],
   "source": [
    "P12 = sp.Eq(P11.rhs * (m + 2), P11.lhs * (m + 2))\n",
    "P12"
   ]
  },
  {
   "cell_type": "markdown",
   "metadata": {},
   "source": [
    "Note that you could put into function again....."
   ]
  },
  {
   "cell_type": "code",
   "execution_count": 103,
   "metadata": {},
   "outputs": [
    {
     "data": {
      "text/plain": [
       "True"
      ]
     },
     "execution_count": 103,
     "metadata": {},
     "output_type": "execute_result"
    }
   ],
   "source": [
    "P10 = 3\n",
    "F1(P10, 0) * ( 4 * P10 + 2) == F1(P10 + 1, 0) * (P10 + 2)"
   ]
  },
  {
   "cell_type": "markdown",
   "metadata": {},
   "source": [
    "Observe = $$ C(m) \\left(4 m + 2\\right) = C \\left(m + 1\\right) \\left(m + 2\\right)  $$\n",
    "\n",
    "is well known Euler identity"
   ]
  },
  {
   "cell_type": "markdown",
   "metadata": {},
   "source": [
    "<hr/>\n",
    "\n",
    "<b>Aim</b> Generalize this to a more general column, not just first \n",
    "\n",
    "<hr/>"
   ]
  },
  {
   "cell_type": "code",
   "execution_count": null,
   "metadata": {},
   "outputs": [],
   "source": []
  },
  {
   "cell_type": "code",
   "execution_count": null,
   "metadata": {},
   "outputs": [],
   "source": []
  },
  {
   "cell_type": "markdown",
   "metadata": {},
   "source": [
    "\n"
   ]
  },
  {
   "cell_type": "code",
   "execution_count": 117,
   "metadata": {},
   "outputs": [
    {
     "data": {
      "text/latex": [
       "$\\displaystyle \\frac{\\left(2 m + 3 n\\right)!}{m! n! \\left(m + 2 n + 1\\right)!}$"
      ],
      "text/plain": [
       "factorial(2*m + 3*n)/(factorial(m)*factorial(n)*factorial(m + 2*n + 1))"
      ]
     },
     "execution_count": 117,
     "metadata": {},
     "output_type": "execute_result"
    }
   ],
   "source": [
    "# Start with simple case\n",
    "C, m,n, x = sp.symbols('C, m, n, x')\n",
    "P11 = F1(m,n)\n",
    "P11"
   ]
  },
  {
   "cell_type": "code",
   "execution_count": 118,
   "metadata": {},
   "outputs": [
    {
     "data": {
      "text/latex": [
       "$\\displaystyle \\frac{\\left(2 m + 3 n + 2\\right)!}{n! \\left(m + 1\\right)! \\left(m + 2 n + 2\\right)!}$"
      ],
      "text/plain": [
       "factorial(2*m + 3*n + 2)/(factorial(n)*factorial(m + 1)*factorial(m + 2*n + 2))"
      ]
     },
     "execution_count": 118,
     "metadata": {},
     "output_type": "execute_result"
    }
   ],
   "source": [
    "# calculate m + 1\n",
    "C, m,n, x = sp.symbols('C, m, n, x')\n",
    "P12 = F1(m + 1,n)\n",
    "P12"
   ]
  },
  {
   "cell_type": "code",
   "execution_count": 125,
   "metadata": {},
   "outputs": [
    {
     "data": {
      "text/latex": [
       "$\\displaystyle \\frac{\\left(2 m + 3 n + 2\\right)!}{n! \\left(m + 1\\right)! \\left(m + 2 n + 2\\right)!} = \\frac{x \\left(2 m + 3 n\\right)!}{m! n! \\left(m + 2 n + 1\\right)!}$"
      ],
      "text/plain": [
       "Eq(factorial(2*m + 3*n + 2)/(factorial(n)*factorial(m + 1)*factorial(m + 2*n + 2)), x*factorial(2*m + 3*n)/(factorial(m)*factorial(n)*factorial(m + 2*n + 1)))"
      ]
     },
     "execution_count": 125,
     "metadata": {},
     "output_type": "execute_result"
    }
   ],
   "source": [
    "# Find wahat happened for P11 to make it P12, making this value x\n",
    "\n",
    "P13 = sp.Eq(P12, x * P11)\n",
    "P13"
   ]
  },
  {
   "cell_type": "code",
   "execution_count": 123,
   "metadata": {},
   "outputs": [
    {
     "data": {
      "text/latex": [
       "$\\displaystyle \\frac{\\left(2 m + 3 n + 1\\right) \\left(2 m + 3 n + 2\\right)}{\\left(m + 1\\right) \\left(m + 2 n + 2\\right)}$"
      ],
      "text/plain": [
       "(2*m + 3*n + 1)*(2*m + 3*n + 2)/((m + 1)*(m + 2*n + 2))"
      ]
     },
     "execution_count": 123,
     "metadata": {},
     "output_type": "execute_result"
    }
   ],
   "source": [
    "# solve for x\n",
    "\n",
    "P14 = sp.solve(P13, x)[0]\n",
    "P14"
   ]
  },
  {
   "cell_type": "markdown",
   "metadata": {},
   "source": [
    "Note here is a recursive way to solve conjecture in case of C(m, n)\n",
    "\n",
    "$$  \\frac{\\left(2 m + 3 n + 1\\right) \\left(2 m + 3 n + 2\\right)}{\\left(m + 1\\right) \\left(m + 2 n + 2\\right)} C(m, n) $$"
   ]
  },
  {
   "cell_type": "code",
   "execution_count": null,
   "metadata": {},
   "outputs": [],
   "source": [
    "# aim - figure out when at top row, and subdividing polys, now investiage\n",
    "# what appens when we go doesn column \n",
    "\n",
    "# if you can prove that adding triangles to the starting configuration of having \n",
    "# a decomposition of n quadrialtuerals obeys this recursion, \n",
    "\n",
    "# then that will prove the bi tri conjecture \n",
    "\n",
    "# formlul for the array is simpler\n",
    "\n"
   ]
  },
  {
   "cell_type": "markdown",
   "metadata": {},
   "source": [
    "Now have a correspondingly hae a look at rows...start with 0th row (Fuss numbers) "
   ]
  },
  {
   "cell_type": "code",
   "execution_count": 129,
   "metadata": {},
   "outputs": [
    {
     "data": {
      "text/latex": [
       "$\\displaystyle \\frac{\\left(3 n\\right)!}{n! \\left(2 n + 1\\right)!}$"
      ],
      "text/plain": [
       "factorial(3*n)/(factorial(n)*factorial(2*n + 1))"
      ]
     },
     "execution_count": 129,
     "metadata": {},
     "output_type": "execute_result"
    }
   ],
   "source": [
    "P15 = F1(0, n)\n",
    "P15"
   ]
  },
  {
   "cell_type": "code",
   "execution_count": 132,
   "metadata": {},
   "outputs": [
    {
     "data": {
      "text/latex": [
       "$\\displaystyle \\frac{\\left(3 n + 3\\right)!}{\\left(n + 1\\right)! \\left(2 n + 3\\right)!}$"
      ],
      "text/plain": [
       "factorial(3*n + 3)/(factorial(n + 1)*factorial(2*n + 3))"
      ]
     },
     "execution_count": 132,
     "metadata": {},
     "output_type": "execute_result"
    }
   ],
   "source": [
    "# thes satisy rcursive relation \n",
    "\n",
    "C, m,n, x = sp.symbols('C, m, n, x')\n",
    "\n",
    "P16 = F1(0, n + 1)\n",
    "P16"
   ]
  },
  {
   "cell_type": "code",
   "execution_count": null,
   "metadata": {},
   "outputs": [],
   "source": [
    "# write it as * x "
   ]
  },
  {
   "cell_type": "code",
   "execution_count": 134,
   "metadata": {},
   "outputs": [
    {
     "data": {
      "text/latex": [
       "$\\displaystyle \\frac{\\left(3 n + 3\\right)!}{\\left(n + 1\\right)! \\left(2 n + 3\\right)!} = \\frac{x \\left(3 n\\right)!}{n! \\left(2 n + 1\\right)!}$"
      ],
      "text/plain": [
       "Eq(factorial(3*n + 3)/(factorial(n + 1)*factorial(2*n + 3)), x*factorial(3*n)/(factorial(n)*factorial(2*n + 1)))"
      ]
     },
     "execution_count": 134,
     "metadata": {},
     "output_type": "execute_result"
    }
   ],
   "source": [
    "P17 = sp.Eq(P16, x * P15)\n",
    "P17"
   ]
  },
  {
   "cell_type": "code",
   "execution_count": 138,
   "metadata": {},
   "outputs": [
    {
     "data": {
      "text/latex": [
       "$\\displaystyle \\frac{3 \\left(3 n + 1\\right) \\left(3 n + 2\\right)}{2 \\left(n + 1\\right) \\left(2 n + 3\\right)}$"
      ],
      "text/plain": [
       "3*(3*n + 1)*(3*n + 2)/(2*(n + 1)*(2*n + 3))"
      ]
     },
     "execution_count": 138,
     "metadata": {},
     "output_type": "execute_result"
    }
   ],
   "source": [
    "# Solve for x\n",
    "P18 = sp.solve(P17, x)[0].factor()\n",
    "P18"
   ]
  },
  {
   "cell_type": "markdown",
   "metadata": {},
   "source": [
    "Note this can ve written as \n",
    "\n",
    "$$   \\frac{3 \\left(3 n + 1\\right) \\left(3 n + 2\\right)}{2 \\left(n + 1\\right) \\left(2 n + 3\\right)} \\times C(0, n)$$"
   ]
  },
  {
   "cell_type": "markdown",
   "metadata": {},
   "source": [
    "This is recursive relation for the Fuss numbers. \n",
    "\n",
    "So the geometrical inter\n",
    "\n",
    "FUSS - numbers of appropriate subduvision into quadrilateral, we need to explain why geometrical numbers satisfy this relatinoship - how does this factor explain the change in the number of quadrilaterals. \n",
    "\n",
    "Already a challenge to prove subdivisions of a (2 + 2n) gon in to n quadrilaterals (C(0, n) satisfies this recursion\n",
    "\n",
    "Why is this formula responsible for recursive subdivision for quadrilaterals....difficult to grasp....adding 1 more quadrilateral gives this multiplicative factor......difficult to prove this BiTri conjecture....\n",
    "\n",
    "\n",
    "consider along general nth row"
   ]
  },
  {
   "cell_type": "code",
   "execution_count": 140,
   "metadata": {},
   "outputs": [
    {
     "data": {
      "text/latex": [
       "$\\displaystyle \\frac{\\left(2 m + 3 n\\right)!}{m! n! \\left(m + 2 n + 1\\right)!}$"
      ],
      "text/plain": [
       "factorial(2*m + 3*n)/(factorial(m)*factorial(n)*factorial(m + 2*n + 1))"
      ]
     },
     "execution_count": 140,
     "metadata": {},
     "output_type": "execute_result"
    }
   ],
   "source": [
    "C, m,n, x = sp.symbols('C, m, n, x')\n",
    "\n",
    "P19 = F1(m, n)\n",
    "P19"
   ]
  },
  {
   "cell_type": "code",
   "execution_count": null,
   "metadata": {},
   "outputs": [],
   "source": [
    "# consider n + 1"
   ]
  },
  {
   "cell_type": "code",
   "execution_count": 141,
   "metadata": {},
   "outputs": [
    {
     "data": {
      "text/latex": [
       "$\\displaystyle \\frac{\\left(2 m + 3 n + 3\\right)!}{m! \\left(n + 1\\right)! \\left(m + 2 n + 3\\right)!}$"
      ],
      "text/plain": [
       "factorial(2*m + 3*n + 3)/(factorial(m)*factorial(n + 1)*factorial(m + 2*n + 3))"
      ]
     },
     "execution_count": 141,
     "metadata": {},
     "output_type": "execute_result"
    }
   ],
   "source": [
    "P20 = F1(m, n + 1)\n",
    "P20"
   ]
  },
  {
   "cell_type": "code",
   "execution_count": 143,
   "metadata": {},
   "outputs": [
    {
     "data": {
      "text/latex": [
       "$\\displaystyle \\frac{\\left(2 m + 3 n + 3\\right)!}{m! \\left(n + 1\\right)! \\left(m + 2 n + 3\\right)!} = \\frac{x \\left(2 m + 3 n\\right)!}{m! n! \\left(m + 2 n + 1\\right)!}$"
      ],
      "text/plain": [
       "Eq(factorial(2*m + 3*n + 3)/(factorial(m)*factorial(n + 1)*factorial(m + 2*n + 3)), x*factorial(2*m + 3*n)/(factorial(m)*factorial(n)*factorial(m + 2*n + 1)))"
      ]
     },
     "execution_count": 143,
     "metadata": {},
     "output_type": "execute_result"
    }
   ],
   "source": [
    "# find x multipler\n",
    "\n",
    "P21 = sp.Eq(P20, x * P19)\n",
    "P21"
   ]
  },
  {
   "cell_type": "code",
   "execution_count": 146,
   "metadata": {},
   "outputs": [
    {
     "data": {
      "text/latex": [
       "$\\displaystyle \\frac{\\left(2 m + 3 n + 1\\right) \\left(2 m + 3 n + 2\\right) \\left(2 m + 3 n + 3\\right)}{\\left(n + 1\\right) \\left(m + 2 n + 2\\right) \\left(m + 2 n + 3\\right)}$"
      ],
      "text/plain": [
       "(2*m + 3*n + 1)*(2*m + 3*n + 2)*(2*m + 3*n + 3)/((n + 1)*(m + 2*n + 2)*(m + 2*n + 3))"
      ]
     },
     "execution_count": 146,
     "metadata": {},
     "output_type": "execute_result"
    }
   ],
   "source": [
    "# solve for x \n",
    "P22 = sp.solve(P21, x)[0]\n",
    "P22"
   ]
  },
  {
   "cell_type": "markdown",
   "metadata": {},
   "source": [
    "so can write this as \n",
    "\n",
    "$$  \\frac{\\left(2 m + 3 n + 1\\right) \\left(2 m + 3 n + 2\\right) \\left(2 m + 3 n + 3\\right)}{\\left(n + 1\\right) \\left(m + 2 n + 2\\right) \\left(m + 2 n + 3\\right)} C(m, n) $$\n",
    "\n",
    "When n is increasing this factor"
   ]
  },
  {
   "cell_type": "markdown",
   "metadata": {},
   "source": [
    "summary\n",
    "\n",
    "we have arrived ag general recorsions\n",
    "\n",
    "down column\n",
    "\n",
    "\n",
    "$$ C(m + 1, n) =  \\frac{\\left(2 m + 3 n + 1\\right) \\left(2 m + 3 n + 2\\right)}{\\left(m + 1\\right) \\left(m + 2 n + 2\\right)} \\times C(m, n)   $$\n",
    "\n",
    "\n",
    "and \n",
    "\n",
    "$$ C(m, n + 1) =  \\frac{\\left(2 m + 3 n + 1\\right) \\left(2 m + 3 n + 2\\right) \\left(2 m + 3 n + 3\\right)}{\\left(n + 1\\right) \\left(m + 2 n + 2\\right) \\left(m + 2 n + 3\\right)} \\times C(m, n) $$\n",
    "\n",
    "This first corresponds to oing down a col (adding a triangle) whle the thecon corresponds to goging across a row (adding a quadrilateral)....so this explains all movement so we can move in any direction....So either this would prove the Bi Tri conjecture....A TO DO, think geometrically, start with simple columns.....figure out meaning of factor - what explains these factors \n",
    "\n"
   ]
  },
  {
   "cell_type": "code",
   "execution_count": null,
   "metadata": {},
   "outputs": [],
   "source": []
  },
  {
   "cell_type": "code",
   "execution_count": null,
   "metadata": {},
   "outputs": [],
   "source": []
  },
  {
   "cell_type": "code",
   "execution_count": null,
   "metadata": {},
   "outputs": [],
   "source": []
  },
  {
   "cell_type": "code",
   "execution_count": null,
   "metadata": {},
   "outputs": [],
   "source": []
  },
  {
   "cell_type": "code",
   "execution_count": null,
   "metadata": {},
   "outputs": [],
   "source": []
  },
  {
   "cell_type": "code",
   "execution_count": null,
   "metadata": {},
   "outputs": [],
   "source": []
  },
  {
   "cell_type": "code",
   "execution_count": null,
   "metadata": {},
   "outputs": [],
   "source": []
  },
  {
   "cell_type": "code",
   "execution_count": null,
   "metadata": {},
   "outputs": [],
   "source": []
  },
  {
   "cell_type": "code",
   "execution_count": null,
   "metadata": {},
   "outputs": [],
   "source": []
  },
  {
   "cell_type": "code",
   "execution_count": null,
   "metadata": {},
   "outputs": [],
   "source": []
  },
  {
   "cell_type": "code",
   "execution_count": null,
   "metadata": {},
   "outputs": [],
   "source": []
  },
  {
   "cell_type": "code",
   "execution_count": null,
   "metadata": {},
   "outputs": [],
   "source": []
  },
  {
   "cell_type": "code",
   "execution_count": null,
   "metadata": {},
   "outputs": [],
   "source": []
  },
  {
   "cell_type": "code",
   "execution_count": null,
   "metadata": {},
   "outputs": [],
   "source": []
  },
  {
   "cell_type": "code",
   "execution_count": null,
   "metadata": {},
   "outputs": [],
   "source": []
  },
  {
   "cell_type": "code",
   "execution_count": null,
   "metadata": {},
   "outputs": [],
   "source": []
  },
  {
   "cell_type": "markdown",
   "metadata": {},
   "source": [
    "JG - evidence for this....\n",
    "\n",
    "Go back to A002054 - first column of array 1, 5, 21....\n",
    "\n",
    "Look at entries...do any sync up with conjecture\n",
    "\n",
    "Note number of diagonal dissaections of complex n-gon into n regions.... - dissections stuff....look for similiarity....look at 2004 entry, \n",
    "\n",
    "idea here to look for patterns....this discription coincides with our interpretation\n",
    "\n",
    "\n",
    "jg - go through this and have a look through this - this ref tells us that there are interesting things to find....we gradually build up data \n",
    "\n",
    "All of things hinting at this conjecture that might be correct.....\n",
    "\n",
    "\n",
    "Our conjecture is that this relates to subdividing odd sized polygons into certain number of quadrilaterals and 1 triangle (number of quadrialterlas grows)\n",
    "\n",
    "Note less references\n",
    "\n",
    "Note we need to know about tableux and trees..."
   ]
  },
  {
   "cell_type": "code",
   "execution_count": null,
   "metadata": {},
   "outputs": [],
   "source": []
  },
  {
   "cell_type": "code",
   "execution_count": null,
   "metadata": {},
   "outputs": [],
   "source": []
  },
  {
   "cell_type": "code",
   "execution_count": null,
   "metadata": {},
   "outputs": [],
   "source": []
  },
  {
   "cell_type": "code",
   "execution_count": null,
   "metadata": {},
   "outputs": [],
   "source": []
  },
  {
   "cell_type": "code",
   "execution_count": null,
   "metadata": {},
   "outputs": [],
   "source": []
  },
  {
   "cell_type": "code",
   "execution_count": null,
   "metadata": {},
   "outputs": [],
   "source": []
  }
 ],
 "metadata": {
  "kernelspec": {
   "display_name": "Python 3",
   "language": "python",
   "name": "python3"
  },
  "language_info": {
   "codemirror_mode": {
    "name": "ipython",
    "version": 3
   },
   "file_extension": ".py",
   "mimetype": "text/x-python",
   "name": "python",
   "nbconvert_exporter": "python",
   "pygments_lexer": "ipython3",
   "version": "3.9.2"
  }
 },
 "nbformat": 4,
 "nbformat_minor": 4
}
