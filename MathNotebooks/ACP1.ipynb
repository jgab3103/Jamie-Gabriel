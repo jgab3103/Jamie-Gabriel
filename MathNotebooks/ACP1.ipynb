{
 "cells": [
  {
   "cell_type": "code",
   "execution_count": 1,
   "metadata": {},
   "outputs": [],
   "source": [
    "import numpy as np\n",
    "import sympy as sp\n",
    "import pickle\n",
    "from IPython.display import HTML\n",
    "import ipywidgets as widgets\n",
    "import matplotlib as mpl\n",
    "from mpl_toolkits.mplot3d import Axes3D\n",
    "import matplotlib.pyplot as plt\n",
    "mpl.rcParams['legend.fontsize'] = 10\n",
    "import pandas as pd\n",
    "import itertools\n",
    "\n",
    "# function to print latex\n",
    "def renderListToLatex(e):\n",
    "    latex_rendering = []\n",
    "\n",
    "    for i in range(len(e)):\n",
    "        latex_rendering.append(\"$$\" + sp.latex(e[i]) + \"$$<br/>\")\n",
    "    \n",
    "    return(HTML(\"\".join(latex_rendering[0:])))"
   ]
  },
  {
   "cell_type": "markdown",
   "metadata": {},
   "source": [
    "The purpose of 1.1 is to introduce basic concepts, clear definitions\n",
    "\n",
    "<b>Types</b>\n",
    " - Line\n",
    " - Point\n",
    "\n",
    "\n",
    "<b>Properties</b>\n",
    "\n",
    "\n",
    "\n",
    "Critical issues, different types, Points, Lines, little on curves\n",
    "\n",
    "<a href=\"#\">Proof 1_1_7_i:</a><br/>\n",
    "<i>Proposition:</i> The line $m$ is parallel to the line $l:ax+by=c$ precisely when there is some number $k$ such that  $m$ has  the equation $ax+by=k$\n",
    "\n",
    "<a href=\"#\">Proof 1_1_7_ii:</a><br/>\n",
    "<i>Proposition:</i> The two lines $l:ax+by=c$  and  $m: ax+by=k$ above are coincident precisely when $k=c$\n",
    "\n",
    "<a href=\"#\">Proof 1_1_7_iii:</a><br/>\n",
    "<i>Proposition:</i> The two lines $l:ax+by=c$ and $m: ax+by=k$  above are distinct precisely when $k\\ne c$.\n",
    "\n",
    "\n",
    "<a href=\"#\">Proof 1_1_8_i:</a><br/>\n",
    "<i>Proposition:</i> Prove that if there are two $l:ax+by=c$ and $m: ax+by=k$  are parallel, and the lines m and n are parallel, then ℓ and n are also parallel\n",
    "\n",
    "<a href=\"#\">Proof 1_1_10:</a><br/>\n",
    "<i>Proposition:</i>For any two distinct points, there is exactly one line which passes through them both\n",
    "\n",
    "<a href=\"#\">Proof 1_1_12:</a><br/>\n",
    "<i>Proposition:</i> Show that three distinct points A,B and C are collinear precisely when AB and AC are coincident.\n",
    "\n",
    "<a href=\"#\">Proof 1_1_14:</a><br/>\n",
    "<i>Proposition:</i> If ℓ and m are non-parallel lines, then there is exactly one point ℓm which lies on them both.\n",
    "\n",
    "<a href=\"#\">Proof 1_1_19:</a><br/>\n",
    "<i>Proposition:</i> If ABCD be a parallelogram, and its diagonals are AC and BD which are not parallel, and the meet point of diagonals is the midpoint of the points A and C as well as of the points B and D.\n",
    "\n",
    "\n",
    "\n",
    "\n",
    "\n",
    "\n"
   ]
  },
  {
   "cell_type": "markdown",
   "metadata": {},
   "source": [
    "## 1_1_7_i"
   ]
  },
  {
   "cell_type": "markdown",
   "metadata": {},
   "source": [
    "<b>Proposition</b>: A line $m$ is parallel to the line $\\ell:ax+by=c$ precisely when there is some number $k$ such that  $m$ has the equation $ax+by=k$.\n",
    "\n",
    "<b>Summary</b>: This proof establishes the definition of <i>parallel</i> and provies a means from which to establish transitivity\n",
    "\n",
    "<b>Let</b> the following be unknown types."
   ]
  },
  {
   "cell_type": "code",
   "execution_count": 5,
   "metadata": {},
   "outputs": [],
   "source": [
    "a, b, c, m, r, s, t, x_0, x_1, k = sp.symbols('a b c m r s t x_0 x_1 k')"
   ]
  },
  {
   "cell_type": "markdown",
   "metadata": {},
   "source": [
    "<b>Let</b> $T1$ be a <i>projective line</i>."
   ]
  },
  {
   "cell_type": "code",
   "execution_count": 6,
   "metadata": {},
   "outputs": [
    {
     "data": {
      "text/plain": [
       "[-t, r*x_0, s*x_1]"
      ]
     },
     "execution_count": 6,
     "metadata": {},
     "output_type": "execute_result"
    }
   ],
   "source": [
    "T1 = [-t, r*x_0, s * x_1]\n",
    "T1"
   ]
  },
  {
   "cell_type": "markdown",
   "metadata": {},
   "source": [
    "<b>Let</b> $R1$ be a line in the form of an equation that is equivalent to $T1$:"
   ]
  },
  {
   "cell_type": "code",
   "execution_count": 7,
   "metadata": {},
   "outputs": [
    {
     "data": {
      "text/latex": [
       "$\\displaystyle r x_{0} + s x_{1} = t$"
      ],
      "text/plain": [
       "Eq(r*x_0 + s*x_1, t)"
      ]
     },
     "execution_count": 7,
     "metadata": {},
     "output_type": "execute_result"
    }
   ],
   "source": [
    "R1 = sp.Eq(T1[1] + T1[2], -T1[0])\n",
    "R1"
   ]
  },
  {
   "cell_type": "markdown",
   "metadata": {},
   "source": [
    "<b>Let</b> $T2$ be a <i>projective line</i>."
   ]
  },
  {
   "cell_type": "code",
   "execution_count": 8,
   "metadata": {},
   "outputs": [
    {
     "data": {
      "text/plain": [
       "[-c, a*x_0, a*x_1]"
      ]
     },
     "execution_count": 8,
     "metadata": {},
     "output_type": "execute_result"
    }
   ],
   "source": [
    "T2 = [-c, a*x_0, a * x_1]\n",
    "T2"
   ]
  },
  {
   "cell_type": "markdown",
   "metadata": {},
   "source": [
    "<b>Let</b> $R2$ be a line in the form of an equation that is equivalent to $T2$:"
   ]
  },
  {
   "cell_type": "code",
   "execution_count": 9,
   "metadata": {},
   "outputs": [
    {
     "data": {
      "text/latex": [
       "$\\displaystyle a x_{0} + a x_{1} = c$"
      ],
      "text/plain": [
       "Eq(a*x_0 + a*x_1, c)"
      ]
     },
     "execution_count": 9,
     "metadata": {},
     "output_type": "execute_result"
    }
   ],
   "source": [
    "R2 = sp.Eq(T2[1] + T2[2], -T2[0])\n",
    "R2"
   ]
  },
  {
   "cell_type": "markdown",
   "metadata": {},
   "source": [
    "<b>Observe</b> that, by definition of the type line, $r$ and $s$ cannot both be equal to 0.\n",
    "\n",
    "<b>Observe</b> that, by definition of the type line, $a$ and $b$ cannot both be equal to 0."
   ]
  },
  {
   "cell_type": "markdown",
   "metadata": {},
   "source": [
    "<b>Assume</b> that $T1$ is parallel to $T2$.\n",
    "\n",
    "<b>Observe</b> that, by definition of the type parallel line, $as - br = 0$\n",
    "\n",
    "<b>Let</b> $R4$ be the relationship that $\\displaystyle a s - b r = 0$"
   ]
  },
  {
   "cell_type": "code",
   "execution_count": 10,
   "metadata": {},
   "outputs": [
    {
     "data": {
      "text/latex": [
       "$\\displaystyle a s - b r = 0$"
      ],
      "text/plain": [
       "Eq(a*s - b*r, 0)"
      ]
     },
     "execution_count": 10,
     "metadata": {},
     "output_type": "execute_result"
    }
   ],
   "source": [
    "R4 = sp.Eq(a * s - b* r, 0)\n",
    "R4"
   ]
  },
  {
   "cell_type": "markdown",
   "metadata": {},
   "source": [
    "<b>Observe</b> that if $r = 0$, then $s \\ne 0$, and it must be the case that $a = 0$ for $R4$ to be true.\n",
    "\n",
    "<b>Observe</b> that if $s = 0$, then $r \\ne 0$, and it must be the case that $a \\ne 0$ for $R4$ to be true.\n",
    "\n",
    "<b>Assume</b> it is the case that that $a \\ne 0$ and  $ r \\ne 0$"
   ]
  },
  {
   "cell_type": "markdown",
   "metadata": {},
   "source": [
    "<b>Let</b> $R5$ be a manipulation of $R4$"
   ]
  },
  {
   "cell_type": "code",
   "execution_count": 11,
   "metadata": {},
   "outputs": [
    {
     "data": {
      "text/latex": [
       "$\\displaystyle s = \\frac{b r}{a}$"
      ],
      "text/plain": [
       "Eq(s, b*r/a)"
      ]
     },
     "execution_count": 11,
     "metadata": {},
     "output_type": "execute_result"
    }
   ],
   "source": [
    "R5 = sp.Eq(s, sp.solve(R4, s)[0])\n",
    "R5"
   ]
  },
  {
   "cell_type": "markdown",
   "metadata": {},
   "source": [
    "<b>Let</b> $R6$ be a substitution of $R1$ where $\\frac{br}{a}$ is subsituted for $s$"
   ]
  },
  {
   "cell_type": "code",
   "execution_count": 12,
   "metadata": {},
   "outputs": [
    {
     "data": {
      "text/latex": [
       "$\\displaystyle r x_{0} + \\frac{b r x_{1}}{a} = t$"
      ],
      "text/plain": [
       "Eq(r*x_0 + b*r*x_1/a, t)"
      ]
     },
     "execution_count": 12,
     "metadata": {},
     "output_type": "execute_result"
    }
   ],
   "source": [
    "R6 = R1.subs(R5.lhs, R5.rhs)\n",
    "R6"
   ]
  },
  {
   "cell_type": "markdown",
   "metadata": {},
   "source": [
    "<b>Let</b> $R7$ be a manipulation of $R6$, dividing by $r$ and multiplying by $a$. "
   ]
  },
  {
   "cell_type": "code",
   "execution_count": 13,
   "metadata": {},
   "outputs": [
    {
     "data": {
      "text/latex": [
       "$\\displaystyle a x_{0} + b x_{1} = \\frac{a t}{r}$"
      ],
      "text/plain": [
       "Eq(a*x_0 + b*x_1, a*t/r)"
      ]
     },
     "execution_count": 13,
     "metadata": {},
     "output_type": "execute_result"
    }
   ],
   "source": [
    "R7 = sp.Eq((R6.lhs / r * a).simplify(), R6.rhs / r * a)\n",
    "R7"
   ]
  },
  {
   "cell_type": "markdown",
   "metadata": {},
   "source": [
    "<b>Let</b> $k = \\frac{at}{r}$."
   ]
  },
  {
   "cell_type": "code",
   "execution_count": 14,
   "metadata": {},
   "outputs": [
    {
     "data": {
      "text/latex": [
       "$\\displaystyle k = \\frac{a t}{r}$"
      ],
      "text/plain": [
       "Eq(k, a*t/r)"
      ]
     },
     "execution_count": 14,
     "metadata": {},
     "output_type": "execute_result"
    }
   ],
   "source": [
    "R8 = sp.Eq(k, R7.rhs)\n",
    "R8"
   ]
  },
  {
   "cell_type": "markdown",
   "metadata": {},
   "source": [
    "<b>Observe</b> that if the line  $rx_1 + sx_1 = t$ is parallel to the line $ax_1 + bx_1 = c$, it can be show that there is a value $k$ (here arising from the subsitution and manipulation that created $at/r$). \n",
    "\n",
    "<b>Observe</b> that the proof can also make the assumption $b \\ne 0$ and $s \\ne 0$ and proceed in the same manner. \n",
    "\n",
    "<b>Conclusion</b> the proof is true"
   ]
  },
  {
   "cell_type": "markdown",
   "metadata": {},
   "source": [
    "## 1_1_7_ii"
   ]
  },
  {
   "cell_type": "code",
   "execution_count": 15,
   "metadata": {},
   "outputs": [
    {
     "data": {
      "text/plain": [
       "' The two lines ℓ and m above are coincident precisely when k=c'"
      ]
     },
     "execution_count": 15,
     "metadata": {},
     "output_type": "execute_result"
    }
   ],
   "source": [
    "prop = \" The two lines ℓ and m above are coincident precisely when k=c\"\n",
    "why_this_matters = \"trivial but important - lines. THis is trivial but ensures correct behaviour\"\n",
    "prop\n"
   ]
  },
  {
   "cell_type": "code",
   "execution_count": 16,
   "metadata": {},
   "outputs": [],
   "source": [
    "# Let a, b, m, r, s, t, x_0, x_y be variables \n",
    "a, b, c, x_0, x_1, k = sp.symbols('a b c x_0 x_1 k')\n",
    "\n",
    "# need some random function which puts problems into this\n",
    "# a = 3\n",
    "# s = 0\n",
    "# r = 6\n",
    "# b = 0"
   ]
  },
  {
   "cell_type": "code",
   "execution_count": 17,
   "metadata": {},
   "outputs": [
    {
     "data": {
      "text/latex": [
       "$\\displaystyle a x_{0} + b x_{1} = c$"
      ],
      "text/plain": [
       "Eq(a*x_0 + b*x_1, c)"
      ]
     },
     "execution_count": 17,
     "metadata": {},
     "output_type": "execute_result"
    }
   ],
   "source": [
    "# Let L1 be a line\n",
    "L1 = [-c, a * x_0, b * x_1]\n",
    "# This implied following relationship\n",
    "R1 = sp.Eq(L1[1] + L1[2], -L1[0])\n",
    "R1\n"
   ]
  },
  {
   "cell_type": "code",
   "execution_count": 18,
   "metadata": {},
   "outputs": [
    {
     "data": {
      "text/latex": [
       "$\\displaystyle a x_{0} + b x_{1} = k$"
      ],
      "text/plain": [
       "Eq(a*x_0 + b*x_1, k)"
      ]
     },
     "execution_count": 18,
     "metadata": {},
     "output_type": "execute_result"
    }
   ],
   "source": [
    "# Let L1 be a line\n",
    "L2 = [-k, a * x_0, b * x_1]\n",
    "# This implied following relationship\n",
    "R2 = sp.Eq(L2[1] + L2[2], -L2[0])\n",
    "R2"
   ]
  },
  {
   "cell_type": "code",
   "execution_count": 19,
   "metadata": {},
   "outputs": [
    {
     "data": {
      "text/latex": [
       "$\\displaystyle - \\frac{a}{b}$"
      ],
      "text/plain": [
       "-a/b"
      ]
     },
     "execution_count": 19,
     "metadata": {},
     "output_type": "execute_result"
    }
   ],
   "source": [
    "# The property of coincidence means that \n",
    "# slope must be the same between lines \n",
    "# and the y-intercept must be the same \n",
    "# of line in projective form **\n",
    "\n",
    "R3 = sp.Poly(sp.solve(R1, x_1)[0], [x_0, x_1])\n",
    "R4 = R3.coeff_monomial(x_0)\n",
    "R4\n",
    "\n",
    "# R3 = sp.Eq(x_1, sp.solve(R2, x_1)[0])\n",
    "# R3"
   ]
  },
  {
   "cell_type": "code",
   "execution_count": 20,
   "metadata": {},
   "outputs": [
    {
     "data": {
      "text/latex": [
       "$\\displaystyle - \\frac{a}{b}$"
      ],
      "text/plain": [
       "-a/b"
      ]
     },
     "execution_count": 20,
     "metadata": {},
     "output_type": "execute_result"
    }
   ],
   "source": [
    "R5 = sp.Poly(sp.solve(R2, x_1)[0], [x_0, x_1])\n",
    "R6 = R5.coeff_monomial(x_0)\n",
    "R6\n"
   ]
  },
  {
   "cell_type": "code",
   "execution_count": 21,
   "metadata": {},
   "outputs": [
    {
     "data": {
      "text/plain": [
       "True"
      ]
     },
     "execution_count": 21,
     "metadata": {},
     "output_type": "execute_result"
    }
   ],
   "source": [
    "# Check that slopes are the same \n",
    "R4 == R6"
   ]
  },
  {
   "cell_type": "code",
   "execution_count": 22,
   "metadata": {},
   "outputs": [],
   "source": [
    "# Suppose that k == c\n",
    "k = c \n",
    "# By definition of coincidence, if k = c and the slopes are equal, \n",
    "# the lines must be coincident "
   ]
  },
  {
   "cell_type": "markdown",
   "metadata": {},
   "source": [
    "## 1_1_7_iii"
   ]
  },
  {
   "cell_type": "code",
   "execution_count": 23,
   "metadata": {},
   "outputs": [
    {
     "data": {
      "text/plain": [
       "'The two lines ℓ and m above are distinct precisely when k≠c. '"
      ]
     },
     "execution_count": 23,
     "metadata": {},
     "output_type": "execute_result"
    }
   ],
   "source": [
    "prop = \"The two lines ℓ and m above are distinct precisely when k≠c. \"\n",
    "why_this_matters = \"trivial but important - lines. THis is trivial but ensures correct behaviour\"\n",
    "prop\n"
   ]
  },
  {
   "cell_type": "code",
   "execution_count": 24,
   "metadata": {},
   "outputs": [],
   "source": [
    "# Use 1_1_7_ii to establish that two lines ax + by = c\n",
    "# and ax + by = k have the same slope\n",
    "\n",
    "# Soppose that c != k\n",
    "# By related proof (solutions of systems)\n",
    "# there is no solution\n",
    "# by definition it fails tha criteria of coincide\n",
    "# and must be distinct"
   ]
  },
  {
   "cell_type": "markdown",
   "metadata": {},
   "source": [
    "## 1_1_8_i"
   ]
  },
  {
   "cell_type": "code",
   "execution_count": 25,
   "metadata": {},
   "outputs": [
    {
     "data": {
      "text/plain": [
       "'Prove that if the lines ℓ and m are parallel, and the lines m and n are parallel, then ℓ and n are also parallel.'"
      ]
     },
     "execution_count": 25,
     "metadata": {},
     "output_type": "execute_result"
    }
   ],
   "source": [
    "#1_1_7_i\n",
    "prop = \"Prove that if the lines ℓ and m are parallel, and the lines m and n are parallel, then ℓ and n are also parallel.\"\n",
    "why_this_matters = \"Extends the property of parallel lines to relationsip between multiple lines via transitivity\"\n",
    "prop\n"
   ]
  },
  {
   "cell_type": "code",
   "execution_count": 26,
   "metadata": {},
   "outputs": [],
   "source": [
    "# Let a, b, m, r, s, t, x_0, x_y be variables \n",
    "a, b, c_0, c_1, c_2, x_0, x_1 = sp.symbols('a, b, c_0, c_1, c_2, x_0, x_1')\n",
    "\n",
    "# need some random function which puts problems into this\n",
    "# a = 3\n",
    "# s = 0\n",
    "# r = 6\n",
    "# b = 0"
   ]
  },
  {
   "cell_type": "code",
   "execution_count": 27,
   "metadata": {},
   "outputs": [
    {
     "data": {
      "text/latex": [
       "$\\displaystyle a x_{0} + b x_{1} = c_{0}$"
      ],
      "text/plain": [
       "Eq(a*x_0 + b*x_1, c_0)"
      ]
     },
     "execution_count": 27,
     "metadata": {},
     "output_type": "execute_result"
    }
   ],
   "source": [
    "# Let L1 be a line\n",
    "L1 = [-c_0, a * x_0, b * x_1]\n",
    "# This implied following relationship\n",
    "R1 = sp.Eq(L1[1] + L1[2], -L1[0])\n",
    "R1"
   ]
  },
  {
   "cell_type": "code",
   "execution_count": 28,
   "metadata": {},
   "outputs": [
    {
     "data": {
      "text/latex": [
       "$\\displaystyle a x_{0} + b x_{1} = c_{1}$"
      ],
      "text/plain": [
       "Eq(a*x_0 + b*x_1, c_1)"
      ]
     },
     "execution_count": 28,
     "metadata": {},
     "output_type": "execute_result"
    }
   ],
   "source": [
    "# Let L1 be a line\n",
    "L2 = [-c_1, a * x_0, b * x_1]\n",
    "# This implied following relationship\n",
    "R2 = sp.Eq(L2[1] + L2[2], -L2[0])\n",
    "R2"
   ]
  },
  {
   "cell_type": "code",
   "execution_count": 29,
   "metadata": {},
   "outputs": [
    {
     "data": {
      "text/latex": [
       "$\\displaystyle a x_{0} + b x_{1} = c_{2}$"
      ],
      "text/plain": [
       "Eq(a*x_0 + b*x_1, c_2)"
      ]
     },
     "execution_count": 29,
     "metadata": {},
     "output_type": "execute_result"
    }
   ],
   "source": [
    "# Let L1 be a line\n",
    "L3 = [-c_2, a * x_0, b * x_1]\n",
    "# This implied following relationship\n",
    "R3 = sp.Eq(L3[1] + L3[2], -L3[0])\n",
    "R3"
   ]
  },
  {
   "cell_type": "code",
   "execution_count": 30,
   "metadata": {},
   "outputs": [],
   "source": [
    "# by 1_1_7_i, there is a number such that C_1, there is \n",
    "# anotehr number which, distinct to C_1 which makes\n",
    "# it possible that this is parallel. \n",
    "\n",
    "# assume this number is C_2\n",
    "# do the same between C_2 and C_3"
   ]
  },
  {
   "cell_type": "markdown",
   "metadata": {},
   "source": [
    "## 1_1_10"
   ]
  },
  {
   "cell_type": "code",
   "execution_count": 31,
   "metadata": {},
   "outputs": [
    {
     "data": {
      "text/plain": [
       "'For any two distinct points, there is exactly one line which passes through them both.'"
      ]
     },
     "execution_count": 31,
     "metadata": {},
     "output_type": "execute_result"
    }
   ],
   "source": [
    "prop = \"For any two distinct points, there is exactly one line which passes through them both.\"\n",
    "why_this_matters = \"There should only be a unique line between any 2 ponts\"\n",
    "prop\n"
   ]
  },
  {
   "cell_type": "code",
   "execution_count": 32,
   "metadata": {},
   "outputs": [],
   "source": [
    "# Let a, b, c, d, r, s, t, x_1, x_2 be variables\n",
    "a, b, c, d, r, s, t, x_0, x_1 = sp.symbols('a b c d r s t x_0 x_1')"
   ]
  },
  {
   "cell_type": "code",
   "execution_count": 33,
   "metadata": {},
   "outputs": [],
   "source": [
    "# let P1, P2 be points\n",
    "P1 = [a , b ]\n",
    "P2 = [c , d]\n",
    "# Note they points are distinct\n",
    "# either a \\ne C, \n",
    "# or b \\ne d"
   ]
  },
  {
   "cell_type": "code",
   "execution_count": 34,
   "metadata": {},
   "outputs": [
    {
     "data": {
      "text/latex": [
       "$\\displaystyle r x_{0} + s x_{1} = t$"
      ],
      "text/plain": [
       "Eq(r*x_0 + s*x_1, t)"
      ]
     },
     "execution_count": 34,
     "metadata": {},
     "output_type": "execute_result"
    }
   ],
   "source": [
    "# Let tL1 be a line \n",
    "L1 = [-t, r * x_0, s * x_1]\n",
    "# Let P1 and P2 be incident to L1\n",
    "# This implied following relationship\n",
    "R1 = sp.Eq(L1[1] + L1[2], -L1[0])\n",
    "R1"
   ]
  },
  {
   "cell_type": "code",
   "execution_count": 35,
   "metadata": {},
   "outputs": [
    {
     "data": {
      "text/latex": [
       "$\\displaystyle c r + d s = t$"
      ],
      "text/plain": [
       "Eq(c*r + d*s, t)"
      ]
     },
     "execution_count": 35,
     "metadata": {},
     "output_type": "execute_result"
    }
   ],
   "source": [
    "R2 = sp.Eq(c * r + d * s, t)\n",
    "R2"
   ]
  },
  {
   "cell_type": "code",
   "execution_count": 36,
   "metadata": {},
   "outputs": [
    {
     "data": {
      "text/latex": [
       "$\\displaystyle r x_{0} + s x_{1} = t$"
      ],
      "text/plain": [
       "Eq(r*x_0 + s*x_1, t)"
      ]
     },
     "execution_count": 36,
     "metadata": {},
     "output_type": "execute_result"
    }
   ],
   "source": [
    "R3 = sp.Eq(r * x_0 + s * x_1, t)\n",
    "R3"
   ]
  },
  {
   "cell_type": "code",
   "execution_count": 37,
   "metadata": {},
   "outputs": [
    {
     "data": {
      "text/latex": [
       "$\\displaystyle - c r - d s + r x_{0} + s x_{1} = 0$"
      ],
      "text/plain": [
       "Eq(-c*r - d*s + r*x_0 + s*x_1, 0)"
      ]
     },
     "execution_count": 37,
     "metadata": {},
     "output_type": "execute_result"
    }
   ],
   "source": [
    "# Let R1.lhs = R2.lhs via property of transitivity\n",
    "R4 = sp.Eq(R1.lhs - R2.lhs, 0)\n",
    "R4"
   ]
  },
  {
   "cell_type": "code",
   "execution_count": 38,
   "metadata": {},
   "outputs": [
    {
     "data": {
      "text/latex": [
       "$\\displaystyle - r \\left(c - x_{0}\\right) - s \\left(d - x_{1}\\right) = 0$"
      ],
      "text/plain": [
       "Eq(-r*(c - x_0) - s*(d - x_1), 0)"
      ]
     },
     "execution_count": 38,
     "metadata": {},
     "output_type": "execute_result"
    }
   ],
   "source": [
    "# Factor R3 to create groupings in r and s\n",
    "R5 = sp.factor(R4, [r, s])\n",
    "R5"
   ]
  },
  {
   "cell_type": "code",
   "execution_count": 39,
   "metadata": {},
   "outputs": [
    {
     "data": {
      "text/latex": [
       "$\\displaystyle r = \\frac{s \\left(- d + x_{1}\\right)}{c - x_{0}}$"
      ],
      "text/plain": [
       "Eq(r, s*(-d + x_1)/(c - x_0))"
      ]
     },
     "execution_count": 39,
     "metadata": {},
     "output_type": "execute_result"
    }
   ],
   "source": [
    "# Solve R4 for r\n",
    "R6 = sp.Eq(r, sp.solve(R5, r)[0])\n",
    "R6"
   ]
  },
  {
   "cell_type": "code",
   "execution_count": 40,
   "metadata": {},
   "outputs": [
    {
     "data": {
      "text/latex": [
       "$\\displaystyle \\frac{r}{s} = \\frac{- d + x_{1}}{c - x_{0}}$"
      ],
      "text/plain": [
       "Eq(r/s, (-d + x_1)/(c - x_0))"
      ]
     },
     "execution_count": 40,
     "metadata": {},
     "output_type": "execute_result"
    }
   ],
   "source": [
    "# Divide both sides of R5 by s to create a relationship between r and so, and a, b, c and d\n",
    "R7 = sp.Eq(R6.lhs / s, R6.rhs / s)\n",
    "R7\n",
    "\n",
    "# NOTE: I have a value in terms of a, b, c, d assuming that either a  or c are not equal to zero"
   ]
  },
  {
   "cell_type": "code",
   "execution_count": 41,
   "metadata": {},
   "outputs": [
    {
     "data": {
      "text/latex": [
       "$\\displaystyle \\frac{s x_{0} \\left(- d + x_{1}\\right)}{c - x_{0}} + s x_{1} = t$"
      ],
      "text/plain": [
       "Eq(s*x_0*(-d + x_1)/(c - x_0) + s*x_1, t)"
      ]
     },
     "execution_count": 41,
     "metadata": {},
     "output_type": "execute_result"
    }
   ],
   "source": [
    "\n",
    "# Subs value of r into R5\n",
    "R8 = R1.subs(r, R6.rhs)\n",
    "R8"
   ]
  },
  {
   "cell_type": "code",
   "execution_count": 42,
   "metadata": {},
   "outputs": [],
   "source": [
    "# solve R7 for t/s"
   ]
  },
  {
   "cell_type": "code",
   "execution_count": 43,
   "metadata": {},
   "outputs": [
    {
     "data": {
      "text/latex": [
       "$\\displaystyle \\frac{t}{s} = \\frac{c x_{1} - d x_{0}}{c - x_{0}}$"
      ],
      "text/plain": [
       "Eq(t/s, (c*x_1 - d*x_0)/(c - x_0))"
      ]
     },
     "execution_count": 43,
     "metadata": {},
     "output_type": "execute_result"
    }
   ],
   "source": [
    "R9 = sp.solve(R8, t)[0]\n",
    "R10 = sp.Eq(t / s, R9 / s)\n",
    "R10\n",
    "# NOTE: There is now a value in terms of a, b, c, d assuming that either a  or c are not equal to zero"
   ]
  },
  {
   "cell_type": "code",
   "execution_count": 44,
   "metadata": {},
   "outputs": [
    {
     "data": {
      "text/latex": [
       "$\\displaystyle \\frac{r x_{0}}{s} + x_{1} = \\frac{t}{s}$"
      ],
      "text/plain": [
       "Eq(r*x_0/s + x_1, t/s)"
      ]
     },
     "execution_count": 44,
     "metadata": {},
     "output_type": "execute_result"
    }
   ],
   "source": [
    "# Manipulate R3 by dividing all terms by S\n",
    "R11 = sp.Eq(R3.lhs / s, R3.rhs / s)\n",
    "R12 = sp.Eq(R11.lhs.simplify(), R11.rhs)\n",
    "R12"
   ]
  },
  {
   "cell_type": "code",
   "execution_count": 45,
   "metadata": {},
   "outputs": [
    {
     "data": {
      "text/latex": [
       "$\\displaystyle \\frac{x_{0} \\left(- d + x_{1}\\right)}{c - x_{0}} + x_{1} = \\frac{t}{s}$"
      ],
      "text/plain": [
       "Eq(x_0*(-d + x_1)/(c - x_0) + x_1, t/s)"
      ]
     },
     "execution_count": 45,
     "metadata": {},
     "output_type": "execute_result"
    }
   ],
   "source": [
    "R13 = R12.subs(R7.lhs, R7.rhs)\n",
    "R13"
   ]
  },
  {
   "cell_type": "code",
   "execution_count": 46,
   "metadata": {},
   "outputs": [
    {
     "data": {
      "text/latex": [
       "$\\displaystyle \\frac{x_{0} \\left(- d + x_{1}\\right)}{c - x_{0}} + x_{1} = \\frac{c x_{1} - d x_{0}}{c - x_{0}}$"
      ],
      "text/plain": [
       "Eq(x_0*(-d + x_1)/(c - x_0) + x_1, (c*x_1 - d*x_0)/(c - x_0))"
      ]
     },
     "execution_count": 46,
     "metadata": {},
     "output_type": "execute_result"
    }
   ],
   "source": [
    "R14 = R13.subs(R10.lhs, R10.rhs)\n",
    "R14"
   ]
  },
  {
   "cell_type": "code",
   "execution_count": 47,
   "metadata": {},
   "outputs": [],
   "source": [
    "# Proof conclusion\n",
    "# R14 is a unique line that passes between two points\n",
    "# constructed of a, b, c, d\n",
    "# in the case for b ne d will also hold"
   ]
  },
  {
   "cell_type": "markdown",
   "metadata": {},
   "source": [
    "## 1_1_12"
   ]
  },
  {
   "cell_type": "code",
   "execution_count": 48,
   "metadata": {},
   "outputs": [
    {
     "data": {
      "text/plain": [
       "'Show that three distinct points A,B and C are collinear precisely when AB and AC are coincident.'"
      ]
     },
     "execution_count": 48,
     "metadata": {},
     "output_type": "execute_result"
    }
   ],
   "source": [
    "prop = \"Show that three distinct points A,B and C are collinear precisely when AB and AC are coincident.\"\n",
    "why_this_matters = \"This brings together the idea of collinearity and coindenct, that points that are colinear relte to lines that are coincident\"\n",
    "prop\n"
   ]
  },
  {
   "cell_type": "code",
   "execution_count": 49,
   "metadata": {},
   "outputs": [],
   "source": [
    "# Let A, B, C be three variables \n",
    "A, B, C = sp.symbols('A B C')"
   ]
  },
  {
   "cell_type": "code",
   "execution_count": 50,
   "metadata": {},
   "outputs": [],
   "source": [
    "# Let A, B, C be points\n",
    "\n",
    "# Suppose A, B and C are collinear\n",
    "\n",
    "# By the proof 1_1_10, there must be a unique line between A and B\n",
    "\n",
    "# By the proof 1_1_10, there must be a unique line between A and C \n",
    "\n",
    "# Let l be a line passing through A, B, and C\n",
    "\n",
    "# A and B are coincident to l\n",
    "\n",
    "# A and C are coincident to l\n",
    "\n",
    "# l can be desfined from AB and AC\n",
    "\n",
    "# From transitivity, AB = AC"
   ]
  },
  {
   "cell_type": "markdown",
   "metadata": {},
   "source": [
    "## 1_1_14"
   ]
  },
  {
   "cell_type": "code",
   "execution_count": 51,
   "metadata": {},
   "outputs": [
    {
     "data": {
      "text/plain": [
       "'If ℓ and m are non-parallel lines, then there is exactly one point ℓm which lies on them both.'"
      ]
     },
     "execution_count": 51,
     "metadata": {},
     "output_type": "execute_result"
    }
   ],
   "source": [
    "prop = \"If ℓ and m are non-parallel lines, then there is exactly one point ℓm which lies on them both.\"\n",
    "why_this_matters = \"This goes to lines can only meets once. It also shows different possibilities of what this point would be depending on what is 0\"\n",
    "prop\n"
   ]
  },
  {
   "cell_type": "code",
   "execution_count": 52,
   "metadata": {},
   "outputs": [],
   "source": [
    "# a, b, c, d, f, g, x_0, x_1 be variables\n",
    "a, b, c, d, f, g, x_0, x_1 = var('a, b, c, d, f, g, x_0, x_1 ')"
   ]
  },
  {
   "cell_type": "code",
   "execution_count": 53,
   "metadata": {},
   "outputs": [
    {
     "data": {
      "text/html": [
       "<html><script type=\"math/tex; mode=display\">\\newcommand{\\Bold}[1]{\\mathbf{#1}}a x_{0} + b x_{1} = f</script></html>"
      ],
      "text/plain": [
       "a*x_0 + b*x_1 == f"
      ]
     },
     "metadata": {},
     "output_type": "display_data"
    }
   ],
   "source": [
    "# Let L2 be a line \n",
    "L1 = [f, a * x_0, b * x_1]\n",
    "# Let P1 and P2 be incident to L1\n",
    "# This implied following relationship\n",
    "R1 = sp.Eq(L1[1] + L1[2], -L1[0])\n",
    "R1 = L1[1] + L1[2] == L1[0]\n",
    "show(R1)"
   ]
  },
  {
   "cell_type": "code",
   "execution_count": 54,
   "metadata": {},
   "outputs": [
    {
     "data": {
      "text/html": [
       "<html><script type=\"math/tex; mode=display\">\\newcommand{\\Bold}[1]{\\mathbf{#1}}c x_{0} + d x_{1} = g</script></html>"
      ],
      "text/plain": [
       "c*x_0 + d*x_1 == g"
      ]
     },
     "metadata": {},
     "output_type": "display_data"
    }
   ],
   "source": [
    "# Let L2 be a line \n",
    "L2 = [g, c * x_0, d * x_1]\n",
    "# Let 1 and P2 be incident to L1\n",
    "# This implied following relationship\n",
    "R2 = sp.Eq(L2[1] + L2[2], -L2[0])\n",
    "R2 = L2[1] + L2[2] == L2[0]\n",
    "show(R2)"
   ]
  },
  {
   "cell_type": "code",
   "execution_count": 55,
   "metadata": {},
   "outputs": [
    {
     "data": {
      "text/html": [
       "<html><script type=\"math/tex; mode=display\">\\newcommand{\\Bold}[1]{\\mathbf{#1}}-b c + a d \\neq 0</script></html>"
      ],
      "text/plain": [
       "-b*c + a*d != 0"
      ]
     },
     "metadata": {},
     "output_type": "display_data"
    }
   ],
   "source": [
    "# Suppose that ad - bc != 0 so the lines are not\n",
    "# parallel by definition\n",
    "R3 = a*d - b*c != 0\n",
    "show(R3)"
   ]
  },
  {
   "cell_type": "code",
   "execution_count": 56,
   "metadata": {},
   "outputs": [],
   "source": [
    "# Conditional relationships \n",
    "# Note: If b == 0, a != 0, and  d != 0"
   ]
  },
  {
   "cell_type": "code",
   "execution_count": 57,
   "metadata": {},
   "outputs": [
    {
     "data": {
      "text/html": [
       "<html><script type=\"math/tex; mode=display\">\\newcommand{\\Bold}[1]{\\mathbf{#1}}x_{0} = -\\frac{d f - b g}{b c - a d}</script></html>"
      ],
      "text/plain": [
       "x_0 == -(d*f - b*g)/(b*c - a*d)"
      ]
     },
     "metadata": {},
     "output_type": "display_data"
    },
    {
     "data": {
      "text/html": [
       "<html><script type=\"math/tex; mode=display\">\\newcommand{\\Bold}[1]{\\mathbf{#1}}x_{1} = \\frac{c f - a g}{b c - a d}</script></html>"
      ],
      "text/plain": [
       "x_1 == (c*f - a*g)/(b*c - a*d)"
      ]
     },
     "metadata": {},
     "output_type": "display_data"
    }
   ],
   "source": [
    "# Solve R1, R2 for x_0 and x_1 and create new relationships\n",
    "R4 = solve([R1, R2], x_0, x_1)[0]\n",
    "R5 = R4[0]\n",
    "R6 = R4[1]\n",
    "show(R5)\n",
    "show(R6)"
   ]
  },
  {
   "cell_type": "code",
   "execution_count": 58,
   "metadata": {},
   "outputs": [
    {
     "data": {
      "text/html": [
       "<html><script type=\"math/tex; mode=display\">\\newcommand{\\Bold}[1]{\\mathbf{#1}}x_{0} = \\frac{f}{a}</script></html>"
      ],
      "text/plain": [
       "x_0 == f/a"
      ]
     },
     "metadata": {},
     "output_type": "display_data"
    }
   ],
   "source": [
    "# Suppose the condition that b == 0, so a != 0 and d != 0\n",
    "R7 = R5.substitute(b = 0)\n",
    "show(R7)"
   ]
  },
  {
   "cell_type": "code",
   "execution_count": 59,
   "metadata": {},
   "outputs": [
    {
     "data": {
      "text/html": [
       "<html><script type=\"math/tex; mode=display\">\\newcommand{\\Bold}[1]{\\mathbf{#1}}x_{1} = -\\frac{c f - a g}{a d}</script></html>"
      ],
      "text/plain": [
       "x_1 == -(c*f - a*g)/(a*d)"
      ]
     },
     "metadata": {},
     "output_type": "display_data"
    }
   ],
   "source": [
    "R8 = R6.substitute(b = 0)\n",
    "show(R8)"
   ]
  },
  {
   "cell_type": "code",
   "execution_count": 60,
   "metadata": {},
   "outputs": [
    {
     "data": {
      "text/html": [
       "<html><script type=\"math/tex; mode=display\">\\newcommand{\\Bold}[1]{\\mathbf{#1}}x_{0} = \\frac{g}{c}</script></html>"
      ],
      "text/plain": [
       "x_0 == g/c"
      ]
     },
     "metadata": {},
     "output_type": "display_data"
    }
   ],
   "source": [
    "# Alternatively, suppose the condition that d == 0, b != 0, and  c != 0\n",
    "R9 = R5.substitute(d = 0)\n",
    "show(R9)"
   ]
  },
  {
   "cell_type": "code",
   "execution_count": 61,
   "metadata": {},
   "outputs": [
    {
     "data": {
      "text/html": [
       "<html><script type=\"math/tex; mode=display\">\\newcommand{\\Bold}[1]{\\mathbf{#1}}x_{1} = \\frac{c f - a g}{b c}</script></html>"
      ],
      "text/plain": [
       "x_1 == (c*f - a*g)/(b*c)"
      ]
     },
     "metadata": {},
     "output_type": "display_data"
    }
   ],
   "source": [
    "R10 = R6.substitute(d = 0)\n",
    "show(R10)"
   ]
  },
  {
   "cell_type": "code",
   "execution_count": 62,
   "metadata": {},
   "outputs": [],
   "source": [
    "# Finally, suppose that both d != 0 and b != 0\n",
    "# solve values using system of equations\n",
    "# multiply each equation by a scalar"
   ]
  },
  {
   "cell_type": "code",
   "execution_count": 63,
   "metadata": {},
   "outputs": [
    {
     "data": {
      "text/html": [
       "<html><script type=\"math/tex; mode=display\">\\newcommand{\\Bold}[1]{\\mathbf{#1}}a d x_{0} + b d x_{1} = d f</script></html>"
      ],
      "text/plain": [
       "a*d*x_0 + b*d*x_1 == d*f"
      ]
     },
     "metadata": {},
     "output_type": "display_data"
    },
    {
     "data": {
      "text/html": [
       "<html><script type=\"math/tex; mode=display\">\\newcommand{\\Bold}[1]{\\mathbf{#1}}b c x_{0} + b d x_{1} = b g</script></html>"
      ],
      "text/plain": [
       "b*c*x_0 + b*d*x_1 == b*g"
      ]
     },
     "metadata": {},
     "output_type": "display_data"
    }
   ],
   "source": [
    "\n",
    "R11 = (R1 * d).expand()\n",
    "show(R11)\n",
    "R12 = (R2 * b).expand()\n",
    "show(R12)"
   ]
  },
  {
   "cell_type": "code",
   "execution_count": 64,
   "metadata": {},
   "outputs": [
    {
     "data": {
      "text/html": [
       "<html><script type=\"math/tex; mode=display\">\\newcommand{\\Bold}[1]{\\mathbf{#1}}b c x_{0} - a d x_{0} = -d f + b g</script></html>"
      ],
      "text/plain": [
       "b*c*x_0 - a*d*x_0 == -d*f + b*g"
      ]
     },
     "metadata": {},
     "output_type": "display_data"
    }
   ],
   "source": [
    "# Subract R11 from R12, Gaussian elimination\n",
    "R13 = (R12 - R11) \n",
    "show(R13)"
   ]
  },
  {
   "cell_type": "code",
   "execution_count": 65,
   "metadata": {},
   "outputs": [
    {
     "data": {
      "text/html": [
       "<html><script type=\"math/tex; mode=display\">\\newcommand{\\Bold}[1]{\\mathbf{#1}}x_{0} = -\\frac{d f - b g}{b c - a d}</script></html>"
      ],
      "text/plain": [
       "x_0 == -(d*f - b*g)/(b*c - a*d)"
      ]
     },
     "metadata": {},
     "output_type": "display_data"
    }
   ],
   "source": [
    "# Solve for x_0\n",
    "R14 = solve(R13, x_0)[0]\n",
    "show(R14)"
   ]
  },
  {
   "cell_type": "code",
   "execution_count": 66,
   "metadata": {},
   "outputs": [
    {
     "data": {
      "text/html": [
       "<html><script type=\"math/tex; mode=display\">\\newcommand{\\Bold}[1]{\\mathbf{#1}}b d x_{1} - \\frac{{\\left(d f - b g\\right)} b c}{b c - a d} = b g</script></html>"
      ],
      "text/plain": [
       "b*d*x_1 - (d*f - b*g)*b*c/(b*c - a*d) == b*g"
      ]
     },
     "metadata": {},
     "output_type": "display_data"
    }
   ],
   "source": [
    "# subs in \n",
    "R15 = R12.substitute(x_0 = R14.rhs())\n",
    "show(R15)\n",
    "\n"
   ]
  },
  {
   "cell_type": "code",
   "execution_count": 67,
   "metadata": {},
   "outputs": [
    {
     "data": {
      "text/html": [
       "<html><script type=\"math/tex; mode=display\">\\newcommand{\\Bold}[1]{\\mathbf{#1}}x_{1} = \\frac{c f - a g}{b c - a d}</script></html>"
      ],
      "text/plain": [
       "x_1 == (c*f - a*g)/(b*c - a*d)"
      ]
     },
     "metadata": {},
     "output_type": "display_data"
    }
   ],
   "source": [
    "# Solve\n",
    "R16 = solve(R15, x_1)[0]\n",
    "show(R16)"
   ]
  },
  {
   "cell_type": "code",
   "execution_count": 68,
   "metadata": {},
   "outputs": [],
   "source": [
    "# Proof conclusion: \n",
    "# This proof shows that there is only 1 solutino for each, and we\n",
    "# derive this algebraically. Note however, that in creating\n",
    "# we need to consider different conditional cases, and they will lead \n",
    "# to different outcomes, to ensure that denominator is 0\n"
   ]
  },
  {
   "cell_type": "markdown",
   "metadata": {},
   "source": [
    "## 1_1_19"
   ]
  },
  {
   "cell_type": "code",
   "execution_count": 69,
   "metadata": {},
   "outputs": [
    {
     "data": {
      "text/plain": [
       "'Let ABCD be a parallelogram. Show that the diagonals AC and BD are not parallel and the meet point of diagonals is the midpoint of the points A and C as well as of the points B and D.'"
      ]
     },
     "execution_count": 69,
     "metadata": {},
     "output_type": "execute_result"
    }
   ],
   "source": [
    "prop = \"Let ABCD be a parallelogram. Show that the diagonals AC and BD are not parallel and the meet point of diagonals is the midpoint of the points A and C as well as of the points B and D.\"\n",
    "why_this_matters = \"MOre complicated, properties of parallelogram\"\n",
    "prop\n"
   ]
  },
  {
   "cell_type": "code",
   "execution_count": 70,
   "metadata": {},
   "outputs": [],
   "source": [
    "# a, b, c, d, x_0, x_1, k_1, k_2, k_3, k_4  be variables\n",
    "a, b, c, d, x_0, x_1, k_1, k_2, k_3, k_4 = var('a, b, c, d, x_0, x_1, k_1, k_2, k_3, k_4 ')"
   ]
  },
  {
   "cell_type": "code",
   "execution_count": null,
   "metadata": {},
   "outputs": [],
   "source": []
  }
 ],
 "metadata": {
  "kernelspec": {
   "display_name": "Python 3",
   "language": "python",
   "name": "python3"
  },
  "language_info": {
   "codemirror_mode": {
    "name": "ipython",
    "version": 3
   },
   "file_extension": ".py",
   "mimetype": "text/x-python",
   "name": "python",
   "nbconvert_exporter": "python",
   "pygments_lexer": "ipython3",
   "version": "3.9.2"
  }
 },
 "nbformat": 4,
 "nbformat_minor": 4
}
