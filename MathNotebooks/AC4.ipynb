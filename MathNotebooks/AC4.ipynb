{
 "cells": [
  {
   "cell_type": "code",
   "execution_count": 1,
   "metadata": {},
   "outputs": [],
   "source": [
    "import numpy as np\n",
    "import shared_functions as sf\n",
    "import sympy as sp\n",
    "from IPython.display import HTML\n",
    "import matplotlib.pyplot as plt"
   ]
  },
  {
   "cell_type": "markdown",
   "metadata": {},
   "source": [
    "In the last notebook we finished by examining the signed area of a triangle whose vertices satisfied the parameterisation of a relativistic hyperbola.\n",
    "The first thing to do is bring some our functions across. Soon it will make a lot more sense to put these in a seperate .py file and call them in (in fact, we have already dont this with shared functions above) but for now we are ok\n",
    "\n"
   ]
  },
  {
   "cell_type": "code",
   "execution_count": 2,
   "metadata": {},
   "outputs": [],
   "source": [
    "def compute_cross_product_from_two_points(points_list):\n",
    "    c = points_list[0][0] * points_list[1][1] - points_list[0][1] * points_list[1][0]\n",
    "    return(c)\n",
    "\n",
    "def compute_signed_area_of_triangle_from_two_points(points_list):\n",
    "    c = compute_cross_product_from_two_points(points_list)\n",
    "    signed_area = c / 2\n",
    "    return(signed_area)\n",
    "\n",
    "def compute_signed_area_using_meisters_formula(points_list):\n",
    "\n",
    "    total_signed_area = 0\n",
    "    for each_point in range(len(points_list) - 1):\n",
    "        signed_area = compute_signed_area_of_triangle_from_two_points([points_list[each_point], points_list[each_point + 1]])\n",
    "        total_signed_area = total_signed_area + signed_area\n",
    "\n",
    "    final_signed_area = compute_signed_area_of_triangle_from_two_points([points_list[-1], points_list[0]])\n",
    "    total_signed_area = total_signed_area + final_signed_area\n",
    "\n",
    "    return(total_signed_area)\n",
    "\n",
    "def compute_using_meister_with_parabola_paramatisation(a, b, c, d):\n",
    "    return (((d - b) * (c - a)* (d - a + b - c)) / 2)\n"
   ]
  },
  {
   "cell_type": "markdown",
   "metadata": {},
   "source": [
    " Let's continue the theme of examining curves and look at signed area on the folium of descartes. The curve can be described as $x^3+y^3-3xy=0$ and parameterised by  $$ g(t)=\\left[\\frac{3t}{t^3+1},\\frac{3t^2}{t^3+1}\\right].$$\n",
    "\n",
    "\n",
    "Recall that with these types of problems we are first finding points that meet certain criteria, and then putting these points into the formula above"
   ]
  },
  {
   "cell_type": "code",
   "execution_count": 12,
   "metadata": {},
   "outputs": [
    {
     "data": {
      "text/plain": [
       "[<matplotlib.lines.Line2D object at 0x7fb80c969d68>]"
      ]
     },
     "execution_count": 12,
     "metadata": {},
     "output_type": "execute_result"
    },
    {
     "data": {
      "image/png": "[encoded data removed]",
      "text/plain": [
       "<Figure size 432x288 with 1 Axes>"
      ]
     },
     "metadata": {},
     "output_type": "display_data"
    }
   ],
   "source": [
    "values_for_parameterisation = []\n",
    "\n",
    "values_for_parameterisation.extend(np.arange(start=-10, stop=-1.1, step=.01)) \n",
    "values_for_parameterisation.extend(np.arange(start=-.9, stop=10, step=.01)) \n",
    "\n",
    "curve_points_x = [(3 * i)/(i^3 + 1) for i in values_for_parameterisation]\n",
    "curve_points_y = [(3 * i^2)/(i^3 + 1) for i in values_for_parameterisation]\n",
    "\n",
    "\n",
    "fig, ax = plt.subplots()\n",
    "ax.plot(curve_points_x, curve_points_y, 'bo', markersize = 2)\n"
   ]
  },
  {
   "cell_type": "markdown",
   "metadata": {},
   "source": [
    "This visualisation accords with what we know, bu we should never assume things just from a picture: we need to prove things algebraically. Let's also check that a general point created from this parametisation also satisfies"
   ]
  },
  {
   "cell_type": "code",
   "execution_count": 4,
   "metadata": {},
   "outputs": [
    {
     "data": {
      "text/latex": [
       "$\\displaystyle \\frac{27 t^{6}}{t^{9} + 3 t^{6} + 3 t^{3} + 1} + \\frac{27 t^{3}}{t^{9} + 3 t^{6} + 3 t^{3} + 1} - \\frac{27 t^{3}}{t^{6} + 2 t^{3} + 1} = 0$"
      ],
      "text/plain": [
       "Eq(27*t**6/(t**9 + 3*t**6 + 3*t**3 + 1) + 27*t**3/(t**9 + 3*t**6 + 3*t**3 + 1) - 27*t**3/(t**6 + 2*t**3 + 1), 0)"
      ]
     },
     "execution_count": 4,
     "metadata": {},
     "output_type": "execute_result"
    }
   ],
   "source": [
    "t = sp.symbols('t')\n",
    "p_1 = ((3 * t)/(t^3 + 1))\n",
    "p_2 = ((3 * t^2)/(t^3 + 1))\n",
    "\n",
    "r = sp.Eq(p_1^3 + p_2^3 - (3 * p_1 * p_2), 0)\n",
    "r.expand()"
   ]
  },
  {
   "cell_type": "markdown",
   "metadata": {},
   "source": [
    "That looks pretty bad, but when it is factored, it just comes out as $0 = 0$"
   ]
  },
  {
   "cell_type": "code",
   "execution_count": 5,
   "metadata": {},
   "outputs": [
    {
     "data": {
      "text/latex": [
       "$\\displaystyle \\text{True}$"
      ],
      "text/plain": [
       "True"
      ]
     },
     "execution_count": 5,
     "metadata": {},
     "output_type": "execute_result"
    }
   ],
   "source": [
    "r.factor()"
   ]
  },
  {
   "cell_type": "markdown",
   "metadata": {},
   "source": [
    "Just as we have done previously, we can also create some points using this parameterisation of $ g(t)=\\left[\\frac{3t}{t^3+1},\\frac{3t^2}{t^3+1}\\right]$ and pass this into our Meisters formula function to give us a signed area of an orientated triangle on the Folium of Descartes would be:  "
   ]
  },
  {
   "cell_type": "code",
   "execution_count": 6,
   "metadata": {},
   "outputs": [
    {
     "data": {
      "text/html": [
       "<html><script type=\"math/tex; mode=display\">\\newcommand{\\Bold}[1]{\\mathbf{#1}}-\\frac{9 \\, t_{1}^{2} t_{2}}{2 \\, {\\left(t_{1}^{3} + 1\\right)} {\\left(t_{2}^{3} + 1\\right)}} + \\frac{9 \\, t_{1} t_{2}^{2}}{2 \\, {\\left(t_{1}^{3} + 1\\right)} {\\left(t_{2}^{3} + 1\\right)}} + \\frac{9 \\, t_{1}^{2} t_{3}}{2 \\, {\\left(t_{1}^{3} + 1\\right)} {\\left(t_{3}^{3} + 1\\right)}} - \\frac{9 \\, t_{2}^{2} t_{3}}{2 \\, {\\left(t_{2}^{3} + 1\\right)} {\\left(t_{3}^{3} + 1\\right)}} - \\frac{9 \\, t_{1} t_{3}^{2}}{2 \\, {\\left(t_{1}^{3} + 1\\right)} {\\left(t_{3}^{3} + 1\\right)}} + \\frac{9 \\, t_{2} t_{3}^{2}}{2 \\, {\\left(t_{2}^{3} + 1\\right)} {\\left(t_{3}^{3} + 1\\right)}}</script></html>"
      ],
      "text/plain": [
       "-9/2*t_1^2*t_2/((t_1^3 + 1)*(t_2^3 + 1)) + 9/2*t_1*t_2^2/((t_1^3 + 1)*(t_2^3 + 1)) + 9/2*t_1^2*t_3/((t_1^3 + 1)*(t_3^3 + 1)) - 9/2*t_2^2*t_3/((t_2^3 + 1)*(t_3^3 + 1)) - 9/2*t_1*t_3^2/((t_1^3 + 1)*(t_3^3 + 1)) + 9/2*t_2*t_3^2/((t_2^3 + 1)*(t_3^3 + 1))"
      ]
     },
     "metadata": {},
     "output_type": "display_data"
    }
   ],
   "source": [
    "t_1, t_2, t_3 = sp.symbols('t_1, t_2, t_3')\n",
    "\n",
    "p_1 = ((3 * t_1)/(t_1^3 + 1))\n",
    "p_2 = ((3 * t_1^2)/(t_1^3 + 1))\n",
    "\n",
    "p_3 = ((3 * t_2)/(t_2^3 + 1))\n",
    "p_4 = ((3 * t_2^2)/(t_2^3 + 1))\n",
    "\n",
    "p_5 = ((3 * t_3)/(t_3^3 + 1))\n",
    "p_6 = ((3 * t_3^2)/(t_3^3 + 1))\n",
    "\n",
    "s =compute_signed_area_using_meisters_formula([[p_1, p_2], [p_3, p_4], [p_5, p_6]])\n",
    "show(s)"
   ]
  },
  {
   "cell_type": "markdown",
   "metadata": {},
   "source": [
    "And let's factor: "
   ]
  },
  {
   "cell_type": "code",
   "execution_count": 7,
   "metadata": {},
   "outputs": [
    {
     "data": {
      "text/html": [
       "<html><script type=\"math/tex; mode=display\">\\newcommand{\\Bold}[1]{\\mathbf{#1}}-\\frac{9 \\, {\\left(t_{1} t_{2} t_{3} + 1\\right)} {\\left(t_{1} - t_{2}\\right)} {\\left(t_{1} - t_{3}\\right)} {\\left(t_{2} - t_{3}\\right)}}{2 \\, {\\left(t_{1}^{2} - t_{1} + 1\\right)} {\\left(t_{2}^{2} - t_{2} + 1\\right)} {\\left(t_{3}^{2} - t_{3} + 1\\right)} {\\left(t_{1} + 1\\right)} {\\left(t_{2} + 1\\right)} {\\left(t_{3} + 1\\right)}}</script></html>"
      ],
      "text/plain": [
       "-9/2*(t_1*t_2*t_3 + 1)*(t_1 - t_2)*(t_1 - t_3)*(t_2 - t_3)/((t_1^2 - t_1 + 1)*(t_2^2 - t_2 + 1)*(t_3^2 - t_3 + 1)*(t_1 + 1)*(t_2 + 1)*(t_3 + 1))"
      ]
     },
     "metadata": {},
     "output_type": "display_data"
    }
   ],
   "source": [
    "show(s.factor())"
   ]
  },
  {
   "cell_type": "markdown",
   "metadata": {},
   "source": [
    "Still could be simpler to look at. Let's manipulate the expression a little more: "
   ]
  },
  {
   "cell_type": "code",
   "execution_count": 8,
   "metadata": {},
   "outputs": [
    {
     "data": {
      "text/html": [
       "<html><script type=\"math/tex; mode=display\">\\newcommand{\\Bold}[1]{\\mathbf{#1}}-\\frac{9 \\, {\\left(t_{1} t_{2} t_{3} + 1\\right)} {\\left(t_{1} - t_{2}\\right)} {\\left(t_{1} - t_{3}\\right)} {\\left(t_{2} - t_{3}\\right)}}{2 \\, {\\left(t_{1}^{3} + 1\\right)} {\\left(t_{2}^{3} + 1\\right)} {\\left(t_{3}^{3} + 1\\right)}}</script></html>"
      ],
      "text/plain": [
       "-9/2*(t_1*t_2*t_3 + 1)*(t_1 - t_2)*(t_1 - t_3)*(t_2 - t_3)/((t_1^3 + 1)*(t_2^3 + 1)*(t_3^3 + 1))"
      ]
     },
     "metadata": {},
     "output_type": "display_data"
    }
   ],
   "source": [
    "show(s.numerator().factor() / s.denominator())"
   ]
  },
  {
   "cell_type": "markdown",
   "metadata": {},
   "source": [
    "That looks ok. Note that we can also just get rid of that sign out the front and we end up with a formula for the area of an orientated triangle on the Folium of Descartes as follows:  \n",
    "$$   \\frac{9(t_1-t_2)(t_2-t_3)(t_3-t_1)(t_1t_2t_3+1)}{2(t_1^3+1)(t_2^3+1)(t_3^3+1)}.$$\n",
    "\n",
    "Though this curve looks more complicated that the others, we can easily use it to compute fixed and arbitray points. \n",
    "\n",
    "Let's try an example. If we have two points, $A = [\\frac{6}{7}, \\frac{-12}{7}]$ and $B = [\\frac{4}{3}, \\frac{2}{3}]$ if we have two points that are fixed, we could calculate an arbitrary third point, C that satisfies and the parmeterisation . As always, let's start with a visualisation"
   ]
  },
  {
   "cell_type": "code",
   "execution_count": 20,
   "metadata": {},
   "outputs": [
    {
     "data": {
      "text/plain": [
       "[<matplotlib.lines.Line2D object at 0x7fb7f4debe80>]"
      ]
     },
     "execution_count": 20,
     "metadata": {},
     "output_type": "execute_result"
    },
    {
     "data": {
      "image/png": "[encoded data removed]",
      "text/plain": [
       "<Figure size 432x288 with 1 Axes>"
      ]
     },
     "metadata": {},
     "output_type": "display_data"
    }
   ],
   "source": [
    "values_for_parameterisation = []\n",
    "\n",
    "values_for_parameterisation.extend(np.arange(start=-10, stop=-1.1, step=.01)) \n",
    "values_for_parameterisation.extend(np.arange(start=-.9, stop=10, step=.01)) \n",
    "\n",
    "curve_points_x = [(3 * i)/(i^3 + 1) for i in values_for_parameterisation]\n",
    "curve_points_y = [(3 * i^2)/(i^3 + 1) for i in values_for_parameterisation]\n",
    "\n",
    "\n",
    "points_choice = np.array([[6/7, -12/7],[4/3,2/3]])\n",
    "points_for_plotting = np.append(points_choice, [points_choice[0]], axis=0)\n",
    "triangle_points_x = [e[0] for e in points_for_plotting]\n",
    "triangle_points_y = [e[1] for e in points_for_plotting]\n",
    "\n",
    "\n",
    "fig, ax = plt.subplots()\n",
    "ax.plot(curve_points_x, curve_points_y, 'bo', markersize = 2)\n",
    "ax.plot(triangle_points_x, triangle_points_y, 'ro', markersize = 4)\n"
   ]
  },
  {
   "cell_type": "markdown",
   "metadata": {},
   "source": [
    "So we need to find some 3rd point that would collinear to the other two points. \n",
    "\n",
    "Let's used our derived formula above, and note that we need 3 $t_1, t_2$ and $t_3$ to plug into this formula. The first thing to do is used the existing points to find values we can use for $t_1, t_2$. For $t_1$"
   ]
  },
  {
   "cell_type": "code",
   "execution_count": 45,
   "metadata": {},
   "outputs": [
    {
     "name": "stdout",
     "output_type": "stream",
     "text": [
      "[-2, 1 - sqrt(2)/2, sqrt(2)/2 + 1]\n",
      "[-2, 1/8 - sqrt(31)*I/8, 1/8 + sqrt(31)*I/8]\n"
     ]
    }
   ],
   "source": [
    "t_1 = sp.symbols('t_1')\n",
    "\n",
    "x_param = ((3 * t_1)/(t_1^3 + 1))\n",
    "e_1 = sp.Eq(x_param, 6/7)\n",
    "\n",
    "y_param = ((3 * t_1^2)/(t_1^3 + 1))\n",
    "e_2 = sp.Eq(y_param, -12/7)\n",
    "\n",
    "\n",
    "print(sp.solve(e_1, t_1))\n",
    "print(sp.solve(e_2, t_1))"
   ]
  },
  {
   "cell_type": "markdown",
   "metadata": {},
   "source": [
    "We get a few solutions, but the common solution to both is $t_1 = -2$. And now for $t_2$:"
   ]
  },
  {
   "cell_type": "code",
   "execution_count": 48,
   "metadata": {},
   "outputs": [
    {
     "name": "stdout",
     "output_type": "stream",
     "text": [
      "[1/2, -1/4 + sqrt(33)/4, -sqrt(33)/4 - 1/4]\n",
      "[1/2, 2 - sqrt(6), 2 + sqrt(6)]\n"
     ]
    }
   ],
   "source": [
    "t_2 = sp.symbols('t_2')\n",
    "\n",
    "x_param = ((3 * t_2)/(t_2^3 + 1))\n",
    "e_1 = sp.Eq(x_param, 4/3)\n",
    "\n",
    "y_param = ((3 * t_2^2)/(t_2^3 + 1))\n",
    "e_2 = sp.Eq(y_param, 2/3)\n",
    "\n",
    "\n",
    "print(sp.solve(e_1, t_2))\n",
    "print(sp.solve(e_2, t_2))"
   ]
  },
  {
   "cell_type": "markdown",
   "metadata": {},
   "source": [
    "Again, a few solutions, but the common solution is $t_2 = \\frac{1}{2}$. Now let's create a function for this formula and plug these values in to get an area of an orientated triangle on the Folium of Descartes, with unknown point, $t_3$"
   ]
  },
  {
   "cell_type": "code",
   "execution_count": 50,
   "metadata": {},
   "outputs": [],
   "source": [
    "def compute_signed_area_of_orientated_triangle_on_folium_of_descartes(a, b, c):\n",
    "    numerator = 9 * (a - b)* (b - c) * (c - a) * (a * b * c + 1)\n",
    "    denominator = 2 * (a^3 + 1) * (b^3 + 1) * (c^3 + 1)\n",
    "    return(numerator / denominator)"
   ]
  },
  {
   "cell_type": "code",
   "execution_count": 52,
   "metadata": {},
   "outputs": [
    {
     "data": {
      "text/html": [
       "<html><script type=\"math/tex; mode=display\">\\newcommand{\\Bold}[1]{\\mathbf{#1}}\\frac{5 \\, {\\left(2 \\, t_{3} - 1\\right)} {\\left(t_{3} + 2\\right)} {\\left(t_{3} - 1\\right)}}{7 \\, {\\left(t_{3}^{3} + 1\\right)}}</script></html>"
      ],
      "text/plain": [
       "5/7*(2*t_3 - 1)*(t_3 + 2)*(t_3 - 1)/(t_3^3 + 1)"
      ]
     },
     "metadata": {},
     "output_type": "display_data"
    }
   ],
   "source": [
    "t_3 = sp.symbols('t_3')\n",
    "\n",
    "r = compute_signed_area_of_orientated_triangle_on_folium_of_descartes(-2, 1/2, t_3)\n",
    "show(r)"
   ]
  },
  {
   "cell_type": "markdown",
   "metadata": {},
   "source": [
    "We now have an orientated area in terms of our unknown value $t_3$. Let's assume the area equals 0 (meaning the points must be colinear) and solve for $t_3$:"
   ]
  },
  {
   "cell_type": "markdown",
   "metadata": {},
   "source": [
    "We are interested in the value of t when the area equals 0, so set the expression to 0, and solve for $t$:"
   ]
  },
  {
   "cell_type": "code",
   "execution_count": 54,
   "metadata": {},
   "outputs": [
    {
     "data": {
      "text/latex": [
       "$\\displaystyle \\frac{5 \\left(t_{3} - 1\\right) \\left(t_{3} + 2\\right) \\left(2 t_{3} - 1\\right)}{7 \\left(t_{3}^{3} + 1\\right)} = 0$"
      ],
      "text/plain": [
       "Eq(5*(t_3 - 1)*(t_3 + 2)*(2*t_3 - 1)/(7*(t_3**3 + 1)), 0)"
      ]
     },
     "execution_count": 54,
     "metadata": {},
     "output_type": "execute_result"
    }
   ],
   "source": [
    "e = sp.Eq(r, 0)\n",
    "e"
   ]
  },
  {
   "cell_type": "markdown",
   "metadata": {},
   "source": [
    "And solve for t:"
   ]
  },
  {
   "cell_type": "code",
   "execution_count": 55,
   "metadata": {},
   "outputs": [
    {
     "data": {
      "text/plain": [
       "[-2, 1/2, 1]"
      ]
     },
     "execution_count": 55,
     "metadata": {},
     "output_type": "execute_result"
    }
   ],
   "source": [
    "sp.solve(e, t_3)"
   ]
  },
  {
   "cell_type": "markdown",
   "metadata": {},
   "source": [
    "3 results returned. -2 and 1/2 are already possible values to parametise. 1 the new one. Let's put this value 1 into parameterisation $ g(t)=\\left[\\frac{3t}{t^3+1},\\frac{3t^2}{t^3+1}\\right]$  for the folium and get a third point, $[\\frac{3}{2}, \\frac{3}{2}]$. Finally, let's have a look at it: "
   ]
  },
  {
   "cell_type": "code",
   "execution_count": 58,
   "metadata": {},
   "outputs": [
    {
     "data": {
      "text/plain": [
       "[<matplotlib.lines.Line2D object at 0x7fb7f4c3ddd8>]"
      ]
     },
     "execution_count": 58,
     "metadata": {},
     "output_type": "execute_result"
    },
    {
     "data": {
      "image/png": "[encoded data removed]",
      "text/plain": [
       "<Figure size 432x288 with 1 Axes>"
      ]
     },
     "metadata": {},
     "output_type": "display_data"
    }
   ],
   "source": [
    "values_for_parameterisation = []\n",
    "\n",
    "values_for_parameterisation.extend(np.arange(start=-10, stop=-1.1, step=.01)) \n",
    "values_for_parameterisation.extend(np.arange(start=-.9, stop=10, step=.01)) \n",
    "\n",
    "curve_points_x = [(3 * i)/(i^3 + 1) for i in values_for_parameterisation]\n",
    "curve_points_y = [(3 * i^2)/(i^3 + 1) for i in values_for_parameterisation]\n",
    "\n",
    "\n",
    "points_choice = np.array([[6/7, -12/7],[4/3,2/3], [3/2,3/2]])\n",
    "points_for_plotting = np.append(points_choice, [points_choice[0]], axis=0)\n",
    "triangle_points_x = [e[0] for e in points_for_plotting]\n",
    "triangle_points_y = [e[1] for e in points_for_plotting]\n",
    "\n",
    "\n",
    "fig, ax = plt.subplots()\n",
    "ax.plot(curve_points_x, curve_points_y, 'bo', markersize = 2)\n",
    "ax.plot(triangle_points_x, triangle_points_y, 'ro', markersize = 4)\n"
   ]
  },
  {
   "cell_type": "code",
   "execution_count": null,
   "metadata": {},
   "outputs": [],
   "source": [
    "# POD PRODUCT"
   ]
  },
  {
   "cell_type": "code",
   "execution_count": null,
   "metadata": {},
   "outputs": [],
   "source": []
  },
  {
   "cell_type": "code",
   "execution_count": null,
   "metadata": {},
   "outputs": [],
   "source": []
  }
 ],
 "metadata": {
  "kernelspec": {
   "display_name": "Python 3",
   "language": "python",
   "name": "python3"
  },
  "language_info": {
   "codemirror_mode": {
    "name": "ipython",
    "version": 3
   },
   "file_extension": ".py",
   "mimetype": "text/x-python",
   "name": "python",
   "nbconvert_exporter": "python",
   "pygments_lexer": "ipython3",
   "version": "3.9.2"
  }
 },
 "nbformat": 4,
 "nbformat_minor": 4
}
