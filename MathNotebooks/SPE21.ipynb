{
 "cells": [
  {
   "cell_type": "markdown",
   "metadata": {},
   "source": [
    "<i>STATUS: Draft</i>\n",
    "\n",
    "<hr/>"
   ]
  },
  {
   "cell_type": "code",
   "execution_count": 121,
   "metadata": {},
   "outputs": [],
   "source": [
    "import numpy as np\n",
    "import sympy as sp\n",
    "import pickle\n",
    "from IPython.display import HTML, Image\n",
    "import ipywidgets as widgets\n",
    "import matplotlib as mpl\n",
    "from mpl_toolkits.mplot3d import Axes3D\n",
    "import matplotlib.pyplot as plt\n",
    "mpl.rcParams['legend.fontsize'] = 10\n",
    "import pandas as pd\n",
    "import itertools\n",
    "pd.set_option('display.max_colwidth', None)\n",
    "import treelib as tr\n",
    "\n",
    "\n",
    "# function to print latex\n",
    "def renderListToLatex(e):\n",
    "    latex_rendering = []\n",
    "\n",
    "    for i in range(len(e)):\n",
    "        latex_rendering.append(\"$$\" + sp.latex(e[i]) + \"$$\")\n",
    "    \n",
    "    return(HTML(\"\".join(latex_rendering[0:])))"
   ]
  },
  {
   "cell_type": "markdown",
   "metadata": {},
   "source": [
    "### Solving Polynomial Equations (21)"
   ]
  },
  {
   "cell_type": "markdown",
   "metadata": {},
   "source": [
    "<hr/>\n",
    "\n",
    "<b>Aim</b>: Explore ternary operations on Fuss polygonal subdivisions and thier associated ternary trees\n",
    "\n",
    "<b>Methodology</b>: Consider the structure of the first row of numbers in the matrix of coefficients returned by the function $C$\n",
    "<hr/>"
   ]
  },
  {
   "cell_type": "markdown",
   "metadata": {},
   "source": [
    "<b>Observe</b>: Recall the solution to a general cubic equation from a previous notebook.\n",
    "\n",
    "$$C(m_2, m_3)  \\equiv(-1)^{m_3 + 1} \\frac{(2 m_{2} + 3 m_{3})!}{(1 + m_{2} + 2 m_{3})!m_2!m_3!} \\frac{c_0^{1 + m_{2} + 2 m_{3}} c_2^{m_2} c_3^{m_3} }{c_1^{2 m_{2} + 3 m_{3} + 1}}$$\n",
    "\n",
    "<b>Let</b> $F1$ for a function that implements $C$."
   ]
  },
  {
   "cell_type": "code",
   "execution_count": 39,
   "metadata": {},
   "outputs": [],
   "source": [
    "def F1(m2, m3, returnCoefficientsOnly = False, returnCoefficientsOnlyWithoutSigns = True, returnCoefficientsAsFactorialStrings = False):\n",
    "    c_0, c_1, c_2, c_3 = sp.symbols('c_0, c_1, c_2, c_3')\n",
    "    s1 = (-1)**(m3 + 1)\n",
    "    s2 = sp.factorial(2 * m2 + 3 * m3)\n",
    "    s3 = sp.factorial(1 + m2 + 2 * m3) * sp.factorial(m2) * sp.factorial(m3)\n",
    "\n",
    "    \n",
    "    s4 = c_0**(1 + m2 + 2 * m3) * c_2**m2 *c_3**m3\n",
    "    s5 = c_1**(2 * m2 + 3 * m3 + 1)\n",
    "    \n",
    "    s7 = str(2 * m2 + 3 * m3) + \"!\"\n",
    "    s8 = str(1 + m2 + 2 * m3) + \"!\" + str(m2) + \"!\"  + str(m3) + \"!\"\n",
    "    \n",
    "    if returnCoefficientsOnly:\n",
    "        s6 = s1 * (s2 / s3)\n",
    "    elif returnCoefficientsOnlyWithoutSigns:\n",
    "        s6 = (s2 / s3)\n",
    "    elif returnCoefficientsAsFactorialStrings:\n",
    "        s6 = str(s7 + \" | \" + s8)\n",
    "    else:\n",
    "        s6 = s1 * (s2 / s3) * (s4 / s5)\n",
    "\n",
    "    return(s6)"
   ]
  },
  {
   "cell_type": "markdown",
   "metadata": {},
   "source": [
    "<b>Let</b> $P3$ be a matrix of values relating the part of the formula that calculates unsigned coefficients: $ \\frac{(2 m_{2} + 3 m_{3})!}{(1 + m_{2} + 2 m_{3})!m_2!m_3!}$ "
   ]
  },
  {
   "cell_type": "code",
   "execution_count": 40,
   "metadata": {},
   "outputs": [
    {
     "data": {
      "text/latex": [
       "$\\displaystyle \\left[\\begin{matrix}1 & 1 & 3 & 12 & 55 & 273 & 1428 & 7752\\\\1 & 5 & 28 & 165 & 1001 & 6188 & 38760 & 245157\\\\2 & 21 & 180 & 1430 & 10920 & 81396 & 596904 & 4326300\\\\5 & 84 & 990 & 10010 & 92820 & 813960 & 6864396 & 56241900\\\\14 & 330 & 5005 & 61880 & 678300 & 6864396 & 65615550 & 600900300\\\\42 & 1287 & 24024 & 352716 & 4476780 & 51482970 & 551170620 & 5588372790\\\\132 & 5005 & 111384 & 1899240 & 27457584 & 354323970 & 4206302100 & 46835886240\\\\429 & 19448 & 503880 & 9806280 & 159352050 & 2283421140 & 29804654880 & 361913666400\\end{matrix}\\right]$"
      ],
      "text/plain": [
       "Matrix([\n",
       "[  1,     1,      3,      12,        55,        273,        1428,         7752],\n",
       "[  1,     5,     28,     165,      1001,       6188,       38760,       245157],\n",
       "[  2,    21,    180,    1430,     10920,      81396,      596904,      4326300],\n",
       "[  5,    84,    990,   10010,     92820,     813960,     6864396,     56241900],\n",
       "[ 14,   330,   5005,   61880,    678300,    6864396,    65615550,    600900300],\n",
       "[ 42,  1287,  24024,  352716,   4476780,   51482970,   551170620,   5588372790],\n",
       "[132,  5005, 111384, 1899240,  27457584,  354323970,  4206302100,  46835886240],\n",
       "[429, 19448, 503880, 9806280, 159352050, 2283421140, 29804654880, 361913666400]])"
      ]
     },
     "execution_count": 40,
     "metadata": {},
     "output_type": "execute_result"
    }
   ],
   "source": [
    "P1 = np.arange(8)\n",
    "P2 = np.array([[F1(j, i) for i in P1] for j in P1])\n",
    "P3 = sp.Matrix(P2)\n",
    "P3"
   ]
  },
  {
   "cell_type": "markdown",
   "metadata": {},
   "source": [
    "Let $P4$ be the first row of numbers in this matrix, also called the Fuss numbers."
   ]
  },
  {
   "cell_type": "code",
   "execution_count": 41,
   "metadata": {},
   "outputs": [
    {
     "data": {
      "text/latex": [
       "$\\displaystyle \\left[\\begin{matrix}1 & 1 & 3 & 12 & 55 & 273 & 1428 & 7752\\end{matrix}\\right]$"
      ],
      "text/plain": [
       "Matrix([[1, 1, 3, 12, 55, 273, 1428, 7752]])"
      ]
     },
     "execution_count": 41,
     "metadata": {},
     "output_type": "execute_result"
    }
   ],
   "source": [
    "P4 = P3[0, :]\n",
    "P4"
   ]
  },
  {
   "cell_type": "markdown",
   "metadata": {},
   "source": [
    "<b>Observe</b> The Fuss numbers can be generated by the following function $q$ relating to the OEIS entry A001764\n",
    "\n",
    "$$ F = \\Sigma_{k = 0}^7 \\frac{1}{2k + 1}  \\binom{3k}{k} q ^k$$"
   ]
  },
  {
   "cell_type": "markdown",
   "metadata": {},
   "source": [
    "<b>Let</b> $P5$ be a list of numbers generated from the function $F$."
   ]
  },
  {
   "cell_type": "code",
   "execution_count": 122,
   "metadata": {},
   "outputs": [
    {
     "data": {
      "text/html": [
       "$$1$$$$q$$$$3 q^{2}$$$$12 q^{3}$$$$55 q^{4}$$$$273 q^{5}$$$$1428 q^{6}$$$$7752 q^{7}$$"
      ],
      "text/plain": [
       "<IPython.core.display.HTML object>"
      ]
     },
     "execution_count": 122,
     "metadata": {},
     "output_type": "execute_result"
    }
   ],
   "source": [
    "q = sp.symbols('q')\n",
    "P5 = renderListToLatex([int(1/(2*i + 1) * sp.binomial(3 * i, i)) * q**i for i in range(8)])\n",
    "P5"
   ]
  },
  {
   "cell_type": "markdown",
   "metadata": {},
   "source": [
    "<b>Conjecture</b>: the coefficients in $P5$ count the number of diagonal subdivisions of a polygon into quadrilaterals\n",
    "\n",
    "<b>Observe</b>: This conjecture implies that: \n",
    "\n",
    "- There is 1 way to subdivide a 2-gon into quadrialaterals (being a degenerate case)\n",
    "- There are 55 ways of subdividing a 10-gon into quadrilaterals\n",
    "- There are 7752 ways of subdividing a 16-gon into quadrilaterals\n"
   ]
  },
  {
   "cell_type": "markdown",
   "metadata": {},
   "source": [
    "<b>Observe</b>: In the same manner as introducing a new operation to to join binary trees (using $\\overline{\\triangledown}$), it is possible to introduce a ternery operation on polygonal subdivisions into quadrilaterals. For this, the symbol $\\overline{\\square}$ will be used.\n",
    "\n",
    "<b>Observe</b>: The $\\overline{\\square}$ operator can be used in the context of $\\overline{\\square}\\text{ }(P, Q, R)$ where $P, Q, R$ represent polygonal sudivisions into quadrilaterals with distinguished roots. \n",
    "\n",
    "<b>Observe</b>: The result of this operation will be a new polygonal subdivision.\n",
    "\n",
    "<b>Strategy</b>: To undertaken operation using $\\overline{\\square}$ with 3 polygons subdivided into quadrilaterals: \n",
    "- Start with quadrilateral with distinguised top which will leave 3 edges $ \\overline{\\square} $\n",
    "- For each of the polygons $P, Q$ and $R$, rotate and glue them to a non-distinuised edge of the $\\overline{\\square}$ operator\n",
    "- This will create larger polygon.\n",
    "- The new polygon will also will be divided into quadrilaterals becase the $\\overline{\\square}$ operator, as well as $P, Q$ and $R$ have been already divided into quadrilaterals.\n"
   ]
  },
  {
   "cell_type": "markdown",
   "metadata": {},
   "source": [
    "<b>Observe</b>: This operation is not commutative and not associative.\n",
    "\n",
    "<b>Observe</b>: The total number of quadrilaterals created by using the $\\overline{\\square}$ operator is one more than the sum of the quadrilaterals in $P, Q$ and $R$\n",
    "\n",
    "<b>Let</b> $\\psi$ be a mapping from from any subdivided polygons (here denoted $P$) into polynomials in q: \n",
    "\n",
    "$$ \\psi(P) \\equiv q^n $$\n",
    "\n",
    "Where $n$ is the number of quadrilaterals in the subdivision of $P$.\n",
    "\n",
    "<b>Observe</b>: It is the case that that: \n",
    "\n",
    "$$ \\psi(\\bar{\\square}\\text{ }(P, Q, R) = q\\psi(P)\\psi(Q)\\psi(R)$$\n",
    "\n",
    "\n"
   ]
  },
  {
   "cell_type": "markdown",
   "metadata": {},
   "source": [
    "<b>Observe</b>: The use of $q$ is equivalent to the use of $|$ in the previous notebook, representing single quadrialteral that gets added when the $\\overline{\\square}$ operation is undertaken.\n",
    "\n",
    "<b>Observe</b>: The $\\overline{\\square}$ operation is a ternary operation. It can be extended to multisets of other subdivided polygons in quadrilaterals\n",
    "\n",
    "<b>Example</b>: If $A$, $B$ and $C$ are msets of subdivided polygons (into quadrilaterals) a ternary product can be taken by: \n",
    "\n",
    "$$ \\overline\\square \\text{ }(A, B, C) \\equiv [\\overline{\\square}(P, Q, R) \\text{ where } P \\in A, Q \\in B, R \\in C] $$\n",
    "\n",
    "<b>Observe</b>: The effect of this operation will take all elements in $A, B, C$ and create a product with all combinations. "
   ]
  },
  {
   "cell_type": "markdown",
   "metadata": {},
   "source": [
    "<b>Theorem</b>: \n",
    "\n",
    "For an ongoing mset, $A$, which contains each subdivided polygon into quadrilaterals with distinguished edge, including the degenerate polygon, ($|$ the 2 sided polygon), the following relation exists:  \n",
    "\n",
    "$$ A = | + \\overline\\square \\text{ }(A, B, C) $$\n",
    "\n",
    "\n",
    "<b>Conjecture</b>: The mapping  $\\psi(A)$ to map an mset to monomials in q has the form:  \n",
    "\n",
    "$$\\psi(A)= F = 1 + q + 3q^2 + 12q^3 + 55q^4 + 273q^5 + 1428q^6 + 7752q^7 \\ldots $$"
   ]
  },
  {
   "cell_type": "markdown",
   "metadata": {},
   "source": [
    "<b>Observe</b>: It is possible to apply $\\psi(A)$ in relation to the above theorem: \n",
    "\n",
    "$$ F = | +  qF^3 $$"
   ]
  },
  {
   "cell_type": "markdown",
   "metadata": {},
   "source": [
    "<b>Observe</b>: Because all combinations are considered, any ternary tree can be connected to $A, B, C$, (and therefor can be represented by $F$) or will be the the degenerate case $|$\n"
   ]
  },
  {
   "cell_type": "markdown",
   "metadata": {},
   "source": [
    "<b>Let</b>: $P6$ be the polynomial in $q$ representing the mapping $\\psi(A)$. "
   ]
  },
  {
   "cell_type": "code",
   "execution_count": 123,
   "metadata": {},
   "outputs": [
    {
     "data": {
      "text/latex": [
       "$\\displaystyle 7752 q^{7} + 1428 q^{6} + 273 q^{5} + 55 q^{4} + 12 q^{3} + 3 q^{2} + q + 1$"
      ],
      "text/plain": [
       "7752*q**7 + 1428*q**6 + 273*q**5 + 55*q**4 + 12*q**3 + 3*q**2 + q + 1"
      ]
     },
     "execution_count": 123,
     "metadata": {},
     "output_type": "execute_result"
    }
   ],
   "source": [
    "P6 = 1 + q + 3*q**2 + 12*q**3 + 55*q**4 + 273*q**5 + 1428*q**6 + 7752*q**7  \n",
    "P6"
   ]
  },
  {
   "cell_type": "markdown",
   "metadata": {},
   "source": [
    "<b>Let</b> $P8$ be an evaluation of the above theorem, $ F = | +  qF^3 $ where $F = 7752 q^{7} + 1428 q^{6} + 273 q^{5} + 55 q^{4} + 12 q^{3} + 3 q^{2} + q + 1$, evaluated to powers of $t$ up to 7"
   ]
  },
  {
   "cell_type": "code",
   "execution_count": 124,
   "metadata": {},
   "outputs": [
    {
     "data": {
      "text/latex": [
       "$\\displaystyle 7752 q^{7} + 1428 q^{6} + 273 q^{5} + 55 q^{4} + 12 q^{3} + 3 q^{2} + q + 1$"
      ],
      "text/plain": [
       "7752*q**7 + 1428*q**6 + 273*q**5 + 55*q**4 + 12*q**3 + 3*q**2 + q + 1"
      ]
     },
     "execution_count": 124,
     "metadata": {},
     "output_type": "execute_result"
    }
   ],
   "source": [
    "P7 = 1 + q * P6**3\n",
    "P8 = P7.series(q, 0, 8).removeO()\n",
    "P8"
   ]
  },
  {
   "cell_type": "markdown",
   "metadata": {},
   "source": [
    "<b>Observe</b> Consider thie above in the context of general equation, $\\Sigma_{b = 0}^7 b_kq^7$ and evaluate using the theorem $ F = | +  qF^3 $"
   ]
  },
  {
   "cell_type": "markdown",
   "metadata": {},
   "source": [
    "<b>Let</b> $P9$ be a general equatiion of the form $\\Sigma_{b = 0}^7 b_kq^7$"
   ]
  },
  {
   "cell_type": "code",
   "execution_count": 125,
   "metadata": {},
   "outputs": [
    {
     "data": {
      "text/latex": [
       "$\\displaystyle b_{0} + b_{1} q + b_{2} q^{2} + b_{3} q^{3} + b_{4} q^{4} + b_{5} q^{5} + b_{6} q^{6} + b_{7} q^{7}$"
      ],
      "text/plain": [
       "b0 + b1*q + b2*q**2 + b3*q**3 + b4*q**4 + b5*q**5 + b6*q**6 + b7*q**7"
      ]
     },
     "execution_count": 125,
     "metadata": {},
     "output_type": "execute_result"
    }
   ],
   "source": [
    "b0, b1, b2, b3, b4, b5, b6, b7, q = sp.symbols('b0, b1, b2, b3, b4, b5, b6, b7, q')\n",
    "P9 = b7 * q**7 + b6 * q**6 + b5 * q **5 + b4 * q**4 + b3 * q**3 + b2 * q**2 + b1 * q + b0\n",
    "P9"
   ]
  },
  {
   "cell_type": "markdown",
   "metadata": {},
   "source": [
    "<b>Let</b> $P10$ be a power series expansion of $P9$ up to degree 7."
   ]
  },
  {
   "cell_type": "code",
   "execution_count": 106,
   "metadata": {},
   "outputs": [
    {
     "data": {
      "text/latex": [
       "$\\displaystyle - b_{0} + q^{7} \\left(3 b_{0}^{2} b_{6} + 6 b_{0} b_{1} b_{5} + 6 b_{0} b_{2} b_{4} + 3 b_{0} b_{3}^{2} + 3 b_{1}^{2} b_{4} + 6 b_{1} b_{2} b_{3} + b_{2}^{3} - b_{7}\\right) + q^{6} \\left(3 b_{0}^{2} b_{5} + 6 b_{0} b_{1} b_{4} + 6 b_{0} b_{2} b_{3} + 3 b_{1}^{2} b_{3} + 3 b_{1} b_{2}^{2} - b_{6}\\right) + q^{5} \\left(3 b_{0}^{2} b_{4} + 6 b_{0} b_{1} b_{3} + 3 b_{0} b_{2}^{2} + 3 b_{1}^{2} b_{2} - b_{5}\\right) + q^{4} \\left(3 b_{0}^{2} b_{3} + 6 b_{0} b_{1} b_{2} + b_{1}^{3} - b_{4}\\right) + q^{3} \\left(3 b_{0}^{2} b_{2} + 3 b_{0} b_{1}^{2} - b_{3}\\right) + q^{2} \\left(3 b_{0}^{2} b_{1} - b_{2}\\right) + q \\left(b_{0}^{3} - b_{1}\\right) + 1$"
      ],
      "text/plain": [
       "-b0 + q**7*(3*b0**2*b6 + 6*b0*b1*b5 + 6*b0*b2*b4 + 3*b0*b3**2 + 3*b1**2*b4 + 6*b1*b2*b3 + b2**3 - b7) + q**6*(3*b0**2*b5 + 6*b0*b1*b4 + 6*b0*b2*b3 + 3*b1**2*b3 + 3*b1*b2**2 - b6) + q**5*(3*b0**2*b4 + 6*b0*b1*b3 + 3*b0*b2**2 + 3*b1**2*b2 - b5) + q**4*(3*b0**2*b3 + 6*b0*b1*b2 + b1**3 - b4) + q**3*(3*b0**2*b2 + 3*b0*b1**2 - b3) + q**2*(3*b0**2*b1 - b2) + q*(b0**3 - b1) + 1"
      ]
     },
     "execution_count": 106,
     "metadata": {},
     "output_type": "execute_result"
    }
   ],
   "source": [
    "P10 = sp.expand(1 - P9 +  q *  P9**3).series(q, 0, 8).removeO().collect(q)\n",
    "P10"
   ]
  },
  {
   "cell_type": "markdown",
   "metadata": {},
   "source": [
    "<b>Let</b> $P11$ be each term in $P10$ set to 0 in order to solve for all values of $b_i$"
   ]
  },
  {
   "cell_type": "code",
   "execution_count": 126,
   "metadata": {},
   "outputs": [
    {
     "data": {
      "text/html": [
       "$$1 - b_{0} = 0$$$$b_{0}^{3} - b_{1} = 0$$$$3 b_{0}^{2} b_{1} - b_{2} = 0$$$$3 b_{0}^{2} b_{2} + 3 b_{0} b_{1}^{2} - b_{3} = 0$$$$3 b_{0}^{2} b_{3} + 6 b_{0} b_{1} b_{2} + b_{1}^{3} - b_{4} = 0$$$$3 b_{0}^{2} b_{4} + 6 b_{0} b_{1} b_{3} + 3 b_{0} b_{2}^{2} + 3 b_{1}^{2} b_{2} - b_{5} = 0$$$$3 b_{0}^{2} b_{5} + 6 b_{0} b_{1} b_{4} + 6 b_{0} b_{2} b_{3} + 3 b_{1}^{2} b_{3} + 3 b_{1} b_{2}^{2} - b_{6} = 0$$$$3 b_{0}^{2} b_{6} + 6 b_{0} b_{1} b_{5} + 6 b_{0} b_{2} b_{4} + 3 b_{0} b_{3}^{2} + 3 b_{1}^{2} b_{4} + 6 b_{1} b_{2} b_{3} + b_{2}^{3} - b_{7} = 0$$"
      ],
      "text/plain": [
       "<IPython.core.display.HTML object>"
      ]
     },
     "execution_count": 126,
     "metadata": {},
     "output_type": "execute_result"
    }
   ],
   "source": [
    "P11 = [sp.Eq(P10.args[i], 0).subs(q, 1) for i in range(2, len(list(P10.args)))]\n",
    "P11.insert(0, sp.Eq(1 - b0, 0))\n",
    "renderListToLatex(P11)"
   ]
  },
  {
   "cell_type": "markdown",
   "metadata": {},
   "source": [
    "<b>Let</b>: Let $P12$ be a solution for all values of $b_i$"
   ]
  },
  {
   "cell_type": "code",
   "execution_count": 128,
   "metadata": {},
   "outputs": [
    {
     "data": {
      "text/plain": [
       "[(1, 1, 3, 12, 55, 273, 1428, 7752)]"
      ]
     },
     "execution_count": 128,
     "metadata": {},
     "output_type": "execute_result"
    }
   ],
   "source": [
    "sp.solve(P11, (b0, b1, b2, b3, b4, b5, b6, b7))"
   ]
  },
  {
   "cell_type": "markdown",
   "metadata": {},
   "source": [
    "<b>Observe</b>: This shows that the Fuss numbers are a unique solution."
   ]
  },
  {
   "cell_type": "markdown",
   "metadata": {},
   "source": [
    "<b>Todo</b>: Fugure out recursive formula to explain the structure of numbers being seen in $P11$"
   ]
  }
 ],
 "metadata": {
  "kernelspec": {
   "display_name": "Python 3",
   "language": "python",
   "name": "python3"
  },
  "language_info": {
   "codemirror_mode": {
    "name": "ipython",
    "version": 3
   },
   "file_extension": ".py",
   "mimetype": "text/x-python",
   "name": "python",
   "nbconvert_exporter": "python",
   "pygments_lexer": "ipython3",
   "version": "3.9.2"
  }
 },
 "nbformat": 4,
 "nbformat_minor": 4
}
