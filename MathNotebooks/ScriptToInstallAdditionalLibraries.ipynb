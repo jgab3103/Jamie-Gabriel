{
 "cells": [
  {
   "cell_type": "code",
   "execution_count": 1,
   "id": "c82f1da3-5f25-425a-ad3e-9b24231dd971",
   "metadata": {},
   "outputs": [
    {
     "name": "stdout",
     "output_type": "stream",
     "text": [
      "Collecting drawing\n",
      "  Downloading drawing-0.0.3-py3-none-any.whl (8.8 kB)\n",
      "Collecting graphviz\n",
      "  Downloading graphviz-0.19.1-py3-none-any.whl (46 kB)\n",
      "\u001b[K     |████████████████████████████████| 46 kB 2.1 MB/s eta 0:00:01\n",
      "\u001b[?25hInstalling collected packages: graphviz, drawing\n",
      "Successfully installed drawing-0.0.3 graphviz-0.19.1\n"
     ]
    }
   ],
   "source": [
    "# INSTALLS\n",
    "#!pip install pyvis\n",
    "!pip install drawing"
   ]
  },
  {
   "cell_type": "code",
   "execution_count": null,
   "id": "46373dab-6ce6-4a9e-96f0-f8fbfab27510",
   "metadata": {},
   "outputs": [],
   "source": []
  }
 ],
 "metadata": {
  "kernelspec": {
   "display_name": "Python 3",
   "language": "python",
   "name": "python3"
  },
  "language_info": {
   "codemirror_mode": {
    "name": "ipython",
    "version": 3
   },
   "file_extension": ".py",
   "mimetype": "text/x-python",
   "name": "python",
   "nbconvert_exporter": "python",
   "pygments_lexer": "ipython3",
   "version": "3.9.2"
  }
 },
 "nbformat": 4,
 "nbformat_minor": 5
}
