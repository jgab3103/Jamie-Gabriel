{
 "cells": [
  {
   "cell_type": "markdown",
   "metadata": {},
   "source": [
    "<i>STATUS: Draft</i>\n",
    "\n",
    "<hr/>"
   ]
  },
  {
   "cell_type": "code",
   "execution_count": 96,
   "metadata": {},
   "outputs": [],
   "source": [
    "import numpy as np\n",
    "import sympy as sp\n",
    "import pickle\n",
    "from IPython.display import HTML\n",
    "import ipywidgets as widgets\n",
    "import matplotlib as mpl\n",
    "from mpl_toolkits.mplot3d import Axes3D\n",
    "import matplotlib.pyplot as plt\n",
    "mpl.rcParams['legend.fontsize'] = 10\n",
    "import pandas as pd\n",
    "import itertools\n",
    "pd.set_option('display.max_colwidth', None)\n",
    "\n",
    "#\n",
    "\n",
    "# function to print latex\n",
    "def renderListToLatex(e):\n",
    "    latex_rendering = []\n",
    "\n",
    "    for i in range(len(e)):\n",
    "        latex_rendering.append(\"$$\" + sp.latex(e[i]) + \"$$<br/>\")\n",
    "    \n",
    "    return(HTML(\"\".join(latex_rendering[0:])))"
   ]
  },
  {
   "cell_type": "markdown",
   "metadata": {},
   "source": [
    "\n",
    "### Solving Polynomial Equations (20)"
   ]
  },
  {
   "cell_type": "markdown",
   "metadata": {},
   "source": [
    "<hr/>\n",
    "\n",
    "<b>Aim</b>: Understand the bridge betwen polygon subdivisions and polynomial equations\n",
    "\n",
    "<hr/>"
   ]
  },
  {
   "cell_type": "markdown",
   "metadata": {},
   "source": [
    "<b>Observe</b> consider the operation $\\bar{\\triangledown}$ and its use as an operation between multisets of polygonal subdivisions\n",
    "\n",
    "<b>Observe</b> It is possible to use this operation to operate on multisets: \n",
    "\n",
    "$$ [\\text{all polygons that can be divided into triangles}]  \\bar{\\triangledown} [\\text{all polygons that can be divided into triangles}] $$\n",
    "\n",
    "<b>Observe</b>: It is to find these combinations, it is possible to use concatenation of trees and come at this from a computational perspective.\n",
    "\n",
    "\n",
    "\n",
    "<b>Let</b> $F1$ be a function to calculate all combinations of rooted planar binary trees"
   ]
  },
  {
   "cell_type": "code",
   "execution_count": 97,
   "metadata": {},
   "outputs": [],
   "source": [
    "def F1(s):\n",
    "    if len(s) == 1:\n",
    "        yield s\n",
    "    else:\n",
    "        for i in range(1, len(s), 2):\n",
    "            for l in F1(s[:i]):\n",
    "                for r in F1(s[i+1:]):\n",
    "                    yield '({}{}{})'.format(l, s[i], r)\n",
    "\n",
    "allComb = []\n",
    "for t in F1('x:x:x:x'):\n",
    "    allComb.append(t)\n",
    "#allComb"
   ]
  },
  {
   "cell_type": "markdown",
   "metadata": {},
   "source": [
    "<b>Let</b> $F2$ be a function to multiply rooted binary trees."
   ]
  },
  {
   "cell_type": "code",
   "execution_count": 98,
   "metadata": {},
   "outputs": [],
   "source": [
    "def F2(t1, t2):\n",
    "    treeStructure = ['x:' for i in range(t1 + t2)]\n",
    "    t = ''.join(treeStructure)[:-1]\n",
    "    allComb = []\n",
    "    for i in F1(t):\n",
    "        allComb.append(i)\n",
    "    return(allComb)"
   ]
  },
  {
   "cell_type": "markdown",
   "metadata": {},
   "source": [
    "<b>Observe</b>: The nature of this multiplication on multisets yields all combinations of multiples."
   ]
  },
  {
   "cell_type": "code",
   "execution_count": 110,
   "metadata": {},
   "outputs": [
    {
     "name": "stdout",
     "output_type": "stream",
     "text": [
      "Multiplication (2, 0):\n",
      " ['(x:x)']\n",
      "\n",
      "Multiplication (0, 2):\n",
      " ['(x:(x:x))', '((x:x):x)']\n",
      "\n",
      "Multiplication (2, 3):\n",
      " ['(x:(x:(x:(x:x))))', '(x:(x:((x:x):x)))', '(x:((x:x):(x:x)))', '(x:((x:(x:x)):x))', '(x:(((x:x):x):x))', '((x:x):(x:(x:x)))', '((x:x):((x:x):x))', '((x:(x:x)):(x:x))', '(((x:x):x):(x:x))', '((x:(x:(x:x))):x)', '((x:((x:x):x)):x)', '(((x:x):(x:x)):x)', '(((x:(x:x)):x):x)', '((((x:x):x):x):x)']\n"
     ]
    }
   ],
   "source": [
    "print(\"Multiplication (2, 0):\\n\", F2(2, 0))\n",
    "print(\"\\nMultiplication (0, 2):\\n\", F2(0,3))\n",
    "print(\"\\nMultiplication (2, 3):\\n\",F2(2, 3))"
   ]
  },
  {
   "cell_type": "markdown",
   "metadata": {},
   "source": [
    "<b>Observe</b>: Because of the way the $\\bar{\\triangledown}$ operator works, if $A$ is the sum of all polygonal triangle subdivisions it will be the case that $  A = | + A \\bar{\\triangledown} A $\n",
    "\n",
    "<b>Observe</b>: Recall the relationship between the number of leaves in a rooted planar binary tree and the number of polygon sizes. \n",
    "\n"
   ]
  },
  {
   "cell_type": "markdown",
   "metadata": {},
   "source": [
    "| Number of leaves     | Number of ways to arrange leaves in a rooted binary tree |   Number of Polygon sides|\n",
    "| -----------          | -----------                                              | -----------              |\n",
    "| 3                    | 2                                                        | 4 |\n",
    "| 4                    | 5                                                        | 5 |\n",
    "| 5                    | 14                                                       | 6 |\n",
    "| 6                    | 42                                                       | 7 |\n",
    "| 7                    | 132                                                      | 8 |"
   ]
  },
  {
   "cell_type": "markdown",
   "metadata": {},
   "source": [
    "<b>Observe</b>: Carrying out the multiplication fo $A$ with $A$ will result in: \n",
    "\n",
    "$$  A = | + A \\bar{\\triangledown} A $$ "
   ]
  },
  {
   "cell_type": "markdown",
   "metadata": {},
   "source": [
    "<b>Observe</b>: It is simpler to move back to a more usual algebra, in order to map back to polynomials \n",
    "\n",
    "$$\\Phi : \\text{Rooted subdivided polygons} \\rightarrow \\text{Polynomials in } t$$\n",
    "\n",
    "<b>Observe</b>: This can be done as the following: \n",
    "\n",
    "$$ \\Phi (P) = t^n $$\n",
    "\n",
    "where $n$ is the number of triangles in the subdivision $P$\n",
    "\n",
    "<b>Example</b>: If $P, Q$ are both subdivided polygons (into triangles) then: \n",
    "\n",
    "$$ \\Phi(P \\bar{\\triangledown} Q) $$\n",
    "\n",
    "<b>Observe</b> that $P$ and $Q$ will have the same number of triangles, however there will anoter $|$ that arises \n",
    "\n",
    "<b>Observe</b> This can be written as: \n",
    "\n",
    "$$ \\Phi(P \\bar{\\triangledown} Q) = t \\Phi (P) \\Phi(Q) $$\n",
    "\n"
   ]
  },
  {
   "cell_type": "markdown",
   "metadata": {},
   "source": [
    "<b>Observe</b> Possible to apply this homeomorphism to the fundamental equation of the multiset of subdivided polygons: \n",
    "\n",
    "$$  A = | + A \\bar{\\triangledown} A $$ \n",
    "\n"
   ]
  },
  {
   "cell_type": "markdown",
   "metadata": {},
   "source": [
    "$$\\Phi (A) = [\\Phi(P): P \\in A] $$"
   ]
  },
  {
   "cell_type": "code",
   "execution_count": 113,
   "metadata": {},
   "outputs": [],
   "source": [
    "# TO DO"
   ]
  }
 ],
 "metadata": {
  "kernelspec": {
   "display_name": "Python 3",
   "language": "python",
   "name": "python3"
  },
  "language_info": {
   "codemirror_mode": {
    "name": "ipython",
    "version": 3
   },
   "file_extension": ".py",
   "mimetype": "text/x-python",
   "name": "python",
   "nbconvert_exporter": "python",
   "pygments_lexer": "ipython3",
   "version": "3.9.2"
  }
 },
 "nbformat": 4,
 "nbformat_minor": 4
}
