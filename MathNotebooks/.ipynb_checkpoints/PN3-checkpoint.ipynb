{
 "cells": [
  {
   "cell_type": "code",
   "execution_count": 1,
   "id": "e3a0263f-3639-4572-8863-8aa44e57bf1f",
   "metadata": {},
   "outputs": [],
   "source": [
    "import numpy as np\n",
    "import sympy as sp\n",
    "from IPython.display import HTML\n",
    "import ipywidgets as widgets\n",
    "import matplotlib as mpl\n",
    "from mpl_toolkits.mplot3d import Axes3D\n",
    "import matplotlib.pyplot as plt\n",
    "mpl.rcParams['legend.fontsize'] = 10\n",
    "import pandas as pd\n",
    "import itertools\n",
    "\n",
    "# This is commented out\n",
    "#%matplotlib widget\n",
    "\n",
    "# function to print latex\n",
    "def renderListToLatex(e):\n",
    "    latex_rendering = []\n",
    "\n",
    "    for i in range(len(e)):\n",
    "        latex_rendering.append(\"$\" + sp.latex(e[i]) + \"$ <br/> \")\n",
    "    \n",
    "    return(HTML(\"\".join(latex_rendering[0:])))\n",
    "    \n",
    "    \n",
    "def convert3DVectorToSQRTOfQuadrance(v):\n",
    "    return(sp.N(sp.sqrt(sum([v.args[i].args[0]**2 for i in range(len(v.args))]))))\n",
    "\n",
    "\n",
    "\n",
    "def convert3DVectorToComponents(v, scaleChoice):\n",
    "    print(v)\n",
    "    return(sp.parse_expr(str(v.args).replace('i', scaleChoice).replace(\"j\", scaleChoice).replace(\"k\", scaleChoice)))\n",
    "    "
   ]
  },
  {
   "cell_type": "markdown",
   "id": "681816bb-53ae-4450-8d80-c803f933346d",
   "metadata": {},
   "source": [
    "<hr/>\n",
    "\n",
    "<b>Aim</b>: Link equations relating to motion in 1 dimension\n",
    "\n",
    "<hr/>\n"
   ]
  },
  {
   "cell_type": "markdown",
   "id": "3188bde1-214e-48fa-ba0e-ae3d2eec783b",
   "metadata": {},
   "source": [
    "Let the following be unknown types"
   ]
  },
  {
   "cell_type": "code",
   "execution_count": 2,
   "id": "0de3ac03-a709-4138-9cc7-59553c0f24d0",
   "metadata": {},
   "outputs": [],
   "source": [
    "    va, v, v0, a, x, x0, t0, t1, m, s = sp.symbols('va, v, v0, a, x, x0, t0, t1, m, s')"
   ]
  },
  {
   "cell_type": "code",
   "execution_count": 3,
   "id": "47172f21-de1b-471b-b27b-4e441269c573",
   "metadata": {},
   "outputs": [],
   "source": [
    "def createParticleMovementSummary(v = None, v0 = None, a = None, x = None, x0 = None, t1 = None, t0 = None, solutionsNeeded = []):\n",
    "    #create summary\n",
    "    print(\"###################### SUMMARY #######################\")\n",
    "    print(\"Initial Position \\t (x0):\\t\", x0)\n",
    "    print(\"Final Position \\t\\t (x):\\t\", x)\n",
    "    print(\"Initial Velocity \\t (v0):\\t\", v0)\n",
    "    print(\"Final Velocity \\t\\t (v):\\t\", v)\n",
    "    print(\"Acceleration \\t\\t (a):\\t\", a)\n",
    "    print(\"Initial Time:\\t\\t (t0)\\t\", t0)\n",
    "    print(\"Final Time:\\t\\t (t1)\\t\", t1)\n",
    "\n",
    "    print(\"\\nAll variables evaluated against 5 equations for motion in 1 direction.\")\n",
    "    print(\"\\nSolutions needed: \", solutionsNeeded)\n",
    "    print(\"\\nResults: \\n\")\n",
    "    \n",
    "    \n",
    "def removeUnitVariables(v = []):\n",
    "    \n",
    "    counts = 0\n",
    "\n",
    "    try:\n",
    "        v.remove(s)\n",
    "\n",
    "    except:\n",
    "        pass\n",
    "    try:\n",
    "        v.remove(m)\n",
    "            \n",
    "    except:\n",
    "        pass\n",
    "    \n",
    "    return({'variablesToSolveFor': v, \"count\" : len(v)})"
   ]
  },
  {
   "cell_type": "code",
   "execution_count": 6,
   "id": "33fde14a-99fc-4caa-bd42-67fceb1bae3d",
   "metadata": {},
   "outputs": [],
   "source": [
    "def calculateParticleMovement(_v = None, _v0 = None, _a = None,\n",
    "                    _x = None, _x0 = None, _t0 = None, _t1 = None,\n",
    "                             solutionsNeeded = [],\n",
    "                             countOffreeVariablesAllowedInSolution = None,\n",
    "                             createSummary = False):\n",
    "    \n",
    "    \n",
    "    # ACCELERATION???\n",
    "    # Create variables\n",
    "    va, v, v0, a, x, x0, t0, t1, m, s = sp.symbols('va, v, v0, a, x, x0, t0, t1, m, s')\n",
    "    \n",
    "    # Provide summary\n",
    "    if createSummary:\n",
    "        createParticleMovementSummary(v0  = _v0, v = _v, a = _a, x = _x, x0 = _x0, t0 = _t0, t1 = _t1, solutionsNeeded = solutionsNeeded)\n",
    "    \n",
    "    # Physics Equations\n",
    "    F1 = sp.Eq(x, x0 + v0 * t1 + .5 * a *t1**2)\n",
    "    F2 = sp.Eq(v**2, v0**2 + 2 * a * (x - x0))\n",
    "    F3 = sp.Eq(v, v0 + a * t1)\n",
    "    F7 = sp.Eq(v, v0  + sp.integrate(a, (t1, 0, t1)))\n",
    "    F8 = sp.Eq(x, x0  + sp.integrate(v, (t1, 0, t1)))\n",
    "    F15 = sp.Eq(va, (x - x0) / (t1 - t0))\n",
    "    \n",
    " \n",
    "    # Create list of physics equations with values provided\n",
    "    F4 = [i.subs({v:_v, v0: _v0, a:_a, x:_x, x0:_x0, t0:_t0, t1:_t1 }) for i in [F1, F2, F3, F7, F8, F15]]\n",
    "    \n",
    "    # Create free symbols for each of the equations in F4\n",
    "    F5 = [list(i.free_symbols) for i in F4]\n",
    "    \n",
    "    \n",
    "    # Remove units before solutinos\n",
    "    F12 = []\n",
    "    for i in range(len(F5)):\n",
    "        F12.append((removeUnitVariables(F5[i])))\n",
    "\n",
    "\n",
    "    F6 = []\n",
    "    # Get solutions for each of the equations for values other than unit variables\n",
    "    for i in range(len(F4)):\n",
    "        for j in range(len(F12[i]['variablesToSolveFor'])): \n",
    "            solutions = sp.solve(F4[i], F12[i]['variablesToSolveFor'][j])\n",
    "            # Break all solutions into sgle solutions\n",
    "            for k in range(len(solutions)):\n",
    "                singleSolution = sp.Eq(F12[i]['variablesToSolveFor'][j], sp.solve(F4[i], F12[i]['variablesToSolveFor'][j])[k])\n",
    "                \n",
    "                # If no particular solutions sought, return everything\n",
    "                if len(solutionsNeeded) == 0:\n",
    "                    F6.append(singleSolution)\n",
    "                # if only certain solutions are needed return these \n",
    "                elif singleSolution.lhs in solutionsNeeded:\n",
    "                    F6.append(singleSolution)\n",
    "                    \n",
    "    F9 = [list(i.free_symbols) for i in F6]\n",
    "    F11 = [removeUnitVariables(i) for i in F9]\n",
    "    \n",
    "    if countOffreeVariablesAllowedInSolution is not None:\n",
    "        F13 = ([(idx) for idx, solution in enumerate(F11) if solution['count'] <= countOffreeVariablesAllowedInSolution])    \n",
    "        F14 = np.array(F6)[F13]\n",
    "        return(F14)\n",
    "    else:\n",
    "        return(F6)\n"
   ]
  },
  {
   "cell_type": "code",
   "execution_count": 11,
   "id": "43a2246f-45c6-4353-80a6-6874c70eca50",
   "metadata": {},
   "outputs": [
    {
     "name": "stdout",
     "output_type": "stream",
     "text": [
      "###################### SUMMARY #######################\n",
      "Initial Position \t (x0):\t 19*m\n",
      "Final Position \t\t (x):\t 277*m\n",
      "Initial Velocity \t (v0):\t None\n",
      "Final Velocity \t\t (v):\t None\n",
      "Acceleration \t\t (a):\t None\n",
      "Initial Time:\t\t (t0)\t s\n",
      "Final Time:\t\t (t1)\t 4*s\n",
      "\n",
      "All variables evaluated against 5 equations for motion in 1 direction.\n",
      "\n",
      "Solutions needed:  [va]\n",
      "\n",
      "Results: \n",
      "\n"
     ]
    },
    {
     "data": {
      "text/html": [
       "$va = \\frac{86 m}{s}$ <br/> "
      ],
      "text/plain": [
       "<IPython.core.display.HTML object>"
      ]
     },
     "execution_count": 11,
     "metadata": {},
     "output_type": "execute_result"
    }
   ],
   "source": [
    "P2 = calculateParticleMovement(_x0 = 19 * m,\n",
    "                               _x = 277 * m,\n",
    "                               _t0 = 1 * s,\n",
    "                               _t1 = 4 * s,\n",
    "                               solutionsNeeded=[va],\n",
    "                               createSummary=True)\n",
    "renderListToLatex(P2)"
   ]
  },
  {
   "cell_type": "code",
   "execution_count": 7,
   "id": "6e033b16-e277-4731-a5c6-c848ed0789fc",
   "metadata": {},
   "outputs": [
    {
     "name": "stdout",
     "output_type": "stream",
     "text": [
      "###################### SUMMARY #######################\n",
      "Initial Position \t (x0):\t 50*m\n",
      "Final Position \t\t (x):\t None\n",
      "Initial Velocity \t (v0):\t 10*m/s\n",
      "Final Velocity \t\t (v):\t None\n",
      "Acceleration \t\t (a):\t 2*m/s**2 - 0.1*m*t1/s**3\n",
      "Initial Time:\t\t (t0)\t None\n",
      "Final Time:\t\t (t1)\t None\n",
      "\n",
      "All variables evaluated against 5 equations for motion in 1 direction.\n",
      "\n",
      "Solutions needed:  [x, va]\n",
      "\n",
      "Results: \n",
      "\n"
     ]
    },
    {
     "data": {
      "text/html": [
       "$x = \\frac{0.05 m \\left(1000.0 s^{3} + 200.0 s^{2} t_{1} + 20.0 s t_{1}^{2} - t_{1}^{3}\\right)}{s^{3}}$ <br/> $x = \\frac{5.0 \\left(100.0 m^{2} s - 10.0 m^{2} t_{1} + s^{3} v^{2}\\right)}{m \\left(20.0 s - t_{1}\\right)}$ <br/> $x = 50 m + t_{1} v$ <br/> $va = \\frac{50 m - x}{t_{0} - t_{1}}$ <br/> $x = 50 m - t_{0} va + t_{1} va$ <br/> "
      ],
      "text/plain": [
       "<IPython.core.display.HTML object>"
      ]
     },
     "execution_count": 7,
     "metadata": {},
     "output_type": "execute_result"
    }
   ],
   "source": [
    "P2 = calculateParticleMovement(_a = 2 * (m / s**2) - (.1 * (m / s**3)) * t1,\n",
    "                              _v0 = 10 * (m / s),\n",
    "                              _x0 = 50 * m,\n",
    "                               solutionsNeeded=[x, va],\n",
    "                                countOffreeVariablesAllowedInSolution = 4,\n",
    "                               createSummary=True)\n",
    "renderListToLatex(P2)"
   ]
  },
  {
   "cell_type": "code",
   "execution_count": null,
   "id": "de588782-6b18-4f41-86df-6400faee7cf0",
   "metadata": {},
   "outputs": [],
   "source": []
  }
 ],
 "metadata": {
  "kernelspec": {
   "display_name": "Python 3",
   "language": "python",
   "name": "python3"
  },
  "language_info": {
   "codemirror_mode": {
    "name": "ipython",
    "version": 3
   },
   "file_extension": ".py",
   "mimetype": "text/x-python",
   "name": "python",
   "nbconvert_exporter": "python",
   "pygments_lexer": "ipython3",
   "version": "3.9.2"
  }
 },
 "nbformat": 4,
 "nbformat_minor": 5
}
