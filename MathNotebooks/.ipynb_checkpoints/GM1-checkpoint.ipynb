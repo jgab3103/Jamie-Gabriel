{
 "cells": [
  {
   "cell_type": "markdown",
   "id": "7e2a4fd0-4511-43b5-ba2e-86df0b281d82",
   "metadata": {},
   "source": [
    "Henri Poincare tells us that \"Mathematics is the art of giving the same name to different things\" (Ref)\n",
    "\n",
    "\n",
    "One of the central problems in mathematics, is that one runs into the same problems over and over again. This is a general problem in any discipline In solving  critical problem in mathematics is related to <b>symmetry</b> and <b>invariance </b>\n",
    "\n",
    "\n",
    "\n",
    "\n",
    "\n",
    "\n",
    "1. Data Structures \n",
    "2. Invariance\n",
    "3. Curvature, \n",
    "\n"
   ]
  },
  {
   "cell_type": "code",
   "execution_count": null,
   "id": "ff80af1a-71ac-4cb6-a107-3e15228974fd",
   "metadata": {},
   "outputs": [],
   "source": []
  }
 ],
 "metadata": {
  "kernelspec": {
   "display_name": "Python 3",
   "language": "python",
   "name": "python3"
  },
  "language_info": {
   "codemirror_mode": {
    "name": "ipython",
    "version": 3
   },
   "file_extension": ".py",
   "mimetype": "text/x-python",
   "name": "python",
   "nbconvert_exporter": "python",
   "pygments_lexer": "ipython3",
   "version": "3.9.2"
  }
 },
 "nbformat": 4,
 "nbformat_minor": 5
}
