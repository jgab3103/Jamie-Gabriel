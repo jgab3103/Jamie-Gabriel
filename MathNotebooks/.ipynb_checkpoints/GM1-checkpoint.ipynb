{
 "cells": [
  {
   "cell_type": "markdown",
   "id": "7e2a4fd0-4511-43b5-ba2e-86df0b281d82",
   "metadata": {},
   "source": [
    "<i>It is the harmony of the different parts, their symmetry, and their happy adjustment; it is, in a word, all that introduces order, all that gives them unity, that enables us to obtain a clear comprehension of the whole as well as of the parts. Elegance may result from the feeling of surprise caused by the unlooked-for occurrence of objects not habitually associated. In this, again, it is fruitful, since it discloses thus relations that were until then unrecognized. Mathematics is the art of giving the same names to different things.</i> - 1908\n",
    "\n",
    "\n",
    "We need to be careful in how we might Poincare's words also capture some difficuly that underlies mathemaics. For what is mathematics anyway? This question has been approached, Arithmetic, Algebra,Geometry into a myriad of displines, group theroy, algebraic topology. I think it is niaive to say that math is universal language, all the same thing, that when we scratch the surface of higher math, we find problems, ZF fullness, Godel, all the issues. For me this comes down to difficulty in reconciling the maing things, to accepting that we can make infinit amoutn of calculations. But regardless of these philisophical underpinnings in mathematics, many of the the same problems tend to over and over again. This is a general problem in any discipline In solving  \n",
    "\n",
    "\n",
    "In this essay I want to explore 4 critical ideas in the mathematics constantly arise in mathematics, across different fields, and articulate the relationship between them. \n",
    "\n",
    "They are ideas are: \n",
    "\n",
    "- storage and memory\n",
    "- Symmetry and Invariance\n",
    "- Approximation\n",
    "- Signal and noise\n",
    "\n",
    "The reason for doing this, is foundational mathematics, foundational, study of math is endless. \n",
    "\n",
    "The first idea is perhaps foundational to the other 3 and instead of naing things that the problem of naming things is directly , relates direcly to Poincare, and what we mean by the idea of naming things. To paraphrase Poincare, \n",
    "\n",
    "<b>Storage and memory and semantics</b>\n",
    "\n",
    "\n",
    "\n",
    "But we could also consider and I would like to is interesting to consider this from the standpoint computer scientist what this means, to take it literally. The fundamental problem of mathematics is that of naming things. If we take anything we percieve as \"things\" in the world, this book, that cup, subjective application, and we name them. It tells us that this arbitrary naming of things is consiousness. But just as easily look at glass. Or a wine glass or a scotch glass, they are still glasses. \n",
    "These issues lead to the problem,  leads us to the problem that \n",
    "\n",
    "Various parts of mathematics, history of mathematics, rise of algebra, geometry, arithmatic - \n",
    "\n",
    "These issues of course exist across many different disciplines, one of the challenges of science, workign without a common language. Mathematics has promise. \n",
    "\n",
    "The foundations of math taking this definition are computable. This is problematic as foundations of mathematics tell a different account\n",
    "\n",
    "Problem of mathematics goes beyond this\n",
    "\n",
    "\n",
    "<b>Mathematics is not a common language</b>\n",
    "\n",
    "We believe that it is common language. Foundations of mathematics. This is conentious and almost emotional topic, that this interpretation suggests is that  need to be careful. \n",
    "\n",
    "The problem of a common language\n",
    "\n",
    "Consider a computer program that is interested in the total of glasses will be different to one that is differentiated. Context and utility important, enginering problems of mathematics. \n",
    "\n",
    "A common language would assume different logical operations, common data structures. \n",
    "\n",
    "Consider, set, multiset, ordered set, list\n",
    "\n",
    "\n",
    "\n",
    "<b>Symmetry and Invariance</b>\n",
    "\n",
    "\n",
    "\n",
    "\n"
   ]
  },
  {
   "cell_type": "code",
   "execution_count": null,
   "id": "ff80af1a-71ac-4cb6-a107-3e15228974fd",
   "metadata": {},
   "outputs": [],
   "source": []
  }
 ],
 "metadata": {
  "kernelspec": {
   "display_name": "Python 3",
   "language": "python",
   "name": "python3"
  },
  "language_info": {
   "codemirror_mode": {
    "name": "ipython",
    "version": 3
   },
   "file_extension": ".py",
   "mimetype": "text/x-python",
   "name": "python",
   "nbconvert_exporter": "python",
   "pygments_lexer": "ipython3",
   "version": "3.9.2"
  }
 },
 "nbformat": 4,
 "nbformat_minor": 5
}
