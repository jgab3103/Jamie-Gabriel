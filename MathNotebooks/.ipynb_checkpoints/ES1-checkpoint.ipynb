{
 "cells": [
  {
   "cell_type": "markdown",
   "id": "cd785232-2f3d-43dc-94af-0076a1ab2517",
   "metadata": {},
   "source": [
    "\n",
    "<div>These notes are based on Prof. Norman Wildberger's YouTube video on Polynomial Equations found <a href=\"https://www.youtube.com/watch?v=peLRDMhWai8&t=833s\">here</a>. They are being hosted at <a href=\"https://www.ladatavita.com/\">ladatavita.com</a> and available from my Github repo at: <a href=\"https://github.com/jgab3103/Jamie-Gabriel/blob/main/Notebooks/Exceptional_Structures_0.ipynb\">https://github.com/jgab3103/Jamie-Gabriel/blob/main/Notebooks/Exceptional_Structures_0.ipynb</a></div>\n",
    "\n",
    "<hr/>"
   ]
  },
  {
   "cell_type": "code",
   "execution_count": 3,
   "id": "8f5dc6a8-8a04-42ed-b738-229121afe4e6",
   "metadata": {},
   "outputs": [],
   "source": [
    "import pyvis.network as nt\n",
    "import numpy as np\n",
    "import sympy as sp\n",
    "from IPython.display import HTML\n",
    "import ipywidgets as widgets\n",
    "import matplotlib as mpl\n",
    "from mpl_toolkits.mplot3d import Axes3D\n",
    "import matplotlib.pyplot as plt\n",
    "mpl.rcParams['legend.fontsize'] = 10\n",
    "import pandas as pd\n",
    "import networkx as nx"
   ]
  },
  {
   "cell_type": "markdown",
   "id": "4ee7951f-8102-40d6-9174-d1cdd47040f4",
   "metadata": {},
   "source": [
    "<b>Aim</b> Provide a foundational intuition of graphs using the mutation game. \n",
    "\n",
    "<b>Ref</b>: The Mutation Game, Coxeter–Dynkin Graphs, and Generalized Root Systems, Normal Wildberger, March 2020. \n",
    "\n",
    "<hr/>\n",
    "\n",
    "\n",
    "\n",
    "<b>Observe</b> A good introduction graphs can be found in the mutation game. \n",
    "\n",
    "<b>Observe</b> The mutation game has two levels. This first level takes place on some simple graph, denoted $X$. $X$ is a graph that has the following properties: \n",
    "\n",
    "- it has undirected edge\n",
    "- it has no multiple edges (i.e. only one incoming and outgoing edge is allowed in relation to a mode. \n",
    "- it has no loops (i.e. edges that are self references). \n",
    "\n",
    "<b>Observe</b>: This is no notion of distance in relation to a graph."
   ]
  },
  {
   "cell_type": "markdown",
   "id": "016d9d55-421b-4269-baea-6af29a7ac617",
   "metadata": {},
   "source": [
    "<b>Let</b> $F3$ be an example of a simple graph, created from the set of nodes $F1$ and the set of verticies $F2$. "
   ]
  },
  {
   "cell_type": "code",
   "execution_count": 4,
   "id": "420e74aa-5b32-4fa9-b693-364d3b4c4be1",
   "metadata": {},
   "outputs": [
    {
     "data": {
      "text/html": [
       "\n",
       "        <iframe\n",
       "            width=\"600px\"\n",
       "            height=\"500px\"\n",
       "            src=\"nx.html\"\n",
       "            frameborder=\"0\"\n",
       "            allowfullscreen\n",
       "        ></iframe>\n",
       "        "
      ],
      "text/plain": [
       "<IPython.lib.display.IFrame at 0x7fad1c35b400>"
      ]
     },
     "execution_count": 4,
     "metadata": {},
     "output_type": "execute_result"
    }
   ],
   "source": [
    "F1 = {'1', '2', '3', '4'}\n",
    "F2 = [('1','2'), \n",
    "     ('2','3'),\n",
    "     ('2','4'),\n",
    "     ('3','4')]\n",
    "\n",
    "F3 = nx.Graph()\n",
    "\n",
    "F3.add_nodes_from(F1)\n",
    "F3.add_edges_from(F2)\n",
    "\n",
    "F4 = nt.Network(width = \"600px\", notebook = True)\n",
    "F4.from_nx(F3)\n",
    "F4.show('nx.html')"
   ]
  },
  {
   "cell_type": "markdown",
   "id": "1ac550b9-200a-4495-9587-f631330230e5",
   "metadata": {},
   "source": [
    "<b>Observe</b>: There are 3 types of simple graphs:\n",
    "\n",
    "1. ADE graphs\n",
    "2. ADE~ graphs\n",
    "3. All other simple graphs"
   ]
  },
  {
   "cell_type": "markdown",
   "id": "a1efc91d-ad3c-4182-8df4-cf9a4061676a",
   "metadata": {},
   "source": [
    "<b>Observe</b>: The second level of the mutation game allows the use of directed graphs, or multigraphs. Edges have directions, multiple edges are allowed and loops are allowed. \n",
    "\n",
    "<b>Observe</b>: Mutigraphs can be viewed as an extension of simple graphs, meaning that level 2 of the mutation game can be regarded as an extension of level 1.\n",
    "\n",
    "<b>Let</b> $F8$ be an example of a multigraph with directed edges and self loops. "
   ]
  },
  {
   "cell_type": "code",
   "execution_count": 5,
   "id": "947315b6-d345-4ad8-bb74-2d096581f906",
   "metadata": {},
   "outputs": [
    {
     "data": {
      "text/html": [
       "\n",
       "        <iframe\n",
       "            width=\"600px\"\n",
       "            height=\"500px\"\n",
       "            src=\"nx.html\"\n",
       "            frameborder=\"0\"\n",
       "            allowfullscreen\n",
       "        ></iframe>\n",
       "        "
      ],
      "text/plain": [
       "<IPython.lib.display.IFrame at 0x7facd6ceefa0>"
      ]
     },
     "execution_count": 5,
     "metadata": {},
     "output_type": "execute_result"
    }
   ],
   "source": [
    "F5 = {'1', '2', '3', '4'}\n",
    "F6 = [('1','2'), \n",
    "     ('2','3'),\n",
    "     ('2','4'),\n",
    "     ('2','4'),\n",
    "     ('3','4'),\n",
    "     ('1', '1')]\n",
    "\n",
    "F7 = nx.DiGraph()\n",
    "\n",
    "F7.add_nodes_from(F5)\n",
    "F7.add_edges_from(F6)\n",
    "\n",
    "F8 = nt.Network(width = \"600px\", notebook = True, directed = True)\n",
    "F8.from_nx(F7)\n",
    "F8.show('nx.html')"
   ]
  },
  {
   "cell_type": "markdown",
   "id": "31a8611a-2df6-4803-99d5-65130af8756a",
   "metadata": {},
   "source": [
    "<b>Observe</b> Multigraphs can be characterised as having the following types:\n",
    "\n",
    "1. BCFG Graphs\n",
    "2. BCFG~ graphs\n",
    "3. All other directed multigraphs"
   ]
  },
  {
   "cell_type": "markdown",
   "id": "5699aa8c-4cdd-465a-b019-2389bff34c4f",
   "metadata": {},
   "source": [
    "<hr/>\n",
    "<b>Aim</b>: Explore the properties of simple graphs\n",
    "<hr/>"
   ]
  },
  {
   "cell_type": "markdown",
   "id": "4414d88c-60a0-4717-aa0b-44378efd031c",
   "metadata": {},
   "source": [
    "<b>Let</b> $F12$ be a simple graph\n",
    "\n",
    "<b>Let</b> $F9$ be a set of vertices $x, y, z$ and $w$ be vertices, $F10$  \n"
   ]
  },
  {
   "cell_type": "code",
   "execution_count": 6,
   "id": "6250bce7-7e62-4c94-9143-a00bdf16c342",
   "metadata": {},
   "outputs": [
    {
     "data": {
      "text/html": [
       "\n",
       "        <iframe\n",
       "            width=\"600px\"\n",
       "            height=\"500px\"\n",
       "            src=\"nx.html\"\n",
       "            frameborder=\"0\"\n",
       "            allowfullscreen\n",
       "        ></iframe>\n",
       "        "
      ],
      "text/plain": [
       "<IPython.lib.display.IFrame at 0x7facd6ca4d60>"
      ]
     },
     "execution_count": 6,
     "metadata": {},
     "output_type": "execute_result"
    }
   ],
   "source": [
    "F9 = {'x', 'y', 'w', 'z'}\n",
    "F10 = [('x','y'), \n",
    "     ('y','z'),\n",
    "     ('y','w'),\n",
    "     ('w','z')]\n",
    "\n",
    "F11 = nx.Graph()\n",
    "\n",
    "F11.add_nodes_from(F9)\n",
    "F11.add_edges_from(F10)\n",
    "\n",
    "F12 = nt.Network(width = \"600px\", notebook = True)\n",
    "F12.from_nx(F11)\n",
    "F12.show('nx.html')"
   ]
  },
  {
   "cell_type": "markdown",
   "id": "614b1430-df9c-409f-9e9b-2fe5a7c37774",
   "metadata": {},
   "source": [
    "<b>Observe</b>: The vertices, $F9$ of thie above example are an unordered set whcih can be denoted as $\\{\\text{ x } \\text{ y } \\text{ z } \\text{ w }\\}$"
   ]
  },
  {
   "cell_type": "markdown",
   "id": "348609a3-3664-40df-ac62-45bf43daa41b",
   "metadata": {},
   "source": [
    "<b>Let</b> $E$ be the edges in $X$"
   ]
  },
  {
   "cell_type": "markdown",
   "id": "5e6630b7-1c10-43c4-9ad2-9c2bddba25f9",
   "metadata": {},
   "source": [
    "<b>Observe</b> $E$ can be denoted of the set of paths between vertices,  $\\{ \\{\\text{ x y }\\} \\{\\text{ y z }\\} \\{\\text{ z w }\\} \\{\\text{ z w }\\}\\}$ which is a set of 2-sets of vertices"
   ]
  },
  {
   "cell_type": "markdown",
   "id": "5d16cc53-bd0c-4ddc-b969-29bef260e5ff",
   "metadata": {},
   "source": [
    "<b>Observe</b>: From a combinatorial point of view the graph can be denoted as an ordered pair of vertices and edges\n",
    "\n",
    "$X = \\{ V, E\\} $"
   ]
  },
  {
   "cell_type": "markdown",
   "id": "08504391-18b1-4a05-9a69-d6321c7af78b",
   "metadata": {},
   "source": [
    "<b>Definition</b>: For any node $i$ in a simple graph, $N(i)$ is the set of neighbours, which is an unordered set of those vertices connected to $i$\n",
    "\n",
    "<b>Example</b>: \n",
    "\n",
    "$$N(x) = \\{y\\} $$\n",
    "$$N(y) = \\{ \\text{x z w}\\} $$\n",
    "\n",
    "\n",
    "<b>Definition</b> A population for some simple graph, $G$ is an integer valued function on the vertices which can be labelled by arbitrary integers\n",
    "\n",
    "<b>Let</b> $F15$ be a simple graph where vertices have been given integer labels"
   ]
  },
  {
   "cell_type": "code",
   "execution_count": 7,
   "id": "c57e7f28-3da2-4cb9-a073-27f2580df984",
   "metadata": {},
   "outputs": [
    {
     "data": {
      "text/html": [
       "\n",
       "        <iframe\n",
       "            width=\"600px\"\n",
       "            height=\"500px\"\n",
       "            src=\"nx.html\"\n",
       "            frameborder=\"0\"\n",
       "            allowfullscreen\n",
       "        ></iframe>\n",
       "        "
      ],
      "text/plain": [
       "<IPython.lib.display.IFrame at 0x7facd6caabe0>"
      ]
     },
     "execution_count": 7,
     "metadata": {},
     "output_type": "execute_result"
    }
   ],
   "source": [
    "F12 = {'4:x', '3:y', '5:w', '-1:z'}\n",
    "F13 = [('4:x','3:y'), \n",
    "     ('3:y','-1:z'),\n",
    "     ('3:y','5:w'),\n",
    "     ('5:w','-1:z')]\n",
    "\n",
    "F14 = nx.Graph()\n",
    "\n",
    "F14.add_nodes_from(F12)\n",
    "F14.add_edges_from(F13)\n",
    "\n",
    "F15 = nt.Network(width = \"600px\", notebook = True)\n",
    "F15.from_nx(F14)\n",
    "F15.show('nx.html')"
   ]
  },
  {
   "cell_type": "markdown",
   "id": "454ee648-fe78-45a4-a943-61db136199b3",
   "metadata": {},
   "source": [
    "<b>Observe</b>: It is possible order these labels aribrarily as $\\{\\text{x, y, z, w} \\} $\n",
    "\n",
    "<b>Let</b> $P$ be a population, which is a list or vector of integers with arbitrary order such that: \n",
    "\n",
    "$$ P = [4, 3, -1, 5] $$"
   ]
  },
  {
   "cell_type": "markdown",
   "id": "f06c5baa-7645-4a05-b28f-c04549709bc9",
   "metadata": {},
   "source": [
    "<b>Definition</b>: A <b>Singleton Population</b> is a population which has all values 0 except for a single value of of 1"
   ]
  },
  {
   "cell_type": "markdown",
   "id": "f3b34eba-1d8e-48b6-8f8f-e32bf9650bcf",
   "metadata": {},
   "source": [
    "<b>Let</b> $F19$ be an example of a singleton population, which  an be denoted by the list $[\\text{0, 0, 0, 1}]$"
   ]
  },
  {
   "cell_type": "code",
   "execution_count": 8,
   "id": "b69502ee-6d78-4019-8061-a53cef758200",
   "metadata": {
    "tags": []
   },
   "outputs": [
    {
     "data": {
      "text/html": [
       "\n",
       "        <iframe\n",
       "            width=\"600px\"\n",
       "            height=\"500px\"\n",
       "            src=\"nx.html\"\n",
       "            frameborder=\"0\"\n",
       "            allowfullscreen\n",
       "        ></iframe>\n",
       "        "
      ],
      "text/plain": [
       "<IPython.lib.display.IFrame at 0x7facd6cae940>"
      ]
     },
     "execution_count": 8,
     "metadata": {},
     "output_type": "execute_result"
    }
   ],
   "source": [
    "F16 = {'0:x', '0:y', '1:w', '0:z'}\n",
    "F17 = [('0:x','0:y'), \n",
    "     ('0:y','0:z'),\n",
    "     ('0:y','1:w'),\n",
    "     ('1:w','0:z')]\n",
    "\n",
    "F18 = nx.Graph()\n",
    "\n",
    "F18.add_nodes_from(F16)\n",
    "F18.add_edges_from(F17)\n",
    "\n",
    "F19 = nt.Network(width = \"600px\", notebook = True)\n",
    "F19.from_nx(F18)\n",
    "F19.show('nx.html')"
   ]
  },
  {
   "cell_type": "markdown",
   "id": "cebc8ed2-a709-4aa6-9fff-8302d60175ee",
   "metadata": {},
   "source": [
    "<b>Observe</b>: There is the same number of singleton population as there are vertices"
   ]
  },
  {
   "cell_type": "markdown",
   "id": "7faf7b8b-824e-4ac3-9fdd-6a92b91b3d78",
   "metadata": {},
   "source": [
    "<b>Definition</b>: The <b>space of populations</b>, usually deonoted $P(X)$ is a linear space over the integers. Populations have the following pointwise operations: \n",
    "\n",
    "- Add populations\n",
    "- Scalar multiplication of populations\n",
    "- Negate populations\n",
    "\n",
    "$P(X)$ can be intuited as a vector space whose basis consists of the singleton populations of a graph. Note it vector space over integers with basis being $\\{\\text{set of singleton populations} \\}"
   ]
  },
  {
   "cell_type": "markdown",
   "id": "a1a559dd-1ba1-4abb-beab-f7261727828a",
   "metadata": {},
   "source": [
    "<hr/>\n",
    "\n",
    "<b>Aim</b>: Introduce the notion mutations\n",
    "\n",
    "<hr/>"
   ]
  },
  {
   "cell_type": "markdown",
   "id": "fd92f9b3-e3d6-4f0c-926b-1363b7139d11",
   "metadata": {},
   "source": [
    "<b>Defintion</b>: A <b>mutation</b> is a transformation of a population that depends on a vertex. \n",
    "\n",
    "If $x$ is a vertex of some simple graph $X$, the $s_x$ is the mutation of $x$ which is a transformation on populationsa nd results in a transformation of population. "
   ]
  },
  {
   "cell_type": "markdown",
   "id": "18983799-21fd-443b-a1ae-cae60d995e16",
   "metadata": {},
   "source": [
    "<b>Let</b> $p \\in P(X) $ where $p$ is a population and $P(X)$ is the space of populations on the simple graph $X$ and $N(x)$ be the neighbouring vertices of $x$ . Then the population functino, $ps_x$ on some population $y$ can be described as: \n",
    "\n",
    "$$ ps_x(y) \\equiv  \n",
    "\\begin{cases}\n",
    "    -p(x) + \\Sigma_{z \\in N(x)} \\text{ }  p(z) & \\text{if y = x}\\\\\n",
    "    p(y) & \\text{if y $\\ne$ x}\n",
    "\\end{cases}\n",
    "$$ "
   ]
  },
  {
   "cell_type": "markdown",
   "id": "93cf9b53-0057-46c3-a4e1-ec089fdca8eb",
   "metadata": {},
   "source": [
    "<b>Let</b> F20 be a implementation of the population function $ps_x$."
   ]
  },
  {
   "cell_type": "code",
   "execution_count": 64,
   "id": "6e993278-7213-491a-a190-3116de6ff2b9",
   "metadata": {},
   "outputs": [],
   "source": [
    "def F20(graph, nodeChoice, printSummary = True, returnUpdatedGraph = True):\n",
    "   \n",
    "    edgesOfChosenNode = list(nx.edges(graph, [nodeChoice]))\n",
    "   \n",
    "    neigborOfChosenNode = [edgesOfChosenNode[i][1] for i in range(len(list(edgesOfChosenNode)))]\n",
    "    nodeChoicePopulation = graph.nodes[nodeChoice]['population']\n",
    "    sumOfNeighborsOfChosenNode = np.sum([graph.nodes[i]['population'] for i in neigborOfChosenNode])\n",
    "    populationOfNode = -nodeChoicePopulation + sumOfNeighborsOfChosenNode\n",
    "    updatedGraph = graph.copy()\n",
    "    updatedGraph.nodes[nodeChoice]['population'] = populationOfNode\n",
    "\n",
    "    newPopulations = [updatedGraph.nodes[i]['population'] for i in list(updatedGraph)]\n",
    "    if printSummary:\n",
    "        print(\"Population transformation of node\", \n",
    "              nx.nodes(graph)[nodeChoice]['label'],\n",
    "              \": \",\n",
    "              nx.nodes(graph)[nodeChoice]['population'], \n",
    "              \"->\", \n",
    "              populationOfNode)\n",
    "        print(\"New populations: \", newPopulations, \"\\n\")\n",
    "\n",
    "    \n",
    "\n",
    "    return(updatedGraph)"
   ]
  },
  {
   "cell_type": "markdown",
   "id": "ea2cfc44-d7a7-4cae-9870-9a5e09531b20",
   "metadata": {},
   "source": [
    "<b>Example</b>: If F23 is a simple graph, each node can be mutated using the the population function $ps_x$ implemnted in $F20$. This will result in new values for each node $x, y, z$ and $w$"
   ]
  },
  {
   "cell_type": "code",
   "execution_count": 71,
   "id": "a5bb93c3-bbdd-4415-ad8f-196a0981154a",
   "metadata": {},
   "outputs": [],
   "source": [
    "F21 = [\n",
    "    (1, {\"population\": 4,\"label\": \"x\"}),\n",
    "    (2, {\"population\": 3, \"label\": \"y\"}),\n",
    "    (3, {\"population\": -1, \"label\": \"z\"}),\n",
    "    (4, {\"population\": 5, \"label\": \"w\"})]\n",
    "\n",
    "F22 = [(1,2),\n",
    "      (2,3),\n",
    "      (2,4),\n",
    "      (3,4)]\n",
    "\n",
    "F23 = nx.Graph()\n",
    "\n",
    "F23.add_nodes_from(F21)\n",
    "F23.add_edges_from(F22)"
   ]
  },
  {
   "cell_type": "markdown",
   "id": "68341deb-b3b2-4725-a2b0-46f087d9d403",
   "metadata": {},
   "source": [
    "<b>Observe</b>: that for this example the populations are: "
   ]
  },
  {
   "cell_type": "code",
   "execution_count": 72,
   "id": "f869a3a0-0be0-4ec5-8b3f-ed8e53011c75",
   "metadata": {},
   "outputs": [
    {
     "data": {
      "text/plain": [
       "[4, 3, -1, 5]"
      ]
     },
     "execution_count": 72,
     "metadata": {},
     "output_type": "execute_result"
    }
   ],
   "source": [
    "[F23.nodes[i]['population'] for i in list(F23)]"
   ]
  },
  {
   "cell_type": "markdown",
   "id": "2e38026c-ecdb-47bc-9b00-7c361c6b45af",
   "metadata": {},
   "source": [
    "<b>Observe</b>: The mutation function $F20$ can be applied at each vertice."
   ]
  },
  {
   "cell_type": "code",
   "execution_count": 68,
   "id": "d0fe51a8-aaca-4e94-a18e-8d648deb1917",
   "metadata": {},
   "outputs": [
    {
     "name": "stdout",
     "output_type": "stream",
     "text": [
      "Population transformation of node x :  4 -> -1\n",
      "New populations:  [-1, 3, -1, 5] \n",
      "\n",
      "Population transformation of node y :  3 -> 5\n",
      "New populations:  [4, 5, -1, 5] \n",
      "\n",
      "Population transformation of node z :  -1 -> 9\n",
      "New populations:  [4, 3, 9, 5] \n",
      "\n",
      "Population transformation of node w :  5 -> -3\n",
      "New populations:  [4, 3, -1, -3] \n",
      "\n"
     ]
    },
    {
     "data": {
      "text/plain": [
       "<networkx.classes.graph.Graph at 0x7facd51ee5b0>"
      ]
     },
     "execution_count": 68,
     "metadata": {},
     "output_type": "execute_result"
    }
   ],
   "source": [
    "F20(F23, 1, returnUpdatedGraph=False)\n",
    "F20(F23, 2, returnUpdatedGraph=False)\n",
    "F20(F23, 3, returnUpdatedGraph=False)\n",
    "F20(F23, 4, returnUpdatedGraph=False)"
   ]
  },
  {
   "cell_type": "markdown",
   "id": "d2cd5ad1-7302-4af4-91a1-5faf9a54dc54",
   "metadata": {},
   "source": [
    "<b>Observe</b>: There are 4 possible operations that can be performed on each vertex"
   ]
  },
  {
   "cell_type": "markdown",
   "id": "621e40ea-cb54-4a69-b1fa-ccfcd694b53a",
   "metadata": {},
   "source": [
    "<hr/>\n",
    "<b>Aim</b> Establish some basic properties of these mutations. \n",
    "<hr/>"
   ]
  },
  {
   "cell_type": "markdown",
   "id": "dc972a56-02f8-48b8-a834-f1c4e3bb273d",
   "metadata": {},
   "source": [
    "<b>Observe</b>: that the population function , $ps_x$ has the following properties:  \n",
    "\n",
    "1. If $p, q \\in P(X)$ then $(p + q)s_x = ps_x + qs_x$ so it is a linear operator and can be applied pointwise and if $n \\in \\text{Int}$, then $(np)s_x = n(ps_x)$\n",
    "2. $s_x^2 \\equiv \\text{Identity}$. Performing the same mutation in succession goes backwoards\n",
    "3. If $x$ and $y$ are non-neighboring vertices, then the $S_xS_y \\equiv S_yS_x$, meaning they are commutative"
   ]
  },
  {
   "cell_type": "markdown",
   "id": "9b3dcd05-705f-4482-bac2-a1664cf3af06",
   "metadata": {},
   "source": [
    "<b>Observe</b>: A consequence of property $3$, it is the case that: \n",
    "\n",
    "$$ (pS_x)S_y = p(S_xS_y) \\equiv (pS_y)S_x = p(S_yS_x) $$\n",
    "\n",
    "\n",
    "Note that the mutation functino, $S_i$ is, by convention, written on the rhs of the populations it is are acting on. This means that\n",
    "However in general they do not have to \n",
    "\n",
    "4. (The braid relation) If $x$ and $y$ are neighbors, then: \n",
    "\n",
    "\n",
    "\n",
    "$$ S_x S_y S_x = S_y S_x S_y $$"
   ]
  },
  {
   "cell_type": "markdown",
   "id": "141aea3c-ff0f-4e8d-8af7-5019aafe679f",
   "metadata": {},
   "source": [
    "<b>Observe</b>: It can be shows that the relation $(S_xS_y)^3 = \\text{identity}$"
   ]
  },
  {
   "cell_type": "markdown",
   "id": "ef3713b7-c20e-4722-82f8-a4c97d2e4688",
   "metadata": {},
   "source": [
    "<b>Let</b> $F26$ be an example show the result of applying the left hand side of property $4$ using the graph $F23$."
   ]
  },
  {
   "cell_type": "code",
   "execution_count": 83,
   "id": "ed256696-c36b-4b08-a99f-887b34f57f0e",
   "metadata": {},
   "outputs": [
    {
     "name": "stdout",
     "output_type": "stream",
     "text": [
      "Population transformation of node x :  4 -> -1\n",
      "New populations:  [-1, 3, -1, 5] \n",
      "\n",
      "Population transformation of node y :  3 -> 0\n",
      "New populations:  [-1, 0, -1, 5] \n",
      "\n",
      "Population transformation of node x :  -1 -> 1\n",
      "New populations:  [1, 0, -1, 5] \n",
      "\n"
     ]
    }
   ],
   "source": [
    "F24 = F20(F23, 1, returnUpdatedGraph=True)\n",
    "F25 = F20(F24, 2, returnUpdatedGraph=True)\n",
    "F26 = F20(F25, 1, returnUpdatedGraph=True)"
   ]
  },
  {
   "cell_type": "markdown",
   "id": "e0ed18e7-e38d-4139-964c-3f76cd11cbbc",
   "metadata": {},
   "source": [
    "<b>Let</b> $F29$ be the result of applying the right hand side of property $4$ using the graph $F23$."
   ]
  },
  {
   "cell_type": "code",
   "execution_count": 81,
   "id": "3434d63e-3ed1-447b-a0bd-016e676e26dc",
   "metadata": {},
   "outputs": [
    {
     "name": "stdout",
     "output_type": "stream",
     "text": [
      "Population transformation of node y :  3 -> 5\n",
      "New populations:  [4, 5, -1, 5] \n",
      "\n",
      "Population transformation of node x :  4 -> 1\n",
      "New populations:  [1, 5, -1, 5] \n",
      "\n",
      "Population transformation of node y :  5 -> 0\n",
      "New populations:  [1, 0, -1, 5] \n",
      "\n"
     ]
    }
   ],
   "source": [
    "F27 = F20(F23, 2, returnUpdatedGraph=True)\n",
    "F28 = F20(F27, 1, returnUpdatedGraph=True)\n",
    "F29 = F20(F28, 2, returnUpdatedGraph=True)"
   ]
  },
  {
   "cell_type": "markdown",
   "id": "7f1addfd-fadd-4bb0-8f6f-53dd87ed2d61",
   "metadata": {},
   "source": [
    "<b>Observe</b>: that the example supports property 4, that $ S_x S_y S_x = S_y S_x S_y $"
   ]
  },
  {
   "cell_type": "markdown",
   "id": "89ca4881-cf0d-4d24-9902-af0635270214",
   "metadata": {},
   "source": [
    "<hr/>\n",
    "<b>Aim</b> Prove and verify\n",
    "\n",
    "Exercices - prove or verify these properties do algebraically"
   ]
  },
  {
   "cell_type": "markdown",
   "id": "5085ec35-1051-4005-8d21-a6157a374138",
   "metadata": {},
   "source": [
    "<hr/>\n",
    "\n",
    "<b>Aim</b> Introduce noti noof Notion of root system that emerges\n",
    "\n",
    "<hr/>"
   ]
  },
  {
   "cell_type": "markdown",
   "id": "ade749f0-37e4-4d32-8ac6-1c9160b2ece7",
   "metadata": {},
   "source": [
    "<b>Definition</b>: The root of a graph, denoted $X$ is a population obtainable from a singleton population by successive mutations. \n",
    "\n",
    "<b>Let</b> $R(x) \\equiv \\text{roots of X}$\n",
    "\n",
    "<b>Observe</b>: "
   ]
  },
  {
   "cell_type": "code",
   "execution_count": 99,
   "id": "e255574c-0fc2-4cfc-8e69-b6d8b8bec6ec",
   "metadata": {},
   "outputs": [
    {
     "ename": "ValueError",
     "evalue": "dictionary update sequence element #0 has length 1; 2 is required",
     "output_type": "error",
     "traceback": [
      "\u001b[0;31m---------------------------------------------------------------------------\u001b[0m",
      "\u001b[0;31mTypeError\u001b[0m                                 Traceback (most recent call last)",
      "\u001b[0;32m/opt/conda/lib/python3.9/site-packages/networkx/classes/graph.py\u001b[0m in \u001b[0;36madd_nodes_from\u001b[0;34m(self, nodes_for_adding, **attr)\u001b[0m\n\u001b[1;32m    561\u001b[0m             \u001b[0;32mtry\u001b[0m\u001b[0;34m:\u001b[0m\u001b[0;34m\u001b[0m\u001b[0;34m\u001b[0m\u001b[0m\n\u001b[0;32m--> 562\u001b[0;31m                 \u001b[0;32mif\u001b[0m \u001b[0mn\u001b[0m \u001b[0;32mnot\u001b[0m \u001b[0;32min\u001b[0m \u001b[0mself\u001b[0m\u001b[0;34m.\u001b[0m\u001b[0m_node\u001b[0m\u001b[0;34m:\u001b[0m\u001b[0;34m\u001b[0m\u001b[0;34m\u001b[0m\u001b[0m\n\u001b[0m\u001b[1;32m    563\u001b[0m                     \u001b[0mself\u001b[0m\u001b[0;34m.\u001b[0m\u001b[0m_adj\u001b[0m\u001b[0;34m[\u001b[0m\u001b[0mn\u001b[0m\u001b[0;34m]\u001b[0m \u001b[0;34m=\u001b[0m \u001b[0mself\u001b[0m\u001b[0;34m.\u001b[0m\u001b[0madjlist_inner_dict_factory\u001b[0m\u001b[0;34m(\u001b[0m\u001b[0;34m)\u001b[0m\u001b[0;34m\u001b[0m\u001b[0;34m\u001b[0m\u001b[0m\n",
      "\u001b[0;31mTypeError\u001b[0m: unhashable type: 'dict'",
      "\nDuring handling of the above exception, another exception occurred:\n",
      "\u001b[0;31mValueError\u001b[0m                                Traceback (most recent call last)",
      "\u001b[0;32m<ipython-input-99-279f5cfcc34e>\u001b[0m in \u001b[0;36m<module>\u001b[0;34m\u001b[0m\n\u001b[1;32m     12\u001b[0m \u001b[0mF32\u001b[0m \u001b[0;34m=\u001b[0m \u001b[0mnx\u001b[0m\u001b[0;34m.\u001b[0m\u001b[0mGraph\u001b[0m\u001b[0;34m(\u001b[0m\u001b[0;34m)\u001b[0m\u001b[0;34m\u001b[0m\u001b[0;34m\u001b[0m\u001b[0m\n\u001b[1;32m     13\u001b[0m \u001b[0;34m\u001b[0m\u001b[0m\n\u001b[0;32m---> 14\u001b[0;31m \u001b[0mF32\u001b[0m\u001b[0;34m.\u001b[0m\u001b[0madd_nodes_from\u001b[0m\u001b[0;34m(\u001b[0m\u001b[0mF30\u001b[0m\u001b[0;34m)\u001b[0m\u001b[0;34m\u001b[0m\u001b[0;34m\u001b[0m\u001b[0m\n\u001b[0m\u001b[1;32m     15\u001b[0m \u001b[0mF32\u001b[0m\u001b[0;34m.\u001b[0m\u001b[0madd_edges_from\u001b[0m\u001b[0;34m(\u001b[0m\u001b[0mF31\u001b[0m\u001b[0;34m)\u001b[0m\u001b[0;34m\u001b[0m\u001b[0;34m\u001b[0m\u001b[0m\n\u001b[1;32m     16\u001b[0m \u001b[0;34m\u001b[0m\u001b[0m\n",
      "\u001b[0;32m/opt/conda/lib/python3.9/site-packages/networkx/classes/graph.py\u001b[0m in \u001b[0;36madd_nodes_from\u001b[0;34m(self, nodes_for_adding, **attr)\u001b[0m\n\u001b[1;32m    571\u001b[0m                     \u001b[0mself\u001b[0m\u001b[0;34m.\u001b[0m\u001b[0m_adj\u001b[0m\u001b[0;34m[\u001b[0m\u001b[0mnn\u001b[0m\u001b[0;34m]\u001b[0m \u001b[0;34m=\u001b[0m \u001b[0mself\u001b[0m\u001b[0;34m.\u001b[0m\u001b[0madjlist_inner_dict_factory\u001b[0m\u001b[0;34m(\u001b[0m\u001b[0;34m)\u001b[0m\u001b[0;34m\u001b[0m\u001b[0;34m\u001b[0m\u001b[0m\n\u001b[1;32m    572\u001b[0m                     \u001b[0mnewdict\u001b[0m \u001b[0;34m=\u001b[0m \u001b[0mattr\u001b[0m\u001b[0;34m.\u001b[0m\u001b[0mcopy\u001b[0m\u001b[0;34m(\u001b[0m\u001b[0;34m)\u001b[0m\u001b[0;34m\u001b[0m\u001b[0;34m\u001b[0m\u001b[0m\n\u001b[0;32m--> 573\u001b[0;31m                     \u001b[0mnewdict\u001b[0m\u001b[0;34m.\u001b[0m\u001b[0mupdate\u001b[0m\u001b[0;34m(\u001b[0m\u001b[0mndict\u001b[0m\u001b[0;34m)\u001b[0m\u001b[0;34m\u001b[0m\u001b[0;34m\u001b[0m\u001b[0m\n\u001b[0m\u001b[1;32m    574\u001b[0m                     \u001b[0mattr_dict\u001b[0m \u001b[0;34m=\u001b[0m \u001b[0mself\u001b[0m\u001b[0;34m.\u001b[0m\u001b[0m_node\u001b[0m\u001b[0;34m[\u001b[0m\u001b[0mnn\u001b[0m\u001b[0;34m]\u001b[0m \u001b[0;34m=\u001b[0m \u001b[0mself\u001b[0m\u001b[0;34m.\u001b[0m\u001b[0mnode_attr_dict_factory\u001b[0m\u001b[0;34m(\u001b[0m\u001b[0;34m)\u001b[0m\u001b[0;34m\u001b[0m\u001b[0;34m\u001b[0m\u001b[0m\n\u001b[1;32m    575\u001b[0m                     \u001b[0mattr_dict\u001b[0m\u001b[0;34m.\u001b[0m\u001b[0mupdate\u001b[0m\u001b[0;34m(\u001b[0m\u001b[0mnewdict\u001b[0m\u001b[0;34m)\u001b[0m\u001b[0;34m\u001b[0m\u001b[0;34m\u001b[0m\u001b[0m\n",
      "\u001b[0;31mValueError\u001b[0m: dictionary update sequence element #0 has length 1; 2 is required"
     ]
    }
   ],
   "source": [
    "F30 = [\n",
    "    (1,{\"label\": 0,\"title\": \"x\"}),\n",
    "    (2, {\"label\": 0, \"title\": \"y\"}),\n",
    "    (3, {\"label\": 1, \"title\": \"z\"}),\n",
    "    (4, {\"label\": 0, \"title\": \"w\"})]\n",
    "\n",
    "F31 = [(1,2),\n",
    "      (2,3),\n",
    "      (2,4),\n",
    "      (3,4)]\n",
    "\n",
    "F32 = nx.Graph()\n",
    "\n",
    "F32.add_nodes_from(F30)\n",
    "F32.add_edges_from(F31)\n",
    "\n",
    "F33 = nt.Network(width = \"600px\", notebook = True)\n",
    "F33.from_nx(F32)\n",
    "F33.show('nx.html')"
   ]
  },
  {
   "cell_type": "code",
   "execution_count": null,
   "id": "0d323cf1-c48b-4a61-bbba-50eda24c17a6",
   "metadata": {},
   "outputs": [],
   "source": []
  }
 ],
 "metadata": {
  "kernelspec": {
   "display_name": "Python 3",
   "language": "python",
   "name": "python3"
  },
  "language_info": {
   "codemirror_mode": {
    "name": "ipython",
    "version": 3
   },
   "file_extension": ".py",
   "mimetype": "text/x-python",
   "name": "python",
   "nbconvert_exporter": "python",
   "pygments_lexer": "ipython3",
   "version": "3.9.2"
  }
 },
 "nbformat": 4,
 "nbformat_minor": 5
}
