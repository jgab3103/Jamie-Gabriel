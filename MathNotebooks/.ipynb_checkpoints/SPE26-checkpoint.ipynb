{
 "cells": [
  {
   "cell_type": "markdown",
   "metadata": {},
   "source": [
    "<i>STATUS: Draft</i>\n",
    "\n",
    "<hr/>"
   ]
  },
  {
   "cell_type": "code",
   "execution_count": 20,
   "metadata": {},
   "outputs": [],
   "source": [
    "import numpy as np\n",
    "import sympy as sp\n",
    "import pickle\n",
    "from IPython.display import HTML, Image\n",
    "import ipywidgets as widgets\n",
    "import matplotlib as mpl\n",
    "from mpl_toolkits.mplot3d import Axes3D\n",
    "import matplotlib.pyplot as plt\n",
    "mpl.rcParams['legend.fontsize'] = 10\n",
    "import pandas as pd\n",
    "import itertools\n",
    "pd.set_option('display.max_colwidth', None)\n",
    "import treelib as tr\n",
    "\n",
    "\n",
    "# function to print latex\n",
    "def renderListToLatex(e):\n",
    "    latex_rendering = []\n",
    "\n",
    "    for i in range(len(e)):\n",
    "        latex_rendering.append(\"$$\" + sp.latex(e[i]) + \"$$\")\n",
    "    \n",
    "    return(HTML(\"\".join(latex_rendering[0:])))"
   ]
  },
  {
   "cell_type": "markdown",
   "metadata": {},
   "source": [
    "### Solving Polynomial Equations (26)\n",
    "\n",
    "#### Ascertaining the uniqueness of algebraic solution to the geometric quintic equation"
   ]
  },
  {
   "cell_type": "markdown",
   "metadata": {},
   "source": [
    "<hr>\n",
    "\n",
    "<b>Aim</b>: Check if the proposed solution to a quintic equation in geometic form is unique.\n",
    "\n",
    "<hr/>"
   ]
  },
  {
   "cell_type": "markdown",
   "metadata": {},
   "source": [
    "<b>Observe</b>: The previous notebook proposed a solution to a general quintic equation in geometric form, by utilising a power series to an abritrary degree. \n",
    "\n",
    "<b>Theorem</b>: The quintic equation in geometric form\n",
    "\n",
    "$ \\displaystyle 1 - x + c_{2} x^{2} + c_{3} x^{3} + c_{4} x^{4} + c_{5} x^{5} = 0 $\n",
    "\n",
    "has the solution: \n",
    "\n",
    "$$ x  = \\Sigma_{m = 0}^+ \\Sigma_{n = 0}^+ \\Sigma_{p = 0}^+ \\Sigma_{q = 0}^+  \\frac{(2m + 3n + 4p + 5q)!}{(1 + m + 2n + 3p + 4q)!m!n!p!q!}  c_2^{m} c_3^{n} c_4^{p} c_5^q  $$\n",
    "\n",
    "<b>Observe</b>: In the previous notebooks it was seen that these numbers represent a power series and relate to roofed polygonal subdivision numbers."
   ]
  },
  {
   "cell_type": "markdown",
   "metadata": {},
   "source": [
    "<b>Observe</b>: To ascertain if the solution to the above general quintic equation in geometric form is unique, a good starting point is to consider a equation in with a lower degree first. \n",
    "\n",
    "<b>Observe</b>: In the linear case, the geometric equation can be stated as $1 - x = 0$ and this is a unique solution, $x = 1$.\n",
    "\n",
    "<b>Let</b> the following be variables. "
   ]
  },
  {
   "cell_type": "code",
   "execution_count": 60,
   "metadata": {},
   "outputs": [],
   "source": [
    "x, a0, a1, a2, a3, a4, a5, a6, c, d = sp.symbols('x, a0, a1, a2, a3, a4, a5, a6, c, d')"
   ]
  },
  {
   "cell_type": "markdown",
   "metadata": {},
   "source": [
    "<b>Let</b> $F1$ be the quadratic case of a quadratic equation in geometric form."
   ]
  },
  {
   "cell_type": "code",
   "execution_count": 54,
   "metadata": {},
   "outputs": [
    {
     "data": {
      "text/latex": [
       "$\\displaystyle c x^{2} - x + 1 = 0$"
      ],
      "text/plain": [
       "Eq(c*x**2 - x + 1, 0)"
      ]
     },
     "execution_count": 54,
     "metadata": {},
     "output_type": "execute_result"
    }
   ],
   "source": [
    "F1 = sp.Eq(1 - x + c * x**2, 0)\n",
    "F1"
   ]
  },
  {
   "cell_type": "markdown",
   "metadata": {},
   "source": [
    "<b>Observe</b>: It is possible to use a power series solution to this equation to ascertain whether there could be a unique solution, where $x$ is:\n",
    "\n",
    "$$ x = \\Sigma_{k = 0}^6 = a_0 + ca_1 + c^2a_2+ c^3a_3 + c^4a_4 + c^5a_5 + c^6a_6 $$"
   ]
  },
  {
   "cell_type": "markdown",
   "metadata": {},
   "source": [
    "<b>Let</b> $F2$ be a equation setting $x$ to a power series of degree 6:"
   ]
  },
  {
   "cell_type": "code",
   "execution_count": 55,
   "metadata": {},
   "outputs": [
    {
     "data": {
      "text/latex": [
       "$\\displaystyle x = a_{0} + a_{1} c + a_{2} c^{2} + a_{3} c^{3} + a_{4} c^{4} + a_{5} c^{5} + a_{6} c^{6}$"
      ],
      "text/plain": [
       "Eq(x, a0 + a1*c + a2*c**2 + a3*c**3 + a4*c**4 + a5*c**5 + a6*c**6)"
      ]
     },
     "execution_count": 55,
     "metadata": {},
     "output_type": "execute_result"
    }
   ],
   "source": [
    "F2 = sp.Eq(x, a0 + c*a1 + c**2*a2+ c**3*a3 + c**4*a4 + c**5*a5 + c**6*a6)\n",
    "F2"
   ]
  },
  {
   "cell_type": "markdown",
   "metadata": {},
   "source": [
    "<b>Let</b> $F3$ be $F1$ witha subsution of $x$ using $F2$"
   ]
  },
  {
   "cell_type": "code",
   "execution_count": 56,
   "metadata": {},
   "outputs": [
    {
     "data": {
      "text/latex": [
       "$\\displaystyle - a_{0} - a_{1} c - a_{2} c^{2} - a_{3} c^{3} - a_{4} c^{4} - a_{5} c^{5} - a_{6} c^{6} + c \\left(a_{0} + a_{1} c + a_{2} c^{2} + a_{3} c^{3} + a_{4} c^{4} + a_{5} c^{5} + a_{6} c^{6}\\right)^{2} + 1 = 0$"
      ],
      "text/plain": [
       "Eq(-a0 - a1*c - a2*c**2 - a3*c**3 - a4*c**4 - a5*c**5 - a6*c**6 + c*(a0 + a1*c + a2*c**2 + a3*c**3 + a4*c**4 + a5*c**5 + a6*c**6)**2 + 1, 0)"
      ]
     },
     "execution_count": 56,
     "metadata": {},
     "output_type": "execute_result"
    }
   ],
   "source": [
    "F3 = F1.subs(x, F2.rhs)\n",
    "F3"
   ]
  },
  {
   "cell_type": "markdown",
   "metadata": {},
   "source": [
    "<b>Let</b> $F4$ be a power series expansion of $F3$ up to degree 6."
   ]
  },
  {
   "cell_type": "code",
   "execution_count": 58,
   "metadata": {},
   "outputs": [
    {
     "data": {
      "text/latex": [
       "$\\displaystyle - a_{0} + c^{5} \\left(2 a_{0} a_{4} + 2 a_{1} a_{3} + a_{2}^{2} - a_{5}\\right) + c^{4} \\left(2 a_{0} a_{3} + 2 a_{1} a_{2} - a_{4}\\right) + c^{3} \\left(2 a_{0} a_{2} + a_{1}^{2} - a_{3}\\right) + c^{2} \\left(2 a_{0} a_{1} - a_{2}\\right) + c \\left(a_{0}^{2} - a_{1}\\right) + 1$"
      ],
      "text/plain": [
       "-a0 + c**5*(2*a0*a4 + 2*a1*a3 + a2**2 - a5) + c**4*(2*a0*a3 + 2*a1*a2 - a4) + c**3*(2*a0*a2 + a1**2 - a3) + c**2*(2*a0*a1 - a2) + c*(a0**2 - a1) + 1"
      ]
     },
     "execution_count": 58,
     "metadata": {},
     "output_type": "execute_result"
    }
   ],
   "source": [
    "F4 = sp.expand(F3.lhs).series(c, 0, 6).removeO()\n",
    "F4"
   ]
  },
  {
   "cell_type": "markdown",
   "metadata": {},
   "source": [
    "<b>Observe</b>: Assuming $a_1$ to $a_5$ is $0$, it can dedeced that can deduce a0 = 1. It is subsequentyly possible to obtain values for all of $a_i$.  which will be unique."
   ]
  },
  {
   "cell_type": "markdown",
   "metadata": {},
   "source": [
    "<b>Observe</b>: The uniquess of this solution is clear from inductive examination, however a more general examintation the equation with subsitution also shows the solutions are unique. \n",
    "\n",
    "<b>Let</b> $F5$ be the the equation written such that each coeffiecient in $c^k$ is written on a seperate line. "
   ]
  },
  {
   "cell_type": "markdown",
   "metadata": {},
   "source": [
    "\n",
    "$$1$$\n",
    "$$ - (a_{0} + a_{1} c + a_{2} c^{2} + a_{3} c^{3} + a_{4} c^{4} + a_{5} c^{5} + a_{6} c^{6}) $$\n",
    "\n",
    "$$ c(a_{0} + a_{1} c + a_{2} c^{2} + a_{3} c^{3} + a_{4} c^{4} + a_{5} c^{5} + a_{6} c^{6})^{2} $$\n",
    "\n",
    "$$ = 0 $$\n",
    "\n",
    "\n"
   ]
  },
  {
   "cell_type": "markdown",
   "metadata": {},
   "source": [
    "<b>Observe</b>: The value of $a_k$ can be determined by looking at the total coefficient of $c^k$ on each line: for $k > 0$ there is no such coefffient in the first line, $a_k$ appears linearly in the second line, and in the the third line the coefficient of $c^k$ will involve only coefficients$a_i$ for $i < k$ and these by induction are already uniquely determined. \n",
    "\n",
    "<b>Observe</b>: This allows the conclusion that $a_k$ will be uniquely determined. "
   ]
  },
  {
   "cell_type": "markdown",
   "metadata": {
    "tags": []
   },
   "source": [
    "<b>Observe</b>: It is possible to ascertain this for the cubic case and a general argument is provided below.\n",
    "\n",
    "<b>Let</b> $F6$ be a general cubic equation in geometric form. "
   ]
  },
  {
   "cell_type": "code",
   "execution_count": 62,
   "metadata": {},
   "outputs": [
    {
     "data": {
      "text/latex": [
       "$\\displaystyle c x^{2} + d x^{3} - x + 1 = 0$"
      ],
      "text/plain": [
       "Eq(c*x**2 + d*x**3 - x + 1, 0)"
      ]
     },
     "execution_count": 62,
     "metadata": {},
     "output_type": "execute_result"
    }
   ],
   "source": [
    "F6 = sp.Eq(1 - x + c * x**2 + d * x**3, 0)\n",
    "F6"
   ]
  },
  {
   "cell_type": "markdown",
   "metadata": {},
   "source": [
    "<b>Observe</b>: To ascertain uniqueness in this case using a power series as a subsutition for $x$, the expected output would be: \n",
    "\n",
    "$$ x = \\alpha + (\\beta c + \\gamma d) + (\\delta c^2 + \\phi cd + \\eta d^2) + \\text{(cubic terms)} \\ldots$$"
   ]
  },
  {
   "cell_type": "markdown",
   "metadata": {},
   "source": [
    "<b>Observe</b>: The value of $\\alpha$ can be ascertained by looking at the constant term, so $\\alpha = 1$"
   ]
  },
  {
   "cell_type": "markdown",
   "metadata": {},
   "source": [
    "<b>Observe</b>: The values of $\\beta$ and $\\gamma$ are determined by looking at degree 1 terms and, similiarly the quadratic terms $\\delta, \\phi, \\eta$ appear linearly in the coefficents in $c^2, cd, d^2$ respectively, which satisfies uniqueness. \n",
    "\n",
    "<b>Observe</b>: This can be extended to higher degrees in a straightforward fashion using the same geometric form:  \n",
    "\n",
    "$$ 1 - x + c_2x^2 + \\ldots = 0 $$"
   ]
  },
  {
   "cell_type": "markdown",
   "metadata": {},
   "source": [
    "<b>Observe</b> Recall from SP2, when solving examining this problem by using a power series in $t$, two possible solutions were found: $a_0 = 0$ or $a_0 = \\frac{-c_1}{-c_2}$. However the geometric form allows x to be determined as a single solution. "
   ]
  }
 ],
 "metadata": {
  "kernelspec": {
   "display_name": "Python 3",
   "language": "python",
   "name": "python3"
  },
  "language_info": {
   "codemirror_mode": {
    "name": "ipython",
    "version": 3
   },
   "file_extension": ".py",
   "mimetype": "text/x-python",
   "name": "python",
   "nbconvert_exporter": "python",
   "pygments_lexer": "ipython3",
   "version": "3.9.2"
  }
 },
 "nbformat": 4,
 "nbformat_minor": 4
}
