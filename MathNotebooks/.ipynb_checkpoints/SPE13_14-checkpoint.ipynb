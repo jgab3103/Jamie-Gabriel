{
 "cells": [
  {
   "cell_type": "markdown",
   "metadata": {},
   "source": [
    "<i>STATUS: Draft<i>\n",
    "\n",
    "<div>These notes are based on Prof. Norman Wildberger's lectures on Solving Polynomial Equations found <a href=\"https://www.youtube.com/watch?v=XHC1YLh67Z0&list=PLzdiPTrEWyz7hk_Kzj4zDF_kUXBCtiGn6&index=1\">here</a>. They are being hosted at <a href=\"https://www.ladatavita.com/\">ladatavita.com</a> and available from my Github repo at: <a href=\"https://github.com/jgab3103/Jamie-Gabriel/tree/main/MathNotebooks\">https://github.com/jgab3103/Jamie-Gabriel/tree/main/MathNotebooks</a></div>\n",
    "\n",
    "<hr/>"
   ]
  },
  {
   "cell_type": "code",
   "execution_count": 27,
   "metadata": {},
   "outputs": [],
   "source": [
    "import numpy as np\n",
    "import sympy as sp\n",
    "import pickle\n",
    "from IPython.display import HTML\n",
    "import ipywidgets as widgets\n",
    "import matplotlib as mpl\n",
    "from mpl_toolkits.mplot3d import Axes3D\n",
    "import matplotlib.pyplot as plt\n",
    "mpl.rcParams['legend.fontsize'] = 10\n",
    "import pandas as pd\n",
    "import itertools\n",
    "pd.set_option('display.max_colwidth', None)\n",
    "\n",
    "#\n",
    "\n",
    "# function to print latex\n",
    "def renderListToLatex(e):\n",
    "    latex_rendering = []\n",
    "\n",
    "    for i in range(len(e)):\n",
    "        latex_rendering.append(\"$$\" + sp.latex(e[i]) + \"$$<br/>\")\n",
    "    \n",
    "    return(HTML(\"\".join(latex_rendering[0:])))"
   ]
  },
  {
   "cell_type": "markdown",
   "metadata": {},
   "source": [
    "### Solving Polynomial Equations (13 & 14)"
   ]
  },
  {
   "cell_type": "markdown",
   "metadata": {},
   "source": [
    "<hr/>\n",
    "\n",
    "<b>Aim</b>: Create a BiTri Conjecture for Catalan and Fuss numbers\n",
    "\n",
    "<hr/>"
   ]
  },
  {
   "cell_type": "markdown",
   "metadata": {},
   "source": [
    "<b>Observe</b>: a solution to a general cubic equation\n",
    "\n",
    "$$C(m_2, m_3)  \\equiv(-1)^{m_3 + 1} \\frac{(2 m_{2} + 3 m_{3})!}{(1 + m_{2} + 2 m_{3})!m_2!m_3!} \\frac{c_0^{1 + m_{2} + 2 m_{3}} c_2^{m_2} c_3^{m_3} }{c_1^{2 m_{2} + 3 m_{3} + 1}}$$\n"
   ]
  },
  {
   "cell_type": "markdown",
   "metadata": {},
   "source": [
    "<b>Let</b> $F1$ for a function that implements $C$."
   ]
  },
  {
   "cell_type": "code",
   "execution_count": 28,
   "metadata": {},
   "outputs": [],
   "source": [
    "def F1(m2, m3, returnCoefficientsOnly = False, returnCoefficientsOnlyWithoutSigns = True, returnCoefficientsAsFactorialStrings = False):\n",
    "    c_0, c_1, c_2, c_3 = sp.symbols('c_0, c_1, c_2, c_3')\n",
    "    s1 = (-1)**(m3 + 1)\n",
    "    s2 = sp.factorial(2 * m2 + 3 * m3)\n",
    "    s3 = sp.factorial(1 + m2 + 2 * m3) * sp.factorial(m2) * sp.factorial(m3)\n",
    "\n",
    "    \n",
    "    s4 = c_0**(1 + m2 + 2 * m3) * c_2**m2 *c_3**m3\n",
    "    s5 = c_1**(2 * m2 + 3 * m3 + 1)\n",
    "    \n",
    "    s7 = str(2 * m2 + 3 * m3) + \"!\"\n",
    "    s8 = str(1 + m2 + 2 * m3) + \"!\" + str(m2) + \"!\"  + str(m3) + \"!\"\n",
    "    \n",
    "    if returnCoefficientsOnly:\n",
    "        s6 = s1 * (s2 / s3)\n",
    "    elif returnCoefficientsOnlyWithoutSigns:\n",
    "        s6 = (s2 / s3)\n",
    "    elif returnCoefficientsAsFactorialStrings:\n",
    "        s6 = str(s7 + \" | \" + s8)\n",
    "    else:\n",
    "        s6 = s1 * (s2 / s3) * (s4 / s5)\n",
    "\n",
    "    return(s6)"
   ]
  },
  {
   "cell_type": "markdown",
   "metadata": {},
   "source": [
    "<b>Let</b> $P3$ be a matrix of values retlating the part of the formula that calculates unsigned coefficients: $ \\frac{(2 m_{2} + 3 m_{3})!}{(1 + m_{2} + 2 m_{3})!m_2!m_3!}$ "
   ]
  },
  {
   "cell_type": "code",
   "execution_count": 29,
   "metadata": {},
   "outputs": [
    {
     "data": {
      "text/latex": [
       "$\\displaystyle \\left[\\begin{matrix}1 & 1 & 3 & 12 & 55 & 273 & 1428 & 7752\\\\1 & 5 & 28 & 165 & 1001 & 6188 & 38760 & 245157\\\\2 & 21 & 180 & 1430 & 10920 & 81396 & 596904 & 4326300\\\\5 & 84 & 990 & 10010 & 92820 & 813960 & 6864396 & 56241900\\\\14 & 330 & 5005 & 61880 & 678300 & 6864396 & 65615550 & 600900300\\\\42 & 1287 & 24024 & 352716 & 4476780 & 51482970 & 551170620 & 5588372790\\\\132 & 5005 & 111384 & 1899240 & 27457584 & 354323970 & 4206302100 & 46835886240\\\\429 & 19448 & 503880 & 9806280 & 159352050 & 2283421140 & 29804654880 & 361913666400\\end{matrix}\\right]$"
      ],
      "text/plain": [
       "Matrix([\n",
       "[  1,     1,      3,      12,        55,        273,        1428,         7752],\n",
       "[  1,     5,     28,     165,      1001,       6188,       38760,       245157],\n",
       "[  2,    21,    180,    1430,     10920,      81396,      596904,      4326300],\n",
       "[  5,    84,    990,   10010,     92820,     813960,     6864396,     56241900],\n",
       "[ 14,   330,   5005,   61880,    678300,    6864396,    65615550,    600900300],\n",
       "[ 42,  1287,  24024,  352716,   4476780,   51482970,   551170620,   5588372790],\n",
       "[132,  5005, 111384, 1899240,  27457584,  354323970,  4206302100,  46835886240],\n",
       "[429, 19448, 503880, 9806280, 159352050, 2283421140, 29804654880, 361913666400]])"
      ]
     },
     "execution_count": 29,
     "metadata": {},
     "output_type": "execute_result"
    }
   ],
   "source": [
    "P1 = np.arange(8)\n",
    "P2 = np.array([[F1(j, i) for i in P1] for j in P1])\n",
    "P3 = sp.Matrix(P2)\n",
    "P3"
   ]
  },
  {
   "cell_type": "markdown",
   "metadata": {},
   "source": [
    "<b>Let</b> $C$ to be a formula that returns only the coefficients from $C$ (note the change of $m_2, m_3$ to $m, n$):\n",
    "\n",
    "$$C(m, n) \\equiv  \\frac{(2 m + 3 n)!}{(1 + m + 2 n)!m!n!} $$\n",
    "\n"
   ]
  },
  {
   "cell_type": "markdown",
   "metadata": {},
   "source": [
    "<b>Observe</b>: It has been shown in previous notebooks that that $C$ generates numbers which relate to the number of ways of mapping triangles and quadrilaterals into polygons of different sizes. \n",
    "\n",
    "<b>Observe</b>: The numbers generated from $C$ arise from only considering non-interior vertices (i.e. where a polygon is subdivided into as many different combinations of non overlapping triangles and quadrilaterals), and returns a natural number. \n",
    "\n",
    "<b>Observe</b>: The formula for $C$ calculates a <b>submultinomial coefficient</b> (defined previously) based on $m$ and $n$.\n",
    "\n",
    "<b>Observe</b>: It has been seen previously that the numbers generated from the formula $\\frac{(2 m + 3 n)!}{(1 + m + 2 n)!m!n!}$ can be related to polygon and triangle subdivisions for n-gons with $(2 + m + 2n)$ sides."
   ]
  },
  {
   "cell_type": "markdown",
   "metadata": {},
   "source": [
    "Let $F2$ be a function that implements $(2 + m + 2n)$. which generates the number of sides of different polygons."
   ]
  },
  {
   "cell_type": "code",
   "execution_count": 10,
   "metadata": {},
   "outputs": [],
   "source": [
    "def F2(m, n):\n",
    "    return(2 + m + 2 * n)"
   ]
  },
  {
   "cell_type": "markdown",
   "metadata": {},
   "source": [
    "<b>Let</b> $P6$ be a matrix created from $F2$. Consider $P6$ in conjunction with $P3$."
   ]
  },
  {
   "cell_type": "code",
   "execution_count": 13,
   "metadata": {},
   "outputs": [
    {
     "data": {
      "text/latex": [
       "$\\displaystyle \\left[\\begin{matrix}2 & 4 & 6 & 8 & 10 & 12 & 14 & 16\\\\3 & 5 & 7 & 9 & 11 & 13 & 15 & 17\\\\4 & 6 & 8 & 10 & 12 & 14 & 16 & 18\\\\5 & 7 & 9 & 11 & 13 & 15 & 17 & 19\\\\6 & 8 & 10 & 12 & 14 & 16 & 18 & 20\\\\7 & 9 & 11 & 13 & 15 & 17 & 19 & 21\\\\8 & 10 & 12 & 14 & 16 & 18 & 20 & 22\\\\9 & 11 & 13 & 15 & 17 & 19 & 21 & 23\\end{matrix}\\right]$"
      ],
      "text/plain": [
       "Matrix([\n",
       "[2,  4,  6,  8, 10, 12, 14, 16],\n",
       "[3,  5,  7,  9, 11, 13, 15, 17],\n",
       "[4,  6,  8, 10, 12, 14, 16, 18],\n",
       "[5,  7,  9, 11, 13, 15, 17, 19],\n",
       "[6,  8, 10, 12, 14, 16, 18, 20],\n",
       "[7,  9, 11, 13, 15, 17, 19, 21],\n",
       "[8, 10, 12, 14, 16, 18, 20, 22],\n",
       "[9, 11, 13, 15, 17, 19, 21, 23]])"
      ]
     },
     "execution_count": 13,
     "metadata": {},
     "output_type": "execute_result"
    }
   ],
   "source": [
    "P4 = np.arange(8)\n",
    "P5 = np.array([[F2(j, i) for i in P4] for j in P4])\n",
    "P6 = sp.Matrix(P5)\n",
    "P6"
   ]
  },
  {
   "cell_type": "code",
   "execution_count": 14,
   "metadata": {},
   "outputs": [
    {
     "data": {
      "text/latex": [
       "$\\displaystyle \\left[\\begin{matrix}1 & 1 & 3 & 12 & 55 & 273 & 1428 & 7752\\\\1 & 5 & 28 & 165 & 1001 & 6188 & 38760 & 245157\\\\2 & 21 & 180 & 1430 & 10920 & 81396 & 596904 & 4326300\\\\5 & 84 & 990 & 10010 & 92820 & 813960 & 6864396 & 56241900\\\\14 & 330 & 5005 & 61880 & 678300 & 6864396 & 65615550 & 600900300\\\\42 & 1287 & 24024 & 352716 & 4476780 & 51482970 & 551170620 & 5588372790\\\\132 & 5005 & 111384 & 1899240 & 27457584 & 354323970 & 4206302100 & 46835886240\\\\429 & 19448 & 503880 & 9806280 & 159352050 & 2283421140 & 29804654880 & 361913666400\\end{matrix}\\right]$"
      ],
      "text/plain": [
       "Matrix([\n",
       "[  1,     1,      3,      12,        55,        273,        1428,         7752],\n",
       "[  1,     5,     28,     165,      1001,       6188,       38760,       245157],\n",
       "[  2,    21,    180,    1430,     10920,      81396,      596904,      4326300],\n",
       "[  5,    84,    990,   10010,     92820,     813960,     6864396,     56241900],\n",
       "[ 14,   330,   5005,   61880,    678300,    6864396,    65615550,    600900300],\n",
       "[ 42,  1287,  24024,  352716,   4476780,   51482970,   551170620,   5588372790],\n",
       "[132,  5005, 111384, 1899240,  27457584,  354323970,  4206302100,  46835886240],\n",
       "[429, 19448, 503880, 9806280, 159352050, 2283421140, 29804654880, 361913666400]])"
      ]
     },
     "execution_count": 14,
     "metadata": {},
     "output_type": "execute_result"
    }
   ],
   "source": [
    "P3"
   ]
  },
  {
   "cell_type": "markdown",
   "metadata": {},
   "source": [
    "<b>Observe</b>: the integers for each entry in $P6$  relate to a number of ways that different n-gons can be subdivided. \n",
    "\n",
    "<b>Observe</b>: only the first column and first row have a well known explanation (as Catalan and Fuss Numbers).\n",
    "\n",
    "<b>Observe</b>: Some of the data $P3$ and $P6$ can be interpreted as follows:\n",
    "\n",
    "* There are 2 ways to subdivde a 4-gon into triangles (relating to the $(2, 0)$ entry in $P3$ and $P6$) \n",
    "* There are 5 ways to subdivide a 5-gon into triangles (relating to the $(3, 0)$ entry in $P3$ and $P6$) \n",
    "* There are 14 ways to subdivide a 6-gon into triangles (relating to the $(4, 0)$ entry in $P3$ and $P6$) \n",
    "* There are 12 ways to subdivide an 8-gon into quadrilaterals and triangles (relating to the $(0, 3)$ entry in $P3$ and $P6$) \n",
    "\n",
    "\n",
    "\n"
   ]
  },
  {
   "cell_type": "markdown",
   "metadata": {},
   "source": [
    "<hr/>\n",
    "<b>Aim</b> Provide a more general conjecture that can explain the relationship between all the numbers returned from the function $C$ and relates this to the number of ways to counts sides of n-gons\n",
    "\n",
    "<hr/>"
   ]
  },
  {
   "cell_type": "markdown",
   "metadata": {},
   "source": [
    "<b>Conjecture:</b> BiTri Numbers\n",
    "\n",
    "The <b>BiTri Number</b>,  $C(m, n)$ counts the number of diagonal subdivisions of a $(2 + m + 2n)$ sided polygon into $m$ triangles and $n$ quadrilaterals. \n",
    "\n",
    "$C(m, n)$ can be generated by the formula $$C(m, n) =  \\frac{(2 m + 3 n)!}{(1 + m + 2 n)!m!n!} $$\n",
    "\n",
    "\n",
    "Observe: the choice of name arises due to binary and ternery tree relationships that appear in Catalan and Fuss-Catalan numbers and have prominence in Computer Science. \n"
   ]
  },
  {
   "cell_type": "markdown",
   "metadata": {},
   "source": [
    "<hr/>\n",
    "\n",
    "<b>Aim</b>: Investigate possible recursive relations between columns and rows in $C(m,n)$ using the BiTri Conjecture, to understnad the numbers generated as factors of of Catalan and Fuss numbers.\n",
    "\n",
    "<b>Method</b>: Examine different inputs to the function $C$, comparing the cases where $m = m, m = 0, m = n + 1$ and $n = n, n = 0, n = n + 1$. \n",
    "<hr/>"
   ]
  },
  {
   "cell_type": "markdown",
   "metadata": {},
   "source": [
    "Let $P7$ be $F1$ evaluated at $(m, 0$)"
   ]
  },
  {
   "cell_type": "code",
   "execution_count": 73,
   "metadata": {},
   "outputs": [
    {
     "data": {
      "text/latex": [
       "$\\displaystyle \\frac{\\left(2 m\\right)!}{m! \\left(m + 1\\right)!}$"
      ],
      "text/plain": [
       "factorial(2*m)/(factorial(m)*factorial(m + 1))"
      ]
     },
     "execution_count": 73,
     "metadata": {},
     "output_type": "execute_result"
    }
   ],
   "source": [
    "C, m,n, x = sp.symbols('C, m, n, x')\n",
    "P7 = F1(m,0)\n",
    "P7"
   ]
  },
  {
   "cell_type": "markdown",
   "metadata": {},
   "source": [
    "<b>Observe</b>: this returns the formula for Catalan Numbers\n",
    "\n",
    "<b>Observe</b>: relation between successive elements in in column\n",
    "\n",
    "<b>Let</b> $P8$ be $F1$ evaluated at ($m + 1, 0)$."
   ]
  },
  {
   "cell_type": "code",
   "execution_count": 74,
   "metadata": {},
   "outputs": [
    {
     "data": {
      "text/latex": [
       "$\\displaystyle \\frac{\\left(2 m + 2\\right)!}{\\left(m + 1\\right)! \\left(m + 2\\right)!}$"
      ],
      "text/plain": [
       "factorial(2*m + 2)/(factorial(m + 1)*factorial(m + 2))"
      ]
     },
     "execution_count": 74,
     "metadata": {},
     "output_type": "execute_result"
    }
   ],
   "source": [
    "P8 = F1(m + 1, 0)\n",
    "P8"
   ]
  },
  {
   "cell_type": "markdown",
   "metadata": {},
   "source": [
    "<b>Observe</b>: This can be rewritten as a two factors, one of which is the Catalan generating function\n",
    "\n",
    "<b>Let</b> $P9$ be an equation representing a relationhip between $P7, P8$ and $x$."
   ]
  },
  {
   "cell_type": "code",
   "execution_count": 75,
   "metadata": {},
   "outputs": [
    {
     "data": {
      "text/latex": [
       "$\\displaystyle \\frac{\\left(2 m\\right)!}{m! \\left(m + 1\\right)!} = \\frac{x \\left(2 m + 2\\right)!}{\\left(m + 1\\right)! \\left(m + 2\\right)!}$"
      ],
      "text/plain": [
       "Eq(factorial(2*m)/(factorial(m)*factorial(m + 1)), x*factorial(2*m + 2)/(factorial(m + 1)*factorial(m + 2)))"
      ]
     },
     "execution_count": 75,
     "metadata": {},
     "output_type": "execute_result"
    }
   ],
   "source": [
    "P9 = sp.Eq(P7, x * P8  )\n",
    "P9"
   ]
  },
  {
   "cell_type": "markdown",
   "metadata": {},
   "source": [
    "\n"
   ]
  },
  {
   "cell_type": "markdown",
   "metadata": {},
   "source": [
    "<b>Let</b> $P10$ be a solution for $x$ of $P9$"
   ]
  },
  {
   "cell_type": "code",
   "execution_count": 76,
   "metadata": {},
   "outputs": [
    {
     "data": {
      "text/latex": [
       "$\\displaystyle x = \\frac{m + 2}{2 \\left(2 m + 1\\right)}$"
      ],
      "text/plain": [
       "Eq(x, (m + 2)/(2*(2*m + 1)))"
      ]
     },
     "execution_count": 76,
     "metadata": {},
     "output_type": "execute_result"
    }
   ],
   "source": [
    "P10 = sp.Eq(x, sp.solve(P9, x)[0])\n",
    "P10"
   ]
  },
  {
   "cell_type": "markdown",
   "metadata": {},
   "source": [
    "<b>Observe</b>: this allows the recursive relation: \n",
    "\n",
    "$$ C(m + 1) =\\frac{2 \\left(2 m + 1\\right)}{m + 2} \\times C(m) $$\n",
    "\n",
    "<b>Let</b> $P11$ be an equivalent to $P10$, created in SymPy for the purpose of manipulation: "
   ]
  },
  {
   "cell_type": "code",
   "execution_count": 77,
   "metadata": {},
   "outputs": [
    {
     "data": {
      "text/latex": [
       "$\\displaystyle C \\left(m + 1\\right) = \\frac{C m \\left(4 m + 2\\right)}{m + 2}$"
      ],
      "text/plain": [
       "Eq(C*(m + 1), C*m*(4*m + 2)/(m + 2))"
      ]
     },
     "execution_count": 77,
     "metadata": {},
     "output_type": "execute_result"
    }
   ],
   "source": [
    "P11= sp.Eq(C * (m + 1), (2 * (1 + 2 * m))/ (2 + m) * (C * m))\n",
    "P11"
   ]
  },
  {
   "cell_type": "markdown",
   "metadata": {},
   "source": [
    "<b>Let</b> $P12$ be a manipulation of $P11$"
   ]
  },
  {
   "cell_type": "code",
   "execution_count": 78,
   "metadata": {},
   "outputs": [
    {
     "data": {
      "text/latex": [
       "$\\displaystyle C m \\left(4 m + 2\\right) = C \\left(m + 1\\right) \\left(m + 2\\right)$"
      ],
      "text/plain": [
       "Eq(C*m*(4*m + 2), C*(m + 1)*(m + 2))"
      ]
     },
     "execution_count": 78,
     "metadata": {},
     "output_type": "execute_result"
    }
   ],
   "source": [
    "P12 = sp.Eq(P11.rhs * (m + 2), P11.lhs * (m + 2))\n",
    "P12"
   ]
  },
  {
   "cell_type": "markdown",
   "metadata": {},
   "source": [
    "<b>Observe</b> that $P12$ is a well known forumula: \n",
    "\n",
    "$$ C(m) \\left(4 m + 2\\right) = C \\left(m + 1\\right) \\left(m + 2\\right)  $$\n",
    "\n",
    "discovered by Euler."
   ]
  },
  {
   "cell_type": "markdown",
   "metadata": {},
   "source": [
    "<b>Observe</b>: it is possible to apply a similiar methodology to both the rows and columns, removing the assumption that $n = 0$\n",
    "\n",
    "<b>Let</b> $P13$ be $F1$ evaluated at $(m, n)$."
   ]
  },
  {
   "cell_type": "code",
   "execution_count": 79,
   "metadata": {},
   "outputs": [
    {
     "data": {
      "text/latex": [
       "$\\displaystyle \\frac{\\left(2 m + 3 n\\right)!}{m! n! \\left(m + 2 n + 1\\right)!}$"
      ],
      "text/plain": [
       "factorial(2*m + 3*n)/(factorial(m)*factorial(n)*factorial(m + 2*n + 1))"
      ]
     },
     "execution_count": 79,
     "metadata": {},
     "output_type": "execute_result"
    }
   ],
   "source": [
    "C, m,n, x = sp.symbols('C, m, n, x')\n",
    "P13 = F1(m,n)\n",
    "P13"
   ]
  },
  {
   "cell_type": "markdown",
   "metadata": {},
   "source": [
    "<b>Let</b> $P14$ be $F1$ evaluated at $(m + 1, n)$."
   ]
  },
  {
   "cell_type": "code",
   "execution_count": 80,
   "metadata": {},
   "outputs": [
    {
     "data": {
      "text/latex": [
       "$\\displaystyle \\frac{\\left(2 m + 3 n + 2\\right)!}{n! \\left(m + 1\\right)! \\left(m + 2 n + 2\\right)!}$"
      ],
      "text/plain": [
       "factorial(2*m + 3*n + 2)/(factorial(n)*factorial(m + 1)*factorial(m + 2*n + 2))"
      ]
     },
     "execution_count": 80,
     "metadata": {},
     "output_type": "execute_result"
    }
   ],
   "source": [
    "\n",
    "P14 = F1(m + 1,n)\n",
    "P14"
   ]
  },
  {
   "cell_type": "markdown",
   "metadata": {},
   "source": [
    "<b>Let</b> $P15$ be equation that expresses the relationship between $P13$, $P14$, and unknown type $x$."
   ]
  },
  {
   "cell_type": "code",
   "execution_count": 81,
   "metadata": {},
   "outputs": [
    {
     "data": {
      "text/latex": [
       "$\\displaystyle \\frac{\\left(2 m + 3 n\\right)!}{m! n! \\left(m + 2 n + 1\\right)!} = \\frac{x \\left(2 m + 3 n + 2\\right)!}{n! \\left(m + 1\\right)! \\left(m + 2 n + 2\\right)!}$"
      ],
      "text/plain": [
       "Eq(factorial(2*m + 3*n)/(factorial(m)*factorial(n)*factorial(m + 2*n + 1)), x*factorial(2*m + 3*n + 2)/(factorial(n)*factorial(m + 1)*factorial(m + 2*n + 2)))"
      ]
     },
     "execution_count": 81,
     "metadata": {},
     "output_type": "execute_result"
    }
   ],
   "source": [
    "P15 = sp.Eq(P13, x * P14)\n",
    "P15"
   ]
  },
  {
   "cell_type": "markdown",
   "metadata": {},
   "source": [
    "<b>Let</b> $P16$ be the solution to $P15$ in terms of $x$."
   ]
  },
  {
   "cell_type": "code",
   "execution_count": 82,
   "metadata": {},
   "outputs": [
    {
     "data": {
      "text/latex": [
       "$\\displaystyle x = \\frac{\\left(m + 1\\right) \\left(m + 2 n + 2\\right)}{\\left(2 m + 3 n + 1\\right) \\left(2 m + 3 n + 2\\right)}$"
      ],
      "text/plain": [
       "Eq(x, (m + 1)*(m + 2*n + 2)/((2*m + 3*n + 1)*(2*m + 3*n + 2)))"
      ]
     },
     "execution_count": 82,
     "metadata": {},
     "output_type": "execute_result"
    }
   ],
   "source": [
    "P16 = sp.Eq(x, sp.solve(P15, x)[0])\n",
    "P16"
   ]
  },
  {
   "cell_type": "markdown",
   "metadata": {},
   "source": [
    "<b>Observe</b>: Because $C(m, n)$ is equivalent to $\\frac{\\left(2 m + 3 n\\right)!}{m! n! \\left(m + 2 n + 1\\right)!}$, the following identity is a result from the relationship between $P15$:\n",
    "\n",
    "$$  \\frac{\\left(2 m + 3 n + 1\\right) \\left(2 m + 3 n + 2\\right)}{\\left(m + 1\\right) \\left(m + 2 n + 2\\right)} C(m, n) $$\n",
    "\n",
    "<b>Observe</b>: this shows the difference between $m$ and $m + 1$ when $n$ is held constant."
   ]
  },
  {
   "cell_type": "markdown",
   "metadata": {},
   "source": [
    "<b>Observe</b>: it is possible to examine moving between columns  in a similiar manner (referring to Fuss Numbers on the top row of $P3$."
   ]
  },
  {
   "cell_type": "markdown",
   "metadata": {},
   "source": [
    "<b>Let</b> $P17$ be $F1$ evaluated at $(0, n)$."
   ]
  },
  {
   "cell_type": "code",
   "execution_count": 91,
   "metadata": {},
   "outputs": [
    {
     "data": {
      "text/latex": [
       "$\\displaystyle \\frac{\\left(3 n\\right)!}{n! \\left(2 n + 1\\right)!}$"
      ],
      "text/plain": [
       "factorial(3*n)/(factorial(n)*factorial(2*n + 1))"
      ]
     },
     "execution_count": 91,
     "metadata": {},
     "output_type": "execute_result"
    }
   ],
   "source": [
    "P17 = F1(0, n)\n",
    "P17"
   ]
  },
  {
   "cell_type": "markdown",
   "metadata": {},
   "source": [
    "<b>Let</b> $P18$ be $F1$ evaluated at $(0, n + 1)$."
   ]
  },
  {
   "cell_type": "code",
   "execution_count": 84,
   "metadata": {},
   "outputs": [
    {
     "data": {
      "text/latex": [
       "$\\displaystyle \\frac{\\left(3 n + 3\\right)!}{\\left(n + 1\\right)! \\left(2 n + 3\\right)!}$"
      ],
      "text/plain": [
       "factorial(3*n + 3)/(factorial(n + 1)*factorial(2*n + 3))"
      ]
     },
     "execution_count": 84,
     "metadata": {},
     "output_type": "execute_result"
    }
   ],
   "source": [
    "P18 = F1(0, n + 1)\n",
    "P18"
   ]
  },
  {
   "cell_type": "markdown",
   "metadata": {},
   "source": [
    "<b>Let</b> $P19$ be equation that expresses the relationship between $P17$, $P18$, and unknown type $x$."
   ]
  },
  {
   "cell_type": "code",
   "execution_count": 85,
   "metadata": {},
   "outputs": [
    {
     "data": {
      "text/latex": [
       "$\\displaystyle \\frac{\\left(3 n + 3\\right)!}{\\left(n + 1\\right)! \\left(2 n + 3\\right)!} = \\frac{x \\left(3 n\\right)!}{n! \\left(2 n + 1\\right)!}$"
      ],
      "text/plain": [
       "Eq(factorial(3*n + 3)/(factorial(n + 1)*factorial(2*n + 3)), x*factorial(3*n)/(factorial(n)*factorial(2*n + 1)))"
      ]
     },
     "execution_count": 85,
     "metadata": {},
     "output_type": "execute_result"
    }
   ],
   "source": [
    "P19 = sp.Eq(P18, x * P17)\n",
    "P19"
   ]
  },
  {
   "cell_type": "markdown",
   "metadata": {},
   "source": [
    "<b>Let</b> $P20$ be the solution for the unknown type $x$."
   ]
  },
  {
   "cell_type": "code",
   "execution_count": 86,
   "metadata": {},
   "outputs": [
    {
     "data": {
      "text/latex": [
       "$\\displaystyle x = \\frac{3 \\left(3 n + 1\\right) \\left(3 n + 2\\right)}{2 \\left(n + 1\\right) \\left(2 n + 3\\right)}$"
      ],
      "text/plain": [
       "Eq(x, 3*(3*n + 1)*(3*n + 2)/(2*(n + 1)*(2*n + 3)))"
      ]
     },
     "execution_count": 86,
     "metadata": {},
     "output_type": "execute_result"
    }
   ],
   "source": [
    "P20 = sp.Eq(x, sp.solve(P19, x)[0].factor())\n",
    "P20"
   ]
  },
  {
   "cell_type": "markdown",
   "metadata": {},
   "source": [
    "<b>Observe</b>: Because $C(0, n)$ is equivalent to $ \\frac{\\left(3 n\\right)!}{n! \\left(2 n + 1\\right)!}$, the following identity is a result from the relationship expressed in $P19$:\n",
    "\n",
    "\n",
    "$$   \\frac{3 \\left(3 n + 1\\right) \\left(3 n + 2\\right)}{2 \\left(n + 1\\right) \\left(2 n + 3\\right)} \\times C(n)$$\n",
    "\n",
    "to explain the difference between $n$ and $n + 1$ when $m = 0$."
   ]
  },
  {
   "cell_type": "markdown",
   "metadata": {},
   "source": [
    "<b>Observe</b>: $\\frac{3 \\left(3 n + 1\\right) \\left(3 n + 2\\right)}{2 \\left(n + 1\\right) \\left(2 n + 3\\right)} C(n)$ is recursive expression that can be used to generate ongoing Fuss Numbers.  \n",
    "\n",
    "<b>Observe</b>: It is unclear why this would recursive expression relates to the geometrical nature of the Fuss numbers in terms of how this factor can explain the change in the number of quadrilaterals for different sized n-gons. \n",
    "\n",
    "<b>Observe</b>: There appears to be some kind of relationship between quadrilaterals and this multiplicative factor but not enough is known to prove the BiTri conjecture"
   ]
  },
  {
   "cell_type": "markdown",
   "metadata": {},
   "source": [
    "<b>Let</b> $P21$ be $F1$ evaluated at $(m, n)$."
   ]
  },
  {
   "cell_type": "code",
   "execution_count": 72,
   "metadata": {},
   "outputs": [
    {
     "data": {
      "text/latex": [
       "$\\displaystyle \\frac{\\left(2 m + 3 n\\right)!}{m! n! \\left(m + 2 n + 1\\right)!}$"
      ],
      "text/plain": [
       "factorial(2*m + 3*n)/(factorial(m)*factorial(n)*factorial(m + 2*n + 1))"
      ]
     },
     "execution_count": 72,
     "metadata": {},
     "output_type": "execute_result"
    }
   ],
   "source": [
    "P21 = F1(m, n)\n",
    "P21"
   ]
  },
  {
   "cell_type": "markdown",
   "metadata": {},
   "source": [
    "<b>Let</b> $P22$ be $F1$ evaluated at $(m, n + 1)$"
   ]
  },
  {
   "cell_type": "code",
   "execution_count": 87,
   "metadata": {},
   "outputs": [
    {
     "data": {
      "text/latex": [
       "$\\displaystyle \\frac{\\left(2 m + 3 n + 3\\right)!}{m! \\left(n + 1\\right)! \\left(m + 2 n + 3\\right)!}$"
      ],
      "text/plain": [
       "factorial(2*m + 3*n + 3)/(factorial(m)*factorial(n + 1)*factorial(m + 2*n + 3))"
      ]
     },
     "execution_count": 87,
     "metadata": {},
     "output_type": "execute_result"
    }
   ],
   "source": [
    "P22 = F1(m, n + 1)\n",
    "P22"
   ]
  },
  {
   "cell_type": "markdown",
   "metadata": {},
   "source": [
    "<b>Let</b> $P23$ be equation that expresses the relationship between $P21$, $P22$, and unknown type $x$."
   ]
  },
  {
   "cell_type": "code",
   "execution_count": 89,
   "metadata": {},
   "outputs": [
    {
     "data": {
      "text/latex": [
       "$\\displaystyle \\frac{\\left(2 m + 3 n + 3\\right)!}{m! \\left(n + 1\\right)! \\left(m + 2 n + 3\\right)!} = \\frac{x \\left(2 m + 3 n\\right)!}{m! n! \\left(m + 2 n + 1\\right)!}$"
      ],
      "text/plain": [
       "Eq(factorial(2*m + 3*n + 3)/(factorial(m)*factorial(n + 1)*factorial(m + 2*n + 3)), x*factorial(2*m + 3*n)/(factorial(m)*factorial(n)*factorial(m + 2*n + 1)))"
      ]
     },
     "execution_count": 89,
     "metadata": {},
     "output_type": "execute_result"
    }
   ],
   "source": [
    "P23 = sp.Eq(P22, x * P21)\n",
    "P23"
   ]
  },
  {
   "cell_type": "markdown",
   "metadata": {},
   "source": [
    "<b>Let</b> $P24$ be the solution for the unknown type $x$:"
   ]
  },
  {
   "cell_type": "code",
   "execution_count": 90,
   "metadata": {},
   "outputs": [
    {
     "data": {
      "text/latex": [
       "$\\displaystyle x = \\frac{\\left(2 m + 3 n + 1\\right) \\left(2 m + 3 n + 2\\right) \\left(2 m + 3 n + 3\\right)}{\\left(n + 1\\right) \\left(m + 2 n + 2\\right) \\left(m + 2 n + 3\\right)}$"
      ],
      "text/plain": [
       "Eq(x, (2*m + 3*n + 1)*(2*m + 3*n + 2)*(2*m + 3*n + 3)/((n + 1)*(m + 2*n + 2)*(m + 2*n + 3)))"
      ]
     },
     "execution_count": 90,
     "metadata": {},
     "output_type": "execute_result"
    }
   ],
   "source": [
    "P24 = sp.Eq(x, sp.solve(P23, x)[0])\n",
    "P24"
   ]
  },
  {
   "cell_type": "markdown",
   "metadata": {},
   "source": [
    "<b>Observe</b>: Because $\\frac{\\left(2 m + 3 n\\right)!}{m! n! \\left(m + 2 n + 1\\right)!}$ is equivalent to $C(m, n)$ the following identity is a result of the relationship expressed in $P23$: \n",
    "\n",
    "$$  \\frac{\\left(2 m + 3 n + 1\\right) \\left(2 m + 3 n + 2\\right) \\left(2 m + 3 n + 3\\right)}{\\left(n + 1\\right) \\left(m + 2 n + 2\\right) \\left(m + 2 n + 3\\right)} C(m, n) $$\n",
    "\n",
    "<b>Observe</b>: This factor assumes $m$ is held constant, and $n$ increases sequentially by 1"
   ]
  },
  {
   "cell_type": "markdown",
   "metadata": {},
   "source": [
    "<hr/>\n",
    "<b>Conclusion</b>: The above exploration the demonstrates following relatinoships can be used explain movement horizontally and vertically across the array of numbers: <br/> <br/>\n",
    "\n",
    "<br/>\n",
    "\n",
    "$$ C(m + 1, n) =  \\frac{\\left(2 m + 3 n + 1\\right) \\left(2 m + 3 n + 2\\right)}{\\left(m + 1\\right) \\left(m + 2 n + 2\\right)} \\times C(m, n)   $$\n",
    "\n",
    "\n",
    "and \n",
    "\n",
    "$$ C(m, n + 1) =  \\frac{\\left(2 m + 3 n + 1\\right) \\left(2 m + 3 n + 2\\right) \\left(2 m + 3 n + 3\\right)}{\\left(n + 1\\right) \\left(m + 2 n + 2\\right) \\left(m + 2 n + 3\\right)} \\times C(m, n) $$\n",
    "\n",
    "<b>Observe</b>: The first relationship corresponds to going down a column and adding a triangle, while the second relationship corresponds to across a row,  adding a quadrilateral. \n",
    "\n",
    "<b>Observe</b>: These relationships can be used to movement so we can move in any direction, so is an ideal point from which to prove the BiTri conjecture.\n",
    "\n",
    "<b>Todo</b>: Use these functions and multiplicative factors to explore movement across this matrix in order to move toward a proof of the BiTri conjecture. \n"
   ]
  },
  {
   "cell_type": "code",
   "execution_count": null,
   "metadata": {},
   "outputs": [],
   "source": []
  }
 ],
 "metadata": {
  "kernelspec": {
   "display_name": "Python 3",
   "language": "python",
   "name": "python3"
  },
  "language_info": {
   "codemirror_mode": {
    "name": "ipython",
    "version": 3
   },
   "file_extension": ".py",
   "mimetype": "text/x-python",
   "name": "python",
   "nbconvert_exporter": "python",
   "pygments_lexer": "ipython3",
   "version": "3.9.2"
  }
 },
 "nbformat": 4,
 "nbformat_minor": 4
}
