{
 "cells": [
  {
   "cell_type": "code",
   "execution_count": 2,
   "metadata": {},
   "outputs": [],
   "source": [
    "import numpy as np\n",
    "import sympy as sp\n",
    "import pickle\n",
    "from IPython.display import HTML\n",
    "import ipywidgets as widgets\n",
    "import matplotlib as mpl\n",
    "from mpl_toolkits.mplot3d import Axes3D\n",
    "import matplotlib.pyplot as plt\n",
    "mpl.rcParams['legend.fontsize'] = 10\n",
    "import pandas as pd\n",
    "import itertools\n",
    "pd.set_option('display.max_colwidth', None)\n",
    "\n",
    "#\n",
    "\n",
    "# function to print latex\n",
    "def renderListToLatex(e):\n",
    "    latex_rendering = []\n",
    "\n",
    "    for i in range(len(e)):\n",
    "        latex_rendering.append(\"$$\" + sp.latex(e[i]) + \"$$<br/>\")\n",
    "    \n",
    "    return(HTML(\"\".join(latex_rendering[0:])))"
   ]
  },
  {
   "cell_type": "markdown",
   "metadata": {},
   "source": [
    "<i>Note: No notebook for SP12, this was exploratory work outside scientific workplace, and manually counting n-gons</i>\n",
    "\n",
    "### Solving Polynomial Equations (13 / 14)"
   ]
  },
  {
   "cell_type": "markdown",
   "metadata": {},
   "source": [
    "<hr/>\n",
    "\n",
    "<b>Aim</b>: Devise a BiTri Conjecture for Catalan and Fuss-Catalan numbers\n",
    "\n",
    "<hr/>"
   ]
  },
  {
   "cell_type": "markdown",
   "metadata": {},
   "source": [
    "Observe: a defintion of was found in Solving Polynomials (7) that defined a solution to a general cubic equation. can be rewritten\n",
    "\n",
    "\n",
    "$$C(m_2, m_3)  \\equiv(-1)^{m_3 + 1} \\frac{(2 m_{2} + 3 m_{3})!}{(1 + m_{2} + 2 m_{3})!m_2!m_3!} \\frac{c_0^{1 + m_{2} + 2 m_{3}} c_2^{m_2} c_3^{m_3} }{c_1^{2 m_{2} + 3 m_{3} + 1}}$$\n"
   ]
  },
  {
   "cell_type": "markdown",
   "metadata": {},
   "source": [
    "Let $F1$ for a function that implements $C$."
   ]
  },
  {
   "cell_type": "code",
   "execution_count": 3,
   "metadata": {},
   "outputs": [],
   "source": [
    "def F1(m2, m3, returnCoefficientsOnly = False, returnCoefficientsOnlyWithoutSigns = False, returnCoefficientsAsFactorialStrings = False):\n",
    "    c_0, c_1, c_2, c_3 = sp.symbols('c_0, c_1, c_2, c_3')\n",
    "    s1 = (-1)**(m3 + 1)\n",
    "    s2 = sp.factorial(2 * m2 + 3 * m3)\n",
    "    s3 = sp.factorial(1 + m2 + 2 * m3) * sp.factorial(m2) * sp.factorial(m3)\n",
    "\n",
    "    \n",
    "    s4 = c_0**(1 + m2 + 2 * m3) * c_2**m2 *c_3**m3\n",
    "    s5 = c_1**(2 * m2 + 3 * m3 + 1)\n",
    "    \n",
    "    s7 = str(2 * m2 + 3 * m3) + \"!\"\n",
    "    s8 = str(1 + m2 + 2 * m3) + \"!\" + str(m2) + \"!\"  + str(m3) + \"!\"\n",
    "    \n",
    "    if returnCoefficientsOnly:\n",
    "        s6 = s1 * (s2 / s3)\n",
    "    elif returnCoefficientsOnlyWithoutSigns:\n",
    "        s6 = (s2 / s3)\n",
    "    elif returnCoefficientsAsFactorialStrings:\n",
    "        s6 = str(s7 + \" | \" + s8)\n",
    "    else:\n",
    "        s6 = s1 * (s2 / s3) * (s4 / s5)\n",
    "\n",
    "    return(s6)"
   ]
  },
  {
   "cell_type": "markdown",
   "metadata": {},
   "source": [
    "Let $P3$ be a matrix of values retlating the part of the formula that calculates unsigned coefficients: $ \\frac{(2 m_{2} + 3 m_{3})!}{(1 + m_{2} + 2 m_{3})!m_2!m_3!}$ "
   ]
  },
  {
   "cell_type": "code",
   "execution_count": 4,
   "metadata": {},
   "outputs": [
    {
     "data": {
      "text/latex": [
       "$\\displaystyle \\left[\\begin{matrix}1 & 1 & 3 & 12 & 55 & 273 & 1428 & 7752\\\\1 & 5 & 28 & 165 & 1001 & 6188 & 38760 & 245157\\\\2 & 21 & 180 & 1430 & 10920 & 81396 & 596904 & 4326300\\\\5 & 84 & 990 & 10010 & 92820 & 813960 & 6864396 & 56241900\\\\14 & 330 & 5005 & 61880 & 678300 & 6864396 & 65615550 & 600900300\\\\42 & 1287 & 24024 & 352716 & 4476780 & 51482970 & 551170620 & 5588372790\\\\132 & 5005 & 111384 & 1899240 & 27457584 & 354323970 & 4206302100 & 46835886240\\\\429 & 19448 & 503880 & 9806280 & 159352050 & 2283421140 & 29804654880 & 361913666400\\end{matrix}\\right]$"
      ],
      "text/plain": [
       "Matrix([\n",
       "[  1,     1,      3,      12,        55,        273,        1428,         7752],\n",
       "[  1,     5,     28,     165,      1001,       6188,       38760,       245157],\n",
       "[  2,    21,    180,    1430,     10920,      81396,      596904,      4326300],\n",
       "[  5,    84,    990,   10010,     92820,     813960,     6864396,     56241900],\n",
       "[ 14,   330,   5005,   61880,    678300,    6864396,    65615550,    600900300],\n",
       "[ 42,  1287,  24024,  352716,   4476780,   51482970,   551170620,   5588372790],\n",
       "[132,  5005, 111384, 1899240,  27457584,  354323970,  4206302100,  46835886240],\n",
       "[429, 19448, 503880, 9806280, 159352050, 2283421140, 29804654880, 361913666400]])"
      ]
     },
     "execution_count": 4,
     "metadata": {},
     "output_type": "execute_result"
    }
   ],
   "source": [
    "P1 = np.arange(8)\n",
    "P2 = np.array([[F1(j, i, returnCoefficientsOnlyWithoutSigns=True) for i in P1] for j in P1])\n",
    "P3 = sp.Matrix(P2)\n",
    "P3"
   ]
  },
  {
   "cell_type": "markdown",
   "metadata": {},
   "source": [
    "Let $D$ be a formula that returns only the coefficients from $C$:\n",
    "\n",
    "$$D(m, n) \\equiv  \\frac{(2 m + 3 n)!}{(1 + m + 2 n)!m!n!} $$\n",
    "\n"
   ]
  },
  {
   "cell_type": "markdown",
   "metadata": {},
   "source": [
    "Observe: In Solving Polynomials 12 and 13, it was demonstrated that $D$ generates numbers that relate to the number of ways of mapping triangles and quadrilaterals into polygons of different sized polygons. \n",
    "\n",
    "Obseve The numbers genrated from $D$ arise from only considering non-interior vertices (i.e. where a polygon is subdivided into as many different combinations of non overlapping triangles and quadrilaterals,and $D$ returns a number that represents the count of ways).\n",
    "\n",
    "Observe: The formula for $D$ calculates a sub-multinomial coefficient based on $m$ and $n$.\n",
    "\n",
    "Observe: For examples considered in Solving Polynomials (12) it was found that number generated from the formula $\\frac{(2 m + 3 n)!}{(1 + m + 2 n)!m!n!}$ could be related to polygon and triangle subdivisions for n-gons with $(2 + m + 2n)$ sides."
   ]
  },
  {
   "cell_type": "markdown",
   "metadata": {},
   "source": [
    "Let $P4$ be a matrix of vertices (?)"
   ]
  },
  {
   "cell_type": "code",
   "execution_count": 7,
   "metadata": {},
   "outputs": [],
   "source": [
    "# MATRIX OF VALS NEEDED.......2,3,4,5,6, going down (2 + m + 2n)\n",
    "# going up by twos going across...."
   ]
  },
  {
   "cell_type": "markdown",
   "metadata": {},
   "source": [
    "<hr/>\n",
    "<b>Aim</b> Provide a conjecture that can explain the relationship between the numbers returned from C and the sides of an n-gon\n",
    "\n",
    "<hr/>"
   ]
  },
  {
   "cell_type": "markdown",
   "metadata": {},
   "source": [
    "<b>Conjecture:</b> BiTri Numbers\n",
    "\n",
    "The <b>BiTri Number</b> D(m, n) counts the number of diagonal subdivisions of a (2 + m + 2n) sided polygon into $m$ triangles and  $n$ quadrilaterals. \n",
    "\n",
    "D(m, n) can be generated by the formula $$D(m, n) =  \\frac{(2 m + 3 n)!}{(1 + m + 2 n)!m!n!} $$\n",
    "\n",
    "\n",
    "Observe: the choice of name arises due to binary and ternery tree relationships that appear in Catalan and Fuss-Catalan numbers and have prominence in Computer Science. \n"
   ]
  },
  {
   "cell_type": "markdown",
   "metadata": {},
   "source": [
    "\n"
   ]
  },
  {
   "cell_type": "markdown",
   "metadata": {},
   "source": [
    "\n"
   ]
  },
  {
   "cell_type": "markdown",
   "metadata": {},
   "source": [
    "\n",
    "JG - evidence for this....\n",
    "\n",
    "Go back to A002054 - first column of array 1, 5, 21....\n",
    "\n",
    "Look at entries...do any sync up with conjecture\n",
    "\n",
    "Note number of diagonal dissaections of complex n-gon into n regions.... - dissections stuff....look for similiarity....look at 2004 entry, \n",
    "\n",
    "idea here to look for patterns....this discription coincides with our interpretation\n",
    "\n",
    "\n",
    "jg - go through this and have a look through this - this ref tells us that there are interesting things to find....we gradually build up data \n",
    "\n",
    "All of things hinting at this conjecture that might be correct.....\n",
    "\n",
    "\n",
    "Our conjecture is that this relates to subdividing odd sized polygons into certain number of quadrilaterals and 1 triangle (number of quadrialterlas grows)\n",
    "\n",
    "Note less references\n",
    "\n",
    "Note we need to know about tableux and trees..."
   ]
  },
  {
   "cell_type": "code",
   "execution_count": null,
   "metadata": {},
   "outputs": [],
   "source": []
  }
 ],
 "metadata": {
  "kernelspec": {
   "display_name": "Python 3",
   "language": "python",
   "name": "python3"
  },
  "language_info": {
   "codemirror_mode": {
    "name": "ipython",
    "version": 3
   },
   "file_extension": ".py",
   "mimetype": "text/x-python",
   "name": "python",
   "nbconvert_exporter": "python",
   "pygments_lexer": "ipython3",
   "version": "3.9.2"
  }
 },
 "nbformat": 4,
 "nbformat_minor": 4
}
