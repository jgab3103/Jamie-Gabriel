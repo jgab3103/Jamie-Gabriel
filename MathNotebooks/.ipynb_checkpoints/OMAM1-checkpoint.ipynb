{
 "cells": [
  {
   "cell_type": "markdown",
   "id": "26314bc1-a5b3-42e9-b8c3-89f5d2833e55",
   "metadata": {},
   "source": [
    "## Machine Learning with Semantic Inconsistency\n",
    "\n",
    "### Overview \n",
    "\n",
    "It is profoundly human to experience phenoma of the world and map it to mental structures, and ponder about the world and gain advantage and utility. There are of course many ways to think about this biological mechanisms, neorological, and much is not known. There are many beliefs and this is also a process of abstraction. \n",
    "\n",
    "For the purpose of this we could loosely terms as analytics, an activity. Analytics multiple ways to perceive phenomena about the Analysis has multiple fields emerged. Meta analysis Music analysis, literay analysis, fields of sociology, epistomological basis is the same in places. Background, study of literay has fields of thought\n",
    "\n",
    "Other types of analysis - sociology, history, based on ideas, simliar if I make an assumption that all objects in the my perception are edible, notion of truth and correction\n",
    "\n",
    "Music Analysis is a particular interesting as it It is certainly possible categorise things in music and most music analysis does just this. There is a six-four chord, a cadential pattern. Things that tend to happen. It is possible to identify things that are typical of a parituclar style. Using music analytical methods similiar, grouping things. Tendency to group themes in literary analysis. It is highly individualistic. It has limited practical value, similiar to just renaming things, example of schenkarian analysis is a good, little. Study of music. Searching through a large corpus of examples to find the appearance of first voicings. \n",
    "\n",
    "Music though has a pseudo mathematical nature. Ther is a tendency for catetories and coudning It consists predominantly in identifying patterns found in sybolic music analysis. To categorise. There are things that tend to happen. There is such an excess of literatre of the field All of this analysis is mostly concerened with appearance of fairly obvious patterns and do not answer the difficult. \n",
    "\n",
    "One might say then, that music anslysis, is metaphorocial relationship to mathematics. Reimann or helmholtz, hindemigh make it look like Music analysis often masquarades that there is something comp9icatec happening. It does not make sense to say that one can calculate in the music. That there are operations in play. But operations that have any meaning in music. Musical structures can not be seen to be the result of certain operation. IN mathematics for example, the appearance of some object can be attributed to the rules of transormation. \n",
    "\n",
    "This raises a challenging question: how should we understand and analyz the information that arises from  music. How to make sense of this. In figure 1 below, there is clearly some structure in play. For music analysis to mean something and than vaguaries, what does that structure. Ignoring the sonic nature of music, symbolic, numerical pattern certain repetitions, etc. there is a strucutre here, but it is not structure that lends itself to existing analytical methods music would appear to have structure. Listening to Bach, there is some patterns. In Jazz this is predominant as well. \n",
    "\n",
    "I could map this structure to figure 2 (Piano Roll), is there \n",
    "\n",
    "nse to tackle this problem from another angle: what is analysis? This is perhaps too borad, what is that of mathematics and ask the quesion: \n",
    "\n",
    "The first dependency of mathematics is semantic consistency\n",
    "\n",
    "\n",
    "### The promise of mathematics\n",
    "\n",
    "There are other  analysis Mathematics and I will argue that mathematics  is different from other fields as a lens undertake the world. Euclid was doing was mathematics. So is what Lagrange, and Reihmann, and Einstein. The outsiet could be characterised by the above basic definitions. However the fundamental difference\n",
    "\n",
    "What if mathematics was fundamentally different. If each time the number 4 appeared in operation \n",
    "\n",
    "$$ 5 \\times 4 = 24 $$\n",
    "$$ 4 + 7 = 11 $$\n",
    "$$ 4 / 1 = 4 $$\n",
    "\n",
    "\n",
    "It depended on the appearance of each proceeding. But this is what is happening in semnatically consistant. \n",
    "\n",
    "Consider the following thought experiment. What is the $4$ depended on each previous and mutlipe implemntations. This thought experiment seems closer to how the world actually appears\n",
    "\n",
    "This raises some interesting observations and also, rather benign way, takes a particular view of mathematics that can be problematioc\n",
    "\n",
    "C\n",
    "\n",
    "### Can we mathematics that can cope with semantic inconsistency\n",
    "\n"
   ]
  },
  {
   "cell_type": "markdown",
   "id": "bdd728d0-d769-4953-aac0-09d665ad8e63",
   "metadata": {},
   "source": [
    "There are both different ways to approach this and different problems that arise\n",
    "\n",
    "The first is to allow a kind of Bayesian approach. Prior belief is somehing that can be encoded and thjese notes will explore this\n",
    "\n",
    "Another possibility may be that our experience of semantic inconsistency is just semantic consistency. Number Theory based apporach - if we allow the second model, that the meaning of things will change depending on thier computation, moves us further to a notion of physics, simliar to comparison\n",
    "\n",
    "### Mathematics and computaton"
   ]
  },
  {
   "cell_type": "markdown",
   "id": "8d5c85ab-5734-47f5-94c1-8cc19801a247",
   "metadata": {},
   "source": [
    "There is also a very complicated side issue taking place. Architecture. Moving between Computer Science and Mathematics, what can be computed beomes\n",
    "\n",
    "Godel's famous argument"
   ]
  }
 ],
 "metadata": {
  "kernelspec": {
   "display_name": "Python 3",
   "language": "python",
   "name": "python3"
  },
  "language_info": {
   "codemirror_mode": {
    "name": "ipython",
    "version": 3
   },
   "file_extension": ".py",
   "mimetype": "text/x-python",
   "name": "python",
   "nbconvert_exporter": "python",
   "pygments_lexer": "ipython3",
   "version": "3.9.2"
  }
 },
 "nbformat": 4,
 "nbformat_minor": 5
}
