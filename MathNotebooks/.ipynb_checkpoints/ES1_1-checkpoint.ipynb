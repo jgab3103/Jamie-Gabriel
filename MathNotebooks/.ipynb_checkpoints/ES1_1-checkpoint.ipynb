{
 "cells": [
  {
   "cell_type": "markdown",
   "id": "cd785232-2f3d-43dc-94af-0076a1ab2517",
   "metadata": {},
   "source": [
    "<hr/>\n",
    "\n",
    "<b>Notebook Summary</b>\n",
    "\n",
    "The purpose of this notebook is to introduce some basic properties of graphs and provide examples and proofs that demonstrate these properties. It will also introduce the \"mutation game\" which can be used to demonstrate these properties. \n",
    "\n",
    "These notes are based on Prof. Norman Wildberger's lectures on Dynamics on Graphs which can be found <a href=\"https://www.youtube.com/c/WildEggmathematicscourses/featured\">here</a>. Note that the notes for this lecture have been spread ovver two notebooks (ES1_1, ES1_2)\n",
    "    \n",
    "They notes are are being hosted at my website <a href=\"https://www.ladatavita.com/\">ladatavita.com</a> and the Jupyter notebook is also available from my Github repo at: <a href=\"https://github.com/jgab3103/Jamie-Gabriel/tree/main/MathNotebooks\">https://github.com/jgab3103/Jamie-Gabriel/tree/main/MathNotebooks</a>\n",
    "\n",
    "\n",
    "\n",
    "<hr/>"
   ]
  },
  {
   "cell_type": "code",
   "execution_count": 2,
   "id": "8f5dc6a8-8a04-42ed-b738-229121afe4e6",
   "metadata": {},
   "outputs": [],
   "source": [
    "import pyvis.network as nt\n",
    "import numpy as np\n",
    "import sympy as sp\n",
    "from IPython.display import HTML\n",
    "import ipywidgets as widgets\n",
    "import matplotlib as mpl\n",
    "from mpl_toolkits.mplot3d import Axes3D\n",
    "import matplotlib.pyplot as plt\n",
    "mpl.rcParams['legend.fontsize'] = 10\n",
    "import pandas as pd\n",
    "import networkx as nx"
   ]
  },
  {
   "cell_type": "markdown",
   "id": "99926184-222d-4d97-a044-6741f46ba3c7",
   "metadata": {},
   "source": [
    "* A <b>Simple Graph</b> is defined as an unordered list (call this <b>ListA</b> and another list which is not <b>ListA</b> (call this <b>ListB</b>)\n",
    "\n",
    "* <b>List A</b> has the following properties: \n",
    "    - It is list of things (such as $[\\text{thing1, thing2, thing3....}]$). \n",
    "    - Each thing in <b>ListA</b> is not the same as any other thing <b>ListA</b>\n",
    "\n",
    "    \n",
    "* <b>ListB</b> has the following properties: \n",
    "\n",
    "    - Each thing in <b>ListB</b> is a list. \n",
    "    - Each list holds a thing and some other thing is not the same. \n",
    "    - Each thing that is in any of the lists in <i>List B</i> must also be in <i>List A</i>\n",
    "    - Each thing in <b>ListB</b> is not the same as any other thing <b>ListB</b> \n",
    "    \n",
    "  "
   ]
  },
  {
   "cell_type": "markdown",
   "id": "92850c8a-608d-4fab-84d4-9664bb30ab32",
   "metadata": {},
   "source": [
    "* A <b>MultiGraph</b> is defined as an unordered list (call this <b>ListA</b> and another list which is not <b>ListA</b> (call this <b>ListB</b>)\n",
    "\n",
    "* <b>List A</b> has the following properties: \n",
    "    - It is list of things (such as $[\\text{thing1, thing2, thing3....}]$). \n",
    "    - Each thing in <b>ListA</b> is not the same as any other thing <b>ListA</b>\n",
    "\n",
    "    \n",
    "* <b>ListB</b> has the following properties: \n",
    "\n",
    "    - Each thing in <b>ListB</b> is a list. \n",
    "    - Each thing that is in the lists in <b>List B</b> must also be in  <b>List A</b>\n",
    "    - Each list in <b>ListB</b> holds a thing and some other thing that can be the same same thing\n",
    "    - Each thing in <b>ListB</b> can be the same as any other thing <b>ListB</b>\n",
    "\n",
    "\n",
    "* A <b>Function</b> has the following properties: \n",
    "\n",
    "    - denoted $A(B)$ where $A$ is the name of the function and $B$ is a thing. \n",
    "    - A function has a correspondence to some other memoised thing. \n",
    "    - A function simply a lookup table. "
   ]
  },
  {
   "cell_type": "markdown",
   "id": "ed7cec73-ac3a-4bb1-91da-ba101e7e38ba",
   "metadata": {},
   "source": [
    "<b>Let</b> $F1$ be a Simple Graph"
   ]
  },
  {
   "cell_type": "code",
   "execution_count": 15,
   "id": "21480c41-6a50-4136-b657-2d6ae35e55bb",
   "metadata": {},
   "outputs": [],
   "source": [
    "F1 = {'1', '2', '3', '4'}\n",
    "F2 = [('1','2'), \n",
    "     ('2','3'),\n",
    "     ('2','4'),\n",
    "     ('3','4')]\n",
    "\n",
    "F3 = nx.Graph()\n",
    "\n",
    "F3.add_nodes_from(F1)\n",
    "F3.add_edges_from(F2)\n"
   ]
  },
  {
   "cell_type": "markdown",
   "id": "72afbd1d-4510-42c8-ab40-340700fbc74c",
   "metadata": {},
   "source": [
    "<b>Observe</b>: It is not nescessery, but often handy to visualise a graph"
   ]
  },
  {
   "cell_type": "code",
   "execution_count": 17,
   "id": "420e74aa-5b32-4fa9-b693-364d3b4c4be1",
   "metadata": {},
   "outputs": [
    {
     "data": {
      "image/png": "[encoded data removed]",
      "text/plain": [
       "<Figure size 576x288 with 1 Axes>"
      ]
     },
     "metadata": {},
     "output_type": "display_data"
    }
   ],
   "source": [
    "fig, (ax1) =plt.subplots(1, 1, figsize=(8, 4))\n",
    "nx.draw_networkx(F3, ax=ax1, node_color='r')\n"
   ]
  },
  {
   "cell_type": "markdown",
   "id": "0c9fa24e-40d3-44b0-9ab1-43862c89ecc5",
   "metadata": {},
   "source": [
    "<b>Let</b> $F5$ be a MultiGraph."
   ]
  },
  {
   "cell_type": "code",
   "execution_count": 31,
   "id": "082a5e01-bc53-4906-b1ac-207f1fcb2062",
   "metadata": {},
   "outputs": [
    {
     "name": "stdout",
     "output_type": "stream",
     "text": [
      "Edges:  [('3', '2'), ('3', '4'), ('1', '2'), ('1', '1'), ('2', '4'), ('2', '2')]\n",
      "Nodes:  ['3', '1', '2', '4']\n"
     ]
    }
   ],
   "source": [
    "F5 = {'1', '2', '3', '4'}\n",
    "F6 = [('1','2'), \n",
    "     ('2','3'),\n",
    "     ('2','4'),\n",
    "     ('4','2'),\n",
    "     ('3','4'),\n",
    "     ('1', '1'),\n",
    "     ('2', '2')]\n",
    "\n",
    "F7 = nx.Graph()\n",
    "\n",
    "F7.add_nodes_from(F5)\n",
    "F7.add_edges_from(F6)\n",
    "\n",
    "print(\"Edges: \", F7.edges)\n",
    "print(\"Nodes: \", F7.nodes)"
   ]
  },
  {
   "cell_type": "markdown",
   "id": "cab6f80a-b4eb-4ff0-9f19-553536a4f845",
   "metadata": {},
   "source": [
    "<b>Observe</b>: This definition allows that any graph that can be constructed may be different or the same as any other graph. \n",
    "\n",
    "<b>Observe</b>: Simple Graphs can be described using the following categories\n",
    "\n",
    "1. ADE graphs\n",
    "2. ADE~ graphs\n",
    "3. All other simple graphs\n",
    "\n",
    "<b>Observe</b>: Multigraphs can be described using the following categories\n",
    "\n",
    "1. BCFG Graphs\n",
    "2. BCFG~ graphs\n",
    "3. All other directed multigraphs\n",
    "\n",
    "These categories and their implications will be further explained below"
   ]
  },
  {
   "cell_type": "markdown",
   "id": "5699aa8c-4cdd-465a-b019-2389bff34c4f",
   "metadata": {},
   "source": [
    "<b>Observe</b> that standard notation is used to describe graphs\n",
    "\n",
    "<b>Let</b> $X$ be a simple graph with Edges $E$ and Vertices $V$, deonoted $X  = \\{ \\text{ E } \\text{ V } \\} $\n",
    "\n"
   ]
  },
  {
   "cell_type": "code",
   "execution_count": 30,
   "id": "6250bce7-7e62-4c94-9143-a00bdf16c342",
   "metadata": {},
   "outputs": [
    {
     "name": "stdout",
     "output_type": "stream",
     "text": [
      "Edges:  [('x', 'y'), ('w', 'y'), ('w', 'z'), ('z', 'y')]\n",
      "Nodes:  ['x', 'w', 'z', 'y']\n"
     ]
    }
   ],
   "source": [
    "V = {'x', 'y', 'w', 'z'}\n",
    "E = [('x','y'), \n",
    "     ('y','z'),\n",
    "     ('y','w'),\n",
    "     ('w','z')]\n",
    "\n",
    "X = nx.Graph()\n",
    "\n",
    "X.add_nodes_from(V)\n",
    "X.add_edges_from(E)\n",
    "\n",
    "print(\"Edges: \", X.edges)\n",
    "print(\"Nodes: \", X.nodes)"
   ]
  },
  {
   "cell_type": "markdown",
   "id": "614b1430-df9c-409f-9e9b-2fe5a7c37774",
   "metadata": {},
   "source": [
    "<b>Observe</b> that $V$ and $E$ a <b>unordered sets</b> and can be denoted  $V = \\{\\text{ x } \\text{ y } \\text{ z } \\text{ w }\\}$ or  $E = \\{ \\{\\text{ x y }\\} \\{\\text{ y z }\\} \\{\\text{ z w }\\} \\{\\text{ z w }\\}\\}$."
   ]
  },
  {
   "cell_type": "markdown",
   "id": "08504391-18b1-4a05-9a69-d6321c7af78b",
   "metadata": {},
   "source": [
    "<b>Observe that</b> any given vertice in $X$ can be denoted $i$\n",
    "\n",
    "<b>Definition</b>: For any given vertice, $i$, <b>Let</b> $N(i)$ be the unordered set of <b>neighbouring vertices</b>, which is an unordered set of those vertices connected to the $i$ by a single edge, denoted as $N(x) = \\{y\\} $ or  $N(y) = \\{ \\text{x z w}\\} $\n",
    "\n"
   ]
  },
  {
   "cell_type": "markdown",
   "id": "05e6083b-dc5b-44a3-9b1d-9a1518064d96",
   "metadata": {},
   "source": [
    "<b>Definition</b> A <b>vertex population</b> for some vertex on a simple graph is the result of the function on a specific vertex.\n",
    "\n",
    "<b>Let</b> $F15$ be a simple graph where vertices have been given integer labels to denote population."
   ]
  },
  {
   "cell_type": "code",
   "execution_count": 13,
   "id": "c57e7f28-3da2-4cb9-a073-27f2580df984",
   "metadata": {},
   "outputs": [
    {
     "data": {
      "image/png": "[encoded data removed]",
      "text/plain": [
       "<Figure size 576x288 with 1 Axes>"
      ]
     },
     "metadata": {},
     "output_type": "display_data"
    }
   ],
   "source": [
    "F12 = {'4:x', '3:y', '5:w', '-1:z'}\n",
    "F13 = [('4:x','3:y'), \n",
    "     ('3:y','-1:z'),\n",
    "     ('3:y','5:w'),\n",
    "     ('5:w','-1:z')]\n",
    "\n",
    "F14 = nx.Graph()\n",
    "\n",
    "F14.add_nodes_from(F12)\n",
    "F14.add_edges_from(F13)\n",
    "\n",
    "\n",
    "fig, (ax1) =plt.subplots(1, 1, figsize=(8, 4))\n",
    "nx.draw_networkx(F14, ax=ax1, node_color='r')\n"
   ]
  },
  {
   "cell_type": "markdown",
   "id": "454ee648-fe78-45a4-a943-61db136199b3",
   "metadata": {},
   "source": [
    "<b>Observe</b>: It is possible to impose order on vertices arbitrarily and $F15$ can be written as: $\\{\\text{x, y, z, w} \\} $\n",
    "\n",
    "<b>Definition</b>: A <b>Vertex Population</b> is a integer label on any vertice\n",
    "\n",
    "<b>Definition</b>: A <b>Graph Population</b> is an ordered list of populations\n",
    "\n",
    "<b>Observe</b>: The graph population of $F15$, can also be written as an arbitrarily ordered set: $ P = [4, 3, -1, 5] $"
   ]
  },
  {
   "cell_type": "markdown",
   "id": "f06c5baa-7645-4a05-b28f-c04549709bc9",
   "metadata": {},
   "source": [
    "<b>Definition</b>: A <b>Singleton Population</b> is a type of <b>Graph Population</b> where all vertices have a an integer value of 0 except for a single vertice of of 1"
   ]
  },
  {
   "cell_type": "markdown",
   "id": "f3b34eba-1d8e-48b6-8f8f-e32bf9650bcf",
   "metadata": {},
   "source": [
    "<b>Let</b> $F18$ be an example of a singleton population, which  an be arbitrarily ordered by the list $[\\text{0, 0, 0, 1}]$"
   ]
  },
  {
   "cell_type": "code",
   "execution_count": 46,
   "id": "b69502ee-6d78-4019-8061-a53cef758200",
   "metadata": {
    "tags": []
   },
   "outputs": [
    {
     "data": {
      "image/png": "[encoded data removed]",
      "text/plain": [
       "<Figure size 576x288 with 1 Axes>"
      ]
     },
     "metadata": {},
     "output_type": "display_data"
    }
   ],
   "source": [
    "F16 = {'0:x', '0:y', '1:w', '0:z'}\n",
    "F17 = [('0:x','0:y'), \n",
    "     ('0:y','0:z'),\n",
    "     ('0:y','1:w'),\n",
    "     ('1:w','0:z')]\n",
    "\n",
    "F18 = nx.Graph()\n",
    "\n",
    "F18.add_nodes_from(F16)\n",
    "F18.add_edges_from(F17)\n",
    "\n",
    "fig, (ax1) =plt.subplots(1, 1, figsize=(8, 4))\n",
    "nx.draw_networkx(F18, ax=ax1, node_color='r')"
   ]
  },
  {
   "cell_type": "markdown",
   "id": "15b14bc5-86d6-44ff-8f09-01102467a453",
   "metadata": {},
   "source": [
    "<b>Observe</b> that there are 4 possible singleton populations in $F18$: \n",
    "$$[\\text{0, 0, 0, 1}], [\\text{0, 0, 1, 0}], [\\text{0, 1, 0, 0}], [\\text{1, 0, 0, 0}]$$"
   ]
  },
  {
   "cell_type": "markdown",
   "id": "7faf7b8b-824e-4ac3-9fdd-6a92b91b3d78",
   "metadata": {},
   "source": [
    "<b>Definition</b>: The <b>Population Space</b>, which will be denoted $P(X)$ is a linear space of all possible graph populations on a given graph. \n",
    "\n",
    "<b>Observe</b> that it is possible to apply functions to the <b>Population Space</b>. Intuitively, this means that a <b>Graph Population</b> can be treated as a vector and the vector functions of addition, subtraction and multiplication can be used to create different <b>Graph Populations</b>\n"
   ]
  },
  {
   "cell_type": "markdown",
   "id": "a1a559dd-1ba1-4abb-beab-f7261727828a",
   "metadata": {},
   "source": [
    "<hr/>\n",
    "\n",
    "<b>Aim</b>: Introduce the notion of a mutation\n",
    "\n",
    "<hr/>"
   ]
  },
  {
   "cell_type": "markdown",
   "id": "fd92f9b3-e3d6-4f0c-926b-1363b7139d11",
   "metadata": {},
   "source": [
    "<b>Observe</b> that is change a graph by applying arbitrary state change. One possible set arbitrary state change will be denoted as the <b>Mutation Game</b>. \n",
    "\n",
    "<b>Defintion</b>: A <b>mutation</b> is a change of any <b>vertex population</b>. This change will result in different graph population\n",
    "\n",
    "<b>Definition</b>: If $x$ is a alphabetic vertex label of some simple graph $X$, then $S_x$ is defined as a function that will allow the mutation of $x$. This function will change both the vertex population of $x$ and the which will also change the graph population of $X$."
   ]
  },
  {
   "cell_type": "markdown",
   "id": "18983799-21fd-443b-a1ae-cae60d995e16",
   "metadata": {},
   "source": [
    "<b>Observe</b>: that the <b>Mutation Game</b> uses the following rules to change <b>Vertex Populations</b> and <b>Graph Populations</b>\n",
    "\n",
    "\n",
    "$$ ps_x(y) \\equiv  \n",
    "\\begin{cases}\n",
    "    -p(x) + \\Sigma_{z \\in N(x)} \\text{ }  p(z) & \\text{if y = x}\\\\\n",
    "    p(y) & \\text{if y $\\ne$ x}\n",
    "\\end{cases}\n",
    "$$\n",
    "    \n",
    "    \n",
    "\n"
   ]
  },
  {
   "cell_type": "markdown",
   "id": "c5337dd5-56aa-471d-8d22-7706ed845f06",
   "metadata": {},
   "source": [
    "where: \n",
    "- $x$ is the numeric label of some vertice\n",
    "- \n",
    "- p is a population \n",
    "- asdfa\n",
    "- P(X) is the space of populations on a simple graph X \n",
    "- $N(x)$ is the neighbouring vertices of x\n",
    "- then the population function, ps_x on some population y can be described as"
   ]
  },
  {
   "cell_type": "markdown",
   "id": "93cf9b53-0057-46c3-a4e1-ec089fdca8eb",
   "metadata": {},
   "source": [
    "<b>Let</b> F20 be a implementation of the population function $ps_x(y)$ for the case when $y=x$ (in the case where $y \\ne x$, there is no population change)."
   ]
  },
  {
   "cell_type": "code",
   "execution_count": 49,
   "id": "6e993278-7213-491a-a190-3116de6ff2b9",
   "metadata": {},
   "outputs": [],
   "source": [
    "def F20(graph, nodeChoice, printSummary = True, returnUpdatedGraph = True):\n",
    "   \n",
    "    edgesOfChosenNode = list(nx.edges(graph, [nodeChoice]))\n",
    "   \n",
    "    neigborOfChosenNode = [edgesOfChosenNode[i][1] for i in range(len(list(edgesOfChosenNode)))]\n",
    "    nodeChoicePopulation = graph.nodes[nodeChoice]['population']\n",
    "    sumOfNeighborsOfChosenNode = np.sum([graph.nodes[i]['population'] for i in neigborOfChosenNode])\n",
    "    populationOfNode = -nodeChoicePopulation + sumOfNeighborsOfChosenNode\n",
    "    updatedGraph = graph.copy()\n",
    "    updatedGraph.nodes[nodeChoice]['population'] = populationOfNode\n",
    "\n",
    "    newPopulations = [updatedGraph.nodes[i]['population'] for i in list(updatedGraph)]\n",
    "    if printSummary:\n",
    "        print(\"Node choice\", \n",
    "              nodeChoice,\n",
    "              \"\\nNode details\",\n",
    "              nx.nodes(graph)[nodeChoice],\n",
    "              \"\\nChange in node population \",\n",
    "              nx.nodes(graph)[nodeChoice]['population'], \n",
    "              \"->\", \n",
    "              populationOfNode)\n",
    "        print(\"Updated node populations of graph: \", newPopulations, \"\\n\")\n",
    "\n",
    "    \n",
    "\n",
    "    return(updatedGraph)"
   ]
  },
  {
   "cell_type": "markdown",
   "id": "ea2cfc44-d7a7-4cae-9870-9a5e09531b20",
   "metadata": {},
   "source": [
    "<b>Observe</b>: If $F23$ is a simple graph, each node can be mutated using the the population function $ps_x$, implemented in $F20$. This will result in new vertex populations for each node $x, y, z$ and $w$"
   ]
  },
  {
   "cell_type": "code",
   "execution_count": 50,
   "id": "b12e378e-ce6a-4687-b031-ea278bcf25d8",
   "metadata": {},
   "outputs": [
    {
     "data": {
      "image/png": "[encoded data removed]",
      "text/plain": [
       "<Figure size 576x288 with 1 Axes>"
      ]
     },
     "metadata": {},
     "output_type": "display_data"
    }
   ],
   "source": [
    "F21 = [\n",
    "    (\"x\", {\"population\": 0}),\n",
    "    (\"y\", {\"population\": 1}),\n",
    "    (\"z\", {\"population\": 0}),\n",
    "    (\"w\", {\"population\": 0})]\n",
    "\n",
    "F22 = [(\"x\",\"y\"),\n",
    "      (\"y\",\"z\"),\n",
    "      (\"y\",\"w\"),\n",
    "      (\"w\",\"z\")]\n",
    "\n",
    "F23 = nx.Graph()\n",
    "\n",
    "F23.add_nodes_from(F21)\n",
    "F23.add_edges_from(F22)\n",
    "\n",
    "fig, (ax1) =plt.subplots(1, 1, figsize=(8, 4))\n",
    "nx.draw_networkx(F23, ax=ax1, node_color='r')"
   ]
  },
  {
   "cell_type": "markdown",
   "id": "2e38026c-ecdb-47bc-9b00-7c361c6b45af",
   "metadata": {},
   "source": [
    "<b>Observe</b>: The mutation function $F20$ can be applied at each vertice."
   ]
  },
  {
   "cell_type": "code",
   "execution_count": 48,
   "id": "67add0bd-855d-49e8-a1c1-85fa793bb4f8",
   "metadata": {},
   "outputs": [
    {
     "name": "stdout",
     "output_type": "stream",
     "text": [
      "Node choice x \n",
      "Node details {'population': 0} \n",
      "Change in node population  0 -> 1\n",
      "Updated node populations of graph:  [1, 1, 0, 0] \n",
      "\n",
      "Node choice y \n",
      "Node details {'population': 1} \n",
      "Change in node population  1 -> -1\n",
      "Updated node populations of graph:  [0, -1, 0, 0] \n",
      "\n",
      "Node choice z \n",
      "Node details {'population': 0} \n",
      "Change in node population  0 -> 1\n",
      "Updated node populations of graph:  [0, 1, 1, 0] \n",
      "\n",
      "Node choice w \n",
      "Node details {'population': 0} \n",
      "Change in node population  0 -> 1\n",
      "Updated node populations of graph:  [0, 1, 0, 1] \n",
      "\n"
     ]
    },
    {
     "data": {
      "text/plain": [
       "<networkx.classes.graph.Graph at 0x7fcf1d12bc40>"
      ]
     },
     "execution_count": 48,
     "metadata": {},
     "output_type": "execute_result"
    }
   ],
   "source": [
    "F20(F23, \"x\", returnUpdatedGraph=False)\n",
    "F20(F23, \"y\", returnUpdatedGraph=False)\n",
    "F20(F23, \"z\", returnUpdatedGraph=False)\n",
    "F20(F23, \"w\", returnUpdatedGraph=False)"
   ]
  },
  {
   "cell_type": "markdown",
   "id": "621e40ea-cb54-4a69-b1fa-ccfcd694b53a",
   "metadata": {},
   "source": [
    "<hr/>\n",
    "<b>Aim</b>: Demonstrate the properties of the mutation function on simple graphs\n",
    "<hr/>"
   ]
  },
  {
   "cell_type": "markdown",
   "id": "dc972a56-02f8-48b8-a834-f1c4e3bb273d",
   "metadata": {},
   "source": [
    "<b>Observe</b>: the population function , $ps_x$ has the following properties:  \n",
    "\n",
    "1. If $p$ and $q$ are populations, $P(X)$ is a space of populations, and $p, q \\in P(X)$, then $(p + q)s_x = ps_x + qs_x$ so it is a linear operator and can be applied pointwise and if $n \\in \\text{Int}$, then $(np)s_x = n(ps_x)$\n",
    "\n",
    "2. $s_x^2 \\equiv \\text{Identity}$. Performing the same mutation in succession will produce the original graph population.\n",
    "\n",
    "3. If $x$ and $y$ are non-neighboring vertices, then the $S_xS_y \\equiv S_yS_x$, meaning they are commutative\n",
    "\n",
    "\n",
    "<b>Observe</b>: A consequence of property $3$, it is the case that: \n",
    "\n",
    "$$ (pS_x)S_y = p(S_xS_y) \\equiv (pS_y)S_x = p(S_yS_x) $$\n",
    "\n",
    "\n",
    "Note that the mutation functino, $S_i$ is, by convention, written on the rhs of the populations it is are acting on. This means that\n",
    "However in general they do not have to \n",
    "\n",
    "4. (The braid relation) If $x$ and $y$ are neighbors, then: \n",
    "\n",
    "\n",
    "\n",
    "$$ S_x S_y S_x = S_y S_x S_y $$\n",
    "\n",
    "<b>Observe</b>: It can be shows that the relation $(S_xS_y)^3 = \\text{identity}$\n",
    "\n",
    "<b>Observe</b>: The first property can be tested using 2 graphs with different populations using the following example. \n"
   ]
  },
  {
   "cell_type": "markdown",
   "id": "68dcda39-defe-42bb-aece-82b6bc3ffbc6",
   "metadata": {},
   "source": [
    "<b>Let</b>: $F27$ and $F30$ be graphs with given populations and recall that a graph population can be denoted as an ordered set of integers."
   ]
  },
  {
   "cell_type": "code",
   "execution_count": 12,
   "id": "47c69b13-08bd-4734-aeef-9710f5ed7a4a",
   "metadata": {},
   "outputs": [
    {
     "name": "stdout",
     "output_type": "stream",
     "text": [
      "F27 graph population:  [4, 3, -1, 5]\n",
      "F30 graph population:  [2, 4, 6, -4]\n"
     ]
    }
   ],
   "source": [
    "F25 = [\n",
    "    (\"x\", {\"population\": 4}),\n",
    "    (\"y\", {\"population\": 3}),\n",
    "    (\"z\", {\"population\": -1}),\n",
    "    (\"w\", {\"population\": 5})]\n",
    "\n",
    "F26 = [(\"x\",\"y\"),\n",
    "      (\"y\",\"z\"),\n",
    "      (\"y\",\"w\"),\n",
    "      (\"w\",\"z\")]\n",
    "\n",
    "F27 = nx.Graph()\n",
    "\n",
    "F27.add_nodes_from(F25)\n",
    "F27.add_edges_from(F26)\n",
    "\n",
    "\n",
    "F28 = [\n",
    "    (\"x\", {\"population\": 2}),\n",
    "    (\"y\", {\"population\": 4}),\n",
    "    (\"z\", {\"population\": 6}),\n",
    "    (\"w\", {\"population\": -4})]\n",
    "\n",
    "F29 = [(\"x\",\"y\"),\n",
    "      (\"y\",\"z\"),\n",
    "      (\"y\",\"w\"),\n",
    "      (\"w\",\"z\")]\n",
    "\n",
    "F30 = nx.Graph()\n",
    "\n",
    "F30.add_nodes_from(F28)\n",
    "F30.add_edges_from(F29)\n",
    "\n",
    "\n",
    "\n",
    "print(\"F27 graph population: \", [F27.nodes[i]['population'] for i in F27])\n",
    "print(\"F30 graph population: \", [F30.nodes[i]['population'] for i in F30])"
   ]
  },
  {
   "cell_type": "markdown",
   "id": "2bc3ac98-af0f-4f82-90e6-b3c774a2a8c4",
   "metadata": {},
   "source": [
    "<b>Let</b> $F31$ be the addition of graph populations fo the $F27$ and $F30$"
   ]
  },
  {
   "cell_type": "code",
   "execution_count": 13,
   "id": "e609458f-9d92-4f7b-987d-1030229f8b74",
   "metadata": {},
   "outputs": [
    {
     "data": {
      "text/plain": [
       "array([6, 7, 5, 1])"
      ]
     },
     "execution_count": 13,
     "metadata": {},
     "output_type": "execute_result"
    }
   ],
   "source": [
    "F31 = np.array([F27.nodes[i]['population'] for i in F27]) + np.array([F30.nodes[i]['population'] for i in F30])\n",
    "F31"
   ]
  },
  {
   "cell_type": "markdown",
   "id": "2aad743e-1103-4bec-8458-ed99d16fd9e0",
   "metadata": {},
   "source": [
    "<b>Let</b> $F34$ be the a graph population created from $F31$, being the addition of $F27$ and $F30$"
   ]
  },
  {
   "cell_type": "code",
   "execution_count": 14,
   "id": "1d8a8f3c-319e-43a8-ae4e-8e72c3e9176b",
   "metadata": {},
   "outputs": [],
   "source": [
    "F32 = [\n",
    "    (\"x\", {\"population\": 6}),\n",
    "    (\"y\", {\"population\": 7}),\n",
    "    (\"z\", {\"population\": 5}),\n",
    "    (\"w\", {\"population\": 1})]\n",
    "\n",
    "F33 = [(\"x\",\"y\"),\n",
    "      (\"y\",\"z\"),\n",
    "      (\"y\",\"w\"),\n",
    "      (\"w\",\"z\")]\n",
    "\n",
    "F34 = nx.Graph()\n",
    "\n",
    "F34.add_nodes_from(F32)\n",
    "F34.add_edges_from(F33)\n",
    "\n"
   ]
  },
  {
   "cell_type": "markdown",
   "id": "8cf8be1d-4061-444f-bed8-b9758e43daed",
   "metadata": {},
   "source": [
    "<b>Let</b> $F35$ be the addtion of populations of $F27$ and $F30$ after applying the mutation on $x$"
   ]
  },
  {
   "cell_type": "code",
   "execution_count": 15,
   "id": "45b8b153-14b3-4efc-bbbc-c520ca6d3697",
   "metadata": {},
   "outputs": [
    {
     "name": "stdout",
     "output_type": "stream",
     "text": [
      "Node choice x \n",
      "Node details {'population': 4} \n",
      "Change in node population  4 -> -1\n",
      "Updated node populations of graph:  [-1, 3, -1, 5] \n",
      "\n",
      "Node choice x \n",
      "Node details {'population': 2} \n",
      "Change in node population  2 -> 2\n",
      "Updated node populations of graph:  [2, 4, 6, -4] \n",
      "\n"
     ]
    },
    {
     "data": {
      "text/plain": [
       "array([1, 7, 5, 1])"
      ]
     },
     "execution_count": 15,
     "metadata": {},
     "output_type": "execute_result"
    }
   ],
   "source": [
    "F35 = F20(F27, \"x\")\n",
    "F36 = F20(F30, \"x\")\n",
    "F37 = np.array([F35.nodes[i]['population'] for i in F35]) + np.array([F36.nodes[i]['population'] for i in F36])\n",
    "F37"
   ]
  },
  {
   "cell_type": "markdown",
   "id": "dcb4b407-a23f-4008-b6f9-2c9f9b58db35",
   "metadata": {},
   "source": [
    "<b>Let</b> $F38$ be mutation of $F34$ on the vertice $x$"
   ]
  },
  {
   "cell_type": "code",
   "execution_count": 16,
   "id": "ad33515b-c257-4551-add5-6c11c65d4428",
   "metadata": {},
   "outputs": [
    {
     "name": "stdout",
     "output_type": "stream",
     "text": [
      "Node choice x \n",
      "Node details {'population': 6} \n",
      "Change in node population  6 -> 1\n",
      "Updated node populations of graph:  [1, 7, 5, 1] \n",
      "\n"
     ]
    }
   ],
   "source": [
    "F38 = F20(F34, \"x\")"
   ]
  },
  {
   "cell_type": "markdown",
   "id": "68f65c44-da50-4ce7-adb2-a236229cb546",
   "metadata": {},
   "source": [
    "<b>Observe</b> that as $F37 = F38$ this property is satisfied for this example.\n",
    "\n",
    "<b>Observe</b>: It is also possible to show this algebraically. \n",
    "\n",
    "<b>Let</b>: Let $a, b, c, d, e, f, g, h$ be unknown types"
   ]
  },
  {
   "cell_type": "code",
   "execution_count": 17,
   "id": "52a30c30-2fbf-410c-8b53-6b3744b10ddb",
   "metadata": {},
   "outputs": [],
   "source": [
    "a, b, c, d, e, f, g, h = sp.symbols('a, b, c, d, e, f, g, h')"
   ]
  },
  {
   "cell_type": "markdown",
   "id": "4f4535b8-090f-478a-9e84-f47b0a78c0d4",
   "metadata": {},
   "source": [
    "<b>Let</b>: $F41$ and $F44$ be graphs with given populations created from unknown types. "
   ]
  },
  {
   "cell_type": "code",
   "execution_count": 18,
   "id": "a5d3a988-4408-4b1c-82a2-1ea247808609",
   "metadata": {},
   "outputs": [
    {
     "name": "stdout",
     "output_type": "stream",
     "text": [
      "F41 graph population:  [a, b, c, d]\n",
      "F44 graph population:  [e, f, g, h]\n"
     ]
    }
   ],
   "source": [
    "F39 = [\n",
    "    (\"x\", {\"population\": a}),\n",
    "    (\"y\", {\"population\": b}),\n",
    "    (\"z\", {\"population\": c}),\n",
    "    (\"w\", {\"population\": d})]\n",
    "\n",
    "F40 = [(\"x\",\"y\"),\n",
    "      (\"y\",\"z\"),\n",
    "      (\"y\",\"w\"),\n",
    "      (\"w\",\"z\")]\n",
    "\n",
    "F41 = nx.Graph()\n",
    "\n",
    "F41.add_nodes_from(F39)\n",
    "F41.add_edges_from(F40)\n",
    "\n",
    "\n",
    "F42 = [\n",
    "    (\"x\", {\"population\": e}),\n",
    "    (\"y\", {\"population\": f}),\n",
    "    (\"z\", {\"population\": g}),\n",
    "    (\"w\", {\"population\": h})]\n",
    "\n",
    "F43 = [(\"x\",\"y\"),\n",
    "      (\"y\",\"z\"),\n",
    "      (\"y\",\"w\"),\n",
    "      (\"w\",\"z\")]\n",
    "\n",
    "F44 = nx.Graph()\n",
    "\n",
    "F44.add_nodes_from(F42)\n",
    "F44.add_edges_from(F33)\n",
    "\n",
    "\n",
    "print(\"F41 graph population: \", [F41.nodes[i]['population'] for i in F41])\n",
    "print(\"F44 graph population: \", [F44.nodes[i]['population'] for i in F44])"
   ]
  },
  {
   "cell_type": "markdown",
   "id": "8af9fb25-78aa-4d8f-b642-f29db8180d03",
   "metadata": {},
   "source": [
    "<b>Let</b> $F45$ be the addition of graph populations fo the $F41$ and $F44$"
   ]
  },
  {
   "cell_type": "code",
   "execution_count": 19,
   "id": "aa8cf78a-3f52-48b5-bc01-d3dd4a7c344e",
   "metadata": {},
   "outputs": [
    {
     "data": {
      "text/plain": [
       "array([a + e, b + f, c + g, d + h], dtype=object)"
      ]
     },
     "execution_count": 19,
     "metadata": {},
     "output_type": "execute_result"
    }
   ],
   "source": [
    "F45 = np.array([F41.nodes[i]['population'] for i in F41]) + np.array([F44.nodes[i]['population'] for i in F44])\n",
    "F45"
   ]
  },
  {
   "cell_type": "markdown",
   "id": "30f8bd55-ad9d-41c4-8c40-8f4d86c3fff2",
   "metadata": {},
   "source": [
    "<b>Let</b> $F48$ be the a graph population created from $F31$, being the addition of $41$ and $F44$"
   ]
  },
  {
   "cell_type": "code",
   "execution_count": 20,
   "id": "8a584124-8d70-49dd-8b0e-98f00e8bc693",
   "metadata": {},
   "outputs": [],
   "source": [
    "F46 = [\n",
    "    (\"x\", {\"population\": a + e,}),\n",
    "    (\"y\", {\"population\": b + f}),\n",
    "    (\"z\", {\"population\": c + g}),\n",
    "    (\"w\", {\"population\": d + h})]\n",
    "\n",
    "F47 = [(\"x\",\"y\"),\n",
    "      (\"y\",\"z\"),\n",
    "      (\"y\",\"w\"),\n",
    "      (\"w\",\"z\")]\n",
    "\n",
    "F48 = nx.Graph()\n",
    "\n",
    "F48.add_nodes_from(F46)\n",
    "F48.add_edges_from(F47)"
   ]
  },
  {
   "cell_type": "markdown",
   "id": "bb102e24-d853-4eaf-8a7a-06a451c4c2da",
   "metadata": {},
   "source": [
    "<b>Let</b> $F51$ be the updated populations of $F27$ and $F30$ after applying the mutation on $x$"
   ]
  },
  {
   "cell_type": "code",
   "execution_count": 21,
   "id": "1ba0ab6f-4c56-443c-85c3-4a49cbf2daa4",
   "metadata": {},
   "outputs": [
    {
     "name": "stdout",
     "output_type": "stream",
     "text": [
      "Node choice x \n",
      "Node details {'population': a} \n",
      "Change in node population  a -> -a + b\n",
      "Updated node populations of graph:  [-a + b, b, c, d] \n",
      "\n",
      "Node choice x \n",
      "Node details {'population': e} \n",
      "Change in node population  e -> -e + f\n",
      "Updated node populations of graph:  [-e + f, f, g, h] \n",
      "\n"
     ]
    },
    {
     "data": {
      "text/plain": [
       "array([-a + b - e + f, b + f, c + g, d + h], dtype=object)"
      ]
     },
     "execution_count": 21,
     "metadata": {},
     "output_type": "execute_result"
    }
   ],
   "source": [
    "F49 = F20(F41, \"x\")\n",
    "F50 = F20(F44, \"x\")\n",
    "F51 = np.array([F49.nodes[i]['population'] for i in F49]) + np.array([F50.nodes[i]['population'] for i in F50])\n",
    "F51"
   ]
  },
  {
   "cell_type": "markdown",
   "id": "cf7f68a6-f10a-429b-afa5-472571d7e022",
   "metadata": {},
   "source": [
    "<b>Let</b> $F52$ be mutation of $F48$ on the vertice $x$"
   ]
  },
  {
   "cell_type": "code",
   "execution_count": 22,
   "id": "7ed8db1b-c408-4053-afd8-827be5dc0269",
   "metadata": {},
   "outputs": [
    {
     "name": "stdout",
     "output_type": "stream",
     "text": [
      "Node choice x \n",
      "Node details {'population': a + e} \n",
      "Change in node population  a + e -> -a + b - e + f\n",
      "Updated node populations of graph:  [-a + b - e + f, b + f, c + g, d + h] \n",
      "\n"
     ]
    }
   ],
   "source": [
    "F52 = F20(F48, \"x\")"
   ]
  },
  {
   "cell_type": "markdown",
   "id": "dd70b028-ed3e-4611-904d-3c7bee4feea8",
   "metadata": {},
   "source": [
    "<b>Observe</b> that as $F51 = F52$ so this property can be satisfied algebraically.\n",
    "\n"
   ]
  },
  {
   "cell_type": "code",
   "execution_count": null,
   "id": "fae99d1e-8bf3-4f4e-b84c-a3da75dc3adf",
   "metadata": {},
   "outputs": [],
   "source": []
  }
 ],
 "metadata": {
  "kernelspec": {
   "display_name": "Python 3",
   "language": "python",
   "name": "python3"
  },
  "language_info": {
   "codemirror_mode": {
    "name": "ipython",
    "version": 3
   },
   "file_extension": ".py",
   "mimetype": "text/x-python",
   "name": "python",
   "nbconvert_exporter": "python",
   "pygments_lexer": "ipython3",
   "version": "3.9.2"
  }
 },
 "nbformat": 4,
 "nbformat_minor": 5
}
