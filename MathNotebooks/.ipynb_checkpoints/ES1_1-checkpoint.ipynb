{
 "cells": [
  {
   "cell_type": "markdown",
   "id": "cd785232-2f3d-43dc-94af-0076a1ab2517",
   "metadata": {},
   "source": [
    "<hr/>\n",
    "\n",
    "<b>Notebook Summary</b>\n",
    "\n",
    "The purpose of this notebook is to introduce some basic properties of graphs and provide examples and proofs that demonstrate these properties. It will also introduce the \"mutation game\" which can be used to demonstrate these properties. \n",
    "\n",
    "These notes are based on Prof. Norman Wildberger's lectures on Dynamics on Graphs which can be found <a href=\"https://www.youtube.com/c/WildEggmathematicscourses/featured\">here</a>. Note that the notes for this lecture have been spread ovver two notebooks (ES1_1, ES1_2)\n",
    "    \n",
    "They notes are are being hosted at my website <a href=\"https://www.ladatavita.com/\">ladatavita.com</a> and the Jupyter notebook is also available from my Github repo at: <a href=\"https://github.com/jgab3103/Jamie-Gabriel/tree/main/MathNotebooks\">https://github.com/jgab3103/Jamie-Gabriel/tree/main/MathNotebooks</a>\n",
    "\n",
    "\n",
    "\n",
    "<hr/>"
   ]
  },
  {
   "cell_type": "code",
   "execution_count": 1,
   "id": "8f5dc6a8-8a04-42ed-b738-229121afe4e6",
   "metadata": {},
   "outputs": [],
   "source": [
    "import pyvis.network as nt\n",
    "import numpy as np\n",
    "import sympy as sp\n",
    "from IPython.display import HTML\n",
    "import ipywidgets as widgets\n",
    "import matplotlib as mpl\n",
    "from mpl_toolkits.mplot3d import Axes3D\n",
    "import matplotlib.pyplot as plt\n",
    "mpl.rcParams['legend.fontsize'] = 10\n",
    "import pandas as pd\n",
    "import networkx as nx"
   ]
  },
  {
   "cell_type": "markdown",
   "id": "4ee7951f-8102-40d6-9174-d1cdd47040f4",
   "metadata": {},
   "source": [
    "#### 1\n",
    "\n",
    "The purpose of these notes to capture preliminary notes regarding the nature of graphs. But why graphs? Because a graph is a vitally important structure, wikth a rich and foundational ontological structure and deep implications. Its sheer generality allows for far reaching investigation across multiple fields. Graphs appear everywhere: mathematics, chemistry, physics, both integrating and undermining the deepest truths of these disciplines. \n",
    "\n",
    "The structure of these notes that follow aim to provide on overview of graphs, but loosely following Normal Wildberger's work on graphs, and placing them in a philisophical framework. These notes are a kind of commentary and preliminary, and some of the philisophical rigour will be put off for a more formal write up. \n",
    "\n",
    "Many of the foundational ideas to be explored in these notes come from Wildberger's seminal paper: <i>The Mutation Game, Coxeter–Dynkin Graphs, and Generalized Root Systems</i>, Normal Wildberger, March 2020. This is a difficult read, and I would suggest that not to spend too much time on this paper (not yet at least) until I have laid some foundations. It should start to make sense in the end. \n"
   ]
  },
  {
   "cell_type": "markdown",
   "id": "4935f56a-a317-4aba-a7dc-d5781eca6ddc",
   "metadata": {},
   "source": [
    "#### 2 \n",
    "\n",
    "So let's begin with a definition. What is a graph?\n",
    "\n",
    "\n",
    "* A <b>Graph</b> is defined as an unordered list (let's call the list <b>ListA</b> noting it does not matter what we call it) and another list which is not <b>ListA</b> (let's call that one <b>ListB</b>)\n",
    "\n",
    "* <b>List A</b> has the following properties: \n",
    "    - It is list of things (such as $[\\text{thing1, thing2, thing3....}]$). \n",
    "    - Each thing in <b>ListA</b> is not the same as any other thing <b>ListA</b> \n",
    "\n",
    "    "
   ]
  },
  {
   "cell_type": "markdown",
   "id": "88e8da31-6f73-4d78-b4da-73e62fa7d274",
   "metadata": {},
   "source": [
    "* <b>ListB</b> has the following properties: \n",
    "\n",
    "    - Each thing in <b>ListB</b> is a list. \n",
    "    - Each list holds a thing and some other thing is not the same. \n",
    "    - Each thing that is in the lists in <i>List B</i> must also be in  <i>List A</i>\n",
    "\n",
    "Admittedly, this definition feels convoluted. The definitions is difficult arising because I am trying to avoid things thing like the concept of 2 and the like, sequential (like there is this thing and then there is another thing). This turns out to matter later on. As a simpler, guiding information intuiation, it is ok to say that a Graph is two lists, one tracking some things, the other tracking relationships between things, like this:  \n",
    "\n",
    "- <b>ListA</b> = $[\\text{thing1, thing2, thing3...}]$, \n",
    "- <b>ListB</b> = $[\\text{[thing1, thing2], [thing1, thing3], [thing2, thing3]...}]$. \n",
    "\n",
    "For an intuition, this is fine, and I would advise to keep the simpler conception in mind. But there are some reasons for choosing this definition which I will return to later. \n"
   ]
  },
  {
   "cell_type": "markdown",
   "id": "743a3e93-571f-422d-82cf-30b1590c8fd4",
   "metadata": {},
   "source": [
    "#### 3\n",
    "\n",
    "So this definition (or at least its accompanying intuition) seems simple. So simple that I might be tempted to ask a silly question such as, how big can <b>ListA</b> or <b>ListB</b>? But of course, that does not really matter (for what does big mean?). It may be worth noting that if things keep getting added to <b>ListA</b> or <b>ListB</b>, it might become become impossible to add more things. So you should not think of <b>ListA</b> as infinite (and you have no concept of what that means anyway). If you know a little about computers, a guiding intuition that you might find helpful is, if you keep on trying to put things into <i>List A</i>, you might run out of storage.\n",
    "\n",
    "Note also that this definiton describes a very general structure. It is certainly not completely general. It assumes a list, it assumes state change, it does not assume to understand what a thing is but assumes differentiation. But beyond that, there is no notion of length, no geometry,distance. \n",
    "\n",
    "\n",
    "\n",
    "What I particular like about this definition is state and storage. As much as possible, would be nice to allow for naming state and memory, I am goint to try. Might think of this is a Descartes definition. Decartes regito cos all he needed to say was I\n",
    "\n",
    "interesting thing here is that only names things "
   ]
  },
  {
   "cell_type": "markdown",
   "id": "99926184-222d-4d97-a044-6741f46ba3c7",
   "metadata": {},
   "source": [
    "#### 4\n",
    "\n",
    "Now what can I do with this structure to pass the time? How about a game? \n",
    "\n",
    "The game I will play is called the <b>Mutation Game</b>. To play it I don't need to introduce any further definitions, but I will need to provide some more names so we can play this game without getting confused. We will need to use the world of mathematics, where definition of things.  So first, let's call each thing in <b>ListA</b> a <b>Node</b>. And second, let's call each thing in <b>ListB</b> an <b>Edge</b> \n",
    "\n",
    "Note that the definition imples certain thing\n",
    "\n",
    "- it has undirected edges\n",
    "- it has no multiple edges (i.e. only one edge is allowed to connect to a given vertice). \n",
    "- it has no loops (i.e. a node cannot be connected to itself through an edge). \n",
    "\n",
    "At another time, we will revisit this definition and some of these qualities of the graph may change"
   ]
  },
  {
   "cell_type": "markdown",
   "id": "016d9d55-421b-4269-baea-6af29a7ac617",
   "metadata": {},
   "source": [
    "Let's start by looking at something. Recall that <i>List A</i> and <i>List B</i>. Generally when I am naming mathematical objects, that will be used by my computer, can be called created from the set of verticies $F1$ and the set of edges $F2$. note that the numbers here mean nothing. They could by any symbols at all. F1 has things. F2 has a list of things that have are in F1 and not themself"
   ]
  },
  {
   "cell_type": "code",
   "execution_count": 8,
   "id": "21480c41-6a50-4136-b657-2d6ae35e55bb",
   "metadata": {},
   "outputs": [],
   "source": [
    "F1 = {'1', '2', '3', '4'}\n",
    "F2 = [('1','2'), \n",
    "     ('2','3'),\n",
    "     ('2','4'),\n",
    "     ('3','4')]\n",
    "\n",
    "F3 = nx.Graph()\n",
    "\n",
    "F3.add_nodes_from(F1)\n",
    "F3.add_edges_from(F2)\n"
   ]
  },
  {
   "cell_type": "markdown",
   "id": "b7d8a799-1282-4967-9fce-ba5dfc15d76f",
   "metadata": {},
   "source": [
    "note that we could look at this, but this does not really mean anyting"
   ]
  },
  {
   "cell_type": "code",
   "execution_count": 9,
   "id": "420e74aa-5b32-4fa9-b693-364d3b4c4be1",
   "metadata": {},
   "outputs": [
    {
     "name": "stdout",
     "output_type": "stream",
     "text": [
      "Warning: When  cdn_resources is 'local' jupyter notebook has issues displaying graphics on chrome/safari. Use cdn_resources='in_line' or cdn_resources='remote' if you have issues viewing graphics in a notebook.\n",
      "nx.html\n"
     ]
    },
    {
     "data": {
      "text/html": [
       "\n",
       "        <iframe\n",
       "            width=\"600px\"\n",
       "            height=\"600px\"\n",
       "            src=\"nx.html\"\n",
       "            frameborder=\"0\"\n",
       "            allowfullscreen\n",
       "        ></iframe>\n",
       "        "
      ],
      "text/plain": [
       "<IPython.lib.display.IFrame at 0x7fcb27a12ee0>"
      ]
     },
     "execution_count": 9,
     "metadata": {},
     "output_type": "execute_result"
    }
   ],
   "source": [
    "F4 = nt.Network(width = \"600px\", notebook = True)\n",
    "F4.from_nx(F3)\n",
    "F4.show('nx.html')\n",
    "\n"
   ]
  },
  {
   "cell_type": "markdown",
   "id": "1ac550b9-200a-4495-9587-f631330230e5",
   "metadata": {},
   "source": [
    "<b>Observe</b>: Simple graphs can be categorised into 3 types:\n",
    "\n",
    "1. ADE graphs\n",
    "2. ADE~ graphs\n",
    "3. All other simple graphs"
   ]
  },
  {
   "cell_type": "markdown",
   "id": "a1efc91d-ad3c-4182-8df4-cf9a4061676a",
   "metadata": {},
   "source": [
    "<b>Observe</b>: The second level of the mutation game allows for the use of directed graphs, or multigraphs. Edges have directions, multiple edges are allowed and loops are allowed. \n",
    "\n",
    "<b>Observe</b>: Mutigraphs can be viewed as an extension of simple graphs, meaning that second level of the mutation game can be regarded as an extension of level one.\n",
    "\n",
    "<b>Let</b> $F8$ be a visualisation of a multigraph with directed edges and self loops. "
   ]
  },
  {
   "cell_type": "code",
   "execution_count": 10,
   "id": "947315b6-d345-4ad8-bb74-2d096581f906",
   "metadata": {},
   "outputs": [
    {
     "name": "stdout",
     "output_type": "stream",
     "text": [
      "Warning: When  cdn_resources is 'local' jupyter notebook has issues displaying graphics on chrome/safari. Use cdn_resources='in_line' or cdn_resources='remote' if you have issues viewing graphics in a notebook.\n",
      "nx.html\n"
     ]
    },
    {
     "data": {
      "text/html": [
       "\n",
       "        <iframe\n",
       "            width=\"600px\"\n",
       "            height=\"600px\"\n",
       "            src=\"nx.html\"\n",
       "            frameborder=\"0\"\n",
       "            allowfullscreen\n",
       "        ></iframe>\n",
       "        "
      ],
      "text/plain": [
       "<IPython.lib.display.IFrame at 0x7fcb26d7a7c0>"
      ]
     },
     "execution_count": 10,
     "metadata": {},
     "output_type": "execute_result"
    }
   ],
   "source": [
    "F5 = {'1', '2', '3', '4'}\n",
    "F6 = [('1','2'), \n",
    "     ('2','3'),\n",
    "     ('2','4'),\n",
    "     ('2','4'),\n",
    "     ('3','4'),\n",
    "     ('1', '1')]\n",
    "\n",
    "F7 = nx.DiGraph()\n",
    "\n",
    "F7.add_nodes_from(F5)\n",
    "F7.add_edges_from(F6)\n",
    "\n",
    "F8 = nt.Network(width = \"600px\", notebook = True, directed = True)\n",
    "F8.from_nx(F7)\n",
    "F8.show('nx.html')\n"
   ]
  },
  {
   "cell_type": "markdown",
   "id": "31a8611a-2df6-4803-99d5-65130af8756a",
   "metadata": {},
   "source": [
    "<b>Observe</b> Multigraphs can also be characterised into the following types:\n",
    "\n",
    "1. BCFG Graphs\n",
    "2. BCFG~ graphs\n",
    "3. All other directed multigraphs"
   ]
  },
  {
   "cell_type": "markdown",
   "id": "5699aa8c-4cdd-465a-b019-2389bff34c4f",
   "metadata": {},
   "source": [
    "<hr/>\n",
    "<b>Aim</b>: Explore the properties of simple graphs\n",
    "<hr/>"
   ]
  },
  {
   "cell_type": "markdown",
   "id": "4414d88c-60a0-4717-aa0b-44378efd031c",
   "metadata": {},
   "source": [
    "<b>Let</b> $F12$ be a simple graph with the of vertices, $F9$, and the set of edges, $F10$ to be used as a motivating example.  \n"
   ]
  },
  {
   "cell_type": "code",
   "execution_count": 6,
   "id": "6250bce7-7e62-4c94-9143-a00bdf16c342",
   "metadata": {},
   "outputs": [
    {
     "name": "stdout",
     "output_type": "stream",
     "text": [
      "Warning: When  cdn_resources is 'local' jupyter notebook has issues displaying graphics on chrome/safari. Use cdn_resources='in_line' or cdn_resources='remote' if you have issues viewing graphics in a notebook.\n",
      "nx.html\n"
     ]
    },
    {
     "data": {
      "text/html": [
       "\n",
       "        <iframe\n",
       "            width=\"600px\"\n",
       "            height=\"600px\"\n",
       "            src=\"nx.html\"\n",
       "            frameborder=\"0\"\n",
       "            allowfullscreen\n",
       "        ></iframe>\n",
       "        "
      ],
      "text/plain": [
       "<IPython.lib.display.IFrame at 0x7f6860e1c160>"
      ]
     },
     "execution_count": 6,
     "metadata": {},
     "output_type": "execute_result"
    }
   ],
   "source": [
    "F9 = {'x', 'y', 'w', 'z'}\n",
    "F10 = [('x','y'), \n",
    "     ('y','z'),\n",
    "     ('y','w'),\n",
    "     ('w','z')]\n",
    "\n",
    "F11 = nx.Graph()\n",
    "\n",
    "F11.add_nodes_from(F9)\n",
    "F11.add_edges_from(F10)\n",
    "\n",
    "F12 = nt.Network(width = \"600px\", notebook = True)\n",
    "F12.from_nx(F11)\n",
    "F12.show('nx.html')"
   ]
  },
  {
   "cell_type": "markdown",
   "id": "614b1430-df9c-409f-9e9b-2fe5a7c37774",
   "metadata": {},
   "source": [
    "<b>Observe</b>: The vertices, $F9$ visualised in the above example, can be given the structure of an unordered set which can be denoted as $\\{\\text{ x } \\text{ y } \\text{ z } \\text{ w }\\}$"
   ]
  },
  {
   "cell_type": "markdown",
   "id": "5e6630b7-1c10-43c4-9ad2-9c2bddba25f9",
   "metadata": {},
   "source": [
    "<b>Observe</b> The edges, $F10$, of the above example, are an unordered set of unordered sets,  $\\{ \\{\\text{ x y }\\} \\{\\text{ y z }\\} \\{\\text{ z w }\\} \\{\\text{ z w }\\}\\}$. $F10$ can also be denoted as also a 2-set of vertices."
   ]
  },
  {
   "cell_type": "markdown",
   "id": "5d16cc53-bd0c-4ddc-b969-29bef260e5ff",
   "metadata": {},
   "source": [
    "<b>Observe</b>: From a combinatorial point of view, any graph ($X$) can be denoted as an ordered pair of vertices ($V$) and edges ($E$): \n",
    "\n",
    "$$X = \\{ V, E\\} $$"
   ]
  },
  {
   "cell_type": "markdown",
   "id": "08504391-18b1-4a05-9a69-d6321c7af78b",
   "metadata": {},
   "source": [
    "<b>Definition</b>: For any given vertice, $i$, in a simple graph, $N(i)$ is the unordered set of neighbouring vertices, which is an unordered set of those vertices connected to the $i$ by a single edge, denoted as $N(x) = \\{y\\} $ or  $N(y) = \\{ \\text{x z w}\\} $\n",
    "\n",
    "\n",
    "<b>Definition</b> A <b>graph population</b> for some simple graph, often denoted $X$ is an integer valued function on the vertices.\n",
    "\n",
    "<b>Definition</b> A <b>vertex population</b> for some vertex on a simple graph is the result of the integer valued function on a specific vertex.\n",
    "\n",
    "<b>Let</b> $F15$ be a simple graph where vertices have been given integer labels to denote population."
   ]
  },
  {
   "cell_type": "code",
   "execution_count": 7,
   "id": "c57e7f28-3da2-4cb9-a073-27f2580df984",
   "metadata": {},
   "outputs": [
    {
     "name": "stdout",
     "output_type": "stream",
     "text": [
      "Warning: When  cdn_resources is 'local' jupyter notebook has issues displaying graphics on chrome/safari. Use cdn_resources='in_line' or cdn_resources='remote' if you have issues viewing graphics in a notebook.\n",
      "nx.html\n"
     ]
    },
    {
     "data": {
      "text/html": [
       "\n",
       "        <iframe\n",
       "            width=\"600px\"\n",
       "            height=\"600px\"\n",
       "            src=\"nx.html\"\n",
       "            frameborder=\"0\"\n",
       "            allowfullscreen\n",
       "        ></iframe>\n",
       "        "
      ],
      "text/plain": [
       "<IPython.lib.display.IFrame at 0x7f67c06f6d90>"
      ]
     },
     "execution_count": 7,
     "metadata": {},
     "output_type": "execute_result"
    }
   ],
   "source": [
    "F12 = {'4:x', '3:y', '5:w', '-1:z'}\n",
    "F13 = [('4:x','3:y'), \n",
    "     ('3:y','-1:z'),\n",
    "     ('3:y','5:w'),\n",
    "     ('5:w','-1:z')]\n",
    "\n",
    "F14 = nx.Graph()\n",
    "\n",
    "F14.add_nodes_from(F12)\n",
    "F14.add_edges_from(F13)\n",
    "\n",
    "F15 = nt.Network(width = \"600px\", notebook = True)\n",
    "F15.from_nx(F14)\n",
    "F15.show('nx.html')"
   ]
  },
  {
   "cell_type": "markdown",
   "id": "454ee648-fe78-45a4-a943-61db136199b3",
   "metadata": {},
   "source": [
    "<b>Observe</b>: It is possible to impose order on vertices arbitrarily and $F15$ can be written as: $\\{\\text{x, y, z, w} \\} $\n",
    "\n",
    "<b>Observe</b>: The graph population of $F15$, can also be written as an arbitrarily ordered set: $ P = [4, 3, -1, 5] $"
   ]
  },
  {
   "cell_type": "markdown",
   "id": "f06c5baa-7645-4a05-b28f-c04549709bc9",
   "metadata": {},
   "source": [
    "<b>Definition</b>: A <b>Singleton Population</b> is a graph population where all vertices have a an integer value of 0 except for a single vertice of of 1"
   ]
  },
  {
   "cell_type": "markdown",
   "id": "f3b34eba-1d8e-48b6-8f8f-e32bf9650bcf",
   "metadata": {},
   "source": [
    "<b>Let</b> $F19$ be an example of a singleton population, which  an be arbitrarily ordered by the list $[\\text{0, 0, 0, 1}]$"
   ]
  },
  {
   "cell_type": "code",
   "execution_count": 8,
   "id": "b69502ee-6d78-4019-8061-a53cef758200",
   "metadata": {
    "tags": []
   },
   "outputs": [
    {
     "name": "stdout",
     "output_type": "stream",
     "text": [
      "Warning: When  cdn_resources is 'local' jupyter notebook has issues displaying graphics on chrome/safari. Use cdn_resources='in_line' or cdn_resources='remote' if you have issues viewing graphics in a notebook.\n",
      "nx.html\n"
     ]
    },
    {
     "data": {
      "text/html": [
       "\n",
       "        <iframe\n",
       "            width=\"600px\"\n",
       "            height=\"600px\"\n",
       "            src=\"nx.html\"\n",
       "            frameborder=\"0\"\n",
       "            allowfullscreen\n",
       "        ></iframe>\n",
       "        "
      ],
      "text/plain": [
       "<IPython.lib.display.IFrame at 0x7f67c071d970>"
      ]
     },
     "execution_count": 8,
     "metadata": {},
     "output_type": "execute_result"
    }
   ],
   "source": [
    "F16 = {'0:x', '0:y', '1:w', '0:z'}\n",
    "F17 = [('0:x','0:y'), \n",
    "     ('0:y','0:z'),\n",
    "     ('0:y','1:w'),\n",
    "     ('1:w','0:z')]\n",
    "\n",
    "F18 = nx.Graph()\n",
    "\n",
    "F18.add_nodes_from(F16)\n",
    "F18.add_edges_from(F17)\n",
    "\n",
    "F19 = nt.Network(width = \"600px\", notebook = True)\n",
    "F19.from_nx(F18)\n",
    "F19.show('nx.html')"
   ]
  },
  {
   "cell_type": "markdown",
   "id": "cebc8ed2-a709-4aa6-9fff-8302d60175ee",
   "metadata": {},
   "source": [
    "<b>Observe</b>: There is the same number of singleton populations as there are vertices"
   ]
  },
  {
   "cell_type": "markdown",
   "id": "7faf7b8b-824e-4ac3-9fdd-6a92b91b3d78",
   "metadata": {},
   "source": [
    "<b>Definition</b>: The <b>space of populations</b>, usually deonoted $P(X)$ is a linear space over the integers (i.e. all possible graph populations on a graph). The Space of Populations has the following pointwise operations: \n",
    "\n",
    "- It is possible to add and negate graph populations that occur in the space of populations\n",
    "- It is possible to perform scalar multiplication of graph populations\n",
    "\n",
    "$P(X)$ can be intuited as a vector space whose basis consists of all singleton populations of a graph. Note it vector space over integers with basis being a $\\{\\text{set of singleton populations} \\}$"
   ]
  },
  {
   "cell_type": "markdown",
   "id": "a1a559dd-1ba1-4abb-beab-f7261727828a",
   "metadata": {},
   "source": [
    "<hr/>\n",
    "\n",
    "<b>Aim</b>: Introduce the notion of a mutation\n",
    "\n",
    "<hr/>"
   ]
  },
  {
   "cell_type": "markdown",
   "id": "fd92f9b3-e3d6-4f0c-926b-1363b7139d11",
   "metadata": {},
   "source": [
    "<b>Defintion</b>: A <b>mutation</b> is a transformation of a population of a vertex which will result in a changed graph and vertex population \n",
    "\n",
    "<b>Definition</b>: If $x$ is a vertex of some simple graph $X$, then $S_x$ is defined as the mutation of $x$ which is a transformation of the vertex population of $x$ (which will also change the graph population)."
   ]
  },
  {
   "cell_type": "markdown",
   "id": "18983799-21fd-443b-a1ae-cae60d995e16",
   "metadata": {},
   "source": [
    "If $p \\in P(X) $ where $p$ is a population and $P(X)$ is the space of populations on a simple graph $X$ and $N(x)$ is the neighbouring vertices of $x$, then the population function, $ps_x$ on some population $y$ can be described as: \n",
    "\n",
    "$$ ps_x(y) \\equiv  \n",
    "\\begin{cases}\n",
    "    -p(x) + \\Sigma_{z \\in N(x)} \\text{ }  p(z) & \\text{if y = x}\\\\\n",
    "    p(y) & \\text{if y $\\ne$ x}\n",
    "\\end{cases}\n",
    "$$ "
   ]
  },
  {
   "cell_type": "markdown",
   "id": "93cf9b53-0057-46c3-a4e1-ec089fdca8eb",
   "metadata": {},
   "source": [
    "<b>Let</b> F20 be a implementation of the population function $ps_x(y)$ for the case when $y=x$ (in the case where $y \\ne x$, there is no population change)."
   ]
  },
  {
   "cell_type": "code",
   "execution_count": 9,
   "id": "6e993278-7213-491a-a190-3116de6ff2b9",
   "metadata": {},
   "outputs": [],
   "source": [
    "def F20(graph, nodeChoice, printSummary = True, returnUpdatedGraph = True):\n",
    "   \n",
    "    edgesOfChosenNode = list(nx.edges(graph, [nodeChoice]))\n",
    "   \n",
    "    neigborOfChosenNode = [edgesOfChosenNode[i][1] for i in range(len(list(edgesOfChosenNode)))]\n",
    "    nodeChoicePopulation = graph.nodes[nodeChoice]['population']\n",
    "    sumOfNeighborsOfChosenNode = np.sum([graph.nodes[i]['population'] for i in neigborOfChosenNode])\n",
    "    populationOfNode = -nodeChoicePopulation + sumOfNeighborsOfChosenNode\n",
    "    updatedGraph = graph.copy()\n",
    "    updatedGraph.nodes[nodeChoice]['population'] = populationOfNode\n",
    "\n",
    "    newPopulations = [updatedGraph.nodes[i]['population'] for i in list(updatedGraph)]\n",
    "    if printSummary:\n",
    "        print(\"Node choice\", \n",
    "              nodeChoice,\n",
    "              \"\\nNode details\",\n",
    "              nx.nodes(graph)[nodeChoice],\n",
    "              \"\\nChange in node population \",\n",
    "              nx.nodes(graph)[nodeChoice]['population'], \n",
    "              \"->\", \n",
    "              populationOfNode)\n",
    "        print(\"Updated node populations of graph: \", newPopulations, \"\\n\")\n",
    "\n",
    "    \n",
    "\n",
    "    return(updatedGraph)"
   ]
  },
  {
   "cell_type": "markdown",
   "id": "ea2cfc44-d7a7-4cae-9870-9a5e09531b20",
   "metadata": {},
   "source": [
    "<b>Observe</b>: If $F23$ is a simple graph, each node can be mutated using the the population function $ps_x$, implemented in $F20$. This will result in new vertex populations for each node $x, y, z$ and $w$"
   ]
  },
  {
   "cell_type": "code",
   "execution_count": 10,
   "id": "b12e378e-ce6a-4687-b031-ea278bcf25d8",
   "metadata": {},
   "outputs": [
    {
     "name": "stdout",
     "output_type": "stream",
     "text": [
      "Warning: When  cdn_resources is 'local' jupyter notebook has issues displaying graphics on chrome/safari. Use cdn_resources='in_line' or cdn_resources='remote' if you have issues viewing graphics in a notebook.\n",
      "nx.html\n"
     ]
    },
    {
     "data": {
      "text/html": [
       "\n",
       "        <iframe\n",
       "            width=\"600px\"\n",
       "            height=\"600px\"\n",
       "            src=\"nx.html\"\n",
       "            frameborder=\"0\"\n",
       "            allowfullscreen\n",
       "        ></iframe>\n",
       "        "
      ],
      "text/plain": [
       "<IPython.lib.display.IFrame at 0x7f67c07083d0>"
      ]
     },
     "execution_count": 10,
     "metadata": {},
     "output_type": "execute_result"
    }
   ],
   "source": [
    "F21 = [\n",
    "    (\"x\", {\"population\": 4}),\n",
    "    (\"y\", {\"population\": 3}),\n",
    "    (\"z\", {\"population\": -1}),\n",
    "    (\"w\", {\"population\": 5})]\n",
    "\n",
    "F22 = [(\"x\",\"y\"),\n",
    "      (\"y\",\"z\"),\n",
    "      (\"y\",\"w\"),\n",
    "      (\"w\",\"z\")]\n",
    "\n",
    "F23 = nx.Graph()\n",
    "\n",
    "F23.add_nodes_from(F21)\n",
    "F23.add_edges_from(F22)\n",
    "\n",
    "F24 = nt.Network(width = \"600px\", notebook = True)\n",
    "F24.from_nx(F23)\n",
    "F24.show('nx.html')"
   ]
  },
  {
   "cell_type": "markdown",
   "id": "2e38026c-ecdb-47bc-9b00-7c361c6b45af",
   "metadata": {},
   "source": [
    "<b>Observe</b>: The mutation function $F20$ can be applied at each vertice."
   ]
  },
  {
   "cell_type": "code",
   "execution_count": 11,
   "id": "67add0bd-855d-49e8-a1c1-85fa793bb4f8",
   "metadata": {},
   "outputs": [
    {
     "name": "stdout",
     "output_type": "stream",
     "text": [
      "Node choice x \n",
      "Node details {'population': 4, 'size': 10} \n",
      "Change in node population  4 -> -1\n",
      "Updated node populations of graph:  [-1, 3, -1, 5] \n",
      "\n",
      "Node choice y \n",
      "Node details {'population': 3, 'size': 10} \n",
      "Change in node population  3 -> 5\n",
      "Updated node populations of graph:  [4, 5, -1, 5] \n",
      "\n",
      "Node choice z \n",
      "Node details {'population': -1, 'size': 10} \n",
      "Change in node population  -1 -> 9\n",
      "Updated node populations of graph:  [4, 3, 9, 5] \n",
      "\n",
      "Node choice w \n",
      "Node details {'population': 5, 'size': 10} \n",
      "Change in node population  5 -> -3\n",
      "Updated node populations of graph:  [4, 3, -1, -3] \n",
      "\n"
     ]
    },
    {
     "data": {
      "text/plain": [
       "<networkx.classes.graph.Graph at 0x7f67c07a4e80>"
      ]
     },
     "execution_count": 11,
     "metadata": {},
     "output_type": "execute_result"
    }
   ],
   "source": [
    "F20(F23, \"x\", returnUpdatedGraph=False)\n",
    "F20(F23, \"y\", returnUpdatedGraph=False)\n",
    "F20(F23, \"z\", returnUpdatedGraph=False)\n",
    "F20(F23, \"w\", returnUpdatedGraph=False)"
   ]
  },
  {
   "cell_type": "markdown",
   "id": "621e40ea-cb54-4a69-b1fa-ccfcd694b53a",
   "metadata": {},
   "source": [
    "<hr/>\n",
    "<b>Aim</b>: Demonstrate the properties of the mutation function on simple graphs\n",
    "<hr/>"
   ]
  },
  {
   "cell_type": "markdown",
   "id": "dc972a56-02f8-48b8-a834-f1c4e3bb273d",
   "metadata": {},
   "source": [
    "<b>Observe</b>: the population function , $ps_x$ has the following properties:  \n",
    "\n",
    "1. If $p$ and $q$ are populations, $P(X)$ is a space of populations, and $p, q \\in P(X)$, then $(p + q)s_x = ps_x + qs_x$ so it is a linear operator and can be applied pointwise and if $n \\in \\text{Int}$, then $(np)s_x = n(ps_x)$\n",
    "\n",
    "2. $s_x^2 \\equiv \\text{Identity}$. Performing the same mutation in succession will produce the original graph population.\n",
    "\n",
    "3. If $x$ and $y$ are non-neighboring vertices, then the $S_xS_y \\equiv S_yS_x$, meaning they are commutative\n",
    "\n",
    "\n",
    "<b>Observe</b>: A consequence of property $3$, it is the case that: \n",
    "\n",
    "$$ (pS_x)S_y = p(S_xS_y) \\equiv (pS_y)S_x = p(S_yS_x) $$\n",
    "\n",
    "\n",
    "Note that the mutation functino, $S_i$ is, by convention, written on the rhs of the populations it is are acting on. This means that\n",
    "However in general they do not have to \n",
    "\n",
    "4. (The braid relation) If $x$ and $y$ are neighbors, then: \n",
    "\n",
    "\n",
    "\n",
    "$$ S_x S_y S_x = S_y S_x S_y $$\n",
    "\n",
    "<b>Observe</b>: It can be shows that the relation $(S_xS_y)^3 = \\text{identity}$\n",
    "\n",
    "<b>Observe</b>: The first property can be tested using 2 graphs with different populations using the following example. \n"
   ]
  },
  {
   "cell_type": "markdown",
   "id": "68dcda39-defe-42bb-aece-82b6bc3ffbc6",
   "metadata": {},
   "source": [
    "<b>Let</b>: $F27$ and $F30$ be graphs with given populations and recall that a graph population can be denoted as an ordered set of integers."
   ]
  },
  {
   "cell_type": "code",
   "execution_count": 12,
   "id": "47c69b13-08bd-4734-aeef-9710f5ed7a4a",
   "metadata": {},
   "outputs": [
    {
     "name": "stdout",
     "output_type": "stream",
     "text": [
      "F27 graph population:  [4, 3, -1, 5]\n",
      "F30 graph population:  [2, 4, 6, -4]\n"
     ]
    }
   ],
   "source": [
    "F25 = [\n",
    "    (\"x\", {\"population\": 4}),\n",
    "    (\"y\", {\"population\": 3}),\n",
    "    (\"z\", {\"population\": -1}),\n",
    "    (\"w\", {\"population\": 5})]\n",
    "\n",
    "F26 = [(\"x\",\"y\"),\n",
    "      (\"y\",\"z\"),\n",
    "      (\"y\",\"w\"),\n",
    "      (\"w\",\"z\")]\n",
    "\n",
    "F27 = nx.Graph()\n",
    "\n",
    "F27.add_nodes_from(F25)\n",
    "F27.add_edges_from(F26)\n",
    "\n",
    "\n",
    "F28 = [\n",
    "    (\"x\", {\"population\": 2}),\n",
    "    (\"y\", {\"population\": 4}),\n",
    "    (\"z\", {\"population\": 6}),\n",
    "    (\"w\", {\"population\": -4})]\n",
    "\n",
    "F29 = [(\"x\",\"y\"),\n",
    "      (\"y\",\"z\"),\n",
    "      (\"y\",\"w\"),\n",
    "      (\"w\",\"z\")]\n",
    "\n",
    "F30 = nx.Graph()\n",
    "\n",
    "F30.add_nodes_from(F28)\n",
    "F30.add_edges_from(F29)\n",
    "\n",
    "\n",
    "\n",
    "print(\"F27 graph population: \", [F27.nodes[i]['population'] for i in F27])\n",
    "print(\"F30 graph population: \", [F30.nodes[i]['population'] for i in F30])"
   ]
  },
  {
   "cell_type": "markdown",
   "id": "2bc3ac98-af0f-4f82-90e6-b3c774a2a8c4",
   "metadata": {},
   "source": [
    "<b>Let</b> $F31$ be the addition of graph populations fo the $F27$ and $F30$"
   ]
  },
  {
   "cell_type": "code",
   "execution_count": 13,
   "id": "e609458f-9d92-4f7b-987d-1030229f8b74",
   "metadata": {},
   "outputs": [
    {
     "data": {
      "text/plain": [
       "array([6, 7, 5, 1])"
      ]
     },
     "execution_count": 13,
     "metadata": {},
     "output_type": "execute_result"
    }
   ],
   "source": [
    "F31 = np.array([F27.nodes[i]['population'] for i in F27]) + np.array([F30.nodes[i]['population'] for i in F30])\n",
    "F31"
   ]
  },
  {
   "cell_type": "markdown",
   "id": "2aad743e-1103-4bec-8458-ed99d16fd9e0",
   "metadata": {},
   "source": [
    "<b>Let</b> $F34$ be the a graph population created from $F31$, being the addition of $F27$ and $F30$"
   ]
  },
  {
   "cell_type": "code",
   "execution_count": 14,
   "id": "1d8a8f3c-319e-43a8-ae4e-8e72c3e9176b",
   "metadata": {},
   "outputs": [],
   "source": [
    "F32 = [\n",
    "    (\"x\", {\"population\": 6}),\n",
    "    (\"y\", {\"population\": 7}),\n",
    "    (\"z\", {\"population\": 5}),\n",
    "    (\"w\", {\"population\": 1})]\n",
    "\n",
    "F33 = [(\"x\",\"y\"),\n",
    "      (\"y\",\"z\"),\n",
    "      (\"y\",\"w\"),\n",
    "      (\"w\",\"z\")]\n",
    "\n",
    "F34 = nx.Graph()\n",
    "\n",
    "F34.add_nodes_from(F32)\n",
    "F34.add_edges_from(F33)"
   ]
  },
  {
   "cell_type": "markdown",
   "id": "8cf8be1d-4061-444f-bed8-b9758e43daed",
   "metadata": {},
   "source": [
    "<b>Let</b> $F35$ be the addtion of populations of $F27$ and $F30$ after applying the mutation on $x$"
   ]
  },
  {
   "cell_type": "code",
   "execution_count": 15,
   "id": "45b8b153-14b3-4efc-bbbc-c520ca6d3697",
   "metadata": {},
   "outputs": [
    {
     "name": "stdout",
     "output_type": "stream",
     "text": [
      "Node choice x \n",
      "Node details {'population': 4} \n",
      "Change in node population  4 -> -1\n",
      "Updated node populations of graph:  [-1, 3, -1, 5] \n",
      "\n",
      "Node choice x \n",
      "Node details {'population': 2} \n",
      "Change in node population  2 -> 2\n",
      "Updated node populations of graph:  [2, 4, 6, -4] \n",
      "\n"
     ]
    },
    {
     "data": {
      "text/plain": [
       "array([1, 7, 5, 1])"
      ]
     },
     "execution_count": 15,
     "metadata": {},
     "output_type": "execute_result"
    }
   ],
   "source": [
    "F35 = F20(F27, \"x\")\n",
    "F36 = F20(F30, \"x\")\n",
    "F37 = np.array([F35.nodes[i]['population'] for i in F35]) + np.array([F36.nodes[i]['population'] for i in F36])\n",
    "F37"
   ]
  },
  {
   "cell_type": "markdown",
   "id": "dcb4b407-a23f-4008-b6f9-2c9f9b58db35",
   "metadata": {},
   "source": [
    "<b>Let</b> $F38$ be mutation of $F34$ on the vertice $x$"
   ]
  },
  {
   "cell_type": "code",
   "execution_count": 16,
   "id": "ad33515b-c257-4551-add5-6c11c65d4428",
   "metadata": {},
   "outputs": [
    {
     "name": "stdout",
     "output_type": "stream",
     "text": [
      "Node choice x \n",
      "Node details {'population': 6} \n",
      "Change in node population  6 -> 1\n",
      "Updated node populations of graph:  [1, 7, 5, 1] \n",
      "\n"
     ]
    }
   ],
   "source": [
    "F38 = F20(F34, \"x\")"
   ]
  },
  {
   "cell_type": "markdown",
   "id": "68f65c44-da50-4ce7-adb2-a236229cb546",
   "metadata": {},
   "source": [
    "<b>Observe</b> that as $F37 = F38$ this property is satisfied for this example.\n",
    "\n",
    "<b>Observe</b>: It is also possible to show this algebraically. \n",
    "\n",
    "<b>Let</b>: Let $a, b, c, d, e, f, g, h$ be unknown types"
   ]
  },
  {
   "cell_type": "code",
   "execution_count": 17,
   "id": "52a30c30-2fbf-410c-8b53-6b3744b10ddb",
   "metadata": {},
   "outputs": [],
   "source": [
    "a, b, c, d, e, f, g, h = sp.symbols('a, b, c, d, e, f, g, h')"
   ]
  },
  {
   "cell_type": "markdown",
   "id": "4f4535b8-090f-478a-9e84-f47b0a78c0d4",
   "metadata": {},
   "source": [
    "<b>Let</b>: $F41$ and $F44$ be graphs with given populations created from unknown types. "
   ]
  },
  {
   "cell_type": "code",
   "execution_count": 18,
   "id": "a5d3a988-4408-4b1c-82a2-1ea247808609",
   "metadata": {},
   "outputs": [
    {
     "name": "stdout",
     "output_type": "stream",
     "text": [
      "F41 graph population:  [a, b, c, d]\n",
      "F44 graph population:  [e, f, g, h]\n"
     ]
    }
   ],
   "source": [
    "F39 = [\n",
    "    (\"x\", {\"population\": a}),\n",
    "    (\"y\", {\"population\": b}),\n",
    "    (\"z\", {\"population\": c}),\n",
    "    (\"w\", {\"population\": d})]\n",
    "\n",
    "F40 = [(\"x\",\"y\"),\n",
    "      (\"y\",\"z\"),\n",
    "      (\"y\",\"w\"),\n",
    "      (\"w\",\"z\")]\n",
    "\n",
    "F41 = nx.Graph()\n",
    "\n",
    "F41.add_nodes_from(F39)\n",
    "F41.add_edges_from(F40)\n",
    "\n",
    "\n",
    "F42 = [\n",
    "    (\"x\", {\"population\": e}),\n",
    "    (\"y\", {\"population\": f}),\n",
    "    (\"z\", {\"population\": g}),\n",
    "    (\"w\", {\"population\": h})]\n",
    "\n",
    "F43 = [(\"x\",\"y\"),\n",
    "      (\"y\",\"z\"),\n",
    "      (\"y\",\"w\"),\n",
    "      (\"w\",\"z\")]\n",
    "\n",
    "F44 = nx.Graph()\n",
    "\n",
    "F44.add_nodes_from(F42)\n",
    "F44.add_edges_from(F33)\n",
    "\n",
    "\n",
    "print(\"F41 graph population: \", [F41.nodes[i]['population'] for i in F41])\n",
    "print(\"F44 graph population: \", [F44.nodes[i]['population'] for i in F44])"
   ]
  },
  {
   "cell_type": "markdown",
   "id": "8af9fb25-78aa-4d8f-b642-f29db8180d03",
   "metadata": {},
   "source": [
    "<b>Let</b> $F45$ be the addition of graph populations fo the $F41$ and $F44$"
   ]
  },
  {
   "cell_type": "code",
   "execution_count": 19,
   "id": "aa8cf78a-3f52-48b5-bc01-d3dd4a7c344e",
   "metadata": {},
   "outputs": [
    {
     "data": {
      "text/plain": [
       "array([a + e, b + f, c + g, d + h], dtype=object)"
      ]
     },
     "execution_count": 19,
     "metadata": {},
     "output_type": "execute_result"
    }
   ],
   "source": [
    "F45 = np.array([F41.nodes[i]['population'] for i in F41]) + np.array([F44.nodes[i]['population'] for i in F44])\n",
    "F45"
   ]
  },
  {
   "cell_type": "markdown",
   "id": "30f8bd55-ad9d-41c4-8c40-8f4d86c3fff2",
   "metadata": {},
   "source": [
    "<b>Let</b> $F48$ be the a graph population created from $F31$, being the addition of $41$ and $F44$"
   ]
  },
  {
   "cell_type": "code",
   "execution_count": 20,
   "id": "8a584124-8d70-49dd-8b0e-98f00e8bc693",
   "metadata": {},
   "outputs": [],
   "source": [
    "F46 = [\n",
    "    (\"x\", {\"population\": a + e,}),\n",
    "    (\"y\", {\"population\": b + f}),\n",
    "    (\"z\", {\"population\": c + g}),\n",
    "    (\"w\", {\"population\": d + h})]\n",
    "\n",
    "F47 = [(\"x\",\"y\"),\n",
    "      (\"y\",\"z\"),\n",
    "      (\"y\",\"w\"),\n",
    "      (\"w\",\"z\")]\n",
    "\n",
    "F48 = nx.Graph()\n",
    "\n",
    "F48.add_nodes_from(F46)\n",
    "F48.add_edges_from(F47)"
   ]
  },
  {
   "cell_type": "markdown",
   "id": "bb102e24-d853-4eaf-8a7a-06a451c4c2da",
   "metadata": {},
   "source": [
    "<b>Let</b> $F51$ be the updated populations of $F27$ and $F30$ after applying the mutation on $x$"
   ]
  },
  {
   "cell_type": "code",
   "execution_count": 21,
   "id": "1ba0ab6f-4c56-443c-85c3-4a49cbf2daa4",
   "metadata": {},
   "outputs": [
    {
     "name": "stdout",
     "output_type": "stream",
     "text": [
      "Node choice x \n",
      "Node details {'population': a} \n",
      "Change in node population  a -> -a + b\n",
      "Updated node populations of graph:  [-a + b, b, c, d] \n",
      "\n",
      "Node choice x \n",
      "Node details {'population': e} \n",
      "Change in node population  e -> -e + f\n",
      "Updated node populations of graph:  [-e + f, f, g, h] \n",
      "\n"
     ]
    },
    {
     "data": {
      "text/plain": [
       "array([-a + b - e + f, b + f, c + g, d + h], dtype=object)"
      ]
     },
     "execution_count": 21,
     "metadata": {},
     "output_type": "execute_result"
    }
   ],
   "source": [
    "F49 = F20(F41, \"x\")\n",
    "F50 = F20(F44, \"x\")\n",
    "F51 = np.array([F49.nodes[i]['population'] for i in F49]) + np.array([F50.nodes[i]['population'] for i in F50])\n",
    "F51"
   ]
  },
  {
   "cell_type": "markdown",
   "id": "cf7f68a6-f10a-429b-afa5-472571d7e022",
   "metadata": {},
   "source": [
    "<b>Let</b> $F52$ be mutation of $F48$ on the vertice $x$"
   ]
  },
  {
   "cell_type": "code",
   "execution_count": 22,
   "id": "7ed8db1b-c408-4053-afd8-827be5dc0269",
   "metadata": {},
   "outputs": [
    {
     "name": "stdout",
     "output_type": "stream",
     "text": [
      "Node choice x \n",
      "Node details {'population': a + e} \n",
      "Change in node population  a + e -> -a + b - e + f\n",
      "Updated node populations of graph:  [-a + b - e + f, b + f, c + g, d + h] \n",
      "\n"
     ]
    }
   ],
   "source": [
    "F52 = F20(F48, \"x\")"
   ]
  },
  {
   "cell_type": "markdown",
   "id": "dd70b028-ed3e-4611-904d-3c7bee4feea8",
   "metadata": {},
   "source": [
    "<b>Observe</b> that as $F51 = F52$ so this property can be satisfied algebraically.\n",
    "\n"
   ]
  },
  {
   "cell_type": "code",
   "execution_count": null,
   "id": "fae99d1e-8bf3-4f4e-b84c-a3da75dc3adf",
   "metadata": {},
   "outputs": [],
   "source": []
  }
 ],
 "metadata": {
  "kernelspec": {
   "display_name": "Python 3",
   "language": "python",
   "name": "python3"
  },
  "language_info": {
   "codemirror_mode": {
    "name": "ipython",
    "version": 3
   },
   "file_extension": ".py",
   "mimetype": "text/x-python",
   "name": "python",
   "nbconvert_exporter": "python",
   "pygments_lexer": "ipython3",
   "version": "3.9.2"
  }
 },
 "nbformat": 4,
 "nbformat_minor": 5
}
