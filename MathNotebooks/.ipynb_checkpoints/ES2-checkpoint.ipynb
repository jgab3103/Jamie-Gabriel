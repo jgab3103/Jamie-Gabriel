{
 "cells": [
  {
   "cell_type": "markdown",
   "id": "cd785232-2f3d-43dc-94af-0076a1ab2517",
   "metadata": {},
   "source": [
    "<hr/>\n",
    "\n",
    "<b>Notebook Summary</b>\n",
    "\n",
    "The purpose of this notebook is a continuation of ES1_1, which introduces some basic properties of graphs and provide examples and proofs that demonstrate these properties. It will also introduce the \"mutation game\" which can be used to demonstrate these properties. \n",
    "\n",
    "These notes are based on Prof. Norman Wildberger's lectures on Dynamics on Graphs which can be found <a href=\"https://www.youtube.com/c/WildEggmathematicscourses/featured\">here</a>. Note that the notes for this lecture have been spread over a number of notebooks (ES1_1, ES1_2)\n",
    "    \n",
    "They notes are are being hosted at my website <a href=\"https://www.ladatavita.com/\">ladatavita.com</a> and the Jupyter notebook is also available from my Github repo at: <a href=\"https://github.com/jgab3103/Jamie-Gabriel/tree/main/MathNotebooks\">https://github.com/jgab3103/Jamie-Gabriel/tree/main/MathNotebooks</a>\n",
    "\n",
    "\n",
    "\n",
    "<hr/>"
   ]
  },
  {
   "cell_type": "code",
   "execution_count": 304,
   "id": "8f5dc6a8-8a04-42ed-b738-229121afe4e6",
   "metadata": {},
   "outputs": [],
   "source": [
    "import pyvis.network as nt\n",
    "import numpy as np\n",
    "import sympy as sp\n",
    "from IPython.display import HTML\n",
    "import ipywidgets as widgets\n",
    "import matplotlib as mpl\n",
    "from mpl_toolkits.mplot3d import Axes3D\n",
    "import matplotlib.pyplot as plt\n",
    "mpl.rcParams['legend.fontsize'] = 10\n",
    "import pandas as pd\n",
    "import networkx as nx\n",
    "import string"
   ]
  },
  {
   "cell_type": "markdown",
   "id": "99459852-1277-49fa-bb4f-0887724714e1",
   "metadata": {},
   "source": [
    "<hr/>\n",
    "<b>Aim</b>: Continue to demonstrate the properties of the mutation function on simple graphs\n",
    "<hr/>\n",
    "\n",
    "<b>Observe</b>: Recall that the population function (introduced in ES1_1), $ps_x$ has the following properties:  \n",
    "\n",
    "1. If $p$ and $q$ are populations, $P(X)$ is a space of populations, and $p, q \\in P(X)$, then $(p + q)s_x = ps_x + qs_x$ so it is a linear operator and can be applied pointwise and if $n \\in \\text{Int}$, then $(np)s_x = n(ps_x)$\n",
    "\n",
    "2. $s_x^2 \\equiv \\text{Identity}$. Performing the same mutation in succession will produce the original graph population.\n",
    "\n",
    "3. If $x$ and $y$ are non-neighboring vertices, then the $S_xS_y \\equiv S_yS_x$, meaning they are commutative\n",
    "\n",
    "\n",
    "<b>Observe</b>: A consequence of property $3$, it is the case that: \n",
    "\n",
    "$$ (pS_x)S_y = p(S_xS_y) \\equiv (pS_y)S_x = p(S_yS_x) $$\n",
    "\n",
    "\n",
    "Note that the mutation functino, $S_i$ is, by convention, written on the rhs of the populations it is are acting on. This means that\n",
    "However in general they do not have to \n",
    "\n",
    "4. (The braid relation) If $x$ and $y$ are neighbors, then: \n",
    "\n",
    "\n",
    "\n",
    "$$ S_x S_y S_x = S_y S_x S_y $$\n",
    "\n",
    "<b>Observe</b>: It can be shows that the relation $(S_xS_y)^3 = \\text{identity}$\n",
    "\n"
   ]
  },
  {
   "cell_type": "markdown",
   "id": "23d36d79-033b-4590-abc3-a74ad454432b",
   "metadata": {},
   "source": [
    "<b>Let</b> $F1$ be an implementation of the population function $ps_x$"
   ]
  },
  {
   "cell_type": "code",
   "execution_count": 233,
   "id": "6e993278-7213-491a-a190-3116de6ff2b9",
   "metadata": {},
   "outputs": [],
   "source": [
    "def F1(graph, nodeChoice, printSummary = True, \n",
    "       returnUpdatedGraph = False, \n",
    "       returnListOfPopulations = False,\n",
    "      returnAllAsDict = False):\n",
    "   \n",
    "    edgesOfChosenNode = list(nx.edges(graph, [nodeChoice]))\n",
    "   \n",
    "    neigborOfChosenNode = [edgesOfChosenNode[i][1] for i in range(len(list(edgesOfChosenNode)))]\n",
    "    nodeChoicePopulation = graph.nodes[nodeChoice]['population']\n",
    "    sumOfNeighborsOfChosenNode = np.sum([graph.nodes[i]['population'] for i in neigborOfChosenNode])\n",
    "    populationOfNode = -nodeChoicePopulation + sumOfNeighborsOfChosenNode\n",
    "    updatedGraph = graph.copy()\n",
    "    updatedGraph.nodes[nodeChoice]['population'] = populationOfNode\n",
    "\n",
    "    newPopulations = [updatedGraph.nodes[i]['population'] for i in list(updatedGraph)]\n",
    "    if printSummary:\n",
    "        print(\"Node choice\", \n",
    "              nodeChoice,\n",
    "              \"\\nNode details\",\n",
    "              nx.nodes(graph)[nodeChoice],\n",
    "              \"\\nChange in node population \",\n",
    "              nx.nodes(graph)[nodeChoice]['population'], \n",
    "              \"->\", \n",
    "              populationOfNode)\n",
    "        print(\"Updated node populations of graph: \", newPopulations, \"\\n\")\n",
    "\n",
    "    if returnUpdatedGraph: \n",
    "        return(updatedGraph)\n",
    "    \n",
    "    if returnListOfPopulations:\n",
    "        return(np.array(newPopulations))\n",
    "    \n",
    "    if returnAllAsDict:\n",
    "        return({\"graph\": updatedGraph,\n",
    "               \"population\": np.array(newPopulations)})"
   ]
  },
  {
   "cell_type": "markdown",
   "id": "e72bca2a-c5d5-4780-ae0c-aad9ab27cb0d",
   "metadata": {},
   "source": [
    "<b>Observe</b>: The first property was demonstrated in the previous notebook (ES1_1). The second propert,y,  $s_x^2 \\equiv \\text{Identity}$ can be demonstrated using the following example"
   ]
  },
  {
   "cell_type": "markdown",
   "id": "69ddb9c2-63b7-4f87-bc24-eda77088d26c",
   "metadata": {},
   "source": [
    "<b>Let</b> $a, b, c$ and $d$"
   ]
  },
  {
   "cell_type": "code",
   "execution_count": 234,
   "id": "f897b431-13a7-44f5-b629-eea01ec70e81",
   "metadata": {},
   "outputs": [],
   "source": [
    "a, b, c, d = sp.symbols('a, b, c, d')"
   ]
  },
  {
   "cell_type": "code",
   "execution_count": 235,
   "id": "9eaf3f63-786e-4b61-9150-84114b66c9ce",
   "metadata": {},
   "outputs": [],
   "source": [
    "F2 = [\n",
    "    (\"x\", {\"population\": a}),\n",
    "    (\"y\", {\"population\": b}),\n",
    "    (\"z\", {\"population\": c}),\n",
    "    (\"w\", {\"population\": d})]\n",
    "\n",
    "F3 = [(\"x\",\"y\"),\n",
    "      (\"y\",\"z\"),\n",
    "      (\"y\",\"w\"),\n",
    "      (\"w\",\"z\")]\n",
    "\n",
    "F4 = nx.Graph()\n",
    "\n",
    "F4.add_nodes_from(F2)\n",
    "F4.add_edges_from(F3)"
   ]
  },
  {
   "cell_type": "markdown",
   "id": "07181fde-c4fb-43aa-922b-de036a62eb33",
   "metadata": {},
   "source": [
    "<b>Let</b>: $F5$ be the application fo $S_x^2$"
   ]
  },
  {
   "cell_type": "code",
   "execution_count": 236,
   "id": "a1785214-97e7-4f99-9dda-7a5d739dff2c",
   "metadata": {},
   "outputs": [
    {
     "name": "stdout",
     "output_type": "stream",
     "text": [
      "Node choice x \n",
      "Node details {'population': a} \n",
      "Change in node population  a -> -a + b\n",
      "Updated node populations of graph:  [-a + b, b, c, d] \n",
      "\n",
      "Node choice x \n",
      "Node details {'population': -a + b} \n",
      "Change in node population  -a + b -> a\n",
      "Updated node populations of graph:  [a, b, c, d] \n",
      "\n"
     ]
    },
    {
     "data": {
      "text/plain": [
       "[a, b, c, d]"
      ]
     },
     "execution_count": 236,
     "metadata": {},
     "output_type": "execute_result"
    }
   ],
   "source": [
    "F5 = F1(F1(F4, 'x', returnUpdatedGraph=True), 'x', returnUpdatedGraph=True)\n",
    "[F5.nodes[i]['population'] for i in F5]"
   ]
  },
  {
   "cell_type": "markdown",
   "id": "94a78f3e-fd03-4ce6-91b0-faf13e242d3a",
   "metadata": {},
   "source": [
    "<b>Observe</b>: that $F5$ proves property 2. "
   ]
  },
  {
   "cell_type": "markdown",
   "id": "6cff4a83-af52-4a59-a028-cbac8bf6da0b",
   "metadata": {},
   "source": [
    "<b>Observe</b>: To test property 3, a function is required that returns a list of non-neighboring vertices for any given vertice in a graph.\n",
    "\n",
    "<b>Let</b>: Let $F6$ be a function that returns all non neighboring vertices for all vertices on a graph. "
   ]
  },
  {
   "cell_type": "code",
   "execution_count": 237,
   "id": "a3ad2238-2bb6-4549-80bd-4b7fa1067dcd",
   "metadata": {},
   "outputs": [],
   "source": [
    "def F6(graph):\n",
    "    listOfNonNeigbors = []\n",
    "    nodes = list(graph.nodes)\n",
    "    for x in nodes:\n",
    "        y = [i for i in nx.non_neighbors(F5, x)]\n",
    "        listOfNonNeigbors.append({x: y})\n",
    "    return(listOfNonNeigbors)"
   ]
  },
  {
   "cell_type": "markdown",
   "id": "41321ea5-26e5-4bec-be3a-065ce99a580c",
   "metadata": {},
   "source": [
    "<b>Let</b> $F7$ be a list of all non-neighboring vertices for each vertice in $F4$"
   ]
  },
  {
   "cell_type": "code",
   "execution_count": 238,
   "id": "6aa05c0a-a4f1-4f8d-912a-5fce45d94326",
   "metadata": {},
   "outputs": [
    {
     "data": {
      "text/plain": [
       "[{'x': ['z', 'w']}, {'y': []}, {'z': ['x']}, {'w': ['x']}]"
      ]
     },
     "execution_count": 238,
     "metadata": {},
     "output_type": "execute_result"
    }
   ],
   "source": [
    "F7 = F6(F4)\n",
    "F7"
   ]
  },
  {
   "cell_type": "markdown",
   "id": "47c549a5-66d8-4870-ace8-4ae2abf14e7e",
   "metadata": {},
   "source": [
    "<b>Let</b> $F8$ be a function that tests commutativity between graph vertices and non-neighboring vertices. "
   ]
  },
  {
   "cell_type": "code",
   "execution_count": 239,
   "id": "b75e0fa1-fd84-49e3-87dd-6f0c67a9949d",
   "metadata": {},
   "outputs": [],
   "source": [
    "def F8(graph, printSummary = True):\n",
    "    commutativityCheck = True\n",
    "    listOfNonNeighbors = F6(graph)\n",
    "    for i in listOfNonNeighbors:\n",
    "        currentVertice = list(i.keys())[0]\n",
    "        currentNonNeighbors = list(i.values())[0]\n",
    "        for nonNeighbor in currentNonNeighbors:\n",
    "            currentVerticeMutation = F1(graph, currentVertice, returnUpdatedGraph=False, returnListOfPopulations=True, printSummary = False)\n",
    "            nonNeighborMutation = F1(graph, nonNeighbor, returnUpdatedGraph=False, returnListOfPopulations=True, printSummary = False)\n",
    "            \n",
    "            if printSummary:\n",
    "                print(\"\\nCurrent vertice * non-neighboring vertice: \", currentVerticeMutation * nonNeighborMutation)\n",
    "                print(\"Non-neighboring vertice * current vertice: \", nonNeighborMutation * currentVerticeMutation)\n",
    "            \n",
    "            equalityCheck = currentVerticeMutation * nonNeighborMutation == nonNeighborMutation * currentVerticeMutation\n",
    "            \n",
    "            \n",
    "            for k in equalityCheck:\n",
    "                if not k:\n",
    "                    commutativityCheck = False\n",
    "    return(commutativityCheck)\n"
   ]
  },
  {
   "cell_type": "markdown",
   "id": "c2eb957a-bfe7-4489-ad2a-176f71df72e0",
   "metadata": {},
   "source": [
    "<b>Let</b> $F9$ be a verification of commutativity between graph vertices and non-neighboring vertices"
   ]
  },
  {
   "cell_type": "code",
   "execution_count": 240,
   "id": "56a2ba4d-3636-4117-96c8-9464850f12c5",
   "metadata": {},
   "outputs": [
    {
     "name": "stdout",
     "output_type": "stream",
     "text": [
      "\n",
      "Current vertice * non-neighboring vertice:  [a*(-a + b) b**2 c*(b - c + d) d**2]\n",
      "Non-neighboring vertice * current vertice:  [a*(-a + b) b**2 c*(b - c + d) d**2]\n",
      "\n",
      "Current vertice * non-neighboring vertice:  [a*(-a + b) b**2 c**2 d*(b + c - d)]\n",
      "Non-neighboring vertice * current vertice:  [a*(-a + b) b**2 c**2 d*(b + c - d)]\n",
      "\n",
      "Current vertice * non-neighboring vertice:  [a*(-a + b) b**2 c*(b - c + d) d**2]\n",
      "Non-neighboring vertice * current vertice:  [a*(-a + b) b**2 c*(b - c + d) d**2]\n",
      "\n",
      "Current vertice * non-neighboring vertice:  [a*(-a + b) b**2 c**2 d*(b + c - d)]\n",
      "Non-neighboring vertice * current vertice:  [a*(-a + b) b**2 c**2 d*(b + c - d)]\n"
     ]
    }
   ],
   "source": [
    "F9 = F8(F4)"
   ]
  },
  {
   "cell_type": "markdown",
   "id": "4d7bbcbd-97ad-4fa0-8a1c-02c1d9867952",
   "metadata": {},
   "source": [
    "<b>Observe</b>: Property 3 is verified for this graph\n",
    "\n",
    "<b>Observe</b>: Property 4 (the braid relation) states that, if $x$ and $y$ are neighbors, then $ S_x S_y S_x = S_y S_x S_y $. This can be verified in the example below. "
   ]
  },
  {
   "cell_type": "markdown",
   "id": "ef3713b7-c20e-4722-82f8-a4c97d2e4688",
   "metadata": {},
   "source": [
    "<b>Let</b> $F12$ be an example showing the result of applying the left hand side of property $4$ using the graph $F4$."
   ]
  },
  {
   "cell_type": "code",
   "execution_count": 241,
   "id": "ed256696-c36b-4b08-a99f-887b34f57f0e",
   "metadata": {},
   "outputs": [
    {
     "name": "stdout",
     "output_type": "stream",
     "text": [
      "Node choice x \n",
      "Node details {'population': a} \n",
      "Change in node population  a -> -a + b\n",
      "Updated node populations of graph:  [-a + b, b, c, d] \n",
      "\n",
      "Node choice y \n",
      "Node details {'population': b} \n",
      "Change in node population  b -> -a + c + d\n",
      "Updated node populations of graph:  [-a + b, -a + c + d, c, d] \n",
      "\n",
      "Node choice x \n",
      "Node details {'population': -a + b} \n",
      "Change in node population  -a + b -> -b + c + d\n",
      "Updated node populations of graph:  [-b + c + d, -a + c + d, c, d] \n",
      "\n"
     ]
    }
   ],
   "source": [
    "F10 = F1(F4, \"x\", returnUpdatedGraph=True)\n",
    "F11 = F1(F10, \"y\", returnUpdatedGraph=True)\n",
    "F12 = F1(F11, \"x\", returnUpdatedGraph=True)"
   ]
  },
  {
   "cell_type": "markdown",
   "id": "e0ed18e7-e38d-4139-964c-3f76cd11cbbc",
   "metadata": {},
   "source": [
    "<b>Let</b> $F15$ be the result of applying the right hand side of property $4$ using the graph $F4$."
   ]
  },
  {
   "cell_type": "code",
   "execution_count": 242,
   "id": "3434d63e-3ed1-447b-a0bd-016e676e26dc",
   "metadata": {},
   "outputs": [
    {
     "name": "stdout",
     "output_type": "stream",
     "text": [
      "Node choice y \n",
      "Node details {'population': b} \n",
      "Change in node population  b -> a - b + c + d\n",
      "Updated node populations of graph:  [a, a - b + c + d, c, d] \n",
      "\n",
      "Node choice x \n",
      "Node details {'population': a} \n",
      "Change in node population  a -> -b + c + d\n",
      "Updated node populations of graph:  [-b + c + d, a - b + c + d, c, d] \n",
      "\n",
      "Node choice y \n",
      "Node details {'population': a - b + c + d} \n",
      "Change in node population  a - b + c + d -> -a + c + d\n",
      "Updated node populations of graph:  [-b + c + d, -a + c + d, c, d] \n",
      "\n"
     ]
    }
   ],
   "source": [
    "F13 = F1(F4, \"y\", returnUpdatedGraph=True)\n",
    "F14 = F1(F13, \"x\", returnUpdatedGraph=True)\n",
    "F15 = F1(F14, \"y\", returnUpdatedGraph=True)"
   ]
  },
  {
   "cell_type": "markdown",
   "id": "7f1addfd-fadd-4bb0-8f6f-53dd87ed2d61",
   "metadata": {},
   "source": [
    "<b>Observe</b>: that the example supports property 4, that $ S_x S_y S_x = S_y S_x S_y $"
   ]
  },
  {
   "cell_type": "markdown",
   "id": "5085ec35-1051-4005-8d21-a6157a374138",
   "metadata": {},
   "source": [
    "<hr/>\n",
    "\n",
    "<b>Aim</b> Introduce the idea of a Root System\n",
    "\n",
    "<hr/>"
   ]
  },
  {
   "cell_type": "markdown",
   "id": "ade749f0-37e4-4d32-8ac6-1c9160b2ece7",
   "metadata": {},
   "source": [
    "<b>Definition</b>: For a simple graph with a singleton graph population, the <b>root</b> of this graph, here denoted $X$, is any population that is obtainable from any number of successive mutations (i.e. successive applications of the function $ps_x$ a singleton population)\n",
    "\n",
    "<b>Definition</b> All the possible roots of the graph can be denoted as $R(X)$\n",
    "\n",
    "<b>Observe</b>: A critical question in the study of graphs asks: which simple graphs, denoted $X$ have a finite number of roots or root populations?\n",
    "\n",
    "\n",
    "<b>Observe</b>: Whether or not a graph has a finite number of root populations will depend on the structure of the graphs.\n",
    "\n",
    "<b>Observe</b> Consider the example below with successive applications. \n"
   ]
  },
  {
   "cell_type": "markdown",
   "id": "0ad493d9-9669-46da-b7d8-90bb60a99ad6",
   "metadata": {},
   "source": [
    "<b>Let</b> $F18$ be a new graph with a singleton population, visualised with $F19$."
   ]
  },
  {
   "cell_type": "code",
   "execution_count": 261,
   "id": "8da751f9-4218-4764-bf88-508d2ad7e42d",
   "metadata": {},
   "outputs": [
    {
     "data": {
      "text/html": [
       "\n",
       "        <iframe\n",
       "            width=\"600px\"\n",
       "            height=\"500px\"\n",
       "            src=\"nx.html\"\n",
       "            frameborder=\"0\"\n",
       "            allowfullscreen\n",
       "        ></iframe>\n",
       "        "
      ],
      "text/plain": [
       "<IPython.lib.display.IFrame at 0x7f716c5d4c40>"
      ]
     },
     "execution_count": 261,
     "metadata": {},
     "output_type": "execute_result"
    }
   ],
   "source": [
    "F16 = [\n",
    "    (\"x\", {\"population\": 0}),\n",
    "    (\"y\", {\"population\": 1}),\n",
    "    (\"z\", {\"population\": 0}),\n",
    "    (\"w\", {\"population\": 0})]\n",
    "\n",
    "F17 = [(\"x\",\"y\"),\n",
    "      (\"y\",\"z\"),\n",
    "      (\"y\",\"w\"),\n",
    "      (\"w\",\"z\")]\n",
    "\n",
    "F18 = nx.Graph()\n",
    "\n",
    "F18.add_nodes_from(F16)\n",
    "F18.add_edges_from(F17)\n",
    "\n",
    "F19 = nt.Network(width = \"600px\", notebook = True)\n",
    "F19.from_nx(F18)\n",
    "F19.show('nx.html')"
   ]
  },
  {
   "cell_type": "markdown",
   "id": "16e13f9d-326f-4388-9ed3-f16f251a53b1",
   "metadata": {},
   "source": [
    "<b>Let</b> $F20$ be a function that that applied the population transformation function, $ps_x$ to a graph over a chosen number of iterations for a chosen list of verticies"
   ]
  },
  {
   "cell_type": "code",
   "execution_count": 397,
   "id": "dfea3187-a892-44f3-a467-ef3004c74d96",
   "metadata": {},
   "outputs": [],
   "source": [
    "def F20(graphChoice, vertices, iterations, returnSetOfAllPopulations = True):\n",
    "    setOfAllPopulations = []\n",
    "    graph = graphChoice\n",
    "    for i in range(iterations):\n",
    "        for j in vertices:\n",
    "            udpatedGraphAndPopulation = F1(graph, j, returnAllAsDict=True, printSummary = False)\n",
    "            graph = udpatedGraphAndPopulation['graph']\n",
    "            population = udpatedGraphAndPopulation['population']\n",
    "            setOfAllPopulations.append(population)\n",
    "            \n",
    "    print(\"Number of unique populations: \", len(list(set([tuple(i) for i in [list(i) for i in setOfAllPopulations]]))))\n",
    "    if returnSetOfAllPopulations:\n",
    "        return(setOfAllPopulations)"
   ]
  },
  {
   "cell_type": "markdown",
   "id": "7d9a2844-bb9a-493a-9627-9c9d71a60f69",
   "metadata": {},
   "source": [
    "<b>Let</b> $F21$ be the successive application of $F20$."
   ]
  },
  {
   "cell_type": "code",
   "execution_count": 398,
   "id": "9d5ddf21-f75e-46c2-8a72-c6d67dbff307",
   "metadata": {},
   "outputs": [
    {
     "name": "stdout",
     "output_type": "stream",
     "text": [
      "Number of unique populations:  20\n"
     ]
    },
    {
     "data": {
      "text/plain": [
       "[array([1, 1, 0, 0]),\n",
       " array([1, 1, 0, 1]),\n",
       " array([1, 1, 2, 1]),\n",
       " array([1, 3, 2, 1]),\n",
       " array([2, 3, 2, 1]),\n",
       " array([2, 3, 2, 4]),\n",
       " array([2, 3, 5, 4]),\n",
       " array([2, 8, 5, 4]),\n",
       " array([6, 8, 5, 4]),\n",
       " array([6, 8, 5, 9]),\n",
       " array([ 6,  8, 12,  9]),\n",
       " array([ 6, 19, 12,  9]),\n",
       " array([13, 19, 12,  9]),\n",
       " array([13, 19, 12, 22]),\n",
       " array([13, 19, 29, 22]),\n",
       " array([13, 45, 29, 22]),\n",
       " array([32, 45, 29, 22]),\n",
       " array([32, 45, 29, 52]),\n",
       " array([32, 45, 68, 52]),\n",
       " array([ 32, 107,  68,  52])]"
      ]
     },
     "execution_count": 398,
     "metadata": {},
     "output_type": "execute_result"
    }
   ],
   "source": [
    "F21 = F20(F18, ['x', 'w', 'z', 'y'], 5)\n",
    "F21"
   ]
  },
  {
   "cell_type": "markdown",
   "id": "d0803a96-7932-4ec5-bf44-424e5e0f6b5b",
   "metadata": {},
   "source": [
    "<b>Observe</b>: There appears to be non-finite number of root populations. \n",
    "\n",
    "<b>Observe</b>: Consider a second example, which resemembles an $A_n$ graph\n",
    "\n",
    "<b>Let</b>: $F24$ be a $A_n$ simple graph with a singleton population, visualised in $F25$"
   ]
  },
  {
   "cell_type": "code",
   "execution_count": 399,
   "id": "8786915f-ea5f-4afe-aa7f-4e90a56d236f",
   "metadata": {},
   "outputs": [
    {
     "data": {
      "text/html": [
       "\n",
       "        <iframe\n",
       "            width=\"600px\"\n",
       "            height=\"500px\"\n",
       "            src=\"nx.html\"\n",
       "            frameborder=\"0\"\n",
       "            allowfullscreen\n",
       "        ></iframe>\n",
       "        "
      ],
      "text/plain": [
       "<IPython.lib.display.IFrame at 0x7f716ccb5220>"
      ]
     },
     "execution_count": 399,
     "metadata": {},
     "output_type": "execute_result"
    }
   ],
   "source": [
    "F22 = [\n",
    "    (\"u\", {\"population\": 0}),\n",
    "    (\"v\", {\"population\": 1}),\n",
    "    (\"w\", {\"population\": 0}),\n",
    "    (\"x\", {\"population\": 0}),\n",
    "    (\"y\", {\"population\": 0}),\n",
    "    (\"z\", {\"population\": 0}),]\n",
    "\n",
    "F23 = [(\"u\",\"v\"),\n",
    "      (\"v\",\"w\"),\n",
    "      (\"w\",\"x\"),\n",
    "      (\"x\",\"y\"),\n",
    "      (\"y\",\"z\")]\n",
    "\n",
    "F24 = nx.Graph()\n",
    "\n",
    "F24.add_nodes_from(F22)\n",
    "F24.add_edges_from(F23)\n",
    "\n",
    "F25 = nt.Network(width = \"600px\", notebook = True)\n",
    "F25.from_nx(F24)\n",
    "F25.show('nx.html')"
   ]
  },
  {
   "cell_type": "markdown",
   "id": "3526877d-63ea-4def-bafc-22e63361beda",
   "metadata": {},
   "source": [
    "<b>Let</b> $F26$ be number of unique root populations obtained from 50 iterations of the function $F20$ with the duplicate results removed."
   ]
  },
  {
   "cell_type": "code",
   "execution_count": 400,
   "id": "ceb11f67-631b-4997-9803-fe48cdc0c60c",
   "metadata": {},
   "outputs": [
    {
     "name": "stdout",
     "output_type": "stream",
     "text": [
      "Number of unique populations:  22\n"
     ]
    }
   ],
   "source": [
    "F26 = F20(F24, ['u', 'v', 'w', 'x', 'y', 'z'], 50)"
   ]
  },
  {
   "cell_type": "markdown",
   "id": "d36a3dba-1134-4d7d-b555-2124cec8364e",
   "metadata": {},
   "source": [
    "<b>Observe</b>: It can be seen when increasing the number of iterations, the maximum it appears to reach will be 22 root populations"
   ]
  },
  {
   "cell_type": "code",
   "execution_count": 402,
   "id": "0e44f837-2438-4581-b27b-49dba004987f",
   "metadata": {},
   "outputs": [
    {
     "name": "stdout",
     "output_type": "stream",
     "text": [
      "Number of unique populations:  0\n",
      "Number of unique populations:  2\n",
      "Number of unique populations:  8\n",
      "Number of unique populations:  14\n",
      "Number of unique populations:  16\n",
      "Number of unique populations:  18\n",
      "Number of unique populations:  20\n",
      "Number of unique populations:  22\n",
      "Number of unique populations:  22\n",
      "Number of unique populations:  22\n"
     ]
    },
    {
     "data": {
      "text/plain": [
       "[None, None, None, None, None, None, None, None, None, None]"
      ]
     },
     "execution_count": 402,
     "metadata": {},
     "output_type": "execute_result"
    }
   ],
   "source": [
    "[F20(F24, ['u', 'v', 'w', 'x', 'y', 'z'], i, returnSetOfAllPopulations=False) for i in range(10)]"
   ]
  },
  {
   "cell_type": "markdown",
   "id": "82b26f48-824e-44b9-a8a4-d8eb33650fb4",
   "metadata": {},
   "source": [
    "<b>Observe</b>: that after 7 iterations for $A_6$ graph, 22 unique results are always returned\n",
    "\n",
    "<b>Let</b> $F27$ be a function to create graphs with a given population and edges to faciliate testing the root populations of different graph types."
   ]
  },
  {
   "cell_type": "code",
   "execution_count": 403,
   "id": "9b26fc35-ff4f-47e9-910e-68faee2270a8",
   "metadata": {},
   "outputs": [],
   "source": [
    "def F27(population, edges):\n",
    "    numberOfVerticies = len(edges) + 1\n",
    "    verticeLabels = list(string.ascii_lowercase)[0:numberOfVerticies]\n",
    "    vertices = [(verticeLabels[i], {\"population\": population[i]}) for i in range(numberOfVerticies)]\n",
    "    graph = nx.Graph()\n",
    "    graph.add_nodes_from(vertices)\n",
    "    graph.add_edges_from(edges)\n",
    "    return(graph)"
   ]
  },
  {
   "cell_type": "markdown",
   "id": "d62f992e-ecc9-4852-b328-fc910cd0e027",
   "metadata": {},
   "source": [
    "<b>Let</b> $F28$ be an example of an $A_8$ population. "
   ]
  },
  {
   "cell_type": "code",
   "execution_count": 406,
   "id": "e295976e-57d0-481b-9006-486dcfc69d76",
   "metadata": {},
   "outputs": [],
   "source": [
    "F28 = F27([0, 1, 0, 0, 0, 0, 0, 0], [(\"a\",\"b\"),(\"b\",\"c\"),(\"c\",\"d\"),(\"d\",\"e\"),(\"e\",\"f\"), (\"f\",\"g\"), (\"g\",\"h\")] )"
   ]
  },
  {
   "cell_type": "markdown",
   "id": "f577d506-a2d5-4430-abfd-66b01c323329",
   "metadata": {},
   "source": [
    "<b>Let</b> $F29$ be another example of a $A_n$ graph, with 8 vertices.\n",
    "\n",
    "<b>Observe</b>: that the order of mutations can be changed but it appears the same ceiling value will be reached. "
   ]
  },
  {
   "cell_type": "code",
   "execution_count": 424,
   "id": "da4676da-9b4e-429d-86cf-20536a3d871f",
   "metadata": {},
   "outputs": [
    {
     "name": "stdout",
     "output_type": "stream",
     "text": [
      "Number of unique populations:  0\n",
      "Number of unique populations:  2\n",
      "Number of unique populations:  5\n",
      "Number of unique populations:  12\n",
      "Number of unique populations:  17\n",
      "Number of unique populations:  19\n",
      "Number of unique populations:  22\n",
      "Number of unique populations:  24\n",
      "Number of unique populations:  27\n",
      "Number of unique populations:  30\n",
      "Number of unique populations:  30\n",
      "Number of unique populations:  30\n",
      "\n",
      "Number of unique populations:  0\n",
      "Number of unique populations:  3\n",
      "Number of unique populations:  8\n",
      "Number of unique populations:  11\n",
      "Number of unique populations:  16\n",
      "Number of unique populations:  18\n",
      "Number of unique populations:  21\n",
      "Number of unique populations:  24\n",
      "Number of unique populations:  27\n",
      "Number of unique populations:  30\n",
      "Number of unique populations:  30\n",
      "Number of unique populations:  30\n",
      "\n",
      "Number of unique populations:  0\n",
      "Number of unique populations:  3\n",
      "Number of unique populations:  9\n",
      "Number of unique populations:  12\n",
      "Number of unique populations:  17\n",
      "Number of unique populations:  19\n",
      "Number of unique populations:  21\n",
      "Number of unique populations:  24\n",
      "Number of unique populations:  27\n",
      "Number of unique populations:  30\n",
      "Number of unique populations:  30\n",
      "Number of unique populations:  30\n"
     ]
    }
   ],
   "source": [
    "F29 = [F20(F28, ['a', 'b', 'd', 'c', 'e', 'f', 'h', 'g'], i) for i in range(12)]\n",
    "print()\n",
    "F30 = [F20(F28, ['b', 'a', 'd', 'c', 'e', 'f', 'h', 'g'], i) for i in range(12)]\n",
    "print()\n",
    "F31 = [F20(F28, ['b', 'a', 'd', 'e', 'c', 'f', 'g', 'h'], i) for i in range(12)]\n"
   ]
  },
  {
   "cell_type": "markdown",
   "id": "f61bbb83-53a1-4afa-8ef0-3b8db48b4744",
   "metadata": {},
   "source": [
    "<b>Observe</b>: The graph $D_6$ can also be explored. "
   ]
  },
  {
   "cell_type": "code",
   "execution_count": 430,
   "id": "86d879e8-b526-4507-afaa-2efd58a2825c",
   "metadata": {},
   "outputs": [],
   "source": [
    "F32 = F27([0, 0, 0, 0, 1, 0], [(\"a\",\"b\"),(\"b\",\"c\"),(\"c\",\"d\"),(\"c\",\"e\"),(\"e\",\"f\")] )"
   ]
  },
  {
   "cell_type": "code",
   "execution_count": 432,
   "id": "7173dda3-ba23-4630-9e15-6a31ca6844f7",
   "metadata": {},
   "outputs": [
    {
     "name": "stdout",
     "output_type": "stream",
     "text": [
      "Number of unique populations:  0\n",
      "Number of unique populations:  3\n",
      "Number of unique populations:  7\n",
      "Number of unique populations:  10\n",
      "Number of unique populations:  13\n",
      "Number of unique populations:  14\n",
      "Number of unique populations:  16\n",
      "Number of unique populations:  21\n",
      "Number of unique populations:  25\n",
      "Number of unique populations:  28\n",
      "Number of unique populations:  31\n",
      "Number of unique populations:  35\n",
      "Number of unique populations:  36\n",
      "Number of unique populations:  36\n",
      "Number of unique populations:  36\n",
      "\n"
     ]
    }
   ],
   "source": [
    "F33 = [F20(F32, ['a', 'b', 'd', 'c', 'e', 'f'], i) for i in range(15)]\n",
    "print()"
   ]
  },
  {
   "cell_type": "markdown",
   "id": "7a8edb8d-ff36-47f3-a48a-fe383ef84035",
   "metadata": {},
   "source": [
    "<hr/>\n",
    "<b>Summary</b>: It appears that certain types of graphs (which may be the ADE graphs) have a finite number of root populations. \n",
    "\n",
    "<hr/>"
   ]
  }
 ],
 "metadata": {
  "kernelspec": {
   "display_name": "Python 3",
   "language": "python",
   "name": "python3"
  },
  "language_info": {
   "codemirror_mode": {
    "name": "ipython",
    "version": 3
   },
   "file_extension": ".py",
   "mimetype": "text/x-python",
   "name": "python",
   "nbconvert_exporter": "python",
   "pygments_lexer": "ipython3",
   "version": "3.9.2"
  }
 },
 "nbformat": 4,
 "nbformat_minor": 5
}
