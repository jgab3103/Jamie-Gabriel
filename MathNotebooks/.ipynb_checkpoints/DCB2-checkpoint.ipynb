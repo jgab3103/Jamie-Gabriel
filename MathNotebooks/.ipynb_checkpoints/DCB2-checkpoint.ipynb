{
 "cells": [
  {
   "cell_type": "markdown",
   "id": "7d5acee6-208e-4581-acab-cb0690109096",
   "metadata": {},
   "source": [
    "<i>STATUS: Draft</i>\n",
    "\n",
    "<div>These notes are based on Prof. Norman Wildberger's lectures on Algebraic Calculus and de Casteljau Bezier (dCB) curves  found <a href=\"https://www.youtube.com/watch?v=nKqbpN8lmVQ&t=2907s\">here</a>. They are being hosted at <a href=\"https://www.ladatavita.com/\">ladatavita.com</a> and available from my Github repo at: <a href=\"https://github.com/jgab3103/Jamie-Gabriel/tree/main/MathNotebooks\">https://github.com/jgab3103/Jamie-Gabriel/tree/main/MathNotebooks</a></div>\n",
    "\n",
    "<hr/>"
   ]
  },
  {
   "cell_type": "code",
   "execution_count": 1,
   "id": "5f97809a-7cea-49bc-ab98-e30a10ae3d7f",
   "metadata": {},
   "outputs": [],
   "source": [
    "import numpy as np\n",
    "import sympy as sp\n",
    "from IPython.display import HTML, IFrame\n",
    "import ipywidgets as widgets\n",
    "import matplotlib as mpl\n",
    "from mpl_toolkits.mplot3d import Axes3D\n",
    "import matplotlib.pyplot as plt\n",
    "mpl.rcParams['legend.fontsize'] = 10\n",
    "import pandas as pd\n",
    "import itertools\n",
    "from IPython.display import Image\n",
    "import math\n",
    "\n",
    "\n",
    "\n",
    "# function to print latex\n",
    "def renderListToLatex(e):\n",
    "    latex_rendering = []\n",
    "\n",
    "    for i in range(len(e)):\n",
    "        latex_rendering.append(\"$$\" + sp.latex(e[i]) + \"$$\")\n",
    "    \n",
    "    return(HTML(\"\".join(latex_rendering[0:])))"
   ]
  },
  {
   "cell_type": "markdown",
   "id": "0cea8ce5-c330-4bda-90d3-4965cb3e22f2",
   "metadata": {},
   "source": [
    "### De Casteljau's Algorithm and Splitting dCB Curves"
   ]
  },
  {
   "cell_type": "code",
   "execution_count": null,
   "id": "76b6e307-421d-451f-874f-e63abeec9eb9",
   "metadata": {},
   "outputs": [],
   "source": []
  }
 ],
 "metadata": {
  "kernelspec": {
   "display_name": "Python 3",
   "language": "python",
   "name": "python3"
  },
  "language_info": {
   "codemirror_mode": {
    "name": "ipython",
    "version": 3
   },
   "file_extension": ".py",
   "mimetype": "text/x-python",
   "name": "python",
   "nbconvert_exporter": "python",
   "pygments_lexer": "ipython3",
   "version": "3.9.2"
  }
 },
 "nbformat": 4,
 "nbformat_minor": 5
}
