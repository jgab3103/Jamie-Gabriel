{
 "cells": [
  {
   "cell_type": "markdown",
   "id": "cd785232-2f3d-43dc-94af-0076a1ab2517",
   "metadata": {},
   "source": [
    "<hr/>\n",
    "\n",
    "<b>Notebook Summary</b>\n",
    "\n",
    "The purpose of this notebook is a continuation of ES1_1, which introduces some basic properties of graphs and provide examples and proofs that demonstrate these properties. It will also introduce the \"mutation game\" which can be used to demonstrate these properties. \n",
    "\n",
    "These notes are based on Prof. Norman Wildberger's lectures on Dynamics on Graphs which can be found <a href=\"https://www.youtube.com/c/WildEggmathematicscourses/featured\">here</a>. Note that the notes for this lecture have been spread over a number of notebooks (ES1_1, ES1_2, ES1_3 and ES1_4)\n",
    "    \n",
    "They notes are are being hosted at my website <a href=\"https://www.ladatavita.com/\">ladatavita.com</a> and the Jupyter notebook is also available from my Github repo at: <a href=\"https://github.com/jgab3103/Jamie-Gabriel/tree/main/MathNotebooks\">https://github.com/jgab3103/Jamie-Gabriel/tree/main/MathNotebooks</a>\n",
    "\n",
    "\n",
    "\n",
    "<hr/>"
   ]
  },
  {
   "cell_type": "code",
   "execution_count": 2,
   "id": "8f5dc6a8-8a04-42ed-b738-229121afe4e6",
   "metadata": {},
   "outputs": [],
   "source": [
    "import pyvis.network as nt\n",
    "import numpy as np\n",
    "import sympy as sp\n",
    "from IPython.display import HTML\n",
    "import ipywidgets as widgets\n",
    "import matplotlib as mpl\n",
    "from mpl_toolkits.mplot3d import Axes3D\n",
    "import matplotlib.pyplot as plt\n",
    "mpl.rcParams['legend.fontsize'] = 10\n",
    "import pandas as pd\n",
    "import networkx as nx"
   ]
  },
  {
   "cell_type": "markdown",
   "id": "99459852-1277-49fa-bb4f-0887724714e1",
   "metadata": {},
   "source": [
    "<hr/>\n",
    "<b>Aim</b>: Continue to demonstrate the properties of the mutation function on simple graphs\n",
    "<hr/>\n",
    "\n",
    "<b>Observe</b>: Recall that the population function (introduced in ES1_1), $ps_x$ has the following properties:  \n",
    "\n",
    "1. If $p$ and $q$ are populations, $P(X)$ is a space of populations, and $p, q \\in P(X)$, then $(p + q)s_x = ps_x + qs_x$ so it is a linear operator and can be applied pointwise and if $n \\in \\text{Int}$, then $(np)s_x = n(ps_x)$\n",
    "\n",
    "2. $s_x^2 \\equiv \\text{Identity}$. Performing the same mutation in succession will produce the original graph population.\n",
    "\n",
    "3. If $x$ and $y$ are non-neighboring vertices, then the $S_xS_y \\equiv S_yS_x$, meaning they are commutative\n",
    "\n",
    "\n",
    "<b>Observe</b>: A consequence of property $3$, it is the case that: \n",
    "\n",
    "$$ (pS_x)S_y = p(S_xS_y) \\equiv (pS_y)S_x = p(S_yS_x) $$\n",
    "\n",
    "\n",
    "Note that the mutation functino, $S_i$ is, by convention, written on the rhs of the populations it is are acting on. This means that\n",
    "However in general they do not have to \n",
    "\n",
    "4. (The braid relation) If $x$ and $y$ are neighbors, then: \n",
    "\n",
    "\n",
    "\n",
    "$$ S_x S_y S_x = S_y S_x S_y $$\n",
    "\n",
    "<b>Observe</b>: It can be shows that the relation $(S_xS_y)^3 = \\text{identity}$\n",
    "\n"
   ]
  },
  {
   "cell_type": "markdown",
   "id": "23d36d79-033b-4590-abc3-a74ad454432b",
   "metadata": {},
   "source": [
    "<b>Let</b> $F1$ be an implementation of the population function $ps_x$"
   ]
  },
  {
   "cell_type": "code",
   "execution_count": 3,
   "id": "6e993278-7213-491a-a190-3116de6ff2b9",
   "metadata": {},
   "outputs": [],
   "source": [
    "def F1(graph, nodeChoice, printSummary = True, returnUpdatedGraph = True):\n",
    "   \n",
    "    edgesOfChosenNode = list(nx.edges(graph, [nodeChoice]))\n",
    "   \n",
    "    neigborOfChosenNode = [edgesOfChosenNode[i][1] for i in range(len(list(edgesOfChosenNode)))]\n",
    "    nodeChoicePopulation = graph.nodes[nodeChoice]['population']\n",
    "    sumOfNeighborsOfChosenNode = np.sum([graph.nodes[i]['population'] for i in neigborOfChosenNode])\n",
    "    populationOfNode = -nodeChoicePopulation + sumOfNeighborsOfChosenNode\n",
    "    updatedGraph = graph.copy()\n",
    "    updatedGraph.nodes[nodeChoice]['population'] = populationOfNode\n",
    "\n",
    "    newPopulations = [updatedGraph.nodes[i]['population'] for i in list(updatedGraph)]\n",
    "    if printSummary:\n",
    "        print(\"Node choice\", \n",
    "              nodeChoice,\n",
    "              \"\\nNode details\",\n",
    "              nx.nodes(graph)[nodeChoice],\n",
    "              \"\\nChange in node population \",\n",
    "              nx.nodes(graph)[nodeChoice]['population'], \n",
    "              \"->\", \n",
    "              populationOfNode)\n",
    "        print(\"Updated node populations of graph: \", newPopulations, \"\\n\")\n",
    "\n",
    "    \n",
    "\n",
    "    return(updatedGraph)"
   ]
  },
  {
   "cell_type": "markdown",
   "id": "e72bca2a-c5d5-4780-ae0c-aad9ab27cb0d",
   "metadata": {},
   "source": [
    "<b>Observe</b>: The first property was demonstrated in the previous notebook (ES1_1). The second propert,y,  $s_x^2 \\equiv \\text{Identity}$ can be demonstrated using the following example"
   ]
  },
  {
   "cell_type": "markdown",
   "id": "69ddb9c2-63b7-4f87-bc24-eda77088d26c",
   "metadata": {},
   "source": [
    "<b>Let</b> $a, b, c$ and $d$"
   ]
  },
  {
   "cell_type": "code",
   "execution_count": 11,
   "id": "f897b431-13a7-44f5-b629-eea01ec70e81",
   "metadata": {},
   "outputs": [],
   "source": [
    "a, b, c, d = sp.symbols('a, b, c, d')"
   ]
  },
  {
   "cell_type": "code",
   "execution_count": 12,
   "id": "9eaf3f63-786e-4b61-9150-84114b66c9ce",
   "metadata": {},
   "outputs": [],
   "source": [
    "F2 = [\n",
    "    (\"x\", {\"population\": a}),\n",
    "    (\"y\", {\"population\": b}),\n",
    "    (\"z\", {\"population\": c}),\n",
    "    (\"w\", {\"population\": d})]\n",
    "\n",
    "F3 = [(\"x\",\"y\"),\n",
    "      (\"y\",\"z\"),\n",
    "      (\"y\",\"w\"),\n",
    "      (\"w\",\"z\")]\n",
    "\n",
    "F4 = nx.Graph()\n",
    "\n",
    "F4.add_nodes_from(F2)\n",
    "F4.add_edges_from(F3)"
   ]
  },
  {
   "cell_type": "markdown",
   "id": "07181fde-c4fb-43aa-922b-de036a62eb33",
   "metadata": {},
   "source": [
    "<b>Let</b>: $F5$ be the application fo $S_x^2$"
   ]
  },
  {
   "cell_type": "code",
   "execution_count": 14,
   "id": "a1785214-97e7-4f99-9dda-7a5d739dff2c",
   "metadata": {},
   "outputs": [
    {
     "name": "stdout",
     "output_type": "stream",
     "text": [
      "Node choice x \n",
      "Node details {'population': a} \n",
      "Change in node population  a -> -a + b\n",
      "Updated node populations of graph:  [-a + b, b, c, d] \n",
      "\n",
      "Node choice x \n",
      "Node details {'population': -a + b} \n",
      "Change in node population  -a + b -> a\n",
      "Updated node populations of graph:  [a, b, c, d] \n",
      "\n"
     ]
    }
   ],
   "source": [
    "F5 = F1(F1(F4, 'x'), 'x')"
   ]
  },
  {
   "cell_type": "code",
   "execution_count": null,
   "id": "b54f1c74-dda7-4868-9cde-a6efa213fa10",
   "metadata": {},
   "outputs": [],
   "source": []
  },
  {
   "cell_type": "code",
   "execution_count": null,
   "id": "8353711f-f4f8-4b0b-a86a-35b3ca0048f5",
   "metadata": {},
   "outputs": [],
   "source": []
  },
  {
   "cell_type": "code",
   "execution_count": null,
   "id": "a3ad2238-2bb6-4549-80bd-4b7fa1067dcd",
   "metadata": {},
   "outputs": [],
   "source": []
  },
  {
   "cell_type": "code",
   "execution_count": null,
   "id": "d8da8459-596e-4ea6-842a-e99a8aae3834",
   "metadata": {},
   "outputs": [],
   "source": []
  },
  {
   "cell_type": "code",
   "execution_count": null,
   "id": "6aa05c0a-a4f1-4f8d-912a-5fce45d94326",
   "metadata": {},
   "outputs": [],
   "source": []
  },
  {
   "cell_type": "code",
   "execution_count": null,
   "id": "4ed5c9a5-4588-495f-81d4-1abbae8386b3",
   "metadata": {},
   "outputs": [],
   "source": []
  },
  {
   "cell_type": "markdown",
   "id": "ef3713b7-c20e-4722-82f8-a4c97d2e4688",
   "metadata": {},
   "source": [
    "<b>Let</b> $F26$ be an example show the result of applying the left hand side of property $4$ using the graph $F23$."
   ]
  },
  {
   "cell_type": "code",
   "execution_count": 177,
   "id": "ed256696-c36b-4b08-a99f-887b34f57f0e",
   "metadata": {},
   "outputs": [
    {
     "name": "stdout",
     "output_type": "stream",
     "text": [
      "Node choice x \n",
      "Node details {'population': 4} \n",
      "Change in node population  4 -> -1\n",
      "Updated node populations of graph:  [-1, 3, -1, 5] \n",
      "\n",
      "Node choice y \n",
      "Node details {'population': 3} \n",
      "Change in node population  3 -> 0\n",
      "Updated node populations of graph:  [-1, 0, -1, 5] \n",
      "\n",
      "Node choice x \n",
      "Node details {'population': -1} \n",
      "Change in node population  -1 -> 1\n",
      "Updated node populations of graph:  [1, 0, -1, 5] \n",
      "\n"
     ]
    }
   ],
   "source": [
    "F25 = F20(F23, \"x\", returnUpdatedGraph=True)\n",
    "F26 = F20(F25, \"y\", returnUpdatedGraph=True)\n",
    "F27 = F20(F26, \"x\", returnUpdatedGraph=True)"
   ]
  },
  {
   "cell_type": "markdown",
   "id": "e0ed18e7-e38d-4139-964c-3f76cd11cbbc",
   "metadata": {},
   "source": [
    "<b>Let</b> $F30$ be the result of applying the right hand side of property $4$ using the graph $F23$."
   ]
  },
  {
   "cell_type": "code",
   "execution_count": 178,
   "id": "3434d63e-3ed1-447b-a0bd-016e676e26dc",
   "metadata": {},
   "outputs": [
    {
     "name": "stdout",
     "output_type": "stream",
     "text": [
      "Node choice y \n",
      "Node details {'population': 3} \n",
      "Change in node population  3 -> 5\n",
      "Updated node populations of graph:  [4, 5, -1, 5] \n",
      "\n",
      "Node choice x \n",
      "Node details {'population': 4} \n",
      "Change in node population  4 -> 1\n",
      "Updated node populations of graph:  [1, 5, -1, 5] \n",
      "\n",
      "Node choice y \n",
      "Node details {'population': 5} \n",
      "Change in node population  5 -> 0\n",
      "Updated node populations of graph:  [1, 0, -1, 5] \n",
      "\n"
     ]
    }
   ],
   "source": [
    "F28 = F20(F23, \"y\", returnUpdatedGraph=True)\n",
    "F29 = F20(F28, \"x\", returnUpdatedGraph=True)\n",
    "F30 = F20(F29, \"y\", returnUpdatedGraph=True)"
   ]
  },
  {
   "cell_type": "markdown",
   "id": "7f1addfd-fadd-4bb0-8f6f-53dd87ed2d61",
   "metadata": {},
   "source": [
    "<b>Observe</b>: that the example supports property 4, that $ S_x S_y S_x = S_y S_x S_y $"
   ]
  },
  {
   "cell_type": "markdown",
   "id": "89ca4881-cf0d-4d24-9902-af0635270214",
   "metadata": {},
   "source": [
    "<hr/>\n",
    "<b>Aim</b> Prove and verify\n",
    "\n",
    "Exercices - prove or verify these properties do algebraically"
   ]
  },
  {
   "cell_type": "markdown",
   "id": "5085ec35-1051-4005-8d21-a6157a374138",
   "metadata": {},
   "source": [
    "<hr/>\n",
    "\n",
    "<b>Aim</b> Introduce notion root system\n",
    "\n",
    "<hr/>"
   ]
  },
  {
   "cell_type": "markdown",
   "id": "ade749f0-37e4-4d32-8ac6-1c9160b2ece7",
   "metadata": {},
   "source": [
    "<b>Definition</b>: The root of a graph, denoted $X$ is any population obtainable from successive mutations (i.e. successive applications of the function $ps_x$ a singleton population . \n",
    "\n",
    "<b>Definition</b> All the roots of the graph can be denoted as, $R(X)$\n",
    "\n",
    "<b>Observe</b>: For ease of visualisation, below example singleton"
   ]
  },
  {
   "cell_type": "markdown",
   "id": "78d5f5c9-bea0-4cac-9625-ec57890b8983",
   "metadata": {},
   "source": [
    "<b>Observe</b>Any mutation using this function is possible. Note that not every population will be a root. excersice to see how many roots. \n",
    "\n",
    "Foundational exercise \n",
    "\n",
    "Which simple graphs $X$ have a finite number of roots or root populaitons\n",
    "\n",
    "Start wtih initial configruation, saw x0 y1 z0 w0. THen apply, for example x_s, will get 0,1, 0, 1\n",
    "\n",
    "Then s_z, will get 0, 1, 2, 1\n",
    "\n",
    "THen S_y will get 0, 2, 2, 1\n",
    "\n",
    "Keep on going, S_w, get 0, 2, 2, 3\n",
    "\n",
    "Then S_z, get 0, 2, 3, 3, \n",
    "\n",
    "Seems to be able to go around loop, we can keep increasing total population - unbounded number fo roots $R(X)$ for thsi graph is not finite\n",
    "\n",
    "What happens if graph has triangle like this - such a graph cannot have a finite set of roots. \n",
    "\n",
    "\n",
    "THis turns up in many areas of mathematics \n"
   ]
  },
  {
   "cell_type": "code",
   "execution_count": 156,
   "id": "bedc8b69-0794-4b58-b5ba-c93a6d45953d",
   "metadata": {},
   "outputs": [
    {
     "name": "stdout",
     "output_type": "stream",
     "text": [
      "Node choice x \n",
      "Node details {'population': 1, 'color': 'orange', 'size': 10} \n",
      "Change in node population  1 -> -1\n",
      "Updated node populations of graph:  [-1, 0, 0, 0] \n",
      "\n"
     ]
    }
   ],
   "source": [
    "x = F20(F32, \"x\", printSummary=True)"
   ]
  },
  {
   "cell_type": "code",
   "execution_count": 126,
   "id": "3373a981-8b83-4fe2-99ba-9ab4b1d5d4fa",
   "metadata": {},
   "outputs": [
    {
     "data": {
      "text/plain": [
       "NodeView(('x', 'y', 'z', 'w'))"
      ]
     },
     "execution_count": 126,
     "metadata": {},
     "output_type": "execute_result"
    }
   ],
   "source": [
    "x.nodes()"
   ]
  },
  {
   "cell_type": "code",
   "execution_count": null,
   "id": "5c27d452-4ed4-4a83-9495-190ab8d9de66",
   "metadata": {},
   "outputs": [],
   "source": []
  }
 ],
 "metadata": {
  "kernelspec": {
   "display_name": "Python 3",
   "language": "python",
   "name": "python3"
  },
  "language_info": {
   "codemirror_mode": {
    "name": "ipython",
    "version": 3
   },
   "file_extension": ".py",
   "mimetype": "text/x-python",
   "name": "python",
   "nbconvert_exporter": "python",
   "pygments_lexer": "ipython3",
   "version": "3.9.2"
  }
 },
 "nbformat": 4,
 "nbformat_minor": 5
}
