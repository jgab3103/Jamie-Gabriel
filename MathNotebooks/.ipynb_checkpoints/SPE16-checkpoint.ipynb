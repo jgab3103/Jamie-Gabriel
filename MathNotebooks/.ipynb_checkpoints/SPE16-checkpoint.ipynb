{
 "cells": [
  {
   "cell_type": "markdown",
   "metadata": {},
   "source": [
    "<i>STATUS: Draft<i>\n",
    "\n",
    "<div>These notes are based on Prof. Norman Wildberger's lectures on Solving Polynomial Equations found <a href=\"https://www.youtube.com/watch?v=XHC1YLh67Z0&list=PLzdiPTrEWyz7hk_Kzj4zDF_kUXBCtiGn6&index=1\">here</a>. They are being hosted at <a href=\"https://www.ladatavita.com/\">ladatavita.com</a> and available from my Github repo at: <a href=\"https://github.com/jgab3103/Jamie-Gabriel/tree/main/MathNotebooks\">https://github.com/jgab3103/Jamie-Gabriel/tree/main/MathNotebooks</a></div>\n",
    "\n",
    "<hr/>"
   ]
  },
  {
   "cell_type": "code",
   "execution_count": 46,
   "metadata": {},
   "outputs": [
    {
     "ename": "ModuleNotFoundError",
     "evalue": "No module named 'SVG'",
     "output_type": "error",
     "traceback": [
      "\u001b[0;31m---------------------------------------------------------------------------\u001b[0m",
      "\u001b[0;31mModuleNotFoundError\u001b[0m                       Traceback (most recent call last)",
      "\u001b[0;32m<ipython-input-46-5da422c1f5ce>\u001b[0m in \u001b[0;36m<module>\u001b[0;34m\u001b[0m\n\u001b[1;32m      2\u001b[0m \u001b[0;31m# !pip install -U treelib\u001b[0m\u001b[0;34m\u001b[0m\u001b[0;34m\u001b[0m\u001b[0;34m\u001b[0m\u001b[0m\n\u001b[1;32m      3\u001b[0m \u001b[0;31m# !pip install tskit\u001b[0m\u001b[0;34m\u001b[0m\u001b[0;34m\u001b[0m\u001b[0;34m\u001b[0m\u001b[0m\n\u001b[0;32m----> 4\u001b[0;31m \u001b[0;32mimport\u001b[0m \u001b[0mSVG\u001b[0m\u001b[0;34m\u001b[0m\u001b[0;34m\u001b[0m\u001b[0m\n\u001b[0m",
      "\u001b[0;31mModuleNotFoundError\u001b[0m: No module named 'SVG'"
     ]
    }
   ],
   "source": [
    "# extra dependency needed from standard setup\n",
    "# !pip install -U treelib\n",
    "# !pip install tskit"
   ]
  },
  {
   "cell_type": "code",
   "execution_count": 48,
   "metadata": {},
   "outputs": [],
   "source": [
    "import numpy as np\n",
    "import sympy as sp\n",
    "import pickle\n",
    "from IPython.display import HTML, SVG\n",
    "import ipywidgets as widgets\n",
    "import matplotlib as mpl\n",
    "from mpl_toolkits.mplot3d import Axes3D\n",
    "import matplotlib.pyplot as plt\n",
    "mpl.rcParams['legend.fontsize'] = 10\n",
    "import pandas as pd\n",
    "import itertools\n",
    "pd.set_option('display.max_colwidth', None)\n",
    "import treelib as tr\n",
    "import tskit as ts\n",
    "\n",
    "\n",
    "#\n",
    "\n",
    "# function to print latex\n",
    "def renderListToLatex(e):\n",
    "    latex_rendering = []\n",
    "\n",
    "    for i in range(len(e)):\n",
    "        latex_rendering.append(\"$$\" + sp.latex(e[i]) + \"$$<br/>\")\n",
    "    \n",
    "    return(HTML(\"\".join(latex_rendering[0:])))"
   ]
  },
  {
   "cell_type": "markdown",
   "metadata": {},
   "source": [
    "\n",
    "\n",
    "### Solving Polynomial Equations (16)"
   ]
  },
  {
   "cell_type": "markdown",
   "metadata": {},
   "source": [
    "<hr/>\n",
    "\n",
    "<b>Aim</b>: Understand how Catalan and Fuss numbers relate to binary and ternary trees and how these trees can be created from n-gons\n",
    "\n",
    "<hr/>"
   ]
  },
  {
   "cell_type": "markdown",
   "metadata": {},
   "source": [
    "<b>Observe</b>: a solution to a general cubic equation\n",
    "\n",
    "$$C(m_2, m_3)  \\equiv(-1)^{m_3 + 1} \\frac{(2 m_{2} + 3 m_{3})!}{(1 + m_{2} + 2 m_{3})!m_2!m_3!} \\frac{c_0^{1 + m_{2} + 2 m_{3}} c_2^{m_2} c_3^{m_3} }{c_1^{2 m_{2} + 3 m_{3} + 1}}$$\n",
    "\n",
    "<b>Let</b> $F1$ for a function that implements $C$."
   ]
  },
  {
   "cell_type": "code",
   "execution_count": 49,
   "metadata": {},
   "outputs": [],
   "source": [
    "def F1(m2, m3, returnCoefficientsOnly = False, returnCoefficientsOnlyWithoutSigns = True, returnCoefficientsAsFactorialStrings = False):\n",
    "    c_0, c_1, c_2, c_3 = sp.symbols('c_0, c_1, c_2, c_3')\n",
    "    s1 = (-1)**(m3 + 1)\n",
    "    s2 = sp.factorial(2 * m2 + 3 * m3)\n",
    "    s3 = sp.factorial(1 + m2 + 2 * m3) * sp.factorial(m2) * sp.factorial(m3)\n",
    "\n",
    "    \n",
    "    s4 = c_0**(1 + m2 + 2 * m3) * c_2**m2 *c_3**m3\n",
    "    s5 = c_1**(2 * m2 + 3 * m3 + 1)\n",
    "    \n",
    "    s7 = str(2 * m2 + 3 * m3) + \"!\"\n",
    "    s8 = str(1 + m2 + 2 * m3) + \"!\" + str(m2) + \"!\"  + str(m3) + \"!\"\n",
    "    \n",
    "    if returnCoefficientsOnly:\n",
    "        s6 = s1 * (s2 / s3)\n",
    "    elif returnCoefficientsOnlyWithoutSigns:\n",
    "        s6 = (s2 / s3)\n",
    "    elif returnCoefficientsAsFactorialStrings:\n",
    "        s6 = str(s7 + \" | \" + s8)\n",
    "    else:\n",
    "        s6 = s1 * (s2 / s3) * (s4 / s5)\n",
    "\n",
    "    return(s6)"
   ]
  },
  {
   "cell_type": "markdown",
   "metadata": {},
   "source": [
    "<b>Ref</b>: Robert Dickau's pages on Catalan and Fuss numbers with visualisations of polygons and trees. \n",
    "\n",
    "<b>Observe</b>: It has has been shown in a previous notebook that Catalan numbers can be related to the number of subdivisions of a (2 + m)-gon into triangles\n",
    "\n",
    "<b>Observe</b>: It has been shown in a previous notebook that Fuss numbers can be related to the number of subdivisions of a (2 + 2n)-gon into quadrilaterals\n",
    "\n",
    "<b>Observe</b>: When the number of subdivisions takes into account rotation, so there is a notion of fixed top edge \n",
    "\n",
    "<b>Ref</b>: These ideas begain with Euler\n"
   ]
  },
  {
   "cell_type": "markdown",
   "metadata": {},
   "source": [
    "Let $P3$ be a matrix of values retlating the part of the formula that calculates unsigned coefficients: $ \\frac{(2 m_{2} + 3 m_{3})!}{(1 + m_{2} + 2 m_{3})!m_2!m_3!}$ "
   ]
  },
  {
   "cell_type": "code",
   "execution_count": 50,
   "metadata": {},
   "outputs": [
    {
     "data": {
      "text/latex": [
       "$\\displaystyle \\left[\\begin{matrix}1 & 1 & 3 & 12 & 55 & 273 & 1428 & 7752\\\\1 & 5 & 28 & 165 & 1001 & 6188 & 38760 & 245157\\\\2 & 21 & 180 & 1430 & 10920 & 81396 & 596904 & 4326300\\\\5 & 84 & 990 & 10010 & 92820 & 813960 & 6864396 & 56241900\\\\14 & 330 & 5005 & 61880 & 678300 & 6864396 & 65615550 & 600900300\\\\42 & 1287 & 24024 & 352716 & 4476780 & 51482970 & 551170620 & 5588372790\\\\132 & 5005 & 111384 & 1899240 & 27457584 & 354323970 & 4206302100 & 46835886240\\\\429 & 19448 & 503880 & 9806280 & 159352050 & 2283421140 & 29804654880 & 361913666400\\end{matrix}\\right]$"
      ],
      "text/plain": [
       "Matrix([\n",
       "[  1,     1,      3,      12,        55,        273,        1428,         7752],\n",
       "[  1,     5,     28,     165,      1001,       6188,       38760,       245157],\n",
       "[  2,    21,    180,    1430,     10920,      81396,      596904,      4326300],\n",
       "[  5,    84,    990,   10010,     92820,     813960,     6864396,     56241900],\n",
       "[ 14,   330,   5005,   61880,    678300,    6864396,    65615550,    600900300],\n",
       "[ 42,  1287,  24024,  352716,   4476780,   51482970,   551170620,   5588372790],\n",
       "[132,  5005, 111384, 1899240,  27457584,  354323970,  4206302100,  46835886240],\n",
       "[429, 19448, 503880, 9806280, 159352050, 2283421140, 29804654880, 361913666400]])"
      ]
     },
     "execution_count": 50,
     "metadata": {},
     "output_type": "execute_result"
    }
   ],
   "source": [
    "P1 = np.arange(8)\n",
    "P2 = np.array([[F1(j, i) for i in P1] for j in P1])\n",
    "P3 = sp.Matrix(P2)\n",
    "P3"
   ]
  },
  {
   "cell_type": "markdown",
   "metadata": {},
   "source": [
    "Let $F2$ be a function that implements $(2 + m + 2n)$. which generates the number of sides of different polygons."
   ]
  },
  {
   "cell_type": "code",
   "execution_count": 51,
   "metadata": {},
   "outputs": [],
   "source": [
    "def F2(m, n):\n",
    "    return(2 + m + 2 * n)"
   ]
  },
  {
   "cell_type": "code",
   "execution_count": 52,
   "metadata": {},
   "outputs": [
    {
     "data": {
      "text/latex": [
       "$\\displaystyle \\left[\\begin{matrix}2 & 4 & 6 & 8 & 10 & 12 & 14 & 16\\\\3 & 5 & 7 & 9 & 11 & 13 & 15 & 17\\\\4 & 6 & 8 & 10 & 12 & 14 & 16 & 18\\\\5 & 7 & 9 & 11 & 13 & 15 & 17 & 19\\\\6 & 8 & 10 & 12 & 14 & 16 & 18 & 20\\\\7 & 9 & 11 & 13 & 15 & 17 & 19 & 21\\\\8 & 10 & 12 & 14 & 16 & 18 & 20 & 22\\\\9 & 11 & 13 & 15 & 17 & 19 & 21 & 23\\end{matrix}\\right]$"
      ],
      "text/plain": [
       "Matrix([\n",
       "[2,  4,  6,  8, 10, 12, 14, 16],\n",
       "[3,  5,  7,  9, 11, 13, 15, 17],\n",
       "[4,  6,  8, 10, 12, 14, 16, 18],\n",
       "[5,  7,  9, 11, 13, 15, 17, 19],\n",
       "[6,  8, 10, 12, 14, 16, 18, 20],\n",
       "[7,  9, 11, 13, 15, 17, 19, 21],\n",
       "[8, 10, 12, 14, 16, 18, 20, 22],\n",
       "[9, 11, 13, 15, 17, 19, 21, 23]])"
      ]
     },
     "execution_count": 52,
     "metadata": {},
     "output_type": "execute_result"
    }
   ],
   "source": [
    "P4 = np.arange(8)\n",
    "P5 = np.array([[F2(j, i) for i in P4] for j in P4])\n",
    "P6 = sp.Matrix(P5)\n",
    "P6"
   ]
  },
  {
   "cell_type": "markdown",
   "metadata": {},
   "source": [
    "<b>Observe</b>: Recall from a previous notebook the relationship $P3$ and $P6$ can be interpreted as follows:\n",
    "\n",
    "* There are 2 ways to subdivde a 4-gon into triangles (relating to the $(2, 0)$ entry in $P3$ and $P6$) \n",
    "* There are 5 ways to subdivide a 5-gon into triangles (relating to the $(3, 0)$ entry in $P3$ and $P6$) \n",
    "* There are 14 ways to subdivide a 6-gon into triangles (relating to the $(4, 0)$ entry in $P3$ and $P6$) \n",
    "* There are 12 ways to subdivide an 8-gon into quadrilaterals and triangles (relating to the $(0, 3)$ entry in $P3$ and $P6$) "
   ]
  },
  {
   "cell_type": "markdown",
   "metadata": {},
   "source": [
    "<hr/>\n",
    "\n",
    "<b>Aim</b>: Outline an algorithm by which any Catalan or Fuss Polygon can be converted into a Binary or Ternary Tree\n",
    "\n",
    "<b>Method</b>: Examine Catalan numbers, then Fuss Numbers\n",
    "\n",
    "<hr/>"
   ]
  },
  {
   "cell_type": "markdown",
   "metadata": {},
   "source": [
    "<b>Conjecture</b>: The Catalan numbers relate to the number of unique binary trees that can be created from a given n-gon the number of planar binary trees with n+1 leaves. Note a leaf node is a node with no children nodes\n",
    "\n",
    "<b>Let</b>: the following a procedure to create a binary tree from polygon"
   ]
  },
  {
   "cell_type": "markdown",
   "metadata": {},
   "source": [
    "1. Divide n-gon into any cominbation triangles\n",
    "2. Place node inside each triangle\n",
    "3. Join adjacent nodes inside n-gon \n",
    "4. Create edges from newly created nodes with nodes outside each edge of the polygon. Note that crossing edges within the plane is not allowed\n",
    "5. Consider the number of trees that can be created\n",
    "6. Divide n-gon into any combination of triangles which has not been carried out. \n",
    "7. Repeat process from step 2\n",
    "\n",
    "<b>Observe</b>: This produces the number of rooted planar binary trees with increasing values of n: \n",
    "\n",
    "<b>Observe</b>: This can be intuited as follows: \n",
    "\n",
    "- There are 2 ways to arrange a rooted planar binary tree of 3 leaf nodes\n",
    "- There are 5 ways to arrange a rooted planar binary tree of 4 leaf nodes\n",
    "- There are 14 ways to arrange a rooted planar binary tree of 5 leaf nodes\n",
    "- There are 42 ways to arrange a rooted planar binary tree of 6 leaf nodes\n",
    "\n",
    "<b>Observe</b>: Every non-leave node has 2 children when rewritten in downward way\n",
    "\n",
    "<b>Observe</b>: Binary trees provide an important way to manage data in computer science settings and can be used as sorting and searching algorithm\n",
    "\n"
   ]
  },
  {
   "cell_type": "code",
   "execution_count": 53,
   "metadata": {},
   "outputs": [
    {
     "name": "stdout",
     "output_type": "stream",
     "text": [
      "1\n",
      "├── 2\n",
      "│   ├── 4\n",
      "│   └── 5\n",
      "└── 3\n",
      "\n",
      "1\n",
      "├── 2\n",
      "└── 3\n",
      "    ├── 4\n",
      "    └── 5\n",
      "\n"
     ]
    }
   ],
   "source": [
    "tree = tr.Tree()\n",
    "tree.create_node(\"1\", \"1\")  # root node\n",
    "tree.create_node(\"2\", \"2\", parent=\"1\")\n",
    "tree.create_node(\"3\", \"3\", parent=\"1\")\n",
    "tree.create_node(\"4\", \"4\", parent=\"2\")\n",
    "tree.create_node(\"5\", \"5\", parent=\"2\")\n",
    "tree.show()\n",
    "\n",
    "tree = tr.Tree()\n",
    "tree.create_node(\"1\", \"1\")  # root node\n",
    "tree.create_node(\"2\", \"2\", parent=\"1\")\n",
    "tree.create_node(\"3\", \"3\", parent=\"1\")\n",
    "tree.create_node(\"4\", \"4\", parent=\"3\")\n",
    "tree.create_node(\"5\", \"5\", parent=\"3\")\n",
    "tree.show()"
   ]
  },
  {
   "cell_type": "markdown",
   "metadata": {},
   "source": [
    "<b>Observe</b>: Ternary Trees are similiar\n",
    "\n",
    "<b>Observe</b>: This can be intuited as follows: \n",
    "\n",
    "- There are 1287 ways to arrange a rooted planar ternary tree of 8 leaf nodes\n",
    "\n",
    "<b>Observe</b> It is possible to join these two structures toghether and and create a Ternary/Binary (or BiTri tree). \n"
   ]
  },
  {
   "cell_type": "markdown",
   "metadata": {},
   "source": [
    "<b>Todo</b>: Find a programatic way to generate all combinations of trees"
   ]
  },
  {
   "cell_type": "code",
   "execution_count": 73,
   "metadata": {},
   "outputs": [],
   "source": [
    "def allbinarytrees(s):\n",
    "    if len(s) == 1:\n",
    "        yield s\n",
    "    else:\n",
    "        for i in range(1, len(s), 2):\n",
    "            for l in allbinarytrees(s[:i]):\n",
    "                for r in allbinarytrees(s[i+1:]):\n",
    "                    yield '({}{}{})'.format(l, s[i], r)"
   ]
  },
  {
   "cell_type": "code",
   "execution_count": 77,
   "metadata": {},
   "outputs": [
    {
     "name": "stdout",
     "output_type": "stream",
     "text": [
      "(1-(2-(3-4)))\n",
      "(1-((2-3)-4))\n",
      "((1-2)-(3-4))\n",
      "((1-(2-3))-4)\n",
      "(((1-2)-3)-4)\n"
     ]
    }
   ],
   "source": [
    "for t in allbinarytrees('1-2-3-4'):\n",
    "    print(t)"
   ]
  },
  {
   "cell_type": "code",
   "execution_count": 80,
   "metadata": {},
   "outputs": [
    {
     "name": "stdout",
     "output_type": "stream",
     "text": [
      "1 11+(22*(3/4456))\n",
      "2 11+((22*3)/4456)\n",
      "3 (11+22)*(3/4456)\n",
      "4 (11+(22*3))/4456\n",
      "5 ((11+22)*3)/4456\n"
     ]
    }
   ],
   "source": [
    "def allbinarytrees(s):\n",
    "    if s.isdigit():\n",
    "        yield s\n",
    "    else:\n",
    "        i = 0\n",
    "        while i < len(s)-1:\n",
    "            while i < len(s) and s[i].isdigit():\n",
    "                i += 1\n",
    "            if i < len(s) - 1:\n",
    "                for left in allbinarytrees(s[:i]):\n",
    "                    for right in allbinarytrees(s[i+1:]):\n",
    "                        yield '({}{}{})'.format(left, s[i], right)\n",
    "            i += 1\n",
    "            \n",
    "j=0\n",
    "for t in allbinarytrees('11+22*3/4456'):\n",
    "    j += 1\n",
    "    print(j, (t[1:-1]))"
   ]
  },
  {
   "cell_type": "code",
   "execution_count": null,
   "metadata": {},
   "outputs": [],
   "source": []
  }
 ],
 "metadata": {
  "kernelspec": {
   "display_name": "Python 3",
   "language": "python",
   "name": "python3"
  },
  "language_info": {
   "codemirror_mode": {
    "name": "ipython",
    "version": 3
   },
   "file_extension": ".py",
   "mimetype": "text/x-python",
   "name": "python",
   "nbconvert_exporter": "python",
   "pygments_lexer": "ipython3",
   "version": "3.9.2"
  }
 },
 "nbformat": 4,
 "nbformat_minor": 4
}
