{
 "cells": [
  {
   "cell_type": "markdown",
   "metadata": {},
   "source": [
    "<i>STATUS: Draft<i>\n",
    "\n",
    "<div>These notes are based on Prof. Norman Wildberger's lectures on Solving Polynomial Equations found <a href=\"https://www.youtube.com/watch?v=XHC1YLh67Z0&list=PLzdiPTrEWyz7hk_Kzj4zDF_kUXBCtiGn6&index=1\">here</a>. They are being hosted at <a href=\"https://www.ladatavita.com/\">ladatavita.com</a> and available from my Github repo at: <a href=\"https://github.com/jgab3103/Jamie-Gabriel/tree/main/MathNotebooks\">https://github.com/jgab3103/Jamie-Gabriel/tree/main/MathNotebooks</a></div>\n",
    "\n",
    "<hr/>"
   ]
  },
  {
   "cell_type": "markdown",
   "metadata": {},
   "source": [
    "### Solving Polynomial Equations: 3"
   ]
  },
  {
   "cell_type": "code",
   "execution_count": 15,
   "metadata": {},
   "outputs": [],
   "source": [
    "import numpy as np\n",
    "import sympy as sp\n",
    "import pickle\n",
    "from IPython.display import HTML\n",
    "import ipywidgets as widgets\n",
    "import matplotlib as mpl\n",
    "from mpl_toolkits.mplot3d import Axes3D\n",
    "import matplotlib.pyplot as plt\n",
    "mpl.rcParams['legend.fontsize'] = 10\n",
    "import pandas as pd\n",
    "import itertools\n",
    "\n",
    "# This is commented out\n",
    "#%matplotlib widget\n",
    "\n",
    "# function to print latex\n",
    "def renderListToLatex(e):\n",
    "    latex_rendering = []\n",
    "\n",
    "    for i in range(len(e)):\n",
    "        latex_rendering.append(\"$$\" + sp.latex(e[i]) + \"$$<br/>\")\n",
    "    \n",
    "    return(HTML(\"\".join(latex_rendering[0:])))\n",
    "    "
   ]
  },
  {
   "cell_type": "markdown",
   "metadata": {},
   "source": [
    "Create required variables"
   ]
  },
  {
   "cell_type": "code",
   "execution_count": 16,
   "metadata": {},
   "outputs": [],
   "source": [
    "c_0, c_1, c_2, x, t, a_0, a_1, a_2, a_3, a_4, a_5, a_6, a_7, a_8, a_9, x_1, x_2, s_1, s_2 = sp.symbols('c_0, c_1, c_2, x, t, a_0, a_1, a_2, a_3, a_4, a_5, a_6, a_7, a_8, a_9, x_1, x_2, s_1, s_2')"
   ]
  },
  {
   "cell_type": "markdown",
   "metadata": {},
   "source": [
    "Recall that the original quadratic general equation sought to find solutions for $x_1$ and $x_2$ for a general quadratic \n",
    "\n",
    "$$t + c_0x + c_1x^2 = 0$$"
   ]
  },
  {
   "cell_type": "markdown",
   "metadata": {},
   "source": [
    "Recall that, using a power series in $t$, value of $x_1$ and $x_2$, the following solutions could be found:"
   ]
  },
  {
   "cell_type": "code",
   "execution_count": 17,
   "metadata": {},
   "outputs": [
    {
     "data": {
      "text/latex": [
       "$\\displaystyle x_{1} = - \\frac{t}{c_{1}} - \\frac{c_{2} t^{2}}{c_{1}^{3}} - \\frac{2 c_{2}^{2} t^{3}}{c_{1}^{5}} - \\frac{5 c_{2}^{3} t^{4}}{c_{1}^{7}} - \\frac{14 c_{2}^{4} t^{5}}{c_{1}^{9}} - \\frac{42 c_{2}^{5} t^{6}}{c_{1}^{11}} - \\frac{132 c_{2}^{6} t^{7}}{c_{1}^{13}} - \\frac{429 c_{2}^{7} t^{8}}{c_{1}^{15}} - \\frac{1430 c_{2}^{8} t^{9}}{c_{1}^{17}}$"
      ],
      "text/plain": [
       "Eq(x_1, -t/c_1 - c_2*t**2/c_1**3 - 2*c_2**2*t**3/c_1**5 - 5*c_2**3*t**4/c_1**7 - 14*c_2**4*t**5/c_1**9 - 42*c_2**5*t**6/c_1**11 - 132*c_2**6*t**7/c_1**13 - 429*c_2**7*t**8/c_1**15 - 1430*c_2**8*t**9/c_1**17)"
      ]
     },
     "execution_count": 17,
     "metadata": {},
     "output_type": "execute_result"
    }
   ],
   "source": [
    "x_1 = sp.Eq(x_1, -t/c_1 - c_2*t**2/c_1**3 - 2*c_2**2*t**3/c_1**5 - 5*c_2**3*t**4/c_1**7 - 14*c_2**4*t**5/c_1**9 - 42*c_2**5*t**6/c_1**11 - 132*c_2**6*t**7/c_1**13 - 429*c_2**7*t**8/c_1**15 - 1430*c_2**8*t**9/c_1**17)\n",
    "x_1"
   ]
  },
  {
   "cell_type": "code",
   "execution_count": 18,
   "metadata": {},
   "outputs": [
    {
     "data": {
      "text/latex": [
       "$\\displaystyle x_{2} = - \\frac{c_{1}}{c_{2}} + \\frac{t}{c_{1}} + \\frac{c_{2} t^{2}}{c_{1}^{3}} + \\frac{2 c_{2}^{2} t^{3}}{c_{1}^{5}} + \\frac{5 c_{2}^{3} t^{4}}{c_{1}^{7}} + \\frac{14 c_{2}^{4} t^{5}}{c_{1}^{9}} + \\frac{42 c_{2}^{5} t^{6}}{c_{1}^{11}} + \\frac{132 c_{2}^{6} t^{7}}{c_{1}^{13}} + \\frac{429 c_{2}^{7} t^{8}}{c_{1}^{15}} + \\frac{1430 c_{2}^{8} t^{9}}{c_{1}^{17}}$"
      ],
      "text/plain": [
       "Eq(x_2, -c_1/c_2 + t/c_1 + c_2*t**2/c_1**3 + 2*c_2**2*t**3/c_1**5 + 5*c_2**3*t**4/c_1**7 + 14*c_2**4*t**5/c_1**9 + 42*c_2**5*t**6/c_1**11 + 132*c_2**6*t**7/c_1**13 + 429*c_2**7*t**8/c_1**15 + 1430*c_2**8*t**9/c_1**17)"
      ]
     },
     "execution_count": 18,
     "metadata": {},
     "output_type": "execute_result"
    }
   ],
   "source": [
    "x_2 = sp.Eq(x_2, -c_1/c_2 + t/c_1 + c_2*t**2/c_1**3 + 2*c_2**2*t**3/c_1**5 + 5*c_2**3*t**4/c_1**7 + 14*c_2**4*t**5/c_1**9 + 42*c_2**5*t**6/c_1**11 + 132*c_2**6*t**7/c_1**13 + 429*c_2**7*t**8/c_1**15 + 1430*c_2**8*t**9/c_1**17)\n",
    "x_2"
   ]
  },
  {
   "cell_type": "markdown",
   "metadata": {},
   "source": [
    "Note that  $x_1$ and $x_2$ into generative functions.\n",
    "$$  x_1 = -\\sum_{k=1}^9 C(k - 1)\\frac{c_2^{k-1}}{c_1^{2k - 1}}t^k$$\n",
    "\n",
    "$$  x_2 = -\\frac{c_1}{c_2} + \\sum_{k=1}^9 C(k - 1)\\frac{c_2^{k-1}}{c_1^{2k - 1}}t^k   $$"
   ]
  },
  {
   "cell_type": "markdown",
   "metadata": {},
   "source": [
    "Note that solutions are not available $x_1$ and $x_2$ beyond degree 9. However, note the general case of generative functions: \n",
    "\n",
    "$$  x_1 = -\\sum_{k=1}^+ C(k - 1)\\frac{c_2^{k-1}}{c_1^{2k - 1}}t^k$$\n",
    "\n",
    "$$  x_2 = -\\frac{c_1}{c_2} + \\sum_{k=1}^+ C(k - 1)\\frac{c_2^{k-1}}{c_1^{2k - 1}}t^k   $$"
   ]
  },
  {
   "cell_type": "markdown",
   "metadata": {},
   "source": [
    "### The cubic case"
   ]
  },
  {
   "cell_type": "markdown",
   "metadata": {},
   "source": [
    "<i>Goal: </i>Test the cubic case\n",
    "\n",
    "Create the required variables: "
   ]
  },
  {
   "cell_type": "code",
   "execution_count": 19,
   "metadata": {},
   "outputs": [],
   "source": [
    "a_0, a_1, a_2, a_3, a_4, a_5, a_6, t, c_1, c_2, c_3, x = sp.symbols('a_0, a_1, a_2, a_3, a_4, a_5, a_6, t, c_1, c_2, c_3, x ')"
   ]
  },
  {
   "cell_type": "markdown",
   "metadata": {},
   "source": [
    "Assume that $t^8 == 0$.\n",
    "\n",
    "Let s1 be a general cubic equation."
   ]
  },
  {
   "cell_type": "code",
   "execution_count": 20,
   "metadata": {},
   "outputs": [
    {
     "data": {
      "text/latex": [
       "$\\displaystyle c_{1} x + c_{2} x^{2} + c_{3} x^{3} + t = 0$"
      ],
      "text/plain": [
       "Eq(c_1*x + c_2*x**2 + c_3*x**3 + t, 0)"
      ]
     },
     "execution_count": 20,
     "metadata": {},
     "output_type": "execute_result"
    }
   ],
   "source": [
    "s1 = sp.Eq(t + c_1 * x + c_2*x**2 + c_3 * x**3, 0)\n",
    "s1"
   ]
  },
  {
   "cell_type": "markdown",
   "metadata": {},
   "source": [
    "Let s2 be a substitution for x."
   ]
  },
  {
   "cell_type": "code",
   "execution_count": 21,
   "metadata": {},
   "outputs": [
    {
     "data": {
      "text/latex": [
       "$\\displaystyle a_{0} + a_{1} t + a_{2} t^{2} + a_{3} t^{3} + a_{4} t^{4} + a_{5} t^{5} + a_{6} t^{6} + a_{7} t^{7}$"
      ],
      "text/plain": [
       "a_0 + a_1*t + a_2*t**2 + a_3*t**3 + a_4*t**4 + a_5*t**5 + a_6*t**6 + a_7*t**7"
      ]
     },
     "execution_count": 21,
     "metadata": {},
     "output_type": "execute_result"
    }
   ],
   "source": [
    "s2 = a_0 + a_1 * t + a_2*t**2 + a_3*t**3 + a_4*t**4 + a_5*t**5 + a_6*t**6 + a_7*t**7\n",
    "s2"
   ]
  },
  {
   "cell_type": "markdown",
   "metadata": {},
   "source": [
    "Let s3 be s1 with the s2 subsituted for x"
   ]
  },
  {
   "cell_type": "code",
   "execution_count": 22,
   "metadata": {},
   "outputs": [
    {
     "data": {
      "text/latex": [
       "$\\displaystyle c_{1} \\left(a_{0} + a_{1} t + a_{2} t^{2} + a_{3} t^{3} + a_{4} t^{4} + a_{5} t^{5} + a_{6} t^{6} + a_{7} t^{7}\\right) + c_{2} \\left(a_{0} + a_{1} t + a_{2} t^{2} + a_{3} t^{3} + a_{4} t^{4} + a_{5} t^{5} + a_{6} t^{6} + a_{7} t^{7}\\right)^{2} + c_{3} \\left(a_{0} + a_{1} t + a_{2} t^{2} + a_{3} t^{3} + a_{4} t^{4} + a_{5} t^{5} + a_{6} t^{6} + a_{7} t^{7}\\right)^{3} + t = 0$"
      ],
      "text/plain": [
       "Eq(c_1*(a_0 + a_1*t + a_2*t**2 + a_3*t**3 + a_4*t**4 + a_5*t**5 + a_6*t**6 + a_7*t**7) + c_2*(a_0 + a_1*t + a_2*t**2 + a_3*t**3 + a_4*t**4 + a_5*t**5 + a_6*t**6 + a_7*t**7)**2 + c_3*(a_0 + a_1*t + a_2*t**2 + a_3*t**3 + a_4*t**4 + a_5*t**5 + a_6*t**6 + a_7*t**7)**3 + t, 0)"
      ]
     },
     "execution_count": 22,
     "metadata": {},
     "output_type": "execute_result"
    }
   ],
   "source": [
    "s3 = s1.subs(x, s2)\n",
    "s3"
   ]
  },
  {
   "cell_type": "markdown",
   "metadata": {},
   "source": [
    "Let s4 be the expansion of s3"
   ]
  },
  {
   "cell_type": "code",
   "execution_count": 23,
   "metadata": {},
   "outputs": [],
   "source": [
    "s4 = s3.expand()"
   ]
  },
  {
   "cell_type": "markdown",
   "metadata": {},
   "source": [
    "Enforce assumption that $t^8=0$ in s4"
   ]
  },
  {
   "cell_type": "code",
   "execution_count": 24,
   "metadata": {},
   "outputs": [
    {
     "data": {
      "text/latex": [
       "$\\displaystyle a_{0}^{3} c_{3} + a_{0}^{2} c_{2} + a_{0} c_{1} + t^{7} \\left(3 a_{0}^{2} a_{7} c_{3} + 6 a_{0} a_{1} a_{6} c_{3} + 6 a_{0} a_{2} a_{5} c_{3} + 6 a_{0} a_{3} a_{4} c_{3} + 2 a_{0} a_{7} c_{2} + 3 a_{1}^{2} a_{5} c_{3} + 6 a_{1} a_{2} a_{4} c_{3} + 3 a_{1} a_{3}^{2} c_{3} + 2 a_{1} a_{6} c_{2} + 3 a_{2}^{2} a_{3} c_{3} + 2 a_{2} a_{5} c_{2} + 2 a_{3} a_{4} c_{2} + a_{7} c_{1}\\right) + t^{6} \\left(3 a_{0}^{2} a_{6} c_{3} + 6 a_{0} a_{1} a_{5} c_{3} + 6 a_{0} a_{2} a_{4} c_{3} + 3 a_{0} a_{3}^{2} c_{3} + 2 a_{0} a_{6} c_{2} + 3 a_{1}^{2} a_{4} c_{3} + 6 a_{1} a_{2} a_{3} c_{3} + 2 a_{1} a_{5} c_{2} + a_{2}^{3} c_{3} + 2 a_{2} a_{4} c_{2} + a_{3}^{2} c_{2} + a_{6} c_{1}\\right) + t^{5} \\left(3 a_{0}^{2} a_{5} c_{3} + 6 a_{0} a_{1} a_{4} c_{3} + 6 a_{0} a_{2} a_{3} c_{3} + 2 a_{0} a_{5} c_{2} + 3 a_{1}^{2} a_{3} c_{3} + 3 a_{1} a_{2}^{2} c_{3} + 2 a_{1} a_{4} c_{2} + 2 a_{2} a_{3} c_{2} + a_{5} c_{1}\\right) + t^{4} \\left(3 a_{0}^{2} a_{4} c_{3} + 6 a_{0} a_{1} a_{3} c_{3} + 3 a_{0} a_{2}^{2} c_{3} + 2 a_{0} a_{4} c_{2} + 3 a_{1}^{2} a_{2} c_{3} + 2 a_{1} a_{3} c_{2} + a_{2}^{2} c_{2} + a_{4} c_{1}\\right) + t^{3} \\left(3 a_{0}^{2} a_{3} c_{3} + 6 a_{0} a_{1} a_{2} c_{3} + 2 a_{0} a_{3} c_{2} + a_{1}^{3} c_{3} + 2 a_{1} a_{2} c_{2} + a_{3} c_{1}\\right) + t^{2} \\left(3 a_{0}^{2} a_{2} c_{3} + 3 a_{0} a_{1}^{2} c_{3} + 2 a_{0} a_{2} c_{2} + a_{1}^{2} c_{2} + a_{2} c_{1}\\right) + t \\left(3 a_{0}^{2} a_{1} c_{3} + 2 a_{0} a_{1} c_{2} + a_{1} c_{1} + 1\\right) = 0$"
      ],
      "text/plain": [
       "Eq(a_0**3*c_3 + a_0**2*c_2 + a_0*c_1 + t**7*(3*a_0**2*a_7*c_3 + 6*a_0*a_1*a_6*c_3 + 6*a_0*a_2*a_5*c_3 + 6*a_0*a_3*a_4*c_3 + 2*a_0*a_7*c_2 + 3*a_1**2*a_5*c_3 + 6*a_1*a_2*a_4*c_3 + 3*a_1*a_3**2*c_3 + 2*a_1*a_6*c_2 + 3*a_2**2*a_3*c_3 + 2*a_2*a_5*c_2 + 2*a_3*a_4*c_2 + a_7*c_1) + t**6*(3*a_0**2*a_6*c_3 + 6*a_0*a_1*a_5*c_3 + 6*a_0*a_2*a_4*c_3 + 3*a_0*a_3**2*c_3 + 2*a_0*a_6*c_2 + 3*a_1**2*a_4*c_3 + 6*a_1*a_2*a_3*c_3 + 2*a_1*a_5*c_2 + a_2**3*c_3 + 2*a_2*a_4*c_2 + a_3**2*c_2 + a_6*c_1) + t**5*(3*a_0**2*a_5*c_3 + 6*a_0*a_1*a_4*c_3 + 6*a_0*a_2*a_3*c_3 + 2*a_0*a_5*c_2 + 3*a_1**2*a_3*c_3 + 3*a_1*a_2**2*c_3 + 2*a_1*a_4*c_2 + 2*a_2*a_3*c_2 + a_5*c_1) + t**4*(3*a_0**2*a_4*c_3 + 6*a_0*a_1*a_3*c_3 + 3*a_0*a_2**2*c_3 + 2*a_0*a_4*c_2 + 3*a_1**2*a_2*c_3 + 2*a_1*a_3*c_2 + a_2**2*c_2 + a_4*c_1) + t**3*(3*a_0**2*a_3*c_3 + 6*a_0*a_1*a_2*c_3 + 2*a_0*a_3*c_2 + a_1**3*c_3 + 2*a_1*a_2*c_2 + a_3*c_1) + t**2*(3*a_0**2*a_2*c_3 + 3*a_0*a_1**2*c_3 + 2*a_0*a_2*c_2 + a_1**2*c_2 + a_2*c_1) + t*(3*a_0**2*a_1*c_3 + 2*a_0*a_1*c_2 + a_1*c_1 + 1), 0)"
      ]
     },
     "execution_count": 24,
     "metadata": {},
     "output_type": "execute_result"
    }
   ],
   "source": [
    "order = 8\n",
    "coeffs = sp.Poly(s3, t).coeffs()\n",
    "s4= sum(t**n * coeffs[-(n+1)] for n in range(order))\n",
    "s4 = sp.Eq(s4, 0)\n",
    "s4"
   ]
  },
  {
   "cell_type": "markdown",
   "metadata": {},
   "source": [
    "Let s5 be the case where $t = 0$ in s4"
   ]
  },
  {
   "cell_type": "code",
   "execution_count": 25,
   "metadata": {},
   "outputs": [
    {
     "data": {
      "text/latex": [
       "$\\displaystyle a_{0}^{3} c_{3} + a_{0}^{2} c_{2} + a_{0} c_{1} = 0$"
      ],
      "text/plain": [
       "Eq(a_0**3*c_3 + a_0**2*c_2 + a_0*c_1, 0)"
      ]
     },
     "execution_count": 25,
     "metadata": {},
     "output_type": "execute_result"
    }
   ],
   "source": [
    "s5 = s4.subs(t, 0)\n",
    "s5"
   ]
  },
  {
   "cell_type": "markdown",
   "metadata": {},
   "source": [
    "Let s6 be the factorisation of of s5. Note there are three solutions"
   ]
  },
  {
   "cell_type": "code",
   "execution_count": 26,
   "metadata": {},
   "outputs": [
    {
     "data": {
      "text/html": [
       "$$0$$<br/>$$- \\frac{c_{2}}{2 c_{3}} - \\frac{\\sqrt{- 4 c_{1} c_{3} + c_{2}^{2}}}{2 c_{3}}$$<br/>$$- \\frac{c_{2}}{2 c_{3}} + \\frac{\\sqrt{- 4 c_{1} c_{3} + c_{2}^{2}}}{2 c_{3}}$$<br/>"
      ],
      "text/plain": [
       "<IPython.core.display.HTML object>"
      ]
     },
     "execution_count": 26,
     "metadata": {},
     "output_type": "execute_result"
    }
   ],
   "source": [
    "s6 = sp.solve(s5, a_0)\n",
    "renderListToLatex(s6)"
   ]
  },
  {
   "cell_type": "markdown",
   "metadata": {},
   "source": [
    "Consider the case where $a_0 = 0$. \n",
    "\n",
    "Substitute $a_0 = 0$ into s4"
   ]
  },
  {
   "cell_type": "code",
   "execution_count": 27,
   "metadata": {},
   "outputs": [
    {
     "data": {
      "text/latex": [
       "$\\displaystyle \\operatorname{Poly}{\\left( \\left(3 a_{1}^{2} a_{5} c_{3} + 6 a_{1} a_{2} a_{4} c_{3} + 3 a_{1} a_{3}^{2} c_{3} + 2 a_{1} a_{6} c_{2} + 3 a_{2}^{2} a_{3} c_{3} + 2 a_{2} a_{5} c_{2} + 2 a_{3} a_{4} c_{2} + a_{7} c_{1}\\right) t^{7} + \\left(3 a_{1}^{2} a_{4} c_{3} + 6 a_{1} a_{2} a_{3} c_{3} + 2 a_{1} a_{5} c_{2} + a_{2}^{3} c_{3} + 2 a_{2} a_{4} c_{2} + a_{3}^{2} c_{2} + a_{6} c_{1}\\right) t^{6} + \\left(3 a_{1}^{2} a_{3} c_{3} + 3 a_{1} a_{2}^{2} c_{3} + 2 a_{1} a_{4} c_{2} + 2 a_{2} a_{3} c_{2} + a_{5} c_{1}\\right) t^{5} + \\left(3 a_{1}^{2} a_{2} c_{3} + 2 a_{1} a_{3} c_{2} + a_{2}^{2} c_{2} + a_{4} c_{1}\\right) t^{4} + \\left(a_{1}^{3} c_{3} + 2 a_{1} a_{2} c_{2} + a_{3} c_{1}\\right) t^{3} + \\left(a_{1}^{2} c_{2} + a_{2} c_{1}\\right) t^{2} + \\left(a_{1} c_{1} + 1\\right) t, t, domain=\\mathbb{Z}\\left[a_{1}, a_{2}, a_{3}, a_{4}, a_{5}, a_{6}, a_{7}, c_{1}, c_{2}, c_{3}\\right] \\right)}$"
      ],
      "text/plain": [
       "Poly((3*a_1**2*a_5*c_3 + 6*a_1*a_2*a_4*c_3 + 3*a_1*a_3**2*c_3 + 2*a_1*a_6*c_2 + 3*a_2**2*a_3*c_3 + 2*a_2*a_5*c_2 + 2*a_3*a_4*c_2 + a_7*c_1)*t**7 + (3*a_1**2*a_4*c_3 + 6*a_1*a_2*a_3*c_3 + 2*a_1*a_5*c_2 + a_2**3*c_3 + 2*a_2*a_4*c_2 + a_3**2*c_2 + a_6*c_1)*t**6 + (3*a_1**2*a_3*c_3 + 3*a_1*a_2**2*c_3 + 2*a_1*a_4*c_2 + 2*a_2*a_3*c_2 + a_5*c_1)*t**5 + (3*a_1**2*a_2*c_3 + 2*a_1*a_3*c_2 + a_2**2*c_2 + a_4*c_1)*t**4 + (a_1**3*c_3 + 2*a_1*a_2*c_2 + a_3*c_1)*t**3 + (a_1**2*c_2 + a_2*c_1)*t**2 + (a_1*c_1 + 1)*t, t, domain='ZZ[a_1,a_2,a_3,a_4,a_5,a_6,a_7,c_1,c_2,c_3]')"
      ]
     },
     "execution_count": 27,
     "metadata": {},
     "output_type": "execute_result"
    }
   ],
   "source": [
    "s7 = sp.Poly(s4.subs(a_0, 0), t)\n",
    "s7"
   ]
  },
  {
   "cell_type": "markdown",
   "metadata": {},
   "source": [
    "Let s8 be a system of equations to linearly solve $a_1, a_2, a_3, a_4, a_5, a_6$, and $a_7$. Append $a_0 = 0$ as a valid equation in this system."
   ]
  },
  {
   "cell_type": "code",
   "execution_count": 28,
   "metadata": {},
   "outputs": [
    {
     "data": {
      "text/plain": [
       "[Eq(3*a_1**2*a_5*c_3 + 6*a_1*a_2*a_4*c_3 + 3*a_1*a_3**2*c_3 + 2*a_1*a_6*c_2 + 3*a_2**2*a_3*c_3 + 2*a_2*a_5*c_2 + 2*a_3*a_4*c_2 + a_7*c_1, 0),\n",
       " Eq(3*a_1**2*a_4*c_3 + 6*a_1*a_2*a_3*c_3 + 2*a_1*a_5*c_2 + a_2**3*c_3 + 2*a_2*a_4*c_2 + a_3**2*c_2 + a_6*c_1, 0),\n",
       " Eq(3*a_1**2*a_3*c_3 + 3*a_1*a_2**2*c_3 + 2*a_1*a_4*c_2 + 2*a_2*a_3*c_2 + a_5*c_1, 0),\n",
       " Eq(3*a_1**2*a_2*c_3 + 2*a_1*a_3*c_2 + a_2**2*c_2 + a_4*c_1, 0),\n",
       " Eq(a_1**3*c_3 + 2*a_1*a_2*c_2 + a_3*c_1, 0),\n",
       " Eq(a_1**2*c_2 + a_2*c_1, 0),\n",
       " Eq(a_1*c_1 + 1, 0),\n",
       " Eq(a_0, 0)]"
      ]
     },
     "execution_count": 28,
     "metadata": {},
     "output_type": "execute_result"
    }
   ],
   "source": [
    "s8 = [sp.Eq(s7.coeffs()[i], 0) for i in range(len(s7.coeffs()))]\n",
    "s8.append(sp.Eq(a_0, 0))\n",
    "s8"
   ]
  },
  {
   "cell_type": "markdown",
   "metadata": {},
   "source": [
    "Let s9 be the solutions to this system."
   ]
  },
  {
   "cell_type": "code",
   "execution_count": 29,
   "metadata": {},
   "outputs": [
    {
     "data": {
      "text/plain": [
       "[Eq(0, a_0),\n",
       " Eq(-1/c_1, a_1),\n",
       " Eq(-c_2/c_1**3, a_2),\n",
       " Eq((c_3/c_1**3 - 2*c_2**2/c_1**4)/c_1, a_3),\n",
       " Eq(5*(c_2*c_3/c_1**5 - c_2**3/c_1**6)/c_1, a_4),\n",
       " Eq((-3*c_3**2/c_1**6 + 21*c_2**2*c_3/c_1**7 - 14*c_2**4/c_1**8)/c_1, a_5),\n",
       " Eq((-28*c_2*c_3**2/c_1**8 + 84*c_2**3*c_3/c_1**9 - 42*c_2**5/c_1**10)/c_1, a_6),\n",
       " Eq((12*c_3**3/c_1**9 - 180*c_2**2*c_3**2/c_1**10 + 330*c_2**4*c_3/c_1**11 - 132*c_2**6/c_1**12)/c_1, a_7)]"
      ]
     },
     "execution_count": 29,
     "metadata": {},
     "output_type": "execute_result"
    }
   ],
   "source": [
    "variables =  [a_0, a_1, a_2, a_3, a_4, a_5, a_6, a_7]\n",
    "s9 = sp.nonlinsolve(s8, variables)\n",
    "interimSolutions  = list(list(s9)[0])\n",
    "s9 = [sp.Eq(interimSolutions[i], variables[i]) for i in range(len(interimSolutions))]\n",
    "s9\n"
   ]
  },
  {
   "cell_type": "markdown",
   "metadata": {},
   "source": [
    "  Visualise solutions for $a_1, a_2, a_3, a_4, a_5, a_6$, and $a_7$. "
   ]
  },
  {
   "cell_type": "code",
   "execution_count": 30,
   "metadata": {},
   "outputs": [
    {
     "data": {
      "text/html": [
       "$$a_{1} = - \\frac{1}{c_{1}}$$$$a_{2} = - \\frac{c_{2}}{c_{1}^{3}}$$$$a_{3} = \\frac{c_{1} c_{3} - 2 c_{2}^{2}}{c_{1}^{5}}$$$$a_{4} = \\frac{5 c_{2} \\left(c_{1} c_{3} - c_{2}^{2}\\right)}{c_{1}^{7}}$$$$a_{5} = \\frac{- 3 c_{1}^{2} c_{3}^{2} + 21 c_{1} c_{2}^{2} c_{3} - 14 c_{2}^{4}}{c_{1}^{9}}$$$$a_{6} = \\frac{- 28 c_{1}^{2} c_{2} c_{3}^{2} + 84 c_{1} c_{2}^{3} c_{3} - 42 c_{2}^{5}}{c_{1}^{11}}$$$$a_{7} = \\frac{6 \\left(2 c_{1}^{3} c_{3}^{3} - 30 c_{1}^{2} c_{2}^{2} c_{3}^{2} + 55 c_{1} c_{2}^{4} c_{3} - 22 c_{2}^{6}\\right)}{c_{1}^{13}}$$"
      ],
      "text/plain": [
       "<IPython.core.display.HTML object>"
      ]
     },
     "execution_count": 30,
     "metadata": {},
     "output_type": "execute_result"
    }
   ],
   "source": [
    "latex_rendering = []\n",
    "\n",
    "for i in range(len(s9)):\n",
    "    latex_rendering.append(\"$$\" + sp.latex(s9[i].simplify()) + \"$$\")\n",
    "    \n",
    "HTML(\"\".join(latex_rendering[1:]))\n"
   ]
  },
  {
   "cell_type": "markdown",
   "metadata": {},
   "source": [
    "Note that if $c_3 = 0$, the cubic term, then the quadratic case is recovered"
   ]
  },
  {
   "cell_type": "code",
   "execution_count": 31,
   "metadata": {},
   "outputs": [
    {
     "data": {
      "text/html": [
       "$$a_{1} = - \\frac{1}{c_{1}}$$$$a_{2} = - \\frac{c_{2}}{c_{1}^{3}}$$$$a_{3} = - \\frac{2 c_{2}^{2}}{c_{1}^{5}}$$$$a_{4} = - \\frac{5 c_{2}^{3}}{c_{1}^{7}}$$$$a_{5} = - \\frac{14 c_{2}^{4}}{c_{1}^{9}}$$$$a_{6} = - \\frac{42 c_{2}^{5}}{c_{1}^{11}}$$$$a_{7} = - \\frac{132 c_{2}^{6}}{c_{1}^{13}}$$"
      ],
      "text/plain": [
       "<IPython.core.display.HTML object>"
      ]
     },
     "execution_count": 31,
     "metadata": {},
     "output_type": "execute_result"
    }
   ],
   "source": [
    "s10 = [s9[i].subs(c_3, 0) for i in range(len(s9))]\n",
    "latex_rendering = []\n",
    "\n",
    "for i in range(len(s10)):\n",
    "    latex_rendering.append(\"$$\" + sp.latex(s10[i].simplify()) + \"$$\")\n",
    "    \n",
    "HTML(\"\".join(latex_rendering[1:]))"
   ]
  },
  {
   "cell_type": "markdown",
   "metadata": {},
   "source": [
    "Recall the cubic case expression."
   ]
  },
  {
   "cell_type": "code",
   "execution_count": 32,
   "metadata": {},
   "outputs": [
    {
     "data": {
      "text/latex": [
       "$\\displaystyle c_{1} x + c_{2} x^{2} + c_{3} x^{3} + t = 0$"
      ],
      "text/plain": [
       "Eq(c_1*x + c_2*x**2 + c_3*x**3 + t, 0)"
      ]
     },
     "execution_count": 32,
     "metadata": {},
     "output_type": "execute_result"
    }
   ],
   "source": [
    "s1"
   ]
  },
  {
   "cell_type": "markdown",
   "metadata": {},
   "source": [
    "Substitute back into x to find one of the solutions of this general cubic."
   ]
  },
  {
   "cell_type": "code",
   "execution_count": 38,
   "metadata": {},
   "outputs": [
    {
     "data": {
      "text/latex": [
       "$\\displaystyle x = a_{0} - \\frac{t}{c_{1}} - \\frac{c_{2} t^{2}}{c_{1}^{3}} + \\frac{t^{3} \\left(c_{1} c_{3} - 2 c_{2}^{2}\\right)}{c_{1}^{5}} + \\frac{5 c_{2} t^{4} \\left(c_{1} c_{3} - c_{2}^{2}\\right)}{c_{1}^{7}} + \\frac{t^{5} \\left(- 3 c_{1}^{2} c_{3}^{2} + 21 c_{1} c_{2}^{2} c_{3} - 14 c_{2}^{4}\\right)}{c_{1}^{9}} + \\frac{t^{6} \\left(- 28 c_{1}^{2} c_{2} c_{3}^{2} + 84 c_{1} c_{2}^{3} c_{3} - 42 c_{2}^{5}\\right)}{c_{1}^{11}} + \\frac{6 t^{7} \\left(2 c_{1}^{3} c_{3}^{3} - 30 c_{1}^{2} c_{2}^{2} c_{3}^{2} + 55 c_{1} c_{2}^{4} c_{3} - 22 c_{2}^{6}\\right)}{c_{1}^{13}}$"
      ],
      "text/plain": [
       "Eq(x, a_0 - t/c_1 - c_2*t**2/c_1**3 + t**3*(c_1*c_3 - 2*c_2**2)/c_1**5 + 5*c_2*t**4*(c_1*c_3 - c_2**2)/c_1**7 + t**5*(-3*c_1**2*c_3**2 + 21*c_1*c_2**2*c_3 - 14*c_2**4)/c_1**9 + t**6*(-28*c_1**2*c_2*c_3**2 + 84*c_1*c_2**3*c_3 - 42*c_2**5)/c_1**11 + 6*t**7*(2*c_1**3*c_3**3 - 30*c_1**2*c_2**2*c_3**2 + 55*c_1*c_2**4*c_3 - 22*c_2**6)/c_1**13)"
      ]
     },
     "execution_count": 38,
     "metadata": {},
     "output_type": "execute_result"
    }
   ],
   "source": [
    "values_to_solve2 = variables[1:]\n",
    "solutions_as_list2 = interimSolutions[1:]\n",
    "solutions_as_list2\n",
    "r1_5 = sp.Eq(x, s2)\n",
    "\n",
    "r15 = r1_5.subs(values_to_solve2[0], solutions_as_list2[0])\n",
    "r15 = r15.subs(values_to_solve2[1], solutions_as_list2[1].simplify())\n",
    "r15 = r15.subs(values_to_solve2[2], solutions_as_list2[2].simplify())\n",
    "r15 = r15.subs(values_to_solve2[3], solutions_as_list2[3].simplify())\n",
    "r15 = r15.subs(values_to_solve2[4], solutions_as_list2[4].simplify())\n",
    "r15 = r15.subs(values_to_solve2[5], solutions_as_list2[5].simplify())\n",
    "r15 = r15.subs(values_to_solve2[6], solutions_as_list2[6].simplify())\n",
    "\n",
    "# after going through all the solutions, subs in 0 for a_0\n",
    "#r15 = r15.subs(a_0, 0)\n",
    "r15"
   ]
  },
  {
   "cell_type": "markdown",
   "metadata": {},
   "source": [
    "Subsitute into original equation"
   ]
  },
  {
   "cell_type": "markdown",
   "metadata": {},
   "source": [
    "<b>Summary</b>\n",
    "\n",
    "There still appears to be a relationship to the Catalan numbers in the cubic case, but there are numbers present also. Note the the above is only one of the solutions to a general cubic equation. It is valid to degree 7, expressing the values as an on-series in powers in t, where the coefficients are rational functions of $c_i$\n",
    "\n",
    "Save outputs."
   ]
  },
  {
   "cell_type": "code",
   "execution_count": 26,
   "metadata": {},
   "outputs": [],
   "source": [
    "# Write data that will be used again\n",
    "data = {'generalCubicSolutions': s9,\n",
    "       'solutionOfGeneralCubicInTermsOfx':r15}\n",
    "f = open('./SharedOutputs/SPE3.pickle', 'wb')\n",
    "pickle.dump(data, f)\n",
    "f.close()"
   ]
  }
 ],
 "metadata": {
  "kernelspec": {
   "display_name": "Python 3",
   "language": "python",
   "name": "python3"
  },
  "language_info": {
   "codemirror_mode": {
    "name": "ipython",
    "version": 3
   },
   "file_extension": ".py",
   "mimetype": "text/x-python",
   "name": "python",
   "nbconvert_exporter": "python",
   "pygments_lexer": "ipython3",
   "version": "3.9.2"
  }
 },
 "nbformat": 4,
 "nbformat_minor": 4
}
