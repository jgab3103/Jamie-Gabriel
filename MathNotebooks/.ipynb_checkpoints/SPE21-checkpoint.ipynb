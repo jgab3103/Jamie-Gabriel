{
 "cells": [
  {
   "cell_type": "markdown",
   "metadata": {},
   "source": [
    "<i>STATUS: Draft</i>\n",
    "\n",
    "<div>These notes are based on Prof. Norman Wildberger's lectures on Solving Polynomial Equations found <a href=\"https://www.youtube.com/watch?v=XHC1YLh67Z0&list=PLzdiPTrEWyz7hk_Kzj4zDF_kUXBCtiGn6&index=1\">here</a>. They are being hosted at <a href=\"https://www.ladatavita.com/\">ladatavita.com</a> and available from my Github repo at: <a href=\"https://github.com/jgab3103/Jamie-Gabriel/tree/main/MathNotebooks\">https://github.com/jgab3103/Jamie-Gabriel/tree/main/MathNotebooks</a></div>\n",
    "\n",
    "<hr/>"
   ]
  },
  {
   "cell_type": "code",
   "execution_count": 31,
   "metadata": {},
   "outputs": [],
   "source": [
    "import numpy as np\n",
    "import sympy as sp\n",
    "import pickle\n",
    "from IPython.display import HTML, Image\n",
    "import ipywidgets as widgets\n",
    "import matplotlib as mpl\n",
    "from mpl_toolkits.mplot3d import Axes3D\n",
    "import matplotlib.pyplot as plt\n",
    "mpl.rcParams['legend.fontsize'] = 10\n",
    "import pandas as pd\n",
    "import itertools\n",
    "pd.set_option('display.max_colwidth', None)\n",
    "import treelib as tr\n",
    "\n",
    "\n",
    "# function to print latex\n",
    "def renderListToLatex(e):\n",
    "    latex_rendering = []\n",
    "\n",
    "    for i in range(len(e)):\n",
    "        latex_rendering.append(\"$$\" + sp.latex(e[i]) + \"$$\")\n",
    "    \n",
    "    return(HTML(\"\".join(latex_rendering[0:])))"
   ]
  },
  {
   "cell_type": "markdown",
   "metadata": {},
   "source": [
    "### Solving Polynomial Equations (21)"
   ]
  },
  {
   "cell_type": "markdown",
   "metadata": {},
   "source": [
    "<hr/>\n",
    "\n",
    "<b>Aim</b>: Ternary operations on Fuss polygonal subdivisions and associated ternary trees\n",
    "<hr/>"
   ]
  },
  {
   "cell_type": "markdown",
   "metadata": {},
   "source": [
    "<b>Observe</b>: a solution to a general cubic equation\n",
    "\n",
    "$$C(m_2, m_3)  \\equiv(-1)^{m_3 + 1} \\frac{(2 m_{2} + 3 m_{3})!}{(1 + m_{2} + 2 m_{3})!m_2!m_3!} \\frac{c_0^{1 + m_{2} + 2 m_{3}} c_2^{m_2} c_3^{m_3} }{c_1^{2 m_{2} + 3 m_{3} + 1}}$$\n",
    "\n",
    "<b>Let</b> $F1$ for a function that implements $C$."
   ]
  },
  {
   "cell_type": "code",
   "execution_count": 32,
   "metadata": {},
   "outputs": [],
   "source": [
    "def F1(m2, m3, returnCoefficientsOnly = False, returnCoefficientsOnlyWithoutSigns = True, returnCoefficientsAsFactorialStrings = False):\n",
    "    c_0, c_1, c_2, c_3 = sp.symbols('c_0, c_1, c_2, c_3')\n",
    "    s1 = (-1)**(m3 + 1)\n",
    "    s2 = sp.factorial(2 * m2 + 3 * m3)\n",
    "    s3 = sp.factorial(1 + m2 + 2 * m3) * sp.factorial(m2) * sp.factorial(m3)\n",
    "\n",
    "    \n",
    "    s4 = c_0**(1 + m2 + 2 * m3) * c_2**m2 *c_3**m3\n",
    "    s5 = c_1**(2 * m2 + 3 * m3 + 1)\n",
    "    \n",
    "    s7 = str(2 * m2 + 3 * m3) + \"!\"\n",
    "    s8 = str(1 + m2 + 2 * m3) + \"!\" + str(m2) + \"!\"  + str(m3) + \"!\"\n",
    "    \n",
    "    if returnCoefficientsOnly:\n",
    "        s6 = s1 * (s2 / s3)\n",
    "    elif returnCoefficientsOnlyWithoutSigns:\n",
    "        s6 = (s2 / s3)\n",
    "    elif returnCoefficientsAsFactorialStrings:\n",
    "        s6 = str(s7 + \" | \" + s8)\n",
    "    else:\n",
    "        s6 = s1 * (s2 / s3) * (s4 / s5)\n",
    "\n",
    "    return(s6)"
   ]
  },
  {
   "cell_type": "markdown",
   "metadata": {},
   "source": [
    "Let $P3$ be a matrix of values retlating the part of the formula that calculates unsigned coefficients: $ \\frac{(2 m_{2} + 3 m_{3})!}{(1 + m_{2} + 2 m_{3})!m_2!m_3!}$ "
   ]
  },
  {
   "cell_type": "code",
   "execution_count": 33,
   "metadata": {},
   "outputs": [
    {
     "data": {
      "text/latex": [
       "$\\displaystyle \\left[\\begin{matrix}1 & 1 & 3 & 12 & 55 & 273 & 1428 & 7752\\\\1 & 5 & 28 & 165 & 1001 & 6188 & 38760 & 245157\\\\2 & 21 & 180 & 1430 & 10920 & 81396 & 596904 & 4326300\\\\5 & 84 & 990 & 10010 & 92820 & 813960 & 6864396 & 56241900\\\\14 & 330 & 5005 & 61880 & 678300 & 6864396 & 65615550 & 600900300\\\\42 & 1287 & 24024 & 352716 & 4476780 & 51482970 & 551170620 & 5588372790\\\\132 & 5005 & 111384 & 1899240 & 27457584 & 354323970 & 4206302100 & 46835886240\\\\429 & 19448 & 503880 & 9806280 & 159352050 & 2283421140 & 29804654880 & 361913666400\\end{matrix}\\right]$"
      ],
      "text/plain": [
       "Matrix([\n",
       "[  1,     1,      3,      12,        55,        273,        1428,         7752],\n",
       "[  1,     5,     28,     165,      1001,       6188,       38760,       245157],\n",
       "[  2,    21,    180,    1430,     10920,      81396,      596904,      4326300],\n",
       "[  5,    84,    990,   10010,     92820,     813960,     6864396,     56241900],\n",
       "[ 14,   330,   5005,   61880,    678300,    6864396,    65615550,    600900300],\n",
       "[ 42,  1287,  24024,  352716,   4476780,   51482970,   551170620,   5588372790],\n",
       "[132,  5005, 111384, 1899240,  27457584,  354323970,  4206302100,  46835886240],\n",
       "[429, 19448, 503880, 9806280, 159352050, 2283421140, 29804654880, 361913666400]])"
      ]
     },
     "execution_count": 33,
     "metadata": {},
     "output_type": "execute_result"
    }
   ],
   "source": [
    "P1 = np.arange(8)\n",
    "P2 = np.array([[F1(j, i) for i in P1] for j in P1])\n",
    "P3 = sp.Matrix(P2)\n",
    "P3"
   ]
  },
  {
   "cell_type": "markdown",
   "metadata": {},
   "source": [
    "observe - need to bridge from combinatorics to algetra"
   ]
  },
  {
   "cell_type": "markdown",
   "metadata": {},
   "source": [
    "Let $P4$ be the first Fuss nnumbers"
   ]
  },
  {
   "cell_type": "code",
   "execution_count": 34,
   "metadata": {},
   "outputs": [
    {
     "data": {
      "text/latex": [
       "$\\displaystyle \\left[\\begin{matrix}1 & 1 & 3 & 12 & 55 & 273 & 1428 & 7752\\end{matrix}\\right]$"
      ],
      "text/plain": [
       "Matrix([[1, 1, 3, 12, 55, 273, 1428, 7752]])"
      ]
     },
     "execution_count": 34,
     "metadata": {},
     "output_type": "execute_result"
    }
   ],
   "source": [
    "P4 = P3[0, :]\n",
    "P4"
   ]
  },
  {
   "cell_type": "markdown",
   "metadata": {},
   "source": [
    "<b>Observe</b> They can be genetated by a generating function in some unknown type $q$\n",
    "\n",
    "$$ F = \\Sigma_{k = 0}^7 \\frac{1}{2k + 1}  \\binom{3k}{k} q ^k$$"
   ]
  },
  {
   "cell_type": "code",
   "execution_count": 36,
   "metadata": {},
   "outputs": [
    {
     "data": {
      "text/html": [
       "$$1$$$$q$$$$3 q^{2}$$$$12 q^{3}$$$$55 q^{4}$$$$273 q^{5}$$$$1428 q^{6}$$$$7752 q^{7}$$"
      ],
      "text/plain": [
       "<IPython.core.display.HTML object>"
      ]
     },
     "execution_count": 36,
     "metadata": {},
     "output_type": "execute_result"
    }
   ],
   "source": [
    "q = sp.symbols('q')\n",
    "P5 = renderListToLatex([int(1/(2*i + 1) * sp.binomial(3 * i, i)) * q**i for i in range(8)])\n",
    "P5"
   ]
  },
  {
   "cell_type": "markdown",
   "metadata": {},
   "source": [
    "<b>Observe</b> It is a conjecture that the coefficients count the number of diagonal subdivisions of a polygon into quadrilaterals\n",
    "\n",
    "<b>Observe</b>The above tells \n",
    "\n",
    "- The numbe of subdividing a 2 -gon is one\n",
    "- There are 55 ways of subdividing a 10-gon into quadrilaterals\n",
    "- There are 7752 ways of subdividing a 16-gon into quadrilaterals\n"
   ]
  },
  {
   "cell_type": "markdown",
   "metadata": {},
   "source": [
    "<b>Observe</b> Possible introduce a ternery operation on polygonal subdivisions into quadrilaterals (with a distinguised top edge). Previously used $\\overline{\\triangledown}$\n",
    "\n",
    "<b>Observe</b> $\\overline{\\square}$ can be used \n",
    "\n",
    "<b>Observe</b> It is possible to operate $\\overline{\\square}(P, Q, R)$ where $P, Q, R$ are polygonal sudivisions into quadrilaterals with distinguished roots. Note the params are in order\n",
    "\n",
    "<b>Observe</b> Params are in order, called $Left, Middle, Right$\n",
    "\n",
    "<b>Observe</b> The result should be another such polygonal subdivision\n",
    "\n",
    "<b>Strategy</b> Start with quadrilateral with distinguised top which will leave 3 edges\n",
    "\n",
    "$$ \\overline{\\square} $$\n",
    "\n",
    "Rotate and glue on to non-distinuised edge and this will leave a larger polygon that si divided into quadrilaterals as each of $P, Q, R$ are already divised into quadrilaterals and this will be another polygonal subdivision into quadrilaterals\n",
    "\n",
    "To do this, add $P$ to free left edge, $Q$ to the free lower edge edge, $R$ to to right edge \n",
    "\n"
   ]
  },
  {
   "cell_type": "markdown",
   "metadata": {},
   "source": [
    "NOte this will not be commutative, associative, \n",
    "\n",
    "<b>Observe</b> The total number of quadrilaterals in this ternary product is one more than the sum of the numbers in $P, Q$ and $R$\n",
    "\n",
    "<b>Observe</b> Introduce a mapping $\\psi$ from subdivided polygons into polynomials in q by: \n",
    "\n",
    "$$ \\psi(P) \\equiv q^n $$\n",
    "\n",
    "Where $n$ is the number of quadrilaterals in the subdivision of $P$.\n",
    "\n",
    "<b>Observe</b>: Then it must be the case that: \n",
    "\n",
    "$$ \\psi(\\bar{\\square}(P, Q, R) = q\\psi(P)\\psi(Q)\\psi(R)$$\n",
    "\n",
    "<b>Observe</b> the $q$ here, similiar to the $|$ in the previous notebook is a single quadrialteral that gets added to this as part of the total product\n",
    "\n",
    "<b>Observe</b> Note this a ternary operation. It can be extended to multisets of subdivided polygons, to triples\n",
    "\n",
    "<b>Observe</b> If $A$, $B$ and $C$ are msets of subdivided polygons (into quadrilaterals) we can take a ternary product by: \n",
    "\n",
    "$$ \\overline\\square(A, B, C) \\equiv [\\overline{\\square}(P, Q, R) \\text{ where } P \\in A, Q \\in B, R \\in C] $$\n",
    "\n",
    "<b>Observe</b> THis takes all element in $A, B, C$ and create a product with all combinations \n"
   ]
  },
  {
   "cell_type": "markdown",
   "metadata": {},
   "source": [
    "<b>Theorem</b> \n",
    "\n",
    "For an ongoing mset, $A$, which contains each subdivided polygon into quadrilaterals with distinguished edge, including the degenerate polygon, $|$ (the 2 sided polygon), then there is the relation: \n",
    "\n",
    "$$ A = | + \\overline\\square \\text{ }(A, B, C) $$\n",
    "\n",
    "\n",
    "\n",
    "<b>Conjecture</b>  $$\\psi(A)$$ as above to get an mset of monomials in q(ongoing)THis appears to thave the form \n",
    "\n",
    "$$\\psi(A)= F = 1 + q + 3q^2 + 12q^3 + 55q^4 + 273q^5 + 1428q^6 + 7752q^7 \\ldots $$"
   ]
  },
  {
   "cell_type": "markdown",
   "metadata": {},
   "source": [
    "<b>Observe</b>: It is possible to apply $\\psi(A)$ in relation to the theorem: \n",
    "\n",
    "$$ F = | +  qF^3 $$"
   ]
  },
  {
   "cell_type": "markdown",
   "metadata": {},
   "source": [
    "<b>Observe</b> Because all combinations are considered, any ternary tree can be connected to $A, B, C$, so either it is degenerate $|$\n",
    "\n",
    "<b>Observe</b>: Note that this is similiar to Catalan case"
   ]
  },
  {
   "cell_type": "code",
   "execution_count": null,
   "metadata": {},
   "outputs": [],
   "source": [
    "# 33"
   ]
  }
 ],
 "metadata": {
  "kernelspec": {
   "display_name": "Python 3",
   "language": "python",
   "name": "python3"
  },
  "language_info": {
   "codemirror_mode": {
    "name": "ipython",
    "version": 3
   },
   "file_extension": ".py",
   "mimetype": "text/x-python",
   "name": "python",
   "nbconvert_exporter": "python",
   "pygments_lexer": "ipython3",
   "version": "3.9.2"
  }
 },
 "nbformat": 4,
 "nbformat_minor": 4
}
