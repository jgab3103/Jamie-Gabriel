{
 "cells": [
  {
   "cell_type": "code",
   "execution_count": 4,
   "metadata": {},
   "outputs": [],
   "source": [
    "import numpy as np\n",
    "import sympy as sp\n",
    "import pickle\n",
    "from IPython.display import HTML\n",
    "import ipywidgets as widgets\n",
    "import matplotlib as mpl\n",
    "from mpl_toolkits.mplot3d import Axes3D\n",
    "import matplotlib.pyplot as plt\n",
    "mpl.rcParams['legend.fontsize'] = 10\n",
    "import pandas as pd\n",
    "import itertools\n",
    "pd.set_option('display.max_colwidth', None)\n",
    "\n",
    "# function to print latex\n",
    "def renderListToLatex(e):\n",
    "    latex_rendering = []\n",
    "\n",
    "    for i in range(len(e)):\n",
    "        latex_rendering.append(\"$$\" + sp.latex(e[i]) + \"$$<br/>\")\n",
    "    \n",
    "    return(HTML(\"\".join(latex_rendering[0:])))"
   ]
  },
  {
   "cell_type": "markdown",
   "metadata": {},
   "source": [
    "### Solving Polynomial Equations (13)"
   ]
  },
  {
   "cell_type": "markdown",
   "metadata": {},
   "source": [
    "<hr/>\n",
    "\n",
    "<b>Aim</b>: Consolidate and provide a unifying BiTri conjecture for Catalan and Fuss-Catalan numbers\n",
    "\n",
    "<hr/>"
   ]
  },
  {
   "cell_type": "markdown",
   "metadata": {},
   "source": [
    "Observe: the definition from Solving Polynomials (7) that defines a solution to a general cubic equation. can be rewritten\n",
    "\n"
   ]
  },
  {
   "cell_type": "markdown",
   "metadata": {},
   "source": [
    "Define: $C$ as a function implementation that returns a solution to a general cubic equation.- allows return of this"
   ]
  },
  {
   "cell_type": "code",
   "execution_count": 5,
   "metadata": {},
   "outputs": [],
   "source": [
    "def C(m2, m3, returnCoefficientsOnly = False, returnCoefficientsOnlyWithoutSigns = False, returnCoefficientsAsFactorialStrings = False):\n",
    "    c_0, c_1, c_2, c_3 = sp.symbols('c_0, c_1, c_2, c_3')\n",
    "    s1 = (-1)**(m3 + 1)\n",
    "    s2 = sp.factorial(2 * m2 + 3 * m3)\n",
    "    s3 = sp.factorial(1 + m2 + 2 * m3) * sp.factorial(m2) * sp.factorial(m3)\n",
    "\n",
    "    \n",
    "    s4 = c_0**(1 + m2 + 2 * m3) * c_2**m2 *c_3**m3\n",
    "    s5 = c_1**(2 * m2 + 3 * m3 + 1)\n",
    "    \n",
    "    s7 = str(2 * m2 + 3 * m3) + \"!\"\n",
    "    s8 = str(1 + m2 + 2 * m3) + \"!\" + str(m2) + \"!\"  + str(m3) + \"!\"\n",
    "    \n",
    "    if returnCoefficientsOnly:\n",
    "        s6 = s1 * (s2 / s3)\n",
    "    elif returnCoefficientsOnlyWithoutSigns:\n",
    "        s6 = (s2 / s3)\n",
    "    elif returnCoefficientsAsFactorialStrings:\n",
    "        s6 = str(s7 + \" | \" + s8)\n",
    "    else:\n",
    "        s6 = s1 * (s2 / s3) * (s4 / s5)\n",
    "\n",
    "    return(s6)"
   ]
  },
  {
   "cell_type": "markdown",
   "metadata": {},
   "source": [
    "Define sub multinoial"
   ]
  },
  {
   "cell_type": "markdown",
   "metadata": {},
   "source": [
    "Also related to polygones of different sizes (need a function for this)\n",
    "\n",
    "Note we arrive at: \n",
    "\n",
    "Definition: <b>BiTri numbers</b>\n",
    "\n",
    "$$C(m, n)  \\frac{(2 m + 3 n)!}{(1 + m + 2 n)!m!n!} $$\n",
    "\n",
    "Looking at \n"
   ]
  },
  {
   "cell_type": "code",
   "execution_count": 7,
   "metadata": {},
   "outputs": [
    {
     "data": {
      "text/latex": [
       "$\\displaystyle 1430$"
      ],
      "text/plain": [
       "1430"
      ]
     },
     "execution_count": 7,
     "metadata": {},
     "output_type": "execute_result"
    }
   ],
   "source": [
    "C(2,3, returnCoefficientsOnlyWithoutSigns=True)"
   ]
  },
  {
   "cell_type": "code",
   "execution_count": 8,
   "metadata": {},
   "outputs": [
    {
     "data": {
      "text/latex": [
       "$\\displaystyle 4476780$"
      ],
      "text/plain": [
       "4476780"
      ]
     },
     "execution_count": 8,
     "metadata": {},
     "output_type": "execute_result"
    }
   ],
   "source": [
    "C(5, 4, returnCoefficientsOnlyWithoutSigns=True)"
   ]
  },
  {
   "cell_type": "code",
   "execution_count": 11,
   "metadata": {},
   "outputs": [
    {
     "data": {
      "text/latex": [
       "$\\displaystyle \\left[\\begin{matrix}1 & 1 & 3 & 12 & 55 & 273 & 1428 & 7752\\\\1 & 5 & 28 & 165 & 1001 & 6188 & 38760 & 245157\\\\2 & 21 & 180 & 1430 & 10920 & 81396 & 596904 & 4326300\\\\5 & 84 & 990 & 10010 & 92820 & 813960 & 6864396 & 56241900\\\\14 & 330 & 5005 & 61880 & 678300 & 6864396 & 65615550 & 600900300\\\\42 & 1287 & 24024 & 352716 & 4476780 & 51482970 & 551170620 & 5588372790\\\\132 & 5005 & 111384 & 1899240 & 27457584 & 354323970 & 4206302100 & 46835886240\\\\429 & 19448 & 503880 & 9806280 & 159352050 & 2283421140 & 29804654880 & 361913666400\\end{matrix}\\right]$"
      ],
      "text/plain": [
       "Matrix([\n",
       "[  1,     1,      3,      12,        55,        273,        1428,         7752],\n",
       "[  1,     5,     28,     165,      1001,       6188,       38760,       245157],\n",
       "[  2,    21,    180,    1430,     10920,      81396,      596904,      4326300],\n",
       "[  5,    84,    990,   10010,     92820,     813960,     6864396,     56241900],\n",
       "[ 14,   330,   5005,   61880,    678300,    6864396,    65615550,    600900300],\n",
       "[ 42,  1287,  24024,  352716,   4476780,   51482970,   551170620,   5588372790],\n",
       "[132,  5005, 111384, 1899240,  27457584,  354323970,  4206302100,  46835886240],\n",
       "[429, 19448, 503880, 9806280, 159352050, 2283421140, 29804654880, 361913666400]])"
      ]
     },
     "execution_count": 11,
     "metadata": {},
     "output_type": "execute_result"
    }
   ],
   "source": [
    "# numbers start out as as factorials a\n",
    "# Note formula captures a positino array numbered like computer science\n",
    "\n",
    "P1 = np.arange(8)\n",
    "P2 = np.array([[C(j, i, returnCoefficientsOnlyWithoutSigns=True) for i in P1] for j in P1])\n",
    "P3 = sp.Matrix(P2)\n",
    "P3"
   ]
  },
  {
   "cell_type": "code",
   "execution_count": 12,
   "metadata": {},
   "outputs": [],
   "source": [
    "# note these are sub multinomial coeffienct\n",
    "\n",
    "\n"
   ]
  },
  {
   "cell_type": "markdown",
   "metadata": {},
   "source": [
    "Conjecture: the <b>BiTri</b> number C(m, n)  counts the number of diagonal subdivisions of a (2 + m + 2n) sided polygon into m triangles and n quadrilaterals, in particular, this shows that C(m, n) is an integer"
   ]
  },
  {
   "cell_type": "markdown",
   "metadata": {},
   "source": [
    "Sizes of polygones top row\n",
    "2 4 6 8 10 12\n",
    "3 5 7 9 \n",
    "4 6 8 etc.\n",
    "5\n",
    "6\n",
    "7\n",
    "\n",
    "NOte this subdivisions comes from only drawing vertices, vertices on outside, NO interior vertices, just subdivide as many combinatinos, count how many there are - so we subdivide into numbers of triangles and quadrilaterals....and counting hwo many there are...\n",
    "\n",
    "called bi tri - becaue of binary tree relationship in catalans, fuss can also be thought of as ternary trees....binary and ternary trees very important for computer scientists - we want to unify things into a 2 dim story - this will lead to major interpretations in combinatorics......can we extend catalan and fuss, and joining them together, bring interpretations together - we need evidence\n",
    "\n",
    "\n",
    "\n"
   ]
  },
  {
   "cell_type": "markdown",
   "metadata": {},
   "source": [
    "Go back to A002054 - first column of array 1, 5, 21....\n",
    "\n",
    "Look at entries...do any sync up with conjecture\n",
    "\n",
    "Note number of diagonal dissaections of complex n-gon into n regions.... - dissections stuff....look for similiarity....look at 2004 entry, \n",
    "\n",
    "idea here to look for patterns....this discription coincides with our interpretation\n",
    "\n",
    "\n",
    "jg - go through this and have a look through this - this ref tells us that there are interesting things to find....we gradually build up data \n",
    "\n",
    "All of things hinting at this conjecture that might be correct.....\n",
    "\n",
    "Now \n",
    "\n",
    "\n",
    "Also consider A025174 - #1 Row \n",
    "\n",
    "(so second row down......)\n",
    "\n",
    "Our conjecture is that this relates to subdividing odd sized polygons into certain number of quadrilaterals and 1 triangle (number of quadrialterlas grows)\n",
    "\n",
    "Note less references\n",
    "\n",
    "Note we need to know about tableux and trees..."
   ]
  },
  {
   "cell_type": "code",
   "execution_count": null,
   "metadata": {},
   "outputs": [],
   "source": []
  }
 ],
 "metadata": {
  "kernelspec": {
   "display_name": "Python 3",
   "language": "python",
   "name": "python3"
  },
  "language_info": {
   "codemirror_mode": {
    "name": "ipython",
    "version": 3
   },
   "file_extension": ".py",
   "mimetype": "text/x-python",
   "name": "python",
   "nbconvert_exporter": "python",
   "pygments_lexer": "ipython3",
   "version": "3.9.2"
  }
 },
 "nbformat": 4,
 "nbformat_minor": 4
}
