{
 "cells": [
  {
   "cell_type": "code",
   "execution_count": 4,
   "metadata": {},
   "outputs": [],
   "source": [
    "import numpy as np\n",
    "import sympy as sp\n",
    "import pickle\n",
    "from IPython.display import HTML\n",
    "import ipywidgets as widgets\n",
    "import matplotlib as mpl\n",
    "from mpl_toolkits.mplot3d import Axes3D\n",
    "import matplotlib.pyplot as plt\n",
    "mpl.rcParams['legend.fontsize'] = 10\n",
    "import pandas as pd\n",
    "import itertools\n",
    "pd.set_option('display.max_colwidth', None)\n",
    "\n",
    "#\n",
    "\n",
    "# function to print latex\n",
    "def renderListToLatex(e):\n",
    "    latex_rendering = []\n",
    "\n",
    "    for i in range(len(e)):\n",
    "        latex_rendering.append(\"$$\" + sp.latex(e[i]) + \"$$<br/>\")\n",
    "    \n",
    "    return(HTML(\"\".join(latex_rendering[0:])))"
   ]
  },
  {
   "cell_type": "markdown",
   "metadata": {},
   "source": [
    "### Solving Polynomial Equations (15)"
   ]
  },
  {
   "cell_type": "markdown",
   "metadata": {},
   "source": [
    "<hr/>\n",
    "\n",
    "<b>Aim</b>: Explore the quartic equation and bBiTriQuad numbers\n",
    "\n",
    "<hr/>\n",
    "\n",
    "\n",
    "NOte that BiTri array actually on theOEIS at A104978 - note this is a different way of freading numbers off\n",
    "\n",
    "\n",
    "Note this array allso - seen John Zhau - Fat and Thin Emergent Geometries of Hermitial One-Matrix Models (math physics) - so some connections here\n",
    "\n"
   ]
  },
  {
   "cell_type": "markdown",
   "metadata": {},
   "source": [
    "Observe: implementation of $C$\n",
    "\n",
    "Let $F1$ for a function that implements $C$."
   ]
  },
  {
   "cell_type": "code",
   "execution_count": 2,
   "metadata": {},
   "outputs": [],
   "source": [
    "def F1(m2, m3, returnCoefficientsOnly = False, returnCoefficientsOnlyWithoutSigns = True, returnCoefficientsAsFactorialStrings = False):\n",
    "    c_0, c_1, c_2, c_3 = sp.symbols('c_0, c_1, c_2, c_3')\n",
    "    s1 = (-1)**(m3 + 1)\n",
    "    s2 = sp.factorial(2 * m2 + 3 * m3)\n",
    "    s3 = sp.factorial(1 + m2 + 2 * m3) * sp.factorial(m2) * sp.factorial(m3)\n",
    "\n",
    "    \n",
    "    s4 = c_0**(1 + m2 + 2 * m3) * c_2**m2 *c_3**m3\n",
    "    s5 = c_1**(2 * m2 + 3 * m3 + 1)\n",
    "    \n",
    "    s7 = str(2 * m2 + 3 * m3) + \"!\"\n",
    "    s8 = str(1 + m2 + 2 * m3) + \"!\" + str(m2) + \"!\"  + str(m3) + \"!\"\n",
    "    \n",
    "    if returnCoefficientsOnly:\n",
    "        s6 = s1 * (s2 / s3)\n",
    "    elif returnCoefficientsOnlyWithoutSigns:\n",
    "        s6 = (s2 / s3)\n",
    "    elif returnCoefficientsAsFactorialStrings:\n",
    "        s6 = str(s7 + \" | \" + s8)\n",
    "    else:\n",
    "        s6 = s1 * (s2 / s3) * (s4 / s5)\n",
    "\n",
    "    return(s6)"
   ]
  },
  {
   "cell_type": "markdown",
   "metadata": {},
   "source": [
    "Let $P3$ be a matrix of values retlating the part of the formula that calculates unsigned coefficients: $ \\frac{(2 m_{2} + 3 m_{3})!}{(1 + m_{2} + 2 m_{3})!m_2!m_3!}$ "
   ]
  },
  {
   "cell_type": "markdown",
   "metadata": {},
   "source": [
    "Recalll the quartic series - we have found at least solution"
   ]
  },
  {
   "cell_type": "code",
   "execution_count": null,
   "metadata": {},
   "outputs": [],
   "source": []
  },
  {
   "cell_type": "code",
   "execution_count": null,
   "metadata": {},
   "outputs": [],
   "source": []
  },
  {
   "cell_type": "code",
   "execution_count": null,
   "metadata": {},
   "outputs": [],
   "source": []
  },
  {
   "cell_type": "code",
   "execution_count": null,
   "metadata": {},
   "outputs": [],
   "source": []
  },
  {
   "cell_type": "code",
   "execution_count": null,
   "metadata": {},
   "outputs": [],
   "source": []
  }
 ],
 "metadata": {
  "kernelspec": {
   "display_name": "Python 3",
   "language": "python",
   "name": "python3"
  },
  "language_info": {
   "codemirror_mode": {
    "name": "ipython",
    "version": 3
   },
   "file_extension": ".py",
   "mimetype": "text/x-python",
   "name": "python",
   "nbconvert_exporter": "python",
   "pygments_lexer": "ipython3",
   "version": "3.9.2"
  }
 },
 "nbformat": 4,
 "nbformat_minor": 4
}
