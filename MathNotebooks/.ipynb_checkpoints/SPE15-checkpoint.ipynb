{
 "cells": [
  {
   "cell_type": "markdown",
   "metadata": {},
   "source": [
    "<i>STATUS: Draft<i>\n",
    "\n",
    "<div>These notes are based on Prof. Norman Wildberger's lectures on Solving Polynomial Equations found <a href=\"https://www.youtube.com/watch?v=XHC1YLh67Z0&list=PLzdiPTrEWyz7hk_Kzj4zDF_kUXBCtiGn6&index=1\">here</a>. They are being hosted at <a href=\"https://www.ladatavita.com/\">ladatavita.com</a> and available from my Github repo at: <a href=\"https://github.com/jgab3103/Jamie-Gabriel/tree/main/MathNotebooks\">https://github.com/jgab3103/Jamie-Gabriel/tree/main/MathNotebooks</a></div>\n",
    "\n",
    "<hr/>"
   ]
  },
  {
   "cell_type": "code",
   "execution_count": 1,
   "metadata": {},
   "outputs": [],
   "source": [
    "import numpy as np\n",
    "import sympy as sp\n",
    "import pickle\n",
    "from IPython.display import HTML\n",
    "import ipywidgets as widgets\n",
    "import matplotlib as mpl\n",
    "from mpl_toolkits.mplot3d import Axes3D\n",
    "import matplotlib.pyplot as plt\n",
    "mpl.rcParams['legend.fontsize'] = 10\n",
    "import pandas as pd\n",
    "import itertools\n",
    "pd.set_option('display.max_colwidth', None)\n",
    "\n",
    "#\n",
    "\n",
    "# function to print latex\n",
    "def renderListToLatex(e):\n",
    "    latex_rendering = []\n",
    "\n",
    "    for i in range(len(e)):\n",
    "        latex_rendering.append(\"$$\" + sp.latex(e[i]) + \"$$<br/>\")\n",
    "    \n",
    "    return(HTML(\"\".join(latex_rendering[0:])))"
   ]
  },
  {
   "cell_type": "markdown",
   "metadata": {},
   "source": [
    "### Solving Polynomial Equations (15)"
   ]
  },
  {
   "cell_type": "markdown",
   "metadata": {},
   "source": [
    "<hr/>\n",
    "\n",
    "<b>Aim</b>: Explore the quartic equation and bBiTriQuad numbers\n",
    "\n",
    "<hr/>\n",
    "\n",
    "\n",
    "<b>Ref</b>: The BiTri array can be found on OEIS (A104978), seen in diagonals\n",
    "\n",
    "<b>Ref</b>: Interesting related reference: John Zhau, Fat and Thin Emergent Geometries of Hermitial One-Matrix Models (math physics)\n",
    "\n"
   ]
  },
  {
   "cell_type": "markdown",
   "metadata": {},
   "source": [
    "<b>Observe</b>: a solution to a general cubic equation\n",
    "\n",
    "$$C(m_2, m_3)  \\equiv(-1)^{m_3 + 1} \\frac{(2 m_{2} + 3 m_{3})!}{(1 + m_{2} + 2 m_{3})!m_2!m_3!} \\frac{c_0^{1 + m_{2} + 2 m_{3}} c_2^{m_2} c_3^{m_3} }{c_1^{2 m_{2} + 3 m_{3} + 1}}$$\n"
   ]
  },
  {
   "cell_type": "markdown",
   "metadata": {},
   "source": [
    "Create needed unknown types"
   ]
  },
  {
   "cell_type": "code",
   "execution_count": 8,
   "metadata": {},
   "outputs": [],
   "source": [
    "c_0, c_1, c_2, c_3, c_4, x, t, a_0, a_1, a_2, a_3, a_4, a_5, a_6, a_7, a_8, a_9, x_1, x_2, s_1, s_2 = sp.symbols('c_0, c_1, c_2, c_3, c_4, x, t, a_0, a_1, a_2, a_3, a_4, a_5, a_6, a_7, a_8, a_9, x_1, x_2, s_1, s_2')"
   ]
  },
  {
   "cell_type": "markdown",
   "metadata": {},
   "source": [
    "<b>Let</b> $P1$, $P2$, $P3$ be from notebook 6."
   ]
  },
  {
   "cell_type": "code",
   "execution_count": 2,
   "metadata": {},
   "outputs": [],
   "source": [
    "with open('./SharedOutputs/SPE6.pickle', 'rb') as input:\n",
    "    imported_outputs_from_another_notebook = pickle.load(input)\n",
    "    \n",
    "P1 = imported_outputs_from_another_notebook['xSubstitution']\n",
    "P2 = imported_outputs_from_another_notebook['generalQuarticEquation']\n",
    "P3 = imported_outputs_from_another_notebook['solutionForXForQuartic']\n"
   ]
  },
  {
   "cell_type": "markdown",
   "metadata": {},
   "source": [
    "<b>Observe</b>: $P2$ was presented in Notebook 6 as a general quartic equation. Subsitutions were made, replacing $c_0$ with $t$ and $x$ with $P1$"
   ]
  },
  {
   "cell_type": "code",
   "execution_count": 4,
   "metadata": {},
   "outputs": [
    {
     "data": {
      "text/html": [
       "$$c_{0} + c_{1} x + c_{2} x^{2} + c_{3} x^{3} + c_{4} x^{4} = 0$$<br/>$$a_{0} + a_{1} t + a_{2} t^{2} + a_{3} t^{3} + a_{4} t^{4} + a_{5} t^{5} + a_{6} t^{6} + a_{7} t^{7} + a_{8} t^{8}$$<br/>"
      ],
      "text/plain": [
       "<IPython.core.display.HTML object>"
      ]
     },
     "execution_count": 4,
     "metadata": {},
     "output_type": "execute_result"
    }
   ],
   "source": [
    "renderListToLatex([P2, P1])"
   ]
  },
  {
   "cell_type": "markdown",
   "metadata": {},
   "source": [
    "<b>Observe</b>: A solution for $x$ was found, $P3$."
   ]
  },
  {
   "cell_type": "code",
   "execution_count": 5,
   "metadata": {},
   "outputs": [
    {
     "data": {
      "text/latex": [
       "$\\displaystyle - \\frac{45 c_{0}^{8} c_{2} c_{4}^{2}}{c_{1}^{11}} - \\frac{45 c_{0}^{8} c_{3}^{2} c_{4}}{c_{1}^{11}} + \\frac{495 c_{0}^{8} c_{2}^{2} c_{3} c_{4}}{c_{1}^{12}} + \\frac{165 c_{0}^{8} c_{2} c_{3}^{3}}{c_{1}^{12}} - \\frac{495 c_{0}^{8} c_{2}^{4} c_{4}}{c_{1}^{13}} - \\frac{990 c_{0}^{8} c_{2}^{3} c_{3}^{2}}{c_{1}^{13}} + \\frac{1287 c_{0}^{8} c_{2}^{5} c_{3}}{c_{1}^{14}} - \\frac{429 c_{0}^{8} c_{2}^{7}}{c_{1}^{15}} - \\frac{4 c_{0}^{7} c_{4}^{2}}{c_{1}^{9}} + \\frac{72 c_{0}^{7} c_{2} c_{3} c_{4}}{c_{1}^{10}} + \\frac{12 c_{0}^{7} c_{3}^{3}}{c_{1}^{10}} - \\frac{120 c_{0}^{7} c_{2}^{3} c_{4}}{c_{1}^{11}} - \\frac{180 c_{0}^{7} c_{2}^{2} c_{3}^{2}}{c_{1}^{11}} + \\frac{330 c_{0}^{7} c_{2}^{4} c_{3}}{c_{1}^{12}} - \\frac{132 c_{0}^{7} c_{2}^{6}}{c_{1}^{13}} + \\frac{7 c_{0}^{6} c_{3} c_{4}}{c_{1}^{8}} - \\frac{28 c_{0}^{6} c_{2}^{2} c_{4}}{c_{1}^{9}} - \\frac{28 c_{0}^{6} c_{2} c_{3}^{2}}{c_{1}^{9}} + \\frac{84 c_{0}^{6} c_{2}^{3} c_{3}}{c_{1}^{10}} - \\frac{42 c_{0}^{6} c_{2}^{5}}{c_{1}^{11}} - \\frac{6 c_{0}^{5} c_{2} c_{4}}{c_{1}^{7}} - \\frac{3 c_{0}^{5} c_{3}^{2}}{c_{1}^{7}} + \\frac{21 c_{0}^{5} c_{2}^{2} c_{3}}{c_{1}^{8}} - \\frac{14 c_{0}^{5} c_{2}^{4}}{c_{1}^{9}} - \\frac{c_{0}^{4} c_{4}}{c_{1}^{5}} + \\frac{5 c_{0}^{4} c_{2} c_{3}}{c_{1}^{6}} - \\frac{5 c_{0}^{4} c_{2}^{3}}{c_{1}^{7}} + \\frac{c_{0}^{3} c_{3}}{c_{1}^{4}} - \\frac{2 c_{0}^{3} c_{2}^{2}}{c_{1}^{5}} - \\frac{c_{0}^{2} c_{2}}{c_{1}^{3}} - \\frac{c_{0}}{c_{1}}$"
      ],
      "text/plain": [
       "-45*c_0**8*c_2*c_4**2/c_1**11 - 45*c_0**8*c_3**2*c_4/c_1**11 + 495*c_0**8*c_2**2*c_3*c_4/c_1**12 + 165*c_0**8*c_2*c_3**3/c_1**12 - 495*c_0**8*c_2**4*c_4/c_1**13 - 990*c_0**8*c_2**3*c_3**2/c_1**13 + 1287*c_0**8*c_2**5*c_3/c_1**14 - 429*c_0**8*c_2**7/c_1**15 - 4*c_0**7*c_4**2/c_1**9 + 72*c_0**7*c_2*c_3*c_4/c_1**10 + 12*c_0**7*c_3**3/c_1**10 - 120*c_0**7*c_2**3*c_4/c_1**11 - 180*c_0**7*c_2**2*c_3**2/c_1**11 + 330*c_0**7*c_2**4*c_3/c_1**12 - 132*c_0**7*c_2**6/c_1**13 + 7*c_0**6*c_3*c_4/c_1**8 - 28*c_0**6*c_2**2*c_4/c_1**9 - 28*c_0**6*c_2*c_3**2/c_1**9 + 84*c_0**6*c_2**3*c_3/c_1**10 - 42*c_0**6*c_2**5/c_1**11 - 6*c_0**5*c_2*c_4/c_1**7 - 3*c_0**5*c_3**2/c_1**7 + 21*c_0**5*c_2**2*c_3/c_1**8 - 14*c_0**5*c_2**4/c_1**9 - c_0**4*c_4/c_1**5 + 5*c_0**4*c_2*c_3/c_1**6 - 5*c_0**4*c_2**3/c_1**7 + c_0**3*c_3/c_1**4 - 2*c_0**3*c_2**2/c_1**5 - c_0**2*c_2/c_1**3 - c_0/c_1"
      ]
     },
     "execution_count": 5,
     "metadata": {},
     "output_type": "execute_result"
    }
   ],
   "source": [
    "P3"
   ]
  },
  {
   "cell_type": "markdown",
   "metadata": {},
   "source": [
    "<b>Observe</b>: The general form of each term in thesolution:  \n",
    "\n",
    "$$\\frac{c_0^{m_0} c_2^{m_2} c_3^{m_3} c_4^{m_4}}{c_1^{m_1}} $$"
   ]
  },
  {
   "cell_type": "markdown",
   "metadata": {},
   "source": [
    "<b>Observe</b>: Based on the data in the solution, 2 conditions for relationships between the $m_i$ terms can be seen: \n",
    "\n",
    "<b>Observe</b>: the <b>Degree</b> of each term in the quartic satisfies:  $m_0 + m_2 + m_3 + m_4 - m_1 = 0$\n",
    "\n",
    "<b>Observe</b>: the <b>Index Degree</b> of each term in the quartic solution satisfied: $ m_1 + 2m_2 + 3m_3 + 4m_4 = -1$ "
   ]
  },
  {
   "cell_type": "markdown",
   "metadata": {},
   "source": [
    "<b>Observe</b>: It is possible to use these equations to create the following equivalencies:\n",
    "\n",
    "$$m_0 = 1 + m_2 + 2m_3 + 3m_4 $$\n",
    "$$ m_1 = 1 + 2m_2 + 3m_3 + 4m_4 $$"
   ]
  },
  {
   "cell_type": "markdown",
   "metadata": {},
   "source": [
    "<b>Observe</b>: these identities appear to be an extension of cubic case. \n",
    "\n",
    "<b>Observe</b>: the General term is given by:  \n",
    "\n",
    "\n",
    "$$ F(m_2, m_3, m_4) = (-1)^{m_3 + 1} \\frac{(2m_2 + 3m_3 + 4m_4)! }{(1 + m_2 + 2m_3 + 3m_4)!m_2!m_3!m_4!} \\frac{c_0^{ 1 + m_2 + 2m_3 + 3m_4 } c_2^{m_2} c_3^{m_3} c_4^{m_4}}{c_1^{1 + 2m_2 + 3m_3 + 4m_4}} $$"
   ]
  },
  {
   "cell_type": "markdown",
   "metadata": {},
   "source": [
    "<b>Observe</b>: This can be written equivalently in terms of $m, n, p$ to simplify subscripts in the variables. "
   ]
  },
  {
   "cell_type": "markdown",
   "metadata": {},
   "source": [
    "$$ F(m, n, p) = (-1)^{n + 1} \\frac{(2m + 3n + 4p)! }{(1 + m + 2n + 3p)!m!n!p!} \\frac{c_0^{ 1 + m + 2n + 3p } c_2^{m} c_3^{n} c_4^{p}}{c_1^{1 + 2m + 3n + 4p}} $$"
   ]
  },
  {
   "cell_type": "markdown",
   "metadata": {},
   "source": [
    "Let $F1$ be an implementation of $F$ "
   ]
  },
  {
   "cell_type": "code",
   "execution_count": 49,
   "metadata": {},
   "outputs": [],
   "source": [
    "def F1(m, n, p, returnCoefficientsOnly = False, returnCoefficientsOnlyWithoutSigns = False, returnCoefficientsAsFactorialStrings = False):\n",
    "    c_0, c_1, c_2, c_3, c_4 = sp.symbols('c_0, c_1, c_2, c_3, c_4')\n",
    "    \n",
    "    \n",
    "    s1 = (-1)**(n + 1)\n",
    "    \n",
    "    s2 = sp.factorial(2 * m + 3 * n + 4 * p)\n",
    "    s3 = sp.factorial(1 + m +2 * n + 3 * p) * sp.factorial(m) * sp.factorial(n) * sp.factorial(p)\n",
    "\n",
    "    \n",
    "    s4 = c_0**(1 + m + 2 * n + 3 * p) * c_2**m *c_3**n * c_4**p\n",
    "    s5 = c_1**(1 + 2 * m + 3 * n + 4 * p)\n",
    "    \n",
    "    s7 = str(2 * m + 3 * n + 4 * p) + \"!\"\n",
    "    s8 = str(1 + 2 * m + 3 * n + 4 * p) + \"!\" + str(m) + \"!\"  + str(n) + \"!\" + str(p) + \"!\"\n",
    "    \n",
    "    if returnCoefficientsOnly:\n",
    "        s6 = s1 * (s2 / s3)\n",
    "    elif returnCoefficientsOnlyWithoutSigns:\n",
    "        s6 = (s2 / s3)\n",
    "    elif returnCoefficientsAsFactorialStrings:\n",
    "        s6 = str(s7 + \" | \" + s8)\n",
    "    else:\n",
    "        s6 = s1 * (s2 / s3) * (s4 / s5)\n",
    "\n",
    "    return(s6)"
   ]
  },
  {
   "cell_type": "markdown",
   "metadata": {},
   "source": [
    "Let $P6$ be an $8 \\times 8 \\times 1$ array of values evaluated with $F1$"
   ]
  },
  {
   "cell_type": "code",
   "execution_count": 50,
   "metadata": {},
   "outputs": [
    {
     "data": {
      "text/latex": [
       "$\\displaystyle \\left[\\begin{matrix}- \\frac{c_{0}^{4} c_{4}}{c_{1}^{5}} & \\frac{7 c_{0}^{6} c_{3} c_{4}}{c_{1}^{8}} & - \\frac{45 c_{0}^{8} c_{3}^{2} c_{4}}{c_{1}^{11}} & \\frac{286 c_{0}^{10} c_{3}^{3} c_{4}}{c_{1}^{14}} & - \\frac{1820 c_{0}^{12} c_{3}^{4} c_{4}}{c_{1}^{17}} & \\frac{11628 c_{0}^{14} c_{3}^{5} c_{4}}{c_{1}^{20}} & - \\frac{74613 c_{0}^{16} c_{3}^{6} c_{4}}{c_{1}^{23}} & \\frac{480700 c_{0}^{18} c_{3}^{7} c_{4}}{c_{1}^{26}}\\\\- \\frac{6 c_{0}^{5} c_{2} c_{4}}{c_{1}^{7}} & \\frac{72 c_{0}^{7} c_{2} c_{3} c_{4}}{c_{1}^{10}} & - \\frac{660 c_{0}^{9} c_{2} c_{3}^{2} c_{4}}{c_{1}^{13}} & \\frac{5460 c_{0}^{11} c_{2} c_{3}^{3} c_{4}}{c_{1}^{16}} & - \\frac{42840 c_{0}^{13} c_{2} c_{3}^{4} c_{4}}{c_{1}^{19}} & \\frac{325584 c_{0}^{15} c_{2} c_{3}^{5} c_{4}}{c_{1}^{22}} & - \\frac{2422728 c_{0}^{17} c_{2} c_{3}^{6} c_{4}}{c_{1}^{25}} & \\frac{17760600 c_{0}^{19} c_{2} c_{3}^{7} c_{4}}{c_{1}^{28}}\\\\- \\frac{28 c_{0}^{6} c_{2}^{2} c_{4}}{c_{1}^{9}} & \\frac{495 c_{0}^{8} c_{2}^{2} c_{3} c_{4}}{c_{1}^{12}} & - \\frac{6006 c_{0}^{10} c_{2}^{2} c_{3}^{2} c_{4}}{c_{1}^{15}} & \\frac{61880 c_{0}^{12} c_{2}^{2} c_{3}^{3} c_{4}}{c_{1}^{18}} & - \\frac{581400 c_{0}^{14} c_{2}^{2} c_{3}^{4} c_{4}}{c_{1}^{21}} & \\frac{5148297 c_{0}^{16} c_{2}^{2} c_{3}^{5} c_{4}}{c_{1}^{24}} & - \\frac{43743700 c_{0}^{18} c_{2}^{2} c_{3}^{6} c_{4}}{c_{1}^{27}} & \\frac{360540180 c_{0}^{20} c_{2}^{2} c_{3}^{7} c_{4}}{c_{1}^{30}}\\\\- \\frac{120 c_{0}^{7} c_{2}^{3} c_{4}}{c_{1}^{11}} & \\frac{2860 c_{0}^{9} c_{2}^{3} c_{3} c_{4}}{c_{1}^{14}} & - \\frac{43680 c_{0}^{11} c_{2}^{3} c_{3}^{2} c_{4}}{c_{1}^{17}} & \\frac{542640 c_{0}^{13} c_{2}^{3} c_{3}^{3} c_{4}}{c_{1}^{20}} & - \\frac{5969040 c_{0}^{15} c_{2}^{3} c_{3}^{4} c_{4}}{c_{1}^{23}} & \\frac{60568200 c_{0}^{17} c_{2}^{3} c_{3}^{5} c_{4}}{c_{1}^{26}} & - \\frac{580179600 c_{0}^{19} c_{2}^{3} c_{3}^{6} c_{4}}{c_{1}^{29}} & \\frac{5322259800 c_{0}^{21} c_{2}^{3} c_{3}^{7} c_{4}}{c_{1}^{32}}\\\\- \\frac{495 c_{0}^{8} c_{2}^{4} c_{4}}{c_{1}^{13}} & \\frac{15015 c_{0}^{10} c_{2}^{4} c_{3} c_{4}}{c_{1}^{16}} & - \\frac{278460 c_{0}^{12} c_{2}^{4} c_{3}^{2} c_{4}}{c_{1}^{19}} & \\frac{4069800 c_{0}^{14} c_{2}^{4} c_{3}^{3} c_{4}}{c_{1}^{22}} & - \\frac{51482970 c_{0}^{16} c_{2}^{4} c_{3}^{4} c_{4}}{c_{1}^{25}} & \\frac{590539950 c_{0}^{18} c_{2}^{4} c_{3}^{5} c_{4}}{c_{1}^{28}} & - \\frac{6309453150 c_{0}^{20} c_{2}^{4} c_{3}^{6} c_{4}}{c_{1}^{31}} & \\frac{63867117600 c_{0}^{22} c_{2}^{4} c_{3}^{7} c_{4}}{c_{1}^{34}}\\\\- \\frac{2002 c_{0}^{9} c_{2}^{5} c_{4}}{c_{1}^{15}} & \\frac{74256 c_{0}^{11} c_{2}^{5} c_{3} c_{4}}{c_{1}^{18}} & - \\frac{1627920 c_{0}^{13} c_{2}^{5} c_{3}^{2} c_{4}}{c_{1}^{21}} & \\frac{27457584 c_{0}^{15} c_{2}^{5} c_{3}^{3} c_{4}}{c_{1}^{24}} & - \\frac{393693300 c_{0}^{17} c_{2}^{5} c_{3}^{4} c_{4}}{c_{1}^{27}} & \\frac{5047562520 c_{0}^{19} c_{2}^{5} c_{3}^{5} c_{4}}{c_{1}^{30}} & - \\frac{59609309760 c_{0}^{21} c_{2}^{5} c_{3}^{6} c_{4}}{c_{1}^{33}} & \\frac{660885825600 c_{0}^{23} c_{2}^{5} c_{3}^{7} c_{4}}{c_{1}^{36}}\\\\- \\frac{8008 c_{0}^{10} c_{2}^{6} c_{4}}{c_{1}^{17}} & \\frac{352716 c_{0}^{12} c_{2}^{6} c_{3} c_{4}}{c_{1}^{20}} & - \\frac{8953560 c_{0}^{14} c_{2}^{6} c_{3}^{2} c_{4}}{c_{1}^{23}} & \\frac{171609900 c_{0}^{16} c_{2}^{6} c_{3}^{3} c_{4}}{c_{1}^{26}} & - \\frac{2755853100 c_{0}^{18} c_{2}^{6} c_{3}^{4} c_{4}}{c_{1}^{29}} & \\frac{39118609530 c_{0}^{20} c_{2}^{6} c_{3}^{5} c_{4}}{c_{1}^{32}} & - \\frac{506679132960 c_{0}^{22} c_{2}^{6} c_{3}^{6} c_{4}}{c_{1}^{35}} & \\frac{6113193886800 c_{0}^{24} c_{2}^{6} c_{3}^{7} c_{4}}{c_{1}^{38}}\\\\- \\frac{31824 c_{0}^{11} c_{2}^{7} c_{4}}{c_{1}^{19}} & \\frac{1627920 c_{0}^{13} c_{2}^{7} c_{3} c_{4}}{c_{1}^{22}} & - \\frac{47070144 c_{0}^{15} c_{2}^{7} c_{3}^{2} c_{4}}{c_{1}^{25}} & \\frac{1012354200 c_{0}^{17} c_{2}^{7} c_{3}^{3} c_{4}}{c_{1}^{28}} & - \\frac{18027009000 c_{0}^{19} c_{2}^{7} c_{3}^{4} c_{4}}{c_{1}^{31}} & \\frac{281015317440 c_{0}^{21} c_{2}^{7} c_{3}^{5} c_{4}}{c_{1}^{34}} & - \\frac{3965314953600 c_{0}^{23} c_{2}^{7} c_{3}^{6} c_{4}}{c_{1}^{37}} & \\frac{51770019087072 c_{0}^{25} c_{2}^{7} c_{3}^{7} c_{4}}{c_{1}^{40}}\\end{matrix}\\right]$"
      ],
      "text/plain": [
       "Matrix([\n",
       "[               -c_0**4*c_4/c_1**5,                7*c_0**6*c_3*c_4/c_1**8,               -45*c_0**8*c_3**2*c_4/c_1**11,               286*c_0**10*c_3**3*c_4/c_1**14,               -1820*c_0**12*c_3**4*c_4/c_1**17,               11628*c_0**14*c_3**5*c_4/c_1**20,                -74613*c_0**16*c_3**6*c_4/c_1**23,                480700*c_0**18*c_3**7*c_4/c_1**26],\n",
       "[         -6*c_0**5*c_2*c_4/c_1**7,          72*c_0**7*c_2*c_3*c_4/c_1**10,          -660*c_0**9*c_2*c_3**2*c_4/c_1**13,          5460*c_0**11*c_2*c_3**3*c_4/c_1**16,          -42840*c_0**13*c_2*c_3**4*c_4/c_1**19,          325584*c_0**15*c_2*c_3**5*c_4/c_1**22,          -2422728*c_0**17*c_2*c_3**6*c_4/c_1**25,          17760600*c_0**19*c_2*c_3**7*c_4/c_1**28],\n",
       "[     -28*c_0**6*c_2**2*c_4/c_1**9,      495*c_0**8*c_2**2*c_3*c_4/c_1**12,     -6006*c_0**10*c_2**2*c_3**2*c_4/c_1**15,      61880*c_0**12*c_2**2*c_3**3*c_4/c_1**18,      -581400*c_0**14*c_2**2*c_3**4*c_4/c_1**21,      5148297*c_0**16*c_2**2*c_3**5*c_4/c_1**24,      -43743700*c_0**18*c_2**2*c_3**6*c_4/c_1**27,      360540180*c_0**20*c_2**2*c_3**7*c_4/c_1**30],\n",
       "[   -120*c_0**7*c_2**3*c_4/c_1**11,     2860*c_0**9*c_2**3*c_3*c_4/c_1**14,    -43680*c_0**11*c_2**3*c_3**2*c_4/c_1**17,     542640*c_0**13*c_2**3*c_3**3*c_4/c_1**20,     -5969040*c_0**15*c_2**3*c_3**4*c_4/c_1**23,     60568200*c_0**17*c_2**3*c_3**5*c_4/c_1**26,     -580179600*c_0**19*c_2**3*c_3**6*c_4/c_1**29,     5322259800*c_0**21*c_2**3*c_3**7*c_4/c_1**32],\n",
       "[   -495*c_0**8*c_2**4*c_4/c_1**13,   15015*c_0**10*c_2**4*c_3*c_4/c_1**16,   -278460*c_0**12*c_2**4*c_3**2*c_4/c_1**19,    4069800*c_0**14*c_2**4*c_3**3*c_4/c_1**22,    -51482970*c_0**16*c_2**4*c_3**4*c_4/c_1**25,    590539950*c_0**18*c_2**4*c_3**5*c_4/c_1**28,    -6309453150*c_0**20*c_2**4*c_3**6*c_4/c_1**31,    63867117600*c_0**22*c_2**4*c_3**7*c_4/c_1**34],\n",
       "[  -2002*c_0**9*c_2**5*c_4/c_1**15,   74256*c_0**11*c_2**5*c_3*c_4/c_1**18,  -1627920*c_0**13*c_2**5*c_3**2*c_4/c_1**21,   27457584*c_0**15*c_2**5*c_3**3*c_4/c_1**24,   -393693300*c_0**17*c_2**5*c_3**4*c_4/c_1**27,   5047562520*c_0**19*c_2**5*c_3**5*c_4/c_1**30,   -59609309760*c_0**21*c_2**5*c_3**6*c_4/c_1**33,   660885825600*c_0**23*c_2**5*c_3**7*c_4/c_1**36],\n",
       "[ -8008*c_0**10*c_2**6*c_4/c_1**17,  352716*c_0**12*c_2**6*c_3*c_4/c_1**20,  -8953560*c_0**14*c_2**6*c_3**2*c_4/c_1**23,  171609900*c_0**16*c_2**6*c_3**3*c_4/c_1**26,  -2755853100*c_0**18*c_2**6*c_3**4*c_4/c_1**29,  39118609530*c_0**20*c_2**6*c_3**5*c_4/c_1**32,  -506679132960*c_0**22*c_2**6*c_3**6*c_4/c_1**35,  6113193886800*c_0**24*c_2**6*c_3**7*c_4/c_1**38],\n",
       "[-31824*c_0**11*c_2**7*c_4/c_1**19, 1627920*c_0**13*c_2**7*c_3*c_4/c_1**22, -47070144*c_0**15*c_2**7*c_3**2*c_4/c_1**25, 1012354200*c_0**17*c_2**7*c_3**3*c_4/c_1**28, -18027009000*c_0**19*c_2**7*c_3**4*c_4/c_1**31, 281015317440*c_0**21*c_2**7*c_3**5*c_4/c_1**34, -3965314953600*c_0**23*c_2**7*c_3**6*c_4/c_1**37, 51770019087072*c_0**25*c_2**7*c_3**7*c_4/c_1**40]])"
      ]
     },
     "execution_count": 50,
     "metadata": {},
     "output_type": "execute_result"
    }
   ],
   "source": [
    "P4 = np.arange(8)\n",
    "P5 = np.array([[F1(j, i, 1) for i in P1] for j in P4])\n",
    "P6 = sp.Matrix(P5)\n",
    "P6"
   ]
  },
  {
   "cell_type": "markdown",
   "metadata": {},
   "source": [
    "Let $P8$ be an $8 \\times 8 \\times 1$ array of values evaluated with $F1$ returning coefficients only and ignoring signs"
   ]
  },
  {
   "cell_type": "code",
   "execution_count": 51,
   "metadata": {},
   "outputs": [
    {
     "data": {
      "text/latex": [
       "$\\displaystyle \\left[\\begin{matrix}1 & 7 & 45 & 286 & 1820 & 11628 & 74613 & 480700\\\\6 & 72 & 660 & 5460 & 42840 & 325584 & 2422728 & 17760600\\\\28 & 495 & 6006 & 61880 & 581400 & 5148297 & 43743700 & 360540180\\\\120 & 2860 & 43680 & 542640 & 5969040 & 60568200 & 580179600 & 5322259800\\\\495 & 15015 & 278460 & 4069800 & 51482970 & 590539950 & 6309453150 & 63867117600\\\\2002 & 74256 & 1627920 & 27457584 & 393693300 & 5047562520 & 59609309760 & 660885825600\\\\8008 & 352716 & 8953560 & 171609900 & 2755853100 & 39118609530 & 506679132960 & 6113193886800\\\\31824 & 1627920 & 47070144 & 1012354200 & 18027009000 & 281015317440 & 3965314953600 & 51770019087072\\end{matrix}\\right]$"
      ],
      "text/plain": [
       "Matrix([\n",
       "[    1,       7,       45,        286,        1820,        11628,         74613,         480700],\n",
       "[    6,      72,      660,       5460,       42840,       325584,       2422728,       17760600],\n",
       "[   28,     495,     6006,      61880,      581400,      5148297,      43743700,      360540180],\n",
       "[  120,    2860,    43680,     542640,     5969040,     60568200,     580179600,     5322259800],\n",
       "[  495,   15015,   278460,    4069800,    51482970,    590539950,    6309453150,    63867117600],\n",
       "[ 2002,   74256,  1627920,   27457584,   393693300,   5047562520,   59609309760,   660885825600],\n",
       "[ 8008,  352716,  8953560,  171609900,  2755853100,  39118609530,  506679132960,  6113193886800],\n",
       "[31824, 1627920, 47070144, 1012354200, 18027009000, 281015317440, 3965314953600, 51770019087072]])"
      ]
     },
     "execution_count": 51,
     "metadata": {},
     "output_type": "execute_result"
    }
   ],
   "source": [
    "P7 = np.array([[F1(j, i, 1, returnCoefficientsOnlyWithoutSigns=True) for i in P1] for j in P4])\n",
    "P8 = sp.Matrix(P7)\n",
    "P8"
   ]
  },
  {
   "cell_type": "markdown",
   "metadata": {},
   "source": [
    "<b>Observe</b>: these coefficients can be regarded as <b>BiTriQuad</b> and are also sub multinomial\n",
    "\n",
    "<b>Observe</b>: It is a natural conjecture, based on the assumption that if $m$ and $n$ relate to the number of ways of subdividing triangles and quadrilaterals, $p$ could relate to the number of ways of subdividing petagons. These numbers numbers may provide insight into the number of ways of subdividing polygons into triangles, quadrilaterals and pentagrams.\n",
    "\n",
    "<b>Observe</b>: If this function is evaluated at $(m, n, 0)$ the BiTri (Catalan and Fuss numbers) will be recovered. This suggests a relatinoship between polynomials of increasing degrees."
   ]
  },
  {
   "cell_type": "markdown",
   "metadata": {},
   "source": [
    "<hr/>\n",
    "\n",
    "<b>Aim</b>: Explore the <b>BiTriQuad</b> numbers in a similiar fashion to exploring the <b>BiTri</b> numbers\n",
    "\n",
    "<b>Method</b>: Explore different combinations of inputs such as $m, m + 1, n, n + 1, p, p + 1$ and keeping one variables as this is a 3D array of numbers.\n",
    "<hr/>"
   ]
  },
  {
   "cell_type": "markdown",
   "metadata": {},
   "source": [
    "<b>Observe</b>: In the case of $(m, n, 1)$, the result given by $P8$, the first column of values is the OEIS entry A236194\n",
    "\n",
    "\n",
    "<b>Observe</b>: In the case of $(m, n, 1)$, the result given by $P8$, the first row of values is the OEIS entry A002694\n",
    "\n",
    "<b>Todo</b>: Check other patterns against OEIS"
   ]
  },
  {
   "cell_type": "markdown",
   "metadata": {},
   "source": [
    "<b>Conjecture</b>: The <b>BiTriQuad</b> Numbers, which is the coeffiencts of F(m, n, p) counts the number of a diagonal subidivisons of a $(2 + m + 2n + 3p)$ sided polygon into $m$ triangles, $n$ quadrialterals and $p$ pentagons. In particular, this shows that $F(m, n, p)$ must a an integer\n",
    "\n",
    "<b>Observe</b>: To \"count\" sides, start with 2, and then add one for every triangle that is being created. Quadrilaterals will add 2 new vertices/ edges Petagrams will add 3 vertices/edges. This is conjecture is true, this number will always be an integer. \n",
    "\n",
    "<b>Todo</b>: Go through combinations in a similar way to the cubic case, and look at recursive relations."
   ]
  }
 ],
 "metadata": {
  "kernelspec": {
   "display_name": "Python 3",
   "language": "python",
   "name": "python3"
  },
  "language_info": {
   "codemirror_mode": {
    "name": "ipython",
    "version": 3
   },
   "file_extension": ".py",
   "mimetype": "text/x-python",
   "name": "python",
   "nbconvert_exporter": "python",
   "pygments_lexer": "ipython3",
   "version": "3.9.2"
  }
 },
 "nbformat": 4,
 "nbformat_minor": 4
}
