{
 "cells": [
  {
   "cell_type": "code",
   "execution_count": 1,
   "id": "0d2c0110-d7bb-496a-a323-66001f6aeb84",
   "metadata": {},
   "outputs": [],
   "source": [
    "import numpy as np\n",
    "import sympy as sp\n",
    "from IPython.display import HTML\n",
    "import ipywidgets as widgets\n",
    "import matplotlib as mpl\n",
    "from mpl_toolkits.mplot3d import Axes3D\n",
    "import matplotlib.pyplot as plt\n",
    "mpl.rcParams['legend.fontsize'] = 10\n",
    "import pandas as pd\n",
    "import itertools\n",
    "\n",
    "# This is commented out\n",
    "#%matplotlib widget\n",
    "\n",
    "# function to print latex\n",
    "def renderListToLatex(e):\n",
    "    latex_rendering = []\n",
    "\n",
    "    for i in range(len(e)):\n",
    "        latex_rendering.append(\"$$\" + sp.latex(e[i]) + \"$$\")\n",
    "    \n",
    "    return(HTML(\"\".join(latex_rendering[0:])))"
   ]
  },
  {
   "cell_type": "markdown",
   "id": "978c9572-a282-4ec1-aedf-912e934803bf",
   "metadata": {},
   "source": [
    "## Computational Mathematics: Symmetry and Invariance"
   ]
  },
  {
   "cell_type": "markdown",
   "id": "2123c487-6c63-4f68-98d7-0d2cd0fd7af5",
   "metadata": {},
   "source": [
    "#### Purpose"
   ]
  },
  {
   "cell_type": "markdown",
   "id": "13aed384-03d9-41ad-9ea1-3c0a1a5b964b",
   "metadata": {},
   "source": [
    "The purpose of this book is to give you a deep understanding of advanced mathematics and physics: the kind of understanding so you can read papers in the field, understand complexity,  see deep These fields can be extrodinally difficult and seemingly endless, but it should not be this way. Many study, basics tools calculus and linear algebra, before moving on to Topologoy, Differential. The experience of most people is that these topics become increasingly opaque. Reading papers, Poincare, Reimann, Gause. These are carefully build a scaffold to underssand them. Relativity and quantum mechanics at is an idea of geometry and algebra, and we should have a deep understanding of this. Difficulty of some of these papers, demand simplicity\n",
    "\n",
    "This book challenges the complexity above all. \n",
    "\n",
    "#### Symmetry and Invariance \n",
    "\n",
    "The two overarching themes in this book are symmetry and invariance. is a shared protocal. protocol between A peripheral argument I will also make is that there is no no differentce between I will make, is firstly that mathematics and physics are the same thing, subtle relatinoship between analytics, abstract and applied. importance of abstract objects in mathematics. Finally, need to reframe mathematics as a strudy We want to A motivation of that was Roger Penrose's text Road to Reality. This is a beautiful work, but I am yet to meet anyone who learnt how to to it. To me, it's like owning a copy of Proust's In Search of Lost Time. This text aims to allow those types of books to be read eadable, and not only that, but to have an opinion on them. There is also a lot of positions being taken. "
   ]
  },
  {
   "cell_type": "markdown",
   "id": "0f7a59d3-7ca9-4356-977a-bade1ba926e4",
   "metadata": {},
   "source": [
    "#### Prerequisites\n",
    "\n",
    "This book assumes an understanding of university level Calculus and Physics. I understand this probably means different things to different people and there is certainly nothing worse than starting to work through a text only to realise it is full of hidden complexity. So in the following section I will outline exactly I mean by this, and point you towards some freely available resources, available and I also host the PDFs on my Github.\n",
    "\n",
    "\n",
    "<b>Precalculus prerequisites</b>\n",
    "\n",
    "When you are starting out in mathematics, the first thing that is important to understand is various topics in pre-calculus: things like algebra, trigonometry, conics, logarithms, exponentials and so on. This is the kind of thing that you would find standard high school curriculum. I am writing this book in Australia and ther are a number of different levels of year 12 mathematics and the Mathematics Advanced Curriculum is fine for all of these topics. In the curriculum in NSW, Australia, there are harder levels of Math, called Extension 1 and Extension 2. But you don't need that, the Mathematics Advanced is quite good and will also Calculus and Integration to give you a taste of what is to come. It is pretty comparable to math in most countries. \n",
    "\n",
    "I actually came back to mathematics quite some time after high school, and the best text book I found is Stitz and Zeager's text, <i>PreCalculus</i>. It will give you a good grounding in lots of topics, and all the basics that tend to come up later on. \n",
    "\n",
    "<b>Calculus prerequisites</b>\n",
    "\n",
    "\n",
    "When you are working through topics Precalculus, you may choose to work with pen and paper and work things out by hand. Chances are, if you are in a high school program this will be you experience. However, once you have finished this, I would suggest doing things computationally almost exclusively. This is after all a text that is focused on the computational mathematics. A good time to make this transition is when you are starting to do things beyond standard high school mathematics. \n",
    "\n",
    "All the code that I refer to in this book is in Python. I have lots of tools over the years, such as Mathematica and RStudio to Matlab, but I find that Python, its easy to set up, free. While Python has its own specialised set of libraries, However, I will only use standard python libraries (predominantly SymPy and NumPy) for everything that we are doing to do. You will find lots of different options, I tend to use Python because its quite easy to solve any kind of computational problem. \n",
    "\n",
    "Once you decide what computational software to use, you should use it to get your Calculus. There are lots of good Calculus resources out there. A nice and free one that I have found is <i>Paul's Calculus Notes</i> which you can work through to a advanced level of calculus. You will find that using a computer to take derivatives and integrals will radically speed up your workflow, and you should treat this as an opportunity to also get comfortable sketching\n",
    "diagrams, working in a flow with a computer. You should cover Calculus I, II and III and the differential equations. \n",
    "\n",
    "I have some guides on my websites for working through questions. When you work though these, do not be concerned with the proofs. Use the formulas, use it as an opportunity to solve problems and understand the kinds of problems that Calculus sets out to solve. TWe will be taking a Lagrangian approach towards Calculus, using a Lagrangian approach. But the advantage is to understand what Calculus can do as a technology.\n",
    "\n",
    "\n",
    "<b>Physics prerequisites </b>\n",
    "\n",
    "In terms of Physics, the best resource I have come across is the OpenStax physics books. I find Physics difficult than mathematics. I found these texts move at quite a nice page. If you work through them examples, not even so much the exercises at the end of each chapture. Again, these are freely available. Work through the questions. This will cover classical physics modern physics, \n",
    "\n",
    "<b>Gaining some historical context</b>\n",
    "\n",
    "Finally, why these problems arise.As well as Calculus and Physics, there a few other things to be aware of I will thoroughly cover anything\n",
    "like that, but the best way to understand these things is . Finally, we will reframe mathematical history, Stillwell, and Norman Wildberger's Math History Lectures. \n",
    "\n",
    "<b>Is that everything?</b>\n",
    "\n",
    "Firstly, those pre-requisites might seem like a tall order, and I am putting them up front.  asked you to stop and do something that might take a while. Chances are, you may have covered this content in a standard science degree. But at the same time, its reasonable to ask. If you have a sense of  I am not going to assume that. Anything beyond that will be introduced very carefully and slowly.  And there is a fair part of reframing up rejecting. This provides a context, a starting point however, it will give us a starting point, a starting poitn in mathematics s and physics to start rebuilding from and its a realistic startign point. \n",
    "\n",
    "Finally, you will also note that I have left some key topics out. THe obvious missing link is linear algebra also which will be handy. I\n",
    "am purposely not going to include a Linear Algebra recommendation. I have not come across any great\n",
    "Linear Algebra standalone resources, there are some amazing video resources, but in terms of stand\n",
    "along groups of exercises there is not alot out there. In any case, it is such a critical technology, I will\n",
    "cover it in the first few chapters.\n",
    "You may notice, a missing piece here is , such as permutations, and solving polynomials, Linear Algebra. I haven't found a treatment that I have liked as resource (though there is certainly very high quality\n",
    "things). The Paul's Calculus notes will cover some of this, and you will develop a working knowledge of\n",
    "this. However I will introduce this and I want to frame it in a particular way, Linear Algebra critical\n",
    "technology that we can use so I will work on that as we go. I will also reframe Trigonometry. We are\n",
    "thinking computationally and avoid situations that infinite computation. Admittedly this does bring us\n",
    "into debates around the nature and validity of real numbers. Though I find these problematic, the\n",
    "purpose is to be pragmatic rather that the explore the philosophy. Regardless of what one thinks we\n",
    "can do, we are limited by computation. \n",
    "    \n",
    "#### A final note\n",
    "    \n",
    "It's important to me that this book is readable. There will specific things to do that I will put that on the accompanying website. But the book itself should be readable. The average person, so I am not going to pack endless concepts. One of our goals is to spend time, simpler way of thinking about this. We live in the twentieth century, but my sense, it is one that will be characterised by verbosity and complexity. We will see that these ideas come up in so many different domains, and our challenge is to find a simple rendering of them"
   ]
  },
  {
   "cell_type": "code",
   "execution_count": null,
   "id": "132e7b31-e2b4-4d9d-b0ce-b755ef8cec9b",
   "metadata": {},
   "outputs": [],
   "source": []
  },
  {
   "cell_type": "markdown",
   "id": "3bf64e10-df81-45c1-bd6a-dd3e27878023",
   "metadata": {},
   "source": [
    "#### 1.1\n",
    "To begin, let's ignore rigor. That will come later. Instead, let's start with some intuitive assumptions:\n",
    "\n",
    "- You are given a circle and the origin of a circle.\n",
    "- You can draw lines in which ever way you want on this circle in order to understand it. You do this\n",
    "you can use a straight edge\n",
    "- You understand what it means that lines meet each other.\n",
    "- As you explore, you can name things. You can group names together and name things there. \n",
    "\n",
    "That's it. So no numbers, no assumptions about triangles, about transcendental functions, no\n",
    "Trigonometry or Pythagoras. Just you, a circle with an origin, and a straight edge.\n",
    "Here is the circle"
   ]
  },
  {
   "cell_type": "code",
   "execution_count": null,
   "id": "652de7ac-ad62-4e11-b4d4-7e677bed30e5",
   "metadata": {},
   "outputs": [],
   "source": [
    "# GRAPHIC"
   ]
  },
  {
   "cell_type": "markdown",
   "id": "5b8c8b73-bbce-4e55-b1ca-41809f49ff4b",
   "metadata": {},
   "source": [
    "If we keep on drawing lines, after a while we can see that seem to be able categorise them. All the lines,\n",
    "except the gray Lines, appear to meet the circle at two points. One of the gray lines meets the circle in\n",
    "one point, and the other gray line meets the circle in no points. So given a group of lines, in this context,\n",
    "the first thing I might way if that any line will meet the circle in 0, 1 or 2 points\n",
    "When I have categories anything I wish of course. For category's where they intersect in 1 or 2 points I\n",
    "will call these categories chord and tangent. So for any line it can have the property of being a chord or\n",
    "a tangent. In our fairly non-rigorous world where we are doing nothing mathematical, it is not difficult\n",
    "to to do this.\n",
    "Note that there is another line of interest: the black line. This meets the requirements for a chord but\n",
    "also goes through that point in the center of the circle. I am going to name any line that goes through a\n",
    "point a diameter.\n",
    "So now I can draw these three types of lines on my circle. I can or course draw lines that do not meet\n",
    "the circle at all, but I am not really interested in these, so I will not bother to give them a name.\n",
    "Finally, note that I keep using the word meet. So when a line intersects, lies on, or incident. I am most\n",
    "4 \n",
    "happy with the term incident, and will favor it because I implying some physical manifestation. This is\n",
    "ok, but I prefer to use the word incident. "
   ]
  },
  {
   "cell_type": "code",
   "execution_count": null,
   "id": "6129fd55-d853-485c-be69-8a48213a9b4f",
   "metadata": {},
   "outputs": [],
   "source": []
  },
  {
   "cell_type": "markdown",
   "id": "7c21e93d-2341-4957-a698-6ebe9ce3c639",
   "metadata": {},
   "source": [
    "#### 1.2 Proof\n",
    "Because we have started categorising things, I think it's worth making a preliminary note on proof. I\n",
    "have always found it slippery. Often when we do proof it is disingenuous process. The language a\n",
    "strange mixture of assumption, mixture of second person. I have always found it problematic that there\n",
    "are no rigorous standards about the exact nature of statements that we can say, which seems unusual\n",
    "given the nature of mathematics. For the purpose of this text, and I am going to allow one thing to\n",
    "happen and base proof off it. When we say we approach a limit and get infinitely closer to something,\n",
    "epsilon proof. What does that even mean? How do I know. Or Cantor's incompleteness theorem. This is\n",
    "not a criticism, rather, I do not know to make that rigorous. So I want to something far limiting from the\n",
    "outset.\n",
    "The only thing you can do in mathematics is name things\n",
    "I can name something. So above, I have created a name of chord, tangent. Now its problematic that I\n",
    "have named something that is a little ambiguous. And when we are start to apply rigor. Proof should be\n",
    "elementary.A set of instructions that we can type into a computer, initial configurations\n",
    "This is not as limiting as we expect. There are a few implications. First, I can name things. Implies, that I\n",
    "can do this process. So I can hang onto the idea. This relates to the idea of Turing machine idea is that\n",
    "we can name something and move between names. It may feel that this means there is almost nothing\n",
    "that can be done. So this might not be as bad as we think. But being in the world, we might conjecture\n",
    "about all kinds of things, and have deep thoughts.\n",
    "I will also place very strict limits on the way that we use language, and w\n",
    "◼ Let Statements: The purpose of. Let D be a diameter. This really just naming a name.\n",
    "◼ Filter Statements: Let D be a line that is not a tangent\n",
    "◼ Case Statements: If statements,\n",
    "◼ Manipulation Statements: Algebraic manipulation. At the moment we can not do this\n",
    "◼ Recall Statements: recall\n",
    "There is of course lots of different types of proof. Induction proof, and strategy. Let's return to the circle"
   ]
  },
  {
   "cell_type": "markdown",
   "id": "2d999678-13c0-4a9c-a1e2-f7bbd92f8df8",
   "metadata": {},
   "source": [
    "A general problem"
   ]
  }
 ],
 "metadata": {
  "kernelspec": {
   "display_name": "Python 3",
   "language": "python",
   "name": "python3"
  },
  "language_info": {
   "codemirror_mode": {
    "name": "ipython",
    "version": 3
   },
   "file_extension": ".py",
   "mimetype": "text/x-python",
   "name": "python",
   "nbconvert_exporter": "python",
   "pygments_lexer": "ipython3",
   "version": "3.9.2"
  }
 },
 "nbformat": 4,
 "nbformat_minor": 5
}
