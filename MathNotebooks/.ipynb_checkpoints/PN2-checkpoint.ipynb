{
 "cells": [
  {
   "cell_type": "code",
   "execution_count": 7,
   "id": "e3a0263f-3639-4572-8863-8aa44e57bf1f",
   "metadata": {},
   "outputs": [],
   "source": [
    "import numpy as np\n",
    "import sympy as sp\n",
    "from IPython.display import HTML\n",
    "import ipywidgets as widgets\n",
    "import matplotlib as mpl\n",
    "from mpl_toolkits.mplot3d import Axes3D\n",
    "import matplotlib.pyplot as plt\n",
    "mpl.rcParams['legend.fontsize'] = 10\n",
    "import pandas as pd\n",
    "import itertools\n",
    "\n",
    "# This is commented out\n",
    "#%matplotlib widget\n",
    "\n",
    "# function to print latex\n",
    "def renderListToLatex(e):\n",
    "    latex_rendering = []\n",
    "\n",
    "    for i in range(len(e)):\n",
    "        latex_rendering.append(\"$\" + sp.latex(e[i]) + \"$ <br/> \")\n",
    "    \n",
    "    return(HTML(\"\".join(latex_rendering[0:])))\n",
    "    \n",
    "    \n",
    "def convert3DVectorToSQRTOfQuadrance(v):\n",
    "    return(sp.N(sp.sqrt(sum([v.args[i].args[0]**2 for i in range(len(v.args))]))))\n",
    "\n",
    "\n",
    "\n",
    "def convert3DVectorToComponents(v, scaleChoice):\n",
    "    print(v)\n",
    "    return(sp.parse_expr(str(v.args).replace('i', scaleChoice).replace(\"j\", scaleChoice).replace(\"k\", scaleChoice)))\n",
    "    "
   ]
  },
  {
   "cell_type": "markdown",
   "id": "681816bb-53ae-4450-8d80-c803f933346d",
   "metadata": {},
   "source": [
    "<hr/>\n",
    "\n",
    "<b>Aim</b>: Link equations relating to motion in 1 dimension\n",
    "\n",
    "<hr/>\n"
   ]
  },
  {
   "cell_type": "markdown",
   "id": "3188bde1-214e-48fa-ba0e-ae3d2eec783b",
   "metadata": {},
   "source": [
    "Let the following be unknown types"
   ]
  },
  {
   "cell_type": "code",
   "execution_count": 8,
   "id": "0de3ac03-a709-4138-9cc7-59553c0f24d0",
   "metadata": {},
   "outputs": [],
   "source": [
    "x, t1, t2, x1, x2, m, s, t= sp.symbols('x, t1, t2, x1, x2, m, s, t')"
   ]
  },
  {
   "cell_type": "code",
   "execution_count": 9,
   "id": "8740ada6-f8c6-4abd-9bae-00baa4eb84fe",
   "metadata": {},
   "outputs": [],
   "source": [
    "def findAverageVelocity(positionDelta = None, timeDelta = None):\n",
    "    \"\"\"2 positions, 2 times\"\"\"\n",
    "    return((positionDelta[1] - positionDelta[0]) / (timeDelta[1] - timeDelta[0]))\n",
    "\n",
    "\n",
    "def findAverageAcceleration(velocityDelta = None, timeDelta = None):\n",
    "    \"\"\"2 velocities, 2 times \"\"\"\n",
    "    return((velocityDelta[1] - velocityDelta[0]) / (timeDelta[1] - timeDelta[0]))\n",
    "    \n",
    "def findDisplacementFromPositionFunctionAndTime(f = None, time = None):\n",
    "    \"\"\"1 function, 1 time\"\"\"\n",
    "    F1 = f.subs(t, time)\n",
    "    return(F1)\n",
    "    \n",
    "def findInstantaneousVelocityFromPositionFunction(f = None, time = None):\n",
    "    F1 = sp.diff(f, t)\n",
    "    return(F1)\n",
    "\n",
    "def findInstantaneousAccelerationFunctionFromVelocityFunction(f = None, time = None):\n",
    "    F1 = sp.diff(f, t)\n",
    "    return(F1)\n",
    "\n"
   ]
  },
  {
   "cell_type": "code",
   "execution_count": 10,
   "id": "9b636941-9785-4e45-bdb1-8048ff2d853f",
   "metadata": {},
   "outputs": [
    {
     "data": {
      "text/html": [
       "$20 m + \\frac{5 m t^{2}}{s^{2}}$ <br/> $25 m$ <br/> $40 m$ <br/> $\\frac{15 m}{s}$ <br/> $\\frac{20 m}{s^{2}}$ <br/> "
      ],
      "text/plain": [
       "<IPython.core.display.HTML object>"
      ]
     },
     "execution_count": 10,
     "metadata": {},
     "output_type": "execute_result"
    }
   ],
   "source": [
    "# 2.2\n",
    "P1 = 20 * m + 5 * (m / s**2) * t**2\n",
    "\n",
    "P2 = findDisplacementFromPositionFunctionAndTime(P1, (1 * s))\n",
    "P3 = findDisplacementFromPositionFunctionAndTime(P1, (2 * s))\n",
    "P4 = findAverageVelocity(positionDelta=[25 * m, 40 * m], timeDelta=[1 * s,2 * s])\n",
    "P5 = findInstantaneousVelocityFromPositionFunction(P1).subs(t, 2)\n",
    "\n",
    "renderListToLatex([P1, P2, P3, P4, P5])"
   ]
  },
  {
   "cell_type": "code",
   "execution_count": 28,
   "id": "40e7af9a-4657-4d6f-b7a5-1270af2afc91",
   "metadata": {},
   "outputs": [],
   "source": [
    "\n",
    "\n",
    "def findChangeOfVelocityFromVelocityFunction(f = None, timeDelta = None):\n",
    "    \"\"\"2 time points\"\"\"\n",
    "    return(f.subs(t, timeDelta[1]) - f.subs(t, timeDelta[0]))\n",
    "\n",
    "\n",
    "def findAverageAccelerationFromVelocityFunction(f = None, timeDelta = None):\n",
    "    \"\"\"2 time points\"\"\"\n",
    "    r = f.subs(t, timeDelta[1]) - f.subs(t, timeDelta[0])\n",
    "    return(r / 2 * s)\n",
    "\n",
    "def evaluateFunctionAtMultipleTimes(f = None, times = None):\n",
    "    return([f.subs(t, times[i]) for i in range(len(times))])\n",
    "    \n",
    "    "
   ]
  },
  {
   "cell_type": "code",
   "execution_count": 29,
   "id": "bf3be8ca-0f60-4f0d-9cd1-736a3544b2de",
   "metadata": {},
   "outputs": [
    {
     "data": {
      "text/html": [
       "$\\frac{60 m}{s} + \\frac{0.5 m t^{2}}{s^{3}}$ <br/> $\\frac{4.0 m}{s}$ <br/> $2.0 m$ <br/> $\\frac{1.0 m t}{s^{3}}$ <br/> $\\left[ \\frac{1.0 m}{s^{2}}, \\  \\frac{3.0 m}{s^{2}}\\right]$ <br/> "
      ],
      "text/plain": [
       "<IPython.core.display.HTML object>"
      ]
     },
     "execution_count": 29,
     "metadata": {},
     "output_type": "execute_result"
    }
   ],
   "source": [
    "# 2.3\n",
    "\n",
    "P1 = 60 * (m / s) + (.5 * (m / s**3)) * t**2\n",
    "P2 = findChangeOfVelocityFromVelocityFunction(P1, [1 * s, 3 * s])\n",
    "P3 = findAverageAccelerationFromVelocityFunction(P1, [1 * s, 3 * s])\n",
    "renderListToLatex([P2, P3])\n",
    "\n",
    "P4 = findInstantaneousAccelerationFunctionFromVelocityFunction(P1)\n",
    "\n",
    "P5 = evaluateFunctionAtMultipleTimes(P4, [1 * s,3 * s])\n",
    "\n",
    "renderListToLatex([P1, P2, P3, P4, P5])"
   ]
  },
  {
   "cell_type": "code",
   "execution_count": 179,
   "id": "e5b33def-c99a-4429-b29b-b7ad0c39714f",
   "metadata": {},
   "outputs": [],
   "source": [
    "# Constant aceleration equations \n",
    "\n",
    "def findDisplacementFromConstantAcceleration(x0 = None, \n",
    "                                            v0 = None,\n",
    "                                            a = None,\n",
    "                                            t = None):\n",
    "    x = x0 + v0 * t + .5 * a * t**2\n",
    "    return(x)\n",
    "\n",
    "\n",
    "def findVelocityFromConstantAcceleration(v0 = None,\n",
    "                                     a = None,\n",
    "                                     t = None):\n",
    "    return(v0 + a * t)\n",
    "\n",
    "def OUT__v_IN__v0_a_x_x0(v0 = None,\n",
    "                        a = None,\n",
    "                        s = None,\n",
    "                        x0 = None):\n",
    "    F1 = v0**2 + 2 * a * (x - x)\n",
    "    return(sp.sqrt(F1))\n",
    "\n",
    "\n",
    "def findConstantAcceleration(_v = None, _v0 = None, _a = None,\n",
    "                    _x = None, _x0 = None, _t = None):\n",
    "    \n",
    "    v, v0, a, x, x0, t, m, s = sp.symbols('v, v0, a, x, x0, t, m, s')\n",
    "    \n",
    "    \n",
    "    print(\"Information provided: \\n\")\n",
    "    print(\"Initial Position (x0):\", _x0)\n",
    "    print(\"Final Position (x):\", _x)\n",
    "    print(\"Initial Velocity (v0):\", _v0)\n",
    "    print(\"Final Velocity (v):\", _v)\n",
    "    print(\"Constant Acceleration (a):\", _a)\n",
    "    print(\"Time:\", _t)\n",
    "    \n",
    "\n",
    "\n",
    "    F1 = sp.Eq(x, x0 + v0 * t + .5 * a *t**2)\n",
    "    F2 = sp.Eq(v**2, v0**2 + 2 * a * (x - x0))\n",
    "    F3 = sp.Eq(v, v0 + a * t)\n",
    "    print(\"Suited equations\")\n",
    "    print(F1)    \n",
    "    \n",
    "    # asses viability of equations\n",
    "\n",
    "    F4 = F1.subs({v:_v, v0: _v0, a:_a, x:_x, x0:_x0, t:_t })\n",
    "    F5 = F2.subs({v:_v, v0: _v0, a:_a, x:_x, x0:_x0, t:_t })\n",
    "    F6 = F3.subs({v:_v, v0: _v0, a:_a, x:_x, x0:_x0, t:_t })\n",
    "    \n",
    "    \n",
    "    print(list(F4.free_symbols))\n",
    "    print(F5.free_symbols)\n",
    "    print(F6.free_symbols)\n",
    "    \n",
    "    return([F1, F2, F3, F4, F5, F6])\n"
   ]
  },
  {
   "cell_type": "code",
   "execution_count": 305,
   "id": "cb53bfd7-8841-40db-95e5-522084e3b36f",
   "metadata": {},
   "outputs": [],
   "source": [
    "def createSummary(v, v0, a, x, x0, t, m, s):\n",
    "    #create summary\n",
    "    \n",
    "    #     print(\"Information provided: \\n\")\n",
    "#     print(\"Initial Position (x0):\", _x0)\n",
    "#     print(\"Final Position (x):\", _x)\n",
    "#     print(\"Initial Velocity (v0):\", _v0)\n",
    "#     print(\"Final Velocity (v):\", _v)\n",
    "#     print(\"Constant Acceleration (a):\", _a)\n",
    "#     print(\"Time:\", _t)\n",
    "    pass"
   ]
  },
  {
   "cell_type": "code",
   "execution_count": 310,
   "id": "8393a1e7-335d-4746-a58c-4f58af8b48ac",
   "metadata": {},
   "outputs": [],
   "source": [
    "def findConstantAcceleration(_v = None, _v0 = None, _a = None,\n",
    "                    _x = None, _x0 = None, _t = None):\n",
    "    \n",
    "    v, v0, a, x, x0, t, m, s = sp.symbols('v, v0, a, x, x0, t, m, s')\n",
    "    \n",
    "# Equations\n",
    "    F1 = sp.Eq(x, x0 + v0 * t + .5 * a *t**2)\n",
    "    F2 = sp.Eq(v**2, v0**2 + 2 * a * (x - x0))\n",
    "    F3 = sp.Eq(v, v0 + a * t)\n",
    "\n",
    "\n",
    "    F4 = [i.subs({v:_v, v0: _v0, a:_a, x:_x, x0:_x0, t:_t }) for i in [F1, F2, F3]]\n",
    "    F5 = [list(i.free_symbols) for i in F4]\n",
    "    \n",
    "    \n",
    "    for i in range(len(F5)):\n",
    "        try:\n",
    "            F5[i].remove(s)\n",
    "        except:\n",
    "            pass\n",
    "        try:\n",
    "            F5[i].remove(m)\n",
    "        except:\n",
    "            pass\n",
    "    \n",
    "    F6 = []\n",
    "    for i in range(len(F4)):\n",
    "        for j in range(len(F5[i])): \n",
    "            t = sp.Eq(F5[i][j], sp.solve(F4[i], F5[i][j])[0].expand())\n",
    "            F6.append(t)\n",
    "    return(F6)"
   ]
  },
  {
   "cell_type": "code",
   "execution_count": null,
   "id": "8a64b51d-cecb-415d-92d4-5195746fd6b1",
   "metadata": {},
   "outputs": [],
   "source": []
  },
  {
   "cell_type": "code",
   "execution_count": null,
   "id": "28379d84-fd14-41a4-ad68-5acb2716ae7c",
   "metadata": {},
   "outputs": [],
   "source": []
  },
  {
   "cell_type": "code",
   "execution_count": 311,
   "id": "a629ef85-aa98-4a07-86f0-f2248727a7f1",
   "metadata": {},
   "outputs": [],
   "source": [
    "r = findConstantAcceleration(_x0 = 5 * m,\n",
    "                             #_t = 2 * s, \n",
    "                             _v = 25 * (m / s),\n",
    "                            _v0 = 15 * (m / s),\n",
    "                            _a = 4 * (m / s**2))"
   ]
  },
  {
   "cell_type": "code",
   "execution_count": 312,
   "id": "f5962197-52f0-4518-836e-47ded61a0f52",
   "metadata": {},
   "outputs": [
    {
     "data": {
      "text/html": [
       "$x = 5.0 m + \\frac{15.0 m t}{s} + \\frac{2.0 m t^{2}}{s^{2}}$ <br/> $t = - 3.75 s + \\frac{3.40036762718386 s \\sqrt{m^{2} + 0.0432432432432432 m x}}{m}$ <br/> $x = 55 m$ <br/> $t = \\frac{5 s}{2}$ <br/> "
      ],
      "text/plain": [
       "<IPython.core.display.HTML object>"
      ]
     },
     "execution_count": 312,
     "metadata": {},
     "output_type": "execute_result"
    }
   ],
   "source": [
    "renderListToLatex(r)"
   ]
  },
  {
   "cell_type": "code",
   "execution_count": 327,
   "id": "b676c670-4164-4724-8598-82c5ca40423b",
   "metadata": {},
   "outputs": [],
   "source": [
    "P1 = findConstantAcceleration(_x0 = 0,\n",
    "                            _v0 = 15 * (m / s),\n",
    "                             _a = 0)"
   ]
  },
  {
   "cell_type": "code",
   "execution_count": 328,
   "id": "e86b4a87-5c17-493e-acd2-e394f8c2e1f6",
   "metadata": {},
   "outputs": [
    {
     "data": {
      "text/html": [
       "$x = \\frac{15 m t}{s}$ <br/> $t = \\frac{s x}{15 m}$ <br/> $v = - \\frac{15 m}{s}$ <br/> $v = \\frac{15 m}{s}$ <br/> "
      ],
      "text/plain": [
       "<IPython.core.display.HTML object>"
      ]
     },
     "execution_count": 328,
     "metadata": {},
     "output_type": "execute_result"
    }
   ],
   "source": [
    "renderListToLatex(P1)"
   ]
  },
  {
   "cell_type": "code",
   "execution_count": 329,
   "id": "f09fa8ea-23c7-440a-8fde-49001c848e91",
   "metadata": {},
   "outputs": [],
   "source": [
    "P2 = findConstantAcceleration(_x0 = 0,\n",
    "                             _a = 3.0 * (m / s**2),\n",
    "                             _v0 = 0)"
   ]
  },
  {
   "cell_type": "code",
   "execution_count": 331,
   "id": "030f8f31-588e-4025-b5af-ee451f0be104",
   "metadata": {},
   "outputs": [
    {
     "data": {
      "text/latex": [
       "$\\displaystyle x = \\frac{15 m t}{s}$"
      ],
      "text/plain": [
       "Eq(x, 15*m*t/s)"
      ]
     },
     "execution_count": 331,
     "metadata": {},
     "output_type": "execute_result"
    }
   ],
   "source": [
    "P1[0]"
   ]
  },
  {
   "cell_type": "code",
   "execution_count": 334,
   "id": "d2693a4e-6b45-4801-8d64-2f0a4f2eefba",
   "metadata": {},
   "outputs": [
    {
     "data": {
      "text/plain": [
       "sympy.core.relational.Equality"
      ]
     },
     "execution_count": 334,
     "metadata": {},
     "output_type": "execute_result"
    }
   ],
   "source": [
    "type(P2[0])"
   ]
  },
  {
   "cell_type": "code",
   "execution_count": 335,
   "id": "87a58ca2-8cef-42d7-9e5b-0754fb115455",
   "metadata": {},
   "outputs": [
    {
     "data": {
      "text/plain": [
       "[(0.0, 0.0), (150.0*m, 10.0*s)]"
      ]
     },
     "execution_count": 335,
     "metadata": {},
     "output_type": "execute_result"
    }
   ],
   "source": [
    "sp.solve([P1[0], P2[0]], [x, t])"
   ]
  },
  {
   "cell_type": "code",
   "execution_count": 340,
   "id": "2901a974-1f1e-4b13-97e8-523de2bac9b1",
   "metadata": {},
   "outputs": [],
   "source": [
    "P3 = findConstantAcceleration(_x0 = 0,\n",
    "                             _a = 3.0 * (m / s**2),\n",
    "                             _v0 = 0,\n",
    "                             _t = 10 * s,\n",
    "                             _x = 150 * m)"
   ]
  },
  {
   "cell_type": "code",
   "execution_count": 341,
   "id": "b1b88dd8-63b5-40a1-85bd-5d81c7634356",
   "metadata": {},
   "outputs": [
    {
     "data": {
      "text/html": [
       "$v = - \\frac{30.0 m}{s}$ <br/> $v = \\frac{30.0 m}{s}$ <br/> "
      ],
      "text/plain": [
       "<IPython.core.display.HTML object>"
      ]
     },
     "execution_count": 341,
     "metadata": {},
     "output_type": "execute_result"
    }
   ],
   "source": [
    "renderListToLatex(P3)"
   ]
  },
  {
   "cell_type": "code",
   "execution_count": 342,
   "id": "ab4dfac7-b2ca-4968-9a56-fd175f53a777",
   "metadata": {},
   "outputs": [],
   "source": [
    "# FREELY FALLING OBJECTS "
   ]
  },
  {
   "cell_type": "code",
   "execution_count": null,
   "id": "ce8c05e9-fb65-4d47-af19-640221af88fa",
   "metadata": {},
   "outputs": [],
   "source": []
  }
 ],
 "metadata": {
  "kernelspec": {
   "display_name": "Python 3",
   "language": "python",
   "name": "python3"
  },
  "language_info": {
   "codemirror_mode": {
    "name": "ipython",
    "version": 3
   },
   "file_extension": ".py",
   "mimetype": "text/x-python",
   "name": "python",
   "nbconvert_exporter": "python",
   "pygments_lexer": "ipython3",
   "version": "3.9.2"
  }
 },
 "nbformat": 4,
 "nbformat_minor": 5
}
