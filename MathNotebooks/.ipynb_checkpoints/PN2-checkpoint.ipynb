{
 "cells": [
  {
   "cell_type": "code",
   "execution_count": 1,
   "id": "e3a0263f-3639-4572-8863-8aa44e57bf1f",
   "metadata": {},
   "outputs": [],
   "source": [
    "import numpy as np\n",
    "import sympy as sp\n",
    "from IPython.display import HTML\n",
    "import ipywidgets as widgets\n",
    "import matplotlib as mpl\n",
    "from mpl_toolkits.mplot3d import Axes3D\n",
    "import matplotlib.pyplot as plt\n",
    "mpl.rcParams['legend.fontsize'] = 10\n",
    "import pandas as pd\n",
    "import itertools\n",
    "\n",
    "# This is commented out\n",
    "#%matplotlib widget\n",
    "\n",
    "# function to print latex\n",
    "def renderListToLatex(e):\n",
    "    latex_rendering = []\n",
    "\n",
    "    for i in range(len(e)):\n",
    "        latex_rendering.append(\"$\" + sp.latex(e[i]) + \"$ <br/> \")\n",
    "    \n",
    "    return(HTML(\"\".join(latex_rendering[0:])))\n",
    "    \n",
    "    \n",
    "def convert3DVectorToSQRTOfQuadrance(v):\n",
    "    return(sp.N(sp.sqrt(sum([v.args[i].args[0]**2 for i in range(len(v.args))]))))\n",
    "\n",
    "\n",
    "\n",
    "def convert3DVectorToComponents(v, scaleChoice):\n",
    "    print(v)\n",
    "    return(sp.parse_expr(str(v.args).replace('i', scaleChoice).replace(\"j\", scaleChoice).replace(\"k\", scaleChoice)))\n",
    "    "
   ]
  },
  {
   "cell_type": "markdown",
   "id": "681816bb-53ae-4450-8d80-c803f933346d",
   "metadata": {},
   "source": [
    "<hr/>\n",
    "\n",
    "<b>Aim</b>: Link equations relating to motion in 1 dimension\n",
    "\n",
    "<hr/>\n"
   ]
  },
  {
   "cell_type": "markdown",
   "id": "3188bde1-214e-48fa-ba0e-ae3d2eec783b",
   "metadata": {},
   "source": [
    "Let the following be unknown types"
   ]
  },
  {
   "cell_type": "code",
   "execution_count": 2,
   "id": "0de3ac03-a709-4138-9cc7-59553c0f24d0",
   "metadata": {},
   "outputs": [],
   "source": [
    "x, t1, t2, x1, x2, m, s, t= sp.symbols('x, t1, t2, x1, x2, m, s, t')"
   ]
  },
  {
   "cell_type": "code",
   "execution_count": 3,
   "id": "8740ada6-f8c6-4abd-9bae-00baa4eb84fe",
   "metadata": {},
   "outputs": [],
   "source": [
    "def findAverageVelocity(positionDelta = None, timeDelta = None):\n",
    "    \"\"\"2 positions, 2 times\"\"\"\n",
    "    return((positionDelta[1] - positionDelta[0]) / (timeDelta[1] - timeDelta[0]))\n",
    "\n",
    "\n",
    "def findAverageAcceleration(velocityDelta = None, timeDelta = None):\n",
    "    \"\"\"2 velocities, 2 times \"\"\"\n",
    "    return((velocityDelta[1] - velocityDelta[0]) / (timeDelta[1] - timeDelta[0]))\n",
    "    \n",
    "def findDisplacementFromPositionFunctionAndTime(f = None, time = None):\n",
    "    \"\"\"1 function, 1 time\"\"\"\n",
    "    F1 = f.subs(t, time)\n",
    "    return(F1)\n",
    "    \n",
    "def findInstantaneousVelocityFromPositionFunction(f = None, time = None):\n",
    "    F1 = sp.diff(f, t)\n",
    "    return(F1)\n",
    "\n",
    "def findInstantaneousAccelerationFunctionFromVelocityFunction(f = None, time = None):\n",
    "    F1 = sp.diff(f, t)\n",
    "    return(F1)\n",
    "\n"
   ]
  },
  {
   "cell_type": "code",
   "execution_count": 4,
   "id": "9b636941-9785-4e45-bdb1-8048ff2d853f",
   "metadata": {},
   "outputs": [
    {
     "data": {
      "text/html": [
       "$20 m + \\frac{5 m t^{2}}{s^{2}}$ <br/> $25 m$ <br/> $40 m$ <br/> $\\frac{15 m}{s}$ <br/> $\\frac{20 m}{s^{2}}$ <br/> "
      ],
      "text/plain": [
       "<IPython.core.display.HTML object>"
      ]
     },
     "execution_count": 4,
     "metadata": {},
     "output_type": "execute_result"
    }
   ],
   "source": [
    "# 2.2\n",
    "P1 = 20 * m + 5 * (m / s**2) * t**2\n",
    "\n",
    "P2 = findDisplacementFromPositionFunctionAndTime(P1, (1 * s))\n",
    "P3 = findDisplacementFromPositionFunctionAndTime(P1, (2 * s))\n",
    "P4 = findAverageVelocity(positionDelta=[25 * m, 40 * m], timeDelta=[1 * s,2 * s])\n",
    "P5 = findInstantaneousVelocityFromPositionFunction(P1).subs(t, 2)\n",
    "\n",
    "renderListToLatex([P1, P2, P3, P4, P5])"
   ]
  },
  {
   "cell_type": "code",
   "execution_count": 5,
   "id": "40e7af9a-4657-4d6f-b7a5-1270af2afc91",
   "metadata": {},
   "outputs": [],
   "source": [
    "\n",
    "\n",
    "def findChangeOfVelocityFromVelocityFunction(f = None, timeDelta = None):\n",
    "    \"\"\"2 time points\"\"\"\n",
    "    return(f.subs(t, timeDelta[1]) - f.subs(t, timeDelta[0]))\n",
    "\n",
    "\n",
    "def findAverageAccelerationFromVelocityFunction(f = None, timeDelta = None):\n",
    "    \"\"\"2 time points\"\"\"\n",
    "    r = f.subs(t, timeDelta[1]) - f.subs(t, timeDelta[0])\n",
    "    return(r / 2 * s)\n",
    "\n",
    "def evaluateFunctionAtMultipleTimes(f = None, times = None):\n",
    "    return([f.subs(t, times[i]) for i in range(len(times))])\n",
    "    \n",
    "    "
   ]
  },
  {
   "cell_type": "code",
   "execution_count": 6,
   "id": "bf3be8ca-0f60-4f0d-9cd1-736a3544b2de",
   "metadata": {},
   "outputs": [
    {
     "data": {
      "text/html": [
       "$\\frac{60 m}{s} + \\frac{0.5 m t^{2}}{s^{3}}$ <br/> $\\frac{4.0 m}{s}$ <br/> $2.0 m$ <br/> $\\frac{1.0 m t}{s^{3}}$ <br/> $\\left[ \\frac{1.0 m}{s^{2}}, \\  \\frac{3.0 m}{s^{2}}\\right]$ <br/> "
      ],
      "text/plain": [
       "<IPython.core.display.HTML object>"
      ]
     },
     "execution_count": 6,
     "metadata": {},
     "output_type": "execute_result"
    }
   ],
   "source": [
    "# 2.3\n",
    "\n",
    "P1 = 60 * (m / s) + (.5 * (m / s**3)) * t**2\n",
    "P2 = findChangeOfVelocityFromVelocityFunction(P1, [1 * s, 3 * s])\n",
    "P3 = findAverageAccelerationFromVelocityFunction(P1, [1 * s, 3 * s])\n",
    "renderListToLatex([P2, P3])\n",
    "\n",
    "P4 = findInstantaneousAccelerationFunctionFromVelocityFunction(P1)\n",
    "\n",
    "P5 = evaluateFunctionAtMultipleTimes(P4, [1 * s,3 * s])\n",
    "\n",
    "renderListToLatex([P1, P2, P3, P4, P5])"
   ]
  },
  {
   "cell_type": "code",
   "execution_count": 7,
   "id": "e5b33def-c99a-4429-b29b-b7ad0c39714f",
   "metadata": {},
   "outputs": [],
   "source": [
    "# Constant aceleration equations \n",
    "\n",
    "def findDisplacementFromConstantAcceleration(x0 = None, \n",
    "                                            v0 = None,\n",
    "                                            a = None,\n",
    "                                            t = None):\n",
    "    x = x0 + v0 * t + .5 * a * t**2\n",
    "    return(x)\n",
    "\n",
    "\n",
    "def findVelocityFromConstantAcceleration(v0 = None,\n",
    "                                     a = None,\n",
    "                                     t = None):\n",
    "    return(v0 + a * t)\n",
    "\n",
    "def OUT__v_IN__v0_a_x_x0(v0 = None,\n",
    "                        a = None,\n",
    "                        s = None,\n",
    "                        x0 = None):\n",
    "    F1 = v0**2 + 2 * a * (x - x)\n",
    "    return(sp.sqrt(F1))\n",
    "\n",
    "\n",
    "def findConstantAcceleration(_v = None, _v0 = None, _a = None,\n",
    "                    _x = None, _x0 = None, _t = None):\n",
    "    \n",
    "    v, v0, a, x, x0, t, m, s = sp.symbols('v, v0, a, x, x0, t, m, s')\n",
    "    \n",
    "    \n",
    "    print(\"Information provided: \\n\")\n",
    "    print(\"Initial Position (x0):\", _x0)\n",
    "    print(\"Final Position (x):\", _x)\n",
    "    print(\"Initial Velocity (v0):\", _v0)\n",
    "    print(\"Final Velocity (v):\", _v)\n",
    "    print(\"Constant Acceleration (a):\", _a)\n",
    "    print(\"Time:\", _t)\n",
    "    \n",
    "\n",
    "\n",
    "    F1 = sp.Eq(x, x0 + v0 * t + .5 * a *t**2)\n",
    "    F2 = sp.Eq(v**2, v0**2 + 2 * a * (x - x0))\n",
    "    F3 = sp.Eq(v, v0 + a * t)\n",
    "    print(\"Suited equations\")\n",
    "    print(F1)    \n",
    "    \n",
    "    # asses viability of equations\n",
    "\n",
    "    F4 = F1.subs({v:_v, v0: _v0, a:_a, x:_x, x0:_x0, t:_t })\n",
    "    F5 = F2.subs({v:_v, v0: _v0, a:_a, x:_x, x0:_x0, t:_t })\n",
    "    F6 = F3.subs({v:_v, v0: _v0, a:_a, x:_x, x0:_x0, t:_t })\n",
    "    \n",
    "    \n",
    "    print(list(F4.free_symbols))\n",
    "    print(F5.free_symbols)\n",
    "    print(F6.free_symbols)\n",
    "    \n",
    "    return([F1, F2, F3, F4, F5, F6])\n"
   ]
  },
  {
   "cell_type": "code",
   "execution_count": 8,
   "id": "cb53bfd7-8841-40db-95e5-522084e3b36f",
   "metadata": {},
   "outputs": [],
   "source": [
    "def createSummary(v, v0, a, x, x0, t, m, s):\n",
    "    #create summary\n",
    "    \n",
    "    #     print(\"Information provided: \\n\")\n",
    "#     print(\"Initial Position (x0):\", _x0)\n",
    "#     print(\"Final Position (x):\", _x)\n",
    "#     print(\"Initial Velocity (v0):\", _v0)\n",
    "#     print(\"Final Velocity (v):\", _v)\n",
    "#     print(\"Constant Acceleration (a):\", _a)\n",
    "#     print(\"Time:\", _t)\n",
    "    pass"
   ]
  },
  {
   "cell_type": "code",
   "execution_count": 9,
   "id": "8393a1e7-335d-4746-a58c-4f58af8b48ac",
   "metadata": {},
   "outputs": [],
   "source": [
    "def findConstantAcceleration(_v = None, _v0 = None, _a = None,\n",
    "                    _x = None, _x0 = None, _t = None):\n",
    "    \n",
    "    v, v0, a, x, x0, t, m, s = sp.symbols('v, v0, a, x, x0, t, m, s')\n",
    "    \n",
    "# Equations\n",
    "    F1 = sp.Eq(x, x0 + v0 * t + .5 * a *t**2)\n",
    "    F2 = sp.Eq(v**2, v0**2 + 2 * a * (x - x0))\n",
    "    F3 = sp.Eq(v, v0 + a * t)\n",
    "\n",
    "\n",
    "    F4 = [i.subs({v:_v, v0: _v0, a:_a, x:_x, x0:_x0, t:_t }) for i in [F1, F2, F3]]\n",
    "    F5 = [list(i.free_symbols) for i in F4]\n",
    "    \n",
    "    \n",
    "    for i in range(len(F5)):\n",
    "        try:\n",
    "            F5[i].remove(s)\n",
    "        except:\n",
    "            pass\n",
    "        try:\n",
    "            F5[i].remove(m)\n",
    "        except:\n",
    "            pass\n",
    "    \n",
    "    F6 = []\n",
    "    for i in range(len(F4)):\n",
    "        for j in range(len(F5[i])): \n",
    "            t = sp.Eq(F5[i][j], sp.solve(F4[i], F5[i][j])[0].expand())\n",
    "            F6.append(t)\n",
    "    return(F6)"
   ]
  },
  {
   "cell_type": "code",
   "execution_count": null,
   "id": "8a64b51d-cecb-415d-92d4-5195746fd6b1",
   "metadata": {},
   "outputs": [],
   "source": []
  },
  {
   "cell_type": "code",
   "execution_count": null,
   "id": "28379d84-fd14-41a4-ad68-5acb2716ae7c",
   "metadata": {},
   "outputs": [],
   "source": []
  },
  {
   "cell_type": "code",
   "execution_count": 10,
   "id": "a629ef85-aa98-4a07-86f0-f2248727a7f1",
   "metadata": {},
   "outputs": [],
   "source": [
    "r = findConstantAcceleration(_x0 = 5 * m,\n",
    "                             #_t = 2 * s, \n",
    "                             _v = 25 * (m / s),\n",
    "                            _v0 = 15 * (m / s),\n",
    "                            _a = 4 * (m / s**2))"
   ]
  },
  {
   "cell_type": "code",
   "execution_count": 11,
   "id": "f5962197-52f0-4518-836e-47ded61a0f52",
   "metadata": {},
   "outputs": [
    {
     "data": {
      "text/html": [
       "$x = 5.0 m + \\frac{15.0 m t}{s} + \\frac{2.0 m t^{2}}{s^{2}}$ <br/> $t = - 3.75 s + \\frac{3.40036762718386 s \\sqrt{m^{2} + 0.0432432432432432 m x}}{m}$ <br/> $x = 55 m$ <br/> $t = \\frac{5 s}{2}$ <br/> "
      ],
      "text/plain": [
       "<IPython.core.display.HTML object>"
      ]
     },
     "execution_count": 11,
     "metadata": {},
     "output_type": "execute_result"
    }
   ],
   "source": [
    "renderListToLatex(r)"
   ]
  },
  {
   "cell_type": "code",
   "execution_count": 12,
   "id": "b676c670-4164-4724-8598-82c5ca40423b",
   "metadata": {},
   "outputs": [],
   "source": [
    "P1 = findConstantAcceleration(_x0 = 0,\n",
    "                            _v0 = 15 * (m / s),\n",
    "                             _a = 0)"
   ]
  },
  {
   "cell_type": "code",
   "execution_count": 13,
   "id": "e86b4a87-5c17-493e-acd2-e394f8c2e1f6",
   "metadata": {},
   "outputs": [
    {
     "data": {
      "text/html": [
       "$x = \\frac{15 m t}{s}$ <br/> $t = \\frac{s x}{15 m}$ <br/> $v = - \\frac{15 m}{s}$ <br/> $v = \\frac{15 m}{s}$ <br/> "
      ],
      "text/plain": [
       "<IPython.core.display.HTML object>"
      ]
     },
     "execution_count": 13,
     "metadata": {},
     "output_type": "execute_result"
    }
   ],
   "source": [
    "renderListToLatex(P1)"
   ]
  },
  {
   "cell_type": "code",
   "execution_count": 14,
   "id": "f09fa8ea-23c7-440a-8fde-49001c848e91",
   "metadata": {},
   "outputs": [],
   "source": [
    "P2 = findConstantAcceleration(_x0 = 0,\n",
    "                             _a = 3.0 * (m / s**2),\n",
    "                             _v0 = 0)"
   ]
  },
  {
   "cell_type": "code",
   "execution_count": 15,
   "id": "030f8f31-588e-4025-b5af-ee451f0be104",
   "metadata": {},
   "outputs": [
    {
     "data": {
      "text/latex": [
       "$\\displaystyle x = \\frac{15 m t}{s}$"
      ],
      "text/plain": [
       "Eq(x, 15*m*t/s)"
      ]
     },
     "execution_count": 15,
     "metadata": {},
     "output_type": "execute_result"
    }
   ],
   "source": [
    "P1[0]"
   ]
  },
  {
   "cell_type": "code",
   "execution_count": 16,
   "id": "d2693a4e-6b45-4801-8d64-2f0a4f2eefba",
   "metadata": {},
   "outputs": [
    {
     "data": {
      "text/plain": [
       "sympy.core.relational.Equality"
      ]
     },
     "execution_count": 16,
     "metadata": {},
     "output_type": "execute_result"
    }
   ],
   "source": [
    "type(P2[0])"
   ]
  },
  {
   "cell_type": "code",
   "execution_count": 17,
   "id": "87a58ca2-8cef-42d7-9e5b-0754fb115455",
   "metadata": {},
   "outputs": [
    {
     "data": {
      "text/plain": [
       "[(0.0, 0.0), (150.0*m, 10.0*s)]"
      ]
     },
     "execution_count": 17,
     "metadata": {},
     "output_type": "execute_result"
    }
   ],
   "source": [
    "sp.solve([P1[0], P2[0]], [x, t])"
   ]
  },
  {
   "cell_type": "code",
   "execution_count": 18,
   "id": "2901a974-1f1e-4b13-97e8-523de2bac9b1",
   "metadata": {},
   "outputs": [],
   "source": [
    "P3 = findConstantAcceleration(_x0 = 0,\n",
    "                             _a = 3.0 * (m / s**2),\n",
    "                             _v0 = 0,\n",
    "                             _t = 10 * s,\n",
    "                             _x = 150 * m)"
   ]
  },
  {
   "cell_type": "code",
   "execution_count": 19,
   "id": "b1b88dd8-63b5-40a1-85bd-5d81c7634356",
   "metadata": {},
   "outputs": [
    {
     "data": {
      "text/html": [
       "$v = - \\frac{30.0 m}{s}$ <br/> $v = \\frac{30.0 m}{s}$ <br/> "
      ],
      "text/plain": [
       "<IPython.core.display.HTML object>"
      ]
     },
     "execution_count": 19,
     "metadata": {},
     "output_type": "execute_result"
    }
   ],
   "source": [
    "renderListToLatex(P3)"
   ]
  },
  {
   "cell_type": "code",
   "execution_count": 342,
   "id": "ab4dfac7-b2ca-4968-9a56-fd175f53a777",
   "metadata": {},
   "outputs": [],
   "source": [
    "# FREELY FALLING OBJECTS \n",
    "\n"
   ]
  },
  {
   "cell_type": "code",
   "execution_count": 22,
   "id": "ce8c05e9-fb65-4d47-af19-640221af88fa",
   "metadata": {},
   "outputs": [],
   "source": [
    "def calculateParticleMovement(_v = None, _v0 = None, _a = None,\n",
    "                    _x = None, _x0 = None, _t = None):\n",
    "    \n",
    "    v, v0, a, x, x0, t, m, s = sp.symbols('v, v0, a, x, x0, t, m, s')\n",
    "    \n",
    "# Equations\n",
    "    F1 = sp.Eq(x, x0 + v0 * t + .5 * a *t**2)\n",
    "    F2 = sp.Eq(v**2, v0**2 + 2 * a * (x - x0))\n",
    "    F3 = sp.Eq(v, v0 + a * t)\n",
    "\n",
    "\n",
    "    F4 = [i.subs({v:_v, v0: _v0, a:_a, x:_x, x0:_x0, t:_t }) for i in [F1, F2, F3]]\n",
    "    F5 = [list(i.free_symbols) for i in F4]\n",
    "    \n",
    "    \n",
    "    for i in range(len(F5)):\n",
    "        try:\n",
    "            F5[i].remove(s)\n",
    "        except:\n",
    "            pass\n",
    "        try:\n",
    "            F5[i].remove(m)\n",
    "        except:\n",
    "            pass\n",
    "    \n",
    "    F6 = []\n",
    "    for i in range(len(F4)):\n",
    "        for j in range(len(F5[i])): \n",
    "            t = sp.Eq(F5[i][j], sp.solve(F4[i], F5[i][j])[0].expand())\n",
    "            F6.append(t)\n",
    "    return(F6)"
   ]
  },
  {
   "cell_type": "code",
   "execution_count": 34,
   "id": "d32b2d45-3bfd-4c40-a550-f991fefe6975",
   "metadata": {},
   "outputs": [],
   "source": [
    "P2 = calculateParticleMovement(_x0 = 0,\n",
    "                               _v0 = 0,\n",
    "                             _a = -9.8 * (m / s**2),\n",
    "                             _t = 3 * s)"
   ]
  },
  {
   "cell_type": "code",
   "execution_count": 35,
   "id": "a77a8e49-45a7-4f8b-9617-f18223ae20d3",
   "metadata": {},
   "outputs": [
    {
     "data": {
      "text/html": [
       "$x = - 44.1 m$ <br/> $v = - \\frac{4.42718872423573 \\sqrt{- m x}}{s}$ <br/> $x = - \\frac{0.0510204081632653 s^{2} v^{2}}{m}$ <br/> $v = - \\frac{29.4 m}{s}$ <br/> "
      ],
      "text/plain": [
       "<IPython.core.display.HTML object>"
      ]
     },
     "execution_count": 35,
     "metadata": {},
     "output_type": "execute_result"
    }
   ],
   "source": [
    "renderListToLatex(P2)"
   ]
  },
  {
   "cell_type": "code",
   "execution_count": 43,
   "id": "697bbbca-f295-461c-b7ef-fcd092a477de",
   "metadata": {},
   "outputs": [
    {
     "data": {
      "text/html": [
       "$x = \\frac{15.0 m t}{s} - \\frac{4.9 m t^{2}}{s^{2}}$ <br/> $t = 1.53061224489796 s - \\frac{1.53061224489796 s \\sqrt{m^{2} - 0.0871111111111111 m x}}{m}$ <br/> $x = 11.4795918367347 m$ <br/> $t = 1.53061224489796 s$ <br/> "
      ],
      "text/plain": [
       "<IPython.core.display.HTML object>"
      ]
     },
     "execution_count": 43,
     "metadata": {},
     "output_type": "execute_result"
    }
   ],
   "source": [
    "# 2.7\n",
    "P2 = calculateParticleMovement(_x0 = 0,\n",
    "                              _v = 0,\n",
    "                               _v0 = 15 * (m / s),\n",
    "                             _a = -9.8 * (m / s**2))\n",
    "renderListToLatex(P2)"
   ]
  },
  {
   "cell_type": "code",
   "execution_count": 102,
   "id": "878caf56-9250-41bd-a1c5-41713459f5b5",
   "metadata": {},
   "outputs": [],
   "source": [
    "def calculateParticleMovement(_v = None, _v0 = None, _a = None,\n",
    "                    _x = None, _x0 = None, _t = None):\n",
    "    \n",
    "    v, v0, a, x, x0, t, m, s = sp.symbols('v, v0, a, x, x0, t, m, s')\n",
    "    \n",
    "# Equations\n",
    "    F1 = sp.Eq(x, x0 + v0 * t + .5 * a *t**2)\n",
    "    F2 = sp.Eq(v**2, v0**2 + 2 * a * (x - x0))\n",
    "    F3 = sp.Eq(v, v0 + a * t)\n",
    "\n",
    "\n",
    "    F4 = [i.subs({v:_v, v0: _v0, a:_a, x:_x, x0:_x0, t:_t }) for i in [F1, F2, F3]]\n",
    "    F5 = [list(i.free_symbols) for i in F4]\n",
    "    \n",
    "    \n",
    "    for i in range(len(F5)):\n",
    "        try:\n",
    "            F5[i].remove(s)\n",
    "        except:\n",
    "            pass\n",
    "        try:\n",
    "            F5[i].remove(m)\n",
    "        except:\n",
    "            pass\n",
    "    \n",
    "    F6 = []\n",
    "    for i in range(len(F4)):\n",
    "        for j in range(len(F5[i])): \n",
    "            solutions = sp.solve(F4[i], F5[i][j])\n",
    "            for k in range(len(solutions)):\n",
    "                t = sp.Eq(F5[i][j], sp.solve(F4[i], F5[i][j])[k])\n",
    "           \n",
    "            \n",
    "                F6.append(t)\n",
    "    return(F6)"
   ]
  },
  {
   "cell_type": "code",
   "execution_count": 107,
   "id": "60e33fa6-35a0-4ffa-95c6-5a000b13cbc0",
   "metadata": {},
   "outputs": [
    {
     "data": {
      "text/html": [
       "$t = - 0.303285791388921 s$ <br/> $t = 3.36451028118484 s$ <br/> $v = - \\frac{17.9722007556114 m}{s}$ <br/> $v = \\frac{17.9722007556114 m}{s}$ <br/> $v = \\frac{0.2 m \\left(75.0 s - 49.0 t\\right)}{s^{2}}$ <br/> $t = \\frac{0.102040816326531 s \\left(15.0 m - s v\\right)}{m}$ <br/> "
      ],
      "text/plain": [
       "<IPython.core.display.HTML object>"
      ]
     },
     "execution_count": 107,
     "metadata": {},
     "output_type": "execute_result"
    }
   ],
   "source": [
    "#2.8\n",
    "\n",
    "# 2.7\n",
    "P1 = calculateParticleMovement(_x0 = 0,\n",
    "                              _x = -5 * m,\n",
    "                               _v0 = 15 * (m / s),\n",
    "                             _a = -9.8 * (m / s**2))\n",
    "P1\n",
    "renderListToLatex(P1)"
   ]
  },
  {
   "cell_type": "code",
   "execution_count": 106,
   "id": "ed30c1e6-3cd8-4ab1-b27a-2098eda7011e",
   "metadata": {},
   "outputs": [
    {
     "data": {
      "text/html": [
       "$x = \\frac{0.1 m t \\left(150.0 s - 49.0 t\\right)}{s^{2}}$ <br/> $t = \\frac{0.0204081632653061 s \\left(75.0 m - 2.23606797749979 \\sqrt{m \\left(1125.0 m - 98.0 x\\right)}\\right)}{m}$ <br/> $t = \\frac{0.0204081632653061 s \\left(75.0 m + 2.23606797749979 \\sqrt{m \\left(1125.0 m - 98.0 x\\right)}\\right)}{m}$ <br/> $x = 11.4795918367347 m$ <br/> $t = 1.53061224489796 s$ <br/> "
      ],
      "text/plain": [
       "<IPython.core.display.HTML object>"
      ]
     },
     "execution_count": 106,
     "metadata": {},
     "output_type": "execute_result"
    }
   ],
   "source": [
    "P2 = calculateParticleMovement(_x0 = 0,\n",
    "                              _v = 0,\n",
    "                               _v0 = 15 * (m / s),\n",
    "                             _a = -9.8 * (m / s**2))\n",
    "renderListToLatex(P2)"
   ]
  },
  {
   "cell_type": "code",
   "execution_count": null,
   "id": "253f692b-aa60-4c2d-8698-5a4c2e15e19f",
   "metadata": {},
   "outputs": [],
   "source": []
  },
  {
   "cell_type": "code",
   "execution_count": null,
   "id": "6670a70f-17d8-4cde-89d8-f579c7c3d161",
   "metadata": {},
   "outputs": [],
   "source": []
  },
  {
   "cell_type": "code",
   "execution_count": 77,
   "id": "06500838-bc97-417d-b147-61c9ce9e626f",
   "metadata": {},
   "outputs": [
    {
     "data": {
      "text/plain": [
       "[0.380670645960751*s, 2.68055384383517*s]"
      ]
     },
     "execution_count": 77,
     "metadata": {},
     "output_type": "execute_result"
    }
   ],
   "source": [
    "sp.solve(sp.Eq(5*m, 15*m*t/s - 4.9*m*t**2/s**2), t)"
   ]
  },
  {
   "cell_type": "code",
   "execution_count": 65,
   "id": "2c4c9802-211f-4274-b136-0b65d32a32e6",
   "metadata": {},
   "outputs": [
    {
     "data": {
      "text/html": [
       "$\\left[ \\right]$ <br/> "
      ],
      "text/plain": [
       "<IPython.core.display.HTML object>"
      ]
     },
     "execution_count": 65,
     "metadata": {},
     "output_type": "execute_result"
    }
   ],
   "source": [
    "renderListToLatex([P1])"
   ]
  },
  {
   "cell_type": "code",
   "execution_count": 332,
   "id": "1abb8fb4-3093-4458-a56a-c90eb447d448",
   "metadata": {},
   "outputs": [],
   "source": []
  },
  {
   "cell_type": "code",
   "execution_count": 525,
   "id": "47172f21-de1b-471b-b27b-4e441269c573",
   "metadata": {},
   "outputs": [],
   "source": [
    "def createParticleMovementSummary(v = None, v0 = None, a = None, x = None, x0 = None, t1 = None, t0 = None, solutionsNeeded = []):\n",
    "    #create summary\n",
    "    print(\"###################### SUMMARY #######################\")\n",
    "    print(\"Initial Position \\t (x0):\\t\", x0)\n",
    "    print(\"Final Position \\t\\t (x):\\t\", x)\n",
    "    print(\"Initial Velocity \\t (v0):\\t\", v0)\n",
    "    print(\"Final Velocity \\t\\t (v):\\t\", v)\n",
    "    print(\"Acceleration \\t\\t (a):\\t\", a)\n",
    "    print(\"Initial Time:\\t\\t (t0)\\t\", t0)\n",
    "    print(\"Final Time:\\t\\t (t1)\\t\", t1)\n",
    "\n",
    "    print(\"\\nAll variables evaluated against 5 equations for motion in 1 direction.\")\n",
    "    print(\"\\nSolutions needed: \", solutionsNeeded)\n",
    "    print(\"Results: \\n\")\n",
    "    \n",
    "    \n",
    "def removeUnitVariables(variables = []):\n",
    "    \n",
    "    v = variables\n",
    "    counts = 0\n",
    "\n",
    "    try:\n",
    "        v.remove(s)\n",
    "\n",
    "    except:\n",
    "        pass\n",
    "    try:\n",
    "        v.remove(m)\n",
    "            \n",
    "    except:\n",
    "        pass\n",
    "    \n",
    "    return({'variablesToSolveFor': v, \"count\" : len(v)})"
   ]
  },
  {
   "cell_type": "code",
   "execution_count": 560,
   "id": "33fde14a-99fc-4caa-bd42-67fceb1bae3d",
   "metadata": {},
   "outputs": [],
   "source": [
    "def calculateParticleMovement(_v = None, _v0 = None, _a = None,\n",
    "                    _x = None, _x0 = None, _t0 = None, _t1 = None,\n",
    "                             solutionsNeeded = [],\n",
    "                             countOfNonUnitFreeVariablesAllowedInSolution = None, \n",
    "                             createSummary = False):\n",
    "    \n",
    "    # Create variables\n",
    "    v, v0, a, x, x0, t0, t1, m, s = sp.symbols('v, v0, a, x, x0, t0, t1, m, s')\n",
    "    \n",
    "    # Provide summary\n",
    "    if createSummary:\n",
    "        createParticleMovementSummary(v0  = _v0, v = _v, a = _a, x = _x, x0 = _x0, t0 = _t0, t1 = _t1, solutionsNeeded = solutionsNeeded)\n",
    "    \n",
    "    # Physics Equations\n",
    "    F1 = sp.Eq(x, x0 + v0 * t1 + .5 * a *t1**2)\n",
    "    F2 = sp.Eq(v**2, v0**2 + 2 * a * (x - x0))\n",
    "    F3 = sp.Eq(v, v0 + a * t1)\n",
    "    F7 = sp.Eq(v, v0  + sp.integrate(a, (t, 0, t)))\n",
    "    F8 = sp.Eq(x, x0  + sp.integrate(v, (t, 0, t)))\n",
    " \n",
    "    # Create list of physics equations with values provided\n",
    "    F4 = [i.subs({v:_v, v0: _v0, a:_a, x:_x, x0:_x0, t0:_t0, t1:_t1 }) for i in [F1, F2, F3, F7, F8]]\n",
    "    \n",
    "    # Create free symbols for each of the equations in F4\n",
    "    F5 = [list(i.free_symbols) for i in F4]\n",
    "    \n",
    "    \n",
    "    # Remove units before solutinos\n",
    "    F12 = []\n",
    "    for i in range(len(F5)):\n",
    "        F12.append((removeUnitVariables(F5[i])))\n",
    "\n",
    "\n",
    "    F6 = []\n",
    "    # Get solutions for each of the equations for values other than unit variables\n",
    "    for i in range(len(F4)):\n",
    "        for j in range(len(F12[i]['variablesToSolveFor'])): \n",
    "            solutions = sp.solve(F4[i], F12[i]['variablesToSolveFor'][j])\n",
    "            # Break all solutions into sgle solutions\n",
    "            for k in range(len(solutions)):\n",
    "                singleSolution = sp.Eq(F12[i]['variablesToSolveFor'][j], sp.solve(F4[i], F12[i]['variablesToSolveFor'][j])[k])\n",
    "                \n",
    "                # If no particular solutions sought, return everything\n",
    "                if len(solutionsNeeded) == 0:\n",
    "                    F6.append(singleSolution)\n",
    "                # if only certain solutions are needed return these \n",
    "                elif singleSolution.lhs in solutionsNeeded:\n",
    "                    F6.append(singleSolution)\n",
    "                    \n",
    "    F9 = [list(i.free_symbols) for i in F6]\n",
    "    F11 = [removeUnitVariables(i) for i in F9]\n",
    "    \n",
    "    print(F11)\n",
    "    print(F6)\n",
    "    \n",
    "    print([(idx) for idx, solution in enumerate(F11) if solution['count'] < 4])\n",
    "    \n",
    "    print(\"\\n\\n\")\n",
    "    return(F6)"
   ]
  },
  {
   "cell_type": "code",
   "execution_count": 561,
   "id": "6e033b16-e277-4731-a5c6-c848ed0789fc",
   "metadata": {},
   "outputs": [
    {
     "name": "stdout",
     "output_type": "stream",
     "text": [
      "###################### SUMMARY #######################\n",
      "Initial Position \t (x0):\t 50*m\n",
      "Final Position \t\t (x):\t None\n",
      "Initial Velocity \t (v0):\t 10*m/s\n",
      "Final Velocity \t\t (v):\t None\n",
      "Acceleration \t\t (a):\t 2*m/s**2 - 0.1*m*t1/s**3\n",
      "Initial Time:\t\t (t0)\t None\n",
      "Final Time:\t\t (t1)\t None\n",
      "\n",
      "All variables evaluated against 5 equations for motion in 1 direction.\n",
      "\n",
      "Solutions needed:  [x, t0]\n",
      "Results: \n",
      "\n",
      "[{'variablesToSolveFor': [x, t1], 'count': 2}, {'variablesToSolveFor': [v, x, t1], 'count': 3}, {'variablesToSolveFor': [v, x, t], 'count': 3}]\n",
      "[Eq(x, 0.05*m*(1000.0*s**3 + 200.0*s**2*t1 + 20.0*s*t1**2 - t1**3)/s**3), Eq(x, 5.0*(100.0*m**2*s - 10.0*m**2*t1 + s**3*v**2)/(m*(20.0*s - t1))), Eq(x, 50*m + t*v)]\n",
      "[0, 1, 2]\n",
      "\n",
      "\n",
      "\n"
     ]
    },
    {
     "data": {
      "text/html": [
       "$x = \\frac{0.05 m \\left(1000.0 s^{3} + 200.0 s^{2} t_{1} + 20.0 s t_{1}^{2} - t_{1}^{3}\\right)}{s^{3}}$ <br/> $x = \\frac{5.0 \\left(100.0 m^{2} s - 10.0 m^{2} t_{1} + s^{3} v^{2}\\right)}{m \\left(20.0 s - t_{1}\\right)}$ <br/> $x = 50 m + t v$ <br/> "
      ],
      "text/plain": [
       "<IPython.core.display.HTML object>"
      ]
     },
     "execution_count": 561,
     "metadata": {},
     "output_type": "execute_result"
    }
   ],
   "source": [
    "v1  = sp.symbols('v1')\n",
    "P2 = calculateParticleMovement(_a = 2 * (m / s**2) - (.1 * (m / s**3)) * t1,\n",
    "                              _v0 = 10 * (m / s),\n",
    "                              _x0 = 50 * m,\n",
    "                               createSummary=True,\n",
    "                               solutionsNeeded=[x, t0]\n",
    "                              )\n",
    "renderListToLatex(P2)"
   ]
  },
  {
   "cell_type": "code",
   "execution_count": 557,
   "id": "e46c90d6-d2e2-4461-9029-af639b5f8e29",
   "metadata": {},
   "outputs": [
    {
     "data": {
      "text/latex": [
       "$\\displaystyle \\frac{10 m}{s} + \\frac{2.0 m t}{s^{2}} - \\frac{0.05 m t^{2}}{s^{3}}$"
      ],
      "text/plain": [
       "10*m/s + 2.0*m*t/s**2 - 0.05*m*t**2/s**3"
      ]
     },
     "execution_count": 557,
     "metadata": {},
     "output_type": "execute_result"
    }
   ],
   "source": [
    "10 * (m / s) + sp.integrate(2 * (m / s**2) - (.1 * (m / s**3)) * t, (t, 0, t))"
   ]
  },
  {
   "cell_type": "code",
   "execution_count": 166,
   "id": "f4fdf3fc-7ba0-4973-88c4-500fca17262e",
   "metadata": {},
   "outputs": [
    {
     "data": {
      "text/latex": [
       "$\\displaystyle v = - \\frac{10 m}{s \\left(t - 1\\right)}$"
      ],
      "text/plain": [
       "Eq(v, -10*m/(s*(t - 1)))"
      ]
     },
     "execution_count": 166,
     "metadata": {},
     "output_type": "execute_result"
    }
   ],
   "source": [
    "P2[0]"
   ]
  },
  {
   "cell_type": "code",
   "execution_count": null,
   "id": "ad1af34c-cde9-46c1-a99e-1da61dbc0eea",
   "metadata": {},
   "outputs": [],
   "source": []
  }
 ],
 "metadata": {
  "kernelspec": {
   "display_name": "Python 3",
   "language": "python",
   "name": "python3"
  },
  "language_info": {
   "codemirror_mode": {
    "name": "ipython",
    "version": 3
   },
   "file_extension": ".py",
   "mimetype": "text/x-python",
   "name": "python",
   "nbconvert_exporter": "python",
   "pygments_lexer": "ipython3",
   "version": "3.9.2"
  }
 },
 "nbformat": 4,
 "nbformat_minor": 5
}
