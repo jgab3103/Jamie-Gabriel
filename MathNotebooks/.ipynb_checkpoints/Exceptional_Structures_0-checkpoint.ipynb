{
 "cells": [
  {
   "cell_type": "markdown",
   "id": "cd785232-2f3d-43dc-94af-0076a1ab2517",
   "metadata": {},
   "source": [
    "\n",
    "<div>These notes are based on Prof. Norman Wildberger's YouTube video on Polynomial Equations found <a href=\"https://www.youtube.com/watch?v=peLRDMhWai8&t=833s\">here</a>. They are being hosted at <a href=\"https://www.ladatavita.com/\">ladatavita.com</a> and available from my Github repo at: <a href=\"https://github.com/jgab3103/Jamie-Gabriel/blob/main/Notebooks/Exceptional_Structures_0.ipynb\">https://github.com/jgab3103/Jamie-Gabriel/blob/main/Notebooks/Exceptional_Structures_0.ipynb</a></div>\n",
    "\n",
    "<hr/>"
   ]
  },
  {
   "cell_type": "code",
   "execution_count": null,
   "id": "8f5dc6a8-8a04-42ed-b738-229121afe4e6",
   "metadata": {},
   "outputs": [],
   "source": []
  }
 ],
 "metadata": {
  "kernelspec": {
   "display_name": "Python 3",
   "language": "python",
   "name": "python3"
  },
  "language_info": {
   "codemirror_mode": {
    "name": "ipython",
    "version": 3
   },
   "file_extension": ".py",
   "mimetype": "text/x-python",
   "name": "python",
   "nbconvert_exporter": "python",
   "pygments_lexer": "ipython3",
   "version": "3.9.2"
  }
 },
 "nbformat": 4,
 "nbformat_minor": 5
}
