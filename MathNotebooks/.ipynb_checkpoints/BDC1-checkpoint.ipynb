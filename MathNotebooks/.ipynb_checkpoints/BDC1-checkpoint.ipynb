{
 "cells": [
  {
   "cell_type": "code",
   "execution_count": 3,
   "id": "15e05413-f58d-4432-ba39-6717f485875a",
   "metadata": {},
   "outputs": [],
   "source": [
    "import numpy as np\n",
    "import sympy as sp\n",
    "from IPython.display import HTML, IFrame\n",
    "import ipywidgets as widgets\n",
    "import matplotlib as mpl\n",
    "from mpl_toolkits.mplot3d import Axes3D\n",
    "import matplotlib.pyplot as plt\n",
    "mpl.rcParams['legend.fontsize'] = 10\n",
    "import pandas as pd\n",
    "import itertools\n",
    "from IPython.display import Image\n",
    "\n",
    "# This is commented out\n",
    "#%matplotlib widget\n",
    "\n",
    "# function to print latex\n",
    "def renderListToLatex(e):\n",
    "    latex_rendering = []\n",
    "\n",
    "    for i in range(len(e)):\n",
    "        latex_rendering.append(\"$$\" + sp.latex(e[i]) + \"$$\")\n",
    "    \n",
    "    return(HTML(\"\".join(latex_rendering[0:])))"
   ]
  },
  {
   "cell_type": "code",
   "execution_count": 4,
   "id": "471475dd-15cb-4a01-968b-052cf3ddff7b",
   "metadata": {},
   "outputs": [],
   "source": [
    "# role of dcb curves in claulcus\n",
    "\n",
    "# Algebraic Calculus and Geombety of dCB curves - \n",
    "\n",
    "# relationship Polynumbers and de Casteljau\n",
    "\n"
   ]
  },
  {
   "cell_type": "markdown",
   "id": "3ac16351-5f32-4445-889e-1464b51886c4",
   "metadata": {},
   "source": [
    "Observe: Algebraic calculus - direct ocomputional\n",
    "Essential objects in calc - curves\n",
    "\n",
    "These are polynomial paramaterised curves\n",
    "\n",
    "de Casteljau Bezier curves\n",
    "\n",
    "Note 4 control points, P1 - P4\n",
    "\n",
    "Degree 4 polynomials - this is qauardit curve\n",
    "\n",
    "Note paramater t betwee 0 and 1- all proportial (Q0 .4 along if t set to .4\n",
    "\n",
    "Then create r points(.4 of the way along....\n",
    "\n",
    "Then create s points (.4 along)\n",
    "\n",
    "FInlly is the s0\n",
    "\n",
    "Note fixed control points don't move, as t moves a locus is created\n",
    "\n",
    " curves are are central objects in calculus\n",
    " \n",
    "Curves also have own intrinsic geometry - interacts with algebra\n",
    "\n",
    "Note discrete aspec \n",
    "\n",
    "Observe geobra note t0 is moving the curve\n",
    "\n",
    "NOte you can turn of locus\n",
    "\n",
    "Note affine combination of (1 - t) P0 + P1 (t). Note this can be be\n",
    "broken down into different approximae curves - note can turn on different locus - gradually doing more complex curves depnding on how many we are turning on. Quadtratic and cubic dcb cuves dpending on turning n more parts of the cruves\n",
    "\n",
    "Quadriatic and cub can be glued together because control points control ends - can line up tangents....\n",
    "\n",
    "\n",
    "\n",
    "\n",
    "18.07\n"
   ]
  },
  {
   "cell_type": "markdown",
   "id": "8bcc595e-648c-422a-84f4-ee62216bb0f6",
   "metadata": {},
   "source": [
    "Aim  - create algebra: "
   ]
  },
  {
   "cell_type": "markdown",
   "id": "5ea67c20-c603-4766-a32a-2c8c80be873a",
   "metadata": {},
   "source": [
    "<b>Aim</b>\n",
    "\n",
    "Introduce Polynumbers \n",
    "\n"
   ]
  },
  {
   "cell_type": "code",
   "execution_count": 5,
   "id": "e1961db1-353a-47bb-a7f3-56e6537c3c9a",
   "metadata": {},
   "outputs": [],
   "source": [
    "P = [1, 2, 0, -3]"
   ]
  },
  {
   "cell_type": "code",
   "execution_count": 6,
   "id": "5f5c545d-6218-4d61-8464-90980facd03b",
   "metadata": {},
   "outputs": [],
   "source": [
    "P = [1, 2, 0, -3, 0, 0]"
   ]
  },
  {
   "cell_type": "code",
   "execution_count": 7,
   "id": "f473c06b-6f4c-46b5-8311-8b0df97821e4",
   "metadata": {},
   "outputs": [],
   "source": [
    "# both are the same \n",
    "\n",
    "# not exactly a vector\n",
    "\n",
    "# "
   ]
  },
  {
   "cell_type": "markdown",
   "id": "00171598-bfcc-4dea-87c2-fe30330417d4",
   "metadata": {},
   "source": [
    "The degree of a polynumber is k if p_k 0s non-zero - so last non 0 entry is degree \n",
    "\n",
    "[0] - degree is not defined\n",
    "\n",
    "Scalar multiple is possible \n",
    "\n",
    "[7 3] + [-4 2 8] = [3 5 8] same as [[7 3 0]\n",
    "\n",
    "multiplication is defined using cauchy product\n",
    "\n",
    "[1 2] x [5 x 2] + [5 17 6]\n",
    "\n",
    "unit polynumber [1] - identity\n",
    "\n",
    "consider third polynumber is important - 0, 1, now $\\alpha$\n",
    "\n",
    "a = [0 1] - note powers of this will be a *a = [0, 0, 1]\n",
    "\n",
    "alpha is not variable just a partuclar simple polynumber \n",
    "\n",
    "alpha is a natural generator for powers - gives the equivalence of variable\n",
    "\n",
    "so consider [1 2, 0, -3] - gives alpha and coefficitns\n",
    "\n",
    "we also get multiplication which is normal polynomial \n",
    "\n",
    "\n",
    "\n"
   ]
  },
  {
   "cell_type": "markdown",
   "id": "363f4add-e024-4ef8-9284-8339db832307",
   "metadata": {},
   "source": [
    "Note we don't have variable as such - ut we can still evanulate - get a 2 list of polynomial paramaterised curve - these are more comp science way of \n",
    "\n",
    "<b>Polynomially parametrised cruve </b>\n",
    "\n",
    "$$ \\gamma = [p, q] $$\n",
    "\n",
    "Curve is list of 2 polynumbers -\n",
    "\n",
    "\n",
    "27.43 time"
   ]
  },
  {
   "cell_type": "markdown",
   "id": "b42cfac0-c4fb-4b40-b634-f27c2155f60e",
   "metadata": {},
   "source": [
    "General \n",
    "\n",
    "Now connect to de Casteljau Bezier - start with control points and see how they are connected to give a \n",
    "\n",
    "DCB curves are actually polynom parametrized curve....\n",
    "\n",
    "THink about whole thing as consistent\n",
    "\n",
    "consider - sequence of planar control points P0, P1 P2 etc..... this just goes up wards - but has an ongoing orientation \n",
    "\n",
    "We want to control whats happening at a certin state\n",
    "\n",
    "\n"
   ]
  },
  {
   "cell_type": "code",
   "execution_count": 35,
   "id": "f6b342b0-9ae4-4b27-80e5-5ad640d0069a",
   "metadata": {},
   "outputs": [],
   "source": [
    "# Consider control point coords \n",
    "\n",
    "p01, p02, p11, p12, p21, p22, p31, p32, t = sp.symbols(\"p01, p02, p11, p12, p21, p22, p31, p32, t\")\n",
    "\n",
    "P0 = np.array([p01, p02])\n",
    "P1 = np.array([p11, p12])\n",
    "P2 = np.array([p21, p22])\n",
    "P3 = np.array([p31, p32])"
   ]
  },
  {
   "cell_type": "code",
   "execution_count": 46,
   "id": "fd4c24f3-e71a-4a77-a098-9bf83fcf8e5d",
   "metadata": {},
   "outputs": [],
   "source": [
    "# then for a fixed parameter t, we define new sequence of points \n",
    "\n",
    "Q0 = (1 - t) * P0 + (t * P1)\n",
    "Q1 = (1 - t) * P1 + (t * P2)\n",
    "Q2 = (1 - t) * P2 + (t * P3)\n"
   ]
  },
  {
   "cell_type": "code",
   "execution_count": 54,
   "id": "0b6adc5b-6ac7-4bc2-92be-362b8f51d91b",
   "metadata": {},
   "outputs": [
    {
     "data": {
      "text/plain": [
       "array([[p01, 0],\n",
       "       [-p11, p12]], dtype=object)"
      ]
     },
     "execution_count": 54,
     "metadata": {},
     "output_type": "execute_result"
    }
   ],
   "source": [
    "np.array([[p01, p02], [p11, p12]]) * np.array([[1, 0], [-1, 1]])"
   ]
  },
  {
   "cell_type": "code",
   "execution_count": 55,
   "id": "326a84ea-d252-4b16-8996-70affbbb963e",
   "metadata": {},
   "outputs": [
    {
     "data": {
      "text/plain": [
       "array([p01*(1 - t) + p11*t, p02*(1 - t) + p12*t], dtype=object)"
      ]
     },
     "execution_count": 55,
     "metadata": {},
     "output_type": "execute_result"
    }
   ],
   "source": []
  },
  {
   "cell_type": "code",
   "execution_count": 32,
   "id": "41fcdae9-c716-4cdb-9dfb-2876292c88b2",
   "metadata": {},
   "outputs": [],
   "source": [
    "# depend on param t between 0 and 1\n",
    "\n",
    "# note locus of Q0 as t varies is linear dCB curbe\n",
    "\n",
    "# observe - line passing through 2 piotns when t =  0 and t = 1\n",
    "\n",
    "# cn have degenerate sitation where we just get a point "
   ]
  },
  {
   "cell_type": "raw",
   "id": "b35ec43a-103d-426a-80a1-d4b754f3ebfc",
   "metadata": {},
   "source": []
  },
  {
   "cell_type": "code",
   "execution_count": 33,
   "id": "47358ea5-19f6-4737-a597-e72175df6783",
   "metadata": {},
   "outputs": [],
   "source": [
    "# Now define new sequence of points.....same just redo for Q and R, then \n",
    "# for R and S. \n",
    "\n",
    "# we could keep on going \n",
    "\n",
    "# consider R0 as t varies - is a quadratic dCB curve with points\n",
    "\n",
    "# keep on going to get the S points, leads to cubic cDB curve\n",
    "\n",
    "# quartic dcb curves from 5 control points\n",
    "\n",
    "# quintic dcb curves vrom 6 control points "
   ]
  },
  {
   "cell_type": "code",
   "execution_count": 34,
   "id": "3baebc83-a6e5-4922-acda-d87e43a7f2b0",
   "metadata": {},
   "outputs": [
    {
     "data": {
      "text/plain": [
       "array([p01*(1 - t) + p11*t, p02*(1 - t) + p12*t], dtype=object)"
      ]
     },
     "execution_count": 34,
     "metadata": {},
     "output_type": "execute_result"
    }
   ],
   "source": [
    "# consider them more explicity\n",
    "\n"
   ]
  },
  {
   "cell_type": "code",
   "execution_count": 76,
   "id": "d74090b9-b4ac-4a9b-9571-4d1f7337abe9",
   "metadata": {},
   "outputs": [],
   "source": [
    "\n",
    "p01, p02, p11, p12, p21, p22, p31, p32, t = sp.symbols(\"p01, p02, p11, p12, p21, p22, p31, p32, t\")\n",
    "\n",
    "P0 = np.array([p01, p02])\n",
    "P1 = np.array([p11, p12])\n",
    "P2 = np.array([p21, p22])\n",
    "P3 = np.array([p31, p32])\n",
    "\n",
    "\n",
    "Q0 = (1 - t) * P0 + (t * P1)\n",
    "Q1 = (1 - t) * P1 + (t * P2)\n",
    "Q2 = (1 - t) * P2 + (t * P3)\n"
   ]
  },
  {
   "cell_type": "code",
   "execution_count": 80,
   "id": "cec23cd6-a404-4463-b7ed-5380e1b5d697",
   "metadata": {},
   "outputs": [
    {
     "data": {
      "text/latex": [
       "$\\displaystyle p_{01} - t \\left(p_{01} - p_{11}\\right)$"
      ],
      "text/plain": [
       "p01 - t*(p01 - p11)"
      ]
     },
     "execution_count": 80,
     "metadata": {},
     "output_type": "execute_result"
    }
   ],
   "source": [
    "Q0[0].factor(t)"
   ]
  },
  {
   "cell_type": "code",
   "execution_count": 81,
   "id": "a4f81243-4981-41be-b0a7-c63b4af2bde1",
   "metadata": {},
   "outputs": [
    {
     "data": {
      "text/latex": [
       "$\\displaystyle p_{02} - t \\left(p_{02} - p_{12}\\right)$"
      ],
      "text/plain": [
       "p02 - t*(p02 - p12)"
      ]
     },
     "execution_count": 81,
     "metadata": {},
     "output_type": "execute_result"
    }
   ],
   "source": [
    "Q0[1].factor(t)"
   ]
  },
  {
   "cell_type": "code",
   "execution_count": null,
   "id": "c1851267-c242-4ed3-a302-8b7e7694edf5",
   "metadata": {},
   "outputs": [],
   "source": []
  },
  {
   "cell_type": "code",
   "execution_count": 74,
   "id": "23b0f8f8-1185-4aba-8cd3-ee4de364e7ef",
   "metadata": {},
   "outputs": [
    {
     "data": {
      "text/plain": [
       "array([p01*(1 - t), p02*(1 - t)], dtype=object)"
      ]
     },
     "execution_count": 74,
     "metadata": {},
     "output_type": "execute_result"
    }
   ],
   "source": [
    "(1 - t) * P0"
   ]
  },
  {
   "cell_type": "code",
   "execution_count": null,
   "id": "08fb0c2c-3e2f-46d3-a18f-22855eacc128",
   "metadata": {},
   "outputs": [],
   "source": []
  },
  {
   "cell_type": "code",
   "execution_count": null,
   "id": "1008eb56-5d58-40c2-9bc4-1491dcedabe5",
   "metadata": {},
   "outputs": [],
   "source": []
  },
  {
   "cell_type": "code",
   "execution_count": 58,
   "id": "caad60aa-fdcf-4c13-a115-5a31a197593c",
   "metadata": {},
   "outputs": [],
   "source": [
    "x = (1 - t) * P0 + t * P1"
   ]
  },
  {
   "cell_type": "code",
   "execution_count": 65,
   "id": "fdb23fc7-6f79-479d-93c2-9e6d2332f29e",
   "metadata": {},
   "outputs": [
    {
     "data": {
      "text/latex": [
       "$\\displaystyle P_{0} - t \\left(P_{0} - P_{1}\\right)$"
      ],
      "text/plain": [
       "P0 - t*(P0 - P1)"
      ]
     },
     "execution_count": 65,
     "metadata": {},
     "output_type": "execute_result"
    }
   ],
   "source": [
    "x.factor(t)"
   ]
  },
  {
   "cell_type": "code",
   "execution_count": 66,
   "id": "ce3f5535-d4f6-41c4-ac29-f2573bd67941",
   "metadata": {},
   "outputs": [
    {
     "data": {
      "text/latex": [
       "$\\displaystyle - P_{0} t + P_{0} + P_{1} t$"
      ],
      "text/plain": [
       "-P0*t + P0 + P1*t"
      ]
     },
     "execution_count": 66,
     "metadata": {},
     "output_type": "execute_result"
    }
   ],
   "source": [
    "x.expand()"
   ]
  },
  {
   "cell_type": "code",
   "execution_count": 68,
   "id": "4352ed46-431e-4eae-bd57-e035433fe612",
   "metadata": {},
   "outputs": [
    {
     "data": {
      "text/latex": [
       "$\\displaystyle p_{01} \\left(1 - t\\right) + p_{11} t$"
      ],
      "text/plain": [
       "p01*(1 - t) + p11*t"
      ]
     },
     "execution_count": 68,
     "metadata": {},
     "output_type": "execute_result"
    }
   ],
   "source": [
    "Q0[0]"
   ]
  },
  {
   "cell_type": "code",
   "execution_count": 70,
   "id": "9663f70a-c3c7-4739-9fae-ef01ba394482",
   "metadata": {},
   "outputs": [
    {
     "data": {
      "text/latex": [
       "$\\displaystyle p_{02} \\left(1 - t\\right) + p_{12} t$"
      ],
      "text/plain": [
       "p02*(1 - t) + p12*t"
      ]
     },
     "execution_count": 70,
     "metadata": {},
     "output_type": "execute_result"
    }
   ],
   "source": [
    "Q0[1]"
   ]
  },
  {
   "cell_type": "code",
   "execution_count": null,
   "id": "9a000882-d2e0-413d-bd0f-5280a60178be",
   "metadata": {},
   "outputs": [],
   "source": []
  }
 ],
 "metadata": {
  "kernelspec": {
   "display_name": "Python 3",
   "language": "python",
   "name": "python3"
  },
  "language_info": {
   "codemirror_mode": {
    "name": "ipython",
    "version": 3
   },
   "file_extension": ".py",
   "mimetype": "text/x-python",
   "name": "python",
   "nbconvert_exporter": "python",
   "pygments_lexer": "ipython3",
   "version": "3.9.2"
  }
 },
 "nbformat": 4,
 "nbformat_minor": 5
}
