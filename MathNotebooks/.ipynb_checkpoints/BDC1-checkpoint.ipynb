{
 "cells": [
  {
   "cell_type": "code",
   "execution_count": 3,
   "id": "15e05413-f58d-4432-ba39-6717f485875a",
   "metadata": {},
   "outputs": [],
   "source": [
    "import numpy as np\n",
    "import sympy as sp\n",
    "from IPython.display import HTML, IFrame\n",
    "import ipywidgets as widgets\n",
    "import matplotlib as mpl\n",
    "from mpl_toolkits.mplot3d import Axes3D\n",
    "import matplotlib.pyplot as plt\n",
    "mpl.rcParams['legend.fontsize'] = 10\n",
    "import pandas as pd\n",
    "import itertools\n",
    "from IPython.display import Image\n",
    "\n",
    "# This is commented out\n",
    "#%matplotlib widget\n",
    "\n",
    "# function to print latex\n",
    "def renderListToLatex(e):\n",
    "    latex_rendering = []\n",
    "\n",
    "    for i in range(len(e)):\n",
    "        latex_rendering.append(\"$$\" + sp.latex(e[i]) + \"$$\")\n",
    "    \n",
    "    return(HTML(\"\".join(latex_rendering[0:])))"
   ]
  },
  {
   "cell_type": "code",
   "execution_count": 4,
   "id": "471475dd-15cb-4a01-968b-052cf3ddff7b",
   "metadata": {},
   "outputs": [],
   "source": [
    "# role of dcb curves in claulcus\n",
    "\n",
    "# Algebraic Calculus and Geombety of dCB curves - \n",
    "\n",
    "# relationship Polynumbers and de Casteljau\n",
    "\n"
   ]
  },
  {
   "cell_type": "markdown",
   "id": "3ac16351-5f32-4445-889e-1464b51886c4",
   "metadata": {},
   "source": [
    "Observe: Algebraic calculus - direct ocomputional\n",
    "Essential objects in calc - curves\n",
    "\n",
    "These are polynomial paramaterised curves\n",
    "\n",
    "de Casteljau Bezier curves\n",
    "\n",
    "Note 4 control points, P1 - P4\n",
    "\n",
    "Degree 4 polynomials - this is qauardit curve\n",
    "\n",
    "Note paramater t betwee 0 and 1- all proportial (Q0 .4 along if t set to .4\n",
    "\n",
    "Then create r points(.4 of the way along....\n",
    "\n",
    "Then create s points (.4 along)\n",
    "\n",
    "FInlly is the s0\n",
    "\n",
    "Note fixed control points don't move, as t moves a locus is created\n",
    "\n",
    " curves are are central objects in calculus\n",
    " \n",
    "Curves also have own intrinsic geometry - interacts with algebra\n",
    "\n",
    "Note discrete aspec \n",
    "\n",
    "Observe geobra note t0 is moving the curve\n",
    "\n",
    "NOte you can turn of locus\n",
    "\n",
    "Note affine combination of (1 - t) P0 + P1 (t). Note this can be be\n",
    "broken down into different approximae curves - note can turn on different locus - gradually doing more complex curves depnding on how many we are turning on. Quadtratic and cubic dcb cuves dpending on turning n more parts of the cruves\n",
    "\n",
    "Quadriatic and cub can be glued together because control points control ends - can line up tangents....\n",
    "\n",
    "\n",
    "\n",
    "\n",
    "18.07\n"
   ]
  },
  {
   "cell_type": "markdown",
   "id": "8bcc595e-648c-422a-84f4-ee62216bb0f6",
   "metadata": {},
   "source": [
    "Aim  - create algebra: "
   ]
  },
  {
   "cell_type": "markdown",
   "id": "5ea67c20-c603-4766-a32a-2c8c80be873a",
   "metadata": {},
   "source": [
    "<b>Aim</b>\n",
    "\n",
    "Introduce Polynumbers \n",
    "\n"
   ]
  },
  {
   "cell_type": "code",
   "execution_count": 5,
   "id": "e1961db1-353a-47bb-a7f3-56e6537c3c9a",
   "metadata": {},
   "outputs": [],
   "source": [
    "P = [1, 2, 0, -3]"
   ]
  },
  {
   "cell_type": "code",
   "execution_count": 6,
   "id": "5f5c545d-6218-4d61-8464-90980facd03b",
   "metadata": {},
   "outputs": [],
   "source": [
    "P = [1, 2, 0, -3, 0, 0]"
   ]
  },
  {
   "cell_type": "code",
   "execution_count": 7,
   "id": "f473c06b-6f4c-46b5-8311-8b0df97821e4",
   "metadata": {},
   "outputs": [],
   "source": [
    "# both are the same \n",
    "\n",
    "# not exactly a vector\n",
    "\n",
    "# "
   ]
  },
  {
   "cell_type": "markdown",
   "id": "00171598-bfcc-4dea-87c2-fe30330417d4",
   "metadata": {},
   "source": [
    "The degree of a polynumber is k if p_k 0s non-zero - so last non 0 entry is degree \n",
    "\n",
    "[0] - degree is not defined\n",
    "\n",
    "Scalar multiple is possible \n",
    "\n",
    "[7 3] + [-4 2 8] = [3 5 8] same as [[7 3 0]\n",
    "\n",
    "multiplication is defined using cauchy product\n",
    "\n",
    "[1 2] x [5 x 2] + [5 17 6]\n",
    "\n",
    "unit polynumber [1] - identity\n",
    "\n",
    "consider third polynumber is important - 0, 1, now $\\alpha$\n",
    "\n",
    "a = [0 1] - note powers of this will be a *a = [0, 0, 1]\n",
    "\n",
    "alpha is not variable just a partuclar simple polynumber \n",
    "\n",
    "alpha is a natural generator for powers - gives the equivalence of variable\n",
    "\n",
    "so consider [1 2, 0, -3] - gives alpha and coefficitns\n",
    "\n",
    "we also get multiplication which is normal polynomial \n",
    "\n",
    "\n",
    "\n"
   ]
  },
  {
   "cell_type": "markdown",
   "id": "363f4add-e024-4ef8-9284-8339db832307",
   "metadata": {},
   "source": [
    "Note we don't have variable as such - ut we can still evanulate - get a 2 list of polynomial paramaterised curve - these are more comp science way of \n",
    "\n",
    "<b>Polynomially parametrised cruve </b>\n",
    "\n",
    "$$ \\gamma = [p, q] $$\n",
    "\n",
    "Curve is list of 2 polynumbers -\n",
    "\n",
    "\n",
    "27.43 time"
   ]
  },
  {
   "cell_type": "code",
   "execution_count": null,
   "id": "c663f19f-49fd-4b48-afbd-3a2989d271fd",
   "metadata": {},
   "outputs": [],
   "source": []
  }
 ],
 "metadata": {
  "kernelspec": {
   "display_name": "Python 3",
   "language": "python",
   "name": "python3"
  },
  "language_info": {
   "codemirror_mode": {
    "name": "ipython",
    "version": 3
   },
   "file_extension": ".py",
   "mimetype": "text/x-python",
   "name": "python",
   "nbconvert_exporter": "python",
   "pygments_lexer": "ipython3",
   "version": "3.9.2"
  }
 },
 "nbformat": 4,
 "nbformat_minor": 5
}
