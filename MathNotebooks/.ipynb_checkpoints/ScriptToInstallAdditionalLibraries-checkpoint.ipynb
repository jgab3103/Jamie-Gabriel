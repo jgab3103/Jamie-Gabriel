{
 "cells": [
  {
   "cell_type": "code",
   "execution_count": null,
   "id": "c82f1da3-5f25-425a-ad3e-9b24231dd971",
   "metadata": {},
   "outputs": [
    {
     "name": "stdout",
     "output_type": "stream",
     "text": [
      "Collecting pyvis\n",
      "  Downloading pyvis-0.1.9-py3-none-any.whl (23 kB)\n",
      "Requirement already satisfied: jinja2>=2.9.6 in /opt/conda/lib/python3.9/site-packages (from pyvis) (3.0.1)\n",
      "Requirement already satisfied: networkx>=1.11 in /opt/conda/lib/python3.9/site-packages (from pyvis) (2.5)\n",
      "Collecting jsonpickle>=1.4.1\n",
      "  Downloading jsonpickle-2.1.0-py2.py3-none-any.whl (38 kB)\n",
      "Requirement already satisfied: ipython>=5.3.0 in /opt/conda/lib/python3.9/site-packages (from pyvis) (7.23.1)\n",
      "Requirement already satisfied: jedi>=0.16 in /opt/conda/lib/python3.9/site-packages (from ipython>=5.3.0->pyvis) (0.18.0)\n",
      "Requirement already satisfied: setuptools>=18.5 in /opt/conda/lib/python3.9/site-packages (from ipython>=5.3.0->pyvis) (49.6.0.post20210108)\n",
      "Requirement already satisfied: matplotlib-inline in /opt/conda/lib/python3.9/site-packages (from ipython>=5.3.0->pyvis) (0.1.2)\n",
      "Requirement already satisfied: pickleshare in /opt/conda/lib/python3.9/site-packages (from ipython>=5.3.0->pyvis) (0.7.5)\n",
      "Requirement already satisfied: prompt-toolkit!=3.0.0,!=3.0.1,<3.1.0,>=2.0.0 in /opt/conda/lib/python3.9/site-packages (from ipython>=5.3.0->pyvis) (3.0.18)\n",
      "Requirement already satisfied: pygments in /opt/conda/lib/python3.9/site-packages (from ipython>=5.3.0->pyvis) (2.9.0)\n",
      "Requirement already satisfied: pexpect>4.3 in /opt/conda/lib/python3.9/site-packages (from ipython>=5.3.0->pyvis) (4.8.0)\n",
      "Requirement already satisfied: traitlets>=4.2 in /opt/conda/lib/python3.9/site-packages (from ipython>=5.3.0->pyvis) (5.0.5)\n",
      "Requirement already satisfied: backcall in /opt/conda/lib/python3.9/site-packages (from ipython>=5.3.0->pyvis) (0.2.0)\n",
      "Requirement already satisfied: decorator in /opt/conda/lib/python3.9/site-packages (from ipython>=5.3.0->pyvis) (5.0.9)\n",
      "Requirement already satisfied: parso<0.9.0,>=0.8.0 in /opt/conda/lib/python3.9/site-packages (from jedi>=0.16->ipython>=5.3.0->pyvis) (0.8.2)\n",
      "Requirement already satisfied: MarkupSafe>=2.0 in /opt/conda/lib/python3.9/site-packages (from jinja2>=2.9.6->pyvis) (2.0.1)\n",
      "Requirement already satisfied: ptyprocess>=0.5 in /opt/conda/lib/python3.9/site-packages (from pexpect>4.3->ipython>=5.3.0->pyvis) (0.7.0)\n",
      "Requirement already satisfied: wcwidth in /opt/conda/lib/python3.9/site-packages (from prompt-toolkit!=3.0.0,!=3.0.1,<3.1.0,>=2.0.0->ipython>=5.3.0->pyvis) (0.2.5)\n",
      "Requirement already satisfied: ipython-genutils in /opt/conda/lib/python3.9/site-packages (from traitlets>=4.2->ipython>=5.3.0->pyvis) (0.2.0)\n",
      "Installing collected packages: jsonpickle, pyvis\n",
      "Successfully installed jsonpickle-2.1.0 pyvis-0.1.9\n"
     ]
    }
   ],
   "source": [
    "# INSTALLS\n",
    "!pip install pyvis\n",
    "!pip install drawing"
   ]
  },
  {
   "cell_type": "code",
   "execution_count": null,
   "id": "46373dab-6ce6-4a9e-96f0-f8fbfab27510",
   "metadata": {},
   "outputs": [],
   "source": []
  }
 ],
 "metadata": {
  "kernelspec": {
   "display_name": "Python 3",
   "language": "python",
   "name": "python3"
  },
  "language_info": {
   "codemirror_mode": {
    "name": "ipython",
    "version": 3
   },
   "file_extension": ".py",
   "mimetype": "text/x-python",
   "name": "python",
   "nbconvert_exporter": "python",
   "pygments_lexer": "ipython3",
   "version": "3.9.2"
  }
 },
 "nbformat": 4,
 "nbformat_minor": 5
}
