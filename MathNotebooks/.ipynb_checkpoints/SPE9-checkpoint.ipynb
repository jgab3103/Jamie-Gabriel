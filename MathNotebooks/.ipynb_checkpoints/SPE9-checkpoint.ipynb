{
 "cells": [
  {
   "cell_type": "markdown",
   "metadata": {},
   "source": [
    "<i>STATUS: Draft</i>\n",
    "\n",
    "<hr/>"
   ]
  },
  {
   "cell_type": "code",
   "execution_count": 1,
   "metadata": {},
   "outputs": [],
   "source": [
    "import numpy as np\n",
    "import sympy as sp\n",
    "import pickle\n",
    "from IPython.display import HTML\n",
    "import ipywidgets as widgets\n",
    "import matplotlib as mpl\n",
    "from mpl_toolkits.mplot3d import Axes3D\n",
    "import matplotlib.pyplot as plt\n",
    "mpl.rcParams['legend.fontsize'] = 10\n",
    "import pandas as pd\n",
    "import itertools\n",
    "\n",
    "# function to print latex\n",
    "def renderListToLatex(e):\n",
    "    latex_rendering = []\n",
    "\n",
    "    for i in range(len(e)):\n",
    "        latex_rendering.append(\"$$\" + sp.latex(e[i]) + \"$$<br/>\")\n",
    "    \n",
    "    return(HTML(\"\".join(latex_rendering[0:])))"
   ]
  },
  {
   "cell_type": "markdown",
   "metadata": {},
   "source": [
    "### Solving Polynomial Equations (9)"
   ]
  },
  {
   "cell_type": "markdown",
   "metadata": {},
   "source": [
    "<b>Aim</b>: Investigate properties of matrix of values created from the function $C$ which is a generating function for a solution for a general cubic polynomial \n",
    "\n",
    "<b>Method</b>: Examine the rows and columns of the coeffiecient matrix generated from $C$ using OEIS\n",
    "\n",
    "<hr/>"
   ]
  },
  {
   "cell_type": "markdown",
   "metadata": {},
   "source": [
    "Observe: the definition from Solving Polynomials (7) that defines a solution to a general cubic equation.\n",
    "\n",
    "$$C(m_2, m_3)  \\equiv(-1)^{m_3 + 1} \\frac{(2 m_{2} + 3 m_{3})!}{(1 + m_{2} + 2 m_{3})!m_2!m_3!} \\frac{c_0^{1 + m_{2} + 2 m_{3}} c_2^{m_2} c_3^{m_3} }{c_1^{2 m_{2} + 3 m_{3} + 1}}$$"
   ]
  },
  {
   "cell_type": "markdown",
   "metadata": {},
   "source": [
    "Let $C$ be a function implementation that returns a solution to a general cubic equation."
   ]
  },
  {
   "cell_type": "code",
   "execution_count": 2,
   "metadata": {},
   "outputs": [],
   "source": [
    "def C(m2, m3, returnCoefficientsOnly = False, returnCoefficientsOnlyWithoutSigns = False):\n",
    "    c_0, c_1, c_2, c_3 = sp.symbols('c_0, c_1, c_2, c_3')\n",
    "    s1 = (-1)**(m3 + 1)\n",
    "    s2 = sp.factorial(2 * m2 + 3 * m3)\n",
    "    s3 = sp.factorial(1 + m2 + 2 * m3) * sp.factorial(m2) * sp.factorial(m3)\n",
    "    s4 = c_0**(1 + m2 + 2 * m3) * c_2**m2 *c_3**m3\n",
    "    s5 = c_1**(2 * m2 + 3 * m3 + 1)\n",
    "    \n",
    "    if returnCoefficientsOnly:\n",
    "        s6 = s1 * (s2 / s3)\n",
    "    elif returnCoefficientsOnlyWithoutSigns:\n",
    "        s6 = (s2 / s3)\n",
    "    else:\n",
    "        s6 = s1 * (s2 / s3) * (s4 / s5)\n",
    "    return(s6)"
   ]
  },
  {
   "cell_type": "markdown",
   "metadata": {},
   "source": [
    "Let $P1$ be a matrix generated from $C$"
   ]
  },
  {
   "cell_type": "code",
   "execution_count": 3,
   "metadata": {},
   "outputs": [
    {
     "data": {
      "text/latex": [
       "$\\displaystyle \\left[\\begin{matrix}- \\frac{c_{0}}{c_{1}} & \\frac{c_{0}^{3} c_{3}}{c_{1}^{4}} & - \\frac{3 c_{0}^{5} c_{3}^{2}}{c_{1}^{7}} & \\frac{12 c_{0}^{7} c_{3}^{3}}{c_{1}^{10}} & - \\frac{55 c_{0}^{9} c_{3}^{4}}{c_{1}^{13}} & \\frac{273 c_{0}^{11} c_{3}^{5}}{c_{1}^{16}} & - \\frac{1428 c_{0}^{13} c_{3}^{6}}{c_{1}^{19}} & \\frac{7752 c_{0}^{15} c_{3}^{7}}{c_{1}^{22}}\\\\- \\frac{c_{0}^{2} c_{2}}{c_{1}^{3}} & \\frac{5 c_{0}^{4} c_{2} c_{3}}{c_{1}^{6}} & - \\frac{28 c_{0}^{6} c_{2} c_{3}^{2}}{c_{1}^{9}} & \\frac{165 c_{0}^{8} c_{2} c_{3}^{3}}{c_{1}^{12}} & - \\frac{1001 c_{0}^{10} c_{2} c_{3}^{4}}{c_{1}^{15}} & \\frac{6188 c_{0}^{12} c_{2} c_{3}^{5}}{c_{1}^{18}} & - \\frac{38760 c_{0}^{14} c_{2} c_{3}^{6}}{c_{1}^{21}} & \\frac{245157 c_{0}^{16} c_{2} c_{3}^{7}}{c_{1}^{24}}\\\\- \\frac{2 c_{0}^{3} c_{2}^{2}}{c_{1}^{5}} & \\frac{21 c_{0}^{5} c_{2}^{2} c_{3}}{c_{1}^{8}} & - \\frac{180 c_{0}^{7} c_{2}^{2} c_{3}^{2}}{c_{1}^{11}} & \\frac{1430 c_{0}^{9} c_{2}^{2} c_{3}^{3}}{c_{1}^{14}} & - \\frac{10920 c_{0}^{11} c_{2}^{2} c_{3}^{4}}{c_{1}^{17}} & \\frac{81396 c_{0}^{13} c_{2}^{2} c_{3}^{5}}{c_{1}^{20}} & - \\frac{596904 c_{0}^{15} c_{2}^{2} c_{3}^{6}}{c_{1}^{23}} & \\frac{4326300 c_{0}^{17} c_{2}^{2} c_{3}^{7}}{c_{1}^{26}}\\\\- \\frac{5 c_{0}^{4} c_{2}^{3}}{c_{1}^{7}} & \\frac{84 c_{0}^{6} c_{2}^{3} c_{3}}{c_{1}^{10}} & - \\frac{990 c_{0}^{8} c_{2}^{3} c_{3}^{2}}{c_{1}^{13}} & \\frac{10010 c_{0}^{10} c_{2}^{3} c_{3}^{3}}{c_{1}^{16}} & - \\frac{92820 c_{0}^{12} c_{2}^{3} c_{3}^{4}}{c_{1}^{19}} & \\frac{813960 c_{0}^{14} c_{2}^{3} c_{3}^{5}}{c_{1}^{22}} & - \\frac{6864396 c_{0}^{16} c_{2}^{3} c_{3}^{6}}{c_{1}^{25}} & \\frac{56241900 c_{0}^{18} c_{2}^{3} c_{3}^{7}}{c_{1}^{28}}\\\\- \\frac{14 c_{0}^{5} c_{2}^{4}}{c_{1}^{9}} & \\frac{330 c_{0}^{7} c_{2}^{4} c_{3}}{c_{1}^{12}} & - \\frac{5005 c_{0}^{9} c_{2}^{4} c_{3}^{2}}{c_{1}^{15}} & \\frac{61880 c_{0}^{11} c_{2}^{4} c_{3}^{3}}{c_{1}^{18}} & - \\frac{678300 c_{0}^{13} c_{2}^{4} c_{3}^{4}}{c_{1}^{21}} & \\frac{6864396 c_{0}^{15} c_{2}^{4} c_{3}^{5}}{c_{1}^{24}} & - \\frac{65615550 c_{0}^{17} c_{2}^{4} c_{3}^{6}}{c_{1}^{27}} & \\frac{600900300 c_{0}^{19} c_{2}^{4} c_{3}^{7}}{c_{1}^{30}}\\\\- \\frac{42 c_{0}^{6} c_{2}^{5}}{c_{1}^{11}} & \\frac{1287 c_{0}^{8} c_{2}^{5} c_{3}}{c_{1}^{14}} & - \\frac{24024 c_{0}^{10} c_{2}^{5} c_{3}^{2}}{c_{1}^{17}} & \\frac{352716 c_{0}^{12} c_{2}^{5} c_{3}^{3}}{c_{1}^{20}} & - \\frac{4476780 c_{0}^{14} c_{2}^{5} c_{3}^{4}}{c_{1}^{23}} & \\frac{51482970 c_{0}^{16} c_{2}^{5} c_{3}^{5}}{c_{1}^{26}} & - \\frac{551170620 c_{0}^{18} c_{2}^{5} c_{3}^{6}}{c_{1}^{29}} & \\frac{5588372790 c_{0}^{20} c_{2}^{5} c_{3}^{7}}{c_{1}^{32}}\\\\- \\frac{132 c_{0}^{7} c_{2}^{6}}{c_{1}^{13}} & \\frac{5005 c_{0}^{9} c_{2}^{6} c_{3}}{c_{1}^{16}} & - \\frac{111384 c_{0}^{11} c_{2}^{6} c_{3}^{2}}{c_{1}^{19}} & \\frac{1899240 c_{0}^{13} c_{2}^{6} c_{3}^{3}}{c_{1}^{22}} & - \\frac{27457584 c_{0}^{15} c_{2}^{6} c_{3}^{4}}{c_{1}^{25}} & \\frac{354323970 c_{0}^{17} c_{2}^{6} c_{3}^{5}}{c_{1}^{28}} & - \\frac{4206302100 c_{0}^{19} c_{2}^{6} c_{3}^{6}}{c_{1}^{31}} & \\frac{46835886240 c_{0}^{21} c_{2}^{6} c_{3}^{7}}{c_{1}^{34}}\\\\- \\frac{429 c_{0}^{8} c_{2}^{7}}{c_{1}^{15}} & \\frac{19448 c_{0}^{10} c_{2}^{7} c_{3}}{c_{1}^{18}} & - \\frac{503880 c_{0}^{12} c_{2}^{7} c_{3}^{2}}{c_{1}^{21}} & \\frac{9806280 c_{0}^{14} c_{2}^{7} c_{3}^{3}}{c_{1}^{24}} & - \\frac{159352050 c_{0}^{16} c_{2}^{7} c_{3}^{4}}{c_{1}^{27}} & \\frac{2283421140 c_{0}^{18} c_{2}^{7} c_{3}^{5}}{c_{1}^{30}} & - \\frac{29804654880 c_{0}^{20} c_{2}^{7} c_{3}^{6}}{c_{1}^{33}} & \\frac{361913666400 c_{0}^{22} c_{2}^{7} c_{3}^{7}}{c_{1}^{36}}\\end{matrix}\\right]$"
      ],
      "text/plain": [
       "Matrix([\n",
       "[                  -c_0/c_1,                c_0**3*c_3/c_1**4,               -3*c_0**5*c_3**2/c_1**7,              12*c_0**7*c_3**3/c_1**10,                -55*c_0**9*c_3**4/c_1**13,               273*c_0**11*c_3**5/c_1**16,               -1428*c_0**13*c_3**6/c_1**19,                7752*c_0**15*c_3**7/c_1**22],\n",
       "[        -c_0**2*c_2/c_1**3,          5*c_0**4*c_2*c_3/c_1**6,          -28*c_0**6*c_2*c_3**2/c_1**9,         165*c_0**8*c_2*c_3**3/c_1**12,         -1001*c_0**10*c_2*c_3**4/c_1**15,          6188*c_0**12*c_2*c_3**5/c_1**18,          -38760*c_0**14*c_2*c_3**6/c_1**21,          245157*c_0**16*c_2*c_3**7/c_1**24],\n",
       "[   -2*c_0**3*c_2**2/c_1**5,      21*c_0**5*c_2**2*c_3/c_1**8,     -180*c_0**7*c_2**2*c_3**2/c_1**11,     1430*c_0**9*c_2**2*c_3**3/c_1**14,     -10920*c_0**11*c_2**2*c_3**4/c_1**17,      81396*c_0**13*c_2**2*c_3**5/c_1**20,      -596904*c_0**15*c_2**2*c_3**6/c_1**23,      4326300*c_0**17*c_2**2*c_3**7/c_1**26],\n",
       "[   -5*c_0**4*c_2**3/c_1**7,     84*c_0**6*c_2**3*c_3/c_1**10,     -990*c_0**8*c_2**3*c_3**2/c_1**13,   10010*c_0**10*c_2**3*c_3**3/c_1**16,     -92820*c_0**12*c_2**3*c_3**4/c_1**19,     813960*c_0**14*c_2**3*c_3**5/c_1**22,     -6864396*c_0**16*c_2**3*c_3**6/c_1**25,     56241900*c_0**18*c_2**3*c_3**7/c_1**28],\n",
       "[  -14*c_0**5*c_2**4/c_1**9,    330*c_0**7*c_2**4*c_3/c_1**12,    -5005*c_0**9*c_2**4*c_3**2/c_1**15,   61880*c_0**11*c_2**4*c_3**3/c_1**18,    -678300*c_0**13*c_2**4*c_3**4/c_1**21,    6864396*c_0**15*c_2**4*c_3**5/c_1**24,    -65615550*c_0**17*c_2**4*c_3**6/c_1**27,    600900300*c_0**19*c_2**4*c_3**7/c_1**30],\n",
       "[ -42*c_0**6*c_2**5/c_1**11,   1287*c_0**8*c_2**5*c_3/c_1**14,  -24024*c_0**10*c_2**5*c_3**2/c_1**17,  352716*c_0**12*c_2**5*c_3**3/c_1**20,   -4476780*c_0**14*c_2**5*c_3**4/c_1**23,   51482970*c_0**16*c_2**5*c_3**5/c_1**26,   -551170620*c_0**18*c_2**5*c_3**6/c_1**29,   5588372790*c_0**20*c_2**5*c_3**7/c_1**32],\n",
       "[-132*c_0**7*c_2**6/c_1**13,   5005*c_0**9*c_2**6*c_3/c_1**16, -111384*c_0**11*c_2**6*c_3**2/c_1**19, 1899240*c_0**13*c_2**6*c_3**3/c_1**22,  -27457584*c_0**15*c_2**6*c_3**4/c_1**25,  354323970*c_0**17*c_2**6*c_3**5/c_1**28,  -4206302100*c_0**19*c_2**6*c_3**6/c_1**31,  46835886240*c_0**21*c_2**6*c_3**7/c_1**34],\n",
       "[-429*c_0**8*c_2**7/c_1**15, 19448*c_0**10*c_2**7*c_3/c_1**18, -503880*c_0**12*c_2**7*c_3**2/c_1**21, 9806280*c_0**14*c_2**7*c_3**3/c_1**24, -159352050*c_0**16*c_2**7*c_3**4/c_1**27, 2283421140*c_0**18*c_2**7*c_3**5/c_1**30, -29804654880*c_0**20*c_2**7*c_3**6/c_1**33, 361913666400*c_0**22*c_2**7*c_3**7/c_1**36]])"
      ]
     },
     "execution_count": 3,
     "metadata": {},
     "output_type": "execute_result"
    }
   ],
   "source": [
    "P1 = np.arange(8)\n",
    "P2 = np.array([[C(j, i) for i in P1] for j in P1])\n",
    "P3 = sp.Matrix(P2)\n",
    "P3"
   ]
  },
  {
   "cell_type": "markdown",
   "metadata": {},
   "source": [
    "Observe: Many different interacting patterns here, with interelationships between $c_0, c_1, c_2$ and $c_3$. Not simply horizontal and vertical patterns, but diagonal patterns, patterns specific to different variables etc.)"
   ]
  },
  {
   "cell_type": "markdown",
   "metadata": {},
   "source": [
    "Let $P4$ be a matrix generated from $C$, returning only coefficients without signs. "
   ]
  },
  {
   "cell_type": "code",
   "execution_count": 4,
   "metadata": {},
   "outputs": [
    {
     "data": {
      "text/latex": [
       "$\\displaystyle \\left[\\begin{matrix}1 & 1 & 3 & 12 & 55 & 273 & 1428 & 7752\\\\1 & 5 & 28 & 165 & 1001 & 6188 & 38760 & 245157\\\\2 & 21 & 180 & 1430 & 10920 & 81396 & 596904 & 4326300\\\\5 & 84 & 990 & 10010 & 92820 & 813960 & 6864396 & 56241900\\\\14 & 330 & 5005 & 61880 & 678300 & 6864396 & 65615550 & 600900300\\\\42 & 1287 & 24024 & 352716 & 4476780 & 51482970 & 551170620 & 5588372790\\\\132 & 5005 & 111384 & 1899240 & 27457584 & 354323970 & 4206302100 & 46835886240\\\\429 & 19448 & 503880 & 9806280 & 159352050 & 2283421140 & 29804654880 & 361913666400\\end{matrix}\\right]$"
      ],
      "text/plain": [
       "Matrix([\n",
       "[  1,     1,      3,      12,        55,        273,        1428,         7752],\n",
       "[  1,     5,     28,     165,      1001,       6188,       38760,       245157],\n",
       "[  2,    21,    180,    1430,     10920,      81396,      596904,      4326300],\n",
       "[  5,    84,    990,   10010,     92820,     813960,     6864396,     56241900],\n",
       "[ 14,   330,   5005,   61880,    678300,    6864396,    65615550,    600900300],\n",
       "[ 42,  1287,  24024,  352716,   4476780,   51482970,   551170620,   5588372790],\n",
       "[132,  5005, 111384, 1899240,  27457584,  354323970,  4206302100,  46835886240],\n",
       "[429, 19448, 503880, 9806280, 159352050, 2283421140, 29804654880, 361913666400]])"
      ]
     },
     "execution_count": 4,
     "metadata": {},
     "output_type": "execute_result"
    }
   ],
   "source": [
    "P4 = np.array([[C(j, i, returnCoefficientsOnlyWithoutSigns=True) for i in P1] for j in P1])\n",
    "P5 = sp.Matrix(P4)\n",
    "P5"
   ]
  },
  {
   "cell_type": "markdown",
   "metadata": {},
   "source": [
    "Observe: important to consider problem for many different angles (columns, rows, diagonals etc). Consult Online Encyclopedia of Integer Sequences to explore this."
   ]
  },
  {
   "cell_type": "markdown",
   "metadata": {},
   "source": [
    "Let $P6$ be the first column in $P5$"
   ]
  },
  {
   "cell_type": "code",
   "execution_count": 5,
   "metadata": {},
   "outputs": [
    {
     "data": {
      "text/plain": [
       "[1, 1, 2, 5, 14, 42, 132, 429]"
      ]
     },
     "execution_count": 5,
     "metadata": {},
     "output_type": "execute_result"
    }
   ],
   "source": [
    "P6 = list(P5[:,0])\n",
    "P6"
   ]
  },
  {
   "cell_type": "markdown",
   "metadata": {},
   "source": [
    "Observe: This is sequence A000108 in OEIS, the Catalan Numbers, generated with the following formula\n",
    "\n",
    "$$ C(n) = \\frac{(2n)!}{n!(n + 1)!)} $$\n",
    "\n",
    "Observe: Euler originally studied this sequence in terms of properties of polygons"
   ]
  },
  {
   "cell_type": "markdown",
   "metadata": {},
   "source": [
    "Let $P6$ be the second column in $P5$"
   ]
  },
  {
   "cell_type": "code",
   "execution_count": 6,
   "metadata": {},
   "outputs": [
    {
     "data": {
      "text/plain": [
       "[1, 5, 21, 84, 330, 1287, 5005, 19448]"
      ]
     },
     "execution_count": 6,
     "metadata": {},
     "output_type": "execute_result"
    }
   ],
   "source": [
    "P6 = list(P5[:,1])\n",
    "P6"
   ]
  },
  {
   "cell_type": "markdown",
   "metadata": {},
   "source": [
    "Observe: This is sequence A002054 in OEIS and is a binomial coeffient function, generated with the following formula:\n",
    "\n",
    "$$C(2n +1, n - 1)$$"
   ]
  },
  {
   "cell_type": "markdown",
   "metadata": {},
   "source": [
    "Let $P7$ be the third column in $P5$"
   ]
  },
  {
   "cell_type": "code",
   "execution_count": 7,
   "metadata": {},
   "outputs": [
    {
     "data": {
      "text/plain": [
       "[3, 28, 180, 990, 5005, 24024, 111384, 503880]"
      ]
     },
     "execution_count": 7,
     "metadata": {},
     "output_type": "execute_result"
    }
   ],
   "source": [
    "P7 = list(P5[:,2])\n",
    "P7"
   ]
  },
  {
   "cell_type": "markdown",
   "metadata": {},
   "source": [
    "Observe: This is sequence A074922 in OEIS. It is the number of ways of arranging n chords on a circle (handshakes between 2n people across a table) with exactly 2 simple intersections.\n",
    "\n",
    "Observe: This is similiar to the interpretation of Catalan in the context of Euler's work with Catalan numbers"
   ]
  },
  {
   "cell_type": "markdown",
   "metadata": {},
   "source": [
    "Let $P8$ be the third column in $P5$"
   ]
  },
  {
   "cell_type": "code",
   "execution_count": 8,
   "metadata": {},
   "outputs": [
    {
     "data": {
      "text/plain": [
       "[12, 165, 1430, 10010, 61880, 352716, 1899240, 9806280]"
      ]
     },
     "execution_count": 8,
     "metadata": {},
     "output_type": "execute_result"
    }
   ],
   "source": [
    "P8 = list(P5[:,3])\n",
    "P8"
   ]
  },
  {
   "cell_type": "markdown",
   "metadata": {},
   "source": [
    "Observe: No match in OEIS\n",
    "\n",
    "Observe: Unlikely to be more matches of columns"
   ]
  },
  {
   "cell_type": "markdown",
   "metadata": {},
   "source": [
    "Let $P9$ be the first row in $P5$"
   ]
  },
  {
   "cell_type": "code",
   "execution_count": 9,
   "metadata": {},
   "outputs": [
    {
     "data": {
      "text/plain": [
       "[1, 1, 3, 12, 55, 273, 1428, 7752]"
      ]
     },
     "execution_count": 9,
     "metadata": {},
     "output_type": "execute_result"
    }
   ],
   "source": [
    "P9 = list(P5[0, :])\n",
    "P9"
   ]
  },
  {
   "cell_type": "markdown",
   "metadata": {},
   "source": [
    "Observe: This is sequence A001764 in OEIS, generated with the following formula:\n",
    "\n",
    "\n",
    "$$a(n) = binomial \\frac{(3n,n)}{(2n+1)}$$\n",
    "\n",
    "Observe: this formula enumerates ternary trees and also noncrossing trees. \n",
    "\n",
    "Observe: Catalan numbers connected to binary trees so there may be a relationship here."
   ]
  },
  {
   "cell_type": "markdown",
   "metadata": {},
   "source": [
    "Let $P10$ be the second row in $P5$"
   ]
  },
  {
   "cell_type": "code",
   "execution_count": 10,
   "metadata": {},
   "outputs": [
    {
     "data": {
      "text/plain": [
       "[1, 5, 28, 165, 1001, 6188, 38760, 245157]"
      ]
     },
     "execution_count": 10,
     "metadata": {},
     "output_type": "execute_result"
    }
   ],
   "source": [
    "P10 = list(P5[1, :])\n",
    "P10"
   ]
  },
  {
   "cell_type": "markdown",
   "metadata": {},
   "source": [
    "Observe: This is sequence A025174 in OEIS. It is also binomial generated with the following formula:\n",
    "\n",
    "\n",
    "$$a(n) = binomial(3n-1, n-1) $$"
   ]
  },
  {
   "cell_type": "markdown",
   "metadata": {},
   "source": [
    "Let $P11$ be the third row in $P5$"
   ]
  },
  {
   "cell_type": "code",
   "execution_count": 11,
   "metadata": {},
   "outputs": [
    {
     "data": {
      "text/plain": [
       "[2, 21, 180, 1430, 10920, 81396, 596904, 4326300]"
      ]
     },
     "execution_count": 11,
     "metadata": {},
     "output_type": "execute_result"
    }
   ],
   "source": [
    "P11 = list(P5[2, :])\n",
    "P11"
   ]
  },
  {
   "cell_type": "markdown",
   "metadata": {},
   "source": [
    "Observe: No match in OEIS\n",
    "\n",
    "Observe: Unlikely to be more matches of rows\n",
    "\n",
    "Observe: Also possible to search diagonals"
   ]
  },
  {
   "cell_type": "markdown",
   "metadata": {},
   "source": [
    "Let $P12$ be the first diagonal in $P5$"
   ]
  },
  {
   "cell_type": "code",
   "execution_count": 12,
   "metadata": {},
   "outputs": [
    {
     "data": {
      "text/plain": [
       "[1, 5, 180, 10010, 678300, 51482970, 4206302100, 361913666400]"
      ]
     },
     "execution_count": 12,
     "metadata": {},
     "output_type": "execute_result"
    }
   ],
   "source": [
    "P12 = list(P5.diagonal(0))\n",
    "P12"
   ]
  },
  {
   "cell_type": "markdown",
   "metadata": {},
   "source": [
    "Observe: No match in OEIS"
   ]
  },
  {
   "cell_type": "markdown",
   "metadata": {},
   "source": [
    "Observe cross diagnonals:\n",
    "\n",
    "1<br/>\n",
    "1,1 <br/>\n",
    "2,5,3 <br/>\n",
    "5, 21, 28, 12 </br>\n",
    "\n",
    "Proposed Definition: The alternating sums across cross diagonals in a matrix of cubic polyseries array are equal to 0\n",
    "\n"
   ]
  },
  {
   "cell_type": "markdown",
   "metadata": {},
   "source": [
    "<hr/>\n",
    "\n",
    "<b>Conclusion</b>\n",
    "\n",
    "There is structure here that seems to be some kind of extension to the Catalan numbers but more investigation is needed. Observe that all coefficients appear to be natural numbers and this may be related to the Catalan numbers. "
   ]
  }
 ],
 "metadata": {
  "kernelspec": {
   "display_name": "Python 3",
   "language": "python",
   "name": "python3"
  },
  "language_info": {
   "codemirror_mode": {
    "name": "ipython",
    "version": 3
   },
   "file_extension": ".py",
   "mimetype": "text/x-python",
   "name": "python",
   "nbconvert_exporter": "python",
   "pygments_lexer": "ipython3",
   "version": "3.9.2"
  }
 },
 "nbformat": 4,
 "nbformat_minor": 4
}
