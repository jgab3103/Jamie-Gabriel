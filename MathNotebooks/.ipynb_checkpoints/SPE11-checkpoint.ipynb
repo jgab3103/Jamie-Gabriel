{
 "cells": [
  {
   "cell_type": "code",
   "execution_count": 18,
   "metadata": {},
   "outputs": [],
   "source": [
    "import numpy as np\n",
    "import sympy as sp\n",
    "import pickle\n",
    "from IPython.display import HTML\n",
    "import ipywidgets as widgets\n",
    "import matplotlib as mpl\n",
    "from mpl_toolkits.mplot3d import Axes3D\n",
    "import matplotlib.pyplot as plt\n",
    "mpl.rcParams['legend.fontsize'] = 10\n",
    "import pandas as pd\n",
    "import itertools\n",
    "pd.set_option('display.max_colwidth', None)\n",
    "\n",
    "# function to print latex\n",
    "def renderListToLatex(e):\n",
    "    latex_rendering = []\n",
    "\n",
    "    for i in range(len(e)):\n",
    "        latex_rendering.append(\"$$\" + sp.latex(e[i]) + \"$$<br/>\")\n",
    "    \n",
    "    return(HTML(\"\".join(latex_rendering[0:])))"
   ]
  },
  {
   "cell_type": "markdown",
   "metadata": {},
   "source": [
    "### Solving Polynomial Equations (11)"
   ]
  },
  {
   "cell_type": "markdown",
   "metadata": {},
   "source": [
    "<hr/>\n",
    "\n",
    "<b>Aim</b>: Extend the undertanding of Catalan and Fuss Catalan\n",
    "\n",
    "<hr/>"
   ]
  },
  {
   "cell_type": "markdown",
   "metadata": {},
   "source": [
    "Observe: the definition from Solving Polynomials (7) that defines a solution to a general cubic equation.\n",
    "\n",
    "$$C(m_2, m_3)  \\equiv(-1)^{m_3 + 1} \\frac{(2 m_{2} + 3 m_{3})!}{(1 + m_{2} + 2 m_{3})!m_2!m_3!} \\frac{c_0^{1 + m_{2} + 2 m_{3}} c_2^{m_2} c_3^{m_3} }{c_1^{2 m_{2} + 3 m_{3} + 1}}$$"
   ]
  },
  {
   "cell_type": "markdown",
   "metadata": {},
   "source": [
    "Define: $C$ as a function implementation that returns a solution to a general cubic equation."
   ]
  },
  {
   "cell_type": "code",
   "execution_count": 19,
   "metadata": {},
   "outputs": [],
   "source": [
    "def C(m2, m3, returnCoefficientsOnly = False, returnCoefficientsOnlyWithoutSigns = False, returnCoefficientsAsFactorialStrings = False):\n",
    "    c_0, c_1, c_2, c_3 = sp.symbols('c_0, c_1, c_2, c_3')\n",
    "    s1 = (-1)**(m3 + 1)\n",
    "    s2 = sp.factorial(2 * m2 + 3 * m3)\n",
    "    s3 = sp.factorial(1 + m2 + 2 * m3) * sp.factorial(m2) * sp.factorial(m3)\n",
    "\n",
    "    \n",
    "    s4 = c_0**(1 + m2 + 2 * m3) * c_2**m2 *c_3**m3\n",
    "    s5 = c_1**(2 * m2 + 3 * m3 + 1)\n",
    "    \n",
    "    s7 = str(2 * m2 + 3 * m3) + \"!\"\n",
    "    s8 = str(1 + m2 + 2 * m3) + \"!\" + str(m2) + \"!\"  + str(m3) + \"!\"\n",
    "    \n",
    "    if returnCoefficientsOnly:\n",
    "        s6 = s1 * (s2 / s3)\n",
    "    elif returnCoefficientsOnlyWithoutSigns:\n",
    "        s6 = (s2 / s3)\n",
    "    elif returnCoefficientsAsFactorialStrings:\n",
    "        s6 = str(s7 + \" | \" + s8)\n",
    "    else:\n",
    "        s6 = s1 * (s2 / s3) * (s4 / s5)\n",
    "\n",
    "    return(s6)"
   ]
  },
  {
   "cell_type": "markdown",
   "metadata": {},
   "source": [
    "Define sub multinoial"
   ]
  },
  {
   "cell_type": "code",
   "execution_count": 20,
   "metadata": {},
   "outputs": [],
   "source": [
    "def subMultinomialWithMultipleEntries(entries):\n",
    "    \n",
    "    numerator = sp.factorial(sum(entries) - 1)\n",
    "    \n",
    "#     print(\"NUMERATOR: \", numerator)\n",
    "    \n",
    "    denominator = 1\n",
    "    for i in entries:\n",
    "        \n",
    "        denominator = denominator * sp.factorial(i)\n",
    " #       print(\"Partial Denominator\", sp.factorial(i))\n",
    "        \n",
    "  #  print(\"Total Denominator: \", denominator)\n",
    "    return(numerator / denominator)\n",
    "    "
   ]
  },
  {
   "cell_type": "code",
   "execution_count": 21,
   "metadata": {},
   "outputs": [
    {
     "data": {
      "text/html": [
       "<div>\n",
       "<style scoped>\n",
       "    .dataframe tbody tr th:only-of-type {\n",
       "        vertical-align: middle;\n",
       "    }\n",
       "\n",
       "    .dataframe tbody tr th {\n",
       "        vertical-align: top;\n",
       "    }\n",
       "\n",
       "    .dataframe thead th {\n",
       "        text-align: right;\n",
       "    }\n",
       "</style>\n",
       "<table border=\"1\" class=\"dataframe\">\n",
       "  <thead>\n",
       "    <tr style=\"text-align: right;\">\n",
       "      <th></th>\n",
       "      <th>0</th>\n",
       "      <th>1</th>\n",
       "      <th>2</th>\n",
       "      <th>3</th>\n",
       "      <th>4</th>\n",
       "      <th>5</th>\n",
       "      <th>6</th>\n",
       "      <th>7</th>\n",
       "    </tr>\n",
       "  </thead>\n",
       "  <tbody>\n",
       "    <tr>\n",
       "      <th>0</th>\n",
       "      <td>0! | 1!0!0!</td>\n",
       "      <td>3! | 3!0!1!</td>\n",
       "      <td>6! | 5!0!2!</td>\n",
       "      <td>9! | 7!0!3!</td>\n",
       "      <td>12! | 9!0!4!</td>\n",
       "      <td>15! | 11!0!5!</td>\n",
       "      <td>18! | 13!0!6!</td>\n",
       "      <td>21! | 15!0!7!</td>\n",
       "    </tr>\n",
       "    <tr>\n",
       "      <th>1</th>\n",
       "      <td>2! | 2!1!0!</td>\n",
       "      <td>5! | 4!1!1!</td>\n",
       "      <td>8! | 6!1!2!</td>\n",
       "      <td>11! | 8!1!3!</td>\n",
       "      <td>14! | 10!1!4!</td>\n",
       "      <td>17! | 12!1!5!</td>\n",
       "      <td>20! | 14!1!6!</td>\n",
       "      <td>23! | 16!1!7!</td>\n",
       "    </tr>\n",
       "    <tr>\n",
       "      <th>2</th>\n",
       "      <td>4! | 3!2!0!</td>\n",
       "      <td>7! | 5!2!1!</td>\n",
       "      <td>10! | 7!2!2!</td>\n",
       "      <td>13! | 9!2!3!</td>\n",
       "      <td>16! | 11!2!4!</td>\n",
       "      <td>19! | 13!2!5!</td>\n",
       "      <td>22! | 15!2!6!</td>\n",
       "      <td>25! | 17!2!7!</td>\n",
       "    </tr>\n",
       "    <tr>\n",
       "      <th>3</th>\n",
       "      <td>6! | 4!3!0!</td>\n",
       "      <td>9! | 6!3!1!</td>\n",
       "      <td>12! | 8!3!2!</td>\n",
       "      <td>15! | 10!3!3!</td>\n",
       "      <td>18! | 12!3!4!</td>\n",
       "      <td>21! | 14!3!5!</td>\n",
       "      <td>24! | 16!3!6!</td>\n",
       "      <td>27! | 18!3!7!</td>\n",
       "    </tr>\n",
       "    <tr>\n",
       "      <th>4</th>\n",
       "      <td>8! | 5!4!0!</td>\n",
       "      <td>11! | 7!4!1!</td>\n",
       "      <td>14! | 9!4!2!</td>\n",
       "      <td>17! | 11!4!3!</td>\n",
       "      <td>20! | 13!4!4!</td>\n",
       "      <td>23! | 15!4!5!</td>\n",
       "      <td>26! | 17!4!6!</td>\n",
       "      <td>29! | 19!4!7!</td>\n",
       "    </tr>\n",
       "    <tr>\n",
       "      <th>5</th>\n",
       "      <td>10! | 6!5!0!</td>\n",
       "      <td>13! | 8!5!1!</td>\n",
       "      <td>16! | 10!5!2!</td>\n",
       "      <td>19! | 12!5!3!</td>\n",
       "      <td>22! | 14!5!4!</td>\n",
       "      <td>25! | 16!5!5!</td>\n",
       "      <td>28! | 18!5!6!</td>\n",
       "      <td>31! | 20!5!7!</td>\n",
       "    </tr>\n",
       "    <tr>\n",
       "      <th>6</th>\n",
       "      <td>12! | 7!6!0!</td>\n",
       "      <td>15! | 9!6!1!</td>\n",
       "      <td>18! | 11!6!2!</td>\n",
       "      <td>21! | 13!6!3!</td>\n",
       "      <td>24! | 15!6!4!</td>\n",
       "      <td>27! | 17!6!5!</td>\n",
       "      <td>30! | 19!6!6!</td>\n",
       "      <td>33! | 21!6!7!</td>\n",
       "    </tr>\n",
       "    <tr>\n",
       "      <th>7</th>\n",
       "      <td>14! | 8!7!0!</td>\n",
       "      <td>17! | 10!7!1!</td>\n",
       "      <td>20! | 12!7!2!</td>\n",
       "      <td>23! | 14!7!3!</td>\n",
       "      <td>26! | 16!7!4!</td>\n",
       "      <td>29! | 18!7!5!</td>\n",
       "      <td>32! | 20!7!6!</td>\n",
       "      <td>35! | 22!7!7!</td>\n",
       "    </tr>\n",
       "  </tbody>\n",
       "</table>\n",
       "</div>"
      ],
      "text/plain": [
       "              0              1              2              3              4  \\\n",
       "0   0! | 1!0!0!    3! | 3!0!1!    6! | 5!0!2!    9! | 7!0!3!   12! | 9!0!4!   \n",
       "1   2! | 2!1!0!    5! | 4!1!1!    8! | 6!1!2!   11! | 8!1!3!  14! | 10!1!4!   \n",
       "2   4! | 3!2!0!    7! | 5!2!1!   10! | 7!2!2!   13! | 9!2!3!  16! | 11!2!4!   \n",
       "3   6! | 4!3!0!    9! | 6!3!1!   12! | 8!3!2!  15! | 10!3!3!  18! | 12!3!4!   \n",
       "4   8! | 5!4!0!   11! | 7!4!1!   14! | 9!4!2!  17! | 11!4!3!  20! | 13!4!4!   \n",
       "5  10! | 6!5!0!   13! | 8!5!1!  16! | 10!5!2!  19! | 12!5!3!  22! | 14!5!4!   \n",
       "6  12! | 7!6!0!   15! | 9!6!1!  18! | 11!6!2!  21! | 13!6!3!  24! | 15!6!4!   \n",
       "7  14! | 8!7!0!  17! | 10!7!1!  20! | 12!7!2!  23! | 14!7!3!  26! | 16!7!4!   \n",
       "\n",
       "               5              6              7  \n",
       "0  15! | 11!0!5!  18! | 13!0!6!  21! | 15!0!7!  \n",
       "1  17! | 12!1!5!  20! | 14!1!6!  23! | 16!1!7!  \n",
       "2  19! | 13!2!5!  22! | 15!2!6!  25! | 17!2!7!  \n",
       "3  21! | 14!3!5!  24! | 16!3!6!  27! | 18!3!7!  \n",
       "4  23! | 15!4!5!  26! | 17!4!6!  29! | 19!4!7!  \n",
       "5  25! | 16!5!5!  28! | 18!5!6!  31! | 20!5!7!  \n",
       "6  27! | 17!6!5!  30! | 19!6!6!  33! | 21!6!7!  \n",
       "7  29! | 18!7!5!  32! | 20!7!6!  35! | 22!7!7!  "
      ]
     },
     "execution_count": 21,
     "metadata": {},
     "output_type": "execute_result"
    }
   ],
   "source": [
    "P1 = np.arange(8)\n",
    "P6 = np.array([[C(j, i, returnCoefficientsAsFactorialStrings=True) for i in P1] for j in P1])\n",
    "P7 = pd.DataFrame(P6)\n",
    "P7"
   ]
  },
  {
   "cell_type": "code",
   "execution_count": 16,
   "metadata": {},
   "outputs": [
    {
     "data": {
      "text/latex": [
       "$\\displaystyle \\left[\\begin{matrix}1 & 1 & 3 & 12 & 55 & 273 & 1428 & 7752\\\\1 & 5 & 28 & 165 & 1001 & 6188 & 38760 & 245157\\\\2 & 21 & 180 & 1430 & 10920 & 81396 & 596904 & 4326300\\\\5 & 84 & 990 & 10010 & 92820 & 813960 & 6864396 & 56241900\\\\14 & 330 & 5005 & 61880 & 678300 & 6864396 & 65615550 & 600900300\\\\42 & 1287 & 24024 & 352716 & 4476780 & 51482970 & 551170620 & 5588372790\\\\132 & 5005 & 111384 & 1899240 & 27457584 & 354323970 & 4206302100 & 46835886240\\\\429 & 19448 & 503880 & 9806280 & 159352050 & 2283421140 & 29804654880 & 361913666400\\end{matrix}\\right]$"
      ],
      "text/plain": [
       "Matrix([\n",
       "[  1,     1,      3,      12,        55,        273,        1428,         7752],\n",
       "[  1,     5,     28,     165,      1001,       6188,       38760,       245157],\n",
       "[  2,    21,    180,    1430,     10920,      81396,      596904,      4326300],\n",
       "[  5,    84,    990,   10010,     92820,     813960,     6864396,     56241900],\n",
       "[ 14,   330,   5005,   61880,    678300,    6864396,    65615550,    600900300],\n",
       "[ 42,  1287,  24024,  352716,   4476780,   51482970,   551170620,   5588372790],\n",
       "[132,  5005, 111384, 1899240,  27457584,  354323970,  4206302100,  46835886240],\n",
       "[429, 19448, 503880, 9806280, 159352050, 2283421140, 29804654880, 361913666400]])"
      ]
     },
     "execution_count": 16,
     "metadata": {},
     "output_type": "execute_result"
    }
   ],
   "source": [
    "P1 = np.arange(8)\n",
    "P2 = np.array([[C(j, i, returnCoefficientsOnlyWithoutSigns=True) for i in P1] for j in P1])\n",
    "P3 = sp.Matrix(P2)\n",
    "P3"
   ]
  },
  {
   "cell_type": "markdown",
   "metadata": {},
   "source": [
    "We know the first column is catalan numbers\n",
    "\n",
    "We know first row is \n",
    "\n",
    "we want to find a uniform interprestation of vertical and horizontal\n",
    "\n",
    "Good reference - Richard Stanley Enumerative Combinatorics (2 Volumes)\n",
    "\n",
    "Now look at numbers, frame an extensiion of Catlan and Fuss-catalan\n",
    "\n",
    "Starting reference - Famous Math Problem 8 (Eulers Triangluation of \n",
    "a polygon \n",
    "\n",
    "HOw many ways can we subdivide n-gon into triangles \n",
    "\n",
    "PUT THIS IN HERE....."
   ]
  },
  {
   "cell_type": "markdown",
   "metadata": {},
   "source": [
    "FMP 8\n",
    "\n",
    "\n",
    "\n"
   ]
  },
  {
   "cell_type": "code",
   "execution_count": null,
   "metadata": {},
   "outputs": [],
   "source": []
  },
  {
   "cell_type": "markdown",
   "metadata": {},
   "source": [
    "\n",
    "\n",
    "Skip forward to A00108.... note dozens of interpretations\n",
    "\n",
    "If you scroll down \n",
    "\n",
    "Also note A001764....Fuss-Catalan numbers, first row of array ....\n",
    "\n",
    "start here....adn connect here....\n",
    "\n",
    "We are going to check out Robert dickau....put in notes - note his page....note differenttypes of set up\n",
    "\n",
    "check out catalan and fuss-catalbn numbers on - consider Fuss Catalan is a generalisation of Catalan numbers...consider parallels between catalan and fuss catalan\n",
    "\n",
    "\n",
    "Note - simplest thing often what works best...\n",
    "\n",
    "Obvious next step....take somethting simple like Euler \n",
    "\n",
    "ask - how can we create a polygon using a certain nubmer of tirangles and quadrilaterals!\n",
    "\n",
    "So take a pentagon - # ways to break into 1 triangle and 1 quadrilateral"
   ]
  },
  {
   "cell_type": "code",
   "execution_count": null,
   "metadata": {},
   "outputs": [],
   "source": []
  },
  {
   "cell_type": "code",
   "execution_count": null,
   "metadata": {},
   "outputs": [],
   "source": []
  },
  {
   "cell_type": "code",
   "execution_count": null,
   "metadata": {},
   "outputs": [],
   "source": []
  },
  {
   "cell_type": "code",
   "execution_count": null,
   "metadata": {},
   "outputs": [],
   "source": []
  },
  {
   "cell_type": "code",
   "execution_count": null,
   "metadata": {},
   "outputs": [],
   "source": []
  },
  {
   "cell_type": "code",
   "execution_count": 17,
   "metadata": {},
   "outputs": [
    {
     "data": {
      "text/latex": [
       "$\\displaystyle \\left[\\begin{matrix}4 & 10 & 20 & 35 & 56 & 84 & 120 & 165 & 220 & 286\\\\10 & 30 & 70 & 140 & 252 & 420 & 660 & 990 & 1430 & 2002\\\\20 & 70 & \\frac{560}{3} & 420 & 840 & 1540 & 2640 & 4290 & \\frac{20020}{3} & 10010\\\\35 & 140 & 420 & 1050 & 2310 & 4620 & 8580 & 15015 & 25025 & 40040\\\\56 & 252 & 840 & 2310 & 5544 & 12012 & 24024 & 45045 & 80080 & 136136\\\\84 & 420 & 1540 & 4620 & 12012 & 28028 & 60060 & 120120 & \\frac{680680}{3} & 408408\\\\120 & 660 & 2640 & 8580 & 24024 & 60060 & 137280 & 291720 & 583440 & 1108536\\\\165 & 990 & 4290 & 15015 & 45045 & 120120 & 291720 & 656370 & 1385670 & 2771340\\\\220 & 1430 & \\frac{20020}{3} & 25025 & 80080 & \\frac{680680}{3} & 583440 & 1385670 & \\frac{9237800}{3} & 6466460\\\\286 & 2002 & 10010 & 40040 & 136136 & 408408 & 1108536 & 2771340 & 6466460 & 14226212\\end{matrix}\\right]$"
      ],
      "text/plain": [
       "Matrix([\n",
       "[  4,   10,      20,    35,     56,       84,     120,     165,       220,      286],\n",
       "[ 10,   30,      70,   140,    252,      420,     660,     990,      1430,     2002],\n",
       "[ 20,   70,   560/3,   420,    840,     1540,    2640,    4290,   20020/3,    10010],\n",
       "[ 35,  140,     420,  1050,   2310,     4620,    8580,   15015,     25025,    40040],\n",
       "[ 56,  252,     840,  2310,   5544,    12012,   24024,   45045,     80080,   136136],\n",
       "[ 84,  420,    1540,  4620,  12012,    28028,   60060,  120120,  680680/3,   408408],\n",
       "[120,  660,    2640,  8580,  24024,    60060,  137280,  291720,    583440,  1108536],\n",
       "[165,  990,    4290, 15015,  45045,   120120,  291720,  656370,   1385670,  2771340],\n",
       "[220, 1430, 20020/3, 25025,  80080, 680680/3,  583440, 1385670, 9237800/3,  6466460],\n",
       "[286, 2002,   10010, 40040, 136136,   408408, 1108536, 2771340,   6466460, 14226212]])"
      ]
     },
     "execution_count": 17,
     "metadata": {},
     "output_type": "execute_result"
    }
   ],
   "source": [
    "P10 = np.arange(1,11)\n",
    "P11 = np.array([[subMultinomialWithMultipleEntries([j, i, 3]) for i in P10] for j in P10])\n",
    "P12 = sp.Matrix(P11)\n",
    "P12"
   ]
  },
  {
   "cell_type": "code",
   "execution_count": null,
   "metadata": {},
   "outputs": [],
   "source": []
  },
  {
   "cell_type": "code",
   "execution_count": null,
   "metadata": {},
   "outputs": [],
   "source": []
  },
  {
   "cell_type": "code",
   "execution_count": null,
   "metadata": {},
   "outputs": [],
   "source": []
  },
  {
   "cell_type": "code",
   "execution_count": null,
   "metadata": {},
   "outputs": [],
   "source": []
  },
  {
   "cell_type": "code",
   "execution_count": null,
   "metadata": {},
   "outputs": [],
   "source": []
  },
  {
   "cell_type": "code",
   "execution_count": null,
   "metadata": {},
   "outputs": [],
   "source": [
    "# numbers start out as as factorials a"
   ]
  }
 ],
 "metadata": {
  "kernelspec": {
   "display_name": "Python 3",
   "language": "python",
   "name": "python3"
  },
  "language_info": {
   "codemirror_mode": {
    "name": "ipython",
    "version": 3
   },
   "file_extension": ".py",
   "mimetype": "text/x-python",
   "name": "python",
   "nbconvert_exporter": "python",
   "pygments_lexer": "ipython3",
   "version": "3.9.2"
  }
 },
 "nbformat": 4,
 "nbformat_minor": 4
}
