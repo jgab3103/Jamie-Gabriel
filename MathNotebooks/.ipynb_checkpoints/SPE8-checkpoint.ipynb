{
 "cells": [
  {
   "cell_type": "markdown",
   "metadata": {},
   "source": [
    "<i>STATUS: Draft<i>\n",
    "\n",
    "<div>These notes are based on Prof. Norman Wildberger's lectures on Solving Polynomial Equations found <a href=\"https://www.youtube.com/watch?v=XHC1YLh67Z0&list=PLzdiPTrEWyz7hk_Kzj4zDF_kUXBCtiGn6&index=1\">here</a>. They are being hosted at <a href=\"https://www.ladatavita.com/\">ladatavita.com</a> and available from my Github repo at: <a href=\"https://github.com/jgab3103/Jamie-Gabriel/tree/main/MathNotebooks\">https://github.com/jgab3103/Jamie-Gabriel/tree/main/MathNotebooks</a></div>\n",
    "\n",
    "<hr/>"
   ]
  },
  {
   "cell_type": "code",
   "execution_count": 1,
   "metadata": {},
   "outputs": [],
   "source": [
    "import numpy as np\n",
    "import sympy as sp\n",
    "import pickle\n",
    "from IPython.display import HTML\n",
    "import ipywidgets as widgets\n",
    "import matplotlib as mpl\n",
    "from mpl_toolkits.mplot3d import Axes3D\n",
    "import matplotlib.pyplot as plt\n",
    "mpl.rcParams['legend.fontsize'] = 10\n",
    "import pandas as pd\n",
    "import itertools\n",
    "\n",
    "# function to print latex\n",
    "def renderListToLatex(e):\n",
    "    latex_rendering = []\n",
    "\n",
    "    for i in range(len(e)):\n",
    "        latex_rendering.append(\"$$\" + sp.latex(e[i]) + \"$$<br/>\")\n",
    "    \n",
    "    return(HTML(\"\".join(latex_rendering[0:])))"
   ]
  },
  {
   "cell_type": "markdown",
   "metadata": {},
   "source": [
    "### Solving Polynomial Equations (8)"
   ]
  },
  {
   "cell_type": "markdown",
   "metadata": {},
   "source": [
    "Create needed variables"
   ]
  },
  {
   "cell_type": "code",
   "execution_count": 2,
   "metadata": {},
   "outputs": [],
   "source": [
    "c_0, c_1, c_2, c_3, c_4, x, t, a_0, a_1, a_2, a_3, a_4, a_5, a_6, a_7, a_8, a_9, x_1, x_2, s_1, s_2 = sp.symbols('c_0, c_1, c_2, c_3, c_4, x, t, a_0, a_1, a_2, a_3, a_4, a_5, a_6, a_7, a_8, a_9, x_1, x_2, s_1, s_2')"
   ]
  },
  {
   "cell_type": "markdown",
   "metadata": {},
   "source": [
    "<b>Introduction</b>"
   ]
  },
  {
   "cell_type": "markdown",
   "metadata": {},
   "source": [
    "Recall from Solving Polynomials (7), the function $C$ that is equivalent using only $m_2$ and $m_3$.\n",
    "\n",
    "$$C(m_2, m_3)  \\equiv(-1)^{m_3 + 1} \\frac{(2 m_{2} + 3 m_{3})!}{(1 + m_{2} + 2 m_{3})!m_2!m_3!} \\frac{c_0^{1 + m_{2} + 2 m_{3}} c_2^{m_2} c_3^{m_3} }{c_1^{2 m_{2} + 3 m_{3} + 1}}$$"
   ]
  },
  {
   "cell_type": "markdown",
   "metadata": {},
   "source": [
    "Recall the formula to get values of this this function."
   ]
  },
  {
   "cell_type": "code",
   "execution_count": 30,
   "metadata": {},
   "outputs": [],
   "source": [
    "def C(m2, m3, returnCoefficientsOnly = False, returnCoefficientsOnlyWithoutSigns = False):\n",
    "    c_0, c_1, c_2, c_3 = sp.symbols('c_0, c_1, c_2, c_3')\n",
    "    s1 = (-1)**(m3 + 1)\n",
    "    s2 = sp.factorial(2 * m2 + 3 * m3)\n",
    "    s3 = sp.factorial(1 + m2 + 2 * m3) * sp.factorial(m2) * sp.factorial(m3)\n",
    "    s4 = c_0**(1 + m2 + 2 * m3) * c_2**m2 *c_3**m3\n",
    "    s5 = c_1**(2 * m2 + 3 * m3 + 1)\n",
    "    \n",
    "    if returnCoefficientsOnly:\n",
    "        s6 = s1 * (s2 / s3)\n",
    "    elif returnCoefficientsOnlyWithoutSigns:\n",
    "        s6 = (s2 / s3)\n",
    "    else:\n",
    "        s6 = s1 * (s2 / s3) * (s4 / s5)\n",
    "    return(s6)"
   ]
  },
  {
   "cell_type": "markdown",
   "metadata": {},
   "source": [
    "Let g8 be a matrix of values."
   ]
  },
  {
   "cell_type": "code",
   "execution_count": 36,
   "metadata": {},
   "outputs": [
    {
     "data": {
      "text/latex": [
       "$\\displaystyle \\left[\\begin{matrix}- \\frac{c_{0}}{c_{1}} & \\frac{c_{0}^{3} c_{3}}{c_{1}^{4}} & - \\frac{3 c_{0}^{5} c_{3}^{2}}{c_{1}^{7}} & \\frac{12 c_{0}^{7} c_{3}^{3}}{c_{1}^{10}} & - \\frac{55 c_{0}^{9} c_{3}^{4}}{c_{1}^{13}} & \\frac{273 c_{0}^{11} c_{3}^{5}}{c_{1}^{16}}\\\\- \\frac{c_{0}^{2} c_{2}}{c_{1}^{3}} & \\frac{5 c_{0}^{4} c_{2} c_{3}}{c_{1}^{6}} & - \\frac{28 c_{0}^{6} c_{2} c_{3}^{2}}{c_{1}^{9}} & \\frac{165 c_{0}^{8} c_{2} c_{3}^{3}}{c_{1}^{12}} & - \\frac{1001 c_{0}^{10} c_{2} c_{3}^{4}}{c_{1}^{15}} & \\frac{6188 c_{0}^{12} c_{2} c_{3}^{5}}{c_{1}^{18}}\\\\- \\frac{2 c_{0}^{3} c_{2}^{2}}{c_{1}^{5}} & \\frac{21 c_{0}^{5} c_{2}^{2} c_{3}}{c_{1}^{8}} & - \\frac{180 c_{0}^{7} c_{2}^{2} c_{3}^{2}}{c_{1}^{11}} & \\frac{1430 c_{0}^{9} c_{2}^{2} c_{3}^{3}}{c_{1}^{14}} & - \\frac{10920 c_{0}^{11} c_{2}^{2} c_{3}^{4}}{c_{1}^{17}} & \\frac{81396 c_{0}^{13} c_{2}^{2} c_{3}^{5}}{c_{1}^{20}}\\\\- \\frac{5 c_{0}^{4} c_{2}^{3}}{c_{1}^{7}} & \\frac{84 c_{0}^{6} c_{2}^{3} c_{3}}{c_{1}^{10}} & - \\frac{990 c_{0}^{8} c_{2}^{3} c_{3}^{2}}{c_{1}^{13}} & \\frac{10010 c_{0}^{10} c_{2}^{3} c_{3}^{3}}{c_{1}^{16}} & - \\frac{92820 c_{0}^{12} c_{2}^{3} c_{3}^{4}}{c_{1}^{19}} & \\frac{813960 c_{0}^{14} c_{2}^{3} c_{3}^{5}}{c_{1}^{22}}\\\\- \\frac{14 c_{0}^{5} c_{2}^{4}}{c_{1}^{9}} & \\frac{330 c_{0}^{7} c_{2}^{4} c_{3}}{c_{1}^{12}} & - \\frac{5005 c_{0}^{9} c_{2}^{4} c_{3}^{2}}{c_{1}^{15}} & \\frac{61880 c_{0}^{11} c_{2}^{4} c_{3}^{3}}{c_{1}^{18}} & - \\frac{678300 c_{0}^{13} c_{2}^{4} c_{3}^{4}}{c_{1}^{21}} & \\frac{6864396 c_{0}^{15} c_{2}^{4} c_{3}^{5}}{c_{1}^{24}}\\\\- \\frac{42 c_{0}^{6} c_{2}^{5}}{c_{1}^{11}} & \\frac{1287 c_{0}^{8} c_{2}^{5} c_{3}}{c_{1}^{14}} & - \\frac{24024 c_{0}^{10} c_{2}^{5} c_{3}^{2}}{c_{1}^{17}} & \\frac{352716 c_{0}^{12} c_{2}^{5} c_{3}^{3}}{c_{1}^{20}} & - \\frac{4476780 c_{0}^{14} c_{2}^{5} c_{3}^{4}}{c_{1}^{23}} & \\frac{51482970 c_{0}^{16} c_{2}^{5} c_{3}^{5}}{c_{1}^{26}}\\end{matrix}\\right]$"
      ],
      "text/plain": [
       "Matrix([\n",
       "[                 -c_0/c_1,              c_0**3*c_3/c_1**4,              -3*c_0**5*c_3**2/c_1**7,             12*c_0**7*c_3**3/c_1**10,              -55*c_0**9*c_3**4/c_1**13,             273*c_0**11*c_3**5/c_1**16],\n",
       "[       -c_0**2*c_2/c_1**3,        5*c_0**4*c_2*c_3/c_1**6,         -28*c_0**6*c_2*c_3**2/c_1**9,        165*c_0**8*c_2*c_3**3/c_1**12,       -1001*c_0**10*c_2*c_3**4/c_1**15,        6188*c_0**12*c_2*c_3**5/c_1**18],\n",
       "[  -2*c_0**3*c_2**2/c_1**5,    21*c_0**5*c_2**2*c_3/c_1**8,    -180*c_0**7*c_2**2*c_3**2/c_1**11,    1430*c_0**9*c_2**2*c_3**3/c_1**14,   -10920*c_0**11*c_2**2*c_3**4/c_1**17,    81396*c_0**13*c_2**2*c_3**5/c_1**20],\n",
       "[  -5*c_0**4*c_2**3/c_1**7,   84*c_0**6*c_2**3*c_3/c_1**10,    -990*c_0**8*c_2**3*c_3**2/c_1**13,  10010*c_0**10*c_2**3*c_3**3/c_1**16,   -92820*c_0**12*c_2**3*c_3**4/c_1**19,   813960*c_0**14*c_2**3*c_3**5/c_1**22],\n",
       "[ -14*c_0**5*c_2**4/c_1**9,  330*c_0**7*c_2**4*c_3/c_1**12,   -5005*c_0**9*c_2**4*c_3**2/c_1**15,  61880*c_0**11*c_2**4*c_3**3/c_1**18,  -678300*c_0**13*c_2**4*c_3**4/c_1**21,  6864396*c_0**15*c_2**4*c_3**5/c_1**24],\n",
       "[-42*c_0**6*c_2**5/c_1**11, 1287*c_0**8*c_2**5*c_3/c_1**14, -24024*c_0**10*c_2**5*c_3**2/c_1**17, 352716*c_0**12*c_2**5*c_3**3/c_1**20, -4476780*c_0**14*c_2**5*c_3**4/c_1**23, 51482970*c_0**16*c_2**5*c_3**5/c_1**26]])"
      ]
     },
     "execution_count": 36,
     "metadata": {},
     "output_type": "execute_result"
    }
   ],
   "source": [
    "g1 = np.arange(6)\n",
    "g2 = [[C(j, i) for i in g1] for j in g1]\n",
    "g3 = sp.Matrix(g2)\n",
    "g3"
   ]
  },
  {
   "cell_type": "markdown",
   "metadata": {},
   "source": [
    "Recall also that this value can be recovered as a sum and it is also one solution for a general cubic equation. Does it actually work in practice?\n",
    "\n",
    "Let g4 be the equation where x is set to the sum of these values."
   ]
  },
  {
   "cell_type": "code",
   "execution_count": 37,
   "metadata": {},
   "outputs": [
    {
     "data": {
      "text/latex": [
       "$\\displaystyle x = \\frac{51482970 c_{0}^{16} c_{2}^{5} c_{3}^{5}}{c_{1}^{26}} + \\frac{6864396 c_{0}^{15} c_{2}^{4} c_{3}^{5}}{c_{1}^{24}} + \\frac{813960 c_{0}^{14} c_{2}^{3} c_{3}^{5}}{c_{1}^{22}} - \\frac{4476780 c_{0}^{14} c_{2}^{5} c_{3}^{4}}{c_{1}^{23}} + \\frac{81396 c_{0}^{13} c_{2}^{2} c_{3}^{5}}{c_{1}^{20}} - \\frac{678300 c_{0}^{13} c_{2}^{4} c_{3}^{4}}{c_{1}^{21}} + \\frac{6188 c_{0}^{12} c_{2} c_{3}^{5}}{c_{1}^{18}} - \\frac{92820 c_{0}^{12} c_{2}^{3} c_{3}^{4}}{c_{1}^{19}} + \\frac{352716 c_{0}^{12} c_{2}^{5} c_{3}^{3}}{c_{1}^{20}} + \\frac{273 c_{0}^{11} c_{3}^{5}}{c_{1}^{16}} - \\frac{10920 c_{0}^{11} c_{2}^{2} c_{3}^{4}}{c_{1}^{17}} + \\frac{61880 c_{0}^{11} c_{2}^{4} c_{3}^{3}}{c_{1}^{18}} - \\frac{1001 c_{0}^{10} c_{2} c_{3}^{4}}{c_{1}^{15}} + \\frac{10010 c_{0}^{10} c_{2}^{3} c_{3}^{3}}{c_{1}^{16}} - \\frac{24024 c_{0}^{10} c_{2}^{5} c_{3}^{2}}{c_{1}^{17}} - \\frac{55 c_{0}^{9} c_{3}^{4}}{c_{1}^{13}} + \\frac{1430 c_{0}^{9} c_{2}^{2} c_{3}^{3}}{c_{1}^{14}} - \\frac{5005 c_{0}^{9} c_{2}^{4} c_{3}^{2}}{c_{1}^{15}} + \\frac{165 c_{0}^{8} c_{2} c_{3}^{3}}{c_{1}^{12}} - \\frac{990 c_{0}^{8} c_{2}^{3} c_{3}^{2}}{c_{1}^{13}} + \\frac{1287 c_{0}^{8} c_{2}^{5} c_{3}}{c_{1}^{14}} + \\frac{12 c_{0}^{7} c_{3}^{3}}{c_{1}^{10}} - \\frac{180 c_{0}^{7} c_{2}^{2} c_{3}^{2}}{c_{1}^{11}} + \\frac{330 c_{0}^{7} c_{2}^{4} c_{3}}{c_{1}^{12}} - \\frac{28 c_{0}^{6} c_{2} c_{3}^{2}}{c_{1}^{9}} + \\frac{84 c_{0}^{6} c_{2}^{3} c_{3}}{c_{1}^{10}} - \\frac{42 c_{0}^{6} c_{2}^{5}}{c_{1}^{11}} - \\frac{3 c_{0}^{5} c_{3}^{2}}{c_{1}^{7}} + \\frac{21 c_{0}^{5} c_{2}^{2} c_{3}}{c_{1}^{8}} - \\frac{14 c_{0}^{5} c_{2}^{4}}{c_{1}^{9}} + \\frac{5 c_{0}^{4} c_{2} c_{3}}{c_{1}^{6}} - \\frac{5 c_{0}^{4} c_{2}^{3}}{c_{1}^{7}} + \\frac{c_{0}^{3} c_{3}}{c_{1}^{4}} - \\frac{2 c_{0}^{3} c_{2}^{2}}{c_{1}^{5}} - \\frac{c_{0}^{2} c_{2}}{c_{1}^{3}} - \\frac{c_{0}}{c_{1}}$"
      ],
      "text/plain": [
       "Eq(x, 51482970*c_0**16*c_2**5*c_3**5/c_1**26 + 6864396*c_0**15*c_2**4*c_3**5/c_1**24 + 813960*c_0**14*c_2**3*c_3**5/c_1**22 - 4476780*c_0**14*c_2**5*c_3**4/c_1**23 + 81396*c_0**13*c_2**2*c_3**5/c_1**20 - 678300*c_0**13*c_2**4*c_3**4/c_1**21 + 6188*c_0**12*c_2*c_3**5/c_1**18 - 92820*c_0**12*c_2**3*c_3**4/c_1**19 + 352716*c_0**12*c_2**5*c_3**3/c_1**20 + 273*c_0**11*c_3**5/c_1**16 - 10920*c_0**11*c_2**2*c_3**4/c_1**17 + 61880*c_0**11*c_2**4*c_3**3/c_1**18 - 1001*c_0**10*c_2*c_3**4/c_1**15 + 10010*c_0**10*c_2**3*c_3**3/c_1**16 - 24024*c_0**10*c_2**5*c_3**2/c_1**17 - 55*c_0**9*c_3**4/c_1**13 + 1430*c_0**9*c_2**2*c_3**3/c_1**14 - 5005*c_0**9*c_2**4*c_3**2/c_1**15 + 165*c_0**8*c_2*c_3**3/c_1**12 - 990*c_0**8*c_2**3*c_3**2/c_1**13 + 1287*c_0**8*c_2**5*c_3/c_1**14 + 12*c_0**7*c_3**3/c_1**10 - 180*c_0**7*c_2**2*c_3**2/c_1**11 + 330*c_0**7*c_2**4*c_3/c_1**12 - 28*c_0**6*c_2*c_3**2/c_1**9 + 84*c_0**6*c_2**3*c_3/c_1**10 - 42*c_0**6*c_2**5/c_1**11 - 3*c_0**5*c_3**2/c_1**7 + 21*c_0**5*c_2**2*c_3/c_1**8 - 14*c_0**5*c_2**4/c_1**9 + 5*c_0**4*c_2*c_3/c_1**6 - 5*c_0**4*c_2**3/c_1**7 + c_0**3*c_3/c_1**4 - 2*c_0**3*c_2**2/c_1**5 - c_0**2*c_2/c_1**3 - c_0/c_1)"
      ]
     },
     "execution_count": 37,
     "metadata": {},
     "output_type": "execute_result"
    }
   ],
   "source": [
    "g4 = sp.Eq(x, np.sum(g3))\n",
    "g4"
   ]
  },
  {
   "cell_type": "markdown",
   "metadata": {},
   "source": [
    "Evaluate a cubic equation using a general "
   ]
  },
  {
   "cell_type": "code",
   "execution_count": 38,
   "metadata": {},
   "outputs": [
    {
     "data": {
      "text/latex": [
       "$\\displaystyle 3 z^{3} - z^{2} + 5.0 z + 1 = 0$"
      ],
      "text/plain": [
       "Eq(3*z**3 - z**2 + 5.0*z + 1, 0)"
      ]
     },
     "execution_count": 38,
     "metadata": {},
     "output_type": "execute_result"
    }
   ],
   "source": [
    "z = sp.symbols('z')\n",
    "g5 = sp.Eq(1 + 5. * z - z**2 + 3 * z**3, 0)\n",
    "g5"
   ]
  },
  {
   "cell_type": "markdown",
   "metadata": {},
   "source": [
    "Let g6 be the solutions for z in g5."
   ]
  },
  {
   "cell_type": "code",
   "execution_count": 39,
   "metadata": {
    "tags": []
   },
   "outputs": [
    {
     "data": {
      "text/plain": [
       "[-0.188828952032499,\n",
       " 0.261081142682916 - 1.3027289283418*I,\n",
       " 0.261081142682916 + 1.3027289283418*I]"
      ]
     },
     "execution_count": 39,
     "metadata": {},
     "output_type": "execute_result"
    }
   ],
   "source": [
    "g6 = sp.solve(g5, z)\n",
    "g6"
   ]
  },
  {
   "cell_type": "markdown",
   "metadata": {},
   "source": [
    "Let g7 be the solutions using the derived formula, $C$."
   ]
  },
  {
   "cell_type": "code",
   "execution_count": 40,
   "metadata": {},
   "outputs": [
    {
     "data": {
      "text/latex": [
       "$\\displaystyle -0.188828892735343$"
      ],
      "text/plain": [
       "-0.188828892735343"
      ]
     },
     "execution_count": 40,
     "metadata": {},
     "output_type": "execute_result"
    }
   ],
   "source": [
    "g7 = {c_0:1, c_1:5, c_2: -1, c_3:3}\n",
    "g8 = sp.N(g4.rhs.subs(g7))\n",
    "g8"
   ]
  },
  {
   "cell_type": "markdown",
   "metadata": {},
   "source": [
    "Note the answers are similiar.\n",
    "\n",
    "Check another example"
   ]
  },
  {
   "cell_type": "code",
   "execution_count": 42,
   "metadata": {},
   "outputs": [
    {
     "data": {
      "text/latex": [
       "$\\displaystyle 3 z^{3} - z^{2} + 15.0 z + 1 = 0$"
      ],
      "text/plain": [
       "Eq(3*z**3 - z**2 + 15.0*z + 1, 0)"
      ]
     },
     "execution_count": 42,
     "metadata": {},
     "output_type": "execute_result"
    }
   ],
   "source": [
    "g9 = sp.Eq(1 + 15. * z - z**2 + 3 * z**3, 0)\n",
    "g9"
   ]
  },
  {
   "cell_type": "code",
   "execution_count": 43,
   "metadata": {},
   "outputs": [
    {
     "data": {
      "text/plain": [
       "[-0.0663151597975300,\n",
       " 0.199824246565432 - 2.23306359608708*I,\n",
       " 0.199824246565432 + 2.23306359608708*I]"
      ]
     },
     "execution_count": 43,
     "metadata": {},
     "output_type": "execute_result"
    }
   ],
   "source": [
    "g10 = sp.solve(g9, z)\n",
    "g10"
   ]
  },
  {
   "cell_type": "markdown",
   "metadata": {},
   "source": [
    "Let g12 be an answer obtained from the formula $C$"
   ]
  },
  {
   "cell_type": "code",
   "execution_count": 45,
   "metadata": {},
   "outputs": [
    {
     "data": {
      "text/latex": [
       "$\\displaystyle -0.0663151597974653$"
      ],
      "text/plain": [
       "-0.0663151597974653"
      ]
     },
     "execution_count": 45,
     "metadata": {},
     "output_type": "execute_result"
    }
   ],
   "source": [
    "g11 = {c_0:1, c_1:15, c_2: -1, c_3:3}\n",
    "g12 = sp.N(g4.rhs.subs(g11))\n",
    "g12\n"
   ]
  },
  {
   "cell_type": "markdown",
   "metadata": {},
   "source": [
    "Note they are again similiar"
   ]
  },
  {
   "cell_type": "code",
   "execution_count": 50,
   "metadata": {},
   "outputs": [
    {
     "data": {
      "text/plain": [
       "[-0.236610107250854,\n",
       " 0.518305053625427 - 0.75936308841047*I,\n",
       " 0.518305053625427 + 0.75936308841047*I]"
      ]
     },
     "execution_count": 50,
     "metadata": {},
     "output_type": "execute_result"
    }
   ],
   "source": [
    "# demonstrating a viable technology in some cases - we can solve a cubic \n",
    "# equation with high school algebra - you don't need cubed roots / square roots \n",
    "# note we don't get final solution\n",
    "\n",
    "# variant\n",
    "\n",
    "# try another examle\n",
    "# note we are looking at non complex solutions\n",
    "\n",
    "g11 = sp.Eq(1 + 3. * z - 4 * z**2 + 5 * z**3, 0)\n",
    "g11\n",
    "g12 = sp.solve(g11, z)\n",
    "g12"
   ]
  },
  {
   "cell_type": "code",
   "execution_count": 51,
   "metadata": {},
   "outputs": [
    {
     "data": {
      "text/latex": [
       "$\\displaystyle -33.9803439976563$"
      ],
      "text/plain": [
       "-33.9803439976563"
      ]
     },
     "execution_count": 51,
     "metadata": {},
     "output_type": "execute_result"
    }
   ],
   "source": [
    "g13 = {c_0:1, c_1:3, c_2: -4, c_3:5}\n",
    "g14 = sp.N(g4.rhs.subs(g13))\n",
    "g14"
   ]
  },
  {
   "cell_type": "code",
   "execution_count": 52,
   "metadata": {},
   "outputs": [],
   "source": [
    "# this is clearly incorrect \n",
    "\n",
    "# why is this the case - consider the terms - denomitor has big power\n",
    "# but it is a smaller number to large power makes it difficult - nature \n",
    "# of certain choice - c_1 needs to be bigger than other 1"
   ]
  },
  {
   "cell_type": "code",
   "execution_count": 58,
   "metadata": {},
   "outputs": [
    {
     "data": {
      "text/plain": [
       "[-0.355967716679387 + 0.e-20*I,\n",
       " 0.865675512845961 - 0.e-22*I,\n",
       " 6.49029220383343 - 0.e-21*I]"
      ]
     },
     "execution_count": 58,
     "metadata": {},
     "output_type": "execute_result"
    }
   ],
   "source": [
    "# try another varint\n",
    "\n",
    "g15 = sp.Eq(2 + 3. * z - 7 * z**2 + z**3, 0)\n",
    "g15\n",
    "g16 = sp.solve(g15, z)\n",
    "g16"
   ]
  },
  {
   "cell_type": "code",
   "execution_count": 60,
   "metadata": {},
   "outputs": [
    {
     "data": {
      "text/latex": [
       "$\\displaystyle -12825.756404674$"
      ],
      "text/plain": [
       "-12825.7564046740"
      ]
     },
     "execution_count": 60,
     "metadata": {},
     "output_type": "execute_result"
    }
   ],
   "source": [
    "g17 = {c_0:2, c_1:3, c_2: -7, c_3:1}\n",
    "g18 = sp.N(g4.rhs.subs(g17))\n",
    "g18"
   ]
  },
  {
   "cell_type": "code",
   "execution_count": 63,
   "metadata": {},
   "outputs": [
    {
     "data": {
      "text/latex": [
       "$\\displaystyle z^{3} - 7 z^{2} + 3.0 z + 2 = 0$"
      ],
      "text/plain": [
       "Eq(z**3 - 7*z**2 + 3.0*z + 2, 0)"
      ]
     },
     "execution_count": 63,
     "metadata": {},
     "output_type": "execute_result"
    }
   ],
   "source": [
    "# so very incorrect but....reconsider our method words well when coefficnt \n",
    "# of z is bigger than others\n",
    "# so perhaps we can transform uor equation to make this the case \n",
    "# one more likely to produce solution\n",
    "\n",
    "# let z = 1 / u\n",
    "g15"
   ]
  },
  {
   "cell_type": "code",
   "execution_count": 79,
   "metadata": {},
   "outputs": [
    {
     "data": {
      "text/latex": [
       "$\\displaystyle 2 u^{3} + 3.0 u^{2} - 7 u + 1 = 0$"
      ],
      "text/plain": [
       "Eq(2*u**3 + 3.0*u**2 - 7*u + 1, 0)"
      ]
     },
     "execution_count": 79,
     "metadata": {},
     "output_type": "execute_result"
    }
   ],
   "source": [
    "# introduce new version  whre z = 1 / u. Then solve for u\n",
    "u = sp.symbols('u')\n",
    "g19 = g15.subs(z, 1/u)\n",
    "g20 = sp.Eq(sp.simplify(g19.lhs * u**3), 0)\n",
    "g20"
   ]
  },
  {
   "cell_type": "code",
   "execution_count": 82,
   "metadata": {},
   "outputs": [
    {
     "data": {
      "text/plain": [
       "[-2.80924351603682 + 0.e-23*I,\n",
       " 0.154076267846517 + 0.e-22*I,\n",
       " 1.15516724819031 - 0.e-23*I]"
      ]
     },
     "execution_count": 82,
     "metadata": {},
     "output_type": "execute_result"
    }
   ],
   "source": [
    "g21 = sp.solve(g20, u)\n",
    "g21"
   ]
  },
  {
   "cell_type": "code",
   "execution_count": 83,
   "metadata": {},
   "outputs": [
    {
     "data": {
      "text/latex": [
       "$\\displaystyle 0.154074694041552$"
      ],
      "text/plain": [
       "0.154074694041552"
      ]
     },
     "execution_count": 83,
     "metadata": {},
     "output_type": "execute_result"
    }
   ],
   "source": [
    "# and now wolve in our way\n",
    "\n",
    "g22 = {c_0:1, c_1:-7, c_2: 3, c_3:2}\n",
    "g23 = sp.N(g4.rhs.subs(g22))\n",
    "g23"
   ]
  },
  {
   "cell_type": "code",
   "execution_count": 85,
   "metadata": {},
   "outputs": [
    {
     "data": {
      "text/latex": [
       "$\\displaystyle 6.49035849930239$"
      ],
      "text/plain": [
       "6.49035849930239"
      ]
     },
     "execution_count": 85,
     "metadata": {},
     "output_type": "execute_result"
    }
   ],
   "source": [
    "# so now similair. so \n",
    "\n",
    "# now recover z\n",
    "\n",
    "g24 = 1 / g23\n",
    "g24"
   ]
  },
  {
   "cell_type": "code",
   "execution_count": null,
   "metadata": {},
   "outputs": [],
   "source": [
    "# this is a solution to original one. So yes our current solution doens't cover all \n",
    "# solutions, but if we are flexible, we can move into position where formula\n",
    "# might be ale to use this \n",
    "\n",
    "# we don't yet know conditions as yet, but this technology does \n",
    "# solve cubic equations \n",
    "\n",
    "# need to turn back to coefficients - we know it work, time to move on"
   ]
  }
 ],
 "metadata": {
  "kernelspec": {
   "display_name": "Python 3",
   "language": "python",
   "name": "python3"
  },
  "language_info": {
   "codemirror_mode": {
    "name": "ipython",
    "version": 3
   },
   "file_extension": ".py",
   "mimetype": "text/x-python",
   "name": "python",
   "nbconvert_exporter": "python",
   "pygments_lexer": "ipython3",
   "version": "3.9.2"
  }
 },
 "nbformat": 4,
 "nbformat_minor": 4
}
