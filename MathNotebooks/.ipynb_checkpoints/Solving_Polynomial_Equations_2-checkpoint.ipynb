{
 "cells": [
  {
   "cell_type": "markdown",
   "metadata": {},
   "source": [
    "<div>These notes are based on Prof. Norman Wildberger's YouTube video on Polynomial Equations found <a href=\"https://www.youtube.com/watch?v=ZyMzVBdm4Fc&list=PLzdiPTrEWyz7hk_Kzj4zDF_kUXBCtiGn6&index=2\">here</a>. They are being hosted at <a href=\"https://www.ladatavita.com/\">ladatavita.com</a> and available from my Github repo at: <a href=\"https://github.com/jgab3103/Jamie-Gabriel/blob/main/Notebooks/Solving_Polynomial_Equations_2.ipynb\">https://github.com/jgab3103/Jamie-Gabriel/blob/main/Notebooks/Solving_Polynomial_Equations_2.ipynb</a></div>"
   ]
  },
  {
   "cell_type": "markdown",
   "metadata": {},
   "source": [
    "### Solving Polynomial Equations: 2"
   ]
  },
  {
   "cell_type": "code",
   "execution_count": 1,
   "metadata": {},
   "outputs": [],
   "source": [
    "import sympy as sp\n",
    "from IPython.core.display import HTML"
   ]
  },
  {
   "cell_type": "markdown",
   "metadata": {},
   "source": [
    "In part 1 we examined a different way to solve a general quadratic equation, and ended up with a solution for $x$ that not only moved us away from radicals, but also pushed us towards the Catalan numbers. Now let's explore futher. We would like to examine whether this general direction has promise. One way to do this would be to extend the number of terms we use in the power series, to see if the pattern holds. Also, in part 1, we limited ourselves to a solution where $a_0 = 0$. But what about that other solution? Let's look at that too."
   ]
  },
  {
   "cell_type": "markdown",
   "metadata": {},
   "source": [
    "Start off by declaring all the variables we will need:"
   ]
  },
  {
   "cell_type": "code",
   "execution_count": 2,
   "metadata": {},
   "outputs": [],
   "source": [
    "c_0, c_1, c_2, x, t, a_0, a_1, a_2, a_3, a_4, a_5, a_6, a_7, a_8, a_9 = sp.symbols('c_0, c_1, c_2, x, t, a_0, a_1, a_2, a_3, a_4, a_5, a_6, a_7, a_8, a_9')"
   ]
  },
  {
   "cell_type": "markdown",
   "metadata": {},
   "source": [
    "Create our general quadratic equation:"
   ]
  },
  {
   "cell_type": "code",
   "execution_count": 3,
   "metadata": {},
   "outputs": [
    {
     "data": {
      "text/latex": [
       "$\\displaystyle c_{0} + c_{1} x + c_{2} x^{2} = 0$"
      ],
      "text/plain": [
       "Eq(c_0 + c_1*x + c_2*x**2, 0)"
      ]
     },
     "execution_count": 3,
     "metadata": {},
     "output_type": "execute_result"
    }
   ],
   "source": [
    "r1 = sp.Eq(c_0 + c_1 * x + c_2 * x**2, 0)\n",
    "r1"
   ]
  },
  {
   "cell_type": "markdown",
   "metadata": {},
   "source": [
    "We will keep our assumptions in place from last time, specifically that $c_0$ and $c_2$ cannot equal 0, and this time we will assume $t^{10} = 0$, extending our series up to $t^9$. Let's start off by substituting $t$ for $c_0$:"
   ]
  },
  {
   "cell_type": "code",
   "execution_count": 4,
   "metadata": {},
   "outputs": [
    {
     "data": {
      "text/latex": [
       "$\\displaystyle c_{1} x + c_{2} x^{2} + t = 0$"
      ],
      "text/plain": [
       "Eq(c_1*x + c_2*x**2 + t, 0)"
      ]
     },
     "execution_count": 4,
     "metadata": {},
     "output_type": "execute_result"
    }
   ],
   "source": [
    "r2 = r1.subs(c_0, t)\n",
    "r2"
   ]
  },
  {
   "cell_type": "markdown",
   "metadata": {},
   "source": [
    "Now create a substitution for $x$, a power series once again, but take things up to degree 9:"
   ]
  },
  {
   "cell_type": "code",
   "execution_count": 5,
   "metadata": {},
   "outputs": [
    {
     "data": {
      "text/latex": [
       "$\\displaystyle x = a_{0} + a_{1} t + a_{2} t^{2} + a_{3} t^{3} + a_{4} t^{4} + a_{5} t^{5} + a_{6} t^{6} + a_{7} t^{7} + a_{8} t^{8} + a_{9} t^{9}$"
      ],
      "text/plain": [
       "Eq(x, a_0 + a_1*t + a_2*t**2 + a_3*t**3 + a_4*t**4 + a_5*t**5 + a_6*t**6 + a_7*t**7 + a_8*t**8 + a_9*t**9)"
      ]
     },
     "execution_count": 5,
     "metadata": {},
     "output_type": "execute_result"
    }
   ],
   "source": [
    "subs_for_x = a_0 + a_1*t + a_2* t**2 + a_3 * t**3 + a_4* t**4 + a_5*t**5 + a_6*t**6 + a_7*t**7 + a_8*t**8 + a_9*t**9\n",
    "r2_5 = sp.Eq(x, subs_for_x)\n",
    "r2_5"
   ]
  },
  {
   "cell_type": "markdown",
   "metadata": {},
   "source": [
    "Substitute our new value into our original quadratic equation:"
   ]
  },
  {
   "cell_type": "code",
   "execution_count": 6,
   "metadata": {},
   "outputs": [
    {
     "data": {
      "text/latex": [
       "$\\displaystyle c_{1} \\left(a_{0} + a_{1} t + a_{2} t^{2} + a_{3} t^{3} + a_{4} t^{4} + a_{5} t^{5} + a_{6} t^{6} + a_{7} t^{7} + a_{8} t^{8} + a_{9} t^{9}\\right) + c_{2} \\left(a_{0} + a_{1} t + a_{2} t^{2} + a_{3} t^{3} + a_{4} t^{4} + a_{5} t^{5} + a_{6} t^{6} + a_{7} t^{7} + a_{8} t^{8} + a_{9} t^{9}\\right)^{2} + t = 0$"
      ],
      "text/plain": [
       "Eq(c_1*(a_0 + a_1*t + a_2*t**2 + a_3*t**3 + a_4*t**4 + a_5*t**5 + a_6*t**6 + a_7*t**7 + a_8*t**8 + a_9*t**9) + c_2*(a_0 + a_1*t + a_2*t**2 + a_3*t**3 + a_4*t**4 + a_5*t**5 + a_6*t**6 + a_7*t**7 + a_8*t**8 + a_9*t**9)**2 + t, 0)"
      ]
     },
     "execution_count": 6,
     "metadata": {},
     "output_type": "execute_result"
    }
   ],
   "source": [
    "r3 = r2.subs(x, subs_for_x)\n",
    "r3"
   ]
  },
  {
   "cell_type": "markdown",
   "metadata": {},
   "source": [
    "Expand the equation, and collect the terms, in regard to t:"
   ]
  },
  {
   "cell_type": "code",
   "execution_count": 7,
   "metadata": {},
   "outputs": [
    {
     "data": {
      "text/latex": [
       "$\\displaystyle a_{0}^{2} c_{2} + a_{0} c_{1} + 2 a_{8} a_{9} c_{2} t^{17} + a_{9}^{2} c_{2} t^{18} + t^{16} \\left(2 a_{7} a_{9} c_{2} + a_{8}^{2} c_{2}\\right) + t^{15} \\left(2 a_{6} a_{9} c_{2} + 2 a_{7} a_{8} c_{2}\\right) + t^{14} \\left(2 a_{5} a_{9} c_{2} + 2 a_{6} a_{8} c_{2} + a_{7}^{2} c_{2}\\right) + t^{13} \\left(2 a_{4} a_{9} c_{2} + 2 a_{5} a_{8} c_{2} + 2 a_{6} a_{7} c_{2}\\right) + t^{12} \\left(2 a_{3} a_{9} c_{2} + 2 a_{4} a_{8} c_{2} + 2 a_{5} a_{7} c_{2} + a_{6}^{2} c_{2}\\right) + t^{11} \\left(2 a_{2} a_{9} c_{2} + 2 a_{3} a_{8} c_{2} + 2 a_{4} a_{7} c_{2} + 2 a_{5} a_{6} c_{2}\\right) + t^{10} \\left(2 a_{1} a_{9} c_{2} + 2 a_{2} a_{8} c_{2} + 2 a_{3} a_{7} c_{2} + 2 a_{4} a_{6} c_{2} + a_{5}^{2} c_{2}\\right) + t^{9} \\left(2 a_{0} a_{9} c_{2} + 2 a_{1} a_{8} c_{2} + 2 a_{2} a_{7} c_{2} + 2 a_{3} a_{6} c_{2} + 2 a_{4} a_{5} c_{2} + a_{9} c_{1}\\right) + t^{8} \\left(2 a_{0} a_{8} c_{2} + 2 a_{1} a_{7} c_{2} + 2 a_{2} a_{6} c_{2} + 2 a_{3} a_{5} c_{2} + a_{4}^{2} c_{2} + a_{8} c_{1}\\right) + t^{7} \\left(2 a_{0} a_{7} c_{2} + 2 a_{1} a_{6} c_{2} + 2 a_{2} a_{5} c_{2} + 2 a_{3} a_{4} c_{2} + a_{7} c_{1}\\right) + t^{6} \\left(2 a_{0} a_{6} c_{2} + 2 a_{1} a_{5} c_{2} + 2 a_{2} a_{4} c_{2} + a_{3}^{2} c_{2} + a_{6} c_{1}\\right) + t^{5} \\left(2 a_{0} a_{5} c_{2} + 2 a_{1} a_{4} c_{2} + 2 a_{2} a_{3} c_{2} + a_{5} c_{1}\\right) + t^{4} \\left(2 a_{0} a_{4} c_{2} + 2 a_{1} a_{3} c_{2} + a_{2}^{2} c_{2} + a_{4} c_{1}\\right) + t^{3} \\left(2 a_{0} a_{3} c_{2} + 2 a_{1} a_{2} c_{2} + a_{3} c_{1}\\right) + t^{2} \\left(2 a_{0} a_{2} c_{2} + a_{1}^{2} c_{2} + a_{2} c_{1}\\right) + t \\left(2 a_{0} a_{1} c_{2} + a_{1} c_{1} + 1\\right)$"
      ],
      "text/plain": [
       "a_0**2*c_2 + a_0*c_1 + 2*a_8*a_9*c_2*t**17 + a_9**2*c_2*t**18 + t**16*(2*a_7*a_9*c_2 + a_8**2*c_2) + t**15*(2*a_6*a_9*c_2 + 2*a_7*a_8*c_2) + t**14*(2*a_5*a_9*c_2 + 2*a_6*a_8*c_2 + a_7**2*c_2) + t**13*(2*a_4*a_9*c_2 + 2*a_5*a_8*c_2 + 2*a_6*a_7*c_2) + t**12*(2*a_3*a_9*c_2 + 2*a_4*a_8*c_2 + 2*a_5*a_7*c_2 + a_6**2*c_2) + t**11*(2*a_2*a_9*c_2 + 2*a_3*a_8*c_2 + 2*a_4*a_7*c_2 + 2*a_5*a_6*c_2) + t**10*(2*a_1*a_9*c_2 + 2*a_2*a_8*c_2 + 2*a_3*a_7*c_2 + 2*a_4*a_6*c_2 + a_5**2*c_2) + t**9*(2*a_0*a_9*c_2 + 2*a_1*a_8*c_2 + 2*a_2*a_7*c_2 + 2*a_3*a_6*c_2 + 2*a_4*a_5*c_2 + a_9*c_1) + t**8*(2*a_0*a_8*c_2 + 2*a_1*a_7*c_2 + 2*a_2*a_6*c_2 + 2*a_3*a_5*c_2 + a_4**2*c_2 + a_8*c_1) + t**7*(2*a_0*a_7*c_2 + 2*a_1*a_6*c_2 + 2*a_2*a_5*c_2 + 2*a_3*a_4*c_2 + a_7*c_1) + t**6*(2*a_0*a_6*c_2 + 2*a_1*a_5*c_2 + 2*a_2*a_4*c_2 + a_3**2*c_2 + a_6*c_1) + t**5*(2*a_0*a_5*c_2 + 2*a_1*a_4*c_2 + 2*a_2*a_3*c_2 + a_5*c_1) + t**4*(2*a_0*a_4*c_2 + 2*a_1*a_3*c_2 + a_2**2*c_2 + a_4*c_1) + t**3*(2*a_0*a_3*c_2 + 2*a_1*a_2*c_2 + a_3*c_1) + t**2*(2*a_0*a_2*c_2 + a_1**2*c_2 + a_2*c_1) + t*(2*a_0*a_1*c_2 + a_1*c_1 + 1)"
      ]
     },
     "execution_count": 7,
     "metadata": {},
     "output_type": "execute_result"
    }
   ],
   "source": [
    "r4 = r3.expand()\n",
    "r5 = r4.lhs.collect(t)\n",
    "r5"
   ]
  },
  {
   "cell_type": "markdown",
   "metadata": {},
   "source": [
    "Again we see all those higher powers above 9 that we want to ignore. Let's recall our assumption that $t^{10} = 0$ is , and get rid of them:"
   ]
  },
  {
   "cell_type": "code",
   "execution_count": 8,
   "metadata": {},
   "outputs": [
    {
     "data": {
      "text/latex": [
       "$\\displaystyle a_{0}^{2} c_{2} + a_{0} c_{1} + t^{9} \\left(2 a_{0} a_{9} c_{2} + 2 a_{1} a_{8} c_{2} + 2 a_{2} a_{7} c_{2} + 2 a_{3} a_{6} c_{2} + 2 a_{4} a_{5} c_{2} + a_{9} c_{1}\\right) + t^{8} \\left(2 a_{0} a_{8} c_{2} + 2 a_{1} a_{7} c_{2} + 2 a_{2} a_{6} c_{2} + 2 a_{3} a_{5} c_{2} + a_{4}^{2} c_{2} + a_{8} c_{1}\\right) + t^{7} \\left(2 a_{0} a_{7} c_{2} + 2 a_{1} a_{6} c_{2} + 2 a_{2} a_{5} c_{2} + 2 a_{3} a_{4} c_{2} + a_{7} c_{1}\\right) + t^{6} \\left(2 a_{0} a_{6} c_{2} + 2 a_{1} a_{5} c_{2} + 2 a_{2} a_{4} c_{2} + a_{3}^{2} c_{2} + a_{6} c_{1}\\right) + t^{5} \\left(2 a_{0} a_{5} c_{2} + 2 a_{1} a_{4} c_{2} + 2 a_{2} a_{3} c_{2} + a_{5} c_{1}\\right) + t^{4} \\left(2 a_{0} a_{4} c_{2} + 2 a_{1} a_{3} c_{2} + a_{2}^{2} c_{2} + a_{4} c_{1}\\right) + t^{3} \\left(2 a_{0} a_{3} c_{2} + 2 a_{1} a_{2} c_{2} + a_{3} c_{1}\\right) + t^{2} \\left(2 a_{0} a_{2} c_{2} + a_{1}^{2} c_{2} + a_{2} c_{1}\\right) + t \\left(2 a_{0} a_{1} c_{2} + a_{1} c_{1} + 1\\right)$"
      ],
      "text/plain": [
       "a_0**2*c_2 + a_0*c_1 + t**9*(2*a_0*a_9*c_2 + 2*a_1*a_8*c_2 + 2*a_2*a_7*c_2 + 2*a_3*a_6*c_2 + 2*a_4*a_5*c_2 + a_9*c_1) + t**8*(2*a_0*a_8*c_2 + 2*a_1*a_7*c_2 + 2*a_2*a_6*c_2 + 2*a_3*a_5*c_2 + a_4**2*c_2 + a_8*c_1) + t**7*(2*a_0*a_7*c_2 + 2*a_1*a_6*c_2 + 2*a_2*a_5*c_2 + 2*a_3*a_4*c_2 + a_7*c_1) + t**6*(2*a_0*a_6*c_2 + 2*a_1*a_5*c_2 + 2*a_2*a_4*c_2 + a_3**2*c_2 + a_6*c_1) + t**5*(2*a_0*a_5*c_2 + 2*a_1*a_4*c_2 + 2*a_2*a_3*c_2 + a_5*c_1) + t**4*(2*a_0*a_4*c_2 + 2*a_1*a_3*c_2 + a_2**2*c_2 + a_4*c_1) + t**3*(2*a_0*a_3*c_2 + 2*a_1*a_2*c_2 + a_3*c_1) + t**2*(2*a_0*a_2*c_2 + a_1**2*c_2 + a_2*c_1) + t*(2*a_0*a_1*c_2 + a_1*c_1 + 1)"
      ]
     },
     "execution_count": 8,
     "metadata": {},
     "output_type": "execute_result"
    }
   ],
   "source": [
    "order = 10\n",
    "coeffs = sp.Poly(r5, t).coeffs()\n",
    "r6 = sum(t**n * coeffs[-(n+1)] for n in range(order))\n",
    "r6"
   ]
  },
  {
   "cell_type": "markdown",
   "metadata": {},
   "source": [
    "Set the resulting expression back to 0, as we working with an equation: "
   ]
  },
  {
   "cell_type": "code",
   "execution_count": 9,
   "metadata": {},
   "outputs": [
    {
     "data": {
      "text/latex": [
       "$\\displaystyle a_{0}^{2} c_{2} + a_{0} c_{1} + t^{9} \\left(2 a_{0} a_{9} c_{2} + 2 a_{1} a_{8} c_{2} + 2 a_{2} a_{7} c_{2} + 2 a_{3} a_{6} c_{2} + 2 a_{4} a_{5} c_{2} + a_{9} c_{1}\\right) + t^{8} \\left(2 a_{0} a_{8} c_{2} + 2 a_{1} a_{7} c_{2} + 2 a_{2} a_{6} c_{2} + 2 a_{3} a_{5} c_{2} + a_{4}^{2} c_{2} + a_{8} c_{1}\\right) + t^{7} \\left(2 a_{0} a_{7} c_{2} + 2 a_{1} a_{6} c_{2} + 2 a_{2} a_{5} c_{2} + 2 a_{3} a_{4} c_{2} + a_{7} c_{1}\\right) + t^{6} \\left(2 a_{0} a_{6} c_{2} + 2 a_{1} a_{5} c_{2} + 2 a_{2} a_{4} c_{2} + a_{3}^{2} c_{2} + a_{6} c_{1}\\right) + t^{5} \\left(2 a_{0} a_{5} c_{2} + 2 a_{1} a_{4} c_{2} + 2 a_{2} a_{3} c_{2} + a_{5} c_{1}\\right) + t^{4} \\left(2 a_{0} a_{4} c_{2} + 2 a_{1} a_{3} c_{2} + a_{2}^{2} c_{2} + a_{4} c_{1}\\right) + t^{3} \\left(2 a_{0} a_{3} c_{2} + 2 a_{1} a_{2} c_{2} + a_{3} c_{1}\\right) + t^{2} \\left(2 a_{0} a_{2} c_{2} + a_{1}^{2} c_{2} + a_{2} c_{1}\\right) + t \\left(2 a_{0} a_{1} c_{2} + a_{1} c_{1} + 1\\right) = 0$"
      ],
      "text/plain": [
       "Eq(a_0**2*c_2 + a_0*c_1 + t**9*(2*a_0*a_9*c_2 + 2*a_1*a_8*c_2 + 2*a_2*a_7*c_2 + 2*a_3*a_6*c_2 + 2*a_4*a_5*c_2 + a_9*c_1) + t**8*(2*a_0*a_8*c_2 + 2*a_1*a_7*c_2 + 2*a_2*a_6*c_2 + 2*a_3*a_5*c_2 + a_4**2*c_2 + a_8*c_1) + t**7*(2*a_0*a_7*c_2 + 2*a_1*a_6*c_2 + 2*a_2*a_5*c_2 + 2*a_3*a_4*c_2 + a_7*c_1) + t**6*(2*a_0*a_6*c_2 + 2*a_1*a_5*c_2 + 2*a_2*a_4*c_2 + a_3**2*c_2 + a_6*c_1) + t**5*(2*a_0*a_5*c_2 + 2*a_1*a_4*c_2 + 2*a_2*a_3*c_2 + a_5*c_1) + t**4*(2*a_0*a_4*c_2 + 2*a_1*a_3*c_2 + a_2**2*c_2 + a_4*c_1) + t**3*(2*a_0*a_3*c_2 + 2*a_1*a_2*c_2 + a_3*c_1) + t**2*(2*a_0*a_2*c_2 + a_1**2*c_2 + a_2*c_1) + t*(2*a_0*a_1*c_2 + a_1*c_1 + 1), 0)"
      ]
     },
     "execution_count": 9,
     "metadata": {},
     "output_type": "execute_result"
    }
   ],
   "source": [
    "r7 = sp.Eq(r6, 0)\n",
    "r7"
   ]
  },
  {
   "cell_type": "markdown",
   "metadata": {},
   "source": [
    "Solve the equation to the values of $a_0$:"
   ]
  },
  {
   "cell_type": "code",
   "execution_count": 10,
   "metadata": {},
   "outputs": [
    {
     "data": {
      "text/plain": [
       "[{a_0: 0}, {a_0: -c_1/c_2}]"
      ]
     },
     "execution_count": 10,
     "metadata": {},
     "output_type": "execute_result"
    }
   ],
   "source": [
    "r8 = sp.Poly(r7, t)\n",
    "r9 = r8.coeffs()[-1]\n",
    "r10 = sp.Eq(r9, 0)\n",
    "r11 = sp.factor(r10, a_0)\n",
    "r12 = sp.solve(r11, a_0, dict = True)\n",
    "r12"
   ]
  },
  {
   "cell_type": "markdown",
   "metadata": {},
   "source": [
    "Let's first explore the case where $a_0 = 0$. This also means, that for the coefficents of the equation we have just created, we can substitute $0$ straight in for $a_0$ which will significantly simplify the coefficents:"
   ]
  },
  {
   "cell_type": "code",
   "execution_count": 11,
   "metadata": {},
   "outputs": [
    {
     "data": {
      "text/plain": [
       "[2*a_0*a_9*c_2 + 2*a_1*a_8*c_2 + 2*a_2*a_7*c_2 + 2*a_3*a_6*c_2 + 2*a_4*a_5*c_2 + a_9*c_1,\n",
       " 2*a_0*a_8*c_2 + 2*a_1*a_7*c_2 + 2*a_2*a_6*c_2 + 2*a_3*a_5*c_2 + a_4**2*c_2 + a_8*c_1,\n",
       " 2*a_0*a_7*c_2 + 2*a_1*a_6*c_2 + 2*a_2*a_5*c_2 + 2*a_3*a_4*c_2 + a_7*c_1,\n",
       " 2*a_0*a_6*c_2 + 2*a_1*a_5*c_2 + 2*a_2*a_4*c_2 + a_3**2*c_2 + a_6*c_1,\n",
       " 2*a_0*a_5*c_2 + 2*a_1*a_4*c_2 + 2*a_2*a_3*c_2 + a_5*c_1,\n",
       " 2*a_0*a_4*c_2 + 2*a_1*a_3*c_2 + a_2**2*c_2 + a_4*c_1,\n",
       " 2*a_0*a_3*c_2 + 2*a_1*a_2*c_2 + a_3*c_1,\n",
       " 2*a_0*a_2*c_2 + a_1**2*c_2 + a_2*c_1,\n",
       " 2*a_0*a_1*c_2 + a_1*c_1 + 1,\n",
       " a_0**2*c_2 + a_0*c_1]"
      ]
     },
     "execution_count": 11,
     "metadata": {},
     "output_type": "execute_result"
    }
   ],
   "source": [
    "r8.coeffs()"
   ]
  },
  {
   "cell_type": "markdown",
   "metadata": {},
   "source": [
    "Apply the $a_0, 0$ substitution:"
   ]
  },
  {
   "cell_type": "code",
   "execution_count": 12,
   "metadata": {},
   "outputs": [
    {
     "data": {
      "text/latex": [
       "$\\displaystyle \\operatorname{Poly}{\\left( \\left(2 a_{1} a_{8} c_{2} + 2 a_{2} a_{7} c_{2} + 2 a_{3} a_{6} c_{2} + 2 a_{4} a_{5} c_{2} + a_{9} c_{1}\\right) t^{9} + \\left(2 a_{1} a_{7} c_{2} + 2 a_{2} a_{6} c_{2} + 2 a_{3} a_{5} c_{2} + a_{4}^{2} c_{2} + a_{8} c_{1}\\right) t^{8} + \\left(2 a_{1} a_{6} c_{2} + 2 a_{2} a_{5} c_{2} + 2 a_{3} a_{4} c_{2} + a_{7} c_{1}\\right) t^{7} + \\left(2 a_{1} a_{5} c_{2} + 2 a_{2} a_{4} c_{2} + a_{3}^{2} c_{2} + a_{6} c_{1}\\right) t^{6} + \\left(2 a_{1} a_{4} c_{2} + 2 a_{2} a_{3} c_{2} + a_{5} c_{1}\\right) t^{5} + \\left(2 a_{1} a_{3} c_{2} + a_{2}^{2} c_{2} + a_{4} c_{1}\\right) t^{4} + \\left(2 a_{1} a_{2} c_{2} + a_{3} c_{1}\\right) t^{3} + \\left(a_{1}^{2} c_{2} + a_{2} c_{1}\\right) t^{2} + \\left(a_{1} c_{1} + 1\\right) t, t, domain=\\mathbb{Z}\\left[a_{1}, a_{2}, a_{3}, a_{4}, a_{5}, a_{6}, a_{7}, a_{8}, a_{9}, c_{1}, c_{2}\\right] \\right)}$"
      ],
      "text/plain": [
       "Poly((2*a_1*a_8*c_2 + 2*a_2*a_7*c_2 + 2*a_3*a_6*c_2 + 2*a_4*a_5*c_2 + a_9*c_1)*t**9 + (2*a_1*a_7*c_2 + 2*a_2*a_6*c_2 + 2*a_3*a_5*c_2 + a_4**2*c_2 + a_8*c_1)*t**8 + (2*a_1*a_6*c_2 + 2*a_2*a_5*c_2 + 2*a_3*a_4*c_2 + a_7*c_1)*t**7 + (2*a_1*a_5*c_2 + 2*a_2*a_4*c_2 + a_3**2*c_2 + a_6*c_1)*t**6 + (2*a_1*a_4*c_2 + 2*a_2*a_3*c_2 + a_5*c_1)*t**5 + (2*a_1*a_3*c_2 + a_2**2*c_2 + a_4*c_1)*t**4 + (2*a_1*a_2*c_2 + a_3*c_1)*t**3 + (a_1**2*c_2 + a_2*c_1)*t**2 + (a_1*c_1 + 1)*t, t, domain='ZZ[a_1,a_2,a_3,a_4,a_5,a_6,a_7,a_8,a_9,c_1,c_2]')"
      ]
     },
     "execution_count": 12,
     "metadata": {},
     "output_type": "execute_result"
    }
   ],
   "source": [
    "r13 = sp.Poly(r8.subs(a_0, 0), t)\n",
    "r13"
   ]
  },
  {
   "cell_type": "markdown",
   "metadata": {},
   "source": [
    "Now Let's solve this as a system of equations. So let's get things into a format that allows that: "
   ]
  },
  {
   "cell_type": "code",
   "execution_count": 13,
   "metadata": {},
   "outputs": [
    {
     "data": {
      "text/plain": [
       "[Eq(2*a_1*a_8*c_2 + 2*a_2*a_7*c_2 + 2*a_3*a_6*c_2 + 2*a_4*a_5*c_2 + a_9*c_1, 0),\n",
       " Eq(2*a_1*a_7*c_2 + 2*a_2*a_6*c_2 + 2*a_3*a_5*c_2 + a_4**2*c_2 + a_8*c_1, 0),\n",
       " Eq(2*a_1*a_6*c_2 + 2*a_2*a_5*c_2 + 2*a_3*a_4*c_2 + a_7*c_1, 0),\n",
       " Eq(2*a_1*a_5*c_2 + 2*a_2*a_4*c_2 + a_3**2*c_2 + a_6*c_1, 0),\n",
       " Eq(2*a_1*a_4*c_2 + 2*a_2*a_3*c_2 + a_5*c_1, 0),\n",
       " Eq(2*a_1*a_3*c_2 + a_2**2*c_2 + a_4*c_1, 0),\n",
       " Eq(2*a_1*a_2*c_2 + a_3*c_1, 0),\n",
       " Eq(a_1**2*c_2 + a_2*c_1, 0),\n",
       " Eq(a_1*c_1 + 1, 0)]"
      ]
     },
     "execution_count": 13,
     "metadata": {},
     "output_type": "execute_result"
    }
   ],
   "source": [
    "r14 = [sp.Eq(r13.coeffs()[i], 0) for i in range(len(r13.coeffs()))]\n",
    "r14"
   ]
  },
  {
   "cell_type": "markdown",
   "metadata": {},
   "source": [
    "Now we iterate through the values of $a_0, a_1, a_2, a_3, a_4, a_5, a_6, a_7, a_8$, and $a_9$ to find solutions: "
   ]
  },
  {
   "cell_type": "code",
   "execution_count": 14,
   "metadata": {},
   "outputs": [
    {
     "data": {
      "text/plain": [
       "(FiniteSet((a_0, -1/c_1, -c_2/c_1**3, -2*c_2**2/c_1**5, -5*c_2**3/c_1**7, -14*c_2**4/c_1**9, -42*c_2**5/c_1**11, -132*c_2**6/c_1**13, -429*c_2**7/c_1**15, -1430*c_2**8/c_1**17)),\n",
       " [a_0,\n",
       "  -1/c_1,\n",
       "  -c_2/c_1**3,\n",
       "  -2*c_2**2/c_1**5,\n",
       "  -5*c_2**3/c_1**7,\n",
       "  -14*c_2**4/c_1**9,\n",
       "  -42*c_2**5/c_1**11,\n",
       "  -132*c_2**6/c_1**13,\n",
       "  -429*c_2**7/c_1**15,\n",
       "  -1430*c_2**8/c_1**17])"
      ]
     },
     "execution_count": 14,
     "metadata": {},
     "output_type": "execute_result"
    }
   ],
   "source": [
    "values_to_solve =  [a_0, a_1, a_2, a_3, a_4, a_5, a_6, a_7, a_8, a_9]\n",
    "r14\n",
    "r15 = sp.nonlinsolve(r14, values_to_solve)\n",
    "solutions_as_list = list(list(r15)[0])\n",
    "r15, solutions_as_list"
   ]
  },
  {
   "cell_type": "markdown",
   "metadata": {},
   "source": [
    "Now take these solutions, and set up as seperate equations for the values of $a_0, a_1, a_2, a_3, a_4, a_5, a_6, a_7, a_8$, and $a_9$:"
   ]
  },
  {
   "cell_type": "code",
   "execution_count": 15,
   "metadata": {},
   "outputs": [
    {
     "data": {
      "text/plain": [
       "[True,\n",
       " Eq(-1/c_1, a_1),\n",
       " Eq(-c_2/c_1**3, a_2),\n",
       " Eq(-2*c_2**2/c_1**5, a_3),\n",
       " Eq(-5*c_2**3/c_1**7, a_4),\n",
       " Eq(-14*c_2**4/c_1**9, a_5),\n",
       " Eq(-42*c_2**5/c_1**11, a_6),\n",
       " Eq(-132*c_2**6/c_1**13, a_7),\n",
       " Eq(-429*c_2**7/c_1**15, a_8),\n",
       " Eq(-1430*c_2**8/c_1**17, a_9)]"
      ]
     },
     "execution_count": 15,
     "metadata": {},
     "output_type": "execute_result"
    }
   ],
   "source": [
    "r16 = [sp.Eq(solutions_as_list[i], values_to_solve[i]) for i in range(len(solutions_as_list))]\n",
    "r16"
   ]
  },
  {
   "cell_type": "markdown",
   "metadata": {},
   "source": [
    "Recall that all these values, $a_0, a_1, a_2, a_3, a_4, a_5, a_6, a_7, a_8$, and $a_9$, are just a substitution for the $x$ in our general quadratic. So let's put these back into the original equation, so we can a value for x:"
   ]
  },
  {
   "cell_type": "code",
   "execution_count": 16,
   "metadata": {},
   "outputs": [],
   "source": [
    "values_to_solve = values_to_solve[1:]\n",
    "solutions_as_list = solutions_as_list[1:]\n",
    "\n",
    "r17 = r2_5.subs(values_to_solve[0], solutions_as_list[0])\n",
    "r17 = r17.subs(values_to_solve[1], solutions_as_list[1])\n",
    "r17 = r17.subs(values_to_solve[2], solutions_as_list[2])\n",
    "r17 = r17.subs(values_to_solve[3], solutions_as_list[3])\n",
    "r17 = r17.subs(values_to_solve[4], solutions_as_list[4])\n",
    "r17 = r17.subs(values_to_solve[5], solutions_as_list[5])\n",
    "r17 = r17.subs(values_to_solve[6], solutions_as_list[6])\n",
    "r17 = r17.subs(values_to_solve[7], solutions_as_list[7])\n",
    "r17 = r17.subs(values_to_solve[8], solutions_as_list[8])\n",
    "r17 = r17.subs(a_0, 0)\n",
    "\n",
    "#Sympy Note: there must be a better way to this - relevant Sympy function, anyone?"
   ]
  },
  {
   "cell_type": "markdown",
   "metadata": {},
   "source": [
    "Success! We have solve our our general equation for x (at least in the case where $a_0=0$):"
   ]
  },
  {
   "cell_type": "code",
   "execution_count": 17,
   "metadata": {},
   "outputs": [
    {
     "data": {
      "text/latex": [
       "$\\displaystyle x = - \\frac{t}{c_{1}} - \\frac{c_{2} t^{2}}{c_{1}^{3}} - \\frac{2 c_{2}^{2} t^{3}}{c_{1}^{5}} - \\frac{5 c_{2}^{3} t^{4}}{c_{1}^{7}} - \\frac{14 c_{2}^{4} t^{5}}{c_{1}^{9}} - \\frac{42 c_{2}^{5} t^{6}}{c_{1}^{11}} - \\frac{132 c_{2}^{6} t^{7}}{c_{1}^{13}} - \\frac{429 c_{2}^{7} t^{8}}{c_{1}^{15}} - \\frac{1430 c_{2}^{8} t^{9}}{c_{1}^{17}}$"
      ],
      "text/plain": [
       "Eq(x, -t/c_1 - c_2*t**2/c_1**3 - 2*c_2**2*t**3/c_1**5 - 5*c_2**3*t**4/c_1**7 - 14*c_2**4*t**5/c_1**9 - 42*c_2**5*t**6/c_1**11 - 132*c_2**6*t**7/c_1**13 - 429*c_2**7*t**8/c_1**15 - 1430*c_2**8*t**9/c_1**17)"
      ]
     },
     "execution_count": 17,
     "metadata": {},
     "output_type": "execute_result"
    }
   ],
   "source": [
    "r17"
   ]
  },
  {
   "cell_type": "markdown",
   "metadata": {},
   "source": [
    "And have a look at the coefficents - its those Catalan numbers again:"
   ]
  },
  {
   "cell_type": "code",
   "execution_count": 18,
   "metadata": {},
   "outputs": [
    {
     "data": {
      "text/plain": [
       "[1, 1, 2, 5, 14, 42, 132, 429, 1430]"
      ]
     },
     "execution_count": 18,
     "metadata": {},
     "output_type": "execute_result"
    }
   ],
   "source": [
    "r18 = sp.Poly(r17)\n",
    "r19 = r18.coeffs()\n",
    "entries = list(reversed(r19[1:]))\n",
    "entries"
   ]
  },
  {
   "cell_type": "markdown",
   "metadata": {},
   "source": [
    "So far we have only explored the case where $a_0 = 0$. This looks to have been promising, and it seems that when we extend the power series, we are finding more terms of the Catalan numbers. Now let's examine that other case, where $a_0 = \\frac{-c_1}{c_2}$:"
   ]
  },
  {
   "cell_type": "code",
   "execution_count": 19,
   "metadata": {},
   "outputs": [
    {
     "data": {
      "text/latex": [
       "$\\displaystyle - \\frac{c_{1}}{c_{2}}$"
      ],
      "text/plain": [
       "-c_1/c_2"
      ]
     },
     "execution_count": 19,
     "metadata": {},
     "output_type": "execute_result"
    }
   ],
   "source": [
    "r12[1][a_0]"
   ]
  },
  {
   "cell_type": "markdown",
   "metadata": {},
   "source": [
    "Same plan as before. Start by substituting $a_0 = \\frac{-c_1}{c_2}$ into our polynomial: "
   ]
  },
  {
   "cell_type": "code",
   "execution_count": 20,
   "metadata": {},
   "outputs": [
    {
     "data": {
      "text/latex": [
       "$\\displaystyle \\operatorname{Poly}{\\left( \\left(2 a_{1} a_{8} c_{2} + 2 a_{2} a_{7} c_{2} + 2 a_{3} a_{6} c_{2} + 2 a_{4} a_{5} c_{2} - a_{9} c_{1}\\right) t^{9} + \\left(2 a_{1} a_{7} c_{2} + 2 a_{2} a_{6} c_{2} + 2 a_{3} a_{5} c_{2} + a_{4}^{2} c_{2} - a_{8} c_{1}\\right) t^{8} + \\left(2 a_{1} a_{6} c_{2} + 2 a_{2} a_{5} c_{2} + 2 a_{3} a_{4} c_{2} - a_{7} c_{1}\\right) t^{7} + \\left(2 a_{1} a_{5} c_{2} + 2 a_{2} a_{4} c_{2} + a_{3}^{2} c_{2} - a_{6} c_{1}\\right) t^{6} + \\left(2 a_{1} a_{4} c_{2} + 2 a_{2} a_{3} c_{2} - a_{5} c_{1}\\right) t^{5} + \\left(2 a_{1} a_{3} c_{2} + a_{2}^{2} c_{2} - a_{4} c_{1}\\right) t^{4} + \\left(2 a_{1} a_{2} c_{2} - a_{3} c_{1}\\right) t^{3} + \\left(a_{1}^{2} c_{2} - a_{2} c_{1}\\right) t^{2} + \\left(- a_{1} c_{1} + 1\\right) t, t, domain=\\mathbb{Z}\\left[a_{1}, a_{2}, a_{3}, a_{4}, a_{5}, a_{6}, a_{7}, a_{8}, a_{9}, c_{1}, c_{2}\\right] \\right)}$"
      ],
      "text/plain": [
       "Poly((2*a_1*a_8*c_2 + 2*a_2*a_7*c_2 + 2*a_3*a_6*c_2 + 2*a_4*a_5*c_2 - a_9*c_1)*t**9 + (2*a_1*a_7*c_2 + 2*a_2*a_6*c_2 + 2*a_3*a_5*c_2 + a_4**2*c_2 - a_8*c_1)*t**8 + (2*a_1*a_6*c_2 + 2*a_2*a_5*c_2 + 2*a_3*a_4*c_2 - a_7*c_1)*t**7 + (2*a_1*a_5*c_2 + 2*a_2*a_4*c_2 + a_3**2*c_2 - a_6*c_1)*t**6 + (2*a_1*a_4*c_2 + 2*a_2*a_3*c_2 - a_5*c_1)*t**5 + (2*a_1*a_3*c_2 + a_2**2*c_2 - a_4*c_1)*t**4 + (2*a_1*a_2*c_2 - a_3*c_1)*t**3 + (a_1**2*c_2 - a_2*c_1)*t**2 + (-a_1*c_1 + 1)*t, t, domain='ZZ[a_1,a_2,a_3,a_4,a_5,a_6,a_7,a_8,a_9,c_1,c_2]')"
      ]
     },
     "execution_count": 20,
     "metadata": {},
     "output_type": "execute_result"
    }
   ],
   "source": [
    "r20 = sp.Poly(r8.subs(a_0, r12[1][a_0]), t)\n",
    "r20"
   ]
  },
  {
   "cell_type": "markdown",
   "metadata": {},
   "source": [
    "Create a system of equations: "
   ]
  },
  {
   "cell_type": "code",
   "execution_count": 21,
   "metadata": {},
   "outputs": [
    {
     "data": {
      "text/plain": [
       "[Eq(2*a_1*a_8*c_2 + 2*a_2*a_7*c_2 + 2*a_3*a_6*c_2 + 2*a_4*a_5*c_2 - a_9*c_1, 0),\n",
       " Eq(2*a_1*a_7*c_2 + 2*a_2*a_6*c_2 + 2*a_3*a_5*c_2 + a_4**2*c_2 - a_8*c_1, 0),\n",
       " Eq(2*a_1*a_6*c_2 + 2*a_2*a_5*c_2 + 2*a_3*a_4*c_2 - a_7*c_1, 0),\n",
       " Eq(2*a_1*a_5*c_2 + 2*a_2*a_4*c_2 + a_3**2*c_2 - a_6*c_1, 0),\n",
       " Eq(2*a_1*a_4*c_2 + 2*a_2*a_3*c_2 - a_5*c_1, 0),\n",
       " Eq(2*a_1*a_3*c_2 + a_2**2*c_2 - a_4*c_1, 0),\n",
       " Eq(2*a_1*a_2*c_2 - a_3*c_1, 0),\n",
       " Eq(a_1**2*c_2 - a_2*c_1, 0),\n",
       " Eq(-a_1*c_1 + 1, 0)]"
      ]
     },
     "execution_count": 21,
     "metadata": {},
     "output_type": "execute_result"
    }
   ],
   "source": [
    "r21 = [sp.Eq(r20.coeffs()[i], 0) for i in range(len(r20.coeffs()))]\n",
    "r21"
   ]
  },
  {
   "cell_type": "markdown",
   "metadata": {},
   "source": [
    "Solve the system of equations for $a_0, a_1, a_2, a_3, a_4, a_5, a_6, a_7, a_8$ and $a_9$:"
   ]
  },
  {
   "cell_type": "code",
   "execution_count": 22,
   "metadata": {},
   "outputs": [
    {
     "data": {
      "text/plain": [
       "(FiniteSet((a_0, 1/c_1, c_2/c_1**3, 2*c_2**2/c_1**5, 5*c_2**3/c_1**7, 14*c_2**4/c_1**9, 42*c_2**5/c_1**11, 132*c_2**6/c_1**13, 429*c_2**7/c_1**15, 1430*c_2**8/c_1**17)),\n",
       " [a_0,\n",
       "  1/c_1,\n",
       "  c_2/c_1**3,\n",
       "  2*c_2**2/c_1**5,\n",
       "  5*c_2**3/c_1**7,\n",
       "  14*c_2**4/c_1**9,\n",
       "  42*c_2**5/c_1**11,\n",
       "  132*c_2**6/c_1**13,\n",
       "  429*c_2**7/c_1**15,\n",
       "  1430*c_2**8/c_1**17])"
      ]
     },
     "execution_count": 22,
     "metadata": {},
     "output_type": "execute_result"
    }
   ],
   "source": [
    "values_to_solve =  [a_0, a_1, a_2, a_3, a_4, a_5, a_6, a_7, a_8, a_9]\n",
    "r22 = sp.nonlinsolve(r21, values_to_solve)\n",
    "solutions_as_list = list(list(r22)[0])\n",
    "r22, solutions_as_list"
   ]
  },
  {
   "cell_type": "markdown",
   "metadata": {},
   "source": [
    "Create equations for each value of $ a_0, a_1, a_2, a_3, a_4, a_5, a_6, a_7, a_8$, and  $a_9$:"
   ]
  },
  {
   "cell_type": "code",
   "execution_count": 23,
   "metadata": {},
   "outputs": [
    {
     "data": {
      "text/plain": [
       "[True,\n",
       " Eq(1/c_1, a_1),\n",
       " Eq(c_2/c_1**3, a_2),\n",
       " Eq(2*c_2**2/c_1**5, a_3),\n",
       " Eq(5*c_2**3/c_1**7, a_4),\n",
       " Eq(14*c_2**4/c_1**9, a_5),\n",
       " Eq(42*c_2**5/c_1**11, a_6),\n",
       " Eq(132*c_2**6/c_1**13, a_7),\n",
       " Eq(429*c_2**7/c_1**15, a_8),\n",
       " Eq(1430*c_2**8/c_1**17, a_9)]"
      ]
     },
     "execution_count": 23,
     "metadata": {},
     "output_type": "execute_result"
    }
   ],
   "source": [
    "r23 = [sp.Eq(solutions_as_list[i], values_to_solve[i]) for i in range(len(solutions_as_list))]\n",
    "r23"
   ]
  },
  {
   "cell_type": "markdown",
   "metadata": {},
   "source": [
    "Again recall that all these values, $a_0, a_1, a_2, a_3, a_4, a_5, a_6, a_7, a_8$, and $a_9$, are just a substitution for the $x$ in our general quadratic. So let's put these back into the original equation, so we can get a value for x:"
   ]
  },
  {
   "cell_type": "code",
   "execution_count": 24,
   "metadata": {},
   "outputs": [],
   "source": [
    "values_to_solve = values_to_solve[1:]\n",
    "solutions_as_list = solutions_as_list[1:]\n",
    "\n",
    "\n",
    "r24 = r2_5.subs(values_to_solve[0], solutions_as_list[0])\n",
    "r24 = r24.subs(values_to_solve[1], solutions_as_list[1])\n",
    "r24 = r24.subs(values_to_solve[2], solutions_as_list[2])\n",
    "r24 = r24.subs(values_to_solve[3], solutions_as_list[3])\n",
    "r24 = r24.subs(values_to_solve[4], solutions_as_list[4])\n",
    "r24 = r24.subs(values_to_solve[5], solutions_as_list[5])\n",
    "r24 = r24.subs(values_to_solve[6], solutions_as_list[6])\n",
    "r24 = r24.subs(values_to_solve[7], solutions_as_list[7])\n",
    "r24 = r24.subs(values_to_solve[8], solutions_as_list[8])\n",
    "r24 = r24.subs(a_0, r12[1][a_0])"
   ]
  },
  {
   "cell_type": "markdown",
   "metadata": {},
   "source": [
    "And here is our other value of x that comes from the second solution of $a_0$:"
   ]
  },
  {
   "cell_type": "code",
   "execution_count": 25,
   "metadata": {},
   "outputs": [
    {
     "data": {
      "text/latex": [
       "$\\displaystyle x = - \\frac{c_{1}}{c_{2}} + \\frac{t}{c_{1}} + \\frac{c_{2} t^{2}}{c_{1}^{3}} + \\frac{2 c_{2}^{2} t^{3}}{c_{1}^{5}} + \\frac{5 c_{2}^{3} t^{4}}{c_{1}^{7}} + \\frac{14 c_{2}^{4} t^{5}}{c_{1}^{9}} + \\frac{42 c_{2}^{5} t^{6}}{c_{1}^{11}} + \\frac{132 c_{2}^{6} t^{7}}{c_{1}^{13}} + \\frac{429 c_{2}^{7} t^{8}}{c_{1}^{15}} + \\frac{1430 c_{2}^{8} t^{9}}{c_{1}^{17}}$"
      ],
      "text/plain": [
       "Eq(x, -c_1/c_2 + t/c_1 + c_2*t**2/c_1**3 + 2*c_2**2*t**3/c_1**5 + 5*c_2**3*t**4/c_1**7 + 14*c_2**4*t**5/c_1**9 + 42*c_2**5*t**6/c_1**11 + 132*c_2**6*t**7/c_1**13 + 429*c_2**7*t**8/c_1**15 + 1430*c_2**8*t**9/c_1**17)"
      ]
     },
     "execution_count": 25,
     "metadata": {},
     "output_type": "execute_result"
    }
   ],
   "source": [
    "r24"
   ]
  },
  {
   "cell_type": "markdown",
   "metadata": {},
   "source": [
    "To make this as clear as possible, let's create some new variables, $x_1$ and $x_2$ and use them to hold our results:"
   ]
  },
  {
   "cell_type": "code",
   "execution_count": 26,
   "metadata": {},
   "outputs": [],
   "source": [
    "x_1, x_2 = sp.symbols('x_1 x_2')\n",
    "x_1 = sp.Eq(x_1, r17.rhs)\n",
    "x_2 = sp.Eq(x_2, r24.rhs)"
   ]
  },
  {
   "cell_type": "code",
   "execution_count": 27,
   "metadata": {},
   "outputs": [
    {
     "data": {
      "text/latex": [
       "$\\displaystyle x_{1} = - \\frac{t}{c_{1}} - \\frac{c_{2} t^{2}}{c_{1}^{3}} - \\frac{2 c_{2}^{2} t^{3}}{c_{1}^{5}} - \\frac{5 c_{2}^{3} t^{4}}{c_{1}^{7}} - \\frac{14 c_{2}^{4} t^{5}}{c_{1}^{9}} - \\frac{42 c_{2}^{5} t^{6}}{c_{1}^{11}} - \\frac{132 c_{2}^{6} t^{7}}{c_{1}^{13}} - \\frac{429 c_{2}^{7} t^{8}}{c_{1}^{15}} - \\frac{1430 c_{2}^{8} t^{9}}{c_{1}^{17}}$"
      ],
      "text/plain": [
       "Eq(x_1, -t/c_1 - c_2*t**2/c_1**3 - 2*c_2**2*t**3/c_1**5 - 5*c_2**3*t**4/c_1**7 - 14*c_2**4*t**5/c_1**9 - 42*c_2**5*t**6/c_1**11 - 132*c_2**6*t**7/c_1**13 - 429*c_2**7*t**8/c_1**15 - 1430*c_2**8*t**9/c_1**17)"
      ]
     },
     "execution_count": 27,
     "metadata": {},
     "output_type": "execute_result"
    }
   ],
   "source": [
    "x_1"
   ]
  },
  {
   "cell_type": "code",
   "execution_count": 28,
   "metadata": {},
   "outputs": [
    {
     "data": {
      "text/latex": [
       "$\\displaystyle x_{2} = - \\frac{c_{1}}{c_{2}} + \\frac{t}{c_{1}} + \\frac{c_{2} t^{2}}{c_{1}^{3}} + \\frac{2 c_{2}^{2} t^{3}}{c_{1}^{5}} + \\frac{5 c_{2}^{3} t^{4}}{c_{1}^{7}} + \\frac{14 c_{2}^{4} t^{5}}{c_{1}^{9}} + \\frac{42 c_{2}^{5} t^{6}}{c_{1}^{11}} + \\frac{132 c_{2}^{6} t^{7}}{c_{1}^{13}} + \\frac{429 c_{2}^{7} t^{8}}{c_{1}^{15}} + \\frac{1430 c_{2}^{8} t^{9}}{c_{1}^{17}}$"
      ],
      "text/plain": [
       "Eq(x_2, -c_1/c_2 + t/c_1 + c_2*t**2/c_1**3 + 2*c_2**2*t**3/c_1**5 + 5*c_2**3*t**4/c_1**7 + 14*c_2**4*t**5/c_1**9 + 42*c_2**5*t**6/c_1**11 + 132*c_2**6*t**7/c_1**13 + 429*c_2**7*t**8/c_1**15 + 1430*c_2**8*t**9/c_1**17)"
      ]
     },
     "execution_count": 28,
     "metadata": {},
     "output_type": "execute_result"
    }
   ],
   "source": [
    "x_2"
   ]
  },
  {
   "cell_type": "markdown",
   "metadata": {},
   "source": [
    "A final check: let's put these values of x back into our quadratic equation, $c_1x + c_2x^2 + t = 0$, expand things, have have a look: "
   ]
  },
  {
   "cell_type": "code",
   "execution_count": 29,
   "metadata": {},
   "outputs": [
    {
     "data": {
      "text/latex": [
       "$\\displaystyle \\frac{4862 c_{2}^{9} t^{10}}{c_{1}^{18}} + \\frac{7072 c_{2}^{10} t^{11}}{c_{1}^{20}} + \\frac{15470 c_{2}^{11} t^{12}}{c_{1}^{22}} + \\frac{37400 c_{2}^{12} t^{13}}{c_{1}^{24}} + \\frac{93500 c_{2}^{13} t^{14}}{c_{1}^{26}} + \\frac{233376 c_{2}^{14} t^{15}}{c_{1}^{28}} + \\frac{561561 c_{2}^{15} t^{16}}{c_{1}^{30}} + \\frac{1226940 c_{2}^{16} t^{17}}{c_{1}^{32}} + \\frac{2044900 c_{2}^{17} t^{18}}{c_{1}^{34}} = 0$"
      ],
      "text/plain": [
       "Eq(4862*c_2**9*t**10/c_1**18 + 7072*c_2**10*t**11/c_1**20 + 15470*c_2**11*t**12/c_1**22 + 37400*c_2**12*t**13/c_1**24 + 93500*c_2**13*t**14/c_1**26 + 233376*c_2**14*t**15/c_1**28 + 561561*c_2**15*t**16/c_1**30 + 1226940*c_2**16*t**17/c_1**32 + 2044900*c_2**17*t**18/c_1**34, 0)"
      ]
     },
     "execution_count": 29,
     "metadata": {},
     "output_type": "execute_result"
    }
   ],
   "source": [
    "r25 = r2.subs(x, x_1.rhs).expand()\n",
    "r25"
   ]
  },
  {
   "cell_type": "code",
   "execution_count": 30,
   "metadata": {},
   "outputs": [
    {
     "data": {
      "text/latex": [
       "$\\displaystyle \\frac{4862 c_{2}^{9} t^{10}}{c_{1}^{18}} + \\frac{7072 c_{2}^{10} t^{11}}{c_{1}^{20}} + \\frac{15470 c_{2}^{11} t^{12}}{c_{1}^{22}} + \\frac{37400 c_{2}^{12} t^{13}}{c_{1}^{24}} + \\frac{93500 c_{2}^{13} t^{14}}{c_{1}^{26}} + \\frac{233376 c_{2}^{14} t^{15}}{c_{1}^{28}} + \\frac{561561 c_{2}^{15} t^{16}}{c_{1}^{30}} + \\frac{1226940 c_{2}^{16} t^{17}}{c_{1}^{32}} + \\frac{2044900 c_{2}^{17} t^{18}}{c_{1}^{34}} = 0$"
      ],
      "text/plain": [
       "Eq(4862*c_2**9*t**10/c_1**18 + 7072*c_2**10*t**11/c_1**20 + 15470*c_2**11*t**12/c_1**22 + 37400*c_2**12*t**13/c_1**24 + 93500*c_2**13*t**14/c_1**26 + 233376*c_2**14*t**15/c_1**28 + 561561*c_2**15*t**16/c_1**30 + 1226940*c_2**16*t**17/c_1**32 + 2044900*c_2**17*t**18/c_1**34, 0)"
      ]
     },
     "execution_count": 30,
     "metadata": {},
     "output_type": "execute_result"
    }
   ],
   "source": [
    "r26 = r2.subs(x, x_2.rhs).expand()\n",
    "r26"
   ]
  },
  {
   "cell_type": "markdown",
   "metadata": {},
   "source": [
    "At this point, we can see that, up to degree 10 at least of our power series,  $x_1$ and $x_2$ really are solutions to the original quadratic, assuming that $c_0=0$ and $t^{10} = 0$. What seems to have happened here is that we have solved the general quadratic in a way that doesn't involve radicals (with some caveats in place of course). And we are also have the beginings of some theorems which may start to emerge. These are: \n",
    "\n",
    "- A theorem to provide solutions to a general quadratic equation up to degree 9 of the subsituted power series\n",
    "- A theorem that can utilise a generator function Catalan numbers to provide these solution, eg:"
   ]
  },
  {
   "cell_type": "markdown",
   "metadata": {},
   "source": [
    "  $$ C(n) = \\frac{2n!}{n!(n+1)!} $$\n",
    "  \n",
    "  But it seems to be early days yet! Much more work to do to keep developing this, or to undertand how we might use this to help us understand higher order equations (such as cubics). \n",
    "\n",
    "And that's the end of part 2"
   ]
  },
  {
   "cell_type": "code",
   "execution_count": null,
   "metadata": {},
   "outputs": [],
   "source": []
  }
 ],
 "metadata": {
  "kernelspec": {
   "display_name": "Python 3",
   "language": "python",
   "name": "python3"
  },
  "language_info": {
   "codemirror_mode": {
    "name": "ipython",
    "version": 3
   },
   "file_extension": ".py",
   "mimetype": "text/x-python",
   "name": "python",
   "nbconvert_exporter": "python",
   "pygments_lexer": "ipython3",
   "version": "3.9.2"
  }
 },
 "nbformat": 4,
 "nbformat_minor": 4
}
