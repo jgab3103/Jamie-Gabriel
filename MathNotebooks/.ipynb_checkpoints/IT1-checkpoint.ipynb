{
 "cells": [
  {
   "cell_type": "markdown",
   "id": "cd785232-2f3d-43dc-94af-0076a1ab2517",
   "metadata": {},
   "source": [
    "<hr/>\n",
    "\n",
    "<b>Notebook Summary</b>\n",
    "\n",
    "These notes are based on David Mackay's text <a href=\"https://www.google.com/url?sa=t&rct=j&q=&esrc=s&source=web&cd=&ved=2ahUKEwiAzIzrsrD1AhVkSGwGHT17DiQQFnoECAcQAQ&url=https%3A%2F%2Fwww.inference.org.uk%2Fitprnn%2Fbook.pdf&usg=AOvVaw2U9u5mdeY0yzjLEbxfO3LW\">Information Theory, Inference and Learning Algorithms </a> along with his lecture series found here. \n",
    "    \n",
    "They notes are are being hosted at my website <a href=\"https://www.ladatavita.com/\">ladatavita.com</a> and the Jupyter notebook is also available from my Github repo at: <a href=\"https://github.com/jgab3103/Jamie-Gabriel/tree/main/MathNotebooks\">https://github.com/jgab3103/Jamie-Gabriel/tree/main/MathNotebooks</a>\n",
    "\n",
    "The purpose of this notebook is to cover the first part of Chapter 1 of the text which contains from review of key concepts \n",
    "\n",
    "<hr/>"
   ]
  },
  {
   "cell_type": "code",
   "execution_count": 2,
   "id": "8f5dc6a8-8a04-42ed-b738-229121afe4e6",
   "metadata": {},
   "outputs": [],
   "source": [
    "import pyvis.network as nt\n",
    "import numpy as np\n",
    "import sympy as sp\n",
    "from IPython.display import HTML\n",
    "import ipywidgets as widgets\n",
    "import matplotlib as mpl\n",
    "from mpl_toolkits.mplot3d import Axes3D\n",
    "import matplotlib.pyplot as plt\n",
    "mpl.rcParams['legend.fontsize'] = 10\n",
    "import pandas as pd\n",
    "import networkx as nx\n",
    "import string\n",
    "import random"
   ]
  },
  {
   "cell_type": "markdown",
   "id": "30f1ee09-98cd-4106-bfbb-8a7b85491408",
   "metadata": {},
   "source": [
    "<hr/>\n",
    "\n",
    "<b>Aim</b>: Introduce the binomial distribution and Stirling's approximation that will become important \n",
    "\n",
    "<hr/>"
   ]
  },
  {
   "cell_type": "code",
   "execution_count": null,
   "id": "fce3c58d-bcaa-428b-8c4c-bfbf8d0b073c",
   "metadata": {},
   "outputs": [],
   "source": []
  }
 ],
 "metadata": {
  "kernelspec": {
   "display_name": "Python 3",
   "language": "python",
   "name": "python3"
  },
  "language_info": {
   "codemirror_mode": {
    "name": "ipython",
    "version": 3
   },
   "file_extension": ".py",
   "mimetype": "text/x-python",
   "name": "python",
   "nbconvert_exporter": "python",
   "pygments_lexer": "ipython3",
   "version": "3.9.2"
  }
 },
 "nbformat": 4,
 "nbformat_minor": 5
}
