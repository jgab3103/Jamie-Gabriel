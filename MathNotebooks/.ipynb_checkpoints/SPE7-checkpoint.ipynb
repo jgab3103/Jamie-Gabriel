{
 "cells": [
  {
   "cell_type": "code",
   "execution_count": 2,
   "metadata": {},
   "outputs": [],
   "source": [
    "import numpy as np\n",
    "import sympy as sp\n",
    "import pickle\n",
    "from IPython.display import HTML\n",
    "import ipywidgets as widgets\n",
    "import matplotlib as mpl\n",
    "from mpl_toolkits.mplot3d import Axes3D\n",
    "import matplotlib.pyplot as plt\n",
    "mpl.rcParams['legend.fontsize'] = 10\n",
    "import pandas as pd\n",
    "import itertools\n",
    "\n",
    "# function to print latex\n",
    "def renderListToLatex(e):\n",
    "    latex_rendering = []\n",
    "\n",
    "    for i in range(len(e)):\n",
    "        latex_rendering.append(\"$$\" + sp.latex(e[i]) + \"$$<br/>\")\n",
    "    \n",
    "    return(HTML(\"\".join(latex_rendering[0:])))"
   ]
  },
  {
   "cell_type": "markdown",
   "metadata": {},
   "source": [
    "### Solving Polynomial Equations (7)"
   ]
  },
  {
   "cell_type": "markdown",
   "metadata": {},
   "source": [
    "<b>Introduction</b>\n",
    "\n",
    "Conjecture 2 posited a general solution to one of the roots of a general cubic equation:\n",
    "\n",
    "$$(-1)^{c + 1} \\frac{(k - 1)!}{a!b!c!} \\frac{c_0^a c_2^b c_3^c}{c_1^k}$$\n",
    "\n",
    "\n",
    "\n",
    "\n",
    "Conjecture 3 posted a general solution to one of the roots of a general quartic equation:  \n",
    "\n",
    "$$(-1)^{c + 1} \\frac{(k - 1)!}{a!b!c!d!} \\frac{c_0^a c_2^b c_3^c c_4^d}{c_1^k}$$\n",
    "\n",
    "Considered together, both of these conjectures 2 and 3 suggest obtaining a solution to the root of a general polynomial equation could be extended to higher degrees: In the case of the general quartic, a formula was\n",
    "\n",
    "$$(-1)^{c + 1} \\frac{(k - 1)!}{a!b!c!d!...} \\frac{c_0^a c_2^b c_3^c c_4^d...}{c_1^k}$$\n",
    "\n",
    "\n",
    "<i>Goal</i>: Revisit the cubic case to gain a deeper understanding\n",
    "\n",
    "\n"
   ]
  },
  {
   "cell_type": "markdown",
   "metadata": {},
   "source": [
    "Create needed variables"
   ]
  },
  {
   "cell_type": "code",
   "execution_count": 3,
   "metadata": {},
   "outputs": [],
   "source": [
    "c_0, c_1, c_2, c_3, c_4, x, t, a_0, a_1, a_2, a_3, a_4, a_5, a_6, a_7, a_8, a_9, x_1, x_2, s_1, s_2 = sp.symbols('c_0, c_1, c_2, c_3, c_4, x, t, a_0, a_1, a_2, a_3, a_4, a_5, a_6, a_7, a_8, a_9, x_1, x_2, s_1, s_2')"
   ]
  },
  {
   "cell_type": "markdown",
   "metadata": {},
   "source": [
    "Let g1 be the solution of one of the roots of a general cubic polynomial, imported from Solving Polynomials (3)."
   ]
  },
  {
   "cell_type": "code",
   "execution_count": 4,
   "metadata": {},
   "outputs": [
    {
     "data": {
      "text/latex": [
       "$\\displaystyle x = \\frac{12 c_{0}^{7} c_{3}^{3}}{c_{1}^{10}} - \\frac{180 c_{0}^{7} c_{2}^{2} c_{3}^{2}}{c_{1}^{11}} + \\frac{330 c_{0}^{7} c_{2}^{4} c_{3}}{c_{1}^{12}} - \\frac{132 c_{0}^{7} c_{2}^{6}}{c_{1}^{13}} - \\frac{28 c_{0}^{6} c_{2} c_{3}^{2}}{c_{1}^{9}} + \\frac{84 c_{0}^{6} c_{2}^{3} c_{3}}{c_{1}^{10}} - \\frac{42 c_{0}^{6} c_{2}^{5}}{c_{1}^{11}} - \\frac{3 c_{0}^{5} c_{3}^{2}}{c_{1}^{7}} + \\frac{21 c_{0}^{5} c_{2}^{2} c_{3}}{c_{1}^{8}} - \\frac{14 c_{0}^{5} c_{2}^{4}}{c_{1}^{9}} + \\frac{5 c_{0}^{4} c_{2} c_{3}}{c_{1}^{6}} - \\frac{5 c_{0}^{4} c_{2}^{3}}{c_{1}^{7}} + \\frac{c_{0}^{3} c_{3}}{c_{1}^{4}} - \\frac{2 c_{0}^{3} c_{2}^{2}}{c_{1}^{5}} - \\frac{c_{0}^{2} c_{2}}{c_{1}^{3}} - \\frac{c_{0}}{c_{1}}$"
      ],
      "text/plain": [
       "Eq(x, 12*c_0**7*c_3**3/c_1**10 - 180*c_0**7*c_2**2*c_3**2/c_1**11 + 330*c_0**7*c_2**4*c_3/c_1**12 - 132*c_0**7*c_2**6/c_1**13 - 28*c_0**6*c_2*c_3**2/c_1**9 + 84*c_0**6*c_2**3*c_3/c_1**10 - 42*c_0**6*c_2**5/c_1**11 - 3*c_0**5*c_3**2/c_1**7 + 21*c_0**5*c_2**2*c_3/c_1**8 - 14*c_0**5*c_2**4/c_1**9 + 5*c_0**4*c_2*c_3/c_1**6 - 5*c_0**4*c_2**3/c_1**7 + c_0**3*c_3/c_1**4 - 2*c_0**3*c_2**2/c_1**5 - c_0**2*c_2/c_1**3 - c_0/c_1)"
      ]
     },
     "execution_count": 4,
     "metadata": {},
     "output_type": "execute_result"
    }
   ],
   "source": [
    "with open('./SharedOutputs/SPE3.pickle', 'rb') as input:\n",
    "    imported_outputs_from_another_notebook = pickle.load(input)\n",
    "    \n",
    "g1 = imported_outputs_from_another_notebook['solutionOfGeneralCubicInTermsOfx']\n",
    "g1 = sp.expand(g1.subs({t:c_0, a_0:0}))\n",
    "g1"
   ]
  },
  {
   "cell_type": "markdown",
   "metadata": {},
   "source": [
    "Recall the original form of the cubic equation: $ c_{1} x + c_{2} x^{2} + c_{3} x^{3} + t = 0 $ and that g1 is a possible solution of this general cubic equation."
   ]
  },
  {
   "cell_type": "markdown",
   "metadata": {},
   "source": [
    "<b>Summary</b>\n",
    "\n",
    "To summarise the cubic situation so far: the each term in the solution for $x$ in the general cubic has power of $c_3$ in the denominatr, and powers of $c_0, c_2$ and $c_3$ in the numerator. The sign of the term appears to depend on the parity of the power of $c_3$ that appears (even parity means a negative sign). The terms are all balanced between numerator and denominator, that is, having a total degree of 0. (This is a reflection that the solution should not depend on a uniform rescaling of coefficients). All terms have a total index degree -1. The general term has the form: \n",
    "\n",
    "$$(-1)^{c + 1} \\frac{(k - 1)!}{a!b!c!} \\frac{c_0^a c_2^b c_3^c}{c_1^k}$$\n",
    "\n"
   ]
  },
  {
   "cell_type": "markdown",
   "metadata": {},
   "source": [
    "To make the nomenclature simpler rewrite this  in a new uniform manner. Call this formula $S$.\n",
    "\n",
    "\n",
    "\n",
    "$$S(m_0, m_1, m_2, m_3)  \\equiv (-1)^{m_3 + 1} \\frac{(m_1 - 1)!}{m_0!m_2!m_3!} \\frac{c_0^{m_0} c_2^{m_2} c_3^{m_3} }{c_1^{m_1}}$$"
   ]
  },
  {
   "cell_type": "markdown",
   "metadata": {},
   "source": [
    "Note that each term in the solution of the general cubic meets two conditions, one related to the value of the total degree and one related to the value the total index degree. Using the updated variable names in $S$ these conditions are: \n",
    "\n",
    "$$ m_0 + m_2 + m_3 - m_1 = 0 $$\n",
    "$$ 2 m_2 + 3 m_3 - m_1 = -1 $$\n",
    "\n",
    "Note that these conditions can be viewed as 2 equations in 4 unknowns (i.e. a system of equations with 2 degrees of freedom). This allows the system to be rewritten in terms of any two of the four variabbles $ m_0, m_2, m_3$ and $m_1 $"
   ]
  },
  {
   "cell_type": "markdown",
   "metadata": {},
   "source": [
    "Let g2 and g3 be a system of equations based on constraints of the total degree and total index degree of the solution of the general cubic"
   ]
  },
  {
   "cell_type": "code",
   "execution_count": 6,
   "metadata": {},
   "outputs": [],
   "source": [
    "m_0, m_1, m_2, m_3 = sp.symbols('m_0, m_1, m_2, m_3')\n",
    "g2 = sp.Eq(m_0 + m_2 + m_3 - m_1, 0)\n",
    "g3 = sp.Eq(2 * m_2 + 3 * m_3 - m_1, -1)"
   ]
  },
  {
   "cell_type": "markdown",
   "metadata": {},
   "source": [
    "Let g4 be a solution to the system for $m_2$ and $m_3$."
   ]
  },
  {
   "cell_type": "code",
   "execution_count": 41,
   "metadata": {},
   "outputs": [
    {
     "data": {
      "text/latex": [
       "$\\displaystyle \\left\\{\\left( - 3 m_{0} + 2 m_{1} + 1, \\  2 m_{0} - m_{1} - 1\\right)\\right\\}$"
      ],
      "text/plain": [
       "FiniteSet((-3*m_0 + 2*m_1 + 1, 2*m_0 - m_1 - 1))"
      ]
     },
     "execution_count": 41,
     "metadata": {},
     "output_type": "execute_result"
    }
   ],
   "source": [
    "g4 = sp.linsolve([g2, g3], [m_2, m_3])\n",
    "g4"
   ]
  },
  {
   "cell_type": "markdown",
   "metadata": {},
   "source": [
    "Note that if these solutions of $m_2$ and $m_3$ were to be subsituted into to $S$ reducing number of parameters of $S$, this would introduce negative signs with factorials that will create complexity. It would be better to choose a solution that has negatives to avoid these problems."
   ]
  },
  {
   "cell_type": "markdown",
   "metadata": {},
   "source": [
    "Let g5 be a solution to $m_0$ and $m_1$. "
   ]
  },
  {
   "cell_type": "code",
   "execution_count": 46,
   "metadata": {},
   "outputs": [
    {
     "data": {
      "text/latex": [
       "$\\displaystyle \\left\\{\\left( m_{2} + 2 m_{3} + 1, \\  2 m_{2} + 3 m_{3} + 1\\right)\\right\\}$"
      ],
      "text/plain": [
       "FiniteSet((m_2 + 2*m_3 + 1, 2*m_2 + 3*m_3 + 1))"
      ]
     },
     "execution_count": 46,
     "metadata": {},
     "output_type": "execute_result"
    }
   ],
   "source": [
    "g5 = sp.linsolve([g2, g3], [m_0, m_1])\n",
    "g5"
   ]
  },
  {
   "cell_type": "markdown",
   "metadata": {},
   "source": [
    "Note these solutions involve only postive combinations of parameters. Subsitute these solutions into $S$ and create a new function, $C$ that is equivalent using only $m_2$ and $m_3$.\n",
    "\n",
    "$$C(m_2, m_3)  \\equiv(-1)^{m_3 + 1} \\frac{(2 m_{2} + 3 m_{3})!}{(1 + m_{2} + 2 m_{3})!m_2!m_3!} \\frac{c_0^{1 + m_{2} + 2 m_{3}} c_2^{m_2} c_3^{m_3} }{c_1^{2 m_{2} + 3 m_{3} + 1}}$$"
   ]
  },
  {
   "cell_type": "markdown",
   "metadata": {},
   "source": [
    "To generate values for this function, note it can also be written as: \n",
    "\n",
    "$$ x = \\Sigma_{m_2 = 0}^+  \\Sigma_{m_3 = 0}^+ C(m_2, m3) $$"
   ]
  },
  {
   "cell_type": "markdown",
   "metadata": {},
   "source": [
    "Evaulate this formula and store in an $n x n$ matrix. "
   ]
  },
  {
   "cell_type": "code",
   "execution_count": 107,
   "metadata": {},
   "outputs": [],
   "source": [
    "def C(m2, m3, returnCoefficientsOnly = False, returnCoefficientsOnlyWithoutSigns = False):\n",
    "    c_0, c_1, c_2, c_3 = sp.symbols('c_0, c_1, c_2, c_3')\n",
    "    s1 = (-1)**(m3 + 1)\n",
    "    s2 = sp.factorial(2 * m2 + 3 * m3)\n",
    "    s3 = sp.factorial(1 + m2 + 2 * m3) * sp.factorial(m2) * sp.factorial(m3)\n",
    "    s4 = c_0**(1 + m2 + 2 * m3) * c_2**m2 *c_3**m3\n",
    "    s5 = c_1**(2 * m2 + 3 * m3 + 1)\n",
    "    \n",
    "    if returnCoefficientsOnly:\n",
    "        s6 = s1 * (s2 / s3)\n",
    "    elif returnCoefficientsOnlyWithoutSigns:\n",
    "        s6 = (s2 / s3)\n",
    "    else:\n",
    "        s6 = s1 * (s2 / s3) * (s4 / s5)\n",
    "    return(s6)"
   ]
  },
  {
   "cell_type": "markdown",
   "metadata": {},
   "source": [
    "Let g6 be a value of $n$ that can determine the matrix size"
   ]
  },
  {
   "cell_type": "code",
   "execution_count": 108,
   "metadata": {},
   "outputs": [],
   "source": [
    "g6 = np.arange(8)"
   ]
  },
  {
   "cell_type": "markdown",
   "metadata": {},
   "source": [
    "Let g8 be a matrix of values."
   ]
  },
  {
   "cell_type": "code",
   "execution_count": 109,
   "metadata": {},
   "outputs": [
    {
     "data": {
      "text/latex": [
       "$\\displaystyle \\left[\\begin{matrix}- \\frac{c_{0}}{c_{1}} & \\frac{c_{0}^{3} c_{3}}{c_{1}^{4}} & - \\frac{3 c_{0}^{5} c_{3}^{2}}{c_{1}^{7}} & \\frac{12 c_{0}^{7} c_{3}^{3}}{c_{1}^{10}} & - \\frac{55 c_{0}^{9} c_{3}^{4}}{c_{1}^{13}} & \\frac{273 c_{0}^{11} c_{3}^{5}}{c_{1}^{16}} & - \\frac{1428 c_{0}^{13} c_{3}^{6}}{c_{1}^{19}} & \\frac{7752 c_{0}^{15} c_{3}^{7}}{c_{1}^{22}}\\\\- \\frac{c_{0}^{2} c_{2}}{c_{1}^{3}} & \\frac{5 c_{0}^{4} c_{2} c_{3}}{c_{1}^{6}} & - \\frac{28 c_{0}^{6} c_{2} c_{3}^{2}}{c_{1}^{9}} & \\frac{165 c_{0}^{8} c_{2} c_{3}^{3}}{c_{1}^{12}} & - \\frac{1001 c_{0}^{10} c_{2} c_{3}^{4}}{c_{1}^{15}} & \\frac{6188 c_{0}^{12} c_{2} c_{3}^{5}}{c_{1}^{18}} & - \\frac{38760 c_{0}^{14} c_{2} c_{3}^{6}}{c_{1}^{21}} & \\frac{245157 c_{0}^{16} c_{2} c_{3}^{7}}{c_{1}^{24}}\\\\- \\frac{2 c_{0}^{3} c_{2}^{2}}{c_{1}^{5}} & \\frac{21 c_{0}^{5} c_{2}^{2} c_{3}}{c_{1}^{8}} & - \\frac{180 c_{0}^{7} c_{2}^{2} c_{3}^{2}}{c_{1}^{11}} & \\frac{1430 c_{0}^{9} c_{2}^{2} c_{3}^{3}}{c_{1}^{14}} & - \\frac{10920 c_{0}^{11} c_{2}^{2} c_{3}^{4}}{c_{1}^{17}} & \\frac{81396 c_{0}^{13} c_{2}^{2} c_{3}^{5}}{c_{1}^{20}} & - \\frac{596904 c_{0}^{15} c_{2}^{2} c_{3}^{6}}{c_{1}^{23}} & \\frac{4326300 c_{0}^{17} c_{2}^{2} c_{3}^{7}}{c_{1}^{26}}\\\\- \\frac{5 c_{0}^{4} c_{2}^{3}}{c_{1}^{7}} & \\frac{84 c_{0}^{6} c_{2}^{3} c_{3}}{c_{1}^{10}} & - \\frac{990 c_{0}^{8} c_{2}^{3} c_{3}^{2}}{c_{1}^{13}} & \\frac{10010 c_{0}^{10} c_{2}^{3} c_{3}^{3}}{c_{1}^{16}} & - \\frac{92820 c_{0}^{12} c_{2}^{3} c_{3}^{4}}{c_{1}^{19}} & \\frac{813960 c_{0}^{14} c_{2}^{3} c_{3}^{5}}{c_{1}^{22}} & - \\frac{6864396 c_{0}^{16} c_{2}^{3} c_{3}^{6}}{c_{1}^{25}} & \\frac{56241900 c_{0}^{18} c_{2}^{3} c_{3}^{7}}{c_{1}^{28}}\\\\- \\frac{14 c_{0}^{5} c_{2}^{4}}{c_{1}^{9}} & \\frac{330 c_{0}^{7} c_{2}^{4} c_{3}}{c_{1}^{12}} & - \\frac{5005 c_{0}^{9} c_{2}^{4} c_{3}^{2}}{c_{1}^{15}} & \\frac{61880 c_{0}^{11} c_{2}^{4} c_{3}^{3}}{c_{1}^{18}} & - \\frac{678300 c_{0}^{13} c_{2}^{4} c_{3}^{4}}{c_{1}^{21}} & \\frac{6864396 c_{0}^{15} c_{2}^{4} c_{3}^{5}}{c_{1}^{24}} & - \\frac{65615550 c_{0}^{17} c_{2}^{4} c_{3}^{6}}{c_{1}^{27}} & \\frac{600900300 c_{0}^{19} c_{2}^{4} c_{3}^{7}}{c_{1}^{30}}\\\\- \\frac{42 c_{0}^{6} c_{2}^{5}}{c_{1}^{11}} & \\frac{1287 c_{0}^{8} c_{2}^{5} c_{3}}{c_{1}^{14}} & - \\frac{24024 c_{0}^{10} c_{2}^{5} c_{3}^{2}}{c_{1}^{17}} & \\frac{352716 c_{0}^{12} c_{2}^{5} c_{3}^{3}}{c_{1}^{20}} & - \\frac{4476780 c_{0}^{14} c_{2}^{5} c_{3}^{4}}{c_{1}^{23}} & \\frac{51482970 c_{0}^{16} c_{2}^{5} c_{3}^{5}}{c_{1}^{26}} & - \\frac{551170620 c_{0}^{18} c_{2}^{5} c_{3}^{6}}{c_{1}^{29}} & \\frac{5588372790 c_{0}^{20} c_{2}^{5} c_{3}^{7}}{c_{1}^{32}}\\\\- \\frac{132 c_{0}^{7} c_{2}^{6}}{c_{1}^{13}} & \\frac{5005 c_{0}^{9} c_{2}^{6} c_{3}}{c_{1}^{16}} & - \\frac{111384 c_{0}^{11} c_{2}^{6} c_{3}^{2}}{c_{1}^{19}} & \\frac{1899240 c_{0}^{13} c_{2}^{6} c_{3}^{3}}{c_{1}^{22}} & - \\frac{27457584 c_{0}^{15} c_{2}^{6} c_{3}^{4}}{c_{1}^{25}} & \\frac{354323970 c_{0}^{17} c_{2}^{6} c_{3}^{5}}{c_{1}^{28}} & - \\frac{4206302100 c_{0}^{19} c_{2}^{6} c_{3}^{6}}{c_{1}^{31}} & \\frac{46835886240 c_{0}^{21} c_{2}^{6} c_{3}^{7}}{c_{1}^{34}}\\\\- \\frac{429 c_{0}^{8} c_{2}^{7}}{c_{1}^{15}} & \\frac{19448 c_{0}^{10} c_{2}^{7} c_{3}}{c_{1}^{18}} & - \\frac{503880 c_{0}^{12} c_{2}^{7} c_{3}^{2}}{c_{1}^{21}} & \\frac{9806280 c_{0}^{14} c_{2}^{7} c_{3}^{3}}{c_{1}^{24}} & - \\frac{159352050 c_{0}^{16} c_{2}^{7} c_{3}^{4}}{c_{1}^{27}} & \\frac{2283421140 c_{0}^{18} c_{2}^{7} c_{3}^{5}}{c_{1}^{30}} & - \\frac{29804654880 c_{0}^{20} c_{2}^{7} c_{3}^{6}}{c_{1}^{33}} & \\frac{361913666400 c_{0}^{22} c_{2}^{7} c_{3}^{7}}{c_{1}^{36}}\\end{matrix}\\right]$"
      ],
      "text/plain": [
       "Matrix([\n",
       "[                  -c_0/c_1,                c_0**3*c_3/c_1**4,               -3*c_0**5*c_3**2/c_1**7,              12*c_0**7*c_3**3/c_1**10,                -55*c_0**9*c_3**4/c_1**13,               273*c_0**11*c_3**5/c_1**16,               -1428*c_0**13*c_3**6/c_1**19,                7752*c_0**15*c_3**7/c_1**22],\n",
       "[        -c_0**2*c_2/c_1**3,          5*c_0**4*c_2*c_3/c_1**6,          -28*c_0**6*c_2*c_3**2/c_1**9,         165*c_0**8*c_2*c_3**3/c_1**12,         -1001*c_0**10*c_2*c_3**4/c_1**15,          6188*c_0**12*c_2*c_3**5/c_1**18,          -38760*c_0**14*c_2*c_3**6/c_1**21,          245157*c_0**16*c_2*c_3**7/c_1**24],\n",
       "[   -2*c_0**3*c_2**2/c_1**5,      21*c_0**5*c_2**2*c_3/c_1**8,     -180*c_0**7*c_2**2*c_3**2/c_1**11,     1430*c_0**9*c_2**2*c_3**3/c_1**14,     -10920*c_0**11*c_2**2*c_3**4/c_1**17,      81396*c_0**13*c_2**2*c_3**5/c_1**20,      -596904*c_0**15*c_2**2*c_3**6/c_1**23,      4326300*c_0**17*c_2**2*c_3**7/c_1**26],\n",
       "[   -5*c_0**4*c_2**3/c_1**7,     84*c_0**6*c_2**3*c_3/c_1**10,     -990*c_0**8*c_2**3*c_3**2/c_1**13,   10010*c_0**10*c_2**3*c_3**3/c_1**16,     -92820*c_0**12*c_2**3*c_3**4/c_1**19,     813960*c_0**14*c_2**3*c_3**5/c_1**22,     -6864396*c_0**16*c_2**3*c_3**6/c_1**25,     56241900*c_0**18*c_2**3*c_3**7/c_1**28],\n",
       "[  -14*c_0**5*c_2**4/c_1**9,    330*c_0**7*c_2**4*c_3/c_1**12,    -5005*c_0**9*c_2**4*c_3**2/c_1**15,   61880*c_0**11*c_2**4*c_3**3/c_1**18,    -678300*c_0**13*c_2**4*c_3**4/c_1**21,    6864396*c_0**15*c_2**4*c_3**5/c_1**24,    -65615550*c_0**17*c_2**4*c_3**6/c_1**27,    600900300*c_0**19*c_2**4*c_3**7/c_1**30],\n",
       "[ -42*c_0**6*c_2**5/c_1**11,   1287*c_0**8*c_2**5*c_3/c_1**14,  -24024*c_0**10*c_2**5*c_3**2/c_1**17,  352716*c_0**12*c_2**5*c_3**3/c_1**20,   -4476780*c_0**14*c_2**5*c_3**4/c_1**23,   51482970*c_0**16*c_2**5*c_3**5/c_1**26,   -551170620*c_0**18*c_2**5*c_3**6/c_1**29,   5588372790*c_0**20*c_2**5*c_3**7/c_1**32],\n",
       "[-132*c_0**7*c_2**6/c_1**13,   5005*c_0**9*c_2**6*c_3/c_1**16, -111384*c_0**11*c_2**6*c_3**2/c_1**19, 1899240*c_0**13*c_2**6*c_3**3/c_1**22,  -27457584*c_0**15*c_2**6*c_3**4/c_1**25,  354323970*c_0**17*c_2**6*c_3**5/c_1**28,  -4206302100*c_0**19*c_2**6*c_3**6/c_1**31,  46835886240*c_0**21*c_2**6*c_3**7/c_1**34],\n",
       "[-429*c_0**8*c_2**7/c_1**15, 19448*c_0**10*c_2**7*c_3/c_1**18, -503880*c_0**12*c_2**7*c_3**2/c_1**21, 9806280*c_0**14*c_2**7*c_3**3/c_1**24, -159352050*c_0**16*c_2**7*c_3**4/c_1**27, 2283421140*c_0**18*c_2**7*c_3**5/c_1**30, -29804654880*c_0**20*c_2**7*c_3**6/c_1**33, 361913666400*c_0**22*c_2**7*c_3**7/c_1**36]])"
      ]
     },
     "execution_count": 109,
     "metadata": {},
     "output_type": "execute_result"
    }
   ],
   "source": [
    "g7 = [[C(j, i) for i in g6] for j in g6]\n",
    "g8 = sp.Matrix(g7)\n",
    "g8"
   ]
  },
  {
   "cell_type": "markdown",
   "metadata": {},
   "source": [
    "Note it is possible recover the values as a sum."
   ]
  },
  {
   "cell_type": "code",
   "execution_count": 110,
   "metadata": {},
   "outputs": [
    {
     "data": {
      "text/latex": [
       "$\\displaystyle \\frac{361913666400 c_{0}^{22} c_{2}^{7} c_{3}^{7}}{c_{1}^{36}} + \\frac{46835886240 c_{0}^{21} c_{2}^{6} c_{3}^{7}}{c_{1}^{34}} + \\frac{5588372790 c_{0}^{20} c_{2}^{5} c_{3}^{7}}{c_{1}^{32}} - \\frac{29804654880 c_{0}^{20} c_{2}^{7} c_{3}^{6}}{c_{1}^{33}} + \\frac{600900300 c_{0}^{19} c_{2}^{4} c_{3}^{7}}{c_{1}^{30}} - \\frac{4206302100 c_{0}^{19} c_{2}^{6} c_{3}^{6}}{c_{1}^{31}} + \\frac{56241900 c_{0}^{18} c_{2}^{3} c_{3}^{7}}{c_{1}^{28}} - \\frac{551170620 c_{0}^{18} c_{2}^{5} c_{3}^{6}}{c_{1}^{29}} + \\frac{2283421140 c_{0}^{18} c_{2}^{7} c_{3}^{5}}{c_{1}^{30}} + \\frac{4326300 c_{0}^{17} c_{2}^{2} c_{3}^{7}}{c_{1}^{26}} - \\frac{65615550 c_{0}^{17} c_{2}^{4} c_{3}^{6}}{c_{1}^{27}} + \\frac{354323970 c_{0}^{17} c_{2}^{6} c_{3}^{5}}{c_{1}^{28}} + \\frac{245157 c_{0}^{16} c_{2} c_{3}^{7}}{c_{1}^{24}} - \\frac{6864396 c_{0}^{16} c_{2}^{3} c_{3}^{6}}{c_{1}^{25}} + \\frac{51482970 c_{0}^{16} c_{2}^{5} c_{3}^{5}}{c_{1}^{26}} - \\frac{159352050 c_{0}^{16} c_{2}^{7} c_{3}^{4}}{c_{1}^{27}} + \\frac{7752 c_{0}^{15} c_{3}^{7}}{c_{1}^{22}} - \\frac{596904 c_{0}^{15} c_{2}^{2} c_{3}^{6}}{c_{1}^{23}} + \\frac{6864396 c_{0}^{15} c_{2}^{4} c_{3}^{5}}{c_{1}^{24}} - \\frac{27457584 c_{0}^{15} c_{2}^{6} c_{3}^{4}}{c_{1}^{25}} - \\frac{38760 c_{0}^{14} c_{2} c_{3}^{6}}{c_{1}^{21}} + \\frac{813960 c_{0}^{14} c_{2}^{3} c_{3}^{5}}{c_{1}^{22}} - \\frac{4476780 c_{0}^{14} c_{2}^{5} c_{3}^{4}}{c_{1}^{23}} + \\frac{9806280 c_{0}^{14} c_{2}^{7} c_{3}^{3}}{c_{1}^{24}} - \\frac{1428 c_{0}^{13} c_{3}^{6}}{c_{1}^{19}} + \\frac{81396 c_{0}^{13} c_{2}^{2} c_{3}^{5}}{c_{1}^{20}} - \\frac{678300 c_{0}^{13} c_{2}^{4} c_{3}^{4}}{c_{1}^{21}} + \\frac{1899240 c_{0}^{13} c_{2}^{6} c_{3}^{3}}{c_{1}^{22}} + \\frac{6188 c_{0}^{12} c_{2} c_{3}^{5}}{c_{1}^{18}} - \\frac{92820 c_{0}^{12} c_{2}^{3} c_{3}^{4}}{c_{1}^{19}} + \\frac{352716 c_{0}^{12} c_{2}^{5} c_{3}^{3}}{c_{1}^{20}} - \\frac{503880 c_{0}^{12} c_{2}^{7} c_{3}^{2}}{c_{1}^{21}} + \\frac{273 c_{0}^{11} c_{3}^{5}}{c_{1}^{16}} - \\frac{10920 c_{0}^{11} c_{2}^{2} c_{3}^{4}}{c_{1}^{17}} + \\frac{61880 c_{0}^{11} c_{2}^{4} c_{3}^{3}}{c_{1}^{18}} - \\frac{111384 c_{0}^{11} c_{2}^{6} c_{3}^{2}}{c_{1}^{19}} - \\frac{1001 c_{0}^{10} c_{2} c_{3}^{4}}{c_{1}^{15}} + \\frac{10010 c_{0}^{10} c_{2}^{3} c_{3}^{3}}{c_{1}^{16}} - \\frac{24024 c_{0}^{10} c_{2}^{5} c_{3}^{2}}{c_{1}^{17}} + \\frac{19448 c_{0}^{10} c_{2}^{7} c_{3}}{c_{1}^{18}} - \\frac{55 c_{0}^{9} c_{3}^{4}}{c_{1}^{13}} + \\frac{1430 c_{0}^{9} c_{2}^{2} c_{3}^{3}}{c_{1}^{14}} - \\frac{5005 c_{0}^{9} c_{2}^{4} c_{3}^{2}}{c_{1}^{15}} + \\frac{5005 c_{0}^{9} c_{2}^{6} c_{3}}{c_{1}^{16}} + \\frac{165 c_{0}^{8} c_{2} c_{3}^{3}}{c_{1}^{12}} - \\frac{990 c_{0}^{8} c_{2}^{3} c_{3}^{2}}{c_{1}^{13}} + \\frac{1287 c_{0}^{8} c_{2}^{5} c_{3}}{c_{1}^{14}} - \\frac{429 c_{0}^{8} c_{2}^{7}}{c_{1}^{15}} + \\frac{12 c_{0}^{7} c_{3}^{3}}{c_{1}^{10}} - \\frac{180 c_{0}^{7} c_{2}^{2} c_{3}^{2}}{c_{1}^{11}} + \\frac{330 c_{0}^{7} c_{2}^{4} c_{3}}{c_{1}^{12}} - \\frac{132 c_{0}^{7} c_{2}^{6}}{c_{1}^{13}} - \\frac{28 c_{0}^{6} c_{2} c_{3}^{2}}{c_{1}^{9}} + \\frac{84 c_{0}^{6} c_{2}^{3} c_{3}}{c_{1}^{10}} - \\frac{42 c_{0}^{6} c_{2}^{5}}{c_{1}^{11}} - \\frac{3 c_{0}^{5} c_{3}^{2}}{c_{1}^{7}} + \\frac{21 c_{0}^{5} c_{2}^{2} c_{3}}{c_{1}^{8}} - \\frac{14 c_{0}^{5} c_{2}^{4}}{c_{1}^{9}} + \\frac{5 c_{0}^{4} c_{2} c_{3}}{c_{1}^{6}} - \\frac{5 c_{0}^{4} c_{2}^{3}}{c_{1}^{7}} + \\frac{c_{0}^{3} c_{3}}{c_{1}^{4}} - \\frac{2 c_{0}^{3} c_{2}^{2}}{c_{1}^{5}} - \\frac{c_{0}^{2} c_{2}}{c_{1}^{3}} - \\frac{c_{0}}{c_{1}}$"
      ],
      "text/plain": [
       "361913666400*c_0**22*c_2**7*c_3**7/c_1**36 + 46835886240*c_0**21*c_2**6*c_3**7/c_1**34 + 5588372790*c_0**20*c_2**5*c_3**7/c_1**32 - 29804654880*c_0**20*c_2**7*c_3**6/c_1**33 + 600900300*c_0**19*c_2**4*c_3**7/c_1**30 - 4206302100*c_0**19*c_2**6*c_3**6/c_1**31 + 56241900*c_0**18*c_2**3*c_3**7/c_1**28 - 551170620*c_0**18*c_2**5*c_3**6/c_1**29 + 2283421140*c_0**18*c_2**7*c_3**5/c_1**30 + 4326300*c_0**17*c_2**2*c_3**7/c_1**26 - 65615550*c_0**17*c_2**4*c_3**6/c_1**27 + 354323970*c_0**17*c_2**6*c_3**5/c_1**28 + 245157*c_0**16*c_2*c_3**7/c_1**24 - 6864396*c_0**16*c_2**3*c_3**6/c_1**25 + 51482970*c_0**16*c_2**5*c_3**5/c_1**26 - 159352050*c_0**16*c_2**7*c_3**4/c_1**27 + 7752*c_0**15*c_3**7/c_1**22 - 596904*c_0**15*c_2**2*c_3**6/c_1**23 + 6864396*c_0**15*c_2**4*c_3**5/c_1**24 - 27457584*c_0**15*c_2**6*c_3**4/c_1**25 - 38760*c_0**14*c_2*c_3**6/c_1**21 + 813960*c_0**14*c_2**3*c_3**5/c_1**22 - 4476780*c_0**14*c_2**5*c_3**4/c_1**23 + 9806280*c_0**14*c_2**7*c_3**3/c_1**24 - 1428*c_0**13*c_3**6/c_1**19 + 81396*c_0**13*c_2**2*c_3**5/c_1**20 - 678300*c_0**13*c_2**4*c_3**4/c_1**21 + 1899240*c_0**13*c_2**6*c_3**3/c_1**22 + 6188*c_0**12*c_2*c_3**5/c_1**18 - 92820*c_0**12*c_2**3*c_3**4/c_1**19 + 352716*c_0**12*c_2**5*c_3**3/c_1**20 - 503880*c_0**12*c_2**7*c_3**2/c_1**21 + 273*c_0**11*c_3**5/c_1**16 - 10920*c_0**11*c_2**2*c_3**4/c_1**17 + 61880*c_0**11*c_2**4*c_3**3/c_1**18 - 111384*c_0**11*c_2**6*c_3**2/c_1**19 - 1001*c_0**10*c_2*c_3**4/c_1**15 + 10010*c_0**10*c_2**3*c_3**3/c_1**16 - 24024*c_0**10*c_2**5*c_3**2/c_1**17 + 19448*c_0**10*c_2**7*c_3/c_1**18 - 55*c_0**9*c_3**4/c_1**13 + 1430*c_0**9*c_2**2*c_3**3/c_1**14 - 5005*c_0**9*c_2**4*c_3**2/c_1**15 + 5005*c_0**9*c_2**6*c_3/c_1**16 + 165*c_0**8*c_2*c_3**3/c_1**12 - 990*c_0**8*c_2**3*c_3**2/c_1**13 + 1287*c_0**8*c_2**5*c_3/c_1**14 - 429*c_0**8*c_2**7/c_1**15 + 12*c_0**7*c_3**3/c_1**10 - 180*c_0**7*c_2**2*c_3**2/c_1**11 + 330*c_0**7*c_2**4*c_3/c_1**12 - 132*c_0**7*c_2**6/c_1**13 - 28*c_0**6*c_2*c_3**2/c_1**9 + 84*c_0**6*c_2**3*c_3/c_1**10 - 42*c_0**6*c_2**5/c_1**11 - 3*c_0**5*c_3**2/c_1**7 + 21*c_0**5*c_2**2*c_3/c_1**8 - 14*c_0**5*c_2**4/c_1**9 + 5*c_0**4*c_2*c_3/c_1**6 - 5*c_0**4*c_2**3/c_1**7 + c_0**3*c_3/c_1**4 - 2*c_0**3*c_2**2/c_1**5 - c_0**2*c_2/c_1**3 - c_0/c_1"
      ]
     },
     "execution_count": 110,
     "metadata": {},
     "output_type": "execute_result"
    }
   ],
   "source": [
    "np.sum(g8)"
   ]
  },
  {
   "cell_type": "markdown",
   "metadata": {},
   "source": [
    "Evaluate to get only coefficients and no signs in values."
   ]
  },
  {
   "cell_type": "code",
   "execution_count": 111,
   "metadata": {},
   "outputs": [
    {
     "data": {
      "text/latex": [
       "$\\displaystyle \\left[\\begin{matrix}1 & 1 & 3 & 12 & 55 & 273 & 1428 & 7752\\\\1 & 5 & 28 & 165 & 1001 & 6188 & 38760 & 245157\\\\2 & 21 & 180 & 1430 & 10920 & 81396 & 596904 & 4326300\\\\5 & 84 & 990 & 10010 & 92820 & 813960 & 6864396 & 56241900\\\\14 & 330 & 5005 & 61880 & 678300 & 6864396 & 65615550 & 600900300\\\\42 & 1287 & 24024 & 352716 & 4476780 & 51482970 & 551170620 & 5588372790\\\\132 & 5005 & 111384 & 1899240 & 27457584 & 354323970 & 4206302100 & 46835886240\\\\429 & 19448 & 503880 & 9806280 & 159352050 & 2283421140 & 29804654880 & 361913666400\\end{matrix}\\right]$"
      ],
      "text/plain": [
       "Matrix([\n",
       "[  1,     1,      3,      12,        55,        273,        1428,         7752],\n",
       "[  1,     5,     28,     165,      1001,       6188,       38760,       245157],\n",
       "[  2,    21,    180,    1430,     10920,      81396,      596904,      4326300],\n",
       "[  5,    84,    990,   10010,     92820,     813960,     6864396,     56241900],\n",
       "[ 14,   330,   5005,   61880,    678300,    6864396,    65615550,    600900300],\n",
       "[ 42,  1287,  24024,  352716,   4476780,   51482970,   551170620,   5588372790],\n",
       "[132,  5005, 111384, 1899240,  27457584,  354323970,  4206302100,  46835886240],\n",
       "[429, 19448, 503880, 9806280, 159352050, 2283421140, 29804654880, 361913666400]])"
      ]
     },
     "execution_count": 111,
     "metadata": {},
     "output_type": "execute_result"
    }
   ],
   "source": [
    "g9= np.array([[C(j, i, returnCoefficientsOnlyWithoutSigns=True) for i in g6] for j in g6])\n",
    "g10 = sp.Matrix(g9)\n",
    "g10"
   ]
  },
  {
   "cell_type": "markdown",
   "metadata": {},
   "source": [
    "Note it is straightforward to get at the rows, columms, diagonals, etc. of this 2D array."
   ]
  },
  {
   "cell_type": "code",
   "execution_count": 112,
   "metadata": {},
   "outputs": [
    {
     "data": {
      "text/plain": [
       "(array([1, 5, 28, 165, 1001, 6188, 38760, 245157], dtype=object),\n",
       " array([1, 5, 21, 84, 330, 1287, 5005, 19448], dtype=object),\n",
       " array([1, 5, 180, 10010, 678300, 51482970, 4206302100, 361913666400],\n",
       "       dtype=object),\n",
       " array([55, 165, 180, 84, 14], dtype=object))"
      ]
     },
     "execution_count": 112,
     "metadata": {},
     "output_type": "execute_result"
    }
   ],
   "source": [
    "g9[1,:], g9[:,1], g9.diagonal(), np.fliplr(g9).diagonal(3)"
   ]
  },
  {
   "cell_type": "markdown",
   "metadata": {},
   "source": [
    "<b>Summary</b>\n",
    "\n",
    "This formula provides a very powerful way at getting at the values of the cubic equation roots solution. Leads to a new question: the first column is Catalan. What else is happening here?"
   ]
  },
  {
   "cell_type": "code",
   "execution_count": null,
   "metadata": {},
   "outputs": [],
   "source": []
  }
 ],
 "metadata": {
  "kernelspec": {
   "display_name": "Python 3",
   "language": "python",
   "name": "python3"
  },
  "language_info": {
   "codemirror_mode": {
    "name": "ipython",
    "version": 3
   },
   "file_extension": ".py",
   "mimetype": "text/x-python",
   "name": "python",
   "nbconvert_exporter": "python",
   "pygments_lexer": "ipython3",
   "version": "3.9.2"
  }
 },
 "nbformat": 4,
 "nbformat_minor": 4
}
