{
 "cells": [
  {
   "cell_type": "code",
   "execution_count": 3,
   "metadata": {},
   "outputs": [],
   "source": [
    "import numpy as np\n",
    "import sympy as sp\n",
    "import pickle\n",
    "from IPython.display import HTML\n",
    "import ipywidgets as widgets\n",
    "import matplotlib as mpl\n",
    "from mpl_toolkits.mplot3d import Axes3D\n",
    "import matplotlib.pyplot as plt\n",
    "mpl.rcParams['legend.fontsize'] = 10\n",
    "import pandas as pd\n",
    "import itertools\n",
    "pd.set_option('display.max_colwidth', None)\n",
    "\n",
    "#\n",
    "\n",
    "# function to print latex\n",
    "def renderListToLatex(e):\n",
    "    latex_rendering = []\n",
    "\n",
    "    for i in range(len(e)):\n",
    "        latex_rendering.append(\"$$\" + sp.latex(e[i]) + \"$$<br/>\")\n",
    "    \n",
    "    return(HTML(\"\".join(latex_rendering[0:])))"
   ]
  },
  {
   "cell_type": "markdown",
   "metadata": {},
   "source": [
    "<i>Note: SP 17 is an exploration of Knuth, Chapter 7, have put somewhere else </i>\n",
    "\n",
    "### Solving Polynomial Equations (18)"
   ]
  },
  {
   "cell_type": "markdown",
   "metadata": {},
   "source": [
    "<hr/>\n",
    "\n",
    "<b>Aim</b>: Understand how Catalan and Fuss numbers relate to binary and ternary trees\n",
    "\n",
    "<hr/>"
   ]
  },
  {
   "cell_type": "markdown",
   "metadata": {},
   "source": [
    "Let $F1$ for a function that implements $C$."
   ]
  },
  {
   "cell_type": "code",
   "execution_count": 4,
   "metadata": {},
   "outputs": [],
   "source": [
    "def F1(m2, m3, returnCoefficientsOnly = False, returnCoefficientsOnlyWithoutSigns = True, returnCoefficientsAsFactorialStrings = False):\n",
    "    c_0, c_1, c_2, c_3 = sp.symbols('c_0, c_1, c_2, c_3')\n",
    "    s1 = (-1)**(m3 + 1)\n",
    "    s2 = sp.factorial(2 * m2 + 3 * m3)\n",
    "    s3 = sp.factorial(1 + m2 + 2 * m3) * sp.factorial(m2) * sp.factorial(m3)\n",
    "\n",
    "    \n",
    "    s4 = c_0**(1 + m2 + 2 * m3) * c_2**m2 *c_3**m3\n",
    "    s5 = c_1**(2 * m2 + 3 * m3 + 1)\n",
    "    \n",
    "    s7 = str(2 * m2 + 3 * m3) + \"!\"\n",
    "    s8 = str(1 + m2 + 2 * m3) + \"!\" + str(m2) + \"!\"  + str(m3) + \"!\"\n",
    "    \n",
    "    if returnCoefficientsOnly:\n",
    "        s6 = s1 * (s2 / s3)\n",
    "    elif returnCoefficientsOnlyWithoutSigns:\n",
    "        s6 = (s2 / s3)\n",
    "    elif returnCoefficientsAsFactorialStrings:\n",
    "        s6 = str(s7 + \" | \" + s8)\n",
    "    else:\n",
    "        s6 = s1 * (s2 / s3) * (s4 / s5)\n",
    "\n",
    "    return(s6)"
   ]
  },
  {
   "cell_type": "markdown",
   "metadata": {},
   "source": [
    "Let $P3$ be a matrix of values retlating the part of the formula that calculates unsigned coefficients: $ \\frac{(2 m_{2} + 3 m_{3})!}{(1 + m_{2} + 2 m_{3})!m_2!m_3!}$ "
   ]
  },
  {
   "cell_type": "code",
   "execution_count": 5,
   "metadata": {},
   "outputs": [
    {
     "data": {
      "text/latex": [
       "$\\displaystyle \\left[\\begin{matrix}1 & 1 & 3 & 12 & 55 & 273 & 1428 & 7752\\\\1 & 5 & 28 & 165 & 1001 & 6188 & 38760 & 245157\\\\2 & 21 & 180 & 1430 & 10920 & 81396 & 596904 & 4326300\\\\5 & 84 & 990 & 10010 & 92820 & 813960 & 6864396 & 56241900\\\\14 & 330 & 5005 & 61880 & 678300 & 6864396 & 65615550 & 600900300\\\\42 & 1287 & 24024 & 352716 & 4476780 & 51482970 & 551170620 & 5588372790\\\\132 & 5005 & 111384 & 1899240 & 27457584 & 354323970 & 4206302100 & 46835886240\\\\429 & 19448 & 503880 & 9806280 & 159352050 & 2283421140 & 29804654880 & 361913666400\\end{matrix}\\right]$"
      ],
      "text/plain": [
       "Matrix([\n",
       "[  1,     1,      3,      12,        55,        273,        1428,         7752],\n",
       "[  1,     5,     28,     165,      1001,       6188,       38760,       245157],\n",
       "[  2,    21,    180,    1430,     10920,      81396,      596904,      4326300],\n",
       "[  5,    84,    990,   10010,     92820,     813960,     6864396,     56241900],\n",
       "[ 14,   330,   5005,   61880,    678300,    6864396,    65615550,    600900300],\n",
       "[ 42,  1287,  24024,  352716,   4476780,   51482970,   551170620,   5588372790],\n",
       "[132,  5005, 111384, 1899240,  27457584,  354323970,  4206302100,  46835886240],\n",
       "[429, 19448, 503880, 9806280, 159352050, 2283421140, 29804654880, 361913666400]])"
      ]
     },
     "execution_count": 5,
     "metadata": {},
     "output_type": "execute_result"
    }
   ],
   "source": [
    "P1 = np.arange(8)\n",
    "P2 = np.array([[F1(j, i) for i in P1] for j in P1])\n",
    "P3 = sp.Matrix(P2)\n",
    "P3"
   ]
  },
  {
   "cell_type": "markdown",
   "metadata": {},
   "source": [
    "KNUTH - idea - new operation\n",
    "\n",
    "\n",
    "Sum of P as al these things.......can we replace with operation\n",
    "\n",
    "$ P = 1 + P \\triangledown P $"
   ]
  },
  {
   "cell_type": "markdown",
   "metadata": {},
   "source": [
    "Need to adopt a a multi set structure \n",
    "\n",
    "Lists / orderses / multisets / sets point of view "
   ]
  },
  {
   "cell_type": "markdown",
   "metadata": {},
   "source": [
    "define $\\triangledown$ operator"
   ]
  },
  {
   "cell_type": "markdown",
   "metadata": {},
   "source": [
    "Example: \n",
    "\n",
    "\n",
    "Take a pentagon....\n",
    "\n",
    "Take a triangle operator.....\n",
    "\n"
   ]
  },
  {
   "cell_type": "code",
   "execution_count": 6,
   "metadata": {},
   "outputs": [],
   "source": [
    "# idea is that we can \n",
    "\n",
    "# glue top edgs of left and right and polygon to left and right edges of \n",
    "# triangle \n",
    "\n",
    "# result - gives us a 10-gon - note that the distinguised top edges of the \n",
    "# two polygons are get glued to the free edges of the triangle\n",
    "\n",
    "# so this is an operation on subdivied polygons wchih have distinguised edge \n",
    "# this is multiplication operator on polygons with triangular subdivision \n",
    "# and distinguised top edges (binary operation )"
   ]
  },
  {
   "cell_type": "code",
   "execution_count": 7,
   "metadata": {},
   "outputs": [],
   "source": [
    "# now look at same thing in terms of trees....."
   ]
  },
  {
   "cell_type": "code",
   "execution_count": null,
   "metadata": {},
   "outputs": [],
   "source": [
    "# we create a triee from this via nodes - add polygon leaves etc. \n",
    "# In terms of planar rooted trees, \n",
    "\n",
    "# draw in standard comp sci way\n",
    "\n",
    "# what is multiplication here \n",
    "\n",
    "# attach top node to tirangle centre\n",
    "# attach first \n",
    "\n",
    "# atht e level of planar rooted trees, this is very natural - binary rooted trees "
   ]
  },
  {
   "cell_type": "markdown",
   "metadata": {},
   "source": [
    "NOte identity arises P = 1 + P $\\triangledown$ P\n",
    "\n",
    "If you have a triangular polygon subdivision with distinsuished top edge, there is distinguised interior traiangle with that top edge\n",
    "\n",
    "YOu will let left edge and right edge and will divide polygones which are subdivided, and which has has a distinguised edge\n",
    "\n",
    "So every polygon subdivied into triangles with a distinguised top edge is the product of 2 unique such polygons, one on left , one on right \n",
    "\n",
    "EXCEPT - for two sided polygons (degenerate case)\n",
    "\n",
    "So  P = 1 + P $\\triangledown$ P  gives us all combinations + additinion 1 to take care of the 2 sided case "
   ]
  },
  {
   "cell_type": "markdown",
   "metadata": {},
   "source": [
    "Make sense of this?\n",
    "\n",
    "Multisets \n",
    "\n",
    "unorded collections with repetitions allowed. \n",
    "\n",
    "We have binary operation on $\\triangledown$ - jg need bar over this: \n",
    "\n",
    "it is on planar polygon subdivision, planar rooted complete binary trees\n",
    "\n",
    "Note that this is a not commutative or associative operation - \n",
    "\n",
    "note whenevery ou have binary operation on object, you can extend to multisets automatically \n",
    "\n",
    "msets \n",
    "\n",
    "consider  drawing \n",
    "\n",
    "to do this.....form all possible products between elements in both sets \n",
    "\n",
    "We end up with an algebra with aiddtiona and natural number muliplication  - addtiion is just addition of msets, multiplication by scalar is just duplication of the mset"
   ]
  },
  {
   "cell_type": "markdown",
   "metadata": {},
   "source": [
    "so its 2 * T1 + T2 or soemthing \n",
    "\n",
    "al algebra of msets of planar rooted complete binary trees \n",
    "\n",
    "Note still need to deal with unboarded\n",
    "\n",
    "\n",
    "THis gives us an algebra from which to work to catalan story, extend to Bi Tri situation.....adopt the tree situation"
   ]
  },
  {
   "cell_type": "code",
   "execution_count": null,
   "metadata": {},
   "outputs": [],
   "source": []
  }
 ],
 "metadata": {
  "kernelspec": {
   "display_name": "Python 3",
   "language": "python",
   "name": "python3"
  },
  "language_info": {
   "codemirror_mode": {
    "name": "ipython",
    "version": 3
   },
   "file_extension": ".py",
   "mimetype": "text/x-python",
   "name": "python",
   "nbconvert_exporter": "python",
   "pygments_lexer": "ipython3",
   "version": "3.9.2"
  }
 },
 "nbformat": 4,
 "nbformat_minor": 4
}
