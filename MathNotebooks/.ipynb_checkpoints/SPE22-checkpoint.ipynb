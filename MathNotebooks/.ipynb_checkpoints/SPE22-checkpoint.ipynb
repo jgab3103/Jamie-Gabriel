{
 "cells": [
  {
   "cell_type": "markdown",
   "metadata": {},
   "source": [
    "<i>STATUS: Draft</i>\n",
    "\n",
    "<hr/>"
   ]
  },
  {
   "cell_type": "code",
   "execution_count": 6,
   "metadata": {},
   "outputs": [],
   "source": [
    "import numpy as np\n",
    "import sympy as sp\n",
    "import pickle\n",
    "from IPython.display import HTML, Image\n",
    "import ipywidgets as widgets\n",
    "import matplotlib as mpl\n",
    "from mpl_toolkits.mplot3d import Axes3D\n",
    "import matplotlib.pyplot as plt\n",
    "mpl.rcParams['legend.fontsize'] = 10\n",
    "import pandas as pd\n",
    "import itertools\n",
    "pd.set_option('display.max_colwidth', None)\n",
    "import treelib as tr\n",
    "\n",
    "\n",
    "# function to print latex\n",
    "def renderListToLatex(e):\n",
    "    latex_rendering = []\n",
    "\n",
    "    for i in range(len(e)):\n",
    "        latex_rendering.append(\"$$\" + sp.latex(e[i]) + \"$$\")\n",
    "    \n",
    "    return(HTML(\"\".join(latex_rendering[0:])))"
   ]
  },
  {
   "cell_type": "markdown",
   "metadata": {},
   "source": [
    "### Solving Polynomial Equations (22)"
   ]
  },
  {
   "cell_type": "markdown",
   "metadata": {},
   "source": [
    "<hr/>\n",
    "\n",
    "<b>Aim</b>: Explore bridge between BiTri numbers and polygonal subdivisions\n",
    "\n",
    "<b>Methodology</b>: Consider the structure of the first row of numbers in the matrix of coefficients returned by the function $C$\n",
    "<hr/>"
   ]
  },
  {
   "cell_type": "markdown",
   "metadata": {},
   "source": [
    "<b>Observe</b>: Recall the solution to a general cubic equation from a previous notebook.\n",
    "\n",
    "$$C(m, n)  \\equiv \\frac{(2m + 3n)!}{(1 + m + 2n)!m!n!}$$\n",
    "\n",
    "<b>Let</b> $F1$ for a function that implements $C$."
   ]
  },
  {
   "cell_type": "code",
   "execution_count": 7,
   "metadata": {},
   "outputs": [],
   "source": [
    "def F1(m2, m3, returnCoefficientsOnly = False, returnCoefficientsOnlyWithoutSigns = True, returnCoefficientsAsFactorialStrings = False):\n",
    "    c_0, c_1, c_2, c_3 = sp.symbols('c_0, c_1, c_2, c_3')\n",
    "    s1 = (-1)**(m3 + 1)\n",
    "    s2 = sp.factorial(2 * m2 + 3 * m3)\n",
    "    s3 = sp.factorial(1 + m2 + 2 * m3) * sp.factorial(m2) * sp.factorial(m3)\n",
    "\n",
    "    \n",
    "    s4 = c_0**(1 + m2 + 2 * m3) * c_2**m2 *c_3**m3\n",
    "    s5 = c_1**(2 * m2 + 3 * m3 + 1)\n",
    "    \n",
    "    s7 = str(2 * m2 + 3 * m3) + \"!\"\n",
    "    s8 = str(1 + m2 + 2 * m3) + \"!\" + str(m2) + \"!\"  + str(m3) + \"!\"\n",
    "    \n",
    "    if returnCoefficientsOnly:\n",
    "        s6 = s1 * (s2 / s3)\n",
    "    elif returnCoefficientsOnlyWithoutSigns:\n",
    "        s6 = (s2 / s3)\n",
    "    elif returnCoefficientsAsFactorialStrings:\n",
    "        s6 = str(s7 + \" | \" + s8)\n",
    "    else:\n",
    "        s6 = s1 * (s2 / s3) * (s4 / s5)\n",
    "\n",
    "    return(s6)"
   ]
  },
  {
   "cell_type": "markdown",
   "metadata": {},
   "source": [
    "<b>Let</b> $P3$ be a matrix of values relating the part of the formula that calculates unsigned coefficients: $  \\frac{(2m + 3n)!}{(1 + m + 2n)!m!n!}$ "
   ]
  },
  {
   "cell_type": "code",
   "execution_count": 8,
   "metadata": {},
   "outputs": [
    {
     "data": {
      "text/latex": [
       "$\\displaystyle \\left[\\begin{matrix}1 & 1 & 3 & 12 & 55 & 273 & 1428 & 7752\\\\1 & 5 & 28 & 165 & 1001 & 6188 & 38760 & 245157\\\\2 & 21 & 180 & 1430 & 10920 & 81396 & 596904 & 4326300\\\\5 & 84 & 990 & 10010 & 92820 & 813960 & 6864396 & 56241900\\\\14 & 330 & 5005 & 61880 & 678300 & 6864396 & 65615550 & 600900300\\\\42 & 1287 & 24024 & 352716 & 4476780 & 51482970 & 551170620 & 5588372790\\\\132 & 5005 & 111384 & 1899240 & 27457584 & 354323970 & 4206302100 & 46835886240\\\\429 & 19448 & 503880 & 9806280 & 159352050 & 2283421140 & 29804654880 & 361913666400\\end{matrix}\\right]$"
      ],
      "text/plain": [
       "Matrix([\n",
       "[  1,     1,      3,      12,        55,        273,        1428,         7752],\n",
       "[  1,     5,     28,     165,      1001,       6188,       38760,       245157],\n",
       "[  2,    21,    180,    1430,     10920,      81396,      596904,      4326300],\n",
       "[  5,    84,    990,   10010,     92820,     813960,     6864396,     56241900],\n",
       "[ 14,   330,   5005,   61880,    678300,    6864396,    65615550,    600900300],\n",
       "[ 42,  1287,  24024,  352716,   4476780,   51482970,   551170620,   5588372790],\n",
       "[132,  5005, 111384, 1899240,  27457584,  354323970,  4206302100,  46835886240],\n",
       "[429, 19448, 503880, 9806280, 159352050, 2283421140, 29804654880, 361913666400]])"
      ]
     },
     "execution_count": 8,
     "metadata": {},
     "output_type": "execute_result"
    }
   ],
   "source": [
    "P1 = np.arange(8)\n",
    "P2 = np.array([[F1(j, i) for i in P1] for j in P1])\n",
    "P3 = sp.Matrix(P2)\n",
    "P3"
   ]
  },
  {
   "cell_type": "markdown",
   "metadata": {},
   "source": [
    "Why should solutions to cubic equation be related to bitri numbers - \n",
    "\n",
    "<b>Definition</b> A <b>BiTri Roofed Polygon</b> consists of a polygon subdivied diagonally into traingles , with a distinguised (top) edge\n",
    "\n",
    "<b>Conjecture</b> The numbers $C(n, m)$ gus us a power series solution to a general cubic equation, and they count the number of BiTri polygons with $m$ triangles and $n$ quadrilaterals, with $1 + m + 2n$ vertices"
   ]
  },
  {
   "cell_type": "code",
   "execution_count": 9,
   "metadata": {},
   "outputs": [],
   "source": [
    "def F2(m, n):\n",
    "    return(2 + m + 2 * n)"
   ]
  },
  {
   "cell_type": "code",
   "execution_count": 10,
   "metadata": {},
   "outputs": [
    {
     "data": {
      "text/latex": [
       "$\\displaystyle \\left[\\begin{matrix}2 & 4 & 6 & 8 & 10 & 12 & 14 & 16\\\\3 & 5 & 7 & 9 & 11 & 13 & 15 & 17\\\\4 & 6 & 8 & 10 & 12 & 14 & 16 & 18\\\\5 & 7 & 9 & 11 & 13 & 15 & 17 & 19\\\\6 & 8 & 10 & 12 & 14 & 16 & 18 & 20\\\\7 & 9 & 11 & 13 & 15 & 17 & 19 & 21\\\\8 & 10 & 12 & 14 & 16 & 18 & 20 & 22\\\\9 & 11 & 13 & 15 & 17 & 19 & 21 & 23\\end{matrix}\\right]$"
      ],
      "text/plain": [
       "Matrix([\n",
       "[2,  4,  6,  8, 10, 12, 14, 16],\n",
       "[3,  5,  7,  9, 11, 13, 15, 17],\n",
       "[4,  6,  8, 10, 12, 14, 16, 18],\n",
       "[5,  7,  9, 11, 13, 15, 17, 19],\n",
       "[6,  8, 10, 12, 14, 16, 18, 20],\n",
       "[7,  9, 11, 13, 15, 17, 19, 21],\n",
       "[8, 10, 12, 14, 16, 18, 20, 22],\n",
       "[9, 11, 13, 15, 17, 19, 21, 23]])"
      ]
     },
     "execution_count": 10,
     "metadata": {},
     "output_type": "execute_result"
    }
   ],
   "source": [
    "P4 = np.arange(8)\n",
    "P5 = np.array([[F2(j, i) for i in P4] for j in P4])\n",
    "P6 = sp.Matrix(P5)\n",
    "P6"
   ]
  },
  {
   "cell_type": "markdown",
   "metadata": {},
   "source": [
    "<b>Observe</b>o there are 10010 ways to subdivide roofed 11-gons into 3 triangles and 3 quadrilaterals\n",
    "\n",
    "<b>Observe</b> This proposes to unify fundamental problem of algebra with large scale extension of Catalan and Fuss Stories\n",
    "\n",
    "<b>Observe</b> Need to extend the binary and ternary operations to BiTri roofed polygons\n",
    "\n",
    "<b>Observe</b>: Recall that $ \\overline{\\triangledown} \\text{ }(P, Q) = P \\text{ } \\overline{\\triangledown} \\text{ } Q $ is a binary operation that appends $P$ and $Q$ to left and right sides of a roofed central triangle, where $P$ and $Q$ are BiTri rooted polygons\n",
    "\n",
    "<b>Observe</b> This operation, $\\overline { \\triangledown } $ can be seen to be extended to BiTri rooted polygon\n",
    "\n",
    "<b>Observe</b> $ \\overline{\\square} \\text{ }(P, Q, R) $ can also be used for BiTri roofed polygons, where 3 are glued on to central quadrilateral. \n",
    "\n",
    "<b>Observe</b> This means BiTri roofted polygons are closed under two operations, $\\overline{\\triangledown}$ and $\\overline{\\square}$\n",
    "    \n",
    "   \n"
   ]
  },
  {
   "cell_type": "markdown",
   "metadata": {},
   "source": [
    "<b>Todo</b> Create these - note verticle is how many triangles, horizontal is how many quadrilaterals \n",
    "\n",
    "<b>Ovserve</b> These polygons can be viewed in the array and it is possible to to arithmetic \n",
    "\n",
    "<b>Observe</b>that there is structure  and algebra here using these operations"
   ]
  },
  {
   "cell_type": "markdown",
   "metadata": {},
   "source": [
    "<b>Observe</b>: Use Q22, multiset chapter 7 in knuth to take the multiset of all of the BiTri roof polygons"
   ]
  },
  {
   "cell_type": "markdown",
   "metadata": {},
   "source": [
    "<b>Let</b> A be the entire Mset of BiTri rootfted polygons, then \n",
    "\n",
    "must be either triangle or square operation \n",
    "\n",
    "if triangle, \n",
    "\n",
    "$$A = | + \\overline{\\triangledown}(A, A) + \\overline{\\square}\\text{ }(A, A, A)$$\n",
    "\n",
    "This is an identity of multisets\n",
    "\n",
    "Note the idea here is to use both operations to explain numbers in this array. "
   ]
  },
  {
   "cell_type": "markdown",
   "metadata": {},
   "source": [
    "<b>Observe</b>: we can bring abstract algebra of Msets to polynomials. IN case triangles, used $\\psi$ to count the number of triangles, in Fuss story, used $q$ to count the number of quadrilaterals\n",
    "\n",
    "<b>Observe</b>Now idea is to extend this to use both \n",
    "    \n",
    "<b>Obxeserve</b>: Now extend $\\psi$ mapping from BiTri roofed polygons to polynomials in $t$ and $q$: \n",
    "\n",
    "$$ \\psi(P) \\equiv t^m q^n $$\n",
    "\n",
    "where P has m triangles and n quadrilaterals \n",
    "\n",
    "<b>Example</b>\n",
    "\n",
    "$$ \\psi \\text{ some polygon with 2 triagles and 2 quadrilaterals} = t^2 q^2 $$\n",
    "\n",
    "<b>Observe</b>: this will have following properies (we add the number of triangles and quadrilaterals that are all present \n",
    "\n",
    "$$ \\psi(\\overline{\\triangledown}(P, Q) = t \\psi (P) \\psi(Q) $$\n",
    "\n",
    "Note the extra $t$ that arises when doing this\n",
    "\n"
   ]
  },
  {
   "cell_type": "markdown",
   "metadata": {},
   "source": [
    "$$\\psi(\\overline{\\square} \\text{ }(P, Q, R) = q \\psi(P) \\psi(Q) \\psi(R) $$\n",
    "\n",
    "And note the additional quadrilateral, $q$ that appears "
   ]
  },
  {
   "cell_type": "markdown",
   "metadata": {},
   "source": [
    "<b>Observe</b> When applied to fundamental ideantity, (*), we get "
   ]
  },
  {
   "cell_type": "markdown",
   "metadata": {},
   "source": [
    "<b>Let</b> $\\psi(A) \\equiv F$ (An Mset of nomilals, \n",
    "\n",
    "<b>Observe</b>If $A = | + \\overline{\\triangledown}(A, A) + \\overline{\\square}\\text{ }(A, A, A)$\n",
    "\n",
    "<b>Observe</b>This replaces each polygon in teh array with powers of $t$ and $q$ where the powers represent the number of triangles and quadrilaterals , so the numberin the array above $28$ becomes $tq^2$ under this $\\psi$ mapping\n",
    "\n",
    "<b>Observe</b> \n",
    "\n",
    "$$F = 1 + tF^2 + qF^3 $$\n",
    "\n",
    "which capures all the operations plus addtional triangle\n",
    "    \n"
   ]
  },
  {
   "cell_type": "markdown",
   "metadata": {},
   "source": [
    "<b>Observe</b> THis is is a cubic equation in F. THis is why there is an intimate connection betweein cubi equations and these polygons, arises from the way polygons multiple, we get a ubic equation. Close to a general cubic equation \n",
    "\n",
    "<b>Observe</b>THis is why cubic equation story makes sense "
   ]
  },
  {
   "cell_type": "markdown",
   "metadata": {},
   "source": [
    "<b>Ovserve</b> Now can go back to BiTri Array to see if it satisies this equation (which will show thie numbers couning"
   ]
  },
  {
   "cell_type": "markdown",
   "metadata": {},
   "source": [
    "<hr/>\n",
    "\n",
    "<b>Aim</b>Test is this is the case\n",
    "\n",
    "<hr/>"
   ]
  },
  {
   "cell_type": "code",
   "execution_count": 15,
   "metadata": {},
   "outputs": [
    {
     "data": {
      "text/latex": [
       "$\\displaystyle \\left[\\begin{matrix}1 & 1 & 3 & 12 & 55 & 273\\\\1 & 5 & 28 & 165 & 1001 & 6188\\\\2 & 21 & 180 & 1430 & 10920 & 81396\\\\5 & 84 & 990 & 10010 & 92820 & 813960\\\\14 & 330 & 5005 & 61880 & 678300 & 6864396\\\\42 & 1287 & 24024 & 352716 & 4476780 & 51482970\\end{matrix}\\right]$"
      ],
      "text/plain": [
       "Matrix([\n",
       "[ 1,    1,     3,     12,      55,      273],\n",
       "[ 1,    5,    28,    165,    1001,     6188],\n",
       "[ 2,   21,   180,   1430,   10920,    81396],\n",
       "[ 5,   84,   990,  10010,   92820,   813960],\n",
       "[14,  330,  5005,  61880,  678300,  6864396],\n",
       "[42, 1287, 24024, 352716, 4476780, 51482970]])"
      ]
     },
     "execution_count": 15,
     "metadata": {},
     "output_type": "execute_result"
    }
   ],
   "source": [
    "P7 = np.arange(6)\n",
    "P8 = np.array([[F1(j, i) for i in P7] for j in P7])\n",
    "P9 = sp.Matrix(P8)\n",
    "P9"
   ]
  },
  {
   "cell_type": "code",
   "execution_count": 16,
   "metadata": {},
   "outputs": [],
   "source": [
    "t, q = sp.symbols('t q')"
   ]
  },
  {
   "cell_type": "code",
   "execution_count": 29,
   "metadata": {},
   "outputs": [
    {
     "data": {
      "text/latex": [
       "$\\displaystyle \\left[\\begin{matrix}1 & t & t^{2} & t^{3} & t^{4} & t^{5}\\end{matrix}\\right]$"
      ],
      "text/plain": [
       "Matrix([[1, t, t**2, t**3, t**4, t**5]])"
      ]
     },
     "execution_count": 29,
     "metadata": {},
     "output_type": "execute_result"
    }
   ],
   "source": [
    "P10 = sp.Matrix([t**i for i in range(6)])\n",
    "P10 = P10.transpose()\n",
    "P10"
   ]
  },
  {
   "cell_type": "code",
   "execution_count": 30,
   "metadata": {},
   "outputs": [
    {
     "data": {
      "text/latex": [
       "$\\displaystyle \\left[\\begin{matrix}1\\\\q\\\\q^{2}\\\\q^{3}\\\\q^{4}\\\\q^{5}\\end{matrix}\\right]$"
      ],
      "text/plain": [
       "Matrix([\n",
       "[   1],\n",
       "[   q],\n",
       "[q**2],\n",
       "[q**3],\n",
       "[q**4],\n",
       "[q**5]])"
      ]
     },
     "execution_count": 30,
     "metadata": {},
     "output_type": "execute_result"
    }
   ],
   "source": [
    "P11 = sp.Matrix([q**i for i in range(6)])\n",
    "P11"
   ]
  },
  {
   "cell_type": "code",
   "execution_count": 37,
   "metadata": {},
   "outputs": [
    {
     "data": {
      "text/latex": [
       "$\\displaystyle 51482970 q^{5} t^{5} + 6864396 q^{5} t^{4} + 813960 q^{5} t^{3} + 81396 q^{5} t^{2} + 6188 q^{5} t + 273 q^{5} + 4476780 q^{4} t^{5} + 678300 q^{4} t^{4} + 92820 q^{4} t^{3} + 10920 q^{4} t^{2} + 1001 q^{4} t + 55 q^{4} + 352716 q^{3} t^{5} + 61880 q^{3} t^{4} + 10010 q^{3} t^{3} + 1430 q^{3} t^{2} + 165 q^{3} t + 12 q^{3} + 24024 q^{2} t^{5} + 5005 q^{2} t^{4} + 990 q^{2} t^{3} + 180 q^{2} t^{2} + 28 q^{2} t + 3 q^{2} + 1287 q t^{5} + 330 q t^{4} + 84 q t^{3} + 21 q t^{2} + 5 q t + q + 42 t^{5} + 14 t^{4} + 5 t^{3} + 2 t^{2} + t + 1$"
      ],
      "text/plain": [
       "51482970*q**5*t**5 + 6864396*q**5*t**4 + 813960*q**5*t**3 + 81396*q**5*t**2 + 6188*q**5*t + 273*q**5 + 4476780*q**4*t**5 + 678300*q**4*t**4 + 92820*q**4*t**3 + 10920*q**4*t**2 + 1001*q**4*t + 55*q**4 + 352716*q**3*t**5 + 61880*q**3*t**4 + 10010*q**3*t**3 + 1430*q**3*t**2 + 165*q**3*t + 12*q**3 + 24024*q**2*t**5 + 5005*q**2*t**4 + 990*q**2*t**3 + 180*q**2*t**2 + 28*q**2*t + 3*q**2 + 1287*q*t**5 + 330*q*t**4 + 84*q*t**3 + 21*q*t**2 + 5*q*t + q + 42*t**5 + 14*t**4 + 5*t**3 + 2*t**2 + t + 1"
      ]
     },
     "execution_count": 37,
     "metadata": {},
     "output_type": "execute_result"
    }
   ],
   "source": [
    "P12 = sp.expand(P10 * P9 * P11)[0]\n",
    "P12"
   ]
  },
  {
   "cell_type": "markdown",
   "metadata": {},
   "source": [
    "Let $P12$ be $$F = 1 + tF^2 + qF^3 $$\n",
    "\n",
    "Is this true up to terms of degree 5 in both $t$ $q$"
   ]
  },
  {
   "cell_type": "code",
   "execution_count": 45,
   "metadata": {},
   "outputs": [
    {
     "data": {
      "text/latex": [
       "$\\displaystyle q^{5} \\left(330184434888 t^{15} + 247546793655 t^{14} + 126113913900 t^{13} + 55511341386 t^{12} + 56669944821 t^{11} + 26492266317 t^{10} + 8573240311 t^{9} + 2452174534 t^{8} + 690892315 t^{7} + 257709636 t^{6} + 51482970 t^{5} + 6864396 t^{4} + 813960 t^{3} + 81396 t^{2} + 6188 t + 273\\right) + q^{4} \\left(11789879751 t^{15} + 9429920370 t^{14} + 5141401668 t^{13} + 2428662489 t^{12} + 2982944547 t^{11} + 1477086369 t^{10} + 517154188 t^{9} + 161691066 t^{8} + 50285736 t^{7} + 20974575 t^{6} + 4476780 t^{5} + 678300 t^{4} + 92820 t^{3} + 10920 t^{2} + 1001 t + 55\\right) + q^{3} \\left(335837502 t^{15} + 287837550 t^{14} + 168778863 t^{13} + 86023326 t^{12} + 134393307 t^{11} + 70879854 t^{10} + 27042746 t^{9} + 9325552 t^{8} + 3237501 t^{7} + 1532286 t^{6} + 352716 t^{5} + 61880 t^{4} + 10010 t^{3} + 1430 t^{2} + 165 t + 12\\right) + q^{2} \\left(6810804 t^{15} + 6286896 t^{14} + 3987144 t^{13} + 2206512 t^{12} + 4872150 t^{11} + 2754870 t^{10} + 1155250 t^{9} + 444241 t^{8} + 174610 t^{7} + 95577 t^{6} + 24024 t^{5} + 5005 t^{4} + 990 t^{3} + 180 t^{2} + 28 t + 3\\right) + q \\left(74088 t^{15} + 74088 t^{14} + 51156 t^{13} + 30968 t^{12} + 126546 t^{11} + 77322 t^{10} + 36011 t^{9} + 15654 t^{8} + 7095 t^{7} + 4609 t^{6} + 1287 t^{5} + 330 t^{4} + 84 t^{3} + 21 t^{2} + 5 t + 1\\right) + 1764 t^{11} + 1176 t^{10} + 616 t^{9} + 308 t^{8} + 165 t^{7} + 132 t^{6} + 42 t^{5} + 14 t^{4} + 5 t^{3} + 2 t^{2} + t + 1$"
      ],
      "text/plain": [
       "q**5*(330184434888*t**15 + 247546793655*t**14 + 126113913900*t**13 + 55511341386*t**12 + 56669944821*t**11 + 26492266317*t**10 + 8573240311*t**9 + 2452174534*t**8 + 690892315*t**7 + 257709636*t**6 + 51482970*t**5 + 6864396*t**4 + 813960*t**3 + 81396*t**2 + 6188*t + 273) + q**4*(11789879751*t**15 + 9429920370*t**14 + 5141401668*t**13 + 2428662489*t**12 + 2982944547*t**11 + 1477086369*t**10 + 517154188*t**9 + 161691066*t**8 + 50285736*t**7 + 20974575*t**6 + 4476780*t**5 + 678300*t**4 + 92820*t**3 + 10920*t**2 + 1001*t + 55) + q**3*(335837502*t**15 + 287837550*t**14 + 168778863*t**13 + 86023326*t**12 + 134393307*t**11 + 70879854*t**10 + 27042746*t**9 + 9325552*t**8 + 3237501*t**7 + 1532286*t**6 + 352716*t**5 + 61880*t**4 + 10010*t**3 + 1430*t**2 + 165*t + 12) + q**2*(6810804*t**15 + 6286896*t**14 + 3987144*t**13 + 2206512*t**12 + 4872150*t**11 + 2754870*t**10 + 1155250*t**9 + 444241*t**8 + 174610*t**7 + 95577*t**6 + 24024*t**5 + 5005*t**4 + 990*t**3 + 180*t**2 + 28*t + 3) + q*(74088*t**15 + 74088*t**14 + 51156*t**13 + 30968*t**12 + 126546*t**11 + 77322*t**10 + 36011*t**9 + 15654*t**8 + 7095*t**7 + 4609*t**6 + 1287*t**5 + 330*t**4 + 84*t**3 + 21*t**2 + 5*t + 1) + 1764*t**11 + 1176*t**10 + 616*t**9 + 308*t**8 + 165*t**7 + 132*t**6 + 42*t**5 + 14*t**4 + 5*t**3 + 2*t**2 + t + 1"
      ]
     },
     "execution_count": 45,
     "metadata": {},
     "output_type": "execute_result"
    }
   ],
   "source": [
    "P13 = sp.expand(1 + t * P12**2 + q * P12**3).series(q, 0, 6).removeO()\n",
    "P13"
   ]
  },
  {
   "cell_type": "code",
   "execution_count": 49,
   "metadata": {},
   "outputs": [
    {
     "data": {
      "text/latex": [
       "$\\displaystyle 51482970 q^{5} t^{5} + 6864396 q^{5} t^{4} + 813960 q^{5} t^{3} + 81396 q^{5} t^{2} + 6188 q^{5} t + 273 q^{5} + 4476780 q^{4} t^{5} + 678300 q^{4} t^{4} + 92820 q^{4} t^{3} + 10920 q^{4} t^{2} + 1001 q^{4} t + 55 q^{4} + 352716 q^{3} t^{5} + 61880 q^{3} t^{4} + 10010 q^{3} t^{3} + 1430 q^{3} t^{2} + 165 q^{3} t + 12 q^{3} + 24024 q^{2} t^{5} + 5005 q^{2} t^{4} + 990 q^{2} t^{3} + 180 q^{2} t^{2} + 28 q^{2} t + 3 q^{2} + 1287 q t^{5} + 330 q t^{4} + 84 q t^{3} + 21 q t^{2} + 5 q t + q + 42 t^{5} + 14 t^{4} + 5 t^{3} + 2 t^{2} + t + 1$"
      ],
      "text/plain": [
       "51482970*q**5*t**5 + 6864396*q**5*t**4 + 813960*q**5*t**3 + 81396*q**5*t**2 + 6188*q**5*t + 273*q**5 + 4476780*q**4*t**5 + 678300*q**4*t**4 + 92820*q**4*t**3 + 10920*q**4*t**2 + 1001*q**4*t + 55*q**4 + 352716*q**3*t**5 + 61880*q**3*t**4 + 10010*q**3*t**3 + 1430*q**3*t**2 + 165*q**3*t + 12*q**3 + 24024*q**2*t**5 + 5005*q**2*t**4 + 990*q**2*t**3 + 180*q**2*t**2 + 28*q**2*t + 3*q**2 + 1287*q*t**5 + 330*q*t**4 + 84*q*t**3 + 21*q*t**2 + 5*q*t + q + 42*t**5 + 14*t**4 + 5*t**3 + 2*t**2 + t + 1"
      ]
     },
     "execution_count": 49,
     "metadata": {},
     "output_type": "execute_result"
    }
   ],
   "source": [
    "P14 = sp.expand(sp.expand(P13).series(t, 0, 6).removeO())"
   ]
  },
  {
   "cell_type": "markdown",
   "metadata": {},
   "source": [
    "<b>Observe</b> If $P14$ is equal to $P12$, then this all comes together \n",
    "\n",
    "<b>Observe</b> Up to 5, these numbers are counting BiTri Roofed polygons - \n",
    "\n",
    "So confirmed conjecture that 10010 actually does manage 11-gons\n",
    "\n",
    "<b>Observe</b> Now it can be expanded"
   ]
  },
  {
   "cell_type": "code",
   "execution_count": null,
   "metadata": {},
   "outputs": [],
   "source": []
  }
 ],
 "metadata": {
  "kernelspec": {
   "display_name": "Python 3",
   "language": "python",
   "name": "python3"
  },
  "language_info": {
   "codemirror_mode": {
    "name": "ipython",
    "version": 3
   },
   "file_extension": ".py",
   "mimetype": "text/x-python",
   "name": "python",
   "nbconvert_exporter": "python",
   "pygments_lexer": "ipython3",
   "version": "3.9.2"
  }
 },
 "nbformat": 4,
 "nbformat_minor": 4
}
