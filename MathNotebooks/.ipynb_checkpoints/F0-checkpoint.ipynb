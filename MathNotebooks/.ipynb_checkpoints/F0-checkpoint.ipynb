{
 "cells": [
  {
   "cell_type": "code",
   "execution_count": 1,
   "id": "e3a0263f-3639-4572-8863-8aa44e57bf1f",
   "metadata": {},
   "outputs": [],
   "source": [
    "import numpy as np\n",
    "import sympy as sp\n",
    "from IPython.display import HTML\n",
    "import ipywidgets as widgets\n",
    "import matplotlib as mpl\n",
    "from mpl_toolkits.mplot3d import Axes3D\n",
    "import matplotlib.pyplot as plt\n",
    "mpl.rcParams['legend.fontsize'] = 10\n",
    "import pandas as pd\n",
    "import itertools\n",
    "\n",
    "# This is commented out\n",
    "#%matplotlib widget\n",
    "\n",
    "# function to print latex\n",
    "def renderListToLatex(e):\n",
    "    latex_rendering = []\n",
    "\n",
    "    for i in range(len(e)):\n",
    "        latex_rendering.append(\"$\" + sp.latex(e[i]) + \"$ <br/> \")\n",
    "    \n",
    "    return(HTML(\"\".join(latex_rendering[0:])))\n",
    "    \n",
    "    \n",
    "def convert3DVectorToSQRTOfQuadrance(v):\n",
    "    return(sp.N(sp.sqrt(sum([v.args[i].args[0]**2 for i in range(len(v.args))]))))\n",
    "\n",
    "\n",
    "\n",
    "def convert3DVectorToComponents(v, scaleChoice):\n",
    "    print(v)\n",
    "    return(sp.parse_expr(str(v.args).replace('i', scaleChoice).replace(\"j\", scaleChoice).replace(\"k\", scaleChoice)))\n",
    "    "
   ]
  },
  {
   "cell_type": "markdown",
   "id": "681816bb-53ae-4450-8d80-c803f933346d",
   "metadata": {},
   "source": [
    "<hr/>\n",
    "\n",
    "<b>Aim</b>: Link equations relating to motion in 1 dimension\n",
    "\n",
    "<hr/>\n"
   ]
  },
  {
   "cell_type": "markdown",
   "id": "3188bde1-214e-48fa-ba0e-ae3d2eec783b",
   "metadata": {},
   "source": [
    "Let the following be unknown types"
   ]
  },
  {
   "cell_type": "code",
   "execution_count": 2,
   "id": "0de3ac03-a709-4138-9cc7-59553c0f24d0",
   "metadata": {},
   "outputs": [],
   "source": [
    "va, vi, v, v0, a, x, x0, t0, t1, m, s = sp.symbols('va, vi, v, v0, a, x, x0, t0, t1, m, s')"
   ]
  },
  {
   "cell_type": "code",
   "execution_count": 3,
   "id": "47172f21-de1b-471b-b27b-4e441269c573",
   "metadata": {},
   "outputs": [],
   "source": [
    "def createParticleMovementSummary(v = None, v0 = None, a = None, x = None, x0 = None, t1 = None, t0 = None, solutionsNeeded = []):\n",
    "    #create summary\n",
    "    print(\"###################### SUMMARY #######################\")\n",
    "    print(\"Initial Position \\t (x0):\\t\", x0)\n",
    "    print(\"Final Position \\t\\t (x):\\t\", x)\n",
    "    print(\"Initial Velocity \\t (v0):\\t\", v0)\n",
    "    print(\"Final Velocity \\t\\t (v):\\t\", v)\n",
    "    print(\"Acceleration \\t\\t (a):\\t\", a)\n",
    "    print(\"Initial Time:\\t\\t (t0)\\t\", t0)\n",
    "    print(\"Final Time:\\t\\t (t1)\\t\", t1)\n",
    "\n",
    "    print(\"\\nAll variables evaluated against 5 equations for motion in 1 direction.\")\n",
    "    print(\"\\nSolutions needed: \", solutionsNeeded)\n",
    "    print(\"\\nResults: \\n\")\n",
    "    \n",
    "    \n",
    "def removeUnitVariables(v = []):\n",
    "    \n",
    "    counts = 0\n",
    "\n",
    "    try:\n",
    "        v.remove(s)\n",
    "\n",
    "    except:\n",
    "        pass\n",
    "    try:\n",
    "        v.remove(m)\n",
    "            \n",
    "    except:\n",
    "        pass\n",
    "    \n",
    "    return({'variablesToSolveFor': v, \"count\" : len(v)})"
   ]
  },
  {
   "cell_type": "code",
   "execution_count": 4,
   "id": "33fde14a-99fc-4caa-bd42-67fceb1bae3d",
   "metadata": {},
   "outputs": [],
   "source": [
    "def calculateParticleMovement(_v = None, _v0 = None, _a = None,\n",
    "                    _x = None, _x0 = None, _t0 = None, _t1 = None,\n",
    "                             solutionsNeeded = [],\n",
    "                             countOffreeVariablesAllowedInSolution = None,\n",
    "                             createSummary = False):\n",
    "    \n",
    "    \n",
    "    # ACCELERATION???\n",
    "    # Create variables\n",
    "    va, vi, v, v0, a, x, x0, t0, t1, m, s = sp.symbols('va, vi, v, v0, a, x, x0, t0, t1, m, s')\n",
    "    \n",
    "    # Provide summary\n",
    "    if createSummary:\n",
    "        createParticleMovementSummary(v0  = _v0, v = _v, a = _a, x = _x, x0 = _x0, t0 = _t0, t1 = _t1, solutionsNeeded = solutionsNeeded)\n",
    "    \n",
    "    \n",
    "    # Physics Equations\n",
    "    F1 = sp.Eq(x, x0 + v0 * t1 + .5 * a *t1**2)\n",
    "    F2 = sp.Eq(v**2, v0**2 + 2 * a * (x - x0))\n",
    "    F3 = sp.Eq(v, v0 + a * t1)\n",
    "    F15 = sp.Eq(va, (x - x0) / (t1 - t0))\n",
    "    \n",
    "    F7 = sp.Eq(v, v0  + sp.integrate(a, (t1, 0, t1)))\n",
    "    F8 = sp.Eq(x, x0  + sp.integrate(v, (t1, 0, t1)))\n",
    "    F16 = sp.Eq(vi, sp.diff(_x, t1))\n",
    "  \n",
    "    \n",
    " \n",
    "    # Create list of physics equations with values provided\n",
    "    F4 = [i.subs({v:_v, v0: _v0, a:_a, x:_x, x0:_x0, t0:_t0, t1:_t1 }) for i in [F1, F2, F3, F7, F8, F15, F16]]\n",
    "    # Create free symbols for each of the equations in F4\n",
    "    F5 = [list(i.free_symbols) for i in F4]\n",
    "    \n",
    "    \n",
    "    # Remove units before solutinos\n",
    "    F12 = []\n",
    "    for i in range(len(F5)):\n",
    "        F12.append((removeUnitVariables(F5[i])))\n",
    "\n",
    "\n",
    "    F6 = []\n",
    "    # Get solutions for each of the equations for values other than unit variables\n",
    "    for i in range(len(F4)):\n",
    "        for j in range(len(F12[i]['variablesToSolveFor'])): \n",
    "            solutions = sp.solve(F4[i], F12[i]['variablesToSolveFor'][j])\n",
    "            # Break all solutions into sgle solutions\n",
    "            for k in range(len(solutions)):\n",
    "                singleSolution = sp.Eq(F12[i]['variablesToSolveFor'][j], sp.solve(F4[i], F12[i]['variablesToSolveFor'][j])[k])\n",
    "                \n",
    "                # If no particular solutions sought, return everything\n",
    "                if len(solutionsNeeded) == 0:\n",
    "                    F6.append(singleSolution)\n",
    "                # if only certain solutions are needed return these \n",
    "                elif singleSolution.lhs in solutionsNeeded:\n",
    "                    F6.append(singleSolution)\n",
    "                    \n",
    "    F9 = [list(i.free_symbols) for i in F6]\n",
    "    F11 = [removeUnitVariables(i) for i in F9]\n",
    "    \n",
    "    if countOffreeVariablesAllowedInSolution is not None:\n",
    "        F13 = ([(idx) for idx, solution in enumerate(F11) if solution['count'] <= countOffreeVariablesAllowedInSolution])    \n",
    "        F14 = np.array(F6)[F13]\n",
    "        return(F14)\n",
    "    else:\n",
    "        return(F6)\n"
   ]
  },
  {
   "cell_type": "code",
   "execution_count": 5,
   "id": "43a2246f-45c6-4353-80a6-6874c70eca50",
   "metadata": {},
   "outputs": [
    {
     "name": "stdout",
     "output_type": "stream",
     "text": [
      "###################### SUMMARY #######################\n",
      "Initial Position \t (x0):\t None\n",
      "Final Position \t\t (x):\t 20*m + 5*m*t1**2/s**2\n",
      "Initial Velocity \t (v0):\t None\n",
      "Final Velocity \t\t (v):\t None\n",
      "Acceleration \t\t (a):\t None\n",
      "Initial Time:\t\t (t0)\t None\n",
      "Final Time:\t\t (t1)\t None\n",
      "\n",
      "All variables evaluated against 5 equations for motion in 1 direction.\n",
      "\n",
      "Solutions needed:  [vi]\n",
      "\n",
      "Results: \n",
      "\n"
     ]
    },
    {
     "data": {
      "text/html": [
       "$vi = \\frac{10 m t_{1}}{s^{2}}$ <br/> "
      ],
      "text/plain": [
       "<IPython.core.display.HTML object>"
      ]
     },
     "execution_count": 5,
     "metadata": {},
     "output_type": "execute_result"
    }
   ],
   "source": [
    "P2 = calculateParticleMovement(_x = 20 * m + (5 * (m / s**2)) * t1**2,\n",
    "                               solutionsNeeded=[vi],\n",
    "                               createSummary=True)\n",
    "renderListToLatex(P2)"
   ]
  },
  {
   "cell_type": "code",
   "execution_count": 7,
   "id": "abc6edb1-c537-478a-984b-7b464d521d80",
   "metadata": {},
   "outputs": [
    {
     "data": {
      "text/latex": [
       "$\\displaystyle \\frac{10 m t_{1}}{s^{2}}$"
      ],
      "text/plain": [
       "10*m*t1/s**2"
      ]
     },
     "execution_count": 7,
     "metadata": {},
     "output_type": "execute_result"
    }
   ],
   "source": [
    "sp.diff(20 * m + (5 * (m / s**2) * t1**2), t1)"
   ]
  },
  {
   "cell_type": "code",
   "execution_count": 77,
   "id": "6e033b16-e277-4731-a5c6-c848ed0789fc",
   "metadata": {},
   "outputs": [],
   "source": [
    "# P2 = calculateParticleMovement(_a = 2 * (m / s**2) - (.1 * (m / s**3)) * t1,\n",
    "#                               _v0 = 10 * (m / s),\n",
    "#                               _x0 = 50 * m,\n",
    "#                                solutionsNeeded=[x, va],\n",
    "#                                 countOffreeVariablesAllowedInSolution = 1,\n",
    "#                                createSummary=True)\n",
    "#renderListToLatex(P2)"
   ]
  },
  {
   "cell_type": "code",
   "execution_count": 78,
   "id": "b1c52434-6694-4e06-b100-b9c0cef374de",
   "metadata": {},
   "outputs": [],
   "source": [
    "x0, x1, y0, y1, z0, z1, v0, v1, a0, a1, t, t0, t1, pFuX, pFuY, pFuZ, vFu, aFu  = sp.symbols('x0, x1, y0, y1, z0, z1, v0, v1, a0, a1, t, t0, t1, pFuX, pFuY, pFuZ, vFu, aFu ')"
   ]
  },
  {
   "cell_type": "code",
   "execution_count": 199,
   "id": "de588782-6b18-4f41-86df-6400faee7cf0",
   "metadata": {},
   "outputs": [],
   "source": [
    "def createParticleMovementSummary(x0 = None, x1 = None, y0 = None, \n",
    "                                  y1 = None, z0 = None, z1 = None, \n",
    "                                  v0 = None, v1 = None,  a0 = None, \n",
    "                                  a1 = None, t0 = None,  t1 = None, \n",
    "                                  pFunX = None, pFunY = None, pFunZ = None, \n",
    "                                  vFu = None, aFu = None, solutionsNeeded = []):\n",
    "    #create summary\n",
    "    print(\"###################### SUMMARY #######################\")\n",
    "    print(\"Initial x Position \\t (x0):\\t\", x0)\n",
    "    print(\"Final x Position \\t (x):\\t\", x1)\n",
    "    print(\"Position function (i) \\t (xf):\\t\", pFunX)\n",
    "    print(\"Position function (j) \\t (xf):\\t\", pFunY)\n",
    "    print(\"Initial Velocity \\t (v0):\\t\", v0)\n",
    "    print(\"Final Velocity \\t\\t (v):\\t\", v1)\n",
    "    print(\"Acceleration \\t\\t (a):\\t\", a0)\n",
    "    print(\"Initial Time:\\t\\t (t0)\\t\", t0)\n",
    "    print(\"Final Time:\\t\\t (t1)\\t\", t1)\n",
    "\n",
    "    print(\"\\nAll variables evaluated against 5 equations for motion in multiple directions.\")\n",
    "    print(\"\\nSolutions needed: \", solutionsNeeded)\n",
    "    \n",
    "    print(\"###################### LAWS #######################\\n\\n\")\n",
    "    \n",
    "    print(\"\\nResults: \\n\")\n",
    "    \n",
    "\n",
    "def calculateParticleMovementMultipleDimension(_x0 = None, _x1 = None, _y0 = None, \n",
    "                                               _y1 = None, _z0 = None,_z1 = None, \n",
    "                                               _v0 = None, _v1 = None, _a0 = None, \n",
    "                                               _a1 = None, _t0 = None, _t1 = None, \n",
    "                                               _pFunX = None,_pFunY = None,_pFunZ = None, \n",
    "                                               _vFunX = None, _aFun = None, \n",
    "                             solutionsNeeded = [],\n",
    "                             countOffreeVariablesAllowedInSolution = None,\n",
    "                             createSummary = False):\n",
    "    # Create variables\n",
    "    i, j, k, x0, x1, y0, y1, z0, z1, v0, v1, a0, a1, t0, t1, pFunX, pFunY, pFunZ, vFunX, vFunY, vFunZ, aFu = sp.symbols(\"i, j, k, x0, x1, y0, y1, z0, z1, v0, v1, a0, a1, t0, t1, pFunX, pFunY, pFunZ, vFunX, vFunY, vFunZ, aFu\") \n",
    "     \n",
    "    \n",
    "    if createSummary:\n",
    "        createParticleMovementSummary(\n",
    "            pFunX = _pFunX, \n",
    "            pFunY = _pFunY, \n",
    "            solutionsNeeded = solutionsNeeded)\n",
    "    \n",
    "    \n",
    "    \n",
    "### TIME \n",
    "    if _t0 == None:\n",
    "        t0 = 0\n",
    "        \n",
    "    if _t1 != None:\n",
    "        __t1 = _t1 - t0\n",
    "        \n",
    " \n",
    "    pFunX = _pFunX\n",
    "    pFunY = _pFunY\n",
    "    vFunX = sp.diff(pFunX, x1)\n",
    "    vFunY = sp.diff(pFunY, y1)\n",
    "    \n",
    "\n",
    "    F1 = [i.subs({x0: _x0, y1:_y1, t1: __t1}) for i in [pFunX, pFunY, sp.Eq(z1, 0)]]\n",
    "       \n",
    "    F2 = [i.subs({x0: _x0, x1:_x1, t1: __t1}) for i in [pFunX, pFunY, sp.Eq(z1, 0)]]\n",
    "    \n",
    "\n",
    "    \n",
    "    eucDistance = sp.sqrt(sum(([F1[i].rhs**2 for i in range(len(F1))])))\n",
    "    \n",
    "    \n",
    "    return([F1, eucDistance])\n",
    "    \n",
    "    \n"
   ]
  },
  {
   "cell_type": "code",
   "execution_count": 200,
   "id": "501c5a46-55b4-43f9-84e8-47fb7448af09",
   "metadata": {},
   "outputs": [
    {
     "name": "stdout",
     "output_type": "stream",
     "text": [
      "###################### SUMMARY #######################\n",
      "Initial x Position \t (x0):\t None\n",
      "Final x Position \t (x):\t None\n",
      "Position function (i) \t (xf):\t Eq(x1, 2*m - 0.25*m*t1**2/s**2)\n",
      "Position function (j) \t (xf):\t Eq(y1, m*t1/s + 0.025*m*t1**3/s**3)\n",
      "Initial Velocity \t (v0):\t None\n",
      "Final Velocity \t\t (v):\t None\n",
      "Acceleration \t\t (a):\t None\n",
      "Initial Time:\t\t (t0)\t None\n",
      "Final Time:\t\t (t1)\t None\n",
      "\n",
      "All variables evaluated against 5 equations for motion in multiple directions.\n",
      "\n",
      "Solutions needed:  []\n",
      "###################### LAWS #######################\n",
      "\n",
      "\n",
      "\n",
      "Results: \n",
      "\n"
     ]
    },
    {
     "data": {
      "text/plain": [
       "[[Eq(x1, 1.0*m), Eq(y1, 2.2*m), Eq(z1, 0)], 2.41660919471891*sqrt(m**2)]"
      ]
     },
     "execution_count": 200,
     "metadata": {},
     "output_type": "execute_result"
    }
   ],
   "source": [
    "xChoice =  sp.Eq(x1, 2 * m - (.25 * (m /  s**2)) * t1**2)\n",
    "yChoice = sp.Eq(y1, 1 * (m / s) * t1 + .025 * (m / s**3) * t1**3)\n",
    "#renderListToLatex([xChoice, yChoice])\n",
    "calculateParticleMovementMultipleDimension(_pFunX=xChoice,\n",
    "                                           _pFunY=yChoice,\n",
    "                                           _t1 = 2 * s,\n",
    "                                          createSummary=True)"
   ]
  },
  {
   "cell_type": "code",
   "execution_count": null,
   "id": "ba830430-6f3e-47b5-9eeb-6c658fee6506",
   "metadata": {},
   "outputs": [],
   "source": []
  },
  {
   "cell_type": "code",
   "execution_count": null,
   "id": "0d34389f-e194-43c4-9484-8d075e31154c",
   "metadata": {},
   "outputs": [],
   "source": []
  }
 ],
 "metadata": {
  "kernelspec": {
   "display_name": "Python 3",
   "language": "python",
   "name": "python3"
  },
  "language_info": {
   "codemirror_mode": {
    "name": "ipython",
    "version": 3
   },
   "file_extension": ".py",
   "mimetype": "text/x-python",
   "name": "python",
   "nbconvert_exporter": "python",
   "pygments_lexer": "ipython3",
   "version": "3.9.2"
  }
 },
 "nbformat": 4,
 "nbformat_minor": 5
}
