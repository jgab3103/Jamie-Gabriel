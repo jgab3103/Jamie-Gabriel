{
 "cells": [
  {
   "cell_type": "code",
   "execution_count": 2,
   "id": "15e05413-f58d-4432-ba39-6717f485875a",
   "metadata": {},
   "outputs": [],
   "source": [
    "import numpy as np\n",
    "import sympy as sp\n",
    "from IPython.display import HTML, IFrame\n",
    "import ipywidgets as widgets\n",
    "import matplotlib as mpl\n",
    "from mpl_toolkits.mplot3d import Axes3D\n",
    "import matplotlib.pyplot as plt\n",
    "mpl.rcParams['legend.fontsize'] = 10\n",
    "import pandas as pd\n",
    "import itertools\n",
    "from IPython.display import Image\n",
    "\n",
    "# This is commented out\n",
    "#%matplotlib widget\n",
    "\n",
    "# function to print latex\n",
    "def renderListToLatex(e):\n",
    "    latex_rendering = []\n",
    "\n",
    "    for i in range(len(e)):\n",
    "        latex_rendering.append(\"$$\" + sp.latex(e[i]) + \"$$\")\n",
    "    \n",
    "    return(HTML(\"\".join(latex_rendering[0:])))"
   ]
  },
  {
   "cell_type": "markdown",
   "id": "b2ccd097-17ed-42ca-acdb-74335ad51a53",
   "metadata": {},
   "source": [
    "<hr/>\n",
    "<b>Aim</b>: Introduce de Casteljau Bezier (dCB) curves as fundamental objects of Algebraic Calculus  \n",
    "<hr/>\n",
    "\n"
   ]
  },
  {
   "cell_type": "markdown",
   "id": "8e926e9b-e6d2-447f-89d8-0e3b9ea7f78c",
   "metadata": {},
   "source": [
    "<b>Observe</b>: dCB curves are direct computional objects in Algebraic Calculus\n",
    "\n",
    "<b>Observe</b>: They are also referred to as <b>polynomial paramaterised curves</b>"
   ]
  },
  {
   "cell_type": "code",
   "execution_count": 143,
   "id": "87f2ab2b-cc96-4250-814e-aa580cbe7e90",
   "metadata": {},
   "outputs": [],
   "source": [
    "# IMAGE HERE FROM GEOG"
   ]
  },
  {
   "cell_type": "markdown",
   "id": "3ac16351-5f32-4445-889e-1464b51886c4",
   "metadata": {},
   "source": [
    "<b>Observe</b>: dCB curves can be described be lines and control points in an affine setting. \n",
    "\n",
    "<b>Observe</b>: the locus of the dCB curve is created by linear operations. \n",
    "\n",
    "<b>Observe</b> Affine combination of $(1 - t) P0 + P1(t)$ determine a locus of of a point on the plane. \n",
    "\n",
    "<b>Observe</b>: By adding more lines and control points, more complex curves where complexity relates to the overall amount of turning. For examples, cubic dCB have more control points that quadratice dCB curves. \n",
    "\n",
    "<b>Observe</b>: In the Quadriatic and Cubic case of dCB cuves, the control points are also tangent lines, so they can be joined. \n"
   ]
  },
  {
   "cell_type": "code",
   "execution_count": 144,
   "id": "37fc95f0-f0c3-42eb-ad45-554d46c2884c",
   "metadata": {},
   "outputs": [],
   "source": [
    "# IMAGE of joinging quadratic / cubic "
   ]
  },
  {
   "cell_type": "markdown",
   "id": "8bcc595e-648c-422a-84f4-ee62216bb0f6",
   "metadata": {},
   "source": [
    "<hr/>\n",
    "\n",
    "<b>Aim</b>: Introduce Polynumbers to allow an algebraic representation of dCB curves\n",
    "<hr/>"
   ]
  },
  {
   "cell_type": "code",
   "execution_count": 4,
   "id": "e1961db1-353a-47bb-a7f3-56e6537c3c9a",
   "metadata": {},
   "outputs": [],
   "source": [
    "P = [1, 2, 0, -3]"
   ]
  },
  {
   "cell_type": "code",
   "execution_count": 5,
   "id": "5f5c545d-6218-4d61-8464-90980facd03b",
   "metadata": {},
   "outputs": [],
   "source": [
    "P = [1, 2, 0, -3, 0, 0]"
   ]
  },
  {
   "cell_type": "code",
   "execution_count": 6,
   "id": "f473c06b-6f4c-46b5-8311-8b0df97821e4",
   "metadata": {},
   "outputs": [],
   "source": [
    "# both are the same \n",
    "\n",
    "# not exactly a vector\n",
    "\n",
    "# "
   ]
  },
  {
   "cell_type": "markdown",
   "id": "00171598-bfcc-4dea-87c2-fe30330417d4",
   "metadata": {},
   "source": [
    "The degree of a polynumber is k if p_k 0s non-zero - so last non 0 entry is degree \n",
    "\n",
    "[0] - degree is not defined\n",
    "\n",
    "Scalar multiple is possible \n",
    "\n",
    "[7 3] + [-4 2 8] = [3 5 8] same as [[7 3 0]\n",
    "\n",
    "multiplication is defined using cauchy product\n",
    "\n",
    "[1 2] x [5 x 2] + [5 17 6]\n",
    "\n",
    "unit polynumber [1] - identity\n",
    "\n",
    "consider third polynumber is important - 0, 1, now $\\alpha$\n",
    "\n",
    "a = [0 1] - note powers of this will be a *a = [0, 0, 1]\n",
    "\n",
    "alpha is not variable just a partuclar simple polynumber \n",
    "\n",
    "alpha is a natural generator for powers - gives the equivalence of variable\n",
    "\n",
    "so consider [1 2, 0, -3] - gives alpha and coefficitns\n",
    "\n",
    "we also get multiplication which is normal polynomial \n",
    "\n",
    "\n",
    "\n"
   ]
  },
  {
   "cell_type": "markdown",
   "id": "363f4add-e024-4ef8-9284-8339db832307",
   "metadata": {},
   "source": [
    "Note we don't have variable as such - ut we can still evanulate - get a 2 list of polynomial paramaterised curve - these are more comp science way of \n",
    "\n",
    "<b>Polynomially parametrised cruve </b>\n",
    "\n",
    "$$ \\gamma = [p, q] $$\n",
    "\n",
    "Curve is list of 2 polynumbers -\n",
    "\n",
    "\n",
    "27.43 time"
   ]
  },
  {
   "cell_type": "markdown",
   "id": "31987025-3866-43f1-b93b-4bd99d44cc83",
   "metadata": {},
   "source": [
    "Let $P0, P1 P2 \\ldots$ be an ongoing sequence of sequence of planar control points to arbitrary but finite length"
   ]
  },
  {
   "cell_type": "code",
   "execution_count": 155,
   "id": "8d83f70a-54a1-448e-ac16-6fdfa1839191",
   "metadata": {},
   "outputs": [],
   "source": [
    "P0, P1, P2, P3, Q0, Q1, Q2, Q3, R0, R1, R2, R3, S0, S1, S2, S3, t, p01, p02, p11, p12, p21, p22 = sp.symbols('P0, P1, P2, P3, Q0, Q1, Q2, Q3, R0, R1, R2, R3, S0, S1, S2, S3, t, p01, p02, p11, p12, p21, p22 ')"
   ]
  },
  {
   "cell_type": "code",
   "execution_count": 156,
   "id": "f3e0fc80-655b-4af6-81e2-9aa812169a3d",
   "metadata": {},
   "outputs": [
    {
     "data": {
      "text/html": [
       "$$Q_{0} = P_{0} \\left(1 - t\\right) + P_{1} t$$$$Q_{1} = P_{1} \\left(1 - t\\right) + P_{2} t$$$$Q_{2} = P_{2} \\left(1 - t\\right) + P_{3} t$$$$R_{0} = Q_{0} \\left(1 - t\\right) + Q_{1} t$$$$R_{1} = Q_{1} \\left(1 - t\\right) + Q_{2} t$$$$R_{2} = Q_{2} \\left(1 - t\\right) + Q_{3} t$$$$S_{0} = R_{0} \\left(1 - t\\right) + R_{1} t$$$$S_{1} = R_{1} \\left(1 - t\\right) + R_{2} t$$$$S_{2} = R_{2} \\left(1 - t\\right) + R_{3} t$$"
      ],
      "text/plain": [
       "<IPython.core.display.HTML object>"
      ]
     },
     "execution_count": 156,
     "metadata": {},
     "output_type": "execute_result"
    }
   ],
   "source": [
    "F1 = sp.Eq(Q0, (1 - t) * P0 + t * P1) \n",
    "F2 = sp.Eq(Q1, (1 - t) * P1 + t * P2)\n",
    "F3 = sp.Eq(Q2, (1 - t) * P2 + t * P3) \n",
    "\n",
    "F4 = sp.Eq(R0, (1 - t) * Q0 + t * Q1) \n",
    "F5 = sp.Eq(R1, (1 - t) * Q1 + t * Q2)\n",
    "F6 = sp.Eq(R2, (1 - t) * Q2 + t * Q3) \n",
    "\n",
    "F7 = sp.Eq(S0, (1 - t) * R0 + t * R1) \n",
    "F8 = sp.Eq(S1, (1 - t) * R1 + t * R2)\n",
    "F9 = sp.Eq(S2, (1 - t) * R2 + t * R3) \n",
    "\n",
    "renderListToLatex([F1, F2, F3, F4, F5, F6, F7, F8, F9])"
   ]
  },
  {
   "cell_type": "markdown",
   "id": "0873793c-01a4-4e0f-a582-c9cdfb896a28",
   "metadata": {},
   "source": [
    "<b>Observe</b>: In the case of $Q_i$, it relates to the affine combination of $P_i$ and $P_{i + 1}$ controlled  by $t$.\n",
    "\n",
    "<b>Observe</b>: Locus of $Q_0$ as $t$ varies is a linear dCB curve.Note that where $P_0$ and $P_1$ are equal, this will generate a point\n",
    "\n",
    "<b>Observe</b>: $R$ is a quadratic dCB curve, and $S$ is a cubic dCB curve. This can be extended to other, higher degree curves\n",
    "\n",
    "<b>Observe</b>: keep on going to get the S points, leads to cubic cDB curve. For example, quartic dcb curves from 5 control points; quintic dcb curves vrom 6 control points "
   ]
  },
  {
   "cell_type": "markdown",
   "id": "b4c9cea8-6525-4f19-9219-98a20a048718",
   "metadata": {},
   "source": [
    "<hr/>\n",
    "<b>Aim</b>: ...\n",
    "<hr/>"
   ]
  },
  {
   "cell_type": "markdown",
   "id": "62ea2cc4-0b95-4137-95ca-c001bcd2374b",
   "metadata": {},
   "source": [
    "Let $F10$ be the rhs fo F1, in terms of $t$"
   ]
  },
  {
   "cell_type": "code",
   "execution_count": 115,
   "id": "5c3dd5ab-9edb-416a-97f9-7ea531463adf",
   "metadata": {},
   "outputs": [
    {
     "data": {
      "text/latex": [
       "$\\displaystyle P_{0} - t \\left(P_{0} - P_{1}\\right)$"
      ],
      "text/plain": [
       "P0 - t*(P0 - P1)"
      ]
     },
     "execution_count": 115,
     "metadata": {},
     "output_type": "execute_result"
    }
   ],
   "source": [
    "F10 = F1.rhs.factor(t)\n",
    "F10"
   ]
  },
  {
   "cell_type": "markdown",
   "id": "b42df96b-b077-4650-af03-c4a0607c75c1",
   "metadata": {},
   "source": [
    "Observe: this expression can be written in terms of $P_0 = [p_{01}, p_{02}]$ and $P_1 = [p_{11}, p_{12}]$ leading to a solution to $Q_0$ in terms of $p_{01}, p_{02}, p_{11}$ and $p_{12}$ "
   ]
  },
  {
   "cell_type": "code",
   "execution_count": 78,
   "id": "6b095f5d-faa1-4b0b-9735-d638779209e0",
   "metadata": {},
   "outputs": [
    {
     "data": {
      "text/html": [
       "$$p_{01} - t \\left(p_{01} - p_{11}\\right)$$$$p_{02} - t \\left(p_{02} - p_{12}\\right)$$"
      ],
      "text/plain": [
       "<IPython.core.display.HTML object>"
      ]
     },
     "execution_count": 78,
     "metadata": {},
     "output_type": "execute_result"
    }
   ],
   "source": [
    "F11 = np.array([p01, p02]) - t * (np.array([p01, p02]) - (np.array([p11, p12])))\n",
    "renderListToLatex([F11[0], F11[1]])"
   ]
  },
  {
   "cell_type": "markdown",
   "id": "3d09c49e-4401-45d1-ab89-e3a6d011423c",
   "metadata": {},
   "source": [
    "<b>Observe</b>: $F11$ can be manipulated to: \n",
    "\n",
    "$$ p_{01} + t \\left(p_{11} - p_{01}\\right) $$\n",
    "$$ p_{02} + t \\left( p_{12} - p_{02}\\right)  $$"
   ]
  },
  {
   "cell_type": "markdown",
   "id": "3c30f58b-443a-45aa-a624-3d694e49f116",
   "metadata": {},
   "source": [
    "<b>Let</b>: $c_{01}, c_{02}, c_{11}$ and $c_{12}$ have the following identities\n",
    "\n",
    "$$c_{01} = p_{01}$$\n",
    "$$c_{11} = p_{11} - p_{01}$$\n",
    "$$c_{02} = p_{02}$$\n",
    "$$c_{12} = p_{12} - p_{02}$$"
   ]
  },
  {
   "cell_type": "markdown",
   "id": "721eb188-821a-453b-b9bc-3bc5fbd06bd9",
   "metadata": {},
   "source": [
    "<b>Let</b>: $F12$ be an equation of matrices representing the relationship between  $c_{01}, c_{02}, c_{11}$ and $c_{12}$   and $p_{01}, p_{02}, p_{11}$ and $p_{12}$"
   ]
  },
  {
   "cell_type": "code",
   "execution_count": 133,
   "id": "9f9bed86-9e24-41b4-9afe-227b40e73c87",
   "metadata": {},
   "outputs": [
    {
     "data": {
      "text/latex": [
       "$\\displaystyle \\left[\\begin{matrix}c_{01} & c_{02}\\\\c_{11} & c_{12}\\end{matrix}\\right] = \\left[\\begin{matrix}p_{01} & p_{02}\\\\- p_{01} + p_{11} & - p_{02} + p_{12}\\end{matrix}\\right]$"
      ],
      "text/plain": [
       "Eq(Matrix([\n",
       "[c01, c02],\n",
       "[c11, c12]]), Matrix([\n",
       "[       p01,        p02],\n",
       "[-p01 + p11, -p02 + p12]]))"
      ]
     },
     "execution_count": 133,
     "metadata": {},
     "output_type": "execute_result"
    }
   ],
   "source": [
    "c01, c11, c02, c22 = sp.symbols('c01, c11, c02, c22')\n",
    "F12 = sp.Eq(sp.Matrix([[c01, c02], [c11, c12]]), sp.Matrix([[p01, p02], [p11 - p01, p12 - p02]]))\n",
    "F12"
   ]
  },
  {
   "cell_type": "markdown",
   "id": "da0f7810-0079-4599-8ece-bf9426a72070",
   "metadata": {},
   "source": [
    "<b>Let</b>: F13 be a verfication of the following:\n",
    "\n",
    "$$ \\left[\\begin{matrix}p_{01} & p_{02}\\\\- p_{01} + p_{11} & - p_{02} + p_{12}\\end{matrix}\\right] \\equiv \\left[\\begin{matrix}1 & 0\\\\-1 & 1\\end{matrix}\\right] \\left[\\begin{matrix}p_{01} & p_{02}\\\\p_{11} & p_{12}\\end{matrix}\\right] $$ "
   ]
  },
  {
   "cell_type": "code",
   "execution_count": 134,
   "id": "56e9595a-c5c9-406a-b449-99e10a99c495",
   "metadata": {},
   "outputs": [
    {
     "data": {
      "text/latex": [
       "$\\displaystyle \\left[\\begin{matrix}p_{01} & p_{02}\\\\- p_{01} + p_{11} & - p_{02} + p_{12}\\end{matrix}\\right]$"
      ],
      "text/plain": [
       "Matrix([\n",
       "[       p01,        p02],\n",
       "[-p01 + p11, -p02 + p12]])"
      ]
     },
     "execution_count": 134,
     "metadata": {},
     "output_type": "execute_result"
    }
   ],
   "source": [
    "F13 = sp.Matrix([[1, 0], [-1, 1]]) *  sp.Matrix([[p01, p02], [p11, p12]])\n",
    "F13"
   ]
  },
  {
   "cell_type": "markdown",
   "id": "226bb5d5-7272-460d-93b1-0d7906187ac5",
   "metadata": {},
   "source": [
    "<br/><b>Observe</b>: this leads to the following identity:\n",
    "\n",
    "\n",
    "<br/>\n",
    "$$  \\left[\\begin{matrix}c_{01} & c_{02}\\\\c_{11} & c_{12}\\end{matrix}\\right] \\equiv \\left[\\begin{matrix}1 & 0\\\\-1 & 1\\end{matrix}\\right] \\left[\\begin{matrix}p_{01} & p_{02}\\\\p_{11} & p_{12}\\end{matrix}\\right] $$ \n",
    "\n",
    "\n",
    "\n"
   ]
  },
  {
   "cell_type": "markdown",
   "id": "41cc61e2-34bd-4803-ad1e-86bc5b2ea936",
   "metadata": {},
   "source": [
    "<br/>\n",
    "<b>Observe</b>: This identity demonstrates that the matrix $\\left[\\begin{matrix}1 & 0\\\\-1 & 1\\end{matrix}\\right]$ and its inverse $\\left[\\begin{matrix}1 & 0\\\\1 & 1\\end{matrix}\\right]$ can be used to move between $p_{ij}$ and $c_{ij}$ points "
   ]
  },
  {
   "cell_type": "markdown",
   "id": "3cd05d06-3e76-494c-b9cf-9f5da188d4ac",
   "metadata": {},
   "source": [
    "<b>Let</b>: $F1$ be a function that transforms a matrix between the points $c_{01}, c_{02}, c_{11}$ and $c_{12}$   and $p_{01}, p_{02}, p_{11}$ and $p_{12}$ "
   ]
  },
  {
   "cell_type": "code",
   "execution_count": 159,
   "id": "cc141318-f2cc-48cc-b652-f925635c8568",
   "metadata": {},
   "outputs": [],
   "source": [
    "def F14(m, currentBasis = None):\n",
    "    \n",
    "    toP = sp.Matrix([[1, 0], [-1, 1]]) \n",
    "    toC = sp.Matrix([[1, 1], [1, 0]]) \n",
    "    \n",
    "    if currentBasis == 'p':\n",
    "        return m * toP\n",
    "    else:\n",
    "        return m * toC"
   ]
  },
  {
   "cell_type": "code",
   "execution_count": 160,
   "id": "de3c042b-79b2-4b6d-8900-630ca5615ac6",
   "metadata": {},
   "outputs": [
    {
     "data": {
      "text/latex": [
       "$\\displaystyle \\left[\\begin{matrix}p_{01} - p_{02} & p_{02}\\\\p_{11} - p_{12} & p_{12}\\end{matrix}\\right]$"
      ],
      "text/plain": [
       "Matrix([\n",
       "[p01 - p02, p02],\n",
       "[p11 - p12, p12]])"
      ]
     },
     "execution_count": 160,
     "metadata": {},
     "output_type": "execute_result"
    }
   ],
   "source": [
    "F14(sp.Matrix([[p01, p02 ], [p11, p12]]), currentBasis=\"p\")"
   ]
  },
  {
   "cell_type": "markdown",
   "id": "25261e6a-592e-4d53-9227-7177a320244f",
   "metadata": {},
   "source": [
    "<b>Observe</b>: It is possible to extend this to the quadratic Case. Recall the values of  $Q_0, Q_1$ and $R_0$."
   ]
  },
  {
   "cell_type": "code",
   "execution_count": 162,
   "id": "d2c7ebd6-e16b-4cdc-b2ee-577be86dcd87",
   "metadata": {},
   "outputs": [
    {
     "data": {
      "text/html": [
       "$$Q_{0} = P_{0} \\left(1 - t\\right) + P_{1} t$$$$Q_{1} = P_{1} \\left(1 - t\\right) + P_{2} t$$$$R_{0} = Q_{0} \\left(1 - t\\right) + Q_{1} t$$"
      ],
      "text/plain": [
       "<IPython.core.display.HTML object>"
      ]
     },
     "execution_count": 162,
     "metadata": {},
     "output_type": "execute_result"
    }
   ],
   "source": [
    "renderListToLatex([F1, F2, F4])"
   ]
  },
  {
   "cell_type": "markdown",
   "id": "febd3626-1e45-459e-8123-23c1d42cbb0c",
   "metadata": {},
   "source": [
    "<b>Let</b>: F15 be $F4$ with substitions of $Q_0$ and $Q_1$, expression in powers of $t$"
   ]
  },
  {
   "cell_type": "code",
   "execution_count": 177,
   "id": "9415976a-6d40-460b-a3ae-0e7d9aeac98b",
   "metadata": {},
   "outputs": [
    {
     "data": {
      "text/latex": [
       "$\\displaystyle P_{0} + t^{2} \\left(P_{0} - 2 P_{1} + P_{2}\\right) + t \\left(- 2 P_{0} + 2 P_{1}\\right)$"
      ],
      "text/plain": [
       "P0 + t**2*(P0 - 2*P1 + P2) + t*(-2*P0 + 2*P1)"
      ]
     },
     "execution_count": 177,
     "metadata": {},
     "output_type": "execute_result"
    }
   ],
   "source": [
    "F15 = F4.subs({Q0: P0 * ( 1 - t) + P1 * t,\n",
    "              Q1: P1 * (1 - t) + P2 * t})\n",
    "F16 = F15.expand().rhs.factor(t)\n",
    "F16"
   ]
  },
  {
   "cell_type": "markdown",
   "id": "5eb72b27-6508-4e7d-ad36-2f450e0bca9f",
   "metadata": {},
   "source": [
    "<b>Observe</b>: This is quadratic dependence on $t$"
   ]
  },
  {
   "cell_type": "code",
   "execution_count": 180,
   "id": "b7ef7b05-f088-4e05-b409-d1b6c7fb1c24",
   "metadata": {},
   "outputs": [
    {
     "data": {
      "text/latex": [
       "$\\displaystyle P_{0} + t^{2} \\left(P_{0} - 2 P_{1} + P_{2}\\right) + t \\left(- 2 P_{0} + 2 P_{1}\\right)$"
      ],
      "text/plain": [
       "P0 + t**2*(P0 - 2*P1 + P2) + t*(-2*P0 + 2*P1)"
      ]
     },
     "execution_count": 180,
     "metadata": {},
     "output_type": "execute_result"
    }
   ],
   "source": [
    "F16.subs(P0, np.array([3,4]))"
   ]
  },
  {
   "cell_type": "markdown",
   "id": "ff22d231-aaac-4eb9-b5bc-98c750469e9a",
   "metadata": {},
   "source": [
    "Observe: $F16$ be written in terms of $P_0 = [p_{01}, p_{02}], P_1 = [p_{11}, p_{12}]$ and $P_2 = [p_{21}, p_{22}]$ "
   ]
  },
  {
   "cell_type": "code",
   "execution_count": 182,
   "id": "be7310ff-f389-4388-bda9-001eb5259506",
   "metadata": {},
   "outputs": [],
   "source": [
    "P0 = np.array([p01, p02])\n",
    "P1 = np.array([p11, p12])\n",
    "P2 = np.array([p21, p22])"
   ]
  },
  {
   "cell_type": "markdown",
   "id": "e249e83f-f604-4bb5-9fd2-3449cacf85fb",
   "metadata": {},
   "source": [
    "Let $F17$ be $F16$ with substitions for $P0, P1$ and $P2$."
   ]
  },
  {
   "cell_type": "code",
   "execution_count": 190,
   "id": "7d438ff0-6995-4010-965b-f41cf4a9a55b",
   "metadata": {},
   "outputs": [
    {
     "data": {
      "text/html": [
       "$$p_{01} + t^{2} \\left(p_{01} - 2 p_{11} + p_{21}\\right) + t \\left(- 2 p_{01} + 2 p_{11}\\right)$$$$p_{02} + t^{2} \\left(p_{02} - 2 p_{12} + p_{22}\\right) + t \\left(- 2 p_{02} + 2 p_{12}\\right)$$"
      ],
      "text/plain": [
       "<IPython.core.display.HTML object>"
      ]
     },
     "execution_count": 190,
     "metadata": {},
     "output_type": "execute_result"
    }
   ],
   "source": [
    "F17 = P0 + t**2 * (P0 - 2 * P1 + P2) + t * (-2 * P0 + 2 * P1)\n",
    "renderListToLatex([F17[0], F17[1]])"
   ]
  },
  {
   "cell_type": "code",
   "execution_count": 187,
   "id": "80ae4be6-4ed9-45e4-809c-ab59d48c7216",
   "metadata": {},
   "outputs": [
    {
     "data": {
      "text/latex": [
       "$\\displaystyle p_{01} + t^{2} \\left(p_{01} - 2 p_{11} + p_{21}\\right) + t \\left(- 2 p_{01} + 2 p_{11}\\right)$"
      ],
      "text/plain": [
       "p01 + t**2*(p01 - 2*p11 + p21) + t*(-2*p01 + 2*p11)"
      ]
     },
     "execution_count": 187,
     "metadata": {},
     "output_type": "execute_result"
    }
   ],
   "source": [
    "F"
   ]
  },
  {
   "cell_type": "code",
   "execution_count": 191,
   "id": "9f36d04f-713c-443f-8161-0d340272c248",
   "metadata": {},
   "outputs": [],
   "source": [
    "# DEF GENERATE BERNSTEIN POLYNOMIALS in arbitrary degree"
   ]
  },
  {
   "cell_type": "code",
   "execution_count": null,
   "id": "d4794dee-c932-41b8-b72d-25f7e4781b6b",
   "metadata": {},
   "outputs": [],
   "source": []
  }
 ],
 "metadata": {
  "kernelspec": {
   "display_name": "Python 3",
   "language": "python",
   "name": "python3"
  },
  "language_info": {
   "codemirror_mode": {
    "name": "ipython",
    "version": 3
   },
   "file_extension": ".py",
   "mimetype": "text/x-python",
   "name": "python",
   "nbconvert_exporter": "python",
   "pygments_lexer": "ipython3",
   "version": "3.9.2"
  }
 },
 "nbformat": 4,
 "nbformat_minor": 5
}
