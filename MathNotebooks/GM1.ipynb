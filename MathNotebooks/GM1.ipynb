{
 "cells": [
  {
   "cell_type": "markdown",
   "id": "7e2a4fd0-4511-43b5-ba2e-86df0b281d82",
   "metadata": {},
   "source": [
    "The critical problem in mathematics\n",
    "\n",
    "1. Data Structures \n",
    "2. Invariance\n",
    "3. Curvature, \n",
    "\n"
   ]
  },
  {
   "cell_type": "code",
   "execution_count": null,
   "id": "ff80af1a-71ac-4cb6-a107-3e15228974fd",
   "metadata": {},
   "outputs": [],
   "source": []
  }
 ],
 "metadata": {
  "kernelspec": {
   "display_name": "Python 3",
   "language": "python",
   "name": "python3"
  },
  "language_info": {
   "codemirror_mode": {
    "name": "ipython",
    "version": 3
   },
   "file_extension": ".py",
   "mimetype": "text/x-python",
   "name": "python",
   "nbconvert_exporter": "python",
   "pygments_lexer": "ipython3",
   "version": "3.9.2"
  }
 },
 "nbformat": 4,
 "nbformat_minor": 5
}
