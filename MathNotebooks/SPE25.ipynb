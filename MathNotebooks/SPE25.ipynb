{
 "cells": [
  {
   "cell_type": "markdown",
   "metadata": {},
   "source": [
    "<i>STATUS: Draft</i>\n",
    "\n",
    "<hr/>"
   ]
  },
  {
   "cell_type": "code",
   "execution_count": 26,
   "metadata": {},
   "outputs": [],
   "source": [
    "import numpy as np\n",
    "import sympy as sp\n",
    "import pickle\n",
    "from IPython.display import HTML, Image\n",
    "import ipywidgets as widgets\n",
    "import matplotlib as mpl\n",
    "from mpl_toolkits.mplot3d import Axes3D\n",
    "import matplotlib.pyplot as plt\n",
    "mpl.rcParams['legend.fontsize'] = 10\n",
    "import pandas as pd\n",
    "import itertools\n",
    "pd.set_option('display.max_colwidth', None)\n",
    "import treelib as tr\n",
    "\n",
    "\n",
    "# function to print latex\n",
    "def renderListToLatex(e):\n",
    "    latex_rendering = []\n",
    "\n",
    "    for i in range(len(e)):\n",
    "        latex_rendering.append(\"$$\" + sp.latex(e[i]) + \"$$\")\n",
    "    \n",
    "    return(HTML(\"\".join(latex_rendering[0:])))"
   ]
  },
  {
   "cell_type": "markdown",
   "metadata": {},
   "source": [
    "### Solving Polynomial Equations (25)\n",
    "\n",
    "#### The algebraic solution of the general quintic polynomial equation"
   ]
  },
  {
   "cell_type": "markdown",
   "metadata": {},
   "source": [
    "<b>Observe</b> Recall the quintic equation in geometric form:\n",
    "\n",
    "$ \\displaystyle c_{2} x^{2} + c_{3} x^{3} + c_{4} x^{4} + c_{5} x^{5} - x + 1 = 0 $\n",
    "\n",
    "<b>Observe</b>: Recall this has the proposed solution:\n",
    "\n",
    "$$ x  = \\Sigma_{m = 0}^+ \\Sigma_{n = 0}^+ \\Sigma_{p = 0}^+ \\Sigma_{q = 0}^+  \\frac{(2m + 3n + 4p + 5q)!}{(1 + m + 2n + 3p + 4q)!m!n!p!q!}  c_2^{m} c_3^{n} c_4^{p} c_5^q  $$"
   ]
  },
  {
   "cell_type": "markdown",
   "metadata": {},
   "source": [
    "<b>Observe</b>: This solution is a polynomial power series in $c2, c3, c4$ and  $c5$. \n",
    "\n",
    "<hr/>\n",
    "\n",
    "<b>Aim</b>: This solution should be computationally verified up to a certain degree. \n",
    "\n",
    "<hr/>\n",
    "\n",
    "<b>Observe</b>: The verification to be undertaken is not intended to work with infite sums or infite computations, but should be truncated to an arbitrary number.\n",
    "\n",
    "<b>Observe</b>: The proposed solution includes an extension of the BiTriQuad numbers. \n",
    "\n",
    "<b>Definition</b>: The extension of the BiTriQuad numbers to degree 5 is defined as <b>BiTriQuadQuintic</b> numbers:\n",
    "\n",
    "$$  \\frac{(2m + 3n + 4p + 5q)!}{(1 + m + 2n + 3p + 4q)!m!n!p!q!}  $$\n"
   ]
  },
  {
   "cell_type": "markdown",
   "metadata": {},
   "source": [
    "<b>Definition</b>: These types of numbers (such as BiTri, BiTriQuad etc.) can be denoted as <b>Roofed Polygonal Subdivision</b> numbers (here in the special case of degree 5). "
   ]
  },
  {
   "cell_type": "markdown",
   "metadata": {},
   "source": [
    "$$ r(m,n, p, q) =   \\frac{(2m + 3n + 4p + 5q)!}{(1 + m + 2n + 3p + 4q)!m!n!p!q!}  $$\n"
   ]
  },
  {
   "cell_type": "markdown",
   "metadata": {},
   "source": [
    "<b>Let</b> $P1$ be a function that implements $r$\n",
    "\n",
    "<b>Let</b> the following be unknown types."
   ]
  },
  {
   "cell_type": "code",
   "execution_count": 27,
   "metadata": {},
   "outputs": [],
   "source": [
    "m, n, p, q, c2, c3, c4, c5, x = sp.symbols('m, n, p, q, c2, c3, c4, c5, x')"
   ]
  },
  {
   "cell_type": "markdown",
   "metadata": {},
   "source": [
    "<b>Let</b> $P1$ be a general quintic equation."
   ]
  },
  {
   "cell_type": "code",
   "execution_count": 28,
   "metadata": {},
   "outputs": [
    {
     "data": {
      "text/latex": [
       "$\\displaystyle c_{0} - c_{1} x + c_{2} x^{2} + c_{3} x^{3} + c_{4} x^{4} + c_{5} x^{5} = 0$"
      ],
      "text/plain": [
       "Eq(c0 - c1*x + c2*x**2 + c3*x**3 + c4*x**4 + c5*x**5, 0)"
      ]
     },
     "execution_count": 28,
     "metadata": {},
     "output_type": "execute_result"
    }
   ],
   "source": [
    "P1 = sp.Eq(c0 - c1 * x + c2 * x**2 + c3 * x**3 + c4 * x**4 + c5 * x**5, 0)\n",
    "P1"
   ]
  },
  {
   "cell_type": "markdown",
   "metadata": {},
   "source": [
    "<b>Let</b> $P2$ be $P1$ converted to geometric form."
   ]
  },
  {
   "cell_type": "code",
   "execution_count": 29,
   "metadata": {},
   "outputs": [
    {
     "data": {
      "text/latex": [
       "$\\displaystyle c_{2} x^{2} + c_{3} x^{3} + c_{4} x^{4} + c_{5} x^{5} - x + 1 = 0$"
      ],
      "text/plain": [
       "Eq(c2*x**2 + c3*x**3 + c4*x**4 + c5*x**5 - x + 1, 0)"
      ]
     },
     "execution_count": 29,
     "metadata": {},
     "output_type": "execute_result"
    }
   ],
   "source": [
    "P2 = P1.subs({c0:1, c1:1})\n",
    "P2"
   ]
  },
  {
   "cell_type": "markdown",
   "metadata": {},
   "source": [
    "<b>Let</b> $P3$ be a function that returns a roofed polygon subdivision number (to degree 5)."
   ]
  },
  {
   "cell_type": "code",
   "execution_count": 47,
   "metadata": {},
   "outputs": [],
   "source": [
    "def P3(m, n, p, q):\n",
    "    numerator = sp.factorial(2 * m + 3 * n + 4 * p + 5 * q)\n",
    "    denominator = sp.factorial(1 + m + 2 * n + 3 * p + 4 * q) * sp.factorial(m) * sp.factorial(n) * sp.factorial(p) * sp.factorial(q)\n",
    "    \n",
    "    return(numerator / denominator)\n",
    "    \n"
   ]
  },
  {
   "cell_type": "markdown",
   "metadata": {},
   "source": [
    "<b>Example</b>: $P3$ evaluated at $(3, 2, 0, 0)$."
   ]
  },
  {
   "cell_type": "code",
   "execution_count": 31,
   "metadata": {},
   "outputs": [
    {
     "data": {
      "text/latex": [
       "$\\displaystyle 990$"
      ],
      "text/plain": [
       "990"
      ]
     },
     "execution_count": 31,
     "metadata": {},
     "output_type": "execute_result"
    }
   ],
   "source": [
    "P3(3, 2, 0, 0)"
   ]
  },
  {
   "cell_type": "markdown",
   "metadata": {},
   "source": [
    "<b>Let</b> $P4$ be a function that returns a roofed polygon subdivision number for variables $c_2, c_3, c_4$ and $c_5$."
   ]
  },
  {
   "cell_type": "code",
   "execution_count": 32,
   "metadata": {},
   "outputs": [],
   "source": [
    "def P4(m, n, p, q, c2, c3, c4, c5):\n",
    "    numerator = sp.factorial(2 * m + 3 * n + 4 * p + 5 * q)\n",
    "    denominator = sp.factorial(1 + m + 2 * n + 3 * p + 4 * q) * sp.factorial(m) * sp.factorial(n) * sp.factorial(p) * sp.factorial(q)\n",
    "   \n",
    "    v = (numerator / denominator) * (c2**m * c3**n * c4**p * c5**q)\n",
    "\n",
    "    return(v)"
   ]
  },
  {
   "cell_type": "markdown",
   "metadata": {},
   "source": [
    "<b>Example</b>: Evaluate $P4$ at $m, n, p, q, c2, c3, c4, c5$."
   ]
  },
  {
   "cell_type": "code",
   "execution_count": 34,
   "metadata": {},
   "outputs": [
    {
     "data": {
      "text/latex": [
       "$\\displaystyle \\frac{c_{2}^{m} c_{3}^{n} c_{4}^{p} c_{5}^{q} \\left(2 m + 3 n + 4 p + 5 q\\right)!}{m! n! p! q! \\left(m + 2 n + 3 p + 4 q + 1\\right)!}$"
      ],
      "text/plain": [
       "c2**m*c3**n*c4**p*c5**q*factorial(2*m + 3*n + 4*p + 5*q)/(factorial(m)*factorial(n)*factorial(p)*factorial(q)*factorial(m + 2*n + 3*p + 4*q + 1))"
      ]
     },
     "execution_count": 34,
     "metadata": {},
     "output_type": "execute_result"
    }
   ],
   "source": [
    "P4(m, n, p, q, c2, c3, c4, c5)"
   ]
  },
  {
   "cell_type": "markdown",
   "metadata": {},
   "source": [
    "<b>Let $P5$ be a function that implements: \n",
    "\n",
    "$$ x  = \\Sigma_{m = 0}^+ \\Sigma_{n = 0}^+ \\Sigma_{p = 0}^+ \\Sigma_{q = 0}^+  \\frac{(2m + 3n + 4p + 5q)!}{(1 + m + 2n + 3p + 4q)!m!n!p!q!}  c_2^{m} c_3^{n} c_4^{p} c_5^q  $$"
   ]
  },
  {
   "cell_type": "code",
   "execution_count": 40,
   "metadata": {},
   "outputs": [],
   "source": [
    "def P5(degree = 2):\n",
    "    degree = 2\n",
    "    F1 = []\n",
    "    for m in range(0, degree):\n",
    "        for n in range(0, degree):\n",
    "            for p in range(0, degree):\n",
    "                for q in range(0, degree):\n",
    "                    F1.append(P4(m, n, p, q, c2, c3, c4, c5))   \n",
    "    return(np.sum(F1))"
   ]
  },
  {
   "cell_type": "markdown",
   "metadata": {},
   "source": [
    "<b>Let</b> $P6$ be $P5$ evaluated with an an degree of $2$."
   ]
  },
  {
   "cell_type": "code",
   "execution_count": 42,
   "metadata": {},
   "outputs": [
    {
     "data": {
      "text/latex": [
       "$\\displaystyle 2184 c_{2} c_{3} c_{4} c_{5} + 72 c_{2} c_{3} c_{4} + 90 c_{2} c_{3} c_{5} + 5 c_{2} c_{3} + 110 c_{2} c_{4} c_{5} + 6 c_{2} c_{4} + 7 c_{2} c_{5} + c_{2} + 132 c_{3} c_{4} c_{5} + 7 c_{3} c_{4} + 8 c_{3} c_{5} + c_{3} + 9 c_{4} c_{5} + c_{4} + c_{5} + 1$"
      ],
      "text/plain": [
       "2184*c2*c3*c4*c5 + 72*c2*c3*c4 + 90*c2*c3*c5 + 5*c2*c3 + 110*c2*c4*c5 + 6*c2*c4 + 7*c2*c5 + c2 + 132*c3*c4*c5 + 7*c3*c4 + 8*c3*c5 + c3 + 9*c4*c5 + c4 + c5 + 1"
      ]
     },
     "execution_count": 42,
     "metadata": {},
     "output_type": "execute_result"
    }
   ],
   "source": [
    "P6 = P5(2)\n",
    "P6"
   ]
  },
  {
   "cell_type": "markdown",
   "metadata": {},
   "source": [
    "<b>Let</b> $P7$ be the geometric form of the the general quintic equation, with a subsution of $x$ for $P6$"
   ]
  },
  {
   "cell_type": "code",
   "execution_count": 43,
   "metadata": {},
   "outputs": [
    {
     "data": {
      "text/latex": [
       "$\\displaystyle - 2184 c_{2} c_{3} c_{4} c_{5} - 72 c_{2} c_{3} c_{4} - 90 c_{2} c_{3} c_{5} - 5 c_{2} c_{3} - 110 c_{2} c_{4} c_{5} - 6 c_{2} c_{4} - 7 c_{2} c_{5} + c_{2} \\left(2184 c_{2} c_{3} c_{4} c_{5} + 72 c_{2} c_{3} c_{4} + 90 c_{2} c_{3} c_{5} + 5 c_{2} c_{3} + 110 c_{2} c_{4} c_{5} + 6 c_{2} c_{4} + 7 c_{2} c_{5} + c_{2} + 132 c_{3} c_{4} c_{5} + 7 c_{3} c_{4} + 8 c_{3} c_{5} + c_{3} + 9 c_{4} c_{5} + c_{4} + c_{5} + 1\\right)^{2} - c_{2} - 132 c_{3} c_{4} c_{5} - 7 c_{3} c_{4} - 8 c_{3} c_{5} + c_{3} \\left(2184 c_{2} c_{3} c_{4} c_{5} + 72 c_{2} c_{3} c_{4} + 90 c_{2} c_{3} c_{5} + 5 c_{2} c_{3} + 110 c_{2} c_{4} c_{5} + 6 c_{2} c_{4} + 7 c_{2} c_{5} + c_{2} + 132 c_{3} c_{4} c_{5} + 7 c_{3} c_{4} + 8 c_{3} c_{5} + c_{3} + 9 c_{4} c_{5} + c_{4} + c_{5} + 1\\right)^{3} - c_{3} - 9 c_{4} c_{5} + c_{4} \\left(2184 c_{2} c_{3} c_{4} c_{5} + 72 c_{2} c_{3} c_{4} + 90 c_{2} c_{3} c_{5} + 5 c_{2} c_{3} + 110 c_{2} c_{4} c_{5} + 6 c_{2} c_{4} + 7 c_{2} c_{5} + c_{2} + 132 c_{3} c_{4} c_{5} + 7 c_{3} c_{4} + 8 c_{3} c_{5} + c_{3} + 9 c_{4} c_{5} + c_{4} + c_{5} + 1\\right)^{4} - c_{4} + c_{5} \\left(2184 c_{2} c_{3} c_{4} c_{5} + 72 c_{2} c_{3} c_{4} + 90 c_{2} c_{3} c_{5} + 5 c_{2} c_{3} + 110 c_{2} c_{4} c_{5} + 6 c_{2} c_{4} + 7 c_{2} c_{5} + c_{2} + 132 c_{3} c_{4} c_{5} + 7 c_{3} c_{4} + 8 c_{3} c_{5} + c_{3} + 9 c_{4} c_{5} + c_{4} + c_{5} + 1\\right)^{5} - c_{5} = 0$"
      ],
      "text/plain": [
       "Eq(-2184*c2*c3*c4*c5 - 72*c2*c3*c4 - 90*c2*c3*c5 - 5*c2*c3 - 110*c2*c4*c5 - 6*c2*c4 - 7*c2*c5 + c2*(2184*c2*c3*c4*c5 + 72*c2*c3*c4 + 90*c2*c3*c5 + 5*c2*c3 + 110*c2*c4*c5 + 6*c2*c4 + 7*c2*c5 + c2 + 132*c3*c4*c5 + 7*c3*c4 + 8*c3*c5 + c3 + 9*c4*c5 + c4 + c5 + 1)**2 - c2 - 132*c3*c4*c5 - 7*c3*c4 - 8*c3*c5 + c3*(2184*c2*c3*c4*c5 + 72*c2*c3*c4 + 90*c2*c3*c5 + 5*c2*c3 + 110*c2*c4*c5 + 6*c2*c4 + 7*c2*c5 + c2 + 132*c3*c4*c5 + 7*c3*c4 + 8*c3*c5 + c3 + 9*c4*c5 + c4 + c5 + 1)**3 - c3 - 9*c4*c5 + c4*(2184*c2*c3*c4*c5 + 72*c2*c3*c4 + 90*c2*c3*c5 + 5*c2*c3 + 110*c2*c4*c5 + 6*c2*c4 + 7*c2*c5 + c2 + 132*c3*c4*c5 + 7*c3*c4 + 8*c3*c5 + c3 + 9*c4*c5 + c4 + c5 + 1)**4 - c4 + c5*(2184*c2*c3*c4*c5 + 72*c2*c3*c4 + 90*c2*c3*c5 + 5*c2*c3 + 110*c2*c4*c5 + 6*c2*c4 + 7*c2*c5 + c2 + 132*c3*c4*c5 + 7*c3*c4 + 8*c3*c5 + c3 + 9*c4*c5 + c4 + c5 + 1)**5 - c5, 0)"
      ]
     },
     "execution_count": 43,
     "metadata": {},
     "output_type": "execute_result"
    }
   ],
   "source": [
    "P7 = P2.subs(x, P6)\n",
    "P7"
   ]
  },
  {
   "cell_type": "markdown",
   "metadata": {},
   "source": [
    "<b>Observe</b>: To evaluate $P7$ and and ascertain if it verifies $P2$ (truncated to degree 2), a power series expansion is needed. \n",
    "\n",
    "<b>Let</b> $P8$ be a power series expansion of $P7$ in variables $c_2, c_3, c_4$ and $c_5$."
   ]
  },
  {
   "cell_type": "code",
   "execution_count": 46,
   "metadata": {},
   "outputs": [
    {
     "data": {
      "text/latex": [
       "$\\displaystyle 0$"
      ],
      "text/plain": [
       "0"
      ]
     },
     "execution_count": 46,
     "metadata": {},
     "output_type": "execute_result"
    }
   ],
   "source": [
    "P8  = sp.expand(P7.lhs).series(c2, 0, 2).removeO().series(c3, 0, 2).removeO().series(c4, 0, 2).removeO().series(c5, 0, 2).removeO()\n",
    "P8"
   ]
  },
  {
   "cell_type": "markdown",
   "metadata": {},
   "source": [
    "<b>Observe</b>: this result verifies up to degree 2 that the solution found using a substitution of $P6$ for $x$ satisfies $ \\displaystyle c_{2} x^{2} + c_{3} x^{3} + c_{4} x^{4} + c_{5} x^{5} - x + 1 = 0 $"
   ]
  },
  {
   "cell_type": "markdown",
   "metadata": {},
   "source": [
    "<b>Todo</b>: Find a a faster implementation in Python for the multivariate series expansion. "
   ]
  }
 ],
 "metadata": {
  "kernelspec": {
   "display_name": "Python 3",
   "language": "python",
   "name": "python3"
  },
  "language_info": {
   "codemirror_mode": {
    "name": "ipython",
    "version": 3
   },
   "file_extension": ".py",
   "mimetype": "text/x-python",
   "name": "python",
   "nbconvert_exporter": "python",
   "pygments_lexer": "ipython3",
   "version": "3.9.2"
  }
 },
 "nbformat": 4,
 "nbformat_minor": 4
}
