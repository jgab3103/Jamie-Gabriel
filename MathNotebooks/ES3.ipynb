{
 "cells": [
  {
   "cell_type": "markdown",
   "id": "cd785232-2f3d-43dc-94af-0076a1ab2517",
   "metadata": {},
   "source": [
    "<hr/>\n",
    "\n",
    "<b>Notebook Summary</b>\n",
    "\n",
    "These notes are based on Prof. Norman Wildberger's lectures on Dynamics on Graphs which can be found <a href=\"https://www.youtube.com/c/WildEggmathematicscourses/featured\">here</a>. \n",
    "    \n",
    "They notes are are being hosted at my website <a href=\"https://www.ladatavita.com/\">ladatavita.com</a> and the Jupyter notebook is also available from my Github repo at: <a href=\"https://github.com/jgab3103/Jamie-Gabriel/tree/main/MathNotebooks\">https://github.com/jgab3103/Jamie-Gabriel/tree/main/MathNotebooks</a>\n",
    "\n",
    "The purpose of this notebook is a continuation where we left off in the previous notebook ES2, which compared the root populations of ADE graphs and ADE~ graph. \n",
    "\n",
    "This notebook will continue the investigation.... \n",
    "\n",
    "<hr/>"
   ]
  },
  {
   "cell_type": "code",
   "execution_count": 226,
   "id": "8f5dc6a8-8a04-42ed-b738-229121afe4e6",
   "metadata": {},
   "outputs": [],
   "source": [
    "import pyvis.network as nt\n",
    "import numpy as np\n",
    "import sympy as sp\n",
    "from IPython.display import HTML\n",
    "import ipywidgets as widgets\n",
    "import matplotlib as mpl\n",
    "from mpl_toolkits.mplot3d import Axes3D\n",
    "import matplotlib.pyplot as plt\n",
    "mpl.rcParams['legend.fontsize'] = 10\n",
    "import pandas as pd\n",
    "import networkx as nx\n",
    "import string\n",
    "import random"
   ]
  },
  {
   "cell_type": "markdown",
   "id": "225bb730-b3ad-48ca-88d8-fa7af69f1764",
   "metadata": {},
   "source": [
    "<hr/>\n",
    "\n",
    "<b>Aim</b>: Reintroduce some functions from previous notebooks and add a new visualisation and function to introduce stable populations\n",
    "\n",
    "<hr/>"
   ]
  },
  {
   "cell_type": "markdown",
   "id": "99459852-1277-49fa-bb4f-0887724714e1",
   "metadata": {},
   "source": [
    "<b>Let</b> $F1$ is a function that, given a list of edges will create a graph and randomly initialise a singleton population. \n",
    "\n",
    "<b>Let</b> $F2$ is a function that, given a list of edges and poopuations, will create a graph with the given population. \n",
    "\n",
    "<b>Let</b> $F3$ is a visualisation function that will render a graph with its population with label position offset\n",
    "\n",
    "<b>Let</b> $F4$ is a function that, given a graph and node choice, will apply the $ps_x$ function to a single vertice\n",
    "\n",
    "<b>Let</b> $F5$ is a function that will apply the $ps_x$ function to each node in succession over a chosen number of iterations"
   ]
  },
  {
   "cell_type": "code",
   "execution_count": 235,
   "id": "1d5b56ad-0082-4b4b-9a13-8ca7ad40a16c",
   "metadata": {},
   "outputs": [],
   "source": [
    "def F1(edges=None):\n",
    "    \n",
    "    verticeLabels = list(set([item for sublist in edges for item in sublist]))\n",
    "    randomNumberToIntialiseSingletonPopulation = random.randint(0, len(verticeLabels) - 1)\n",
    "\n",
    "    vertices = [(verticeLabels[i], {\"population\": 0}) for i in range(len(verticeLabels))]\n",
    "    graph = nx.Graph()\n",
    "    graph.add_nodes_from(vertices)\n",
    "    graph.add_edges_from(edges)\n",
    "    \n",
    "    graph.nodes[verticeLabels[randomNumberToIntialiseSingletonPopulation]]['population'] = 1\n",
    "    \n",
    "    return(graph)\n",
    "\n",
    "def F2(edges=None, population = None):\n",
    "    \n",
    "    verticesFoundInEdges = len(list(set([item for sublist in edges for item in sublist])))\n",
    "\n",
    " \n",
    "    vertices = list(string.ascii_lowercase[0:verticesFoundInEdges])\n",
    "    \n",
    "    verticesWithPopulations = [(vertices[i], {\"population\": population[i]}) for i in range(len(vertices))]\n",
    "\n",
    "    graph = nx.Graph()\n",
    "    graph.add_nodes_from(verticesWithPopulations)\n",
    "    graph.add_edges_from(edges)\n",
    "    \n",
    "\n",
    "    return(graph)\n",
    "        \n",
    "    \n",
    "    \n",
    "def F3(graph):\n",
    "    pos = nx.spring_layout(graph)\n",
    "    labels = nx.get_node_attributes(graph, 'population') \n",
    "    for i in labels:\n",
    "        x[i] = \"id=\" + str(i) +\" \\npop=\" + str(labels[i])\n",
    "        \n",
    "    plt.margins(x=0.2, y = 0.2)\n",
    "    nx.draw(, pos, node_color = \"red\")\n",
    "    nx.draw_networkx_labels(F4, pos, labels = x, font_size=13,font_color='b', horizontalalignment='left')"
   ]
  },
  {
   "cell_type": "code",
   "execution_count": 242,
   "id": "3dab94f7-ffbf-400c-a535-e672780c2118",
   "metadata": {},
   "outputs": [],
   "source": [
    "def F4(graph = None, nodeChoice = None, printSummary = True, \n",
    "       returnUpdatedGraph = False, \n",
    "       returnListOfPopulations = False,\n",
    "      returnAllAsDict = False):\n",
    "   \n",
    "    edgesOfChosenNode = list(nx.edges(graph, [nodeChoice]))\n",
    "   \n",
    "    neigborOfChosenNode = [edgesOfChosenNode[i][1] for i in range(len(list(edgesOfChosenNode)))]\n",
    "    nodeChoicePopulation = graph.nodes[nodeChoice]['population']\n",
    "    sumOfNeighborsOfChosenNode = np.sum([graph.nodes[i]['population'] for i in neigborOfChosenNode])\n",
    "    populationOfNode = -nodeChoicePopulation + sumOfNeighborsOfChosenNode\n",
    "    updatedGraph = graph.copy()\n",
    "    updatedGraph.nodes[nodeChoice]['population'] = populationOfNode\n",
    "\n",
    "    newPopulations = [updatedGraph.nodes[i]['population'] for i in list(updatedGraph)]\n",
    "    if printSummary:\n",
    "        print(\"Node choice\", \n",
    "              nodeChoice,\n",
    "              \"\\nNode details\",\n",
    "              nx.nodes(graph)[nodeChoice],\n",
    "              \"\\nChange in node population \",\n",
    "              nx.nodes(graph)[nodeChoice]['population'], \n",
    "              \"->\", \n",
    "              populationOfNode)\n",
    "        print(\"Updated node populations of graph: \", newPopulations, \"\\n\")\n",
    "\n",
    "    if returnUpdatedGraph: \n",
    "        return(updatedGraph)\n",
    "    \n",
    "    if returnListOfPopulations:\n",
    "        return(np.array(newPopulations))\n",
    "    \n",
    "    if returnAllAsDict:\n",
    "        return({\"graph\": updatedGraph,\n",
    "               \"population\": np.array(newPopulations)})\n",
    "    \n",
    "def F5(graphChoice=None, vertices = [], iterations=5, returnPopulations = True, iterateThroughAllVertices = True):\n",
    "    listOfAllPopulations = []\n",
    "    graph = graphChoice\n",
    "    \n",
    "    if iterateThroughAllVertices:\n",
    "        vertices = graph.nodes\n",
    "    \n",
    "    for i in range(iterations):\n",
    "        for j in vertices:\n",
    "            udpatedGraphAndPopulation = F4(graph, j, returnAllAsDict=True, printSummary = False)\n",
    "            graph = udpatedGraphAndPopulation['graph']\n",
    "            population = udpatedGraphAndPopulation['population']\n",
    "            listOfAllPopulations.append(population)\n",
    "            \n",
    "    print(\"Number of unique populations: \", len(list(set([tuple(i) for i in [list(i) for i in listOfAllPopulations]]))))\n",
    "    if returnPopulations:\n",
    "        setOfAllPopulations = list(set([tuple(i) for i in [list(i) for i in listOfAllPopulations]]))\n",
    "        return({\"iterations\":iterations,\n",
    "               \"populationAsSetCount\":len(setOfAllPopulations),\n",
    "                \"populationAsListCount\":len(listOfAllPopulations),\n",
    "               \"populationsAsSet\": setOfAllPopulations,\n",
    "               \"populationsAsList\": listOfAllPopulations})"
   ]
  },
  {
   "cell_type": "markdown",
   "id": "547476f0-01f7-4b71-869a-7c27c0422ceb",
   "metadata": {},
   "source": [
    "<b>Let</b> $F6$ be an example of a graph "
   ]
  },
  {
   "cell_type": "code",
   "execution_count": 243,
   "id": "4f348f0a-006a-436c-8972-3515836f91ac",
   "metadata": {},
   "outputs": [],
   "source": [
    "F6= F2(edges=[(\"a\",\"b\"),(\"b\",\"c\"),(\"c\",\"d\"),(\"d\",\"e\"),(\"e\",\"f\"), (\"f\", \"a\")], \n",
    "       population=[1,2,3,4,5,6])\n",
    "#F3(F6)"
   ]
  },
  {
   "cell_type": "markdown",
   "id": "bf1f08b9-8597-4ee7-bbe4-6eabfe8eb75b",
   "metadata": {},
   "source": [
    "<b>Let</b> $F7$ be a visualisation of $F6$"
   ]
  },
  {
   "cell_type": "code",
   "execution_count": 247,
   "id": "c85c73bb-16a8-45b2-af81-d26400acf558",
   "metadata": {},
   "outputs": [
    {
     "data": {
      "image/png": "[encoded data removed]",
      "text/plain": [
       "<Figure size 432x288 with 1 Axes>"
      ]
     },
     "metadata": {},
     "output_type": "display_data"
    }
   ],
   "source": [
    "F7 = F3(F6)\n",
    "F7"
   ]
  },
  {
   "cell_type": "markdown",
   "id": "f1f7596a-897c-46f4-96f7-2c1507e7a068",
   "metadata": {},
   "source": [
    "<b>Let</b> $F8$ be an example"
   ]
  },
  {
   "cell_type": "code",
   "execution_count": 251,
   "id": "801a98f0-0161-4d61-b4cc-bffa7f6f707d",
   "metadata": {},
   "outputs": [
    {
     "name": "stdout",
     "output_type": "stream",
     "text": [
      "Number of unique populations:  60\n"
     ]
    },
    {
     "data": {
      "text/plain": [
       "[(55, 56, 57, 58, 59, 54), (37, 38, 33, 34, 35, 36), (19, 20, 21, 22, 17, 18)]"
      ]
     },
     "execution_count": 251,
     "metadata": {},
     "output_type": "execute_result"
    }
   ],
   "source": [
    "F8 = F5(graphChoice=F6, iterations=10, returnPopulations=True)\n",
    "F8['populationsAsSet'][0:3]"
   ]
  },
  {
   "cell_type": "markdown",
   "id": "4a2935a6-6278-458b-bc2d-78595b5b7ce6",
   "metadata": {},
   "source": [
    "<hr/>\n",
    "\n",
    "<b>Aim</b> Explore the ADE~ graphs in more detail to understand their importance and independent of interest, and realtion to stagle population\n",
    "\n",
    "<hr/>"
   ]
  },
  {
   "cell_type": "markdown",
   "id": "9985c318-7406-4b8c-9156-c5469f87a783",
   "metadata": {},
   "source": [
    "<b>Let</b> $X$ be a connected simple graph. \n",
    "\n",
    "<b>Let</b> $P(X) \\equiv \\text{populations on } X$."
   ]
  },
  {
   "cell_type": "markdown",
   "id": "53a642be-e0f5-4681-b1b1-a8d0bc18f7e6",
   "metadata": {},
   "source": [
    "<b>Recall</b> that for a the vertex, $x$ in the graph $X$, the population function $S_x:P(x)  \\rightarrow P(X)$ is defined by: \n",
    "\n",
    "$$ ps_x(y) \\equiv  \\begin{cases}\n",
    "    -p(x) + \\Sigma_{z \\in N(x)} \\text{ }  p(z) & \\text{if y = x}\\\\\n",
    "    p(y) & \\text{otherwise}\n",
    "\\end{cases}\n",
    "$$ "
   ]
  },
  {
   "cell_type": "markdown",
   "id": "174038d4-75c3-4032-a56e-9b4fb0954177",
   "metadata": {},
   "source": [
    "<b>Definition</b>: A population, $p \\in P(X)$ is <b>stable</b> $\\iff$ $ps_x = p$ for any vertex $x$ of a connected simple graph $X$, meaning that it is left invariant under every mutation and that population will not change when the mutation function is applied.\n",
    "\n",
    "<b>Observe</b> that this is immedieately equivalent to the condition: \n",
    "\n",
    "$$ 2p(x) = \\Sigma_{z\\in N(x)} p(z) $$\n",
    "\n",
    "for any vertex $x$ of $X$ or\n",
    "\n",
    "$$ p(x) = \\frac{1}{2} \\Sigma_{z \\in N(x)} p(z) $$"
   ]
  },
  {
   "cell_type": "markdown",
   "id": "b957df0e-efb0-4828-af9d-7e770eb688e1",
   "metadata": {},
   "source": [
    "<b>Let</b> $F9"
   ]
  },
  {
   "cell_type": "code",
   "execution_count": null,
   "id": "05245f9b-3c16-4fd8-b3b8-fa2b86a5a69e",
   "metadata": {},
   "outputs": [],
   "source": []
  }
 ],
 "metadata": {
  "kernelspec": {
   "display_name": "Python 3",
   "language": "python",
   "name": "python3"
  },
  "language_info": {
   "codemirror_mode": {
    "name": "ipython",
    "version": 3
   },
   "file_extension": ".py",
   "mimetype": "text/x-python",
   "name": "python",
   "nbconvert_exporter": "python",
   "pygments_lexer": "ipython3",
   "version": "3.9.2"
  }
 },
 "nbformat": 4,
 "nbformat_minor": 5
}
