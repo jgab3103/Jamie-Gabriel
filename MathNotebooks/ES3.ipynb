{
 "cells": [
  {
   "cell_type": "markdown",
   "id": "cd785232-2f3d-43dc-94af-0076a1ab2517",
   "metadata": {},
   "source": [
    "<hr/>\n",
    "\n",
    "<b>Notebook Summary</b>\n",
    "\n",
    "These notes are based on Prof. Norman Wildberger's lectures on Dynamics on Graphs which can be found <a href=\"https://www.youtube.com/c/WildEggmathematicscourses/featured\">here</a>. \n",
    "    \n",
    "They notes are are being hosted at my website <a href=\"https://www.ladatavita.com/\">ladatavita.com</a> and the Jupyter notebook is also available from my Github repo at: <a href=\"https://github.com/jgab3103/Jamie-Gabriel/tree/main/MathNotebooks\">https://github.com/jgab3103/Jamie-Gabriel/tree/main/MathNotebooks</a>\n",
    "\n",
    "The purpose of this notebook is a continuation where we left off in the previous notebook ES2, which compared the root populations of ADE graphs and ADE~ graph. \n",
    "\n",
    "This notebook will continue the investigation.... \n",
    "\n",
    "<hr/>"
   ]
  },
  {
   "cell_type": "code",
   "execution_count": 2,
   "id": "8f5dc6a8-8a04-42ed-b738-229121afe4e6",
   "metadata": {},
   "outputs": [],
   "source": [
    "import pyvis.network as nt\n",
    "import numpy as np\n",
    "import sympy as sp\n",
    "from IPython.display import HTML\n",
    "import ipywidgets as widgets\n",
    "import matplotlib as mpl\n",
    "from mpl_toolkits.mplot3d import Axes3D\n",
    "import matplotlib.pyplot as plt\n",
    "mpl.rcParams['legend.fontsize'] = 10\n",
    "import pandas as pd\n",
    "import networkx as nx\n",
    "import string\n",
    "import random"
   ]
  },
  {
   "cell_type": "markdown",
   "id": "99459852-1277-49fa-bb4f-0887724714e1",
   "metadata": {},
   "source": [
    "<b>Let</b> $F1, F2$ and $F3$ be functions (created in the previous notebook) to create graphs given connections of edges, carry out the $ps_x$ function, and test this function over a chosen amount of iterations"
   ]
  },
  {
   "cell_type": "code",
   "execution_count": 3,
   "id": "c85c73bb-16a8-45b2-af81-d26400acf558",
   "metadata": {},
   "outputs": [],
   "source": [
    "def F1(edges=None):\n",
    "    \n",
    "    verticeLabels = list(set([item for sublist in edges for item in sublist]))\n",
    "    randomNumberToIntialiseSingletonPopulation = random.randint(0, len(verticeLabels) - 1)\n",
    "\n",
    "    vertices = [(verticeLabels[i], {\"population\": 0}) for i in range(len(verticeLabels))]\n",
    "    graph = nx.Graph()\n",
    "    graph.add_nodes_from(vertices)\n",
    "    graph.add_edges_from(edges)\n",
    "    \n",
    "    graph.nodes[verticeLabels[randomNumberToIntialiseSingletonPopulation]]['population'] = 1\n",
    "    \n",
    "    return(graph)\n",
    "\n",
    "def F2(graph = None, nodeChoice = None, printSummary = True, \n",
    "       returnUpdatedGraph = False, \n",
    "       returnListOfPopulations = False,\n",
    "      returnAllAsDict = False):\n",
    "   \n",
    "    edgesOfChosenNode = list(nx.edges(graph, [nodeChoice]))\n",
    "   \n",
    "    neigborOfChosenNode = [edgesOfChosenNode[i][1] for i in range(len(list(edgesOfChosenNode)))]\n",
    "    nodeChoicePopulation = graph.nodes[nodeChoice]['population']\n",
    "    sumOfNeighborsOfChosenNode = np.sum([graph.nodes[i]['population'] for i in neigborOfChosenNode])\n",
    "    populationOfNode = -nodeChoicePopulation + sumOfNeighborsOfChosenNode\n",
    "    updatedGraph = graph.copy()\n",
    "    updatedGraph.nodes[nodeChoice]['population'] = populationOfNode\n",
    "\n",
    "    newPopulations = [updatedGraph.nodes[i]['population'] for i in list(updatedGraph)]\n",
    "    if printSummary:\n",
    "        print(\"Node choice\", \n",
    "              nodeChoice,\n",
    "              \"\\nNode details\",\n",
    "              nx.nodes(graph)[nodeChoice],\n",
    "              \"\\nChange in node population \",\n",
    "              nx.nodes(graph)[nodeChoice]['population'], \n",
    "              \"->\", \n",
    "              populationOfNode)\n",
    "        print(\"Updated node populations of graph: \", newPopulations, \"\\n\")\n",
    "\n",
    "    if returnUpdatedGraph: \n",
    "        return(updatedGraph)\n",
    "    \n",
    "    if returnListOfPopulations:\n",
    "        return(np.array(newPopulations))\n",
    "    \n",
    "    if returnAllAsDict:\n",
    "        return({\"graph\": updatedGraph,\n",
    "               \"population\": np.array(newPopulations)})\n",
    "    \n",
    "def F3(graphChoice=None, vertices = [], iterations=5, returnPopulations = True, iterateThroughAllVertices = True):\n",
    "    listOfAllPopulations = []\n",
    "    graph = graphChoice\n",
    "    \n",
    "    if iterateThroughAllVertices:\n",
    "        vertices = graph.nodes\n",
    "    \n",
    "    for i in range(iterations):\n",
    "        for j in vertices:\n",
    "            udpatedGraphAndPopulation = F2(graph, j, returnAllAsDict=True, printSummary = False)\n",
    "            graph = udpatedGraphAndPopulation['graph']\n",
    "            population = udpatedGraphAndPopulation['population']\n",
    "            listOfAllPopulations.append(population)\n",
    "            \n",
    "    print(\"Number of unique populations: \", len(list(set([tuple(i) for i in [list(i) for i in listOfAllPopulations]]))))\n",
    "    if returnPopulations:\n",
    "        setOfAllPopulations = list(set([tuple(i) for i in [list(i) for i in listOfAllPopulations]]))\n",
    "        return({\"iterations\":iterations,\n",
    "               \"populationAsSetCount\":len(setOfAllPopulations),\n",
    "                \"populationAsListCount\":len(listOfAllPopulations),\n",
    "               \"populationsAsSet\": setOfAllPopulations,\n",
    "               \"populationsAsList\": listOfAllPopulations})"
   ]
  },
  {
   "cell_type": "markdown",
   "id": "676efc44-c353-4a92-8b30-73a4fd79c62c",
   "metadata": {},
   "source": [
    "<b>Recall</b> the usage of these functions with the following example.\n",
    "\n",
    "<b>Let</b> $F4$ be an example of a graph created with the $F1$ function"
   ]
  },
  {
   "cell_type": "code",
   "execution_count": 4,
   "id": "6e993278-7213-491a-a190-3116de6ff2b9",
   "metadata": {},
   "outputs": [],
   "source": [
    "F4 = F1(edges=[(\"a\",\"b\"),(\"b\",\"c\"),(\"c\",\"d\"),(\"d\",\"e\"),(\"e\",\"f\")] )"
   ]
  },
  {
   "cell_type": "markdown",
   "id": "3635d056-b347-4593-8098-856b9e55b8bf",
   "metadata": {},
   "source": [
    "<b>Let</b> $F5$ be an example of a function that applies the $ps_x$ mutation to a given graph and vertice."
   ]
  },
  {
   "cell_type": "code",
   "execution_count": 5,
   "id": "a456e033-f5f5-42fa-b644-d761b71fdc13",
   "metadata": {},
   "outputs": [
    {
     "name": "stdout",
     "output_type": "stream",
     "text": [
      "Node choice a \n",
      "Node details {'population': 0} \n",
      "Change in node population  0 -> 0\n",
      "Updated node populations of graph:  [0, 0, 0, 1, 0, 0] \n",
      "\n"
     ]
    }
   ],
   "source": [
    "F5 = F2(graph=F4, nodeChoice='a')"
   ]
  },
  {
   "cell_type": "markdown",
   "id": "100f2a3f-e8a2-4a81-96f5-4d07322ceae6",
   "metadata": {},
   "source": [
    "<b>Let</b> $F6$ be an example of a function that applies the $ps_x$ mutation to a chosen set of nodes over  chosen set of iterations. "
   ]
  },
  {
   "cell_type": "code",
   "execution_count": 6,
   "id": "fd29a1ff-e15c-40b8-ab55-258cb52b0ee5",
   "metadata": {},
   "outputs": [
    {
     "name": "stdout",
     "output_type": "stream",
     "text": [
      "Number of unique populations:  22\n"
     ]
    }
   ],
   "source": [
    "F6 = F3(graphChoice=F4, iterations=10, returnPopulations=True)"
   ]
  },
  {
   "cell_type": "markdown",
   "id": "4a2935a6-6278-458b-bc2d-78595b5b7ce6",
   "metadata": {},
   "source": [
    "<hr/>\n",
    "\n",
    "<b>Aim</b> Explore the ADE~ graphs in more detail to understand their importance and independent of interest, and realtion to stagle population\n",
    "\n",
    "<hr/>"
   ]
  },
  {
   "cell_type": "markdown",
   "id": "9985c318-7406-4b8c-9156-c5469f87a783",
   "metadata": {},
   "source": [
    "<b>Let</b> $X$ be a connected simple graph. \n",
    "\n",
    "<b>Let</b> $P(X) \\equiv \\text{populations on } X$."
   ]
  },
  {
   "cell_type": "markdown",
   "id": "53a642be-e0f5-4681-b1b1-a8d0bc18f7e6",
   "metadata": {},
   "source": [
    "<b>Recall</b> that for a the vertex, $x$ in the graph $X$, the population function $S_x:P(x)  \\rightarrow P(X)$ is defined by: \n",
    "\n",
    "$$ ps_x(y) \\equiv  \\begin{cases}\n",
    "    -p(x) + \\Sigma_{z \\in N(x)} \\text{ }  p(z) & \\text{if y = x}\\\\\n",
    "    p(y) & \\text{otherwise}\n",
    "\\end{cases}\n",
    "$$ "
   ]
  },
  {
   "cell_type": "markdown",
   "id": "174038d4-75c3-4032-a56e-9b4fb0954177",
   "metadata": {},
   "source": [
    "<b>Definition</b>: A population, $p \\in P(X)$ is <b>stable</b> $\\iff$ $ps_x = p$ for any vertex $x$ of a connected simple graph $X$, meaning that it is left invariant under every mutation and that population will not change when the mutation function is applied.\n",
    "\n",
    "<b>Observe</b> that this is immedieately equivalent to the condition: \n",
    "\n",
    "$$ 2p(x) = \\Sigma_{z\\in N(x)} p(z) $$\n",
    "\n",
    "for any vertex $x$ of $X$ or\n",
    "\n",
    "$$ p(x) = \\frac{1}{2} \\Sigma_{z \\in N(x)} p(z) $$"
   ]
  },
  {
   "cell_type": "code",
   "execution_count": null,
   "id": "e76fe108-702f-4b09-b243-60ca3c6e51c7",
   "metadata": {},
   "outputs": [],
   "source": []
  }
 ],
 "metadata": {
  "kernelspec": {
   "display_name": "Python 3",
   "language": "python",
   "name": "python3"
  },
  "language_info": {
   "codemirror_mode": {
    "name": "ipython",
    "version": 3
   },
   "file_extension": ".py",
   "mimetype": "text/x-python",
   "name": "python",
   "nbconvert_exporter": "python",
   "pygments_lexer": "ipython3",
   "version": "3.9.2"
  }
 },
 "nbformat": 4,
 "nbformat_minor": 5
}
