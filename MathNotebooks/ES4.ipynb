{
 "cells": [
  {
   "cell_type": "markdown",
   "id": "cd785232-2f3d-43dc-94af-0076a1ab2517",
   "metadata": {},
   "source": [
    "<hr/>\n",
    "\n",
    "<b>Notebook Summary</b>\n",
    "\n",
    "These notes are based on Prof. Norman Wildberger's lectures on Dynamics on Graphs which can be found <a href=\"https://www.youtube.com/c/WildEggmathematicscourses/featured\">here</a>. \n",
    "    \n",
    "They notes are are being hosted at my website <a href=\"https://www.ladatavita.com/\">ladatavita.com</a> and the Jupyter notebook is also available from my Github repo at: <a href=\"https://github.com/jgab3103/Jamie-Gabriel/tree/main/MathNotebooks\">https://github.com/jgab3103/Jamie-Gabriel/tree/main/MathNotebooks</a>\n",
    "\n",
    "The purpose of this notebook is a continuation where we left off in the previous notebook ES3_2, which compared the root populations of ADE graphs and ADE~ graph looked at unbounded populations and explored a relationshpi between the stable and singleton population \n",
    "\n",
    "This notebook will continue the investigation and bring us to classical root systems\n",
    "\n",
    "<hr/>"
   ]
  },
  {
   "cell_type": "code",
   "execution_count": 1,
   "id": "8f5dc6a8-8a04-42ed-b738-229121afe4e6",
   "metadata": {},
   "outputs": [],
   "source": [
    "import pyvis.network as nt\n",
    "import numpy as np\n",
    "import sympy as sp\n",
    "from IPython.display import HTML\n",
    "import ipywidgets as widgets\n",
    "import matplotlib as mpl\n",
    "from mpl_toolkits.mplot3d import Axes3D\n",
    "import matplotlib.pyplot as plt\n",
    "mpl.rcParams['legend.fontsize'] = 10\n",
    "import pandas as pd\n",
    "import networkx as nx\n",
    "import string\n",
    "import random"
   ]
  },
  {
   "cell_type": "markdown",
   "id": "225bb730-b3ad-48ca-88d8-fa7af69f1764",
   "metadata": {},
   "source": [
    "<hr/>\n",
    "\n",
    "<b>Aim</b>: Again, let's introduce some functions from previous notebooks. \n",
    "\n",
    "<hr/>"
   ]
  },
  {
   "cell_type": "markdown",
   "id": "99459852-1277-49fa-bb4f-0887724714e1",
   "metadata": {},
   "source": [
    "<b>Let</b> $F1$ be a function that, given a list of edges will create a graph and randomly initialise a singleton population. \n",
    "\n",
    "<b>Let</b> $F2$ be a function that, given a list of edges and poopuations, will create a graph with the given population. \n",
    "\n",
    "<b>Let</b> $F3$ be a visualisation function that will render a graph with its population with label position offset\n",
    "\n",
    "<b>Let</b> $F4$ be a function that, given a graph and node choice, will apply the $ps_x$ function to a single vertice\n",
    "\n",
    "<b>Let</b> $F5$ be a function that will apply the $ps_x$ function to each node in succession over a chosen number of iterations"
   ]
  },
  {
   "cell_type": "code",
   "execution_count": 6,
   "id": "1d5b56ad-0082-4b4b-9a13-8ca7ad40a16c",
   "metadata": {},
   "outputs": [],
   "source": [
    "def F1(edges=None):\n",
    "    \n",
    "    verticeLabels = list(set([item for sublist in edges for item in sublist]))\n",
    "    randomNumberToIntialiseSingletonPopulation = random.randint(0, len(verticeLabels) - 1)\n",
    "\n",
    "    vertices = [(verticeLabels[i], {\"population\": 0}) for i in range(len(verticeLabels))]\n",
    "    graph = nx.Graph()\n",
    "    graph.add_nodes_from(vertices)\n",
    "    graph.add_edges_from(edges)\n",
    "    \n",
    "    graph.nodes[verticeLabels[randomNumberToIntialiseSingletonPopulation]]['population'] = 1\n",
    "    \n",
    "    return(graph)\n",
    "\n",
    "def F2(edges=None, population = None):\n",
    "    \n",
    "    verticesFoundInEdges = len(list(set([item for sublist in edges for item in sublist])))\n",
    "\n",
    "    vertices = list(string.ascii_lowercase[0:verticesFoundInEdges])\n",
    "    \n",
    "    verticesWithPopulations = [(vertices[i], {\"population\": population[i]}) for i in range(len(vertices))]\n",
    "\n",
    "    graph = nx.Graph()\n",
    "    graph.add_nodes_from(verticesWithPopulations)\n",
    "    graph.add_edges_from(edges)\n",
    "    \n",
    "\n",
    "    return(graph)\n",
    "        \n",
    "    \n",
    "    \n",
    "def F3(graph):\n",
    "    x = {}\n",
    "    pos = nx.spring_layout(graph)\n",
    "    labels = nx.get_node_attributes(graph, 'population') \n",
    "    for i in labels:\n",
    "        x[i] = \"id=\" + str(i) +\" \\npop=\" + str(labels[i])\n",
    "     # change margins if you adding    \n",
    "    #plt.margins(x=0.2, y = 0.2) horizontalalignment='left'\n",
    "    nx.draw(graph, pos, edge_color = \"steelblue\", node_color = \"white\")\n",
    "    nx.draw_networkx_labels(graph, pos,  labels = x, font_size=10)"
   ]
  },
  {
   "cell_type": "code",
   "execution_count": 7,
   "id": "3dab94f7-ffbf-400c-a535-e672780c2118",
   "metadata": {},
   "outputs": [],
   "source": [
    "def F4(graph = None, nodeChoice = None, printSummary = True, \n",
    "       returnUpdatedGraph = False, \n",
    "       returnListOfPopulations = False,\n",
    "      returnAllAsDict = False):\n",
    "   \n",
    "    edgesOfChosenNode = list(nx.edges(graph, [nodeChoice]))\n",
    "   \n",
    "    neigborOfChosenNode = [edgesOfChosenNode[i][1] for i in range(len(list(edgesOfChosenNode)))]\n",
    "    nodeChoicePopulation = graph.nodes[nodeChoice]['population']\n",
    "    sumOfNeighborsOfChosenNode = np.sum([graph.nodes[i]['population'] for i in neigborOfChosenNode])\n",
    "    populationOfNode = -nodeChoicePopulation + sumOfNeighborsOfChosenNode\n",
    "    updatedGraph = graph.copy()\n",
    "    updatedGraph.nodes[nodeChoice]['population'] = populationOfNode\n",
    "\n",
    "    newPopulations = [updatedGraph.nodes[i]['population'] for i in list(updatedGraph)]\n",
    "    if printSummary:\n",
    "        print(\"Node choice\", \n",
    "              nodeChoice,\n",
    "              \"\\nNode details\",\n",
    "              nx.nodes(graph)[nodeChoice],\n",
    "              \"\\nChange in node population \",\n",
    "              nx.nodes(graph)[nodeChoice]['population'], \n",
    "              \"->\", \n",
    "              populationOfNode)\n",
    "        print(\"Updated node populations of graph: \", newPopulations, \"\\n\")\n",
    "\n",
    "    if returnUpdatedGraph: \n",
    "        return(updatedGraph)\n",
    "    \n",
    "    if returnListOfPopulations:\n",
    "        return(np.array(newPopulations))\n",
    "    \n",
    "    if returnAllAsDict:\n",
    "        return({\"graph\": updatedGraph,\n",
    "               \"population\": np.array(newPopulations)})\n",
    "    \n",
    "def F5(graphChoice=None, vertices = [], iterations=5, returnPopulations = True, iterateThroughAllVertices = True):\n",
    "    listOfAllPopulations = []\n",
    "    graph = graphChoice\n",
    "    \n",
    "    if iterateThroughAllVertices:\n",
    "        vertices = graph.nodes\n",
    "    \n",
    "    for i in range(iterations):\n",
    "        for j in vertices:\n",
    "            udpatedGraphAndPopulation = F4(graph, j, returnAllAsDict=True, printSummary = False)\n",
    "            graph = udpatedGraphAndPopulation['graph']\n",
    "            population = udpatedGraphAndPopulation['population']\n",
    "            listOfAllPopulations.append(population)\n",
    "            \n",
    "    print(\"Number of unique populations: \", len(list(set([tuple(i) for i in [list(i) for i in listOfAllPopulations]]))))\n",
    "    if returnPopulations:\n",
    "        setOfAllPopulations = list(set([tuple(i) for i in [list(i) for i in listOfAllPopulations]]))\n",
    "        return({\"iterations\":iterations,\n",
    "               \"populationAsSetCount\":len(setOfAllPopulations),\n",
    "                \"populationAsListCount\":len(listOfAllPopulations),\n",
    "               \"populationsAsSet\": setOfAllPopulations,\n",
    "               \"populationsAsList\": listOfAllPopulations})"
   ]
  },
  {
   "cell_type": "markdown",
   "id": "547476f0-01f7-4b71-869a-7c27c0422ceb",
   "metadata": {},
   "source": [
    "<b>Recall</b> the following: \n",
    "\n",
    "1.  the <b>population function</b> vertex, $x$ in the graph $X$, the population function $S_x:P(x)  \\rightarrow P(X)$ can be defined by: \n",
    "\n",
    "$$ ps_x(y) \\equiv  \\begin{cases}\n",
    "    -p(x) + \\Sigma_{z \\in N(x)} \\text{ }  p(z) & \\text{if y = x}\\\\\n",
    "    p(y) & \\text{otherwise}\n",
    "\\end{cases}\n",
    "$$ \n",
    "\n",
    "<b>Observe</b>that p(X) can be intuited as a vector space over the functions, but adding / multiply possible \n",
    "\n",
    "\n",
    "<b>Observe</b> that $y$ here is any arbitrary vertex chosen, and $p$ is the popualtion"
   ]
  },
  {
   "cell_type": "markdown",
   "id": "8205289a-3be6-42ed-b1f6-0ec172dafbda",
   "metadata": {},
   "source": [
    "2. a <b>singleton popuation</b> can be bexpressed as \n",
    "    \n",
    "   \n",
    " $$ \\delta (y) \\equiv  \\begin{cases}\n",
    "    1 & \\text{if y = x}\\\\\n",
    "    0 & \\text{otherwise}\n",
    "\\end{cases}$$ \n",
    "\n",
    "3. A <b>root population</b> is a population that can be be obtained from a singleton by some sequence of mutation involving any vertices in order. Root population can be deonted as $R(X)$ \n",
    "\n",
    "4. If$X$ is a connected graph and has a finite number of root populations ($|R(X)| \\lt \\infty$), then $X$ must be an $ADE$ graph\n",
    "\n",
    "\n",
    "<hr/>\n",
    "\n",
    "<b>Aim</b>\n",
    " that aleternat way to write this, which we have not proven, is that if $X$ is an $ADE$ raph, then $R(X)$ must be finite. This will lead to the describing of classical root sustems, whcih are examples of exceptional structures in mathematics and physics - these are really foundational structures\n",
    " \n",
    " <hr/>"
   ]
  },
  {
   "cell_type": "code",
   "execution_count": null,
   "id": "88e1efcc-b2a6-4efe-8055-5d50ba644939",
   "metadata": {},
   "outputs": [],
   "source": []
  },
  {
   "cell_type": "code",
   "execution_count": null,
   "id": "bf265228-09df-42db-a53c-ae1e2a6cbfed",
   "metadata": {},
   "outputs": [],
   "source": []
  },
  {
   "cell_type": "code",
   "execution_count": null,
   "id": "ec7502b5-2652-4574-aeb9-cc6b475c322e",
   "metadata": {},
   "outputs": [],
   "source": []
  },
  {
   "cell_type": "code",
   "execution_count": null,
   "id": "6afc5995-270a-410c-9c76-aa5f7bda3aee",
   "metadata": {},
   "outputs": [],
   "source": []
  },
  {
   "cell_type": "code",
   "execution_count": null,
   "id": "19c29ab9-383e-4b67-a0d6-2b9f514ed7b1",
   "metadata": {},
   "outputs": [],
   "source": [
    "root pouati"
   ]
  },
  {
   "cell_type": "code",
   "execution_count": 97,
   "id": "e3e2d0c2-ccc7-45cb-9a5e-75c2ab477cba",
   "metadata": {},
   "outputs": [
    {
     "data": {
      "image/png": "[encoded data removed]",
      "text/plain": [
       "<Figure size 432x288 with 1 Axes>"
      ]
     },
     "metadata": {},
     "output_type": "display_data"
    }
   ],
   "source": [
    "F6= F2(edges=[(\"a\",\"b\"),(\"b\",\"c\"),(\"b\",\"d\"),(\"d\",\"e\"),(\"e\",\"f\"),(\"f\",\"g\"), (\"f\",\"h\")], \n",
    "       population=[0,1,0,0,0, 0, 0, 0,])\n",
    "F3(F6)"
   ]
  },
  {
   "cell_type": "markdown",
   "id": "71884e64-44bb-4043-968e-abb3ceb4f383",
   "metadata": {},
   "source": [
    "<b>Observe</b> that this iterative can get t this point: "
   ]
  },
  {
   "cell_type": "code",
   "execution_count": null,
   "id": "d722aa4c-6b7a-4a70-b931-fc36d4b8c63c",
   "metadata": {},
   "outputs": [],
   "source": []
  }
 ],
 "metadata": {
  "kernelspec": {
   "display_name": "Python 3",
   "language": "python",
   "name": "python3"
  },
  "language_info": {
   "codemirror_mode": {
    "name": "ipython",
    "version": 3
   },
   "file_extension": ".py",
   "mimetype": "text/x-python",
   "name": "python",
   "nbconvert_exporter": "python",
   "pygments_lexer": "ipython3",
   "version": "3.9.2"
  }
 },
 "nbformat": 4,
 "nbformat_minor": 5
}
