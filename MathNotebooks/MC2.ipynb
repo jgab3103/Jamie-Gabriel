{
 "cells": [
  {
   "cell_type": "code",
   "execution_count": 1,
   "id": "0d2c0110-d7bb-496a-a323-66001f6aeb84",
   "metadata": {},
   "outputs": [],
   "source": [
    "import numpy as np\n",
    "import sympy as sp\n",
    "from IPython.display import HTML\n",
    "import ipywidgets as widgets\n",
    "import matplotlib as mpl\n",
    "from mpl_toolkits.mplot3d import Axes3D\n",
    "import matplotlib.pyplot as plt\n",
    "mpl.rcParams['legend.fontsize'] = 10\n",
    "import pandas as pd\n",
    "import itertools\n",
    "\n",
    "# This is commented out\n",
    "#%matplotlib widget\n",
    "\n",
    "# function to print latex\n",
    "def renderListToLatex(e):\n",
    "    latex_rendering = []\n",
    "\n",
    "    for i in range(len(e)):\n",
    "        latex_rendering.append(\"$$\" + sp.latex(e[i]) + \"$$\")\n",
    "    \n",
    "    return(HTML(\"\".join(latex_rendering[0:])))"
   ]
  },
  {
   "cell_type": "markdown",
   "id": "771193c0-9306-4a90-b360-27a46b6ac288",
   "metadata": {},
   "source": [
    "#### Kinematics equations"
   ]
  },
  {
   "cell_type": "markdown",
   "id": "9f8cc766-fe1f-4375-a05a-324a2906b669",
   "metadata": {},
   "source": [
    "We need to need to decide if we accept Newton's equations, if we accept experimentally. What we are saying first that we are naming this intuitions about time and space. "
   ]
  },
  {
   "cell_type": "code",
   "execution_count": 2,
   "id": "3941d8ff-59ea-4022-9515-fb8e34f2e28f",
   "metadata": {},
   "outputs": [],
   "source": [
    "v, v1, v2, a, s, t, t1, t2 = sp.symbols('v, v1, v2, a, s, t, t1, t2 ')"
   ]
  },
  {
   "cell_type": "code",
   "execution_count": 16,
   "id": "4181013b-500b-4298-bb67-57b138908596",
   "metadata": {},
   "outputs": [
    {
     "data": {
      "text/latex": [
       "$\\displaystyle a = \\frac{- v_{1} + v_{2}}{- t_{1} + t_{2}}$"
      ],
      "text/plain": [
       "Eq(a, (-v1 + v2)/(-t1 + t2))"
      ]
     },
     "execution_count": 16,
     "metadata": {},
     "output_type": "execute_result"
    }
   ],
   "source": [
    "g1 = sp.Eq(a, (v2 - v1)/(t2 - t1))\n",
    "g1"
   ]
  },
  {
   "cell_type": "markdown",
   "id": "af1ccc03-a177-406a-849e-3ecd3f23c906",
   "metadata": {},
   "source": [
    "Immedietely this means that"
   ]
  },
  {
   "cell_type": "code",
   "execution_count": 15,
   "id": "871c4a02-18a2-448d-8e9f-f05b1d00b8ce",
   "metadata": {},
   "outputs": [
    {
     "data": {
      "text/html": [
       "$$t_{2} = \\frac{a t_{1} - v_{1} + v_{2}}{a}$$$$t_{1} = \\frac{a t_{2} + v_{1} - v_{2}}{a}$$$$v_{2} = - a t_{1} + a t_{2} + v_{1}$$$$v_{1} = a t_{1} - a t_{2} + v_{2}$$$$a = \\frac{v_{1} - v_{2}}{t_{1} - t_{2}}$$"
      ],
      "text/plain": [
       "<IPython.core.display.HTML object>"
      ]
     },
     "execution_count": 15,
     "metadata": {},
     "output_type": "execute_result"
    }
   ],
   "source": [
    "renderListToLatex([sp.Eq(i, sp.solve(g1, i)[0]) for i in list(g1.free_symbols)])"
   ]
  },
  {
   "cell_type": "markdown",
   "id": "2d999678-13c0-4a9c-a1e2-f7bbd92f8df8",
   "metadata": {},
   "source": [
    "A general problem"
   ]
  }
 ],
 "metadata": {
  "kernelspec": {
   "display_name": "Python 3",
   "language": "python",
   "name": "python3"
  },
  "language_info": {
   "codemirror_mode": {
    "name": "ipython",
    "version": 3
   },
   "file_extension": ".py",
   "mimetype": "text/x-python",
   "name": "python",
   "nbconvert_exporter": "python",
   "pygments_lexer": "ipython3",
   "version": "3.9.2"
  }
 },
 "nbformat": 4,
 "nbformat_minor": 5
}
