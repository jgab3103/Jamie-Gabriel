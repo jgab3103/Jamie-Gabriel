{
 "cells": [
  {
   "cell_type": "markdown",
   "id": "cd785232-2f3d-43dc-94af-0076a1ab2517",
   "metadata": {},
   "source": [
    "<hr/>\n",
    "\n",
    "<b>Notebook Summary</b>\n",
    "\n",
    "The purpose of this notebook is a continuation from ES1_2, which introduced some basic properties of graphs and provide examples and proofs that demonstrate these properties. It will also introduce the \"mutation game\" which can be used to demonstrate these properties. \n",
    "\n",
    "These notes are based on Prof. Norman Wildberger's lectures on Dynamics on Graphs which can be found <a href=\"https://www.youtube.com/c/WildEggmathematicscourses/featured\">here</a>. \n",
    "    \n",
    "They notes are are being hosted at my website <a href=\"https://www.ladatavita.com/\">ladatavita.com</a> and the Jupyter notebook is also available from my Github repo at: <a href=\"https://github.com/jgab3103/Jamie-Gabriel/tree/main/MathNotebooks\">https://github.com/jgab3103/Jamie-Gabriel/tree/main/MathNotebooks</a>\n",
    "\n",
    "\n",
    "\n",
    "<hr/>"
   ]
  },
  {
   "cell_type": "code",
   "execution_count": 1,
   "id": "8f5dc6a8-8a04-42ed-b738-229121afe4e6",
   "metadata": {},
   "outputs": [],
   "source": [
    "import pyvis.network as nt\n",
    "import numpy as np\n",
    "import sympy as sp\n",
    "from IPython.display import HTML\n",
    "import ipywidgets as widgets\n",
    "import matplotlib as mpl\n",
    "from mpl_toolkits.mplot3d import Axes3D\n",
    "import matplotlib.pyplot as plt\n",
    "mpl.rcParams['legend.fontsize'] = 10\n",
    "import pandas as pd\n",
    "import networkx as nx\n",
    "import string"
   ]
  },
  {
   "cell_type": "markdown",
   "id": "99459852-1277-49fa-bb4f-0887724714e1",
   "metadata": {},
   "source": [
    "<hr/>\n",
    "<b>Aim</b>: Continue to demonstrate the properties of the mutation function on simple graphs\n",
    "<hr/>\n",
    "\n",
    "<b>Observe</b>: Recall that the population function (introduced in ES1_1), $ps_x$ has the following properties:  \n",
    "\n",
    "1. If $p$ and $q$ are populations, $P(X)$ is a space of populations, and $p, q \\in P(X)$, then $(p + q)s_x = ps_x + qs_x$ so it is a linear operator and can be applied pointwise and if $n \\in \\text{Int}$, then $(np)s_x = n(ps_x)$\n",
    "\n",
    "2. $s_x^2 \\equiv \\text{Identity}$. Performing the same mutation in succession will produce the original graph population.\n",
    "\n",
    "3. If $x$ and $y$ are non-neighboring vertices, then the $S_xS_y \\equiv S_yS_x$, meaning they are commutative\n",
    "\n",
    "\n",
    "<b>Observe</b>: A consequence of property $3$, it is the case that: \n",
    "\n",
    "$$ (pS_x)S_y = p(S_xS_y) \\equiv (pS_y)S_x = p(S_yS_x) $$\n",
    "\n",
    "\n",
    "Note that the mutation functino, $S_i$ is, by convention, written on the rhs of the populations it is are acting on. This means that\n",
    "However in general they do not have to \n",
    "\n",
    "4. (The braid relation) If $x$ and $y$ are neighbors, then: \n",
    "\n",
    "\n",
    "\n",
    "$$ S_x S_y S_x = S_y S_x S_y $$\n",
    "\n",
    "<b>Observe</b>: It can be shows that the relation $(S_xS_y)^3 = \\text{identity}$\n",
    "\n"
   ]
  },
  {
   "cell_type": "markdown",
   "id": "23d36d79-033b-4590-abc3-a74ad454432b",
   "metadata": {},
   "source": [
    "<b>Let</b> $F1$ be an implementation of the population function $ps_x$"
   ]
  },
  {
   "cell_type": "code",
   "execution_count": 2,
   "id": "6e993278-7213-491a-a190-3116de6ff2b9",
   "metadata": {},
   "outputs": [],
   "source": [
    "def F1(graph, nodeChoice, printSummary = True, \n",
    "       returnUpdatedGraph = False, \n",
    "       returnListOfPopulations = False,\n",
    "      returnAllAsDict = False):\n",
    "   \n",
    "    edgesOfChosenNode = list(nx.edges(graph, [nodeChoice]))\n",
    "   \n",
    "    neigborOfChosenNode = [edgesOfChosenNode[i][1] for i in range(len(list(edgesOfChosenNode)))]\n",
    "    nodeChoicePopulation = graph.nodes[nodeChoice]['population']\n",
    "    sumOfNeighborsOfChosenNode = np.sum([graph.nodes[i]['population'] for i in neigborOfChosenNode])\n",
    "    populationOfNode = -nodeChoicePopulation + sumOfNeighborsOfChosenNode\n",
    "    updatedGraph = graph.copy()\n",
    "    updatedGraph.nodes[nodeChoice]['population'] = populationOfNode\n",
    "\n",
    "    newPopulations = [updatedGraph.nodes[i]['population'] for i in list(updatedGraph)]\n",
    "    if printSummary:\n",
    "        print(\"Node choice\", \n",
    "              nodeChoice,\n",
    "              \"\\nNode details\",\n",
    "              nx.nodes(graph)[nodeChoice],\n",
    "              \"\\nChange in node population \",\n",
    "              nx.nodes(graph)[nodeChoice]['population'], \n",
    "              \"->\", \n",
    "              populationOfNode)\n",
    "        print(\"Updated node populations of graph: \", newPopulations, \"\\n\")\n",
    "\n",
    "    if returnUpdatedGraph: \n",
    "        return(updatedGraph)\n",
    "    \n",
    "    if returnListOfPopulations:\n",
    "        return(np.array(newPopulations))\n",
    "    \n",
    "    if returnAllAsDict:\n",
    "        return({\"graph\": updatedGraph,\n",
    "               \"population\": np.array(newPopulations)})"
   ]
  },
  {
   "cell_type": "markdown",
   "id": "d36e6239-950b-4459-b343-54104c920780",
   "metadata": {},
   "source": [
    "Suppose that x is a simple graph\n",
    "\n",
    "Note that ~ makes things more symmetrical"
   ]
  }
 ],
 "metadata": {
  "kernelspec": {
   "display_name": "Python 3",
   "language": "python",
   "name": "python3"
  },
  "language_info": {
   "codemirror_mode": {
    "name": "ipython",
    "version": 3
   },
   "file_extension": ".py",
   "mimetype": "text/x-python",
   "name": "python",
   "nbconvert_exporter": "python",
   "pygments_lexer": "ipython3",
   "version": "3.9.2"
  }
 },
 "nbformat": 4,
 "nbformat_minor": 5
}
