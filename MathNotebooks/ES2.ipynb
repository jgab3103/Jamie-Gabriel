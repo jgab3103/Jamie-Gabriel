{
 "cells": [
  {
   "cell_type": "markdown",
   "id": "cd785232-2f3d-43dc-94af-0076a1ab2517",
   "metadata": {},
   "source": [
    "<hr/>\n",
    "\n",
    "<b>Notebook Summary</b>\n",
    "\n",
    "These notes are based on Prof. Norman Wildberger's lectures on Dynamics on Graphs which can be found <a href=\"https://www.youtube.com/c/WildEggmathematicscourses/featured\">here</a>. \n",
    "    \n",
    "They notes are are being hosted at my website <a href=\"https://www.ladatavita.com/\">ladatavita.com</a> and the Jupyter notebook is also available from my Github repo at: <a href=\"https://github.com/jgab3103/Jamie-Gabriel/tree/main/MathNotebooks\">https://github.com/jgab3103/Jamie-Gabriel/tree/main/MathNotebooks</a>\n",
    "\n",
    "The purpose of this notebook is a continuation where we left off in the previous notebook ES1_2, which introduced some basic properties of graphs and provided some initial examples and proofs that demonstrate these properties. \n",
    "\n",
    "This notebook will continue the investigation, but will start to add some more structure to it, and seek to to ascertain certain criteria in graph structure that must be met for the count of root populations to be finite. Also in this notebook, I have taken the opportunity to clean up some of the functions I am using to create graphs and manage mutation. Also, I have also stopped using the visnetwork package in favour of networkx/matplotlib just for the sake of simplifying formatting.  \n",
    "\n",
    "<hr/>"
   ]
  },
  {
   "cell_type": "code",
   "execution_count": 49,
   "id": "8f5dc6a8-8a04-42ed-b738-229121afe4e6",
   "metadata": {},
   "outputs": [],
   "source": [
    "import pyvis.network as nt\n",
    "import numpy as np\n",
    "import sympy as sp\n",
    "from IPython.display import HTML\n",
    "import ipywidgets as widgets\n",
    "import matplotlib as mpl\n",
    "from mpl_toolkits.mplot3d import Axes3D\n",
    "import matplotlib.pyplot as plt\n",
    "mpl.rcParams['legend.fontsize'] = 10\n",
    "import pandas as pd\n",
    "import networkx as nx\n",
    "import string\n",
    "import random"
   ]
  },
  {
   "cell_type": "markdown",
   "id": "99459852-1277-49fa-bb4f-0887724714e1",
   "metadata": {},
   "source": [
    "<hr/>\n",
    "<b>Aim</b>: Create some functions to allow the continued investigation structure in simple graphs\n",
    "<hr/>\n",
    "\n",
    "<b>Observe</b>: Recall from the previous notebook that successively applying the $ps_x$ mutation function would sometimes lead to a finite set of root populations and these cases appear to be related to certain graph types. In particular, some instances of $A_n$ and $D_6$ were used to test this.   \n",
    "\n",
    "<b>Observe</b>: It is possible to put more rigor by looking at those instances which will definitely not lead to finite sets. \n",
    "\n",
    "<b>Let</b> $F1, F2$ and $F3$ be functions to create graphs given connections of edges, carry out the $ps_x$ function, and test this function over a chosen amoont of iterations"
   ]
  },
  {
   "cell_type": "code",
   "execution_count": 314,
   "id": "c85c73bb-16a8-45b2-af81-d26400acf558",
   "metadata": {},
   "outputs": [],
   "source": [
    "def F1(edges=None):\n",
    "    \n",
    "    verticeLabels = list(set([item for sublist in edges for item in sublist]))\n",
    "    randomNumberToIntialiseSingletonPopulation = random.randint(0, len(verticeLabels) - 1)\n",
    "\n",
    "    vertices = [(verticeLabels[i], {\"population\": 0}) for i in range(len(verticeLabels))]\n",
    "    graph = nx.Graph()\n",
    "    graph.add_nodes_from(vertices)\n",
    "    graph.add_edges_from(edges)\n",
    "    \n",
    "    graph.nodes[verticeLabels[randomNumberToIntialiseSingletonPopulation]]['population'] = 1\n",
    "    \n",
    "    return(graph)\n",
    "\n",
    "def F2(graph = None, nodeChoice = None, printSummary = True, \n",
    "       returnUpdatedGraph = False, \n",
    "       returnListOfPopulations = False,\n",
    "      returnAllAsDict = False):\n",
    "   \n",
    "    edgesOfChosenNode = list(nx.edges(graph, [nodeChoice]))\n",
    "   \n",
    "    neigborOfChosenNode = [edgesOfChosenNode[i][1] for i in range(len(list(edgesOfChosenNode)))]\n",
    "    nodeChoicePopulation = graph.nodes[nodeChoice]['population']\n",
    "    sumOfNeighborsOfChosenNode = np.sum([graph.nodes[i]['population'] for i in neigborOfChosenNode])\n",
    "    populationOfNode = -nodeChoicePopulation + sumOfNeighborsOfChosenNode\n",
    "    updatedGraph = graph.copy()\n",
    "    updatedGraph.nodes[nodeChoice]['population'] = populationOfNode\n",
    "\n",
    "    newPopulations = [updatedGraph.nodes[i]['population'] for i in list(updatedGraph)]\n",
    "    if printSummary:\n",
    "        print(\"Node choice\", \n",
    "              nodeChoice,\n",
    "              \"\\nNode details\",\n",
    "              nx.nodes(graph)[nodeChoice],\n",
    "              \"\\nChange in node population \",\n",
    "              nx.nodes(graph)[nodeChoice]['population'], \n",
    "              \"->\", \n",
    "              populationOfNode)\n",
    "        print(\"Updated node populations of graph: \", newPopulations, \"\\n\")\n",
    "\n",
    "    if returnUpdatedGraph: \n",
    "        return(updatedGraph)\n",
    "    \n",
    "    if returnListOfPopulations:\n",
    "        return(np.array(newPopulations))\n",
    "    \n",
    "    if returnAllAsDict:\n",
    "        return({\"graph\": updatedGraph,\n",
    "               \"population\": np.array(newPopulations)})\n",
    "    \n",
    "def F3(graphChoice=None, vertices = [], iterations=5, returnPopulations = True, iterateThroughAllVertices = True):\n",
    "    listOfAllPopulations = []\n",
    "    graph = graphChoice\n",
    "    \n",
    "    if iterateThroughAllVertices:\n",
    "        vertices = graph.nodes\n",
    "    \n",
    "    for i in range(iterations):\n",
    "        for j in vertices:\n",
    "            udpatedGraphAndPopulation = F2(graph, j, returnAllAsDict=True, printSummary = False)\n",
    "            graph = udpatedGraphAndPopulation['graph']\n",
    "            population = udpatedGraphAndPopulation['population']\n",
    "            listOfAllPopulations.append(population)\n",
    "            \n",
    "    print(\"Number of unique populations: \", len(list(set([tuple(i) for i in [list(i) for i in listOfAllPopulations]]))))\n",
    "    if returnPopulations:\n",
    "        setOfAllPopulations = list(set([tuple(i) for i in [list(i) for i in listOfAllPopulations]]))\n",
    "        return({\"iterations\":iterations,\n",
    "               \"populationAsSetCount\":len(setOfAllPopulations),\n",
    "                \"populationAsListCount\":len(listOfAllPopulations),\n",
    "               \"populationsAsSet\": setOfAllPopulations,\n",
    "               \"populationsAsList\": listOfAllPopulations})"
   ]
  },
  {
   "cell_type": "markdown",
   "id": "676efc44-c353-4a92-8b30-73a4fd79c62c",
   "metadata": {},
   "source": [
    "<b>Let</b> $F4$ be an example of a graph created with the $F1$ function"
   ]
  },
  {
   "cell_type": "code",
   "execution_count": 319,
   "id": "6e993278-7213-491a-a190-3116de6ff2b9",
   "metadata": {},
   "outputs": [],
   "source": [
    "F4 = F1(edges=[(\"a\",\"b\"),(\"b\",\"c\"),(\"c\",\"d\"),(\"d\",\"e\"),(\"e\",\"f\")] )"
   ]
  },
  {
   "cell_type": "markdown",
   "id": "3635d056-b347-4593-8098-856b9e55b8bf",
   "metadata": {},
   "source": [
    "<b>Let</b> $F5$ be an example of a function that applies the $ps_x$ mutation to a given graph and vertice."
   ]
  },
  {
   "cell_type": "code",
   "execution_count": 316,
   "id": "a456e033-f5f5-42fa-b644-d761b71fdc13",
   "metadata": {},
   "outputs": [
    {
     "name": "stdout",
     "output_type": "stream",
     "text": [
      "Node choice a \n",
      "Node details {'population': 0} \n",
      "Change in node population  0 -> 0\n",
      "Updated node populations of graph:  [0, 0, 0, 1, 0, 0] \n",
      "\n"
     ]
    }
   ],
   "source": [
    "F5 = F2(graph=F4, nodeChoice='a')"
   ]
  },
  {
   "cell_type": "markdown",
   "id": "100f2a3f-e8a2-4a81-96f5-4d07322ceae6",
   "metadata": {},
   "source": [
    "<b>Let</b> $F6$ be an example of a function that applies the $ps_x$ mutation to a chosen set of nodes over  chosen set of iterations. "
   ]
  },
  {
   "cell_type": "code",
   "execution_count": 321,
   "id": "fd29a1ff-e15c-40b8-ab55-258cb52b0ee5",
   "metadata": {},
   "outputs": [
    {
     "name": "stdout",
     "output_type": "stream",
     "text": [
      "Number of unique populations:  22\n"
     ]
    }
   ],
   "source": [
    "F6 = F3(graphChoice=F4, iterations=10, returnPopulations=True)"
   ]
  },
  {
   "cell_type": "markdown",
   "id": "76dd625c-18b3-4986-9574-a92e9eb469c3",
   "metadata": {},
   "source": [
    "<hr/>\n",
    "\n",
    "<b>Aim</b>: Use the functions to ascertain situations where all the count of possible roots of a graph, denoted $R(X)$ will not be finite\n",
    "\n",
    "<hr/>\n",
    "\n",
    "<b>Strategy</b>: Assume that $X$ is a Simple Graph with a finite root population and deduce what characteristics it can not have"
   ]
  },
  {
   "cell_type": "markdown",
   "id": "a832f5f9-05c7-4855-a1e3-83aaa8047202",
   "metadata": {},
   "source": [
    "<b>Observe</b>: If the graph is cyclical (i.e. ) then it is not possible "
   ]
  },
  {
   "cell_type": "markdown",
   "id": "1b13fef1-5956-499c-a4f8-8826030fadc8",
   "metadata": {},
   "source": [
    "<b>Observe</b>: Recall the Simple Graph $A_n$ and note that it differs to to $A_n \\text{~}$ only in the manner that one more edge gets created. \n",
    "\n",
    "<b>Let</b>: $F7$ and $F8$ be examples of an  $A_n$ and  $A_n \\text{~}$ graph"
   ]
  },
  {
   "cell_type": "code",
   "execution_count": 381,
   "id": "93547f08-4e42-4099-b0d9-584103ee8e34",
   "metadata": {},
   "outputs": [],
   "source": [
    "F7 = F1(edges=[(\"a\",\"b\"),(\"b\",\"c\"),(\"c\",\"d\"), (\"d\",\"e\")] )\n",
    "F8 = F1(edges=[(\"a\",\"b\"),(\"b\",\"c\"),(\"c\",\"d\"), (\"d\",\"e\"), (\"e\",\"a\")] )"
   ]
  },
  {
   "cell_type": "code",
   "execution_count": 375,
   "id": "d84f143b-ecfc-4772-9e61-842ebc377521",
   "metadata": {},
   "outputs": [
    {
     "data": {
      "image/png": "[encoded data removed]",
      "text/plain": [
       "<Figure size 1152x576 with 2 Axes>"
      ]
     },
     "metadata": {},
     "output_type": "display_data"
    }
   ],
   "source": [
    "fig, (ax1, ax2) = plt.subplots(1, 2, figsize=(16, 8))\n",
    "\n",
    "pos1 = nx.spring_layout(F7)\n",
    "pos2 = nx.spring_layout(F8)\n",
    "\n",
    "nx.draw_networkx(F7, pos1, ax=ax1, node_color='r')\n",
    "nx.draw_networkx(F8, pos2, ax=ax2, node_color='b')"
   ]
  },
  {
   "cell_type": "markdown",
   "id": "9661cdcd-e077-4f88-89e3-af35017a8a14",
   "metadata": {},
   "source": [
    "<b>Observe</b>: that this change (in which a single edge is added to an existing graph) makes it impossible for the root populations to be finite. "
   ]
  },
  {
   "cell_type": "markdown",
   "id": "ef0bbead-599c-4c5b-a127-d9c27205c4ab",
   "metadata": {},
   "source": [
    "<b>Let</b> $F9$ and $F10$ be the number of root populations after 100 iterations of $F7$ and $F8$. "
   ]
  },
  {
   "cell_type": "code",
   "execution_count": 380,
   "id": "1424afad-cdf4-48e0-a260-68c11ad7d61b",
   "metadata": {},
   "outputs": [
    {
     "name": "stdout",
     "output_type": "stream",
     "text": [
      "Number of unique populations:  16\n",
      "Number of unique populations:  334\n"
     ]
    }
   ],
   "source": [
    "F9 = F3(graphChoice=F7, iterations=5, returnPopulations=True)\n",
    "F10 = F3(graphChoice=F8, iterations=100, returnPopulations=True)"
   ]
  },
  {
   "cell_type": "markdown",
   "id": "c73c12d3-3cf4-4dc2-b89f-365632d4fd3b",
   "metadata": {},
   "source": [
    "<b>Observe</b>: After 6 iterations, the number of of root populations reaches 18 for $F7$ and appears not to go any higher. In contrast, $F10$ appears to keep on increasing"
   ]
  },
  {
   "cell_type": "code",
   "execution_count": 354,
   "id": "689f15db-5a66-457a-8661-b6c70f1dbc15",
   "metadata": {},
   "outputs": [
    {
     "name": "stdout",
     "output_type": "stream",
     "text": [
      "[0 0 1 0 0]\n",
      "[0 0 1 0 0]\n",
      "[ 0  0 -1  0  0]\n",
      "[ 0  0 -1 -1  0]\n",
      "[ 0  0 -1 -1 -1]\n",
      "[-1  0 -1 -1 -1]\n",
      "[-1 -2 -1 -1 -1]\n",
      "[-1 -2 -1 -1 -1]\n",
      "[-1 -2 -1 -1 -1]\n",
      "[-1 -2 -1 -1 -2]\n",
      "[-2 -2 -1 -1 -2]\n",
      "[-2 -2 -1 -1 -2]\n",
      "[-2 -2 -2 -1 -2]\n",
      "[-2 -2 -2 -3 -2]\n",
      "[-2 -2 -2 -3 -2]\n",
      "[-3 -2 -2 -3 -2]\n",
      "[-3 -3 -2 -3 -2]\n",
      "[-3 -3 -3 -3 -2]\n",
      "[-3 -3 -3 -3 -2]\n",
      "[-3 -3 -3 -3 -4]\n",
      "[-3 -3 -3 -3 -4]\n",
      "[-3 -4 -3 -3 -4]\n",
      "[-3 -4 -4 -3 -4]\n",
      "[-3 -4 -4 -4 -4]\n",
      "[-3 -4 -4 -4 -4]\n",
      "[-5 -4 -4 -4 -4]\n",
      "[-5 -5 -4 -4 -4]\n",
      "[-5 -5 -4 -4 -4]\n",
      "[-5 -5 -4 -5 -4]\n",
      "[-5 -5 -4 -5 -5]\n",
      "[-5 -5 -4 -5 -5]\n",
      "[-5 -5 -4 -5 -5]\n",
      "[-5 -5 -6 -5 -5]\n",
      "[-5 -5 -6 -6 -5]\n",
      "[-5 -5 -6 -6 -6]\n",
      "[-6 -5 -6 -6 -6]\n",
      "[-6 -7 -6 -6 -6]\n",
      "[-6 -7 -6 -6 -6]\n",
      "[-6 -7 -6 -6 -6]\n",
      "[-6 -7 -6 -6 -7]\n",
      "[-7 -7 -6 -6 -7]\n",
      "[-7 -7 -6 -6 -7]\n",
      "[-7 -7 -7 -6 -7]\n",
      "[-7 -7 -7 -8 -7]\n",
      "[-7 -7 -7 -8 -7]\n",
      "[-8 -7 -7 -8 -7]\n",
      "[-8 -8 -7 -8 -7]\n",
      "[-8 -8 -8 -8 -7]\n",
      "[-8 -8 -8 -8 -7]\n",
      "[-8 -8 -8 -8 -9]\n"
     ]
    }
   ],
   "source": [
    "[print(i) for i in F8['populationsAsList']][0]"
   ]
  },
  {
   "cell_type": "code",
   "execution_count": null,
   "id": "875f8502-9768-4bf5-8503-28cf79c4d8e6",
   "metadata": {},
   "outputs": [],
   "source": []
  }
 ],
 "metadata": {
  "kernelspec": {
   "display_name": "Python 3",
   "language": "python",
   "name": "python3"
  },
  "language_info": {
   "codemirror_mode": {
    "name": "ipython",
    "version": 3
   },
   "file_extension": ".py",
   "mimetype": "text/x-python",
   "name": "python",
   "nbconvert_exporter": "python",
   "pygments_lexer": "ipython3",
   "version": "3.9.2"
  }
 },
 "nbformat": 4,
 "nbformat_minor": 5
}
