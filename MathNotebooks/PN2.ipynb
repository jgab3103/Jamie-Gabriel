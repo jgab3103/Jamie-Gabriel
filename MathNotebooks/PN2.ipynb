{
 "cells": [
  {
   "cell_type": "code",
   "execution_count": 39,
   "id": "e3a0263f-3639-4572-8863-8aa44e57bf1f",
   "metadata": {},
   "outputs": [],
   "source": [
    "import numpy as np\n",
    "import sympy as sp\n",
    "from IPython.display import HTML\n",
    "import ipywidgets as widgets\n",
    "import matplotlib as mpl\n",
    "from mpl_toolkits.mplot3d import Axes3D\n",
    "import matplotlib.pyplot as plt\n",
    "mpl.rcParams['legend.fontsize'] = 10\n",
    "import pandas as pd\n",
    "import itertools\n",
    "\n",
    "# This is commented out\n",
    "#%matplotlib widget\n",
    "\n",
    "# function to print latex\n",
    "def renderListToLatex(e):\n",
    "    latex_rendering = []\n",
    "\n",
    "    for i in range(len(e)):\n",
    "        latex_rendering.append(\"$\" + sp.latex(e[i]) + \"$ <br/> \")\n",
    "    \n",
    "    return(HTML(\"\".join(latex_rendering[0:])))\n",
    "    \n",
    "    \n",
    "def convert3DVectorToSQRTOfQuadrance(v):\n",
    "    return(sp.N(sp.sqrt(sum([v.args[i].args[0]**2 for i in range(len(v.args))]))))\n",
    "\n",
    "\n",
    "\n",
    "def convert3DVectorToComponents(v, scaleChoice):\n",
    "    print(v)\n",
    "    return(sp.parse_expr(str(v.args).replace('i', scaleChoice).replace(\"j\", scaleChoice).replace(\"k\", scaleChoice)))\n",
    "    "
   ]
  },
  {
   "cell_type": "markdown",
   "id": "681816bb-53ae-4450-8d80-c803f933346d",
   "metadata": {},
   "source": [
    "<hr/>\n",
    "\n",
    "<b>Aim</b>: Link equations relating to motion in 1 dimension\n",
    "\n",
    "<hr/>\n"
   ]
  },
  {
   "cell_type": "markdown",
   "id": "3188bde1-214e-48fa-ba0e-ae3d2eec783b",
   "metadata": {},
   "source": [
    "Let the following be unknown types"
   ]
  },
  {
   "cell_type": "code",
   "execution_count": 40,
   "id": "0de3ac03-a709-4138-9cc7-59553c0f24d0",
   "metadata": {},
   "outputs": [],
   "source": [
    "x, t1, t2, x1, x2, m, s, t= sp.symbols('x, t1, t2, x1, x2, m, s, t')"
   ]
  },
  {
   "cell_type": "code",
   "execution_count": 41,
   "id": "53f12f52-062a-4c4d-9ebe-5e578528225a",
   "metadata": {},
   "outputs": [
    {
     "data": {
      "text/plain": [
       "(t2, t1, x2, x1)"
      ]
     },
     "execution_count": 41,
     "metadata": {},
     "output_type": "execute_result"
    }
   ],
   "source": [
    "t2, t1, x2, x1"
   ]
  },
  {
   "cell_type": "code",
   "execution_count": 42,
   "id": "8740ada6-f8c6-4abd-9bae-00baa4eb84fe",
   "metadata": {},
   "outputs": [],
   "source": [
    "def findAverageVelocity(positionDelta = None, timeDelta = None):\n",
    "    return((positionDelta[1] - positionDelta[0]) / (timeDelta[1] - timeDelta[0]))\n",
    "\n",
    "\n",
    "\n",
    "\n",
    "def findAverageVelocity(positionDelta = None, timeDelta = None):\n",
    "    return((positionDelta[1] - positionDelta[0]) / (timeDelta[1] - timeDelta[0]))\n",
    "    \n",
    "def findAverageAcceleration(velocityDelta = None, timeDelta = None):\n",
    "    return((velocityDelta[1] - velocityDelta[0]) / (timeDelta[1] - timeDelta[0]))\n",
    "    \n",
    "def findDisplacementFromPositionFunctionAndTime(f = None, time = None):\n",
    "    F1 = f.subs(t, time)\n",
    "    return(F1)\n",
    "    \n",
    "def findInstantaneousVelocityFromPositionFunction(f = None, time = None):\n",
    "    F1 = sp.diff(f, t)\n",
    "    return(F1)\n",
    "\n",
    "def findInstantaneousAccelerationFromVelocityFunction(f = None, time = None):\n",
    "    F1 = sp.diff(f, t)\n",
    "    return(F1)"
   ]
  },
  {
   "cell_type": "code",
   "execution_count": null,
   "id": "6bcd631b-400a-4eab-9021-73fafca7a6cc",
   "metadata": {},
   "outputs": [],
   "source": [
    "def findAverageVelocityFromVelocityFunction(f = None, timeDelta = None):\n",
    "    return((positionDelta[1] - positionDelta[0]) / (timeDelta[1] - timeDelta[0]))\n"
   ]
  },
  {
   "cell_type": "code",
   "execution_count": null,
   "id": "ce368498-7613-4183-8df8-f1afbf00eecb",
   "metadata": {},
   "outputs": [],
   "source": []
  },
  {
   "cell_type": "code",
   "execution_count": 45,
   "id": "9b636941-9785-4e45-bdb1-8048ff2d853f",
   "metadata": {},
   "outputs": [
    {
     "data": {
      "text/html": [
       "$20 m + \\frac{5 m t^{2}}{s^{2}}$ <br/> $25 m$ <br/> $40 m$ <br/> $\\frac{15 m}{s}$ <br/> $\\frac{20 m}{s^{2}}$ <br/> "
      ],
      "text/plain": [
       "<IPython.core.display.HTML object>"
      ]
     },
     "execution_count": 45,
     "metadata": {},
     "output_type": "execute_result"
    }
   ],
   "source": [
    "P1 = 20 * m + 5 * (m / s**2) * t**2\n",
    "\n",
    "P2 = findDisplacementFromPositionFunctionAndTime(P1, (1 * s))\n",
    "P3 = findDisplacementFromPositionFunctionAndTime(P1, (2 * s))\n",
    "P4 = findAverageVelocity(positionDelta=[25 * m, 40 * m], timeDelta=[1 * s,2 * s])\n",
    "P5 = findInstantaneousVelocityFromPositionFunction(P1).subs(t, 2)\n",
    "\n",
    "renderListToLatex([P1, P2, P3, P4, P5])"
   ]
  },
  {
   "cell_type": "code",
   "execution_count": 26,
   "id": "a1113f3d-8523-4bb0-b5b2-4c1005f7f5b6",
   "metadata": {},
   "outputs": [
    {
     "data": {
      "text/plain": [
       "10.5"
      ]
     },
     "execution_count": 26,
     "metadata": {},
     "output_type": "execute_result"
    }
   ],
   "source": [
    "findAverageAcceleration(velocityDelta=[23, 44], timeDelta=[3,5])"
   ]
  },
  {
   "cell_type": "code",
   "execution_count": 46,
   "id": "863ab370-214f-4802-81a3-6220fe4a7d20",
   "metadata": {},
   "outputs": [],
   "source": [
    "P6 = 60 * (m / s) + (.5 * (m / s**3) * t**2)"
   ]
  },
  {
   "cell_type": "code",
   "execution_count": 47,
   "id": "4c832386-a3ba-4f04-80ab-13cb770c9127",
   "metadata": {},
   "outputs": [
    {
     "data": {
      "text/latex": [
       "$\\displaystyle \\frac{60 m}{s} + \\frac{0.5 m t^{2}}{s^{3}}$"
      ],
      "text/plain": [
       "60*m/s + 0.5*m*t**2/s**3"
      ]
     },
     "execution_count": 47,
     "metadata": {},
     "output_type": "execute_result"
    }
   ],
   "source": [
    "P6"
   ]
  },
  {
   "cell_type": "code",
   "execution_count": 48,
   "id": "da0d7845-1f79-48ac-9b7e-16361e8bffd1",
   "metadata": {},
   "outputs": [
    {
     "data": {
      "text/latex": [
       "$\\displaystyle \\frac{1.0 m t}{s^{3}}$"
      ],
      "text/plain": [
       "1.0*m*t/s**3"
      ]
     },
     "execution_count": 48,
     "metadata": {},
     "output_type": "execute_result"
    }
   ],
   "source": [
    "findInstantaneousAccelerationFromVelocityFunction(P6)"
   ]
  },
  {
   "cell_type": "code",
   "execution_count": null,
   "id": "40e7af9a-4657-4d6f-b7a5-1270af2afc91",
   "metadata": {},
   "outputs": [],
   "source": []
  }
 ],
 "metadata": {
  "kernelspec": {
   "display_name": "Python 3",
   "language": "python",
   "name": "python3"
  },
  "language_info": {
   "codemirror_mode": {
    "name": "ipython",
    "version": 3
   },
   "file_extension": ".py",
   "mimetype": "text/x-python",
   "name": "python",
   "nbconvert_exporter": "python",
   "pygments_lexer": "ipython3",
   "version": "3.9.2"
  }
 },
 "nbformat": 4,
 "nbformat_minor": 5
}
