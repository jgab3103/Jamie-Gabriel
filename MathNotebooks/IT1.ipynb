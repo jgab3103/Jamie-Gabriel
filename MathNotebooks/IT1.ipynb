{
 "cells": [
  {
   "cell_type": "markdown",
   "id": "cd785232-2f3d-43dc-94af-0076a1ab2517",
   "metadata": {},
   "source": [
    "<hr/>\n",
    "\n",
    "<b>Notebook Summary</b>\n",
    "\n",
    "These notes capture key concepts in Information Theory and Boolean Algebra. They have been compiled from: \n",
    "\n",
    "- based on David Mackay's text <a href=\"https://www.google.com/url?sa=t&rct=j&q=&esrc=s&source=web&cd=&ved=2ahUKEwiAzIzrsrD1AhVkSGwGHT17DiQQFnoECAcQAQ&url=https%3A%2F%2Fwww.inference.org.uk%2Fitprnn%2Fbook.pdf&usg=AOvVaw2U9u5mdeY0yzjLEbxfO3LW\">Information Theory, Inference and Learning Algorithms </a> along with his lecture series found here. \n",
    "- James Stones Information THeory Book\n",
    "- T. Cover Information Theory\n",
    "- Claude Shannon't 1948 paper\n",
    "    \n",
    "They notes are are being hosted at my website <a href=\"https://www.ladatavita.com/\">ladatavita.com</a> and the Jupyter notebook is also available from my Github repo at: <a href=\"https://github.com/jgab3103/Jamie-Gabriel/tree/main/MathNotebooks\">https://github.com/jgab3103/Jamie-Gabriel/tree/main/MathNotebooks</a>\n",
    "\n",
    "The purpose of this notebook is to cover the first part of Chapter 1 of the text which contains from review of key concepts \n",
    "\n",
    "<hr/>"
   ]
  },
  {
   "cell_type": "code",
   "execution_count": 1,
   "id": "8f5dc6a8-8a04-42ed-b738-229121afe4e6",
   "metadata": {},
   "outputs": [],
   "source": [
    "import pyvis.network as nt\n",
    "import numpy as np\n",
    "import sympy as sp\n",
    "from IPython.display import HTML\n",
    "import ipywidgets as widgets\n",
    "import matplotlib as mpl\n",
    "from mpl_toolkits.mplot3d import Axes3D\n",
    "import matplotlib.pyplot as plt\n",
    "mpl.rcParams['legend.fontsize'] = 10\n",
    "import pandas as pd\n",
    "import networkx as nx\n",
    "import string\n",
    "import random"
   ]
  },
  {
   "cell_type": "markdown",
   "id": "30f1ee09-98cd-4106-bfbb-8a7b85491408",
   "metadata": {},
   "source": [
    "<hr/>\n",
    "\n",
    "<b>Aim</b>: Outline some of the intuitions that can be used to inform information theory\n",
    "<hr/>"
   ]
  },
  {
   "cell_type": "markdown",
   "id": "db88f09a-dd85-4173-b843-bf042da499e0",
   "metadata": {},
   "source": [
    "<b>Observe</b> THat definining infformation is problematic. It iInformation is stimuli that has meaning in some context for its receiver. \n",
    "\n",
    "<b>Observe</b> that in many disciplines (such as Machine Learning, Quantum Mechanics, Physics, Computer science) aim to show how information is processed\n",
    "\n",
    "<b>Observe</b>: When information is entered into and stored in a computer, it is generally referred to as data. Data is useful signals vs. noise"
   ]
  },
  {
   "cell_type": "markdown",
   "id": "3fcd7ab7-d8ee-4554-9e9f-31f0990471d7",
   "metadata": {},
   "source": [
    "<b>Observe</b> that the key observation in Shannon's 1948 paper was that information was measuarable. \n",
    "\n",
    "<b>Observe</b> Shannon's theory is complicated\n",
    "\n",
    "- Different parts of system how much information can move\n",
    "- THe affect of information trasnfer of different types \n",
    "- Seperate singl from noise\n",
    "\n",
    "<b>Observe</b> that the human brain - over a medium, signal recieved and becomes something real\n",
    "\n",
    "<b>Observe</b> The efficient coding hypothethsis claims that evolution is primarily driven by the need to minise energy expended fro each bit of information acquired from teh environment, suggesting that natural selection is fundemntally a singal to noise problem"
   ]
  },
  {
   "cell_type": "markdown",
   "id": "93a63a1f-0294-468d-85a5-7981d7d97341",
   "metadata": {},
   "source": [
    "<b>Definition</b> Information can be measured using a <b>bit</b> which holds a choice between 0 and 1. This foundational definition links it to probability theory. \n",
    "\n",
    "<b>Definition</b> A binary diget is....\n",
    "\n",
    "<b>Let the visualisation below be....</b>"
   ]
  },
  {
   "cell_type": "code",
   "execution_count": 32,
   "id": "17125965-7235-4572-9c8e-120f4ef61394",
   "metadata": {},
   "outputs": [
    {
     "data": {
      "image/png": "[encoded data removed]",
      "text/plain": [
       "<Figure size 432x288 with 1 Axes>"
      ]
     },
     "metadata": {},
     "output_type": "display_data"
    }
   ],
   "source": [
    "edges = [['A', 'B'], ['B', 'C'], ['B', 'D'], ['D', 'F'], ['D', 'G'], ['A', 'E'], ['E', 'H'], ['E', 'I']]\n",
    "G = nx.Graph()\n",
    "G.add_edges_from(edges)\n",
    "pos = nx.spring_layout(G)\n",
    "plt.figure()\n",
    "nx.draw(\n",
    "    G, pos, edge_color='black', width=1, linewidths=1,\n",
    "    node_size=500, node_color='pink', alpha=0.9,\n",
    "    labels={node: node for node in G.nodes()}\n",
    ")\n",
    "nx.draw_networkx_edge_labels(\n",
    "    G, pos,\n",
    "    edge_labels={('A', 'B'): '0', \n",
    "                 ('A', 'E'): '1', \n",
    "                 ('B', 'C'): '0', \n",
    "                 ('B', 'D'): '1',\n",
    "                 ('D', 'G'): '0', \n",
    "                 ('D', 'F'): '1', \n",
    "                 ('E', 'I'): '0', \n",
    "                 ('E', 'H'): '1', \n",
    "                },\n",
    "    font_color='red'\n",
    ")\n",
    "plt.axis('off')\n",
    "plt.show()"
   ]
  },
  {
   "cell_type": "markdown",
   "id": "19394b7e-a81a-4e44-bec7-7311f269d866",
   "metadata": {},
   "source": [
    "<b>Observe</b> that this can be intuited as follows: \n",
    "\n",
    "- At vertice $A$ no information is transferred\n",
    "- To get to vertice $B$ or vertice $E$, 1 bit of information is required, being 0 or 1. $AB \\equiv 0$ and $AE \\equiv 1$\n",
    "- to get to vetice $H$ from $A$ 2 bits of information are needed the first is the AE, the second from EH\n",
    "- This means that $EH$ can be represented by $11$"
   ]
  },
  {
   "cell_type": "markdown",
   "id": "afc70e42-4c3e-4825-a2e6-3dc6262fb1fd",
   "metadata": {},
   "source": [
    "<b>Observe</b> That this is somehow non unuitive. TO ascertain the meaning of $H$, can ask questions that differentiate $H$. $H$ istelf appears to have connent. \n",
    "\n",
    "<b>Observe</b> A bit is a resolution of a proposition that poses 'this is 0 or 1', answer to a true or false question,\n",
    "\n",
    "<b>Observe</b> A bit can be intuited as a state of a system that has a starting state. If the graph above is a system and the starting state is $A$, the state of $G$ is $010$, the state of, $F$ is $011$, etc. \n",
    "\n",
    "<b>Observe</b> question arises how many states can be represented "
   ]
  },
  {
   "cell_type": "code",
   "execution_count": null,
   "id": "ba3ffa54-740a-446c-92b3-98172cf4c12d",
   "metadata": {},
   "outputs": [],
   "source": []
  }
 ],
 "metadata": {
  "kernelspec": {
   "display_name": "Python 3",
   "language": "python",
   "name": "python3"
  },
  "language_info": {
   "codemirror_mode": {
    "name": "ipython",
    "version": 3
   },
   "file_extension": ".py",
   "mimetype": "text/x-python",
   "name": "python",
   "nbconvert_exporter": "python",
   "pygments_lexer": "ipython3",
   "version": "3.9.2"
  }
 },
 "nbformat": 4,
 "nbformat_minor": 5
}
