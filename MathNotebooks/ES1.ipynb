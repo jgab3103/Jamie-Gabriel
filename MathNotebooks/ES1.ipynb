{
 "cells": [
  {
   "cell_type": "markdown",
   "id": "cd785232-2f3d-43dc-94af-0076a1ab2517",
   "metadata": {},
   "source": [
    "\n",
    "<div>These notes are based on Prof. Norman Wildberger's YouTube video on Polynomial Equations found <a href=\"https://www.youtube.com/watch?v=peLRDMhWai8&t=833s\">here</a>. They are being hosted at <a href=\"https://www.ladatavita.com/\">ladatavita.com</a> and available from my Github repo at: <a href=\"https://github.com/jgab3103/Jamie-Gabriel/blob/main/Notebooks/Exceptional_Structures_0.ipynb\">https://github.com/jgab3103/Jamie-Gabriel/blob/main/Notebooks/Exceptional_Structures_0.ipynb</a></div>\n",
    "\n",
    "<hr/>"
   ]
  },
  {
   "cell_type": "code",
   "execution_count": 26,
   "id": "8f5dc6a8-8a04-42ed-b738-229121afe4e6",
   "metadata": {},
   "outputs": [],
   "source": [
    "import pyvis.network as nt\n",
    "import numpy as np\n",
    "import sympy as sp\n",
    "from IPython.display import HTML\n",
    "import ipywidgets as widgets\n",
    "import matplotlib as mpl\n",
    "from mpl_toolkits.mplot3d import Axes3D\n",
    "import matplotlib.pyplot as plt\n",
    "mpl.rcParams['legend.fontsize'] = 10\n",
    "import pandas as pd\n",
    "import networkx as nx"
   ]
  },
  {
   "cell_type": "markdown",
   "id": "4ee7951f-8102-40d6-9174-d1cdd47040f4",
   "metadata": {},
   "source": [
    "<b>Aim</b> Provide a foundational intuition of graphs using the mutation game. \n",
    "\n",
    "<b>Ref</b>: The Mutation Game, Coxeter–Dynkin Graphs, and Generalized Root Systems, Normal Wildberger, March 2020. \n",
    "\n",
    "<hr/>\n",
    "\n",
    "\n",
    "\n",
    "<b>Observe</b> A good initial intuition of graphs can be found in the mutation game. \n",
    "\n",
    "<b>Observe</b> The mutation game has 2 levels. Level 1 takes place on some simple graph, $X$. which has the properties of undirected edges and no multiple edges, no loops, only one edge between nodes, no self references. \n",
    "\n",
    "<b>Observe</b>: This is an arbitrary representation of distance"
   ]
  },
  {
   "cell_type": "markdown",
   "id": "016d9d55-421b-4269-baea-6af29a7ac617",
   "metadata": {},
   "source": [
    "<b>Let</b> $F3$ be a simple graph, created from the nodes $F1$ and the verticies $F2$. "
   ]
  },
  {
   "cell_type": "code",
   "execution_count": 27,
   "id": "420e74aa-5b32-4fa9-b693-364d3b4c4be1",
   "metadata": {},
   "outputs": [
    {
     "data": {
      "text/html": [
       "\n",
       "        <iframe\n",
       "            width=\"600px\"\n",
       "            height=\"500px\"\n",
       "            src=\"nx.html\"\n",
       "            frameborder=\"0\"\n",
       "            allowfullscreen\n",
       "        ></iframe>\n",
       "        "
      ],
      "text/plain": [
       "<IPython.lib.display.IFrame at 0x7f4685449250>"
      ]
     },
     "execution_count": 27,
     "metadata": {},
     "output_type": "execute_result"
    }
   ],
   "source": [
    "F1 = {'1', '2', '3', '4'}\n",
    "F2 = [('1','2'), \n",
    "     ('2','3'),\n",
    "     ('2','4'),\n",
    "     ('3','4')]\n",
    "\n",
    "F3 = nx.Graph()\n",
    "\n",
    "F3.add_nodes_from(F1)\n",
    "F3.add_edges_from(F2)\n",
    "\n",
    "F4 = nt.Network(width = \"600px\", notebook = True)\n",
    "F4.from_nx(F3)\n",
    "F4.show('nx.html')"
   ]
  },
  {
   "cell_type": "markdown",
   "id": "1ac550b9-200a-4495-9587-f631330230e5",
   "metadata": {},
   "source": [
    "<b>Observe</b>: There are 3 types of simple graphs:\n",
    "\n",
    "1. ADE graphs\n",
    "2. ADE~ graphs\n",
    "3. All other simple graphs"
   ]
  },
  {
   "cell_type": "markdown",
   "id": "a1efc91d-ad3c-4182-8df4-cf9a4061676a",
   "metadata": {},
   "source": [
    "<b>Observe</b>: The other other type of graphs are called directed graphs, or multigraphs. Edges have directions, multiple edges are allowed and loops are allowed. \n",
    "\n",
    "<b>Observe</b>: Mutigraphs can be viewed as an extension of simple graphs, an enlargement where both are consistent\n",
    "\n",
    "<b>Let</b> $F8$ be an example of a multigraph with directed edges and self loops. "
   ]
  },
  {
   "cell_type": "code",
   "execution_count": 28,
   "id": "947315b6-d345-4ad8-bb74-2d096581f906",
   "metadata": {},
   "outputs": [
    {
     "data": {
      "text/html": [
       "\n",
       "        <iframe\n",
       "            width=\"600px\"\n",
       "            height=\"500px\"\n",
       "            src=\"nx.html\"\n",
       "            frameborder=\"0\"\n",
       "            allowfullscreen\n",
       "        ></iframe>\n",
       "        "
      ],
      "text/plain": [
       "<IPython.lib.display.IFrame at 0x7f468547b040>"
      ]
     },
     "execution_count": 28,
     "metadata": {},
     "output_type": "execute_result"
    }
   ],
   "source": [
    "F5 = {'1', '2', '3', '4'}\n",
    "F6 = [('1','2'), \n",
    "     ('2','3'),\n",
    "     ('2','4'),\n",
    "     ('2','4'),\n",
    "     ('3','4'),\n",
    "     ('1', '1')]\n",
    "\n",
    "F7 = nx.DiGraph()\n",
    "\n",
    "F7.add_nodes_from(F5)\n",
    "F7.add_edges_from(F6)\n",
    "\n",
    "F8 = nt.Network(width = \"600px\", notebook = True, directed = True)\n",
    "F8.from_nx(F7)\n",
    "F8.show('nx.html')"
   ]
  },
  {
   "cell_type": "markdown",
   "id": "31a8611a-2df6-4803-99d5-65130af8756a",
   "metadata": {},
   "source": [
    "<b>Observe</b> The multigraph will change the ADE graphs to be become: \n",
    "\n",
    "1. BCFG Graphs\n",
    "2. BCFG~ graphs\n",
    "3. All other directed multigraphs"
   ]
  },
  {
   "cell_type": "markdown",
   "id": "4414d88c-60a0-4717-aa0b-44378efd031c",
   "metadata": {},
   "source": [
    "<b>Let</b> $X$ be a simple graph\n",
    "\n",
    "<b>Let</b> $x, y, z$ and $w$ be vertices, $V$ on $F12$\n"
   ]
  },
  {
   "cell_type": "code",
   "execution_count": 29,
   "id": "6250bce7-7e62-4c94-9143-a00bdf16c342",
   "metadata": {},
   "outputs": [
    {
     "data": {
      "text/html": [
       "\n",
       "        <iframe\n",
       "            width=\"600px\"\n",
       "            height=\"500px\"\n",
       "            src=\"nx.html\"\n",
       "            frameborder=\"0\"\n",
       "            allowfullscreen\n",
       "        ></iframe>\n",
       "        "
      ],
      "text/plain": [
       "<IPython.lib.display.IFrame at 0x7f468541b9d0>"
      ]
     },
     "execution_count": 29,
     "metadata": {},
     "output_type": "execute_result"
    }
   ],
   "source": [
    "F9 = {'x', 'y', 'w', 'z'}\n",
    "F10 = [('x','y'), \n",
    "     ('y','z'),\n",
    "     ('y','w'),\n",
    "     ('w','z')]\n",
    "\n",
    "F11 = nx.Graph()\n",
    "\n",
    "F11.add_nodes_from(F9)\n",
    "F11.add_edges_from(F10)\n",
    "\n",
    "X = nt.Network(width = \"600px\", notebook = True)\n",
    "X.from_nx(F11)\n",
    "X.show('nx.html')"
   ]
  },
  {
   "cell_type": "markdown",
   "id": "614b1430-df9c-409f-9e9b-2fe5a7c37774",
   "metadata": {},
   "source": [
    "<b>Observe</b>: $V$ can be denoted as the unordered set $\\{\\text{ x } \\text{ y } \\text{ z } \\text{ w }\\}$"
   ]
  },
  {
   "cell_type": "markdown",
   "id": "348609a3-3664-40df-ac62-45bf43daa41b",
   "metadata": {},
   "source": [
    "<b>Let</b> $E$ be the edges in $X$"
   ]
  },
  {
   "cell_type": "markdown",
   "id": "5e6630b7-1c10-43c4-9ad2-9c2bddba25f9",
   "metadata": {},
   "source": [
    "<b>Observe</b> $E$ can be denoted of the set of paths between vertices,  $\\{ \\{\\text{ x y }\\} \\{\\text{ y z }\\} \\{\\text{ z w }\\} \\{\\text{ z w }\\}\\}$ which is a set of 2-sets of vertices"
   ]
  },
  {
   "cell_type": "markdown",
   "id": "5d16cc53-bd0c-4ddc-b969-29bef260e5ff",
   "metadata": {},
   "source": [
    "<b>Observe</b>: From a combinatorial point of view the graph can be denoted as an ordered pair of vertices and edges\n",
    "\n",
    "$X = \\{ V, E\\} $"
   ]
  },
  {
   "cell_type": "markdown",
   "id": "08504391-18b1-4a05-9a69-d6321c7af78b",
   "metadata": {},
   "source": [
    "<b>Definition</b>: For any node $i$ in a simple graph, $N(i)$ is the set of neighbours, which is an unordered set of those vertices connected to $i$\n",
    "\n",
    "<b>Example</b>: \n",
    "\n",
    "$$N(x) = \\{y\\} $$\n",
    "$$N(y) = \\{ \\text{x z w}\\} $$\n",
    "\n",
    "\n",
    "<b>Definition</b> A population for some simple graph, $G$ is an integer valued function on the vertices which can be labelled by arbitrary integers\n",
    "\n",
    "<b>Let</b> $F15$ be a simple graph where vertices have been given integer labels"
   ]
  },
  {
   "cell_type": "code",
   "execution_count": 32,
   "id": "c57e7f28-3da2-4cb9-a073-27f2580df984",
   "metadata": {},
   "outputs": [
    {
     "data": {
      "text/html": [
       "\n",
       "        <iframe\n",
       "            width=\"600px\"\n",
       "            height=\"500px\"\n",
       "            src=\"nx.html\"\n",
       "            frameborder=\"0\"\n",
       "            allowfullscreen\n",
       "        ></iframe>\n",
       "        "
      ],
      "text/plain": [
       "<IPython.lib.display.IFrame at 0x7f46854140a0>"
      ]
     },
     "execution_count": 32,
     "metadata": {},
     "output_type": "execute_result"
    }
   ],
   "source": [
    "F12 = {'4:x', '3:y', '5:w', '-1:z'}\n",
    "F13 = [('4:x','3:y'), \n",
    "     ('3:y','-1:z'),\n",
    "     ('3:y','5:w'),\n",
    "     ('5:w','-1:z')]\n",
    "\n",
    "F14 = nx.Graph()\n",
    "\n",
    "F14.add_nodes_from(F12)\n",
    "F14.add_edges_from(F13)\n",
    "\n",
    "F15 = nt.Network(width = \"600px\", notebook = True)\n",
    "F15.from_nx(F14)\n",
    "F15.show('nx.html')"
   ]
  },
  {
   "cell_type": "markdown",
   "id": "454ee648-fe78-45a4-a943-61db136199b3",
   "metadata": {},
   "source": [
    "<b>Observe</b>: It is possible order these labels aribrarily as $\\{\\text{x, y, z, w} \\} $\n",
    "\n",
    "<b>Let</b> $P$ be a population, which is a list or vector of integers with arbitrary order such that: \n",
    "\n",
    "$$ P = [4, 3, -1, 5] $$"
   ]
  },
  {
   "cell_type": "markdown",
   "id": "f06c5baa-7645-4a05-b28f-c04549709bc9",
   "metadata": {},
   "source": [
    "<b>Definition</b>: A <b>Singleton Population</b> is a population which has all values 0 except for a single value of of 1"
   ]
  },
  {
   "cell_type": "markdown",
   "id": "f3b34eba-1d8e-48b6-8f8f-e32bf9650bcf",
   "metadata": {},
   "source": [
    "<b>Let</b> $F19$ be an example of a singleton population, which  an be denoted by the list $[\\text{0, 0, 0, 1}]$"
   ]
  },
  {
   "cell_type": "code",
   "execution_count": 35,
   "id": "b69502ee-6d78-4019-8061-a53cef758200",
   "metadata": {
    "tags": []
   },
   "outputs": [
    {
     "data": {
      "text/html": [
       "\n",
       "        <iframe\n",
       "            width=\"600px\"\n",
       "            height=\"500px\"\n",
       "            src=\"nx.html\"\n",
       "            frameborder=\"0\"\n",
       "            allowfullscreen\n",
       "        ></iframe>\n",
       "        "
      ],
      "text/plain": [
       "<IPython.lib.display.IFrame at 0x7f46854072e0>"
      ]
     },
     "execution_count": 35,
     "metadata": {},
     "output_type": "execute_result"
    }
   ],
   "source": [
    "F16 = {'0:x', '0:y', '1:w', '0:z'}\n",
    "F17 = [('0:x','0:y'), \n",
    "     ('0:y','0:z'),\n",
    "     ('0:y','1:w'),\n",
    "     ('1:w','0:z')]\n",
    "\n",
    "F18 = nx.Graph()\n",
    "\n",
    "F18.add_nodes_from(F16)\n",
    "F18.add_edges_from(F17)\n",
    "\n",
    "F19 = nt.Network(width = \"600px\", notebook = True)\n",
    "F19.from_nx(F18)\n",
    "F19.show('nx.html')"
   ]
  },
  {
   "cell_type": "markdown",
   "id": "cebc8ed2-a709-4aa6-9fff-8302d60175ee",
   "metadata": {},
   "source": [
    "<b>Observe</b>: There is the same number of singleton population as there are vertices"
   ]
  },
  {
   "cell_type": "markdown",
   "id": "7faf7b8b-824e-4ac3-9fdd-6a92b91b3d78",
   "metadata": {},
   "source": [
    "<b>Definition</b>: The <b>space of populations</b>, usually deonoted $P(X)$ is a linear space over the integers. Populations have the following pointwise operations: \n",
    "\n",
    "- Add populations\n",
    "- Scalar multiplication of populations\n",
    "- Negate populations\n",
    "\n",
    "$P(X)$ can be intuited as a vector space whose basis consists of the singleton populations of a graph. Note it vector space over integers with basis being $\\{\\text{set of singleton populations} \\}"
   ]
  },
  {
   "cell_type": "markdown",
   "id": "a1a559dd-1ba1-4abb-beab-f7261727828a",
   "metadata": {},
   "source": [
    "<hr/>\n",
    "\n",
    "<b>Aim</b>: Introduce the notion mutations\n",
    "\n",
    "<hr/>"
   ]
  },
  {
   "cell_type": "markdown",
   "id": "fd92f9b3-e3d6-4f0c-926b-1363b7139d11",
   "metadata": {},
   "source": [
    "<b>Defintion</b>: A <b>mutation</b> is a transformation of a population that depends on a vertex. \n",
    "\n",
    "If $x$ is a vertex of some simple graph $X$, the $s_x$ is the mutation of $x$ which is a transformation on populationsa nd results in a transformation of population. "
   ]
  },
  {
   "cell_type": "markdown",
   "id": "18983799-21fd-443b-a1ae-cae60d995e16",
   "metadata": {},
   "source": [
    "<b>Let</b> $p \\in P(X) $ where $p$ is a population and $P(X)$ is the space of populations on the simple graph $X$ and $N(x)$ be the neighbouring vertices of $x$ . Then the population functino, $ps_x$ on some population $y$ can be described as: \n",
    "\n",
    "$$ ps_x(y) \\equiv  \n",
    "\\begin{cases}\n",
    "    -p(x) + \\Sigma_{z \\in N(x)} \\text{ }  p(z) & \\text{if y = x}\\\\\n",
    "    p(y) & \\text{if y $\\ne$ x}\n",
    "\\end{cases}\n",
    "$$ "
   ]
  },
  {
   "cell_type": "markdown",
   "id": "93cf9b53-0057-46c3-a4e1-ec089fdca8eb",
   "metadata": {},
   "source": [
    "<b>Let</b> F20 be a implementation of the population function $ps_x$."
   ]
  },
  {
   "cell_type": "code",
   "execution_count": 275,
   "id": "6e993278-7213-491a-a190-3116de6ff2b9",
   "metadata": {},
   "outputs": [],
   "source": [
    "def F20(graph, nodeChoice, printSummary = True):\n",
    "    edgesOfChosenNode = list(nx.edges(graph, [nodeChoice]))\n",
    "    neigborOfChosenNode = [edgesOfChosenNode[i][1] for i in range(len(list(edgesOfChosenNode)))]\n",
    "    nodeChoicePopulation = graph.nodes[nodeChoice]['population']\n",
    "    sumOfNeighborsOfChosenNode = np.sum([graph.nodes[i]['population'] for i in neigborOfChosenNode])\n",
    "    populationOfNode = -nodeChoicePopulation + sumOfNeighborsOfChosenNode\n",
    "    \n",
    "    if printSummary:\n",
    "        print(\"Population transformation of node\", \n",
    "              nx.nodes(F23)[nodeChoice]['label'],\n",
    "              \": \",\n",
    "              nx.nodes(F23)[nodeChoice]['population'], \n",
    "              \"->\", \n",
    "              populationOfNode)\n",
    "    \n"
   ]
  },
  {
   "cell_type": "markdown",
   "id": "ea2cfc44-d7a7-4cae-9870-9a5e09531b20",
   "metadata": {},
   "source": [
    "<b>Example</b>: If F23 is a simple graph, each node can be mutated using the the population function $ps_x$ implemnted in $F20$. This will result in new values for each node $x, y, z$ and $w$"
   ]
  },
  {
   "cell_type": "code",
   "execution_count": 280,
   "id": "d0fe51a8-aaca-4e94-a18e-8d648deb1917",
   "metadata": {},
   "outputs": [
    {
     "name": "stdout",
     "output_type": "stream",
     "text": [
      "Population transformation of node x :  4 -> -1\n",
      "Population transformation of node y :  3 -> 5\n",
      "Population transformation of node z :  -1 -> 9\n",
      "Population transformation of node w :  5 -> -3\n"
     ]
    }
   ],
   "source": [
    "F21 = [\n",
    "    (1, {\"population\": 4,\"label\": \"x\"}),\n",
    "    (2, {\"population\": 3, \"label\": \"y\"}),\n",
    "    (3, {\"population\": -1, \"label\": \"z\"}),\n",
    "    (4, {\"population\": 5, \"label\": \"w\"})]\n",
    "\n",
    "F22 = [(1,2),\n",
    "      (2,3),\n",
    "      (2,4),\n",
    "      (3,4)]\n",
    "\n",
    "F23 = nx.Graph()\n",
    "\n",
    "F23.add_nodes_from(F21)\n",
    "F23.add_edges_from(F22)\n",
    "\n",
    "F20(F23, 1)\n",
    "F20(F23, 2)\n",
    "F20(F23, 3)\n",
    "F20(F23, 4)\n"
   ]
  },
  {
   "cell_type": "markdown",
   "id": "d2cd5ad1-7302-4af4-91a1-5faf9a54dc54",
   "metadata": {},
   "source": [
    "<b>Observe</b>: There are 4 possible operations that can be performed on each vertex"
   ]
  },
  {
   "cell_type": "code",
   "execution_count": null,
   "id": "634b1567-033b-4f8c-ab45-3ccec232b44c",
   "metadata": {},
   "outputs": [],
   "source": []
  }
 ],
 "metadata": {
  "kernelspec": {
   "display_name": "Python 3",
   "language": "python",
   "name": "python3"
  },
  "language_info": {
   "codemirror_mode": {
    "name": "ipython",
    "version": 3
   },
   "file_extension": ".py",
   "mimetype": "text/x-python",
   "name": "python",
   "nbconvert_exporter": "python",
   "pygments_lexer": "ipython3",
   "version": "3.9.2"
  }
 },
 "nbformat": 4,
 "nbformat_minor": 5
}
