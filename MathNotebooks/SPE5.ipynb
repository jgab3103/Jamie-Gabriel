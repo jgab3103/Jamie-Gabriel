{
 "cells": [
  {
   "cell_type": "markdown",
   "metadata": {},
   "source": [
    "<i>STATUS: Draft<i>\n",
    "\n",
    "<div>These notes are based on Prof. Norman Wildberger's lectures on Solving Polynomial Equations found <a href=\"https://www.youtube.com/watch?v=XHC1YLh67Z0&list=PLzdiPTrEWyz7hk_Kzj4zDF_kUXBCtiGn6&index=1\">here</a>. They are being hosted at <a href=\"https://www.ladatavita.com/\">ladatavita.com</a> and available from my Github repo at: <a href=\"https://github.com/jgab3103/Jamie-Gabriel/tree/main/MathNotebooks\">https://github.com/jgab3103/Jamie-Gabriel/tree/main/MathNotebooks</a></div>\n",
    "\n",
    "<hr/>"
   ]
  },
  {
   "cell_type": "code",
   "execution_count": 2,
   "metadata": {},
   "outputs": [],
   "source": [
    "import numpy as np\n",
    "import sympy as sp\n",
    "import pickle\n",
    "from IPython.display import HTML\n",
    "import ipywidgets as widgets\n",
    "import matplotlib as mpl\n",
    "from mpl_toolkits.mplot3d import Axes3D\n",
    "import matplotlib.pyplot as plt\n",
    "mpl.rcParams['legend.fontsize'] = 10\n",
    "import pandas as pd\n",
    "import itertools\n",
    "\n",
    "# function to print latex\n",
    "def renderListToLatex(e):\n",
    "    latex_rendering = []\n",
    "\n",
    "    for i in range(len(e)):\n",
    "        latex_rendering.append(\"$$\" + sp.latex(e[i]) + \"$$<br/>\")\n",
    "    \n",
    "    return(HTML(\"\".join(latex_rendering[0:])))"
   ]
  },
  {
   "cell_type": "markdown",
   "metadata": {},
   "source": [
    "### Solving Polynomial Equations (5)"
   ]
  },
  {
   "cell_type": "markdown",
   "metadata": {},
   "source": [
    "Create needed variables."
   ]
  },
  {
   "cell_type": "code",
   "execution_count": 3,
   "metadata": {},
   "outputs": [],
   "source": [
    "c_0, c_1, c_2, c_3, x, t, a_0, a_1, a_2, a_3, a_4, a_5, a_6, a_7, a_8, a_9, x_1, x_2, s_1, s_2 = sp.symbols('c_0, c_1, c_2, c_3, x, t, a_0, a_1, a_2, a_3, a_4, a_5, a_6, a_7, a_8, a_9, x_1, x_2, s_1, s_2')"
   ]
  },
  {
   "cell_type": "markdown",
   "metadata": {},
   "source": [
    "Let g1 through g5 be objects created in Solving Polynomial Equations (4)."
   ]
  },
  {
   "cell_type": "code",
   "execution_count": 4,
   "metadata": {},
   "outputs": [],
   "source": [
    "with open('./SharedOutputs/SPE3.pickle', 'rb') as input:\n",
    "    importedFromSPE3 = pickle.load(input)\n",
    "with open('./SharedOutputs/SPE4.pickle', 'rb') as input:\n",
    "    importedFromSPE4 = pickle.load(input)\n",
    "    \n",
    "g1 = importedFromSPE3['generalCubicSolutions']\n",
    "g2 = importedFromSPE3['solutionOfGeneralCubicInTermsOfx']\n",
    "g3 = importedFromSPE4['matrixOfCoefficients']\n",
    "g4 = importedFromSPE4['matrixOfCoeffiencientsAsDecomposedPrimes']\n",
    "g5 = importedFromSPE4['matrixOfTerms']\n"
   ]
  },
  {
   "cell_type": "markdown",
   "metadata": {},
   "source": [
    "<b>Introduction</b>\n",
    "\n",
    "<i>Goal</i>: continue to find pattern in these numbers and create a formula that accounts for the numbers. \n",
    "\n",
    "Recall that the <b>index degree</b> of a term  $c_1^m c_2^m c_3^m $  be the sum of the products of the indices and the degrees of each of the consituent variables and the claim is that this is constant in each of the values. It appears then that the index degree is always twice the usual degree (when indices are ignored\n"
   ]
  },
  {
   "cell_type": "markdown",
   "metadata": {},
   "source": [
    "Subsitute $c_0$ for t into the original solution for x."
   ]
  },
  {
   "cell_type": "code",
   "execution_count": 5,
   "metadata": {},
   "outputs": [
    {
     "data": {
      "text/latex": [
       "$\\displaystyle x = \\frac{6 c_{0}^{7} \\left(2 c_{1}^{3} c_{3}^{3} - 30 c_{1}^{2} c_{2}^{2} c_{3}^{2} + 55 c_{1} c_{2}^{4} c_{3} - 22 c_{2}^{6}\\right)}{c_{1}^{13}} + \\frac{c_{0}^{6} \\left(- 28 c_{1}^{2} c_{2} c_{3}^{2} + 84 c_{1} c_{2}^{3} c_{3} - 42 c_{2}^{5}\\right)}{c_{1}^{11}} + \\frac{c_{0}^{5} \\left(- 3 c_{1}^{2} c_{3}^{2} + 21 c_{1} c_{2}^{2} c_{3} - 14 c_{2}^{4}\\right)}{c_{1}^{9}} + \\frac{5 c_{0}^{4} c_{2} \\left(c_{1} c_{3} - c_{2}^{2}\\right)}{c_{1}^{7}} + \\frac{c_{0}^{3} \\left(c_{1} c_{3} - 2 c_{2}^{2}\\right)}{c_{1}^{5}} - \\frac{c_{0}^{2} c_{2}}{c_{1}^{3}} - \\frac{c_{0}}{c_{1}}$"
      ],
      "text/plain": [
       "Eq(x, 6*c_0**7*(2*c_1**3*c_3**3 - 30*c_1**2*c_2**2*c_3**2 + 55*c_1*c_2**4*c_3 - 22*c_2**6)/c_1**13 + c_0**6*(-28*c_1**2*c_2*c_3**2 + 84*c_1*c_2**3*c_3 - 42*c_2**5)/c_1**11 + c_0**5*(-3*c_1**2*c_3**2 + 21*c_1*c_2**2*c_3 - 14*c_2**4)/c_1**9 + 5*c_0**4*c_2*(c_1*c_3 - c_2**2)/c_1**7 + c_0**3*(c_1*c_3 - 2*c_2**2)/c_1**5 - c_0**2*c_2/c_1**3 - c_0/c_1)"
      ]
     },
     "execution_count": 5,
     "metadata": {},
     "output_type": "execute_result"
    }
   ],
   "source": [
    "t, c_0 = sp.symbols('t, c_0')\n",
    "g6 = g2.subs(t, c_0 )\n",
    "g6 = g6.subs(a_0, 0)\n",
    "g6"
   ]
  },
  {
   "cell_type": "markdown",
   "metadata": {},
   "source": [
    "Expand g6."
   ]
  },
  {
   "cell_type": "code",
   "execution_count": 6,
   "metadata": {},
   "outputs": [
    {
     "data": {
      "text/latex": [
       "$\\displaystyle x = \\frac{12 c_{0}^{7} c_{3}^{3}}{c_{1}^{10}} - \\frac{180 c_{0}^{7} c_{2}^{2} c_{3}^{2}}{c_{1}^{11}} + \\frac{330 c_{0}^{7} c_{2}^{4} c_{3}}{c_{1}^{12}} - \\frac{132 c_{0}^{7} c_{2}^{6}}{c_{1}^{13}} - \\frac{28 c_{0}^{6} c_{2} c_{3}^{2}}{c_{1}^{9}} + \\frac{84 c_{0}^{6} c_{2}^{3} c_{3}}{c_{1}^{10}} - \\frac{42 c_{0}^{6} c_{2}^{5}}{c_{1}^{11}} - \\frac{3 c_{0}^{5} c_{3}^{2}}{c_{1}^{7}} + \\frac{21 c_{0}^{5} c_{2}^{2} c_{3}}{c_{1}^{8}} - \\frac{14 c_{0}^{5} c_{2}^{4}}{c_{1}^{9}} + \\frac{5 c_{0}^{4} c_{2} c_{3}}{c_{1}^{6}} - \\frac{5 c_{0}^{4} c_{2}^{3}}{c_{1}^{7}} + \\frac{c_{0}^{3} c_{3}}{c_{1}^{4}} - \\frac{2 c_{0}^{3} c_{2}^{2}}{c_{1}^{5}} - \\frac{c_{0}^{2} c_{2}}{c_{1}^{3}} - \\frac{c_{0}}{c_{1}}$"
      ],
      "text/plain": [
       "Eq(x, 12*c_0**7*c_3**3/c_1**10 - 180*c_0**7*c_2**2*c_3**2/c_1**11 + 330*c_0**7*c_2**4*c_3/c_1**12 - 132*c_0**7*c_2**6/c_1**13 - 28*c_0**6*c_2*c_3**2/c_1**9 + 84*c_0**6*c_2**3*c_3/c_1**10 - 42*c_0**6*c_2**5/c_1**11 - 3*c_0**5*c_3**2/c_1**7 + 21*c_0**5*c_2**2*c_3/c_1**8 - 14*c_0**5*c_2**4/c_1**9 + 5*c_0**4*c_2*c_3/c_1**6 - 5*c_0**4*c_2**3/c_1**7 + c_0**3*c_3/c_1**4 - 2*c_0**3*c_2**2/c_1**5 - c_0**2*c_2/c_1**3 - c_0/c_1)"
      ]
     },
     "execution_count": 6,
     "metadata": {},
     "output_type": "execute_result"
    }
   ],
   "source": [
    "g7 = sp.expand(g6)\n",
    "g7"
   ]
  },
  {
   "cell_type": "markdown",
   "metadata": {},
   "source": [
    "Collect in terms of $c_3$"
   ]
  },
  {
   "cell_type": "code",
   "execution_count": 7,
   "metadata": {},
   "outputs": [
    {
     "data": {
      "text/latex": [
       "$\\displaystyle \\frac{12 c_{0}^{7} c_{3}^{3}}{c_{1}^{10}} - \\frac{132 c_{0}^{7} c_{2}^{6}}{c_{1}^{13}} - \\frac{42 c_{0}^{6} c_{2}^{5}}{c_{1}^{11}} - \\frac{14 c_{0}^{5} c_{2}^{4}}{c_{1}^{9}} - \\frac{5 c_{0}^{4} c_{2}^{3}}{c_{1}^{7}} - \\frac{2 c_{0}^{3} c_{2}^{2}}{c_{1}^{5}} - \\frac{c_{0}^{2} c_{2}}{c_{1}^{3}} - \\frac{c_{0}}{c_{1}} + c_{3}^{2} \\left(- \\frac{180 c_{0}^{7} c_{2}^{2}}{c_{1}^{11}} - \\frac{28 c_{0}^{6} c_{2}}{c_{1}^{9}} - \\frac{3 c_{0}^{5}}{c_{1}^{7}}\\right) + c_{3} \\left(\\frac{330 c_{0}^{7} c_{2}^{4}}{c_{1}^{12}} + \\frac{84 c_{0}^{6} c_{2}^{3}}{c_{1}^{10}} + \\frac{21 c_{0}^{5} c_{2}^{2}}{c_{1}^{8}} + \\frac{5 c_{0}^{4} c_{2}}{c_{1}^{6}} + \\frac{c_{0}^{3}}{c_{1}^{4}}\\right)$"
      ],
      "text/plain": [
       "12*c_0**7*c_3**3/c_1**10 - 132*c_0**7*c_2**6/c_1**13 - 42*c_0**6*c_2**5/c_1**11 - 14*c_0**5*c_2**4/c_1**9 - 5*c_0**4*c_2**3/c_1**7 - 2*c_0**3*c_2**2/c_1**5 - c_0**2*c_2/c_1**3 - c_0/c_1 + c_3**2*(-180*c_0**7*c_2**2/c_1**11 - 28*c_0**6*c_2/c_1**9 - 3*c_0**5/c_1**7) + c_3*(330*c_0**7*c_2**4/c_1**12 + 84*c_0**6*c_2**3/c_1**10 + 21*c_0**5*c_2**2/c_1**8 + 5*c_0**4*c_2/c_1**6 + c_0**3/c_1**4)"
      ]
     },
     "execution_count": 7,
     "metadata": {},
     "output_type": "execute_result"
    }
   ],
   "source": [
    "g7.rhs.collect(c_3)"
   ]
  },
  {
   "cell_type": "markdown",
   "metadata": {},
   "source": [
    "Recall the Catalan function that prints out components to consider the relationship of components to indices."
   ]
  },
  {
   "cell_type": "code",
   "execution_count": 8,
   "metadata": {},
   "outputs": [
    {
     "name": "stdout",
     "output_type": "stream",
     "text": [
      "####### Summary: ########### \n",
      "( 5 x 2)! / (( 5 + 1)! *  5 !):\n"
     ]
    },
    {
     "data": {
      "text/latex": [
       "$\\displaystyle 42$"
      ],
      "text/plain": [
       "42"
      ]
     },
     "execution_count": 8,
     "metadata": {},
     "output_type": "execute_result"
    }
   ],
   "source": [
    "def CreateCatalanNumber(n):\n",
    "    print(\"####### Summary: ########### \\n(\", n, \"x 2)!\", \"/ ((\", n, \"+ 1)! * \", n, \"!):\")\n",
    "    return (sp.factorial(2 * n)) / (sp.factorial(n + 1) * sp.factorial(n))\n",
    "\n",
    "CreateCatalanNumber(5)"
   ]
  },
  {
   "cell_type": "markdown",
   "metadata": {},
   "source": [
    "There appears to be a similiar pattern. \n",
    "\n",
    "<b>Conjecture 1</b>\n",
    "\n",
    "1. The value of the each co-efficient of the terms is obtained as a formula which is a quotient of a product of factorials. \n",
    "2. The Numerator of this formula is $n!$ where $n$ is one less that the power of $c_1$ in the denominator of each of the terms.\n",
    "3. The Denominator of this formula is $r! s! t!$  where $r! s!$ and $t!$  are the powers of $c_0, c_2$ and $c_3$ in the numerator of the terms. \n",
    "\n",
    "Example: \n",
    "\n",
    "\n",
    "\n",
    "\n",
    " $$\\frac{180 c_{0}^{7} c_{2}^{2} c_{3}^{2}}{c_{1}^{11}}  \\equiv \\frac{10!}{2!2!7!} $$\n",
    " \n",
    "\n"
   ]
  },
  {
   "cell_type": "markdown",
   "metadata": {},
   "source": []
  },
  {
   "cell_type": "code",
   "execution_count": 9,
   "metadata": {},
   "outputs": [],
   "source": [
    "g8 = sp.Poly(g7)"
   ]
  },
  {
   "cell_type": "markdown",
   "metadata": {},
   "source": [
    "Note terms of polynomial in $x, c_1, c_0, c_2$ and $c_3$"
   ]
  },
  {
   "cell_type": "code",
   "execution_count": 10,
   "metadata": {},
   "outputs": [
    {
     "data": {
      "text/plain": [
       "[((1, 0, 0, 0, 0), 1),\n",
       " ((0, 13, 7, 6, 0), 132),\n",
       " ((0, 12, 7, 4, 1), -330),\n",
       " ((0, 11, 7, 2, 2), 180),\n",
       " ((0, 11, 6, 5, 0), 42),\n",
       " ((0, 10, 7, 0, 3), -12),\n",
       " ((0, 10, 6, 3, 1), -84),\n",
       " ((0, 9, 6, 1, 2), 28),\n",
       " ((0, 9, 5, 4, 0), 14),\n",
       " ((0, 8, 5, 2, 1), -21),\n",
       " ((0, 7, 5, 0, 2), 3),\n",
       " ((0, 7, 4, 3, 0), 5),\n",
       " ((0, 6, 4, 1, 1), -5),\n",
       " ((0, 5, 3, 2, 0), 2),\n",
       " ((0, 4, 3, 0, 1), -1),\n",
       " ((0, 3, 2, 1, 0), 1),\n",
       " ((0, 1, 1, 0, 0), 1)]"
      ]
     },
     "execution_count": 10,
     "metadata": {},
     "output_type": "execute_result"
    }
   ],
   "source": [
    "g8.terms()"
   ]
  },
  {
   "cell_type": "markdown",
   "metadata": {},
   "source": [
    "Create function to implement conjecture function and verify that the coefficients can be obtained via the above conjecture:"
   ]
  },
  {
   "cell_type": "code",
   "execution_count": 11,
   "metadata": {},
   "outputs": [
    {
     "data": {
      "text/plain": [
       "[132, 330, 180, 42, 12, 84, 28, 14, 21, 3, 5, 5, 2, 1, 1, 1]"
      ]
     },
     "execution_count": 11,
     "metadata": {},
     "output_type": "execute_result"
    }
   ],
   "source": [
    "def solutionInTermsOfCoefficientsOfGeneralCubic(g):\n",
    "    \n",
    "    a = sp.factorial(g[1] - 1)\n",
    "    b = sp.factorial(g[2])\n",
    "    c = sp.factorial(g[3])\n",
    "    d = sp.factorial(g[4])\n",
    "    \n",
    "    return(a / (b * c * d))\n",
    "\n",
    "[solutionInTermsOfCoefficientsOfGeneralCubic(list(g8.terms()[i][0])) for i in range(1, len(g8.terms()))]"
   ]
  },
  {
   "cell_type": "code",
   "execution_count": 12,
   "metadata": {},
   "outputs": [],
   "source": [
    "# Write data that will be used again\n",
    "data = {'cubicSolutionsAsPolynomial': g8,\n",
    "}\n",
    "f = open('./SharedOutputs/SPE5.pickle', 'wb')\n",
    "pickle.dump(data, f)\n",
    "f.close()"
   ]
  },
  {
   "cell_type": "markdown",
   "metadata": {},
   "source": [
    "<b>Summary</b>\n",
    "\n",
    "This conjecture holds for these solutions. Given a general cubic polynomial, $c_0 + c_1x + c_2x^2 + c_3x^3 = 0$, it posssible get solve for x in terms of the given $c_0, c_1, c2$ and $c_3$"
   ]
  },
  {
   "cell_type": "code",
   "execution_count": null,
   "metadata": {},
   "outputs": [],
   "source": []
  }
 ],
 "metadata": {
  "kernelspec": {
   "display_name": "Python 3",
   "language": "python",
   "name": "python3"
  },
  "language_info": {
   "codemirror_mode": {
    "name": "ipython",
    "version": 3
   },
   "file_extension": ".py",
   "mimetype": "text/x-python",
   "name": "python",
   "nbconvert_exporter": "python",
   "pygments_lexer": "ipython3",
   "version": "3.9.2"
  }
 },
 "nbformat": 4,
 "nbformat_minor": 4
}
