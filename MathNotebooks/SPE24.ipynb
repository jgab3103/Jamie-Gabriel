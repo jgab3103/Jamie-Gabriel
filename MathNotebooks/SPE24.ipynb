{
 "cells": [
  {
   "cell_type": "markdown",
   "metadata": {},
   "source": [
    "<i>STATUS: Draft</i>\n",
    "\n",
    "<hr/>"
   ]
  },
  {
   "cell_type": "code",
   "execution_count": 1,
   "metadata": {},
   "outputs": [],
   "source": [
    "import numpy as np\n",
    "import sympy as sp\n",
    "import pickle\n",
    "from IPython.display import HTML, Image\n",
    "import ipywidgets as widgets\n",
    "import matplotlib as mpl\n",
    "from mpl_toolkits.mplot3d import Axes3D\n",
    "import matplotlib.pyplot as plt\n",
    "mpl.rcParams['legend.fontsize'] = 10\n",
    "import pandas as pd\n",
    "import itertools\n",
    "pd.set_option('display.max_colwidth', None)\n",
    "import treelib as tr\n",
    "\n",
    "\n",
    "# function to print latex\n",
    "def renderListToLatex(e):\n",
    "    latex_rendering = []\n",
    "\n",
    "    for i in range(len(e)):\n",
    "        latex_rendering.append(\"$$\" + sp.latex(e[i]) + \"$$\")\n",
    "    \n",
    "    return(HTML(\"\".join(latex_rendering[0:])))"
   ]
  },
  {
   "cell_type": "markdown",
   "metadata": {},
   "source": [
    "### Solving Polynomial Equations (24)\n",
    "\n",
    "#### Transforming the general quintic to geometric form"
   ]
  },
  {
   "cell_type": "markdown",
   "metadata": {},
   "source": [
    "<b>Observe</b>: The previous notebook provided a possible solution to a cubic and quartic equation, based on extending the BiTri roofed polygon approach and enhancing the understanding of $c_1$ to remove the sign of each term in the solution.  \n",
    "\n",
    "<b>Observe</b>: A solution to $c_0 - c_1x + c_2x^2 + c_3x^3 + c_4x^4 = 0$ was given as: \n",
    "\n",
    "$$x  = \\Sigma_{m = 0}^+ \\Sigma_{n = 0}^+ \\Sigma_{p = 0}^+  \\frac{(2m + 3n + 4p)!}{(1 + m + 2n + 3p)!m!n!p!} \\frac{c_0^{1 + m + 2n + 3p} c_2^{m} c_3^{n} c_4^{p} }{c_1^{4p + 2m + 3n + 1}} $$"
   ]
  },
  {
   "cell_type": "markdown",
   "metadata": {},
   "source": [
    "<b>Observe</b>: The implication of this is that it can be extended to general equations of a higher degree. Note single minus sign in front of linear term\n",
    "\n",
    "<b>Theorem</b>: A solution to \n",
    "\n",
    "$$ c_0 - c_1x + c_2x^2 + c_3x^3 + c_4x^4 + c_5x^5 = 0 $$\n",
    "\n",
    "is \n",
    "\n",
    "$$x  = \\Sigma_{m = 0}^+ \\Sigma_{n = 0}^+ \\Sigma_{p = 0}^+ \\Sigma_{q = 0}^+  \\frac{(2m + 3n + 4p + 5q)!}{(1 + m + 2n + 3p + 4q)!m!n!p!q!} \\frac{c_0^{1 + m + 2n + 3p + 4q} c_2^{m} c_3^{n} c_4^{p} c_5^q }{c_1^{5q + 4p + 2m + 3n + 1}} $$"
   ]
  },
  {
   "cell_type": "markdown",
   "metadata": {},
   "source": [
    "<hr/>\n",
    "\n",
    "<b>Aim</b>: To understand if is possible to solve a general quintic using this approach.\n",
    "\n",
    "<hr/>"
   ]
  },
  {
   "cell_type": "markdown",
   "metadata": {},
   "source": [
    "<b>Observe</b> how should it be interpreted?\n",
    "\n",
    "what is its meaning given that we don't want to use infinite processes. To get around this, \n",
    "\n",
    "Idea - if we truncate summatiions up to fixed levels in variaales m, n, p, q, then up to those terms, we get a true idendity in quintic. , becomes a finite rational expression, and disregard higher term. So we choosing a truncation level, rather than creating an infinite sum....\n",
    "\n"
   ]
  },
  {
   "cell_type": "markdown",
   "metadata": {},
   "source": [
    "Observe that in special case when  \n",
    "\n",
    "when "
   ]
  },
  {
   "cell_type": "code",
   "execution_count": 65,
   "metadata": {},
   "outputs": [],
   "source": [
    "c0, c1, c2, c3, c4, c5, x, d2, d3, d4, d5, _lambda, y = sp.symbols('c0, c1, c2, c3, c4, c5, x, d2, d3, d4, d5, lambda, y')"
   ]
  },
  {
   "cell_type": "code",
   "execution_count": 66,
   "metadata": {},
   "outputs": [
    {
     "data": {
      "text/latex": [
       "$\\displaystyle c_{0} - c_{1} x + c_{2} x^{2} + c_{3} x^{3} + c_{4} x^{4} + c_{5} x^{5} = 0$"
      ],
      "text/plain": [
       "Eq(c0 - c1*x + c2*x**2 + c3*x**3 + c4*x**4 + c5*x**5, 0)"
      ]
     },
     "execution_count": 66,
     "metadata": {},
     "output_type": "execute_result"
    }
   ],
   "source": [
    "P1 = sp.Eq(c0 - c1 * x + c2 * x**2 + c3 * x**3 + c4 * x**4 + c5 * x**5, 0)\n",
    "P1"
   ]
  },
  {
   "cell_type": "markdown",
   "metadata": {},
   "source": [
    "special case when $c_0 = c_1 = 1$"
   ]
  },
  {
   "cell_type": "code",
   "execution_count": 30,
   "metadata": {},
   "outputs": [
    {
     "data": {
      "text/latex": [
       "$\\displaystyle \\lambda$"
      ],
      "text/plain": [
       "lambda"
      ]
     },
     "execution_count": 30,
     "metadata": {},
     "output_type": "execute_result"
    }
   ],
   "source": [
    "_lambda"
   ]
  },
  {
   "cell_type": "code",
   "execution_count": 16,
   "metadata": {},
   "outputs": [
    {
     "data": {
      "text/latex": [
       "$\\displaystyle c_{2} x^{2} + c_{3} x^{3} + c_{4} x^{4} + c_{5} x^{5} - x + 1 = 0$"
      ],
      "text/plain": [
       "Eq(c2*x**2 + c3*x**3 + c4*x**4 + c5*x**5 - x + 1, 0)"
      ]
     },
     "execution_count": 16,
     "metadata": {},
     "output_type": "execute_result"
    }
   ],
   "source": [
    "P2 = P1.subs({c0:1, c1:1})\n",
    "P2"
   ]
  },
  {
   "cell_type": "markdown",
   "metadata": {},
   "source": [
    "This gives a purely polynomial expression \n",
    "\n",
    "$$x  = \\Sigma_{m = 0}^+ \\Sigma_{n = 0}^+ \\Sigma_{p = 0}^+ \\Sigma_{q = 0}^+  \\frac{(2m + 3n + 4p + 5q)!}{(1 + m + 2n + 3p + 4q)!m!n!p!q!}  c_2^{m} c_3^{n} c_4^{p} c_5^q  $$"
   ]
  },
  {
   "cell_type": "markdown",
   "metadata": {},
   "source": [
    "THis provides an easier way = no variables in the denominators, special case which is attractive \n",
    "\n",
    "Natrual to ask: if special case is true, is general case a consequence. \n",
    "\n",
    "Call this special case the geometrical form for the quintic equation \n",
    "\n",
    "It matches with our undersstanding of multiplicative structure of roofed polygons up to some degree - its what we were getting when we looked at generatiting functions of roofed polygon subdivisinos\n",
    "\n",
    "This is a good form to work in"
   ]
  },
  {
   "cell_type": "markdown",
   "metadata": {},
   "source": [
    "So this geometric form of the quintic equation is: \n",
    "\n",
    "$$\\displaystyle c_{2} x^{2} + c_{3} x^{3} + c_{4} x^{4} + c_{5} x^{5} - x + 1 = 0 $$"
   ]
  },
  {
   "cell_type": "markdown",
   "metadata": {},
   "source": [
    "question - does geometric form and solution imply solution to general cubic we started with? - can we deduce this\n",
    "\n",
    "Do some algebraic manipulation\n",
    "\n",
    "Start with P2"
   ]
  },
  {
   "cell_type": "code",
   "execution_count": 17,
   "metadata": {},
   "outputs": [
    {
     "data": {
      "text/latex": [
       "$\\displaystyle c_{2} x^{2} + c_{3} x^{3} + c_{4} x^{4} + c_{5} x^{5} - x + 1 = 0$"
      ],
      "text/plain": [
       "Eq(c2*x**2 + c3*x**3 + c4*x**4 + c5*x**5 - x + 1, 0)"
      ]
     },
     "execution_count": 17,
     "metadata": {},
     "output_type": "execute_result"
    }
   ],
   "source": [
    "P2"
   ]
  },
  {
   "cell_type": "markdown",
   "metadata": {},
   "source": [
    "To help clarity, use different variable names\n"
   ]
  },
  {
   "cell_type": "code",
   "execution_count": 18,
   "metadata": {},
   "outputs": [
    {
     "data": {
      "text/latex": [
       "$\\displaystyle d_{2} x^{2} + d_{3} x^{3} + d_{4} x^{4} + d_{5} x^{5} - x + 1 = 0$"
      ],
      "text/plain": [
       "Eq(d2*x**2 + d3*x**3 + d4*x**4 + d5*x**5 - x + 1, 0)"
      ]
     },
     "execution_count": 18,
     "metadata": {},
     "output_type": "execute_result"
    }
   ],
   "source": [
    "P3 = P2.subs({c2:d2, c3:d3, c4: d4, c5:d5})\n",
    "P3"
   ]
  },
  {
   "cell_type": "markdown",
   "metadata": {},
   "source": [
    "Can we move towards other form"
   ]
  },
  {
   "cell_type": "code",
   "execution_count": 24,
   "metadata": {},
   "outputs": [],
   "source": [
    "# first multiply tby c0 which is 1"
   ]
  },
  {
   "cell_type": "code",
   "execution_count": 53,
   "metadata": {},
   "outputs": [],
   "source": [
    "P4 = sp.Poly(sp.expand(P3.lhs * c0))\n",
    "P5 = sp.expand(P3.lhs * c0)\n",
    "\n"
   ]
  },
  {
   "cell_type": "markdown",
   "metadata": {},
   "source": [
    "consider linear term,noting we want to mlifte it c1x, not c0x\n",
    "\n",
    "NOw use $y = \\lambda x$ transformation\n"
   ]
  },
  {
   "cell_type": "code",
   "execution_count": 77,
   "metadata": {},
   "outputs": [
    {
     "data": {
      "text/latex": [
       "$\\displaystyle \\frac{c_{0} d_{2} \\lambda^{2} x^{2}}{y^{2}} + \\frac{c_{0} d_{3} \\lambda^{3} x^{3}}{y^{3}} + \\frac{c_{0} d_{4} \\lambda^{4} x^{4}}{y^{4}} + \\frac{c_{0} d_{5} \\lambda^{5} x^{5}}{y^{5}} - \\frac{c_{0} \\lambda x}{y} + c_{0} = 0$"
      ],
      "text/plain": [
       "Eq(c0*d2*lambda**2*x**2/y**2 + c0*d3*lambda**3*x**3/y**3 + c0*d4*lambda**4*x**4/y**4 + c0*d5*lambda**5*x**5/y**5 - c0*lambda*x/y + c0, 0)"
      ]
     },
     "execution_count": 77,
     "metadata": {},
     "output_type": "execute_result"
    }
   ],
   "source": [
    "P6 = sp.Eq(np.sum([list(P5.args)[i] *  (_lambda**i / y**i) for i in   range(len(list(P5.args)))]), 0)\n",
    "P6"
   ]
  },
  {
   "cell_type": "markdown",
   "metadata": {},
   "source": [
    "We want it to be original equation (though in y) $\\displaystyle c_{2} y^{2} + c_{3} y^{3} + c_{4} y^{4} + c_{5} y^{5} - y + 1 = 0$\n",
    "\n",
    "We need to set $\\lambda = \\frac{c_0}{c_1}$, so $y = \\frac{c_0}{c_1} x$"
   ]
  },
  {
   "cell_type": "code",
   "execution_count": 78,
   "metadata": {},
   "outputs": [
    {
     "data": {
      "text/latex": [
       "$\\displaystyle \\frac{c_{0}^{6} d_{5} x^{10}}{c_{1}^{5} y^{5}} + \\frac{c_{0}^{5} d_{4} x^{8}}{c_{1}^{4} y^{4}} + \\frac{c_{0}^{4} d_{3} x^{6}}{c_{1}^{3} y^{3}} + \\frac{c_{0}^{3} d_{2} x^{4}}{c_{1}^{2} y^{2}} - \\frac{c_{0}^{2} x^{2}}{c_{1} y} + c_{0} = 0$"
      ],
      "text/plain": [
       "Eq(c0**6*d5*x**10/(c1**5*y**5) + c0**5*d4*x**8/(c1**4*y**4) + c0**4*d3*x**6/(c1**3*y**3) + c0**3*d2*x**4/(c1**2*y**2) - c0**2*x**2/(c1*y) + c0, 0)"
      ]
     },
     "execution_count": 78,
     "metadata": {},
     "output_type": "execute_result"
    }
   ],
   "source": [
    "P6.subs({_lambda: (c0 *  x)/c1})"
   ]
  },
  {
   "cell_type": "code",
   "execution_count": null,
   "metadata": {},
   "outputs": [],
   "source": []
  }
 ],
 "metadata": {
  "kernelspec": {
   "display_name": "Python 3",
   "language": "python",
   "name": "python3"
  },
  "language_info": {
   "codemirror_mode": {
    "name": "ipython",
    "version": 3
   },
   "file_extension": ".py",
   "mimetype": "text/x-python",
   "name": "python",
   "nbconvert_exporter": "python",
   "pygments_lexer": "ipython3",
   "version": "3.9.2"
  }
 },
 "nbformat": 4,
 "nbformat_minor": 4
}
