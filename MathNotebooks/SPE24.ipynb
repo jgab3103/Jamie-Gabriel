{
 "cells": [
  {
   "cell_type": "markdown",
   "metadata": {},
   "source": [
    "<i>STATUS: Draft</i>\n",
    "\n",
    "<hr/>"
   ]
  },
  {
   "cell_type": "code",
   "execution_count": 1,
   "metadata": {},
   "outputs": [],
   "source": [
    "import numpy as np\n",
    "import sympy as sp\n",
    "import pickle\n",
    "from IPython.display import HTML, Image\n",
    "import ipywidgets as widgets\n",
    "import matplotlib as mpl\n",
    "from mpl_toolkits.mplot3d import Axes3D\n",
    "import matplotlib.pyplot as plt\n",
    "mpl.rcParams['legend.fontsize'] = 10\n",
    "import pandas as pd\n",
    "import itertools\n",
    "pd.set_option('display.max_colwidth', None)\n",
    "import treelib as tr\n",
    "\n",
    "\n",
    "# function to print latex\n",
    "def renderListToLatex(e):\n",
    "    latex_rendering = []\n",
    "\n",
    "    for i in range(len(e)):\n",
    "        latex_rendering.append(\"$$\" + sp.latex(e[i]) + \"$$\")\n",
    "    \n",
    "    return(HTML(\"\".join(latex_rendering[0:])))"
   ]
  },
  {
   "cell_type": "markdown",
   "metadata": {},
   "source": [
    "### Solving Polynomial Equations (24)\n",
    "\n",
    "#### Transforming the general quintic to geometric form"
   ]
  },
  {
   "cell_type": "markdown",
   "metadata": {},
   "source": [
    "<b>Observe</b>: The previous notebook provided a possible solution to a cubic and quartic equation. \n",
    "\n",
    "<b>Observe</b>: This solution is based on extending the BiTri Roofed Polygon idea and adopting a different view in regard to the term of $c_1$ in order to remove the need for the different signs that appear in the terms of the solution (i.e. so every term can be positive).\n",
    "\n",
    "<b>Observe</b>: A solution to the equation $c_0 - c_1x + c_2x^2 + c_3x^3 + c_4x^4 = 0$ was given as: \n",
    "\n",
    "$$x  = \\Sigma_{m = 0}^+ \\Sigma_{n = 0}^+ \\Sigma_{p = 0}^+  \\frac{(2m + 3n + 4p)!}{(1 + m + 2n + 3p)!m!n!p!} \\frac{c_0^{1 + m + 2n + 3p} c_2^{m} c_3^{n} c_4^{p} }{c_1^{4p + 2m + 3n + 1}} $$\n",
    "\n",
    "<b>Observe</b>:  $c_0 - c_1x + c_2x^2 + c_3x^3 + c_4x^4 = 0$ is slightly different from the original general cubic equation at the beginning of the investigation, however it simplifies the process of extending this theorem to higher degrees. \n",
    "\n",
    "<b>Observe</b>: The single minus sign in the revised general form of the cubic now appears in front of the linear term."
   ]
  },
  {
   "cell_type": "markdown",
   "metadata": {},
   "source": [
    "<b>Theorem</b>: A solution to \n",
    "\n",
    "$$ c_0 - c_1x + c_2x^2 + c_3x^3 + c_4x^4 + c_5x^5 = 0 $$\n",
    "\n",
    "is \n",
    "\n",
    "$$x  = \\Sigma_{m = 0}^+ \\Sigma_{n = 0}^+ \\Sigma_{p = 0}^+ \\Sigma_{q = 0}^+  \\frac{(2m + 3n + 4p + 5q)!}{(1 + m + 2n + 3p + 4q)!m!n!p!q!} \\frac{c_0^{1 + m + 2n + 3p + 4q} c_2^{m} c_3^{n} c_4^{p} c_5^q }{c_1^{5q + 4p + 2m + 3n + 1}} $$\n",
    "\n",
    "and this have been arbitrarily extendeded from the formula to sovle degree 4 polynomials."
   ]
  },
  {
   "cell_type": "markdown",
   "metadata": {},
   "source": [
    "<hr/>\n",
    "\n",
    "<b>Aim</b>: To understand if is possible to solve a general quintic equation using the above approach, where the forumula has been extended to degree 5.\n",
    "\n",
    "<hr/>"
   ]
  },
  {
   "cell_type": "markdown",
   "metadata": {},
   "source": [
    "<b>Observe</b>: The above theorem is not intended to imply the use of infinite processes. Possible solutions are linked to a specifically chosen level of truncation, which is expressed as a finite rational expression, which can explicitly disregard higher terms. \n",
    "\n",
    "<b>Observe</b>: This means that $\\Sigma_{x=0}^+$ notation is not intended to imply an infinite sum but signal the need for a choice to truncate the computation. \n",
    "\n"
   ]
  },
  {
   "cell_type": "markdown",
   "metadata": {},
   "source": [
    "<b>Let</b> the following be unknown types."
   ]
  },
  {
   "cell_type": "code",
   "execution_count": 65,
   "metadata": {},
   "outputs": [],
   "source": [
    "c0, c1, c2, c3, c4, c5, x, d2, d3, d4, d5, _lambda, y = sp.symbols('c0, c1, c2, c3, c4, c5, x, d2, d3, d4, d5, lambda, y')"
   ]
  },
  {
   "cell_type": "markdown",
   "metadata": {},
   "source": [
    "<b>Let</b> $P1$ be a general quintic equation."
   ]
  },
  {
   "cell_type": "code",
   "execution_count": 66,
   "metadata": {},
   "outputs": [
    {
     "data": {
      "text/latex": [
       "$\\displaystyle c_{0} - c_{1} x + c_{2} x^{2} + c_{3} x^{3} + c_{4} x^{4} + c_{5} x^{5} = 0$"
      ],
      "text/plain": [
       "Eq(c0 - c1*x + c2*x**2 + c3*x**3 + c4*x**4 + c5*x**5, 0)"
      ]
     },
     "execution_count": 66,
     "metadata": {},
     "output_type": "execute_result"
    }
   ],
   "source": [
    "P1 = sp.Eq(c0 - c1 * x + c2 * x**2 + c3 * x**3 + c4 * x**4 + c5 * x**5, 0)\n",
    "P1"
   ]
  },
  {
   "cell_type": "markdown",
   "metadata": {},
   "source": [
    "<b>Let</b> $P2$ be a special case of $P1$ where $c_0 = c_1 = 1$"
   ]
  },
  {
   "cell_type": "code",
   "execution_count": 137,
   "metadata": {},
   "outputs": [
    {
     "data": {
      "text/latex": [
       "$\\displaystyle c_{2} x^{2} + c_{3} x^{3} + c_{4} x^{4} + c_{5} x^{5} - x + 1 = 0$"
      ],
      "text/plain": [
       "Eq(c2*x**2 + c3*x**3 + c4*x**4 + c5*x**5 - x + 1, 0)"
      ]
     },
     "execution_count": 137,
     "metadata": {},
     "output_type": "execute_result"
    }
   ],
   "source": [
    "P2 = P1.subs({c0:1, c1:1})\n",
    "P2"
   ]
  },
  {
   "cell_type": "markdown",
   "metadata": {},
   "source": [
    "<b>Observe</b>: Equating $c_0 = c_1 = 1$ allows the formula used in the theorem to be simplified where there are no $c_i$ variables in the denominator.\n",
    "\n",
    "$$x  = \\Sigma_{m = 0}^+ \\Sigma_{n = 0}^+ \\Sigma_{p = 0}^+ \\Sigma_{q = 0}^+  \\frac{(2m + 3n + 4p + 5q)!}{(1 + m + 2n + 3p + 4q)!m!n!p!q!}  c_2^{m} c_3^{n} c_4^{p} c_5^q  $$"
   ]
  },
  {
   "cell_type": "markdown",
   "metadata": {},
   "source": [
    "<b>Observe</b>: A natural question to ask when the equation is in this form, is whether it is possible to show that the general case can be a consequence of this special case. \n",
    "\n",
    "<b>Observe</b>: If the general case can be derived as a consequence of the special case, this will allow the theorem to be simplified.\n",
    "\n",
    "<b>Definition</b>: The special case of the general cubic (where $c_0 = c_1 = 0$) is called the  <b>geometrical form</b> of the quintic equation. \n",
    "\n",
    "<b>Observe</b>: There is a link between the multiplicative structure of roofed polygons up to an arbitrary degree and the geometric form."
   ]
  },
  {
   "cell_type": "markdown",
   "metadata": {},
   "source": [
    "<b>Observe</b>: The geometric form of the quintic equation is then: \n",
    "\n",
    "$$c_{2} x^{2} + c_{3} x^{3} + c_{4} x^{4} + c_{5} x^{5} - x + 1 = 0 $$"
   ]
  },
  {
   "cell_type": "markdown",
   "metadata": {},
   "source": [
    "<hr/>\n",
    "\n",
    "<b>Aim</b>: Undertake algebraic manipulation of the geometric form to show that the general form is a consequence of the geometric form. \n",
    "\n",
    "<hr/>"
   ]
  },
  {
   "cell_type": "markdown",
   "metadata": {},
   "source": [
    "<b>Observe</b>: Recall the $P2$ is the geometric form of the general quintic equation."
   ]
  },
  {
   "cell_type": "code",
   "execution_count": 140,
   "metadata": {},
   "outputs": [
    {
     "data": {
      "text/latex": [
       "$\\displaystyle c_{2} x^{2} + c_{3} x^{3} + c_{4} x^{4} + c_{5} x^{5} - x + 1 = 0$"
      ],
      "text/plain": [
       "Eq(c2*x**2 + c3*x**3 + c4*x**4 + c5*x**5 - x + 1, 0)"
      ]
     },
     "execution_count": 140,
     "metadata": {},
     "output_type": "execute_result"
    }
   ],
   "source": [
    "P2"
   ]
  },
  {
   "cell_type": "markdown",
   "metadata": {},
   "source": [
    "<b>Let</b> $P3$ be the geometric form of a general quintic, with a substution of $c_i$ to $d_i$ to help simplify the algebraic manipulations"
   ]
  },
  {
   "cell_type": "code",
   "execution_count": 141,
   "metadata": {},
   "outputs": [
    {
     "data": {
      "text/latex": [
       "$\\displaystyle d_{2} x^{2} + d_{3} x^{3} + d_{4} x^{4} + d_{5} x^{5} - x + 1 = 0$"
      ],
      "text/plain": [
       "Eq(d2*x**2 + d3*x**3 + d4*x**4 + d5*x**5 - x + 1, 0)"
      ]
     },
     "execution_count": 141,
     "metadata": {},
     "output_type": "execute_result"
    }
   ],
   "source": [
    "P3 = P2.subs({c2:d2, c3:d3, c4: d4, c5:d5})\n",
    "P3"
   ]
  },
  {
   "cell_type": "markdown",
   "metadata": {},
   "source": [
    "<b>Observe</b>: The goal of the algebraic manipulations should allow it to be possible to recover the following theorem starting from $P3$:\n",
    "\n",
    "\n",
    "$$x =   \\Sigma_{m = 0}^+ \\Sigma_{n = 0}^+ \\Sigma_{p = 0}^+ \\Sigma_{q = 0}^+  \\frac{(2m + 3n + 4p + 5q)!}{(1 + m + 2n + 3p + 4q)!m!n!p!q!}  d_2^m d_3^n d_4^p d_5^q $$"
   ]
  },
  {
   "cell_type": "markdown",
   "metadata": {},
   "source": [
    "<b>Let</b> $P5$ be $P3$ where both sides are multipled by $C_0$:"
   ]
  },
  {
   "cell_type": "code",
   "execution_count": 143,
   "metadata": {},
   "outputs": [
    {
     "data": {
      "text/latex": [
       "$\\displaystyle c_{0} d_{2} x^{2} + c_{0} d_{3} x^{3} + c_{0} d_{4} x^{4} + c_{0} d_{5} x^{5} - c_{0} x + c_{0} = 0$"
      ],
      "text/plain": [
       "Eq(c0*d2*x**2 + c0*d3*x**3 + c0*d4*x**4 + c0*d5*x**5 - c0*x + c0, 0)"
      ]
     },
     "execution_count": 143,
     "metadata": {},
     "output_type": "execute_result"
    }
   ],
   "source": [
    "P4 = sp.Poly(sp.expand(P3.lhs * c0))\n",
    "P5 = sp.Eq(sp.expand(P3.lhs * c0), 0)\n",
    "P5"
   ]
  },
  {
   "cell_type": "markdown",
   "metadata": {},
   "source": [
    "<b>Observe</b>: Consider that the linear term in $x$ should have a coefficient of $c_1$, not $c_0$, to recover the formula of the general form.\n",
    "\n",
    "<b>Observe</b>: To change these coefficients, a transformation $y = \\lambda x$ can be used.\n"
   ]
  },
  {
   "cell_type": "markdown",
   "metadata": {},
   "source": [
    "<b>Let</b> $P6$ be a subsitution of $P5$ using the transformation $x = \\frac{y}{\\lambda}$."
   ]
  },
  {
   "cell_type": "code",
   "execution_count": 146,
   "metadata": {},
   "outputs": [
    {
     "data": {
      "text/latex": [
       "$\\displaystyle \\frac{c_{0} d_{2} y^{2}}{\\lambda^{2}} + \\frac{c_{0} d_{3} y^{3}}{\\lambda^{3}} + \\frac{c_{0} d_{4} y^{4}}{\\lambda^{4}} + \\frac{c_{0} d_{5} y^{5}}{\\lambda^{5}} + c_{0} - \\frac{c_{0} y}{\\lambda} = 0$"
      ],
      "text/plain": [
       "Eq(c0*d2*y**2/lambda**2 + c0*d3*y**3/lambda**3 + c0*d4*y**4/lambda**4 + c0*d5*y**5/lambda**5 + c0 - c0*y/lambda, 0)"
      ]
     },
     "execution_count": 146,
     "metadata": {},
     "output_type": "execute_result"
    }
   ],
   "source": [
    "P6 = sp.Eq(P5.lhs.subs(x, y / _lambda), 0)\n",
    "P6"
   ]
  },
  {
   "cell_type": "markdown",
   "metadata": {},
   "source": [
    "<b>Observe</b>: The original equation (though here in $y$, not $x$) should be: $\\displaystyle c_{2} y^{2} + c_{3} y^{3} + c_{4} y^{4} + c_{5} y^{5} - y + 1 = 0$\n",
    "\n",
    "<b>Let</b> $P7$ be a substitution on $P6$ where $\\lambda = \\frac{c_0}{c_1}$, (which also implies that $y = \\frac{c_0}{c_1} x$)"
   ]
  },
  {
   "cell_type": "code",
   "execution_count": 148,
   "metadata": {},
   "outputs": [
    {
     "data": {
      "text/latex": [
       "$\\displaystyle c_{0} - c_{1} y + \\frac{c_{1}^{2} d_{2} y^{2}}{c_{0}} + \\frac{c_{1}^{3} d_{3} y^{3}}{c_{0}^{2}} + \\frac{c_{1}^{4} d_{4} y^{4}}{c_{0}^{3}} + \\frac{c_{1}^{5} d_{5} y^{5}}{c_{0}^{4}} = 0$"
      ],
      "text/plain": [
       "Eq(c0 - c1*y + c1**2*d2*y**2/c0 + c1**3*d3*y**3/c0**2 + c1**4*d4*y**4/c0**3 + c1**5*d5*y**5/c0**4, 0)"
      ]
     },
     "execution_count": 148,
     "metadata": {},
     "output_type": "execute_result"
    }
   ],
   "source": [
    "P7 = sp.Eq(P6.lhs.subs(_lambda, c0 / c1), 0)\n",
    "P7"
   ]
  },
  {
   "cell_type": "markdown",
   "metadata": {},
   "source": [
    "<b>Observe</b>: To return to the general form, it must be the case that: \n",
    "\n",
    "$$  \\frac{c_{1}^{2} d_{2}}{c_{0}} = c_2 $$\n",
    "$$  \\frac{c_{1}^{3} d_{3}}{c_{0}^2} = c_3 $$\n",
    "$$  \\frac{c_{1}^{4} d_{4}}{c_{0}^3} = c_4 $$\n",
    "$$  \\frac{c_{1}^{5} d_{5}}{c_{0}^4} = c_5 $$"
   ]
  },
  {
   "cell_type": "markdown",
   "metadata": {},
   "source": [
    "<b>Let</b> $P8$ through $P11$ be equations of the above, and let $P13$ be solutions to $d_i$."
   ]
  },
  {
   "cell_type": "code",
   "execution_count": 150,
   "metadata": {},
   "outputs": [
    {
     "data": {
      "text/html": [
       "$$d_{2} = \\frac{c_{0} c_{2}}{c_{1}^{2}}$$$$d_{3} = \\frac{c_{0}^{2} c_{3}}{c_{1}^{3}}$$$$d_{4} = \\frac{c_{0}^{3} c_{4}}{c_{1}^{4}}$$$$d_{5} = \\frac{c_{0}^{4} c_{5}}{c_{1}^{5}}$$"
      ],
      "text/plain": [
       "<IPython.core.display.HTML object>"
      ]
     },
     "execution_count": 150,
     "metadata": {},
     "output_type": "execute_result"
    }
   ],
   "source": [
    "P8 = sp.Eq((c1**2 * d2) / c0, c2)\n",
    "P9 = sp.Eq((c1**3 * d3) / c0**2, c3)\n",
    "P10 = sp.Eq((c1**4 * d4) / c0**3, c4)\n",
    "P11 = sp.Eq((c1**5 * d5) / c0**4, c5)\n",
    "P12 = sp.solve([P8, P9, P10, P11], (d2, d3, d4, d5))\n",
    "rhsValues = list(P12.keys())\n",
    "lhsValues = list(P12.values())\n",
    "P13 = [sp.Eq(rhsValues[i], lhsValues[i]) for i in range(len(rhsValues))]\n",
    "renderListToLatex(P13)"
   ]
  },
  {
   "cell_type": "markdown",
   "metadata": {},
   "source": [
    "<b>Observe</b>: These values can be substituted into $$x =   \\Sigma_{m = 0}^+ \\Sigma_{n = 0}^+ \\Sigma_{p = 0}^+ \\Sigma_{q = 0}^+  \\frac{(2m + 3n + 4p + 5q)!}{(1 + m + 2n + 3p + 4q)!m!n!p!q!}  d_2^m d_3^n d_4^p d_5^q $$\n",
    "\n",
    "To give the following:\n",
    "\n",
    "$$y = \\frac {c_0}{c_1} x= \\Sigma_{m = 0}^+ \\Sigma_{n = 0}^+ \\Sigma_{p = 0}^+ \\Sigma_{q = 0}^+  \\frac{(2m + 3n + 4p + 5q)!}{(1 + m + 2n + 3p + 4q)!m!n!p!q!}  (\\frac{c_0}{c_1})(\\frac{c_{0} c_{2}}{c_{1}^{2}})^m (\\frac{c_{0}^{2} c_{3}}{c_{1}^{3}})^n (\\frac{c_{0}^{3} c_{4}}{c_{1}^{4}})^p (\\frac{c_{0}^{4} c_{5}}{c_{1}^{5}})^q $$"
   ]
  },
  {
   "cell_type": "markdown",
   "metadata": {},
   "source": [
    "<b>Observe</b>: Recall the proposed theorem for the solution for the general quintic provided at the beginning of this notebook: \n",
    "\n",
    "$$ x  = \\Sigma_{m = 0}^+ \\Sigma_{n = 0}^+ \\Sigma_{p = 0}^+ \\Sigma_{q = 0}^+  \\frac{(2m + 3n + 4p + 5q)!}{(1 + m + 2n + 3p + 4q)!m!n!p!q!} \\frac{c_0^{1 + m + 2n + 3p + 4q} c_2^{m} c_3^{n} c_4^{p} c_5^q }{c_1^{5q + 4p + 2m + 3n + 1}}  $$  \n",
    "\n",
    "\n",
    "<b>Observe</b>: If the previous 2 formulas are equivalent (i.e meaning that the general case can be seen as a consequence of the special case) it must be the case that: \n",
    "\n",
    "$$   \\frac{c_0^{1 + m + 2n + 3p + 4q} c_2^{m} c_3^{n} c_4^{p} c_5^q }{c_1^{5q + 4p + 2m + 3n + 1}} =  (\\frac{c_0}{c_1})(\\frac{c_{0} c_{2}}{c_{1}^{2}})^m (\\frac{c_{0}^{2} c_{3}}{c_{1}^{3}})^n (\\frac{c_{0}^{3} c_{4}}{c_{1}^{4}})^p (\\frac{c_{0}^{4} c_{5}}{c_{1}^{5}})^q $$\n"
   ]
  },
  {
   "cell_type": "markdown",
   "metadata": {},
   "source": [
    "<b>Observe</b>: It is true that $\\frac{c_0^{1 + m + 2n + 3p + 4q} c_2^{m} c_3^{n} c_4^{p} c_5^q }{c_1^{5q + 4p + 2m + 3n + 1}} =  (\\frac{c_0}{c_1})(\\frac{c_{0} c_{2}}{c_{1}^{2}})^m (\\frac{c_{0}^{2} c_{3}}{c_{1}^{3}})^n (\\frac{c_{0}^{3} c_{4}}{c_{1}^{4}})^p (\\frac{c_{0}^{4} c_{5}}{c_{1}^{5}})^q$"
   ]
  },
  {
   "cell_type": "markdown",
   "metadata": {},
   "source": [
    "<b>Observe</b>: This means that the value for $y$ (which can be regarded as a scaled version of $x$ using $\\lambda$) is a solution to the gneral equation  $c_0 - c_1x + c_2x^2 + c_3x^3 + c_4x^4 = 0$\n",
    "\n",
    "<b>Observe</b>: This establishes that the special geometric form where $c_0 = c_1 = 1$ implies the general solution. \n",
    "\n",
    "<b>Observe</b>: This also shows that the values, $1 + m + 2n + 3p + 4q$ arise as scaling factors and, in order to prove the general solution, it suffices to prove the simpler geometric form. In the simpler geometric form, $\\displaystyle c_{2} y^{2} + c_{3} y^{3} + c_{4} y^{4} + c_{5} y^{5} - y + 1 = 0$, $c_0$ and $c_1$ are not required and appear in the general form as a consequence of scaling. \n",
    "\n",
    "<b>Observe</b>: This is a move from away from the original investigation where that explored solutions to $c_0$ using a power series in $t$, however $c_0$ is no longer needed for this solution. \n",
    "\n",
    "<b>Observe</b>: This simplification means that at arbitrarily higher degrees, computations will be simpler. \n",
    "\n",
    "<b>Todo</b>: Verification is still needed to demonstrate this theorem. "
   ]
  }
 ],
 "metadata": {
  "kernelspec": {
   "display_name": "Python 3",
   "language": "python",
   "name": "python3"
  },
  "language_info": {
   "codemirror_mode": {
    "name": "ipython",
    "version": 3
   },
   "file_extension": ".py",
   "mimetype": "text/x-python",
   "name": "python",
   "nbconvert_exporter": "python",
   "pygments_lexer": "ipython3",
   "version": "3.9.2"
  }
 },
 "nbformat": 4,
 "nbformat_minor": 4
}
