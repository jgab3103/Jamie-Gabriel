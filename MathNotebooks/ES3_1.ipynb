{
 "cells": [
  {
   "cell_type": "markdown",
   "id": "cd785232-2f3d-43dc-94af-0076a1ab2517",
   "metadata": {},
   "source": [
    "<hr/>\n",
    "\n",
    "<b>Notebook Summary</b>\n",
    "\n",
    "These notes are based on Prof. Norman Wildberger's lectures on Dynamics on Graphs which can be found <a href=\"https://www.youtube.com/c/WildEggmathematicscourses/featured\">here</a>. \n",
    "    \n",
    "They notes are are being hosted at my website <a href=\"https://www.ladatavita.com/\">ladatavita.com</a> and the Jupyter notebook is also available from my Github repo at: <a href=\"https://github.com/jgab3103/Jamie-Gabriel/tree/main/MathNotebooks\">https://github.com/jgab3103/Jamie-Gabriel/tree/main/MathNotebooks</a>\n",
    "\n",
    "The purpose of this notebook is a continuation where we left off in the previous notebook ES2, which compared the root populations of ADE graphs and ADE~ graph. \n",
    "\n",
    "This notebook will continue the investigation.... \n",
    "\n",
    "<hr/>"
   ]
  },
  {
   "cell_type": "code",
   "execution_count": 1,
   "id": "8f5dc6a8-8a04-42ed-b738-229121afe4e6",
   "metadata": {},
   "outputs": [],
   "source": [
    "import pyvis.network as nt\n",
    "import numpy as np\n",
    "import sympy as sp\n",
    "from IPython.display import HTML\n",
    "import ipywidgets as widgets\n",
    "import matplotlib as mpl\n",
    "from mpl_toolkits.mplot3d import Axes3D\n",
    "import matplotlib.pyplot as plt\n",
    "mpl.rcParams['legend.fontsize'] = 10\n",
    "import pandas as pd\n",
    "import networkx as nx\n",
    "import string\n",
    "import random"
   ]
  },
  {
   "cell_type": "markdown",
   "id": "225bb730-b3ad-48ca-88d8-fa7af69f1764",
   "metadata": {},
   "source": [
    "<hr/>\n",
    "\n",
    "<b>Aim</b>: Reintroduce some functions from previous notebooks and add a new visualisation and function to introduce stable populations\n",
    "\n",
    "<hr/>"
   ]
  },
  {
   "cell_type": "markdown",
   "id": "99459852-1277-49fa-bb4f-0887724714e1",
   "metadata": {},
   "source": [
    "<b>Let</b> $F1$ is a function that, given a list of edges will create a graph and randomly initialise a singleton population. \n",
    "\n",
    "<b>Let</b> $F2$ is a function that, given a list of edges and poopuations, will create a graph with the given population. \n",
    "\n",
    "<b>Let</b> $F3$ is a visualisation function that will render a graph with its population with label position offset\n",
    "\n",
    "<b>Let</b> $F4$ is a function that, given a graph and node choice, will apply the $ps_x$ function to a single vertice\n",
    "\n",
    "<b>Let</b> $F5$ is a function that will apply the $ps_x$ function to each node in succession over a chosen number of iterations"
   ]
  },
  {
   "cell_type": "code",
   "execution_count": 2,
   "id": "1d5b56ad-0082-4b4b-9a13-8ca7ad40a16c",
   "metadata": {},
   "outputs": [],
   "source": [
    "def F1(edges=None):\n",
    "    \n",
    "    verticeLabels = list(set([item for sublist in edges for item in sublist]))\n",
    "    randomNumberToIntialiseSingletonPopulation = random.randint(0, len(verticeLabels) - 1)\n",
    "\n",
    "    vertices = [(verticeLabels[i], {\"population\": 0}) for i in range(len(verticeLabels))]\n",
    "    graph = nx.Graph()\n",
    "    graph.add_nodes_from(vertices)\n",
    "    graph.add_edges_from(edges)\n",
    "    \n",
    "    graph.nodes[verticeLabels[randomNumberToIntialiseSingletonPopulation]]['population'] = 1\n",
    "    \n",
    "    return(graph)\n",
    "\n",
    "def F2(edges=None, population = None):\n",
    "    \n",
    "    verticesFoundInEdges = len(list(set([item for sublist in edges for item in sublist])))\n",
    "\n",
    "    vertices = list(string.ascii_lowercase[0:verticesFoundInEdges])\n",
    "    \n",
    "    verticesWithPopulations = [(vertices[i], {\"population\": population[i]}) for i in range(len(vertices))]\n",
    "\n",
    "    graph = nx.Graph()\n",
    "    graph.add_nodes_from(verticesWithPopulations)\n",
    "    graph.add_edges_from(edges)\n",
    "    \n",
    "\n",
    "    return(graph)\n",
    "        \n",
    "    \n",
    "    \n",
    "def F3(graph):\n",
    "    x = {}\n",
    "    pos = nx.spring_layout(graph)\n",
    "    labels = nx.get_node_attributes(graph, 'population') \n",
    "    for i in labels:\n",
    "        x[i] = \"id=\" + str(i) +\" \\npop=\" + str(labels[i])\n",
    "     # change margins if you adding    \n",
    "    #plt.margins(x=0.2, y = 0.2) horizontalalignment='left'\n",
    "    nx.draw(graph, pos, edge_color = \"steelblue\", node_color = \"white\")\n",
    "    nx.draw_networkx_labels(graph, pos,  labels = x, font_size=10)"
   ]
  },
  {
   "cell_type": "code",
   "execution_count": 3,
   "id": "3dab94f7-ffbf-400c-a535-e672780c2118",
   "metadata": {},
   "outputs": [],
   "source": [
    "def F4(graph = None, nodeChoice = None, printSummary = True, \n",
    "       returnUpdatedGraph = False, \n",
    "       returnListOfPopulations = False,\n",
    "      returnAllAsDict = False):\n",
    "   \n",
    "    edgesOfChosenNode = list(nx.edges(graph, [nodeChoice]))\n",
    "   \n",
    "    neigborOfChosenNode = [edgesOfChosenNode[i][1] for i in range(len(list(edgesOfChosenNode)))]\n",
    "    nodeChoicePopulation = graph.nodes[nodeChoice]['population']\n",
    "    sumOfNeighborsOfChosenNode = np.sum([graph.nodes[i]['population'] for i in neigborOfChosenNode])\n",
    "    populationOfNode = -nodeChoicePopulation + sumOfNeighborsOfChosenNode\n",
    "    updatedGraph = graph.copy()\n",
    "    updatedGraph.nodes[nodeChoice]['population'] = populationOfNode\n",
    "\n",
    "    newPopulations = [updatedGraph.nodes[i]['population'] for i in list(updatedGraph)]\n",
    "    if printSummary:\n",
    "        print(\"Node choice\", \n",
    "              nodeChoice,\n",
    "              \"\\nNode details\",\n",
    "              nx.nodes(graph)[nodeChoice],\n",
    "              \"\\nChange in node population \",\n",
    "              nx.nodes(graph)[nodeChoice]['population'], \n",
    "              \"->\", \n",
    "              populationOfNode)\n",
    "        print(\"Updated node populations of graph: \", newPopulations, \"\\n\")\n",
    "\n",
    "    if returnUpdatedGraph: \n",
    "        return(updatedGraph)\n",
    "    \n",
    "    if returnListOfPopulations:\n",
    "        return(np.array(newPopulations))\n",
    "    \n",
    "    if returnAllAsDict:\n",
    "        return({\"graph\": updatedGraph,\n",
    "               \"population\": np.array(newPopulations)})\n",
    "    \n",
    "def F5(graphChoice=None, vertices = [], iterations=5, returnPopulations = True, iterateThroughAllVertices = True):\n",
    "    listOfAllPopulations = []\n",
    "    graph = graphChoice\n",
    "    \n",
    "    if iterateThroughAllVertices:\n",
    "        vertices = graph.nodes\n",
    "    \n",
    "    for i in range(iterations):\n",
    "        for j in vertices:\n",
    "            udpatedGraphAndPopulation = F4(graph, j, returnAllAsDict=True, printSummary = False)\n",
    "            graph = udpatedGraphAndPopulation['graph']\n",
    "            population = udpatedGraphAndPopulation['population']\n",
    "            listOfAllPopulations.append(population)\n",
    "            \n",
    "    print(\"Number of unique populations: \", len(list(set([tuple(i) for i in [list(i) for i in listOfAllPopulations]]))))\n",
    "    if returnPopulations:\n",
    "        setOfAllPopulations = list(set([tuple(i) for i in [list(i) for i in listOfAllPopulations]]))\n",
    "        return({\"iterations\":iterations,\n",
    "               \"populationAsSetCount\":len(setOfAllPopulations),\n",
    "                \"populationAsListCount\":len(listOfAllPopulations),\n",
    "               \"populationsAsSet\": setOfAllPopulations,\n",
    "               \"populationsAsList\": listOfAllPopulations})"
   ]
  },
  {
   "cell_type": "markdown",
   "id": "547476f0-01f7-4b71-869a-7c27c0422ceb",
   "metadata": {},
   "source": [
    "<b>Observe</b> that we can test each of the functions with an example\n",
    "\n",
    "<b>Let</b> $F6$ be an example of a graph "
   ]
  },
  {
   "cell_type": "code",
   "execution_count": 4,
   "id": "4f348f0a-006a-436c-8972-3515836f91ac",
   "metadata": {},
   "outputs": [],
   "source": [
    "F6= F2(edges=[(\"a\",\"b\"),(\"b\",\"c\"),(\"c\",\"d\"),(\"d\",\"e\"),(\"e\",\"f\"), (\"f\", \"a\")], \n",
    "       population=[1,2,3,4,5,6])"
   ]
  },
  {
   "cell_type": "markdown",
   "id": "bf1f08b9-8597-4ee7-bbe4-6eabfe8eb75b",
   "metadata": {},
   "source": [
    "<b>Let</b> $F7$ be an example of a visualisation of $F6$"
   ]
  },
  {
   "cell_type": "code",
   "execution_count": 5,
   "id": "c85c73bb-16a8-45b2-af81-d26400acf558",
   "metadata": {},
   "outputs": [
    {
     "data": {
      "image/png": "[encoded data removed]",
      "text/plain": [
       "<Figure size 432x288 with 1 Axes>"
      ]
     },
     "metadata": {},
     "output_type": "display_data"
    }
   ],
   "source": [
    "F7 = F3(F6)\n",
    "F7"
   ]
  },
  {
   "cell_type": "markdown",
   "id": "f1f7596a-897c-46f4-96f7-2c1507e7a068",
   "metadata": {},
   "source": [
    "<b>Let</b> $F8$ be an example of iterating through the vertices and applying the $ps_x$ mutation function, implemented in $F4$ and $F5$"
   ]
  },
  {
   "cell_type": "code",
   "execution_count": 6,
   "id": "801a98f0-0161-4d61-b4cc-bffa7f6f707d",
   "metadata": {},
   "outputs": [
    {
     "name": "stdout",
     "output_type": "stream",
     "text": [
      "Number of unique populations:  60\n"
     ]
    },
    {
     "data": {
      "text/plain": [
       "[(55, 56, 57, 58, 59, 54), (37, 38, 33, 34, 35, 36), (19, 20, 21, 22, 17, 18)]"
      ]
     },
     "execution_count": 6,
     "metadata": {},
     "output_type": "execute_result"
    }
   ],
   "source": [
    "F8 = F5(graphChoice=F6, iterations=10, returnPopulations=True)\n",
    "F8['populationsAsSet'][0:3]"
   ]
  },
  {
   "cell_type": "markdown",
   "id": "4a2935a6-6278-458b-bc2d-78595b5b7ce6",
   "metadata": {},
   "source": [
    "<hr/>\n",
    "\n",
    "<b>Aim</b> Explore the ADE~ graphs in more detail to understand their importance and introduce the idea of a stable population\n",
    "\n",
    "<hr/>"
   ]
  },
  {
   "cell_type": "markdown",
   "id": "9985c318-7406-4b8c-9156-c5469f87a783",
   "metadata": {},
   "source": [
    "<b>Let</b> $X$ be a connected simple graph. \n",
    "\n",
    "<b>Let</b> $P(X) \\equiv \\text{populations on } X$."
   ]
  },
  {
   "cell_type": "markdown",
   "id": "53a642be-e0f5-4681-b1b1-a8d0bc18f7e6",
   "metadata": {},
   "source": [
    "<b>Recall</b> from <a href = \"#\">Notebook ES1_1</a> that, for the vertex, $x$ in the graph $X$, the population function $S_x:P(x)  \\rightarrow P(X)$ can be defined by: \n",
    "\n",
    "$$ ps_x(y) \\equiv  \\begin{cases}\n",
    "    -p(x) + \\Sigma_{z \\in N(x)} \\text{ }  p(z) & \\text{if y = x}\\\\\n",
    "    p(y) & \\text{otherwise}\n",
    "\\end{cases}\n",
    "$$ \n",
    "\n",
    "<b>Observe</b> that $y$ here is any arbitrary vertex chosen."
   ]
  },
  {
   "cell_type": "markdown",
   "id": "174038d4-75c3-4032-a56e-9b4fb0954177",
   "metadata": {},
   "source": [
    "<b>Definition</b>: A population, $p \\in P(X)$ is <b>stable</b> $\\iff$ $ps_x = p$ for any vertex $x$ of a connected simple graph $X$, meaning that it is left invariant under every mutation and that population will not change when the mutation function is applied.\n",
    "\n",
    "<b>Observe</b> that this is immedieately equivalent to the condition: \n",
    "\n",
    "$$ 2p(x) = \\Sigma_{z\\in N(x)} p(z) $$\n",
    "\n",
    "for any vertex $x$ of $X$ or\n",
    "\n",
    "$$ p(x) = \\frac{1}{2} \\Sigma_{z \\in N(x)} p(z) $$"
   ]
  },
  {
   "cell_type": "markdown",
   "id": "b957df0e-efb0-4828-af9d-7e770eb688e1",
   "metadata": {},
   "source": [
    "<b>Let</b> $F9$ be an $A_n$ graph with a population $[1,1,1,1,1,1]$  and provide an accompanying visualisation"
   ]
  },
  {
   "cell_type": "code",
   "execution_count": 7,
   "id": "05245f9b-3c16-4fd8-b3b8-fa2b86a5a69e",
   "metadata": {},
   "outputs": [
    {
     "data": {
      "image/png": "[encoded data removed]",
      "text/plain": [
       "<Figure size 432x288 with 1 Axes>"
      ]
     },
     "metadata": {},
     "output_type": "display_data"
    }
   ],
   "source": [
    "F9= F2(edges=[(\"a\",\"b\"),(\"b\",\"c\"),(\"c\",\"d\"),(\"d\",\"e\"),(\"e\",\"f\"), (\"f\", \"a\")], \n",
    "       population=[1,1,1,1,1,1])\n",
    "F3(F9)"
   ]
  },
  {
   "cell_type": "markdown",
   "id": "c7e69b05-a729-4352-9bf3-4922862f837b",
   "metadata": {},
   "source": [
    "<b>Let</b> $F10$ be the application of $ps_x$ over 10 iterations to find the unique populations"
   ]
  },
  {
   "cell_type": "code",
   "execution_count": 8,
   "id": "86856ab7-655d-4102-ae2c-052b7c836f6a",
   "metadata": {},
   "outputs": [
    {
     "name": "stdout",
     "output_type": "stream",
     "text": [
      "Number of unique populations:  1\n"
     ]
    },
    {
     "data": {
      "text/plain": [
       "[(1, 1, 1, 1, 1, 1)]"
      ]
     },
     "execution_count": 8,
     "metadata": {},
     "output_type": "execute_result"
    }
   ],
   "source": [
    "F10 = F5(graphChoice=F9, iterations=1000, returnPopulations=True)\n",
    "F10['populationsAsSet']"
   ]
  },
  {
   "cell_type": "markdown",
   "id": "e452a716-6e13-46f6-b3bf-dfe06faec7b4",
   "metadata": {},
   "source": [
    "<b>Observe</b> that the chosen population does not change (here tested over 10000 iterations and is therefore a stable graph. \n",
    "\n",
    "<b>Let</b> $F11$ be the simple connected graph $D_4 \\text{~}$  with a given population $[1,2,1,1,1]$"
   ]
  },
  {
   "cell_type": "code",
   "execution_count": 9,
   "id": "ff5606e6-3444-4dd9-b0a1-beb2de640caa",
   "metadata": {},
   "outputs": [
    {
     "data": {
      "image/png": "[encoded data removed]",
      "text/plain": [
       "<Figure size 432x288 with 1 Axes>"
      ]
     },
     "metadata": {},
     "output_type": "display_data"
    }
   ],
   "source": [
    "F11= F2(edges=[(\"a\",\"b\"),(\"b\",\"c\"),(\"b\",\"d\"),(\"b\",\"e\")], \n",
    "       population=[1,2,1,1,1])\n",
    "F3(F11)"
   ]
  },
  {
   "cell_type": "markdown",
   "id": "de827e54-a563-4310-9143-0ae2beb168e4",
   "metadata": {},
   "source": [
    "<b>Let</b> $F12$ be the application of $ps_x$ function with 10000 iterations to find unique populations"
   ]
  },
  {
   "cell_type": "code",
   "execution_count": 10,
   "id": "71054c8a-2f5a-4943-92ae-bfa759740255",
   "metadata": {},
   "outputs": [
    {
     "name": "stdout",
     "output_type": "stream",
     "text": [
      "Number of unique populations:  1\n"
     ]
    },
    {
     "data": {
      "text/plain": [
       "[(1, 2, 1, 1, 1)]"
      ]
     },
     "execution_count": 10,
     "metadata": {},
     "output_type": "execute_result"
    }
   ],
   "source": [
    "F12 = F5(graphChoice=F11, iterations=10000, returnPopulations=True)\n",
    "F12['populationsAsSet']"
   ]
  },
  {
   "cell_type": "markdown",
   "id": "e60bf355-5667-4a51-9698-ba7eacf9285a",
   "metadata": {},
   "source": [
    "<b>Observe</b> that, like $A_n  \\text{~}$ $F12$, the $D_4  \\text{~}$ graph does not change under mutation (at least up to 10000 mutations) and is regarded as a stable graph. "
   ]
  },
  {
   "cell_type": "markdown",
   "id": "60e146e1-9e4b-4332-8d54-89f517db2ddf",
   "metadata": {},
   "source": [
    "<b>Observe</b> that it is possible to extend $D_4 \\text{~}$  to a more general $D_n \\text{~}$ where $n \\ge 5 $\n",
    "\n",
    "<b>Let</b> $F13$ be the simple connected graph $D_n \\text{~}$, (where $n$ has been chosen as 8)  with a given population $[1,2,1,2,2, 2, 2, 1,1]$"
   ]
  },
  {
   "cell_type": "code",
   "execution_count": 11,
   "id": "63ec91cf-1bf4-420b-a7dd-0b712914421f",
   "metadata": {},
   "outputs": [
    {
     "data": {
      "image/png": "[encoded data removed]",
      "text/plain": [
       "<Figure size 432x288 with 1 Axes>"
      ]
     },
     "metadata": {},
     "output_type": "display_data"
    }
   ],
   "source": [
    "F13= F2(edges=[(\"a\",\"b\"),(\"b\",\"c\"),(\"b\",\"d\"),(\"d\",\"e\"),(\"e\",\"f\"),(\"f\",\"g\"), (\"g\",\"h\"), (\"g\",\"i\")], \n",
    "       population=[1,2,1,2,2, 2, 2, 1,1])\n",
    "F3(F13)"
   ]
  },
  {
   "cell_type": "markdown",
   "id": "1ea49f44-e220-4d33-9be8-2492f4a3f662",
   "metadata": {},
   "source": [
    "<b>Let</b> $F15$ be the application of $ps_x$ function with 10000 iterations to find unique populations"
   ]
  },
  {
   "cell_type": "code",
   "execution_count": 12,
   "id": "6ced9e73-29f1-4435-8867-bfd8dd137d3b",
   "metadata": {},
   "outputs": [
    {
     "name": "stdout",
     "output_type": "stream",
     "text": [
      "Number of unique populations:  1\n"
     ]
    },
    {
     "data": {
      "text/plain": [
       "[(1, 2, 1, 2, 2, 2, 2, 1, 1)]"
      ]
     },
     "execution_count": 12,
     "metadata": {},
     "output_type": "execute_result"
    }
   ],
   "source": [
    "F14 = F5(graphChoice=F13, iterations=10000, returnPopulations=True)\n",
    "F14['populationsAsSet']"
   ]
  },
  {
   "cell_type": "markdown",
   "id": "fe686f0d-3b2b-48c6-b370-7c421d19e449",
   "metadata": {},
   "source": [
    "<b>Observe</b> that, like the other $ADE\\text{~}$ examined above,  $D_8  \\text{~}$ (being an example of $D_n  \\text{~}$) graph does not change under mutation (at least up to 10000 mutations) and is regarded as a stable graph. \n",
    "\n",
    "<b>Observe</b> that we can keep on extending this idea to include other $ADE \\text{~}$ graphs, such as  $E_6 \\text{~}$,$E_7 \\text{~}$ and $E_8 \\text{~}$.\n",
    "\n",
    "<b>Let</b> $F15$ be the simple connected graph $E_6 \\text{~}$, with a given population $[1,2,1,2,2, 2, 2, 1,1]$"
   ]
  },
  {
   "cell_type": "code",
   "execution_count": 13,
   "id": "5827cd69-af98-4d7e-ada1-2239604d9122",
   "metadata": {},
   "outputs": [
    {
     "data": {
      "image/png": "[encoded data removed]",
      "text/plain": [
       "<Figure size 432x288 with 1 Axes>"
      ]
     },
     "metadata": {},
     "output_type": "display_data"
    }
   ],
   "source": [
    "F15= F2(edges=[(\"a\",\"b\"),(\"b\",\"c\"),(\"c\",\"d\"),(\"d\",\"e\"),(\"c\",\"f\"),(\"f\",\"g\")], \n",
    "       population=[1,2,3,2,1, 2, 1])\n",
    "F3(F15)"
   ]
  },
  {
   "cell_type": "markdown",
   "id": "f42be968-e7ee-45b9-b12d-2674307dc38d",
   "metadata": {},
   "source": [
    "<b>Let</b> $F16$ be the application of $ps_x$ function with 10000 iterations to find unique populations"
   ]
  },
  {
   "cell_type": "code",
   "execution_count": 14,
   "id": "b9bb6ed0-1430-4b0a-820f-731445b9a888",
   "metadata": {},
   "outputs": [
    {
     "name": "stdout",
     "output_type": "stream",
     "text": [
      "Number of unique populations:  1\n"
     ]
    },
    {
     "data": {
      "text/plain": [
       "[(1, 2, 3, 2, 1, 2, 1)]"
      ]
     },
     "execution_count": 14,
     "metadata": {},
     "output_type": "execute_result"
    }
   ],
   "source": [
    "F16 = F5(graphChoice=F15, iterations=10000, returnPopulations=True)\n",
    "F16['populationsAsSet']"
   ]
  },
  {
   "cell_type": "markdown",
   "id": "d018ef29-0685-4788-8bb8-7998fdbf66a7",
   "metadata": {},
   "source": [
    "<b>Observe</b> that, again, with the chosen population,  $E_6  \\text{~}$ does not change under mutation (at least up to 10000 mutations) and is regarded as a stable graph. \n"
   ]
  },
  {
   "cell_type": "markdown",
   "id": "d1adeea6-b33d-499c-ae4b-6e335cbdad76",
   "metadata": {},
   "source": [
    "<b>Let</b> $F17$ be the simple connected graph $E_7 \\text{~}$, with a given population $[1,2,1,2,2, 2, 2, 1,1]$"
   ]
  },
  {
   "cell_type": "code",
   "execution_count": 15,
   "id": "12e039b3-027b-4dbc-b074-008e5f36305a",
   "metadata": {},
   "outputs": [
    {
     "data": {
      "image/png": "[encoded data removed]",
      "text/plain": [
       "<Figure size 432x288 with 1 Axes>"
      ]
     },
     "metadata": {},
     "output_type": "display_data"
    }
   ],
   "source": [
    "F17= F2(edges=[(\"a\",\"b\"),(\"b\",\"c\"),(\"c\",\"d\"),(\"d\",\"e\"),(\"d\",\"f\"),(\"f\",\"g\"), (\"g\",\"h\")], \n",
    "       population=[1,2,3,4,2, 3, 2, 1])\n",
    "F3(F17)"
   ]
  },
  {
   "cell_type": "markdown",
   "id": "069af4c8-3577-4bb3-90c9-a05d53ee4920",
   "metadata": {},
   "source": [
    "<b>Let</b> $F18$ be the application of $ps_x$ function with 10000 iterations to find unique populations"
   ]
  },
  {
   "cell_type": "code",
   "execution_count": 16,
   "id": "e4fadc50-1b20-4bcc-ab2d-da6c27aa6f78",
   "metadata": {},
   "outputs": [
    {
     "name": "stdout",
     "output_type": "stream",
     "text": [
      "Number of unique populations:  1\n"
     ]
    },
    {
     "data": {
      "text/plain": [
       "[(1, 2, 3, 2, 1, 2, 1)]"
      ]
     },
     "execution_count": 16,
     "metadata": {},
     "output_type": "execute_result"
    }
   ],
   "source": [
    "F18 = F5(graphChoice=F15, iterations=10000, returnPopulations=True)\n",
    "F18['populationsAsSet']"
   ]
  },
  {
   "cell_type": "markdown",
   "id": "94275bdc-9361-444a-827c-e096bfc765d0",
   "metadata": {},
   "source": [
    "<b>Observe</b> that, again, with the chosen population,  $E_7  \\text{~}$ does not change under mutation (at least up to 10000 mutations) and is regarded as a stable graph. "
   ]
  },
  {
   "cell_type": "markdown",
   "id": "034e7a93-3e06-44a7-bb03-e84ba794432b",
   "metadata": {},
   "source": [
    "<b>Let</b> $F17$ be the simple connected graph $E_8 \\text{~}$, with a given population $[1,2,1,2,2, 2, 2, 1,1]$"
   ]
  },
  {
   "cell_type": "code",
   "execution_count": 17,
   "id": "a082d5fd-f7e9-4bbf-a041-60b54366303c",
   "metadata": {},
   "outputs": [
    {
     "data": {
      "image/png": "[encoded data removed]",
      "text/plain": [
       "<Figure size 432x288 with 1 Axes>"
      ]
     },
     "metadata": {},
     "output_type": "display_data"
    }
   ],
   "source": [
    "F19= F2(edges=[(\"a\",\"b\"),(\"b\",\"c\"),(\"c\",\"d\"),(\"c\",\"e\"),(\"e\",\"f\"),(\"f\",\"g\"), (\"g\",\"h\"), (\"h\", \"i\")], \n",
    "       population=[2,4,6,3,5, 4, 3, 2, 1])\n",
    "F3(F19)"
   ]
  },
  {
   "cell_type": "markdown",
   "id": "6e3b9ce8-1380-453e-8696-4472d4b3d35b",
   "metadata": {},
   "source": [
    "<b>Let</b> $F20$ be the application of $ps_x$ function with 10000 iterations to find unique populations"
   ]
  },
  {
   "cell_type": "code",
   "execution_count": 18,
   "id": "3a0b2e1f-6152-4d95-b0eb-caf72bf2155c",
   "metadata": {},
   "outputs": [
    {
     "name": "stdout",
     "output_type": "stream",
     "text": [
      "Number of unique populations:  1\n"
     ]
    },
    {
     "data": {
      "text/plain": [
       "[(2, 4, 6, 3, 5, 4, 3, 2, 1)]"
      ]
     },
     "execution_count": 18,
     "metadata": {},
     "output_type": "execute_result"
    }
   ],
   "source": [
    "F20= F5(graphChoice=F19, iterations=10000, returnPopulations=True)\n",
    "F20['populationsAsSet']"
   ]
  },
  {
   "cell_type": "markdown",
   "id": "8540a597-9b2f-4594-b1a5-a88a4d7f3e59",
   "metadata": {},
   "source": [
    "<b>Observe</b> that this suggests that all  $ADE  \\text{~}$ are invariant under mutation with these chosen population.  "
   ]
  },
  {
   "cell_type": "markdown",
   "id": "34537965-8938-474b-82aa-9063d1a57edd",
   "metadata": {},
   "source": [
    "<b>Observe</b> It is also possible to check that populations of $ADE \\text{~}$ graphs remain stable under scaling. \n",
    "\n",
    "<b>Let $F21$</b> be a function that, given a graph, number of iterations for mutation for applying the mutation function to all vertices, and scaling factor, returns the population after scaling. "
   ]
  },
  {
   "cell_type": "code",
   "execution_count": 19,
   "id": "a6c94174-5201-48ba-a369-aa75eb4fafaf",
   "metadata": {},
   "outputs": [],
   "source": [
    "def F21(initialGraph,  scalarIterations, mutationIterations,):\n",
    "    initialPopulation = nx.get_node_attributes(initialGraph, 'population') \n",
    "    \n",
    "    print(\"\\nScaling factor to be applied: \", scalarIterations)\n",
    "    for i in range(1, scalarIterations + 1):\n",
    "        scaledGraph = initialGraph.copy()\n",
    "        \n",
    "        for j in initialPopulation.keys():    \n",
    "            scaledGraph.nodes[j]['population'] = initialGraph.nodes[j]['population'] * i\n",
    "        \n",
    "        mutatedPopulationForScaledGraph = F5(graphChoice=scaledGraph, iterations=mutationIterations, returnPopulations=True)\n",
    "        print(\"Set of population after scaling: \", mutatedPopulationForScaledGraph['populationsAsSet'])\n"
   ]
  },
  {
   "cell_type": "markdown",
   "id": "51ef7348-9816-45b2-af40-937cb81cc740",
   "metadata": {},
   "source": [
    "<b>Observe</b> that it is possible to test $F21$ using an $A_n$ graph. "
   ]
  },
  {
   "cell_type": "markdown",
   "id": "ce3cf13e-afcb-4052-b5fd-63291f05f6d8",
   "metadata": {},
   "source": [
    "<b>Let</b> $F22$ be a $A_n$ graph."
   ]
  },
  {
   "cell_type": "code",
   "execution_count": 20,
   "id": "a73628a7-9332-45f0-a15b-7f29d75d49f2",
   "metadata": {},
   "outputs": [],
   "source": [
    "F22 = F2(edges=[(\"a\",\"b\"),(\"b\",\"c\"),(\"c\",\"d\"),(\"d\",\"e\"),(\"e\",\"f\"), (\"f\", \"a\")], \n",
    "       population=[1,1,1,1,1,1])"
   ]
  },
  {
   "cell_type": "markdown",
   "id": "03c65a3f-9f46-4fce-a9a5-8dd138e2421d",
   "metadata": {},
   "source": [
    "<b>Let</b> $F23$ be a an application of the function$F21$, which will apply 100 iterations of moving through the vertices to apply the mutation function $F22$ and increase the scaling factor iteratively from 1 to 10.  "
   ]
  },
  {
   "cell_type": "code",
   "execution_count": 21,
   "id": "489713cd-9297-4057-a7af-34dc8075b239",
   "metadata": {},
   "outputs": [
    {
     "name": "stdout",
     "output_type": "stream",
     "text": [
      "\n",
      "Scaling factor to be applied:  10\n",
      "Number of unique populations:  1\n",
      "Set of population after scaling:  [(1, 1, 1, 1, 1, 1)]\n",
      "Number of unique populations:  1\n",
      "Set of population after scaling:  [(2, 2, 2, 2, 2, 2)]\n",
      "Number of unique populations:  1\n",
      "Set of population after scaling:  [(3, 3, 3, 3, 3, 3)]\n",
      "Number of unique populations:  1\n",
      "Set of population after scaling:  [(4, 4, 4, 4, 4, 4)]\n",
      "Number of unique populations:  1\n",
      "Set of population after scaling:  [(5, 5, 5, 5, 5, 5)]\n",
      "Number of unique populations:  1\n",
      "Set of population after scaling:  [(6, 6, 6, 6, 6, 6)]\n",
      "Number of unique populations:  1\n",
      "Set of population after scaling:  [(7, 7, 7, 7, 7, 7)]\n",
      "Number of unique populations:  1\n",
      "Set of population after scaling:  [(8, 8, 8, 8, 8, 8)]\n",
      "Number of unique populations:  1\n",
      "Set of population after scaling:  [(9, 9, 9, 9, 9, 9)]\n",
      "Number of unique populations:  1\n",
      "Set of population after scaling:  [(10, 10, 10, 10, 10, 10)]\n"
     ]
    }
   ],
   "source": [
    "F32 = F21(F22, 10 , 100)"
   ]
  },
  {
   "cell_type": "markdown",
   "id": "e24cc509-ab81-4170-8423-e4594b09cba6",
   "metadata": {},
   "source": [
    "<b>Let</b> $F33$ be applying scaling to all graphs  $ADE\\text{~}$ created earlier in this notebook, $F9, F11, F13, F15, F17$ and $F19$ "
   ]
  },
  {
   "cell_type": "code",
   "execution_count": 22,
   "id": "8e0e908e-8209-4ca2-b75a-248d1e7560e5",
   "metadata": {},
   "outputs": [
    {
     "name": "stdout",
     "output_type": "stream",
     "text": [
      "\n",
      "Scaling factor to be applied:  5\n",
      "Number of unique populations:  1\n",
      "Set of population after scaling:  [(1, 1, 1, 1, 1, 1)]\n",
      "Number of unique populations:  1\n",
      "Set of population after scaling:  [(2, 2, 2, 2, 2, 2)]\n",
      "Number of unique populations:  1\n",
      "Set of population after scaling:  [(3, 3, 3, 3, 3, 3)]\n",
      "Number of unique populations:  1\n",
      "Set of population after scaling:  [(4, 4, 4, 4, 4, 4)]\n",
      "Number of unique populations:  1\n",
      "Set of population after scaling:  [(5, 5, 5, 5, 5, 5)]\n",
      "\n",
      "Scaling factor to be applied:  5\n",
      "Number of unique populations:  1\n",
      "Set of population after scaling:  [(1, 2, 1, 1, 1)]\n",
      "Number of unique populations:  1\n",
      "Set of population after scaling:  [(2, 4, 2, 2, 2)]\n",
      "Number of unique populations:  1\n",
      "Set of population after scaling:  [(3, 6, 3, 3, 3)]\n",
      "Number of unique populations:  1\n",
      "Set of population after scaling:  [(4, 8, 4, 4, 4)]\n",
      "Number of unique populations:  1\n",
      "Set of population after scaling:  [(5, 10, 5, 5, 5)]\n",
      "\n",
      "Scaling factor to be applied:  5\n",
      "Number of unique populations:  1\n",
      "Set of population after scaling:  [(1, 2, 1, 2, 2, 2, 2, 1, 1)]\n",
      "Number of unique populations:  1\n",
      "Set of population after scaling:  [(2, 4, 2, 4, 4, 4, 4, 2, 2)]\n",
      "Number of unique populations:  1\n",
      "Set of population after scaling:  [(3, 6, 3, 6, 6, 6, 6, 3, 3)]\n",
      "Number of unique populations:  1\n",
      "Set of population after scaling:  [(4, 8, 4, 8, 8, 8, 8, 4, 4)]\n",
      "Number of unique populations:  1\n",
      "Set of population after scaling:  [(5, 10, 5, 10, 10, 10, 10, 5, 5)]\n",
      "\n",
      "Scaling factor to be applied:  5\n",
      "Number of unique populations:  1\n",
      "Set of population after scaling:  [(1, 2, 3, 2, 1, 2, 1)]\n",
      "Number of unique populations:  1\n",
      "Set of population after scaling:  [(2, 4, 6, 4, 2, 4, 2)]\n",
      "Number of unique populations:  1\n",
      "Set of population after scaling:  [(3, 6, 9, 6, 3, 6, 3)]\n",
      "Number of unique populations:  1\n",
      "Set of population after scaling:  [(4, 8, 12, 8, 4, 8, 4)]\n",
      "Number of unique populations:  1\n",
      "Set of population after scaling:  [(5, 10, 15, 10, 5, 10, 5)]\n",
      "\n",
      "Scaling factor to be applied:  5\n",
      "Number of unique populations:  1\n",
      "Set of population after scaling:  [(1, 2, 3, 4, 2, 3, 2, 1)]\n",
      "Number of unique populations:  1\n",
      "Set of population after scaling:  [(2, 4, 6, 8, 4, 6, 4, 2)]\n",
      "Number of unique populations:  1\n",
      "Set of population after scaling:  [(3, 6, 9, 12, 6, 9, 6, 3)]\n",
      "Number of unique populations:  1\n",
      "Set of population after scaling:  [(4, 8, 12, 16, 8, 12, 8, 4)]\n",
      "Number of unique populations:  1\n",
      "Set of population after scaling:  [(5, 10, 15, 20, 10, 15, 10, 5)]\n",
      "\n",
      "Scaling factor to be applied:  5\n",
      "Number of unique populations:  1\n",
      "Set of population after scaling:  [(2, 4, 6, 3, 5, 4, 3, 2, 1)]\n",
      "Number of unique populations:  1\n",
      "Set of population after scaling:  [(4, 8, 12, 6, 10, 8, 6, 4, 2)]\n",
      "Number of unique populations:  1\n",
      "Set of population after scaling:  [(6, 12, 18, 9, 15, 12, 9, 6, 3)]\n",
      "Number of unique populations:  1\n",
      "Set of population after scaling:  [(8, 16, 24, 12, 20, 16, 12, 8, 4)]\n",
      "Number of unique populations:  1\n",
      "Set of population after scaling:  [(10, 20, 30, 15, 25, 20, 15, 10, 5)]\n"
     ]
    }
   ],
   "source": [
    "F33 = [F21(i, 5, 100) for i in [F9, F11, F13, F15, F17, F19]]"
   ]
  },
  {
   "cell_type": "markdown",
   "id": "85394a4f-5b0e-4ed1-b584-d7f8917db0a1",
   "metadata": {},
   "source": [
    "<b>Observe</b> that the result seen $F33$ means that, for the number of iterations provided, that stable populations appear to remain stable under scalar operations.  \n",
    "\n",
    "<b>Summary</b> Are there any other connected simple graphs $X$ that have a (non-zero) stable popualation"
   ]
  },
  {
   "cell_type": "markdown",
   "id": "d8ebc6f8-d42f-4150-9366-56d8e7fe7d17",
   "metadata": {},
   "source": [
    "<hr/>\n",
    "\n",
    "\n",
    "<b>Aim</b> Revisit the $ADE$ graphs when given singleton populations, and exclusions $ADE \\text{~}$ after showing they were unbounded\n",
    "\n",
    "\n",
    "<hr/>"
   ]
  },
  {
   "cell_type": "markdown",
   "id": "dd6443f8-6c4b-4c02-81a3-2ed94d562bc1",
   "metadata": {},
   "source": [
    "<b>Recall</b> that the $ADE \\text{~}$ graphs each have an unbounded number fo root populations, but this was not a strong argument. It is possible to support this stable populations \n",
    "\n"
   ]
  },
  {
   "cell_type": "code",
   "execution_count": 23,
   "id": "e3e2d0c2-ccc7-45cb-9a5e-75c2ab477cba",
   "metadata": {},
   "outputs": [
    {
     "data": {
      "image/png": "[encoded data removed]",
      "text/plain": [
       "<Figure size 432x288 with 1 Axes>"
      ]
     },
     "metadata": {},
     "output_type": "display_data"
    }
   ],
   "source": [
    "F34= F2(edges=[(\"a\",\"b\"),(\"b\",\"c\"),(\"b\",\"d\"),(\"d\",\"e\"),(\"e\",\"f\"),(\"f\",\"g\"), (\"f\",\"h\")], \n",
    "       population=[-1,0,0,0,0, 0, 0, 0,])\n",
    "F3(F34)"
   ]
  },
  {
   "cell_type": "code",
   "execution_count": 24,
   "id": "606cb075-1c5e-41c8-8dde-53fde14a40e5",
   "metadata": {},
   "outputs": [
    {
     "name": "stdout",
     "output_type": "stream",
     "text": [
      "Number of unique populations:  38\n"
     ]
    },
    {
     "data": {
      "text/plain": [
       "[(0, 1, 0, 1, 2, 2, 1, 1),\n",
       " (1, 3, 1, 3, 3, 3, 1, 1),\n",
       " (1, 3, 1, 3, 4, 4, 2, 2),\n",
       " (1, 1, 1, 1, 1, 1, 0, 0),\n",
       " (1, 2, 2, 2, 2, 2, 1, 1),\n",
       " (1, 1, 1, 1, 1, 0, 0, 0),\n",
       " (2, 3, 2, 3, 3, 4, 2, 2),\n",
       " (1, 3, 1, 3, 2, 2, 1, 1),\n",
       " (2, 3, 2, 3, 3, 3, 2, 2),\n",
       " (1, 3, 1, 3, 3, 3, 2, 2),\n",
       " (1, 1, 1, 1, 1, 1, 1, 1),\n",
       " (2, 3, 1, 3, 4, 4, 2, 2),\n",
       " (1, 1, 1, 1, 0, 0, 0, 0),\n",
       " (1, 1, 1, 1, 1, 2, 1, 1),\n",
       " (1, 1, 0, 0, 0, 0, 0, 0),\n",
       " (1, 3, 2, 2, 2, 2, 1, 1),\n",
       " (1, 3, 2, 4, 4, 4, 2, 2),\n",
       " (1, 3, 2, 3, 3, 4, 2, 2),\n",
       " (1, 3, 1, 2, 2, 2, 1, 1),\n",
       " (1, 3, 1, 3, 3, 2, 1, 1),\n",
       " (0, 1, 1, 1, 1, 1, 1, 1),\n",
       " (1, 1, 0, 1, 1, 2, 1, 1),\n",
       " (1, 3, 1, 3, 3, 3, 2, 1),\n",
       " (1, 1, 1, 1, 1, 1, 1, 0),\n",
       " (0, 1, 0, 1, 1, 1, 1, 1),\n",
       " (0, 1, 0, 2, 2, 2, 1, 1),\n",
       " (0, 1, 0, 1, 1, 2, 1, 1),\n",
       " (1, 1, 0, 2, 2, 2, 1, 1),\n",
       " (1, 2, 0, 2, 2, 2, 1, 1),\n",
       " (2, 3, 2, 3, 4, 4, 2, 2),\n",
       " (1, 1, 1, 1, 2, 2, 1, 1),\n",
       " (1, 1, 1, 0, 0, 0, 0, 0),\n",
       " (1, 0, 0, 0, 0, 0, 0, 0),\n",
       " (0, 1, 1, 1, 2, 2, 1, 1),\n",
       " (2, 3, 1, 3, 3, 3, 2, 2),\n",
       " (1, 3, 1, 3, 3, 4, 2, 2),\n",
       " (2, 3, 2, 4, 4, 4, 2, 2),\n",
       " (1, 4, 2, 4, 4, 4, 2, 2)]"
      ]
     },
     "execution_count": 24,
     "metadata": {},
     "output_type": "execute_result"
    }
   ],
   "source": [
    "F20= F5(graphChoice=F34, iterations=10, returnPopulations=True)\n",
    "F20['populationsAsSet']"
   ]
  }
 ],
 "metadata": {
  "kernelspec": {
   "display_name": "Python 3",
   "language": "python",
   "name": "python3"
  },
  "language_info": {
   "codemirror_mode": {
    "name": "ipython",
    "version": 3
   },
   "file_extension": ".py",
   "mimetype": "text/x-python",
   "name": "python",
   "nbconvert_exporter": "python",
   "pygments_lexer": "ipython3",
   "version": "3.9.2"
  }
 },
 "nbformat": 4,
 "nbformat_minor": 5
}
