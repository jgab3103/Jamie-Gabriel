{
 "cells": [
  {
   "cell_type": "markdown",
   "metadata": {},
   "source": [
    "<i>STATUS: Draft</i>\n",
    "\n",
    "<hr/>"
   ]
  },
  {
   "cell_type": "code",
   "execution_count": 1,
   "metadata": {},
   "outputs": [],
   "source": [
    "import numpy as np\n",
    "import sympy as sp\n",
    "import pickle\n",
    "from IPython.display import HTML, Image\n",
    "import ipywidgets as widgets\n",
    "import matplotlib as mpl\n",
    "from mpl_toolkits.mplot3d import Axes3D\n",
    "import matplotlib.pyplot as plt\n",
    "mpl.rcParams['legend.fontsize'] = 10\n",
    "import pandas as pd\n",
    "import itertools\n",
    "pd.set_option('display.max_colwidth', None)\n",
    "import treelib as tr\n",
    "\n",
    "\n",
    "# function to print latex\n",
    "def renderListToLatex(e):\n",
    "    latex_rendering = []\n",
    "\n",
    "    for i in range(len(e)):\n",
    "        latex_rendering.append(\"$$\" + sp.latex(e[i]) + \"$$\")\n",
    "    \n",
    "    return(HTML(\"\".join(latex_rendering[0:])))"
   ]
  },
  {
   "cell_type": "markdown",
   "metadata": {},
   "source": [
    "### Solving Polynomial Equations (23)\n",
    "\n",
    "#### Signs and a general solution to polynomial equations"
   ]
  },
  {
   "cell_type": "markdown",
   "metadata": {},
   "source": [
    "Signs....\n",
    "\n",
    "\n",
    "Note A general formula for number of subdivisions of a roofed polygon into polygons\n",
    "\n",
    "<b>Ref</b>Polygonal dissections and reversions of series, A Shuetz and G Whieldon\n",
    "\n",
    "This paper looks at Inversion formula for series -  Lagrange"
   ]
  },
  {
   "cell_type": "code",
   "execution_count": 2,
   "metadata": {},
   "outputs": [],
   "source": [
    "c_0, c_1, c_2, c_3, c_4, x, t, a_0, a_1, a_2, a_3, a_4, a_5, a_6, a_7, a_8, a_9, x_1, x_2, s_1, s_2 = sp.symbols('c_0, c_1, c_2, c_3, c_4, x, t, a_0, a_1, a_2, a_3, a_4, a_5, a_6, a_7, a_8, a_9, x_1, x_2, s_1, s_2')"
   ]
  },
  {
   "cell_type": "code",
   "execution_count": 3,
   "metadata": {},
   "outputs": [
    {
     "data": {
      "text/latex": [
       "$\\displaystyle \\operatorname{Poly}{\\left( x + 132 \\frac{1}{c_{1}^{13}}c_{0}^{7}c_{2}^{6} - 330 \\frac{1}{c_{1}^{12}}c_{0}^{7}c_{2}^{4}c_{3} + 180 \\frac{1}{c_{1}^{11}}c_{0}^{7}c_{2}^{2}c_{3}^{2} + 42 \\frac{1}{c_{1}^{11}}c_{0}^{6}c_{2}^{5} - 12 \\frac{1}{c_{1}^{10}}c_{0}^{7}c_{3}^{3} - 84 \\frac{1}{c_{1}^{10}}c_{0}^{6}c_{2}^{3}c_{3} + 28 \\frac{1}{c_{1}^{9}}c_{0}^{6}c_{2}c_{3}^{2} + 14 \\frac{1}{c_{1}^{9}}c_{0}^{5}c_{2}^{4} - 21 \\frac{1}{c_{1}^{8}}c_{0}^{5}c_{2}^{2}c_{3} + 3 \\frac{1}{c_{1}^{7}}c_{0}^{5}c_{3}^{2} + 5 \\frac{1}{c_{1}^{7}}c_{0}^{4}c_{2}^{3} - 5 \\frac{1}{c_{1}^{6}}c_{0}^{4}c_{2}c_{3} + 2 \\frac{1}{c_{1}^{5}}c_{0}^{3}c_{2}^{2} - \\frac{1}{c_{1}^{4}}c_{0}^{3}c_{3} + \\frac{1}{c_{1}^{3}}c_{0}^{2}c_{2} + \\frac{1}{c_{1}}c_{0}, x, \\frac{1}{c_{1}}, c_{0}, c_{2}, c_{3}, domain=\\mathbb{Z} \\right)}$"
      ],
      "text/plain": [
       "Poly(x + 132*(1/c_1)**13*c_0**7*c_2**6 - 330*(1/c_1)**12*c_0**7*c_2**4*c_3 + 180*(1/c_1)**11*c_0**7*c_2**2*c_3**2 + 42*(1/c_1)**11*c_0**6*c_2**5 - 12*(1/c_1)**10*c_0**7*c_3**3 - 84*(1/c_1)**10*c_0**6*c_2**3*c_3 + 28*(1/c_1)**9*c_0**6*c_2*c_3**2 + 14*(1/c_1)**9*c_0**5*c_2**4 - 21*(1/c_1)**8*c_0**5*c_2**2*c_3 + 3*(1/c_1)**7*c_0**5*c_3**2 + 5*(1/c_1)**7*c_0**4*c_2**3 - 5*(1/c_1)**6*c_0**4*c_2*c_3 + 2*(1/c_1)**5*c_0**3*c_2**2 - (1/c_1)**4*c_0**3*c_3 + (1/c_1)**3*c_0**2*c_2 + (1/c_1)*c_0, x, 1/c_1, c_0, c_2, c_3, domain='ZZ')"
      ]
     },
     "execution_count": 3,
     "metadata": {},
     "output_type": "execute_result"
    }
   ],
   "source": [
    "with open('./SharedOutputs/SPE5.pickle', 'rb') as input:\n",
    "    importedFromSPE5 = pickle.load(input)\n",
    "\n",
    "P1 = importedFromSPE5['cubicSolutionsAsPolynomial']\n",
    "\n",
    "P1"
   ]
  },
  {
   "cell_type": "markdown",
   "metadata": {},
   "source": [
    "\n"
   ]
  },
  {
   "cell_type": "markdown",
   "metadata": {},
   "source": [
    "Note the terms that appear have the power $c_1$ in the denominator, and ther pwers of $c_0, c_2$ and $c_3$ in the numerator. Sign depends on the parit fo power of $c_3$ that appears (where even parity means a negative signs). The terms are all balanced, that is total degree 0. This is a reflectino that sholution should not depend on a uniform rescaling of all the coeffiencties. All terms have a total index degree of -1. The term has the form\n",
    "\n",
    "\n",
    " $$ C(m, m_3)  \\equiv(-1)^{n + 1} \\frac{(2m + 3 n)!}{(1 + m + 2 n)!m!n!} \\frac{c_0^{1 + m + 2n} c_2^{m} c_3^{n} }{c_1^{2 m + 3 n + 1}} $$"
   ]
  },
  {
   "cell_type": "markdown",
   "metadata": {},
   "source": [
    "NOte the there is a relationship between power of $c_3$ and the parity that appears"
   ]
  },
  {
   "cell_type": "markdown",
   "metadata": {},
   "source": [
    "<b>Observe</b> Recall that with multisets of BiTri subdivisions there si aformular for the generating frunction $F$ of the form: \n",
    "\n",
    "$$ F = 1 + tF^2 + qF^3$$\n",
    "\n",
    "or \n",
    "\n",
    "$$0 = 1 - F + tF^2 + qF^3 $$\n"
   ]
  },
  {
   "cell_type": "markdown",
   "metadata": {},
   "source": [
    "<b>Observe</b> NOte that in the second form, it is simimilar to the general cubic, excpet with the negative sign, so opare to \n",
    "\n",
    "$$ c_0 + c_1x + c_2x^2 + c_3x^3 $$"
   ]
  },
  {
   "cell_type": "markdown",
   "metadata": {},
   "source": [
    "NOte the relationhip between the sign and the the dependence on n. Sign depends on n. Note n appears as a power of $c_3$ and also appears in the context of $2n$ with $c_0$, this is always even, whont contribute\n",
    "\n",
    "Note also $3n$ is acting the same way that n does when it comes to parity, suggests that parity depends on $c_3$ is not correct\n",
    "\n",
    "Perhaps it is not the pwer of $c_3$ that determines the sign, but rather the power of $c_1$ - suggested by multiset formula from BiTri rootfied polycon. \n",
    "\n",
    "If you replace $c_1$ with $-c_1$ sign dissapears"
   ]
  },
  {
   "cell_type": "markdown",
   "metadata": {},
   "source": [
    "<b>Theorem</b> Updated \n",
    "\n",
    "A solution to $c_0 - c_1x + c_2x^2 + c_3x^3 = 0$ is given by \n",
    "\n",
    "$$x  = \\Sigma_{m = 0}^+ \\Sigma_{n = 0}^+  \\frac{(2m + 3 n)!}{(1 + m + 2 n)!m!n!} \\frac{c_0^{1 + m + 2n} c_2^{m} c_3^{n} }{c_1^{2 m + 3 n + 1}} $$"
   ]
  },
  {
   "cell_type": "markdown",
   "metadata": {},
   "source": [
    "Here, the theorem removes the sign completely because of the determinatino from $c_1$"
   ]
  },
  {
   "cell_type": "markdown",
   "metadata": {},
   "source": [
    "<b>Observe</b> It turns out the $c_3$ is not the critical variable\n",
    "\n",
    "<b>Obsere</b> Extension to high degree polynomial should be: \n",
    "\n",
    "A solution to $c_0 - c_1x + c_2x^2 + c_3x^3 + c_4x^4 = 0$ is given by \n",
    "\n",
    "$$x  = \\Sigma_{m = 0}^+ \\Sigma_{n = 0}^+ \\Sigma_{p = 0}^+  \\frac{(2m + 3n + 4p)!}{(1 + m + 2n + 3p)!m!n!p!} \\frac{c_0^{1 + m + 2n + 3p} c_2^{m} c_3^{n} c_4^{p} }{c_1^{4p + 2m + 3n + 1}} $$"
   ]
  },
  {
   "cell_type": "markdown",
   "metadata": {},
   "source": [
    "This could be generalised toa  quintic!"
   ]
  },
  {
   "cell_type": "code",
   "execution_count": null,
   "metadata": {},
   "outputs": [],
   "source": [
    "# TO do - formula"
   ]
  }
 ],
 "metadata": {
  "kernelspec": {
   "display_name": "Python 3",
   "language": "python",
   "name": "python3"
  },
  "language_info": {
   "codemirror_mode": {
    "name": "ipython",
    "version": 3
   },
   "file_extension": ".py",
   "mimetype": "text/x-python",
   "name": "python",
   "nbconvert_exporter": "python",
   "pygments_lexer": "ipython3",
   "version": "3.9.2"
  }
 },
 "nbformat": 4,
 "nbformat_minor": 4
}
