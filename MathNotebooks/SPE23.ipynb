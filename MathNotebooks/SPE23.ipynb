{
 "cells": [
  {
   "cell_type": "markdown",
   "metadata": {},
   "source": [
    "<i>STATUS: Draft</i>\n",
    "\n",
    "<hr/>"
   ]
  },
  {
   "cell_type": "code",
   "execution_count": 1,
   "metadata": {},
   "outputs": [],
   "source": [
    "import numpy as np\n",
    "import sympy as sp\n",
    "import pickle\n",
    "from IPython.display import HTML, Image\n",
    "import ipywidgets as widgets\n",
    "import matplotlib as mpl\n",
    "from mpl_toolkits.mplot3d import Axes3D\n",
    "import matplotlib.pyplot as plt\n",
    "mpl.rcParams['legend.fontsize'] = 10\n",
    "import pandas as pd\n",
    "import itertools\n",
    "pd.set_option('display.max_colwidth', None)\n",
    "import treelib as tr\n",
    "\n",
    "\n",
    "# function to print latex\n",
    "def renderListToLatex(e):\n",
    "    latex_rendering = []\n",
    "\n",
    "    for i in range(len(e)):\n",
    "        latex_rendering.append(\"$$\" + sp.latex(e[i]) + \"$$\")\n",
    "    \n",
    "    return(HTML(\"\".join(latex_rendering[0:])))"
   ]
  },
  {
   "cell_type": "markdown",
   "metadata": {},
   "source": [
    "### Solving Polynomial Equations (23)\n",
    "\n",
    "#### Signs and a general solution to polynomial equations"
   ]
  },
  {
   "cell_type": "markdown",
   "metadata": {},
   "source": [
    "<b>Ref</b>: Polygonal Dissections and Reversions of Series, Alison Schuetz, Gwyneth Whieldon\n",
    "\n",
    "<b>Observe</b> This paper also examines Lagrange's inversion formula for series\n",
    "\n",
    "<b>Observe</b>Recall the conjecture in a previous notebook regarding solutions to a general cubic, $ c_0 + c_1x + c_2x^2 + c_3x^3 $, which can also be regarded as a general formula for the number of subdivisions of a roofed polygon into polygons."
   ]
  },
  {
   "cell_type": "markdown",
   "metadata": {},
   "source": [
    "<b>Let</b> $c_0, c_1, c_2, \\ldots$ be unknown types"
   ]
  },
  {
   "cell_type": "code",
   "execution_count": 2,
   "metadata": {},
   "outputs": [],
   "source": [
    "c_0, c_1, c_2, c_3, c_4, x, t, a_0, a_1, a_2, a_3, a_4, a_5, a_6, a_7, a_8, a_9, x_1, x_2, s_1, s_2 = sp.symbols('c_0, c_1, c_2, c_3, c_4, x, t, a_0, a_1, a_2, a_3, a_4, a_5, a_6, a_7, a_8, a_9, x_1, x_2, s_1, s_2')"
   ]
  },
  {
   "cell_type": "markdown",
   "metadata": {},
   "source": [
    "<b>Let</b> $P1$ be an a solution to a general cubic to a limited number of terms."
   ]
  },
  {
   "cell_type": "code",
   "execution_count": 4,
   "metadata": {},
   "outputs": [
    {
     "data": {
      "text/latex": [
       "$\\displaystyle \\operatorname{Poly}{\\left( x + 132 \\frac{1}{c_{1}^{13}}c_{0}^{7}c_{2}^{6} - 330 \\frac{1}{c_{1}^{12}}c_{0}^{7}c_{2}^{4}c_{3} + 180 \\frac{1}{c_{1}^{11}}c_{0}^{7}c_{2}^{2}c_{3}^{2} + 42 \\frac{1}{c_{1}^{11}}c_{0}^{6}c_{2}^{5} - 12 \\frac{1}{c_{1}^{10}}c_{0}^{7}c_{3}^{3} - 84 \\frac{1}{c_{1}^{10}}c_{0}^{6}c_{2}^{3}c_{3} + 28 \\frac{1}{c_{1}^{9}}c_{0}^{6}c_{2}c_{3}^{2} + 14 \\frac{1}{c_{1}^{9}}c_{0}^{5}c_{2}^{4} - 21 \\frac{1}{c_{1}^{8}}c_{0}^{5}c_{2}^{2}c_{3} + 3 \\frac{1}{c_{1}^{7}}c_{0}^{5}c_{3}^{2} + 5 \\frac{1}{c_{1}^{7}}c_{0}^{4}c_{2}^{3} - 5 \\frac{1}{c_{1}^{6}}c_{0}^{4}c_{2}c_{3} + 2 \\frac{1}{c_{1}^{5}}c_{0}^{3}c_{2}^{2} - \\frac{1}{c_{1}^{4}}c_{0}^{3}c_{3} + \\frac{1}{c_{1}^{3}}c_{0}^{2}c_{2} + \\frac{1}{c_{1}}c_{0}, x, \\frac{1}{c_{1}}, c_{0}, c_{2}, c_{3}, domain=\\mathbb{Z} \\right)}$"
      ],
      "text/plain": [
       "Poly(x + 132*(1/c_1)**13*c_0**7*c_2**6 - 330*(1/c_1)**12*c_0**7*c_2**4*c_3 + 180*(1/c_1)**11*c_0**7*c_2**2*c_3**2 + 42*(1/c_1)**11*c_0**6*c_2**5 - 12*(1/c_1)**10*c_0**7*c_3**3 - 84*(1/c_1)**10*c_0**6*c_2**3*c_3 + 28*(1/c_1)**9*c_0**6*c_2*c_3**2 + 14*(1/c_1)**9*c_0**5*c_2**4 - 21*(1/c_1)**8*c_0**5*c_2**2*c_3 + 3*(1/c_1)**7*c_0**5*c_3**2 + 5*(1/c_1)**7*c_0**4*c_2**3 - 5*(1/c_1)**6*c_0**4*c_2*c_3 + 2*(1/c_1)**5*c_0**3*c_2**2 - (1/c_1)**4*c_0**3*c_3 + (1/c_1)**3*c_0**2*c_2 + (1/c_1)*c_0, x, 1/c_1, c_0, c_2, c_3, domain='ZZ')"
      ]
     },
     "execution_count": 4,
     "metadata": {},
     "output_type": "execute_result"
    }
   ],
   "source": [
    "with open('./SharedOutputs/SPE5.pickle', 'rb') as input:\n",
    "    importedFromSPE5 = pickle.load(input)\n",
    "\n",
    "P1 = importedFromSPE5['cubicSolutionsAsPolynomial']\n",
    "\n",
    "P1"
   ]
  },
  {
   "cell_type": "markdown",
   "metadata": {},
   "source": [
    "\n"
   ]
  },
  {
   "cell_type": "markdown",
   "metadata": {},
   "source": [
    "<b>Observe</b>: All terms of $P1$ have a power of $c_1$ in the denominator, and powers of $c_0, c_2$ and $c_3$ in the numerator.\n",
    "\n",
    "<b>Observe</b>: The sign of each term in $P1$ appears to depend on the parity of the power of $c_3$ (where even parity denotes a negative signs). \n",
    "\n",
    "<b>Observe</b>: The terms of $P1$ are balanced, having total degree 0. This suggests that the solution should not depend on a uniform rescaling of all the coefficients.\n",
    "\n",
    "<b>Observe</b>: All terms in $P1$ have a total index degree of -1 and each term has the form: \n",
    "\n",
    "\n",
    " $$ C(m, m_3)\\equiv(-1)^{n + 1} \\frac{(2m + 3 n)!}{(1 + m + 2 n)!m!n!} \\frac{c_0^{1 + m + 2n} c_2^{m} c_3^{n} }{c_1^{2 m + 3 n + 1}} $$"
   ]
  },
  {
   "cell_type": "markdown",
   "metadata": {},
   "source": [
    "<b>Observe</b>: There appears to be a relationship between the power of $c_3$ and the parity that appears in each term. "
   ]
  },
  {
   "cell_type": "markdown",
   "metadata": {},
   "source": [
    "<b>Observe</b>: Recall that when multisets of BiTri subdivisions were considered, a generating frunction was found for $F$ which has the form: \n",
    "\n",
    "$$ F = 1 + tF^2 + qF^3 \\text{ or } 0 = 1 - F + tF^2 + qF^3 $$\n",
    "\n"
   ]
  },
  {
   "cell_type": "markdown",
   "metadata": {},
   "source": [
    "<b>Observe</b>: Consider that $0 = 1 - F + tF^2 + qF^3$  is similar to the general cubic, $ c_0 + c_1x + c_2x^2 + c_3x^3 $, except for the appearance of the negative sign. \n"
   ]
  },
  {
   "cell_type": "markdown",
   "metadata": {},
   "source": [
    "<b>Observe</b>: The relationship between the sign of each term appears to depends on $n$. Note that $n$ appears as not only as a power of $c_3$, but also in the context of $2n$ with $c_0$. In this latter context, as $2n$ will always produce an even value, it will not contribute to the determination of parity. \n",
    "\n",
    "<b>Observe</b>: The value of $3n$ acts the same way as $n$ does when it determines parity, and this suggests that parity may not depends on $c_3$ as previously assumed, and that there may be a more fundamental version of the general cubic.\n",
    "\n",
    "<b>Observe</b>: This suggests that it is not the pwer of $c_3$ that determines the sign of each term, but rather the power of $c_1$, given by the multiset formula from a BiTri rootfied polygon. \n",
    "\n",
    "<b>Observe</b>: If $c_1$ is replaced with $-c_1$ in the general cubic equation, the sign dissapears from the formula\n",
    "\n",
    "<b>Observe</b>: This leads to the following (updated) theorem."
   ]
  },
  {
   "cell_type": "markdown",
   "metadata": {},
   "source": [
    "<b>Theorem</b>  \n",
    "\n",
    "A solution to $c_0 - c_1x + c_2x^2 + c_3x^3 = 0$ is given by \n",
    "\n",
    "$$x  = \\Sigma_{m = 0}^+ \\Sigma_{n = 0}^+  \\frac{(2m + 3 n)!}{(1 + m + 2 n)!m!n!} \\frac{c_0^{1 + m + 2n} c_2^{m} c_3^{n} }{c_1^{2 m + 3 n + 1}} $$"
   ]
  },
  {
   "cell_type": "markdown",
   "metadata": {},
   "source": [
    "<b>Observe</b>: This suggests that $c_3$ is not the critical variable for determining parity. \n",
    "\n",
    "<b>Observe</b>: This simplification of the formula suggests that the formula could be generalised to higher degrees as all degrees will contain $c_1$ \n",
    "\n",
    "<b>Observe</b>: A general formula for a quadratic may be given by: \n",
    "\n",
    "A solution to $c_0 - c_1x + c_2x^2 + c_3x^3 + c_4x^4 = 0$ is given by \n",
    "\n",
    "$$x  = \\Sigma_{m = 0}^+ \\Sigma_{n = 0}^+ \\Sigma_{p = 0}^+  \\frac{(2m + 3n + 4p)!}{(1 + m + 2n + 3p)!m!n!p!} \\frac{c_0^{1 + m + 2n + 3p} c_2^{m} c_3^{n} c_4^{p} }{c_1^{4p + 2m + 3n + 1}} $$"
   ]
  },
  {
   "cell_type": "markdown",
   "metadata": {},
   "source": [
    "<b>Observe</b>: This could be generalised to a quintic and higher degrees. "
   ]
  }
 ],
 "metadata": {
  "kernelspec": {
   "display_name": "Python 3",
   "language": "python",
   "name": "python3"
  },
  "language_info": {
   "codemirror_mode": {
    "name": "ipython",
    "version": 3
   },
   "file_extension": ".py",
   "mimetype": "text/x-python",
   "name": "python",
   "nbconvert_exporter": "python",
   "pygments_lexer": "ipython3",
   "version": "3.9.2"
  }
 },
 "nbformat": 4,
 "nbformat_minor": 4
}
