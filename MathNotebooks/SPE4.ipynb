{
 "cells": [
  {
   "cell_type": "code",
   "execution_count": 1,
   "metadata": {},
   "outputs": [],
   "source": [
    "import numpy as np\n",
    "import sympy as sp\n",
    "import pickle\n",
    "from IPython.display import HTML\n",
    "import ipywidgets as widgets\n",
    "import matplotlib as mpl\n",
    "from mpl_toolkits.mplot3d import Axes3D\n",
    "import matplotlib.pyplot as plt\n",
    "mpl.rcParams['legend.fontsize'] = 10\n",
    "import pandas as pd\n",
    "import itertools\n",
    "\n",
    "# This is commented out\n",
    "#%matplotlib widget\n",
    "\n",
    "# function to print latex\n",
    "def renderListToLatex(e):\n",
    "    latex_rendering = []\n",
    "\n",
    "    for i in range(len(e)):\n",
    "        latex_rendering.append(\"$$\" + sp.latex(e[i]) + \"$$<br/>\")\n",
    "    \n",
    "    return(HTML(\"\".join(latex_rendering[0:])))"
   ]
  },
  {
   "cell_type": "markdown",
   "metadata": {},
   "source": [
    "### Solving Polynomial Equations (4)"
   ]
  },
  {
   "cell_type": "markdown",
   "metadata": {},
   "source": [
    "Let g1 be solutions of $a_i$ for a general cubic from the notebook: Solving Polynomial Equations (3)."
   ]
  },
  {
   "cell_type": "code",
   "execution_count": 2,
   "metadata": {},
   "outputs": [],
   "source": [
    "with open('./SharedOutputs/SPE3.pickle', 'rb') as input:\n",
    "    imported_outputs_from_another_notebook = pickle.load(input)\n",
    "    \n",
    "g1 = imported_outputs_from_another_notebook['generalCubicSolutions']"
   ]
  },
  {
   "cell_type": "markdown",
   "metadata": {},
   "source": [
    "Create needed variables."
   ]
  },
  {
   "cell_type": "code",
   "execution_count": 3,
   "metadata": {},
   "outputs": [],
   "source": [
    "c_0, c_1, c_2, c_3, x, t, a_0, a_1, a_2, a_3, a_4, a_5, a_6, a_7, a_8, a_9, x_1, x_2, s_1, s_2 = sp.symbols('c_0, c_1, c_2, c_3, x, t, a_0, a_1, a_2, a_3, a_4, a_5, a_6, a_7, a_8, a_9, x_1, x_2, s_1, s_2')"
   ]
  },
  {
   "cell_type": "markdown",
   "metadata": {},
   "source": [
    "Recall solutions of general cubic where $ a_0 = 0$:"
   ]
  },
  {
   "cell_type": "code",
   "execution_count": 8,
   "metadata": {},
   "outputs": [
    {
     "data": {
      "text/html": [
       "$$a_{0} = 0$$$$a_{1} = - \\frac{1}{c_{1}}$$$$a_{2} = - \\frac{c_{2}}{c_{1}^{3}}$$$$a_{3} = \\frac{c_{1} c_{3} - 2 c_{2}^{2}}{c_{1}^{5}}$$$$a_{4} = \\frac{5 c_{2} \\left(c_{1} c_{3} - c_{2}^{2}\\right)}{c_{1}^{7}}$$$$a_{5} = \\frac{- 3 c_{1}^{2} c_{3}^{2} + 21 c_{1} c_{2}^{2} c_{3} - 14 c_{2}^{4}}{c_{1}^{9}}$$$$a_{6} = \\frac{- 28 c_{1}^{2} c_{2} c_{3}^{2} + 84 c_{1} c_{2}^{3} c_{3} - 42 c_{2}^{5}}{c_{1}^{11}}$$$$a_{7} = \\frac{6 \\left(2 c_{1}^{3} c_{3}^{3} - 30 c_{1}^{2} c_{2}^{2} c_{3}^{2} + 55 c_{1} c_{2}^{4} c_{3} - 22 c_{2}^{6}\\right)}{c_{1}^{13}}$$"
      ],
      "text/plain": [
       "<IPython.core.display.HTML object>"
      ]
     },
     "execution_count": 8,
     "metadata": {},
     "output_type": "execute_result"
    }
   ],
   "source": [
    "latex_rendering = [\"$$ a_0 = 0 $$\"]\n",
    "\n",
    "for i in range(len(g1)):\n",
    "    latex_rendering.append(\"$$\" + sp.latex(g1[i].simplify()) + \"$$\")\n",
    "    \n",
    "HTML(\"\".join(latex_rendering[1:]))"
   ]
  },
  {
   "cell_type": "markdown",
   "metadata": {},
   "source": [
    "<b>Introduction</b>\n",
    "\n",
    "<i>Goal</i>: find pattern in these numbers. \n",
    "\n",
    "<i>Observe</i>: Patterns occuring in indices, powers, coefficients and signs.\n",
    "\n",
    "<i>Observe</i>: All terms $a_k$ have the same total degree (k - 1) (e.g each term in $e_6$ is homogenous).\n",
    "\n",
    "<i>Observe</i>: There appears to be some kind of relationship between indices and powers (note indices are related position).\n",
    "\n",
    "<i>Definition:</i> The <b>index degree</b> of a term  $c_1^m c_2^m c_3^m $  be the sum of the products of the indices and the degrees of each of the consituent variables and the claim is that this is constant in each of the values. It appears then that the index degree is always twice the usual degree (when indices are ignored\n",
    "\n",
    "<i>Observe</i>: total usual degree is (k - 1) while the index degree is 2 (k - 1).\n",
    "    "
   ]
  },
  {
   "cell_type": "code",
   "execution_count": 9,
   "metadata": {},
   "outputs": [],
   "source": [
    "# TODO function to check indices"
   ]
  },
  {
   "cell_type": "markdown",
   "metadata": {},
   "source": [
    "<i>Strategy: </i> Place all numbers in a matrix of coefficients (of size 7 x 7) , padded with with zeros to enable pattern exploration"
   ]
  },
  {
   "cell_type": "code",
   "execution_count": 10,
   "metadata": {},
   "outputs": [
    {
     "data": {
      "text/latex": [
       "$\\displaystyle \\left[\\begin{matrix}0 & 0 & 0 & 0\\\\1 & 0 & 0 & 0\\\\1 & 0 & 0 & 0\\\\2 & 1 & 0 & 0\\\\5 & 5 & 0 & 0\\\\14 & 21 & 3 & 0\\\\42 & 84 & 28 & 0\\\\132 & 330 & 180 & 12\\end{matrix}\\right]$"
      ],
      "text/plain": [
       "Matrix([\n",
       "[  0,   0,   0,  0],\n",
       "[  1,   0,   0,  0],\n",
       "[  1,   0,   0,  0],\n",
       "[  2,   1,   0,  0],\n",
       "[  5,   5,   0,  0],\n",
       "[ 14,  21,   3,  0],\n",
       "[ 42,  84,  28,  0],\n",
       "[132, 330, 180, 12]])"
      ]
     },
     "execution_count": 10,
     "metadata": {},
     "output_type": "execute_result"
    }
   ],
   "source": [
    "# Let g8 be a matrix of the coefficients for the general solution of primes \n",
    "arraySize = 4\n",
    "\n",
    "g2 = [g1[i].simplify().rhs for i in range(len(g1))]\n",
    "g3 = [sp.fraction(x)[0].expand() for x in g2]\n",
    "g4 = [sp.Poly(g3[i]).coeffs() for i in range(2,len(g3))]\n",
    "\n",
    "# Let g5 and g6 be filled array of numerator values\n",
    "g5 = [np.pad(np.abs(np.array([g3[i]])), (0, arraySize - len(np.array([g3[i]])))) for i in range(0, len(g3[0:2]))]\n",
    "g6 = [np.pad(np.flip(np.abs(np.array(g4[i]))), (0, arraySize - len(g4[i]))) for i in range(len(g4))]\n",
    "\n",
    "g7 = g5 + g6\n",
    "g8 = sp.Matrix(np.stack(g7, axis = 0))\n",
    "g8"
   ]
  },
  {
   "cell_type": "markdown",
   "metadata": {},
   "source": [
    "<i>Strategy</i>: Prime decomposition"
   ]
  },
  {
   "cell_type": "code",
   "execution_count": 6,
   "metadata": {},
   "outputs": [
    {
     "data": {
      "text/latex": [
       "$\\displaystyle \\left[\\begin{matrix}\\left[ \\right] & \\left[ \\right] & \\left[ \\right] & \\left[ \\right]\\\\\\left[ \\right] & \\left[ \\right] & \\left[ \\right] & \\left[ \\right]\\\\\\left[ \\right] & \\left[ \\right] & \\left[ \\right] & \\left[ \\right]\\\\\\left[ 2\\right] & \\left[ \\right] & \\left[ \\right] & \\left[ \\right]\\\\\\left[ 5\\right] & \\left[ 5\\right] & \\left[ \\right] & \\left[ \\right]\\\\\\left[ 2, \\  7\\right] & \\left[ 3, \\  7\\right] & \\left[ 3\\right] & \\left[ \\right]\\\\\\left[ 2, \\  3, \\  7\\right] & \\left[ 2, \\  3, \\  7\\right] & \\left[ 2, \\  7\\right] & \\left[ \\right]\\\\\\left[ 2, \\  3, \\  11\\right] & \\left[ 2, \\  3, \\  5, \\  11\\right] & \\left[ 2, \\  3, \\  5\\right] & \\left[ 2, \\  3\\right]\\end{matrix}\\right]$"
      ],
      "text/plain": [
       "Matrix([\n",
       "[        [],            [],        [],     []],\n",
       "[        [],            [],        [],     []],\n",
       "[        [],            [],        [],     []],\n",
       "[       [2],            [],        [],     []],\n",
       "[       [5],           [5],        [],     []],\n",
       "[    [2, 7],        [3, 7],       [3],     []],\n",
       "[ [2, 3, 7],     [2, 3, 7],    [2, 7],     []],\n",
       "[[2, 3, 11], [2, 3, 5, 11], [2, 3, 5], [2, 3]]])"
      ]
     },
     "execution_count": 6,
     "metadata": {},
     "output_type": "execute_result"
    }
   ],
   "source": [
    "# Let g9 be g8 under prime decomposition\n",
    "g9 = g8.applyfunc(sp.primefactors)\n",
    "g9"
   ]
  },
  {
   "cell_type": "markdown",
   "metadata": {},
   "source": [
    "<i>Strategy</i>: Examine in the contdext of $c_1, c_2$ and $c_3$"
   ]
  },
  {
   "cell_type": "code",
   "execution_count": 11,
   "metadata": {},
   "outputs": [
    {
     "data": {
      "text/latex": [
       "$\\displaystyle \\left[\\begin{matrix}0 & 0 & 0 & 0\\\\1 & 0 & 0 & 0\\\\1 & \\left|{c_{2}}\\right| & 0 & 0\\\\2 \\left|{c_{2}^{2}}\\right| & \\left|{c_{1} c_{3}}\\right| & 0 & 0\\\\5 \\left|{c_{2}^{3}}\\right| & 5 \\left|{c_{1} c_{2} c_{3}}\\right| & 0 & 0\\\\14 \\left|{c_{2}^{4}}\\right| & 3 \\left|{c_{1}^{2} c_{3}^{2}}\\right| & 21 \\left|{c_{1} c_{2}^{2} c_{3}}\\right| & 0\\\\42 \\left|{c_{2}^{5}}\\right| & 28 \\left|{c_{1}^{2} c_{2} c_{3}^{2}}\\right| & 84 \\left|{c_{1} c_{2}^{3} c_{3}}\\right| & 0\\\\132 \\left|{c_{2}^{6}}\\right| & 12 \\left|{c_{1}^{3} c_{3}^{3}}\\right| & 180 \\left|{c_{1}^{2} c_{2}^{2} c_{3}^{2}}\\right| & 330 \\left|{c_{1} c_{2}^{4} c_{3}}\\right|\\end{matrix}\\right]$"
      ],
      "text/plain": [
       "Matrix([\n",
       "[              0,                         0,                             0,                       0],\n",
       "[              1,                         0,                             0,                       0],\n",
       "[              1,                  Abs(c_2),                             0,                       0],\n",
       "[  2*Abs(c_2**2),              Abs(c_1*c_3),                             0,                       0],\n",
       "[  5*Abs(c_2**3),        5*Abs(c_1*c_2*c_3),                             0,                       0],\n",
       "[ 14*Abs(c_2**4),      3*Abs(c_1**2*c_3**2),        21*Abs(c_1*c_2**2*c_3),                       0],\n",
       "[ 42*Abs(c_2**5), 28*Abs(c_1**2*c_2*c_3**2),        84*Abs(c_1*c_2**3*c_3),                       0],\n",
       "[132*Abs(c_2**6),     12*Abs(c_1**3*c_3**3), 180*Abs(c_1**2*c_2**2*c_3**2), 330*Abs(c_1*c_2**4*c_3)]])"
      ]
     },
     "execution_count": 11,
     "metadata": {},
     "output_type": "execute_result"
    }
   ],
   "source": [
    "# Let g16 be a list of all coefficeints and their \n",
    "\n",
    "g10 = [g1[i].simplify().rhs for i in range(len(g1))]\n",
    "g11 = [sp.fraction(x)[0].expand() for x in g10]\n",
    "\n",
    "\n",
    "g12 = [list(g11[i].args) for i in range(2,len(g11))]\n",
    "g12\n",
    "g13 = [np.pad(np.abs(np.array([g11[i]])), (0, arraySize - len(np.array([g11[i]])))) for i in range(0, len(g11[0:2]))]\n",
    "g14 = [np.pad(np.abs(np.array(g12[i])), (0, arraySize - len(g12[i]))) for i in range(len(g12))]\n",
    "g15 = g13 + g14\n",
    "g16 = sp.Matrix(np.stack(g15, axis = 0))\n",
    "g16"
   ]
  },
  {
   "cell_type": "code",
   "execution_count": 247,
   "metadata": {},
   "outputs": [],
   "source": [
    "# Write data that will be used again\n",
    "data = {'matrixOfCoefficients': g8,\n",
    "       'matrixOfCoeffiencientsAsDecomposedPrimes':g9,\n",
    "       'matrixOfTerms': g16}\n",
    "f = open('./SharedOutputs/SPE4.pickle', 'wb')\n",
    "pickle.dump(data, f)\n",
    "f.close()"
   ]
  },
  {
   "cell_type": "markdown",
   "metadata": {},
   "source": [
    "<b>Summary</b><br/>\n",
    "\n",
    "Looking for patterns in solutions in is a powerful strategy to understand if a solution can be generalised or has some dependency on some kind of on-series or on-sequence. Rendering numbers in matrices tends to expose these patterns and also allows the use of linear algebra to seek patterns which may not be as obvious. "
   ]
  }
 ],
 "metadata": {
  "kernelspec": {
   "display_name": "Python 3",
   "language": "python",
   "name": "python3"
  },
  "language_info": {
   "codemirror_mode": {
    "name": "ipython",
    "version": 3
   },
   "file_extension": ".py",
   "mimetype": "text/x-python",
   "name": "python",
   "nbconvert_exporter": "python",
   "pygments_lexer": "ipython3",
   "version": "3.9.2"
  }
 },
 "nbformat": 4,
 "nbformat_minor": 4
}
