{
 "cells": [
  {
   "cell_type": "markdown",
   "metadata": {},
   "source": [
    "### Solving Polynomial Equations: 3"
   ]
  },
  {
   "cell_type": "code",
   "execution_count": 12,
   "metadata": {},
   "outputs": [],
   "source": [
    "import sympy as sp\n",
    "from IPython.core.display import HTML\n",
    "import pickle"
   ]
  },
  {
   "cell_type": "markdown",
   "metadata": {},
   "source": [
    "Lots of interesting things to consider as we move into part 3. Now, to a degree 9 power series at least, we have values of $x$ for our general quadratic equation. Thanks to the Sloane Ecyclopedia, we have also found a generating function that may underlie the how these solutions are created. But the question is whether, as we move to higher order equations, these things still hold. \n",
    "<br/><br/>\n",
    "Before moving into the cubic case, lets recap on the findings in part 2. To get started, we will simply copy the equations from that Jupyter Notebook into this one. To start though, we will need to recreate some variables to hold everything:"
   ]
  },
  {
   "cell_type": "code",
   "execution_count": 13,
   "metadata": {},
   "outputs": [],
   "source": [
    "c_0, c_1, c_2, x, t, a_0, a_1, a_2, a_3, a_4, a_5, a_6, a_7, a_8, a_9, x_1, x_2, s_1, s_2 = sp.symbols('c_0, c_1, c_2, x, t, a_0, a_1, a_2, a_3, a_4, a_5, a_6, a_7, a_8, a_9, x_1, x_2, s_1, s_2')\n"
   ]
  },
  {
   "cell_type": "markdown",
   "metadata": {},
   "source": [
    "Here is our $x_1$ value from part 2:"
   ]
  },
  {
   "cell_type": "code",
   "execution_count": 14,
   "metadata": {},
   "outputs": [
    {
     "data": {
      "text/latex": [
       "$\\displaystyle x_{1} = - \\frac{t}{c_{1}} - \\frac{c_{2} t^{2}}{c_{1}^{3}} - \\frac{2 c_{2}^{2} t^{3}}{c_{1}^{5}} - \\frac{5 c_{2}^{3} t^{4}}{c_{1}^{7}} - \\frac{14 c_{2}^{4} t^{5}}{c_{1}^{9}} - \\frac{42 c_{2}^{5} t^{6}}{c_{1}^{11}} - \\frac{132 c_{2}^{6} t^{7}}{c_{1}^{13}} - \\frac{429 c_{2}^{7} t^{8}}{c_{1}^{15}} - \\frac{1430 c_{2}^{8} t^{9}}{c_{1}^{17}}$"
      ],
      "text/plain": [
       "Eq(x_1, -t/c_1 - c_2*t**2/c_1**3 - 2*c_2**2*t**3/c_1**5 - 5*c_2**3*t**4/c_1**7 - 14*c_2**4*t**5/c_1**9 - 42*c_2**5*t**6/c_1**11 - 132*c_2**6*t**7/c_1**13 - 429*c_2**7*t**8/c_1**15 - 1430*c_2**8*t**9/c_1**17)"
      ]
     },
     "execution_count": 14,
     "metadata": {},
     "output_type": "execute_result"
    }
   ],
   "source": [
    "x_1 = sp.Eq(x_1, -t/c_1 - c_2*t**2/c_1**3 - 2*c_2**2*t**3/c_1**5 - 5*c_2**3*t**4/c_1**7 - 14*c_2**4*t**5/c_1**9 - 42*c_2**5*t**6/c_1**11 - 132*c_2**6*t**7/c_1**13 - 429*c_2**7*t**8/c_1**15 - 1430*c_2**8*t**9/c_1**17)\n",
    "x_1"
   ]
  },
  {
   "cell_type": "markdown",
   "metadata": {},
   "source": [
    "And our $x_2$ value from part 2:"
   ]
  },
  {
   "cell_type": "code",
   "execution_count": 15,
   "metadata": {},
   "outputs": [
    {
     "data": {
      "text/latex": [
       "$\\displaystyle x_{2} = - \\frac{c_{1}}{c_{2}} + \\frac{t}{c_{1}} + \\frac{c_{2} t^{2}}{c_{1}^{3}} + \\frac{2 c_{2}^{2} t^{3}}{c_{1}^{5}} + \\frac{5 c_{2}^{3} t^{4}}{c_{1}^{7}} + \\frac{14 c_{2}^{4} t^{5}}{c_{1}^{9}} + \\frac{42 c_{2}^{5} t^{6}}{c_{1}^{11}} + \\frac{132 c_{2}^{6} t^{7}}{c_{1}^{13}} + \\frac{429 c_{2}^{7} t^{8}}{c_{1}^{15}} + \\frac{1430 c_{2}^{8} t^{9}}{c_{1}^{17}}$"
      ],
      "text/plain": [
       "Eq(x_2, -c_1/c_2 + t/c_1 + c_2*t**2/c_1**3 + 2*c_2**2*t**3/c_1**5 + 5*c_2**3*t**4/c_1**7 + 14*c_2**4*t**5/c_1**9 + 42*c_2**5*t**6/c_1**11 + 132*c_2**6*t**7/c_1**13 + 429*c_2**7*t**8/c_1**15 + 1430*c_2**8*t**9/c_1**17)"
      ]
     },
     "execution_count": 15,
     "metadata": {},
     "output_type": "execute_result"
    }
   ],
   "source": [
    "x_2 = sp.Eq(x_2, -c_1/c_2 + t/c_1 + c_2*t**2/c_1**3 + 2*c_2**2*t**3/c_1**5 + 5*c_2**3*t**4/c_1**7 + 14*c_2**4*t**5/c_1**9 + 42*c_2**5*t**6/c_1**11 + 132*c_2**6*t**7/c_1**13 + 429*c_2**7*t**8/c_1**15 + 1430*c_2**8*t**9/c_1**17)\n",
    "x_2"
   ]
  },
  {
   "cell_type": "markdown",
   "metadata": {},
   "source": [
    "Now let's be really clear about what we are saying here. For a quardratic equation in the form $c_{1} x + c_{2} x^{2} + t = 0$, I can solve for the roots by substituting in the coeffecients. \n",
    "\n",
    "Let's test this out: "
   ]
  },
  {
   "cell_type": "code",
   "execution_count": 28,
   "metadata": {},
   "outputs": [
    {
     "data": {
      "text/plain": [
       "[12755841867692369138582836494618454917120, 4.268797399685364e+19]"
      ]
     },
     "execution_count": 28,
     "metadata": {},
     "output_type": "execute_result"
    }
   ],
   "source": [
    "def get_roots(c_1, c_2, t):\n",
    "    x_1 = 4862*c_2**9*t**10/c_1**18 + 7072*c_2**10*t**11/c_1**20 + 15470*c_2**11*t**12/c_1**22 + 37400*c_2**12*t**13/c_1**24 + 93500*c_2**13*t**14/c_1**26 + 233376*c_2**14*t**15/c_1**28 + 561561*c_2**15*t**16/c_1**30 + 1226940*c_2**16*t**17/c_1**32 + 2044900*c_2**17*t**18/c_1**34\n",
    "    x_2 = -c_1/c_2 + t/c_1 + c_2*t**2/c_1**3 + 2*c_2**2*t**3/c_1**5 + 5*c_2**3*t**4/c_1**7 + 14*c_2**4*t**5/c_1**9 + 42*c_2**5*t**6/c_1**11 + 132*c_2**6*t**7/c_1**13 + 429*c_2**7*t**8/c_1**15 + 1430*c_2**8*t**9/c_1**17\n",
    "    \n",
    "    return([x_1, float(x_2)])\n",
    "get_roots(1, 7, 12)"
   ]
  },
  {
   "cell_type": "markdown",
   "metadata": {},
   "source": [
    "Recall we also tested these values against the original quadratic function by plugging them in and expanding things out, so we will includ these results also. <br/> For $x_1$ going into the general quadratic $t + c_0x + c_1x^2 = 0$:"
   ]
  },
  {
   "cell_type": "code",
   "execution_count": 26,
   "metadata": {},
   "outputs": [
    {
     "data": {
      "text/latex": [
       "$\\displaystyle \\frac{4862 c_{2}^{9} t^{10}}{c_{1}^{18}} + \\frac{7072 c_{2}^{10} t^{11}}{c_{1}^{20}} + \\frac{15470 c_{2}^{11} t^{12}}{c_{1}^{22}} + \\frac{37400 c_{2}^{12} t^{13}}{c_{1}^{24}} + \\frac{93500 c_{2}^{13} t^{14}}{c_{1}^{26}} + \\frac{233376 c_{2}^{14} t^{15}}{c_{1}^{28}} + \\frac{561561 c_{2}^{15} t^{16}}{c_{1}^{30}} + \\frac{1226940 c_{2}^{16} t^{17}}{c_{1}^{32}} + \\frac{2044900 c_{2}^{17} t^{18}}{c_{1}^{34}} = 0$"
      ],
      "text/plain": [
       "Eq(4862*c_2**9*t**10/c_1**18 + 7072*c_2**10*t**11/c_1**20 + 15470*c_2**11*t**12/c_1**22 + 37400*c_2**12*t**13/c_1**24 + 93500*c_2**13*t**14/c_1**26 + 233376*c_2**14*t**15/c_1**28 + 561561*c_2**15*t**16/c_1**30 + 1226940*c_2**16*t**17/c_1**32 + 2044900*c_2**17*t**18/c_1**34, 0)"
      ]
     },
     "execution_count": 26,
     "metadata": {},
     "output_type": "execute_result"
    }
   ],
   "source": [
    "s_1 = sp.Eq(4862*c_2**9*t**10/c_1**18 + 7072*c_2**10*t**11/c_1**20 + 15470*c_2**11*t**12/c_1**22 + 37400*c_2**12*t**13/c_1**24 + 93500*c_2**13*t**14/c_1**26 + 233376*c_2**14*t**15/c_1**28 + 561561*c_2**15*t**16/c_1**30 + 1226940*c_2**16*t**17/c_1**32 + 2044900*c_2**17*t**18/c_1**34, 0)\n",
    "s_1"
   ]
  },
  {
   "cell_type": "markdown",
   "metadata": {},
   "source": [
    "And for $x_2$:"
   ]
  },
  {
   "cell_type": "code",
   "execution_count": 6,
   "metadata": {},
   "outputs": [
    {
     "data": {
      "text/latex": [
       "$\\displaystyle \\frac{4862 c_{2}^{9} t^{10}}{c_{1}^{18}} + \\frac{7072 c_{2}^{10} t^{11}}{c_{1}^{20}} + \\frac{15470 c_{2}^{11} t^{12}}{c_{1}^{22}} + \\frac{37400 c_{2}^{12} t^{13}}{c_{1}^{24}} + \\frac{93500 c_{2}^{13} t^{14}}{c_{1}^{26}} + \\frac{233376 c_{2}^{14} t^{15}}{c_{1}^{28}} + \\frac{561561 c_{2}^{15} t^{16}}{c_{1}^{30}} + \\frac{1226940 c_{2}^{16} t^{17}}{c_{1}^{32}} + \\frac{2044900 c_{2}^{17} t^{18}}{c_{1}^{34}} = 0$"
      ],
      "text/plain": [
       "Eq(4862*c_2**9*t**10/c_1**18 + 7072*c_2**10*t**11/c_1**20 + 15470*c_2**11*t**12/c_1**22 + 37400*c_2**12*t**13/c_1**24 + 93500*c_2**13*t**14/c_1**26 + 233376*c_2**14*t**15/c_1**28 + 561561*c_2**15*t**16/c_1**30 + 1226940*c_2**16*t**17/c_1**32 + 2044900*c_2**17*t**18/c_1**34, 0)"
      ]
     },
     "execution_count": 6,
     "metadata": {},
     "output_type": "execute_result"
    }
   ],
   "source": [
    "s_2 = sp.Eq(4862*c_2**9*t**10/c_1**18 + 7072*c_2**10*t**11/c_1**20 + 15470*c_2**11*t**12/c_1**22 + 37400*c_2**12*t**13/c_1**24 + 93500*c_2**13*t**14/c_1**26 + 233376*c_2**14*t**15/c_1**28 + 561561*c_2**15*t**16/c_1**30 + 1226940*c_2**16*t**17/c_1**32 + 2044900*c_2**17*t**18/c_1**34, 0)\n",
    "s_2"
   ]
  },
  {
   "cell_type": "markdown",
   "metadata": {},
   "source": [
    "It is of course quite cumbersome to write out the values of $x_1$ and $x_2$ above. So lets adjust our notation, taking advantage that these values relate to the Catalan Numbers and use notation of summation. Lets rewrite $x_1$ in this way: \n",
    "$$  x_1 = -\\sum_{k=1}^9 C(k - 1)\\frac{c_2^{k-1}}{c_1^{2k - 1}}t^k$$"
   ]
  },
  {
   "cell_type": "markdown",
   "metadata": {},
   "source": [
    "and also $x_2$ in this way:\n",
    "\n",
    "$$  x_2 = -\\frac{c_1}{c_2} + \\sum_{k=1}^9 C(k - 1)\\frac{c_2^{k-1}}{c_1^{2k - 1}}t^k   $$"
   ]
  },
  {
   "cell_type": "markdown",
   "metadata": {},
   "source": [
    "Important to keep in mind, that nothing has changed. We are simply using the summation notation to express $x_1$ and $x_2$.  Now we need to be clear that still can only say with certainty what happens up to degree 9, but at the same time it makes sense to also the more general case which, while still unproven, describes where things are heading. So for $x_1$: \n",
    "\n",
    "$$  x_1 = -\\sum_{k=1}^+ C(k - 1)\\frac{c_2^{k-1}}{c_1^{2k - 1}}t^k$$"
   ]
  },
  {
   "cell_type": "markdown",
   "metadata": {},
   "source": [
    "And for $x_2$:\n",
    "\n",
    "$$  x_2 = -\\frac{c_1}{c_2} + \\sum_{k=1}^+ C(k - 1)\\frac{c_2^{k-1}}{c_1^{2k - 1}}t^k   $$"
   ]
  },
  {
   "cell_type": "markdown",
   "metadata": {},
   "source": [
    "Also keep in mind that the implication of the above that these things are infinite: we are not pretending we can get to infinity. Rather, these formulas should be viewed as expressions on that describe how arithmetic in question works. It may be something that is ongoing, but it is expected that it can be finitely specifiable, and finitely checkable.- expression we need to do more work on <br/><br/>\n",
    "In any case, there is much more work to be done before we can arrive at a proven formula. We haven't proven the above in the quadratic case, though we have made some calculations that are shedding light on the situation. And we haven't moved to a cubic case. So let's do that now."
   ]
  },
  {
   "cell_type": "markdown",
   "metadata": {},
   "source": [
    "### The cubic case"
   ]
  },
  {
   "cell_type": "markdown",
   "metadata": {},
   "source": [
    "Set up is similiar to before. We will start with a general equation (cubic this time), let $t = 0$, let $x$ be an unknown power series in $t$, solve for the $a_i$ in terms of $c_1, c_2$ and $c_3$, and put the values back into theoriginal equation. \n",
    "And we will assume $c_0$ and $c_2$ are not 0, $t^8 = 0$\n",
    "<br/><br/>\n",
    "Start by creating some variables: "
   ]
  },
  {
   "cell_type": "code",
   "execution_count": 7,
   "metadata": {},
   "outputs": [],
   "source": [
    "a_0, a_1, a_2, a_3, a_4, a_5, a_6, t, c_1, c_2, c_3, x = sp.symbols('a_0, a_1, a_2, a_3, a_4, a_5, a_6, t, c_1, c_2, c_3, x ')"
   ]
  },
  {
   "cell_type": "markdown",
   "metadata": {},
   "source": [
    "Here is our general cubic equation:"
   ]
  },
  {
   "cell_type": "code",
   "execution_count": 8,
   "metadata": {},
   "outputs": [
    {
     "data": {
      "text/latex": [
       "$\\displaystyle c_{1} x + c_{2} x^{2} + c_{3} x^{3} + t = 0$"
      ],
      "text/plain": [
       "Eq(c_1*x + c_2*x**2 + c_3*x**3 + t, 0)"
      ]
     },
     "execution_count": 8,
     "metadata": {},
     "output_type": "execute_result"
    }
   ],
   "source": [
    "s1 = sp.Eq(t + c_1 * x + c_2*x^2 + c_3 * x^3, 0)\n",
    "s1"
   ]
  },
  {
   "cell_type": "markdown",
   "metadata": {},
   "source": [
    "We will need our power series subsitution for x:"
   ]
  },
  {
   "cell_type": "code",
   "execution_count": 9,
   "metadata": {},
   "outputs": [
    {
     "data": {
      "text/latex": [
       "$\\displaystyle a_{0} + a_{1} t + a_{2} t^{2} + a_{3} t^{3} + a_{4} t^{4} + a_{5} t^{5} + a_{6} t^{6} + a_{7} t^{7}$"
      ],
      "text/plain": [
       "a_0 + a_1*t + a_2*t**2 + a_3*t**3 + a_4*t**4 + a_5*t**5 + a_6*t**6 + a_7*t**7"
      ]
     },
     "execution_count": 9,
     "metadata": {},
     "output_type": "execute_result"
    }
   ],
   "source": [
    "subs_for_x = a_0 + a_1 * t + a_2*t^2 + a_3*t^3 + a_4*t^4 + a_5*t^5 + a_6*t^6 + a_7*t^7\n",
    "subs_for_x"
   ]
  },
  {
   "cell_type": "markdown",
   "metadata": {},
   "source": [
    "And now substitute it into the general cubic:"
   ]
  },
  {
   "cell_type": "code",
   "execution_count": 10,
   "metadata": {},
   "outputs": [
    {
     "data": {
      "text/latex": [
       "$\\displaystyle x = a_{0} + a_{1} t + a_{2} t^{2} + a_{3} t^{3} + a_{4} t^{4} + a_{5} t^{5} + a_{6} t^{6} + a_{7} t^{7}$"
      ],
      "text/plain": [
       "Eq(x, a_0 + a_1*t + a_2*t**2 + a_3*t**3 + a_4*t**4 + a_5*t**5 + a_6*t**6 + a_7*t**7)"
      ]
     },
     "execution_count": 10,
     "metadata": {},
     "output_type": "execute_result"
    }
   ],
   "source": [
    "r1_5 = sp.Eq(x, subs_for_x)\n",
    "r1_5"
   ]
  },
  {
   "cell_type": "code",
   "execution_count": 11,
   "metadata": {},
   "outputs": [
    {
     "data": {
      "text/latex": [
       "$\\displaystyle c_{1} \\left(a_{0} + a_{1} t + a_{2} t^{2} + a_{3} t^{3} + a_{4} t^{4} + a_{5} t^{5} + a_{6} t^{6} + a_{7} t^{7}\\right) + c_{2} \\left(a_{0} + a_{1} t + a_{2} t^{2} + a_{3} t^{3} + a_{4} t^{4} + a_{5} t^{5} + a_{6} t^{6} + a_{7} t^{7}\\right)^{2} + c_{3} \\left(a_{0} + a_{1} t + a_{2} t^{2} + a_{3} t^{3} + a_{4} t^{4} + a_{5} t^{5} + a_{6} t^{6} + a_{7} t^{7}\\right)^{3} + t = 0$"
      ],
      "text/plain": [
       "Eq(c_1*(a_0 + a_1*t + a_2*t**2 + a_3*t**3 + a_4*t**4 + a_5*t**5 + a_6*t**6 + a_7*t**7) + c_2*(a_0 + a_1*t + a_2*t**2 + a_3*t**3 + a_4*t**4 + a_5*t**5 + a_6*t**6 + a_7*t**7)**2 + c_3*(a_0 + a_1*t + a_2*t**2 + a_3*t**3 + a_4*t**4 + a_5*t**5 + a_6*t**6 + a_7*t**7)**3 + t, 0)"
      ]
     },
     "execution_count": 11,
     "metadata": {},
     "output_type": "execute_result"
    }
   ],
   "source": [
    "s2 = s1.subs(x, subs_for_x)\n",
    "s2"
   ]
  },
  {
   "cell_type": "markdown",
   "metadata": {},
   "source": [
    "Now expand it out:"
   ]
  },
  {
   "cell_type": "code",
   "execution_count": 12,
   "metadata": {},
   "outputs": [],
   "source": [
    "s3 = s2.expand()\n",
    "#s3\n",
    "# SymPy Note: Jupyer notebook seems to get a little laggy once there are quite a few big outputs like below. So you might \n",
    "# consider not printing everything out as you go if you find this."
   ]
  },
  {
   "cell_type": "markdown",
   "metadata": {},
   "source": [
    "Its seems pretty unweildy, but the good news that we can truncate this, and take advantage of our assumption that $t^8=0$:"
   ]
  },
  {
   "cell_type": "code",
   "execution_count": 13,
   "metadata": {},
   "outputs": [
    {
     "data": {
      "text/latex": [
       "$\\displaystyle a_{0}^{3} c_{3} + a_{0}^{2} c_{2} + a_{0} c_{1} + t^{7} \\left(3 a_{0}^{2} a_{7} c_{3} + 6 a_{0} a_{1} a_{6} c_{3} + 6 a_{0} a_{2} a_{5} c_{3} + 6 a_{0} a_{3} a_{4} c_{3} + 2 a_{0} a_{7} c_{2} + 3 a_{1}^{2} a_{5} c_{3} + 6 a_{1} a_{2} a_{4} c_{3} + 3 a_{1} a_{3}^{2} c_{3} + 2 a_{1} a_{6} c_{2} + 3 a_{2}^{2} a_{3} c_{3} + 2 a_{2} a_{5} c_{2} + 2 a_{3} a_{4} c_{2} + a_{7} c_{1}\\right) + t^{6} \\left(3 a_{0}^{2} a_{6} c_{3} + 6 a_{0} a_{1} a_{5} c_{3} + 6 a_{0} a_{2} a_{4} c_{3} + 3 a_{0} a_{3}^{2} c_{3} + 2 a_{0} a_{6} c_{2} + 3 a_{1}^{2} a_{4} c_{3} + 6 a_{1} a_{2} a_{3} c_{3} + 2 a_{1} a_{5} c_{2} + a_{2}^{3} c_{3} + 2 a_{2} a_{4} c_{2} + a_{3}^{2} c_{2} + a_{6} c_{1}\\right) + t^{5} \\left(3 a_{0}^{2} a_{5} c_{3} + 6 a_{0} a_{1} a_{4} c_{3} + 6 a_{0} a_{2} a_{3} c_{3} + 2 a_{0} a_{5} c_{2} + 3 a_{1}^{2} a_{3} c_{3} + 3 a_{1} a_{2}^{2} c_{3} + 2 a_{1} a_{4} c_{2} + 2 a_{2} a_{3} c_{2} + a_{5} c_{1}\\right) + t^{4} \\left(3 a_{0}^{2} a_{4} c_{3} + 6 a_{0} a_{1} a_{3} c_{3} + 3 a_{0} a_{2}^{2} c_{3} + 2 a_{0} a_{4} c_{2} + 3 a_{1}^{2} a_{2} c_{3} + 2 a_{1} a_{3} c_{2} + a_{2}^{2} c_{2} + a_{4} c_{1}\\right) + t^{3} \\left(3 a_{0}^{2} a_{3} c_{3} + 6 a_{0} a_{1} a_{2} c_{3} + 2 a_{0} a_{3} c_{2} + a_{1}^{3} c_{3} + 2 a_{1} a_{2} c_{2} + a_{3} c_{1}\\right) + t^{2} \\left(3 a_{0}^{2} a_{2} c_{3} + 3 a_{0} a_{1}^{2} c_{3} + 2 a_{0} a_{2} c_{2} + a_{1}^{2} c_{2} + a_{2} c_{1}\\right) + t \\left(3 a_{0}^{2} a_{1} c_{3} + 2 a_{0} a_{1} c_{2} + a_{1} c_{1} + 1\\right)$"
      ],
      "text/plain": [
       "a_0**3*c_3 + a_0**2*c_2 + a_0*c_1 + t**7*(3*a_0**2*a_7*c_3 + 6*a_0*a_1*a_6*c_3 + 6*a_0*a_2*a_5*c_3 + 6*a_0*a_3*a_4*c_3 + 2*a_0*a_7*c_2 + 3*a_1**2*a_5*c_3 + 6*a_1*a_2*a_4*c_3 + 3*a_1*a_3**2*c_3 + 2*a_1*a_6*c_2 + 3*a_2**2*a_3*c_3 + 2*a_2*a_5*c_2 + 2*a_3*a_4*c_2 + a_7*c_1) + t**6*(3*a_0**2*a_6*c_3 + 6*a_0*a_1*a_5*c_3 + 6*a_0*a_2*a_4*c_3 + 3*a_0*a_3**2*c_3 + 2*a_0*a_6*c_2 + 3*a_1**2*a_4*c_3 + 6*a_1*a_2*a_3*c_3 + 2*a_1*a_5*c_2 + a_2**3*c_3 + 2*a_2*a_4*c_2 + a_3**2*c_2 + a_6*c_1) + t**5*(3*a_0**2*a_5*c_3 + 6*a_0*a_1*a_4*c_3 + 6*a_0*a_2*a_3*c_3 + 2*a_0*a_5*c_2 + 3*a_1**2*a_3*c_3 + 3*a_1*a_2**2*c_3 + 2*a_1*a_4*c_2 + 2*a_2*a_3*c_2 + a_5*c_1) + t**4*(3*a_0**2*a_4*c_3 + 6*a_0*a_1*a_3*c_3 + 3*a_0*a_2**2*c_3 + 2*a_0*a_4*c_2 + 3*a_1**2*a_2*c_3 + 2*a_1*a_3*c_2 + a_2**2*c_2 + a_4*c_1) + t**3*(3*a_0**2*a_3*c_3 + 6*a_0*a_1*a_2*c_3 + 2*a_0*a_3*c_2 + a_1**3*c_3 + 2*a_1*a_2*c_2 + a_3*c_1) + t**2*(3*a_0**2*a_2*c_3 + 3*a_0*a_1**2*c_3 + 2*a_0*a_2*c_2 + a_1**2*c_2 + a_2*c_1) + t*(3*a_0**2*a_1*c_3 + 2*a_0*a_1*c_2 + a_1*c_1 + 1)"
      ]
     },
     "execution_count": 13,
     "metadata": {},
     "output_type": "execute_result"
    }
   ],
   "source": [
    "order = 8\n",
    "coeffs = sp.Poly(s3, t).coeffs()\n",
    "s4= sum(t**n * coeffs[-(n+1)] for n in range(order))\n",
    "s4"
   ]
  },
  {
   "cell_type": "markdown",
   "metadata": {},
   "source": [
    "Looking more manageable now. Let's set it to 0 as our equation became and expression in that last step:"
   ]
  },
  {
   "cell_type": "code",
   "execution_count": 14,
   "metadata": {},
   "outputs": [
    {
     "data": {
      "text/latex": [
       "$\\displaystyle a_{0}^{3} c_{3} + a_{0}^{2} c_{2} + a_{0} c_{1} + t^{7} \\left(3 a_{0}^{2} a_{7} c_{3} + 6 a_{0} a_{1} a_{6} c_{3} + 6 a_{0} a_{2} a_{5} c_{3} + 6 a_{0} a_{3} a_{4} c_{3} + 2 a_{0} a_{7} c_{2} + 3 a_{1}^{2} a_{5} c_{3} + 6 a_{1} a_{2} a_{4} c_{3} + 3 a_{1} a_{3}^{2} c_{3} + 2 a_{1} a_{6} c_{2} + 3 a_{2}^{2} a_{3} c_{3} + 2 a_{2} a_{5} c_{2} + 2 a_{3} a_{4} c_{2} + a_{7} c_{1}\\right) + t^{6} \\left(3 a_{0}^{2} a_{6} c_{3} + 6 a_{0} a_{1} a_{5} c_{3} + 6 a_{0} a_{2} a_{4} c_{3} + 3 a_{0} a_{3}^{2} c_{3} + 2 a_{0} a_{6} c_{2} + 3 a_{1}^{2} a_{4} c_{3} + 6 a_{1} a_{2} a_{3} c_{3} + 2 a_{1} a_{5} c_{2} + a_{2}^{3} c_{3} + 2 a_{2} a_{4} c_{2} + a_{3}^{2} c_{2} + a_{6} c_{1}\\right) + t^{5} \\left(3 a_{0}^{2} a_{5} c_{3} + 6 a_{0} a_{1} a_{4} c_{3} + 6 a_{0} a_{2} a_{3} c_{3} + 2 a_{0} a_{5} c_{2} + 3 a_{1}^{2} a_{3} c_{3} + 3 a_{1} a_{2}^{2} c_{3} + 2 a_{1} a_{4} c_{2} + 2 a_{2} a_{3} c_{2} + a_{5} c_{1}\\right) + t^{4} \\left(3 a_{0}^{2} a_{4} c_{3} + 6 a_{0} a_{1} a_{3} c_{3} + 3 a_{0} a_{2}^{2} c_{3} + 2 a_{0} a_{4} c_{2} + 3 a_{1}^{2} a_{2} c_{3} + 2 a_{1} a_{3} c_{2} + a_{2}^{2} c_{2} + a_{4} c_{1}\\right) + t^{3} \\left(3 a_{0}^{2} a_{3} c_{3} + 6 a_{0} a_{1} a_{2} c_{3} + 2 a_{0} a_{3} c_{2} + a_{1}^{3} c_{3} + 2 a_{1} a_{2} c_{2} + a_{3} c_{1}\\right) + t^{2} \\left(3 a_{0}^{2} a_{2} c_{3} + 3 a_{0} a_{1}^{2} c_{3} + 2 a_{0} a_{2} c_{2} + a_{1}^{2} c_{2} + a_{2} c_{1}\\right) + t \\left(3 a_{0}^{2} a_{1} c_{3} + 2 a_{0} a_{1} c_{2} + a_{1} c_{1} + 1\\right) = 0$"
      ],
      "text/plain": [
       "Eq(a_0**3*c_3 + a_0**2*c_2 + a_0*c_1 + t**7*(3*a_0**2*a_7*c_3 + 6*a_0*a_1*a_6*c_3 + 6*a_0*a_2*a_5*c_3 + 6*a_0*a_3*a_4*c_3 + 2*a_0*a_7*c_2 + 3*a_1**2*a_5*c_3 + 6*a_1*a_2*a_4*c_3 + 3*a_1*a_3**2*c_3 + 2*a_1*a_6*c_2 + 3*a_2**2*a_3*c_3 + 2*a_2*a_5*c_2 + 2*a_3*a_4*c_2 + a_7*c_1) + t**6*(3*a_0**2*a_6*c_3 + 6*a_0*a_1*a_5*c_3 + 6*a_0*a_2*a_4*c_3 + 3*a_0*a_3**2*c_3 + 2*a_0*a_6*c_2 + 3*a_1**2*a_4*c_3 + 6*a_1*a_2*a_3*c_3 + 2*a_1*a_5*c_2 + a_2**3*c_3 + 2*a_2*a_4*c_2 + a_3**2*c_2 + a_6*c_1) + t**5*(3*a_0**2*a_5*c_3 + 6*a_0*a_1*a_4*c_3 + 6*a_0*a_2*a_3*c_3 + 2*a_0*a_5*c_2 + 3*a_1**2*a_3*c_3 + 3*a_1*a_2**2*c_3 + 2*a_1*a_4*c_2 + 2*a_2*a_3*c_2 + a_5*c_1) + t**4*(3*a_0**2*a_4*c_3 + 6*a_0*a_1*a_3*c_3 + 3*a_0*a_2**2*c_3 + 2*a_0*a_4*c_2 + 3*a_1**2*a_2*c_3 + 2*a_1*a_3*c_2 + a_2**2*c_2 + a_4*c_1) + t**3*(3*a_0**2*a_3*c_3 + 6*a_0*a_1*a_2*c_3 + 2*a_0*a_3*c_2 + a_1**3*c_3 + 2*a_1*a_2*c_2 + a_3*c_1) + t**2*(3*a_0**2*a_2*c_3 + 3*a_0*a_1**2*c_3 + 2*a_0*a_2*c_2 + a_1**2*c_2 + a_2*c_1) + t*(3*a_0**2*a_1*c_3 + 2*a_0*a_1*c_2 + a_1*c_1 + 1), 0)"
      ]
     },
     "execution_count": 14,
     "metadata": {},
     "output_type": "execute_result"
    }
   ],
   "source": [
    "s5 = sp.Eq(s4, 0)\n",
    "s5"
   ]
  },
  {
   "cell_type": "markdown",
   "metadata": {},
   "source": [
    "As a first step, we will assume that $t = 0$ which happens a little later to isolate that first coefficient, which reduced the whole thing to - I m doing it now just to keep the memory manageemable, but this happens a little later Note that in the video I have changed the order for the code here a little bit, but we are heading toward the same thing, a group of seperate equatinos set to 0 being a system we can solve, and starting with t = 0: idea is htat we geta  solution for t = 0 for a_0, then usethis in the other equations"
   ]
  },
  {
   "cell_type": "code",
   "execution_count": 15,
   "metadata": {},
   "outputs": [
    {
     "data": {
      "text/latex": [
       "$\\displaystyle a_{0}^{3} c_{3} + a_{0}^{2} c_{2} + a_{0} c_{1} = 0$"
      ],
      "text/plain": [
       "Eq(a_0**3*c_3 + a_0**2*c_2 + a_0*c_1, 0)"
      ]
     },
     "execution_count": 15,
     "metadata": {},
     "output_type": "execute_result"
    }
   ],
   "source": [
    "s6 = sp.Poly(s5, t)\n",
    "s7 = s6.coeffs()[-1]\n",
    "s8 = sp.Eq(s7, 0)\n",
    "s8"
   ]
  },
  {
   "cell_type": "markdown",
   "metadata": {},
   "source": [
    "Now factor: \n"
   ]
  },
  {
   "cell_type": "code",
   "execution_count": 16,
   "metadata": {},
   "outputs": [
    {
     "data": {
      "text/plain": [
       "[{a_0: 0},\n",
       " {a_0: -c_2/(2*c_3) - sqrt(-4*c_1*c_3 + c_2**2)/(2*c_3)},\n",
       " {a_0: -c_2/(2*c_3) + sqrt(-4*c_1*c_3 + c_2**2)/(2*c_3)}]"
      ]
     },
     "execution_count": 16,
     "metadata": {},
     "output_type": "execute_result"
    }
   ],
   "source": [
    "s9 = sp.factor(s8, a_0)\n",
    "s10 = sp.solve(s9, a_0, dict = True)\n",
    "s10"
   ]
  },
  {
   "cell_type": "markdown",
   "metadata": {},
   "source": [
    "We have 3 solutions, one of them is 0, the others look like quadratics:"
   ]
  },
  {
   "cell_type": "code",
   "execution_count": 17,
   "metadata": {},
   "outputs": [
    {
     "data": {
      "text/latex": [
       "$\\displaystyle - \\frac{c_{2}}{2 c_{3}} - \\frac{\\sqrt{- 4 c_{1} c_{3} + c_{2}^{2}}}{2 c_{3}}$"
      ],
      "text/plain": [
       "-c_2/(2*c_3) - sqrt(-4*c_1*c_3 + c_2**2)/(2*c_3)"
      ]
     },
     "execution_count": 17,
     "metadata": {},
     "output_type": "execute_result"
    }
   ],
   "source": [
    "s10[1][a_0]"
   ]
  },
  {
   "cell_type": "code",
   "execution_count": 18,
   "metadata": {},
   "outputs": [
    {
     "data": {
      "text/latex": [
       "$\\displaystyle - \\frac{c_{2}}{2 c_{3}} + \\frac{\\sqrt{- 4 c_{1} c_{3} + c_{2}^{2}}}{2 c_{3}}$"
      ],
      "text/plain": [
       "-c_2/(2*c_3) + sqrt(-4*c_1*c_3 + c_2**2)/(2*c_3)"
      ]
     },
     "execution_count": 18,
     "metadata": {},
     "output_type": "execute_result"
    }
   ],
   "source": [
    "s10[2][a_0]"
   ]
  },
  {
   "cell_type": "markdown",
   "metadata": {},
   "source": [
    "Let's start with the case that $a_0 = 0$. The first thing we will do is subsitute in 0 for $a_0$ wherever we can, to minimise all the computation we are about to have to do: "
   ]
  },
  {
   "cell_type": "code",
   "execution_count": 19,
   "metadata": {},
   "outputs": [
    {
     "data": {
      "text/latex": [
       "$\\displaystyle \\operatorname{Poly}{\\left( \\left(3 a_{1}^{2} a_{5} c_{3} + 6 a_{1} a_{2} a_{4} c_{3} + 3 a_{1} a_{3}^{2} c_{3} + 2 a_{1} a_{6} c_{2} + 3 a_{2}^{2} a_{3} c_{3} + 2 a_{2} a_{5} c_{2} + 2 a_{3} a_{4} c_{2} + a_{7} c_{1}\\right) t^{7} + \\left(3 a_{1}^{2} a_{4} c_{3} + 6 a_{1} a_{2} a_{3} c_{3} + 2 a_{1} a_{5} c_{2} + a_{2}^{3} c_{3} + 2 a_{2} a_{4} c_{2} + a_{3}^{2} c_{2} + a_{6} c_{1}\\right) t^{6} + \\left(3 a_{1}^{2} a_{3} c_{3} + 3 a_{1} a_{2}^{2} c_{3} + 2 a_{1} a_{4} c_{2} + 2 a_{2} a_{3} c_{2} + a_{5} c_{1}\\right) t^{5} + \\left(3 a_{1}^{2} a_{2} c_{3} + 2 a_{1} a_{3} c_{2} + a_{2}^{2} c_{2} + a_{4} c_{1}\\right) t^{4} + \\left(a_{1}^{3} c_{3} + 2 a_{1} a_{2} c_{2} + a_{3} c_{1}\\right) t^{3} + \\left(a_{1}^{2} c_{2} + a_{2} c_{1}\\right) t^{2} + \\left(a_{1} c_{1} + 1\\right) t, t, domain=\\mathbb{Z}\\left[a_{1}, a_{2}, a_{3}, a_{4}, a_{5}, a_{6}, a_{7}, c_{1}, c_{2}, c_{3}\\right] \\right)}$"
      ],
      "text/plain": [
       "Poly((3*a_1**2*a_5*c_3 + 6*a_1*a_2*a_4*c_3 + 3*a_1*a_3**2*c_3 + 2*a_1*a_6*c_2 + 3*a_2**2*a_3*c_3 + 2*a_2*a_5*c_2 + 2*a_3*a_4*c_2 + a_7*c_1)*t**7 + (3*a_1**2*a_4*c_3 + 6*a_1*a_2*a_3*c_3 + 2*a_1*a_5*c_2 + a_2**3*c_3 + 2*a_2*a_4*c_2 + a_3**2*c_2 + a_6*c_1)*t**6 + (3*a_1**2*a_3*c_3 + 3*a_1*a_2**2*c_3 + 2*a_1*a_4*c_2 + 2*a_2*a_3*c_2 + a_5*c_1)*t**5 + (3*a_1**2*a_2*c_3 + 2*a_1*a_3*c_2 + a_2**2*c_2 + a_4*c_1)*t**4 + (a_1**3*c_3 + 2*a_1*a_2*c_2 + a_3*c_1)*t**3 + (a_1**2*c_2 + a_2*c_1)*t**2 + (a_1*c_1 + 1)*t, t, domain='ZZ[a_1,a_2,a_3,a_4,a_5,a_6,a_7,c_1,c_2,c_3]')"
      ]
     },
     "execution_count": 19,
     "metadata": {},
     "output_type": "execute_result"
    }
   ],
   "source": [
    "# we will subs in a_0 for 0 here to keep things humming along \n",
    "s11 = sp.Poly(s6.subs(a_0, 0), t)\n",
    "s11"
   ]
  },
  {
   "cell_type": "markdown",
   "metadata": {},
   "source": [
    "Now create a system of so we can solve for $a_1, a_2, a_3, a_4, a_5, a_6$, and $a_7$:"
   ]
  },
  {
   "cell_type": "code",
   "execution_count": 20,
   "metadata": {},
   "outputs": [
    {
     "data": {
      "text/plain": [
       "[Eq(3*a_1**2*a_5*c_3 + 6*a_1*a_2*a_4*c_3 + 3*a_1*a_3**2*c_3 + 2*a_1*a_6*c_2 + 3*a_2**2*a_3*c_3 + 2*a_2*a_5*c_2 + 2*a_3*a_4*c_2 + a_7*c_1, 0),\n",
       " Eq(3*a_1**2*a_4*c_3 + 6*a_1*a_2*a_3*c_3 + 2*a_1*a_5*c_2 + a_2**3*c_3 + 2*a_2*a_4*c_2 + a_3**2*c_2 + a_6*c_1, 0),\n",
       " Eq(3*a_1**2*a_3*c_3 + 3*a_1*a_2**2*c_3 + 2*a_1*a_4*c_2 + 2*a_2*a_3*c_2 + a_5*c_1, 0),\n",
       " Eq(3*a_1**2*a_2*c_3 + 2*a_1*a_3*c_2 + a_2**2*c_2 + a_4*c_1, 0),\n",
       " Eq(a_1**3*c_3 + 2*a_1*a_2*c_2 + a_3*c_1, 0),\n",
       " Eq(a_1**2*c_2 + a_2*c_1, 0),\n",
       " Eq(a_1*c_1 + 1, 0)]"
      ]
     },
     "execution_count": 20,
     "metadata": {},
     "output_type": "execute_result"
    }
   ],
   "source": [
    "s12 = [sp.Eq(s11.coeffs()[i], 0) for i in range(len(s11.coeffs()))]\n",
    "s12"
   ]
  },
  {
   "cell_type": "markdown",
   "metadata": {},
   "source": [
    "Now carry our the solving of the system: <br/><br/>\n",
    "<i>BE CAREFUL HERE: I am not sure why (given Scientific Workplace does it so quickly) but this next bit of code takes about 2 minutes to run. I will get to the bottom of it, but don't panic if its taking a while!</i>"
   ]
  },
  {
   "cell_type": "code",
   "execution_count": null,
   "metadata": {},
   "outputs": [],
   "source": [
    "values_to_solve =  [a_0, a_1, a_2, a_3, a_4, a_5, a_6, a_7]\n",
    "s13 = sp.nonlinsolve(s12, values_to_solve)"
   ]
  },
  {
   "cell_type": "markdown",
   "metadata": {},
   "source": [
    "Hopefully you came out ok on the other side! We now have a group of solutions. Let's fix the formatting a little, and set up equations for our new values of $a_1, a_2, a_3, a_4, a_5, a_6$, and $a_7$:"
   ]
  },
  {
   "cell_type": "code",
   "execution_count": null,
   "metadata": {},
   "outputs": [],
   "source": [
    "solutions_as_list = list(list(s13)[0])\n",
    "r14 = [sp.Eq(solutions_as_list[i], values_to_solve[i]) for i in range(len(solutions_as_list))]\n",
    "r14"
   ]
  },
  {
   "cell_type": "markdown",
   "metadata": {},
   "source": [
    "So we end up with these values of  $a_1, a_2, a_3, a_4, a_5, a_6$, and $a_7$. Note that when SymPy brings them back, a little work is needed to around further simplifying/expanding them so they are recogniseable as the results from Scientific Workplace: "
   ]
  },
  {
   "cell_type": "code",
   "execution_count": null,
   "metadata": {},
   "outputs": [],
   "source": [
    "# You will find its getting laggy.....lets get an output\n",
    "# we need a simpler way, so lets use pickle\n",
    "\n",
    "outputs_for_reuse = {}\n",
    "outputs_for_reuse['solutions_for_a_values'] = r14\n",
    "outputs_for_reuse['general_cubic_equation'] = s1\n",
    "outputs_for_reuse['power_series_in_t_substitution_for_x'] = r1_5\n"
   ]
  },
  {
   "cell_type": "code",
   "execution_count": null,
   "metadata": {},
   "outputs": [],
   "source": [
    "latex_rendering = []\n",
    "\n",
    "for i in range(len(r14)):\n",
    "    latex_rendering.append(\"$$\" + sp.latex(r14[i].simplify()) + \"$$\")\n",
    "    \n",
    "HTML(\"\".join(latex_rendering[1:]))\n",
    "# Note: how on earth do you left align multiple lines of latex. Need to figure this out "
   ]
  },
  {
   "cell_type": "markdown",
   "metadata": {},
   "source": [
    "So now we can subs back into our x value\n"
   ]
  },
  {
   "cell_type": "code",
   "execution_count": null,
   "metadata": {},
   "outputs": [],
   "source": [
    "# we are seeing same denominator in c_1\n",
    "# Also seeing some evidence of catalan numbers, on lhs, 1, 1, 2, 5, 42, 132 - note \n",
    "# sp will do some factoring here\n",
    "\n",
    "# but also nos some additional terms that involve C3, note \n",
    "# that this extends quadratic solutino in that if, \n",
    "# we set c_3 == 0, all these other terms would dissapear\n",
    "# we would get what we would get before\n",
    "\n",
    "# We get a soluti"
   ]
  },
  {
   "cell_type": "code",
   "execution_count": null,
   "metadata": {},
   "outputs": [],
   "source": [
    "values_to_solve2 = values_to_solve[1:]\n",
    "solutions_as_list2 = solutions_as_list[1:]"
   ]
  },
  {
   "cell_type": "code",
   "execution_count": null,
   "metadata": {},
   "outputs": [],
   "source": [
    "len(values_to_solve2)\n",
    "#len(solutions_as_list2)\n"
   ]
  },
  {
   "cell_type": "code",
   "execution_count": null,
   "metadata": {},
   "outputs": [],
   "source": [
    "r15 = r1_5.subs(values_to_solve2[0], solutions_as_list2[0])\n",
    "r15 = r15.subs(values_to_solve2[1], solutions_as_list2[1].simplify())\n",
    "r15 = r15.subs(values_to_solve2[2], solutions_as_list2[2].simplify())\n",
    "r15 = r15.subs(values_to_solve2[3], solutions_as_list2[3].simplify())\n",
    "r15 = r15.subs(values_to_solve2[4], solutions_as_list2[4].simplify())\n",
    "r15 = r15.subs(values_to_solve2[5], solutions_as_list2[5].simplify())\n",
    "r15 = r15.subs(values_to_solve2[6], solutions_as_list2[6].simplify())\n",
    "\n",
    "# after going through all the solutions, subs in 0 for a_0\n",
    "r15 = r15.subs(a_0, 0)\n",
    "\n",
    "\n",
    "#Sympy Note: there must be a better way to this - relevant Sympy function, anyone?"
   ]
  },
  {
   "cell_type": "markdown",
   "metadata": {},
   "source": [
    "here is a new x value - we could use x_1"
   ]
  },
  {
   "cell_type": "code",
   "execution_count": null,
   "metadata": {},
   "outputs": [],
   "source": [
    "r15"
   ]
  },
  {
   "cell_type": "code",
   "execution_count": null,
   "metadata": {},
   "outputs": [],
   "source": [
    "outputs_for_reuse['new_value_for_x'] = r15\n",
    "with open('outputs_for_reuse.pkl', 'wb') as output:\n",
    "    pickle.dump(outputs_for_reuse, output, pickle.HIGHEST_PROTOCOL)"
   ]
  },
  {
   "cell_type": "code",
   "execution_count": null,
   "metadata": {},
   "outputs": [],
   "source": [
    "# finding cubic....also we need to check, recall that we are trying to solve "
   ]
  },
  {
   "cell_type": "code",
   "execution_count": null,
   "metadata": {},
   "outputs": [],
   "source": [
    "# recall our initial value....\n",
    "s1"
   ]
  },
  {
   "cell_type": "code",
   "execution_count": null,
   "metadata": {},
   "outputs": [],
   "source": [
    "# so we can subs in o the original equation\n",
    "r16 = s1.subs(x, r15.rhs )\n",
    "r16"
   ]
  },
  {
   "cell_type": "code",
   "execution_count": null,
   "metadata": {},
   "outputs": [],
   "source": [
    "r16.expand()"
   ]
  },
  {
   "cell_type": "code",
   "execution_count": null,
   "metadata": {},
   "outputs": [],
   "source": [
    "order = 8\n",
    "coeffs = sp.Poly(r16, t).coeffs()\n",
    "r17= sum(t**n * coeffs[-(n+1)] for n in range(order))\n",
    "r17"
   ]
  },
  {
   "cell_type": "code",
   "execution_count": null,
   "metadata": {},
   "outputs": [],
   "source": [
    "# recall we go back - this is a valid solution up to t7\n",
    "r15"
   ]
  },
  {
   "cell_type": "code",
   "execution_count": null,
   "metadata": {},
   "outputs": [],
   "source": [
    "# catalan involved - but other numbers too, how tomake sense of all constants\n",
    "# and terms\n",
    "\n",
    "# but we have new kind of solution to cubic equation\n",
    "\n",
    "# differnt to cardoano - with\n",
    "[r15]"
   ]
  },
  {
   "cell_type": "code",
   "execution_count": null,
   "metadata": {},
   "outputs": [],
   "source": []
  }
 ],
 "metadata": {
  "kernelspec": {
   "display_name": "SageMath 9.0",
   "language": "sage",
   "name": "sagemath"
  },
  "language_info": {
   "codemirror_mode": {
    "name": "ipython",
    "version": 3
   },
   "file_extension": ".py",
   "mimetype": "text/x-python",
   "name": "python",
   "nbconvert_exporter": "python",
   "pygments_lexer": "ipython3",
   "version": "3.7.3"
  }
 },
 "nbformat": 4,
 "nbformat_minor": 4
}
