{
 "cells": [
  {
   "cell_type": "code",
   "execution_count": 2,
   "id": "15e05413-f58d-4432-ba39-6717f485875a",
   "metadata": {},
   "outputs": [],
   "source": [
    "import numpy as np\n",
    "import sympy as sp\n",
    "from IPython.display import HTML, IFrame\n",
    "import ipywidgets as widgets\n",
    "import matplotlib as mpl\n",
    "from mpl_toolkits.mplot3d import Axes3D\n",
    "import matplotlib.pyplot as plt\n",
    "mpl.rcParams['legend.fontsize'] = 10\n",
    "import pandas as pd\n",
    "import itertools\n",
    "from IPython.display import Image\n",
    "\n",
    "# This is commented out\n",
    "#%matplotlib widget\n",
    "\n",
    "# function to print latex\n",
    "def renderListToLatex(e):\n",
    "    latex_rendering = []\n",
    "\n",
    "    for i in range(len(e)):\n",
    "        latex_rendering.append(\"$$\" + sp.latex(e[i]) + \"$$\")\n",
    "    \n",
    "    return(HTML(\"\".join(latex_rendering[0:])))"
   ]
  },
  {
   "cell_type": "code",
   "execution_count": 3,
   "id": "471475dd-15cb-4a01-968b-052cf3ddff7b",
   "metadata": {},
   "outputs": [],
   "source": [
    "# role of dcb curves in claulcus\n",
    "\n",
    "# Algebraic Calculus and Geombety of dCB curves - \n",
    "\n",
    "# relationship Polynumbers and de Casteljau\n",
    "\n"
   ]
  },
  {
   "cell_type": "markdown",
   "id": "3ac16351-5f32-4445-889e-1464b51886c4",
   "metadata": {},
   "source": [
    "Observe: Algebraic calculus - direct ocomputional\n",
    "Essential objects in calc - curves\n",
    "\n",
    "These are polynomial paramaterised curves\n",
    "\n",
    "de Casteljau Bezier curves\n",
    "\n",
    "Note 4 control points, P1 - P4\n",
    "\n",
    "Degree 4 polynomials - this is qauardit curve\n",
    "\n",
    "Note paramater t betwee 0 and 1- all proportial (Q0 .4 along if t set to .4\n",
    "\n",
    "Then create r points(.4 of the way along....\n",
    "\n",
    "Then create s points (.4 along)\n",
    "\n",
    "FInlly is the s0\n",
    "\n",
    "Note fixed control points don't move, as t moves a locus is created\n",
    "\n",
    " curves are are central objects in calculus\n",
    " \n",
    "Curves also have own intrinsic geometry - interacts with algebra\n",
    "\n",
    "Note discrete aspec \n",
    "\n",
    "Observe geobra note t0 is moving the curve\n",
    "\n",
    "NOte you can turn of locus\n",
    "\n",
    "Note affine combination of (1 - t) P0 + P1 (t). Note this can be be\n",
    "broken down into different approximae curves - note can turn on different locus - gradually doing more complex curves depnding on how many we are turning on. Quadtratic and cubic dcb cuves dpending on turning n more parts of the cruves\n",
    "\n",
    "Quadriatic and cub can be glued together because control points control ends - can line up tangents....\n",
    "\n",
    "\n",
    "\n",
    "\n",
    "18.07\n"
   ]
  },
  {
   "cell_type": "markdown",
   "id": "8bcc595e-648c-422a-84f4-ee62216bb0f6",
   "metadata": {},
   "source": [
    "Aim  - create algebra: "
   ]
  },
  {
   "cell_type": "markdown",
   "id": "5ea67c20-c603-4766-a32a-2c8c80be873a",
   "metadata": {},
   "source": [
    "<b>Aim</b>\n",
    "\n",
    "Introduce Polynumbers \n",
    "\n"
   ]
  },
  {
   "cell_type": "code",
   "execution_count": 4,
   "id": "e1961db1-353a-47bb-a7f3-56e6537c3c9a",
   "metadata": {},
   "outputs": [],
   "source": [
    "P = [1, 2, 0, -3]"
   ]
  },
  {
   "cell_type": "code",
   "execution_count": 5,
   "id": "5f5c545d-6218-4d61-8464-90980facd03b",
   "metadata": {},
   "outputs": [],
   "source": [
    "P = [1, 2, 0, -3, 0, 0]"
   ]
  },
  {
   "cell_type": "code",
   "execution_count": 6,
   "id": "f473c06b-6f4c-46b5-8311-8b0df97821e4",
   "metadata": {},
   "outputs": [],
   "source": [
    "# both are the same \n",
    "\n",
    "# not exactly a vector\n",
    "\n",
    "# "
   ]
  },
  {
   "cell_type": "markdown",
   "id": "00171598-bfcc-4dea-87c2-fe30330417d4",
   "metadata": {},
   "source": [
    "The degree of a polynumber is k if p_k 0s non-zero - so last non 0 entry is degree \n",
    "\n",
    "[0] - degree is not defined\n",
    "\n",
    "Scalar multiple is possible \n",
    "\n",
    "[7 3] + [-4 2 8] = [3 5 8] same as [[7 3 0]\n",
    "\n",
    "multiplication is defined using cauchy product\n",
    "\n",
    "[1 2] x [5 x 2] + [5 17 6]\n",
    "\n",
    "unit polynumber [1] - identity\n",
    "\n",
    "consider third polynumber is important - 0, 1, now $\\alpha$\n",
    "\n",
    "a = [0 1] - note powers of this will be a *a = [0, 0, 1]\n",
    "\n",
    "alpha is not variable just a partuclar simple polynumber \n",
    "\n",
    "alpha is a natural generator for powers - gives the equivalence of variable\n",
    "\n",
    "so consider [1 2, 0, -3] - gives alpha and coefficitns\n",
    "\n",
    "we also get multiplication which is normal polynomial \n",
    "\n",
    "\n",
    "\n"
   ]
  },
  {
   "cell_type": "markdown",
   "id": "363f4add-e024-4ef8-9284-8339db832307",
   "metadata": {},
   "source": [
    "Note we don't have variable as such - ut we can still evanulate - get a 2 list of polynomial paramaterised curve - these are more comp science way of \n",
    "\n",
    "<b>Polynomially parametrised cruve </b>\n",
    "\n",
    "$$ \\gamma = [p, q] $$\n",
    "\n",
    "Curve is list of 2 polynumbers -\n",
    "\n",
    "\n",
    "27.43 time"
   ]
  },
  {
   "cell_type": "markdown",
   "id": "b42cfac0-c4fb-4b40-b634-f27c2155f60e",
   "metadata": {},
   "source": [
    "General \n",
    "\n",
    "Now connect to de Casteljau Bezier - start with control points and see how they are connected to give a \n",
    "\n",
    "DCB curves are actually polynom parametrized curve....\n",
    "\n",
    "THink about whole thing as consistent\n",
    "\n",
    "\n",
    "\n"
   ]
  },
  {
   "cell_type": "markdown",
   "id": "31987025-3866-43f1-b93b-4bd99d44cc83",
   "metadata": {},
   "source": [
    "Let $P0, P1 P2 \\ldots$ be an ongoing sequence of sequence of planar control points to arbitrary but finite length"
   ]
  },
  {
   "cell_type": "code",
   "execution_count": 55,
   "id": "8d83f70a-54a1-448e-ac16-6fdfa1839191",
   "metadata": {},
   "outputs": [],
   "source": [
    "P0, P1, P2, P3, Q0, Q1, Q2, Q3, R0, R1, R2, R3, S0, S1, S2, S3, t, p01, p02, p11, p12, p21, p22 = sp.symbols('P0, P1, P2, P3, Q0, Q1, Q2, Q3, R0, R1, R2, R3, S0, S1, S2, S3, t, p01, p02, p11, p12, p21, p22 ')"
   ]
  },
  {
   "cell_type": "code",
   "execution_count": 56,
   "id": "f3e0fc80-655b-4af6-81e2-9aa812169a3d",
   "metadata": {},
   "outputs": [
    {
     "data": {
      "text/html": [
       "$$Q_{0} = P_{0} \\left(1 - t\\right) + P_{1} t$$$$Q_{1} = P_{1} \\left(1 - t\\right) + P_{2} t$$$$Q_{2} = P_{2} \\left(1 - t\\right) + P_{3} t$$$$R_{0} = Q_{0} \\left(1 - t\\right) + Q_{1} t$$$$R_{1} = Q_{1} \\left(1 - t\\right) + Q_{2} t$$$$R_{2} = Q_{2} \\left(1 - t\\right) + Q_{3} t$$$$S_{0} = R_{0} \\left(1 - t\\right) + R_{1} t$$$$S_{1} = R_{1} \\left(1 - t\\right) + R_{2} t$$$$S_{2} = R_{2} \\left(1 - t\\right) + R_{3} t$$"
      ],
      "text/plain": [
       "<IPython.core.display.HTML object>"
      ]
     },
     "execution_count": 56,
     "metadata": {},
     "output_type": "execute_result"
    }
   ],
   "source": [
    "F1 = sp.Eq(Q0, (1 - t) * P0 + t * P1) \n",
    "F2 = sp.Eq(Q1, (1 - t) * P1 + t * P2)\n",
    "F3 = sp.Eq(Q2, (1 - t) * P2 + t * P3) \n",
    "\n",
    "F4 = sp.Eq(R0, (1 - t) * Q0 + t * Q1) \n",
    "F5 = sp.Eq(R1, (1 - t) * Q1 + t * Q2)\n",
    "F6 = sp.Eq(R2, (1 - t) * Q2 + t * Q3) \n",
    "\n",
    "F7 = sp.Eq(S0, (1 - t) * R0 + t * R1) \n",
    "F8 = sp.Eq(S1, (1 - t) * R1 + t * R2)\n",
    "F9 = sp.Eq(S2, (1 - t) * R2 + t * R3) \n",
    "\n",
    "renderListToLatex([F1, F2, F3, F4, F5, F6, F7, F8, F9])"
   ]
  },
  {
   "cell_type": "markdown",
   "id": "0873793c-01a4-4e0f-a582-c9cdfb896a28",
   "metadata": {},
   "source": [
    "Observe: In the case of $Q_i$, it relates to the affine combination of $P_i$ and $P_{i + 1}$ controlled  by $t$.\n",
    "\n",
    "Observe: Locus of $Q_0$ as $t$ varies is a linear dCB curve.Note that where $P_0$ and $P_1$ are equal, this will generate a point\n",
    "\n",
    "Observe $R$ is a quadratic dCB curve, and $S$ is a cubic dCB curve. This can be extended to other, higher degree curves"
   ]
  },
  {
   "cell_type": "markdown",
   "id": "62ea2cc4-0b95-4137-95ca-c001bcd2374b",
   "metadata": {},
   "source": [
    "Let $F10$ be the rhs fo F1, in terms of $t$"
   ]
  },
  {
   "cell_type": "code",
   "execution_count": 57,
   "id": "5c3dd5ab-9edb-416a-97f9-7ea531463adf",
   "metadata": {},
   "outputs": [
    {
     "data": {
      "text/latex": [
       "$\\displaystyle P_{0} - t \\left(P_{0} - P_{1}\\right)$"
      ],
      "text/plain": [
       "P0 - t*(P0 - P1)"
      ]
     },
     "execution_count": 57,
     "metadata": {},
     "output_type": "execute_result"
    }
   ],
   "source": [
    "F10 = F1.rhs.factor(t)\n",
    "F10"
   ]
  },
  {
   "cell_type": "markdown",
   "id": "b42df96b-b077-4650-af03-c4a0607c75c1",
   "metadata": {},
   "source": [
    "Observe: this expression can be written in terms of $P_0 = [p_{01}, p_{02}]$ and $P_1 = [p_{11}, p_{12}]$ leading to a solution to $Q_0$ in terms of $p_{01}, p_{02}, p_{11}$ and $p_{12}$ "
   ]
  },
  {
   "cell_type": "code",
   "execution_count": 78,
   "id": "6b095f5d-faa1-4b0b-9735-d638779209e0",
   "metadata": {},
   "outputs": [
    {
     "data": {
      "text/html": [
       "$$p_{01} - t \\left(p_{01} - p_{11}\\right)$$$$p_{02} - t \\left(p_{02} - p_{12}\\right)$$"
      ],
      "text/plain": [
       "<IPython.core.display.HTML object>"
      ]
     },
     "execution_count": 78,
     "metadata": {},
     "output_type": "execute_result"
    }
   ],
   "source": [
    "F11 = np.array([p01, p02]) - t * (np.array([p01, p02]) - (np.array([p11, p12])))\n",
    "renderListToLatex([F11[0], F11[1]])"
   ]
  },
  {
   "cell_type": "markdown",
   "id": "3d09c49e-4401-45d1-ab89-e3a6d011423c",
   "metadata": {},
   "source": [
    "Observe: This can be manipulated to be: \n",
    "\n",
    "$$ p_{01} + t \\left(p_{11} - p_{01}\\right) $$\n",
    "$$ p_{02} + t \\left( p_{12} - p_{01}\\right)  $$"
   ]
  },
  {
   "cell_type": "markdown",
   "id": "3c30f58b-443a-45aa-a624-3d694e49f116",
   "metadata": {},
   "source": [
    "Let $c_{01}, c_{02}, c_{11}$ and $c_{12}$\n",
    "\n",
    "$$c_{01} = p_{01}$$\n",
    "$$c_{11} = p_{11} - p_{01}$$\n",
    "$$c_{02} = p_{02}$$\n",
    "$$c_{12} = p_{12} - p_{01}$$"
   ]
  },
  {
   "cell_type": "markdown",
   "id": "721eb188-821a-453b-b9bc-3bc5fbd06bd9",
   "metadata": {},
   "source": [
    "Let $F11$ be a matrix representing  $c_{01}, c_{02}, c_{11}$ and $c_{12}$"
   ]
  },
  {
   "cell_type": "code",
   "execution_count": 106,
   "id": "9f9bed86-9e24-41b4-9afe-227b40e73c87",
   "metadata": {},
   "outputs": [
    {
     "data": {
      "text/latex": [
       "$\\displaystyle \\left[\\begin{matrix}c_{01} & c_{02}\\\\c_{11} & c_{12}\\end{matrix}\\right] = \\left[\\begin{matrix}p_{01} & p_{02}\\\\- p_{01} + p_{11} & - p_{01} + p_{12}\\end{matrix}\\right]$"
      ],
      "text/plain": [
       "Eq(Matrix([\n",
       "[c01, c02],\n",
       "[c11, c12]]), Matrix([\n",
       "[       p01,        p02],\n",
       "[-p01 + p11, -p01 + p12]]))"
      ]
     },
     "execution_count": 106,
     "metadata": {},
     "output_type": "execute_result"
    }
   ],
   "source": [
    "c01, c11, c02, c22 = sp.symbols('c01, c11, c02, c22')\n",
    "F11 = sp.Eq(sp.Matrix([[c01, c02], [c11, c12]]), sp.Matrix([[p01, p02], [p11 - p01, p12 - p01]]))\n",
    "F11"
   ]
  },
  {
   "cell_type": "code",
   "execution_count": 107,
   "id": "cb23f8a2-be58-42bd-8373-cb6d922a9109",
   "metadata": {},
   "outputs": [
    {
     "data": {
      "text/latex": [
       "$\\displaystyle \\left[\\begin{matrix}p_{01} - p_{02} & p_{02}\\\\p_{11} - p_{12} & p_{12}\\end{matrix}\\right]$"
      ],
      "text/plain": [
       "Matrix([\n",
       "[p01 - p02, p02],\n",
       "[p11 - p12, p12]])"
      ]
     },
     "execution_count": 107,
     "metadata": {},
     "output_type": "execute_result"
    }
   ],
   "source": [
    "sp.Matrix([[p01, p02], [p11, p12]]) * sp.Matrix([[1, 0], [-1, 1]])"
   ]
  },
  {
   "cell_type": "code",
   "execution_count": 112,
   "id": "81aa8761-afd1-480a-b54d-ceb0905b4db7",
   "metadata": {},
   "outputs": [
    {
     "data": {
      "text/latex": [
       "$\\displaystyle \\left[\\begin{matrix}c_{01} - c_{02} & c_{02}\\\\c_{11} - c_{12} & c_{12}\\end{matrix}\\right]$"
      ],
      "text/plain": [
       "Matrix([\n",
       "[c01 - c02, c02],\n",
       "[c11 - c12, c12]])"
      ]
     },
     "execution_count": 112,
     "metadata": {},
     "output_type": "execute_result"
    }
   ],
   "source": [
    "F11.lhs *   sp.Matrix([[1, 0], [-1, 1]])"
   ]
  },
  {
   "cell_type": "code",
   "execution_count": null,
   "id": "e5d0b92b-6672-4994-9c3d-e9b7f8d4dd16",
   "metadata": {},
   "outputs": [],
   "source": []
  },
  {
   "cell_type": "code",
   "execution_count": null,
   "id": "cacd6aaa-6bdc-4cd6-a1ad-589fdda1ab5f",
   "metadata": {},
   "outputs": [],
   "source": []
  },
  {
   "cell_type": "code",
   "execution_count": 104,
   "id": "0f1ea8d0-5b41-4a53-ab7c-71bc0383afd1",
   "metadata": {},
   "outputs": [
    {
     "data": {
      "text/latex": [
       "$\\displaystyle \\left[\\begin{matrix}p_{01} - p_{02} & p_{02}\\\\p_{11} - p_{12} & p_{12}\\end{matrix}\\right]$"
      ],
      "text/plain": [
       "Matrix([\n",
       "[p01 - p02, p02],\n",
       "[p11 - p12, p12]])"
      ]
     },
     "execution_count": 104,
     "metadata": {},
     "output_type": "execute_result"
    }
   ],
   "source": [
    "sp.Matrix([[p01, p02], [p11, p12]]) * sp.Matrix([[1, 0], [-1, 1]])"
   ]
  },
  {
   "cell_type": "code",
   "execution_count": null,
   "id": "966833f3-8b4f-48e8-8d01-bbd50b8e4142",
   "metadata": {},
   "outputs": [],
   "source": []
  },
  {
   "cell_type": "markdown",
   "id": "adc760a1-f04e-432c-866d-c4e6a7799486",
   "metadata": {},
   "source": [
    "\n",
    "\n",
    "\n",
    "Let $F12$ be $F11$ represetned as a matrix "
   ]
  },
  {
   "cell_type": "code",
   "execution_count": 102,
   "id": "e63fe659-e45e-449e-9b09-37120fbf7008",
   "metadata": {},
   "outputs": [
    {
     "data": {
      "text/latex": [
       "$\\displaystyle \\left[\\begin{matrix}p_{01} & p_{01} - p_{11}\\\\p_{02} & p_{02} - p_{12}\\end{matrix}\\right]$"
      ],
      "text/plain": [
       "Matrix([\n",
       "[p01, p01 - p11],\n",
       "[p02, p02 - p12]])"
      ]
     },
     "execution_count": 102,
     "metadata": {},
     "output_type": "execute_result"
    }
   ],
   "source": [
    "F12 = sp.Matrix([[p01, p01 - p11], [p02, p02 - p12]])  \n",
    "F12\n",
    "\n",
    "# Assumption of 0?"
   ]
  },
  {
   "cell_type": "code",
   "execution_count": 88,
   "id": "70592d7b-7f84-497c-9722-7b03a9dd545b",
   "metadata": {},
   "outputs": [
    {
     "data": {
      "text/latex": [
       "$\\displaystyle \\left[\\begin{matrix}p_{01} - p_{02} & p_{02}\\\\p_{11} - p_{12} & p_{12}\\end{matrix}\\right]$"
      ],
      "text/plain": [
       "Matrix([\n",
       "[p01 - p02, p02],\n",
       "[p11 - p12, p12]])"
      ]
     },
     "execution_count": 88,
     "metadata": {},
     "output_type": "execute_result"
    }
   ],
   "source": [
    "sp.Matrix([[p01, p02], [p11, p12]]) * sp.Matrix([[1, 0], [-1, 1]])"
   ]
  },
  {
   "cell_type": "code",
   "execution_count": null,
   "id": "4b76789c-e078-47f8-a3a9-59478529d1fe",
   "metadata": {},
   "outputs": [],
   "source": []
  },
  {
   "cell_type": "code",
   "execution_count": null,
   "id": "c1eb4a9b-a7ea-48a1-9fa7-5f5b9caf3588",
   "metadata": {},
   "outputs": [],
   "source": []
  },
  {
   "cell_type": "code",
   "execution_count": null,
   "id": "e0dbd1ee-7ca0-479d-858a-1f7951f2ac64",
   "metadata": {},
   "outputs": [],
   "source": []
  },
  {
   "cell_type": "code",
   "execution_count": null,
   "id": "1dbd05b2-5da7-4b91-a358-aad087fc79bd",
   "metadata": {},
   "outputs": [],
   "source": []
  },
  {
   "cell_type": "code",
   "execution_count": null,
   "id": "02e30ca6-faca-4c28-b075-fab8b70b0ad7",
   "metadata": {},
   "outputs": [],
   "source": []
  },
  {
   "cell_type": "code",
   "execution_count": null,
   "id": "2466796e-32ca-4cfc-bfed-9a4af78662d9",
   "metadata": {},
   "outputs": [],
   "source": []
  },
  {
   "cell_type": "code",
   "execution_count": null,
   "id": "3f86f34a-befc-4914-be5d-466c83322f1c",
   "metadata": {},
   "outputs": [],
   "source": []
  },
  {
   "cell_type": "code",
   "execution_count": null,
   "id": "4ef91675-aabc-409f-b15c-d492a4450a4a",
   "metadata": {},
   "outputs": [],
   "source": []
  },
  {
   "cell_type": "code",
   "execution_count": null,
   "id": "71cc8d2c-94da-4f5f-b0ec-dd135845b196",
   "metadata": {},
   "outputs": [],
   "source": []
  },
  {
   "cell_type": "code",
   "execution_count": null,
   "id": "1dbcb31f-4d91-4794-8d49-db92183493a4",
   "metadata": {},
   "outputs": [],
   "source": []
  },
  {
   "cell_type": "code",
   "execution_count": null,
   "id": "424eceaf-65f4-4965-95f0-fd949299130c",
   "metadata": {},
   "outputs": [],
   "source": []
  },
  {
   "cell_type": "code",
   "execution_count": null,
   "id": "582b6fa5-434b-4cd4-9e7c-bfa57b4a6d3c",
   "metadata": {},
   "outputs": [],
   "source": []
  },
  {
   "cell_type": "code",
   "execution_count": null,
   "id": "8d4c6568-50bd-483d-90ae-aa36e4436331",
   "metadata": {},
   "outputs": [],
   "source": []
  },
  {
   "cell_type": "code",
   "execution_count": null,
   "id": "cc141318-f2cc-48cc-b652-f925635c8568",
   "metadata": {},
   "outputs": [],
   "source": []
  },
  {
   "cell_type": "code",
   "execution_count": null,
   "id": "de3c042b-79b2-4b6d-8900-630ca5615ac6",
   "metadata": {},
   "outputs": [],
   "source": []
  },
  {
   "cell_type": "code",
   "execution_count": null,
   "id": "d2c7ebd6-e16b-4cdc-b2ee-577be86dcd87",
   "metadata": {},
   "outputs": [],
   "source": []
  },
  {
   "cell_type": "code",
   "execution_count": null,
   "id": "a110f803-bde7-48ed-a15d-2cf61d05693a",
   "metadata": {},
   "outputs": [],
   "source": []
  },
  {
   "cell_type": "code",
   "execution_count": null,
   "id": "9415976a-6d40-460b-a3ae-0e7d9aeac98b",
   "metadata": {},
   "outputs": [],
   "source": []
  },
  {
   "cell_type": "code",
   "execution_count": null,
   "id": "8c457117-11b2-41a5-965a-37b22e914eac",
   "metadata": {},
   "outputs": [],
   "source": []
  },
  {
   "cell_type": "code",
   "execution_count": null,
   "id": "b7ef7b05-f088-4e05-b409-d1b6c7fb1c24",
   "metadata": {},
   "outputs": [],
   "source": []
  },
  {
   "cell_type": "code",
   "execution_count": null,
   "id": "16de02f5-cec8-48f9-9be3-fc0cd244ea1b",
   "metadata": {},
   "outputs": [],
   "source": []
  },
  {
   "cell_type": "code",
   "execution_count": null,
   "id": "290210ff-f134-48b8-8db2-622097cf0a84",
   "metadata": {},
   "outputs": [],
   "source": []
  },
  {
   "cell_type": "code",
   "execution_count": null,
   "id": "9df8dc07-269e-41a7-b5f6-897873fa3e74",
   "metadata": {},
   "outputs": [],
   "source": []
  },
  {
   "cell_type": "code",
   "execution_count": null,
   "id": "cc791e76-f274-49e7-ba11-ec56c91b5e69",
   "metadata": {},
   "outputs": [],
   "source": []
  },
  {
   "cell_type": "code",
   "execution_count": 7,
   "id": "f6b342b0-9ae4-4b27-80e5-5ad640d0069a",
   "metadata": {},
   "outputs": [],
   "source": [
    "# Consider control point coords \n",
    "\n",
    "p01, p02, p11, p12, p21, p22, p31, p32, t = sp.symbols(\"p01, p02, p11, p12, p21, p22, p31, p32, t\")\n",
    "\n",
    "P0 = np.array([p01, p02])\n",
    "P1 = np.array([p11, p12])\n",
    "P2 = np.array([p21, p22])\n",
    "P3 = np.array([p31, p32])"
   ]
  },
  {
   "cell_type": "code",
   "execution_count": 8,
   "id": "fd4c24f3-e71a-4a77-a098-9bf83fcf8e5d",
   "metadata": {},
   "outputs": [],
   "source": [
    "# then for a fixed parameter t, we define new sequence of points \n",
    "\n",
    "Q0 = (1 - t) * P0 + (t * P1)\n",
    "Q1 = (1 - t) * P1 + (t * P2)\n",
    "Q2 = (1 - t) * P2 + (t * P3)\n"
   ]
  },
  {
   "cell_type": "code",
   "execution_count": 9,
   "id": "0b6adc5b-6ac7-4bc2-92be-362b8f51d91b",
   "metadata": {},
   "outputs": [
    {
     "data": {
      "text/plain": [
       "array([[p01, 0],\n",
       "       [-p11, p12]], dtype=object)"
      ]
     },
     "execution_count": 9,
     "metadata": {},
     "output_type": "execute_result"
    }
   ],
   "source": [
    "np.array([[p01, p02], [p11, p12]]) * np.array([[1, 0], [-1, 1]])"
   ]
  },
  {
   "cell_type": "code",
   "execution_count": null,
   "id": "326a84ea-d252-4b16-8996-70affbbb963e",
   "metadata": {},
   "outputs": [],
   "source": []
  },
  {
   "cell_type": "code",
   "execution_count": 10,
   "id": "41fcdae9-c716-4cdb-9dfb-2876292c88b2",
   "metadata": {},
   "outputs": [],
   "source": [
    "# depend on param t between 0 and 1\n",
    "\n",
    "# note locus of Q0 as t varies is linear dCB curbe\n",
    "\n",
    "# observe - line passing through 2 piotns when t =  0 and t = 1\n",
    "\n",
    "# cn have degenerate sitation where we just get a point "
   ]
  },
  {
   "cell_type": "raw",
   "id": "b35ec43a-103d-426a-80a1-d4b754f3ebfc",
   "metadata": {},
   "source": []
  },
  {
   "cell_type": "code",
   "execution_count": 11,
   "id": "47358ea5-19f6-4737-a597-e72175df6783",
   "metadata": {},
   "outputs": [],
   "source": [
    "# Now define new sequence of points.....same just redo for Q and R, then \n",
    "# for R and S. \n",
    "\n",
    "# we could keep on going \n",
    "\n",
    "# consider R0 as t varies - is a quadratic dCB curve with points\n",
    "\n",
    "# keep on going to get the S points, leads to cubic cDB curve\n",
    "\n",
    "# quartic dcb curves from 5 control points\n",
    "\n",
    "# quintic dcb curves vrom 6 control points "
   ]
  },
  {
   "cell_type": "code",
   "execution_count": 12,
   "id": "3baebc83-a6e5-4922-acda-d87e43a7f2b0",
   "metadata": {},
   "outputs": [],
   "source": [
    "# consider them more explicity\n",
    "\n"
   ]
  },
  {
   "cell_type": "code",
   "execution_count": 13,
   "id": "aa03a46c-d93e-4bec-add0-a5a0838e58a3",
   "metadata": {},
   "outputs": [
    {
     "data": {
      "text/latex": [
       "$\\displaystyle Q_{0} = P_{0} \\left(1 - t\\right) + P_{1} t$"
      ],
      "text/plain": [
       "Eq(Q0, P0*(1 - t) + P1*t)"
      ]
     },
     "execution_count": 13,
     "metadata": {},
     "output_type": "execute_result"
    }
   ],
   "source": [
    "##### REDO  #############\n",
    "\n",
    "# SO let's look at this more explictly to undersand what this is:\n",
    "\n",
    "Q0, t, P0, P1 = sp.symbols('Q0, t, P0, P1')\n",
    "\n",
    "E1 = sp.Eq(Q0, (1 - t) * P0 + t * P1)\n",
    "E1\n"
   ]
  },
  {
   "cell_type": "code",
   "execution_count": 14,
   "id": "57906dd0-8956-4e08-89e8-54b5842d8a01",
   "metadata": {},
   "outputs": [
    {
     "data": {
      "text/latex": [
       "$\\displaystyle P_{0} + t \\left(- P_{0} + P_{1}\\right)$"
      ],
      "text/plain": [
       "P0 + t*(-P0 + P1)"
      ]
     },
     "execution_count": 14,
     "metadata": {},
     "output_type": "execute_result"
    }
   ],
   "source": [
    "# rewrite this as a polynomial in t\n",
    "E2 = E1.rhs.expand().collect(t)\n",
    "E2"
   ]
  },
  {
   "cell_type": "code",
   "execution_count": 15,
   "id": "0a04d7f1-affb-4004-a8dc-1aa9f2a4f938",
   "metadata": {},
   "outputs": [],
   "source": [
    "# note that Q0 is Po + linear combintation of (P1 - P0) - we nesc get a polynomially\n",
    "# parametrised curve\n",
    "\n",
    "# now substitue coordinates of these points\n",
    "\n",
    "\n",
    "\n"
   ]
  },
  {
   "cell_type": "code",
   "execution_count": 16,
   "id": "f6927a1e-85a3-4181-9510-e19f2756362b",
   "metadata": {},
   "outputs": [
    {
     "data": {
      "text/latex": [
       "$\\displaystyle P_{0} + t \\left(- P_{0} + P_{1}\\right)$"
      ],
      "text/plain": [
       "P0 + t*(-P0 + P1)"
      ]
     },
     "execution_count": 16,
     "metadata": {},
     "output_type": "execute_result"
    }
   ],
   "source": [
    "E3 = E1.rhs.expand().collect(t)\n",
    "E3\n"
   ]
  },
  {
   "cell_type": "markdown",
   "id": "8a1a2bf6-6ead-4b5d-a094-f3cd1f6ed102",
   "metadata": {},
   "source": [
    "Now redo with coordinates"
   ]
  },
  {
   "cell_type": "markdown",
   "id": "af8a2aa3-7e18-482d-9ef3-32374860ad8b",
   "metadata": {},
   "source": [
    "Note this is a vector....., to to get to the next control point, we have following doords.....that we are starting at point P0 and adding a multiple of a vector t(P1 - P0). But we are stargint with 0 so this is the same as doing P0 + t(P1 - 0) so WHEN t - ONE"
   ]
  },
  {
   "cell_type": "code",
   "execution_count": 17,
   "id": "ce72fbd2-a99c-434c-a107-af5118bc2287",
   "metadata": {},
   "outputs": [
    {
     "data": {
      "text/html": [
       "$$p_{01} + p_{11} t$$$$p_{02} + p_{12} t$$"
      ],
      "text/plain": [
       "<IPython.core.display.HTML object>"
      ]
     },
     "execution_count": 17,
     "metadata": {},
     "output_type": "execute_result"
    }
   ],
   "source": [
    "# we can redo this with points\n",
    "\n",
    "c01, c02, c11, c12, p01, p02, p11, p12, p21, p22, p31, p32, t = sp.symbols(\"c01, c02, c11, c12, p01, p02, p11, p12, p21, p22, p31, p32, t\")\n",
    "\n",
    "P0 = np.array([p01, p02])\n",
    "P1 = np.array([p11, p12])\n",
    "\n",
    "Q0 = P0 + t * (P1)\n",
    "\n",
    "renderListToLatex([Q0[0], Q0[1]])\n",
    "\n",
    "\n"
   ]
  },
  {
   "cell_type": "markdown",
   "id": "a8883ead-7b28-4f9c-97fe-c7d577263a15",
   "metadata": {},
   "source": [
    "Observe - these are the coordinates....."
   ]
  },
  {
   "cell_type": "markdown",
   "id": "a169da83-b235-4c08-aae1-e23c28dd29e4",
   "metadata": {},
   "source": [
    "Let's give names to these coefficnets / coords\n",
    "\n",
    "$$ \\gamma(t) = [c_{01} + c_{11}t, c_{02} + c_{12}t ]$$\n",
    "\n",
    "\n",
    "So let's compare coeefiencts\n",
    "\n",
    "looking for algebraic relation between coordinates of control points and entries of the polynomials in locus(t)\n",
    "\n",
    "Note we are setting up a relationship between Points: \n",
    "\n",
    "\n"
   ]
  },
  {
   "cell_type": "code",
   "execution_count": 18,
   "id": "cafd4d56-1869-4e16-be4d-eba1b91e5621",
   "metadata": {},
   "outputs": [
    {
     "data": {
      "text/latex": [
       "$\\displaystyle \\left[\\begin{matrix}p_{01} & p_{02}\\\\p_{11} & p_{12}\\end{matrix}\\right]$"
      ],
      "text/plain": [
       "Matrix([\n",
       "[p01, p02],\n",
       "[p11, p12]])"
      ]
     },
     "execution_count": 18,
     "metadata": {},
     "output_type": "execute_result"
    }
   ],
   "source": [
    "sp.Matrix([[p01, p02], [p11, p12]])"
   ]
  },
  {
   "cell_type": "markdown",
   "id": "c8a22d9f-89ab-442f-9b4e-03a1e2407f6e",
   "metadata": {},
   "source": [
    "But his tells us when t = 1, assuming P0 = 0. But if does = 1 we get this"
   ]
  },
  {
   "cell_type": "code",
   "execution_count": 74,
   "id": "2db15dc7-3819-46b6-a20c-94a1d9175a6a",
   "metadata": {},
   "outputs": [
    {
     "data": {
      "text/latex": [
       "$\\displaystyle \\left[\\begin{matrix}p_{01} - p_{02} & p_{02}\\\\p_{11} - p_{12} & p_{12}\\end{matrix}\\right]$"
      ],
      "text/plain": [
       "Matrix([\n",
       "[p01 - p02, p02],\n",
       "[p11 - p12, p12]])"
      ]
     },
     "execution_count": 74,
     "metadata": {},
     "output_type": "execute_result"
    }
   ],
   "source": [
    "sp.Matrix([[p01, p02], [p11, p12]]) * sp.Matrix([[1, 0], [-1, 1]])"
   ]
  },
  {
   "cell_type": "markdown",
   "id": "0db915c6-cb0d-4128-ae60-8209253c5386",
   "metadata": {},
   "source": [
    "So we are heading to this"
   ]
  },
  {
   "cell_type": "code",
   "execution_count": 20,
   "id": "399f78b7-6b8e-4c7b-b9e7-e9f7f0b1db26",
   "metadata": {},
   "outputs": [],
   "source": [
    "E6 = sp.Matrix([[1, 0], [-1, 1]])\n",
    "E7 = sp.Matrix([[p01, p02], [p11, p12]])\n",
    "E8 = sp.Matrix([[c01, c02], [c11, c12]])\n",
    "E9 = E6.inv()"
   ]
  },
  {
   "cell_type": "code",
   "execution_count": 21,
   "id": "3d97a700-b488-4c6e-b14d-adc61376a74a",
   "metadata": {},
   "outputs": [
    {
     "data": {
      "text/latex": [
       "$\\displaystyle \\left[\\begin{matrix}1 & 0\\\\1 & 1\\end{matrix}\\right]$"
      ],
      "text/plain": [
       "Matrix([\n",
       "[1, 0],\n",
       "[1, 1]])"
      ]
     },
     "execution_count": 21,
     "metadata": {},
     "output_type": "execute_result"
    }
   ],
   "source": [
    "# note we \n",
    "E9"
   ]
  },
  {
   "cell_type": "code",
   "execution_count": 22,
   "id": "9f6e53da-015e-4183-a4dd-e10ab0257898",
   "metadata": {},
   "outputs": [
    {
     "data": {
      "text/latex": [
       "$\\displaystyle \\left[\\begin{matrix}p_{01} - p_{02} & p_{02}\\\\p_{11} - p_{12} & p_{12}\\end{matrix}\\right] = \\left[\\begin{matrix}c_{01} & c_{02}\\\\c_{11} & c_{12}\\end{matrix}\\right]$"
      ],
      "text/plain": [
       "Eq(Matrix([\n",
       "[p01 - p02, p02],\n",
       "[p11 - p12, p12]]), Matrix([\n",
       "[c01, c02],\n",
       "[c11, c12]]))"
      ]
     },
     "execution_count": 22,
     "metadata": {},
     "output_type": "execute_result"
    }
   ],
   "source": [
    "sp.Eq(E7 * E6, E8)"
   ]
  },
  {
   "cell_type": "code",
   "execution_count": 23,
   "id": "bbeef90f-26be-4a6b-b747-f568faefa7bd",
   "metadata": {},
   "outputs": [],
   "source": [
    "# so these are interchanging matrices"
   ]
  },
  {
   "cell_type": "code",
   "execution_count": 24,
   "id": "4503af2a-e60f-49ff-b2f0-838a84c4bf9b",
   "metadata": {},
   "outputs": [
    {
     "data": {
      "text/latex": [
       "$\\displaystyle \\left[\\begin{matrix}c_{01} + c_{02} & c_{02}\\\\c_{11} + c_{12} & c_{12}\\end{matrix}\\right] = \\left[\\begin{matrix}p_{01} & p_{02}\\\\p_{11} & p_{12}\\end{matrix}\\right]$"
      ],
      "text/plain": [
       "Eq(Matrix([\n",
       "[c01 + c02, c02],\n",
       "[c11 + c12, c12]]), Matrix([\n",
       "[p01, p02],\n",
       "[p11, p12]]))"
      ]
     },
     "execution_count": 24,
     "metadata": {},
     "output_type": "execute_result"
    }
   ],
   "source": [
    "sp.Eq(E8 * E9, E7)"
   ]
  },
  {
   "cell_type": "code",
   "execution_count": 25,
   "id": "4d6bc394-2c34-47d9-9d16-16616bdc897b",
   "metadata": {},
   "outputs": [],
   "source": [
    "# so this is going back and forth between "
   ]
  },
  {
   "cell_type": "code",
   "execution_count": 26,
   "id": "1770f751-7d24-4582-bbe4-856af7c00d01",
   "metadata": {},
   "outputs": [],
   "source": [
    "# now look at quadratic case  R0\n",
    "\n",
    "# 40.13"
   ]
  },
  {
   "cell_type": "code",
   "execution_count": 27,
   "id": "9a000882-d2e0-413d-bd0f-5280a60178be",
   "metadata": {},
   "outputs": [
    {
     "data": {
      "text/plain": [
       "array([t*(P1*(1 - t) + p21*t) + (1 - t)*(P0*(1 - t) + P1*t),\n",
       "       t*(P1*(1 - t) + p22*t) + (1 - t)*(P0*(1 - t) + P1*t)], dtype=object)"
      ]
     },
     "execution_count": 27,
     "metadata": {},
     "output_type": "execute_result"
    }
   ],
   "source": [
    "t, P0, P1 = sp.symbols('t, P0, P1')\n",
    "\n",
    "E10 = (1 - t) * ((1 - t) * P0 + t * P1) + t * ((1 - t) * P1 + t * P2)\n",
    "E10"
   ]
  },
  {
   "cell_type": "code",
   "execution_count": null,
   "id": "f759757f-8ecb-4a5b-8434-a3e88a2021a0",
   "metadata": {},
   "outputs": [],
   "source": []
  }
 ],
 "metadata": {
  "kernelspec": {
   "display_name": "Python 3",
   "language": "python",
   "name": "python3"
  },
  "language_info": {
   "codemirror_mode": {
    "name": "ipython",
    "version": 3
   },
   "file_extension": ".py",
   "mimetype": "text/x-python",
   "name": "python",
   "nbconvert_exporter": "python",
   "pygments_lexer": "ipython3",
   "version": "3.9.2"
  }
 },
 "nbformat": 4,
 "nbformat_minor": 5
}
