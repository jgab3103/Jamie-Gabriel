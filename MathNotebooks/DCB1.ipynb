{
 "cells": [
  {
   "cell_type": "code",
   "execution_count": 82,
   "id": "15e05413-f58d-4432-ba39-6717f485875a",
   "metadata": {},
   "outputs": [],
   "source": [
    "import numpy as np\n",
    "import sympy as sp\n",
    "from IPython.display import HTML, IFrame\n",
    "import ipywidgets as widgets\n",
    "import matplotlib as mpl\n",
    "from mpl_toolkits.mplot3d import Axes3D\n",
    "import matplotlib.pyplot as plt\n",
    "mpl.rcParams['legend.fontsize'] = 10\n",
    "import pandas as pd\n",
    "import itertools\n",
    "from IPython.display import Image\n",
    "\n",
    "# This is commented out\n",
    "#%matplotlib widget\n",
    "\n",
    "# function to print latex\n",
    "def renderListToLatex(e):\n",
    "    latex_rendering = []\n",
    "\n",
    "    for i in range(len(e)):\n",
    "        latex_rendering.append(\"$$\" + sp.latex(e[i]) + \"$$\")\n",
    "    \n",
    "    return(HTML(\"\".join(latex_rendering[0:])))"
   ]
  },
  {
   "cell_type": "code",
   "execution_count": 83,
   "id": "471475dd-15cb-4a01-968b-052cf3ddff7b",
   "metadata": {},
   "outputs": [],
   "source": [
    "# role of dcb curves in claulcus\n",
    "\n",
    "# Algebraic Calculus and Geombety of dCB curves - \n",
    "\n",
    "# relationship Polynumbers and de Casteljau\n",
    "\n"
   ]
  },
  {
   "cell_type": "markdown",
   "id": "3ac16351-5f32-4445-889e-1464b51886c4",
   "metadata": {},
   "source": [
    "Observe: Algebraic calculus - direct ocomputional\n",
    "Essential objects in calc - curves\n",
    "\n",
    "These are polynomial paramaterised curves\n",
    "\n",
    "de Casteljau Bezier curves\n",
    "\n",
    "Note 4 control points, P1 - P4\n",
    "\n",
    "Degree 4 polynomials - this is qauardit curve\n",
    "\n",
    "Note paramater t betwee 0 and 1- all proportial (Q0 .4 along if t set to .4\n",
    "\n",
    "Then create r points(.4 of the way along....\n",
    "\n",
    "Then create s points (.4 along)\n",
    "\n",
    "FInlly is the s0\n",
    "\n",
    "Note fixed control points don't move, as t moves a locus is created\n",
    "\n",
    " curves are are central objects in calculus\n",
    " \n",
    "Curves also have own intrinsic geometry - interacts with algebra\n",
    "\n",
    "Note discrete aspec \n",
    "\n",
    "Observe geobra note t0 is moving the curve\n",
    "\n",
    "NOte you can turn of locus\n",
    "\n",
    "Note affine combination of (1 - t) P0 + P1 (t). Note this can be be\n",
    "broken down into different approximae curves - note can turn on different locus - gradually doing more complex curves depnding on how many we are turning on. Quadtratic and cubic dcb cuves dpending on turning n more parts of the cruves\n",
    "\n",
    "Quadriatic and cub can be glued together because control points control ends - can line up tangents....\n",
    "\n",
    "\n",
    "\n",
    "\n",
    "18.07\n"
   ]
  },
  {
   "cell_type": "markdown",
   "id": "8bcc595e-648c-422a-84f4-ee62216bb0f6",
   "metadata": {},
   "source": [
    "Aim  - create algebra: "
   ]
  },
  {
   "cell_type": "markdown",
   "id": "5ea67c20-c603-4766-a32a-2c8c80be873a",
   "metadata": {},
   "source": [
    "<b>Aim</b>\n",
    "\n",
    "Introduce Polynumbers \n",
    "\n"
   ]
  },
  {
   "cell_type": "code",
   "execution_count": 84,
   "id": "e1961db1-353a-47bb-a7f3-56e6537c3c9a",
   "metadata": {},
   "outputs": [],
   "source": [
    "P = [1, 2, 0, -3]"
   ]
  },
  {
   "cell_type": "code",
   "execution_count": 85,
   "id": "5f5c545d-6218-4d61-8464-90980facd03b",
   "metadata": {},
   "outputs": [],
   "source": [
    "P = [1, 2, 0, -3, 0, 0]"
   ]
  },
  {
   "cell_type": "code",
   "execution_count": 86,
   "id": "f473c06b-6f4c-46b5-8311-8b0df97821e4",
   "metadata": {},
   "outputs": [],
   "source": [
    "# both are the same \n",
    "\n",
    "# not exactly a vector\n",
    "\n",
    "# "
   ]
  },
  {
   "cell_type": "markdown",
   "id": "00171598-bfcc-4dea-87c2-fe30330417d4",
   "metadata": {},
   "source": [
    "The degree of a polynumber is k if p_k 0s non-zero - so last non 0 entry is degree \n",
    "\n",
    "[0] - degree is not defined\n",
    "\n",
    "Scalar multiple is possible \n",
    "\n",
    "[7 3] + [-4 2 8] = [3 5 8] same as [[7 3 0]\n",
    "\n",
    "multiplication is defined using cauchy product\n",
    "\n",
    "[1 2] x [5 x 2] + [5 17 6]\n",
    "\n",
    "unit polynumber [1] - identity\n",
    "\n",
    "consider third polynumber is important - 0, 1, now $\\alpha$\n",
    "\n",
    "a = [0 1] - note powers of this will be a *a = [0, 0, 1]\n",
    "\n",
    "alpha is not variable just a partuclar simple polynumber \n",
    "\n",
    "alpha is a natural generator for powers - gives the equivalence of variable\n",
    "\n",
    "so consider [1 2, 0, -3] - gives alpha and coefficitns\n",
    "\n",
    "we also get multiplication which is normal polynomial \n",
    "\n",
    "\n",
    "\n"
   ]
  },
  {
   "cell_type": "markdown",
   "id": "363f4add-e024-4ef8-9284-8339db832307",
   "metadata": {},
   "source": [
    "Note we don't have variable as such - ut we can still evanulate - get a 2 list of polynomial paramaterised curve - these are more comp science way of \n",
    "\n",
    "<b>Polynomially parametrised cruve </b>\n",
    "\n",
    "$$ \\gamma = [p, q] $$\n",
    "\n",
    "Curve is list of 2 polynumbers -\n",
    "\n",
    "\n",
    "27.43 time"
   ]
  },
  {
   "cell_type": "markdown",
   "id": "b42cfac0-c4fb-4b40-b634-f27c2155f60e",
   "metadata": {},
   "source": [
    "General \n",
    "\n",
    "Now connect to de Casteljau Bezier - start with control points and see how they are connected to give a \n",
    "\n",
    "DCB curves are actually polynom parametrized curve....\n",
    "\n",
    "THink about whole thing as consistent\n",
    "\n",
    "consider - sequence of planar control points P0, P1 P2 etc..... this just goes up wards - but has an ongoing orientation \n",
    "\n",
    "We want to control whats happening at a certin state\n",
    "\n",
    "\n"
   ]
  },
  {
   "cell_type": "code",
   "execution_count": 101,
   "id": "f6b342b0-9ae4-4b27-80e5-5ad640d0069a",
   "metadata": {},
   "outputs": [],
   "source": [
    "# Consider control point coords \n",
    "\n",
    "p01, p02, p11, p12, p21, p22, p31, p32, t = sp.symbols(\"p01, p02, p11, p12, p21, p22, p31, p32, t\")\n",
    "\n",
    "P0 = np.array([p01, p02])\n",
    "P1 = np.array([p11, p12])\n",
    "P2 = np.array([p21, p22])\n",
    "P3 = np.array([p31, p32])"
   ]
  },
  {
   "cell_type": "code",
   "execution_count": 102,
   "id": "fd4c24f3-e71a-4a77-a098-9bf83fcf8e5d",
   "metadata": {},
   "outputs": [],
   "source": [
    "# then for a fixed parameter t, we define new sequence of points \n",
    "\n",
    "Q0 = (1 - t) * P0 + (t * P1)\n",
    "Q1 = (1 - t) * P1 + (t * P2)\n",
    "Q2 = (1 - t) * P2 + (t * P3)\n"
   ]
  },
  {
   "cell_type": "code",
   "execution_count": 103,
   "id": "0b6adc5b-6ac7-4bc2-92be-362b8f51d91b",
   "metadata": {},
   "outputs": [
    {
     "data": {
      "text/plain": [
       "array([[p01, 0],\n",
       "       [-p11, p12]], dtype=object)"
      ]
     },
     "execution_count": 103,
     "metadata": {},
     "output_type": "execute_result"
    }
   ],
   "source": [
    "np.array([[p01, p02], [p11, p12]]) * np.array([[1, 0], [-1, 1]])"
   ]
  },
  {
   "cell_type": "code",
   "execution_count": null,
   "id": "326a84ea-d252-4b16-8996-70affbbb963e",
   "metadata": {},
   "outputs": [],
   "source": []
  },
  {
   "cell_type": "code",
   "execution_count": 90,
   "id": "41fcdae9-c716-4cdb-9dfb-2876292c88b2",
   "metadata": {},
   "outputs": [],
   "source": [
    "# depend on param t between 0 and 1\n",
    "\n",
    "# note locus of Q0 as t varies is linear dCB curbe\n",
    "\n",
    "# observe - line passing through 2 piotns when t =  0 and t = 1\n",
    "\n",
    "# cn have degenerate sitation where we just get a point "
   ]
  },
  {
   "cell_type": "raw",
   "id": "b35ec43a-103d-426a-80a1-d4b754f3ebfc",
   "metadata": {},
   "source": []
  },
  {
   "cell_type": "code",
   "execution_count": 91,
   "id": "47358ea5-19f6-4737-a597-e72175df6783",
   "metadata": {},
   "outputs": [],
   "source": [
    "# Now define new sequence of points.....same just redo for Q and R, then \n",
    "# for R and S. \n",
    "\n",
    "# we could keep on going \n",
    "\n",
    "# consider R0 as t varies - is a quadratic dCB curve with points\n",
    "\n",
    "# keep on going to get the S points, leads to cubic cDB curve\n",
    "\n",
    "# quartic dcb curves from 5 control points\n",
    "\n",
    "# quintic dcb curves vrom 6 control points "
   ]
  },
  {
   "cell_type": "code",
   "execution_count": 92,
   "id": "3baebc83-a6e5-4922-acda-d87e43a7f2b0",
   "metadata": {},
   "outputs": [],
   "source": [
    "# consider them more explicity\n",
    "\n"
   ]
  },
  {
   "cell_type": "code",
   "execution_count": 140,
   "id": "aa03a46c-d93e-4bec-add0-a5a0838e58a3",
   "metadata": {},
   "outputs": [
    {
     "data": {
      "text/latex": [
       "$\\displaystyle Q_{0} = P_{0} \\left(1 - t\\right) + P_{1} t$"
      ],
      "text/plain": [
       "Eq(Q0, P0*(1 - t) + P1*t)"
      ]
     },
     "execution_count": 140,
     "metadata": {},
     "output_type": "execute_result"
    }
   ],
   "source": [
    "##### REDO  #############\n",
    "\n",
    "# SO let's look at this more explictly to undersand what this is:\n",
    "\n",
    "Q0, t, P0, P1 = sp.symbols('Q0, t, P0, P1')\n",
    "\n",
    "E1 = sp.Eq(Q0, (1 - t) * P0 + t * P1)\n",
    "E1\n"
   ]
  },
  {
   "cell_type": "code",
   "execution_count": 141,
   "id": "57906dd0-8956-4e08-89e8-54b5842d8a01",
   "metadata": {},
   "outputs": [
    {
     "data": {
      "text/latex": [
       "$\\displaystyle P_{0} + t \\left(- P_{0} + P_{1}\\right)$"
      ],
      "text/plain": [
       "P0 + t*(-P0 + P1)"
      ]
     },
     "execution_count": 141,
     "metadata": {},
     "output_type": "execute_result"
    }
   ],
   "source": [
    "# rewrite this as a polynomial in t\n",
    "E2 = E1.rhs.expand().collect(t)\n",
    "E2"
   ]
  },
  {
   "cell_type": "code",
   "execution_count": 142,
   "id": "0a04d7f1-affb-4004-a8dc-1aa9f2a4f938",
   "metadata": {},
   "outputs": [],
   "source": [
    "# note that Q0 is Po + linear combintation of (P1 - P0) - we nesc get a polynomially\n",
    "# parametrised curve\n",
    "\n",
    "# now substitue coordinates of these points\n",
    "\n",
    "\n",
    "\n"
   ]
  },
  {
   "cell_type": "code",
   "execution_count": 135,
   "id": "f6927a1e-85a3-4181-9510-e19f2756362b",
   "metadata": {},
   "outputs": [
    {
     "data": {
      "text/latex": [
       "$\\displaystyle P_{0} + t \\left(- P_{0} + P_{1}\\right)$"
      ],
      "text/plain": [
       "P0 + t*(-P0 + P1)"
      ]
     },
     "execution_count": 135,
     "metadata": {},
     "output_type": "execute_result"
    }
   ],
   "source": [
    "E3 = E1.rhs.expand().collect(t)\n",
    "E3\n"
   ]
  },
  {
   "cell_type": "markdown",
   "id": "8a1a2bf6-6ead-4b5d-a094-f3cd1f6ed102",
   "metadata": {},
   "source": [
    "Now redo with coordinates"
   ]
  },
  {
   "cell_type": "markdown",
   "id": "af8a2aa3-7e18-482d-9ef3-32374860ad8b",
   "metadata": {},
   "source": [
    "Note this is a vector....., to to get to the next control point, we have following doords.....that we are starting at point P0 and adding a multiple of a vector t(P1 - P0). But we are stargint with 0 so this is the same as doing P0 + t(P1 - 0) so WHEN t - ONE"
   ]
  },
  {
   "cell_type": "code",
   "execution_count": 167,
   "id": "ce72fbd2-a99c-434c-a107-af5118bc2287",
   "metadata": {},
   "outputs": [
    {
     "data": {
      "text/html": [
       "$$p_{01} + p_{11} t$$$$p_{02} + p_{12} t$$"
      ],
      "text/plain": [
       "<IPython.core.display.HTML object>"
      ]
     },
     "execution_count": 167,
     "metadata": {},
     "output_type": "execute_result"
    }
   ],
   "source": [
    "# we can redo this with points\n",
    "\n",
    "c01, c02, c11, c12, p01, p02, p11, p12, p21, p22, p31, p32, t = sp.symbols(\"c01, c02, c11, c12, p01, p02, p11, p12, p21, p22, p31, p32, t\")\n",
    "\n",
    "P0 = np.array([p01, p02])\n",
    "P1 = np.array([p11, p12])\n",
    "\n",
    "Q0 = P0 + t * (P1)\n",
    "\n",
    "renderListToLatex([Q0[0], Q0[1]])\n",
    "\n",
    "\n"
   ]
  },
  {
   "cell_type": "markdown",
   "id": "a8883ead-7b28-4f9c-97fe-c7d577263a15",
   "metadata": {},
   "source": [
    "Observe - these are the coordinates....."
   ]
  },
  {
   "cell_type": "markdown",
   "id": "a169da83-b235-4c08-aae1-e23c28dd29e4",
   "metadata": {},
   "source": [
    "Let's give names to these coefficnets / coords\n",
    "\n",
    "$$ \\gamma(t) = [c_{01} + c_{11}t, c_{02} + c_{12}t ]$$\n",
    "\n",
    "\n",
    "So let's compare coeefiencts\n",
    "\n",
    "looking for algebraic relation between coordinates of control points and entries of the polynomials in locus(t)\n",
    "\n",
    "Note we are setting up a relationship between Points: \n",
    "\n",
    "\n"
   ]
  },
  {
   "cell_type": "code",
   "execution_count": 168,
   "id": "cafd4d56-1869-4e16-be4d-eba1b91e5621",
   "metadata": {},
   "outputs": [
    {
     "data": {
      "text/latex": [
       "$\\displaystyle \\left[\\begin{matrix}p_{01} & p_{02}\\\\p_{11} & p_{12}\\end{matrix}\\right]$"
      ],
      "text/plain": [
       "Matrix([\n",
       "[p01, p02],\n",
       "[p11, p12]])"
      ]
     },
     "execution_count": 168,
     "metadata": {},
     "output_type": "execute_result"
    }
   ],
   "source": [
    "sp.Matrix([[p01, p02], [p11, p12]])"
   ]
  },
  {
   "cell_type": "markdown",
   "id": "c8a22d9f-89ab-442f-9b4e-03a1e2407f6e",
   "metadata": {},
   "source": [
    "But his tells us when t = 1, assuming P0 = 0. But if does = 1 we get this"
   ]
  },
  {
   "cell_type": "code",
   "execution_count": 169,
   "id": "2db15dc7-3819-46b6-a20c-94a1d9175a6a",
   "metadata": {},
   "outputs": [
    {
     "data": {
      "text/latex": [
       "$\\displaystyle \\left[\\begin{matrix}p_{01} - p_{02} & p_{02}\\\\p_{11} - p_{12} & p_{12}\\end{matrix}\\right]$"
      ],
      "text/plain": [
       "Matrix([\n",
       "[p01 - p02, p02],\n",
       "[p11 - p12, p12]])"
      ]
     },
     "execution_count": 169,
     "metadata": {},
     "output_type": "execute_result"
    }
   ],
   "source": [
    "sp.Matrix([[p01, p02], [p11, p12]]) * sp.Matrix([[1, 0], [-1, 1]])"
   ]
  },
  {
   "cell_type": "markdown",
   "id": "0db915c6-cb0d-4128-ae60-8209253c5386",
   "metadata": {},
   "source": [
    "So we are heading to this"
   ]
  },
  {
   "cell_type": "code",
   "execution_count": 181,
   "id": "399f78b7-6b8e-4c7b-b9e7-e9f7f0b1db26",
   "metadata": {},
   "outputs": [],
   "source": [
    "E6 = sp.Matrix([[1, 0], [-1, 1]])\n",
    "E7 = sp.Matrix([[p01, p02], [p11, p12]])\n",
    "E8 = sp.Matrix([[c01, c02], [c11, c12]])\n",
    "E9 = E6.inv()"
   ]
  },
  {
   "cell_type": "code",
   "execution_count": 182,
   "id": "3d97a700-b488-4c6e-b14d-adc61376a74a",
   "metadata": {},
   "outputs": [
    {
     "data": {
      "text/latex": [
       "$\\displaystyle \\left[\\begin{matrix}1 & 0\\\\1 & 1\\end{matrix}\\right]$"
      ],
      "text/plain": [
       "Matrix([\n",
       "[1, 0],\n",
       "[1, 1]])"
      ]
     },
     "execution_count": 182,
     "metadata": {},
     "output_type": "execute_result"
    }
   ],
   "source": [
    "# note we \n",
    "E9"
   ]
  },
  {
   "cell_type": "code",
   "execution_count": 185,
   "id": "9f6e53da-015e-4183-a4dd-e10ab0257898",
   "metadata": {},
   "outputs": [
    {
     "data": {
      "text/latex": [
       "$\\displaystyle \\left[\\begin{matrix}p_{01} - p_{02} & p_{02}\\\\p_{11} - p_{12} & p_{12}\\end{matrix}\\right] = \\left[\\begin{matrix}c_{01} & c_{02}\\\\c_{11} & c_{12}\\end{matrix}\\right]$"
      ],
      "text/plain": [
       "Eq(Matrix([\n",
       "[p01 - p02, p02],\n",
       "[p11 - p12, p12]]), Matrix([\n",
       "[c01, c02],\n",
       "[c11, c12]]))"
      ]
     },
     "execution_count": 185,
     "metadata": {},
     "output_type": "execute_result"
    }
   ],
   "source": [
    "sp.Eq(E7 * E6, E8)"
   ]
  },
  {
   "cell_type": "code",
   "execution_count": null,
   "id": "bbeef90f-26be-4a6b-b747-f568faefa7bd",
   "metadata": {},
   "outputs": [],
   "source": [
    "# so these are interchanging matrices"
   ]
  },
  {
   "cell_type": "code",
   "execution_count": 186,
   "id": "4503af2a-e60f-49ff-b2f0-838a84c4bf9b",
   "metadata": {},
   "outputs": [
    {
     "data": {
      "text/latex": [
       "$\\displaystyle \\left[\\begin{matrix}c_{01} + c_{02} & c_{02}\\\\c_{11} + c_{12} & c_{12}\\end{matrix}\\right] = \\left[\\begin{matrix}p_{01} & p_{02}\\\\p_{11} & p_{12}\\end{matrix}\\right]$"
      ],
      "text/plain": [
       "Eq(Matrix([\n",
       "[c01 + c02, c02],\n",
       "[c11 + c12, c12]]), Matrix([\n",
       "[p01, p02],\n",
       "[p11, p12]]))"
      ]
     },
     "execution_count": 186,
     "metadata": {},
     "output_type": "execute_result"
    }
   ],
   "source": [
    "sp.Eq(E8 * E9, E7)"
   ]
  },
  {
   "cell_type": "code",
   "execution_count": null,
   "id": "4d6bc394-2c34-47d9-9d16-16616bdc897b",
   "metadata": {},
   "outputs": [],
   "source": [
    "# so this is going back and forth between "
   ]
  },
  {
   "cell_type": "code",
   "execution_count": 187,
   "id": "1770f751-7d24-4582-bbe4-856af7c00d01",
   "metadata": {},
   "outputs": [],
   "source": [
    "# now look at quadratic case  R0\n",
    "\n",
    "# 40.13"
   ]
  },
  {
   "cell_type": "code",
   "execution_count": 195,
   "id": "9a000882-d2e0-413d-bd0f-5280a60178be",
   "metadata": {},
   "outputs": [
    {
     "data": {
      "text/plain": [
       "array([t*(P1*(1 - t) + p21*t) + (1 - t)*(P0*(1 - t) + P1*t),\n",
       "       t*(P1*(1 - t) + p22*t) + (1 - t)*(P0*(1 - t) + P1*t)], dtype=object)"
      ]
     },
     "execution_count": 195,
     "metadata": {},
     "output_type": "execute_result"
    }
   ],
   "source": [
    "t, P0, P1 = sp.symbols('t, P0, P1')\n",
    "\n",
    "E10 = (1 - t) * ((1 - t) * P0 + t * P1) + t * ((1 - t) * P1 + t * P2)\n",
    "E10"
   ]
  },
  {
   "cell_type": "code",
   "execution_count": null,
   "id": "f759757f-8ecb-4a5b-8434-a3e88a2021a0",
   "metadata": {},
   "outputs": [],
   "source": []
  }
 ],
 "metadata": {
  "kernelspec": {
   "display_name": "Python 3",
   "language": "python",
   "name": "python3"
  },
  "language_info": {
   "codemirror_mode": {
    "name": "ipython",
    "version": 3
   },
   "file_extension": ".py",
   "mimetype": "text/x-python",
   "name": "python",
   "nbconvert_exporter": "python",
   "pygments_lexer": "ipython3",
   "version": "3.9.2"
  }
 },
 "nbformat": 4,
 "nbformat_minor": 5
}
