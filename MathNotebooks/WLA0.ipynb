{
 "cells": [
  {
   "cell_type": "code",
   "execution_count": 1,
   "id": "a47b8fac-ee5f-4a1c-a998-a2c34a7a8079",
   "metadata": {},
   "outputs": [],
   "source": [
    "import numpy as np\n",
    "import sympy as sp\n",
    "from IPython.display import HTML, IFrame\n",
    "import ipywidgets as widgets\n",
    "import matplotlib as mpl\n",
    "from mpl_toolkits.mplot3d import Axes3D\n",
    "import matplotlib.pyplot as plt\n",
    "mpl.rcParams['legend.fontsize'] = 10\n",
    "import pandas as pd\n",
    "import itertools\n",
    "from IPython.display import Image\n",
    "\n",
    "# This is commented out\n",
    "#%matplotlib widget\n",
    "\n",
    "# function to print latex\n",
    "def renderListToLatex(e):\n",
    "    latex_rendering = []\n",
    "\n",
    "    for i in range(len(e)):\n",
    "        latex_rendering.append(\"$$\" + sp.latex(e[i]) + \"$$\")\n",
    "    \n",
    "    return(HTML(\"\".join(latex_rendering[0:])))"
   ]
  },
  {
   "cell_type": "code",
   "execution_count": 2,
   "id": "26f6ec9a-12df-4fb0-9b3e-17373ebe17c2",
   "metadata": {},
   "outputs": [],
   "source": [
    "# geom of n - dim space \n",
    "# linear transormation\n",
    "# geometry of parralels\n",
    "\n",
    "# WLA1_1 - construction"
   ]
  },
  {
   "cell_type": "code",
   "execution_count": 3,
   "id": "680f03ce-82e8-459d-9a8f-ec7853fded3e",
   "metadata": {},
   "outputs": [],
   "source": [
    "# Note grid plane\n",
    "# directions are arbitrary \n",
    "# relative points\n",
    "# no origin  \n",
    "\n",
    "# can construct \n",
    "# observe can't meausre\n",
    "\n",
    "# observer "
   ]
  },
  {
   "cell_type": "markdown",
   "id": "6e99db3a-edef-447f-abad-626d3ca7480c",
   "metadata": {},
   "source": [
    "Observe - we can move steps, same relative position, \n",
    "Observe - vectors \n",
    "x, y # hozitonal, vetrical steps\n",
    "\n",
    "Observe - connection between geom and algebra, \n",
    "\n",
    "Observe - algebraically pair of numbers "
   ]
  },
  {
   "cell_type": "markdown",
   "id": "86be0e32-48a5-4107-973c-973248d4cf6e",
   "metadata": {},
   "source": [
    "Observe - can we consider other points, \n",
    "Obsere - we can subdive any into \n",
    "\n",
    "Observe - can cosntruct \n",
    "\n",
    "Note rule for equality\n",
    "$$\\frac{a}{b}$$ where a, b are integres b != 0\n",
    "\n",
    "Observe - ad - bc = 0"
   ]
  },
  {
   "cell_type": "markdown",
   "id": "004d7bcc-ffb8-4910-a240-3256b1dfb1c4",
   "metadata": {},
   "source": [
    "Vector......\n",
    "\n",
    "Observe2 operations, mtiple and add vectors eg - 2e1 + 5e2\n",
    "\n",
    "Geometry....one follows aother idea, multiple.....do diagrams"
   ]
  },
  {
   "cell_type": "markdown",
   "id": "81d05dba-f93a-4da8-b2a3-ff3e83b37327",
   "metadata": {},
   "source": [
    "Multiple grids....."
   ]
  },
  {
   "cell_type": "markdown",
   "id": "7e4afc1c-ee76-4ecd-93fa-1b102de932b8",
   "metadata": {},
   "source": [
    "f1 = 3e1 + e2\n",
    "f2 = e1 + 2e2\n",
    "\n",
    "Can translate between vectors"
   ]
  },
  {
   "cell_type": "markdown",
   "id": "9adf9b94-5062-46b6-b548-39fd47066567",
   "metadata": {},
   "source": [
    "Main problem of lineary algeba\n",
    "\n",
    "3x1 + x2 = y1 <br/>\n",
    "x1 + 2x2 = y2\n",
    "\n",
    "Note this is a linear , no powers or products, "
   ]
  },
  {
   "cell_type": "markdown",
   "id": "ad8f6eba-5f61-4a6e-b1d6-ac6715df6c0b",
   "metadata": {},
   "source": [
    "General case: \n",
    "\n",
    "ax1 = y1  ->    x1 = 1/a y1\n",
    "\n",
    "a != 0\n",
    "\n",
    "\n",
    "\n",
    "ax1 = bx2 = y1\n",
    "\n",
    "cx1 + dx2 = y2\n",
    "\n",
    "\n",
    "Solve for x1, x2 note tht ad - bc != 0"
   ]
  },
  {
   "cell_type": "markdown",
   "id": "30e087c2-f7b6-43c9-a60c-ea696e9563cc",
   "metadata": {},
   "source": [
    "What is geometric meaning of delta / bob / rachale\n",
    "\n",
    "now generalise to 3 dims......"
   ]
  },
  {
   "cell_type": "markdown",
   "id": "c9f6296e-8e79-4604-804f-55af7f50a0b4",
   "metadata": {},
   "source": [
    "Homework at 43.00"
   ]
  },
  {
   "cell_type": "code",
   "execution_count": null,
   "id": "06a3a1e8-3c7f-40ab-a6ed-d3e81472799a",
   "metadata": {},
   "outputs": [],
   "source": []
  }
 ],
 "metadata": {
  "kernelspec": {
   "display_name": "Python 3",
   "language": "python",
   "name": "python3"
  },
  "language_info": {
   "codemirror_mode": {
    "name": "ipython",
    "version": 3
   },
   "file_extension": ".py",
   "mimetype": "text/x-python",
   "name": "python",
   "nbconvert_exporter": "python",
   "pygments_lexer": "ipython3",
   "version": "3.9.2"
  }
 },
 "nbformat": 4,
 "nbformat_minor": 5
}
