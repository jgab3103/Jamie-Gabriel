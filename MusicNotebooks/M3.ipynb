{
 "cells": [
  {
   "cell_type": "code",
   "execution_count": 2,
   "id": "4c05fe5e-06f6-499e-a276-dbae62526532",
   "metadata": {},
   "outputs": [],
   "source": [
    "#!pip install music21"
   ]
  },
  {
   "cell_type": "code",
   "execution_count": null,
   "id": "7b874117-a25c-4158-a745-b2b48c671d5b",
   "metadata": {},
   "outputs": [],
   "source": []
  }
 ],
 "metadata": {
  "kernelspec": {
   "display_name": "Python 3",
   "language": "python",
   "name": "python3"
  },
  "language_info": {
   "codemirror_mode": {
    "name": "ipython",
    "version": 3
   },
   "file_extension": ".py",
   "mimetype": "text/x-python",
   "name": "python",
   "nbconvert_exporter": "python",
   "pygments_lexer": "ipython3",
   "version": "3.9.2"
  }
 },
 "nbformat": 4,
 "nbformat_minor": 5
}
