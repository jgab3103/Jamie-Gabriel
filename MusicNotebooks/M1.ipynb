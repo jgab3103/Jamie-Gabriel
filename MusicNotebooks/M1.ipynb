{
 "cells": [
  {
   "cell_type": "markdown",
   "id": "a8935a08-359a-4f9d-880e-a48945a28e8b",
   "metadata": {},
   "source": [
    "#### Starting to Learn about Music"
   ]
  },
  {
   "cell_type": "markdown",
   "id": "677fcbfc-5a0c-4591-a008-d7b3e3d5d214",
   "metadata": {},
   "source": [
    "Learning how to compose music or how improvise is a strange thing. Maybe you start out with some simple questions. How does music work? Why does one note follow another note? Why was some piece of music written a particular way? Maybe you will listen to a piece of music or see some notes on a score and start to think about how these decisions came to be made.\n",
    "\n",
    "When you are first starting out with music, usually you do something like learn to play an instrument. This seems like a good place to start. Maybe if you have the opportunity, you can start studying related things. You might learn about four-part harmony and counterpoint. You might also learn about orchestral music, which means learning all those different clefs, all those transposing instruments. Its hard work, but after you spend enough time doing this, you start to be able to see these dense and complicated orchestral scores looking straightforward, like it feels like you are reading something as simple as the notes on a single clef. This is good because even if you still don't know how music works, you are getting up close with the decisions composers made as they wrote music.\n",
    "\n",
    "One thing that tends to happen when you are first learning is that you tend to come across lots of different repertoire. If you are learning piano maybe you start working on some Bach at some point, maybe some Mozart (my first piano teacher was obsessed by Bartok's Mikrokosmos! It is all we did, week in, week out, for months!). So over time you begin to develop intuitions about what notes can go with what other notes, about what seems to work. You get lots of experience seeing how all kinds of different composers think about music. You can work out songs from recordings too, and find the chord progressions the and melodies. You can form judgments about it all, maybe you like what some people do, and you don't like other things.\n",
    "\n",
    "But even though you still don't know how music works (which turns out to be, perhaps, not the right question to ask), your ears have somehow developed an understanding of music, a sense of what notes are appropriate when. This seems like a long and mysterious process. What is strange though, is that the further you get into music, the less important it seems to get to the bottom of these questions. Eventually you come to point where you have absolutely no idea which notes you might be playing or composing, each note is just a response to the note that came before it or is a complement to some note that occurs at the the same time. And it works because you ears become attuned to this strange phenomena.\n",
    "\n",
    "#### Thinking and hearing\n",
    "\n",
    "When I first started out trying to learn about music, the problem was that I was approaching it as if had some kind of solution. I used to always think, how does this music thing work? What are its rules? I used to spend months looking through Bach's keyboard works.  I would take a Bach 2 part invention or fugue or something, and look at all those notes. What was going on here? What happened when he used an Eb in some particular key? Where did he do next? Was it on or off the beat? Off the beat? Why did he modulate the way he did?\n",
    "\n",
    "But it eventually dawned on me that the these were questions words couldn't really answer. No doubt Bach did it because he thought it sounded right, it was the natural outcome of his talent and his taste. So rather than trying to find an answer to all of this, it seemed like a better idea a find a way into how he was hearing, to develop a deep sense of what he was doing, to internalise it without getting hung up on the meaning. It turned that a better approach was to learn how to sing one part of his keyboard music, while playing the other parts, to get my ears right inside his music, hearing the tensions and resolution.\n",
    "\n",
    "Thinking about music is important. So is theorising about it, and this can be helpful to find a way to categorise the things that you are learning. It has all sorts of applications to, both inside and outside of music. But the main thing is listen. You can make lots of assumptions about music. You can work with general rules about right and wrong note choices and what is correct or not. But eventually your listening experience will guide you. It ends up just being about 12 possible notes in an octave that you play at some times, don't play at other times, and its your ears that make this decision.\n",
    "\n",
    "#### So what do you practice?\n",
    "\n",
    "This is difficult question because it is linked to something else. What makes you a better musician? What does it mean to be a good musician, or to be a better musician? I read somewhere that apparently you could pretty much play anything to George Shearing and he could play it back to you. I don't know about that but I have certainly met people who have amazing natural talent. I once knew this guy who was a heavy metal guitarist. One day I was telling him about Charlie Parker and I leant him a cassette, and he came back the next day and was just going crazy, saying it was the most amazing thing he had ever heard and then he would be singing the bits of solos that he loved, or playing them. It was amazing that someone could do this so fast. We ended up going and studying music together at University about a year later (and ended up both dropping out!) and by that time he was this amazing sax player and always annoying the teachers because they couldn't really teach him anything. Now sometimes when people hear these kinds of stories, they get all worried that the world is full of better musicians, that they will never be good enough. But you don't want to get hung up on this kind of stuff. Some things come easily to some people, some come slowly. Some people have lots of time and opportunity, some just need to squeeze it in somehow. Apparently Bill Evans found everything really hard, and had to work so much on his playing before it came together, and just listen to how amazing he is!\n",
    "\n",
    "If you want to learn about improvisation, there are some specific things you should know certain things. Like the sound of progressions. What does a II V I actually sound like? Can you recognise it? When you listen to jazz standards on a recording, can you easily hear all the types of progressions? What does it sound like when you go into VI minor, or into IV? To help with this, make sure you learn lots of different versions of lots different standards by working them out from the recording. How does Miles Davis play 'It Never Entered My Mind'? What about Sarah Vaughan? What about Keith Jarrett, who does something different with the chords of the bridge. The more you learn this way you realise each jazz standard has lots of possibilities, lots of ways through and they are all connected. And you can recall them because of how they sound. When you are not working with an instrument, put as many different versions of the same song into you iPod playlist or wherever. Listen to them, and know exactly where you are in the form of the song.\n",
    "\n",
    "I have found the biggest thing that has helped me with jazz is to transcribe solos. Slow down the recording, write out all the notes, and then, most importantly, memorise and play along with the recording. Play along with the recording at a slower speed so you are totally locked into the note placement, and soak up the all other aspects of the recording (like the bass and drums or whatever else is there other than what you transcribed). I found this really helpful, for technique, sense of time, and developing a deep sense of melody too.\n",
    "\n",
    "Sometimes its hard to say what helps with practice and and what does not. I spent a long time learning how to sing twelve tone rows because I wanted to my ears to be better, more attuned. But it was funny because this only seemed to help me sing twelve tone rows, it didn't seem to translate into the other things. For me personally, I find that Bach helps my technique alot. So does the Mozart Sonatas. But other things that I would expect to help with technique (such as the Chopin Etudes) have not really. So the whole practice thing seems to be little mysterious sometimes, and you need to work on stuff that somehow helps you connect with music and energises you.\n",
    "\n",
    "#### Play where you are right now\n",
    "\n",
    "I saw this Kenny Werner video a while ago and he was talking about the problem of attachment and music. There is probably alot of things I am not quiet sure about with Kenny, but I totally agree with this. Sometimes you play really well, at a gig or on your own or whatever, and you seem to attach to this experience, and you think your playing is amazing. But the next time you play, you are shocked to find things are not coming as easily any more. You play differently and you can't figure out why you seem to have gone backwards. Its also seems really true that you play better when you don't care if you play well! But if you need to really play well sometimes this just plays with your mind, and it seems terrible. Sometimes any note you play sounds perfect, but at other times it all sounds like all the stuff you always do and you don't like it. Sometimes when you are composing it seems to find hours to get just a few notes, other times music just seems to write itself. Often when you are practicing alot you get kind of exhausted with music and don't play that well at gigs because your mind just needs a break. This is a real frustration when you are starting out.\n",
    "\n",
    "So what do with this situation. I always try and remember, play where you are at, don't worry, and just keep working on it. Some days in music everything is easy, some days it is hard. Sometimes we sound great, sometimes we don't. If when you think about it, its incredible to have this amazingly sophisticated machinery in our minds that lets us create patterns with sound in time. And with something so amazing, it makes sense that it gets a little complex to manage at times.\n",
    "\n",
    "#### Where does it end?\n",
    "\n",
    "When I was studying music at university, we had this great harmony and counterpoint teacher. He always tell about the rules like hidden consecutive or when to use 6/4 chords or whatever and then roll his eyes and say we needed to think about it all differently. So the class ended up singing Bach Cantatas all the time. We all got really into it and had this crazy plan that we would learn to sing them all and record them all. At the time I can remember going home after class, standing at the train station after singing these things, and still having such a deep sense of how it all it sounded, like I could hear perfectly in my head that dissonance of a minor second and its resolution. It was so cool, and it felt like I had become music, just notes drifting in and out of the chords. So that is kind of what I go for I guess, I just want to get to the point where its almost like you become a melody, and the music just flows around you.\n",
    "\n",
    "Anyway, enough talk. Go do some practice!"
   ]
  }
 ],
 "metadata": {
  "kernelspec": {
   "display_name": "Python 3",
   "language": "python",
   "name": "python3"
  },
  "language_info": {
   "codemirror_mode": {
    "name": "ipython",
    "version": 3
   },
   "file_extension": ".py",
   "mimetype": "text/x-python",
   "name": "python",
   "nbconvert_exporter": "python",
   "pygments_lexer": "ipython3",
   "version": "3.9.2"
  }
 },
 "nbformat": 4,
 "nbformat_minor": 5
}
