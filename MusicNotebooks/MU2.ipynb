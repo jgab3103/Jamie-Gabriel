{
 "cells": [
  {
   "cell_type": "code",
   "execution_count": 2,
   "id": "016eb931-fb3b-4693-bd29-1cdbb869af31",
   "metadata": {},
   "outputs": [],
   "source": [
    "import pandas as pd"
   ]
  },
  {
   "cell_type": "markdown",
   "id": "52dd21b5-5b21-40f6-9b0d-6c373364fa48",
   "metadata": {},
   "source": [
    "# Reading a complex score\n",
    "\n",
    "PUt this to work in an example\n",
    "\n",
    "1. asdfasf\n",
    "2. asdfasdf\n",
    "3. Clarinet in A (note the different spelling - up minor 3rd ino "
   ]
  },
  {
   "cell_type": "markdown",
   "id": "49e1ff39-c3e3-43d6-8f1e-2c52d60b72ec",
   "metadata": {},
   "source": [
    "<img src = \"img/ScoreRead.png\"></img>"
   ]
  },
  {
   "cell_type": "markdown",
   "id": "28b283b0-5ad6-42f8-a130-246187e8c8a3",
   "metadata": {},
   "source": [
    "The challenge is how to do all of this quickly. Read - start with simpler scores, Mozart, Beethoven, Brahms, Schumann.\n",
    "\n",
    "1. Don't lose place\n",
    "2. Go through without music name notes understannd which octavew\n",
    "3. Read vertically\n",
    "4. Components - melody, bass, texture, counter base and counter melody"
   ]
  },
  {
   "cell_type": "code",
   "execution_count": null,
   "id": "f66bb00f-9478-42db-a093-88057f894cf2",
   "metadata": {},
   "outputs": [],
   "source": []
  }
 ],
 "metadata": {
  "kernelspec": {
   "display_name": "Python 3",
   "language": "python",
   "name": "python3"
  },
  "language_info": {
   "codemirror_mode": {
    "name": "ipython",
    "version": 3
   },
   "file_extension": ".py",
   "mimetype": "text/x-python",
   "name": "python",
   "nbconvert_exporter": "python",
   "pygments_lexer": "ipython3",
   "version": "3.9.2"
  }
 },
 "nbformat": 4,
 "nbformat_minor": 5
}
