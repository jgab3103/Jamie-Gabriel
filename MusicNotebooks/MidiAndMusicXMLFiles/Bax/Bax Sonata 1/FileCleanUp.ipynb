{
 "cells": [
  {
   "cell_type": "code",
   "execution_count": 49,
   "id": "b59a9d7c-33be-4658-bdd8-aabe2b4a2dea",
   "metadata": {},
   "outputs": [],
   "source": [
    "import music21 as mu\n",
    "mu.environment.set('musescoreDirectPNGPath', '/usr/bin/musescore')"
   ]
  },
  {
   "cell_type": "code",
   "execution_count": 50,
   "id": "3c34939d-77fd-446c-a65d-4503dc01267a",
   "metadata": {},
   "outputs": [],
   "source": [
    "input_musicxml_file = \"./IMSLP12708-Bax_(1922)_Sonata_1_in_f-sharp.xml\"  # Replace with your MusicXML file path\n",
    "output_musicxml_file = \"./IMSLP12708-Bax_(1922)_Sonata_1_in_f-sharp_post-python.xml\"  # Replace with your desired output file path\n",
    "s1 = mu.converter.parse(input_musicxml_file)\n",
    "#s1.write('musicxml', './test.xml')"
   ]
  },
  {
   "cell_type": "code",
   "execution_count": 51,
   "id": "8e84fd6f-5910-45fa-a52d-ee4cf0ca0e16",
   "metadata": {},
   "outputs": [],
   "source": [
    "s2 = s1.chordify()"
   ]
  },
  {
   "cell_type": "code",
   "execution_count": 52,
   "id": "eecee3ac-c27e-4d5d-88f8-bb94dca243b4",
   "metadata": {},
   "outputs": [],
   "source": [
    "#score2.show()"
   ]
  },
  {
   "cell_type": "code",
   "execution_count": 53,
   "id": "34025497-f036-4f00-9e93-d589e1647405",
   "metadata": {},
   "outputs": [
    {
     "name": "stdout",
     "output_type": "stream",
     "text": [
      "2 2 <music21.chord.Chord D#2 G#2 D#3 F#3 G#3 B#3 F#4 G#4>\n",
      "2 2 1/4 <music21.chord.Chord D#2 G#2 D#3 F#3 G#3 B#3 F#4 G#4>\n",
      "2 2 1/2 <music21.chord.Chord D#2 G#2 D#3 F#3 G#3 B#3 F#4>\n",
      "2 2 3/4 <music21.chord.Chord D#2 G#2 D#3 F#3 G#3 B#3 F#4 G#4>\n",
      "4 1 1/3 <music21.chord.Chord A1 A2 G3 A3 C#4 E4 G4 A4>\n",
      "4 1 1/2 <music21.chord.Chord G3 A3 C#4 E4 G4 A4>\n",
      "9 1 <music21.chord.Chord E4 G#4 B4 D5 G#5>\n",
      "10 1 <music21.chord.Chord D#3 G#3 G#4 B#4 F#5 G#5>\n",
      "12 4 <music21.chord.Chord A2 E3 C#5 G5 C#6>\n"
     ]
    }
   ],
   "source": [
    "for thisChord in s2.recurse().getElementsByClass(mu.chord.Chord):\n",
    "    if thisChord.isDominantSeventh():\n",
    "        print(thisChord.measureNumber, thisChord.beatStr, thisChord)"
   ]
  },
  {
   "cell_type": "code",
   "execution_count": 56,
   "id": "22fc72d8-bf67-4fdb-b619-f05c45fbf41d",
   "metadata": {},
   "outputs": [],
   "source": [
    "#s1.insert(0, s2)\n",
    "#s1.measures(0, 4).show()"
   ]
  },
  {
   "cell_type": "code",
   "execution_count": 63,
   "id": "fb1b0e9c-d4b5-4340-8d7c-f32187d1b7bc",
   "metadata": {},
   "outputs": [],
   "source": [
    "# for c in s2.recurse().getElementsByClass(mu.chord.Chord):\n",
    "#     c.semiClosedPosition(forceOctave=4, inPlace=True)\n",
    "\n",
    "# s1.measures(0, 4).show()"
   ]
  },
  {
   "cell_type": "code",
   "execution_count": 40,
   "id": "1e7c52c3-fbd0-4a68-a673-ecd3814b623f",
   "metadata": {},
   "outputs": [],
   "source": [
    "#b = mu.corpus.parse('bwv66.6')\n",
    "#b.show()"
   ]
  },
  {
   "cell_type": "code",
   "execution_count": 41,
   "id": "c5c515aa-f0e4-4af2-b999-3a6b2c70e78c",
   "metadata": {},
   "outputs": [],
   "source": [
    "#bChords = b.chordify()\n",
    "#bChords.show()"
   ]
  },
  {
   "cell_type": "code",
   "execution_count": 42,
   "id": "44f28152-08e4-4ced-a666-ccb9682ea31f",
   "metadata": {},
   "outputs": [],
   "source": [
    "# for thisChord in bChords.recurse().getElementsByClass(mu.chord.Chord):\n",
    "#     if thisChord.isDominantSeventh():\n",
    "#         print(thisChord.measureNumber, thisChord.beatStr, thisChord)"
   ]
  },
  {
   "cell_type": "code",
   "execution_count": 43,
   "id": "e55fe4af-c7da-4fbb-9e65-05abac17f3fa",
   "metadata": {},
   "outputs": [],
   "source": [
    "# b.insert(0, bChords)\n",
    "# b.measures(0, 4).show()"
   ]
  },
  {
   "cell_type": "code",
   "execution_count": 44,
   "id": "fe27ef97-f6e5-4877-b3ae-8d54ece7d2a6",
   "metadata": {},
   "outputs": [],
   "source": [
    "# for c in bChords.recurse().getElementsByClass(mu.chord.Chord):\n",
    "#     c.closedPosition(forceOctave=4, inPlace=True)\n",
    "\n",
    "# b.measures(0, 2).show()"
   ]
  },
  {
   "cell_type": "code",
   "execution_count": 45,
   "id": "0e8cfccd-6a79-4897-b0e4-2437ac1c57c9",
   "metadata": {},
   "outputs": [],
   "source": [
    "# for c in bChords.recurse().getElementsByClass(mu.chord.Chord):\n",
    "#     rn = mu.roman.romanNumeralFromChord(c, mu.key.Key('A'))\n",
    "#     c.addLyric(str(rn.figure))\n",
    "\n",
    "# b.measures(0, 2).show()"
   ]
  },
  {
   "cell_type": "code",
   "execution_count": null,
   "id": "361a01cf-9e8c-43c0-a682-247c76cab1db",
   "metadata": {},
   "outputs": [],
   "source": []
  }
 ],
 "metadata": {
  "kernelspec": {
   "display_name": "Python 3",
   "language": "python",
   "name": "python3"
  },
  "language_info": {
   "codemirror_mode": {
    "name": "ipython",
    "version": 3
   },
   "file_extension": ".py",
   "mimetype": "text/x-python",
   "name": "python",
   "nbconvert_exporter": "python",
   "pygments_lexer": "ipython3",
   "version": "3.9.2"
  }
 },
 "nbformat": 4,
 "nbformat_minor": 5
}
