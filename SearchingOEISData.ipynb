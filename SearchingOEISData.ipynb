{
 "cells": [
  {
   "cell_type": "code",
   "execution_count": 9,
   "metadata": {},
   "outputs": [],
   "source": [
    "import numpy as np\n",
    "from IPython.display import HTML\n",
    "import pandas as pd\n",
    "import bs4\n",
    "import requests\n",
    "\n",
    "\n",
    "# Change pandas display defaault to include full record\n",
    "pd.set_option('display.max_colwidth', None)"
   ]
  },
  {
   "cell_type": "markdown",
   "metadata": {},
   "source": [
    "This provides some code to search. \n",
    "\n",
    "\n",
    "#### 1. Preparing the search query \n",
    "\n",
    "Note there is a slighly unusual syntax you need to account for (basically appending \"2C\" to every term, removing and adding a few characters (such as \" ' \", \"%\" etc.) Here is the function to do this: "
   ]
  },
  {
   "cell_type": "code",
   "execution_count": 15,
   "metadata": {},
   "outputs": [],
   "source": [
    "def prepareOEISQuery(listOfSequenceValues):\n",
    "    \n",
    "\n",
    "    listOfSequenceValuesWithCAppended = ([\"2C\" + str(i) for i in listOfSequenceValues])\n",
    "    \n",
    "    prefix = \"https://oeis.org/search?q=\"\n",
    "    suffix = \"&language=english&go=Search\"\n",
    "\n",
    "    queryString = prefix + str(listOfSequenceValuesWithCAppended).replace(' ', '').replace('[', '').replace(']', '').replace(',', \"%\").replace(\"'\", \"\")[2:] + suffix\n",
    "    \n",
    "    return(queryString)"
   ]
  },
  {
   "cell_type": "markdown",
   "metadata": {},
   "source": [
    "#### 2. Cleaning the results\n",
    "\n",
    "You are going to get one of 2 things back. Either you match on a many different sequences or you match on a single sequence. If you match on a single sequence things are very straight forward, you can just pull out the comments, links, formulas, whatever you like. \n",
    "\n",
    "The more complicated case is that you return many sequences that meet this criteria, and often its good be able explore the similiarities of these results. \n",
    "\n",
    "Let's begin with the simple case\n",
    "\n"
   ]
  },
  {
   "cell_type": "code",
   "execution_count": 25,
   "metadata": {},
   "outputs": [],
   "source": [
    "def cleanSingleCase(query):\n",
    "    \n",
    "    url = query\n",
    "    res = requests.get(url)\n",
    "    soup = bs4.BeautifulSoup(res.content,'html.parser')\n",
    "    ttTags = soup.findAll('tt')\n",
    "    df = pd.DataFrame({'col':ttTags})\n",
    "    \n",
    "    return(df)\n",
    "    "
   ]
  },
  {
   "cell_type": "code",
   "execution_count": 26,
   "metadata": {},
   "outputs": [
    {
     "data": {
      "text/html": [
       "<div>\n",
       "<style scoped>\n",
       "    .dataframe tbody tr th:only-of-type {\n",
       "        vertical-align: middle;\n",
       "    }\n",
       "\n",
       "    .dataframe tbody tr th {\n",
       "        vertical-align: top;\n",
       "    }\n",
       "\n",
       "    .dataframe thead th {\n",
       "        text-align: right;\n",
       "    }\n",
       "</style>\n",
       "<table border=\"1\" class=\"dataframe\">\n",
       "  <thead>\n",
       "    <tr style=\"text-align: right;\">\n",
       "      <th></th>\n",
       "      <th>col</th>\n",
       "    </tr>\n",
       "  </thead>\n",
       "  <tbody>\n",
       "    <tr>\n",
       "      <th>0</th>\n",
       "      <td>[[1, 3, 5, 7], , 9, 11, 13, 15, 17, 19, 21, 23, 25, 27, 29, 31, 33, 35, 37, 39, 41, 43, 45, 47, 49, 51, 53, 55, 57, 59, 61, 63, 65, 67, 69, 71, 73, 75, 77, 79, 81, 83, 85, 87, 89, 91, 93, 95, 97, 99, 101, 103, 105, 107, 109, 111, 113, 115, 117, 119, 121, 123, 125, 127, 129, 131]</td>\n",
       "    </tr>\n",
       "    <tr>\n",
       "      <th>1</th>\n",
       "      <td>[0,2]</td>\n",
       "    </tr>\n",
       "    <tr>\n",
       "      <th>2</th>\n",
       "      <td>[Leibniz's series: Pi/4 = Sum_{n&gt;=0} (-1)^n/(2n+1) (cf. , [A072172], ).]</td>\n",
       "    </tr>\n",
       "    <tr>\n",
       "      <th>3</th>\n",
       "      <td>[Beginning of the ordering of the natural numbers used in Sharkovski's theorem - see the Cielsielski-Pogoda paper.]</td>\n",
       "    </tr>\n",
       "    <tr>\n",
       "      <th>4</th>\n",
       "      <td>[The Sharkovski ordering begins with the odd numbers &gt;= 3, then twice these numbers, then 4 times them, then 8 times them, etc., ending with the powers of 2 in decreasing order, ending with 2^0 = 1.]</td>\n",
       "    </tr>\n",
       "    <tr>\n",
       "      <th>...</th>\n",
       "      <td>...</td>\n",
       "    </tr>\n",
       "    <tr>\n",
       "      <th>797</th>\n",
       "      <td>[Cf. , [A003558],  (g permutation order), , [A102417],  (index), , [A330081],  (on bits), , [A057058],  (inverse).]</td>\n",
       "    </tr>\n",
       "    <tr>\n",
       "      <th>798</th>\n",
       "      <td>[[nonn], ,, [[tabl]]]</td>\n",
       "    </tr>\n",
       "    <tr>\n",
       "      <th>799</th>\n",
       "      <td>[[Clark Kimberling], , Sep 06 2011]</td>\n",
       "    </tr>\n",
       "    <tr>\n",
       "      <th>800</th>\n",
       "      <td>[Name corrected by , [Franklin T. Adams-Watters], , Jan 21 2012]</td>\n",
       "    </tr>\n",
       "    <tr>\n",
       "      <th>801</th>\n",
       "      <td>[approved]</td>\n",
       "    </tr>\n",
       "  </tbody>\n",
       "</table>\n",
       "<p>802 rows × 1 columns</p>\n",
       "</div>"
      ],
      "text/plain": [
       "                                                                                                                                                                                                                                                                                         col\n",
       "0    [[1, 3, 5, 7], , 9, 11, 13, 15, 17, 19, 21, 23, 25, 27, 29, 31, 33, 35, 37, 39, 41, 43, 45, 47, 49, 51, 53, 55, 57, 59, 61, 63, 65, 67, 69, 71, 73, 75, 77, 79, 81, 83, 85, 87, 89, 91, 93, 95, 97, 99, 101, 103, 105, 107, 109, 111, 113, 115, 117, 119, 121, 123, 125, 127, 129, 131]\n",
       "1                                                                                                                                                                                                                                                                                      [0,2]\n",
       "2                                                                                                                                                                                                                   [Leibniz's series: Pi/4 = Sum_{n>=0} (-1)^n/(2n+1) (cf. , [A072172], ).]\n",
       "3                                                                                                                                                                        [Beginning of the ordering of the natural numbers used in Sharkovski's theorem - see the Cielsielski-Pogoda paper.]\n",
       "4                                                                                    [The Sharkovski ordering begins with the odd numbers >= 3, then twice these numbers, then 4 times them, then 8 times them, etc., ending with the powers of 2 in decreasing order, ending with 2^0 = 1.]\n",
       "..                                                                                                                                                                                                                                                                                       ...\n",
       "797                                                                                                                                                                      [Cf. , [A003558],  (g permutation order), , [A102417],  (index), , [A330081],  (on bits), , [A057058],  (inverse).]\n",
       "798                                                                                                                                                                                                                                                                    [[nonn], ,, [[tabl]]]\n",
       "799                                                                                                                                                                                                                                                      [[Clark Kimberling], , Sep 06 2011]\n",
       "800                                                                                                                                                                                                                         [Name corrected by , [Franklin T. Adams-Watters], , Jan 21 2012]\n",
       "801                                                                                                                                                                                                                                                                               [approved]\n",
       "\n",
       "[802 rows x 1 columns]"
      ]
     },
     "execution_count": 26,
     "metadata": {},
     "output_type": "execute_result"
    }
   ],
   "source": [
    "queryString = prepareOEISQuery([1,3,5,7])\n",
    "cleanSingleCase(queryString)"
   ]
  },
  {
   "cell_type": "code",
   "execution_count": 27,
   "metadata": {},
   "outputs": [
    {
     "data": {
      "text/plain": [
       "'https://oeis.org/search?q=1%2C3%2C5%2C7&language=english&go=Search'"
      ]
     },
     "execution_count": 27,
     "metadata": {},
     "output_type": "execute_result"
    }
   ],
   "source": [
    "queryString"
   ]
  },
  {
   "cell_type": "code",
   "execution_count": null,
   "metadata": {},
   "outputs": [],
   "source": []
  }
 ],
 "metadata": {
  "kernelspec": {
   "display_name": "Python 3",
   "language": "python",
   "name": "python3"
  },
  "language_info": {
   "codemirror_mode": {
    "name": "ipython",
    "version": 3
   },
   "file_extension": ".py",
   "mimetype": "text/x-python",
   "name": "python",
   "nbconvert_exporter": "python",
   "pygments_lexer": "ipython3",
   "version": "3.9.2"
  }
 },
 "nbformat": 4,
 "nbformat_minor": 4
}
