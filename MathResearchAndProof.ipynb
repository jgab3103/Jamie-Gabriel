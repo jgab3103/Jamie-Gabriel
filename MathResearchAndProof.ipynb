{
 "cells": [
  {
   "cell_type": "markdown",
   "id": "7d572bde-26cd-4f86-8fa3-925de4c9ad59",
   "metadata": {},
   "source": [
    "#### The language of mathematical proof"
   ]
  },
  {
   "cell_type": "markdown",
   "id": "df76dbfd-f869-4d87-acad-384645a75887",
   "metadata": {},
   "source": [
    "It is perhaps unusual that mathematics, with its seemingly complex computation feels, but is really just about language. However what mathematics is really about is semantic consistence and memory. This is meant very much in a computer science way. one of the challenges is how to write effective proofs. It is critical mathematics is computable, and specification, is is possible articulate language in such as way. \n",
    "\n",
    "When I undertake mathematics, the most important issue is lanugage, so it is unexpted that language lacks specificyt during mathematical proof. \n",
    "\n",
    "Considedr the following example: A proof from a mathematician I greatly admire is as follows: \n",
    "\n",
    "\n",
    "A question about this - \"we note that\"   \"it can be seen that\" It is obvious. Suppose and Let, or \"generally. To who is this relevant? What is the audience. Take a different approach, to understand computable.Interestingly this proof is a lovely proof. and I will rewrite it below after introducing langate\n",
    "\n",
    "What this highlight however is that in mathematics, that perhaps unexpectedly, language is often used in quite a general way. Yte the purpose of mathematics is above all, precision in language. Exactitude, to speak in a way that can be clearly interpreted. This is related to something else, universal specification, in which the symbols of the language can be . \n",
    "\n",
    "The corrollary of, proof is can it be computed. Proof is a pgramterms of what can be computable, what can be provided to a machine\n",
    "\n",
    "This book brings together....proofs, types, htm\n",
    "\n"
   ]
  },
  {
   "cell_type": "markdown",
   "id": "10e20a6a-2b96-47bb-9e62-c42a0ebae14a",
   "metadata": {},
   "source": [
    "<b>Operations, Types, Properties</b>\n",
    "\n",
    "In my research, Type theory, Category Theory, schemes for naming things. \n",
    "\n",
    "<b>Operations</b>\n",
    "\n",
    "I find always invoved in 5 operations. way I approach research that everything will be prefaced with one one the 5 verbs below\n",
    "\n",
    "1. Let\n",
    "2. Assume\n",
    "3. Transform\n",
    "4. Define\n",
    "5. Observe\n",
    "\n",
    "conjecture\n",
    "\n",
    "Theorem\n",
    "\n",
    "\n",
    "\n",
    "1. Let Statements<br/>\n",
    "asdfas\n",
    "\n",
    "\n",
    "2. Assume Statements<br/>\n",
    "Convenience \n",
    "\n",
    "3. Transform Statements<br/>\n",
    "Through subsitution, manipulation, assumption\n",
    "\n",
    "4. Define Statements<br/>\n",
    "Convenience, LET\n",
    "\n",
    "5. Observe Statements<br/>\n",
    "Convenience"
   ]
  },
  {
   "cell_type": "markdown",
   "id": "12fc49cc-665a-43bc-bfc9-60621e82c421",
   "metadata": {},
   "source": [
    "<b>Types, Properties</b>"
   ]
  },
  {
   "cell_type": "markdown",
   "id": "38e0a0dd-d544-456d-ba15-38e9183c9ae9",
   "metadata": {},
   "source": [
    "An example of this in action: \n",
    "\n",
    "1. Let $P_1$ and $P_2$ are integers\n",
    "2. Assume $P_1$ is less than 10\n",
    "3. Transform $P_1$ through multiplication with $P_2$\n",
    "4. Assume $P_2$ is equivalant to 1\n"
   ]
  },
  {
   "cell_type": "markdown",
   "id": "61413000-ccad-4824-8fb1-169ed3fabeae",
   "metadata": {},
   "source": [
    "<b>Planning and visualisation</b>\n",
    "\n",
    "Aim, Methodology, Visualisation\n",
    "\n",
    "<b>Aim, Methodology</b>\n",
    "\n",
    "asdfas\n",
    "\n",
    "\n",
    "<b>Visuliation</b>\n",
    "\n",
    "asdfas"
   ]
  },
  {
   "cell_type": "code",
   "execution_count": null,
   "id": "ac9ab38b-8b08-4dc8-a8f6-db29c2cdeeed",
   "metadata": {},
   "outputs": [],
   "source": []
  }
 ],
 "metadata": {
  "kernelspec": {
   "display_name": "Python 3",
   "language": "python",
   "name": "python3"
  },
  "language_info": {
   "codemirror_mode": {
    "name": "ipython",
    "version": 3
   },
   "file_extension": ".py",
   "mimetype": "text/x-python",
   "name": "python",
   "nbconvert_exporter": "python",
   "pygments_lexer": "ipython3",
   "version": "3.9.2"
  }
 },
 "nbformat": 4,
 "nbformat_minor": 5
}
