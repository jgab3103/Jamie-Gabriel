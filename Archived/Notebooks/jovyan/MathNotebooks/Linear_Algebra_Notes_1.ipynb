{
 "cells": [
  {
   "cell_type": "code",
   "execution_count": 34,
   "metadata": {},
   "outputs": [],
   "source": [
    "import numpy as np\n",
    "import shared_functions as sf\n",
    "import sympy as sp\n",
    "from IPython.display import HTML\n",
    "import matplotlib.pyplot as plt\n",
    "from sympy.plotting import plot"
   ]
  },
  {
   "cell_type": "markdown",
   "metadata": {},
   "source": [
    "Linear algebra, geometry of n-space, affine and its linear transformation, wide applicaitons in. Solve systems of equations. \n",
    "\n",
    "But it is also more than that, importance, Calculus is really draws from a range of different areas, topology etc, \n",
    "\n",
    "What what is the problem that Linear Algebra sets out to solve? Why does it matter? Sets out to solve a subtle yet profound problem: I like to think of the problem around how to find the values $x_1$, $x_y$ in terms of $y_1$ and $y_2$. But what does that mean. For me, given some location or coordinate, how to translate that. Linear is about translationand realtiveity between space. As a basic proof, if I name numbers, relatinoship between how you would name them. \n",
    "\n",
    "In this sense, I think of linear algebra as almost an API technology of mathematics. A way to translate a point of view to into another point of view. Let's say bob draws a line in some space between that is defined as $x_0$ and $x_1$. Alice sees the world in terms of a coordinate system with. \n",
    "\n",
    "I can apply some kind of arbitrary structure to the world. You too can apply some kind of arbitrary strucutre to teh world. how can these things communicate. \n",
    "\n",
    "Fining relative terms is gives an immediete practical application, so solving systems of equations. The most important thing for me is to develop possiblity of needing to use numbers to do things in math, but counting items is dependent of a point of view. relative counting systems. \n",
    "\n",
    "This also manifests itself in systesm\n",
    "\n",
    "$$ y_1 = x_1 + 2x_2 $$\n",
    "$$ y_2 = -x_1 - x_2 + 3x_3 $$\n",
    "$$ y_3 = 0x_1 + x_2 + 5x_3 $$\n",
    "\n",
    "The difficuly in Linear Algebra is that it allows communciation between arrbitrary coodinate systems, but if an coordinate system is arbiratry then any attempt to visualse it makes no sense. So we are proceeding algebrically in this problem. We know from algebra that to find the answer for the firs equation we can't find 3 unknown values. But Let's start with the idea of linear transformation and algebra is itself arbirary. \n",
    "\n",
    "To keep going forward, we are going to proceed with a combination of geometrical intuitions and and algebraically at first to build intuitinos before formalising things to a more algebraic point of view. One of the benefits of matheamtics is that we can draw from ideas more informally,  introduce the idea  \n",
    "Let's also begin with a visual interprestation, introduce affine geometry, relative coordinate systmes\n",
    "\n",
    "<h4>Affine Geometry</h4>"
   ]
  },
  {
   "cell_type": "markdown",
   "metadata": {},
   "source": [
    "Let's start by building up an Affine geomery, to provide a visual context way of understanding the problem at hand, and then moving on. Again, brings us to the way mathemtics is being done, we look for intuitive analoges, draw somethign int eh sand, find patterns and extraploate. To formalise, we need to move to algebra which effectively. It should not matter what something looks like but we should gain ideas from our interaction in the world\n",
    "\n",
    "Affine geometry starts with the premise that we can construct lines using a straight edge and construct. There are some ideas, here. We can construct parallels, however no perpendicular lines. Afffine geometry \n",
    "\n",
    "- No disntance measurement\n",
    "- No special points (i.e. origin)\n",
    "- No agle measurement\n",
    "\n",
    "Now we should consider just why we would construct this type of geometry. Why not set the scene with Cartesian, Hyperbolic, Euclidean? Is the cosntruction of a geometry with just a straight edge somewhow superior. The answer to this is that that Affine provides the most general way we can to get started. Other geometries will include these basic instructinos and build from there. So in many ways, Affine Geometry allows us to be as general as posssible, and we can find results and intuitinos they weill hold in other areas\n",
    "\n",
    "The idea here is that we are trying to be as foundational as possible, and see if can exent, as genral as possible. Let's start by construction and use python. Build a geometry. We are going to use a few sympy functions here, but we are mm\n",
    "\n",
    "To construct with this, we will start with \n",
    "\n",
    "We are going to create code to do 2 thins: \n",
    "\n"
   ]
  },
  {
   "cell_type": "code",
   "execution_count": 35,
   "metadata": {},
   "outputs": [],
   "source": [
    "def convert_to_mpl_points(coords):\n",
    "    \n",
    "    x_coords = np.array([e[0] for e in coords])\n",
    "    y_coords = np.array([e[1] for e in coords])\n",
    "    return([x_coords, y_coords])\n",
    "\n"
   ]
  },
  {
   "cell_type": "code",
   "execution_count": 36,
   "metadata": {},
   "outputs": [],
   "source": [
    "starting_height = 3\n",
    "second_height = 5\n",
    "start_x = 0\n",
    "end_x = 20\n",
    "start_y = 0\n",
    "end_y = 8\n",
    "r = sp.Point(start_x,starting_height)"
   ]
  },
  {
   "cell_type": "markdown",
   "metadata": {},
   "source": [
    "initial grid here"
   ]
  },
  {
   "cell_type": "markdown",
   "metadata": {},
   "source": [
    "So so far we have arbrirarity constructed 4 lines. We can't do anythign but parralel lines, so we can't look at the distance between $l1$ and $l2$, neither can we look at difference between $l3$ and $l4$\n",
    "\n",
    "However can create lines, \n",
    "\n",
    "1. given a point, we can createa line that is parallel to another\n",
    "2. given 2 points, we can draw a line"
   ]
  },
  {
   "cell_type": "code",
   "execution_count": 37,
   "metadata": {},
   "outputs": [],
   "source": [
    "# STEP 1 -  create lines with random params\n",
    "l1 = sp.Line(sp.Point(start_x,starting_height), sp.Point(end_x,starting_height))\n",
    "l2 = sp.Line(sp.Point(start_x,second_height), sp.Point(end_x,second_height))\n",
    "l3 = sp.Line(sp.Point(start_x + 5, start_y), sp.Point(start_x + 2, end_y ))\n",
    "l4 = sp.Line(sp.Point(start_x + 7, start_y), sp.Point(start_x + 4, end_y ))\n",
    "\n",
    "# STEP 2 - draw a line between the diagonals\n",
    "u = l1.intersection(l3)\n",
    "w = l2.intersection(l4)\n",
    "e = sp.Point(u[0].args[0],u[0].args[1])\n",
    "f = sp.Point(w[0].args[0],w[0].args[1])\n",
    "l6 = sp.Line(e.translate(-2.,-2.), f.translate(2,2))\n",
    "\n",
    "\n",
    "# create a parallel line going through intersection\n",
    "z = l1.intersection(l4)\n",
    "h = sp.Point(z[0].args[0] + l6.slope.as_numer_denom()[1],u[0].args[1] + l6.slope.as_numer_denom()[0])\n",
    "l7 = sp.Line(z[0].translate(-2, -2), h.translate(-2,-2))\n",
    "\n",
    "\n",
    "y = l2.intersection(l3)\n",
    "h = sp.Point(y[0].args[0] + l6.slope.as_numer_denom()[1],y[0].args[1] + l6.slope.as_numer_denom()[0])\n",
    "l8 = sp.Line(y[0].translate(-2, -2), h.translate(-2,-2))\n",
    "\n",
    "\n"
   ]
  },
  {
   "cell_type": "code",
   "execution_count": 38,
   "metadata": {},
   "outputs": [
    {
     "data": {
      "image/png": "[encoded data removed]",
      "text/plain": [
       "<Figure size 1080x360 with 3 Axes>"
      ]
     },
     "metadata": {},
     "output_type": "display_data"
    }
   ],
   "source": [
    "fig, ax = plt.subplots(1, 3, figsize=(15, 5))\n",
    "\n",
    "l1_p = convert_to_mpl_points(l1.points)\n",
    "l2_p = convert_to_mpl_points(l2.points)\n",
    "l3_p = convert_to_mpl_points(l3.points)\n",
    "l4_p = convert_to_mpl_points(l4.points)\n",
    "l6_p = convert_to_mpl_points(l6.points)\n",
    "l7_p = convert_to_mpl_points(l7.points)\n",
    "l8_p = convert_to_mpl_points(l8.points)\n",
    "\n",
    "\n",
    "p1= ax[0].plot(l1_p[0], l1_p[1], 'b')\n",
    "p2= ax[0].plot(l2_p[0], l2_p[1], 'b')\n",
    "p3= ax[0].plot(l3_p[0], l3_p[1], 'b')\n",
    "p4= ax[0].plot(l4_p[0], l4_p[1], 'b')\n",
    "\n",
    "\n",
    "p1= ax[1].plot(l1_p[0], l1_p[1], 'b')\n",
    "p2= ax[1].plot(l2_p[0], l2_p[1], 'b')\n",
    "p3= ax[1].plot(l3_p[0], l3_p[1], 'b')\n",
    "p4= ax[1].plot(l4_p[0], l4_p[1], 'b')\n",
    "p5= ax[1].plot(l6_p[0], l6_p[1], 'r', linewidth = .3)\n",
    "p6= ax[1].plot(l7_p[0], l7_p[1], 'r', linewidth = .3)\n",
    "p8= ax[1].plot(l8_p[0], l8_p[1], 'r', linewidth = .3)\n"
   ]
  },
  {
   "cell_type": "markdown",
   "metadata": {},
   "source": [
    "Admittedly, this is a bit of a hack, but the point to make is t but we have never measured anything. Step 1 has been to construct  Python hack, but what is interesting to note here is the only thing we have done is havent measured anything, haven't created an origin, haven't created angles, are have mearly simulated the experience of drawing lines and arrived at some kind of visual grid. And further, we could start anywhere we liked at any ponit adn start counting. \n",
    "\n",
    "In the 3rd grid, the dot is some kind of arbitrary starting poing from which we can start moving. We can construct parallel lines and we can count but we can do nothing else. So we can choose any point, and draw a line. \n",
    "\n",
    "We can start with a notion of points and lines, equivalence. What the kinds of structures that we can \n",
    "\n",
    "Points is a away"
   ]
  },
  {
   "cell_type": "code",
   "execution_count": null,
   "metadata": {},
   "outputs": [],
   "source": []
  }
 ],
 "metadata": {
  "kernelspec": {
   "display_name": "SageMath 9.0",
   "language": "sage",
   "name": "sagemath"
  },
  "language_info": {
   "codemirror_mode": {
    "name": "ipython",
    "version": 3
   },
   "file_extension": ".py",
   "mimetype": "text/x-python",
   "name": "python",
   "nbconvert_exporter": "python",
   "pygments_lexer": "ipython3",
   "version": "3.7.3"
  }
 },
 "nbformat": 4,
 "nbformat_minor": 4
}
