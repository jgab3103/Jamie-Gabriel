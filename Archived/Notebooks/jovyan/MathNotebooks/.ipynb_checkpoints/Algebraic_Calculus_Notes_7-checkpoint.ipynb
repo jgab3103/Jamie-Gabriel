{
 "cells": [
  {
   "cell_type": "code",
   "execution_count": 1,
   "metadata": {},
   "outputs": [],
   "source": [
    "import numpy as np\n",
    "import sympy as sp\n",
    "import shared_functions as sf\n",
    "from IPython.display import HTML\n",
    "import matplotlib.pyplot as plt"
   ]
  },
  {
   "cell_type": "markdown",
   "metadata": {},
   "source": [
    "Our focus in the last notebook, we used parabolas and cubic parameterisations and explored constructing oreintated edges and splines that could be in some sense, mapped to this these paramaterisations to provide approximations of area. We also saw that parabolic case, a theory of Archimedes\n",
    "\n",
    "At this point we have a number of related formulas and I have created a shared_functions.py to hold them, and we will call them in as needed, and we will add to them. better practice and we will end up with too much boiler plate to get us started\n",
    "\n",
    "At this point it is important to mention that parabolic functions, but circles are quiet different, and to an extent, more problematic. We won't be possible to find some kind of computation such as $ \\frac 16 (1-\\frac {1}{n^2}) $ where we can see that it approahces some particular number as n get's large. The circle does not lend itself to that. \n",
    "\n",
    "Let's start this issue, by just proceeding in a small way start exploring this using a parameterisation of a circle and providing a visualisation. Recall taht we have a parametrisatio of a circlewe will do an inscribed approximation to the circle, and then circumstrctived. Inscribed is standard area\n",
    "\n",
    "$$A_t=e(t)=\\left[\\frac{1-t^2}{1+t^2},\\frac{2t}{1+t^2}\\right]$$\n",
    "\n",
    "Let's start by putting that in, we will aslo put some points in. We will create a function for it: "
   ]
  },
  {
   "cell_type": "code",
   "execution_count": 2,
   "metadata": {},
   "outputs": [],
   "source": [
    "def compute_parameterised_point_from_circle(t):\n",
    "    x1 = (1 - t^2) / ( 1 + t^2)\n",
    "    x2 = (2 * t) / (1 + t^2)\n",
    "    return([x1, x2])"
   ]
  },
  {
   "cell_type": "code",
   "execution_count": 3,
   "metadata": {},
   "outputs": [
    {
     "data": {
      "text/plain": [
       "[<matplotlib.lines.Line2D object at 0x7f50e2f6df60>]"
      ]
     },
     "execution_count": 3,
     "metadata": {},
     "output_type": "execute_result"
    },
    {
     "data": {
      "image/png": "[encoded data removed]",
      "text/plain": [
       "<Figure size 432x288 with 1 Axes>"
      ]
     },
     "metadata": {},
     "output_type": "display_data"
    }
   ],
   "source": [
    "fig, ax = plt.subplots()\n",
    "# points for circle\n",
    "initial_values = np.arange(start=-1000, stop=1000, step=.001)\n",
    "r = 1\n",
    "x2 = (r * (1 - initial_values^2) / (1 + initial_values^2))\n",
    "y2 = ((2 * r * initial_values) / (1 + initial_values^2))\n",
    "\n",
    "\n",
    "points_choice = np.array([compute_parameterised_point_from_circle(0),\n",
    "                         compute_parameterised_point_from_circle(1/4),\n",
    "                         compute_parameterised_point_from_circle(1/2),\n",
    "                         compute_parameterised_point_from_circle(3/4),\n",
    "                        compute_parameterised_point_from_circle(1),])\n",
    "#points_for_plotting = np.append(points_choice, [points_choice[0]], axis=0)\n",
    "x1 = [e[0] for e in points_choice]\n",
    "y1 = [e[1] for e in points_choice]\n",
    "\n",
    "\n",
    "ax.axis('equal')\n",
    "\n",
    "ax.plot(x2, y2, 'b')\n",
    "ax.plot(x1, y1, 'r')\n",
    "ax.plot(x1, y1, 'ro')"
   ]
  },
  {
   "cell_type": "code",
   "execution_count": 4,
   "metadata": {},
   "outputs": [
    {
     "data": {
      "text/plain": [
       "3243/4250"
      ]
     },
     "execution_count": 4,
     "metadata": {},
     "output_type": "execute_result"
    }
   ],
   "source": [
    "sf.compute_signed_area_using_meisters_formula([compute_parameterised_point_from_circle(0),\n",
    "                         compute_parameterised_point_from_circle(1/4),\n",
    "                         compute_parameterised_point_from_circle(1/2),\n",
    "                         compute_parameterised_point_from_circle(3/4),\n",
    "                         compute_parameterised_point_from_circle(1)], is_cyclic = False)"
   ]
  },
  {
   "cell_type": "markdown",
   "metadata": {},
   "source": [
    "Note that is we coudl multiply this by 4 to get the signed area constructed by splines and get a approximation for $\\pi$. Of course its not very accurate "
   ]
  },
  {
   "cell_type": "code",
   "execution_count": 5,
   "metadata": {},
   "outputs": [
    {
     "data": {
      "text/plain": [
       "3.05223529411765"
      ]
     },
     "execution_count": 5,
     "metadata": {},
     "output_type": "execute_result"
    }
   ],
   "source": [
    "(3243 / 4250) * 4."
   ]
  },
  {
   "cell_type": "markdown",
   "metadata": {},
   "source": [
    "Its worth noting interesting above, that as poitns in icnrease, teh splines becomes shorter. let's drow alow more "
   ]
  },
  {
   "cell_type": "code",
   "execution_count": 15,
   "metadata": {},
   "outputs": [
    {
     "data": {
      "text/plain": [
       "[<matplotlib.lines.Line2D object at 0x7f50e2b31630>]"
      ]
     },
     "execution_count": 15,
     "metadata": {},
     "output_type": "execute_result"
    },
    {
     "data": {
      "image/png": "[encoded data removed]",
      "text/plain": [
       "<Figure size 432x288 with 1 Axes>"
      ]
     },
     "metadata": {},
     "output_type": "display_data"
    }
   ],
   "source": [
    "fig, ax = plt.subplots()\n",
    "# points for circle\n",
    "\n",
    "\n",
    "\n",
    "points_choice = np.array([compute_parameterised_point_from_circle(i) for i in np.arange(0,10, .25)])\n",
    "#points_for_plotting = np.append(points_choice, [points_choice[0]], axis=0)\n",
    "x1 = [e[0] for e in points_choice]\n",
    "y1 = [e[1] for e in points_choice]\n",
    "\n",
    "\n",
    "initial_values = np.arange(start=-200, stop=200, step=.01)\n",
    "circle_coords = [compute_parameterised_point_from_circle(i) for i in initial_values]\n",
    "x2 = [e[0] for e in circle_coords]\n",
    "y2 = [e[1] for e in circle_coords]\n",
    "\n",
    "\n",
    "ax.axis('equal')\n",
    "\n",
    "ax.plot(x2, y2, 'b')\n",
    "ax.plot(x1, y1, 'r')\n",
    "ax.plot(x1, y1, 'ro')"
   ]
  },
  {
   "cell_type": "markdown",
   "metadata": {},
   "source": [
    "Or we could go the other way too"
   ]
  },
  {
   "cell_type": "code",
   "execution_count": 16,
   "metadata": {},
   "outputs": [
    {
     "data": {
      "text/plain": [
       "[<matplotlib.lines.Line2D object at 0x7f50e2af08d0>]"
      ]
     },
     "execution_count": 16,
     "metadata": {},
     "output_type": "execute_result"
    },
    {
     "data": {
      "image/png": "[encoded data removed]",
      "text/plain": [
       "<Figure size 432x288 with 1 Axes>"
      ]
     },
     "metadata": {},
     "output_type": "display_data"
    }
   ],
   "source": [
    "fig, ax = plt.subplots()\n",
    "# points for circle\n",
    "\n",
    "\n",
    "\n",
    "points_choice = np.array([compute_parameterised_point_from_circle(i) for i in np.arange(0,-10, -.25)])\n",
    "#points_for_plotting = np.append(points_choice, [points_choice[0]], axis=0)\n",
    "x1 = [e[0] for e in points_choice]\n",
    "y1 = [e[1] for e in points_choice]\n",
    "\n",
    "\n",
    "initial_values = np.arange(start=-200, stop=200, step=.01)\n",
    "circle_coords = [compute_parameterised_point_from_circle(i) for i in initial_values]\n",
    "x2 = [e[0] for e in circle_coords]\n",
    "y2 = [e[1] for e in circle_coords]\n",
    "\n",
    "\n",
    "ax.axis('equal')\n",
    "\n",
    "ax.plot(x2, y2, 'b')\n",
    "ax.plot(x1, y1, 'r')\n",
    "ax.plot(x1, y1, 'ro')"
   ]
  },
  {
   "cell_type": "markdown",
   "metadata": {},
   "source": [
    "Now let's look at the circumscribed version: here we are buidling slines that are tangent to th circle, and then creating a signed area. We will need to deal with lines for this his gives us a sense we are looking at a more complex structure. Again, note we are dealing with \n",
    "\n",
    "$$A_t=e(t)=\\left[\\frac{1-t^2}{1+t^2},\\frac{2t}{1+t^2}\\right]$$\n",
    "\n",
    "but we need tangent line first...."
   ]
  },
  {
   "cell_type": "code",
   "execution_count": null,
   "metadata": {},
   "outputs": [],
   "source": []
  },
  {
   "cell_type": "code",
   "execution_count": null,
   "metadata": {},
   "outputs": [],
   "source": []
  },
  {
   "cell_type": "code",
   "execution_count": null,
   "metadata": {},
   "outputs": [],
   "source": []
  },
  {
   "cell_type": "code",
   "execution_count": null,
   "metadata": {},
   "outputs": [],
   "source": []
  },
  {
   "cell_type": "code",
   "execution_count": null,
   "metadata": {},
   "outputs": [],
   "source": []
  },
  {
   "cell_type": "code",
   "execution_count": null,
   "metadata": {},
   "outputs": [],
   "source": []
  }
 ],
 "metadata": {
  "kernelspec": {
   "display_name": "SageMath 9.0",
   "language": "sage",
   "name": "sagemath"
  },
  "language_info": {
   "codemirror_mode": {
    "name": "ipython",
    "version": 3
   },
   "file_extension": ".py",
   "mimetype": "text/x-python",
   "name": "python",
   "nbconvert_exporter": "python",
   "pygments_lexer": "ipython3",
   "version": "3.7.3"
  }
 },
 "nbformat": 4,
 "nbformat_minor": 4
}
