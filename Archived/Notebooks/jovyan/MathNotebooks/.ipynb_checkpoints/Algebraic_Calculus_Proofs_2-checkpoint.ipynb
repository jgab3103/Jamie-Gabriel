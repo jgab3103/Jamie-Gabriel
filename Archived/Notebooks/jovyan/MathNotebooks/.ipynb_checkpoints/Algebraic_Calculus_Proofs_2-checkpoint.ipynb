{
 "cells": [
  {
   "cell_type": "code",
   "execution_count": 1,
   "metadata": {},
   "outputs": [],
   "source": [
    "import sympy as sp\n",
    "import numpy as np"
   ]
  },
  {
   "cell_type": "markdown",
   "metadata": {},
   "source": [
    "<h3>Overview</h3><br/>\n",
    "The takeaways from this section:\n",
    "\n",
    "* With any 3 points you can construct a triangle (which has been algebraically defined). If the points of the triangle happen to colinnear, then this triangle has a an area of 0\n",
    "* The signed Area of a triangle is equivalent to the absolute value of the $\\frac{1}{2} b  h$ formula we have all seen in high school. But being signed lets it be far more general and powerful\n",
    "* The idea of clockwise or counter-clockwise, just captures the arbritrary starting point\n",
    "* We should only assume what can be established algebraically. Having said that, alot of intuitive things tend to emerge in these proofs: 2 smaller triangles within an larger triangle can be summed to give the same result; two triangles comprising a single parallelogram will sum to give the area of the parallelogram\n",
    "* In this section we are introduced to the the F7 field. The purpose of this will become more clear, but establishing that we can be very general, working over limited fields the mathematics still holds up which is what we want.\n",
    "\n",
    "\n",
    "<h3>Proofs</h3>\n",
    "<div>13 proofs in this section, with a focus on signed areas, and how these operates in parallelograms and circles. And some F7 stuff</div>\n",
    "<br/>\n",
    "<a href=\"#\">Proof 2_2_5:</a><br/>\n",
    "<i>Proposition:</i> If $O, A$ and $B$ are collinear points, and $O = (0,0)$, then  $s(\\widetilde{OAB})=s(\\widetilde{OBA})=0$\n",
    "\n",
    "\n",
    "[Proof 2_2_7](#2_2_7)<br/>\n",
    "<i>Proposition:</i> The absolute value of the signed area of an oriented triangle on a Cartesian plane is equivalent to the standard definition ($\\frac{1}{2}ab$) of an area of a triangle.\n",
    "\n",
    "<a href=\"#\">Proof 2_2_8:</a><br/>\n",
    "<i>Proposition:</i> The signed area of a counter clockwise oriented triangle is positive, while the signed area of a clockwise oriented triangle is negative.\n",
    "\n",
    "<a href=\"#\">Proof 2_2_9:</a><br/>\n",
    "<i>Proposition:</i> For an oriented triangle $\\widetilde{OAB}$, if there is a point D that is incident to on the line $AB$, then $ s(\\widetilde{OAB})=s(\\widetilde{OAD})+s(\\widetilde{ODB}). $\n",
    "\n",
    "\n",
    "[Proof 2_2_10](#2_2_10)<br/>\n",
    "<i>Proposition:</i> If the parallelogram $\\overline{OADB}$ is comprised of the points $O= [0,0]$, $A=[a,b]$, $B=[c,d]$, and $D=[a+c,b+d]$, and its signed area is defined as $s(\\widetilde{OADB}) =2s(\\widetilde{OAB})=ad-bc$, then this signed area will be equivalent to the the sum $ s(\\widetilde{OAD})+s(\\widetilde{ODB})$<br/><i>For this proof note that, by defintion, a parallelogram can be oriented this is two ways, to get two oriented parallelograms, for examples $\\widetilde{OADB}$ and $\\widetilde{OBDA}$</i>.\n",
    "\n",
    "[Proof 2_2_11](#2_2_11)<br/>\n",
    "<i>Proposition:</i> Given the points $O, A, B$, and $C$, if the point C is obtained from the point B by adding a multiple of the vector $\\overset{\\rightharpoonup}{OA}$, then  $s(\\widetilde{OAC})=s(\\widetilde{OAB})$\n",
    "\n",
    "\n",
    "[Proof 2_2_12](#2_2_12)<br/>\n",
    "<i>Proposition:</i> If two orientated triangles $\\widetilde{OAB}$ and $\\widetilde{OA'B'}$ have been constructed from the points $O, A, B, A'$, and $B'$, and the point $A'$ has been constructed from a linear transformation applied to $A=[x,y]$ to $A'=[x+y,y]$, then the signed areas of the orientated triangles will be equivalent. \n",
    "\n",
    "[Proof 2_2_13](#2_2_13)<br/>\n",
    "<i>Proposition:</i> If two orientated triangles $\\widetilde{OAB}$ and $\\widetilde{OA'B'}$ have been constructed from the points $O, A, B, A'$, and $B'$,   and the point $A'$ has been constructed from a linear transformation applied to  $A=[x,y]$, resulting in $A'=[\\alpha x+\\beta y,\\gamma x+\\delta y]$, for some fixed numbers α,β,γ,δ, then  $s(\\widetilde{OA'B'})=(\\alpha \\delta-\\beta\\gamma)s(\\widetilde{OAB})$.\n",
    "\n",
    "[Proof 2_2_14](#2_2_14)<br/>\n",
    "<i>Proposition:</i> If a general point on a parabola, $y=x^2$ can be described by $p(t)=[t,t^2]$, then an expression for $s(\\widetilde{OAB})$, (in the case of $A=p(t)$ and $B=p(u)$, where t and u are parameters can be described as: $ s(\\widetilde{OAB})=\\frac12(tu^2-t^2u)=\\frac{tu}{2}(u-t). $\n",
    "\n",
    "\n",
    "[Proof 2_2_15](#2_2_15)<br/>\n",
    "<i>Proposition:</i> If a general point on the unit circle $ x2+y2=1$ can be described by the parametrization 4$ e(t)=\\left[\\frac{1-t^2}{1+t^2},\\frac{2t}{1+t^2}\\right]. $, then the range of values for $s(\\widetilde{OAB})$, (where A=e(t), B=e(u)) can be expressed as $-\\frac12\\le s(\\widetilde{OAB})\\le \\frac12.$\n",
    "\n",
    "\n",
    "[Proof 2_2_17](#2_2_17)<br/>\n",
    "<i>Proposition:</i> For the given integers $k$ and $\\ell$,  $k$ is equivalent to  $\\ell mod7$ precisely when $k=l+7r$ for some integer r\n",
    "\n",
    "<a href=\"#\">Proof 2_2_17_ii:</a><br/>\n",
    "<i>Proposition:</i> if $k,\\ell,m$ and $n$ are integers such that $k$ is equivalent to $\\ell mod7$ and $m$ is equivalent to $nmod7$, then $km$ is equivalent to $\\ell nmod7$.\n",
    "\n",
    "\n",
    "<a href=\"#\">Proof 2_2_19_i:</a><br/>\n",
    "<i>Proposition:</i> Show that every line in the F7 plane passes through exactly 7 affine points.\n",
    "\n"
   ]
  },
  {
   "cell_type": "markdown",
   "metadata": {},
   "source": [
    "### Chapter 1 <a class=\"anchor\" id=\"chapter1\"></a>"
   ]
  },
  {
   "cell_type": "markdown",
   "metadata": {},
   "source": [
    "### Proof 2_2_5\n",
    "<i>Proposition:</i> If $O, A$ and $B$ are collinear points, and $O = (0,0)$, then  $s(\\widetilde{OAB})=s(\\widetilde{OBA})=0$"
   ]
  },
  {
   "cell_type": "code",
   "execution_count": 2,
   "metadata": {},
   "outputs": [],
   "source": [
    "a, b, c, d, k, x_0, x_1 = sp.symbols('a, b, c, d, k, x_0, x_1 ')\n",
    "# Let a, b, c, d, k be variables "
   ]
  },
  {
   "cell_type": "code",
   "execution_count": 3,
   "metadata": {},
   "outputs": [],
   "source": [
    "T1 = [a, b]\n",
    "#Let T1 be a point constructed from a and b"
   ]
  },
  {
   "cell_type": "code",
   "execution_count": 4,
   "metadata": {},
   "outputs": [],
   "source": [
    "T2 = [c, d]\n",
    "# Let T2 be a point constructed from c and d"
   ]
  },
  {
   "cell_type": "code",
   "execution_count": 5,
   "metadata": {},
   "outputs": [],
   "source": [
    "T3 = [0,0]\n",
    "# Let T3 be a point constructed from 0 and 0"
   ]
  },
  {
   "cell_type": "code",
   "execution_count": 6,
   "metadata": {},
   "outputs": [],
   "source": [
    "T4 = [0, k * -x_0, x_1]\n",
    "# let T4 for a line constructed from 0, x_0, and x_1"
   ]
  },
  {
   "cell_type": "code",
   "execution_count": 7,
   "metadata": {},
   "outputs": [
    {
     "data": {
      "text/latex": [
       "$\\displaystyle - k x_{0} + x_{1} = 0$"
      ],
      "text/plain": [
       "Eq(-k*x_0 + x_1, 0)"
      ]
     },
     "execution_count": 7,
     "metadata": {},
     "output_type": "execute_result"
    }
   ],
   "source": [
    "R1 = sp.Eq(T4[1] + T4[2], -T4[0])\n",
    "R1\n",
    "# The construction T1 creates the following relationship:"
   ]
  },
  {
   "cell_type": "code",
   "execution_count": 8,
   "metadata": {},
   "outputs": [
    {
     "data": {
      "text/latex": [
       "$\\displaystyle b x_{1} = a k x_{0}$"
      ],
      "text/plain": [
       "Eq(b*x_1, a*k*x_0)"
      ]
     },
     "execution_count": 8,
     "metadata": {},
     "output_type": "execute_result"
    }
   ],
   "source": [
    "R2 = sp.Eq(b*x_1, a*k*x_0)\n",
    "R2\n",
    "# Suppose that T1 is incident to to T4"
   ]
  },
  {
   "cell_type": "code",
   "execution_count": 9,
   "metadata": {},
   "outputs": [
    {
     "data": {
      "text/latex": [
       "$\\displaystyle d x_{1} = c k x_{0}$"
      ],
      "text/plain": [
       "Eq(d*x_1, c*k*x_0)"
      ]
     },
     "execution_count": 9,
     "metadata": {},
     "output_type": "execute_result"
    }
   ],
   "source": [
    "R3 = sp.Eq(d * x_1, k*c * x_0)\n",
    "R3\n",
    "# Suppose that T2 is incident to to T4"
   ]
  },
  {
   "cell_type": "code",
   "execution_count": 10,
   "metadata": {},
   "outputs": [
    {
     "data": {
      "text/latex": [
       "$\\displaystyle \\text{True}$"
      ],
      "text/plain": [
       "True"
      ]
     },
     "execution_count": 10,
     "metadata": {},
     "output_type": "execute_result"
    }
   ],
   "source": [
    "R3_5 = sp.Eq(0 * x_1, k*0 * x_0)\n",
    "R3_5\n",
    "# Suppose that T3 is incident to to T4"
   ]
  },
  {
   "cell_type": "code",
   "execution_count": 11,
   "metadata": {},
   "outputs": [],
   "source": [
    "# Note that by definition, if 3 points are incident to the same line\n",
    "# they are collinear"
   ]
  },
  {
   "cell_type": "code",
   "execution_count": 12,
   "metadata": {},
   "outputs": [
    {
     "data": {
      "text/latex": [
       "$\\displaystyle a = \\frac{b x_{1}}{k x_{0}}$"
      ],
      "text/plain": [
       "Eq(a, b*x_1/(k*x_0))"
      ]
     },
     "execution_count": 12,
     "metadata": {},
     "output_type": "execute_result"
    }
   ],
   "source": [
    "R4 = sp.Eq(a, sp.solve(R2, a)[0])\n",
    "R4\n",
    "# Manipulate R2 to solve for a"
   ]
  },
  {
   "cell_type": "code",
   "execution_count": 13,
   "metadata": {},
   "outputs": [
    {
     "data": {
      "text/latex": [
       "$\\displaystyle b = \\frac{a k x_{0}}{x_{1}}$"
      ],
      "text/plain": [
       "Eq(b, a*k*x_0/x_1)"
      ]
     },
     "execution_count": 13,
     "metadata": {},
     "output_type": "execute_result"
    }
   ],
   "source": [
    "R5 = sp.Eq(b, sp.solve(R2, b)[0])\n",
    "R5\n",
    "# Manipulate R2 to solve for b"
   ]
  },
  {
   "cell_type": "code",
   "execution_count": 14,
   "metadata": {},
   "outputs": [
    {
     "data": {
      "text/latex": [
       "$\\displaystyle c = \\frac{d x_{1}}{k x_{0}}$"
      ],
      "text/plain": [
       "Eq(c, d*x_1/(k*x_0))"
      ]
     },
     "execution_count": 14,
     "metadata": {},
     "output_type": "execute_result"
    }
   ],
   "source": [
    "R6 = sp.Eq(c, sp.solve(R3, c)[0])\n",
    "R6\n",
    "# Manipulate R3 to solve for c"
   ]
  },
  {
   "cell_type": "code",
   "execution_count": 15,
   "metadata": {},
   "outputs": [
    {
     "data": {
      "text/latex": [
       "$\\displaystyle d = \\frac{c k x_{0}}{x_{1}}$"
      ],
      "text/plain": [
       "Eq(d, c*k*x_0/x_1)"
      ]
     },
     "execution_count": 15,
     "metadata": {},
     "output_type": "execute_result"
    }
   ],
   "source": [
    "R7 = sp.Eq(d, sp.solve(R3, d)[0])\n",
    "R7\n",
    "# Manipulate R3 to solve for d"
   ]
  },
  {
   "cell_type": "markdown",
   "metadata": {},
   "source": [
    "Recall the Aigned Area of  triangle with Points, O, A, B is a defined as $s(\\widetilde{OAB})=\\frac{ad-bc}{2}.$"
   ]
  },
  {
   "cell_type": "code",
   "execution_count": 16,
   "metadata": {},
   "outputs": [
    {
     "data": {
      "text/latex": [
       "$\\displaystyle b c$"
      ],
      "text/plain": [
       "b*c"
      ]
     },
     "execution_count": 16,
     "metadata": {},
     "output_type": "execute_result"
    }
   ],
   "source": [
    "R8 = R4.rhs * R7.rhs\n",
    "R8\n",
    "# Multiply  R4.rhs and R5.rhs to show that \n",
    "# ad == bc through the property of transitivity"
   ]
  },
  {
   "cell_type": "code",
   "execution_count": 17,
   "metadata": {},
   "outputs": [
    {
     "data": {
      "text/latex": [
       "$\\displaystyle a d$"
      ],
      "text/plain": [
       "a*d"
      ]
     },
     "execution_count": 17,
     "metadata": {},
     "output_type": "execute_result"
    }
   ],
   "source": [
    "R9 = R5.rhs * R6.rhs\n",
    "R9\n",
    "# Multiply  R4.rhs and R5.rhs to show that \n",
    "# bc == ad through the property of transitivity"
   ]
  },
  {
   "cell_type": "code",
   "execution_count": 18,
   "metadata": {},
   "outputs": [],
   "source": [
    "#Conclusion\n",
    "# If ad == bc and bc == ad, the signed area or a \n",
    "# triangle must be 0 as per the formula"
   ]
  },
  {
   "cell_type": "markdown",
   "metadata": {},
   "source": [
    "### 2_2_7 <a class=\"anchor\" id=\"2_2_7\"></a>\n",
    "<i>Proposition:</i> The absolute value of the signed area of an oriented triangle on a Cartesian plane is equivalent to the standard definition ($\\frac{1}{2}ab$) of an area of a triangle."
   ]
  },
  {
   "cell_type": "code",
   "execution_count": 19,
   "metadata": {},
   "outputs": [],
   "source": [
    "a, b, c, d, e, f, x_0, x_1 = sp.symbols(\"a, b, c, d, e, f, x_0, x_1\")\n",
    "# Let a, b, c, d, e, f  be variables "
   ]
  },
  {
   "cell_type": "code",
   "execution_count": 20,
   "metadata": {},
   "outputs": [],
   "source": [
    "S1 = [a, b]\n",
    "# Let T1 be a point, constructed from the variables a and b"
   ]
  },
  {
   "cell_type": "code",
   "execution_count": 21,
   "metadata": {},
   "outputs": [],
   "source": [
    "S2 = [c, d] \n",
    "# Let T2 be a point, constructed from the variables c and d"
   ]
  },
  {
   "cell_type": "code",
   "execution_count": 22,
   "metadata": {},
   "outputs": [],
   "source": [
    "S3 = [0, 0]\n",
    "# Let T3 be a point contructed from the variables 0, 0"
   ]
  },
  {
   "cell_type": "code",
   "execution_count": 23,
   "metadata": {},
   "outputs": [],
   "source": [
    "S5 = [e, f]\n",
    "# Let D be the point constructed variables e and f"
   ]
  },
  {
   "cell_type": "code",
   "execution_count": 24,
   "metadata": {},
   "outputs": [
    {
     "data": {
      "text/latex": [
       "$\\displaystyle \\frac{d}{c}$"
      ],
      "text/plain": [
       "d/c"
      ]
     },
     "execution_count": 24,
     "metadata": {},
     "output_type": "execute_result"
    }
   ],
   "source": [
    "S6 = (S2[1] - S3[1]) / (S2[0] - S3[0]) \n",
    "S6\n",
    "# Let T6 be the gradient of the line constructed from the points T2 and T3"
   ]
  },
  {
   "cell_type": "code",
   "execution_count": 25,
   "metadata": {},
   "outputs": [
    {
     "data": {
      "text/plain": [
       "-c/d"
      ]
     },
     "execution_count": 25,
     "metadata": {},
     "output_type": "execute_result"
    }
   ],
   "source": [
    "S7 = -1 / S6\n",
    "S7\n",
    "# Suppose that there is line, constructed from points A and D\n",
    "# and it is perpendicular to T6. Let T7 be the gradient of \n",
    "# this line"
   ]
  },
  {
   "cell_type": "code",
   "execution_count": 26,
   "metadata": {},
   "outputs": [
    {
     "data": {
      "text/latex": [
       "$\\displaystyle \\frac{b - f}{a - e}$"
      ],
      "text/plain": [
       "(b - f)/(a - e)"
      ]
     },
     "execution_count": 26,
     "metadata": {},
     "output_type": "execute_result"
    }
   ],
   "source": [
    "S8 = (S1[1] - S5[1]) / (S1[0] - S5[0]) \n",
    "S8\n",
    "# Note that the gradient of T7 can also be constructed from the\n",
    "# points T1 and T5. \n",
    "# Let T8 be the gradient of the line constructed from points\n",
    "# T1 and T5"
   ]
  },
  {
   "cell_type": "code",
   "execution_count": 27,
   "metadata": {},
   "outputs": [
    {
     "data": {
      "text/plain": [
       "-(a - e)/(b - f)"
      ]
     },
     "execution_count": 27,
     "metadata": {},
     "output_type": "execute_result"
    }
   ],
   "source": [
    "S9 = (1 / -S8)\n",
    "S9\n",
    "# Let T9 be a gradient of a line that is perpendicular to \n",
    "# T8"
   ]
  },
  {
   "cell_type": "code",
   "execution_count": 28,
   "metadata": {},
   "outputs": [
    {
     "data": {
      "text/latex": [
       "$\\displaystyle \\frac{d}{c} = - \\frac{a - e}{b - f}$"
      ],
      "text/plain": [
       "Eq(d/c, -(a - e)/(b - f))"
      ]
     },
     "execution_count": 28,
     "metadata": {},
     "output_type": "execute_result"
    }
   ],
   "source": [
    "S10 = sp.Eq(S6, S9)\n",
    "S10\n",
    "# Let R0 be an equation representing the equivalence between T9 and T6 "
   ]
  },
  {
   "cell_type": "code",
   "execution_count": 29,
   "metadata": {},
   "outputs": [
    {
     "data": {
      "text/latex": [
       "$\\displaystyle x_{1} = \\frac{d x_{0}}{c}$"
      ],
      "text/plain": [
       "Eq(x_1, d*x_0/c)"
      ]
     },
     "execution_count": 29,
     "metadata": {},
     "output_type": "execute_result"
    }
   ],
   "source": [
    "S11 = sp.Eq(x_1, x_0 * S6)\n",
    "S11\n",
    "# Let T10 be a line constructed from gradient T6. The construction of a \n",
    "# a line implied the following relationship"
   ]
  },
  {
   "cell_type": "code",
   "execution_count": 30,
   "metadata": {},
   "outputs": [
    {
     "data": {
      "text/latex": [
       "$\\displaystyle f = \\frac{d e}{c}$"
      ],
      "text/plain": [
       "Eq(f, d*e/c)"
      ]
     },
     "execution_count": 30,
     "metadata": {},
     "output_type": "execute_result"
    }
   ],
   "source": [
    "S12 = S11.subs(x_1, f).subs(x_0, e)\n",
    "S12\n",
    "# Let T5 be incident to T10. This creates the following relationship\n"
   ]
  },
  {
   "cell_type": "code",
   "execution_count": 31,
   "metadata": {},
   "outputs": [],
   "source": [
    "S13 = sp.solve([S10, S12], [e, f], dict = True)[0]\n",
    "S14 = sp.Eq(e, S13[e])\n",
    "S15 = sp.Eq(f, S13[f])\n",
    "# Solve the syste of equations formed by S10 and S12 for \n",
    "# e and f."
   ]
  },
  {
   "cell_type": "code",
   "execution_count": 32,
   "metadata": {},
   "outputs": [
    {
     "data": {
      "text/latex": [
       "$\\displaystyle e = \\frac{c \\left(a c + b d\\right)}{c^{2} + d^{2}}$"
      ],
      "text/plain": [
       "Eq(e, c*(a*c + b*d)/(c**2 + d**2))"
      ]
     },
     "execution_count": 32,
     "metadata": {},
     "output_type": "execute_result"
    }
   ],
   "source": [
    "S14\n",
    "# Let S14 be the solution to e"
   ]
  },
  {
   "cell_type": "code",
   "execution_count": 33,
   "metadata": {},
   "outputs": [
    {
     "data": {
      "text/latex": [
       "$\\displaystyle f = \\frac{d \\left(a c + b d\\right)}{c^{2} + d^{2}}$"
      ],
      "text/plain": [
       "Eq(f, d*(a*c + b*d)/(c**2 + d**2))"
      ]
     },
     "execution_count": 33,
     "metadata": {},
     "output_type": "execute_result"
    }
   ],
   "source": [
    "S15\n",
    "# Let S14 be the solution to f"
   ]
  },
  {
   "cell_type": "code",
   "execution_count": 34,
   "metadata": {},
   "outputs": [
    {
     "data": {
      "text/latex": [
       "$\\displaystyle \\sqrt{\\left(a - \\frac{c \\left(a c + b d\\right)}{c^{2} + d^{2}}\\right)^{2} + \\left(b - \\frac{d \\left(a c + b d\\right)}{c^{2} + d^{2}}\\right)^{2}}$"
      ],
      "text/plain": [
       "sqrt((a - c*(a*c + b*d)/(c**2 + d**2))**2 + (b - d*(a*c + b*d)/(c**2 + d**2))**2)"
      ]
     },
     "execution_count": 34,
     "metadata": {},
     "output_type": "execute_result"
    }
   ],
   "source": [
    "S16 = sp.sqrt((a - S14.rhs)^2 + ( b - S15.rhs)^2)\n",
    "S16\n",
    "# Let S4 be the distance between the points S5 and S1"
   ]
  },
  {
   "cell_type": "code",
   "execution_count": 35,
   "metadata": {},
   "outputs": [
    {
     "data": {
      "text/latex": [
       "$\\displaystyle \\sqrt{c^{2} + d^{2}}$"
      ],
      "text/plain": [
       "sqrt(c**2 + d**2)"
      ]
     },
     "execution_count": 35,
     "metadata": {},
     "output_type": "execute_result"
    }
   ],
   "source": [
    "S17 = sp.sqrt(c^2 + d^2)\n",
    "S17\n",
    "# Let S17 be the distance between the points S2 and S3"
   ]
  },
  {
   "cell_type": "code",
   "execution_count": 36,
   "metadata": {},
   "outputs": [],
   "source": [
    "S4 = [S3, S1, S2]\n",
    "# Let T4 be a triangle constructed from the points T3, T2, T1"
   ]
  },
  {
   "cell_type": "code",
   "execution_count": 37,
   "metadata": {},
   "outputs": [
    {
     "data": {
      "text/latex": [
       "$\\displaystyle \\sqrt{c^{2} + d^{2}} \\sqrt{\\frac{\\left(a d^{2} - b c d\\right)^{2}}{\\left(c^{2} + d^{2}\\right)^{2}} + \\frac{\\left(- a c d + b c^{2}\\right)^{2}}{\\left(c^{2} + d^{2}\\right)^{2}}}$"
      ],
      "text/plain": [
       "sqrt(c**2 + d**2)*sqrt((a*d**2 - b*c*d)**2/(c**2 + d**2)**2 + (-a*c*d + b*c**2)**2/(c**2 + d**2)**2)"
      ]
     },
     "execution_count": 37,
     "metadata": {},
     "output_type": "execute_result"
    }
   ],
   "source": [
    "S18 = (S16 * S17)\n",
    "S18.simplify()\n",
    "# Let S18 be the area of the triangle from the standard method"
   ]
  },
  {
   "cell_type": "code",
   "execution_count": 38,
   "metadata": {},
   "outputs": [
    {
     "data": {
      "text/latex": [
       "$\\displaystyle \\frac{\\left|{a d - b c}\\right|}{2}$"
      ],
      "text/plain": [
       "Abs(a*d - b*c)/2"
      ]
     },
     "execution_count": 38,
     "metadata": {},
     "output_type": "execute_result"
    }
   ],
   "source": [
    "S19 = (abs(a * d - c * b) / 2)\n",
    "S19"
   ]
  },
  {
   "cell_type": "code",
   "execution_count": 39,
   "metadata": {},
   "outputs": [],
   "source": [
    "#S18 == S19\n",
    "# JG Note - this should come out as TRUE"
   ]
  },
  {
   "cell_type": "markdown",
   "metadata": {},
   "source": [
    "<h3>Proof 2_2_8:</h3>\n",
    "<i>Proposition:</i> The signed area of a counter clockwise oriented triangle is positive, while the signed area of a clockwise oriented triangle is negative."
   ]
  },
  {
   "cell_type": "code",
   "execution_count": 40,
   "metadata": {},
   "outputs": [],
   "source": [
    "a, b, c, d, x_0, x_1 = sp.symbols(\"a, b, c, d, x_0, x_1\")\n",
    "# Let a, b, c, d, x_0, x_1  be variables"
   ]
  },
  {
   "cell_type": "code",
   "execution_count": 41,
   "metadata": {},
   "outputs": [],
   "source": [
    "S1 = [a, b]\n",
    "# Let S1 be a point constructed from the integers a and b"
   ]
  },
  {
   "cell_type": "code",
   "execution_count": 42,
   "metadata": {},
   "outputs": [],
   "source": [
    "S2 = [c, d]\n",
    "# Let S2 be a point constructed from the integers c and d"
   ]
  },
  {
   "cell_type": "code",
   "execution_count": 43,
   "metadata": {},
   "outputs": [],
   "source": [
    "S3 = [0, 0]\n",
    "# Let S3 be a point constructed fom the integers 0 and 0"
   ]
  },
  {
   "cell_type": "code",
   "execution_count": 44,
   "metadata": {},
   "outputs": [],
   "source": [
    "# Supose S1, S2 and S3 are not collinear"
   ]
  },
  {
   "cell_type": "code",
   "execution_count": 45,
   "metadata": {},
   "outputs": [
    {
     "data": {
      "text/latex": [
       "$\\displaystyle c > 0$"
      ],
      "text/plain": [
       "c > 0"
      ]
     },
     "execution_count": 45,
     "metadata": {},
     "output_type": "execute_result"
    }
   ],
   "source": [
    "# Suppose that c is greater than 0\n",
    "S4 = c > 0\n",
    "S4"
   ]
  },
  {
   "cell_type": "code",
   "execution_count": 46,
   "metadata": {},
   "outputs": [],
   "source": [
    "S5 = [0, -d/c*x_0, x_1]\n",
    "# Let S5 be a line constructed from the points S2 and S3\n"
   ]
  },
  {
   "cell_type": "code",
   "execution_count": 47,
   "metadata": {},
   "outputs": [
    {
     "data": {
      "text/latex": [
       "$\\displaystyle x_{1} = \\frac{d x_{0}}{c}$"
      ],
      "text/plain": [
       "Eq(x_1, d*x_0/c)"
      ]
     },
     "execution_count": 47,
     "metadata": {},
     "output_type": "execute_result"
    }
   ],
   "source": [
    "S6= sp.Eq(S5[2] +  S5[0], -S5[1])\n",
    "S6\n",
    "# The construction of S5 creates the following relationship:"
   ]
  },
  {
   "cell_type": "code",
   "execution_count": 48,
   "metadata": {},
   "outputs": [
    {
     "data": {
      "text/latex": [
       "$\\displaystyle x_{1} > \\frac{d x_{0}}{c}$"
      ],
      "text/plain": [
       "x_1 > d*x_0/c"
      ]
     },
     "execution_count": 48,
     "metadata": {},
     "output_type": "execute_result"
    }
   ],
   "source": [
    "S7 = x_1 > d/c*x_0\n",
    "S7\n",
    "# Suppose the case that all solutions to x_0 and x_1 must \n",
    "# satisfy S7"
   ]
  },
  {
   "cell_type": "code",
   "execution_count": 49,
   "metadata": {},
   "outputs": [
    {
     "data": {
      "text/latex": [
       "$\\displaystyle b > \\frac{a d}{c}$"
      ],
      "text/plain": [
       "b > a*d/c"
      ]
     },
     "execution_count": 49,
     "metadata": {},
     "output_type": "execute_result"
    }
   ],
   "source": [
    "S8 = b > d/c*a\n",
    "S8\n",
    "# Note that if the point S1 satisfies S7, it must be the case \n",
    "# the following relationship is true"
   ]
  },
  {
   "cell_type": "code",
   "execution_count": 50,
   "metadata": {},
   "outputs": [
    {
     "data": {
      "text/latex": [
       "$\\displaystyle b c > a d$"
      ],
      "text/plain": [
       "b*c > a*d"
      ]
     },
     "execution_count": 50,
     "metadata": {},
     "output_type": "execute_result"
    }
   ],
   "source": [
    "S9 = c*b > d*a\n",
    "S9\n",
    "# Multiply both sides of S8 by c:"
   ]
  },
  {
   "cell_type": "code",
   "execution_count": 51,
   "metadata": {},
   "outputs": [
    {
     "data": {
      "text/latex": [
       "$\\displaystyle a d < b c$"
      ],
      "text/plain": [
       "a*d < b*c"
      ]
     },
     "execution_count": 51,
     "metadata": {},
     "output_type": "execute_result"
    }
   ],
   "source": [
    "S10 = d*a < c *b\n",
    "S10\n",
    "# Note the S10 is equivalent to S9"
   ]
  },
  {
   "cell_type": "code",
   "execution_count": 52,
   "metadata": {},
   "outputs": [],
   "source": [
    "# by Definition of the Signed area of a triangle, if ad < cb, the area\n",
    "# signed must be < 0"
   ]
  },
  {
   "cell_type": "code",
   "execution_count": 53,
   "metadata": {},
   "outputs": [
    {
     "data": {
      "text/latex": [
       "$\\displaystyle c < 0$"
      ],
      "text/plain": [
       "c < 0"
      ]
     },
     "execution_count": 53,
     "metadata": {},
     "output_type": "execute_result"
    }
   ],
   "source": [
    "S11 = c < 0\n",
    "S11\n",
    "# Alternatively, suppose the case that c < 0"
   ]
  },
  {
   "cell_type": "code",
   "execution_count": 54,
   "metadata": {},
   "outputs": [
    {
     "data": {
      "text/latex": [
       "$\\displaystyle a d > b c$"
      ],
      "text/plain": [
       "a*d > b*c"
      ]
     },
     "execution_count": 54,
     "metadata": {},
     "output_type": "execute_result"
    }
   ],
   "source": [
    "S12 = a*d > c*b\n",
    "S12\n",
    "# If c < 0, S10 is equivalent to the following\n"
   ]
  },
  {
   "cell_type": "code",
   "execution_count": 55,
   "metadata": {},
   "outputs": [],
   "source": [
    "# By Definiton, is ad > bc, then the signed area of a triangle must \n",
    "# be positive "
   ]
  },
  {
   "cell_type": "markdown",
   "metadata": {},
   "source": [
    "<h3>Proof 2_2_9:</h3>\n",
    "<i>Proposition:</i> For an oriented triangle $\\widetilde{OAB}$, if there is a point D that is incident to on the line $AB$, then $ s(\\widetilde{OAB})=s(\\widetilde{OAD})+s(\\widetilde{ODB}). $\n"
   ]
  },
  {
   "cell_type": "code",
   "execution_count": 56,
   "metadata": {},
   "outputs": [],
   "source": [
    "a, b, c, d, e, f, r = sp.symbols(\"a, b, c, d, e, f, r\")\n",
    "# Let a, b, c, d, e, f, g be integers"
   ]
  },
  {
   "cell_type": "code",
   "execution_count": 57,
   "metadata": {},
   "outputs": [],
   "source": [
    "S1 = [a, b]\n",
    "# Let S1 be a point constructed from integers a and b"
   ]
  },
  {
   "cell_type": "code",
   "execution_count": 58,
   "metadata": {},
   "outputs": [],
   "source": [
    "S2 = [c, d]\n",
    "# Let S2 be a point constructed from integers c and d"
   ]
  },
  {
   "cell_type": "code",
   "execution_count": 59,
   "metadata": {},
   "outputs": [],
   "source": [
    "S3 = [0, 0]\n",
    "# let S3 be a point constructed from intergers 0, 0"
   ]
  },
  {
   "cell_type": "code",
   "execution_count": 60,
   "metadata": {},
   "outputs": [],
   "source": [
    "S4 = [S1, S2]\n",
    "# let S4 be a line constructed from the points S1 and S2"
   ]
  },
  {
   "cell_type": "code",
   "execution_count": 61,
   "metadata": {},
   "outputs": [],
   "source": [
    "S5 = [e, f]\n",
    "# Let S4 be a point constructed from integers e and f"
   ]
  },
  {
   "cell_type": "code",
   "execution_count": 62,
   "metadata": {},
   "outputs": [],
   "source": [
    "# Suppose that S5 is incident to S4"
   ]
  },
  {
   "cell_type": "code",
   "execution_count": 63,
   "metadata": {},
   "outputs": [
    {
     "data": {
      "text/latex": [
       "$\\displaystyle e = a r - c \\left(r - 1\\right)$"
      ],
      "text/plain": [
       "Eq(e, a*r - c*(r - 1))"
      ]
     },
     "execution_count": 63,
     "metadata": {},
     "output_type": "execute_result"
    }
   ],
   "source": [
    "# From proof 1_3_19, a value of e can be found \n",
    "# that satifies the following relationship for some integer r\n",
    "S6 = sp.Eq(e, r*a + (1 - r)*c)\n",
    "S6\n"
   ]
  },
  {
   "cell_type": "code",
   "execution_count": 64,
   "metadata": {},
   "outputs": [
    {
     "data": {
      "text/latex": [
       "$\\displaystyle f = b r - d \\left(r - 1\\right)$"
      ],
      "text/plain": [
       "Eq(f, b*r - d*(r - 1))"
      ]
     },
     "execution_count": 64,
     "metadata": {},
     "output_type": "execute_result"
    }
   ],
   "source": [
    "# Further from proof 1_3_19, a value of f can be found \n",
    "# that satifies the following relationship for some integer r\n",
    "S7 = sp.Eq(f, r*b + (1 - r)*d)\n",
    "S7\n"
   ]
  },
  {
   "cell_type": "code",
   "execution_count": 65,
   "metadata": {},
   "outputs": [
    {
     "data": {
      "text/latex": [
       "$\\displaystyle \\frac{a f - b e}{2}$"
      ],
      "text/plain": [
       "(a*f - b*e)/2"
      ]
     },
     "execution_count": 65,
     "metadata": {},
     "output_type": "execute_result"
    }
   ],
   "source": [
    "S8 = ((a * f - b * e) / 2).factor()\n",
    "S8\n",
    "# Let S8 be the signed area of triangle constructed from S1-S3-S5"
   ]
  },
  {
   "cell_type": "code",
   "execution_count": 66,
   "metadata": {},
   "outputs": [
    {
     "data": {
      "text/latex": [
       "$\\displaystyle - \\frac{c f - d e}{2}$"
      ],
      "text/plain": [
       "-(c*f - d*e)/2"
      ]
     },
     "execution_count": 66,
     "metadata": {},
     "output_type": "execute_result"
    }
   ],
   "source": [
    "S9 = ((e * d - f * c) / 2).factor()\n",
    "S9\n",
    "# Let S8 be the signed area of S2-S3-S5 constructed from "
   ]
  },
  {
   "cell_type": "code",
   "execution_count": 67,
   "metadata": {},
   "outputs": [
    {
     "data": {
      "text/latex": [
       "$\\displaystyle \\frac{a \\left(b r - d \\left(r - 1\\right)\\right)}{2} - \\frac{b \\left(a r - c \\left(r - 1\\right)\\right)}{2}$"
      ],
      "text/plain": [
       "a*(b*r - d*(r - 1))/2 - b*(a*r - c*(r - 1))/2"
      ]
     },
     "execution_count": 67,
     "metadata": {},
     "output_type": "execute_result"
    }
   ],
   "source": [
    "S10 = S8.subs(f, S7.rhs).subs(e, S6.rhs)\n",
    "S10\n",
    "# Subsitute the values equivalient values for for e and f from S6 and S7 creating an equivalent signed area \n",
    "# to S8 in terms of a, b, c, d and r"
   ]
  },
  {
   "cell_type": "code",
   "execution_count": 68,
   "metadata": {},
   "outputs": [
    {
     "data": {
      "text/latex": [
       "$\\displaystyle - \\frac{c \\left(b r - d \\left(r - 1\\right)\\right)}{2} + \\frac{d \\left(a r - c \\left(r - 1\\right)\\right)}{2}$"
      ],
      "text/plain": [
       "-c*(b*r - d*(r - 1))/2 + d*(a*r - c*(r - 1))/2"
      ]
     },
     "execution_count": 68,
     "metadata": {},
     "output_type": "execute_result"
    }
   ],
   "source": [
    "S11 = S9.subs(f, S7.rhs).subs(e, S6.rhs)\n",
    "S11\n",
    "# Subsitute the values equivalient values for for e and f from S6 and S7 creating an equivalent signed area \n",
    "# to S9 in terms of a, b, c, d and r"
   ]
  },
  {
   "cell_type": "code",
   "execution_count": 69,
   "metadata": {},
   "outputs": [
    {
     "data": {
      "text/latex": [
       "$\\displaystyle \\frac{a d - b c}{2}$"
      ],
      "text/plain": [
       "(a*d - b*c)/2"
      ]
     },
     "execution_count": 69,
     "metadata": {},
     "output_type": "execute_result"
    }
   ],
   "source": [
    "S12 = (((S10 * 2).expand() + (S11 * 2).expand()) / 2).factor()\n",
    "S12\n",
    "# Add areas S10 and S11. \n",
    "# Sypy Note: to simplify this computation, \n",
    "# I expanded each part of the expression, and multipled by 2 \n",
    "# avoid the fraction. I then divided the answer by 2, and factored\n",
    "# to put in the correct form"
   ]
  },
  {
   "cell_type": "code",
   "execution_count": 70,
   "metadata": {},
   "outputs": [],
   "source": [
    "# NOte that S12 is the signed area of a triangle constructed  from S1, \n",
    "# S2, S3"
   ]
  },
  {
   "cell_type": "markdown",
   "metadata": {},
   "source": [
    "### 2_2_10 <a class=\"anchor\" id=\"2_2_10\"></a>\n",
    "<i>Proposition:</i> If the parallelogram $\\overline{OADB}$ is comprised of the points $O= [0,0]$, $A=[a,b]$, $B=[c,d]$, and $D=[a+c,b+d]$, and its signed area is defined as $s(\\widetilde{OADB}) =2s(\\widetilde{OAB})=ad-bc$, then this signed area will be equivalent to the the sum $ s(\\widetilde{OAD})+s(\\widetilde{ODB})$<br/><i>For this proof note that, by defintion, a parallelogram can be oriented this is two ways, to get two oriented parallelograms, for examples $\\widetilde{OADB}$ and $\\widetilde{OBDA}$</i>."
   ]
  },
  {
   "cell_type": "code",
   "execution_count": 71,
   "metadata": {},
   "outputs": [],
   "source": [
    "a, b, c, d = sp.symbols(\"a, b, c, d \")\n",
    "# Let a, b, c, d be integrers"
   ]
  },
  {
   "cell_type": "code",
   "execution_count": 72,
   "metadata": {},
   "outputs": [],
   "source": [
    "S1 = [a, b]\n",
    "# Let S1 be a point constructed from integers a and b"
   ]
  },
  {
   "cell_type": "code",
   "execution_count": 73,
   "metadata": {},
   "outputs": [],
   "source": [
    "S2 = [c, d]\n",
    "# Let S2 be a point constructed from integers c and d"
   ]
  },
  {
   "cell_type": "code",
   "execution_count": 74,
   "metadata": {},
   "outputs": [],
   "source": [
    "S3 = [a + c, b + d]\n",
    "# Let S3 be point constructed from integers a, c, b and d"
   ]
  },
  {
   "cell_type": "code",
   "execution_count": 75,
   "metadata": {},
   "outputs": [],
   "source": [
    "S4 = [0, 0]\n",
    "# Let S4 be a point constructed from the integer 0 "
   ]
  },
  {
   "cell_type": "code",
   "execution_count": 76,
   "metadata": {},
   "outputs": [],
   "source": [
    "S5 = [S4, S1, S3, S2]\n",
    "# Let S5 be an orientated parralelogram constructed from \n",
    "# points S4,S1, S3 and S2"
   ]
  },
  {
   "cell_type": "code",
   "execution_count": 77,
   "metadata": {},
   "outputs": [],
   "source": [
    "S6 = [S4, S1, S3]\n",
    "# Let S6 be an orientated parralelogram constructed from \n",
    "# points S4, S1 and S3"
   ]
  },
  {
   "cell_type": "code",
   "execution_count": 78,
   "metadata": {},
   "outputs": [],
   "source": [
    "S7 = [S4, S3, S2]\n",
    "# Let S7 be an orientated parralelogram constructed from \n",
    "# points S4, S3 and S2"
   ]
  },
  {
   "cell_type": "code",
   "execution_count": 79,
   "metadata": {},
   "outputs": [
    {
     "data": {
      "text/latex": [
       "$\\displaystyle \\frac{a \\left(b + d\\right)}{2} - \\frac{b \\left(a + c\\right)}{2}$"
      ],
      "text/plain": [
       "a*(b + d)/2 - b*(a + c)/2"
      ]
     },
     "execution_count": 79,
     "metadata": {},
     "output_type": "execute_result"
    }
   ],
   "source": [
    "S8 = ((S1[0] * S3[1] - S1[1] * S3[0]) / 2)\n",
    "S8\n",
    "# Let S8 denote the signed Area of of S6, via proof x_x_x"
   ]
  },
  {
   "cell_type": "code",
   "execution_count": 80,
   "metadata": {},
   "outputs": [
    {
     "data": {
      "text/latex": [
       "$\\displaystyle - \\frac{c \\left(b + d\\right)}{2} + \\frac{d \\left(a + c\\right)}{2}$"
      ],
      "text/plain": [
       "-c*(b + d)/2 + d*(a + c)/2"
      ]
     },
     "execution_count": 80,
     "metadata": {},
     "output_type": "execute_result"
    }
   ],
   "source": [
    "S9 = ((S3[0] * S2[1] - S3[1] * S2[0]) / 2)\n",
    "S9\n",
    "# Let S9 denote the signed Area of of S6, via proof x_x_x"
   ]
  },
  {
   "cell_type": "code",
   "execution_count": 81,
   "metadata": {},
   "outputs": [
    {
     "data": {
      "text/latex": [
       "$\\displaystyle a d - b c$"
      ],
      "text/plain": [
       "a*d - b*c"
      ]
     },
     "execution_count": 81,
     "metadata": {},
     "output_type": "execute_result"
    }
   ],
   "source": [
    "S10 = (S9 + S8).simplify()\n",
    "S10\n",
    "# Let S10 denote the addition of signed areas S9 and S8"
   ]
  },
  {
   "cell_type": "code",
   "execution_count": 82,
   "metadata": {},
   "outputs": [],
   "source": [
    "S11= [S4, S1, S2]\n",
    "# Let S11 be an orientated triangle constructed from the points S4, S1 and S2"
   ]
  },
  {
   "cell_type": "code",
   "execution_count": 83,
   "metadata": {},
   "outputs": [
    {
     "data": {
      "text/latex": [
       "$\\displaystyle \\frac{a d}{2} - \\frac{b c}{2}$"
      ],
      "text/plain": [
       "a*d/2 - b*c/2"
      ]
     },
     "execution_count": 83,
     "metadata": {},
     "output_type": "execute_result"
    }
   ],
   "source": [
    "S12 = ((S1[0] * S2[1] - S1[1] * S2[0]) / 2) \n",
    "S12\n",
    "# Let S10 be the signed area of S10"
   ]
  },
  {
   "cell_type": "code",
   "execution_count": 84,
   "metadata": {},
   "outputs": [
    {
     "data": {
      "text/latex": [
       "$\\displaystyle a d - b c$"
      ],
      "text/plain": [
       "a*d - b*c"
      ]
     },
     "execution_count": 84,
     "metadata": {},
     "output_type": "execute_result"
    }
   ],
   "source": [
    "S13 = S12 * 2\n",
    "S13\n",
    "# Multiply S11 by 2"
   ]
  },
  {
   "cell_type": "code",
   "execution_count": 85,
   "metadata": {},
   "outputs": [],
   "source": [
    "# Conclusion: It is true that the signed area of an orientated parallelogram is\n",
    "# is twice the signed area of triangles from which it is constructed"
   ]
  },
  {
   "cell_type": "markdown",
   "metadata": {},
   "source": [
    "### 2_2_11 <a class=\"anchor\" id=\"2_2_11\"></a>\n",
    "<i>Proposition:</i> Given the points $O, A, B$, and $C$, if the point C is obtained from the point B by adding a multiple of the vector $\\overset{\\rightharpoonup}{OA}$, then  $s(\\widetilde{OAC})=s(\\widetilde{OAB})$\n"
   ]
  },
  {
   "cell_type": "code",
   "execution_count": 86,
   "metadata": {},
   "outputs": [],
   "source": [
    "a, b, c, d, e, f, s = sp.symbols(\"a, b, c, d, e, f, r\")\n",
    "# Let a, b, c, d, r be integers"
   ]
  },
  {
   "cell_type": "code",
   "execution_count": 87,
   "metadata": {},
   "outputs": [],
   "source": [
    "S1 = np.array([a, b])\n",
    "# Let S1 be a point constructed from integers a and b"
   ]
  },
  {
   "cell_type": "code",
   "execution_count": 88,
   "metadata": {},
   "outputs": [],
   "source": [
    "S2 = np.array([c, d])\n",
    "# Let S2 be a point constructed from integers c and d"
   ]
  },
  {
   "cell_type": "code",
   "execution_count": 89,
   "metadata": {},
   "outputs": [],
   "source": [
    "S3 = np.array([S1, S2])\n",
    "# Let S3 be a vector constructed from points S1 and S2"
   ]
  },
  {
   "cell_type": "code",
   "execution_count": 90,
   "metadata": {},
   "outputs": [],
   "source": [
    "# Let S4 be a vector "
   ]
  },
  {
   "cell_type": "code",
   "execution_count": 91,
   "metadata": {},
   "outputs": [],
   "source": [
    "# Suppose that the direction of S4 is equivalent to the direction\n",
    "# of S3"
   ]
  },
  {
   "cell_type": "code",
   "execution_count": 92,
   "metadata": {},
   "outputs": [
    {
     "data": {
      "text/plain": [
       "(a*r + c, b*r + d)"
      ]
     },
     "execution_count": 92,
     "metadata": {},
     "output_type": "execute_result"
    }
   ],
   "source": [
    "S5 = S2 + r * S1\n",
    "S5\n",
    "# Let S5 be the length/ SHOULD BE POINT! of S4 and suppose it is equivalent \n",
    "# to S2 + r(S1) for some integer r\n",
    "S5[0], S5[1]"
   ]
  },
  {
   "cell_type": "code",
   "execution_count": 93,
   "metadata": {},
   "outputs": [],
   "source": [
    "S6 = np.array([0, 0])\n",
    "# Let S6 be a point constructed from the integer 0"
   ]
  },
  {
   "cell_type": "code",
   "execution_count": 94,
   "metadata": {},
   "outputs": [
    {
     "data": {
      "text/plain": [
       "array([[0, 0],\n",
       "       [a, b],\n",
       "       [a*r + c, b*r + d]], dtype=object)"
      ]
     },
     "execution_count": 94,
     "metadata": {},
     "output_type": "execute_result"
    }
   ],
   "source": [
    "S7 = np.array([S6, S1, S5])\n",
    "S7\n",
    "# Let S7 be an orientated triangle constructed from the points\n",
    "# S6, S1, S5"
   ]
  },
  {
   "cell_type": "code",
   "execution_count": 95,
   "metadata": {},
   "outputs": [
    {
     "data": {
      "text/latex": [
       "$\\displaystyle \\frac{a d}{2} - \\frac{b c}{2}$"
      ],
      "text/plain": [
       "a*d/2 - b*c/2"
      ]
     },
     "execution_count": 95,
     "metadata": {},
     "output_type": "execute_result"
    }
   ],
   "source": [
    "S8 = ((S1[0] * S5[1] - S1[1] * S5[0]) / 2).simplify()\n",
    "S8\n",
    "# Let S8 be the singed area of S7, via proof x_x_x"
   ]
  },
  {
   "cell_type": "code",
   "execution_count": 96,
   "metadata": {},
   "outputs": [
    {
     "data": {
      "text/plain": [
       "array([[0, 0],\n",
       "       [a, b],\n",
       "       [c, d]], dtype=object)"
      ]
     },
     "execution_count": 96,
     "metadata": {},
     "output_type": "execute_result"
    }
   ],
   "source": [
    "S9 = np.array([S6, S1, S2])\n",
    "S9\n",
    "# Let S7 be an orientated triangle constructed from the points\n",
    "# S6, S1, S5"
   ]
  },
  {
   "cell_type": "code",
   "execution_count": 97,
   "metadata": {},
   "outputs": [
    {
     "data": {
      "text/latex": [
       "$\\displaystyle \\frac{a d}{2} - \\frac{b c}{2}$"
      ],
      "text/plain": [
       "a*d/2 - b*c/2"
      ]
     },
     "execution_count": 97,
     "metadata": {},
     "output_type": "execute_result"
    }
   ],
   "source": [
    "S10 = ((S1[0] * S2[1] - S1[1] * S2[0]) / 2).simplify()\n",
    "S10\n",
    "# Let S8 be the singed area of S7, via proof x_x_x"
   ]
  },
  {
   "cell_type": "code",
   "execution_count": 98,
   "metadata": {},
   "outputs": [],
   "source": [
    "# conclusion: the signed areas are equivalent "
   ]
  },
  {
   "cell_type": "markdown",
   "metadata": {},
   "source": [
    "### 2_2_12 <a class=\"anchor\" id=\"2_2_12\"></a>\n",
    "<i>Proposition:</i> If two orientated triangles $\\widetilde{OAB}$ and $\\widetilde{OA'B'}$ have been constructed from the points $O, A, B, A'$, and $B'$, and the point $A'$ has been constructed from a linear transformation applied to $A=[x,y]$ to $A'=[x+y,y]$, then the signed areas of the orientated triangles will be equivalent. \n"
   ]
  },
  {
   "cell_type": "code",
   "execution_count": 99,
   "metadata": {},
   "outputs": [],
   "source": [
    "a, b, c, d = sp.symbols(\"a, b, c, d\")\n",
    "# Let a, b, c and d be integers"
   ]
  },
  {
   "cell_type": "code",
   "execution_count": 100,
   "metadata": {},
   "outputs": [],
   "source": [
    "S1 = np.array([a, b])\n",
    "# Let S1 be a point constructed from integers a and b"
   ]
  },
  {
   "cell_type": "code",
   "execution_count": 101,
   "metadata": {},
   "outputs": [],
   "source": [
    "S2 = np.array([c, d])\n",
    "# Let S2 be a point constructed from integers c and d"
   ]
  },
  {
   "cell_type": "code",
   "execution_count": 102,
   "metadata": {},
   "outputs": [],
   "source": [
    "S3 = np.array([0, 0])\n",
    "# Let S3 be a point constructed from the integer 0"
   ]
  },
  {
   "cell_type": "code",
   "execution_count": 103,
   "metadata": {},
   "outputs": [],
   "source": [
    "S4 = np.array([a + b, b])\n",
    "# Let S3 be  point constructed from integers a and b"
   ]
  },
  {
   "cell_type": "code",
   "execution_count": 104,
   "metadata": {},
   "outputs": [],
   "source": [
    "S5 = np.array([c + d, d])\n",
    "# Let S3 be  point constructed from integers a and b"
   ]
  },
  {
   "cell_type": "code",
   "execution_count": 105,
   "metadata": {},
   "outputs": [],
   "source": [
    "S6 = np.array([S3, S1, S2])\n",
    "# Let S6 be an orientated triangle constructed from the points\n",
    "# S3, S1 and S2"
   ]
  },
  {
   "cell_type": "code",
   "execution_count": 106,
   "metadata": {},
   "outputs": [],
   "source": [
    "S7 = np.array([S3, S4, S5])\n",
    "# Let S7 be an orientated triangle constructed from the points\n",
    "# S3, S4 and S5"
   ]
  },
  {
   "cell_type": "code",
   "execution_count": 107,
   "metadata": {},
   "outputs": [
    {
     "data": {
      "text/latex": [
       "$\\displaystyle \\frac{a d}{2} - \\frac{b c}{2}$"
      ],
      "text/plain": [
       "a*d/2 - b*c/2"
      ]
     },
     "execution_count": 107,
     "metadata": {},
     "output_type": "execute_result"
    }
   ],
   "source": [
    "S8 = ((S1[0] * S2[1] - S1[1] * S2[0]) / 2).simplify()\n",
    "S8\n",
    "# Let S8 be the singed area of S6, via proof x_x_x"
   ]
  },
  {
   "cell_type": "code",
   "execution_count": 108,
   "metadata": {},
   "outputs": [
    {
     "data": {
      "text/latex": [
       "$\\displaystyle \\frac{a d}{2} - \\frac{b c}{2}$"
      ],
      "text/plain": [
       "a*d/2 - b*c/2"
      ]
     },
     "execution_count": 108,
     "metadata": {},
     "output_type": "execute_result"
    }
   ],
   "source": [
    "S9 = ((S4[0] * S5[1] - S4[1] * S5[0]) / 2).simplify()\n",
    "S9\n",
    "# Let S8 be the singed area of S6, via proof x_x_x"
   ]
  },
  {
   "cell_type": "code",
   "execution_count": 109,
   "metadata": {},
   "outputs": [],
   "source": [
    "# Conclusion: Under this linear transformation areas remain equal"
   ]
  },
  {
   "cell_type": "markdown",
   "metadata": {},
   "source": [
    "### 2_2_13 <a class=\"anchor\" id=\"2_2_13\"></a>\n",
    "<i>Proposition:</i> If two orientated triangles $\\widetilde{OAB}$ and $\\widetilde{OA'B'}$ have been constructed from the points $O, A, B, A'$, and $B'$,   and the point $A'$ has been constructed from a linear transformation applied to  $A=[x,y]$, resulting in $A'=[\\alpha x+\\beta y,\\gamma x+\\delta y]$, for some fixed numbers α,β,γ,δ, then  $s(\\widetilde{OA'B'})=(\\alpha \\delta-\\beta\\gamma)s(\\widetilde{OAB})$."
   ]
  },
  {
   "cell_type": "code",
   "execution_count": 110,
   "metadata": {},
   "outputs": [],
   "source": [
    "a, b, c, d, r, s, t, u = sp.symbols(\"a, b, c, d, r, s, t, u \")\n",
    "# Let a, b, c, d, r, s, t, u be integers"
   ]
  },
  {
   "cell_type": "code",
   "execution_count": 111,
   "metadata": {},
   "outputs": [],
   "source": [
    "S1 = np.array([a, b])\n",
    "# Let S1 be a point constructed from integers a and b"
   ]
  },
  {
   "cell_type": "code",
   "execution_count": 112,
   "metadata": {},
   "outputs": [],
   "source": [
    "S2 = np.array([c, d])\n",
    "# Let S2 be a point constructed from integers c and d"
   ]
  },
  {
   "cell_type": "code",
   "execution_count": 113,
   "metadata": {},
   "outputs": [
    {
     "data": {
      "text/plain": [
       "(a*r + b*s, a*t + b*u)"
      ]
     },
     "execution_count": 113,
     "metadata": {},
     "output_type": "execute_result"
    }
   ],
   "source": [
    "S3 = np.array([r * a + s * b, t* a + u * b])\n",
    "S3[0], S3[1]\n",
    "# Let S3 be a point constructed from integers a, b, r, s, t and u"
   ]
  },
  {
   "cell_type": "code",
   "execution_count": 114,
   "metadata": {},
   "outputs": [
    {
     "data": {
      "text/plain": [
       "(c*r + d*s, c*t + d*u)"
      ]
     },
     "execution_count": 114,
     "metadata": {},
     "output_type": "execute_result"
    }
   ],
   "source": [
    "S4 = np.array([r * c + s * d, t*c + u * d])\n",
    "S4[0], S4[1]\n",
    "# Let S4 be a point constructed from integers c, d, r, s, t and u"
   ]
  },
  {
   "cell_type": "code",
   "execution_count": 115,
   "metadata": {},
   "outputs": [],
   "source": [
    "S5 = np.array([0, 0])\n",
    "# Let S5 be a point constructed from the integer 0"
   ]
  },
  {
   "cell_type": "code",
   "execution_count": 116,
   "metadata": {},
   "outputs": [
    {
     "data": {
      "text/plain": [
       "array([[0, 0],\n",
       "       [a*r + b*s, a*t + b*u],\n",
       "       [c*r + d*s, c*t + d*u]], dtype=object)"
      ]
     },
     "execution_count": 116,
     "metadata": {},
     "output_type": "execute_result"
    }
   ],
   "source": [
    "S6 = np.array([S5, S3, S4])\n",
    "# Let S6 be an orientated triangle constructed from the points\n",
    "# S5, S3 and S4\n",
    "S6"
   ]
  },
  {
   "cell_type": "code",
   "execution_count": 117,
   "metadata": {},
   "outputs": [
    {
     "data": {
      "text/latex": [
       "$\\displaystyle \\frac{\\left(a d - b c\\right) \\left(r u - s t\\right)}{2}$"
      ],
      "text/plain": [
       "(a*d - b*c)*(r*u - s*t)/2"
      ]
     },
     "execution_count": 117,
     "metadata": {},
     "output_type": "execute_result"
    }
   ],
   "source": [
    "S7 = ((S3[0] * S4[1] - S3[1] * S4[0]) / 2).simplify().factor()\n",
    "S7\n",
    "# Let S8 be the singed area of S6, via proof x_x_x"
   ]
  },
  {
   "cell_type": "code",
   "execution_count": 118,
   "metadata": {},
   "outputs": [
    {
     "data": {
      "text/plain": [
       "array([[0, 0],\n",
       "       [a, b],\n",
       "       [c, d]], dtype=object)"
      ]
     },
     "execution_count": 118,
     "metadata": {},
     "output_type": "execute_result"
    }
   ],
   "source": [
    "S8 = np.array([S5, S1, S2])\n",
    "# Let S8 be an orientated triangle constructed from the points\n",
    "# S5, S1 and S2\n",
    "S8"
   ]
  },
  {
   "cell_type": "code",
   "execution_count": 119,
   "metadata": {},
   "outputs": [
    {
     "data": {
      "text/latex": [
       "$\\displaystyle \\frac{a d - b c}{2}$"
      ],
      "text/plain": [
       "(a*d - b*c)/2"
      ]
     },
     "execution_count": 119,
     "metadata": {},
     "output_type": "execute_result"
    }
   ],
   "source": [
    "S9 = ((S1[0] * S2[1] - S1[1] * S2[0]) / 2).simplify().factor()\n",
    "S9\n",
    "# Let S8 be the singed area of S6, via proof x_x_x"
   ]
  },
  {
   "cell_type": "code",
   "execution_count": 120,
   "metadata": {},
   "outputs": [
    {
     "data": {
      "text/latex": [
       "$\\displaystyle r u - s t$"
      ],
      "text/plain": [
       "r*u - s*t"
      ]
     },
     "execution_count": 120,
     "metadata": {},
     "output_type": "execute_result"
    }
   ],
   "source": [
    "S10 = r * u - s * t\n",
    "S10\n",
    "# Let S10 be an expression "
   ]
  },
  {
   "cell_type": "code",
   "execution_count": 121,
   "metadata": {},
   "outputs": [
    {
     "data": {
      "text/latex": [
       "$\\displaystyle \\frac{\\left(a d - b c\\right) \\left(r u - s t\\right)}{2}$"
      ],
      "text/plain": [
       "(a*d - b*c)*(r*u - s*t)/2"
      ]
     },
     "execution_count": 121,
     "metadata": {},
     "output_type": "execute_result"
    }
   ],
   "source": [
    "S11 = S10 * S9\n",
    "S11.factor()\n",
    "# Multiply S9 by S10"
   ]
  },
  {
   "cell_type": "code",
   "execution_count": 122,
   "metadata": {},
   "outputs": [
    {
     "data": {
      "text/plain": [
       "True"
      ]
     },
     "execution_count": 122,
     "metadata": {},
     "output_type": "execute_result"
    }
   ],
   "source": [
    "S11 == S7"
   ]
  },
  {
   "cell_type": "code",
   "execution_count": 123,
   "metadata": {},
   "outputs": [],
   "source": [
    "# Conclusion: Linear transformation to "
   ]
  },
  {
   "cell_type": "markdown",
   "metadata": {},
   "source": [
    "### 2_2_14 <a class=\"anchor\" id=\"2_2_14\"></a>\n",
    "<i>Proposition:</i> If a general point on a parabola, $y=x^2$ can be described by $p(t)=[t,t^2]$, then an expression for $s(\\widetilde{OAB})$, (in the case of $A=p(t)$ and $B=p(u)$, where t and u are parameters can be described as: $ s(\\widetilde{OAB})=\\frac12(tu^2-t^2u)=\\frac{tu}{2}(u-t). $"
   ]
  },
  {
   "cell_type": "code",
   "execution_count": 124,
   "metadata": {},
   "outputs": [],
   "source": [
    "a, b = sp.symbols(\"a, b\")\n",
    "# Let x, y, t, u be integers"
   ]
  },
  {
   "cell_type": "code",
   "execution_count": 125,
   "metadata": {},
   "outputs": [],
   "source": [
    "S1 = np.array([a, a^2])\n",
    "# Let S1 be a point constructed from the integer a"
   ]
  },
  {
   "cell_type": "code",
   "execution_count": 126,
   "metadata": {},
   "outputs": [],
   "source": [
    "S2 = np.array([b, b^2])\n",
    "# Let S2 be a point constructed from the integer b"
   ]
  },
  {
   "cell_type": "code",
   "execution_count": 127,
   "metadata": {},
   "outputs": [],
   "source": [
    "S3 = np.array([0, 0])\n",
    "# Let S3 be a point constructed from the integer 0"
   ]
  },
  {
   "cell_type": "code",
   "execution_count": 128,
   "metadata": {},
   "outputs": [],
   "source": [
    "S4 = np.array([S3, S1, S2])\n",
    "# Let S4 be an orientated triangle constructed from the points\n",
    "# S3, S1, S2"
   ]
  },
  {
   "cell_type": "code",
   "execution_count": 129,
   "metadata": {},
   "outputs": [
    {
     "data": {
      "text/latex": [
       "$\\displaystyle - \\frac{a b \\left(a - b\\right)}{2}$"
      ],
      "text/plain": [
       "-a*b*(a - b)/2"
      ]
     },
     "execution_count": 129,
     "metadata": {},
     "output_type": "execute_result"
    }
   ],
   "source": [
    "S5 = ((S1[0] * S2[1] - S1[1] * S2[0]) / 2).factor()\n",
    "S5\n",
    "# Let S8 be the singed area of S6, via proof x_x_x"
   ]
  },
  {
   "cell_type": "code",
   "execution_count": 130,
   "metadata": {},
   "outputs": [],
   "source": [
    "# This is true"
   ]
  },
  {
   "cell_type": "markdown",
   "metadata": {},
   "source": [
    "### 2_2_15 <a class=\"anchor\" id=\"2_2_15\"></a>\n",
    "<i>Proposition:</i> If a general point on the unit circle $ x2+y2=1$ can be described by the parametrization 4$ e(t)=\\left[\\frac{1-t^2}{1+t^2},\\frac{2t}{1+t^2}\\right]. $, then the range of values for $s(\\widetilde{OAB})$, (where A=e(t), B=e(u)) can be expressed as $-\\frac12\\le s(\\widetilde{OAB})\\le \\frac12.$\n",
    "\n",
    "<br/>\n",
    "<i>STILL WORKING ON THIS PROOF</i>"
   ]
  },
  {
   "cell_type": "code",
   "execution_count": 131,
   "metadata": {},
   "outputs": [],
   "source": [
    "s, t, u = var(\"s, t, u\")\n",
    "# Let t and u be integers"
   ]
  },
  {
   "cell_type": "markdown",
   "metadata": {},
   "source": [
    "Recall that a circle can be paramaterised as per $e(t)=\\left[\\frac{1-t^2}{1+t^2},\\frac{2t}{1+t^2}\\right].$"
   ]
  },
  {
   "cell_type": "code",
   "execution_count": 132,
   "metadata": {},
   "outputs": [
    {
     "data": {
      "text/plain": [
       "(-(t^2 - 1)/(t^2 + 1), 2*t/(t^2 + 1))"
      ]
     },
     "execution_count": 132,
     "metadata": {},
     "output_type": "execute_result"
    }
   ],
   "source": [
    "S1 = np.array([(1 - t^2)/(1 + t^2), 2*t / (1 + t^2)])\n",
    "S1[0], S1[1]\n",
    "# Let S1 be a point constructed from an integer t"
   ]
  },
  {
   "cell_type": "code",
   "execution_count": 133,
   "metadata": {},
   "outputs": [
    {
     "data": {
      "text/plain": [
       "(-(u^2 - 1)/(u^2 + 1), 2*u/(u^2 + 1))"
      ]
     },
     "execution_count": 133,
     "metadata": {},
     "output_type": "execute_result"
    }
   ],
   "source": [
    "S2 = np.array([(1 - u^2)/(1 + u^2), 2*u / (1 + u^2)])\n",
    "S2[0], S2[1]\n",
    "# Let S2 be a point constructed from an integer u"
   ]
  },
  {
   "cell_type": "code",
   "execution_count": 134,
   "metadata": {},
   "outputs": [],
   "source": [
    "S3 = np.array([0, 0])\n",
    "# Let S3 be a point constructed from the integer 0"
   ]
  },
  {
   "cell_type": "code",
   "execution_count": 135,
   "metadata": {},
   "outputs": [],
   "source": [
    "S4 = np.array([S3, S1, S2])\n",
    "# Let S4 be an orientated triangle constructed from the points S3, S1 and S2"
   ]
  },
  {
   "cell_type": "code",
   "execution_count": 136,
   "metadata": {},
   "outputs": [
    {
     "data": {
      "text/html": [
       "<html><script type=\"math/tex; mode=display\">\\newcommand{\\Bold}[1]{\\mathbf{#1}}-\\frac{{\\left(t u + 1\\right)} {\\left(t - u\\right)}}{{\\left(t^{2} + 1\\right)} {\\left(u^{2} + 1\\right)}}</script></html>"
      ],
      "text/plain": [
       "-(t*u + 1)*(t - u)/((t^2 + 1)*(u^2 + 1))"
      ]
     },
     "metadata": {},
     "output_type": "display_data"
    }
   ],
   "source": [
    "S5 = ((S1[0] * S2[1] - S1[1] * S2[0]) / 2).factor()\n",
    "show(S5)\n",
    "# Let S8 be the singed area of S6, via proof x_x_x"
   ]
  },
  {
   "cell_type": "code",
   "execution_count": 137,
   "metadata": {},
   "outputs": [
    {
     "data": {
      "text/html": [
       "<html><script type=\"math/tex; mode=display\">\\newcommand{\\Bold}[1]{\\mathbf{#1}}t^{2} u^{2} + t^{2} + u^{2}</script></html>"
      ],
      "text/plain": [
       "t^2*u^2 + t^2 + u^2"
      ]
     },
     "metadata": {},
     "output_type": "display_data"
    }
   ],
   "source": [
    "S6 = S5.denominator().expand() - 1\n",
    "show(S6)"
   ]
  },
  {
   "cell_type": "code",
   "execution_count": 138,
   "metadata": {},
   "outputs": [],
   "source": [
    "# Not sure how to finish this"
   ]
  },
  {
   "cell_type": "markdown",
   "metadata": {},
   "source": [
    "### 2_2_17 <a class=\"anchor\" id=\"2_2_17\"></a>\n",
    "<i>Proposition:</i> For the given integers $k$ and $\\ell$,  $k$ is equivalent to  $\\ell mod7$ precisely when $k=l+7r$ for some integer r\n"
   ]
  },
  {
   "cell_type": "code",
   "execution_count": null,
   "metadata": {},
   "outputs": [],
   "source": []
  }
 ],
 "metadata": {
  "kernelspec": {
   "display_name": "SageMath 9.0",
   "language": "sage",
   "name": "sagemath"
  },
  "language_info": {
   "codemirror_mode": {
    "name": "ipython",
    "version": 3
   },
   "file_extension": ".py",
   "mimetype": "text/x-python",
   "name": "python",
   "nbconvert_exporter": "python",
   "pygments_lexer": "ipython3",
   "version": "3.7.3"
  }
 },
 "nbformat": 4,
 "nbformat_minor": 4
}
