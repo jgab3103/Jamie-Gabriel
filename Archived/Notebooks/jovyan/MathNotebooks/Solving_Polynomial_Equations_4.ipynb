{
 "cells": [
  {
   "cell_type": "code",
   "execution_count": 1,
   "metadata": {},
   "outputs": [],
   "source": [
    "import sympy as sp\n",
    "import numpy as np\n",
    "import pickle\n",
    "from IPython.core.display import HTML"
   ]
  },
  {
   "cell_type": "code",
   "execution_count": 2,
   "metadata": {},
   "outputs": [
    {
     "ename": "FileNotFoundError",
     "evalue": "[Errno 2] No such file or directory: 'outputs_for_reuse.pkl'",
     "output_type": "error",
     "traceback": [
      "\u001b[0;31m---------------------------------------------------------------------------\u001b[0m",
      "\u001b[0;31mFileNotFoundError\u001b[0m                         Traceback (most recent call last)",
      "\u001b[0;32m<ipython-input-2-1686320ac757>\u001b[0m in \u001b[0;36m<module>\u001b[0;34m()\u001b[0m\n\u001b[0;32m----> 1\u001b[0;31m \u001b[0;32mwith\u001b[0m \u001b[0mopen\u001b[0m\u001b[0;34m(\u001b[0m\u001b[0;34m'outputs_for_reuse.pkl'\u001b[0m\u001b[0;34m,\u001b[0m \u001b[0;34m'rb'\u001b[0m\u001b[0;34m)\u001b[0m \u001b[0;32mas\u001b[0m \u001b[0minput\u001b[0m\u001b[0;34m:\u001b[0m\u001b[0;34m\u001b[0m\u001b[0;34m\u001b[0m\u001b[0m\n\u001b[0m\u001b[1;32m      2\u001b[0m     \u001b[0mimported_outputs_from_another_notebook\u001b[0m \u001b[0;34m=\u001b[0m \u001b[0mpickle\u001b[0m\u001b[0;34m.\u001b[0m\u001b[0mload\u001b[0m\u001b[0;34m(\u001b[0m\u001b[0minput\u001b[0m\u001b[0;34m)\u001b[0m\u001b[0;34m\u001b[0m\u001b[0;34m\u001b[0m\u001b[0m\n",
      "\u001b[0;31mFileNotFoundError\u001b[0m: [Errno 2] No such file or directory: 'outputs_for_reuse.pkl'"
     ]
    }
   ],
   "source": [
    "with open('outputs_for_reuse.pkl', 'rb') as input:\n",
    "    imported_outputs_from_another_notebook = pickle.load(input)"
   ]
  },
  {
   "cell_type": "code",
   "execution_count": null,
   "metadata": {},
   "outputs": [],
   "source": [
    "c_0, c_1, c_2, c_3, x, t, a_0, a_1, a_2, a_3, a_4, a_5, a_6, a_7, a_8, a_9, x_1, x_2, s_1, s_2 = sp.symbols('c_0, c_1, c_2, c_3, x, t, a_0, a_1, a_2, a_3, a_4, a_5, a_6, a_7, a_8, a_9, x_1, x_2, s_1, s_2')\n"
   ]
  },
  {
   "cell_type": "code",
   "execution_count": null,
   "metadata": {},
   "outputs": [],
   "source": [
    "# we created a new value for x\n",
    "# we have replaced c_0 with t for convenience, \n",
    "# look for a solution which is a power series in t\n",
    "# we looked up to powers of 7 in t, with undetermined\n",
    "# coeffiencts\n",
    "# we saw 1 of the coeffiencints, a_0 had a possible 0, \n",
    "# then we have gone down this path, uniquely solve for all\n",
    "# values of a_i\n",
    "# involved odd powers of c_1 in the denominator\n",
    "# in the numerator we got polynomicals in c_1, c_2, c_3 and "
   ]
  },
  {
   "cell_type": "code",
   "execution_count": null,
   "metadata": {},
   "outputs": [],
   "source": [
    "S1 = imported_outputs_from_another_notebook['general_cubic_equation']\n",
    "S2 = imported_outputs_from_another_notebook['power_series_in_t_substitution_for_x']\n",
    "S3 = imported_outputs_from_another_notebook['solutions_for_a_values']\n",
    "S4 = imported_outputs_from_another_notebook['new_value_for_x']"
   ]
  },
  {
   "cell_type": "code",
   "execution_count": null,
   "metadata": {},
   "outputs": [],
   "source": [
    "S1"
   ]
  },
  {
   "cell_type": "code",
   "execution_count": null,
   "metadata": {},
   "outputs": [],
   "source": [
    "S2"
   ]
  },
  {
   "cell_type": "code",
   "execution_count": null,
   "metadata": {},
   "outputs": [],
   "source": [
    "S4\n",
    "# end of the process we solved for a in terms of c, and\n",
    "# subs back into x, leaving us this, where we assumed t was\n",
    "# 0 in the case, where a_0 was 0"
   ]
  },
  {
   "cell_type": "code",
   "execution_count": null,
   "metadata": {},
   "outputs": [],
   "source": [
    "# We will create \n",
    "latex_rendering = []\n",
    "\n",
    "for i in range(len(S3)):\n",
    "    latex_rendering.append(\"$$\" + sp.latex(S3[i].simplify()) + \"$$\")\n",
    "    \n",
    "HTML(\"\".join(latex_rendering[1:]))\n",
    "# Note: how on earth do you left align multiple lines of latex. Need to figure this out "
   ]
  },
  {
   "cell_type": "code",
   "execution_count": null,
   "metadata": {},
   "outputs": [],
   "source": [
    "\n"
   ]
  },
  {
   "cell_type": "code",
   "execution_count": null,
   "metadata": {},
   "outputs": [],
   "source": [
    "\n",
    "# note we can set c_3 to 0 and recover \n",
    "S4.subs(c_3, 0)"
   ]
  },
  {
   "cell_type": "markdown",
   "metadata": {},
   "source": [
    "so how to make sense of this....\n",
    "happens alot, we have made some computations, need to make sense\n",
    "of the data, pattern in family of expressions - \n",
    "how can we predcit what happens if we go higher\n",
    "can we predict - like soduko\n",
    "\n",
    "so now we stop and pause and figure out the pattern\n",
    "\n",
    "we know there is some pattern, 1, 1, 2, 5, 14, \n",
    "maybe rest of the pattern could be explained this way\n",
    "\n",
    "catalan appearing as powers of c_2\n",
    "\n",
    "note terms involved in c_1, c_2, c_3...\n",
    "it appears there is pattern - terms involved \n",
    "in a_k are all of the same total degree, namely\n",
    "note, for examle for a_7, all terms have total degree of \n",
    "degree 6, \n",
    "\n",
    "this patterns appears to hold\n",
    "\n",
    "note also that thee are some patterns\n",
    "not appearing\n",
    "\n",
    "need to stare at, try and different things\n",
    "assume that there is a pattern, \n",
    "is there a relatively simple pattern\n",
    "\n",
    "exxample of a_6....\n",
    "evnentually, realise, terms have additoinal\n",
    "poerty....look at proudct \n",
    "\n",
    "noteice in c_2 * 5 is 10, in second term\n",
    "c_1*1 + C_2 * 3 + C_3 * 1 = 10....\n",
    "so pattern emeerging between the \n",
    "powers and indexes - so multiply degree and index, \n",
    "so in addition, it appears that the property of \n",
    "of degree, supped up degree, involves the degrees and \n",
    "indices (indeces which are coming from coefficents, where\n",
    "they fit in original cubic equation....indices are connected \n",
    "with algebraic nature of the problem, here these indices\n",
    "are representing )\n",
    "\n",
    "so lets define this idea as a new quatity: \n",
    "\n",
    "lets definite this as \"index-degree\" - make our definitons in bold \n",
    "\n",
    "\n",
    "we define the index degree of a term  $c_1^{m_1}, c_2^{m_2}c_3^{m_3}$ to be the sum of the products of the idices and the degrees of each of the constituent variables, ie 1xm_1 + 2 m_2 + 3 x m_3 for this examle, and this is is contant in each o the a_i values\n",
    "\n",
    "\n",
    "Lets check with the others - and it makes sense, note idea of ordinary degree vs index degree, new definition. It appears then \n",
    "that index degree is always twice the usual degree, so a_7 is or degree 6 and index_degree 12. \n",
    "\n",
    "So the usual degree is (k-1), while the index degree is 2(k - 1). But do all terms that have this property actually appear...maybe there is some other term not on the list, is there something we are missing, \n",
    "\n",
    "Q: is this the case - if so, we ar in a good situation"
   ]
  },
  {
   "cell_type": "markdown",
   "metadata": {},
   "source": [
    "Now we want to understand coeffiencts.....\n",
    "It appears that the sign of the terms is determed by the power of c_1 appearing in the term. Iv there is an even power, we get a plus sign, we get an odd power, we get a minus sign out front...so sign is important \n",
    "\n",
    "TO get to grips with numbers that appear as coefficents, lets first write them down in a nice way\n",
    "\n",
    "\n",
    "Use a matrix to write numbers down "
   ]
  },
  {
   "cell_type": "code",
   "execution_count": null,
   "metadata": {},
   "outputs": [],
   "source": [
    "# create a matrx of 0s\n",
    "\n",
    "# 7 rows, 4 volumsn\n",
    "\n",
    "S5 = matrix.zero(7,4)\n",
    "show(S5)"
   ]
  },
  {
   "cell_type": "code",
   "execution_count": null,
   "metadata": {},
   "outputs": [],
   "source": [
    "ss = sp.Poly(S3[5].lhs.simplify())"
   ]
  },
  {
   "cell_type": "code",
   "execution_count": null,
   "metadata": {},
   "outputs": [],
   "source": [
    "S6 = [sp.Poly(S3[i + 1].lhs.simplify()).coeffs() for i in range(len(S3[1:]))]\n",
    "S6"
   ]
  },
  {
   "cell_type": "code",
   "execution_count": null,
   "metadata": {},
   "outputs": [],
   "source": [
    "for i in range(len(S6)):\n",
    "    for j in range(len(S6[i])):\n",
    "        x = abs(int(S6[i][j]))\n",
    "       # print(prime_factors(x))\n",
    "        S5[i, j] = abs(int(S6[i][j]))\n",
    "show(S5)"
   ]
  },
  {
   "cell_type": "code",
   "execution_count": null,
   "metadata": {},
   "outputs": [],
   "source": [
    "prime_factors(132)"
   ]
  },
  {
   "cell_type": "code",
   "execution_count": null,
   "metadata": {},
   "outputs": [],
   "source": []
  }
 ],
 "metadata": {
  "kernelspec": {
   "display_name": "SageMath 9.0",
   "language": "sage",
   "name": "sagemath"
  },
  "language_info": {
   "codemirror_mode": {
    "name": "ipython",
    "version": 3
   },
   "file_extension": ".py",
   "mimetype": "text/x-python",
   "name": "python",
   "nbconvert_exporter": "python",
   "pygments_lexer": "ipython3",
   "version": "3.7.3"
  }
 },
 "nbformat": 4,
 "nbformat_minor": 4
}
