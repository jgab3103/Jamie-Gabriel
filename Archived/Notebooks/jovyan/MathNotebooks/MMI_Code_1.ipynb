{
 "cells": [
  {
   "cell_type": "markdown",
   "metadata": {},
   "source": [
    "<h3>Types</h3>\n",
    "<div>This notebook contains an overview of all types used in proofs</div>\n",
    "<br/>\n",
    "\n",
    "\n",
    "[List](#List)<br/>\n",
    "[Ordered Set](#Finite_Field)</br>\n",
    "[Multi set](#Finite_Field)</br>\n",
    "[Set](#Finite_Field)</br>\n",
    "\n",
    "<hr/>\n",
    "\n",
    "[Bit](#Bit)<br/>\n",
    "[Cyclic List](#List)<br/>\n",
    "[Cyclic Orientated Polygon](#List)<br/>\n",
    "[Field](#List)<br/>\n",
    "[Integer](#List)<br/>\n",
    "[Line](#Finite_Field)</br>\n",
    "[Mass](#List)<br/>\n",
    "[Natural](#List)<br/>\n",
    "[Orientated Side](#Finite_Field)</br>\n",
    "[Orientated Edge](#Finite_Field)</br>\n",
    "[Orientated Triangle](#Finite_Field)</br>\n",
    "[Orientated Polygonal Spline](#Finite_Field)</br>\n",
    "[Parallelogram](#Finite_Field)</br>\n",
    "[Plane](#Finite_Field)</br>\n",
    "[Point](#Finite_Field)</br>\n",
    "[Rational](#Finite_Field)</br>\n",
    "[Side](#Finite_Field)</br>\n",
    "[Slope](#Finite_Field)</br>\n",
    "[Triangle](#Finite_Field)</br>\n",
    "[Vector](#Finite_Field)</br>\n",
    "\n",
    "<hr/>\n"
   ]
  },
  {
   "cell_type": "markdown",
   "metadata": {},
   "source": [
    "### List <a class=\"anchor\" id=\"list\"></a>\n",
    "\n",
    "<i>Definition:</i><br/>An ordered structure in which repetitions are allowed\n",
    "<br/>\n",
    "<b>Order allowed: </b> Yes\n",
    "<br/><b>Repeition allowed: </b> Yes"
   ]
  },
  {
   "cell_type": "markdown",
   "metadata": {},
   "source": [
    "\n",
    "### Ordered set <a class=\"anchor\" id=\"ordered_set\"></a>\n",
    "\n",
    "<i>Definition:</i><br/>An ordered structure in which repetitions are not allowed\n",
    "\n",
    "<b>Order allowed: </b> Yes\n",
    "<br/><b>Repeition allowed: </b> No"
   ]
  },
  {
   "cell_type": "markdown",
   "metadata": {},
   "source": [
    "### Multi set <a class=\"anchor\" id=\"multi_set\"></a>\n",
    "<i>Definition:</i><br/>An unordered structure in which repetitions are allowed\n",
    "\n",
    "\n",
    "<b>Order allowed: </b> No\n",
    "<br/><b>Repeition allowed: </b> Yes"
   ]
  },
  {
   "cell_type": "markdown",
   "metadata": {},
   "source": [
    "### Set <a class=\"anchor\" id=\"Set\"></a>\n",
    "\n",
    "<i>Definition:</i><br/>An unordered structure in which repetitions are not allowed\n",
    "\n",
    "<b>Order allowed: </b> No\n",
    "<br/><b>Repeition allowed: </b> No"
   ]
  },
  {
   "cell_type": "markdown",
   "metadata": {},
   "source": [
    "<hr/>"
   ]
  },
  {
   "cell_type": "markdown",
   "metadata": {},
   "source": [
    "### Cyclic List <a class=\"anchor\" id=\"cyclic_list\"></a>\n",
    "\n",
    "<i>Definition:</i><br/>is an ordered structure with repetitions allowed where also cyclic rotation of the elements is allowed\n",
    "\n",
    "<b>Order allowed: </b> Yes\n",
    "<br/><b>Repeition allowed: </b> Yes\n"
   ]
  },
  {
   "cell_type": "markdown",
   "metadata": {},
   "source": [
    "### Oriented Polygonal Spline <a class=\"anchor\" id=\"oriented_polygonal_spline\"></a>\n",
    "\n",
    "<i>Definition:</i><br/> Is a list of affine points. Because it is a list, repetitions are allowed, and the structure is ordered.\n",
    "\n",
    "<b>Order allowed: </b> Yes\n",
    "<br/><b>Repeition allowed: </b> Yes"
   ]
  },
  {
   "cell_type": "markdown",
   "metadata": {},
   "source": [
    "### Cyclic Oriented Polygonal Spline <a class=\"anchor\" id=\"cyclic_oriented_polygonal_spline\"></a>\n",
    "\n",
    "<i>Definition:</i><br/> Is a cyclic list of affine points. Because it is a list, repetitions are allowed, but the structure is cyclically ordered, so unchanged if we rotate the elements.\n",
    "\n",
    "<b>Order allowed: </b> Yes\n",
    "<br/><b>Repeition allowed: </b> Yes"
   ]
  },
  {
   "cell_type": "code",
   "execution_count": null,
   "metadata": {},
   "outputs": [],
   "source": []
  }
 ],
 "metadata": {
  "kernelspec": {
   "display_name": "SageMath 9.0",
   "language": "sage",
   "name": "sagemath"
  },
  "language_info": {
   "codemirror_mode": {
    "name": "ipython",
    "version": 3
   },
   "file_extension": ".py",
   "mimetype": "text/x-python",
   "name": "python",
   "nbconvert_exporter": "python",
   "pygments_lexer": "ipython3",
   "version": "3.7.3"
  }
 },
 "nbformat": 4,
 "nbformat_minor": 4
}
