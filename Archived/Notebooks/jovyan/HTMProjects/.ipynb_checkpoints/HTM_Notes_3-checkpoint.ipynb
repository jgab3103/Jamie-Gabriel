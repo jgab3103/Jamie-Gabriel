{
 "cells": [
  {
   "cell_type": "markdown",
   "metadata": {},
   "source": [
    "<i>STATUS: Draft<i>"
   ]
  },
  {
   "cell_type": "code",
   "execution_count": 1,
   "metadata": {},
   "outputs": [],
   "source": [
    "import numpy as np\n",
    "import sympy as sp\n",
    "from IPython.display import HTML\n",
    "import matplotlib.pyplot as plt\n",
    "from matplotlib import animation\n",
    "from matplotlib.patches import Rectangle\n",
    "from IPython.display import Image\n",
    "import sys"
   ]
  },
  {
   "cell_type": "markdown",
   "metadata": {},
   "source": [
    "In the last notebook, we explored overlap sets and subsamplings. Let's start by putting in our functions, and let's start to think more about the structure of these functions. I am just creating them as I go. But my visualisation is so we will clean this up. \n",
    "\n",
    "So so far we mechanisms to create a single SDR, and we have a function to randomly flip some bits. For mor than 1, we have a mechanism compute a union and overlap for any two. Finally, we can create a group of functions to visualisation. At some point we are going to switch to using htm.core to manage alot of this, but these functions are handy to use"
   ]
  },
  {
   "cell_type": "code",
   "execution_count": 235,
   "metadata": {},
   "outputs": [],
   "source": [
    "#################### SINGLE SDR FUNCTIONS ###################################################\n",
    "\n",
    "\n",
    "def create_randomised_sdr(capacity, population):\n",
    "    sdr = set()\n",
    "    while len(sdr) < population:\n",
    "        sdr.add(np.random.randint(low=1, high=capacity))\n",
    "\n",
    "    return(list(sdr))\n",
    "\n",
    "\n",
    "def randomly_flip_percentage_of_bits(SDR, array_size, percentage_to_flip):\n",
    "    to_remove = int(percentage_to_flip * len(SDR))\n",
    "    randomised_SDR = np.random.shuffle(SDR)\n",
    "    del SDR[0:to_remove]\n",
    "    noise = create_randominsed_sdr(np.sqrt(array_size), np.sqrt(array_size), to_remove)\n",
    "    sdr_with_noise = noise + SDR\n",
    "    return(sdr_with_noise)\n",
    "\n",
    "\n",
    "############## MULTIPLE SDR FUNCTIONS ###################################################\n",
    "def compute_union_and_overlap(SDR1_on_bits, SDR2_on_bits):\n",
    "    union = list(set(SDR1_on_bits).union(SDR2_on_bits))\n",
    "    overlap = list(set(SDR1_on_bits).intersection(SDR2_on_bits))\n",
    "    \n",
    "    return({\"union\": union, \"overlap\": overlap})\n",
    "\n",
    "def create_and_compare_sdrs_over_multiple_iterations(iterations, sdr_size, population):\n",
    "    sdr_unions_for_comparison = []\n",
    "    sdr_overlaps_for_comparison = []\n",
    "    for x in range(iterations):\n",
    "        SDR1 = create_randominsed_sdr(sdr_size, population)\n",
    "        SDR2 =create_randominsed_sdr(sdr_size, population)\n",
    "        sdr_comparison = compute_union_and_overlap(SDR1, SDR2)\n",
    "        sdr_unions_for_comparison.append(len(sdr_comparison['union']))\n",
    "        sdr_overlaps_for_comparison.append(len(sdr_comparison['overlap']))\n",
    "    print(\"Average union: \", str(sum(sdr_unions_for_comparison) / len(sdr_unions_for_comparison)))\n",
    "    print(\"Average overlap: \", str(sum(sdr_overlaps_for_comparison) / len(sdr_overlaps_for_comparison)))\n",
    "    return({\"union_comparison\": sdr_unions_for_comparison, \"overlap_comparison\": sdr_overlaps_for_comparison})\n",
    "\n",
    "def compute_overlap_set_cardinality(n, w0, w1, b, provide_summary = True):\n",
    "    on_bit_space = sp.binomial(w0, b)\n",
    "    off_bit_space = sp.binomial(n - w0, w1 - b)\n",
    "    overlap_set = on_bit_space * off_bit_space\n",
    "    if provide_summary:\n",
    "        print(\"Given a capcity of\", str(w0), \"bits in the on-bit space, the number of ways to arrange \", str(b), \"on-bits: \", on_bit_space)\n",
    "        print(\"Given a capacity\", str(n - w0), \"bits in the off-bit space, the number of ways to arrange\", str(w1 - b), \"off-bits: \", off_bit_space)\n",
    "        print(\"Number of SDRs that will match w0: \", overlap_set)\n",
    "    return(overlap_set)\n",
    "\n",
    "######################## VISUALISATION FUNCTIONS ############################################\n",
    "\n",
    "def convert_sdr_to_tuple_for_visualisation(sdr):\n",
    "    pass\n",
    "\n",
    "def create_axis_for_sdr(ax, x_limit, y_limit, population, label, create_label = True):\n",
    "    \n",
    "    if create_label:\n",
    "        label_add = np.round((population / (x_limit * y_limit)) * 100, 2)\n",
    "        label = label + ' (Sparsity: {}%)'.format(label_add)\n",
    "        ax.set_xlabel(label)\n",
    "        \n",
    "    ax.set_xticks(range(int(x_limit)))\n",
    "    ax.set_yticks(range(int(y_limit)))\n",
    "    [ax.xaxis.get_major_ticks()[i].tick1line.set_color(\"white\") for i in range(int(x_limit))]\n",
    "    [ax.yaxis.get_major_ticks()[i].tick1line.set_color(\"white\") for i in range(int(y_limit))]\n",
    "    ax.set_yticklabels([])\n",
    "    ax.set_xticklabels([])\n",
    "    ax.grid(color='k', linestyle='-', linewidth=.5)\n",
    "    \n",
    "    return(ax)\n"
   ]
  },
  {
   "cell_type": "code",
   "execution_count": null,
   "metadata": {},
   "outputs": [],
   "source": []
  },
  {
   "cell_type": "code",
   "execution_count": 236,
   "metadata": {},
   "outputs": [
    {
     "data": {
      "text/html": [
       "<iframe width=\"560\" height=\"315\" src=\"https://www.youtube.com/embed/8WIzIBaLXIs\" title=\"YouTube video player\" frameborder=\"0\" allow=\"accelerometer; autoplay; clipboard-write; encrypted-media; gyroscope; picture-in-picture\" allowfullscreen></iframe>"
      ],
      "text/plain": [
       "<IPython.core.display.HTML object>"
      ]
     },
     "execution_count": 236,
     "metadata": {},
     "output_type": "execute_result"
    }
   ],
   "source": [
    "HTML('<iframe width=\"560\" height=\"315\" src=\"https://www.youtube.com/embed/8WIzIBaLXIs\" title=\"YouTube video player\" frameborder=\"0\" allow=\"accelerometer; autoplay; clipboard-write; encrypted-media; gyroscope; picture-in-picture\" allowfullscreen></iframe>')"
   ]
  },
  {
   "cell_type": "markdown",
   "metadata": {},
   "source": [
    "We have seen that SDRS are highly fault tolerant and noise tolerant. We can create, store a percentage, and imagine a stream of SDRs  - imagine collecting SDRs and putting them into different buckets///over time they will collect into SDRs in each set. When we create new SDR, can compare to all sets to see if we have seen it before....andunderstand what it miht meant\n",
    "\n",
    "There are different ways we can visualise this. For an array, we can create the following visuaalisation, first let's create a 1000 randomised SDRs"
   ]
  },
  {
   "cell_type": "markdown",
   "metadata": {},
   "source": [
    "\n"
   ]
  },
  {
   "cell_type": "code",
   "execution_count": 237,
   "metadata": {},
   "outputs": [],
   "source": [
    "n = 256\n",
    "w = 8\n",
    "o = 4\n",
    "sdr_stack = [create_randomised_sdr(capacity=n, population=w) for i in range(1000)]"
   ]
  },
  {
   "cell_type": "markdown",
   "metadata": {},
   "source": [
    "We will make one of these at random a comparison SDR"
   ]
  },
  {
   "cell_type": "code",
   "execution_count": 238,
   "metadata": {},
   "outputs": [],
   "source": [
    "comparison_sdr = sdr_stack[np.random.randint(1000)]"
   ]
  },
  {
   "cell_type": "code",
   "execution_count": 253,
   "metadata": {},
   "outputs": [
    {
     "data": {
      "image/png": "[encoded data removed]",
      "text/plain": [
       "<Figure size 1296x21.6 with 1 Axes>"
      ]
     },
     "metadata": {},
     "output_type": "display_data"
    }
   ],
   "source": [
    "fig, ax1 = plt.subplots(figsize=(18, .3))\n",
    "ax1 = create_axis_for_sdr(ax1, n, 1, w, \"\",create_label=False)\n",
    "SDR1 = [ax1.add_patch(Rectangle((comparison_sdr[i], 0), 1, 1, color=\"steelblue\")) for i in range(len(comparison_sdr))]"
   ]
  },
  {
   "cell_type": "markdown",
   "metadata": {},
   "source": [
    "Now let's take 7 of the others we have created. Let's get a sense of this as a visualision first. Suppose we have chosen a comparison SDR at random, and now we wish to compare all the others with it"
   ]
  },
  {
   "cell_type": "code",
   "execution_count": 257,
   "metadata": {},
   "outputs": [
    {
     "data": {
      "image/png": "[encoded data removed]",
      "text/plain": [
       "<Figure size 1296x172.8 with 8 Axes>"
      ]
     },
     "metadata": {},
     "output_type": "display_data"
    }
   ],
   "source": [
    "sdrs_to_show = 7\n",
    "comparison_sdr_offset = 1\n",
    "figure_scaling = 0.3\n",
    "fig_width = (sdrs_to_show + comparison_sdr_offset) * figure_scaling\n",
    "\n",
    "fig, ax = plt.subplots(sdrs_to_show + comparison_sdr_offset, 1, figsize=(18, fig_width))\n",
    "ax[0] = plt.subplot2grid((sdrs_to_show + 1, 2), (0, 0), colspan=2)\n",
    "ax[0] = create_axis_for_sdr(ax[0], n, 1, w, \"\",create_label=False)\n",
    "SDR1 = [ax[0].add_patch(Rectangle((comparison_sdr[i], 0), 1, 1, color=\"steelblue\")) for i in range(len(comparison_sdr))]\n",
    "\n",
    "\n",
    "for i in range(0,sdrs_to_show):\n",
    "    ax[i + 1] = plt.subplot2grid((sdrs_to_show + 3, 2), (i + 2, 0), colspan=2)\n",
    "    \n",
    "    \n",
    "for j in range(0,sdrs_to_show):\n",
    "    ax[j + 1] = create_axis_for_sdr(ax[j + 1], n, 2, w, \"\", create_label=False)\n",
    "\n",
    "\n",
    "for k in range(0, sdrs_to_show):\n",
    "    [ax[k + 1].add_patch(Rectangle((sdr_stack[k][i], 0), 1, 1, color=\"orange\")) for i in range(len(sdr_stack[k]))]\n",
    "    \n",
    "\n",
    "t1 = ax[0].set_title(\"Comparison SDR:\", loc = \"left\")\n",
    "\n"
   ]
  },
  {
   "cell_type": "code",
   "execution_count": 258,
   "metadata": {},
   "outputs": [],
   "source": [
    "# CREATE UNIONS"
   ]
  },
  {
   "cell_type": "markdown",
   "metadata": {},
   "source": [
    "<div style=\"background:#99ddff; color:black; padding: 10px\">\n",
    "<b>Add to these notes:</b>\n",
    "    \n",
    "What becomes apparent after doing is that it needs more rigor around the code. Ideally I want to pass in size SDR get specs, get overlap and union, set a threshold. It makes more sense to have and SDR class in python which can then have attributes\n",
    "</div>"
   ]
  },
  {
   "cell_type": "markdown",
   "metadata": {},
   "source": [
    "We have covered alot in this notebook"
   ]
  },
  {
   "cell_type": "code",
   "execution_count": 129,
   "metadata": {},
   "outputs": [
    {
     "data": {
      "image/png": "[encoded data removed]",
      "text/plain": [
       "<Figure size 1296x108 with 3 Axes>"
      ]
     },
     "metadata": {},
     "output_type": "display_data"
    }
   ],
   "source": [
    "sdrs_to_show = 4\n",
    "fig_width = sdrs_to_show * 0.375\n",
    "\n",
    "fig, ax = plt.subplots(3, 1, figsize=(18, fig_width))\n",
    "ax[0] = plt.subplot2grid((4, 2), (0, 0), colspan=2)\n",
    "ax[0] = create_axis_for_sdr(ax[0], n, 1, w, \"\",create_label=False)\n",
    "\n",
    "ax[1] = plt.subplot2grid((4, 2), (2, 0), colspan=2)\n",
    "ax[2] = plt.subplot2grid((4, 2), (3, 0), colspan=2)\n",
    "\n",
    "\n",
    "ax[1] = create_axis_for_sdr(ax[1], n, 1, w, \"\", create_label=False)\n",
    "ax[2] = create_axis_for_sdr(ax[2], n, 1, w, \"\", create_label=False)\n",
    "\n",
    "ax[0].set_title(\"Comparison SDR:\", loc = \"left\")\n",
    "\n",
    "SDR1 = [ax[0].add_patch(Rectangle((comparison_sdr[i], 0), 1, 1, color=\"blue\")) for i in range(len(comparison_sdr))]\n",
    "SDR2 = [ax[1].add_patch(Rectangle((sdr_stack[4][i], 0), 1, 1, color=\"blue\")) for i in range(len(sdr_stack[4]))]\n",
    "SDR2 = [ax[2].add_patch(Rectangle((sdr_stack[7][i], 0), 1, 1, color=\"blue\")) for i in range(len(sdr_stack[7]))]"
   ]
  },
  {
   "cell_type": "code",
   "execution_count": null,
   "metadata": {},
   "outputs": [],
   "source": []
  }
 ],
 "metadata": {
  "kernelspec": {
   "display_name": "Python 3",
   "language": "python",
   "name": "python3"
  },
  "language_info": {
   "codemirror_mode": {
    "name": "ipython",
    "version": 3
   },
   "file_extension": ".py",
   "mimetype": "text/x-python",
   "name": "python",
   "nbconvert_exporter": "python",
   "pygments_lexer": "ipython3",
   "version": "3.7.3"
  }
 },
 "nbformat": 4,
 "nbformat_minor": 4
}
