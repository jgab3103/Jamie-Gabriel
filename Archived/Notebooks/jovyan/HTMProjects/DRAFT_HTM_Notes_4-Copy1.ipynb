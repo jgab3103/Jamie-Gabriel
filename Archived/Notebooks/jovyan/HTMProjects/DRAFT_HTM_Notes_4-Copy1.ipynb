{
 "cells": [
  {
   "cell_type": "markdown",
   "metadata": {},
   "source": [
    "<i>STATUS: Draft<i>"
   ]
  },
  {
   "cell_type": "code",
   "execution_count": 1,
   "metadata": {},
   "outputs": [],
   "source": [
    "import numpy as np\n",
    "import sympy as sp\n",
    "from IPython.display import HTML\n",
    "import matplotlib.pyplot as plt\n",
    "from matplotlib import animation\n",
    "from matplotlib.patches import Rectangle\n",
    "from IPython.display import Image\n",
    "import sys\n"
   ]
  },
  {
   "cell_type": "markdown",
   "metadata": {},
   "source": [
    "In the last notebook, we finished getting a basic handle on SDRs. We are now ready to start using htm.core a little, and also I will take the opportunity to clean up functions that I have created. \n",
    "\n",
    "We have some funtions that are to create SDRs, create noise. Let's first group the functions, to clean up mostly around making the visualisation, to pass SDRs of any size and getting coordinates. From here will start to build out a code base but also show along the way how we can use something more sophisticated. It seems a right of passage in HTM to build your own implementation, so we will use code for that, but htm.core will be what you want for production.\n",
    "\n",
    "I will also start to look at various functions in the htm.core so we can use similiar types of language as we build things. \n",
    "\n",
    "Everything here is quite similiar, I made the visualise function more general so it can take SDRs of different sizes and also can be used for encoders"
   ]
  },
  {
   "cell_type": "code",
   "execution_count": 2,
   "metadata": {},
   "outputs": [],
   "source": [
    "#################### SINGLE SDR FUNCTIONS ###################################################\n",
    "\n",
    "\n",
    "def create_randomised_sdr(capacity, population):\n",
    "    sdr = set()\n",
    "    \n",
    "    while len(sdr) < population:\n",
    "        sdr.add(np.random.randint(low=1, high=capacity))\n",
    "\n",
    "    return(list(sdr))\n",
    "\n",
    "\n",
    "def randomly_flip_percentage_of_bits(SDR, array_size, percentage_to_flip):\n",
    "    to_remove = int(percentage_to_flip * len(SDR))\n",
    "    randomised_SDR = np.random.shuffle(SDR)\n",
    "    del SDR[0:to_remove]\n",
    "    noise = create_randominsed_sdr(np.sqrt(array_size), np.sqrt(array_size), to_remove)\n",
    "    sdr_with_noise = noise + SDR\n",
    "    return(sdr_with_noise)\n",
    "\n",
    "\n",
    "\n",
    "############## MULTIPLE SDR FUNCTIONS ###################################################\n",
    "def compute_union_and_overlap(SDR1_on_bits, SDR2_on_bits):\n",
    "    union = list(set(SDR1_on_bits).union(SDR2_on_bits))\n",
    "    overlap = list(set(SDR1_on_bits).intersection(SDR2_on_bits))\n",
    "    \n",
    "    return({\"union\": union, \"overlap\": overlap})\n",
    "\n",
    "def create_and_compare_sdrs_over_multiple_iterations(iterations, sdr_size, population):\n",
    "    sdr_unions_for_comparison = []\n",
    "    sdr_overlaps_for_comparison = []\n",
    "    for x in range(iterations):\n",
    "        SDR1 = create_randominsed_sdr(sdr_size, population)\n",
    "        SDR2 =create_randominsed_sdr(sdr_size, population)\n",
    "        sdr_comparison = compute_union_and_overlap(SDR1, SDR2)\n",
    "        sdr_unions_for_comparison.append(len(sdr_comparison['union']))\n",
    "        sdr_overlaps_for_comparison.append(len(sdr_comparison['overlap']))\n",
    "    print(\"Average union: \", str(sum(sdr_unions_for_comparison) / len(sdr_unions_for_comparison)))\n",
    "    print(\"Average overlap: \", str(sum(sdr_overlaps_for_comparison) / len(sdr_overlaps_for_comparison)))\n",
    "    return({\"union_comparison\": sdr_unions_for_comparison, \"overlap_comparison\": sdr_overlaps_for_comparison})\n",
    "\n",
    "def compute_overlap_set_cardinality(n, w0, w1, b, provide_summary = True):\n",
    "    on_bit_space = sp.binomial(w0, b)\n",
    "    off_bit_space = sp.binomial(n - w0, w1 - b)\n",
    "    overlap_set = on_bit_space * off_bit_space\n",
    "    if provide_summary:\n",
    "        print(\"Given a capcity of\", str(w0), \"bits in the on-bit space, the number of ways to arrange \", str(b), \"on-bits: \", on_bit_space)\n",
    "        print(\"Given a capacity\", str(n - w0), \"bits in the off-bit space, the number of ways to arrange\", str(w1 - b), \"off-bits: \", off_bit_space)\n",
    "        print(\"Number of SDRs that will match w0: \", overlap_set)\n",
    "    return(overlap_set)\n",
    "\n",
    "######################## VISUALISATION FUNCTIONS ############################################\n",
    "\n",
    "\n",
    "def create_axis_for_sdr(ax, x_limit, y_limit, population, label, create_label = True):\n",
    "    \n",
    "    if create_label:\n",
    "        label_add = np.round((population / (x_limit * y_limit)) * 100, 2)\n",
    "        label = label + ' (Sparsity: {}%)'.format(label_add)\n",
    "        ax.set_xlabel(label)\n",
    "        \n",
    "    ax.set_xticks(range(int(x_limit)))\n",
    "    ax.set_yticks(range(int(y_limit)))\n",
    "    [ax.xaxis.get_major_ticks()[i].tick1line.set_color(\"white\") for i in range(int(x_limit))]\n",
    "    [ax.yaxis.get_major_ticks()[i].tick1line.set_color(\"white\") for i in range(int(y_limit))]\n",
    "    ax.set_yticklabels([])\n",
    "    ax.set_xticklabels([])\n",
    "    ax.grid(color='k', linestyle='-', linewidth=.5)\n",
    "    \n",
    "    return(ax)\n",
    "\n",
    "\n",
    "def convert_sdr_to_tuple_for_visualisation(sdr, sdr_size):    \n",
    "    counting_offset = 1\n",
    "    # create array of complete sdrs\n",
    "\n",
    "    m = np.zeros(sdr_size)\n",
    "    for i in sdr:\n",
    "        m[i] = m[i] + 1\n",
    "    \n",
    "    # find dimensions of visualisation\n",
    "    n = sp.symbols('n')\n",
    "    e = sp.Eq(2**n, sdr_size)\n",
    "    s = sp.solve(e, n)\n",
    "    middle_index = np.floor(float(s[0] / 2))\n",
    "    \n",
    "    if s[0] % 2 == 0:\n",
    "        dimensions = [2**middle_index, 2**middle_index]\n",
    "    else:\n",
    "        dimensions = [2**middle_index, 2**(middle_index + 1)]\n",
    "    \n",
    "    d = np.reshape(m, [int(v) for v in dimensions])\n",
    "    v = np.where(d == 1)\n",
    "\n",
    "    \n",
    "    coords = [(v[1][i], (dimensions[1] - counting_offset) - v[0][i]) for i in range(len(v[1]))]\n",
    "    \n",
    "    return(coords)\n"
   ]
  },
  {
   "cell_type": "markdown",
   "metadata": {},
   "source": [
    "Let's test our code so far a little: "
   ]
  },
  {
   "cell_type": "code",
   "execution_count": 3,
   "metadata": {},
   "outputs": [
    {
     "data": {
      "image/png": "[encoded data removed]",
      "text/plain": [
       "<Figure size 1296x288 with 4 Axes>"
      ]
     },
     "metadata": {},
     "output_type": "display_data"
    }
   ],
   "source": [
    "sdr_size = 256\n",
    "population = 8\n",
    "#label = str(np.round(sdr_size/population, 3))\n",
    "\n",
    "specs1 = create_randomised_sdr(sdr_size, population)\n",
    "specs2 = create_randomised_sdr(sdr_size, population)\n",
    "\n",
    "x_vals, y_vals = sdr_comparison = compute_union_and_overlap(specs1, specs2)\n",
    "\n",
    "fig, (ax1, ax2, ax3, ax4) = plt.subplots(1, 4, figsize=(18, 4))\n",
    "\n",
    "ax1 = create_axis_for_sdr(ax1, np.sqrt(sdr_size) + 1, np.sqrt(sdr_size) + 1, population, \"SDR 1\")\n",
    "ax2 = create_axis_for_sdr(ax2, np.sqrt(sdr_size) + 1, np.sqrt(sdr_size) + 1, population, \"SDR 2\")\n",
    "ax3 = create_axis_for_sdr(ax3, np.sqrt(sdr_size) + 1, np.sqrt(sdr_size) + 1, population, \"SDR 2\")\n",
    "ax4 = create_axis_for_sdr(ax4, np.sqrt(sdr_size) + 1, np.sqrt(sdr_size) + 1, len(sdr_comparison['union']), \"Overlap (AND) and Union (OR)\")\n",
    "\n",
    "\n",
    "SDR1 = [ax1.add_patch(Rectangle(convert_sdr_to_tuple_for_visualisation(specs1, sdr_size)[i], 1, 1, color=\"blue\")) for i in range(len(specs1))]\n",
    "SDR2 = [ax2.add_patch(Rectangle(convert_sdr_to_tuple_for_visualisation(specs2, sdr_size)[i], 1, 1, color=\"blue\")) for i in range(len(specs2))]\n",
    "SDR3 = ax4.add_patch(Rectangle([1,15], 1, 1, color=\"blue\"))\n",
    "#union = [ax3.add_patch(Rectangle(sdr_comparison['union'][i], 1, 1, color=\"gray\")) for i in range(len(sdr_comparison['union']))]\n",
    "# overlap = [ax3.add_patch(Rectangle(sdr_comparison['overlap'][i], 1, 1, color=\"orange\")) for i in range(len(sdr_comparison['overlap']))]\n"
   ]
  },
  {
   "cell_type": "markdown",
   "metadata": {},
   "source": [
    "Looks like things still work. Now let's move on to the idea of an encoder. THer is a videa for this which is very handy, we know that SDRs are a powerful way to get data, but how do take data that we experience in the real world and put it into this format. Start with the HTM shcool video: "
   ]
  },
  {
   "cell_type": "code",
   "execution_count": 4,
   "metadata": {},
   "outputs": [
    {
     "data": {
      "text/html": [
       "<iframe width=\"560\" height=\"315\" src=\"https://www.youtube.com/embed/V3Yqtpytif0\" title=\"YouTube video player\" frameborder=\"0\" allow=\"accelerometer; autoplay; clipboard-write; encrypted-media; gyroscope; picture-in-picture\" allowfullscreen></iframe>"
      ],
      "text/plain": [
       "<IPython.core.display.HTML object>"
      ]
     },
     "execution_count": 4,
     "metadata": {},
     "output_type": "execute_result"
    }
   ],
   "source": [
    "HTML('<iframe width=\"560\" height=\"315\" src=\"https://www.youtube.com/embed/V3Yqtpytif0\" title=\"YouTube video player\" frameborder=\"0\" allow=\"accelerometer; autoplay; clipboard-write; encrypted-media; gyroscope; picture-in-picture\" allowfullscreen></iframe>')"
   ]
  },
  {
   "cell_type": "markdown",
   "metadata": {},
   "source": [
    "At this point to we are going to start uisng the BAMI resource found at: [HERE]\n",
    "\n",
    "1. Semantically similar data should result in SDRs with overlapping active bits.\n",
    "\n",
    "2. The same input should always produce the same SDR as output.\n",
    "\n",
    "3. The output should have the same dimensionality (total number of bits) for all inputs.\n",
    "\n",
    "4. The output should have similar sparsity for all inputs and have enough one-bits to handle noise and\n",
    "    subsampling.\n",
    "    \n"
   ]
  },
  {
   "cell_type": "markdown",
   "metadata": {},
   "source": [
    "\n"
   ]
  },
  {
   "cell_type": "markdown",
   "metadata": {},
   "source": [
    "Let's build an encorder and start with numbers, numbers are bit overly simple. For an input space a grid like above, how many buckets can \n"
   ]
  },
  {
   "cell_type": "markdown",
   "metadata": {},
   "source": [
    "To get a sense of an ecoder, let's build it as a Python class. Its kind of an object type of thing, so let's treat it that way. This enoder will set up the size of the bit space, know how many buckets, and provide values back. We can create one and then work through the functions: "
   ]
  },
  {
   "cell_type": "code",
   "execution_count": 5,
   "metadata": {},
   "outputs": [],
   "source": [
    "## JG - min max should be about accepted input signals, \n",
    "\n",
    "## but can imput anything avoe and beyond which should be clipped\n",
    "\n",
    "\n",
    "class CreateEncoder:\n",
    "    def __init__(self, bit_space_size = None,\n",
    "                number_of_bits_per_value = None,\n",
    "                min_val = None,\n",
    "                max_val = None):\n",
    "        self.bit_space_size = bit_space_size\n",
    "        self.number_of_bits_per_value = number_of_bits_per_value\n",
    "        self.unique_bits_per_encoded_value = 1\n",
    "        self.min_value_to_encode = min_val\n",
    "        self.max_value_to_encode = max_val\n",
    "        self.buckets = self.compute_bucket_capacity(self.bit_space_size, self.number_of_bits_per_value)\n",
    "        self.max_bucket_starting_indice = self.buckets - 1\n",
    "        self.offset = 1\n",
    "        self.current_encoded_value = None\n",
    "        self.bit_locations_for_current_encoded_value = 1\n",
    "        self.previously_encoded_values = np.array([])\n",
    "        self.bit_locations_for_previously_encoded_values = []\n",
    "        self.current_and_previous_encoded_values_comparison = None\n",
    "        self.is_periodic = False\n",
    "        \n",
    "    def get_summary(self):\n",
    "        print(\"----------------- SUMMARY -------------------------\")\n",
    "        print(\"Bit Space Size: \", self.bit_space_size)\n",
    "        print(\"Number of bits used to encode each value:\", self.number_of_bits_per_value)\n",
    "        print(\"Range of values to be encoded: From \", self.min_value_to_encode, ' to ', self.max_value_to_encode)\n",
    "        print(\"Number of unique bits per encoded value: \", self.unique_bits_per_encoded_value)\n",
    "        print(\"Number of buckets available in bit space:\", self.buckets)\n",
    "        print(\"Max bucket starting indice:\", self.max_bucket_starting_indice)\n",
    "        print(\"Current encoded value: \", self.current_encoded_value)\n",
    "        print(\"Previously encoded values: \", self.previously_encoded_values)\n",
    "        print(\"Bit locations for current encoded value: \", self.bit_locations_for_current_encoded_value)\n",
    "        print(\"Bit locations for previously encoded values: \", self.bit_locations_for_previously_encoded_values)\n",
    "        print(\"Current and previous encoded values comparison: \", self.current_and_previous_encoded_values_comparison)\n",
    "        print(\"Encode periodically: \", self.is_periodic)\n",
    "    \n",
    "    def compute_bucket_capacity(self, n, w):\n",
    "        return(n - w + 1)\n",
    "\n",
    "    def compare_current_and_previously_encoded_value(self):\n",
    "        self.current_and_previous_encoded_values_comparison = np.abs(self.current_encoded_value / self.bit_space_size - self.previously_encoded_values[0] / self.bit_space_size)\n",
    "    \n",
    "    def encode_value_in_bit_space(self, value_choice):\n",
    "        \n",
    "        # check if value is outside range\n",
    "        if (value_choice < self.min_value_to_encode) or (value_choice > self.max_value_to_encode):\n",
    "            print('Not a valid value to encode as is outside specified range')\n",
    "            return()\n",
    "        \n",
    "        if self.current_encoded_value is not None:\n",
    "            self.previously_encoded_values = np.append(self.previously_encoded_values, self.current_encoded_value)\n",
    "            self.bit_locations_for_previously_encoded_values.append(self.bit_locations_for_current_encoded_value)\n",
    "            self.compare_current_and_previously_encoded_value()\n",
    "        self.current_encoded_value = value_choice\n",
    "        \n",
    "        if (value_choice > self.max_bucket_starting_indice):\n",
    "            value_to_encode = self.max_bucket_starting_indice\n",
    "        else:\n",
    "            value_to_encode = value_choice\n",
    "            \n",
    "        window = [value_to_encode, value_to_encode + self.number_of_bits_per_value - self.offset]\n",
    "        all_values = np.arange(window[0], window[1] + self.offset)\n",
    "        self.bit_locations_for_current_encoded_value = all_values\n",
    "    \n",
    "\n",
    "    \n"
   ]
  },
  {
   "cell_type": "markdown",
   "metadata": {},
   "source": [
    "So my encoder has a bunch of functions. Note that, for now at least, we are not worried about efficienty, but simplicity. let's create an instance of it with some initial parameters and see what it can do:"
   ]
  },
  {
   "cell_type": "code",
   "execution_count": 6,
   "metadata": {},
   "outputs": [
    {
     "name": "stdout",
     "output_type": "stream",
     "text": [
      "----------------- SUMMARY -------------------------\n",
      "Bit Space Size:  64\n",
      "Number of bits used to encode each value: 5\n",
      "Range of values to be encoded: From  0  to  100\n",
      "Number of unique bits per encoded value:  1\n",
      "Number of buckets available in bit space: 60\n",
      "Max bucket starting indice: 59\n",
      "Current encoded value:  None\n",
      "Previously encoded values:  []\n",
      "Bit locations for current encoded value:  1\n",
      "Bit locations for previously encoded values:  []\n",
      "Current and previous encoded values comparison:  None\n",
      "Encode periodically:  False\n"
     ]
    }
   ],
   "source": [
    "# initial settings\n",
    "b_size = 64\n",
    "population = 5\n",
    "min_value_to_encode = 0\n",
    "max_value_to_encode = 100\n",
    "\n",
    "# create encoder\n",
    "encoder1 = CreateEncoder(bit_space_size = b_size,\n",
    "                number_of_bits_per_value = population,\n",
    "                min_val = min_value_to_encode,\n",
    "                max_val = max_value_to_encode)\n",
    "encoder1.get_summary()"
   ]
  },
  {
   "cell_type": "markdown",
   "metadata": {},
   "source": [
    "Our encoder tells us it has some initial set up. The whole bit space appears to be 64, and any value that I would want to encode in this space will be 5 bits in length. If you think of this as an array with length 64, I can put 50 buckets (the first starting at index 1 of the array, the second starting at index two) into that space and its possible to encode 60 unique values. \n",
    "\n",
    "IMG\n",
    "\n",
    "My initital settings however say that the range to from -10 to 100. So this will let me put any scalar, starting from -10 onwards, until I run out of buckets. After that, for any number I try and encode to the top of my range, it will just encode it to the very last bucket. We We can get around this by setting the encoder to periodic, which will do so later, or by just scaling back the range so the buckets can accomodate it. \n",
    "\n",
    "Note that the number of 50 buckets assumes that I have 1 unique bits per encoded value. So, for example, the value 8 and 9 starts at array indice 8 and 9 respectively, and 8 has 1 unique bit and the rest shared with adjacenct values. \n",
    "\n",
    "So now let's put some values into my encoder"
   ]
  },
  {
   "cell_type": "code",
   "execution_count": 7,
   "metadata": {},
   "outputs": [
    {
     "name": "stdout",
     "output_type": "stream",
     "text": [
      "----------------- SUMMARY -------------------------\n",
      "Bit Space Size:  64\n",
      "Number of bits used to encode each value: 5\n",
      "Range of values to be encoded: From  0  to  100\n",
      "Number of unique bits per encoded value:  1\n",
      "Number of buckets available in bit space: 60\n",
      "Max bucket starting indice: 59\n",
      "Current encoded value:  41\n",
      "Previously encoded values:  [ 5. 89. 42.]\n",
      "Bit locations for current encoded value:  [41 42 43 44 45]\n",
      "Bit locations for previously encoded values:  [array([5, 6, 7, 8, 9]), array([59, 60, 61, 62, 63]), array([42, 43, 44, 45, 46])]\n",
      "Current and previous encoded values comparison:  0.578125\n",
      "Encode periodically:  False\n"
     ]
    }
   ],
   "source": [
    "encoder1.encode_value_in_bit_space(value_choice=5)\n",
    "encoder1.encode_value_in_bit_space(value_choice=89)\n",
    "encoder1.encode_value_in_bit_space(value_choice=42)\n",
    "encoder1.encode_value_in_bit_space(value_choice=41)\n",
    "encoder1.get_summary()"
   ]
  },
  {
   "cell_type": "code",
   "execution_count": 8,
   "metadata": {},
   "outputs": [],
   "source": [
    "encoder1.compare_current_and_previously_encoded_value()"
   ]
  },
  {
   "cell_type": "markdown",
   "metadata": {},
   "source": [
    "I have encoded in order, 5, 61, 14 and 13. This leaves me a current encoded value of 13, and a bunch of previous values I have encoded. My encoder is holding onto these so we can to comparisons. \n",
    "\n",
    "Let's visualise this using the visualization functions we have already created: "
   ]
  },
  {
   "cell_type": "code",
   "execution_count": 9,
   "metadata": {},
   "outputs": [
    {
     "data": {
      "image/png": "[encoded data removed]",
      "text/plain": [
       "<Figure size 1152x216 with 5 Axes>"
      ]
     },
     "metadata": {},
     "output_type": "display_data"
    }
   ],
   "source": [
    "\n",
    "fig, (ax1, ax2, ax3, ax4, ax5) = plt.subplots(1, 5, figsize=(16, 3))\n",
    "\n",
    "ax1 = create_axis_for_sdr(ax1, np.sqrt(b_size) + 1, np.sqrt(b_size) + 1, population, \"41\")\n",
    "ax2 = create_axis_for_sdr(ax2, np.sqrt(b_size) + 1, np.sqrt(b_size) + 1, population, \"42\")\n",
    "ax3 = create_axis_for_sdr(ax3, np.sqrt(b_size) + 1, np.sqrt(b_size) + 1, population, \"41 and 42\")\n",
    "ax4 = create_axis_for_sdr(ax4, np.sqrt(b_size) + 1, np.sqrt(b_size) + 1, population, \"41 and 5\")\n",
    "ax5 = create_axis_for_sdr(ax5, np.sqrt(b_size) + 1, np.sqrt(b_size) + 1, population, \"99\")\n",
    "\n",
    "coords1 = convert_sdr_to_tuple_for_visualisation(encoder1.bit_locations_for_current_encoded_value, b_size)\n",
    "coords2 = convert_sdr_to_tuple_for_visualisation(encoder1.bit_locations_for_previously_encoded_values[2], b_size)\n",
    "coords3 = convert_sdr_to_tuple_for_visualisation(encoder1.bit_locations_for_previously_encoded_values[0], b_size)\n",
    "\n",
    "union_and_overlap = compute_union_and_overlap(encoder1.bit_locations_for_current_encoded_value,encoder1.bit_locations_for_previously_encoded_values[2])\n",
    "\n",
    "coords4 = convert_sdr_to_tuple_for_visualisation(union_and_overlap['union'], b_size)\n",
    "coords5 = convert_sdr_to_tuple_for_visualisation(union_and_overlap['overlap'], b_size)\n",
    "\n",
    "coords6 = convert_sdr_to_tuple_for_visualisation(encoder1.bit_locations_for_previously_encoded_values[1], b_size)\n",
    "\n",
    "\n",
    "SDR1 = [ax1.add_patch(Rectangle(coords1[i], 1, 1, color=\"blue\")) for i in range(len(coords1))]\n",
    "SDR2 = [ax2.add_patch(Rectangle(coords2[i], 1, 1, color=\"blue\")) for i in range(len(coords2))]\n",
    "SDR3 = [ax3.add_patch(Rectangle(coords4[i], 1, 1, color=\"orange\")) for i in range(len(coords4))]\n",
    "SDR3 = [ax3.add_patch(Rectangle(coords5[i], 1, 1, color=\"blue\")) for i in range(len(coords5))]\n",
    "SDR4 = [ax4.add_patch(Rectangle(coords1[i], 1, 1, color=\"orange\")) for i in range(len(coords1))]\n",
    "SDR4 = [ax4.add_patch(Rectangle(coords3[i], 1, 1, color=\"blue\")) for i in range(len(coords3))]\n",
    "SDR5 = [ax5.add_patch(Rectangle(coords6[i], 1, 1, color=\"blue\")) for i in range(len(coords6))]\n"
   ]
  },
  {
   "cell_type": "markdown",
   "metadata": {},
   "source": [
    "<div style=\"background:#99ddff; color:black; padding: 10px\">\n",
    "<b>Add to these notes:</b>\n",
    "\n",
    "I want to keep these notes in HTML so I don't have to host on a server, but a great exceriise is to use the ipython widgets to experience this like it happens in the video. \n",
    "</div>"
   ]
  },
  {
   "cell_type": "markdown",
   "metadata": {},
   "source": [
    "So we have 5 visualisations here: 41, 42, the overlap between then similiar and we can see this by looking at comparison. Ten for any value that is in our range but not buckets, we will just the max back, so the value 99. \n",
    "\n",
    "We can also consider how different. How different is 41 and 5. the simplest metric. The smallest difference is 1 and the max differece is difference betweeen first value and normalise this: \n",
    "\n",
    "$$\\frac{59}{64} - \\frac{1}{64}$$\n",
    "\n",
    "This gives us a value between 0 and 1 that tells us about thier similiarity: "
   ]
  },
  {
   "cell_type": "code",
   "execution_count": 13,
   "metadata": {},
   "outputs": [
    {
     "name": "stdout",
     "output_type": "stream",
     "text": [
      "----------------- SUMMARY -------------------------\n",
      "Bit Space Size:  64\n",
      "Number of bits used to encode each value: 5\n",
      "Range of values to be encoded: From  0  to  100\n",
      "Number of unique bits per encoded value:  1\n",
      "Number of buckets available in bit space: 60\n",
      "Max bucket starting indice: 59\n",
      "Current encoded value:  41\n",
      "Previously encoded values:  [ 5. 89. 42.]\n",
      "Bit locations for current encoded value:  [41 42 43 44 45]\n",
      "Bit locations for previously encoded values:  [array([5, 6, 7, 8, 9]), array([59, 60, 61, 62, 63]), array([42, 43, 44, 45, 46])]\n",
      "Current and previous encoded values comparison:  0.5625\n",
      "Encode periodically:  False\n"
     ]
    }
   ],
   "source": [
    "encoder1.get_summary()"
   ]
  },
  {
   "cell_type": "markdown",
   "metadata": {},
   "source": [
    "So se can say that closer to zero the more similiar. This is not great, but it is just a linear score. In fact this encoder has lots of limiations, but it is a start. \n",
    "\n",
    "Before we go on to other types of encoders, let's spend some more time on the semantic similiarity measures, and formalise the rules we use a bit: "
   ]
  },
  {
   "cell_type": "markdown",
   "metadata": {},
   "source": [
    "These rules suppose we have some be an an arbitrary input space, $A$. In the space  $S(n, k)$ is a set of SDRs that each have the length n and each have k on bits. We are interested in encoding the semantic similiarity of any of the SDRs in this set, and we will call our semantic similarity measure $d_a$, a function that can be appled to a number of SDRs in a given input space.  \n",
    "\n",
    "We define that our distance function needs to be able to fulfill 3 properties. Note also that, I am a not a big fan of using the word distance, and will probably swap this out, but for now it works well.\n",
    "\n",
    "First rule our distnance function needs to satisfy: \n",
    "\n",
    "$$\\forall x, y \\in A, d_A(x, y) \\ge 0 $$\n",
    "\n",
    "This says, for any  in 2 SDRs in the set (here denoted as $x$ and $y$, the disntance function must return a value greater than or equal to zero. Proximity function\n",
    "\n",
    "Second rule our distnance function needs to satisfy: \n",
    "\n",
    "$$\\forall x, y \\in A, d_A(x, y) \\equiv d_A(x, y) $$\n",
    "\n",
    "This says that our distance function must return the same output regardless, of the order we call our SDR in. So in teh example above, if we compute distance between 5 and 41, it is the same as computing distance for 41 and 5. \n",
    "\n",
    "Third rule our distnance function needs to satisfy: \n",
    "\n",
    "$$\\forall x, y \\in A, d_A(x, x) = 0 $$\n",
    "\n",
    "This says that the distance from the SDR to itself must be the the same. So we are getting to the point where we can compare distnance and metric scores, and overlap. Let's make it a little more reigou"
   ]
  },
  {
   "cell_type": "markdown",
   "metadata": {},
   "source": [
    "Let's define 1 more rule"
   ]
  },
  {
   "cell_type": "markdown",
   "metadata": {},
   "source": [
    "Finally, we or union and overlap function could do with some work.Let's define a evaluation metric for an encoder\n",
    "\n",
    "1. Let $O(s,t)$ be number of overlapping bits\n",
    "\n",
    "For encoder $f: A \\rightarrow S(n,k) $ and $\\forall w, x, y,z \\in A$:\n",
    "\n",
    "$$O(f(w), f(x)) \\ge O(f(y), f(z)) \\equiv d_A(w, x) \\le d_A (y, z)$$\n",
    "\n",
    "So this tells that the overap score for 2 SDRs, $w$ and $x$ is greater than the overlap score for $y$ and $z$, the disance between $w$ and $x$ will be less than distance $y$ and $z$."
   ]
  },
  {
   "cell_type": "markdown",
   "metadata": {},
   "source": [
    "So we can desing metrics however we want, as long as they define these rules"
   ]
  },
  {
   "cell_type": "code",
   "execution_count": 14,
   "metadata": {},
   "outputs": [],
   "source": [
    "def compute_union_and_overlap(SDR1_on_bits, SDR2_on_bits):\n",
    "    union = list(set(SDR1_on_bits).union(SDR2_on_bits))\n",
    "    overlap = list(set(SDR1_on_bits).intersection(SDR2_on_bits))\n",
    "    \n",
    "    return({\"union\": union, \"overlap\": overlap})\n"
   ]
  },
  {
   "cell_type": "code",
   "execution_count": null,
   "metadata": {},
   "outputs": [],
   "source": []
  }
 ],
 "metadata": {
  "kernelspec": {
   "display_name": "Python 3",
   "language": "python",
   "name": "python3"
  },
  "language_info": {
   "codemirror_mode": {
    "name": "ipython",
    "version": 3
   },
   "file_extension": ".py",
   "mimetype": "text/x-python",
   "name": "python",
   "nbconvert_exporter": "python",
   "pygments_lexer": "ipython3",
   "version": "3.7.3"
  }
 },
 "nbformat": 4,
 "nbformat_minor": 4
}
