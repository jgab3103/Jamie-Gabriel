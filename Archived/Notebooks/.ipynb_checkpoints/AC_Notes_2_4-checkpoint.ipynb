{
 "cells": [
  {
   "cell_type": "code",
   "execution_count": 12,
   "metadata": {},
   "outputs": [],
   "source": [
    "import numpy as np\n",
    "import shared_functions as sf\n",
    "import sympy as sp\n",
    "from IPython.display import HTML\n",
    "import matplotlib.pyplot as plt\n",
    "#HTML('<iframe src=\"https://www.geogebra.org/classic/bewyhuu6?embed\" width=\"600\" height=\"400\" allowfullscreen style=\"border: 1px solid #e4e4e4;border-radius: 4px;\" frameborder=\"0\"></iframe>')"
   ]
  },
  {
   "cell_type": "markdown",
   "metadata": {},
   "source": [
    "By 2_4 things are getting interesting. We can abstract the idea of signed area, it is not an origin, but the idea of that we can use three points, to create a signed area but. \n",
    "\n",
    "There is also an interesting idea ot challenge intuition - that a side has a signed area, and this is really the equivalence between vector and coordinates, orientated side is different depending on where it is. Orienated side, really powerful idea, and we can differentiate between points, sides, orentated sides. A point is a location on an affine plane. A vecotr has direction and requires two points. An orientated side makes on opinionated stance against origin.really to do with position of origin so we are seeing oreintated side with a relationship to origin  oreinted side is just a list, ordered set, A, B\n",
    "\n",
    "It recasts the formula into $s(AB) = 1/2 a x b$ with not as points but bectors\n",
    "\n",
    "There are otehr intesting things to note, first that sBA = -sAB\n",
    "\n",
    "\n",
    "triangle signed area theorem = s(ABC) = sAB + sBC + sCA\n",
    "\n",
    "NOte we can have formula at level or points also \n",
    "\n",
    "Meisters - decomposed into triangles\n",
    "\n",
    "$$ s(\\widetilde{A_1A_2A_3A_4})=s(\\widetilde{A_1A_2})+s(\\widetilde{A_2A_3})+s(\\widetilde{A_3A_4}+s(\\widetilde{A_4A_1})\\\\=\\frac12(x_1y_2-y_1x_2)+\\frac12(x_2y_3-y_2x_3)+\\frac12(x_3y_4-y_3x_4)+\\frac12(x_4y_1-y_4x_1))\\\\=\\frac{1}{2}(x_1y_2-y_1x_2+x_2y_3-y_2x_3+x_3y_4-y_3x_4+x_4y_1-y_4x_1).  $$\n"
   ]
  },
  {
   "cell_type": "markdown",
   "metadata": {},
   "source": [
    "What would be nice is we could have function, that passes points in order into a function, have the function compute the required vectors, adn then compute the signed area fo each oriented side, then add them up, then return to the user. In fact this, is super powerful, a formula that lets you calculate So let's do that"
   ]
  },
  {
   "cell_type": "code",
   "execution_count": 13,
   "metadata": {},
   "outputs": [],
   "source": [
    "def compute_vector_from_2_points(points_list):\n",
    "    v = np.array([points_list[1][0] - points_list[0][0], points_list[1][1] - points_list[0][1]])\n",
    "    return(v)\n",
    "             \n",
    "def compute_cross_product_from_two_vectors(vector_list):\n",
    "    c = vector_list[0][0] * vector_list[1][1] - vector_list[0][1] * vector_list[1][0]\n",
    "    return(c)\n",
    "\n",
    "def compute_signed_area_of_triangle_from_two_vectors(vector_list):\n",
    "    c = compute_cross_product_from_two_vectors(vector_list)\n",
    "    signed_area = c / 2\n",
    "    return(signed_area)"
   ]
  },
  {
   "cell_type": "markdown",
   "metadata": {},
   "source": [
    "We are no ready for some abstraction, pass points to and get ann area"
   ]
  },
  {
   "cell_type": "markdown",
   "metadata": {},
   "source": [
    "What would be nice is we could have function, that passes points in order into a function, Note that we won't have to create vectors, Meisters works directly on points have the function compute the required vectors, adn then compute the signed area fo each oriented side, then add them up, then return to the user. In fact this, is super powerful, a formula that lets you calculate So let's do that"
   ]
  },
  {
   "cell_type": "code",
   "execution_count": 52,
   "metadata": {},
   "outputs": [],
   "source": [
    "def compute_signed_area_using_meisters_formula(points_list):\n",
    "\n",
    "    total_signed_area = 0\n",
    "    for each_point in range(len(points_list) - 1):\n",
    "        signed_area = compute_signed_area_of_triangle_from_two_vectors([points_list[each_point], points_list[each_point + 1]])\n",
    "        print(\"Signed area of oriented side \", str(each_point + 1), \": \", points_list[each_point], points_list[each_point + 1], \": \", signed_area)\n",
    "        total_signed_area = total_signed_area + signed_area\n",
    "\n",
    "    final_signed_area = compute_signed_area_of_triangle_from_two_vectors([points_list[-1], points_list[0]])\n",
    "    print(\"Signed area of oriented side \", str(len(points_list)), \": \", points_list[-1], points_list[0], \": \", final_signed_area)\n",
    "    total_signed_area = total_signed_area + final_signed_area\n",
    "        \n",
    "    print(\"Total signed area is: \", total_signed_area)\n",
    "    \n",
    "    return(total_signed_area)"
   ]
  },
  {
   "cell_type": "markdown",
   "metadata": {},
   "source": [
    "So what can we do it this function. Let's start simply and see if it appears to work. Start with points of a 3 by 2 rectangle. We will visualise it first"
   ]
  },
  {
   "cell_type": "code",
   "execution_count": 53,
   "metadata": {},
   "outputs": [
    {
     "data": {
      "image/png": "[encoded data removed]",
      "text/plain": [
       "<Figure size 432x288 with 1 Axes>"
      ]
     },
     "metadata": {},
     "output_type": "display_data"
    }
   ],
   "source": [
    "points_choice = np.array([[0,0], [0,3], [3,3], [3,0]])\n",
    "points_for_plotting = np.append(points_choice, [points_choice[0]], axis=0)\n",
    "x_coords = [e[0] for e in points_for_plotting]\n",
    "y_coords = [e[1] for e in points_for_plotting]\n",
    "shape_from_points = plt.plot(x_coords, y_coords, 'b')"
   ]
  },
  {
   "cell_type": "markdown",
   "metadata": {},
   "source": [
    "Now lets compute the signed are using meister's formula"
   ]
  },
  {
   "cell_type": "code",
   "execution_count": 54,
   "metadata": {},
   "outputs": [
    {
     "name": "stdout",
     "output_type": "stream",
     "text": [
      "Signed area of oriented side  1 :  [0 0] [0 3] :  0.0\n",
      "Signed area of oriented side  2 :  [0 3] [3 3] :  -4.5\n",
      "Signed area of oriented side  3 :  [3 3] [3 0] :  -4.5\n",
      "Signed area of oriented side  4 :  [3 0] [0 0] :  0.0\n",
      "Total signed area is:  -9.0\n"
     ]
    }
   ],
   "source": [
    "s = compute_signed_area_using_meisters_formula(points_choice)"
   ]
  },
  {
   "cell_type": "markdown",
   "metadata": {},
   "source": [
    "How complex can we make these n-gons"
   ]
  },
  {
   "cell_type": "code",
   "execution_count": 50,
   "metadata": {},
   "outputs": [
    {
     "data": {
      "image/png": "[encoded data removed]",
      "text/plain": [
       "<Figure size 432x288 with 1 Axes>"
      ]
     },
     "metadata": {},
     "output_type": "display_data"
    }
   ],
   "source": [
    "points_choice = np.array([[-2,1], [0,4], [2,3], [1,1], [3,2], [4,-1], [1, -1]])\n",
    "points_for_plotting = np.append(points_choice, [points_choice[0]], axis=0)\n",
    "x_coords = [e[0] for e in points_for_plotting]\n",
    "y_coords = [e[1] for e in points_for_plotting]\n",
    "shape_from_points = plt.plot(x_coords, y_coords, 'b')"
   ]
  },
  {
   "cell_type": "code",
   "execution_count": 51,
   "metadata": {},
   "outputs": [
    {
     "name": "stdout",
     "output_type": "stream",
     "text": [
      "Signed area of oriented side  1 :  [-2  1] [0 4] :  -4.0\n",
      "Signed area of oriented side  2 :  [0 4] [2 3] :  -4.0\n",
      "Signed area of oriented side  3 :  [2 3] [1 1] :  -0.5\n",
      "Signed area of oriented side  4 :  [1 1] [3 2] :  -0.5\n",
      "Signed area of oriented side  5 :  [3 2] [ 4 -1] :  -5.5\n",
      "Signed area of oriented side  6 :  [ 4 -1] [ 1 -1] :  -1.5\n",
      "Signed area of oriented side  7 :  [ 1 -1] [-2  1] :  -0.5\n",
      "Total signed area is:  -16.5\n"
     ]
    }
   ],
   "source": [
    "s = compute_signed_area_using_meisters_formula(points_choice)"
   ]
  },
  {
   "cell_type": "code",
   "execution_count": null,
   "metadata": {},
   "outputs": [],
   "source": []
  },
  {
   "cell_type": "code",
   "execution_count": null,
   "metadata": {},
   "outputs": [],
   "source": []
  },
  {
   "cell_type": "markdown",
   "metadata": {},
   "source": [
    "One thing that becomes interesting, points from a circle generate them and then "
   ]
  },
  {
   "cell_type": "markdown",
   "metadata": {},
   "source": [
    "Now let's look at points on a circle, we have started with points just on the plane, but what if those points had been determined by a circle, or some other conic, such as a parabola. very powerful, because have a signed area, we can extend this"
   ]
  },
  {
   "cell_type": "markdown",
   "metadata": {},
   "source": [
    "Finally, some collinearity, distincy, zero. These things don't. I have left this here, but to assure you that it is very powerful"
   ]
  },
  {
   "cell_type": "code",
   "execution_count": null,
   "metadata": {},
   "outputs": [],
   "source": [
    "plt.plot([1, 1, 3], [1, 2, 2], 'b', label='line 2')"
   ]
  },
  {
   "cell_type": "code",
   "execution_count": null,
   "metadata": {},
   "outputs": [],
   "source": []
  }
 ],
 "metadata": {
  "kernelspec": {
   "display_name": "SageMath 9.0",
   "language": "sage",
   "name": "sagemath"
  },
  "language_info": {
   "codemirror_mode": {
    "name": "ipython",
    "version": 3
   },
   "file_extension": ".py",
   "mimetype": "text/x-python",
   "name": "python",
   "nbconvert_exporter": "python",
   "pygments_lexer": "ipython3",
   "version": "3.7.3"
  }
 },
 "nbformat": 4,
 "nbformat_minor": 4
}
