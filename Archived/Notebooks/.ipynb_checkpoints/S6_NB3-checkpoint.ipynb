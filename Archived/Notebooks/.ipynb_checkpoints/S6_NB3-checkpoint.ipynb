{
 "cells": [
  {
   "cell_type": "code",
   "execution_count": 2,
   "id": "6dd866d6-49eb-4efc-94c5-70044517bc26",
   "metadata": {},
   "outputs": [],
   "source": [
    "import numpy as np\n",
    "import sympy as sp\n",
    "import pickle\n",
    "from IPython.display import HTML\n",
    "import ipywidgets as widgets\n",
    "import matplotlib as mpl\n",
    "import matplotlib.pyplot as plt\n",
    "from mpl_toolkits.mplot3d import Axes3D\n",
    "import matplotlib.pyplot as plt\n",
    "mpl.rcParams['legend.fontsize'] = 10\n",
    "import pandas as pd\n",
    "import itertools\n",
    "pd.set_option('display.max_colwidth', None)\n",
    "from sympy.plotting import plot \n",
    "from IPython.display import Image"
   ]
  },
  {
   "cell_type": "code",
   "execution_count": 3,
   "id": "1e38dabb-8a53-46b1-995c-fb1f9132fe63",
   "metadata": {},
   "outputs": [],
   "source": [
    "# Render to Latex function \n",
    "def RTL(e):\n",
    "    latex_rendering = []\n",
    "\n",
    "    for i in range(len(e)):\n",
    "        latex_rendering.append(\"$\" + sp.latex(e[i]) + \"$ &nbsp;&nbsp;\")\n",
    "    \n",
    "    return(HTML(\"\".join(latex_rendering[0:])))\n",
    "\n",
    "\n",
    "# Plot vectors with customisation\n",
    "def PlotVectors(vectors = [], plotPointsAsShape = False, plotFromStandardPosition = False):\n",
    "\n",
    "    plt.scatter(0, 0)\n",
    "    plt.grid()\n",
    "    \n",
    "    xValues = [vectors[i][0] for i in range(len(vectors))]\n",
    "    yValues = [vectors[i][1] for i in range(len(vectors))]\n",
    "    \n",
    "    plt.scatter(xValues, yValues)\n",
    "    \n",
    "    \n",
    "    if plotPointsAsShape:\n",
    "        xValues.append(xValues[0])\n",
    "        yValues.append(yValues[0])\n",
    "\n",
    "        plt.plot(xValues, yValues)\n",
    "    \n",
    "    if plotFromStandardPosition:\n",
    "        for i in range(len(xValues)):\n",
    "            plt.plot([0, xValues[i]], [0,  yValues[i]])\n",
    "\n",
    "            \n",
    "# Apply transformation to multiple vectors\n",
    "def ApplyTransformationViaScaledIdentityMatrix(scaledIdentityMatrix, vectors):\n",
    "    transformedVectors = []\n",
    "    for i in vectors: \n",
    "        t = scaledIdentityMatrix * i\n",
    "        transformedVectors.append(t)\n",
    "        \n",
    "    return(transformedVectors)"
   ]
  },
  {
   "cell_type": "markdown",
   "id": "67a5b73f-88c3-44a7-83d1-62df39f4914c",
   "metadata": {},
   "source": [
    "### Linear Algebra Notes III\n",
    "\n",
    "- Introduction to the inverse of a function\n",
    "- Surjective (onto) and injective (one-to-one) functions"
   ]
  },
  {
   "cell_type": "markdown",
   "id": "5c8e5e61-74b9-41bb-b58f-1fbd654cd708",
   "metadata": {},
   "source": [
    "#### Introduction to the inverse of a function\n",
    "\n",
    "<b>Recall</b> $f: X \\mapsto Y $\n",
    "\n",
    "<b>Note</b> that $I$ identity function\n",
    "\n",
    "$$ I_x : X \\mapsto X $$ where $a \\in X $\n",
    "\n",
    "$$ I_x(a) = a $$\n",
    "\n",
    "Note - can also have identity function on $Y$, where member of set refers to itself\n",
    "\n",
    "\n",
    "<b>Note</b> the function $f$ is <b>Invertible</b> precisely when there exists a function, $f^{-1} Y \\mapsto X$ such that $f^{-1} \\circ f = I_x$ and $f \\circ f^{-1} = I_y$ \n",
    "\n",
    "f is x to y, f inverse is Y to x, so compostion is is X to X\n",
    "\n",
    "so \n",
    "\n",
    "$$ (f \\circ f^{-1}) (a) = I_x (a) = a $$ or \n",
    "\n",
    "$$ f^{-1}(f(a)) = a $$\n",
    "\n",
    "f is defined is invertible \n",
    "\n",
    "also inportant to ascertain if $f^{-1}$ is unique\n",
    "\n",
    "considerf that if \n",
    "\n",
    "$g: Y \\mapsto X $ and $g \\circ f = I_x$ then g is inverse of x\n",
    "\n",
    "or \n",
    "\n",
    "$$ h: Y \\mapsto X $$ means $ h\\circ f = I_x$ and $f \\circ h = I _y $"
   ]
  },
  {
   "cell_type": "code",
   "execution_count": null,
   "id": "b3773263-ccc4-4673-9d44-bd2f2cd676f6",
   "metadata": {},
   "outputs": [],
   "source": []
  }
 ],
 "metadata": {
  "kernelspec": {
   "display_name": "Python 3",
   "language": "python",
   "name": "python3"
  },
  "language_info": {
   "codemirror_mode": {
    "name": "ipython",
    "version": 3
   },
   "file_extension": ".py",
   "mimetype": "text/x-python",
   "name": "python",
   "nbconvert_exporter": "python",
   "pygments_lexer": "ipython3",
   "version": "3.9.2"
  }
 },
 "nbformat": 4,
 "nbformat_minor": 5
}
