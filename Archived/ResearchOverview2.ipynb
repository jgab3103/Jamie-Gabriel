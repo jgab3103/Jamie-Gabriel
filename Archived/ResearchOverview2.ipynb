{
 "cells": [
  {
   "cell_type": "markdown",
   "id": "9deb1df9-f234-4358-8dd9-374051998bfa",
   "metadata": {},
   "source": [
    "## Research Overview"
   ]
  },
  {
   "cell_type": "markdown",
   "id": "7d4583f6-3636-4868-a2c5-170bffaa18c3",
   "metadata": {},
   "source": [
    "The deficulti in computatioal musicology, is that a deeper understanding is needeed article provides a research overview of core questions and a literature review, and 2 broad cateogories which are fairly disctint, one of the challenges in Music Information Retrieval is there boad distinction between questions of the musical domain, and that of mathematics. It can be problematic that they are sometimes mixed, and one of the challenges, in finding the scope\n",
    "\n",
    "What is problematic in this research is that \n"
   ]
  },
  {
   "cell_type": "markdown",
   "id": "b6ea7b4f-d627-476c-b985-3b984cfb7243",
   "metadata": {},
   "source": [
    "### Computational Musicology"
   ]
  },
  {
   "cell_type": "markdown",
   "id": "34839b94-c0b8-4d6a-9898-3d3e2b76d382",
   "metadata": {},
   "source": [
    " Applying mathematical and machine learning techniques to music analysis"
   ]
  }
 ],
 "metadata": {
  "kernelspec": {
   "display_name": "Python 3",
   "language": "python",
   "name": "python3"
  },
  "language_info": {
   "codemirror_mode": {
    "name": "ipython",
    "version": 3
   },
   "file_extension": ".py",
   "mimetype": "text/x-python",
   "name": "python",
   "nbconvert_exporter": "python",
   "pygments_lexer": "ipython3",
   "version": "3.9.2"
  }
 },
 "nbformat": 4,
 "nbformat_minor": 5
}
