{
 "cells": [
  {
   "cell_type": "code",
   "execution_count": 1,
   "id": "0d2c0110-d7bb-496a-a323-66001f6aeb84",
   "metadata": {},
   "outputs": [],
   "source": [
    "import numpy as np\n",
    "import sympy as sp\n",
    "from IPython.display import HTML\n",
    "import ipywidgets as widgets\n",
    "import matplotlib as mpl\n",
    "from mpl_toolkits.mplot3d import Axes3D\n",
    "import matplotlib.pyplot as plt\n",
    "mpl.rcParams['legend.fontsize'] = 10\n",
    "import pandas as pd\n",
    "import itertools\n",
    "\n",
    "# This is commented out\n",
    "#%matplotlib widget\n",
    "\n",
    "# function to print latex\n",
    "def renderListToLatex(e):\n",
    "    latex_rendering = []\n",
    "\n",
    "    for i in range(len(e)):\n",
    "        latex_rendering.append(\"$$\" + sp.latex(e[i]) + \"$$\")\n",
    "    \n",
    "    return(HTML(\"\".join(latex_rendering[0:])))"
   ]
  },
  {
   "cell_type": "markdown",
   "id": "771193c0-9306-4a90-b360-27a46b6ac288",
   "metadata": {},
   "source": [
    "#### Contents"
   ]
  },
  {
   "cell_type": "markdown",
   "id": "9f8cc766-fe1f-4375-a05a-324a2906b669",
   "metadata": {},
   "source": [
    "1\n",
    "\n",
    "- Overview\n",
    "- Prereques\n",
    "- Intro - no rigour\n",
    "- A note on proof \n",
    "- expand no rigour\n",
    "- more details on proof\n",
    "\n",
    "\n",
    "<b>Part I - Preliminaries</b>\n",
    "\n",
    "\n",
    "2\n",
    "- linear algebra\n",
    "\n",
    "\n",
    "3\n",
    "- geometry\n",
    "- Trigonometry\n",
    "\n",
    "\n",
    "3\n",
    "- Polynomial equations\n",
    "- Lagrangian Calculus\n",
    "- differential Calculus\n",
    "\n",
    "<b>Part II - Exploration</b>\n",
    "\n",
    "\n",
    "4\n",
    "- groups and symmetry\n",
    "\n",
    "5\n",
    "- topology and invariance\n",
    "\n",
    "Part II\n",
    "\n",
    "6 - "
   ]
  },
  {
   "cell_type": "code",
   "execution_count": null,
   "id": "1ee6cc89-f06e-4276-8e0f-4308c1ef6541",
   "metadata": {},
   "outputs": [],
   "source": []
  }
 ],
 "metadata": {
  "kernelspec": {
   "display_name": "Python 3",
   "language": "python",
   "name": "python3"
  },
  "language_info": {
   "codemirror_mode": {
    "name": "ipython",
    "version": 3
   },
   "file_extension": ".py",
   "mimetype": "text/x-python",
   "name": "python",
   "nbconvert_exporter": "python",
   "pygments_lexer": "ipython3",
   "version": "3.9.2"
  }
 },
 "nbformat": 4,
 "nbformat_minor": 5
}
