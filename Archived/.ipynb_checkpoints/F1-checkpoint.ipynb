{
 "cells": [
  {
   "cell_type": "markdown",
   "id": "e80592db-b32e-409d-8603-1790075493f3",
   "metadata": {},
   "source": [
    "<b>Tags</b>: <i>Linear Algebra</i>"
   ]
  },
  {
   "cell_type": "code",
   "execution_count": 3,
   "id": "56896fec-1654-4f7d-9a2f-53604550aba8",
   "metadata": {},
   "outputs": [],
   "source": [
    "import numpy as np\n",
    "import sympy as sp\n",
    "from IPython.display import HTML, IFrame\n",
    "import ipywidgets as widgets\n",
    "import matplotlib as mpl\n",
    "from mpl_toolkits.mplot3d import Axes3D\n",
    "import matplotlib.pyplot as plt\n",
    "mpl.rcParams['legend.fontsize'] = 10\n",
    "import pandas as pd\n",
    "import itertools\n",
    "from IPython.display import Image\n",
    "\n",
    "# This is commented out\n",
    "#%matplotlib widget\n",
    "\n",
    "# function to print latex\n",
    "def renderListToLatex(e):\n",
    "    latex_rendering = []\n",
    "\n",
    "    for i in range(len(e)):\n",
    "        latex_rendering.append(\"$$\" + sp.latex(e[i]) + \"$$\")\n",
    "    \n",
    "    return(HTML(\"\".join(latex_rendering[0:])))"
   ]
  },
  {
   "cell_type": "markdown",
   "id": "e18eed71-76ab-407d-80f0-38c856fe5dd4",
   "metadata": {},
   "source": [
    "<hr/>\n",
    "<b>Function</b>: Parametrise 2 points. "
   ]
  },
  {
   "cell_type": "code",
   "execution_count": 4,
   "id": "9fcc743f-5acc-43b9-8472-395b8cf3b043",
   "metadata": {},
   "outputs": [],
   "source": [
    "def computeParametrisedFormGivenTwoPoints(p1, p2, lambdaChoice):\n",
    "    \"\"\" given 2 points and a unknown type return parametrised representation\"\"\"\n",
    "    \n",
    "    coords = (1 - lambdaChoice) * p1 + lambdaChoice * p2\n",
    "    \n",
    "    point = [coords[i].subs(lambdaChoice, 0) for i in range(len(coords))]\n",
    "    scalarVector = np.transpose([coords[i].diff(lambdaChoice) for i in range(len(coords))])\n",
    "    \n",
    "    # get \n",
    "    \n",
    "    return({\"coords\": coords, \"point\": point, \"vector\": scalarVector})\n",
    "\n",
    "\n",
    "# extend to multiple dimensions, lines have catesian \n",
    "# convert between parametrised and caterion 39.56\n",
    "# parametric equatino for a plane 57"
   ]
  },
  {
   "cell_type": "markdown",
   "id": "11211bdf-a6bb-463d-ae25-0b83ec98600d",
   "metadata": {},
   "source": [
    "Example: "
   ]
  },
  {
   "cell_type": "code",
   "execution_count": 11,
   "id": "3f9d2d5a-1304-4d03-9fde-50e5124643b0",
   "metadata": {},
   "outputs": [
    {
     "data": {
      "text/plain": [
       "{'coords': array([4*\\lambda + 2, 2*\\lambda], dtype=object),\n",
       " 'point': [2, 0],\n",
       " 'vector': array([4, 2], dtype=object)}"
      ]
     },
     "execution_count": 11,
     "metadata": {},
     "output_type": "execute_result"
    }
   ],
   "source": [
    "lm = sp.symbols('\\lambda')\n",
    "P1 = computeParametrisedFormGivenTwoPoints(np.array([2,0]), np.array([6,2]), lambdaChoice= lm)\n",
    "P1"
   ]
  },
  {
   "cell_type": "markdown",
   "id": "8923c035-387a-4c15-9cba-c37d91650f5a",
   "metadata": {},
   "source": [
    "<hr/>\n",
    "<b>Function</b>: Compute system of equations via matrices "
   ]
  },
  {
   "cell_type": "code",
   "execution_count": 17,
   "id": "f457d90e-de6a-4b42-9d44-e86f73476c0a",
   "metadata": {},
   "outputs": [],
   "source": [
    "def computeSystemOfEquationSolutionsViaMatrices(listOfCartesianEquations = None):\n",
    "    \"\"\" solve system of n equations with n unknowns.\n",
    "        \"\"\"\n",
    "    # Get coefficents of equations\n",
    "    F1 = [sp.Poly(i).coeffs() for i in listOfCartesianEquations]\n",
    "    \n",
    "\n",
    "    # Create LHS Matrix\n",
    "    F2 = sp.Matrix([i[:-1] for i in F1])\n",
    "    \n",
    "    # Create RHS Matrix\n",
    "    F3 = sp.Matrix([i[-1] for i in F1])\n",
    "\n",
    "    \n",
    "    if F2.det() == 0:\n",
    "        print(\"Determinant is 0. No inverse exists\")\n",
    "        return\n",
    "    \n",
    "    # Create inverse matrix of LHS\n",
    "    F4 = F2.inv()\n",
    "    \n",
    "    print(F4)\n",
    "    \n",
    "    # Multiply rhs by inverse matrix of RHS\n",
    "    F5 = F2.inv() * F3\n",
    "    \n",
    "    return(-F5)\n",
    "    \n",
    "    \n",
    "    \n"
   ]
  },
  {
   "cell_type": "markdown",
   "id": "7c64bbc1-5a57-41db-b0c3-9102086352c5",
   "metadata": {},
   "source": [
    "<hr/>\n",
    "<b>Examples</b>: "
   ]
  },
  {
   "cell_type": "code",
   "execution_count": 18,
   "id": "fbe2cf4d-6b1e-4f2f-ab05-d15f9b698be8",
   "metadata": {},
   "outputs": [
    {
     "name": "stdout",
     "output_type": "stream",
     "text": [
      "Matrix([[2/7, 1/7], [-5/14, 1/14]])\n"
     ]
    },
    {
     "data": {
      "text/latex": [
       "$\\displaystyle \\left[\\begin{matrix}\\frac{24}{7}\\\\\\frac{5}{7}\\end{matrix}\\right]$"
      ],
      "text/plain": [
       "Matrix([\n",
       "[24/7],\n",
       "[ 5/7]])"
      ]
     },
     "execution_count": 18,
     "metadata": {},
     "output_type": "execute_result"
    }
   ],
   "source": [
    "x, y, z = sp.symbols('x y z')\n",
    "a = [sp.Eq(x - 2 * y, 2), sp.Eq(5 * x + 4 * y, 20)] \n",
    "computeSystemOfEquationSolutionsViaMatrices(a)"
   ]
  },
  {
   "cell_type": "code",
   "execution_count": 19,
   "id": "8e7c0415-fd64-42cf-925e-2db0013461ee",
   "metadata": {},
   "outputs": [
    {
     "name": "stdout",
     "output_type": "stream",
     "text": [
      "Matrix([[1/5, 0, 1/5], [1/11, 1/11, -1/11], [-34/55, 2/11, 1/55]])\n"
     ]
    },
    {
     "data": {
      "text/latex": [
       "$\\displaystyle \\left[\\begin{matrix}-1\\\\0\\\\2\\end{matrix}\\right]$"
      ],
      "text/plain": [
       "Matrix([\n",
       "[-1],\n",
       "[ 0],\n",
       "[ 2]])"
      ]
     },
     "execution_count": 19,
     "metadata": {},
     "output_type": "execute_result"
    }
   ],
   "source": [
    "x, y, z = sp.symbols('x y z')\n",
    "a = [sp.Eq(x + 2 * y - z, -3), sp.Eq(3 * x + 7 * y + 2 * z, 1), sp.Eq(4 * x - 2 * y + z, -2)] \n",
    "computeSystemOfEquationSolutionsViaMatrices(a)"
   ]
  },
  {
   "cell_type": "code",
   "execution_count": 197,
   "id": "5bf81824-303f-422a-ba87-6d88e2588c02",
   "metadata": {},
   "outputs": [
    {
     "data": {
      "text/plain": [
       "(x - 2*y - 2*z, x, y, z)"
      ]
     },
     "execution_count": 197,
     "metadata": {},
     "output_type": "execute_result"
    }
   ],
   "source": [
    "def computeParametrisedFormGivenTwoPoints(p1, p2, lambdaChoice):\n",
    "    \"\"\" given 2 points and a unknown type return parametrised representation\"\"\"\n",
    "    \n",
    "    coords = (1 - lambdaChoice) * p1 + lambdaChoice * p2\n",
    "    \n",
    "    point = [coords[i].subs(lambdaChoice, 0) for i in range(len(coords))]\n",
    "    scalarVector = np.transpose([coords[i].diff(lambdaChoice) for i in range(len(coords))])\n",
    "    \n",
    "    # get \n",
    "    \n",
    "    return({\"coords\": coords, \"point\": point, \"vector\": scalarVector})\n",
    "\n",
    "\n",
    "# extend to multiple dimensions, lines have catesian \n",
    "# convert between parametrised and caterion 39.56\n",
    "# parametric equatino for a plane 57\n",
    "\n",
    "def computeLine():\n",
    "    pass\n",
    "\n",
    "# 2 points\n",
    "# point, vector \n",
    "# intersecton between two planes"
   ]
  },
  {
   "cell_type": "markdown",
   "id": "6b3f5a1e-cf82-45f4-b256-6850eb6e7d48",
   "metadata": {},
   "source": [
    "Definition: Stack of lines (all parallel) - determined by vector\n",
    "\n",
    "Definition: Penciel - all concurrent, determined by point \n",
    "\n",
    "Observe: space of all lines in the plane is mobius band\n",
    "\n",
    "\n"
   ]
  },
  {
   "cell_type": "code",
   "execution_count": null,
   "id": "1e4a4a81-462a-4a37-a2bc-15c3a59397b9",
   "metadata": {},
   "outputs": [],
   "source": []
  },
  {
   "cell_type": "code",
   "execution_count": null,
   "id": "f7fd0c1d-6e30-426e-9676-6fed7db77538",
   "metadata": {},
   "outputs": [],
   "source": []
  },
  {
   "cell_type": "code",
   "execution_count": null,
   "id": "15576f06-8c2e-4020-a966-9b0983f0b6b5",
   "metadata": {},
   "outputs": [],
   "source": []
  },
  {
   "cell_type": "code",
   "execution_count": null,
   "id": "450606e1-7613-403b-b41f-761ee12ea3c4",
   "metadata": {},
   "outputs": [],
   "source": [
    "# write it in form with "
   ]
  }
 ],
 "metadata": {
  "kernelspec": {
   "display_name": "Python 3",
   "language": "python",
   "name": "python3"
  },
  "language_info": {
   "codemirror_mode": {
    "name": "ipython",
    "version": 3
   },
   "file_extension": ".py",
   "mimetype": "text/x-python",
   "name": "python",
   "nbconvert_exporter": "python",
   "pygments_lexer": "ipython3",
   "version": "3.9.2"
  }
 },
 "nbformat": 4,
 "nbformat_minor": 5
}
