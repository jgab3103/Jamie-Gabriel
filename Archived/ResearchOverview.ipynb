{
 "cells": [
  {
   "cell_type": "markdown",
   "id": "a2e94d45-a054-4028-8d91-644a508fd710",
   "metadata": {},
   "source": [
    "### Overview and motivation for research\n"
   ]
  },
  {
   "cell_type": "markdown",
   "id": "39c2734d-563f-49c3-a84b-27de25b2bc46",
   "metadata": {},
   "source": [
    "These notebooks hold my notes and articles. The purpose of this notebook is to provide context for my work. It is slighly biographical and I find that I return use as a way to. Qustions around "
   ]
  },
  {
   "cell_type": "markdown",
   "id": "634e640c-a036-4f97-960f-efe987d5f6aa",
   "metadata": {},
   "source": [
    "I have found that most scientists seem to be able have an origin story of some kind, some motivating experiece what drives a life's work and I am no different in this regard. For me, when I was around 10 years old I was hitting the keyboard  down and it suddently occured to me but for some reason this time I had a question I wanted to ask: how does this work. How does music work. I had grown up around music, my mother was a piano teacher, but something clicked that day. \n",
    "\n",
    "When I reflect on this, In retrsopect this is a question that does not make a lot of sense. It is too broad and difficult to pin down and there are different ways to try and answer it. My immediete thought at the time was to study music, to gain a deeper understanding. So it was off to piano lessons, music theory, study of scores. At teh same time I had discovered composers. \n",
    "\n",
    "The other intersting thing was that from the outset, my question was inherently reductive in an interesting way. For me it came down to try and understand this visualisation. I was trying to understand the stuctur of the score, the visualisation itself. So one can look at for example, why does that pattern hold. \n",
    "\n",
    "But I was not really interested in composition, what struck me me was the meaning of the notes on the page - Stanislav Richter notes that no point. In retrospect, I could try and articulate it in the following manner \n",
    "\n",
    "Its difficult to study composition, and I was not interested. Predices for Mahler, Prokofiev. But at the same not intersted, in many composers, and did not want to study it. \n",
    "\n",
    "This became more of a general question, to ask of art more generally, which is perhaps more grandiose: what is the structure of art itself. What governs these aesthetics. It was around a bout this time, I was interested in understanding what the structure of intelligence. This led compute, can it be specified, and naturally to computer science \n",
    "\n",
    "Asking anyt question about the fundamental, is often a complicated path questions about the nature of life is difficult. One will always encounter disciplines that just don't capture what is going on, and the feeling htat they miss the point. So for me the key questions are the following\n",
    "\n",
    "I studied Jazz for a long time. Keith jarrett transcriptions (many of whch are on this site) and compexity of melodic structure, in the same way. I have looked at, computing structurres\n",
    "\n",
    "\n"
   ]
  },
  {
   "cell_type": "markdown",
   "id": "9685982e-2949-4734-b88f-d955ce70c533",
   "metadata": {},
   "source": [
    "Both roads have led to three main areas: music, mathematics, machine intelligence, computer science\n",
    "\n",
    "Key questions...\n",
    "\n",
    "start with a claim: \n",
    "\n",
    "### Sybolic Music Analysis\n",
    "My work is structure of scores. My PhD explored the idea that one could build a search engine for music scores in the same way. To ask practical questions, orchestration\n",
    "\n",
    "### Mathematics\n",
    "\n",
    "I was Mathematics the practice of naming things. It seems reductive to do this so it make sense to make this a larger question. McChluan content is the structure, no where more true that mathematics\n",
    "\n",
    "\n",
    "Information theory is the process limits of tranmission\n",
    "\n",
    "computer science is the proof of specification within memory"
   ]
  },
  {
   "cell_type": "code",
   "execution_count": null,
   "id": "baaa4a67-43bf-41f5-9ce2-c54c36392ff0",
   "metadata": {},
   "outputs": [],
   "source": []
  }
 ],
 "metadata": {
  "kernelspec": {
   "display_name": "Python 3",
   "language": "python",
   "name": "python3"
  },
  "language_info": {
   "codemirror_mode": {
    "name": "ipython",
    "version": 3
   },
   "file_extension": ".py",
   "mimetype": "text/x-python",
   "name": "python",
   "nbconvert_exporter": "python",
   "pygments_lexer": "ipython3",
   "version": "3.9.2"
  }
 },
 "nbformat": 4,
 "nbformat_minor": 5
}
