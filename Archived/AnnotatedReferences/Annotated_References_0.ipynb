{
 "cells": [
  {
   "cell_type": "markdown",
   "id": "59671ac6-fa88-4342-813f-d8ba42cfc3b5",
   "metadata": {},
   "source": [
    "<hr/>"
   ]
  },
  {
   "cell_type": "markdown",
   "id": "00db5bd1-94df-4c29-95d2-0b10fc3cd474",
   "metadata": {},
   "source": [
    "Wildberger, N. J. (2020, March). The Mutation Game, Coxeter–Dynkin Graphs, and Generalized Root Systems. In Algebra Colloquium (Vol. 27, No. 01, pp. 55-78). World Scientific Publishing Company.\n",
    "\n",
    "<i>Summary</i><br/>\n",
    "Amazing. Difficult. article covers ADE graphs and has really interesting overview\n",
    "<hr/>"
   ]
  },
  {
   "cell_type": "markdown",
   "id": "629c9ab0-9918-4a6d-a0cc-00ea10201d8b",
   "metadata": {},
   "source": [
    "Fraser, C. G. (1987). Joseph Louis Lagrange's algebraic vision of the calculus. Historia mathematica, 14(1), 38-53.\n",
    "\n",
    "<i>Summary</i><br/>\n",
    "Article covering some of motivation and context of Lagrange, some nice quotes from Lagrange on issues in dealing with infintesimals (critique from form Berkely), covers his influence/relationship with Euler, his interprestation of Taylor, etc. Locates key writings in the Lecons in 1797/1806. Picks up on interesting ambiguity on how Lagrange approaches the scope of what algebraic analysis should include and what is a function, how does derivative and integral enter into scope of algebraic analysis (through feels like Fraser's issue rather than Lagrange's); nice presentation of Lagrange interepretation of Taylor; touches on \"vibrating string controversy\", and Euler's position in regard to this; Fraser mounts argument that Lagrange approach perhaps does not cover it intends to, however does not adeqetely compare this to other approaches to calculus and thier shortcomings. Math doesn't go to deep here but captures the ebb and flow of the debates. Overall pretty interesting\n",
    "<hr/>"
   ]
  },
  {
   "cell_type": "markdown",
   "id": "c5238ea1-ab40-4c2c-af29-bd43a600d523",
   "metadata": {},
   "source": [
    "Gal, E., Perin, R., Markram, H., London, M., & Segev, I. (2020). Neuron geometry underlies universal network features in cortical microcircuits. bioRxiv, 656058.\n",
    "\n",
    "<i>Summary</i><br/>\n",
    "This article was a random find, just thinking about geometries of neocortex and seeing what was around. \n",
    "<hr/>"
   ]
  },
  {
   "cell_type": "code",
   "execution_count": null,
   "id": "8937f813-523c-42cd-91a4-baab11c9ab34",
   "metadata": {},
   "outputs": [],
   "source": []
  }
 ],
 "metadata": {
  "kernelspec": {
   "display_name": "Python 3",
   "language": "python",
   "name": "python3"
  },
  "language_info": {
   "codemirror_mode": {
    "name": "ipython",
    "version": 3
   },
   "file_extension": ".py",
   "mimetype": "text/x-python",
   "name": "python",
   "nbconvert_exporter": "python",
   "pygments_lexer": "ipython3",
   "version": "3.9.2"
  }
 },
 "nbformat": 4,
 "nbformat_minor": 5
}
