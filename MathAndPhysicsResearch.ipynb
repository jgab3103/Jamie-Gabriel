{
 "cells": [
  {
   "cell_type": "markdown",
   "id": "7d572bde-26cd-4f86-8fa3-925de4c9ad59",
   "metadata": {},
   "source": [
    "#### How to approach these notes"
   ]
  },
  {
   "cell_type": "markdown",
   "id": "df76dbfd-f869-4d87-acad-384645a75887",
   "metadata": {},
   "source": [
    "Structuring your work is difficult. Practical concerns. Too much explanation. What you should you expect from the reader. My answer to this question isthat I expect them to have an understaning of the above the pre-requisites. This will provide enough of a benchmark for working\n",
    "\n",
    "<b>Operations, Types, Properties</b>\n",
    "\n",
    "blahasdfasd \n",
    "\n",
    "<b>Operations</b>\n",
    "\n",
    "I find always invoved in 5 operations. way I approach research that everything will be prefaced with one one the 5 verbs below\n",
    "\n",
    "1. Let\n",
    "2. Assume\n",
    "3. Transform\n",
    "4. Define\n",
    "5. Observe\n",
    "\n",
    "conjecture\n",
    "\n",
    "Theorem\n",
    "\n",
    "\n",
    "\n",
    "1. Let Statements<br/>\n",
    "asdfas\n",
    "\n",
    "\n",
    "2. Assume Statements<br/>\n",
    "Convenience \n",
    "\n",
    "3. Transform Statements<br/>\n",
    "Through subsitution, manipulation, assumption\n",
    "\n",
    "4. Define Statements<br/>\n",
    "Convenience, LET\n",
    "\n",
    "5. Observe Statements<br/>\n",
    "Convenience"
   ]
  },
  {
   "cell_type": "markdown",
   "id": "12fc49cc-665a-43bc-bfc9-60621e82c421",
   "metadata": {},
   "source": [
    "<b>Types, Properties</b>"
   ]
  },
  {
   "cell_type": "markdown",
   "id": "38e0a0dd-d544-456d-ba15-38e9183c9ae9",
   "metadata": {},
   "source": [
    "An example of this in action: \n",
    "\n",
    "1. Let $P_1$ and $P_2$ are integers\n",
    "2. Assume $P_1$ is less than 10\n",
    "3. Transform $P_1$ through multiplication with $P_2$\n",
    "4. Assume $P_2$ is equivalant to 1\n"
   ]
  },
  {
   "cell_type": "markdown",
   "id": "61413000-ccad-4824-8fb1-169ed3fabeae",
   "metadata": {},
   "source": [
    "<b>Planning and visualisation</b>\n",
    "\n",
    "Aim, Methodology, Visualisation\n",
    "\n",
    "<b>Aim, Methodology</b>\n",
    "\n",
    "asdfas\n",
    "\n",
    "\n",
    "<b>Visuliation</b>\n",
    "\n",
    "asdfas"
   ]
  },
  {
   "cell_type": "code",
   "execution_count": null,
   "id": "ac9ab38b-8b08-4dc8-a8f6-db29c2cdeeed",
   "metadata": {},
   "outputs": [],
   "source": []
  }
 ],
 "metadata": {
  "kernelspec": {
   "display_name": "Python 3",
   "language": "python",
   "name": "python3"
  },
  "language_info": {
   "codemirror_mode": {
    "name": "ipython",
    "version": 3
   },
   "file_extension": ".py",
   "mimetype": "text/x-python",
   "name": "python",
   "nbconvert_exporter": "python",
   "pygments_lexer": "ipython3",
   "version": "3.9.2"
  }
 },
 "nbformat": 4,
 "nbformat_minor": 5
}
