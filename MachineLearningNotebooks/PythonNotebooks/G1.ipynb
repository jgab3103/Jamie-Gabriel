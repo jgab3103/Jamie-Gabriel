{
 "cells": [
  {
   "cell_type": "markdown",
   "id": "0703e3bc-a108-4d82-a51e-45bd1ea29bca",
   "metadata": {},
   "source": [
    "<i>Status: Draft</i>\n"
   ]
  },
  {
   "cell_type": "code",
   "execution_count": 2,
   "id": "79f23e83-b479-468d-8f4c-83be2a65fed4",
   "metadata": {},
   "outputs": [],
   "source": [
    "import networkx as nx\n",
    "import networkx.algorithms.community as nx_comm\n",
    "import matplotlib.pyplot as plt\n",
    "import numpy as np\n",
    "import scipy as scp\n",
    "import pandas as pd\n",
    "import node2vec as n2v\n",
    "import karateclub as kc\n",
    "import random\n",
    "import stellargraph as sp\n",
    "from IPython.display import Image\n",
    "from gem.embedding.gf import GraphFactorization\n",
    "from pathlib import Path\n",
    "Path(\"gem/intermediate\").mkdir(parents=True, exist_ok=True)\n",
    "import warnings\n",
    "warnings.filterwarnings(\"ignore\")\n",
    "\n",
    "%matplotlib inline"
   ]
  },
  {
   "cell_type": "markdown",
   "id": "4215c410-5ad0-44f3-9f08-8bbed61a8830",
   "metadata": {},
   "source": [
    "<hr/>\n",
    "\n",
    "<b>Aim</b>: Provide definitions of standard metrics\n",
    "\n",
    "<hr/>\n",
    "\n",
    "\n",
    "\n",
    "<b>Definition</b>: <b>Integration Metrics</b> measure the connections between nodes. These metrics include:  \n",
    "\n",
    "1. <b>Definition</b>: The <b>Distance</b> between two nodes is the number of edges that can be traversed to move from one to node to the other node. Also called the <b>Path</b>\n",
    "2. <b>Definition</b>: A <b>Shortest Path</b> is the minimum number of edges that can connect two nodes. \n",
    "3. <b>Definition</b>: The <b>Diameter</b> is then number of edges contained in the longest <b>Shortest Path</b>\n",
    "4. <b>Definition</b>: The <b>Characteristic Path Length</b> is the average of all <b>Shortest Paths</b> within the graph. It can be calculated by using the formula $ \\frac{1}{q(q - 1)} \\Sigma_{i \\in{V}} l_i  $, where $V$ is set of nodes and $q = |V|$\n",
    "5. <b>Definition</b>: The <b>Global Efficiency</b> is the inverse of the <b>Shortest path</b> for all pairs of nodes, and is a measure of how efficiently information can be moved across a network. It is given by the formula $ \\frac{1}{q(q - 1)} \\Sigma_{i \\in V} \\frac{1}{l_{ij}}$\n",
    "6. <b>Definition</b>: The <b>Local Effiency</b> is calculate in the same manner of <b>Global Efficiency</b>, but considers only the neighborhood of the node, not the node itself\n",
    "\n"
   ]
  },
  {
   "cell_type": "markdown",
   "id": "d370081e-fd1d-48d8-8337-c845cfa058b1",
   "metadata": {},
   "source": [
    "<b>Definition</b>: <b>Segregation Metrics</b> measure the presence of groups of interconnected nodes (or communities) within a network. These metrics include:\n",
    "\n",
    "7. <b>Definition</b>: The <b>Clustering Coefficient</b> measures how much nodes cluster together, defined as fraction of triangles, which is the fraction of nodes neighbors that are neighbors of each other. These is also a metric of this metric called the <b>Local Clustering Coefficient</b> that considers each node in a network.\n",
    "8. <b>Definition</b>: The <b>Transitivity</b> of a graph is the ratio between observed number of closed triplets (i.e. complete subgraphs with 3 nodes and 2 edges) and maximum possible closed triplets.\n",
    "9. <b>Definition</b>: The <b>Modularity</b> of a network quantifies the dvision of a network into groups (which may be called modules, clusters, groups, sub-graphs) and measures which groups are more closed that others. "
   ]
  },
  {
   "cell_type": "markdown",
   "id": "30600b36-4537-431e-a5be-e095d703bbf2",
   "metadata": {},
   "source": [
    "<b>Definition</b>: <b>Centrality Metrics</b> assess the importance of individual nodes inside a given network. These metrics include: \n",
    "\n",
    "10. <b>Defintion</b> The <b>Degree centrality</b> measures the number of incident edges on a given node $i$. This can be further defined by <b>in-degree centrality</b> and <b>out-degree centrality</b> referring to the direction of the edges \n",
    "11. <b>Definition</b>: The <b>Closeness Centrality</b> quantifies how much a node is connected to other nodes. It is the average of distance of node $i$ to all other nodes. If $l_{ij}$ is the shortest path between $i$ and $j$, closeness centrality is defined as: $ \\frac{1}{\\Sigma_{i \\in V, i\\ne j} l{ij}}$\n",
    "12. <b>Definition</b>: The <b>Betweeness Centrality</b> metric evaluates how much a node acts as a bridge between nodes, given by the formula $ \\Sigma_{w \\ne i i \\ne j} \\frac{L_{wj}(i)}{L_{wj}} $ where $L_{wj}$ is total number of shortest paths between node $w$ and node $j$ and $L_{wj}(i)$ is the total number of paths between $w$ and $j$ passing through $i$\n",
    "\n"
   ]
  },
  {
   "cell_type": "markdown",
   "id": "22720661-92b3-44f6-8fb7-0f24416b2cef",
   "metadata": {},
   "source": [
    "<b>Definiton</b>: <b>Resiliance Metrics</b> measure how much a network can maintain and adapt its operational performance when facing failure. These metrics include:\n",
    "\n",
    "13. <b>Definition</b>: The <b>Assortativity</b> quantifies the tendency of nodes being connected to similiar nodes and there are different measures that are used to calculate this. \n",
    "14. <b>Definition</b>: The <b>Pearson Correlation Coefficient</b> measures the <b>assortativity</b> between degrees of directly connected nodes. It assumes postive values when there is a correlation between nodes of a similiar degree"
   ]
  },
  {
   "cell_type": "markdown",
   "id": "b9b9878a-0b4f-4674-b9a9-c9774ceca86b",
   "metadata": {},
   "source": [
    "<hr/>\n",
    "\n",
    "<b>Aim</b>: Demonstrate <b>Integration Metrics</b> using networkx\n",
    "\n",
    "<hr/>"
   ]
  },
  {
   "cell_type": "markdown",
   "id": "1373814d-6c2f-4e79-83e8-1d8f60bad779",
   "metadata": {},
   "source": [
    "<b>Let</b> $P1$ be a graph."
   ]
  },
  {
   "cell_type": "code",
   "execution_count": 6,
   "id": "654ac282-6e6d-4a70-9c47-45426fb01c1d",
   "metadata": {},
   "outputs": [
    {
     "data": {
      "image/png": "[encoded data removed]",
      "text/plain": [
       "<Figure size 432x288 with 1 Axes>"
      ]
     },
     "metadata": {},
     "output_type": "display_data"
    }
   ],
   "source": [
    "P1 = nx.Graph()\n",
    "nodes = {1:'1',2:'2',3:'3',4:'4',5:'5',6:'6',7:'7'}\n",
    "P1.add_nodes_from(nodes.keys())\n",
    "P1.add_edges_from([(1,2),(1,3),(2,3),(3,4),(4,5),(5,6),(6,7),(7,5)])\n",
    "nx.draw(P1)"
   ]
  },
  {
   "cell_type": "markdown",
   "id": "1e6e16b9-ba76-42fb-85f8-b96e5c3713b7",
   "metadata": {},
   "source": [
    "<b>Let</b> $P2$ and $P3$ be shortest paths between nodes in $P1$"
   ]
  },
  {
   "cell_type": "code",
   "execution_count": 8,
   "id": "95e5342b-d456-4a59-b4ea-1f8acb5f5c04",
   "metadata": {},
   "outputs": [
    {
     "name": "stdout",
     "output_type": "stream",
     "text": [
      "[1, 3, 4, 5, 7]\n",
      "[1, 3, 4]\n"
     ]
    }
   ],
   "source": [
    "print(nx.shortest_path(P1,source=1,target=7))\n",
    "print(nx.shortest_path(P1, source = 1, target=4))"
   ]
  },
  {
   "cell_type": "markdown",
   "id": "4a7efa3f-d681-4ef5-8d5f-b018e41494bf",
   "metadata": {},
   "source": [
    "<b>Let</b> $P4$ be the average shortest path length in $P1$: "
   ]
  },
  {
   "cell_type": "code",
   "execution_count": 9,
   "id": "55657c30-eb9e-4bfa-98f3-95cc339e40f2",
   "metadata": {},
   "outputs": [
    {
     "data": {
      "text/plain": [
       "2.1904761904761907"
      ]
     },
     "execution_count": 9,
     "metadata": {},
     "output_type": "execute_result"
    }
   ],
   "source": [
    "P4 = nx.average_shortest_path_length(G)\n",
    "P4"
   ]
  },
  {
   "cell_type": "markdown",
   "id": "c803fd4a-92bc-41e5-adf0-9f4e4a319aa3",
   "metadata": {},
   "source": [
    "<b>Let</b> $P5$ and $P6$ be the global efficiency and local efficiency of $P1$"
   ]
  },
  {
   "cell_type": "code",
   "execution_count": 11,
   "id": "f12d614b-cfdb-4906-9f26-ab566a3f1cf4",
   "metadata": {},
   "outputs": [
    {
     "data": {
      "text/plain": [
       "(0.611111111111111, 0.6666666666666667)"
      ]
     },
     "execution_count": 11,
     "metadata": {},
     "output_type": "execute_result"
    }
   ],
   "source": [
    "P5 = nx.global_efficiency(P1)\n",
    "P6 = nx.local_efficiency(P1)\n",
    "P5, P6"
   ]
  },
  {
   "cell_type": "markdown",
   "id": "e2b34b38-c39a-4e2d-a5dc-6bf5ffa57c55",
   "metadata": {},
   "source": [
    "<b>Let</b> $P7$ be a graph will all nodes connected to eachother"
   ]
  },
  {
   "cell_type": "code",
   "execution_count": 14,
   "id": "ba868d99-8c22-4b6b-a9ea-f0f8ae6ed91a",
   "metadata": {},
   "outputs": [
    {
     "data": {
      "image/png": "[encoded data removed]",
      "text/plain": [
       "<Figure size 432x288 with 1 Axes>"
      ]
     },
     "metadata": {},
     "output_type": "display_data"
    }
   ],
   "source": [
    "P7 = nx.complete_graph(n=7)\n",
    "nx.draw(P7)\n",
    "\n"
   ]
  },
  {
   "cell_type": "markdown",
   "id": "c52e4e2e-12af-4ed3-abf4-8b2287602b3b",
   "metadata": {},
   "source": [
    "<b>Let</b> $P8$ and $P9$ be the global efficiency and local efficiency of $P7$."
   ]
  },
  {
   "cell_type": "code",
   "execution_count": 16,
   "id": "7e3f7c20-9c3d-41c6-a920-61e31398a0d3",
   "metadata": {},
   "outputs": [
    {
     "data": {
      "text/plain": [
       "(1.0, 1.0)"
      ]
     },
     "execution_count": 16,
     "metadata": {},
     "output_type": "execute_result"
    }
   ],
   "source": [
    "P8 = nx.global_efficiency(P7)\n",
    "P9 = nx.local_efficiency(P7)\n",
    "P8, P9"
   ]
  },
  {
   "cell_type": "markdown",
   "id": "c078feec-dcf0-43ae-831c-a17fd6edfa0a",
   "metadata": {},
   "source": [
    "<b>Observe</b>: $P7$ is more efficient as information that can be moved from any node to any other node through a single edge."
   ]
  },
  {
   "cell_type": "markdown",
   "id": "04be78f0-1730-48c6-beb5-1a721b44f306",
   "metadata": {},
   "source": [
    "<hr/>\n",
    "\n",
    "<b>Aim</b>: Demonstrate <b>Segregation Metrics</b> using networkx\n",
    "\n",
    "<hr/>"
   ]
  },
  {
   "cell_type": "markdown",
   "id": "c5d0e31b-58ed-4d81-8851-10d0a88585e6",
   "metadata": {},
   "source": [
    "<b>Let</b> $P10$ and $P11$ be the clustering coefficients for $P1$ and $P7$."
   ]
  },
  {
   "cell_type": "code",
   "execution_count": 17,
   "id": "4f2b1c8d-e5bd-4f08-9275-d0955f987b2b",
   "metadata": {},
   "outputs": [
    {
     "data": {
      "text/plain": [
       "(0.6666666666666667, 1.0)"
      ]
     },
     "execution_count": 17,
     "metadata": {},
     "output_type": "execute_result"
    }
   ],
   "source": [
    "P10 = nx.average_clustering(P1)\n",
    "P11 = nx.average_clustering(P7)\n",
    "P10, P11"
   ]
  },
  {
   "cell_type": "markdown",
   "id": "8ce8bade-1ff8-41f9-9ac3-0887415b1426",
   "metadata": {},
   "source": [
    "<b>Let</b> $P12$ and $P13$ be the local clustering coefficients for $P1$ and $P7$"
   ]
  },
  {
   "cell_type": "code",
   "execution_count": 20,
   "id": "8c094912-cb83-4a61-ad86-9b1c5c5a885d",
   "metadata": {},
   "outputs": [
    {
     "data": {
      "text/plain": [
       "({1: 1.0,\n",
       "  2: 1.0,\n",
       "  3: 0.3333333333333333,\n",
       "  4: 0,\n",
       "  5: 0.3333333333333333,\n",
       "  6: 1.0,\n",
       "  7: 1.0},\n",
       " {0: 1.0, 1: 1.0, 2: 1.0, 3: 1.0, 4: 1.0, 5: 1.0, 6: 1.0})"
      ]
     },
     "execution_count": 20,
     "metadata": {},
     "output_type": "execute_result"
    }
   ],
   "source": [
    "P12 = nx.clustering(P1)\n",
    "P13 = nx.clustering(P7)\n",
    "P12, P13"
   ]
  },
  {
   "cell_type": "markdown",
   "id": "758afa31-fd21-4472-8bc4-44292fd67c8f",
   "metadata": {},
   "source": [
    "<b>Let</b> $P14$ and $P15$ be the Transitivity of $P1$ and $P7$"
   ]
  },
  {
   "cell_type": "code",
   "execution_count": 21,
   "id": "46c5dc41-61ae-43ad-945e-aa2d28e0cd9b",
   "metadata": {},
   "outputs": [
    {
     "data": {
      "text/plain": [
       "(0.5454545454545454, 1.0)"
      ]
     },
     "execution_count": 21,
     "metadata": {},
     "output_type": "execute_result"
    }
   ],
   "source": [
    "P14 = nx.transitivity(P1)\n",
    "P15 = nx.transitivity(P7)\n",
    "P14, P15"
   ]
  },
  {
   "cell_type": "markdown",
   "id": "81b6433e-bef9-4489-b828-3863be64037a",
   "metadata": {},
   "source": [
    "<b>Def</b>: The <b>Modularity</b> of a network quantifies the dvision of a network into groups (modules, clusters, groups) (i.e. which groups are more closed)\n",
    "\n",
    "<b>Observe</b>: Different measures of modularity for groups, given communities\n",
    "\n",
    "<b>Let</b> $P16$ be the Modularity of the graph $P1$."
   ]
  },
  {
   "cell_type": "code",
   "execution_count": 22,
   "id": "d47e45bb-3b89-454f-81ad-d7f7eb1aba96",
   "metadata": {},
   "outputs": [
    {
     "data": {
      "text/plain": [
       "0.3671875"
      ]
     },
     "execution_count": 22,
     "metadata": {},
     "output_type": "execute_result"
    }
   ],
   "source": [
    "P16 = nx_comm.modularity(P1, communities=[{1,2,3}, {4, 5, 6, 7}])\n",
    "P16"
   ]
  },
  {
   "cell_type": "markdown",
   "id": "5b4c2d15-2229-4a26-be97-1bc6b90b97ac",
   "metadata": {},
   "source": [
    "<hr/>\n",
    "\n",
    "<b>Aim</b>: Demonstrate <b>Centrality Metrics</b> using networkx\n",
    "\n",
    "<hr/>"
   ]
  },
  {
   "cell_type": "markdown",
   "id": "5f8d6fbb-18ee-4bea-890f-0634fa7a1d45",
   "metadata": {},
   "source": [
    "<b>Def</b>: The <b>Degree Centrality</b>, measures the number of incident edges on a given node $i$. This can be further defined by <b>in-degree centrality</b> and <b>out-degree centrality</b> referring to incoming and outgoing metrics"
   ]
  },
  {
   "cell_type": "markdown",
   "id": "88254590-6d6f-4c2a-83a7-96bb27cf9425",
   "metadata": {},
   "source": [
    "<b>Observe</b>: degree centrality in different graphs"
   ]
  },
  {
   "cell_type": "code",
   "execution_count": 153,
   "id": "77fa5800-d369-4f1c-a9c0-e5bbb0beaf6a",
   "metadata": {},
   "outputs": [
    {
     "name": "stdout",
     "output_type": "stream",
     "text": [
      "{1: 0.3333333333333333, 2: 0.3333333333333333, 3: 0.5, 4: 0.3333333333333333, 5: 0.5, 6: 0.3333333333333333, 7: 0.3333333333333333}\n",
      "{0: 1.0, 1: 1.0, 2: 1.0, 3: 1.0, 4: 1.0, 5: 1.0, 6: 1.0}\n"
     ]
    }
   ],
   "source": [
    "print(nx.degree_centrality(G))\n",
    "print(nx.degree_centrality(G1))"
   ]
  },
  {
   "cell_type": "markdown",
   "id": "409b6f60-7672-4d05-a69f-66214f8502b0",
   "metadata": {},
   "source": [
    "<b>Def</b>: The <b>Closeness Centrality</b> quantifies how much a node is connected to other nodes. It is the average of distance of node $i$ to all other nodes. If $l_{ij}$ is the shortest path between $i$ and $j$, closeness centrality is: \n",
    "\n",
    "$$ \\frac{1}{\\Sigma_{i \\in V, i\\ne j} l{ij}}$$"
   ]
  },
  {
   "cell_type": "markdown",
   "id": "2653d77b-1b05-4d68-911d-215c2d0516b1",
   "metadata": {},
   "source": [
    "<b>Observe</b> Closeness Centrality of nodes in different graphs"
   ]
  },
  {
   "cell_type": "code",
   "execution_count": 155,
   "id": "cd8e4b2d-925c-4854-9430-2a425652b3b0",
   "metadata": {},
   "outputs": [
    {
     "name": "stdout",
     "output_type": "stream",
     "text": [
      "{1: 0.4, 2: 0.4, 3: 0.5454545454545454, 4: 0.6, 5: 0.5454545454545454, 6: 0.4, 7: 0.4}\n",
      "{0: 1.0, 1: 1.0, 2: 1.0, 3: 1.0, 4: 1.0, 5: 1.0, 6: 1.0}\n"
     ]
    }
   ],
   "source": [
    "print(nx.closeness_centrality(G))\n",
    "print(nx.closeness_centrality(G1))"
   ]
  },
  {
   "cell_type": "markdown",
   "id": "518074a3-4ab0-4702-b238-f950ad433a4f",
   "metadata": {},
   "source": [
    "<b>Def</b>: The <b>Betweeness Centrality</b> metric evaluates how much a node acts as a bridge between nodes: \n",
    "\n",
    "$$ \\Sigma_{w \\ne i i \\ne j} \\frac{L_{wj}(i)}{L_{wj}} $$\n",
    "\n",
    "where $L_{wj}$ is total number of shortest paths between node $w$ and node $j$ and $L_{wj}(i)$ is the total number of paths between $w$ and $j$ passing through $i$"
   ]
  },
  {
   "cell_type": "markdown",
   "id": "cfb14c94-60d1-4da7-9ddf-aef53873f3ed",
   "metadata": {},
   "source": [
    "<b>Observe</b>: Betweenness centrality of nodes in different graphs"
   ]
  },
  {
   "cell_type": "code",
   "execution_count": 157,
   "id": "8313d2df-95be-4455-b52f-6844f2e6b0f3",
   "metadata": {},
   "outputs": [
    {
     "name": "stdout",
     "output_type": "stream",
     "text": [
      "{1: 0.0, 2: 0.0, 3: 0.5333333333333333, 4: 0.6, 5: 0.5333333333333333, 6: 0.0, 7: 0.0}\n",
      "{0: 0.0, 1: 0.0, 2: 0.0, 3: 0.0, 4: 0.0, 5: 0.0, 6: 0.0}\n"
     ]
    }
   ],
   "source": [
    "print(nx.betweenness_centrality(G))\n",
    "print(nx.betweenness_centrality(G1))"
   ]
  },
  {
   "cell_type": "markdown",
   "id": "19fe1ada-079a-4b8e-bd55-62398567080a",
   "metadata": {},
   "source": [
    "<b>Def</b>: <b>Assortativity</b> quantifies the tendency of nodes being connected to similiar nodes and there are various measures for this. \n",
    "\n",
    "<b>Def</b>: The <b>Pearson Correlation Coefficient</b> measures assortativity between degrees of directly connected nodes. It assumes postive values when there is a correlation between nodes of a similiar degree"
   ]
  },
  {
   "cell_type": "markdown",
   "id": "93c6bcb1-a715-47fd-940d-0ca679451d66",
   "metadata": {},
   "source": [
    "<b>Observe</b>Assortativity using the Pearson Correlation Coefficient in different graphs. Note it cannot be defined for G1"
   ]
  },
  {
   "cell_type": "code",
   "execution_count": 162,
   "id": "96f33232-bbe2-4fd5-83f2-324136bbf0a2",
   "metadata": {},
   "outputs": [
    {
     "name": "stdout",
     "output_type": "stream",
     "text": [
      "-0.6\n",
      "nan\n"
     ]
    }
   ],
   "source": [
    "print(nx.degree_pearson_correlation_coefficient(G))\n",
    "print(nx.degree_pearson_correlation_coefficient(G1))"
   ]
  },
  {
   "cell_type": "markdown",
   "id": "e8119ee1-fed9-4d80-81b1-e2cce0a0d2ec",
   "metadata": {},
   "source": [
    "<hr/>"
   ]
  },
  {
   "cell_type": "markdown",
   "id": "7affbc42-02f8-4ccd-934d-8af4b7103f50",
   "metadata": {},
   "source": [
    "<b>Todo</b>: Build a summary function lising all metrics"
   ]
  },
  {
   "cell_type": "code",
   "execution_count": null,
   "id": "babdae97-d06d-4fa7-9259-6f3d91dee38c",
   "metadata": {},
   "outputs": [],
   "source": [
    "# draw a simple graph\n",
    "def draw_graph(G, node_names={}, filename=None, node_size=50):\n",
    "    pos_nodes = nx.spring_layout(G)\n",
    "    nx.draw(G, pos_nodes, with_labels=False, node_size=node_size, edge_color='gray')\n",
    "    \n",
    "    pos_attrs = {}\n",
    "    for node, coords in pos_nodes.items():\n",
    "        pos_attrs[node] = (coords[0], coords[1] + 0.08)\n",
    "        \n",
    "    nx.draw_networkx_labels(G, pos_attrs, labels=node_names, font_family='serif')\n",
    "    \n",
    "    plt.axis('off')\n",
    "    axis = plt.gca()\n",
    "    axis.set_xlim([1.2*x for x in axis.get_xlim()])\n",
    "    axis.set_ylim([1.2*y for y in axis.get_ylim()])\n",
    "    \n",
    "    if filename:\n",
    "        plt.savefig(filename, format=\"png\")\n",
    "\n",
    "\n",
    "# draw enhanced path on the graph\n",
    "def draw_enhanced_path(G, path_to_enhance, node_names={}, filename=None):\n",
    "    path_edges = list(zip(path,path[1:]))\n",
    "    pos_nodes = nx.spring_layout(G)\n",
    "\n",
    "    plt.figure(figsize=(5,5),dpi=300)\n",
    "    pos_nodes = nx.spring_layout(G)\n",
    "    nx.draw(G, pos_nodes, with_labels=False, node_size=50, edge_color='gray')\n",
    "    \n",
    "    pos_attrs = {}\n",
    "    for node, coords in pos_nodes.items():\n",
    "        pos_attrs[node] = (coords[0], coords[1] + 0.08)\n",
    "        \n",
    "    nx.draw_networkx_labels(G, pos_attrs, labels=node_names, font_family='serif')\n",
    "    nx.draw_networkx_edges(G,pos_nodes,edgelist=path_edges, edge_color='#cc2f04', style='dashed', width=2.0)\n",
    "    \n",
    "    plt.axis('off')\n",
    "    axis = plt.gca()\n",
    "    axis.set_xlim([1.2*x for x in axis.get_xlim()])\n",
    "    axis.set_ylim([1.2*y for y in axis.get_ylim()])\n",
    "    \n",
    "    if filename:\n",
    "        plt.savefig(filename, format=\"png\")"
   ]
  }
 ],
 "metadata": {
  "kernelspec": {
   "display_name": "Python 3",
   "language": "python",
   "name": "python3"
  },
  "language_info": {
   "codemirror_mode": {
    "name": "ipython",
    "version": 3
   },
   "file_extension": ".py",
   "mimetype": "text/x-python",
   "name": "python",
   "nbconvert_exporter": "python",
   "pygments_lexer": "ipython3",
   "version": "3.9.2"
  }
 },
 "nbformat": 4,
 "nbformat_minor": 5
}
