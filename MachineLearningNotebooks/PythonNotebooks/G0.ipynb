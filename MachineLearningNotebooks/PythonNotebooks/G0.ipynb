{
 "cells": [
  {
   "cell_type": "markdown",
   "id": "3b3d2c3a-7771-49c8-8160-092ad2e5b2d4",
   "metadata": {},
   "source": [
    "<i>Status: Draft</i>"
   ]
  },
  {
   "cell_type": "markdown",
   "id": "dbc01ed0-34b1-40f0-9289-b0ed9d931854",
   "metadata": {},
   "source": [
    "<hr/>\n",
    "\n",
    "#### Dependencies\n",
    "\n",
    "Note there are a number of extra libraries that need to be installed in order to undertake machine learning with graphs. Many of the packages seem to be under active development so take care. These include:\n",
    "\n",
    "1. node2vec\n",
    "2. karateclub\n",
    "3. stellargraph\n",
    "4. GEM\n",
    "5. SNAP\n",
    "\n",
    "To install node2vec, karateclub, and SNAP run the following in a jupyter cell:\n",
    "\n",
    "<code>!pip install node2vec</code>\n",
    "\n",
    "<code>!pip install karateclub</code>\n",
    "\n",
    "<code>!pip install snap-stanford </code>\n",
    "\n",
    "To install stellagraph, run the following from the command line: \n",
    "\n",
    "1. <code>git clone https://github.com/stellargraph/stellargraph.git </code>\n",
    "2. <code>cd stellargraph</code>\n",
    "3. <code>run pip install .</code> \n",
    "\n",
    "Note that this may create an error as for some reason stellargraph lists python version as <= 3.9 in setup.py. If you are using a later version, just edit the setup.py and remove this. \n",
    "\n",
    "To install gem, run the following from the command line: \n",
    "\n",
    "1. <code>git clone https://github.com/palash1992/GEM.git</code>\n",
    "2. <code>cd to GEM folder</code>\n",
    "3. <code>run pip install . </code>\n",
    "\n",
    "<hr/>"
   ]
  },
  {
   "cell_type": "code",
   "execution_count": 4,
   "id": "572999e2-7cd7-4f58-960f-9380f8f4a8c1",
   "metadata": {},
   "outputs": [],
   "source": [
    "import networkx as nx\n",
    "import networkx.algorithms.community as nx_comm\n",
    "import matplotlib.pyplot as plt\n",
    "import numpy as np\n",
    "import scipy as scp\n",
    "import pandas as pd\n",
    "import node2vec as n2v\n",
    "import karateclub as kc\n",
    "import random\n",
    "import stellargraph as sp\n",
    "from IPython.display import Image\n",
    "from gem.embedding.gf import GraphFactorization\n",
    "from pathlib import Path\n",
    "Path(\"gem/intermediate\").mkdir(parents=True, exist_ok=True)\n",
    "import warnings\n",
    "warnings.filterwarnings(\"ignore\")\n",
    "\n",
    "%matplotlib inline"
   ]
  },
  {
   "cell_type": "markdown",
   "id": "53a4d660-d1fe-4460-948c-66a7e969b7c7",
   "metadata": {},
   "source": [
    "### Overview \n",
    "\n",
    "This series of notebooks covers the basics of Graph Machine Learning. This includes:\n",
    "\n",
    "- G0: Standard Graph ML Libraries and installation, basic definitions, and basics or working with networkx\n",
    "- G1: Graph Metrics\n",
    "- G2: Graph types and sourcing data sets\n",
    "- G3: Embedding Algorithms\n",
    "- G4: Supervised Graph Learning\n",
    "\n",
    "<hr/>\n",
    "\n",
    "<b>Aim</b>: Provide basic definitions\n",
    "\n",
    "<hr/>"
   ]
  },
  {
   "cell_type": "markdown",
   "id": "9bd66072-862c-4870-bda3-6f6b4dd36643",
   "metadata": {},
   "source": [
    "<b>Definition</b>: A <b>node</b> is a point in a space where that space has not been defined (i.e is not specified as Euclidian, Hyperbolic, etc). Also called a vertice.\n",
    "\n",
    "<b>Definition</b>: An <b>edge</b> is a a line joining in 2 nodes or a node to itself. Also called a link. An edge may have an arrow at its end leading into a node and graphs with these types of graphs are called <b>directed</b>. For graphs where the edges do not have arrows, they are called <b>undirected</b>.\n",
    "\n",
    "<b>Definition</b>: A <b>graph </b> is a any amount of nodes, where those nodes may or may not be joined using edges. \n",
    "\n",
    "<b>Definition</b>: The <b>order</b> of a graph is the count of vertices or nodes\n",
    "\n",
    "<b>Definition</b>: The <b>size</b> of a graph is the count of edges\n",
    "\n",
    "<b>Definition</b>: The <b>degree</b> of a node is the count of edges/links adjacent to it\n",
    "\n",
    "<b>Definition</b>: An <b>Adjacency Matrix</b> can be used as a matrix where all nodes are represented that can be linked. \n",
    "\n",
    "<b>Definition</b>: An <b>Ego Graph</b> is the graph of all nodes that are less than a certain distance from the tensorflow node. "
   ]
  },
  {
   "cell_type": "markdown",
   "id": "9382b4cc-6f8b-4c0a-823d-c2278ba511bc",
   "metadata": {},
   "source": [
    "<hr/>\n",
    "\n",
    "<b>Aim</b>: Explore graphs in the context of the networkx library\n",
    "\n",
    "<hr/>\n",
    "\n",
    "<b>Let</b> G be a graph composed of nodes $V$ and edges $E$"
   ]
  },
  {
   "cell_type": "code",
   "execution_count": 6,
   "id": "4b2cda45-dfcd-43a4-989e-ea6c8a3f557e",
   "metadata": {},
   "outputs": [],
   "source": [
    "G = nx.Graph()\n",
    "\n",
    "V = {' Dublin', 'Paris', 'Milan', 'Rome'}\n",
    "E = [(' Milan','Dublin'), (' Milan','Paris'),\n",
    "     (' Paris','Dublin'),(' Milan','Rome')]\n",
    "\n",
    "G.add_nodes_from(V)\n",
    "G.add_edges_from(E)"
   ]
  },
  {
   "cell_type": "markdown",
   "id": "6acd0804-1cab-4462-a021-15e9ae603129",
   "metadata": {},
   "source": [
    "<b>Observe</b>: visualisation is possible. Note that, as a convenience, labels are given to nodes. It is also possible to give nodes key-value style properties to encode data with multiple features."
   ]
  },
  {
   "cell_type": "code",
   "execution_count": 8,
   "id": "1fba0adf-17a1-4a21-9a46-cb2850987a0c",
   "metadata": {},
   "outputs": [
    {
     "data": {
      "image/png": "[encoded data removed]",
      "text/plain": [
       "<Figure size 432x288 with 1 Axes>"
      ]
     },
     "metadata": {},
     "output_type": "display_data"
    }
   ],
   "source": [
    "nx.draw(G, with_labels = True)"
   ]
  },
  {
   "cell_type": "markdown",
   "id": "45fcb36d-c77d-46b3-af04-6281f82568c6",
   "metadata": {},
   "source": [
    "<b>Observe</b>: Order of the graph $G$:"
   ]
  },
  {
   "cell_type": "code",
   "execution_count": 9,
   "id": "3252d46d-ac4f-41c9-a620-39b4e3def17f",
   "metadata": {},
   "outputs": [
    {
     "data": {
      "text/plain": [
       "7"
      ]
     },
     "execution_count": 9,
     "metadata": {},
     "output_type": "execute_result"
    }
   ],
   "source": [
    "len(G.nodes)\n",
    "G.number_of_nodes()"
   ]
  },
  {
   "cell_type": "markdown",
   "id": "44d767fe-020d-4f00-9704-21397575c1c1",
   "metadata": {},
   "source": [
    "<b>Observe</b>: Size of the graph $G$"
   ]
  },
  {
   "cell_type": "code",
   "execution_count": 10,
   "id": "3dda911b-4a0b-4332-ad82-9b2b152693af",
   "metadata": {},
   "outputs": [
    {
     "data": {
      "text/plain": [
       "4"
      ]
     },
     "execution_count": 10,
     "metadata": {},
     "output_type": "execute_result"
    }
   ],
   "source": [
    "G.number_of_edges()"
   ]
  },
  {
   "cell_type": "markdown",
   "id": "91a3c73e-d8d0-4823-b1d5-32be737a4797",
   "metadata": {},
   "source": [
    "<b>Observe</b>: Degree of nodes within the graph $G$."
   ]
  },
  {
   "cell_type": "code",
   "execution_count": 11,
   "id": "90e80dfc-bef7-4b4d-8276-b19d97574d25",
   "metadata": {},
   "outputs": [
    {
     "data": {
      "text/plain": [
       "DegreeView({'Paris': 1, 'Milan': 0, ' Dublin': 0, 'Rome': 1, ' Milan': 3, 'Dublin': 2, ' Paris': 1})"
      ]
     },
     "execution_count": 11,
     "metadata": {},
     "output_type": "execute_result"
    }
   ],
   "source": [
    "G.degree()"
   ]
  },
  {
   "cell_type": "markdown",
   "id": "2f01bd06-c8fd-4d06-bd4e-7ac0ac2bdf9e",
   "metadata": {},
   "source": [
    "<b>Let</b> $G$ be a graph with nodes, $V$ and edges $E$"
   ]
  },
  {
   "cell_type": "code",
   "execution_count": 79,
   "id": "2c9e7591-23d7-4c2d-bbba-b788791ea3c3",
   "metadata": {},
   "outputs": [],
   "source": [
    "G = nx.Graph() \n",
    "V = {'Dublin', 'Paris', 'Milan', 'Rome'} \n",
    "E = [('Milan','Dublin'), ('Milan','Paris'), ('Paris','Dublin'), ('Milan','Rome')]\n",
    "G.add_nodes_from(V)\n",
    "G.add_edges_from(E)"
   ]
  },
  {
   "cell_type": "code",
   "execution_count": 80,
   "id": "d6e018fd-60b1-40ae-b62b-5f2961971685",
   "metadata": {},
   "outputs": [
    {
     "data": {
      "image/png": "[encoded data removed]",
      "text/plain": [
       "<Figure size 432x288 with 1 Axes>"
      ]
     },
     "metadata": {},
     "output_type": "display_data"
    }
   ],
   "source": [
    "nx.draw(G, with_labels = True, font_weight = 'bold')"
   ]
  },
  {
   "cell_type": "markdown",
   "id": "764ef5de-af70-4601-a3c0-f0fb56b54b75",
   "metadata": {},
   "source": [
    "<b>Observe</b>: Ego-graph of $G$"
   ]
  },
  {
   "cell_type": "code",
   "execution_count": 12,
   "id": "e673aef8-02d6-4b70-8ee6-8c994a6516fe",
   "metadata": {},
   "outputs": [
    {
     "name": "stdout",
     "output_type": "stream",
     "text": [
      "['Dublin', ' Paris', ' Milan']\n"
     ]
    }
   ],
   "source": [
    "print(nx.ego_graph(G, \"Dublin\").nodes)\n"
   ]
  },
  {
   "cell_type": "code",
   "execution_count": 83,
   "id": "44760eea-64af-41ad-b3be-cdd4c1a14b86",
   "metadata": {},
   "outputs": [],
   "source": [
    "newNodes = {\"London\", \"Madrid\"}\n",
    "newEdges = [(\"London\", \"Rome\"), (\"Madrid\", \"Paris\")]"
   ]
  },
  {
   "cell_type": "code",
   "execution_count": 84,
   "id": "b968b6b5-7810-4754-8618-7352f6e38dd9",
   "metadata": {},
   "outputs": [],
   "source": [
    "G.add_nodes_from(newNodes)\n",
    "G.add_edges_from(newEdges)"
   ]
  },
  {
   "cell_type": "code",
   "execution_count": 85,
   "id": "8c70987d-0754-4be8-a5eb-09bef497c402",
   "metadata": {},
   "outputs": [
    {
     "data": {
      "image/png": "[encoded data removed]",
      "text/plain": [
       "<Figure size 432x288 with 1 Axes>"
      ]
     },
     "metadata": {},
     "output_type": "display_data"
    }
   ],
   "source": [
    "nx.draw(G, with_labels = True, font_weight = 'bold')"
   ]
  },
  {
   "cell_type": "markdown",
   "id": "8e69b8d5-5fec-4efc-b1de-e0d190c2146f",
   "metadata": {},
   "source": [
    "<b>Let</b> Let $G$ be a directed graph with nodes $V$ and edges $E$."
   ]
  },
  {
   "cell_type": "code",
   "execution_count": 17,
   "id": "f0e32b80-5b14-4092-867e-92accceaafdf",
   "metadata": {},
   "outputs": [
    {
     "data": {
      "image/png": "[encoded data removed]",
      "text/plain": [
       "<Figure size 432x288 with 1 Axes>"
      ]
     },
     "metadata": {},
     "output_type": "display_data"
    }
   ],
   "source": [
    "G = nx.DiGraph()\n",
    "V = {'Dublin', 'Paris', 'Milan', \"Rome\"}\n",
    "E = [(\"Milan\", \"Dublin\"),(\"Paris\", \"Milan\"),(\"Paris\", \"Dublin\"),(\"Milan\", \"Rome\")]\n",
    "G.add_nodes_from(V)\n",
    "G.add_edges_from(E)\n",
    "\n",
    "nx.draw(G, with_labels = True, font_weight = 'bold')"
   ]
  },
  {
   "cell_type": "markdown",
   "id": "007448bc-d39b-4d1d-ae49-f9795c538c6a",
   "metadata": {},
   "source": [
    "<b>Let</b> $dmg$ and $umg$ be multi-graphs and multi-directed graphs which allow self loops and parallel edges."
   ]
  },
  {
   "cell_type": "code",
   "execution_count": 27,
   "id": "45fac2d0-adc8-48ec-8f9e-41f41dd7c39e",
   "metadata": {},
   "outputs": [
    {
     "data": {
      "text/plain": [
       "[19, 8, 5, 7, 55, 66, 66]"
      ]
     },
     "execution_count": 27,
     "metadata": {},
     "output_type": "execute_result"
    }
   ],
   "source": [
    "dmg = nx.MultiDiGraph()\n",
    "umg = nx.MultiGraph()\n",
    "\n",
    "V = {'Dublin', 'Paris', 'Milan', 'Rome'}\n",
    "E = [('Milan','Dublin', 19), ('Milan','Dublin', 8), ('Paris','Milan', 5), ('Paris','Dublin', 7), ('Milan','Rome', 55), ('Milan','Rome', 66), ('Milan','Milan', 66)]\n",
    "\n",
    "dmg.add_nodes_from(V)\n",
    "dmg.add_edges_from(E)\n",
    "\n",
    "umg.add_nodes_from(V)\n",
    "umg.add_edges_from(E)"
   ]
  },
  {
   "cell_type": "code",
   "execution_count": 28,
   "id": "ee3eeb8b-f6b1-4c31-b39e-5a0e255e53f5",
   "metadata": {},
   "outputs": [
    {
     "data": {
      "image/png": "[encoded data removed]",
      "text/plain": [
       "<Figure size 432x288 with 1 Axes>"
      ]
     },
     "metadata": {},
     "output_type": "display_data"
    }
   ],
   "source": [
    "nx.draw(dmg, with_labels = True, font_weight = 'bold')"
   ]
  },
  {
   "cell_type": "code",
   "execution_count": 29,
   "id": "74accbe0-3bf2-460d-b7af-c6ab82961070",
   "metadata": {},
   "outputs": [
    {
     "data": {
      "image/png": "[encoded data removed]",
      "text/plain": [
       "<Figure size 432x288 with 1 Axes>"
      ]
     },
     "metadata": {},
     "output_type": "display_data"
    }
   ],
   "source": [
    "nx.draw(umg, with_labels = True)"
   ]
  },
  {
   "cell_type": "markdown",
   "id": "553d19fa-da97-47c1-bf97-8449625f3f5b",
   "metadata": {},
   "source": [
    "<b>Observe</b> An adjacency matrix of $G$"
   ]
  },
  {
   "cell_type": "code",
   "execution_count": 26,
   "id": "18b853e2-308c-42ee-816d-95ff28ab32ff",
   "metadata": {},
   "outputs": [
    {
     "data": {
      "text/html": [
       "<div>\n",
       "<style scoped>\n",
       "    .dataframe tbody tr th:only-of-type {\n",
       "        vertical-align: middle;\n",
       "    }\n",
       "\n",
       "    .dataframe tbody tr th {\n",
       "        vertical-align: top;\n",
       "    }\n",
       "\n",
       "    .dataframe thead th {\n",
       "        text-align: right;\n",
       "    }\n",
       "</style>\n",
       "<table border=\"1\" class=\"dataframe\">\n",
       "  <thead>\n",
       "    <tr style=\"text-align: right;\">\n",
       "      <th></th>\n",
       "      <th>Paris</th>\n",
       "      <th>Dublin</th>\n",
       "      <th>Milan</th>\n",
       "      <th>Rome</th>\n",
       "    </tr>\n",
       "  </thead>\n",
       "  <tbody>\n",
       "    <tr>\n",
       "      <th>Paris</th>\n",
       "      <td>0.0</td>\n",
       "      <td>1.0</td>\n",
       "      <td>1.0</td>\n",
       "      <td>0.0</td>\n",
       "    </tr>\n",
       "    <tr>\n",
       "      <th>Dublin</th>\n",
       "      <td>0.0</td>\n",
       "      <td>0.0</td>\n",
       "      <td>0.0</td>\n",
       "      <td>0.0</td>\n",
       "    </tr>\n",
       "    <tr>\n",
       "      <th>Milan</th>\n",
       "      <td>0.0</td>\n",
       "      <td>1.0</td>\n",
       "      <td>0.0</td>\n",
       "      <td>1.0</td>\n",
       "    </tr>\n",
       "    <tr>\n",
       "      <th>Rome</th>\n",
       "      <td>0.0</td>\n",
       "      <td>0.0</td>\n",
       "      <td>0.0</td>\n",
       "      <td>0.0</td>\n",
       "    </tr>\n",
       "  </tbody>\n",
       "</table>\n",
       "</div>"
      ],
      "text/plain": [
       "        Paris  Dublin  Milan  Rome\n",
       "Paris     0.0     1.0    1.0   0.0\n",
       "Dublin    0.0     0.0    0.0   0.0\n",
       "Milan     0.0     1.0    0.0   1.0\n",
       "Rome      0.0     0.0    0.0   0.0"
      ]
     },
     "execution_count": 26,
     "metadata": {},
     "output_type": "execute_result"
    }
   ],
   "source": [
    "nx.to_pandas_adjacency(G)"
   ]
  },
  {
   "cell_type": "code",
   "execution_count": 95,
   "id": "81aad697-752b-499c-aead-35c9a202295b",
   "metadata": {},
   "outputs": [
    {
     "data": {
      "text/plain": [
       "matrix([[0., 0., 0., 0.],\n",
       "        [1., 0., 1., 0.],\n",
       "        [0., 0., 0., 0.],\n",
       "        [1., 1., 0., 0.]])"
      ]
     },
     "execution_count": 95,
     "metadata": {},
     "output_type": "execute_result"
    }
   ],
   "source": [
    "nx.to_numpy_matrix(G)"
   ]
  },
  {
   "cell_type": "markdown",
   "id": "09e720d0-e35d-41f0-a28c-036e2a875a1b",
   "metadata": {},
   "source": [
    "<b>Observe</b> Edge List of $dmg$"
   ]
  },
  {
   "cell_type": "code",
   "execution_count": 30,
   "id": "1e5e5802-9574-4eb3-a5ab-b347d55703db",
   "metadata": {},
   "outputs": [
    {
     "data": {
      "text/html": [
       "<div>\n",
       "<style scoped>\n",
       "    .dataframe tbody tr th:only-of-type {\n",
       "        vertical-align: middle;\n",
       "    }\n",
       "\n",
       "    .dataframe tbody tr th {\n",
       "        vertical-align: top;\n",
       "    }\n",
       "\n",
       "    .dataframe thead th {\n",
       "        text-align: right;\n",
       "    }\n",
       "</style>\n",
       "<table border=\"1\" class=\"dataframe\">\n",
       "  <thead>\n",
       "    <tr style=\"text-align: right;\">\n",
       "      <th></th>\n",
       "      <th>source</th>\n",
       "      <th>target</th>\n",
       "    </tr>\n",
       "  </thead>\n",
       "  <tbody>\n",
       "    <tr>\n",
       "      <th>0</th>\n",
       "      <td>Paris</td>\n",
       "      <td>Milan</td>\n",
       "    </tr>\n",
       "    <tr>\n",
       "      <th>1</th>\n",
       "      <td>Paris</td>\n",
       "      <td>Dublin</td>\n",
       "    </tr>\n",
       "    <tr>\n",
       "      <th>2</th>\n",
       "      <td>Milan</td>\n",
       "      <td>Dublin</td>\n",
       "    </tr>\n",
       "    <tr>\n",
       "      <th>3</th>\n",
       "      <td>Milan</td>\n",
       "      <td>Dublin</td>\n",
       "    </tr>\n",
       "    <tr>\n",
       "      <th>4</th>\n",
       "      <td>Milan</td>\n",
       "      <td>Rome</td>\n",
       "    </tr>\n",
       "    <tr>\n",
       "      <th>5</th>\n",
       "      <td>Milan</td>\n",
       "      <td>Rome</td>\n",
       "    </tr>\n",
       "    <tr>\n",
       "      <th>6</th>\n",
       "      <td>Milan</td>\n",
       "      <td>Milan</td>\n",
       "    </tr>\n",
       "  </tbody>\n",
       "</table>\n",
       "</div>"
      ],
      "text/plain": [
       "  source  target\n",
       "0  Paris   Milan\n",
       "1  Paris  Dublin\n",
       "2  Milan  Dublin\n",
       "3  Milan  Dublin\n",
       "4  Milan    Rome\n",
       "5  Milan    Rome\n",
       "6  Milan   Milan"
      ]
     },
     "execution_count": 30,
     "metadata": {},
     "output_type": "execute_result"
    }
   ],
   "source": [
    "# Edge list \n",
    "nx.to_pandas_edgelist(dmg)"
   ]
  }
 ],
 "metadata": {
  "kernelspec": {
   "display_name": "Python 3",
   "language": "python",
   "name": "python3"
  },
  "language_info": {
   "codemirror_mode": {
    "name": "ipython",
    "version": 3
   },
   "file_extension": ".py",
   "mimetype": "text/x-python",
   "name": "python",
   "nbconvert_exporter": "python",
   "pygments_lexer": "ipython3",
   "version": "3.9.2"
  }
 },
 "nbformat": 4,
 "nbformat_minor": 5
}
