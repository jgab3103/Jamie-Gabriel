{
 "cells": [
  {
   "cell_type": "markdown",
   "id": "dbc01ed0-34b1-40f0-9289-b0ed9d931854",
   "metadata": {},
   "source": [
    "<hr/>\n",
    "\n",
    "#### Dependencies\n",
    "\n",
    "Note there are a number of extra libraries that need to be installed in order to undertake machine learning with graphs. Many of the packages seem to be under active development so take care.\n",
    "\n",
    "1. node2vec\n",
    "2. karateclub\n",
    "3. stellargraph\n",
    "4. GEM\n",
    "\n",
    "To install node2vec and karateclub, run the following in a jupyter cell:\n",
    "\n",
    "<code>!pip install node2vec</code>\n",
    "\n",
    "<code>!pip install karateclub</code>\n",
    "\n",
    "To install stellagraph, run the following from the command line: \n",
    "\n",
    "1. <code>git clone https://github.com/stellargraph/stellargraph.git </code>\n",
    "2. <code>cd stellargraph</code>\n",
    "3. <code>run pip install .</code> \n",
    "\n",
    "Note that this may create an error as for some reason stellar graph lists python version as <= 3.9 in setup.py. If you are using a later version, update the setup.py and remove this. \n",
    "\n",
    "To install gem, run the following from the command line: \n",
    "\n",
    "1. <code>git clone https://github.com/palash1992/GEM.git</code>\n",
    "2. <code>cd to GEM folder</code>\n",
    "3. <code>run pip install . </code>\n",
    "\n",
    "<hr/>"
   ]
  },
  {
   "cell_type": "code",
   "execution_count": 2,
   "id": "572999e2-7cd7-4f58-960f-9380f8f4a8c1",
   "metadata": {},
   "outputs": [],
   "source": [
    "import networkx as nx\n",
    "import networkx.algorithms.community as nx_comm\n",
    "import matplotlib.pyplot as plt\n",
    "import numpy as np\n",
    "import scipy as scp\n",
    "import pandas as pd\n",
    "import node2vec as n2v\n",
    "import karateclub as kc\n",
    "import random\n",
    "import stellargraph as sp\n",
    "from IPython.display import Image\n",
    "from gem.embedding.gf import GraphFactorization\n",
    "from pathlib import Path\n",
    "Path(\"gem/intermediate\").mkdir(parents=True, exist_ok=True)\n",
    "import warnings\n",
    "warnings.filterwarnings(\"ignore\")\n",
    "\n",
    "%matplotlib inline"
   ]
  },
  {
   "cell_type": "markdown",
   "id": "53a4d660-d1fe-4460-948c-66a7e969b7c7",
   "metadata": {},
   "source": [
    "### Overview \n",
    "\n",
    "This series of notebooks on Graph Machine Learning covers the following:\n",
    "\n",
    "- G0: Libraries and installation, creating and visualisation\n",
    "- G1: Graph Metrics\n",
    "- G2: Graph types and available data sets\n",
    "- G3: Embedding\n",
    "- G4: Supervised Graph Learning\n",
    "\n",
    "<hr/>\n",
    "\n",
    "<b>Aim</b>: Provide some basics around using networkx in Python\n",
    "\n",
    "<hr/>"
   ]
  },
  {
   "cell_type": "markdown",
   "id": "9bd66072-862c-4870-bda3-6f6b4dd36643",
   "metadata": {},
   "source": [
    "<b>Definition</b>: A <b>node</b> is a point in a space where that space has not been defined (i.e is not specified as Euclidian, Hyperbolic, etc)\n",
    "\n",
    "<b>Definition</b>: An <b>edge</b> is a a line joining in 2 nodes or a node to itself \n",
    "\n",
    "<b>Definition</b>: A <b>graph </b> is a any amount of nodes that can have edges joining any node to any other node."
   ]
  },
  {
   "cell_type": "markdown",
   "id": "9382b4cc-6f8b-4c0a-823d-c2278ba511bc",
   "metadata": {},
   "source": [
    "<b>Let</b> G be a graph"
   ]
  },
  {
   "cell_type": "code",
   "execution_count": 3,
   "id": "4b2cda45-dfcd-43a4-989e-ea6c8a3f557e",
   "metadata": {},
   "outputs": [
    {
     "data": {
      "image/png": "[encoded data removed]",
      "text/plain": [
       "<Figure size 432x288 with 1 Axes>"
      ]
     },
     "metadata": {},
     "output_type": "display_data"
    }
   ],
   "source": [
    "G = nx.Graph()\n",
    "\n",
    "V = {' Dublin', 'Paris', 'Milan', 'Rome'}\n",
    "E = [(' Milan','Dublin'), (' Milan','Paris'),\n",
    "     (' Paris','Dublin'),(' Milan','Rome')]\n",
    "# add to graph\n",
    "G.add_nodes_from(V)\n",
    "G.add_edges_from(E)\n",
    "nx.draw(G)"
   ]
  },
  {
   "cell_type": "markdown",
   "id": "45fcb36d-c77d-46b3-af04-6281f82568c6",
   "metadata": {},
   "source": [
    "<b>Observe</b>: For convenience, nodes and edges are often given labels. "
   ]
  },
  {
   "cell_type": "code",
   "execution_count": 76,
   "id": "3252d46d-ac4f-41c9-a620-39b4e3def17f",
   "metadata": {},
   "outputs": [
    {
     "data": {
      "text/plain": [
       "7"
      ]
     },
     "execution_count": 76,
     "metadata": {},
     "output_type": "execute_result"
    }
   ],
   "source": [
    "#order of graph is # vertices or nodes\n",
    "len(G.nodes)\n",
    "G.number_of_nodes()"
   ]
  },
  {
   "cell_type": "code",
   "execution_count": 77,
   "id": "3dda911b-4a0b-4332-ad82-9b2b152693af",
   "metadata": {},
   "outputs": [
    {
     "data": {
      "text/plain": [
       "4"
      ]
     },
     "execution_count": 77,
     "metadata": {},
     "output_type": "execute_result"
    }
   ],
   "source": [
    "# Size is number of edges\n",
    "G.number_of_edges()"
   ]
  },
  {
   "cell_type": "code",
   "execution_count": 78,
   "id": "90e80dfc-bef7-4b4d-8276-b19d97574d25",
   "metadata": {},
   "outputs": [
    {
     "data": {
      "text/plain": [
       "DegreeView({'Milan': 0, 'Rome': 1, ' Dublin': 0, 'Paris': 1, ' Milan': 3, 'Dublin': 2, ' Paris': 1})"
      ]
     },
     "execution_count": 78,
     "metadata": {},
     "output_type": "execute_result"
    }
   ],
   "source": [
    "# number of edges/links adjacent to it\n",
    "G.degree()"
   ]
  },
  {
   "cell_type": "code",
   "execution_count": 79,
   "id": "2c9e7591-23d7-4c2d-bbba-b788791ea3c3",
   "metadata": {},
   "outputs": [],
   "source": [
    "G = nx.Graph() \n",
    "V = {'Dublin', 'Paris', 'Milan', 'Rome'} \n",
    "E = [('Milan','Dublin'), ('Milan','Paris'), ('Paris','Dublin'), ('Milan','Rome')]\n",
    "G.add_nodes_from(V)\n",
    "G.add_edges_from(E)"
   ]
  },
  {
   "cell_type": "code",
   "execution_count": 80,
   "id": "d6e018fd-60b1-40ae-b62b-5f2961971685",
   "metadata": {},
   "outputs": [
    {
     "data": {
      "image/png": "[encoded data removed]",
      "text/plain": [
       "<Figure size 432x288 with 1 Axes>"
      ]
     },
     "metadata": {},
     "output_type": "display_data"
    }
   ],
   "source": [
    "nx.draw(G, with_labels = True, font_weight = 'bold')"
   ]
  },
  {
   "cell_type": "code",
   "execution_count": 81,
   "id": "f8228f65-ccc5-4dee-85c2-c4d7eee0780f",
   "metadata": {},
   "outputs": [],
   "source": [
    "# Paris / dublin vertices have degree 2, Milan degree 3, Rome degree 1"
   ]
  },
  {
   "cell_type": "code",
   "execution_count": 82,
   "id": "e673aef8-02d6-4b70-8ee6-8c994a6516fe",
   "metadata": {},
   "outputs": [
    {
     "name": "stdout",
     "output_type": "stream",
     "text": [
      "4\n",
      "4\n",
      "[('Dublin', 2), ('Milan', 3), ('Rome', 1), ('Paris', 2)]\n",
      "['Dublin', 'Milan', 'Paris']\n",
      "[('Dublin', 'Milan'), ('Dublin', 'Paris'), ('Milan', 'Paris')]\n"
     ]
    }
   ],
   "source": [
    "print(G.number_of_nodes())\n",
    "print(G.number_of_edges())\n",
    "print(G.degree())\n",
    "print(nx.ego_graph(G, \"Dublin\").nodes)\n",
    "print(nx.ego_graph(G, \"Dublin\").edges)\n"
   ]
  },
  {
   "cell_type": "code",
   "execution_count": 83,
   "id": "44760eea-64af-41ad-b3be-cdd4c1a14b86",
   "metadata": {},
   "outputs": [],
   "source": [
    "newNodes = {\"London\", \"Madrid\"}\n",
    "newEdges = [(\"London\", \"Rome\"), (\"Madrid\", \"Paris\")]"
   ]
  },
  {
   "cell_type": "code",
   "execution_count": 84,
   "id": "b968b6b5-7810-4754-8618-7352f6e38dd9",
   "metadata": {},
   "outputs": [],
   "source": [
    "G.add_nodes_from(newNodes)\n",
    "G.add_edges_from(newEdges)"
   ]
  },
  {
   "cell_type": "code",
   "execution_count": 85,
   "id": "8c70987d-0754-4be8-a5eb-09bef497c402",
   "metadata": {},
   "outputs": [
    {
     "data": {
      "image/png": "[encoded data removed]",
      "text/plain": [
       "<Figure size 432x288 with 1 Axes>"
      ]
     },
     "metadata": {},
     "output_type": "display_data"
    }
   ],
   "source": [
    "nx.draw(G, with_labels = True, font_weight = 'bold')"
   ]
  },
  {
   "cell_type": "markdown",
   "id": "ff80c7ba-7404-4705-b256-fdedc014c2e7",
   "metadata": {},
   "source": [
    "<hr/>\n",
    "<b>Aim</b> Examine directed Graphs\n",
    "<hr/>"
   ]
  },
  {
   "cell_type": "code",
   "execution_count": 86,
   "id": "f0e32b80-5b14-4092-867e-92accceaafdf",
   "metadata": {},
   "outputs": [
    {
     "data": {
      "image/png": "[encoded data removed]",
      "text/plain": [
       "<Figure size 432x288 with 1 Axes>"
      ]
     },
     "metadata": {},
     "output_type": "display_data"
    }
   ],
   "source": [
    "# here node degree is Indegree and Outdegree\n",
    "\n",
    "G = nx.DiGraph()\n",
    "V = {'Dublin', 'Paris', 'Milan', \"Rome\"}\n",
    "E = [(\"Milan\", \"Dublin\"),(\"Paris\", \"Milan\"),(\"Paris\", \"Dublin\"),(\"Milan\", \"Rome\")]\n",
    "G.add_nodes_from(V)\n",
    "G.add_edges_from(E)\n",
    "\n",
    "nx.draw(G, with_labels = True, font_weight = 'bold')"
   ]
  },
  {
   "cell_type": "code",
   "execution_count": 92,
   "id": "45fac2d0-adc8-48ec-8f9e-41f41dd7c39e",
   "metadata": {},
   "outputs": [
    {
     "data": {
      "text/plain": [
       "[19, 8, 5, 7, 55, 66]"
      ]
     },
     "execution_count": 92,
     "metadata": {},
     "output_type": "execute_result"
    }
   ],
   "source": [
    "dmg = nx.MultiDiGraph()\n",
    "umg = nx.MultiGraph()\n",
    "\n",
    "V = {'Dublin', 'Paris', 'Milan', 'Rome'}\n",
    "E = [('Milan','Dublin', 19), ('Milan','Dublin', 8), ('Paris','Milan', 5), ('Paris','Dublin', 7), ('Milan','Rome', 55), ('Milan','Rome', 66)]\n",
    "\n",
    "dmg.add_nodes_from(V)\n",
    "dmg.add_edges_from(E)"
   ]
  },
  {
   "cell_type": "code",
   "execution_count": 93,
   "id": "ee3eeb8b-f6b1-4c31-b39e-5a0e255e53f5",
   "metadata": {},
   "outputs": [
    {
     "data": {
      "image/png": "[encoded data removed]",
      "text/plain": [
       "<Figure size 432x288 with 1 Axes>"
      ]
     },
     "metadata": {},
     "output_type": "display_data"
    }
   ],
   "source": [
    "nx.draw(dmg, with_labels = True, font_weight = 'bold')"
   ]
  },
  {
   "cell_type": "code",
   "execution_count": 96,
   "id": "18b853e2-308c-42ee-816d-95ff28ab32ff",
   "metadata": {},
   "outputs": [
    {
     "data": {
      "text/html": [
       "<div>\n",
       "<style scoped>\n",
       "    .dataframe tbody tr th:only-of-type {\n",
       "        vertical-align: middle;\n",
       "    }\n",
       "\n",
       "    .dataframe tbody tr th {\n",
       "        vertical-align: top;\n",
       "    }\n",
       "\n",
       "    .dataframe thead th {\n",
       "        text-align: right;\n",
       "    }\n",
       "</style>\n",
       "<table border=\"1\" class=\"dataframe\">\n",
       "  <thead>\n",
       "    <tr style=\"text-align: right;\">\n",
       "      <th></th>\n",
       "      <th>Dublin</th>\n",
       "      <th>Milan</th>\n",
       "      <th>Rome</th>\n",
       "      <th>Paris</th>\n",
       "    </tr>\n",
       "  </thead>\n",
       "  <tbody>\n",
       "    <tr>\n",
       "      <th>Dublin</th>\n",
       "      <td>0.0</td>\n",
       "      <td>0.0</td>\n",
       "      <td>0.0</td>\n",
       "      <td>0.0</td>\n",
       "    </tr>\n",
       "    <tr>\n",
       "      <th>Milan</th>\n",
       "      <td>1.0</td>\n",
       "      <td>0.0</td>\n",
       "      <td>1.0</td>\n",
       "      <td>0.0</td>\n",
       "    </tr>\n",
       "    <tr>\n",
       "      <th>Rome</th>\n",
       "      <td>0.0</td>\n",
       "      <td>0.0</td>\n",
       "      <td>0.0</td>\n",
       "      <td>0.0</td>\n",
       "    </tr>\n",
       "    <tr>\n",
       "      <th>Paris</th>\n",
       "      <td>1.0</td>\n",
       "      <td>1.0</td>\n",
       "      <td>0.0</td>\n",
       "      <td>0.0</td>\n",
       "    </tr>\n",
       "  </tbody>\n",
       "</table>\n",
       "</div>"
      ],
      "text/plain": [
       "        Dublin  Milan  Rome  Paris\n",
       "Dublin     0.0    0.0   0.0    0.0\n",
       "Milan      1.0    0.0   1.0    0.0\n",
       "Rome       0.0    0.0   0.0    0.0\n",
       "Paris      1.0    1.0   0.0    0.0"
      ]
     },
     "execution_count": 96,
     "metadata": {},
     "output_type": "execute_result"
    }
   ],
   "source": [
    "# Adjacency matrix\n",
    "nx.to_pandas_adjacency(G)"
   ]
  },
  {
   "cell_type": "code",
   "execution_count": 95,
   "id": "81aad697-752b-499c-aead-35c9a202295b",
   "metadata": {},
   "outputs": [
    {
     "data": {
      "text/plain": [
       "matrix([[0., 0., 0., 0.],\n",
       "        [1., 0., 1., 0.],\n",
       "        [0., 0., 0., 0.],\n",
       "        [1., 1., 0., 0.]])"
      ]
     },
     "execution_count": 95,
     "metadata": {},
     "output_type": "execute_result"
    }
   ],
   "source": [
    "nx.to_numpy_matrix(G)"
   ]
  },
  {
   "cell_type": "code",
   "execution_count": 97,
   "id": "1e5e5802-9574-4eb3-a5ab-b347d55703db",
   "metadata": {},
   "outputs": [
    {
     "data": {
      "text/html": [
       "<div>\n",
       "<style scoped>\n",
       "    .dataframe tbody tr th:only-of-type {\n",
       "        vertical-align: middle;\n",
       "    }\n",
       "\n",
       "    .dataframe tbody tr th {\n",
       "        vertical-align: top;\n",
       "    }\n",
       "\n",
       "    .dataframe thead th {\n",
       "        text-align: right;\n",
       "    }\n",
       "</style>\n",
       "<table border=\"1\" class=\"dataframe\">\n",
       "  <thead>\n",
       "    <tr style=\"text-align: right;\">\n",
       "      <th></th>\n",
       "      <th>source</th>\n",
       "      <th>target</th>\n",
       "    </tr>\n",
       "  </thead>\n",
       "  <tbody>\n",
       "    <tr>\n",
       "      <th>0</th>\n",
       "      <td>Milan</td>\n",
       "      <td>Dublin</td>\n",
       "    </tr>\n",
       "    <tr>\n",
       "      <th>1</th>\n",
       "      <td>Milan</td>\n",
       "      <td>Dublin</td>\n",
       "    </tr>\n",
       "    <tr>\n",
       "      <th>2</th>\n",
       "      <td>Milan</td>\n",
       "      <td>Rome</td>\n",
       "    </tr>\n",
       "    <tr>\n",
       "      <th>3</th>\n",
       "      <td>Milan</td>\n",
       "      <td>Rome</td>\n",
       "    </tr>\n",
       "    <tr>\n",
       "      <th>4</th>\n",
       "      <td>Paris</td>\n",
       "      <td>Milan</td>\n",
       "    </tr>\n",
       "    <tr>\n",
       "      <th>5</th>\n",
       "      <td>Paris</td>\n",
       "      <td>Dublin</td>\n",
       "    </tr>\n",
       "  </tbody>\n",
       "</table>\n",
       "</div>"
      ],
      "text/plain": [
       "  source  target\n",
       "0  Milan  Dublin\n",
       "1  Milan  Dublin\n",
       "2  Milan    Rome\n",
       "3  Milan    Rome\n",
       "4  Paris   Milan\n",
       "5  Paris  Dublin"
      ]
     },
     "execution_count": 97,
     "metadata": {},
     "output_type": "execute_result"
    }
   ],
   "source": [
    "# Edge list \n",
    "nx.to_pandas_edgelist(dmg)"
   ]
  },
  {
   "cell_type": "code",
   "execution_count": 99,
   "id": "223accf5-25b7-4370-9b1c-7491794b1f4f",
   "metadata": {},
   "outputs": [
    {
     "data": {
      "image/png": "[encoded data removed]",
      "text/plain": [
       "<Figure size 432x288 with 1 Axes>"
      ]
     },
     "metadata": {},
     "output_type": "display_data"
    }
   ],
   "source": [
    "G = nx.petersen_graph()\n",
    "subax1 = plt.subplot(121)\n",
    "nx.draw(G, with_labels=True, font_weight='bold')"
   ]
  },
  {
   "cell_type": "code",
   "execution_count": null,
   "id": "79f23e83-b479-468d-8f4c-83be2a65fed4",
   "metadata": {},
   "outputs": [],
   "source": []
  }
 ],
 "metadata": {
  "kernelspec": {
   "display_name": "Python 3",
   "language": "python",
   "name": "python3"
  },
  "language_info": {
   "codemirror_mode": {
    "name": "ipython",
    "version": 3
   },
   "file_extension": ".py",
   "mimetype": "text/x-python",
   "name": "python",
   "nbconvert_exporter": "python",
   "pygments_lexer": "ipython3",
   "version": "3.9.2"
  }
 },
 "nbformat": 4,
 "nbformat_minor": 5
}
