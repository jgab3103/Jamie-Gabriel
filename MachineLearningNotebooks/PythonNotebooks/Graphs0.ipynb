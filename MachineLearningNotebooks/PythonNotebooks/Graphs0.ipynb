{
 "cells": [
  {
   "cell_type": "code",
   "execution_count": 3,
   "id": "619694b3-41bc-48ad-b77d-fc0021c1cca9",
   "metadata": {},
   "outputs": [],
   "source": [
    "# conda install -c dglteam dgl\n",
    "# pip install torch\n",
    "\n",
    "# import dgl\n",
    "# import torch\n",
    "# import torch.nn as nn\n",
    "# import torch.nn.functional as F\n",
    "\n",
    "# import dgl.data\n",
    "\n",
    "# dataset = dgl.data.CoraGraphDataset()\n",
    "# print('Number of categories:', dataset.num_classes)"
   ]
  },
  {
   "cell_type": "code",
   "execution_count": 9,
   "id": "572999e2-7cd7-4f58-960f-9380f8f4a8c1",
   "metadata": {},
   "outputs": [],
   "source": [
    "import networkx as nx"
   ]
  },
  {
   "cell_type": "code",
   "execution_count": 27,
   "id": "4b2cda45-dfcd-43a4-989e-ea6c8a3f557e",
   "metadata": {},
   "outputs": [
    {
     "data": {
      "text/plain": [
       "NodeView(('Milan',))"
      ]
     },
     "execution_count": 27,
     "metadata": {},
     "output_type": "execute_result"
    }
   ],
   "source": [
    "G = nx.Graph()\n",
    "\n",
    "V = {' Dublin', 'Paris', 'Milan', 'Rome'}\n",
    "E = [(' Milan','Dublin'), (' Milan','Paris'),\n",
    "     (' Paris','Dublin'),(' Milan','Rome')]\n",
    "\n",
    "G.add_nodes_from(V)\n",
    "G.add_edges_from(E)\n",
    "\n",
    "G.nodes\n",
    "G.edges\n",
    "G.number_of_edges()\n",
    "ego = nx.ego_graph(G, \"Milan\")\n",
    "ego.nodes"
   ]
  },
  {
   "cell_type": "code",
   "execution_count": null,
   "id": "90e80dfc-bef7-4b4d-8276-b19d97574d25",
   "metadata": {},
   "outputs": [],
   "source": []
  }
 ],
 "metadata": {
  "kernelspec": {
   "display_name": "Python 3",
   "language": "python",
   "name": "python3"
  },
  "language_info": {
   "codemirror_mode": {
    "name": "ipython",
    "version": 3
   },
   "file_extension": ".py",
   "mimetype": "text/x-python",
   "name": "python",
   "nbconvert_exporter": "python",
   "pygments_lexer": "ipython3",
   "version": "3.9.2"
  }
 },
 "nbformat": 4,
 "nbformat_minor": 5
}
