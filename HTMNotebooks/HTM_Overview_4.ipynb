{
 "cells": [
  {
   "cell_type": "markdown",
   "metadata": {},
   "source": [
    "<i>STATUS: Draft<i>"
   ]
  },
  {
   "cell_type": "code",
   "execution_count": 79,
   "metadata": {},
   "outputs": [],
   "source": [
    "import numpy as np\n",
    "import sympy as sp\n",
    "from IPython.display import HTML, IFrame\n",
    "import matplotlib.pyplot as plt\n",
    "from matplotlib import animation\n",
    "from matplotlib.patches import Rectangle\n",
    "from IPython.display import Image\n",
    "import HTM_Code as hc\n",
    "import sys\n"
   ]
  },
  {
   "cell_type": "markdown",
   "metadata": {},
   "source": [
    "<h2>HTM Overview 4: Building an encoder</h2>\n",
    "\n",
    "We now have a pretty strong handle on SDRs and a number of measures from which to understand them. SDRs are a powerful data structure, that can take the the data we experience in teh world and put it into a standard format. Now its time, to go deeper, with encoders "
   ]
  },
  {
   "cell_type": "code",
   "execution_count": 180,
   "metadata": {},
   "outputs": [
    {
     "data": {
      "text/html": [
       "<table style=\"width:100%\"><tr><td><iframe style=\"background:#99ddff; color:black; padding: 10px\" width=\"400\" height=\"315\" src=\"https://www.youtube.com/embed/V3Yqtpytif0\" title=\"YouTube video player\" frameborder=\"0\" allow=\"accelerometer; autoplay; clipboard-write; encrypted-media; gyroscope; picture-in-picture\" allowfullscreen></iframe></td><td><iframe  style=\"background:#99ddff; color:black; padding: 10px\" width=\"400\" height=\"315\" src=\"https://www.youtube.com/embed/PTYlge2K1G8\" title=\"YouTube video player\" frameborder=\"0\" allow=\"accelerometer; autoplay; clipboard-write; encrypted-media; gyroscope; picture-in-picture\" allowfullscreen></iframe></td></tr>"
      ],
      "text/plain": [
       "<IPython.core.display.HTML object>"
      ]
     },
     "execution_count": 180,
     "metadata": {},
     "output_type": "execute_result"
    }
   ],
   "source": [
    "ep7 = '<iframe style=\"background:#99ddff; color:black; padding: 10px\" width=\"400\" height=\"315\" src=\"https://www.youtube.com/embed/V3Yqtpytif0\" title=\"YouTube video player\" frameborder=\"0\" allow=\"accelerometer; autoplay; clipboard-write; encrypted-media; gyroscope; picture-in-picture\" allowfullscreen></iframe>'\n",
    "ep8 = '<iframe  style=\"background:#99ddff; color:black; padding: 10px\" width=\"400\" height=\"315\" src=\"https://www.youtube.com/embed/PTYlge2K1G8\" title=\"YouTube video player\" frameborder=\"0\" allow=\"accelerometer; autoplay; clipboard-write; encrypted-media; gyroscope; picture-in-picture\" allowfullscreen></iframe>'\n",
    "table = '<table style=\"width:100%\"><tr><td>' + ep7 + '</td><td>' + ep8 + '</td></tr>'\n",
    "HTML(table)"
   ]
  },
  {
   "cell_type": "markdown",
   "metadata": {},
   "source": [
    "<h4>Episode 5</h4>\n",
    "\n",
    "The idea of an encoder is really bound up with how related pieces of information gets put into the SDR format. The BAMI document provices four things that encoders that: \n",
    "\n",
    "1. An encoder can recieve semantically similar pices of data and tranform it into SDRs with overlapping active bits.\n",
    "\n",
    "2. The same input into an encoder should always produce the same SDR as output.\n",
    "\n",
    "3. The output should have the same dimensionality (total number of bits) for all inputs.\n",
    "\n",
    "4. The output should have similar sparsity for all inputs and have enough one-bits to handle noise and\n",
    "    subsampling.\n",
    "    \n"
   ]
  },
  {
   "cell_type": "markdown",
   "metadata": {},
   "source": [
    "\n"
   ]
  },
  {
   "cell_type": "markdown",
   "metadata": {},
   "source": [
    " For now, encoder is a function that allows passing of pieces of information that are correlated in some way. The phrase \"semantically similiar\" means the meaning is similiar captures the relationship, but  So for example, integers, passed into an encoder, relationships that are similiar in a domain are encoded, we are encoding the correlation \n",
    "\n",
    "Encoder is an object that assigns similiar SDRs by the domain similiarity. So in the domain of integers, 1 is closer to 2. In the domain of finite fields, say. \n",
    "\n",
    "To get a better sense of exactly what an encoder is, let's build one in Python. I will create the code first, and then we can walk through it to gain a better understanding:"
   ]
  },
  {
   "cell_type": "code",
   "execution_count": 150,
   "metadata": {},
   "outputs": [],
   "source": [
    "class Encoder:\n",
    "    def __init__(self, bit_space_size = None,\n",
    "                number_of_bits_used_to_encode_value = None,\n",
    "                min_val = None,\n",
    "                max_val = None,\n",
    "                resolution = None,\n",
    "                is_randomly_distributed = None,\n",
    "                clip_values_outside_range = None,\n",
    "                is_periodic = None):\n",
    "\n",
    "        self.bit_space_size = bit_space_size\n",
    "        self.number_of_bits_used_to_encode_value = number_of_bits_used_to_encode_value\n",
    "        self.clip_values_outside_range = clip_values_outside_range\n",
    "        self.is_periodic = is_periodic\n",
    "        self.is_randomly_distributed = is_randomly_distributed\n",
    "\n",
    "        self.resolution = resolution\n",
    "        self.uniqueness = 1\n",
    "        self.permittedSimiliarityBetweenEncodings = .90 \n",
    "        self.similiarityIsPercentage = True\n",
    "        self.min_value_to_encode = min_val\n",
    "        self.max_value_to_encode = max_val\n",
    "        self.max_bit_space_value = bit_space_size\n",
    "        self.min_bit_space_value = 0\n",
    "        self.buckets = []\n",
    "        self.encoded_values_bit_locations = []\n",
    "        self.offset_for_array_indice = 1\n",
    "        self.encodedValues = {}\n",
    "        \n",
    "        self.bucket_capacity = self.computeBucketCapacity()\n",
    "        \n",
    "        if self.is_randomly_distributed:\n",
    "            self.initial_encoding = np.array(hc.create_randomised_sdr(self.bit_space_size, self.number_of_bits_used_to_encode_value))\n",
    "\n",
    "            self.encoded_values_and_bit_locations = {str(self.min_value_to_encode):self.initial_encoding}\n",
    "            self.buckets.append(self.min_value_to_encode)\n",
    "            self.encoded_values_bit_locations.append(np.array(self.initial_encoding))\n",
    "        \n",
    "    def get_summary(self):\n",
    "        \"\"\" Returns a summary of the encoder settings\"\"\"\n",
    "        print(\"----------------- SUMMARY -------------------------\")\n",
    "        print(\"|L3| Bit Space Size: \", self.bit_space_size)\n",
    "        print(\"|L4| Number of bits to be used when encoding each value:\", self.number_of_bits_used_to_encode_value)\n",
    "        \n",
    "        print(\"|L5| Range of values that can be encoded: From \", self.min_value_to_encode, ' to ', self.max_value_to_encode)\n",
    "        if self.is_periodic:\n",
    "            print(\"|L6| Number of buckets available in bit space: Unlimited (is periodic)\")\n",
    "        else:\n",
    "            print(\"|L6| Number of buckets available in bit space:\", float(self.bucket_capacity))\n",
    "        print(\"|L1| Encode periodically: \", self.is_periodic)\n",
    "        print(\"|L1| Values are encoded as are randomly distributed arrays: \", self.is_randomly_distributed)\n",
    "        print(\"|L1| Resolution: \", self.resolution)\n",
    "        print(\"|L1| Similiarity between encodings: \", self.uniqueness)\n",
    "        print(\"|L2| Values outside range will to be clipped: \",self.clip_values_outside_range)\n",
    "        print(\"----------------------------------------------------\")\n",
    "\n",
    "        \n",
    "    def computeBucketCapacity(self):\n",
    "        \"\"\"Computes bucket capacity. If is set to periodic, this is not tracked\"\"\"\n",
    "        if self.is_randomly_distributed:\n",
    "            return(np.floor(sp.binomial(self.bit_space_size, self.number_of_bits_used_to_encode_value) / self.resolution))\n",
    "        else:\n",
    "            return(np.floor((self.bit_space_size - self.number_of_bits_used_to_encode_value + 1)/ self.resolution))\n",
    "\n",
    "    def makeRandomMove(self):\n",
    "        \n",
    "        newBitLocationsMayHaveClashWithExistingBitLocations = True\n",
    "        while(newBitLocationsMayHaveClashWithExistingBitLocations):\n",
    "            random_bit_index_to_move = np.random.randint(0, self.number_of_bits_used_to_encode_value, 1)[0]\n",
    "            random_direction_to_move = np.random.randint(0, 2, 1)\n",
    "\n",
    "            next_sdr = self.encoded_values_bit_locations[-1].copy()\n",
    "            value = next_sdr[random_bit_index_to_move]\n",
    "\n",
    "            if random_direction_to_move == 1:\n",
    "                value = next_sdr[random_bit_index_to_move] + 1\n",
    "            else: \n",
    "                value = next_sdr[random_bit_index_to_move] - 1\n",
    "\n",
    "            if value > self.max_bit_space_value:\n",
    "                if self.is_periodic:\n",
    "                    value = self.min_bit_space_value\n",
    "                else:\n",
    "                    value = value - 2\n",
    "            elif value < self.min_bit_space_value:\n",
    "                if self.is_periodic:\n",
    "                    value = self.max_bit_space_value\n",
    "                else:\n",
    "                    value = value + 2\n",
    "\n",
    "            next_sdr[random_bit_index_to_move] = value\n",
    "            newBitLocationsMayHaveClashWithExistingBitLocations = np.any(np.all(next_sdr == self.encoded_values_bit_locations, axis=1))\n",
    "            \n",
    "        return(next_sdr)\n",
    "    \n",
    "    def createBucketsForRandomlyEncodedValues(self, iterations_needed):\n",
    "        for i in range(0, iterations_needed):\n",
    "            next_sdr = self.makeRandomMove()\n",
    "            self.encoded_values_bit_locations.append(next_sdr.copy())\n",
    "            self.buckets.append(np.array(self.buckets[-1] + 1))\n",
    "            self.encoded_values_and_bit_locations[str(self.buckets[-1])] = next_sdr.copy()\n",
    "\n",
    "    \n",
    "    def checkWhichBucket(self, valueChoice):\n",
    "        bucket = np.floor(valueChoice / self.resolution)\n",
    "        return(int(bucket))\n",
    "        \n",
    "    def updateEncodedValuesDictionary(self):\n",
    "        for i in range(len(self.buckets)):\n",
    "            self.encodedValues[str(self.buckets[i])] = {\"bitLocations\": list(self.encoded_values_bit_locations[i]),\n",
    "                                                        \"encodedValues\": np.arange(start=(self.buckets[i] * self.resolution), \n",
    "                                                         stop=(self.buckets[i] * self.resolution) + self.resolution, step=1)}\n",
    "                    \n",
    "    \n",
    "    def encode_value_in_bit_space(self, value_choice):\n",
    "\n",
    "        bucket = self.checkWhichBucket(value_choice)\n",
    "        print(\"\\nEncoding the value ->\", value_choice, \"in bucket ->\", bucket)\n",
    "        value_choice = bucket\n",
    "        \n",
    "        \n",
    "        \n",
    "        if (value_choice < self.min_value_to_encode or value_choice > self.max_value_to_encode): \n",
    "            if self.clip_values_outside_range:\n",
    "                valuePriorToClipping = value_choice\n",
    "                if value_choice < self.min_value_to_encode:\n",
    "                    value_choice = self.min_value_to_encode\n",
    "                else:\n",
    "                    value_choice = self.max_value_to_encode\n",
    "                print(\"The value of: \", valuePriorToClipping, \"has been clipped to ->\", value_choice)\n",
    "            else:\n",
    "                print(\"Not a valid choice (clipValuesOutsideRange has been set to False)\")\n",
    "                return\n",
    "\n",
    "\n",
    "        if self.is_randomly_distributed:\n",
    "            if (value_choice < self.buckets[-1]):\n",
    "                print(\"There is a bucket already created for the value\", value_choice, \"-> \", \n",
    "                      self.encoded_values_and_bit_locations[str(value_choice)])\n",
    "                return\n",
    "            \n",
    "            buckets_needed_to_encode_value = value_choice - self.buckets[-1]\n",
    "            print(\"Current number of encoded values: \" , len(self.buckets))\n",
    "  \n",
    "            print(\"Value encoded in first bucket: \", self.min_value_to_encode)\n",
    "            print(\"Number of additional buckets required to accomodate the value choice of\", value_choice, \": \", buckets_needed_to_encode_value)\n",
    "            self.createBucketsForRandomlyEncodedValues(buckets_needed_to_encode_value)\n",
    "        \n",
    "        else:\n",
    "            window = [value_choice, value_choice + self.number_of_bits_used_to_encode_value]\n",
    "\n",
    "            if self.is_periodic:\n",
    "\n",
    "                inputValues = np.arange(0,self.bit_space_size)\n",
    "                all_values =  []\n",
    "\n",
    "                for eachValue in range(window[0], window[1]):\n",
    "                    all_values.append(inputValues[eachValue % self.bit_space_size])\n",
    "    \n",
    "                self.encoded_values_bit_locations.append(all_values)\n",
    "                self.buckets.append(value_choice)\n",
    "\n",
    "            else:\n",
    " \n",
    "                all_values = np.arange(window[0], window[1])\n",
    "                self.encoded_values_bit_locations.append(all_values)\n",
    "                self.buckets.append(value_choice)\n",
    "   \n",
    "           \n",
    "\n",
    " "
   ]
  },
  {
   "cell_type": "markdown",
   "metadata": {},
   "source": [
    "There are quite few functions here, and some of them are for future encoders we might want to build, so we will just take it simply. \n",
    "\n",
    "The first thing to is initialise an encoder and pass it some values, and get a summary:"
   ]
  },
  {
   "cell_type": "code",
   "execution_count": 151,
   "metadata": {},
   "outputs": [
    {
     "name": "stdout",
     "output_type": "stream",
     "text": [
      "----------------- SUMMARY -------------------------\n",
      "|L3| Bit Space Size:  100\n",
      "|L4| Number of bits to be used when encoding each value: 8\n",
      "|L5| Range of values that can be encoded: From  0  to  56\n",
      "|L6| Number of buckets available in bit space: 93.0\n",
      "|L1| Encode periodically:  False\n",
      "|L1| Values are encoded as are randomly distributed arrays:  False\n",
      "|L1| Resolution:  1\n",
      "|L1| Similiarity between encodings:  1\n",
      "|L2| Values outside range will to be clipped:  True\n",
      "----------------------------------------------------\n"
     ]
    }
   ],
   "source": [
    "bit_space_size_choice = 100\n",
    "number_of_bits_used_to_encode_value_choice = 8\n",
    "e1 = Encoder(bit_space_size = bit_space_size_choice,\n",
    "                number_of_bits_used_to_encode_value = number_of_bits_used_to_encode_value_choice,\n",
    "                min_val = 0,\n",
    "                max_val = 56,\n",
    "             resolution=1,\n",
    "            is_randomly_distributed = False,\n",
    "            clip_values_outside_range = True,\n",
    "            is_periodic = False)\n",
    "e1.get_summary()"
   ]
  },
  {
   "cell_type": "markdown",
   "metadata": {},
   "source": [
    "So what is this encoder telling us? Our encoder will encode values of  note that, for now at least, we are not worried about efficienty, but simplicity. let's create an instance of it with some initial parameters and see what it can do:"
   ]
  },
  {
   "cell_type": "markdown",
   "metadata": {},
   "source": [
    "Our encoder tells us it has some initial set up. The whole bit space appears to be 64, and any value that I would want to encode in this space will be 5 bits in length. If you think of this as an array with length 64, I can put 50 buckets (the first starting at index 1 of the array, the second starting at index two) into that space and its possible to encode 60 unique values. \n",
    "\n",
    "My initital settings however say that the range to from -10 to 100. So this will let me put any scalar, starting from -10 onwards, until I run out of buckets. After that, for any number I try and encode to the top of my range, it will just encode it to the very last bucket. We We can get around this by setting the encoder to periodic, which will do so later, or by just scaling back the range so the buckets can accomodate it. \n",
    "\n",
    "Note that the number of 50 buckets assumes that I have 1 unique bits per encoded value. So, for example, the value 8 and 9 starts at array indice 8 and 9 respectively, and 8 has 1 unique bit and the rest shared with adjacenct values. \n",
    "\n",
    "So now let's put some values into my encoder"
   ]
  },
  {
   "cell_type": "code",
   "execution_count": 152,
   "metadata": {},
   "outputs": [
    {
     "name": "stdout",
     "output_type": "stream",
     "text": [
      "\n",
      "Encoding the value -> 5 in bucket -> 5\n",
      "\n",
      "Encoding the value -> 99 in bucket -> 99\n",
      "The value of:  99 has been clipped to -> 56\n",
      "\n",
      "Encoding the value -> 33 in bucket -> 33\n",
      "\n",
      "Encoding the value -> 34 in bucket -> 34\n",
      "----------------- SUMMARY -------------------------\n",
      "|L3| Bit Space Size:  100\n",
      "|L4| Number of bits to be used when encoding each value: 8\n",
      "|L5| Range of values that can be encoded: From  0  to  56\n",
      "|L6| Number of buckets available in bit space: 93.0\n",
      "|L1| Encode periodically:  False\n",
      "|L1| Values are encoded as are randomly distributed arrays:  False\n",
      "|L1| Resolution:  1\n",
      "|L1| Similiarity between encodings:  1\n",
      "|L2| Values outside range will to be clipped:  True\n",
      "----------------------------------------------------\n"
     ]
    }
   ],
   "source": [
    "e1.encode_value_in_bit_space(value_choice=5)\n",
    "e1.encode_value_in_bit_space(value_choice=99)\n",
    "e1.encode_value_in_bit_space(value_choice=33)\n",
    "e1.encode_value_in_bit_space(value_choice=34)\n",
    "e1.get_summary()"
   ]
  },
  {
   "cell_type": "code",
   "execution_count": 153,
   "metadata": {},
   "outputs": [
    {
     "data": {
      "text/plain": [
       "{'5': {'bitLocations': [5, 6, 7, 8, 9, 10, 11, 12],\n",
       "  'encodedValues': array([5])},\n",
       " '56': {'bitLocations': [56, 57, 58, 59, 60, 61, 62, 63],\n",
       "  'encodedValues': array([56])},\n",
       " '33': {'bitLocations': [33, 34, 35, 36, 37, 38, 39, 40],\n",
       "  'encodedValues': array([33])},\n",
       " '34': {'bitLocations': [34, 35, 36, 37, 38, 39, 40, 41],\n",
       "  'encodedValues': array([34])}}"
      ]
     },
     "execution_count": 153,
     "metadata": {},
     "output_type": "execute_result"
    }
   ],
   "source": [
    "e1.updateEncodedValuesDictionary()\n",
    "e1.encodedValues"
   ]
  },
  {
   "cell_type": "markdown",
   "metadata": {},
   "source": [
    "I have encoded in order, 34, 33, 5 and 99. This leaves me a current encoded value of 13, and a bunch of previous values I have encoded. My encoder is holding onto these so we can to comparisons. \n",
    "\n",
    "Let's visualise this using the visualization functions we have already created: "
   ]
  },
  {
   "cell_type": "code",
   "execution_count": 154,
   "metadata": {},
   "outputs": [
    {
     "data": {
      "image/png": "[encoded data removed]",
      "text/plain": [
       "<Figure size 1152x216 with 5 Axes>"
      ]
     },
     "metadata": {
      "needs_background": "light"
     },
     "output_type": "display_data"
    }
   ],
   "source": [
    "fig, (ax1, ax2, ax3, ax4, ax5) = plt.subplots(1, 5, figsize=(16, 3))\n",
    "\n",
    "ax1 = hc.create_axis_for_sdr(ax1, np.sqrt(bit_space_size_choice) + 1, np.sqrt(bit_space_size_choice) + 1, number_of_bits_used_to_encode_value_choice, \"34\")\n",
    "ax2 = hc.create_axis_for_sdr(ax2, np.sqrt(bit_space_size_choice) + 1, np.sqrt(bit_space_size_choice) + 1, number_of_bits_used_to_encode_value_choice, \"33\")\n",
    "ax3 = hc.create_axis_for_sdr(ax3, np.sqrt(bit_space_size_choice) + 1, np.sqrt(bit_space_size_choice) + 1, number_of_bits_used_to_encode_value_choice, \"34 and 33\")\n",
    "ax4 = hc.create_axis_for_sdr(ax4, np.sqrt(bit_space_size_choice) + 1, np.sqrt(bit_space_size_choice) + 1, number_of_bits_used_to_encode_value_choice, \"33 and 5\")\n",
    "ax5 = hc.create_axis_for_sdr(ax5, np.sqrt(bit_space_size_choice) + 1, np.sqrt(bit_space_size_choice) + 1, number_of_bits_used_to_encode_value_choice, \"99 (clipped)\")\n",
    "\n",
    "coords1 = hc.convert_sdr_to_tuple_for_visualisation(e1.encodedValues['34']['bitLocations'], bit_space_size_choice)\n",
    "coords2 = hc.convert_sdr_to_tuple_for_visualisation(e1.encodedValues['33']['bitLocations'], bit_space_size_choice)\n",
    "coords3 = hc.convert_sdr_to_tuple_for_visualisation(e1.encodedValues['5']['bitLocations'], bit_space_size_choice)\n",
    "\n",
    "union_and_overlap = hc.compute_union_and_overlap(e1.encodedValues['33']['bitLocations'], e1.encodedValues['34']['bitLocations'])\n",
    "\n",
    "coords4 = hc.convert_sdr_to_tuple_for_visualisation(union_and_overlap['union'], bit_space_size_choice)\n",
    "coords5 = hc.convert_sdr_to_tuple_for_visualisation(union_and_overlap['overlap'], bit_space_size_choice)\n",
    "\n",
    "coords6 = hc.convert_sdr_to_tuple_for_visualisation(e1.encodedValues['56']['bitLocations'], bit_space_size_choice)\n",
    "\n",
    "\n",
    "SDR1 = [ax1.add_patch(Rectangle(coords1[i], 1, 1, color=\"blue\")) for i in range(len(coords1))]\n",
    "SDR2 = [ax2.add_patch(Rectangle(coords2[i], 1, 1, color=\"blue\")) for i in range(len(coords2))]\n",
    "SDR3 = [ax3.add_patch(Rectangle(coords4[i], 1, 1, color=\"orange\")) for i in range(len(coords4))]\n",
    "SDR3 = [ax3.add_patch(Rectangle(coords5[i], 1, 1, color=\"blue\")) for i in range(len(coords5))]\n",
    "SDR4 = [ax4.add_patch(Rectangle(coords1[i], 1, 1, color=\"orange\")) for i in range(len(coords1))]\n",
    "SDR4 = [ax4.add_patch(Rectangle(coords3[i], 1, 1, color=\"blue\")) for i in range(len(coords3))]\n",
    "SDR5 = [ax5.add_patch(Rectangle(coords6[i], 1, 1, color=\"blue\")) for i in range(len(coords6))]\n"
   ]
  },
  {
   "cell_type": "markdown",
   "metadata": {},
   "source": [
    "<div style=\"background:#99ddff; color:black; padding: 10px\">\n",
    "<b>Add to these notes:</b>\n",
    "\n",
    "I want to keep these notes in HTML so I don't have to host on a server, but a great exceriise is to use the ipython widgets to experience this like it happens in the video. \n",
    "</div>"
   ]
  },
  {
   "cell_type": "markdown",
   "metadata": {},
   "source": [
    "So we have 5 visualisations here: 41, 42, the overlap between then similiar and we can see this by looking at comparison. Ten for any value that is in our range but not buckets, we will just the max back, so the value 99. \n",
    "\n",
    "Note there is an underlying idea here of semantic similiarity. How different is 41 and 5. the simplest metric. This gives us a value between 0 and 1 that tells us about thier similiarity. We will get to that soon, but first, let's do another one, this time random: "
   ]
  },
  {
   "cell_type": "code",
   "execution_count": 155,
   "metadata": {},
   "outputs": [
    {
     "name": "stdout",
     "output_type": "stream",
     "text": [
      "----------------- SUMMARY -------------------------\n",
      "|L3| Bit Space Size:  64\n",
      "|L4| Number of bits to be used when encoding each value: 8\n",
      "|L5| Range of values that can be encoded: From  0  to  300\n",
      "|L6| Number of buckets available in bit space: 4426165368.0\n",
      "|L1| Encode periodically:  False\n",
      "|L1| Values are encoded as are randomly distributed arrays:  True\n",
      "|L1| Resolution:  1\n",
      "|L1| Similiarity between encodings:  1\n",
      "|L2| Values outside range will to be clipped:  True\n",
      "----------------------------------------------------\n"
     ]
    }
   ],
   "source": [
    "bit_space_size_choice = 64\n",
    "number_of_bits_used_to_encode_value_choice = 8\n",
    "e2 = Encoder(bit_space_size = bit_space_size_choice,\n",
    "                number_of_bits_used_to_encode_value = number_of_bits_used_to_encode_value_choice,\n",
    "                min_val = 0,\n",
    "                max_val = 300,\n",
    "             resolution=1,\n",
    "            is_randomly_distributed = True,\n",
    "            clip_values_outside_range = True,\n",
    "            is_periodic = False)\n",
    "e2.get_summary()"
   ]
  },
  {
   "cell_type": "markdown",
   "metadata": {},
   "source": [
    "So this encoder has some different settings. The main difference I have set <code>is_randomly_distributed</code> to True. This means that each value is a randomly distributed array. When I set the encoder like this, it creates the randomly distrubted array for the minimum value in the range. Let's visualise it: "
   ]
  },
  {
   "cell_type": "code",
   "execution_count": 156,
   "metadata": {},
   "outputs": [
    {
     "data": {
      "text/plain": [
       "{'0': {'bitLocations': [33, 2, 9, 16, 53, 22, 57, 62],\n",
       "  'encodedValues': array([0])}}"
      ]
     },
     "execution_count": 156,
     "metadata": {},
     "output_type": "execute_result"
    }
   ],
   "source": [
    "e2.updateEncodedValuesDictionary()\n",
    "e2.encodedValues"
   ]
  },
  {
   "cell_type": "code",
   "execution_count": 157,
   "metadata": {},
   "outputs": [
    {
     "data": {
      "image/png": "[encoded data removed]",
      "text/plain": [
       "<Figure size 288x288 with 1 Axes>"
      ]
     },
     "metadata": {
      "needs_background": "light"
     },
     "output_type": "display_data"
    }
   ],
   "source": [
    "fig, (ax1) = plt.subplots(1, 1, figsize=(4, 4))\n",
    "ax1 = hc.create_axis_for_sdr(ax1, np.sqrt(bit_space_size_choice) + 1, np.sqrt(bit_space_size_choice) + 1, number_of_bits_used_to_encode_value_choice, \"Encoded value: 1\")\n",
    "coords1 = hc.convert_sdr_to_tuple_for_visualisation(e2.encodedValues['0']['bitLocations'], bit_space_size_choice)\n",
    "SDR1 = [ax1.add_patch(Rectangle(coords1[i], 1, 1, color=\"blue\")) for i in range(len(coords1))]"
   ]
  },
  {
   "cell_type": "markdown",
   "metadata": {},
   "source": [
    "Note it still needs to be semantic"
   ]
  },
  {
   "cell_type": "code",
   "execution_count": 158,
   "metadata": {},
   "outputs": [
    {
     "name": "stdout",
     "output_type": "stream",
     "text": [
      "\n",
      "Encoding the value -> 1 in bucket -> 1\n",
      "Current number of encoded values:  1\n",
      "Value encoded in first bucket:  0\n",
      "Number of additional buckets required to accomodate the value choice of 1 :  1\n"
     ]
    }
   ],
   "source": [
    "e2.encode_value_in_bit_space(value_choice=1)"
   ]
  },
  {
   "cell_type": "code",
   "execution_count": 159,
   "metadata": {},
   "outputs": [
    {
     "name": "stdout",
     "output_type": "stream",
     "text": [
      "\n",
      "Encoding the value -> 6 in bucket -> 6\n",
      "Current number of encoded values:  2\n",
      "Value encoded in first bucket:  0\n",
      "Number of additional buckets required to accomodate the value choice of 6 :  5\n"
     ]
    }
   ],
   "source": [
    "e2.encode_value_in_bit_space(value_choice= 6)"
   ]
  },
  {
   "cell_type": "markdown",
   "metadata": {},
   "source": [
    "So now there are 7 buckets that have been created: "
   ]
  },
  {
   "cell_type": "code",
   "execution_count": 160,
   "metadata": {},
   "outputs": [
    {
     "name": "stdout",
     "output_type": "stream",
     "text": [
      "\n",
      "Encoding the value -> -10 in bucket -> -10\n",
      "The value of:  -10 has been clipped to -> 0\n",
      "There is a bucket already created for the value 0 ->  [33  2  9 16 53 22 57 62]\n"
     ]
    }
   ],
   "source": [
    "e2.encode_value_in_bit_space(value_choice= -10)"
   ]
  },
  {
   "cell_type": "code",
   "execution_count": 161,
   "metadata": {},
   "outputs": [
    {
     "data": {
      "text/plain": [
       "{'0': array([33,  2,  9, 16, 53, 22, 57, 62]),\n",
       " '1': array([33,  2,  9, 16, 53, 22, 57, 63]),\n",
       " '2': array([33,  2,  9, 15, 53, 22, 57, 63]),\n",
       " '3': array([33,  2,  9, 15, 53, 23, 57, 63]),\n",
       " '4': array([33,  2,  9, 15, 52, 23, 57, 63]),\n",
       " '5': array([33,  2,  8, 15, 52, 23, 57, 63]),\n",
       " '6': array([33,  3,  8, 15, 52, 23, 57, 63])}"
      ]
     },
     "execution_count": 161,
     "metadata": {},
     "output_type": "execute_result"
    }
   ],
   "source": [
    "e2.encoded_values_and_bit_locations"
   ]
  },
  {
   "cell_type": "code",
   "execution_count": 162,
   "metadata": {},
   "outputs": [
    {
     "data": {
      "text/plain": [
       "{'0': {'bitLocations': [33, 2, 9, 16, 53, 22, 57, 62],\n",
       "  'encodedValues': array([0])},\n",
       " '1': {'bitLocations': [33, 2, 9, 16, 53, 22, 57, 63],\n",
       "  'encodedValues': array([1])},\n",
       " '2': {'bitLocations': [33, 2, 9, 15, 53, 22, 57, 63],\n",
       "  'encodedValues': array([2])},\n",
       " '3': {'bitLocations': [33, 2, 9, 15, 53, 23, 57, 63],\n",
       "  'encodedValues': array([3])},\n",
       " '4': {'bitLocations': [33, 2, 9, 15, 52, 23, 57, 63],\n",
       "  'encodedValues': array([4])},\n",
       " '5': {'bitLocations': [33, 2, 8, 15, 52, 23, 57, 63],\n",
       "  'encodedValues': array([5])},\n",
       " '6': {'bitLocations': [33, 3, 8, 15, 52, 23, 57, 63],\n",
       "  'encodedValues': array([6])}}"
      ]
     },
     "execution_count": 162,
     "metadata": {},
     "output_type": "execute_result"
    }
   ],
   "source": [
    "e2.updateEncodedValuesDictionary()\n",
    "e2.encodedValues"
   ]
  },
  {
   "cell_type": "code",
   "execution_count": 163,
   "metadata": {},
   "outputs": [
    {
     "data": {
      "image/png": "[encoded data removed]",
      "text/plain": [
       "<Figure size 1152x216 with 4 Axes>"
      ]
     },
     "metadata": {
      "needs_background": "light"
     },
     "output_type": "display_data"
    }
   ],
   "source": [
    "fig, (ax1, ax2, ax3, ax4) = plt.subplots(1, 4, figsize=(16, 3))\n",
    "\n",
    "ax1 = hc.create_axis_for_sdr(ax1, np.sqrt(bit_space_size_choice) + 1, np.sqrt(bit_space_size_choice) + 1, number_of_bits_used_to_encode_value_choice, \"Encoded value: 0\")\n",
    "ax2 = hc.create_axis_for_sdr(ax2, np.sqrt(bit_space_size_choice) + 1, np.sqrt(bit_space_size_choice) + 1, number_of_bits_used_to_encode_value_choice, \"Encoded value: 1\")\n",
    "ax3 = hc.create_axis_for_sdr(ax3, np.sqrt(bit_space_size_choice) + 1, np.sqrt(bit_space_size_choice) + 1, number_of_bits_used_to_encode_value_choice, \"Encoded value: 6\")\n",
    "ax4 = hc.create_axis_for_sdr(ax4, np.sqrt(bit_space_size_choice) + 1, np.sqrt(bit_space_size_choice) + 1, number_of_bits_used_to_encode_value_choice, \"Encoded value: -10\")\n",
    "\n",
    "coords1 = hc.convert_sdr_to_tuple_for_visualisation(e2.encodedValues['0']['bitLocations'], bit_space_size_choice)\n",
    "coords2 = hc.convert_sdr_to_tuple_for_visualisation(e2.encodedValues['1']['bitLocations'], bit_space_size_choice)\n",
    "coords3 = hc.convert_sdr_to_tuple_for_visualisation(e2.encodedValues['6']['bitLocations'], bit_space_size_choice)\n",
    "coords4 = hc.convert_sdr_to_tuple_for_visualisation(e2.encodedValues['0']['bitLocations'], bit_space_size_choice)\n",
    "\n",
    "p1 = [ax1.add_patch(Rectangle(coords1[i], 1, 1, color=\"blue\")) for i in range(len(coords1))]\n",
    "p2 = [ax2.add_patch(Rectangle(coords2[i], 1, 1, color=\"blue\")) for i in range(len(coords2))]\n",
    "p3 = [ax3.add_patch(Rectangle(coords3[i], 1, 1, color=\"blue\")) for i in range(len(coords3))]\n",
    "p4 = [ax4.add_patch(Rectangle(coords4[i], 1, 1, color=\"blue\")) for i in range(len(coords4))]"
   ]
  },
  {
   "cell_type": "markdown",
   "metadata": {},
   "source": [
    "Let's do another example. This time we will set the encoder settings so periodic, and won't worry about clipping value"
   ]
  },
  {
   "cell_type": "code",
   "execution_count": 164,
   "metadata": {},
   "outputs": [
    {
     "name": "stdout",
     "output_type": "stream",
     "text": [
      "----------------- SUMMARY -------------------------\n",
      "|L3| Bit Space Size:  64\n",
      "|L4| Number of bits to be used when encoding each value: 8\n",
      "|L5| Range of values that can be encoded: From  0  to  300\n",
      "|L6| Number of buckets available in bit space: Unlimited (is periodic)\n",
      "|L1| Encode periodically:  True\n",
      "|L1| Values are encoded as are randomly distributed arrays:  False\n",
      "|L1| Resolution:  1\n",
      "|L1| Similiarity between encodings:  1\n",
      "|L2| Values outside range will to be clipped:  False\n",
      "----------------------------------------------------\n"
     ]
    }
   ],
   "source": [
    "bit_space_size_choice = 64\n",
    "number_of_bits_used_to_encode_value_choice = 8\n",
    "e3 = Encoder(bit_space_size = bit_space_size_choice,\n",
    "                number_of_bits_used_to_encode_value = number_of_bits_used_to_encode_value_choice,\n",
    "                min_val = 0,\n",
    "                max_val = 300,\n",
    "             resolution=1,\n",
    "            is_randomly_distributed = False,\n",
    "            clip_values_outside_range = False,\n",
    "            is_periodic = True)\n",
    "e3.get_summary()"
   ]
  },
  {
   "cell_type": "markdown",
   "metadata": {},
   "source": [
    "Note that setting it to periodic menas there is not limit to the buckets. Whatever we give it, it will just wrap around. To understand this, let's encode some values: "
   ]
  },
  {
   "cell_type": "code",
   "execution_count": 165,
   "metadata": {},
   "outputs": [
    {
     "name": "stdout",
     "output_type": "stream",
     "text": [
      "\n",
      "Encoding the value -> 1 in bucket -> 1\n",
      "\n",
      "Encoding the value -> 2 in bucket -> 2\n",
      "\n",
      "Encoding the value -> 60 in bucket -> 60\n",
      "\n",
      "Encoding the value -> 68 in bucket -> 68\n"
     ]
    }
   ],
   "source": [
    "e3.encode_value_in_bit_space(value_choice= 1)\n",
    "e3.encode_value_in_bit_space(value_choice= 2)\n",
    "e3.encode_value_in_bit_space(value_choice= 60)\n",
    "e3.encode_value_in_bit_space(value_choice= 68)"
   ]
  },
  {
   "cell_type": "code",
   "execution_count": 166,
   "metadata": {},
   "outputs": [
    {
     "data": {
      "text/plain": [
       "{'1': {'bitLocations': [1, 2, 3, 4, 5, 6, 7, 8], 'encodedValues': array([1])},\n",
       " '2': {'bitLocations': [2, 3, 4, 5, 6, 7, 8, 9], 'encodedValues': array([2])},\n",
       " '60': {'bitLocations': [60, 61, 62, 63, 0, 1, 2, 3],\n",
       "  'encodedValues': array([60])},\n",
       " '68': {'bitLocations': [4, 5, 6, 7, 8, 9, 10, 11],\n",
       "  'encodedValues': array([68])}}"
      ]
     },
     "execution_count": 166,
     "metadata": {},
     "output_type": "execute_result"
    }
   ],
   "source": [
    "e3.updateEncodedValuesDictionary()\n",
    "e3.encodedValues"
   ]
  },
  {
   "cell_type": "code",
   "execution_count": 167,
   "metadata": {},
   "outputs": [
    {
     "data": {
      "image/png": "[encoded data removed]",
      "text/plain": [
       "<Figure size 1152x216 with 4 Axes>"
      ]
     },
     "metadata": {
      "needs_background": "light"
     },
     "output_type": "display_data"
    }
   ],
   "source": [
    "fig, (ax1, ax2, ax3, ax4) = plt.subplots(1, 4, figsize=(16, 3))\n",
    "\n",
    "ax1 = hc.create_axis_for_sdr(ax1, np.sqrt(bit_space_size_choice) + 1, np.sqrt(bit_space_size_choice) + 1, number_of_bits_used_to_encode_value_choice, \"Encoded value: 1\")\n",
    "ax2 = hc.create_axis_for_sdr(ax2, np.sqrt(bit_space_size_choice) + 1, np.sqrt(bit_space_size_choice) + 1, number_of_bits_used_to_encode_value_choice, \"Encoded value: 2\")\n",
    "ax3 = hc.create_axis_for_sdr(ax3, np.sqrt(bit_space_size_choice) + 1, np.sqrt(bit_space_size_choice) + 1, number_of_bits_used_to_encode_value_choice, \"Encoded value: 60\")\n",
    "ax4 = hc.create_axis_for_sdr(ax4, np.sqrt(bit_space_size_choice) + 1, np.sqrt(bit_space_size_choice) + 1, number_of_bits_used_to_encode_value_choice, \"Encoded value: 68\")\n",
    "\n",
    "coords1 = hc.convert_sdr_to_tuple_for_visualisation(e3.encodedValues['1']['bitLocations'], bit_space_size_choice)\n",
    "coords2 = hc.convert_sdr_to_tuple_for_visualisation(e3.encodedValues['2']['bitLocations'], bit_space_size_choice)\n",
    "coords3 = hc.convert_sdr_to_tuple_for_visualisation(e3.encodedValues['60']['bitLocations'], bit_space_size_choice)\n",
    "coords4 = hc.convert_sdr_to_tuple_for_visualisation(e3.encodedValues['68']['bitLocations'], bit_space_size_choice)\n",
    "\n",
    "p1 = [ax1.add_patch(Rectangle(coords1[i], 1, 1, color=\"blue\")) for i in range(len(coords1))]\n",
    "p2 = [ax2.add_patch(Rectangle(coords2[i], 1, 1, color=\"blue\")) for i in range(len(coords2))]\n",
    "p3 = [ax3.add_patch(Rectangle(coords3[i], 1, 1, color=\"blue\")) for i in range(len(coords3))]\n",
    "p4 = [ax4.add_patch(Rectangle(coords4[i], 1, 1, color=\"blue\")) for i in range(len(coords4))]"
   ]
  },
  {
   "cell_type": "markdown",
   "metadata": {},
   "source": [
    "See how when we get to encode 60, 4 bits are encoded at the end of the array, and then it wraps around so 4 bits are encoded at the beginning. This is handy for things that are by nature periodic. \n",
    "\n"
   ]
  },
  {
   "cell_type": "markdown",
   "metadata": {},
   "source": [
    "A final example, let's change the resolution. What if I wanted to encode the idea that some "
   ]
  },
  {
   "cell_type": "code",
   "execution_count": 174,
   "metadata": {},
   "outputs": [
    {
     "name": "stdout",
     "output_type": "stream",
     "text": [
      "----------------- SUMMARY -------------------------\n",
      "|L3| Bit Space Size:  64\n",
      "|L4| Number of bits to be used when encoding each value: 8\n",
      "|L5| Range of values that can be encoded: From  0  to  64\n",
      "|L6| Number of buckets available in bit space: 19.0\n",
      "|L1| Encode periodically:  False\n",
      "|L1| Values are encoded as are randomly distributed arrays:  False\n",
      "|L1| Resolution:  3\n",
      "|L1| Similiarity between encodings:  1\n",
      "|L2| Values outside range will to be clipped:  False\n",
      "----------------------------------------------------\n"
     ]
    }
   ],
   "source": [
    "bit_space_size_choice = 64\n",
    "number_of_bits_used_to_encode_value_choice = 8\n",
    "e4 = Encoder(bit_space_size = bit_space_size_choice,\n",
    "                number_of_bits_used_to_encode_value = number_of_bits_used_to_encode_value_choice,\n",
    "                min_val = 0,\n",
    "                max_val = 64,\n",
    "             resolution=3,\n",
    "            is_randomly_distributed = False,\n",
    "            clip_values_outside_range = False,\n",
    "            is_periodic = False)\n",
    "e4.get_summary()"
   ]
  },
  {
   "cell_type": "code",
   "execution_count": 175,
   "metadata": {},
   "outputs": [
    {
     "name": "stdout",
     "output_type": "stream",
     "text": [
      "\n",
      "Encoding the value -> 1 in bucket -> 0\n",
      "\n",
      "Encoding the value -> 2 in bucket -> 0\n",
      "\n",
      "Encoding the value -> 50 in bucket -> 16\n",
      "\n",
      "Encoding the value -> 70 in bucket -> 23\n",
      "\n",
      "Encoding the value -> 80 in bucket -> 26\n"
     ]
    }
   ],
   "source": [
    "e4.encode_value_in_bit_space(value_choice= 1)\n",
    "e4.encode_value_in_bit_space(value_choice= 2)\n",
    "e4.encode_value_in_bit_space(value_choice= 50)\n",
    "e4.encode_value_in_bit_space(value_choice= 70)\n",
    "e4.encode_value_in_bit_space(value_choice= 80)"
   ]
  },
  {
   "cell_type": "code",
   "execution_count": 176,
   "metadata": {},
   "outputs": [
    {
     "data": {
      "text/plain": [
       "{'0': {'bitLocations': [0, 1, 2, 3, 4, 5, 6, 7],\n",
       "  'encodedValues': array([0, 1, 2])},\n",
       " '16': {'bitLocations': [16, 17, 18, 19, 20, 21, 22, 23],\n",
       "  'encodedValues': array([48, 49, 50])},\n",
       " '23': {'bitLocations': [23, 24, 25, 26, 27, 28, 29, 30],\n",
       "  'encodedValues': array([69, 70, 71])},\n",
       " '26': {'bitLocations': [26, 27, 28, 29, 30, 31, 32, 33],\n",
       "  'encodedValues': array([78, 79, 80])}}"
      ]
     },
     "execution_count": 176,
     "metadata": {},
     "output_type": "execute_result"
    }
   ],
   "source": [
    "e4.updateEncodedValuesDictionary()\n",
    "e4.encodedValues"
   ]
  },
  {
   "cell_type": "markdown",
   "metadata": {},
   "source": [
    "Only 4 buckets have been created, "
   ]
  },
  {
   "cell_type": "code",
   "execution_count": 178,
   "metadata": {},
   "outputs": [
    {
     "data": {
      "image/png": "[encoded data removed]",
      "text/plain": [
       "<Figure size 1152x216 with 4 Axes>"
      ]
     },
     "metadata": {
      "needs_background": "light"
     },
     "output_type": "display_data"
    }
   ],
   "source": [
    "fig, (ax1, ax2, ax3, ax4) = plt.subplots(1, 4, figsize=(16, 3))\n",
    "\n",
    "ax1 = hc.create_axis_for_sdr(ax1, np.sqrt(bit_space_size_choice) + 1, np.sqrt(bit_space_size_choice) + 1, number_of_bits_used_to_encode_value_choice, \"Encoded values: 0, 1, 2\")\n",
    "ax2 = hc.create_axis_for_sdr(ax2, np.sqrt(bit_space_size_choice) + 1, np.sqrt(bit_space_size_choice) + 1, number_of_bits_used_to_encode_value_choice, \"Encoded value: 48, 49, 50\")\n",
    "ax3 = hc.create_axis_for_sdr(ax3, np.sqrt(bit_space_size_choice) + 1, np.sqrt(bit_space_size_choice) + 1, number_of_bits_used_to_encode_value_choice, \"Encoded value: 69, 70, 71\")\n",
    "ax4 = hc.create_axis_for_sdr(ax4, np.sqrt(bit_space_size_choice) + 1, np.sqrt(bit_space_size_choice) + 1, number_of_bits_used_to_encode_value_choice, \"Encoded value: 78, 79, 80\")\n",
    "\n",
    "coords1 = hc.convert_sdr_to_tuple_for_visualisation(e4.encodedValues['0']['bitLocations'], bit_space_size_choice)\n",
    "coords2 = hc.convert_sdr_to_tuple_for_visualisation(e4.encodedValues['16']['bitLocations'], bit_space_size_choice)\n",
    "coords3 = hc.convert_sdr_to_tuple_for_visualisation(e4.encodedValues['23']['bitLocations'], bit_space_size_choice)\n",
    "coords4 = hc.convert_sdr_to_tuple_for_visualisation(e4.encodedValues['26']['bitLocations'], bit_space_size_choice)\n",
    "\n",
    "p1 = [ax1.add_patch(Rectangle(coords1[i], 1, 1, color=\"blue\")) for i in range(len(coords1))]\n",
    "p2 = [ax2.add_patch(Rectangle(coords2[i], 1, 1, color=\"blue\")) for i in range(len(coords2))]\n",
    "p3 = [ax3.add_patch(Rectangle(coords3[i], 1, 1, color=\"blue\")) for i in range(len(coords3))]\n",
    "p4 = [ax4.add_patch(Rectangle(coords4[i], 1, 1, color=\"blue\")) for i in range(len(coords4))]"
   ]
  },
  {
   "cell_type": "markdown",
   "metadata": {},
   "source": [
    "This leads us to similiarity metrics"
   ]
  },
  {
   "cell_type": "markdown",
   "metadata": {},
   "source": [
    "<b>Similiarity Metrics</b> \n",
    "\n",
    "se can say that closer to zero the more similiar. This is not great, but it is just a linear score. In fact this encoder has lots of limiations, but it is a start. \n",
    "\n",
    "Before we go on to other types of encoders, let's spend some more time on the semantic similiarity measures, and formalise the rules we use a bit: "
   ]
  },
  {
   "cell_type": "markdown",
   "metadata": {},
   "source": [
    "These rules suppose we have some be an an arbitrary input space, $A$. In the space  $S(n, k)$ is a set of SDRs that each have the length n and each have k on bits. We are interested in encoding the semantic similiarity of any of the SDRs in this set, and we will call our semantic similarity measure $d_a$, a function that can be appled to a number of SDRs in a given input space.  \n",
    "\n",
    "We define that our distance function needs to be able to fulfill 3 properties. Note also that, I am a not a big fan of using the word distance, and will probably swap this out, but for now it works well.\n",
    "\n",
    "First rule our distnance function needs to satisfy: \n",
    "\n",
    "$$\\forall x, y \\in A, d_A(x, y) \\ge 0 $$\n",
    "\n",
    "This says, for any  in 2 SDRs in the set (here denoted as $x$ and $y$, the disntance function must return a value greater than or equal to zero. Proximity function\n",
    "\n",
    "Second rule our distnance function needs to satisfy: \n",
    "\n",
    "$$\\forall x, y \\in A, d_A(x, y) \\equiv d_A(x, y) $$\n",
    "\n",
    "This says that our distance function must return the same output regardless, of the order we call our SDR in. So in teh example above, if we compute distance between 5 and 41, it is the same as computing distance for 41 and 5. \n",
    "\n",
    "Third rule our distnance function needs to satisfy: \n",
    "\n",
    "$$\\forall x, y \\in A, d_A(x, x) = 0 $$\n",
    "\n",
    "This says that the distance from the SDR to itself must be the the same. So we are getting to the point where we can compare distnance and metric scores, and overlap. Let's make it a little more reigou"
   ]
  },
  {
   "cell_type": "markdown",
   "metadata": {},
   "source": [
    "Let's define 1 more rule"
   ]
  },
  {
   "cell_type": "markdown",
   "metadata": {},
   "source": [
    "Finally, we or union and overlap function could do with some work.Let's define a evaluation metric for an encoder\n",
    "\n",
    "1. Let $O(s,t)$ be number of overlapping bits\n",
    "\n",
    "For encoder $f: A \\rightarrow S(n,k) $ and $\\forall w, x, y,z \\in A$:\n",
    "\n",
    "$$O(f(w), f(x)) \\ge O(f(y), f(z)) \\equiv d_A(w, x) \\le d_A (y, z)$$\n",
    "\n",
    "So this tells that the overap score for 2 SDRs, $w$ and $x$ is greater than the overlap score for $y$ and $z$, the disance between $w$ and $x$ will be less than distance $y$ and $z$."
   ]
  },
  {
   "cell_type": "markdown",
   "metadata": {},
   "source": [
    "So we can desing metrics however we want, as long as they define these rules\n",
    "\n",
    "For our third encoder, Note however that it is not clear in the literature. I think there is problematic"
   ]
  },
  {
   "cell_type": "code",
   "execution_count": null,
   "metadata": {},
   "outputs": [],
   "source": []
  }
 ],
 "metadata": {
  "kernelspec": {
   "display_name": "Python 3",
   "language": "python",
   "name": "python3"
  },
  "language_info": {
   "codemirror_mode": {
    "name": "ipython",
    "version": 3
   },
   "file_extension": ".py",
   "mimetype": "text/x-python",
   "name": "python",
   "nbconvert_exporter": "python",
   "pygments_lexer": "ipython3",
   "version": "3.9.2"
  }
 },
 "nbformat": 4,
 "nbformat_minor": 4
}
