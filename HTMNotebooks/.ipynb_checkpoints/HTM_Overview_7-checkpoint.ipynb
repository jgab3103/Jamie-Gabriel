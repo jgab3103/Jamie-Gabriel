{
 "cells": [
  {
   "cell_type": "markdown",
   "metadata": {},
   "source": [
    "<i>STATUS: Draft<i>"
   ]
  },
  {
   "cell_type": "code",
   "execution_count": 1,
   "metadata": {},
   "outputs": [],
   "source": [
    "import numpy as np\n",
    "import sympy as sp\n",
    "from IPython.display import HTML, display\n",
    "import ipywidgets as widgets\n",
    "import matplotlib.pyplot as plt\n",
    "from matplotlib import animation\n",
    "from matplotlib.patches import Rectangle, Circle, ConnectionPatch\n",
    "from IPython.display import Image\n",
    "import sys\n",
    "import pandas as pd\n",
    "import HTM_Code as hc\n",
    "import colorsys\n",
    "import time as timer"
   ]
  },
  {
   "cell_type": "markdown",
   "metadata": {},
   "source": [
    "In the last notebook we built a first Spatial Pooler. In this one, we will create another version, but this time we will use the hotgym data. This data set is discussed in both episodes 7 and 8:"
   ]
  },
  {
   "cell_type": "code",
   "execution_count": 2,
   "metadata": {},
   "outputs": [
    {
     "data": {
      "text/html": [
       "<table style=\"width:100%\"><tr><td><iframe style=\"background:#99ddff; color:black; padding: 10px\" width=\"400\" height=\"315\" src=\"https://www.youtube.com/embed/R5UoFNtv5AU\" title=\"YouTube video player\" frameborder=\"0\" allow=\"accelerometer; autoplay; clipboard-write; encrypted-media; gyroscope; picture-in-picture\" allowfullscreen></iframe></td><td><iframe  style=\"background:#99ddff; color:black; padding: 10px\" width=\"400\" height=\"315\" src=\"https://www.youtube.com/embed/rHvjykCIrZM\" title=\"YouTube video player\" frameborder=\"0\" allow=\"accelerometer; autoplay; clipboard-write; encrypted-media; gyroscope; picture-in-picture\" allowfullscreen></iframe></td></tr>"
      ],
      "text/plain": [
       "<IPython.core.display.HTML object>"
      ]
     },
     "execution_count": 2,
     "metadata": {},
     "output_type": "execute_result"
    }
   ],
   "source": [
    "ep7 = '<iframe style=\"background:#99ddff; color:black; padding: 10px\" width=\"400\" height=\"315\" src=\"https://www.youtube.com/embed/R5UoFNtv5AU\" title=\"YouTube video player\" frameborder=\"0\" allow=\"accelerometer; autoplay; clipboard-write; encrypted-media; gyroscope; picture-in-picture\" allowfullscreen></iframe>'\n",
    "ep8 = '<iframe  style=\"background:#99ddff; color:black; padding: 10px\" width=\"400\" height=\"315\" src=\"https://www.youtube.com/embed/rHvjykCIrZM\" title=\"YouTube video player\" frameborder=\"0\" allow=\"accelerometer; autoplay; clipboard-write; encrypted-media; gyroscope; picture-in-picture\" allowfullscreen></iframe>'\n",
    "table = '<table style=\"width:100%\"><tr><td>' + ep7 + '</td><td>' + ep8 + '</td></tr>'\n",
    "HTML(table)"
   ]
  },
  {
   "cell_type": "markdown",
   "metadata": {},
   "source": [
    "Its also time now to finally use some real data. Its a data set of 4391 records, that tracks power consuptiom in a gymnasium over time. Let's import the data and have a look at it: "
   ]
  },
  {
   "cell_type": "code",
   "execution_count": 3,
   "metadata": {},
   "outputs": [
    {
     "data": {
      "text/html": [
       "<div>\n",
       "<style scoped>\n",
       "    .dataframe tbody tr th:only-of-type {\n",
       "        vertical-align: middle;\n",
       "    }\n",
       "\n",
       "    .dataframe tbody tr th {\n",
       "        vertical-align: top;\n",
       "    }\n",
       "\n",
       "    .dataframe thead th {\n",
       "        text-align: right;\n",
       "    }\n",
       "</style>\n",
       "<table border=\"1\" class=\"dataframe\">\n",
       "  <thead>\n",
       "    <tr style=\"text-align: right;\">\n",
       "      <th></th>\n",
       "      <th>date_time</th>\n",
       "      <th>power_consumption</th>\n",
       "    </tr>\n",
       "  </thead>\n",
       "  <tbody>\n",
       "    <tr>\n",
       "      <th>1</th>\n",
       "      <td>7/2/10 0:00</td>\n",
       "      <td>21.2</td>\n",
       "    </tr>\n",
       "    <tr>\n",
       "      <th>2</th>\n",
       "      <td>7/2/10 1:00</td>\n",
       "      <td>16.4</td>\n",
       "    </tr>\n",
       "    <tr>\n",
       "      <th>3</th>\n",
       "      <td>7/2/10 2:00</td>\n",
       "      <td>4.7</td>\n",
       "    </tr>\n",
       "    <tr>\n",
       "      <th>4</th>\n",
       "      <td>7/2/10 3:00</td>\n",
       "      <td>4.7</td>\n",
       "    </tr>\n",
       "    <tr>\n",
       "      <th>5</th>\n",
       "      <td>7/2/10 4:00</td>\n",
       "      <td>4.6</td>\n",
       "    </tr>\n",
       "  </tbody>\n",
       "</table>\n",
       "</div>"
      ],
      "text/plain": [
       "     date_time  power_consumption\n",
       "1  7/2/10 0:00               21.2\n",
       "2  7/2/10 1:00               16.4\n",
       "3  7/2/10 2:00                4.7\n",
       "4  7/2/10 3:00                4.7\n",
       "5  7/2/10 4:00                4.6"
      ]
     },
     "execution_count": 3,
     "metadata": {},
     "output_type": "execute_result"
    }
   ],
   "source": [
    "df = pd.read_csv(\"./data/gymdata.csv\", header=1)\n",
    "df = df.rename(columns={\"datetime\": \"date_time\", \"float\": \"power_consumption\"})\n",
    "df = df.iloc[1:]\n",
    "df.head()"
   ]
  },
  {
   "cell_type": "markdown",
   "metadata": {},
   "source": [
    "Let's plot the first 1000 records to get a sense of how things look:"
   ]
  },
  {
   "cell_type": "code",
   "execution_count": 4,
   "metadata": {},
   "outputs": [
    {
     "data": {
      "text/plain": [
       "<AxesSubplot:>"
      ]
     },
     "execution_count": 4,
     "metadata": {},
     "output_type": "execute_result"
    },
    {
     "data": {
      "image/png": "[encoded data removed]",
      "text/plain": [
       "<Figure size 1296x144 with 1 Axes>"
      ]
     },
     "metadata": {
      "needs_background": "light"
     },
     "output_type": "display_data"
    }
   ],
   "source": [
    "df.power_consumption[:1000].plot(figsize = (18,2))"
   ]
  },
  {
   "cell_type": "markdown",
   "metadata": {},
   "source": [
    "Next, let's do bit of work on the data set, just to clean up the columns, to seperate date and time, and create an indicator of whether its weekend or not, so the data can easily be placed in a multi-encoder"
   ]
  },
  {
   "cell_type": "code",
   "execution_count": 5,
   "metadata": {},
   "outputs": [
    {
     "data": {
      "application/vnd.jupyter.widget-view+json": {
       "model_id": "efca63d4e6c34eb58075de5666fb9bf4",
       "version_major": 2,
       "version_minor": 0
      },
      "text/plain": [
       "IntSlider(value=0)"
      ]
     },
     "metadata": {},
     "output_type": "display_data"
    }
   ],
   "source": [
    "w = widgets.IntSlider()\n",
    "display(w)"
   ]
  },
  {
   "cell_type": "code",
   "execution_count": 6,
   "metadata": {},
   "outputs": [
    {
     "data": {
      "text/html": [
       "<div>\n",
       "<style scoped>\n",
       "    .dataframe tbody tr th:only-of-type {\n",
       "        vertical-align: middle;\n",
       "    }\n",
       "\n",
       "    .dataframe tbody tr th {\n",
       "        vertical-align: top;\n",
       "    }\n",
       "\n",
       "    .dataframe thead th {\n",
       "        text-align: right;\n",
       "    }\n",
       "</style>\n",
       "<table border=\"1\" class=\"dataframe\">\n",
       "  <thead>\n",
       "    <tr style=\"text-align: right;\">\n",
       "      <th></th>\n",
       "      <th>power_consumption</th>\n",
       "      <th>date</th>\n",
       "      <th>time_of_day</th>\n",
       "      <th>is_weekend</th>\n",
       "    </tr>\n",
       "  </thead>\n",
       "  <tbody>\n",
       "    <tr>\n",
       "      <th>1</th>\n",
       "      <td>21.2</td>\n",
       "      <td>2010-07-02</td>\n",
       "      <td>00:00:00</td>\n",
       "      <td>1</td>\n",
       "    </tr>\n",
       "    <tr>\n",
       "      <th>2</th>\n",
       "      <td>16.4</td>\n",
       "      <td>2010-07-02</td>\n",
       "      <td>01:00:00</td>\n",
       "      <td>1</td>\n",
       "    </tr>\n",
       "    <tr>\n",
       "      <th>3</th>\n",
       "      <td>4.7</td>\n",
       "      <td>2010-07-02</td>\n",
       "      <td>02:00:00</td>\n",
       "      <td>1</td>\n",
       "    </tr>\n",
       "    <tr>\n",
       "      <th>4</th>\n",
       "      <td>4.7</td>\n",
       "      <td>2010-07-02</td>\n",
       "      <td>03:00:00</td>\n",
       "      <td>1</td>\n",
       "    </tr>\n",
       "    <tr>\n",
       "      <th>5</th>\n",
       "      <td>4.6</td>\n",
       "      <td>2010-07-02</td>\n",
       "      <td>04:00:00</td>\n",
       "      <td>1</td>\n",
       "    </tr>\n",
       "  </tbody>\n",
       "</table>\n",
       "</div>"
      ],
      "text/plain": [
       "   power_consumption        date time_of_day  is_weekend\n",
       "1               21.2  2010-07-02    00:00:00           1\n",
       "2               16.4  2010-07-02    01:00:00           1\n",
       "3                4.7  2010-07-02    02:00:00           1\n",
       "4                4.7  2010-07-02    03:00:00           1\n",
       "5                4.6  2010-07-02    04:00:00           1"
      ]
     },
     "execution_count": 6,
     "metadata": {},
     "output_type": "execute_result"
    }
   ],
   "source": [
    "df.date_time = pd.to_datetime(df.date_time, format=\"%m/%d/%y %H:%M\")\n",
    "df['date'] = [d.date() for d in df.date_time]\n",
    "df['time_of_day'] = [d.time() for d in df.date_time]\n",
    "df['weekday'] = [d.weekday() for d in df.date]\n",
    "df['is_weekend'] = df.loc[df.weekday < 4, 'weekday'] = 0\n",
    "df['is_weekend'] = df.loc[df.weekday >= 4, 'weekday'] = 1\n",
    "df = df.drop('date_time', axis=1)\n",
    "df = df.drop('weekday', axis=1)\n",
    "\n",
    "df.head()"
   ]
  },
  {
   "cell_type": "markdown",
   "metadata": {},
   "source": [
    "The other thing we will bring in at this point start referencing at this point is a glossary. From episode 7 there is alot of nomencalture with all the HTM stuff, and we need a way to organise it careful with the nomenclature. I want to have it as a handy reference so have just created a spreadhseet, and will now so let's bring that in too and sort it by spatial pooler tag, subtle differences across different things so we need to be start beign really careful with the way we are using language. \n",
    "\n",
    "We will also start working more closely with Nupic Code Base at this point"
   ]
  },
  {
   "cell_type": "code",
   "execution_count": 7,
   "metadata": {},
   "outputs": [
    {
     "data": {
      "text/html": [
       "<style  type=\"text/css\" >\n",
       "#T_5d966_row0_col0,#T_5d966_row0_col1,#T_5d966_row0_col2,#T_5d966_row0_col3,#T_5d966_row1_col0,#T_5d966_row1_col1,#T_5d966_row1_col2,#T_5d966_row1_col3,#T_5d966_row2_col0,#T_5d966_row2_col1,#T_5d966_row2_col2,#T_5d966_row2_col3,#T_5d966_row3_col0,#T_5d966_row3_col1,#T_5d966_row3_col2,#T_5d966_row3_col3,#T_5d966_row4_col0,#T_5d966_row4_col1,#T_5d966_row4_col2,#T_5d966_row4_col3,#T_5d966_row5_col0,#T_5d966_row5_col1,#T_5d966_row5_col2,#T_5d966_row5_col3,#T_5d966_row6_col0,#T_5d966_row6_col1,#T_5d966_row6_col2,#T_5d966_row6_col3,#T_5d966_row7_col0,#T_5d966_row7_col1,#T_5d966_row7_col2,#T_5d966_row7_col3,#T_5d966_row8_col0,#T_5d966_row8_col1,#T_5d966_row8_col2,#T_5d966_row8_col3{\n",
       "            text-align:  left;\n",
       "        }</style><table id=\"T_5d966_\" ><thead>    <tr>        <th class=\"blank level0\" ></th>        <th class=\"col_heading level0 col0\" >Tags</th>        <th class=\"col_heading level0 col1\" >Term</th>        <th class=\"col_heading level0 col2\" >ParamName</th>        <th class=\"col_heading level0 col3\" >Description</th>    </tr></thead><tbody>\n",
       "                <tr>\n",
       "                        <th id=\"T_5d966_level0_row0\" class=\"row_heading level0 row0\" >0</th>\n",
       "                        <td id=\"T_5d966_row0_col0\" class=\"data row0 col0\" >spatial pooler</td>\n",
       "                        <td id=\"T_5d966_row0_col1\" class=\"data row0 col1\" >Column</td>\n",
       "                        <td id=\"T_5d966_row0_col2\" class=\"data row0 col2\" >column</td>\n",
       "                        <td id=\"T_5d966_row0_col3\" class=\"data row0 col3\" >An HTM region is organized in columns of cells. The SP operates at the column-level, where a column of a cells function as a single computational unit.</td>\n",
       "            </tr>\n",
       "            <tr>\n",
       "                        <th id=\"T_5d966_level0_row1\" class=\"row_heading level0 row1\" >1</th>\n",
       "                        <td id=\"T_5d966_row1_col0\" class=\"data row1 col0\" >spatial pooler</td>\n",
       "                        <td id=\"T_5d966_row1_col1\" class=\"data row1 col1\" >Inhibition</td>\n",
       "                        <td id=\"T_5d966_row1_col2\" class=\"data row1 col2\" >nan</td>\n",
       "                        <td id=\"T_5d966_row1_col3\" class=\"data row1 col3\" >The mechanism for maintaining sparse activations of neurons. In the SP this manifests as columns inhibiting nearby columns from becoming active.</td>\n",
       "            </tr>\n",
       "            <tr>\n",
       "                        <th id=\"T_5d966_level0_row2\" class=\"row_heading level0 row2\" >2</th>\n",
       "                        <td id=\"T_5d966_row2_col0\" class=\"data row2 col0\" >spatial pooler</td>\n",
       "                        <td id=\"T_5d966_row2_col1\" class=\"data row2 col1\" >Inhibition radius</td>\n",
       "                        <td id=\"T_5d966_row2_col2\" class=\"data row2 col2\" >nan</td>\n",
       "                        <td id=\"T_5d966_row2_col3\" class=\"data row2 col3\" >The size of a column's local neighborhood, within which columns may inhibit each other from becoming active.</td>\n",
       "            </tr>\n",
       "            <tr>\n",
       "                        <th id=\"T_5d966_level0_row3\" class=\"row_heading level0 row3\" >3</th>\n",
       "                        <td id=\"T_5d966_row3_col0\" class=\"data row3 col0\" >spatial pooler</td>\n",
       "                        <td id=\"T_5d966_row3_col1\" class=\"data row3 col1\" >Active duty cycle</td>\n",
       "                        <td id=\"T_5d966_row3_col2\" class=\"data row3 col2\" >activeDutyCycle</td>\n",
       "                        <td id=\"T_5d966_row3_col3\" class=\"data row3 col3\" >A moving average denoting the frequency of column activation.</td>\n",
       "            </tr>\n",
       "            <tr>\n",
       "                        <th id=\"T_5d966_level0_row4\" class=\"row_heading level0 row4\" >4</th>\n",
       "                        <td id=\"T_5d966_row4_col0\" class=\"data row4 col0\" >spatial pooler</td>\n",
       "                        <td id=\"T_5d966_row4_col1\" class=\"data row4 col1\" >Overlap duty cycle</td>\n",
       "                        <td id=\"T_5d966_row4_col2\" class=\"data row4 col2\" >overlapDutyCycle</td>\n",
       "                        <td id=\"T_5d966_row4_col3\" class=\"data row4 col3\" >A moving average denoting the frequency of the column's overlap value being at least equal to the proximal segment activation threshold.</td>\n",
       "            </tr>\n",
       "            <tr>\n",
       "                        <th id=\"T_5d966_level0_row5\" class=\"row_heading level0 row5\" >5</th>\n",
       "                        <td id=\"T_5d966_row5_col0\" class=\"data row5 col0\" >spatial pooler</td>\n",
       "                        <td id=\"T_5d966_row5_col1\" class=\"data row5 col1\" >Receptive field</td>\n",
       "                        <td id=\"T_5d966_row5_col2\" class=\"data row5 col2\" >receptiveReceptiveField</td>\n",
       "                        <td id=\"T_5d966_row5_col3\" class=\"data row5 col3\" >The input space that a column can potentially connect to</td>\n",
       "            </tr>\n",
       "            <tr>\n",
       "                        <th id=\"T_5d966_level0_row6\" class=\"row_heading level0 row6\" >6</th>\n",
       "                        <td id=\"T_5d966_row6_col0\" class=\"data row6 col0\" >spatial pooler</td>\n",
       "                        <td id=\"T_5d966_row6_col1\" class=\"data row6 col1\" >Permance value</td>\n",
       "                        <td id=\"T_5d966_row6_col2\" class=\"data row6 col2\" >permancePermanceValue</td>\n",
       "                        <td id=\"T_5d966_row6_col3\" class=\"data row6 col3\" >indicates the amount of growth between a mini-column in the Spatial Pooling algorithm and one of the cells in its receptive field. Acceptable values are [0,1].</td>\n",
       "            </tr>\n",
       "            <tr>\n",
       "                        <th id=\"T_5d966_level0_row7\" class=\"row_heading level0 row7\" >7</th>\n",
       "                        <td id=\"T_5d966_row7_col0\" class=\"data row7 col0\" >spatial pooler</td>\n",
       "                        <td id=\"T_5d966_row7_col1\" class=\"data row7 col1\" >Permance threshold</td>\n",
       "                        <td id=\"T_5d966_row7_col2\" class=\"data row7 col2\" >permancePermanceThreshold</td>\n",
       "                        <td id=\"T_5d966_row7_col3\" class=\"data row7 col3\" >If a synapse's permanence is above this value, it is considered fully connected.</td>\n",
       "            </tr>\n",
       "            <tr>\n",
       "                        <th id=\"T_5d966_level0_row8\" class=\"row_heading level0 row8\" >8</th>\n",
       "                        <td id=\"T_5d966_row8_col0\" class=\"data row8 col0\" >spatial pooler; neuroscience</td>\n",
       "                        <td id=\"T_5d966_row8_col1\" class=\"data row8 col1\" >Synapse</td>\n",
       "                        <td id=\"T_5d966_row8_col2\" class=\"data row8 col2\" >nan</td>\n",
       "                        <td id=\"T_5d966_row8_col3\" class=\"data row8 col3\" >A junction between cells. In the Spatial Pooling algorithm, synapses on a column's dendritic segment connect to bits in the input space. A synapse can be in the following states: Connected: permanence is above the threshold, Potential: permanence is below the threshold, Unconnected: does not have the ability to connect.</td>\n",
       "            </tr>\n",
       "    </tbody></table>"
      ],
      "text/plain": [
       "<pandas.io.formats.style.Styler at 0x7f1cbbe85c10>"
      ]
     },
     "execution_count": 7,
     "metadata": {},
     "output_type": "execute_result"
    }
   ],
   "source": [
    "glossary = pd.read_csv(\"./data/glossary.csv\", header=0)\n",
    "glossary.loc[glossary['Tags'].str.contains(\"spatial pooler\")].style.set_properties(**{'text-align': 'left'})"
   ]
  },
  {
   "cell_type": "markdown",
   "metadata": {},
   "source": [
    "With that out of the way, let's create an instance of a MultiEncoder and put our data into it. We will need four encoders, one for power consumption, one for date, one for time of day, and one for weekend:"
   ]
  },
  {
   "cell_type": "code",
   "execution_count": null,
   "metadata": {},
   "outputs": [],
   "source": []
  },
  {
   "cell_type": "markdown",
   "metadata": {},
   "source": [
    "Now let's put all those into a single encoder, the inputs ready for our spatial pooler. "
   ]
  },
  {
   "cell_type": "code",
   "execution_count": null,
   "metadata": {},
   "outputs": [],
   "source": []
  },
  {
   "cell_type": "markdown",
   "metadata": {},
   "source": [
    "Now let's create new version of our Spatial Pooler. It will do much of the previous version, but a number of extra features, that get discussed in episode 8. We will also model our Spatial Pooler more along the lines of <a href=\"#\">https://github.com/numenta/nupic/blob/master/src/nupic/algorithms/spatial_pooler.py</a>. We will use similiar variable names, but we will keep the methods a bit simpler to emphasise the various steps in what is happening. The steps will be pretty linear and our code will do the following:\n",
    "\n",
    "1. <code>intialiseColumnsToInputSpace()</code>\n",
    "2. <code>addInputsToSpatialPooler()</code>\n",
    "3. <code>computeOverlapOfInputAndActiveColumn()</code>\n",
    "4. <code>updateColumnPotentialConnectionsAndReinitialiseColumnToInputSpace()</code>\n",
    "\n",
    "We will also create a <code>getSummary()</code> function to keep track of things, and <code> create_comparison_from_each_bit_in_input_space_to_its_active_columns()</code> to provide some data so we can look at any given input space and how it is connected:\n",
    "        "
   ]
  },
  {
   "cell_type": "code",
   "execution_count": 8,
   "metadata": {},
   "outputs": [],
   "source": [
    "class SpatialPoolerV3:\n",
    "    def __init__(self,\n",
    "                 settings):\n",
    "        \n",
    "        self._numInputs = np.prod(settings['inputDimensions'])\n",
    "        self._numColumns = np.prod(settings['columnDimensions'])\n",
    "        self._columnDimensions = settings['columnDimensions']\n",
    "        self._inputDimensions = settings['inputDimensions']\n",
    "        self._potentialRadius = int(max(settings['potentialRadius'], self._numInputs))\n",
    "        self._potentialPct = settings['potentialPct']\n",
    "        self._globalInhibition = settings['globalInhibition'] \n",
    "        self._numActiveColumnsPerInhArea = int(settings['numActiveColumnsPerInhArea'])\n",
    "        self._stimulusThreshold = settings['stimulusThreshold']\n",
    "        self._synPermInactiveDec = settings['synPermInactiveDec']\n",
    "        self._synPermActiveInc = settings['synPermActiveInc']\n",
    "        self._synPermConnected = settings['synPermConnected']\n",
    "        self._columns = {}\n",
    "        self._columnsInitialised = False\n",
    "        self._learningIsOn = True\n",
    "        self._inputs = []\n",
    "        self.connections_of_bits_in_input_space_to_columns = None\n",
    "        self.inputs_connected_to_columns = []\n",
    "        self.columnsHistory = []\n",
    "    \n",
    "\n",
    "    def initialiseColumnsToInputSpace(self):\n",
    "        timerStart = timer.perf_counter()\n",
    "        potentialPoolSize = int(self._potentialPct * self._numInputs)\n",
    "\n",
    "        for i in range(self._numColumns):\n",
    "        \n",
    "            potentialConnections = hc.create_randomised_sdr(self._numInputs, potentialPoolSize)\n",
    "            nonConnectedColumns = [x for x in range(0, self._numInputs) if x not in potentialConnections]\n",
    "            potentialConnectionsPermanenceValues = np.random.normal(self._synPermConnected, 0.01, potentialPoolSize)\n",
    "            activeColumns = []\n",
    "            \n",
    "            for j in range(0, len(potentialConnections)):\n",
    "                if potentialConnectionsPermanenceValues[j] > 0.1:\n",
    "                    activeColumns.append(potentialConnections[j])\n",
    "                    \n",
    "            self._columns[i] = {'potentialConnections': potentialConnections,\n",
    "                                'nonConnectedColumns': nonConnectedColumns,\n",
    "                                'potentialConnectionsPermanenceValues': potentialConnectionsPermanenceValues,\n",
    "                                'activeColumns': activeColumns\n",
    "                              }\n",
    "        self._columnsInitialised = True\n",
    "        timerEnd = timer.perf_counter()\n",
    "        self.getSummary(summary_type = 2, timeTaken = timerEnd - timerStart)\n",
    "    \n",
    "\n",
    "    \n",
    "    def compareEachBitInInputSpaceToItsConnectedActiveColumns(self):\n",
    "        d = []\n",
    "        for key, value in self._columns.items():\n",
    "            for i in value['activeColumns']:\n",
    "                d.append([i, key])\n",
    "        d.sort()\n",
    "        e = {}\n",
    "        f = []\n",
    "        d.append([-1, -1])\n",
    "        for j in range(1, len(d) - 1):\n",
    "            f.append(d[j][1])\n",
    "            if d[j][0] != d[j + 1][0]:\n",
    "                e[d[j][0]] = f\n",
    "                f = []\n",
    "        self.connections_of_bits_in_input_space_to_columns = e\n",
    "        \n",
    "        \n",
    "    def addInputsToSpatialPooler(self, inputs, multiple = True):\n",
    "        self._inputs = inputs\n",
    "    \n",
    "    def updateColumns(self):\n",
    "        \n",
    "        updatedColumns = self._columns.copy()\n",
    "        self.columnsHistory.append(updatedColumns)\n",
    "\n",
    "        \n",
    "        newColumns = {}\n",
    "\n",
    "        for i in range(0, len(updatedColumns)):\n",
    "            activeColumns = []\n",
    "            for j in range(len(updatedColumns[i]['potentialConnectionsPermanenceValues'])):\n",
    "                if updatedColumns[i]['potentialConnectionsPermanenceValues'][j] > 0.1:\n",
    "                    activeColumns.append(updatedColumns[i]['potentialConnections'][j])\n",
    "\n",
    "            updatedColumns[i]['activeColumns'] = activeColumns\n",
    "            \n",
    "            newColumns[i] = {'potentialConnections': updatedColumns[i]['potentialConnections'],\n",
    "                                'nonConnectedColumns': updatedColumns[i]['nonConnectedColumns'],\n",
    "                                'potentialConnectionsPermanenceValues': updatedColumns[i]['potentialConnectionsPermanenceValues'],\n",
    "                                'activeColumns' : activeColumns}\n",
    "            \n",
    "        self._columns = newColumns.copy()\n",
    "    \n",
    "                \n",
    "    def updateColumnPotentialConnectionsAndReinitialiseColumnToInputSpace(self,inputAndAllColumnsOverlaps):\n",
    "\n",
    "        for i in range(len(inputAndAllColumnsOverlaps)):\n",
    "            for j in range(len(inputAndAllColumnsOverlaps[i]['columnsWithoutOverlap'])):\n",
    "\n",
    "                colNumber = inputAndAllColumnsOverlaps[i]['column']\n",
    "                overlappedBit = inputAndAllColumnsOverlaps[i]['columnsWithoutOverlap'][j]\n",
    "\n",
    "                try:\n",
    "                    ind =  self._columns[i]['potentialConnections'].index(overlappedBit)\n",
    "                except:\n",
    "\n",
    "                    ind = self._columns[i]['nonConnectedColumns'].index(overlappedBit)\n",
    "\n",
    "                self._columns[i]['potentialConnectionsPermanenceValues'][ind] =  self._columns[i]['potentialConnectionsPermanenceValues'][ind] - self._synPermInactiveDec\n",
    "\n",
    "        inputAndAllColumnsOverlaps.sort(key=lambda item: item.get(\"overlap_score\"), reverse = True)\n",
    "        inputAndAllColumnsOverlapsLimitedByActiveColumns = inputAndAllColumnsOverlaps[0:self._numActiveColumnsPerInhArea]\n",
    "\n",
    "        for i in range(len(inputAndAllColumnsOverlapsLimitedByActiveColumns)):\n",
    "            for j in range(len(inputAndAllColumnsOverlapsLimitedByActiveColumns[i]['overlap_bits'])):\n",
    "                colNumber = inputAndAllColumnsOverlapsLimitedByActiveColumns[i]['column']\n",
    "                overlappedBit = inputAndAllColumnsOverlapsLimitedByActiveColumns[i]['overlap_bits'][j]\n",
    "                try:\n",
    "                    ind =  self._columns[i]['potentialConnections'].index(overlappedBit)\n",
    "                except:\n",
    "                    ind = self._columns[i]['nonConnectedColumns'].index(overlappedBit)\n",
    "\n",
    "                self._columns[i]['potentialConnectionsPermanenceValues'][ind] =  self._columns[i]['potentialConnectionsPermanenceValues'][ind] + self._synPermActiveInc\n",
    "\n",
    "        self.updateColumns()    \n",
    "    \n",
    "    def computeOverlapOfInputsAndActiveColumns(self):\n",
    "        timerStart = timer.perf_counter()\n",
    "        for i in range(len(self._inputs)):\n",
    "            inputAndAllColumnsOverlaps = []\n",
    "            for key, value in self._columns.items():\n",
    "                overlap = list(set(value['activeColumns']).intersection(self._inputs[i].active_bits))\n",
    "                nonOverlapped = [j for j in value['activeColumns']  if j not in overlap]\n",
    "                inputAndColumnOverlap = {\"column\": key, \n",
    "                                         \"overlap_score\": len(overlap), \n",
    "                                         \"overlap_bits\": overlap,\n",
    "                                        \"columnsWithoutOverlap\": nonOverlapped}\n",
    "                inputAndAllColumnsOverlaps.append(inputAndColumnOverlap)\n",
    "                \n",
    "            if self._learningIsOn:\n",
    "                self.updateColumnPotentialConnectionsAndReinitialiseColumnToInputSpace(inputAndAllColumnsOverlaps)\n",
    "    \n",
    "        timerEnd = timer.perf_counter()\n",
    "        self.getSummary(summary_type = 3, timeTaken = timerEnd - timerStart)\n",
    "\n",
    "    \n",
    "\n",
    "    \n",
    "    def getSummary(self, summary_type, timeTaken = 0):\n",
    "        print(\"\\n----------------- SUMMARY -------------------------\")\n",
    "        if summary_type == 1:\n",
    "            print(\"|L1| Column space size (numColumns):\", self._numColumns)\n",
    "            print(\"|L2| Input space size (numInputs):\", self._numInputs)\n",
    "            print(\"|L3| Input bits visible to each columns, or receptive field (potentialRadius):\", self._potentialRadius)\n",
    "            print(\"|L4| The percent of the inputs, within a column's potential radius, that a column can be connected to (potentialPct):\", self._potentialPct * 100, \"%\")\n",
    "            print(\"|L5| Global Inhibition is on, meaning winning columns will be selected as the most active columns across the whole region (globalInhibition):\", self._globalInhibition)\n",
    "            print(\"|L6| Density of active columns within inhibition area (numActiveColumnsPerInhArea):\", self._numActiveColumnsPerInhArea)\n",
    "            print(\"|L7| Minimum number of synapses that must be on in order for a columns to turn ON (stimulusThreshold):\", self._stimulusThreshold)\n",
    "            print(\"|L8| Amount by which an inactive synapse is decremented in each time step (synPermInactiveDec):\", self._synPermInactiveDec)\n",
    "            print(\"|L9| Amount by which an active synapse is incremented in each time step (synPermActiveInc):\", self._synPermActiveInc)\n",
    "            print(\"|L10| Any synapse whose permanence value is above this value is a connected synapse (synPermConnected):\", self._synPermConnected)\n",
    "            print(\"|L11| Columns initialised:\", self._columnsInitialised)\n",
    "        elif summary_type == 2:\n",
    "            print(\"|L1| Based on initital paramaters, each of the\", self._numColumns, \"columns in this Spatial Pooler has a potential connection to\", self._potentialPct, \"of bits in the input space\")\n",
    "            print(\"|L1| The values of all potential connection strength are normally distributed between approximately\", np.round(min(self._columns[0]['potentialConnectionsPermanenceValues']), 3),\n",
    "              \"and\", np.round(max(self._columns[0]['potentialConnectionsPermanenceValues']),3))\n",
    "            print(\"|L1| Based on the connection threshold set at\", self._synPermConnected,\",\", len(self._columns[0]['activeColumns']), \"columns will now be active in the Spatial Pooler\")\n",
    "            print(\"|L1| Time elapsed during initialisation:\", np.round(timeTaken,3), \"seconds.\")\n",
    "        elif summary_type == 3:\n",
    "            print(\"|L1| Some metric:\")\n",
    "            print(\"|L1| Time elapsed during initialisation:\", np.round(timeTaken,3), \"seconds.\")\n",
    "\n",
    "            \n",
    "\n",
    "\n",
    "# spatialPoolerSettings = {\n",
    "#    \"inputDimensions\":[2, 128],\n",
    "#    \"columnDimensions\":[2, 512],\n",
    "#    \"potentialRadius\":4,\n",
    "#    \"potentialPct\":0.5,\n",
    "#    \"globalInhibition\":True,\n",
    "#    \"numActiveColumnsPerInhArea\":8.0,\n",
    "#    \"stimulusThreshold\":0,\n",
    "#    \"synPermInactiveDec\":0.008,\n",
    "#    \"synPermActiveInc\":0.05,\n",
    "#    \"synPermConnected\":0.10\n",
    "# }\n",
    "\n",
    "# inputSpaceSparsity = .2\n",
    "# numberOfInputs = 16\n",
    "\n",
    "# inputSpaceSize = np.prod(spatialPoolerSettings['inputDimensions'])\n",
    "# columnSpaceSize = np.prod(spatialPoolerSettings['columnDimensions'])\n",
    "\n",
    "# s1 = SpatialPoolerV3(spatialPoolerSettings)\n",
    "# s1.getSummary(1)\n",
    "# s1.initialiseColumnsToInputSpace()\n",
    "\n",
    "# gymPowerConsumptionInputs = [hc.SDR(inputSpaceSize, int(inputSpaceSparsity * inputSpaceSize), \n",
    "#                                     label=\"input_\" + str(i)) for i in range(0,numberOfInputs)]\n",
    "# s1.addInputsToSpatialPooler(gymPowerConsumptionInputs)\n",
    "# s1.computeOverlapOfInputsAndActiveColumns()\n",
    "# s1.inputs_connected_to_columns"
   ]
  },
  {
   "cell_type": "markdown",
   "metadata": {},
   "source": [
    "Again, there is quite alot to take in there, and the functions in a step by step way. This first thing our spatial pooler will need will be some initial config, let's populate this now: "
   ]
  },
  {
   "cell_type": "markdown",
   "metadata": {},
   "source": [
    "Now let's create our sptial pooler instance, and intitialise the columns to each bit in the input space:"
   ]
  },
  {
   "cell_type": "code",
   "execution_count": 9,
   "metadata": {},
   "outputs": [],
   "source": [
    "spatialPoolerSettings = {\n",
    "   \"inputDimensions\":[2, 128],\n",
    "   \"columnDimensions\":[2, 512],\n",
    "   \"potentialRadius\":4,\n",
    "   \"potentialPct\":0.5,\n",
    "   \"globalInhibition\":True,\n",
    "   \"numActiveColumnsPerInhArea\":8.0,\n",
    "   \"stimulusThreshold\":0,\n",
    "   \"synPermInactiveDec\":0.008,\n",
    "   \"synPermActiveInc\":0.05,\n",
    "   \"synPermConnected\":0.10\n",
    "}\n",
    "\n",
    "inputSpaceSparsity = .2\n",
    "numberOfInputs = 16\n",
    "\n",
    "inputSpaceSize = np.prod(spatialPoolerSettings['inputDimensions'])\n",
    "columnSpaceSize = np.prod(spatialPoolerSettings['columnDimensions'])"
   ]
  },
  {
   "cell_type": "code",
   "execution_count": 10,
   "metadata": {},
   "outputs": [
    {
     "name": "stdout",
     "output_type": "stream",
     "text": [
      "\n",
      "----------------- SUMMARY -------------------------\n",
      "|L1| Column space size (numColumns): 1024\n",
      "|L2| Input space size (numInputs): 256\n",
      "|L3| Input bits visible to each columns, or receptive field (potentialRadius): 256\n",
      "|L4| The percent of the inputs, within a column's potential radius, that a column can be connected to (potentialPct): 50.0 %\n",
      "|L5| Global Inhibition is on, meaning winning columns will be selected as the most active columns across the whole region (globalInhibition): True\n",
      "|L6| Density of active columns within inhibition area (numActiveColumnsPerInhArea): 8\n",
      "|L7| Minimum number of synapses that must be on in order for a columns to turn ON (stimulusThreshold): 0\n",
      "|L8| Amount by which an inactive synapse is decremented in each time step (synPermInactiveDec): 0.008\n",
      "|L9| Amount by which an active synapse is incremented in each time step (synPermActiveInc): 0.05\n",
      "|L10| Any synapse whose permanence value is above this value is a connected synapse (synPermConnected): 0.1\n",
      "|L11| Columns initialised: False\n"
     ]
    }
   ],
   "source": [
    "s1 = SpatialPoolerV3(spatialPoolerSettings)\n",
    "s1.getSummary(1)\n"
   ]
  },
  {
   "cell_type": "markdown",
   "metadata": {},
   "source": [
    "Now let's initialise the columns:"
   ]
  },
  {
   "cell_type": "code",
   "execution_count": 11,
   "metadata": {},
   "outputs": [
    {
     "name": "stdout",
     "output_type": "stream",
     "text": [
      "\n",
      "----------------- SUMMARY -------------------------\n",
      "|L1| Based on initital paramaters, each of the 1024 columns in this Spatial Pooler has a potential connection to 0.5 of bits in the input space\n",
      "|L1| The values of all potential connection strength are normally distributed between approximately 0.07 and 0.137\n",
      "|L1| Based on the connection threshold set at 0.1 , 76 columns will now be active in the Spatial Pooler\n",
      "|L1| Time elapsed during initialisation: 0.67 seconds.\n"
     ]
    }
   ],
   "source": [
    "s1.initialiseColumnsToInputSpace()"
   ]
  },
  {
   "cell_type": "markdown",
   "metadata": {},
   "source": [
    "We can again compare any bit in the input space to its related active columns. Let's run the function to do that. This will tell us for each input bit. "
   ]
  },
  {
   "cell_type": "code",
   "execution_count": 12,
   "metadata": {},
   "outputs": [],
   "source": [
    "s1.compareEachBitInInputSpaceToItsConnectedActiveColumns()"
   ]
  },
  {
   "cell_type": "markdown",
   "metadata": {},
   "source": [
    "Let's again choose a couple of randome values, and just see how it compares"
   ]
  },
  {
   "cell_type": "code",
   "execution_count": 32,
   "metadata": {},
   "outputs": [
    {
     "data": {
      "image/png": "[encoded data removed]",
      "text/plain": [
       "<Figure size 1296x288 with 4 Axes>"
      ]
     },
     "metadata": {
      "needs_background": "light"
     },
     "output_type": "display_data"
    }
   ],
   "source": [
    "\n",
    "# Look at a couple of bits at random in the input space\n",
    "randomBitsInInputSpace = np.random.randint(0, inputSpaceSize, 2)\n",
    "randomBitsInInputSpace \n",
    "\n",
    "# Create axis\n",
    "fig, (ax1, ax2, ax3, ax4) = plt.subplots(1, 4, figsize=(18, 4))\n",
    "\n",
    "ax1 = hc.create_axis_for_sdr(ax1, np.sqrt(inputSpaceSize) + 1, np.sqrt(inputSpaceSize) + 1, \n",
    "                             20, \"Input bit at \" + str(randomBitsInInputSpace[0]))\n",
    "ax2 = hc.create_axis_for_sdr(ax2, np.sqrt(columnSpaceSize) + 1, np.sqrt(columnSpaceSize) + 1, \n",
    "                             20, \"Active columns related to input \" + str(randomBitsInInputSpace[0]))\n",
    "\n",
    "ax3 = hc.create_axis_for_sdr(ax3, np.sqrt(inputSpaceSize) + 1, np.sqrt(inputSpaceSize) + 1, \n",
    "                             20, \"Input bit at \" + str(randomBitsInInputSpace[1]))\n",
    "ax4 = hc.create_axis_for_sdr(ax4, np.sqrt(columnSpaceSize) + 1, np.sqrt(columnSpaceSize) + 1, \n",
    "                             20, \"Active columns related to input \" + str(randomBitsInInputSpace[1]))\n",
    "\n",
    "# Convert bits to coordinates for visualiation \n",
    "coords1 = hc.convert_sdr_to_tuple_for_visualisation([randomBitsInInputSpace[0]], inputSpaceSize)\n",
    "coords2 = hc.convert_sdr_to_tuple_for_visualisation(s1.connections_of_bits_in_input_space_to_columns[randomBitsInInputSpace[0]], columnSpaceSize)\n",
    "coords3 = hc.convert_sdr_to_tuple_for_visualisation([randomBitsInInputSpace[1]], inputSpaceSize)\n",
    "coords4 = hc.convert_sdr_to_tuple_for_visualisation(s1.connections_of_bits_in_input_space_to_columns[randomBitsInInputSpace[1]], columnSpaceSize)\n",
    "\n",
    "# Plot the points\n",
    "p = [ax1.add_patch(Rectangle(coords1[i], 1, 1, color = \"blue\")) for i in range(len(coords1))]\n",
    "p = [ax2.add_patch(Rectangle(coords2[i], 1, 1, color = \"#b30000\")) for i in range(len(coords2))]\n",
    "p = [ax3.add_patch(Rectangle(coords3[i], 1, 1, color = \"blue\")) for i in range(len(coords3))]\n",
    "p = [ax4.add_patch(Rectangle(coords4[i], 1, 1, color = \"#b30000\")) for i in range(len(coords4))]\n"
   ]
  },
  {
   "cell_type": "markdown",
   "metadata": {},
   "source": [
    "Next step, place our gym power consumption data in an encoder: "
   ]
  },
  {
   "cell_type": "code",
   "execution_count": 14,
   "metadata": {},
   "outputs": [],
   "source": [
    "gymPowerConsumptionInputs = [hc.SDR(inputSpaceSize, int(inputSpaceSparsity * inputSpaceSize), \n",
    "                                    label=\"input_\" + str(i)) for i in range(0,numberOfInputs)]\n"
   ]
  },
  {
   "cell_type": "markdown",
   "metadata": {},
   "source": [
    "So we now have semantically related data points, for each time step in the power consumption data. Let's get a summary of that first SDR"
   ]
  },
  {
   "cell_type": "code",
   "execution_count": 15,
   "metadata": {},
   "outputs": [],
   "source": [
    "# create enclder"
   ]
  },
  {
   "cell_type": "code",
   "execution_count": 16,
   "metadata": {},
   "outputs": [
    {
     "name": "stdout",
     "output_type": "stream",
     "text": [
      "----------------- SUMMARY -------------------------\n",
      "|L1| Label: input_0\n",
      "|L1| Input space size of SDR: 256\n",
      "|L2| Number of active bits in SDR: 51\n",
      "|L3| Percentage of active bits: 19.921875 %\n",
      "|L3| Active bits: [2, 131, 132, 3, 139, 143, 18, 148, 26, 158, 32, 36, 38, 170, 172, 176, 177, 48, 52, 53, 182, 183, 56, 185, 58, 59, 60, 61, 195, 68, 202, 76, 206, 80, 209, 87, 218, 98, 99, 101, 229, 232, 106, 235, 108, 112, 243, 117, 119, 126, 255]\n"
     ]
    }
   ],
   "source": [
    "gymPowerConsumptionInputs[0].get_summary()"
   ]
  },
  {
   "cell_type": "markdown",
   "metadata": {},
   "source": [
    "Now add these inputs into our spatial pooler:"
   ]
  },
  {
   "cell_type": "code",
   "execution_count": 17,
   "metadata": {},
   "outputs": [],
   "source": [
    "s1.addInputsToSpatialPooler(gymPowerConsumptionInputs)"
   ]
  },
  {
   "cell_type": "markdown",
   "metadata": {},
   "source": [
    "Now let's compute overlapOf inputs. This time we are going to have learningIsOn set to True"
   ]
  },
  {
   "cell_type": "code",
   "execution_count": 18,
   "metadata": {},
   "outputs": [
    {
     "name": "stdout",
     "output_type": "stream",
     "text": [
      "\n",
      "----------------- SUMMARY -------------------------\n",
      "|L1| Some metric:\n",
      "|L1| Time elapsed during initialisation: 0.751 seconds.\n"
     ]
    }
   ],
   "source": [
    "s1.computeOverlapOfInputsAndActiveColumns()"
   ]
  },
  {
   "cell_type": "markdown",
   "metadata": {},
   "source": [
    "So what is this telling us, and what metrics should we use to understand it: \n",
    "\n"
   ]
  },
  {
   "cell_type": "markdown",
   "metadata": {},
   "source": [
    "So what have we done here in this last function? Well, we went through each input, compared the overlap to the columns. We then incremented where we found an overlap and decremented where we found no overlap. \n",
    "\n",
    "We also took a complete history of the columns so we can see how they there permanances changed when each input was provided. This history can tell us alot. We would expect to see: \n",
    "\n",
    "- No change in nonConnected columns over time\n",
    "- changes in decrement increment of potential pool\n",
    "- slight changes in the active columns\n",
    "\n",
    "Let's start by checking how many we have 16 inputs in our history:"
   ]
  },
  {
   "cell_type": "code",
   "execution_count": 19,
   "metadata": {},
   "outputs": [
    {
     "data": {
      "text/plain": [
       "16"
      ]
     },
     "execution_count": 19,
     "metadata": {},
     "output_type": "execute_result"
    }
   ],
   "source": [
    "len(s1.columnsHistory)"
   ]
  },
  {
   "cell_type": "markdown",
   "metadata": {},
   "source": [
    "For each input, we can look at every single column and check that the number of non connected columns never changes. This is the case:"
   ]
  },
  {
   "cell_type": "code",
   "execution_count": 20,
   "metadata": {},
   "outputs": [
    {
     "data": {
      "text/plain": [
       "array([128])"
      ]
     },
     "execution_count": 20,
     "metadata": {},
     "output_type": "execute_result"
    }
   ],
   "source": [
    "np.unique([len(s1.columnsHistory[i][j]['nonConnectedColumns']) for i in range(0, numberOfInputs) for j in range(0, inputSpaceSize)])"
   ]
  },
  {
   "cell_type": "markdown",
   "metadata": {},
   "source": [
    "This is good, now let's put out columns into a slightly different form, so we can look at a single's columns history: "
   ]
  },
  {
   "cell_type": "code",
   "execution_count": 21,
   "metadata": {},
   "outputs": [],
   "source": [
    "def getColumHistorySummary(columsHistory, columnChoice, inputCount):\n",
    "    activeColumnHistory = [columsHistory[i][columnChoice]['activeColumns'] for i in range(0, inputCount)]\n",
    "    history = []\n",
    "    for j in range(0, len(activeColumnHistory) - 1):\n",
    "        columnHistoryConnectionsAndDisconnections = {}\n",
    "\n",
    "        currentColumnSynapses, nextColumnSynapses, = set(activeColumnHistory[j]), set(activeColumnHistory[j + 1])\n",
    "        columnHistoryConnectionsAndDisconnections[\"newlyDisconnectedSynapses\"] = list(currentColumnSynapses - nextColumnSynapses)\n",
    "        columnHistoryConnectionsAndDisconnections[\"newlyConnectedSynapses\"] = list(nextColumnSynapses - currentColumnSynapses)\n",
    "        unchangedSynapses = np.sort(list(nextColumnSynapses - set(columnHistoryConnectionsAndDisconnections[\"newlyConnectedSynapses\"])))\n",
    "\n",
    "        columnHistoryConnectionsAndDisconnections[\"unchangedSynapses\"] = np.sort(list(nextColumnSynapses - set(columnHistoryConnectionsAndDisconnections[\"newlyConnectedSynapses\"])))\n",
    "        columnHistoryConnectionsAndDisconnections[\"timeStep\"] = j + 1\n",
    "        history.append(columnHistoryConnectionsAndDisconnections)\n",
    "\n",
    "    return(history)"
   ]
  },
  {
   "cell_type": "code",
   "execution_count": 28,
   "metadata": {},
   "outputs": [
    {
     "data": {
      "image/png": "[encoded data removed]",
      "text/plain": [
       "<Figure size 1296x576 with 8 Axes>"
      ]
     },
     "metadata": {
      "needs_background": "light"
     },
     "output_type": "display_data"
    }
   ],
   "source": [
    "columnChoice = 5\n",
    "\n",
    "singleColumnHistory = getColumHistorySummary(s1.columnsHistory, columnChoice, 16)\n",
    "\n",
    "fig, axes = plt.subplots(nrows=2, ncols=4, figsize=(18, 8))\n",
    "\n",
    "startingTimeStep = 1\n",
    "\n",
    "for index, item in enumerate(fig.axes):\n",
    "    \n",
    "    hc.create_axis_for_sdr(item, np.sqrt(inputSpaceSize) + 1, np.sqrt(inputSpaceSize) + 1, \n",
    "                             20, \"Column \" + str(columnChoice) + \", Timestep \" + str(index + startingTimeStep))\n",
    "    \n",
    "    coords1 = hc.convert_sdr_to_tuple_for_visualisation(singleColumnHistory[index + startingTimeStep]['unchangedSynapses'], inputSpaceSize)\n",
    "    coords2 = hc.convert_sdr_to_tuple_for_visualisation(singleColumnHistory[index + startingTimeStep]['newlyConnectedSynapses'], inputSpaceSize)\n",
    "    coords3 = hc.convert_sdr_to_tuple_for_visualisation(singleColumnHistory[index + startingTimeStep]['newlyDisconnectedSynapses'], inputSpaceSize)\n",
    "    \n",
    "    p = [item.add_patch(Circle(hc.offset_coords_for_visualisation(coords1[i], .5), .2, color = \"blue\")) for i in range(len(coords1))]\n",
    "    p = [item.add_patch(Circle(hc.offset_coords_for_visualisation(coords2[i], .5), .2, color = \"cyan\")) for i in range(len(coords2))]\n",
    "    p = [item.add_patch(Circle(hc.offset_coords_for_visualisation(coords3[i], .5), .2, color = \"red\", fill=False)) for i in range(len(coords3))]\n",
    "\n"
   ]
  },
  {
   "cell_type": "code",
   "execution_count": null,
   "metadata": {},
   "outputs": [],
   "source": []
  }
 ],
 "metadata": {
  "kernelspec": {
   "display_name": "Python 3",
   "language": "python",
   "name": "python3"
  },
  "language_info": {
   "codemirror_mode": {
    "name": "ipython",
    "version": 3
   },
   "file_extension": ".py",
   "mimetype": "text/x-python",
   "name": "python",
   "nbconvert_exporter": "python",
   "pygments_lexer": "ipython3",
   "version": "3.9.2"
  }
 },
 "nbformat": 4,
 "nbformat_minor": 4
}
