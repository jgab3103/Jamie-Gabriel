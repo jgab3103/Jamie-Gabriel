{
 "cells": [
  {
   "cell_type": "markdown",
   "metadata": {},
   "source": [
    "<i>STATUS: Draft<i>"
   ]
  },
  {
   "cell_type": "code",
   "execution_count": 2,
   "metadata": {},
   "outputs": [],
   "source": [
    "import numpy as np\n",
    "import sympy as sp\n",
    "from IPython.display import HTML\n",
    "import matplotlib.pyplot as plt\n",
    "from matplotlib import animation\n",
    "from matplotlib.patches import Rectangle, Circle, ConnectionPatch\n",
    "from IPython.display import Image\n",
    "import sys\n",
    "import pandas as pd\n",
    "import HTM_Code as hc\n",
    "import colorsys\n",
    "import time as timer\n",
    "\n",
    "# HTM INPUTS\n",
    "import htm.bindings.encoders\n",
    "ScalarEncoder           = htm.bindings.encoders.ScalarEncoder\n",
    "ScalarEncoderParameters = htm.bindings.encoders.ScalarEncoderParameters\n",
    "\n",
    "import numpy as np\n",
    "from htm.bindings.sdr import SDR, Metrics\n",
    "import argparse\n",
    "import textwrap\n",
    "from sys import exit, modules"
   ]
  },
  {
   "cell_type": "markdown",
   "metadata": {},
   "source": [
    "Before we start to get into Spatial Pooler. In this one, we will create a third version. We are going to really start to see as we work with an actual example, the hit on performance. We will get through this, but I will then start introducing htm.core for encoders and spatial Pooler, so we can speed things up"
   ]
  },
  {
   "cell_type": "markdown",
   "metadata": {},
   "source": [
    "So we are really starting to see a time lag now.\n"
   ]
  },
  {
   "cell_type": "code",
   "execution_count": 88,
   "metadata": {},
   "outputs": [],
   "source": [
    "parameters = ScalarEncoderParameters()\n",
    "#parameters.resolution = .88\n",
    "\n",
    "parameters.activeBits = 8\n",
    "parameters.sparsity = 0\n",
    "\n",
    "parameters.size = 720\n",
    "parameters.radius = 0\n",
    "parameters.resolution = 0\n",
    "parameters.category = 0\n",
    "\n",
    "parameters.minimum = 0\n",
    "parameters.maximum = 800\n",
    "\n",
    "parameters.periodic = False\n",
    "parameters.clipInput = True"
   ]
  },
  {
   "cell_type": "code",
   "execution_count": 89,
   "metadata": {},
   "outputs": [],
   "source": [
    "enc = ScalarEncoder( parameters )\n",
    "n_samples = (enc.parameters.maximum - enc.parameters.minimum) / enc.parameters.resolution\n",
    "oversample = 2 # Use more samples than needed to avoid aliasing & artifacts.\n",
    "n_samples  = int(round( oversample * n_samples ))"
   ]
  },
  {
   "cell_type": "code",
   "execution_count": 90,
   "metadata": {},
   "outputs": [],
   "source": [
    "sdrs = []\n",
    "for i in np.linspace(enc.parameters.minimum, enc.parameters.maximum, n_samples):\n",
    "    sdrs.append( enc.encode( i ) )"
   ]
  },
  {
   "cell_type": "code",
   "execution_count": 91,
   "metadata": {},
   "outputs": [],
   "source": [
    "M = Metrics( [enc.size], len(sdrs) + 1 )\n",
    "for s in sdrs:\n",
    "    M.addData(s)"
   ]
  },
  {
   "cell_type": "code",
   "execution_count": 92,
   "metadata": {},
   "outputs": [
    {
     "name": "stdout",
     "output_type": "stream",
     "text": [
      "Statistics:\n",
      "Encoded 1424 inputs.\n",
      "Output SDR( 720 )\n",
      "    Sparsity Min/Mean/Std/Max 0.0111111 / 0.0111111 / 7.849e-08 / 0.0111111\n",
      "    Activation Frequency Min/Mean/Std/Max 0.000702246 / 0.0111112 / 0.000957042 / 0.011236\n",
      "    Entropy 0.998983\n",
      "    Overlap Min/Mean/Std/Max 0.875 / 0.937456 / 0.0625 / 1\n"
     ]
    }
   ],
   "source": [
    "print(\"Statistics:\")\n",
    "print(\"Encoded %d inputs.\"%len(sdrs))\n",
    "print(\"Output \" + str(M))"
   ]
  },
  {
   "cell_type": "code",
   "execution_count": 93,
   "metadata": {},
   "outputs": [
    {
     "data": {
      "image/png": "[encoded data removed]",
      "text/plain": [
       "<Figure size 432x288 with 1 Axes>"
      ]
     },
     "metadata": {
      "needs_background": "light"
     },
     "output_type": "display_data"
    }
   ],
   "source": [
    "rf = np.zeros([ enc.size, len(sdrs) ], dtype=np.uint8)\n",
    "for i in range(len(sdrs)):\n",
    "  rf[ :, i ] = sdrs[i].dense\n",
    "plt.imshow(rf, interpolation='nearest')\n",
    "plt.title( \"ScalarEncoder Receptive Fields\")\n",
    "plt.ylabel(\"Cell Number\")\n",
    "plt.xlabel(\"Input Value\")\n",
    "n_ticks = 11\n",
    "plt.xticks( np.linspace(0, len(sdrs)-1, n_ticks),\n",
    "          np.linspace(enc.parameters.minimum, enc.parameters.maximum, n_ticks))\n",
    "plt.show()"
   ]
  },
  {
   "cell_type": "code",
   "execution_count": null,
   "metadata": {},
   "outputs": [],
   "source": []
  },
  {
   "cell_type": "code",
   "execution_count": null,
   "metadata": {},
   "outputs": [],
   "source": []
  },
  {
   "cell_type": "code",
   "execution_count": null,
   "metadata": {},
   "outputs": [],
   "source": [
    "\n",
    "#parameters.categoray   = args.category\n",
    "\n",
    "    # Try initializing the encoder.\n",
    "    try:\n",
    "        enc = ScalarEncoder( parameters )\n",
    "    except RuntimeError as error:\n",
    "        print(\"\")\n",
    "        print(error)\n",
    "        print(\"\")\n",
    "        parser.print_usage()\n",
    "        exit()"
   ]
  }
 ],
 "metadata": {
  "kernelspec": {
   "display_name": "Python 3",
   "language": "python",
   "name": "python3"
  },
  "language_info": {
   "codemirror_mode": {
    "name": "ipython",
    "version": 3
   },
   "file_extension": ".py",
   "mimetype": "text/x-python",
   "name": "python",
   "nbconvert_exporter": "python",
   "pygments_lexer": "ipython3",
   "version": "3.9.2"
  }
 },
 "nbformat": 4,
 "nbformat_minor": 4
}
